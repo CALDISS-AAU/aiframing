{
 "cells": [
  {
   "cell_type": "code",
   "execution_count": 1,
   "metadata": {},
   "outputs": [],
   "source": [
    "import pandas as pd\n",
    "from nltk.corpus import stopwords\n",
    "from nltk.stem import WordNetLemmatizer\n",
    "# Language Processing (Gensim)\n",
    "import warnings\n",
    "warnings.filterwarnings(action='ignore', category=UserWarning, module='gensim')\n",
    "\n",
    "# Dictionary & Corpora\n",
    "from gensim.corpora.dictionary import Dictionary\n",
    "from gensim.models.tfidfmodel import TfidfModel\n",
    "\n",
    "from gensim.models.ldamodel import LdaModel\n",
    "\n"
   ]
  },
  {
   "cell_type": "code",
   "execution_count": 2,
   "metadata": {},
   "outputs": [],
   "source": [
    "mckinsey = pd.read_csv ('mckin_textdf.csv')"
   ]
  },
  {
   "cell_type": "code",
   "execution_count": 3,
   "metadata": {},
   "outputs": [],
   "source": [
    "ey = pd.read_csv ('ey_textdf.csv')"
   ]
  },
  {
   "cell_type": "code",
   "execution_count": 4,
   "metadata": {},
   "outputs": [],
   "source": [
    "bcg = pd.read_csv ('bcg_textdf.csv')"
   ]
  },
  {
   "cell_type": "code",
   "execution_count": 5,
   "metadata": {},
   "outputs": [],
   "source": [
    "aidata = pd.concat([mckinsey, ey, bcg])"
   ]
  },
  {
   "cell_type": "code",
   "execution_count": 6,
   "metadata": {},
   "outputs": [
    {
     "name": "stdout",
     "output_type": "stream",
     "text": [
      "                                                title  \\\n",
      "0   \\r\\n\\tEmbracing technological social responsib...   \n",
      "1   \\r\\n\\tCapability building: Bridging the gap be...   \n",
      "2           \\r\\n\\tConfronting AI risks | McKinsey\\r\\n   \n",
      "3   \\r\\n\\tThe value AI can bring to your business ...   \n",
      "4   \\r\\n\\tTackling bias in artificial intelligence...   \n",
      "5   \\r\\n\\tArtificial intelligence in business | Mc...   \n",
      "6   \\r\\n\\tThe real-world potential and limitations...   \n",
      "7   \\r\\n\\tLeading your organization to responsible...   \n",
      "8   \\r\\n\\tThe ethics of artificial intelligence | ...   \n",
      "9   \\r\\n\\tAI adoption: Why a digital base is criti...   \n",
      "10  \\r\\n\\tAI in Europe: Tackling the gap | McKinse...   \n",
      "11   \\r\\n\\tApplying AI for social good | McKinsey\\r\\n   \n",
      "12  \\r\\n\\tModeling the global economic impact of A...   \n",
      "13  \\r\\n\\tSizing the potential value of AI and adv...   \n",
      "14  \\r\\n\\tCompeting in the AI economy: An intervie...   \n",
      "15  \\r\\n\\tThomas L. Friedman: The world’s gone fro...   \n",
      "16  \\r\\n\\tKai-Fu Lee’s perspectives on two global ...   \n",
      "17  \\r\\n\\tHow artificial intelligence and data add...   \n",
      "18  \\r\\n\\tAI looks North: Bridging Canada’s corpor...   \n",
      "19  \\r\\n\\tArtificial intelligence: Implications fo...   \n",
      "20  \\r\\n\\tWhat Southeast Asia needs to become a ma...   \n",
      "21  \\r\\n\\tAI hardware: Value creation for semicond...   \n",
      "22  \\r\\n\\tAI, automation, and the future of work: ...   \n",
      "23  \\r\\n\\tMachine learning financial risk manageme...   \n",
      "24  \\r\\n\\tHow China’s fintechs serve the underserv...   \n",
      "25           \\r\\n\\tAI in public sector | McKinsey\\r\\n   \n",
      "0   How digital transformation helped benefit fans...   \n",
      "1   Six ways the CFO can use artificial intelligen...   \n",
      "2         How can risk foresight lead to AI insight?    \n",
      "3   As data personalizes medtech, how will you ser...   \n",
      "..                                                ...   \n",
      "83  How the 3D printing revolution could transform...   \n",
      "84  How regulatory \"sandboxes\" facilitate optimal ...   \n",
      "85  How collaborating with AI can help meet health...   \n",
      "86  How can you disrupt risk in an era of digital ...   \n",
      "87  What’s the right dose of AI to revitalize heal...   \n",
      "88  How research and development is being augmente...   \n",
      "89       How AI will enable us to work smarter faster   \n",
      "90  How digital agriculture and big data will help...   \n",
      "91  How artificial intelligence can enhance your l...   \n",
      "92  How Robotics and AI could transform the world ...   \n",
      "0   Myth vs. Reality in Artificial Intelligence | ...   \n",
      "1        How to Win with Artificial Intelligence (AI)   \n",
      "2   The Next Frontier in Digital and AI Transforma...   \n",
      "3   How AI Could Help—or Hinder—Women in the Workf...   \n",
      "4   At Anheuser-Busch InBev, Artificial Intelligen...   \n",
      "5   What's Holding Back Artificial Intelligence - ...   \n",
      "6                     The Build-or-Buy Dilemma in AI    \n",
      "7                     The Big Leap Toward AI at Scale   \n",
      "8   How Artificial Intelligence (AI) Will Reshape ...   \n",
      "9   AI in the Factory of the Future: The Ghost in ...   \n",
      "10  Thriving in the Augmented Age: A Conversation ...   \n",
      "11  How AI and Robotics Will Disrupt the Defense I...   \n",
      "12  Is Your Business Ready for Artificial Intellig...   \n",
      "13            Putting Artificial Intelligence to Work   \n",
      "14  Killer Apps and the Game-Changing Potential of AI   \n",
      "15    Competing in the Age of Artificial Intelligence   \n",
      "16  The Integrated Strategy Machine: Using AI to C...   \n",
      "17       Raffaello D’Andrea on the Future of Robotics   \n",
      "18  Looking into the Future of Artificial Intellig...   \n",
      "19    Powering the Service Economy with Robots and AI   \n",
      "\n",
      "                                                 text  \n",
      "0    in 1953 us senators grilled general motors ce...  \n",
      "1    the rise of artificial intelligence ai is one...  \n",
      "2    artificial intelligence ai is proving to be a...  \n",
      "3                                                      \n",
      "4    the growing use of artificial intelligence in...  \n",
      "5                                                      \n",
      "6    in this episode of the mckinsey podcast mckin...  \n",
      "7    ceos often live by the numbers —profit earnin...  \n",
      "8    click on time stamps in the transcript to lis...  \n",
      "9    the diffusion of a new technology whether atm...  \n",
      "10   on many metrics the european economy and its ...  \n",
      "11   artificial intelligence ai has the potential ...  \n",
      "12   the role of artificial intelligence ai tools ...  \n",
      "13   artificial intelligence ai stands out as a tr...  \n",
      "14   its not just some faroff dream anymore the pr...  \n",
      "15   the new york times foreign affairs columnist ...  \n",
      "16   artificial intelligence ai is advancing at a ...  \n",
      "17   artificial intelligence ai is at the cutting ...  \n",
      "18   from high tech to retail from mining to trans...  \n",
      "19   artificial intelligence or the idea that comp...  \n",
      "20   artificial intelligence ai is still in its ea...  \n",
      "21   software has been the star of high tech over ...  \n",
      "22   automation and artificial intelligence ai are...  \n",
      "23   machine learning and artificial intelligence ...  \n",
      "24   perhaps no market is more ripe with opportuni...  \n",
      "25   as artificial intelligence ai and machine lea...  \n",
      "0    the better the question the better the answer...  \n",
      "1    9 minute read 19 sep 2019 link copied six way...  \n",
      "2    how can risk foresight lead to ai insight cat...  \n",
      "3    as data personalizes medtech how will you ser...  \n",
      "..                                                ...  \n",
      "83   4 minute read 29 mar 2018 link copied how the...  \n",
      "84   7 minute read 5 mar 2018 link copied how regu...  \n",
      "85   4 minute read 2 feb 2018 link copied how coll...  \n",
      "86   how can you disrupt risk in an era of digital...  \n",
      "87   whats the right dose of ai to revitalize heal...  \n",
      "88   4 minute read 16 aug 2017 link copied how rd ...  \n",
      "89   4 minute read 7 jun 2017 link copied how ai w...  \n",
      "90   8 minute read 23 feb 2017 link copied how dig...  \n",
      "91   5 minute read 12 oct 2017 link copied how art...  \n",
      "92   10 minute read 25 may 2017 link copied how ro...  \n",
      "0    this infographic is based on artificial intel...  \n",
      "1    october 15 2019 by shervin khodabandeh ronny ...  \n",
      "2    april 18 2019 by philipp gerbert janhinnerk m...  \n",
      "3    related expertise diversity inclusion people ...  \n",
      "4    as artificial intelligence ai goes mainstream...  \n",
      "5    this infographic is based on a survey of 3000...  \n",
      "6    january 4 2018 by philipp gerbert sylvain dur...  \n",
      "7    june 13 2018 by philipp gerbert sukand ramach...  \n",
      "8    april 26 2018 by martin reeves kaifu lee is t...  \n",
      "9    related expertise industry 40 cost efficiency...  \n",
      "10   a conversation with moonshot thinker maurice ...  \n",
      "11   related expertise aerospace defense digital t...  \n",
      "12   september 6 2017 by philipp gerbert martin re...  \n",
      "13   september 28 2017 by philipp gerbert martin h...  \n",
      "14   june 7 2016 artificial intelligence has achie...  \n",
      "15   january 16 2017 by philipp gerbert jan justus...  \n",
      "16   april 19 2016 by martin reeves daichi ueda ph...  \n",
      "17   january 20 2015 raffaello dandreas robots can...  \n",
      "18   january 4 2017 jürgen schmidhuber the scienti...  \n",
      "19   robotic process automation rpa and artificial...  \n",
      "\n",
      "[139 rows x 2 columns]\n"
     ]
    }
   ],
   "source": [
    "print(aidata)"
   ]
  },
  {
   "cell_type": "code",
   "execution_count": 7,
   "metadata": {
    "scrolled": true
   },
   "outputs": [
    {
     "name": "stdout",
     "output_type": "stream",
     "text": [
      "0     in 1953 us senators grilled general motors ce...\n",
      "1     the rise of artificial intelligence ai is one...\n",
      "2     artificial intelligence ai is proving to be a...\n",
      "3                                                     \n",
      "4     the growing use of artificial intelligence in...\n",
      "Name: text, dtype: object\n"
     ]
    }
   ],
   "source": [
    "print(mckinsey['text'][:5])"
   ]
  },
  {
   "cell_type": "code",
   "execution_count": 8,
   "metadata": {},
   "outputs": [
    {
     "name": "stdout",
     "output_type": "stream",
     "text": [
      "<class 'pandas.core.frame.DataFrame'>\n",
      "Int64Index: 139 entries, 0 to 19\n",
      "Data columns (total 2 columns):\n",
      "title    139 non-null object\n",
      "text     139 non-null object\n",
      "dtypes: object(2)\n",
      "memory usage: 3.3+ KB\n"
     ]
    }
   ],
   "source": [
    "aidata.info()"
   ]
  },
  {
   "cell_type": "code",
   "execution_count": 9,
   "metadata": {},
   "outputs": [
    {
     "name": "stdout",
     "output_type": "stream",
     "text": [
      "<class 'pandas.core.frame.DataFrame'>\n",
      "RangeIndex: 26 entries, 0 to 25\n",
      "Data columns (total 2 columns):\n",
      "title    26 non-null object\n",
      "text     26 non-null object\n",
      "dtypes: object(2)\n",
      "memory usage: 496.0+ bytes\n"
     ]
    }
   ],
   "source": [
    "mckinsey.info()"
   ]
  },
  {
   "cell_type": "code",
   "execution_count": 10,
   "metadata": {},
   "outputs": [
    {
     "name": "stdout",
     "output_type": "stream",
     "text": [
      "<class 'pandas.core.frame.DataFrame'>\n",
      "RangeIndex: 20 entries, 0 to 19\n",
      "Data columns (total 2 columns):\n",
      "title    20 non-null object\n",
      "text     20 non-null object\n",
      "dtypes: object(2)\n",
      "memory usage: 400.0+ bytes\n"
     ]
    }
   ],
   "source": [
    "bcg.info()"
   ]
  },
  {
   "cell_type": "code",
   "execution_count": 11,
   "metadata": {},
   "outputs": [
    {
     "name": "stdout",
     "output_type": "stream",
     "text": [
      "<class 'pandas.core.frame.DataFrame'>\n",
      "RangeIndex: 93 entries, 0 to 92\n",
      "Data columns (total 2 columns):\n",
      "title    93 non-null object\n",
      "text     93 non-null object\n",
      "dtypes: object(2)\n",
      "memory usage: 1.5+ KB\n"
     ]
    }
   ],
   "source": [
    "ey.info()"
   ]
  },
  {
   "cell_type": "code",
   "execution_count": 12,
   "metadata": {},
   "outputs": [
    {
     "name": "stdout",
     "output_type": "stream",
     "text": [
      "                                                title  \\\n",
      "0   How digital transformation helped benefit fans...   \n",
      "1   Six ways the CFO can use artificial intelligen...   \n",
      "2         How can risk foresight lead to AI insight?    \n",
      "3   As data personalizes medtech, how will you ser...   \n",
      "4          How will robots make buildings more human?   \n",
      "5   How to optimize your intelligent automation build   \n",
      "6   How to trust the machine: using AI to combat m...   \n",
      "7   How to give a flying start to your intelligent...   \n",
      "8                      How to build the digital state   \n",
      "9   Three ways AI will transform the insurance ind...   \n",
      "10          How AI is transforming business right now   \n",
      "11                 How AI is automating intelligently   \n",
      "12  How a fit tax function functions like a health...   \n",
      "13       Is AI the start of the truly creative human?   \n",
      "14  How AI can help defense organizations become s...   \n",
      "15     How AI and robotics may change tax job duties    \n",
      "16  How organizations can calibrate to trust IoT s...   \n",
      "17  Why success with AI in the audit starts with a...   \n",
      "18  How digitalization can streamline oil and gas ...   \n",
      "19  Does AI have the power to refine oil and gas e...   \n",
      "20  Is the next big thing in manufacturing, the mo...   \n",
      "21                 Blind curve or ahead of the curve?   \n",
      "22  When your board champions AI, will you win the...   \n",
      "23                           How to bank the unbanked   \n",
      "24  How to inspire confidence in the Transformativ...   \n",
      "25  How IoT could power the future and what could ...   \n",
      "26  How AI looks to upend the tax function’s 80/20...   \n",
      "27                What is intelligence without trust?   \n",
      "28  How does digital government become better gove...   \n",
      "29            How to keep it human in the machine age   \n",
      "..                                                ...   \n",
      "63  How a new approach to standard practice is ins...   \n",
      "64  How innovation in the audit is helping busines...   \n",
      "65  How RPA can improve efficiency and employee en...   \n",
      "66  Why digital asset management is a fundamental ...   \n",
      "67  How building trust is crucial for business tra...   \n",
      "68  Is your portfolio fit for the future or fashio...   \n",
      "69  Why PE firms must look beyond finance to drive...   \n",
      "70  The Disrupters: How banks can help to track th...   \n",
      "71       Can robots help your business be more human?   \n",
      "72  Why tax workers and robots should be teammates...   \n",
      "73  How gamification could take investor experienc...   \n",
      "74  How digital disruption is driving the evolutio...   \n",
      "75  How companies can keep the human touch in the ...   \n",
      "76  What smart speakers can teach board members ab...   \n",
      "77  In a digital world, how can being more human b...   \n",
      "78     Why AI is both a risk and a way to manage risk   \n",
      "79  How agile finance can provide the fuel to driv...   \n",
      "80  How the Transformative Age is changing how we ...   \n",
      "81  Does your brand reflect the composition of you...   \n",
      "82  Your customers are trying to text you somethin...   \n",
      "83  How the 3D printing revolution could transform...   \n",
      "84  How regulatory \"sandboxes\" facilitate optimal ...   \n",
      "85  How collaborating with AI can help meet health...   \n",
      "86  How can you disrupt risk in an era of digital ...   \n",
      "87  What’s the right dose of AI to revitalize heal...   \n",
      "88  How research and development is being augmente...   \n",
      "89       How AI will enable us to work smarter faster   \n",
      "90  How digital agriculture and big data will help...   \n",
      "91  How artificial intelligence can enhance your l...   \n",
      "92  How Robotics and AI could transform the world ...   \n",
      "\n",
      "                                                 text  \n",
      "0    the better the question the better the answer...  \n",
      "1    9 minute read 19 sep 2019 link copied six way...  \n",
      "2    how can risk foresight lead to ai insight cat...  \n",
      "3    as data personalizes medtech how will you ser...  \n",
      "4    how will robots make buildings more human sel...  \n",
      "5    3 minute read 17 sep 2019 link copied how to ...  \n",
      "6    10 minute read 3 sep 2019 link copied how to ...  \n",
      "7    3 minute read 17 sep 2019 link copied how to ...  \n",
      "8    12 minute read 26 aug 2019 link copied how to...  \n",
      "9    7 minute read 23 aug 2019 link copied three w...  \n",
      "10   10 minute read 8 aug 2019 link copied how ai ...  \n",
      "11   5 minute read 29 jul 2019 link copied how ai ...  \n",
      "12   10 minute read 15 jul 2019 link copied how a ...  \n",
      "13   is ai the start of the truly creative human n...  \n",
      "14   7 minute read 8 jul 2019 link copied how ai c...  \n",
      "15   10 minute read 2 jul 2019 link copied how ai ...  \n",
      "16   5 minute read 21 jun 2019 link copied how org...  \n",
      "17   4 minute read 17 jun 2019 link copied why suc...  \n",
      "18   how digitalization can streamline oil and gas...  \n",
      "19   does ai have the power to refine oil and gas ...  \n",
      "20   is the next big thing in manufacturing the mo...  \n",
      "21   blind curve or ahead of the curve tobias schu...  \n",
      "22   when your board champions ai will you win the...  \n",
      "23   how to bank the unbanked play video 5 minute ...  \n",
      "24   5 minute read 1 may 2019 link copied how to i...  \n",
      "25   5 minute read 29 apr 2019 link copied how iot...  \n",
      "26   8 minute read 17 apr 2019 link copied how ai ...  \n",
      "27   what is intelligence without trust authors ni...  \n",
      "28   how does digital government become better gov...  \n",
      "29   5 minute read 10 apr 2019 link copied how to ...  \n",
      "..                                                ...  \n",
      "63   the better the question the better the answer...  \n",
      "64   4 minute read 18 jun 2018 link copied how inn...  \n",
      "65   the better the question the better the answer...  \n",
      "66   4 minute read 7 jun 2018 link copied why digi...  \n",
      "67   the better the question the better the answer...  \n",
      "68   is your portfolio fit for the future or fashi...  \n",
      "69   5 minute read 7 jun 2018 link copied why pe f...  \n",
      "70   the disrupters how banks can help to track th...  \n",
      "71   can robots help your business be more human e...  \n",
      "72   5 minute read 26 apr 2018 link copied why tax...  \n",
      "73   4 minute read 4 apr 2018 link copied how gami...  \n",
      "74   5 minute read 7 jun 2018 link copied how digi...  \n",
      "75   4 minute read 17 may 2018 link copied how com...  \n",
      "76   3 minute read 26 apr 2018 link copied what sm...  \n",
      "77   in a digital world how can being more human b...  \n",
      "78   5 minute read 1 apr 2018 link copied why ai i...  \n",
      "79   2 minute read 31 mar 2018 link copied how agi...  \n",
      "80   3 minute read 31 mar 2018 link copied how the...  \n",
      "81   does your brand reflect the composition of yo...  \n",
      "82   your customers are trying to text you somethi...  \n",
      "83   4 minute read 29 mar 2018 link copied how the...  \n",
      "84   7 minute read 5 mar 2018 link copied how regu...  \n",
      "85   4 minute read 2 feb 2018 link copied how coll...  \n",
      "86   how can you disrupt risk in an era of digital...  \n",
      "87   whats the right dose of ai to revitalize heal...  \n",
      "88   4 minute read 16 aug 2017 link copied how rd ...  \n",
      "89   4 minute read 7 jun 2017 link copied how ai w...  \n",
      "90   8 minute read 23 feb 2017 link copied how dig...  \n",
      "91   5 minute read 12 oct 2017 link copied how art...  \n",
      "92   10 minute read 25 may 2017 link copied how ro...  \n",
      "\n",
      "[93 rows x 2 columns]\n"
     ]
    }
   ],
   "source": [
    "print(ey)"
   ]
  },
  {
   "cell_type": "code",
   "execution_count": 13,
   "metadata": {},
   "outputs": [
    {
     "name": "stdout",
     "output_type": "stream",
     "text": [
      "                                                title  \\\n",
      "0   Myth vs. Reality in Artificial Intelligence | ...   \n",
      "1        How to Win with Artificial Intelligence (AI)   \n",
      "2   The Next Frontier in Digital and AI Transforma...   \n",
      "3   How AI Could Help—or Hinder—Women in the Workf...   \n",
      "4   At Anheuser-Busch InBev, Artificial Intelligen...   \n",
      "5   What's Holding Back Artificial Intelligence - ...   \n",
      "6                     The Build-or-Buy Dilemma in AI    \n",
      "7                     The Big Leap Toward AI at Scale   \n",
      "8   How Artificial Intelligence (AI) Will Reshape ...   \n",
      "9   AI in the Factory of the Future: The Ghost in ...   \n",
      "10  Thriving in the Augmented Age: A Conversation ...   \n",
      "11  How AI and Robotics Will Disrupt the Defense I...   \n",
      "12  Is Your Business Ready for Artificial Intellig...   \n",
      "13            Putting Artificial Intelligence to Work   \n",
      "14  Killer Apps and the Game-Changing Potential of AI   \n",
      "15    Competing in the Age of Artificial Intelligence   \n",
      "16  The Integrated Strategy Machine: Using AI to C...   \n",
      "17       Raffaello D’Andrea on the Future of Robotics   \n",
      "18  Looking into the Future of Artificial Intellig...   \n",
      "19    Powering the Service Economy with Robots and AI   \n",
      "\n",
      "                                                 text  \n",
      "0    this infographic is based on artificial intel...  \n",
      "1    october 15 2019 by shervin khodabandeh ronny ...  \n",
      "2    april 18 2019 by philipp gerbert janhinnerk m...  \n",
      "3    related expertise diversity inclusion people ...  \n",
      "4    as artificial intelligence ai goes mainstream...  \n",
      "5    this infographic is based on a survey of 3000...  \n",
      "6    january 4 2018 by philipp gerbert sylvain dur...  \n",
      "7    june 13 2018 by philipp gerbert sukand ramach...  \n",
      "8    april 26 2018 by martin reeves kaifu lee is t...  \n",
      "9    related expertise industry 40 cost efficiency...  \n",
      "10   a conversation with moonshot thinker maurice ...  \n",
      "11   related expertise aerospace defense digital t...  \n",
      "12   september 6 2017 by philipp gerbert martin re...  \n",
      "13   september 28 2017 by philipp gerbert martin h...  \n",
      "14   june 7 2016 artificial intelligence has achie...  \n",
      "15   january 16 2017 by philipp gerbert jan justus...  \n",
      "16   april 19 2016 by martin reeves daichi ueda ph...  \n",
      "17   january 20 2015 raffaello dandreas robots can...  \n",
      "18   january 4 2017 jürgen schmidhuber the scienti...  \n",
      "19   robotic process automation rpa and artificial...  \n"
     ]
    }
   ],
   "source": [
    "print(bcg)"
   ]
  },
  {
   "cell_type": "code",
   "execution_count": 14,
   "metadata": {},
   "outputs": [
    {
     "name": "stdout",
     "output_type": "stream",
     "text": [
      "                                                title  \\\n",
      "0   \\r\\n\\tEmbracing technological social responsib...   \n",
      "1   \\r\\n\\tCapability building: Bridging the gap be...   \n",
      "2           \\r\\n\\tConfronting AI risks | McKinsey\\r\\n   \n",
      "3   \\r\\n\\tThe value AI can bring to your business ...   \n",
      "4   \\r\\n\\tTackling bias in artificial intelligence...   \n",
      "5   \\r\\n\\tArtificial intelligence in business | Mc...   \n",
      "6   \\r\\n\\tThe real-world potential and limitations...   \n",
      "7   \\r\\n\\tLeading your organization to responsible...   \n",
      "8   \\r\\n\\tThe ethics of artificial intelligence | ...   \n",
      "9   \\r\\n\\tAI adoption: Why a digital base is criti...   \n",
      "10  \\r\\n\\tAI in Europe: Tackling the gap | McKinse...   \n",
      "11   \\r\\n\\tApplying AI for social good | McKinsey\\r\\n   \n",
      "12  \\r\\n\\tModeling the global economic impact of A...   \n",
      "13  \\r\\n\\tSizing the potential value of AI and adv...   \n",
      "14  \\r\\n\\tCompeting in the AI economy: An intervie...   \n",
      "15  \\r\\n\\tThomas L. Friedman: The world’s gone fro...   \n",
      "16  \\r\\n\\tKai-Fu Lee’s perspectives on two global ...   \n",
      "17  \\r\\n\\tHow artificial intelligence and data add...   \n",
      "18  \\r\\n\\tAI looks North: Bridging Canada’s corpor...   \n",
      "19  \\r\\n\\tArtificial intelligence: Implications fo...   \n",
      "20  \\r\\n\\tWhat Southeast Asia needs to become a ma...   \n",
      "21  \\r\\n\\tAI hardware: Value creation for semicond...   \n",
      "22  \\r\\n\\tAI, automation, and the future of work: ...   \n",
      "23  \\r\\n\\tMachine learning financial risk manageme...   \n",
      "24  \\r\\n\\tHow China’s fintechs serve the underserv...   \n",
      "25           \\r\\n\\tAI in public sector | McKinsey\\r\\n   \n",
      "\n",
      "                                                 text  \n",
      "0    in 1953 us senators grilled general motors ce...  \n",
      "1    the rise of artificial intelligence ai is one...  \n",
      "2    artificial intelligence ai is proving to be a...  \n",
      "3                                                      \n",
      "4    the growing use of artificial intelligence in...  \n",
      "5                                                      \n",
      "6    in this episode of the mckinsey podcast mckin...  \n",
      "7    ceos often live by the numbers —profit earnin...  \n",
      "8    click on time stamps in the transcript to lis...  \n",
      "9    the diffusion of a new technology whether atm...  \n",
      "10   on many metrics the european economy and its ...  \n",
      "11   artificial intelligence ai has the potential ...  \n",
      "12   the role of artificial intelligence ai tools ...  \n",
      "13   artificial intelligence ai stands out as a tr...  \n",
      "14   its not just some faroff dream anymore the pr...  \n",
      "15   the new york times foreign affairs columnist ...  \n",
      "16   artificial intelligence ai is advancing at a ...  \n",
      "17   artificial intelligence ai is at the cutting ...  \n",
      "18   from high tech to retail from mining to trans...  \n",
      "19   artificial intelligence or the idea that comp...  \n",
      "20   artificial intelligence ai is still in its ea...  \n",
      "21   software has been the star of high tech over ...  \n",
      "22   automation and artificial intelligence ai are...  \n",
      "23   machine learning and artificial intelligence ...  \n",
      "24   perhaps no market is more ripe with opportuni...  \n",
      "25   as artificial intelligence ai and machine lea...  \n"
     ]
    }
   ],
   "source": [
    "print(mckinsey)"
   ]
  },
  {
   "cell_type": "code",
   "execution_count": 15,
   "metadata": {},
   "outputs": [],
   "source": [
    "from nltk.tokenize import word_tokenize"
   ]
  },
  {
   "cell_type": "code",
   "execution_count": 16,
   "metadata": {},
   "outputs": [],
   "source": [
    "# Importing stopwords\n",
    "stopwords_en = stopwords.words('english')\n"
   ]
  },
  {
   "cell_type": "code",
   "execution_count": 17,
   "metadata": {},
   "outputs": [],
   "source": [
    "\n",
    "# And now let us make it ready for use.\n",
    "wordnet_lemmatizer = WordNetLemmatizer()\n"
   ]
  },
  {
   "cell_type": "code",
   "execution_count": 18,
   "metadata": {},
   "outputs": [],
   "source": [
    "clean_ai = aidata['text'].map(lambda t: word_tokenize(t))"
   ]
  },
  {
   "cell_type": "code",
   "execution_count": 19,
   "metadata": {},
   "outputs": [],
   "source": [
    "clean_ai = clean_ai.map(lambda t: [word.lower().strip() for word in t if word.isalpha()])"
   ]
  },
  {
   "cell_type": "code",
   "execution_count": 20,
   "metadata": {},
   "outputs": [],
   "source": [
    "# lemmatize and removing stopwords\n",
    "clean_ai = clean_ai.map(\n",
    "    lambda t: [wordnet_lemmatizer.lemmatize(word) for word in t \n",
    "               if word not in stopwords_en])"
   ]
  },
  {
   "cell_type": "code",
   "execution_count": 21,
   "metadata": {},
   "outputs": [],
   "source": [
    "from gensim.models import Phrases"
   ]
  },
  {
   "cell_type": "code",
   "execution_count": 22,
   "metadata": {},
   "outputs": [],
   "source": [
    "bigram = Phrases(clean_ai, min_count=1, delimiter=b' ')"
   ]
  },
  {
   "cell_type": "code",
   "execution_count": 23,
   "metadata": {},
   "outputs": [],
   "source": [
    "for sent in clean_ai:\n",
    "    bigrams_ = [b for b in bigram[sent] if b.count(' ') == 1]"
   ]
  },
  {
   "cell_type": "code",
   "execution_count": 24,
   "metadata": {},
   "outputs": [
    {
     "name": "stdout",
     "output_type": "stream",
     "text": [
      "['robotic process', 'automation rpa', 'artificial intelligence', 'quick win', 'industry banking', 'support function', 'systematically incorporating', 'service organization', 'increase productivity', 'generate insight', 'establish clear', 'business objective', 'optimization effort', 'change management', 'operational function', 'rise robot', 'recent year', 'service organization', 'allows software', 'performed human', 'routine task', 'make mistake', 'reduce cost', 'manual work', 'better worse', 'timeconsuming costly', 'integration however', 'hot topic', 'service organization', 'rpa software', 'overly complex', 'accelerate process', 'started using', 'back forth', 'contract term', 'despite benefit', 'expressed concern', 'job loss', 'affected employee', 'rpa software', 'occur human', 'introduced rpa', 'call center', 'fully automated', 'automated process', 'even ambitious', 'reached new', 'increasingly embedded', 'leave virtual', 'join real', 'implication future', 'competitive advantage', 'least three', 'example include', 'unstructured data', 'example include', 'credit scoring', 'fraud detection', 'perform task', 'make exception', 'quick decision', 'potentially fraudulent', 'make decision', 'continually learn', 'increasing volume', 'human interaction', 'call center', 'monitoring compliance', 'set rule', 'think differently', 'line first', 'two category', 'volume data', 'train algorithm', 'vendor vendor', 'pilot project', 'report published', 'bcg mit', 'insurance company', 'identify potentially', 'customer relationship', 'legacy system', 'full range', 'financial service', 'across entire', 'industrial good', 'predictive maintenance', 'broad spectrum', 'take advantage', 'working together', 'service organization', 'starting recognize', 'benefit combining', 'achieve rapid', 'payback rpa', 'legacy financial', 'hr finance', 'work together', 'human interaction', 'see exhibit', 'asian bank', 'order provide', 'cut cost', 'head count', 'discrete process', 'replace human', 'bank installed', 'system learned', 'routed case', 'system uncertain', 'within four', 'undergoing automation', 'reduced cost', 'day minute', 'amount time', 'devoted certain', 'addition bank', 'economic sense', 'might able', 'getting started', 'order avoid', 'common pitfall', 'see exhibit', 'create value', 'clear understanding', 'want achieve', 'business priority', 'clear understanding', 'emerging technology', 'move forward', 'ass current', 'project identify', 'opportunity examine', 'internal external', 'data set', 'speed scale', 'wider range', 'optimization effort', 'setting priority', 'heat map', 'value created', 'ass current', 'take endtoend', 'head count', 'pilot project', 'make perfect', 'make perfect', 'take endtoend', 'value chain', 'back end', 'setting priority', 'create comprehensive', 'fall short', 'csuite executive', 'success start', 'legacy system', 'organization must', 'call center', 'internal external', 'data set', 'integration however', 'new operating', 'governance model', 'work consequently', 'take advantage', 'labor cost', 'customer service', 'data analytics', 'traditional organizational', 'constant learning', 'technical team', 'collaborate closely', 'agile way', 'agile inherently', 'iterative offering', 'become continuous', 'cycle algorithm', 'fast feedback', 'next wave', 'service improvement', 'implementing new', 'status quo', 'take advantage', 'manager generally', 'agile way', 'organization must', 'first obvious', 'find way', 'modern technology', 'high address', 'retrain displaced', 'role responsibility', 'augmented reality', 'process outsourcers', 'faced challenge', 'told u', 'role give', 'design thinking', 'serve customer', 'combination rpa', 'contact author', 'philipp gerbert', 'managing director', 'senior partner', 'managing director', 'senior partner', 'martin hecker', 'managing director', 'senior partner', 'managing director', 'senior partner', 'managing director', 'senior partner', 'associate director', 'sebastian steinhäuser']\n"
     ]
    }
   ],
   "source": [
    "print(bigrams_)"
   ]
  },
  {
   "cell_type": "code",
   "execution_count": 25,
   "metadata": {},
   "outputs": [
    {
     "name": "stdout",
     "output_type": "stream",
     "text": [
      "0     [u, senator, grilled, general, motor, ceo, cha...\n",
      "1     [rise, artificial, intelligence, ai, one, defi...\n",
      "2     [artificial, intelligence, ai, proving, double...\n",
      "3                                                    []\n",
      "4     [growing, use, artificial, intelligence, sensi...\n",
      "5                                                    []\n",
      "6     [episode, mckinsey, podcast, mckinsey, global,...\n",
      "7     [ceo, often, live, number, earnings, interest,...\n",
      "8     [click, time, stamp, transcript, listen, relev...\n",
      "9     [diffusion, new, technology, whether, atm, ban...\n",
      "10    [many, metric, european, economy, business, gr...\n",
      "11    [artificial, intelligence, ai, potential, help...\n",
      "12    [role, artificial, intelligence, ai, tool, tec...\n",
      "13    [artificial, intelligence, ai, stand, transfor...\n",
      "14    [faroff, dream, anymore, promise, practical, a...\n",
      "15    [new, york, time, foreign, affair, columnist, ...\n",
      "16    [artificial, intelligence, ai, advancing, brea...\n",
      "17    [artificial, intelligence, ai, cutting, edge, ...\n",
      "18    [high, tech, retail, mining, transportation, a...\n",
      "19    [artificial, intelligence, idea, computer, sys...\n",
      "20    [artificial, intelligence, ai, still, early, s...\n",
      "21    [software, star, high, tech, past, decade, eas...\n",
      "22    [automation, artificial, intelligence, ai, tra...\n",
      "23    [machine, learning, artificial, intelligence, ...\n",
      "24    [perhaps, market, ripe, opportunity, financial...\n",
      "25    [artificial, intelligence, ai, machine, learni...\n",
      "0     [better, question, better, answer, better, wor...\n",
      "1     [minute, read, sep, link, copied, six, way, cf...\n",
      "2     [risk, foresight, lead, ai, insight, cathy, co...\n",
      "3     [data, personalizes, medtech, serve, tomorrow,...\n",
      "                            ...                        \n",
      "83    [minute, read, mar, link, copied, printing, re...\n",
      "84    [minute, read, mar, link, copied, regulatory, ...\n",
      "85    [minute, read, feb, link, copied, collaboratin...\n",
      "86    [disrupt, risk, era, digital, transformation, ...\n",
      "87    [whats, right, dose, ai, revitalize, health, c...\n",
      "88    [minute, read, aug, link, copied, rd, augmente...\n",
      "89    [minute, read, jun, link, copied, ai, enable, ...\n",
      "90    [minute, read, feb, link, copied, digital, agr...\n",
      "91    [minute, read, oct, link, copied, artificial, ...\n",
      "92    [minute, read, may, link, copied, robotics, ai...\n",
      "0     [infographic, based, artificial, intelligence,...\n",
      "1     [october, shervin, khodabandeh, ronny, fehling...\n",
      "2     [april, philipp, gerbert, janhinnerk, mohr, mi...\n",
      "3     [related, expertise, diversity, inclusion, peo...\n",
      "4     [artificial, intelligence, ai, go, mainstream,...\n",
      "5     [infographic, based, survey, executive, conduc...\n",
      "6     [january, philipp, gerbert, sylvain, duranton,...\n",
      "7     [june, philipp, gerbert, sukand, ramachandran,...\n",
      "8     [april, martin, reef, kaifu, lee, founder, ceo...\n",
      "9     [related, expertise, industry, cost, efficienc...\n",
      "10    [conversation, moonshot, thinker, maurice, con...\n",
      "11    [related, expertise, aerospace, defense, digit...\n",
      "12    [september, philipp, gerbert, martin, reef, se...\n",
      "13    [september, philipp, gerbert, martin, hecker, ...\n",
      "14    [june, artificial, intelligence, achieved, stu...\n",
      "15    [january, philipp, gerbert, jan, justus, marti...\n",
      "16    [april, martin, reef, daichi, ueda, philipp, g...\n",
      "17    [january, raffaello, dandreas, robot, amazing,...\n",
      "18    [january, jürgen, schmidhuber, scientific, dir...\n",
      "19    [robotic, process, automation, rpa, artificial...\n",
      "Name: text, Length: 139, dtype: object\n"
     ]
    }
   ],
   "source": [
    "print(clean_ai)"
   ]
  },
  {
   "cell_type": "markdown",
   "metadata": {},
   "source": [
    "## Erstat unigrams med hyppige bigrams\n",
    "\n",
    "Følgende finder hyppigste bigrams i corpus og erstatter unigrams med bigram i `clean_ai`"
   ]
  },
  {
   "cell_type": "code",
   "execution_count": null,
   "metadata": {},
   "outputs": [],
   "source": [
    "# Konverterer serie til samlet ordliste\n",
    "\n",
    "con_words = list(clean_ai)\n",
    "\n",
    "con_wordlist = []\n",
    "for sublist in con_words:\n",
    "    for item in sublist:\n",
    "        con_wordlist.append(item)"
   ]
  },
  {
   "cell_type": "code",
   "execution_count": null,
   "metadata": {},
   "outputs": [],
   "source": [
    "# Udleder hyppigste bigrams med nltk.collocations. De hyppigste 10% af bigrams beholdes (con_bi_filt)\n",
    "\n",
    "import nltk\n",
    "from nltk import word_tokenize\n",
    "from nltk.collocations import BigramAssocMeasures\n",
    "\n",
    "bigram_measures = nltk.collocations.BigramAssocMeasures()\n",
    "finder = BigramCollocationFinder.from_words(con_wordlist)\n",
    "scored = finder.score_ngrams(bigram_measures.raw_freq)\n",
    "\n",
    "con_bi_sorted = sorted(scored, key=lambda s: s[1], reverse=True)\n",
    "con_bi_filt = con_bi_sorted[0:round((0.10*len(con_bi_sorted)))]\n",
    "print(len(con_bi_sorted),\n",
    "     len(con_bi_filt))"
   ]
  },
  {
   "cell_type": "code",
   "execution_count": null,
   "metadata": {},
   "outputs": [],
   "source": [
    "#con_bi_filt er en tuple med overflødig information. Konverteres til liste af bigrams\n",
    "\n",
    "con_bi_list = [item[0] for item in list(con_bi_filt)]\n",
    "con_bi_list = [list(item) for item in con_bi_list]\n",
    "con_bi_list = [item[0] + \" \" + item[1] for item in con_bi_list]"
   ]
  },
  {
   "cell_type": "code",
   "execution_count": null,
   "metadata": {},
   "outputs": [],
   "source": [
    "#Definerer funktion til at erstatte unigram med bigram\n",
    "\n",
    "def bigram_insert(tokenlist, bigramlist):    \n",
    "    for i in range(0, len(tokenlist)-1):\n",
    "        bigram = tokenlist[i] + \" \" + tokenlist[i+1]\n",
    "        if bigram in bigramlist:\n",
    "            tokenlist[i] = bigram\n",
    "            tokenlist[i+1] = \"\"\n",
    "    tokenlist = list(filter(None, tokenlist))\n",
    "    return(tokenlist)"
   ]
  },
  {
   "cell_type": "code",
   "execution_count": null,
   "metadata": {},
   "outputs": [],
   "source": [
    "#Anvender funktion bigram_insert på clean_ai og erstatter\n",
    "\n",
    "clean_ai = clean_ai.apply(lambda row: bigram_insert(row, con_bi_list))"
   ]
  },
  {
   "cell_type": "code",
   "execution_count": 26,
   "metadata": {},
   "outputs": [
    {
     "name": "stderr",
     "output_type": "stream",
     "text": [
      "UsageError: Line magic function `%` not found.\n"
     ]
    }
   ],
   "source": [
    "import matplotlib.pyplot as plt\n",
    "% matplotlib inline"
   ]
  },
  {
   "cell_type": "code",
   "execution_count": null,
   "metadata": {},
   "outputs": [],
   "source": []
  },
  {
   "cell_type": "code",
   "execution_count": null,
   "metadata": {},
   "outputs": [],
   "source": []
  },
  {
   "cell_type": "code",
   "execution_count": 27,
   "metadata": {},
   "outputs": [
    {
     "name": "stdout",
     "output_type": "stream",
     "text": [
      "[(0, 1), (5, 1), (13, 5), (14, 3), (16, 71), (19, 1), (21, 1), (22, 3), (23, 1), (24, 1)]\n"
     ]
    }
   ],
   "source": [
    "dictionary = Dictionary(clean_ai)\n",
    "corpus = [dictionary.doc2bow(word) for word in clean_ai]\n",
    "print(corpus[10][:10])"
   ]
  },
  {
   "cell_type": "code",
   "execution_count": 28,
   "metadata": {},
   "outputs": [
    {
     "name": "stdout",
     "output_type": "stream",
     "text": [
      "<gensim.interfaces.TransformedCorpus object at 0x1a287e0a58>\n"
     ]
    }
   ],
   "source": [
    "tfidf = TfidfModel(corpus)\n",
    "tfidf_corpus = tfidf[corpus]\n",
    "print(tfidf_corpus[:5])"
   ]
  },
  {
   "cell_type": "code",
   "execution_count": null,
   "metadata": {},
   "outputs": [],
   "source": []
  },
  {
   "cell_type": "code",
   "execution_count": 32,
   "metadata": {},
   "outputs": [],
   "source": [
    "# Language Processing (Gensim)\n",
    "\n",
    "\n",
    "lda_model_5 = LdaModel(tfidf_corpus, id2word= dictionary,\n",
    "                                           num_topics=5, \n",
    "                                           random_state=100,\n",
    "                                           update_every=1,\n",
    "                                           chunksize=100,\n",
    "                                           passes=10,\n",
    "                                           alpha='auto',\n",
    "                                           per_word_topics=True)"
   ]
  },
  {
   "cell_type": "code",
   "execution_count": 33,
   "metadata": {},
   "outputs": [
    {
     "data": {
      "text/plain": [
       "[(0,\n",
       "  '0.000*\"kasriel\" + 0.000*\"upwork\" + 0.000*\"freelancer\" + 0.000*\"stephane\" + 0.000*\"freelancing\" + 0.000*\"grid\" + 0.000*\"dnos\" + 0.000*\"freelance\" + 0.000*\"utility\" + 0.000*\"london\"'),\n",
       " (1,\n",
       "  '0.000*\"threetime\" + 0.000*\"tom\" + 0.000*\"columnist\" + 0.000*\"friedman\" + 0.000*\"coalition\" + 0.000*\"affair\" + 0.000*\"pulitzer\" + 0.000*\"danny\" + 0.000*\"prosperity\" + 0.000*\"thomas\"'),\n",
       " (2,\n",
       "  '0.001*\"company\" + 0.001*\"rpa\" + 0.001*\"board\" + 0.001*\"health\" + 0.001*\"think\" + 0.001*\"audit\" + 0.001*\"bcg\" + 0.001*\"span\" + 0.001*\"data\" + 0.001*\"lease\"'),\n",
       " (3,\n",
       "  '0.000*\"dod\" + 0.000*\"contractor\" + 0.000*\"fda\" + 0.000*\"defense\" + 0.000*\"forensic\" + 0.000*\"uil\" + 0.000*\"military\" + 0.000*\"canada\" + 0.000*\"canadian\" + 0.000*\"toronto\"'),\n",
       " (4,\n",
       "  '0.000*\"anheuserbusch\" + 0.000*\"inbev\" + 0.000*\"jürgen\" + 0.000*\"schmidhuber\" + 0.000*\"ant\" + 0.000*\"tassilo\" + 0.000*\"wladawskyberger\" + 0.000*\"prize\" + 0.000*\"festetics\" + 0.000*\"journal\"')]"
      ]
     },
     "execution_count": 33,
     "metadata": {},
     "output_type": "execute_result"
    }
   ],
   "source": [
    "lda_model_5.print_topics()"
   ]
  },
  {
   "cell_type": "code",
   "execution_count": 36,
   "metadata": {},
   "outputs": [
    {
     "name": "stdout",
     "output_type": "stream",
     "text": [
      "\n",
      "Perplexity:  -10.941451487739826\n",
      "\n",
      "Coherence Score:  0.40980535722168365\n"
     ]
    }
   ],
   "source": [
    "from gensim.models import CoherenceModel\n",
    "# Compute Perplexity\n",
    "print('\\nPerplexity: ', lda_model_5.log_perplexity(tfidf_corpus))  # a measure of how good the model is. lower the better.\n",
    "\n",
    "# Compute Coherence Score\n",
    "coherence_model_lda = CoherenceModel(model=lda_model_5, texts=clean_ai, dictionary=dictionary, coherence='c_v')\n",
    "coherence_lda = coherence_model_lda.get_coherence()\n",
    "print('\\nCoherence Score: ', coherence_lda)\n",
    "\n"
   ]
  },
  {
   "cell_type": "code",
   "execution_count": 37,
   "metadata": {},
   "outputs": [],
   "source": [
    "lda_model_10 = LdaModel(tfidf_corpus, id2word= dictionary,\n",
    "                                           num_topics=10, \n",
    "                                           random_state=100,\n",
    "                                           update_every=1,\n",
    "                                           chunksize=100,\n",
    "                                           passes=10,\n",
    "                                           alpha='auto',\n",
    "                                           per_word_topics=True)"
   ]
  },
  {
   "cell_type": "code",
   "execution_count": 38,
   "metadata": {},
   "outputs": [
    {
     "name": "stdout",
     "output_type": "stream",
     "text": [
      "\n",
      "Perplexity:  -12.723707712279664\n",
      "\n",
      "Coherence Score:  0.44180570177882306\n"
     ]
    }
   ],
   "source": [
    "# Compute Perplexity\n",
    "print('\\nPerplexity: ', lda_model_10.log_perplexity(tfidf_corpus))  # a measure of how good the model is. lower the better.\n",
    "\n",
    "# Compute Coherence Score\n",
    "coherence_model_lda = CoherenceModel(model=lda_model_10, texts=clean_ai, dictionary=dictionary, coherence='c_v')\n",
    "coherence_lda = coherence_model_lda.get_coherence()\n",
    "print('\\nCoherence Score: ', coherence_lda)\n",
    "\n"
   ]
  },
  {
   "cell_type": "code",
   "execution_count": 46,
   "metadata": {},
   "outputs": [
    {
     "data": {
      "text/plain": [
       "[(0,\n",
       "  [('model', 0.0013819779),\n",
       "   ('agile', 0.0012419412),\n",
       "   ('oil', 0.001082919),\n",
       "   ('exhibit', 0.0010221796),\n",
       "   ('source', 0.0010157324),\n",
       "   ('sensor', 0.0009578356),\n",
       "   ('pattern', 0.0009182125),\n",
       "   ('culture', 0.0009066421),\n",
       "   ('gas', 0.00090639095),\n",
       "   ('energy', 0.0009057177)]),\n",
       " (1,\n",
       "  [('company', 0.0010627274),\n",
       "   ('rpa', 0.0010550185),\n",
       "   ('board', 0.0010515073),\n",
       "   ('health', 0.0010480874),\n",
       "   ('think', 0.0010293871),\n",
       "   ('audit', 0.0010114021),\n",
       "   ('bcg', 0.0010061868),\n",
       "   ('span', 0.0009843393),\n",
       "   ('data', 0.0009835776),\n",
       "   ('institute', 0.00093311415)]),\n",
       " (2,\n",
       "  [('tmt', 0.0006236525),\n",
       "   ('ia', 0.00012703292),\n",
       "   ('dutta', 0.00011897773),\n",
       "   ('debraj', 0.00011897773),\n",
       "   ('cudahy', 9.965314e-05),\n",
       "   ('commerce', 9.694788e-05),\n",
       "   ('advising', 9.644556e-05),\n",
       "   ('entertainment', 9.638351e-05),\n",
       "   ('vessel', 9.632502e-05),\n",
       "   ('conversational', 9.628491e-05)]),\n",
       " (3,\n",
       "  [('ani', 0.0004526154),\n",
       "   ('fan', 0.00043134438),\n",
       "   ('franchise', 0.00016416551),\n",
       "   ('winter', 0.00016148006),\n",
       "   ('trafficker', 0.00015949112),\n",
       "   ('disrupters', 0.00015949058),\n",
       "   ('trafficking', 0.0001268811),\n",
       "   ('crm', 0.000116509436),\n",
       "   ('criminal', 0.00010153988),\n",
       "   ('express', 9.9997924e-05)]),\n",
       " (4,\n",
       "  [('uil', 0.00038641167),\n",
       "   ('uils', 0.00019890328),\n",
       "   ('usha', 0.00010738969),\n",
       "   ('deliverable', 0.00010738446),\n",
       "   ('revamp', 0.0001073833),\n",
       "   ('wholesaler', 0.00010738195),\n",
       "   ('rural', 9.562658e-05),\n",
       "   ('behemoth', 9.562657e-05),\n",
       "   ('bestinclass', 9.562654e-05),\n",
       "   ('thinktank', 9.5626536e-05)]),\n",
       " (5,\n",
       "  [('lease', 0.002368827),\n",
       "   ('cfo', 0.0014162252),\n",
       "   ('auditor', 0.0009472842),\n",
       "   ('accounting', 0.00037533676),\n",
       "   ('felice', 0.00021920429),\n",
       "   ('persico', 0.00021913859),\n",
       "   ('ifrs', 9.7841956e-05),\n",
       "   ('jun', 9.751571e-05),\n",
       "   ('fullrange', 9.592696e-05),\n",
       "   ('everincreasing', 9.586216e-05)]),\n",
       " (6,\n",
       "  [('pulitzer', 0.00020497556),\n",
       "   ('tom', 0.0002049755),\n",
       "   ('affair', 0.00020497548),\n",
       "   ('columnist', 0.00020497547),\n",
       "   ('threetime', 0.00020497547),\n",
       "   ('coalition', 0.00020497545),\n",
       "   ('friedman', 0.00020497515),\n",
       "   ('prosperity', 0.00017937426),\n",
       "   ('thomas', 0.00017829401),\n",
       "   ('dialogue', 0.00013240152)]),\n",
       " (7,\n",
       "  [('sutherland', 0.0006686341),\n",
       "   ('sharon', 0.000668613),\n",
       "   ('speaker', 0.0003712139),\n",
       "   ('intellectually', 0.00032168292),\n",
       "   ('traveler', 0.00013175889),\n",
       "   ('curious', 0.000100626356),\n",
       "   ('lover', 9.654218e-05),\n",
       "   ('wei', 9.629658e-05),\n",
       "   ('board', 9.5695315e-05),\n",
       "   ('consumerfacing', 9.5577336e-05)]),\n",
       " (8,\n",
       "  [('printing', 0.0015049649),\n",
       "   ('fda', 0.0014759934),\n",
       "   ('forensic', 0.0011442101),\n",
       "   ('pamela', 0.0011356334),\n",
       "   ('spence', 0.0011356333),\n",
       "   ('fintech', 0.0009792356),\n",
       "   ('wellness', 0.0006346591),\n",
       "   ('outcomesbased', 0.00059089164),\n",
       "   ('ambassador', 0.0005908907),\n",
       "   ('molecule', 0.00044472044)]),\n",
       " (9,\n",
       "  [('grid', 0.0010860213),\n",
       "   ('kay', 0.0010349802),\n",
       "   ('alison', 0.0010349802),\n",
       "   ('pianist', 0.0005396181),\n",
       "   ('sail', 0.0004995351),\n",
       "   ('equity', 0.00038124467),\n",
       "   ('utility', 0.00017301686),\n",
       "   ('accomplished', 0.00015242836),\n",
       "   ('pu', 0.00013972473),\n",
       "   ('badge', 0.00012172076)])]"
      ]
     },
     "execution_count": 46,
     "metadata": {},
     "output_type": "execute_result"
    }
   ],
   "source": [
    "lda_model_10.show_topics(formatted=False)"
   ]
  },
  {
   "cell_type": "code",
   "execution_count": null,
   "metadata": {},
   "outputs": [],
   "source": []
  },
  {
   "cell_type": "code",
   "execution_count": 41,
   "metadata": {},
   "outputs": [],
   "source": [
    "lda_model_15 = LdaModel(tfidf_corpus, id2word= dictionary,\n",
    "                                           num_topics=15, \n",
    "                                           random_state=100,\n",
    "                                           update_every=1,\n",
    "                                           chunksize=100,\n",
    "                                           passes=10,\n",
    "                                           alpha='auto',\n",
    "                                           per_word_topics=True)"
   ]
  },
  {
   "cell_type": "code",
   "execution_count": 42,
   "metadata": {},
   "outputs": [
    {
     "name": "stdout",
     "output_type": "stream",
     "text": [
      "\n",
      "Perplexity:  -16.340420294249462\n",
      "\n",
      "Coherence Score:  0.391071687661704\n"
     ]
    }
   ],
   "source": [
    "# Compute Perplexity\n",
    "print('\\nPerplexity: ', lda_model_15.log_perplexity(tfidf_corpus))  # a measure of how good the model is. lower the better.\n",
    "\n",
    "# Compute Coherence Score\n",
    "coherence_model_lda = CoherenceModel(model=lda_model_15, texts=clean_ai, dictionary=dictionary, coherence='c_v')\n",
    "coherence_lda = coherence_model_lda.get_coherence()\n",
    "print('\\nCoherence Score: ', coherence_lda)"
   ]
  },
  {
   "cell_type": "code",
   "execution_count": 43,
   "metadata": {},
   "outputs": [],
   "source": [
    "lda_model_20 = LdaModel(tfidf_corpus, id2word= dictionary,\n",
    "                                           num_topics=20, \n",
    "                                           random_state=100,\n",
    "                                           update_every=1,\n",
    "                                           chunksize=100,\n",
    "                                           passes=10,\n",
    "                                           alpha='auto',\n",
    "                                           per_word_topics=True)"
   ]
  },
  {
   "cell_type": "code",
   "execution_count": 44,
   "metadata": {},
   "outputs": [
    {
     "name": "stdout",
     "output_type": "stream",
     "text": [
      "\n",
      "Perplexity:  -20.31409368016519\n",
      "\n",
      "Coherence Score:  0.37885563113384824\n"
     ]
    }
   ],
   "source": [
    "# Compute Perplexity\n",
    "print('\\nPerplexity: ', lda_model_20.log_perplexity(tfidf_corpus))  # a measure of how good the model is. lower the better.\n",
    "\n",
    "# Compute Coherence Score\n",
    "coherence_model_lda = CoherenceModel(model=lda_model_20, texts=clean_ai, dictionary=dictionary, coherence='c_v')\n",
    "coherence_lda = coherence_model_lda.get_coherence()\n",
    "print('\\nCoherence Score: ', coherence_lda)"
   ]
  },
  {
   "cell_type": "code",
   "execution_count": null,
   "metadata": {},
   "outputs": [],
   "source": [
    "topics = lda_model_20.show_topics(formatted=False)"
   ]
  },
  {
   "cell_type": "markdown",
   "metadata": {},
   "source": [
    "# wordcloud 1"
   ]
  },
  {
   "cell_type": "code",
   "execution_count": 47,
   "metadata": {},
   "outputs": [],
   "source": [
    "topic1 = lda_model_10.show_topics(0)"
   ]
  },
  {
   "cell_type": "code",
   "execution_count": 48,
   "metadata": {},
   "outputs": [],
   "source": [
    "stopic1 = str(topic1)"
   ]
  },
  {
   "cell_type": "code",
   "execution_count": 50,
   "metadata": {},
   "outputs": [
    {
     "data": {
      "image/png": "[encoded data removed]",
      "text/plain": [
       "<Figure size 432x288 with 1 Axes>"
      ]
     },
     "metadata": {
      "needs_background": "light"
     },
     "output_type": "display_data"
    }
   ],
   "source": [
    "from wordcloud import WordCloud\n",
    "from matplotlib import pyplot as plt\n",
    "# Generate a word cloud image\n",
    "wordcloud = WordCloud(colormap=\"autumn\", max_words=10, background_color=\"white\").generate(stopic1)\n",
    "# Display the generated image:\n",
    "plt.title('Topic 1')\n",
    "plt.imshow(wordcloud, interpolation='bilinear')\n",
    "plt.axis(\"off\")\n",
    "plt.show()\n"
   ]
  },
  {
   "cell_type": "code",
   "execution_count": null,
   "metadata": {},
   "outputs": [],
   "source": [
    "plt.savefig('topic1.jpg', dpi=300, format='jpg')"
   ]
  },
  {
   "cell_type": "code",
   "execution_count": null,
   "metadata": {},
   "outputs": [],
   "source": [
    "wordcloud.to_file('/Users/Signe/Desktop/CALDISS_AI/topic1.jpg')"
   ]
  },
  {
   "cell_type": "code",
   "execution_count": null,
   "metadata": {},
   "outputs": [],
   "source": [
    "plt.savefig('topic1.jpg', bbox_inches='tight', dpi=300, format='jpg')"
   ]
  },
  {
   "cell_type": "markdown",
   "metadata": {},
   "source": [
    "# Wordcloud 2"
   ]
  },
  {
   "cell_type": "code",
   "execution_count": 51,
   "metadata": {},
   "outputs": [],
   "source": [
    "topic2 = lda_model_10.show_topics(1)\n",
    "stopic2 = str(topic2)"
   ]
  },
  {
   "cell_type": "code",
   "execution_count": 67,
   "metadata": {},
   "outputs": [
    {
     "data": {
      "image/png": "[encoded data removed]",
      "text/plain": [
       "<Figure size 432x288 with 1 Axes>"
      ]
     },
     "metadata": {
      "needs_background": "light"
     },
     "output_type": "display_data"
    }
   ],
   "source": [
    "\n",
    "# Generate a word cloud image\n",
    "wordcloud = WordCloud(colormap=\"ocean\", max_words=10, background_color=\"white\").generate(stopic2)\n",
    "# Display the generated image:\n",
    "plt.title('Topic 2')\n",
    "plt.imshow(wordcloud, interpolation='bilinear')\n",
    "plt.axis(\"off\")\n",
    "plt.show()"
   ]
  },
  {
   "cell_type": "code",
   "execution_count": null,
   "metadata": {},
   "outputs": [],
   "source": [
    "plt.savefig('topic2.jpg', dpi=300, format='jpg')\n",
    "wordcloud.to_file('/Users/Signe/Desktop/CALDISS_AI/topic2.jpg')"
   ]
  },
  {
   "cell_type": "markdown",
   "metadata": {},
   "source": [
    "# Wordcloud 3"
   ]
  },
  {
   "cell_type": "code",
   "execution_count": 56,
   "metadata": {},
   "outputs": [],
   "source": [
    "topic3 = lda_model_10.show_topics(3)\n",
    "stopic3 = str(topic3)"
   ]
  },
  {
   "cell_type": "code",
   "execution_count": 57,
   "metadata": {},
   "outputs": [
    {
     "data": {
      "image/png": "[encoded data removed]",
      "text/plain": [
       "<Figure size 432x288 with 1 Axes>"
      ]
     },
     "metadata": {
      "needs_background": "light"
     },
     "output_type": "display_data"
    }
   ],
   "source": [
    "\n",
    "# Generate a word cloud image\n",
    "wordcloud = WordCloud(colormap=\"summer\", max_words=10, background_color=\"white\").generate(stopic3)\n",
    "# Display the generated image:\n",
    "plt.title('Topic 3')\n",
    "plt.imshow(wordcloud, interpolation='bilinear')\n",
    "plt.axis(\"off\")\n",
    "plt.show()"
   ]
  },
  {
   "cell_type": "code",
   "execution_count": null,
   "metadata": {},
   "outputs": [],
   "source": [
    "plt.savefig('topic3.jpg', dpi=300, format='jpg')\n",
    "wordcloud.to_file('/Users/Signe/Desktop/CALDISS_AI/topic3.jpg')"
   ]
  },
  {
   "cell_type": "markdown",
   "metadata": {},
   "source": [
    "# Wordcloud 4"
   ]
  },
  {
   "cell_type": "code",
   "execution_count": 59,
   "metadata": {},
   "outputs": [],
   "source": [
    "topic4 = lda_model_10.show_topics(4)\n",
    "stopic4 = str(topic4)"
   ]
  },
  {
   "cell_type": "code",
   "execution_count": 78,
   "metadata": {},
   "outputs": [
    {
     "data": {
      "image/png": "[encoded data removed]",
      "text/plain": [
       "<Figure size 432x288 with 1 Axes>"
      ]
     },
     "metadata": {
      "needs_background": "light"
     },
     "output_type": "display_data"
    }
   ],
   "source": [
    "\n",
    "# Generate a word cloud image\n",
    "wordcloud = WordCloud(colormap=\"PuRd_r\", max_words=10, background_color=\"white\").generate(stopic4)\n",
    "# Display the generated image:\n",
    "plt.title('Topic 4')\n",
    "plt.imshow(wordcloud, interpolation='bilinear')\n",
    "plt.axis(\"off\")\n",
    "plt.show()"
   ]
  },
  {
   "cell_type": "code",
   "execution_count": null,
   "metadata": {},
   "outputs": [],
   "source": [
    "plt.savefig('topic4.jpg', dpi=300, format='jpg')\n",
    "wordcloud.to_file('/Users/Signe/Desktop/CALDISS_AI/topic4.jpg')"
   ]
  },
  {
   "cell_type": "markdown",
   "metadata": {},
   "source": [
    "# Wordcloud 5"
   ]
  },
  {
   "cell_type": "code",
   "execution_count": 61,
   "metadata": {},
   "outputs": [],
   "source": [
    "topic5 = lda_model_10.show_topics(5)\n",
    "stopic5 = str(topic5)"
   ]
  },
  {
   "cell_type": "code",
   "execution_count": 66,
   "metadata": {},
   "outputs": [
    {
     "data": {
      "image/png": "[encoded data removed]",
      "text/plain": [
       "<Figure size 432x288 with 1 Axes>"
      ]
     },
     "metadata": {
      "needs_background": "light"
     },
     "output_type": "display_data"
    }
   ],
   "source": [
    "\n",
    "# Generate a word cloud image\n",
    "wordcloud = WordCloud(colormap=\"binary\", max_words=10, background_color=\"white\").generate(stopic5)\n",
    "# Display the generated image:\n",
    "plt.title('Topic 5')\n",
    "plt.imshow(wordcloud, interpolation='bilinear')\n",
    "plt.axis(\"off\")\n",
    "plt.show()"
   ]
  },
  {
   "cell_type": "code",
   "execution_count": null,
   "metadata": {},
   "outputs": [],
   "source": [
    "plt.savefig('topic5.jpg', dpi=300, format='jpg')\n",
    "wordcloud.to_file('/Users/Signe/Desktop/CALDISS_AI/topic5.jpg')"
   ]
  },
  {
   "cell_type": "code",
   "execution_count": null,
   "metadata": {},
   "outputs": [],
   "source": []
  },
  {
   "cell_type": "markdown",
   "metadata": {},
   "source": [
    "#leg med farver\n",
    "import matplotlib.colors as mcolors\n",
    "\n",
    "cols = [color for name, color in mcolors.TABLEAU_COLORS.items()]  # more colors: 'mcolors.XKCD_COLORS'"
   ]
  },
  {
   "cell_type": "code",
   "execution_count": null,
   "metadata": {},
   "outputs": [],
   "source": [
    "# 1. Wordcloud of Top N words in each topic\n",
    "from matplotlib import pyplot as plt\n",
    "from wordcloud import WordCloud\n",
    "\n",
    "\n",
    "cloud = WordCloud(background_color='white',\n",
    "                  width=2500,\n",
    "                  height=1800,\n",
    "                  max_words=10,\n",
    "                  colormap='tab10',\n",
    "                  color_func=lambda *args, **kwargs: cols[i],\n",
    "                  prefer_horizontal=1.0)\n",
    "\n",
    "\n",
    "\n",
    "fig, axes = plt.subplots(3, 2, figsize=(10,10), sharex=True, sharey=True)\n",
    "\n",
    "for i, ax in enumerate(axes.flatten()):\n",
    "    fig.add_subplot(ax)\n",
    "    topic_words = dict(topics[i][1])\n",
    "    cloud.generate_from_frequencies(topic_words, max_font_size=300)\n",
    "    plt.gca().imshow(cloud)\n",
    "    plt.gca().set_title('Topic ' + str(i), fontdict=dict(size=16))\n",
    "    plt.gca().axis('off')\n",
    "\n",
    "\n",
    "plt.subplots_adjust(wspace=0, hspace=0)\n",
    "plt.axis('off')\n",
    "plt.margins(x=0, y=0)\n",
    "plt.tight_layout()\n",
    "plt.show()"
   ]
  },
  {
   "cell_type": "code",
   "execution_count": null,
   "metadata": {},
   "outputs": [],
   "source": []
  }
 ],
 "metadata": {
  "kernelspec": {
   "display_name": "Python 3",
   "language": "python",
   "name": "python3"
  },
  "language_info": {
   "codemirror_mode": {
    "name": "ipython",
    "version": 3
   },
   "file_extension": ".py",
   "mimetype": "text/x-python",
   "name": "python",
   "nbconvert_exporter": "python",
   "pygments_lexer": "ipython3",
   "version": "3.6.9"
  }
 },
 "nbformat": 4,
 "nbformat_minor": 2
}
