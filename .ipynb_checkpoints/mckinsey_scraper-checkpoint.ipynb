{
 "cells": [
  {
   "cell_type": "markdown",
   "metadata": {},
   "source": [
    "# McKinsey scrape\n",
    "\n",
    "The following code scrapes the McKinsey site for articles, pages etc. about AI. The scraper only collects data from the subpage on artificial intelligence: https://www.mckinsey.com/featured-insights/artificial-intelligence"
   ]
  },
  {
   "cell_type": "markdown",
   "metadata": {},
   "source": [
    "### Libraries\n",
    "\n",
    "Importing libraries..."
   ]
  },
  {
   "cell_type": "code",
   "execution_count": 87,
   "metadata": {},
   "outputs": [],
   "source": [
    "import scrapy\n",
    "import requests\n",
    "from scrapy import Selector"
   ]
  },
  {
   "cell_type": "markdown",
   "metadata": {},
   "source": [
    "### URL list\n",
    "\n",
    "List of URL is extracted from the AI-section of McKinsey.com: https://www.mckinsey.com/featured-insights/artificial-intelligence"
   ]
  },
  {
   "cell_type": "code",
   "execution_count": 88,
   "metadata": {},
   "outputs": [],
   "source": [
    "mckin_url = 'https://www.mckinsey.com/featured-insights/artificial-intelligence' #main URL\n",
    "mckin_html = requests.get(mckin_url).content #extract HTML\n",
    "mckin_sel = Selector(text = mckin_html) #create Selector object"
   ]
  },
  {
   "cell_type": "code",
   "execution_count": 89,
   "metadata": {},
   "outputs": [],
   "source": [
    "mckin_titlelist = mckin_sel.css('div.text-wrapper > h3::text').extract()\n",
    "mckin_urllist = mckin_sel.css('div.text-wrapper > a::attr(href)').extract()"
   ]
  },
  {
   "cell_type": "code",
   "execution_count": 90,
   "metadata": {},
   "outputs": [],
   "source": [
    "mckin_titlelist = mckin_sel.xpath('//div[contains(@class, \"text-wrapper\")]//h3[contains(@class, \"headline\")]/text()').extract()\n",
    "mckin_urllist = mckin_sel.xpath('//div[contains(@class, \"text-wrapper\")]//a[contains(@class, \"-\")]/@href').extract()"
   ]
  },
  {
   "cell_type": "code",
   "execution_count": 91,
   "metadata": {},
   "outputs": [
    {
     "name": "stdout",
     "output_type": "stream",
     "text": [
      "26 26\n"
     ]
    }
   ],
   "source": [
    "print(len(mckin_titlelist),\n",
    "      len(mckin_urllist)\n",
    "     )"
   ]
  },
  {
   "cell_type": "markdown",
   "metadata": {},
   "source": [
    "### Parsing single site"
   ]
  },
  {
   "cell_type": "code",
   "execution_count": 92,
   "metadata": {},
   "outputs": [
    {
     "name": "stdout",
     "output_type": "stream",
     "text": [
      "https://www.mckinsey.com//business-functions/mckinsey-analytics/our-insights/the-analytics-academy-bridging-the-gap-between-human-and-artificial-intelligence\n",
      "https://www.mckinsey.com//business-functions/mckinsey-analytics/our-insights/the-analytics-academy-bridging-the-gap-between-human-and-artificial-intelligence\n"
     ]
    }
   ],
   "source": [
    "mckin_oneurl = 'https://www.mckinsey.com/' + mckin_urllist[0]\n",
    "print(mckin_oneurl)\n",
    "\n",
    "mckin_urllist = list(map(lambda url: 'https://www.mckinsey.com/' + url, mckin_urllist))\n",
    "print(mckin_urllist[0])"
   ]
  },
  {
   "cell_type": "code",
   "execution_count": 93,
   "metadata": {},
   "outputs": [],
   "source": [
    "mckin_pagehtml = requests.get(mckin_oneurl).content\n",
    "mckin_pagesel = Selector(text = mckin_pagehtml)"
   ]
  },
  {
   "cell_type": "code",
   "execution_count": 98,
   "metadata": {},
   "outputs": [
    {
     "name": "stdout",
     "output_type": "stream",
     "text": [
      "\r\n",
      "\tCapability building: Bridging the gap between human and artificial intelligence | McKinsey\r\n",
      "\n"
     ]
    }
   ],
   "source": [
    "mckin_text = mckin_pagesel.css('p ::text').extract()\n",
    "mckin_title = mckin_pagesel.css('title ::text').extract_first()\n",
    "print(mckin_title)"
   ]
  },
  {
   "cell_type": "code",
   "execution_count": 75,
   "metadata": {},
   "outputs": [
    {
     "data": {
      "text/plain": [
       "'Our mission is to help leaders in multiple sectors develop a deeper understanding of the global economy. Our flagship business publication has been defining and informing the senior-management agenda since 1964. Our learning programs help organizations accelerate growth by unlocking their people\\'s potential. The rise of artificial intelligence (AI)  is one of the defining business opportunities for leaders today. Closely associated with it: the challenge of creating an organization that can rise to that opportunity and exploit the potential of AI at scale. Meeting this challenge requires organizations to prepare their leaders, business staff, analytics teams, and end users  to work and think in new ways —not only by helping these cohorts understand how to tap into AI effectively, but also by teaching them to embrace data exploration, agile development, and interdisciplinary teamwork. Often, companies use an ad hoc approach to their talent-building efforts. They hire new workers equipped with these skills in spurts and rely on online-learning platforms, universities, and executive-level programs to train existing employees. But these quick-fix tactics aren’t enough to transform an organization into one that’s fully AI-driven and capable of keeping up with the blazing pace of change in both technology and the nature of business competition that we’re experiencing today. While hiring new talent can address immediate resource needs, such as those required to rapidly build out an organization’s AI practice at the start, it sidesteps a critical need for most organizations: broad capability building across all levels. This is best accomplished by training current employees. Educational offerings from external parties have limitations, too: they aren’t designed to deliver the holistic, company-specific training or the cohesive, repeatable protocols essential for driving deep and lasting cultural changes, agile and cross-functional collaboration, and rapid scaling. \\r\\n\\t\\t\\t\\t\\t\\t\\tQuick-fix tactics aren’t enough to transform an organization into one that’s fully AI-driven and capable of keeping up with the blazing pace of change in both technology and the nature of business competition.\\r\\n\\t\\t\\t\\t\\t\\t The answer to the talent challenge, in our experience, is creating an in-house analytics academy. These bespoke analytics-training centers are a relatively new development, and our experience to date suggests that they are poised to move from early adoption by select organizations to core elements of the AI transformations that lie ahead for most companies. In this article, we explore what an analytics academy can do that other approaches largely can’t, as well as share best practices culled from companies that have launched academies. It’s important to note that the current focus for analytics academies is to help their organizations successfully bring AI to scale. As a result, their first order of business is to reskill those who play an active role in this work—for example, helping business staff to acquire  crucial analytics-translator skills . As more AI systems are deployed, a subsequent and equally important issue that all companies and society in general will need to answer is how to retrain workers when machines take on tasks humans once did. We believe academies hold the promise of playing a role in this retraining effort. But that is part of  a larger conversation \\xa0that is not the focus of our discussion here. Our experience suggests that analytics academies can be an extremely effective avenue for developing an AI-educated workforce in a concerted manner, providing a mechanism to deliver three critical building blocks needed for successful AI efforts: There is no one-size-fits-all approach for delivering these components. Companies often structure their academies a bit differently based on where they are in their AI journey and where they need to go. Often, however, it is effective to start with executives and leadership in order to create alignment, establish a common aspiration and understanding, and enable role modeling for the broader transformation. One global metals producer focused first on developing its leadership training program so it could effectively guide the company’s AI transformation—which would ultimately reduce operational costs across more than 15 manufacturing sites. Senior business and operational executives who previously didn’t back AI initiatives, because they were either doubtful of the technology or simply out of their comfort zones, became strong supporters of their company’s transformation. Even though there isn’t a single “academy” template, we’re starting to see some common themes among the most successful ones. Those themes include synchronizing academies with strategic goals; delivering tailored learning journeys to every stakeholder (starting at the very top and cascading throughout the organization); addressing all important skill gaps, not just the technical ones; promoting on-the-job learning; energizing engagement; and keeping training relevant over the long haul. When integrated, we find the best practices that follow can fundamentally change the speed, depth, and scale at which these companies can extract value from AI-driven analytics. Not considering these practices in totality can have a domino effect. For example, organizations that treat the academy as a stand-alone entity rather than as an enabler for transformation may not recognize who should be trained and what curricula are needed. Academies are most successful when they align skill building to their company’s AI road maps. By articulating how newly acquired skills will further the company’s strategic goals, they can ensure they have the right talent and skills to support their journey and demonstrate tangible value from their capability building. One industrial firm used its academy to prepare leaders, business staff, and analytics teams for embedding AI into daily operations so they could squeeze out production inefficiencies. Leaders gained a strong understanding of the opportunity and how AI worked, driving greater buy-in and support for a series of use cases aimed at continuous manufacturing improvement. Simultaneously, analytics teams deepened their understanding of business goals and challenges, which shifted their focus from a purely technical endeavor, such as where they could apply a particular AI technique such as neural networks, to applying their expertise to solving problems with the highest business value. \\r\\n\\t\\t\\t\\t\\t\\t\\tAnalytics academies ensure leaders are well versed in AI so they can develop and execute a strategy that pushes them ahead of the competition.\\r\\n\\t\\t\\t\\t\\t\\t Such work is paying off for the industrial firm. Academy-trained teams are already using AI to predict optimal operational parameters—for example, to identify which changes in machine settings will reduce quality defects. To date, these teams have implemented initiatives worth 10 percent of the company’s earnings (before interest, taxes, depreciation, and amortization), with tens of millions in profit ultimately expected over 18 months as nearly a dozen new AI tools improve yield and throughput across multiple units in the plant, increase energy efficiency, and reduce defects. At a large retail conglomerate, leaders created an academy to support a company-wide AI transformation launched to combat the existential threat they faced from digital natives. At the time, staff had limited analytics skills and were applying them only in small pockets around the company. Decision makers with more than 20 years of experience in their respective fields were often unaware, unconvinced, or uncomfortable with AI. However, in just six months, the academy upskilled more than 1,000 employees, with 150 new staff members now going through training each week. More than 40 of the 100 AI use cases on its road map are now in flight, and the company expects 70 percent growth in earnings before interest and taxes over the next three years, should all the use cases be completed. Delivering impact at scale requires active involvement from stakeholders across all levels of seniority, including boards, executives, business lines and functions, technical teams, and end users, along with  highly critical translator expertise . Academies offer a sustainable and streamlined mechanism for handling this broad range of learning journeys and typically provide a phased approach, tackling each cohort as needed. At the aforementioned industrial firm, for example, senior executives participated in six two-hour sessions over the course of 12 weeks to learn “the basics,” including AI essentials, opportunity identification, and ways to sustain momentum. At the same time, more than 150 translators, data scientists, and data engineers received 50 hours of training over the course of ten to 12 weeks on how to deliver use cases collaboratively. For end users, such as plant-operations managers, rather than starting with workshops, the academy first sent regular bite-size emails on the value of data, the impact AI will have on their day-to-day work, and AI success stories. The academy also conducted town halls for end users to ask questions. As end users become more familiar with AI, the academy plans to deliver targeted workshops to help them use new AI-driven predictions in their work and understand enough about the AI models to know how they arrive at their recommendations—knowledge that’s particularly critical for building trust in AI tools among workers used to drawing on their experience when making decisions. When considering end-user training, most companies focus on those who will be actively using AI systems or need to incorporate AI recommendations into their workflows. (Store managers and knowledge workers are typical training targets.) However, we are seeing some organizations beginning to engage frontline workers who may not be asked to use new AI tools. For example, the retail conglomerate mentioned previously plans to deliver academy training over time to all 40,000 employees, including store cashiers, reflecting the CEO’s belief that the all-encompassing extent of the transformation he desires requires all-encompassing training. Often, executives envision technical training when they first hear about the analytics-academy concept. True, academies often offer foundational courses—for instance, to help executives learn about AI or to help analytics teams keep up with rapid technology changes. Successful ones, however, also fervently emphasize the organizational and cultural changes required to scale AI and help codify knowledge and establish practices that ensure repeatable use-case execution, another critical enabler of scaling. Another retailer at the start of its AI transformation journey found that the most impactful elements of its learning program included the following: This capability building had an immediate impact, including greater demand for AI tools from the more than 100 divisional leaders who participated in the program and smoother execution of use cases to dramatically increase deployment and adoption of AI. Successful academies also combine classroom theory and real work so participants learn by doing and can advance the company’s agenda at the same time. We often see this real-world learning delivered in one of two ways. First, within the classroom, academies offer hands-on projects directly related to solving existing business challenges. For example, after translators at an Asia–Pacific telco completed coursework on spotting AI opportunities, they were asked to put theory into practice by identifying three potential initiatives in their business and then pressure-testing the value and feasibility of each use case. The laser focus on business value has put them on track to deliver more than $100 million of incremental earnings before interest and taxes over the first 18 months of the program. \\r\\n\\t\\t\\t\\t\\t\\t\\tTranslators can only master their trade by observing seasoned colleagues at work and then working on actual problems with expert guidance.\\r\\n\\t\\t\\t\\t\\t\\t Second, and more important, outside the classroom, academies provide coaching and on-the-job training on active company use cases. By bringing together classroom learning and apprenticeships in targeted learning journeys, academies help participants grow from learner to practitioner as they gain real-world experience. At the metals manufacturer, for example, process-control engineers who received translator training were tasked with initiating the company’s first use cases for optimizing manufacturing and supply-chain processes. The engineers guided their teams on which problems to tackle (they found the biggest win was optimizing the recipe for the most important alloys) and drove design, adoption, and training related to the dashboards that line operators would use. One multi-industry holding company offers a model for how companies can motivate workers to attend academies and apply their learnings. First, it positions training for prime roles, such as translators and data scientists, as a privilege. For example, business leaders nominate high performers for translator training, who are then approved by the company’s chair, vice chair, head of analytics, and academy program head. Likewise, data-science and data-engineering candidates must be cleared for training following a technical-assessment test. Second, the company celebrates achievements, including individual completion of courses, team completion of projects and delivery of value, and overall attainment of organizational milestones, such as completion of priority use cases. High performers are awarded trophies at the annual company meeting in front of more than 100 leaders. Third, in addition to applauding achievements, the company works to free academy participants from fear of failure as they pursue fieldwork. Learners present to specialists—and sometimes even to the CEO—use cases that didn’t quite go as planned. By asking different types of constructive questions, diverse constituents illuminate a wide range of lessons learned. Finally, the company is making training social and even community led. For instance, academy participants take and upload short, two- to three-minute videos on a community website, sharing everything from what they learned to what projects they worked on. Use-case teams present technical aspects of their work to other program members and colleagues from their business vertical. And the company is now organizing meet-ups and hackathons with the broader AI community in its region and even inviting faculty from local institutions as guest speakers—all of which drives demand for skill building from the ground up. AI technologies are constantly evolving, and technical experts need to stay up to date on AI techniques, tools, and supporting technologies. Talent comes and goes, and new hires need to acquire institutional knowledge quickly. As transformations march forward, cross-functional teams find better ways of working together, which must ultimately be fed back into the ecosystem. As a result, the most successful academies put in place structures that allow them to continue evolving as the landscape changes. These include the following: A growing number of global organizations are elevating capability building to the top of their AI agenda. They recognize that tapping into the transformative power of AI is not simply about building the technical platform, identifying opportunities, or even hiring data scientists. The keys to success also include upskilling the 60-something-year-old board member, the seasoned but sceptical executive, and their newly formed cross-functional analytics teams and frontline end users, to ensure all have the skills and knowledge they need to help their company choreograph AI at scale. Driving capability building at such a significant and, in many ways, organization-specific level across a diverse workforce requires the targeted learning journeys that analytics academies are expressly designed to deliver. Already we’ve seen academy-trained teams gain more traction with AI than was previously possible within their organizations. And as the technology continues to evolve, so too will academies, to ensure workers are equipped for whatever lies ahead. Solly Brown  is an associate partner in McKinsey’s Sydney office,  Darshit Gandhi  is an associate partner in the New York office,  Louise Herring  is a partner in the London office, and  Ankur Puri  is an associate partner in the Delhi office. The authors wish to thank Ali Arat, Holger Hürtgen, Sebastian Kerkhoff, and Akanksha Midha for their contributions to this article. Please sign in to print or download this article. Please create a profile to print or download this article. \\r\\n                                    Create a profile to get full access to our articles and reports, including those by McKinsey Quarterly and the McKinsey Global Institute, and to subscribe to our newsletters and email alerts.\\r\\n                                   McKinsey uses cookies to improve site functionality, provide you\\r\\n\\t\\t\\t\\t\\t\\twith a better browsing experience, and to enable our partners to advertise to you. Detailed information on the\\r\\n\\t\\t\\t\\t\\t\\tuse of cookies on this Site, and how you can decline them, is provided in our  cookie policy . By using\\r\\n\\t\\t\\t\\t\\t\\tthis Site or clicking on \"OK\", you consent to the use of cookies. \\r\\n                             Sign up for email alerts \\r\\n                     Select topics and stay current with our latest insights'"
      ]
     },
     "execution_count": 75,
     "metadata": {},
     "output_type": "execute_result"
    }
   ],
   "source": [
    "mckin_text = ' '.join(mckin_text)\n",
    "mckin_text"
   ]
  },
  {
   "cell_type": "code",
   "execution_count": 67,
   "metadata": {},
   "outputs": [
    {
     "data": {
      "text/plain": [
       "2724704"
      ]
     },
     "execution_count": 67,
     "metadata": {},
     "output_type": "execute_result"
    }
   ],
   "source": [
    "# text dump\n",
    "file = open('mckin_textdump.txt', 'w')\n",
    "file.write(mckin_text)"
   ]
  },
  {
   "cell_type": "markdown",
   "metadata": {},
   "source": [
    "## McKinsey spider"
   ]
  },
  {
   "cell_type": "code",
   "execution_count": 99,
   "metadata": {},
   "outputs": [
    {
     "name": "stderr",
     "output_type": "stream",
     "text": [
      "2019-10-16 09:54:37 [scrapy.utils.log] INFO: Scrapy 1.6.0 started (bot: scrapybot)\n",
      "2019-10-16 09:54:37 [scrapy.utils.log] INFO: Versions: lxml 4.4.1.0, libxml2 2.9.9, cssselect 1.0.3, parsel 1.5.1, w3lib 1.20.0, Twisted 19.2.0, Python 3.6.9 |Anaconda, Inc.| (default, Jul 30 2019, 14:00:49) [MSC v.1915 64 bit (AMD64)], pyOpenSSL 19.0.0 (OpenSSL 1.1.1c  28 May 2019), cryptography 2.7, Platform Windows-10-10.0.16299-SP0\n",
      "2019-10-16 09:54:37 [scrapy.crawler] INFO: Overridden settings: {}\n",
      "2019-10-16 09:54:37 [scrapy.extensions.telnet] INFO: Telnet Password: 1d5f1def1ae40206\n",
      "2019-10-16 09:54:37 [scrapy.middleware] INFO: Enabled extensions:\n",
      "['scrapy.extensions.corestats.CoreStats',\n",
      " 'scrapy.extensions.telnet.TelnetConsole',\n",
      " 'scrapy.extensions.logstats.LogStats']\n",
      "2019-10-16 09:54:37 [scrapy.middleware] INFO: Enabled downloader middlewares:\n",
      "['scrapy.downloadermiddlewares.httpauth.HttpAuthMiddleware',\n",
      " 'scrapy.downloadermiddlewares.downloadtimeout.DownloadTimeoutMiddleware',\n",
      " 'scrapy.downloadermiddlewares.defaultheaders.DefaultHeadersMiddleware',\n",
      " 'scrapy.downloadermiddlewares.useragent.UserAgentMiddleware',\n",
      " 'scrapy.downloadermiddlewares.retry.RetryMiddleware',\n",
      " 'scrapy.downloadermiddlewares.redirect.MetaRefreshMiddleware',\n",
      " 'scrapy.downloadermiddlewares.httpcompression.HttpCompressionMiddleware',\n",
      " 'scrapy.downloadermiddlewares.redirect.RedirectMiddleware',\n",
      " 'scrapy.downloadermiddlewares.cookies.CookiesMiddleware',\n",
      " 'scrapy.downloadermiddlewares.httpproxy.HttpProxyMiddleware',\n",
      " 'scrapy.downloadermiddlewares.stats.DownloaderStats']\n",
      "2019-10-16 09:54:37 [scrapy.middleware] INFO: Enabled spider middlewares:\n",
      "['scrapy.spidermiddlewares.httperror.HttpErrorMiddleware',\n",
      " 'scrapy.spidermiddlewares.offsite.OffsiteMiddleware',\n",
      " 'scrapy.spidermiddlewares.referer.RefererMiddleware',\n",
      " 'scrapy.spidermiddlewares.urllength.UrlLengthMiddleware',\n",
      " 'scrapy.spidermiddlewares.depth.DepthMiddleware']\n",
      "2019-10-16 09:54:37 [scrapy.middleware] INFO: Enabled item pipelines:\n",
      "[]\n",
      "2019-10-16 09:54:37 [scrapy.core.engine] INFO: Spider opened\n",
      "2019-10-16 09:54:37 [scrapy.extensions.logstats] INFO: Crawled 0 pages (at 0 pages/min), scraped 0 items (at 0 items/min)\n",
      "2019-10-16 09:54:37 [scrapy.extensions.telnet] INFO: Telnet console listening on 127.0.0.1:6023\n",
      "2019-10-16 09:54:37 [scrapy.core.engine] DEBUG: Crawled (200) <GET https://www.mckinsey.com//business-functions/mckinsey-analytics/our-insights/can-artificial-intelligence-help-society-as-much-as-it-helps-business> (referer: None)\n",
      "2019-10-16 09:54:37 [scrapy.core.engine] DEBUG: Crawled (200) <GET https://www.mckinsey.com//business-functions/mckinsey-analytics/our-insights/the-analytics-academy-bridging-the-gap-between-human-and-artificial-intelligence> (referer: None)\n",
      "2019-10-16 09:54:38 [urllib3.connectionpool] DEBUG: Starting new HTTPS connection (1): www.mckinsey.com:443\n"
     ]
    },
    {
     "name": "stdout",
     "output_type": "stream",
     "text": [
      "https://www.mckinsey.com//business-functions/mckinsey-analytics/our-insights/can-artificial-intelligence-help-society-as-much-as-it-helps-business\n"
     ]
    },
    {
     "name": "stderr",
     "output_type": "stream",
     "text": [
      "2019-10-16 09:54:38 [urllib3.connectionpool] DEBUG: https://www.mckinsey.com:443 \"GET //business-functions/mckinsey-analytics/our-insights/can-artificial-intelligence-help-society-as-much-as-it-helps-business HTTP/1.1\" 200 19715\n",
      "2019-10-16 09:54:38 [scrapy.core.engine] DEBUG: Crawled (200) <GET https://www.mckinsey.com//business-functions/mckinsey-analytics/our-insights/confronting-the-risks-of-artificial-intelligence> (referer: None)\n",
      "2019-10-16 09:54:38 [scrapy.core.engine] DEBUG: Crawled (200) <GET https://www.mckinsey.com//featured-insights/artificial-intelligence/five-fifty-real-world-ai> (referer: None)\n",
      "2019-10-16 09:54:38 [scrapy.core.engine] DEBUG: Crawled (200) <GET https://www.mckinsey.com//featured-insights/artificial-intelligence/tackling-bias-in-artificial-intelligence-and-in-humans> (referer: None)\n",
      "2019-10-16 09:54:38 [scrapy.core.engine] DEBUG: Crawled (200) <GET https://www.mckinsey.com//business-functions/mckinsey-analytics/our-insights/the-executives-ai-playbook> (referer: None)\n",
      "2019-10-16 09:54:38 [scrapy.core.engine] DEBUG: Crawled (200) <GET https://www.mckinsey.com//featured-insights/artificial-intelligence/the-real-world-potential-and-limitations-of-artificial-intelligence> (referer: None)\n",
      "2019-10-16 09:54:38 [scrapy.core.engine] DEBUG: Crawled (200) <GET https://www.mckinsey.com//business-functions/mckinsey-analytics/our-insights/leading-your-organization-to-responsible-ai> (referer: None)\n",
      "2019-10-16 09:54:38 [scrapy.core.engine] DEBUG: Crawled (200) <GET https://www.mckinsey.com//featured-insights/artificial-intelligence/the-ethics-of-artificial-intelligence> (referer: None)\n",
      "2019-10-16 09:54:38 [urllib3.connectionpool] DEBUG: Starting new HTTPS connection (1): www.mckinsey.com:443\n"
     ]
    },
    {
     "name": "stdout",
     "output_type": "stream",
     "text": [
      "https://www.mckinsey.com//business-functions/mckinsey-analytics/our-insights/the-analytics-academy-bridging-the-gap-between-human-and-artificial-intelligence\n"
     ]
    },
    {
     "name": "stderr",
     "output_type": "stream",
     "text": [
      "2019-10-16 09:54:39 [urllib3.connectionpool] DEBUG: https://www.mckinsey.com:443 \"GET //business-functions/mckinsey-analytics/our-insights/the-analytics-academy-bridging-the-gap-between-human-and-artificial-intelligence HTTP/1.1\" 200 25382\n",
      "2019-10-16 09:54:39 [scrapy.core.engine] DEBUG: Crawled (200) <GET https://www.mckinsey.com//business-functions/mckinsey-analytics/our-insights/artificial-intelligence-why-a-digital-base-is-critical> (referer: None)\n",
      "2019-10-16 09:54:39 [urllib3.connectionpool] DEBUG: Starting new HTTPS connection (1): www.mckinsey.com:443\n"
     ]
    },
    {
     "name": "stdout",
     "output_type": "stream",
     "text": [
      "https://www.mckinsey.com//business-functions/mckinsey-analytics/our-insights/confronting-the-risks-of-artificial-intelligence\n"
     ]
    },
    {
     "name": "stderr",
     "output_type": "stream",
     "text": [
      "2019-10-16 09:54:39 [urllib3.connectionpool] DEBUG: https://www.mckinsey.com:443 \"GET //business-functions/mckinsey-analytics/our-insights/confronting-the-risks-of-artificial-intelligence HTTP/1.1\" 200 23741\n",
      "2019-10-16 09:54:39 [urllib3.connectionpool] DEBUG: Starting new HTTPS connection (1): www.mckinsey.com:443\n"
     ]
    },
    {
     "name": "stdout",
     "output_type": "stream",
     "text": [
      "https://www.mckinsey.com//featured-insights/artificial-intelligence/five-fifty-real-world-ai\n"
     ]
    },
    {
     "name": "stderr",
     "output_type": "stream",
     "text": [
      "2019-10-16 09:54:40 [urllib3.connectionpool] DEBUG: https://www.mckinsey.com:443 \"GET //featured-insights/artificial-intelligence/five-fifty-real-world-ai HTTP/1.1\" 200 14325\n",
      "2019-10-16 09:54:40 [urllib3.connectionpool] DEBUG: Starting new HTTPS connection (1): www.mckinsey.com:443\n"
     ]
    },
    {
     "name": "stdout",
     "output_type": "stream",
     "text": [
      "https://www.mckinsey.com//featured-insights/artificial-intelligence/tackling-bias-in-artificial-intelligence-and-in-humans\n"
     ]
    },
    {
     "name": "stderr",
     "output_type": "stream",
     "text": [
      "2019-10-16 09:54:40 [urllib3.connectionpool] DEBUG: https://www.mckinsey.com:443 \"GET //featured-insights/artificial-intelligence/tackling-bias-in-artificial-intelligence-and-in-humans HTTP/1.1\" 200 25443\n",
      "2019-10-16 09:54:40 [urllib3.connectionpool] DEBUG: Starting new HTTPS connection (1): www.mckinsey.com:443\n"
     ]
    },
    {
     "name": "stdout",
     "output_type": "stream",
     "text": [
      "https://www.mckinsey.com//business-functions/mckinsey-analytics/our-insights/the-executives-ai-playbook\n"
     ]
    },
    {
     "name": "stderr",
     "output_type": "stream",
     "text": [
      "2019-10-16 09:54:41 [urllib3.connectionpool] DEBUG: https://www.mckinsey.com:443 \"GET //business-functions/mckinsey-analytics/our-insights/the-executives-ai-playbook HTTP/1.1\" 200 14298\n",
      "2019-10-16 09:54:41 [urllib3.connectionpool] DEBUG: Starting new HTTPS connection (1): www.mckinsey.com:443\n"
     ]
    },
    {
     "name": "stdout",
     "output_type": "stream",
     "text": [
      "https://www.mckinsey.com//featured-insights/artificial-intelligence/the-real-world-potential-and-limitations-of-artificial-intelligence\n"
     ]
    },
    {
     "name": "stderr",
     "output_type": "stream",
     "text": [
      "2019-10-16 09:54:41 [urllib3.connectionpool] DEBUG: https://www.mckinsey.com:443 \"GET //featured-insights/artificial-intelligence/the-real-world-potential-and-limitations-of-artificial-intelligence HTTP/1.1\" 200 29393\n",
      "2019-10-16 09:54:41 [urllib3.connectionpool] DEBUG: Starting new HTTPS connection (1): www.mckinsey.com:443\n"
     ]
    },
    {
     "name": "stdout",
     "output_type": "stream",
     "text": [
      "https://www.mckinsey.com//business-functions/mckinsey-analytics/our-insights/leading-your-organization-to-responsible-ai\n"
     ]
    },
    {
     "name": "stderr",
     "output_type": "stream",
     "text": [
      "2019-10-16 09:54:42 [urllib3.connectionpool] DEBUG: https://www.mckinsey.com:443 \"GET //business-functions/mckinsey-analytics/our-insights/leading-your-organization-to-responsible-ai HTTP/1.1\" 200 24442\n",
      "2019-10-16 09:54:42 [urllib3.connectionpool] DEBUG: Starting new HTTPS connection (1): www.mckinsey.com:443\n"
     ]
    },
    {
     "name": "stdout",
     "output_type": "stream",
     "text": [
      "https://www.mckinsey.com//featured-insights/artificial-intelligence/the-ethics-of-artificial-intelligence\n"
     ]
    },
    {
     "name": "stderr",
     "output_type": "stream",
     "text": [
      "2019-10-16 09:54:43 [urllib3.connectionpool] DEBUG: https://www.mckinsey.com:443 \"GET //featured-insights/artificial-intelligence/the-ethics-of-artificial-intelligence HTTP/1.1\" 200 15776\n",
      "2019-10-16 09:54:43 [scrapy.core.engine] DEBUG: Crawled (200) <GET https://www.mckinsey.com//featured-insights/artificial-intelligence/tackling-europes-gap-in-digital-and-ai> (referer: None)\n",
      "2019-10-16 09:54:43 [scrapy.core.engine] DEBUG: Crawled (200) <GET https://www.mckinsey.com//featured-insights/artificial-intelligence/applying-artificial-intelligence-for-social-good> (referer: None)\n",
      "2019-10-16 09:54:43 [scrapy.core.engine] DEBUG: Crawled (200) <GET https://www.mckinsey.com//featured-insights/artificial-intelligence/notes-from-the-ai-frontier-modeling-the-impact-of-ai-on-the-world-economy> (referer: None)\n",
      "2019-10-16 09:54:43 [scrapy.core.engine] DEBUG: Crawled (200) <GET https://www.mckinsey.com//featured-insights/artificial-intelligence/notes-from-the-ai-frontier-applications-and-value-of-deep-learning> (referer: None)\n",
      "2019-10-16 09:54:43 [scrapy.core.engine] DEBUG: Crawled (200) <GET https://www.mckinsey.com//business-functions/mckinsey-analytics/our-insights/competing-in-the-ai-economy-an-interview-with-mits-andrew-mcafee> (referer: None)\n",
      "2019-10-16 09:54:43 [scrapy.core.engine] DEBUG: Crawled (200) <GET https://www.mckinsey.com//featured-insights/future-of-work/thomas-l-friedman-and-james-manyika-the-worlds-gone-from-flat-to-fast-to-deep> (referer: None)\n",
      "2019-10-16 09:54:43 [scrapy.core.engine] DEBUG: Crawled (200) <GET https://www.mckinsey.com//featured-insights/artificial-intelligence/kai-fu-lees-perspectives-on-two-global-leaders-in-artificial-intelligence-china-and-the-united-states> (referer: None)\n",
      "2019-10-16 09:54:43 [urllib3.connectionpool] DEBUG: Starting new HTTPS connection (1): www.mckinsey.com:443\n"
     ]
    },
    {
     "name": "stdout",
     "output_type": "stream",
     "text": [
      "https://www.mckinsey.com//business-functions/mckinsey-analytics/our-insights/artificial-intelligence-why-a-digital-base-is-critical\n"
     ]
    },
    {
     "name": "stderr",
     "output_type": "stream",
     "text": [
      "2019-10-16 09:54:44 [urllib3.connectionpool] DEBUG: https://www.mckinsey.com:443 \"GET //business-functions/mckinsey-analytics/our-insights/artificial-intelligence-why-a-digital-base-is-critical HTTP/1.1\" 200 19248\n",
      "2019-10-16 09:54:44 [scrapy.core.engine] DEBUG: Crawled (200) <GET https://www.mckinsey.com//featured-insights/artificial-intelligence/how-artificial-intelligence-and-data-add-value-to-businesses> (referer: None)\n",
      "2019-10-16 09:54:44 [urllib3.connectionpool] DEBUG: Starting new HTTPS connection (1): www.mckinsey.com:443\n"
     ]
    },
    {
     "name": "stdout",
     "output_type": "stream",
     "text": [
      "https://www.mckinsey.com//featured-insights/artificial-intelligence/tackling-europes-gap-in-digital-and-ai\n"
     ]
    },
    {
     "name": "stderr",
     "output_type": "stream",
     "text": [
      "2019-10-16 09:54:45 [urllib3.connectionpool] DEBUG: https://www.mckinsey.com:443 \"GET //featured-insights/artificial-intelligence/tackling-europes-gap-in-digital-and-ai HTTP/1.1\" 200 23604\n",
      "2019-10-16 09:54:45 [urllib3.connectionpool] DEBUG: Starting new HTTPS connection (1): www.mckinsey.com:443\n"
     ]
    },
    {
     "name": "stdout",
     "output_type": "stream",
     "text": [
      "https://www.mckinsey.com//featured-insights/artificial-intelligence/applying-artificial-intelligence-for-social-good\n"
     ]
    },
    {
     "name": "stderr",
     "output_type": "stream",
     "text": [
      "2019-10-16 09:54:45 [urllib3.connectionpool] DEBUG: https://www.mckinsey.com:443 \"GET //featured-insights/artificial-intelligence/applying-artificial-intelligence-for-social-good HTTP/1.1\" 200 29736\n",
      "2019-10-16 09:54:45 [urllib3.connectionpool] DEBUG: Starting new HTTPS connection (1): www.mckinsey.com:443\n"
     ]
    },
    {
     "name": "stdout",
     "output_type": "stream",
     "text": [
      "https://www.mckinsey.com//featured-insights/artificial-intelligence/notes-from-the-ai-frontier-modeling-the-impact-of-ai-on-the-world-economy\n"
     ]
    },
    {
     "name": "stderr",
     "output_type": "stream",
     "text": [
      "2019-10-16 09:54:46 [urllib3.connectionpool] DEBUG: https://www.mckinsey.com:443 \"GET //featured-insights/artificial-intelligence/notes-from-the-ai-frontier-modeling-the-impact-of-ai-on-the-world-economy HTTP/1.1\" 200 21983\n",
      "2019-10-16 09:54:46 [urllib3.connectionpool] DEBUG: Starting new HTTPS connection (1): www.mckinsey.com:443\n"
     ]
    },
    {
     "name": "stdout",
     "output_type": "stream",
     "text": [
      "https://www.mckinsey.com//featured-insights/artificial-intelligence/notes-from-the-ai-frontier-applications-and-value-of-deep-learning\n"
     ]
    },
    {
     "name": "stderr",
     "output_type": "stream",
     "text": [
      "2019-10-16 09:54:46 [urllib3.connectionpool] DEBUG: https://www.mckinsey.com:443 \"GET //featured-insights/artificial-intelligence/notes-from-the-ai-frontier-applications-and-value-of-deep-learning HTTP/1.1\" 200 30112\n",
      "2019-10-16 09:54:46 [urllib3.connectionpool] DEBUG: Starting new HTTPS connection (1): www.mckinsey.com:443\n"
     ]
    },
    {
     "name": "stdout",
     "output_type": "stream",
     "text": [
      "https://www.mckinsey.com//business-functions/mckinsey-analytics/our-insights/competing-in-the-ai-economy-an-interview-with-mits-andrew-mcafee\n"
     ]
    },
    {
     "name": "stderr",
     "output_type": "stream",
     "text": [
      "2019-10-16 09:54:46 [urllib3.connectionpool] DEBUG: https://www.mckinsey.com:443 \"GET //business-functions/mckinsey-analytics/our-insights/competing-in-the-ai-economy-an-interview-with-mits-andrew-mcafee HTTP/1.1\" 200 17765\n",
      "2019-10-16 09:54:46 [urllib3.connectionpool] DEBUG: Starting new HTTPS connection (1): www.mckinsey.com:443\n"
     ]
    },
    {
     "name": "stdout",
     "output_type": "stream",
     "text": [
      "https://www.mckinsey.com//featured-insights/future-of-work/thomas-l-friedman-and-james-manyika-the-worlds-gone-from-flat-to-fast-to-deep\n"
     ]
    },
    {
     "name": "stderr",
     "output_type": "stream",
     "text": [
      "2019-10-16 09:54:47 [urllib3.connectionpool] DEBUG: https://www.mckinsey.com:443 \"GET //featured-insights/future-of-work/thomas-l-friedman-and-james-manyika-the-worlds-gone-from-flat-to-fast-to-deep HTTP/1.1\" 200 15954\n",
      "2019-10-16 09:54:47 [urllib3.connectionpool] DEBUG: Starting new HTTPS connection (1): www.mckinsey.com:443\n"
     ]
    },
    {
     "name": "stdout",
     "output_type": "stream",
     "text": [
      "https://www.mckinsey.com//featured-insights/artificial-intelligence/kai-fu-lees-perspectives-on-two-global-leaders-in-artificial-intelligence-china-and-the-united-states\n"
     ]
    },
    {
     "name": "stderr",
     "output_type": "stream",
     "text": [
      "2019-10-16 09:54:48 [urllib3.connectionpool] DEBUG: https://www.mckinsey.com:443 \"GET //featured-insights/artificial-intelligence/kai-fu-lees-perspectives-on-two-global-leaders-in-artificial-intelligence-china-and-the-united-states HTTP/1.1\" 200 18509\n",
      "2019-10-16 09:54:48 [scrapy.core.engine] DEBUG: Crawled (200) <GET https://www.mckinsey.com//featured-insights/artificial-intelligence/ai-looks-north-bridging-canadas-corporate-artificial-intelligence-gap> (referer: None)\n",
      "2019-10-16 09:54:48 [scrapy.core.engine] DEBUG: Crawled (200) <GET https://www.mckinsey.com//featured-insights/china/artificial-intelligence-implications-for-china> (referer: None)\n",
      "2019-10-16 09:54:48 [urllib3.connectionpool] DEBUG: Starting new HTTPS connection (1): www.mckinsey.com:443\n"
     ]
    },
    {
     "name": "stdout",
     "output_type": "stream",
     "text": [
      "https://www.mckinsey.com//featured-insights/artificial-intelligence/how-artificial-intelligence-and-data-add-value-to-businesses\n"
     ]
    },
    {
     "name": "stderr",
     "output_type": "stream",
     "text": [
      "2019-10-16 09:54:48 [urllib3.connectionpool] DEBUG: https://www.mckinsey.com:443 \"GET //featured-insights/artificial-intelligence/how-artificial-intelligence-and-data-add-value-to-businesses HTTP/1.1\" 200 20086\n",
      "2019-10-16 09:54:48 [urllib3.connectionpool] DEBUG: Starting new HTTPS connection (1): www.mckinsey.com:443\n"
     ]
    },
    {
     "name": "stdout",
     "output_type": "stream",
     "text": [
      "https://www.mckinsey.com//featured-insights/artificial-intelligence/ai-looks-north-bridging-canadas-corporate-artificial-intelligence-gap\n"
     ]
    },
    {
     "name": "stderr",
     "output_type": "stream",
     "text": [
      "2019-10-16 09:54:49 [urllib3.connectionpool] DEBUG: https://www.mckinsey.com:443 \"GET //featured-insights/artificial-intelligence/ai-looks-north-bridging-canadas-corporate-artificial-intelligence-gap HTTP/1.1\" 200 20542\n",
      "2019-10-16 09:54:49 [urllib3.connectionpool] DEBUG: Starting new HTTPS connection (1): www.mckinsey.com:443\n"
     ]
    },
    {
     "name": "stdout",
     "output_type": "stream",
     "text": [
      "https://www.mckinsey.com//featured-insights/china/artificial-intelligence-implications-for-china\n"
     ]
    },
    {
     "name": "stderr",
     "output_type": "stream",
     "text": [
      "2019-10-16 09:54:50 [urllib3.connectionpool] DEBUG: https://www.mckinsey.com:443 \"GET //featured-insights/china/artificial-intelligence-implications-for-china HTTP/1.1\" 200 17928\n",
      "2019-10-16 09:54:50 [scrapy.core.engine] DEBUG: Crawled (200) <GET https://www.mckinsey.com//featured-insights/artificial-intelligence/what-southeast-asia-needs-to-become-a-major-player-in-artificial-intelligence> (referer: None)\n",
      "2019-10-16 09:54:50 [scrapy.core.engine] DEBUG: Crawled (200) <GET https://www.mckinsey.com//industries/semiconductors/our-insights/artificial-intelligence-hardware-new-opportunities-for-semiconductor-companies> (referer: None)\n",
      "2019-10-16 09:54:50 [urllib3.connectionpool] DEBUG: Starting new HTTPS connection (1): www.mckinsey.com:443\n"
     ]
    },
    {
     "name": "stdout",
     "output_type": "stream",
     "text": [
      "https://www.mckinsey.com//featured-insights/artificial-intelligence/what-southeast-asia-needs-to-become-a-major-player-in-artificial-intelligence\n"
     ]
    },
    {
     "name": "stderr",
     "output_type": "stream",
     "text": [
      "2019-10-16 09:54:51 [urllib3.connectionpool] DEBUG: https://www.mckinsey.com:443 \"GET //featured-insights/artificial-intelligence/what-southeast-asia-needs-to-become-a-major-player-in-artificial-intelligence HTTP/1.1\" 200 18218\n",
      "2019-10-16 09:54:51 [scrapy.core.engine] DEBUG: Crawled (200) <GET https://www.mckinsey.com//featured-insights/future-of-work/ai-automation-and-the-future-of-work-ten-things-to-solve-for> (referer: None)\n",
      "2019-10-16 09:54:51 [scrapy.core.engine] DEBUG: Crawled (200) <GET https://www.mckinsey.com//business-functions/risk/our-insights/derisking-machine-learning-and-artificial-intelligence> (referer: None)\n",
      "2019-10-16 09:54:51 [scrapy.core.engine] DEBUG: Crawled (200) <GET https://www.mckinsey.com//business-functions/mckinsey-analytics/our-insights/how-chinas-fintechs-serve-the-underserved> (referer: None)\n",
      "2019-10-16 09:54:51 [scrapy.core.engine] DEBUG: Crawled (200) <GET https://www.mckinsey.com//industries/public-sector/our-insights/when-governments-turn-to-ai-algorithms-trade-offs-and-trust> (referer: None)\n",
      "2019-10-16 09:54:51 [urllib3.connectionpool] DEBUG: Starting new HTTPS connection (1): www.mckinsey.com:443\n"
     ]
    },
    {
     "name": "stdout",
     "output_type": "stream",
     "text": [
      "https://www.mckinsey.com//industries/semiconductors/our-insights/artificial-intelligence-hardware-new-opportunities-for-semiconductor-companies\n"
     ]
    },
    {
     "name": "stderr",
     "output_type": "stream",
     "text": [
      "2019-10-16 09:54:52 [urllib3.connectionpool] DEBUG: https://www.mckinsey.com:443 \"GET //industries/semiconductors/our-insights/artificial-intelligence-hardware-new-opportunities-for-semiconductor-companies HTTP/1.1\" 200 25597\n",
      "2019-10-16 09:54:52 [urllib3.connectionpool] DEBUG: Starting new HTTPS connection (1): www.mckinsey.com:443\n"
     ]
    },
    {
     "name": "stdout",
     "output_type": "stream",
     "text": [
      "https://www.mckinsey.com//featured-insights/future-of-work/ai-automation-and-the-future-of-work-ten-things-to-solve-for\n"
     ]
    },
    {
     "name": "stderr",
     "output_type": "stream",
     "text": [
      "2019-10-16 09:54:52 [urllib3.connectionpool] DEBUG: https://www.mckinsey.com:443 \"GET //featured-insights/future-of-work/ai-automation-and-the-future-of-work-ten-things-to-solve-for HTTP/1.1\" 200 26405\n",
      "2019-10-16 09:54:52 [urllib3.connectionpool] DEBUG: Starting new HTTPS connection (1): www.mckinsey.com:443\n"
     ]
    },
    {
     "name": "stdout",
     "output_type": "stream",
     "text": [
      "https://www.mckinsey.com//business-functions/risk/our-insights/derisking-machine-learning-and-artificial-intelligence\n"
     ]
    },
    {
     "name": "stderr",
     "output_type": "stream",
     "text": [
      "2019-10-16 09:54:53 [urllib3.connectionpool] DEBUG: https://www.mckinsey.com:443 \"GET //business-functions/risk/our-insights/derisking-machine-learning-and-artificial-intelligence HTTP/1.1\" 200 21336\n",
      "2019-10-16 09:54:53 [urllib3.connectionpool] DEBUG: Starting new HTTPS connection (1): www.mckinsey.com:443\n"
     ]
    },
    {
     "name": "stdout",
     "output_type": "stream",
     "text": [
      "https://www.mckinsey.com//business-functions/mckinsey-analytics/our-insights/how-chinas-fintechs-serve-the-underserved\n"
     ]
    },
    {
     "name": "stderr",
     "output_type": "stream",
     "text": [
      "2019-10-16 09:54:53 [urllib3.connectionpool] DEBUG: https://www.mckinsey.com:443 \"GET //business-functions/mckinsey-analytics/our-insights/how-chinas-fintechs-serve-the-underserved HTTP/1.1\" 200 18666\n",
      "2019-10-16 09:54:53 [urllib3.connectionpool] DEBUG: Starting new HTTPS connection (1): www.mckinsey.com:443\n"
     ]
    },
    {
     "name": "stdout",
     "output_type": "stream",
     "text": [
      "https://www.mckinsey.com//industries/public-sector/our-insights/when-governments-turn-to-ai-algorithms-trade-offs-and-trust\n"
     ]
    },
    {
     "name": "stderr",
     "output_type": "stream",
     "text": [
      "2019-10-16 09:54:54 [urllib3.connectionpool] DEBUG: https://www.mckinsey.com:443 \"GET //industries/public-sector/our-insights/when-governments-turn-to-ai-algorithms-trade-offs-and-trust HTTP/1.1\" 200 22764\n",
      "2019-10-16 09:54:54 [scrapy.core.engine] INFO: Closing spider (finished)\n",
      "2019-10-16 09:54:54 [scrapy.statscollectors] INFO: Dumping Scrapy stats:\n",
      "{'downloader/request_bytes': 15245,\n",
      " 'downloader/request_count': 26,\n",
      " 'downloader/request_method_count/GET': 26,\n",
      " 'downloader/response_bytes': 592354,\n",
      " 'downloader/response_count': 26,\n",
      " 'downloader/response_status_count/200': 26,\n",
      " 'finish_reason': 'finished',\n",
      " 'finish_time': datetime.datetime(2019, 10, 16, 7, 54, 54, 729785),\n",
      " 'log_count/DEBUG': 78,\n",
      " 'log_count/INFO': 9,\n",
      " 'response_received_count': 26,\n",
      " 'scheduler/dequeued': 26,\n",
      " 'scheduler/dequeued/memory': 26,\n",
      " 'scheduler/enqueued': 26,\n",
      " 'scheduler/enqueued/memory': 26,\n",
      " 'start_time': datetime.datetime(2019, 10, 16, 7, 54, 37, 455385)}\n",
      "2019-10-16 09:54:54 [scrapy.core.engine] INFO: Spider closed (finished)\n"
     ]
    }
   ],
   "source": [
    "from scrapy.crawler import CrawlerProcess\n",
    "\n",
    "# Create class\n",
    "class mckin_spider (scrapy.Spider):\n",
    "    name = \"mckinsey_spider\"\n",
    "    \n",
    "    def start_requests(self):\n",
    "        mckin_urls = mckin_urllist\n",
    "        for url in mckin_urls:\n",
    "            yield scrapy.Request(url = url, callback = self.parse)\n",
    "            \n",
    "    #Parsing\n",
    "    def parse(self, response):\n",
    "        print(response.url)\n",
    "        page_url = response.url\n",
    "        page_html = requests.get(page_url).content\n",
    "        page_sel = Selector(text = page_html)\n",
    "        \n",
    "        page_title = page_sel.css('title ::text').extract_first()\n",
    "        page_text = page_sel.css('p ::text').extract()\n",
    "        \n",
    "        page_alltext = []\n",
    "        for text in page_text:\n",
    "            page_alltext.append(text.lower())\n",
    "        \n",
    "        page_alltext = ' '.join(page_alltext)\n",
    "        \n",
    "        mckin_dict[page_title] = page_alltext\n",
    "        \n",
    "# Initiatlize dictionary\n",
    "mckin_dict = dict()\n",
    "\n",
    "#Run spider\n",
    "process = CrawlerProcess()\n",
    "process.crawl(mckin_spider)\n",
    "process.start()"
   ]
  },
  {
   "cell_type": "code",
   "execution_count": 100,
   "metadata": {},
   "outputs": [
    {
     "data": {
      "text/plain": [
       "26"
      ]
     },
     "execution_count": 100,
     "metadata": {},
     "output_type": "execute_result"
    }
   ],
   "source": [
    "process.stop()\n",
    "len(mckin_dict)"
   ]
  },
  {
   "cell_type": "code",
   "execution_count": 101,
   "metadata": {},
   "outputs": [],
   "source": [
    "import json\n",
    "\n",
    "with open('mckin_articles.json', 'w') as file:\n",
    "    json.dump(mckin_dict, file)"
   ]
  },
  {
   "cell_type": "code",
   "execution_count": null,
   "metadata": {},
   "outputs": [],
   "source": []
  }
 ],
 "metadata": {
  "kernelspec": {
   "display_name": "Python 3",
   "language": "python",
   "name": "python3"
  },
  "language_info": {
   "codemirror_mode": {
    "name": "ipython",
    "version": 3
   },
   "file_extension": ".py",
   "mimetype": "text/x-python",
   "name": "python",
   "nbconvert_exporter": "python",
   "pygments_lexer": "ipython3",
   "version": "3.6.9"
  }
 },
 "nbformat": 4,
 "nbformat_minor": 2
}
