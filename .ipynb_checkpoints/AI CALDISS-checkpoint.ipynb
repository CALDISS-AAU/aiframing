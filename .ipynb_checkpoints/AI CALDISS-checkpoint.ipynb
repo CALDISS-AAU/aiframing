{
 "cells": [
  {
   "cell_type": "code",
   "execution_count": 86,
   "metadata": {},
   "outputs": [],
   "source": [
    "import pandas as pd\n",
    "from nltk.corpus import stopwords\n",
    "from nltk.stem import WordNetLemmatizer\n",
    "# Language Processing (Gensim)\n",
    "import warnings\n",
    "warnings.filterwarnings(action='ignore', category=UserWarning, module='gensim')\n",
    "\n",
    "# Dictionary & Corpora\n",
    "from gensim.corpora.dictionary import Dictionary\n",
    "from gensim.models.tfidfmodel import TfidfModel\n",
    "\n",
    "from gensim.models.ldamodel import LdaModel\n",
    "\n",
    "import os"
   ]
  },
  {
   "cell_type": "code",
   "execution_count": 2,
   "metadata": {},
   "outputs": [],
   "source": [
    "mckinsey = pd.read_csv ('.\\\\data_work\\\\mckin_textdf.csv')"
   ]
  },
  {
   "cell_type": "code",
   "execution_count": 3,
   "metadata": {},
   "outputs": [],
   "source": [
    "ey = pd.read_csv ('.\\\\data_work\\\\ey_textdf.csv')"
   ]
  },
  {
   "cell_type": "code",
   "execution_count": 4,
   "metadata": {},
   "outputs": [],
   "source": [
    "bcg = pd.read_csv ('.\\\\data_work\\\\bcg_textdf.csv')"
   ]
  },
  {
   "cell_type": "code",
   "execution_count": 5,
   "metadata": {},
   "outputs": [
    {
     "name": "stdout",
     "output_type": "stream",
     "text": [
      "<class 'pandas.core.frame.DataFrame'>\n",
      "RangeIndex: 26 entries, 0 to 25\n",
      "Data columns (total 2 columns):\n",
      "title    26 non-null object\n",
      "text     26 non-null object\n",
      "dtypes: object(2)\n",
      "memory usage: 544.0+ bytes\n"
     ]
    }
   ],
   "source": [
    "mckinsey.info()"
   ]
  },
  {
   "cell_type": "code",
   "execution_count": 6,
   "metadata": {},
   "outputs": [
    {
     "name": "stdout",
     "output_type": "stream",
     "text": [
      "<class 'pandas.core.frame.DataFrame'>\n",
      "RangeIndex: 20 entries, 0 to 19\n",
      "Data columns (total 2 columns):\n",
      "title    20 non-null object\n",
      "text     20 non-null object\n",
      "dtypes: object(2)\n",
      "memory usage: 448.0+ bytes\n"
     ]
    }
   ],
   "source": [
    "bcg.info()"
   ]
  },
  {
   "cell_type": "code",
   "execution_count": 7,
   "metadata": {},
   "outputs": [
    {
     "name": "stdout",
     "output_type": "stream",
     "text": [
      "<class 'pandas.core.frame.DataFrame'>\n",
      "RangeIndex: 93 entries, 0 to 92\n",
      "Data columns (total 2 columns):\n",
      "title    93 non-null object\n",
      "text     93 non-null object\n",
      "dtypes: object(2)\n",
      "memory usage: 1.6+ KB\n"
     ]
    }
   ],
   "source": [
    "ey.info()"
   ]
  },
  {
   "cell_type": "code",
   "execution_count": 8,
   "metadata": {},
   "outputs": [],
   "source": [
    "from nltk.tokenize import word_tokenize"
   ]
  },
  {
   "cell_type": "code",
   "execution_count": 9,
   "metadata": {},
   "outputs": [],
   "source": [
    "# Importing stopwords\n",
    "stopwords_en = stopwords.words('english')\n",
    "stopwords_en.append('RT')\n",
    "stopwords_en.append('rt')"
   ]
  },
  {
   "cell_type": "code",
   "execution_count": 10,
   "metadata": {},
   "outputs": [],
   "source": [
    "\n",
    "# And now let us make it ready for use.\n",
    "wordnet_lemmatizer = WordNetLemmatizer()\n"
   ]
  },
  {
   "cell_type": "code",
   "execution_count": 67,
   "metadata": {},
   "outputs": [],
   "source": [
    "clean_ai = mckinsey['text'].map(lambda t: word_tokenize(t))"
   ]
  },
  {
   "cell_type": "code",
   "execution_count": 68,
   "metadata": {},
   "outputs": [],
   "source": [
    "clean_ai = clean_ai.map(lambda t: [word.lower().strip() for word in t if word.isalpha()])"
   ]
  },
  {
   "cell_type": "code",
   "execution_count": 69,
   "metadata": {},
   "outputs": [],
   "source": [
    "# lemmatize and removing stopwords\n",
    "clean_ai = clean_ai.map(\n",
    "    lambda t: [wordnet_lemmatizer.lemmatize(word) for word in t \n",
    "               if word not in stopwords_en])"
   ]
  },
  {
   "cell_type": "code",
   "execution_count": 59,
   "metadata": {},
   "outputs": [],
   "source": [
    "from gensim.models import Phrases"
   ]
  },
  {
   "cell_type": "code",
   "execution_count": 124,
   "metadata": {},
   "outputs": [],
   "source": [
    "bigram = Phrases(clean_ai, min_count=1, delimiter=b' ')"
   ]
  },
  {
   "cell_type": "code",
   "execution_count": 125,
   "metadata": {},
   "outputs": [],
   "source": [
    "for sent in clean_ai:\n",
    "    bigrams_ = [b for b in bigram[sent] if b.count(' ') == 1]"
   ]
  },
  {
   "cell_type": "code",
   "execution_count": 131,
   "metadata": {},
   "outputs": [
    {
     "name": "stdout",
     "output_type": "stream",
     "text": [
      "['artificial intelligence', 'machine learning', 'increasing number', 'improve decision', 'kate crawford', 'big data', 'harvard business', 'others le', 'public sector', 'step ensure', 'successful adoption', 'publicsector user', 'ai solution', 'fairness explainability', 'public sector', 'publicsector user', 'better decision', 'best decision', 'use case', 'decision making', 'based historical', 'human decision', 'machine learning', 'likely benefit', 'many way', 'algorithmic fairness', 'algorithmic fairness', 'data science', 'decision making', 'protected class', 'protected class', 'race gender', 'sexual orientation', 'kind bias', 'data set', 'first step', 'fairness mean', 'protected class', 'address fairness', 'commonly used', 'race gender', 'model us', 'greatest risk', 'yet even', 'postal code', 'could lead', 'used train', 'statistical parity', 'another way', 'address fairness', 'statistical parity', 'equal share', 'one way', 'threshold different', 'threshold different', 'may account', 'measure fairness', 'equal share', 'across gender', 'predictive equality', 'address fairness', 'rather algorithm', 'different group', 'definition fairness', 'decision made', 'error rate', 'false positive', 'false negative', 'equal share', 'loan applicant', 'across gender', 'false positive', 'across gender', 'predictive equality', 'data science', 'include following', 'may find', 'algorithmic model', 'prison population', 'based historical', 'error rate', 'overall accuracy', 'overall accuracy', 'underlying data', 'postal code', 'postal code', 'data set', 'another aspect', 'keep mind', 'explainable algorithm', 'privacy integrity', 'european union', 'general data', 'protection regulation', 'keep mind', 'deploying ai', 'easily explained', 'ai application', 'decision reached', 'machine learning', 'human decision', 'enable human', 'understand rationale', 'experience making', 'make difference', 'policy decision', 'better decision', 'see sidebar', 'privacy integrity', 'particularly relevant', 'loan applicant', 'credit score', 'make decision', 'fairness explainability', 'decision tree', 'complex algorithm', 'le biased', 'understand rationale', 'credit score', 'implication individual', 'get loan', 'explainable algorithm', 'opportunity improve', 'input variable', 'patient high', 'cancer patient', 'easily explained', 'complex algorithm', 'data collected', 'make decision', 'human decision', 'particularly important', 'public sector', 'decision making', 'prison population', 'social environment', 'machinelearning model', 'underlying data', 'high risk', 'time thats', 'data set', 'machine learning', 'historical data', 'traditional heuristic', 'one way', 'model performs', 'data lapsed', 'year ago', 'data lapsed', 'two year', 'two year', 'may also', 'need refreshed', 'underlying data', 'new policy', 'potential impact', 'machinelearning model', 'machinelearning algorithm', 'large number', 'traditional heuristic', 'often require', 'model development', 'along way', 'analytics team', 'model development', 'last mile', 'risk associated', 'good news', 'partner mckinseys', 'chicago office', 'associate partner', 'senior partner', 'author wish', 'michael chui', 'nicolaus henke', 'chris wigley', 'contribution article']\n"
     ]
    }
   ],
   "source": [
    "print(bigrams_)"
   ]
  },
  {
   "cell_type": "code",
   "execution_count": 113,
   "metadata": {},
   "outputs": [],
   "source": [
    "mckin_words = list(clean_ai)\n",
    "\n",
    "mckin_wordlist = []\n",
    "for sublist in mckin_words:\n",
    "    for item in sublist:\n",
    "        mckin_wordlist.append(item)"
   ]
  },
  {
   "cell_type": "code",
   "execution_count": 178,
   "metadata": {},
   "outputs": [
    {
     "name": "stdout",
     "output_type": "stream",
     "text": [
      "22944 2294\n"
     ]
    }
   ],
   "source": [
    "import nltk\n",
    "from nltk import word_tokenize\n",
    "from nltk.collocations import BigramAssocMeasures\n",
    "\n",
    "bigram_measures = nltk.collocations.BigramAssocMeasures()\n",
    "finder = BigramCollocationFinder.from_words(mckin_wordlist)\n",
    "scored = finder.score_ngrams(bigram_measures.raw_freq)\n",
    "\n",
    "mckin_bi_sorted = sorted(scored, key=lambda s: s[1], reverse=True)\n",
    "mckin_bi_filt = mckin_bi_sorted[0:round((0.10*len(mckin_bi_sorted)))]\n",
    "print(len(mckin_bi_sorted),\n",
    "     len(mckin_bi_filt))"
   ]
  },
  {
   "cell_type": "code",
   "execution_count": 179,
   "metadata": {
    "scrolled": true
   },
   "outputs": [],
   "source": [
    "#Converting to list of bigrams\n",
    "\n",
    "mckin_bi_list = [item[0] for item in list(mckin_bi_filt)]\n",
    "mckin_bi_list = [list(item) for item in mckin_bi_list]\n",
    "mckin_bi_list = [item[0] + \" \" + item[1] for item in mckin_bi_list]"
   ]
  },
  {
   "cell_type": "code",
   "execution_count": 74,
   "metadata": {},
   "outputs": [
    {
     "name": "stdout",
     "output_type": "stream",
     "text": [
      "0     [u, senator, grilled, general, motor, ceo, cha...\n",
      "1     [rise, artificial, intelligence, ai, one, defi...\n",
      "2     [artificial, intelligence, ai, proving, double...\n",
      "3                                                    []\n",
      "4     [growing, use, artificial, intelligence, sensi...\n",
      "5                                                    []\n",
      "6     [episode, mckinsey, podcast, mckinsey, global,...\n",
      "7     [ceo, often, live, number, earnings, interest,...\n",
      "8     [click, time, stamp, transcript, listen, relev...\n",
      "9     [diffusion, new, technology, whether, atm, ban...\n",
      "10    [many, metric, european, economy, business, gr...\n",
      "11    [artificial, intelligence, ai, potential, help...\n",
      "12    [role, artificial, intelligence, ai, tool, tec...\n",
      "13    [artificial, intelligence, ai, stand, transfor...\n",
      "14    [faroff, dream, anymore, promise, practical, a...\n",
      "15    [new, york, time, foreign, affair, columnist, ...\n",
      "16    [artificial, intelligence, ai, advancing, brea...\n",
      "17    [artificial, intelligence, ai, cutting, edge, ...\n",
      "18    [high, tech, retail, mining, transportation, a...\n",
      "19    [artificial, intelligence, idea, computer, sys...\n",
      "20    [artificial, intelligence, ai, still, early, s...\n",
      "21    [software, star, high, tech, past, decade, eas...\n",
      "22    [automation, artificial, intelligence, ai, tra...\n",
      "23    [machine, learning, artificial, intelligence, ...\n",
      "24    [perhaps, market, ripe, opportunity, financial...\n",
      "25    [artificial, intelligence, ai, machine, learni...\n",
      "Name: text, dtype: object\n"
     ]
    }
   ],
   "source": [
    "print(clean_ai)"
   ]
  },
  {
   "cell_type": "code",
   "execution_count": 186,
   "metadata": {},
   "outputs": [
    {
     "data": {
      "text/plain": [
       "list"
      ]
     },
     "execution_count": 186,
     "metadata": {},
     "output_type": "execute_result"
    }
   ],
   "source": [
    "test_vec = clean_ai.iloc[16].copy()\n",
    "type(test_vec)"
   ]
  },
  {
   "cell_type": "code",
   "execution_count": 188,
   "metadata": {},
   "outputs": [],
   "source": [
    "def bigram_insert(tokenlist, bigramlist):    \n",
    "    for i in range(0, len(tokenlist)-1):\n",
    "        bigram = tokenlist[i] + \" \" + tokenlist[i+1]\n",
    "        if bigram in bigramlist:\n",
    "            tokenlist[i] = bigram\n",
    "            tokenlist[i+1] = \"\"\n",
    "    tokenlist = list(filter(None, tokenlist))\n",
    "    return(tokenlist)"
   ]
  },
  {
   "cell_type": "code",
   "execution_count": 193,
   "metadata": {},
   "outputs": [
    {
     "data": {
      "text/plain": [
       "0     [u, senator, grilled, general motor, ceo, char...\n",
       "1     [rise, artificial intelligence, ai one, defini...\n",
       "2     [artificial intelligence, ai, proving, doublee...\n",
       "3                                                    []\n",
       "4     [growing, use artificial, intelligence, sensit...\n",
       "5                                                    []\n",
       "6     [episode, mckinsey podcast, mckinsey global, i...\n",
       "7     [ceo, often, live, number, earnings interest, ...\n",
       "8     [click, time, stamp, transcript, listen, relev...\n",
       "9     [diffusion new, technology, whether, atm, bank...\n",
       "10    [many, metric, european economy, business, gra...\n",
       "11    [artificial intelligence, ai potential, help t...\n",
       "12    [role, artificial intelligence, ai tool, techn...\n",
       "13    [artificial intelligence, ai, stand, transform...\n",
       "14    [faroff, dream, anymore, promise, practical ap...\n",
       "15    [new york, time, foreign, affair, columnist, t...\n",
       "16    [artificial intelligence, ai, advancing, break...\n",
       "17    [artificial intelligence, ai, cutting edge, in...\n",
       "18    [high tech, retail, mining, transportation, ar...\n",
       "19    [artificial intelligence, idea, computer syste...\n",
       "20    [artificial intelligence, ai still, early stag...\n",
       "21    [software, star, high tech, past decade, easy,...\n",
       "22    [automation, artificial intelligence, ai, tran...\n",
       "23    [machine learning, artificial intelligence, se...\n",
       "24    [perhaps, market, ripe, opportunity, financial...\n",
       "25    [artificial intelligence, ai machine, learning...\n",
       "Name: text, dtype: object"
      ]
     },
     "execution_count": 193,
     "metadata": {},
     "output_type": "execute_result"
    }
   ],
   "source": [
    "clean_ai.apply(lambda row: bigram_insert(row, mckin_bi_list))"
   ]
  },
  {
   "cell_type": "code",
   "execution_count": 94,
   "metadata": {},
   "outputs": [
    {
     "data": {
      "text/plain": [
       "[(('kaifu', 'lee'), 0.010526315789473684),\n",
       " (('michael', 'chui'), 0.010526315789473684),\n",
       " (('artificial', 'intelligence'), 0.00631578947368421),\n",
       " (('autonomous', 'vehicle'), 0.00631578947368421),\n",
       " (('ai', 'company'), 0.004210526315789474),\n",
       " (('amount', 'data'), 0.004210526315789474),\n",
       " (('chinese', 'company'), 0.004210526315789474),\n",
       " (('chui', 'partner'), 0.004210526315789474),\n",
       " (('clearly', 'lead'), 0.004210526315789474),\n",
       " (('commercial', 'robot'), 0.004210526315789474),\n",
       " (('developing', 'adopting'), 0.004210526315789474),\n",
       " (('education', 'system'), 0.004210526315789474),\n",
       " (('envision', 'autonomous'), 0.004210526315789474),\n",
       " (('eventually', 'make'), 0.004210526315789474),\n",
       " (('everything', 'affordable'), 0.004210526315789474),\n",
       " (('global', 'institute'), 0.004210526315789474),\n",
       " (('make', 'everything'), 0.004210526315789474),\n",
       " (('mckinsey', 'global'), 0.004210526315789474),\n",
       " (('partner', 'mckinsey'), 0.004210526315789474),\n",
       " (('sinovation', 'venture'), 0.004210526315789474),\n",
       " (('u', 'clearly'), 0.004210526315789474),\n",
       " (('vehicle', 'eventually'), 0.004210526315789474),\n",
       " (('willing', 'trade'), 0.004210526315789474),\n",
       " (('accelerating', 'launch'), 0.002105263157894737),\n",
       " (('accessibility', 'data'), 0.002105263157894737),\n",
       " (('acquisition', 'even'), 0.002105263157894737),\n",
       " (('adopting', 'ai'), 0.002105263157894737),\n",
       " (('adopting', 'artificial'), 0.002105263157894737),\n",
       " (('adopting', 'chinese'), 0.002105263157894737),\n",
       " (('adoption', 'thing'), 0.002105263157894737),\n",
       " (('adoption', 'whereas'), 0.002105263157894737),\n",
       " (('advancing', 'breakneck'), 0.002105263157894737),\n",
       " (('advantage', 'china'), 0.002105263157894737),\n",
       " (('advantage', 'developing'), 0.002105263157894737),\n",
       " (('advantage', 'disadvantage'), 0.002105263157894737),\n",
       " (('advantage', 'quite'), 0.002105263157894737),\n",
       " (('advantage', 'thats'), 0.002105263157894737),\n",
       " (('advantage', 'u'), 0.002105263157894737),\n",
       " (('affect', 'privacy'), 0.002105263157894737),\n",
       " (('affected', 'trucker'), 0.002105263157894737),\n",
       " (('affordable', 'last'), 0.002105263157894737),\n",
       " (('affordable', 'reduce'), 0.002105263157894737),\n",
       " (('ahead', 'ai'), 0.002105263157894737),\n",
       " (('ahead', 'china'), 0.002105263157894737),\n",
       " (('ai', 'advancing'), 0.002105263157894737),\n",
       " (('ai', 'ai'), 0.002105263157894737),\n",
       " (('ai', 'development'), 0.002105263157894737),\n",
       " (('ai', 'faster'), 0.002105263157894737),\n",
       " (('ai', 'field'), 0.002105263157894737),\n",
       " (('ai', 'frontier'), 0.002105263157894737),\n",
       " (('ai', 'involves'), 0.002105263157894737),\n",
       " (('ai', 'job'), 0.002105263157894737),\n",
       " (('ai', 'kaifu'), 0.002105263157894737),\n",
       " (('ai', 'michael'), 0.002105263157894737),\n",
       " (('ai', 'move'), 0.002105263157894737),\n",
       " (('ai', 'multiple'), 0.002105263157894737),\n",
       " (('ai', 'smart'), 0.002105263157894737),\n",
       " (('ai', 'two'), 0.002105263157894737),\n",
       " (('ai', 'u'), 0.002105263157894737),\n",
       " (('ai', 'using'), 0.002105263157894737),\n",
       " (('algorithm', 'youll'), 0.002105263157894737),\n",
       " (('also', 'amount'), 0.002105263157894737),\n",
       " (('always', 'technoutilitarian'), 0.002105263157894737),\n",
       " (('american', 'tend'), 0.002105263157894737),\n",
       " (('american', 'university'), 0.002105263157894737),\n",
       " (('american', 'visa'), 0.002105263157894737),\n",
       " (('amount', 'mobile'), 0.002105263157894737),\n",
       " (('amount', 'transaction'), 0.002105263157894737),\n",
       " (('another', 'aspect'), 0.002105263157894737),\n",
       " (('anywhere', 'way'), 0.002105263157894737),\n",
       " (('appeal', 'lobby'), 0.002105263157894737),\n",
       " (('appeal', 'president'), 0.002105263157894737),\n",
       " (('application', 'clearly'), 0.002105263157894737),\n",
       " (('application', 'value'), 0.002105263157894737),\n",
       " (('area', 'envision'), 0.002105263157894737),\n",
       " (('area', 'michael'), 0.002105263157894737),\n",
       " (('area', 'u'), 0.002105263157894737),\n",
       " (('around', 'education'), 0.002105263157894737),\n",
       " (('around', 'research'), 0.002105263157894737),\n",
       " (('article', 'long'), 0.002105263157894737),\n",
       " (('asking', 'slow'), 0.002105263157894737),\n",
       " (('aspect', 'chinese'), 0.002105263157894737),\n",
       " (('attendance', 'school'), 0.002105263157894737),\n",
       " (('attract', 'talent'), 0.002105263157894737),\n",
       " (('autonomous', 'ai'), 0.002105263157894737),\n",
       " (('autonomous', 'truck'), 0.002105263157894737),\n",
       " (('back', 'country'), 0.002105263157894737),\n",
       " (('background', 'advantage'), 0.002105263157894737),\n",
       " (('background', 'topic'), 0.002105263157894737),\n",
       " (('bank', 'insurance'), 0.002105263157894737),\n",
       " (('becoming', 'operating'), 0.002105263157894737),\n",
       " (('bias', 'explainable'), 0.002105263157894737),\n",
       " (('big', 'factor'), 0.002105263157894737),\n",
       " (('bigger', 'market'), 0.002105263157894737),\n",
       " (('biggest', 'one'), 0.002105263157894737),\n",
       " (('breakneck', 'speed'), 0.002105263157894737),\n",
       " (('business', 'ai'), 0.002105263157894737),\n",
       " (('camera', 'sensor'), 0.002105263157894737),\n",
       " (('capitalist', 'invest'), 0.002105263157894737),\n",
       " (('capture', 'face'), 0.002105263157894737),\n",
       " (('captured', 'fact'), 0.002105263157894737),\n",
       " (('case', 'chinese'), 0.002105263157894737),\n",
       " (('catch', 'game'), 0.002105263157894737),\n",
       " (('catching', 'business'), 0.002105263157894737),\n",
       " (('cautious', 'widely'), 0.002105263157894737),\n",
       " (('ceo', 'sinovation'), 0.002105263157894737),\n",
       " (('certain', 'case'), 0.002105263157894737),\n",
       " (('certainly', 'security'), 0.002105263157894737),\n",
       " (('chairman', 'ceo'), 0.002105263157894737),\n",
       " (('china', 'advantage'), 0.002105263157894737),\n",
       " (('china', 'ai'), 0.002105263157894737),\n",
       " (('china', 'china'), 0.002105263157894737),\n",
       " (('china', 'country'), 0.002105263157894737),\n",
       " (('china', 'full'), 0.002105263157894737),\n",
       " (('china', 'google'), 0.002105263157894737),\n",
       " (('china', 'lead'), 0.002105263157894737),\n",
       " (('china', 'michael'), 0.002105263157894737),\n",
       " (('china', 'moving'), 0.002105263157894737),\n",
       " (('china', 'present'), 0.002105263157894737),\n",
       " (('china', 'several'), 0.002105263157894737),\n",
       " (('china', 'thats'), 0.002105263157894737),\n",
       " (('china', 'united'), 0.002105263157894737),\n",
       " (('china', 'yet'), 0.002105263157894737),\n",
       " (('chinese', 'citizen'), 0.002105263157894737),\n",
       " (('chinese', 'entrepreneurial'), 0.002105263157894737),\n",
       " (('chinese', 'government'), 0.002105263157894737),\n",
       " (('chinese', 'policy'), 0.002105263157894737),\n",
       " (('chip', 'semiconductor'), 0.002105263157894737),\n",
       " (('chui', 'advantage'), 0.002105263157894737),\n",
       " (('chui', 'china'), 0.002105263157894737),\n",
       " (('chui', 'see'), 0.002105263157894737),\n",
       " (('citizen', 'would'), 0.002105263157894737),\n",
       " (('city', 'give'), 0.002105263157894737),\n",
       " (('city', 'including'), 0.002105263157894737),\n",
       " (('clearly', 'internet'), 0.002105263157894737),\n",
       " (('collect', 'data'), 0.002105263157894737),\n",
       " (('come', 'let'), 0.002105263157894737),\n",
       " (('come', 'new'), 0.002105263157894737),\n",
       " (('come', 'opposed'), 0.002105263157894737),\n",
       " (('company', 'data'), 0.002105263157894737),\n",
       " (('company', 'hospital'), 0.002105263157894737),\n",
       " (('company', 'may'), 0.002105263157894737),\n",
       " (('company', 'move'), 0.002105263157894737),\n",
       " (('company', 'moving'), 0.002105263157894737),\n",
       " (('continue', 'supported'), 0.002105263157894737),\n",
       " (('convenience', 'certainly'), 0.002105263157894737),\n",
       " (('convenience', 'make'), 0.002105263157894737),\n",
       " (('correct', 'come'), 0.002105263157894737),\n",
       " (('cost', 'chip'), 0.002105263157894737),\n",
       " (('counting', 'attendance'), 0.002105263157894737),\n",
       " (('country', 'different'), 0.002105263157894737),\n",
       " (('country', 'including'), 0.002105263157894737),\n",
       " (('country', 'note'), 0.002105263157894737),\n",
       " (('country', 'replicate'), 0.002105263157894737),\n",
       " (('country', 'tend'), 0.002105263157894737),\n",
       " (('course', 'correct'), 0.002105263157894737),\n",
       " (('course', 'issue'), 0.002105263157894737),\n",
       " (('customer', 'shop'), 0.002105263157894737),\n",
       " (('data', 'acquisition'), 0.002105263157894737),\n",
       " (('data', 'bank'), 0.002105263157894737),\n",
       " (('data', 'catching'), 0.002105263157894737),\n",
       " (('data', 'china'), 0.002105263157894737),\n",
       " (('data', 'faster'), 0.002105263157894737),\n",
       " (('data', 'healthcare'), 0.002105263157894737),\n",
       " (('data', 'improve'), 0.002105263157894737),\n",
       " (('data', 'mobile'), 0.002105263157894737),\n",
       " (('data', 'thats'), 0.002105263157894737),\n",
       " (('debate', 'resolve'), 0.002105263157894737),\n",
       " (('deep', 'learning'), 0.002105263157894737),\n",
       " (('degree', 'privacy'), 0.002105263157894737),\n",
       " (('derive', 'value'), 0.002105263157894737),\n",
       " (('developing', 'two'), 0.002105263157894737),\n",
       " (('development', 'china'), 0.002105263157894737),\n",
       " (('different', 'strategy'), 0.002105263157894737),\n",
       " (('digitized', 'structured'), 0.002105263157894737),\n",
       " (('disadvantage', 'kaifu'), 0.002105263157894737),\n",
       " (('domino', 'effect'), 0.002105263157894737),\n",
       " (('draw', 'talent'), 0.002105263157894737),\n",
       " (('due', 'accessibility'), 0.002105263157894737),\n",
       " (('easier', 'top'), 0.002105263157894737),\n",
       " (('effect', 'making'), 0.002105263157894737),\n",
       " (('emerging', 'china'), 0.002105263157894737),\n",
       " (('entrepreneurial', 'system'), 0.002105263157894737),\n",
       " (('especially', 'graduate'), 0.002105263157894737),\n",
       " (('even', 'easier'), 0.002105263157894737),\n",
       " (('everywhere', 'capture'), 0.002105263157894737),\n",
       " (('example', 'recognizing'), 0.002105263157894737),\n",
       " (('expert', 'another'), 0.002105263157894737),\n",
       " (('explainable', 'ai'), 0.002105263157894737),\n",
       " (('extensive', 'background'), 0.002105263157894737),\n",
       " (('extent', 'american'), 0.002105263157894737),\n",
       " (('face', 'motion'), 0.002105263157894737),\n",
       " (('fact', 'user'), 0.002105263157894737),\n",
       " (('factor', 'government'), 0.002105263157894737),\n",
       " (('faster', 'collect'), 0.002105263157894737),\n",
       " (('faster', 'launch'), 0.002105263157894737),\n",
       " (('faster', 'trajectory'), 0.002105263157894737),\n",
       " (('faster', 'use'), 0.002105263157894737),\n",
       " (('field', 'developing'), 0.002105263157894737),\n",
       " (('five', 'year'), 0.002105263157894737),\n",
       " (('former', 'leadership'), 0.002105263157894737),\n",
       " (('forward', 'due'), 0.002105263157894737),\n",
       " (('frontier', 'application'), 0.002105263157894737),\n",
       " (('full', 'speed'), 0.002105263157894737),\n",
       " (('fully', 'digitized'), 0.002105263157894737),\n",
       " (('future', 'win'), 0.002105263157894737),\n",
       " (('game', 'u'), 0.002105263157894737),\n",
       " (('get', 'technology'), 0.002105263157894737),\n",
       " (('give', 'subsidy'), 0.002105263157894737),\n",
       " (('global', 'market'), 0.002105263157894737),\n",
       " (('go', 'back'), 0.002105263157894737),\n",
       " (('going', 'large'), 0.002105263157894737),\n",
       " (('google', 'greater'), 0.002105263157894737),\n",
       " (('government', 'always'), 0.002105263157894737),\n",
       " (('government', 'support'), 0.002105263157894737),\n",
       " (('graduate', 'level'), 0.002105263157894737),\n",
       " (('graduate', 'rather'), 0.002105263157894737),\n",
       " (('granted', 'graduate'), 0.002105263157894737),\n",
       " (('greater', 'china'), 0.002105263157894737),\n",
       " (('hard', 'country'), 0.002105263157894737),\n",
       " (('healthcare', 'space'), 0.002105263157894737),\n",
       " (('home', 'robot'), 0.002105263157894737),\n",
       " (('hospital', 'certain'), 0.002105263157894737),\n",
       " (('impactful', 'area'), 0.002105263157894737),\n",
       " (('improve', 'algorithm'), 0.002105263157894737),\n",
       " (('including', 'china'), 0.002105263157894737),\n",
       " (('including', 'overseasreturning'), 0.002105263157894737),\n",
       " (('incomparable', 'anywhere'), 0.002105263157894737),\n",
       " (('industrial', 'commercial'), 0.002105263157894737),\n",
       " (('industrial', 'robot'), 0.002105263157894737),\n",
       " (('institute', 'extensive'), 0.002105263157894737),\n",
       " (('institute', 'mgi'), 0.002105263157894737),\n",
       " (('insurance', 'company'), 0.002105263157894737),\n",
       " (('intelligence', 'ai'), 0.002105263157894737),\n",
       " (('intelligence', 'institute'), 0.002105263157894737),\n",
       " (('intelligence', 'kaifu'), 0.002105263157894737),\n",
       " (('internet', 'ai'), 0.002105263157894737),\n",
       " (('invest', 'ai'), 0.002105263157894737),\n",
       " (('involves', 'using'), 0.002105263157894737),\n",
       " (('issue', 'come'), 0.002105263157894737),\n",
       " (('issue', 'may'), 0.002105263157894737),\n",
       " (('job', 'affected'), 0.002105263157894737),\n",
       " (('large', 'amount'), 0.002105263157894737),\n",
       " (('last', 'there'), 0.002105263157894737),\n",
       " (('launch', 'adoption'), 0.002105263157894737),\n",
       " (('launch', 'faster'), 0.002105263157894737),\n",
       " (('le', 'becoming'), 0.002105263157894737),\n",
       " (('le', 'year'), 0.002105263157894737),\n",
       " (('lead', 'china'), 0.002105263157894737),\n",
       " (('lead', 'envision'), 0.002105263157894737),\n",
       " (('lead', 'technology'), 0.002105263157894737),\n",
       " (('leadership', 'overall'), 0.002105263157894737),\n",
       " (('leadership', 'particularly'), 0.002105263157894737),\n",
       " (('leadership', 'position'), 0.002105263157894737),\n",
       " (('leadership', 'role'), 0.002105263157894737),\n",
       " (('leading', 'global'), 0.002105263157894737),\n",
       " (('learning', 'read'), 0.002105263157894737),\n",
       " (('lee', 'ai'), 0.002105263157894737),\n",
       " (('lee', 'china'), 0.002105263157894737),\n",
       " (('lee', 'u'), 0.002105263157894737),\n",
       " (('lee', 'understand'), 0.002105263157894737),\n",
       " (('lee', 'unique'), 0.002105263157894737),\n",
       " (('let', 'course'), 0.002105263157894737),\n",
       " (('let', 'get'), 0.002105263157894737),\n",
       " (('level', 'city'), 0.002105263157894737),\n",
       " (('level', 'incomparable'), 0.002105263157894737),\n",
       " (('like', 'autonomous'), 0.002105263157894737),\n",
       " (('lobby', 'ai'), 0.002105263157894737),\n",
       " (('local', 'level'), 0.002105263157894737),\n",
       " (('long', 'american'), 0.002105263157894737),\n",
       " (('longer', 'there'), 0.002105263157894737),\n",
       " (('major', 'player'), 0.002105263157894737),\n",
       " (('make', 'data'), 0.002105263157894737),\n",
       " (('making', 'industrial'), 0.002105263157894737),\n",
       " (('market', 'kaifu'), 0.002105263157894737),\n",
       " (('market', 'michael'), 0.002105263157894737),\n",
       " (('market', 'second'), 0.002105263157894737),\n",
       " (('may', 'moving'), 0.002105263157894737),\n",
       " (('may', 'relate'), 0.002105263157894737),\n",
       " (('mean', 'come'), 0.002105263157894737),\n",
       " (('mgi', 'spoke'), 0.002105263157894737),\n",
       " (('microsoft', 'research'), 0.002105263157894737),\n",
       " (('mobile', 'payment'), 0.002105263157894737),\n",
       " (('mobile', 'user'), 0.002105263157894737),\n",
       " (('motion', 'people'), 0.002105263157894737),\n",
       " (('move', 'city'), 0.002105263157894737),\n",
       " (('move', 'industrial'), 0.002105263157894737),\n",
       " (('move', 'venture'), 0.002105263157894737),\n",
       " (('moving', 'faster'), 0.002105263157894737),\n",
       " (('moving', 'forward'), 0.002105263157894737),\n",
       " (('moving', 'quickly'), 0.002105263157894737),\n",
       " (('multiple', 'type'), 0.002105263157894737),\n",
       " (('new', 'space'), 0.002105263157894737),\n",
       " (('new', 'technology'), 0.002105263157894737),\n",
       " (('note', 'ai'), 0.002105263157894737),\n",
       " (('object', 'derive'), 0.002105263157894737),\n",
       " (('one', 'think'), 0.002105263157894737),\n",
       " (('operating', 'system'), 0.002105263157894737),\n",
       " (('opposed', 'western'), 0.002105263157894737),\n",
       " (('overall', 'probably'), 0.002105263157894737),\n",
       " (('overseasreturning', 'expert'), 0.002105263157894737),\n",
       " (('particularly', 'around'), 0.002105263157894737),\n",
       " (('particularly', 'impactful'), 0.002105263157894737),\n",
       " (('payment', 'amount'), 0.002105263157894737),\n",
       " (('people', 'move'), 0.002105263157894737),\n",
       " (('people', 'object'), 0.002105263157894737),\n",
       " (('perception', 'ai'), 0.002105263157894737),\n",
       " (('perspective', 'ai'), 0.002105263157894737),\n",
       " (('place', 'area'), 0.002105263157894737),\n",
       " (('player', 'emerging'), 0.002105263157894737),\n",
       " (('policy', 'accelerating'), 0.002105263157894737),\n",
       " (('position', 'chinese'), 0.002105263157894737),\n",
       " (('present', 'role'), 0.002105263157894737),\n",
       " (('president', 'asking'), 0.002105263157894737),\n",
       " (('president', 'sinovation'), 0.002105263157894737),\n",
       " (('privacy', 'convenience'), 0.002105263157894737),\n",
       " (('privacy', 'return'), 0.002105263157894737),\n",
       " (('privacy', 'security'), 0.002105263157894737),\n",
       " (('privacy', 'think'), 0.002105263157894737),\n",
       " (('probably', 'five'), 0.002105263157894737),\n",
       " (('quickly', 'new'), 0.002105263157894737),\n",
       " (('quite', 'significant'), 0.002105263157894737),\n",
       " (('rather', 'go'), 0.002105263157894737),\n",
       " (('read', 'article'), 0.002105263157894737),\n",
       " (('recognizing', 'returning'), 0.002105263157894737),\n",
       " (('reduce', 'cost'), 0.002105263157894737),\n",
       " (('relate', 'privacy'), 0.002105263157894737),\n",
       " (('replicate', 'le'), 0.002105263157894737),\n",
       " (('research', 'china'), 0.002105263157894737),\n",
       " (('research', 'leadership'), 0.002105263157894737),\n",
       " (('resolve', 'issue'), 0.002105263157894737),\n",
       " (('return', 'convenience'), 0.002105263157894737),\n",
       " (('returning', 'customer'), 0.002105263157894737),\n",
       " (('robot', 'autonomous'), 0.002105263157894737),\n",
       " (('robot', 'commercial'), 0.002105263157894737),\n",
       " (('robot', 'home'), 0.002105263157894737),\n",
       " (('robot', 'viable'), 0.002105263157894737),\n",
       " (('role', 'chairman'), 0.002105263157894737),\n",
       " (('role', 'microsoft'), 0.002105263157894737),\n",
       " (('school', 'thing'), 0.002105263157894737),\n",
       " (('second', 'chinese'), 0.002105263157894737),\n",
       " (('security', 'bias'), 0.002105263157894737),\n",
       " (('security', 'think'), 0.002105263157894737),\n",
       " (('see', 'ai'), 0.002105263157894737),\n",
       " (('semiconductor', 'sensor'), 0.002105263157894737),\n",
       " (('sensor', 'domino'), 0.002105263157894737),\n",
       " (('sensor', 'everywhere'), 0.002105263157894737),\n",
       " (('several', 'thing'), 0.002105263157894737),\n",
       " (('shop', 'counting'), 0.002105263157894737),\n",
       " (('significant', 'around'), 0.002105263157894737),\n",
       " (('slow', 'adoption'), 0.002105263157894737),\n",
       " (('slowed', 'truckerunion'), 0.002105263157894737),\n",
       " (('smart', 'people'), 0.002105263157894737),\n",
       " (('space', 'data'), 0.002105263157894737),\n",
       " (('space', 'third'), 0.002105263157894737),\n",
       " (('speed', 'ahead'), 0.002105263157894737),\n",
       " (('speed', 'two'), 0.002105263157894737),\n",
       " (('spoke', 'kaifu'), 0.002105263157894737),\n",
       " (('state', 'country'), 0.002105263157894737),\n",
       " (('strategy', 'background'), 0.002105263157894737),\n",
       " (('structured', 'warehoused'), 0.002105263157894737),\n",
       " (('subsidy', 'ai'), 0.002105263157894737),\n",
       " (('substantial', 'leadership'), 0.002105263157894737),\n",
       " (('support', 'local'), 0.002105263157894737),\n",
       " (('supported', 'attract'), 0.002105263157894737),\n",
       " (('system', 'advantage'), 0.002105263157894737),\n",
       " (('system', 'draw'), 0.002105263157894737),\n",
       " (('system', 'future'), 0.002105263157894737),\n",
       " (('system', 'u'), 0.002105263157894737),\n",
       " (('talent', 'extent'), 0.002105263157894737),\n",
       " (('talent', 'throughout'), 0.002105263157894737),\n",
       " (('technology', 'chinese'), 0.002105263157894737),\n",
       " (('technology', 'course'), 0.002105263157894737),\n",
       " (('technology', 'think'), 0.002105263157894737),\n",
       " (('technologyrich', 'area'), 0.002105263157894737),\n",
       " (('technoutilitarian', 'mean'), 0.002105263157894737),\n",
       " (('tend', 'cautious'), 0.002105263157894737),\n",
       " (('tend', 'want'), 0.002105263157894737),\n",
       " (('tend', 'willing'), 0.002105263157894737),\n",
       " (('thats', 'advantage'), 0.002105263157894737),\n",
       " (('thats', 'captured'), 0.002105263157894737),\n",
       " (('thats', 'hard'), 0.002105263157894737),\n",
       " (('there', 'autonomous'), 0.002105263157894737),\n",
       " (('there', 'perception'), 0.002105263157894737),\n",
       " (('thing', 'affect'), 0.002105263157894737),\n",
       " (('thing', 'going'), 0.002105263157894737),\n",
       " (('thing', 'like'), 0.002105263157894737),\n",
       " (('think', 'american'), 0.002105263157894737),\n",
       " (('think', 'china'), 0.002105263157894737),\n",
       " (('think', 'let'), 0.002105263157894737),\n",
       " (('think', 'technologyrich'), 0.002105263157894737),\n",
       " (('third', 'big'), 0.002105263157894737),\n",
       " (('throughout', 'world'), 0.002105263157894737),\n",
       " (('top', 'bigger'), 0.002105263157894737),\n",
       " (('topic', 'former'), 0.002105263157894737),\n",
       " (('trade', 'degree'), 0.002105263157894737),\n",
       " (('trade', 'privacy'), 0.002105263157894737),\n",
       " (('trajectory', 'place'), 0.002105263157894737),\n",
       " (('transaction', 'amount'), 0.002105263157894737),\n",
       " (('truck', 'slowed'), 0.002105263157894737),\n",
       " (('trucker', 'union'), 0.002105263157894737),\n",
       " (('truckerunion', 'appeal'), 0.002105263157894737),\n",
       " (('two', 'leading'), 0.002105263157894737),\n",
       " (('two', 'major'), 0.002105263157894737),\n",
       " (('two', 'market'), 0.002105263157894737),\n",
       " (('type', 'application'), 0.002105263157894737),\n",
       " (('u', 'advantage'), 0.002105263157894737),\n",
       " (('u', 'developing'), 0.002105263157894737),\n",
       " (('u', 'education'), 0.002105263157894737),\n",
       " (('u', 'leadership'), 0.002105263157894737),\n",
       " (('u', 'substantial'), 0.002105263157894737),\n",
       " (('understand', 'perspective'), 0.002105263157894737),\n",
       " (('union', 'appeal'), 0.002105263157894737),\n",
       " (('unique', 'view'), 0.002105263157894737),\n",
       " (('united', 'state'), 0.002105263157894737),\n",
       " (('university', 'continue'), 0.002105263157894737),\n",
       " (('use', 'data'), 0.002105263157894737),\n",
       " (('user', 'also'), 0.002105263157894737),\n",
       " (('user', 'willing'), 0.002105263157894737),\n",
       " (('using', 'camera'), 0.002105263157894737),\n",
       " (('using', 'data'), 0.002105263157894737),\n",
       " (('value', 'deep'), 0.002105263157894737),\n",
       " (('value', 'example'), 0.002105263157894737),\n",
       " (('vehicle', 'particularly'), 0.002105263157894737),\n",
       " (('venture', 'artificial'), 0.002105263157894737),\n",
       " (('venture', 'capitalist'), 0.002105263157894737),\n",
       " (('venture', 'president'), 0.002105263157894737),\n",
       " (('viable', 'le'), 0.002105263157894737),\n",
       " (('view', 'ai'), 0.002105263157894737),\n",
       " (('visa', 'granted'), 0.002105263157894737),\n",
       " (('want', 'debate'), 0.002105263157894737),\n",
       " (('warehoused', 'u'), 0.002105263157894737),\n",
       " (('way', 'ahead'), 0.002105263157894737),\n",
       " (('western', 'country'), 0.002105263157894737),\n",
       " (('whereas', 'china'), 0.002105263157894737),\n",
       " (('widely', 'adopting'), 0.002105263157894737),\n",
       " (('win', 'biggest'), 0.002105263157894737),\n",
       " (('world', 'especially'), 0.002105263157894737),\n",
       " (('would', 'tend'), 0.002105263157894737),\n",
       " (('year', 'longer'), 0.002105263157894737),\n",
       " (('year', 'michael'), 0.002105263157894737),\n",
       " (('yet', 'fully'), 0.002105263157894737),\n",
       " (('youll', 'catch'), 0.002105263157894737)]"
      ]
     },
     "execution_count": 94,
     "metadata": {},
     "output_type": "execute_result"
    }
   ],
   "source": [
    "import nltk\n",
    "from nltk import word_tokenize\n",
    "from nltk.collocations import BigramAssocMeasures\n",
    "\n",
    "bigram_measures = nltk.collocations.BigramAssocMeasures()\n",
    "finder = BigramCollocationFinder.from_words(test_vec)\n",
    "scored = finder.score_ngrams(bigram_measures.raw_freq)\n",
    "\n",
    "sorted(scored, key=lambda s: s[1], reverse=True)"
   ]
  },
  {
   "cell_type": "code",
   "execution_count": 27,
   "metadata": {},
   "outputs": [
    {
     "name": "stdout",
     "output_type": "stream",
     "text": [
      "[(0, 1), (5, 1), (13, 5), (14, 3), (16, 71), (19, 1), (21, 1), (22, 3), (23, 1), (24, 1)]\n"
     ]
    }
   ],
   "source": [
    "dictionary = Dictionary(clean_ai)\n",
    "corpus = [dictionary.doc2bow(word) for word in clean_ai]\n",
    "print(corpus[10][:10])"
   ]
  },
  {
   "cell_type": "code",
   "execution_count": 28,
   "metadata": {},
   "outputs": [
    {
     "name": "stdout",
     "output_type": "stream",
     "text": [
      "<gensim.interfaces.TransformedCorpus object at 0x1a23c85ef0>\n"
     ]
    }
   ],
   "source": [
    "tfidf = TfidfModel(corpus)\n",
    "tfidf_corpus = tfidf[corpus]\n",
    "print(tfidf_corpus[:5])"
   ]
  },
  {
   "cell_type": "code",
   "execution_count": null,
   "metadata": {},
   "outputs": [],
   "source": []
  },
  {
   "cell_type": "code",
   "execution_count": 29,
   "metadata": {},
   "outputs": [],
   "source": [
    "# Language Processing (Gensim)\n",
    "\n",
    "\n",
    "lda_model_20 = LdaModel(tfidf_corpus, id2word= dictionary,\n",
    "                                           num_topics=5, \n",
    "                                           random_state=100,\n",
    "                                           update_every=1,\n",
    "                                           chunksize=100,\n",
    "                                           passes=10,\n",
    "                                           alpha='auto',\n",
    "                                           per_word_topics=True)"
   ]
  },
  {
   "cell_type": "code",
   "execution_count": 30,
   "metadata": {},
   "outputs": [
    {
     "data": {
      "text/plain": [
       "[(0,\n",
       "  '0.001*\"canada\" + 0.001*\"diffusion\" + 0.001*\"china\" + 0.001*\"memory\" + 0.001*\"southeast\" + 0.001*\"canadian\" + 0.001*\"semiconductor\" + 0.000*\"kaifu\" + 0.000*\"hardware\" + 0.000*\"compute\"'),\n",
       " (1,\n",
       "  '0.001*\"data\" + 0.001*\"model\" + 0.001*\"bias\" + 0.001*\"ai\" + 0.001*\"decision\" + 0.001*\"europe\" + 0.001*\"fairness\" + 0.001*\"academy\" + 0.001*\"percent\" + 0.001*\"technique\"'),\n",
       " (2,\n",
       "  '0.001*\"china\" + 0.001*\"london\" + 0.001*\"listen\" + 0.001*\"stamp\" + 0.001*\"simon\" + 0.000*\"going\" + 0.000*\"lot\" + 0.000*\"transcript\" + 0.000*\"publishing\" + 0.000*\"click\"'),\n",
       " (3,\n",
       "  '0.001*\"investor\" + 0.001*\"china\" + 0.000*\"thing\" + 0.000*\"chinese\" + 0.000*\"creditease\" + 0.000*\"maybe\" + 0.000*\"lot\" + 0.000*\"like\" + 0.000*\"doesnt\" + 0.000*\"smallbusiness\"'),\n",
       " (4,\n",
       "  '0.000*\"youre\" + 0.000*\"schwartz\" + 0.000*\"david\" + 0.000*\"thing\" + 0.000*\"bunch\" + 0.000*\"lot\" + 0.000*\"trying\" + 0.000*\"actually\" + 0.000*\"there\" + 0.000*\"generalized\"')]"
      ]
     },
     "execution_count": 30,
     "metadata": {},
     "output_type": "execute_result"
    }
   ],
   "source": [
    "lda_model_20.print_topics()"
   ]
  },
  {
   "cell_type": "code",
   "execution_count": 32,
   "metadata": {},
   "outputs": [],
   "source": [
    "topics = lda_model_20.show_topics(formatted=False)"
   ]
  },
  {
   "cell_type": "markdown",
   "metadata": {},
   "source": [
    "#leg med farver\n",
    "import matplotlib.colors as mcolors\n",
    "\n",
    "cols = [color for name, color in mcolors.TABLEAU_COLORS.items()]  # more colors: 'mcolors.XKCD_COLORS'"
   ]
  },
  {
   "cell_type": "code",
   "execution_count": 45,
   "metadata": {},
   "outputs": [
    {
     "ename": "IndexError",
     "evalue": "list index out of range",
     "output_type": "error",
     "traceback": [
      "\u001b[0;31m---------------------------------------------------------------------------\u001b[0m",
      "\u001b[0;31mIndexError\u001b[0m                                Traceback (most recent call last)",
      "\u001b[0;32m<ipython-input-45-12e03d137630>\u001b[0m in \u001b[0;36m<module>\u001b[0;34m\u001b[0m\n\u001b[1;32m     18\u001b[0m \u001b[0;32mfor\u001b[0m \u001b[0mi\u001b[0m\u001b[0;34m,\u001b[0m \u001b[0max\u001b[0m \u001b[0;32min\u001b[0m \u001b[0menumerate\u001b[0m\u001b[0;34m(\u001b[0m\u001b[0maxes\u001b[0m\u001b[0;34m.\u001b[0m\u001b[0mflatten\u001b[0m\u001b[0;34m(\u001b[0m\u001b[0;34m)\u001b[0m\u001b[0;34m)\u001b[0m\u001b[0;34m:\u001b[0m\u001b[0;34m\u001b[0m\u001b[0m\n\u001b[1;32m     19\u001b[0m     \u001b[0mfig\u001b[0m\u001b[0;34m.\u001b[0m\u001b[0madd_subplot\u001b[0m\u001b[0;34m(\u001b[0m\u001b[0max\u001b[0m\u001b[0;34m)\u001b[0m\u001b[0;34m\u001b[0m\u001b[0m\n\u001b[0;32m---> 20\u001b[0;31m     \u001b[0mtopic_words\u001b[0m \u001b[0;34m=\u001b[0m \u001b[0mdict\u001b[0m\u001b[0;34m(\u001b[0m\u001b[0mtopics\u001b[0m\u001b[0;34m[\u001b[0m\u001b[0mi\u001b[0m\u001b[0;34m]\u001b[0m\u001b[0;34m[\u001b[0m\u001b[0;36m1\u001b[0m\u001b[0;34m]\u001b[0m\u001b[0;34m)\u001b[0m\u001b[0;34m\u001b[0m\u001b[0m\n\u001b[0m\u001b[1;32m     21\u001b[0m     \u001b[0mcloud\u001b[0m\u001b[0;34m.\u001b[0m\u001b[0mgenerate_from_frequencies\u001b[0m\u001b[0;34m(\u001b[0m\u001b[0mtopic_words\u001b[0m\u001b[0;34m,\u001b[0m \u001b[0mmax_font_size\u001b[0m\u001b[0;34m=\u001b[0m\u001b[0;36m300\u001b[0m\u001b[0;34m)\u001b[0m\u001b[0;34m\u001b[0m\u001b[0m\n\u001b[1;32m     22\u001b[0m     \u001b[0mplt\u001b[0m\u001b[0;34m.\u001b[0m\u001b[0mgca\u001b[0m\u001b[0;34m(\u001b[0m\u001b[0;34m)\u001b[0m\u001b[0;34m.\u001b[0m\u001b[0mimshow\u001b[0m\u001b[0;34m(\u001b[0m\u001b[0mcloud\u001b[0m\u001b[0;34m)\u001b[0m\u001b[0;34m\u001b[0m\u001b[0m\n",
      "\u001b[0;31mIndexError\u001b[0m: list index out of range"
     ]
    },
    {
     "data": {
      "image/png": "[encoded data removed]",
      "text/plain": [
       "<Figure size 720x720 with 6 Axes>"
      ]
     },
     "metadata": {
      "needs_background": "light"
     },
     "output_type": "display_data"
    }
   ],
   "source": [
    "# 1. Wordcloud of Top N words in each topic\n",
    "from matplotlib import pyplot as plt\n",
    "from wordcloud import WordCloud, STOPWORDS\n",
    "\n",
    "\n",
    "cloud = WordCloud(background_color='white',\n",
    "                  width=2500,\n",
    "                  height=1800,\n",
    "                  max_words=10,\n",
    "                  colormap='tab10',\n",
    "                  color_func=lambda *args, **kwargs: cols[i],\n",
    "                  prefer_horizontal=1.0)\n",
    "\n",
    "\n",
    "\n",
    "fig, axes = plt.subplots(3, 2, figsize=(10,10), sharex=True, sharey=True)\n",
    "\n",
    "for i, ax in enumerate(axes.flatten()):\n",
    "    fig.add_subplot(ax)\n",
    "    topic_words = dict(topics[i][1])\n",
    "    cloud.generate_from_frequencies(topic_words, max_font_size=300)\n",
    "    plt.gca().imshow(cloud)\n",
    "    plt.gca().set_title('Topic ' + str(i), fontdict=dict(size=16))\n",
    "    plt.gca().axis('off')\n",
    "\n",
    "\n",
    "plt.subplots_adjust(wspace=0, hspace=0)\n",
    "plt.axis('off')\n",
    "plt.margins(x=0, y=0)\n",
    "plt.tight_layout()\n",
    "plt.show()"
   ]
  },
  {
   "cell_type": "code",
   "execution_count": null,
   "metadata": {},
   "outputs": [],
   "source": []
  }
 ],
 "metadata": {
  "kernelspec": {
   "display_name": "Python 3",
   "language": "python",
   "name": "python3"
  },
  "language_info": {
   "codemirror_mode": {
    "name": "ipython",
    "version": 3
   },
   "file_extension": ".py",
   "mimetype": "text/x-python",
   "name": "python",
   "nbconvert_exporter": "python",
   "pygments_lexer": "ipython3",
   "version": "3.6.9"
  }
 },
 "nbformat": 4,
 "nbformat_minor": 2
}
