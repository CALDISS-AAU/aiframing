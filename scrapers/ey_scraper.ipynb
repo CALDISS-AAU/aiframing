{
 "cells": [
  {
   "cell_type": "markdown",
   "metadata": {},
   "source": [
    "# Formål\n",
    "\n",
    "Script scraper diverse konsulenthuses sider for artikler og indlæg omkring kunstig intelligens (AI, artificial intelligence).\n",
    "\n",
    "**Liste over konsulenthuse**\n",
    "- (x) Ernst & Young (EY) (en del af BIG4 i accounting) https://www.ey.com/en_gl\n",
    "- Deloitte. (en del af BIG4 i accounting) [https://www2.deloitte.com](https://www2.deloitte.com/)\n",
    "- KPMG. (en del af BIG4 i accounting) https://home.kpmg/xx/en/home.html\n",
    "- PricewaterhouseCoopers (PwC) (en del af BIG4 i accounting) https://www.pwc.com/\n",
    "- (x) McKinsey (Top Management consulting) https://www.mckinsey.com/\n",
    "- (x) Boston consulting group (Top Management consulting) https://www.bcg.com/\n",
    "- Bain & Company (Top Management consulting) https://www.bain.com/\n",
    "- Accenture (IT consulting - verdens største konsulenthus) https://www.accenture.com/us-en\n",
    "- Capgemini (IT consulting nr. 2 mener jeg) https://www.capgemini.com/\n",
    "- Tata consulting (IT consulting - nr. 3 mener jeg målt på omsætning) https://www.tcs.com/\n",
    "- IBM (Det er ikke sikkert, men de har vel Watson og måske interessant?) [https://www.ibm.com](https://www.ibm.com/)"
   ]
  },
  {
   "cell_type": "markdown",
   "metadata": {},
   "source": [
    "# Ernst & Young\n",
    "\n",
    "URL: https://www.ey.com/en_gl/ai"
   ]
  },
  {
   "cell_type": "markdown",
   "metadata": {},
   "source": [
    "### Libraries\n",
    "\n",
    "Importing libraries..."
   ]
  },
  {
   "cell_type": "code",
   "execution_count": 1,
   "metadata": {},
   "outputs": [],
   "source": [
    "import scrapy\n",
    "import requests\n",
    "from scrapy import Selector\n",
    "\n",
    "import os\n",
    "import sys\n",
    "\n",
    "from selenium import webdriver\n",
    "from selenium.webdriver.common.keys import Keys\n",
    "from selenium.webdriver.firefox.firefox_binary import FirefoxBinary\n",
    "from selenium.common.exceptions import NoSuchElementException, WebDriverException, ElementNotInteractableException\n",
    "from selenium.webdriver.common.action_chains import ActionChains\n",
    "\n",
    "import time"
   ]
  },
  {
   "cell_type": "markdown",
   "metadata": {},
   "source": [
    "### URL list\n",
    "\n",
    "List of URL is extracted from the AI-section of ey.com: https://www.ey.com/en_gl/ai"
   ]
  },
  {
   "cell_type": "code",
   "execution_count": 2,
   "metadata": {},
   "outputs": [
    {
     "data": {
      "text/plain": [
       "'\\nos.environ[\\'MOZ_HEADLESS\\'] = \\'1\\'\\n\\n# Select your Firefox binary.\\nbinary = FirefoxBinary(\\'C:\\\\Program Files (x86)\\\\Mozilla Firefox\\\\firefox.exe\\', log_file=sys.stdout)\\n\\n# Start selenium with the configured binary.\\ndriver = webdriver.Firefox(firefox_binary=binary)\\n\\ndriver.get(\\'https://www.ey.com/en_gl/ai\\')\\ncoordinates = {\\'x\\': 0, \\'y\\': 1400}\\ndriver.execute_script(\\'window.scrollTo({}, {});\\'.format(coordinates[\\'x\\'], coordinates[\\'y\\']))\\ntime.sleep(3)\\ncoordinates = {\\'x\\': 0, \\'y\\': 1600}\\ndriver.execute_script(\\'window.scrollTo({}, {});\\'.format(coordinates[\\'x\\'], coordinates[\\'y\\']))\\ntime.sleep(3)\\ndriver.find_element_by_css_selector(\"button.show-more\").click()\\ntime.sleep(3)\\n\\npageSource = driver.page_source\\n\\ndriver.quit()\\n'"
      ]
     },
     "execution_count": 2,
     "metadata": {},
     "output_type": "execute_result"
    }
   ],
   "source": [
    "## With firefox - DOES NOT WORK YET\n",
    "'''\n",
    "os.environ['MOZ_HEADLESS'] = '1'\n",
    "\n",
    "# Select your Firefox binary.\n",
    "binary = FirefoxBinary('C:\\\\Program Files (x86)\\\\Mozilla Firefox\\\\firefox.exe', log_file=sys.stdout)\n",
    "\n",
    "# Start selenium with the configured binary.\n",
    "driver = webdriver.Firefox(firefox_binary=binary)\n",
    "\n",
    "driver.get('https://www.ey.com/en_gl/ai')\n",
    "coordinates = {'x': 0, 'y': 1400}\n",
    "driver.execute_script('window.scrollTo({}, {});'.format(coordinates['x'], coordinates['y']))\n",
    "time.sleep(3)\n",
    "coordinates = {'x': 0, 'y': 1600}\n",
    "driver.execute_script('window.scrollTo({}, {});'.format(coordinates['x'], coordinates['y']))\n",
    "time.sleep(3)\n",
    "driver.find_element_by_css_selector(\"button.show-more\").click()\n",
    "time.sleep(3)\n",
    "\n",
    "pageSource = driver.page_source\n",
    "\n",
    "driver.quit()\n",
    "'''"
   ]
  },
  {
   "cell_type": "code",
   "execution_count": 2,
   "metadata": {},
   "outputs": [
    {
     "name": "stdout",
     "output_type": "stream",
     "text": [
      "No 'Next' button found\n"
     ]
    },
    {
     "ename": "WebDriverException",
     "evalue": "Message: chrome not reachable\n  (Session info: chrome=79.0.3945.130)\n",
     "output_type": "error",
     "traceback": [
      "\u001b[1;31m---------------------------------------------------------------------------\u001b[0m",
      "\u001b[1;31mWebDriverException\u001b[0m                        Traceback (most recent call last)",
      "\u001b[1;32m<ipython-input-2-4a330cc45bbd>\u001b[0m in \u001b[0;36m<module>\u001b[1;34m\u001b[0m\n\u001b[0;32m     32\u001b[0m         \u001b[1;32mbreak\u001b[0m\u001b[1;33m\u001b[0m\u001b[1;33m\u001b[0m\u001b[0m\n\u001b[0;32m     33\u001b[0m \u001b[1;33m\u001b[0m\u001b[0m\n\u001b[1;32m---> 34\u001b[1;33m \u001b[0mpageSource\u001b[0m \u001b[1;33m=\u001b[0m \u001b[0mdriver\u001b[0m\u001b[1;33m.\u001b[0m\u001b[0mpage_source\u001b[0m\u001b[1;33m\u001b[0m\u001b[1;33m\u001b[0m\u001b[0m\n\u001b[0m\u001b[0;32m     35\u001b[0m \u001b[1;33m\u001b[0m\u001b[0m\n\u001b[0;32m     36\u001b[0m \u001b[0mdriver\u001b[0m\u001b[1;33m.\u001b[0m\u001b[0mquit\u001b[0m\u001b[1;33m(\u001b[0m\u001b[1;33m)\u001b[0m\u001b[1;33m\u001b[0m\u001b[1;33m\u001b[0m\u001b[0m\n",
      "\u001b[1;32mC:\\programs\\Continuum\\anaconda3\\lib\\site-packages\\selenium\\webdriver\\remote\\webdriver.py\u001b[0m in \u001b[0;36mpage_source\u001b[1;34m(self)\u001b[0m\n\u001b[0;32m    677\u001b[0m             \u001b[0mdriver\u001b[0m\u001b[1;33m.\u001b[0m\u001b[0mpage_source\u001b[0m\u001b[1;33m\u001b[0m\u001b[1;33m\u001b[0m\u001b[0m\n\u001b[0;32m    678\u001b[0m         \"\"\"\n\u001b[1;32m--> 679\u001b[1;33m         \u001b[1;32mreturn\u001b[0m \u001b[0mself\u001b[0m\u001b[1;33m.\u001b[0m\u001b[0mexecute\u001b[0m\u001b[1;33m(\u001b[0m\u001b[0mCommand\u001b[0m\u001b[1;33m.\u001b[0m\u001b[0mGET_PAGE_SOURCE\u001b[0m\u001b[1;33m)\u001b[0m\u001b[1;33m[\u001b[0m\u001b[1;34m'value'\u001b[0m\u001b[1;33m]\u001b[0m\u001b[1;33m\u001b[0m\u001b[1;33m\u001b[0m\u001b[0m\n\u001b[0m\u001b[0;32m    680\u001b[0m \u001b[1;33m\u001b[0m\u001b[0m\n\u001b[0;32m    681\u001b[0m     \u001b[1;32mdef\u001b[0m \u001b[0mclose\u001b[0m\u001b[1;33m(\u001b[0m\u001b[0mself\u001b[0m\u001b[1;33m)\u001b[0m\u001b[1;33m:\u001b[0m\u001b[1;33m\u001b[0m\u001b[1;33m\u001b[0m\u001b[0m\n",
      "\u001b[1;32mC:\\programs\\Continuum\\anaconda3\\lib\\site-packages\\selenium\\webdriver\\remote\\webdriver.py\u001b[0m in \u001b[0;36mexecute\u001b[1;34m(self, driver_command, params)\u001b[0m\n\u001b[0;32m    319\u001b[0m         \u001b[0mresponse\u001b[0m \u001b[1;33m=\u001b[0m \u001b[0mself\u001b[0m\u001b[1;33m.\u001b[0m\u001b[0mcommand_executor\u001b[0m\u001b[1;33m.\u001b[0m\u001b[0mexecute\u001b[0m\u001b[1;33m(\u001b[0m\u001b[0mdriver_command\u001b[0m\u001b[1;33m,\u001b[0m \u001b[0mparams\u001b[0m\u001b[1;33m)\u001b[0m\u001b[1;33m\u001b[0m\u001b[1;33m\u001b[0m\u001b[0m\n\u001b[0;32m    320\u001b[0m         \u001b[1;32mif\u001b[0m \u001b[0mresponse\u001b[0m\u001b[1;33m:\u001b[0m\u001b[1;33m\u001b[0m\u001b[1;33m\u001b[0m\u001b[0m\n\u001b[1;32m--> 321\u001b[1;33m             \u001b[0mself\u001b[0m\u001b[1;33m.\u001b[0m\u001b[0merror_handler\u001b[0m\u001b[1;33m.\u001b[0m\u001b[0mcheck_response\u001b[0m\u001b[1;33m(\u001b[0m\u001b[0mresponse\u001b[0m\u001b[1;33m)\u001b[0m\u001b[1;33m\u001b[0m\u001b[1;33m\u001b[0m\u001b[0m\n\u001b[0m\u001b[0;32m    322\u001b[0m             response['value'] = self._unwrap_value(\n\u001b[0;32m    323\u001b[0m                 response.get('value', None))\n",
      "\u001b[1;32mC:\\programs\\Continuum\\anaconda3\\lib\\site-packages\\selenium\\webdriver\\remote\\errorhandler.py\u001b[0m in \u001b[0;36mcheck_response\u001b[1;34m(self, response)\u001b[0m\n\u001b[0;32m    240\u001b[0m                 \u001b[0malert_text\u001b[0m \u001b[1;33m=\u001b[0m \u001b[0mvalue\u001b[0m\u001b[1;33m[\u001b[0m\u001b[1;34m'alert'\u001b[0m\u001b[1;33m]\u001b[0m\u001b[1;33m.\u001b[0m\u001b[0mget\u001b[0m\u001b[1;33m(\u001b[0m\u001b[1;34m'text'\u001b[0m\u001b[1;33m)\u001b[0m\u001b[1;33m\u001b[0m\u001b[1;33m\u001b[0m\u001b[0m\n\u001b[0;32m    241\u001b[0m             \u001b[1;32mraise\u001b[0m \u001b[0mexception_class\u001b[0m\u001b[1;33m(\u001b[0m\u001b[0mmessage\u001b[0m\u001b[1;33m,\u001b[0m \u001b[0mscreen\u001b[0m\u001b[1;33m,\u001b[0m \u001b[0mstacktrace\u001b[0m\u001b[1;33m,\u001b[0m \u001b[0malert_text\u001b[0m\u001b[1;33m)\u001b[0m\u001b[1;33m\u001b[0m\u001b[1;33m\u001b[0m\u001b[0m\n\u001b[1;32m--> 242\u001b[1;33m         \u001b[1;32mraise\u001b[0m \u001b[0mexception_class\u001b[0m\u001b[1;33m(\u001b[0m\u001b[0mmessage\u001b[0m\u001b[1;33m,\u001b[0m \u001b[0mscreen\u001b[0m\u001b[1;33m,\u001b[0m \u001b[0mstacktrace\u001b[0m\u001b[1;33m)\u001b[0m\u001b[1;33m\u001b[0m\u001b[1;33m\u001b[0m\u001b[0m\n\u001b[0m\u001b[0;32m    243\u001b[0m \u001b[1;33m\u001b[0m\u001b[0m\n\u001b[0;32m    244\u001b[0m     \u001b[1;32mdef\u001b[0m \u001b[0m_value_or_default\u001b[0m\u001b[1;33m(\u001b[0m\u001b[0mself\u001b[0m\u001b[1;33m,\u001b[0m \u001b[0mobj\u001b[0m\u001b[1;33m,\u001b[0m \u001b[0mkey\u001b[0m\u001b[1;33m,\u001b[0m \u001b[0mdefault\u001b[0m\u001b[1;33m)\u001b[0m\u001b[1;33m:\u001b[0m\u001b[1;33m\u001b[0m\u001b[1;33m\u001b[0m\u001b[0m\n",
      "\u001b[1;31mWebDriverException\u001b[0m: Message: chrome not reachable\n  (Session info: chrome=79.0.3945.130)\n"
     ]
    }
   ],
   "source": [
    "## With chrome\n",
    "driver = webdriver.Chrome(executable_path = 'C:\\\\bin\\\\chromedriver')\n",
    "\n",
    "driver.get('https://www.ey.com/en_gl/ai')\n",
    "#driver.find_element_by_css_selector(\"button.show-more\").click()\n",
    "\n",
    "driver.get('https://www.ey.com/en_gl/ai')\n",
    "time.sleep(3)\n",
    "driver.find_element_by_css_selector(\"button.cookiePolicy-accept\").click()\n",
    "time.sleep(3)\n",
    "\n",
    "coordinates = {'x': 0, 'y': 1200}\n",
    "driver.execute_script('window.scrollTo({}, {});'.format(coordinates['x'], coordinates['y']))\n",
    "time.sleep(3)\n",
    "coordinates = {'x': 0, 'y': 1600}\n",
    "driver.execute_script('window.scrollTo({}, {});'.format(coordinates['x'], coordinates['y']))\n",
    "\n",
    "driver.find_element_by_css_selector(\"button.show-more\").click()\n",
    "time.sleep(3)\n",
    "\n",
    "#pageSource = {}\n",
    "#pageno = 1\n",
    "#pagestr = \"page_\" + str(pageno)\n",
    "#pageSources[pagestr] = driver.page_source\n",
    "\n",
    "while True:\n",
    "    try:\n",
    "        driver.find_element_by_css_selector(\"button.next\").click()\n",
    "        time.sleep(4)\n",
    "    except (NoSuchElementException, WebDriverException, ElementNotInteractableException) as e:\n",
    "        print(\"No 'Next' button found\")\n",
    "        break\n",
    "        \n",
    "pageSource = driver.page_source\n",
    "\n",
    "driver.quit()"
   ]
  },
  {
   "cell_type": "code",
   "execution_count": 6,
   "metadata": {},
   "outputs": [],
   "source": [
    "ey_sel = Selector(text = pageSource) #create Selector object\n",
    "ey_urldict = {}\n",
    "   \n",
    "ey_urldict['titles'] = ey_sel.css('h4.article-title.is-clipped::text').extract()\n",
    "ey_urldict['urls'] = ey_sel.css('div.article-tile.tile.valid > div.tile-image-box > a::attr(href)').extract()"
   ]
  },
  {
   "cell_type": "code",
   "execution_count": 11,
   "metadata": {},
   "outputs": [
    {
     "ename": "KeyError",
     "evalue": "'urls'",
     "output_type": "error",
     "traceback": [
      "\u001b[1;31m---------------------------------------------------------------------------\u001b[0m",
      "\u001b[1;31mKeyError\u001b[0m                                  Traceback (most recent call last)",
      "\u001b[1;32m<ipython-input-11-4acb5d4032e9>\u001b[0m in \u001b[0;36m<module>\u001b[1;34m\u001b[0m\n\u001b[1;32m----> 1\u001b[1;33m \u001b[0mey_urllist\u001b[0m \u001b[1;33m=\u001b[0m \u001b[0mlist\u001b[0m\u001b[1;33m(\u001b[0m\u001b[0mmap\u001b[0m\u001b[1;33m(\u001b[0m\u001b[1;32mlambda\u001b[0m \u001b[0murl\u001b[0m\u001b[1;33m:\u001b[0m \u001b[1;34m'https://www.ey.com'\u001b[0m \u001b[1;33m+\u001b[0m \u001b[0murl\u001b[0m\u001b[1;33m,\u001b[0m \u001b[0mey_urldict\u001b[0m\u001b[1;33m[\u001b[0m\u001b[1;34m'urls'\u001b[0m\u001b[1;33m]\u001b[0m\u001b[1;33m)\u001b[0m\u001b[1;33m)\u001b[0m\u001b[1;33m\u001b[0m\u001b[1;33m\u001b[0m\u001b[0m\n\u001b[0m\u001b[0;32m      2\u001b[0m \u001b[0mlen\u001b[0m\u001b[1;33m(\u001b[0m\u001b[0mey_urllist\u001b[0m\u001b[1;33m)\u001b[0m\u001b[1;33m\u001b[0m\u001b[1;33m\u001b[0m\u001b[0m\n",
      "\u001b[1;31mKeyError\u001b[0m: 'urls'"
     ]
    }
   ],
   "source": [
    "ey_urllist = list(map(lambda url: 'https://www.ey.com' + url, ey_urldict['urls']))"
   ]
  },
  {
   "cell_type": "code",
   "execution_count": 12,
   "metadata": {},
   "outputs": [
    {
     "data": {
      "text/plain": [
       "105"
      ]
     },
     "execution_count": 12,
     "metadata": {},
     "output_type": "execute_result"
    }
   ],
   "source": [
    "len(ey_urllist)"
   ]
  },
  {
   "cell_type": "code",
   "execution_count": 8,
   "metadata": {},
   "outputs": [],
   "source": [
    "ey_pagehtml = requests.get(ey_urllist[0]).content\n",
    "ey_pagesel = Selector(text = ey_pagehtml)"
   ]
  },
  {
   "cell_type": "code",
   "execution_count": 9,
   "metadata": {},
   "outputs": [
    {
     "name": "stdout",
     "output_type": "stream",
     "text": [
      "\n",
      "   \n",
      "    \n",
      "     \n",
      "      \n",
      "       \n",
      "       8 minute read  \n",
      "       19 Nov 2019  \n",
      "       \n",
      "      \n",
      "        \n",
      "         \n",
      "         \n",
      "          Link copied \n",
      "          \n",
      "          \n",
      "         \n",
      "         \n",
      "          \n",
      "           \n",
      "            \n",
      "                     \n",
      "                     \n",
      "                     \n",
      "                     \n",
      "            \n",
      "           \n",
      "          \n",
      "         \n",
      "         \n",
      "          \n",
      "         \n",
      "       \n",
      "       \n",
      "      \n",
      "     \n",
      "     \n",
      "     \n",
      " \n",
      " \n",
      " \n",
      " \n",
      " \n",
      " \n",
      " \n",
      " \n",
      " \n",
      " \n",
      " \n",
      " \n",
      "      \n",
      "      How AI can help governments manage their money better  \n",
      "      \n",
      "     \n",
      "    \n",
      "   \n",
      " \n",
      "   \n",
      "    \n",
      "    Authors  \n",
      "     \n",
      "     George Atalla  \n",
      "     EY Global Government & Public Sector Leader  \n",
      "     Working with governments to address complex issues and build a better working world.  \n",
      "     \n",
      "     \n",
      "     Mark MacDonald  \n",
      "     EY Global Public Finance Management Leader  \n",
      "     Experienced leader of public sector reform. Works with governments around the world. Advises on designing and implementing programs to help improve performance and create better citizen outcomes.  \n",
      "     \n",
      "    \n",
      "   \n",
      " \n",
      "\n",
      "    8 minute read  \n",
      "    19 Nov 2019  \n",
      " \n",
      "\n",
      "\n",
      " \n",
      "  \n",
      " \n",
      "    \n",
      "    \n",
      "    Related topics   \n",
      "    AI   \n",
      "    Government and public sector   \n",
      "     \n",
      "  \n",
      " \n",
      "   \n",
      "    \n",
      "    \n",
      "     Link copied \n",
      "     \n",
      "     \n",
      "    \n",
      "    \n",
      "    \n",
      "      \n",
      "       \n",
      "                \n",
      "                \n",
      "                \n",
      "                \n",
      "       \n",
      "     \n",
      "     \n",
      "    \n",
      "    \n",
      "     \n",
      "    \n",
      "   \n",
      "  \n",
      "   \n",
      "  \n",
      "     \n",
      "    Upvote  \n",
      "      \n",
      "   \n",
      "   \n",
      " \n",
      "   \n",
      "    \n",
      "     \n",
      "     Show resources  \n",
      "      \n",
      "      \n",
      "     \n",
      "    \n",
      "   \n",
      " \n",
      "     \n",
      "   \n",
      "    \n",
      "    AI is helping governments improve efficiency, detect irregular financial activity and deliver better value for money through augmented human decision-making.  \n",
      "    A rtificial intelligence (AI) and related technologies have the potential to solve many of the problems revenue and finance agencies face. By optimizing processes, they can make public finance management (PFM) and tax administration more efficient – and help agencies to meet the constant demand to do more with less.  \n",
      "    By improving controls and spotting anomalies in large volumes of data, they help reduce accounting errors, identify risks and prevent tax fraud and financial crime. And by automating routine processes, they allow agencies to focus human input on where it counts – using insights from data to make better decisions.  \n",
      "    The technologies that deliver these results – such as machine learning, robotic process automation and natural language processing – are fueled by large amounts of data. For their results to be valuable, the data behind them (including macro-economic statistics, audit reports, source data provided by taxpayers, data collected from banks and other intermediaries) needs to be reliable, consistent, transparent and available in a timely manner.  \n",
      "    We’re also seeing governments experimenting in blockchain-based solutions alongside AI-enabled technologies. These give managers a clear picture of, for example, where money is being spent, goods are being moved and transactions are being closed.  \n",
      "    \n",
      "   \n",
      " \n",
      "   \n",
      "    \n",
      "    \n",
      "    Six ways governments could use AI in public finance management  \n",
      "    1. Making revenue agencies more efficient and effective  \n",
      "    Revenue agencies face the arduous task of collecting volumes of information from and about taxpayers. They also identify risks, calculate taxes, monitor tax collections, verify tax returns and address tax queries.  \n",
      "    To improve compliance, tax authorities across some countries are using AI models along with analytics to predict those at higher risk of not paying their taxes. They’re also predicting which of those taxpayers are likely to react positively to certain tax interventions. The result is increased revenue collection and lower tax avoidance.  \n",
      "    \n",
      "    \n",
      "     \n",
      "     \n",
      "      \n",
      "       \n",
      "        \n",
      "        How EY can help  \n",
      "         \n",
      "         \n",
      "          \n",
      "          Audit technology  \n",
      "          EY uses leading-edge technology to power and deliver the end-to-end digital audit.  \n",
      "          Read more  \n",
      "          \n",
      "         \n",
      "        \n",
      "       \n",
      "      \n",
      "     \n",
      "    \n",
      "   \n",
      " \n",
      "   \n",
      "    \n",
      "    AI-enabled technologies can also help revenue agencies to move more and more of their communication with taxpayers onto digital platforms. This gives citizens the fast, convenient experience they expect, while freeing up employees’ time for more impactful work.  \n",
      "    Tax authorities are showing particular interest in virtual assistants or “chatbots”.  Skatti, a chatbot for the Swedish Tax Agency, handles around  15,000 citizen queries  about tax returns   a month, making services more accessible, personal and efficient. Some chatbots also “learn” from the questions citizens ask. This builds up taxpayer guidance over time, so the underlying systems can handle enquiries more accurately.   \n",
      "    \n",
      "   \n",
      " \n",
      " \n",
      "     \n",
      "   \n",
      "    \n",
      "    Tax authorities across some countries are using AI models along with analytics to predict higher-risk tax payers. The result is increased revenue collection and lower tax avoidance.  \n",
      "    \n",
      "   \n",
      " \n",
      "   \n",
      "    \n",
      "    \n",
      "    One way of doing this is to examine the relationship between people and computers to understand how machines can boost the effectiveness of tax professionals, resulting in a collective intelligence. To that end, high-performing revenue agencies should seek a solution that will develop a governance model of AI systems for tax purposes, and help governments better understand the externalities of tax policy with AI systems.  \n",
      "    2. Preventing financial crime and predicting corruption  \n",
      "    Financial crime continues to plague governments and the financial services sector. According to UN estimates,  money laundering and related crimes alone cost  between US$1.4 trillion and US$3.5 trillion globally a year  \n",
      "    Regulators are encouraging government agencies and financial institutions to use AI technologies to detect money laundering. In doing so, they will help to cut funding for human trafficking, narcotics, arms sales, and terrorism.    \n",
      "    Governments can also use AI to predict corruption and spot fraud. Researchers at the University of Valladolid in Spain have created a computer model that  calculates the probability of corruption  taking place in Spanish provinces. The model, which is based on neural networks, also identifies the conditions that encourage corruption.  \n",
      "    Meanwhile, AI is also being used to predict and prevent fraudulent health insurance claims. By analyzing the massive amount of data created in the healthcare system, the technology can flag likely fraud before it starts and can create an evidence-base for fraud examiners and law enforcement to prosecute cases.  \n",
      "    Governments elsewhere are using AI for disbursement as well as to control leakages in subsidies and welfare payments. Denmark is using AI and blockchain for   faster and more effective processing of welfare payments   to beneficiaries. And the UK’s Department for Work and Pensions has rolled out and tested AI algorithms to  track down large-scale corruption  of its benefits and welfare programs.  \n",
      "    3. Transforming procurement to deliver better value for money  \n",
      "    For years, technology has been taking some of the load in this labor-intensive area. But it’s only been able to do this partially.    \n",
      "    AI has the potential to not only streamline procurement processes, but to transform them – saving time and money. It can do this by:  \n",
      "     \n",
      "     Making procurement processes smarter – for example, alerting government and suppliers to supply chain disruption, recognizing and flagging supplier compliance issues and identifying fraud  \n",
      "     Automating menial procurement tasks, particularly in invoice processing and approving proposed purchases  \n",
      "     Identifying opportunities to reduce government spending  \n",
      "     \n",
      "    Technologies under the AI umbrella can also improve the procurement process for government entities, as well as for suppliers bidding for the government work. For example, the US Air Force recently announced plans to use AI to make sense of complex acquisition regulations and speed up the buying process for goods and services.  \n",
      "    \n",
      "    \n",
      "     \n",
      "     \n",
      "      \n",
      "      Related article  \n",
      "       \n",
      "      \n",
      "     \n",
      "    \n",
      "   \n",
      " \n",
      "   \n",
      "    \n",
      "    AI has the potential to not only streamline procurement processes, but to transform them – saving time and money.  \n",
      "    \n",
      "   \n",
      " \n",
      "   \n",
      "    \n",
      "    \n",
      "    And the rebuilt BidSync™ supplier application (from Periscope Holdings) uses machine-learning technology to  filter out irrelevant government opportunities  and deliver the most winnable ones for each user – saving valuable time.  \n",
      "    4. Identifying anomalies for public sector audits  \n",
      "    Auditing and accounting in the public sector involve collecting and using huge volumes of data. As a result, the scope for human error – and the ability of AI to mitigate the risks – is higher than in most areas of government.  \n",
      "    AI can automate a big chunk of the work humans have traditionally done, freeing the auditor up to focus on areas requiring human judgment. It can prove particularly useful in identifying anomalies or errors and finding unusual transactions that could indicate fraud or unintentional errors. It can also spot whether any transactions are missing from accounting records.  \n",
      "    Proprietary technology can be used to   detect anomalies and transform the way audits are conducted . Some governments are using MindBridge Analytics’ award-winning  Ai Auditor  to fulfill a similar purpose. The tool uses a mix of techniques, from decision-based rules and statistical methods to AI and machine learning, to detect anomalies in financial data. It can also analyze 100% of the transactions in a data set, resulting in analysis that’s more effective and efficient.  \n",
      "    5. Improving macro-economic forecasting  \n",
      "    AI and machine learning are maturing to become powerful tools for carrying out macro-economic forecasting. This real-time, multidimensional economic modeling can yield many benefits, including:  \n",
      "     \n",
      "     Identifying potential market risks and predicting situations that could harm the economy  \n",
      "     Collecting big data to formulate and implement procedures in line with government agency policies  \n",
      "     Predicting the impact of policy reforms in various scenarios    \n",
      "     \n",
      "    The Estonian government, for example, has been carrying out a pilot project to create analysis models that will  monitor and predict the economy.  It will also use big data generated by businesses, along with modern modeling techniques, to assess the impact of policies.  \n",
      "    6. Making sense of vast amounts of unstructured data  \n",
      "    As digital technologies take hold, the volume of data that revenue and finance agencies handle will grow. Much of this data will be “unstructured,” which means it will be found in emails, videos and social media posts, rather than organized in a traditional database.  \n",
      "    \n",
      "    \n",
      "     \n",
      "     \n",
      "      \n",
      "       \n",
      "        \n",
      "        How EY can help  \n",
      "         \n",
      "         \n",
      "          \n",
      "          EY Helix  \n",
      "          Our global audit analytics platform allows analytics to be embedded into every significant aspect of the audit.  \n",
      "          Read more  \n",
      "          \n",
      "         \n",
      "        \n",
      "       \n",
      "      \n",
      "     \n",
      "    \n",
      "   \n",
      " \n",
      "   \n",
      "    \n",
      "    Most finance and revenue agencies are yet to use AI in this way. But by tapping into previously untouchable data, they’ll be able to make radically better decisions in the future.  \n",
      "    \n",
      "   \n",
      " \n",
      "   \n",
      "    \n",
      "    \n",
      "    It would be impossible for a human to analyze thousands of pages of this data without error. But AI technologies, including text analytics and natural language processing (NLP), can do just that. For example, the Australian Tax Office used NLP techniques, among others, to   review the 13.4 million files   that emerged in the Paradise Papers leak and extract names of interest.  \n",
      "    Most finance and revenue agencies are yet to use AI in this way. But by tapping into previously untouchable data, they’ll be able to make radically better decisions in the future.  \n",
      "    Trust is crucial to success  \n",
      "    AI will find a firm foothold within revenue and finance agencies as they move to supplement human intuition with data-driven insight. But like all areas of government, they’ll need to prepare properly to mitigate the potential risks and build the culture needed to support these new technologies.  \n",
      "    Revenue and finance agencies handle large amounts of sensitive financial data. So, their officials will need to reassure the public that the right level of data protection and ethical standards are in place if they’re to build trust and legitimize their use of AI. Agencies will achieve better buy-in when citizens understand the logic of the system, particularly where an administrative decision needs explaining.   \n",
      "    They’ll also need to be sure that the taxpayer and citizen data the algorithms use is of a good quality, to avoid unintended bias and mass-scale mistakes. Continued monitoring will be needed to make sure errors or unintended consequences are detected and quickly corrected. The systems will require ongoing supervision by knowledgeable humans.  \n",
      "    Finally, embedding AI into existing working practices will be a key change management issue for all organizations. Success requires the trust and buy-in of finance professionals who are ready to embrace new methods of decision-making.  \n",
      "    \n",
      "    \n",
      "     \n",
      "     \n",
      "      \n",
      "      Related article  \n",
      "       \n",
      "      \n",
      "     \n",
      "    \n",
      "   \n",
      " \n",
      "   \n",
      "   Logo  \n",
      "   \n",
      "    Join the conversation   \n",
      "    \n",
      "    \n",
      "    \n",
      "    \n",
      "    Share your views  \n",
      "    \n",
      "   \n",
      "  \n",
      "    <li class=\"twitter-feed\">\n",
      "      {% if (retwitted) { %} <span class=\"twitter-retwitted\"> {{ retwitted }}</span> {% } %}\n",
      "      <div class=\"twitter-header\">\n",
      "        <a class=\"twitter-sender\" {{target}} href=\"https://twitter.com/{{ user.screen_name }}\">\n",
      "          <img class=\"twitter-sender-avatar\" alt=\"\"\n",
      "            src=\"{{ user.profile_image_url_https }}\">\n",
      "          <span class=\"twitter-sender-full-name\">{{ user.name }}</span>\n",
      "            <span class=\"twitter-sender-profile-and-date\">\n",
      "            @<strong>{{ user.screen_name }}</strong>\n",
      "            <time class=\"twitter-date\">{{ created_at }}</time>\n",
      "          </span>\n",
      "        </a>\n",
      "        <a class=\"twitter-follow-button\"\n",
      "          href=\"https://twitter.com/intent/follow?region=follow_link&screen_name={{ user.screen_name }}\"\n",
      "          target=\"_blank\"\n",
      "          data-show-screen-name=\"false\"\n",
      "          data-show-count=\"false\"\n",
      "          data-size=\"large\"\n",
      "        >\n",
      "          <span>Follow</span>\n",
      "        </a>\n",
      "      </div>\n",
      "\n",
      "      <div class=\"twitter-content\">\n",
      "        {{ text }}\n",
      "      </div>\n",
      "      <ul class=\"twitter-actions\">\n",
      "        <li class=\"twitter-action\"><a href=\"https://twitter.com/intent/tweet?in_reply_to={{id_str}}\" {{target}} class=\"twitter-reply-action web-intent\" title=\"Reply\">Reply</a></li>\n",
      "        <li class=\"twitter-action\"><a href=\"https://twitter.com/intent/retweet?tweet_id={{id_str}}\" {{target}} class=\"twitter-retweet-action web-intent\" title=\"Retweet\" data-count=\"{{retweet_count}}\">Retweet</a></li>\n",
      "        <li class=\"twitter-action\"><a href=\"https://twitter.com/intent/favorite?tweet_id={{id_str}}\" {{target}} class=\"twitter-favorite-action web-intent\" title=\"Favorite\" data-count=\"{{favorite_count}}\">Favorite</a></li>\n",
      "      </ul>\n",
      "    </li>\n",
      "    \n",
      " \n",
      "  \n",
      "   \n",
      "   Summary  \n",
      "   \n",
      " \n",
      "   \n",
      "    \n",
      "    AI has the potential to change the way governments’ finance functions operate by creating a reliable system built on digital trust, transparency and cost efficiency. But to reap the full rewards, revenue and finance agencies need to trust their own data as well as the AI system they deploy. And they need to build the same trust among citizens.  \n",
      "    \n",
      "   \n",
      " \n",
      "      \n",
      "  \n",
      "   \n",
      "   \n",
      "     \n",
      "     \n",
      "      \n",
      "       \n",
      "        \n",
      "        \n",
      "        \n",
      "         \n",
      "          \n",
      "           \n",
      "           \n",
      "            \n",
      "             \n",
      "             About this article  \n",
      "             \n",
      "            \n",
      "           \n",
      "           \n",
      "            \n",
      "             \n",
      "             Authors  \n",
      "              \n",
      "              George Atalla  \n",
      "              EY Global Government & Public Sector Leader  \n",
      "              Working with governments to address complex issues and build a better working world.  \n",
      "              \n",
      "              \n",
      "              Mark MacDonald  \n",
      "              EY Global Public Finance Management Leader  \n",
      "              Experienced leader of public sector reform. Works with governments around the world. Advises on designing and implementing programs to help improve performance and create better citizen outcomes.  \n",
      "              \n",
      "             \n",
      "            \n",
      "           \n",
      "           \n",
      "           \n",
      "            \n",
      "             \n",
      "              \n",
      "              \n",
      "             \n",
      "                \n",
      "                \n",
      "                Related topics   \n",
      "                AI   \n",
      "                Government and public sector   \n",
      "                 \n",
      "              \n",
      "              \n",
      "              \n",
      "               \n",
      "                \n",
      "                \n",
      "                 Link copied \n",
      "                 \n",
      "                 \n",
      "                \n",
      "                \n",
      "                 \n",
      "                  \n",
      "                   \n",
      "                            \n",
      "                            \n",
      "                            \n",
      "                            \n",
      "                   \n",
      "                  \n",
      "                 \n",
      "                \n",
      "                \n",
      "                 \n",
      "                \n",
      "               \n",
      "              \n",
      "              \n",
      "               \n",
      "              \n",
      "                 \n",
      "                Upvote  \n",
      "                  \n",
      "               \n",
      "               \n",
      "              \n",
      "             \n",
      "            \n",
      "           \n",
      "          \n",
      "         \n",
      "        \n",
      "       \n",
      "      \n",
      "    \n",
      "    \n",
      "   \n",
      " \n",
      " \n",
      "   \n",
      "    \n",
      "    \n",
      "    \n",
      "    Read more  \n",
      "    \n",
      "   \n",
      " \n",
      "   \n",
      "    \n",
      "    \n",
      "    \n",
      "    Read more  \n",
      "    \n",
      "   \n",
      "\n"
     ]
    }
   ],
   "source": [
    "ey_text = ey_pagesel.css('div#content ::text').extract()\n",
    "ey_title = ey_pagesel.css('title ::text').extract_first()\n",
    "ey_text = ' '.join(ey_text)\n",
    "print(ey_text)"
   ]
  },
  {
   "cell_type": "code",
   "execution_count": 10,
   "metadata": {},
   "outputs": [
    {
     "name": "stderr",
     "output_type": "stream",
     "text": [
      "2019-11-19 16:45:47 [scrapy.utils.log] INFO: Scrapy 1.8.0 started (bot: scrapybot)\n",
      "2019-11-19 16:45:47 [scrapy.utils.log] INFO: Versions: lxml 4.4.1.0, libxml2 2.9.9, cssselect 1.1.0, parsel 1.5.2, w3lib 1.21.0, Twisted 19.10.0, Python 3.7.4 (default, Aug  9 2019, 18:34:13) [MSC v.1915 64 bit (AMD64)], pyOpenSSL 19.0.0 (OpenSSL 1.1.1d  10 Sep 2019), cryptography 2.7, Platform Windows-10-10.0.16299-SP0\n",
      "2019-11-19 16:45:47 [scrapy.crawler] INFO: Overridden settings: {}\n",
      "2019-11-19 16:45:47 [scrapy.extensions.telnet] INFO: Telnet Password: 775b1ccf296223f3\n",
      "2019-11-19 16:45:47 [scrapy.middleware] INFO: Enabled extensions:\n",
      "['scrapy.extensions.corestats.CoreStats',\n",
      " 'scrapy.extensions.telnet.TelnetConsole',\n",
      " 'scrapy.extensions.logstats.LogStats']\n",
      "2019-11-19 16:45:47 [scrapy.middleware] INFO: Enabled downloader middlewares:\n",
      "['scrapy.downloadermiddlewares.httpauth.HttpAuthMiddleware',\n",
      " 'scrapy.downloadermiddlewares.downloadtimeout.DownloadTimeoutMiddleware',\n",
      " 'scrapy.downloadermiddlewares.defaultheaders.DefaultHeadersMiddleware',\n",
      " 'scrapy.downloadermiddlewares.useragent.UserAgentMiddleware',\n",
      " 'scrapy.downloadermiddlewares.retry.RetryMiddleware',\n",
      " 'scrapy.downloadermiddlewares.redirect.MetaRefreshMiddleware',\n",
      " 'scrapy.downloadermiddlewares.httpcompression.HttpCompressionMiddleware',\n",
      " 'scrapy.downloadermiddlewares.redirect.RedirectMiddleware',\n",
      " 'scrapy.downloadermiddlewares.cookies.CookiesMiddleware',\n",
      " 'scrapy.downloadermiddlewares.httpproxy.HttpProxyMiddleware',\n",
      " 'scrapy.downloadermiddlewares.stats.DownloaderStats']\n",
      "2019-11-19 16:45:47 [scrapy.middleware] INFO: Enabled spider middlewares:\n",
      "['scrapy.spidermiddlewares.httperror.HttpErrorMiddleware',\n",
      " 'scrapy.spidermiddlewares.offsite.OffsiteMiddleware',\n",
      " 'scrapy.spidermiddlewares.referer.RefererMiddleware',\n",
      " 'scrapy.spidermiddlewares.urllength.UrlLengthMiddleware',\n",
      " 'scrapy.spidermiddlewares.depth.DepthMiddleware']\n",
      "2019-11-19 16:45:47 [scrapy.middleware] INFO: Enabled item pipelines:\n",
      "[]\n",
      "2019-11-19 16:45:47 [scrapy.core.engine] INFO: Spider opened\n",
      "2019-11-19 16:45:47 [scrapy.extensions.logstats] INFO: Crawled 0 pages (at 0 pages/min), scraped 0 items (at 0 items/min)\n",
      "2019-11-19 16:45:47 [scrapy.extensions.telnet] INFO: Telnet console listening on 127.0.0.1:6023\n",
      "2019-11-19 16:45:48 [scrapy.core.engine] DEBUG: Crawled (200) <GET https://www.ey.com/en_gl/alliances/how-ai-is-reshaping-the-document-review-and-processing-landscape> (referer: None)\n",
      "2019-11-19 16:45:48 [scrapy.core.engine] DEBUG: Crawled (200) <GET https://www.ey.com/en_gl/alliances/how-ey-is-empowering-business-with-artificial-intelligence> (referer: None)\n",
      "2019-11-19 16:45:48 [scrapy.core.engine] DEBUG: Crawled (200) <GET https://www.ey.com/en_gl/advisory/five-design-principles-to-help-build-confidence-in-rpa-implement> (referer: None)\n",
      "2019-11-19 16:45:48 [scrapy.core.engine] DEBUG: Crawled (200) <GET https://www.ey.com/en_gl/advisory/how-digital-transformation-helped-benefit-fans-and-the-bottom-line> (referer: None)\n",
      "2019-11-19 16:45:48 [urllib3.connectionpool] DEBUG: Starting new HTTPS connection (1): www.ey.com:443\n"
     ]
    },
    {
     "name": "stdout",
     "output_type": "stream",
     "text": [
      "https://www.ey.com/en_gl/alliances/how-ai-is-reshaping-the-document-review-and-processing-landscape\n"
     ]
    },
    {
     "name": "stderr",
     "output_type": "stream",
     "text": [
      "2019-11-19 16:45:49 [urllib3.connectionpool] DEBUG: https://www.ey.com:443 \"GET /en_gl/alliances/how-ai-is-reshaping-the-document-review-and-processing-landscape HTTP/1.1\" 200 13107\n",
      "2019-11-19 16:45:49 [scrapy.core.engine] DEBUG: Crawled (200) <GET https://www.ey.com/en_gl/advisory/how-can-risk-foresight-lead-to-ai-insight> (referer: None)\n",
      "2019-11-19 16:45:49 [scrapy.core.engine] DEBUG: Crawled (200) <GET https://www.ey.com/en_gl/advisory/how-ai-can-help-governments-manage-their-money-better> (referer: None)\n",
      "2019-11-19 16:45:49 [scrapy.core.engine] DEBUG: Crawled (200) <GET https://www.ey.com/en_gl/real-estate-hospitality-construction/how-will-robots-make-buildings-more-human> (referer: None)\n",
      "2019-11-19 16:45:49 [scrapy.core.engine] DEBUG: Crawled (200) <GET https://www.ey.com/en_gl/oil-gas/how-ai-can-be-the-tool-that-transforms-oil-and-gas-for-the-future> (referer: None)\n",
      "2019-11-19 16:45:49 [scrapy.core.engine] DEBUG: Crawled (200) <GET https://www.ey.com/en_gl/oil-gas/how-oil-and-gas-organizations-can-secure-buy-in-for-ai-transformation> (referer: None)\n",
      "2019-11-19 16:45:49 [scrapy.core.engine] DEBUG: Crawled (200) <GET https://www.ey.com/en_gl/innovation-financial-services/five-key-trends-illuminating-ai-s-impact-for-financial-services> (referer: None)\n",
      "2019-11-19 16:45:49 [scrapy.core.engine] DEBUG: Crawled (200) <GET https://www.ey.com/en_gl/life-sciences/as-data-personalizes-medtech-how-will-you-serve-tomorrows-consumer> (referer: None)\n",
      "2019-11-19 16:45:49 [scrapy.core.engine] DEBUG: Crawled (200) <GET https://www.ey.com/en_gl/tax/how-to-build-supply-chain-resilience-in-asia-pacific-operating-models> (referer: None)\n",
      "2019-11-19 16:45:49 [urllib3.connectionpool] DEBUG: Starting new HTTPS connection (1): www.ey.com:443\n"
     ]
    },
    {
     "name": "stdout",
     "output_type": "stream",
     "text": [
      "https://www.ey.com/en_gl/alliances/how-ey-is-empowering-business-with-artificial-intelligence\n"
     ]
    },
    {
     "name": "stderr",
     "output_type": "stream",
     "text": [
      "2019-11-19 16:45:50 [urllib3.connectionpool] DEBUG: https://www.ey.com:443 \"GET /en_gl/alliances/how-ey-is-empowering-business-with-artificial-intelligence HTTP/1.1\" 200 13508\n",
      "2019-11-19 16:45:50 [urllib3.connectionpool] DEBUG: Starting new HTTPS connection (1): www.ey.com:443\n"
     ]
    },
    {
     "name": "stdout",
     "output_type": "stream",
     "text": [
      "https://www.ey.com/en_gl/advisory/five-design-principles-to-help-build-confidence-in-rpa-implement\n"
     ]
    },
    {
     "name": "stderr",
     "output_type": "stream",
     "text": [
      "2019-11-19 16:45:51 [urllib3.connectionpool] DEBUG: https://www.ey.com:443 \"GET /en_gl/advisory/five-design-principles-to-help-build-confidence-in-rpa-implement HTTP/1.1\" 200 13913\n",
      "2019-11-19 16:45:51 [urllib3.connectionpool] DEBUG: Starting new HTTPS connection (1): www.ey.com:443\n"
     ]
    },
    {
     "name": "stdout",
     "output_type": "stream",
     "text": [
      "https://www.ey.com/en_gl/advisory/how-digital-transformation-helped-benefit-fans-and-the-bottom-line\n"
     ]
    },
    {
     "name": "stderr",
     "output_type": "stream",
     "text": [
      "2019-11-19 16:45:52 [urllib3.connectionpool] DEBUG: https://www.ey.com:443 \"GET /en_gl/advisory/how-digital-transformation-helped-benefit-fans-and-the-bottom-line HTTP/1.1\" 200 14110\n",
      "2019-11-19 16:45:52 [urllib3.connectionpool] DEBUG: Starting new HTTPS connection (1): www.ey.com:443\n"
     ]
    },
    {
     "name": "stdout",
     "output_type": "stream",
     "text": [
      "https://www.ey.com/en_gl/advisory/how-can-risk-foresight-lead-to-ai-insight\n"
     ]
    },
    {
     "name": "stderr",
     "output_type": "stream",
     "text": [
      "2019-11-19 16:45:53 [urllib3.connectionpool] DEBUG: https://www.ey.com:443 \"GET /en_gl/advisory/how-can-risk-foresight-lead-to-ai-insight HTTP/1.1\" 200 15826\n",
      "2019-11-19 16:45:53 [urllib3.connectionpool] DEBUG: Starting new HTTPS connection (1): www.ey.com:443\n"
     ]
    },
    {
     "name": "stdout",
     "output_type": "stream",
     "text": [
      "https://www.ey.com/en_gl/advisory/how-ai-can-help-governments-manage-their-money-better\n"
     ]
    },
    {
     "name": "stderr",
     "output_type": "stream",
     "text": [
      "2019-11-19 16:45:54 [urllib3.connectionpool] DEBUG: https://www.ey.com:443 \"GET /en_gl/advisory/how-ai-can-help-governments-manage-their-money-better HTTP/1.1\" 200 18183\n",
      "2019-11-19 16:45:54 [urllib3.connectionpool] DEBUG: Starting new HTTPS connection (1): www.ey.com:443\n"
     ]
    },
    {
     "name": "stdout",
     "output_type": "stream",
     "text": [
      "https://www.ey.com/en_gl/real-estate-hospitality-construction/how-will-robots-make-buildings-more-human\n"
     ]
    },
    {
     "name": "stderr",
     "output_type": "stream",
     "text": [
      "2019-11-19 16:45:55 [urllib3.connectionpool] DEBUG: https://www.ey.com:443 \"GET /en_gl/real-estate-hospitality-construction/how-will-robots-make-buildings-more-human HTTP/1.1\" 200 17041\n",
      "2019-11-19 16:45:55 [urllib3.connectionpool] DEBUG: Starting new HTTPS connection (1): www.ey.com:443\n"
     ]
    },
    {
     "name": "stdout",
     "output_type": "stream",
     "text": [
      "https://www.ey.com/en_gl/oil-gas/how-ai-can-be-the-tool-that-transforms-oil-and-gas-for-the-future\n"
     ]
    },
    {
     "name": "stderr",
     "output_type": "stream",
     "text": [
      "2019-11-19 16:45:56 [urllib3.connectionpool] DEBUG: https://www.ey.com:443 \"GET /en_gl/oil-gas/how-ai-can-be-the-tool-that-transforms-oil-and-gas-for-the-future HTTP/1.1\" 200 15833\n",
      "2019-11-19 16:45:56 [urllib3.connectionpool] DEBUG: Starting new HTTPS connection (1): www.ey.com:443\n"
     ]
    },
    {
     "name": "stdout",
     "output_type": "stream",
     "text": [
      "https://www.ey.com/en_gl/oil-gas/how-oil-and-gas-organizations-can-secure-buy-in-for-ai-transformation\n"
     ]
    },
    {
     "name": "stderr",
     "output_type": "stream",
     "text": [
      "2019-11-19 16:45:57 [urllib3.connectionpool] DEBUG: https://www.ey.com:443 \"GET /en_gl/oil-gas/how-oil-and-gas-organizations-can-secure-buy-in-for-ai-transformation HTTP/1.1\" 200 15636\n",
      "2019-11-19 16:45:57 [urllib3.connectionpool] DEBUG: Starting new HTTPS connection (1): www.ey.com:443\n"
     ]
    },
    {
     "name": "stdout",
     "output_type": "stream",
     "text": [
      "https://www.ey.com/en_gl/innovation-financial-services/five-key-trends-illuminating-ai-s-impact-for-financial-services\n"
     ]
    },
    {
     "name": "stderr",
     "output_type": "stream",
     "text": [
      "2019-11-19 16:45:58 [urllib3.connectionpool] DEBUG: https://www.ey.com:443 \"GET /en_gl/innovation-financial-services/five-key-trends-illuminating-ai-s-impact-for-financial-services HTTP/1.1\" 200 24909\n",
      "2019-11-19 16:45:59 [urllib3.connectionpool] DEBUG: Starting new HTTPS connection (1): www.ey.com:443\n"
     ]
    },
    {
     "name": "stdout",
     "output_type": "stream",
     "text": [
      "https://www.ey.com/en_gl/life-sciences/as-data-personalizes-medtech-how-will-you-serve-tomorrows-consumer\n"
     ]
    },
    {
     "name": "stderr",
     "output_type": "stream",
     "text": [
      "2019-11-19 16:45:59 [urllib3.connectionpool] DEBUG: https://www.ey.com:443 \"GET /en_gl/life-sciences/as-data-personalizes-medtech-how-will-you-serve-tomorrows-consumer HTTP/1.1\" 200 21377\n",
      "2019-11-19 16:46:00 [urllib3.connectionpool] DEBUG: Starting new HTTPS connection (1): www.ey.com:443\n"
     ]
    },
    {
     "name": "stdout",
     "output_type": "stream",
     "text": [
      "https://www.ey.com/en_gl/tax/how-to-build-supply-chain-resilience-in-asia-pacific-operating-models\n"
     ]
    },
    {
     "name": "stderr",
     "output_type": "stream",
     "text": [
      "2019-11-19 16:46:00 [urllib3.connectionpool] DEBUG: https://www.ey.com:443 \"GET /en_gl/tax/how-to-build-supply-chain-resilience-in-asia-pacific-operating-models HTTP/1.1\" 200 16184\n",
      "2019-11-19 16:46:00 [scrapy.core.engine] DEBUG: Crawled (200) <GET https://www.ey.com/en_gl/ai/six-ways-the-cfo-can-use-artificial-intelligence-today> (referer: None)\n",
      "2019-11-19 16:46:00 [scrapy.core.engine] DEBUG: Crawled (200) <GET https://www.ey.com/en_gl/financial-services/how-to-optimize-your-intelligent-automation-build> (referer: None)\n",
      "2019-11-19 16:46:00 [scrapy.core.engine] DEBUG: Crawled (200) <GET https://www.ey.com/en_gl/financial-services/how-to-give-a-flying-start-to-your-intelligent-automation-program> (referer: None)\n",
      "2019-11-19 16:46:00 [scrapy.core.engine] DEBUG: Crawled (200) <GET https://www.ey.com/en_gl/trust/how-to-trust-the-machine--using-ai-to-combat-money-laundering> (referer: None)\n",
      "2019-11-19 16:46:00 [scrapy.core.engine] DEBUG: Crawled (200) <GET https://www.ey.com/en_gl/government-public-sector/how-to-build-the-digital-state> (referer: None)\n",
      "2019-11-19 16:46:00 [scrapy.core.engine] DEBUG: Crawled (200) <GET https://www.ey.com/en_gl/insurance/three-ways-ai-will-transform-the-insurance-industry> (referer: None)\n",
      "2019-11-19 16:46:00 [scrapy.core.engine] DEBUG: Crawled (200) <GET https://www.ey.com/en_gl/innovation/how-ai-is-transforming-business-right-now> (referer: None)\n",
      "2019-11-19 16:46:00 [scrapy.core.engine] DEBUG: Crawled (200) <GET https://www.ey.com/en_gl/advisory/how-ai-is-automating-intelligently> (referer: None)\n",
      "2019-11-19 16:46:01 [urllib3.connectionpool] DEBUG: Starting new HTTPS connection (1): www.ey.com:443\n"
     ]
    },
    {
     "name": "stdout",
     "output_type": "stream",
     "text": [
      "https://www.ey.com/en_gl/ai/six-ways-the-cfo-can-use-artificial-intelligence-today\n"
     ]
    },
    {
     "name": "stderr",
     "output_type": "stream",
     "text": [
      "2019-11-19 16:46:01 [urllib3.connectionpool] DEBUG: https://www.ey.com:443 \"GET /en_gl/ai/six-ways-the-cfo-can-use-artificial-intelligence-today HTTP/1.1\" 200 19247\n",
      "2019-11-19 16:46:01 [scrapy.core.engine] DEBUG: Crawled (200) <GET https://www.ey.com/en_gl/tax/how-a-fit-tax-function-operates-like-a-healthy-body> (referer: None)\n",
      "2019-11-19 16:46:01 [scrapy.core.engine] DEBUG: Crawled (200) <GET https://www.ey.com/en_gl/ai/is-ai-the-start-of-the-truly-creative-human> (referer: None)\n",
      "2019-11-19 16:46:01 [scrapy.core.engine] DEBUG: Crawled (200) <GET https://www.ey.com/en_gl/advisory/how-ai-can-help-defense-organizations-become-smarter-simpler-and-stronger> (referer: None)\n",
      "2019-11-19 16:46:01 [scrapy.core.engine] DEBUG: Crawled (200) <GET https://www.ey.com/en_gl/tax/how-ai-and-robotics-may-change-tax-job-duties> (referer: None)\n",
      "2019-11-19 16:46:02 [scrapy.core.engine] DEBUG: Crawled (200) <GET https://www.ey.com/en_gl/advisory/how-organizations-can-calibrate-to-trust-iot-sensors> (referer: None)\n",
      "2019-11-19 16:46:02 [scrapy.core.engine] DEBUG: Crawled (200) <GET https://www.ey.com/en_gl/advisory/how-to-prepare-for-adopting-advanced-technology-at-scale> (referer: None)\n",
      "2019-11-19 16:46:02 [scrapy.core.engine] DEBUG: Crawled (200) <GET https://www.ey.com/en_gl/advisory/how-blockchain-can-impact-the-intellectual-property-life-cycle> (referer: None)\n",
      "2019-11-19 16:46:02 [scrapy.core.engine] DEBUG: Crawled (200) <GET https://www.ey.com/en_gl/assurance/why-success-ai-audit-starts-with-asking-right-questions> (referer: None)\n",
      "2019-11-19 16:46:02 [urllib3.connectionpool] DEBUG: Starting new HTTPS connection (1): www.ey.com:443\n"
     ]
    },
    {
     "name": "stdout",
     "output_type": "stream",
     "text": [
      "https://www.ey.com/en_gl/financial-services/how-to-give-a-flying-start-to-your-intelligent-automation-program\n"
     ]
    },
    {
     "name": "stderr",
     "output_type": "stream",
     "text": [
      "2019-11-19 16:46:02 [urllib3.connectionpool] DEBUG: https://www.ey.com:443 \"GET /en_gl/financial-services/how-to-give-a-flying-start-to-your-intelligent-automation-program HTTP/1.1\" 200 14401\n",
      "2019-11-19 16:46:02 [urllib3.connectionpool] DEBUG: Starting new HTTPS connection (1): www.ey.com:443\n"
     ]
    },
    {
     "name": "stdout",
     "output_type": "stream",
     "text": [
      "https://www.ey.com/en_gl/government-public-sector/how-to-build-the-digital-state\n"
     ]
    },
    {
     "name": "stderr",
     "output_type": "stream",
     "text": [
      "2019-11-19 16:46:03 [urllib3.connectionpool] DEBUG: https://www.ey.com:443 \"GET /en_gl/government-public-sector/how-to-build-the-digital-state HTTP/1.1\" 200 21920\n",
      "2019-11-19 16:46:03 [urllib3.connectionpool] DEBUG: Starting new HTTPS connection (1): www.ey.com:443\n"
     ]
    },
    {
     "name": "stdout",
     "output_type": "stream",
     "text": [
      "https://www.ey.com/en_gl/insurance/three-ways-ai-will-transform-the-insurance-industry\n"
     ]
    },
    {
     "name": "stderr",
     "output_type": "stream",
     "text": [
      "2019-11-19 16:46:04 [urllib3.connectionpool] DEBUG: https://www.ey.com:443 \"GET /en_gl/insurance/three-ways-ai-will-transform-the-insurance-industry HTTP/1.1\" 200 18520\n",
      "2019-11-19 16:46:04 [urllib3.connectionpool] DEBUG: Starting new HTTPS connection (1): www.ey.com:443\n"
     ]
    },
    {
     "name": "stdout",
     "output_type": "stream",
     "text": [
      "https://www.ey.com/en_gl/trust/how-to-trust-the-machine--using-ai-to-combat-money-laundering\n"
     ]
    },
    {
     "name": "stderr",
     "output_type": "stream",
     "text": [
      "2019-11-19 16:46:05 [urllib3.connectionpool] DEBUG: https://www.ey.com:443 \"GET /en_gl/trust/how-to-trust-the-machine--using-ai-to-combat-money-laundering HTTP/1.1\" 200 19783\n",
      "2019-11-19 16:46:05 [urllib3.connectionpool] DEBUG: Starting new HTTPS connection (1): www.ey.com:443\n"
     ]
    },
    {
     "name": "stdout",
     "output_type": "stream",
     "text": [
      "https://www.ey.com/en_gl/financial-services/how-to-optimize-your-intelligent-automation-build\n"
     ]
    },
    {
     "name": "stderr",
     "output_type": "stream",
     "text": [
      "2019-11-19 16:46:06 [urllib3.connectionpool] DEBUG: https://www.ey.com:443 \"GET /en_gl/financial-services/how-to-optimize-your-intelligent-automation-build HTTP/1.1\" 200 14387\n",
      "2019-11-19 16:46:06 [urllib3.connectionpool] DEBUG: Starting new HTTPS connection (1): www.ey.com:443\n"
     ]
    },
    {
     "name": "stdout",
     "output_type": "stream",
     "text": [
      "https://www.ey.com/en_gl/innovation/how-ai-is-transforming-business-right-now\n"
     ]
    },
    {
     "name": "stderr",
     "output_type": "stream",
     "text": [
      "2019-11-19 16:46:07 [urllib3.connectionpool] DEBUG: https://www.ey.com:443 \"GET /en_gl/innovation/how-ai-is-transforming-business-right-now HTTP/1.1\" 200 13352\n",
      "2019-11-19 16:46:07 [urllib3.connectionpool] DEBUG: Starting new HTTPS connection (1): www.ey.com:443\n"
     ]
    },
    {
     "name": "stdout",
     "output_type": "stream",
     "text": [
      "https://www.ey.com/en_gl/advisory/how-ai-is-automating-intelligently\n"
     ]
    },
    {
     "name": "stderr",
     "output_type": "stream",
     "text": [
      "2019-11-19 16:46:08 [urllib3.connectionpool] DEBUG: https://www.ey.com:443 \"GET /en_gl/advisory/how-ai-is-automating-intelligently HTTP/1.1\" 200 15578\n",
      "2019-11-19 16:46:08 [urllib3.connectionpool] DEBUG: Starting new HTTPS connection (1): www.ey.com:443\n"
     ]
    },
    {
     "name": "stdout",
     "output_type": "stream",
     "text": [
      "https://www.ey.com/en_gl/ai/is-ai-the-start-of-the-truly-creative-human\n"
     ]
    },
    {
     "name": "stderr",
     "output_type": "stream",
     "text": [
      "2019-11-19 16:46:09 [urllib3.connectionpool] DEBUG: https://www.ey.com:443 \"GET /en_gl/ai/is-ai-the-start-of-the-truly-creative-human HTTP/1.1\" 200 20382\n",
      "2019-11-19 16:46:09 [urllib3.connectionpool] DEBUG: Starting new HTTPS connection (1): www.ey.com:443\n"
     ]
    },
    {
     "name": "stdout",
     "output_type": "stream",
     "text": [
      "https://www.ey.com/en_gl/tax/how-a-fit-tax-function-operates-like-a-healthy-body\n"
     ]
    },
    {
     "name": "stderr",
     "output_type": "stream",
     "text": [
      "2019-11-19 16:46:10 [urllib3.connectionpool] DEBUG: https://www.ey.com:443 \"GET /en_gl/tax/how-a-fit-tax-function-operates-like-a-healthy-body HTTP/1.1\" 200 16937\n",
      "2019-11-19 16:46:10 [urllib3.connectionpool] DEBUG: Starting new HTTPS connection (1): www.ey.com:443\n"
     ]
    },
    {
     "name": "stdout",
     "output_type": "stream",
     "text": [
      "https://www.ey.com/en_gl/advisory/how-ai-can-help-defense-organizations-become-smarter-simpler-and-stronger\n"
     ]
    },
    {
     "name": "stderr",
     "output_type": "stream",
     "text": [
      "2019-11-19 16:46:11 [urllib3.connectionpool] DEBUG: https://www.ey.com:443 \"GET /en_gl/advisory/how-ai-can-help-defense-organizations-become-smarter-simpler-and-stronger HTTP/1.1\" 200 16155\n",
      "2019-11-19 16:46:11 [urllib3.connectionpool] DEBUG: Starting new HTTPS connection (1): www.ey.com:443\n"
     ]
    },
    {
     "name": "stdout",
     "output_type": "stream",
     "text": [
      "https://www.ey.com/en_gl/tax/how-ai-and-robotics-may-change-tax-job-duties\n"
     ]
    },
    {
     "name": "stderr",
     "output_type": "stream",
     "text": [
      "2019-11-19 16:46:12 [urllib3.connectionpool] DEBUG: https://www.ey.com:443 \"GET /en_gl/tax/how-ai-and-robotics-may-change-tax-job-duties HTTP/1.1\" 200 16247\n",
      "2019-11-19 16:46:13 [urllib3.connectionpool] DEBUG: Starting new HTTPS connection (1): www.ey.com:443\n"
     ]
    },
    {
     "name": "stdout",
     "output_type": "stream",
     "text": [
      "https://www.ey.com/en_gl/advisory/how-organizations-can-calibrate-to-trust-iot-sensors\n"
     ]
    },
    {
     "name": "stderr",
     "output_type": "stream",
     "text": [
      "2019-11-19 16:46:13 [urllib3.connectionpool] DEBUG: https://www.ey.com:443 \"GET /en_gl/advisory/how-organizations-can-calibrate-to-trust-iot-sensors HTTP/1.1\" 200 16042\n",
      "2019-11-19 16:46:13 [urllib3.connectionpool] DEBUG: Starting new HTTPS connection (1): www.ey.com:443\n"
     ]
    },
    {
     "name": "stdout",
     "output_type": "stream",
     "text": [
      "https://www.ey.com/en_gl/advisory/how-to-prepare-for-adopting-advanced-technology-at-scale\n"
     ]
    },
    {
     "name": "stderr",
     "output_type": "stream",
     "text": [
      "2019-11-19 16:46:14 [urllib3.connectionpool] DEBUG: https://www.ey.com:443 \"GET /en_gl/advisory/how-to-prepare-for-adopting-advanced-technology-at-scale HTTP/1.1\" 200 14021\n",
      "2019-11-19 16:46:14 [urllib3.connectionpool] DEBUG: Starting new HTTPS connection (1): www.ey.com:443\n"
     ]
    },
    {
     "name": "stdout",
     "output_type": "stream",
     "text": [
      "https://www.ey.com/en_gl/assurance/why-success-ai-audit-starts-with-asking-right-questions\n"
     ]
    },
    {
     "name": "stderr",
     "output_type": "stream",
     "text": [
      "2019-11-19 16:46:15 [urllib3.connectionpool] DEBUG: https://www.ey.com:443 \"GET /en_gl/assurance/why-success-ai-audit-starts-with-asking-right-questions HTTP/1.1\" 200 14633\n",
      "2019-11-19 16:46:15 [urllib3.connectionpool] DEBUG: Starting new HTTPS connection (1): www.ey.com:443\n"
     ]
    },
    {
     "name": "stdout",
     "output_type": "stream",
     "text": [
      "https://www.ey.com/en_gl/advisory/how-blockchain-can-impact-the-intellectual-property-life-cycle\n"
     ]
    },
    {
     "name": "stderr",
     "output_type": "stream",
     "text": [
      "2019-11-19 16:46:16 [urllib3.connectionpool] DEBUG: https://www.ey.com:443 \"GET /en_gl/advisory/how-blockchain-can-impact-the-intellectual-property-life-cycle HTTP/1.1\" 200 15315\n",
      "2019-11-19 16:46:16 [scrapy.core.engine] DEBUG: Crawled (200) <GET https://www.ey.com/en_gl/oil-gas/how-digitalization-can-streamline-oil-and-gas-operations> (referer: None)\n",
      "2019-11-19 16:46:16 [scrapy.core.engine] DEBUG: Crawled (200) <GET https://www.ey.com/en_gl/oil-gas/does-ai-have-the-power-to-refine-oil-and-gas-efficiency> (referer: None)\n",
      "2019-11-19 16:46:16 [scrapy.core.engine] DEBUG: Crawled (200) <GET https://www.ey.com/en_gl/disruption/is-the-next-big-thing-in-manufacturing-the-molecule> (referer: None)\n",
      "2019-11-19 16:46:16 [scrapy.core.engine] DEBUG: Crawled (200) <GET https://www.ey.com/en_gl/assurance/blind-curve-or-ahead-of-the-curve> (referer: None)\n",
      "2019-11-19 16:46:16 [scrapy.core.engine] DEBUG: Crawled (200) <GET https://www.ey.com/en_gl/board-matters/when-your-board-champions-ai-will-you-win-the-future-consumer> (referer: None)\n",
      "2019-11-19 16:46:16 [scrapy.core.engine] DEBUG: Crawled (200) <GET https://www.ey.com/en_gl/alumni/how-to-bank-the-unbanked> (referer: None)\n",
      "2019-11-19 16:46:16 [scrapy.core.engine] DEBUG: Crawled (200) <GET https://www.ey.com/en_gl/advisory/inspiring-confidence-in-the-transformative-age> (referer: None)\n",
      "2019-11-19 16:46:16 [scrapy.core.engine] DEBUG: Crawled (200) <GET https://www.ey.com/en_gl/advisory/whats-stopping-iot-from-powering-the-future> (referer: None)\n",
      "2019-11-19 16:46:16 [urllib3.connectionpool] DEBUG: Starting new HTTPS connection (1): www.ey.com:443\n"
     ]
    },
    {
     "name": "stdout",
     "output_type": "stream",
     "text": [
      "https://www.ey.com/en_gl/oil-gas/how-digitalization-can-streamline-oil-and-gas-operations\n"
     ]
    },
    {
     "name": "stderr",
     "output_type": "stream",
     "text": [
      "2019-11-19 16:46:17 [urllib3.connectionpool] DEBUG: https://www.ey.com:443 \"GET /en_gl/oil-gas/how-digitalization-can-streamline-oil-and-gas-operations HTTP/1.1\" 200 12945\n",
      "2019-11-19 16:46:17 [scrapy.core.engine] DEBUG: Crawled (200) <GET https://www.ey.com/en_gl/tax/how-ai-looks-to-upend-the-tax-function-s-80-20-rule> (referer: None)\n",
      "2019-11-19 16:46:17 [scrapy.core.engine] DEBUG: Crawled (200) <GET https://www.ey.com/en_gl/innovation/what-is-intelligence-without-trust-> (referer: None)\n",
      "2019-11-19 16:46:17 [scrapy.core.engine] DEBUG: Crawled (200) <GET https://www.ey.com/en_gl/government-public-sector/how-does-digital-government-become-better-government> (referer: None)\n",
      "2019-11-19 16:46:17 [scrapy.core.engine] DEBUG: Crawled (200) <GET https://www.ey.com/en_gl/innovation-realized/how-to-keep-it-human-in-the-machine-age> (referer: None)\n",
      "2019-11-19 16:46:17 [scrapy.core.engine] DEBUG: Crawled (200) <GET https://www.ey.com/en_gl/innovation-realized/five-predictions-for-what-human-capital-will-mean-for-ceos-in-the-future-workforce> (referer: None)\n",
      "2019-11-19 16:46:17 [scrapy.core.engine] DEBUG: Crawled (200) <GET https://www.ey.com/en_gl/assurance/how-the-technology-sector-can-help-society-seize-the-upside-of-disruption> (referer: None)\n",
      "2019-11-19 16:46:17 [scrapy.core.engine] DEBUG: Crawled (200) <GET https://www.ey.com/en_gl/government-public-sector/welcome-to-e-stonia-a-digital-pioneer-stakes-a-claim-in-ai-s-landscape> (referer: None)\n",
      "2019-11-19 16:46:17 [scrapy.core.engine] DEBUG: Crawled (200) <GET https://www.ey.com/en_gl/advisory/how-you-can-turn-emerging-technology-into-a-competitive-advantage> (referer: None)\n",
      "2019-11-19 16:46:17 [urllib3.connectionpool] DEBUG: Starting new HTTPS connection (1): www.ey.com:443\n"
     ]
    },
    {
     "name": "stdout",
     "output_type": "stream",
     "text": [
      "https://www.ey.com/en_gl/board-matters/when-your-board-champions-ai-will-you-win-the-future-consumer\n"
     ]
    },
    {
     "name": "stderr",
     "output_type": "stream",
     "text": [
      "2019-11-19 16:46:18 [urllib3.connectionpool] DEBUG: https://www.ey.com:443 \"GET /en_gl/board-matters/when-your-board-champions-ai-will-you-win-the-future-consumer HTTP/1.1\" 200 15879\n",
      "2019-11-19 16:46:18 [urllib3.connectionpool] DEBUG: Starting new HTTPS connection (1): www.ey.com:443\n"
     ]
    },
    {
     "name": "stdout",
     "output_type": "stream",
     "text": [
      "https://www.ey.com/en_gl/oil-gas/does-ai-have-the-power-to-refine-oil-and-gas-efficiency\n"
     ]
    },
    {
     "name": "stderr",
     "output_type": "stream",
     "text": [
      "2019-11-19 16:46:19 [urllib3.connectionpool] DEBUG: https://www.ey.com:443 \"GET /en_gl/oil-gas/does-ai-have-the-power-to-refine-oil-and-gas-efficiency HTTP/1.1\" 200 15299\n",
      "2019-11-19 16:46:19 [urllib3.connectionpool] DEBUG: Starting new HTTPS connection (1): www.ey.com:443\n"
     ]
    },
    {
     "name": "stdout",
     "output_type": "stream",
     "text": [
      "https://www.ey.com/en_gl/disruption/is-the-next-big-thing-in-manufacturing-the-molecule\n"
     ]
    },
    {
     "name": "stderr",
     "output_type": "stream",
     "text": [
      "2019-11-19 16:46:20 [urllib3.connectionpool] DEBUG: https://www.ey.com:443 \"GET /en_gl/disruption/is-the-next-big-thing-in-manufacturing-the-molecule HTTP/1.1\" 200 18924\n",
      "2019-11-19 16:46:20 [urllib3.connectionpool] DEBUG: Starting new HTTPS connection (1): www.ey.com:443\n"
     ]
    },
    {
     "name": "stdout",
     "output_type": "stream",
     "text": [
      "https://www.ey.com/en_gl/alumni/how-to-bank-the-unbanked\n"
     ]
    },
    {
     "name": "stderr",
     "output_type": "stream",
     "text": [
      "2019-11-19 16:46:21 [urllib3.connectionpool] DEBUG: https://www.ey.com:443 \"GET /en_gl/alumni/how-to-bank-the-unbanked HTTP/1.1\" 200 12797\n",
      "2019-11-19 16:46:21 [urllib3.connectionpool] DEBUG: Starting new HTTPS connection (1): www.ey.com:443\n"
     ]
    },
    {
     "name": "stdout",
     "output_type": "stream",
     "text": [
      "https://www.ey.com/en_gl/assurance/blind-curve-or-ahead-of-the-curve\n"
     ]
    },
    {
     "name": "stderr",
     "output_type": "stream",
     "text": [
      "2019-11-19 16:46:22 [urllib3.connectionpool] DEBUG: https://www.ey.com:443 \"GET /en_gl/assurance/blind-curve-or-ahead-of-the-curve HTTP/1.1\" 200 18829\n",
      "2019-11-19 16:46:22 [urllib3.connectionpool] DEBUG: Starting new HTTPS connection (1): www.ey.com:443\n"
     ]
    },
    {
     "name": "stdout",
     "output_type": "stream",
     "text": [
      "https://www.ey.com/en_gl/advisory/inspiring-confidence-in-the-transformative-age\n"
     ]
    },
    {
     "name": "stderr",
     "output_type": "stream",
     "text": [
      "2019-11-19 16:46:23 [urllib3.connectionpool] DEBUG: https://www.ey.com:443 \"GET /en_gl/advisory/inspiring-confidence-in-the-transformative-age HTTP/1.1\" 200 15282\n",
      "2019-11-19 16:46:23 [urllib3.connectionpool] DEBUG: Starting new HTTPS connection (1): www.ey.com:443\n"
     ]
    },
    {
     "name": "stdout",
     "output_type": "stream",
     "text": [
      "https://www.ey.com/en_gl/advisory/whats-stopping-iot-from-powering-the-future\n"
     ]
    },
    {
     "name": "stderr",
     "output_type": "stream",
     "text": [
      "2019-11-19 16:46:25 [urllib3.connectionpool] DEBUG: https://www.ey.com:443 \"GET /en_gl/advisory/whats-stopping-iot-from-powering-the-future HTTP/1.1\" 200 15419\n",
      "2019-11-19 16:46:25 [urllib3.connectionpool] DEBUG: Starting new HTTPS connection (1): www.ey.com:443\n"
     ]
    },
    {
     "name": "stdout",
     "output_type": "stream",
     "text": [
      "https://www.ey.com/en_gl/tax/how-ai-looks-to-upend-the-tax-function-s-80-20-rule\n"
     ]
    },
    {
     "name": "stderr",
     "output_type": "stream",
     "text": [
      "2019-11-19 16:46:26 [urllib3.connectionpool] DEBUG: https://www.ey.com:443 \"GET /en_gl/tax/how-ai-looks-to-upend-the-tax-function-s-80-20-rule HTTP/1.1\" 200 16634\n",
      "2019-11-19 16:46:26 [urllib3.connectionpool] DEBUG: Starting new HTTPS connection (1): www.ey.com:443\n"
     ]
    },
    {
     "name": "stdout",
     "output_type": "stream",
     "text": [
      "https://www.ey.com/en_gl/innovation/what-is-intelligence-without-trust-\n"
     ]
    },
    {
     "name": "stderr",
     "output_type": "stream",
     "text": [
      "2019-11-19 16:46:26 [urllib3.connectionpool] DEBUG: https://www.ey.com:443 \"GET /en_gl/innovation/what-is-intelligence-without-trust- HTTP/1.1\" 200 16510\n",
      "2019-11-19 16:46:27 [urllib3.connectionpool] DEBUG: Starting new HTTPS connection (1): www.ey.com:443\n"
     ]
    },
    {
     "name": "stdout",
     "output_type": "stream",
     "text": [
      "https://www.ey.com/en_gl/government-public-sector/how-does-digital-government-become-better-government\n"
     ]
    },
    {
     "name": "stderr",
     "output_type": "stream",
     "text": [
      "2019-11-19 16:46:28 [urllib3.connectionpool] DEBUG: https://www.ey.com:443 \"GET /en_gl/government-public-sector/how-does-digital-government-become-better-government HTTP/1.1\" 200 24114\n",
      "2019-11-19 16:46:28 [urllib3.connectionpool] DEBUG: Starting new HTTPS connection (1): www.ey.com:443\n"
     ]
    },
    {
     "name": "stdout",
     "output_type": "stream",
     "text": [
      "https://www.ey.com/en_gl/innovation-realized/how-to-keep-it-human-in-the-machine-age\n"
     ]
    },
    {
     "name": "stderr",
     "output_type": "stream",
     "text": [
      "2019-11-19 16:46:29 [urllib3.connectionpool] DEBUG: https://www.ey.com:443 \"GET /en_gl/innovation-realized/how-to-keep-it-human-in-the-machine-age HTTP/1.1\" 200 15484\n",
      "2019-11-19 16:46:29 [urllib3.connectionpool] DEBUG: Starting new HTTPS connection (1): www.ey.com:443\n"
     ]
    },
    {
     "name": "stdout",
     "output_type": "stream",
     "text": [
      "https://www.ey.com/en_gl/innovation-realized/five-predictions-for-what-human-capital-will-mean-for-ceos-in-the-future-workforce\n"
     ]
    },
    {
     "name": "stderr",
     "output_type": "stream",
     "text": [
      "2019-11-19 16:46:30 [urllib3.connectionpool] DEBUG: https://www.ey.com:443 \"GET /en_gl/innovation-realized/five-predictions-for-what-human-capital-will-mean-for-ceos-in-the-future-workforce HTTP/1.1\" 200 15452\n",
      "2019-11-19 16:46:30 [urllib3.connectionpool] DEBUG: Starting new HTTPS connection (1): www.ey.com:443\n"
     ]
    },
    {
     "name": "stdout",
     "output_type": "stream",
     "text": [
      "https://www.ey.com/en_gl/government-public-sector/welcome-to-e-stonia-a-digital-pioneer-stakes-a-claim-in-ai-s-landscape\n"
     ]
    },
    {
     "name": "stderr",
     "output_type": "stream",
     "text": [
      "2019-11-19 16:46:31 [urllib3.connectionpool] DEBUG: https://www.ey.com:443 \"GET /en_gl/government-public-sector/welcome-to-e-stonia-a-digital-pioneer-stakes-a-claim-in-ai-s-landscape HTTP/1.1\" 200 15478\n",
      "2019-11-19 16:46:31 [urllib3.connectionpool] DEBUG: Starting new HTTPS connection (1): www.ey.com:443\n"
     ]
    },
    {
     "name": "stdout",
     "output_type": "stream",
     "text": [
      "https://www.ey.com/en_gl/assurance/how-the-technology-sector-can-help-society-seize-the-upside-of-disruption\n"
     ]
    },
    {
     "name": "stderr",
     "output_type": "stream",
     "text": [
      "2019-11-19 16:46:32 [urllib3.connectionpool] DEBUG: https://www.ey.com:443 \"GET /en_gl/assurance/how-the-technology-sector-can-help-society-seize-the-upside-of-disruption HTTP/1.1\" 200 17054\n",
      "2019-11-19 16:46:32 [urllib3.connectionpool] DEBUG: Starting new HTTPS connection (1): www.ey.com:443\n"
     ]
    },
    {
     "name": "stdout",
     "output_type": "stream",
     "text": [
      "https://www.ey.com/en_gl/advisory/how-you-can-turn-emerging-technology-into-a-competitive-advantage\n"
     ]
    },
    {
     "name": "stderr",
     "output_type": "stream",
     "text": [
      "2019-11-19 16:46:33 [urllib3.connectionpool] DEBUG: https://www.ey.com:443 \"GET /en_gl/advisory/how-you-can-turn-emerging-technology-into-a-competitive-advantage HTTP/1.1\" 200 17068\n",
      "2019-11-19 16:46:33 [scrapy.core.engine] DEBUG: Crawled (200) <GET https://www.ey.com/en_gl/wef/why-we-need-to-solve-the-issue-of-gender-bias-before-ai-makes-it> (referer: None)\n",
      "2019-11-19 16:46:33 [scrapy.core.engine] DEBUG: Crawled (200) <GET https://www.ey.com/en_gl/digital-audit/audit-digitization-transformative-age> (referer: None)\n",
      "2019-11-19 16:46:33 [scrapy.core.engine] DEBUG: Crawled (200) <GET https://www.ey.com/en_gl/tmt/how-we-can-unlock-the-power-of-data-to-redefine-health> (referer: None)\n",
      "2019-11-19 16:46:33 [scrapy.core.engine] DEBUG: Crawled (200) <GET https://www.ey.com/en_gl/women-fast-forward/why-ai-could-correct-the-gender-imbalance-right-up-to-the-boardroom> (referer: None)\n",
      "2019-11-19 16:46:33 [scrapy.core.engine] DEBUG: Crawled (200) <GET https://www.ey.com/en_gl/tmt/how-brands-can-attract-and-keep-customers-in-micro-moments> (referer: None)\n",
      "2019-11-19 16:46:33 [scrapy.core.engine] DEBUG: Crawled (200) <GET https://www.ey.com/en_gl/tmt/how-tmt-companies-can-catch-the-next-wave-when-future-markets-dont-yet-exist> (referer: None)\n",
      "2019-11-19 16:46:33 [scrapy.core.engine] DEBUG: Crawled (200) <GET https://www.ey.com/en_gl/advisory/how-ai-can-be-a-force-for-good-in-government> (referer: None)\n",
      "2019-11-19 16:46:33 [scrapy.core.engine] DEBUG: Crawled (200) <GET https://www.ey.com/en_gl/government-public-sector/how-global-macroeconomics-might-shape-policy-in-2019> (referer: None)\n",
      "2019-11-19 16:46:33 [urllib3.connectionpool] DEBUG: Starting new HTTPS connection (1): www.ey.com:443\n"
     ]
    },
    {
     "name": "stdout",
     "output_type": "stream",
     "text": [
      "https://www.ey.com/en_gl/tmt/how-we-can-unlock-the-power-of-data-to-redefine-health\n"
     ]
    },
    {
     "name": "stderr",
     "output_type": "stream",
     "text": [
      "2019-11-19 16:46:34 [urllib3.connectionpool] DEBUG: https://www.ey.com:443 \"GET /en_gl/tmt/how-we-can-unlock-the-power-of-data-to-redefine-health HTTP/1.1\" 200 14963\n",
      "2019-11-19 16:46:34 [urllib3.connectionpool] DEBUG: Starting new HTTPS connection (1): www.ey.com:443\n"
     ]
    },
    {
     "name": "stdout",
     "output_type": "stream",
     "text": [
      "https://www.ey.com/en_gl/wef/why-we-need-to-solve-the-issue-of-gender-bias-before-ai-makes-it\n"
     ]
    },
    {
     "name": "stderr",
     "output_type": "stream",
     "text": [
      "2019-11-19 16:46:35 [urllib3.connectionpool] DEBUG: https://www.ey.com:443 \"GET /en_gl/wef/why-we-need-to-solve-the-issue-of-gender-bias-before-ai-makes-it HTTP/1.1\" 200 15556\n",
      "2019-11-19 16:46:35 [urllib3.connectionpool] DEBUG: Starting new HTTPS connection (1): www.ey.com:443\n"
     ]
    },
    {
     "name": "stdout",
     "output_type": "stream",
     "text": [
      "https://www.ey.com/en_gl/digital-audit/audit-digitization-transformative-age\n"
     ]
    },
    {
     "name": "stderr",
     "output_type": "stream",
     "text": [
      "2019-11-19 16:46:36 [urllib3.connectionpool] DEBUG: https://www.ey.com:443 \"GET /en_gl/digital-audit/audit-digitization-transformative-age HTTP/1.1\" 200 13683\n",
      "2019-11-19 16:46:36 [urllib3.connectionpool] DEBUG: Starting new HTTPS connection (1): www.ey.com:443\n"
     ]
    },
    {
     "name": "stdout",
     "output_type": "stream",
     "text": [
      "https://www.ey.com/en_gl/tmt/how-tmt-companies-can-catch-the-next-wave-when-future-markets-dont-yet-exist\n"
     ]
    },
    {
     "name": "stderr",
     "output_type": "stream",
     "text": [
      "2019-11-19 16:46:37 [urllib3.connectionpool] DEBUG: https://www.ey.com:443 \"GET /en_gl/tmt/how-tmt-companies-can-catch-the-next-wave-when-future-markets-dont-yet-exist HTTP/1.1\" 200 14814\n",
      "2019-11-19 16:46:37 [urllib3.connectionpool] DEBUG: Starting new HTTPS connection (1): www.ey.com:443\n"
     ]
    },
    {
     "name": "stdout",
     "output_type": "stream",
     "text": [
      "https://www.ey.com/en_gl/tmt/how-brands-can-attract-and-keep-customers-in-micro-moments\n"
     ]
    },
    {
     "name": "stderr",
     "output_type": "stream",
     "text": [
      "2019-11-19 16:46:38 [urllib3.connectionpool] DEBUG: https://www.ey.com:443 \"GET /en_gl/tmt/how-brands-can-attract-and-keep-customers-in-micro-moments HTTP/1.1\" 200 14529\n",
      "2019-11-19 16:46:38 [urllib3.connectionpool] DEBUG: Starting new HTTPS connection (1): www.ey.com:443\n"
     ]
    },
    {
     "name": "stdout",
     "output_type": "stream",
     "text": [
      "https://www.ey.com/en_gl/women-fast-forward/why-ai-could-correct-the-gender-imbalance-right-up-to-the-boardroom\n"
     ]
    },
    {
     "name": "stderr",
     "output_type": "stream",
     "text": [
      "2019-11-19 16:46:39 [urllib3.connectionpool] DEBUG: https://www.ey.com:443 \"GET /en_gl/women-fast-forward/why-ai-could-correct-the-gender-imbalance-right-up-to-the-boardroom HTTP/1.1\" 200 17159\n",
      "2019-11-19 16:46:39 [scrapy.core.engine] DEBUG: Crawled (200) <GET https://www.ey.com/en_gl/advisory/how-to-manage-the-evolving-risks-of-emerging-technology> (referer: None)\n",
      "2019-11-19 16:46:39 [scrapy.core.engine] DEBUG: Crawled (200) <GET https://www.ey.com/en_gl/ai/three-ways-to-protect-your-ai-investment-from-a-winter-of-discontent> (referer: None)\n",
      "2019-11-19 16:46:39 [scrapy.core.engine] DEBUG: Crawled (200) <GET https://www.ey.com/en_gl/disruption/behavioral-design-megatrend> (referer: None)\n",
      "2019-11-19 16:46:39 [scrapy.core.engine] DEBUG: Crawled (200) <GET https://www.ey.com/en_gl/wef/how-to-embrace-ai-responsibly-and-make-it-inclusive> (referer: None)\n",
      "2019-11-19 16:46:39 [scrapy.core.engine] DEBUG: Crawled (200) <GET https://www.ey.com/en_gl/oil-gas/is-ai-the-fuel-oil-and-gas-needs> (referer: None)\n",
      "2019-11-19 16:46:39 [scrapy.core.engine] DEBUG: Crawled (200) <GET https://www.ey.com/en_gl/wealth-asset-management/ey-why-wealth-could-be-the-next-big-service> (referer: None)\n",
      "2019-11-19 16:46:39 [scrapy.core.engine] DEBUG: Crawled (200) <GET https://www.ey.com/en_gl/automotive-transportation/with-ai-at-the-wheel--will-your-board-steer-the-course-> (referer: None)\n",
      "2019-11-19 16:46:39 [scrapy.core.engine] DEBUG: Crawled (200) <GET https://www.ey.com/en_gl/advisory/how-to-unleash-the-transformational-potential-of-emerging-tech> (referer: None)\n",
      "2019-11-19 16:46:39 [urllib3.connectionpool] DEBUG: Starting new HTTPS connection (1): www.ey.com:443\n"
     ]
    },
    {
     "name": "stdout",
     "output_type": "stream",
     "text": [
      "https://www.ey.com/en_gl/advisory/how-ai-can-be-a-force-for-good-in-government\n"
     ]
    },
    {
     "name": "stderr",
     "output_type": "stream",
     "text": [
      "2019-11-19 16:46:40 [urllib3.connectionpool] DEBUG: https://www.ey.com:443 \"GET /en_gl/advisory/how-ai-can-be-a-force-for-good-in-government HTTP/1.1\" 200 17439\n",
      "2019-11-19 16:46:40 [urllib3.connectionpool] DEBUG: Starting new HTTPS connection (1): www.ey.com:443\n"
     ]
    },
    {
     "name": "stdout",
     "output_type": "stream",
     "text": [
      "https://www.ey.com/en_gl/government-public-sector/how-global-macroeconomics-might-shape-policy-in-2019\n"
     ]
    },
    {
     "name": "stderr",
     "output_type": "stream",
     "text": [
      "2019-11-19 16:46:41 [urllib3.connectionpool] DEBUG: https://www.ey.com:443 \"GET /en_gl/government-public-sector/how-global-macroeconomics-might-shape-policy-in-2019 HTTP/1.1\" 200 18382\n",
      "2019-11-19 16:46:41 [urllib3.connectionpool] DEBUG: Starting new HTTPS connection (1): www.ey.com:443\n"
     ]
    },
    {
     "name": "stdout",
     "output_type": "stream",
     "text": [
      "https://www.ey.com/en_gl/advisory/how-to-manage-the-evolving-risks-of-emerging-technology\n"
     ]
    },
    {
     "name": "stderr",
     "output_type": "stream",
     "text": [
      "2019-11-19 16:46:42 [urllib3.connectionpool] DEBUG: https://www.ey.com:443 \"GET /en_gl/advisory/how-to-manage-the-evolving-risks-of-emerging-technology HTTP/1.1\" 200 15138\n",
      "2019-11-19 16:46:42 [urllib3.connectionpool] DEBUG: Starting new HTTPS connection (1): www.ey.com:443\n"
     ]
    },
    {
     "name": "stdout",
     "output_type": "stream",
     "text": [
      "https://www.ey.com/en_gl/ai/three-ways-to-protect-your-ai-investment-from-a-winter-of-discontent\n"
     ]
    },
    {
     "name": "stderr",
     "output_type": "stream",
     "text": [
      "2019-11-19 16:46:43 [urllib3.connectionpool] DEBUG: https://www.ey.com:443 \"GET /en_gl/ai/three-ways-to-protect-your-ai-investment-from-a-winter-of-discontent HTTP/1.1\" 200 22073\n",
      "2019-11-19 16:46:44 [urllib3.connectionpool] DEBUG: Starting new HTTPS connection (1): www.ey.com:443\n"
     ]
    },
    {
     "name": "stdout",
     "output_type": "stream",
     "text": [
      "https://www.ey.com/en_gl/disruption/behavioral-design-megatrend\n"
     ]
    },
    {
     "name": "stderr",
     "output_type": "stream",
     "text": [
      "2019-11-19 16:46:45 [urllib3.connectionpool] DEBUG: https://www.ey.com:443 \"GET /en_gl/disruption/behavioral-design-megatrend HTTP/1.1\" 200 17172\n",
      "2019-11-19 16:46:45 [urllib3.connectionpool] DEBUG: Starting new HTTPS connection (1): www.ey.com:443\n"
     ]
    },
    {
     "name": "stdout",
     "output_type": "stream",
     "text": [
      "https://www.ey.com/en_gl/wef/how-to-embrace-ai-responsibly-and-make-it-inclusive\n"
     ]
    },
    {
     "name": "stderr",
     "output_type": "stream",
     "text": [
      "2019-11-19 16:46:46 [urllib3.connectionpool] DEBUG: https://www.ey.com:443 \"GET /en_gl/wef/how-to-embrace-ai-responsibly-and-make-it-inclusive HTTP/1.1\" 200 14758\n",
      "2019-11-19 16:46:46 [urllib3.connectionpool] DEBUG: Starting new HTTPS connection (1): www.ey.com:443\n"
     ]
    },
    {
     "name": "stdout",
     "output_type": "stream",
     "text": [
      "https://www.ey.com/en_gl/oil-gas/is-ai-the-fuel-oil-and-gas-needs\n"
     ]
    },
    {
     "name": "stderr",
     "output_type": "stream",
     "text": [
      "2019-11-19 16:46:46 [urllib3.connectionpool] DEBUG: https://www.ey.com:443 \"GET /en_gl/oil-gas/is-ai-the-fuel-oil-and-gas-needs HTTP/1.1\" 200 19620\n",
      "2019-11-19 16:46:47 [urllib3.connectionpool] DEBUG: Starting new HTTPS connection (1): www.ey.com:443\n"
     ]
    },
    {
     "name": "stdout",
     "output_type": "stream",
     "text": [
      "https://www.ey.com/en_gl/wealth-asset-management/ey-why-wealth-could-be-the-next-big-service\n"
     ]
    },
    {
     "name": "stderr",
     "output_type": "stream",
     "text": [
      "2019-11-19 16:46:47 [urllib3.connectionpool] DEBUG: https://www.ey.com:443 \"GET /en_gl/wealth-asset-management/ey-why-wealth-could-be-the-next-big-service HTTP/1.1\" 200 14887\n",
      "2019-11-19 16:46:48 [urllib3.connectionpool] DEBUG: Starting new HTTPS connection (1): www.ey.com:443\n"
     ]
    },
    {
     "name": "stdout",
     "output_type": "stream",
     "text": [
      "https://www.ey.com/en_gl/automotive-transportation/with-ai-at-the-wheel--will-your-board-steer-the-course-\n"
     ]
    },
    {
     "name": "stderr",
     "output_type": "stream",
     "text": [
      "2019-11-19 16:46:49 [urllib3.connectionpool] DEBUG: https://www.ey.com:443 \"GET /en_gl/automotive-transportation/with-ai-at-the-wheel--will-your-board-steer-the-course- HTTP/1.1\" 200 16060\n",
      "2019-11-19 16:46:49 [urllib3.connectionpool] DEBUG: Starting new HTTPS connection (1): www.ey.com:443\n"
     ]
    },
    {
     "name": "stdout",
     "output_type": "stream",
     "text": [
      "https://www.ey.com/en_gl/advisory/how-to-unleash-the-transformational-potential-of-emerging-tech\n"
     ]
    },
    {
     "name": "stderr",
     "output_type": "stream",
     "text": [
      "2019-11-19 16:46:50 [urllib3.connectionpool] DEBUG: https://www.ey.com:443 \"GET /en_gl/advisory/how-to-unleash-the-transformational-potential-of-emerging-tech HTTP/1.1\" 200 14905\n",
      "2019-11-19 16:46:50 [scrapy.core.engine] DEBUG: Crawled (200) <GET https://www.ey.com/en_gl/wealth-asset-management/harnessing-the-power-of-ai-to-augment-human-investment-decision-making> (referer: None)\n",
      "2019-11-19 16:46:50 [scrapy.core.engine] DEBUG: Crawled (200) <GET https://www.ey.com/en_gl/workforce/how-do-you-ensure-you-are-automating-intelligently> (referer: None)\n",
      "2019-11-19 16:46:50 [scrapy.core.engine] DEBUG: Crawled (200) <GET https://www.ey.com/en_gl/financial-services-emeia/eight-tips-for-successful-intelligent-automation-projects> (referer: None)\n",
      "2019-11-19 16:46:50 [scrapy.core.engine] DEBUG: Crawled (200) <GET https://www.ey.com/en_gl/digital/how-can-you-build-trust-when-emerging-technologies-bring-new-risks> (referer: None)\n",
      "2019-11-19 16:46:50 [scrapy.core.engine] DEBUG: Crawled (200) <GET https://www.ey.com/en_gl/life-sciences/how-medtechs-will-create-value-in-the-new-health-ecosystem> (referer: None)\n",
      "2019-11-19 16:46:50 [scrapy.core.engine] DEBUG: Crawled (200) <GET https://www.ey.com/en_gl/tmt/intelligent-automation--how-to-reshape-the-future-of-work> (referer: None)\n",
      "2019-11-19 16:46:50 [scrapy.core.engine] DEBUG: Crawled (200) <GET https://www.ey.com/en_gl/wealth-asset-management/how-investment-firms-can-optimize-their-big-data-strategy> (referer: None)\n",
      "2019-11-19 16:46:50 [scrapy.core.engine] DEBUG: Crawled (200) <GET https://www.ey.com/en_gl/digital/how-do-you-teach-ai-the-value-of-trust> (referer: None)\n",
      "2019-11-19 16:46:50 [scrapy.extensions.logstats] INFO: Crawled 68 pages (at 68 pages/min), scraped 0 items (at 0 items/min)\n",
      "2019-11-19 16:46:50 [urllib3.connectionpool] DEBUG: Starting new HTTPS connection (1): www.ey.com:443\n"
     ]
    },
    {
     "name": "stdout",
     "output_type": "stream",
     "text": [
      "https://www.ey.com/en_gl/wealth-asset-management/harnessing-the-power-of-ai-to-augment-human-investment-decision-making\n"
     ]
    },
    {
     "name": "stderr",
     "output_type": "stream",
     "text": [
      "2019-11-19 16:46:51 [urllib3.connectionpool] DEBUG: https://www.ey.com:443 \"GET /en_gl/wealth-asset-management/harnessing-the-power-of-ai-to-augment-human-investment-decision-making HTTP/1.1\" 200 13583\n",
      "2019-11-19 16:46:51 [urllib3.connectionpool] DEBUG: Starting new HTTPS connection (1): www.ey.com:443\n"
     ]
    },
    {
     "name": "stdout",
     "output_type": "stream",
     "text": [
      "https://www.ey.com/en_gl/digital/how-can-you-build-trust-when-emerging-technologies-bring-new-risks\n"
     ]
    },
    {
     "name": "stderr",
     "output_type": "stream",
     "text": [
      "2019-11-19 16:46:51 [urllib3.connectionpool] DEBUG: https://www.ey.com:443 \"GET /en_gl/digital/how-can-you-build-trust-when-emerging-technologies-bring-new-risks HTTP/1.1\" 200 18207\n",
      "2019-11-19 16:46:52 [urllib3.connectionpool] DEBUG: Starting new HTTPS connection (1): www.ey.com:443\n"
     ]
    },
    {
     "name": "stdout",
     "output_type": "stream",
     "text": [
      "https://www.ey.com/en_gl/life-sciences/how-medtechs-will-create-value-in-the-new-health-ecosystem\n"
     ]
    },
    {
     "name": "stderr",
     "output_type": "stream",
     "text": [
      "2019-11-19 16:46:52 [urllib3.connectionpool] DEBUG: https://www.ey.com:443 \"GET /en_gl/life-sciences/how-medtechs-will-create-value-in-the-new-health-ecosystem HTTP/1.1\" 200 21426\n",
      "2019-11-19 16:46:52 [urllib3.connectionpool] DEBUG: Starting new HTTPS connection (1): www.ey.com:443\n"
     ]
    },
    {
     "name": "stdout",
     "output_type": "stream",
     "text": [
      "https://www.ey.com/en_gl/workforce/how-do-you-ensure-you-are-automating-intelligently\n"
     ]
    },
    {
     "name": "stderr",
     "output_type": "stream",
     "text": [
      "2019-11-19 16:46:53 [urllib3.connectionpool] DEBUG: https://www.ey.com:443 \"GET /en_gl/workforce/how-do-you-ensure-you-are-automating-intelligently HTTP/1.1\" 200 23317\n",
      "2019-11-19 16:46:53 [urllib3.connectionpool] DEBUG: Starting new HTTPS connection (1): www.ey.com:443\n"
     ]
    },
    {
     "name": "stdout",
     "output_type": "stream",
     "text": [
      "https://www.ey.com/en_gl/financial-services-emeia/eight-tips-for-successful-intelligent-automation-projects\n"
     ]
    },
    {
     "name": "stderr",
     "output_type": "stream",
     "text": [
      "2019-11-19 16:46:54 [urllib3.connectionpool] DEBUG: https://www.ey.com:443 \"GET /en_gl/financial-services-emeia/eight-tips-for-successful-intelligent-automation-projects HTTP/1.1\" 200 15887\n",
      "2019-11-19 16:46:54 [scrapy.core.engine] DEBUG: Crawled (200) <GET https://www.ey.com/en_gl/advisory/how-can-the-digitalized-agile-organization-of-the-future-still-be-rooted-in-human-values> (referer: None)\n",
      "2019-11-19 16:46:55 [scrapy.core.engine] DEBUG: Crawled (200) <GET https://www.ey.com/en_gl/assurance/how-artificial-intelligence-will-transform-the-audit> (referer: None)\n",
      "2019-11-19 16:46:55 [scrapy.core.engine] DEBUG: Crawled (200) <GET https://www.ey.com/en_gl/growth/growth-barometer-europe-2018> (referer: None)\n",
      "2019-11-19 16:46:55 [scrapy.core.engine] DEBUG: Crawled (200) <GET https://www.ey.com/en_gl/advisory/three-ways-companies-can-be-intelligent-about-artificial-intelligence> (referer: None)\n",
      "2019-11-19 16:46:55 [scrapy.core.engine] DEBUG: Crawled (200) <GET https://www.ey.com/en_gl/workforce/if-a-market-is-truly-frictionless--where-does-the-value-lie> (referer: None)\n",
      "2019-11-19 16:46:55 [scrapy.core.engine] DEBUG: Crawled (200) <GET https://www.ey.com/en_gl/purpose/how-a-new-approach-to-standard-practice-is-inspiring-change> (referer: None)\n",
      "2019-11-19 16:46:55 [scrapy.core.engine] DEBUG: Crawled (200) <GET https://www.ey.com/en_gl/digital/can-advanced-technologies-help-auditors-make-the-hard-to-see-eas> (referer: None)\n",
      "2019-11-19 16:46:55 [scrapy.core.engine] DEBUG: Crawled (200) <GET https://www.ey.com/en_gl/digital/how-rpa-can-improve-efficiency-and-employee-engagement> (referer: None)\n",
      "2019-11-19 16:46:55 [urllib3.connectionpool] DEBUG: Starting new HTTPS connection (1): www.ey.com:443\n"
     ]
    },
    {
     "name": "stdout",
     "output_type": "stream",
     "text": [
      "https://www.ey.com/en_gl/digital/how-do-you-teach-ai-the-value-of-trust\n"
     ]
    },
    {
     "name": "stderr",
     "output_type": "stream",
     "text": [
      "2019-11-19 16:46:55 [urllib3.connectionpool] DEBUG: https://www.ey.com:443 \"GET /en_gl/digital/how-do-you-teach-ai-the-value-of-trust HTTP/1.1\" 200 21041\n",
      "2019-11-19 16:46:55 [urllib3.connectionpool] DEBUG: Starting new HTTPS connection (1): www.ey.com:443\n"
     ]
    },
    {
     "name": "stdout",
     "output_type": "stream",
     "text": [
      "https://www.ey.com/en_gl/wealth-asset-management/how-investment-firms-can-optimize-their-big-data-strategy\n"
     ]
    },
    {
     "name": "stderr",
     "output_type": "stream",
     "text": [
      "2019-11-19 16:46:56 [urllib3.connectionpool] DEBUG: https://www.ey.com:443 \"GET /en_gl/wealth-asset-management/how-investment-firms-can-optimize-their-big-data-strategy HTTP/1.1\" 200 14304\n",
      "2019-11-19 16:46:56 [urllib3.connectionpool] DEBUG: Starting new HTTPS connection (1): www.ey.com:443\n"
     ]
    },
    {
     "name": "stdout",
     "output_type": "stream",
     "text": [
      "https://www.ey.com/en_gl/tmt/intelligent-automation--how-to-reshape-the-future-of-work\n"
     ]
    },
    {
     "name": "stderr",
     "output_type": "stream",
     "text": [
      "2019-11-19 16:46:57 [urllib3.connectionpool] DEBUG: https://www.ey.com:443 \"GET /en_gl/tmt/intelligent-automation--how-to-reshape-the-future-of-work HTTP/1.1\" 200 15348\n",
      "2019-11-19 16:46:57 [urllib3.connectionpool] DEBUG: Starting new HTTPS connection (1): www.ey.com:443\n"
     ]
    },
    {
     "name": "stdout",
     "output_type": "stream",
     "text": [
      "https://www.ey.com/en_gl/advisory/how-can-the-digitalized-agile-organization-of-the-future-still-be-rooted-in-human-values\n"
     ]
    },
    {
     "name": "stderr",
     "output_type": "stream",
     "text": [
      "2019-11-19 16:46:58 [urllib3.connectionpool] DEBUG: https://www.ey.com:443 \"GET /en_gl/advisory/how-can-the-digitalized-agile-organization-of-the-future-still-be-rooted-in-human-values HTTP/1.1\" 200 16296\n",
      "2019-11-19 16:46:58 [urllib3.connectionpool] DEBUG: Starting new HTTPS connection (1): www.ey.com:443\n"
     ]
    },
    {
     "name": "stdout",
     "output_type": "stream",
     "text": [
      "https://www.ey.com/en_gl/growth/growth-barometer-europe-2018\n"
     ]
    },
    {
     "name": "stderr",
     "output_type": "stream",
     "text": [
      "2019-11-19 16:46:59 [urllib3.connectionpool] DEBUG: https://www.ey.com:443 \"GET /en_gl/growth/growth-barometer-europe-2018 HTTP/1.1\" 200 21111\n",
      "2019-11-19 16:46:59 [urllib3.connectionpool] DEBUG: Starting new HTTPS connection (1): www.ey.com:443\n"
     ]
    },
    {
     "name": "stdout",
     "output_type": "stream",
     "text": [
      "https://www.ey.com/en_gl/assurance/how-artificial-intelligence-will-transform-the-audit\n"
     ]
    },
    {
     "name": "stderr",
     "output_type": "stream",
     "text": [
      "2019-11-19 16:47:00 [urllib3.connectionpool] DEBUG: https://www.ey.com:443 \"GET /en_gl/assurance/how-artificial-intelligence-will-transform-the-audit HTTP/1.1\" 200 13017\n",
      "2019-11-19 16:47:00 [urllib3.connectionpool] DEBUG: Starting new HTTPS connection (1): www.ey.com:443\n"
     ]
    },
    {
     "name": "stdout",
     "output_type": "stream",
     "text": [
      "https://www.ey.com/en_gl/advisory/three-ways-companies-can-be-intelligent-about-artificial-intelligence\n"
     ]
    },
    {
     "name": "stderr",
     "output_type": "stream",
     "text": [
      "2019-11-19 16:47:01 [urllib3.connectionpool] DEBUG: https://www.ey.com:443 \"GET /en_gl/advisory/three-ways-companies-can-be-intelligent-about-artificial-intelligence HTTP/1.1\" 200 14832\n",
      "2019-11-19 16:47:01 [urllib3.connectionpool] DEBUG: Starting new HTTPS connection (1): www.ey.com:443\n"
     ]
    },
    {
     "name": "stdout",
     "output_type": "stream",
     "text": [
      "https://www.ey.com/en_gl/workforce/if-a-market-is-truly-frictionless--where-does-the-value-lie\n"
     ]
    },
    {
     "name": "stderr",
     "output_type": "stream",
     "text": [
      "2019-11-19 16:47:02 [urllib3.connectionpool] DEBUG: https://www.ey.com:443 \"GET /en_gl/workforce/if-a-market-is-truly-frictionless--where-does-the-value-lie HTTP/1.1\" 200 13914\n",
      "2019-11-19 16:47:02 [urllib3.connectionpool] DEBUG: Starting new HTTPS connection (1): www.ey.com:443\n"
     ]
    },
    {
     "name": "stdout",
     "output_type": "stream",
     "text": [
      "https://www.ey.com/en_gl/digital/can-advanced-technologies-help-auditors-make-the-hard-to-see-eas\n"
     ]
    },
    {
     "name": "stderr",
     "output_type": "stream",
     "text": [
      "2019-11-19 16:47:03 [urllib3.connectionpool] DEBUG: https://www.ey.com:443 \"GET /en_gl/digital/can-advanced-technologies-help-auditors-make-the-hard-to-see-eas HTTP/1.1\" 200 14158\n",
      "2019-11-19 16:47:03 [urllib3.connectionpool] DEBUG: Starting new HTTPS connection (1): www.ey.com:443\n"
     ]
    },
    {
     "name": "stdout",
     "output_type": "stream",
     "text": [
      "https://www.ey.com/en_gl/purpose/how-a-new-approach-to-standard-practice-is-inspiring-change\n"
     ]
    },
    {
     "name": "stderr",
     "output_type": "stream",
     "text": [
      "2019-11-19 16:47:04 [urllib3.connectionpool] DEBUG: https://www.ey.com:443 \"GET /en_gl/purpose/how-a-new-approach-to-standard-practice-is-inspiring-change HTTP/1.1\" 200 11399\n",
      "2019-11-19 16:47:04 [urllib3.connectionpool] DEBUG: Starting new HTTPS connection (1): www.ey.com:443\n"
     ]
    },
    {
     "name": "stdout",
     "output_type": "stream",
     "text": [
      "https://www.ey.com/en_gl/digital/how-rpa-can-improve-efficiency-and-employee-engagement\n"
     ]
    },
    {
     "name": "stderr",
     "output_type": "stream",
     "text": [
      "2019-11-19 16:47:05 [urllib3.connectionpool] DEBUG: https://www.ey.com:443 \"GET /en_gl/digital/how-rpa-can-improve-efficiency-and-employee-engagement HTTP/1.1\" 200 11108\n",
      "2019-11-19 16:47:05 [scrapy.core.engine] DEBUG: Crawled (200) <GET https://www.ey.com/en_gl/digital/why-digital-asset-management-is-a-fundamental-driver-of-utility> (referer: None)\n",
      "2019-11-19 16:47:05 [scrapy.core.engine] DEBUG: Crawled (200) <GET https://www.ey.com/en_gl/trust/how-building-trust-is-crucial-for-business-transformation> (referer: None)\n",
      "2019-11-19 16:47:05 [scrapy.core.engine] DEBUG: Crawled (200) <GET https://www.ey.com/en_gl/growth/why-pe-firms-must-look-beyond-finance-to-drive-growth-and-create> (referer: None)\n",
      "2019-11-19 16:47:05 [scrapy.core.engine] DEBUG: Crawled (200) <GET https://www.ey.com/en_gl/growth/is-your-portfolio-fit-for-the-future-or-fashioned-only-on-the-pa> (referer: None)\n",
      "2019-11-19 16:47:05 [scrapy.core.engine] DEBUG: Crawled (200) <GET https://www.ey.com/en_gl/digital/how-digital-disruption-is-driving-the-evolution-of-the-network-o> (referer: None)\n",
      "2019-11-19 16:47:05 [scrapy.core.engine] DEBUG: Crawled (200) <GET https://www.ey.com/en_gl/advisory/how-iot-connectivity-technologies-might-not-be-evolving-at-pace> (referer: None)\n",
      "2019-11-19 16:47:05 [scrapy.core.engine] DEBUG: Crawled (200) <GET https://www.ey.com/en_gl/workforce/how-do-we-keep-the-human-touch-in-the-digital-age-> (referer: None)\n",
      "2019-11-19 16:47:05 [scrapy.core.engine] DEBUG: Crawled (200) <GET https://www.ey.com/en_gl/workforce/humanatwork> (referer: None)\n",
      "2019-11-19 16:47:05 [urllib3.connectionpool] DEBUG: Starting new HTTPS connection (1): www.ey.com:443\n"
     ]
    },
    {
     "name": "stdout",
     "output_type": "stream",
     "text": [
      "https://www.ey.com/en_gl/digital/why-digital-asset-management-is-a-fundamental-driver-of-utility\n"
     ]
    },
    {
     "name": "stderr",
     "output_type": "stream",
     "text": [
      "2019-11-19 16:47:06 [urllib3.connectionpool] DEBUG: https://www.ey.com:443 \"GET /en_gl/digital/why-digital-asset-management-is-a-fundamental-driver-of-utility HTTP/1.1\" 200 14038\n",
      "2019-11-19 16:47:06 [urllib3.connectionpool] DEBUG: Starting new HTTPS connection (1): www.ey.com:443\n"
     ]
    },
    {
     "name": "stdout",
     "output_type": "stream",
     "text": [
      "https://www.ey.com/en_gl/growth/why-pe-firms-must-look-beyond-finance-to-drive-growth-and-create\n"
     ]
    },
    {
     "name": "stderr",
     "output_type": "stream",
     "text": [
      "2019-11-19 16:47:07 [urllib3.connectionpool] DEBUG: https://www.ey.com:443 \"GET /en_gl/growth/why-pe-firms-must-look-beyond-finance-to-drive-growth-and-create HTTP/1.1\" 200 15186\n",
      "2019-11-19 16:47:07 [urllib3.connectionpool] DEBUG: Starting new HTTPS connection (1): www.ey.com:443\n"
     ]
    },
    {
     "name": "stdout",
     "output_type": "stream",
     "text": [
      "https://www.ey.com/en_gl/trust/how-building-trust-is-crucial-for-business-transformation\n"
     ]
    },
    {
     "name": "stderr",
     "output_type": "stream",
     "text": [
      "2019-11-19 16:47:08 [urllib3.connectionpool] DEBUG: https://www.ey.com:443 \"GET /en_gl/trust/how-building-trust-is-crucial-for-business-transformation HTTP/1.1\" 200 11426\n",
      "2019-11-19 16:47:08 [scrapy.core.engine] DEBUG: Crawled (200) <GET https://www.ey.com/en_gl/digital/tax-workers-and-robots-teammates-not-enemies> (referer: None)\n",
      "2019-11-19 16:47:08 [scrapy.core.engine] DEBUG: Crawled (200) <GET https://www.ey.com/en_gl/digital/what-smart-speakers-can-teach-board-members-about-adopting-ai> (referer: None)\n",
      "2019-11-19 16:47:08 [scrapy.core.engine] DEBUG: Crawled (200) <GET https://www.ey.com/en_gl/trust/the-disrupters--how-banks-can-help-to-track-the-traffickers> (referer: None)\n",
      "2019-11-19 16:47:08 [scrapy.core.engine] DEBUG: Crawled (200) <GET https://www.ey.com/en_gl/digital/can-robots-help-your-business-be-more-human> (referer: None)\n",
      "2019-11-19 16:47:08 [scrapy.core.engine] DEBUG: Crawled (200) <GET https://www.ey.com/en_gl/digital/how-gamification-could-take-investor-experiences-to-a-new-level> (referer: None)\n",
      "2019-11-19 16:47:08 [scrapy.core.engine] DEBUG: Crawled (200) <GET https://www.ey.com/en_gl/assurance/why-ai-is-both-a-risk-and-a-way-to-manage-risk> (referer: None)\n",
      "2019-11-19 16:47:08 [scrapy.core.engine] DEBUG: Crawled (200) <GET https://www.ey.com/en_gl/advisory/how-agile-finance-can-provide-the-fuel-to-drive-your-business-forward> (referer: None)\n",
      "2019-11-19 16:47:08 [scrapy.core.engine] DEBUG: Crawled (200) <GET https://www.ey.com/en_gl/advisory/how-the-transformative-age-is-changing-how-we-live-work-and-play> (referer: None)\n",
      "2019-11-19 16:47:08 [urllib3.connectionpool] DEBUG: Starting new HTTPS connection (1): www.ey.com:443\n"
     ]
    },
    {
     "name": "stdout",
     "output_type": "stream",
     "text": [
      "https://www.ey.com/en_gl/workforce/how-do-we-keep-the-human-touch-in-the-digital-age-\n"
     ]
    },
    {
     "name": "stderr",
     "output_type": "stream",
     "text": [
      "2019-11-19 16:47:09 [urllib3.connectionpool] DEBUG: https://www.ey.com:443 \"GET /en_gl/workforce/how-do-we-keep-the-human-touch-in-the-digital-age- HTTP/1.1\" 200 15045\n",
      "2019-11-19 16:47:09 [urllib3.connectionpool] DEBUG: Starting new HTTPS connection (1): www.ey.com:443\n"
     ]
    },
    {
     "name": "stdout",
     "output_type": "stream",
     "text": [
      "https://www.ey.com/en_gl/digital/how-digital-disruption-is-driving-the-evolution-of-the-network-o\n"
     ]
    },
    {
     "name": "stderr",
     "output_type": "stream",
     "text": [
      "2019-11-19 16:47:10 [urllib3.connectionpool] DEBUG: https://www.ey.com:443 \"GET /en_gl/digital/how-digital-disruption-is-driving-the-evolution-of-the-network-o HTTP/1.1\" 200 15217\n",
      "2019-11-19 16:47:10 [urllib3.connectionpool] DEBUG: Starting new HTTPS connection (1): www.ey.com:443\n"
     ]
    },
    {
     "name": "stdout",
     "output_type": "stream",
     "text": [
      "https://www.ey.com/en_gl/workforce/humanatwork\n"
     ]
    },
    {
     "name": "stderr",
     "output_type": "stream",
     "text": [
      "2019-11-19 16:47:11 [urllib3.connectionpool] DEBUG: https://www.ey.com:443 \"GET /en_gl/workforce/humanatwork HTTP/1.1\" 200 21823\n",
      "2019-11-19 16:47:11 [urllib3.connectionpool] DEBUG: Starting new HTTPS connection (1): www.ey.com:443\n"
     ]
    },
    {
     "name": "stdout",
     "output_type": "stream",
     "text": [
      "https://www.ey.com/en_gl/advisory/how-iot-connectivity-technologies-might-not-be-evolving-at-pace\n"
     ]
    },
    {
     "name": "stderr",
     "output_type": "stream",
     "text": [
      "2019-11-19 16:47:12 [urllib3.connectionpool] DEBUG: https://www.ey.com:443 \"GET /en_gl/advisory/how-iot-connectivity-technologies-might-not-be-evolving-at-pace HTTP/1.1\" 200 14691\n",
      "2019-11-19 16:47:12 [urllib3.connectionpool] DEBUG: Starting new HTTPS connection (1): www.ey.com:443\n"
     ]
    },
    {
     "name": "stdout",
     "output_type": "stream",
     "text": [
      "https://www.ey.com/en_gl/growth/is-your-portfolio-fit-for-the-future-or-fashioned-only-on-the-pa\n"
     ]
    },
    {
     "name": "stderr",
     "output_type": "stream",
     "text": [
      "2019-11-19 16:47:13 [urllib3.connectionpool] DEBUG: https://www.ey.com:443 \"GET /en_gl/growth/is-your-portfolio-fit-for-the-future-or-fashioned-only-on-the-pa HTTP/1.1\" 200 18605\n",
      "2019-11-19 16:47:13 [urllib3.connectionpool] DEBUG: Starting new HTTPS connection (1): www.ey.com:443\n"
     ]
    },
    {
     "name": "stdout",
     "output_type": "stream",
     "text": [
      "https://www.ey.com/en_gl/digital/what-smart-speakers-can-teach-board-members-about-adopting-ai\n"
     ]
    },
    {
     "name": "stderr",
     "output_type": "stream",
     "text": [
      "2019-11-19 16:47:14 [urllib3.connectionpool] DEBUG: https://www.ey.com:443 \"GET /en_gl/digital/what-smart-speakers-can-teach-board-members-about-adopting-ai HTTP/1.1\" 200 14158\n",
      "2019-11-19 16:47:14 [urllib3.connectionpool] DEBUG: Starting new HTTPS connection (1): www.ey.com:443\n"
     ]
    },
    {
     "name": "stdout",
     "output_type": "stream",
     "text": [
      "https://www.ey.com/en_gl/digital/tax-workers-and-robots-teammates-not-enemies\n"
     ]
    },
    {
     "name": "stderr",
     "output_type": "stream",
     "text": [
      "2019-11-19 16:47:15 [urllib3.connectionpool] DEBUG: https://www.ey.com:443 \"GET /en_gl/digital/tax-workers-and-robots-teammates-not-enemies HTTP/1.1\" 200 15036\n",
      "2019-11-19 16:47:15 [urllib3.connectionpool] DEBUG: Starting new HTTPS connection (1): www.ey.com:443\n"
     ]
    },
    {
     "name": "stdout",
     "output_type": "stream",
     "text": [
      "https://www.ey.com/en_gl/trust/the-disrupters--how-banks-can-help-to-track-the-traffickers\n"
     ]
    },
    {
     "name": "stderr",
     "output_type": "stream",
     "text": [
      "2019-11-19 16:47:16 [urllib3.connectionpool] DEBUG: https://www.ey.com:443 \"GET /en_gl/trust/the-disrupters--how-banks-can-help-to-track-the-traffickers HTTP/1.1\" 200 12824\n",
      "2019-11-19 16:47:16 [urllib3.connectionpool] DEBUG: Starting new HTTPS connection (1): www.ey.com:443\n"
     ]
    },
    {
     "name": "stdout",
     "output_type": "stream",
     "text": [
      "https://www.ey.com/en_gl/digital/can-robots-help-your-business-be-more-human\n"
     ]
    },
    {
     "name": "stderr",
     "output_type": "stream",
     "text": [
      "2019-11-19 16:47:17 [urllib3.connectionpool] DEBUG: https://www.ey.com:443 \"GET /en_gl/digital/can-robots-help-your-business-be-more-human HTTP/1.1\" 200 15169\n",
      "2019-11-19 16:47:17 [urllib3.connectionpool] DEBUG: Starting new HTTPS connection (1): www.ey.com:443\n"
     ]
    },
    {
     "name": "stdout",
     "output_type": "stream",
     "text": [
      "https://www.ey.com/en_gl/digital/how-gamification-could-take-investor-experiences-to-a-new-level\n"
     ]
    },
    {
     "name": "stderr",
     "output_type": "stream",
     "text": [
      "2019-11-19 16:47:18 [urllib3.connectionpool] DEBUG: https://www.ey.com:443 \"GET /en_gl/digital/how-gamification-could-take-investor-experiences-to-a-new-level HTTP/1.1\" 200 14849\n",
      "2019-11-19 16:47:18 [urllib3.connectionpool] DEBUG: Starting new HTTPS connection (1): www.ey.com:443\n"
     ]
    },
    {
     "name": "stdout",
     "output_type": "stream",
     "text": [
      "https://www.ey.com/en_gl/assurance/why-ai-is-both-a-risk-and-a-way-to-manage-risk\n"
     ]
    },
    {
     "name": "stderr",
     "output_type": "stream",
     "text": [
      "2019-11-19 16:47:19 [urllib3.connectionpool] DEBUG: https://www.ey.com:443 \"GET /en_gl/assurance/why-ai-is-both-a-risk-and-a-way-to-manage-risk HTTP/1.1\" 200 14846\n",
      "2019-11-19 16:47:19 [urllib3.connectionpool] DEBUG: Starting new HTTPS connection (1): www.ey.com:443\n"
     ]
    },
    {
     "name": "stdout",
     "output_type": "stream",
     "text": [
      "https://www.ey.com/en_gl/advisory/how-the-transformative-age-is-changing-how-we-live-work-and-play\n"
     ]
    },
    {
     "name": "stderr",
     "output_type": "stream",
     "text": [
      "2019-11-19 16:47:20 [urllib3.connectionpool] DEBUG: https://www.ey.com:443 \"GET /en_gl/advisory/how-the-transformative-age-is-changing-how-we-live-work-and-play HTTP/1.1\" 200 14108\n",
      "2019-11-19 16:47:20 [urllib3.connectionpool] DEBUG: Starting new HTTPS connection (1): www.ey.com:443\n"
     ]
    },
    {
     "name": "stdout",
     "output_type": "stream",
     "text": [
      "https://www.ey.com/en_gl/advisory/how-agile-finance-can-provide-the-fuel-to-drive-your-business-forward\n"
     ]
    },
    {
     "name": "stderr",
     "output_type": "stream",
     "text": [
      "2019-11-19 16:47:21 [urllib3.connectionpool] DEBUG: https://www.ey.com:443 \"GET /en_gl/advisory/how-agile-finance-can-provide-the-fuel-to-drive-your-business-forward HTTP/1.1\" 200 13434\n",
      "2019-11-19 16:47:21 [scrapy.core.engine] DEBUG: Crawled (200) <GET https://www.ey.com/en_gl/workforce/does-your-brand-reflect-the-composition-of-your-workforce> (referer: None)\n",
      "2019-11-19 16:47:21 [scrapy.core.engine] DEBUG: Crawled (200) <GET https://www.ey.com/en_gl/digital/customers-text-listening> (referer: None)\n",
      "2019-11-19 16:47:21 [scrapy.core.engine] DEBUG: Crawled (200) <GET https://www.ey.com/en_gl/digital/what-the-3d-printing-revolution-could-mean-for-business> (referer: None)\n",
      "2019-11-19 16:47:21 [scrapy.core.engine] DEBUG: Crawled (200) <GET https://www.ey.com/en_gl/financial-services-emeia/regulatory-sandboxes-facilitate-optimal-regulation-in-asia-pacific> (referer: None)\n",
      "2019-11-19 16:47:21 [scrapy.core.engine] DEBUG: Crawled (200) <GET https://www.ey.com/en_gl/life-sciences/how-collaborating-with-ai-can-help-meet-health-care-needs> (referer: None)\n",
      "2019-11-19 16:47:21 [scrapy.core.engine] DEBUG: Crawled (200) <GET https://www.ey.com/en_gl/assurance/how-can-you-disrupt-risk-in-an-era-of-digital-transformation> (referer: None)\n",
      "2019-11-19 16:47:21 [scrapy.core.engine] DEBUG: Crawled (200) <GET https://www.ey.com/en_gl/digital/what_s-the-right-dose-of-ai-to-revitalize-health-care> (referer: None)\n",
      "2019-11-19 16:47:21 [scrapy.core.engine] DEBUG: Crawled (200) <GET https://www.ey.com/en_gl/assurance/how-can-artificial-intelligence-enhance-your-lease-accounting-approach> (referer: None)\n",
      "2019-11-19 16:47:21 [urllib3.connectionpool] DEBUG: Starting new HTTPS connection (1): www.ey.com:443\n"
     ]
    },
    {
     "name": "stdout",
     "output_type": "stream",
     "text": [
      "https://www.ey.com/en_gl/digital/customers-text-listening\n"
     ]
    },
    {
     "name": "stderr",
     "output_type": "stream",
     "text": [
      "2019-11-19 16:47:22 [urllib3.connectionpool] DEBUG: https://www.ey.com:443 \"GET /en_gl/digital/customers-text-listening HTTP/1.1\" 200 16628\n",
      "2019-11-19 16:47:22 [urllib3.connectionpool] DEBUG: Starting new HTTPS connection (1): www.ey.com:443\n"
     ]
    },
    {
     "name": "stdout",
     "output_type": "stream",
     "text": [
      "https://www.ey.com/en_gl/workforce/does-your-brand-reflect-the-composition-of-your-workforce\n"
     ]
    },
    {
     "name": "stderr",
     "output_type": "stream",
     "text": [
      "2019-11-19 16:47:23 [urllib3.connectionpool] DEBUG: https://www.ey.com:443 \"GET /en_gl/workforce/does-your-brand-reflect-the-composition-of-your-workforce HTTP/1.1\" 200 16310\n",
      "2019-11-19 16:47:23 [scrapy.core.engine] DEBUG: Crawled (200) <GET https://www.ey.com/en_gl/advisory/how-do-you-run-the-business-when-ai-is-steering-the-ship> (referer: None)\n",
      "2019-11-19 16:47:23 [scrapy.core.engine] DEBUG: Crawled (200) <GET https://www.ey.com/en_gl/life-sciences/how-research-and-development-is-being-augmented-with-artificial-intelligence> (referer: None)\n",
      "2019-11-19 16:47:23 [scrapy.core.engine] DEBUG: Crawled (200) <GET https://www.ey.com/en_gl/assurance/how-ai-will-enable-us-to-work-smarter-faster> (referer: None)\n",
      "2019-11-19 16:47:23 [scrapy.core.engine] DEBUG: Crawled (200) <GET https://www.ey.com/en_gl/financial-services-emeia/impact-of-robotics-rpa-and-ai-on-the-insurance-industry-challenges-and-opportunities> (referer: None)\n",
      "2019-11-19 16:47:23 [scrapy.core.engine] DEBUG: Crawled (200) <GET https://www.ey.com/en_gl/advisory/how-digital-agriculture-and-big-data-will-help-to-feed-a-growing-world> (referer: None)\n",
      "2019-11-19 16:47:23 [urllib3.connectionpool] DEBUG: Starting new HTTPS connection (1): www.ey.com:443\n"
     ]
    },
    {
     "name": "stdout",
     "output_type": "stream",
     "text": [
      "https://www.ey.com/en_gl/financial-services-emeia/regulatory-sandboxes-facilitate-optimal-regulation-in-asia-pacific\n"
     ]
    },
    {
     "name": "stderr",
     "output_type": "stream",
     "text": [
      "2019-11-19 16:47:24 [urllib3.connectionpool] DEBUG: https://www.ey.com:443 \"GET /en_gl/financial-services-emeia/regulatory-sandboxes-facilitate-optimal-regulation-in-asia-pacific HTTP/1.1\" 200 16117\n",
      "2019-11-19 16:47:24 [urllib3.connectionpool] DEBUG: Starting new HTTPS connection (1): www.ey.com:443\n"
     ]
    },
    {
     "name": "stdout",
     "output_type": "stream",
     "text": [
      "https://www.ey.com/en_gl/life-sciences/how-collaborating-with-ai-can-help-meet-health-care-needs\n"
     ]
    },
    {
     "name": "stderr",
     "output_type": "stream",
     "text": [
      "2019-11-19 16:47:25 [urllib3.connectionpool] DEBUG: https://www.ey.com:443 \"GET /en_gl/life-sciences/how-collaborating-with-ai-can-help-meet-health-care-needs HTTP/1.1\" 200 14969\n",
      "2019-11-19 16:47:25 [urllib3.connectionpool] DEBUG: Starting new HTTPS connection (1): www.ey.com:443\n"
     ]
    },
    {
     "name": "stdout",
     "output_type": "stream",
     "text": [
      "https://www.ey.com/en_gl/digital/what-the-3d-printing-revolution-could-mean-for-business\n"
     ]
    },
    {
     "name": "stderr",
     "output_type": "stream",
     "text": [
      "2019-11-19 16:47:26 [urllib3.connectionpool] DEBUG: https://www.ey.com:443 \"GET /en_gl/digital/what-the-3d-printing-revolution-could-mean-for-business HTTP/1.1\" 200 14801\n",
      "2019-11-19 16:47:26 [urllib3.connectionpool] DEBUG: Starting new HTTPS connection (1): www.ey.com:443\n"
     ]
    },
    {
     "name": "stdout",
     "output_type": "stream",
     "text": [
      "https://www.ey.com/en_gl/assurance/how-can-you-disrupt-risk-in-an-era-of-digital-transformation\n"
     ]
    },
    {
     "name": "stderr",
     "output_type": "stream",
     "text": [
      "2019-11-19 16:47:27 [urllib3.connectionpool] DEBUG: https://www.ey.com:443 \"GET /en_gl/assurance/how-can-you-disrupt-risk-in-an-era-of-digital-transformation HTTP/1.1\" 200 15688\n",
      "2019-11-19 16:47:27 [urllib3.connectionpool] DEBUG: Starting new HTTPS connection (1): www.ey.com:443\n"
     ]
    },
    {
     "name": "stdout",
     "output_type": "stream",
     "text": [
      "https://www.ey.com/en_gl/digital/what_s-the-right-dose-of-ai-to-revitalize-health-care\n"
     ]
    },
    {
     "name": "stderr",
     "output_type": "stream",
     "text": [
      "2019-11-19 16:47:28 [urllib3.connectionpool] DEBUG: https://www.ey.com:443 \"GET /en_gl/digital/what_s-the-right-dose-of-ai-to-revitalize-health-care HTTP/1.1\" 200 14271\n",
      "2019-11-19 16:47:28 [urllib3.connectionpool] DEBUG: Starting new HTTPS connection (1): www.ey.com:443\n"
     ]
    },
    {
     "name": "stdout",
     "output_type": "stream",
     "text": [
      "https://www.ey.com/en_gl/assurance/how-can-artificial-intelligence-enhance-your-lease-accounting-approach\n"
     ]
    },
    {
     "name": "stderr",
     "output_type": "stream",
     "text": [
      "2019-11-19 16:47:29 [urllib3.connectionpool] DEBUG: https://www.ey.com:443 \"GET /en_gl/assurance/how-can-artificial-intelligence-enhance-your-lease-accounting-approach HTTP/1.1\" 200 15059\n",
      "2019-11-19 16:47:29 [urllib3.connectionpool] DEBUG: Starting new HTTPS connection (1): www.ey.com:443\n"
     ]
    },
    {
     "name": "stdout",
     "output_type": "stream",
     "text": [
      "https://www.ey.com/en_gl/life-sciences/how-research-and-development-is-being-augmented-with-artificial-intelligence\n"
     ]
    },
    {
     "name": "stderr",
     "output_type": "stream",
     "text": [
      "2019-11-19 16:47:30 [urllib3.connectionpool] DEBUG: https://www.ey.com:443 \"GET /en_gl/life-sciences/how-research-and-development-is-being-augmented-with-artificial-intelligence HTTP/1.1\" 200 15298\n",
      "2019-11-19 16:47:30 [urllib3.connectionpool] DEBUG: Starting new HTTPS connection (1): www.ey.com:443\n"
     ]
    },
    {
     "name": "stdout",
     "output_type": "stream",
     "text": [
      "https://www.ey.com/en_gl/advisory/how-do-you-run-the-business-when-ai-is-steering-the-ship\n"
     ]
    },
    {
     "name": "stderr",
     "output_type": "stream",
     "text": [
      "2019-11-19 16:47:31 [urllib3.connectionpool] DEBUG: https://www.ey.com:443 \"GET /en_gl/advisory/how-do-you-run-the-business-when-ai-is-steering-the-ship HTTP/1.1\" 200 15414\n",
      "2019-11-19 16:47:31 [urllib3.connectionpool] DEBUG: Starting new HTTPS connection (1): www.ey.com:443\n"
     ]
    },
    {
     "name": "stdout",
     "output_type": "stream",
     "text": [
      "https://www.ey.com/en_gl/assurance/how-ai-will-enable-us-to-work-smarter-faster\n"
     ]
    },
    {
     "name": "stderr",
     "output_type": "stream",
     "text": [
      "2019-11-19 16:47:32 [urllib3.connectionpool] DEBUG: https://www.ey.com:443 \"GET /en_gl/assurance/how-ai-will-enable-us-to-work-smarter-faster HTTP/1.1\" 200 14747\n",
      "2019-11-19 16:47:32 [urllib3.connectionpool] DEBUG: Starting new HTTPS connection (1): www.ey.com:443\n"
     ]
    },
    {
     "name": "stdout",
     "output_type": "stream",
     "text": [
      "https://www.ey.com/en_gl/financial-services-emeia/impact-of-robotics-rpa-and-ai-on-the-insurance-industry-challenges-and-opportunities\n"
     ]
    },
    {
     "name": "stderr",
     "output_type": "stream",
     "text": [
      "2019-11-19 16:47:33 [urllib3.connectionpool] DEBUG: https://www.ey.com:443 \"GET /en_gl/financial-services-emeia/impact-of-robotics-rpa-and-ai-on-the-insurance-industry-challenges-and-opportunities HTTP/1.1\" 200 17560\n",
      "2019-11-19 16:47:33 [urllib3.connectionpool] DEBUG: Starting new HTTPS connection (1): www.ey.com:443\n"
     ]
    },
    {
     "name": "stdout",
     "output_type": "stream",
     "text": [
      "https://www.ey.com/en_gl/advisory/how-digital-agriculture-and-big-data-will-help-to-feed-a-growing-world\n"
     ]
    },
    {
     "name": "stderr",
     "output_type": "stream",
     "text": [
      "2019-11-19 16:47:34 [urllib3.connectionpool] DEBUG: https://www.ey.com:443 \"GET /en_gl/advisory/how-digital-agriculture-and-big-data-will-help-to-feed-a-growing-world HTTP/1.1\" 200 16602\n",
      "2019-11-19 16:47:34 [scrapy.core.engine] INFO: Closing spider (finished)\n",
      "2019-11-19 16:47:34 [scrapy.statscollectors] INFO: Dumping Scrapy stats:\n",
      "{'downloader/request_bytes': 29550,\n",
      " 'downloader/request_count': 105,\n",
      " 'downloader/request_method_count/GET': 105,\n",
      " 'downloader/response_bytes': 1806904,\n",
      " 'downloader/response_count': 105,\n",
      " 'downloader/response_status_count/200': 105,\n",
      " 'elapsed_time_seconds': 107.203089,\n",
      " 'finish_reason': 'finished',\n",
      " 'finish_time': datetime.datetime(2019, 11, 19, 15, 47, 34, 943358),\n",
      " 'log_count/DEBUG': 315,\n",
      " 'log_count/INFO': 11,\n",
      " 'response_received_count': 105,\n",
      " 'scheduler/dequeued': 105,\n",
      " 'scheduler/dequeued/memory': 105,\n",
      " 'scheduler/enqueued': 105,\n",
      " 'scheduler/enqueued/memory': 105,\n",
      " 'start_time': datetime.datetime(2019, 11, 19, 15, 45, 47, 740269)}\n",
      "2019-11-19 16:47:34 [scrapy.core.engine] INFO: Spider closed (finished)\n"
     ]
    }
   ],
   "source": [
    "from scrapy.crawler import CrawlerProcess\n",
    "\n",
    "# Create class\n",
    "class ey_spider (scrapy.Spider):\n",
    "    name = \"ey_spider\"\n",
    "    \n",
    "    def start_requests(self):\n",
    "        urls = ey_urllist\n",
    "        for url in urls:\n",
    "            yield scrapy.Request(url = url, callback = self.parse)\n",
    "            \n",
    "    #Parsing\n",
    "    def parse(self, response):\n",
    "        print(response.url)\n",
    "        page_url = response.url\n",
    "        page_html = requests.get(page_url).content\n",
    "        page_sel = Selector(text = page_html)\n",
    "        \n",
    "        page_title = page_sel.css('title ::text').extract_first()\n",
    "        page_text = page_sel.css('div#content ::text').extract()\n",
    "        \n",
    "        page_text = ' '.join(page_text)\n",
    "        \n",
    "        ey_contdict[page_title] = page_text\n",
    "        ey_urldict[page_title] = page_url\n",
    "        \n",
    "# Initiatlize dictionary\n",
    "ey_contdict = dict()\n",
    "ey_urldict = dict()\n",
    "\n",
    "#Run spider\n",
    "process = CrawlerProcess()\n",
    "process.crawl(ey_spider)\n",
    "process.start()"
   ]
  },
  {
   "cell_type": "code",
   "execution_count": 13,
   "metadata": {},
   "outputs": [
    {
     "data": {
      "text/plain": [
       "105"
      ]
     },
     "execution_count": 13,
     "metadata": {},
     "output_type": "execute_result"
    }
   ],
   "source": [
    "process.stop()\n",
    "len(ey_contdict)"
   ]
  },
  {
   "cell_type": "code",
   "execution_count": 14,
   "metadata": {},
   "outputs": [],
   "source": [
    "import json\n",
    "\n",
    "with open('..\\\\data_raw\\\\ey_articles.json', 'w') as file:\n",
    "    json.dump(ey_contdict, file)\n",
    "    \n",
    "with open('..\\\\data_raw\\\\ey_urls.json', 'w') as file:\n",
    "    json.dump(ey_urldict, file)"
   ]
  },
  {
   "cell_type": "code",
   "execution_count": null,
   "metadata": {},
   "outputs": [],
   "source": []
  }
 ],
 "metadata": {
  "kernelspec": {
   "display_name": "Python 3",
   "language": "python",
   "name": "python3"
  },
  "language_info": {
   "codemirror_mode": {
    "name": "ipython",
    "version": 3
   },
   "file_extension": ".py",
   "mimetype": "text/x-python",
   "name": "python",
   "nbconvert_exporter": "python",
   "pygments_lexer": "ipython3",
   "version": "3.7.4"
  }
 },
 "nbformat": 4,
 "nbformat_minor": 2
}
