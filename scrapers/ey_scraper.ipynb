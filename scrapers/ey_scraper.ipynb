{
 "cells": [
  {
   "cell_type": "markdown",
   "metadata": {},
   "source": [
    "# Formål\n",
    "\n",
    "Script scraper diverse konsulenthuses sider for artikler og indlæg omkring kunstig intelligens (AI, artificial intelligence).\n",
    "\n",
    "**Liste over konsulenthuse**\n",
    "- (x) Ernst & Young (EY) (en del af BIG4 i accounting) https://www.ey.com/en_gl\n",
    "- Deloitte. (en del af BIG4 i accounting) [https://www2.deloitte.com](https://www2.deloitte.com/)\n",
    "- KPMG. (en del af BIG4 i accounting) https://home.kpmg/xx/en/home.html\n",
    "- PricewaterhouseCoopers (PwC) (en del af BIG4 i accounting) https://www.pwc.com/\n",
    "- (x) McKinsey (Top Management consulting) https://www.mckinsey.com/\n",
    "- (x) Boston consulting group (Top Management consulting) https://www.bcg.com/\n",
    "- Bain & Company (Top Management consulting) https://www.bain.com/\n",
    "- Accenture (IT consulting - verdens største konsulenthus) https://www.accenture.com/us-en\n",
    "- Capgemini (IT consulting nr. 2 mener jeg) https://www.capgemini.com/\n",
    "- Tata consulting (IT consulting - nr. 3 mener jeg målt på omsætning) https://www.tcs.com/\n",
    "- IBM (Det er ikke sikkert, men de har vel Watson og måske interessant?) [https://www.ibm.com](https://www.ibm.com/)"
   ]
  },
  {
   "cell_type": "markdown",
   "metadata": {},
   "source": [
    "# Ernst & Young\n",
    "\n",
    "URL: https://www.ey.com/en_gl/ai"
   ]
  },
  {
   "cell_type": "markdown",
   "metadata": {},
   "source": [
    "### Libraries\n",
    "\n",
    "Importing libraries..."
   ]
  },
  {
   "cell_type": "code",
   "execution_count": 4,
   "metadata": {},
   "outputs": [],
   "source": [
    "import scrapy\n",
    "import requests\n",
    "from scrapy import Selector\n",
    "\n",
    "import os\n",
    "import sys\n",
    "\n",
    "from selenium import webdriver\n",
    "from selenium.webdriver.common.keys import Keys\n",
    "from selenium.webdriver.firefox.firefox_binary import FirefoxBinary\n",
    "from selenium.common.exceptions import NoSuchElementException, WebDriverException, ElementNotInteractableException\n",
    "from selenium.webdriver.common.action_chains import ActionChains\n",
    "\n",
    "import time"
   ]
  },
  {
   "cell_type": "markdown",
   "metadata": {},
   "source": [
    "### URL list\n",
    "\n",
    "List of URL is extracted from the AI-section of ey.com: https://www.ey.com/en_gl/ai"
   ]
  },
  {
   "cell_type": "code",
   "execution_count": 2,
   "metadata": {},
   "outputs": [
    {
     "data": {
      "text/plain": [
       "'\\nos.environ[\\'MOZ_HEADLESS\\'] = \\'1\\'\\n\\n# Select your Firefox binary.\\nbinary = FirefoxBinary(\\'C:\\\\Program Files (x86)\\\\Mozilla Firefox\\\\firefox.exe\\', log_file=sys.stdout)\\n\\n# Start selenium with the configured binary.\\ndriver = webdriver.Firefox(firefox_binary=binary)\\n\\ndriver.get(\\'https://www.ey.com/en_gl/ai\\')\\ncoordinates = {\\'x\\': 0, \\'y\\': 1400}\\ndriver.execute_script(\\'window.scrollTo({}, {});\\'.format(coordinates[\\'x\\'], coordinates[\\'y\\']))\\ntime.sleep(3)\\ncoordinates = {\\'x\\': 0, \\'y\\': 1600}\\ndriver.execute_script(\\'window.scrollTo({}, {});\\'.format(coordinates[\\'x\\'], coordinates[\\'y\\']))\\ntime.sleep(3)\\ndriver.find_element_by_css_selector(\"button.show-more\").click()\\ntime.sleep(3)\\n\\npageSource = driver.page_source\\n\\ndriver.quit()\\n'"
      ]
     },
     "execution_count": 2,
     "metadata": {},
     "output_type": "execute_result"
    }
   ],
   "source": [
    "## With firefox - DOES NOT WORK YET\n",
    "'''\n",
    "os.environ['MOZ_HEADLESS'] = '1'\n",
    "\n",
    "# Select your Firefox binary.\n",
    "binary = FirefoxBinary('C:\\\\Program Files (x86)\\\\Mozilla Firefox\\\\firefox.exe', log_file=sys.stdout)\n",
    "\n",
    "# Start selenium with the configured binary.\n",
    "driver = webdriver.Firefox(firefox_binary=binary)\n",
    "\n",
    "driver.get('https://www.ey.com/en_gl/ai')\n",
    "coordinates = {'x': 0, 'y': 1400}\n",
    "driver.execute_script('window.scrollTo({}, {});'.format(coordinates['x'], coordinates['y']))\n",
    "time.sleep(3)\n",
    "coordinates = {'x': 0, 'y': 1600}\n",
    "driver.execute_script('window.scrollTo({}, {});'.format(coordinates['x'], coordinates['y']))\n",
    "time.sleep(3)\n",
    "driver.find_element_by_css_selector(\"button.show-more\").click()\n",
    "time.sleep(3)\n",
    "\n",
    "pageSource = driver.page_source\n",
    "\n",
    "driver.quit()\n",
    "'''"
   ]
  },
  {
   "cell_type": "code",
   "execution_count": 4,
   "metadata": {},
   "outputs": [
    {
     "name": "stdout",
     "output_type": "stream",
     "text": [
      "No 'Next' button found\n"
     ]
    }
   ],
   "source": [
    "## With chrome\n",
    "driver = webdriver.Chrome(executable_path = 'C:\\\\bin\\\\chromedriver')\n",
    "\n",
    "driver.get('https://www.ey.com/en_gl/ai')\n",
    "#driver.find_element_by_css_selector(\"button.show-more\").click()\n",
    "\n",
    "driver.get('https://www.ey.com/en_gl/ai')\n",
    "time.sleep(3)\n",
    "driver.find_element_by_css_selector(\"button.cookiePolicy-accept\").click()\n",
    "time.sleep(3)\n",
    "\n",
    "coordinates = {'x': 0, 'y': 1200}\n",
    "driver.execute_script('window.scrollTo({}, {});'.format(coordinates['x'], coordinates['y']))\n",
    "time.sleep(3)\n",
    "coordinates = {'x': 0, 'y': 1600}\n",
    "driver.execute_script('window.scrollTo({}, {});'.format(coordinates['x'], coordinates['y']))\n",
    "\n",
    "driver.find_element_by_css_selector(\"button.show-more\").click()\n",
    "time.sleep(3)\n",
    "\n",
    "#pageSource = {}\n",
    "#pageno = 1\n",
    "#pagestr = \"page_\" + str(pageno)\n",
    "#pageSources[pagestr] = driver.page_source\n",
    "\n",
    "while True:\n",
    "    try:\n",
    "        driver.find_element_by_css_selector(\"button.next\").click()\n",
    "        time.sleep(4)\n",
    "    except (NoSuchElementException, WebDriverException, ElementNotInteractableException) as e:\n",
    "        print(\"No 'Next' button found\")\n",
    "        break\n",
    "        \n",
    "pageSource = driver.page_source\n",
    "\n",
    "driver.quit()"
   ]
  },
  {
   "cell_type": "code",
   "execution_count": 10,
   "metadata": {},
   "outputs": [],
   "source": [
    "sel = Selector(text = pageSource) #create Selector object\n",
    "urldict = {}\n",
    "   \n",
    "urldict['titles'] = sel.css('h4.article-title.is-clipped::text').extract()\n",
    "urldict['urls'] = sel.css('div.article-tile.tile.valid > div.tile-image-box > a::attr(href)').extract()"
   ]
  },
  {
   "cell_type": "code",
   "execution_count": 11,
   "metadata": {},
   "outputs": [],
   "source": [
    "urllist = list(map(lambda url: 'https://www.ey.com' + url, ey_urldict['urls']))"
   ]
  },
  {
   "cell_type": "code",
   "execution_count": 12,
   "metadata": {},
   "outputs": [
    {
     "data": {
      "text/plain": [
       "125"
      ]
     },
     "execution_count": 12,
     "metadata": {},
     "output_type": "execute_result"
    }
   ],
   "source": [
    "len(urllist)"
   ]
  },
  {
   "cell_type": "code",
   "execution_count": 13,
   "metadata": {},
   "outputs": [],
   "source": [
    "# URL dump\n",
    "#with open('../data_raw/ey_urls.txt', 'w') as f:\n",
    "#    for url in urllist:\n",
    "#        f.write(url + \"\\n\")"
   ]
  },
  {
   "cell_type": "code",
   "execution_count": 2,
   "metadata": {},
   "outputs": [
    {
     "name": "stdout",
     "output_type": "stream",
     "text": [
      "125 \n",
      " https://www.ey.com/en_gl/ai/is-ai-the-start-of-the-truly-creative-human\n"
     ]
    }
   ],
   "source": [
    "# Load URLs\n",
    "urllist = []\n",
    "with open('../data_raw/ey_urls.txt', 'r') as f:\n",
    "    for line in f:\n",
    "        urllist.append(line.strip())\n",
    "\n",
    "print(len(urllist),\n",
    "      '\\n',\n",
    "     urllist[0])"
   ]
  },
  {
   "cell_type": "code",
   "execution_count": 5,
   "metadata": {},
   "outputs": [],
   "source": [
    "pagehtml = requests.get(urllist[0]).content\n",
    "pagesel = Selector(text = pagehtml)"
   ]
  },
  {
   "cell_type": "code",
   "execution_count": 6,
   "metadata": {},
   "outputs": [
    {
     "name": "stdout",
     "output_type": "stream",
     "text": [
      "\n",
      "   \n",
      "    \n",
      "     \n",
      "      \n",
      "       \n",
      "       \n",
      "      \n",
      "      \n",
      "       \n",
      "       Is AI the start of the truly creative human?  \n",
      "       \n",
      "      \n",
      "     \n",
      "    \n",
      "   \n",
      " \n",
      "   \n",
      "    \n",
      "     \n",
      "     \n",
      "      \n",
      "        Nicola Morini Bianzino    \n",
      "      \n",
      "     By  \n",
      "     Nicola Morini Bianzino  \n",
      "     EY Global Chief Client Technology Officer  \n",
      "     Putting technology at the heart of the global EY organization across service lines and markets. Neural networks pioneer. Innovator. AI and machine learning thought leader. Former elite athlete.  \n",
      "     \n",
      "    \n",
      "   \n",
      " \n",
      "\n",
      "    10 minute read  \n",
      "    7 Feb 2020  \n",
      " \n",
      "\n",
      "\n",
      " \n",
      "  \n",
      " \n",
      "    \n",
      "    \n",
      "    Related topics   \n",
      "    AI   \n",
      "    Growth   \n",
      "    Strategy   \n",
      "    Innovation   \n",
      "     \n",
      "  \n",
      " \n",
      "   \n",
      "    \n",
      "    \n",
      "     Link copied \n",
      "     \n",
      "     \n",
      "    \n",
      "    \n",
      "    \n",
      "      \n",
      "       \n",
      "           \n",
      "     \n",
      "           \n",
      "     \n",
      "           \n",
      "     \n",
      "           \n",
      "     \n",
      "       \n",
      "     \n",
      "     \n",
      "    \n",
      "    \n",
      "     \n",
      "    \n",
      "   \n",
      "  \n",
      "   \n",
      "  \n",
      "     \n",
      "    Upvote  \n",
      "      \n",
      "   \n",
      "   \n",
      " \n",
      "   \n",
      "    \n",
      "     \n",
      "     Show resources  \n",
      "      \n",
      "          EY megatrends the upside of disruption (pdf)    \n",
      "        \n",
      "          Download    \n",
      "        10 MB  \n",
      "          \n",
      "      \n",
      "     \n",
      "    \n",
      "   \n",
      " \n",
      "   \n",
      "    \n",
      "    To drive long-term growth every business needs creativity and innovation. Here’s how to harness the right AI solutions to ignite creativity and power human enterprise.  \n",
      "    S ince the dawn of the first industrial revolution, machines have largely been used to improve efficiency. We’ve now entered the  Fourth Industrial Revolution  – an era in which machines will become smart, self-optimizing themselves and the systems in which they operate. It’s a shift that’s shaping many of the  megatrends  we’ve identified that are in turn changing how the world works.  \n",
      "    Some have seen this as the rise of the robots – a dystopian future of mass unemployment and dehumanization as intelligent machines do away with the need for people.  \n",
      "    But history suggests that while new technologies may end the need for human involvement in some tasks, it will usually also enable the creation of entirely new jobs – even entirely new industries. The challenge isn’t the technology – it’s to be creative in reimagining how to use it to generate fresh opportunities, value and growth.  \n",
      "    Success and growth won’t be achieved by focusing on technology alone, because technology is no more than a tool that enables us to develop goods and services that humans need. The real skill isn’t in developing technological solutions, it’s in identifying what people want – and then finding the best ways to deliver. The question isn’t how to use the technology, it’s what impact that technology can have.  \n",
      "    There are three primary ways technology – and especially  Artificial Intelligence  (AI) – can encourage human creativity in meeting human needs:  \n",
      "     \n",
      "     Freeing up time for humans to focus on innovation.  \n",
      "     Offering opportunities to creatively combine technologies to create new ways of working.  \n",
      "     Actively augmenting human decision-making, by adding a layer of machine-driven data analysis to guide our creative choices.  \n",
      "     \n",
      "    \n",
      "   \n",
      " \n",
      " \n",
      "   \n",
      "   \n",
      " \n",
      " \n",
      " \n",
      " \n",
      " \n",
      " \n",
      " \n",
      " \n",
      " \n",
      " \n",
      " \n",
      " \n",
      "   \n",
      "   (Chapter breaker)\n",
      "    \n",
      "   1  \n",
      "    \n",
      "    Chapter 1  \n",
      "    Using technology creatively  \n",
      "    Right now, businesses should focus on improving current operations – but this is only the start.  \n",
      "    \n",
      "   \n",
      " \n",
      "   \n",
      "    \n",
      "    Technology is most often used to improve efficiency – mechanization and automation that can mimic human behavior to carry out repetitive, high-volume tasks. This can  free up our time  to focus on higher level, more valuable work – like research and development or strategic planning.  \n",
      "    These efficiency-boosting technologies are fantastic for eliminating the need for human engagement in time-consuming back-office tasks or physical heavy lifting – enabling humans to focus more on the intellectual heavy lifting. After all, who has time to come up with new ideas if they’ve got deadlines to hit and spreadsheets to fill out?  \n",
      "    The time saved can also create new opportunities for human engagement –  getting back to being human  by engaging in human-to-human relationship building and collaborative activities and projects. These kinds of interactions not only help improve organizational culture, they also enable those collaborative light-bulb moments that can lead to innovative ideas which are so often sparked by discussion.  \n",
      "    \n",
      "   \n",
      " \n",
      "   \n",
      "    \n",
      "    \n",
      "    Technology and humans working together to truly amplify each other’s strengths in the interest of a better working world – that’s an exciting future.\n",
      "     \n",
      "     \n",
      "     \n",
      "      Dan Higgins \n",
      "      \n",
      "     \n",
      "     EY Global Advisory Technology Consulting Leader\n",
      "        \n",
      "    \n",
      "   \n",
      " \n",
      "   \n",
      "    \n",
      "    \n",
      "    From automation to augmentation  \n",
      "    Key to maximizing this potential is the creative combination of AI software with other technologies, augmenting their capabilities to create new, better ways of working – and  turn emerging technology into a competitive advantage.  \n",
      "    The impact to business innovation and the transformative effect of combining emerging technologies could be far more profound than that of a single technology alone. After all, historically, most technological advances aren’t derived from one-off moments of genius, but are iterative – combining existing ideas in new ways to optimize and improve on what’s come before. Even AI itself is an example of this – the result of humans creatively combining centuries of mathematical research with decades of computing experimentation.  \n",
      "    We call this  the “combinatorial effect” of emerging technologies .  \n",
      "    \n",
      "    \n",
      "     \n",
      "      \n",
      "      Related article  \n",
      "       \n",
      "      \n",
      "     \n",
      "    \n",
      "   \n",
      " \n",
      "   \n",
      "    \n",
      "    \n",
      "    \n",
      "     \n",
      "      \n",
      "      \n",
      "      \n",
      "     \n",
      "    \n",
      "   \n",
      " \n",
      "   \n",
      "    \n",
      "    \n",
      "    Reimagining our future working world  \n",
      "    Right now, companies that are combining technologies like this can gain competitive advantages over more traditional rivals.  \n",
      "    To take one example, a drone on its own is little more than a fancy radio-controlled helicopter – a toy. A drone with a camera is a surveillance tool. A drone with a camera, depth-sensors, a robotic arm, and AI is an autonomous tool that can radically change how we use warehouse space or deliver goods to customers by finding more efficient transport routes. Meanwhile, more traditional companies are still using slower, less efficient human-driven fork-lift trucks.  \n",
      "    The next ten years will see an explosion of innovation as smart technologies mature and ever more businesses use them in combination with existing and emerging technologies to create radical new approaches to doing business and meet the ever-changing needs of their customers.  \n",
      "    But remember this isn’t about the technology itself, no matter how creatively it’s combined. The pace of technological change will continue to accelerate – no one piece of technology will be enough to give a lasting competitive advantage in such an environment.  \n",
      "    The truly successful businesses will be the ones that realize their transformation isn’t a one-off change to adopt the latest technological tools, but an ongoing process – with the needs of people placed firmly as the focal point of innovative efforts, not the capabilities of the currently available tools.  \n",
      "    Looking to 2030 and beyond, the impact of such human-focused innovation could radically change how the world works. The number of possible permutations is vast – and when AI enables these new combinatorial creations to continuously self-optimize, they should get continually more impactful.  \n",
      "    It’s time for us to reframe our relationship with technology, reimagining how to use technologies to meet real human needs, enable new ways of working, and power human enterprise. With the right approach, people can be both the drivers and beneficiaries of technological change, unlocking new paths to value and human engagement, helping us reinvent our organizations to be ready for what’s next, and fully realizing human potential.  \n",
      "    \n",
      "    \n",
      "     \n",
      "      \n",
      "      Related article  \n",
      "       \n",
      "      \n",
      "     \n",
      "    \n",
      "   \n",
      " \n",
      "   \n",
      "    \n",
      "    \n",
      "    We must ask what is changing in society that makes AI and other technologies necessary. And in combination, can such technologies serve society in ways that exceed their original, singular purpose?\n",
      "     \n",
      "     \n",
      "     \n",
      "      Nigel Duffy \n",
      "      \n",
      "     \n",
      "     EY Global Artificial Intelligence Leader \n",
      "        \n",
      "    \n",
      "   \n",
      " \n",
      "   \n",
      "   \n",
      " \n",
      " \n",
      " \n",
      " \n",
      " \n",
      " \n",
      " \n",
      " \n",
      " \n",
      " \n",
      " \n",
      " \n",
      "   \n",
      "   (Chapter breaker)\n",
      "    \n",
      "   2  \n",
      "    \n",
      "    Chapter 2  \n",
      "    Using technology to enable more effective creative choices  \n",
      "    By reimagining what comes beyond, the combination of AI and human intelligence can unleash a new era of creative decision-making.  \n",
      "    \n",
      "   \n",
      " \n",
      "   \n",
      "    \n",
      "    \n",
      "    The real promise of AI is more than merely freeing up our time to think, or to increase efficiency. It isn’t just about augmenting and improving other technologies – it could even augment and improve human intelligence, by helping us make better choices.  \n",
      "    At its most basic level, AI simulates aspects of human intelligence – like pattern recognition, data analysis, and problem solving.  \n",
      "    But while we humans can spot patterns naturally, our human biases and assumptions can get in the way. And while there have been issues with  AI bias , these have mostly derived from flaws in the original – human – inputs. As we get better at creating AI, these kinds of input errors should increasingly get resolved.  \n",
      "    As AI continues to improve, it will be able to take a less human approach to analysis and problem-solving – spotting patterns and solutions that differ from those of its human creators.  \n",
      "    The result will be a whole new way of looking at the world. By combining human and AI understanding and interpretation, we can find whole new ways of approaching challenges, developing ideas, and driving growth.  \n",
      "    This means that, rather than having to begin with a blank canvas, we can use AI to direct our creative judgement and decision-making processes – to suggest routes for innovation that are more likely to be successful, based on the available data.  \n",
      "    \n",
      "    \n",
      "     \n",
      "      \n",
      "      Related article  \n",
      "       \n",
      "      \n",
      "     \n",
      "    \n",
      "   \n",
      " \n",
      "   \n",
      "    \n",
      "     \n",
      "     \n",
      "          Creating an alternative perspective      \n",
      "      \n",
      "      \n",
      "      \n",
      "       \n",
      "         \n",
      "          \n",
      "           \n",
      "           The creative industries are already taking advantage of this ability for AI to bypass human prejudices and assumptions.  \n",
      "            \n",
      "            In fashion, several companies have long been using detailed analysis of sales information – types of material, colors, cuts – to work out emerging customer preferences and rapidly adapt their designs and stock based on data, not designers’ whims.    \n",
      "            In the music industry, record labels have started to use AI to challenge their assumptions about the key elements common to best-selling songs – from the key changes to the rhythm, and even the lyrics – to guide artists’ creative choices and help them compose hit tunes.    \n",
      "            In advertising, one automotive company has already deployed AI to analyze car adverts and generate a script that would combine all the key elements, only bringing in humans in the final stages to perfect the nuance. The film industry has also experimented with AI-generated trailers.    \n",
      "            In architecture, AI has started redesigning such fundamental building components as the steel girder to create bizarre, alien-looking structures that can be far stronger than human-designed equivalents, even while using less material.    \n",
      "            \n",
      "           If AI can help in truly creative industries like these, it should be little surprise the same principle can be applied to any industry to help guide decision-making. Be it difficult to spot  patterns in financial data  that may indicate fraud, or  minute changes in patient data  that can point to a possible diagnosis, AI can suggest initial insights for humans to verify and build on.  \n",
      "           \n",
      "          \n",
      "        \n",
      "        \n",
      "       \n",
      "        \n",
      "    \n",
      "   \n",
      " \n",
      "   \n",
      "    \n",
      "    \n",
      "    Reinventing the creative process  \n",
      "    In a world with more data than ever, the human mind is not naturally equipped to spot correlations across thousands of data points. But when human creativity is combined with the enormous computation power of AI techniques, we could push back the frontiers of our understanding of the world around us.  \n",
      "    Rather than just being a faster way to analyze information, AI can become a stimulus for more creative thinking about how to use data by suggesting solutions humans may never even have considered.  \n",
      "    Even now, smart assistants with conversational interfaces are already starting to be used to help enhance real-time decision-making processes, helping less experienced workers tap into the pooled expertise of an entire industry, suggesting  better approaches to solving engineering problems .  \n",
      "    Over the next decade, these AI helpers will increasingly start to work with more complex tasks – enabling humans to innovate by focusing on picking the best solution, not just identifying the options, or scenario modeling to help humans decide on the best options based on predictive analytics.  \n",
      "    Beyond this horizon, the potential is for AI to become truly symbiotic with human intelligence: an increasingly essential tool for understanding the world – and devising fresh ways to improve it.  \n",
      "    Creativity may be a uniquely human trait – but just as AI can improve the efficiency of other systems and processes, so too can it optimize the creative process.  \n",
      "    \n",
      "    \n",
      "     \n",
      "      \n",
      "      Related article  \n",
      "       \n",
      "      \n",
      "     \n",
      "    \n",
      "   \n",
      " \n",
      "   \n",
      "    \n",
      "    \n",
      "    We think about AI as software that emulates human-like cognition. It’s really just math at an enormous scale, and can be applied to an almost infinite number of use cases across every sector.\n",
      "     \n",
      "     \n",
      "     \n",
      "      Keith Strier, \n",
      "      \n",
      "     \n",
      "     EY Global and EY Americas Advisory Leader for AI\n",
      "        \n",
      "    \n",
      "   \n",
      " \n",
      "   \n",
      "   \n",
      " \n",
      " \n",
      " \n",
      " \n",
      " \n",
      " \n",
      " \n",
      " \n",
      " \n",
      " \n",
      " \n",
      " \n",
      "   \n",
      "   (Chapter breaker)\n",
      "    \n",
      "   3  \n",
      "    \n",
      "    Chapter 3  \n",
      "    How to use technology to create fresh growth  \n",
      "    Three steps to reimagine your business and successfully navigate the Transformative Age.  \n",
      "    \n",
      "   \n",
      " \n",
      "   \n",
      "    \n",
      "    \n",
      "    It’s one thing to create a technology, but it’s another to use it to transform how a business operates.  \n",
      "    To unlock AI’s true potential and unleash human creativity, businesses should seek to shake off their preconceptions and reimagine the fundamentals of how their industry operates – and what purposes they serve for their customers.  \n",
      "    As you reimagine what your business and industry could look like in the next five to ten years, you should also start thinking how you can reshape your operations to make your vision as effective as possible:  \n",
      "     \n",
      "     Use technology to do the mundane, freeing up humans to focus on the higher-level creative thinking and strategic decision-making that add true long-term value.  \n",
      "     Combine technologies to create better ways of working.  \n",
      "     Focus on finding ways of deploying AI not just to replace humans, but to guide their creative choices.  \n",
      "     \n",
      "    A successful strategy for driving long-term value and growth will never come solely from upgrading your tools – it’s from ensuring your strategies and processes meet the needs of your human customers and employees. Even the most cutting-edge technology alone will never be a lasting solution – just a way of enabling better ways of meeting those needs.  \n",
      "    As you think about the challenges you face now, look to what’s next, and start to imagine what could come beyond, it will be the combination of human and AI that will unleash the full potential of organizations and society at large – by helping better identify human needs and ways to meet them.  \n",
      "    One thing is certain: as customer expectations continue to shift, businesses will have to be ever more creative in meeting them. That’s one need that will never go away – and AI may well be a key tool that can help enable a more effective creative response. Only with the strategic combination of human understanding and technology empowering human enterprise will you be able to create a truly effective, adaptive, creative organization and succeed in solving the challenges to come.    \n",
      "    \n",
      "    \n",
      "     \n",
      "      \n",
      "      Related article  \n",
      "       \n",
      "      \n",
      "     \n",
      "    \n",
      "   \n",
      " \n",
      "   \n",
      "    \n",
      "    \n",
      "    \n",
      "     \n",
      "      \n",
      "      \n",
      "      \n",
      "     \n",
      "    \n",
      "   \n",
      " \n",
      "  \n",
      "   \n",
      "   Summary  \n",
      "   \n",
      " \n",
      "   \n",
      "    \n",
      "    Rather than be worried about the rise of AI, businesses should embrace the opportunity technology brings to unleash a new wave of human creativity and power human enterprise. It can free up time for innovation, provide new combinations of technologies to enable better ways of working, and help guide us on the path towards even more effective creative ideas.  \n",
      "    \n",
      "   \n",
      "  \n",
      "  \n",
      "   \n",
      "   \n",
      "     \n",
      "      \n",
      "       \n",
      "        \n",
      "        \n",
      "         \n",
      "          \n",
      "           \n",
      "            \n",
      "             \n",
      "             About this article  \n",
      "             \n",
      "            \n",
      "           \n",
      "           \n",
      "            \n",
      "             \n",
      "              \n",
      "              \n",
      "               \n",
      "                 Nicola Morini Bianzino    \n",
      "               \n",
      "              By  \n",
      "              Nicola Morini Bianzino  \n",
      "              EY Global Chief Client Technology Officer  \n",
      "              Putting technology at the heart of the global EY organization across service lines and markets. Neural networks pioneer. Innovator. AI and machine learning thought leader. Former elite athlete.  \n",
      "              \n",
      "             \n",
      "            \n",
      "           \n",
      "           \n",
      "           \n",
      "            \n",
      "             \n",
      "              \n",
      "             \n",
      "                \n",
      "                \n",
      "                Related topics   \n",
      "                AI   \n",
      "                Growth   \n",
      "                Strategy   \n",
      "                Innovation   \n",
      "                 \n",
      "              \n",
      "              \n",
      "              \n",
      "               \n",
      "                \n",
      "                \n",
      "                 Link copied \n",
      "                 \n",
      "                 \n",
      "                \n",
      "                \n",
      "                 \n",
      "                  \n",
      "                   \n",
      "                       \n",
      "     \n",
      "                       \n",
      "     \n",
      "                       \n",
      "     \n",
      "                       \n",
      "     \n",
      "                   \n",
      "                  \n",
      "                 \n",
      "                \n",
      "                \n",
      "                 \n",
      "                \n",
      "               \n",
      "              \n",
      "              \n",
      "               \n",
      "              \n",
      "                 \n",
      "                Upvote  \n",
      "                  \n",
      "               \n",
      "               \n",
      "              \n",
      "             \n",
      "            \n",
      "           \n",
      "          \n",
      "         \n",
      "        \n",
      "       \n",
      "      \n",
      "    \n",
      "    \n",
      "   \n",
      " \n",
      " \n",
      "   \n",
      "    \n",
      "    \n",
      "    \n",
      "    Read more  \n",
      "    \n",
      "   \n",
      " \n",
      "   \n",
      "    \n",
      "    \n",
      "    \n",
      "    Read more  \n",
      "    \n",
      "   \n",
      "\n"
     ]
    }
   ],
   "source": [
    "text = pagesel.css('div#content ::text').extract()\n",
    "title = pagesel.css('title ::text').extract_first()\n",
    "text = ' '.join(text)\n",
    "print(text)"
   ]
  },
  {
   "cell_type": "code",
   "execution_count": 7,
   "metadata": {},
   "outputs": [
    {
     "name": "stderr",
     "output_type": "stream",
     "text": [
      "2020-02-11 08:19:53 [scrapy.utils.log] INFO: Scrapy 1.8.0 started (bot: scrapybot)\n",
      "2020-02-11 08:19:53 [scrapy.utils.log] INFO: Versions: lxml 4.4.1.0, libxml2 2.9.9, cssselect 1.1.0, parsel 1.5.2, w3lib 1.21.0, Twisted 19.10.0, Python 3.7.4 (default, Aug  9 2019, 18:34:13) [MSC v.1915 64 bit (AMD64)], pyOpenSSL 19.0.0 (OpenSSL 1.1.1d  10 Sep 2019), cryptography 2.7, Platform Windows-10-10.0.16299-SP0\n",
      "2020-02-11 08:19:53 [scrapy.crawler] INFO: Overridden settings: {}\n",
      "2020-02-11 08:19:53 [scrapy.extensions.telnet] INFO: Telnet Password: 66bdb5ff6ac1616a\n",
      "2020-02-11 08:19:53 [scrapy.middleware] INFO: Enabled extensions:\n",
      "['scrapy.extensions.corestats.CoreStats',\n",
      " 'scrapy.extensions.telnet.TelnetConsole',\n",
      " 'scrapy.extensions.logstats.LogStats']\n",
      "2020-02-11 08:19:54 [scrapy.middleware] INFO: Enabled downloader middlewares:\n",
      "['scrapy.downloadermiddlewares.httpauth.HttpAuthMiddleware',\n",
      " 'scrapy.downloadermiddlewares.downloadtimeout.DownloadTimeoutMiddleware',\n",
      " 'scrapy.downloadermiddlewares.defaultheaders.DefaultHeadersMiddleware',\n",
      " 'scrapy.downloadermiddlewares.useragent.UserAgentMiddleware',\n",
      " 'scrapy.downloadermiddlewares.retry.RetryMiddleware',\n",
      " 'scrapy.downloadermiddlewares.redirect.MetaRefreshMiddleware',\n",
      " 'scrapy.downloadermiddlewares.httpcompression.HttpCompressionMiddleware',\n",
      " 'scrapy.downloadermiddlewares.redirect.RedirectMiddleware',\n",
      " 'scrapy.downloadermiddlewares.cookies.CookiesMiddleware',\n",
      " 'scrapy.downloadermiddlewares.httpproxy.HttpProxyMiddleware',\n",
      " 'scrapy.downloadermiddlewares.stats.DownloaderStats']\n",
      "2020-02-11 08:19:54 [scrapy.middleware] INFO: Enabled spider middlewares:\n",
      "['scrapy.spidermiddlewares.httperror.HttpErrorMiddleware',\n",
      " 'scrapy.spidermiddlewares.offsite.OffsiteMiddleware',\n",
      " 'scrapy.spidermiddlewares.referer.RefererMiddleware',\n",
      " 'scrapy.spidermiddlewares.urllength.UrlLengthMiddleware',\n",
      " 'scrapy.spidermiddlewares.depth.DepthMiddleware']\n",
      "2020-02-11 08:19:54 [scrapy.middleware] INFO: Enabled item pipelines:\n",
      "[]\n",
      "2020-02-11 08:19:54 [scrapy.core.engine] INFO: Spider opened\n",
      "2020-02-11 08:19:54 [scrapy.extensions.logstats] INFO: Crawled 0 pages (at 0 pages/min), scraped 0 items (at 0 items/min)\n",
      "2020-02-11 08:19:54 [scrapy.extensions.telnet] INFO: Telnet console listening on 127.0.0.1:6023\n",
      "2020-02-11 08:19:54 [scrapy.core.engine] DEBUG: Crawled (200) <GET https://www.ey.com/en_gl/innovation/why-ai-will-redefine-the-financial-services-industry-in-two-years> (referer: None)\n",
      "2020-02-11 08:19:55 [scrapy.core.engine] DEBUG: Crawled (200) <GET https://www.ey.com/en_gl/ai/is-ai-the-start-of-the-truly-creative-human> (referer: None)\n",
      "2020-02-11 08:19:55 [urllib3.connectionpool] DEBUG: Starting new HTTPS connection (1): www.ey.com:443\n"
     ]
    },
    {
     "name": "stdout",
     "output_type": "stream",
     "text": [
      "https://www.ey.com/en_gl/innovation/why-ai-will-redefine-the-financial-services-industry-in-two-years\n"
     ]
    },
    {
     "name": "stderr",
     "output_type": "stream",
     "text": [
      "2020-02-11 08:19:55 [urllib3.connectionpool] DEBUG: https://www.ey.com:443 \"GET /en_gl/innovation/why-ai-will-redefine-the-financial-services-industry-in-two-years HTTP/1.1\" 200 14526\n",
      "2020-02-11 08:19:56 [scrapy.core.engine] DEBUG: Crawled (200) <GET https://www.ey.com/en_gl/advisory/how-forward-thinking-organizations-are-becoming-data-driven> (referer: None)\n",
      "2020-02-11 08:19:56 [scrapy.core.engine] DEBUG: Crawled (200) <GET https://www.ey.com/en_gl/advisory/how-can-risk-foresight-lead-to-ai-insight> (referer: None)\n",
      "2020-02-11 08:19:56 [scrapy.core.engine] DEBUG: Crawled (200) <GET https://www.ey.com/en_gl/advisory/how-ai-is-establishing-itself-as-the-newest-public-safety-officer> (referer: None)\n",
      "2020-02-11 08:19:56 [scrapy.core.engine] DEBUG: Crawled (200) <GET https://www.ey.com/en_gl/assurance/why-its-important-to-confront-data-integrity-risks-in-the-digital-age> (referer: None)\n",
      "2020-02-11 08:19:56 [scrapy.core.engine] DEBUG: Crawled (200) <GET https://www.ey.com/en_gl/assurance/how-artificial-intelligence-can-help-to-measure-long-term-value> (referer: None)\n",
      "2020-02-11 08:19:56 [scrapy.core.engine] DEBUG: Crawled (200) <GET https://www.ey.com/en_gl/assurance/how-to-combat-economic-crime-in-a-digital-age> (referer: None)\n",
      "2020-02-11 08:19:56 [scrapy.core.engine] DEBUG: Crawled (200) <GET https://www.ey.com/en_gl/innovation/how-to-harness-ai-power-and-energize-the-human-enterprise> (referer: None)\n",
      "2020-02-11 08:19:56 [scrapy.core.engine] DEBUG: Crawled (200) <GET https://www.ey.com/en_gl/assurance/four-ways-that-companies-can-protect-themselves-from-ai-risk> (referer: None)\n",
      "2020-02-11 08:19:56 [urllib3.connectionpool] DEBUG: Starting new HTTPS connection (1): www.ey.com:443\n"
     ]
    },
    {
     "name": "stdout",
     "output_type": "stream",
     "text": [
      "https://www.ey.com/en_gl/ai/is-ai-the-start-of-the-truly-creative-human\n"
     ]
    },
    {
     "name": "stderr",
     "output_type": "stream",
     "text": [
      "2020-02-11 08:19:56 [urllib3.connectionpool] DEBUG: https://www.ey.com:443 \"GET /en_gl/ai/is-ai-the-start-of-the-truly-creative-human HTTP/1.1\" 200 20098\n",
      "2020-02-11 08:19:57 [urllib3.connectionpool] DEBUG: Starting new HTTPS connection (1): www.ey.com:443\n"
     ]
    },
    {
     "name": "stdout",
     "output_type": "stream",
     "text": [
      "https://www.ey.com/en_gl/advisory/how-forward-thinking-organizations-are-becoming-data-driven\n"
     ]
    },
    {
     "name": "stderr",
     "output_type": "stream",
     "text": [
      "2020-02-11 08:19:57 [urllib3.connectionpool] DEBUG: https://www.ey.com:443 \"GET /en_gl/advisory/how-forward-thinking-organizations-are-becoming-data-driven HTTP/1.1\" 200 16939\n",
      "2020-02-11 08:19:58 [urllib3.connectionpool] DEBUG: Starting new HTTPS connection (1): www.ey.com:443\n"
     ]
    },
    {
     "name": "stdout",
     "output_type": "stream",
     "text": [
      "https://www.ey.com/en_gl/advisory/how-can-risk-foresight-lead-to-ai-insight\n"
     ]
    },
    {
     "name": "stderr",
     "output_type": "stream",
     "text": [
      "2020-02-11 08:19:58 [urllib3.connectionpool] DEBUG: https://www.ey.com:443 \"GET /en_gl/advisory/how-can-risk-foresight-lead-to-ai-insight HTTP/1.1\" 200 15536\n",
      "2020-02-11 08:19:59 [urllib3.connectionpool] DEBUG: Starting new HTTPS connection (1): www.ey.com:443\n"
     ]
    },
    {
     "name": "stdout",
     "output_type": "stream",
     "text": [
      "https://www.ey.com/en_gl/advisory/how-ai-is-establishing-itself-as-the-newest-public-safety-officer\n"
     ]
    },
    {
     "name": "stderr",
     "output_type": "stream",
     "text": [
      "2020-02-11 08:19:59 [urllib3.connectionpool] DEBUG: https://www.ey.com:443 \"GET /en_gl/advisory/how-ai-is-establishing-itself-as-the-newest-public-safety-officer HTTP/1.1\" 200 18660\n",
      "2020-02-11 08:19:59 [urllib3.connectionpool] DEBUG: Starting new HTTPS connection (1): www.ey.com:443\n"
     ]
    },
    {
     "name": "stdout",
     "output_type": "stream",
     "text": [
      "https://www.ey.com/en_gl/assurance/why-its-important-to-confront-data-integrity-risks-in-the-digital-age\n"
     ]
    },
    {
     "name": "stderr",
     "output_type": "stream",
     "text": [
      "2020-02-11 08:20:00 [urllib3.connectionpool] DEBUG: https://www.ey.com:443 \"GET /en_gl/assurance/why-its-important-to-confront-data-integrity-risks-in-the-digital-age HTTP/1.1\" 200 15093\n",
      "2020-02-11 08:20:00 [urllib3.connectionpool] DEBUG: Starting new HTTPS connection (1): www.ey.com:443\n"
     ]
    },
    {
     "name": "stdout",
     "output_type": "stream",
     "text": [
      "https://www.ey.com/en_gl/assurance/how-artificial-intelligence-can-help-to-measure-long-term-value\n"
     ]
    },
    {
     "name": "stderr",
     "output_type": "stream",
     "text": [
      "2020-02-11 08:20:01 [urllib3.connectionpool] DEBUG: https://www.ey.com:443 \"GET /en_gl/assurance/how-artificial-intelligence-can-help-to-measure-long-term-value HTTP/1.1\" 200 16234\n",
      "2020-02-11 08:20:01 [urllib3.connectionpool] DEBUG: Starting new HTTPS connection (1): www.ey.com:443\n"
     ]
    },
    {
     "name": "stdout",
     "output_type": "stream",
     "text": [
      "https://www.ey.com/en_gl/assurance/how-to-combat-economic-crime-in-a-digital-age\n"
     ]
    },
    {
     "name": "stderr",
     "output_type": "stream",
     "text": [
      "2020-02-11 08:20:02 [urllib3.connectionpool] DEBUG: https://www.ey.com:443 \"GET /en_gl/assurance/how-to-combat-economic-crime-in-a-digital-age HTTP/1.1\" 200 25666\n",
      "2020-02-11 08:20:02 [urllib3.connectionpool] DEBUG: Starting new HTTPS connection (1): www.ey.com:443\n"
     ]
    },
    {
     "name": "stdout",
     "output_type": "stream",
     "text": [
      "https://www.ey.com/en_gl/innovation/how-to-harness-ai-power-and-energize-the-human-enterprise\n"
     ]
    },
    {
     "name": "stderr",
     "output_type": "stream",
     "text": [
      "2020-02-11 08:20:03 [urllib3.connectionpool] DEBUG: https://www.ey.com:443 \"GET /en_gl/innovation/how-to-harness-ai-power-and-energize-the-human-enterprise HTTP/1.1\" 200 16415\n",
      "2020-02-11 08:20:03 [urllib3.connectionpool] DEBUG: Starting new HTTPS connection (1): www.ey.com:443\n"
     ]
    },
    {
     "name": "stdout",
     "output_type": "stream",
     "text": [
      "https://www.ey.com/en_gl/assurance/four-ways-that-companies-can-protect-themselves-from-ai-risk\n"
     ]
    },
    {
     "name": "stderr",
     "output_type": "stream",
     "text": [
      "2020-02-11 08:20:04 [urllib3.connectionpool] DEBUG: https://www.ey.com:443 \"GET /en_gl/assurance/four-ways-that-companies-can-protect-themselves-from-ai-risk HTTP/1.1\" 200 14547\n",
      "2020-02-11 08:20:04 [scrapy.core.engine] DEBUG: Crawled (200) <GET https://www.ey.com/en_gl/advisory/how-ai-can-help-governments-manage-their-money-better> (referer: None)\n",
      "2020-02-11 08:20:04 [scrapy.core.engine] DEBUG: Crawled (200) <GET https://www.ey.com/en_gl/tax/how-to-build-supply-chain-resilience-in-asia-pacific-operating-models> (referer: None)\n",
      "2020-02-11 08:20:04 [scrapy.core.engine] DEBUG: Crawled (200) <GET https://www.ey.com/en_gl/tax/three-questions-private-companies-must-face-to-turbocharge-growth> (referer: None)\n",
      "2020-02-11 08:20:04 [scrapy.core.engine] DEBUG: Crawled (200) <GET https://www.ey.com/en_gl/advisory/how-digital-transformation-helped-benefit-fans-and-the-bottom-line> (referer: None)\n",
      "2020-02-11 08:20:04 [scrapy.core.engine] DEBUG: Crawled (200) <GET https://www.ey.com/en_gl/innovation-financial-services/five-key-trends-illuminating-ai-s-impact-for-financial-services> (referer: None)\n",
      "2020-02-11 08:20:04 [scrapy.core.engine] DEBUG: Crawled (200) <GET https://www.ey.com/en_gl/advisory/five-design-principles-to-help-build-confidence-in-rpa-implement> (referer: None)\n",
      "2020-02-11 08:20:04 [scrapy.core.engine] DEBUG: Crawled (200) <GET https://www.ey.com/en_gl/alliances/how-ey-is-empowering-business-with-artificial-intelligence> (referer: None)\n",
      "2020-02-11 08:20:04 [scrapy.core.engine] DEBUG: Crawled (200) <GET https://www.ey.com/en_gl/alliances/how-ai-is-reshaping-the-document-review-and-processing-landscape> (referer: None)\n",
      "2020-02-11 08:20:04 [urllib3.connectionpool] DEBUG: Starting new HTTPS connection (1): www.ey.com:443\n"
     ]
    },
    {
     "name": "stdout",
     "output_type": "stream",
     "text": [
      "https://www.ey.com/en_gl/advisory/how-ai-can-help-governments-manage-their-money-better\n"
     ]
    },
    {
     "name": "stderr",
     "output_type": "stream",
     "text": [
      "2020-02-11 08:20:05 [urllib3.connectionpool] DEBUG: https://www.ey.com:443 \"GET /en_gl/advisory/how-ai-can-help-governments-manage-their-money-better HTTP/1.1\" 200 17810\n",
      "2020-02-11 08:20:05 [scrapy.core.engine] DEBUG: Crawled (200) <GET https://www.ey.com/en_gl/life-sciences/as-data-personalizes-medtech-how-will-you-serve-tomorrows-consumer> (referer: None)\n",
      "2020-02-11 08:20:05 [scrapy.core.engine] DEBUG: Crawled (200) <GET https://www.ey.com/en_gl/oil-gas/how-oil-and-gas-organizations-can-secure-buy-in-for-ai-transformation> (referer: None)\n",
      "2020-02-11 08:20:05 [scrapy.core.engine] DEBUG: Crawled (200) <GET https://www.ey.com/en_gl/oil-gas/how-ai-can-be-the-tool-that-transforms-oil-and-gas-for-the-future> (referer: None)\n",
      "2020-02-11 08:20:05 [scrapy.core.engine] DEBUG: Crawled (200) <GET https://www.ey.com/en_gl/real-estate-hospitality-construction/how-will-robots-make-buildings-more-human> (referer: None)\n",
      "2020-02-11 08:20:05 [scrapy.core.engine] DEBUG: Crawled (200) <GET https://www.ey.com/en_gl/ai/six-ways-the-cfo-can-use-artificial-intelligence-today> (referer: None)\n",
      "2020-02-11 08:20:05 [scrapy.core.engine] DEBUG: Crawled (200) <GET https://www.ey.com/en_gl/financial-services/how-to-optimize-your-intelligent-automation-build> (referer: None)\n",
      "2020-02-11 08:20:05 [scrapy.core.engine] DEBUG: Crawled (200) <GET https://www.ey.com/en_gl/financial-services/how-to-give-a-flying-start-to-your-intelligent-automation-program> (referer: None)\n",
      "2020-02-11 08:20:05 [scrapy.core.engine] DEBUG: Crawled (200) <GET https://www.ey.com/en_gl/trust/how-to-trust-the-machine--using-ai-to-combat-money-laundering> (referer: None)\n",
      "2020-02-11 08:20:05 [urllib3.connectionpool] DEBUG: Starting new HTTPS connection (1): www.ey.com:443\n"
     ]
    },
    {
     "name": "stdout",
     "output_type": "stream",
     "text": [
      "https://www.ey.com/en_gl/tax/how-to-build-supply-chain-resilience-in-asia-pacific-operating-models\n"
     ]
    },
    {
     "name": "stderr",
     "output_type": "stream",
     "text": [
      "2020-02-11 08:20:06 [urllib3.connectionpool] DEBUG: https://www.ey.com:443 \"GET /en_gl/tax/how-to-build-supply-chain-resilience-in-asia-pacific-operating-models HTTP/1.1\" 200 15933\n",
      "2020-02-11 08:20:06 [urllib3.connectionpool] DEBUG: Starting new HTTPS connection (1): www.ey.com:443\n"
     ]
    },
    {
     "name": "stdout",
     "output_type": "stream",
     "text": [
      "https://www.ey.com/en_gl/tax/three-questions-private-companies-must-face-to-turbocharge-growth\n"
     ]
    },
    {
     "name": "stderr",
     "output_type": "stream",
     "text": [
      "2020-02-11 08:20:07 [urllib3.connectionpool] DEBUG: https://www.ey.com:443 \"GET /en_gl/tax/three-questions-private-companies-must-face-to-turbocharge-growth HTTP/1.1\" 200 17763\n",
      "2020-02-11 08:20:07 [urllib3.connectionpool] DEBUG: Starting new HTTPS connection (1): www.ey.com:443\n"
     ]
    },
    {
     "name": "stdout",
     "output_type": "stream",
     "text": [
      "https://www.ey.com/en_gl/advisory/how-digital-transformation-helped-benefit-fans-and-the-bottom-line\n"
     ]
    },
    {
     "name": "stderr",
     "output_type": "stream",
     "text": [
      "2020-02-11 08:20:08 [urllib3.connectionpool] DEBUG: https://www.ey.com:443 \"GET /en_gl/advisory/how-digital-transformation-helped-benefit-fans-and-the-bottom-line HTTP/1.1\" 200 13834\n",
      "2020-02-11 08:20:08 [urllib3.connectionpool] DEBUG: Starting new HTTPS connection (1): www.ey.com:443\n"
     ]
    },
    {
     "name": "stdout",
     "output_type": "stream",
     "text": [
      "https://www.ey.com/en_gl/innovation-financial-services/five-key-trends-illuminating-ai-s-impact-for-financial-services\n"
     ]
    },
    {
     "name": "stderr",
     "output_type": "stream",
     "text": [
      "2020-02-11 08:20:09 [urllib3.connectionpool] DEBUG: https://www.ey.com:443 \"GET /en_gl/innovation-financial-services/five-key-trends-illuminating-ai-s-impact-for-financial-services HTTP/1.1\" 200 24684\n",
      "2020-02-11 08:20:09 [urllib3.connectionpool] DEBUG: Starting new HTTPS connection (1): www.ey.com:443\n"
     ]
    },
    {
     "name": "stdout",
     "output_type": "stream",
     "text": [
      "https://www.ey.com/en_gl/advisory/five-design-principles-to-help-build-confidence-in-rpa-implement\n"
     ]
    },
    {
     "name": "stderr",
     "output_type": "stream",
     "text": [
      "2020-02-11 08:20:10 [urllib3.connectionpool] DEBUG: https://www.ey.com:443 \"GET /en_gl/advisory/five-design-principles-to-help-build-confidence-in-rpa-implement HTTP/1.1\" 200 13725\n",
      "2020-02-11 08:20:10 [urllib3.connectionpool] DEBUG: Starting new HTTPS connection (1): www.ey.com:443\n"
     ]
    },
    {
     "name": "stdout",
     "output_type": "stream",
     "text": [
      "https://www.ey.com/en_gl/alliances/how-ey-is-empowering-business-with-artificial-intelligence\n"
     ]
    },
    {
     "name": "stderr",
     "output_type": "stream",
     "text": [
      "2020-02-11 08:20:11 [urllib3.connectionpool] DEBUG: https://www.ey.com:443 \"GET /en_gl/alliances/how-ey-is-empowering-business-with-artificial-intelligence HTTP/1.1\" 200 13313\n",
      "2020-02-11 08:20:11 [urllib3.connectionpool] DEBUG: Starting new HTTPS connection (1): www.ey.com:443\n"
     ]
    },
    {
     "name": "stdout",
     "output_type": "stream",
     "text": [
      "https://www.ey.com/en_gl/alliances/how-ai-is-reshaping-the-document-review-and-processing-landscape\n"
     ]
    },
    {
     "name": "stderr",
     "output_type": "stream",
     "text": [
      "2020-02-11 08:20:12 [urllib3.connectionpool] DEBUG: https://www.ey.com:443 \"GET /en_gl/alliances/how-ai-is-reshaping-the-document-review-and-processing-landscape HTTP/1.1\" 200 12893\n",
      "2020-02-11 08:20:12 [urllib3.connectionpool] DEBUG: Starting new HTTPS connection (1): www.ey.com:443\n"
     ]
    },
    {
     "name": "stdout",
     "output_type": "stream",
     "text": [
      "https://www.ey.com/en_gl/life-sciences/as-data-personalizes-medtech-how-will-you-serve-tomorrows-consumer\n"
     ]
    },
    {
     "name": "stderr",
     "output_type": "stream",
     "text": [
      "2020-02-11 08:20:13 [urllib3.connectionpool] DEBUG: https://www.ey.com:443 \"GET /en_gl/life-sciences/as-data-personalizes-medtech-how-will-you-serve-tomorrows-consumer HTTP/1.1\" 200 21258\n",
      "2020-02-11 08:20:13 [urllib3.connectionpool] DEBUG: Starting new HTTPS connection (1): www.ey.com:443\n"
     ]
    },
    {
     "name": "stdout",
     "output_type": "stream",
     "text": [
      "https://www.ey.com/en_gl/oil-gas/how-oil-and-gas-organizations-can-secure-buy-in-for-ai-transformation\n"
     ]
    },
    {
     "name": "stderr",
     "output_type": "stream",
     "text": [
      "2020-02-11 08:20:14 [urllib3.connectionpool] DEBUG: https://www.ey.com:443 \"GET /en_gl/oil-gas/how-oil-and-gas-organizations-can-secure-buy-in-for-ai-transformation HTTP/1.1\" 200 15383\n",
      "2020-02-11 08:20:14 [urllib3.connectionpool] DEBUG: Starting new HTTPS connection (1): www.ey.com:443\n"
     ]
    },
    {
     "name": "stdout",
     "output_type": "stream",
     "text": [
      "https://www.ey.com/en_gl/oil-gas/how-ai-can-be-the-tool-that-transforms-oil-and-gas-for-the-future\n"
     ]
    },
    {
     "name": "stderr",
     "output_type": "stream",
     "text": [
      "2020-02-11 08:20:15 [urllib3.connectionpool] DEBUG: https://www.ey.com:443 \"GET /en_gl/oil-gas/how-ai-can-be-the-tool-that-transforms-oil-and-gas-for-the-future HTTP/1.1\" 200 15557\n",
      "2020-02-11 08:20:15 [urllib3.connectionpool] DEBUG: Starting new HTTPS connection (1): www.ey.com:443\n"
     ]
    },
    {
     "name": "stdout",
     "output_type": "stream",
     "text": [
      "https://www.ey.com/en_gl/real-estate-hospitality-construction/how-will-robots-make-buildings-more-human\n"
     ]
    },
    {
     "name": "stderr",
     "output_type": "stream",
     "text": [
      "2020-02-11 08:20:16 [urllib3.connectionpool] DEBUG: https://www.ey.com:443 \"GET /en_gl/real-estate-hospitality-construction/how-will-robots-make-buildings-more-human HTTP/1.1\" 200 16768\n",
      "2020-02-11 08:20:16 [urllib3.connectionpool] DEBUG: Starting new HTTPS connection (1): www.ey.com:443\n"
     ]
    },
    {
     "name": "stdout",
     "output_type": "stream",
     "text": [
      "https://www.ey.com/en_gl/ai/six-ways-the-cfo-can-use-artificial-intelligence-today\n"
     ]
    },
    {
     "name": "stderr",
     "output_type": "stream",
     "text": [
      "2020-02-11 08:20:17 [urllib3.connectionpool] DEBUG: https://www.ey.com:443 \"GET /en_gl/ai/six-ways-the-cfo-can-use-artificial-intelligence-today HTTP/1.1\" 200 18672\n",
      "2020-02-11 08:20:17 [urllib3.connectionpool] DEBUG: Starting new HTTPS connection (1): www.ey.com:443\n"
     ]
    },
    {
     "name": "stdout",
     "output_type": "stream",
     "text": [
      "https://www.ey.com/en_gl/financial-services/how-to-optimize-your-intelligent-automation-build\n"
     ]
    },
    {
     "name": "stderr",
     "output_type": "stream",
     "text": [
      "2020-02-11 08:20:18 [urllib3.connectionpool] DEBUG: https://www.ey.com:443 \"GET /en_gl/financial-services/how-to-optimize-your-intelligent-automation-build HTTP/1.1\" 200 14242\n",
      "2020-02-11 08:20:18 [urllib3.connectionpool] DEBUG: Starting new HTTPS connection (1): www.ey.com:443\n"
     ]
    },
    {
     "name": "stdout",
     "output_type": "stream",
     "text": [
      "https://www.ey.com/en_gl/financial-services/how-to-give-a-flying-start-to-your-intelligent-automation-program\n"
     ]
    },
    {
     "name": "stderr",
     "output_type": "stream",
     "text": [
      "2020-02-11 08:20:19 [urllib3.connectionpool] DEBUG: https://www.ey.com:443 \"GET /en_gl/financial-services/how-to-give-a-flying-start-to-your-intelligent-automation-program HTTP/1.1\" 200 14233\n",
      "2020-02-11 08:20:19 [urllib3.connectionpool] DEBUG: Starting new HTTPS connection (1): www.ey.com:443\n"
     ]
    },
    {
     "name": "stdout",
     "output_type": "stream",
     "text": [
      "https://www.ey.com/en_gl/trust/how-to-trust-the-machine--using-ai-to-combat-money-laundering\n"
     ]
    },
    {
     "name": "stderr",
     "output_type": "stream",
     "text": [
      "2020-02-11 08:20:20 [urllib3.connectionpool] DEBUG: https://www.ey.com:443 \"GET /en_gl/trust/how-to-trust-the-machine--using-ai-to-combat-money-laundering HTTP/1.1\" 200 19590\n",
      "2020-02-11 08:20:20 [scrapy.core.engine] DEBUG: Crawled (200) <GET https://www.ey.com/en_gl/government-public-sector/how-to-build-the-digital-state> (referer: None)\n",
      "2020-02-11 08:20:20 [scrapy.core.engine] DEBUG: Crawled (200) <GET https://www.ey.com/en_gl/insurance/three-ways-ai-will-transform-the-insurance-industry> (referer: None)\n",
      "2020-02-11 08:20:20 [scrapy.core.engine] DEBUG: Crawled (200) <GET https://www.ey.com/en_gl/innovation/how-ai-is-transforming-business-right-now> (referer: None)\n",
      "2020-02-11 08:20:20 [scrapy.core.engine] DEBUG: Crawled (200) <GET https://www.ey.com/en_gl/advisory/how-ai-is-automating-intelligently> (referer: None)\n",
      "2020-02-11 08:20:20 [scrapy.core.engine] DEBUG: Crawled (200) <GET https://www.ey.com/en_gl/tax/how-a-fit-tax-function-operates-like-a-healthy-body> (referer: None)\n",
      "2020-02-11 08:20:20 [urllib3.connectionpool] DEBUG: Starting new HTTPS connection (1): www.ey.com:443\n"
     ]
    },
    {
     "name": "stdout",
     "output_type": "stream",
     "text": [
      "https://www.ey.com/en_gl/government-public-sector/how-to-build-the-digital-state\n"
     ]
    },
    {
     "name": "stderr",
     "output_type": "stream",
     "text": [
      "2020-02-11 08:20:21 [urllib3.connectionpool] DEBUG: https://www.ey.com:443 \"GET /en_gl/government-public-sector/how-to-build-the-digital-state HTTP/1.1\" 200 21671\n",
      "2020-02-11 08:20:21 [scrapy.core.engine] DEBUG: Crawled (200) <GET https://www.ey.com/en_gl/advisory/how-organizations-can-calibrate-to-trust-iot-sensors> (referer: None)\n",
      "2020-02-11 08:20:21 [scrapy.core.engine] DEBUG: Crawled (200) <GET https://www.ey.com/en_gl/advisory/how-blockchain-can-impact-the-intellectual-property-life-cycle> (referer: None)\n",
      "2020-02-11 08:20:21 [scrapy.core.engine] DEBUG: Crawled (200) <GET https://www.ey.com/en_gl/advisory/how-to-prepare-for-adopting-advanced-technology-at-scale> (referer: None)\n",
      "2020-02-11 08:20:21 [scrapy.core.engine] DEBUG: Crawled (200) <GET https://www.ey.com/en_gl/assurance/why-success-ai-audit-starts-with-asking-right-questions> (referer: None)\n",
      "2020-02-11 08:20:21 [scrapy.core.engine] DEBUG: Crawled (200) <GET https://www.ey.com/en_gl/oil-gas/how-digitalization-can-streamline-oil-and-gas-operations> (referer: None)\n",
      "2020-02-11 08:20:21 [scrapy.core.engine] DEBUG: Crawled (200) <GET https://www.ey.com/en_gl/advisory/how-ai-can-help-defense-organizations-become-smarter-simpler-and-stronger> (referer: None)\n",
      "2020-02-11 08:20:21 [scrapy.core.engine] DEBUG: Crawled (200) <GET https://www.ey.com/en_gl/tax/how-ai-and-robotics-may-change-tax-job-duties> (referer: None)\n",
      "2020-02-11 08:20:21 [scrapy.core.engine] DEBUG: Crawled (200) <GET https://www.ey.com/en_gl/innovation/how-ceos-can-prepare-for-the-unpredictable> (referer: None)\n",
      "2020-02-11 08:20:21 [urllib3.connectionpool] DEBUG: Starting new HTTPS connection (1): www.ey.com:443\n"
     ]
    },
    {
     "name": "stdout",
     "output_type": "stream",
     "text": [
      "https://www.ey.com/en_gl/insurance/three-ways-ai-will-transform-the-insurance-industry\n"
     ]
    },
    {
     "name": "stderr",
     "output_type": "stream",
     "text": [
      "2020-02-11 08:20:22 [urllib3.connectionpool] DEBUG: https://www.ey.com:443 \"GET /en_gl/insurance/three-ways-ai-will-transform-the-insurance-industry HTTP/1.1\" 200 18327\n",
      "2020-02-11 08:20:22 [urllib3.connectionpool] DEBUG: Starting new HTTPS connection (1): www.ey.com:443\n"
     ]
    },
    {
     "name": "stdout",
     "output_type": "stream",
     "text": [
      "https://www.ey.com/en_gl/innovation/how-ai-is-transforming-business-right-now\n"
     ]
    },
    {
     "name": "stderr",
     "output_type": "stream",
     "text": [
      "2020-02-11 08:20:23 [urllib3.connectionpool] DEBUG: https://www.ey.com:443 \"GET /en_gl/innovation/how-ai-is-transforming-business-right-now HTTP/1.1\" 200 13184\n",
      "2020-02-11 08:20:23 [urllib3.connectionpool] DEBUG: Starting new HTTPS connection (1): www.ey.com:443\n"
     ]
    },
    {
     "name": "stdout",
     "output_type": "stream",
     "text": [
      "https://www.ey.com/en_gl/advisory/how-ai-is-automating-intelligently\n"
     ]
    },
    {
     "name": "stderr",
     "output_type": "stream",
     "text": [
      "2020-02-11 08:20:24 [urllib3.connectionpool] DEBUG: https://www.ey.com:443 \"GET /en_gl/advisory/how-ai-is-automating-intelligently HTTP/1.1\" 200 15353\n",
      "2020-02-11 08:20:24 [urllib3.connectionpool] DEBUG: Starting new HTTPS connection (1): www.ey.com:443\n"
     ]
    },
    {
     "name": "stdout",
     "output_type": "stream",
     "text": [
      "https://www.ey.com/en_gl/tax/how-a-fit-tax-function-operates-like-a-healthy-body\n"
     ]
    },
    {
     "name": "stderr",
     "output_type": "stream",
     "text": [
      "2020-02-11 08:20:25 [urllib3.connectionpool] DEBUG: https://www.ey.com:443 \"GET /en_gl/tax/how-a-fit-tax-function-operates-like-a-healthy-body HTTP/1.1\" 200 16714\n",
      "2020-02-11 08:20:25 [urllib3.connectionpool] DEBUG: Starting new HTTPS connection (1): www.ey.com:443\n"
     ]
    },
    {
     "name": "stdout",
     "output_type": "stream",
     "text": [
      "https://www.ey.com/en_gl/advisory/how-organizations-can-calibrate-to-trust-iot-sensors\n"
     ]
    },
    {
     "name": "stderr",
     "output_type": "stream",
     "text": [
      "2020-02-11 08:20:26 [urllib3.connectionpool] DEBUG: https://www.ey.com:443 \"GET /en_gl/advisory/how-organizations-can-calibrate-to-trust-iot-sensors HTTP/1.1\" 200 15788\n",
      "2020-02-11 08:20:26 [urllib3.connectionpool] DEBUG: Starting new HTTPS connection (1): www.ey.com:443\n"
     ]
    },
    {
     "name": "stdout",
     "output_type": "stream",
     "text": [
      "https://www.ey.com/en_gl/advisory/how-blockchain-can-impact-the-intellectual-property-life-cycle\n"
     ]
    },
    {
     "name": "stderr",
     "output_type": "stream",
     "text": [
      "2020-02-11 08:20:27 [urllib3.connectionpool] DEBUG: https://www.ey.com:443 \"GET /en_gl/advisory/how-blockchain-can-impact-the-intellectual-property-life-cycle HTTP/1.1\" 200 15118\n",
      "2020-02-11 08:20:27 [urllib3.connectionpool] DEBUG: Starting new HTTPS connection (1): www.ey.com:443\n"
     ]
    },
    {
     "name": "stdout",
     "output_type": "stream",
     "text": [
      "https://www.ey.com/en_gl/advisory/how-to-prepare-for-adopting-advanced-technology-at-scale\n"
     ]
    },
    {
     "name": "stderr",
     "output_type": "stream",
     "text": [
      "2020-02-11 08:20:27 [urllib3.connectionpool] DEBUG: https://www.ey.com:443 \"GET /en_gl/advisory/how-to-prepare-for-adopting-advanced-technology-at-scale HTTP/1.1\" 200 13868\n",
      "2020-02-11 08:20:27 [urllib3.connectionpool] DEBUG: Starting new HTTPS connection (1): www.ey.com:443\n"
     ]
    },
    {
     "name": "stdout",
     "output_type": "stream",
     "text": [
      "https://www.ey.com/en_gl/assurance/why-success-ai-audit-starts-with-asking-right-questions\n"
     ]
    },
    {
     "name": "stderr",
     "output_type": "stream",
     "text": [
      "2020-02-11 08:20:28 [urllib3.connectionpool] DEBUG: https://www.ey.com:443 \"GET /en_gl/assurance/why-success-ai-audit-starts-with-asking-right-questions HTTP/1.1\" 200 14430\n",
      "2020-02-11 08:20:28 [urllib3.connectionpool] DEBUG: Starting new HTTPS connection (1): www.ey.com:443\n"
     ]
    },
    {
     "name": "stdout",
     "output_type": "stream",
     "text": [
      "https://www.ey.com/en_gl/oil-gas/how-digitalization-can-streamline-oil-and-gas-operations\n"
     ]
    },
    {
     "name": "stderr",
     "output_type": "stream",
     "text": [
      "2020-02-11 08:20:29 [urllib3.connectionpool] DEBUG: https://www.ey.com:443 \"GET /en_gl/oil-gas/how-digitalization-can-streamline-oil-and-gas-operations HTTP/1.1\" 200 12705\n",
      "2020-02-11 08:20:29 [urllib3.connectionpool] DEBUG: Starting new HTTPS connection (1): www.ey.com:443\n"
     ]
    },
    {
     "name": "stdout",
     "output_type": "stream",
     "text": [
      "https://www.ey.com/en_gl/advisory/how-ai-can-help-defense-organizations-become-smarter-simpler-and-stronger\n"
     ]
    },
    {
     "name": "stderr",
     "output_type": "stream",
     "text": [
      "2020-02-11 08:20:30 [urllib3.connectionpool] DEBUG: https://www.ey.com:443 \"GET /en_gl/advisory/how-ai-can-help-defense-organizations-become-smarter-simpler-and-stronger HTTP/1.1\" 200 16021\n",
      "2020-02-11 08:20:30 [urllib3.connectionpool] DEBUG: Starting new HTTPS connection (1): www.ey.com:443\n"
     ]
    },
    {
     "name": "stdout",
     "output_type": "stream",
     "text": [
      "https://www.ey.com/en_gl/tax/how-ai-and-robotics-may-change-tax-job-duties\n"
     ]
    },
    {
     "name": "stderr",
     "output_type": "stream",
     "text": [
      "2020-02-11 08:20:31 [urllib3.connectionpool] DEBUG: https://www.ey.com:443 \"GET /en_gl/tax/how-ai-and-robotics-may-change-tax-job-duties HTTP/1.1\" 200 16027\n",
      "2020-02-11 08:20:31 [urllib3.connectionpool] DEBUG: Starting new HTTPS connection (1): www.ey.com:443\n"
     ]
    },
    {
     "name": "stdout",
     "output_type": "stream",
     "text": [
      "https://www.ey.com/en_gl/innovation/how-ceos-can-prepare-for-the-unpredictable\n"
     ]
    },
    {
     "name": "stderr",
     "output_type": "stream",
     "text": [
      "2020-02-11 08:20:32 [urllib3.connectionpool] DEBUG: https://www.ey.com:443 \"GET /en_gl/innovation/how-ceos-can-prepare-for-the-unpredictable HTTP/1.1\" 200 13244\n",
      "2020-02-11 08:20:32 [scrapy.core.engine] DEBUG: Crawled (200) <GET https://www.ey.com/en_gl/oil-gas/does-ai-have-the-power-to-refine-oil-and-gas-efficiency> (referer: None)\n",
      "2020-02-11 08:20:32 [scrapy.core.engine] DEBUG: Crawled (200) <GET https://www.ey.com/en_gl/disruption/is-the-next-big-thing-in-manufacturing-the-molecule> (referer: None)\n",
      "2020-02-11 08:20:32 [scrapy.core.engine] DEBUG: Crawled (200) <GET https://www.ey.com/en_gl/assurance/blind-curve-or-ahead-of-the-curve> (referer: None)\n",
      "2020-02-11 08:20:32 [scrapy.core.engine] DEBUG: Crawled (200) <GET https://www.ey.com/en_gl/board-matters/when-your-board-champions-ai-will-you-win-the-future-consumer> (referer: None)\n",
      "2020-02-11 08:20:32 [scrapy.core.engine] DEBUG: Crawled (200) <GET https://www.ey.com/en_gl/alumni/how-to-bank-the-unbanked> (referer: None)\n",
      "2020-02-11 08:20:32 [scrapy.core.engine] DEBUG: Crawled (200) <GET https://www.ey.com/en_gl/advisory/inspiring-confidence-in-the-transformative-age> (referer: None)\n",
      "2020-02-11 08:20:32 [scrapy.core.engine] DEBUG: Crawled (200) <GET https://www.ey.com/en_gl/advisory/is-talent-redefining-gbs-or-is-gbs-transforming-talent> (referer: None)\n",
      "2020-02-11 08:20:32 [scrapy.core.engine] DEBUG: Crawled (200) <GET https://www.ey.com/en_gl/advisory/how-do-you-drive-your-digital-transformation-without-the-right-engine> (referer: None)\n",
      "2020-02-11 08:20:32 [urllib3.connectionpool] DEBUG: Starting new HTTPS connection (1): www.ey.com:443\n"
     ]
    },
    {
     "name": "stdout",
     "output_type": "stream",
     "text": [
      "https://www.ey.com/en_gl/oil-gas/does-ai-have-the-power-to-refine-oil-and-gas-efficiency\n"
     ]
    },
    {
     "name": "stderr",
     "output_type": "stream",
     "text": [
      "2020-02-11 08:20:33 [urllib3.connectionpool] DEBUG: https://www.ey.com:443 \"GET /en_gl/oil-gas/does-ai-have-the-power-to-refine-oil-and-gas-efficiency HTTP/1.1\" 200 15085\n",
      "2020-02-11 08:20:33 [scrapy.core.engine] DEBUG: Crawled (200) <GET https://www.ey.com/en_gl/advisory/whats-stopping-iot-from-powering-the-future> (referer: None)\n",
      "2020-02-11 08:20:33 [scrapy.core.engine] DEBUG: Crawled (200) <GET https://www.ey.com/en_gl/tax/how-ai-looks-to-upend-the-tax-function-s-80-20-rule> (referer: None)\n",
      "2020-02-11 08:20:33 [scrapy.core.engine] DEBUG: Crawled (200) <GET https://www.ey.com/en_gl/innovation/what-is-intelligence-without-trust-> (referer: None)\n",
      "2020-02-11 08:20:33 [scrapy.core.engine] DEBUG: Crawled (200) <GET https://www.ey.com/en_gl/government-public-sector/how-does-digital-government-become-better-government> (referer: None)\n",
      "2020-02-11 08:20:33 [scrapy.core.engine] DEBUG: Crawled (200) <GET https://www.ey.com/en_gl/innovation-realized/how-to-keep-it-human-in-the-machine-age> (referer: None)\n",
      "2020-02-11 08:20:33 [scrapy.core.engine] DEBUG: Crawled (200) <GET https://www.ey.com/en_gl/innovation-realized/five-predictions-for-what-human-capital-will-mean-for-ceos-in-the-future-workforce> (referer: None)\n",
      "2020-02-11 08:20:33 [scrapy.core.engine] DEBUG: Crawled (200) <GET https://www.ey.com/en_gl/assurance/how-the-technology-sector-can-help-society-seize-the-upside-of-disruption> (referer: None)\n",
      "2020-02-11 08:20:33 [scrapy.core.engine] DEBUG: Crawled (200) <GET https://www.ey.com/en_gl/government-public-sector/welcome-to-e-stonia-a-digital-pioneer-stakes-a-claim-in-ai-s-landscape> (referer: None)\n",
      "2020-02-11 08:20:33 [urllib3.connectionpool] DEBUG: Starting new HTTPS connection (1): www.ey.com:443\n"
     ]
    },
    {
     "name": "stdout",
     "output_type": "stream",
     "text": [
      "https://www.ey.com/en_gl/disruption/is-the-next-big-thing-in-manufacturing-the-molecule\n"
     ]
    },
    {
     "name": "stderr",
     "output_type": "stream",
     "text": [
      "2020-02-11 08:20:34 [urllib3.connectionpool] DEBUG: https://www.ey.com:443 \"GET /en_gl/disruption/is-the-next-big-thing-in-manufacturing-the-molecule HTTP/1.1\" 200 18602\n",
      "2020-02-11 08:20:34 [urllib3.connectionpool] DEBUG: Starting new HTTPS connection (1): www.ey.com:443\n"
     ]
    },
    {
     "name": "stdout",
     "output_type": "stream",
     "text": [
      "https://www.ey.com/en_gl/assurance/blind-curve-or-ahead-of-the-curve\n"
     ]
    },
    {
     "name": "stderr",
     "output_type": "stream",
     "text": [
      "2020-02-11 08:20:35 [urllib3.connectionpool] DEBUG: https://www.ey.com:443 \"GET /en_gl/assurance/blind-curve-or-ahead-of-the-curve HTTP/1.1\" 200 18554\n",
      "2020-02-11 08:20:36 [urllib3.connectionpool] DEBUG: Starting new HTTPS connection (1): www.ey.com:443\n"
     ]
    },
    {
     "name": "stdout",
     "output_type": "stream",
     "text": [
      "https://www.ey.com/en_gl/board-matters/when-your-board-champions-ai-will-you-win-the-future-consumer\n"
     ]
    },
    {
     "name": "stderr",
     "output_type": "stream",
     "text": [
      "2020-02-11 08:20:36 [urllib3.connectionpool] DEBUG: https://www.ey.com:443 \"GET /en_gl/board-matters/when-your-board-champions-ai-will-you-win-the-future-consumer HTTP/1.1\" 200 15534\n",
      "2020-02-11 08:20:37 [urllib3.connectionpool] DEBUG: Starting new HTTPS connection (1): www.ey.com:443\n"
     ]
    },
    {
     "name": "stdout",
     "output_type": "stream",
     "text": [
      "https://www.ey.com/en_gl/alumni/how-to-bank-the-unbanked\n"
     ]
    },
    {
     "name": "stderr",
     "output_type": "stream",
     "text": [
      "2020-02-11 08:20:37 [urllib3.connectionpool] DEBUG: https://www.ey.com:443 \"GET /en_gl/alumni/how-to-bank-the-unbanked HTTP/1.1\" 200 12511\n",
      "2020-02-11 08:20:37 [urllib3.connectionpool] DEBUG: Starting new HTTPS connection (1): www.ey.com:443\n"
     ]
    },
    {
     "name": "stdout",
     "output_type": "stream",
     "text": [
      "https://www.ey.com/en_gl/advisory/inspiring-confidence-in-the-transformative-age\n"
     ]
    },
    {
     "name": "stderr",
     "output_type": "stream",
     "text": [
      "2020-02-11 08:20:38 [urllib3.connectionpool] DEBUG: https://www.ey.com:443 \"GET /en_gl/advisory/inspiring-confidence-in-the-transformative-age HTTP/1.1\" 200 15167\n",
      "2020-02-11 08:20:38 [urllib3.connectionpool] DEBUG: Starting new HTTPS connection (1): www.ey.com:443\n"
     ]
    },
    {
     "name": "stdout",
     "output_type": "stream",
     "text": [
      "https://www.ey.com/en_gl/advisory/is-talent-redefining-gbs-or-is-gbs-transforming-talent\n"
     ]
    },
    {
     "name": "stderr",
     "output_type": "stream",
     "text": [
      "2020-02-11 08:20:39 [urllib3.connectionpool] DEBUG: https://www.ey.com:443 \"GET /en_gl/advisory/is-talent-redefining-gbs-or-is-gbs-transforming-talent HTTP/1.1\" 200 14556\n",
      "2020-02-11 08:20:39 [urllib3.connectionpool] DEBUG: Starting new HTTPS connection (1): www.ey.com:443\n"
     ]
    },
    {
     "name": "stdout",
     "output_type": "stream",
     "text": [
      "https://www.ey.com/en_gl/advisory/how-do-you-drive-your-digital-transformation-without-the-right-engine\n"
     ]
    },
    {
     "name": "stderr",
     "output_type": "stream",
     "text": [
      "2020-02-11 08:20:40 [urllib3.connectionpool] DEBUG: https://www.ey.com:443 \"GET /en_gl/advisory/how-do-you-drive-your-digital-transformation-without-the-right-engine HTTP/1.1\" 200 15506\n",
      "2020-02-11 08:20:40 [urllib3.connectionpool] DEBUG: Starting new HTTPS connection (1): www.ey.com:443\n"
     ]
    },
    {
     "name": "stdout",
     "output_type": "stream",
     "text": [
      "https://www.ey.com/en_gl/advisory/whats-stopping-iot-from-powering-the-future\n"
     ]
    },
    {
     "name": "stderr",
     "output_type": "stream",
     "text": [
      "2020-02-11 08:20:41 [urllib3.connectionpool] DEBUG: https://www.ey.com:443 \"GET /en_gl/advisory/whats-stopping-iot-from-powering-the-future HTTP/1.1\" 200 15261\n",
      "2020-02-11 08:20:41 [urllib3.connectionpool] DEBUG: Starting new HTTPS connection (1): www.ey.com:443\n"
     ]
    },
    {
     "name": "stdout",
     "output_type": "stream",
     "text": [
      "https://www.ey.com/en_gl/tax/how-ai-looks-to-upend-the-tax-function-s-80-20-rule\n"
     ]
    },
    {
     "name": "stderr",
     "output_type": "stream",
     "text": [
      "2020-02-11 08:20:42 [urllib3.connectionpool] DEBUG: https://www.ey.com:443 \"GET /en_gl/tax/how-ai-looks-to-upend-the-tax-function-s-80-20-rule HTTP/1.1\" 200 16415\n",
      "2020-02-11 08:20:42 [urllib3.connectionpool] DEBUG: Starting new HTTPS connection (1): www.ey.com:443\n"
     ]
    },
    {
     "name": "stdout",
     "output_type": "stream",
     "text": [
      "https://www.ey.com/en_gl/innovation/what-is-intelligence-without-trust-\n"
     ]
    },
    {
     "name": "stderr",
     "output_type": "stream",
     "text": [
      "2020-02-11 08:20:43 [urllib3.connectionpool] DEBUG: https://www.ey.com:443 \"GET /en_gl/innovation/what-is-intelligence-without-trust- HTTP/1.1\" 200 16211\n",
      "2020-02-11 08:20:43 [urllib3.connectionpool] DEBUG: Starting new HTTPS connection (1): www.ey.com:443\n"
     ]
    },
    {
     "name": "stdout",
     "output_type": "stream",
     "text": [
      "https://www.ey.com/en_gl/government-public-sector/how-does-digital-government-become-better-government\n"
     ]
    },
    {
     "name": "stderr",
     "output_type": "stream",
     "text": [
      "2020-02-11 08:20:44 [urllib3.connectionpool] DEBUG: https://www.ey.com:443 \"GET /en_gl/government-public-sector/how-does-digital-government-become-better-government HTTP/1.1\" 200 23594\n",
      "2020-02-11 08:20:44 [urllib3.connectionpool] DEBUG: Starting new HTTPS connection (1): www.ey.com:443\n"
     ]
    },
    {
     "name": "stdout",
     "output_type": "stream",
     "text": [
      "https://www.ey.com/en_gl/innovation-realized/how-to-keep-it-human-in-the-machine-age\n"
     ]
    },
    {
     "name": "stderr",
     "output_type": "stream",
     "text": [
      "2020-02-11 08:20:45 [urllib3.connectionpool] DEBUG: https://www.ey.com:443 \"GET /en_gl/innovation-realized/how-to-keep-it-human-in-the-machine-age HTTP/1.1\" 200 15227\n",
      "2020-02-11 08:20:45 [urllib3.connectionpool] DEBUG: Starting new HTTPS connection (1): www.ey.com:443\n"
     ]
    },
    {
     "name": "stdout",
     "output_type": "stream",
     "text": [
      "https://www.ey.com/en_gl/innovation-realized/five-predictions-for-what-human-capital-will-mean-for-ceos-in-the-future-workforce\n"
     ]
    },
    {
     "name": "stderr",
     "output_type": "stream",
     "text": [
      "2020-02-11 08:20:46 [urllib3.connectionpool] DEBUG: https://www.ey.com:443 \"GET /en_gl/innovation-realized/five-predictions-for-what-human-capital-will-mean-for-ceos-in-the-future-workforce HTTP/1.1\" 200 15221\n",
      "2020-02-11 08:20:46 [urllib3.connectionpool] DEBUG: Starting new HTTPS connection (1): www.ey.com:443\n"
     ]
    },
    {
     "name": "stdout",
     "output_type": "stream",
     "text": [
      "https://www.ey.com/en_gl/assurance/how-the-technology-sector-can-help-society-seize-the-upside-of-disruption\n"
     ]
    },
    {
     "name": "stderr",
     "output_type": "stream",
     "text": [
      "2020-02-11 08:20:47 [urllib3.connectionpool] DEBUG: https://www.ey.com:443 \"GET /en_gl/assurance/how-the-technology-sector-can-help-society-seize-the-upside-of-disruption HTTP/1.1\" 200 16833\n",
      "2020-02-11 08:20:47 [urllib3.connectionpool] DEBUG: Starting new HTTPS connection (1): www.ey.com:443\n"
     ]
    },
    {
     "name": "stdout",
     "output_type": "stream",
     "text": [
      "https://www.ey.com/en_gl/government-public-sector/welcome-to-e-stonia-a-digital-pioneer-stakes-a-claim-in-ai-s-landscape\n"
     ]
    },
    {
     "name": "stderr",
     "output_type": "stream",
     "text": [
      "2020-02-11 08:20:48 [urllib3.connectionpool] DEBUG: https://www.ey.com:443 \"GET /en_gl/government-public-sector/welcome-to-e-stonia-a-digital-pioneer-stakes-a-claim-in-ai-s-landscape HTTP/1.1\" 200 15300\n",
      "2020-02-11 08:20:48 [scrapy.core.engine] DEBUG: Crawled (200) <GET https://www.ey.com/en_gl/advisory/how-you-can-turn-emerging-technology-into-a-competitive-advantage> (referer: None)\n",
      "2020-02-11 08:20:48 [scrapy.core.engine] DEBUG: Crawled (200) <GET https://www.ey.com/en_gl/advisory/how-businesses-can-harness-multiple-emerging-technologies> (referer: None)\n",
      "2020-02-11 08:20:48 [scrapy.core.engine] DEBUG: Crawled (200) <GET https://www.ey.com/en_gl/advisory/how-organizations-can-plug-into-the-future-of-tech-innovation> (referer: None)\n",
      "2020-02-11 08:20:48 [scrapy.core.engine] DEBUG: Crawled (200) <GET https://www.ey.com/en_gl/wef/why-we-need-to-solve-the-issue-of-gender-bias-before-ai-makes-it> (referer: None)\n",
      "2020-02-11 08:20:48 [scrapy.core.engine] DEBUG: Crawled (200) <GET https://www.ey.com/en_gl/digital-audit/audit-digitization-transformative-age> (referer: None)\n",
      "2020-02-11 08:20:48 [scrapy.core.engine] DEBUG: Crawled (200) <GET https://www.ey.com/en_gl/tmt/how-we-can-unlock-the-power-of-data-to-redefine-health> (referer: None)\n",
      "2020-02-11 08:20:48 [scrapy.core.engine] DEBUG: Crawled (200) <GET https://www.ey.com/en_gl/women-fast-forward/why-ai-could-correct-the-gender-imbalance-right-up-to-the-boardroom> (referer: None)\n",
      "2020-02-11 08:20:48 [scrapy.core.engine] DEBUG: Crawled (200) <GET https://www.ey.com/en_gl/tmt/how-brands-can-attract-and-keep-customers-in-micro-moments> (referer: None)\n",
      "2020-02-11 08:20:48 [urllib3.connectionpool] DEBUG: Starting new HTTPS connection (1): www.ey.com:443\n"
     ]
    },
    {
     "name": "stdout",
     "output_type": "stream",
     "text": [
      "https://www.ey.com/en_gl/advisory/how-you-can-turn-emerging-technology-into-a-competitive-advantage\n"
     ]
    },
    {
     "name": "stderr",
     "output_type": "stream",
     "text": [
      "2020-02-11 08:20:49 [urllib3.connectionpool] DEBUG: https://www.ey.com:443 \"GET /en_gl/advisory/how-you-can-turn-emerging-technology-into-a-competitive-advantage HTTP/1.1\" 200 16711\n",
      "2020-02-11 08:20:49 [scrapy.core.engine] DEBUG: Crawled (200) <GET https://www.ey.com/en_gl/tmt/how-tmt-companies-can-catch-the-next-wave-when-future-markets-dont-yet-exist> (referer: None)\n",
      "2020-02-11 08:20:49 [scrapy.core.engine] DEBUG: Crawled (200) <GET https://www.ey.com/en_gl/advisory/how-ai-can-be-a-force-for-good-in-government> (referer: None)\n",
      "2020-02-11 08:20:49 [scrapy.core.engine] DEBUG: Crawled (200) <GET https://www.ey.com/en_gl/government-public-sector/how-global-macroeconomics-might-shape-policy-in-2019> (referer: None)\n",
      "2020-02-11 08:20:49 [scrapy.core.engine] DEBUG: Crawled (200) <GET https://www.ey.com/en_gl/advisory/how-to-manage-the-evolving-risks-of-emerging-technology> (referer: None)\n",
      "2020-02-11 08:20:49 [scrapy.core.engine] DEBUG: Crawled (200) <GET https://www.ey.com/en_gl/ai/three-ways-to-protect-your-ai-investment-from-a-winter-of-discontent> (referer: None)\n",
      "2020-02-11 08:20:49 [scrapy.core.engine] DEBUG: Crawled (200) <GET https://www.ey.com/en_gl/disruption/behavioral-design-megatrend> (referer: None)\n",
      "2020-02-11 08:20:49 [scrapy.core.engine] DEBUG: Crawled (200) <GET https://www.ey.com/en_gl/wef/how-to-embrace-ai-responsibly-and-make-it-inclusive> (referer: None)\n",
      "2020-02-11 08:20:49 [scrapy.core.engine] DEBUG: Crawled (200) <GET https://www.ey.com/en_gl/oil-gas/is-ai-the-fuel-oil-and-gas-needs> (referer: None)\n",
      "2020-02-11 08:20:49 [urllib3.connectionpool] DEBUG: Starting new HTTPS connection (1): www.ey.com:443\n"
     ]
    },
    {
     "name": "stdout",
     "output_type": "stream",
     "text": [
      "https://www.ey.com/en_gl/advisory/how-businesses-can-harness-multiple-emerging-technologies\n"
     ]
    },
    {
     "name": "stderr",
     "output_type": "stream",
     "text": [
      "2020-02-11 08:20:50 [urllib3.connectionpool] DEBUG: https://www.ey.com:443 \"GET /en_gl/advisory/how-businesses-can-harness-multiple-emerging-technologies HTTP/1.1\" 200 14463\n",
      "2020-02-11 08:20:50 [urllib3.connectionpool] DEBUG: Starting new HTTPS connection (1): www.ey.com:443\n"
     ]
    },
    {
     "name": "stdout",
     "output_type": "stream",
     "text": [
      "https://www.ey.com/en_gl/advisory/how-organizations-can-plug-into-the-future-of-tech-innovation\n"
     ]
    },
    {
     "name": "stderr",
     "output_type": "stream",
     "text": [
      "2020-02-11 08:20:51 [urllib3.connectionpool] DEBUG: https://www.ey.com:443 \"GET /en_gl/advisory/how-organizations-can-plug-into-the-future-of-tech-innovation HTTP/1.1\" 200 16533\n",
      "2020-02-11 08:20:51 [urllib3.connectionpool] DEBUG: Starting new HTTPS connection (1): www.ey.com:443\n"
     ]
    },
    {
     "name": "stdout",
     "output_type": "stream",
     "text": [
      "https://www.ey.com/en_gl/wef/why-we-need-to-solve-the-issue-of-gender-bias-before-ai-makes-it\n"
     ]
    },
    {
     "name": "stderr",
     "output_type": "stream",
     "text": [
      "2020-02-11 08:20:52 [urllib3.connectionpool] DEBUG: https://www.ey.com:443 \"GET /en_gl/wef/why-we-need-to-solve-the-issue-of-gender-bias-before-ai-makes-it HTTP/1.1\" 200 15234\n",
      "2020-02-11 08:20:52 [urllib3.connectionpool] DEBUG: Starting new HTTPS connection (1): www.ey.com:443\n"
     ]
    },
    {
     "name": "stdout",
     "output_type": "stream",
     "text": [
      "https://www.ey.com/en_gl/digital-audit/audit-digitization-transformative-age\n"
     ]
    },
    {
     "name": "stderr",
     "output_type": "stream",
     "text": [
      "2020-02-11 08:20:53 [urllib3.connectionpool] DEBUG: https://www.ey.com:443 \"GET /en_gl/digital-audit/audit-digitization-transformative-age HTTP/1.1\" 200 13432\n",
      "2020-02-11 08:20:53 [urllib3.connectionpool] DEBUG: Starting new HTTPS connection (1): www.ey.com:443\n"
     ]
    },
    {
     "name": "stdout",
     "output_type": "stream",
     "text": [
      "https://www.ey.com/en_gl/tmt/how-we-can-unlock-the-power-of-data-to-redefine-health\n"
     ]
    },
    {
     "name": "stderr",
     "output_type": "stream",
     "text": [
      "2020-02-11 08:20:54 [urllib3.connectionpool] DEBUG: https://www.ey.com:443 \"GET /en_gl/tmt/how-we-can-unlock-the-power-of-data-to-redefine-health HTTP/1.1\" 200 14732\n",
      "2020-02-11 08:20:54 [urllib3.connectionpool] DEBUG: Starting new HTTPS connection (1): www.ey.com:443\n"
     ]
    },
    {
     "name": "stdout",
     "output_type": "stream",
     "text": [
      "https://www.ey.com/en_gl/women-fast-forward/why-ai-could-correct-the-gender-imbalance-right-up-to-the-boardroom\n"
     ]
    },
    {
     "name": "stderr",
     "output_type": "stream",
     "text": [
      "2020-02-11 08:20:55 [urllib3.connectionpool] DEBUG: https://www.ey.com:443 \"GET /en_gl/women-fast-forward/why-ai-could-correct-the-gender-imbalance-right-up-to-the-boardroom HTTP/1.1\" 200 16744\n",
      "2020-02-11 08:20:55 [urllib3.connectionpool] DEBUG: Starting new HTTPS connection (1): www.ey.com:443\n"
     ]
    },
    {
     "name": "stdout",
     "output_type": "stream",
     "text": [
      "https://www.ey.com/en_gl/tmt/how-brands-can-attract-and-keep-customers-in-micro-moments\n"
     ]
    },
    {
     "name": "stderr",
     "output_type": "stream",
     "text": [
      "2020-02-11 08:20:56 [urllib3.connectionpool] DEBUG: https://www.ey.com:443 \"GET /en_gl/tmt/how-brands-can-attract-and-keep-customers-in-micro-moments HTTP/1.1\" 200 14286\n",
      "2020-02-11 08:20:56 [urllib3.connectionpool] DEBUG: Starting new HTTPS connection (1): www.ey.com:443\n"
     ]
    },
    {
     "name": "stdout",
     "output_type": "stream",
     "text": [
      "https://www.ey.com/en_gl/tmt/how-tmt-companies-can-catch-the-next-wave-when-future-markets-dont-yet-exist\n"
     ]
    },
    {
     "name": "stderr",
     "output_type": "stream",
     "text": [
      "2020-02-11 08:20:57 [urllib3.connectionpool] DEBUG: https://www.ey.com:443 \"GET /en_gl/tmt/how-tmt-companies-can-catch-the-next-wave-when-future-markets-dont-yet-exist HTTP/1.1\" 200 14598\n",
      "2020-02-11 08:20:57 [urllib3.connectionpool] DEBUG: Starting new HTTPS connection (1): www.ey.com:443\n"
     ]
    },
    {
     "name": "stdout",
     "output_type": "stream",
     "text": [
      "https://www.ey.com/en_gl/advisory/how-ai-can-be-a-force-for-good-in-government\n"
     ]
    },
    {
     "name": "stderr",
     "output_type": "stream",
     "text": [
      "2020-02-11 08:20:58 [urllib3.connectionpool] DEBUG: https://www.ey.com:443 \"GET /en_gl/advisory/how-ai-can-be-a-force-for-good-in-government HTTP/1.1\" 200 17073\n",
      "2020-02-11 08:20:58 [urllib3.connectionpool] DEBUG: Starting new HTTPS connection (1): www.ey.com:443\n"
     ]
    },
    {
     "name": "stdout",
     "output_type": "stream",
     "text": [
      "https://www.ey.com/en_gl/government-public-sector/how-global-macroeconomics-might-shape-policy-in-2019\n"
     ]
    },
    {
     "name": "stderr",
     "output_type": "stream",
     "text": [
      "2020-02-11 08:20:59 [urllib3.connectionpool] DEBUG: https://www.ey.com:443 \"GET /en_gl/government-public-sector/how-global-macroeconomics-might-shape-policy-in-2019 HTTP/1.1\" 200 17970\n",
      "2020-02-11 08:20:59 [urllib3.connectionpool] DEBUG: Starting new HTTPS connection (1): www.ey.com:443\n"
     ]
    },
    {
     "name": "stdout",
     "output_type": "stream",
     "text": [
      "https://www.ey.com/en_gl/advisory/how-to-manage-the-evolving-risks-of-emerging-technology\n"
     ]
    },
    {
     "name": "stderr",
     "output_type": "stream",
     "text": [
      "2020-02-11 08:21:00 [urllib3.connectionpool] DEBUG: https://www.ey.com:443 \"GET /en_gl/advisory/how-to-manage-the-evolving-risks-of-emerging-technology HTTP/1.1\" 200 14948\n",
      "2020-02-11 08:21:00 [urllib3.connectionpool] DEBUG: Starting new HTTPS connection (1): www.ey.com:443\n"
     ]
    },
    {
     "name": "stdout",
     "output_type": "stream",
     "text": [
      "https://www.ey.com/en_gl/ai/three-ways-to-protect-your-ai-investment-from-a-winter-of-discontent\n"
     ]
    },
    {
     "name": "stderr",
     "output_type": "stream",
     "text": [
      "2020-02-11 08:21:01 [urllib3.connectionpool] DEBUG: https://www.ey.com:443 \"GET /en_gl/ai/three-ways-to-protect-your-ai-investment-from-a-winter-of-discontent HTTP/1.1\" 200 21807\n",
      "2020-02-11 08:21:01 [urllib3.connectionpool] DEBUG: Starting new HTTPS connection (1): www.ey.com:443\n"
     ]
    },
    {
     "name": "stdout",
     "output_type": "stream",
     "text": [
      "https://www.ey.com/en_gl/disruption/behavioral-design-megatrend\n"
     ]
    },
    {
     "name": "stderr",
     "output_type": "stream",
     "text": [
      "2020-02-11 08:21:02 [urllib3.connectionpool] DEBUG: https://www.ey.com:443 \"GET /en_gl/disruption/behavioral-design-megatrend HTTP/1.1\" 200 16916\n",
      "2020-02-11 08:21:02 [urllib3.connectionpool] DEBUG: Starting new HTTPS connection (1): www.ey.com:443\n"
     ]
    },
    {
     "name": "stdout",
     "output_type": "stream",
     "text": [
      "https://www.ey.com/en_gl/wef/how-to-embrace-ai-responsibly-and-make-it-inclusive\n"
     ]
    },
    {
     "name": "stderr",
     "output_type": "stream",
     "text": [
      "2020-02-11 08:21:03 [urllib3.connectionpool] DEBUG: https://www.ey.com:443 \"GET /en_gl/wef/how-to-embrace-ai-responsibly-and-make-it-inclusive HTTP/1.1\" 200 14496\n",
      "2020-02-11 08:21:03 [urllib3.connectionpool] DEBUG: Starting new HTTPS connection (1): www.ey.com:443\n"
     ]
    },
    {
     "name": "stdout",
     "output_type": "stream",
     "text": [
      "https://www.ey.com/en_gl/oil-gas/is-ai-the-fuel-oil-and-gas-needs\n"
     ]
    },
    {
     "name": "stderr",
     "output_type": "stream",
     "text": [
      "2020-02-11 08:21:04 [urllib3.connectionpool] DEBUG: https://www.ey.com:443 \"GET /en_gl/oil-gas/is-ai-the-fuel-oil-and-gas-needs HTTP/1.1\" 200 19312\n",
      "2020-02-11 08:21:04 [scrapy.extensions.logstats] INFO: Crawled 71 pages (at 71 pages/min), scraped 0 items (at 0 items/min)\n",
      "2020-02-11 08:21:04 [scrapy.core.engine] DEBUG: Crawled (200) <GET https://www.ey.com/en_gl/wealth-asset-management/ey-why-wealth-could-be-the-next-big-service> (referer: None)\n",
      "2020-02-11 08:21:04 [scrapy.core.engine] DEBUG: Crawled (200) <GET https://www.ey.com/en_gl/innovation/what-could-the-world-look-like-in-10-years> (referer: None)\n",
      "2020-02-11 08:21:04 [scrapy.core.engine] DEBUG: Crawled (200) <GET https://www.ey.com/en_gl/advisory/how-businesses-can-prepare-for-the-digital-co-working-future> (referer: None)\n",
      "2020-02-11 08:21:04 [scrapy.core.engine] DEBUG: Crawled (200) <GET https://www.ey.com/en_gl/automotive-transportation/with-ai-at-the-wheel--will-your-board-steer-the-course-> (referer: None)\n",
      "2020-02-11 08:21:04 [scrapy.core.engine] DEBUG: Crawled (200) <GET https://www.ey.com/en_gl/advisory/how-to-unleash-the-transformational-potential-of-emerging-tech> (referer: None)\n",
      "2020-02-11 08:21:04 [scrapy.core.engine] DEBUG: Crawled (200) <GET https://www.ey.com/en_gl/wealth-asset-management/harnessing-the-power-of-ai-to-augment-human-investment-decision-making> (referer: None)\n",
      "2020-02-11 08:21:04 [scrapy.core.engine] DEBUG: Crawled (200) <GET https://www.ey.com/en_gl/advisory/how-empowered-sales-teams-can-fuel-organizational-evolution> (referer: None)\n",
      "2020-02-11 08:21:04 [scrapy.core.engine] DEBUG: Crawled (200) <GET https://www.ey.com/en_gl/workforce/how-do-you-ensure-you-are-automating-intelligently> (referer: None)\n",
      "2020-02-11 08:21:04 [urllib3.connectionpool] DEBUG: Starting new HTTPS connection (1): www.ey.com:443\n"
     ]
    },
    {
     "name": "stdout",
     "output_type": "stream",
     "text": [
      "https://www.ey.com/en_gl/wealth-asset-management/ey-why-wealth-could-be-the-next-big-service\n"
     ]
    },
    {
     "name": "stderr",
     "output_type": "stream",
     "text": [
      "2020-02-11 08:21:05 [urllib3.connectionpool] DEBUG: https://www.ey.com:443 \"GET /en_gl/wealth-asset-management/ey-why-wealth-could-be-the-next-big-service HTTP/1.1\" 200 14634\n",
      "2020-02-11 08:21:05 [scrapy.core.engine] DEBUG: Crawled (200) <GET https://www.ey.com/en_gl/financial-services-emeia/eight-tips-for-successful-intelligent-automation-projects> (referer: None)\n",
      "2020-02-11 08:21:05 [scrapy.core.engine] DEBUG: Crawled (200) <GET https://www.ey.com/en_gl/digital/how-can-you-build-trust-when-emerging-technologies-bring-new-risks> (referer: None)\n",
      "2020-02-11 08:21:05 [scrapy.core.engine] DEBUG: Crawled (200) <GET https://www.ey.com/en_gl/advisory/how-skills-could-be-impacted-by-automation> (referer: None)\n",
      "2020-02-11 08:21:05 [scrapy.core.engine] DEBUG: Crawled (200) <GET https://www.ey.com/en_gl/life-sciences/how-medtechs-will-create-value-in-the-new-health-ecosystem> (referer: None)\n",
      "2020-02-11 08:21:05 [scrapy.core.engine] DEBUG: Crawled (200) <GET https://www.ey.com/en_gl/tmt/intelligent-automation--how-to-reshape-the-future-of-work> (referer: None)\n",
      "2020-02-11 08:21:05 [scrapy.core.engine] DEBUG: Crawled (200) <GET https://www.ey.com/en_gl/wealth-asset-management/how-investment-firms-can-optimize-their-big-data-strategy> (referer: None)\n",
      "2020-02-11 08:21:05 [scrapy.core.engine] DEBUG: Crawled (200) <GET https://www.ey.com/en_gl/digital/how-do-you-teach-ai-the-value-of-trust> (referer: None)\n",
      "2020-02-11 08:21:05 [scrapy.core.engine] DEBUG: Crawled (200) <GET https://www.ey.com/en_gl/advisory/how-can-the-digitalized-agile-organization-of-the-future-still-be-rooted-in-human-values> (referer: None)\n",
      "2020-02-11 08:21:05 [urllib3.connectionpool] DEBUG: Starting new HTTPS connection (1): www.ey.com:443\n"
     ]
    },
    {
     "name": "stdout",
     "output_type": "stream",
     "text": [
      "https://www.ey.com/en_gl/innovation/what-could-the-world-look-like-in-10-years\n"
     ]
    },
    {
     "name": "stderr",
     "output_type": "stream",
     "text": [
      "2020-02-11 08:21:06 [urllib3.connectionpool] DEBUG: https://www.ey.com:443 \"GET /en_gl/innovation/what-could-the-world-look-like-in-10-years HTTP/1.1\" 200 12029\n",
      "2020-02-11 08:21:06 [urllib3.connectionpool] DEBUG: Starting new HTTPS connection (1): www.ey.com:443\n"
     ]
    },
    {
     "name": "stdout",
     "output_type": "stream",
     "text": [
      "https://www.ey.com/en_gl/advisory/how-businesses-can-prepare-for-the-digital-co-working-future\n"
     ]
    },
    {
     "name": "stderr",
     "output_type": "stream",
     "text": [
      "2020-02-11 08:21:07 [urllib3.connectionpool] DEBUG: https://www.ey.com:443 \"GET /en_gl/advisory/how-businesses-can-prepare-for-the-digital-co-working-future HTTP/1.1\" 200 15475\n",
      "2020-02-11 08:21:07 [urllib3.connectionpool] DEBUG: Starting new HTTPS connection (1): www.ey.com:443\n"
     ]
    },
    {
     "name": "stdout",
     "output_type": "stream",
     "text": [
      "https://www.ey.com/en_gl/automotive-transportation/with-ai-at-the-wheel--will-your-board-steer-the-course-\n"
     ]
    },
    {
     "name": "stderr",
     "output_type": "stream",
     "text": [
      "2020-02-11 08:21:08 [urllib3.connectionpool] DEBUG: https://www.ey.com:443 \"GET /en_gl/automotive-transportation/with-ai-at-the-wheel--will-your-board-steer-the-course- HTTP/1.1\" 200 15782\n",
      "2020-02-11 08:21:08 [urllib3.connectionpool] DEBUG: Starting new HTTPS connection (1): www.ey.com:443\n"
     ]
    },
    {
     "name": "stdout",
     "output_type": "stream",
     "text": [
      "https://www.ey.com/en_gl/advisory/how-to-unleash-the-transformational-potential-of-emerging-tech\n"
     ]
    },
    {
     "name": "stderr",
     "output_type": "stream",
     "text": [
      "2020-02-11 08:21:09 [urllib3.connectionpool] DEBUG: https://www.ey.com:443 \"GET /en_gl/advisory/how-to-unleash-the-transformational-potential-of-emerging-tech HTTP/1.1\" 200 14724\n",
      "2020-02-11 08:21:09 [urllib3.connectionpool] DEBUG: Starting new HTTPS connection (1): www.ey.com:443\n"
     ]
    },
    {
     "name": "stdout",
     "output_type": "stream",
     "text": [
      "https://www.ey.com/en_gl/wealth-asset-management/harnessing-the-power-of-ai-to-augment-human-investment-decision-making\n"
     ]
    },
    {
     "name": "stderr",
     "output_type": "stream",
     "text": [
      "2020-02-11 08:21:10 [urllib3.connectionpool] DEBUG: https://www.ey.com:443 \"GET /en_gl/wealth-asset-management/harnessing-the-power-of-ai-to-augment-human-investment-decision-making HTTP/1.1\" 200 13415\n",
      "2020-02-11 08:21:10 [urllib3.connectionpool] DEBUG: Starting new HTTPS connection (1): www.ey.com:443\n"
     ]
    },
    {
     "name": "stdout",
     "output_type": "stream",
     "text": [
      "https://www.ey.com/en_gl/advisory/how-empowered-sales-teams-can-fuel-organizational-evolution\n"
     ]
    },
    {
     "name": "stderr",
     "output_type": "stream",
     "text": [
      "2020-02-11 08:21:11 [urllib3.connectionpool] DEBUG: https://www.ey.com:443 \"GET /en_gl/advisory/how-empowered-sales-teams-can-fuel-organizational-evolution HTTP/1.1\" 200 14958\n",
      "2020-02-11 08:21:11 [urllib3.connectionpool] DEBUG: Starting new HTTPS connection (1): www.ey.com:443\n"
     ]
    },
    {
     "name": "stdout",
     "output_type": "stream",
     "text": [
      "https://www.ey.com/en_gl/workforce/how-do-you-ensure-you-are-automating-intelligently\n"
     ]
    },
    {
     "name": "stderr",
     "output_type": "stream",
     "text": [
      "2020-02-11 08:21:12 [urllib3.connectionpool] DEBUG: https://www.ey.com:443 \"GET /en_gl/workforce/how-do-you-ensure-you-are-automating-intelligently HTTP/1.1\" 200 22262\n",
      "2020-02-11 08:21:12 [urllib3.connectionpool] DEBUG: Starting new HTTPS connection (1): www.ey.com:443\n"
     ]
    },
    {
     "name": "stdout",
     "output_type": "stream",
     "text": [
      "https://www.ey.com/en_gl/financial-services-emeia/eight-tips-for-successful-intelligent-automation-projects\n"
     ]
    },
    {
     "name": "stderr",
     "output_type": "stream",
     "text": [
      "2020-02-11 08:21:13 [urllib3.connectionpool] DEBUG: https://www.ey.com:443 \"GET /en_gl/financial-services-emeia/eight-tips-for-successful-intelligent-automation-projects HTTP/1.1\" 200 15656\n",
      "2020-02-11 08:21:13 [urllib3.connectionpool] DEBUG: Starting new HTTPS connection (1): www.ey.com:443\n"
     ]
    },
    {
     "name": "stdout",
     "output_type": "stream",
     "text": [
      "https://www.ey.com/en_gl/digital/how-can-you-build-trust-when-emerging-technologies-bring-new-risks\n"
     ]
    },
    {
     "name": "stderr",
     "output_type": "stream",
     "text": [
      "2020-02-11 08:21:14 [urllib3.connectionpool] DEBUG: https://www.ey.com:443 \"GET /en_gl/digital/how-can-you-build-trust-when-emerging-technologies-bring-new-risks HTTP/1.1\" 200 17295\n",
      "2020-02-11 08:21:14 [urllib3.connectionpool] DEBUG: Starting new HTTPS connection (1): www.ey.com:443\n"
     ]
    },
    {
     "name": "stdout",
     "output_type": "stream",
     "text": [
      "https://www.ey.com/en_gl/advisory/how-skills-could-be-impacted-by-automation\n"
     ]
    },
    {
     "name": "stderr",
     "output_type": "stream",
     "text": [
      "2020-02-11 08:21:15 [urllib3.connectionpool] DEBUG: https://www.ey.com:443 \"GET /en_gl/advisory/how-skills-could-be-impacted-by-automation HTTP/1.1\" 200 15825\n",
      "2020-02-11 08:21:15 [urllib3.connectionpool] DEBUG: Starting new HTTPS connection (1): www.ey.com:443\n"
     ]
    },
    {
     "name": "stdout",
     "output_type": "stream",
     "text": [
      "https://www.ey.com/en_gl/life-sciences/how-medtechs-will-create-value-in-the-new-health-ecosystem\n"
     ]
    },
    {
     "name": "stderr",
     "output_type": "stream",
     "text": [
      "2020-02-11 08:21:15 [urllib3.connectionpool] DEBUG: https://www.ey.com:443 \"GET /en_gl/life-sciences/how-medtechs-will-create-value-in-the-new-health-ecosystem HTTP/1.1\" 200 21338\n",
      "2020-02-11 08:21:16 [urllib3.connectionpool] DEBUG: Starting new HTTPS connection (1): www.ey.com:443\n"
     ]
    },
    {
     "name": "stdout",
     "output_type": "stream",
     "text": [
      "https://www.ey.com/en_gl/tmt/intelligent-automation--how-to-reshape-the-future-of-work\n"
     ]
    },
    {
     "name": "stderr",
     "output_type": "stream",
     "text": [
      "2020-02-11 08:21:16 [urllib3.connectionpool] DEBUG: https://www.ey.com:443 \"GET /en_gl/tmt/intelligent-automation--how-to-reshape-the-future-of-work HTTP/1.1\" 200 15159\n",
      "2020-02-11 08:21:17 [urllib3.connectionpool] DEBUG: Starting new HTTPS connection (1): www.ey.com:443\n"
     ]
    },
    {
     "name": "stdout",
     "output_type": "stream",
     "text": [
      "https://www.ey.com/en_gl/wealth-asset-management/how-investment-firms-can-optimize-their-big-data-strategy\n"
     ]
    },
    {
     "name": "stderr",
     "output_type": "stream",
     "text": [
      "2020-02-11 08:21:17 [urllib3.connectionpool] DEBUG: https://www.ey.com:443 \"GET /en_gl/wealth-asset-management/how-investment-firms-can-optimize-their-big-data-strategy HTTP/1.1\" 200 14094\n",
      "2020-02-11 08:21:17 [urllib3.connectionpool] DEBUG: Starting new HTTPS connection (1): www.ey.com:443\n"
     ]
    },
    {
     "name": "stdout",
     "output_type": "stream",
     "text": [
      "https://www.ey.com/en_gl/digital/how-do-you-teach-ai-the-value-of-trust\n"
     ]
    },
    {
     "name": "stderr",
     "output_type": "stream",
     "text": [
      "2020-02-11 08:21:18 [urllib3.connectionpool] DEBUG: https://www.ey.com:443 \"GET /en_gl/digital/how-do-you-teach-ai-the-value-of-trust HTTP/1.1\" 200 20403\n",
      "2020-02-11 08:21:18 [urllib3.connectionpool] DEBUG: Starting new HTTPS connection (1): www.ey.com:443\n"
     ]
    },
    {
     "name": "stdout",
     "output_type": "stream",
     "text": [
      "https://www.ey.com/en_gl/advisory/how-can-the-digitalized-agile-organization-of-the-future-still-be-rooted-in-human-values\n"
     ]
    },
    {
     "name": "stderr",
     "output_type": "stream",
     "text": [
      "2020-02-11 08:21:19 [urllib3.connectionpool] DEBUG: https://www.ey.com:443 \"GET /en_gl/advisory/how-can-the-digitalized-agile-organization-of-the-future-still-be-rooted-in-human-values HTTP/1.1\" 200 15991\n",
      "2020-02-11 08:21:19 [scrapy.core.engine] DEBUG: Crawled (200) <GET https://www.ey.com/en_gl/assurance/how-artificial-intelligence-will-transform-the-audit> (referer: None)\n",
      "2020-02-11 08:21:19 [scrapy.core.engine] DEBUG: Crawled (200) <GET https://www.ey.com/en_gl/growth/growth-barometer-europe-2018> (referer: None)\n",
      "2020-02-11 08:21:19 [scrapy.core.engine] DEBUG: Crawled (200) <GET https://www.ey.com/en_gl/advisory/three-ways-companies-can-be-intelligent-about-artificial-intelligence> (referer: None)\n",
      "2020-02-11 08:21:19 [scrapy.core.engine] DEBUG: Crawled (200) <GET https://www.ey.com/en_gl/workforce/if-a-market-is-truly-frictionless--where-does-the-value-lie> (referer: None)\n",
      "2020-02-11 08:21:19 [scrapy.core.engine] DEBUG: Crawled (200) <GET https://www.ey.com/en_gl/purpose/how-a-new-approach-to-standard-practice-is-inspiring-change> (referer: None)\n",
      "2020-02-11 08:21:19 [scrapy.core.engine] DEBUG: Crawled (200) <GET https://www.ey.com/en_gl/advisory/how-robust-planning-via-ai-solutions-can-minimize-pitfalls> (referer: None)\n",
      "2020-02-11 08:21:19 [scrapy.core.engine] DEBUG: Crawled (200) <GET https://www.ey.com/en_gl/advisory/five-potential-advantages-of-integrated-ai-strategy> (referer: None)\n",
      "2020-02-11 08:21:19 [scrapy.core.engine] DEBUG: Crawled (200) <GET https://www.ey.com/en_gl/digital/can-advanced-technologies-help-auditors-make-the-hard-to-see-eas> (referer: None)\n",
      "2020-02-11 08:21:19 [urllib3.connectionpool] DEBUG: Starting new HTTPS connection (1): www.ey.com:443\n"
     ]
    },
    {
     "name": "stdout",
     "output_type": "stream",
     "text": [
      "https://www.ey.com/en_gl/assurance/how-artificial-intelligence-will-transform-the-audit\n"
     ]
    },
    {
     "name": "stderr",
     "output_type": "stream",
     "text": [
      "2020-02-11 08:21:21 [urllib3.connectionpool] DEBUG: https://www.ey.com:443 \"GET /en_gl/assurance/how-artificial-intelligence-will-transform-the-audit HTTP/1.1\" 200 12817\n",
      "2020-02-11 08:21:21 [scrapy.core.engine] DEBUG: Crawled (200) <GET https://www.ey.com/en_gl/digital/how-rpa-can-improve-efficiency-and-employee-engagement> (referer: None)\n",
      "2020-02-11 08:21:21 [scrapy.core.engine] DEBUG: Crawled (200) <GET https://www.ey.com/en_gl/digital/why-digital-asset-management-is-a-fundamental-driver-of-utility> (referer: None)\n",
      "2020-02-11 08:21:21 [scrapy.core.engine] DEBUG: Crawled (200) <GET https://www.ey.com/en_gl/trust/how-building-trust-is-crucial-for-business-transformation> (referer: None)\n",
      "2020-02-11 08:21:21 [scrapy.core.engine] DEBUG: Crawled (200) <GET https://www.ey.com/en_gl/digital/how-digital-disruption-is-driving-the-evolution-of-the-network-o> (referer: None)\n",
      "2020-02-11 08:21:21 [scrapy.core.engine] DEBUG: Crawled (200) <GET https://www.ey.com/en_gl/growth/is-your-portfolio-fit-for-the-future-or-fashioned-only-on-the-pa> (referer: None)\n",
      "2020-02-11 08:21:21 [scrapy.core.engine] DEBUG: Crawled (200) <GET https://www.ey.com/en_gl/growth/why-pe-firms-must-look-beyond-finance-to-drive-growth-and-create> (referer: None)\n",
      "2020-02-11 08:21:21 [scrapy.core.engine] DEBUG: Crawled (200) <GET https://www.ey.com/en_gl/advisory/how-iot-connectivity-technologies-might-not-be-evolving-at-pace> (referer: None)\n",
      "2020-02-11 08:21:21 [scrapy.core.engine] DEBUG: Crawled (200) <GET https://www.ey.com/en_gl/workforce/how-do-we-keep-the-human-touch-in-the-digital-age-> (referer: None)\n",
      "2020-02-11 08:21:21 [urllib3.connectionpool] DEBUG: Starting new HTTPS connection (1): www.ey.com:443\n"
     ]
    },
    {
     "name": "stdout",
     "output_type": "stream",
     "text": [
      "https://www.ey.com/en_gl/growth/growth-barometer-europe-2018\n"
     ]
    },
    {
     "name": "stderr",
     "output_type": "stream",
     "text": [
      "2020-02-11 08:21:22 [urllib3.connectionpool] DEBUG: https://www.ey.com:443 \"GET /en_gl/growth/growth-barometer-europe-2018 HTTP/1.1\" 200 21025\n",
      "2020-02-11 08:21:22 [urllib3.connectionpool] DEBUG: Starting new HTTPS connection (1): www.ey.com:443\n"
     ]
    },
    {
     "name": "stdout",
     "output_type": "stream",
     "text": [
      "https://www.ey.com/en_gl/advisory/three-ways-companies-can-be-intelligent-about-artificial-intelligence\n"
     ]
    },
    {
     "name": "stderr",
     "output_type": "stream",
     "text": [
      "2020-02-11 08:21:23 [urllib3.connectionpool] DEBUG: https://www.ey.com:443 \"GET /en_gl/advisory/three-ways-companies-can-be-intelligent-about-artificial-intelligence HTTP/1.1\" 200 14651\n",
      "2020-02-11 08:21:23 [urllib3.connectionpool] DEBUG: Starting new HTTPS connection (1): www.ey.com:443\n"
     ]
    },
    {
     "name": "stdout",
     "output_type": "stream",
     "text": [
      "https://www.ey.com/en_gl/workforce/if-a-market-is-truly-frictionless--where-does-the-value-lie\n"
     ]
    },
    {
     "name": "stderr",
     "output_type": "stream",
     "text": [
      "2020-02-11 08:21:23 [urllib3.connectionpool] DEBUG: https://www.ey.com:443 \"GET /en_gl/workforce/if-a-market-is-truly-frictionless--where-does-the-value-lie HTTP/1.1\" 200 13738\n",
      "2020-02-11 08:21:23 [urllib3.connectionpool] DEBUG: Starting new HTTPS connection (1): www.ey.com:443\n"
     ]
    },
    {
     "name": "stdout",
     "output_type": "stream",
     "text": [
      "https://www.ey.com/en_gl/purpose/how-a-new-approach-to-standard-practice-is-inspiring-change\n"
     ]
    },
    {
     "name": "stderr",
     "output_type": "stream",
     "text": [
      "2020-02-11 08:21:24 [urllib3.connectionpool] DEBUG: https://www.ey.com:443 \"GET /en_gl/purpose/how-a-new-approach-to-standard-practice-is-inspiring-change HTTP/1.1\" 200 11367\n",
      "2020-02-11 08:21:24 [urllib3.connectionpool] DEBUG: Starting new HTTPS connection (1): www.ey.com:443\n"
     ]
    },
    {
     "name": "stdout",
     "output_type": "stream",
     "text": [
      "https://www.ey.com/en_gl/advisory/how-robust-planning-via-ai-solutions-can-minimize-pitfalls\n"
     ]
    },
    {
     "name": "stderr",
     "output_type": "stream",
     "text": [
      "2020-02-11 08:21:25 [urllib3.connectionpool] DEBUG: https://www.ey.com:443 \"GET /en_gl/advisory/how-robust-planning-via-ai-solutions-can-minimize-pitfalls HTTP/1.1\" 200 19025\n",
      "2020-02-11 08:21:25 [urllib3.connectionpool] DEBUG: Starting new HTTPS connection (1): www.ey.com:443\n"
     ]
    },
    {
     "name": "stdout",
     "output_type": "stream",
     "text": [
      "https://www.ey.com/en_gl/advisory/five-potential-advantages-of-integrated-ai-strategy\n"
     ]
    },
    {
     "name": "stderr",
     "output_type": "stream",
     "text": [
      "2020-02-11 08:21:26 [urllib3.connectionpool] DEBUG: https://www.ey.com:443 \"GET /en_gl/advisory/five-potential-advantages-of-integrated-ai-strategy HTTP/1.1\" 200 16878\n",
      "2020-02-11 08:21:26 [urllib3.connectionpool] DEBUG: Starting new HTTPS connection (1): www.ey.com:443\n"
     ]
    },
    {
     "name": "stdout",
     "output_type": "stream",
     "text": [
      "https://www.ey.com/en_gl/digital/can-advanced-technologies-help-auditors-make-the-hard-to-see-eas\n"
     ]
    },
    {
     "name": "stderr",
     "output_type": "stream",
     "text": [
      "2020-02-11 08:21:27 [urllib3.connectionpool] DEBUG: https://www.ey.com:443 \"GET /en_gl/digital/can-advanced-technologies-help-auditors-make-the-hard-to-see-eas HTTP/1.1\" 200 13913\n",
      "2020-02-11 08:21:27 [urllib3.connectionpool] DEBUG: Starting new HTTPS connection (1): www.ey.com:443\n"
     ]
    },
    {
     "name": "stdout",
     "output_type": "stream",
     "text": [
      "https://www.ey.com/en_gl/digital/how-rpa-can-improve-efficiency-and-employee-engagement\n"
     ]
    },
    {
     "name": "stderr",
     "output_type": "stream",
     "text": [
      "2020-02-11 08:21:28 [urllib3.connectionpool] DEBUG: https://www.ey.com:443 \"GET /en_gl/digital/how-rpa-can-improve-efficiency-and-employee-engagement HTTP/1.1\" 200 11062\n",
      "2020-02-11 08:21:28 [urllib3.connectionpool] DEBUG: Starting new HTTPS connection (1): www.ey.com:443\n"
     ]
    },
    {
     "name": "stdout",
     "output_type": "stream",
     "text": [
      "https://www.ey.com/en_gl/digital/why-digital-asset-management-is-a-fundamental-driver-of-utility\n"
     ]
    },
    {
     "name": "stderr",
     "output_type": "stream",
     "text": [
      "2020-02-11 08:21:29 [urllib3.connectionpool] DEBUG: https://www.ey.com:443 \"GET /en_gl/digital/why-digital-asset-management-is-a-fundamental-driver-of-utility HTTP/1.1\" 200 13798\n",
      "2020-02-11 08:21:29 [urllib3.connectionpool] DEBUG: Starting new HTTPS connection (1): www.ey.com:443\n"
     ]
    },
    {
     "name": "stdout",
     "output_type": "stream",
     "text": [
      "https://www.ey.com/en_gl/trust/how-building-trust-is-crucial-for-business-transformation\n"
     ]
    },
    {
     "name": "stderr",
     "output_type": "stream",
     "text": [
      "2020-02-11 08:21:30 [urllib3.connectionpool] DEBUG: https://www.ey.com:443 \"GET /en_gl/trust/how-building-trust-is-crucial-for-business-transformation HTTP/1.1\" 200 11310\n",
      "2020-02-11 08:21:30 [urllib3.connectionpool] DEBUG: Starting new HTTPS connection (1): www.ey.com:443\n"
     ]
    },
    {
     "name": "stdout",
     "output_type": "stream",
     "text": [
      "https://www.ey.com/en_gl/digital/how-digital-disruption-is-driving-the-evolution-of-the-network-o\n"
     ]
    },
    {
     "name": "stderr",
     "output_type": "stream",
     "text": [
      "2020-02-11 08:21:31 [urllib3.connectionpool] DEBUG: https://www.ey.com:443 \"GET /en_gl/digital/how-digital-disruption-is-driving-the-evolution-of-the-network-o HTTP/1.1\" 200 15610\n",
      "2020-02-11 08:21:31 [urllib3.connectionpool] DEBUG: Starting new HTTPS connection (1): www.ey.com:443\n"
     ]
    },
    {
     "name": "stdout",
     "output_type": "stream",
     "text": [
      "https://www.ey.com/en_gl/growth/is-your-portfolio-fit-for-the-future-or-fashioned-only-on-the-pa\n"
     ]
    },
    {
     "name": "stderr",
     "output_type": "stream",
     "text": [
      "2020-02-11 08:21:32 [urllib3.connectionpool] DEBUG: https://www.ey.com:443 \"GET /en_gl/growth/is-your-portfolio-fit-for-the-future-or-fashioned-only-on-the-pa HTTP/1.1\" 200 18235\n",
      "2020-02-11 08:21:32 [urllib3.connectionpool] DEBUG: Starting new HTTPS connection (1): www.ey.com:443\n"
     ]
    },
    {
     "name": "stdout",
     "output_type": "stream",
     "text": [
      "https://www.ey.com/en_gl/growth/why-pe-firms-must-look-beyond-finance-to-drive-growth-and-create\n"
     ]
    },
    {
     "name": "stderr",
     "output_type": "stream",
     "text": [
      "2020-02-11 08:21:33 [urllib3.connectionpool] DEBUG: https://www.ey.com:443 \"GET /en_gl/growth/why-pe-firms-must-look-beyond-finance-to-drive-growth-and-create HTTP/1.1\" 200 14931\n",
      "2020-02-11 08:21:33 [urllib3.connectionpool] DEBUG: Starting new HTTPS connection (1): www.ey.com:443\n"
     ]
    },
    {
     "name": "stdout",
     "output_type": "stream",
     "text": [
      "https://www.ey.com/en_gl/advisory/how-iot-connectivity-technologies-might-not-be-evolving-at-pace\n"
     ]
    },
    {
     "name": "stderr",
     "output_type": "stream",
     "text": [
      "2020-02-11 08:21:34 [urllib3.connectionpool] DEBUG: https://www.ey.com:443 \"GET /en_gl/advisory/how-iot-connectivity-technologies-might-not-be-evolving-at-pace HTTP/1.1\" 200 14555\n",
      "2020-02-11 08:21:34 [urllib3.connectionpool] DEBUG: Starting new HTTPS connection (1): www.ey.com:443\n"
     ]
    },
    {
     "name": "stdout",
     "output_type": "stream",
     "text": [
      "https://www.ey.com/en_gl/workforce/how-do-we-keep-the-human-touch-in-the-digital-age-\n"
     ]
    },
    {
     "name": "stderr",
     "output_type": "stream",
     "text": [
      "2020-02-11 08:21:35 [urllib3.connectionpool] DEBUG: https://www.ey.com:443 \"GET /en_gl/workforce/how-do-we-keep-the-human-touch-in-the-digital-age- HTTP/1.1\" 200 14805\n",
      "2020-02-11 08:21:35 [scrapy.core.engine] DEBUG: Crawled (200) <GET https://www.ey.com/en_gl/workforce/humanatwork> (referer: None)\n",
      "2020-02-11 08:21:35 [scrapy.core.engine] DEBUG: Crawled (200) <GET https://www.ey.com/en_gl/trust/the-disrupters--how-banks-can-help-to-track-the-traffickers> (referer: None)\n",
      "2020-02-11 08:21:35 [scrapy.core.engine] DEBUG: Crawled (200) <GET https://www.ey.com/en_gl/digital/tax-workers-and-robots-teammates-not-enemies> (referer: None)\n",
      "2020-02-11 08:21:35 [scrapy.core.engine] DEBUG: Crawled (200) <GET https://www.ey.com/en_gl/digital/what-smart-speakers-can-teach-board-members-about-adopting-ai> (referer: None)\n",
      "2020-02-11 08:21:35 [scrapy.core.engine] DEBUG: Crawled (200) <GET https://www.ey.com/en_gl/digital/can-robots-help-your-business-be-more-human> (referer: None)\n",
      "2020-02-11 08:21:35 [scrapy.core.engine] DEBUG: Crawled (200) <GET https://www.ey.com/en_gl/digital/how-gamification-could-take-investor-experiences-to-a-new-level> (referer: None)\n",
      "2020-02-11 08:21:35 [scrapy.core.engine] DEBUG: Crawled (200) <GET https://www.ey.com/en_gl/assurance/why-ai-is-both-a-risk-and-a-way-to-manage-risk> (referer: None)\n",
      "2020-02-11 08:21:35 [scrapy.core.engine] DEBUG: Crawled (200) <GET https://www.ey.com/en_gl/advisory/how-agile-finance-can-provide-the-fuel-to-drive-your-business-forward> (referer: None)\n",
      "2020-02-11 08:21:35 [urllib3.connectionpool] DEBUG: Starting new HTTPS connection (1): www.ey.com:443\n"
     ]
    },
    {
     "name": "stdout",
     "output_type": "stream",
     "text": [
      "https://www.ey.com/en_gl/workforce/humanatwork\n"
     ]
    },
    {
     "name": "stderr",
     "output_type": "stream",
     "text": [
      "2020-02-11 08:21:36 [urllib3.connectionpool] DEBUG: https://www.ey.com:443 \"GET /en_gl/workforce/humanatwork HTTP/1.1\" 200 21713\n",
      "2020-02-11 08:21:36 [scrapy.core.engine] DEBUG: Crawled (200) <GET https://www.ey.com/en_gl/advisory/how-the-transformative-age-is-changing-how-we-live-work-and-play> (referer: None)\n",
      "2020-02-11 08:21:36 [scrapy.core.engine] DEBUG: Crawled (200) <GET https://www.ey.com/en_gl/digital/customers-text-listening> (referer: None)\n",
      "2020-02-11 08:21:36 [scrapy.core.engine] DEBUG: Crawled (200) <GET https://www.ey.com/en_gl/workforce/does-your-brand-reflect-the-composition-of-your-workforce> (referer: None)\n",
      "2020-02-11 08:21:36 [scrapy.core.engine] DEBUG: Crawled (200) <GET https://www.ey.com/en_gl/digital/what-the-3d-printing-revolution-could-mean-for-business> (referer: None)\n",
      "2020-02-11 08:21:36 [scrapy.core.engine] DEBUG: Crawled (200) <GET https://www.ey.com/en_gl/financial-services-emeia/regulatory-sandboxes-facilitate-optimal-regulation-in-asia-pacific> (referer: None)\n",
      "2020-02-11 08:21:36 [scrapy.core.engine] DEBUG: Crawled (200) <GET https://www.ey.com/en_gl/life-sciences/how-collaborating-with-ai-can-help-meet-health-care-needs> (referer: None)\n",
      "2020-02-11 08:21:36 [scrapy.core.engine] DEBUG: Crawled (200) <GET https://www.ey.com/en_gl/assurance/how-can-you-disrupt-risk-in-an-era-of-digital-transformation> (referer: None)\n",
      "2020-02-11 08:21:36 [scrapy.core.engine] DEBUG: Crawled (200) <GET https://www.ey.com/en_gl/digital/what_s-the-right-dose-of-ai-to-revitalize-health-care> (referer: None)\n",
      "2020-02-11 08:21:36 [urllib3.connectionpool] DEBUG: Starting new HTTPS connection (1): www.ey.com:443\n"
     ]
    },
    {
     "name": "stdout",
     "output_type": "stream",
     "text": [
      "https://www.ey.com/en_gl/trust/the-disrupters--how-banks-can-help-to-track-the-traffickers\n"
     ]
    },
    {
     "name": "stderr",
     "output_type": "stream",
     "text": [
      "2020-02-11 08:21:37 [urllib3.connectionpool] DEBUG: https://www.ey.com:443 \"GET /en_gl/trust/the-disrupters--how-banks-can-help-to-track-the-traffickers HTTP/1.1\" 200 12637\n",
      "2020-02-11 08:21:37 [urllib3.connectionpool] DEBUG: Starting new HTTPS connection (1): www.ey.com:443\n"
     ]
    },
    {
     "name": "stdout",
     "output_type": "stream",
     "text": [
      "https://www.ey.com/en_gl/digital/tax-workers-and-robots-teammates-not-enemies\n"
     ]
    },
    {
     "name": "stderr",
     "output_type": "stream",
     "text": [
      "2020-02-11 08:21:37 [urllib3.connectionpool] DEBUG: https://www.ey.com:443 \"GET /en_gl/digital/tax-workers-and-robots-teammates-not-enemies HTTP/1.1\" 200 14876\n",
      "2020-02-11 08:21:38 [urllib3.connectionpool] DEBUG: Starting new HTTPS connection (1): www.ey.com:443\n"
     ]
    },
    {
     "name": "stdout",
     "output_type": "stream",
     "text": [
      "https://www.ey.com/en_gl/digital/what-smart-speakers-can-teach-board-members-about-adopting-ai\n"
     ]
    },
    {
     "name": "stderr",
     "output_type": "stream",
     "text": [
      "2020-02-11 08:21:38 [urllib3.connectionpool] DEBUG: https://www.ey.com:443 \"GET /en_gl/digital/what-smart-speakers-can-teach-board-members-about-adopting-ai HTTP/1.1\" 200 13879\n",
      "2020-02-11 08:21:38 [urllib3.connectionpool] DEBUG: Starting new HTTPS connection (1): www.ey.com:443\n"
     ]
    },
    {
     "name": "stdout",
     "output_type": "stream",
     "text": [
      "https://www.ey.com/en_gl/digital/can-robots-help-your-business-be-more-human\n"
     ]
    },
    {
     "name": "stderr",
     "output_type": "stream",
     "text": [
      "2020-02-11 08:21:39 [urllib3.connectionpool] DEBUG: https://www.ey.com:443 \"GET /en_gl/digital/can-robots-help-your-business-be-more-human HTTP/1.1\" 200 14914\n",
      "2020-02-11 08:21:39 [urllib3.connectionpool] DEBUG: Starting new HTTPS connection (1): www.ey.com:443\n"
     ]
    },
    {
     "name": "stdout",
     "output_type": "stream",
     "text": [
      "https://www.ey.com/en_gl/digital/how-gamification-could-take-investor-experiences-to-a-new-level\n"
     ]
    },
    {
     "name": "stderr",
     "output_type": "stream",
     "text": [
      "2020-02-11 08:21:40 [urllib3.connectionpool] DEBUG: https://www.ey.com:443 \"GET /en_gl/digital/how-gamification-could-take-investor-experiences-to-a-new-level HTTP/1.1\" 200 14573\n",
      "2020-02-11 08:21:40 [urllib3.connectionpool] DEBUG: Starting new HTTPS connection (1): www.ey.com:443\n"
     ]
    },
    {
     "name": "stdout",
     "output_type": "stream",
     "text": [
      "https://www.ey.com/en_gl/assurance/why-ai-is-both-a-risk-and-a-way-to-manage-risk\n"
     ]
    },
    {
     "name": "stderr",
     "output_type": "stream",
     "text": [
      "2020-02-11 08:21:41 [urllib3.connectionpool] DEBUG: https://www.ey.com:443 \"GET /en_gl/assurance/why-ai-is-both-a-risk-and-a-way-to-manage-risk HTTP/1.1\" 200 14611\n",
      "2020-02-11 08:21:41 [urllib3.connectionpool] DEBUG: Starting new HTTPS connection (1): www.ey.com:443\n"
     ]
    },
    {
     "name": "stdout",
     "output_type": "stream",
     "text": [
      "https://www.ey.com/en_gl/advisory/how-agile-finance-can-provide-the-fuel-to-drive-your-business-forward\n"
     ]
    },
    {
     "name": "stderr",
     "output_type": "stream",
     "text": [
      "2020-02-11 08:21:42 [urllib3.connectionpool] DEBUG: https://www.ey.com:443 \"GET /en_gl/advisory/how-agile-finance-can-provide-the-fuel-to-drive-your-business-forward HTTP/1.1\" 200 13200\n",
      "2020-02-11 08:21:42 [urllib3.connectionpool] DEBUG: Starting new HTTPS connection (1): www.ey.com:443\n"
     ]
    },
    {
     "name": "stdout",
     "output_type": "stream",
     "text": [
      "https://www.ey.com/en_gl/advisory/how-the-transformative-age-is-changing-how-we-live-work-and-play\n"
     ]
    },
    {
     "name": "stderr",
     "output_type": "stream",
     "text": [
      "2020-02-11 08:21:43 [urllib3.connectionpool] DEBUG: https://www.ey.com:443 \"GET /en_gl/advisory/how-the-transformative-age-is-changing-how-we-live-work-and-play HTTP/1.1\" 200 13871\n",
      "2020-02-11 08:21:43 [urllib3.connectionpool] DEBUG: Starting new HTTPS connection (1): www.ey.com:443\n"
     ]
    },
    {
     "name": "stdout",
     "output_type": "stream",
     "text": [
      "https://www.ey.com/en_gl/digital/customers-text-listening\n"
     ]
    },
    {
     "name": "stderr",
     "output_type": "stream",
     "text": [
      "2020-02-11 08:21:44 [urllib3.connectionpool] DEBUG: https://www.ey.com:443 \"GET /en_gl/digital/customers-text-listening HTTP/1.1\" 200 16353\n",
      "2020-02-11 08:21:44 [urllib3.connectionpool] DEBUG: Starting new HTTPS connection (1): www.ey.com:443\n"
     ]
    },
    {
     "name": "stdout",
     "output_type": "stream",
     "text": [
      "https://www.ey.com/en_gl/workforce/does-your-brand-reflect-the-composition-of-your-workforce\n"
     ]
    },
    {
     "name": "stderr",
     "output_type": "stream",
     "text": [
      "2020-02-11 08:21:45 [urllib3.connectionpool] DEBUG: https://www.ey.com:443 \"GET /en_gl/workforce/does-your-brand-reflect-the-composition-of-your-workforce HTTP/1.1\" 200 16054\n",
      "2020-02-11 08:21:45 [urllib3.connectionpool] DEBUG: Starting new HTTPS connection (1): www.ey.com:443\n"
     ]
    },
    {
     "name": "stdout",
     "output_type": "stream",
     "text": [
      "https://www.ey.com/en_gl/digital/what-the-3d-printing-revolution-could-mean-for-business\n"
     ]
    },
    {
     "name": "stderr",
     "output_type": "stream",
     "text": [
      "2020-02-11 08:21:46 [urllib3.connectionpool] DEBUG: https://www.ey.com:443 \"GET /en_gl/digital/what-the-3d-printing-revolution-could-mean-for-business HTTP/1.1\" 200 14604\n",
      "2020-02-11 08:21:46 [urllib3.connectionpool] DEBUG: Starting new HTTPS connection (1): www.ey.com:443\n"
     ]
    },
    {
     "name": "stdout",
     "output_type": "stream",
     "text": [
      "https://www.ey.com/en_gl/financial-services-emeia/regulatory-sandboxes-facilitate-optimal-regulation-in-asia-pacific\n"
     ]
    },
    {
     "name": "stderr",
     "output_type": "stream",
     "text": [
      "2020-02-11 08:21:47 [urllib3.connectionpool] DEBUG: https://www.ey.com:443 \"GET /en_gl/financial-services-emeia/regulatory-sandboxes-facilitate-optimal-regulation-in-asia-pacific HTTP/1.1\" 200 15893\n",
      "2020-02-11 08:21:47 [urllib3.connectionpool] DEBUG: Starting new HTTPS connection (1): www.ey.com:443\n"
     ]
    },
    {
     "name": "stdout",
     "output_type": "stream",
     "text": [
      "https://www.ey.com/en_gl/life-sciences/how-collaborating-with-ai-can-help-meet-health-care-needs\n"
     ]
    },
    {
     "name": "stderr",
     "output_type": "stream",
     "text": [
      "2020-02-11 08:21:48 [urllib3.connectionpool] DEBUG: https://www.ey.com:443 \"GET /en_gl/life-sciences/how-collaborating-with-ai-can-help-meet-health-care-needs HTTP/1.1\" 200 14775\n",
      "2020-02-11 08:21:48 [urllib3.connectionpool] DEBUG: Starting new HTTPS connection (1): www.ey.com:443\n"
     ]
    },
    {
     "name": "stdout",
     "output_type": "stream",
     "text": [
      "https://www.ey.com/en_gl/assurance/how-can-you-disrupt-risk-in-an-era-of-digital-transformation\n"
     ]
    },
    {
     "name": "stderr",
     "output_type": "stream",
     "text": [
      "2020-02-11 08:21:49 [urllib3.connectionpool] DEBUG: https://www.ey.com:443 \"GET /en_gl/assurance/how-can-you-disrupt-risk-in-an-era-of-digital-transformation HTTP/1.1\" 200 15454\n",
      "2020-02-11 08:21:49 [urllib3.connectionpool] DEBUG: Starting new HTTPS connection (1): www.ey.com:443\n"
     ]
    },
    {
     "name": "stdout",
     "output_type": "stream",
     "text": [
      "https://www.ey.com/en_gl/digital/what_s-the-right-dose-of-ai-to-revitalize-health-care\n"
     ]
    },
    {
     "name": "stderr",
     "output_type": "stream",
     "text": [
      "2020-02-11 08:21:50 [urllib3.connectionpool] DEBUG: https://www.ey.com:443 \"GET /en_gl/digital/what_s-the-right-dose-of-ai-to-revitalize-health-care HTTP/1.1\" 200 14045\n",
      "2020-02-11 08:21:50 [scrapy.core.engine] DEBUG: Crawled (200) <GET https://www.ey.com/en_gl/assurance/how-can-artificial-intelligence-enhance-your-lease-accounting-approach> (referer: None)\n",
      "2020-02-11 08:21:50 [scrapy.core.engine] DEBUG: Crawled (200) <GET https://www.ey.com/en_gl/advisory/how-do-you-run-the-business-when-ai-is-steering-the-ship> (referer: None)\n",
      "2020-02-11 08:21:50 [scrapy.core.engine] DEBUG: Crawled (200) <GET https://www.ey.com/en_gl/life-sciences/how-research-and-development-is-being-augmented-with-artificial-intelligence> (referer: None)\n",
      "2020-02-11 08:21:50 [scrapy.core.engine] DEBUG: Crawled (200) <GET https://www.ey.com/en_gl/assurance/how-ai-will-enable-us-to-work-smarter-faster> (referer: None)\n",
      "2020-02-11 08:21:50 [scrapy.core.engine] DEBUG: Crawled (200) <GET https://www.ey.com/en_gl/financial-services-emeia/impact-of-robotics-rpa-and-ai-on-the-insurance-industry-challenges-and-opportunities> (referer: None)\n",
      "2020-02-11 08:21:50 [scrapy.core.engine] DEBUG: Crawled (200) <GET https://www.ey.com/en_gl/advisory/how-digital-agriculture-and-big-data-will-help-to-feed-a-growing-world> (referer: None)\n",
      "2020-02-11 08:21:50 [urllib3.connectionpool] DEBUG: Starting new HTTPS connection (1): www.ey.com:443\n"
     ]
    },
    {
     "name": "stdout",
     "output_type": "stream",
     "text": [
      "https://www.ey.com/en_gl/assurance/how-can-artificial-intelligence-enhance-your-lease-accounting-approach\n"
     ]
    },
    {
     "name": "stderr",
     "output_type": "stream",
     "text": [
      "2020-02-11 08:21:51 [urllib3.connectionpool] DEBUG: https://www.ey.com:443 \"GET /en_gl/assurance/how-can-artificial-intelligence-enhance-your-lease-accounting-approach HTTP/1.1\" 200 14859\n",
      "2020-02-11 08:21:51 [urllib3.connectionpool] DEBUG: Starting new HTTPS connection (1): www.ey.com:443\n"
     ]
    },
    {
     "name": "stdout",
     "output_type": "stream",
     "text": [
      "https://www.ey.com/en_gl/advisory/how-do-you-run-the-business-when-ai-is-steering-the-ship\n"
     ]
    },
    {
     "name": "stderr",
     "output_type": "stream",
     "text": [
      "2020-02-11 08:21:51 [urllib3.connectionpool] DEBUG: https://www.ey.com:443 \"GET /en_gl/advisory/how-do-you-run-the-business-when-ai-is-steering-the-ship HTTP/1.1\" 200 15259\n",
      "2020-02-11 08:21:52 [urllib3.connectionpool] DEBUG: Starting new HTTPS connection (1): www.ey.com:443\n"
     ]
    },
    {
     "name": "stdout",
     "output_type": "stream",
     "text": [
      "https://www.ey.com/en_gl/life-sciences/how-research-and-development-is-being-augmented-with-artificial-intelligence\n"
     ]
    },
    {
     "name": "stderr",
     "output_type": "stream",
     "text": [
      "2020-02-11 08:21:52 [urllib3.connectionpool] DEBUG: https://www.ey.com:443 \"GET /en_gl/life-sciences/how-research-and-development-is-being-augmented-with-artificial-intelligence HTTP/1.1\" 200 14785\n",
      "2020-02-11 08:21:52 [urllib3.connectionpool] DEBUG: Starting new HTTPS connection (1): www.ey.com:443\n"
     ]
    },
    {
     "name": "stdout",
     "output_type": "stream",
     "text": [
      "https://www.ey.com/en_gl/assurance/how-ai-will-enable-us-to-work-smarter-faster\n"
     ]
    },
    {
     "name": "stderr",
     "output_type": "stream",
     "text": [
      "2020-02-11 08:21:53 [urllib3.connectionpool] DEBUG: https://www.ey.com:443 \"GET /en_gl/assurance/how-ai-will-enable-us-to-work-smarter-faster HTTP/1.1\" 200 14565\n",
      "2020-02-11 08:21:53 [urllib3.connectionpool] DEBUG: Starting new HTTPS connection (1): www.ey.com:443\n"
     ]
    },
    {
     "name": "stdout",
     "output_type": "stream",
     "text": [
      "https://www.ey.com/en_gl/financial-services-emeia/impact-of-robotics-rpa-and-ai-on-the-insurance-industry-challenges-and-opportunities\n"
     ]
    },
    {
     "name": "stderr",
     "output_type": "stream",
     "text": [
      "2020-02-11 08:21:54 [urllib3.connectionpool] DEBUG: https://www.ey.com:443 \"GET /en_gl/financial-services-emeia/impact-of-robotics-rpa-and-ai-on-the-insurance-industry-challenges-and-opportunities HTTP/1.1\" 200 17278\n",
      "2020-02-11 08:21:54 [urllib3.connectionpool] DEBUG: Starting new HTTPS connection (1): www.ey.com:443\n"
     ]
    },
    {
     "name": "stdout",
     "output_type": "stream",
     "text": [
      "https://www.ey.com/en_gl/advisory/how-digital-agriculture-and-big-data-will-help-to-feed-a-growing-world\n"
     ]
    },
    {
     "name": "stderr",
     "output_type": "stream",
     "text": [
      "2020-02-11 08:21:55 [urllib3.connectionpool] DEBUG: https://www.ey.com:443 \"GET /en_gl/advisory/how-digital-agriculture-and-big-data-will-help-to-feed-a-growing-world HTTP/1.1\" 200 16433\n",
      "2020-02-11 08:21:55 [scrapy.extensions.logstats] INFO: Crawled 125 pages (at 54 pages/min), scraped 0 items (at 0 items/min)\n",
      "2020-02-11 08:21:55 [scrapy.core.engine] INFO: Closing spider (finished)\n",
      "2020-02-11 08:21:55 [scrapy.statscollectors] INFO: Dumping Scrapy stats:\n",
      "{'downloader/request_bytes': 35180,\n",
      " 'downloader/request_count': 125,\n",
      " 'downloader/request_method_count/GET': 125,\n",
      " 'downloader/response_bytes': 2125820,\n",
      " 'downloader/response_count': 125,\n",
      " 'downloader/response_status_count/200': 125,\n",
      " 'elapsed_time_seconds': 121.690952,\n",
      " 'finish_reason': 'finished',\n",
      " 'finish_time': datetime.datetime(2020, 2, 11, 7, 21, 55, 723616),\n",
      " 'log_count/DEBUG': 375,\n",
      " 'log_count/INFO': 12,\n",
      " 'response_received_count': 125,\n",
      " 'scheduler/dequeued': 125,\n",
      " 'scheduler/dequeued/memory': 125,\n",
      " 'scheduler/enqueued': 125,\n",
      " 'scheduler/enqueued/memory': 125,\n",
      " 'start_time': datetime.datetime(2020, 2, 11, 7, 19, 54, 32664)}\n",
      "2020-02-11 08:21:55 [scrapy.core.engine] INFO: Spider closed (finished)\n"
     ]
    }
   ],
   "source": [
    "from scrapy.crawler import CrawlerProcess\n",
    "from datetime import date\n",
    "\n",
    "# Create class\n",
    "class ey_spider (scrapy.Spider):\n",
    "    name = \"ey_spider\"\n",
    "    \n",
    "    def start_requests(self):\n",
    "        urls = urllist\n",
    "        for url in urls:\n",
    "            yield scrapy.Request(url = url, callback = self.parse)\n",
    "            \n",
    "    #Parsing\n",
    "    def parse(self, response):\n",
    "        print(response.url)\n",
    "        \n",
    "        page_dict = dict()\n",
    "        siteno = len(main_dict) + 1\n",
    "        \n",
    "        page_url = response.url\n",
    "        \n",
    "        page_html = requests.get(page_url).content\n",
    "        page_sel = Selector(text = page_html)\n",
    "        \n",
    "        title_sel = 'title ::text'\n",
    "        text_sel = 'div#content ::text'\n",
    "                \n",
    "        page_title = page_sel.css(title_sel).extract()\n",
    "        page_date = page_sel.xpath(\"//script[@type='text/javascript']\").re('(?<=\\\"articlePublishDate\\\":\\\")\\d{2}/\\d{2}/\\d{4}')[0]\n",
    "        page_dldate = date.today().strftime('%Y/%m/%d')\n",
    "        page_text = page_sel.css(text_sel).extract()\n",
    "                \n",
    "        page_text = ' '.join(page_text)\n",
    "        \n",
    "        page_id = 'site' + str(siteno)\n",
    "        \n",
    "        page_dict['url'] = page_url\n",
    "        page_dict['title'] = page_title\n",
    "        page_dict['article date'] = page_date\n",
    "        page_dict['download date'] = page_dldate\n",
    "        page_dict['text'] = page_text\n",
    "        page_dict['agency'] = \"EY\"\n",
    "        \n",
    "        main_dict[page_id] = page_dict\n",
    "        \n",
    "#Initiatlize dictionary\n",
    "main_dict = dict()\n",
    "\n",
    "#Run spider\n",
    "process = CrawlerProcess()\n",
    "siteno = 0\n",
    "process.crawl(ey_spider)\n",
    "process.start()"
   ]
  },
  {
   "cell_type": "code",
   "execution_count": 8,
   "metadata": {},
   "outputs": [
    {
     "data": {
      "text/plain": [
       "125"
      ]
     },
     "execution_count": 8,
     "metadata": {},
     "output_type": "execute_result"
    }
   ],
   "source": [
    "process.stop()\n",
    "len(main_dict)"
   ]
  },
  {
   "cell_type": "code",
   "execution_count": 27,
   "metadata": {},
   "outputs": [],
   "source": [
    "import json\n",
    "\n",
    "with open('..\\\\data_raw\\\\ey_articles.json', 'w') as file:\n",
    "    json.dump(main_dict, file)"
   ]
  }
 ],
 "metadata": {
  "kernelspec": {
   "display_name": "Python 3",
   "language": "python",
   "name": "python3"
  },
  "language_info": {
   "codemirror_mode": {
    "name": "ipython",
    "version": 3
   },
   "file_extension": ".py",
   "mimetype": "text/x-python",
   "name": "python",
   "nbconvert_exporter": "python",
   "pygments_lexer": "ipython3",
   "version": "3.7.4"
  }
 },
 "nbformat": 4,
 "nbformat_minor": 2
}
