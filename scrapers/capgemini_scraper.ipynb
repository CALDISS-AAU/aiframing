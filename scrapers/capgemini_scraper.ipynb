{
 "cells": [
  {
   "cell_type": "markdown",
   "metadata": {},
   "source": [
    "# Capgemini Scraper\n",
    "\n",
    "Capgemini (IT consulting nr. 2 mener jeg) https://www.capgemini.com/\n",
    "\n",
    "This scraper collects texts on \"Artificial Intelligence\" from Capgemini: https://www.capgemini.com/"
   ]
  },
  {
   "cell_type": "markdown",
   "metadata": {},
   "source": [
    "## Libraries\n",
    "\n",
    "Loading libraries..."
   ]
  },
  {
   "cell_type": "code",
   "execution_count": 2,
   "metadata": {},
   "outputs": [],
   "source": [
    "import scrapy\n",
    "import requests\n",
    "from scrapy import Selector\n",
    "\n",
    "import os\n",
    "import sys\n",
    "from datetime import date\n",
    "\n",
    "from selenium import webdriver\n",
    "from selenium.webdriver.common.keys import Keys\n",
    "from selenium.webdriver.firefox.firefox_binary import FirefoxBinary\n",
    "from selenium.common.exceptions import NoSuchElementException, WebDriverException, ElementNotInteractableException\n",
    "from selenium.webdriver.common.action_chains import ActionChains\n",
    "\n",
    "import re\n",
    "\n",
    "import time"
   ]
  },
  {
   "cell_type": "markdown",
   "metadata": {},
   "source": [
    "## URL List\n",
    "The scraper collects urls from the returned results from searching \"artificial intelligence\" capgemini.com: https://www.capgemini.com/?s=artificial+intelligence. Resutls are filtered by being a \"post\" or an \"article\"."
   ]
  },
  {
   "cell_type": "code",
   "execution_count": 3,
   "metadata": {},
   "outputs": [],
   "source": [
    "start_url = 'https://www.capgemini.com/?s=artificial+intelligence'"
   ]
  },
  {
   "cell_type": "code",
   "execution_count": 23,
   "metadata": {},
   "outputs": [
    {
     "name": "stdout",
     "output_type": "stream",
     "text": [
      "No next button found\n"
     ]
    }
   ],
   "source": [
    "from selenium.webdriver.support import expected_conditions as EC\n",
    "from selenium.webdriver.common.by import By\n",
    "from selenium.webdriver.support.ui import WebDriverWait as wait\n",
    "from selenium.webdriver.chrome.options import Options\n",
    "\n",
    "chromeOptions = Options()\n",
    "chromeOptions.add_argument(\"--kiosk\")\n",
    "\n",
    "driver = webdriver.Chrome(executable_path = 'C:\\\\bin\\\\chromedriver', options=chromeOptions)\n",
    "\n",
    "driver.get(start_url)\n",
    "time.sleep(2)\n",
    "driver.find_element_by_css_selector('a.section__button--cookies').click()\n",
    "time.sleep(2)\n",
    "\n",
    "pageSel = Selector(text = driver.page_source)\n",
    "\n",
    "urldict = {}\n",
    "urldict['urls'] = pageSel.css('h3.card_default__title > a::attr(href)').extract()\n",
    "urldict['type'] = pageSel.css('div.card_default__content > div.card_default__type > span ::text').extract()\n",
    "\n",
    "while True:\n",
    "    try:\n",
    "        driver.find_element_by_css_selector(\"div.pagination_show__label > a.next.page-numbers\").click()\n",
    "        time.sleep(3)\n",
    "        \n",
    "        pageSel = Selector(text = driver.page_source)\n",
    "        \n",
    "        types = pageSel.css('div.card_default__content > div.card_default__type > span ::text').extract()\n",
    "        urls = pageSel.css('h3.card_default__title > a::attr(href)').extract()\n",
    "        \n",
    "        urldict['type'] = urldict['type']+ types\n",
    "        urldict['urls'] = urldict['urls'] + urls\n",
    "    except (NoSuchElementException, WebDriverException, ElementNotInteractableException) as e:\n",
    "        print(\"No next button found\")\n",
    "        break\n",
    "\n",
    "driver.quit()"
   ]
  },
  {
   "cell_type": "code",
   "execution_count": 24,
   "metadata": {},
   "outputs": [
    {
     "name": "stdout",
     "output_type": "stream",
     "text": [
      "1059 1059\n"
     ]
    }
   ],
   "source": [
    "print(len(urldict['type']),\n",
    "     len(urldict['urls']))"
   ]
  },
  {
   "cell_type": "code",
   "execution_count": 25,
   "metadata": {},
   "outputs": [
    {
     "data": {
      "text/plain": [
       "514"
      ]
     },
     "execution_count": 25,
     "metadata": {},
     "output_type": "execute_result"
    }
   ],
   "source": [
    "from itertools import compress\n",
    "\n",
    "boollist = list()\n",
    "for typestr in urldict['type']:\n",
    "    boollist.append(typestr == 'Post' or typestr == 'Article')\n",
    "\n",
    "urllist = list(compress(urldict['urls'], boollist))\n",
    "len(urllist)"
   ]
  },
  {
   "cell_type": "markdown",
   "metadata": {},
   "source": [
    "### Save URLs"
   ]
  },
  {
   "cell_type": "code",
   "execution_count": 26,
   "metadata": {},
   "outputs": [],
   "source": [
    "#URL dump\n",
    "with open('../data_raw/urls/capgemini_urls.txt', 'w') as f:\n",
    "    for url in urllist:\n",
    "        f.write(url + \"\\n\")"
   ]
  },
  {
   "cell_type": "markdown",
   "metadata": {},
   "source": [
    "### Load URLs"
   ]
  },
  {
   "cell_type": "code",
   "execution_count": 27,
   "metadata": {},
   "outputs": [
    {
     "name": "stdout",
     "output_type": "stream",
     "text": [
      "514 \n",
      " https://www.capgemini.com/2020/02/algorithmic-consent-why-informed-consent-matters-in-an-age-of-artificial-intelligence/\n"
     ]
    }
   ],
   "source": [
    "# Load URLs\n",
    "urllist = []\n",
    "with open('../data_raw/urls/capgemini_urls.txt', 'r') as f:\n",
    "    for line in f:\n",
    "        urllist.append(line.strip())\n",
    "\n",
    "print(len(urllist),\n",
    "      '\\n',\n",
    "     urllist[0])"
   ]
  },
  {
   "cell_type": "markdown",
   "metadata": {},
   "source": [
    "## Parsing single page"
   ]
  },
  {
   "cell_type": "code",
   "execution_count": 28,
   "metadata": {},
   "outputs": [
    {
     "data": {
      "text/plain": [
       "['https://www.capgemini.com/2020/02/algorithmic-consent-why-informed-consent-matters-in-an-age-of-artificial-intelligence/',\n",
       " 'https://www.capgemini.com/2020/02/us-manufacturers-slow-to-embrace-the-potential-of-artificial-intelligence/',\n",
       " 'https://www.capgemini.com/2020/01/what-will-artificial-intelligence-bring-in-2020/',\n",
       " 'https://www.capgemini.com/article/fundamental-impacts-in-artificial-intelligence-with-a-focus-on-ethics-in-ai/',\n",
       " 'https://www.capgemini.com/2019/12/are-regional-firms-and-credit-unions-ready-to-bank-on-artificial-intelligence/',\n",
       " 'https://www.capgemini.com/2019/10/artificial-intelligence-is-an-important-cybersecurity-tool-but-its-no-silver-bullet/',\n",
       " 'https://www.capgemini.com/2019/08/the-ethics-of-artificial-intelligence/',\n",
       " 'https://www.capgemini.com/2019/07/breaking-through-in-artificial-intelligence/',\n",
       " 'https://www.capgemini.com/article/implementing-artificial-intelligence-successfully/',\n",
       " 'https://www.capgemini.com/2019/02/ai-ml-breeds-new-form-capitalism/']"
      ]
     },
     "execution_count": 28,
     "metadata": {},
     "output_type": "execute_result"
    }
   ],
   "source": [
    "urllist[0:10]"
   ]
  },
  {
   "cell_type": "code",
   "execution_count": 121,
   "metadata": {},
   "outputs": [
    {
     "data": {
      "text/plain": [
       "'https://www.capgemini.com/2016/12/kickstart-my-year-7-trends-in-insights-data-for-2017/'"
      ]
     },
     "execution_count": 121,
     "metadata": {},
     "output_type": "execute_result"
    }
   ],
   "source": [
    "page_url = urllist[511] #3\n",
    "page_html = requests.get(page_url).content\n",
    "page_sel = Selector(text = page_html)\n",
    "page_url"
   ]
  },
  {
   "cell_type": "code",
   "execution_count": 122,
   "metadata": {},
   "outputs": [],
   "source": [
    "page_dict = dict()\n",
    "main_dict = dict()"
   ]
  },
  {
   "cell_type": "code",
   "execution_count": 123,
   "metadata": {},
   "outputs": [],
   "source": [
    "type_regex = r'(?<=\\[\\{\\\"post_type\\\":\\\")\\w{2,10}(?=\\\",\\\")'\n",
    "date_regex = r'(?<=\\\",\\\"date_posted\\\":\\\")\\d{4}\\-\\d{1,2}\\-\\d{1,2}'\n",
    "\n",
    "page_scripts = page_sel.css('script::text').extract()\n",
    "page_scripts = ' '.join(page_scripts)\n",
    "\n",
    "siteno = 1\n",
    "\n",
    "page_id = 'site' + str(siteno)\n",
    "\n",
    "page_title = page_sel.css('title::text').extract_first()\n",
    "page_type = re.findall(type_regex, page_scripts)[0]\n",
    "page_date = re.findall(date_regex, page_scripts)[0]\n",
    "page_dldate = date.today().strftime('%Y/%m/%d')\n",
    "\n",
    "page_text = page_sel.css('div.hero-inset__intro > p::text').extract()\n",
    "page_text.append(' '.join(page_sel.css('article > div.section.container > article > div.row > div.section__block > div.article-text ::text').extract()))\n",
    "page_text = ' '.join(page_text)\n",
    "\n",
    "page_dict['url'] = page_url\n",
    "page_dict['title'] = page_title\n",
    "page_dict['article date'] = page_date\n",
    "page_dict['download date'] = page_dldate\n",
    "page_dict['text type'] = page_type\n",
    "page_dict['text'] = page_text\n",
    "\n",
    "main_dict[page_id] = page_dict"
   ]
  },
  {
   "cell_type": "code",
   "execution_count": 124,
   "metadata": {},
   "outputs": [
    {
     "name": "stdout",
     "output_type": "stream",
     "text": [
      "1 {'url': 'https://www.capgemini.com/2016/12/kickstart-my-year-7-trends-in-insights-data-for-2017/', 'title': 'Kickstart My Year: 7 trends in Insights & Data for 2017 – Capgemini Worldwide', 'article date': '2016-12-21', 'download date': '2020/03/11', 'text type': 'post', 'text': 'Still remember our rogue kickoff for 2016 with seven key trends in the world of BI, analytics and AI? Pretty accurate they were, no? Anyway, much has changed in just a year and we have much to look forward to in 2017, with data being the undisputed driver of any serious business change effort. Just […] \\n\\t\\t\\t\\t\\t\\n\\t\\t\\t\\t\\t Still remember our  rogue kickoff for 2016  with seven key trends in the world of BI, analytics and AI? Pretty accurate they were, no? Anyway, much has changed in just a year and we have much to look forward to in 2017, with data being the undisputed driver of any serious business change effort. Just like last time, we have carried out a quick survey among our global Advisory & Architecture community to identify the hottest topics in insights & data – the ones that we feel will have a real impact on businesses. \\n In fact, some of the topics also contain a sneak preview of our  TechnoVision  2017 release – due at the beginning of next year. \\n It’s a motley crew of trends here, as you’ll see, with major themes such as automation, enterprise-scalability,  cloudification  and (surprise) the rise of Machine Intelligence making it to the top of the pile. \\n So –  Kickstart My Year  – here’s what you need to know for 2017: \\n 1. BI Curious \\n The recent wave of technology innovations – driven by Big Data – is now starting to enter the mainstream of ‘plain’ BI as well. The world of reporting & dashboards and descriptive & diagnostic analytics is increasingly benefiting from a powerful mix of cloud, open source solutions, self-service platforms, advanced visualization, collaboration tools, automation, cognitive interfaces and AI-assistance. A pretty compelling picture to explore with both convincing cost benefits and productivity as well as improved agility and effectiveness. It will give the seemingly established BI landscape a radically modernized,  vanguard  face, enchanting business users and solution developers alike. \\n 2. The Empire Strikes Back \\n As often is the case, the disruptive innovations in data are coming from the open source and start-up communities. And it has taken the major industry players arguably way too long to catch up. But rebound time, it is now. Technology leaders such as Microsoft (look at how they embrace the  open source ecosystem ), SAP (bridging Hana and Big Data platforms, acquired their own  Hadoop-as-a-service provider ), IBM (yes, there is life outside Watson) and SAS (going cloud and Big Data with their new  Viya  platform) are on full speed. And the interesting thing? They are merging their enterprise-scale, high-productivity tools with innovative, new technologies. The best of both worlds. In any galaxy, really. \\n 3. Ceci n’est pas un Éléphant \\n Don’t know what an elephant has to do with Big Data? Go work on your street credibility. For all the others, it’s good to realize that nowadays the Hadoop ecosystem is no longer just about – well – Hadoop. Although arguably the entire Big Data revolution started with the abilities of the Hadoop Distributed File System (HDFS) to store and provide access to huge amounts of data in any structure or  unstructure , it’s now the powerful set of analytical tools on top of it – such as Spark, Storm and HBase – that really provide the new value. Expect your shiny Hadoop servers therefore to disappear sooner or later. First into the cloud, provided as a scalable, on-demand service, and ultimately being replaced by other – even more effective – storage and access services. \\n 4 At Your Service \\n One does not just become insight-driven by hiring data scientists and data engineers. Every business person should become a bit of a data expert, perhaps even a ‘citizen’ data scientist. The best insights are created in near proximity to the business and for that, data must be discovered, prepared, analyzed and visualized by the business. It requires a highly automated data ‘pipeline’ that gives agile access to the right data – all the way from its ingestion, while ensuring security, privacy and enterprise quality. It also requires easy-to-use, self-service tools that power the business to take matters into their own hands and work together to become insight-driven. \\n It will certainly also depend on an increasing level of Machine Intelligence, to help business users to identify and prepare exactly the right assets in their corporate data lakes (watch Informatica for this with their  Live Data Map ). Expect to hear more of the concept of the  Data Concierge , as your intelligent ‘one-stop shop’ for data. \\n 5. You Do The Math \\n We know, we know. Data science is not necessarily about math. But it sure sounds good as a trend headline, doesn’t it? And although the BI people rightfully are claiming their part of the new data landscape, the future is definitely in algorithms. Algorithms that help make much better-informed decisions, predict what will happen and even prescribe what should be done to achieve objectives in an end-to-end business. An eclectic catalogue of algorithms could be the most differentiating business asset, whether pertaining to the customer experience, internal operations, human resources, risk, fraud or physical assets ( IoT  almost equals  algorithms ). \\n It requires understanding the full analytics lifecycle, building the new skills that are needed and gradually establishing a true analytics culture across the organization. In practice, a combination between a top-down vision of what the enterprise wants to achieve through algorithms, and a hands-on, applied way of getting busy with early applications and results will work best. \\n And there is a quickly growing  market  of sector and domain algorithms out there as well. Algorithms that are ready to be used, right out of the box. So you don’t need to science your way out of this all on your own. \\n 6. The P&L of Trust \\n Particularly when you are in Europe, the upcoming  General Data Protection Regulation  (GDPR) is likely to have a major impact on your insights & data plans for 2017. If only to comply by the 28 th  of May 2018, as any fine may be up to 4% of your organization’s yearly revenue. It’s what some might consider a valid business case. A lot of work may need to be done, in terms of securing both the privacy of individuals and the security of their personal data. It may involve new technologies, new roles, new organizational structures and a thorough overhaul of the existing data landscape. \\n Seems like a nuisance, admitted. \\n But on the bright side, companies that do it well have the unique opportunity to reach out to their customers, be transparent and conversational about the use of their personal data and – ultimately – use trustworthiness as a competitive differentiator. From that perspective, any strategic decision in the data context should be considered in terms of its impact on the bottom line of trust. If we’d been completely without inspiration, we might have called this crucial trend ‘Trust Is The New Oil’ (but of course we didn’t). \\n 7. Max Machina \\n Breakthroughs in particularly deep learning and raw computing power are fueling the renaissance of AI and Machine Intelligence (there is  Machine Intelligence 3.0  now; guess we had that coming). And it’s so much more than yet another drop in the ocean of hypes. Of course, you can go for the  Full Watson  and aim for a drastic overhaul of your business model. But this will take time and a relentless focus. \\n In the meantime, you may want to consider exploring conversational technologies (such as Facebook’s  Messenger  platform or the Microsoft  Bot framework ), embed AI in your business applications (Salesforce  would agree ), apply cognitive technologies to your unstructured text (for example to understand what is in a complex contract with  RAVN ) and even use it to optimize your own IT processes ( smart automation  won’t be able to do without). You know, the latter if only as a way of drinking your own champagne. \\n \\xa0 \\n And now we’re on the topic anyway: by all means, thoroughly enjoy the holiday season! We’ll see you on the other side for what promises to be a breakthrough year for everything insights & data. \\n\\t\\t\\t\\t'}\n"
     ]
    }
   ],
   "source": [
    "print(len(main_dict),\n",
    "      main_dict['site1'])"
   ]
  },
  {
   "cell_type": "markdown",
   "metadata": {},
   "source": [
    "## Capgemini Spider"
   ]
  },
  {
   "cell_type": "code",
   "execution_count": 125,
   "metadata": {},
   "outputs": [
    {
     "name": "stderr",
     "output_type": "stream",
     "text": [
      "2020-03-11 09:18:12 [scrapy.utils.log] INFO: Scrapy 1.5.2 started (bot: scrapybot)\n",
      "2020-03-11 09:18:12 [scrapy.utils.log] INFO: Versions: lxml 4.3.2.0, libxml2 2.9.9, cssselect 1.0.3, parsel 1.5.1, w3lib 1.20.0, Twisted 18.9.0, Python 3.6.8 |Anaconda, Inc.| (default, Feb 21 2019, 18:30:04) [MSC v.1916 64 bit (AMD64)], pyOpenSSL 19.0.0 (OpenSSL 1.1.1d  10 Sep 2019), cryptography 2.6.1, Platform Windows-10-10.0.18362-SP0\n",
      "2020-03-11 09:18:12 [scrapy.crawler] INFO: Overridden settings: {}\n",
      "2020-03-11 09:18:13 [scrapy.extensions.telnet] INFO: Telnet Password: 7fbec4948f7a5385\n",
      "2020-03-11 09:18:13 [scrapy.middleware] INFO: Enabled extensions:\n",
      "['scrapy.extensions.corestats.CoreStats',\n",
      " 'scrapy.extensions.telnet.TelnetConsole',\n",
      " 'scrapy.extensions.logstats.LogStats']\n",
      "2020-03-11 09:18:14 [scrapy.middleware] INFO: Enabled downloader middlewares:\n",
      "['scrapy.downloadermiddlewares.httpauth.HttpAuthMiddleware',\n",
      " 'scrapy.downloadermiddlewares.downloadtimeout.DownloadTimeoutMiddleware',\n",
      " 'scrapy.downloadermiddlewares.defaultheaders.DefaultHeadersMiddleware',\n",
      " 'scrapy.downloadermiddlewares.useragent.UserAgentMiddleware',\n",
      " 'scrapy.downloadermiddlewares.retry.RetryMiddleware',\n",
      " 'scrapy.downloadermiddlewares.redirect.MetaRefreshMiddleware',\n",
      " 'scrapy.downloadermiddlewares.httpcompression.HttpCompressionMiddleware',\n",
      " 'scrapy.downloadermiddlewares.redirect.RedirectMiddleware',\n",
      " 'scrapy.downloadermiddlewares.cookies.CookiesMiddleware',\n",
      " 'scrapy.downloadermiddlewares.httpproxy.HttpProxyMiddleware',\n",
      " 'scrapy.downloadermiddlewares.stats.DownloaderStats']\n",
      "2020-03-11 09:18:14 [scrapy.middleware] INFO: Enabled spider middlewares:\n",
      "['scrapy.spidermiddlewares.httperror.HttpErrorMiddleware',\n",
      " 'scrapy.spidermiddlewares.offsite.OffsiteMiddleware',\n",
      " 'scrapy.spidermiddlewares.referer.RefererMiddleware',\n",
      " 'scrapy.spidermiddlewares.urllength.UrlLengthMiddleware',\n",
      " 'scrapy.spidermiddlewares.depth.DepthMiddleware']\n",
      "2020-03-11 09:18:14 [scrapy.middleware] INFO: Enabled item pipelines:\n",
      "[]\n",
      "2020-03-11 09:18:14 [scrapy.core.engine] INFO: Spider opened\n",
      "2020-03-11 09:18:14 [scrapy.extensions.logstats] INFO: Crawled 0 pages (at 0 pages/min), scraped 0 items (at 0 items/min)\n",
      "2020-03-11 09:18:14 [scrapy.extensions.telnet] DEBUG: Telnet console listening on 127.0.0.1:6023\n",
      "2020-03-11 09:18:14 [scrapy.core.engine] DEBUG: Crawled (200) <GET https://www.capgemini.com/article/fundamental-impacts-in-artificial-intelligence-with-a-focus-on-ethics-in-ai/> (referer: None)\n",
      "2020-03-11 09:18:14 [scrapy.core.engine] DEBUG: Crawled (200) <GET https://www.capgemini.com/2020/02/algorithmic-consent-why-informed-consent-matters-in-an-age-of-artificial-intelligence/> (referer: None)\n",
      "2020-03-11 09:18:14 [urllib3.connectionpool] DEBUG: Starting new HTTPS connection (1): www.capgemini.com:443\n",
      "2020-03-11 09:18:14 [urllib3.connectionpool] DEBUG: https://www.capgemini.com:443 \"GET /article/fundamental-impacts-in-artificial-intelligence-with-a-focus-on-ethics-in-ai/ HTTP/1.1\" 200 24252\n",
      "2020-03-11 09:18:14 [urllib3.connectionpool] DEBUG: Starting new HTTPS connection (1): www.capgemini.com:443\n"
     ]
    },
    {
     "name": "stdout",
     "output_type": "stream",
     "text": [
      "https://www.capgemini.com/article/fundamental-impacts-in-artificial-intelligence-with-a-focus-on-ethics-in-ai/\n",
      "https://www.capgemini.com/2020/02/algorithmic-consent-why-informed-consent-matters-in-an-age-of-artificial-intelligence/\n"
     ]
    },
    {
     "name": "stderr",
     "output_type": "stream",
     "text": [
      "2020-03-11 09:18:14 [urllib3.connectionpool] DEBUG: https://www.capgemini.com:443 \"GET /2020/02/algorithmic-consent-why-informed-consent-matters-in-an-age-of-artificial-intelligence/ HTTP/1.1\" 200 24209\n",
      "2020-03-11 09:18:15 [scrapy.core.engine] DEBUG: Crawled (200) <GET https://www.capgemini.com/2019/12/are-regional-firms-and-credit-unions-ready-to-bank-on-artificial-intelligence/> (referer: None)\n",
      "2020-03-11 09:18:15 [scrapy.core.engine] DEBUG: Crawled (200) <GET https://www.capgemini.com/2019/08/the-ethics-of-artificial-intelligence/> (referer: None)\n",
      "2020-03-11 09:18:15 [scrapy.core.engine] DEBUG: Crawled (200) <GET https://www.capgemini.com/2019/07/breaking-through-in-artificial-intelligence/> (referer: None)\n",
      "2020-03-11 09:18:15 [scrapy.core.engine] DEBUG: Crawled (200) <GET https://www.capgemini.com/2020/01/what-will-artificial-intelligence-bring-in-2020/> (referer: None)\n",
      "2020-03-11 09:18:15 [scrapy.core.engine] DEBUG: Crawled (200) <GET https://www.capgemini.com/2020/02/us-manufacturers-slow-to-embrace-the-potential-of-artificial-intelligence/> (referer: None)\n",
      "2020-03-11 09:18:15 [scrapy.core.engine] DEBUG: Crawled (200) <GET https://www.capgemini.com/2019/02/artificial-intelligence-in-testing-top-five-use-cases-in-financial-services-in-2019/> (referer: None)\n",
      "2020-03-11 09:18:15 [scrapy.core.engine] DEBUG: Crawled (200) <GET https://www.capgemini.com/2019/10/artificial-intelligence-is-an-important-cybersecurity-tool-but-its-no-silver-bullet/> (referer: None)\n",
      "2020-03-11 09:18:15 [urllib3.connectionpool] DEBUG: Starting new HTTPS connection (1): www.capgemini.com:443\n",
      "2020-03-11 09:18:15 [urllib3.connectionpool] DEBUG: https://www.capgemini.com:443 \"GET /2019/12/are-regional-firms-and-credit-unions-ready-to-bank-on-artificial-intelligence/ HTTP/1.1\" 200 29260\n",
      "2020-03-11 09:18:15 [scrapy.core.engine] DEBUG: Crawled (200) <GET https://www.capgemini.com/article/implementing-artificial-intelligence-successfully/> (referer: None)\n",
      "2020-03-11 09:18:15 [scrapy.core.engine] DEBUG: Crawled (200) <GET https://www.capgemini.com/2019/02/ai-ml-breeds-new-form-capitalism/> (referer: None)\n",
      "2020-03-11 09:18:15 [urllib3.connectionpool] DEBUG: Starting new HTTPS connection (1): www.capgemini.com:443\n"
     ]
    },
    {
     "name": "stdout",
     "output_type": "stream",
     "text": [
      "https://www.capgemini.com/2019/12/are-regional-firms-and-credit-unions-ready-to-bank-on-artificial-intelligence/\n",
      "https://www.capgemini.com/2019/08/the-ethics-of-artificial-intelligence/\n"
     ]
    },
    {
     "name": "stderr",
     "output_type": "stream",
     "text": [
      "2020-03-11 09:18:15 [urllib3.connectionpool] DEBUG: https://www.capgemini.com:443 \"GET /2019/08/the-ethics-of-artificial-intelligence/ HTTP/1.1\" 200 23554\n",
      "2020-03-11 09:18:15 [urllib3.connectionpool] DEBUG: Starting new HTTPS connection (1): www.capgemini.com:443\n"
     ]
    },
    {
     "name": "stdout",
     "output_type": "stream",
     "text": [
      "https://www.capgemini.com/2019/07/breaking-through-in-artificial-intelligence/\n"
     ]
    },
    {
     "name": "stderr",
     "output_type": "stream",
     "text": [
      "2020-03-11 09:18:16 [urllib3.connectionpool] DEBUG: https://www.capgemini.com:443 \"GET /2019/07/breaking-through-in-artificial-intelligence/ HTTP/1.1\" 200 None\n",
      "2020-03-11 09:18:16 [urllib3.connectionpool] DEBUG: Starting new HTTPS connection (1): www.capgemini.com:443\n",
      "2020-03-11 09:18:16 [urllib3.connectionpool] DEBUG: https://www.capgemini.com:443 \"GET /2020/01/what-will-artificial-intelligence-bring-in-2020/ HTTP/1.1\" 200 24716\n",
      "2020-03-11 09:18:16 [urllib3.connectionpool] DEBUG: Starting new HTTPS connection (1): www.capgemini.com:443\n"
     ]
    },
    {
     "name": "stdout",
     "output_type": "stream",
     "text": [
      "https://www.capgemini.com/2020/01/what-will-artificial-intelligence-bring-in-2020/\n",
      "https://www.capgemini.com/2020/02/us-manufacturers-slow-to-embrace-the-potential-of-artificial-intelligence/\n"
     ]
    },
    {
     "name": "stderr",
     "output_type": "stream",
     "text": [
      "2020-03-11 09:18:16 [urllib3.connectionpool] DEBUG: https://www.capgemini.com:443 \"GET /2020/02/us-manufacturers-slow-to-embrace-the-potential-of-artificial-intelligence/ HTTP/1.1\" 200 None\n",
      "2020-03-11 09:18:16 [urllib3.connectionpool] DEBUG: Starting new HTTPS connection (1): www.capgemini.com:443\n"
     ]
    },
    {
     "name": "stdout",
     "output_type": "stream",
     "text": [
      "https://www.capgemini.com/2019/02/artificial-intelligence-in-testing-top-five-use-cases-in-financial-services-in-2019/\n"
     ]
    },
    {
     "name": "stderr",
     "output_type": "stream",
     "text": [
      "2020-03-11 09:18:17 [urllib3.connectionpool] DEBUG: https://www.capgemini.com:443 \"GET /2019/02/artificial-intelligence-in-testing-top-five-use-cases-in-financial-services-in-2019/ HTTP/1.1\" 200 None\n",
      "2020-03-11 09:18:17 [urllib3.connectionpool] DEBUG: Starting new HTTPS connection (1): www.capgemini.com:443\n"
     ]
    },
    {
     "name": "stdout",
     "output_type": "stream",
     "text": [
      "https://www.capgemini.com/2019/10/artificial-intelligence-is-an-important-cybersecurity-tool-but-its-no-silver-bullet/\n"
     ]
    },
    {
     "name": "stderr",
     "output_type": "stream",
     "text": [
      "2020-03-11 09:18:18 [urllib3.connectionpool] DEBUG: https://www.capgemini.com:443 \"GET /2019/10/artificial-intelligence-is-an-important-cybersecurity-tool-but-its-no-silver-bullet/ HTTP/1.1\" 200 None\n",
      "2020-03-11 09:18:18 [scrapy.core.engine] DEBUG: Crawled (200) <GET https://www.capgemini.com/2018/11/three-keys-to-e-commerce-guided-by-artificial-intelligence/> (referer: None)\n",
      "2020-03-11 09:18:18 [scrapy.core.engine] DEBUG: Crawled (200) <GET https://www.capgemini.com/2018/12/the-impact-of-artificial-intelligence-ai-on-business-and-insights/> (referer: None)\n",
      "2020-03-11 09:18:18 [scrapy.core.engine] DEBUG: Crawled (200) <GET https://www.capgemini.com/2018/11/artificial-intelligence-learning-from-insights/> (referer: None)\n",
      "2020-03-11 09:18:18 [scrapy.core.engine] DEBUG: Crawled (200) <GET https://www.capgemini.com/2018/11/transforming-the-customer-experience-through-artificial-intelligence/> (referer: None)\n",
      "2020-03-11 09:18:18 [scrapy.core.engine] DEBUG: Crawled (200) <GET https://www.capgemini.com/2019/01/ai-in-the-mirror/> (referer: None)\n",
      "2020-03-11 09:18:18 [scrapy.core.engine] DEBUG: Crawled (200) <GET https://www.capgemini.com/2018/10/artificial-intelligence-and-conversational-user-interfaces-powering-customer-experience/> (referer: None)\n",
      "2020-03-11 09:18:18 [urllib3.connectionpool] DEBUG: Starting new HTTPS connection (1): www.capgemini.com:443\n"
     ]
    },
    {
     "name": "stdout",
     "output_type": "stream",
     "text": [
      "https://www.capgemini.com/article/implementing-artificial-intelligence-successfully/\n"
     ]
    },
    {
     "name": "stderr",
     "output_type": "stream",
     "text": [
      "2020-03-11 09:18:18 [urllib3.connectionpool] DEBUG: https://www.capgemini.com:443 \"GET /article/implementing-artificial-intelligence-successfully/ HTTP/1.1\" 200 None\n",
      "2020-03-11 09:18:18 [urllib3.connectionpool] DEBUG: Starting new HTTPS connection (1): www.capgemini.com:443\n",
      "2020-03-11 09:18:18 [urllib3.connectionpool] DEBUG: https://www.capgemini.com:443 \"GET /2019/02/ai-ml-breeds-new-form-capitalism/ HTTP/1.1\" 200 26857\n",
      "2020-03-11 09:18:19 [scrapy.core.engine] DEBUG: Crawled (200) <GET https://www.capgemini.com/2018/09/ai-should-stand-for-augmented-intelligence-not-artificial-intelligence/> (referer: None)\n",
      "2020-03-11 09:18:19 [urllib3.connectionpool] DEBUG: Starting new HTTPS connection (1): www.capgemini.com:443\n"
     ]
    },
    {
     "name": "stdout",
     "output_type": "stream",
     "text": [
      "https://www.capgemini.com/2019/02/ai-ml-breeds-new-form-capitalism/\n",
      "https://www.capgemini.com/2018/11/three-keys-to-e-commerce-guided-by-artificial-intelligence/\n"
     ]
    },
    {
     "name": "stderr",
     "output_type": "stream",
     "text": [
      "2020-03-11 09:18:19 [urllib3.connectionpool] DEBUG: https://www.capgemini.com:443 \"GET /2018/11/three-keys-to-e-commerce-guided-by-artificial-intelligence/ HTTP/1.1\" 200 None\n",
      "2020-03-11 09:18:19 [urllib3.connectionpool] DEBUG: Starting new HTTPS connection (1): www.capgemini.com:443\n",
      "2020-03-11 09:18:19 [urllib3.connectionpool] DEBUG: https://www.capgemini.com:443 \"GET /2018/12/the-impact-of-artificial-intelligence-ai-on-business-and-insights/ HTTP/1.1\" 200 22631\n",
      "2020-03-11 09:18:19 [urllib3.connectionpool] DEBUG: Starting new HTTPS connection (1): www.capgemini.com:443\n"
     ]
    },
    {
     "name": "stdout",
     "output_type": "stream",
     "text": [
      "https://www.capgemini.com/2018/12/the-impact-of-artificial-intelligence-ai-on-business-and-insights/\n",
      "https://www.capgemini.com/2018/11/artificial-intelligence-learning-from-insights/\n"
     ]
    },
    {
     "name": "stderr",
     "output_type": "stream",
     "text": [
      "2020-03-11 09:18:19 [urllib3.connectionpool] DEBUG: https://www.capgemini.com:443 \"GET /2018/11/artificial-intelligence-learning-from-insights/ HTTP/1.1\" 200 26721\n",
      "2020-03-11 09:18:19 [urllib3.connectionpool] DEBUG: Starting new HTTPS connection (1): www.capgemini.com:443\n",
      "2020-03-11 09:18:20 [urllib3.connectionpool] DEBUG: https://www.capgemini.com:443 \"GET /2018/11/transforming-the-customer-experience-through-artificial-intelligence/ HTTP/1.1\" 200 26482\n",
      "2020-03-11 09:18:20 [urllib3.connectionpool] DEBUG: Starting new HTTPS connection (1): www.capgemini.com:443\n"
     ]
    },
    {
     "name": "stdout",
     "output_type": "stream",
     "text": [
      "https://www.capgemini.com/2018/11/transforming-the-customer-experience-through-artificial-intelligence/\n",
      "https://www.capgemini.com/2019/01/ai-in-the-mirror/\n"
     ]
    },
    {
     "name": "stderr",
     "output_type": "stream",
     "text": [
      "2020-03-11 09:18:20 [urllib3.connectionpool] DEBUG: https://www.capgemini.com:443 \"GET /2019/01/ai-in-the-mirror/ HTTP/1.1\" 200 None\n",
      "2020-03-11 09:18:20 [urllib3.connectionpool] DEBUG: Starting new HTTPS connection (1): www.capgemini.com:443\n"
     ]
    },
    {
     "name": "stdout",
     "output_type": "stream",
     "text": [
      "https://www.capgemini.com/2018/10/artificial-intelligence-and-conversational-user-interfaces-powering-customer-experience/\n"
     ]
    },
    {
     "name": "stderr",
     "output_type": "stream",
     "text": [
      "2020-03-11 09:18:21 [urllib3.connectionpool] DEBUG: https://www.capgemini.com:443 \"GET /2018/10/artificial-intelligence-and-conversational-user-interfaces-powering-customer-experience/ HTTP/1.1\" 200 None\n",
      "2020-03-11 09:18:21 [scrapy.core.engine] DEBUG: Crawled (200) <GET https://www.capgemini.com/article/business-services/> (referer: None)\n",
      "2020-03-11 09:18:21 [scrapy.core.engine] DEBUG: Crawled (200) <GET https://www.capgemini.com/2018/08/smart-marketers-are-leveraging-artificial-intelligence-to-bolster-customer-experience/> (referer: None)\n",
      "2020-03-11 09:18:21 [scrapy.core.engine] DEBUG: Crawled (200) <GET https://www.capgemini.com/2018/10/augmented-artificial-intelligence-will-it-work/> (referer: None)\n",
      "2020-03-11 09:18:21 [scrapy.core.engine] DEBUG: Crawled (200) <GET https://www.capgemini.com/2018/07/marketing-disruption-6-7-artificial-intelligence-and-process-automation-influence-crm-but-are-you-doing-it-the-right-way/> (referer: None)\n",
      "2020-03-11 09:18:21 [scrapy.core.engine] DEBUG: Crawled (200) <GET https://www.capgemini.com/2018/07/artificial-intelligence-readiness-and-performance-benchmark/> (referer: None)\n",
      "2020-03-11 09:18:21 [urllib3.connectionpool] DEBUG: Starting new HTTPS connection (1): www.capgemini.com:443\n",
      "2020-03-11 09:18:21 [urllib3.connectionpool] DEBUG: https://www.capgemini.com:443 \"GET /2018/09/ai-should-stand-for-augmented-intelligence-not-artificial-intelligence/ HTTP/1.1\" 200 23297\n",
      "2020-03-11 09:18:21 [urllib3.connectionpool] DEBUG: Starting new HTTPS connection (1): www.capgemini.com:443\n"
     ]
    },
    {
     "name": "stdout",
     "output_type": "stream",
     "text": [
      "https://www.capgemini.com/2018/09/ai-should-stand-for-augmented-intelligence-not-artificial-intelligence/\n",
      "https://www.capgemini.com/article/business-services/\n"
     ]
    },
    {
     "name": "stderr",
     "output_type": "stream",
     "text": [
      "2020-03-11 09:18:22 [urllib3.connectionpool] DEBUG: https://www.capgemini.com:443 \"GET /article/business-services/ HTTP/1.1\" 200 None\n",
      "2020-03-11 09:18:22 [urllib3.connectionpool] DEBUG: Starting new HTTPS connection (1): www.capgemini.com:443\n",
      "2020-03-11 09:18:22 [urllib3.connectionpool] DEBUG: https://www.capgemini.com:443 \"GET /2018/08/smart-marketers-are-leveraging-artificial-intelligence-to-bolster-customer-experience/ HTTP/1.1\" 200 26994\n",
      "2020-03-11 09:18:22 [urllib3.connectionpool] DEBUG: Starting new HTTPS connection (1): www.capgemini.com:443\n"
     ]
    },
    {
     "name": "stdout",
     "output_type": "stream",
     "text": [
      "https://www.capgemini.com/2018/08/smart-marketers-are-leveraging-artificial-intelligence-to-bolster-customer-experience/\n",
      "https://www.capgemini.com/2018/10/augmented-artificial-intelligence-will-it-work/\n"
     ]
    },
    {
     "name": "stderr",
     "output_type": "stream",
     "text": [
      "2020-03-11 09:18:23 [urllib3.connectionpool] DEBUG: https://www.capgemini.com:443 \"GET /2018/10/augmented-artificial-intelligence-will-it-work/ HTTP/1.1\" 200 None\n",
      "2020-03-11 09:18:23 [urllib3.connectionpool] DEBUG: Starting new HTTPS connection (1): www.capgemini.com:443\n",
      "2020-03-11 09:18:23 [urllib3.connectionpool] DEBUG: https://www.capgemini.com:443 \"GET /2018/07/marketing-disruption-6-7-artificial-intelligence-and-process-automation-influence-crm-but-are-you-doing-it-the-right-way/ HTTP/1.1\" 200 23552\n",
      "2020-03-11 09:18:23 [urllib3.connectionpool] DEBUG: Starting new HTTPS connection (1): www.capgemini.com:443\n"
     ]
    },
    {
     "name": "stdout",
     "output_type": "stream",
     "text": [
      "https://www.capgemini.com/2018/07/marketing-disruption-6-7-artificial-intelligence-and-process-automation-influence-crm-but-are-you-doing-it-the-right-way/\n",
      "https://www.capgemini.com/2018/07/artificial-intelligence-readiness-and-performance-benchmark/\n"
     ]
    },
    {
     "name": "stderr",
     "output_type": "stream",
     "text": [
      "2020-03-11 09:18:24 [urllib3.connectionpool] DEBUG: https://www.capgemini.com:443 \"GET /2018/07/artificial-intelligence-readiness-and-performance-benchmark/ HTTP/1.1\" 200 None\n",
      "2020-03-11 09:18:24 [scrapy.core.engine] DEBUG: Crawled (200) <GET https://www.capgemini.com/2018/07/applying-artificial-intelligence-for-next-generation-conversational-customer-experience/> (referer: None)\n",
      "2020-03-11 09:18:24 [scrapy.core.engine] DEBUG: Crawled (200) <GET https://www.capgemini.com/2018/06/even-the-artificial-intelligence-you-buy-is-prejudiced/> (referer: None)\n",
      "2020-03-11 09:18:24 [urllib3.connectionpool] DEBUG: Starting new HTTPS connection (1): www.capgemini.com:443\n",
      "2020-03-11 09:18:24 [urllib3.connectionpool] DEBUG: https://www.capgemini.com:443 \"GET /2018/07/applying-artificial-intelligence-for-next-generation-conversational-customer-experience/ HTTP/1.1\" 200 23569\n",
      "2020-03-11 09:18:24 [urllib3.connectionpool] DEBUG: Starting new HTTPS connection (1): www.capgemini.com:443\n"
     ]
    },
    {
     "name": "stdout",
     "output_type": "stream",
     "text": [
      "https://www.capgemini.com/2018/07/applying-artificial-intelligence-for-next-generation-conversational-customer-experience/\n",
      "https://www.capgemini.com/2018/06/even-the-artificial-intelligence-you-buy-is-prejudiced/\n"
     ]
    },
    {
     "name": "stderr",
     "output_type": "stream",
     "text": [
      "2020-03-11 09:18:24 [urllib3.connectionpool] DEBUG: https://www.capgemini.com:443 \"GET /2018/06/even-the-artificial-intelligence-you-buy-is-prejudiced/ HTTP/1.1\" 200 None\n",
      "2020-03-11 09:18:24 [scrapy.core.engine] DEBUG: Crawled (200) <GET https://www.capgemini.com/2018/03/just-what-the-doctor-ordered-artificial-intelligence-and-medical-diagnosis-compared/> (referer: None)\n",
      "2020-03-11 09:18:24 [scrapy.core.engine] DEBUG: Crawled (200) <GET https://www.capgemini.com/2018/02/how-artificial-intelligence-is-changing-how-we-do-business/> (referer: None)\n",
      "2020-03-11 09:18:25 [scrapy.core.engine] DEBUG: Crawled (200) <GET https://www.capgemini.com/2018/01/alphago-documentary-on-googles-deep-mind-artificial-intelligence/> (referer: None)\n",
      "2020-03-11 09:18:25 [scrapy.core.engine] DEBUG: Crawled (200) <GET https://www.capgemini.com/2017/12/why-cios-should-consider-artificial-intelligence-to-manage-their-it-portfolio/> (referer: None)\n",
      "2020-03-11 09:18:25 [scrapy.core.engine] DEBUG: Crawled (200) <GET https://www.capgemini.com/2017/11/ai-and-the-healthcare-ecosystem-why-use-artificial-intelligence/> (referer: None)\n",
      "2020-03-11 09:18:25 [scrapy.core.engine] DEBUG: Crawled (200) <GET https://www.capgemini.com/2018/04/retail-offensive-part-5-i-robot-in-dealerships-implications-of-artificial-intelligence-on-automotive-retail/> (referer: None)\n",
      "2020-03-11 09:18:25 [scrapy.core.engine] DEBUG: Crawled (200) <GET https://www.capgemini.com/2017/10/audit-and-compliance-productivity-driven-by-artificial-intelligence/> (referer: None)\n",
      "2020-03-11 09:18:25 [scrapy.core.engine] DEBUG: Crawled (200) <GET https://www.capgemini.com/2017/10/artificial-intelligence-googles-deepmind-learned-without-human-input/> (referer: None)\n",
      "2020-03-11 09:18:25 [urllib3.connectionpool] DEBUG: Starting new HTTPS connection (1): www.capgemini.com:443\n",
      "2020-03-11 09:18:25 [urllib3.connectionpool] DEBUG: https://www.capgemini.com:443 \"GET /2018/03/just-what-the-doctor-ordered-artificial-intelligence-and-medical-diagnosis-compared/ HTTP/1.1\" 200 24017\n",
      "2020-03-11 09:18:25 [urllib3.connectionpool] DEBUG: Starting new HTTPS connection (1): www.capgemini.com:443\n"
     ]
    },
    {
     "name": "stdout",
     "output_type": "stream",
     "text": [
      "https://www.capgemini.com/2018/03/just-what-the-doctor-ordered-artificial-intelligence-and-medical-diagnosis-compared/\n",
      "https://www.capgemini.com/2018/02/how-artificial-intelligence-is-changing-how-we-do-business/\n"
     ]
    },
    {
     "name": "stderr",
     "output_type": "stream",
     "text": [
      "2020-03-11 09:18:25 [urllib3.connectionpool] DEBUG: https://www.capgemini.com:443 \"GET /2018/02/how-artificial-intelligence-is-changing-how-we-do-business/ HTTP/1.1\" 200 None\n",
      "2020-03-11 09:18:25 [urllib3.connectionpool] DEBUG: Starting new HTTPS connection (1): www.capgemini.com:443\n"
     ]
    },
    {
     "name": "stdout",
     "output_type": "stream",
     "text": [
      "https://www.capgemini.com/2018/01/alphago-documentary-on-googles-deep-mind-artificial-intelligence/\n"
     ]
    },
    {
     "name": "stderr",
     "output_type": "stream",
     "text": [
      "2020-03-11 09:18:26 [urllib3.connectionpool] DEBUG: https://www.capgemini.com:443 \"GET /2018/01/alphago-documentary-on-googles-deep-mind-artificial-intelligence/ HTTP/1.1\" 200 None\n",
      "2020-03-11 09:18:26 [urllib3.connectionpool] DEBUG: Starting new HTTPS connection (1): www.capgemini.com:443\n"
     ]
    },
    {
     "name": "stdout",
     "output_type": "stream",
     "text": [
      "https://www.capgemini.com/2017/12/why-cios-should-consider-artificial-intelligence-to-manage-their-it-portfolio/\n"
     ]
    },
    {
     "name": "stderr",
     "output_type": "stream",
     "text": [
      "2020-03-11 09:18:27 [urllib3.connectionpool] DEBUG: https://www.capgemini.com:443 \"GET /2017/12/why-cios-should-consider-artificial-intelligence-to-manage-their-it-portfolio/ HTTP/1.1\" 200 None\n",
      "2020-03-11 09:18:27 [urllib3.connectionpool] DEBUG: Starting new HTTPS connection (1): www.capgemini.com:443\n"
     ]
    },
    {
     "name": "stdout",
     "output_type": "stream",
     "text": [
      "https://www.capgemini.com/2017/11/ai-and-the-healthcare-ecosystem-why-use-artificial-intelligence/\n"
     ]
    },
    {
     "name": "stderr",
     "output_type": "stream",
     "text": [
      "2020-03-11 09:18:27 [urllib3.connectionpool] DEBUG: https://www.capgemini.com:443 \"GET /2017/11/ai-and-the-healthcare-ecosystem-why-use-artificial-intelligence/ HTTP/1.1\" 200 None\n",
      "2020-03-11 09:18:27 [urllib3.connectionpool] DEBUG: Starting new HTTPS connection (1): www.capgemini.com:443\n",
      "2020-03-11 09:18:28 [urllib3.connectionpool] DEBUG: https://www.capgemini.com:443 \"GET /2018/04/retail-offensive-part-5-i-robot-in-dealerships-implications-of-artificial-intelligence-on-automotive-retail/ HTTP/1.1\" 200 24812\n",
      "2020-03-11 09:18:28 [urllib3.connectionpool] DEBUG: Starting new HTTPS connection (1): www.capgemini.com:443\n"
     ]
    },
    {
     "name": "stdout",
     "output_type": "stream",
     "text": [
      "https://www.capgemini.com/2018/04/retail-offensive-part-5-i-robot-in-dealerships-implications-of-artificial-intelligence-on-automotive-retail/\n",
      "https://www.capgemini.com/2017/10/audit-and-compliance-productivity-driven-by-artificial-intelligence/\n"
     ]
    },
    {
     "name": "stderr",
     "output_type": "stream",
     "text": [
      "2020-03-11 09:18:28 [urllib3.connectionpool] DEBUG: https://www.capgemini.com:443 \"GET /2017/10/audit-and-compliance-productivity-driven-by-artificial-intelligence/ HTTP/1.1\" 200 26449\n",
      "2020-03-11 09:18:28 [urllib3.connectionpool] DEBUG: Starting new HTTPS connection (1): www.capgemini.com:443\n",
      "2020-03-11 09:18:28 [urllib3.connectionpool] DEBUG: https://www.capgemini.com:443 \"GET /2017/10/artificial-intelligence-googles-deepmind-learned-without-human-input/ HTTP/1.1\" 200 25720\n",
      "2020-03-11 09:18:28 [scrapy.core.engine] DEBUG: Crawled (200) <GET https://www.capgemini.com/2017/10/how-artificial-intelligence-enables-smarter-claims-processing/> (referer: None)\n",
      "2020-03-11 09:18:28 [scrapy.core.engine] DEBUG: Crawled (200) <GET https://www.capgemini.com/2017/10/artificial-intelligence-and-the-healthcare-ecosystem-part-one/> (referer: None)\n"
     ]
    },
    {
     "name": "stdout",
     "output_type": "stream",
     "text": [
      "https://www.capgemini.com/2017/10/artificial-intelligence-googles-deepmind-learned-without-human-input/\n"
     ]
    },
    {
     "name": "stderr",
     "output_type": "stream",
     "text": [
      "2020-03-11 09:18:28 [scrapy.core.engine] DEBUG: Crawled (200) <GET https://www.capgemini.com/2017/09/artificial-intelligence-existential-threat-or-force-for-good/> (referer: None)\n",
      "2020-03-11 09:18:28 [scrapy.core.engine] DEBUG: Crawled (200) <GET https://www.capgemini.com/2017/07/artificial-intelligence-for-government-realising-a-smarter-public-sector/> (referer: None)\n",
      "2020-03-11 09:18:28 [scrapy.core.engine] DEBUG: Crawled (200) <GET https://www.capgemini.com/2017/06/knowledge-is-integral-to-artificial-intelligence/> (referer: None)\n",
      "2020-03-11 09:18:28 [scrapy.core.engine] DEBUG: Crawled (200) <GET https://www.capgemini.com/2017/06/hsbcs-smart-move-toward-artificial-intelligence/> (referer: None)\n",
      "2020-03-11 09:18:28 [scrapy.core.engine] DEBUG: Crawled (200) <GET https://www.capgemini.com/2017/06/artificial-intelligence-enables-full-service-model-at-airport/> (referer: None)\n",
      "2020-03-11 09:18:28 [scrapy.core.engine] DEBUG: Crawled (200) <GET https://www.capgemini.com/2017/06/artificial-intelligenceai-is-it-ready-for-primetime-use-in-enterprises/> (referer: None)\n",
      "2020-03-11 09:18:28 [urllib3.connectionpool] DEBUG: Starting new HTTPS connection (1): www.capgemini.com:443\n"
     ]
    },
    {
     "name": "stdout",
     "output_type": "stream",
     "text": [
      "https://www.capgemini.com/2017/10/how-artificial-intelligence-enables-smarter-claims-processing/\n"
     ]
    },
    {
     "name": "stderr",
     "output_type": "stream",
     "text": [
      "2020-03-11 09:18:29 [urllib3.connectionpool] DEBUG: https://www.capgemini.com:443 \"GET /2017/10/how-artificial-intelligence-enables-smarter-claims-processing/ HTTP/1.1\" 200 None\n",
      "2020-03-11 09:18:29 [scrapy.core.engine] DEBUG: Crawled (200) <GET https://www.capgemini.com/2017/05/the-five-senses-of-artificial-intelligence/> (referer: None)\n",
      "2020-03-11 09:18:29 [scrapy.core.engine] DEBUG: Crawled (200) <GET https://www.capgemini.com/2017/04/artificial-intelligence-fuels-business-transformations-by-learning-about/> (referer: None)\n",
      "2020-03-11 09:18:29 [scrapy.core.engine] DEBUG: Crawled (200) <GET https://www.capgemini.com/2017/02/wheres-your-plan-for-artificial-intelligence/> (referer: None)\n",
      "2020-03-11 09:18:29 [scrapy.core.engine] DEBUG: Crawled (200) <GET https://www.capgemini.com/2016/12/business-must-adapt-artificial-intelligence-to-survive/> (referer: None)\n",
      "2020-03-11 09:18:29 [scrapy.core.engine] DEBUG: Crawled (200) <GET https://www.capgemini.com/2016/07/artificial-intelligence-how-can-enterprises-prepare/> (referer: None)\n",
      "2020-03-11 09:18:29 [scrapy.core.engine] DEBUG: Crawled (200) <GET https://www.capgemini.com/2016/07/artificial-intelligence-an-illusion-or-a-reality/> (referer: None)\n",
      "2020-03-11 09:18:29 [scrapy.core.engine] DEBUG: Crawled (200) <GET https://www.capgemini.com/2016/05/noops-operating-model-and-not-just-automation-using-robots-artificial/> (referer: None)\n",
      "2020-03-11 09:18:29 [urllib3.connectionpool] DEBUG: Starting new HTTPS connection (1): www.capgemini.com:443\n"
     ]
    },
    {
     "name": "stdout",
     "output_type": "stream",
     "text": [
      "https://www.capgemini.com/2017/10/artificial-intelligence-and-the-healthcare-ecosystem-part-one/\n"
     ]
    },
    {
     "name": "stderr",
     "output_type": "stream",
     "text": [
      "2020-03-11 09:18:29 [urllib3.connectionpool] DEBUG: https://www.capgemini.com:443 \"GET /2017/10/artificial-intelligence-and-the-healthcare-ecosystem-part-one/ HTTP/1.1\" 200 None\n",
      "2020-03-11 09:18:29 [urllib3.connectionpool] DEBUG: Starting new HTTPS connection (1): www.capgemini.com:443\n",
      "2020-03-11 09:18:30 [urllib3.connectionpool] DEBUG: https://www.capgemini.com:443 \"GET /2017/09/artificial-intelligence-existential-threat-or-force-for-good/ HTTP/1.1\" 200 26535\n",
      "2020-03-11 09:18:30 [urllib3.connectionpool] DEBUG: Starting new HTTPS connection (1): www.capgemini.com:443\n"
     ]
    },
    {
     "name": "stdout",
     "output_type": "stream",
     "text": [
      "https://www.capgemini.com/2017/09/artificial-intelligence-existential-threat-or-force-for-good/\n",
      "https://www.capgemini.com/2017/07/artificial-intelligence-for-government-realising-a-smarter-public-sector/\n"
     ]
    },
    {
     "name": "stderr",
     "output_type": "stream",
     "text": [
      "2020-03-11 09:18:30 [urllib3.connectionpool] DEBUG: https://www.capgemini.com:443 \"GET /2017/07/artificial-intelligence-for-government-realising-a-smarter-public-sector/ HTTP/1.1\" 200 23460\n",
      "2020-03-11 09:18:30 [urllib3.connectionpool] DEBUG: Starting new HTTPS connection (1): www.capgemini.com:443\n"
     ]
    },
    {
     "name": "stdout",
     "output_type": "stream",
     "text": [
      "https://www.capgemini.com/2017/06/knowledge-is-integral-to-artificial-intelligence/\n"
     ]
    },
    {
     "name": "stderr",
     "output_type": "stream",
     "text": [
      "2020-03-11 09:18:30 [urllib3.connectionpool] DEBUG: https://www.capgemini.com:443 \"GET /2017/06/knowledge-is-integral-to-artificial-intelligence/ HTTP/1.1\" 200 None\n",
      "2020-03-11 09:18:30 [urllib3.connectionpool] DEBUG: Starting new HTTPS connection (1): www.capgemini.com:443\n"
     ]
    },
    {
     "name": "stdout",
     "output_type": "stream",
     "text": [
      "https://www.capgemini.com/2017/06/hsbcs-smart-move-toward-artificial-intelligence/\n"
     ]
    },
    {
     "name": "stderr",
     "output_type": "stream",
     "text": [
      "2020-03-11 09:18:31 [urllib3.connectionpool] DEBUG: https://www.capgemini.com:443 \"GET /2017/06/hsbcs-smart-move-toward-artificial-intelligence/ HTTP/1.1\" 200 None\n",
      "2020-03-11 09:18:31 [urllib3.connectionpool] DEBUG: Starting new HTTPS connection (1): www.capgemini.com:443\n",
      "2020-03-11 09:18:31 [urllib3.connectionpool] DEBUG: https://www.capgemini.com:443 \"GET /2017/06/artificial-intelligence-enables-full-service-model-at-airport/ HTTP/1.1\" 200 22736\n",
      "2020-03-11 09:18:31 [urllib3.connectionpool] DEBUG: Starting new HTTPS connection (1): www.capgemini.com:443\n"
     ]
    },
    {
     "name": "stdout",
     "output_type": "stream",
     "text": [
      "https://www.capgemini.com/2017/06/artificial-intelligence-enables-full-service-model-at-airport/\n",
      "https://www.capgemini.com/2017/06/artificial-intelligenceai-is-it-ready-for-primetime-use-in-enterprises/\n"
     ]
    },
    {
     "name": "stderr",
     "output_type": "stream",
     "text": [
      "2020-03-11 09:18:31 [urllib3.connectionpool] DEBUG: https://www.capgemini.com:443 \"GET /2017/06/artificial-intelligenceai-is-it-ready-for-primetime-use-in-enterprises/ HTTP/1.1\" 200 22653\n",
      "2020-03-11 09:18:31 [scrapy.core.engine] DEBUG: Crawled (200) <GET https://www.capgemini.com/2017/05/artificial-intelligence-in-testing-the-art-of-logic-and-repetition/> (referer: None)\n",
      "2020-03-11 09:18:31 [urllib3.connectionpool] DEBUG: Starting new HTTPS connection (1): www.capgemini.com:443\n"
     ]
    },
    {
     "name": "stdout",
     "output_type": "stream",
     "text": [
      "https://www.capgemini.com/2017/05/the-five-senses-of-artificial-intelligence/\n"
     ]
    },
    {
     "name": "stderr",
     "output_type": "stream",
     "text": [
      "2020-03-11 09:18:32 [urllib3.connectionpool] DEBUG: https://www.capgemini.com:443 \"GET /2017/05/the-five-senses-of-artificial-intelligence/ HTTP/1.1\" 200 None\n",
      "2020-03-11 09:18:32 [urllib3.connectionpool] DEBUG: Starting new HTTPS connection (1): www.capgemini.com:443\n"
     ]
    },
    {
     "name": "stdout",
     "output_type": "stream",
     "text": [
      "https://www.capgemini.com/2017/04/artificial-intelligence-fuels-business-transformations-by-learning-about/\n"
     ]
    },
    {
     "name": "stderr",
     "output_type": "stream",
     "text": [
      "2020-03-11 09:18:32 [urllib3.connectionpool] DEBUG: https://www.capgemini.com:443 \"GET /2017/04/artificial-intelligence-fuels-business-transformations-by-learning-about/ HTTP/1.1\" 200 None\n",
      "2020-03-11 09:18:32 [urllib3.connectionpool] DEBUG: Starting new HTTPS connection (1): www.capgemini.com:443\n",
      "2020-03-11 09:18:32 [urllib3.connectionpool] DEBUG: https://www.capgemini.com:443 \"GET /2017/02/wheres-your-plan-for-artificial-intelligence/ HTTP/1.1\" 200 26565\n",
      "2020-03-11 09:18:33 [urllib3.connectionpool] DEBUG: Starting new HTTPS connection (1): www.capgemini.com:443\n"
     ]
    },
    {
     "name": "stdout",
     "output_type": "stream",
     "text": [
      "https://www.capgemini.com/2017/02/wheres-your-plan-for-artificial-intelligence/\n",
      "https://www.capgemini.com/2016/12/business-must-adapt-artificial-intelligence-to-survive/\n"
     ]
    },
    {
     "name": "stderr",
     "output_type": "stream",
     "text": [
      "2020-03-11 09:18:33 [urllib3.connectionpool] DEBUG: https://www.capgemini.com:443 \"GET /2016/12/business-must-adapt-artificial-intelligence-to-survive/ HTTP/1.1\" 200 22714\n",
      "2020-03-11 09:18:33 [urllib3.connectionpool] DEBUG: Starting new HTTPS connection (1): www.capgemini.com:443\n"
     ]
    },
    {
     "name": "stdout",
     "output_type": "stream",
     "text": [
      "https://www.capgemini.com/2016/07/artificial-intelligence-how-can-enterprises-prepare/\n"
     ]
    },
    {
     "name": "stderr",
     "output_type": "stream",
     "text": [
      "2020-03-11 09:18:33 [urllib3.connectionpool] DEBUG: https://www.capgemini.com:443 \"GET /2016/07/artificial-intelligence-how-can-enterprises-prepare/ HTTP/1.1\" 200 None\n",
      "2020-03-11 09:18:33 [urllib3.connectionpool] DEBUG: Starting new HTTPS connection (1): www.capgemini.com:443\n"
     ]
    },
    {
     "name": "stdout",
     "output_type": "stream",
     "text": [
      "https://www.capgemini.com/2016/07/artificial-intelligence-an-illusion-or-a-reality/\n"
     ]
    },
    {
     "name": "stderr",
     "output_type": "stream",
     "text": [
      "2020-03-11 09:18:34 [urllib3.connectionpool] DEBUG: https://www.capgemini.com:443 \"GET /2016/07/artificial-intelligence-an-illusion-or-a-reality/ HTTP/1.1\" 200 None\n",
      "2020-03-11 09:18:34 [urllib3.connectionpool] DEBUG: Starting new HTTPS connection (1): www.capgemini.com:443\n",
      "2020-03-11 09:18:34 [urllib3.connectionpool] DEBUG: https://www.capgemini.com:443 \"GET /2016/05/noops-operating-model-and-not-just-automation-using-robots-artificial/ HTTP/1.1\" 200 23138\n",
      "2020-03-11 09:18:34 [scrapy.core.engine] DEBUG: Crawled (200) <GET https://www.capgemini.com/2016/02/using-artificial-intelligence-to-optimize-business-processes/> (referer: None)\n",
      "2020-03-11 09:18:34 [scrapy.core.engine] DEBUG: Crawled (200) <GET https://www.capgemini.com/2015/01/what-can-artificial-intelligence-do-for-your-business-processes-0/> (referer: None)\n",
      "2020-03-11 09:18:34 [urllib3.connectionpool] DEBUG: Starting new HTTPS connection (1): www.capgemini.com:443\n"
     ]
    },
    {
     "name": "stdout",
     "output_type": "stream",
     "text": [
      "https://www.capgemini.com/2016/05/noops-operating-model-and-not-just-automation-using-robots-artificial/\n",
      "https://www.capgemini.com/2017/05/artificial-intelligence-in-testing-the-art-of-logic-and-repetition/\n"
     ]
    },
    {
     "name": "stderr",
     "output_type": "stream",
     "text": [
      "2020-03-11 09:18:35 [urllib3.connectionpool] DEBUG: https://www.capgemini.com:443 \"GET /2017/05/artificial-intelligence-in-testing-the-art-of-logic-and-repetition/ HTTP/1.1\" 200 None\n",
      "2020-03-11 09:18:35 [scrapy.core.engine] DEBUG: Crawled (200) <GET https://www.capgemini.com/2019/12/how-manufacturers-can-catch-up-in-the-artificial-intelligence-race/> (referer: None)\n",
      "2020-03-11 09:18:35 [urllib3.connectionpool] DEBUG: Starting new HTTPS connection (1): www.capgemini.com:443\n",
      "2020-03-11 09:18:35 [urllib3.connectionpool] DEBUG: https://www.capgemini.com:443 \"GET /2016/02/using-artificial-intelligence-to-optimize-business-processes/ HTTP/1.1\" 200 26279\n",
      "2020-03-11 09:18:35 [urllib3.connectionpool] DEBUG: Starting new HTTPS connection (1): www.capgemini.com:443\n"
     ]
    },
    {
     "name": "stdout",
     "output_type": "stream",
     "text": [
      "https://www.capgemini.com/2016/02/using-artificial-intelligence-to-optimize-business-processes/\n",
      "https://www.capgemini.com/2015/01/what-can-artificial-intelligence-do-for-your-business-processes-0/\n"
     ]
    },
    {
     "name": "stderr",
     "output_type": "stream",
     "text": [
      "2020-03-11 09:18:35 [urllib3.connectionpool] DEBUG: https://www.capgemini.com:443 \"GET /2015/01/what-can-artificial-intelligence-do-for-your-business-processes-0/ HTTP/1.1\" 200 None\n",
      "2020-03-11 09:18:36 [scrapy.core.engine] DEBUG: Crawled (200) <GET https://www.capgemini.com/2019/08/insights-as-a-service-can-accelerate-the-speed-and-scale-of-data-driven-intelligence/> (referer: None)\n",
      "2020-03-11 09:18:36 [urllib3.connectionpool] DEBUG: Starting new HTTPS connection (1): www.capgemini.com:443\n",
      "2020-03-11 09:18:36 [urllib3.connectionpool] DEBUG: https://www.capgemini.com:443 \"GET /2019/12/how-manufacturers-can-catch-up-in-the-artificial-intelligence-race/ HTTP/1.1\" 200 22592\n",
      "2020-03-11 09:18:36 [urllib3.connectionpool] DEBUG: Starting new HTTPS connection (1): www.capgemini.com:443\n"
     ]
    },
    {
     "name": "stdout",
     "output_type": "stream",
     "text": [
      "https://www.capgemini.com/2019/12/how-manufacturers-can-catch-up-in-the-artificial-intelligence-race/\n",
      "https://www.capgemini.com/2019/08/insights-as-a-service-can-accelerate-the-speed-and-scale-of-data-driven-intelligence/\n"
     ]
    },
    {
     "name": "stderr",
     "output_type": "stream",
     "text": [
      "2020-03-11 09:18:36 [urllib3.connectionpool] DEBUG: https://www.capgemini.com:443 \"GET /2019/08/insights-as-a-service-can-accelerate-the-speed-and-scale-of-data-driven-intelligence/ HTTP/1.1\" 200 25943\n",
      "2020-03-11 09:18:36 [scrapy.core.engine] DEBUG: Crawled (200) <GET https://www.capgemini.com/2019/06/collaborative-intelligence-for-creating-unique-differentiation-of-high-availability/> (referer: None)\n",
      "2020-03-11 09:18:36 [urllib3.connectionpool] DEBUG: Starting new HTTPS connection (1): www.capgemini.com:443\n"
     ]
    },
    {
     "name": "stdout",
     "output_type": "stream",
     "text": [
      "https://www.capgemini.com/2019/06/collaborative-intelligence-for-creating-unique-differentiation-of-high-availability/\n"
     ]
    },
    {
     "name": "stderr",
     "output_type": "stream",
     "text": [
      "2020-03-11 09:18:37 [urllib3.connectionpool] DEBUG: https://www.capgemini.com:443 \"GET /2019/06/collaborative-intelligence-for-creating-unique-differentiation-of-high-availability/ HTTP/1.1\" 200 None\n",
      "2020-03-11 09:18:37 [scrapy.core.engine] DEBUG: Crawled (200) <GET https://www.capgemini.com/article/ai-adaptable-intelligence/> (referer: None)\n",
      "2020-03-11 09:18:37 [scrapy.core.engine] DEBUG: Crawled (200) <GET https://www.capgemini.com/2017/12/why-loyalty-programs-fail/> (referer: None)\n",
      "2020-03-11 09:18:37 [scrapy.core.engine] DEBUG: Crawled (200) <GET https://www.capgemini.com/2017/10/building-predictive-intelligence-in-te/> (referer: None)\n",
      "2020-03-11 09:18:37 [scrapy.core.engine] DEBUG: Crawled (200) <GET https://www.capgemini.com/2017/09/evolutionary-intelligence-how-the-constrained-cio-achieves-business-value-from-ai/> (referer: None)\n",
      "2020-03-11 09:18:37 [scrapy.core.engine] DEBUG: Crawled (200) <GET https://www.capgemini.com/2017/05/chatting-with-the-chatbots-how-intelligence-makes-the/> (referer: None)\n",
      "2020-03-11 09:18:37 [scrapy.core.engine] DEBUG: Crawled (200) <GET https://www.capgemini.com/2017/04/making-testing-adaptive-interactive-iterative-and-contextual-with/> (referer: None)\n",
      "2020-03-11 09:18:37 [scrapy.core.engine] DEBUG: Crawled (200) <GET https://www.capgemini.com/2019/01/does-hyperintelligence-require-a-radically-new-approach-to-business/> (referer: None)\n",
      "2020-03-11 09:18:37 [scrapy.core.engine] DEBUG: Crawled (200) <GET https://www.capgemini.com/article/ai-augmented-intelligence-matches-people-and-machines/> (referer: None)\n",
      "2020-03-11 09:18:37 [urllib3.connectionpool] DEBUG: Starting new HTTPS connection (1): www.capgemini.com:443\n",
      "2020-03-11 09:18:37 [urllib3.connectionpool] DEBUG: https://www.capgemini.com:443 \"GET /article/ai-adaptable-intelligence/ HTTP/1.1\" 200 27204\n",
      "2020-03-11 09:18:37 [urllib3.connectionpool] DEBUG: Starting new HTTPS connection (1): www.capgemini.com:443\n"
     ]
    },
    {
     "name": "stdout",
     "output_type": "stream",
     "text": [
      "https://www.capgemini.com/article/ai-adaptable-intelligence/\n",
      "https://www.capgemini.com/2017/12/why-loyalty-programs-fail/\n"
     ]
    },
    {
     "name": "stderr",
     "output_type": "stream",
     "text": [
      "2020-03-11 09:18:38 [urllib3.connectionpool] DEBUG: https://www.capgemini.com:443 \"GET /2017/12/why-loyalty-programs-fail/ HTTP/1.1\" 200 None\n",
      "2020-03-11 09:18:38 [urllib3.connectionpool] DEBUG: Starting new HTTPS connection (1): www.capgemini.com:443\n"
     ]
    },
    {
     "name": "stdout",
     "output_type": "stream",
     "text": [
      "https://www.capgemini.com/2017/10/building-predictive-intelligence-in-te/\n"
     ]
    },
    {
     "name": "stderr",
     "output_type": "stream",
     "text": [
      "2020-03-11 09:18:39 [urllib3.connectionpool] DEBUG: https://www.capgemini.com:443 \"GET /2017/10/building-predictive-intelligence-in-te/ HTTP/1.1\" 200 None\n",
      "2020-03-11 09:18:39 [urllib3.connectionpool] DEBUG: Starting new HTTPS connection (1): www.capgemini.com:443\n"
     ]
    },
    {
     "name": "stdout",
     "output_type": "stream",
     "text": [
      "https://www.capgemini.com/2017/09/evolutionary-intelligence-how-the-constrained-cio-achieves-business-value-from-ai/\n"
     ]
    },
    {
     "name": "stderr",
     "output_type": "stream",
     "text": [
      "2020-03-11 09:18:39 [urllib3.connectionpool] DEBUG: https://www.capgemini.com:443 \"GET /2017/09/evolutionary-intelligence-how-the-constrained-cio-achieves-business-value-from-ai/ HTTP/1.1\" 200 None\n",
      "2020-03-11 09:18:39 [urllib3.connectionpool] DEBUG: Starting new HTTPS connection (1): www.capgemini.com:443\n"
     ]
    },
    {
     "name": "stdout",
     "output_type": "stream",
     "text": [
      "https://www.capgemini.com/2017/05/chatting-with-the-chatbots-how-intelligence-makes-the/\n"
     ]
    },
    {
     "name": "stderr",
     "output_type": "stream",
     "text": [
      "2020-03-11 09:18:40 [urllib3.connectionpool] DEBUG: https://www.capgemini.com:443 \"GET /2017/05/chatting-with-the-chatbots-how-intelligence-makes-the/ HTTP/1.1\" 200 None\n",
      "2020-03-11 09:18:40 [urllib3.connectionpool] DEBUG: Starting new HTTPS connection (1): www.capgemini.com:443\n",
      "2020-03-11 09:18:40 [urllib3.connectionpool] DEBUG: https://www.capgemini.com:443 \"GET /2017/04/making-testing-adaptive-interactive-iterative-and-contextual-with/ HTTP/1.1\" 200 28395\n",
      "2020-03-11 09:18:40 [urllib3.connectionpool] DEBUG: Starting new HTTPS connection (1): www.capgemini.com:443\n"
     ]
    },
    {
     "name": "stdout",
     "output_type": "stream",
     "text": [
      "https://www.capgemini.com/2017/04/making-testing-adaptive-interactive-iterative-and-contextual-with/\n",
      "https://www.capgemini.com/2019/01/does-hyperintelligence-require-a-radically-new-approach-to-business/\n"
     ]
    },
    {
     "name": "stderr",
     "output_type": "stream",
     "text": [
      "2020-03-11 09:18:40 [urllib3.connectionpool] DEBUG: https://www.capgemini.com:443 \"GET /2019/01/does-hyperintelligence-require-a-radically-new-approach-to-business/ HTTP/1.1\" 200 26226\n",
      "2020-03-11 09:18:40 [urllib3.connectionpool] DEBUG: Starting new HTTPS connection (1): www.capgemini.com:443\n",
      "2020-03-11 09:18:41 [urllib3.connectionpool] DEBUG: https://www.capgemini.com:443 \"GET /article/ai-augmented-intelligence-matches-people-and-machines/ HTTP/1.1\" 200 23075\n",
      "2020-03-11 09:18:41 [scrapy.core.engine] DEBUG: Crawled (200) <GET https://www.capgemini.com/2015/04/why-you-should-employ-more-dummies-in-bpo-could-an-artificially/> (referer: None)\n",
      "2020-03-11 09:18:41 [scrapy.core.engine] DEBUG: Crawled (200) <GET https://www.capgemini.com/2008/01/range-hoods-and-business-intelligence/> (referer: None)\n",
      "2020-03-11 09:18:41 [scrapy.core.engine] DEBUG: Crawled (200) <GET https://www.capgemini.com/2007/12/cyber-sex-and-business-intelligence/> (referer: None)\n",
      "2020-03-11 09:18:41 [scrapy.core.engine] DEBUG: Crawled (200) <GET https://www.capgemini.com/2019/12/technology-in-contract-management-an-outlook-for-2020/> (referer: None)\n",
      "2020-03-11 09:18:41 [scrapy.core.engine] DEBUG: Crawled (200) <GET https://www.capgemini.com/2019/11/salesforce-einstein-taking-guesswork-out-of-ai-for-automotive-manufacturers/> (referer: None)\n",
      "2020-03-11 09:18:41 [scrapy.core.engine] DEBUG: Crawled (200) <GET https://www.capgemini.com/2019/08/a-designers-view-on-ai-ethics-part-1-of-3/> (referer: None)\n",
      "2020-03-11 09:18:41 [scrapy.core.engine] DEBUG: Crawled (200) <GET https://www.capgemini.com/2019/08/ai-and-the-impact-on-the-organisation/> (referer: None)\n",
      "2020-03-11 09:18:41 [scrapy.core.engine] DEBUG: Crawled (200) <GET https://www.capgemini.com/2019/07/intelligent-orchestration/> (referer: None)\n"
     ]
    },
    {
     "name": "stdout",
     "output_type": "stream",
     "text": [
      "https://www.capgemini.com/article/ai-augmented-intelligence-matches-people-and-machines/\n"
     ]
    },
    {
     "name": "stderr",
     "output_type": "stream",
     "text": [
      "2020-03-11 09:18:41 [urllib3.connectionpool] DEBUG: Starting new HTTPS connection (1): www.capgemini.com:443\n"
     ]
    },
    {
     "name": "stdout",
     "output_type": "stream",
     "text": [
      "https://www.capgemini.com/2015/04/why-you-should-employ-more-dummies-in-bpo-could-an-artificially/\n"
     ]
    },
    {
     "name": "stderr",
     "output_type": "stream",
     "text": [
      "2020-03-11 09:18:41 [urllib3.connectionpool] DEBUG: https://www.capgemini.com:443 \"GET /2015/04/why-you-should-employ-more-dummies-in-bpo-could-an-artificially/ HTTP/1.1\" 200 None\n",
      "2020-03-11 09:18:41 [scrapy.core.engine] DEBUG: Crawled (200) <GET https://www.capgemini.com/2019/07/being-able-to-predict-better-and-better-is-the-key-to-ai-success/> (referer: None)\n",
      "2020-03-11 09:18:41 [scrapy.core.engine] DEBUG: Crawled (200) <GET https://www.capgemini.com/2019/06/three-ways-to-retain-customer-trust-in-ai/> (referer: None)\n",
      "2020-03-11 09:18:41 [scrapy.core.engine] DEBUG: Crawled (200) <GET https://www.capgemini.com/2019/06/giving-digital-interactions-a-human-face/> (referer: None)\n",
      "2020-03-11 09:18:41 [scrapy.core.engine] DEBUG: Crawled (200) <GET https://www.capgemini.com/2019/04/the-insurance-risk-landscape-is-evolving-rapidly/> (referer: None)\n",
      "2020-03-11 09:18:41 [scrapy.core.engine] DEBUG: Crawled (200) <GET https://www.capgemini.com/2019/04/voice-assistants-chatbots-drive-health-insurance-to-new-more-personal-frontiers/> (referer: None)\n",
      "2020-03-11 09:18:41 [scrapy.core.engine] DEBUG: Crawled (200) <GET https://www.capgemini.com/2019/02/innovation-in-retail-how-voice-is-altering-commerce/> (referer: None)\n",
      "2020-03-11 09:18:41 [scrapy.core.engine] DEBUG: Crawled (200) <GET https://www.capgemini.com/2019/02/five-principles-to-secure-your-ai-advantage/> (referer: None)\n",
      "2020-03-11 09:18:41 [scrapy.core.engine] DEBUG: Crawled (200) <GET https://www.capgemini.com/2019/01/insurers-customize-products-and-services-to-sync-with-consumers-life-events/> (referer: None)\n",
      "2020-03-11 09:18:41 [urllib3.connectionpool] DEBUG: Starting new HTTPS connection (1): www.capgemini.com:443\n"
     ]
    },
    {
     "name": "stdout",
     "output_type": "stream",
     "text": [
      "https://www.capgemini.com/2008/01/range-hoods-and-business-intelligence/\n"
     ]
    },
    {
     "name": "stderr",
     "output_type": "stream",
     "text": [
      "2020-03-11 09:18:42 [urllib3.connectionpool] DEBUG: https://www.capgemini.com:443 \"GET /2008/01/range-hoods-and-business-intelligence/ HTTP/1.1\" 200 None\n",
      "2020-03-11 09:18:42 [urllib3.connectionpool] DEBUG: Starting new HTTPS connection (1): www.capgemini.com:443\n",
      "2020-03-11 09:18:42 [urllib3.connectionpool] DEBUG: https://www.capgemini.com:443 \"GET /2007/12/cyber-sex-and-business-intelligence/ HTTP/1.1\" 200 21993\n",
      "2020-03-11 09:18:42 [urllib3.connectionpool] DEBUG: Starting new HTTPS connection (1): www.capgemini.com:443\n"
     ]
    },
    {
     "name": "stdout",
     "output_type": "stream",
     "text": [
      "https://www.capgemini.com/2007/12/cyber-sex-and-business-intelligence/\n",
      "https://www.capgemini.com/2019/12/technology-in-contract-management-an-outlook-for-2020/\n"
     ]
    },
    {
     "name": "stderr",
     "output_type": "stream",
     "text": [
      "2020-03-11 09:18:43 [urllib3.connectionpool] DEBUG: https://www.capgemini.com:443 \"GET /2019/12/technology-in-contract-management-an-outlook-for-2020/ HTTP/1.1\" 200 None\n",
      "2020-03-11 09:18:43 [urllib3.connectionpool] DEBUG: Starting new HTTPS connection (1): www.capgemini.com:443\n",
      "2020-03-11 09:18:43 [urllib3.connectionpool] DEBUG: https://www.capgemini.com:443 \"GET /2019/11/salesforce-einstein-taking-guesswork-out-of-ai-for-automotive-manufacturers/ HTTP/1.1\" 200 23095\n",
      "2020-03-11 09:18:43 [urllib3.connectionpool] DEBUG: Starting new HTTPS connection (1): www.capgemini.com:443\n"
     ]
    },
    {
     "name": "stdout",
     "output_type": "stream",
     "text": [
      "https://www.capgemini.com/2019/11/salesforce-einstein-taking-guesswork-out-of-ai-for-automotive-manufacturers/\n",
      "https://www.capgemini.com/2019/08/a-designers-view-on-ai-ethics-part-1-of-3/\n"
     ]
    },
    {
     "name": "stderr",
     "output_type": "stream",
     "text": [
      "2020-03-11 09:18:43 [urllib3.connectionpool] DEBUG: https://www.capgemini.com:443 \"GET /2019/08/a-designers-view-on-ai-ethics-part-1-of-3/ HTTP/1.1\" 200 25844\n",
      "2020-03-11 09:18:43 [urllib3.connectionpool] DEBUG: Starting new HTTPS connection (1): www.capgemini.com:443\n"
     ]
    },
    {
     "name": "stdout",
     "output_type": "stream",
     "text": [
      "https://www.capgemini.com/2019/08/ai-and-the-impact-on-the-organisation/\n"
     ]
    },
    {
     "name": "stderr",
     "output_type": "stream",
     "text": [
      "2020-03-11 09:18:44 [urllib3.connectionpool] DEBUG: https://www.capgemini.com:443 \"GET /2019/08/ai-and-the-impact-on-the-organisation/ HTTP/1.1\" 200 None\n",
      "2020-03-11 09:18:44 [urllib3.connectionpool] DEBUG: Starting new HTTPS connection (1): www.capgemini.com:443\n",
      "2020-03-11 09:18:44 [urllib3.connectionpool] DEBUG: https://www.capgemini.com:443 \"GET /2019/07/intelligent-orchestration/ HTTP/1.1\" 200 23706\n",
      "2020-03-11 09:18:44 [urllib3.connectionpool] DEBUG: Starting new HTTPS connection (1): www.capgemini.com:443\n",
      "2020-03-11 09:18:44 [urllib3.connectionpool] DEBUG: https://www.capgemini.com:443 \"GET /2019/07/being-able-to-predict-better-and-better-is-the-key-to-ai-success/ HTTP/1.1\" 200 26680\n"
     ]
    },
    {
     "name": "stdout",
     "output_type": "stream",
     "text": [
      "https://www.capgemini.com/2019/07/intelligent-orchestration/\n",
      "https://www.capgemini.com/2019/07/being-able-to-predict-better-and-better-is-the-key-to-ai-success/\n"
     ]
    },
    {
     "name": "stderr",
     "output_type": "stream",
     "text": [
      "2020-03-11 09:18:44 [urllib3.connectionpool] DEBUG: Starting new HTTPS connection (1): www.capgemini.com:443\n",
      "2020-03-11 09:18:44 [urllib3.connectionpool] DEBUG: https://www.capgemini.com:443 \"GET /2019/06/three-ways-to-retain-customer-trust-in-ai/ HTTP/1.1\" 200 22759\n",
      "2020-03-11 09:18:44 [urllib3.connectionpool] DEBUG: Starting new HTTPS connection (1): www.capgemini.com:443\n"
     ]
    },
    {
     "name": "stdout",
     "output_type": "stream",
     "text": [
      "https://www.capgemini.com/2019/06/three-ways-to-retain-customer-trust-in-ai/\n",
      "https://www.capgemini.com/2019/06/giving-digital-interactions-a-human-face/\n"
     ]
    },
    {
     "name": "stderr",
     "output_type": "stream",
     "text": [
      "2020-03-11 09:18:45 [urllib3.connectionpool] DEBUG: https://www.capgemini.com:443 \"GET /2019/06/giving-digital-interactions-a-human-face/ HTTP/1.1\" 200 None\n",
      "2020-03-11 09:18:45 [urllib3.connectionpool] DEBUG: Starting new HTTPS connection (1): www.capgemini.com:443\n"
     ]
    },
    {
     "name": "stdout",
     "output_type": "stream",
     "text": [
      "https://www.capgemini.com/2019/04/the-insurance-risk-landscape-is-evolving-rapidly/\n"
     ]
    },
    {
     "name": "stderr",
     "output_type": "stream",
     "text": [
      "2020-03-11 09:18:45 [urllib3.connectionpool] DEBUG: https://www.capgemini.com:443 \"GET /2019/04/the-insurance-risk-landscape-is-evolving-rapidly/ HTTP/1.1\" 200 None\n",
      "2020-03-11 09:18:45 [urllib3.connectionpool] DEBUG: Starting new HTTPS connection (1): www.capgemini.com:443\n"
     ]
    },
    {
     "name": "stdout",
     "output_type": "stream",
     "text": [
      "https://www.capgemini.com/2019/04/voice-assistants-chatbots-drive-health-insurance-to-new-more-personal-frontiers/\n"
     ]
    },
    {
     "name": "stderr",
     "output_type": "stream",
     "text": [
      "2020-03-11 09:18:46 [urllib3.connectionpool] DEBUG: https://www.capgemini.com:443 \"GET /2019/04/voice-assistants-chatbots-drive-health-insurance-to-new-more-personal-frontiers/ HTTP/1.1\" 200 None\n",
      "2020-03-11 09:18:46 [urllib3.connectionpool] DEBUG: Starting new HTTPS connection (1): www.capgemini.com:443\n"
     ]
    },
    {
     "name": "stdout",
     "output_type": "stream",
     "text": [
      "https://www.capgemini.com/2019/02/innovation-in-retail-how-voice-is-altering-commerce/\n"
     ]
    },
    {
     "name": "stderr",
     "output_type": "stream",
     "text": [
      "2020-03-11 09:18:46 [urllib3.connectionpool] DEBUG: https://www.capgemini.com:443 \"GET /2019/02/innovation-in-retail-how-voice-is-altering-commerce/ HTTP/1.1\" 200 None\n",
      "2020-03-11 09:18:47 [urllib3.connectionpool] DEBUG: Starting new HTTPS connection (1): www.capgemini.com:443\n"
     ]
    },
    {
     "name": "stdout",
     "output_type": "stream",
     "text": [
      "https://www.capgemini.com/2019/02/five-principles-to-secure-your-ai-advantage/\n"
     ]
    },
    {
     "name": "stderr",
     "output_type": "stream",
     "text": [
      "2020-03-11 09:18:47 [urllib3.connectionpool] DEBUG: https://www.capgemini.com:443 \"GET /2019/02/five-principles-to-secure-your-ai-advantage/ HTTP/1.1\" 200 None\n",
      "2020-03-11 09:18:47 [urllib3.connectionpool] DEBUG: Starting new HTTPS connection (1): www.capgemini.com:443\n",
      "2020-03-11 09:18:47 [urllib3.connectionpool] DEBUG: https://www.capgemini.com:443 \"GET /2019/01/insurers-customize-products-and-services-to-sync-with-consumers-life-events/ HTTP/1.1\" 200 26178\n",
      "2020-03-11 09:18:47 [scrapy.core.engine] DEBUG: Crawled (200) <GET https://www.capgemini.com/2018/12/ai-in-2019-key-predictions/> (referer: None)\n",
      "2020-03-11 09:18:47 [scrapy.core.engine] DEBUG: Crawled (200) <GET https://www.capgemini.com/2018/12/innovation-in-retail-ai/> (referer: None)\n",
      "2020-03-11 09:18:47 [scrapy.core.engine] DEBUG: Crawled (200) <GET https://www.capgemini.com/2018/11/ai-and-the-janus-face-of-the-gdpr-chance-or-challenge/> (referer: None)\n",
      "2020-03-11 09:18:47 [scrapy.core.engine] DEBUG: Crawled (200) <GET https://www.capgemini.com/2018/11/pushing-the-limits-of-rpa-with-ai/> (referer: None)\n",
      "2020-03-11 09:18:47 [scrapy.core.engine] DEBUG: Crawled (200) <GET https://www.capgemini.com/2018/09/designing-intelligent-automation-frameworks/> (referer: None)\n",
      "2020-03-11 09:18:47 [scrapy.core.engine] DEBUG: Crawled (200) <GET https://www.capgemini.com/2018/08/social-media-as-the-worlds-largest-customer-service-channel/> (referer: None)\n",
      "2020-03-11 09:18:47 [scrapy.core.engine] DEBUG: Crawled (200) <GET https://www.capgemini.com/2018/08/adopting-ai-in-business-processes/> (referer: None)\n",
      "2020-03-11 09:18:47 [scrapy.core.engine] DEBUG: Crawled (200) <GET https://www.capgemini.com/2018/03/the-future-is-now-for-life-insurers-who-leverage-advanced-analytics-to-mitigate-fraud-loss/> (referer: None)\n"
     ]
    },
    {
     "name": "stdout",
     "output_type": "stream",
     "text": [
      "https://www.capgemini.com/2019/01/insurers-customize-products-and-services-to-sync-with-consumers-life-events/\n"
     ]
    },
    {
     "name": "stderr",
     "output_type": "stream",
     "text": [
      "2020-03-11 09:18:47 [scrapy.core.engine] DEBUG: Crawled (200) <GET https://www.capgemini.com/2017/12/2018-beyond-the-ai-hype/> (referer: None)\n",
      "2020-03-11 09:18:47 [urllib3.connectionpool] DEBUG: Starting new HTTPS connection (1): www.capgemini.com:443\n"
     ]
    },
    {
     "name": "stdout",
     "output_type": "stream",
     "text": [
      "https://www.capgemini.com/2018/12/ai-in-2019-key-predictions/\n"
     ]
    },
    {
     "name": "stderr",
     "output_type": "stream",
     "text": [
      "2020-03-11 09:18:48 [urllib3.connectionpool] DEBUG: https://www.capgemini.com:443 \"GET /2018/12/ai-in-2019-key-predictions/ HTTP/1.1\" 200 None\n",
      "2020-03-11 09:18:48 [urllib3.connectionpool] DEBUG: Starting new HTTPS connection (1): www.capgemini.com:443\n",
      "2020-03-11 09:18:48 [urllib3.connectionpool] DEBUG: https://www.capgemini.com:443 \"GET /2018/12/innovation-in-retail-ai/ HTTP/1.1\" 200 26240\n",
      "2020-03-11 09:18:48 [scrapy.core.engine] DEBUG: Crawled (200) <GET https://www.capgemini.com/2018/01/alexa-hack-my-business-model-with-ai/> (referer: None)\n",
      "2020-03-11 09:18:48 [scrapy.core.engine] DEBUG: Crawled (200) <GET https://www.capgemini.com/2018/01/voice-the-new-ui-for-the-enterprise/> (referer: None)\n",
      "2020-03-11 09:18:48 [scrapy.core.engine] DEBUG: Crawled (200) <GET https://www.capgemini.com/2017/12/rpa-and-ai-the-next-step-in-the-efficiency-game-for-banks/> (referer: None)\n"
     ]
    },
    {
     "name": "stdout",
     "output_type": "stream",
     "text": [
      "https://www.capgemini.com/2018/12/innovation-in-retail-ai/\n"
     ]
    },
    {
     "name": "stderr",
     "output_type": "stream",
     "text": [
      "2020-03-11 09:18:48 [scrapy.core.engine] DEBUG: Crawled (200) <GET https://www.capgemini.com/2017/11/the-insurer-of-the-future-part-10-agents-and-brokers/> (referer: None)\n",
      "2020-03-11 09:18:48 [scrapy.core.engine] DEBUG: Crawled (200) <GET https://www.capgemini.com/2017/10/quality-data-a-must-have-for-ai/> (referer: None)\n",
      "2020-03-11 09:18:48 [scrapy.core.engine] DEBUG: Crawled (200) <GET https://www.capgemini.com/2017/10/novartiss-new-chief-sets-sights-on-productivity-revolution/> (referer: None)\n",
      "2020-03-11 09:18:48 [scrapy.core.engine] DEBUG: Crawled (200) <GET https://www.capgemini.com/2017/09/the-insurer-of-the-future-part-2/> (referer: None)\n",
      "2020-03-11 09:18:48 [urllib3.connectionpool] DEBUG: Starting new HTTPS connection (1): www.capgemini.com:443\n"
     ]
    },
    {
     "name": "stdout",
     "output_type": "stream",
     "text": [
      "https://www.capgemini.com/2018/11/ai-and-the-janus-face-of-the-gdpr-chance-or-challenge/\n"
     ]
    },
    {
     "name": "stderr",
     "output_type": "stream",
     "text": [
      "2020-03-11 09:18:49 [urllib3.connectionpool] DEBUG: https://www.capgemini.com:443 \"GET /2018/11/ai-and-the-janus-face-of-the-gdpr-chance-or-challenge/ HTTP/1.1\" 200 None\n",
      "2020-03-11 09:18:49 [urllib3.connectionpool] DEBUG: Starting new HTTPS connection (1): www.capgemini.com:443\n",
      "2020-03-11 09:18:49 [urllib3.connectionpool] DEBUG: https://www.capgemini.com:443 \"GET /2018/11/pushing-the-limits-of-rpa-with-ai/ HTTP/1.1\" 200 25865\n",
      "2020-03-11 09:18:49 [urllib3.connectionpool] DEBUG: Starting new HTTPS connection (1): www.capgemini.com:443\n"
     ]
    },
    {
     "name": "stdout",
     "output_type": "stream",
     "text": [
      "https://www.capgemini.com/2018/11/pushing-the-limits-of-rpa-with-ai/\n",
      "https://www.capgemini.com/2018/09/designing-intelligent-automation-frameworks/\n"
     ]
    },
    {
     "name": "stderr",
     "output_type": "stream",
     "text": [
      "2020-03-11 09:18:50 [urllib3.connectionpool] DEBUG: https://www.capgemini.com:443 \"GET /2018/09/designing-intelligent-automation-frameworks/ HTTP/1.1\" 200 None\n",
      "2020-03-11 09:18:50 [urllib3.connectionpool] DEBUG: Starting new HTTPS connection (1): www.capgemini.com:443\n",
      "2020-03-11 09:18:50 [urllib3.connectionpool] DEBUG: https://www.capgemini.com:443 \"GET /2018/08/social-media-as-the-worlds-largest-customer-service-channel/ HTTP/1.1\" 200 23289\n",
      "2020-03-11 09:18:50 [urllib3.connectionpool] DEBUG: Starting new HTTPS connection (1): www.capgemini.com:443\n"
     ]
    },
    {
     "name": "stdout",
     "output_type": "stream",
     "text": [
      "https://www.capgemini.com/2018/08/social-media-as-the-worlds-largest-customer-service-channel/\n",
      "https://www.capgemini.com/2018/08/adopting-ai-in-business-processes/\n"
     ]
    },
    {
     "name": "stderr",
     "output_type": "stream",
     "text": [
      "2020-03-11 09:18:51 [urllib3.connectionpool] DEBUG: https://www.capgemini.com:443 \"GET /2018/08/adopting-ai-in-business-processes/ HTTP/1.1\" 200 None\n",
      "2020-03-11 09:18:51 [urllib3.connectionpool] DEBUG: Starting new HTTPS connection (1): www.capgemini.com:443\n"
     ]
    },
    {
     "name": "stdout",
     "output_type": "stream",
     "text": [
      "https://www.capgemini.com/2018/03/the-future-is-now-for-life-insurers-who-leverage-advanced-analytics-to-mitigate-fraud-loss/\n"
     ]
    },
    {
     "name": "stderr",
     "output_type": "stream",
     "text": [
      "2020-03-11 09:18:51 [urllib3.connectionpool] DEBUG: https://www.capgemini.com:443 \"GET /2018/03/the-future-is-now-for-life-insurers-who-leverage-advanced-analytics-to-mitigate-fraud-loss/ HTTP/1.1\" 200 None\n",
      "2020-03-11 09:18:51 [urllib3.connectionpool] DEBUG: Starting new HTTPS connection (1): www.capgemini.com:443\n",
      "2020-03-11 09:18:52 [urllib3.connectionpool] DEBUG: https://www.capgemini.com:443 \"GET /2017/12/2018-beyond-the-ai-hype/ HTTP/1.1\" 200 25270\n",
      "2020-03-11 09:18:52 [scrapy.core.engine] DEBUG: Crawled (200) <GET https://www.capgemini.com/2017/09/training-data-is-key-in-the-success-of-machine-learning/> (referer: None)\n",
      "2020-03-11 09:18:52 [urllib3.connectionpool] DEBUG: Starting new HTTPS connection (1): www.capgemini.com:443\n"
     ]
    },
    {
     "name": "stdout",
     "output_type": "stream",
     "text": [
      "https://www.capgemini.com/2017/12/2018-beyond-the-ai-hype/\n",
      "https://www.capgemini.com/2018/01/alexa-hack-my-business-model-with-ai/\n"
     ]
    },
    {
     "name": "stderr",
     "output_type": "stream",
     "text": [
      "2020-03-11 09:18:52 [urllib3.connectionpool] DEBUG: https://www.capgemini.com:443 \"GET /2018/01/alexa-hack-my-business-model-with-ai/ HTTP/1.1\" 200 26659\n",
      "2020-03-11 09:18:52 [urllib3.connectionpool] DEBUG: Starting new HTTPS connection (1): www.capgemini.com:443\n",
      "2020-03-11 09:18:52 [urllib3.connectionpool] DEBUG: https://www.capgemini.com:443 \"GET /2018/01/voice-the-new-ui-for-the-enterprise/ HTTP/1.1\" 200 27397\n",
      "2020-03-11 09:18:52 [urllib3.connectionpool] DEBUG: Starting new HTTPS connection (1): www.capgemini.com:443\n"
     ]
    },
    {
     "name": "stdout",
     "output_type": "stream",
     "text": [
      "https://www.capgemini.com/2018/01/voice-the-new-ui-for-the-enterprise/\n",
      "https://www.capgemini.com/2017/12/rpa-and-ai-the-next-step-in-the-efficiency-game-for-banks/\n"
     ]
    },
    {
     "name": "stderr",
     "output_type": "stream",
     "text": [
      "2020-03-11 09:18:52 [urllib3.connectionpool] DEBUG: https://www.capgemini.com:443 \"GET /2017/12/rpa-and-ai-the-next-step-in-the-efficiency-game-for-banks/ HTTP/1.1\" 200 26177\n",
      "2020-03-11 09:18:52 [urllib3.connectionpool] DEBUG: Starting new HTTPS connection (1): www.capgemini.com:443\n"
     ]
    },
    {
     "name": "stdout",
     "output_type": "stream",
     "text": [
      "https://www.capgemini.com/2017/11/the-insurer-of-the-future-part-10-agents-and-brokers/\n"
     ]
    },
    {
     "name": "stderr",
     "output_type": "stream",
     "text": [
      "2020-03-11 09:18:53 [urllib3.connectionpool] DEBUG: https://www.capgemini.com:443 \"GET /2017/11/the-insurer-of-the-future-part-10-agents-and-brokers/ HTTP/1.1\" 200 None\n",
      "2020-03-11 09:18:53 [urllib3.connectionpool] DEBUG: Starting new HTTPS connection (1): www.capgemini.com:443\n"
     ]
    },
    {
     "name": "stdout",
     "output_type": "stream",
     "text": [
      "https://www.capgemini.com/2017/10/quality-data-a-must-have-for-ai/\n"
     ]
    },
    {
     "name": "stderr",
     "output_type": "stream",
     "text": [
      "2020-03-11 09:18:53 [urllib3.connectionpool] DEBUG: https://www.capgemini.com:443 \"GET /2017/10/quality-data-a-must-have-for-ai/ HTTP/1.1\" 200 None\n",
      "2020-03-11 09:18:53 [urllib3.connectionpool] DEBUG: Starting new HTTPS connection (1): www.capgemini.com:443\n",
      "2020-03-11 09:18:53 [urllib3.connectionpool] DEBUG: https://www.capgemini.com:443 \"GET /2017/10/novartiss-new-chief-sets-sights-on-productivity-revolution/ HTTP/1.1\" 200 25444\n",
      "2020-03-11 09:18:53 [urllib3.connectionpool] DEBUG: Starting new HTTPS connection (1): www.capgemini.com:443\n"
     ]
    },
    {
     "name": "stdout",
     "output_type": "stream",
     "text": [
      "https://www.capgemini.com/2017/10/novartiss-new-chief-sets-sights-on-productivity-revolution/\n",
      "https://www.capgemini.com/2017/09/the-insurer-of-the-future-part-2/\n"
     ]
    },
    {
     "name": "stderr",
     "output_type": "stream",
     "text": [
      "2020-03-11 09:18:54 [urllib3.connectionpool] DEBUG: https://www.capgemini.com:443 \"GET /2017/09/the-insurer-of-the-future-part-2/ HTTP/1.1\" 200 None\n",
      "2020-03-11 09:18:54 [scrapy.core.engine] DEBUG: Crawled (200) <GET https://www.capgemini.com/2017/07/historical-data-can-make-a-big-hairy-mess-in-machine-learning/> (referer: None)\n",
      "2020-03-11 09:18:54 [scrapy.core.engine] DEBUG: Crawled (200) <GET https://www.capgemini.com/2017/07/iot-to-enable-smart-and-vigilant-monitoring-moving-towards-a-safer/> (referer: None)\n",
      "2020-03-11 09:18:54 [scrapy.core.engine] DEBUG: Crawled (200) <GET https://www.capgemini.com/2017/06/if-you-cant-beat-them-join-them/> (referer: None)\n",
      "2020-03-11 09:18:54 [scrapy.core.engine] DEBUG: Crawled (200) <GET https://www.capgemini.com/2017/06/building-the-next-generation-business-transformation-team/> (referer: None)\n",
      "2020-03-11 09:18:54 [scrapy.core.engine] DEBUG: Crawled (200) <GET https://www.capgemini.com/2017/03/technovision-preview-bot-is-the-new-app/> (referer: None)\n",
      "2020-03-11 09:18:54 [scrapy.core.engine] DEBUG: Crawled (200) <GET https://www.capgemini.com/2017/02/dont-be-afraid-of-the-robots/> (referer: None)\n",
      "2020-03-11 09:18:54 [scrapy.core.engine] DEBUG: Crawled (200) <GET https://www.capgemini.com/2020/03/building-a-digital-manufacturing-foundation-in-the-cloud/> (referer: None)\n",
      "2020-03-11 09:18:54 [urllib3.connectionpool] DEBUG: Starting new HTTPS connection (1): www.capgemini.com:443\n"
     ]
    },
    {
     "name": "stdout",
     "output_type": "stream",
     "text": [
      "https://www.capgemini.com/2017/09/training-data-is-key-in-the-success-of-machine-learning/\n"
     ]
    },
    {
     "name": "stderr",
     "output_type": "stream",
     "text": [
      "2020-03-11 09:18:55 [urllib3.connectionpool] DEBUG: https://www.capgemini.com:443 \"GET /2017/09/training-data-is-key-in-the-success-of-machine-learning/ HTTP/1.1\" 200 None\n",
      "2020-03-11 09:18:55 [scrapy.core.engine] DEBUG: Crawled (200) <GET https://www.capgemini.com/2020/03/ai-and-symbiosis-augmenting-human-effectiveness/> (referer: None)\n",
      "2020-03-11 09:18:55 [urllib3.connectionpool] DEBUG: Starting new HTTPS connection (1): www.capgemini.com:443\n",
      "2020-03-11 09:18:55 [urllib3.connectionpool] DEBUG: https://www.capgemini.com:443 \"GET /2017/07/historical-data-can-make-a-big-hairy-mess-in-machine-learning/ HTTP/1.1\" 200 25689\n",
      "2020-03-11 09:18:55 [urllib3.connectionpool] DEBUG: Starting new HTTPS connection (1): www.capgemini.com:443\n"
     ]
    },
    {
     "name": "stdout",
     "output_type": "stream",
     "text": [
      "https://www.capgemini.com/2017/07/historical-data-can-make-a-big-hairy-mess-in-machine-learning/\n",
      "https://www.capgemini.com/2017/07/iot-to-enable-smart-and-vigilant-monitoring-moving-towards-a-safer/\n"
     ]
    },
    {
     "name": "stderr",
     "output_type": "stream",
     "text": [
      "2020-03-11 09:18:55 [urllib3.connectionpool] DEBUG: https://www.capgemini.com:443 \"GET /2017/07/iot-to-enable-smart-and-vigilant-monitoring-moving-towards-a-safer/ HTTP/1.1\" 200 25933\n",
      "2020-03-11 09:18:55 [urllib3.connectionpool] DEBUG: Starting new HTTPS connection (1): www.capgemini.com:443\n",
      "2020-03-11 09:18:55 [urllib3.connectionpool] DEBUG: https://www.capgemini.com:443 \"GET /2017/06/if-you-cant-beat-them-join-them/ HTTP/1.1\" 200 25402\n",
      "2020-03-11 09:18:55 [urllib3.connectionpool] DEBUG: Starting new HTTPS connection (1): www.capgemini.com:443\n",
      "2020-03-11 09:18:55 [urllib3.connectionpool] DEBUG: https://www.capgemini.com:443 \"GET /2017/06/building-the-next-generation-business-transformation-team/ HTTP/1.1\" 200 23656"
     ]
    },
    {
     "name": "stdout",
     "output_type": "stream",
     "text": [
      "https://www.capgemini.com/2017/06/if-you-cant-beat-them-join-them/\n",
      "https://www.capgemini.com/2017/06/building-the-next-generation-business-transformation-team/\n"
     ]
    },
    {
     "name": "stderr",
     "output_type": "stream",
     "text": [
      "\n",
      "2020-03-11 09:18:55 [urllib3.connectionpool] DEBUG: Starting new HTTPS connection (1): www.capgemini.com:443\n"
     ]
    },
    {
     "name": "stdout",
     "output_type": "stream",
     "text": [
      "https://www.capgemini.com/2017/03/technovision-preview-bot-is-the-new-app/\n"
     ]
    },
    {
     "name": "stderr",
     "output_type": "stream",
     "text": [
      "2020-03-11 09:18:56 [urllib3.connectionpool] DEBUG: https://www.capgemini.com:443 \"GET /2017/03/technovision-preview-bot-is-the-new-app/ HTTP/1.1\" 200 None\n",
      "2020-03-11 09:18:56 [urllib3.connectionpool] DEBUG: Starting new HTTPS connection (1): www.capgemini.com:443\n",
      "2020-03-11 09:18:56 [urllib3.connectionpool] DEBUG: https://www.capgemini.com:443 \"GET /2017/02/dont-be-afraid-of-the-robots/ HTTP/1.1\" 200 23039\n",
      "2020-03-11 09:18:56 [urllib3.connectionpool] DEBUG: Starting new HTTPS connection (1): www.capgemini.com:443\n",
      "2020-03-11 09:18:56 [urllib3.connectionpool] DEBUG: https://www.capgemini.com:443 \"GET /2020/03/building-a-digital-manufacturing-foundation-in-the-cloud/ HTTP/1.1\" 200 26510\n"
     ]
    },
    {
     "name": "stdout",
     "output_type": "stream",
     "text": [
      "https://www.capgemini.com/2017/02/dont-be-afraid-of-the-robots/\n",
      "https://www.capgemini.com/2020/03/building-a-digital-manufacturing-foundation-in-the-cloud/\n"
     ]
    },
    {
     "name": "stderr",
     "output_type": "stream",
     "text": [
      "2020-03-11 09:18:56 [scrapy.core.engine] DEBUG: Crawled (200) <GET https://www.capgemini.com/2020/03/perform-ai-for-public-sector-public-goes-ai/> (referer: None)\n",
      "2020-03-11 09:18:56 [scrapy.core.engine] DEBUG: Crawled (200) <GET https://www.capgemini.com/2020/02/tweetmyarchitecture/> (referer: None)\n",
      "2020-03-11 09:18:56 [urllib3.connectionpool] DEBUG: Starting new HTTPS connection (1): www.capgemini.com:443\n"
     ]
    },
    {
     "name": "stdout",
     "output_type": "stream",
     "text": [
      "https://www.capgemini.com/2020/03/ai-and-symbiosis-augmenting-human-effectiveness/\n"
     ]
    },
    {
     "name": "stderr",
     "output_type": "stream",
     "text": [
      "2020-03-11 09:18:57 [urllib3.connectionpool] DEBUG: https://www.capgemini.com:443 \"GET /2020/03/ai-and-symbiosis-augmenting-human-effectiveness/ HTTP/1.1\" 200 None\n",
      "2020-03-11 09:18:57 [scrapy.core.engine] DEBUG: Crawled (200) <GET https://www.capgemini.com/2020/02/enabling-text-based-insights-infrastructure-matters/> (referer: None)\n",
      "2020-03-11 09:18:57 [urllib3.connectionpool] DEBUG: Starting new HTTPS connection (1): www.capgemini.com:443\n"
     ]
    },
    {
     "name": "stdout",
     "output_type": "stream",
     "text": [
      "https://www.capgemini.com/2020/03/perform-ai-for-public-sector-public-goes-ai/\n"
     ]
    },
    {
     "name": "stderr",
     "output_type": "stream",
     "text": [
      "2020-03-11 09:18:58 [urllib3.connectionpool] DEBUG: https://www.capgemini.com:443 \"GET /2020/03/perform-ai-for-public-sector-public-goes-ai/ HTTP/1.1\" 200 None\n",
      "2020-03-11 09:18:58 [urllib3.connectionpool] DEBUG: Starting new HTTPS connection (1): www.capgemini.com:443\n",
      "2020-03-11 09:18:58 [urllib3.connectionpool] DEBUG: https://www.capgemini.com:443 \"GET /2020/02/tweetmyarchitecture/ HTTP/1.1\" 200 25568\n",
      "2020-03-11 09:18:58 [urllib3.connectionpool] DEBUG: Starting new HTTPS connection (1): www.capgemini.com:443\n"
     ]
    },
    {
     "name": "stdout",
     "output_type": "stream",
     "text": [
      "https://www.capgemini.com/2020/02/tweetmyarchitecture/\n",
      "https://www.capgemini.com/2020/02/enabling-text-based-insights-infrastructure-matters/\n"
     ]
    },
    {
     "name": "stderr",
     "output_type": "stream",
     "text": [
      "2020-03-11 09:18:58 [urllib3.connectionpool] DEBUG: https://www.capgemini.com:443 \"GET /2020/02/enabling-text-based-insights-infrastructure-matters/ HTTP/1.1\" 200 None\n",
      "2020-03-11 09:18:58 [scrapy.core.engine] DEBUG: Crawled (200) <GET https://www.capgemini.com/2020/02/why-the-world-needs-inventive-insurers/> (referer: None)\n",
      "2020-03-11 09:18:58 [scrapy.core.engine] DEBUG: Crawled (200) <GET https://www.capgemini.com/2020/02/non-financial-risk-be-a-pioneer-in-key-areas-before-you-lead-the-list-of-fines/> (referer: None)\n",
      "2020-03-11 09:18:59 [urllib3.connectionpool] DEBUG: Starting new HTTPS connection (1): www.capgemini.com:443\n"
     ]
    },
    {
     "name": "stdout",
     "output_type": "stream",
     "text": [
      "https://www.capgemini.com/2020/02/why-the-world-needs-inventive-insurers/\n"
     ]
    },
    {
     "name": "stderr",
     "output_type": "stream",
     "text": [
      "2020-03-11 09:18:59 [urllib3.connectionpool] DEBUG: https://www.capgemini.com:443 \"GET /2020/02/why-the-world-needs-inventive-insurers/ HTTP/1.1\" 200 None\n",
      "2020-03-11 09:19:00 [scrapy.core.engine] DEBUG: Crawled (200) <GET https://www.capgemini.com/2020/01/automating-the-customer-journey/> (referer: None)\n",
      "2020-03-11 09:19:00 [scrapy.core.engine] DEBUG: Crawled (200) <GET https://www.capgemini.com/2020/01/the-evolving-digital-economy-and-next-generation-operating-models/> (referer: None)\n",
      "2020-03-11 09:19:00 [scrapy.core.engine] DEBUG: Crawled (200) <GET https://www.capgemini.com/2020/01/the-fan-experience-in-sports/> (referer: None)\n",
      "2020-03-11 09:19:00 [scrapy.core.engine] DEBUG: Crawled (200) <GET https://www.capgemini.com/2020/01/simplifying-digital-twin-and-digital-thread/> (referer: None)\n",
      "2020-03-11 09:19:00 [scrapy.core.engine] DEBUG: Crawled (200) <GET https://www.capgemini.com/2020/01/reshaping-the-supply-chain-to-meet-modern-customer-demands/> (referer: None)\n",
      "2020-03-11 09:19:00 [scrapy.core.engine] DEBUG: Crawled (200) <GET https://www.capgemini.com/2020/01/why-do-contract-management-tools-fail/> (referer: None)\n",
      "2020-03-11 09:19:00 [scrapy.core.engine] DEBUG: Crawled (200) <GET https://www.capgemini.com/2020/02/green-it-the-latent-catalyst-in-transforming-tech-value-chains/> (referer: None)\n",
      "2020-03-11 09:19:00 [scrapy.core.engine] DEBUG: Crawled (200) <GET https://www.capgemini.com/2020/02/the-auto-revolution-isnt-just-about-car-drivers-anymore/> (referer: None)\n",
      "2020-03-11 09:19:00 [urllib3.connectionpool] DEBUG: Starting new HTTPS connection (1): www.capgemini.com:443\n"
     ]
    },
    {
     "name": "stdout",
     "output_type": "stream",
     "text": [
      "https://www.capgemini.com/2020/02/non-financial-risk-be-a-pioneer-in-key-areas-before-you-lead-the-list-of-fines/\n"
     ]
    },
    {
     "name": "stderr",
     "output_type": "stream",
     "text": [
      "2020-03-11 09:19:00 [urllib3.connectionpool] DEBUG: https://www.capgemini.com:443 \"GET /2020/02/non-financial-risk-be-a-pioneer-in-key-areas-before-you-lead-the-list-of-fines/ HTTP/1.1\" 200 None\n",
      "2020-03-11 09:19:00 [urllib3.connectionpool] DEBUG: Starting new HTTPS connection (1): www.capgemini.com:443\n",
      "2020-03-11 09:19:00 [urllib3.connectionpool] DEBUG: https://www.capgemini.com:443 \"GET /2020/01/automating-the-customer-journey/ HTTP/1.1\" 200 26809\n",
      "2020-03-11 09:19:00 [urllib3.connectionpool] DEBUG: Starting new HTTPS connection (1): www.capgemini.com:443\n"
     ]
    },
    {
     "name": "stdout",
     "output_type": "stream",
     "text": [
      "https://www.capgemini.com/2020/01/automating-the-customer-journey/\n",
      "https://www.capgemini.com/2020/01/the-evolving-digital-economy-and-next-generation-operating-models/\n"
     ]
    },
    {
     "name": "stderr",
     "output_type": "stream",
     "text": [
      "2020-03-11 09:19:01 [urllib3.connectionpool] DEBUG: https://www.capgemini.com:443 \"GET /2020/01/the-evolving-digital-economy-and-next-generation-operating-models/ HTTP/1.1\" 200 23161\n",
      "2020-03-11 09:19:01 [urllib3.connectionpool] DEBUG: Starting new HTTPS connection (1): www.capgemini.com:443\n"
     ]
    },
    {
     "name": "stdout",
     "output_type": "stream",
     "text": [
      "https://www.capgemini.com/2020/01/the-fan-experience-in-sports/\n"
     ]
    },
    {
     "name": "stderr",
     "output_type": "stream",
     "text": [
      "2020-03-11 09:19:01 [urllib3.connectionpool] DEBUG: https://www.capgemini.com:443 \"GET /2020/01/the-fan-experience-in-sports/ HTTP/1.1\" 200 None\n",
      "2020-03-11 09:19:01 [urllib3.connectionpool] DEBUG: Starting new HTTPS connection (1): www.capgemini.com:443\n"
     ]
    },
    {
     "name": "stdout",
     "output_type": "stream",
     "text": [
      "https://www.capgemini.com/2020/01/simplifying-digital-twin-and-digital-thread/\n"
     ]
    },
    {
     "name": "stderr",
     "output_type": "stream",
     "text": [
      "2020-03-11 09:19:02 [urllib3.connectionpool] DEBUG: https://www.capgemini.com:443 \"GET /2020/01/simplifying-digital-twin-and-digital-thread/ HTTP/1.1\" 200 None\n",
      "2020-03-11 09:19:02 [urllib3.connectionpool] DEBUG: Starting new HTTPS connection (1): www.capgemini.com:443\n",
      "2020-03-11 09:19:02 [urllib3.connectionpool] DEBUG: https://www.capgemini.com:443 \"GET /2020/01/reshaping-the-supply-chain-to-meet-modern-customer-demands/ HTTP/1.1\" 200 24052\n",
      "2020-03-11 09:19:02 [urllib3.connectionpool] DEBUG: Starting new HTTPS connection (1): www.capgemini.com:443\n"
     ]
    },
    {
     "name": "stdout",
     "output_type": "stream",
     "text": [
      "https://www.capgemini.com/2020/01/reshaping-the-supply-chain-to-meet-modern-customer-demands/\n",
      "https://www.capgemini.com/2020/01/why-do-contract-management-tools-fail/\n"
     ]
    },
    {
     "name": "stderr",
     "output_type": "stream",
     "text": [
      "2020-03-11 09:19:02 [urllib3.connectionpool] DEBUG: https://www.capgemini.com:443 \"GET /2020/01/why-do-contract-management-tools-fail/ HTTP/1.1\" 200 25828\n",
      "2020-03-11 09:19:02 [urllib3.connectionpool] DEBUG: Starting new HTTPS connection (1): www.capgemini.com:443\n",
      "2020-03-11 09:19:02 [urllib3.connectionpool] DEBUG: https://www.capgemini.com:443 \"GET /2020/02/green-it-the-latent-catalyst-in-transforming-tech-value-chains/ HTTP/1.1\" 200 24880\n",
      "2020-03-11 09:19:02 [urllib3.connectionpool] DEBUG: Starting new HTTPS connection (1): www.capgemini.com:443\n"
     ]
    },
    {
     "name": "stdout",
     "output_type": "stream",
     "text": [
      "https://www.capgemini.com/2020/02/green-it-the-latent-catalyst-in-transforming-tech-value-chains/\n",
      "https://www.capgemini.com/2020/02/the-auto-revolution-isnt-just-about-car-drivers-anymore/\n"
     ]
    },
    {
     "name": "stderr",
     "output_type": "stream",
     "text": [
      "2020-03-11 09:19:03 [urllib3.connectionpool] DEBUG: https://www.capgemini.com:443 \"GET /2020/02/the-auto-revolution-isnt-just-about-car-drivers-anymore/ HTTP/1.1\" 200 None\n",
      "2020-03-11 09:19:03 [scrapy.core.engine] DEBUG: Crawled (200) <GET https://www.capgemini.com/2020/01/data-analytics-trends-for-consumer-products-and-retail-companies-in-2020/> (referer: None)\n",
      "2020-03-11 09:19:03 [scrapy.core.engine] DEBUG: Crawled (200) <GET https://www.capgemini.com/2020/01/the-digital-lab-data-insights-lead-to-even-more-business-relevant-research-ideas/> (referer: None)\n",
      "2020-03-11 09:19:03 [scrapy.core.engine] DEBUG: Crawled (200) <GET https://www.capgemini.com/2020/01/sap-s-4hana-renewing-the-enterprise/> (referer: None)\n",
      "2020-03-11 09:19:03 [scrapy.core.engine] DEBUG: Crawled (200) <GET https://www.capgemini.com/2020/01/ai-is-good-as-long-as-we-enact-ethics-controls/> (referer: None)\n",
      "2020-03-11 09:19:03 [scrapy.core.engine] DEBUG: Crawled (200) <GET https://www.capgemini.com/2020/01/new-roles-emerging-as-utilities-become-more-data-driven/> (referer: None)\n",
      "2020-03-11 09:19:03 [scrapy.core.engine] DEBUG: Crawled (200) <GET https://www.capgemini.com/2019/12/transforming-the-supply-chain-of-future-with-smart-processes/> (referer: None)\n",
      "2020-03-11 09:19:03 [scrapy.core.engine] DEBUG: Crawled (200) <GET https://www.capgemini.com/2019/12/digital-twins-and-business-process-transformation/> (referer: None)\n",
      "2020-03-11 09:19:03 [scrapy.core.engine] DEBUG: Crawled (200) <GET https://www.capgemini.com/2019/12/utilities-need-to-plug-into-agile/> (referer: None)\n",
      "2020-03-11 09:19:03 [urllib3.connectionpool] DEBUG: Starting new HTTPS connection (1): www.capgemini.com:443\n"
     ]
    },
    {
     "name": "stdout",
     "output_type": "stream",
     "text": [
      "https://www.capgemini.com/2020/01/data-analytics-trends-for-consumer-products-and-retail-companies-in-2020/\n"
     ]
    },
    {
     "name": "stderr",
     "output_type": "stream",
     "text": [
      "2020-03-11 09:19:04 [urllib3.connectionpool] DEBUG: https://www.capgemini.com:443 \"GET /2020/01/data-analytics-trends-for-consumer-products-and-retail-companies-in-2020/ HTTP/1.1\" 200 None\n",
      "2020-03-11 09:19:04 [scrapy.core.engine] DEBUG: Crawled (200) <GET https://www.capgemini.com/2019/12/building-a-culture-of-quality-transformation/> (referer: None)\n",
      "2020-03-11 09:19:04 [scrapy.core.engine] DEBUG: Crawled (200) <GET https://www.capgemini.com/2019/12/digital-age-learning-how-does-it-shape-the-way-learners-learn/> (referer: None)\n",
      "2020-03-11 09:19:04 [scrapy.core.engine] DEBUG: Crawled (200) <GET https://www.capgemini.com/article/technology-talk-5/> (referer: None)\n",
      "2020-03-11 09:19:04 [scrapy.core.engine] DEBUG: Crawled (200) <GET https://www.capgemini.com/article/sharing-success-4/> (referer: None)\n",
      "2020-03-11 09:19:04 [scrapy.core.engine] DEBUG: Crawled (200) <GET https://www.capgemini.com/2019/12/a-designers-view-on-ai-ethics-part-3-of-3/> (referer: None)\n",
      "2020-03-11 09:19:04 [scrapy.core.engine] DEBUG: Crawled (200) <GET https://www.capgemini.com/2019/12/you-me-and-ai-bringing-to-life-whats-next-in-ai/> (referer: None)\n",
      "2020-03-11 09:19:04 [scrapy.core.engine] DEBUG: Crawled (200) <GET https://www.capgemini.com/2019/11/intelligent-automation-is-the-smart-move-for-utilities/> (referer: None)\n",
      "2020-03-11 09:19:04 [scrapy.core.engine] DEBUG: Crawled (200) <GET https://www.capgemini.com/2019/11/digital-transformation-and-the-ethical-use-of-ai/> (referer: None)\n",
      "2020-03-11 09:19:04 [urllib3.connectionpool] DEBUG: Starting new HTTPS connection (1): www.capgemini.com:443\n",
      "2020-03-11 09:19:04 [urllib3.connectionpool] DEBUG: https://www.capgemini.com:443 \"GET /2020/01/the-digital-lab-data-insights-lead-to-even-more-business-relevant-research-ideas/ HTTP/1.1\" 200 28147\n",
      "2020-03-11 09:19:04 [urllib3.connectionpool] DEBUG: Starting new HTTPS connection (1): www.capgemini.com:443\n"
     ]
    },
    {
     "name": "stdout",
     "output_type": "stream",
     "text": [
      "https://www.capgemini.com/2020/01/the-digital-lab-data-insights-lead-to-even-more-business-relevant-research-ideas/\n",
      "https://www.capgemini.com/2020/01/sap-s-4hana-renewing-the-enterprise/\n"
     ]
    },
    {
     "name": "stderr",
     "output_type": "stream",
     "text": [
      "2020-03-11 09:19:04 [urllib3.connectionpool] DEBUG: https://www.capgemini.com:443 \"GET /2020/01/sap-s-4hana-renewing-the-enterprise/ HTTP/1.1\" 200 26672\n",
      "2020-03-11 09:19:04 [urllib3.connectionpool] DEBUG: Starting new HTTPS connection (1): www.capgemini.com:443\n",
      "2020-03-11 09:19:04 [urllib3.connectionpool] DEBUG: https://www.capgemini.com:443 \"GET /2020/01/ai-is-good-as-long-as-we-enact-ethics-controls/ HTTP/1.1\" 200 22780\n",
      "2020-03-11 09:19:04 [urllib3.connectionpool] DEBUG: Starting new HTTPS connection (1): www.capgemini.com:443\n"
     ]
    },
    {
     "name": "stdout",
     "output_type": "stream",
     "text": [
      "https://www.capgemini.com/2020/01/ai-is-good-as-long-as-we-enact-ethics-controls/\n",
      "https://www.capgemini.com/2020/01/new-roles-emerging-as-utilities-become-more-data-driven/\n"
     ]
    },
    {
     "name": "stderr",
     "output_type": "stream",
     "text": [
      "2020-03-11 09:19:05 [urllib3.connectionpool] DEBUG: https://www.capgemini.com:443 \"GET /2020/01/new-roles-emerging-as-utilities-become-more-data-driven/ HTTP/1.1\" 200 22640\n",
      "2020-03-11 09:19:05 [urllib3.connectionpool] DEBUG: Starting new HTTPS connection (1): www.capgemini.com:443\n"
     ]
    },
    {
     "name": "stdout",
     "output_type": "stream",
     "text": [
      "https://www.capgemini.com/2019/12/transforming-the-supply-chain-of-future-with-smart-processes/\n"
     ]
    },
    {
     "name": "stderr",
     "output_type": "stream",
     "text": [
      "2020-03-11 09:19:05 [urllib3.connectionpool] DEBUG: https://www.capgemini.com:443 \"GET /2019/12/transforming-the-supply-chain-of-future-with-smart-processes/ HTTP/1.1\" 200 None\n",
      "2020-03-11 09:19:05 [urllib3.connectionpool] DEBUG: Starting new HTTPS connection (1): www.capgemini.com:443\n",
      "2020-03-11 09:19:05 [urllib3.connectionpool] DEBUG: https://www.capgemini.com:443 \"GET /2019/12/digital-twins-and-business-process-transformation/ HTTP/1.1\" 200 26685\n",
      "2020-03-11 09:19:05 [urllib3.connectionpool] DEBUG: Starting new HTTPS connection (1): www.capgemini.com:443\n"
     ]
    },
    {
     "name": "stdout",
     "output_type": "stream",
     "text": [
      "https://www.capgemini.com/2019/12/digital-twins-and-business-process-transformation/\n",
      "https://www.capgemini.com/2019/12/utilities-need-to-plug-into-agile/\n"
     ]
    },
    {
     "name": "stderr",
     "output_type": "stream",
     "text": [
      "2020-03-11 09:19:06 [urllib3.connectionpool] DEBUG: https://www.capgemini.com:443 \"GET /2019/12/utilities-need-to-plug-into-agile/ HTTP/1.1\" 200 None\n",
      "2020-03-11 09:19:06 [urllib3.connectionpool] DEBUG: Starting new HTTPS connection (1): www.capgemini.com:443\n",
      "2020-03-11 09:19:06 [urllib3.connectionpool] DEBUG: https://www.capgemini.com:443 \"GET /2019/12/building-a-culture-of-quality-transformation/ HTTP/1.1\" 200 22985\n",
      "2020-03-11 09:19:06 [urllib3.connectionpool] DEBUG: Starting new HTTPS connection (1): www.capgemini.com:443\n"
     ]
    },
    {
     "name": "stdout",
     "output_type": "stream",
     "text": [
      "https://www.capgemini.com/2019/12/building-a-culture-of-quality-transformation/\n",
      "https://www.capgemini.com/2019/12/digital-age-learning-how-does-it-shape-the-way-learners-learn/\n"
     ]
    },
    {
     "name": "stderr",
     "output_type": "stream",
     "text": [
      "2020-03-11 09:19:07 [urllib3.connectionpool] DEBUG: https://www.capgemini.com:443 \"GET /2019/12/digital-age-learning-how-does-it-shape-the-way-learners-learn/ HTTP/1.1\" 200 None\n",
      "2020-03-11 09:19:07 [urllib3.connectionpool] DEBUG: Starting new HTTPS connection (1): www.capgemini.com:443\n",
      "2020-03-11 09:19:07 [urllib3.connectionpool] DEBUG: https://www.capgemini.com:443 \"GET /article/technology-talk-5/ HTTP/1.1\" 200 21498\n",
      "2020-03-11 09:19:07 [urllib3.connectionpool] DEBUG: Starting new HTTPS connection (1): www.capgemini.com:443\n"
     ]
    },
    {
     "name": "stdout",
     "output_type": "stream",
     "text": [
      "https://www.capgemini.com/article/technology-talk-5/\n",
      "https://www.capgemini.com/article/sharing-success-4/\n"
     ]
    },
    {
     "name": "stderr",
     "output_type": "stream",
     "text": [
      "2020-03-11 09:19:07 [urllib3.connectionpool] DEBUG: https://www.capgemini.com:443 \"GET /article/sharing-success-4/ HTTP/1.1\" 200 24689\n",
      "2020-03-11 09:19:07 [urllib3.connectionpool] DEBUG: Starting new HTTPS connection (1): www.capgemini.com:443\n"
     ]
    },
    {
     "name": "stdout",
     "output_type": "stream",
     "text": [
      "https://www.capgemini.com/2019/12/a-designers-view-on-ai-ethics-part-3-of-3/\n"
     ]
    },
    {
     "name": "stderr",
     "output_type": "stream",
     "text": [
      "2020-03-11 09:19:08 [urllib3.connectionpool] DEBUG: https://www.capgemini.com:443 \"GET /2019/12/a-designers-view-on-ai-ethics-part-3-of-3/ HTTP/1.1\" 200 None\n",
      "2020-03-11 09:19:08 [urllib3.connectionpool] DEBUG: Starting new HTTPS connection (1): www.capgemini.com:443\n"
     ]
    },
    {
     "name": "stdout",
     "output_type": "stream",
     "text": [
      "https://www.capgemini.com/2019/12/you-me-and-ai-bringing-to-life-whats-next-in-ai/\n"
     ]
    },
    {
     "name": "stderr",
     "output_type": "stream",
     "text": [
      "2020-03-11 09:19:09 [urllib3.connectionpool] DEBUG: https://www.capgemini.com:443 \"GET /2019/12/you-me-and-ai-bringing-to-life-whats-next-in-ai/ HTTP/1.1\" 200 None\n",
      "2020-03-11 09:19:09 [urllib3.connectionpool] DEBUG: Starting new HTTPS connection (1): www.capgemini.com:443\n",
      "2020-03-11 09:19:09 [urllib3.connectionpool] DEBUG: https://www.capgemini.com:443 \"GET /2019/11/intelligent-automation-is-the-smart-move-for-utilities/ HTTP/1.1\" 200 25768\n",
      "2020-03-11 09:19:09 [urllib3.connectionpool] DEBUG: Starting new HTTPS connection (1): www.capgemini.com:443\n",
      "2020-03-11 09:19:09 [urllib3.connectionpool] DEBUG: https://www.capgemini.com:443 \"GET /2019/11/digital-transformation-and-the-ethical-use-of-ai/ HTTP/1.1\" 200 22813\n"
     ]
    },
    {
     "name": "stdout",
     "output_type": "stream",
     "text": [
      "https://www.capgemini.com/2019/11/intelligent-automation-is-the-smart-move-for-utilities/\n",
      "https://www.capgemini.com/2019/11/digital-transformation-and-the-ethical-use-of-ai/\n"
     ]
    },
    {
     "name": "stderr",
     "output_type": "stream",
     "text": [
      "2020-03-11 09:19:09 [scrapy.core.engine] DEBUG: Crawled (200) <GET https://www.capgemini.com/2019/11/robotic-process-automation-an-industry-perspective/> (referer: None)\n",
      "2020-03-11 09:19:09 [scrapy.core.engine] DEBUG: Crawled (200) <GET https://www.capgemini.com/2019/11/is-the-future-truly-digital-or-is-it-something-else/> (referer: None)\n",
      "2020-03-11 09:19:09 [scrapy.core.engine] DEBUG: Crawled (200) <GET https://www.capgemini.com/article/nyc-the-many-ways-we-will-soon-be-talking-to-robots/> (referer: None)\n",
      "2020-03-11 09:19:09 [scrapy.core.engine] DEBUG: Crawled (200) <GET https://www.capgemini.com/2019/11/leveraging-an-api-first-approach-to-chatbots/> (referer: None)\n",
      "2020-03-11 09:19:09 [scrapy.core.engine] DEBUG: Crawled (200) <GET https://www.capgemini.com/2019/11/a-designers-view-on-ai-ethics-part-2-of-3/> (referer: None)\n",
      "2020-03-11 09:19:09 [scrapy.core.engine] DEBUG: Crawled (200) <GET https://www.capgemini.com/2019/11/striving-for-greater-efficiencies-on-the-grid/> (referer: None)\n",
      "2020-03-11 09:19:09 [scrapy.core.engine] DEBUG: Crawled (200) <GET https://www.capgemini.com/2019/11/atdc-creating-a-workforce-for-the-future-of-it/> (referer: None)\n",
      "2020-03-11 09:19:09 [scrapy.core.engine] DEBUG: Crawled (200) <GET https://www.capgemini.com/2019/11/the-impact-of-sap-s-4hana-on-human-resources/> (referer: None)\n",
      "2020-03-11 09:19:09 [urllib3.connectionpool] DEBUG: Starting new HTTPS connection (1): www.capgemini.com:443\n"
     ]
    },
    {
     "name": "stdout",
     "output_type": "stream",
     "text": [
      "https://www.capgemini.com/2019/11/robotic-process-automation-an-industry-perspective/\n"
     ]
    },
    {
     "name": "stderr",
     "output_type": "stream",
     "text": [
      "2020-03-11 09:19:10 [urllib3.connectionpool] DEBUG: https://www.capgemini.com:443 \"GET /2019/11/robotic-process-automation-an-industry-perspective/ HTTP/1.1\" 200 None\n",
      "2020-03-11 09:19:10 [scrapy.core.engine] DEBUG: Crawled (200) <GET https://www.capgemini.com/2019/11/lean-it-data-driven-steering-of-it-organizations/> (referer: None)\n",
      "2020-03-11 09:19:10 [scrapy.core.engine] DEBUG: Crawled (200) <GET https://www.capgemini.com/2019/11/how-machine-learning-is-transforming-finance-operations/> (referer: None)\n",
      "2020-03-11 09:19:10 [scrapy.core.engine] DEBUG: Crawled (200) <GET https://www.capgemini.com/2019/10/new-age-competencies/> (referer: None)\n",
      "2020-03-11 09:19:10 [scrapy.core.engine] DEBUG: Crawled (200) <GET https://www.capgemini.com/article/sf-gary-marcus-the-real-timetable-for-robust-ai-that-we-can-all-trust/> (referer: None)\n",
      "2020-03-11 09:19:10 [scrapy.core.engine] DEBUG: Crawled (200) <GET https://www.capgemini.com/2019/10/re-usable-rpa/> (referer: None)\n",
      "2020-03-11 09:19:10 [urllib3.connectionpool] DEBUG: Starting new HTTPS connection (1): www.capgemini.com:443\n"
     ]
    },
    {
     "name": "stdout",
     "output_type": "stream",
     "text": [
      "https://www.capgemini.com/2019/11/is-the-future-truly-digital-or-is-it-something-else/\n"
     ]
    },
    {
     "name": "stderr",
     "output_type": "stream",
     "text": [
      "2020-03-11 09:19:10 [urllib3.connectionpool] DEBUG: https://www.capgemini.com:443 \"GET /2019/11/is-the-future-truly-digital-or-is-it-something-else/ HTTP/1.1\" 200 None\n",
      "2020-03-11 09:19:10 [urllib3.connectionpool] DEBUG: Starting new HTTPS connection (1): www.capgemini.com:443\n"
     ]
    },
    {
     "name": "stdout",
     "output_type": "stream",
     "text": [
      "https://www.capgemini.com/article/nyc-the-many-ways-we-will-soon-be-talking-to-robots/\n"
     ]
    },
    {
     "name": "stderr",
     "output_type": "stream",
     "text": [
      "2020-03-11 09:19:11 [urllib3.connectionpool] DEBUG: https://www.capgemini.com:443 \"GET /article/nyc-the-many-ways-we-will-soon-be-talking-to-robots/ HTTP/1.1\" 200 None\n",
      "2020-03-11 09:19:11 [urllib3.connectionpool] DEBUG: Starting new HTTPS connection (1): www.capgemini.com:443\n",
      "2020-03-11 09:19:11 [urllib3.connectionpool] DEBUG: https://www.capgemini.com:443 \"GET /2019/11/leveraging-an-api-first-approach-to-chatbots/ HTTP/1.1\" 200 22881\n",
      "2020-03-11 09:19:11 [urllib3.connectionpool] DEBUG: Starting new HTTPS connection (1): www.capgemini.com:443\n"
     ]
    },
    {
     "name": "stdout",
     "output_type": "stream",
     "text": [
      "https://www.capgemini.com/2019/11/leveraging-an-api-first-approach-to-chatbots/\n",
      "https://www.capgemini.com/2019/11/a-designers-view-on-ai-ethics-part-2-of-3/\n"
     ]
    },
    {
     "name": "stderr",
     "output_type": "stream",
     "text": [
      "2020-03-11 09:19:11 [urllib3.connectionpool] DEBUG: https://www.capgemini.com:443 \"GET /2019/11/a-designers-view-on-ai-ethics-part-2-of-3/ HTTP/1.1\" 200 24991\n",
      "2020-03-11 09:19:11 [urllib3.connectionpool] DEBUG: Starting new HTTPS connection (1): www.capgemini.com:443\n",
      "2020-03-11 09:19:12 [urllib3.connectionpool] DEBUG: https://www.capgemini.com:443 \"GET /2019/11/striving-for-greater-efficiencies-on-the-grid/ HTTP/1.1\" 200 22568\n",
      "2020-03-11 09:19:12 [urllib3.connectionpool] DEBUG: Starting new HTTPS connection (1): www.capgemini.com:443\n"
     ]
    },
    {
     "name": "stdout",
     "output_type": "stream",
     "text": [
      "https://www.capgemini.com/2019/11/striving-for-greater-efficiencies-on-the-grid/\n",
      "https://www.capgemini.com/2019/11/atdc-creating-a-workforce-for-the-future-of-it/\n"
     ]
    },
    {
     "name": "stderr",
     "output_type": "stream",
     "text": [
      "2020-03-11 09:19:12 [urllib3.connectionpool] DEBUG: https://www.capgemini.com:443 \"GET /2019/11/atdc-creating-a-workforce-for-the-future-of-it/ HTTP/1.1\" 200 None\n",
      "2020-03-11 09:19:12 [urllib3.connectionpool] DEBUG: Starting new HTTPS connection (1): www.capgemini.com:443\n",
      "2020-03-11 09:19:12 [urllib3.connectionpool] DEBUG: https://www.capgemini.com:443 \"GET /2019/11/the-impact-of-sap-s-4hana-on-human-resources/ HTTP/1.1\" 200 22946\n",
      "2020-03-11 09:19:12 [scrapy.core.engine] DEBUG: Crawled (200) <GET https://www.capgemini.com/article/digital-twins-introduction/> (referer: None)\n",
      "2020-03-11 09:19:12 [scrapy.core.engine] DEBUG: Crawled (200) <GET https://www.capgemini.com/2019/10/alliances-develop-future-leaders/> (referer: None)\n",
      "2020-03-11 09:19:12 [scrapy.core.engine] DEBUG: Crawled (200) <GET https://www.capgemini.com/2019/10/world-climate-summit-2019/> (referer: None)\n"
     ]
    },
    {
     "name": "stdout",
     "output_type": "stream",
     "text": [
      "https://www.capgemini.com/2019/11/the-impact-of-sap-s-4hana-on-human-resources/\n"
     ]
    },
    {
     "name": "stderr",
     "output_type": "stream",
     "text": [
      "2020-03-11 09:19:12 [urllib3.connectionpool] DEBUG: Starting new HTTPS connection (1): www.capgemini.com:443\n",
      "2020-03-11 09:19:13 [urllib3.connectionpool] DEBUG: https://www.capgemini.com:443 \"GET /2019/11/lean-it-data-driven-steering-of-it-organizations/ HTTP/1.1\" 200 23699\n",
      "2020-03-11 09:19:13 [urllib3.connectionpool] DEBUG: Starting new HTTPS connection (1): www.capgemini.com:443\n",
      "2020-03-11 09:19:13 [urllib3.connectionpool] DEBUG: https://www.capgemini.com:443 \"GET /2019/11/how-machine-learning-is-transforming-finance-operations/ HTTP/1.1\" 200 23437\n"
     ]
    },
    {
     "name": "stdout",
     "output_type": "stream",
     "text": [
      "https://www.capgemini.com/2019/11/lean-it-data-driven-steering-of-it-organizations/\n",
      "https://www.capgemini.com/2019/11/how-machine-learning-is-transforming-finance-operations/\n"
     ]
    },
    {
     "name": "stderr",
     "output_type": "stream",
     "text": [
      "2020-03-11 09:19:13 [urllib3.connectionpool] DEBUG: Starting new HTTPS connection (1): www.capgemini.com:443\n"
     ]
    },
    {
     "name": "stdout",
     "output_type": "stream",
     "text": [
      "https://www.capgemini.com/2019/10/new-age-competencies/\n"
     ]
    },
    {
     "name": "stderr",
     "output_type": "stream",
     "text": [
      "2020-03-11 09:19:13 [urllib3.connectionpool] DEBUG: https://www.capgemini.com:443 \"GET /2019/10/new-age-competencies/ HTTP/1.1\" 200 None\n",
      "2020-03-11 09:19:13 [urllib3.connectionpool] DEBUG: Starting new HTTPS connection (1): www.capgemini.com:443\n"
     ]
    },
    {
     "name": "stdout",
     "output_type": "stream",
     "text": [
      "https://www.capgemini.com/article/sf-gary-marcus-the-real-timetable-for-robust-ai-that-we-can-all-trust/\n"
     ]
    },
    {
     "name": "stderr",
     "output_type": "stream",
     "text": [
      "2020-03-11 09:19:14 [urllib3.connectionpool] DEBUG: https://www.capgemini.com:443 \"GET /article/sf-gary-marcus-the-real-timetable-for-robust-ai-that-we-can-all-trust/ HTTP/1.1\" 200 None\n",
      "2020-03-11 09:19:14 [urllib3.connectionpool] DEBUG: Starting new HTTPS connection (1): www.capgemini.com:443\n"
     ]
    },
    {
     "name": "stdout",
     "output_type": "stream",
     "text": [
      "https://www.capgemini.com/2019/10/re-usable-rpa/\n"
     ]
    },
    {
     "name": "stderr",
     "output_type": "stream",
     "text": [
      "2020-03-11 09:19:15 [urllib3.connectionpool] DEBUG: https://www.capgemini.com:443 \"GET /2019/10/re-usable-rpa/ HTTP/1.1\" 200 None\n",
      "2020-03-11 09:19:15 [scrapy.core.engine] DEBUG: Crawled (200) <GET https://www.capgemini.com/2019/09/applying-technology-to-sustainability-challenges/> (referer: None)\n",
      "2020-03-11 09:19:15 [scrapy.core.engine] DEBUG: Crawled (200) <GET https://www.capgemini.com/2019/09/implement-a-trusted-customer-relationship-through-a-360-degree-view-and-produce-effective-business-insights/> (referer: None)\n",
      "2020-03-11 09:19:15 [scrapy.core.engine] DEBUG: Crawled (200) <GET https://www.capgemini.com/2019/09/parametric-insurance-is-becoming-more-popular-industrywide-as-firms-seek-risk-transfer-options/> (referer: None)\n",
      "2020-03-11 09:19:15 [scrapy.core.engine] DEBUG: Crawled (200) <GET https://www.capgemini.com/2019/09/evoqe-evolution-of-quality-engineering-next-generation-quality-engineering-services/> (referer: None)\n",
      "2020-03-11 09:19:15 [scrapy.core.engine] DEBUG: Crawled (200) <GET https://www.capgemini.com/2019/09/capgemini-and-airbus-making-a-success-of-rpa/> (referer: None)\n",
      "2020-03-11 09:19:15 [urllib3.connectionpool] DEBUG: Starting new HTTPS connection (1): www.capgemini.com:443\n",
      "2020-03-11 09:19:15 [urllib3.connectionpool] DEBUG: https://www.capgemini.com:443 \"GET /article/digital-twins-introduction/ HTTP/1.1\" 200 21024\n",
      "2020-03-11 09:19:15 [urllib3.connectionpool] DEBUG: Starting new HTTPS connection (1): www.capgemini.com:443\n"
     ]
    },
    {
     "name": "stdout",
     "output_type": "stream",
     "text": [
      "https://www.capgemini.com/article/digital-twins-introduction/\n",
      "https://www.capgemini.com/2019/10/alliances-develop-future-leaders/\n"
     ]
    },
    {
     "name": "stderr",
     "output_type": "stream",
     "text": [
      "2020-03-11 09:19:15 [urllib3.connectionpool] DEBUG: https://www.capgemini.com:443 \"GET /2019/10/alliances-develop-future-leaders/ HTTP/1.1\" 200 None\n",
      "2020-03-11 09:19:15 [urllib3.connectionpool] DEBUG: Starting new HTTPS connection (1): www.capgemini.com:443\n"
     ]
    },
    {
     "name": "stdout",
     "output_type": "stream",
     "text": [
      "https://www.capgemini.com/2019/10/world-climate-summit-2019/\n"
     ]
    },
    {
     "name": "stderr",
     "output_type": "stream",
     "text": [
      "2020-03-11 09:19:16 [urllib3.connectionpool] DEBUG: https://www.capgemini.com:443 \"GET /2019/10/world-climate-summit-2019/ HTTP/1.1\" 200 None\n",
      "2020-03-11 09:19:16 [scrapy.extensions.logstats] INFO: Crawled 153 pages (at 153 pages/min), scraped 0 items (at 0 items/min)\n",
      "2020-03-11 09:19:16 [scrapy.core.engine] DEBUG: Crawled (200) <GET https://www.capgemini.com/2019/09/digital-patient-ecosystem/> (referer: None)\n",
      "2020-03-11 09:19:16 [scrapy.core.engine] DEBUG: Crawled (200) <GET https://www.capgemini.com/2019/09/electric-cars-present-utilities-with-a-new-opportunity/> (referer: None)\n",
      "2020-03-11 09:19:16 [scrapy.core.engine] DEBUG: Crawled (200) <GET https://www.capgemini.com/2019/09/agile-distribution-models-are-a-more-efficient-way-to-serve-evolving-hnw-client-needs/> (referer: None)\n",
      "2020-03-11 09:19:16 [urllib3.connectionpool] DEBUG: Starting new HTTPS connection (1): www.capgemini.com:443\n",
      "2020-03-11 09:19:16 [urllib3.connectionpool] DEBUG: https://www.capgemini.com:443 \"GET /2019/09/applying-technology-to-sustainability-challenges/ HTTP/1.1\" 200 26896\n",
      "2020-03-11 09:19:16 [urllib3.connectionpool] DEBUG: Starting new HTTPS connection (1): www.capgemini.com:443\n"
     ]
    },
    {
     "name": "stdout",
     "output_type": "stream",
     "text": [
      "https://www.capgemini.com/2019/09/applying-technology-to-sustainability-challenges/\n",
      "https://www.capgemini.com/2019/09/implement-a-trusted-customer-relationship-through-a-360-degree-view-and-produce-effective-business-insights/\n"
     ]
    },
    {
     "name": "stderr",
     "output_type": "stream",
     "text": [
      "2020-03-11 09:19:17 [urllib3.connectionpool] DEBUG: https://www.capgemini.com:443 \"GET /2019/09/implement-a-trusted-customer-relationship-through-a-360-degree-view-and-produce-effective-business-insights/ HTTP/1.1\" 200 None\n",
      "2020-03-11 09:19:17 [urllib3.connectionpool] DEBUG: Starting new HTTPS connection (1): www.capgemini.com:443\n",
      "2020-03-11 09:19:17 [urllib3.connectionpool] DEBUG: https://www.capgemini.com:443 \"GET /2019/09/parametric-insurance-is-becoming-more-popular-industrywide-as-firms-seek-risk-transfer-options/ HTTP/1.1\" 200 27831\n",
      "2020-03-11 09:19:17 [urllib3.connectionpool] DEBUG: Starting new HTTPS connection (1): www.capgemini.com:443\n"
     ]
    },
    {
     "name": "stdout",
     "output_type": "stream",
     "text": [
      "https://www.capgemini.com/2019/09/parametric-insurance-is-becoming-more-popular-industrywide-as-firms-seek-risk-transfer-options/\n",
      "https://www.capgemini.com/2019/09/evoqe-evolution-of-quality-engineering-next-generation-quality-engineering-services/\n"
     ]
    },
    {
     "name": "stderr",
     "output_type": "stream",
     "text": [
      "2020-03-11 09:19:17 [urllib3.connectionpool] DEBUG: https://www.capgemini.com:443 \"GET /2019/09/evoqe-evolution-of-quality-engineering-next-generation-quality-engineering-services/ HTTP/1.1\" 200 27604\n",
      "2020-03-11 09:19:17 [urllib3.connectionpool] DEBUG: Starting new HTTPS connection (1): www.capgemini.com:443\n",
      "2020-03-11 09:19:17 [urllib3.connectionpool] DEBUG: https://www.capgemini.com:443 \"GET /2019/09/capgemini-and-airbus-making-a-success-of-rpa/ HTTP/1.1\" 200 24038\n",
      "2020-03-11 09:19:17 [scrapy.core.engine] DEBUG: Crawled (200) <GET https://www.capgemini.com/2019/09/the-road-to-customer-loyalty-is-paved-with-partnerships/> (referer: None)\n",
      "2020-03-11 09:19:17 [scrapy.core.engine] DEBUG: Crawled (200) <GET https://www.capgemini.com/2019/08/wealth-firms-are-boosting-hnw-client-experience-through-new-technology-powered-capabilities/> (referer: None)\n",
      "2020-03-11 09:19:17 [urllib3.connectionpool] DEBUG: Starting new HTTPS connection (1): www.capgemini.com:443\n"
     ]
    },
    {
     "name": "stdout",
     "output_type": "stream",
     "text": [
      "https://www.capgemini.com/2019/09/capgemini-and-airbus-making-a-success-of-rpa/\n",
      "https://www.capgemini.com/2019/09/digital-patient-ecosystem/\n"
     ]
    },
    {
     "name": "stderr",
     "output_type": "stream",
     "text": [
      "2020-03-11 09:19:17 [urllib3.connectionpool] DEBUG: https://www.capgemini.com:443 \"GET /2019/09/digital-patient-ecosystem/ HTTP/1.1\" 200 23828\n",
      "2020-03-11 09:19:17 [urllib3.connectionpool] DEBUG: Starting new HTTPS connection (1): www.capgemini.com:443\n",
      "2020-03-11 09:19:17 [urllib3.connectionpool] DEBUG: https://www.capgemini.com:443 \"GET /2019/09/electric-cars-present-utilities-with-a-new-opportunity/ HTTP/1.1\" 200 25380\n",
      "2020-03-11 09:19:18 [urllib3.connectionpool] DEBUG: Starting new HTTPS connection (1): www.capgemini.com:443\n"
     ]
    },
    {
     "name": "stdout",
     "output_type": "stream",
     "text": [
      "https://www.capgemini.com/2019/09/electric-cars-present-utilities-with-a-new-opportunity/\n",
      "https://www.capgemini.com/2019/09/agile-distribution-models-are-a-more-efficient-way-to-serve-evolving-hnw-client-needs/\n"
     ]
    },
    {
     "name": "stderr",
     "output_type": "stream",
     "text": [
      "2020-03-11 09:19:18 [urllib3.connectionpool] DEBUG: https://www.capgemini.com:443 \"GET /2019/09/agile-distribution-models-are-a-more-efficient-way-to-serve-evolving-hnw-client-needs/ HTTP/1.1\" 200 None\n",
      "2020-03-11 09:19:18 [scrapy.core.engine] DEBUG: Crawled (200) <GET https://www.capgemini.com/2019/08/part-two-of-two-part-series-building-a-financially-sustainable-insurtech-firm-key-customer-related-metrics/> (referer: None)\n",
      "2020-03-11 09:19:18 [urllib3.connectionpool] DEBUG: Starting new HTTPS connection (1): www.capgemini.com:443\n"
     ]
    },
    {
     "name": "stdout",
     "output_type": "stream",
     "text": [
      "https://www.capgemini.com/2019/09/the-road-to-customer-loyalty-is-paved-with-partnerships/\n"
     ]
    },
    {
     "name": "stderr",
     "output_type": "stream",
     "text": [
      "2020-03-11 09:19:19 [urllib3.connectionpool] DEBUG: https://www.capgemini.com:443 \"GET /2019/09/the-road-to-customer-loyalty-is-paved-with-partnerships/ HTTP/1.1\" 200 None\n",
      "2020-03-11 09:19:19 [urllib3.connectionpool] DEBUG: Starting new HTTPS connection (1): www.capgemini.com:443\n"
     ]
    },
    {
     "name": "stdout",
     "output_type": "stream",
     "text": [
      "https://www.capgemini.com/2019/08/wealth-firms-are-boosting-hnw-client-experience-through-new-technology-powered-capabilities/\n"
     ]
    },
    {
     "name": "stderr",
     "output_type": "stream",
     "text": [
      "2020-03-11 09:19:19 [urllib3.connectionpool] DEBUG: https://www.capgemini.com:443 \"GET /2019/08/wealth-firms-are-boosting-hnw-client-experience-through-new-technology-powered-capabilities/ HTTP/1.1\" 200 None\n",
      "2020-03-11 09:19:20 [scrapy.core.engine] DEBUG: Crawled (200) <GET https://www.capgemini.com/2019/08/engagement-blueprints-redraw-traditional-manufacturer-dealer-and-consumer-relationships/> (referer: None)\n",
      "2020-03-11 09:19:20 [urllib3.connectionpool] DEBUG: Starting new HTTPS connection (1): www.capgemini.com:443\n",
      "2020-03-11 09:19:20 [urllib3.connectionpool] DEBUG: https://www.capgemini.com:443 \"GET /2019/08/part-two-of-two-part-series-building-a-financially-sustainable-insurtech-firm-key-customer-related-metrics/ HTTP/1.1\" 200 25300\n",
      "2020-03-11 09:19:20 [urllib3.connectionpool] DEBUG: Starting new HTTPS connection (1): www.capgemini.com:443\n"
     ]
    },
    {
     "name": "stdout",
     "output_type": "stream",
     "text": [
      "https://www.capgemini.com/2019/08/part-two-of-two-part-series-building-a-financially-sustainable-insurtech-firm-key-customer-related-metrics/\n",
      "https://www.capgemini.com/2019/08/engagement-blueprints-redraw-traditional-manufacturer-dealer-and-consumer-relationships/\n"
     ]
    },
    {
     "name": "stderr",
     "output_type": "stream",
     "text": [
      "2020-03-11 09:19:20 [urllib3.connectionpool] DEBUG: https://www.capgemini.com:443 \"GET /2019/08/engagement-blueprints-redraw-traditional-manufacturer-dealer-and-consumer-relationships/ HTTP/1.1\" 200 22924\n",
      "2020-03-11 09:19:20 [scrapy.core.engine] DEBUG: Crawled (200) <GET https://www.capgemini.com/2019/08/virtual-business-processes/> (referer: None)\n",
      "2020-03-11 09:19:20 [scrapy.core.engine] DEBUG: Crawled (200) <GET https://www.capgemini.com/2019/08/aiops-a-myth-or-a-reality/> (referer: None)\n",
      "2020-03-11 09:19:21 [scrapy.core.engine] DEBUG: Crawled (200) <GET https://www.capgemini.com/2019/07/retail-in-ai-an-ethical-dilemma/> (referer: None)\n",
      "2020-03-11 09:19:21 [scrapy.core.engine] DEBUG: Crawled (200) <GET https://www.capgemini.com/2019/07/how-to-design-a-modern-data-and-ai-platform/> (referer: None)\n",
      "2020-03-11 09:19:21 [urllib3.connectionpool] DEBUG: Starting new HTTPS connection (1): www.capgemini.com:443\n",
      "2020-03-11 09:19:21 [urllib3.connectionpool] DEBUG: https://www.capgemini.com:443 \"GET /2019/08/virtual-business-processes/ HTTP/1.1\" 200 26453\n",
      "2020-03-11 09:19:21 [scrapy.core.engine] DEBUG: Crawled (200) <GET https://www.capgemini.com/2019/08/what-we-talk-about-when-we-talk-about-digital-inclusion-part-2/> (referer: None)\n",
      "2020-03-11 09:19:21 [scrapy.core.engine] DEBUG: Crawled (200) <GET https://www.capgemini.com/2019/07/augmenting-the-workforce/> (referer: None)\n",
      "2020-03-11 09:19:21 [scrapy.core.engine] DEBUG: Crawled (200) <GET https://www.capgemini.com/2019/08/three-ways-energy-and-utilities-organizations-can-harness-the-power-of-ai-ml-and-big-data-now-and-in-the-future/> (referer: None)\n",
      "2020-03-11 09:19:21 [scrapy.core.engine] DEBUG: Crawled (200) <GET https://www.capgemini.com/2019/08/tackling-the-last-mile/> (referer: None)\n",
      "2020-03-11 09:19:21 [urllib3.connectionpool] DEBUG: Starting new HTTPS connection (1): www.capgemini.com:443\n"
     ]
    },
    {
     "name": "stdout",
     "output_type": "stream",
     "text": [
      "https://www.capgemini.com/2019/08/virtual-business-processes/\n",
      "https://www.capgemini.com/2019/08/aiops-a-myth-or-a-reality/\n"
     ]
    },
    {
     "name": "stderr",
     "output_type": "stream",
     "text": [
      "2020-03-11 09:19:21 [urllib3.connectionpool] DEBUG: https://www.capgemini.com:443 \"GET /2019/08/aiops-a-myth-or-a-reality/ HTTP/1.1\" 200 None\n",
      "2020-03-11 09:19:21 [urllib3.connectionpool] DEBUG: Starting new HTTPS connection (1): www.capgemini.com:443\n",
      "2020-03-11 09:19:22 [urllib3.connectionpool] DEBUG: https://www.capgemini.com:443 \"GET /2019/07/retail-in-ai-an-ethical-dilemma/ HTTP/1.1\" 200 22767\n",
      "2020-03-11 09:19:22 [urllib3.connectionpool] DEBUG: Starting new HTTPS connection (1): www.capgemini.com:443\n"
     ]
    },
    {
     "name": "stdout",
     "output_type": "stream",
     "text": [
      "https://www.capgemini.com/2019/07/retail-in-ai-an-ethical-dilemma/\n",
      "https://www.capgemini.com/2019/07/how-to-design-a-modern-data-and-ai-platform/\n"
     ]
    },
    {
     "name": "stderr",
     "output_type": "stream",
     "text": [
      "2020-03-11 09:19:22 [urllib3.connectionpool] DEBUG: https://www.capgemini.com:443 \"GET /2019/07/how-to-design-a-modern-data-and-ai-platform/ HTTP/1.1\" 200 22755\n",
      "2020-03-11 09:19:22 [scrapy.core.engine] DEBUG: Crawled (200) <GET https://www.capgemini.com/2019/07/new-age-strategies-can-bolster-banks-critical-role-within-the-new-ecosystem/> (referer: None)\n",
      "2020-03-11 09:19:22 [scrapy.core.engine] DEBUG: Crawled (200) <GET https://www.capgemini.com/2019/07/cultivating-a-learning-organization-in-the-new-reality/> (referer: None)\n",
      "2020-03-11 09:19:22 [scrapy.core.engine] DEBUG: Crawled (200) <GET https://www.capgemini.com/2019/07/building-a-financially-sustainable-insurtech-firm-1-of-2-parts/> (referer: None)\n",
      "2020-03-11 09:19:22 [scrapy.core.engine] DEBUG: Crawled (200) <GET https://www.capgemini.com/2019/07/do-not-underestimate-intelligent-automation-in-utilities/> (referer: None)\n",
      "2020-03-11 09:19:22 [urllib3.connectionpool] DEBUG: Starting new HTTPS connection (1): www.capgemini.com:443\n"
     ]
    },
    {
     "name": "stdout",
     "output_type": "stream",
     "text": [
      "https://www.capgemini.com/2019/08/what-we-talk-about-when-we-talk-about-digital-inclusion-part-2/\n"
     ]
    },
    {
     "name": "stderr",
     "output_type": "stream",
     "text": [
      "2020-03-11 09:19:22 [urllib3.connectionpool] DEBUG: https://www.capgemini.com:443 \"GET /2019/08/what-we-talk-about-when-we-talk-about-digital-inclusion-part-2/ HTTP/1.1\" 200 None\n",
      "2020-03-11 09:19:22 [urllib3.connectionpool] DEBUG: Starting new HTTPS connection (1): www.capgemini.com:443\n"
     ]
    },
    {
     "name": "stdout",
     "output_type": "stream",
     "text": [
      "https://www.capgemini.com/2019/07/augmenting-the-workforce/\n"
     ]
    },
    {
     "name": "stderr",
     "output_type": "stream",
     "text": [
      "2020-03-11 09:19:23 [urllib3.connectionpool] DEBUG: https://www.capgemini.com:443 \"GET /2019/07/augmenting-the-workforce/ HTTP/1.1\" 200 None\n",
      "2020-03-11 09:19:23 [urllib3.connectionpool] DEBUG: Starting new HTTPS connection (1): www.capgemini.com:443\n",
      "2020-03-11 09:19:23 [urllib3.connectionpool] DEBUG: https://www.capgemini.com:443 \"GET /2019/08/three-ways-energy-and-utilities-organizations-can-harness-the-power-of-ai-ml-and-big-data-now-and-in-the-future/ HTTP/1.1\" 200 27980\n",
      "2020-03-11 09:19:23 [urllib3.connectionpool] DEBUG: Starting new HTTPS connection (1): www.capgemini.com:443\n"
     ]
    },
    {
     "name": "stdout",
     "output_type": "stream",
     "text": [
      "https://www.capgemini.com/2019/08/three-ways-energy-and-utilities-organizations-can-harness-the-power-of-ai-ml-and-big-data-now-and-in-the-future/\n",
      "https://www.capgemini.com/2019/08/tackling-the-last-mile/\n"
     ]
    },
    {
     "name": "stderr",
     "output_type": "stream",
     "text": [
      "2020-03-11 09:19:24 [urllib3.connectionpool] DEBUG: https://www.capgemini.com:443 \"GET /2019/08/tackling-the-last-mile/ HTTP/1.1\" 200 None\n",
      "2020-03-11 09:19:24 [scrapy.core.engine] DEBUG: Crawled (200) <GET https://www.capgemini.com/2019/07/innovation-is-a-catalyst-in-your-journey-to-the-renewable-enterprise/> (referer: None)\n",
      "2020-03-11 09:19:24 [scrapy.core.engine] DEBUG: Crawled (200) <GET https://www.capgemini.com/2019/07/fast-close-2-0-setting-the-foundation-through-digitalization/> (referer: None)\n",
      "2020-03-11 09:19:24 [scrapy.core.engine] DEBUG: Crawled (200) <GET https://www.capgemini.com/2019/07/a-new-frontier-for-the-digital-leadership-of-intelligent-organizations-cyber-resilience/> (referer: None)\n",
      "2020-03-11 09:19:24 [scrapy.core.engine] DEBUG: Crawled (200) <GET https://www.capgemini.com/2019/07/revolutionizing-the-in-car-experience/> (referer: None)\n",
      "2020-03-11 09:19:24 [urllib3.connectionpool] DEBUG: Starting new HTTPS connection (1): www.capgemini.com:443\n",
      "2020-03-11 09:19:24 [urllib3.connectionpool] DEBUG: https://www.capgemini.com:443 \"GET /2019/07/new-age-strategies-can-bolster-banks-critical-role-within-the-new-ecosystem/ HTTP/1.1\" 200 24089\n",
      "2020-03-11 09:19:24 [urllib3.connectionpool] DEBUG: Starting new HTTPS connection (1): www.capgemini.com:443\n"
     ]
    },
    {
     "name": "stdout",
     "output_type": "stream",
     "text": [
      "https://www.capgemini.com/2019/07/new-age-strategies-can-bolster-banks-critical-role-within-the-new-ecosystem/\n",
      "https://www.capgemini.com/2019/07/cultivating-a-learning-organization-in-the-new-reality/\n"
     ]
    },
    {
     "name": "stderr",
     "output_type": "stream",
     "text": [
      "2020-03-11 09:19:24 [urllib3.connectionpool] DEBUG: https://www.capgemini.com:443 \"GET /2019/07/cultivating-a-learning-organization-in-the-new-reality/ HTTP/1.1\" 200 None\n",
      "2020-03-11 09:19:24 [urllib3.connectionpool] DEBUG: Starting new HTTPS connection (1): www.capgemini.com:443\n"
     ]
    },
    {
     "name": "stdout",
     "output_type": "stream",
     "text": [
      "https://www.capgemini.com/2019/07/building-a-financially-sustainable-insurtech-firm-1-of-2-parts/\n"
     ]
    },
    {
     "name": "stderr",
     "output_type": "stream",
     "text": [
      "2020-03-11 09:19:25 [urllib3.connectionpool] DEBUG: https://www.capgemini.com:443 \"GET /2019/07/building-a-financially-sustainable-insurtech-firm-1-of-2-parts/ HTTP/1.1\" 200 None\n",
      "2020-03-11 09:19:25 [urllib3.connectionpool] DEBUG: Starting new HTTPS connection (1): www.capgemini.com:443\n",
      "2020-03-11 09:19:25 [urllib3.connectionpool] DEBUG: https://www.capgemini.com:443 \"GET /2019/07/do-not-underestimate-intelligent-automation-in-utilities/ HTTP/1.1\" 200 26059\n",
      "2020-03-11 09:19:25 [scrapy.core.engine] DEBUG: Crawled (200) <GET https://www.capgemini.com/article/sf-the-inevitable-the-next-30-years-in-tech/> (referer: None)\n",
      "2020-03-11 09:19:25 [scrapy.core.engine] DEBUG: Crawled (200) <GET https://www.capgemini.com/article/sf-will-china-supersede-silicon-valley-in-the-next-era-of-ai/> (referer: None)\n",
      "2020-03-11 09:19:25 [scrapy.core.engine] DEBUG: Crawled (200) <GET https://www.capgemini.com/article/nyc-how-machine-learning-will-accelerate-innovation-in-new-ways/> (referer: None)\n",
      "2020-03-11 09:19:25 [scrapy.core.engine] DEBUG: Crawled (200) <GET https://www.capgemini.com/2019/07/intelligent-automation-going-beyond-rpa/> (referer: None)\n",
      "2020-03-11 09:19:25 [urllib3.connectionpool] DEBUG: Starting new HTTPS connection (1): www.capgemini.com:443\n"
     ]
    },
    {
     "name": "stdout",
     "output_type": "stream",
     "text": [
      "https://www.capgemini.com/2019/07/do-not-underestimate-intelligent-automation-in-utilities/\n",
      "https://www.capgemini.com/2019/07/innovation-is-a-catalyst-in-your-journey-to-the-renewable-enterprise/\n"
     ]
    },
    {
     "name": "stderr",
     "output_type": "stream",
     "text": [
      "2020-03-11 09:19:26 [urllib3.connectionpool] DEBUG: https://www.capgemini.com:443 \"GET /2019/07/innovation-is-a-catalyst-in-your-journey-to-the-renewable-enterprise/ HTTP/1.1\" 200 None\n",
      "2020-03-11 09:19:26 [urllib3.connectionpool] DEBUG: Starting new HTTPS connection (1): www.capgemini.com:443\n",
      "2020-03-11 09:19:26 [urllib3.connectionpool] DEBUG: https://www.capgemini.com:443 \"GET /2019/07/fast-close-2-0-setting-the-foundation-through-digitalization/ HTTP/1.1\" 200 27347\n",
      "2020-03-11 09:19:26 [urllib3.connectionpool] DEBUG: Starting new HTTPS connection (1): www.capgemini.com:443\n"
     ]
    },
    {
     "name": "stdout",
     "output_type": "stream",
     "text": [
      "https://www.capgemini.com/2019/07/fast-close-2-0-setting-the-foundation-through-digitalization/\n",
      "https://www.capgemini.com/2019/07/a-new-frontier-for-the-digital-leadership-of-intelligent-organizations-cyber-resilience/\n"
     ]
    },
    {
     "name": "stderr",
     "output_type": "stream",
     "text": [
      "2020-03-11 09:19:27 [urllib3.connectionpool] DEBUG: https://www.capgemini.com:443 \"GET /2019/07/a-new-frontier-for-the-digital-leadership-of-intelligent-organizations-cyber-resilience/ HTTP/1.1\" 200 None\n",
      "2020-03-11 09:19:27 [urllib3.connectionpool] DEBUG: Starting new HTTPS connection (1): www.capgemini.com:443\n"
     ]
    },
    {
     "name": "stdout",
     "output_type": "stream",
     "text": [
      "https://www.capgemini.com/2019/07/revolutionizing-the-in-car-experience/\n"
     ]
    },
    {
     "name": "stderr",
     "output_type": "stream",
     "text": [
      "2020-03-11 09:19:28 [urllib3.connectionpool] DEBUG: https://www.capgemini.com:443 \"GET /2019/07/revolutionizing-the-in-car-experience/ HTTP/1.1\" 200 None\n",
      "2020-03-11 09:19:28 [scrapy.core.engine] DEBUG: Crawled (200) <GET https://www.capgemini.com/2019/07/why-is-compatibiilty-important-in-wealth-management/> (referer: None)\n",
      "2020-03-11 09:19:28 [scrapy.core.engine] DEBUG: Crawled (200) <GET https://www.capgemini.com/article/about-the-author-2/> (referer: None)\n",
      "2020-03-11 09:19:28 [urllib3.connectionpool] DEBUG: Starting new HTTPS connection (1): www.capgemini.com:443\n",
      "2020-03-11 09:19:28 [urllib3.connectionpool] DEBUG: https://www.capgemini.com:443 \"GET /article/sf-the-inevitable-the-next-30-years-in-tech/ HTTP/1.1\" 200 20423\n",
      "2020-03-11 09:19:28 [urllib3.connectionpool] DEBUG: Starting new HTTPS connection (1): www.capgemini.com:443\n"
     ]
    },
    {
     "name": "stdout",
     "output_type": "stream",
     "text": [
      "https://www.capgemini.com/article/sf-the-inevitable-the-next-30-years-in-tech/\n",
      "https://www.capgemini.com/article/sf-will-china-supersede-silicon-valley-in-the-next-era-of-ai/\n"
     ]
    },
    {
     "name": "stderr",
     "output_type": "stream",
     "text": [
      "2020-03-11 09:19:28 [urllib3.connectionpool] DEBUG: https://www.capgemini.com:443 \"GET /article/sf-will-china-supersede-silicon-valley-in-the-next-era-of-ai/ HTTP/1.1\" 200 None\n",
      "2020-03-11 09:19:28 [urllib3.connectionpool] DEBUG: Starting new HTTPS connection (1): www.capgemini.com:443\n"
     ]
    },
    {
     "name": "stdout",
     "output_type": "stream",
     "text": [
      "https://www.capgemini.com/article/nyc-how-machine-learning-will-accelerate-innovation-in-new-ways/\n"
     ]
    },
    {
     "name": "stderr",
     "output_type": "stream",
     "text": [
      "2020-03-11 09:19:29 [urllib3.connectionpool] DEBUG: https://www.capgemini.com:443 \"GET /article/nyc-how-machine-learning-will-accelerate-innovation-in-new-ways/ HTTP/1.1\" 200 None\n",
      "2020-03-11 09:19:29 [urllib3.connectionpool] DEBUG: Starting new HTTPS connection (1): www.capgemini.com:443\n",
      "2020-03-11 09:19:29 [urllib3.connectionpool] DEBUG: https://www.capgemini.com:443 \"GET /2019/07/intelligent-automation-going-beyond-rpa/ HTTP/1.1\" 200 26425\n",
      "2020-03-11 09:19:29 [scrapy.core.engine] DEBUG: Crawled (200) <GET https://www.capgemini.com/2019/07/build-a-trusted-relationship-with-your-customers-with-sap-c-4hana/> (referer: None)\n",
      "2020-03-11 09:19:29 [urllib3.connectionpool] DEBUG: Starting new HTTPS connection (1): www.capgemini.com:443\n"
     ]
    },
    {
     "name": "stdout",
     "output_type": "stream",
     "text": [
      "https://www.capgemini.com/2019/07/intelligent-automation-going-beyond-rpa/\n",
      "https://www.capgemini.com/2019/07/why-is-compatibiilty-important-in-wealth-management/\n"
     ]
    },
    {
     "name": "stderr",
     "output_type": "stream",
     "text": [
      "2020-03-11 09:19:29 [urllib3.connectionpool] DEBUG: https://www.capgemini.com:443 \"GET /2019/07/why-is-compatibiilty-important-in-wealth-management/ HTTP/1.1\" 200 26712\n",
      "2020-03-11 09:19:29 [urllib3.connectionpool] DEBUG: Starting new HTTPS connection (1): www.capgemini.com:443\n"
     ]
    },
    {
     "name": "stdout",
     "output_type": "stream",
     "text": [
      "https://www.capgemini.com/article/about-the-author-2/\n"
     ]
    },
    {
     "name": "stderr",
     "output_type": "stream",
     "text": [
      "2020-03-11 09:19:30 [urllib3.connectionpool] DEBUG: https://www.capgemini.com:443 \"GET /article/about-the-author-2/ HTTP/1.1\" 200 None\n",
      "2020-03-11 09:19:30 [scrapy.core.engine] DEBUG: Crawled (200) <GET https://www.capgemini.com/article/wemo-podcast-batteries-will-become-central-to-grid-modernization-and-derms/> (referer: None)\n",
      "2020-03-11 09:19:30 [urllib3.connectionpool] DEBUG: Starting new HTTPS connection (1): www.capgemini.com:443\n",
      "2020-03-11 09:19:30 [urllib3.connectionpool] DEBUG: https://www.capgemini.com:443 \"GET /2019/07/build-a-trusted-relationship-with-your-customers-with-sap-c-4hana/ HTTP/1.1\" 200 24015\n",
      "2020-03-11 09:19:30 [urllib3.connectionpool] DEBUG: Starting new HTTPS connection (1): www.capgemini.com:443\n"
     ]
    },
    {
     "name": "stdout",
     "output_type": "stream",
     "text": [
      "https://www.capgemini.com/2019/07/build-a-trusted-relationship-with-your-customers-with-sap-c-4hana/\n",
      "https://www.capgemini.com/article/wemo-podcast-batteries-will-become-central-to-grid-modernization-and-derms/\n"
     ]
    },
    {
     "name": "stderr",
     "output_type": "stream",
     "text": [
      "2020-03-11 09:19:30 [urllib3.connectionpool] DEBUG: https://www.capgemini.com:443 \"GET /article/wemo-podcast-batteries-will-become-central-to-grid-modernization-and-derms/ HTTP/1.1\" 200 30202\n",
      "2020-03-11 09:19:30 [scrapy.core.engine] DEBUG: Crawled (200) <GET https://www.capgemini.com/2019/07/ai-is-the-new-electricity/> (referer: None)\n",
      "2020-03-11 09:19:31 [scrapy.core.engine] DEBUG: Crawled (200) <GET https://www.capgemini.com/2019/06/why-energy-and-utilities-must-scale-intelligent-automation-today/> (referer: None)\n",
      "2020-03-11 09:19:31 [urllib3.connectionpool] DEBUG: Starting new HTTPS connection (1): www.capgemini.com:443\n"
     ]
    },
    {
     "name": "stdout",
     "output_type": "stream",
     "text": [
      "https://www.capgemini.com/2019/07/ai-is-the-new-electricity/\n"
     ]
    },
    {
     "name": "stderr",
     "output_type": "stream",
     "text": [
      "2020-03-11 09:19:31 [urllib3.connectionpool] DEBUG: https://www.capgemini.com:443 \"GET /2019/07/ai-is-the-new-electricity/ HTTP/1.1\" 200 None\n",
      "2020-03-11 09:19:31 [scrapy.core.engine] DEBUG: Crawled (200) <GET https://www.capgemini.com/2019/06/a-winning-strategy-for-open-innovation-and-the-internet-of-things/> (referer: None)\n",
      "2020-03-11 09:19:31 [scrapy.core.engine] DEBUG: Crawled (200) <GET https://www.capgemini.com/article/improving-business-operations-with-ai/> (referer: None)\n",
      "2020-03-11 09:19:31 [scrapy.core.engine] DEBUG: Crawled (200) <GET https://www.capgemini.com/2019/07/implementing-modern-tpm-part-2-of-a-2-part-series/> (referer: None)\n",
      "2020-03-11 09:19:31 [scrapy.core.engine] DEBUG: Crawled (200) <GET https://www.capgemini.com/article/sharing-success-3/> (referer: None)\n",
      "2020-03-11 09:19:31 [scrapy.core.engine] DEBUG: Crawled (200) <GET https://www.capgemini.com/article/focus-on-intelligent-process-automation/> (referer: None)\n",
      "2020-03-11 09:19:31 [scrapy.core.engine] DEBUG: Crawled (200) <GET https://www.capgemini.com/article/a-realistic-and-optimistic-vision/> (referer: None)\n",
      "2020-03-11 09:19:31 [scrapy.core.engine] DEBUG: Crawled (200) <GET https://www.capgemini.com/2019/06/intelligent-process-automation-practical-interaction/> (referer: None)\n",
      "2020-03-11 09:19:31 [urllib3.connectionpool] DEBUG: Starting new HTTPS connection (1): www.capgemini.com:443\n",
      "2020-03-11 09:19:31 [urllib3.connectionpool] DEBUG: https://www.capgemini.com:443 \"GET /2019/06/why-energy-and-utilities-must-scale-intelligent-automation-today/ HTTP/1.1\" 200 23277\n",
      "2020-03-11 09:19:31 [urllib3.connectionpool] DEBUG: Starting new HTTPS connection (1): www.capgemini.com:443\n"
     ]
    },
    {
     "name": "stdout",
     "output_type": "stream",
     "text": [
      "https://www.capgemini.com/2019/06/why-energy-and-utilities-must-scale-intelligent-automation-today/\n",
      "https://www.capgemini.com/2019/06/a-winning-strategy-for-open-innovation-and-the-internet-of-things/\n"
     ]
    },
    {
     "name": "stderr",
     "output_type": "stream",
     "text": [
      "2020-03-11 09:19:32 [urllib3.connectionpool] DEBUG: https://www.capgemini.com:443 \"GET /2019/06/a-winning-strategy-for-open-innovation-and-the-internet-of-things/ HTTP/1.1\" 200 26844\n",
      "2020-03-11 09:19:32 [urllib3.connectionpool] DEBUG: Starting new HTTPS connection (1): www.capgemini.com:443\n"
     ]
    },
    {
     "name": "stdout",
     "output_type": "stream",
     "text": [
      "https://www.capgemini.com/article/improving-business-operations-with-ai/\n"
     ]
    },
    {
     "name": "stderr",
     "output_type": "stream",
     "text": [
      "2020-03-11 09:19:32 [urllib3.connectionpool] DEBUG: https://www.capgemini.com:443 \"GET /article/improving-business-operations-with-ai/ HTTP/1.1\" 200 None\n",
      "2020-03-11 09:19:32 [urllib3.connectionpool] DEBUG: Starting new HTTPS connection (1): www.capgemini.com:443\n"
     ]
    },
    {
     "name": "stdout",
     "output_type": "stream",
     "text": [
      "https://www.capgemini.com/2019/07/implementing-modern-tpm-part-2-of-a-2-part-series/\n"
     ]
    },
    {
     "name": "stderr",
     "output_type": "stream",
     "text": [
      "2020-03-11 09:19:33 [urllib3.connectionpool] DEBUG: https://www.capgemini.com:443 \"GET /2019/07/implementing-modern-tpm-part-2-of-a-2-part-series/ HTTP/1.1\" 200 None\n",
      "2020-03-11 09:19:33 [urllib3.connectionpool] DEBUG: Starting new HTTPS connection (1): www.capgemini.com:443\n",
      "2020-03-11 09:19:33 [urllib3.connectionpool] DEBUG: https://www.capgemini.com:443 \"GET /article/sharing-success-3/ HTTP/1.1\" 200 21263\n",
      "2020-03-11 09:19:33 [urllib3.connectionpool] DEBUG: Starting new HTTPS connection (1): www.capgemini.com:443\n"
     ]
    },
    {
     "name": "stdout",
     "output_type": "stream",
     "text": [
      "https://www.capgemini.com/article/sharing-success-3/\n",
      "https://www.capgemini.com/article/focus-on-intelligent-process-automation/\n"
     ]
    },
    {
     "name": "stderr",
     "output_type": "stream",
     "text": [
      "2020-03-11 09:19:34 [urllib3.connectionpool] DEBUG: https://www.capgemini.com:443 \"GET /article/focus-on-intelligent-process-automation/ HTTP/1.1\" 200 None\n",
      "2020-03-11 09:19:34 [urllib3.connectionpool] DEBUG: Starting new HTTPS connection (1): www.capgemini.com:443\n",
      "2020-03-11 09:19:34 [urllib3.connectionpool] DEBUG: https://www.capgemini.com:443 \"GET /article/a-realistic-and-optimistic-vision/ HTTP/1.1\" 200 23580\n",
      "2020-03-11 09:19:34 [urllib3.connectionpool] DEBUG: Starting new HTTPS connection (1): www.capgemini.com:443\n"
     ]
    },
    {
     "name": "stdout",
     "output_type": "stream",
     "text": [
      "https://www.capgemini.com/article/a-realistic-and-optimistic-vision/\n",
      "https://www.capgemini.com/2019/06/intelligent-process-automation-practical-interaction/\n"
     ]
    },
    {
     "name": "stderr",
     "output_type": "stream",
     "text": [
      "2020-03-11 09:19:34 [urllib3.connectionpool] DEBUG: https://www.capgemini.com:443 \"GET /2019/06/intelligent-process-automation-practical-interaction/ HTTP/1.1\" 200 23918\n",
      "2020-03-11 09:19:34 [scrapy.core.engine] DEBUG: Crawled (200) <GET https://www.capgemini.com/2019/06/five-payment-trends-that-decide-the-future-of-payments-part-3/> (referer: None)\n",
      "2020-03-11 09:19:34 [scrapy.core.engine] DEBUG: Crawled (200) <GET https://www.capgemini.com/2019/06/data-is-the-autos-industry-quiet-driving-force/> (referer: None)\n",
      "2020-03-11 09:19:34 [scrapy.core.engine] DEBUG: Crawled (200) <GET https://www.capgemini.com/2019/06/a-digital-approach-to-wealth-management-can-maximize-future-returns/> (referer: None)\n",
      "2020-03-11 09:19:34 [scrapy.core.engine] DEBUG: Crawled (200) <GET https://www.capgemini.com/2019/06/advanced-data-handling-capability-the-missing-piece-to-the-insurance-coverage-gap-puzzle/> (referer: None)\n",
      "2020-03-11 09:19:34 [scrapy.core.engine] DEBUG: Crawled (200) <GET https://www.capgemini.com/article/what-is-really-possible-with-ai/> (referer: None)\n",
      "2020-03-11 09:19:34 [scrapy.core.engine] DEBUG: Crawled (200) <GET https://www.capgemini.com/2019/06/do-all-roads-lead-to-ai/> (referer: None)\n",
      "2020-03-11 09:19:34 [scrapy.core.engine] DEBUG: Crawled (200) <GET https://www.capgemini.com/2019/06/filter-to-survive/> (referer: None)\n",
      "2020-03-11 09:19:34 [scrapy.core.engine] DEBUG: Crawled (200) <GET https://www.capgemini.com/2019/06/beatairpollution-how-ai-and-iot-could-help-people-combat-air-pollution-issues/> (referer: None)\n",
      "2020-03-11 09:19:34 [urllib3.connectionpool] DEBUG: Starting new HTTPS connection (1): www.capgemini.com:443\n"
     ]
    },
    {
     "name": "stdout",
     "output_type": "stream",
     "text": [
      "https://www.capgemini.com/2019/06/five-payment-trends-that-decide-the-future-of-payments-part-3/\n"
     ]
    },
    {
     "name": "stderr",
     "output_type": "stream",
     "text": [
      "2020-03-11 09:19:35 [urllib3.connectionpool] DEBUG: https://www.capgemini.com:443 \"GET /2019/06/five-payment-trends-that-decide-the-future-of-payments-part-3/ HTTP/1.1\" 200 None\n",
      "2020-03-11 09:19:35 [scrapy.core.engine] DEBUG: Crawled (200) <GET https://www.capgemini.com/2019/06/control-towers-umbrella-visibility-for-your-supply-chain/> (referer: None)\n",
      "2020-03-11 09:19:35 [scrapy.core.engine] DEBUG: Crawled (200) <GET https://www.capgemini.com/2019/06/the-5g-revolution-series-part-1-why-telcos-should-target-the-b2b-opportunity/> (referer: None)\n",
      "2020-03-11 09:19:35 [scrapy.core.engine] DEBUG: Crawled (200) <GET https://www.capgemini.com/2019/05/digital-tools-can-free-insurance-channel-partners-to-add-more-value/> (referer: None)\n",
      "2020-03-11 09:19:35 [scrapy.core.engine] DEBUG: Crawled (200) <GET https://www.capgemini.com/2019/05/new-financial-services-marketplaces-are-now-high-impact-models/> (referer: None)\n",
      "2020-03-11 09:19:35 [scrapy.core.engine] DEBUG: Crawled (200) <GET https://www.capgemini.com/2019/05/the-future-belongs-to-caring-bots/> (referer: None)\n",
      "2020-03-11 09:19:35 [scrapy.core.engine] DEBUG: Crawled (200) <GET https://www.capgemini.com/2019/05/overarching-macro-trends-are-driving-changes-within-the-insurance-risk-landscape/> (referer: None)\n",
      "2020-03-11 09:19:35 [scrapy.core.engine] DEBUG: Crawled (200) <GET https://www.capgemini.com/2019/05/five-payment-trends-that-decide-the-future-of-payments/> (referer: None)\n",
      "2020-03-11 09:19:35 [scrapy.core.engine] DEBUG: Crawled (200) <GET https://www.capgemini.com/2019/05/regtech-solutions-can-mitigate-risk-while-aiding-regulatory-compliance/> (referer: None)\n",
      "2020-03-11 09:19:35 [urllib3.connectionpool] DEBUG: Starting new HTTPS connection (1): www.capgemini.com:443\n",
      "2020-03-11 09:19:35 [urllib3.connectionpool] DEBUG: https://www.capgemini.com:443 \"GET /2019/06/data-is-the-autos-industry-quiet-driving-force/ HTTP/1.1\" 200 27012\n",
      "2020-03-11 09:19:35 [urllib3.connectionpool] DEBUG: Starting new HTTPS connection (1): www.capgemini.com:443\n"
     ]
    },
    {
     "name": "stdout",
     "output_type": "stream",
     "text": [
      "https://www.capgemini.com/2019/06/data-is-the-autos-industry-quiet-driving-force/\n",
      "https://www.capgemini.com/2019/06/a-digital-approach-to-wealth-management-can-maximize-future-returns/\n"
     ]
    },
    {
     "name": "stderr",
     "output_type": "stream",
     "text": [
      "2020-03-11 09:19:36 [urllib3.connectionpool] DEBUG: https://www.capgemini.com:443 \"GET /2019/06/a-digital-approach-to-wealth-management-can-maximize-future-returns/ HTTP/1.1\" 200 None\n",
      "2020-03-11 09:19:36 [urllib3.connectionpool] DEBUG: Starting new HTTPS connection (1): www.capgemini.com:443\n",
      "2020-03-11 09:19:36 [urllib3.connectionpool] DEBUG: https://www.capgemini.com:443 \"GET /2019/06/advanced-data-handling-capability-the-missing-piece-to-the-insurance-coverage-gap-puzzle/ HTTP/1.1\" 200 26768\n",
      "2020-03-11 09:19:36 [urllib3.connectionpool] DEBUG: Starting new HTTPS connection (1): www.capgemini.com:443\n"
     ]
    },
    {
     "name": "stdout",
     "output_type": "stream",
     "text": [
      "https://www.capgemini.com/2019/06/advanced-data-handling-capability-the-missing-piece-to-the-insurance-coverage-gap-puzzle/\n",
      "https://www.capgemini.com/article/what-is-really-possible-with-ai/\n"
     ]
    },
    {
     "name": "stderr",
     "output_type": "stream",
     "text": [
      "2020-03-11 09:19:36 [urllib3.connectionpool] DEBUG: https://www.capgemini.com:443 \"GET /article/what-is-really-possible-with-ai/ HTTP/1.1\" 200 26129\n",
      "2020-03-11 09:19:36 [urllib3.connectionpool] DEBUG: Starting new HTTPS connection (1): www.capgemini.com:443\n",
      "2020-03-11 09:19:37 [urllib3.connectionpool] DEBUG: https://www.capgemini.com:443 \"GET /2019/06/do-all-roads-lead-to-ai/ HTTP/1.1\" 200 29226\n",
      "2020-03-11 09:19:37 [urllib3.connectionpool] DEBUG: Starting new HTTPS connection (1): www.capgemini.com:443\n"
     ]
    },
    {
     "name": "stdout",
     "output_type": "stream",
     "text": [
      "https://www.capgemini.com/2019/06/do-all-roads-lead-to-ai/\n",
      "https://www.capgemini.com/2019/06/filter-to-survive/\n"
     ]
    },
    {
     "name": "stderr",
     "output_type": "stream",
     "text": [
      "2020-03-11 09:19:37 [urllib3.connectionpool] DEBUG: https://www.capgemini.com:443 \"GET /2019/06/filter-to-survive/ HTTP/1.1\" 200 None\n",
      "2020-03-11 09:19:37 [urllib3.connectionpool] DEBUG: Starting new HTTPS connection (1): www.capgemini.com:443\n",
      "2020-03-11 09:19:37 [urllib3.connectionpool] DEBUG: https://www.capgemini.com:443 \"GET /2019/06/beatairpollution-how-ai-and-iot-could-help-people-combat-air-pollution-issues/ HTTP/1.1\" 200 24023\n",
      "2020-03-11 09:19:37 [urllib3.connectionpool] DEBUG: Starting new HTTPS connection (1): www.capgemini.com:443\n"
     ]
    },
    {
     "name": "stdout",
     "output_type": "stream",
     "text": [
      "https://www.capgemini.com/2019/06/beatairpollution-how-ai-and-iot-could-help-people-combat-air-pollution-issues/\n",
      "https://www.capgemini.com/2019/06/control-towers-umbrella-visibility-for-your-supply-chain/\n"
     ]
    },
    {
     "name": "stderr",
     "output_type": "stream",
     "text": [
      "2020-03-11 09:19:38 [urllib3.connectionpool] DEBUG: https://www.capgemini.com:443 \"GET /2019/06/control-towers-umbrella-visibility-for-your-supply-chain/ HTTP/1.1\" 200 None\n",
      "2020-03-11 09:19:38 [urllib3.connectionpool] DEBUG: Starting new HTTPS connection (1): www.capgemini.com:443\n",
      "2020-03-11 09:19:38 [urllib3.connectionpool] DEBUG: https://www.capgemini.com:443 \"GET /2019/06/the-5g-revolution-series-part-1-why-telcos-should-target-the-b2b-opportunity/ HTTP/1.1\" 200 27402\n",
      "2020-03-11 09:19:38 [urllib3.connectionpool] DEBUG: Starting new HTTPS connection (1): www.capgemini.com:443\n"
     ]
    },
    {
     "name": "stdout",
     "output_type": "stream",
     "text": [
      "https://www.capgemini.com/2019/06/the-5g-revolution-series-part-1-why-telcos-should-target-the-b2b-opportunity/\n",
      "https://www.capgemini.com/2019/05/digital-tools-can-free-insurance-channel-partners-to-add-more-value/\n"
     ]
    },
    {
     "name": "stderr",
     "output_type": "stream",
     "text": [
      "2020-03-11 09:19:38 [urllib3.connectionpool] DEBUG: https://www.capgemini.com:443 \"GET /2019/05/digital-tools-can-free-insurance-channel-partners-to-add-more-value/ HTTP/1.1\" 200 26888\n",
      "2020-03-11 09:19:38 [urllib3.connectionpool] DEBUG: Starting new HTTPS connection (1): www.capgemini.com:443\n",
      "2020-03-11 09:19:39 [urllib3.connectionpool] DEBUG: https://www.capgemini.com:443 \"GET /2019/05/new-financial-services-marketplaces-are-now-high-impact-models/ HTTP/1.1\" 200 27919\n",
      "2020-03-11 09:19:39 [urllib3.connectionpool] DEBUG: Starting new HTTPS connection (1): www.capgemini.com:443\n"
     ]
    },
    {
     "name": "stdout",
     "output_type": "stream",
     "text": [
      "https://www.capgemini.com/2019/05/new-financial-services-marketplaces-are-now-high-impact-models/\n",
      "https://www.capgemini.com/2019/05/the-future-belongs-to-caring-bots/\n"
     ]
    },
    {
     "name": "stderr",
     "output_type": "stream",
     "text": [
      "2020-03-11 09:19:39 [urllib3.connectionpool] DEBUG: https://www.capgemini.com:443 \"GET /2019/05/the-future-belongs-to-caring-bots/ HTTP/1.1\" 200 27583\n",
      "2020-03-11 09:19:39 [urllib3.connectionpool] DEBUG: Starting new HTTPS connection (1): www.capgemini.com:443\n"
     ]
    },
    {
     "name": "stdout",
     "output_type": "stream",
     "text": [
      "https://www.capgemini.com/2019/05/overarching-macro-trends-are-driving-changes-within-the-insurance-risk-landscape/\n"
     ]
    },
    {
     "name": "stderr",
     "output_type": "stream",
     "text": [
      "2020-03-11 09:19:39 [urllib3.connectionpool] DEBUG: https://www.capgemini.com:443 \"GET /2019/05/overarching-macro-trends-are-driving-changes-within-the-insurance-risk-landscape/ HTTP/1.1\" 200 None\n",
      "2020-03-11 09:19:39 [urllib3.connectionpool] DEBUG: Starting new HTTPS connection (1): www.capgemini.com:443\n"
     ]
    },
    {
     "name": "stdout",
     "output_type": "stream",
     "text": [
      "https://www.capgemini.com/2019/05/five-payment-trends-that-decide-the-future-of-payments/\n"
     ]
    },
    {
     "name": "stderr",
     "output_type": "stream",
     "text": [
      "2020-03-11 09:19:40 [urllib3.connectionpool] DEBUG: https://www.capgemini.com:443 \"GET /2019/05/five-payment-trends-that-decide-the-future-of-payments/ HTTP/1.1\" 200 None\n",
      "2020-03-11 09:19:40 [urllib3.connectionpool] DEBUG: Starting new HTTPS connection (1): www.capgemini.com:443\n"
     ]
    },
    {
     "name": "stdout",
     "output_type": "stream",
     "text": [
      "https://www.capgemini.com/2019/05/regtech-solutions-can-mitigate-risk-while-aiding-regulatory-compliance/\n"
     ]
    },
    {
     "name": "stderr",
     "output_type": "stream",
     "text": [
      "2020-03-11 09:19:41 [urllib3.connectionpool] DEBUG: https://www.capgemini.com:443 \"GET /2019/05/regtech-solutions-can-mitigate-risk-while-aiding-regulatory-compliance/ HTTP/1.1\" 200 None\n",
      "2020-03-11 09:19:41 [scrapy.core.engine] DEBUG: Crawled (200) <GET https://www.capgemini.com/2019/05/theres-no-business-like-the-life-insurance-business/> (referer: None)\n",
      "2020-03-11 09:19:41 [scrapy.core.engine] DEBUG: Crawled (200) <GET https://www.capgemini.com/2019/05/managing-growth-in-demand-for-power-exploring-the-commercial-viability-of-battery-storage/> (referer: None)\n",
      "2020-03-11 09:19:41 [scrapy.core.engine] DEBUG: Crawled (200) <GET https://www.capgemini.com/2019/05/digital-projects-the-pitfalls-and-practicalities/> (referer: None)\n",
      "2020-03-11 09:19:41 [scrapy.core.engine] DEBUG: Crawled (200) <GET https://www.capgemini.com/2019/05/transforming-your-sap-estate-for-the-digital-age-and-beyond-part-1/> (referer: None)\n",
      "2020-03-11 09:19:41 [scrapy.core.engine] DEBUG: Crawled (200) <GET https://www.capgemini.com/2019/05/digital-projects-whos-in-charge/> (referer: None)\n",
      "2020-03-11 09:19:41 [scrapy.core.engine] DEBUG: Crawled (200) <GET https://www.capgemini.com/2019/05/new-insurer-capabilities-to-address-emerging-risks/> (referer: None)\n",
      "2020-03-11 09:19:41 [scrapy.core.engine] DEBUG: Crawled (200) <GET https://www.capgemini.com/2019/05/supply-chain-digitization-vs-digitalization/> (referer: None)\n",
      "2020-03-11 09:19:41 [scrapy.core.engine] DEBUG: Crawled (200) <GET https://www.capgemini.com/2019/04/data-analytics-strengthens-interactions-between-wealth-firms-advisors-and-investors/> (referer: None)\n",
      "2020-03-11 09:19:41 [urllib3.connectionpool] DEBUG: Starting new HTTPS connection (1): www.capgemini.com:443\n"
     ]
    },
    {
     "name": "stdout",
     "output_type": "stream",
     "text": [
      "https://www.capgemini.com/2019/05/theres-no-business-like-the-life-insurance-business/\n"
     ]
    },
    {
     "name": "stderr",
     "output_type": "stream",
     "text": [
      "2020-03-11 09:19:42 [urllib3.connectionpool] DEBUG: https://www.capgemini.com:443 \"GET /2019/05/theres-no-business-like-the-life-insurance-business/ HTTP/1.1\" 200 None\n",
      "2020-03-11 09:19:42 [scrapy.core.engine] DEBUG: Crawled (200) <GET https://www.capgemini.com/2019/04/supply-chain-management-whats-driving-change/> (referer: None)\n",
      "2020-03-11 09:19:42 [scrapy.core.engine] DEBUG: Crawled (200) <GET https://www.capgemini.com/2019/04/second-life-batteries-a-sustainable-business-opportunity-not-a-conundrum/> (referer: None)\n",
      "2020-03-11 09:19:42 [scrapy.core.engine] DEBUG: Crawled (200) <GET https://www.capgemini.com/2019/04/the-current-state-of-supply-chain-digitalization/> (referer: None)\n",
      "2020-03-11 09:19:42 [scrapy.core.engine] DEBUG: Crawled (200) <GET https://www.capgemini.com/2019/04/cognitive-document-processing-makes-organizations-faster/> (referer: None)\n",
      "2020-03-11 09:19:42 [scrapy.core.engine] DEBUG: Crawled (200) <GET https://www.capgemini.com/2019/04/leading-the-way-in-hr-services/> (referer: None)\n",
      "2020-03-11 09:19:42 [scrapy.core.engine] DEBUG: Crawled (200) <GET https://www.capgemini.com/2019/03/strategy-before-innovation-and-technology-building-the-renewable-enterprise-intelligently/> (referer: None)\n",
      "2020-03-11 09:19:42 [scrapy.core.engine] DEBUG: Crawled (200) <GET https://www.capgemini.com/2019/03/have-you-updated-your-contract-management-technology/> (referer: None)\n",
      "2020-03-11 09:19:42 [scrapy.core.engine] DEBUG: Crawled (200) <GET https://www.capgemini.com/2019/03/if-its-not-instant-its-not-good-enough/> (referer: None)\n",
      "2020-03-11 09:19:42 [urllib3.connectionpool] DEBUG: Starting new HTTPS connection (1): www.capgemini.com:443\n"
     ]
    },
    {
     "name": "stdout",
     "output_type": "stream",
     "text": [
      "https://www.capgemini.com/2019/05/managing-growth-in-demand-for-power-exploring-the-commercial-viability-of-battery-storage/\n"
     ]
    },
    {
     "name": "stderr",
     "output_type": "stream",
     "text": [
      "2020-03-11 09:19:42 [urllib3.connectionpool] DEBUG: https://www.capgemini.com:443 \"GET /2019/05/managing-growth-in-demand-for-power-exploring-the-commercial-viability-of-battery-storage/ HTTP/1.1\" 200 None\n",
      "2020-03-11 09:19:42 [urllib3.connectionpool] DEBUG: Starting new HTTPS connection (1): www.capgemini.com:443\n",
      "2020-03-11 09:19:43 [urllib3.connectionpool] DEBUG: https://www.capgemini.com:443 \"GET /2019/05/digital-projects-the-pitfalls-and-practicalities/ HTTP/1.1\" 200 23409\n",
      "2020-03-11 09:19:43 [urllib3.connectionpool] DEBUG: Starting new HTTPS connection (1): www.capgemini.com:443\n"
     ]
    },
    {
     "name": "stdout",
     "output_type": "stream",
     "text": [
      "https://www.capgemini.com/2019/05/digital-projects-the-pitfalls-and-practicalities/\n",
      "https://www.capgemini.com/2019/05/transforming-your-sap-estate-for-the-digital-age-and-beyond-part-1/\n"
     ]
    },
    {
     "name": "stderr",
     "output_type": "stream",
     "text": [
      "2020-03-11 09:19:43 [urllib3.connectionpool] DEBUG: https://www.capgemini.com:443 \"GET /2019/05/transforming-your-sap-estate-for-the-digital-age-and-beyond-part-1/ HTTP/1.1\" 200 23460\n",
      "2020-03-11 09:19:43 [urllib3.connectionpool] DEBUG: Starting new HTTPS connection (1): www.capgemini.com:443\n",
      "2020-03-11 09:19:43 [urllib3.connectionpool] DEBUG: https://www.capgemini.com:443 \"GET /2019/05/digital-projects-whos-in-charge/ HTTP/1.1\" 200 26530\n",
      "2020-03-11 09:19:43 [urllib3.connectionpool] DEBUG: Starting new HTTPS connection (1): www.capgemini.com:443\n"
     ]
    },
    {
     "name": "stdout",
     "output_type": "stream",
     "text": [
      "https://www.capgemini.com/2019/05/digital-projects-whos-in-charge/\n",
      "https://www.capgemini.com/2019/05/new-insurer-capabilities-to-address-emerging-risks/\n"
     ]
    },
    {
     "name": "stderr",
     "output_type": "stream",
     "text": [
      "2020-03-11 09:19:44 [urllib3.connectionpool] DEBUG: https://www.capgemini.com:443 \"GET /2019/05/new-insurer-capabilities-to-address-emerging-risks/ HTTP/1.1\" 200 None\n",
      "2020-03-11 09:19:44 [urllib3.connectionpool] DEBUG: Starting new HTTPS connection (1): www.capgemini.com:443\n",
      "2020-03-11 09:19:44 [urllib3.connectionpool] DEBUG: https://www.capgemini.com:443 \"GET /2019/05/supply-chain-digitization-vs-digitalization/ HTTP/1.1\" 200 26674\n",
      "2020-03-11 09:19:44 [urllib3.connectionpool] DEBUG: Starting new HTTPS connection (1): www.capgemini.com:443\n"
     ]
    },
    {
     "name": "stdout",
     "output_type": "stream",
     "text": [
      "https://www.capgemini.com/2019/05/supply-chain-digitization-vs-digitalization/\n",
      "https://www.capgemini.com/2019/04/data-analytics-strengthens-interactions-between-wealth-firms-advisors-and-investors/\n"
     ]
    },
    {
     "name": "stderr",
     "output_type": "stream",
     "text": [
      "2020-03-11 09:19:44 [urllib3.connectionpool] DEBUG: https://www.capgemini.com:443 \"GET /2019/04/data-analytics-strengthens-interactions-between-wealth-firms-advisors-and-investors/ HTTP/1.1\" 200 None\n",
      "2020-03-11 09:19:44 [urllib3.connectionpool] DEBUG: Starting new HTTPS connection (1): www.capgemini.com:443\n",
      "2020-03-11 09:19:44 [urllib3.connectionpool] DEBUG: https://www.capgemini.com:443 \"GET /2019/04/supply-chain-management-whats-driving-change/ HTTP/1.1\" 200 26493\n",
      "2020-03-11 09:19:44 [urllib3.connectionpool] DEBUG: Starting new HTTPS connection (1): www.capgemini.com:443\n"
     ]
    },
    {
     "name": "stdout",
     "output_type": "stream",
     "text": [
      "https://www.capgemini.com/2019/04/supply-chain-management-whats-driving-change/\n",
      "https://www.capgemini.com/2019/04/second-life-batteries-a-sustainable-business-opportunity-not-a-conundrum/\n"
     ]
    },
    {
     "name": "stderr",
     "output_type": "stream",
     "text": [
      "2020-03-11 09:19:45 [urllib3.connectionpool] DEBUG: https://www.capgemini.com:443 \"GET /2019/04/second-life-batteries-a-sustainable-business-opportunity-not-a-conundrum/ HTTP/1.1\" 200 26435\n",
      "2020-03-11 09:19:45 [urllib3.connectionpool] DEBUG: Starting new HTTPS connection (1): www.capgemini.com:443\n"
     ]
    },
    {
     "name": "stdout",
     "output_type": "stream",
     "text": [
      "https://www.capgemini.com/2019/04/the-current-state-of-supply-chain-digitalization/\n"
     ]
    },
    {
     "name": "stderr",
     "output_type": "stream",
     "text": [
      "2020-03-11 09:19:45 [urllib3.connectionpool] DEBUG: https://www.capgemini.com:443 \"GET /2019/04/the-current-state-of-supply-chain-digitalization/ HTTP/1.1\" 200 None\n",
      "2020-03-11 09:19:45 [urllib3.connectionpool] DEBUG: Starting new HTTPS connection (1): www.capgemini.com:443\n",
      "2020-03-11 09:19:45 [urllib3.connectionpool] DEBUG: https://www.capgemini.com:443 \"GET /2019/04/cognitive-document-processing-makes-organizations-faster/ HTTP/1.1\" 200 23321\n",
      "2020-03-11 09:19:46 [urllib3.connectionpool] DEBUG: Starting new HTTPS connection (1): www.capgemini.com:443\n"
     ]
    },
    {
     "name": "stdout",
     "output_type": "stream",
     "text": [
      "https://www.capgemini.com/2019/04/cognitive-document-processing-makes-organizations-faster/\n",
      "https://www.capgemini.com/2019/04/leading-the-way-in-hr-services/\n"
     ]
    },
    {
     "name": "stderr",
     "output_type": "stream",
     "text": [
      "2020-03-11 09:19:46 [urllib3.connectionpool] DEBUG: https://www.capgemini.com:443 \"GET /2019/04/leading-the-way-in-hr-services/ HTTP/1.1\" 200 None\n",
      "2020-03-11 09:19:46 [urllib3.connectionpool] DEBUG: Starting new HTTPS connection (1): www.capgemini.com:443\n"
     ]
    },
    {
     "name": "stdout",
     "output_type": "stream",
     "text": [
      "https://www.capgemini.com/2019/03/strategy-before-innovation-and-technology-building-the-renewable-enterprise-intelligently/\n"
     ]
    },
    {
     "name": "stderr",
     "output_type": "stream",
     "text": [
      "2020-03-11 09:19:48 [urllib3.connectionpool] DEBUG: https://www.capgemini.com:443 \"GET /2019/03/strategy-before-innovation-and-technology-building-the-renewable-enterprise-intelligently/ HTTP/1.1\" 200 None\n",
      "2020-03-11 09:19:49 [urllib3.connectionpool] DEBUG: Starting new HTTPS connection (1): www.capgemini.com:443\n"
     ]
    },
    {
     "name": "stdout",
     "output_type": "stream",
     "text": [
      "https://www.capgemini.com/2019/03/have-you-updated-your-contract-management-technology/\n"
     ]
    },
    {
     "name": "stderr",
     "output_type": "stream",
     "text": [
      "2020-03-11 09:19:49 [urllib3.connectionpool] DEBUG: https://www.capgemini.com:443 \"GET /2019/03/have-you-updated-your-contract-management-technology/ HTTP/1.1\" 200 None\n",
      "2020-03-11 09:19:49 [urllib3.connectionpool] DEBUG: Starting new HTTPS connection (1): www.capgemini.com:443\n"
     ]
    },
    {
     "name": "stdout",
     "output_type": "stream",
     "text": [
      "https://www.capgemini.com/2019/03/if-its-not-instant-its-not-good-enough/\n"
     ]
    },
    {
     "name": "stderr",
     "output_type": "stream",
     "text": [
      "2020-03-11 09:19:50 [urllib3.connectionpool] DEBUG: https://www.capgemini.com:443 \"GET /2019/03/if-its-not-instant-its-not-good-enough/ HTTP/1.1\" 200 None\n",
      "2020-03-11 09:19:50 [scrapy.core.engine] DEBUG: Crawled (200) <GET https://www.capgemini.com/2019/03/an-intelligent-approach-to-continuous-testing/> (referer: None)\n",
      "2020-03-11 09:19:50 [scrapy.core.engine] DEBUG: Crawled (200) <GET https://www.capgemini.com/2019/03/will-technology-signal-the-death-or-evolution-of-the-department-store/> (referer: None)\n",
      "2020-03-11 09:19:50 [scrapy.core.engine] DEBUG: Crawled (200) <GET https://www.capgemini.com/2019/03/an-open-architecture-with-sap/> (referer: None)\n",
      "2020-03-11 09:19:50 [scrapy.core.engine] DEBUG: Crawled (200) <GET https://www.capgemini.com/2019/03/five-trends-that-will-transform-energy-and-utilities-in-2019/> (referer: None)\n",
      "2020-03-11 09:19:50 [scrapy.core.engine] DEBUG: Crawled (200) <GET https://www.capgemini.com/2019/03/getting-wise-on-modern-technology-process-architecture-and-methods-needed-for-sap-s-4-hana/> (referer: None)\n",
      "2020-03-11 09:19:50 [scrapy.core.engine] DEBUG: Crawled (200) <GET https://www.capgemini.com/article/the-infrastructure-of-ai-the-technology-that-is-enabling-our-imagination-to-become-real/> (referer: None)\n",
      "2020-03-11 09:19:50 [scrapy.core.engine] DEBUG: Crawled (200) <GET https://www.capgemini.com/2019/03/productivity-ai-and-knowledge-work/> (referer: None)\n",
      "2020-03-11 09:19:50 [scrapy.core.engine] DEBUG: Crawled (200) <GET https://www.capgemini.com/2019/02/cognitive-document-processing-a-competitive-differentiator-for-payers/> (referer: None)\n",
      "2020-03-11 09:19:50 [urllib3.connectionpool] DEBUG: Starting new HTTPS connection (1): www.capgemini.com:443\n",
      "2020-03-11 09:19:50 [urllib3.connectionpool] DEBUG: https://www.capgemini.com:443 \"GET /2019/03/an-intelligent-approach-to-continuous-testing/ HTTP/1.1\" 200 26071\n",
      "2020-03-11 09:19:50 [scrapy.core.engine] DEBUG: Crawled (200) <GET https://www.capgemini.com/2019/02/rpa-and-the-journey-to-ai/> (referer: None)\n",
      "2020-03-11 09:19:50 [urllib3.connectionpool] DEBUG: Starting new HTTPS connection (1): www.capgemini.com:443\n"
     ]
    },
    {
     "name": "stdout",
     "output_type": "stream",
     "text": [
      "https://www.capgemini.com/2019/03/an-intelligent-approach-to-continuous-testing/\n",
      "https://www.capgemini.com/2019/03/will-technology-signal-the-death-or-evolution-of-the-department-store/\n"
     ]
    },
    {
     "name": "stderr",
     "output_type": "stream",
     "text": [
      "2020-03-11 09:19:50 [urllib3.connectionpool] DEBUG: https://www.capgemini.com:443 \"GET /2019/03/will-technology-signal-the-death-or-evolution-of-the-department-store/ HTTP/1.1\" 200 27193\n",
      "2020-03-11 09:19:50 [urllib3.connectionpool] DEBUG: Starting new HTTPS connection (1): www.capgemini.com:443\n",
      "2020-03-11 09:19:50 [urllib3.connectionpool] DEBUG: https://www.capgemini.com:443 \"GET /2019/03/an-open-architecture-with-sap/ HTTP/1.1\" 200 25772\n",
      "2020-03-11 09:19:50 [urllib3.connectionpool] DEBUG: Starting new HTTPS connection (1): www.capgemini.com:443\n"
     ]
    },
    {
     "name": "stdout",
     "output_type": "stream",
     "text": [
      "https://www.capgemini.com/2019/03/an-open-architecture-with-sap/\n",
      "https://www.capgemini.com/2019/03/five-trends-that-will-transform-energy-and-utilities-in-2019/\n"
     ]
    },
    {
     "name": "stderr",
     "output_type": "stream",
     "text": [
      "2020-03-11 09:19:51 [urllib3.connectionpool] DEBUG: https://www.capgemini.com:443 \"GET /2019/03/five-trends-that-will-transform-energy-and-utilities-in-2019/ HTTP/1.1\" 200 27309\n",
      "2020-03-11 09:19:51 [urllib3.connectionpool] DEBUG: Starting new HTTPS connection (1): www.capgemini.com:443\n"
     ]
    },
    {
     "name": "stdout",
     "output_type": "stream",
     "text": [
      "https://www.capgemini.com/2019/03/getting-wise-on-modern-technology-process-architecture-and-methods-needed-for-sap-s-4-hana/\n"
     ]
    },
    {
     "name": "stderr",
     "output_type": "stream",
     "text": [
      "2020-03-11 09:19:51 [urllib3.connectionpool] DEBUG: https://www.capgemini.com:443 \"GET /2019/03/getting-wise-on-modern-technology-process-architecture-and-methods-needed-for-sap-s-4-hana/ HTTP/1.1\" 200 None\n",
      "2020-03-11 09:19:51 [urllib3.connectionpool] DEBUG: Starting new HTTPS connection (1): www.capgemini.com:443\n"
     ]
    },
    {
     "name": "stdout",
     "output_type": "stream",
     "text": [
      "https://www.capgemini.com/article/the-infrastructure-of-ai-the-technology-that-is-enabling-our-imagination-to-become-real/\n"
     ]
    },
    {
     "name": "stderr",
     "output_type": "stream",
     "text": [
      "2020-03-11 09:19:52 [urllib3.connectionpool] DEBUG: https://www.capgemini.com:443 \"GET /article/the-infrastructure-of-ai-the-technology-that-is-enabling-our-imagination-to-become-real/ HTTP/1.1\" 200 None\n",
      "2020-03-11 09:19:52 [urllib3.connectionpool] DEBUG: Starting new HTTPS connection (1): www.capgemini.com:443\n",
      "2020-03-11 09:19:52 [urllib3.connectionpool] DEBUG: https://www.capgemini.com:443 \"GET /2019/03/productivity-ai-and-knowledge-work/ HTTP/1.1\" 200 24574\n",
      "2020-03-11 09:19:52 [urllib3.connectionpool] DEBUG: Starting new HTTPS connection (1): www.capgemini.com:443\n"
     ]
    },
    {
     "name": "stdout",
     "output_type": "stream",
     "text": [
      "https://www.capgemini.com/2019/03/productivity-ai-and-knowledge-work/\n",
      "https://www.capgemini.com/2019/02/cognitive-document-processing-a-competitive-differentiator-for-payers/\n"
     ]
    },
    {
     "name": "stderr",
     "output_type": "stream",
     "text": [
      "2020-03-11 09:19:52 [urllib3.connectionpool] DEBUG: https://www.capgemini.com:443 \"GET /2019/02/cognitive-document-processing-a-competitive-differentiator-for-payers/ HTTP/1.1\" 200 25663\n",
      "2020-03-11 09:19:52 [scrapy.core.engine] DEBUG: Crawled (200) <GET https://www.capgemini.com/article/the-age-of-hyperintelligence-how-organizations-can-benefit-from-a-new-alliance-between-humans-and-machines/> (referer: None)\n",
      "2020-03-11 09:19:52 [scrapy.core.engine] DEBUG: Crawled (200) <GET https://www.capgemini.com/2019/02/smart-cities-emergence-of-new-business-models/> (referer: None)\n",
      "2020-03-11 09:19:52 [scrapy.core.engine] DEBUG: Crawled (200) <GET https://www.capgemini.com/2019/02/todays-financial-challenges-with-trade-promotion/> (referer: None)\n",
      "2020-03-11 09:19:52 [scrapy.core.engine] DEBUG: Crawled (200) <GET https://www.capgemini.com/2019/02/sherlock-or-moriarty-how-do-you-approach-ai/> (referer: None)\n",
      "2020-03-11 09:19:52 [scrapy.core.engine] DEBUG: Crawled (200) <GET https://www.capgemini.com/2019/02/integrated-treasury-management-systems-help-banks-streamline-compliance-and-bolster-capabilities/> (referer: None)\n",
      "2020-03-11 09:19:52 [scrapy.core.engine] DEBUG: Crawled (200) <GET https://www.capgemini.com/article/ai-explained-using-a-framework-based-on-five-senses/> (referer: None)\n",
      "2020-03-11 09:19:52 [scrapy.core.engine] DEBUG: Crawled (200) <GET https://www.capgemini.com/2019/02/ai-and-augmented-healthcare/> (referer: None)\n",
      "2020-03-11 09:19:52 [urllib3.connectionpool] DEBUG: Starting new HTTPS connection (1): www.capgemini.com:443\n",
      "2020-03-11 09:19:52 [urllib3.connectionpool] DEBUG: https://www.capgemini.com:443 \"GET /2019/02/rpa-and-the-journey-to-ai/ HTTP/1.1\" 200 27278\n",
      "2020-03-11 09:19:53 [urllib3.connectionpool] DEBUG: Starting new HTTPS connection (1): www.capgemini.com:443\n"
     ]
    },
    {
     "name": "stdout",
     "output_type": "stream",
     "text": [
      "https://www.capgemini.com/2019/02/rpa-and-the-journey-to-ai/\n",
      "https://www.capgemini.com/article/the-age-of-hyperintelligence-how-organizations-can-benefit-from-a-new-alliance-between-humans-and-machines/\n"
     ]
    },
    {
     "name": "stderr",
     "output_type": "stream",
     "text": [
      "2020-03-11 09:19:53 [urllib3.connectionpool] DEBUG: https://www.capgemini.com:443 \"GET /article/the-age-of-hyperintelligence-how-organizations-can-benefit-from-a-new-alliance-between-humans-and-machines/ HTTP/1.1\" 200 24243\n",
      "2020-03-11 09:19:53 [urllib3.connectionpool] DEBUG: Starting new HTTPS connection (1): www.capgemini.com:443\n"
     ]
    },
    {
     "name": "stdout",
     "output_type": "stream",
     "text": [
      "https://www.capgemini.com/2019/02/smart-cities-emergence-of-new-business-models/\n"
     ]
    },
    {
     "name": "stderr",
     "output_type": "stream",
     "text": [
      "2020-03-11 09:19:53 [urllib3.connectionpool] DEBUG: https://www.capgemini.com:443 \"GET /2019/02/smart-cities-emergence-of-new-business-models/ HTTP/1.1\" 200 None\n",
      "2020-03-11 09:19:53 [urllib3.connectionpool] DEBUG: Starting new HTTPS connection (1): www.capgemini.com:443\n",
      "2020-03-11 09:19:53 [urllib3.connectionpool] DEBUG: https://www.capgemini.com:443 \"GET /2019/02/todays-financial-challenges-with-trade-promotion/ HTTP/1.1\" 200 28171\n",
      "2020-03-11 09:19:53 [urllib3.connectionpool] DEBUG: Starting new HTTPS connection (1): www.capgemini.com:443\n"
     ]
    },
    {
     "name": "stdout",
     "output_type": "stream",
     "text": [
      "https://www.capgemini.com/2019/02/todays-financial-challenges-with-trade-promotion/\n",
      "https://www.capgemini.com/2019/02/sherlock-or-moriarty-how-do-you-approach-ai/\n"
     ]
    },
    {
     "name": "stderr",
     "output_type": "stream",
     "text": [
      "2020-03-11 09:19:54 [urllib3.connectionpool] DEBUG: https://www.capgemini.com:443 \"GET /2019/02/sherlock-or-moriarty-how-do-you-approach-ai/ HTTP/1.1\" 200 None\n",
      "2020-03-11 09:19:54 [urllib3.connectionpool] DEBUG: Starting new HTTPS connection (1): www.capgemini.com:443\n",
      "2020-03-11 09:19:54 [urllib3.connectionpool] DEBUG: https://www.capgemini.com:443 \"GET /2019/02/integrated-treasury-management-systems-help-banks-streamline-compliance-and-bolster-capabilities/ HTTP/1.1\" 200 24497\n",
      "2020-03-11 09:19:54 [urllib3.connectionpool] DEBUG: Starting new HTTPS connection (1): www.capgemini.com:443\n"
     ]
    },
    {
     "name": "stdout",
     "output_type": "stream",
     "text": [
      "https://www.capgemini.com/2019/02/integrated-treasury-management-systems-help-banks-streamline-compliance-and-bolster-capabilities/\n",
      "https://www.capgemini.com/article/ai-explained-using-a-framework-based-on-five-senses/\n"
     ]
    },
    {
     "name": "stderr",
     "output_type": "stream",
     "text": [
      "2020-03-11 09:19:54 [urllib3.connectionpool] DEBUG: https://www.capgemini.com:443 \"GET /article/ai-explained-using-a-framework-based-on-five-senses/ HTTP/1.1\" 200 26079\n",
      "2020-03-11 09:19:54 [urllib3.connectionpool] DEBUG: Starting new HTTPS connection (1): www.capgemini.com:443\n",
      "2020-03-11 09:19:54 [urllib3.connectionpool] DEBUG: https://www.capgemini.com:443 \"GET /2019/02/ai-and-augmented-healthcare/ HTTP/1.1\" 200 25686\n",
      "2020-03-11 09:19:54 [scrapy.core.engine] DEBUG: Crawled (200) <GET https://www.capgemini.com/2019/02/transform-systems-to-make-your-workplace-safer-part-three/> (referer: None)\n",
      "2020-03-11 09:19:54 [scrapy.core.engine] DEBUG: Crawled (200) <GET https://www.capgemini.com/2019/02/analytics-are-transforming-the-customer-care-continuum/> (referer: None)\n",
      "2020-03-11 09:19:54 [scrapy.core.engine] DEBUG: Crawled (200) <GET https://www.capgemini.com/2019/02/data-analytics-in-contract-management-expectations-from-customers/> (referer: None)\n",
      "2020-03-11 09:19:54 [scrapy.core.engine] DEBUG: Crawled (200) <GET https://www.capgemini.com/2019/02/leveraging-rpa-to-reduce-risk-and-increase-compliance-in-bfsi/> (referer: None)\n",
      "2020-03-11 09:19:54 [scrapy.core.engine] DEBUG: Crawled (200) <GET https://www.capgemini.com/2019/02/what-characteristics-will-successful-insurers-share-in-the-future/> (referer: None)\n",
      "2020-03-11 09:19:54 [scrapy.core.engine] DEBUG: Crawled (200) <GET https://www.capgemini.com/2019/02/upcoming-regulation-on-cryptocurrency-market-european-union/> (referer: None)\n",
      "2020-03-11 09:19:54 [scrapy.core.engine] DEBUG: Crawled (200) <GET https://www.capgemini.com/2019/02/utilities-boost-cyber-readiness-and-iot-adoption/> (referer: None)\n",
      "2020-03-11 09:19:54 [scrapy.core.engine] DEBUG: Crawled (200) <GET https://www.capgemini.com/2019/01/achieving-win-win-for-customers-and-insurers-with-emerging-tech-during-claims-processing-due-to-extreme-weather/> (referer: None)\n"
     ]
    },
    {
     "name": "stdout",
     "output_type": "stream",
     "text": [
      "https://www.capgemini.com/2019/02/ai-and-augmented-healthcare/\n"
     ]
    },
    {
     "name": "stderr",
     "output_type": "stream",
     "text": [
      "2020-03-11 09:19:55 [urllib3.connectionpool] DEBUG: Starting new HTTPS connection (1): www.capgemini.com:443\n",
      "2020-03-11 09:19:55 [urllib3.connectionpool] DEBUG: https://www.capgemini.com:443 \"GET /2019/02/transform-systems-to-make-your-workplace-safer-part-three/ HTTP/1.1\" 200 23011\n",
      "2020-03-11 09:19:55 [urllib3.connectionpool] DEBUG: Starting new HTTPS connection (1): www.capgemini.com:443\n"
     ]
    },
    {
     "name": "stdout",
     "output_type": "stream",
     "text": [
      "https://www.capgemini.com/2019/02/transform-systems-to-make-your-workplace-safer-part-three/\n",
      "https://www.capgemini.com/2019/02/analytics-are-transforming-the-customer-care-continuum/\n"
     ]
    },
    {
     "name": "stderr",
     "output_type": "stream",
     "text": [
      "2020-03-11 09:19:55 [urllib3.connectionpool] DEBUG: https://www.capgemini.com:443 \"GET /2019/02/analytics-are-transforming-the-customer-care-continuum/ HTTP/1.1\" 200 None\n",
      "2020-03-11 09:19:55 [urllib3.connectionpool] DEBUG: Starting new HTTPS connection (1): www.capgemini.com:443\n"
     ]
    },
    {
     "name": "stdout",
     "output_type": "stream",
     "text": [
      "https://www.capgemini.com/2019/02/data-analytics-in-contract-management-expectations-from-customers/\n"
     ]
    },
    {
     "name": "stderr",
     "output_type": "stream",
     "text": [
      "2020-03-11 09:19:56 [urllib3.connectionpool] DEBUG: https://www.capgemini.com:443 \"GET /2019/02/data-analytics-in-contract-management-expectations-from-customers/ HTTP/1.1\" 200 None\n",
      "2020-03-11 09:19:56 [urllib3.connectionpool] DEBUG: Starting new HTTPS connection (1): www.capgemini.com:443\n",
      "2020-03-11 09:19:56 [urllib3.connectionpool] DEBUG: https://www.capgemini.com:443 \"GET /2019/02/leveraging-rpa-to-reduce-risk-and-increase-compliance-in-bfsi/ HTTP/1.1\" 200 23986\n",
      "2020-03-11 09:19:56 [urllib3.connectionpool] DEBUG: Starting new HTTPS connection (1): www.capgemini.com:443\n"
     ]
    },
    {
     "name": "stdout",
     "output_type": "stream",
     "text": [
      "https://www.capgemini.com/2019/02/leveraging-rpa-to-reduce-risk-and-increase-compliance-in-bfsi/\n",
      "https://www.capgemini.com/2019/02/what-characteristics-will-successful-insurers-share-in-the-future/\n"
     ]
    },
    {
     "name": "stderr",
     "output_type": "stream",
     "text": [
      "2020-03-11 09:19:56 [urllib3.connectionpool] DEBUG: https://www.capgemini.com:443 \"GET /2019/02/what-characteristics-will-successful-insurers-share-in-the-future/ HTTP/1.1\" 200 None\n",
      "2020-03-11 09:19:57 [scrapy.core.engine] DEBUG: Crawled (200) <GET https://www.capgemini.com/2019/01/simplifying-innovation-and-crafting-the-enterprise-of-the-future/> (referer: None)\n",
      "2020-03-11 09:19:57 [scrapy.core.engine] DEBUG: Crawled (200) <GET https://www.capgemini.com/2019/01/technology-opens-the-door-to-new-customer-populations-for-life-insurers/> (referer: None)\n",
      "2020-03-11 09:19:57 [scrapy.core.engine] DEBUG: Crawled (200) <GET https://www.capgemini.com/article/ai-is-opening-a-new-chapter-for-business/> (referer: None)\n",
      "2020-03-11 09:19:57 [scrapy.core.engine] DEBUG: Crawled (200) <GET https://www.capgemini.com/2019/01/sparking-the-data-science-of-optimization/> (referer: None)\n",
      "2020-03-11 09:19:57 [scrapy.core.engine] DEBUG: Crawled (200) <GET https://www.capgemini.com/2019/01/o-is-for-optimize-an-introduction-to-capgeminis-esoar/> (referer: None)\n",
      "2020-03-11 09:19:57 [scrapy.core.engine] DEBUG: Crawled (200) <GET https://www.capgemini.com/2019/01/what-new-opportunities-will-ai-unleash-on-the-retail-sector/> (referer: None)\n",
      "2020-03-11 09:19:57 [urllib3.connectionpool] DEBUG: Starting new HTTPS connection (1): www.capgemini.com:443\n"
     ]
    },
    {
     "name": "stdout",
     "output_type": "stream",
     "text": [
      "https://www.capgemini.com/2019/02/upcoming-regulation-on-cryptocurrency-market-european-union/\n"
     ]
    },
    {
     "name": "stderr",
     "output_type": "stream",
     "text": [
      "2020-03-11 09:19:57 [urllib3.connectionpool] DEBUG: https://www.capgemini.com:443 \"GET /2019/02/upcoming-regulation-on-cryptocurrency-market-european-union/ HTTP/1.1\" 200 None\n",
      "2020-03-11 09:19:57 [urllib3.connectionpool] DEBUG: Starting new HTTPS connection (1): www.capgemini.com:443\n",
      "2020-03-11 09:19:57 [urllib3.connectionpool] DEBUG: https://www.capgemini.com:443 \"GET /2019/02/utilities-boost-cyber-readiness-and-iot-adoption/ HTTP/1.1\" 200 25019\n",
      "2020-03-11 09:19:57 [urllib3.connectionpool] DEBUG: Starting new HTTPS connection (1): www.capgemini.com:443\n"
     ]
    },
    {
     "name": "stdout",
     "output_type": "stream",
     "text": [
      "https://www.capgemini.com/2019/02/utilities-boost-cyber-readiness-and-iot-adoption/\n",
      "https://www.capgemini.com/2019/01/achieving-win-win-for-customers-and-insurers-with-emerging-tech-during-claims-processing-due-to-extreme-weather/\n"
     ]
    },
    {
     "name": "stderr",
     "output_type": "stream",
     "text": [
      "2020-03-11 09:19:58 [urllib3.connectionpool] DEBUG: https://www.capgemini.com:443 \"GET /2019/01/achieving-win-win-for-customers-and-insurers-with-emerging-tech-during-claims-processing-due-to-extreme-weather/ HTTP/1.1\" 200 None\n",
      "2020-03-11 09:19:58 [scrapy.core.engine] DEBUG: Crawled (200) <GET https://www.capgemini.com/2019/01/seven-predictions-for-bpo-in-2019/> (referer: None)\n",
      "2020-03-11 09:19:58 [urllib3.connectionpool] DEBUG: Starting new HTTPS connection (1): www.capgemini.com:443\n",
      "2020-03-11 09:19:58 [urllib3.connectionpool] DEBUG: https://www.capgemini.com:443 \"GET /2019/01/simplifying-innovation-and-crafting-the-enterprise-of-the-future/ HTTP/1.1\" 200 26600\n",
      "2020-03-11 09:19:58 [urllib3.connectionpool] DEBUG: Starting new HTTPS connection (1): www.capgemini.com:443\n"
     ]
    },
    {
     "name": "stdout",
     "output_type": "stream",
     "text": [
      "https://www.capgemini.com/2019/01/simplifying-innovation-and-crafting-the-enterprise-of-the-future/\n",
      "https://www.capgemini.com/2019/01/technology-opens-the-door-to-new-customer-populations-for-life-insurers/\n"
     ]
    },
    {
     "name": "stderr",
     "output_type": "stream",
     "text": [
      "2020-03-11 09:19:59 [urllib3.connectionpool] DEBUG: https://www.capgemini.com:443 \"GET /2019/01/technology-opens-the-door-to-new-customer-populations-for-life-insurers/ HTTP/1.1\" 200 None\n",
      "2020-03-11 09:19:59 [urllib3.connectionpool] DEBUG: Starting new HTTPS connection (1): www.capgemini.com:443\n"
     ]
    },
    {
     "name": "stdout",
     "output_type": "stream",
     "text": [
      "https://www.capgemini.com/article/ai-is-opening-a-new-chapter-for-business/\n"
     ]
    },
    {
     "name": "stderr",
     "output_type": "stream",
     "text": [
      "2020-03-11 09:20:00 [urllib3.connectionpool] DEBUG: https://www.capgemini.com:443 \"GET /article/ai-is-opening-a-new-chapter-for-business/ HTTP/1.1\" 200 None\n",
      "2020-03-11 09:20:00 [urllib3.connectionpool] DEBUG: Starting new HTTPS connection (1): www.capgemini.com:443\n"
     ]
    },
    {
     "name": "stdout",
     "output_type": "stream",
     "text": [
      "https://www.capgemini.com/2019/01/sparking-the-data-science-of-optimization/\n"
     ]
    },
    {
     "name": "stderr",
     "output_type": "stream",
     "text": [
      "2020-03-11 09:20:00 [urllib3.connectionpool] DEBUG: https://www.capgemini.com:443 \"GET /2019/01/sparking-the-data-science-of-optimization/ HTTP/1.1\" 200 None\n",
      "2020-03-11 09:20:00 [urllib3.connectionpool] DEBUG: Starting new HTTPS connection (1): www.capgemini.com:443\n",
      "2020-03-11 09:20:00 [urllib3.connectionpool] DEBUG: https://www.capgemini.com:443 \"GET /2019/01/o-is-for-optimize-an-introduction-to-capgeminis-esoar/ HTTP/1.1\" 200 25938\n",
      "2020-03-11 09:20:00 [urllib3.connectionpool] DEBUG: Starting new HTTPS connection (1): www.capgemini.com:443\n"
     ]
    },
    {
     "name": "stdout",
     "output_type": "stream",
     "text": [
      "https://www.capgemini.com/2019/01/o-is-for-optimize-an-introduction-to-capgeminis-esoar/\n",
      "https://www.capgemini.com/2019/01/what-new-opportunities-will-ai-unleash-on-the-retail-sector/\n"
     ]
    },
    {
     "name": "stderr",
     "output_type": "stream",
     "text": [
      "2020-03-11 09:20:00 [urllib3.connectionpool] DEBUG: https://www.capgemini.com:443 \"GET /2019/01/what-new-opportunities-will-ai-unleash-on-the-retail-sector/ HTTP/1.1\" 200 26627\n",
      "2020-03-11 09:20:00 [scrapy.core.engine] DEBUG: Crawled (200) <GET https://www.capgemini.com/2018/12/how-are-virtual-assistants-affecting-the-customer-experience/> (referer: None)\n",
      "2020-03-11 09:20:00 [urllib3.connectionpool] DEBUG: Starting new HTTPS connection (1): www.capgemini.com:443\n"
     ]
    },
    {
     "name": "stdout",
     "output_type": "stream",
     "text": [
      "https://www.capgemini.com/2019/01/seven-predictions-for-bpo-in-2019/\n"
     ]
    },
    {
     "name": "stderr",
     "output_type": "stream",
     "text": [
      "2020-03-11 09:20:01 [urllib3.connectionpool] DEBUG: https://www.capgemini.com:443 \"GET /2019/01/seven-predictions-for-bpo-in-2019/ HTTP/1.1\" 200 None\n",
      "2020-03-11 09:20:01 [scrapy.core.engine] DEBUG: Crawled (200) <GET https://www.capgemini.com/2018/12/the-future-of-contract-management-learning-from-2018/> (referer: None)\n",
      "2020-03-11 09:20:01 [urllib3.connectionpool] DEBUG: Starting new HTTPS connection (1): www.capgemini.com:443\n"
     ]
    },
    {
     "name": "stdout",
     "output_type": "stream",
     "text": [
      "https://www.capgemini.com/2018/12/how-are-virtual-assistants-affecting-the-customer-experience/\n"
     ]
    },
    {
     "name": "stderr",
     "output_type": "stream",
     "text": [
      "2020-03-11 09:20:02 [urllib3.connectionpool] DEBUG: https://www.capgemini.com:443 \"GET /2018/12/how-are-virtual-assistants-affecting-the-customer-experience/ HTTP/1.1\" 200 None\n",
      "2020-03-11 09:20:02 [urllib3.connectionpool] DEBUG: Starting new HTTPS connection (1): www.capgemini.com:443\n",
      "2020-03-11 09:20:02 [urllib3.connectionpool] DEBUG: https://www.capgemini.com:443 \"GET /2018/12/the-future-of-contract-management-learning-from-2018/ HTTP/1.1\" 200 23676\n"
     ]
    },
    {
     "name": "stdout",
     "output_type": "stream",
     "text": [
      "https://www.capgemini.com/2018/12/the-future-of-contract-management-learning-from-2018/\n"
     ]
    },
    {
     "name": "stderr",
     "output_type": "stream",
     "text": [
      "2020-03-11 09:20:02 [scrapy.core.engine] DEBUG: Crawled (200) <GET https://www.capgemini.com/2018/12/capgeminis-insights-and-data-team-presents-the-cloud-analytics-champion-awards/> (referer: None)\n",
      "2020-03-11 09:20:02 [urllib3.connectionpool] DEBUG: Starting new HTTPS connection (1): www.capgemini.com:443\n"
     ]
    },
    {
     "name": "stdout",
     "output_type": "stream",
     "text": [
      "https://www.capgemini.com/2018/12/capgeminis-insights-and-data-team-presents-the-cloud-analytics-champion-awards/\n"
     ]
    },
    {
     "name": "stderr",
     "output_type": "stream",
     "text": [
      "2020-03-11 09:20:03 [urllib3.connectionpool] DEBUG: https://www.capgemini.com:443 \"GET /2018/12/capgeminis-insights-and-data-team-presents-the-cloud-analytics-champion-awards/ HTTP/1.1\" 200 None\n",
      "2020-03-11 09:20:03 [scrapy.core.engine] DEBUG: Crawled (200) <GET https://www.capgemini.com/article/technology/> (referer: None)\n",
      "2020-03-11 09:20:03 [scrapy.core.engine] DEBUG: Crawled (200) <GET https://www.capgemini.com/2018/11/disrupting-the-retail-industry-with-blockchain/> (referer: None)\n",
      "2020-03-11 09:20:03 [scrapy.core.engine] DEBUG: Crawled (200) <GET https://www.capgemini.com/2018/12/the-cyber-security-world-understanding-the-black-box/> (referer: None)\n",
      "2020-03-11 09:20:03 [scrapy.core.engine] DEBUG: Crawled (200) <GET https://www.capgemini.com/2018/11/gartner-data-analytics-summit-how-to-scale-the-value-of-data-and-analytics/> (referer: None)\n",
      "2020-03-11 09:20:03 [scrapy.core.engine] DEBUG: Crawled (200) <GET https://www.capgemini.com/2018/11/an-evolving-world-for-qa-and-testing/> (referer: None)\n",
      "2020-03-11 09:20:03 [scrapy.core.engine] DEBUG: Crawled (200) <GET https://www.capgemini.com/2018/11/the-continuous-impact-of-ai-technology-in-operational-risk/> (referer: None)\n",
      "2020-03-11 09:20:03 [scrapy.core.engine] DEBUG: Crawled (200) <GET https://www.capgemini.com/article/organizations-are-only-scratching-at-the-surface-of-automation/> (referer: None)\n",
      "2020-03-11 09:20:03 [scrapy.core.engine] DEBUG: Crawled (200) <GET https://www.capgemini.com/2018/11/how-banks-can-repurpose-customer-journey-innovations-from-other-industries/> (referer: None)\n",
      "2020-03-11 09:20:03 [urllib3.connectionpool] DEBUG: Starting new HTTPS connection (1): www.capgemini.com:443\n",
      "2020-03-11 09:20:03 [urllib3.connectionpool] DEBUG: https://www.capgemini.com:443 \"GET /article/technology/ HTTP/1.1\" 200 24555\n",
      "2020-03-11 09:20:03 [urllib3.connectionpool] DEBUG: Starting new HTTPS connection (1): www.capgemini.com:443\n"
     ]
    },
    {
     "name": "stdout",
     "output_type": "stream",
     "text": [
      "https://www.capgemini.com/article/technology/\n",
      "https://www.capgemini.com/2018/11/disrupting-the-retail-industry-with-blockchain/\n"
     ]
    },
    {
     "name": "stderr",
     "output_type": "stream",
     "text": [
      "2020-03-11 09:20:04 [urllib3.connectionpool] DEBUG: https://www.capgemini.com:443 \"GET /2018/11/disrupting-the-retail-industry-with-blockchain/ HTTP/1.1\" 200 None\n",
      "2020-03-11 09:20:04 [urllib3.connectionpool] DEBUG: Starting new HTTPS connection (1): www.capgemini.com:443\n",
      "2020-03-11 09:20:04 [urllib3.connectionpool] DEBUG: https://www.capgemini.com:443 \"GET /2018/12/the-cyber-security-world-understanding-the-black-box/ HTTP/1.1\" 200 24847\n",
      "2020-03-11 09:20:04 [urllib3.connectionpool] DEBUG: Starting new HTTPS connection (1): www.capgemini.com:443\n"
     ]
    },
    {
     "name": "stdout",
     "output_type": "stream",
     "text": [
      "https://www.capgemini.com/2018/12/the-cyber-security-world-understanding-the-black-box/\n",
      "https://www.capgemini.com/2018/11/gartner-data-analytics-summit-how-to-scale-the-value-of-data-and-analytics/\n"
     ]
    },
    {
     "name": "stderr",
     "output_type": "stream",
     "text": [
      "2020-03-11 09:20:04 [urllib3.connectionpool] DEBUG: https://www.capgemini.com:443 \"GET /2018/11/gartner-data-analytics-summit-how-to-scale-the-value-of-data-and-analytics/ HTTP/1.1\" 200 25468\n",
      "2020-03-11 09:20:04 [urllib3.connectionpool] DEBUG: Starting new HTTPS connection (1): www.capgemini.com:443\n"
     ]
    },
    {
     "name": "stdout",
     "output_type": "stream",
     "text": [
      "https://www.capgemini.com/2018/11/an-evolving-world-for-qa-and-testing/\n"
     ]
    },
    {
     "name": "stderr",
     "output_type": "stream",
     "text": [
      "2020-03-11 09:20:05 [urllib3.connectionpool] DEBUG: https://www.capgemini.com:443 \"GET /2018/11/an-evolving-world-for-qa-and-testing/ HTTP/1.1\" 200 None\n",
      "2020-03-11 09:20:05 [urllib3.connectionpool] DEBUG: Starting new HTTPS connection (1): www.capgemini.com:443\n",
      "2020-03-11 09:20:05 [urllib3.connectionpool] DEBUG: https://www.capgemini.com:443 \"GET /2018/11/the-continuous-impact-of-ai-technology-in-operational-risk/ HTTP/1.1\" 200 26056\n",
      "2020-03-11 09:20:05 [urllib3.connectionpool] DEBUG: Starting new HTTPS connection (1): www.capgemini.com:443\n"
     ]
    },
    {
     "name": "stdout",
     "output_type": "stream",
     "text": [
      "https://www.capgemini.com/2018/11/the-continuous-impact-of-ai-technology-in-operational-risk/\n",
      "https://www.capgemini.com/article/organizations-are-only-scratching-at-the-surface-of-automation/\n"
     ]
    },
    {
     "name": "stderr",
     "output_type": "stream",
     "text": [
      "2020-03-11 09:20:05 [urllib3.connectionpool] DEBUG: https://www.capgemini.com:443 \"GET /article/organizations-are-only-scratching-at-the-surface-of-automation/ HTTP/1.1\" 200 23534\n",
      "2020-03-11 09:20:05 [urllib3.connectionpool] DEBUG: Starting new HTTPS connection (1): www.capgemini.com:443\n"
     ]
    },
    {
     "name": "stdout",
     "output_type": "stream",
     "text": [
      "https://www.capgemini.com/2018/11/how-banks-can-repurpose-customer-journey-innovations-from-other-industries/\n"
     ]
    },
    {
     "name": "stderr",
     "output_type": "stream",
     "text": [
      "2020-03-11 09:20:06 [urllib3.connectionpool] DEBUG: https://www.capgemini.com:443 \"GET /2018/11/how-banks-can-repurpose-customer-journey-innovations-from-other-industries/ HTTP/1.1\" 200 None\n",
      "2020-03-11 09:20:06 [scrapy.core.engine] DEBUG: Crawled (200) <GET https://www.capgemini.com/2018/11/ai-is-eating-software/> (referer: None)\n",
      "2020-03-11 09:20:06 [scrapy.core.engine] DEBUG: Crawled (200) <GET https://www.capgemini.com/2018/11/ea-reboot-an-executive-point-of-view/> (referer: None)\n",
      "2020-03-11 09:20:06 [scrapy.core.engine] DEBUG: Crawled (200) <GET https://www.capgemini.com/2018/10/pacing-up-in-the-new-era-of-customer-engagement/> (referer: None)\n",
      "2020-03-11 09:20:06 [scrapy.core.engine] DEBUG: Crawled (200) <GET https://www.capgemini.com/2018/10/we-live-in-a-quantum-world/> (referer: None)\n",
      "2020-03-11 09:20:06 [scrapy.core.engine] DEBUG: Crawled (200) <GET https://www.capgemini.com/2018/10/do-consumers-dream-of-chatty-ecommerce/> (referer: None)\n",
      "2020-03-11 09:20:06 [scrapy.core.engine] DEBUG: Crawled (200) <GET https://www.capgemini.com/2018/10/finance-automation-in-the-financial-services-sector/> (referer: None)\n",
      "2020-03-11 09:20:06 [scrapy.core.engine] DEBUG: Crawled (200) <GET https://www.capgemini.com/2018/10/it-for-business-responsive-it-for-the-business-and-the-user/> (referer: None)\n",
      "2020-03-11 09:20:06 [scrapy.core.engine] DEBUG: Crawled (200) <GET https://www.capgemini.com/2018/10/moving-with-the-digital-times/> (referer: None)\n",
      "2020-03-11 09:20:06 [urllib3.connectionpool] DEBUG: Starting new HTTPS connection (1): www.capgemini.com:443\n"
     ]
    },
    {
     "name": "stdout",
     "output_type": "stream",
     "text": [
      "https://www.capgemini.com/2018/11/ai-is-eating-software/\n"
     ]
    },
    {
     "name": "stderr",
     "output_type": "stream",
     "text": [
      "2020-03-11 09:20:07 [urllib3.connectionpool] DEBUG: https://www.capgemini.com:443 \"GET /2018/11/ai-is-eating-software/ HTTP/1.1\" 200 None\n",
      "2020-03-11 09:20:07 [scrapy.core.engine] DEBUG: Crawled (200) <GET https://www.capgemini.com/2018/10/rpa-and-ai-across-the-intelligent-automation-spectrum/> (referer: None)\n",
      "2020-03-11 09:20:07 [scrapy.core.engine] DEBUG: Crawled (200) <GET https://www.capgemini.com/2018/10/digital-engagement-offers-bank-customers-a-more-contextual-experience/> (referer: None)\n",
      "2020-03-11 09:20:07 [scrapy.core.engine] DEBUG: Crawled (200) <GET https://www.capgemini.com/2018/10/finance-automation-and-media-and-entertainment-businesses/> (referer: None)\n",
      "2020-03-11 09:20:07 [scrapy.core.engine] DEBUG: Crawled (200) <GET https://www.capgemini.com/2018/10/world-quality-report-18-19-unraveling-the-key-trends-in-qa-and-testing/> (referer: None)\n",
      "2020-03-11 09:20:07 [scrapy.core.engine] DEBUG: Crawled (200) <GET https://www.capgemini.com/2018/10/the-red-queen-effect-of-digital-manufacturing/> (referer: None)\n",
      "2020-03-11 09:20:07 [scrapy.core.engine] DEBUG: Crawled (200) <GET https://www.capgemini.com/2018/10/insurtech-or-the-way-to-innovate-and-disrupt-the-insurance-industry/> (referer: None)\n",
      "2020-03-11 09:20:07 [scrapy.core.engine] DEBUG: Crawled (200) <GET https://www.capgemini.com/2018/09/qa-budget-trends-analysis/> (referer: None)\n",
      "2020-03-11 09:20:07 [scrapy.core.engine] DEBUG: Crawled (200) <GET https://www.capgemini.com/2018/09/insurtechs-offer-insurers-rd-hub-innovation/> (referer: None)\n",
      "2020-03-11 09:20:07 [urllib3.connectionpool] DEBUG: Starting new HTTPS connection (1): www.capgemini.com:443\n",
      "2020-03-11 09:20:07 [urllib3.connectionpool] DEBUG: https://www.capgemini.com:443 \"GET /2018/11/ea-reboot-an-executive-point-of-view/ HTTP/1.1\" 200 24871\n",
      "2020-03-11 09:20:07 [urllib3.connectionpool] DEBUG: Starting new HTTPS connection (1): www.capgemini.com:443\n"
     ]
    },
    {
     "name": "stdout",
     "output_type": "stream",
     "text": [
      "https://www.capgemini.com/2018/11/ea-reboot-an-executive-point-of-view/\n",
      "https://www.capgemini.com/2018/10/pacing-up-in-the-new-era-of-customer-engagement/\n"
     ]
    },
    {
     "name": "stderr",
     "output_type": "stream",
     "text": [
      "2020-03-11 09:20:07 [urllib3.connectionpool] DEBUG: https://www.capgemini.com:443 \"GET /2018/10/pacing-up-in-the-new-era-of-customer-engagement/ HTTP/1.1\" 200 23376\n",
      "2020-03-11 09:20:07 [urllib3.connectionpool] DEBUG: Starting new HTTPS connection (1): www.capgemini.com:443\n"
     ]
    },
    {
     "name": "stdout",
     "output_type": "stream",
     "text": [
      "https://www.capgemini.com/2018/10/we-live-in-a-quantum-world/\n"
     ]
    },
    {
     "name": "stderr",
     "output_type": "stream",
     "text": [
      "2020-03-11 09:20:07 [urllib3.connectionpool] DEBUG: https://www.capgemini.com:443 \"GET /2018/10/we-live-in-a-quantum-world/ HTTP/1.1\" 200 None\n",
      "2020-03-11 09:20:08 [urllib3.connectionpool] DEBUG: Starting new HTTPS connection (1): www.capgemini.com:443\n"
     ]
    },
    {
     "name": "stdout",
     "output_type": "stream",
     "text": [
      "https://www.capgemini.com/2018/10/do-consumers-dream-of-chatty-ecommerce/\n"
     ]
    },
    {
     "name": "stderr",
     "output_type": "stream",
     "text": [
      "2020-03-11 09:20:08 [urllib3.connectionpool] DEBUG: https://www.capgemini.com:443 \"GET /2018/10/do-consumers-dream-of-chatty-ecommerce/ HTTP/1.1\" 200 None\n",
      "2020-03-11 09:20:08 [urllib3.connectionpool] DEBUG: Starting new HTTPS connection (1): www.capgemini.com:443\n",
      "2020-03-11 09:20:08 [urllib3.connectionpool] DEBUG: https://www.capgemini.com:443 \"GET /2018/10/finance-automation-in-the-financial-services-sector/ HTTP/1.1\" 200 27214\n",
      "2020-03-11 09:20:08 [urllib3.connectionpool] DEBUG: Starting new HTTPS connection (1): www.capgemini.com:443\n"
     ]
    },
    {
     "name": "stdout",
     "output_type": "stream",
     "text": [
      "https://www.capgemini.com/2018/10/finance-automation-in-the-financial-services-sector/\n",
      "https://www.capgemini.com/2018/10/it-for-business-responsive-it-for-the-business-and-the-user/\n"
     ]
    },
    {
     "name": "stderr",
     "output_type": "stream",
     "text": [
      "2020-03-11 09:20:09 [urllib3.connectionpool] DEBUG: https://www.capgemini.com:443 \"GET /2018/10/it-for-business-responsive-it-for-the-business-and-the-user/ HTTP/1.1\" 200 None\n",
      "2020-03-11 09:20:09 [urllib3.connectionpool] DEBUG: Starting new HTTPS connection (1): www.capgemini.com:443\n"
     ]
    },
    {
     "name": "stdout",
     "output_type": "stream",
     "text": [
      "https://www.capgemini.com/2018/10/moving-with-the-digital-times/\n"
     ]
    },
    {
     "name": "stderr",
     "output_type": "stream",
     "text": [
      "2020-03-11 09:20:10 [urllib3.connectionpool] DEBUG: https://www.capgemini.com:443 \"GET /2018/10/moving-with-the-digital-times/ HTTP/1.1\" 200 None\n",
      "2020-03-11 09:20:10 [urllib3.connectionpool] DEBUG: Starting new HTTPS connection (1): www.capgemini.com:443\n",
      "2020-03-11 09:20:10 [urllib3.connectionpool] DEBUG: https://www.capgemini.com:443 \"GET /2018/10/rpa-and-ai-across-the-intelligent-automation-spectrum/ HTTP/1.1\" 200 26898\n",
      "2020-03-11 09:20:10 [urllib3.connectionpool] DEBUG: Starting new HTTPS connection (1): www.capgemini.com:443\n"
     ]
    },
    {
     "name": "stdout",
     "output_type": "stream",
     "text": [
      "https://www.capgemini.com/2018/10/rpa-and-ai-across-the-intelligent-automation-spectrum/\n",
      "https://www.capgemini.com/2018/10/digital-engagement-offers-bank-customers-a-more-contextual-experience/\n"
     ]
    },
    {
     "name": "stderr",
     "output_type": "stream",
     "text": [
      "2020-03-11 09:20:10 [urllib3.connectionpool] DEBUG: https://www.capgemini.com:443 \"GET /2018/10/digital-engagement-offers-bank-customers-a-more-contextual-experience/ HTTP/1.1\" 200 23003\n",
      "2020-03-11 09:20:10 [urllib3.connectionpool] DEBUG: Starting new HTTPS connection (1): www.capgemini.com:443\n"
     ]
    },
    {
     "name": "stdout",
     "output_type": "stream",
     "text": [
      "https://www.capgemini.com/2018/10/finance-automation-and-media-and-entertainment-businesses/\n"
     ]
    },
    {
     "name": "stderr",
     "output_type": "stream",
     "text": [
      "2020-03-11 09:20:11 [urllib3.connectionpool] DEBUG: https://www.capgemini.com:443 \"GET /2018/10/finance-automation-and-media-and-entertainment-businesses/ HTTP/1.1\" 200 None\n",
      "2020-03-11 09:20:11 [urllib3.connectionpool] DEBUG: Starting new HTTPS connection (1): www.capgemini.com:443\n"
     ]
    },
    {
     "name": "stdout",
     "output_type": "stream",
     "text": [
      "https://www.capgemini.com/2018/10/world-quality-report-18-19-unraveling-the-key-trends-in-qa-and-testing/\n"
     ]
    },
    {
     "name": "stderr",
     "output_type": "stream",
     "text": [
      "2020-03-11 09:20:11 [urllib3.connectionpool] DEBUG: https://www.capgemini.com:443 \"GET /2018/10/world-quality-report-18-19-unraveling-the-key-trends-in-qa-and-testing/ HTTP/1.1\" 200 None\n",
      "2020-03-11 09:20:12 [urllib3.connectionpool] DEBUG: Starting new HTTPS connection (1): www.capgemini.com:443\n"
     ]
    },
    {
     "name": "stdout",
     "output_type": "stream",
     "text": [
      "https://www.capgemini.com/2018/10/the-red-queen-effect-of-digital-manufacturing/\n"
     ]
    },
    {
     "name": "stderr",
     "output_type": "stream",
     "text": [
      "2020-03-11 09:20:12 [urllib3.connectionpool] DEBUG: https://www.capgemini.com:443 \"GET /2018/10/the-red-queen-effect-of-digital-manufacturing/ HTTP/1.1\" 200 None\n",
      "2020-03-11 09:20:12 [urllib3.connectionpool] DEBUG: Starting new HTTPS connection (1): www.capgemini.com:443\n",
      "2020-03-11 09:20:12 [urllib3.connectionpool] DEBUG: https://www.capgemini.com:443 \"GET /2018/10/insurtech-or-the-way-to-innovate-and-disrupt-the-insurance-industry/ HTTP/1.1\" 200 23986\n",
      "2020-03-11 09:20:12 [urllib3.connectionpool] DEBUG: Starting new HTTPS connection (1): www.capgemini.com:443\n"
     ]
    },
    {
     "name": "stdout",
     "output_type": "stream",
     "text": [
      "https://www.capgemini.com/2018/10/insurtech-or-the-way-to-innovate-and-disrupt-the-insurance-industry/\n",
      "https://www.capgemini.com/2018/09/qa-budget-trends-analysis/\n"
     ]
    },
    {
     "name": "stderr",
     "output_type": "stream",
     "text": [
      "2020-03-11 09:20:12 [urllib3.connectionpool] DEBUG: https://www.capgemini.com:443 \"GET /2018/09/qa-budget-trends-analysis/ HTTP/1.1\" 200 26298\n",
      "2020-03-11 09:20:12 [urllib3.connectionpool] DEBUG: Starting new HTTPS connection (1): www.capgemini.com:443\n",
      "2020-03-11 09:20:13 [urllib3.connectionpool] DEBUG: https://www.capgemini.com:443 \"GET /2018/09/insurtechs-offer-insurers-rd-hub-innovation/ HTTP/1.1\" 200 26641\n",
      "2020-03-11 09:20:13 [scrapy.core.engine] DEBUG: Crawled (200) <GET https://www.capgemini.com/2018/09/in-wake-of-disruption-from-multiple-fronts-banks-face-new-realities/> (referer: None)\n",
      "2020-03-11 09:20:13 [scrapy.core.engine] DEBUG: Crawled (200) <GET https://www.capgemini.com/2018/09/capgemini-launches-strategic-initiative-with-amazon-web-services/> (referer: None)\n",
      "2020-03-11 09:20:13 [scrapy.core.engine] DEBUG: Crawled (200) <GET https://www.capgemini.com/2018/09/voice-guiding-businesses-to-the-next-engagement-channel/> (referer: None)\n",
      "2020-03-11 09:20:13 [scrapy.core.engine] DEBUG: Crawled (200) <GET https://www.capgemini.com/2018/09/finance-automation-back-to-basics/> (referer: None)\n",
      "2020-03-11 09:20:13 [scrapy.core.engine] DEBUG: Crawled (200) <GET https://www.capgemini.com/2018/09/how-the-machines-are-taking-over-the-uk-energy-sector-and-why-all-of-us-should-want-them-to/> (referer: None)\n",
      "2020-03-11 09:20:13 [scrapy.core.engine] DEBUG: Crawled (200) <GET https://www.capgemini.com/2018/09/cloud-creates-a-frictionless-retail-business/> (referer: None)\n",
      "2020-03-11 09:20:13 [scrapy.core.engine] DEBUG: Crawled (200) <GET https://www.capgemini.com/2018/08/how-uk-water-companies-can-fully-realize-the-potential-of-digital-plants/> (referer: None)\n",
      "2020-03-11 09:20:13 [scrapy.core.engine] DEBUG: Crawled (200) <GET https://www.capgemini.com/2018/08/bots-in-conversational-banking-is-a-revolution-underway/> (referer: None)\n"
     ]
    },
    {
     "name": "stdout",
     "output_type": "stream",
     "text": [
      "https://www.capgemini.com/2018/09/insurtechs-offer-insurers-rd-hub-innovation/\n"
     ]
    },
    {
     "name": "stderr",
     "output_type": "stream",
     "text": [
      "2020-03-11 09:20:13 [urllib3.connectionpool] DEBUG: Starting new HTTPS connection (1): www.capgemini.com:443\n"
     ]
    },
    {
     "name": "stdout",
     "output_type": "stream",
     "text": [
      "https://www.capgemini.com/2018/09/in-wake-of-disruption-from-multiple-fronts-banks-face-new-realities/\n"
     ]
    },
    {
     "name": "stderr",
     "output_type": "stream",
     "text": [
      "2020-03-11 09:20:13 [urllib3.connectionpool] DEBUG: https://www.capgemini.com:443 \"GET /2018/09/in-wake-of-disruption-from-multiple-fronts-banks-face-new-realities/ HTTP/1.1\" 200 None\n",
      "2020-03-11 09:20:13 [scrapy.core.engine] DEBUG: Crawled (200) <GET https://www.capgemini.com/2018/08/bigtech-firms-take-measured-steps-toward-the-insurance-sector/> (referer: None)\n",
      "2020-03-11 09:20:13 [scrapy.core.engine] DEBUG: Crawled (200) <GET https://www.capgemini.com/2018/08/an-emergency-arrives-the-2025-scenario/> (referer: None)\n",
      "2020-03-11 09:20:13 [scrapy.core.engine] DEBUG: Crawled (200) <GET https://www.capgemini.com/2018/08/life-insurers-look-to-rpa-and-ai-for-core-processes/> (referer: None)\n",
      "2020-03-11 09:20:13 [scrapy.core.engine] DEBUG: Crawled (200) <GET https://www.capgemini.com/2018/08/the-future-of-payments-processes-banks-can-take-a-cue-from-successful-bigtech-formula/> (referer: None)\n",
      "2020-03-11 09:20:13 [scrapy.core.engine] DEBUG: Crawled (200) <GET https://www.capgemini.com/2018/08/5g-and-mobile-commerce-a-new-era-of-connectivity/> (referer: None)\n",
      "2020-03-11 09:20:13 [urllib3.connectionpool] DEBUG: Starting new HTTPS connection (1): www.capgemini.com:443\n",
      "2020-03-11 09:20:13 [urllib3.connectionpool] DEBUG: https://www.capgemini.com:443 \"GET /2018/09/capgemini-launches-strategic-initiative-with-amazon-web-services/ HTTP/1.1\" 200 22476\n",
      "2020-03-11 09:20:13 [urllib3.connectionpool] DEBUG: Starting new HTTPS connection (1): www.capgemini.com:443\n"
     ]
    },
    {
     "name": "stdout",
     "output_type": "stream",
     "text": [
      "https://www.capgemini.com/2018/09/capgemini-launches-strategic-initiative-with-amazon-web-services/\n",
      "https://www.capgemini.com/2018/09/voice-guiding-businesses-to-the-next-engagement-channel/\n"
     ]
    },
    {
     "name": "stderr",
     "output_type": "stream",
     "text": [
      "2020-03-11 09:20:13 [urllib3.connectionpool] DEBUG: https://www.capgemini.com:443 \"GET /2018/09/voice-guiding-businesses-to-the-next-engagement-channel/ HTTP/1.1\" 200 22670\n",
      "2020-03-11 09:20:14 [urllib3.connectionpool] DEBUG: Starting new HTTPS connection (1): www.capgemini.com:443\n",
      "2020-03-11 09:20:14 [urllib3.connectionpool] DEBUG: https://www.capgemini.com:443 \"GET /2018/09/finance-automation-back-to-basics/ HTTP/1.1\" 200 23700\n",
      "2020-03-11 09:20:14 [urllib3.connectionpool] DEBUG: Starting new HTTPS connection (1): www.capgemini.com:443\n"
     ]
    },
    {
     "name": "stdout",
     "output_type": "stream",
     "text": [
      "https://www.capgemini.com/2018/09/finance-automation-back-to-basics/\n",
      "https://www.capgemini.com/2018/09/how-the-machines-are-taking-over-the-uk-energy-sector-and-why-all-of-us-should-want-them-to/\n"
     ]
    },
    {
     "name": "stderr",
     "output_type": "stream",
     "text": [
      "2020-03-11 09:20:15 [urllib3.connectionpool] DEBUG: https://www.capgemini.com:443 \"GET /2018/09/how-the-machines-are-taking-over-the-uk-energy-sector-and-why-all-of-us-should-want-them-to/ HTTP/1.1\" 200 None\n",
      "2020-03-11 09:20:15 [urllib3.connectionpool] DEBUG: Starting new HTTPS connection (1): www.capgemini.com:443\n",
      "2020-03-11 09:20:15 [urllib3.connectionpool] DEBUG: https://www.capgemini.com:443 \"GET /2018/09/cloud-creates-a-frictionless-retail-business/ HTTP/1.1\" 200 26024\n",
      "2020-03-11 09:20:15 [urllib3.connectionpool] DEBUG: Starting new HTTPS connection (1): www.capgemini.com:443\n"
     ]
    },
    {
     "name": "stdout",
     "output_type": "stream",
     "text": [
      "https://www.capgemini.com/2018/09/cloud-creates-a-frictionless-retail-business/\n",
      "https://www.capgemini.com/2018/08/how-uk-water-companies-can-fully-realize-the-potential-of-digital-plants/\n"
     ]
    },
    {
     "name": "stderr",
     "output_type": "stream",
     "text": [
      "2020-03-11 09:20:15 [urllib3.connectionpool] DEBUG: https://www.capgemini.com:443 \"GET /2018/08/how-uk-water-companies-can-fully-realize-the-potential-of-digital-plants/ HTTP/1.1\" 200 24561\n",
      "2020-03-11 09:20:15 [urllib3.connectionpool] DEBUG: Starting new HTTPS connection (1): www.capgemini.com:443\n"
     ]
    },
    {
     "name": "stdout",
     "output_type": "stream",
     "text": [
      "https://www.capgemini.com/2018/08/bots-in-conversational-banking-is-a-revolution-underway/\n"
     ]
    },
    {
     "name": "stderr",
     "output_type": "stream",
     "text": [
      "2020-03-11 09:20:16 [urllib3.connectionpool] DEBUG: https://www.capgemini.com:443 \"GET /2018/08/bots-in-conversational-banking-is-a-revolution-underway/ HTTP/1.1\" 200 None\n",
      "2020-03-11 09:20:16 [scrapy.core.engine] DEBUG: Crawled (200) <GET https://www.capgemini.com/2018/08/financial-firms-leverage-automation-to-improve-both-their-top-and-bottom-lines/> (referer: None)\n",
      "2020-03-11 09:20:16 [scrapy.core.engine] DEBUG: Crawled (200) <GET https://www.capgemini.com/2018/08/digital-twin-physical-meets-digital-world/> (referer: None)\n",
      "2020-03-11 09:20:16 [scrapy.core.engine] DEBUG: Crawled (200) <GET https://www.capgemini.com/2018/08/fintech-solutions-drive-emerging-technologies-adoption/> (referer: None)\n",
      "2020-03-11 09:20:16 [urllib3.connectionpool] DEBUG: Starting new HTTPS connection (1): www.capgemini.com:443\n"
     ]
    },
    {
     "name": "stdout",
     "output_type": "stream",
     "text": [
      "https://www.capgemini.com/2018/08/bigtech-firms-take-measured-steps-toward-the-insurance-sector/\n"
     ]
    },
    {
     "name": "stderr",
     "output_type": "stream",
     "text": [
      "2020-03-11 09:20:16 [urllib3.connectionpool] DEBUG: https://www.capgemini.com:443 \"GET /2018/08/bigtech-firms-take-measured-steps-toward-the-insurance-sector/ HTTP/1.1\" 200 None\n",
      "2020-03-11 09:20:17 [urllib3.connectionpool] DEBUG: Starting new HTTPS connection (1): www.capgemini.com:443\n"
     ]
    },
    {
     "name": "stdout",
     "output_type": "stream",
     "text": [
      "https://www.capgemini.com/2018/08/an-emergency-arrives-the-2025-scenario/\n"
     ]
    },
    {
     "name": "stderr",
     "output_type": "stream",
     "text": [
      "2020-03-11 09:20:17 [urllib3.connectionpool] DEBUG: https://www.capgemini.com:443 \"GET /2018/08/an-emergency-arrives-the-2025-scenario/ HTTP/1.1\" 200 None\n",
      "2020-03-11 09:20:17 [urllib3.connectionpool] DEBUG: Starting new HTTPS connection (1): www.capgemini.com:443\n",
      "2020-03-11 09:20:17 [urllib3.connectionpool] DEBUG: https://www.capgemini.com:443 \"GET /2018/08/life-insurers-look-to-rpa-and-ai-for-core-processes/ HTTP/1.1\" 200 26973\n",
      "2020-03-11 09:20:17 [urllib3.connectionpool] DEBUG: Starting new HTTPS connection (1): www.capgemini.com:443\n"
     ]
    },
    {
     "name": "stdout",
     "output_type": "stream",
     "text": [
      "https://www.capgemini.com/2018/08/life-insurers-look-to-rpa-and-ai-for-core-processes/\n",
      "https://www.capgemini.com/2018/08/the-future-of-payments-processes-banks-can-take-a-cue-from-successful-bigtech-formula/\n"
     ]
    },
    {
     "name": "stderr",
     "output_type": "stream",
     "text": [
      "2020-03-11 09:20:18 [urllib3.connectionpool] DEBUG: https://www.capgemini.com:443 \"GET /2018/08/the-future-of-payments-processes-banks-can-take-a-cue-from-successful-bigtech-formula/ HTTP/1.1\" 200 None\n",
      "2020-03-11 09:20:18 [urllib3.connectionpool] DEBUG: Starting new HTTPS connection (1): www.capgemini.com:443\n",
      "2020-03-11 09:20:18 [urllib3.connectionpool] DEBUG: https://www.capgemini.com:443 \"GET /2018/08/5g-and-mobile-commerce-a-new-era-of-connectivity/ HTTP/1.1\" 200 26801\n",
      "2020-03-11 09:20:18 [scrapy.extensions.logstats] INFO: Crawled 299 pages (at 146 pages/min), scraped 0 items (at 0 items/min)\n",
      "2020-03-11 09:20:18 [scrapy.core.engine] DEBUG: Crawled (200) <GET https://www.capgemini.com/2018/07/marketing-disruption-5-7-how-can-marketing-managers-effectively-reduce-their-customers-data-privacy-concerns/> (referer: None)\n",
      "2020-03-11 09:20:18 [scrapy.core.engine] DEBUG: Crawled (200) <GET https://www.capgemini.com/2018/07/how-wealth-managers-can-use-insights-from-ai-and-machine-learning/> (referer: None)\n",
      "2020-03-11 09:20:18 [urllib3.connectionpool] DEBUG: Starting new HTTPS connection (1): www.capgemini.com:443\n"
     ]
    },
    {
     "name": "stdout",
     "output_type": "stream",
     "text": [
      "https://www.capgemini.com/2018/08/5g-and-mobile-commerce-a-new-era-of-connectivity/\n",
      "https://www.capgemini.com/2018/08/financial-firms-leverage-automation-to-improve-both-their-top-and-bottom-lines/\n"
     ]
    },
    {
     "name": "stderr",
     "output_type": "stream",
     "text": [
      "2020-03-11 09:20:18 [urllib3.connectionpool] DEBUG: https://www.capgemini.com:443 \"GET /2018/08/financial-firms-leverage-automation-to-improve-both-their-top-and-bottom-lines/ HTTP/1.1\" 200 28027\n",
      "2020-03-11 09:20:18 [urllib3.connectionpool] DEBUG: Starting new HTTPS connection (1): www.capgemini.com:443\n"
     ]
    },
    {
     "name": "stdout",
     "output_type": "stream",
     "text": [
      "https://www.capgemini.com/2018/08/digital-twin-physical-meets-digital-world/\n"
     ]
    },
    {
     "name": "stderr",
     "output_type": "stream",
     "text": [
      "2020-03-11 09:20:19 [urllib3.connectionpool] DEBUG: https://www.capgemini.com:443 \"GET /2018/08/digital-twin-physical-meets-digital-world/ HTTP/1.1\" 200 None\n",
      "2020-03-11 09:20:19 [urllib3.connectionpool] DEBUG: Starting new HTTPS connection (1): www.capgemini.com:443\n",
      "2020-03-11 09:20:19 [urllib3.connectionpool] DEBUG: https://www.capgemini.com:443 \"GET /2018/08/fintech-solutions-drive-emerging-technologies-adoption/ HTTP/1.1\" 200 26394\n",
      "2020-03-11 09:20:19 [scrapy.core.engine] DEBUG: Crawled (200) <GET https://www.capgemini.com/2018/07/how-is-ai-changing-the-game-for-nextgen-cx/> (referer: None)\n",
      "2020-03-11 09:20:19 [urllib3.connectionpool] DEBUG: Starting new HTTPS connection (1): www.capgemini.com:443\n"
     ]
    },
    {
     "name": "stdout",
     "output_type": "stream",
     "text": [
      "https://www.capgemini.com/2018/08/fintech-solutions-drive-emerging-technologies-adoption/\n",
      "https://www.capgemini.com/2018/07/marketing-disruption-5-7-how-can-marketing-managers-effectively-reduce-their-customers-data-privacy-concerns/\n"
     ]
    },
    {
     "name": "stderr",
     "output_type": "stream",
     "text": [
      "2020-03-11 09:20:19 [urllib3.connectionpool] DEBUG: https://www.capgemini.com:443 \"GET /2018/07/marketing-disruption-5-7-how-can-marketing-managers-effectively-reduce-their-customers-data-privacy-concerns/ HTTP/1.1\" 200 26874\n",
      "2020-03-11 09:20:19 [urllib3.connectionpool] DEBUG: Starting new HTTPS connection (1): www.capgemini.com:443\n"
     ]
    },
    {
     "name": "stdout",
     "output_type": "stream",
     "text": [
      "https://www.capgemini.com/2018/07/how-wealth-managers-can-use-insights-from-ai-and-machine-learning/\n"
     ]
    },
    {
     "name": "stderr",
     "output_type": "stream",
     "text": [
      "2020-03-11 09:20:20 [urllib3.connectionpool] DEBUG: https://www.capgemini.com:443 \"GET /2018/07/how-wealth-managers-can-use-insights-from-ai-and-machine-learning/ HTTP/1.1\" 200 None\n",
      "2020-03-11 09:20:20 [scrapy.core.engine] DEBUG: Crawled (200) <GET https://www.capgemini.com/2018/07/augmented-ai-getting-to-the-heart-of-the-matter/> (referer: None)\n",
      "2020-03-11 09:20:20 [urllib3.connectionpool] DEBUG: Starting new HTTPS connection (1): www.capgemini.com:443\n"
     ]
    },
    {
     "name": "stdout",
     "output_type": "stream",
     "text": [
      "https://www.capgemini.com/2018/07/how-is-ai-changing-the-game-for-nextgen-cx/\n"
     ]
    },
    {
     "name": "stderr",
     "output_type": "stream",
     "text": [
      "2020-03-11 09:20:20 [urllib3.connectionpool] DEBUG: https://www.capgemini.com:443 \"GET /2018/07/how-is-ai-changing-the-game-for-nextgen-cx/ HTTP/1.1\" 200 None\n",
      "2020-03-11 09:20:20 [scrapy.core.engine] DEBUG: Crawled (200) <GET https://www.capgemini.com/2018/07/people-the-backbone-of-every-innovation-lab/> (referer: None)\n",
      "2020-03-11 09:20:20 [urllib3.connectionpool] DEBUG: Starting new HTTPS connection (1): www.capgemini.com:443\n"
     ]
    },
    {
     "name": "stdout",
     "output_type": "stream",
     "text": [
      "https://www.capgemini.com/2018/07/augmented-ai-getting-to-the-heart-of-the-matter/\n"
     ]
    },
    {
     "name": "stderr",
     "output_type": "stream",
     "text": [
      "2020-03-11 09:20:21 [urllib3.connectionpool] DEBUG: https://www.capgemini.com:443 \"GET /2018/07/augmented-ai-getting-to-the-heart-of-the-matter/ HTTP/1.1\" 200 None\n",
      "2020-03-11 09:20:21 [scrapy.core.engine] DEBUG: Crawled (200) <GET https://www.capgemini.com/2018/07/being-successful-with-your-proof-of-concept-for-the-next-digital-experience-of-your-customer/> (referer: None)\n",
      "2020-03-11 09:20:21 [urllib3.connectionpool] DEBUG: Starting new HTTPS connection (1): www.capgemini.com:443\n",
      "2020-03-11 09:20:21 [urllib3.connectionpool] DEBUG: https://www.capgemini.com:443 \"GET /2018/07/people-the-backbone-of-every-innovation-lab/ HTTP/1.1\" 200 26981\n",
      "2020-03-11 09:20:21 [urllib3.connectionpool] DEBUG: Starting new HTTPS connection (1): www.capgemini.com:443\n"
     ]
    },
    {
     "name": "stdout",
     "output_type": "stream",
     "text": [
      "https://www.capgemini.com/2018/07/people-the-backbone-of-every-innovation-lab/\n",
      "https://www.capgemini.com/2018/07/being-successful-with-your-proof-of-concept-for-the-next-digital-experience-of-your-customer/\n"
     ]
    },
    {
     "name": "stderr",
     "output_type": "stream",
     "text": [
      "2020-03-11 09:20:21 [urllib3.connectionpool] DEBUG: https://www.capgemini.com:443 \"GET /2018/07/being-successful-with-your-proof-of-concept-for-the-next-digital-experience-of-your-customer/ HTTP/1.1\" 200 22535\n",
      "2020-03-11 09:20:22 [scrapy.core.engine] DEBUG: Crawled (200) <GET https://www.capgemini.com/2018/07/iot-industrialization-and-roi/> (referer: None)\n",
      "2020-03-11 09:20:22 [scrapy.core.engine] DEBUG: Crawled (200) <GET https://www.capgemini.com/2018/07/capgemini-databricks-partnership/> (referer: None)\n",
      "2020-03-11 09:20:22 [urllib3.connectionpool] DEBUG: Starting new HTTPS connection (1): www.capgemini.com:443\n",
      "2020-03-11 09:20:22 [urllib3.connectionpool] DEBUG: https://www.capgemini.com:443 \"GET /2018/07/iot-industrialization-and-roi/ HTTP/1.1\" 200 26700\n",
      "2020-03-11 09:20:22 [scrapy.core.engine] DEBUG: Crawled (200) <GET https://www.capgemini.com/2018/06/healthcare-insurtechs-bridge-ecosystem-gaps/> (referer: None)\n",
      "2020-03-11 09:20:22 [urllib3.connectionpool] DEBUG: Starting new HTTPS connection (1): www.capgemini.com:443\n"
     ]
    },
    {
     "name": "stdout",
     "output_type": "stream",
     "text": [
      "https://www.capgemini.com/2018/07/iot-industrialization-and-roi/\n",
      "https://www.capgemini.com/2018/07/capgemini-databricks-partnership/\n"
     ]
    },
    {
     "name": "stderr",
     "output_type": "stream",
     "text": [
      "2020-03-11 09:20:22 [urllib3.connectionpool] DEBUG: https://www.capgemini.com:443 \"GET /2018/07/capgemini-databricks-partnership/ HTTP/1.1\" 200 22969\n",
      "2020-03-11 09:20:22 [scrapy.core.engine] DEBUG: Crawled (200) <GET https://www.capgemini.com/2018/07/marketing-disruption1-7-the-digital-transformation-of-marketing/> (referer: None)\n",
      "2020-03-11 09:20:22 [scrapy.core.engine] DEBUG: Crawled (200) <GET https://www.capgemini.com/2018/07/why-you-shouldnt-ask-alexa-to-be-your-friend/> (referer: None)\n",
      "2020-03-11 09:20:22 [scrapy.core.engine] DEBUG: Crawled (200) <GET https://www.capgemini.com/2018/06/cutting-network-field-operation-costs-by-up-to-25-with-rpa-ai-while-enhancing-the-quality-of-service/> (referer: None)\n",
      "2020-03-11 09:20:22 [scrapy.core.engine] DEBUG: Crawled (200) <GET https://www.capgemini.com/2018/06/digital-agility-for-insurers-the-key-to-future-readiness/> (referer: None)\n",
      "2020-03-11 09:20:22 [urllib3.connectionpool] DEBUG: Starting new HTTPS connection (1): www.capgemini.com:443\n"
     ]
    },
    {
     "name": "stdout",
     "output_type": "stream",
     "text": [
      "https://www.capgemini.com/2018/06/healthcare-insurtechs-bridge-ecosystem-gaps/\n"
     ]
    },
    {
     "name": "stderr",
     "output_type": "stream",
     "text": [
      "2020-03-11 09:20:23 [urllib3.connectionpool] DEBUG: https://www.capgemini.com:443 \"GET /2018/06/healthcare-insurtechs-bridge-ecosystem-gaps/ HTTP/1.1\" 200 None\n",
      "2020-03-11 09:20:23 [scrapy.core.engine] DEBUG: Crawled (200) <GET https://www.capgemini.com/2018/07/business-stream-accelerates-customer-onboarding-with-rpa/> (referer: None)\n",
      "2020-03-11 09:20:23 [scrapy.core.engine] DEBUG: Crawled (200) <GET https://www.capgemini.com/article/technology-talk-2/> (referer: None)\n",
      "2020-03-11 09:20:23 [scrapy.core.engine] DEBUG: Crawled (200) <GET https://www.capgemini.com/2018/06/watching-the-finance-automation-masters/> (referer: None)\n",
      "2020-03-11 09:20:23 [scrapy.core.engine] DEBUG: Crawled (200) <GET https://www.capgemini.com/2018/06/coming-soon-the-wwr-2018/> (referer: None)\n",
      "2020-03-11 09:20:23 [urllib3.connectionpool] DEBUG: Starting new HTTPS connection (1): www.capgemini.com:443\n",
      "2020-03-11 09:20:23 [urllib3.connectionpool] DEBUG: https://www.capgemini.com:443 \"GET /2018/07/marketing-disruption1-7-the-digital-transformation-of-marketing/ HTTP/1.1\" 200 27687\n",
      "2020-03-11 09:20:23 [urllib3.connectionpool] DEBUG: Starting new HTTPS connection (1): www.capgemini.com:443\n"
     ]
    },
    {
     "name": "stdout",
     "output_type": "stream",
     "text": [
      "https://www.capgemini.com/2018/07/marketing-disruption1-7-the-digital-transformation-of-marketing/\n",
      "https://www.capgemini.com/2018/07/why-you-shouldnt-ask-alexa-to-be-your-friend/\n"
     ]
    },
    {
     "name": "stderr",
     "output_type": "stream",
     "text": [
      "2020-03-11 09:20:23 [urllib3.connectionpool] DEBUG: https://www.capgemini.com:443 \"GET /2018/07/why-you-shouldnt-ask-alexa-to-be-your-friend/ HTTP/1.1\" 200 None\n",
      "2020-03-11 09:20:24 [urllib3.connectionpool] DEBUG: Starting new HTTPS connection (1): www.capgemini.com:443\n",
      "2020-03-11 09:20:24 [urllib3.connectionpool] DEBUG: https://www.capgemini.com:443 \"GET /2018/06/cutting-network-field-operation-costs-by-up-to-25-with-rpa-ai-while-enhancing-the-quality-of-service/ HTTP/1.1\" 200 27779\n",
      "2020-03-11 09:20:24 [urllib3.connectionpool] DEBUG: Starting new HTTPS connection (1): www.capgemini.com:443\n"
     ]
    },
    {
     "name": "stdout",
     "output_type": "stream",
     "text": [
      "https://www.capgemini.com/2018/06/cutting-network-field-operation-costs-by-up-to-25-with-rpa-ai-while-enhancing-the-quality-of-service/\n",
      "https://www.capgemini.com/2018/06/digital-agility-for-insurers-the-key-to-future-readiness/\n"
     ]
    },
    {
     "name": "stderr",
     "output_type": "stream",
     "text": [
      "2020-03-11 09:20:24 [urllib3.connectionpool] DEBUG: https://www.capgemini.com:443 \"GET /2018/06/digital-agility-for-insurers-the-key-to-future-readiness/ HTTP/1.1\" 200 23841\n",
      "2020-03-11 09:20:24 [scrapy.core.engine] DEBUG: Crawled (200) <GET https://www.capgemini.com/article/a-reduced-paper-environment-for-enhanced-data-collection/> (referer: None)\n",
      "2020-03-11 09:20:24 [scrapy.core.engine] DEBUG: Crawled (200) <GET https://www.capgemini.com/2018/06/machine-learning-models-alternative-data-sources-expand-banks-credit-scoreable-population/> (referer: None)\n",
      "2020-03-11 09:20:24 [scrapy.core.engine] DEBUG: Crawled (200) <GET https://www.capgemini.com/2018/06/cfos-are-getting-excited/> (referer: None)\n",
      "2020-03-11 09:20:24 [scrapy.core.engine] DEBUG: Crawled (200) <GET https://www.capgemini.com/2018/05/prepping-for-the-oracle-ai-cloud-the-infrastructure/> (referer: None)\n",
      "2020-03-11 09:20:24 [urllib3.connectionpool] DEBUG: Starting new HTTPS connection (1): www.capgemini.com:443\n"
     ]
    },
    {
     "name": "stdout",
     "output_type": "stream",
     "text": [
      "https://www.capgemini.com/2018/07/business-stream-accelerates-customer-onboarding-with-rpa/\n"
     ]
    },
    {
     "name": "stderr",
     "output_type": "stream",
     "text": [
      "2020-03-11 09:20:25 [urllib3.connectionpool] DEBUG: https://www.capgemini.com:443 \"GET /2018/07/business-stream-accelerates-customer-onboarding-with-rpa/ HTTP/1.1\" 200 None\n",
      "2020-03-11 09:20:25 [urllib3.connectionpool] DEBUG: Starting new HTTPS connection (1): www.capgemini.com:443\n"
     ]
    },
    {
     "name": "stdout",
     "output_type": "stream",
     "text": [
      "https://www.capgemini.com/article/technology-talk-2/\n"
     ]
    },
    {
     "name": "stderr",
     "output_type": "stream",
     "text": [
      "2020-03-11 09:20:25 [urllib3.connectionpool] DEBUG: https://www.capgemini.com:443 \"GET /article/technology-talk-2/ HTTP/1.1\" 200 None\n",
      "2020-03-11 09:20:25 [urllib3.connectionpool] DEBUG: Starting new HTTPS connection (1): www.capgemini.com:443\n"
     ]
    },
    {
     "name": "stdout",
     "output_type": "stream",
     "text": [
      "https://www.capgemini.com/2018/06/watching-the-finance-automation-masters/\n"
     ]
    },
    {
     "name": "stderr",
     "output_type": "stream",
     "text": [
      "2020-03-11 09:20:26 [urllib3.connectionpool] DEBUG: https://www.capgemini.com:443 \"GET /2018/06/watching-the-finance-automation-masters/ HTTP/1.1\" 200 None\n",
      "2020-03-11 09:20:26 [urllib3.connectionpool] DEBUG: Starting new HTTPS connection (1): www.capgemini.com:443\n",
      "2020-03-11 09:20:26 [urllib3.connectionpool] DEBUG: https://www.capgemini.com:443 \"GET /2018/06/coming-soon-the-wwr-2018/ HTTP/1.1\" 200 22061\n",
      "2020-03-11 09:20:26 [scrapy.core.engine] DEBUG: Crawled (200) <GET https://www.capgemini.com/2018/05/prepping-for-the-oracle-ai-cloud-libraries-and-tools/> (referer: None)\n",
      "2020-03-11 09:20:26 [scrapy.core.engine] DEBUG: Crawled (200) <GET https://www.capgemini.com/2018/05/the-business-case-for-the-oracle-ai-cloud/> (referer: None)\n",
      "2020-03-11 09:20:26 [scrapy.core.engine] DEBUG: Crawled (200) <GET https://www.capgemini.com/2018/05/modern-digital-estate-with-ai/> (referer: None)\n",
      "2020-03-11 09:20:26 [scrapy.core.engine] DEBUG: Crawled (200) <GET https://www.capgemini.com/2018/05/scalingup-innovation-through-effective-collaboration/> (referer: None)\n",
      "2020-03-11 09:20:26 [urllib3.connectionpool] DEBUG: Starting new HTTPS connection (1): www.capgemini.com:443\n"
     ]
    },
    {
     "name": "stdout",
     "output_type": "stream",
     "text": [
      "https://www.capgemini.com/2018/06/coming-soon-the-wwr-2018/\n",
      "https://www.capgemini.com/article/a-reduced-paper-environment-for-enhanced-data-collection/\n"
     ]
    },
    {
     "name": "stderr",
     "output_type": "stream",
     "text": [
      "2020-03-11 09:20:27 [urllib3.connectionpool] DEBUG: https://www.capgemini.com:443 \"GET /article/a-reduced-paper-environment-for-enhanced-data-collection/ HTTP/1.1\" 200 None\n",
      "2020-03-11 09:20:27 [urllib3.connectionpool] DEBUG: Starting new HTTPS connection (1): www.capgemini.com:443\n"
     ]
    },
    {
     "name": "stdout",
     "output_type": "stream",
     "text": [
      "https://www.capgemini.com/2018/06/machine-learning-models-alternative-data-sources-expand-banks-credit-scoreable-population/\n"
     ]
    },
    {
     "name": "stderr",
     "output_type": "stream",
     "text": [
      "2020-03-11 09:20:28 [urllib3.connectionpool] DEBUG: https://www.capgemini.com:443 \"GET /2018/06/machine-learning-models-alternative-data-sources-expand-banks-credit-scoreable-population/ HTTP/1.1\" 200 None\n",
      "2020-03-11 09:20:28 [urllib3.connectionpool] DEBUG: Starting new HTTPS connection (1): www.capgemini.com:443\n",
      "2020-03-11 09:20:28 [urllib3.connectionpool] DEBUG: https://www.capgemini.com:443 \"GET /2018/06/cfos-are-getting-excited/ HTTP/1.1\" 200 26360\n",
      "2020-03-11 09:20:28 [urllib3.connectionpool] DEBUG: Starting new HTTPS connection (1): www.capgemini.com:443\n"
     ]
    },
    {
     "name": "stdout",
     "output_type": "stream",
     "text": [
      "https://www.capgemini.com/2018/06/cfos-are-getting-excited/\n",
      "https://www.capgemini.com/2018/05/prepping-for-the-oracle-ai-cloud-the-infrastructure/\n"
     ]
    },
    {
     "name": "stderr",
     "output_type": "stream",
     "text": [
      "2020-03-11 09:20:28 [urllib3.connectionpool] DEBUG: https://www.capgemini.com:443 \"GET /2018/05/prepping-for-the-oracle-ai-cloud-the-infrastructure/ HTTP/1.1\" 200 None\n",
      "2020-03-11 09:20:29 [scrapy.core.engine] DEBUG: Crawled (200) <GET https://www.capgemini.com/2018/05/next-best-everything/> (referer: None)\n",
      "2020-03-11 09:20:29 [scrapy.core.engine] DEBUG: Crawled (200) <GET https://www.capgemini.com/2018/05/new-business-models-in-property-casualty-insurance/> (referer: None)\n",
      "2020-03-11 09:20:29 [urllib3.connectionpool] DEBUG: Starting new HTTPS connection (1): www.capgemini.com:443\n"
     ]
    },
    {
     "name": "stdout",
     "output_type": "stream",
     "text": [
      "https://www.capgemini.com/2018/05/prepping-for-the-oracle-ai-cloud-libraries-and-tools/\n"
     ]
    },
    {
     "name": "stderr",
     "output_type": "stream",
     "text": [
      "2020-03-11 09:20:29 [urllib3.connectionpool] DEBUG: https://www.capgemini.com:443 \"GET /2018/05/prepping-for-the-oracle-ai-cloud-libraries-and-tools/ HTTP/1.1\" 200 None\n",
      "2020-03-11 09:20:29 [urllib3.connectionpool] DEBUG: Starting new HTTPS connection (1): www.capgemini.com:443\n",
      "2020-03-11 09:20:29 [urllib3.connectionpool] DEBUG: https://www.capgemini.com:443 \"GET /2018/05/the-business-case-for-the-oracle-ai-cloud/ HTTP/1.1\" 200 23358\n",
      "2020-03-11 09:20:29 [urllib3.connectionpool] DEBUG: Starting new HTTPS connection (1): www.capgemini.com:443\n",
      "2020-03-11 09:20:29 [urllib3.connectionpool] DEBUG: https://www.capgemini.com:443 \"GET /2018/05/modern-digital-estate-with-ai/ HTTP/1.1\" 200 27248\n"
     ]
    },
    {
     "name": "stdout",
     "output_type": "stream",
     "text": [
      "https://www.capgemini.com/2018/05/the-business-case-for-the-oracle-ai-cloud/\n",
      "https://www.capgemini.com/2018/05/modern-digital-estate-with-ai/\n"
     ]
    },
    {
     "name": "stderr",
     "output_type": "stream",
     "text": [
      "2020-03-11 09:20:29 [urllib3.connectionpool] DEBUG: Starting new HTTPS connection (1): www.capgemini.com:443\n",
      "2020-03-11 09:20:30 [urllib3.connectionpool] DEBUG: https://www.capgemini.com:443 \"GET /2018/05/scalingup-innovation-through-effective-collaboration/ HTTP/1.1\" 200 22274\n",
      "2020-03-11 09:20:30 [scrapy.core.engine] DEBUG: Crawled (200) <GET https://www.capgemini.com/article/top-6-start-ups/> (referer: None)\n",
      "2020-03-11 09:20:30 [urllib3.connectionpool] DEBUG: Starting new HTTPS connection (1): www.capgemini.com:443\n"
     ]
    },
    {
     "name": "stdout",
     "output_type": "stream",
     "text": [
      "https://www.capgemini.com/2018/05/scalingup-innovation-through-effective-collaboration/\n",
      "https://www.capgemini.com/2018/05/next-best-everything/\n"
     ]
    },
    {
     "name": "stderr",
     "output_type": "stream",
     "text": [
      "2020-03-11 09:20:30 [urllib3.connectionpool] DEBUG: https://www.capgemini.com:443 \"GET /2018/05/next-best-everything/ HTTP/1.1\" 200 26033\n",
      "2020-03-11 09:20:30 [urllib3.connectionpool] DEBUG: Starting new HTTPS connection (1): www.capgemini.com:443\n",
      "2020-03-11 09:20:30 [urllib3.connectionpool] DEBUG: https://www.capgemini.com:443 \"GET /2018/05/new-business-models-in-property-casualty-insurance/ HTTP/1.1\" 200 28165\n",
      "2020-03-11 09:20:30 [urllib3.connectionpool] DEBUG: Starting new HTTPS connection (1): www.capgemini.com:443\n"
     ]
    },
    {
     "name": "stdout",
     "output_type": "stream",
     "text": [
      "https://www.capgemini.com/2018/05/new-business-models-in-property-casualty-insurance/\n",
      "https://www.capgemini.com/article/top-6-start-ups/\n"
     ]
    },
    {
     "name": "stderr",
     "output_type": "stream",
     "text": [
      "2020-03-11 09:20:30 [urllib3.connectionpool] DEBUG: https://www.capgemini.com:443 \"GET /article/top-6-start-ups/ HTTP/1.1\" 200 None\n",
      "2020-03-11 09:20:31 [scrapy.core.engine] DEBUG: Crawled (200) <GET https://www.capgemini.com/2018/05/ai-outsourcing-a-safe-pair-of-virtual-hands/> (referer: None)\n",
      "2020-03-11 09:20:31 [scrapy.core.engine] DEBUG: Crawled (200) <GET https://www.capgemini.com/2018/05/hr-robots-cut-cost-or-add-value/> (referer: None)\n",
      "2020-03-11 09:20:31 [urllib3.connectionpool] DEBUG: Starting new HTTPS connection (1): www.capgemini.com:443\n"
     ]
    },
    {
     "name": "stdout",
     "output_type": "stream",
     "text": [
      "https://www.capgemini.com/2018/05/ai-outsourcing-a-safe-pair-of-virtual-hands/\n"
     ]
    },
    {
     "name": "stderr",
     "output_type": "stream",
     "text": [
      "2020-03-11 09:20:31 [urllib3.connectionpool] DEBUG: https://www.capgemini.com:443 \"GET /2018/05/ai-outsourcing-a-safe-pair-of-virtual-hands/ HTTP/1.1\" 200 None\n",
      "2020-03-11 09:20:31 [scrapy.core.engine] DEBUG: Crawled (200) <GET https://www.capgemini.com/2018/05/a-sense-of-optimism-in-your-business-with-iot-technologies/> (referer: None)\n",
      "2020-03-11 09:20:31 [scrapy.core.engine] DEBUG: Crawled (200) <GET https://www.capgemini.com/2018/04/enterprise-knowledge-management-were-all-in-the-entertainment-industry-now/> (referer: None)\n",
      "2020-03-11 09:20:31 [scrapy.core.engine] DEBUG: Crawled (200) <GET https://www.capgemini.com/2018/04/rethinking-revenue-generation-in-the-age-of-open-banking/> (referer: None)\n",
      "2020-03-11 09:20:31 [scrapy.core.engine] DEBUG: Crawled (200) <GET https://www.capgemini.com/2018/05/architecture-at-capgemini-and-the-power-of-one/> (referer: None)\n",
      "2020-03-11 09:20:31 [scrapy.core.engine] DEBUG: Crawled (200) <GET https://www.capgemini.com/2018/04/blockchain-could-transform-trade-promotion/> (referer: None)\n",
      "2020-03-11 09:20:31 [scrapy.core.engine] DEBUG: Crawled (200) <GET https://www.capgemini.com/2018/04/digital-marketing-driving-personalized-relationships-with-financial-services-customers/> (referer: None)\n",
      "2020-03-11 09:20:31 [scrapy.core.engine] DEBUG: Crawled (200) <GET https://www.capgemini.com/2018/05/virtual-delivery-centers-intelligent-automation-and-kindergartens/> (referer: None)\n",
      "2020-03-11 09:20:31 [scrapy.core.engine] DEBUG: Crawled (200) <GET https://www.capgemini.com/2018/05/pc-insurers-add-automation-to-their-efficiency-toolkits/> (referer: None)\n",
      "2020-03-11 09:20:31 [urllib3.connectionpool] DEBUG: Starting new HTTPS connection (1): www.capgemini.com:443\n",
      "2020-03-11 09:20:32 [urllib3.connectionpool] DEBUG: https://www.capgemini.com:443 \"GET /2018/05/hr-robots-cut-cost-or-add-value/ HTTP/1.1\" 200 26722\n",
      "2020-03-11 09:20:32 [urllib3.connectionpool] DEBUG: Starting new HTTPS connection (1): www.capgemini.com:443\n"
     ]
    },
    {
     "name": "stdout",
     "output_type": "stream",
     "text": [
      "https://www.capgemini.com/2018/05/hr-robots-cut-cost-or-add-value/\n",
      "https://www.capgemini.com/2018/05/a-sense-of-optimism-in-your-business-with-iot-technologies/\n"
     ]
    },
    {
     "name": "stderr",
     "output_type": "stream",
     "text": [
      "2020-03-11 09:20:32 [urllib3.connectionpool] DEBUG: https://www.capgemini.com:443 \"GET /2018/05/a-sense-of-optimism-in-your-business-with-iot-technologies/ HTTP/1.1\" 200 23112\n",
      "2020-03-11 09:20:32 [urllib3.connectionpool] DEBUG: Starting new HTTPS connection (1): www.capgemini.com:443\n",
      "2020-03-11 09:20:32 [urllib3.connectionpool] DEBUG: https://www.capgemini.com:443 \"GET /2018/04/enterprise-knowledge-management-were-all-in-the-entertainment-industry-now/ HTTP/1.1\" 200 26878\n",
      "2020-03-11 09:20:32 [urllib3.connectionpool] DEBUG: Starting new HTTPS connection (1): www.capgemini.com:443\n"
     ]
    },
    {
     "name": "stdout",
     "output_type": "stream",
     "text": [
      "https://www.capgemini.com/2018/04/enterprise-knowledge-management-were-all-in-the-entertainment-industry-now/\n",
      "https://www.capgemini.com/2018/04/rethinking-revenue-generation-in-the-age-of-open-banking/\n"
     ]
    },
    {
     "name": "stderr",
     "output_type": "stream",
     "text": [
      "2020-03-11 09:20:33 [urllib3.connectionpool] DEBUG: https://www.capgemini.com:443 \"GET /2018/04/rethinking-revenue-generation-in-the-age-of-open-banking/ HTTP/1.1\" 200 None\n",
      "2020-03-11 09:20:33 [urllib3.connectionpool] DEBUG: Starting new HTTPS connection (1): www.capgemini.com:443\n"
     ]
    },
    {
     "name": "stdout",
     "output_type": "stream",
     "text": [
      "https://www.capgemini.com/2018/05/architecture-at-capgemini-and-the-power-of-one/\n"
     ]
    },
    {
     "name": "stderr",
     "output_type": "stream",
     "text": [
      "2020-03-11 09:20:33 [urllib3.connectionpool] DEBUG: https://www.capgemini.com:443 \"GET /2018/05/architecture-at-capgemini-and-the-power-of-one/ HTTP/1.1\" 200 None\n",
      "2020-03-11 09:20:33 [urllib3.connectionpool] DEBUG: Starting new HTTPS connection (1): www.capgemini.com:443\n",
      "2020-03-11 09:20:34 [urllib3.connectionpool] DEBUG: https://www.capgemini.com:443 \"GET /2018/04/blockchain-could-transform-trade-promotion/ HTTP/1.1\" 200 28036\n",
      "2020-03-11 09:20:34 [urllib3.connectionpool] DEBUG: Starting new HTTPS connection (1): www.capgemini.com:443\n"
     ]
    },
    {
     "name": "stdout",
     "output_type": "stream",
     "text": [
      "https://www.capgemini.com/2018/04/blockchain-could-transform-trade-promotion/\n",
      "https://www.capgemini.com/2018/04/digital-marketing-driving-personalized-relationships-with-financial-services-customers/\n"
     ]
    },
    {
     "name": "stderr",
     "output_type": "stream",
     "text": [
      "2020-03-11 09:20:34 [urllib3.connectionpool] DEBUG: https://www.capgemini.com:443 \"GET /2018/04/digital-marketing-driving-personalized-relationships-with-financial-services-customers/ HTTP/1.1\" 200 None\n",
      "2020-03-11 09:20:34 [urllib3.connectionpool] DEBUG: Starting new HTTPS connection (1): www.capgemini.com:443\n",
      "2020-03-11 09:20:34 [urllib3.connectionpool] DEBUG: https://www.capgemini.com:443 \"GET /2018/05/virtual-delivery-centers-intelligent-automation-and-kindergartens/ HTTP/1.1\" 200 24599\n",
      "2020-03-11 09:20:34 [urllib3.connectionpool] DEBUG: Starting new HTTPS connection (1): www.capgemini.com:443\n"
     ]
    },
    {
     "name": "stdout",
     "output_type": "stream",
     "text": [
      "https://www.capgemini.com/2018/05/virtual-delivery-centers-intelligent-automation-and-kindergartens/\n",
      "https://www.capgemini.com/2018/05/pc-insurers-add-automation-to-their-efficiency-toolkits/\n"
     ]
    },
    {
     "name": "stderr",
     "output_type": "stream",
     "text": [
      "2020-03-11 09:20:34 [urllib3.connectionpool] DEBUG: https://www.capgemini.com:443 \"GET /2018/05/pc-insurers-add-automation-to-their-efficiency-toolkits/ HTTP/1.1\" 200 23599\n",
      "2020-03-11 09:20:34 [scrapy.core.engine] DEBUG: Crawled (200) <GET https://www.capgemini.com/2018/04/ready-or-not-the-bank-of-the-future-is-taking-shape/> (referer: None)\n",
      "2020-03-11 09:20:34 [scrapy.core.engine] DEBUG: Crawled (200) <GET https://www.capgemini.com/2018/03/theres-never-been-a-more-exciting-time-to-be-a-cfo/> (referer: None)\n",
      "2020-03-11 09:20:34 [scrapy.core.engine] DEBUG: Crawled (200) <GET https://www.capgemini.com/2018/03/robotic-automation-a-bunch-of-benefits/> (referer: None)\n",
      "2020-03-11 09:20:34 [scrapy.core.engine] DEBUG: Crawled (200) <GET https://www.capgemini.com/2018/03/the-retail-offensive-part-4-how-to-make-dealerships-great-again-digital-tools-in-automotive-retail/> (referer: None)\n",
      "2020-03-11 09:20:35 [scrapy.core.engine] DEBUG: Crawled (200) <GET https://www.capgemini.com/2018/03/the-ai-inside-sales-campaign/> (referer: None)\n",
      "2020-03-11 09:20:35 [scrapy.core.engine] DEBUG: Crawled (200) <GET https://www.capgemini.com/2018/03/content-in-the-new-data-landscape/> (referer: None)\n",
      "2020-03-11 09:20:35 [scrapy.core.engine] DEBUG: Crawled (200) <GET https://www.capgemini.com/2018/03/dont-expect-your-machines-to-walk-before-they-can-crawl/> (referer: None)\n",
      "2020-03-11 09:20:35 [scrapy.core.engine] DEBUG: Crawled (200) <GET https://www.capgemini.com/2018/03/towards-a-smart-customer-360/> (referer: None)\n",
      "2020-03-11 09:20:35 [urllib3.connectionpool] DEBUG: Starting new HTTPS connection (1): www.capgemini.com:443\n",
      "2020-03-11 09:20:35 [urllib3.connectionpool] DEBUG: https://www.capgemini.com:443 \"GET /2018/04/ready-or-not-the-bank-of-the-future-is-taking-shape/ HTTP/1.1\" 200 25236\n",
      "2020-03-11 09:20:35 [urllib3.connectionpool] DEBUG: Starting new HTTPS connection (1): www.capgemini.com:443\n"
     ]
    },
    {
     "name": "stdout",
     "output_type": "stream",
     "text": [
      "https://www.capgemini.com/2018/04/ready-or-not-the-bank-of-the-future-is-taking-shape/\n",
      "https://www.capgemini.com/2018/03/theres-never-been-a-more-exciting-time-to-be-a-cfo/\n"
     ]
    },
    {
     "name": "stderr",
     "output_type": "stream",
     "text": [
      "2020-03-11 09:20:35 [urllib3.connectionpool] DEBUG: https://www.capgemini.com:443 \"GET /2018/03/theres-never-been-a-more-exciting-time-to-be-a-cfo/ HTTP/1.1\" 200 27076\n",
      "2020-03-11 09:20:35 [urllib3.connectionpool] DEBUG: Starting new HTTPS connection (1): www.capgemini.com:443\n",
      "2020-03-11 09:20:35 [urllib3.connectionpool] DEBUG: https://www.capgemini.com:443 \"GET /2018/03/robotic-automation-a-bunch-of-benefits/ HTTP/1.1\" 200 23680\n",
      "2020-03-11 09:20:35 [urllib3.connectionpool] DEBUG: Starting new HTTPS connection (1): www.capgemini.com:443\n"
     ]
    },
    {
     "name": "stdout",
     "output_type": "stream",
     "text": [
      "https://www.capgemini.com/2018/03/robotic-automation-a-bunch-of-benefits/\n",
      "https://www.capgemini.com/2018/03/the-retail-offensive-part-4-how-to-make-dealerships-great-again-digital-tools-in-automotive-retail/\n"
     ]
    },
    {
     "name": "stderr",
     "output_type": "stream",
     "text": [
      "2020-03-11 09:20:35 [urllib3.connectionpool] DEBUG: https://www.capgemini.com:443 \"GET /2018/03/the-retail-offensive-part-4-how-to-make-dealerships-great-again-digital-tools-in-automotive-retail/ HTTP/1.1\" 200 26862\n",
      "2020-03-11 09:20:35 [urllib3.connectionpool] DEBUG: Starting new HTTPS connection (1): www.capgemini.com:443\n"
     ]
    },
    {
     "name": "stdout",
     "output_type": "stream",
     "text": [
      "https://www.capgemini.com/2018/03/the-ai-inside-sales-campaign/\n"
     ]
    },
    {
     "name": "stderr",
     "output_type": "stream",
     "text": [
      "2020-03-11 09:20:36 [urllib3.connectionpool] DEBUG: https://www.capgemini.com:443 \"GET /2018/03/the-ai-inside-sales-campaign/ HTTP/1.1\" 200 None\n",
      "2020-03-11 09:20:36 [urllib3.connectionpool] DEBUG: Starting new HTTPS connection (1): www.capgemini.com:443\n"
     ]
    },
    {
     "name": "stdout",
     "output_type": "stream",
     "text": [
      "https://www.capgemini.com/2018/03/content-in-the-new-data-landscape/\n"
     ]
    },
    {
     "name": "stderr",
     "output_type": "stream",
     "text": [
      "2020-03-11 09:20:36 [urllib3.connectionpool] DEBUG: https://www.capgemini.com:443 \"GET /2018/03/content-in-the-new-data-landscape/ HTTP/1.1\" 200 None\n",
      "2020-03-11 09:20:36 [urllib3.connectionpool] DEBUG: Starting new HTTPS connection (1): www.capgemini.com:443\n",
      "2020-03-11 09:20:36 [urllib3.connectionpool] DEBUG: https://www.capgemini.com:443 \"GET /2018/03/dont-expect-your-machines-to-walk-before-they-can-crawl/ HTTP/1.1\" 200 23263\n",
      "2020-03-11 09:20:36 [urllib3.connectionpool] DEBUG: Starting new HTTPS connection (1): www.capgemini.com:443\n"
     ]
    },
    {
     "name": "stdout",
     "output_type": "stream",
     "text": [
      "https://www.capgemini.com/2018/03/dont-expect-your-machines-to-walk-before-they-can-crawl/\n",
      "https://www.capgemini.com/2018/03/towards-a-smart-customer-360/\n"
     ]
    },
    {
     "name": "stderr",
     "output_type": "stream",
     "text": [
      "2020-03-11 09:20:37 [urllib3.connectionpool] DEBUG: https://www.capgemini.com:443 \"GET /2018/03/towards-a-smart-customer-360/ HTTP/1.1\" 200 None\n",
      "2020-03-11 09:20:37 [scrapy.core.engine] DEBUG: Crawled (200) <GET https://www.capgemini.com/article/putting-ai-to-work-with-customers-and-within-the-enterprise/> (referer: None)\n",
      "2020-03-11 09:20:37 [scrapy.core.engine] DEBUG: Crawled (200) <GET https://www.capgemini.com/article/make-ai-a-daily-habit/> (referer: None)\n",
      "2020-03-11 09:20:37 [scrapy.core.engine] DEBUG: Crawled (200) <GET https://www.capgemini.com/article/democratizing-ai-for-traditional-businesses/> (referer: None)\n",
      "2020-03-11 09:20:37 [scrapy.core.engine] DEBUG: Crawled (200) <GET https://www.capgemini.com/article/ai-survival-of-the-smartest/> (referer: None)\n",
      "2020-03-11 09:20:37 [scrapy.core.engine] DEBUG: Crawled (200) <GET https://www.capgemini.com/2018/03/building-a-document-based-chatbot/> (referer: None)\n",
      "2020-03-11 09:20:37 [scrapy.core.engine] DEBUG: Crawled (200) <GET https://www.capgemini.com/2018/03/intelligent-automation/> (referer: None)\n",
      "2020-03-11 09:20:37 [scrapy.core.engine] DEBUG: Crawled (200) <GET https://www.capgemini.com/2018/02/can-a-cpg-company-use-ai-to-directly-influence-a-consumers-purchase/> (referer: None)\n",
      "2020-03-11 09:20:37 [scrapy.core.engine] DEBUG: Crawled (200) <GET https://www.capgemini.com/article/silicon-valley-perspective/> (referer: None)\n",
      "2020-03-11 09:20:37 [urllib3.connectionpool] DEBUG: Starting new HTTPS connection (1): www.capgemini.com:443\n",
      "2020-03-11 09:20:37 [urllib3.connectionpool] DEBUG: https://www.capgemini.com:443 \"GET /article/putting-ai-to-work-with-customers-and-within-the-enterprise/ HTTP/1.1\" 200 29312\n",
      "2020-03-11 09:20:37 [urllib3.connectionpool] DEBUG: Starting new HTTPS connection (1): www.capgemini.com:443\n"
     ]
    },
    {
     "name": "stdout",
     "output_type": "stream",
     "text": [
      "https://www.capgemini.com/article/putting-ai-to-work-with-customers-and-within-the-enterprise/\n",
      "https://www.capgemini.com/article/make-ai-a-daily-habit/\n"
     ]
    },
    {
     "name": "stderr",
     "output_type": "stream",
     "text": [
      "2020-03-11 09:20:38 [urllib3.connectionpool] DEBUG: https://www.capgemini.com:443 \"GET /article/make-ai-a-daily-habit/ HTTP/1.1\" 200 None\n",
      "2020-03-11 09:20:38 [urllib3.connectionpool] DEBUG: Starting new HTTPS connection (1): www.capgemini.com:443\n"
     ]
    },
    {
     "name": "stdout",
     "output_type": "stream",
     "text": [
      "https://www.capgemini.com/article/democratizing-ai-for-traditional-businesses/\n"
     ]
    },
    {
     "name": "stderr",
     "output_type": "stream",
     "text": [
      "2020-03-11 09:20:39 [urllib3.connectionpool] DEBUG: https://www.capgemini.com:443 \"GET /article/democratizing-ai-for-traditional-businesses/ HTTP/1.1\" 200 None\n",
      "2020-03-11 09:20:39 [urllib3.connectionpool] DEBUG: Starting new HTTPS connection (1): www.capgemini.com:443\n",
      "2020-03-11 09:20:39 [urllib3.connectionpool] DEBUG: https://www.capgemini.com:443 \"GET /article/ai-survival-of-the-smartest/ HTTP/1.1\" 200 23391\n",
      "2020-03-11 09:20:39 [urllib3.connectionpool] DEBUG: Starting new HTTPS connection (1): www.capgemini.com:443\n"
     ]
    },
    {
     "name": "stdout",
     "output_type": "stream",
     "text": [
      "https://www.capgemini.com/article/ai-survival-of-the-smartest/\n",
      "https://www.capgemini.com/2018/03/building-a-document-based-chatbot/\n"
     ]
    },
    {
     "name": "stderr",
     "output_type": "stream",
     "text": [
      "2020-03-11 09:20:39 [urllib3.connectionpool] DEBUG: https://www.capgemini.com:443 \"GET /2018/03/building-a-document-based-chatbot/ HTTP/1.1\" 200 24005\n",
      "2020-03-11 09:20:40 [urllib3.connectionpool] DEBUG: Starting new HTTPS connection (1): www.capgemini.com:443\n",
      "2020-03-11 09:20:40 [urllib3.connectionpool] DEBUG: https://www.capgemini.com:443 \"GET /2018/03/intelligent-automation/ HTTP/1.1\" 200 23199\n",
      "2020-03-11 09:20:40 [urllib3.connectionpool] DEBUG: Starting new HTTPS connection (1): www.capgemini.com:443\n"
     ]
    },
    {
     "name": "stdout",
     "output_type": "stream",
     "text": [
      "https://www.capgemini.com/2018/03/intelligent-automation/\n",
      "https://www.capgemini.com/2018/02/can-a-cpg-company-use-ai-to-directly-influence-a-consumers-purchase/\n"
     ]
    },
    {
     "name": "stderr",
     "output_type": "stream",
     "text": [
      "2020-03-11 09:20:40 [urllib3.connectionpool] DEBUG: https://www.capgemini.com:443 \"GET /2018/02/can-a-cpg-company-use-ai-to-directly-influence-a-consumers-purchase/ HTTP/1.1\" 200 None\n",
      "2020-03-11 09:20:40 [urllib3.connectionpool] DEBUG: Starting new HTTPS connection (1): www.capgemini.com:443\n"
     ]
    },
    {
     "name": "stdout",
     "output_type": "stream",
     "text": [
      "https://www.capgemini.com/article/silicon-valley-perspective/\n"
     ]
    },
    {
     "name": "stderr",
     "output_type": "stream",
     "text": [
      "2020-03-11 09:20:41 [urllib3.connectionpool] DEBUG: https://www.capgemini.com:443 \"GET /article/silicon-valley-perspective/ HTTP/1.1\" 200 None\n",
      "2020-03-11 09:20:41 [scrapy.core.engine] DEBUG: Crawled (200) <GET https://www.capgemini.com/2018/02/how-cognitive-solutions-will-change-the-future-of-procurement-and-supply-chain/> (referer: None)\n",
      "2020-03-11 09:20:41 [scrapy.core.engine] DEBUG: Crawled (200) <GET https://www.capgemini.com/2018/02/advice-from-a-ciso-how-to-beat-the-fraudsters/> (referer: None)\n",
      "2020-03-11 09:20:41 [scrapy.core.engine] DEBUG: Crawled (200) <GET https://www.capgemini.com/2018/02/analyzing-software-repositories-to-improve-testing/> (referer: None)\n",
      "2020-03-11 09:20:41 [scrapy.core.engine] DEBUG: Crawled (200) <GET https://www.capgemini.com/2018/02/blockchain-in-supply-chain-management-why-the-trust-machine-can-be-a-game-changer-for-the-delivery-process/> (referer: None)\n",
      "2020-03-11 09:20:41 [scrapy.core.engine] DEBUG: Crawled (200) <GET https://www.capgemini.com/2018/02/blockchain-technology-transforming-the-energy-and-utility-industry/> (referer: None)\n",
      "2020-03-11 09:20:41 [scrapy.core.engine] DEBUG: Crawled (200) <GET https://www.capgemini.com/2018/02/top-energy-and-utilities-trends-2018-2-3/> (referer: None)\n",
      "2020-03-11 09:20:41 [scrapy.core.engine] DEBUG: Crawled (200) <GET https://www.capgemini.com/2018/02/iot-is-changing-the-way-we-improve-customer-experience/> (referer: None)\n",
      "2020-03-11 09:20:41 [scrapy.core.engine] DEBUG: Crawled (200) <GET https://www.capgemini.com/2018/01/path-to-leading-in-healthcare-market-paved-by-digital-transformation/> (referer: None)\n",
      "2020-03-11 09:20:41 [urllib3.connectionpool] DEBUG: Starting new HTTPS connection (1): www.capgemini.com:443\n",
      "2020-03-11 09:20:41 [urllib3.connectionpool] DEBUG: https://www.capgemini.com:443 \"GET /2018/02/how-cognitive-solutions-will-change-the-future-of-procurement-and-supply-chain/ HTTP/1.1\" 200 24322\n",
      "2020-03-11 09:20:41 [urllib3.connectionpool] DEBUG: Starting new HTTPS connection (1): www.capgemini.com:443\n",
      "2020-03-11 09:20:41 [urllib3.connectionpool] DEBUG: https://www.capgemini.com:443 \"GET /2018/02/advice-from-a-ciso-how-to-beat-the-fraudsters/ HTTP/1.1\" 200 23235\n"
     ]
    },
    {
     "name": "stdout",
     "output_type": "stream",
     "text": [
      "https://www.capgemini.com/2018/02/how-cognitive-solutions-will-change-the-future-of-procurement-and-supply-chain/\n",
      "https://www.capgemini.com/2018/02/advice-from-a-ciso-how-to-beat-the-fraudsters/\n"
     ]
    },
    {
     "name": "stderr",
     "output_type": "stream",
     "text": [
      "2020-03-11 09:20:41 [urllib3.connectionpool] DEBUG: Starting new HTTPS connection (1): www.capgemini.com:443\n"
     ]
    },
    {
     "name": "stdout",
     "output_type": "stream",
     "text": [
      "https://www.capgemini.com/2018/02/analyzing-software-repositories-to-improve-testing/\n"
     ]
    },
    {
     "name": "stderr",
     "output_type": "stream",
     "text": [
      "2020-03-11 09:20:42 [urllib3.connectionpool] DEBUG: https://www.capgemini.com:443 \"GET /2018/02/analyzing-software-repositories-to-improve-testing/ HTTP/1.1\" 200 None\n",
      "2020-03-11 09:20:42 [urllib3.connectionpool] DEBUG: Starting new HTTPS connection (1): www.capgemini.com:443\n",
      "2020-03-11 09:20:42 [urllib3.connectionpool] DEBUG: https://www.capgemini.com:443 \"GET /2018/02/blockchain-in-supply-chain-management-why-the-trust-machine-can-be-a-game-changer-for-the-delivery-process/ HTTP/1.1\" 200 25686\n",
      "2020-03-11 09:20:42 [urllib3.connectionpool] DEBUG: Starting new HTTPS connection (1): www.capgemini.com:443\n"
     ]
    },
    {
     "name": "stdout",
     "output_type": "stream",
     "text": [
      "https://www.capgemini.com/2018/02/blockchain-in-supply-chain-management-why-the-trust-machine-can-be-a-game-changer-for-the-delivery-process/\n",
      "https://www.capgemini.com/2018/02/blockchain-technology-transforming-the-energy-and-utility-industry/\n"
     ]
    },
    {
     "name": "stderr",
     "output_type": "stream",
     "text": [
      "2020-03-11 09:20:43 [urllib3.connectionpool] DEBUG: https://www.capgemini.com:443 \"GET /2018/02/blockchain-technology-transforming-the-energy-and-utility-industry/ HTTP/1.1\" 200 None\n",
      "2020-03-11 09:20:43 [urllib3.connectionpool] DEBUG: Starting new HTTPS connection (1): www.capgemini.com:443\n",
      "2020-03-11 09:20:43 [urllib3.connectionpool] DEBUG: https://www.capgemini.com:443 \"GET /2018/02/top-energy-and-utilities-trends-2018-2-3/ HTTP/1.1\" 200 25945\n",
      "2020-03-11 09:20:43 [urllib3.connectionpool] DEBUG: Starting new HTTPS connection (1): www.capgemini.com:443\n"
     ]
    },
    {
     "name": "stdout",
     "output_type": "stream",
     "text": [
      "https://www.capgemini.com/2018/02/top-energy-and-utilities-trends-2018-2-3/\n",
      "https://www.capgemini.com/2018/02/iot-is-changing-the-way-we-improve-customer-experience/\n"
     ]
    },
    {
     "name": "stderr",
     "output_type": "stream",
     "text": [
      "2020-03-11 09:20:44 [urllib3.connectionpool] DEBUG: https://www.capgemini.com:443 \"GET /2018/02/iot-is-changing-the-way-we-improve-customer-experience/ HTTP/1.1\" 200 None\n",
      "2020-03-11 09:20:44 [urllib3.connectionpool] DEBUG: Starting new HTTPS connection (1): www.capgemini.com:443\n",
      "2020-03-11 09:20:44 [urllib3.connectionpool] DEBUG: https://www.capgemini.com:443 \"GET /2018/01/path-to-leading-in-healthcare-market-paved-by-digital-transformation/ HTTP/1.1\" 200 24791\n",
      "2020-03-11 09:20:44 [scrapy.core.engine] DEBUG: Crawled (200) <GET https://www.capgemini.com/2018/01/interview-gigabit-questions-on-innovation/> (referer: None)\n",
      "2020-03-11 09:20:44 [scrapy.core.engine] DEBUG: Crawled (200) <GET https://www.capgemini.com/2018/01/ces-2018-my-interview-with-idean/> (referer: None)\n",
      "2020-03-11 09:20:44 [scrapy.core.engine] DEBUG: Crawled (200) <GET https://www.capgemini.com/2018/01/current-and-future-trends-for-cloud-architectures/> (referer: None)\n",
      "2020-03-11 09:20:44 [scrapy.core.engine] DEBUG: Crawled (200) <GET https://www.capgemini.com/2018/01/contract-management-get-lean-for-2018/> (referer: None)\n"
     ]
    },
    {
     "name": "stdout",
     "output_type": "stream",
     "text": [
      "https://www.capgemini.com/2018/01/path-to-leading-in-healthcare-market-paved-by-digital-transformation/\n"
     ]
    },
    {
     "name": "stderr",
     "output_type": "stream",
     "text": [
      "2020-03-11 09:20:44 [scrapy.core.engine] DEBUG: Crawled (200) <GET https://www.capgemini.com/2018/01/from-digitization-to-algorithmisation-how-a-chatbot-can-combine-rpa-ai-and-erp/> (referer: None)\n",
      "2020-03-11 09:20:44 [scrapy.core.engine] DEBUG: Crawled (200) <GET https://www.capgemini.com/2018/01/utilities-for-digital-start-ups-challenges/> (referer: None)\n",
      "2020-03-11 09:20:44 [scrapy.core.engine] DEBUG: Crawled (200) <GET https://www.capgemini.com/2018/01/application-economics-considering-the-macro-economic-landscape-of-it-applications/> (referer: None)\n",
      "2020-03-11 09:20:44 [scrapy.core.engine] DEBUG: Crawled (200) <GET https://www.capgemini.com/2017/12/no-predictions-2018-you-experience/> (referer: None)\n",
      "2020-03-11 09:20:44 [urllib3.connectionpool] DEBUG: Starting new HTTPS connection (1): www.capgemini.com:443\n",
      "2020-03-11 09:20:44 [urllib3.connectionpool] DEBUG: https://www.capgemini.com:443 \"GET /2018/01/interview-gigabit-questions-on-innovation/ HTTP/1.1\" 200 27614\n",
      "2020-03-11 09:20:44 [scrapy.core.engine] DEBUG: Crawled (200) <GET https://www.capgemini.com/2017/12/no-predictions-2018-process-on-the-fly/> (referer: None)\n",
      "2020-03-11 09:20:44 [urllib3.connectionpool] DEBUG: Starting new HTTPS connection (1): www.capgemini.com:443\n"
     ]
    },
    {
     "name": "stdout",
     "output_type": "stream",
     "text": [
      "https://www.capgemini.com/2018/01/interview-gigabit-questions-on-innovation/\n",
      "https://www.capgemini.com/2018/01/ces-2018-my-interview-with-idean/\n"
     ]
    },
    {
     "name": "stderr",
     "output_type": "stream",
     "text": [
      "2020-03-11 09:20:44 [urllib3.connectionpool] DEBUG: https://www.capgemini.com:443 \"GET /2018/01/ces-2018-my-interview-with-idean/ HTTP/1.1\" 200 23159\n",
      "2020-03-11 09:20:44 [urllib3.connectionpool] DEBUG: Starting new HTTPS connection (1): www.capgemini.com:443\n",
      "2020-03-11 09:20:44 [urllib3.connectionpool] DEBUG: https://www.capgemini.com:443 \"GET /2018/01/current-and-future-trends-for-cloud-architectures/ HTTP/1.1\" 200 28897\n",
      "2020-03-11 09:20:44 [urllib3.connectionpool] DEBUG: Starting new HTTPS connection (1): www.capgemini.com:443\n"
     ]
    },
    {
     "name": "stdout",
     "output_type": "stream",
     "text": [
      "https://www.capgemini.com/2018/01/current-and-future-trends-for-cloud-architectures/\n",
      "https://www.capgemini.com/2018/01/contract-management-get-lean-for-2018/\n"
     ]
    },
    {
     "name": "stderr",
     "output_type": "stream",
     "text": [
      "2020-03-11 09:20:45 [urllib3.connectionpool] DEBUG: https://www.capgemini.com:443 \"GET /2018/01/contract-management-get-lean-for-2018/ HTTP/1.1\" 200 None\n",
      "2020-03-11 09:20:45 [urllib3.connectionpool] DEBUG: Starting new HTTPS connection (1): www.capgemini.com:443\n",
      "2020-03-11 09:20:45 [urllib3.connectionpool] DEBUG: https://www.capgemini.com:443 \"GET /2018/01/from-digitization-to-algorithmisation-how-a-chatbot-can-combine-rpa-ai-and-erp/ HTTP/1.1\" 200 27499\n",
      "2020-03-11 09:20:45 [urllib3.connectionpool] DEBUG: Starting new HTTPS connection (1): www.capgemini.com:443\n"
     ]
    },
    {
     "name": "stdout",
     "output_type": "stream",
     "text": [
      "https://www.capgemini.com/2018/01/from-digitization-to-algorithmisation-how-a-chatbot-can-combine-rpa-ai-and-erp/\n",
      "https://www.capgemini.com/2018/01/utilities-for-digital-start-ups-challenges/\n"
     ]
    },
    {
     "name": "stderr",
     "output_type": "stream",
     "text": [
      "2020-03-11 09:20:46 [urllib3.connectionpool] DEBUG: https://www.capgemini.com:443 \"GET /2018/01/utilities-for-digital-start-ups-challenges/ HTTP/1.1\" 200 None\n",
      "2020-03-11 09:20:46 [urllib3.connectionpool] DEBUG: Starting new HTTPS connection (1): www.capgemini.com:443\n",
      "2020-03-11 09:20:46 [urllib3.connectionpool] DEBUG: https://www.capgemini.com:443 \"GET /2018/01/application-economics-considering-the-macro-economic-landscape-of-it-applications/ HTTP/1.1\" 200 26062\n",
      "2020-03-11 09:20:46 [urllib3.connectionpool] DEBUG: Starting new HTTPS connection (1): www.capgemini.com:443\n"
     ]
    },
    {
     "name": "stdout",
     "output_type": "stream",
     "text": [
      "https://www.capgemini.com/2018/01/application-economics-considering-the-macro-economic-landscape-of-it-applications/\n",
      "https://www.capgemini.com/2017/12/no-predictions-2018-you-experience/\n"
     ]
    },
    {
     "name": "stderr",
     "output_type": "stream",
     "text": [
      "2020-03-11 09:20:46 [urllib3.connectionpool] DEBUG: https://www.capgemini.com:443 \"GET /2017/12/no-predictions-2018-you-experience/ HTTP/1.1\" 200 None\n",
      "2020-03-11 09:20:47 [scrapy.core.engine] DEBUG: Crawled (200) <GET https://www.capgemini.com/2017/12/no-predictions-2018-thriving-on-data/> (referer: None)\n",
      "2020-03-11 09:20:47 [scrapy.core.engine] DEBUG: Crawled (200) <GET https://www.capgemini.com/2017/12/no-predictions-2018-invisible-infostructure-2/> (referer: None)\n",
      "2020-03-11 09:20:47 [scrapy.core.engine] DEBUG: Crawled (200) <GET https://www.capgemini.com/2017/12/capgemini-at-the-top-of-the-americas/> (referer: None)\n",
      "2020-03-11 09:20:47 [scrapy.core.engine] DEBUG: Crawled (200) <GET https://www.capgemini.com/2017/12/no-predictions-2018-invisible-infostructure/> (referer: None)\n",
      "2020-03-11 09:20:47 [scrapy.core.engine] DEBUG: Crawled (200) <GET https://www.capgemini.com/2017/12/no-predictions-2018/> (referer: None)\n",
      "2020-03-11 09:20:47 [scrapy.core.engine] DEBUG: Crawled (200) <GET https://www.capgemini.com/2017/12/digital-tpas-drive-customer-engagement/> (referer: None)\n",
      "2020-03-11 09:20:47 [scrapy.core.engine] DEBUG: Crawled (200) <GET https://www.capgemini.com/2017/12/the-hitchhikers-guide-to-travel-expense-transformation/> (referer: None)\n",
      "2020-03-11 09:20:47 [urllib3.connectionpool] DEBUG: Starting new HTTPS connection (1): www.capgemini.com:443\n"
     ]
    },
    {
     "name": "stdout",
     "output_type": "stream",
     "text": [
      "https://www.capgemini.com/2017/12/no-predictions-2018-process-on-the-fly/\n"
     ]
    },
    {
     "name": "stderr",
     "output_type": "stream",
     "text": [
      "2020-03-11 09:20:47 [urllib3.connectionpool] DEBUG: https://www.capgemini.com:443 \"GET /2017/12/no-predictions-2018-process-on-the-fly/ HTTP/1.1\" 200 None\n",
      "2020-03-11 09:20:47 [scrapy.core.engine] DEBUG: Crawled (200) <GET https://www.capgemini.com/2017/12/how-to-handle-disruptive-technologies/> (referer: None)\n",
      "2020-03-11 09:20:47 [urllib3.connectionpool] DEBUG: Starting new HTTPS connection (1): www.capgemini.com:443\n"
     ]
    },
    {
     "name": "stdout",
     "output_type": "stream",
     "text": [
      "https://www.capgemini.com/2017/12/no-predictions-2018-thriving-on-data/\n"
     ]
    },
    {
     "name": "stderr",
     "output_type": "stream",
     "text": [
      "2020-03-11 09:20:48 [urllib3.connectionpool] DEBUG: https://www.capgemini.com:443 \"GET /2017/12/no-predictions-2018-thriving-on-data/ HTTP/1.1\" 200 None\n",
      "2020-03-11 09:20:48 [urllib3.connectionpool] DEBUG: Starting new HTTPS connection (1): www.capgemini.com:443\n"
     ]
    },
    {
     "name": "stdout",
     "output_type": "stream",
     "text": [
      "https://www.capgemini.com/2017/12/no-predictions-2018-invisible-infostructure-2/\n"
     ]
    },
    {
     "name": "stderr",
     "output_type": "stream",
     "text": [
      "2020-03-11 09:20:48 [urllib3.connectionpool] DEBUG: https://www.capgemini.com:443 \"GET /2017/12/no-predictions-2018-invisible-infostructure-2/ HTTP/1.1\" 200 None\n",
      "2020-03-11 09:20:49 [urllib3.connectionpool] DEBUG: Starting new HTTPS connection (1): www.capgemini.com:443\n",
      "2020-03-11 09:20:49 [urllib3.connectionpool] DEBUG: https://www.capgemini.com:443 \"GET /2017/12/capgemini-at-the-top-of-the-americas/ HTTP/1.1\" 200 27908\n",
      "2020-03-11 09:20:49 [urllib3.connectionpool] DEBUG: Starting new HTTPS connection (1): www.capgemini.com:443\n"
     ]
    },
    {
     "name": "stdout",
     "output_type": "stream",
     "text": [
      "https://www.capgemini.com/2017/12/capgemini-at-the-top-of-the-americas/\n",
      "https://www.capgemini.com/2017/12/no-predictions-2018-invisible-infostructure/\n"
     ]
    },
    {
     "name": "stderr",
     "output_type": "stream",
     "text": [
      "2020-03-11 09:20:49 [urllib3.connectionpool] DEBUG: https://www.capgemini.com:443 \"GET /2017/12/no-predictions-2018-invisible-infostructure/ HTTP/1.1\" 200 22537\n",
      "2020-03-11 09:20:49 [urllib3.connectionpool] DEBUG: Starting new HTTPS connection (1): www.capgemini.com:443\n"
     ]
    },
    {
     "name": "stdout",
     "output_type": "stream",
     "text": [
      "https://www.capgemini.com/2017/12/no-predictions-2018/\n"
     ]
    },
    {
     "name": "stderr",
     "output_type": "stream",
     "text": [
      "2020-03-11 09:20:50 [urllib3.connectionpool] DEBUG: https://www.capgemini.com:443 \"GET /2017/12/no-predictions-2018/ HTTP/1.1\" 200 None\n",
      "2020-03-11 09:20:50 [urllib3.connectionpool] DEBUG: Starting new HTTPS connection (1): www.capgemini.com:443\n",
      "2020-03-11 09:20:50 [urllib3.connectionpool] DEBUG: https://www.capgemini.com:443 \"GET /2017/12/digital-tpas-drive-customer-engagement/ HTTP/1.1\" 200 26531\n",
      "2020-03-11 09:20:50 [urllib3.connectionpool] DEBUG: Starting new HTTPS connection (1): www.capgemini.com:443\n"
     ]
    },
    {
     "name": "stdout",
     "output_type": "stream",
     "text": [
      "https://www.capgemini.com/2017/12/digital-tpas-drive-customer-engagement/\n",
      "https://www.capgemini.com/2017/12/the-hitchhikers-guide-to-travel-expense-transformation/\n"
     ]
    },
    {
     "name": "stderr",
     "output_type": "stream",
     "text": [
      "2020-03-11 09:20:50 [urllib3.connectionpool] DEBUG: https://www.capgemini.com:443 \"GET /2017/12/the-hitchhikers-guide-to-travel-expense-transformation/ HTTP/1.1\" 200 None\n",
      "2020-03-11 09:20:50 [scrapy.core.engine] DEBUG: Crawled (200) <GET https://www.capgemini.com/2017/12/pmi-global-congress-north-america-2017-a-differencemakers-experience/> (referer: None)\n",
      "2020-03-11 09:20:50 [scrapy.core.engine] DEBUG: Crawled (200) <GET https://www.capgemini.com/2017/11/how-do-you-really-succeed-with-automation-technology-part-1-of-3/> (referer: None)\n",
      "2020-03-11 09:20:50 [scrapy.core.engine] DEBUG: Crawled (200) <GET https://www.capgemini.com/2017/11/stairway-to-digital-immersion/> (referer: None)\n",
      "2020-03-11 09:20:50 [scrapy.core.engine] DEBUG: Crawled (200) <GET https://www.capgemini.com/2017/11/customer-experience-trends-in-digital-transformations/> (referer: None)\n",
      "2020-03-11 09:20:50 [scrapy.core.engine] DEBUG: Crawled (200) <GET https://www.capgemini.com/2017/11/connection-between-cloud-and-automobile/> (referer: None)\n",
      "2020-03-11 09:20:50 [scrapy.core.engine] DEBUG: Crawled (200) <GET https://www.capgemini.com/2017/11/the-future-of-retail-is-invisible/> (referer: None)\n",
      "2020-03-11 09:20:50 [scrapy.core.engine] DEBUG: Crawled (200) <GET https://www.capgemini.com/2017/11/security-in-the-iot-generation-guy-rombaut/> (referer: None)\n",
      "2020-03-11 09:20:50 [urllib3.connectionpool] DEBUG: Starting new HTTPS connection (1): www.capgemini.com:443\n"
     ]
    },
    {
     "name": "stdout",
     "output_type": "stream",
     "text": [
      "https://www.capgemini.com/2017/12/how-to-handle-disruptive-technologies/\n"
     ]
    },
    {
     "name": "stderr",
     "output_type": "stream",
     "text": [
      "2020-03-11 09:20:51 [urllib3.connectionpool] DEBUG: https://www.capgemini.com:443 \"GET /2017/12/how-to-handle-disruptive-technologies/ HTTP/1.1\" 200 None\n",
      "2020-03-11 09:20:51 [scrapy.core.engine] DEBUG: Crawled (200) <GET https://www.capgemini.com/2017/11/the-insurer-of-the-future/> (referer: None)\n",
      "2020-03-11 09:20:51 [urllib3.connectionpool] DEBUG: Starting new HTTPS connection (1): www.capgemini.com:443\n"
     ]
    },
    {
     "name": "stdout",
     "output_type": "stream",
     "text": [
      "https://www.capgemini.com/2017/12/pmi-global-congress-north-america-2017-a-differencemakers-experience/\n"
     ]
    },
    {
     "name": "stderr",
     "output_type": "stream",
     "text": [
      "2020-03-11 09:20:52 [urllib3.connectionpool] DEBUG: https://www.capgemini.com:443 \"GET /2017/12/pmi-global-congress-north-america-2017-a-differencemakers-experience/ HTTP/1.1\" 200 None\n",
      "2020-03-11 09:20:52 [urllib3.connectionpool] DEBUG: Starting new HTTPS connection (1): www.capgemini.com:443\n",
      "2020-03-11 09:20:52 [urllib3.connectionpool] DEBUG: https://www.capgemini.com:443 \"GET /2017/11/how-do-you-really-succeed-with-automation-technology-part-1-of-3/ HTTP/1.1\" 200 25865\n",
      "2020-03-11 09:20:52 [urllib3.connectionpool] DEBUG: Starting new HTTPS connection (1): www.capgemini.com:443\n"
     ]
    },
    {
     "name": "stdout",
     "output_type": "stream",
     "text": [
      "https://www.capgemini.com/2017/11/how-do-you-really-succeed-with-automation-technology-part-1-of-3/\n",
      "https://www.capgemini.com/2017/11/stairway-to-digital-immersion/\n"
     ]
    },
    {
     "name": "stderr",
     "output_type": "stream",
     "text": [
      "2020-03-11 09:20:52 [urllib3.connectionpool] DEBUG: https://www.capgemini.com:443 \"GET /2017/11/stairway-to-digital-immersion/ HTTP/1.1\" 200 None\n",
      "2020-03-11 09:20:52 [urllib3.connectionpool] DEBUG: Starting new HTTPS connection (1): www.capgemini.com:443\n",
      "2020-03-11 09:20:52 [urllib3.connectionpool] DEBUG: https://www.capgemini.com:443 \"GET /2017/11/customer-experience-trends-in-digital-transformations/ HTTP/1.1\" 200 23644\n",
      "2020-03-11 09:20:53 [urllib3.connectionpool] DEBUG: Starting new HTTPS connection (1): www.capgemini.com:443\n"
     ]
    },
    {
     "name": "stdout",
     "output_type": "stream",
     "text": [
      "https://www.capgemini.com/2017/11/customer-experience-trends-in-digital-transformations/\n",
      "https://www.capgemini.com/2017/11/connection-between-cloud-and-automobile/\n"
     ]
    },
    {
     "name": "stderr",
     "output_type": "stream",
     "text": [
      "2020-03-11 09:20:53 [urllib3.connectionpool] DEBUG: https://www.capgemini.com:443 \"GET /2017/11/connection-between-cloud-and-automobile/ HTTP/1.1\" 200 26132\n",
      "2020-03-11 09:20:53 [urllib3.connectionpool] DEBUG: Starting new HTTPS connection (1): www.capgemini.com:443\n"
     ]
    },
    {
     "name": "stdout",
     "output_type": "stream",
     "text": [
      "https://www.capgemini.com/2017/11/the-future-of-retail-is-invisible/\n"
     ]
    },
    {
     "name": "stderr",
     "output_type": "stream",
     "text": [
      "2020-03-11 09:20:53 [urllib3.connectionpool] DEBUG: https://www.capgemini.com:443 \"GET /2017/11/the-future-of-retail-is-invisible/ HTTP/1.1\" 200 None\n",
      "2020-03-11 09:20:53 [urllib3.connectionpool] DEBUG: Starting new HTTPS connection (1): www.capgemini.com:443\n",
      "2020-03-11 09:20:53 [urllib3.connectionpool] DEBUG: https://www.capgemini.com:443 \"GET /2017/11/security-in-the-iot-generation-guy-rombaut/ HTTP/1.1\" 200 22778\n",
      "2020-03-11 09:20:53 [scrapy.core.engine] DEBUG: Crawled (200) <GET https://www.capgemini.com/2017/11/the-switch-to-smart/> (referer: None)\n",
      "2020-03-11 09:20:53 [scrapy.core.engine] DEBUG: Crawled (200) <GET https://www.capgemini.com/article/focus-on-finance-powered-by-intelligent-automation/> (referer: None)\n",
      "2020-03-11 09:20:53 [urllib3.connectionpool] DEBUG: Starting new HTTPS connection (1): www.capgemini.com:443\n"
     ]
    },
    {
     "name": "stdout",
     "output_type": "stream",
     "text": [
      "https://www.capgemini.com/2017/11/security-in-the-iot-generation-guy-rombaut/\n",
      "https://www.capgemini.com/2017/11/the-insurer-of-the-future/\n"
     ]
    },
    {
     "name": "stderr",
     "output_type": "stream",
     "text": [
      "2020-03-11 09:20:53 [urllib3.connectionpool] DEBUG: https://www.capgemini.com:443 \"GET /2017/11/the-insurer-of-the-future/ HTTP/1.1\" 200 23052\n",
      "2020-03-11 09:20:54 [urllib3.connectionpool] DEBUG: Starting new HTTPS connection (1): www.capgemini.com:443\n",
      "2020-03-11 09:20:54 [urllib3.connectionpool] DEBUG: https://www.capgemini.com:443 \"GET /2017/11/the-switch-to-smart/ HTTP/1.1\" 200 22809\n",
      "2020-03-11 09:20:54 [urllib3.connectionpool] DEBUG: Starting new HTTPS connection (1): www.capgemini.com:443\n"
     ]
    },
    {
     "name": "stdout",
     "output_type": "stream",
     "text": [
      "https://www.capgemini.com/2017/11/the-switch-to-smart/\n",
      "https://www.capgemini.com/article/focus-on-finance-powered-by-intelligent-automation/\n"
     ]
    },
    {
     "name": "stderr",
     "output_type": "stream",
     "text": [
      "2020-03-11 09:20:54 [urllib3.connectionpool] DEBUG: https://www.capgemini.com:443 \"GET /article/focus-on-finance-powered-by-intelligent-automation/ HTTP/1.1\" 200 None\n",
      "2020-03-11 09:20:54 [scrapy.core.engine] DEBUG: Crawled (200) <GET https://www.capgemini.com/2017/11/european-countries-racing-ahead-with-open-data/> (referer: None)\n",
      "2020-03-11 09:20:54 [scrapy.core.engine] DEBUG: Crawled (200) <GET https://www.capgemini.com/2017/11/you-get-what-you-pay-for/> (referer: None)\n",
      "2020-03-11 09:20:54 [urllib3.connectionpool] DEBUG: Starting new HTTPS connection (1): www.capgemini.com:443\n",
      "2020-03-11 09:20:55 [urllib3.connectionpool] DEBUG: https://www.capgemini.com:443 \"GET /2017/11/european-countries-racing-ahead-with-open-data/ HTTP/1.1\" 200 22991\n",
      "2020-03-11 09:20:55 [urllib3.connectionpool] DEBUG: Starting new HTTPS connection (1): www.capgemini.com:443\n"
     ]
    },
    {
     "name": "stdout",
     "output_type": "stream",
     "text": [
      "https://www.capgemini.com/2017/11/european-countries-racing-ahead-with-open-data/\n",
      "https://www.capgemini.com/2017/11/you-get-what-you-pay-for/\n"
     ]
    },
    {
     "name": "stderr",
     "output_type": "stream",
     "text": [
      "2020-03-11 09:20:55 [urllib3.connectionpool] DEBUG: https://www.capgemini.com:443 \"GET /2017/11/you-get-what-you-pay-for/ HTTP/1.1\" 200 26665\n",
      "2020-03-11 09:20:55 [scrapy.core.engine] DEBUG: Crawled (200) <GET https://www.capgemini.com/2017/11/the-insurer-of-the-future-part-7-product-development/> (referer: None)\n",
      "2020-03-11 09:20:55 [scrapy.core.engine] DEBUG: Crawled (200) <GET https://www.capgemini.com/2017/11/leveraging-a-digital-tpa-to-eliminate-paper-delivers-benefits-across-your-insurance-company/> (referer: None)\n",
      "2020-03-11 09:20:55 [scrapy.core.engine] DEBUG: Crawled (200) <GET https://www.capgemini.com/2017/11/voice-based-chatbots-a-revolution-in-customer-relations/> (referer: None)\n",
      "2020-03-11 09:20:55 [scrapy.core.engine] DEBUG: Crawled (200) <GET https://www.capgemini.com/2017/11/digital-talent-the-rise-of-digital-skills/> (referer: None)\n",
      "2020-03-11 09:20:55 [scrapy.core.engine] DEBUG: Crawled (200) <GET https://www.capgemini.com/2017/11/natural-language-processing-also-known-as-reading/> (referer: None)\n",
      "2020-03-11 09:20:55 [scrapy.core.engine] DEBUG: Crawled (200) <GET https://www.capgemini.com/2017/11/the-four-roles-of-hr-and-digital-transformation/> (referer: None)\n",
      "2020-03-11 09:20:55 [urllib3.connectionpool] DEBUG: Starting new HTTPS connection (1): www.capgemini.com:443\n"
     ]
    },
    {
     "name": "stdout",
     "output_type": "stream",
     "text": [
      "https://www.capgemini.com/2017/11/the-insurer-of-the-future-part-7-product-development/\n"
     ]
    },
    {
     "name": "stderr",
     "output_type": "stream",
     "text": [
      "2020-03-11 09:20:56 [urllib3.connectionpool] DEBUG: https://www.capgemini.com:443 \"GET /2017/11/the-insurer-of-the-future-part-7-product-development/ HTTP/1.1\" 200 None\n",
      "2020-03-11 09:20:56 [scrapy.core.engine] DEBUG: Crawled (200) <GET https://www.capgemini.com/2017/10/how-to-effectively-manage-your-audit-challenges/> (referer: None)\n",
      "2020-03-11 09:20:56 [scrapy.core.engine] DEBUG: Crawled (200) <GET https://www.capgemini.com/2017/10/chatbots-in-the-automotive-industry-the-potential-of-the-new-service-employees-for-an-enhanced-customer-experience/> (referer: None)\n",
      "2020-03-11 09:20:56 [scrapy.core.engine] DEBUG: Crawled (200) <GET https://www.capgemini.com/article/expert-insights/> (referer: None)\n",
      "2020-03-11 09:20:56 [scrapy.core.engine] DEBUG: Crawled (200) <GET https://www.capgemini.com/2017/10/the-future-of-erp-oracle-open-world-2017-erp-summary/> (referer: None)\n",
      "2020-03-11 09:20:56 [scrapy.core.engine] DEBUG: Crawled (200) <GET https://www.capgemini.com/2017/10/theres-a-digital-talent-war-out-there-and-organizations-are-caught-napping/> (referer: None)\n",
      "2020-03-11 09:20:56 [scrapy.core.engine] DEBUG: Crawled (200) <GET https://www.capgemini.com/2017/10/contract-management-tools-know-what-you-need/> (referer: None)\n",
      "2020-03-11 09:20:56 [scrapy.core.engine] DEBUG: Crawled (200) <GET https://www.capgemini.com/2017/10/the-thrills-and-spills-of-working-in-intelligent-automation/> (referer: None)\n",
      "2020-03-11 09:20:56 [scrapy.core.engine] DEBUG: Crawled (200) <GET https://www.capgemini.com/2017/10/some-thoughts-on-emergence-ants-and-the-unintended-consequences-of-ai-and-ml/> (referer: None)\n",
      "2020-03-11 09:20:56 [urllib3.connectionpool] DEBUG: Starting new HTTPS connection (1): www.capgemini.com:443\n"
     ]
    },
    {
     "name": "stdout",
     "output_type": "stream",
     "text": [
      "https://www.capgemini.com/2017/11/leveraging-a-digital-tpa-to-eliminate-paper-delivers-benefits-across-your-insurance-company/\n"
     ]
    },
    {
     "name": "stderr",
     "output_type": "stream",
     "text": [
      "2020-03-11 09:20:56 [urllib3.connectionpool] DEBUG: https://www.capgemini.com:443 \"GET /2017/11/leveraging-a-digital-tpa-to-eliminate-paper-delivers-benefits-across-your-insurance-company/ HTTP/1.1\" 200 None\n",
      "2020-03-11 09:20:56 [urllib3.connectionpool] DEBUG: Starting new HTTPS connection (1): www.capgemini.com:443\n"
     ]
    },
    {
     "name": "stdout",
     "output_type": "stream",
     "text": [
      "https://www.capgemini.com/2017/11/voice-based-chatbots-a-revolution-in-customer-relations/\n"
     ]
    },
    {
     "name": "stderr",
     "output_type": "stream",
     "text": [
      "2020-03-11 09:20:57 [urllib3.connectionpool] DEBUG: https://www.capgemini.com:443 \"GET /2017/11/voice-based-chatbots-a-revolution-in-customer-relations/ HTTP/1.1\" 200 None\n",
      "2020-03-11 09:20:57 [urllib3.connectionpool] DEBUG: Starting new HTTPS connection (1): www.capgemini.com:443\n",
      "2020-03-11 09:20:57 [urllib3.connectionpool] DEBUG: https://www.capgemini.com:443 \"GET /2017/11/digital-talent-the-rise-of-digital-skills/ HTTP/1.1\" 200 22397\n",
      "2020-03-11 09:20:57 [urllib3.connectionpool] DEBUG: Starting new HTTPS connection (1): www.capgemini.com:443\n"
     ]
    },
    {
     "name": "stdout",
     "output_type": "stream",
     "text": [
      "https://www.capgemini.com/2017/11/digital-talent-the-rise-of-digital-skills/\n",
      "https://www.capgemini.com/2017/11/natural-language-processing-also-known-as-reading/\n"
     ]
    },
    {
     "name": "stderr",
     "output_type": "stream",
     "text": [
      "2020-03-11 09:20:57 [urllib3.connectionpool] DEBUG: https://www.capgemini.com:443 \"GET /2017/11/natural-language-processing-also-known-as-reading/ HTTP/1.1\" 200 26530\n",
      "2020-03-11 09:20:57 [urllib3.connectionpool] DEBUG: Starting new HTTPS connection (1): www.capgemini.com:443\n"
     ]
    },
    {
     "name": "stdout",
     "output_type": "stream",
     "text": [
      "https://www.capgemini.com/2017/11/the-four-roles-of-hr-and-digital-transformation/\n"
     ]
    },
    {
     "name": "stderr",
     "output_type": "stream",
     "text": [
      "2020-03-11 09:20:58 [urllib3.connectionpool] DEBUG: https://www.capgemini.com:443 \"GET /2017/11/the-four-roles-of-hr-and-digital-transformation/ HTTP/1.1\" 200 None\n",
      "2020-03-11 09:20:58 [urllib3.connectionpool] DEBUG: Starting new HTTPS connection (1): www.capgemini.com:443\n"
     ]
    },
    {
     "name": "stdout",
     "output_type": "stream",
     "text": [
      "https://www.capgemini.com/2017/10/how-to-effectively-manage-your-audit-challenges/\n"
     ]
    },
    {
     "name": "stderr",
     "output_type": "stream",
     "text": [
      "2020-03-11 09:20:59 [urllib3.connectionpool] DEBUG: https://www.capgemini.com:443 \"GET /2017/10/how-to-effectively-manage-your-audit-challenges/ HTTP/1.1\" 200 None\n",
      "2020-03-11 09:20:59 [urllib3.connectionpool] DEBUG: Starting new HTTPS connection (1): www.capgemini.com:443\n"
     ]
    },
    {
     "name": "stdout",
     "output_type": "stream",
     "text": [
      "https://www.capgemini.com/2017/10/chatbots-in-the-automotive-industry-the-potential-of-the-new-service-employees-for-an-enhanced-customer-experience/\n"
     ]
    },
    {
     "name": "stderr",
     "output_type": "stream",
     "text": [
      "2020-03-11 09:20:59 [urllib3.connectionpool] DEBUG: https://www.capgemini.com:443 \"GET /2017/10/chatbots-in-the-automotive-industry-the-potential-of-the-new-service-employees-for-an-enhanced-customer-experience/ HTTP/1.1\" 200 None\n",
      "2020-03-11 09:20:59 [urllib3.connectionpool] DEBUG: Starting new HTTPS connection (1): www.capgemini.com:443\n",
      "2020-03-11 09:21:00 [urllib3.connectionpool] DEBUG: https://www.capgemini.com:443 \"GET /article/expert-insights/ HTTP/1.1\" 200 24573\n",
      "2020-03-11 09:21:00 [urllib3.connectionpool] DEBUG: Starting new HTTPS connection (1): www.capgemini.com:443\n"
     ]
    },
    {
     "name": "stdout",
     "output_type": "stream",
     "text": [
      "https://www.capgemini.com/article/expert-insights/\n",
      "https://www.capgemini.com/2017/10/the-future-of-erp-oracle-open-world-2017-erp-summary/\n"
     ]
    },
    {
     "name": "stderr",
     "output_type": "stream",
     "text": [
      "2020-03-11 09:21:00 [urllib3.connectionpool] DEBUG: https://www.capgemini.com:443 \"GET /2017/10/the-future-of-erp-oracle-open-world-2017-erp-summary/ HTTP/1.1\" 200 None\n",
      "2020-03-11 09:21:00 [urllib3.connectionpool] DEBUG: Starting new HTTPS connection (1): www.capgemini.com:443\n"
     ]
    },
    {
     "name": "stdout",
     "output_type": "stream",
     "text": [
      "https://www.capgemini.com/2017/10/theres-a-digital-talent-war-out-there-and-organizations-are-caught-napping/\n"
     ]
    },
    {
     "name": "stderr",
     "output_type": "stream",
     "text": [
      "2020-03-11 09:21:01 [urllib3.connectionpool] DEBUG: https://www.capgemini.com:443 \"GET /2017/10/theres-a-digital-talent-war-out-there-and-organizations-are-caught-napping/ HTTP/1.1\" 200 None\n",
      "2020-03-11 09:21:01 [urllib3.connectionpool] DEBUG: Starting new HTTPS connection (1): www.capgemini.com:443\n",
      "2020-03-11 09:21:01 [urllib3.connectionpool] DEBUG: https://www.capgemini.com:443 \"GET /2017/10/contract-management-tools-know-what-you-need/ HTTP/1.1\" 200 22918\n",
      "2020-03-11 09:21:01 [urllib3.connectionpool] DEBUG: Starting new HTTPS connection (1): www.capgemini.com:443\n"
     ]
    },
    {
     "name": "stdout",
     "output_type": "stream",
     "text": [
      "https://www.capgemini.com/2017/10/contract-management-tools-know-what-you-need/\n",
      "https://www.capgemini.com/2017/10/the-thrills-and-spills-of-working-in-intelligent-automation/\n"
     ]
    },
    {
     "name": "stderr",
     "output_type": "stream",
     "text": [
      "2020-03-11 09:21:01 [urllib3.connectionpool] DEBUG: https://www.capgemini.com:443 \"GET /2017/10/the-thrills-and-spills-of-working-in-intelligent-automation/ HTTP/1.1\" 200 26731\n",
      "2020-03-11 09:21:01 [urllib3.connectionpool] DEBUG: Starting new HTTPS connection (1): www.capgemini.com:443\n"
     ]
    },
    {
     "name": "stdout",
     "output_type": "stream",
     "text": [
      "https://www.capgemini.com/2017/10/some-thoughts-on-emergence-ants-and-the-unintended-consequences-of-ai-and-ml/\n"
     ]
    },
    {
     "name": "stderr",
     "output_type": "stream",
     "text": [
      "2020-03-11 09:21:02 [urllib3.connectionpool] DEBUG: https://www.capgemini.com:443 \"GET /2017/10/some-thoughts-on-emergence-ants-and-the-unintended-consequences-of-ai-and-ml/ HTTP/1.1\" 200 None\n",
      "2020-03-11 09:21:02 [scrapy.core.engine] DEBUG: Crawled (200) <GET https://www.capgemini.com/2017/09/six-reasons-why-digital-tpas-are-accelerating-the-digital-journey-for-insurance-companies/> (referer: None)\n",
      "2020-03-11 09:21:02 [scrapy.core.engine] DEBUG: Crawled (200) <GET https://www.capgemini.com/2017/09/how-to-digitalize-your-hr-function/> (referer: None)\n",
      "2020-03-11 09:21:02 [scrapy.core.engine] DEBUG: Crawled (200) <GET https://www.capgemini.com/2017/09/three-trends-in-the-digital-transformation-of-hr-for-2018/> (referer: None)\n",
      "2020-03-11 09:21:02 [scrapy.core.engine] DEBUG: Crawled (200) <GET https://www.capgemini.com/2017/09/the-insurer-of-the-future-part-3/> (referer: None)\n",
      "2020-03-11 09:21:02 [scrapy.core.engine] DEBUG: Crawled (200) <GET https://www.capgemini.com/2017/09/four-new-trends-shaping-data-center-and-cloud-technologies/> (referer: None)\n",
      "2020-03-11 09:21:02 [scrapy.core.engine] DEBUG: Crawled (200) <GET https://www.capgemini.com/2017/08/capgeminis-50th-anniversary/> (referer: None)\n",
      "2020-03-11 09:21:02 [scrapy.core.engine] DEBUG: Crawled (200) <GET https://www.capgemini.com/2017/08/is-cybersecurity-the-sixth-sense-of-ai/> (referer: None)\n",
      "2020-03-11 09:21:02 [scrapy.core.engine] DEBUG: Crawled (200) <GET https://www.capgemini.com/2017/08/core-vs-non-core-functions-opportunity-cost-applied-to-insurance/> (referer: None)\n",
      "2020-03-11 09:21:02 [urllib3.connectionpool] DEBUG: Starting new HTTPS connection (1): www.capgemini.com:443\n"
     ]
    },
    {
     "name": "stdout",
     "output_type": "stream",
     "text": [
      "https://www.capgemini.com/2017/09/six-reasons-why-digital-tpas-are-accelerating-the-digital-journey-for-insurance-companies/\n"
     ]
    },
    {
     "name": "stderr",
     "output_type": "stream",
     "text": [
      "2020-03-11 09:21:03 [urllib3.connectionpool] DEBUG: https://www.capgemini.com:443 \"GET /2017/09/six-reasons-why-digital-tpas-are-accelerating-the-digital-journey-for-insurance-companies/ HTTP/1.1\" 200 None\n",
      "2020-03-11 09:21:03 [scrapy.core.engine] DEBUG: Crawled (200) <GET https://www.capgemini.com/2017/07/what-a-wonderful-software-testing-world-it-would-be/> (referer: None)\n",
      "2020-03-11 09:21:03 [scrapy.core.engine] DEBUG: Crawled (200) <GET https://www.capgemini.com/2017/07/e2open-and-capgemini-enabling-companies-to-be-supply-chain-winners/> (referer: None)\n",
      "2020-03-11 09:21:03 [scrapy.core.engine] DEBUG: Crawled (200) <GET https://www.capgemini.com/2017/07/should-supply-chains-be-automated/> (referer: None)\n",
      "2020-03-11 09:21:03 [scrapy.core.engine] DEBUG: Crawled (200) <GET https://www.capgemini.com/2017/07/the-open-business-data-lake-standard/> (referer: None)\n",
      "2020-03-11 09:21:03 [scrapy.core.engine] DEBUG: Crawled (200) <GET https://www.capgemini.com/2017/06/digitising-asset-economy/> (referer: None)\n",
      "2020-03-11 09:21:03 [scrapy.core.engine] DEBUG: Crawled (200) <GET https://www.capgemini.com/2017/06/the-automation-nation/> (referer: None)\n",
      "2020-03-11 09:21:03 [scrapy.core.engine] DEBUG: Crawled (200) <GET https://www.capgemini.com/2017/06/computer-says-no-machines-should-be-accountable-for-their-decisions/> (referer: None)\n",
      "2020-03-11 09:21:03 [scrapy.core.engine] DEBUG: Crawled (200) <GET https://www.capgemini.com/2017/06/intelligent-automation-in-finance-and-insurance/> (referer: None)\n",
      "2020-03-11 09:21:03 [urllib3.connectionpool] DEBUG: Starting new HTTPS connection (1): www.capgemini.com:443\n",
      "2020-03-11 09:21:03 [urllib3.connectionpool] DEBUG: https://www.capgemini.com:443 \"GET /2017/09/how-to-digitalize-your-hr-function/ HTTP/1.1\" 200 25872\n",
      "2020-03-11 09:21:03 [urllib3.connectionpool] DEBUG: Starting new HTTPS connection (1): www.capgemini.com:443\n"
     ]
    },
    {
     "name": "stdout",
     "output_type": "stream",
     "text": [
      "https://www.capgemini.com/2017/09/how-to-digitalize-your-hr-function/\n",
      "https://www.capgemini.com/2017/09/three-trends-in-the-digital-transformation-of-hr-for-2018/\n"
     ]
    },
    {
     "name": "stderr",
     "output_type": "stream",
     "text": [
      "2020-03-11 09:21:03 [urllib3.connectionpool] DEBUG: https://www.capgemini.com:443 \"GET /2017/09/three-trends-in-the-digital-transformation-of-hr-for-2018/ HTTP/1.1\" 200 22509\n",
      "2020-03-11 09:21:03 [urllib3.connectionpool] DEBUG: Starting new HTTPS connection (1): www.capgemini.com:443\n"
     ]
    },
    {
     "name": "stdout",
     "output_type": "stream",
     "text": [
      "https://www.capgemini.com/2017/09/the-insurer-of-the-future-part-3/\n"
     ]
    },
    {
     "name": "stderr",
     "output_type": "stream",
     "text": [
      "2020-03-11 09:21:04 [urllib3.connectionpool] DEBUG: https://www.capgemini.com:443 \"GET /2017/09/the-insurer-of-the-future-part-3/ HTTP/1.1\" 200 None\n",
      "2020-03-11 09:21:04 [urllib3.connectionpool] DEBUG: Starting new HTTPS connection (1): www.capgemini.com:443\n",
      "2020-03-11 09:21:04 [urllib3.connectionpool] DEBUG: https://www.capgemini.com:443 \"GET /2017/09/four-new-trends-shaping-data-center-and-cloud-technologies/ HTTP/1.1\" 200 27010\n",
      "2020-03-11 09:21:04 [urllib3.connectionpool] DEBUG: Starting new HTTPS connection (1): www.capgemini.com:443\n"
     ]
    },
    {
     "name": "stdout",
     "output_type": "stream",
     "text": [
      "https://www.capgemini.com/2017/09/four-new-trends-shaping-data-center-and-cloud-technologies/\n",
      "https://www.capgemini.com/2017/08/capgeminis-50th-anniversary/\n"
     ]
    },
    {
     "name": "stderr",
     "output_type": "stream",
     "text": [
      "2020-03-11 09:21:04 [urllib3.connectionpool] DEBUG: https://www.capgemini.com:443 \"GET /2017/08/capgeminis-50th-anniversary/ HTTP/1.1\" 200 25817\n",
      "2020-03-11 09:21:04 [urllib3.connectionpool] DEBUG: Starting new HTTPS connection (1): www.capgemini.com:443\n"
     ]
    },
    {
     "name": "stdout",
     "output_type": "stream",
     "text": [
      "https://www.capgemini.com/2017/08/is-cybersecurity-the-sixth-sense-of-ai/\n"
     ]
    },
    {
     "name": "stderr",
     "output_type": "stream",
     "text": [
      "2020-03-11 09:21:05 [urllib3.connectionpool] DEBUG: https://www.capgemini.com:443 \"GET /2017/08/is-cybersecurity-the-sixth-sense-of-ai/ HTTP/1.1\" 200 None\n",
      "2020-03-11 09:21:05 [urllib3.connectionpool] DEBUG: Starting new HTTPS connection (1): www.capgemini.com:443\n",
      "2020-03-11 09:21:05 [urllib3.connectionpool] DEBUG: https://www.capgemini.com:443 \"GET /2017/08/core-vs-non-core-functions-opportunity-cost-applied-to-insurance/ HTTP/1.1\" 200 23331\n",
      "2020-03-11 09:21:05 [urllib3.connectionpool] DEBUG: Starting new HTTPS connection (1): www.capgemini.com:443\n"
     ]
    },
    {
     "name": "stdout",
     "output_type": "stream",
     "text": [
      "https://www.capgemini.com/2017/08/core-vs-non-core-functions-opportunity-cost-applied-to-insurance/\n",
      "https://www.capgemini.com/2017/07/what-a-wonderful-software-testing-world-it-would-be/\n"
     ]
    },
    {
     "name": "stderr",
     "output_type": "stream",
     "text": [
      "2020-03-11 09:21:06 [urllib3.connectionpool] DEBUG: https://www.capgemini.com:443 \"GET /2017/07/what-a-wonderful-software-testing-world-it-would-be/ HTTP/1.1\" 200 None\n",
      "2020-03-11 09:21:06 [urllib3.connectionpool] DEBUG: Starting new HTTPS connection (1): www.capgemini.com:443\n"
     ]
    },
    {
     "name": "stdout",
     "output_type": "stream",
     "text": [
      "https://www.capgemini.com/2017/07/e2open-and-capgemini-enabling-companies-to-be-supply-chain-winners/\n"
     ]
    },
    {
     "name": "stderr",
     "output_type": "stream",
     "text": [
      "2020-03-11 09:21:06 [urllib3.connectionpool] DEBUG: https://www.capgemini.com:443 \"GET /2017/07/e2open-and-capgemini-enabling-companies-to-be-supply-chain-winners/ HTTP/1.1\" 200 None\n",
      "2020-03-11 09:21:06 [urllib3.connectionpool] DEBUG: Starting new HTTPS connection (1): www.capgemini.com:443\n",
      "2020-03-11 09:21:07 [urllib3.connectionpool] DEBUG: https://www.capgemini.com:443 \"GET /2017/07/should-supply-chains-be-automated/ HTTP/1.1\" 200 27305\n",
      "2020-03-11 09:21:07 [urllib3.connectionpool] DEBUG: Starting new HTTPS connection (1): www.capgemini.com:443\n"
     ]
    },
    {
     "name": "stdout",
     "output_type": "stream",
     "text": [
      "https://www.capgemini.com/2017/07/should-supply-chains-be-automated/\n",
      "https://www.capgemini.com/2017/07/the-open-business-data-lake-standard/\n"
     ]
    },
    {
     "name": "stderr",
     "output_type": "stream",
     "text": [
      "2020-03-11 09:21:07 [urllib3.connectionpool] DEBUG: https://www.capgemini.com:443 \"GET /2017/07/the-open-business-data-lake-standard/ HTTP/1.1\" 200 22242\n",
      "2020-03-11 09:21:07 [urllib3.connectionpool] DEBUG: Starting new HTTPS connection (1): www.capgemini.com:443\n"
     ]
    },
    {
     "name": "stdout",
     "output_type": "stream",
     "text": [
      "https://www.capgemini.com/2017/06/digitising-asset-economy/\n"
     ]
    },
    {
     "name": "stderr",
     "output_type": "stream",
     "text": [
      "2020-03-11 09:21:07 [urllib3.connectionpool] DEBUG: https://www.capgemini.com:443 \"GET /2017/06/digitising-asset-economy/ HTTP/1.1\" 200 None\n",
      "2020-03-11 09:21:07 [urllib3.connectionpool] DEBUG: Starting new HTTPS connection (1): www.capgemini.com:443\n"
     ]
    },
    {
     "name": "stdout",
     "output_type": "stream",
     "text": [
      "https://www.capgemini.com/2017/06/the-automation-nation/\n"
     ]
    },
    {
     "name": "stderr",
     "output_type": "stream",
     "text": [
      "2020-03-11 09:21:08 [urllib3.connectionpool] DEBUG: https://www.capgemini.com:443 \"GET /2017/06/the-automation-nation/ HTTP/1.1\" 200 None\n",
      "2020-03-11 09:21:08 [urllib3.connectionpool] DEBUG: Starting new HTTPS connection (1): www.capgemini.com:443\n"
     ]
    },
    {
     "name": "stdout",
     "output_type": "stream",
     "text": [
      "https://www.capgemini.com/2017/06/computer-says-no-machines-should-be-accountable-for-their-decisions/\n"
     ]
    },
    {
     "name": "stderr",
     "output_type": "stream",
     "text": [
      "2020-03-11 09:21:08 [urllib3.connectionpool] DEBUG: https://www.capgemini.com:443 \"GET /2017/06/computer-says-no-machines-should-be-accountable-for-their-decisions/ HTTP/1.1\" 200 None\n",
      "2020-03-11 09:21:08 [urllib3.connectionpool] DEBUG: Starting new HTTPS connection (1): www.capgemini.com:443\n"
     ]
    },
    {
     "name": "stdout",
     "output_type": "stream",
     "text": [
      "https://www.capgemini.com/2017/06/intelligent-automation-in-finance-and-insurance/\n"
     ]
    },
    {
     "name": "stderr",
     "output_type": "stream",
     "text": [
      "2020-03-11 09:21:09 [urllib3.connectionpool] DEBUG: https://www.capgemini.com:443 \"GET /2017/06/intelligent-automation-in-finance-and-insurance/ HTTP/1.1\" 200 None\n",
      "2020-03-11 09:21:09 [scrapy.core.engine] DEBUG: Crawled (200) <GET https://www.capgemini.com/2017/06/brilliant-factories-are-making-manufacturing-pretty-brilliant/> (referer: None)\n",
      "2020-03-11 09:21:09 [scrapy.core.engine] DEBUG: Crawled (200) <GET https://www.capgemini.com/2017/06/rendezvous-with-the-future-of-consumer-goods-and-retail-i-welcome-to/> (referer: None)\n",
      "2020-03-11 09:21:09 [scrapy.core.engine] DEBUG: Crawled (200) <GET https://www.capgemini.com/2017/06/ai-will-change-retail-forever-if-we-can-trust-it/> (referer: None)\n",
      "2020-03-11 09:21:09 [scrapy.core.engine] DEBUG: Crawled (200) <GET https://www.capgemini.com/2017/06/the-truth-is-in-the-eye-of-the-beholder-a-wrap-up-of-sapphire-now-2017/> (referer: None)\n",
      "2020-03-11 09:21:09 [scrapy.core.engine] DEBUG: Crawled (200) <GET https://www.capgemini.com/2017/06/the-end-of-the-testing-world-as-we-know-it/> (referer: None)\n",
      "2020-03-11 09:21:09 [scrapy.core.engine] DEBUG: Crawled (200) <GET https://www.capgemini.com/2017/06/the-surprising-connection-of-the-movie-finding-forrester-with-it-agility/> (referer: None)\n",
      "2020-03-11 09:21:09 [scrapy.core.engine] DEBUG: Crawled (200) <GET https://www.capgemini.com/2017/06/the-role-of-smart-manufacturing-operations-management-in-discrete/> (referer: None)\n",
      "2020-03-11 09:21:09 [scrapy.core.engine] DEBUG: Crawled (200) <GET https://www.capgemini.com/2017/05/harnessing-innovation-for-differentiation-energy-suppliers-big-challenge/> (referer: None)\n",
      "2020-03-11 09:21:09 [urllib3.connectionpool] DEBUG: Starting new HTTPS connection (1): www.capgemini.com:443\n"
     ]
    },
    {
     "name": "stdout",
     "output_type": "stream",
     "text": [
      "https://www.capgemini.com/2017/06/brilliant-factories-are-making-manufacturing-pretty-brilliant/\n"
     ]
    },
    {
     "name": "stderr",
     "output_type": "stream",
     "text": [
      "2020-03-11 09:21:10 [urllib3.connectionpool] DEBUG: https://www.capgemini.com:443 \"GET /2017/06/brilliant-factories-are-making-manufacturing-pretty-brilliant/ HTTP/1.1\" 200 None\n",
      "2020-03-11 09:21:10 [scrapy.core.engine] DEBUG: Crawled (200) <GET https://www.capgemini.com/2017/05/sap-leonardo-renaissance-or-the-second-cognitive-revolution/> (referer: None)\n",
      "2020-03-11 09:21:10 [scrapy.core.engine] DEBUG: Crawled (200) <GET https://www.capgemini.com/2017/04/bots-in-financial-services-the-future-is-now/> (referer: None)\n",
      "2020-03-11 09:21:10 [urllib3.connectionpool] DEBUG: Starting new HTTPS connection (1): www.capgemini.com:443\n",
      "2020-03-11 09:21:10 [urllib3.connectionpool] DEBUG: https://www.capgemini.com:443 \"GET /2017/06/rendezvous-with-the-future-of-consumer-goods-and-retail-i-welcome-to/ HTTP/1.1\" 200 22833\n",
      "2020-03-11 09:21:10 [urllib3.connectionpool] DEBUG: Starting new HTTPS connection (1): www.capgemini.com:443\n"
     ]
    },
    {
     "name": "stdout",
     "output_type": "stream",
     "text": [
      "https://www.capgemini.com/2017/06/rendezvous-with-the-future-of-consumer-goods-and-retail-i-welcome-to/\n",
      "https://www.capgemini.com/2017/06/ai-will-change-retail-forever-if-we-can-trust-it/\n"
     ]
    },
    {
     "name": "stderr",
     "output_type": "stream",
     "text": [
      "2020-03-11 09:21:10 [urllib3.connectionpool] DEBUG: https://www.capgemini.com:443 \"GET /2017/06/ai-will-change-retail-forever-if-we-can-trust-it/ HTTP/1.1\" 200 None\n",
      "2020-03-11 09:21:11 [urllib3.connectionpool] DEBUG: Starting new HTTPS connection (1): www.capgemini.com:443\n",
      "2020-03-11 09:21:11 [urllib3.connectionpool] DEBUG: https://www.capgemini.com:443 \"GET /2017/06/the-truth-is-in-the-eye-of-the-beholder-a-wrap-up-of-sapphire-now-2017/ HTTP/1.1\" 200 23274\n",
      "2020-03-11 09:21:11 [urllib3.connectionpool] DEBUG: Starting new HTTPS connection (1): www.capgemini.com:443\n"
     ]
    },
    {
     "name": "stdout",
     "output_type": "stream",
     "text": [
      "https://www.capgemini.com/2017/06/the-truth-is-in-the-eye-of-the-beholder-a-wrap-up-of-sapphire-now-2017/\n",
      "https://www.capgemini.com/2017/06/the-end-of-the-testing-world-as-we-know-it/\n"
     ]
    },
    {
     "name": "stderr",
     "output_type": "stream",
     "text": [
      "2020-03-11 09:21:11 [urllib3.connectionpool] DEBUG: https://www.capgemini.com:443 \"GET /2017/06/the-end-of-the-testing-world-as-we-know-it/ HTTP/1.1\" 200 26752\n",
      "2020-03-11 09:21:11 [urllib3.connectionpool] DEBUG: Starting new HTTPS connection (1): www.capgemini.com:443\n"
     ]
    },
    {
     "name": "stdout",
     "output_type": "stream",
     "text": [
      "https://www.capgemini.com/2017/06/the-surprising-connection-of-the-movie-finding-forrester-with-it-agility/\n"
     ]
    },
    {
     "name": "stderr",
     "output_type": "stream",
     "text": [
      "2020-03-11 09:21:11 [urllib3.connectionpool] DEBUG: https://www.capgemini.com:443 \"GET /2017/06/the-surprising-connection-of-the-movie-finding-forrester-with-it-agility/ HTTP/1.1\" 200 None\n",
      "2020-03-11 09:21:11 [urllib3.connectionpool] DEBUG: Starting new HTTPS connection (1): www.capgemini.com:443\n"
     ]
    },
    {
     "name": "stdout",
     "output_type": "stream",
     "text": [
      "https://www.capgemini.com/2017/06/the-role-of-smart-manufacturing-operations-management-in-discrete/\n"
     ]
    },
    {
     "name": "stderr",
     "output_type": "stream",
     "text": [
      "2020-03-11 09:21:12 [urllib3.connectionpool] DEBUG: https://www.capgemini.com:443 \"GET /2017/06/the-role-of-smart-manufacturing-operations-management-in-discrete/ HTTP/1.1\" 200 None\n",
      "2020-03-11 09:21:12 [urllib3.connectionpool] DEBUG: Starting new HTTPS connection (1): www.capgemini.com:443\n"
     ]
    },
    {
     "name": "stdout",
     "output_type": "stream",
     "text": [
      "https://www.capgemini.com/2017/05/harnessing-innovation-for-differentiation-energy-suppliers-big-challenge/\n"
     ]
    },
    {
     "name": "stderr",
     "output_type": "stream",
     "text": [
      "2020-03-11 09:21:13 [urllib3.connectionpool] DEBUG: https://www.capgemini.com:443 \"GET /2017/05/harnessing-innovation-for-differentiation-energy-suppliers-big-challenge/ HTTP/1.1\" 200 None\n",
      "2020-03-11 09:21:13 [scrapy.core.engine] DEBUG: Crawled (200) <GET https://www.capgemini.com/2017/05/jerry-maguire-20-selling-in-the-automation-first-world/> (referer: None)\n",
      "2020-03-11 09:21:13 [scrapy.core.engine] DEBUG: Crawled (200) <GET https://www.capgemini.com/2017/05/can-lawyers-and-robots-be-friends/> (referer: None)\n",
      "2020-03-11 09:21:13 [scrapy.core.engine] DEBUG: Crawled (200) <GET https://www.capgemini.com/2017/04/is-ai-the-key-to-curating-user-generated-content/> (referer: None)\n",
      "2020-03-11 09:21:13 [scrapy.core.engine] DEBUG: Crawled (200) <GET https://www.capgemini.com/2017/04/human-empathy-in-virtual-customer-assistants-part-33/> (referer: None)\n",
      "2020-03-11 09:21:13 [scrapy.core.engine] DEBUG: Crawled (200) <GET https://www.capgemini.com/2017/04/do-you-do-robotics-in-hr-2/> (referer: None)\n",
      "2020-03-11 09:21:13 [scrapy.core.engine] DEBUG: Crawled (200) <GET https://www.capgemini.com/2017/03/how-creative-will-cognitive-computing-become/> (referer: None)\n",
      "2020-03-11 09:21:13 [urllib3.connectionpool] DEBUG: Starting new HTTPS connection (1): www.capgemini.com:443\n",
      "2020-03-11 09:21:13 [urllib3.connectionpool] DEBUG: https://www.capgemini.com:443 \"GET /2017/05/sap-leonardo-renaissance-or-the-second-cognitive-revolution/ HTTP/1.1\" 200 22930\n",
      "2020-03-11 09:21:13 [urllib3.connectionpool] DEBUG: Starting new HTTPS connection (1): www.capgemini.com:443\n"
     ]
    },
    {
     "name": "stdout",
     "output_type": "stream",
     "text": [
      "https://www.capgemini.com/2017/05/sap-leonardo-renaissance-or-the-second-cognitive-revolution/\n",
      "https://www.capgemini.com/2017/04/bots-in-financial-services-the-future-is-now/\n"
     ]
    },
    {
     "name": "stderr",
     "output_type": "stream",
     "text": [
      "2020-03-11 09:21:14 [urllib3.connectionpool] DEBUG: https://www.capgemini.com:443 \"GET /2017/04/bots-in-financial-services-the-future-is-now/ HTTP/1.1\" 200 None\n",
      "2020-03-11 09:21:14 [scrapy.core.engine] DEBUG: Crawled (200) <GET https://www.capgemini.com/2017/03/noops-a-paradigm-to-gain-advantage-from-insight-rich-approach-to-adm/> (referer: None)\n",
      "2020-03-11 09:21:14 [scrapy.core.engine] DEBUG: Crawled (200) <GET https://www.capgemini.com/2017/03/human-empathy-in-virtual-customer-assistants/> (referer: None)\n",
      "2020-03-11 09:21:14 [urllib3.connectionpool] DEBUG: Starting new HTTPS connection (1): www.capgemini.com:443\n"
     ]
    },
    {
     "name": "stdout",
     "output_type": "stream",
     "text": [
      "https://www.capgemini.com/2017/05/jerry-maguire-20-selling-in-the-automation-first-world/\n"
     ]
    },
    {
     "name": "stderr",
     "output_type": "stream",
     "text": [
      "2020-03-11 09:21:14 [urllib3.connectionpool] DEBUG: https://www.capgemini.com:443 \"GET /2017/05/jerry-maguire-20-selling-in-the-automation-first-world/ HTTP/1.1\" 200 None\n",
      "2020-03-11 09:21:14 [urllib3.connectionpool] DEBUG: Starting new HTTPS connection (1): www.capgemini.com:443\n"
     ]
    },
    {
     "name": "stdout",
     "output_type": "stream",
     "text": [
      "https://www.capgemini.com/2017/05/can-lawyers-and-robots-be-friends/\n"
     ]
    },
    {
     "name": "stderr",
     "output_type": "stream",
     "text": [
      "2020-03-11 09:21:15 [urllib3.connectionpool] DEBUG: https://www.capgemini.com:443 \"GET /2017/05/can-lawyers-and-robots-be-friends/ HTTP/1.1\" 200 None\n",
      "2020-03-11 09:21:15 [urllib3.connectionpool] DEBUG: Starting new HTTPS connection (1): www.capgemini.com:443\n"
     ]
    },
    {
     "name": "stdout",
     "output_type": "stream",
     "text": [
      "https://www.capgemini.com/2017/04/is-ai-the-key-to-curating-user-generated-content/\n"
     ]
    },
    {
     "name": "stderr",
     "output_type": "stream",
     "text": [
      "2020-03-11 09:21:16 [urllib3.connectionpool] DEBUG: https://www.capgemini.com:443 \"GET /2017/04/is-ai-the-key-to-curating-user-generated-content/ HTTP/1.1\" 200 None\n",
      "2020-03-11 09:21:16 [urllib3.connectionpool] DEBUG: Starting new HTTPS connection (1): www.capgemini.com:443\n",
      "2020-03-11 09:21:16 [urllib3.connectionpool] DEBUG: https://www.capgemini.com:443 \"GET /2017/04/human-empathy-in-virtual-customer-assistants-part-33/ HTTP/1.1\" 200 22803\n",
      "2020-03-11 09:21:16 [urllib3.connectionpool] DEBUG: Starting new HTTPS connection (1): www.capgemini.com:443\n"
     ]
    },
    {
     "name": "stdout",
     "output_type": "stream",
     "text": [
      "https://www.capgemini.com/2017/04/human-empathy-in-virtual-customer-assistants-part-33/\n",
      "https://www.capgemini.com/2017/04/do-you-do-robotics-in-hr-2/\n"
     ]
    },
    {
     "name": "stderr",
     "output_type": "stream",
     "text": [
      "2020-03-11 09:21:16 [urllib3.connectionpool] DEBUG: https://www.capgemini.com:443 \"GET /2017/04/do-you-do-robotics-in-hr-2/ HTTP/1.1\" 200 25119\n",
      "2020-03-11 09:21:16 [urllib3.connectionpool] DEBUG: Starting new HTTPS connection (1): www.capgemini.com:443\n",
      "2020-03-11 09:21:16 [urllib3.connectionpool] DEBUG: https://www.capgemini.com:443 \"GET /2017/03/how-creative-will-cognitive-computing-become/ HTTP/1.1\" 200 28311\n",
      "2020-03-11 09:21:16 [scrapy.core.engine] DEBUG: Crawled (200) <GET https://www.capgemini.com/2017/03/technovision-preview-kickstart-my-app/> (referer: None)\n",
      "2020-03-11 09:21:16 [scrapy.core.engine] DEBUG: Crawled (200) <GET https://www.capgemini.com/2017/02/the-next-services-movement-automatic-art/> (referer: None)\n",
      "2020-03-11 09:21:16 [scrapy.core.engine] DEBUG: Crawled (200) <GET https://www.capgemini.com/2017/02/applied-innovation-in-apac-0/> (referer: None)\n",
      "2020-03-11 09:21:16 [scrapy.core.engine] DEBUG: Crawled (200) <GET https://www.capgemini.com/2017/02/innovation-without-boundaries-how-the-us-and-eu-can-work-together-to/> (referer: None)\n",
      "2020-03-11 09:21:16 [scrapy.core.engine] DEBUG: Crawled (200) <GET https://www.capgemini.com/2017/02/automation-generates-high-profile-jobs-and-theyre-up-for-grabs/> (referer: None)\n",
      "2020-03-11 09:21:16 [scrapy.core.engine] DEBUG: Crawled (200) <GET https://www.capgemini.com/2017/01/the-conundrum-of-big-data/> (referer: None)\n",
      "2020-03-11 09:21:16 [scrapy.extensions.logstats] INFO: Crawled 444 pages (at 145 pages/min), scraped 0 items (at 0 items/min)\n",
      "2020-03-11 09:21:16 [urllib3.connectionpool] DEBUG: Starting new HTTPS connection (1): www.capgemini.com:443\n"
     ]
    },
    {
     "name": "stdout",
     "output_type": "stream",
     "text": [
      "https://www.capgemini.com/2017/03/how-creative-will-cognitive-computing-become/\n",
      "https://www.capgemini.com/2017/03/noops-a-paradigm-to-gain-advantage-from-insight-rich-approach-to-adm/\n"
     ]
    },
    {
     "name": "stderr",
     "output_type": "stream",
     "text": [
      "2020-03-11 09:21:16 [urllib3.connectionpool] DEBUG: https://www.capgemini.com:443 \"GET /2017/03/noops-a-paradigm-to-gain-advantage-from-insight-rich-approach-to-adm/ HTTP/1.1\" 200 27475\n",
      "2020-03-11 09:21:16 [urllib3.connectionpool] DEBUG: Starting new HTTPS connection (1): www.capgemini.com:443\n"
     ]
    },
    {
     "name": "stdout",
     "output_type": "stream",
     "text": [
      "https://www.capgemini.com/2017/03/human-empathy-in-virtual-customer-assistants/\n"
     ]
    },
    {
     "name": "stderr",
     "output_type": "stream",
     "text": [
      "2020-03-11 09:21:17 [urllib3.connectionpool] DEBUG: https://www.capgemini.com:443 \"GET /2017/03/human-empathy-in-virtual-customer-assistants/ HTTP/1.1\" 200 None\n",
      "2020-03-11 09:21:17 [scrapy.core.engine] DEBUG: Crawled (200) <GET https://www.capgemini.com/2017/01/the-digital-workplace-its-biggest-challenge/> (referer: None)\n",
      "2020-03-11 09:21:17 [scrapy.core.engine] DEBUG: Crawled (200) <GET https://www.capgemini.com/2017/01/strategy-and-innovation-what-will-come-in-the-next-50-years/> (referer: None)\n",
      "2020-03-11 09:21:17 [urllib3.connectionpool] DEBUG: Starting new HTTPS connection (1): www.capgemini.com:443\n"
     ]
    },
    {
     "name": "stdout",
     "output_type": "stream",
     "text": [
      "https://www.capgemini.com/2017/03/technovision-preview-kickstart-my-app/\n"
     ]
    },
    {
     "name": "stderr",
     "output_type": "stream",
     "text": [
      "2020-03-11 09:21:17 [urllib3.connectionpool] DEBUG: https://www.capgemini.com:443 \"GET /2017/03/technovision-preview-kickstart-my-app/ HTTP/1.1\" 200 None\n",
      "2020-03-11 09:21:17 [urllib3.connectionpool] DEBUG: Starting new HTTPS connection (1): www.capgemini.com:443\n"
     ]
    },
    {
     "name": "stdout",
     "output_type": "stream",
     "text": [
      "https://www.capgemini.com/2017/02/the-next-services-movement-automatic-art/\n"
     ]
    },
    {
     "name": "stderr",
     "output_type": "stream",
     "text": [
      "2020-03-11 09:21:18 [urllib3.connectionpool] DEBUG: https://www.capgemini.com:443 \"GET /2017/02/the-next-services-movement-automatic-art/ HTTP/1.1\" 200 None\n",
      "2020-03-11 09:21:18 [urllib3.connectionpool] DEBUG: Starting new HTTPS connection (1): www.capgemini.com:443\n",
      "2020-03-11 09:21:18 [urllib3.connectionpool] DEBUG: https://www.capgemini.com:443 \"GET /2017/02/applied-innovation-in-apac-0/ HTTP/1.1\" 200 23320\n",
      "2020-03-11 09:21:18 [urllib3.connectionpool] DEBUG: Starting new HTTPS connection (1): www.capgemini.com:443\n"
     ]
    },
    {
     "name": "stdout",
     "output_type": "stream",
     "text": [
      "https://www.capgemini.com/2017/02/applied-innovation-in-apac-0/\n",
      "https://www.capgemini.com/2017/02/innovation-without-boundaries-how-the-us-and-eu-can-work-together-to/\n"
     ]
    },
    {
     "name": "stderr",
     "output_type": "stream",
     "text": [
      "2020-03-11 09:21:19 [urllib3.connectionpool] DEBUG: https://www.capgemini.com:443 \"GET /2017/02/innovation-without-boundaries-how-the-us-and-eu-can-work-together-to/ HTTP/1.1\" 200 None\n",
      "2020-03-11 09:21:19 [urllib3.connectionpool] DEBUG: Starting new HTTPS connection (1): www.capgemini.com:443\n"
     ]
    },
    {
     "name": "stdout",
     "output_type": "stream",
     "text": [
      "https://www.capgemini.com/2017/02/automation-generates-high-profile-jobs-and-theyre-up-for-grabs/\n"
     ]
    },
    {
     "name": "stderr",
     "output_type": "stream",
     "text": [
      "2020-03-11 09:21:19 [urllib3.connectionpool] DEBUG: https://www.capgemini.com:443 \"GET /2017/02/automation-generates-high-profile-jobs-and-theyre-up-for-grabs/ HTTP/1.1\" 200 None\n",
      "2020-03-11 09:21:19 [urllib3.connectionpool] DEBUG: Starting new HTTPS connection (1): www.capgemini.com:443\n"
     ]
    },
    {
     "name": "stdout",
     "output_type": "stream",
     "text": [
      "https://www.capgemini.com/2017/01/the-conundrum-of-big-data/\n"
     ]
    },
    {
     "name": "stderr",
     "output_type": "stream",
     "text": [
      "2020-03-11 09:21:20 [urllib3.connectionpool] DEBUG: https://www.capgemini.com:443 \"GET /2017/01/the-conundrum-of-big-data/ HTTP/1.1\" 200 None\n",
      "2020-03-11 09:21:20 [scrapy.core.engine] DEBUG: Crawled (200) <GET https://www.capgemini.com/2017/01/leveraging-predix-to-transform-application-modernization-at-ge/> (referer: None)\n",
      "2020-03-11 09:21:20 [urllib3.connectionpool] DEBUG: Starting new HTTPS connection (1): www.capgemini.com:443\n"
     ]
    },
    {
     "name": "stdout",
     "output_type": "stream",
     "text": [
      "https://www.capgemini.com/2017/01/the-digital-workplace-its-biggest-challenge/\n"
     ]
    },
    {
     "name": "stderr",
     "output_type": "stream",
     "text": [
      "2020-03-11 09:21:20 [urllib3.connectionpool] DEBUG: https://www.capgemini.com:443 \"GET /2017/01/the-digital-workplace-its-biggest-challenge/ HTTP/1.1\" 200 None\n",
      "2020-03-11 09:21:21 [urllib3.connectionpool] DEBUG: Starting new HTTPS connection (1): www.capgemini.com:443\n"
     ]
    },
    {
     "name": "stdout",
     "output_type": "stream",
     "text": [
      "https://www.capgemini.com/2017/01/strategy-and-innovation-what-will-come-in-the-next-50-years/\n"
     ]
    },
    {
     "name": "stderr",
     "output_type": "stream",
     "text": [
      "2020-03-11 09:21:21 [urllib3.connectionpool] DEBUG: https://www.capgemini.com:443 \"GET /2017/01/strategy-and-innovation-what-will-come-in-the-next-50-years/ HTTP/1.1\" 200 None\n",
      "2020-03-11 09:21:21 [scrapy.core.engine] DEBUG: Crawled (200) <GET https://www.capgemini.com/2017/01/trends-transforming-a-cios-approach-to-legacy-modernization-0/> (referer: None)\n",
      "2020-03-11 09:21:21 [urllib3.connectionpool] DEBUG: Starting new HTTPS connection (1): www.capgemini.com:443\n",
      "2020-03-11 09:21:21 [urllib3.connectionpool] DEBUG: https://www.capgemini.com:443 \"GET /2017/01/leveraging-predix-to-transform-application-modernization-at-ge/ HTTP/1.1\" 200 26146\n",
      "2020-03-11 09:21:21 [urllib3.connectionpool] DEBUG: Starting new HTTPS connection (1): www.capgemini.com:443\n"
     ]
    },
    {
     "name": "stdout",
     "output_type": "stream",
     "text": [
      "https://www.capgemini.com/2017/01/leveraging-predix-to-transform-application-modernization-at-ge/\n",
      "https://www.capgemini.com/2017/01/trends-transforming-a-cios-approach-to-legacy-modernization-0/\n"
     ]
    },
    {
     "name": "stderr",
     "output_type": "stream",
     "text": [
      "2020-03-11 09:21:21 [urllib3.connectionpool] DEBUG: https://www.capgemini.com:443 \"GET /2017/01/trends-transforming-a-cios-approach-to-legacy-modernization-0/ HTTP/1.1\" 200 27049\n",
      "2020-03-11 09:21:22 [scrapy.core.engine] DEBUG: Crawled (200) <GET https://www.capgemini.com/2017/01/trends-in-the-global-automotive-sector-implications-for-testing-and-qa/> (referer: None)\n",
      "2020-03-11 09:21:22 [urllib3.connectionpool] DEBUG: Starting new HTTPS connection (1): www.capgemini.com:443\n"
     ]
    },
    {
     "name": "stdout",
     "output_type": "stream",
     "text": [
      "https://www.capgemini.com/2017/01/trends-in-the-global-automotive-sector-implications-for-testing-and-qa/\n"
     ]
    },
    {
     "name": "stderr",
     "output_type": "stream",
     "text": [
      "2020-03-11 09:21:22 [urllib3.connectionpool] DEBUG: https://www.capgemini.com:443 \"GET /2017/01/trends-in-the-global-automotive-sector-implications-for-testing-and-qa/ HTTP/1.1\" 200 None\n",
      "2020-03-11 09:21:23 [scrapy.core.engine] DEBUG: Crawled (200) <GET https://www.capgemini.com/2016/10/expect-the-unexpected-and-be-surprised/> (referer: None)\n",
      "2020-03-11 09:21:23 [scrapy.core.engine] DEBUG: Crawled (200) <GET https://www.capgemini.com/2016/12/automate-trouble-ticketing-management-with-natural-language-processing/> (referer: None)\n",
      "2020-03-11 09:21:23 [scrapy.core.engine] DEBUG: Crawled (200) <GET https://www.capgemini.com/2016/10/what-is-a-cognitive-business-initial-thoughts-on-upcoming-ibmwow-2/> (referer: None)\n",
      "2020-03-11 09:21:23 [scrapy.core.engine] DEBUG: Crawled (200) <GET https://www.capgemini.com/2016/10/salesforce-advances-in-financial-services-increase-customer-retention/> (referer: None)\n",
      "2020-03-11 09:21:23 [scrapy.core.engine] DEBUG: Crawled (200) <GET https://www.capgemini.com/2016/10/women-in-technology-may-still-be-scarce-but-were-never-alone/> (referer: None)\n",
      "2020-03-11 09:21:23 [scrapy.core.engine] DEBUG: Crawled (200) <GET https://www.capgemini.com/2016/12/top-10-blogs-of-2016/> (referer: None)\n",
      "2020-03-11 09:21:23 [scrapy.core.engine] DEBUG: Crawled (200) <GET https://www.capgemini.com/2016/12/why-do-we-need-chatbots/> (referer: None)\n",
      "2020-03-11 09:21:23 [scrapy.core.engine] DEBUG: Crawled (200) <GET https://www.capgemini.com/2016/12/digital-user-experiences-that-delight-2017/> (referer: None)\n",
      "2020-03-11 09:21:23 [urllib3.connectionpool] DEBUG: Starting new HTTPS connection (1): www.capgemini.com:443\n",
      "2020-03-11 09:21:23 [urllib3.connectionpool] DEBUG: https://www.capgemini.com:443 \"GET /2016/10/expect-the-unexpected-and-be-surprised/ HTTP/1.1\" 200 24256\n",
      "2020-03-11 09:21:23 [urllib3.connectionpool] DEBUG: Starting new HTTPS connection (1): www.capgemini.com:443\n"
     ]
    },
    {
     "name": "stdout",
     "output_type": "stream",
     "text": [
      "https://www.capgemini.com/2016/10/expect-the-unexpected-and-be-surprised/\n",
      "https://www.capgemini.com/2016/12/automate-trouble-ticketing-management-with-natural-language-processing/\n"
     ]
    },
    {
     "name": "stderr",
     "output_type": "stream",
     "text": [
      "2020-03-11 09:21:23 [urllib3.connectionpool] DEBUG: https://www.capgemini.com:443 \"GET /2016/12/automate-trouble-ticketing-management-with-natural-language-processing/ HTTP/1.1\" 200 27111\n",
      "2020-03-11 09:21:23 [urllib3.connectionpool] DEBUG: Starting new HTTPS connection (1): www.capgemini.com:443\n"
     ]
    },
    {
     "name": "stdout",
     "output_type": "stream",
     "text": [
      "https://www.capgemini.com/2016/10/what-is-a-cognitive-business-initial-thoughts-on-upcoming-ibmwow-2/\n"
     ]
    },
    {
     "name": "stderr",
     "output_type": "stream",
     "text": [
      "2020-03-11 09:21:23 [urllib3.connectionpool] DEBUG: https://www.capgemini.com:443 \"GET /2016/10/what-is-a-cognitive-business-initial-thoughts-on-upcoming-ibmwow-2/ HTTP/1.1\" 200 None\n",
      "2020-03-11 09:21:24 [urllib3.connectionpool] DEBUG: Starting new HTTPS connection (1): www.capgemini.com:443\n",
      "2020-03-11 09:21:24 [urllib3.connectionpool] DEBUG: https://www.capgemini.com:443 \"GET /2016/10/salesforce-advances-in-financial-services-increase-customer-retention/ HTTP/1.1\" 200 22926\n",
      "2020-03-11 09:21:24 [urllib3.connectionpool] DEBUG: Starting new HTTPS connection (1): www.capgemini.com:443\n"
     ]
    },
    {
     "name": "stdout",
     "output_type": "stream",
     "text": [
      "https://www.capgemini.com/2016/10/salesforce-advances-in-financial-services-increase-customer-retention/\n",
      "https://www.capgemini.com/2016/10/women-in-technology-may-still-be-scarce-but-were-never-alone/\n"
     ]
    },
    {
     "name": "stderr",
     "output_type": "stream",
     "text": [
      "2020-03-11 09:21:24 [urllib3.connectionpool] DEBUG: https://www.capgemini.com:443 \"GET /2016/10/women-in-technology-may-still-be-scarce-but-were-never-alone/ HTTP/1.1\" 200 24742\n",
      "2020-03-11 09:21:24 [urllib3.connectionpool] DEBUG: Starting new HTTPS connection (1): www.capgemini.com:443\n"
     ]
    },
    {
     "name": "stdout",
     "output_type": "stream",
     "text": [
      "https://www.capgemini.com/2016/12/top-10-blogs-of-2016/\n"
     ]
    },
    {
     "name": "stderr",
     "output_type": "stream",
     "text": [
      "2020-03-11 09:21:24 [urllib3.connectionpool] DEBUG: https://www.capgemini.com:443 \"GET /2016/12/top-10-blogs-of-2016/ HTTP/1.1\" 200 None\n",
      "2020-03-11 09:21:24 [urllib3.connectionpool] DEBUG: Starting new HTTPS connection (1): www.capgemini.com:443\n",
      "2020-03-11 09:21:25 [urllib3.connectionpool] DEBUG: https://www.capgemini.com:443 \"GET /2016/12/why-do-we-need-chatbots/ HTTP/1.1\" 200 27499\n",
      "2020-03-11 09:21:25 [urllib3.connectionpool] DEBUG: Starting new HTTPS connection (1): www.capgemini.com:443\n"
     ]
    },
    {
     "name": "stdout",
     "output_type": "stream",
     "text": [
      "https://www.capgemini.com/2016/12/why-do-we-need-chatbots/\n",
      "https://www.capgemini.com/2016/12/digital-user-experiences-that-delight-2017/\n"
     ]
    },
    {
     "name": "stderr",
     "output_type": "stream",
     "text": [
      "2020-03-11 09:21:25 [urllib3.connectionpool] DEBUG: https://www.capgemini.com:443 \"GET /2016/12/digital-user-experiences-that-delight-2017/ HTTP/1.1\" 200 None\n",
      "2020-03-11 09:21:25 [scrapy.core.engine] DEBUG: Crawled (200) <GET https://www.capgemini.com/2016/09/from-uber-to-blockchain-a-culture-change/> (referer: None)\n",
      "2020-03-11 09:21:25 [scrapy.core.engine] DEBUG: Crawled (200) <GET https://www.capgemini.com/2016/08/in-business-transformation-robots-are-our-friends/> (referer: None)\n",
      "2020-03-11 09:21:25 [scrapy.core.engine] DEBUG: Crawled (200) <GET https://www.capgemini.com/2016/07/it-applications-of-the-future-how-should-enterprises-prepare-to-ensure-0/> (referer: None)\n",
      "2020-03-11 09:21:25 [scrapy.core.engine] DEBUG: Crawled (200) <GET https://www.capgemini.com/2016/05/everyday-life-in-a-digital-world/> (referer: None)\n",
      "2020-03-11 09:21:25 [scrapy.core.engine] DEBUG: Crawled (200) <GET https://www.capgemini.com/2016/05/contract-management-the-robots-are-here/> (referer: None)\n",
      "2020-03-11 09:21:25 [scrapy.core.engine] DEBUG: Crawled (200) <GET https://www.capgemini.com/2016/05/innovation-nation-spring-2016-edition/> (referer: None)\n",
      "2020-03-11 09:21:25 [scrapy.core.engine] DEBUG: Crawled (200) <GET https://www.capgemini.com/2016/03/does-the-process-still-come-before-the-technology/> (referer: None)\n",
      "2020-03-11 09:21:25 [scrapy.core.engine] DEBUG: Crawled (200) <GET https://www.capgemini.com/2016/03/seven-laws-of-workplace-robotics/> (referer: None)\n",
      "2020-03-11 09:21:25 [urllib3.connectionpool] DEBUG: Starting new HTTPS connection (1): www.capgemini.com:443\n"
     ]
    },
    {
     "name": "stdout",
     "output_type": "stream",
     "text": [
      "https://www.capgemini.com/2016/09/from-uber-to-blockchain-a-culture-change/\n"
     ]
    },
    {
     "name": "stderr",
     "output_type": "stream",
     "text": [
      "2020-03-11 09:21:26 [urllib3.connectionpool] DEBUG: https://www.capgemini.com:443 \"GET /2016/09/from-uber-to-blockchain-a-culture-change/ HTTP/1.1\" 200 None\n",
      "2020-03-11 09:21:26 [urllib3.connectionpool] DEBUG: Starting new HTTPS connection (1): www.capgemini.com:443\n",
      "2020-03-11 09:21:26 [urllib3.connectionpool] DEBUG: https://www.capgemini.com:443 \"GET /2016/08/in-business-transformation-robots-are-our-friends/ HTTP/1.1\" 200 22654\n",
      "2020-03-11 09:21:26 [urllib3.connectionpool] DEBUG: Starting new HTTPS connection (1): www.capgemini.com:443\n"
     ]
    },
    {
     "name": "stdout",
     "output_type": "stream",
     "text": [
      "https://www.capgemini.com/2016/08/in-business-transformation-robots-are-our-friends/\n",
      "https://www.capgemini.com/2016/07/it-applications-of-the-future-how-should-enterprises-prepare-to-ensure-0/\n"
     ]
    },
    {
     "name": "stderr",
     "output_type": "stream",
     "text": [
      "2020-03-11 09:21:26 [urllib3.connectionpool] DEBUG: https://www.capgemini.com:443 \"GET /2016/07/it-applications-of-the-future-how-should-enterprises-prepare-to-ensure-0/ HTTP/1.1\" 200 25074\n",
      "2020-03-11 09:21:26 [urllib3.connectionpool] DEBUG: Starting new HTTPS connection (1): www.capgemini.com:443\n"
     ]
    },
    {
     "name": "stdout",
     "output_type": "stream",
     "text": [
      "https://www.capgemini.com/2016/05/everyday-life-in-a-digital-world/\n"
     ]
    },
    {
     "name": "stderr",
     "output_type": "stream",
     "text": [
      "2020-03-11 09:21:27 [urllib3.connectionpool] DEBUG: https://www.capgemini.com:443 \"GET /2016/05/everyday-life-in-a-digital-world/ HTTP/1.1\" 200 None\n",
      "2020-03-11 09:21:27 [urllib3.connectionpool] DEBUG: Starting new HTTPS connection (1): www.capgemini.com:443\n"
     ]
    },
    {
     "name": "stdout",
     "output_type": "stream",
     "text": [
      "https://www.capgemini.com/2016/05/contract-management-the-robots-are-here/\n"
     ]
    },
    {
     "name": "stderr",
     "output_type": "stream",
     "text": [
      "2020-03-11 09:21:28 [urllib3.connectionpool] DEBUG: https://www.capgemini.com:443 \"GET /2016/05/contract-management-the-robots-are-here/ HTTP/1.1\" 200 None\n",
      "2020-03-11 09:21:28 [scrapy.core.engine] DEBUG: Crawled (200) <GET https://www.capgemini.com/2016/01/bpo-thought-process-top-10-blogs-for-2015/> (referer: None)\n",
      "2020-03-11 09:21:28 [scrapy.core.engine] DEBUG: Crawled (200) <GET https://www.capgemini.com/2016/01/technovision-2016-digital-self/> (referer: None)\n",
      "2020-03-11 09:21:28 [scrapy.core.engine] DEBUG: Crawled (200) <GET https://www.capgemini.com/2015/12/technovision-2016-no-process/> (referer: None)\n",
      "2020-03-11 09:21:28 [scrapy.core.engine] DEBUG: Crawled (200) <GET https://www.capgemini.com/2015/08/looking-at-telecom-industry-trends-by-2020-and-beyond/> (referer: None)\n",
      "2020-03-11 09:21:28 [scrapy.core.engine] DEBUG: Crawled (200) <GET https://www.capgemini.com/2015/08/oracle-and-self-learning-algorithms/> (referer: None)\n",
      "2020-03-11 09:21:28 [scrapy.core.engine] DEBUG: Crawled (200) <GET https://www.capgemini.com/2015/06/is-the-speed-of-technology-development-really-speeding-up/> (referer: None)\n",
      "2020-03-11 09:21:28 [scrapy.core.engine] DEBUG: Crawled (200) <GET https://www.capgemini.com/2015/05/internet-of-things-iot-what-is-next/> (referer: None)\n",
      "2020-03-11 09:21:28 [scrapy.core.engine] DEBUG: Crawled (200) <GET https://www.capgemini.com/2015/04/capturing-big-data-are-you-ready-part-2-of-2/> (referer: None)\n",
      "2020-03-11 09:21:28 [urllib3.connectionpool] DEBUG: Starting new HTTPS connection (1): www.capgemini.com:443\n",
      "2020-03-11 09:21:28 [urllib3.connectionpool] DEBUG: https://www.capgemini.com:443 \"GET /2016/05/innovation-nation-spring-2016-edition/ HTTP/1.1\" 200 24657\n",
      "2020-03-11 09:21:28 [urllib3.connectionpool] DEBUG: Starting new HTTPS connection (1): www.capgemini.com:443\n",
      "2020-03-11 09:21:28 [urllib3.connectionpool] DEBUG: https://www.capgemini.com:443 \"GET /2016/03/does-the-process-still-come-before-the-technology/ HTTP/1.1\" 200 26051\n"
     ]
    },
    {
     "name": "stdout",
     "output_type": "stream",
     "text": [
      "https://www.capgemini.com/2016/05/innovation-nation-spring-2016-edition/\n",
      "https://www.capgemini.com/2016/03/does-the-process-still-come-before-the-technology/\n"
     ]
    },
    {
     "name": "stderr",
     "output_type": "stream",
     "text": [
      "2020-03-11 09:21:28 [urllib3.connectionpool] DEBUG: Starting new HTTPS connection (1): www.capgemini.com:443\n",
      "2020-03-11 09:21:28 [urllib3.connectionpool] DEBUG: https://www.capgemini.com:443 \"GET /2016/03/seven-laws-of-workplace-robotics/ HTTP/1.1\" 200 26631\n",
      "2020-03-11 09:21:28 [urllib3.connectionpool] DEBUG: Starting new HTTPS connection (1): www.capgemini.com:443\n"
     ]
    },
    {
     "name": "stdout",
     "output_type": "stream",
     "text": [
      "https://www.capgemini.com/2016/03/seven-laws-of-workplace-robotics/\n",
      "https://www.capgemini.com/2016/01/bpo-thought-process-top-10-blogs-for-2015/\n"
     ]
    },
    {
     "name": "stderr",
     "output_type": "stream",
     "text": [
      "2020-03-11 09:21:28 [urllib3.connectionpool] DEBUG: https://www.capgemini.com:443 \"GET /2016/01/bpo-thought-process-top-10-blogs-for-2015/ HTTP/1.1\" 200 25410\n",
      "2020-03-11 09:21:28 [urllib3.connectionpool] DEBUG: Starting new HTTPS connection (1): www.capgemini.com:443\n"
     ]
    },
    {
     "name": "stdout",
     "output_type": "stream",
     "text": [
      "https://www.capgemini.com/2016/01/technovision-2016-digital-self/\n"
     ]
    },
    {
     "name": "stderr",
     "output_type": "stream",
     "text": [
      "2020-03-11 09:21:29 [urllib3.connectionpool] DEBUG: https://www.capgemini.com:443 \"GET /2016/01/technovision-2016-digital-self/ HTTP/1.1\" 200 None\n",
      "2020-03-11 09:21:29 [urllib3.connectionpool] DEBUG: Starting new HTTPS connection (1): www.capgemini.com:443\n"
     ]
    },
    {
     "name": "stdout",
     "output_type": "stream",
     "text": [
      "https://www.capgemini.com/2015/12/technovision-2016-no-process/\n"
     ]
    },
    {
     "name": "stderr",
     "output_type": "stream",
     "text": [
      "2020-03-11 09:21:29 [urllib3.connectionpool] DEBUG: https://www.capgemini.com:443 \"GET /2015/12/technovision-2016-no-process/ HTTP/1.1\" 200 None\n",
      "2020-03-11 09:21:30 [urllib3.connectionpool] DEBUG: Starting new HTTPS connection (1): www.capgemini.com:443\n"
     ]
    },
    {
     "name": "stdout",
     "output_type": "stream",
     "text": [
      "https://www.capgemini.com/2015/08/looking-at-telecom-industry-trends-by-2020-and-beyond/\n"
     ]
    },
    {
     "name": "stderr",
     "output_type": "stream",
     "text": [
      "2020-03-11 09:21:30 [urllib3.connectionpool] DEBUG: https://www.capgemini.com:443 \"GET /2015/08/looking-at-telecom-industry-trends-by-2020-and-beyond/ HTTP/1.1\" 200 None\n",
      "2020-03-11 09:21:30 [urllib3.connectionpool] DEBUG: Starting new HTTPS connection (1): www.capgemini.com:443\n",
      "2020-03-11 09:21:30 [urllib3.connectionpool] DEBUG: https://www.capgemini.com:443 \"GET /2015/08/oracle-and-self-learning-algorithms/ HTTP/1.1\" 200 23528\n",
      "2020-03-11 09:21:30 [urllib3.connectionpool] DEBUG: Starting new HTTPS connection (1): www.capgemini.com:443\n"
     ]
    },
    {
     "name": "stdout",
     "output_type": "stream",
     "text": [
      "https://www.capgemini.com/2015/08/oracle-and-self-learning-algorithms/\n",
      "https://www.capgemini.com/2015/06/is-the-speed-of-technology-development-really-speeding-up/\n"
     ]
    },
    {
     "name": "stderr",
     "output_type": "stream",
     "text": [
      "2020-03-11 09:21:31 [urllib3.connectionpool] DEBUG: https://www.capgemini.com:443 \"GET /2015/06/is-the-speed-of-technology-development-really-speeding-up/ HTTP/1.1\" 200 23364\n",
      "2020-03-11 09:21:31 [urllib3.connectionpool] DEBUG: Starting new HTTPS connection (1): www.capgemini.com:443\n",
      "2020-03-11 09:21:31 [urllib3.connectionpool] DEBUG: https://www.capgemini.com:443 \"GET /2015/05/internet-of-things-iot-what-is-next/ HTTP/1.1\" 200 27453\n",
      "2020-03-11 09:21:31 [urllib3.connectionpool] DEBUG: Starting new HTTPS connection (1): www.capgemini.com:443\n"
     ]
    },
    {
     "name": "stdout",
     "output_type": "stream",
     "text": [
      "https://www.capgemini.com/2015/05/internet-of-things-iot-what-is-next/\n",
      "https://www.capgemini.com/2015/04/capturing-big-data-are-you-ready-part-2-of-2/\n"
     ]
    },
    {
     "name": "stderr",
     "output_type": "stream",
     "text": [
      "2020-03-11 09:21:31 [urllib3.connectionpool] DEBUG: https://www.capgemini.com:443 \"GET /2015/04/capturing-big-data-are-you-ready-part-2-of-2/ HTTP/1.1\" 200 26459\n",
      "2020-03-11 09:21:31 [scrapy.core.engine] DEBUG: Crawled (200) <GET https://www.capgemini.com/2015/04/capturing-big-data-are-you-ready-part-1-of-2/> (referer: None)\n",
      "2020-03-11 09:21:31 [scrapy.core.engine] DEBUG: Crawled (200) <GET https://www.capgemini.com/2015/04/einstein-must-have-been-right/> (referer: None)\n",
      "2020-03-11 09:21:31 [scrapy.core.engine] DEBUG: Crawled (200) <GET https://www.capgemini.com/2015/02/social-is-the-new-oil-and-risk-is-certain/> (referer: None)\n",
      "2020-03-11 09:21:31 [scrapy.core.engine] DEBUG: Crawled (200) <GET https://www.capgemini.com/2015/01/7-topics-that-need-your-digital-attention-in-2015/> (referer: None)\n",
      "2020-03-11 09:21:31 [scrapy.core.engine] DEBUG: Crawled (200) <GET https://www.capgemini.com/2014/12/technovision-2015-digital-self/> (referer: None)\n",
      "2020-03-11 09:21:31 [scrapy.core.engine] DEBUG: Crawled (200) <GET https://www.capgemini.com/2014/11/technovision-2015-no-process/> (referer: None)\n",
      "2020-03-11 09:21:31 [urllib3.connectionpool] DEBUG: Starting new HTTPS connection (1): www.capgemini.com:443\n",
      "2020-03-11 09:21:31 [urllib3.connectionpool] DEBUG: https://www.capgemini.com:443 \"GET /2015/04/capturing-big-data-are-you-ready-part-1-of-2/ HTTP/1.1\" 200 26753\n",
      "2020-03-11 09:21:31 [urllib3.connectionpool] DEBUG: Starting new HTTPS connection (1): www.capgemini.com:443\n"
     ]
    },
    {
     "name": "stdout",
     "output_type": "stream",
     "text": [
      "https://www.capgemini.com/2015/04/capturing-big-data-are-you-ready-part-1-of-2/\n",
      "https://www.capgemini.com/2015/04/einstein-must-have-been-right/\n"
     ]
    },
    {
     "name": "stderr",
     "output_type": "stream",
     "text": [
      "2020-03-11 09:21:31 [urllib3.connectionpool] DEBUG: https://www.capgemini.com:443 \"GET /2015/04/einstein-must-have-been-right/ HTTP/1.1\" 200 23690\n",
      "2020-03-11 09:21:31 [urllib3.connectionpool] DEBUG: Starting new HTTPS connection (1): www.capgemini.com:443\n"
     ]
    },
    {
     "name": "stdout",
     "output_type": "stream",
     "text": [
      "https://www.capgemini.com/2015/02/social-is-the-new-oil-and-risk-is-certain/\n"
     ]
    },
    {
     "name": "stderr",
     "output_type": "stream",
     "text": [
      "2020-03-11 09:21:32 [urllib3.connectionpool] DEBUG: https://www.capgemini.com:443 \"GET /2015/02/social-is-the-new-oil-and-risk-is-certain/ HTTP/1.1\" 200 None\n",
      "2020-03-11 09:21:32 [urllib3.connectionpool] DEBUG: Starting new HTTPS connection (1): www.capgemini.com:443\n"
     ]
    },
    {
     "name": "stdout",
     "output_type": "stream",
     "text": [
      "https://www.capgemini.com/2015/01/7-topics-that-need-your-digital-attention-in-2015/\n"
     ]
    },
    {
     "name": "stderr",
     "output_type": "stream",
     "text": [
      "2020-03-11 09:21:32 [urllib3.connectionpool] DEBUG: https://www.capgemini.com:443 \"GET /2015/01/7-topics-that-need-your-digital-attention-in-2015/ HTTP/1.1\" 200 None\n",
      "2020-03-11 09:21:32 [urllib3.connectionpool] DEBUG: Starting new HTTPS connection (1): www.capgemini.com:443\n",
      "2020-03-11 09:21:32 [urllib3.connectionpool] DEBUG: https://www.capgemini.com:443 \"GET /2014/12/technovision-2015-digital-self/ HTTP/1.1\" 200 23739\n",
      "2020-03-11 09:21:32 [urllib3.connectionpool] DEBUG: Starting new HTTPS connection (1): www.capgemini.com:443\n"
     ]
    },
    {
     "name": "stdout",
     "output_type": "stream",
     "text": [
      "https://www.capgemini.com/2014/12/technovision-2015-digital-self/\n",
      "https://www.capgemini.com/2014/11/technovision-2015-no-process/\n"
     ]
    },
    {
     "name": "stderr",
     "output_type": "stream",
     "text": [
      "2020-03-11 09:21:33 [urllib3.connectionpool] DEBUG: https://www.capgemini.com:443 \"GET /2014/11/technovision-2015-no-process/ HTTP/1.1\" 200 None\n",
      "2020-03-11 09:21:33 [scrapy.core.engine] DEBUG: Crawled (200) <GET https://www.capgemini.com/2014/07/its-time-for-procurement-to-be-the-hero/> (referer: None)\n",
      "2020-03-11 09:21:33 [scrapy.core.engine] DEBUG: Crawled (200) <GET https://www.capgemini.com/2014/06/hello-robotics-and-automation-will-technology-transform-bpo/> (referer: None)\n",
      "2020-03-11 09:21:33 [scrapy.core.engine] DEBUG: Crawled (200) <GET https://www.capgemini.com/2014/04/cognitive-dissonance-usability-vs-engineering/> (referer: None)\n",
      "2020-03-11 09:21:33 [scrapy.core.engine] DEBUG: Crawled (200) <GET https://www.capgemini.com/2012/09/design-thinking-how-to-innovate-if-youre-not-an-engineer/> (referer: None)\n",
      "2020-03-11 09:21:33 [scrapy.core.engine] DEBUG: Crawled (200) <GET https://www.capgemini.com/2012/07/innovation-world-tour-its-about-the-ecosystem/> (referer: None)\n",
      "2020-03-11 09:21:33 [scrapy.core.engine] DEBUG: Crawled (200) <GET https://www.capgemini.com/2012/06/israel-is-a-computer-science-empire/> (referer: None)\n",
      "2020-03-11 09:21:33 [scrapy.core.engine] DEBUG: Crawled (200) <GET https://www.capgemini.com/2014/11/the-privacy-vs-security-paradox/> (referer: None)\n",
      "2020-03-11 09:21:33 [scrapy.core.engine] DEBUG: Crawled (200) <GET https://www.capgemini.com/2014/11/technovision-2015-cognito-ergo-sum/> (referer: None)\n",
      "2020-03-11 09:21:33 [urllib3.connectionpool] DEBUG: Starting new HTTPS connection (1): www.capgemini.com:443\n"
     ]
    },
    {
     "name": "stdout",
     "output_type": "stream",
     "text": [
      "https://www.capgemini.com/2014/07/its-time-for-procurement-to-be-the-hero/\n"
     ]
    },
    {
     "name": "stderr",
     "output_type": "stream",
     "text": [
      "2020-03-11 09:21:34 [urllib3.connectionpool] DEBUG: https://www.capgemini.com:443 \"GET /2014/07/its-time-for-procurement-to-be-the-hero/ HTTP/1.1\" 200 None\n",
      "2020-03-11 09:21:34 [scrapy.core.engine] DEBUG: Crawled (200) <GET https://www.capgemini.com/2012/06/staying-secure-with-indian-algorithms/> (referer: None)\n",
      "2020-03-11 09:21:34 [scrapy.core.engine] DEBUG: Crawled (200) <GET https://www.capgemini.com/2012/04/brazil-ledface-answers-your-subjective-questions/> (referer: None)\n",
      "2020-03-11 09:21:34 [scrapy.core.engine] DEBUG: Crawled (200) <GET https://www.capgemini.com/2010/04/knowledgebases-in-general-corporate-context/> (referer: None)\n",
      "2020-03-11 09:21:34 [scrapy.core.engine] DEBUG: Crawled (200) <GET https://www.capgemini.com/2010/02/living-and-dying-the-online-way/> (referer: None)\n",
      "2020-03-11 09:21:34 [scrapy.core.engine] DEBUG: Crawled (200) <GET https://www.capgemini.com/2009/11/weekly-digest-of-week-48-2009/> (referer: None)\n",
      "2020-03-11 09:21:34 [scrapy.core.engine] DEBUG: Crawled (200) <GET https://www.capgemini.com/2009/08/weekly-digest-of-week-35-2009/> (referer: None)\n",
      "2020-03-11 09:21:34 [scrapy.core.engine] DEBUG: Crawled (200) <GET https://www.capgemini.com/2008/08/cuil-bursts-onto-the-semantic-search-scene/> (referer: None)\n",
      "2020-03-11 09:21:34 [urllib3.connectionpool] DEBUG: Starting new HTTPS connection (1): www.capgemini.com:443\n"
     ]
    },
    {
     "name": "stdout",
     "output_type": "stream",
     "text": [
      "https://www.capgemini.com/2014/06/hello-robotics-and-automation-will-technology-transform-bpo/\n"
     ]
    },
    {
     "name": "stderr",
     "output_type": "stream",
     "text": [
      "2020-03-11 09:21:35 [urllib3.connectionpool] DEBUG: https://www.capgemini.com:443 \"GET /2014/06/hello-robotics-and-automation-will-technology-transform-bpo/ HTTP/1.1\" 200 None\n",
      "2020-03-11 09:21:35 [urllib3.connectionpool] DEBUG: Starting new HTTPS connection (1): www.capgemini.com:443\n",
      "2020-03-11 09:21:35 [urllib3.connectionpool] DEBUG: https://www.capgemini.com:443 \"GET /2014/04/cognitive-dissonance-usability-vs-engineering/ HTTP/1.1\" 200 23203\n",
      "2020-03-11 09:21:35 [urllib3.connectionpool] DEBUG: Starting new HTTPS connection (1): www.capgemini.com:443\n"
     ]
    },
    {
     "name": "stdout",
     "output_type": "stream",
     "text": [
      "https://www.capgemini.com/2014/04/cognitive-dissonance-usability-vs-engineering/\n",
      "https://www.capgemini.com/2012/09/design-thinking-how-to-innovate-if-youre-not-an-engineer/\n"
     ]
    },
    {
     "name": "stderr",
     "output_type": "stream",
     "text": [
      "2020-03-11 09:21:35 [urllib3.connectionpool] DEBUG: https://www.capgemini.com:443 \"GET /2012/09/design-thinking-how-to-innovate-if-youre-not-an-engineer/ HTTP/1.1\" 200 None\n",
      "2020-03-11 09:21:35 [urllib3.connectionpool] DEBUG: Starting new HTTPS connection (1): www.capgemini.com:443\n",
      "2020-03-11 09:21:35 [urllib3.connectionpool] DEBUG: https://www.capgemini.com:443 \"GET /2012/07/innovation-world-tour-its-about-the-ecosystem/ HTTP/1.1\" 200 25855\n",
      "2020-03-11 09:21:35 [urllib3.connectionpool] DEBUG: Starting new HTTPS connection (1): www.capgemini.com:443\n"
     ]
    },
    {
     "name": "stdout",
     "output_type": "stream",
     "text": [
      "https://www.capgemini.com/2012/07/innovation-world-tour-its-about-the-ecosystem/\n",
      "https://www.capgemini.com/2012/06/israel-is-a-computer-science-empire/\n"
     ]
    },
    {
     "name": "stderr",
     "output_type": "stream",
     "text": [
      "2020-03-11 09:21:36 [urllib3.connectionpool] DEBUG: https://www.capgemini.com:443 \"GET /2012/06/israel-is-a-computer-science-empire/ HTTP/1.1\" 200 None\n",
      "2020-03-11 09:21:36 [urllib3.connectionpool] DEBUG: Starting new HTTPS connection (1): www.capgemini.com:443\n"
     ]
    },
    {
     "name": "stdout",
     "output_type": "stream",
     "text": [
      "https://www.capgemini.com/2014/11/the-privacy-vs-security-paradox/\n"
     ]
    },
    {
     "name": "stderr",
     "output_type": "stream",
     "text": [
      "2020-03-11 09:21:37 [urllib3.connectionpool] DEBUG: https://www.capgemini.com:443 \"GET /2014/11/the-privacy-vs-security-paradox/ HTTP/1.1\" 200 None\n",
      "2020-03-11 09:21:37 [urllib3.connectionpool] DEBUG: Starting new HTTPS connection (1): www.capgemini.com:443\n"
     ]
    },
    {
     "name": "stdout",
     "output_type": "stream",
     "text": [
      "https://www.capgemini.com/2014/11/technovision-2015-cognito-ergo-sum/\n"
     ]
    },
    {
     "name": "stderr",
     "output_type": "stream",
     "text": [
      "2020-03-11 09:21:37 [urllib3.connectionpool] DEBUG: https://www.capgemini.com:443 \"GET /2014/11/technovision-2015-cognito-ergo-sum/ HTTP/1.1\" 200 None\n",
      "2020-03-11 09:21:37 [scrapy.core.engine] DEBUG: Crawled (200) <GET https://www.capgemini.com/2012/04/the-benefits-of-using-business-rules/> (referer: None)\n",
      "2020-03-11 09:21:37 [urllib3.connectionpool] DEBUG: Starting new HTTPS connection (1): www.capgemini.com:443\n"
     ]
    },
    {
     "name": "stdout",
     "output_type": "stream",
     "text": [
      "https://www.capgemini.com/2012/06/staying-secure-with-indian-algorithms/\n"
     ]
    },
    {
     "name": "stderr",
     "output_type": "stream",
     "text": [
      "2020-03-11 09:21:38 [urllib3.connectionpool] DEBUG: https://www.capgemini.com:443 \"GET /2012/06/staying-secure-with-indian-algorithms/ HTTP/1.1\" 200 None\n",
      "2020-03-11 09:21:38 [urllib3.connectionpool] DEBUG: Starting new HTTPS connection (1): www.capgemini.com:443\n"
     ]
    },
    {
     "name": "stdout",
     "output_type": "stream",
     "text": [
      "https://www.capgemini.com/2012/04/brazil-ledface-answers-your-subjective-questions/\n"
     ]
    },
    {
     "name": "stderr",
     "output_type": "stream",
     "text": [
      "2020-03-11 09:21:39 [urllib3.connectionpool] DEBUG: https://www.capgemini.com:443 \"GET /2012/04/brazil-ledface-answers-your-subjective-questions/ HTTP/1.1\" 200 None\n",
      "2020-03-11 09:21:39 [urllib3.connectionpool] DEBUG: Starting new HTTPS connection (1): www.capgemini.com:443\n"
     ]
    },
    {
     "name": "stdout",
     "output_type": "stream",
     "text": [
      "https://www.capgemini.com/2010/04/knowledgebases-in-general-corporate-context/\n"
     ]
    },
    {
     "name": "stderr",
     "output_type": "stream",
     "text": [
      "2020-03-11 09:21:39 [urllib3.connectionpool] DEBUG: https://www.capgemini.com:443 \"GET /2010/04/knowledgebases-in-general-corporate-context/ HTTP/1.1\" 200 None\n",
      "2020-03-11 09:21:40 [urllib3.connectionpool] DEBUG: Starting new HTTPS connection (1): www.capgemini.com:443\n"
     ]
    },
    {
     "name": "stdout",
     "output_type": "stream",
     "text": [
      "https://www.capgemini.com/2010/02/living-and-dying-the-online-way/\n"
     ]
    },
    {
     "name": "stderr",
     "output_type": "stream",
     "text": [
      "2020-03-11 09:21:40 [urllib3.connectionpool] DEBUG: https://www.capgemini.com:443 \"GET /2010/02/living-and-dying-the-online-way/ HTTP/1.1\" 200 None\n",
      "2020-03-11 09:21:40 [urllib3.connectionpool] DEBUG: Starting new HTTPS connection (1): www.capgemini.com:443\n",
      "2020-03-11 09:21:40 [urllib3.connectionpool] DEBUG: https://www.capgemini.com:443 \"GET /2009/11/weekly-digest-of-week-48-2009/ HTTP/1.1\" 200 24277\n",
      "2020-03-11 09:21:40 [urllib3.connectionpool] DEBUG: Starting new HTTPS connection (1): www.capgemini.com:443\n"
     ]
    },
    {
     "name": "stdout",
     "output_type": "stream",
     "text": [
      "https://www.capgemini.com/2009/11/weekly-digest-of-week-48-2009/\n",
      "https://www.capgemini.com/2009/08/weekly-digest-of-week-35-2009/\n"
     ]
    },
    {
     "name": "stderr",
     "output_type": "stream",
     "text": [
      "2020-03-11 09:21:41 [urllib3.connectionpool] DEBUG: https://www.capgemini.com:443 \"GET /2009/08/weekly-digest-of-week-35-2009/ HTTP/1.1\" 200 None\n",
      "2020-03-11 09:21:41 [urllib3.connectionpool] DEBUG: Starting new HTTPS connection (1): www.capgemini.com:443\n"
     ]
    },
    {
     "name": "stdout",
     "output_type": "stream",
     "text": [
      "https://www.capgemini.com/2008/08/cuil-bursts-onto-the-semantic-search-scene/\n"
     ]
    },
    {
     "name": "stderr",
     "output_type": "stream",
     "text": [
      "2020-03-11 09:21:42 [urllib3.connectionpool] DEBUG: https://www.capgemini.com:443 \"GET /2008/08/cuil-bursts-onto-the-semantic-search-scene/ HTTP/1.1\" 200 None\n",
      "2020-03-11 09:21:42 [scrapy.core.engine] DEBUG: Crawled (200) <GET https://www.capgemini.com/2008/05/the-invisible-hand-the-sequel/> (referer: None)\n",
      "2020-03-11 09:21:42 [scrapy.core.engine] DEBUG: Crawled (200) <GET https://www.capgemini.com/2008/01/web-20-meets-ai-and-the-law-of-diminishing-returns-from-sam-ceccola/> (referer: None)\n",
      "2020-03-11 09:21:42 [scrapy.core.engine] DEBUG: Crawled (200) <GET https://www.capgemini.com/2007/02/eyes-of-the-crowd/> (referer: None)\n",
      "2020-03-11 09:21:42 [scrapy.core.engine] DEBUG: Crawled (200) <GET https://www.capgemini.com/2020/01/implementing-ai-for-everyone-bankings-1-new-years-resolution/> (referer: None)\n",
      "2020-03-11 09:21:42 [scrapy.core.engine] DEBUG: Crawled (200) <GET https://www.capgemini.com/2019/12/ai-the-regulation-to-come/> (referer: None)\n",
      "2020-03-11 09:21:42 [scrapy.core.engine] DEBUG: Crawled (200) <GET https://www.capgemini.com/2019/07/from-e-commerce-to-c-commerce/> (referer: None)\n",
      "2020-03-11 09:21:42 [scrapy.core.engine] DEBUG: Crawled (200) <GET https://www.capgemini.com/2019/03/why-think-in-the-past-when-you-can-dream-of-the-future/> (referer: None)\n",
      "2020-03-11 09:21:42 [urllib3.connectionpool] DEBUG: Starting new HTTPS connection (1): www.capgemini.com:443\n"
     ]
    },
    {
     "name": "stdout",
     "output_type": "stream",
     "text": [
      "https://www.capgemini.com/2012/04/the-benefits-of-using-business-rules/\n"
     ]
    },
    {
     "name": "stderr",
     "output_type": "stream",
     "text": [
      "2020-03-11 09:21:42 [urllib3.connectionpool] DEBUG: https://www.capgemini.com:443 \"GET /2012/04/the-benefits-of-using-business-rules/ HTTP/1.1\" 200 None\n",
      "2020-03-11 09:21:43 [urllib3.connectionpool] DEBUG: Starting new HTTPS connection (1): www.capgemini.com:443\n"
     ]
    },
    {
     "name": "stdout",
     "output_type": "stream",
     "text": [
      "https://www.capgemini.com/2008/05/the-invisible-hand-the-sequel/\n"
     ]
    },
    {
     "name": "stderr",
     "output_type": "stream",
     "text": [
      "2020-03-11 09:21:43 [urllib3.connectionpool] DEBUG: https://www.capgemini.com:443 \"GET /2008/05/the-invisible-hand-the-sequel/ HTTP/1.1\" 200 None\n",
      "2020-03-11 09:21:43 [urllib3.connectionpool] DEBUG: Starting new HTTPS connection (1): www.capgemini.com:443\n"
     ]
    },
    {
     "name": "stdout",
     "output_type": "stream",
     "text": [
      "https://www.capgemini.com/2008/01/web-20-meets-ai-and-the-law-of-diminishing-returns-from-sam-ceccola/\n"
     ]
    },
    {
     "name": "stderr",
     "output_type": "stream",
     "text": [
      "2020-03-11 09:21:44 [urllib3.connectionpool] DEBUG: https://www.capgemini.com:443 \"GET /2008/01/web-20-meets-ai-and-the-law-of-diminishing-returns-from-sam-ceccola/ HTTP/1.1\" 200 None\n",
      "2020-03-11 09:21:44 [urllib3.connectionpool] DEBUG: Starting new HTTPS connection (1): www.capgemini.com:443\n"
     ]
    },
    {
     "name": "stdout",
     "output_type": "stream",
     "text": [
      "https://www.capgemini.com/2007/02/eyes-of-the-crowd/\n"
     ]
    },
    {
     "name": "stderr",
     "output_type": "stream",
     "text": [
      "2020-03-11 09:21:44 [urllib3.connectionpool] DEBUG: https://www.capgemini.com:443 \"GET /2007/02/eyes-of-the-crowd/ HTTP/1.1\" 200 None\n",
      "2020-03-11 09:21:45 [urllib3.connectionpool] DEBUG: Starting new HTTPS connection (1): www.capgemini.com:443\n"
     ]
    },
    {
     "name": "stdout",
     "output_type": "stream",
     "text": [
      "https://www.capgemini.com/2020/01/implementing-ai-for-everyone-bankings-1-new-years-resolution/\n"
     ]
    },
    {
     "name": "stderr",
     "output_type": "stream",
     "text": [
      "2020-03-11 09:21:45 [urllib3.connectionpool] DEBUG: https://www.capgemini.com:443 \"GET /2020/01/implementing-ai-for-everyone-bankings-1-new-years-resolution/ HTTP/1.1\" 200 None\n",
      "2020-03-11 09:21:45 [urllib3.connectionpool] DEBUG: Starting new HTTPS connection (1): www.capgemini.com:443\n",
      "2020-03-11 09:21:45 [urllib3.connectionpool] DEBUG: https://www.capgemini.com:443 \"GET /2019/12/ai-the-regulation-to-come/ HTTP/1.1\" 200 25786\n",
      "2020-03-11 09:21:45 [urllib3.connectionpool] DEBUG: Starting new HTTPS connection (1): www.capgemini.com:443\n"
     ]
    },
    {
     "name": "stdout",
     "output_type": "stream",
     "text": [
      "https://www.capgemini.com/2019/12/ai-the-regulation-to-come/\n",
      "https://www.capgemini.com/2019/07/from-e-commerce-to-c-commerce/\n"
     ]
    },
    {
     "name": "stderr",
     "output_type": "stream",
     "text": [
      "2020-03-11 09:21:46 [urllib3.connectionpool] DEBUG: https://www.capgemini.com:443 \"GET /2019/07/from-e-commerce-to-c-commerce/ HTTP/1.1\" 200 None\n",
      "2020-03-11 09:21:46 [urllib3.connectionpool] DEBUG: Starting new HTTPS connection (1): www.capgemini.com:443\n"
     ]
    },
    {
     "name": "stdout",
     "output_type": "stream",
     "text": [
      "https://www.capgemini.com/2019/03/why-think-in-the-past-when-you-can-dream-of-the-future/\n"
     ]
    },
    {
     "name": "stderr",
     "output_type": "stream",
     "text": [
      "2020-03-11 09:21:46 [urllib3.connectionpool] DEBUG: https://www.capgemini.com:443 \"GET /2019/03/why-think-in-the-past-when-you-can-dream-of-the-future/ HTTP/1.1\" 200 None\n",
      "2020-03-11 09:21:47 [scrapy.core.engine] DEBUG: Crawled (200) <GET https://www.capgemini.com/2018/08/really-how-mature-is-your-industry-4-0-strategy/> (referer: None)\n",
      "2020-03-11 09:21:47 [scrapy.core.engine] DEBUG: Crawled (200) <GET https://www.capgemini.com/2019/01/innovation-in-retail-iot/> (referer: None)\n",
      "2020-03-11 09:21:47 [scrapy.core.engine] DEBUG: Crawled (200) <GET https://www.capgemini.com/2018/05/good-dcx-good-business/> (referer: None)\n",
      "2020-03-11 09:21:47 [urllib3.connectionpool] DEBUG: Starting new HTTPS connection (1): www.capgemini.com:443\n"
     ]
    },
    {
     "name": "stdout",
     "output_type": "stream",
     "text": [
      "https://www.capgemini.com/2018/08/really-how-mature-is-your-industry-4-0-strategy/\n"
     ]
    },
    {
     "name": "stderr",
     "output_type": "stream",
     "text": [
      "2020-03-11 09:21:47 [urllib3.connectionpool] DEBUG: https://www.capgemini.com:443 \"GET /2018/08/really-how-mature-is-your-industry-4-0-strategy/ HTTP/1.1\" 200 None\n",
      "2020-03-11 09:21:47 [scrapy.core.engine] DEBUG: Crawled (200) <GET https://www.capgemini.com/2016/12/kickstart-my-year-7-trends-in-insights-data-for-2017-2/> (referer: None)\n",
      "2020-03-11 09:21:47 [scrapy.core.engine] DEBUG: Crawled (200) <GET https://www.capgemini.com/2016/12/kickstart-my-year-7-trends-in-insights-data-for-2017/> (referer: None)\n",
      "2020-03-11 09:21:47 [scrapy.core.engine] DEBUG: Crawled (200) <GET https://www.capgemini.com/2016/01/knowing-cognitive-computing-part-1-of-2/> (referer: None)\n",
      "2020-03-11 09:21:47 [scrapy.core.engine] DEBUG: Crawled (200) <GET https://www.capgemini.com/2018/04/the-retail-offensive-part-6-buy-online-now-the-influence-of-online-sales-on-automotive-retail/> (referer: None)\n",
      "2020-03-11 09:21:47 [scrapy.core.engine] DEBUG: Crawled (200) <GET https://www.capgemini.com/2017/06/machine-learning-tackling-data-volume-and-unpredictability/> (referer: None)\n",
      "2020-03-11 09:21:47 [scrapy.core.engine] DEBUG: Crawled (200) <GET https://www.capgemini.com/2017/06/three-must-have-accelerators-to-drive-your-automation-efforts/> (referer: None)\n",
      "2020-03-11 09:21:47 [scrapy.core.engine] DEBUG: Crawled (200) <GET https://www.capgemini.com/2017/03/technovision-2017-preview-work-that-machine/> (referer: None)\n",
      "2020-03-11 09:21:47 [scrapy.core.engine] DEBUG: Crawled (200) <GET https://www.capgemini.com/2017/03/technovision-2017-preview-max-machina/> (referer: None)\n",
      "2020-03-11 09:21:47 [urllib3.connectionpool] DEBUG: Starting new HTTPS connection (1): www.capgemini.com:443\n",
      "2020-03-11 09:21:47 [urllib3.connectionpool] DEBUG: https://www.capgemini.com:443 \"GET /2019/01/innovation-in-retail-iot/ HTTP/1.1\" 200 26165\n",
      "2020-03-11 09:21:48 [urllib3.connectionpool] DEBUG: Starting new HTTPS connection (1): www.capgemini.com:443\n"
     ]
    },
    {
     "name": "stdout",
     "output_type": "stream",
     "text": [
      "https://www.capgemini.com/2019/01/innovation-in-retail-iot/\n",
      "https://www.capgemini.com/2018/05/good-dcx-good-business/\n"
     ]
    },
    {
     "name": "stderr",
     "output_type": "stream",
     "text": [
      "2020-03-11 09:21:48 [urllib3.connectionpool] DEBUG: https://www.capgemini.com:443 \"GET /2018/05/good-dcx-good-business/ HTTP/1.1\" 200 None\n",
      "2020-03-11 09:21:48 [urllib3.connectionpool] DEBUG: Starting new HTTPS connection (1): www.capgemini.com:443\n"
     ]
    },
    {
     "name": "stdout",
     "output_type": "stream",
     "text": [
      "https://www.capgemini.com/2016/12/kickstart-my-year-7-trends-in-insights-data-for-2017-2/\n"
     ]
    },
    {
     "name": "stderr",
     "output_type": "stream",
     "text": [
      "2020-03-11 09:21:49 [urllib3.connectionpool] DEBUG: https://www.capgemini.com:443 \"GET /2016/12/kickstart-my-year-7-trends-in-insights-data-for-2017-2/ HTTP/1.1\" 200 None\n",
      "2020-03-11 09:21:49 [urllib3.connectionpool] DEBUG: Starting new HTTPS connection (1): www.capgemini.com:443\n",
      "2020-03-11 09:21:49 [urllib3.connectionpool] DEBUG: https://www.capgemini.com:443 \"GET /2016/12/kickstart-my-year-7-trends-in-insights-data-for-2017/ HTTP/1.1\" 200 25172\n",
      "2020-03-11 09:21:49 [urllib3.connectionpool] DEBUG: Starting new HTTPS connection (1): www.capgemini.com:443\n",
      "2020-03-11 09:21:49 [urllib3.connectionpool] DEBUG: https://www.capgemini.com:443 \"GET /2016/01/knowing-cognitive-computing-part-1-of-2/ HTTP/1.1\" 200 27884\n"
     ]
    },
    {
     "name": "stdout",
     "output_type": "stream",
     "text": [
      "https://www.capgemini.com/2016/12/kickstart-my-year-7-trends-in-insights-data-for-2017/\n",
      "https://www.capgemini.com/2016/01/knowing-cognitive-computing-part-1-of-2/\n"
     ]
    },
    {
     "name": "stderr",
     "output_type": "stream",
     "text": [
      "2020-03-11 09:21:49 [urllib3.connectionpool] DEBUG: Starting new HTTPS connection (1): www.capgemini.com:443\n",
      "2020-03-11 09:21:49 [urllib3.connectionpool] DEBUG: https://www.capgemini.com:443 \"GET /2018/04/the-retail-offensive-part-6-buy-online-now-the-influence-of-online-sales-on-automotive-retail/ HTTP/1.1\" 200 26602\n",
      "2020-03-11 09:21:49 [urllib3.connectionpool] DEBUG: Starting new HTTPS connection (1): www.capgemini.com:443\n"
     ]
    },
    {
     "name": "stdout",
     "output_type": "stream",
     "text": [
      "https://www.capgemini.com/2018/04/the-retail-offensive-part-6-buy-online-now-the-influence-of-online-sales-on-automotive-retail/\n",
      "https://www.capgemini.com/2017/06/machine-learning-tackling-data-volume-and-unpredictability/\n"
     ]
    },
    {
     "name": "stderr",
     "output_type": "stream",
     "text": [
      "2020-03-11 09:21:49 [urllib3.connectionpool] DEBUG: https://www.capgemini.com:443 \"GET /2017/06/machine-learning-tackling-data-volume-and-unpredictability/ HTTP/1.1\" 200 26440\n",
      "2020-03-11 09:21:49 [urllib3.connectionpool] DEBUG: Starting new HTTPS connection (1): www.capgemini.com:443\n"
     ]
    },
    {
     "name": "stdout",
     "output_type": "stream",
     "text": [
      "https://www.capgemini.com/2017/06/three-must-have-accelerators-to-drive-your-automation-efforts/\n"
     ]
    },
    {
     "name": "stderr",
     "output_type": "stream",
     "text": [
      "2020-03-11 09:21:50 [urllib3.connectionpool] DEBUG: https://www.capgemini.com:443 \"GET /2017/06/three-must-have-accelerators-to-drive-your-automation-efforts/ HTTP/1.1\" 200 None\n",
      "2020-03-11 09:21:50 [urllib3.connectionpool] DEBUG: Starting new HTTPS connection (1): www.capgemini.com:443\n",
      "2020-03-11 09:21:50 [urllib3.connectionpool] DEBUG: https://www.capgemini.com:443 \"GET /2017/03/technovision-2017-preview-work-that-machine/ HTTP/1.1\" 200 25779\n",
      "2020-03-11 09:21:50 [urllib3.connectionpool] DEBUG: Starting new HTTPS connection (1): www.capgemini.com:443\n",
      "2020-03-11 09:21:50 [urllib3.connectionpool] DEBUG: https://www.capgemini.com:443 \"GET /2017/03/technovision-2017-preview-max-machina/ HTTP/1.1\" 200 22663\n"
     ]
    },
    {
     "name": "stdout",
     "output_type": "stream",
     "text": [
      "https://www.capgemini.com/2017/03/technovision-2017-preview-work-that-machine/\n",
      "https://www.capgemini.com/2017/03/technovision-2017-preview-max-machina/\n"
     ]
    },
    {
     "name": "stderr",
     "output_type": "stream",
     "text": [
      "2020-03-11 09:21:50 [scrapy.core.engine] DEBUG: Crawled (200) <GET https://www.capgemini.com/2012/12/soul-of-the-machine/> (referer: None)\n",
      "2020-03-11 09:21:51 [urllib3.connectionpool] DEBUG: Starting new HTTPS connection (1): www.capgemini.com:443\n"
     ]
    },
    {
     "name": "stdout",
     "output_type": "stream",
     "text": [
      "https://www.capgemini.com/2012/12/soul-of-the-machine/\n"
     ]
    },
    {
     "name": "stderr",
     "output_type": "stream",
     "text": [
      "2020-03-11 09:21:51 [urllib3.connectionpool] DEBUG: https://www.capgemini.com:443 \"GET /2012/12/soul-of-the-machine/ HTTP/1.1\" 200 None\n",
      "2020-03-11 09:21:51 [scrapy.core.engine] INFO: Closing spider (finished)\n",
      "2020-03-11 09:21:51 [scrapy.statscollectors] INFO: Dumping Scrapy stats:\n",
      "{'downloader/request_bytes': 142031,\n",
      " 'downloader/request_count': 514,\n",
      " 'downloader/request_method_count/GET': 514,\n",
      " 'downloader/response_bytes': 13234498,\n",
      " 'downloader/response_count': 514,\n",
      " 'downloader/response_status_count/200': 514,\n",
      " 'finish_reason': 'finished',\n",
      " 'finish_time': datetime.datetime(2020, 3, 11, 8, 21, 51, 716612),\n",
      " 'log_count/DEBUG': 1543,\n",
      " 'log_count/INFO': 11,\n",
      " 'response_received_count': 514,\n",
      " 'scheduler/dequeued': 514,\n",
      " 'scheduler/dequeued/memory': 514,\n",
      " 'scheduler/enqueued': 514,\n",
      " 'scheduler/enqueued/memory': 514,\n",
      " 'start_time': datetime.datetime(2020, 3, 11, 8, 18, 14, 176573)}\n",
      "2020-03-11 09:21:51 [scrapy.core.engine] INFO: Spider closed (finished)\n"
     ]
    }
   ],
   "source": [
    "from scrapy.crawler import CrawlerProcess\n",
    "\n",
    "# Create class\n",
    "class capgemini_spider (scrapy.Spider):\n",
    "    name = \"capgemini_spider\"\n",
    "    \n",
    "    def start_requests(self):\n",
    "        urls = urllist\n",
    "        \n",
    "        for url in urls:\n",
    "            yield scrapy.Request(url = url, callback = self.parse)\n",
    "            \n",
    "    #Parsing\n",
    "    def parse(self, response):\n",
    "        print(response.url)\n",
    "                \n",
    "        page_dict = dict()\n",
    "        siteno = len(main_dict) + 1\n",
    "        \n",
    "        page_url = response.url\n",
    "        \n",
    "        page_html = requests.get(page_url).content\n",
    "        page_sel = Selector(text = page_html)\n",
    "        \n",
    "        type_regex = r'(?<=\\[\\{\\\"post_type\\\":\\\")\\w{2,10}(?=\\\",\\\")'\n",
    "        date_regex = r'(?<=\\\",\\\"date_posted\\\":\\\")\\d{4}\\-\\d{1,2}\\-\\d{1,2}'\n",
    "\n",
    "        page_scripts = page_sel.css('script::text').extract()\n",
    "        page_scripts = ' '.join(page_scripts)\n",
    "\n",
    "        page_id = 'site' + str(siteno)\n",
    "\n",
    "        page_title = page_sel.css('title::text').extract_first()\n",
    "        page_type = re.findall(type_regex, page_scripts)[0]\n",
    "        page_date = re.findall(date_regex, page_scripts)[0]\n",
    "        page_dldate = date.today().strftime('%Y/%m/%d')\n",
    "\n",
    "        page_text = page_sel.css('div.hero-inset__intro > p::text').extract()\n",
    "        page_text.append(' '.join(page_sel.css('article > div.section.container > article > div.row > div.section__block > div.article-text ::text').extract()))\n",
    "        page_text = ' '.join(page_text)\n",
    "\n",
    "        page_dict['url'] = page_url\n",
    "        page_dict['title'] = page_title\n",
    "        page_dict['article date'] = page_date\n",
    "        page_dict['download date'] = page_dldate\n",
    "        page_dict['text type'] = page_type\n",
    "        page_dict['text'] = page_text\n",
    "\n",
    "        main_dict[page_id] = page_dict\n",
    "        \n",
    "# Initiatlize dictionary\n",
    "main_dict = dict()\n",
    "\n",
    "#Run spider\n",
    "process = CrawlerProcess()\n",
    "siteno = 0\n",
    "process.crawl(capgemini_spider)\n",
    "process.start()"
   ]
  },
  {
   "cell_type": "code",
   "execution_count": 126,
   "metadata": {},
   "outputs": [
    {
     "data": {
      "text/plain": [
       "<DeferredList at 0x27150d6e860 current result: []>"
      ]
     },
     "execution_count": 126,
     "metadata": {},
     "output_type": "execute_result"
    }
   ],
   "source": [
    "process.stop()"
   ]
  },
  {
   "cell_type": "code",
   "execution_count": 127,
   "metadata": {},
   "outputs": [
    {
     "data": {
      "text/plain": [
       "514"
      ]
     },
     "execution_count": 127,
     "metadata": {},
     "output_type": "execute_result"
    }
   ],
   "source": [
    "len(main_dict)"
   ]
  },
  {
   "cell_type": "code",
   "execution_count": 128,
   "metadata": {},
   "outputs": [],
   "source": [
    "import json\n",
    "\n",
    "with open('..\\\\data_raw\\\\articles\\\\capgemini_articles.json', 'w') as file:\n",
    "    json.dump(main_dict, file)"
   ]
  }
 ],
 "metadata": {
  "kernelspec": {
   "display_name": "Python 3",
   "language": "python",
   "name": "python3"
  },
  "language_info": {
   "codemirror_mode": {
    "name": "ipython",
    "version": 3
   },
   "file_extension": ".py",
   "mimetype": "text/x-python",
   "name": "python",
   "nbconvert_exporter": "python",
   "pygments_lexer": "ipython3",
   "version": "3.6.8"
  }
 },
 "nbformat": 4,
 "nbformat_minor": 2
}
