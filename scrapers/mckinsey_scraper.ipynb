{
 "cells": [
  {
   "cell_type": "markdown",
   "metadata": {},
   "source": [
    "# McKinsey scrape\n",
    "\n",
    "The following code scrapes the McKinsey site for articles, pages etc. about AI. The scraper collects text from pages retuned from searching \"artificial intelligence on McKinsey.com: https://www.mckinsey.com/search?q=artificial+intelligence"
   ]
  },
  {
   "cell_type": "markdown",
   "metadata": {},
   "source": [
    "### Libraries\n",
    "\n",
    "Importing libraries..."
   ]
  },
  {
   "cell_type": "code",
   "execution_count": 2,
   "metadata": {},
   "outputs": [],
   "source": [
    "import scrapy\n",
    "import requests\n",
    "from scrapy import Selector\n",
    "\n",
    "import os\n",
    "import sys\n",
    "from datetime import date\n",
    "\n",
    "from selenium import webdriver\n",
    "from selenium.webdriver.common.keys import Keys\n",
    "from selenium.webdriver.firefox.firefox_binary import FirefoxBinary\n",
    "from selenium.common.exceptions import NoSuchElementException, WebDriverException, ElementNotInteractableException\n",
    "from selenium.webdriver.common.action_chains import ActionChains\n",
    "\n",
    "import time"
   ]
  },
  {
   "cell_type": "markdown",
   "metadata": {},
   "source": [
    "### URL list\n",
    "\n",
    "List of URL is extracted from searching for \"artificial intelligence\" on McKinsey.com: https://www.mckinsey.com/search?q=artificial+intelligence"
   ]
  },
  {
   "cell_type": "code",
   "execution_count": 5,
   "metadata": {},
   "outputs": [],
   "source": [
    "start_url = 'https://www.mckinsey.com/search?q=artificial+intelligence' #main URL"
   ]
  },
  {
   "cell_type": "markdown",
   "metadata": {},
   "source": [
    "Scraping article URLs"
   ]
  },
  {
   "cell_type": "code",
   "execution_count": 47,
   "metadata": {},
   "outputs": [
    {
     "name": "stdout",
     "output_type": "stream",
     "text": [
      "No 'Next' button found\n"
     ]
    }
   ],
   "source": [
    "from selenium.webdriver.support import expected_conditions as EC\n",
    "from selenium.webdriver.common.by import By\n",
    "from selenium.webdriver.support.ui import WebDriverWait as wait\n",
    "from selenium.webdriver.chrome.options import Options\n",
    "\n",
    "chromeOptions = Options()\n",
    "chromeOptions.add_argument(\"--kiosk\")\n",
    "\n",
    "driver = webdriver.Chrome(executable_path = 'C:\\\\bin\\\\chromedriver', options=chromeOptions)\n",
    "\n",
    "driver.get(start_url)\n",
    "time.sleep(2)\n",
    "driver.find_element_by_css_selector('a.btn.cookie-btn.cc-dismiss').click()\n",
    "time.sleep(2)\n",
    "\n",
    "pageSel = Selector(text = driver.page_source)\n",
    "\n",
    "urls = pageSel.css('div.search-results > div > div> div > a::attr(href)').extract()\n",
    "titles = pageSel.css('a > h3::text').extract()\n",
    "\n",
    "urldict = {}\n",
    "urldict['urls'] = urls\n",
    "urldict['titles'] = titles\n",
    "\n",
    "coordinates = {'x': 0, 'y': 1600}\n",
    "driver.execute_script('window.scrollTo({}, {});'.format(coordinates['x'], coordinates['y']))\n",
    "\n",
    "while True:\n",
    "    try:\n",
    "        time.sleep(2)\n",
    "        driver.find_element_by_css_selector('div.search-results-footer.-show-next > ul > li > a.mck-arrow-right-icon').click()\n",
    "        time.sleep(2)\n",
    "        driver.execute_script('window.scrollTo({}, {});'.format(coordinates['x'], coordinates['y']))\n",
    "        time.sleep(2)\n",
    "        \n",
    "        pageSel = Selector(text = driver.page_source)\n",
    "\n",
    "        urls = pageSel.css('div.search-results > div > div> div > a.item-title-link::attr(href)').extract()\n",
    "        titles = pageSel.css('a > h3::text').extract()\n",
    "\n",
    "        urldict['urls'] = urldict['urls'] + urls\n",
    "        urldict['titles'] = urldict['titles']+ titles\n",
    "    except (NoSuchElementException, WebDriverException, ElementNotInteractableException) as e:\n",
    "        print(\"No 'Next' button found\")\n",
    "        break\n",
    "\n",
    "driver.quit()"
   ]
  },
  {
   "cell_type": "code",
   "execution_count": 48,
   "metadata": {},
   "outputs": [
    {
     "name": "stdout",
     "output_type": "stream",
     "text": [
      "912 909\n"
     ]
    }
   ],
   "source": [
    "print(len(urldict['urls']),\n",
    "     len(urldict['titles']))"
   ]
  },
  {
   "cell_type": "code",
   "execution_count": 51,
   "metadata": {},
   "outputs": [
    {
     "data": {
      "text/plain": [
       "'https://www.mckinsey.com/featured-insights/artificial-intelligence/the-ethics-of-artificial-intelligence'"
      ]
     },
     "execution_count": 51,
     "metadata": {},
     "output_type": "execute_result"
    }
   ],
   "source": [
    "oneurl = urldict['urls'][1]\n",
    "oneurl"
   ]
  },
  {
   "cell_type": "code",
   "execution_count": 53,
   "metadata": {},
   "outputs": [
    {
     "data": {
      "text/plain": [
       "912"
      ]
     },
     "execution_count": 53,
     "metadata": {},
     "output_type": "execute_result"
    }
   ],
   "source": [
    "urllist = urldict['urls']\n",
    "len(urllist)"
   ]
  },
  {
   "cell_type": "code",
   "execution_count": 54,
   "metadata": {},
   "outputs": [],
   "source": [
    "with open('../data_raw/urls/mckinsey_urls.txt', 'w') as f:\n",
    "    for url in urllist:\n",
    "        f.write(url + \"\\n\")"
   ]
  },
  {
   "cell_type": "markdown",
   "metadata": {},
   "source": [
    "### Load URLs"
   ]
  },
  {
   "cell_type": "code",
   "execution_count": 62,
   "metadata": {},
   "outputs": [
    {
     "name": "stdout",
     "output_type": "stream",
     "text": [
      "912 \n",
      " https://www.mckinsey.com/business-functions/organization/our-insights/the-irrational-side-of-change-management\n"
     ]
    }
   ],
   "source": [
    "mckinsey_urls = []\n",
    "with open('../data_raw/urls/mckinsey_urls.txt', 'r') as f:\n",
    "    for line in f:\n",
    "        mckinsey_urls.append(line.strip())\n",
    "\n",
    "print(len(mckinsey_urls),\n",
    "      '\\n',\n",
    "     mckinsey_urls[len(mckinsey_urls)-1])"
   ]
  },
  {
   "cell_type": "code",
   "execution_count": 63,
   "metadata": {},
   "outputs": [],
   "source": [
    "urllist = mckinsey_urls"
   ]
  },
  {
   "cell_type": "markdown",
   "metadata": {},
   "source": [
    "### Testing one page"
   ]
  },
  {
   "cell_type": "code",
   "execution_count": 115,
   "metadata": {},
   "outputs": [
    {
     "data": {
      "text/plain": [
       "'https://www.mckinsey.com/business-functions/mckinsey-analytics/our-insights/ask-the-ai-experts-whats-driving-todays-progress-in-ai'"
      ]
     },
     "execution_count": 115,
     "metadata": {},
     "output_type": "execute_result"
    }
   ],
   "source": [
    "page_url = urllist[120]\n",
    "page_url"
   ]
  },
  {
   "cell_type": "code",
   "execution_count": 116,
   "metadata": {},
   "outputs": [],
   "source": [
    "page_dict = dict()\n",
    "main_dict = dict()"
   ]
  },
  {
   "cell_type": "code",
   "execution_count": 117,
   "metadata": {},
   "outputs": [],
   "source": [
    "text_sel = 'div#divArticleBody > article.main-copy ::text'\n",
    "title_sel = '//meta[contains(@property, \"og:title\")]/@content'\n",
    "\n",
    "script_sel = '//script[contains(@type, \"text/javascript\")]/text()'\n",
    "\n",
    "date_regex = r'(?<=\\\"OriginalPublicationDate\\\"\\:\\\")\\d{1,2}/\\d{1,2}/\\d{4}'\n",
    "texttype_regex = r'(?<=\\\"ArticleType\\\"\\:\\\")\\w*?(?=\\\",)'\n",
    "conttype_regex = r'(?<=\\\"ContentType\\\"\\:\\\")\\w*?(?=\\\",)'\n",
    "\n",
    "page_html = requests.get(page_url).content\n",
    "page_sel = Selector(text = page_html)\n",
    "\n",
    "page_script = page_sel.xpath(script_sel).extract_first()\n",
    "\n",
    "content_type = re.findall(conttype_regex, page_script)[0]\n",
    "\n",
    "siteno = 1\n",
    "\n",
    "if content_type != \"Profile\":\n",
    "\n",
    "    page_date = re.findall(date_regex, page_script)[0]\n",
    "    page_texttype = re.findall(texttype_regex, page_script)[0]\n",
    "\n",
    "    page_id = 'site' + str(siteno)\n",
    "    page_title = page_sel.xpath(title_sel).extract_first()\n",
    "    page_dldate = date.today().strftime('%Y/%m/%d')\n",
    "    \n",
    "    page_text = page_sel.css(text_sel).extract()\n",
    "    page_text = ' '.join(page_text)\n",
    "    \n",
    "    page_dict['url'] = page_url\n",
    "    page_dict['title'] = page_title\n",
    "    page_dict['article date'] = page_date\n",
    "    page_dict['download date'] = page_dldate\n",
    "    page_dict['text type'] = page_texttype\n",
    "    page_dict['text'] = page_text\n",
    "\n",
    "    main_dict[page_id] = page_dict\n",
    "    "
   ]
  },
  {
   "cell_type": "code",
   "execution_count": 118,
   "metadata": {},
   "outputs": [
    {
     "name": "stdout",
     "output_type": "stream",
     "text": [
      "1 {'url': 'https://www.mckinsey.com/business-functions/mckinsey-analytics/our-insights/ask-the-ai-experts-whats-driving-todays-progress-in-ai', 'title': 'Ask the AI experts: What&rsquo;s driving today&rsquo;s progress in AI?', 'article date': '7/7/2017', 'download date': '2020/02/18', 'text type': 'Video', 'text': '\\r\\n \\r\\n     \\r\\n         Downloadable Resources \\r\\n         Open interactive popup \\r\\n         \\r\\n                     \\r\\n                         \\r\\n                             Article (PDF-46KB) \\r\\n                         \\r\\n                     \\r\\n         \\r\\n     \\r\\n \\r\\n  \\n Artificial-intelligence technology  has begun to hit its stride, springing from research labs into real business and consumer applications. But why now? Earlier this year at the  AI Frontiers conference  in Santa Clara, California, we sat down with AI experts from some of the world’s leading technology-first organizations to find out. An edited version of the experts’ remarks follows the video. \\n \\r\\n     \\r\\n             \\r\\n     \\r\\n     \\r\\n     \\r\\n             Video  \\r\\n                     \\r\\n \\r\\n\\r\\n\\n \\nThis video is one in a five-part Ask the AI Experts series that answers top-of-mind questions about the technology: \\n \\n     What are the applications of AI? \\n     Should we be afraid of AI? \\n     What will take AI capabilities to the next level? \\n     What advice would you give to executives about AI? \\n \\n \\nInterview transcript \\n \\n Li Deng,   chief AI officer, Citadel : There are a few factors that really propelled AI to this current state—what many people call “the third wave.” The first wave died because people were probably too naive. They overestimated the future. And at that time, of course, even into the second wave, the computing power wasn’t there, and there wasn’t even the concept of big data. So when AI evolved, maybe 20 years ago, into something called  machine learning , where data became the key to AI, that was a big advancement—people understood  the importance of data . \\n \\n Gary Bradski,   chief technology officer, Arraiy : The compute power has become cheap and powerful. The Internet happened. Mobile happened. And suddenly we had a ton of people collecting data—voice and image data, and trajectory and  behavioral data . Deep nets [deep neural networks, also known as deep learning] are so expressive, if you don’t have a lot of data to pin them down, they actually do worse with a small amount of training. So people turned to other techniques. So basically this is a confluence of those factors and some improvements on the algorithm, but not all that much, really. \\n \\n\\t\\t \\n\\t \\n\\t\\t\\t \\n\\t\\t\\t\\tAsk the AI experts: What advice would you give to executives about AI?\\n\\t\\t\\t \\n\\t\\t\\t\\t\\t\\t\\t \\n\\t\\t\\t\\t \\n\\t\\t\\t\\t\\t\\t Read the article \\n\\t\\t\\t\\t \\n\\t\\t\\t \\n\\t \\n \\n\\n \\n Adam Coates,   director, Baidu Research Silicon Valley AI Lab : It’s a little bit striking if you’re looking at the community from the outside.\\xa0 It looks like AI was just asleep for a long time  and then one day it just exploded. If you’re actually working on this from the research side, there’s actually a very slow ramp-up. It’s the bottom of that exponential curve where people from the inside could see that this was happening. But for a very long time, the things that we could build with deep learning, which is the technology that’s powering a lot of progress right now, were just not as good as the hand-engineered systems businesses and companies were actually using. \\n \\nAnd then what happened, around maybe 2012 or so, is that these systems hit the sort of crossover point where suddenly the things that we could build with this deep-learning technology became much, much more powerful and really overtook all the systems we could build before. And it sort of looked like a big surprise, like it came out of nowhere. And it’s actually been a very long process that you’re just seeing the output of right now. \\n \\n Mohak Shah,   lead expert, data science, Bosch Research and Technology Center, North America : Machine learning has come up as a huge enabler. But at the same time, I think now we are in a position where we have enough empirical data to support our research and enough compute power to essentially take it to the next level. And I think that is an exciting phase now, where deep learning has become an enabler of what we have always thought cognitive systems or AI were engineered to achieve. I think that brought us one step closer to going toward what we like to think is AI. \\n \\nIn terms of the things that we are doing now, we are still solving very basic problems. We are not really solving very complicated problems, except that all these basic problems are becoming building blocks of achieving something much bigger. \\n\\t \\r\\n\\t \\r\\n\\t\\t \\r\\n\\t\\t\\t\\t Stay current on your favorite topics \\r\\n\\t\\t\\t\\t\\t\\t\\t \\r\\n\\t\\t\\t\\t\\t \\r\\n\\t\\t\\t\\t\\t\\t Subscribe \\r\\n\\t\\t\\t\\t\\t \\r\\n\\t\\t\\t\\t \\r\\n\\t\\t \\r\\n\\t \\r\\n\\t \\r\\n\\r\\n\\r\\n                     \\r\\n                         \\r\\n                            About the author(s)\\r\\n                         \\r\\n                         Simon London  is the director of McKinsey digital communications and is based in McKinsey’s Silicon Valley office.  Gary Bradski  is the chief technology officer for Arraiy,  Adam Coates  is the director of the Baidu Research Silicon Valley AI Lab,  Li Deng  is the chief AI officer for Citadel, and  Mohak Shah  serves as the lead expert in data science at the Bosch Center for Artificial Intelligence in North America. \\r\\n                     \\r\\n            '}\n"
     ]
    }
   ],
   "source": [
    "print(len(main_dict),\n",
    "      main_dict['site1'])"
   ]
  },
  {
   "cell_type": "code",
   "execution_count": 119,
   "metadata": {},
   "outputs": [
    {
     "data": {
      "text/plain": [
       "['https://www.mckinsey.com/featured-insights/artificial-intelligence',\n",
       " 'https://www.mckinsey.com/featured-insights/artificial-intelligence/the-ethics-of-artificial-intelligence',\n",
       " 'https://www.mckinsey.com/featured-insights/artificial-intelligence/ai-looks-north-bridging-canadas-corporate-artificial-intelligence-gap',\n",
       " 'https://www.mckinsey.com/featured-insights/artificial-intelligence/tackling-bias-in-artificial-intelligence-and-in-humans']"
      ]
     },
     "execution_count": 119,
     "metadata": {},
     "output_type": "execute_result"
    }
   ],
   "source": [
    "urllist_snip = urllist[:4]\n",
    "urllist_snip"
   ]
  },
  {
   "cell_type": "code",
   "execution_count": 120,
   "metadata": {},
   "outputs": [],
   "source": [
    "page_dict = dict()\n",
    "main_dict = dict()"
   ]
  },
  {
   "cell_type": "code",
   "execution_count": 121,
   "metadata": {},
   "outputs": [
    {
     "data": {
      "text/plain": [
       "0"
      ]
     },
     "execution_count": 121,
     "metadata": {},
     "output_type": "execute_result"
    }
   ],
   "source": [
    "len(main_dict)"
   ]
  },
  {
   "cell_type": "markdown",
   "metadata": {},
   "source": [
    "## McKinsey spider"
   ]
  },
  {
   "cell_type": "code",
   "execution_count": 122,
   "metadata": {},
   "outputs": [
    {
     "name": "stderr",
     "output_type": "stream",
     "text": [
      "2020-02-18 12:16:09 [scrapy.utils.log] INFO: Scrapy 1.5.2 started (bot: scrapybot)\n",
      "2020-02-18 12:16:09 [scrapy.utils.log] INFO: Versions: lxml 4.3.2.0, libxml2 2.9.9, cssselect 1.0.3, parsel 1.5.1, w3lib 1.20.0, Twisted 18.9.0, Python 3.6.8 |Anaconda, Inc.| (default, Feb 21 2019, 18:30:04) [MSC v.1916 64 bit (AMD64)], pyOpenSSL 19.0.0 (OpenSSL 1.1.1d  10 Sep 2019), cryptography 2.6.1, Platform Windows-10-10.0.18362-SP0\n",
      "2020-02-18 12:16:09 [scrapy.crawler] INFO: Overridden settings: {}\n",
      "2020-02-18 12:16:09 [scrapy.extensions.telnet] INFO: Telnet Password: e253a11b624c6da5\n",
      "2020-02-18 12:16:09 [scrapy.middleware] INFO: Enabled extensions:\n",
      "['scrapy.extensions.corestats.CoreStats',\n",
      " 'scrapy.extensions.telnet.TelnetConsole',\n",
      " 'scrapy.extensions.logstats.LogStats']\n",
      "2020-02-18 12:16:09 [scrapy.middleware] INFO: Enabled downloader middlewares:\n",
      "['scrapy.downloadermiddlewares.httpauth.HttpAuthMiddleware',\n",
      " 'scrapy.downloadermiddlewares.downloadtimeout.DownloadTimeoutMiddleware',\n",
      " 'scrapy.downloadermiddlewares.defaultheaders.DefaultHeadersMiddleware',\n",
      " 'scrapy.downloadermiddlewares.useragent.UserAgentMiddleware',\n",
      " 'scrapy.downloadermiddlewares.retry.RetryMiddleware',\n",
      " 'scrapy.downloadermiddlewares.redirect.MetaRefreshMiddleware',\n",
      " 'scrapy.downloadermiddlewares.httpcompression.HttpCompressionMiddleware',\n",
      " 'scrapy.downloadermiddlewares.redirect.RedirectMiddleware',\n",
      " 'scrapy.downloadermiddlewares.cookies.CookiesMiddleware',\n",
      " 'scrapy.downloadermiddlewares.httpproxy.HttpProxyMiddleware',\n",
      " 'scrapy.downloadermiddlewares.stats.DownloaderStats']\n",
      "2020-02-18 12:16:09 [scrapy.middleware] INFO: Enabled spider middlewares:\n",
      "['scrapy.spidermiddlewares.httperror.HttpErrorMiddleware',\n",
      " 'scrapy.spidermiddlewares.offsite.OffsiteMiddleware',\n",
      " 'scrapy.spidermiddlewares.referer.RefererMiddleware',\n",
      " 'scrapy.spidermiddlewares.urllength.UrlLengthMiddleware',\n",
      " 'scrapy.spidermiddlewares.depth.DepthMiddleware']\n",
      "2020-02-18 12:16:09 [scrapy.middleware] INFO: Enabled item pipelines:\n",
      "[]\n",
      "2020-02-18 12:16:09 [scrapy.core.engine] INFO: Spider opened\n",
      "2020-02-18 12:16:09 [scrapy.extensions.logstats] INFO: Crawled 0 pages (at 0 pages/min), scraped 0 items (at 0 items/min)\n",
      "2020-02-18 12:16:09 [scrapy.extensions.telnet] DEBUG: Telnet console listening on 127.0.0.1:6023\n",
      "2020-02-18 12:16:09 [scrapy.core.engine] DEBUG: Crawled (200) <GET https://www.mckinsey.com/featured-insights/artificial-intelligence/ai-looks-north-bridging-canadas-corporate-artificial-intelligence-gap> (referer: None)\n",
      "2020-02-18 12:16:10 [urllib3.connectionpool] DEBUG: Starting new HTTPS connection (1): www.mckinsey.com:443\n"
     ]
    },
    {
     "name": "stdout",
     "output_type": "stream",
     "text": [
      "https://www.mckinsey.com/featured-insights/artificial-intelligence/ai-looks-north-bridging-canadas-corporate-artificial-intelligence-gap\n"
     ]
    },
    {
     "name": "stderr",
     "output_type": "stream",
     "text": [
      "2020-02-18 12:16:10 [urllib3.connectionpool] DEBUG: https://www.mckinsey.com:443 \"GET /featured-insights/artificial-intelligence/ai-looks-north-bridging-canadas-corporate-artificial-intelligence-gap HTTP/1.1\" 200 19527\n",
      "2020-02-18 12:16:10 [scrapy.core.engine] DEBUG: Crawled (200) <GET https://www.mckinsey.com/featured-insights/artificial-intelligence/the-real-world-potential-and-limitations-of-artificial-intelligence> (referer: None)\n",
      "2020-02-18 12:16:10 [scrapy.core.engine] DEBUG: Crawled (200) <GET https://www.mckinsey.com/featured-insights/artificial-intelligence/tackling-bias-in-artificial-intelligence-and-in-humans> (referer: None)\n",
      "2020-02-18 12:16:10 [scrapy.core.engine] DEBUG: Crawled (200) <GET https://www.mckinsey.com/featured-insights/artificial-intelligence/how-artificial-intelligence-and-data-add-value-to-businesses> (referer: None)\n",
      "2020-02-18 12:16:10 [scrapy.core.engine] DEBUG: Crawled (200) <GET https://www.mckinsey.com/featured-insights/artificial-intelligence/the-ethics-of-artificial-intelligence> (referer: None)\n",
      "2020-02-18 12:16:10 [scrapy.core.engine] DEBUG: Crawled (200) <GET https://www.mckinsey.com/featured-insights/artificial-intelligence/artificial-intelligence-in-the-united-kingdom-prospects-and-challenges> (referer: None)\n",
      "2020-02-18 12:16:10 [urllib3.connectionpool] DEBUG: Starting new HTTPS connection (1): www.mckinsey.com:443\n"
     ]
    },
    {
     "name": "stdout",
     "output_type": "stream",
     "text": [
      "https://www.mckinsey.com/featured-insights/artificial-intelligence/the-real-world-potential-and-limitations-of-artificial-intelligence\n"
     ]
    },
    {
     "name": "stderr",
     "output_type": "stream",
     "text": [
      "2020-02-18 12:16:11 [urllib3.connectionpool] DEBUG: https://www.mckinsey.com:443 \"GET /featured-insights/artificial-intelligence/the-real-world-potential-and-limitations-of-artificial-intelligence HTTP/1.1\" 200 29503\n",
      "2020-02-18 12:16:11 [scrapy.core.engine] DEBUG: Crawled (200) <GET https://www.mckinsey.com/featured-insights/artificial-intelligence/the-promise-and-challenge-of-the-age-of-artificial-intelligence> (referer: None)\n",
      "2020-02-18 12:16:11 [scrapy.core.engine] DEBUG: Crawled (200) <GET https://www.mckinsey.com/featured-insights/artificial-intelligence/what-southeast-asia-needs-to-become-a-major-player-in-artificial-intelligence> (referer: None)\n",
      "2020-02-18 12:16:11 [scrapy.core.engine] DEBUG: Crawled (200) <GET https://www.mckinsey.com/featured-insights/artificial-intelligence/how-to-ensure-artificial-intelligence-benefits-society-a-conversation-with-stuart-russell-and-james-manyika> (referer: None)\n",
      "2020-02-18 12:16:11 [scrapy.core.engine] DEBUG: Crawled (200) <GET https://www.mckinsey.com/featured-insights/artificial-intelligence/applying-artificial-intelligence-for-social-good> (referer: None)\n",
      "2020-02-18 12:16:11 [urllib3.connectionpool] DEBUG: Starting new HTTPS connection (1): www.mckinsey.com:443\n"
     ]
    },
    {
     "name": "stdout",
     "output_type": "stream",
     "text": [
      "https://www.mckinsey.com/featured-insights/artificial-intelligence/tackling-bias-in-artificial-intelligence-and-in-humans\n"
     ]
    },
    {
     "name": "stderr",
     "output_type": "stream",
     "text": [
      "2020-02-18 12:16:12 [urllib3.connectionpool] DEBUG: https://www.mckinsey.com:443 \"GET /featured-insights/artificial-intelligence/tackling-bias-in-artificial-intelligence-and-in-humans HTTP/1.1\" 200 25555\n",
      "2020-02-18 12:16:12 [urllib3.connectionpool] DEBUG: Starting new HTTPS connection (1): www.mckinsey.com:443\n"
     ]
    },
    {
     "name": "stdout",
     "output_type": "stream",
     "text": [
      "https://www.mckinsey.com/featured-insights/artificial-intelligence/how-artificial-intelligence-and-data-add-value-to-businesses\n"
     ]
    },
    {
     "name": "stderr",
     "output_type": "stream",
     "text": [
      "2020-02-18 12:16:13 [urllib3.connectionpool] DEBUG: https://www.mckinsey.com:443 \"GET /featured-insights/artificial-intelligence/how-artificial-intelligence-and-data-add-value-to-businesses HTTP/1.1\" 200 19636\n",
      "2020-02-18 12:16:13 [urllib3.connectionpool] DEBUG: Starting new HTTPS connection (1): www.mckinsey.com:443\n"
     ]
    },
    {
     "name": "stdout",
     "output_type": "stream",
     "text": [
      "https://www.mckinsey.com/featured-insights/artificial-intelligence/the-ethics-of-artificial-intelligence\n"
     ]
    },
    {
     "name": "stderr",
     "output_type": "stream",
     "text": [
      "2020-02-18 12:16:13 [urllib3.connectionpool] DEBUG: https://www.mckinsey.com:443 \"GET /featured-insights/artificial-intelligence/the-ethics-of-artificial-intelligence HTTP/1.1\" 200 15211\n",
      "2020-02-18 12:16:13 [urllib3.connectionpool] DEBUG: Starting new HTTPS connection (1): www.mckinsey.com:443\n"
     ]
    },
    {
     "name": "stdout",
     "output_type": "stream",
     "text": [
      "https://www.mckinsey.com/featured-insights/artificial-intelligence/artificial-intelligence-in-the-united-kingdom-prospects-and-challenges\n"
     ]
    },
    {
     "name": "stderr",
     "output_type": "stream",
     "text": [
      "2020-02-18 12:16:14 [urllib3.connectionpool] DEBUG: https://www.mckinsey.com:443 \"GET /featured-insights/artificial-intelligence/artificial-intelligence-in-the-united-kingdom-prospects-and-challenges HTTP/1.1\" 200 16624\n",
      "2020-02-18 12:16:14 [scrapy.core.scraper] ERROR: Spider error processing <GET https://www.mckinsey.com/featured-insights/artificial-intelligence/artificial-intelligence-in-the-united-kingdom-prospects-and-challenges> (referer: None)\n",
      "Traceback (most recent call last):\n",
      "  File \"D:\\ProgramData\\Anaconda3\\lib\\site-packages\\twisted\\internet\\defer.py\", line 654, in _runCallbacks\n",
      "    current.result = callback(current.result, *args, **kw)\n",
      "  File \"<ipython-input-122-8fc83100377c>\", line 42, in parse\n",
      "    page_texttype = re.findall(texttype_regex, page_script)[0]\n",
      "IndexError: list index out of range\n",
      "2020-02-18 12:16:14 [scrapy.core.engine] DEBUG: Crawled (200) <GET https://www.mckinsey.com/business-functions/mckinsey-digital/our-insights/digital-blog/what-it-really-takes-to-scale-artificial-intelligence> (referer: None)\n",
      "2020-02-18 12:16:14 [scrapy.core.engine] DEBUG: Crawled (200) <GET https://www.mckinsey.com/featured-insights/artificial-intelligence/how-artificial-intelligence-will-transform-nordic-businesses> (referer: None)\n",
      "2020-02-18 12:16:14 [scrapy.core.engine] DEBUG: Crawled (200) <GET https://www.mckinsey.com/featured-insights/artificial-intelligence> (referer: None)\n",
      "2020-02-18 12:16:14 [scrapy.core.engine] DEBUG: Crawled (200) <GET https://www.mckinsey.com/featured-insights/artificial-intelligence/kai-fu-lees-perspectives-on-two-global-leaders-in-artificial-intelligence-china-and-the-united-states> (referer: None)\n",
      "2020-02-18 12:16:14 [urllib3.connectionpool] DEBUG: Starting new HTTPS connection (1): www.mckinsey.com:443\n"
     ]
    },
    {
     "name": "stdout",
     "output_type": "stream",
     "text": [
      "https://www.mckinsey.com/featured-insights/artificial-intelligence/the-promise-and-challenge-of-the-age-of-artificial-intelligence\n"
     ]
    },
    {
     "name": "stderr",
     "output_type": "stream",
     "text": [
      "2020-02-18 12:16:15 [urllib3.connectionpool] DEBUG: https://www.mckinsey.com:443 \"GET /featured-insights/artificial-intelligence/the-promise-and-challenge-of-the-age-of-artificial-intelligence HTTP/1.1\" 200 30533\n",
      "2020-02-18 12:16:15 [scrapy.core.scraper] ERROR: Spider error processing <GET https://www.mckinsey.com/featured-insights/artificial-intelligence/the-promise-and-challenge-of-the-age-of-artificial-intelligence> (referer: None)\n",
      "Traceback (most recent call last):\n",
      "  File \"D:\\ProgramData\\Anaconda3\\lib\\site-packages\\twisted\\internet\\defer.py\", line 654, in _runCallbacks\n",
      "    current.result = callback(current.result, *args, **kw)\n",
      "  File \"<ipython-input-122-8fc83100377c>\", line 42, in parse\n",
      "    page_texttype = re.findall(texttype_regex, page_script)[0]\n",
      "IndexError: list index out of range\n",
      "2020-02-18 12:16:15 [urllib3.connectionpool] DEBUG: Starting new HTTPS connection (1): www.mckinsey.com:443\n"
     ]
    },
    {
     "name": "stdout",
     "output_type": "stream",
     "text": [
      "https://www.mckinsey.com/featured-insights/artificial-intelligence/what-southeast-asia-needs-to-become-a-major-player-in-artificial-intelligence\n"
     ]
    },
    {
     "name": "stderr",
     "output_type": "stream",
     "text": [
      "2020-02-18 12:16:16 [urllib3.connectionpool] DEBUG: https://www.mckinsey.com:443 \"GET /featured-insights/artificial-intelligence/what-southeast-asia-needs-to-become-a-major-player-in-artificial-intelligence HTTP/1.1\" 200 17834\n",
      "2020-02-18 12:16:16 [urllib3.connectionpool] DEBUG: Starting new HTTPS connection (1): www.mckinsey.com:443\n"
     ]
    },
    {
     "name": "stdout",
     "output_type": "stream",
     "text": [
      "https://www.mckinsey.com/featured-insights/artificial-intelligence/how-to-ensure-artificial-intelligence-benefits-society-a-conversation-with-stuart-russell-and-james-manyika\n"
     ]
    },
    {
     "name": "stderr",
     "output_type": "stream",
     "text": [
      "2020-02-18 12:16:16 [urllib3.connectionpool] DEBUG: https://www.mckinsey.com:443 \"GET /featured-insights/artificial-intelligence/how-to-ensure-artificial-intelligence-benefits-society-a-conversation-with-stuart-russell-and-james-manyika HTTP/1.1\" 200 22492\n",
      "2020-02-18 12:16:16 [urllib3.connectionpool] DEBUG: Starting new HTTPS connection (1): www.mckinsey.com:443\n"
     ]
    },
    {
     "name": "stdout",
     "output_type": "stream",
     "text": [
      "https://www.mckinsey.com/featured-insights/artificial-intelligence/applying-artificial-intelligence-for-social-good\n"
     ]
    },
    {
     "name": "stderr",
     "output_type": "stream",
     "text": [
      "2020-02-18 12:16:16 [urllib3.connectionpool] DEBUG: https://www.mckinsey.com:443 \"GET /featured-insights/artificial-intelligence/applying-artificial-intelligence-for-social-good HTTP/1.1\" 200 29343\n",
      "2020-02-18 12:16:16 [scrapy.core.scraper] ERROR: Spider error processing <GET https://www.mckinsey.com/featured-insights/artificial-intelligence/applying-artificial-intelligence-for-social-good> (referer: None)\n",
      "Traceback (most recent call last):\n",
      "  File \"D:\\ProgramData\\Anaconda3\\lib\\site-packages\\twisted\\internet\\defer.py\", line 654, in _runCallbacks\n",
      "    current.result = callback(current.result, *args, **kw)\n",
      "  File \"<ipython-input-122-8fc83100377c>\", line 42, in parse\n",
      "    page_texttype = re.findall(texttype_regex, page_script)[0]\n",
      "IndexError: list index out of range\n",
      "2020-02-18 12:16:16 [scrapy.core.engine] DEBUG: Crawled (200) <GET https://www.mckinsey.com/featured-insights/artificial-intelligence/ai-is-open-for-business-an-interview-with-paypal-coo-bill-ready> (referer: None)\n",
      "2020-02-18 12:16:16 [scrapy.core.engine] DEBUG: Crawled (200) <GET https://www.mckinsey.com/industries/advanced-electronics/our-insights/artificial-intelligence-the-time-to-act-is-now> (referer: None)\n",
      "2020-02-18 12:16:16 [scrapy.core.engine] DEBUG: Crawled (200) <GET https://www.mckinsey.com/featured-insights/artificial-intelligence/the-role-of-education-in-ai-and-vice-versa> (referer: None)\n",
      "2020-02-18 12:16:16 [scrapy.core.engine] DEBUG: Crawled (200) <GET https://www.mckinsey.com/featured-insights/europe/harnessing-the-opportunity-of-artificial-intelligence-in-denmark> (referer: None)\n",
      "2020-02-18 12:16:16 [urllib3.connectionpool] DEBUG: Starting new HTTPS connection (1): www.mckinsey.com:443\n"
     ]
    },
    {
     "name": "stdout",
     "output_type": "stream",
     "text": [
      "https://www.mckinsey.com/business-functions/mckinsey-digital/our-insights/digital-blog/what-it-really-takes-to-scale-artificial-intelligence\n"
     ]
    },
    {
     "name": "stderr",
     "output_type": "stream",
     "text": [
      "2020-02-18 12:16:18 [urllib3.connectionpool] DEBUG: https://www.mckinsey.com:443 \"GET /business-functions/mckinsey-digital/our-insights/digital-blog/what-it-really-takes-to-scale-artificial-intelligence HTTP/1.1\" 200 16282\n",
      "2020-02-18 12:16:18 [scrapy.core.scraper] ERROR: Spider error processing <GET https://www.mckinsey.com/business-functions/mckinsey-digital/our-insights/digital-blog/what-it-really-takes-to-scale-artificial-intelligence> (referer: None)\n",
      "Traceback (most recent call last):\n",
      "  File \"D:\\ProgramData\\Anaconda3\\lib\\site-packages\\twisted\\internet\\defer.py\", line 654, in _runCallbacks\n",
      "    current.result = callback(current.result, *args, **kw)\n",
      "  File \"<ipython-input-122-8fc83100377c>\", line 37, in parse\n",
      "    content_type = re.findall(conttype_regex, page_script)[0]\n",
      "IndexError: list index out of range\n",
      "2020-02-18 12:16:18 [urllib3.connectionpool] DEBUG: Starting new HTTPS connection (1): www.mckinsey.com:443\n"
     ]
    },
    {
     "name": "stdout",
     "output_type": "stream",
     "text": [
      "https://www.mckinsey.com/featured-insights/artificial-intelligence/how-artificial-intelligence-will-transform-nordic-businesses\n"
     ]
    },
    {
     "name": "stderr",
     "output_type": "stream",
     "text": [
      "2020-02-18 12:16:19 [urllib3.connectionpool] DEBUG: https://www.mckinsey.com:443 \"GET /featured-insights/artificial-intelligence/how-artificial-intelligence-will-transform-nordic-businesses HTTP/1.1\" 200 19524\n",
      "2020-02-18 12:16:19 [urllib3.connectionpool] DEBUG: Starting new HTTPS connection (1): www.mckinsey.com:443\n"
     ]
    },
    {
     "name": "stdout",
     "output_type": "stream",
     "text": [
      "https://www.mckinsey.com/featured-insights/artificial-intelligence\n"
     ]
    },
    {
     "name": "stderr",
     "output_type": "stream",
     "text": [
      "2020-02-18 12:16:20 [urllib3.connectionpool] DEBUG: https://www.mckinsey.com:443 \"GET /featured-insights/artificial-intelligence HTTP/1.1\" 200 19204\n",
      "2020-02-18 12:16:20 [scrapy.core.scraper] ERROR: Spider error processing <GET https://www.mckinsey.com/featured-insights/artificial-intelligence> (referer: None)\n",
      "Traceback (most recent call last):\n",
      "  File \"D:\\ProgramData\\Anaconda3\\lib\\site-packages\\twisted\\internet\\defer.py\", line 654, in _runCallbacks\n",
      "    current.result = callback(current.result, *args, **kw)\n",
      "  File \"<ipython-input-122-8fc83100377c>\", line 37, in parse\n",
      "    content_type = re.findall(conttype_regex, page_script)[0]\n",
      "IndexError: list index out of range\n",
      "2020-02-18 12:16:20 [urllib3.connectionpool] DEBUG: Starting new HTTPS connection (1): www.mckinsey.com:443\n"
     ]
    },
    {
     "name": "stdout",
     "output_type": "stream",
     "text": [
      "https://www.mckinsey.com/featured-insights/artificial-intelligence/kai-fu-lees-perspectives-on-two-global-leaders-in-artificial-intelligence-china-and-the-united-states\n"
     ]
    },
    {
     "name": "stderr",
     "output_type": "stream",
     "text": [
      "2020-02-18 12:16:21 [urllib3.connectionpool] DEBUG: https://www.mckinsey.com:443 \"GET /featured-insights/artificial-intelligence/kai-fu-lees-perspectives-on-two-global-leaders-in-artificial-intelligence-china-and-the-united-states HTTP/1.1\" 200 18181\n",
      "2020-02-18 12:16:21 [scrapy.core.engine] DEBUG: Crawled (200) <GET https://www.mckinsey.com/industries/social-sector/our-insights/how-artificial-intelligence-will-impact-k-12-teachers> (referer: None)\n",
      "2020-02-18 12:16:21 [scrapy.core.engine] DEBUG: Crawled (200) <GET https://www.mckinsey.com/business-functions/mckinsey-analytics/our-insights/can-artificial-intelligence-help-society-as-much-as-it-helps-business> (referer: None)\n",
      "2020-02-18 12:16:21 [scrapy.core.engine] DEBUG: Crawled (200) <GET https://www.mckinsey.com/featured-insights/artificial-intelligence/visualizing-the-uses-and-potential-impact-of-ai-and-other-analytics> (referer: None)\n",
      "2020-02-18 12:16:21 [scrapy.core.engine] DEBUG: Crawled (200) <GET https://www.mckinsey.com/industries/semiconductors/our-insights/the-rise-of-the-machines-how-chinese-executives-think-about-developments-in-artificial-intelligence> (referer: None)\n",
      "2020-02-18 12:16:21 [urllib3.connectionpool] DEBUG: Starting new HTTPS connection (1): www.mckinsey.com:443\n"
     ]
    },
    {
     "name": "stdout",
     "output_type": "stream",
     "text": [
      "https://www.mckinsey.com/featured-insights/artificial-intelligence/ai-is-open-for-business-an-interview-with-paypal-coo-bill-ready\n"
     ]
    },
    {
     "name": "stderr",
     "output_type": "stream",
     "text": [
      "2020-02-18 12:16:22 [urllib3.connectionpool] DEBUG: https://www.mckinsey.com:443 \"GET /featured-insights/artificial-intelligence/ai-is-open-for-business-an-interview-with-paypal-coo-bill-ready HTTP/1.1\" 200 18059\n",
      "2020-02-18 12:16:22 [urllib3.connectionpool] DEBUG: Starting new HTTPS connection (1): www.mckinsey.com:443\n"
     ]
    },
    {
     "name": "stdout",
     "output_type": "stream",
     "text": [
      "https://www.mckinsey.com/industries/advanced-electronics/our-insights/artificial-intelligence-the-time-to-act-is-now\n"
     ]
    },
    {
     "name": "stderr",
     "output_type": "stream",
     "text": [
      "2020-02-18 12:16:23 [urllib3.connectionpool] DEBUG: https://www.mckinsey.com:443 \"GET /industries/advanced-electronics/our-insights/artificial-intelligence-the-time-to-act-is-now HTTP/1.1\" 200 24642\n",
      "2020-02-18 12:16:23 [urllib3.connectionpool] DEBUG: Starting new HTTPS connection (1): www.mckinsey.com:443\n"
     ]
    },
    {
     "name": "stdout",
     "output_type": "stream",
     "text": [
      "https://www.mckinsey.com/featured-insights/artificial-intelligence/the-role-of-education-in-ai-and-vice-versa\n"
     ]
    },
    {
     "name": "stderr",
     "output_type": "stream",
     "text": [
      "2020-02-18 12:16:23 [urllib3.connectionpool] DEBUG: https://www.mckinsey.com:443 \"GET /featured-insights/artificial-intelligence/the-role-of-education-in-ai-and-vice-versa HTTP/1.1\" 200 18903\n",
      "2020-02-18 12:16:23 [urllib3.connectionpool] DEBUG: Starting new HTTPS connection (1): www.mckinsey.com:443\n"
     ]
    },
    {
     "name": "stdout",
     "output_type": "stream",
     "text": [
      "https://www.mckinsey.com/featured-insights/europe/harnessing-the-opportunity-of-artificial-intelligence-in-denmark\n"
     ]
    },
    {
     "name": "stderr",
     "output_type": "stream",
     "text": [
      "2020-02-18 12:16:24 [urllib3.connectionpool] DEBUG: https://www.mckinsey.com:443 \"GET /featured-insights/europe/harnessing-the-opportunity-of-artificial-intelligence-in-denmark HTTP/1.1\" 200 15933\n",
      "2020-02-18 12:16:24 [scrapy.core.engine] DEBUG: Crawled (200) <GET https://www.mckinsey.com/industries/capital-projects-and-infrastructure/our-insights/artificial-intelligence-construction-technologys-next-frontier> (referer: None)\n",
      "2020-02-18 12:16:24 [urllib3.connectionpool] DEBUG: Starting new HTTPS connection (1): www.mckinsey.com:443\n"
     ]
    },
    {
     "name": "stdout",
     "output_type": "stream",
     "text": [
      "https://www.mckinsey.com/industries/social-sector/our-insights/how-artificial-intelligence-will-impact-k-12-teachers\n"
     ]
    },
    {
     "name": "stderr",
     "output_type": "stream",
     "text": [
      "2020-02-18 12:16:24 [urllib3.connectionpool] DEBUG: https://www.mckinsey.com:443 \"GET /industries/social-sector/our-insights/how-artificial-intelligence-will-impact-k-12-teachers HTTP/1.1\" 200 22170\n",
      "2020-02-18 12:16:24 [urllib3.connectionpool] DEBUG: Starting new HTTPS connection (1): www.mckinsey.com:443\n"
     ]
    },
    {
     "name": "stdout",
     "output_type": "stream",
     "text": [
      "https://www.mckinsey.com/business-functions/mckinsey-analytics/our-insights/can-artificial-intelligence-help-society-as-much-as-it-helps-business\n"
     ]
    },
    {
     "name": "stderr",
     "output_type": "stream",
     "text": [
      "2020-02-18 12:16:25 [urllib3.connectionpool] DEBUG: https://www.mckinsey.com:443 \"GET /business-functions/mckinsey-analytics/our-insights/can-artificial-intelligence-help-society-as-much-as-it-helps-business HTTP/1.1\" 200 19206\n",
      "2020-02-18 12:16:25 [urllib3.connectionpool] DEBUG: Starting new HTTPS connection (1): www.mckinsey.com:443\n"
     ]
    },
    {
     "name": "stdout",
     "output_type": "stream",
     "text": [
      "https://www.mckinsey.com/featured-insights/artificial-intelligence/visualizing-the-uses-and-potential-impact-of-ai-and-other-analytics\n"
     ]
    },
    {
     "name": "stderr",
     "output_type": "stream",
     "text": [
      "2020-02-18 12:16:25 [urllib3.connectionpool] DEBUG: https://www.mckinsey.com:443 \"GET /featured-insights/artificial-intelligence/visualizing-the-uses-and-potential-impact-of-ai-and-other-analytics HTTP/1.1\" 200 16001\n",
      "2020-02-18 12:16:25 [urllib3.connectionpool] DEBUG: Starting new HTTPS connection (1): www.mckinsey.com:443\n"
     ]
    },
    {
     "name": "stdout",
     "output_type": "stream",
     "text": [
      "https://www.mckinsey.com/industries/semiconductors/our-insights/the-rise-of-the-machines-how-chinese-executives-think-about-developments-in-artificial-intelligence\n"
     ]
    },
    {
     "name": "stderr",
     "output_type": "stream",
     "text": [
      "2020-02-18 12:16:26 [urllib3.connectionpool] DEBUG: https://www.mckinsey.com:443 \"GET /industries/semiconductors/our-insights/the-rise-of-the-machines-how-chinese-executives-think-about-developments-in-artificial-intelligence HTTP/1.1\" 200 12780\n",
      "2020-02-18 12:16:26 [scrapy.core.engine] DEBUG: Crawled (200) <GET https://www.mckinsey.com/business-functions/sustainability/our-insights/artificial-intelligence-and-the-circular-economy-ai-as-a-tool-to-accelerate-the-transition> (referer: None)\n",
      "2020-02-18 12:16:26 [urllib3.connectionpool] DEBUG: Starting new HTTPS connection (1): www.mckinsey.com:443\n"
     ]
    },
    {
     "name": "stdout",
     "output_type": "stream",
     "text": [
      "https://www.mckinsey.com/industries/capital-projects-and-infrastructure/our-insights/artificial-intelligence-construction-technologys-next-frontier\n"
     ]
    },
    {
     "name": "stderr",
     "output_type": "stream",
     "text": [
      "2020-02-18 12:16:26 [urllib3.connectionpool] DEBUG: https://www.mckinsey.com:443 \"GET /industries/capital-projects-and-infrastructure/our-insights/artificial-intelligence-construction-technologys-next-frontier HTTP/1.1\" 200 22706\n",
      "2020-02-18 12:16:26 [urllib3.connectionpool] DEBUG: Starting new HTTPS connection (1): www.mckinsey.com:443\n"
     ]
    },
    {
     "name": "stdout",
     "output_type": "stream",
     "text": [
      "https://www.mckinsey.com/business-functions/sustainability/our-insights/artificial-intelligence-and-the-circular-economy-ai-as-a-tool-to-accelerate-the-transition\n"
     ]
    },
    {
     "name": "stderr",
     "output_type": "stream",
     "text": [
      "2020-02-18 12:16:27 [urllib3.connectionpool] DEBUG: https://www.mckinsey.com:443 \"GET /business-functions/sustainability/our-insights/artificial-intelligence-and-the-circular-economy-ai-as-a-tool-to-accelerate-the-transition HTTP/1.1\" 200 16534\n",
      "2020-02-18 12:16:27 [scrapy.core.engine] DEBUG: Crawled (200) <GET https://www.mckinsey.com/industries/healthcare-systems-and-services/our-insights/artificial-intelligence-in-health-insurance-smart-claims-management-with-self-learning-software> (referer: None)\n",
      "2020-02-18 12:16:27 [scrapy.core.engine] DEBUG: Crawled (200) <GET https://www.mckinsey.com/industries/semiconductors/our-insights/smartening-up-with-artificial-intelligence> (referer: None)\n",
      "2020-02-18 12:16:27 [urllib3.connectionpool] DEBUG: Starting new HTTPS connection (1): www.mckinsey.com:443\n"
     ]
    },
    {
     "name": "stdout",
     "output_type": "stream",
     "text": [
      "https://www.mckinsey.com/industries/healthcare-systems-and-services/our-insights/artificial-intelligence-in-health-insurance-smart-claims-management-with-self-learning-software\n"
     ]
    },
    {
     "name": "stderr",
     "output_type": "stream",
     "text": [
      "2020-02-18 12:16:28 [urllib3.connectionpool] DEBUG: https://www.mckinsey.com:443 \"GET /industries/healthcare-systems-and-services/our-insights/artificial-intelligence-in-health-insurance-smart-claims-management-with-self-learning-software HTTP/1.1\" 200 21623\n",
      "2020-02-18 12:16:28 [scrapy.core.engine] DEBUG: Crawled (200) <GET https://www.mckinsey.com/business-functions/mckinsey-digital/our-insights/getting-to-scale-with-artificial-intelligence> (referer: None)\n",
      "2020-02-18 12:16:28 [scrapy.core.engine] DEBUG: Crawled (200) <GET https://www.mckinsey.com/business-functions/mckinsey-analytics/our-insights/the-economics-of-artificial-intelligence> (referer: None)\n",
      "2020-02-18 12:16:28 [scrapy.core.engine] DEBUG: Crawled (200) <GET https://www.mckinsey.com/business-functions/mckinsey-analytics/our-insights/confronting-the-risks-of-artificial-intelligence> (referer: None)\n",
      "2020-02-18 12:16:28 [scrapy.core.engine] DEBUG: Crawled (200) <GET https://www.mckinsey.com/mgi/overview/in-the-news/the-new-spring-of-artificial-intelligence-a-few-early-economics> (referer: None)\n",
      "2020-02-18 12:16:28 [scrapy.core.engine] DEBUG: Crawled (200) <GET https://www.mckinsey.de/publikationen/leading-in-a-disruptive-world/artificial-intelligence-how-advanced-analytics-and-smart-machines-will-change-the-way-we-work> (referer: None)\n",
      "2020-02-18 12:16:28 [urllib3.connectionpool] DEBUG: Starting new HTTPS connection (1): www.mckinsey.com:443\n"
     ]
    },
    {
     "name": "stdout",
     "output_type": "stream",
     "text": [
      "https://www.mckinsey.com/industries/semiconductors/our-insights/smartening-up-with-artificial-intelligence\n"
     ]
    },
    {
     "name": "stderr",
     "output_type": "stream",
     "text": [
      "2020-02-18 12:16:28 [urllib3.connectionpool] DEBUG: https://www.mckinsey.com:443 \"GET /industries/semiconductors/our-insights/smartening-up-with-artificial-intelligence HTTP/1.1\" 200 13299\n",
      "2020-02-18 12:16:28 [scrapy.core.engine] DEBUG: Crawled (200) <GET https://www.mckinsey.com/featured-insights/artificial-intelligence/global-ai-survey-ai-proves-its-worth-but-few-scale-impact> (referer: None)\n",
      "2020-02-18 12:16:28 [scrapy.core.engine] DEBUG: Crawled (200) <GET https://www.mckinsey.com/business-functions/organization/our-insights/will-artificial-intelligence-make-you-a-better-leader> (referer: None)\n",
      "2020-02-18 12:16:28 [scrapy.core.engine] DEBUG: Crawled (200) <GET https://www.mckinsey.com/featured-insights/artificial-intelligence/ai-adoption-advances-but-foundational-barriers-remain> (referer: None)\n",
      "2020-02-18 12:16:28 [urllib3.connectionpool] DEBUG: Starting new HTTPS connection (1): www.mckinsey.com:443\n"
     ]
    },
    {
     "name": "stdout",
     "output_type": "stream",
     "text": [
      "https://www.mckinsey.com/business-functions/mckinsey-digital/our-insights/getting-to-scale-with-artificial-intelligence\n"
     ]
    },
    {
     "name": "stderr",
     "output_type": "stream",
     "text": [
      "2020-02-18 12:16:29 [urllib3.connectionpool] DEBUG: https://www.mckinsey.com:443 \"GET /business-functions/mckinsey-digital/our-insights/getting-to-scale-with-artificial-intelligence HTTP/1.1\" 200 13769\n",
      "2020-02-18 12:16:29 [urllib3.connectionpool] DEBUG: Starting new HTTPS connection (1): www.mckinsey.com:443\n"
     ]
    },
    {
     "name": "stdout",
     "output_type": "stream",
     "text": [
      "https://www.mckinsey.com/business-functions/mckinsey-analytics/our-insights/the-economics-of-artificial-intelligence\n"
     ]
    },
    {
     "name": "stderr",
     "output_type": "stream",
     "text": [
      "2020-02-18 12:16:30 [urllib3.connectionpool] DEBUG: https://www.mckinsey.com:443 \"GET /business-functions/mckinsey-analytics/our-insights/the-economics-of-artificial-intelligence HTTP/1.1\" 200 21504\n",
      "2020-02-18 12:16:30 [urllib3.connectionpool] DEBUG: Starting new HTTPS connection (1): www.mckinsey.com:443\n"
     ]
    },
    {
     "name": "stdout",
     "output_type": "stream",
     "text": [
      "https://www.mckinsey.com/business-functions/mckinsey-analytics/our-insights/confronting-the-risks-of-artificial-intelligence\n"
     ]
    },
    {
     "name": "stderr",
     "output_type": "stream",
     "text": [
      "2020-02-18 12:16:30 [urllib3.connectionpool] DEBUG: https://www.mckinsey.com:443 \"GET /business-functions/mckinsey-analytics/our-insights/confronting-the-risks-of-artificial-intelligence HTTP/1.1\" 200 23333\n",
      "2020-02-18 12:16:30 [urllib3.connectionpool] DEBUG: Starting new HTTPS connection (1): www.mckinsey.com:443\n"
     ]
    },
    {
     "name": "stdout",
     "output_type": "stream",
     "text": [
      "https://www.mckinsey.com/mgi/overview/in-the-news/the-new-spring-of-artificial-intelligence-a-few-early-economics\n"
     ]
    },
    {
     "name": "stderr",
     "output_type": "stream",
     "text": [
      "2020-02-18 12:16:31 [urllib3.connectionpool] DEBUG: https://www.mckinsey.com:443 \"GET /mgi/overview/in-the-news/the-new-spring-of-artificial-intelligence-a-few-early-economics HTTP/1.1\" 200 18064\n",
      "2020-02-18 12:16:31 [urllib3.connectionpool] DEBUG: Starting new HTTPS connection (1): www.mckinsey.de:443\n"
     ]
    },
    {
     "name": "stdout",
     "output_type": "stream",
     "text": [
      "https://www.mckinsey.de/publikationen/leading-in-a-disruptive-world/artificial-intelligence-how-advanced-analytics-and-smart-machines-will-change-the-way-we-work\n"
     ]
    },
    {
     "name": "stderr",
     "output_type": "stream",
     "text": [
      "2020-02-18 12:16:31 [urllib3.connectionpool] DEBUG: https://www.mckinsey.de:443 \"GET /publikationen/leading-in-a-disruptive-world/artificial-intelligence-how-advanced-analytics-and-smart-machines-will-change-the-way-we-work HTTP/1.1\" 200 15453\n",
      "2020-02-18 12:16:31 [scrapy.core.engine] DEBUG: Crawled (200) <GET https://www.mckinsey.com/business-functions/strategy-and-corporate-finance/our-insights/artificial-intelligence-meets-the-c-suite> (referer: None)\n",
      "2020-02-18 12:16:31 [scrapy.core.engine] DEBUG: Crawled (200) <GET https://www.mckinsey.com/featured-insights/china/artificial-intelligence-implications-for-china> (referer: None)\n",
      "2020-02-18 12:16:31 [scrapy.core.engine] DEBUG: Crawled (200) <GET https://www.mckinsey.com/business-functions/mckinsey-analytics/our-insights/applying-ai-where-and-how-to-put-artificial-intelligence-to-work> (referer: None)\n",
      "2020-02-18 12:16:31 [scrapy.core.engine] DEBUG: Crawled (200) <GET https://www.mckinsey.com/quarterly/the-magazine/2017-issue-4-mckinsey-quarterly> (referer: None)\n",
      "2020-02-18 12:16:31 [scrapy.core.engine] DEBUG: Crawled (200) <GET https://www.mckinsey.com/business-functions/mckinsey-analytics/our-insights/how-artificial-intelligence-can-deliver-real-value-to-companies> (referer: None)\n",
      "2020-02-18 12:16:31 [urllib3.connectionpool] DEBUG: Starting new HTTPS connection (1): www.mckinsey.com:443\n"
     ]
    },
    {
     "name": "stdout",
     "output_type": "stream",
     "text": [
      "https://www.mckinsey.com/featured-insights/artificial-intelligence/global-ai-survey-ai-proves-its-worth-but-few-scale-impact\n"
     ]
    },
    {
     "name": "stderr",
     "output_type": "stream",
     "text": [
      "2020-02-18 12:16:32 [urllib3.connectionpool] DEBUG: https://www.mckinsey.com:443 \"GET /featured-insights/artificial-intelligence/global-ai-survey-ai-proves-its-worth-but-few-scale-impact HTTP/1.1\" 200 23988\n",
      "2020-02-18 12:16:32 [urllib3.connectionpool] DEBUG: Starting new HTTPS connection (1): www.mckinsey.com:443\n"
     ]
    },
    {
     "name": "stdout",
     "output_type": "stream",
     "text": [
      "https://www.mckinsey.com/business-functions/organization/our-insights/will-artificial-intelligence-make-you-a-better-leader\n"
     ]
    },
    {
     "name": "stderr",
     "output_type": "stream",
     "text": [
      "2020-02-18 12:16:32 [urllib3.connectionpool] DEBUG: https://www.mckinsey.com:443 \"GET /business-functions/organization/our-insights/will-artificial-intelligence-make-you-a-better-leader HTTP/1.1\" 200 17581\n",
      "2020-02-18 12:16:32 [urllib3.connectionpool] DEBUG: Starting new HTTPS connection (1): www.mckinsey.com:443\n"
     ]
    },
    {
     "name": "stdout",
     "output_type": "stream",
     "text": [
      "https://www.mckinsey.com/featured-insights/artificial-intelligence/ai-adoption-advances-but-foundational-barriers-remain\n"
     ]
    },
    {
     "name": "stderr",
     "output_type": "stream",
     "text": [
      "2020-02-18 12:16:33 [urllib3.connectionpool] DEBUG: https://www.mckinsey.com:443 \"GET /featured-insights/artificial-intelligence/ai-adoption-advances-but-foundational-barriers-remain HTTP/1.1\" 200 22715\n",
      "2020-02-18 12:16:33 [scrapy.core.engine] DEBUG: Crawled (200) <GET https://www.mckinsey.com/business-functions/mckinsey-analytics/our-insights/artificial-intelligence-in-business-separating-the-real-from-the-hype> (referer: None)\n",
      "2020-02-18 12:16:33 [scrapy.core.engine] DEBUG: Crawled (200) <GET https://www.mckinsey.de/publikationen/leading-in-a-disruptive-world/smart-moves-required-the-road-to-artificial-intelligence-in-mobility> (referer: None)\n",
      "2020-02-18 12:16:33 [scrapy.core.engine] DEBUG: Crawled (200) <GET https://www.mckinsey.com/business-functions/risk/our-insights/derisking-machine-learning-and-artificial-intelligence> (referer: None)\n",
      "2020-02-18 12:16:33 [scrapy.core.engine] DEBUG: Crawled (200) <GET https://www.mckinsey.com/industries/automotive-and-assembly/our-insights/artificial-intelligence-as-auto-companies-new-engine-of-value> (referer: None)\n",
      "2020-02-18 12:16:33 [urllib3.connectionpool] DEBUG: Starting new HTTPS connection (1): www.mckinsey.com:443\n"
     ]
    },
    {
     "name": "stdout",
     "output_type": "stream",
     "text": [
      "https://www.mckinsey.com/business-functions/strategy-and-corporate-finance/our-insights/artificial-intelligence-meets-the-c-suite\n"
     ]
    },
    {
     "name": "stderr",
     "output_type": "stream",
     "text": [
      "2020-02-18 12:16:34 [urllib3.connectionpool] DEBUG: https://www.mckinsey.com:443 \"GET /business-functions/strategy-and-corporate-finance/our-insights/artificial-intelligence-meets-the-c-suite HTTP/1.1\" 200 22579\n",
      "2020-02-18 12:16:34 [urllib3.connectionpool] DEBUG: Starting new HTTPS connection (1): www.mckinsey.com:443\n"
     ]
    },
    {
     "name": "stdout",
     "output_type": "stream",
     "text": [
      "https://www.mckinsey.com/featured-insights/china/artificial-intelligence-implications-for-china\n"
     ]
    },
    {
     "name": "stderr",
     "output_type": "stream",
     "text": [
      "2020-02-18 12:16:35 [urllib3.connectionpool] DEBUG: https://www.mckinsey.com:443 \"GET /featured-insights/china/artificial-intelligence-implications-for-china HTTP/1.1\" 200 18077\n",
      "2020-02-18 12:16:35 [urllib3.connectionpool] DEBUG: Starting new HTTPS connection (1): www.mckinsey.com:443\n"
     ]
    },
    {
     "name": "stdout",
     "output_type": "stream",
     "text": [
      "https://www.mckinsey.com/business-functions/mckinsey-analytics/our-insights/applying-ai-where-and-how-to-put-artificial-intelligence-to-work\n"
     ]
    },
    {
     "name": "stderr",
     "output_type": "stream",
     "text": [
      "2020-02-18 12:16:36 [urllib3.connectionpool] DEBUG: https://www.mckinsey.com:443 \"GET /business-functions/mckinsey-analytics/our-insights/applying-ai-where-and-how-to-put-artificial-intelligence-to-work HTTP/1.1\" 200 14491\n",
      "2020-02-18 12:16:36 [urllib3.connectionpool] DEBUG: Starting new HTTPS connection (1): www.mckinsey.com:443\n"
     ]
    },
    {
     "name": "stdout",
     "output_type": "stream",
     "text": [
      "https://www.mckinsey.com/quarterly/the-magazine/2017-issue-4-mckinsey-quarterly\n"
     ]
    },
    {
     "name": "stderr",
     "output_type": "stream",
     "text": [
      "2020-02-18 12:16:37 [urllib3.connectionpool] DEBUG: https://www.mckinsey.com:443 \"GET /quarterly/the-magazine/2017-issue-4-mckinsey-quarterly HTTP/1.1\" 200 16099\n",
      "2020-02-18 12:16:37 [scrapy.core.scraper] ERROR: Spider error processing <GET https://www.mckinsey.com/quarterly/the-magazine/2017-issue-4-mckinsey-quarterly> (referer: None)\n",
      "Traceback (most recent call last):\n",
      "  File \"D:\\ProgramData\\Anaconda3\\lib\\site-packages\\twisted\\internet\\defer.py\", line 654, in _runCallbacks\n",
      "    current.result = callback(current.result, *args, **kw)\n",
      "  File \"<ipython-input-122-8fc83100377c>\", line 41, in parse\n",
      "    page_date = re.findall(date_regex, page_script)[0]\n",
      "IndexError: list index out of range\n",
      "2020-02-18 12:16:37 [urllib3.connectionpool] DEBUG: Starting new HTTPS connection (1): www.mckinsey.com:443\n"
     ]
    },
    {
     "name": "stdout",
     "output_type": "stream",
     "text": [
      "https://www.mckinsey.com/business-functions/mckinsey-analytics/our-insights/how-artificial-intelligence-can-deliver-real-value-to-companies\n"
     ]
    },
    {
     "name": "stderr",
     "output_type": "stream",
     "text": [
      "2020-02-18 12:16:38 [urllib3.connectionpool] DEBUG: https://www.mckinsey.com:443 \"GET /business-functions/mckinsey-analytics/our-insights/how-artificial-intelligence-can-deliver-real-value-to-companies HTTP/1.1\" 200 17655\n",
      "2020-02-18 12:16:38 [scrapy.core.engine] DEBUG: Crawled (200) <GET https://www.mckinsey.com/business-functions/mckinsey-analytics/our-insights/artificial-intelligence-why-a-digital-base-is-critical> (referer: None)\n",
      "2020-02-18 12:16:38 [urllib3.connectionpool] DEBUG: Starting new HTTPS connection (1): www.mckinsey.com:443\n"
     ]
    },
    {
     "name": "stdout",
     "output_type": "stream",
     "text": [
      "https://www.mckinsey.com/business-functions/mckinsey-analytics/our-insights/artificial-intelligence-in-business-separating-the-real-from-the-hype\n"
     ]
    },
    {
     "name": "stderr",
     "output_type": "stream",
     "text": [
      "2020-02-18 12:16:39 [urllib3.connectionpool] DEBUG: https://www.mckinsey.com:443 \"GET /business-functions/mckinsey-analytics/our-insights/artificial-intelligence-in-business-separating-the-real-from-the-hype HTTP/1.1\" 200 23384\n",
      "2020-02-18 12:16:39 [urllib3.connectionpool] DEBUG: Starting new HTTPS connection (1): www.mckinsey.de:443\n"
     ]
    },
    {
     "name": "stdout",
     "output_type": "stream",
     "text": [
      "https://www.mckinsey.de/publikationen/leading-in-a-disruptive-world/smart-moves-required-the-road-to-artificial-intelligence-in-mobility\n"
     ]
    },
    {
     "name": "stderr",
     "output_type": "stream",
     "text": [
      "2020-02-18 12:16:39 [urllib3.connectionpool] DEBUG: https://www.mckinsey.de:443 \"GET /publikationen/leading-in-a-disruptive-world/smart-moves-required-the-road-to-artificial-intelligence-in-mobility HTTP/1.1\" 200 13423\n",
      "2020-02-18 12:16:39 [urllib3.connectionpool] DEBUG: Starting new HTTPS connection (1): www.mckinsey.com:443\n"
     ]
    },
    {
     "name": "stdout",
     "output_type": "stream",
     "text": [
      "https://www.mckinsey.com/business-functions/risk/our-insights/derisking-machine-learning-and-artificial-intelligence\n"
     ]
    },
    {
     "name": "stderr",
     "output_type": "stream",
     "text": [
      "2020-02-18 12:16:40 [urllib3.connectionpool] DEBUG: https://www.mckinsey.com:443 \"GET /business-functions/risk/our-insights/derisking-machine-learning-and-artificial-intelligence HTTP/1.1\" 200 21417\n",
      "2020-02-18 12:16:40 [urllib3.connectionpool] DEBUG: Starting new HTTPS connection (1): www.mckinsey.com:443\n"
     ]
    },
    {
     "name": "stdout",
     "output_type": "stream",
     "text": [
      "https://www.mckinsey.com/industries/automotive-and-assembly/our-insights/artificial-intelligence-as-auto-companies-new-engine-of-value\n"
     ]
    },
    {
     "name": "stderr",
     "output_type": "stream",
     "text": [
      "2020-02-18 12:16:40 [urllib3.connectionpool] DEBUG: https://www.mckinsey.com:443 \"GET /industries/automotive-and-assembly/our-insights/artificial-intelligence-as-auto-companies-new-engine-of-value HTTP/1.1\" 200 18668\n",
      "2020-02-18 12:16:40 [scrapy.core.engine] DEBUG: Crawled (200) <GET https://www.mckinsey.com/industries/automotive-and-assembly/our-insights/the-road-to-artificial-intelligence-in-mobility-smart-moves-required> (referer: None)\n",
      "2020-02-18 12:16:40 [urllib3.connectionpool] DEBUG: Starting new HTTPS connection (1): www.mckinsey.com:443\n"
     ]
    },
    {
     "name": "stdout",
     "output_type": "stream",
     "text": [
      "https://www.mckinsey.com/business-functions/mckinsey-analytics/our-insights/artificial-intelligence-why-a-digital-base-is-critical\n"
     ]
    },
    {
     "name": "stderr",
     "output_type": "stream",
     "text": [
      "2020-02-18 12:16:41 [urllib3.connectionpool] DEBUG: https://www.mckinsey.com:443 \"GET /business-functions/mckinsey-analytics/our-insights/artificial-intelligence-why-a-digital-base-is-critical HTTP/1.1\" 200 18912\n",
      "2020-02-18 12:16:41 [urllib3.connectionpool] DEBUG: Starting new HTTPS connection (1): www.mckinsey.com:443\n"
     ]
    },
    {
     "name": "stdout",
     "output_type": "stream",
     "text": [
      "https://www.mckinsey.com/industries/automotive-and-assembly/our-insights/the-road-to-artificial-intelligence-in-mobility-smart-moves-required\n"
     ]
    },
    {
     "name": "stderr",
     "output_type": "stream",
     "text": [
      "2020-02-18 12:16:42 [urllib3.connectionpool] DEBUG: https://www.mckinsey.com:443 \"GET /industries/automotive-and-assembly/our-insights/the-road-to-artificial-intelligence-in-mobility-smart-moves-required HTTP/1.1\" 200 21023\n",
      "2020-02-18 12:16:42 [scrapy.core.engine] DEBUG: Crawled (200) <GET https://www.mckinsey.com/industries/automotive-and-assembly/our-insights/winning-tomorrows-car-buyers-using-artificial-intelligence-in-marketing-and-sales> (referer: None)\n",
      "2020-02-18 12:16:42 [scrapy.core.engine] DEBUG: Crawled (200) <GET https://www.mckinsey.com/industries/chemicals/our-insights/artificial-intelligence-helps-cut-emissions-and-costs-in-cement-plants> (referer: None)\n",
      "2020-02-18 12:16:42 [urllib3.connectionpool] DEBUG: Starting new HTTPS connection (1): www.mckinsey.com:443\n"
     ]
    },
    {
     "name": "stdout",
     "output_type": "stream",
     "text": [
      "https://www.mckinsey.com/industries/automotive-and-assembly/our-insights/winning-tomorrows-car-buyers-using-artificial-intelligence-in-marketing-and-sales\n"
     ]
    },
    {
     "name": "stderr",
     "output_type": "stream",
     "text": [
      "2020-02-18 12:16:43 [urllib3.connectionpool] DEBUG: https://www.mckinsey.com:443 \"GET /industries/automotive-and-assembly/our-insights/winning-tomorrows-car-buyers-using-artificial-intelligence-in-marketing-and-sales HTTP/1.1\" 200 18221\n",
      "2020-02-18 12:16:43 [scrapy.core.engine] DEBUG: Crawled (200) <GET https://www.mckinsey.com/mgi/overview/in-the-news/marrying-artificial-intelligence-and-the-sustainable> (referer: None)\n",
      "2020-02-18 12:16:43 [scrapy.core.engine] DEBUG: Crawled (200) <GET https://www.mckinsey.com/featured-insights/artificial-intelligence/deep-learnings-origins-and-pioneers> (referer: None)\n",
      "2020-02-18 12:16:43 [scrapy.core.engine] DEBUG: Crawled (200) <GET https://www.mckinsey.com/industries/semiconductors/our-insights/artificial-intelligence-hardware-new-opportunities-for-semiconductor-companies> (referer: None)\n",
      "2020-02-18 12:16:43 [scrapy.core.engine] DEBUG: Crawled (200) <GET https://www.mckinsey.com/featured-insights/artificial-intelligence/notes-from-the-ai-frontier-modeling-the-impact-of-ai-on-the-world-economy> (referer: None)\n",
      "2020-02-18 12:16:43 [scrapy.core.engine] DEBUG: Crawled (200) <GET https://www.mckinsey.com/business-functions/mckinsey-analytics/our-insights/the-analytics-academy-bridging-the-gap-between-human-and-artificial-intelligence> (referer: None)\n",
      "2020-02-18 12:16:43 [scrapy.core.engine] DEBUG: Crawled (200) <GET https://www.mckinsey.com/industries/automotive-and-assembly/our-insights/how-advanced-industrial-companies-should-approach-artificial-intelligence-strategy> (referer: None)\n",
      "2020-02-18 12:16:43 [urllib3.connectionpool] DEBUG: Starting new HTTPS connection (1): www.mckinsey.com:443\n"
     ]
    },
    {
     "name": "stdout",
     "output_type": "stream",
     "text": [
      "https://www.mckinsey.com/industries/chemicals/our-insights/artificial-intelligence-helps-cut-emissions-and-costs-in-cement-plants\n"
     ]
    },
    {
     "name": "stderr",
     "output_type": "stream",
     "text": [
      "2020-02-18 12:16:43 [urllib3.connectionpool] DEBUG: https://www.mckinsey.com:443 \"GET /industries/chemicals/our-insights/artificial-intelligence-helps-cut-emissions-and-costs-in-cement-plants HTTP/1.1\" 200 15502\n",
      "2020-02-18 12:16:43 [scrapy.core.engine] DEBUG: Crawled (200) <GET https://www.mckinsey.com/featured-insights/artificial-intelligence/notes-from-the-ai-frontier-applications-and-value-of-deep-learning> (referer: None)\n",
      "2020-02-18 12:16:43 [scrapy.core.engine] DEBUG: Crawled (200) <GET https://www.mckinsey.com/featured-insights/artificial-intelligence/tackling-europes-gap-in-digital-and-ai> (referer: None)\n",
      "2020-02-18 12:16:43 [urllib3.connectionpool] DEBUG: Starting new HTTPS connection (1): www.mckinsey.com:443\n"
     ]
    },
    {
     "name": "stdout",
     "output_type": "stream",
     "text": [
      "https://www.mckinsey.com/mgi/overview/in-the-news/marrying-artificial-intelligence-and-the-sustainable\n"
     ]
    },
    {
     "name": "stderr",
     "output_type": "stream",
     "text": [
      "2020-02-18 12:16:44 [urllib3.connectionpool] DEBUG: https://www.mckinsey.com:443 \"GET /mgi/overview/in-the-news/marrying-artificial-intelligence-and-the-sustainable HTTP/1.1\" 200 15854\n",
      "2020-02-18 12:16:44 [urllib3.connectionpool] DEBUG: Starting new HTTPS connection (1): www.mckinsey.com:443\n"
     ]
    },
    {
     "name": "stdout",
     "output_type": "stream",
     "text": [
      "https://www.mckinsey.com/featured-insights/artificial-intelligence/deep-learnings-origins-and-pioneers\n"
     ]
    },
    {
     "name": "stderr",
     "output_type": "stream",
     "text": [
      "2020-02-18 12:16:45 [urllib3.connectionpool] DEBUG: https://www.mckinsey.com:443 \"GET /featured-insights/artificial-intelligence/deep-learnings-origins-and-pioneers HTTP/1.1\" 200 16983\n",
      "2020-02-18 12:16:45 [urllib3.connectionpool] DEBUG: Starting new HTTPS connection (1): www.mckinsey.com:443\n"
     ]
    },
    {
     "name": "stdout",
     "output_type": "stream",
     "text": [
      "https://www.mckinsey.com/industries/semiconductors/our-insights/artificial-intelligence-hardware-new-opportunities-for-semiconductor-companies\n"
     ]
    },
    {
     "name": "stderr",
     "output_type": "stream",
     "text": [
      "2020-02-18 12:16:46 [urllib3.connectionpool] DEBUG: https://www.mckinsey.com:443 \"GET /industries/semiconductors/our-insights/artificial-intelligence-hardware-new-opportunities-for-semiconductor-companies HTTP/1.1\" 200 25224\n",
      "2020-02-18 12:16:46 [urllib3.connectionpool] DEBUG: Starting new HTTPS connection (1): www.mckinsey.com:443\n"
     ]
    },
    {
     "name": "stdout",
     "output_type": "stream",
     "text": [
      "https://www.mckinsey.com/featured-insights/artificial-intelligence/notes-from-the-ai-frontier-modeling-the-impact-of-ai-on-the-world-economy\n"
     ]
    },
    {
     "name": "stderr",
     "output_type": "stream",
     "text": [
      "2020-02-18 12:16:46 [urllib3.connectionpool] DEBUG: https://www.mckinsey.com:443 \"GET /featured-insights/artificial-intelligence/notes-from-the-ai-frontier-modeling-the-impact-of-ai-on-the-world-economy HTTP/1.1\" 200 21534\n",
      "2020-02-18 12:16:46 [scrapy.core.scraper] ERROR: Spider error processing <GET https://www.mckinsey.com/featured-insights/artificial-intelligence/notes-from-the-ai-frontier-modeling-the-impact-of-ai-on-the-world-economy> (referer: None)\n",
      "Traceback (most recent call last):\n",
      "  File \"D:\\ProgramData\\Anaconda3\\lib\\site-packages\\twisted\\internet\\defer.py\", line 654, in _runCallbacks\n",
      "    current.result = callback(current.result, *args, **kw)\n",
      "  File \"<ipython-input-122-8fc83100377c>\", line 42, in parse\n",
      "    page_texttype = re.findall(texttype_regex, page_script)[0]\n",
      "IndexError: list index out of range\n",
      "2020-02-18 12:16:46 [urllib3.connectionpool] DEBUG: Starting new HTTPS connection (1): www.mckinsey.com:443\n"
     ]
    },
    {
     "name": "stdout",
     "output_type": "stream",
     "text": [
      "https://www.mckinsey.com/business-functions/mckinsey-analytics/our-insights/the-analytics-academy-bridging-the-gap-between-human-and-artificial-intelligence\n"
     ]
    },
    {
     "name": "stderr",
     "output_type": "stream",
     "text": [
      "2020-02-18 12:16:47 [urllib3.connectionpool] DEBUG: https://www.mckinsey.com:443 \"GET /business-functions/mckinsey-analytics/our-insights/the-analytics-academy-bridging-the-gap-between-human-and-artificial-intelligence HTTP/1.1\" 200 24365\n",
      "2020-02-18 12:16:47 [urllib3.connectionpool] DEBUG: Starting new HTTPS connection (1): www.mckinsey.com:443\n"
     ]
    },
    {
     "name": "stdout",
     "output_type": "stream",
     "text": [
      "https://www.mckinsey.com/industries/automotive-and-assembly/our-insights/how-advanced-industrial-companies-should-approach-artificial-intelligence-strategy\n"
     ]
    },
    {
     "name": "stderr",
     "output_type": "stream",
     "text": [
      "2020-02-18 12:16:48 [urllib3.connectionpool] DEBUG: https://www.mckinsey.com:443 \"GET /industries/automotive-and-assembly/our-insights/how-advanced-industrial-companies-should-approach-artificial-intelligence-strategy HTTP/1.1\" 200 20530\n",
      "2020-02-18 12:16:48 [scrapy.core.engine] DEBUG: Crawled (200) <GET https://www.mckinsey.com/business-functions/mckinsey-analytics/our-insights/what-ai-can-and-cant-do-yet-for-your-business> (referer: None)\n",
      "2020-02-18 12:16:48 [scrapy.core.engine] DEBUG: Crawled (200) <GET https://www.mckinsey.com/business-functions/mckinsey-analytics/our-insights/crossing-the-frontier-how-to-apply-ai-for-impact> (referer: None)\n",
      "2020-02-18 12:16:48 [scrapy.core.engine] DEBUG: Crawled (200) <GET https://www.mckinsey.com/business-functions/mckinsey-digital/our-insights/how-bots-algorithms-and-artificial-intelligence-are-reshaping-the-future-of-corporate-support-functions> (referer: None)\n",
      "2020-02-18 12:16:48 [scrapy.core.engine] DEBUG: Crawled (200) <GET https://www.mckinsey.com/business-functions/mckinsey-analytics/our-insights/ask-the-ai-experts-should-we-be-afraid-of-ai> (referer: None)\n",
      "2020-02-18 12:16:48 [scrapy.core.engine] DEBUG: Crawled (200) <GET https://www.mckinsey.com/our-people/nicolaus-henke> (referer: None)\n",
      "2020-02-18 12:16:48 [scrapy.core.engine] DEBUG: Crawled (200) <GET https://www.mckinsey.com/featured-insights/leadership/manager-and-machine> (referer: None)\n",
      "2020-02-18 12:16:48 [urllib3.connectionpool] DEBUG: Starting new HTTPS connection (1): www.mckinsey.com:443\n"
     ]
    },
    {
     "name": "stdout",
     "output_type": "stream",
     "text": [
      "https://www.mckinsey.com/featured-insights/artificial-intelligence/notes-from-the-ai-frontier-applications-and-value-of-deep-learning\n"
     ]
    },
    {
     "name": "stderr",
     "output_type": "stream",
     "text": [
      "2020-02-18 12:16:48 [urllib3.connectionpool] DEBUG: https://www.mckinsey.com:443 \"GET /featured-insights/artificial-intelligence/notes-from-the-ai-frontier-applications-and-value-of-deep-learning HTTP/1.1\" 200 29072\n",
      "2020-02-18 12:16:48 [scrapy.core.scraper] ERROR: Spider error processing <GET https://www.mckinsey.com/featured-insights/artificial-intelligence/notes-from-the-ai-frontier-applications-and-value-of-deep-learning> (referer: None)\n",
      "Traceback (most recent call last):\n",
      "  File \"D:\\ProgramData\\Anaconda3\\lib\\site-packages\\twisted\\internet\\defer.py\", line 654, in _runCallbacks\n",
      "    current.result = callback(current.result, *args, **kw)\n",
      "  File \"<ipython-input-122-8fc83100377c>\", line 42, in parse\n",
      "    page_texttype = re.findall(texttype_regex, page_script)[0]\n",
      "IndexError: list index out of range\n",
      "2020-02-18 12:16:48 [urllib3.connectionpool] DEBUG: Starting new HTTPS connection (1): www.mckinsey.com:443\n"
     ]
    },
    {
     "name": "stdout",
     "output_type": "stream",
     "text": [
      "https://www.mckinsey.com/featured-insights/artificial-intelligence/tackling-europes-gap-in-digital-and-ai\n"
     ]
    },
    {
     "name": "stderr",
     "output_type": "stream",
     "text": [
      "2020-02-18 12:16:49 [urllib3.connectionpool] DEBUG: https://www.mckinsey.com:443 \"GET /featured-insights/artificial-intelligence/tackling-europes-gap-in-digital-and-ai HTTP/1.1\" 200 23366\n",
      "2020-02-18 12:16:49 [scrapy.core.scraper] ERROR: Spider error processing <GET https://www.mckinsey.com/featured-insights/artificial-intelligence/tackling-europes-gap-in-digital-and-ai> (referer: None)\n",
      "Traceback (most recent call last):\n",
      "  File \"D:\\ProgramData\\Anaconda3\\lib\\site-packages\\twisted\\internet\\defer.py\", line 654, in _runCallbacks\n",
      "    current.result = callback(current.result, *args, **kw)\n",
      "  File \"<ipython-input-122-8fc83100377c>\", line 42, in parse\n",
      "    page_texttype = re.findall(texttype_regex, page_script)[0]\n",
      "IndexError: list index out of range\n",
      "2020-02-18 12:16:49 [scrapy.core.engine] DEBUG: Crawled (200) <GET https://www.mckinsey.com/industries/public-sector/our-insights/the-ai-factor-in-talent-management-an-interview-with-catalytes-jacob-hsu-and-mike-rosenbaum> (referer: None)\n",
      "2020-02-18 12:16:49 [scrapy.core.engine] DEBUG: Crawled (200) <GET https://www.mckinsey.com/business-functions/mckinsey-analytics/our-insights/ask-the-ai-experts-what-are-the-applications-of-ai> (referer: None)\n",
      "2020-02-18 12:16:49 [urllib3.connectionpool] DEBUG: Starting new HTTPS connection (1): www.mckinsey.com:443\n"
     ]
    },
    {
     "name": "stdout",
     "output_type": "stream",
     "text": [
      "https://www.mckinsey.com/business-functions/mckinsey-analytics/our-insights/what-ai-can-and-cant-do-yet-for-your-business\n"
     ]
    },
    {
     "name": "stderr",
     "output_type": "stream",
     "text": [
      "2020-02-18 12:16:51 [urllib3.connectionpool] DEBUG: https://www.mckinsey.com:443 \"GET /business-functions/mckinsey-analytics/our-insights/what-ai-can-and-cant-do-yet-for-your-business HTTP/1.1\" 200 25849\n",
      "2020-02-18 12:16:51 [urllib3.connectionpool] DEBUG: Starting new HTTPS connection (1): www.mckinsey.com:443\n"
     ]
    },
    {
     "name": "stdout",
     "output_type": "stream",
     "text": [
      "https://www.mckinsey.com/business-functions/mckinsey-analytics/our-insights/crossing-the-frontier-how-to-apply-ai-for-impact\n"
     ]
    },
    {
     "name": "stderr",
     "output_type": "stream",
     "text": [
      "2020-02-18 12:16:52 [urllib3.connectionpool] DEBUG: https://www.mckinsey.com:443 \"GET /business-functions/mckinsey-analytics/our-insights/crossing-the-frontier-how-to-apply-ai-for-impact HTTP/1.1\" 200 14553\n",
      "2020-02-18 12:16:52 [scrapy.core.scraper] ERROR: Spider error processing <GET https://www.mckinsey.com/business-functions/mckinsey-analytics/our-insights/crossing-the-frontier-how-to-apply-ai-for-impact> (referer: None)\n",
      "Traceback (most recent call last):\n",
      "  File \"D:\\ProgramData\\Anaconda3\\lib\\site-packages\\twisted\\internet\\defer.py\", line 654, in _runCallbacks\n",
      "    current.result = callback(current.result, *args, **kw)\n",
      "  File \"<ipython-input-122-8fc83100377c>\", line 41, in parse\n",
      "    page_date = re.findall(date_regex, page_script)[0]\n",
      "IndexError: list index out of range\n",
      "2020-02-18 12:16:52 [urllib3.connectionpool] DEBUG: Starting new HTTPS connection (1): www.mckinsey.com:443\n"
     ]
    },
    {
     "name": "stdout",
     "output_type": "stream",
     "text": [
      "https://www.mckinsey.com/business-functions/mckinsey-digital/our-insights/how-bots-algorithms-and-artificial-intelligence-are-reshaping-the-future-of-corporate-support-functions\n"
     ]
    },
    {
     "name": "stderr",
     "output_type": "stream",
     "text": [
      "2020-02-18 12:16:53 [urllib3.connectionpool] DEBUG: https://www.mckinsey.com:443 \"GET /business-functions/mckinsey-digital/our-insights/how-bots-algorithms-and-artificial-intelligence-are-reshaping-the-future-of-corporate-support-functions HTTP/1.1\" 200 20761\n",
      "2020-02-18 12:16:53 [urllib3.connectionpool] DEBUG: Starting new HTTPS connection (1): www.mckinsey.com:443\n"
     ]
    },
    {
     "name": "stdout",
     "output_type": "stream",
     "text": [
      "https://www.mckinsey.com/business-functions/mckinsey-analytics/our-insights/ask-the-ai-experts-should-we-be-afraid-of-ai\n"
     ]
    },
    {
     "name": "stderr",
     "output_type": "stream",
     "text": [
      "2020-02-18 12:16:53 [urllib3.connectionpool] DEBUG: https://www.mckinsey.com:443 \"GET /business-functions/mckinsey-analytics/our-insights/ask-the-ai-experts-should-we-be-afraid-of-ai HTTP/1.1\" 200 16380\n",
      "2020-02-18 12:16:53 [urllib3.connectionpool] DEBUG: Starting new HTTPS connection (1): www.mckinsey.com:443\n"
     ]
    },
    {
     "name": "stdout",
     "output_type": "stream",
     "text": [
      "https://www.mckinsey.com/our-people/nicolaus-henke\n"
     ]
    },
    {
     "name": "stderr",
     "output_type": "stream",
     "text": [
      "2020-02-18 12:16:55 [urllib3.connectionpool] DEBUG: https://www.mckinsey.com:443 \"GET /our-people/nicolaus-henke HTTP/1.1\" 200 15864\n",
      "2020-02-18 12:16:55 [urllib3.connectionpool] DEBUG: Starting new HTTPS connection (1): www.mckinsey.com:443\n"
     ]
    },
    {
     "name": "stdout",
     "output_type": "stream",
     "text": [
      "https://www.mckinsey.com/featured-insights/leadership/manager-and-machine\n"
     ]
    },
    {
     "name": "stderr",
     "output_type": "stream",
     "text": [
      "2020-02-18 12:16:55 [urllib3.connectionpool] DEBUG: https://www.mckinsey.com:443 \"GET /featured-insights/leadership/manager-and-machine HTTP/1.1\" 200 22650\n",
      "2020-02-18 12:16:55 [scrapy.core.engine] DEBUG: Crawled (200) <GET https://www.mckinsey.com/featured-insights/europe/ten-imperatives-for-europe-in-the-age-of-ai-and-automation> (referer: None)\n",
      "2020-02-18 12:16:55 [scrapy.core.engine] DEBUG: Crawled (200) <GET https://www.mckinsey.com/business-functions/mckinsey-analytics/our-insights/ask-the-ai-experts-what-advice-would-you-give-to-executives-about-ai> (referer: None)\n",
      "2020-02-18 12:16:55 [urllib3.connectionpool] DEBUG: Starting new HTTPS connection (1): www.mckinsey.com:443\n"
     ]
    },
    {
     "name": "stdout",
     "output_type": "stream",
     "text": [
      "https://www.mckinsey.com/industries/public-sector/our-insights/the-ai-factor-in-talent-management-an-interview-with-catalytes-jacob-hsu-and-mike-rosenbaum\n"
     ]
    },
    {
     "name": "stderr",
     "output_type": "stream",
     "text": [
      "2020-02-18 12:16:56 [urllib3.connectionpool] DEBUG: https://www.mckinsey.com:443 \"GET /industries/public-sector/our-insights/the-ai-factor-in-talent-management-an-interview-with-catalytes-jacob-hsu-and-mike-rosenbaum HTTP/1.1\" 200 20898\n",
      "2020-02-18 12:16:56 [urllib3.connectionpool] DEBUG: Starting new HTTPS connection (1): www.mckinsey.com:443\n"
     ]
    },
    {
     "name": "stdout",
     "output_type": "stream",
     "text": [
      "https://www.mckinsey.com/business-functions/mckinsey-analytics/our-insights/ask-the-ai-experts-what-are-the-applications-of-ai\n"
     ]
    },
    {
     "name": "stderr",
     "output_type": "stream",
     "text": [
      "2020-02-18 12:16:57 [urllib3.connectionpool] DEBUG: https://www.mckinsey.com:443 \"GET /business-functions/mckinsey-analytics/our-insights/ask-the-ai-experts-what-are-the-applications-of-ai HTTP/1.1\" 200 16601\n",
      "2020-02-18 12:16:57 [scrapy.core.engine] DEBUG: Crawled (200) <GET https://www.mckinsey.com/about-us/new-at-mckinsey-blog/ai-for-social-good-ask-the-author-with-michael-chui> (referer: None)\n",
      "2020-02-18 12:16:57 [urllib3.connectionpool] DEBUG: Starting new HTTPS connection (1): www.mckinsey.com:443\n"
     ]
    },
    {
     "name": "stdout",
     "output_type": "stream",
     "text": [
      "https://www.mckinsey.com/featured-insights/europe/ten-imperatives-for-europe-in-the-age-of-ai-and-automation\n"
     ]
    },
    {
     "name": "stderr",
     "output_type": "stream",
     "text": [
      "2020-02-18 12:16:58 [urllib3.connectionpool] DEBUG: https://www.mckinsey.com:443 \"GET /featured-insights/europe/ten-imperatives-for-europe-in-the-age-of-ai-and-automation HTTP/1.1\" 200 26884\n",
      "2020-02-18 12:16:58 [urllib3.connectionpool] DEBUG: Starting new HTTPS connection (1): www.mckinsey.com:443\n"
     ]
    },
    {
     "name": "stdout",
     "output_type": "stream",
     "text": [
      "https://www.mckinsey.com/business-functions/mckinsey-analytics/our-insights/ask-the-ai-experts-what-advice-would-you-give-to-executives-about-ai\n"
     ]
    },
    {
     "name": "stderr",
     "output_type": "stream",
     "text": [
      "2020-02-18 12:16:58 [urllib3.connectionpool] DEBUG: https://www.mckinsey.com:443 \"GET /business-functions/mckinsey-analytics/our-insights/ask-the-ai-experts-what-advice-would-you-give-to-executives-about-ai HTTP/1.1\" 200 15995\n",
      "2020-02-18 12:16:58 [scrapy.core.engine] DEBUG: Crawled (200) <GET https://www.mckinsey.com/featured-insights/future-of-work/the-evolution-of-employment-and-skills-in-the-age-of-ai> (referer: None)\n",
      "2020-02-18 12:16:58 [urllib3.connectionpool] DEBUG: Starting new HTTPS connection (1): www.mckinsey.com:443\n"
     ]
    },
    {
     "name": "stdout",
     "output_type": "stream",
     "text": [
      "https://www.mckinsey.com/about-us/new-at-mckinsey-blog/ai-for-social-good-ask-the-author-with-michael-chui\n"
     ]
    },
    {
     "name": "stderr",
     "output_type": "stream",
     "text": [
      "2020-02-18 12:16:59 [urllib3.connectionpool] DEBUG: https://www.mckinsey.com:443 \"GET /about-us/new-at-mckinsey-blog/ai-for-social-good-ask-the-author-with-michael-chui HTTP/1.1\" 200 16694\n",
      "2020-02-18 12:16:59 [scrapy.core.scraper] ERROR: Spider error processing <GET https://www.mckinsey.com/about-us/new-at-mckinsey-blog/ai-for-social-good-ask-the-author-with-michael-chui> (referer: None)\n",
      "Traceback (most recent call last):\n",
      "  File \"D:\\ProgramData\\Anaconda3\\lib\\site-packages\\twisted\\internet\\defer.py\", line 654, in _runCallbacks\n",
      "    current.result = callback(current.result, *args, **kw)\n",
      "  File \"<ipython-input-122-8fc83100377c>\", line 37, in parse\n",
      "    content_type = re.findall(conttype_regex, page_script)[0]\n",
      "IndexError: list index out of range\n",
      "2020-02-18 12:16:59 [scrapy.core.engine] DEBUG: Crawled (200) <GET https://www.mckinsey.com/business-functions/mckinsey-analytics/our-insights/the-executives-ai-playbook> (referer: None)\n",
      "2020-02-18 12:16:59 [urllib3.connectionpool] DEBUG: Starting new HTTPS connection (1): www.mckinsey.com:443\n"
     ]
    },
    {
     "name": "stdout",
     "output_type": "stream",
     "text": [
      "https://www.mckinsey.com/featured-insights/future-of-work/the-evolution-of-employment-and-skills-in-the-age-of-ai\n"
     ]
    },
    {
     "name": "stderr",
     "output_type": "stream",
     "text": [
      "2020-02-18 12:17:00 [urllib3.connectionpool] DEBUG: https://www.mckinsey.com:443 \"GET /featured-insights/future-of-work/the-evolution-of-employment-and-skills-in-the-age-of-ai HTTP/1.1\" 200 18660\n",
      "2020-02-18 12:17:00 [urllib3.connectionpool] DEBUG: Starting new HTTPS connection (1): www.mckinsey.com:443\n"
     ]
    },
    {
     "name": "stdout",
     "output_type": "stream",
     "text": [
      "https://www.mckinsey.com/business-functions/mckinsey-analytics/our-insights/the-executives-ai-playbook\n"
     ]
    },
    {
     "name": "stderr",
     "output_type": "stream",
     "text": [
      "2020-02-18 12:17:01 [urllib3.connectionpool] DEBUG: https://www.mckinsey.com:443 \"GET /business-functions/mckinsey-analytics/our-insights/the-executives-ai-playbook HTTP/1.1\" 200 14267\n",
      "2020-02-18 12:17:01 [scrapy.core.engine] DEBUG: Crawled (200) <GET https://www.mckinsey.com/business-functions/organization/our-insights/getting-ready-for-the-future-of-work> (referer: None)\n",
      "2020-02-18 12:17:01 [scrapy.core.engine] DEBUG: Crawled (200) <GET https://www.mckinsey.com/our-people/julie-avrane-chopard> (referer: None)\n",
      "2020-02-18 12:17:01 [urllib3.connectionpool] DEBUG: Starting new HTTPS connection (1): www.mckinsey.com:443\n"
     ]
    },
    {
     "name": "stdout",
     "output_type": "stream",
     "text": [
      "https://www.mckinsey.com/business-functions/organization/our-insights/getting-ready-for-the-future-of-work\n"
     ]
    },
    {
     "name": "stderr",
     "output_type": "stream",
     "text": [
      "2020-02-18 12:17:01 [urllib3.connectionpool] DEBUG: https://www.mckinsey.com:443 \"GET /business-functions/organization/our-insights/getting-ready-for-the-future-of-work HTTP/1.1\" 200 20888\n",
      "2020-02-18 12:17:01 [scrapy.core.engine] DEBUG: Crawled (200) <GET https://www.mckinsey.com/business-functions/strategy-and-corporate-finance/our-insights/demystifying-ai-and-machine-learning-for-executives> (referer: None)\n",
      "2020-02-18 12:17:01 [urllib3.connectionpool] DEBUG: Starting new HTTPS connection (1): www.mckinsey.com:443\n"
     ]
    },
    {
     "name": "stdout",
     "output_type": "stream",
     "text": [
      "https://www.mckinsey.com/our-people/julie-avrane-chopard\n"
     ]
    },
    {
     "name": "stderr",
     "output_type": "stream",
     "text": [
      "2020-02-18 12:17:02 [urllib3.connectionpool] DEBUG: https://www.mckinsey.com:443 \"GET /our-people/julie-avrane-chopard HTTP/1.1\" 200 15115\n",
      "2020-02-18 12:17:03 [scrapy.core.engine] DEBUG: Crawled (200) <GET https://www.mckinsey.com/business-functions/risk/our-insights/controlling-machine-learning-algorithms-and-their-biases> (referer: None)\n",
      "2020-02-18 12:17:03 [scrapy.core.engine] DEBUG: Crawled (200) <GET https://www.mckinsey.com/our-people/alex-cosmas> (referer: None)\n",
      "2020-02-18 12:17:03 [scrapy.core.engine] DEBUG: Crawled (200) <GET https://www.mckinsey.com/featured-insights/china/digitizing-dairy-in-china> (referer: None)\n",
      "2020-02-18 12:17:03 [scrapy.core.engine] DEBUG: Crawled (200) <GET https://www.mckinsey.com/mgi/overview/in-the-news/the-coming-of-ai-spring> (referer: None)\n",
      "2020-02-18 12:17:03 [scrapy.core.engine] DEBUG: Crawled (200) <GET https://www.mckinsey.com/mgi/overview/the-new-world-of-work-podcast> (referer: None)\n",
      "2020-02-18 12:17:03 [scrapy.core.engine] DEBUG: Crawled (200) <GET https://www.mckinsey.com/business-functions/mckinsey-analytics/our-insights/analytics-comes-of-age> (referer: None)\n",
      "2020-02-18 12:17:03 [scrapy.core.engine] DEBUG: Crawled (200) <GET https://www.mckinsey.com/featured-insights/middle-east-and-africa/the-impact-of-ai-and-automation-on-the-future-of-work-in-saudi-arabia> (referer: None)\n",
      "2020-02-18 12:17:03 [urllib3.connectionpool] DEBUG: Starting new HTTPS connection (1): www.mckinsey.com:443\n"
     ]
    },
    {
     "name": "stdout",
     "output_type": "stream",
     "text": [
      "https://www.mckinsey.com/business-functions/strategy-and-corporate-finance/our-insights/demystifying-ai-and-machine-learning-for-executives\n"
     ]
    },
    {
     "name": "stderr",
     "output_type": "stream",
     "text": [
      "2020-02-18 12:17:03 [urllib3.connectionpool] DEBUG: https://www.mckinsey.com:443 \"GET /business-functions/strategy-and-corporate-finance/our-insights/demystifying-ai-and-machine-learning-for-executives HTTP/1.1\" 200 26170\n",
      "2020-02-18 12:17:04 [scrapy.core.engine] DEBUG: Crawled (200) <GET https://www.mckinsey.com/industries/financial-services/our-insights/cognitive-technologies-in-capital-markets> (referer: None)\n",
      "2020-02-18 12:17:04 [urllib3.connectionpool] DEBUG: Starting new HTTPS connection (1): www.mckinsey.com:443\n"
     ]
    },
    {
     "name": "stdout",
     "output_type": "stream",
     "text": [
      "https://www.mckinsey.com/business-functions/risk/our-insights/controlling-machine-learning-algorithms-and-their-biases\n"
     ]
    },
    {
     "name": "stderr",
     "output_type": "stream",
     "text": [
      "2020-02-18 12:17:04 [urllib3.connectionpool] DEBUG: https://www.mckinsey.com:443 \"GET /business-functions/risk/our-insights/controlling-machine-learning-algorithms-and-their-biases HTTP/1.1\" 200 23443\n",
      "2020-02-18 12:17:04 [urllib3.connectionpool] DEBUG: Starting new HTTPS connection (1): www.mckinsey.com:443\n"
     ]
    },
    {
     "name": "stdout",
     "output_type": "stream",
     "text": [
      "https://www.mckinsey.com/our-people/alex-cosmas\n"
     ]
    },
    {
     "name": "stderr",
     "output_type": "stream",
     "text": [
      "2020-02-18 12:17:05 [urllib3.connectionpool] DEBUG: https://www.mckinsey.com:443 \"GET /our-people/alex-cosmas HTTP/1.1\" 200 14475\n",
      "2020-02-18 12:17:05 [urllib3.connectionpool] DEBUG: Starting new HTTPS connection (1): www.mckinsey.com:443\n"
     ]
    },
    {
     "name": "stdout",
     "output_type": "stream",
     "text": [
      "https://www.mckinsey.com/featured-insights/china/digitizing-dairy-in-china\n"
     ]
    },
    {
     "name": "stderr",
     "output_type": "stream",
     "text": [
      "2020-02-18 12:17:05 [urllib3.connectionpool] DEBUG: https://www.mckinsey.com:443 \"GET /featured-insights/china/digitizing-dairy-in-china HTTP/1.1\" 200 20083\n",
      "2020-02-18 12:17:05 [urllib3.connectionpool] DEBUG: Starting new HTTPS connection (1): www.mckinsey.com:443\n"
     ]
    },
    {
     "name": "stdout",
     "output_type": "stream",
     "text": [
      "https://www.mckinsey.com/mgi/overview/in-the-news/the-coming-of-ai-spring\n"
     ]
    },
    {
     "name": "stderr",
     "output_type": "stream",
     "text": [
      "2020-02-18 12:17:06 [urllib3.connectionpool] DEBUG: https://www.mckinsey.com:443 \"GET /mgi/overview/in-the-news/the-coming-of-ai-spring HTTP/1.1\" 200 15576\n",
      "2020-02-18 12:17:06 [urllib3.connectionpool] DEBUG: Starting new HTTPS connection (1): www.mckinsey.com:443\n"
     ]
    },
    {
     "name": "stdout",
     "output_type": "stream",
     "text": [
      "https://www.mckinsey.com/mgi/overview/the-new-world-of-work-podcast\n"
     ]
    },
    {
     "name": "stderr",
     "output_type": "stream",
     "text": [
      "2020-02-18 12:17:07 [urllib3.connectionpool] DEBUG: https://www.mckinsey.com:443 \"GET /mgi/overview/the-new-world-of-work-podcast HTTP/1.1\" 200 15098\n",
      "2020-02-18 12:17:07 [scrapy.core.scraper] ERROR: Spider error processing <GET https://www.mckinsey.com/mgi/overview/the-new-world-of-work-podcast> (referer: None)\n",
      "Traceback (most recent call last):\n",
      "  File \"D:\\ProgramData\\Anaconda3\\lib\\site-packages\\twisted\\internet\\defer.py\", line 654, in _runCallbacks\n",
      "    current.result = callback(current.result, *args, **kw)\n",
      "  File \"<ipython-input-122-8fc83100377c>\", line 37, in parse\n",
      "    content_type = re.findall(conttype_regex, page_script)[0]\n",
      "IndexError: list index out of range\n",
      "2020-02-18 12:17:07 [urllib3.connectionpool] DEBUG: Starting new HTTPS connection (1): www.mckinsey.com:443\n"
     ]
    },
    {
     "name": "stdout",
     "output_type": "stream",
     "text": [
      "https://www.mckinsey.com/business-functions/mckinsey-analytics/our-insights/analytics-comes-of-age\n"
     ]
    },
    {
     "name": "stderr",
     "output_type": "stream",
     "text": [
      "2020-02-18 12:17:08 [urllib3.connectionpool] DEBUG: https://www.mckinsey.com:443 \"GET /business-functions/mckinsey-analytics/our-insights/analytics-comes-of-age HTTP/1.1\" 200 14029\n",
      "2020-02-18 12:17:08 [scrapy.core.scraper] ERROR: Spider error processing <GET https://www.mckinsey.com/business-functions/mckinsey-analytics/our-insights/analytics-comes-of-age> (referer: None)\n",
      "Traceback (most recent call last):\n",
      "  File \"D:\\ProgramData\\Anaconda3\\lib\\site-packages\\twisted\\internet\\defer.py\", line 654, in _runCallbacks\n",
      "    current.result = callback(current.result, *args, **kw)\n",
      "  File \"<ipython-input-122-8fc83100377c>\", line 41, in parse\n",
      "    page_date = re.findall(date_regex, page_script)[0]\n",
      "IndexError: list index out of range\n",
      "2020-02-18 12:17:08 [urllib3.connectionpool] DEBUG: Starting new HTTPS connection (1): www.mckinsey.com:443\n"
     ]
    },
    {
     "name": "stdout",
     "output_type": "stream",
     "text": [
      "https://www.mckinsey.com/featured-insights/middle-east-and-africa/the-impact-of-ai-and-automation-on-the-future-of-work-in-saudi-arabia\n"
     ]
    },
    {
     "name": "stderr",
     "output_type": "stream",
     "text": [
      "2020-02-18 12:17:09 [urllib3.connectionpool] DEBUG: https://www.mckinsey.com:443 \"GET /featured-insights/middle-east-and-africa/the-impact-of-ai-and-automation-on-the-future-of-work-in-saudi-arabia HTTP/1.1\" 200 14686\n",
      "2020-02-18 12:17:09 [scrapy.core.engine] DEBUG: Crawled (200) <GET https://www.mckinsey.com/featured-insights/future-of-work/the-digital-future-of-work-what-will-automation-change> (referer: None)\n",
      "2020-02-18 12:17:09 [scrapy.core.engine] DEBUG: Crawled (200) <GET https://www.mckinsey.com/industries/technology-media-and-telecommunications/our-insights/an-executives-guide-to-machine-learning> (referer: None)\n",
      "2020-02-18 12:17:09 [scrapy.core.engine] DEBUG: Crawled (200) <GET https://www.mckinsey.com/business-functions/mckinsey-digital/our-insights/why-digital-transformation-is-now-on-the-ceos-shoulders> (referer: None)\n",
      "2020-02-18 12:17:09 [scrapy.core.engine] DEBUG: Crawled (200) <GET https://www.mckinsey.com/our-people/david-bueno> (referer: None)\n",
      "2020-02-18 12:17:09 [scrapy.core.engine] DEBUG: Crawled (200) <GET https://www.mckinsey.com/industries/public-sector/our-insights/how-governments-can-harness-the-power-of-automation-at-scale> (referer: None)\n",
      "2020-02-18 12:17:09 [scrapy.core.engine] DEBUG: Crawled (200) <GET https://www.mckinsey.com/about-us/new-at-mckinsey-blog/four-trends-from-mobile-world-congress> (referer: None)\n",
      "2020-02-18 12:17:09 [scrapy.core.engine] DEBUG: Crawled (200) <GET https://www.mckinsey.com/our-people/martin-weis> (referer: None)\n",
      "2020-02-18 12:17:09 [urllib3.connectionpool] DEBUG: Starting new HTTPS connection (1): www.mckinsey.com:443\n"
     ]
    },
    {
     "name": "stdout",
     "output_type": "stream",
     "text": [
      "https://www.mckinsey.com/industries/financial-services/our-insights/cognitive-technologies-in-capital-markets\n"
     ]
    },
    {
     "name": "stderr",
     "output_type": "stream",
     "text": [
      "2020-02-18 12:17:09 [urllib3.connectionpool] DEBUG: https://www.mckinsey.com:443 \"GET /industries/financial-services/our-insights/cognitive-technologies-in-capital-markets HTTP/1.1\" 200 18110\n",
      "2020-02-18 12:17:09 [scrapy.extensions.logstats] INFO: Crawled 86 pages (at 86 pages/min), scraped 0 items (at 0 items/min)\n",
      "2020-02-18 12:17:10 [urllib3.connectionpool] DEBUG: Starting new HTTPS connection (1): www.mckinsey.com:443\n"
     ]
    },
    {
     "name": "stdout",
     "output_type": "stream",
     "text": [
      "https://www.mckinsey.com/featured-insights/future-of-work/the-digital-future-of-work-what-will-automation-change\n"
     ]
    },
    {
     "name": "stderr",
     "output_type": "stream",
     "text": [
      "2020-02-18 12:17:10 [urllib3.connectionpool] DEBUG: https://www.mckinsey.com:443 \"GET /featured-insights/future-of-work/the-digital-future-of-work-what-will-automation-change HTTP/1.1\" 200 19123\n",
      "2020-02-18 12:17:10 [urllib3.connectionpool] DEBUG: Starting new HTTPS connection (1): www.mckinsey.com:443\n"
     ]
    },
    {
     "name": "stdout",
     "output_type": "stream",
     "text": [
      "https://www.mckinsey.com/industries/technology-media-and-telecommunications/our-insights/an-executives-guide-to-machine-learning\n"
     ]
    },
    {
     "name": "stderr",
     "output_type": "stream",
     "text": [
      "2020-02-18 12:17:11 [urllib3.connectionpool] DEBUG: https://www.mckinsey.com:443 \"GET /industries/technology-media-and-telecommunications/our-insights/an-executives-guide-to-machine-learning HTTP/1.1\" 200 21694\n",
      "2020-02-18 12:17:11 [urllib3.connectionpool] DEBUG: Starting new HTTPS connection (1): www.mckinsey.com:443\n"
     ]
    },
    {
     "name": "stdout",
     "output_type": "stream",
     "text": [
      "https://www.mckinsey.com/business-functions/mckinsey-digital/our-insights/why-digital-transformation-is-now-on-the-ceos-shoulders\n"
     ]
    },
    {
     "name": "stderr",
     "output_type": "stream",
     "text": [
      "2020-02-18 12:17:12 [urllib3.connectionpool] DEBUG: https://www.mckinsey.com:443 \"GET /business-functions/mckinsey-digital/our-insights/why-digital-transformation-is-now-on-the-ceos-shoulders HTTP/1.1\" 200 21280\n",
      "2020-02-18 12:17:12 [urllib3.connectionpool] DEBUG: Starting new HTTPS connection (1): www.mckinsey.com:443\n"
     ]
    },
    {
     "name": "stdout",
     "output_type": "stream",
     "text": [
      "https://www.mckinsey.com/our-people/david-bueno\n"
     ]
    },
    {
     "name": "stderr",
     "output_type": "stream",
     "text": [
      "2020-02-18 12:17:13 [urllib3.connectionpool] DEBUG: https://www.mckinsey.com:443 \"GET /our-people/david-bueno HTTP/1.1\" 200 14287\n",
      "2020-02-18 12:17:13 [urllib3.connectionpool] DEBUG: Starting new HTTPS connection (1): www.mckinsey.com:443\n"
     ]
    },
    {
     "name": "stdout",
     "output_type": "stream",
     "text": [
      "https://www.mckinsey.com/industries/public-sector/our-insights/how-governments-can-harness-the-power-of-automation-at-scale\n"
     ]
    },
    {
     "name": "stderr",
     "output_type": "stream",
     "text": [
      "2020-02-18 12:17:13 [urllib3.connectionpool] DEBUG: https://www.mckinsey.com:443 \"GET /industries/public-sector/our-insights/how-governments-can-harness-the-power-of-automation-at-scale HTTP/1.1\" 200 19788\n",
      "2020-02-18 12:17:13 [urllib3.connectionpool] DEBUG: Starting new HTTPS connection (1): www.mckinsey.com:443\n"
     ]
    },
    {
     "name": "stdout",
     "output_type": "stream",
     "text": [
      "https://www.mckinsey.com/about-us/new-at-mckinsey-blog/four-trends-from-mobile-world-congress\n"
     ]
    },
    {
     "name": "stderr",
     "output_type": "stream",
     "text": [
      "2020-02-18 12:17:14 [urllib3.connectionpool] DEBUG: https://www.mckinsey.com:443 \"GET /about-us/new-at-mckinsey-blog/four-trends-from-mobile-world-congress HTTP/1.1\" 200 15457\n",
      "2020-02-18 12:17:14 [scrapy.core.scraper] ERROR: Spider error processing <GET https://www.mckinsey.com/about-us/new-at-mckinsey-blog/four-trends-from-mobile-world-congress> (referer: None)\n",
      "Traceback (most recent call last):\n",
      "  File \"D:\\ProgramData\\Anaconda3\\lib\\site-packages\\twisted\\internet\\defer.py\", line 654, in _runCallbacks\n",
      "    current.result = callback(current.result, *args, **kw)\n",
      "  File \"<ipython-input-122-8fc83100377c>\", line 37, in parse\n",
      "    content_type = re.findall(conttype_regex, page_script)[0]\n",
      "IndexError: list index out of range\n",
      "2020-02-18 12:17:14 [urllib3.connectionpool] DEBUG: Starting new HTTPS connection (1): www.mckinsey.com:443\n"
     ]
    },
    {
     "name": "stdout",
     "output_type": "stream",
     "text": [
      "https://www.mckinsey.com/our-people/martin-weis\n"
     ]
    },
    {
     "name": "stderr",
     "output_type": "stream",
     "text": [
      "2020-02-18 12:17:15 [urllib3.connectionpool] DEBUG: https://www.mckinsey.com:443 \"GET /our-people/martin-weis HTTP/1.1\" 200 15132\n",
      "2020-02-18 12:17:15 [scrapy.core.engine] DEBUG: Crawled (200) <GET https://www.mckinsey.com/our-people/zahy-abou-atme> (referer: None)\n",
      "2020-02-18 12:17:15 [scrapy.core.engine] DEBUG: Crawled (200) <GET https://www.mckinsey.com/business-functions/mckinsey-analytics/our-insights/rebooting-analytics-leadership-time-to-move-beyond-the-math> (referer: None)\n",
      "2020-02-18 12:17:15 [scrapy.core.engine] DEBUG: Crawled (200) <GET https://www.mckinsey.com/our-people/alex-sukharevsky> (referer: None)\n",
      "2020-02-18 12:17:15 [urllib3.connectionpool] DEBUG: Starting new HTTPS connection (1): www.mckinsey.com:443\n"
     ]
    },
    {
     "name": "stdout",
     "output_type": "stream",
     "text": [
      "https://www.mckinsey.com/our-people/zahy-abou-atme\n"
     ]
    },
    {
     "name": "stderr",
     "output_type": "stream",
     "text": [
      "2020-02-18 12:17:16 [urllib3.connectionpool] DEBUG: https://www.mckinsey.com:443 \"GET /our-people/zahy-abou-atme HTTP/1.1\" 200 14342\n",
      "2020-02-18 12:17:16 [scrapy.core.engine] DEBUG: Crawled (200) <GET https://www.mckinsey.com/industries/technology-media-and-telecommunications/our-insights/how-do-emerging-technologies-affect-the-creative-economy> (referer: None)\n",
      "2020-02-18 12:17:16 [urllib3.connectionpool] DEBUG: Starting new HTTPS connection (1): www.mckinsey.com:443\n"
     ]
    },
    {
     "name": "stdout",
     "output_type": "stream",
     "text": [
      "https://www.mckinsey.com/business-functions/mckinsey-analytics/our-insights/rebooting-analytics-leadership-time-to-move-beyond-the-math\n"
     ]
    },
    {
     "name": "stderr",
     "output_type": "stream",
     "text": [
      "2020-02-18 12:17:17 [urllib3.connectionpool] DEBUG: https://www.mckinsey.com:443 \"GET /business-functions/mckinsey-analytics/our-insights/rebooting-analytics-leadership-time-to-move-beyond-the-math HTTP/1.1\" 200 24625\n",
      "2020-02-18 12:17:17 [urllib3.connectionpool] DEBUG: Starting new HTTPS connection (1): www.mckinsey.com:443\n"
     ]
    },
    {
     "name": "stdout",
     "output_type": "stream",
     "text": [
      "https://www.mckinsey.com/our-people/alex-sukharevsky\n"
     ]
    },
    {
     "name": "stderr",
     "output_type": "stream",
     "text": [
      "2020-02-18 12:17:18 [urllib3.connectionpool] DEBUG: https://www.mckinsey.com:443 \"GET /our-people/alex-sukharevsky HTTP/1.1\" 200 14463\n",
      "2020-02-18 12:17:18 [scrapy.core.engine] DEBUG: Crawled (200) <GET https://www.mckinsey.com/featured-insights/future-of-work/how-can-business-leaders-policy-makers-and-individuals-prepare-today-for-the-jobs-of-tomorrow> (referer: None)\n",
      "2020-02-18 12:17:18 [scrapy.core.engine] DEBUG: Crawled (200) <GET https://www.mckinsey.com/business-functions/operations/our-insights/operations-blog/indias-demographic-dividend-depends-on-industry-40> (referer: None)\n",
      "2020-02-18 12:17:18 [scrapy.core.engine] DEBUG: Crawled (200) <GET https://www.mckinsey.com/featured-insights/future-of-work/what-is-the-future-of-work> (referer: None)\n",
      "2020-02-18 12:17:18 [scrapy.core.engine] DEBUG: Crawled (200) <GET https://www.mckinsey.com/our-people/federico-berruti> (referer: None)\n",
      "2020-02-18 12:17:18 [scrapy.core.engine] DEBUG: Crawled (200) <GET https://www.mckinsey.com/quarterly/the-magazine/2018-issue-1-mckinsey-quarterly> (referer: None)\n",
      "2020-02-18 12:17:18 [scrapy.core.engine] DEBUG: Crawled (200) <GET https://www.mckinsey.com/business-functions/mckinsey-digital/our-insights/digital-blog/reflections-on-technology-from-davos-2020> (referer: None)\n",
      "2020-02-18 12:17:18 [scrapy.core.engine] DEBUG: Crawled (200) <GET https://www.mckinsey.com/business-functions/mckinsey-digital/our-insights/digital-blog/how-to-maximize-the-returns-from-your-data> (referer: None)\n",
      "2020-02-18 12:17:18 [urllib3.connectionpool] DEBUG: Starting new HTTPS connection (1): www.mckinsey.com:443\n"
     ]
    },
    {
     "name": "stdout",
     "output_type": "stream",
     "text": [
      "https://www.mckinsey.com/industries/technology-media-and-telecommunications/our-insights/how-do-emerging-technologies-affect-the-creative-economy\n"
     ]
    },
    {
     "name": "stderr",
     "output_type": "stream",
     "text": [
      "2020-02-18 12:17:18 [urllib3.connectionpool] DEBUG: https://www.mckinsey.com:443 \"GET /industries/technology-media-and-telecommunications/our-insights/how-do-emerging-technologies-affect-the-creative-economy HTTP/1.1\" 200 21308\n",
      "2020-02-18 12:17:18 [urllib3.connectionpool] DEBUG: Starting new HTTPS connection (1): www.mckinsey.com:443\n"
     ]
    },
    {
     "name": "stdout",
     "output_type": "stream",
     "text": [
      "https://www.mckinsey.com/featured-insights/future-of-work/how-can-business-leaders-policy-makers-and-individuals-prepare-today-for-the-jobs-of-tomorrow\n"
     ]
    },
    {
     "name": "stderr",
     "output_type": "stream",
     "text": [
      "2020-02-18 12:17:19 [urllib3.connectionpool] DEBUG: https://www.mckinsey.com:443 \"GET /featured-insights/future-of-work/how-can-business-leaders-policy-makers-and-individuals-prepare-today-for-the-jobs-of-tomorrow HTTP/1.1\" 200 30018\n",
      "2020-02-18 12:17:19 [urllib3.connectionpool] DEBUG: Starting new HTTPS connection (1): www.mckinsey.com:443\n"
     ]
    },
    {
     "name": "stdout",
     "output_type": "stream",
     "text": [
      "https://www.mckinsey.com/business-functions/operations/our-insights/operations-blog/indias-demographic-dividend-depends-on-industry-40\n"
     ]
    },
    {
     "name": "stderr",
     "output_type": "stream",
     "text": [
      "2020-02-18 12:17:21 [urllib3.connectionpool] DEBUG: https://www.mckinsey.com:443 \"GET /business-functions/operations/our-insights/operations-blog/indias-demographic-dividend-depends-on-industry-40 HTTP/1.1\" 200 16525\n",
      "2020-02-18 12:17:21 [scrapy.core.scraper] ERROR: Spider error processing <GET https://www.mckinsey.com/business-functions/operations/our-insights/operations-blog/indias-demographic-dividend-depends-on-industry-40> (referer: None)\n",
      "Traceback (most recent call last):\n",
      "  File \"D:\\ProgramData\\Anaconda3\\lib\\site-packages\\twisted\\internet\\defer.py\", line 654, in _runCallbacks\n",
      "    current.result = callback(current.result, *args, **kw)\n",
      "  File \"<ipython-input-122-8fc83100377c>\", line 37, in parse\n",
      "    content_type = re.findall(conttype_regex, page_script)[0]\n",
      "IndexError: list index out of range\n",
      "2020-02-18 12:17:21 [urllib3.connectionpool] DEBUG: Starting new HTTPS connection (1): www.mckinsey.com:443\n"
     ]
    },
    {
     "name": "stdout",
     "output_type": "stream",
     "text": [
      "https://www.mckinsey.com/featured-insights/future-of-work/what-is-the-future-of-work\n"
     ]
    },
    {
     "name": "stderr",
     "output_type": "stream",
     "text": [
      "2020-02-18 12:17:22 [urllib3.connectionpool] DEBUG: https://www.mckinsey.com:443 \"GET /featured-insights/future-of-work/what-is-the-future-of-work HTTP/1.1\" 200 25376\n",
      "2020-02-18 12:17:22 [urllib3.connectionpool] DEBUG: Starting new HTTPS connection (1): www.mckinsey.com:443\n"
     ]
    },
    {
     "name": "stdout",
     "output_type": "stream",
     "text": [
      "https://www.mckinsey.com/our-people/federico-berruti\n"
     ]
    },
    {
     "name": "stderr",
     "output_type": "stream",
     "text": [
      "2020-02-18 12:17:23 [urllib3.connectionpool] DEBUG: https://www.mckinsey.com:443 \"GET /our-people/federico-berruti HTTP/1.1\" 200 14613\n",
      "2020-02-18 12:17:23 [urllib3.connectionpool] DEBUG: Starting new HTTPS connection (1): www.mckinsey.com:443\n"
     ]
    },
    {
     "name": "stdout",
     "output_type": "stream",
     "text": [
      "https://www.mckinsey.com/quarterly/the-magazine/2018-issue-1-mckinsey-quarterly\n"
     ]
    },
    {
     "name": "stderr",
     "output_type": "stream",
     "text": [
      "2020-02-18 12:17:24 [urllib3.connectionpool] DEBUG: https://www.mckinsey.com:443 \"GET /quarterly/the-magazine/2018-issue-1-mckinsey-quarterly HTTP/1.1\" 200 16279\n",
      "2020-02-18 12:17:24 [scrapy.core.scraper] ERROR: Spider error processing <GET https://www.mckinsey.com/quarterly/the-magazine/2018-issue-1-mckinsey-quarterly> (referer: None)\n",
      "Traceback (most recent call last):\n",
      "  File \"D:\\ProgramData\\Anaconda3\\lib\\site-packages\\twisted\\internet\\defer.py\", line 654, in _runCallbacks\n",
      "    current.result = callback(current.result, *args, **kw)\n",
      "  File \"<ipython-input-122-8fc83100377c>\", line 41, in parse\n",
      "    page_date = re.findall(date_regex, page_script)[0]\n",
      "IndexError: list index out of range\n",
      "2020-02-18 12:17:24 [urllib3.connectionpool] DEBUG: Starting new HTTPS connection (1): www.mckinsey.com:443\n"
     ]
    },
    {
     "name": "stdout",
     "output_type": "stream",
     "text": [
      "https://www.mckinsey.com/business-functions/mckinsey-digital/our-insights/digital-blog/reflections-on-technology-from-davos-2020\n"
     ]
    },
    {
     "name": "stderr",
     "output_type": "stream",
     "text": [
      "2020-02-18 12:17:26 [urllib3.connectionpool] DEBUG: https://www.mckinsey.com:443 \"GET /business-functions/mckinsey-digital/our-insights/digital-blog/reflections-on-technology-from-davos-2020 HTTP/1.1\" 200 15909\n",
      "2020-02-18 12:17:26 [scrapy.core.scraper] ERROR: Spider error processing <GET https://www.mckinsey.com/business-functions/mckinsey-digital/our-insights/digital-blog/reflections-on-technology-from-davos-2020> (referer: None)\n",
      "Traceback (most recent call last):\n",
      "  File \"D:\\ProgramData\\Anaconda3\\lib\\site-packages\\twisted\\internet\\defer.py\", line 654, in _runCallbacks\n",
      "    current.result = callback(current.result, *args, **kw)\n",
      "  File \"<ipython-input-122-8fc83100377c>\", line 37, in parse\n",
      "    content_type = re.findall(conttype_regex, page_script)[0]\n",
      "IndexError: list index out of range\n",
      "2020-02-18 12:17:26 [urllib3.connectionpool] DEBUG: Starting new HTTPS connection (1): www.mckinsey.com:443\n"
     ]
    },
    {
     "name": "stdout",
     "output_type": "stream",
     "text": [
      "https://www.mckinsey.com/business-functions/mckinsey-digital/our-insights/digital-blog/how-to-maximize-the-returns-from-your-data\n"
     ]
    },
    {
     "name": "stderr",
     "output_type": "stream",
     "text": [
      "2020-02-18 12:17:27 [urllib3.connectionpool] DEBUG: https://www.mckinsey.com:443 \"GET /business-functions/mckinsey-digital/our-insights/digital-blog/how-to-maximize-the-returns-from-your-data HTTP/1.1\" 200 15931\n",
      "2020-02-18 12:17:27 [scrapy.core.scraper] ERROR: Spider error processing <GET https://www.mckinsey.com/business-functions/mckinsey-digital/our-insights/digital-blog/how-to-maximize-the-returns-from-your-data> (referer: None)\n",
      "Traceback (most recent call last):\n",
      "  File \"D:\\ProgramData\\Anaconda3\\lib\\site-packages\\twisted\\internet\\defer.py\", line 654, in _runCallbacks\n",
      "    current.result = callback(current.result, *args, **kw)\n",
      "  File \"<ipython-input-122-8fc83100377c>\", line 37, in parse\n",
      "    content_type = re.findall(conttype_regex, page_script)[0]\n",
      "IndexError: list index out of range\n",
      "2020-02-18 12:17:27 [scrapy.core.engine] DEBUG: Crawled (200) <GET https://www.mckinsey.com/our-people/lari-hamalainen> (referer: None)\n",
      "2020-02-18 12:17:27 [scrapy.core.engine] DEBUG: Crawled (200) <GET https://www.mckinsey.com/business-functions/strategy-and-corporate-finance/our-insights/bots-algorithms-and-the-future-of-the-finance-function> (referer: None)\n",
      "2020-02-18 12:17:27 [scrapy.core.engine] DEBUG: Crawled (200) <GET https://www.mckinsey.com/industries/public-sector/our-insights/a-government-blueprint-to-adapt-the-ecosystem-to-the-future-of-work> (referer: None)\n",
      "2020-02-18 12:17:27 [scrapy.core.engine] DEBUG: Crawled (200) <GET https://www.mckinsey.com/mgi/overview/in-the-news/dont-squander-the-techno-revolution> (referer: None)\n",
      "2020-02-18 12:17:27 [scrapy.core.engine] DEBUG: Crawled (200) <GET https://www.mckinsey.com/our-people/matthias-kasser> (referer: None)\n",
      "2020-02-18 12:17:27 [scrapy.core.engine] DEBUG: Crawled (200) <GET https://www.mckinsey.com/featured-insights/digital-disruption/whats-now-and-next-in-analytics-ai-and-automation> (referer: None)\n",
      "2020-02-18 12:17:27 [scrapy.core.engine] DEBUG: Crawled (200) <GET https://www.mckinsey.com/featured-insights/the-next-normal/insurance-claims> (referer: None)\n",
      "2020-02-18 12:17:27 [scrapy.core.engine] DEBUG: Crawled (200) <GET https://www.mckinsey.com/industries/public-sector/our-insights/mckinsey-on-government-number-5> (referer: None)\n",
      "2020-02-18 12:17:27 [urllib3.connectionpool] DEBUG: Starting new HTTPS connection (1): www.mckinsey.com:443\n"
     ]
    },
    {
     "name": "stdout",
     "output_type": "stream",
     "text": [
      "https://www.mckinsey.com/our-people/lari-hamalainen\n"
     ]
    },
    {
     "name": "stderr",
     "output_type": "stream",
     "text": [
      "2020-02-18 12:17:28 [urllib3.connectionpool] DEBUG: https://www.mckinsey.com:443 \"GET /our-people/lari-hamalainen HTTP/1.1\" 200 15249\n",
      "2020-02-18 12:17:28 [scrapy.core.engine] DEBUG: Crawled (200) <GET https://www.mckinsey.com/business-functions/mckinsey-digital/our-insights/automation-at-scale-is-driving-transformative-change-across-insurance> (referer: None)\n",
      "2020-02-18 12:17:28 [scrapy.core.engine] DEBUG: Crawled (200) <GET https://www.mckinsey.com/featured-insights/future-of-work/jobs-lost-jobs-gained-what-the-future-of-work-will-mean-for-jobs-skills-and-wages> (referer: None)\n",
      "2020-02-18 12:17:28 [scrapy.core.engine] DEBUG: Crawled (200) <GET https://www.mckinsey.com/about-us/new-at-mckinsey-blog/analyze-this-data-scientists> (referer: None)\n",
      "2020-02-18 12:17:28 [scrapy.core.engine] DEBUG: Crawled (200) <GET https://www.mckinsey.de/publikationen/leading-in-a-disruptive-world/how-companies-are-reinventing-themselves> (referer: None)\n",
      "2020-02-18 12:17:28 [scrapy.core.engine] DEBUG: Crawled (200) <GET https://www.mckinsey.com/featured-insights/europe/a-future-that-works-the-impact-of-automation-in-denmark> (referer: None)\n",
      "2020-02-18 12:17:28 [scrapy.core.engine] DEBUG: Crawled (200) <GET https://www.mckinsey.com/industries/healthcare-systems-and-services/our-insights/natural-language-processing-in-healthcare> (referer: None)\n",
      "2020-02-18 12:17:28 [urllib3.connectionpool] DEBUG: Starting new HTTPS connection (1): www.mckinsey.com:443\n"
     ]
    },
    {
     "name": "stdout",
     "output_type": "stream",
     "text": [
      "https://www.mckinsey.com/business-functions/strategy-and-corporate-finance/our-insights/bots-algorithms-and-the-future-of-the-finance-function\n"
     ]
    },
    {
     "name": "stderr",
     "output_type": "stream",
     "text": [
      "2020-02-18 12:17:29 [urllib3.connectionpool] DEBUG: https://www.mckinsey.com:443 \"GET /business-functions/strategy-and-corporate-finance/our-insights/bots-algorithms-and-the-future-of-the-finance-function HTTP/1.1\" 200 20013\n",
      "2020-02-18 12:17:29 [urllib3.connectionpool] DEBUG: Starting new HTTPS connection (1): www.mckinsey.com:443\n"
     ]
    },
    {
     "name": "stdout",
     "output_type": "stream",
     "text": [
      "https://www.mckinsey.com/industries/public-sector/our-insights/a-government-blueprint-to-adapt-the-ecosystem-to-the-future-of-work\n"
     ]
    },
    {
     "name": "stderr",
     "output_type": "stream",
     "text": [
      "2020-02-18 12:17:30 [urllib3.connectionpool] DEBUG: https://www.mckinsey.com:443 \"GET /industries/public-sector/our-insights/a-government-blueprint-to-adapt-the-ecosystem-to-the-future-of-work HTTP/1.1\" 200 19399\n",
      "2020-02-18 12:17:30 [urllib3.connectionpool] DEBUG: Starting new HTTPS connection (1): www.mckinsey.com:443\n"
     ]
    },
    {
     "name": "stdout",
     "output_type": "stream",
     "text": [
      "https://www.mckinsey.com/mgi/overview/in-the-news/dont-squander-the-techno-revolution\n"
     ]
    },
    {
     "name": "stderr",
     "output_type": "stream",
     "text": [
      "2020-02-18 12:17:31 [urllib3.connectionpool] DEBUG: https://www.mckinsey.com:443 \"GET /mgi/overview/in-the-news/dont-squander-the-techno-revolution HTTP/1.1\" 200 15459\n",
      "2020-02-18 12:17:31 [urllib3.connectionpool] DEBUG: Starting new HTTPS connection (1): www.mckinsey.com:443\n"
     ]
    },
    {
     "name": "stdout",
     "output_type": "stream",
     "text": [
      "https://www.mckinsey.com/our-people/matthias-kasser\n"
     ]
    },
    {
     "name": "stderr",
     "output_type": "stream",
     "text": [
      "2020-02-18 12:17:31 [urllib3.connectionpool] DEBUG: https://www.mckinsey.com:443 \"GET /our-people/matthias-kasser HTTP/1.1\" 200 14723\n",
      "2020-02-18 12:17:31 [urllib3.connectionpool] DEBUG: Starting new HTTPS connection (1): www.mckinsey.com:443\n"
     ]
    },
    {
     "name": "stdout",
     "output_type": "stream",
     "text": [
      "https://www.mckinsey.com/featured-insights/digital-disruption/whats-now-and-next-in-analytics-ai-and-automation\n"
     ]
    },
    {
     "name": "stderr",
     "output_type": "stream",
     "text": [
      "2020-02-18 12:17:32 [urllib3.connectionpool] DEBUG: https://www.mckinsey.com:443 \"GET /featured-insights/digital-disruption/whats-now-and-next-in-analytics-ai-and-automation HTTP/1.1\" 200 28028\n",
      "2020-02-18 12:17:32 [scrapy.core.scraper] ERROR: Spider error processing <GET https://www.mckinsey.com/featured-insights/digital-disruption/whats-now-and-next-in-analytics-ai-and-automation> (referer: None)\n",
      "Traceback (most recent call last):\n",
      "  File \"D:\\ProgramData\\Anaconda3\\lib\\site-packages\\twisted\\internet\\defer.py\", line 654, in _runCallbacks\n",
      "    current.result = callback(current.result, *args, **kw)\n",
      "  File \"<ipython-input-122-8fc83100377c>\", line 41, in parse\n",
      "    page_date = re.findall(date_regex, page_script)[0]\n",
      "IndexError: list index out of range\n",
      "2020-02-18 12:17:32 [urllib3.connectionpool] DEBUG: Starting new HTTPS connection (1): www.mckinsey.com:443\n"
     ]
    },
    {
     "name": "stdout",
     "output_type": "stream",
     "text": [
      "https://www.mckinsey.com/featured-insights/the-next-normal/insurance-claims\n"
     ]
    },
    {
     "name": "stderr",
     "output_type": "stream",
     "text": [
      "2020-02-18 12:17:33 [urllib3.connectionpool] DEBUG: https://www.mckinsey.com:443 \"GET /featured-insights/the-next-normal/insurance-claims HTTP/1.1\" 200 17170\n",
      "2020-02-18 12:17:33 [scrapy.core.scraper] ERROR: Spider error processing <GET https://www.mckinsey.com/featured-insights/the-next-normal/insurance-claims> (referer: None)\n",
      "Traceback (most recent call last):\n",
      "  File \"D:\\ProgramData\\Anaconda3\\lib\\site-packages\\twisted\\internet\\defer.py\", line 654, in _runCallbacks\n",
      "    current.result = callback(current.result, *args, **kw)\n",
      "  File \"<ipython-input-122-8fc83100377c>\", line 41, in parse\n",
      "    page_date = re.findall(date_regex, page_script)[0]\n",
      "IndexError: list index out of range\n",
      "2020-02-18 12:17:33 [urllib3.connectionpool] DEBUG: Starting new HTTPS connection (1): www.mckinsey.com:443\n"
     ]
    },
    {
     "name": "stdout",
     "output_type": "stream",
     "text": [
      "https://www.mckinsey.com/industries/public-sector/our-insights/mckinsey-on-government-number-5\n"
     ]
    },
    {
     "name": "stderr",
     "output_type": "stream",
     "text": [
      "2020-02-18 12:17:33 [urllib3.connectionpool] DEBUG: https://www.mckinsey.com:443 \"GET /industries/public-sector/our-insights/mckinsey-on-government-number-5 HTTP/1.1\" 200 13834\n",
      "2020-02-18 12:17:33 [scrapy.core.scraper] ERROR: Spider error processing <GET https://www.mckinsey.com/industries/public-sector/our-insights/mckinsey-on-government-number-5> (referer: None)\n",
      "Traceback (most recent call last):\n",
      "  File \"D:\\ProgramData\\Anaconda3\\lib\\site-packages\\twisted\\internet\\defer.py\", line 654, in _runCallbacks\n",
      "    current.result = callback(current.result, *args, **kw)\n",
      "  File \"<ipython-input-122-8fc83100377c>\", line 41, in parse\n",
      "    page_date = re.findall(date_regex, page_script)[0]\n",
      "IndexError: list index out of range\n",
      "2020-02-18 12:17:33 [scrapy.core.engine] DEBUG: Crawled (200) <GET https://www.mckinsey.com/featured-insights/future-of-work/how-can-business-leaders-make-the-new-world-of-work-better-for-people> (referer: None)\n",
      "2020-02-18 12:17:33 [scrapy.core.engine] DEBUG: Crawled (200) <GET https://www.mckinsey.com/business-functions/operations/our-insights/operations-blog/ops-40-the-human-factor-recognizing-the-capability-challenge> (referer: None)\n",
      "2020-02-18 12:17:33 [scrapy.core.engine] DEBUG: Crawled (200) <GET https://www.mckinsey.com/industries/semiconductors/our-insights/mckinsey-on-semiconductors> (referer: None)\n",
      "2020-02-18 12:17:33 [urllib3.connectionpool] DEBUG: Starting new HTTPS connection (1): www.mckinsey.com:443\n"
     ]
    },
    {
     "name": "stdout",
     "output_type": "stream",
     "text": [
      "https://www.mckinsey.com/business-functions/mckinsey-digital/our-insights/automation-at-scale-is-driving-transformative-change-across-insurance\n"
     ]
    },
    {
     "name": "stderr",
     "output_type": "stream",
     "text": [
      "2020-02-18 12:17:34 [urllib3.connectionpool] DEBUG: https://www.mckinsey.com:443 \"GET /business-functions/mckinsey-digital/our-insights/automation-at-scale-is-driving-transformative-change-across-insurance HTTP/1.1\" 200 18293\n",
      "2020-02-18 12:17:34 [urllib3.connectionpool] DEBUG: Starting new HTTPS connection (1): www.mckinsey.com:443\n"
     ]
    },
    {
     "name": "stdout",
     "output_type": "stream",
     "text": [
      "https://www.mckinsey.com/featured-insights/future-of-work/jobs-lost-jobs-gained-what-the-future-of-work-will-mean-for-jobs-skills-and-wages\n"
     ]
    },
    {
     "name": "stderr",
     "output_type": "stream",
     "text": [
      "2020-02-18 12:17:35 [urllib3.connectionpool] DEBUG: https://www.mckinsey.com:443 \"GET /featured-insights/future-of-work/jobs-lost-jobs-gained-what-the-future-of-work-will-mean-for-jobs-skills-and-wages HTTP/1.1\" 200 27341\n",
      "2020-02-18 12:17:35 [urllib3.connectionpool] DEBUG: Starting new HTTPS connection (1): www.mckinsey.com:443\n"
     ]
    },
    {
     "name": "stdout",
     "output_type": "stream",
     "text": [
      "https://www.mckinsey.com/about-us/new-at-mckinsey-blog/analyze-this-data-scientists\n"
     ]
    },
    {
     "name": "stderr",
     "output_type": "stream",
     "text": [
      "2020-02-18 12:17:35 [urllib3.connectionpool] DEBUG: https://www.mckinsey.com:443 \"GET /about-us/new-at-mckinsey-blog/analyze-this-data-scientists HTTP/1.1\" 200 13425\n",
      "2020-02-18 12:17:35 [scrapy.core.scraper] ERROR: Spider error processing <GET https://www.mckinsey.com/about-us/new-at-mckinsey-blog/analyze-this-data-scientists> (referer: None)\n",
      "Traceback (most recent call last):\n",
      "  File \"D:\\ProgramData\\Anaconda3\\lib\\site-packages\\twisted\\internet\\defer.py\", line 654, in _runCallbacks\n",
      "    current.result = callback(current.result, *args, **kw)\n",
      "  File \"<ipython-input-122-8fc83100377c>\", line 37, in parse\n",
      "    content_type = re.findall(conttype_regex, page_script)[0]\n",
      "IndexError: list index out of range\n",
      "2020-02-18 12:17:35 [urllib3.connectionpool] DEBUG: Starting new HTTPS connection (1): www.mckinsey.de:443\n"
     ]
    },
    {
     "name": "stdout",
     "output_type": "stream",
     "text": [
      "https://www.mckinsey.de/publikationen/leading-in-a-disruptive-world/how-companies-are-reinventing-themselves\n"
     ]
    },
    {
     "name": "stderr",
     "output_type": "stream",
     "text": [
      "2020-02-18 12:17:36 [urllib3.connectionpool] DEBUG: https://www.mckinsey.de:443 \"GET /publikationen/leading-in-a-disruptive-world/how-companies-are-reinventing-themselves HTTP/1.1\" 200 13989\n",
      "2020-02-18 12:17:36 [urllib3.connectionpool] DEBUG: Starting new HTTPS connection (1): www.mckinsey.com:443\n"
     ]
    },
    {
     "name": "stdout",
     "output_type": "stream",
     "text": [
      "https://www.mckinsey.com/featured-insights/europe/a-future-that-works-the-impact-of-automation-in-denmark\n"
     ]
    },
    {
     "name": "stderr",
     "output_type": "stream",
     "text": [
      "2020-02-18 12:17:37 [urllib3.connectionpool] DEBUG: https://www.mckinsey.com:443 \"GET /featured-insights/europe/a-future-that-works-the-impact-of-automation-in-denmark HTTP/1.1\" 200 14533\n",
      "2020-02-18 12:17:37 [urllib3.connectionpool] DEBUG: Starting new HTTPS connection (1): www.mckinsey.com:443\n"
     ]
    },
    {
     "name": "stdout",
     "output_type": "stream",
     "text": [
      "https://www.mckinsey.com/industries/healthcare-systems-and-services/our-insights/natural-language-processing-in-healthcare\n"
     ]
    },
    {
     "name": "stderr",
     "output_type": "stream",
     "text": [
      "2020-02-18 12:17:37 [urllib3.connectionpool] DEBUG: https://www.mckinsey.com:443 \"GET /industries/healthcare-systems-and-services/our-insights/natural-language-processing-in-healthcare HTTP/1.1\" 200 13551\n",
      "2020-02-18 12:17:37 [scrapy.core.engine] DEBUG: Crawled (200) <GET https://www.mckinsey.com/business-functions/operations/our-insights/the-future-of-manufacturing-podcast> (referer: None)\n",
      "2020-02-18 12:17:37 [scrapy.core.engine] DEBUG: Crawled (200) <GET https://www.mckinsey.com/about-us/new-at-mckinsey-blog/four-experts-show-how-ai-solves-real-world-problems> (referer: None)\n",
      "2020-02-18 12:17:37 [scrapy.core.engine] DEBUG: Crawled (200) <GET https://www.mckinsey.com/business-functions/mckinsey-analytics/our-insights/ask-the-ai-experts-what-will-take-ai-capabilities-to-the-next-level> (referer: None)\n",
      "2020-02-18 12:17:37 [scrapy.core.engine] DEBUG: Crawled (200) <GET https://www.mckinsey.com/business-functions/mckinsey-analytics/our-insights/ai-in-production-a-game-changer-for-manufacturers-with-heavy-assets> (referer: None)\n",
      "2020-02-18 12:17:37 [scrapy.core.engine] DEBUG: Crawled (200) <GET https://www.mckinsey.com/business-functions/mckinsey-digital/our-insights/driving-impact-at-scale-from-automation-and-ai> (referer: None)\n",
      "2020-02-18 12:17:37 [urllib3.connectionpool] DEBUG: Starting new HTTPS connection (1): www.mckinsey.com:443\n"
     ]
    },
    {
     "name": "stdout",
     "output_type": "stream",
     "text": [
      "https://www.mckinsey.com/featured-insights/future-of-work/how-can-business-leaders-make-the-new-world-of-work-better-for-people\n"
     ]
    },
    {
     "name": "stderr",
     "output_type": "stream",
     "text": [
      "2020-02-18 12:17:38 [urllib3.connectionpool] DEBUG: https://www.mckinsey.com:443 \"GET /featured-insights/future-of-work/how-can-business-leaders-make-the-new-world-of-work-better-for-people HTTP/1.1\" 200 27370\n",
      "2020-02-18 12:17:38 [urllib3.connectionpool] DEBUG: Starting new HTTPS connection (1): www.mckinsey.com:443\n"
     ]
    },
    {
     "name": "stdout",
     "output_type": "stream",
     "text": [
      "https://www.mckinsey.com/business-functions/operations/our-insights/operations-blog/ops-40-the-human-factor-recognizing-the-capability-challenge\n"
     ]
    },
    {
     "name": "stderr",
     "output_type": "stream",
     "text": [
      "2020-02-18 12:17:39 [urllib3.connectionpool] DEBUG: https://www.mckinsey.com:443 \"GET /business-functions/operations/our-insights/operations-blog/ops-40-the-human-factor-recognizing-the-capability-challenge HTTP/1.1\" 200 12963\n",
      "2020-02-18 12:17:39 [scrapy.core.scraper] ERROR: Spider error processing <GET https://www.mckinsey.com/business-functions/operations/our-insights/operations-blog/ops-40-the-human-factor-recognizing-the-capability-challenge> (referer: None)\n",
      "Traceback (most recent call last):\n",
      "  File \"D:\\ProgramData\\Anaconda3\\lib\\site-packages\\twisted\\internet\\defer.py\", line 654, in _runCallbacks\n",
      "    current.result = callback(current.result, *args, **kw)\n",
      "  File \"<ipython-input-122-8fc83100377c>\", line 37, in parse\n",
      "    content_type = re.findall(conttype_regex, page_script)[0]\n",
      "IndexError: list index out of range\n",
      "2020-02-18 12:17:39 [urllib3.connectionpool] DEBUG: Starting new HTTPS connection (1): www.mckinsey.com:443\n"
     ]
    },
    {
     "name": "stdout",
     "output_type": "stream",
     "text": [
      "https://www.mckinsey.com/industries/semiconductors/our-insights/mckinsey-on-semiconductors\n"
     ]
    },
    {
     "name": "stderr",
     "output_type": "stream",
     "text": [
      "2020-02-18 12:17:40 [urllib3.connectionpool] DEBUG: https://www.mckinsey.com:443 \"GET /industries/semiconductors/our-insights/mckinsey-on-semiconductors HTTP/1.1\" 200 15241\n",
      "2020-02-18 12:17:40 [scrapy.core.scraper] ERROR: Spider error processing <GET https://www.mckinsey.com/industries/semiconductors/our-insights/mckinsey-on-semiconductors> (referer: None)\n",
      "Traceback (most recent call last):\n",
      "  File \"D:\\ProgramData\\Anaconda3\\lib\\site-packages\\twisted\\internet\\defer.py\", line 654, in _runCallbacks\n",
      "    current.result = callback(current.result, *args, **kw)\n",
      "  File \"<ipython-input-122-8fc83100377c>\", line 41, in parse\n",
      "    page_date = re.findall(date_regex, page_script)[0]\n",
      "IndexError: list index out of range\n",
      "2020-02-18 12:17:40 [scrapy.core.engine] DEBUG: Crawled (200) <GET https://www.mckinsey.com/business-functions/mckinsey-analytics/our-insights/competing-in-the-ai-economy-an-interview-with-mits-andrew-mcafee> (referer: None)\n",
      "2020-02-18 12:17:40 [scrapy.core.engine] DEBUG: Crawled (200) <GET https://www.mckinsey.com/business-functions/mckinsey-analytics/our-insights/ask-the-ai-experts-whats-driving-todays-progress-in-ai> (referer: None)\n",
      "2020-02-18 12:17:40 [scrapy.core.engine] DEBUG: Crawled (200) <GET https://www.mckinsey.com/industries/technology-media-and-telecommunications/our-insights/enterprise-software-an-industry-in-transformation> (referer: None)\n",
      "2020-02-18 12:17:40 [urllib3.connectionpool] DEBUG: Starting new HTTPS connection (1): www.mckinsey.com:443\n"
     ]
    },
    {
     "name": "stdout",
     "output_type": "stream",
     "text": [
      "https://www.mckinsey.com/business-functions/operations/our-insights/the-future-of-manufacturing-podcast\n"
     ]
    },
    {
     "name": "stderr",
     "output_type": "stream",
     "text": [
      "2020-02-18 12:17:41 [urllib3.connectionpool] DEBUG: https://www.mckinsey.com:443 \"GET /business-functions/operations/our-insights/the-future-of-manufacturing-podcast HTTP/1.1\" 200 13702\n",
      "2020-02-18 12:17:41 [urllib3.connectionpool] DEBUG: Starting new HTTPS connection (1): www.mckinsey.com:443\n"
     ]
    },
    {
     "name": "stdout",
     "output_type": "stream",
     "text": [
      "https://www.mckinsey.com/about-us/new-at-mckinsey-blog/four-experts-show-how-ai-solves-real-world-problems\n"
     ]
    },
    {
     "name": "stderr",
     "output_type": "stream",
     "text": [
      "2020-02-18 12:17:42 [urllib3.connectionpool] DEBUG: https://www.mckinsey.com:443 \"GET /about-us/new-at-mckinsey-blog/four-experts-show-how-ai-solves-real-world-problems HTTP/1.1\" 200 15958\n",
      "2020-02-18 12:17:42 [scrapy.core.scraper] ERROR: Spider error processing <GET https://www.mckinsey.com/about-us/new-at-mckinsey-blog/four-experts-show-how-ai-solves-real-world-problems> (referer: None)\n",
      "Traceback (most recent call last):\n",
      "  File \"D:\\ProgramData\\Anaconda3\\lib\\site-packages\\twisted\\internet\\defer.py\", line 654, in _runCallbacks\n",
      "    current.result = callback(current.result, *args, **kw)\n",
      "  File \"<ipython-input-122-8fc83100377c>\", line 37, in parse\n",
      "    content_type = re.findall(conttype_regex, page_script)[0]\n",
      "IndexError: list index out of range\n",
      "2020-02-18 12:17:42 [urllib3.connectionpool] DEBUG: Starting new HTTPS connection (1): www.mckinsey.com:443\n"
     ]
    },
    {
     "name": "stdout",
     "output_type": "stream",
     "text": [
      "https://www.mckinsey.com/business-functions/mckinsey-analytics/our-insights/ask-the-ai-experts-what-will-take-ai-capabilities-to-the-next-level\n"
     ]
    },
    {
     "name": "stderr",
     "output_type": "stream",
     "text": [
      "2020-02-18 12:17:42 [urllib3.connectionpool] DEBUG: https://www.mckinsey.com:443 \"GET /business-functions/mckinsey-analytics/our-insights/ask-the-ai-experts-what-will-take-ai-capabilities-to-the-next-level HTTP/1.1\" 200 16354\n",
      "2020-02-18 12:17:42 [urllib3.connectionpool] DEBUG: Starting new HTTPS connection (1): www.mckinsey.com:443\n"
     ]
    },
    {
     "name": "stdout",
     "output_type": "stream",
     "text": [
      "https://www.mckinsey.com/business-functions/mckinsey-analytics/our-insights/ai-in-production-a-game-changer-for-manufacturers-with-heavy-assets\n"
     ]
    },
    {
     "name": "stderr",
     "output_type": "stream",
     "text": [
      "2020-02-18 12:17:43 [urllib3.connectionpool] DEBUG: https://www.mckinsey.com:443 \"GET /business-functions/mckinsey-analytics/our-insights/ai-in-production-a-game-changer-for-manufacturers-with-heavy-assets HTTP/1.1\" 200 20058\n",
      "2020-02-18 12:17:43 [urllib3.connectionpool] DEBUG: Starting new HTTPS connection (1): www.mckinsey.com:443\n"
     ]
    },
    {
     "name": "stdout",
     "output_type": "stream",
     "text": [
      "https://www.mckinsey.com/business-functions/mckinsey-digital/our-insights/driving-impact-at-scale-from-automation-and-ai\n"
     ]
    },
    {
     "name": "stderr",
     "output_type": "stream",
     "text": [
      "2020-02-18 12:17:44 [urllib3.connectionpool] DEBUG: https://www.mckinsey.com:443 \"GET /business-functions/mckinsey-digital/our-insights/driving-impact-at-scale-from-automation-and-ai HTTP/1.1\" 200 14572\n",
      "2020-02-18 12:17:44 [scrapy.core.scraper] ERROR: Spider error processing <GET https://www.mckinsey.com/business-functions/mckinsey-digital/our-insights/driving-impact-at-scale-from-automation-and-ai> (referer: None)\n",
      "Traceback (most recent call last):\n",
      "  File \"D:\\ProgramData\\Anaconda3\\lib\\site-packages\\twisted\\internet\\defer.py\", line 654, in _runCallbacks\n",
      "    current.result = callback(current.result, *args, **kw)\n",
      "  File \"<ipython-input-122-8fc83100377c>\", line 41, in parse\n",
      "    page_date = re.findall(date_regex, page_script)[0]\n",
      "IndexError: list index out of range\n",
      "2020-02-18 12:17:44 [scrapy.core.engine] DEBUG: Crawled (200) <GET https://www.mckinsey.com/mgi/overview/in-the-news/why-ai-isnt-the-death-of-jobs> (referer: None)\n",
      "2020-02-18 12:17:44 [urllib3.connectionpool] DEBUG: Starting new HTTPS connection (1): www.mckinsey.com:443\n"
     ]
    },
    {
     "name": "stdout",
     "output_type": "stream",
     "text": [
      "https://www.mckinsey.com/business-functions/mckinsey-analytics/our-insights/competing-in-the-ai-economy-an-interview-with-mits-andrew-mcafee\n"
     ]
    },
    {
     "name": "stderr",
     "output_type": "stream",
     "text": [
      "2020-02-18 12:17:44 [urllib3.connectionpool] DEBUG: https://www.mckinsey.com:443 \"GET /business-functions/mckinsey-analytics/our-insights/competing-in-the-ai-economy-an-interview-with-mits-andrew-mcafee HTTP/1.1\" 200 17256\n",
      "2020-02-18 12:17:44 [urllib3.connectionpool] DEBUG: Starting new HTTPS connection (1): www.mckinsey.com:443\n"
     ]
    },
    {
     "name": "stdout",
     "output_type": "stream",
     "text": [
      "https://www.mckinsey.com/business-functions/mckinsey-analytics/our-insights/ask-the-ai-experts-whats-driving-todays-progress-in-ai\n"
     ]
    },
    {
     "name": "stderr",
     "output_type": "stream",
     "text": [
      "2020-02-18 12:17:45 [urllib3.connectionpool] DEBUG: https://www.mckinsey.com:443 \"GET /business-functions/mckinsey-analytics/our-insights/ask-the-ai-experts-whats-driving-todays-progress-in-ai HTTP/1.1\" 200 16758\n",
      "2020-02-18 12:17:45 [urllib3.connectionpool] DEBUG: Starting new HTTPS connection (1): www.mckinsey.com:443\n"
     ]
    },
    {
     "name": "stdout",
     "output_type": "stream",
     "text": [
      "https://www.mckinsey.com/industries/technology-media-and-telecommunications/our-insights/enterprise-software-an-industry-in-transformation\n"
     ]
    },
    {
     "name": "stderr",
     "output_type": "stream",
     "text": [
      "2020-02-18 12:17:45 [urllib3.connectionpool] DEBUG: https://www.mckinsey.com:443 \"GET /industries/technology-media-and-telecommunications/our-insights/enterprise-software-an-industry-in-transformation HTTP/1.1\" 200 11458\n",
      "2020-02-18 12:17:45 [scrapy.core.scraper] ERROR: Spider error processing <GET https://www.mckinsey.com/industries/technology-media-and-telecommunications/our-insights/enterprise-software-an-industry-in-transformation> (referer: None)\n",
      "Traceback (most recent call last):\n",
      "  File \"D:\\ProgramData\\Anaconda3\\lib\\site-packages\\twisted\\internet\\defer.py\", line 654, in _runCallbacks\n",
      "    current.result = callback(current.result, *args, **kw)\n",
      "  File \"<ipython-input-122-8fc83100377c>\", line 41, in parse\n",
      "    page_date = re.findall(date_regex, page_script)[0]\n",
      "IndexError: list index out of range\n",
      "2020-02-18 12:17:45 [scrapy.core.engine] DEBUG: Crawled (200) <GET https://www.mckinsey.com/mgi/overview/in-the-news/ai-for-human-development> (referer: None)\n",
      "2020-02-18 12:17:45 [urllib3.connectionpool] DEBUG: Starting new HTTPS connection (1): www.mckinsey.com:443\n"
     ]
    },
    {
     "name": "stdout",
     "output_type": "stream",
     "text": [
      "https://www.mckinsey.com/mgi/overview/in-the-news/why-ai-isnt-the-death-of-jobs\n"
     ]
    },
    {
     "name": "stderr",
     "output_type": "stream",
     "text": [
      "2020-02-18 12:17:46 [urllib3.connectionpool] DEBUG: https://www.mckinsey.com:443 \"GET /mgi/overview/in-the-news/why-ai-isnt-the-death-of-jobs HTTP/1.1\" 200 13658\n",
      "2020-02-18 12:17:46 [urllib3.connectionpool] DEBUG: Starting new HTTPS connection (1): www.mckinsey.com:443\n"
     ]
    },
    {
     "name": "stdout",
     "output_type": "stream",
     "text": [
      "https://www.mckinsey.com/mgi/overview/in-the-news/ai-for-human-development\n"
     ]
    },
    {
     "name": "stderr",
     "output_type": "stream",
     "text": [
      "2020-02-18 12:17:47 [urllib3.connectionpool] DEBUG: https://www.mckinsey.com:443 \"GET /mgi/overview/in-the-news/ai-for-human-development HTTP/1.1\" 200 15883\n",
      "2020-02-18 12:17:47 [scrapy.core.engine] DEBUG: Crawled (200) <GET https://www.mckinsey.com/mgi/overview/in-the-news/the-promise-and-pitfalls-of-ai> (referer: None)\n",
      "2020-02-18 12:17:47 [scrapy.core.engine] DEBUG: Crawled (200) <GET https://www.mckinsey.com/mgi/overview/in-the-news/how-to-develop-enough-european-ai-startups> (referer: None)\n",
      "2020-02-18 12:17:47 [urllib3.connectionpool] DEBUG: Starting new HTTPS connection (1): www.mckinsey.com:443\n"
     ]
    },
    {
     "name": "stdout",
     "output_type": "stream",
     "text": [
      "https://www.mckinsey.com/mgi/overview/in-the-news/the-promise-and-pitfalls-of-ai\n"
     ]
    },
    {
     "name": "stderr",
     "output_type": "stream",
     "text": [
      "2020-02-18 12:17:48 [urllib3.connectionpool] DEBUG: https://www.mckinsey.com:443 \"GET /mgi/overview/in-the-news/the-promise-and-pitfalls-of-ai HTTP/1.1\" 200 15332\n",
      "2020-02-18 12:17:48 [scrapy.core.engine] DEBUG: Crawled (200) <GET https://www.mckinsey.com/industries/pharmaceuticals-and-medical-products/how-we-help-clients/medtech> (referer: None)\n",
      "2020-02-18 12:17:48 [scrapy.core.engine] DEBUG: Crawled (200) <GET https://www.mckinsey.com/mgi/overview/in-the-news/technology-convergence-and-ai-divides> (referer: None)\n",
      "2020-02-18 12:17:48 [urllib3.connectionpool] DEBUG: Starting new HTTPS connection (1): www.mckinsey.com:443\n"
     ]
    },
    {
     "name": "stdout",
     "output_type": "stream",
     "text": [
      "https://www.mckinsey.com/mgi/overview/in-the-news/how-to-develop-enough-european-ai-startups\n"
     ]
    },
    {
     "name": "stderr",
     "output_type": "stream",
     "text": [
      "2020-02-18 12:17:48 [urllib3.connectionpool] DEBUG: https://www.mckinsey.com:443 \"GET /mgi/overview/in-the-news/how-to-develop-enough-european-ai-startups HTTP/1.1\" 200 15956\n",
      "2020-02-18 12:17:48 [scrapy.core.engine] DEBUG: Crawled (200) <GET https://www.mckinsey.com/business-functions/mckinsey-digital/our-insights/building-smarter-cars> (referer: None)\n",
      "2020-02-18 12:17:48 [scrapy.core.engine] DEBUG: Crawled (200) <GET https://www.mckinsey.com/about-us/new-at-mckinsey-blog/quantumblack-opens-in-montreal-a-leading-center-of-ai> (referer: None)\n",
      "2020-02-18 12:17:48 [scrapy.core.engine] DEBUG: Crawled (200) <GET https://www.mckinsey.com/business-functions/mckinsey-analytics/our-insights/how-to-make-ai-work-for-your-business> (referer: None)\n",
      "2020-02-18 12:17:48 [scrapy.core.engine] DEBUG: Crawled (200) <GET https://www.mckinsey.com/business-functions/mckinsey-analytics/how-we-help-clients> (referer: None)\n",
      "2020-02-18 12:17:48 [scrapy.core.engine] DEBUG: Crawled (200) <GET https://www.mckinsey.com/industries/financial-services/our-insights/mapping-ai-techniques-to-problem-types> (referer: None)\n",
      "2020-02-18 12:17:48 [urllib3.connectionpool] DEBUG: Starting new HTTPS connection (1): www.mckinsey.com:443\n"
     ]
    },
    {
     "name": "stdout",
     "output_type": "stream",
     "text": [
      "https://www.mckinsey.com/industries/pharmaceuticals-and-medical-products/how-we-help-clients/medtech\n"
     ]
    },
    {
     "name": "stderr",
     "output_type": "stream",
     "text": [
      "2020-02-18 12:17:49 [urllib3.connectionpool] DEBUG: https://www.mckinsey.com:443 \"GET /industries/pharmaceuticals-and-medical-products/how-we-help-clients/medtech HTTP/1.1\" 200 13748\n",
      "2020-02-18 12:17:49 [scrapy.core.scraper] ERROR: Spider error processing <GET https://www.mckinsey.com/industries/pharmaceuticals-and-medical-products/how-we-help-clients/medtech> (referer: None)\n",
      "Traceback (most recent call last):\n",
      "  File \"D:\\ProgramData\\Anaconda3\\lib\\site-packages\\twisted\\internet\\defer.py\", line 654, in _runCallbacks\n",
      "    current.result = callback(current.result, *args, **kw)\n",
      "  File \"<ipython-input-122-8fc83100377c>\", line 37, in parse\n",
      "    content_type = re.findall(conttype_regex, page_script)[0]\n",
      "IndexError: list index out of range\n",
      "2020-02-18 12:17:49 [urllib3.connectionpool] DEBUG: Starting new HTTPS connection (1): www.mckinsey.com:443\n"
     ]
    },
    {
     "name": "stdout",
     "output_type": "stream",
     "text": [
      "https://www.mckinsey.com/mgi/overview/in-the-news/technology-convergence-and-ai-divides\n"
     ]
    },
    {
     "name": "stderr",
     "output_type": "stream",
     "text": [
      "2020-02-18 12:17:50 [urllib3.connectionpool] DEBUG: https://www.mckinsey.com:443 \"GET /mgi/overview/in-the-news/technology-convergence-and-ai-divides HTTP/1.1\" 200 17965\n",
      "2020-02-18 12:17:50 [scrapy.core.engine] DEBUG: Crawled (200) <GET https://www.mckinsey.com/kr/our-insights> (referer: None)\n",
      "2020-02-18 12:17:50 [scrapy.core.engine] DEBUG: Crawled (200) <GET https://www.mckinsey.com/business-functions/mckinsey-analytics/our-insights> (referer: None)\n",
      "2020-02-18 12:17:50 [urllib3.connectionpool] DEBUG: Starting new HTTPS connection (1): www.mckinsey.com:443\n"
     ]
    },
    {
     "name": "stdout",
     "output_type": "stream",
     "text": [
      "https://www.mckinsey.com/business-functions/mckinsey-digital/our-insights/building-smarter-cars\n"
     ]
    },
    {
     "name": "stderr",
     "output_type": "stream",
     "text": [
      "2020-02-18 12:17:50 [urllib3.connectionpool] DEBUG: https://www.mckinsey.com:443 \"GET /business-functions/mckinsey-digital/our-insights/building-smarter-cars HTTP/1.1\" 200 21252\n",
      "2020-02-18 12:17:50 [urllib3.connectionpool] DEBUG: Starting new HTTPS connection (1): www.mckinsey.com:443\n"
     ]
    },
    {
     "name": "stdout",
     "output_type": "stream",
     "text": [
      "https://www.mckinsey.com/about-us/new-at-mckinsey-blog/quantumblack-opens-in-montreal-a-leading-center-of-ai\n"
     ]
    },
    {
     "name": "stderr",
     "output_type": "stream",
     "text": [
      "2020-02-18 12:17:51 [urllib3.connectionpool] DEBUG: https://www.mckinsey.com:443 \"GET /about-us/new-at-mckinsey-blog/quantumblack-opens-in-montreal-a-leading-center-of-ai HTTP/1.1\" 200 14006\n",
      "2020-02-18 12:17:51 [scrapy.core.scraper] ERROR: Spider error processing <GET https://www.mckinsey.com/about-us/new-at-mckinsey-blog/quantumblack-opens-in-montreal-a-leading-center-of-ai> (referer: None)\n",
      "Traceback (most recent call last):\n",
      "  File \"D:\\ProgramData\\Anaconda3\\lib\\site-packages\\twisted\\internet\\defer.py\", line 654, in _runCallbacks\n",
      "    current.result = callback(current.result, *args, **kw)\n",
      "  File \"<ipython-input-122-8fc83100377c>\", line 37, in parse\n",
      "    content_type = re.findall(conttype_regex, page_script)[0]\n",
      "IndexError: list index out of range\n",
      "2020-02-18 12:17:51 [urllib3.connectionpool] DEBUG: Starting new HTTPS connection (1): www.mckinsey.com:443\n"
     ]
    },
    {
     "name": "stdout",
     "output_type": "stream",
     "text": [
      "https://www.mckinsey.com/business-functions/mckinsey-analytics/our-insights/how-to-make-ai-work-for-your-business\n"
     ]
    },
    {
     "name": "stderr",
     "output_type": "stream",
     "text": [
      "2020-02-18 12:17:51 [urllib3.connectionpool] DEBUG: https://www.mckinsey.com:443 \"GET /business-functions/mckinsey-analytics/our-insights/how-to-make-ai-work-for-your-business HTTP/1.1\" 200 19356\n",
      "2020-02-18 12:17:51 [urllib3.connectionpool] DEBUG: Starting new HTTPS connection (1): www.mckinsey.com:443\n"
     ]
    },
    {
     "name": "stdout",
     "output_type": "stream",
     "text": [
      "https://www.mckinsey.com/business-functions/mckinsey-analytics/how-we-help-clients\n"
     ]
    },
    {
     "name": "stderr",
     "output_type": "stream",
     "text": [
      "2020-02-18 12:17:52 [urllib3.connectionpool] DEBUG: https://www.mckinsey.com:443 \"GET /business-functions/mckinsey-analytics/how-we-help-clients HTTP/1.1\" 200 19187\n",
      "2020-02-18 12:17:52 [scrapy.core.scraper] ERROR: Spider error processing <GET https://www.mckinsey.com/business-functions/mckinsey-analytics/how-we-help-clients> (referer: None)\n",
      "Traceback (most recent call last):\n",
      "  File \"D:\\ProgramData\\Anaconda3\\lib\\site-packages\\twisted\\internet\\defer.py\", line 654, in _runCallbacks\n",
      "    current.result = callback(current.result, *args, **kw)\n",
      "  File \"<ipython-input-122-8fc83100377c>\", line 37, in parse\n",
      "    content_type = re.findall(conttype_regex, page_script)[0]\n",
      "IndexError: list index out of range\n",
      "2020-02-18 12:17:52 [urllib3.connectionpool] DEBUG: Starting new HTTPS connection (1): www.mckinsey.com:443\n"
     ]
    },
    {
     "name": "stdout",
     "output_type": "stream",
     "text": [
      "https://www.mckinsey.com/industries/financial-services/our-insights/mapping-ai-techniques-to-problem-types\n"
     ]
    },
    {
     "name": "stderr",
     "output_type": "stream",
     "text": [
      "2020-02-18 12:17:53 [urllib3.connectionpool] DEBUG: https://www.mckinsey.com:443 \"GET /industries/financial-services/our-insights/mapping-ai-techniques-to-problem-types HTTP/1.1\" 200 20752\n",
      "2020-02-18 12:17:53 [scrapy.core.engine] DEBUG: Crawled (200) <GET https://www.mckinsey.com/industries/financial-services/our-insights/the-power-and-potential-of-ai-in-insurance-claims> (referer: None)\n",
      "2020-02-18 12:17:53 [scrapy.core.engine] DEBUG: Crawled (200) <GET https://www.mckinsey.com/dk> (referer: None)\n",
      "2020-02-18 12:17:53 [scrapy.core.engine] DEBUG: Crawled (200) <GET https://www.mckinsey.com/dk/our-insights> (referer: None)\n",
      "2020-02-18 12:17:53 [scrapy.core.engine] DEBUG: Crawled (200) <GET https://www.mckinsey.com/business-functions/mckinsey-analytics/our-insights/leading-your-organization-to-responsible-ai> (referer: None)\n",
      "2020-02-18 12:17:53 [scrapy.core.engine] DEBUG: Crawled (200) <GET https://www.mckinsey.com/industries/semiconductors/our-insights> (referer: None)\n",
      "2020-02-18 12:17:53 [scrapy.core.engine] DEBUG: Crawled (200) <GET https://www.mckinsey.com/featured-insights/europe/shaping-the-future-of-work-in-europes-nine-digital-front-runner-countries> (referer: None)\n",
      "2020-02-18 12:17:53 [urllib3.connectionpool] DEBUG: Starting new HTTPS connection (1): www.mckinsey.com:443\n"
     ]
    },
    {
     "name": "stdout",
     "output_type": "stream",
     "text": [
      "https://www.mckinsey.com/kr/our-insights\n"
     ]
    },
    {
     "name": "stderr",
     "output_type": "stream",
     "text": [
      "2020-02-18 12:17:54 [urllib3.connectionpool] DEBUG: https://www.mckinsey.com:443 \"GET /kr/our-insights HTTP/1.1\" 200 15110\n",
      "2020-02-18 12:17:54 [scrapy.core.scraper] ERROR: Spider error processing <GET https://www.mckinsey.com/kr/our-insights> (referer: None)\n",
      "Traceback (most recent call last):\n",
      "  File \"D:\\ProgramData\\Anaconda3\\lib\\site-packages\\twisted\\internet\\defer.py\", line 654, in _runCallbacks\n",
      "    current.result = callback(current.result, *args, **kw)\n",
      "  File \"<ipython-input-122-8fc83100377c>\", line 37, in parse\n",
      "    content_type = re.findall(conttype_regex, page_script)[0]\n",
      "IndexError: list index out of range\n",
      "2020-02-18 12:17:54 [urllib3.connectionpool] DEBUG: Starting new HTTPS connection (1): www.mckinsey.com:443\n"
     ]
    },
    {
     "name": "stdout",
     "output_type": "stream",
     "text": [
      "https://www.mckinsey.com/business-functions/mckinsey-analytics/our-insights\n"
     ]
    },
    {
     "name": "stderr",
     "output_type": "stream",
     "text": [
      "2020-02-18 12:17:55 [urllib3.connectionpool] DEBUG: https://www.mckinsey.com:443 \"GET /business-functions/mckinsey-analytics/our-insights HTTP/1.1\" 200 21352\n",
      "2020-02-18 12:17:55 [scrapy.core.scraper] ERROR: Spider error processing <GET https://www.mckinsey.com/business-functions/mckinsey-analytics/our-insights> (referer: None)\n",
      "Traceback (most recent call last):\n",
      "  File \"D:\\ProgramData\\Anaconda3\\lib\\site-packages\\twisted\\internet\\defer.py\", line 654, in _runCallbacks\n",
      "    current.result = callback(current.result, *args, **kw)\n",
      "  File \"<ipython-input-122-8fc83100377c>\", line 37, in parse\n",
      "    content_type = re.findall(conttype_regex, page_script)[0]\n",
      "IndexError: list index out of range\n",
      "2020-02-18 12:17:55 [scrapy.core.engine] DEBUG: Crawled (200) <GET https://www.mckinsey.com/business-functions/learning-programs-for-clients/overview/experience-studio/our-locations/toronto> (referer: None)\n",
      "2020-02-18 12:17:55 [scrapy.core.engine] DEBUG: Crawled (200) <GET https://www.mckinsey.com/sg/our-insights> (referer: None)\n",
      "2020-02-18 12:17:55 [urllib3.connectionpool] DEBUG: Starting new HTTPS connection (1): www.mckinsey.com:443\n"
     ]
    },
    {
     "name": "stdout",
     "output_type": "stream",
     "text": [
      "https://www.mckinsey.com/industries/financial-services/our-insights/the-power-and-potential-of-ai-in-insurance-claims\n"
     ]
    },
    {
     "name": "stderr",
     "output_type": "stream",
     "text": [
      "2020-02-18 12:17:56 [urllib3.connectionpool] DEBUG: https://www.mckinsey.com:443 \"GET /industries/financial-services/our-insights/the-power-and-potential-of-ai-in-insurance-claims HTTP/1.1\" 200 15403\n",
      "2020-02-18 12:17:56 [urllib3.connectionpool] DEBUG: Starting new HTTPS connection (1): www.mckinsey.com:443\n"
     ]
    },
    {
     "name": "stdout",
     "output_type": "stream",
     "text": [
      "https://www.mckinsey.com/dk\n"
     ]
    },
    {
     "name": "stderr",
     "output_type": "stream",
     "text": [
      "2020-02-18 12:17:57 [urllib3.connectionpool] DEBUG: https://www.mckinsey.com:443 \"GET /dk HTTP/1.1\" 200 18213\n",
      "2020-02-18 12:17:57 [scrapy.core.scraper] ERROR: Spider error processing <GET https://www.mckinsey.com/dk> (referer: None)\n",
      "Traceback (most recent call last):\n",
      "  File \"D:\\ProgramData\\Anaconda3\\lib\\site-packages\\twisted\\internet\\defer.py\", line 654, in _runCallbacks\n",
      "    current.result = callback(current.result, *args, **kw)\n",
      "  File \"<ipython-input-122-8fc83100377c>\", line 37, in parse\n",
      "    content_type = re.findall(conttype_regex, page_script)[0]\n",
      "IndexError: list index out of range\n",
      "2020-02-18 12:17:57 [urllib3.connectionpool] DEBUG: Starting new HTTPS connection (1): www.mckinsey.com:443\n"
     ]
    },
    {
     "name": "stdout",
     "output_type": "stream",
     "text": [
      "https://www.mckinsey.com/dk/our-insights\n"
     ]
    },
    {
     "name": "stderr",
     "output_type": "stream",
     "text": [
      "2020-02-18 12:17:58 [urllib3.connectionpool] DEBUG: https://www.mckinsey.com:443 \"GET /dk/our-insights HTTP/1.1\" 200 18169\n",
      "2020-02-18 12:17:58 [scrapy.core.scraper] ERROR: Spider error processing <GET https://www.mckinsey.com/dk/our-insights> (referer: None)\n",
      "Traceback (most recent call last):\n",
      "  File \"D:\\ProgramData\\Anaconda3\\lib\\site-packages\\twisted\\internet\\defer.py\", line 654, in _runCallbacks\n",
      "    current.result = callback(current.result, *args, **kw)\n",
      "  File \"<ipython-input-122-8fc83100377c>\", line 37, in parse\n",
      "    content_type = re.findall(conttype_regex, page_script)[0]\n",
      "IndexError: list index out of range\n",
      "2020-02-18 12:17:58 [urllib3.connectionpool] DEBUG: Starting new HTTPS connection (1): www.mckinsey.com:443\n"
     ]
    },
    {
     "name": "stdout",
     "output_type": "stream",
     "text": [
      "https://www.mckinsey.com/business-functions/mckinsey-analytics/our-insights/leading-your-organization-to-responsible-ai\n"
     ]
    },
    {
     "name": "stderr",
     "output_type": "stream",
     "text": [
      "2020-02-18 12:17:58 [urllib3.connectionpool] DEBUG: https://www.mckinsey.com:443 \"GET /business-functions/mckinsey-analytics/our-insights/leading-your-organization-to-responsible-ai HTTP/1.1\" 200 24531\n",
      "2020-02-18 12:17:59 [urllib3.connectionpool] DEBUG: Starting new HTTPS connection (1): www.mckinsey.com:443\n"
     ]
    },
    {
     "name": "stdout",
     "output_type": "stream",
     "text": [
      "https://www.mckinsey.com/industries/semiconductors/our-insights\n"
     ]
    },
    {
     "name": "stderr",
     "output_type": "stream",
     "text": [
      "2020-02-18 12:18:00 [urllib3.connectionpool] DEBUG: https://www.mckinsey.com:443 \"GET /industries/semiconductors/our-insights HTTP/1.1\" 200 16787\n",
      "2020-02-18 12:18:00 [scrapy.core.scraper] ERROR: Spider error processing <GET https://www.mckinsey.com/industries/semiconductors/our-insights> (referer: None)\n",
      "Traceback (most recent call last):\n",
      "  File \"D:\\ProgramData\\Anaconda3\\lib\\site-packages\\twisted\\internet\\defer.py\", line 654, in _runCallbacks\n",
      "    current.result = callback(current.result, *args, **kw)\n",
      "  File \"<ipython-input-122-8fc83100377c>\", line 37, in parse\n",
      "    content_type = re.findall(conttype_regex, page_script)[0]\n",
      "IndexError: list index out of range\n",
      "2020-02-18 12:18:00 [urllib3.connectionpool] DEBUG: Starting new HTTPS connection (1): www.mckinsey.com:443\n"
     ]
    },
    {
     "name": "stdout",
     "output_type": "stream",
     "text": [
      "https://www.mckinsey.com/featured-insights/europe/shaping-the-future-of-work-in-europes-nine-digital-front-runner-countries\n"
     ]
    },
    {
     "name": "stderr",
     "output_type": "stream",
     "text": [
      "2020-02-18 12:18:00 [urllib3.connectionpool] DEBUG: https://www.mckinsey.com:443 \"GET /featured-insights/europe/shaping-the-future-of-work-in-europes-nine-digital-front-runner-countries HTTP/1.1\" 200 16605\n",
      "2020-02-18 12:18:00 [scrapy.core.engine] DEBUG: Crawled (200) <GET https://www.mckinsey.com/industries/metals-and-mining/how-we-help-clients/inside-a-mining-companys-ai-transformation> (referer: None)\n",
      "2020-02-18 12:18:00 [scrapy.core.engine] DEBUG: Crawled (200) <GET https://www.mckinsey.com/alumni/news-and-insights/global-news/alumni-news/inspired-by-a-sense-of-purpose> (referer: None)\n",
      "2020-02-18 12:18:00 [urllib3.connectionpool] DEBUG: Starting new HTTPS connection (1): www.mckinsey.com:443\n"
     ]
    },
    {
     "name": "stdout",
     "output_type": "stream",
     "text": [
      "https://www.mckinsey.com/business-functions/learning-programs-for-clients/overview/experience-studio/our-locations/toronto\n"
     ]
    },
    {
     "name": "stderr",
     "output_type": "stream",
     "text": [
      "2020-02-18 12:18:01 [urllib3.connectionpool] DEBUG: https://www.mckinsey.com:443 \"GET /business-functions/learning-programs-for-clients/overview/experience-studio/our-locations/toronto HTTP/1.1\" 200 13430\n",
      "2020-02-18 12:18:01 [scrapy.core.scraper] ERROR: Spider error processing <GET https://www.mckinsey.com/business-functions/learning-programs-for-clients/overview/experience-studio/our-locations/toronto> (referer: None)\n",
      "Traceback (most recent call last):\n",
      "  File \"D:\\ProgramData\\Anaconda3\\lib\\site-packages\\twisted\\internet\\defer.py\", line 654, in _runCallbacks\n",
      "    current.result = callback(current.result, *args, **kw)\n",
      "  File \"<ipython-input-122-8fc83100377c>\", line 37, in parse\n",
      "    content_type = re.findall(conttype_regex, page_script)[0]\n",
      "IndexError: list index out of range\n",
      "2020-02-18 12:18:01 [urllib3.connectionpool] DEBUG: Starting new HTTPS connection (1): www.mckinsey.com:443\n"
     ]
    },
    {
     "name": "stdout",
     "output_type": "stream",
     "text": [
      "https://www.mckinsey.com/sg/our-insights\n"
     ]
    },
    {
     "name": "stderr",
     "output_type": "stream",
     "text": [
      "2020-02-18 12:18:02 [urllib3.connectionpool] DEBUG: https://www.mckinsey.com:443 \"GET /sg/our-insights HTTP/1.1\" 200 16115\n",
      "2020-02-18 12:18:02 [scrapy.core.scraper] ERROR: Spider error processing <GET https://www.mckinsey.com/sg/our-insights> (referer: None)\n",
      "Traceback (most recent call last):\n",
      "  File \"D:\\ProgramData\\Anaconda3\\lib\\site-packages\\twisted\\internet\\defer.py\", line 654, in _runCallbacks\n",
      "    current.result = callback(current.result, *args, **kw)\n",
      "  File \"<ipython-input-122-8fc83100377c>\", line 37, in parse\n",
      "    content_type = re.findall(conttype_regex, page_script)[0]\n",
      "IndexError: list index out of range\n",
      "2020-02-18 12:18:02 [urllib3.connectionpool] DEBUG: Starting new HTTPS connection (1): www.mckinsey.com:443\n"
     ]
    },
    {
     "name": "stdout",
     "output_type": "stream",
     "text": [
      "https://www.mckinsey.com/industries/metals-and-mining/how-we-help-clients/inside-a-mining-companys-ai-transformation\n"
     ]
    },
    {
     "name": "stderr",
     "output_type": "stream",
     "text": [
      "2020-02-18 12:18:02 [urllib3.connectionpool] DEBUG: https://www.mckinsey.com:443 \"GET /industries/metals-and-mining/how-we-help-clients/inside-a-mining-companys-ai-transformation HTTP/1.1\" 200 26473\n",
      "2020-02-18 12:18:02 [scrapy.core.scraper] ERROR: Spider error processing <GET https://www.mckinsey.com/industries/metals-and-mining/how-we-help-clients/inside-a-mining-companys-ai-transformation> (referer: None)\n",
      "Traceback (most recent call last):\n",
      "  File \"D:\\ProgramData\\Anaconda3\\lib\\site-packages\\twisted\\internet\\defer.py\", line 654, in _runCallbacks\n",
      "    current.result = callback(current.result, *args, **kw)\n",
      "  File \"<ipython-input-122-8fc83100377c>\", line 42, in parse\n",
      "    page_texttype = re.findall(texttype_regex, page_script)[0]\n",
      "IndexError: list index out of range\n",
      "2020-02-18 12:18:02 [urllib3.connectionpool] DEBUG: Starting new HTTPS connection (1): www.mckinsey.com:443\n"
     ]
    },
    {
     "name": "stdout",
     "output_type": "stream",
     "text": [
      "https://www.mckinsey.com/alumni/news-and-insights/global-news/alumni-news/inspired-by-a-sense-of-purpose\n"
     ]
    },
    {
     "name": "stderr",
     "output_type": "stream",
     "text": [
      "2020-02-18 12:18:03 [urllib3.connectionpool] DEBUG: https://www.mckinsey.com:443 \"GET /alumni/news-and-insights/global-news/alumni-news/inspired-by-a-sense-of-purpose HTTP/1.1\" 200 14404\n",
      "2020-02-18 12:18:03 [scrapy.core.scraper] ERROR: Spider error processing <GET https://www.mckinsey.com/alumni/news-and-insights/global-news/alumni-news/inspired-by-a-sense-of-purpose> (referer: None)\n",
      "Traceback (most recent call last):\n",
      "  File \"D:\\ProgramData\\Anaconda3\\lib\\site-packages\\twisted\\internet\\defer.py\", line 654, in _runCallbacks\n",
      "    current.result = callback(current.result, *args, **kw)\n",
      "  File \"<ipython-input-122-8fc83100377c>\", line 37, in parse\n",
      "    content_type = re.findall(conttype_regex, page_script)[0]\n",
      "IndexError: list index out of range\n",
      "2020-02-18 12:18:03 [scrapy.core.engine] DEBUG: Crawled (200) <GET https://www.mckinsey.com/my/our-insights> (referer: None)\n",
      "2020-02-18 12:18:03 [urllib3.connectionpool] DEBUG: Starting new HTTPS connection (1): www.mckinsey.com:443\n"
     ]
    },
    {
     "name": "stdout",
     "output_type": "stream",
     "text": [
      "https://www.mckinsey.com/my/our-insights\n"
     ]
    },
    {
     "name": "stderr",
     "output_type": "stream",
     "text": [
      "2020-02-18 12:18:03 [urllib3.connectionpool] DEBUG: https://www.mckinsey.com:443 \"GET /my/our-insights HTTP/1.1\" 200 16298\n",
      "2020-02-18 12:18:03 [scrapy.core.scraper] ERROR: Spider error processing <GET https://www.mckinsey.com/my/our-insights> (referer: None)\n",
      "Traceback (most recent call last):\n",
      "  File \"D:\\ProgramData\\Anaconda3\\lib\\site-packages\\twisted\\internet\\defer.py\", line 654, in _runCallbacks\n",
      "    current.result = callback(current.result, *args, **kw)\n",
      "  File \"<ipython-input-122-8fc83100377c>\", line 37, in parse\n",
      "    content_type = re.findall(conttype_regex, page_script)[0]\n",
      "IndexError: list index out of range\n",
      "2020-02-18 12:18:03 [scrapy.core.engine] DEBUG: Crawled (200) <GET https://www.mckinsey.com/ao/en/our-insights> (referer: None)\n",
      "2020-02-18 12:18:03 [urllib3.connectionpool] DEBUG: Starting new HTTPS connection (1): www.mckinsey.com:443\n"
     ]
    },
    {
     "name": "stdout",
     "output_type": "stream",
     "text": [
      "https://www.mckinsey.com/ao/en/our-insights\n"
     ]
    },
    {
     "name": "stderr",
     "output_type": "stream",
     "text": [
      "2020-02-18 12:18:05 [urllib3.connectionpool] DEBUG: https://www.mckinsey.com:443 \"GET /ao/en/our-insights HTTP/1.1\" 200 15698\n",
      "2020-02-18 12:18:05 [scrapy.core.scraper] ERROR: Spider error processing <GET https://www.mckinsey.com/ao/en/our-insights> (referer: None)\n",
      "Traceback (most recent call last):\n",
      "  File \"D:\\ProgramData\\Anaconda3\\lib\\site-packages\\twisted\\internet\\defer.py\", line 654, in _runCallbacks\n",
      "    current.result = callback(current.result, *args, **kw)\n",
      "  File \"<ipython-input-122-8fc83100377c>\", line 37, in parse\n",
      "    content_type = re.findall(conttype_regex, page_script)[0]\n",
      "IndexError: list index out of range\n",
      "2020-02-18 12:18:05 [scrapy.core.engine] DEBUG: Crawled (200) <GET https://www.mckinsey.com/industries/social-sector/our-insights> (referer: None)\n",
      "2020-02-18 12:18:05 [scrapy.core.engine] DEBUG: Crawled (200) <GET https://www.mckinsey.com/ng/our-insights> (referer: None)\n",
      "2020-02-18 12:18:05 [scrapy.core.engine] DEBUG: Crawled (200) <GET https://www.mckinsey.com/business-functions/mckinsey-digital/how-we-help-clients> (referer: None)\n",
      "2020-02-18 12:18:05 [scrapy.core.engine] DEBUG: Crawled (200) <GET https://www.mckinsey.com/my> (referer: None)\n",
      "2020-02-18 12:18:05 [scrapy.core.engine] DEBUG: Crawled (200) <GET https://www.mckinsey.com/our-people/dorian-gartner> (referer: None)\n",
      "2020-02-18 12:18:05 [scrapy.core.engine] DEBUG: Crawled (200) <GET https://www.mckinsey.com/mgi/overview/in-the-news/measuring-the-welfare-effects-of-ai-and-automation> (referer: None)\n",
      "2020-02-18 12:18:05 [scrapy.core.engine] DEBUG: Crawled (200) <GET https://www.mckinsey.de/publikationen/leading-in-a-disruptive-world> (referer: None)\n",
      "2020-02-18 12:18:05 [scrapy.core.engine] DEBUG: Crawled (200) <GET https://www.mckinsey.com/za/our-insights> (referer: None)\n",
      "2020-02-18 12:18:05 [scrapy.core.engine] DEBUG: Crawled (200) <GET https://www.mckinsey.com/ch/our-insights> (referer: None)\n",
      "2020-02-18 12:18:05 [urllib3.connectionpool] DEBUG: Starting new HTTPS connection (1): www.mckinsey.com:443\n"
     ]
    },
    {
     "name": "stdout",
     "output_type": "stream",
     "text": [
      "https://www.mckinsey.com/industries/social-sector/our-insights\n"
     ]
    },
    {
     "name": "stderr",
     "output_type": "stream",
     "text": [
      "2020-02-18 12:18:06 [urllib3.connectionpool] DEBUG: https://www.mckinsey.com:443 \"GET /industries/social-sector/our-insights HTTP/1.1\" 200 15989\n",
      "2020-02-18 12:18:06 [scrapy.core.scraper] ERROR: Spider error processing <GET https://www.mckinsey.com/industries/social-sector/our-insights> (referer: None)\n",
      "Traceback (most recent call last):\n",
      "  File \"D:\\ProgramData\\Anaconda3\\lib\\site-packages\\twisted\\internet\\defer.py\", line 654, in _runCallbacks\n",
      "    current.result = callback(current.result, *args, **kw)\n",
      "  File \"<ipython-input-122-8fc83100377c>\", line 37, in parse\n",
      "    content_type = re.findall(conttype_regex, page_script)[0]\n",
      "IndexError: list index out of range\n",
      "2020-02-18 12:18:06 [scrapy.core.engine] DEBUG: Crawled (200) <GET https://www.mckinsey.com/ca> (referer: None)\n",
      "2020-02-18 12:18:06 [scrapy.core.engine] DEBUG: Crawled (200) <GET https://www.mckinsey.com/industries/electric-power-and-natural-gas/our-insights> (referer: None)\n",
      "2020-02-18 12:18:06 [scrapy.core.engine] DEBUG: Crawled (200) <GET https://www.mckinsey.com/mgi/overview/in-the-news/five-management-strategies-for-getting-the-most-from-ai> (referer: None)\n",
      "2020-02-18 12:18:06 [urllib3.connectionpool] DEBUG: Starting new HTTPS connection (1): www.mckinsey.com:443\n"
     ]
    },
    {
     "name": "stdout",
     "output_type": "stream",
     "text": [
      "https://www.mckinsey.com/ng/our-insights\n"
     ]
    },
    {
     "name": "stderr",
     "output_type": "stream",
     "text": [
      "2020-02-18 12:18:07 [urllib3.connectionpool] DEBUG: https://www.mckinsey.com:443 \"GET /ng/our-insights HTTP/1.1\" 200 16346\n",
      "2020-02-18 12:18:07 [scrapy.core.scraper] ERROR: Spider error processing <GET https://www.mckinsey.com/ng/our-insights> (referer: None)\n",
      "Traceback (most recent call last):\n",
      "  File \"D:\\ProgramData\\Anaconda3\\lib\\site-packages\\twisted\\internet\\defer.py\", line 654, in _runCallbacks\n",
      "    current.result = callback(current.result, *args, **kw)\n",
      "  File \"<ipython-input-122-8fc83100377c>\", line 37, in parse\n",
      "    content_type = re.findall(conttype_regex, page_script)[0]\n",
      "IndexError: list index out of range\n",
      "2020-02-18 12:18:07 [urllib3.connectionpool] DEBUG: Starting new HTTPS connection (1): www.mckinsey.com:443\n"
     ]
    },
    {
     "name": "stdout",
     "output_type": "stream",
     "text": [
      "https://www.mckinsey.com/business-functions/mckinsey-digital/how-we-help-clients\n"
     ]
    },
    {
     "name": "stderr",
     "output_type": "stream",
     "text": [
      "2020-02-18 12:18:08 [urllib3.connectionpool] DEBUG: https://www.mckinsey.com:443 \"GET /business-functions/mckinsey-digital/how-we-help-clients HTTP/1.1\" 200 16541\n",
      "2020-02-18 12:18:08 [scrapy.core.scraper] ERROR: Spider error processing <GET https://www.mckinsey.com/business-functions/mckinsey-digital/how-we-help-clients> (referer: None)\n",
      "Traceback (most recent call last):\n",
      "  File \"D:\\ProgramData\\Anaconda3\\lib\\site-packages\\twisted\\internet\\defer.py\", line 654, in _runCallbacks\n",
      "    current.result = callback(current.result, *args, **kw)\n",
      "  File \"<ipython-input-122-8fc83100377c>\", line 37, in parse\n",
      "    content_type = re.findall(conttype_regex, page_script)[0]\n",
      "IndexError: list index out of range\n",
      "2020-02-18 12:18:08 [urllib3.connectionpool] DEBUG: Starting new HTTPS connection (1): www.mckinsey.com:443\n"
     ]
    },
    {
     "name": "stdout",
     "output_type": "stream",
     "text": [
      "https://www.mckinsey.com/my\n"
     ]
    },
    {
     "name": "stderr",
     "output_type": "stream",
     "text": [
      "2020-02-18 12:18:09 [urllib3.connectionpool] DEBUG: https://www.mckinsey.com:443 \"GET /my HTTP/1.1\" 200 18216\n",
      "2020-02-18 12:18:09 [scrapy.core.scraper] ERROR: Spider error processing <GET https://www.mckinsey.com/my> (referer: None)\n",
      "Traceback (most recent call last):\n",
      "  File \"D:\\ProgramData\\Anaconda3\\lib\\site-packages\\twisted\\internet\\defer.py\", line 654, in _runCallbacks\n",
      "    current.result = callback(current.result, *args, **kw)\n",
      "  File \"<ipython-input-122-8fc83100377c>\", line 37, in parse\n",
      "    content_type = re.findall(conttype_regex, page_script)[0]\n",
      "IndexError: list index out of range\n",
      "2020-02-18 12:18:09 [urllib3.connectionpool] DEBUG: Starting new HTTPS connection (1): www.mckinsey.com:443\n"
     ]
    },
    {
     "name": "stdout",
     "output_type": "stream",
     "text": [
      "https://www.mckinsey.com/our-people/dorian-gartner\n"
     ]
    },
    {
     "name": "stderr",
     "output_type": "stream",
     "text": [
      "2020-02-18 12:18:10 [urllib3.connectionpool] DEBUG: https://www.mckinsey.com:443 \"GET /our-people/dorian-gartner HTTP/1.1\" 200 13828\n",
      "2020-02-18 12:18:10 [urllib3.connectionpool] DEBUG: Starting new HTTPS connection (1): www.mckinsey.com:443\n"
     ]
    },
    {
     "name": "stdout",
     "output_type": "stream",
     "text": [
      "https://www.mckinsey.com/mgi/overview/in-the-news/measuring-the-welfare-effects-of-ai-and-automation\n"
     ]
    },
    {
     "name": "stderr",
     "output_type": "stream",
     "text": [
      "2020-02-18 12:18:10 [urllib3.connectionpool] DEBUG: https://www.mckinsey.com:443 \"GET /mgi/overview/in-the-news/measuring-the-welfare-effects-of-ai-and-automation HTTP/1.1\" 200 16263\n",
      "2020-02-18 12:18:10 [urllib3.connectionpool] DEBUG: Starting new HTTPS connection (1): www.mckinsey.de:443\n"
     ]
    },
    {
     "name": "stdout",
     "output_type": "stream",
     "text": [
      "https://www.mckinsey.de/publikationen/leading-in-a-disruptive-world\n"
     ]
    },
    {
     "name": "stderr",
     "output_type": "stream",
     "text": [
      "2020-02-18 12:18:11 [urllib3.connectionpool] DEBUG: https://www.mckinsey.de:443 \"GET /publikationen/leading-in-a-disruptive-world HTTP/1.1\" 200 14546\n",
      "2020-02-18 12:18:11 [scrapy.core.scraper] ERROR: Spider error processing <GET https://www.mckinsey.de/publikationen/leading-in-a-disruptive-world> (referer: None)\n",
      "Traceback (most recent call last):\n",
      "  File \"D:\\ProgramData\\Anaconda3\\lib\\site-packages\\twisted\\internet\\defer.py\", line 654, in _runCallbacks\n",
      "    current.result = callback(current.result, *args, **kw)\n",
      "  File \"<ipython-input-122-8fc83100377c>\", line 37, in parse\n",
      "    content_type = re.findall(conttype_regex, page_script)[0]\n",
      "IndexError: list index out of range\n",
      "2020-02-18 12:18:11 [urllib3.connectionpool] DEBUG: Starting new HTTPS connection (1): www.mckinsey.com:443\n"
     ]
    },
    {
     "name": "stdout",
     "output_type": "stream",
     "text": [
      "https://www.mckinsey.com/za/our-insights\n"
     ]
    },
    {
     "name": "stderr",
     "output_type": "stream",
     "text": [
      "2020-02-18 12:18:12 [urllib3.connectionpool] DEBUG: https://www.mckinsey.com:443 \"GET /za/our-insights HTTP/1.1\" 200 19352\n",
      "2020-02-18 12:18:12 [scrapy.core.scraper] ERROR: Spider error processing <GET https://www.mckinsey.com/za/our-insights> (referer: None)\n",
      "Traceback (most recent call last):\n",
      "  File \"D:\\ProgramData\\Anaconda3\\lib\\site-packages\\twisted\\internet\\defer.py\", line 654, in _runCallbacks\n",
      "    current.result = callback(current.result, *args, **kw)\n",
      "  File \"<ipython-input-122-8fc83100377c>\", line 37, in parse\n",
      "    content_type = re.findall(conttype_regex, page_script)[0]\n",
      "IndexError: list index out of range\n",
      "2020-02-18 12:18:12 [urllib3.connectionpool] DEBUG: Starting new HTTPS connection (1): www.mckinsey.com:443\n"
     ]
    },
    {
     "name": "stdout",
     "output_type": "stream",
     "text": [
      "https://www.mckinsey.com/ch/our-insights\n"
     ]
    },
    {
     "name": "stderr",
     "output_type": "stream",
     "text": [
      "2020-02-18 12:18:13 [urllib3.connectionpool] DEBUG: https://www.mckinsey.com:443 \"GET /ch/our-insights HTTP/1.1\" 200 18816\n",
      "2020-02-18 12:18:13 [scrapy.core.scraper] ERROR: Spider error processing <GET https://www.mckinsey.com/ch/our-insights> (referer: None)\n",
      "Traceback (most recent call last):\n",
      "  File \"D:\\ProgramData\\Anaconda3\\lib\\site-packages\\twisted\\internet\\defer.py\", line 654, in _runCallbacks\n",
      "    current.result = callback(current.result, *args, **kw)\n",
      "  File \"<ipython-input-122-8fc83100377c>\", line 37, in parse\n",
      "    content_type = re.findall(conttype_regex, page_script)[0]\n",
      "IndexError: list index out of range\n",
      "2020-02-18 12:18:13 [scrapy.core.engine] DEBUG: Crawled (200) <GET https://www.mckinsey.com/mgi/our-research/technology-and-innovation> (referer: None)\n",
      "2020-02-18 12:18:13 [scrapy.core.engine] DEBUG: Crawled (200) <GET https://www.mckinsey.com/ph/our-insights> (referer: None)\n",
      "2020-02-18 12:18:13 [scrapy.core.engine] DEBUG: Crawled (200) <GET https://www.mckinsey.com/west-coast> (referer: None)\n",
      "2020-02-18 12:18:13 [scrapy.core.engine] DEBUG: Crawled (200) <GET https://www.mckinsey.com/our-people/tim-fountaine> (referer: None)\n",
      "2020-02-18 12:18:13 [scrapy.core.engine] DEBUG: Crawled (200) <GET https://www.mckinsey.com/industries/pharmaceuticals-and-medical-products/how-we-help-clients/medtech/digital-and-advanced-analytics> (referer: None)\n",
      "2020-02-18 12:18:13 [urllib3.connectionpool] DEBUG: Starting new HTTPS connection (1): www.mckinsey.com:443\n"
     ]
    },
    {
     "name": "stdout",
     "output_type": "stream",
     "text": [
      "https://www.mckinsey.com/ca\n"
     ]
    },
    {
     "name": "stderr",
     "output_type": "stream",
     "text": [
      "2020-02-18 12:18:14 [urllib3.connectionpool] DEBUG: https://www.mckinsey.com:443 \"GET /ca HTTP/1.1\" 200 17680\n",
      "2020-02-18 12:18:14 [scrapy.core.scraper] ERROR: Spider error processing <GET https://www.mckinsey.com/ca> (referer: None)\n",
      "Traceback (most recent call last):\n",
      "  File \"D:\\ProgramData\\Anaconda3\\lib\\site-packages\\twisted\\internet\\defer.py\", line 654, in _runCallbacks\n",
      "    current.result = callback(current.result, *args, **kw)\n",
      "  File \"<ipython-input-122-8fc83100377c>\", line 37, in parse\n",
      "    content_type = re.findall(conttype_regex, page_script)[0]\n",
      "IndexError: list index out of range\n",
      "2020-02-18 12:18:14 [urllib3.connectionpool] DEBUG: Starting new HTTPS connection (1): www.mckinsey.com:443\n"
     ]
    },
    {
     "name": "stdout",
     "output_type": "stream",
     "text": [
      "https://www.mckinsey.com/industries/electric-power-and-natural-gas/our-insights\n"
     ]
    },
    {
     "name": "stderr",
     "output_type": "stream",
     "text": [
      "2020-02-18 12:18:15 [urllib3.connectionpool] DEBUG: https://www.mckinsey.com:443 \"GET /industries/electric-power-and-natural-gas/our-insights HTTP/1.1\" 200 17196\n",
      "2020-02-18 12:18:15 [scrapy.core.scraper] ERROR: Spider error processing <GET https://www.mckinsey.com/industries/electric-power-and-natural-gas/our-insights> (referer: None)\n",
      "Traceback (most recent call last):\n",
      "  File \"D:\\ProgramData\\Anaconda3\\lib\\site-packages\\twisted\\internet\\defer.py\", line 654, in _runCallbacks\n",
      "    current.result = callback(current.result, *args, **kw)\n",
      "  File \"<ipython-input-122-8fc83100377c>\", line 37, in parse\n",
      "    content_type = re.findall(conttype_regex, page_script)[0]\n",
      "IndexError: list index out of range\n",
      "2020-02-18 12:18:15 [urllib3.connectionpool] DEBUG: Starting new HTTPS connection (1): www.mckinsey.com:443\n"
     ]
    },
    {
     "name": "stdout",
     "output_type": "stream",
     "text": [
      "https://www.mckinsey.com/mgi/overview/in-the-news/five-management-strategies-for-getting-the-most-from-ai\n"
     ]
    },
    {
     "name": "stderr",
     "output_type": "stream",
     "text": [
      "2020-02-18 12:18:16 [urllib3.connectionpool] DEBUG: https://www.mckinsey.com:443 \"GET /mgi/overview/in-the-news/five-management-strategies-for-getting-the-most-from-ai HTTP/1.1\" 200 16301\n",
      "2020-02-18 12:18:16 [scrapy.extensions.logstats] INFO: Crawled 164 pages (at 78 pages/min), scraped 0 items (at 0 items/min)\n",
      "2020-02-18 12:18:16 [scrapy.core.engine] DEBUG: Crawled (200) <GET https://www.mckinsey.com/ro/careers> (referer: None)\n",
      "2020-02-18 12:18:16 [scrapy.core.engine] DEBUG: Crawled (200) <GET https://www.mckinsey.com/business-functions/mckinsey-analytics/careers/bhagya> (referer: None)\n",
      "2020-02-18 12:18:16 [scrapy.core.engine] DEBUG: Crawled (200) <GET https://www.mckinsey.com/industries/technology-media-and-telecommunications/our-insights/ai-in-storytelling> (referer: None)\n",
      "2020-02-18 12:18:16 [urllib3.connectionpool] DEBUG: Starting new HTTPS connection (1): www.mckinsey.com:443\n"
     ]
    },
    {
     "name": "stdout",
     "output_type": "stream",
     "text": [
      "https://www.mckinsey.com/mgi/our-research/technology-and-innovation\n"
     ]
    },
    {
     "name": "stderr",
     "output_type": "stream",
     "text": [
      "2020-02-18 12:18:17 [urllib3.connectionpool] DEBUG: https://www.mckinsey.com:443 \"GET /mgi/our-research/technology-and-innovation HTTP/1.1\" 200 15877\n",
      "2020-02-18 12:18:17 [scrapy.core.scraper] ERROR: Spider error processing <GET https://www.mckinsey.com/mgi/our-research/technology-and-innovation> (referer: None)\n",
      "Traceback (most recent call last):\n",
      "  File \"D:\\ProgramData\\Anaconda3\\lib\\site-packages\\twisted\\internet\\defer.py\", line 654, in _runCallbacks\n",
      "    current.result = callback(current.result, *args, **kw)\n",
      "  File \"<ipython-input-122-8fc83100377c>\", line 37, in parse\n",
      "    content_type = re.findall(conttype_regex, page_script)[0]\n",
      "IndexError: list index out of range\n",
      "2020-02-18 12:18:17 [urllib3.connectionpool] DEBUG: Starting new HTTPS connection (1): www.mckinsey.com:443\n"
     ]
    },
    {
     "name": "stdout",
     "output_type": "stream",
     "text": [
      "https://www.mckinsey.com/ph/our-insights\n"
     ]
    },
    {
     "name": "stderr",
     "output_type": "stream",
     "text": [
      "2020-02-18 12:18:18 [urllib3.connectionpool] DEBUG: https://www.mckinsey.com:443 \"GET /ph/our-insights HTTP/1.1\" 200 17795\n",
      "2020-02-18 12:18:18 [scrapy.core.scraper] ERROR: Spider error processing <GET https://www.mckinsey.com/ph/our-insights> (referer: None)\n",
      "Traceback (most recent call last):\n",
      "  File \"D:\\ProgramData\\Anaconda3\\lib\\site-packages\\twisted\\internet\\defer.py\", line 654, in _runCallbacks\n",
      "    current.result = callback(current.result, *args, **kw)\n",
      "  File \"<ipython-input-122-8fc83100377c>\", line 37, in parse\n",
      "    content_type = re.findall(conttype_regex, page_script)[0]\n",
      "IndexError: list index out of range\n",
      "2020-02-18 12:18:18 [urllib3.connectionpool] DEBUG: Starting new HTTPS connection (1): www.mckinsey.com:443\n"
     ]
    },
    {
     "name": "stdout",
     "output_type": "stream",
     "text": [
      "https://www.mckinsey.com/west-coast\n"
     ]
    },
    {
     "name": "stderr",
     "output_type": "stream",
     "text": [
      "2020-02-18 12:18:20 [urllib3.connectionpool] DEBUG: https://www.mckinsey.com:443 \"GET /west-coast HTTP/1.1\" 200 23701\n",
      "2020-02-18 12:18:20 [scrapy.core.scraper] ERROR: Spider error processing <GET https://www.mckinsey.com/west-coast> (referer: None)\n",
      "Traceback (most recent call last):\n",
      "  File \"D:\\ProgramData\\Anaconda3\\lib\\site-packages\\twisted\\internet\\defer.py\", line 654, in _runCallbacks\n",
      "    current.result = callback(current.result, *args, **kw)\n",
      "  File \"<ipython-input-122-8fc83100377c>\", line 37, in parse\n",
      "    content_type = re.findall(conttype_regex, page_script)[0]\n",
      "IndexError: list index out of range\n",
      "2020-02-18 12:18:20 [urllib3.connectionpool] DEBUG: Starting new HTTPS connection (1): www.mckinsey.com:443\n"
     ]
    },
    {
     "name": "stdout",
     "output_type": "stream",
     "text": [
      "https://www.mckinsey.com/our-people/tim-fountaine\n"
     ]
    },
    {
     "name": "stderr",
     "output_type": "stream",
     "text": [
      "2020-02-18 12:18:22 [urllib3.connectionpool] DEBUG: https://www.mckinsey.com:443 \"GET /our-people/tim-fountaine HTTP/1.1\" 200 14809\n",
      "2020-02-18 12:18:22 [urllib3.connectionpool] DEBUG: Starting new HTTPS connection (1): www.mckinsey.com:443\n"
     ]
    },
    {
     "name": "stdout",
     "output_type": "stream",
     "text": [
      "https://www.mckinsey.com/industries/pharmaceuticals-and-medical-products/how-we-help-clients/medtech/digital-and-advanced-analytics\n"
     ]
    },
    {
     "name": "stderr",
     "output_type": "stream",
     "text": [
      "2020-02-18 12:18:23 [urllib3.connectionpool] DEBUG: https://www.mckinsey.com:443 \"GET /industries/pharmaceuticals-and-medical-products/how-we-help-clients/medtech/digital-and-advanced-analytics HTTP/1.1\" 200 18182\n",
      "2020-02-18 12:18:23 [scrapy.core.scraper] ERROR: Spider error processing <GET https://www.mckinsey.com/industries/pharmaceuticals-and-medical-products/how-we-help-clients/medtech/digital-and-advanced-analytics> (referer: None)\n",
      "Traceback (most recent call last):\n",
      "  File \"D:\\ProgramData\\Anaconda3\\lib\\site-packages\\twisted\\internet\\defer.py\", line 654, in _runCallbacks\n",
      "    current.result = callback(current.result, *args, **kw)\n",
      "  File \"<ipython-input-122-8fc83100377c>\", line 37, in parse\n",
      "    content_type = re.findall(conttype_regex, page_script)[0]\n",
      "IndexError: list index out of range\n",
      "2020-02-18 12:18:23 [scrapy.core.engine] DEBUG: Crawled (200) <GET https://www.mckinsey.com/featured-insights/future-of-work/beyond-the-industrial-revolution-education-model-sal-khan-on-training-and-skills-in-the-21st-century> (referer: None)\n",
      "2020-02-18 12:18:23 [scrapy.core.engine] DEBUG: Crawled (200) <GET https://www.mckinsey.com/our-people/edward-barriball> (referer: None)\n",
      "2020-02-18 12:18:23 [scrapy.core.engine] DEBUG: Crawled (200) <GET https://www.mckinsey.com/mgi/our-research/discussion-papers-and-briefings> (referer: None)\n",
      "2020-02-18 12:18:23 [scrapy.core.engine] DEBUG: Crawled (200) <GET https://www.mckinsey.com/about-us/new-at-mckinsey-blog/what-we-heard-at-mwc-barcelona-2019> (referer: None)\n",
      "2020-02-18 12:18:23 [scrapy.core.engine] DEBUG: Crawled (200) <GET https://www.mckinsey.com/our-people/andreas-tschiesner> (referer: None)\n",
      "2020-02-18 12:18:23 [urllib3.connectionpool] DEBUG: Starting new HTTPS connection (1): www.mckinsey.com:443\n"
     ]
    },
    {
     "name": "stdout",
     "output_type": "stream",
     "text": [
      "https://www.mckinsey.com/ro/careers\n"
     ]
    },
    {
     "name": "stderr",
     "output_type": "stream",
     "text": [
      "2020-02-18 12:18:23 [urllib3.connectionpool] DEBUG: https://www.mckinsey.com:443 \"GET /ro/careers HTTP/1.1\" 200 13552\n",
      "2020-02-18 12:18:23 [scrapy.core.scraper] ERROR: Spider error processing <GET https://www.mckinsey.com/ro/careers> (referer: None)\n",
      "Traceback (most recent call last):\n",
      "  File \"D:\\ProgramData\\Anaconda3\\lib\\site-packages\\twisted\\internet\\defer.py\", line 654, in _runCallbacks\n",
      "    current.result = callback(current.result, *args, **kw)\n",
      "  File \"<ipython-input-122-8fc83100377c>\", line 37, in parse\n",
      "    content_type = re.findall(conttype_regex, page_script)[0]\n",
      "IndexError: list index out of range\n",
      "2020-02-18 12:18:23 [urllib3.connectionpool] DEBUG: Starting new HTTPS connection (1): www.mckinsey.com:443\n"
     ]
    },
    {
     "name": "stdout",
     "output_type": "stream",
     "text": [
      "https://www.mckinsey.com/business-functions/mckinsey-analytics/careers/bhagya\n"
     ]
    },
    {
     "name": "stderr",
     "output_type": "stream",
     "text": [
      "2020-02-18 12:18:24 [urllib3.connectionpool] DEBUG: https://www.mckinsey.com:443 \"GET /business-functions/mckinsey-analytics/careers/bhagya HTTP/1.1\" 200 13243\n",
      "2020-02-18 12:18:24 [urllib3.connectionpool] DEBUG: Starting new HTTPS connection (1): www.mckinsey.com:443\n"
     ]
    },
    {
     "name": "stdout",
     "output_type": "stream",
     "text": [
      "https://www.mckinsey.com/industries/technology-media-and-telecommunications/our-insights/ai-in-storytelling\n"
     ]
    },
    {
     "name": "stderr",
     "output_type": "stream",
     "text": [
      "2020-02-18 12:18:24 [urllib3.connectionpool] DEBUG: https://www.mckinsey.com:443 \"GET /industries/technology-media-and-telecommunications/our-insights/ai-in-storytelling HTTP/1.1\" 200 21409\n",
      "2020-02-18 12:18:24 [scrapy.core.engine] DEBUG: Crawled (200) <GET https://www.mckinsey.com/industries/aerospace-and-defense/how-we-help-clients> (referer: None)\n",
      "2020-02-18 12:18:24 [scrapy.core.engine] DEBUG: Crawled (200) <GET https://www.mckinsey.com/au/our-insights> (referer: None)\n",
      "2020-02-18 12:18:24 [urllib3.connectionpool] DEBUG: Starting new HTTPS connection (1): www.mckinsey.com:443\n"
     ]
    },
    {
     "name": "stdout",
     "output_type": "stream",
     "text": [
      "https://www.mckinsey.com/featured-insights/future-of-work/beyond-the-industrial-revolution-education-model-sal-khan-on-training-and-skills-in-the-21st-century\n"
     ]
    },
    {
     "name": "stderr",
     "output_type": "stream",
     "text": [
      "2020-02-18 12:18:25 [urllib3.connectionpool] DEBUG: https://www.mckinsey.com:443 \"GET /featured-insights/future-of-work/beyond-the-industrial-revolution-education-model-sal-khan-on-training-and-skills-in-the-21st-century HTTP/1.1\" 200 19431\n",
      "2020-02-18 12:18:25 [urllib3.connectionpool] DEBUG: Starting new HTTPS connection (1): www.mckinsey.com:443\n"
     ]
    },
    {
     "name": "stdout",
     "output_type": "stream",
     "text": [
      "https://www.mckinsey.com/our-people/edward-barriball\n"
     ]
    },
    {
     "name": "stderr",
     "output_type": "stream",
     "text": [
      "2020-02-18 12:18:26 [urllib3.connectionpool] DEBUG: https://www.mckinsey.com:443 \"GET /our-people/edward-barriball HTTP/1.1\" 200 15511\n",
      "2020-02-18 12:18:26 [urllib3.connectionpool] DEBUG: Starting new HTTPS connection (1): www.mckinsey.com:443\n"
     ]
    },
    {
     "name": "stdout",
     "output_type": "stream",
     "text": [
      "https://www.mckinsey.com/mgi/our-research/discussion-papers-and-briefings\n"
     ]
    },
    {
     "name": "stderr",
     "output_type": "stream",
     "text": [
      "2020-02-18 12:18:29 [urllib3.connectionpool] DEBUG: https://www.mckinsey.com:443 \"GET /mgi/our-research/discussion-papers-and-briefings HTTP/1.1\" 200 17762\n",
      "2020-02-18 12:18:29 [scrapy.core.scraper] ERROR: Spider error processing <GET https://www.mckinsey.com/mgi/our-research/discussion-papers-and-briefings> (referer: None)\n",
      "Traceback (most recent call last):\n",
      "  File \"D:\\ProgramData\\Anaconda3\\lib\\site-packages\\twisted\\internet\\defer.py\", line 654, in _runCallbacks\n",
      "    current.result = callback(current.result, *args, **kw)\n",
      "  File \"<ipython-input-122-8fc83100377c>\", line 37, in parse\n",
      "    content_type = re.findall(conttype_regex, page_script)[0]\n",
      "IndexError: list index out of range\n",
      "2020-02-18 12:18:29 [urllib3.connectionpool] DEBUG: Starting new HTTPS connection (1): www.mckinsey.com:443\n"
     ]
    },
    {
     "name": "stdout",
     "output_type": "stream",
     "text": [
      "https://www.mckinsey.com/about-us/new-at-mckinsey-blog/what-we-heard-at-mwc-barcelona-2019\n"
     ]
    },
    {
     "name": "stderr",
     "output_type": "stream",
     "text": [
      "2020-02-18 12:18:30 [urllib3.connectionpool] DEBUG: https://www.mckinsey.com:443 \"GET /about-us/new-at-mckinsey-blog/what-we-heard-at-mwc-barcelona-2019 HTTP/1.1\" 200 15165\n",
      "2020-02-18 12:18:30 [scrapy.core.scraper] ERROR: Spider error processing <GET https://www.mckinsey.com/about-us/new-at-mckinsey-blog/what-we-heard-at-mwc-barcelona-2019> (referer: None)\n",
      "Traceback (most recent call last):\n",
      "  File \"D:\\ProgramData\\Anaconda3\\lib\\site-packages\\twisted\\internet\\defer.py\", line 654, in _runCallbacks\n",
      "    current.result = callback(current.result, *args, **kw)\n",
      "  File \"<ipython-input-122-8fc83100377c>\", line 37, in parse\n",
      "    content_type = re.findall(conttype_regex, page_script)[0]\n",
      "IndexError: list index out of range\n",
      "2020-02-18 12:18:30 [urllib3.connectionpool] DEBUG: Starting new HTTPS connection (1): www.mckinsey.com:443\n"
     ]
    },
    {
     "name": "stdout",
     "output_type": "stream",
     "text": [
      "https://www.mckinsey.com/our-people/andreas-tschiesner\n"
     ]
    },
    {
     "name": "stderr",
     "output_type": "stream",
     "text": [
      "2020-02-18 12:18:31 [urllib3.connectionpool] DEBUG: https://www.mckinsey.com:443 \"GET /our-people/andreas-tschiesner HTTP/1.1\" 200 15317\n",
      "2020-02-18 12:18:31 [scrapy.core.engine] DEBUG: Crawled (200) <GET https://www.mckinsey.com/cn/our-insights/videos-and-podcasts> (referer: None)\n",
      "2020-02-18 12:18:31 [urllib3.connectionpool] DEBUG: Starting new HTTPS connection (1): www.mckinsey.com:443\n"
     ]
    },
    {
     "name": "stdout",
     "output_type": "stream",
     "text": [
      "https://www.mckinsey.com/industries/aerospace-and-defense/how-we-help-clients\n"
     ]
    },
    {
     "name": "stderr",
     "output_type": "stream",
     "text": [
      "2020-02-18 12:18:32 [urllib3.connectionpool] DEBUG: https://www.mckinsey.com:443 \"GET /industries/aerospace-and-defense/how-we-help-clients HTTP/1.1\" 200 14372\n",
      "2020-02-18 12:18:32 [scrapy.core.scraper] ERROR: Spider error processing <GET https://www.mckinsey.com/industries/aerospace-and-defense/how-we-help-clients> (referer: None)\n",
      "Traceback (most recent call last):\n",
      "  File \"D:\\ProgramData\\Anaconda3\\lib\\site-packages\\twisted\\internet\\defer.py\", line 654, in _runCallbacks\n",
      "    current.result = callback(current.result, *args, **kw)\n",
      "  File \"<ipython-input-122-8fc83100377c>\", line 37, in parse\n",
      "    content_type = re.findall(conttype_regex, page_script)[0]\n",
      "IndexError: list index out of range\n",
      "2020-02-18 12:18:32 [urllib3.connectionpool] DEBUG: Starting new HTTPS connection (1): www.mckinsey.com:443\n"
     ]
    },
    {
     "name": "stdout",
     "output_type": "stream",
     "text": [
      "https://www.mckinsey.com/au/our-insights\n"
     ]
    },
    {
     "name": "stderr",
     "output_type": "stream",
     "text": [
      "2020-02-18 12:18:32 [urllib3.connectionpool] DEBUG: https://www.mckinsey.com:443 \"GET /au/our-insights HTTP/1.1\" 200 14336\n",
      "2020-02-18 12:18:32 [scrapy.core.scraper] ERROR: Spider error processing <GET https://www.mckinsey.com/au/our-insights> (referer: None)\n",
      "Traceback (most recent call last):\n",
      "  File \"D:\\ProgramData\\Anaconda3\\lib\\site-packages\\twisted\\internet\\defer.py\", line 654, in _runCallbacks\n",
      "    current.result = callback(current.result, *args, **kw)\n",
      "  File \"<ipython-input-122-8fc83100377c>\", line 37, in parse\n",
      "    content_type = re.findall(conttype_regex, page_script)[0]\n",
      "IndexError: list index out of range\n",
      "2020-02-18 12:18:32 [scrapy.core.engine] DEBUG: Crawled (200) <GET https://www.mckinsey.com/business-functions/mckinsey-digital/our-insights/advanced-analytics-in-hospitality> (referer: None)\n",
      "2020-02-18 12:18:32 [urllib3.connectionpool] DEBUG: Starting new HTTPS connection (1): www.mckinsey.com:443\n"
     ]
    },
    {
     "name": "stdout",
     "output_type": "stream",
     "text": [
      "https://www.mckinsey.com/cn/our-insights/videos-and-podcasts\n"
     ]
    },
    {
     "name": "stderr",
     "output_type": "stream",
     "text": [
      "2020-02-18 12:18:33 [urllib3.connectionpool] DEBUG: https://www.mckinsey.com:443 \"GET /cn/our-insights/videos-and-podcasts HTTP/1.1\" 200 14021\n",
      "2020-02-18 12:18:33 [scrapy.core.scraper] ERROR: Spider error processing <GET https://www.mckinsey.com/cn/our-insights/videos-and-podcasts> (referer: None)\n",
      "Traceback (most recent call last):\n",
      "  File \"D:\\ProgramData\\Anaconda3\\lib\\site-packages\\twisted\\internet\\defer.py\", line 654, in _runCallbacks\n",
      "    current.result = callback(current.result, *args, **kw)\n",
      "  File \"<ipython-input-122-8fc83100377c>\", line 37, in parse\n",
      "    content_type = re.findall(conttype_regex, page_script)[0]\n",
      "IndexError: list index out of range\n",
      "2020-02-18 12:18:33 [scrapy.core.engine] DEBUG: Crawled (200) <GET https://www.mckinsey.com/our-people/michael-chui> (referer: None)\n",
      "2020-02-18 12:18:33 [urllib3.connectionpool] DEBUG: Starting new HTTPS connection (1): www.mckinsey.com:443\n"
     ]
    },
    {
     "name": "stdout",
     "output_type": "stream",
     "text": [
      "https://www.mckinsey.com/business-functions/mckinsey-digital/our-insights/advanced-analytics-in-hospitality\n"
     ]
    },
    {
     "name": "stderr",
     "output_type": "stream",
     "text": [
      "2020-02-18 12:18:34 [urllib3.connectionpool] DEBUG: https://www.mckinsey.com:443 \"GET /business-functions/mckinsey-digital/our-insights/advanced-analytics-in-hospitality HTTP/1.1\" 200 20275\n",
      "2020-02-18 12:18:34 [scrapy.core.engine] DEBUG: Crawled (200) <GET https://www.mckinsey.com/se> (referer: None)\n",
      "2020-02-18 12:18:34 [urllib3.connectionpool] DEBUG: Starting new HTTPS connection (1): www.mckinsey.com:443\n"
     ]
    },
    {
     "name": "stdout",
     "output_type": "stream",
     "text": [
      "https://www.mckinsey.com/our-people/michael-chui\n"
     ]
    },
    {
     "name": "stderr",
     "output_type": "stream",
     "text": [
      "2020-02-18 12:18:35 [urllib3.connectionpool] DEBUG: https://www.mckinsey.com:443 \"GET /our-people/michael-chui HTTP/1.1\" 200 18227\n",
      "2020-02-18 12:18:35 [urllib3.connectionpool] DEBUG: Starting new HTTPS connection (1): www.mckinsey.com:443\n"
     ]
    },
    {
     "name": "stdout",
     "output_type": "stream",
     "text": [
      "https://www.mckinsey.com/se\n"
     ]
    },
    {
     "name": "stderr",
     "output_type": "stream",
     "text": [
      "2020-02-18 12:18:36 [urllib3.connectionpool] DEBUG: https://www.mckinsey.com:443 \"GET /se HTTP/1.1\" 200 15669\n",
      "2020-02-18 12:18:36 [scrapy.core.scraper] ERROR: Spider error processing <GET https://www.mckinsey.com/se> (referer: None)\n",
      "Traceback (most recent call last):\n",
      "  File \"D:\\ProgramData\\Anaconda3\\lib\\site-packages\\twisted\\internet\\defer.py\", line 654, in _runCallbacks\n",
      "    current.result = callback(current.result, *args, **kw)\n",
      "  File \"<ipython-input-122-8fc83100377c>\", line 37, in parse\n",
      "    content_type = re.findall(conttype_regex, page_script)[0]\n",
      "IndexError: list index out of range\n",
      "2020-02-18 12:18:36 [scrapy.core.engine] DEBUG: Crawled (200) <GET https://www.mckinsey.com/our-people/stephan-eibl> (referer: None)\n",
      "2020-02-18 12:18:36 [scrapy.core.engine] DEBUG: Crawled (200) <GET https://www.mckinsey.com/industries/pharmaceuticals-and-medical-products/how-we-help-clients> (referer: None)\n",
      "2020-02-18 12:18:36 [urllib3.connectionpool] DEBUG: Starting new HTTPS connection (1): www.mckinsey.com:443\n"
     ]
    },
    {
     "name": "stdout",
     "output_type": "stream",
     "text": [
      "https://www.mckinsey.com/our-people/stephan-eibl\n"
     ]
    },
    {
     "name": "stderr",
     "output_type": "stream",
     "text": [
      "2020-02-18 12:18:37 [urllib3.connectionpool] DEBUG: https://www.mckinsey.com:443 \"GET /our-people/stephan-eibl HTTP/1.1\" 200 14334\n",
      "2020-02-18 12:18:37 [scrapy.core.engine] DEBUG: Crawled (200) <GET https://www.mckinsey.com/industries/technology-media-and-telecommunications/our-insights/microsofts-next-act> (referer: None)\n",
      "2020-02-18 12:18:37 [scrapy.core.engine] DEBUG: Crawled (200) <GET https://www.mckinsey.com/industries/advanced-electronics/our-people> (referer: None)\n",
      "2020-02-18 12:18:37 [scrapy.core.engine] DEBUG: Crawled (200) <GET https://www.mckinsey.com/featured-insights/digital-disruption> (referer: None)\n",
      "2020-02-18 12:18:37 [urllib3.connectionpool] DEBUG: Starting new HTTPS connection (1): www.mckinsey.com:443\n"
     ]
    },
    {
     "name": "stdout",
     "output_type": "stream",
     "text": [
      "https://www.mckinsey.com/industries/pharmaceuticals-and-medical-products/how-we-help-clients\n"
     ]
    },
    {
     "name": "stderr",
     "output_type": "stream",
     "text": [
      "2020-02-18 12:18:37 [urllib3.connectionpool] DEBUG: https://www.mckinsey.com:443 \"GET /industries/pharmaceuticals-and-medical-products/how-we-help-clients HTTP/1.1\" 200 15891\n",
      "2020-02-18 12:18:37 [scrapy.core.scraper] ERROR: Spider error processing <GET https://www.mckinsey.com/industries/pharmaceuticals-and-medical-products/how-we-help-clients> (referer: None)\n",
      "Traceback (most recent call last):\n",
      "  File \"D:\\ProgramData\\Anaconda3\\lib\\site-packages\\twisted\\internet\\defer.py\", line 654, in _runCallbacks\n",
      "    current.result = callback(current.result, *args, **kw)\n",
      "  File \"<ipython-input-122-8fc83100377c>\", line 37, in parse\n",
      "    content_type = re.findall(conttype_regex, page_script)[0]\n",
      "IndexError: list index out of range\n",
      "2020-02-18 12:18:37 [scrapy.core.engine] DEBUG: Crawled (200) <GET https://www.mckinsey.com/business-functions/risk/our-insights/mckinsey-on-risk/mckinsey-on-risk-number-7> (referer: None)\n",
      "2020-02-18 12:18:37 [scrapy.core.engine] DEBUG: Crawled (200) <GET https://www.mckinsey.com/business-functions/mckinsey-analytics/our-insights/most-of-ais-business-uses-will-be-in-two-areas> (referer: None)\n",
      "2020-02-18 12:18:37 [scrapy.core.engine] DEBUG: Crawled (200) <GET https://www.mckinsey.com/our-people/gaurav-batra> (referer: None)\n",
      "2020-02-18 12:18:37 [scrapy.core.engine] DEBUG: Crawled (200) <GET https://www.mckinsey.com/our-people/holger-hurtgen> (referer: None)\n",
      "2020-02-18 12:18:37 [urllib3.connectionpool] DEBUG: Starting new HTTPS connection (1): www.mckinsey.com:443\n"
     ]
    },
    {
     "name": "stdout",
     "output_type": "stream",
     "text": [
      "https://www.mckinsey.com/industries/technology-media-and-telecommunications/our-insights/microsofts-next-act\n"
     ]
    },
    {
     "name": "stderr",
     "output_type": "stream",
     "text": [
      "2020-02-18 12:18:38 [urllib3.connectionpool] DEBUG: https://www.mckinsey.com:443 \"GET /industries/technology-media-and-telecommunications/our-insights/microsofts-next-act HTTP/1.1\" 200 23499\n",
      "2020-02-18 12:18:38 [urllib3.connectionpool] DEBUG: Starting new HTTPS connection (1): www.mckinsey.com:443\n"
     ]
    },
    {
     "name": "stdout",
     "output_type": "stream",
     "text": [
      "https://www.mckinsey.com/industries/advanced-electronics/our-people\n"
     ]
    },
    {
     "name": "stderr",
     "output_type": "stream",
     "text": [
      "2020-02-18 12:18:38 [urllib3.connectionpool] DEBUG: https://www.mckinsey.com:443 \"GET /industries/advanced-electronics/our-people HTTP/1.1\" 200 12746\n",
      "2020-02-18 12:18:38 [scrapy.core.scraper] ERROR: Spider error processing <GET https://www.mckinsey.com/industries/advanced-electronics/our-people> (referer: None)\n",
      "Traceback (most recent call last):\n",
      "  File \"D:\\ProgramData\\Anaconda3\\lib\\site-packages\\twisted\\internet\\defer.py\", line 654, in _runCallbacks\n",
      "    current.result = callback(current.result, *args, **kw)\n",
      "  File \"<ipython-input-122-8fc83100377c>\", line 37, in parse\n",
      "    content_type = re.findall(conttype_regex, page_script)[0]\n",
      "IndexError: list index out of range\n",
      "2020-02-18 12:18:38 [urllib3.connectionpool] DEBUG: Starting new HTTPS connection (1): www.mckinsey.com:443\n"
     ]
    },
    {
     "name": "stdout",
     "output_type": "stream",
     "text": [
      "https://www.mckinsey.com/featured-insights/digital-disruption\n"
     ]
    },
    {
     "name": "stderr",
     "output_type": "stream",
     "text": [
      "2020-02-18 12:18:39 [urllib3.connectionpool] DEBUG: https://www.mckinsey.com:443 \"GET /featured-insights/digital-disruption HTTP/1.1\" 200 15605\n",
      "2020-02-18 12:18:39 [scrapy.core.scraper] ERROR: Spider error processing <GET https://www.mckinsey.com/featured-insights/digital-disruption> (referer: None)\n",
      "Traceback (most recent call last):\n",
      "  File \"D:\\ProgramData\\Anaconda3\\lib\\site-packages\\twisted\\internet\\defer.py\", line 654, in _runCallbacks\n",
      "    current.result = callback(current.result, *args, **kw)\n",
      "  File \"<ipython-input-122-8fc83100377c>\", line 37, in parse\n",
      "    content_type = re.findall(conttype_regex, page_script)[0]\n",
      "IndexError: list index out of range\n",
      "2020-02-18 12:18:39 [scrapy.core.engine] DEBUG: Crawled (200) <GET https://www.mckinsey.com/mgi/our-research/asia-pacific> (referer: None)\n",
      "2020-02-18 12:18:39 [scrapy.core.engine] DEBUG: Crawled (200) <GET https://www.mckinsey.com/business-functions/mckinsey-analytics/our-insights/ais-growing-impact> (referer: None)\n",
      "2020-02-18 12:18:39 [scrapy.core.engine] DEBUG: Crawled (200) <GET https://www.mckinsey.com/our-people/hamid-samandari> (referer: None)\n",
      "2020-02-18 12:18:39 [scrapy.core.engine] DEBUG: Crawled (200) <GET https://www.mckinsey.com/tr/our-insights> (referer: None)\n",
      "2020-02-18 12:18:39 [urllib3.connectionpool] DEBUG: Starting new HTTPS connection (1): www.mckinsey.com:443\n"
     ]
    },
    {
     "name": "stdout",
     "output_type": "stream",
     "text": [
      "https://www.mckinsey.com/business-functions/risk/our-insights/mckinsey-on-risk/mckinsey-on-risk-number-7\n"
     ]
    },
    {
     "name": "stderr",
     "output_type": "stream",
     "text": [
      "2020-02-18 12:18:40 [urllib3.connectionpool] DEBUG: https://www.mckinsey.com:443 \"GET /business-functions/risk/our-insights/mckinsey-on-risk/mckinsey-on-risk-number-7 HTTP/1.1\" 200 14717\n",
      "2020-02-18 12:18:40 [scrapy.core.scraper] ERROR: Spider error processing <GET https://www.mckinsey.com/business-functions/risk/our-insights/mckinsey-on-risk/mckinsey-on-risk-number-7> (referer: None)\n",
      "Traceback (most recent call last):\n",
      "  File \"D:\\ProgramData\\Anaconda3\\lib\\site-packages\\twisted\\internet\\defer.py\", line 654, in _runCallbacks\n",
      "    current.result = callback(current.result, *args, **kw)\n",
      "  File \"<ipython-input-122-8fc83100377c>\", line 41, in parse\n",
      "    page_date = re.findall(date_regex, page_script)[0]\n",
      "IndexError: list index out of range\n",
      "2020-02-18 12:18:40 [urllib3.connectionpool] DEBUG: Starting new HTTPS connection (1): www.mckinsey.com:443\n"
     ]
    },
    {
     "name": "stdout",
     "output_type": "stream",
     "text": [
      "https://www.mckinsey.com/business-functions/mckinsey-analytics/our-insights/most-of-ais-business-uses-will-be-in-two-areas\n"
     ]
    },
    {
     "name": "stderr",
     "output_type": "stream",
     "text": [
      "2020-02-18 12:18:40 [urllib3.connectionpool] DEBUG: https://www.mckinsey.com:443 \"GET /business-functions/mckinsey-analytics/our-insights/most-of-ais-business-uses-will-be-in-two-areas HTTP/1.1\" 200 17209\n",
      "2020-02-18 12:18:40 [urllib3.connectionpool] DEBUG: Starting new HTTPS connection (1): www.mckinsey.com:443\n"
     ]
    },
    {
     "name": "stdout",
     "output_type": "stream",
     "text": [
      "https://www.mckinsey.com/our-people/gaurav-batra\n"
     ]
    },
    {
     "name": "stderr",
     "output_type": "stream",
     "text": [
      "2020-02-18 12:18:42 [urllib3.connectionpool] DEBUG: https://www.mckinsey.com:443 \"GET /our-people/gaurav-batra HTTP/1.1\" 200 14819\n",
      "2020-02-18 12:18:42 [urllib3.connectionpool] DEBUG: Starting new HTTPS connection (1): www.mckinsey.com:443\n"
     ]
    },
    {
     "name": "stdout",
     "output_type": "stream",
     "text": [
      "https://www.mckinsey.com/our-people/holger-hurtgen\n"
     ]
    },
    {
     "name": "stderr",
     "output_type": "stream",
     "text": [
      "2020-02-18 12:18:42 [urllib3.connectionpool] DEBUG: https://www.mckinsey.com:443 \"GET /our-people/holger-hurtgen HTTP/1.1\" 200 15217\n",
      "2020-02-18 12:18:42 [scrapy.core.engine] DEBUG: Crawled (200) <GET https://www.mckinsey.com/our-people/louise-herring> (referer: None)\n",
      "2020-02-18 12:18:42 [scrapy.core.engine] DEBUG: Crawled (200) <GET https://www.mckinsey.com/featured-insights/china/three-long-term-trends-changing-business-in-china> (referer: None)\n",
      "2020-02-18 12:18:42 [scrapy.core.engine] DEBUG: Crawled (200) <GET https://www.mckinsey.com/featured-insights/future-of-work> (referer: None)\n",
      "2020-02-18 12:18:42 [scrapy.core.engine] DEBUG: Crawled (200) <GET https://www.mckinsey.com/industries/financial-services/our-insights/banking-matters/bank-of-the-future> (referer: None)\n",
      "2020-02-18 12:18:42 [urllib3.connectionpool] DEBUG: Starting new HTTPS connection (1): www.mckinsey.com:443\n"
     ]
    },
    {
     "name": "stdout",
     "output_type": "stream",
     "text": [
      "https://www.mckinsey.com/mgi/our-research/asia-pacific\n"
     ]
    },
    {
     "name": "stderr",
     "output_type": "stream",
     "text": [
      "2020-02-18 12:18:43 [urllib3.connectionpool] DEBUG: https://www.mckinsey.com:443 \"GET /mgi/our-research/asia-pacific HTTP/1.1\" 200 15192\n",
      "2020-02-18 12:18:43 [scrapy.core.scraper] ERROR: Spider error processing <GET https://www.mckinsey.com/mgi/our-research/asia-pacific> (referer: None)\n",
      "Traceback (most recent call last):\n",
      "  File \"D:\\ProgramData\\Anaconda3\\lib\\site-packages\\twisted\\internet\\defer.py\", line 654, in _runCallbacks\n",
      "    current.result = callback(current.result, *args, **kw)\n",
      "  File \"<ipython-input-122-8fc83100377c>\", line 37, in parse\n",
      "    content_type = re.findall(conttype_regex, page_script)[0]\n",
      "IndexError: list index out of range\n",
      "2020-02-18 12:18:43 [urllib3.connectionpool] DEBUG: Starting new HTTPS connection (1): www.mckinsey.com:443\n"
     ]
    },
    {
     "name": "stdout",
     "output_type": "stream",
     "text": [
      "https://www.mckinsey.com/business-functions/mckinsey-analytics/our-insights/ais-growing-impact\n"
     ]
    },
    {
     "name": "stderr",
     "output_type": "stream",
     "text": [
      "2020-02-18 12:18:44 [urllib3.connectionpool] DEBUG: https://www.mckinsey.com:443 \"GET /business-functions/mckinsey-analytics/our-insights/ais-growing-impact HTTP/1.1\" 200 17367\n",
      "2020-02-18 12:18:44 [urllib3.connectionpool] DEBUG: Starting new HTTPS connection (1): www.mckinsey.com:443\n"
     ]
    },
    {
     "name": "stdout",
     "output_type": "stream",
     "text": [
      "https://www.mckinsey.com/our-people/hamid-samandari\n"
     ]
    },
    {
     "name": "stderr",
     "output_type": "stream",
     "text": [
      "2020-02-18 12:18:45 [urllib3.connectionpool] DEBUG: https://www.mckinsey.com:443 \"GET /our-people/hamid-samandari HTTP/1.1\" 200 14685\n",
      "2020-02-18 12:18:45 [urllib3.connectionpool] DEBUG: Starting new HTTPS connection (1): www.mckinsey.com:443\n"
     ]
    },
    {
     "name": "stdout",
     "output_type": "stream",
     "text": [
      "https://www.mckinsey.com/tr/our-insights\n"
     ]
    },
    {
     "name": "stderr",
     "output_type": "stream",
     "text": [
      "2020-02-18 12:18:45 [urllib3.connectionpool] DEBUG: https://www.mckinsey.com:443 \"GET /tr/our-insights HTTP/1.1\" 200 14046\n",
      "2020-02-18 12:18:45 [scrapy.core.scraper] ERROR: Spider error processing <GET https://www.mckinsey.com/tr/our-insights> (referer: None)\n",
      "Traceback (most recent call last):\n",
      "  File \"D:\\ProgramData\\Anaconda3\\lib\\site-packages\\twisted\\internet\\defer.py\", line 654, in _runCallbacks\n",
      "    current.result = callback(current.result, *args, **kw)\n",
      "  File \"<ipython-input-122-8fc83100377c>\", line 37, in parse\n",
      "    content_type = re.findall(conttype_regex, page_script)[0]\n",
      "IndexError: list index out of range\n",
      "2020-02-18 12:18:45 [scrapy.core.engine] DEBUG: Crawled (200) <GET https://www.mckinsey.com/our-people/mark-patel> (referer: None)\n",
      "2020-02-18 12:18:45 [scrapy.core.engine] DEBUG: Crawled (200) <GET https://www.mckinsey.com/industries/travel-transport-and-logistics/our-people> (referer: None)\n",
      "2020-02-18 12:18:45 [scrapy.core.engine] DEBUG: Crawled (200) <GET https://www.mckinsey.com/our-people/clarisse-magnin-mallez> (referer: None)\n",
      "2020-02-18 12:18:45 [urllib3.connectionpool] DEBUG: Starting new HTTPS connection (1): www.mckinsey.com:443\n"
     ]
    },
    {
     "name": "stdout",
     "output_type": "stream",
     "text": [
      "https://www.mckinsey.com/our-people/louise-herring\n"
     ]
    },
    {
     "name": "stderr",
     "output_type": "stream",
     "text": [
      "2020-02-18 12:18:46 [urllib3.connectionpool] DEBUG: https://www.mckinsey.com:443 \"GET /our-people/louise-herring HTTP/1.1\" 200 15768\n",
      "2020-02-18 12:18:46 [urllib3.connectionpool] DEBUG: Starting new HTTPS connection (1): www.mckinsey.com:443\n"
     ]
    },
    {
     "name": "stdout",
     "output_type": "stream",
     "text": [
      "https://www.mckinsey.com/featured-insights/china/three-long-term-trends-changing-business-in-china\n"
     ]
    },
    {
     "name": "stderr",
     "output_type": "stream",
     "text": [
      "2020-02-18 12:18:47 [urllib3.connectionpool] DEBUG: https://www.mckinsey.com:443 \"GET /featured-insights/china/three-long-term-trends-changing-business-in-china HTTP/1.1\" 200 17271\n",
      "2020-02-18 12:18:47 [urllib3.connectionpool] DEBUG: Starting new HTTPS connection (1): www.mckinsey.com:443\n"
     ]
    },
    {
     "name": "stdout",
     "output_type": "stream",
     "text": [
      "https://www.mckinsey.com/featured-insights/future-of-work\n"
     ]
    },
    {
     "name": "stderr",
     "output_type": "stream",
     "text": [
      "2020-02-18 12:18:48 [urllib3.connectionpool] DEBUG: https://www.mckinsey.com:443 \"GET /featured-insights/future-of-work HTTP/1.1\" 200 17741\n",
      "2020-02-18 12:18:48 [scrapy.core.scraper] ERROR: Spider error processing <GET https://www.mckinsey.com/featured-insights/future-of-work> (referer: None)\n",
      "Traceback (most recent call last):\n",
      "  File \"D:\\ProgramData\\Anaconda3\\lib\\site-packages\\twisted\\internet\\defer.py\", line 654, in _runCallbacks\n",
      "    current.result = callback(current.result, *args, **kw)\n",
      "  File \"<ipython-input-122-8fc83100377c>\", line 37, in parse\n",
      "    content_type = re.findall(conttype_regex, page_script)[0]\n",
      "IndexError: list index out of range\n",
      "2020-02-18 12:18:48 [urllib3.connectionpool] DEBUG: Starting new HTTPS connection (1): www.mckinsey.com:443\n"
     ]
    },
    {
     "name": "stdout",
     "output_type": "stream",
     "text": [
      "https://www.mckinsey.com/industries/financial-services/our-insights/banking-matters/bank-of-the-future\n"
     ]
    },
    {
     "name": "stderr",
     "output_type": "stream",
     "text": [
      "2020-02-18 12:18:49 [urllib3.connectionpool] DEBUG: https://www.mckinsey.com:443 \"GET /industries/financial-services/our-insights/banking-matters/bank-of-the-future HTTP/1.1\" 200 12666\n",
      "2020-02-18 12:18:49 [scrapy.core.scraper] ERROR: Spider error processing <GET https://www.mckinsey.com/industries/financial-services/our-insights/banking-matters/bank-of-the-future> (referer: None)\n",
      "Traceback (most recent call last):\n",
      "  File \"D:\\ProgramData\\Anaconda3\\lib\\site-packages\\twisted\\internet\\defer.py\", line 654, in _runCallbacks\n",
      "    current.result = callback(current.result, *args, **kw)\n",
      "  File \"<ipython-input-122-8fc83100377c>\", line 37, in parse\n",
      "    content_type = re.findall(conttype_regex, page_script)[0]\n",
      "IndexError: list index out of range\n",
      "2020-02-18 12:18:49 [scrapy.core.engine] DEBUG: Crawled (200) <GET https://www.mckinsey.com/industries/financial-services/our-insights/banking-matters/derisking-machine-learning-in-banking> (referer: None)\n",
      "2020-02-18 12:18:49 [urllib3.connectionpool] DEBUG: Starting new HTTPS connection (1): www.mckinsey.com:443\n"
     ]
    },
    {
     "name": "stdout",
     "output_type": "stream",
     "text": [
      "https://www.mckinsey.com/our-people/mark-patel\n"
     ]
    },
    {
     "name": "stderr",
     "output_type": "stream",
     "text": [
      "2020-02-18 12:18:50 [urllib3.connectionpool] DEBUG: https://www.mckinsey.com:443 \"GET /our-people/mark-patel HTTP/1.1\" 200 15501\n",
      "2020-02-18 12:18:50 [urllib3.connectionpool] DEBUG: Starting new HTTPS connection (1): www.mckinsey.com:443\n"
     ]
    },
    {
     "name": "stdout",
     "output_type": "stream",
     "text": [
      "https://www.mckinsey.com/industries/travel-transport-and-logistics/our-people\n"
     ]
    },
    {
     "name": "stderr",
     "output_type": "stream",
     "text": [
      "2020-02-18 12:18:50 [urllib3.connectionpool] DEBUG: https://www.mckinsey.com:443 \"GET /industries/travel-transport-and-logistics/our-people HTTP/1.1\" 200 14231\n",
      "2020-02-18 12:18:50 [scrapy.core.scraper] ERROR: Spider error processing <GET https://www.mckinsey.com/industries/travel-transport-and-logistics/our-people> (referer: None)\n",
      "Traceback (most recent call last):\n",
      "  File \"D:\\ProgramData\\Anaconda3\\lib\\site-packages\\twisted\\internet\\defer.py\", line 654, in _runCallbacks\n",
      "    current.result = callback(current.result, *args, **kw)\n",
      "  File \"<ipython-input-122-8fc83100377c>\", line 37, in parse\n",
      "    content_type = re.findall(conttype_regex, page_script)[0]\n",
      "IndexError: list index out of range\n",
      "2020-02-18 12:18:50 [urllib3.connectionpool] DEBUG: Starting new HTTPS connection (1): www.mckinsey.com:443\n"
     ]
    },
    {
     "name": "stdout",
     "output_type": "stream",
     "text": [
      "https://www.mckinsey.com/our-people/clarisse-magnin-mallez\n"
     ]
    },
    {
     "name": "stderr",
     "output_type": "stream",
     "text": [
      "2020-02-18 12:18:51 [urllib3.connectionpool] DEBUG: https://www.mckinsey.com:443 \"GET /our-people/clarisse-magnin-mallez HTTP/1.1\" 200 15157\n",
      "2020-02-18 12:18:51 [scrapy.core.engine] DEBUG: Crawled (200) <GET https://www.mckinsey.com/au> (referer: None)\n",
      "2020-02-18 12:18:51 [urllib3.connectionpool] DEBUG: Starting new HTTPS connection (1): www.mckinsey.com:443\n"
     ]
    },
    {
     "name": "stdout",
     "output_type": "stream",
     "text": [
      "https://www.mckinsey.com/industries/financial-services/our-insights/banking-matters/derisking-machine-learning-in-banking\n"
     ]
    },
    {
     "name": "stderr",
     "output_type": "stream",
     "text": [
      "2020-02-18 12:18:52 [urllib3.connectionpool] DEBUG: https://www.mckinsey.com:443 \"GET /industries/financial-services/our-insights/banking-matters/derisking-machine-learning-in-banking HTTP/1.1\" 200 12811\n",
      "2020-02-18 12:18:52 [scrapy.core.scraper] ERROR: Spider error processing <GET https://www.mckinsey.com/industries/financial-services/our-insights/banking-matters/derisking-machine-learning-in-banking> (referer: None)\n",
      "Traceback (most recent call last):\n",
      "  File \"D:\\ProgramData\\Anaconda3\\lib\\site-packages\\twisted\\internet\\defer.py\", line 654, in _runCallbacks\n",
      "    current.result = callback(current.result, *args, **kw)\n",
      "  File \"<ipython-input-122-8fc83100377c>\", line 37, in parse\n",
      "    content_type = re.findall(conttype_regex, page_script)[0]\n",
      "IndexError: list index out of range\n",
      "2020-02-18 12:18:52 [scrapy.core.engine] DEBUG: Crawled (200) <GET https://www.mckinsey.com/ng> (referer: None)\n",
      "2020-02-18 12:18:52 [urllib3.connectionpool] DEBUG: Starting new HTTPS connection (1): www.mckinsey.com:443\n"
     ]
    },
    {
     "name": "stdout",
     "output_type": "stream",
     "text": [
      "https://www.mckinsey.com/au\n"
     ]
    },
    {
     "name": "stderr",
     "output_type": "stream",
     "text": [
      "2020-02-18 12:18:53 [urllib3.connectionpool] DEBUG: https://www.mckinsey.com:443 \"GET /au HTTP/1.1\" 200 16566\n",
      "2020-02-18 12:18:53 [scrapy.core.scraper] ERROR: Spider error processing <GET https://www.mckinsey.com/au> (referer: None)\n",
      "Traceback (most recent call last):\n",
      "  File \"D:\\ProgramData\\Anaconda3\\lib\\site-packages\\twisted\\internet\\defer.py\", line 654, in _runCallbacks\n",
      "    current.result = callback(current.result, *args, **kw)\n",
      "  File \"<ipython-input-122-8fc83100377c>\", line 37, in parse\n",
      "    content_type = re.findall(conttype_regex, page_script)[0]\n",
      "IndexError: list index out of range\n",
      "2020-02-18 12:18:53 [urllib3.connectionpool] DEBUG: Starting new HTTPS connection (1): www.mckinsey.com:443\n"
     ]
    },
    {
     "name": "stdout",
     "output_type": "stream",
     "text": [
      "https://www.mckinsey.com/ng\n"
     ]
    },
    {
     "name": "stderr",
     "output_type": "stream",
     "text": [
      "2020-02-18 12:18:53 [urllib3.connectionpool] DEBUG: https://www.mckinsey.com:443 \"GET /ng HTTP/1.1\" 200 17027\n",
      "2020-02-18 12:18:53 [scrapy.core.scraper] ERROR: Spider error processing <GET https://www.mckinsey.com/ng> (referer: None)\n",
      "Traceback (most recent call last):\n",
      "  File \"D:\\ProgramData\\Anaconda3\\lib\\site-packages\\twisted\\internet\\defer.py\", line 654, in _runCallbacks\n",
      "    current.result = callback(current.result, *args, **kw)\n",
      "  File \"<ipython-input-122-8fc83100377c>\", line 37, in parse\n",
      "    content_type = re.findall(conttype_regex, page_script)[0]\n",
      "IndexError: list index out of range\n",
      "2020-02-18 12:18:53 [scrapy.core.engine] DEBUG: Crawled (200) <GET https://www.mckinsey.com/business-functions/organization/our-insights/the-ceo-of-guardian-life-on-talent-in-an-age-of-digital-disruption> (referer: None)\n",
      "2020-02-18 12:18:54 [urllib3.connectionpool] DEBUG: Starting new HTTPS connection (1): www.mckinsey.com:443\n"
     ]
    },
    {
     "name": "stdout",
     "output_type": "stream",
     "text": [
      "https://www.mckinsey.com/business-functions/organization/our-insights/the-ceo-of-guardian-life-on-talent-in-an-age-of-digital-disruption\n"
     ]
    },
    {
     "name": "stderr",
     "output_type": "stream",
     "text": [
      "2020-02-18 12:18:54 [urllib3.connectionpool] DEBUG: https://www.mckinsey.com:443 \"GET /business-functions/organization/our-insights/the-ceo-of-guardian-life-on-talent-in-an-age-of-digital-disruption HTTP/1.1\" 200 16039\n",
      "2020-02-18 12:18:54 [scrapy.core.engine] DEBUG: Crawled (200) <GET https://www.mckinsey.com/uk/careers/mckinsey-venture-academy/overview> (referer: None)\n",
      "2020-02-18 12:18:54 [scrapy.core.engine] DEBUG: Crawled (200) <GET https://www.mckinsey.com/business-functions/organization/our-insights/the-organization-blog/employee-motivation-in-the-age-of-automation-and-agility> (referer: None)\n",
      "2020-02-18 12:18:54 [scrapy.core.engine] DEBUG: Crawled (200) <GET https://www.mckinsey.com/business-functions/operations/our-insights/ops-40-the-human-factorrecognizing-the-capability-challenge> (referer: None)\n",
      "2020-02-18 12:18:54 [scrapy.core.engine] DEBUG: Crawled (200) <GET https://www.mckinsey.com/business-functions/sustainability/our-insights> (referer: None)\n",
      "2020-02-18 12:18:54 [urllib3.connectionpool] DEBUG: Starting new HTTPS connection (1): www.mckinsey.com:443\n"
     ]
    },
    {
     "name": "stdout",
     "output_type": "stream",
     "text": [
      "https://www.mckinsey.com/uk/careers/mckinsey-venture-academy/overview\n"
     ]
    },
    {
     "name": "stderr",
     "output_type": "stream",
     "text": [
      "2020-02-18 12:18:55 [urllib3.connectionpool] DEBUG: https://www.mckinsey.com:443 \"GET /uk/careers/mckinsey-venture-academy/overview HTTP/1.1\" 200 14156\n",
      "2020-02-18 12:18:55 [scrapy.core.scraper] ERROR: Spider error processing <GET https://www.mckinsey.com/uk/careers/mckinsey-venture-academy/overview> (referer: None)\n",
      "Traceback (most recent call last):\n",
      "  File \"D:\\ProgramData\\Anaconda3\\lib\\site-packages\\twisted\\internet\\defer.py\", line 654, in _runCallbacks\n",
      "    current.result = callback(current.result, *args, **kw)\n",
      "  File \"<ipython-input-122-8fc83100377c>\", line 37, in parse\n",
      "    content_type = re.findall(conttype_regex, page_script)[0]\n",
      "IndexError: list index out of range\n",
      "2020-02-18 12:18:55 [scrapy.core.engine] DEBUG: Crawled (200) <GET https://www.mckinsey.com/industries/capital-projects-and-infrastructure/our-insights/voices-on-infrastructure/voices-on-infrastructure-harnessing-the-promise-of-digital> (referer: None)\n",
      "2020-02-18 12:18:55 [scrapy.core.engine] DEBUG: Crawled (200) <GET https://www.mckinsey.com/industries/aerospace-and-defense/our-people> (referer: None)\n",
      "2020-02-18 12:18:55 [scrapy.core.engine] DEBUG: Crawled (200) <GET https://www.mckinsey.com/industries/financial-services/our-insights> (referer: None)\n",
      "2020-02-18 12:18:55 [scrapy.core.engine] DEBUG: Crawled (200) <GET https://www.mckinsey.com/our-people/james-manyika> (referer: None)\n",
      "2020-02-18 12:18:55 [scrapy.core.engine] DEBUG: Crawled (200) <GET https://www.mckinsey.com/business-functions/risk/our-insights/the-value-for-insurers-in-better-management-of-nonfinancial-risk> (referer: None)\n",
      "2020-02-18 12:18:55 [urllib3.connectionpool] DEBUG: Starting new HTTPS connection (1): www.mckinsey.com:443\n"
     ]
    },
    {
     "name": "stdout",
     "output_type": "stream",
     "text": [
      "https://www.mckinsey.com/business-functions/organization/our-insights/the-organization-blog/employee-motivation-in-the-age-of-automation-and-agility\n"
     ]
    },
    {
     "name": "stderr",
     "output_type": "stream",
     "text": [
      "2020-02-18 12:18:56 [urllib3.connectionpool] DEBUG: https://www.mckinsey.com:443 \"GET /business-functions/organization/our-insights/the-organization-blog/employee-motivation-in-the-age-of-automation-and-agility HTTP/1.1\" 200 14299\n",
      "2020-02-18 12:18:56 [scrapy.core.scraper] ERROR: Spider error processing <GET https://www.mckinsey.com/business-functions/organization/our-insights/the-organization-blog/employee-motivation-in-the-age-of-automation-and-agility> (referer: None)\n",
      "Traceback (most recent call last):\n",
      "  File \"D:\\ProgramData\\Anaconda3\\lib\\site-packages\\twisted\\internet\\defer.py\", line 654, in _runCallbacks\n",
      "    current.result = callback(current.result, *args, **kw)\n",
      "  File \"<ipython-input-122-8fc83100377c>\", line 37, in parse\n",
      "    content_type = re.findall(conttype_regex, page_script)[0]\n",
      "IndexError: list index out of range\n",
      "2020-02-18 12:18:56 [urllib3.connectionpool] DEBUG: Starting new HTTPS connection (1): www.mckinsey.com:443\n"
     ]
    },
    {
     "name": "stdout",
     "output_type": "stream",
     "text": [
      "https://www.mckinsey.com/business-functions/operations/our-insights/ops-40-the-human-factorrecognizing-the-capability-challenge\n"
     ]
    },
    {
     "name": "stderr",
     "output_type": "stream",
     "text": [
      "2020-02-18 12:18:56 [urllib3.connectionpool] DEBUG: https://www.mckinsey.com:443 \"GET /business-functions/operations/our-insights/ops-40-the-human-factorrecognizing-the-capability-challenge HTTP/1.1\" 200 14371\n",
      "2020-02-18 12:18:56 [scrapy.core.scraper] ERROR: Spider error processing <GET https://www.mckinsey.com/business-functions/operations/our-insights/ops-40-the-human-factorrecognizing-the-capability-challenge> (referer: None)\n",
      "Traceback (most recent call last):\n",
      "  File \"D:\\ProgramData\\Anaconda3\\lib\\site-packages\\twisted\\internet\\defer.py\", line 654, in _runCallbacks\n",
      "    current.result = callback(current.result, *args, **kw)\n",
      "  File \"<ipython-input-122-8fc83100377c>\", line 41, in parse\n",
      "    page_date = re.findall(date_regex, page_script)[0]\n",
      "IndexError: list index out of range\n",
      "2020-02-18 12:18:56 [urllib3.connectionpool] DEBUG: Starting new HTTPS connection (1): www.mckinsey.com:443\n"
     ]
    },
    {
     "name": "stdout",
     "output_type": "stream",
     "text": [
      "https://www.mckinsey.com/business-functions/sustainability/our-insights\n"
     ]
    },
    {
     "name": "stderr",
     "output_type": "stream",
     "text": [
      "2020-02-18 12:18:57 [urllib3.connectionpool] DEBUG: https://www.mckinsey.com:443 \"GET /business-functions/sustainability/our-insights HTTP/1.1\" 200 16056\n",
      "2020-02-18 12:18:57 [scrapy.core.scraper] ERROR: Spider error processing <GET https://www.mckinsey.com/business-functions/sustainability/our-insights> (referer: None)\n",
      "Traceback (most recent call last):\n",
      "  File \"D:\\ProgramData\\Anaconda3\\lib\\site-packages\\twisted\\internet\\defer.py\", line 654, in _runCallbacks\n",
      "    current.result = callback(current.result, *args, **kw)\n",
      "  File \"<ipython-input-122-8fc83100377c>\", line 37, in parse\n",
      "    content_type = re.findall(conttype_regex, page_script)[0]\n",
      "IndexError: list index out of range\n",
      "2020-02-18 12:18:57 [scrapy.core.engine] DEBUG: Crawled (200) <GET https://www.mckinsey.com/industries/automotive-and-assembly/our-people> (referer: None)\n",
      "2020-02-18 12:18:57 [scrapy.core.engine] DEBUG: Crawled (200) <GET https://www.mckinsey.com/industries/chemicals/our-insights> (referer: None)\n",
      "2020-02-18 12:18:57 [scrapy.core.engine] DEBUG: Crawled (200) <GET https://www.mckinsey.com/business-functions/operations/how-we-help-clients> (referer: None)\n",
      "2020-02-18 12:18:57 [urllib3.connectionpool] DEBUG: Starting new HTTPS connection (1): www.mckinsey.com:443\n"
     ]
    },
    {
     "name": "stdout",
     "output_type": "stream",
     "text": [
      "https://www.mckinsey.com/industries/capital-projects-and-infrastructure/our-insights/voices-on-infrastructure/voices-on-infrastructure-harnessing-the-promise-of-digital\n"
     ]
    },
    {
     "name": "stderr",
     "output_type": "stream",
     "text": [
      "2020-02-18 12:18:58 [urllib3.connectionpool] DEBUG: https://www.mckinsey.com:443 \"GET /industries/capital-projects-and-infrastructure/our-insights/voices-on-infrastructure/voices-on-infrastructure-harnessing-the-promise-of-digital HTTP/1.1\" 200 13961\n",
      "2020-02-18 12:18:58 [scrapy.core.scraper] ERROR: Spider error processing <GET https://www.mckinsey.com/industries/capital-projects-and-infrastructure/our-insights/voices-on-infrastructure/voices-on-infrastructure-harnessing-the-promise-of-digital> (referer: None)\n",
      "Traceback (most recent call last):\n",
      "  File \"D:\\ProgramData\\Anaconda3\\lib\\site-packages\\twisted\\internet\\defer.py\", line 654, in _runCallbacks\n",
      "    current.result = callback(current.result, *args, **kw)\n",
      "  File \"<ipython-input-122-8fc83100377c>\", line 41, in parse\n",
      "    page_date = re.findall(date_regex, page_script)[0]\n",
      "IndexError: list index out of range\n",
      "2020-02-18 12:18:58 [urllib3.connectionpool] DEBUG: Starting new HTTPS connection (1): www.mckinsey.com:443\n"
     ]
    },
    {
     "name": "stdout",
     "output_type": "stream",
     "text": [
      "https://www.mckinsey.com/industries/aerospace-and-defense/our-people\n"
     ]
    },
    {
     "name": "stderr",
     "output_type": "stream",
     "text": [
      "2020-02-18 12:18:59 [urllib3.connectionpool] DEBUG: https://www.mckinsey.com:443 \"GET /industries/aerospace-and-defense/our-people HTTP/1.1\" 200 15451\n",
      "2020-02-18 12:18:59 [scrapy.core.scraper] ERROR: Spider error processing <GET https://www.mckinsey.com/industries/aerospace-and-defense/our-people> (referer: None)\n",
      "Traceback (most recent call last):\n",
      "  File \"D:\\ProgramData\\Anaconda3\\lib\\site-packages\\twisted\\internet\\defer.py\", line 654, in _runCallbacks\n",
      "    current.result = callback(current.result, *args, **kw)\n",
      "  File \"<ipython-input-122-8fc83100377c>\", line 37, in parse\n",
      "    content_type = re.findall(conttype_regex, page_script)[0]\n",
      "IndexError: list index out of range\n",
      "2020-02-18 12:18:59 [urllib3.connectionpool] DEBUG: Starting new HTTPS connection (1): www.mckinsey.com:443\n"
     ]
    },
    {
     "name": "stdout",
     "output_type": "stream",
     "text": [
      "https://www.mckinsey.com/industries/financial-services/our-insights\n"
     ]
    },
    {
     "name": "stderr",
     "output_type": "stream",
     "text": [
      "2020-02-18 12:19:00 [urllib3.connectionpool] DEBUG: https://www.mckinsey.com:443 \"GET /industries/financial-services/our-insights HTTP/1.1\" 200 17456\n",
      "2020-02-18 12:19:00 [scrapy.core.scraper] ERROR: Spider error processing <GET https://www.mckinsey.com/industries/financial-services/our-insights> (referer: None)\n",
      "Traceback (most recent call last):\n",
      "  File \"D:\\ProgramData\\Anaconda3\\lib\\site-packages\\twisted\\internet\\defer.py\", line 654, in _runCallbacks\n",
      "    current.result = callback(current.result, *args, **kw)\n",
      "  File \"<ipython-input-122-8fc83100377c>\", line 37, in parse\n",
      "    content_type = re.findall(conttype_regex, page_script)[0]\n",
      "IndexError: list index out of range\n",
      "2020-02-18 12:19:00 [urllib3.connectionpool] DEBUG: Starting new HTTPS connection (1): www.mckinsey.com:443\n"
     ]
    },
    {
     "name": "stdout",
     "output_type": "stream",
     "text": [
      "https://www.mckinsey.com/our-people/james-manyika\n"
     ]
    },
    {
     "name": "stderr",
     "output_type": "stream",
     "text": [
      "2020-02-18 12:19:01 [urllib3.connectionpool] DEBUG: https://www.mckinsey.com:443 \"GET /our-people/james-manyika HTTP/1.1\" 200 21146\n",
      "2020-02-18 12:19:02 [urllib3.connectionpool] DEBUG: Starting new HTTPS connection (1): www.mckinsey.com:443\n"
     ]
    },
    {
     "name": "stdout",
     "output_type": "stream",
     "text": [
      "https://www.mckinsey.com/business-functions/risk/our-insights/the-value-for-insurers-in-better-management-of-nonfinancial-risk\n"
     ]
    },
    {
     "name": "stderr",
     "output_type": "stream",
     "text": [
      "2020-02-18 12:19:02 [urllib3.connectionpool] DEBUG: https://www.mckinsey.com:443 \"GET /business-functions/risk/our-insights/the-value-for-insurers-in-better-management-of-nonfinancial-risk HTTP/1.1\" 200 20444\n",
      "2020-02-18 12:19:02 [scrapy.core.engine] DEBUG: Crawled (200) <GET https://www.mckinsey.com/se/our-insights> (referer: None)\n",
      "2020-02-18 12:19:02 [scrapy.core.engine] DEBUG: Crawled (200) <GET https://www.mckinsey.com/our-people/tera-allas> (referer: None)\n",
      "2020-02-18 12:19:02 [scrapy.core.engine] DEBUG: Crawled (200) <GET https://www.mckinsey.com/our-people/vincent-berube> (referer: None)\n",
      "2020-02-18 12:19:02 [scrapy.core.engine] DEBUG: Crawled (200) <GET https://www.mckinsey.com/industries/public-sector/our-insights> (referer: None)\n",
      "2020-02-18 12:19:02 [scrapy.core.engine] DEBUG: Crawled (200) <GET https://www.mckinsey.com/industries/agriculture/how-we-help-clients/acre> (referer: None)\n",
      "2020-02-18 12:19:02 [urllib3.connectionpool] DEBUG: Starting new HTTPS connection (1): www.mckinsey.com:443\n"
     ]
    },
    {
     "name": "stdout",
     "output_type": "stream",
     "text": [
      "https://www.mckinsey.com/industries/automotive-and-assembly/our-people\n"
     ]
    },
    {
     "name": "stderr",
     "output_type": "stream",
     "text": [
      "2020-02-18 12:19:03 [urllib3.connectionpool] DEBUG: https://www.mckinsey.com:443 \"GET /industries/automotive-and-assembly/our-people HTTP/1.1\" 200 15073\n",
      "2020-02-18 12:19:03 [scrapy.core.scraper] ERROR: Spider error processing <GET https://www.mckinsey.com/industries/automotive-and-assembly/our-people> (referer: None)\n",
      "Traceback (most recent call last):\n",
      "  File \"D:\\ProgramData\\Anaconda3\\lib\\site-packages\\twisted\\internet\\defer.py\", line 654, in _runCallbacks\n",
      "    current.result = callback(current.result, *args, **kw)\n",
      "  File \"<ipython-input-122-8fc83100377c>\", line 37, in parse\n",
      "    content_type = re.findall(conttype_regex, page_script)[0]\n",
      "IndexError: list index out of range\n",
      "2020-02-18 12:19:03 [urllib3.connectionpool] DEBUG: Starting new HTTPS connection (1): www.mckinsey.com:443\n"
     ]
    },
    {
     "name": "stdout",
     "output_type": "stream",
     "text": [
      "https://www.mckinsey.com/industries/chemicals/our-insights\n"
     ]
    },
    {
     "name": "stderr",
     "output_type": "stream",
     "text": [
      "2020-02-18 12:19:03 [urllib3.connectionpool] DEBUG: https://www.mckinsey.com:443 \"GET /industries/chemicals/our-insights HTTP/1.1\" 200 16707\n",
      "2020-02-18 12:19:03 [scrapy.core.scraper] ERROR: Spider error processing <GET https://www.mckinsey.com/industries/chemicals/our-insights> (referer: None)\n",
      "Traceback (most recent call last):\n",
      "  File \"D:\\ProgramData\\Anaconda3\\lib\\site-packages\\twisted\\internet\\defer.py\", line 654, in _runCallbacks\n",
      "    current.result = callback(current.result, *args, **kw)\n",
      "  File \"<ipython-input-122-8fc83100377c>\", line 37, in parse\n",
      "    content_type = re.findall(conttype_regex, page_script)[0]\n",
      "IndexError: list index out of range\n",
      "2020-02-18 12:19:03 [urllib3.connectionpool] DEBUG: Starting new HTTPS connection (1): www.mckinsey.com:443\n"
     ]
    },
    {
     "name": "stdout",
     "output_type": "stream",
     "text": [
      "https://www.mckinsey.com/business-functions/operations/how-we-help-clients\n"
     ]
    },
    {
     "name": "stderr",
     "output_type": "stream",
     "text": [
      "2020-02-18 12:19:04 [urllib3.connectionpool] DEBUG: https://www.mckinsey.com:443 \"GET /business-functions/operations/how-we-help-clients HTTP/1.1\" 200 18958\n",
      "2020-02-18 12:19:04 [scrapy.core.scraper] ERROR: Spider error processing <GET https://www.mckinsey.com/business-functions/operations/how-we-help-clients> (referer: None)\n",
      "Traceback (most recent call last):\n",
      "  File \"D:\\ProgramData\\Anaconda3\\lib\\site-packages\\twisted\\internet\\defer.py\", line 654, in _runCallbacks\n",
      "    current.result = callback(current.result, *args, **kw)\n",
      "  File \"<ipython-input-122-8fc83100377c>\", line 37, in parse\n",
      "    content_type = re.findall(conttype_regex, page_script)[0]\n",
      "IndexError: list index out of range\n",
      "2020-02-18 12:19:04 [scrapy.core.engine] DEBUG: Crawled (200) <GET https://www.mckinsey.com/industries/financial-services/our-insights/digital-insurance-in-2018-driving-real-impact-with-digital-and-analytics> (referer: None)\n",
      "2020-02-18 12:19:04 [scrapy.core.engine] DEBUG: Crawled (200) <GET https://www.mckinsey.com/our-people/sajal-kohli> (referer: None)\n",
      "2020-02-18 12:19:04 [scrapy.core.engine] DEBUG: Crawled (200) <GET https://www.mckinsey.com/business-functions/mckinsey-digital/our-insights> (referer: None)\n",
      "2020-02-18 12:19:04 [urllib3.connectionpool] DEBUG: Starting new HTTPS connection (1): www.mckinsey.com:443\n"
     ]
    },
    {
     "name": "stdout",
     "output_type": "stream",
     "text": [
      "https://www.mckinsey.com/se/our-insights\n"
     ]
    },
    {
     "name": "stderr",
     "output_type": "stream",
     "text": [
      "2020-02-18 12:19:05 [urllib3.connectionpool] DEBUG: https://www.mckinsey.com:443 \"GET /se/our-insights HTTP/1.1\" 200 18468\n",
      "2020-02-18 12:19:05 [scrapy.core.scraper] ERROR: Spider error processing <GET https://www.mckinsey.com/se/our-insights> (referer: None)\n",
      "Traceback (most recent call last):\n",
      "  File \"D:\\ProgramData\\Anaconda3\\lib\\site-packages\\twisted\\internet\\defer.py\", line 654, in _runCallbacks\n",
      "    current.result = callback(current.result, *args, **kw)\n",
      "  File \"<ipython-input-122-8fc83100377c>\", line 37, in parse\n",
      "    content_type = re.findall(conttype_regex, page_script)[0]\n",
      "IndexError: list index out of range\n",
      "2020-02-18 12:19:05 [urllib3.connectionpool] DEBUG: Starting new HTTPS connection (1): www.mckinsey.com:443\n"
     ]
    },
    {
     "name": "stdout",
     "output_type": "stream",
     "text": [
      "https://www.mckinsey.com/our-people/tera-allas\n"
     ]
    },
    {
     "name": "stderr",
     "output_type": "stream",
     "text": [
      "2020-02-18 12:19:06 [urllib3.connectionpool] DEBUG: https://www.mckinsey.com:443 \"GET /our-people/tera-allas HTTP/1.1\" 200 15941\n",
      "2020-02-18 12:19:06 [urllib3.connectionpool] DEBUG: Starting new HTTPS connection (1): www.mckinsey.com:443\n"
     ]
    },
    {
     "name": "stdout",
     "output_type": "stream",
     "text": [
      "https://www.mckinsey.com/our-people/vincent-berube\n"
     ]
    },
    {
     "name": "stderr",
     "output_type": "stream",
     "text": [
      "2020-02-18 12:19:07 [urllib3.connectionpool] DEBUG: https://www.mckinsey.com:443 \"GET /our-people/vincent-berube HTTP/1.1\" 200 14583\n",
      "2020-02-18 12:19:07 [urllib3.connectionpool] DEBUG: Starting new HTTPS connection (1): www.mckinsey.com:443\n"
     ]
    },
    {
     "name": "stdout",
     "output_type": "stream",
     "text": [
      "https://www.mckinsey.com/industries/public-sector/our-insights\n"
     ]
    },
    {
     "name": "stderr",
     "output_type": "stream",
     "text": [
      "2020-02-18 12:19:08 [urllib3.connectionpool] DEBUG: https://www.mckinsey.com:443 \"GET /industries/public-sector/our-insights HTTP/1.1\" 200 17749\n",
      "2020-02-18 12:19:08 [scrapy.core.scraper] ERROR: Spider error processing <GET https://www.mckinsey.com/industries/public-sector/our-insights> (referer: None)\n",
      "Traceback (most recent call last):\n",
      "  File \"D:\\ProgramData\\Anaconda3\\lib\\site-packages\\twisted\\internet\\defer.py\", line 654, in _runCallbacks\n",
      "    current.result = callback(current.result, *args, **kw)\n",
      "  File \"<ipython-input-122-8fc83100377c>\", line 37, in parse\n",
      "    content_type = re.findall(conttype_regex, page_script)[0]\n",
      "IndexError: list index out of range\n",
      "2020-02-18 12:19:08 [urllib3.connectionpool] DEBUG: Starting new HTTPS connection (1): www.mckinsey.com:443\n"
     ]
    },
    {
     "name": "stdout",
     "output_type": "stream",
     "text": [
      "https://www.mckinsey.com/industries/agriculture/how-we-help-clients/acre\n"
     ]
    },
    {
     "name": "stderr",
     "output_type": "stream",
     "text": [
      "2020-02-18 12:19:09 [urllib3.connectionpool] DEBUG: https://www.mckinsey.com:443 \"GET /industries/agriculture/how-we-help-clients/acre HTTP/1.1\" 200 15789\n",
      "2020-02-18 12:19:09 [scrapy.core.scraper] ERROR: Spider error processing <GET https://www.mckinsey.com/industries/agriculture/how-we-help-clients/acre> (referer: None)\n",
      "Traceback (most recent call last):\n",
      "  File \"D:\\ProgramData\\Anaconda3\\lib\\site-packages\\twisted\\internet\\defer.py\", line 654, in _runCallbacks\n",
      "    current.result = callback(current.result, *args, **kw)\n",
      "  File \"<ipython-input-122-8fc83100377c>\", line 37, in parse\n",
      "    content_type = re.findall(conttype_regex, page_script)[0]\n",
      "IndexError: list index out of range\n",
      "2020-02-18 12:19:09 [scrapy.core.engine] DEBUG: Crawled (200) <GET https://www.mckinsey.com/uk> (referer: None)\n",
      "2020-02-18 12:19:09 [scrapy.core.engine] DEBUG: Crawled (200) <GET https://www.mckinsey.com/our-people/jeongmin-seong> (referer: None)\n",
      "2020-02-18 12:19:09 [urllib3.connectionpool] DEBUG: Starting new HTTPS connection (1): www.mckinsey.com:443\n"
     ]
    },
    {
     "name": "stdout",
     "output_type": "stream",
     "text": [
      "https://www.mckinsey.com/industries/financial-services/our-insights/digital-insurance-in-2018-driving-real-impact-with-digital-and-analytics\n"
     ]
    },
    {
     "name": "stderr",
     "output_type": "stream",
     "text": [
      "2020-02-18 12:19:10 [urllib3.connectionpool] DEBUG: https://www.mckinsey.com:443 \"GET /industries/financial-services/our-insights/digital-insurance-in-2018-driving-real-impact-with-digital-and-analytics HTTP/1.1\" 200 20230\n",
      "2020-02-18 12:19:10 [urllib3.connectionpool] DEBUG: Starting new HTTPS connection (1): www.mckinsey.com:443\n"
     ]
    },
    {
     "name": "stdout",
     "output_type": "stream",
     "text": [
      "https://www.mckinsey.com/our-people/sajal-kohli\n"
     ]
    },
    {
     "name": "stderr",
     "output_type": "stream",
     "text": [
      "2020-02-18 12:19:11 [urllib3.connectionpool] DEBUG: https://www.mckinsey.com:443 \"GET /our-people/sajal-kohli HTTP/1.1\" 200 16136\n",
      "2020-02-18 12:19:11 [urllib3.connectionpool] DEBUG: Starting new HTTPS connection (1): www.mckinsey.com:443\n"
     ]
    },
    {
     "name": "stdout",
     "output_type": "stream",
     "text": [
      "https://www.mckinsey.com/business-functions/mckinsey-digital/our-insights\n"
     ]
    },
    {
     "name": "stderr",
     "output_type": "stream",
     "text": [
      "2020-02-18 12:19:12 [urllib3.connectionpool] DEBUG: https://www.mckinsey.com:443 \"GET /business-functions/mckinsey-digital/our-insights HTTP/1.1\" 200 18004\n",
      "2020-02-18 12:19:12 [scrapy.core.scraper] ERROR: Spider error processing <GET https://www.mckinsey.com/business-functions/mckinsey-digital/our-insights> (referer: None)\n",
      "Traceback (most recent call last):\n",
      "  File \"D:\\ProgramData\\Anaconda3\\lib\\site-packages\\twisted\\internet\\defer.py\", line 654, in _runCallbacks\n",
      "    current.result = callback(current.result, *args, **kw)\n",
      "  File \"<ipython-input-122-8fc83100377c>\", line 37, in parse\n",
      "    content_type = re.findall(conttype_regex, page_script)[0]\n",
      "IndexError: list index out of range\n",
      "2020-02-18 12:19:12 [scrapy.extensions.logstats] INFO: Crawled 224 pages (at 60 pages/min), scraped 0 items (at 0 items/min)\n",
      "2020-02-18 12:19:12 [scrapy.core.engine] DEBUG: Crawled (200) <GET https://www.mckinsey.com/our-people/nick-santhanam> (referer: None)\n",
      "2020-02-18 12:19:12 [urllib3.connectionpool] DEBUG: Starting new HTTPS connection (1): www.mckinsey.com:443\n"
     ]
    },
    {
     "name": "stdout",
     "output_type": "stream",
     "text": [
      "https://www.mckinsey.com/uk\n"
     ]
    },
    {
     "name": "stderr",
     "output_type": "stream",
     "text": [
      "2020-02-18 12:19:13 [urllib3.connectionpool] DEBUG: https://www.mckinsey.com:443 \"GET /uk HTTP/1.1\" 200 18981\n",
      "2020-02-18 12:19:13 [scrapy.core.scraper] ERROR: Spider error processing <GET https://www.mckinsey.com/uk> (referer: None)\n",
      "Traceback (most recent call last):\n",
      "  File \"D:\\ProgramData\\Anaconda3\\lib\\site-packages\\twisted\\internet\\defer.py\", line 654, in _runCallbacks\n",
      "    current.result = callback(current.result, *args, **kw)\n",
      "  File \"<ipython-input-122-8fc83100377c>\", line 37, in parse\n",
      "    content_type = re.findall(conttype_regex, page_script)[0]\n",
      "IndexError: list index out of range\n",
      "2020-02-18 12:19:13 [urllib3.connectionpool] DEBUG: Starting new HTTPS connection (1): www.mckinsey.com:443\n"
     ]
    },
    {
     "name": "stdout",
     "output_type": "stream",
     "text": [
      "https://www.mckinsey.com/our-people/jeongmin-seong\n"
     ]
    },
    {
     "name": "stderr",
     "output_type": "stream",
     "text": [
      "2020-02-18 12:19:14 [urllib3.connectionpool] DEBUG: https://www.mckinsey.com:443 \"GET /our-people/jeongmin-seong HTTP/1.1\" 200 16053\n",
      "2020-02-18 12:19:14 [scrapy.core.engine] DEBUG: Crawled (200) <GET https://www.mckinsey.com/our-people/jorgen-rugholm> (referer: None)\n",
      "2020-02-18 12:19:14 [urllib3.connectionpool] DEBUG: Starting new HTTPS connection (1): www.mckinsey.com:443\n"
     ]
    },
    {
     "name": "stdout",
     "output_type": "stream",
     "text": [
      "https://www.mckinsey.com/our-people/nick-santhanam\n"
     ]
    },
    {
     "name": "stderr",
     "output_type": "stream",
     "text": [
      "2020-02-18 12:19:16 [urllib3.connectionpool] DEBUG: https://www.mckinsey.com:443 \"GET /our-people/nick-santhanam HTTP/1.1\" 200 16704\n",
      "2020-02-18 12:19:16 [scrapy.core.engine] DEBUG: Crawled (200) <GET https://www.mckinsey.com/our-people/eric-hazan> (referer: None)\n",
      "2020-02-18 12:19:16 [urllib3.connectionpool] DEBUG: Starting new HTTPS connection (1): www.mckinsey.com:443\n"
     ]
    },
    {
     "name": "stdout",
     "output_type": "stream",
     "text": [
      "https://www.mckinsey.com/our-people/jorgen-rugholm\n"
     ]
    },
    {
     "name": "stderr",
     "output_type": "stream",
     "text": [
      "2020-02-18 12:19:17 [urllib3.connectionpool] DEBUG: https://www.mckinsey.com:443 \"GET /our-people/jorgen-rugholm HTTP/1.1\" 200 14165\n",
      "2020-02-18 12:19:17 [scrapy.core.engine] DEBUG: Crawled (200) <GET https://www.mckinsey.com/business-functions/organization/our-insights/the-organization-blog/are-hard-and-soft-skills-rewarded-equally> (referer: None)\n",
      "2020-02-18 12:19:17 [urllib3.connectionpool] DEBUG: Starting new HTTPS connection (1): www.mckinsey.com:443\n"
     ]
    },
    {
     "name": "stdout",
     "output_type": "stream",
     "text": [
      "https://www.mckinsey.com/our-people/eric-hazan\n"
     ]
    },
    {
     "name": "stderr",
     "output_type": "stream",
     "text": [
      "2020-02-18 12:19:18 [urllib3.connectionpool] DEBUG: https://www.mckinsey.com:443 \"GET /our-people/eric-hazan HTTP/1.1\" 200 16355\n",
      "2020-02-18 12:19:18 [scrapy.core.engine] DEBUG: Crawled (200) <GET https://www.mckinsey.com/business-functions/mckinsey-analytics/our-insights/mckinsey-quarterly-2017-number-4-overview-and-full-issue> (referer: None)\n",
      "2020-02-18 12:19:18 [urllib3.connectionpool] DEBUG: Starting new HTTPS connection (1): www.mckinsey.com:443\n"
     ]
    },
    {
     "name": "stdout",
     "output_type": "stream",
     "text": [
      "https://www.mckinsey.com/business-functions/organization/our-insights/the-organization-blog/are-hard-and-soft-skills-rewarded-equally\n"
     ]
    },
    {
     "name": "stderr",
     "output_type": "stream",
     "text": [
      "2020-02-18 12:19:18 [urllib3.connectionpool] DEBUG: https://www.mckinsey.com:443 \"GET /business-functions/organization/our-insights/the-organization-blog/are-hard-and-soft-skills-rewarded-equally HTTP/1.1\" 200 14274\n",
      "2020-02-18 12:19:18 [scrapy.core.scraper] ERROR: Spider error processing <GET https://www.mckinsey.com/business-functions/organization/our-insights/the-organization-blog/are-hard-and-soft-skills-rewarded-equally> (referer: None)\n",
      "Traceback (most recent call last):\n",
      "  File \"D:\\ProgramData\\Anaconda3\\lib\\site-packages\\twisted\\internet\\defer.py\", line 654, in _runCallbacks\n",
      "    current.result = callback(current.result, *args, **kw)\n",
      "  File \"<ipython-input-122-8fc83100377c>\", line 37, in parse\n",
      "    content_type = re.findall(conttype_regex, page_script)[0]\n",
      "IndexError: list index out of range\n",
      "2020-02-18 12:19:18 [urllib3.connectionpool] DEBUG: Starting new HTTPS connection (1): www.mckinsey.com:443\n"
     ]
    },
    {
     "name": "stdout",
     "output_type": "stream",
     "text": [
      "https://www.mckinsey.com/business-functions/mckinsey-analytics/our-insights/mckinsey-quarterly-2017-number-4-overview-and-full-issue\n"
     ]
    },
    {
     "name": "stderr",
     "output_type": "stream",
     "text": [
      "2020-02-18 12:19:19 [urllib3.connectionpool] DEBUG: https://www.mckinsey.com:443 \"GET /business-functions/mckinsey-analytics/our-insights/mckinsey-quarterly-2017-number-4-overview-and-full-issue HTTP/1.1\" 200 15252\n",
      "2020-02-18 12:19:19 [scrapy.core.engine] DEBUG: Crawled (200) <GET https://www.mckinsey.com/industries/healthcare-systems-and-services/our-people> (referer: None)\n",
      "2020-02-18 12:19:19 [scrapy.core.engine] DEBUG: Crawled (200) <GET https://www.mckinsey.com/our-people/boris-kors> (referer: None)\n",
      "2020-02-18 12:19:19 [urllib3.connectionpool] DEBUG: Starting new HTTPS connection (1): www.mckinsey.com:443\n"
     ]
    },
    {
     "name": "stdout",
     "output_type": "stream",
     "text": [
      "https://www.mckinsey.com/industries/healthcare-systems-and-services/our-people\n"
     ]
    },
    {
     "name": "stderr",
     "output_type": "stream",
     "text": [
      "2020-02-18 12:19:19 [urllib3.connectionpool] DEBUG: https://www.mckinsey.com:443 \"GET /industries/healthcare-systems-and-services/our-people HTTP/1.1\" 200 22269\n",
      "2020-02-18 12:19:19 [scrapy.core.scraper] ERROR: Spider error processing <GET https://www.mckinsey.com/industries/healthcare-systems-and-services/our-people> (referer: None)\n",
      "Traceback (most recent call last):\n",
      "  File \"D:\\ProgramData\\Anaconda3\\lib\\site-packages\\twisted\\internet\\defer.py\", line 654, in _runCallbacks\n",
      "    current.result = callback(current.result, *args, **kw)\n",
      "  File \"<ipython-input-122-8fc83100377c>\", line 37, in parse\n",
      "    content_type = re.findall(conttype_regex, page_script)[0]\n",
      "IndexError: list index out of range\n",
      "2020-02-18 12:19:19 [urllib3.connectionpool] DEBUG: Starting new HTTPS connection (1): www.mckinsey.com:443\n"
     ]
    },
    {
     "name": "stdout",
     "output_type": "stream",
     "text": [
      "https://www.mckinsey.com/our-people/boris-kors\n"
     ]
    },
    {
     "name": "stderr",
     "output_type": "stream",
     "text": [
      "2020-02-18 12:19:20 [urllib3.connectionpool] DEBUG: https://www.mckinsey.com:443 \"GET /our-people/boris-kors HTTP/1.1\" 200 14510\n",
      "2020-02-18 12:19:20 [scrapy.core.engine] DEBUG: Crawled (200) <GET https://www.mckinsey.com/business-functions/strategy-and-corporate-finance/our-insights/mckinsey-quarterly-50th-anniversary-edition-overview> (referer: None)\n",
      "2020-02-18 12:19:20 [scrapy.core.engine] DEBUG: Crawled (200) <GET https://www.mckinsey.com/uk/our-insights> (referer: None)\n",
      "2020-02-18 12:19:20 [scrapy.core.engine] DEBUG: Crawled (200) <GET https://www.mckinsey.com/business-functions/mckinsey-digital/our-insights/digital-blog/author/nicolaus-henke> (referer: None)\n",
      "2020-02-18 12:19:20 [scrapy.core.engine] DEBUG: Crawled (200) <GET https://www.mckinsey.com/industries/healthcare-systems-and-services/our-insights/for-better-healthcare-claims-management-think-digital-first> (referer: None)\n",
      "2020-02-18 12:19:20 [scrapy.core.engine] DEBUG: Crawled (200) <GET https://www.mckinsey.com/business-functions/operations/how-we-help-clients/service-operations/digitizing-operations> (referer: None)\n",
      "2020-02-18 12:19:20 [scrapy.core.engine] DEBUG: Crawled (200) <GET https://www.mckinsey.com/business-functions/operations/our-insights/winning-the-expectations-game-in-customer-care> (referer: None)\n",
      "2020-02-18 12:19:20 [scrapy.core.engine] DEBUG: Crawled (200) <GET https://www.mckinsey.com/our-people/jason-bello> (referer: None)\n",
      "2020-02-18 12:19:20 [scrapy.core.engine] DEBUG: Crawled (200) <GET https://www.mckinsey.com/featured-insights/mckinsey-podcast> (referer: None)\n",
      "2020-02-18 12:19:20 [urllib3.connectionpool] DEBUG: Starting new HTTPS connection (1): www.mckinsey.com:443\n"
     ]
    },
    {
     "name": "stdout",
     "output_type": "stream",
     "text": [
      "https://www.mckinsey.com/business-functions/strategy-and-corporate-finance/our-insights/mckinsey-quarterly-50th-anniversary-edition-overview\n"
     ]
    },
    {
     "name": "stderr",
     "output_type": "stream",
     "text": [
      "2020-02-18 12:19:21 [urllib3.connectionpool] DEBUG: https://www.mckinsey.com:443 \"GET /business-functions/strategy-and-corporate-finance/our-insights/mckinsey-quarterly-50th-anniversary-edition-overview HTTP/1.1\" 200 17031\n",
      "2020-02-18 12:19:21 [scrapy.core.engine] DEBUG: Crawled (200) <GET https://www.mckinsey.com/business-functions/mckinsey-analytics/our-people> (referer: None)\n",
      "2020-02-18 12:19:21 [scrapy.core.engine] DEBUG: Crawled (200) <GET https://www.mckinsey.com/business-functions/marketing-and-sales/our-insights/why-salespeople-need-to-develop-machine-intelligence> (referer: None)\n",
      "2020-02-18 12:19:21 [urllib3.connectionpool] DEBUG: Starting new HTTPS connection (1): www.mckinsey.com:443\n"
     ]
    },
    {
     "name": "stdout",
     "output_type": "stream",
     "text": [
      "https://www.mckinsey.com/uk/our-insights\n"
     ]
    },
    {
     "name": "stderr",
     "output_type": "stream",
     "text": [
      "2020-02-18 12:19:22 [urllib3.connectionpool] DEBUG: https://www.mckinsey.com:443 \"GET /uk/our-insights HTTP/1.1\" 200 18091\n",
      "2020-02-18 12:19:22 [scrapy.core.scraper] ERROR: Spider error processing <GET https://www.mckinsey.com/uk/our-insights> (referer: None)\n",
      "Traceback (most recent call last):\n",
      "  File \"D:\\ProgramData\\Anaconda3\\lib\\site-packages\\twisted\\internet\\defer.py\", line 654, in _runCallbacks\n",
      "    current.result = callback(current.result, *args, **kw)\n",
      "  File \"<ipython-input-122-8fc83100377c>\", line 37, in parse\n",
      "    content_type = re.findall(conttype_regex, page_script)[0]\n",
      "IndexError: list index out of range\n",
      "2020-02-18 12:19:22 [urllib3.connectionpool] DEBUG: Starting new HTTPS connection (1): www.mckinsey.com:443\n"
     ]
    },
    {
     "name": "stdout",
     "output_type": "stream",
     "text": [
      "https://www.mckinsey.com/business-functions/mckinsey-digital/our-insights/digital-blog/author/nicolaus-henke\n"
     ]
    },
    {
     "name": "stderr",
     "output_type": "stream",
     "text": [
      "2020-02-18 12:19:23 [urllib3.connectionpool] DEBUG: https://www.mckinsey.com:443 \"GET /business-functions/mckinsey-digital/our-insights/digital-blog/author/nicolaus-henke HTTP/1.1\" 200 10570\n",
      "2020-02-18 12:19:23 [scrapy.core.scraper] ERROR: Spider error processing <GET https://www.mckinsey.com/business-functions/mckinsey-digital/our-insights/digital-blog/author/nicolaus-henke> (referer: None)\n",
      "Traceback (most recent call last):\n",
      "  File \"D:\\ProgramData\\Anaconda3\\lib\\site-packages\\twisted\\internet\\defer.py\", line 654, in _runCallbacks\n",
      "    current.result = callback(current.result, *args, **kw)\n",
      "  File \"<ipython-input-122-8fc83100377c>\", line 37, in parse\n",
      "    content_type = re.findall(conttype_regex, page_script)[0]\n",
      "IndexError: list index out of range\n",
      "2020-02-18 12:19:23 [urllib3.connectionpool] DEBUG: Starting new HTTPS connection (1): www.mckinsey.com:443\n"
     ]
    },
    {
     "name": "stdout",
     "output_type": "stream",
     "text": [
      "https://www.mckinsey.com/industries/healthcare-systems-and-services/our-insights/for-better-healthcare-claims-management-think-digital-first\n"
     ]
    },
    {
     "name": "stderr",
     "output_type": "stream",
     "text": [
      "2020-02-18 12:19:23 [urllib3.connectionpool] DEBUG: https://www.mckinsey.com:443 \"GET /industries/healthcare-systems-and-services/our-insights/for-better-healthcare-claims-management-think-digital-first HTTP/1.1\" 200 22926\n",
      "2020-02-18 12:19:24 [urllib3.connectionpool] DEBUG: Starting new HTTPS connection (1): www.mckinsey.com:443\n"
     ]
    },
    {
     "name": "stdout",
     "output_type": "stream",
     "text": [
      "https://www.mckinsey.com/business-functions/operations/how-we-help-clients/service-operations/digitizing-operations\n"
     ]
    },
    {
     "name": "stderr",
     "output_type": "stream",
     "text": [
      "2020-02-18 12:19:25 [urllib3.connectionpool] DEBUG: https://www.mckinsey.com:443 \"GET /business-functions/operations/how-we-help-clients/service-operations/digitizing-operations HTTP/1.1\" 200 20140\n",
      "2020-02-18 12:19:25 [scrapy.core.scraper] ERROR: Spider error processing <GET https://www.mckinsey.com/business-functions/operations/how-we-help-clients/service-operations/digitizing-operations> (referer: None)\n",
      "Traceback (most recent call last):\n",
      "  File \"D:\\ProgramData\\Anaconda3\\lib\\site-packages\\twisted\\internet\\defer.py\", line 654, in _runCallbacks\n",
      "    current.result = callback(current.result, *args, **kw)\n",
      "  File \"<ipython-input-122-8fc83100377c>\", line 41, in parse\n",
      "    page_date = re.findall(date_regex, page_script)[0]\n",
      "IndexError: list index out of range\n",
      "2020-02-18 12:19:25 [urllib3.connectionpool] DEBUG: Starting new HTTPS connection (1): www.mckinsey.com:443\n"
     ]
    },
    {
     "name": "stdout",
     "output_type": "stream",
     "text": [
      "https://www.mckinsey.com/business-functions/operations/our-insights/winning-the-expectations-game-in-customer-care\n"
     ]
    },
    {
     "name": "stderr",
     "output_type": "stream",
     "text": [
      "2020-02-18 12:19:26 [urllib3.connectionpool] DEBUG: https://www.mckinsey.com:443 \"GET /business-functions/operations/our-insights/winning-the-expectations-game-in-customer-care HTTP/1.1\" 200 22457\n",
      "2020-02-18 12:19:26 [urllib3.connectionpool] DEBUG: Starting new HTTPS connection (1): www.mckinsey.com:443\n"
     ]
    },
    {
     "name": "stdout",
     "output_type": "stream",
     "text": [
      "https://www.mckinsey.com/our-people/jason-bello\n"
     ]
    },
    {
     "name": "stderr",
     "output_type": "stream",
     "text": [
      "2020-02-18 12:19:27 [urllib3.connectionpool] DEBUG: https://www.mckinsey.com:443 \"GET /our-people/jason-bello HTTP/1.1\" 200 14493\n",
      "2020-02-18 12:19:27 [urllib3.connectionpool] DEBUG: Starting new HTTPS connection (1): www.mckinsey.com:443\n"
     ]
    },
    {
     "name": "stdout",
     "output_type": "stream",
     "text": [
      "https://www.mckinsey.com/featured-insights/mckinsey-podcast\n"
     ]
    },
    {
     "name": "stderr",
     "output_type": "stream",
     "text": [
      "2020-02-18 12:19:28 [urllib3.connectionpool] DEBUG: https://www.mckinsey.com:443 \"GET /featured-insights/mckinsey-podcast HTTP/1.1\" 200 19760\n",
      "2020-02-18 12:19:28 [scrapy.core.scraper] ERROR: Spider error processing <GET https://www.mckinsey.com/featured-insights/mckinsey-podcast> (referer: None)\n",
      "Traceback (most recent call last):\n",
      "  File \"D:\\ProgramData\\Anaconda3\\lib\\site-packages\\twisted\\internet\\defer.py\", line 654, in _runCallbacks\n",
      "    current.result = callback(current.result, *args, **kw)\n",
      "  File \"<ipython-input-122-8fc83100377c>\", line 37, in parse\n",
      "    content_type = re.findall(conttype_regex, page_script)[0]\n",
      "IndexError: list index out of range\n",
      "2020-02-18 12:19:28 [scrapy.core.engine] DEBUG: Crawled (200) <GET https://www.mckinsey.com/industries/pharmaceuticals-and-medical-products/how-we-help-clients/medtech/productivity-agility-and-automation> (referer: None)\n",
      "2020-02-18 12:19:28 [scrapy.core.engine] DEBUG: Crawled (200) <GET https://www.mckinsey.com/our-people/ankur-ghia> (referer: None)\n",
      "2020-02-18 12:19:28 [scrapy.core.engine] DEBUG: Crawled (200) <GET https://www.mckinsey.com/industries/pharmaceuticals-and-medical-products/our-insights/machine-learning-and-therapeutics-2-0-avoiding-hype-realizing-potential> (referer: None)\n",
      "2020-02-18 12:19:28 [scrapy.core.engine] DEBUG: Crawled (200) <GET https://www.mckinsey.com/mgi/overview/in-the-news/how-the-future-of-work-may-unfold-a-corporate> (referer: None)\n",
      "2020-02-18 12:19:28 [scrapy.core.engine] DEBUG: Crawled (200) <GET https://www.mckinsey.com/our-people/michihiko-kurokawa> (referer: None)\n",
      "2020-02-18 12:19:28 [scrapy.core.engine] DEBUG: Crawled (200) <GET https://www.mckinsey.com/business-functions/mckinsey-digital/our-insights/four-fundamentals-of-workplace-automation> (referer: None)\n",
      "2020-02-18 12:19:28 [urllib3.connectionpool] DEBUG: Starting new HTTPS connection (1): www.mckinsey.com:443\n"
     ]
    },
    {
     "name": "stdout",
     "output_type": "stream",
     "text": [
      "https://www.mckinsey.com/business-functions/mckinsey-analytics/our-people\n"
     ]
    },
    {
     "name": "stderr",
     "output_type": "stream",
     "text": [
      "2020-02-18 12:19:28 [urllib3.connectionpool] DEBUG: https://www.mckinsey.com:443 \"GET /business-functions/mckinsey-analytics/our-people HTTP/1.1\" 200 16169\n",
      "2020-02-18 12:19:28 [scrapy.core.scraper] ERROR: Spider error processing <GET https://www.mckinsey.com/business-functions/mckinsey-analytics/our-people> (referer: None)\n",
      "Traceback (most recent call last):\n",
      "  File \"D:\\ProgramData\\Anaconda3\\lib\\site-packages\\twisted\\internet\\defer.py\", line 654, in _runCallbacks\n",
      "    current.result = callback(current.result, *args, **kw)\n",
      "  File \"<ipython-input-122-8fc83100377c>\", line 37, in parse\n",
      "    content_type = re.findall(conttype_regex, page_script)[0]\n",
      "IndexError: list index out of range\n",
      "2020-02-18 12:19:28 [urllib3.connectionpool] DEBUG: Starting new HTTPS connection (1): www.mckinsey.com:443\n"
     ]
    },
    {
     "name": "stdout",
     "output_type": "stream",
     "text": [
      "https://www.mckinsey.com/business-functions/marketing-and-sales/our-insights/why-salespeople-need-to-develop-machine-intelligence\n"
     ]
    },
    {
     "name": "stderr",
     "output_type": "stream",
     "text": [
      "2020-02-18 12:19:30 [urllib3.connectionpool] DEBUG: https://www.mckinsey.com:443 \"GET /business-functions/marketing-and-sales/our-insights/why-salespeople-need-to-develop-machine-intelligence HTTP/1.1\" 200 13643\n",
      "2020-02-18 12:19:30 [scrapy.core.engine] DEBUG: Crawled (200) <GET https://www.mckinsey.com/industries/financial-services/our-insights/data-sheet-advanced-analytics> (referer: None)\n",
      "2020-02-18 12:19:30 [scrapy.core.engine] DEBUG: Crawled (200) <GET https://www.mckinsey.com/business-functions/operations/how-we-help-clients/capability-center-network/our-centers/gurugram> (referer: None)\n",
      "2020-02-18 12:19:30 [urllib3.connectionpool] DEBUG: Starting new HTTPS connection (1): www.mckinsey.com:443\n"
     ]
    },
    {
     "name": "stdout",
     "output_type": "stream",
     "text": [
      "https://www.mckinsey.com/industries/pharmaceuticals-and-medical-products/how-we-help-clients/medtech/productivity-agility-and-automation\n"
     ]
    },
    {
     "name": "stderr",
     "output_type": "stream",
     "text": [
      "2020-02-18 12:19:31 [urllib3.connectionpool] DEBUG: https://www.mckinsey.com:443 \"GET /industries/pharmaceuticals-and-medical-products/how-we-help-clients/medtech/productivity-agility-and-automation HTTP/1.1\" 200 16302\n",
      "2020-02-18 12:19:31 [scrapy.core.scraper] ERROR: Spider error processing <GET https://www.mckinsey.com/industries/pharmaceuticals-and-medical-products/how-we-help-clients/medtech/productivity-agility-and-automation> (referer: None)\n",
      "Traceback (most recent call last):\n",
      "  File \"D:\\ProgramData\\Anaconda3\\lib\\site-packages\\twisted\\internet\\defer.py\", line 654, in _runCallbacks\n",
      "    current.result = callback(current.result, *args, **kw)\n",
      "  File \"<ipython-input-122-8fc83100377c>\", line 37, in parse\n",
      "    content_type = re.findall(conttype_regex, page_script)[0]\n",
      "IndexError: list index out of range\n",
      "2020-02-18 12:19:31 [urllib3.connectionpool] DEBUG: Starting new HTTPS connection (1): www.mckinsey.com:443\n"
     ]
    },
    {
     "name": "stdout",
     "output_type": "stream",
     "text": [
      "https://www.mckinsey.com/our-people/ankur-ghia\n"
     ]
    },
    {
     "name": "stderr",
     "output_type": "stream",
     "text": [
      "2020-02-18 12:19:32 [urllib3.connectionpool] DEBUG: https://www.mckinsey.com:443 \"GET /our-people/ankur-ghia HTTP/1.1\" 200 14450\n",
      "2020-02-18 12:19:32 [urllib3.connectionpool] DEBUG: Starting new HTTPS connection (1): www.mckinsey.com:443\n"
     ]
    },
    {
     "name": "stdout",
     "output_type": "stream",
     "text": [
      "https://www.mckinsey.com/industries/pharmaceuticals-and-medical-products/our-insights/machine-learning-and-therapeutics-2-0-avoiding-hype-realizing-potential\n"
     ]
    },
    {
     "name": "stderr",
     "output_type": "stream",
     "text": [
      "2020-02-18 12:19:32 [urllib3.connectionpool] DEBUG: https://www.mckinsey.com:443 \"GET /industries/pharmaceuticals-and-medical-products/our-insights/machine-learning-and-therapeutics-2-0-avoiding-hype-realizing-potential HTTP/1.1\" 200 23159\n",
      "2020-02-18 12:19:32 [urllib3.connectionpool] DEBUG: Starting new HTTPS connection (1): www.mckinsey.com:443\n"
     ]
    },
    {
     "name": "stdout",
     "output_type": "stream",
     "text": [
      "https://www.mckinsey.com/mgi/overview/in-the-news/how-the-future-of-work-may-unfold-a-corporate\n"
     ]
    },
    {
     "name": "stderr",
     "output_type": "stream",
     "text": [
      "2020-02-18 12:19:33 [urllib3.connectionpool] DEBUG: https://www.mckinsey.com:443 \"GET /mgi/overview/in-the-news/how-the-future-of-work-may-unfold-a-corporate HTTP/1.1\" 200 15518\n",
      "2020-02-18 12:19:33 [urllib3.connectionpool] DEBUG: Starting new HTTPS connection (1): www.mckinsey.com:443\n"
     ]
    },
    {
     "name": "stdout",
     "output_type": "stream",
     "text": [
      "https://www.mckinsey.com/our-people/michihiko-kurokawa\n"
     ]
    },
    {
     "name": "stderr",
     "output_type": "stream",
     "text": [
      "2020-02-18 12:19:34 [urllib3.connectionpool] DEBUG: https://www.mckinsey.com:443 \"GET /our-people/michihiko-kurokawa HTTP/1.1\" 200 14074\n",
      "2020-02-18 12:19:34 [urllib3.connectionpool] DEBUG: Starting new HTTPS connection (1): www.mckinsey.com:443\n"
     ]
    },
    {
     "name": "stdout",
     "output_type": "stream",
     "text": [
      "https://www.mckinsey.com/business-functions/mckinsey-digital/our-insights/four-fundamentals-of-workplace-automation\n"
     ]
    },
    {
     "name": "stderr",
     "output_type": "stream",
     "text": [
      "2020-02-18 12:19:34 [urllib3.connectionpool] DEBUG: https://www.mckinsey.com:443 \"GET /business-functions/mckinsey-digital/our-insights/four-fundamentals-of-workplace-automation HTTP/1.1\" 200 21090\n",
      "2020-02-18 12:19:34 [scrapy.core.engine] DEBUG: Crawled (200) <GET https://www.mckinsey.com/our-people/rahul-mangla> (referer: None)\n",
      "2020-02-18 12:19:34 [scrapy.core.engine] DEBUG: Crawled (200) <GET https://www.mckinsey.com/our-people/kushe-bahl> (referer: None)\n",
      "2020-02-18 12:19:34 [scrapy.core.engine] DEBUG: Crawled (200) <GET https://www.mckinsey.com/industries/semiconductors/our-insights/reimagining-fabs-advanced-analytics-in-semiconductor-manufacturing> (referer: None)\n",
      "2020-02-18 12:19:34 [scrapy.core.engine] DEBUG: Crawled (200) <GET https://www.mckinsey.com/industries/oil-and-gas/our-insights/the-future-of-hr-in-oil-and-gas> (referer: None)\n",
      "2020-02-18 12:19:34 [scrapy.core.engine] DEBUG: Crawled (200) <GET https://www.mckinsey.com/business-functions/strategy-and-corporate-finance/our-insights/accelerating-the-diffusion-of-technology-enabled-business-practices> (referer: None)\n",
      "2020-02-18 12:19:34 [scrapy.core.engine] DEBUG: Crawled (200) <GET https://www.mckinsey.com/industries/financial-services/how-we-help-clients/panorama/our-insights/chart-of-the-month-june-2018> (referer: None)\n",
      "2020-02-18 12:19:34 [urllib3.connectionpool] DEBUG: Starting new HTTPS connection (1): www.mckinsey.com:443\n"
     ]
    },
    {
     "name": "stdout",
     "output_type": "stream",
     "text": [
      "https://www.mckinsey.com/industries/financial-services/our-insights/data-sheet-advanced-analytics\n"
     ]
    },
    {
     "name": "stderr",
     "output_type": "stream",
     "text": [
      "2020-02-18 12:19:35 [urllib3.connectionpool] DEBUG: https://www.mckinsey.com:443 \"GET /industries/financial-services/our-insights/data-sheet-advanced-analytics HTTP/1.1\" 200 12572\n",
      "2020-02-18 12:19:35 [urllib3.connectionpool] DEBUG: Starting new HTTPS connection (1): www.mckinsey.com:443\n"
     ]
    },
    {
     "name": "stdout",
     "output_type": "stream",
     "text": [
      "https://www.mckinsey.com/business-functions/operations/how-we-help-clients/capability-center-network/our-centers/gurugram\n"
     ]
    },
    {
     "name": "stderr",
     "output_type": "stream",
     "text": [
      "2020-02-18 12:19:36 [urllib3.connectionpool] DEBUG: https://www.mckinsey.com:443 \"GET /business-functions/operations/how-we-help-clients/capability-center-network/our-centers/gurugram HTTP/1.1\" 200 16643\n",
      "2020-02-18 12:19:36 [scrapy.core.scraper] ERROR: Spider error processing <GET https://www.mckinsey.com/business-functions/operations/how-we-help-clients/capability-center-network/our-centers/gurugram> (referer: None)\n",
      "Traceback (most recent call last):\n",
      "  File \"D:\\ProgramData\\Anaconda3\\lib\\site-packages\\twisted\\internet\\defer.py\", line 654, in _runCallbacks\n",
      "    current.result = callback(current.result, *args, **kw)\n",
      "  File \"<ipython-input-122-8fc83100377c>\", line 37, in parse\n",
      "    content_type = re.findall(conttype_regex, page_script)[0]\n",
      "IndexError: list index out of range\n",
      "2020-02-18 12:19:36 [scrapy.core.engine] DEBUG: Crawled (200) <GET https://www.mckinsey.com/business-functions/organization/our-insights/the-organization-blog/how-to-develop-soft-skills> (referer: None)\n",
      "2020-02-18 12:19:36 [scrapy.core.engine] DEBUG: Crawled (200) <GET https://www.mckinsey.com/featured-insights> (referer: None)\n",
      "2020-02-18 12:19:36 [urllib3.connectionpool] DEBUG: Starting new HTTPS connection (1): www.mckinsey.com:443\n"
     ]
    },
    {
     "name": "stdout",
     "output_type": "stream",
     "text": [
      "https://www.mckinsey.com/our-people/rahul-mangla\n"
     ]
    },
    {
     "name": "stderr",
     "output_type": "stream",
     "text": [
      "2020-02-18 12:19:37 [urllib3.connectionpool] DEBUG: https://www.mckinsey.com:443 \"GET /our-people/rahul-mangla HTTP/1.1\" 200 14682\n",
      "2020-02-18 12:19:37 [urllib3.connectionpool] DEBUG: Starting new HTTPS connection (1): www.mckinsey.com:443\n"
     ]
    },
    {
     "name": "stdout",
     "output_type": "stream",
     "text": [
      "https://www.mckinsey.com/our-people/kushe-bahl\n"
     ]
    },
    {
     "name": "stderr",
     "output_type": "stream",
     "text": [
      "2020-02-18 12:19:37 [urllib3.connectionpool] DEBUG: https://www.mckinsey.com:443 \"GET /our-people/kushe-bahl HTTP/1.1\" 200 14040\n",
      "2020-02-18 12:19:37 [urllib3.connectionpool] DEBUG: Starting new HTTPS connection (1): www.mckinsey.com:443\n"
     ]
    },
    {
     "name": "stdout",
     "output_type": "stream",
     "text": [
      "https://www.mckinsey.com/industries/semiconductors/our-insights/reimagining-fabs-advanced-analytics-in-semiconductor-manufacturing\n"
     ]
    },
    {
     "name": "stderr",
     "output_type": "stream",
     "text": [
      "2020-02-18 12:19:38 [urllib3.connectionpool] DEBUG: https://www.mckinsey.com:443 \"GET /industries/semiconductors/our-insights/reimagining-fabs-advanced-analytics-in-semiconductor-manufacturing HTTP/1.1\" 200 23112\n",
      "2020-02-18 12:19:38 [urllib3.connectionpool] DEBUG: Starting new HTTPS connection (1): www.mckinsey.com:443\n"
     ]
    },
    {
     "name": "stdout",
     "output_type": "stream",
     "text": [
      "https://www.mckinsey.com/industries/oil-and-gas/our-insights/the-future-of-hr-in-oil-and-gas\n"
     ]
    },
    {
     "name": "stderr",
     "output_type": "stream",
     "text": [
      "2020-02-18 12:19:39 [urllib3.connectionpool] DEBUG: https://www.mckinsey.com:443 \"GET /industries/oil-and-gas/our-insights/the-future-of-hr-in-oil-and-gas HTTP/1.1\" 200 18780\n",
      "2020-02-18 12:19:39 [urllib3.connectionpool] DEBUG: Starting new HTTPS connection (1): www.mckinsey.com:443\n"
     ]
    },
    {
     "name": "stdout",
     "output_type": "stream",
     "text": [
      "https://www.mckinsey.com/business-functions/strategy-and-corporate-finance/our-insights/accelerating-the-diffusion-of-technology-enabled-business-practices\n"
     ]
    },
    {
     "name": "stderr",
     "output_type": "stream",
     "text": [
      "2020-02-18 12:19:39 [urllib3.connectionpool] DEBUG: https://www.mckinsey.com:443 \"GET /business-functions/strategy-and-corporate-finance/our-insights/accelerating-the-diffusion-of-technology-enabled-business-practices HTTP/1.1\" 200 17715\n",
      "2020-02-18 12:19:39 [urllib3.connectionpool] DEBUG: Starting new HTTPS connection (1): www.mckinsey.com:443\n"
     ]
    },
    {
     "name": "stdout",
     "output_type": "stream",
     "text": [
      "https://www.mckinsey.com/industries/financial-services/how-we-help-clients/panorama/our-insights/chart-of-the-month-june-2018\n"
     ]
    },
    {
     "name": "stderr",
     "output_type": "stream",
     "text": [
      "2020-02-18 12:19:40 [urllib3.connectionpool] DEBUG: https://www.mckinsey.com:443 \"GET /industries/financial-services/how-we-help-clients/panorama/our-insights/chart-of-the-month-june-2018 HTTP/1.1\" 200 14953\n",
      "2020-02-18 12:19:40 [scrapy.core.scraper] ERROR: Spider error processing <GET https://www.mckinsey.com/industries/financial-services/how-we-help-clients/panorama/our-insights/chart-of-the-month-june-2018> (referer: None)\n",
      "Traceback (most recent call last):\n",
      "  File \"D:\\ProgramData\\Anaconda3\\lib\\site-packages\\twisted\\internet\\defer.py\", line 654, in _runCallbacks\n",
      "    current.result = callback(current.result, *args, **kw)\n",
      "  File \"<ipython-input-122-8fc83100377c>\", line 41, in parse\n",
      "    page_date = re.findall(date_regex, page_script)[0]\n",
      "IndexError: list index out of range\n",
      "2020-02-18 12:19:40 [scrapy.core.engine] DEBUG: Crawled (200) <GET https://www.mckinsey.com/mgi/our-research> (referer: None)\n",
      "2020-02-18 12:19:40 [urllib3.connectionpool] DEBUG: Starting new HTTPS connection (1): www.mckinsey.com:443\n"
     ]
    },
    {
     "name": "stdout",
     "output_type": "stream",
     "text": [
      "https://www.mckinsey.com/business-functions/organization/our-insights/the-organization-blog/how-to-develop-soft-skills\n"
     ]
    },
    {
     "name": "stderr",
     "output_type": "stream",
     "text": [
      "2020-02-18 12:19:41 [urllib3.connectionpool] DEBUG: https://www.mckinsey.com:443 \"GET /business-functions/organization/our-insights/the-organization-blog/how-to-develop-soft-skills HTTP/1.1\" 200 14079\n",
      "2020-02-18 12:19:41 [scrapy.core.scraper] ERROR: Spider error processing <GET https://www.mckinsey.com/business-functions/organization/our-insights/the-organization-blog/how-to-develop-soft-skills> (referer: None)\n",
      "Traceback (most recent call last):\n",
      "  File \"D:\\ProgramData\\Anaconda3\\lib\\site-packages\\twisted\\internet\\defer.py\", line 654, in _runCallbacks\n",
      "    current.result = callback(current.result, *args, **kw)\n",
      "  File \"<ipython-input-122-8fc83100377c>\", line 37, in parse\n",
      "    content_type = re.findall(conttype_regex, page_script)[0]\n",
      "IndexError: list index out of range\n",
      "2020-02-18 12:19:41 [urllib3.connectionpool] DEBUG: Starting new HTTPS connection (1): www.mckinsey.com:443\n"
     ]
    },
    {
     "name": "stdout",
     "output_type": "stream",
     "text": [
      "https://www.mckinsey.com/featured-insights\n"
     ]
    },
    {
     "name": "stderr",
     "output_type": "stream",
     "text": [
      "2020-02-18 12:19:42 [urllib3.connectionpool] DEBUG: https://www.mckinsey.com:443 \"GET /featured-insights HTTP/1.1\" 200 18244\n",
      "2020-02-18 12:19:42 [scrapy.core.scraper] ERROR: Spider error processing <GET https://www.mckinsey.com/featured-insights> (referer: None)\n",
      "Traceback (most recent call last):\n",
      "  File \"D:\\ProgramData\\Anaconda3\\lib\\site-packages\\twisted\\internet\\defer.py\", line 654, in _runCallbacks\n",
      "    current.result = callback(current.result, *args, **kw)\n",
      "  File \"<ipython-input-122-8fc83100377c>\", line 37, in parse\n",
      "    content_type = re.findall(conttype_regex, page_script)[0]\n",
      "IndexError: list index out of range\n",
      "2020-02-18 12:19:42 [scrapy.core.engine] DEBUG: Crawled (200) <GET https://www.mckinsey.com/industries/technology-media-and-telecommunications/our-insights/public-cloud-in-china-big-challenges-big-upside> (referer: None)\n",
      "2020-02-18 12:19:42 [urllib3.connectionpool] DEBUG: Starting new HTTPS connection (1): www.mckinsey.com:443\n"
     ]
    },
    {
     "name": "stdout",
     "output_type": "stream",
     "text": [
      "https://www.mckinsey.com/mgi/our-research\n"
     ]
    },
    {
     "name": "stderr",
     "output_type": "stream",
     "text": [
      "2020-02-18 12:19:43 [urllib3.connectionpool] DEBUG: https://www.mckinsey.com:443 \"GET /mgi/our-research HTTP/1.1\" 200 17076\n",
      "2020-02-18 12:19:43 [scrapy.core.scraper] ERROR: Spider error processing <GET https://www.mckinsey.com/mgi/our-research> (referer: None)\n",
      "Traceback (most recent call last):\n",
      "  File \"D:\\ProgramData\\Anaconda3\\lib\\site-packages\\twisted\\internet\\defer.py\", line 654, in _runCallbacks\n",
      "    current.result = callback(current.result, *args, **kw)\n",
      "  File \"<ipython-input-122-8fc83100377c>\", line 37, in parse\n",
      "    content_type = re.findall(conttype_regex, page_script)[0]\n",
      "IndexError: list index out of range\n",
      "2020-02-18 12:19:43 [urllib3.connectionpool] DEBUG: Starting new HTTPS connection (1): www.mckinsey.com:443\n"
     ]
    },
    {
     "name": "stdout",
     "output_type": "stream",
     "text": [
      "https://www.mckinsey.com/industries/technology-media-and-telecommunications/our-insights/public-cloud-in-china-big-challenges-big-upside\n"
     ]
    },
    {
     "name": "stderr",
     "output_type": "stream",
     "text": [
      "2020-02-18 12:19:43 [urllib3.connectionpool] DEBUG: https://www.mckinsey.com:443 \"GET /industries/technology-media-and-telecommunications/our-insights/public-cloud-in-china-big-challenges-big-upside HTTP/1.1\" 200 21300\n",
      "2020-02-18 12:19:43 [scrapy.core.engine] DEBUG: Crawled (200) <GET https://www.mckinsey.com/business-functions/operations/our-insights/operations-blog/new-technology-means-new-value-from-contact-centers> (referer: None)\n",
      "2020-02-18 12:19:43 [scrapy.core.engine] DEBUG: Crawled (200) <GET https://www.mckinsey.com/business-functions/mckinsey-digital/how-we-help-clients/reinventing-the-core> (referer: None)\n",
      "2020-02-18 12:19:43 [urllib3.connectionpool] DEBUG: Starting new HTTPS connection (1): www.mckinsey.com:443\n"
     ]
    },
    {
     "name": "stdout",
     "output_type": "stream",
     "text": [
      "https://www.mckinsey.com/business-functions/operations/our-insights/operations-blog/new-technology-means-new-value-from-contact-centers\n"
     ]
    },
    {
     "name": "stderr",
     "output_type": "stream",
     "text": [
      "2020-02-18 12:19:44 [urllib3.connectionpool] DEBUG: https://www.mckinsey.com:443 \"GET /business-functions/operations/our-insights/operations-blog/new-technology-means-new-value-from-contact-centers HTTP/1.1\" 200 14292\n",
      "2020-02-18 12:19:44 [scrapy.core.scraper] ERROR: Spider error processing <GET https://www.mckinsey.com/business-functions/operations/our-insights/operations-blog/new-technology-means-new-value-from-contact-centers> (referer: None)\n",
      "Traceback (most recent call last):\n",
      "  File \"D:\\ProgramData\\Anaconda3\\lib\\site-packages\\twisted\\internet\\defer.py\", line 654, in _runCallbacks\n",
      "    current.result = callback(current.result, *args, **kw)\n",
      "  File \"<ipython-input-122-8fc83100377c>\", line 37, in parse\n",
      "    content_type = re.findall(conttype_regex, page_script)[0]\n",
      "IndexError: list index out of range\n",
      "2020-02-18 12:19:44 [scrapy.core.engine] DEBUG: Crawled (200) <GET https://www.mckinsey.com/industries/capital-projects-and-infrastructure/our-insights/building-asias-cities-of-the-future> (referer: None)\n",
      "2020-02-18 12:19:44 [scrapy.core.engine] DEBUG: Crawled (200) <GET https://www.mckinsey.com/business-functions/mckinsey-analytics/our-insights/mckinsey-quarterly-2017-number-3-overview-and-full-issue> (referer: None)\n",
      "2020-02-18 12:19:44 [urllib3.connectionpool] DEBUG: Starting new HTTPS connection (1): www.mckinsey.com:443\n"
     ]
    },
    {
     "name": "stdout",
     "output_type": "stream",
     "text": [
      "https://www.mckinsey.com/business-functions/mckinsey-digital/how-we-help-clients/reinventing-the-core\n"
     ]
    },
    {
     "name": "stderr",
     "output_type": "stream",
     "text": [
      "2020-02-18 12:19:45 [urllib3.connectionpool] DEBUG: https://www.mckinsey.com:443 \"GET /business-functions/mckinsey-digital/how-we-help-clients/reinventing-the-core HTTP/1.1\" 200 11787\n",
      "2020-02-18 12:19:45 [scrapy.core.scraper] ERROR: Spider error processing <GET https://www.mckinsey.com/business-functions/mckinsey-digital/how-we-help-clients/reinventing-the-core> (referer: None)\n",
      "Traceback (most recent call last):\n",
      "  File \"D:\\ProgramData\\Anaconda3\\lib\\site-packages\\twisted\\internet\\defer.py\", line 654, in _runCallbacks\n",
      "    current.result = callback(current.result, *args, **kw)\n",
      "  File \"<ipython-input-122-8fc83100377c>\", line 37, in parse\n",
      "    content_type = re.findall(conttype_regex, page_script)[0]\n",
      "IndexError: list index out of range\n",
      "2020-02-18 12:19:45 [scrapy.core.engine] DEBUG: Crawled (200) <GET https://www.mckinsey.com/our-people/jessica-lamb> (referer: None)\n",
      "2020-02-18 12:19:45 [scrapy.core.engine] DEBUG: Crawled (200) <GET https://www.mckinsey.com/our-people/siddarth-madhav> (referer: None)\n",
      "2020-02-18 12:19:45 [scrapy.core.engine] DEBUG: Crawled (200) <GET https://www.mckinsey.com/our-people/marco-piccitto> (referer: None)\n",
      "2020-02-18 12:19:45 [scrapy.core.engine] DEBUG: Crawled (200) <GET https://www.mckinsey.com/featured-insights/future-of-work/the-future-of-women-at-work-in-the-united-kingdom> (referer: None)\n",
      "2020-02-18 12:19:45 [scrapy.core.engine] DEBUG: Crawled (200) <GET https://www.mckinsey.com/our-people/harry-seip> (referer: None)\n",
      "2020-02-18 12:19:45 [scrapy.core.engine] DEBUG: Crawled (200) <GET https://www.mckinsey.com/our-people/brian-mccarthy> (referer: None)\n",
      "2020-02-18 12:19:45 [urllib3.connectionpool] DEBUG: Starting new HTTPS connection (1): www.mckinsey.com:443\n"
     ]
    },
    {
     "name": "stdout",
     "output_type": "stream",
     "text": [
      "https://www.mckinsey.com/industries/capital-projects-and-infrastructure/our-insights/building-asias-cities-of-the-future\n"
     ]
    },
    {
     "name": "stderr",
     "output_type": "stream",
     "text": [
      "2020-02-18 12:19:46 [urllib3.connectionpool] DEBUG: https://www.mckinsey.com:443 \"GET /industries/capital-projects-and-infrastructure/our-insights/building-asias-cities-of-the-future HTTP/1.1\" 200 15619\n",
      "2020-02-18 12:19:46 [urllib3.connectionpool] DEBUG: Starting new HTTPS connection (1): www.mckinsey.com:443\n"
     ]
    },
    {
     "name": "stdout",
     "output_type": "stream",
     "text": [
      "https://www.mckinsey.com/business-functions/mckinsey-analytics/our-insights/mckinsey-quarterly-2017-number-3-overview-and-full-issue\n"
     ]
    },
    {
     "name": "stderr",
     "output_type": "stream",
     "text": [
      "2020-02-18 12:19:47 [urllib3.connectionpool] DEBUG: https://www.mckinsey.com:443 \"GET /business-functions/mckinsey-analytics/our-insights/mckinsey-quarterly-2017-number-3-overview-and-full-issue HTTP/1.1\" 200 15482\n",
      "2020-02-18 12:19:47 [scrapy.core.engine] DEBUG: Crawled (200) <GET https://www.mckinsey.com/featured-insights/asia-pacific/seizing-the-automation-opportunity-in-the-philippines> (referer: None)\n",
      "2020-02-18 12:19:47 [scrapy.core.engine] DEBUG: Crawled (200) <GET https://www.mckinsey.com/business-functions/mckinsey-digital/our-insights/resetting-the-cost-base> (referer: None)\n",
      "2020-02-18 12:19:47 [urllib3.connectionpool] DEBUG: Starting new HTTPS connection (1): www.mckinsey.com:443\n"
     ]
    },
    {
     "name": "stdout",
     "output_type": "stream",
     "text": [
      "https://www.mckinsey.com/our-people/jessica-lamb\n"
     ]
    },
    {
     "name": "stderr",
     "output_type": "stream",
     "text": [
      "2020-02-18 12:19:48 [urllib3.connectionpool] DEBUG: https://www.mckinsey.com:443 \"GET /our-people/jessica-lamb HTTP/1.1\" 200 14720\n",
      "2020-02-18 12:19:48 [urllib3.connectionpool] DEBUG: Starting new HTTPS connection (1): www.mckinsey.com:443\n"
     ]
    },
    {
     "name": "stdout",
     "output_type": "stream",
     "text": [
      "https://www.mckinsey.com/our-people/siddarth-madhav\n"
     ]
    },
    {
     "name": "stderr",
     "output_type": "stream",
     "text": [
      "2020-02-18 12:19:49 [urllib3.connectionpool] DEBUG: https://www.mckinsey.com:443 \"GET /our-people/siddarth-madhav HTTP/1.1\" 200 14982\n",
      "2020-02-18 12:19:49 [urllib3.connectionpool] DEBUG: Starting new HTTPS connection (1): www.mckinsey.com:443\n"
     ]
    },
    {
     "name": "stdout",
     "output_type": "stream",
     "text": [
      "https://www.mckinsey.com/our-people/marco-piccitto\n"
     ]
    },
    {
     "name": "stderr",
     "output_type": "stream",
     "text": [
      "2020-02-18 12:19:50 [urllib3.connectionpool] DEBUG: https://www.mckinsey.com:443 \"GET /our-people/marco-piccitto HTTP/1.1\" 200 14137\n",
      "2020-02-18 12:19:50 [urllib3.connectionpool] DEBUG: Starting new HTTPS connection (1): www.mckinsey.com:443\n"
     ]
    },
    {
     "name": "stdout",
     "output_type": "stream",
     "text": [
      "https://www.mckinsey.com/featured-insights/future-of-work/the-future-of-women-at-work-in-the-united-kingdom\n"
     ]
    },
    {
     "name": "stderr",
     "output_type": "stream",
     "text": [
      "2020-02-18 12:19:51 [urllib3.connectionpool] DEBUG: https://www.mckinsey.com:443 \"GET /featured-insights/future-of-work/the-future-of-women-at-work-in-the-united-kingdom HTTP/1.1\" 200 17578\n",
      "2020-02-18 12:19:51 [scrapy.core.scraper] ERROR: Spider error processing <GET https://www.mckinsey.com/featured-insights/future-of-work/the-future-of-women-at-work-in-the-united-kingdom> (referer: None)\n",
      "Traceback (most recent call last):\n",
      "  File \"D:\\ProgramData\\Anaconda3\\lib\\site-packages\\twisted\\internet\\defer.py\", line 654, in _runCallbacks\n",
      "    current.result = callback(current.result, *args, **kw)\n",
      "  File \"<ipython-input-122-8fc83100377c>\", line 42, in parse\n",
      "    page_texttype = re.findall(texttype_regex, page_script)[0]\n",
      "IndexError: list index out of range\n",
      "2020-02-18 12:19:51 [urllib3.connectionpool] DEBUG: Starting new HTTPS connection (1): www.mckinsey.com:443\n"
     ]
    },
    {
     "name": "stdout",
     "output_type": "stream",
     "text": [
      "https://www.mckinsey.com/our-people/harry-seip\n"
     ]
    },
    {
     "name": "stderr",
     "output_type": "stream",
     "text": [
      "2020-02-18 12:19:53 [urllib3.connectionpool] DEBUG: https://www.mckinsey.com:443 \"GET /our-people/harry-seip HTTP/1.1\" 200 14777\n",
      "2020-02-18 12:19:53 [urllib3.connectionpool] DEBUG: Starting new HTTPS connection (1): www.mckinsey.com:443\n"
     ]
    },
    {
     "name": "stdout",
     "output_type": "stream",
     "text": [
      "https://www.mckinsey.com/our-people/brian-mccarthy\n"
     ]
    },
    {
     "name": "stderr",
     "output_type": "stream",
     "text": [
      "2020-02-18 12:19:53 [urllib3.connectionpool] DEBUG: https://www.mckinsey.com:443 \"GET /our-people/brian-mccarthy HTTP/1.1\" 200 14292\n",
      "2020-02-18 12:19:53 [scrapy.core.engine] DEBUG: Crawled (200) <GET https://www.mckinsey.com/dk/careers/upcoming-events> (referer: None)\n",
      "2020-02-18 12:19:53 [scrapy.core.engine] DEBUG: Crawled (200) <GET https://www.mckinsey.com/industries/financial-services/our-insights/insurance-2030-the-impact-of-ai-on-the-future-of-insurance> (referer: None)\n",
      "2020-02-18 12:19:53 [scrapy.core.engine] DEBUG: Crawled (200) <GET https://www.mckinsey.com/our-people/dilip-wagle> (referer: None)\n",
      "2020-02-18 12:19:53 [scrapy.core.engine] DEBUG: Crawled (200) <GET https://www.mckinsey.com/our-people/lalatendu-das> (referer: None)\n",
      "2020-02-18 12:19:53 [scrapy.core.engine] DEBUG: Crawled (200) <GET https://www.mckinsey.com/our-people/peter-dahlstrom> (referer: None)\n",
      "2020-02-18 12:19:53 [scrapy.core.engine] DEBUG: Crawled (200) <GET https://www.mckinsey.com/industries/technology-media-and-telecommunications/our-insights> (referer: None)\n",
      "2020-02-18 12:19:53 [urllib3.connectionpool] DEBUG: Starting new HTTPS connection (1): www.mckinsey.com:443\n"
     ]
    },
    {
     "name": "stdout",
     "output_type": "stream",
     "text": [
      "https://www.mckinsey.com/featured-insights/asia-pacific/seizing-the-automation-opportunity-in-the-philippines\n"
     ]
    },
    {
     "name": "stderr",
     "output_type": "stream",
     "text": [
      "2020-02-18 12:19:54 [urllib3.connectionpool] DEBUG: https://www.mckinsey.com:443 \"GET /featured-insights/asia-pacific/seizing-the-automation-opportunity-in-the-philippines HTTP/1.1\" 200 14491\n",
      "2020-02-18 12:19:54 [urllib3.connectionpool] DEBUG: Starting new HTTPS connection (1): www.mckinsey.com:443\n"
     ]
    },
    {
     "name": "stdout",
     "output_type": "stream",
     "text": [
      "https://www.mckinsey.com/business-functions/mckinsey-digital/our-insights/resetting-the-cost-base\n"
     ]
    },
    {
     "name": "stderr",
     "output_type": "stream",
     "text": [
      "2020-02-18 12:19:55 [urllib3.connectionpool] DEBUG: https://www.mckinsey.com:443 \"GET /business-functions/mckinsey-digital/our-insights/resetting-the-cost-base HTTP/1.1\" 200 18701\n",
      "2020-02-18 12:19:55 [scrapy.core.engine] DEBUG: Crawled (200) <GET https://www.mckinsey.com/industries/healthcare-systems-and-services/our-insights/picking-winning-strategies-to-improve-healthcare-productivity-an-interview-with-jim-weinstein> (referer: None)\n",
      "2020-02-18 12:19:55 [scrapy.core.engine] DEBUG: Crawled (200) <GET https://www.mckinsey.com/quarterly/the-magazine/2019-issue-2-mckinsey-quarterly> (referer: None)\n",
      "2020-02-18 12:19:55 [urllib3.connectionpool] DEBUG: Starting new HTTPS connection (1): www.mckinsey.com:443\n"
     ]
    },
    {
     "name": "stdout",
     "output_type": "stream",
     "text": [
      "https://www.mckinsey.com/dk/careers/upcoming-events\n"
     ]
    },
    {
     "name": "stderr",
     "output_type": "stream",
     "text": [
      "2020-02-18 12:19:56 [urllib3.connectionpool] DEBUG: https://www.mckinsey.com:443 \"GET /dk/careers/upcoming-events HTTP/1.1\" 200 17051\n",
      "2020-02-18 12:19:56 [scrapy.core.scraper] ERROR: Spider error processing <GET https://www.mckinsey.com/dk/careers/upcoming-events> (referer: None)\n",
      "Traceback (most recent call last):\n",
      "  File \"D:\\ProgramData\\Anaconda3\\lib\\site-packages\\twisted\\internet\\defer.py\", line 654, in _runCallbacks\n",
      "    current.result = callback(current.result, *args, **kw)\n",
      "  File \"<ipython-input-122-8fc83100377c>\", line 37, in parse\n",
      "    content_type = re.findall(conttype_regex, page_script)[0]\n",
      "IndexError: list index out of range\n",
      "2020-02-18 12:19:56 [urllib3.connectionpool] DEBUG: Starting new HTTPS connection (1): www.mckinsey.com:443\n"
     ]
    },
    {
     "name": "stdout",
     "output_type": "stream",
     "text": [
      "https://www.mckinsey.com/industries/financial-services/our-insights/insurance-2030-the-impact-of-ai-on-the-future-of-insurance\n"
     ]
    },
    {
     "name": "stderr",
     "output_type": "stream",
     "text": [
      "2020-02-18 12:19:56 [urllib3.connectionpool] DEBUG: https://www.mckinsey.com:443 \"GET /industries/financial-services/our-insights/insurance-2030-the-impact-of-ai-on-the-future-of-insurance HTTP/1.1\" 200 24666\n",
      "2020-02-18 12:19:56 [urllib3.connectionpool] DEBUG: Starting new HTTPS connection (1): www.mckinsey.com:443\n"
     ]
    },
    {
     "name": "stdout",
     "output_type": "stream",
     "text": [
      "https://www.mckinsey.com/our-people/dilip-wagle\n"
     ]
    },
    {
     "name": "stderr",
     "output_type": "stream",
     "text": [
      "2020-02-18 12:19:57 [urllib3.connectionpool] DEBUG: https://www.mckinsey.com:443 \"GET /our-people/dilip-wagle HTTP/1.1\" 200 14643\n",
      "2020-02-18 12:19:57 [urllib3.connectionpool] DEBUG: Starting new HTTPS connection (1): www.mckinsey.com:443\n"
     ]
    },
    {
     "name": "stdout",
     "output_type": "stream",
     "text": [
      "https://www.mckinsey.com/our-people/lalatendu-das\n"
     ]
    },
    {
     "name": "stderr",
     "output_type": "stream",
     "text": [
      "2020-02-18 12:19:59 [urllib3.connectionpool] DEBUG: https://www.mckinsey.com:443 \"GET /our-people/lalatendu-das HTTP/1.1\" 200 14718\n",
      "2020-02-18 12:19:59 [urllib3.connectionpool] DEBUG: Starting new HTTPS connection (1): www.mckinsey.com:443\n"
     ]
    },
    {
     "name": "stdout",
     "output_type": "stream",
     "text": [
      "https://www.mckinsey.com/our-people/peter-dahlstrom\n"
     ]
    },
    {
     "name": "stderr",
     "output_type": "stream",
     "text": [
      "2020-02-18 12:19:59 [urllib3.connectionpool] DEBUG: https://www.mckinsey.com:443 \"GET /our-people/peter-dahlstrom HTTP/1.1\" 200 14429\n",
      "2020-02-18 12:19:59 [urllib3.connectionpool] DEBUG: Starting new HTTPS connection (1): www.mckinsey.com:443\n"
     ]
    },
    {
     "name": "stdout",
     "output_type": "stream",
     "text": [
      "https://www.mckinsey.com/industries/technology-media-and-telecommunications/our-insights\n"
     ]
    },
    {
     "name": "stderr",
     "output_type": "stream",
     "text": [
      "2020-02-18 12:20:01 [urllib3.connectionpool] DEBUG: https://www.mckinsey.com:443 \"GET /industries/technology-media-and-telecommunications/our-insights HTTP/1.1\" 200 19250\n",
      "2020-02-18 12:20:01 [scrapy.core.scraper] ERROR: Spider error processing <GET https://www.mckinsey.com/industries/technology-media-and-telecommunications/our-insights> (referer: None)\n",
      "Traceback (most recent call last):\n",
      "  File \"D:\\ProgramData\\Anaconda3\\lib\\site-packages\\twisted\\internet\\defer.py\", line 654, in _runCallbacks\n",
      "    current.result = callback(current.result, *args, **kw)\n",
      "  File \"<ipython-input-122-8fc83100377c>\", line 37, in parse\n",
      "    content_type = re.findall(conttype_regex, page_script)[0]\n",
      "IndexError: list index out of range\n",
      "2020-02-18 12:20:01 [scrapy.core.engine] DEBUG: Crawled (200) <GET https://www.mckinsey.com/mgi/overview/in-the-news/how-competition-is-driving-ais-rapid-adoption> (referer: None)\n",
      "2020-02-18 12:20:01 [urllib3.connectionpool] DEBUG: Starting new HTTPS connection (1): www.mckinsey.com:443\n"
     ]
    },
    {
     "name": "stdout",
     "output_type": "stream",
     "text": [
      "https://www.mckinsey.com/industries/healthcare-systems-and-services/our-insights/picking-winning-strategies-to-improve-healthcare-productivity-an-interview-with-jim-weinstein\n"
     ]
    },
    {
     "name": "stderr",
     "output_type": "stream",
     "text": [
      "2020-02-18 12:20:01 [urllib3.connectionpool] DEBUG: https://www.mckinsey.com:443 \"GET /industries/healthcare-systems-and-services/our-insights/picking-winning-strategies-to-improve-healthcare-productivity-an-interview-with-jim-weinstein HTTP/1.1\" 200 21555\n",
      "2020-02-18 12:20:01 [urllib3.connectionpool] DEBUG: Starting new HTTPS connection (1): www.mckinsey.com:443\n"
     ]
    },
    {
     "name": "stdout",
     "output_type": "stream",
     "text": [
      "https://www.mckinsey.com/quarterly/the-magazine/2019-issue-2-mckinsey-quarterly\n"
     ]
    },
    {
     "name": "stderr",
     "output_type": "stream",
     "text": [
      "2020-02-18 12:20:03 [urllib3.connectionpool] DEBUG: https://www.mckinsey.com:443 \"GET /quarterly/the-magazine/2019-issue-2-mckinsey-quarterly HTTP/1.1\" 200 15431\n",
      "2020-02-18 12:20:03 [scrapy.core.scraper] ERROR: Spider error processing <GET https://www.mckinsey.com/quarterly/the-magazine/2019-issue-2-mckinsey-quarterly> (referer: None)\n",
      "Traceback (most recent call last):\n",
      "  File \"D:\\ProgramData\\Anaconda3\\lib\\site-packages\\twisted\\internet\\defer.py\", line 654, in _runCallbacks\n",
      "    current.result = callback(current.result, *args, **kw)\n",
      "  File \"<ipython-input-122-8fc83100377c>\", line 41, in parse\n",
      "    page_date = re.findall(date_regex, page_script)[0]\n",
      "IndexError: list index out of range\n",
      "2020-02-18 12:20:03 [scrapy.core.engine] DEBUG: Crawled (200) <GET https://www.mckinsey.com/our-people/stephanie-carlton> (referer: None)\n",
      "2020-02-18 12:20:03 [urllib3.connectionpool] DEBUG: Starting new HTTPS connection (1): www.mckinsey.com:443\n"
     ]
    },
    {
     "name": "stdout",
     "output_type": "stream",
     "text": [
      "https://www.mckinsey.com/mgi/overview/in-the-news/how-competition-is-driving-ais-rapid-adoption\n"
     ]
    },
    {
     "name": "stderr",
     "output_type": "stream",
     "text": [
      "2020-02-18 12:20:04 [urllib3.connectionpool] DEBUG: https://www.mckinsey.com:443 \"GET /mgi/overview/in-the-news/how-competition-is-driving-ais-rapid-adoption HTTP/1.1\" 200 16229\n",
      "2020-02-18 12:20:04 [urllib3.connectionpool] DEBUG: Starting new HTTPS connection (1): www.mckinsey.com:443\n"
     ]
    },
    {
     "name": "stdout",
     "output_type": "stream",
     "text": [
      "https://www.mckinsey.com/our-people/stephanie-carlton\n"
     ]
    },
    {
     "name": "stderr",
     "output_type": "stream",
     "text": [
      "2020-02-18 12:20:05 [urllib3.connectionpool] DEBUG: https://www.mckinsey.com:443 \"GET /our-people/stephanie-carlton HTTP/1.1\" 200 14893\n",
      "2020-02-18 12:20:05 [scrapy.core.engine] DEBUG: Crawled (200) <GET https://www.mckinsey.com/our-people/helen-mayhew> (referer: None)\n",
      "2020-02-18 12:20:05 [urllib3.connectionpool] DEBUG: Starting new HTTPS connection (1): www.mckinsey.com:443\n"
     ]
    },
    {
     "name": "stdout",
     "output_type": "stream",
     "text": [
      "https://www.mckinsey.com/our-people/helen-mayhew\n"
     ]
    },
    {
     "name": "stderr",
     "output_type": "stream",
     "text": [
      "2020-02-18 12:20:06 [urllib3.connectionpool] DEBUG: https://www.mckinsey.com:443 \"GET /our-people/helen-mayhew HTTP/1.1\" 200 15086\n",
      "2020-02-18 12:20:06 [scrapy.core.engine] DEBUG: Crawled (200) <GET https://www.mckinsey.com/industries/advanced-electronics/how-we-help-clients/building-technologies> (referer: None)\n",
      "2020-02-18 12:20:06 [scrapy.core.engine] DEBUG: Crawled (200) <GET https://www.mckinsey.com/mgi/overview/in-the-news/what-do-we-do-about-the-biases-in-ai> (referer: None)\n",
      "2020-02-18 12:20:06 [scrapy.core.engine] DEBUG: Crawled (200) <GET https://www.mckinsey.com/industries/capital-projects-and-infrastructure/our-insights/the-year-of-future-transportation-an-interview-with-seoul-mayor-park-wonsoon> (referer: None)\n",
      "2020-02-18 12:20:06 [scrapy.core.engine] DEBUG: Crawled (200) <GET https://www.mckinsey.com/business-functions/strategy-and-corporate-finance/our-insights/mckinsey-on-finance/mckinsey-on-finance-number-65> (referer: None)\n",
      "2020-02-18 12:20:06 [scrapy.core.engine] DEBUG: Crawled (200) <GET https://www.mckinsey.com/our-people/john-kelleher> (referer: None)\n",
      "2020-02-18 12:20:07 [urllib3.connectionpool] DEBUG: Starting new HTTPS connection (1): www.mckinsey.com:443\n"
     ]
    },
    {
     "name": "stdout",
     "output_type": "stream",
     "text": [
      "https://www.mckinsey.com/industries/advanced-electronics/how-we-help-clients/building-technologies\n"
     ]
    },
    {
     "name": "stderr",
     "output_type": "stream",
     "text": [
      "2020-02-18 12:20:08 [urllib3.connectionpool] DEBUG: https://www.mckinsey.com:443 \"GET /industries/advanced-electronics/how-we-help-clients/building-technologies HTTP/1.1\" 200 15217\n",
      "2020-02-18 12:20:08 [scrapy.core.scraper] ERROR: Spider error processing <GET https://www.mckinsey.com/industries/advanced-electronics/how-we-help-clients/building-technologies> (referer: None)\n",
      "Traceback (most recent call last):\n",
      "  File \"D:\\ProgramData\\Anaconda3\\lib\\site-packages\\twisted\\internet\\defer.py\", line 654, in _runCallbacks\n",
      "    current.result = callback(current.result, *args, **kw)\n",
      "  File \"<ipython-input-122-8fc83100377c>\", line 41, in parse\n",
      "    page_date = re.findall(date_regex, page_script)[0]\n",
      "IndexError: list index out of range\n",
      "2020-02-18 12:20:08 [scrapy.core.engine] DEBUG: Crawled (200) <GET https://www.mckinsey.com/pl/our-insights/likwidacja-szkod-w-2030> (referer: None)\n",
      "2020-02-18 12:20:08 [scrapy.core.engine] DEBUG: Crawled (200) <GET https://www.mckinsey.com/industries/healthcare-systems-and-services/our-insights/using-machine-learning> (referer: None)\n",
      "2020-02-18 12:20:08 [scrapy.core.engine] DEBUG: Crawled (200) <GET https://www.mckinsey.com/featured-insights/asia-pacific/how-e-commerce-and-the-gig-economy-is-transforming-southeast-asia> (referer: None)\n",
      "2020-02-18 12:20:08 [scrapy.core.engine] DEBUG: Crawled (200) <GET https://www.mckinsey.com/mgi/overview> (referer: None)\n",
      "2020-02-18 12:20:08 [scrapy.core.engine] DEBUG: Crawled (200) <GET https://www.mckinsey.com/featured-insights/future-of-work/australias-automation-opportunity-reigniting-productivity-and-inclusive-income-growth> (referer: None)\n",
      "2020-02-18 12:20:08 [scrapy.core.engine] DEBUG: Crawled (200) <GET https://www.mckinsey.com/quarterly/columns> (referer: None)\n",
      "2020-02-18 12:20:08 [scrapy.core.engine] DEBUG: Crawled (200) <GET https://www.mckinsey.com/our-people/manuela-martin> (referer: None)\n",
      "2020-02-18 12:20:08 [scrapy.core.engine] DEBUG: Crawled (200) <GET https://www.mckinsey.com/our-people/maria-joao-ribeirinho> (referer: None)\n",
      "2020-02-18 12:20:08 [urllib3.connectionpool] DEBUG: Starting new HTTPS connection (1): www.mckinsey.com:443\n"
     ]
    },
    {
     "name": "stdout",
     "output_type": "stream",
     "text": [
      "https://www.mckinsey.com/mgi/overview/in-the-news/what-do-we-do-about-the-biases-in-ai\n"
     ]
    },
    {
     "name": "stderr",
     "output_type": "stream",
     "text": [
      "2020-02-18 12:20:09 [urllib3.connectionpool] DEBUG: https://www.mckinsey.com:443 \"GET /mgi/overview/in-the-news/what-do-we-do-about-the-biases-in-ai HTTP/1.1\" 200 17138\n",
      "2020-02-18 12:20:09 [urllib3.connectionpool] DEBUG: Starting new HTTPS connection (1): www.mckinsey.com:443\n"
     ]
    },
    {
     "name": "stdout",
     "output_type": "stream",
     "text": [
      "https://www.mckinsey.com/industries/capital-projects-and-infrastructure/our-insights/the-year-of-future-transportation-an-interview-with-seoul-mayor-park-wonsoon\n"
     ]
    },
    {
     "name": "stderr",
     "output_type": "stream",
     "text": [
      "2020-02-18 12:20:10 [urllib3.connectionpool] DEBUG: https://www.mckinsey.com:443 \"GET /industries/capital-projects-and-infrastructure/our-insights/the-year-of-future-transportation-an-interview-with-seoul-mayor-park-wonsoon HTTP/1.1\" 200 17942\n",
      "2020-02-18 12:20:10 [urllib3.connectionpool] DEBUG: Starting new HTTPS connection (1): www.mckinsey.com:443\n"
     ]
    },
    {
     "name": "stdout",
     "output_type": "stream",
     "text": [
      "https://www.mckinsey.com/business-functions/strategy-and-corporate-finance/our-insights/mckinsey-on-finance/mckinsey-on-finance-number-65\n"
     ]
    },
    {
     "name": "stderr",
     "output_type": "stream",
     "text": [
      "2020-02-18 12:20:11 [urllib3.connectionpool] DEBUG: https://www.mckinsey.com:443 \"GET /business-functions/strategy-and-corporate-finance/our-insights/mckinsey-on-finance/mckinsey-on-finance-number-65 HTTP/1.1\" 200 13188\n",
      "2020-02-18 12:20:11 [scrapy.core.scraper] ERROR: Spider error processing <GET https://www.mckinsey.com/business-functions/strategy-and-corporate-finance/our-insights/mckinsey-on-finance/mckinsey-on-finance-number-65> (referer: None)\n",
      "Traceback (most recent call last):\n",
      "  File \"D:\\ProgramData\\Anaconda3\\lib\\site-packages\\twisted\\internet\\defer.py\", line 654, in _runCallbacks\n",
      "    current.result = callback(current.result, *args, **kw)\n",
      "  File \"<ipython-input-122-8fc83100377c>\", line 41, in parse\n",
      "    page_date = re.findall(date_regex, page_script)[0]\n",
      "IndexError: list index out of range\n",
      "2020-02-18 12:20:11 [urllib3.connectionpool] DEBUG: Starting new HTTPS connection (1): www.mckinsey.com:443\n"
     ]
    },
    {
     "name": "stdout",
     "output_type": "stream",
     "text": [
      "https://www.mckinsey.com/our-people/john-kelleher\n"
     ]
    },
    {
     "name": "stderr",
     "output_type": "stream",
     "text": [
      "2020-02-18 12:20:11 [urllib3.connectionpool] DEBUG: https://www.mckinsey.com:443 \"GET /our-people/john-kelleher HTTP/1.1\" 200 14353\n",
      "2020-02-18 12:20:11 [urllib3.connectionpool] DEBUG: Starting new HTTPS connection (1): www.mckinsey.com:443\n"
     ]
    },
    {
     "name": "stdout",
     "output_type": "stream",
     "text": [
      "https://www.mckinsey.com/pl/our-insights/likwidacja-szkod-w-2030\n"
     ]
    },
    {
     "name": "stderr",
     "output_type": "stream",
     "text": [
      "2020-02-18 12:20:12 [urllib3.connectionpool] DEBUG: https://www.mckinsey.com:443 \"GET /pl/our-insights/likwidacja-szkod-w-2030 HTTP/1.1\" 200 13325\n",
      "2020-02-18 12:20:12 [urllib3.connectionpool] DEBUG: Starting new HTTPS connection (1): www.mckinsey.com:443\n"
     ]
    },
    {
     "name": "stdout",
     "output_type": "stream",
     "text": [
      "https://www.mckinsey.com/industries/healthcare-systems-and-services/our-insights/using-machine-learning\n"
     ]
    },
    {
     "name": "stderr",
     "output_type": "stream",
     "text": [
      "2020-02-18 12:20:13 [urllib3.connectionpool] DEBUG: https://www.mckinsey.com:443 \"GET /industries/healthcare-systems-and-services/our-insights/using-machine-learning HTTP/1.1\" 200 13753\n",
      "2020-02-18 12:20:13 [urllib3.connectionpool] DEBUG: Starting new HTTPS connection (1): www.mckinsey.com:443\n"
     ]
    },
    {
     "name": "stdout",
     "output_type": "stream",
     "text": [
      "https://www.mckinsey.com/featured-insights/asia-pacific/how-e-commerce-and-the-gig-economy-is-transforming-southeast-asia\n"
     ]
    },
    {
     "name": "stderr",
     "output_type": "stream",
     "text": [
      "2020-02-18 12:20:13 [urllib3.connectionpool] DEBUG: https://www.mckinsey.com:443 \"GET /featured-insights/asia-pacific/how-e-commerce-and-the-gig-economy-is-transforming-southeast-asia HTTP/1.1\" 200 18262\n",
      "2020-02-18 12:20:13 [urllib3.connectionpool] DEBUG: Starting new HTTPS connection (1): www.mckinsey.com:443\n"
     ]
    },
    {
     "name": "stdout",
     "output_type": "stream",
     "text": [
      "https://www.mckinsey.com/mgi/overview\n"
     ]
    },
    {
     "name": "stderr",
     "output_type": "stream",
     "text": [
      "2020-02-18 12:20:15 [urllib3.connectionpool] DEBUG: https://www.mckinsey.com:443 \"GET /mgi/overview HTTP/1.1\" 200 18569\n",
      "2020-02-18 12:20:15 [scrapy.core.scraper] ERROR: Spider error processing <GET https://www.mckinsey.com/mgi/overview> (referer: None)\n",
      "Traceback (most recent call last):\n",
      "  File \"D:\\ProgramData\\Anaconda3\\lib\\site-packages\\twisted\\internet\\defer.py\", line 654, in _runCallbacks\n",
      "    current.result = callback(current.result, *args, **kw)\n",
      "  File \"<ipython-input-122-8fc83100377c>\", line 37, in parse\n",
      "    content_type = re.findall(conttype_regex, page_script)[0]\n",
      "IndexError: list index out of range\n",
      "2020-02-18 12:20:15 [urllib3.connectionpool] DEBUG: Starting new HTTPS connection (1): www.mckinsey.com:443\n"
     ]
    },
    {
     "name": "stdout",
     "output_type": "stream",
     "text": [
      "https://www.mckinsey.com/featured-insights/future-of-work/australias-automation-opportunity-reigniting-productivity-and-inclusive-income-growth\n"
     ]
    },
    {
     "name": "stderr",
     "output_type": "stream",
     "text": [
      "2020-02-18 12:20:16 [urllib3.connectionpool] DEBUG: https://www.mckinsey.com:443 \"GET /featured-insights/future-of-work/australias-automation-opportunity-reigniting-productivity-and-inclusive-income-growth HTTP/1.1\" 200 17924\n",
      "2020-02-18 12:20:16 [urllib3.connectionpool] DEBUG: Starting new HTTPS connection (1): www.mckinsey.com:443\n"
     ]
    },
    {
     "name": "stdout",
     "output_type": "stream",
     "text": [
      "https://www.mckinsey.com/quarterly/columns\n"
     ]
    },
    {
     "name": "stderr",
     "output_type": "stream",
     "text": [
      "2020-02-18 12:20:17 [urllib3.connectionpool] DEBUG: https://www.mckinsey.com:443 \"GET /quarterly/columns HTTP/1.1\" 200 12564\n",
      "2020-02-18 12:20:17 [scrapy.core.scraper] ERROR: Spider error processing <GET https://www.mckinsey.com/quarterly/columns> (referer: None)\n",
      "Traceback (most recent call last):\n",
      "  File \"D:\\ProgramData\\Anaconda3\\lib\\site-packages\\twisted\\internet\\defer.py\", line 654, in _runCallbacks\n",
      "    current.result = callback(current.result, *args, **kw)\n",
      "  File \"<ipython-input-122-8fc83100377c>\", line 37, in parse\n",
      "    content_type = re.findall(conttype_regex, page_script)[0]\n",
      "IndexError: list index out of range\n",
      "2020-02-18 12:20:17 [urllib3.connectionpool] DEBUG: Starting new HTTPS connection (1): www.mckinsey.com:443\n"
     ]
    },
    {
     "name": "stdout",
     "output_type": "stream",
     "text": [
      "https://www.mckinsey.com/our-people/manuela-martin\n"
     ]
    },
    {
     "name": "stderr",
     "output_type": "stream",
     "text": [
      "2020-02-18 12:20:18 [urllib3.connectionpool] DEBUG: https://www.mckinsey.com:443 \"GET /our-people/manuela-martin HTTP/1.1\" 200 14720\n",
      "2020-02-18 12:20:18 [urllib3.connectionpool] DEBUG: Starting new HTTPS connection (1): www.mckinsey.com:443\n"
     ]
    },
    {
     "name": "stdout",
     "output_type": "stream",
     "text": [
      "https://www.mckinsey.com/our-people/maria-joao-ribeirinho\n"
     ]
    },
    {
     "name": "stderr",
     "output_type": "stream",
     "text": [
      "2020-02-18 12:20:19 [urllib3.connectionpool] DEBUG: https://www.mckinsey.com:443 \"GET /our-people/maria-joao-ribeirinho HTTP/1.1\" 200 15104\n",
      "2020-02-18 12:20:19 [scrapy.extensions.logstats] INFO: Crawled 295 pages (at 71 pages/min), scraped 0 items (at 0 items/min)\n",
      "2020-02-18 12:20:19 [scrapy.core.engine] DEBUG: Crawled (200) <GET https://www.mckinsey.com/business-functions/mckinsey-digital/our-insights/the-next-horizon-for-industrial-manufacturing> (referer: None)\n",
      "2020-02-18 12:20:19 [scrapy.core.engine] DEBUG: Crawled (200) <GET https://www.mckinsey.com/our-people/alexandre-mercier-dalphond> (referer: None)\n",
      "2020-02-18 12:20:19 [scrapy.core.engine] DEBUG: Crawled (200) <GET https://www.mckinsey.com/our-people/winston-yung> (referer: None)\n",
      "2020-02-18 12:20:19 [scrapy.core.engine] DEBUG: Crawled (200) <GET https://www.mckinsey.com/our-people/jules-seeley> (referer: None)\n",
      "2020-02-18 12:20:19 [scrapy.core.engine] DEBUG: Crawled (200) <GET https://www.mckinsey.com/our-people/rod-farmer> (referer: None)\n",
      "2020-02-18 12:20:19 [scrapy.core.engine] DEBUG: Crawled (200) <GET https://www.mckinsey.com/our-people/steffen-fuchs> (referer: None)\n",
      "2020-02-18 12:20:19 [scrapy.core.engine] DEBUG: Crawled (200) <GET https://www.mckinsey.com/pl/our-insights/rewolucja-ai-jak-sztuczna-inteligencja-zmieni-biznes-w-polsce> (referer: None)\n",
      "2020-02-18 12:20:19 [scrapy.core.engine] DEBUG: Crawled (200) <GET https://www.mckinsey.com/our-people/rob-whiteman> (referer: None)\n",
      "2020-02-18 12:20:19 [urllib3.connectionpool] DEBUG: Starting new HTTPS connection (1): www.mckinsey.com:443\n"
     ]
    },
    {
     "name": "stdout",
     "output_type": "stream",
     "text": [
      "https://www.mckinsey.com/business-functions/mckinsey-digital/our-insights/the-next-horizon-for-industrial-manufacturing\n"
     ]
    },
    {
     "name": "stderr",
     "output_type": "stream",
     "text": [
      "2020-02-18 12:20:20 [urllib3.connectionpool] DEBUG: https://www.mckinsey.com:443 \"GET /business-functions/mckinsey-digital/our-insights/the-next-horizon-for-industrial-manufacturing HTTP/1.1\" 200 21553\n",
      "2020-02-18 12:20:20 [scrapy.core.engine] DEBUG: Crawled (200) <GET https://www.mckinsey.com/industries/public-sector/our-people> (referer: None)\n",
      "2020-02-18 12:20:20 [urllib3.connectionpool] DEBUG: Starting new HTTPS connection (1): www.mckinsey.com:443\n"
     ]
    },
    {
     "name": "stdout",
     "output_type": "stream",
     "text": [
      "https://www.mckinsey.com/our-people/alexandre-mercier-dalphond\n"
     ]
    },
    {
     "name": "stderr",
     "output_type": "stream",
     "text": [
      "2020-02-18 12:20:21 [urllib3.connectionpool] DEBUG: https://www.mckinsey.com:443 \"GET /our-people/alexandre-mercier-dalphond HTTP/1.1\" 200 14580\n",
      "2020-02-18 12:20:21 [urllib3.connectionpool] DEBUG: Starting new HTTPS connection (1): www.mckinsey.com:443\n"
     ]
    },
    {
     "name": "stdout",
     "output_type": "stream",
     "text": [
      "https://www.mckinsey.com/our-people/winston-yung\n"
     ]
    },
    {
     "name": "stderr",
     "output_type": "stream",
     "text": [
      "2020-02-18 12:20:22 [urllib3.connectionpool] DEBUG: https://www.mckinsey.com:443 \"GET /our-people/winston-yung HTTP/1.1\" 200 15692\n",
      "2020-02-18 12:20:22 [urllib3.connectionpool] DEBUG: Starting new HTTPS connection (1): www.mckinsey.com:443\n"
     ]
    },
    {
     "name": "stdout",
     "output_type": "stream",
     "text": [
      "https://www.mckinsey.com/our-people/jules-seeley\n"
     ]
    },
    {
     "name": "stderr",
     "output_type": "stream",
     "text": [
      "2020-02-18 12:20:24 [urllib3.connectionpool] DEBUG: https://www.mckinsey.com:443 \"GET /our-people/jules-seeley HTTP/1.1\" 200 14700\n",
      "2020-02-18 12:20:24 [urllib3.connectionpool] DEBUG: Starting new HTTPS connection (1): www.mckinsey.com:443\n"
     ]
    },
    {
     "name": "stdout",
     "output_type": "stream",
     "text": [
      "https://www.mckinsey.com/our-people/rod-farmer\n"
     ]
    },
    {
     "name": "stderr",
     "output_type": "stream",
     "text": [
      "2020-02-18 12:20:24 [urllib3.connectionpool] DEBUG: https://www.mckinsey.com:443 \"GET /our-people/rod-farmer HTTP/1.1\" 200 14978\n",
      "2020-02-18 12:20:24 [urllib3.connectionpool] DEBUG: Starting new HTTPS connection (1): www.mckinsey.com:443\n"
     ]
    },
    {
     "name": "stdout",
     "output_type": "stream",
     "text": [
      "https://www.mckinsey.com/our-people/steffen-fuchs\n"
     ]
    },
    {
     "name": "stderr",
     "output_type": "stream",
     "text": [
      "2020-02-18 12:20:26 [urllib3.connectionpool] DEBUG: https://www.mckinsey.com:443 \"GET /our-people/steffen-fuchs HTTP/1.1\" 200 14993\n",
      "2020-02-18 12:20:26 [urllib3.connectionpool] DEBUG: Starting new HTTPS connection (1): www.mckinsey.com:443\n"
     ]
    },
    {
     "name": "stdout",
     "output_type": "stream",
     "text": [
      "https://www.mckinsey.com/pl/our-insights/rewolucja-ai-jak-sztuczna-inteligencja-zmieni-biznes-w-polsce\n"
     ]
    },
    {
     "name": "stderr",
     "output_type": "stream",
     "text": [
      "2020-02-18 12:20:26 [urllib3.connectionpool] DEBUG: https://www.mckinsey.com:443 \"GET /pl/our-insights/rewolucja-ai-jak-sztuczna-inteligencja-zmieni-biznes-w-polsce HTTP/1.1\" 200 13430\n",
      "2020-02-18 12:20:26 [scrapy.core.scraper] ERROR: Spider error processing <GET https://www.mckinsey.com/pl/our-insights/rewolucja-ai-jak-sztuczna-inteligencja-zmieni-biznes-w-polsce> (referer: None)\n",
      "Traceback (most recent call last):\n",
      "  File \"D:\\ProgramData\\Anaconda3\\lib\\site-packages\\twisted\\internet\\defer.py\", line 654, in _runCallbacks\n",
      "    current.result = callback(current.result, *args, **kw)\n",
      "  File \"<ipython-input-122-8fc83100377c>\", line 41, in parse\n",
      "    page_date = re.findall(date_regex, page_script)[0]\n",
      "IndexError: list index out of range\n",
      "2020-02-18 12:20:26 [urllib3.connectionpool] DEBUG: Starting new HTTPS connection (1): www.mckinsey.com:443\n"
     ]
    },
    {
     "name": "stdout",
     "output_type": "stream",
     "text": [
      "https://www.mckinsey.com/our-people/rob-whiteman\n"
     ]
    },
    {
     "name": "stderr",
     "output_type": "stream",
     "text": [
      "2020-02-18 12:20:27 [urllib3.connectionpool] DEBUG: https://www.mckinsey.com:443 \"GET /our-people/rob-whiteman HTTP/1.1\" 200 14702\n",
      "2020-02-18 12:20:27 [scrapy.core.engine] DEBUG: Crawled (200) <GET https://www.mckinsey.com/our-people/frank-sanger> (referer: None)\n",
      "2020-02-18 12:20:27 [scrapy.core.engine] DEBUG: Crawled (200) <GET https://www.mckinsey.com/our-people/jan-christoph-kostring> (referer: None)\n",
      "2020-02-18 12:20:27 [scrapy.core.engine] DEBUG: Crawled (200) <GET https://www.mckinsey.com/our-people/lukasz-abramowicz> (referer: None)\n",
      "2020-02-18 12:20:27 [scrapy.core.engine] DEBUG: Crawled (200) <GET https://www.mckinsey.com/our-people/roger-roberts> (referer: None)\n",
      "2020-02-18 12:20:27 [scrapy.core.engine] DEBUG: Crawled (200) <GET https://www.mckinsey.com/business-functions/operations/our-insights/making-product-development-as-digital-as-tomorrows-products> (referer: None)\n",
      "2020-02-18 12:20:27 [scrapy.core.engine] DEBUG: Crawled (200) <GET https://www.mckinsey.com/industries/technology-media-and-telecommunications/how-we-help-clients> (referer: None)\n",
      "2020-02-18 12:20:27 [scrapy.core.engine] DEBUG: Crawled (200) <GET https://www.mckinsey.com/featured-insights/innovating-europe> (referer: None)\n",
      "2020-02-18 12:20:27 [urllib3.connectionpool] DEBUG: Starting new HTTPS connection (1): www.mckinsey.com:443\n"
     ]
    },
    {
     "name": "stdout",
     "output_type": "stream",
     "text": [
      "https://www.mckinsey.com/industries/public-sector/our-people\n"
     ]
    },
    {
     "name": "stderr",
     "output_type": "stream",
     "text": [
      "2020-02-18 12:20:28 [urllib3.connectionpool] DEBUG: https://www.mckinsey.com:443 \"GET /industries/public-sector/our-people HTTP/1.1\" 200 16549\n",
      "2020-02-18 12:20:28 [scrapy.core.scraper] ERROR: Spider error processing <GET https://www.mckinsey.com/industries/public-sector/our-people> (referer: None)\n",
      "Traceback (most recent call last):\n",
      "  File \"D:\\ProgramData\\Anaconda3\\lib\\site-packages\\twisted\\internet\\defer.py\", line 654, in _runCallbacks\n",
      "    current.result = callback(current.result, *args, **kw)\n",
      "  File \"<ipython-input-122-8fc83100377c>\", line 37, in parse\n",
      "    content_type = re.findall(conttype_regex, page_script)[0]\n",
      "IndexError: list index out of range\n",
      "2020-02-18 12:20:28 [urllib3.connectionpool] DEBUG: Starting new HTTPS connection (1): www.mckinsey.com:443\n"
     ]
    },
    {
     "name": "stdout",
     "output_type": "stream",
     "text": [
      "https://www.mckinsey.com/our-people/frank-sanger\n"
     ]
    },
    {
     "name": "stderr",
     "output_type": "stream",
     "text": [
      "2020-02-18 12:20:29 [urllib3.connectionpool] DEBUG: https://www.mckinsey.com:443 \"GET /our-people/frank-sanger HTTP/1.1\" 200 14770\n",
      "2020-02-18 12:20:29 [urllib3.connectionpool] DEBUG: Starting new HTTPS connection (1): www.mckinsey.com:443\n"
     ]
    },
    {
     "name": "stdout",
     "output_type": "stream",
     "text": [
      "https://www.mckinsey.com/our-people/jan-christoph-kostring\n"
     ]
    },
    {
     "name": "stderr",
     "output_type": "stream",
     "text": [
      "2020-02-18 12:20:31 [urllib3.connectionpool] DEBUG: https://www.mckinsey.com:443 \"GET /our-people/jan-christoph-kostring HTTP/1.1\" 200 14786\n",
      "2020-02-18 12:20:31 [urllib3.connectionpool] DEBUG: Starting new HTTPS connection (1): www.mckinsey.com:443\n"
     ]
    },
    {
     "name": "stdout",
     "output_type": "stream",
     "text": [
      "https://www.mckinsey.com/our-people/lukasz-abramowicz\n"
     ]
    },
    {
     "name": "stderr",
     "output_type": "stream",
     "text": [
      "2020-02-18 12:20:32 [urllib3.connectionpool] DEBUG: https://www.mckinsey.com:443 \"GET /our-people/lukasz-abramowicz HTTP/1.1\" 200 14664\n",
      "2020-02-18 12:20:32 [urllib3.connectionpool] DEBUG: Starting new HTTPS connection (1): www.mckinsey.com:443\n"
     ]
    },
    {
     "name": "stdout",
     "output_type": "stream",
     "text": [
      "https://www.mckinsey.com/our-people/roger-roberts\n"
     ]
    },
    {
     "name": "stderr",
     "output_type": "stream",
     "text": [
      "2020-02-18 12:20:34 [urllib3.connectionpool] DEBUG: https://www.mckinsey.com:443 \"GET /our-people/roger-roberts HTTP/1.1\" 200 15255\n",
      "2020-02-18 12:20:34 [urllib3.connectionpool] DEBUG: Starting new HTTPS connection (1): www.mckinsey.com:443\n"
     ]
    },
    {
     "name": "stdout",
     "output_type": "stream",
     "text": [
      "https://www.mckinsey.com/business-functions/operations/our-insights/making-product-development-as-digital-as-tomorrows-products\n"
     ]
    },
    {
     "name": "stderr",
     "output_type": "stream",
     "text": [
      "2020-02-18 12:20:34 [urllib3.connectionpool] DEBUG: https://www.mckinsey.com:443 \"GET /business-functions/operations/our-insights/making-product-development-as-digital-as-tomorrows-products HTTP/1.1\" 200 18588\n",
      "2020-02-18 12:20:34 [scrapy.core.scraper] ERROR: Spider error processing <GET https://www.mckinsey.com/business-functions/operations/our-insights/making-product-development-as-digital-as-tomorrows-products> (referer: None)\n",
      "Traceback (most recent call last):\n",
      "  File \"D:\\ProgramData\\Anaconda3\\lib\\site-packages\\twisted\\internet\\defer.py\", line 654, in _runCallbacks\n",
      "    current.result = callback(current.result, *args, **kw)\n",
      "  File \"<ipython-input-122-8fc83100377c>\", line 41, in parse\n",
      "    page_date = re.findall(date_regex, page_script)[0]\n",
      "IndexError: list index out of range\n",
      "2020-02-18 12:20:34 [urllib3.connectionpool] DEBUG: Starting new HTTPS connection (1): www.mckinsey.com:443\n"
     ]
    },
    {
     "name": "stdout",
     "output_type": "stream",
     "text": [
      "https://www.mckinsey.com/industries/technology-media-and-telecommunications/how-we-help-clients\n"
     ]
    },
    {
     "name": "stderr",
     "output_type": "stream",
     "text": [
      "2020-02-18 12:20:35 [urllib3.connectionpool] DEBUG: https://www.mckinsey.com:443 \"GET /industries/technology-media-and-telecommunications/how-we-help-clients HTTP/1.1\" 200 21956\n",
      "2020-02-18 12:20:35 [scrapy.core.scraper] ERROR: Spider error processing <GET https://www.mckinsey.com/industries/technology-media-and-telecommunications/how-we-help-clients> (referer: None)\n",
      "Traceback (most recent call last):\n",
      "  File \"D:\\ProgramData\\Anaconda3\\lib\\site-packages\\twisted\\internet\\defer.py\", line 654, in _runCallbacks\n",
      "    current.result = callback(current.result, *args, **kw)\n",
      "  File \"<ipython-input-122-8fc83100377c>\", line 37, in parse\n",
      "    content_type = re.findall(conttype_regex, page_script)[0]\n",
      "IndexError: list index out of range\n",
      "2020-02-18 12:20:35 [urllib3.connectionpool] DEBUG: Starting new HTTPS connection (1): www.mckinsey.com:443\n"
     ]
    },
    {
     "name": "stdout",
     "output_type": "stream",
     "text": [
      "https://www.mckinsey.com/featured-insights/innovating-europe\n"
     ]
    },
    {
     "name": "stderr",
     "output_type": "stream",
     "text": [
      "2020-02-18 12:20:36 [urllib3.connectionpool] DEBUG: https://www.mckinsey.com:443 \"GET /featured-insights/innovating-europe HTTP/1.1\" 200 20306\n",
      "2020-02-18 12:20:36 [scrapy.core.scraper] ERROR: Spider error processing <GET https://www.mckinsey.com/featured-insights/innovating-europe> (referer: None)\n",
      "Traceback (most recent call last):\n",
      "  File \"D:\\ProgramData\\Anaconda3\\lib\\site-packages\\twisted\\internet\\defer.py\", line 654, in _runCallbacks\n",
      "    current.result = callback(current.result, *args, **kw)\n",
      "  File \"<ipython-input-122-8fc83100377c>\", line 37, in parse\n",
      "    content_type = re.findall(conttype_regex, page_script)[0]\n",
      "IndexError: list index out of range\n",
      "2020-02-18 12:20:36 [scrapy.core.engine] DEBUG: Crawled (200) <GET https://www.mckinsey.com/mgi/overview/in-the-news/solving-the-productivity-puzzle> (referer: None)\n",
      "2020-02-18 12:20:36 [scrapy.core.engine] DEBUG: Crawled (200) <GET https://www.mckinsey.com/industries/capital-projects-and-infrastructure/how-we-help-clients/engineering-and-construction> (referer: None)\n",
      "2020-02-18 12:20:36 [scrapy.core.engine] DEBUG: Crawled (200) <GET https://www.mckinsey.com/business-functions/mckinsey-digital/our-insights/digital-blog/the-five-trends-driving-insurtech-live-from-dia-2018> (referer: None)\n",
      "2020-02-18 12:20:36 [urllib3.connectionpool] DEBUG: Starting new HTTPS connection (1): www.mckinsey.com:443\n"
     ]
    },
    {
     "name": "stdout",
     "output_type": "stream",
     "text": [
      "https://www.mckinsey.com/mgi/overview/in-the-news/solving-the-productivity-puzzle\n"
     ]
    },
    {
     "name": "stderr",
     "output_type": "stream",
     "text": [
      "2020-02-18 12:20:37 [urllib3.connectionpool] DEBUG: https://www.mckinsey.com:443 \"GET /mgi/overview/in-the-news/solving-the-productivity-puzzle HTTP/1.1\" 200 15481\n",
      "2020-02-18 12:20:37 [urllib3.connectionpool] DEBUG: Starting new HTTPS connection (1): www.mckinsey.com:443\n"
     ]
    },
    {
     "name": "stdout",
     "output_type": "stream",
     "text": [
      "https://www.mckinsey.com/industries/capital-projects-and-infrastructure/how-we-help-clients/engineering-and-construction\n"
     ]
    },
    {
     "name": "stderr",
     "output_type": "stream",
     "text": [
      "2020-02-18 12:20:38 [urllib3.connectionpool] DEBUG: https://www.mckinsey.com:443 \"GET /industries/capital-projects-and-infrastructure/how-we-help-clients/engineering-and-construction HTTP/1.1\" 200 18206\n",
      "2020-02-18 12:20:38 [scrapy.core.scraper] ERROR: Spider error processing <GET https://www.mckinsey.com/industries/capital-projects-and-infrastructure/how-we-help-clients/engineering-and-construction> (referer: None)\n",
      "Traceback (most recent call last):\n",
      "  File \"D:\\ProgramData\\Anaconda3\\lib\\site-packages\\twisted\\internet\\defer.py\", line 654, in _runCallbacks\n",
      "    current.result = callback(current.result, *args, **kw)\n",
      "  File \"<ipython-input-122-8fc83100377c>\", line 41, in parse\n",
      "    page_date = re.findall(date_regex, page_script)[0]\n",
      "IndexError: list index out of range\n",
      "2020-02-18 12:20:38 [urllib3.connectionpool] DEBUG: Starting new HTTPS connection (1): www.mckinsey.com:443\n"
     ]
    },
    {
     "name": "stdout",
     "output_type": "stream",
     "text": [
      "https://www.mckinsey.com/business-functions/mckinsey-digital/our-insights/digital-blog/the-five-trends-driving-insurtech-live-from-dia-2018\n"
     ]
    },
    {
     "name": "stderr",
     "output_type": "stream",
     "text": [
      "2020-02-18 12:20:39 [urllib3.connectionpool] DEBUG: https://www.mckinsey.com:443 \"GET /business-functions/mckinsey-digital/our-insights/digital-blog/the-five-trends-driving-insurtech-live-from-dia-2018 HTTP/1.1\" 200 14993\n",
      "2020-02-18 12:20:39 [scrapy.core.scraper] ERROR: Spider error processing <GET https://www.mckinsey.com/business-functions/mckinsey-digital/our-insights/digital-blog/the-five-trends-driving-insurtech-live-from-dia-2018> (referer: None)\n",
      "Traceback (most recent call last):\n",
      "  File \"D:\\ProgramData\\Anaconda3\\lib\\site-packages\\twisted\\internet\\defer.py\", line 654, in _runCallbacks\n",
      "    current.result = callback(current.result, *args, **kw)\n",
      "  File \"<ipython-input-122-8fc83100377c>\", line 37, in parse\n",
      "    content_type = re.findall(conttype_regex, page_script)[0]\n",
      "IndexError: list index out of range\n",
      "2020-02-18 12:20:39 [scrapy.core.engine] DEBUG: Crawled (200) <GET https://www.mckinsey.com/our-people/solveigh-hieronimus> (referer: None)\n",
      "2020-02-18 12:20:39 [scrapy.core.engine] DEBUG: Crawled (200) <GET https://www.mckinsey.com/our-people/yogesh-malik> (referer: None)\n",
      "2020-02-18 12:20:39 [scrapy.core.engine] DEBUG: Crawled (200) <GET https://www.mckinsey.com/our-people/tiffany-vogel> (referer: None)\n",
      "2020-02-18 12:20:39 [scrapy.core.engine] DEBUG: Crawled (200) <GET https://www.mckinsey.com/our-people/andrew-pickersgill> (referer: None)\n",
      "2020-02-18 12:20:39 [scrapy.core.engine] DEBUG: Crawled (200) <GET https://www.mckinsey.com/our-people/kevin-buehler> (referer: None)\n",
      "2020-02-18 12:20:39 [scrapy.core.engine] DEBUG: Crawled (200) <GET https://www.mckinsey.com/our-people/marc-brodherson> (referer: None)\n",
      "2020-02-18 12:20:39 [scrapy.core.engine] DEBUG: Crawled (200) <GET https://www.mckinsey.com/industries/consumer-packaged-goods/our-insights/digital-and-analytics-in-consumer/capabilities/advanced-analytics> (referer: None)\n",
      "2020-02-18 12:20:39 [scrapy.core.engine] DEBUG: Crawled (200) <GET https://www.mckinsey.com/our-people/sachin-chitturu> (referer: None)\n",
      "2020-02-18 12:20:39 [urllib3.connectionpool] DEBUG: Starting new HTTPS connection (1): www.mckinsey.com:443\n"
     ]
    },
    {
     "name": "stdout",
     "output_type": "stream",
     "text": [
      "https://www.mckinsey.com/our-people/solveigh-hieronimus\n"
     ]
    },
    {
     "name": "stderr",
     "output_type": "stream",
     "text": [
      "2020-02-18 12:20:40 [urllib3.connectionpool] DEBUG: https://www.mckinsey.com:443 \"GET /our-people/solveigh-hieronimus HTTP/1.1\" 200 14765\n",
      "2020-02-18 12:20:40 [urllib3.connectionpool] DEBUG: Starting new HTTPS connection (1): www.mckinsey.com:443\n"
     ]
    },
    {
     "name": "stdout",
     "output_type": "stream",
     "text": [
      "https://www.mckinsey.com/our-people/yogesh-malik\n"
     ]
    },
    {
     "name": "stderr",
     "output_type": "stream",
     "text": [
      "2020-02-18 12:20:41 [urllib3.connectionpool] DEBUG: https://www.mckinsey.com:443 \"GET /our-people/yogesh-malik HTTP/1.1\" 200 15519\n",
      "2020-02-18 12:20:41 [urllib3.connectionpool] DEBUG: Starting new HTTPS connection (1): www.mckinsey.com:443\n"
     ]
    },
    {
     "name": "stdout",
     "output_type": "stream",
     "text": [
      "https://www.mckinsey.com/our-people/tiffany-vogel\n"
     ]
    },
    {
     "name": "stderr",
     "output_type": "stream",
     "text": [
      "2020-02-18 12:20:42 [urllib3.connectionpool] DEBUG: https://www.mckinsey.com:443 \"GET /our-people/tiffany-vogel HTTP/1.1\" 200 15760\n",
      "2020-02-18 12:20:42 [scrapy.core.engine] DEBUG: Crawled (200) <GET https://www.mckinsey.com/business-functions/mckinsey-digital/careers/she-shapes-digital-meetup-event> (referer: None)\n",
      "2020-02-18 12:20:42 [scrapy.core.engine] DEBUG: Crawled (200) <GET https://www.mckinsey.com/fi/our-people> (referer: None)\n",
      "2020-02-18 12:20:42 [scrapy.core.engine] DEBUG: Crawled (200) <GET https://www.mckinsey.com/business-functions/learning-programs-for-clients/overview/experience-studio/overview> (referer: None)\n",
      "2020-02-18 12:20:42 [scrapy.core.engine] DEBUG: Crawled (200) <GET https://www.mckinsey.com/featured-insights/future-of-work/thomas-l-friedman-and-james-manyika-the-worlds-gone-from-flat-to-fast-to-deep> (referer: None)\n",
      "2020-02-18 12:20:42 [scrapy.core.engine] DEBUG: Crawled (200) <GET https://www.mckinsey.com/our-people/martin-harrysson> (referer: None)\n",
      "2020-02-18 12:20:42 [scrapy.core.engine] DEBUG: Crawled (200) <GET https://www.mckinsey.com/middle-east/our-work/mckinsey-eema-digital-and-analytics-summit-2017-reinventing-yourself-through-digital> (referer: None)\n",
      "2020-02-18 12:20:42 [scrapy.core.engine] DEBUG: Crawled (200) <GET https://www.mckinsey.com/solutions/wave/our-impact/public-university-turns-to-wave-to-help-track-key-performance-indicators> (referer: None)\n",
      "2020-02-18 12:20:42 [scrapy.core.engine] DEBUG: Crawled (200) <GET https://www.mckinsey.com/careers/expedition/workshops> (referer: None)\n",
      "2020-02-18 12:20:42 [urllib3.connectionpool] DEBUG: Starting new HTTPS connection (1): www.mckinsey.com:443\n"
     ]
    },
    {
     "name": "stdout",
     "output_type": "stream",
     "text": [
      "https://www.mckinsey.com/our-people/andrew-pickersgill\n"
     ]
    },
    {
     "name": "stderr",
     "output_type": "stream",
     "text": [
      "2020-02-18 12:20:44 [urllib3.connectionpool] DEBUG: https://www.mckinsey.com:443 \"GET /our-people/andrew-pickersgill HTTP/1.1\" 200 15604\n",
      "2020-02-18 12:20:44 [urllib3.connectionpool] DEBUG: Starting new HTTPS connection (1): www.mckinsey.com:443\n"
     ]
    },
    {
     "name": "stdout",
     "output_type": "stream",
     "text": [
      "https://www.mckinsey.com/our-people/kevin-buehler\n"
     ]
    },
    {
     "name": "stderr",
     "output_type": "stream",
     "text": [
      "2020-02-18 12:20:45 [urllib3.connectionpool] DEBUG: https://www.mckinsey.com:443 \"GET /our-people/kevin-buehler HTTP/1.1\" 200 15244\n",
      "2020-02-18 12:20:45 [urllib3.connectionpool] DEBUG: Starting new HTTPS connection (1): www.mckinsey.com:443\n"
     ]
    },
    {
     "name": "stdout",
     "output_type": "stream",
     "text": [
      "https://www.mckinsey.com/our-people/marc-brodherson\n"
     ]
    },
    {
     "name": "stderr",
     "output_type": "stream",
     "text": [
      "2020-02-18 12:20:46 [urllib3.connectionpool] DEBUG: https://www.mckinsey.com:443 \"GET /our-people/marc-brodherson HTTP/1.1\" 200 15162\n",
      "2020-02-18 12:20:46 [urllib3.connectionpool] DEBUG: Starting new HTTPS connection (1): www.mckinsey.com:443\n"
     ]
    },
    {
     "name": "stdout",
     "output_type": "stream",
     "text": [
      "https://www.mckinsey.com/industries/consumer-packaged-goods/our-insights/digital-and-analytics-in-consumer/capabilities/advanced-analytics\n"
     ]
    },
    {
     "name": "stderr",
     "output_type": "stream",
     "text": [
      "2020-02-18 12:20:47 [urllib3.connectionpool] DEBUG: https://www.mckinsey.com:443 \"GET /industries/consumer-packaged-goods/our-insights/digital-and-analytics-in-consumer/capabilities/advanced-analytics HTTP/1.1\" 200 14372\n",
      "2020-02-18 12:20:47 [scrapy.core.scraper] ERROR: Spider error processing <GET https://www.mckinsey.com/industries/consumer-packaged-goods/our-insights/digital-and-analytics-in-consumer/capabilities/advanced-analytics> (referer: None)\n",
      "Traceback (most recent call last):\n",
      "  File \"D:\\ProgramData\\Anaconda3\\lib\\site-packages\\twisted\\internet\\defer.py\", line 654, in _runCallbacks\n",
      "    current.result = callback(current.result, *args, **kw)\n",
      "  File \"<ipython-input-122-8fc83100377c>\", line 41, in parse\n",
      "    page_date = re.findall(date_regex, page_script)[0]\n",
      "IndexError: list index out of range\n",
      "2020-02-18 12:20:47 [urllib3.connectionpool] DEBUG: Starting new HTTPS connection (1): www.mckinsey.com:443\n"
     ]
    },
    {
     "name": "stdout",
     "output_type": "stream",
     "text": [
      "https://www.mckinsey.com/our-people/sachin-chitturu\n"
     ]
    },
    {
     "name": "stderr",
     "output_type": "stream",
     "text": [
      "2020-02-18 12:20:48 [urllib3.connectionpool] DEBUG: https://www.mckinsey.com:443 \"GET /our-people/sachin-chitturu HTTP/1.1\" 200 14724\n",
      "2020-02-18 12:20:48 [urllib3.connectionpool] DEBUG: Starting new HTTPS connection (1): www.mckinsey.com:443\n"
     ]
    },
    {
     "name": "stdout",
     "output_type": "stream",
     "text": [
      "https://www.mckinsey.com/business-functions/mckinsey-digital/careers/she-shapes-digital-meetup-event\n"
     ]
    },
    {
     "name": "stderr",
     "output_type": "stream",
     "text": [
      "2020-02-18 12:20:48 [urllib3.connectionpool] DEBUG: https://www.mckinsey.com:443 \"GET /business-functions/mckinsey-digital/careers/she-shapes-digital-meetup-event HTTP/1.1\" 200 12549\n",
      "2020-02-18 12:20:48 [scrapy.core.scraper] ERROR: Spider error processing <GET https://www.mckinsey.com/business-functions/mckinsey-digital/careers/she-shapes-digital-meetup-event> (referer: None)\n",
      "Traceback (most recent call last):\n",
      "  File \"D:\\ProgramData\\Anaconda3\\lib\\site-packages\\twisted\\internet\\defer.py\", line 654, in _runCallbacks\n",
      "    current.result = callback(current.result, *args, **kw)\n",
      "  File \"<ipython-input-122-8fc83100377c>\", line 41, in parse\n",
      "    page_date = re.findall(date_regex, page_script)[0]\n",
      "IndexError: list index out of range\n",
      "2020-02-18 12:20:48 [urllib3.connectionpool] DEBUG: Starting new HTTPS connection (1): www.mckinsey.com:443\n"
     ]
    },
    {
     "name": "stdout",
     "output_type": "stream",
     "text": [
      "https://www.mckinsey.com/fi/our-people\n"
     ]
    },
    {
     "name": "stderr",
     "output_type": "stream",
     "text": [
      "2020-02-18 12:20:48 [urllib3.connectionpool] DEBUG: https://www.mckinsey.com:443 \"GET /fi/our-people HTTP/1.1\" 200 12617\n",
      "2020-02-18 12:20:48 [scrapy.core.scraper] ERROR: Spider error processing <GET https://www.mckinsey.com/fi/our-people> (referer: None)\n",
      "Traceback (most recent call last):\n",
      "  File \"D:\\ProgramData\\Anaconda3\\lib\\site-packages\\twisted\\internet\\defer.py\", line 654, in _runCallbacks\n",
      "    current.result = callback(current.result, *args, **kw)\n",
      "  File \"<ipython-input-122-8fc83100377c>\", line 37, in parse\n",
      "    content_type = re.findall(conttype_regex, page_script)[0]\n",
      "IndexError: list index out of range\n",
      "2020-02-18 12:20:48 [urllib3.connectionpool] DEBUG: Starting new HTTPS connection (1): www.mckinsey.com:443\n"
     ]
    },
    {
     "name": "stdout",
     "output_type": "stream",
     "text": [
      "https://www.mckinsey.com/business-functions/learning-programs-for-clients/overview/experience-studio/overview\n"
     ]
    },
    {
     "name": "stderr",
     "output_type": "stream",
     "text": [
      "2020-02-18 12:20:49 [urllib3.connectionpool] DEBUG: https://www.mckinsey.com:443 \"GET /business-functions/learning-programs-for-clients/overview/experience-studio/overview HTTP/1.1\" 200 14586\n",
      "2020-02-18 12:20:49 [scrapy.core.scraper] ERROR: Spider error processing <GET https://www.mckinsey.com/business-functions/learning-programs-for-clients/overview/experience-studio/overview> (referer: None)\n",
      "Traceback (most recent call last):\n",
      "  File \"D:\\ProgramData\\Anaconda3\\lib\\site-packages\\twisted\\internet\\defer.py\", line 654, in _runCallbacks\n",
      "    current.result = callback(current.result, *args, **kw)\n",
      "  File \"<ipython-input-122-8fc83100377c>\", line 37, in parse\n",
      "    content_type = re.findall(conttype_regex, page_script)[0]\n",
      "IndexError: list index out of range\n",
      "2020-02-18 12:20:49 [urllib3.connectionpool] DEBUG: Starting new HTTPS connection (1): www.mckinsey.com:443\n"
     ]
    },
    {
     "name": "stdout",
     "output_type": "stream",
     "text": [
      "https://www.mckinsey.com/featured-insights/future-of-work/thomas-l-friedman-and-james-manyika-the-worlds-gone-from-flat-to-fast-to-deep\n"
     ]
    },
    {
     "name": "stderr",
     "output_type": "stream",
     "text": [
      "2020-02-18 12:20:50 [urllib3.connectionpool] DEBUG: https://www.mckinsey.com:443 \"GET /featured-insights/future-of-work/thomas-l-friedman-and-james-manyika-the-worlds-gone-from-flat-to-fast-to-deep HTTP/1.1\" 200 15627\n",
      "2020-02-18 12:20:50 [urllib3.connectionpool] DEBUG: Starting new HTTPS connection (1): www.mckinsey.com:443\n"
     ]
    },
    {
     "name": "stdout",
     "output_type": "stream",
     "text": [
      "https://www.mckinsey.com/our-people/martin-harrysson\n"
     ]
    },
    {
     "name": "stderr",
     "output_type": "stream",
     "text": [
      "2020-02-18 12:20:51 [urllib3.connectionpool] DEBUG: https://www.mckinsey.com:443 \"GET /our-people/martin-harrysson HTTP/1.1\" 200 15248\n",
      "2020-02-18 12:20:51 [urllib3.connectionpool] DEBUG: Starting new HTTPS connection (1): www.mckinsey.com:443\n"
     ]
    },
    {
     "name": "stdout",
     "output_type": "stream",
     "text": [
      "https://www.mckinsey.com/middle-east/our-work/mckinsey-eema-digital-and-analytics-summit-2017-reinventing-yourself-through-digital\n"
     ]
    },
    {
     "name": "stderr",
     "output_type": "stream",
     "text": [
      "2020-02-18 12:20:51 [urllib3.connectionpool] DEBUG: https://www.mckinsey.com:443 \"GET /middle-east/our-work/mckinsey-eema-digital-and-analytics-summit-2017-reinventing-yourself-through-digital HTTP/1.1\" 200 12286\n",
      "2020-02-18 12:20:51 [scrapy.core.scraper] ERROR: Spider error processing <GET https://www.mckinsey.com/middle-east/our-work/mckinsey-eema-digital-and-analytics-summit-2017-reinventing-yourself-through-digital> (referer: None)\n",
      "Traceback (most recent call last):\n",
      "  File \"D:\\ProgramData\\Anaconda3\\lib\\site-packages\\twisted\\internet\\defer.py\", line 654, in _runCallbacks\n",
      "    current.result = callback(current.result, *args, **kw)\n",
      "  File \"<ipython-input-122-8fc83100377c>\", line 37, in parse\n",
      "    content_type = re.findall(conttype_regex, page_script)[0]\n",
      "IndexError: list index out of range\n",
      "2020-02-18 12:20:51 [urllib3.connectionpool] DEBUG: Starting new HTTPS connection (1): www.mckinsey.com:443\n"
     ]
    },
    {
     "name": "stdout",
     "output_type": "stream",
     "text": [
      "https://www.mckinsey.com/solutions/wave/our-impact/public-university-turns-to-wave-to-help-track-key-performance-indicators\n"
     ]
    },
    {
     "name": "stderr",
     "output_type": "stream",
     "text": [
      "2020-02-18 12:20:52 [urllib3.connectionpool] DEBUG: https://www.mckinsey.com:443 \"GET /solutions/wave/our-impact/public-university-turns-to-wave-to-help-track-key-performance-indicators HTTP/1.1\" 200 12441\n",
      "2020-02-18 12:20:52 [scrapy.core.scraper] ERROR: Spider error processing <GET https://www.mckinsey.com/solutions/wave/our-impact/public-university-turns-to-wave-to-help-track-key-performance-indicators> (referer: None)\n",
      "Traceback (most recent call last):\n",
      "  File \"D:\\ProgramData\\Anaconda3\\lib\\site-packages\\twisted\\internet\\defer.py\", line 654, in _runCallbacks\n",
      "    current.result = callback(current.result, *args, **kw)\n",
      "  File \"<ipython-input-122-8fc83100377c>\", line 37, in parse\n",
      "    content_type = re.findall(conttype_regex, page_script)[0]\n",
      "IndexError: list index out of range\n",
      "2020-02-18 12:20:52 [urllib3.connectionpool] DEBUG: Starting new HTTPS connection (1): www.mckinsey.com:443\n"
     ]
    },
    {
     "name": "stdout",
     "output_type": "stream",
     "text": [
      "https://www.mckinsey.com/careers/expedition/workshops\n"
     ]
    },
    {
     "name": "stderr",
     "output_type": "stream",
     "text": [
      "2020-02-18 12:20:52 [urllib3.connectionpool] DEBUG: https://www.mckinsey.com:443 \"GET /careers/expedition/workshops HTTP/1.1\" 200 13810\n",
      "2020-02-18 12:20:52 [scrapy.core.scraper] ERROR: Spider error processing <GET https://www.mckinsey.com/careers/expedition/workshops> (referer: None)\n",
      "Traceback (most recent call last):\n",
      "  File \"D:\\ProgramData\\Anaconda3\\lib\\site-packages\\twisted\\internet\\defer.py\", line 654, in _runCallbacks\n",
      "    current.result = callback(current.result, *args, **kw)\n",
      "  File \"<ipython-input-122-8fc83100377c>\", line 37, in parse\n",
      "    content_type = re.findall(conttype_regex, page_script)[0]\n",
      "IndexError: list index out of range\n",
      "2020-02-18 12:20:52 [scrapy.core.engine] DEBUG: Crawled (200) <GET https://www.mckinsey.com/business-functions/mckinsey-digital/our-insights/it-growth-and-global-change-a-conversation-with-ray-kurzweil> (referer: None)\n",
      "2020-02-18 12:20:52 [scrapy.core.engine] DEBUG: Crawled (200) <GET https://www.mckinsey.com/business-functions/mckinsey-digital/our-insights/messaging-apps-are-changing-how-companies-talk-with-customers> (referer: None)\n",
      "2020-02-18 12:20:52 [scrapy.core.engine] DEBUG: Crawled (200) <GET https://www.mckinsey.com/featured-insights/future-of-asia/australia-new-zealand> (referer: None)\n",
      "2020-02-18 12:20:52 [scrapy.core.engine] DEBUG: Crawled (200) <GET https://www.mckinsey.com/our-people/anuj-kadyan> (referer: None)\n",
      "2020-02-18 12:20:52 [urllib3.connectionpool] DEBUG: Starting new HTTPS connection (1): www.mckinsey.com:443\n"
     ]
    },
    {
     "name": "stdout",
     "output_type": "stream",
     "text": [
      "https://www.mckinsey.com/business-functions/mckinsey-digital/our-insights/it-growth-and-global-change-a-conversation-with-ray-kurzweil\n"
     ]
    },
    {
     "name": "stderr",
     "output_type": "stream",
     "text": [
      "2020-02-18 12:20:53 [urllib3.connectionpool] DEBUG: https://www.mckinsey.com:443 \"GET /business-functions/mckinsey-digital/our-insights/it-growth-and-global-change-a-conversation-with-ray-kurzweil HTTP/1.1\" 200 14110\n",
      "2020-02-18 12:20:53 [scrapy.core.engine] DEBUG: Crawled (200) <GET https://www.mckinsey.com/business-functions/mckinsey-digital/our-insights/tech-enabled-transformation> (referer: None)\n",
      "2020-02-18 12:20:53 [urllib3.connectionpool] DEBUG: Starting new HTTPS connection (1): www.mckinsey.com:443\n"
     ]
    },
    {
     "name": "stdout",
     "output_type": "stream",
     "text": [
      "https://www.mckinsey.com/business-functions/mckinsey-digital/our-insights/messaging-apps-are-changing-how-companies-talk-with-customers\n"
     ]
    },
    {
     "name": "stderr",
     "output_type": "stream",
     "text": [
      "2020-02-18 12:20:54 [urllib3.connectionpool] DEBUG: https://www.mckinsey.com:443 \"GET /business-functions/mckinsey-digital/our-insights/messaging-apps-are-changing-how-companies-talk-with-customers HTTP/1.1\" 200 13509\n",
      "2020-02-18 12:20:54 [urllib3.connectionpool] DEBUG: Starting new HTTPS connection (1): www.mckinsey.com:443\n"
     ]
    },
    {
     "name": "stdout",
     "output_type": "stream",
     "text": [
      "https://www.mckinsey.com/featured-insights/future-of-asia/australia-new-zealand\n"
     ]
    },
    {
     "name": "stderr",
     "output_type": "stream",
     "text": [
      "2020-02-18 12:20:54 [urllib3.connectionpool] DEBUG: https://www.mckinsey.com:443 \"GET /featured-insights/future-of-asia/australia-new-zealand HTTP/1.1\" 200 14590\n",
      "2020-02-18 12:20:54 [scrapy.core.scraper] ERROR: Spider error processing <GET https://www.mckinsey.com/featured-insights/future-of-asia/australia-new-zealand> (referer: None)\n",
      "Traceback (most recent call last):\n",
      "  File \"D:\\ProgramData\\Anaconda3\\lib\\site-packages\\twisted\\internet\\defer.py\", line 654, in _runCallbacks\n",
      "    current.result = callback(current.result, *args, **kw)\n",
      "  File \"<ipython-input-122-8fc83100377c>\", line 37, in parse\n",
      "    content_type = re.findall(conttype_regex, page_script)[0]\n",
      "IndexError: list index out of range\n",
      "2020-02-18 12:20:54 [urllib3.connectionpool] DEBUG: Starting new HTTPS connection (1): www.mckinsey.com:443\n"
     ]
    },
    {
     "name": "stdout",
     "output_type": "stream",
     "text": [
      "https://www.mckinsey.com/our-people/anuj-kadyan\n"
     ]
    },
    {
     "name": "stderr",
     "output_type": "stream",
     "text": [
      "2020-02-18 12:20:55 [urllib3.connectionpool] DEBUG: https://www.mckinsey.com:443 \"GET /our-people/anuj-kadyan HTTP/1.1\" 200 14928\n",
      "2020-02-18 12:20:55 [scrapy.core.engine] DEBUG: Crawled (200) <GET https://www.mckinsey.com.br/en/our-insights/risk> (referer: None)\n",
      "2020-02-18 12:20:55 [scrapy.core.engine] DEBUG: Crawled (200) <GET https://www.mckinsey.com/industries/consumer-packaged-goods/our-insights/digital-and-analytics-in-consumer/value-drivers/back-turbocharge-your-support-functions> (referer: None)\n",
      "2020-02-18 12:20:55 [scrapy.core.engine] DEBUG: Crawled (200) <GET https://www.mckinsey.com/industries/capital-projects-and-infrastructure/our-insights/seizing-opportunity-in-todays-construction-technology-ecosystem> (referer: None)\n",
      "2020-02-18 12:20:55 [scrapy.core.engine] DEBUG: Crawled (200) <GET https://www.mckinsey.com/business-functions/risk/our-insights/mckinsey-on-risk/mckinsey-on-risk-number-4-winter-2018> (referer: None)\n",
      "2020-02-18 12:20:55 [scrapy.core.engine] DEBUG: Crawled (200) <GET https://www.mckinsey.com/our-people/tamim-saleh> (referer: None)\n",
      "2020-02-18 12:20:55 [scrapy.core.engine] DEBUG: Crawled (200) <GET https://www.mckinsey.com/our-people/thomas-meakin> (referer: None)\n",
      "2020-02-18 12:20:55 [scrapy.core.engine] DEBUG: Crawled (200) <GET https://www.mckinsey.com/our-people/vik-sohoni> (referer: None)\n",
      "2020-02-18 12:20:55 [scrapy.core.engine] DEBUG: Crawled (200) <GET https://www.mckinsey.com/industries/automotive-and-assembly/our-insights/setting-the-framework-for-car-connectivity-and-user-experience> (referer: None)\n",
      "2020-02-18 12:20:55 [urllib3.connectionpool] DEBUG: Starting new HTTPS connection (1): www.mckinsey.com:443\n"
     ]
    },
    {
     "name": "stdout",
     "output_type": "stream",
     "text": [
      "https://www.mckinsey.com/business-functions/mckinsey-digital/our-insights/tech-enabled-transformation\n"
     ]
    },
    {
     "name": "stderr",
     "output_type": "stream",
     "text": [
      "2020-02-18 12:20:56 [urllib3.connectionpool] DEBUG: https://www.mckinsey.com:443 \"GET /business-functions/mckinsey-digital/our-insights/tech-enabled-transformation HTTP/1.1\" 200 13418\n",
      "2020-02-18 12:20:56 [scrapy.core.scraper] ERROR: Spider error processing <GET https://www.mckinsey.com/business-functions/mckinsey-digital/our-insights/tech-enabled-transformation> (referer: None)\n",
      "Traceback (most recent call last):\n",
      "  File \"D:\\ProgramData\\Anaconda3\\lib\\site-packages\\twisted\\internet\\defer.py\", line 654, in _runCallbacks\n",
      "    current.result = callback(current.result, *args, **kw)\n",
      "  File \"<ipython-input-122-8fc83100377c>\", line 41, in parse\n",
      "    page_date = re.findall(date_regex, page_script)[0]\n",
      "IndexError: list index out of range\n",
      "2020-02-18 12:20:56 [scrapy.core.engine] DEBUG: Crawled (200) <GET https://www.mckinsey.com/middle-east/our-insights> (referer: None)\n",
      "2020-02-18 12:20:56 [urllib3.connectionpool] DEBUG: Starting new HTTPS connection (1): www.mckinsey.com.br:443\n"
     ]
    },
    {
     "name": "stdout",
     "output_type": "stream",
     "text": [
      "https://www.mckinsey.com.br/en/our-insights/risk\n"
     ]
    },
    {
     "name": "stderr",
     "output_type": "stream",
     "text": [
      "2020-02-18 12:20:57 [urllib3.connectionpool] DEBUG: https://www.mckinsey.com.br:443 \"GET /en/our-insights/risk HTTP/1.1\" 200 14230\n",
      "2020-02-18 12:20:57 [scrapy.core.scraper] ERROR: Spider error processing <GET https://www.mckinsey.com.br/en/our-insights/risk> (referer: None)\n",
      "Traceback (most recent call last):\n",
      "  File \"D:\\ProgramData\\Anaconda3\\lib\\site-packages\\twisted\\internet\\defer.py\", line 654, in _runCallbacks\n",
      "    current.result = callback(current.result, *args, **kw)\n",
      "  File \"<ipython-input-122-8fc83100377c>\", line 37, in parse\n",
      "    content_type = re.findall(conttype_regex, page_script)[0]\n",
      "IndexError: list index out of range\n",
      "2020-02-18 12:20:57 [urllib3.connectionpool] DEBUG: Starting new HTTPS connection (1): www.mckinsey.com:443\n"
     ]
    },
    {
     "name": "stdout",
     "output_type": "stream",
     "text": [
      "https://www.mckinsey.com/industries/consumer-packaged-goods/our-insights/digital-and-analytics-in-consumer/value-drivers/back-turbocharge-your-support-functions\n"
     ]
    },
    {
     "name": "stderr",
     "output_type": "stream",
     "text": [
      "2020-02-18 12:20:58 [urllib3.connectionpool] DEBUG: https://www.mckinsey.com:443 \"GET /industries/consumer-packaged-goods/our-insights/digital-and-analytics-in-consumer/value-drivers/back-turbocharge-your-support-functions HTTP/1.1\" 200 15538\n",
      "2020-02-18 12:20:58 [scrapy.core.scraper] ERROR: Spider error processing <GET https://www.mckinsey.com/industries/consumer-packaged-goods/our-insights/digital-and-analytics-in-consumer/value-drivers/back-turbocharge-your-support-functions> (referer: None)\n",
      "Traceback (most recent call last):\n",
      "  File \"D:\\ProgramData\\Anaconda3\\lib\\site-packages\\twisted\\internet\\defer.py\", line 654, in _runCallbacks\n",
      "    current.result = callback(current.result, *args, **kw)\n",
      "  File \"<ipython-input-122-8fc83100377c>\", line 41, in parse\n",
      "    page_date = re.findall(date_regex, page_script)[0]\n",
      "IndexError: list index out of range\n",
      "2020-02-18 12:20:58 [urllib3.connectionpool] DEBUG: Starting new HTTPS connection (1): www.mckinsey.com:443\n"
     ]
    },
    {
     "name": "stdout",
     "output_type": "stream",
     "text": [
      "https://www.mckinsey.com/industries/capital-projects-and-infrastructure/our-insights/seizing-opportunity-in-todays-construction-technology-ecosystem\n"
     ]
    },
    {
     "name": "stderr",
     "output_type": "stream",
     "text": [
      "2020-02-18 12:20:58 [urllib3.connectionpool] DEBUG: https://www.mckinsey.com:443 \"GET /industries/capital-projects-and-infrastructure/our-insights/seizing-opportunity-in-todays-construction-technology-ecosystem HTTP/1.1\" 200 25947\n",
      "2020-02-18 12:20:58 [urllib3.connectionpool] DEBUG: Starting new HTTPS connection (1): www.mckinsey.com:443\n"
     ]
    },
    {
     "name": "stdout",
     "output_type": "stream",
     "text": [
      "https://www.mckinsey.com/business-functions/risk/our-insights/mckinsey-on-risk/mckinsey-on-risk-number-4-winter-2018\n"
     ]
    },
    {
     "name": "stderr",
     "output_type": "stream",
     "text": [
      "2020-02-18 12:20:59 [urllib3.connectionpool] DEBUG: https://www.mckinsey.com:443 \"GET /business-functions/risk/our-insights/mckinsey-on-risk/mckinsey-on-risk-number-4-winter-2018 HTTP/1.1\" 200 14356\n",
      "2020-02-18 12:20:59 [scrapy.core.scraper] ERROR: Spider error processing <GET https://www.mckinsey.com/business-functions/risk/our-insights/mckinsey-on-risk/mckinsey-on-risk-number-4-winter-2018> (referer: None)\n",
      "Traceback (most recent call last):\n",
      "  File \"D:\\ProgramData\\Anaconda3\\lib\\site-packages\\twisted\\internet\\defer.py\", line 654, in _runCallbacks\n",
      "    current.result = callback(current.result, *args, **kw)\n",
      "  File \"<ipython-input-122-8fc83100377c>\", line 41, in parse\n",
      "    page_date = re.findall(date_regex, page_script)[0]\n",
      "IndexError: list index out of range\n",
      "2020-02-18 12:20:59 [urllib3.connectionpool] DEBUG: Starting new HTTPS connection (1): www.mckinsey.com:443\n"
     ]
    },
    {
     "name": "stdout",
     "output_type": "stream",
     "text": [
      "https://www.mckinsey.com/our-people/tamim-saleh\n"
     ]
    },
    {
     "name": "stderr",
     "output_type": "stream",
     "text": [
      "2020-02-18 12:21:00 [urllib3.connectionpool] DEBUG: https://www.mckinsey.com:443 \"GET /our-people/tamim-saleh HTTP/1.1\" 200 15563\n",
      "2020-02-18 12:21:00 [urllib3.connectionpool] DEBUG: Starting new HTTPS connection (1): www.mckinsey.com:443\n"
     ]
    },
    {
     "name": "stdout",
     "output_type": "stream",
     "text": [
      "https://www.mckinsey.com/our-people/thomas-meakin\n"
     ]
    },
    {
     "name": "stderr",
     "output_type": "stream",
     "text": [
      "2020-02-18 12:21:01 [urllib3.connectionpool] DEBUG: https://www.mckinsey.com:443 \"GET /our-people/thomas-meakin HTTP/1.1\" 200 15240\n",
      "2020-02-18 12:21:01 [urllib3.connectionpool] DEBUG: Starting new HTTPS connection (1): www.mckinsey.com:443\n"
     ]
    },
    {
     "name": "stdout",
     "output_type": "stream",
     "text": [
      "https://www.mckinsey.com/our-people/vik-sohoni\n"
     ]
    },
    {
     "name": "stderr",
     "output_type": "stream",
     "text": [
      "2020-02-18 12:21:02 [urllib3.connectionpool] DEBUG: https://www.mckinsey.com:443 \"GET /our-people/vik-sohoni HTTP/1.1\" 200 15111\n",
      "2020-02-18 12:21:02 [urllib3.connectionpool] DEBUG: Starting new HTTPS connection (1): www.mckinsey.com:443\n"
     ]
    },
    {
     "name": "stdout",
     "output_type": "stream",
     "text": [
      "https://www.mckinsey.com/industries/automotive-and-assembly/our-insights/setting-the-framework-for-car-connectivity-and-user-experience\n"
     ]
    },
    {
     "name": "stderr",
     "output_type": "stream",
     "text": [
      "2020-02-18 12:21:02 [urllib3.connectionpool] DEBUG: https://www.mckinsey.com:443 \"GET /industries/automotive-and-assembly/our-insights/setting-the-framework-for-car-connectivity-and-user-experience HTTP/1.1\" 200 18594\n",
      "2020-02-18 12:21:02 [scrapy.core.engine] DEBUG: Crawled (200) <GET https://www.mckinsey.com/alumni/news-and-insights/global-news/alumni-news/robert-reffkin-how-did-this-alums-mom-inspire-him-to-create-a-$4b-startup> (referer: None)\n",
      "2020-02-18 12:21:02 [scrapy.core.engine] DEBUG: Crawled (200) <GET https://www.mckinsey.com/our-people/asutosh-padhi> (referer: None)\n",
      "2020-02-18 12:21:02 [scrapy.core.engine] DEBUG: Crawled (200) <GET https://www.mckinsey.com/our-people/diaan-yi-lin> (referer: None)\n",
      "2020-02-18 12:21:02 [scrapy.core.engine] DEBUG: Crawled (200) <GET https://www.mckinsey.com/our-people/jose-luis-blanco> (referer: None)\n",
      "2020-02-18 12:21:02 [scrapy.core.engine] DEBUG: Crawled (200) <GET https://www.mckinsey.com/business-functions/operations/our-insights/what-does-automation-mean-for-ga-and-the-back-office> (referer: None)\n",
      "2020-02-18 12:21:02 [scrapy.core.engine] DEBUG: Crawled (200) <GET https://www.mckinsey.com/business-functions/mckinsey-analytics/our-insights/how-chinas-fintechs-serve-the-underserved> (referer: None)\n",
      "2020-02-18 12:21:02 [scrapy.core.engine] DEBUG: Crawled (200) <GET https://www.mckinsey.com/business-functions/sustainability/how-we-help-clients/circular-economy> (referer: None)\n",
      "2020-02-18 12:21:02 [urllib3.connectionpool] DEBUG: Starting new HTTPS connection (1): www.mckinsey.com:443\n"
     ]
    },
    {
     "name": "stdout",
     "output_type": "stream",
     "text": [
      "https://www.mckinsey.com/middle-east/our-insights\n"
     ]
    },
    {
     "name": "stderr",
     "output_type": "stream",
     "text": [
      "2020-02-18 12:21:03 [urllib3.connectionpool] DEBUG: https://www.mckinsey.com:443 \"GET /middle-east/our-insights HTTP/1.1\" 200 13781\n",
      "2020-02-18 12:21:03 [scrapy.core.scraper] ERROR: Spider error processing <GET https://www.mckinsey.com/middle-east/our-insights> (referer: None)\n",
      "Traceback (most recent call last):\n",
      "  File \"D:\\ProgramData\\Anaconda3\\lib\\site-packages\\twisted\\internet\\defer.py\", line 654, in _runCallbacks\n",
      "    current.result = callback(current.result, *args, **kw)\n",
      "  File \"<ipython-input-122-8fc83100377c>\", line 37, in parse\n",
      "    content_type = re.findall(conttype_regex, page_script)[0]\n",
      "IndexError: list index out of range\n",
      "2020-02-18 12:21:03 [scrapy.core.engine] DEBUG: Crawled (200) <GET https://www.mckinsey.com/quarterly/the-magazine> (referer: None)\n",
      "2020-02-18 12:21:03 [urllib3.connectionpool] DEBUG: Starting new HTTPS connection (1): www.mckinsey.com:443\n"
     ]
    },
    {
     "name": "stdout",
     "output_type": "stream",
     "text": [
      "https://www.mckinsey.com/alumni/news-and-insights/global-news/alumni-news/robert-reffkin-how-did-this-alums-mom-inspire-him-to-create-a-$4b-startup\n"
     ]
    },
    {
     "name": "stderr",
     "output_type": "stream",
     "text": [
      "2020-02-18 12:21:04 [urllib3.connectionpool] DEBUG: https://www.mckinsey.com:443 \"GET /alumni/news-and-insights/global-news/alumni-news/robert-reffkin-how-did-this-alums-mom-inspire-him-to-create-a-$4b-startup HTTP/1.1\" 200 16451\n",
      "2020-02-18 12:21:04 [scrapy.core.scraper] ERROR: Spider error processing <GET https://www.mckinsey.com/alumni/news-and-insights/global-news/alumni-news/robert-reffkin-how-did-this-alums-mom-inspire-him-to-create-a-$4b-startup> (referer: None)\n",
      "Traceback (most recent call last):\n",
      "  File \"D:\\ProgramData\\Anaconda3\\lib\\site-packages\\twisted\\internet\\defer.py\", line 654, in _runCallbacks\n",
      "    current.result = callback(current.result, *args, **kw)\n",
      "  File \"<ipython-input-122-8fc83100377c>\", line 37, in parse\n",
      "    content_type = re.findall(conttype_regex, page_script)[0]\n",
      "IndexError: list index out of range\n",
      "2020-02-18 12:21:04 [urllib3.connectionpool] DEBUG: Starting new HTTPS connection (1): www.mckinsey.com:443\n"
     ]
    },
    {
     "name": "stdout",
     "output_type": "stream",
     "text": [
      "https://www.mckinsey.com/our-people/asutosh-padhi\n"
     ]
    },
    {
     "name": "stderr",
     "output_type": "stream",
     "text": [
      "2020-02-18 12:21:04 [urllib3.connectionpool] DEBUG: https://www.mckinsey.com:443 \"GET /our-people/asutosh-padhi HTTP/1.1\" 200 15115\n",
      "2020-02-18 12:21:04 [urllib3.connectionpool] DEBUG: Starting new HTTPS connection (1): www.mckinsey.com:443\n"
     ]
    },
    {
     "name": "stdout",
     "output_type": "stream",
     "text": [
      "https://www.mckinsey.com/our-people/diaan-yi-lin\n"
     ]
    },
    {
     "name": "stderr",
     "output_type": "stream",
     "text": [
      "2020-02-18 12:21:05 [urllib3.connectionpool] DEBUG: https://www.mckinsey.com:443 \"GET /our-people/diaan-yi-lin HTTP/1.1\" 200 15671\n",
      "2020-02-18 12:21:05 [urllib3.connectionpool] DEBUG: Starting new HTTPS connection (1): www.mckinsey.com:443\n"
     ]
    },
    {
     "name": "stdout",
     "output_type": "stream",
     "text": [
      "https://www.mckinsey.com/our-people/jose-luis-blanco\n"
     ]
    },
    {
     "name": "stderr",
     "output_type": "stream",
     "text": [
      "2020-02-18 12:21:07 [urllib3.connectionpool] DEBUG: https://www.mckinsey.com:443 \"GET /our-people/jose-luis-blanco HTTP/1.1\" 200 15625\n",
      "2020-02-18 12:21:07 [urllib3.connectionpool] DEBUG: Starting new HTTPS connection (1): www.mckinsey.com:443\n"
     ]
    },
    {
     "name": "stdout",
     "output_type": "stream",
     "text": [
      "https://www.mckinsey.com/business-functions/operations/our-insights/what-does-automation-mean-for-ga-and-the-back-office\n"
     ]
    },
    {
     "name": "stderr",
     "output_type": "stream",
     "text": [
      "2020-02-18 12:21:07 [urllib3.connectionpool] DEBUG: https://www.mckinsey.com:443 \"GET /business-functions/operations/our-insights/what-does-automation-mean-for-ga-and-the-back-office HTTP/1.1\" 200 17772\n",
      "2020-02-18 12:21:07 [urllib3.connectionpool] DEBUG: Starting new HTTPS connection (1): www.mckinsey.com:443\n"
     ]
    },
    {
     "name": "stdout",
     "output_type": "stream",
     "text": [
      "https://www.mckinsey.com/business-functions/mckinsey-analytics/our-insights/how-chinas-fintechs-serve-the-underserved\n"
     ]
    },
    {
     "name": "stderr",
     "output_type": "stream",
     "text": [
      "2020-02-18 12:21:08 [urllib3.connectionpool] DEBUG: https://www.mckinsey.com:443 \"GET /business-functions/mckinsey-analytics/our-insights/how-chinas-fintechs-serve-the-underserved HTTP/1.1\" 200 17591\n",
      "2020-02-18 12:21:08 [urllib3.connectionpool] DEBUG: Starting new HTTPS connection (1): www.mckinsey.com:443\n"
     ]
    },
    {
     "name": "stdout",
     "output_type": "stream",
     "text": [
      "https://www.mckinsey.com/business-functions/sustainability/how-we-help-clients/circular-economy\n"
     ]
    },
    {
     "name": "stderr",
     "output_type": "stream",
     "text": [
      "2020-02-18 12:21:09 [urllib3.connectionpool] DEBUG: https://www.mckinsey.com:443 \"GET /business-functions/sustainability/how-we-help-clients/circular-economy HTTP/1.1\" 200 20386\n",
      "2020-02-18 12:21:09 [scrapy.core.scraper] ERROR: Spider error processing <GET https://www.mckinsey.com/business-functions/sustainability/how-we-help-clients/circular-economy> (referer: None)\n",
      "Traceback (most recent call last):\n",
      "  File \"D:\\ProgramData\\Anaconda3\\lib\\site-packages\\twisted\\internet\\defer.py\", line 654, in _runCallbacks\n",
      "    current.result = callback(current.result, *args, **kw)\n",
      "  File \"<ipython-input-122-8fc83100377c>\", line 41, in parse\n",
      "    page_date = re.findall(date_regex, page_script)[0]\n",
      "IndexError: list index out of range\n",
      "2020-02-18 12:21:09 [scrapy.core.engine] DEBUG: Crawled (200) <GET https://www.mckinsey.com/industries/pharmaceuticals-and-medical-products/how-we-help-clients/medtech/about-us> (referer: None)\n",
      "2020-02-18 12:21:09 [urllib3.connectionpool] DEBUG: Starting new HTTPS connection (1): www.mckinsey.com:443\n"
     ]
    },
    {
     "name": "stdout",
     "output_type": "stream",
     "text": [
      "https://www.mckinsey.com/quarterly/the-magazine\n"
     ]
    },
    {
     "name": "stderr",
     "output_type": "stream",
     "text": [
      "2020-02-18 12:21:10 [urllib3.connectionpool] DEBUG: https://www.mckinsey.com:443 \"GET /quarterly/the-magazine HTTP/1.1\" 200 25357\n",
      "2020-02-18 12:21:10 [scrapy.core.scraper] ERROR: Spider error processing <GET https://www.mckinsey.com/quarterly/the-magazine> (referer: None)\n",
      "Traceback (most recent call last):\n",
      "  File \"D:\\ProgramData\\Anaconda3\\lib\\site-packages\\twisted\\internet\\defer.py\", line 654, in _runCallbacks\n",
      "    current.result = callback(current.result, *args, **kw)\n",
      "  File \"<ipython-input-122-8fc83100377c>\", line 37, in parse\n",
      "    content_type = re.findall(conttype_regex, page_script)[0]\n",
      "IndexError: list index out of range\n",
      "2020-02-18 12:21:10 [scrapy.core.engine] DEBUG: Crawled (200) <GET https://www.mckinsey.com/about-us/new-at-mckinsey-blog/dispatches-from-davos> (referer: None)\n",
      "2020-02-18 12:21:10 [scrapy.extensions.logstats] INFO: Crawled 354 pages (at 59 pages/min), scraped 0 items (at 0 items/min)\n",
      "2020-02-18 12:21:10 [urllib3.connectionpool] DEBUG: Starting new HTTPS connection (1): www.mckinsey.com:443\n"
     ]
    },
    {
     "name": "stdout",
     "output_type": "stream",
     "text": [
      "https://www.mckinsey.com/industries/pharmaceuticals-and-medical-products/how-we-help-clients/medtech/about-us\n"
     ]
    },
    {
     "name": "stderr",
     "output_type": "stream",
     "text": [
      "2020-02-18 12:21:10 [urllib3.connectionpool] DEBUG: https://www.mckinsey.com:443 \"GET /industries/pharmaceuticals-and-medical-products/how-we-help-clients/medtech/about-us HTTP/1.1\" 200 12936\n",
      "2020-02-18 12:21:10 [scrapy.core.scraper] ERROR: Spider error processing <GET https://www.mckinsey.com/industries/pharmaceuticals-and-medical-products/how-we-help-clients/medtech/about-us> (referer: None)\n",
      "Traceback (most recent call last):\n",
      "  File \"D:\\ProgramData\\Anaconda3\\lib\\site-packages\\twisted\\internet\\defer.py\", line 654, in _runCallbacks\n",
      "    current.result = callback(current.result, *args, **kw)\n",
      "  File \"<ipython-input-122-8fc83100377c>\", line 37, in parse\n",
      "    content_type = re.findall(conttype_regex, page_script)[0]\n",
      "IndexError: list index out of range\n",
      "2020-02-18 12:21:10 [scrapy.core.engine] DEBUG: Crawled (200) <GET https://www.mckinsey.com/business-functions/marketing-and-sales/our-insights/pricing> (referer: None)\n",
      "2020-02-18 12:21:10 [urllib3.connectionpool] DEBUG: Starting new HTTPS connection (1): www.mckinsey.com:443\n"
     ]
    },
    {
     "name": "stdout",
     "output_type": "stream",
     "text": [
      "https://www.mckinsey.com/about-us/new-at-mckinsey-blog/dispatches-from-davos\n"
     ]
    },
    {
     "name": "stderr",
     "output_type": "stream",
     "text": [
      "2020-02-18 12:21:11 [urllib3.connectionpool] DEBUG: https://www.mckinsey.com:443 \"GET /about-us/new-at-mckinsey-blog/dispatches-from-davos HTTP/1.1\" 200 13022\n",
      "2020-02-18 12:21:11 [scrapy.core.scraper] ERROR: Spider error processing <GET https://www.mckinsey.com/about-us/new-at-mckinsey-blog/dispatches-from-davos> (referer: None)\n",
      "Traceback (most recent call last):\n",
      "  File \"D:\\ProgramData\\Anaconda3\\lib\\site-packages\\twisted\\internet\\defer.py\", line 654, in _runCallbacks\n",
      "    current.result = callback(current.result, *args, **kw)\n",
      "  File \"<ipython-input-122-8fc83100377c>\", line 37, in parse\n",
      "    content_type = re.findall(conttype_regex, page_script)[0]\n",
      "IndexError: list index out of range\n",
      "2020-02-18 12:21:11 [urllib3.connectionpool] DEBUG: Starting new HTTPS connection (1): www.mckinsey.com:443\n"
     ]
    },
    {
     "name": "stdout",
     "output_type": "stream",
     "text": [
      "https://www.mckinsey.com/business-functions/marketing-and-sales/our-insights/pricing\n"
     ]
    },
    {
     "name": "stderr",
     "output_type": "stream",
     "text": [
      "2020-02-18 12:21:12 [urllib3.connectionpool] DEBUG: https://www.mckinsey.com:443 \"GET /business-functions/marketing-and-sales/our-insights/pricing HTTP/1.1\" 200 13651\n",
      "2020-02-18 12:21:12 [scrapy.core.scraper] ERROR: Spider error processing <GET https://www.mckinsey.com/business-functions/marketing-and-sales/our-insights/pricing> (referer: None)\n",
      "Traceback (most recent call last):\n",
      "  File \"D:\\ProgramData\\Anaconda3\\lib\\site-packages\\twisted\\internet\\defer.py\", line 654, in _runCallbacks\n",
      "    current.result = callback(current.result, *args, **kw)\n",
      "  File \"<ipython-input-122-8fc83100377c>\", line 37, in parse\n",
      "    content_type = re.findall(conttype_regex, page_script)[0]\n",
      "IndexError: list index out of range\n",
      "2020-02-18 12:21:12 [scrapy.core.engine] DEBUG: Crawled (200) <GET https://www.mckinsey.com/business-functions/mckinsey-analytics/our-insights/where-is-technology-taking-the-economy> (referer: None)\n",
      "2020-02-18 12:21:12 [urllib3.connectionpool] DEBUG: Starting new HTTPS connection (1): www.mckinsey.com:443\n"
     ]
    },
    {
     "name": "stdout",
     "output_type": "stream",
     "text": [
      "https://www.mckinsey.com/business-functions/mckinsey-analytics/our-insights/where-is-technology-taking-the-economy\n"
     ]
    },
    {
     "name": "stderr",
     "output_type": "stream",
     "text": [
      "2020-02-18 12:21:12 [urllib3.connectionpool] DEBUG: https://www.mckinsey.com:443 \"GET /business-functions/mckinsey-analytics/our-insights/where-is-technology-taking-the-economy HTTP/1.1\" 200 24786\n",
      "2020-02-18 12:21:13 [scrapy.core.engine] DEBUG: Crawled (200) <GET https://www.mckinsey.com/business-functions/organization/our-people> (referer: None)\n",
      "2020-02-18 12:21:13 [scrapy.core.engine] DEBUG: Crawled (200) <GET https://www.mckinsey.com/our-people/sree-ramaswamy> (referer: None)\n",
      "2020-02-18 12:21:13 [scrapy.core.engine] DEBUG: Crawled (200) <GET https://www.mckinsey.com/industries/pharmaceuticals-and-medical-products/our-insights/digital-in-r-and-d-the-100-billion-opportunity> (referer: None)\n",
      "2020-02-18 12:21:13 [urllib3.connectionpool] DEBUG: Starting new HTTPS connection (1): www.mckinsey.com:443\n"
     ]
    },
    {
     "name": "stdout",
     "output_type": "stream",
     "text": [
      "https://www.mckinsey.com/business-functions/organization/our-people\n"
     ]
    },
    {
     "name": "stderr",
     "output_type": "stream",
     "text": [
      "2020-02-18 12:21:13 [urllib3.connectionpool] DEBUG: https://www.mckinsey.com:443 \"GET /business-functions/organization/our-people HTTP/1.1\" 200 18299\n",
      "2020-02-18 12:21:13 [scrapy.core.scraper] ERROR: Spider error processing <GET https://www.mckinsey.com/business-functions/organization/our-people> (referer: None)\n",
      "Traceback (most recent call last):\n",
      "  File \"D:\\ProgramData\\Anaconda3\\lib\\site-packages\\twisted\\internet\\defer.py\", line 654, in _runCallbacks\n",
      "    current.result = callback(current.result, *args, **kw)\n",
      "  File \"<ipython-input-122-8fc83100377c>\", line 37, in parse\n",
      "    content_type = re.findall(conttype_regex, page_script)[0]\n",
      "IndexError: list index out of range\n",
      "2020-02-18 12:21:13 [scrapy.core.engine] DEBUG: Crawled (200) <GET https://www.mckinsey.com/mgi/overview/in-the-news/automation-and-the-future-of-work> (referer: None)\n",
      "2020-02-18 12:21:13 [scrapy.core.engine] DEBUG: Crawled (200) <GET https://www.mckinsey.com/business-functions/operations/our-insights/editors-choice-recommended-ops-reading-for-summer-2017> (referer: None)\n",
      "2020-02-18 12:21:13 [scrapy.core.engine] DEBUG: Crawled (200) <GET https://www.mckinsey.com/our-people/oliver-tonby> (referer: None)\n",
      "2020-02-18 12:21:13 [urllib3.connectionpool] DEBUG: Starting new HTTPS connection (1): www.mckinsey.com:443\n"
     ]
    },
    {
     "name": "stdout",
     "output_type": "stream",
     "text": [
      "https://www.mckinsey.com/our-people/sree-ramaswamy\n"
     ]
    },
    {
     "name": "stderr",
     "output_type": "stream",
     "text": [
      "2020-02-18 12:21:14 [urllib3.connectionpool] DEBUG: https://www.mckinsey.com:443 \"GET /our-people/sree-ramaswamy HTTP/1.1\" 200 15591\n",
      "2020-02-18 12:21:14 [urllib3.connectionpool] DEBUG: Starting new HTTPS connection (1): www.mckinsey.com:443\n"
     ]
    },
    {
     "name": "stdout",
     "output_type": "stream",
     "text": [
      "https://www.mckinsey.com/industries/pharmaceuticals-and-medical-products/our-insights/digital-in-r-and-d-the-100-billion-opportunity\n"
     ]
    },
    {
     "name": "stderr",
     "output_type": "stream",
     "text": [
      "2020-02-18 12:21:14 [urllib3.connectionpool] DEBUG: https://www.mckinsey.com:443 \"GET /industries/pharmaceuticals-and-medical-products/our-insights/digital-in-r-and-d-the-100-billion-opportunity HTTP/1.1\" 200 21101\n",
      "2020-02-18 12:21:14 [scrapy.core.scraper] ERROR: Spider error processing <GET https://www.mckinsey.com/industries/pharmaceuticals-and-medical-products/our-insights/digital-in-r-and-d-the-100-billion-opportunity> (referer: None)\n",
      "Traceback (most recent call last):\n",
      "  File \"D:\\ProgramData\\Anaconda3\\lib\\site-packages\\twisted\\internet\\defer.py\", line 654, in _runCallbacks\n",
      "    current.result = callback(current.result, *args, **kw)\n",
      "  File \"<ipython-input-122-8fc83100377c>\", line 41, in parse\n",
      "    page_date = re.findall(date_regex, page_script)[0]\n",
      "IndexError: list index out of range\n",
      "2020-02-18 12:21:14 [scrapy.core.engine] DEBUG: Crawled (200) <GET https://www.mckinsey.com/business-functions/operations/our-insights/ops-40-the-human-factordefining-the-needs> (referer: None)\n",
      "2020-02-18 12:21:14 [scrapy.core.engine] DEBUG: Crawled (200) <GET https://www.mckinsey.com/mgi/our-research/financial-markets> (referer: None)\n",
      "2020-02-18 12:21:14 [scrapy.core.engine] DEBUG: Crawled (200) <GET https://www.mckinsey.com/industries/capital-projects-and-infrastructure/how-we-help-clients/digital-and-innovation> (referer: None)\n",
      "2020-02-18 12:21:14 [scrapy.core.engine] DEBUG: Crawled (200) <GET https://www.mckinsey.com/mgi/our-research/europe-middle-east-africa> (referer: None)\n",
      "2020-02-18 12:21:15 [scrapy.core.engine] DEBUG: Crawled (200) <GET https://www.mckinsey.com/our-people/rafael-westinner> (referer: None)\n",
      "2020-02-18 12:21:15 [urllib3.connectionpool] DEBUG: Starting new HTTPS connection (1): www.mckinsey.com:443\n"
     ]
    },
    {
     "name": "stdout",
     "output_type": "stream",
     "text": [
      "https://www.mckinsey.com/mgi/overview/in-the-news/automation-and-the-future-of-work\n"
     ]
    },
    {
     "name": "stderr",
     "output_type": "stream",
     "text": [
      "2020-02-18 12:21:15 [urllib3.connectionpool] DEBUG: https://www.mckinsey.com:443 \"GET /mgi/overview/in-the-news/automation-and-the-future-of-work HTTP/1.1\" 200 21150\n",
      "2020-02-18 12:21:15 [urllib3.connectionpool] DEBUG: Starting new HTTPS connection (1): www.mckinsey.com:443\n"
     ]
    },
    {
     "name": "stdout",
     "output_type": "stream",
     "text": [
      "https://www.mckinsey.com/business-functions/operations/our-insights/editors-choice-recommended-ops-reading-for-summer-2017\n"
     ]
    },
    {
     "name": "stderr",
     "output_type": "stream",
     "text": [
      "2020-02-18 12:21:16 [urllib3.connectionpool] DEBUG: https://www.mckinsey.com:443 \"GET /business-functions/operations/our-insights/editors-choice-recommended-ops-reading-for-summer-2017 HTTP/1.1\" 200 15238\n",
      "2020-02-18 12:21:16 [scrapy.core.scraper] ERROR: Spider error processing <GET https://www.mckinsey.com/business-functions/operations/our-insights/editors-choice-recommended-ops-reading-for-summer-2017> (referer: None)\n",
      "Traceback (most recent call last):\n",
      "  File \"D:\\ProgramData\\Anaconda3\\lib\\site-packages\\twisted\\internet\\defer.py\", line 654, in _runCallbacks\n",
      "    current.result = callback(current.result, *args, **kw)\n",
      "  File \"<ipython-input-122-8fc83100377c>\", line 41, in parse\n",
      "    page_date = re.findall(date_regex, page_script)[0]\n",
      "IndexError: list index out of range\n",
      "2020-02-18 12:21:16 [urllib3.connectionpool] DEBUG: Starting new HTTPS connection (1): www.mckinsey.com:443\n"
     ]
    },
    {
     "name": "stdout",
     "output_type": "stream",
     "text": [
      "https://www.mckinsey.com/our-people/oliver-tonby\n"
     ]
    },
    {
     "name": "stderr",
     "output_type": "stream",
     "text": [
      "2020-02-18 12:21:17 [urllib3.connectionpool] DEBUG: https://www.mckinsey.com:443 \"GET /our-people/oliver-tonby HTTP/1.1\" 200 15545\n",
      "2020-02-18 12:21:17 [scrapy.core.engine] DEBUG: Crawled (200) <GET https://www.mckinsey.com/business-functions/strategy-and-corporate-finance/our-insights/ten-trends-redefining-enterprise-it-infrastructure> (referer: None)\n",
      "2020-02-18 12:21:17 [scrapy.core.engine] DEBUG: Crawled (200) <GET https://www.mckinsey.com/industries/financial-services/our-insights/claims-in-the-digital-age> (referer: None)\n",
      "2020-02-18 12:21:17 [scrapy.core.engine] DEBUG: Crawled (200) <GET https://www.mckinsey.com/industries/retail/our-insights/now-or-never-immediacy-and-customer-experience-in-fashion-retail> (referer: None)\n",
      "2020-02-18 12:21:17 [urllib3.connectionpool] DEBUG: Starting new HTTPS connection (1): www.mckinsey.com:443\n"
     ]
    },
    {
     "name": "stdout",
     "output_type": "stream",
     "text": [
      "https://www.mckinsey.com/business-functions/operations/our-insights/ops-40-the-human-factordefining-the-needs\n"
     ]
    },
    {
     "name": "stderr",
     "output_type": "stream",
     "text": [
      "2020-02-18 12:21:17 [urllib3.connectionpool] DEBUG: https://www.mckinsey.com:443 \"GET /business-functions/operations/our-insights/ops-40-the-human-factordefining-the-needs HTTP/1.1\" 200 14091\n",
      "2020-02-18 12:21:17 [scrapy.core.scraper] ERROR: Spider error processing <GET https://www.mckinsey.com/business-functions/operations/our-insights/ops-40-the-human-factordefining-the-needs> (referer: None)\n",
      "Traceback (most recent call last):\n",
      "  File \"D:\\ProgramData\\Anaconda3\\lib\\site-packages\\twisted\\internet\\defer.py\", line 654, in _runCallbacks\n",
      "    current.result = callback(current.result, *args, **kw)\n",
      "  File \"<ipython-input-122-8fc83100377c>\", line 41, in parse\n",
      "    page_date = re.findall(date_regex, page_script)[0]\n",
      "IndexError: list index out of range\n",
      "2020-02-18 12:21:17 [urllib3.connectionpool] DEBUG: Starting new HTTPS connection (1): www.mckinsey.com:443\n"
     ]
    },
    {
     "name": "stdout",
     "output_type": "stream",
     "text": [
      "https://www.mckinsey.com/mgi/our-research/financial-markets\n"
     ]
    },
    {
     "name": "stderr",
     "output_type": "stream",
     "text": [
      "2020-02-18 12:21:18 [urllib3.connectionpool] DEBUG: https://www.mckinsey.com:443 \"GET /mgi/our-research/financial-markets HTTP/1.1\" 200 14732\n",
      "2020-02-18 12:21:18 [scrapy.core.scraper] ERROR: Spider error processing <GET https://www.mckinsey.com/mgi/our-research/financial-markets> (referer: None)\n",
      "Traceback (most recent call last):\n",
      "  File \"D:\\ProgramData\\Anaconda3\\lib\\site-packages\\twisted\\internet\\defer.py\", line 654, in _runCallbacks\n",
      "    current.result = callback(current.result, *args, **kw)\n",
      "  File \"<ipython-input-122-8fc83100377c>\", line 37, in parse\n",
      "    content_type = re.findall(conttype_regex, page_script)[0]\n",
      "IndexError: list index out of range\n",
      "2020-02-18 12:21:18 [urllib3.connectionpool] DEBUG: Starting new HTTPS connection (1): www.mckinsey.com:443\n"
     ]
    },
    {
     "name": "stdout",
     "output_type": "stream",
     "text": [
      "https://www.mckinsey.com/industries/capital-projects-and-infrastructure/how-we-help-clients/digital-and-innovation\n"
     ]
    },
    {
     "name": "stderr",
     "output_type": "stream",
     "text": [
      "2020-02-18 12:21:19 [urllib3.connectionpool] DEBUG: https://www.mckinsey.com:443 \"GET /industries/capital-projects-and-infrastructure/how-we-help-clients/digital-and-innovation HTTP/1.1\" 200 17584\n",
      "2020-02-18 12:21:19 [scrapy.core.scraper] ERROR: Spider error processing <GET https://www.mckinsey.com/industries/capital-projects-and-infrastructure/how-we-help-clients/digital-and-innovation> (referer: None)\n",
      "Traceback (most recent call last):\n",
      "  File \"D:\\ProgramData\\Anaconda3\\lib\\site-packages\\twisted\\internet\\defer.py\", line 654, in _runCallbacks\n",
      "    current.result = callback(current.result, *args, **kw)\n",
      "  File \"<ipython-input-122-8fc83100377c>\", line 41, in parse\n",
      "    page_date = re.findall(date_regex, page_script)[0]\n",
      "IndexError: list index out of range\n",
      "2020-02-18 12:21:19 [urllib3.connectionpool] DEBUG: Starting new HTTPS connection (1): www.mckinsey.com:443\n"
     ]
    },
    {
     "name": "stdout",
     "output_type": "stream",
     "text": [
      "https://www.mckinsey.com/mgi/our-research/europe-middle-east-africa\n"
     ]
    },
    {
     "name": "stderr",
     "output_type": "stream",
     "text": [
      "2020-02-18 12:21:21 [urllib3.connectionpool] DEBUG: https://www.mckinsey.com:443 \"GET /mgi/our-research/europe-middle-east-africa HTTP/1.1\" 200 14841\n",
      "2020-02-18 12:21:21 [scrapy.core.scraper] ERROR: Spider error processing <GET https://www.mckinsey.com/mgi/our-research/europe-middle-east-africa> (referer: None)\n",
      "Traceback (most recent call last):\n",
      "  File \"D:\\ProgramData\\Anaconda3\\lib\\site-packages\\twisted\\internet\\defer.py\", line 654, in _runCallbacks\n",
      "    current.result = callback(current.result, *args, **kw)\n",
      "  File \"<ipython-input-122-8fc83100377c>\", line 37, in parse\n",
      "    content_type = re.findall(conttype_regex, page_script)[0]\n",
      "IndexError: list index out of range\n",
      "2020-02-18 12:21:21 [urllib3.connectionpool] DEBUG: Starting new HTTPS connection (1): www.mckinsey.com:443\n"
     ]
    },
    {
     "name": "stdout",
     "output_type": "stream",
     "text": [
      "https://www.mckinsey.com/our-people/rafael-westinner\n"
     ]
    },
    {
     "name": "stderr",
     "output_type": "stream",
     "text": [
      "2020-02-18 12:21:22 [urllib3.connectionpool] DEBUG: https://www.mckinsey.com:443 \"GET /our-people/rafael-westinner HTTP/1.1\" 200 15747\n",
      "2020-02-18 12:21:22 [scrapy.core.engine] DEBUG: Crawled (200) <GET https://www.mckinsey.com/mgi/overview/in-the-news/2017> (referer: None)\n",
      "2020-02-18 12:21:22 [scrapy.core.engine] DEBUG: Crawled (200) <GET https://www.mckinsey.com/business-functions/operations/our-insights/operations-blog/ops-40-the-human-factor-a-year-of-lessons-from-learners-and-lighthouses> (referer: None)\n",
      "2020-02-18 12:21:22 [scrapy.core.engine] DEBUG: Crawled (200) <GET https://www.mckinsey.com/featured-insights/gender-equality/women-and-the-future-of-work-a-window-of-opportunity-in-western-europe> (referer: None)\n",
      "2020-02-18 12:21:22 [scrapy.core.engine] DEBUG: Crawled (200) <GET https://www.mckinsey.com/featured-insights/leadership> (referer: None)\n",
      "2020-02-18 12:21:22 [scrapy.core.engine] DEBUG: Crawled (200) <GET https://www.mckinsey.com/business-functions/operations/our-insights/operations-blog/ops-40-the-human-factor-defining-the-needs> (referer: None)\n",
      "2020-02-18 12:21:22 [urllib3.connectionpool] DEBUG: Starting new HTTPS connection (1): www.mckinsey.com:443\n"
     ]
    },
    {
     "name": "stdout",
     "output_type": "stream",
     "text": [
      "https://www.mckinsey.com/business-functions/strategy-and-corporate-finance/our-insights/ten-trends-redefining-enterprise-it-infrastructure\n"
     ]
    },
    {
     "name": "stderr",
     "output_type": "stream",
     "text": [
      "2020-02-18 12:21:23 [urllib3.connectionpool] DEBUG: https://www.mckinsey.com:443 \"GET /business-functions/strategy-and-corporate-finance/our-insights/ten-trends-redefining-enterprise-it-infrastructure HTTP/1.1\" 200 21408\n",
      "2020-02-18 12:21:23 [urllib3.connectionpool] DEBUG: Starting new HTTPS connection (1): www.mckinsey.com:443\n"
     ]
    },
    {
     "name": "stdout",
     "output_type": "stream",
     "text": [
      "https://www.mckinsey.com/industries/financial-services/our-insights/claims-in-the-digital-age\n"
     ]
    },
    {
     "name": "stderr",
     "output_type": "stream",
     "text": [
      "2020-02-18 12:21:24 [urllib3.connectionpool] DEBUG: https://www.mckinsey.com:443 \"GET /industries/financial-services/our-insights/claims-in-the-digital-age HTTP/1.1\" 200 24159\n",
      "2020-02-18 12:21:24 [urllib3.connectionpool] DEBUG: Starting new HTTPS connection (1): www.mckinsey.com:443\n"
     ]
    },
    {
     "name": "stdout",
     "output_type": "stream",
     "text": [
      "https://www.mckinsey.com/industries/retail/our-insights/now-or-never-immediacy-and-customer-experience-in-fashion-retail\n"
     ]
    },
    {
     "name": "stderr",
     "output_type": "stream",
     "text": [
      "2020-02-18 12:21:25 [urllib3.connectionpool] DEBUG: https://www.mckinsey.com:443 \"GET /industries/retail/our-insights/now-or-never-immediacy-and-customer-experience-in-fashion-retail HTTP/1.1\" 200 18650\n",
      "2020-02-18 12:21:25 [scrapy.core.engine] DEBUG: Crawled (200) <GET https://www.mckinsey.com/business-functions/mckinsey-digital/our-insights/twenty-five-years-of-digitization-ten-insights-into-how-to-play-it-right> (referer: None)\n",
      "2020-02-18 12:21:25 [scrapy.core.engine] DEBUG: Crawled (200) <GET https://www.mckinsey.com/featured-insights/the-next-normal/hospitals> (referer: None)\n",
      "2020-02-18 12:21:25 [urllib3.connectionpool] DEBUG: Starting new HTTPS connection (1): www.mckinsey.com:443\n"
     ]
    },
    {
     "name": "stdout",
     "output_type": "stream",
     "text": [
      "https://www.mckinsey.com/mgi/overview/in-the-news/2017\n"
     ]
    },
    {
     "name": "stderr",
     "output_type": "stream",
     "text": [
      "2020-02-18 12:21:26 [urllib3.connectionpool] DEBUG: https://www.mckinsey.com:443 \"GET /mgi/overview/in-the-news/2017 HTTP/1.1\" 200 16254\n",
      "2020-02-18 12:21:26 [scrapy.core.scraper] ERROR: Spider error processing <GET https://www.mckinsey.com/mgi/overview/in-the-news/2017> (referer: None)\n",
      "Traceback (most recent call last):\n",
      "  File \"D:\\ProgramData\\Anaconda3\\lib\\site-packages\\twisted\\internet\\defer.py\", line 654, in _runCallbacks\n",
      "    current.result = callback(current.result, *args, **kw)\n",
      "  File \"<ipython-input-122-8fc83100377c>\", line 37, in parse\n",
      "    content_type = re.findall(conttype_regex, page_script)[0]\n",
      "IndexError: list index out of range\n",
      "2020-02-18 12:21:26 [urllib3.connectionpool] DEBUG: Starting new HTTPS connection (1): www.mckinsey.com:443\n"
     ]
    },
    {
     "name": "stdout",
     "output_type": "stream",
     "text": [
      "https://www.mckinsey.com/business-functions/operations/our-insights/operations-blog/ops-40-the-human-factor-a-year-of-lessons-from-learners-and-lighthouses\n"
     ]
    },
    {
     "name": "stderr",
     "output_type": "stream",
     "text": [
      "2020-02-18 12:21:27 [urllib3.connectionpool] DEBUG: https://www.mckinsey.com:443 \"GET /business-functions/operations/our-insights/operations-blog/ops-40-the-human-factor-a-year-of-lessons-from-learners-and-lighthouses HTTP/1.1\" 200 14328\n",
      "2020-02-18 12:21:27 [scrapy.core.scraper] ERROR: Spider error processing <GET https://www.mckinsey.com/business-functions/operations/our-insights/operations-blog/ops-40-the-human-factor-a-year-of-lessons-from-learners-and-lighthouses> (referer: None)\n",
      "Traceback (most recent call last):\n",
      "  File \"D:\\ProgramData\\Anaconda3\\lib\\site-packages\\twisted\\internet\\defer.py\", line 654, in _runCallbacks\n",
      "    current.result = callback(current.result, *args, **kw)\n",
      "  File \"<ipython-input-122-8fc83100377c>\", line 37, in parse\n",
      "    content_type = re.findall(conttype_regex, page_script)[0]\n",
      "IndexError: list index out of range\n",
      "2020-02-18 12:21:27 [urllib3.connectionpool] DEBUG: Starting new HTTPS connection (1): www.mckinsey.com:443\n"
     ]
    },
    {
     "name": "stdout",
     "output_type": "stream",
     "text": [
      "https://www.mckinsey.com/featured-insights/gender-equality/women-and-the-future-of-work-a-window-of-opportunity-in-western-europe\n"
     ]
    },
    {
     "name": "stderr",
     "output_type": "stream",
     "text": [
      "2020-02-18 12:21:27 [urllib3.connectionpool] DEBUG: https://www.mckinsey.com:443 \"GET /featured-insights/gender-equality/women-and-the-future-of-work-a-window-of-opportunity-in-western-europe HTTP/1.1\" 200 15785\n",
      "2020-02-18 12:21:27 [urllib3.connectionpool] DEBUG: Starting new HTTPS connection (1): www.mckinsey.com:443\n"
     ]
    },
    {
     "name": "stdout",
     "output_type": "stream",
     "text": [
      "https://www.mckinsey.com/featured-insights/leadership\n"
     ]
    },
    {
     "name": "stderr",
     "output_type": "stream",
     "text": [
      "2020-02-18 12:21:29 [urllib3.connectionpool] DEBUG: https://www.mckinsey.com:443 \"GET /featured-insights/leadership HTTP/1.1\" 200 17104\n",
      "2020-02-18 12:21:29 [scrapy.core.scraper] ERROR: Spider error processing <GET https://www.mckinsey.com/featured-insights/leadership> (referer: None)\n",
      "Traceback (most recent call last):\n",
      "  File \"D:\\ProgramData\\Anaconda3\\lib\\site-packages\\twisted\\internet\\defer.py\", line 654, in _runCallbacks\n",
      "    current.result = callback(current.result, *args, **kw)\n",
      "  File \"<ipython-input-122-8fc83100377c>\", line 37, in parse\n",
      "    content_type = re.findall(conttype_regex, page_script)[0]\n",
      "IndexError: list index out of range\n",
      "2020-02-18 12:21:29 [urllib3.connectionpool] DEBUG: Starting new HTTPS connection (1): www.mckinsey.com:443\n"
     ]
    },
    {
     "name": "stdout",
     "output_type": "stream",
     "text": [
      "https://www.mckinsey.com/business-functions/operations/our-insights/operations-blog/ops-40-the-human-factor-defining-the-needs\n"
     ]
    },
    {
     "name": "stderr",
     "output_type": "stream",
     "text": [
      "2020-02-18 12:21:30 [urllib3.connectionpool] DEBUG: https://www.mckinsey.com:443 \"GET /business-functions/operations/our-insights/operations-blog/ops-40-the-human-factor-defining-the-needs HTTP/1.1\" 200 13837\n",
      "2020-02-18 12:21:30 [scrapy.core.scraper] ERROR: Spider error processing <GET https://www.mckinsey.com/business-functions/operations/our-insights/operations-blog/ops-40-the-human-factor-defining-the-needs> (referer: None)\n",
      "Traceback (most recent call last):\n",
      "  File \"D:\\ProgramData\\Anaconda3\\lib\\site-packages\\twisted\\internet\\defer.py\", line 654, in _runCallbacks\n",
      "    current.result = callback(current.result, *args, **kw)\n",
      "  File \"<ipython-input-122-8fc83100377c>\", line 37, in parse\n",
      "    content_type = re.findall(conttype_regex, page_script)[0]\n",
      "IndexError: list index out of range\n",
      "2020-02-18 12:21:30 [scrapy.core.engine] DEBUG: Crawled (200) <GET https://www.mckinsey.com/industries/financial-services/our-insights/insurance> (referer: None)\n",
      "2020-02-18 12:21:30 [urllib3.connectionpool] DEBUG: Starting new HTTPS connection (1): www.mckinsey.com:443\n"
     ]
    },
    {
     "name": "stdout",
     "output_type": "stream",
     "text": [
      "https://www.mckinsey.com/business-functions/mckinsey-digital/our-insights/twenty-five-years-of-digitization-ten-insights-into-how-to-play-it-right\n"
     ]
    },
    {
     "name": "stderr",
     "output_type": "stream",
     "text": [
      "2020-02-18 12:21:30 [urllib3.connectionpool] DEBUG: https://www.mckinsey.com:443 \"GET /business-functions/mckinsey-digital/our-insights/twenty-five-years-of-digitization-ten-insights-into-how-to-play-it-right HTTP/1.1\" 200 15748\n",
      "2020-02-18 12:21:30 [scrapy.core.scraper] ERROR: Spider error processing <GET https://www.mckinsey.com/business-functions/mckinsey-digital/our-insights/twenty-five-years-of-digitization-ten-insights-into-how-to-play-it-right> (referer: None)\n",
      "Traceback (most recent call last):\n",
      "  File \"D:\\ProgramData\\Anaconda3\\lib\\site-packages\\twisted\\internet\\defer.py\", line 654, in _runCallbacks\n",
      "    current.result = callback(current.result, *args, **kw)\n",
      "  File \"<ipython-input-122-8fc83100377c>\", line 42, in parse\n",
      "    page_texttype = re.findall(texttype_regex, page_script)[0]\n",
      "IndexError: list index out of range\n",
      "2020-02-18 12:21:30 [urllib3.connectionpool] DEBUG: Starting new HTTPS connection (1): www.mckinsey.com:443\n"
     ]
    },
    {
     "name": "stdout",
     "output_type": "stream",
     "text": [
      "https://www.mckinsey.com/featured-insights/the-next-normal/hospitals\n"
     ]
    },
    {
     "name": "stderr",
     "output_type": "stream",
     "text": [
      "2020-02-18 12:21:31 [urllib3.connectionpool] DEBUG: https://www.mckinsey.com:443 \"GET /featured-insights/the-next-normal/hospitals HTTP/1.1\" 200 16981\n",
      "2020-02-18 12:21:31 [scrapy.core.scraper] ERROR: Spider error processing <GET https://www.mckinsey.com/featured-insights/the-next-normal/hospitals> (referer: None)\n",
      "Traceback (most recent call last):\n",
      "  File \"D:\\ProgramData\\Anaconda3\\lib\\site-packages\\twisted\\internet\\defer.py\", line 654, in _runCallbacks\n",
      "    current.result = callback(current.result, *args, **kw)\n",
      "  File \"<ipython-input-122-8fc83100377c>\", line 41, in parse\n",
      "    page_date = re.findall(date_regex, page_script)[0]\n",
      "IndexError: list index out of range\n",
      "2020-02-18 12:21:31 [scrapy.core.engine] DEBUG: Crawled (200) <GET https://www.mckinsey.com/our-people/kevin-sneader> (referer: None)\n",
      "2020-02-18 12:21:31 [urllib3.connectionpool] DEBUG: Starting new HTTPS connection (1): www.mckinsey.com:443\n"
     ]
    },
    {
     "name": "stdout",
     "output_type": "stream",
     "text": [
      "https://www.mckinsey.com/industries/financial-services/our-insights/insurance\n"
     ]
    },
    {
     "name": "stderr",
     "output_type": "stream",
     "text": [
      "2020-02-18 12:21:31 [urllib3.connectionpool] DEBUG: https://www.mckinsey.com:443 \"GET /industries/financial-services/our-insights/insurance HTTP/1.1\" 200 14125\n",
      "2020-02-18 12:21:31 [scrapy.core.scraper] ERROR: Spider error processing <GET https://www.mckinsey.com/industries/financial-services/our-insights/insurance> (referer: None)\n",
      "Traceback (most recent call last):\n",
      "  File \"D:\\ProgramData\\Anaconda3\\lib\\site-packages\\twisted\\internet\\defer.py\", line 654, in _runCallbacks\n",
      "    current.result = callback(current.result, *args, **kw)\n",
      "  File \"<ipython-input-122-8fc83100377c>\", line 37, in parse\n",
      "    content_type = re.findall(conttype_regex, page_script)[0]\n",
      "IndexError: list index out of range\n",
      "2020-02-18 12:21:31 [scrapy.core.engine] DEBUG: Crawled (200) <GET https://www.mckinsey.com/industries/technology-media-and-telecommunications/our-insights/a-future-for-mobile-operators-the-keys-to-successful-reinvention> (referer: None)\n",
      "2020-02-18 12:21:31 [urllib3.connectionpool] DEBUG: Starting new HTTPS connection (1): www.mckinsey.com:443\n"
     ]
    },
    {
     "name": "stdout",
     "output_type": "stream",
     "text": [
      "https://www.mckinsey.com/our-people/kevin-sneader\n"
     ]
    },
    {
     "name": "stderr",
     "output_type": "stream",
     "text": [
      "2020-02-18 12:21:32 [urllib3.connectionpool] DEBUG: https://www.mckinsey.com:443 \"GET /our-people/kevin-sneader HTTP/1.1\" 200 15471\n",
      "2020-02-18 12:21:32 [scrapy.core.engine] DEBUG: Crawled (200) <GET https://www.mckinsey.com/business-functions/operations/our-insights/ops-4-0-analytics-to-value-for-a-product-centered-transformation> (referer: None)\n",
      "2020-02-18 12:21:32 [urllib3.connectionpool] DEBUG: Starting new HTTPS connection (1): www.mckinsey.com:443\n"
     ]
    },
    {
     "name": "stdout",
     "output_type": "stream",
     "text": [
      "https://www.mckinsey.com/industries/technology-media-and-telecommunications/our-insights/a-future-for-mobile-operators-the-keys-to-successful-reinvention\n"
     ]
    },
    {
     "name": "stderr",
     "output_type": "stream",
     "text": [
      "2020-02-18 12:21:33 [urllib3.connectionpool] DEBUG: https://www.mckinsey.com:443 \"GET /industries/technology-media-and-telecommunications/our-insights/a-future-for-mobile-operators-the-keys-to-successful-reinvention HTTP/1.1\" 200 21806\n",
      "2020-02-18 12:21:33 [urllib3.connectionpool] DEBUG: Starting new HTTPS connection (1): www.mckinsey.com:443\n"
     ]
    },
    {
     "name": "stdout",
     "output_type": "stream",
     "text": [
      "https://www.mckinsey.com/business-functions/operations/our-insights/ops-4-0-analytics-to-value-for-a-product-centered-transformation\n"
     ]
    },
    {
     "name": "stderr",
     "output_type": "stream",
     "text": [
      "2020-02-18 12:21:34 [urllib3.connectionpool] DEBUG: https://www.mckinsey.com:443 \"GET /business-functions/operations/our-insights/ops-4-0-analytics-to-value-for-a-product-centered-transformation HTTP/1.1\" 200 15692\n",
      "2020-02-18 12:21:34 [scrapy.core.engine] DEBUG: Crawled (200) <GET https://www.mckinsey.com/featured-insights/employment-and-growth/automation-jobs-and-the-future-of-work> (referer: None)\n",
      "2020-02-18 12:21:34 [urllib3.connectionpool] DEBUG: Starting new HTTPS connection (1): www.mckinsey.com:443\n"
     ]
    },
    {
     "name": "stdout",
     "output_type": "stream",
     "text": [
      "https://www.mckinsey.com/featured-insights/employment-and-growth/automation-jobs-and-the-future-of-work\n"
     ]
    },
    {
     "name": "stderr",
     "output_type": "stream",
     "text": [
      "2020-02-18 12:21:34 [urllib3.connectionpool] DEBUG: https://www.mckinsey.com:443 \"GET /featured-insights/employment-and-growth/automation-jobs-and-the-future-of-work HTTP/1.1\" 200 20734\n",
      "2020-02-18 12:21:34 [scrapy.core.engine] DEBUG: Crawled (200) <GET https://www.mckinsey.com/business-functions/strategy-and-corporate-finance/our-insights/creating-an-innovation-culture> (referer: None)\n",
      "2020-02-18 12:21:34 [scrapy.core.engine] DEBUG: Crawled (200) <GET https://www.mckinsey.com/featured-insights/future-of-work/how-will-automation-affect-jobs-skills-and-wages> (referer: None)\n",
      "2020-02-18 12:21:34 [scrapy.core.engine] DEBUG: Crawled (200) <GET https://www.mckinsey.com/featured-insights/leadership/leading-in-the-digital-age> (referer: None)\n",
      "2020-02-18 12:21:34 [scrapy.core.engine] DEBUG: Crawled (200) <GET https://www.mckinsey.com/business-functions/operations/our-insights/digital-manufacturing-the-revolution-will-be-virtualized> (referer: None)\n",
      "2020-02-18 12:21:34 [urllib3.connectionpool] DEBUG: Starting new HTTPS connection (1): www.mckinsey.com:443\n"
     ]
    },
    {
     "name": "stdout",
     "output_type": "stream",
     "text": [
      "https://www.mckinsey.com/business-functions/strategy-and-corporate-finance/our-insights/creating-an-innovation-culture\n"
     ]
    },
    {
     "name": "stderr",
     "output_type": "stream",
     "text": [
      "2020-02-18 12:21:35 [urllib3.connectionpool] DEBUG: https://www.mckinsey.com:443 \"GET /business-functions/strategy-and-corporate-finance/our-insights/creating-an-innovation-culture HTTP/1.1\" 200 19269\n",
      "2020-02-18 12:21:35 [scrapy.core.scraper] ERROR: Spider error processing <GET https://www.mckinsey.com/business-functions/strategy-and-corporate-finance/our-insights/creating-an-innovation-culture> (referer: None)\n",
      "Traceback (most recent call last):\n",
      "  File \"D:\\ProgramData\\Anaconda3\\lib\\site-packages\\twisted\\internet\\defer.py\", line 654, in _runCallbacks\n",
      "    current.result = callback(current.result, *args, **kw)\n",
      "  File \"<ipython-input-122-8fc83100377c>\", line 41, in parse\n",
      "    page_date = re.findall(date_regex, page_script)[0]\n",
      "IndexError: list index out of range\n",
      "2020-02-18 12:21:35 [scrapy.core.engine] DEBUG: Crawled (200) <GET https://www.mckinsey.com/features/mckinsey-center-for-agricultural-transformation/overview/about-us> (referer: None)\n",
      "2020-02-18 12:21:35 [scrapy.core.engine] DEBUG: Crawled (200) <GET https://www.mckinsey.com/industries/financial-services/our-insights/from-art-to-science-the-future-of-underwriting-in-commercial-p-and-c-insurance> (referer: None)\n",
      "2020-02-18 12:21:35 [scrapy.core.engine] DEBUG: Crawled (200) <GET https://www.mckinsey.com/featured-insights/future-of-work/competitive-advantage-with-a-human-dimension-from-lifelong-learning-to-lifelong-employability> (referer: None)\n",
      "2020-02-18 12:21:35 [scrapy.core.engine] DEBUG: Crawled (200) <GET https://www.mckinsey.com/features/explore-operations/join-us> (referer: None)\n",
      "2020-02-18 12:21:35 [scrapy.core.engine] DEBUG: Crawled (200) <GET https://www.mckinsey.com/business-functions/operations/our-insights/operations-blog/industrial-revolution-or-evolution> (referer: None)\n",
      "2020-02-18 12:21:35 [scrapy.core.engine] DEBUG: Crawled (200) <GET https://www.mckinsey.com/business-functions/operations/our-insights/the-human-side-of-digital-supply-chains> (referer: None)\n",
      "2020-02-18 12:21:35 [scrapy.core.engine] DEBUG: Crawled (200) <GET https://www.mckinsey.com/mgi/overview/in-the-news/emerging-markets-encouraged-to-defend-globalization> (referer: None)\n",
      "2020-02-18 12:21:35 [urllib3.connectionpool] DEBUG: Starting new HTTPS connection (1): www.mckinsey.com:443\n"
     ]
    },
    {
     "name": "stdout",
     "output_type": "stream",
     "text": [
      "https://www.mckinsey.com/featured-insights/future-of-work/how-will-automation-affect-jobs-skills-and-wages\n"
     ]
    },
    {
     "name": "stderr",
     "output_type": "stream",
     "text": [
      "2020-02-18 12:21:36 [urllib3.connectionpool] DEBUG: https://www.mckinsey.com:443 \"GET /featured-insights/future-of-work/how-will-automation-affect-jobs-skills-and-wages HTTP/1.1\" 200 29361\n",
      "2020-02-18 12:21:36 [urllib3.connectionpool] DEBUG: Starting new HTTPS connection (1): www.mckinsey.com:443\n"
     ]
    },
    {
     "name": "stdout",
     "output_type": "stream",
     "text": [
      "https://www.mckinsey.com/featured-insights/leadership/leading-in-the-digital-age\n"
     ]
    },
    {
     "name": "stderr",
     "output_type": "stream",
     "text": [
      "2020-02-18 12:21:37 [urllib3.connectionpool] DEBUG: https://www.mckinsey.com:443 \"GET /featured-insights/leadership/leading-in-the-digital-age HTTP/1.1\" 200 20320\n",
      "2020-02-18 12:21:37 [scrapy.core.scraper] ERROR: Spider error processing <GET https://www.mckinsey.com/featured-insights/leadership/leading-in-the-digital-age> (referer: None)\n",
      "Traceback (most recent call last):\n",
      "  File \"D:\\ProgramData\\Anaconda3\\lib\\site-packages\\twisted\\internet\\defer.py\", line 654, in _runCallbacks\n",
      "    current.result = callback(current.result, *args, **kw)\n",
      "  File \"<ipython-input-122-8fc83100377c>\", line 41, in parse\n",
      "    page_date = re.findall(date_regex, page_script)[0]\n",
      "IndexError: list index out of range\n",
      "2020-02-18 12:21:37 [urllib3.connectionpool] DEBUG: Starting new HTTPS connection (1): www.mckinsey.com:443\n"
     ]
    },
    {
     "name": "stdout",
     "output_type": "stream",
     "text": [
      "https://www.mckinsey.com/business-functions/operations/our-insights/digital-manufacturing-the-revolution-will-be-virtualized\n"
     ]
    },
    {
     "name": "stderr",
     "output_type": "stream",
     "text": [
      "2020-02-18 12:21:37 [urllib3.connectionpool] DEBUG: https://www.mckinsey.com:443 \"GET /business-functions/operations/our-insights/digital-manufacturing-the-revolution-will-be-virtualized HTTP/1.1\" 200 18089\n",
      "2020-02-18 12:21:37 [scrapy.core.engine] DEBUG: Crawled (200) <GET https://www.mckinsey.com/business-functions/organization/our-insights/the-organization-blog> (referer: None)\n",
      "2020-02-18 12:21:37 [urllib3.connectionpool] DEBUG: Starting new HTTPS connection (1): www.mckinsey.com:443\n"
     ]
    },
    {
     "name": "stdout",
     "output_type": "stream",
     "text": [
      "https://www.mckinsey.com/features/mckinsey-center-for-agricultural-transformation/overview/about-us\n"
     ]
    },
    {
     "name": "stderr",
     "output_type": "stream",
     "text": [
      "2020-02-18 12:21:38 [urllib3.connectionpool] DEBUG: https://www.mckinsey.com:443 \"GET /features/mckinsey-center-for-agricultural-transformation/overview/about-us HTTP/1.1\" 200 13736\n",
      "2020-02-18 12:21:38 [scrapy.core.scraper] ERROR: Spider error processing <GET https://www.mckinsey.com/features/mckinsey-center-for-agricultural-transformation/overview/about-us> (referer: None)\n",
      "Traceback (most recent call last):\n",
      "  File \"D:\\ProgramData\\Anaconda3\\lib\\site-packages\\twisted\\internet\\defer.py\", line 654, in _runCallbacks\n",
      "    current.result = callback(current.result, *args, **kw)\n",
      "  File \"<ipython-input-122-8fc83100377c>\", line 37, in parse\n",
      "    content_type = re.findall(conttype_regex, page_script)[0]\n",
      "IndexError: list index out of range\n",
      "2020-02-18 12:21:38 [urllib3.connectionpool] DEBUG: Starting new HTTPS connection (1): www.mckinsey.com:443\n"
     ]
    },
    {
     "name": "stdout",
     "output_type": "stream",
     "text": [
      "https://www.mckinsey.com/industries/financial-services/our-insights/from-art-to-science-the-future-of-underwriting-in-commercial-p-and-c-insurance\n"
     ]
    },
    {
     "name": "stderr",
     "output_type": "stream",
     "text": [
      "2020-02-18 12:21:39 [urllib3.connectionpool] DEBUG: https://www.mckinsey.com:443 \"GET /industries/financial-services/our-insights/from-art-to-science-the-future-of-underwriting-in-commercial-p-and-c-insurance HTTP/1.1\" 200 24755\n",
      "2020-02-18 12:21:39 [urllib3.connectionpool] DEBUG: Starting new HTTPS connection (1): www.mckinsey.com:443\n"
     ]
    },
    {
     "name": "stdout",
     "output_type": "stream",
     "text": [
      "https://www.mckinsey.com/featured-insights/future-of-work/competitive-advantage-with-a-human-dimension-from-lifelong-learning-to-lifelong-employability\n"
     ]
    },
    {
     "name": "stderr",
     "output_type": "stream",
     "text": [
      "2020-02-18 12:21:39 [urllib3.connectionpool] DEBUG: https://www.mckinsey.com:443 \"GET /featured-insights/future-of-work/competitive-advantage-with-a-human-dimension-from-lifelong-learning-to-lifelong-employability HTTP/1.1\" 200 21433\n",
      "2020-02-18 12:21:39 [urllib3.connectionpool] DEBUG: Starting new HTTPS connection (1): www.mckinsey.com:443\n"
     ]
    },
    {
     "name": "stdout",
     "output_type": "stream",
     "text": [
      "https://www.mckinsey.com/features/explore-operations/join-us\n"
     ]
    },
    {
     "name": "stderr",
     "output_type": "stream",
     "text": [
      "2020-02-18 12:21:40 [urllib3.connectionpool] DEBUG: https://www.mckinsey.com:443 \"GET /features/explore-operations/join-us HTTP/1.1\" 200 13772\n",
      "2020-02-18 12:21:40 [scrapy.core.scraper] ERROR: Spider error processing <GET https://www.mckinsey.com/features/explore-operations/join-us> (referer: None)\n",
      "Traceback (most recent call last):\n",
      "  File \"D:\\ProgramData\\Anaconda3\\lib\\site-packages\\twisted\\internet\\defer.py\", line 654, in _runCallbacks\n",
      "    current.result = callback(current.result, *args, **kw)\n",
      "  File \"<ipython-input-122-8fc83100377c>\", line 37, in parse\n",
      "    content_type = re.findall(conttype_regex, page_script)[0]\n",
      "IndexError: list index out of range\n",
      "2020-02-18 12:21:40 [urllib3.connectionpool] DEBUG: Starting new HTTPS connection (1): www.mckinsey.com:443\n"
     ]
    },
    {
     "name": "stdout",
     "output_type": "stream",
     "text": [
      "https://www.mckinsey.com/business-functions/operations/our-insights/operations-blog/industrial-revolution-or-evolution\n"
     ]
    },
    {
     "name": "stderr",
     "output_type": "stream",
     "text": [
      "2020-02-18 12:21:40 [urllib3.connectionpool] DEBUG: https://www.mckinsey.com:443 \"GET /business-functions/operations/our-insights/operations-blog/industrial-revolution-or-evolution HTTP/1.1\" 200 13673\n",
      "2020-02-18 12:21:40 [scrapy.core.scraper] ERROR: Spider error processing <GET https://www.mckinsey.com/business-functions/operations/our-insights/operations-blog/industrial-revolution-or-evolution> (referer: None)\n",
      "Traceback (most recent call last):\n",
      "  File \"D:\\ProgramData\\Anaconda3\\lib\\site-packages\\twisted\\internet\\defer.py\", line 654, in _runCallbacks\n",
      "    current.result = callback(current.result, *args, **kw)\n",
      "  File \"<ipython-input-122-8fc83100377c>\", line 37, in parse\n",
      "    content_type = re.findall(conttype_regex, page_script)[0]\n",
      "IndexError: list index out of range\n",
      "2020-02-18 12:21:41 [urllib3.connectionpool] DEBUG: Starting new HTTPS connection (1): www.mckinsey.com:443\n"
     ]
    },
    {
     "name": "stdout",
     "output_type": "stream",
     "text": [
      "https://www.mckinsey.com/business-functions/operations/our-insights/the-human-side-of-digital-supply-chains\n"
     ]
    },
    {
     "name": "stderr",
     "output_type": "stream",
     "text": [
      "2020-02-18 12:21:41 [urllib3.connectionpool] DEBUG: https://www.mckinsey.com:443 \"GET /business-functions/operations/our-insights/the-human-side-of-digital-supply-chains HTTP/1.1\" 200 18338\n",
      "2020-02-18 12:21:41 [urllib3.connectionpool] DEBUG: Starting new HTTPS connection (1): www.mckinsey.com:443\n"
     ]
    },
    {
     "name": "stdout",
     "output_type": "stream",
     "text": [
      "https://www.mckinsey.com/mgi/overview/in-the-news/emerging-markets-encouraged-to-defend-globalization\n"
     ]
    },
    {
     "name": "stderr",
     "output_type": "stream",
     "text": [
      "2020-02-18 12:21:41 [urllib3.connectionpool] DEBUG: https://www.mckinsey.com:443 \"GET /mgi/overview/in-the-news/emerging-markets-encouraged-to-defend-globalization HTTP/1.1\" 200 14427\n",
      "2020-02-18 12:21:41 [scrapy.core.engine] DEBUG: Crawled (200) <GET https://www.mckinsey.com/business-functions/organization/our-insights/the-organization-blog/driving-value-in-talent-processes-using-analytics> (referer: None)\n",
      "2020-02-18 12:21:41 [scrapy.core.engine] DEBUG: Crawled (200) <GET https://www.mckinsey.com/featured-insights/future-of-work/retraining-and-reskilling-to-ease-the-strain-of-automation> (referer: None)\n",
      "2020-02-18 12:21:41 [scrapy.core.engine] DEBUG: Crawled (200) <GET https://www.mckinsey.com/featured-insights/innovation-and-growth/ten-highlights-from-our-2019-research> (referer: None)\n",
      "2020-02-18 12:21:41 [scrapy.core.engine] DEBUG: Crawled (200) <GET https://www.mckinsey.com/featured-insights/internet-of-things/our-insights/the-internet-of-things-how-to-capture-the-value-of-iot> (referer: None)\n",
      "2020-02-18 12:21:41 [scrapy.core.engine] DEBUG: Crawled (200) <GET https://www.mckinsey.com/industries/financial-services/our-insights/insurance-blog/insuretech-connect-2019-overview> (referer: None)\n",
      "2020-02-18 12:21:41 [scrapy.core.engine] DEBUG: Crawled (200) <GET https://www.mckinsey.com/quarterly/overview/management-the-next-50-years> (referer: None)\n",
      "2020-02-18 12:21:41 [scrapy.core.engine] DEBUG: Crawled (200) <GET https://www.mckinsey.com/quarterly/the-magazine/2019-issue-3-mckinsey-quarterly> (referer: None)\n",
      "2020-02-18 12:21:41 [urllib3.connectionpool] DEBUG: Starting new HTTPS connection (1): www.mckinsey.com:443\n"
     ]
    },
    {
     "name": "stdout",
     "output_type": "stream",
     "text": [
      "https://www.mckinsey.com/business-functions/organization/our-insights/the-organization-blog\n"
     ]
    },
    {
     "name": "stderr",
     "output_type": "stream",
     "text": [
      "2020-02-18 12:21:44 [urllib3.connectionpool] DEBUG: https://www.mckinsey.com:443 \"GET /business-functions/organization/our-insights/the-organization-blog HTTP/1.1\" 200 18866\n",
      "2020-02-18 12:21:44 [scrapy.core.scraper] ERROR: Spider error processing <GET https://www.mckinsey.com/business-functions/organization/our-insights/the-organization-blog> (referer: None)\n",
      "Traceback (most recent call last):\n",
      "  File \"D:\\ProgramData\\Anaconda3\\lib\\site-packages\\twisted\\internet\\defer.py\", line 654, in _runCallbacks\n",
      "    current.result = callback(current.result, *args, **kw)\n",
      "  File \"<ipython-input-122-8fc83100377c>\", line 37, in parse\n",
      "    content_type = re.findall(conttype_regex, page_script)[0]\n",
      "IndexError: list index out of range\n",
      "2020-02-18 12:21:44 [scrapy.core.engine] DEBUG: Crawled (200) <GET https://www.mckinsey.com/quarterly/the-magazine/2019-issue-4-mckinsey-quarterly> (referer: None)\n",
      "2020-02-18 12:21:44 [urllib3.connectionpool] DEBUG: Starting new HTTPS connection (1): www.mckinsey.com:443\n"
     ]
    },
    {
     "name": "stdout",
     "output_type": "stream",
     "text": [
      "https://www.mckinsey.com/business-functions/organization/our-insights/the-organization-blog/driving-value-in-talent-processes-using-analytics\n"
     ]
    },
    {
     "name": "stderr",
     "output_type": "stream",
     "text": [
      "2020-02-18 12:21:45 [urllib3.connectionpool] DEBUG: https://www.mckinsey.com:443 \"GET /business-functions/organization/our-insights/the-organization-blog/driving-value-in-talent-processes-using-analytics HTTP/1.1\" 200 13595\n",
      "2020-02-18 12:21:45 [scrapy.core.scraper] ERROR: Spider error processing <GET https://www.mckinsey.com/business-functions/organization/our-insights/the-organization-blog/driving-value-in-talent-processes-using-analytics> (referer: None)\n",
      "Traceback (most recent call last):\n",
      "  File \"D:\\ProgramData\\Anaconda3\\lib\\site-packages\\twisted\\internet\\defer.py\", line 654, in _runCallbacks\n",
      "    current.result = callback(current.result, *args, **kw)\n",
      "  File \"<ipython-input-122-8fc83100377c>\", line 37, in parse\n",
      "    content_type = re.findall(conttype_regex, page_script)[0]\n",
      "IndexError: list index out of range\n",
      "2020-02-18 12:21:45 [urllib3.connectionpool] DEBUG: Starting new HTTPS connection (1): www.mckinsey.com:443\n"
     ]
    },
    {
     "name": "stdout",
     "output_type": "stream",
     "text": [
      "https://www.mckinsey.com/featured-insights/future-of-work/retraining-and-reskilling-to-ease-the-strain-of-automation\n"
     ]
    },
    {
     "name": "stderr",
     "output_type": "stream",
     "text": [
      "2020-02-18 12:21:46 [urllib3.connectionpool] DEBUG: https://www.mckinsey.com:443 \"GET /featured-insights/future-of-work/retraining-and-reskilling-to-ease-the-strain-of-automation HTTP/1.1\" 200 17885\n",
      "2020-02-18 12:21:46 [urllib3.connectionpool] DEBUG: Starting new HTTPS connection (1): www.mckinsey.com:443\n"
     ]
    },
    {
     "name": "stdout",
     "output_type": "stream",
     "text": [
      "https://www.mckinsey.com/featured-insights/innovation-and-growth/ten-highlights-from-our-2019-research\n"
     ]
    },
    {
     "name": "stderr",
     "output_type": "stream",
     "text": [
      "2020-02-18 12:21:47 [urllib3.connectionpool] DEBUG: https://www.mckinsey.com:443 \"GET /featured-insights/innovation-and-growth/ten-highlights-from-our-2019-research HTTP/1.1\" 200 17521\n",
      "2020-02-18 12:21:47 [urllib3.connectionpool] DEBUG: Starting new HTTPS connection (1): www.mckinsey.com:443\n"
     ]
    },
    {
     "name": "stdout",
     "output_type": "stream",
     "text": [
      "https://www.mckinsey.com/featured-insights/internet-of-things/our-insights/the-internet-of-things-how-to-capture-the-value-of-iot\n"
     ]
    },
    {
     "name": "stderr",
     "output_type": "stream",
     "text": [
      "2020-02-18 12:21:48 [urllib3.connectionpool] DEBUG: https://www.mckinsey.com:443 \"GET /featured-insights/internet-of-things/our-insights/the-internet-of-things-how-to-capture-the-value-of-iot HTTP/1.1\" 200 15290\n",
      "2020-02-18 12:21:48 [scrapy.core.scraper] ERROR: Spider error processing <GET https://www.mckinsey.com/featured-insights/internet-of-things/our-insights/the-internet-of-things-how-to-capture-the-value-of-iot> (referer: None)\n",
      "Traceback (most recent call last):\n",
      "  File \"D:\\ProgramData\\Anaconda3\\lib\\site-packages\\twisted\\internet\\defer.py\", line 654, in _runCallbacks\n",
      "    current.result = callback(current.result, *args, **kw)\n",
      "  File \"<ipython-input-122-8fc83100377c>\", line 41, in parse\n",
      "    page_date = re.findall(date_regex, page_script)[0]\n",
      "IndexError: list index out of range\n",
      "2020-02-18 12:21:48 [urllib3.connectionpool] DEBUG: Starting new HTTPS connection (1): www.mckinsey.com:443\n"
     ]
    },
    {
     "name": "stdout",
     "output_type": "stream",
     "text": [
      "https://www.mckinsey.com/industries/financial-services/our-insights/insurance-blog/insuretech-connect-2019-overview\n"
     ]
    },
    {
     "name": "stderr",
     "output_type": "stream",
     "text": [
      "2020-02-18 12:21:49 [urllib3.connectionpool] DEBUG: https://www.mckinsey.com:443 \"GET /industries/financial-services/our-insights/insurance-blog/insuretech-connect-2019-overview HTTP/1.1\" 200 14519\n",
      "2020-02-18 12:21:49 [scrapy.core.scraper] ERROR: Spider error processing <GET https://www.mckinsey.com/industries/financial-services/our-insights/insurance-blog/insuretech-connect-2019-overview> (referer: None)\n",
      "Traceback (most recent call last):\n",
      "  File \"D:\\ProgramData\\Anaconda3\\lib\\site-packages\\twisted\\internet\\defer.py\", line 654, in _runCallbacks\n",
      "    current.result = callback(current.result, *args, **kw)\n",
      "  File \"<ipython-input-122-8fc83100377c>\", line 37, in parse\n",
      "    content_type = re.findall(conttype_regex, page_script)[0]\n",
      "IndexError: list index out of range\n",
      "2020-02-18 12:21:49 [urllib3.connectionpool] DEBUG: Starting new HTTPS connection (1): www.mckinsey.com:443\n"
     ]
    },
    {
     "name": "stdout",
     "output_type": "stream",
     "text": [
      "https://www.mckinsey.com/quarterly/overview/management-the-next-50-years\n"
     ]
    },
    {
     "name": "stderr",
     "output_type": "stream",
     "text": [
      "2020-02-18 12:21:51 [urllib3.connectionpool] DEBUG: https://www.mckinsey.com:443 \"GET /quarterly/overview/management-the-next-50-years HTTP/1.1\" 200 17021\n",
      "2020-02-18 12:21:51 [scrapy.core.scraper] ERROR: Spider error processing <GET https://www.mckinsey.com/quarterly/overview/management-the-next-50-years> (referer: None)\n",
      "Traceback (most recent call last):\n",
      "  File \"D:\\ProgramData\\Anaconda3\\lib\\site-packages\\twisted\\internet\\defer.py\", line 654, in _runCallbacks\n",
      "    current.result = callback(current.result, *args, **kw)\n",
      "  File \"<ipython-input-122-8fc83100377c>\", line 41, in parse\n",
      "    page_date = re.findall(date_regex, page_script)[0]\n",
      "IndexError: list index out of range\n",
      "2020-02-18 12:21:51 [urllib3.connectionpool] DEBUG: Starting new HTTPS connection (1): www.mckinsey.com:443\n"
     ]
    },
    {
     "name": "stdout",
     "output_type": "stream",
     "text": [
      "https://www.mckinsey.com/quarterly/the-magazine/2019-issue-3-mckinsey-quarterly\n"
     ]
    },
    {
     "name": "stderr",
     "output_type": "stream",
     "text": [
      "2020-02-18 12:21:52 [urllib3.connectionpool] DEBUG: https://www.mckinsey.com:443 \"GET /quarterly/the-magazine/2019-issue-3-mckinsey-quarterly HTTP/1.1\" 200 14645\n",
      "2020-02-18 12:21:52 [scrapy.core.scraper] ERROR: Spider error processing <GET https://www.mckinsey.com/quarterly/the-magazine/2019-issue-3-mckinsey-quarterly> (referer: None)\n",
      "Traceback (most recent call last):\n",
      "  File \"D:\\ProgramData\\Anaconda3\\lib\\site-packages\\twisted\\internet\\defer.py\", line 654, in _runCallbacks\n",
      "    current.result = callback(current.result, *args, **kw)\n",
      "  File \"<ipython-input-122-8fc83100377c>\", line 41, in parse\n",
      "    page_date = re.findall(date_regex, page_script)[0]\n",
      "IndexError: list index out of range\n",
      "2020-02-18 12:21:52 [scrapy.core.engine] DEBUG: Crawled (200) <GET https://www.mckinsey.com/industries/technology-media-and-telecommunications/how-we-help-clients/digital-it-services> (referer: None)\n",
      "2020-02-18 12:21:52 [scrapy.core.engine] DEBUG: Crawled (200) <GET https://www.mckinsey.com/our-people/johanne-lavoie> (referer: None)\n",
      "2020-02-18 12:21:52 [urllib3.connectionpool] DEBUG: Starting new HTTPS connection (1): www.mckinsey.com:443\n"
     ]
    },
    {
     "name": "stdout",
     "output_type": "stream",
     "text": [
      "https://www.mckinsey.com/quarterly/the-magazine/2019-issue-4-mckinsey-quarterly\n"
     ]
    },
    {
     "name": "stderr",
     "output_type": "stream",
     "text": [
      "2020-02-18 12:21:54 [urllib3.connectionpool] DEBUG: https://www.mckinsey.com:443 \"GET /quarterly/the-magazine/2019-issue-4-mckinsey-quarterly HTTP/1.1\" 200 14833\n",
      "2020-02-18 12:21:54 [scrapy.core.scraper] ERROR: Spider error processing <GET https://www.mckinsey.com/quarterly/the-magazine/2019-issue-4-mckinsey-quarterly> (referer: None)\n",
      "Traceback (most recent call last):\n",
      "  File \"D:\\ProgramData\\Anaconda3\\lib\\site-packages\\twisted\\internet\\defer.py\", line 654, in _runCallbacks\n",
      "    current.result = callback(current.result, *args, **kw)\n",
      "  File \"<ipython-input-122-8fc83100377c>\", line 41, in parse\n",
      "    page_date = re.findall(date_regex, page_script)[0]\n",
      "IndexError: list index out of range\n",
      "2020-02-18 12:21:54 [scrapy.core.engine] DEBUG: Crawled (200) <GET https://www.mckinsey.com/industries/capital-projects-and-infrastructure/our-insights/construction-in-the-cloud-an-interview-with-thomas-wolf-ceo-of-rib-software> (referer: None)\n",
      "2020-02-18 12:21:54 [urllib3.connectionpool] DEBUG: Starting new HTTPS connection (1): www.mckinsey.com:443\n"
     ]
    },
    {
     "name": "stdout",
     "output_type": "stream",
     "text": [
      "https://www.mckinsey.com/industries/technology-media-and-telecommunications/how-we-help-clients/digital-it-services\n"
     ]
    },
    {
     "name": "stderr",
     "output_type": "stream",
     "text": [
      "2020-02-18 12:21:54 [urllib3.connectionpool] DEBUG: https://www.mckinsey.com:443 \"GET /industries/technology-media-and-telecommunications/how-we-help-clients/digital-it-services HTTP/1.1\" 200 15761\n",
      "2020-02-18 12:21:54 [scrapy.core.scraper] ERROR: Spider error processing <GET https://www.mckinsey.com/industries/technology-media-and-telecommunications/how-we-help-clients/digital-it-services> (referer: None)\n",
      "Traceback (most recent call last):\n",
      "  File \"D:\\ProgramData\\Anaconda3\\lib\\site-packages\\twisted\\internet\\defer.py\", line 654, in _runCallbacks\n",
      "    current.result = callback(current.result, *args, **kw)\n",
      "  File \"<ipython-input-122-8fc83100377c>\", line 41, in parse\n",
      "    page_date = re.findall(date_regex, page_script)[0]\n",
      "IndexError: list index out of range\n",
      "2020-02-18 12:21:54 [urllib3.connectionpool] DEBUG: Starting new HTTPS connection (1): www.mckinsey.com:443\n"
     ]
    },
    {
     "name": "stdout",
     "output_type": "stream",
     "text": [
      "https://www.mckinsey.com/our-people/johanne-lavoie\n"
     ]
    },
    {
     "name": "stderr",
     "output_type": "stream",
     "text": [
      "2020-02-18 12:21:55 [urllib3.connectionpool] DEBUG: https://www.mckinsey.com:443 \"GET /our-people/johanne-lavoie HTTP/1.1\" 200 16064\n",
      "2020-02-18 12:21:55 [scrapy.core.engine] DEBUG: Crawled (200) <GET https://www.mckinsey.com/business-functions/operations/our-insights/realigning-global-support-function-footprints-in-a-digital-world> (referer: None)\n",
      "2020-02-18 12:21:55 [urllib3.connectionpool] DEBUG: Starting new HTTPS connection (1): www.mckinsey.com:443\n"
     ]
    },
    {
     "name": "stdout",
     "output_type": "stream",
     "text": [
      "https://www.mckinsey.com/industries/capital-projects-and-infrastructure/our-insights/construction-in-the-cloud-an-interview-with-thomas-wolf-ceo-of-rib-software\n"
     ]
    },
    {
     "name": "stderr",
     "output_type": "stream",
     "text": [
      "2020-02-18 12:21:56 [urllib3.connectionpool] DEBUG: https://www.mckinsey.com:443 \"GET /industries/capital-projects-and-infrastructure/our-insights/construction-in-the-cloud-an-interview-with-thomas-wolf-ceo-of-rib-software HTTP/1.1\" 200 19132\n",
      "2020-02-18 12:21:56 [urllib3.connectionpool] DEBUG: Starting new HTTPS connection (1): www.mckinsey.com:443\n"
     ]
    },
    {
     "name": "stdout",
     "output_type": "stream",
     "text": [
      "https://www.mckinsey.com/business-functions/operations/our-insights/realigning-global-support-function-footprints-in-a-digital-world\n"
     ]
    },
    {
     "name": "stderr",
     "output_type": "stream",
     "text": [
      "2020-02-18 12:21:56 [urllib3.connectionpool] DEBUG: https://www.mckinsey.com:443 \"GET /business-functions/operations/our-insights/realigning-global-support-function-footprints-in-a-digital-world HTTP/1.1\" 200 19064\n",
      "2020-02-18 12:21:56 [scrapy.core.engine] DEBUG: Crawled (200) <GET https://www.mckinsey.com/business-functions/organization/our-insights/putting-lifelong-learning-on-the-ceo-agenda> (referer: None)\n",
      "2020-02-18 12:21:56 [urllib3.connectionpool] DEBUG: Starting new HTTPS connection (1): www.mckinsey.com:443\n"
     ]
    },
    {
     "name": "stdout",
     "output_type": "stream",
     "text": [
      "https://www.mckinsey.com/business-functions/organization/our-insights/putting-lifelong-learning-on-the-ceo-agenda\n"
     ]
    },
    {
     "name": "stderr",
     "output_type": "stream",
     "text": [
      "2020-02-18 12:21:57 [urllib3.connectionpool] DEBUG: https://www.mckinsey.com:443 \"GET /business-functions/organization/our-insights/putting-lifelong-learning-on-the-ceo-agenda HTTP/1.1\" 200 19776\n",
      "2020-02-18 12:21:57 [scrapy.core.engine] DEBUG: Crawled (200) <GET https://www.mckinsey.com/featured-insights/future-of-work/retraining-and-reskilling-workers-in-the-age-of-automation> (referer: None)\n",
      "2020-02-18 12:21:57 [urllib3.connectionpool] DEBUG: Starting new HTTPS connection (1): www.mckinsey.com:443\n"
     ]
    },
    {
     "name": "stdout",
     "output_type": "stream",
     "text": [
      "https://www.mckinsey.com/featured-insights/future-of-work/retraining-and-reskilling-workers-in-the-age-of-automation\n"
     ]
    },
    {
     "name": "stderr",
     "output_type": "stream",
     "text": [
      "2020-02-18 12:21:58 [urllib3.connectionpool] DEBUG: https://www.mckinsey.com:443 \"GET /featured-insights/future-of-work/retraining-and-reskilling-workers-in-the-age-of-automation HTTP/1.1\" 200 20690\n",
      "2020-02-18 12:21:58 [scrapy.core.engine] DEBUG: Crawled (200) <GET https://www.mckinsey.com/business-functions/strategy-and-corporate-finance/our-insights/mckinsey-quarterly-2015-number-3-overview-and-full-issue> (referer: None)\n",
      "2020-02-18 12:21:58 [scrapy.core.engine] DEBUG: Crawled (200) <GET https://www.mckinsey.com/business-functions/operations/our-insights/operations-blog/ops-40-the-human-factor-planning-for-tomorrows-roles> (referer: None)\n",
      "2020-02-18 12:21:58 [scrapy.core.engine] DEBUG: Crawled (200) <GET https://www.mckinsey.com/featured-insights/the-truth-about-transformation> (referer: None)\n",
      "2020-02-18 12:21:58 [scrapy.core.engine] DEBUG: Crawled (200) <GET https://www.mckinsey.com/business-functions/operations/our-insights/operations-blog/ops-40-the-human-factor-building-ops-40-capabilities> (referer: None)\n",
      "2020-02-18 12:21:58 [scrapy.core.engine] DEBUG: Crawled (200) <GET https://www.mckinsey.com/featured-insights/future-of-asia> (referer: None)\n",
      "2020-02-18 12:21:58 [scrapy.core.engine] DEBUG: Crawled (200) <GET https://www.mckinsey.com/business-functions/mckinsey-digital/our-insights/mckinsey-quarterly-2018-number-4-overview-and-full-issue> (referer: None)\n",
      "2020-02-18 12:21:58 [scrapy.core.engine] DEBUG: Crawled (200) <GET https://www.mckinsey.com/featured-insights/video> (referer: None)\n",
      "2020-02-18 12:21:58 [scrapy.core.engine] DEBUG: Crawled (200) <GET https://www.mckinsey.com/industries/financial-services/our-insights/insurance-blog/how-to-maximize-the-chances-of-achieving-your-insurance-claims-aspiration> (referer: None)\n",
      "2020-02-18 12:21:58 [urllib3.connectionpool] DEBUG: Starting new HTTPS connection (1): www.mckinsey.com:443\n"
     ]
    },
    {
     "name": "stdout",
     "output_type": "stream",
     "text": [
      "https://www.mckinsey.com/business-functions/strategy-and-corporate-finance/our-insights/mckinsey-quarterly-2015-number-3-overview-and-full-issue\n"
     ]
    },
    {
     "name": "stderr",
     "output_type": "stream",
     "text": [
      "2020-02-18 12:21:59 [urllib3.connectionpool] DEBUG: https://www.mckinsey.com:443 \"GET /business-functions/strategy-and-corporate-finance/our-insights/mckinsey-quarterly-2015-number-3-overview-and-full-issue HTTP/1.1\" 200 15999\n",
      "2020-02-18 12:21:59 [scrapy.core.engine] DEBUG: Crawled (200) <GET https://www.mckinsey.com/featured-insights/asia-pacific/automation-and-adaptability-how-malaysia-can-navigate-the-future-of-work> (referer: None)\n",
      "2020-02-18 12:21:59 [urllib3.connectionpool] DEBUG: Starting new HTTPS connection (1): www.mckinsey.com:443\n"
     ]
    },
    {
     "name": "stdout",
     "output_type": "stream",
     "text": [
      "https://www.mckinsey.com/business-functions/operations/our-insights/operations-blog/ops-40-the-human-factor-planning-for-tomorrows-roles\n"
     ]
    },
    {
     "name": "stderr",
     "output_type": "stream",
     "text": [
      "2020-02-18 12:22:00 [urllib3.connectionpool] DEBUG: https://www.mckinsey.com:443 \"GET /business-functions/operations/our-insights/operations-blog/ops-40-the-human-factor-planning-for-tomorrows-roles HTTP/1.1\" 200 14657\n",
      "2020-02-18 12:22:00 [scrapy.core.scraper] ERROR: Spider error processing <GET https://www.mckinsey.com/business-functions/operations/our-insights/operations-blog/ops-40-the-human-factor-planning-for-tomorrows-roles> (referer: None)\n",
      "Traceback (most recent call last):\n",
      "  File \"D:\\ProgramData\\Anaconda3\\lib\\site-packages\\twisted\\internet\\defer.py\", line 654, in _runCallbacks\n",
      "    current.result = callback(current.result, *args, **kw)\n",
      "  File \"<ipython-input-122-8fc83100377c>\", line 37, in parse\n",
      "    content_type = re.findall(conttype_regex, page_script)[0]\n",
      "IndexError: list index out of range\n",
      "2020-02-18 12:22:00 [urllib3.connectionpool] DEBUG: Starting new HTTPS connection (1): www.mckinsey.com:443\n"
     ]
    },
    {
     "name": "stdout",
     "output_type": "stream",
     "text": [
      "https://www.mckinsey.com/featured-insights/the-truth-about-transformation\n"
     ]
    },
    {
     "name": "stderr",
     "output_type": "stream",
     "text": [
      "2020-02-18 12:22:01 [urllib3.connectionpool] DEBUG: https://www.mckinsey.com:443 \"GET /featured-insights/the-truth-about-transformation HTTP/1.1\" 200 17470\n",
      "2020-02-18 12:22:01 [scrapy.core.scraper] ERROR: Spider error processing <GET https://www.mckinsey.com/featured-insights/the-truth-about-transformation> (referer: None)\n",
      "Traceback (most recent call last):\n",
      "  File \"D:\\ProgramData\\Anaconda3\\lib\\site-packages\\twisted\\internet\\defer.py\", line 654, in _runCallbacks\n",
      "    current.result = callback(current.result, *args, **kw)\n",
      "  File \"<ipython-input-122-8fc83100377c>\", line 37, in parse\n",
      "    content_type = re.findall(conttype_regex, page_script)[0]\n",
      "IndexError: list index out of range\n",
      "2020-02-18 12:22:01 [urllib3.connectionpool] DEBUG: Starting new HTTPS connection (1): www.mckinsey.com:443\n"
     ]
    },
    {
     "name": "stdout",
     "output_type": "stream",
     "text": [
      "https://www.mckinsey.com/business-functions/operations/our-insights/operations-blog/ops-40-the-human-factor-building-ops-40-capabilities\n"
     ]
    },
    {
     "name": "stderr",
     "output_type": "stream",
     "text": [
      "2020-02-18 12:22:02 [urllib3.connectionpool] DEBUG: https://www.mckinsey.com:443 \"GET /business-functions/operations/our-insights/operations-blog/ops-40-the-human-factor-building-ops-40-capabilities HTTP/1.1\" 200 13898\n",
      "2020-02-18 12:22:02 [scrapy.core.scraper] ERROR: Spider error processing <GET https://www.mckinsey.com/business-functions/operations/our-insights/operations-blog/ops-40-the-human-factor-building-ops-40-capabilities> (referer: None)\n",
      "Traceback (most recent call last):\n",
      "  File \"D:\\ProgramData\\Anaconda3\\lib\\site-packages\\twisted\\internet\\defer.py\", line 654, in _runCallbacks\n",
      "    current.result = callback(current.result, *args, **kw)\n",
      "  File \"<ipython-input-122-8fc83100377c>\", line 37, in parse\n",
      "    content_type = re.findall(conttype_regex, page_script)[0]\n",
      "IndexError: list index out of range\n",
      "2020-02-18 12:22:02 [urllib3.connectionpool] DEBUG: Starting new HTTPS connection (1): www.mckinsey.com:443\n"
     ]
    },
    {
     "name": "stdout",
     "output_type": "stream",
     "text": [
      "https://www.mckinsey.com/featured-insights/future-of-asia\n"
     ]
    },
    {
     "name": "stderr",
     "output_type": "stream",
     "text": [
      "2020-02-18 12:22:04 [urllib3.connectionpool] DEBUG: https://www.mckinsey.com:443 \"GET /featured-insights/future-of-asia HTTP/1.1\" 200 22942\n",
      "2020-02-18 12:22:04 [scrapy.core.scraper] ERROR: Spider error processing <GET https://www.mckinsey.com/featured-insights/future-of-asia> (referer: None)\n",
      "Traceback (most recent call last):\n",
      "  File \"D:\\ProgramData\\Anaconda3\\lib\\site-packages\\twisted\\internet\\defer.py\", line 654, in _runCallbacks\n",
      "    current.result = callback(current.result, *args, **kw)\n",
      "  File \"<ipython-input-122-8fc83100377c>\", line 37, in parse\n",
      "    content_type = re.findall(conttype_regex, page_script)[0]\n",
      "IndexError: list index out of range\n",
      "2020-02-18 12:22:04 [urllib3.connectionpool] DEBUG: Starting new HTTPS connection (1): www.mckinsey.com:443\n"
     ]
    },
    {
     "name": "stdout",
     "output_type": "stream",
     "text": [
      "https://www.mckinsey.com/business-functions/mckinsey-digital/our-insights/mckinsey-quarterly-2018-number-4-overview-and-full-issue\n"
     ]
    },
    {
     "name": "stderr",
     "output_type": "stream",
     "text": [
      "2020-02-18 12:22:04 [urllib3.connectionpool] DEBUG: https://www.mckinsey.com:443 \"GET /business-functions/mckinsey-digital/our-insights/mckinsey-quarterly-2018-number-4-overview-and-full-issue HTTP/1.1\" 200 15216\n",
      "2020-02-18 12:22:04 [urllib3.connectionpool] DEBUG: Starting new HTTPS connection (1): www.mckinsey.com:443\n"
     ]
    },
    {
     "name": "stdout",
     "output_type": "stream",
     "text": [
      "https://www.mckinsey.com/featured-insights/video\n"
     ]
    },
    {
     "name": "stderr",
     "output_type": "stream",
     "text": [
      "2020-02-18 12:22:05 [urllib3.connectionpool] DEBUG: https://www.mckinsey.com:443 \"GET /featured-insights/video HTTP/1.1\" 200 16838\n",
      "2020-02-18 12:22:05 [scrapy.core.scraper] ERROR: Spider error processing <GET https://www.mckinsey.com/featured-insights/video> (referer: None)\n",
      "Traceback (most recent call last):\n",
      "  File \"D:\\ProgramData\\Anaconda3\\lib\\site-packages\\twisted\\internet\\defer.py\", line 654, in _runCallbacks\n",
      "    current.result = callback(current.result, *args, **kw)\n",
      "  File \"<ipython-input-122-8fc83100377c>\", line 37, in parse\n",
      "    content_type = re.findall(conttype_regex, page_script)[0]\n",
      "IndexError: list index out of range\n",
      "2020-02-18 12:22:05 [urllib3.connectionpool] DEBUG: Starting new HTTPS connection (1): www.mckinsey.com:443\n"
     ]
    },
    {
     "name": "stdout",
     "output_type": "stream",
     "text": [
      "https://www.mckinsey.com/industries/financial-services/our-insights/insurance-blog/how-to-maximize-the-chances-of-achieving-your-insurance-claims-aspiration\n"
     ]
    },
    {
     "name": "stderr",
     "output_type": "stream",
     "text": [
      "2020-02-18 12:22:06 [urllib3.connectionpool] DEBUG: https://www.mckinsey.com:443 \"GET /industries/financial-services/our-insights/insurance-blog/how-to-maximize-the-chances-of-achieving-your-insurance-claims-aspiration HTTP/1.1\" 200 14740\n",
      "2020-02-18 12:22:06 [scrapy.core.scraper] ERROR: Spider error processing <GET https://www.mckinsey.com/industries/financial-services/our-insights/insurance-blog/how-to-maximize-the-chances-of-achieving-your-insurance-claims-aspiration> (referer: None)\n",
      "Traceback (most recent call last):\n",
      "  File \"D:\\ProgramData\\Anaconda3\\lib\\site-packages\\twisted\\internet\\defer.py\", line 654, in _runCallbacks\n",
      "    current.result = callback(current.result, *args, **kw)\n",
      "  File \"<ipython-input-122-8fc83100377c>\", line 37, in parse\n",
      "    content_type = re.findall(conttype_regex, page_script)[0]\n",
      "IndexError: list index out of range\n",
      "2020-02-18 12:22:06 [scrapy.core.engine] DEBUG: Crawled (200) <GET https://www.mckinsey.com/industries/chemicals/how-we-help-clients/cement> (referer: None)\n",
      "2020-02-18 12:22:06 [scrapy.core.engine] DEBUG: Crawled (200) <GET https://www.mckinsey.com/mgi/our-research/natural-resources> (referer: None)\n",
      "2020-02-18 12:22:06 [scrapy.core.engine] DEBUG: Crawled (200) <GET https://www.mckinsey.com/industries/healthcare-systems-and-services/our-insights/digital-is-reshaping-us-health-insurance-winners-are-moving-fast> (referer: None)\n",
      "2020-02-18 12:22:06 [scrapy.core.engine] DEBUG: Crawled (200) <GET https://www.mckinsey.com/business-functions/operations/our-insights/automating-the-math-makes-analytics-more-democratic-and-more-human> (referer: None)\n",
      "2020-02-18 12:22:06 [scrapy.core.engine] DEBUG: Crawled (200) <GET https://www.mckinsey.com/industries/capital-projects-and-infrastructure/our-insights/how-analytics-can-drive-smarter-engineering-and-construction-decisions> (referer: None)\n",
      "2020-02-18 12:22:06 [scrapy.core.engine] DEBUG: Crawled (200) <GET https://www.mckinsey.com/mgi/overview/in-the-news> (referer: None)\n",
      "2020-02-18 12:22:06 [scrapy.core.engine] DEBUG: Crawled (200) <GET https://www.mckinsey.com/about-us/new-at-mckinsey-blog/factory-of-the-future-opens-in-singapore> (referer: None)\n",
      "2020-02-18 12:22:06 [urllib3.connectionpool] DEBUG: Starting new HTTPS connection (1): www.mckinsey.com:443\n"
     ]
    },
    {
     "name": "stdout",
     "output_type": "stream",
     "text": [
      "https://www.mckinsey.com/featured-insights/asia-pacific/automation-and-adaptability-how-malaysia-can-navigate-the-future-of-work\n"
     ]
    },
    {
     "name": "stderr",
     "output_type": "stream",
     "text": [
      "2020-02-18 12:22:07 [urllib3.connectionpool] DEBUG: https://www.mckinsey.com:443 \"GET /featured-insights/asia-pacific/automation-and-adaptability-how-malaysia-can-navigate-the-future-of-work HTTP/1.1\" 200 21100\n",
      "2020-02-18 12:22:07 [urllib3.connectionpool] DEBUG: Starting new HTTPS connection (1): www.mckinsey.com:443\n"
     ]
    },
    {
     "name": "stdout",
     "output_type": "stream",
     "text": [
      "https://www.mckinsey.com/industries/chemicals/how-we-help-clients/cement\n"
     ]
    },
    {
     "name": "stderr",
     "output_type": "stream",
     "text": [
      "2020-02-18 12:22:07 [urllib3.connectionpool] DEBUG: https://www.mckinsey.com:443 \"GET /industries/chemicals/how-we-help-clients/cement HTTP/1.1\" 200 14474\n",
      "2020-02-18 12:22:07 [scrapy.core.scraper] ERROR: Spider error processing <GET https://www.mckinsey.com/industries/chemicals/how-we-help-clients/cement> (referer: None)\n",
      "Traceback (most recent call last):\n",
      "  File \"D:\\ProgramData\\Anaconda3\\lib\\site-packages\\twisted\\internet\\defer.py\", line 654, in _runCallbacks\n",
      "    current.result = callback(current.result, *args, **kw)\n",
      "  File \"<ipython-input-122-8fc83100377c>\", line 41, in parse\n",
      "    page_date = re.findall(date_regex, page_script)[0]\n",
      "IndexError: list index out of range\n",
      "2020-02-18 12:22:07 [urllib3.connectionpool] DEBUG: Starting new HTTPS connection (1): www.mckinsey.com:443\n"
     ]
    },
    {
     "name": "stdout",
     "output_type": "stream",
     "text": [
      "https://www.mckinsey.com/mgi/our-research/natural-resources\n"
     ]
    },
    {
     "name": "stderr",
     "output_type": "stream",
     "text": [
      "2020-02-18 12:22:09 [urllib3.connectionpool] DEBUG: https://www.mckinsey.com:443 \"GET /mgi/our-research/natural-resources HTTP/1.1\" 200 15571\n",
      "2020-02-18 12:22:09 [scrapy.core.scraper] ERROR: Spider error processing <GET https://www.mckinsey.com/mgi/our-research/natural-resources> (referer: None)\n",
      "Traceback (most recent call last):\n",
      "  File \"D:\\ProgramData\\Anaconda3\\lib\\site-packages\\twisted\\internet\\defer.py\", line 654, in _runCallbacks\n",
      "    current.result = callback(current.result, *args, **kw)\n",
      "  File \"<ipython-input-122-8fc83100377c>\", line 37, in parse\n",
      "    content_type = re.findall(conttype_regex, page_script)[0]\n",
      "IndexError: list index out of range\n",
      "2020-02-18 12:22:09 [urllib3.connectionpool] DEBUG: Starting new HTTPS connection (1): www.mckinsey.com:443\n"
     ]
    },
    {
     "name": "stdout",
     "output_type": "stream",
     "text": [
      "https://www.mckinsey.com/industries/healthcare-systems-and-services/our-insights/digital-is-reshaping-us-health-insurance-winners-are-moving-fast\n"
     ]
    },
    {
     "name": "stderr",
     "output_type": "stream",
     "text": [
      "2020-02-18 12:22:10 [urllib3.connectionpool] DEBUG: https://www.mckinsey.com:443 \"GET /industries/healthcare-systems-and-services/our-insights/digital-is-reshaping-us-health-insurance-winners-are-moving-fast HTTP/1.1\" 200 22269\n",
      "2020-02-18 12:22:10 [urllib3.connectionpool] DEBUG: Starting new HTTPS connection (1): www.mckinsey.com:443\n"
     ]
    },
    {
     "name": "stdout",
     "output_type": "stream",
     "text": [
      "https://www.mckinsey.com/business-functions/operations/our-insights/automating-the-math-makes-analytics-more-democratic-and-more-human\n"
     ]
    },
    {
     "name": "stderr",
     "output_type": "stream",
     "text": [
      "2020-02-18 12:22:10 [urllib3.connectionpool] DEBUG: https://www.mckinsey.com:443 \"GET /business-functions/operations/our-insights/automating-the-math-makes-analytics-more-democratic-and-more-human HTTP/1.1\" 200 19653\n",
      "2020-02-18 12:22:10 [urllib3.connectionpool] DEBUG: Starting new HTTPS connection (1): www.mckinsey.com:443\n"
     ]
    },
    {
     "name": "stdout",
     "output_type": "stream",
     "text": [
      "https://www.mckinsey.com/industries/capital-projects-and-infrastructure/our-insights/how-analytics-can-drive-smarter-engineering-and-construction-decisions\n"
     ]
    },
    {
     "name": "stderr",
     "output_type": "stream",
     "text": [
      "2020-02-18 12:22:11 [urllib3.connectionpool] DEBUG: https://www.mckinsey.com:443 \"GET /industries/capital-projects-and-infrastructure/our-insights/how-analytics-can-drive-smarter-engineering-and-construction-decisions HTTP/1.1\" 200 19100\n",
      "2020-02-18 12:22:11 [urllib3.connectionpool] DEBUG: Starting new HTTPS connection (1): www.mckinsey.com:443\n"
     ]
    },
    {
     "name": "stdout",
     "output_type": "stream",
     "text": [
      "https://www.mckinsey.com/mgi/overview/in-the-news\n"
     ]
    },
    {
     "name": "stderr",
     "output_type": "stream",
     "text": [
      "2020-02-18 12:22:12 [urllib3.connectionpool] DEBUG: https://www.mckinsey.com:443 \"GET /mgi/overview/in-the-news HTTP/1.1\" 200 18305\n",
      "2020-02-18 12:22:12 [scrapy.core.scraper] ERROR: Spider error processing <GET https://www.mckinsey.com/mgi/overview/in-the-news> (referer: None)\n",
      "Traceback (most recent call last):\n",
      "  File \"D:\\ProgramData\\Anaconda3\\lib\\site-packages\\twisted\\internet\\defer.py\", line 654, in _runCallbacks\n",
      "    current.result = callback(current.result, *args, **kw)\n",
      "  File \"<ipython-input-122-8fc83100377c>\", line 37, in parse\n",
      "    content_type = re.findall(conttype_regex, page_script)[0]\n",
      "IndexError: list index out of range\n",
      "2020-02-18 12:22:12 [urllib3.connectionpool] DEBUG: Starting new HTTPS connection (1): www.mckinsey.com:443\n"
     ]
    },
    {
     "name": "stdout",
     "output_type": "stream",
     "text": [
      "https://www.mckinsey.com/about-us/new-at-mckinsey-blog/factory-of-the-future-opens-in-singapore\n"
     ]
    },
    {
     "name": "stderr",
     "output_type": "stream",
     "text": [
      "2020-02-18 12:22:13 [urllib3.connectionpool] DEBUG: https://www.mckinsey.com:443 \"GET /about-us/new-at-mckinsey-blog/factory-of-the-future-opens-in-singapore HTTP/1.1\" 200 13630\n",
      "2020-02-18 12:22:13 [scrapy.core.scraper] ERROR: Spider error processing <GET https://www.mckinsey.com/about-us/new-at-mckinsey-blog/factory-of-the-future-opens-in-singapore> (referer: None)\n",
      "Traceback (most recent call last):\n",
      "  File \"D:\\ProgramData\\Anaconda3\\lib\\site-packages\\twisted\\internet\\defer.py\", line 654, in _runCallbacks\n",
      "    current.result = callback(current.result, *args, **kw)\n",
      "  File \"<ipython-input-122-8fc83100377c>\", line 37, in parse\n",
      "    content_type = re.findall(conttype_regex, page_script)[0]\n",
      "IndexError: list index out of range\n",
      "2020-02-18 12:22:13 [scrapy.core.engine] DEBUG: Crawled (200) <GET https://www.mckinsey.com/about-us/new-at-mckinsey-blog/meet-pal-erik-sjatil-regional-managing-partner-for-europe> (referer: None)\n",
      "2020-02-18 12:22:13 [scrapy.core.engine] DEBUG: Crawled (200) <GET https://www.mckinsey.com/business-functions/mckinsey-digital/our-insights/digital-blog/burning-questions-from-insuretech-connect-2018> (referer: None)\n",
      "2020-02-18 12:22:13 [scrapy.core.engine] DEBUG: Crawled (200) <GET https://www.mckinsey.com/business-functions/organization/our-insights/the-organization-blog/how-to-advance-your-talent-plan-to-stay-relevant> (referer: None)\n",
      "2020-02-18 12:22:13 [scrapy.core.engine] DEBUG: Crawled (200) <GET https://www.mckinsey.com/business-functions/organization/our-insights/the-organization-blog/hiring-from-unlikely-sources-as-the-talent-pool-shrinks> (referer: None)\n",
      "2020-02-18 12:22:13 [scrapy.core.engine] DEBUG: Crawled (200) <GET https://www.mckinsey.com/business-functions/organization/our-insights/the-organization-blog/human-resources-in-the-age-of-automation> (referer: None)\n",
      "2020-02-18 12:22:13 [scrapy.core.engine] DEBUG: Crawled (200) <GET https://www.mckinsey.com/business-functions/organization/our-insights/the-organization-blog/right-skilling-for-your-future-workforce> (referer: None)\n",
      "2020-02-18 12:22:13 [scrapy.core.engine] DEBUG: Crawled (200) <GET https://www.mckinsey.com/business-functions/organization/our-insights/the-organization-blog/scaling-up-organizational-agility> (referer: None)\n",
      "2020-02-18 12:22:13 [scrapy.core.engine] DEBUG: Crawled (200) <GET https://www.mckinsey.com/featured-insights/middle-east-and-africa/the-future-of-work-in-south-africa-digitisation-productivity-and-job-creation> (referer: None)\n",
      "2020-02-18 12:22:13 [scrapy.extensions.logstats] INFO: Crawled 432 pages (at 78 pages/min), scraped 0 items (at 0 items/min)\n",
      "2020-02-18 12:22:13 [urllib3.connectionpool] DEBUG: Starting new HTTPS connection (1): www.mckinsey.com:443\n"
     ]
    },
    {
     "name": "stdout",
     "output_type": "stream",
     "text": [
      "https://www.mckinsey.com/about-us/new-at-mckinsey-blog/meet-pal-erik-sjatil-regional-managing-partner-for-europe\n"
     ]
    },
    {
     "name": "stderr",
     "output_type": "stream",
     "text": [
      "2020-02-18 12:22:14 [urllib3.connectionpool] DEBUG: https://www.mckinsey.com:443 \"GET /about-us/new-at-mckinsey-blog/meet-pal-erik-sjatil-regional-managing-partner-for-europe HTTP/1.1\" 200 14348\n",
      "2020-02-18 12:22:14 [scrapy.core.scraper] ERROR: Spider error processing <GET https://www.mckinsey.com/about-us/new-at-mckinsey-blog/meet-pal-erik-sjatil-regional-managing-partner-for-europe> (referer: None)\n",
      "Traceback (most recent call last):\n",
      "  File \"D:\\ProgramData\\Anaconda3\\lib\\site-packages\\twisted\\internet\\defer.py\", line 654, in _runCallbacks\n",
      "    current.result = callback(current.result, *args, **kw)\n",
      "  File \"<ipython-input-122-8fc83100377c>\", line 37, in parse\n",
      "    content_type = re.findall(conttype_regex, page_script)[0]\n",
      "IndexError: list index out of range\n",
      "2020-02-18 12:22:14 [scrapy.core.engine] DEBUG: Crawled (200) <GET https://www.mckinsey.com/industries/healthcare-systems-and-services/our-insights/hospital-care-in-2030> (referer: None)\n",
      "2020-02-18 12:22:14 [scrapy.core.engine] DEBUG: Crawled (200) <GET https://www.mckinsey.com/cn/new-at-mckinsey-china/mckinsey-launches-digital-capability-center-in-beijing> (referer: None)\n",
      "2020-02-18 12:22:14 [scrapy.core.engine] DEBUG: Crawled (200) <GET https://www.mckinsey.com/mgi/overview/in-the-news/automation-will-make-lifelong-learning> (referer: None)\n",
      "2020-02-18 12:22:14 [scrapy.core.engine] DEBUG: Crawled (200) <GET https://www.mckinsey.com/industries/healthcare-systems-and-services/our-insights/test-and-listen-microsofts-jim-weinstein-on-healthcare-tech> (referer: None)\n",
      "2020-02-18 12:22:14 [scrapy.core.engine] DEBUG: Crawled (200) <GET https://www.mckinsey.com/business-functions/mckinsey-digital/our-insights/how-to-build-a-data-first-culture> (referer: None)\n",
      "2020-02-18 12:22:14 [scrapy.core.engine] DEBUG: Crawled (200) <GET https://www.mckinsey.com/ch/careers/analytics> (referer: None)\n",
      "2020-02-18 12:22:14 [scrapy.core.engine] DEBUG: Crawled (200) <GET https://www.mckinsey.com/business-functions/organization/our-insights/mckinsey-quarterly-2016-number-1-overview-and-full-issue> (referer: None)\n",
      "2020-02-18 12:22:14 [urllib3.connectionpool] DEBUG: Starting new HTTPS connection (1): www.mckinsey.com:443\n"
     ]
    },
    {
     "name": "stdout",
     "output_type": "stream",
     "text": [
      "https://www.mckinsey.com/business-functions/mckinsey-digital/our-insights/digital-blog/burning-questions-from-insuretech-connect-2018\n"
     ]
    },
    {
     "name": "stderr",
     "output_type": "stream",
     "text": [
      "2020-02-18 12:22:15 [urllib3.connectionpool] DEBUG: https://www.mckinsey.com:443 \"GET /business-functions/mckinsey-digital/our-insights/digital-blog/burning-questions-from-insuretech-connect-2018 HTTP/1.1\" 200 14093\n",
      "2020-02-18 12:22:15 [scrapy.core.scraper] ERROR: Spider error processing <GET https://www.mckinsey.com/business-functions/mckinsey-digital/our-insights/digital-blog/burning-questions-from-insuretech-connect-2018> (referer: None)\n",
      "Traceback (most recent call last):\n",
      "  File \"D:\\ProgramData\\Anaconda3\\lib\\site-packages\\twisted\\internet\\defer.py\", line 654, in _runCallbacks\n",
      "    current.result = callback(current.result, *args, **kw)\n",
      "  File \"<ipython-input-122-8fc83100377c>\", line 37, in parse\n",
      "    content_type = re.findall(conttype_regex, page_script)[0]\n",
      "IndexError: list index out of range\n",
      "2020-02-18 12:22:15 [urllib3.connectionpool] DEBUG: Starting new HTTPS connection (1): www.mckinsey.com:443\n"
     ]
    },
    {
     "name": "stdout",
     "output_type": "stream",
     "text": [
      "https://www.mckinsey.com/business-functions/organization/our-insights/the-organization-blog/how-to-advance-your-talent-plan-to-stay-relevant\n"
     ]
    },
    {
     "name": "stderr",
     "output_type": "stream",
     "text": [
      "2020-02-18 12:22:16 [urllib3.connectionpool] DEBUG: https://www.mckinsey.com:443 \"GET /business-functions/organization/our-insights/the-organization-blog/how-to-advance-your-talent-plan-to-stay-relevant HTTP/1.1\" 200 14476\n",
      "2020-02-18 12:22:16 [scrapy.core.scraper] ERROR: Spider error processing <GET https://www.mckinsey.com/business-functions/organization/our-insights/the-organization-blog/how-to-advance-your-talent-plan-to-stay-relevant> (referer: None)\n",
      "Traceback (most recent call last):\n",
      "  File \"D:\\ProgramData\\Anaconda3\\lib\\site-packages\\twisted\\internet\\defer.py\", line 654, in _runCallbacks\n",
      "    current.result = callback(current.result, *args, **kw)\n",
      "  File \"<ipython-input-122-8fc83100377c>\", line 37, in parse\n",
      "    content_type = re.findall(conttype_regex, page_script)[0]\n",
      "IndexError: list index out of range\n",
      "2020-02-18 12:22:16 [urllib3.connectionpool] DEBUG: Starting new HTTPS connection (1): www.mckinsey.com:443\n"
     ]
    },
    {
     "name": "stdout",
     "output_type": "stream",
     "text": [
      "https://www.mckinsey.com/business-functions/organization/our-insights/the-organization-blog/hiring-from-unlikely-sources-as-the-talent-pool-shrinks\n"
     ]
    },
    {
     "name": "stderr",
     "output_type": "stream",
     "text": [
      "2020-02-18 12:22:16 [urllib3.connectionpool] DEBUG: https://www.mckinsey.com:443 \"GET /business-functions/organization/our-insights/the-organization-blog/hiring-from-unlikely-sources-as-the-talent-pool-shrinks HTTP/1.1\" 200 14050\n",
      "2020-02-18 12:22:16 [scrapy.core.scraper] ERROR: Spider error processing <GET https://www.mckinsey.com/business-functions/organization/our-insights/the-organization-blog/hiring-from-unlikely-sources-as-the-talent-pool-shrinks> (referer: None)\n",
      "Traceback (most recent call last):\n",
      "  File \"D:\\ProgramData\\Anaconda3\\lib\\site-packages\\twisted\\internet\\defer.py\", line 654, in _runCallbacks\n",
      "    current.result = callback(current.result, *args, **kw)\n",
      "  File \"<ipython-input-122-8fc83100377c>\", line 37, in parse\n",
      "    content_type = re.findall(conttype_regex, page_script)[0]\n",
      "IndexError: list index out of range\n",
      "2020-02-18 12:22:16 [urllib3.connectionpool] DEBUG: Starting new HTTPS connection (1): www.mckinsey.com:443\n"
     ]
    },
    {
     "name": "stdout",
     "output_type": "stream",
     "text": [
      "https://www.mckinsey.com/business-functions/organization/our-insights/the-organization-blog/human-resources-in-the-age-of-automation\n"
     ]
    },
    {
     "name": "stderr",
     "output_type": "stream",
     "text": [
      "2020-02-18 12:22:17 [urllib3.connectionpool] DEBUG: https://www.mckinsey.com:443 \"GET /business-functions/organization/our-insights/the-organization-blog/human-resources-in-the-age-of-automation HTTP/1.1\" 200 13784\n",
      "2020-02-18 12:22:17 [scrapy.core.scraper] ERROR: Spider error processing <GET https://www.mckinsey.com/business-functions/organization/our-insights/the-organization-blog/human-resources-in-the-age-of-automation> (referer: None)\n",
      "Traceback (most recent call last):\n",
      "  File \"D:\\ProgramData\\Anaconda3\\lib\\site-packages\\twisted\\internet\\defer.py\", line 654, in _runCallbacks\n",
      "    current.result = callback(current.result, *args, **kw)\n",
      "  File \"<ipython-input-122-8fc83100377c>\", line 37, in parse\n",
      "    content_type = re.findall(conttype_regex, page_script)[0]\n",
      "IndexError: list index out of range\n",
      "2020-02-18 12:22:17 [urllib3.connectionpool] DEBUG: Starting new HTTPS connection (1): www.mckinsey.com:443\n"
     ]
    },
    {
     "name": "stdout",
     "output_type": "stream",
     "text": [
      "https://www.mckinsey.com/business-functions/organization/our-insights/the-organization-blog/right-skilling-for-your-future-workforce\n"
     ]
    },
    {
     "name": "stderr",
     "output_type": "stream",
     "text": [
      "2020-02-18 12:22:18 [urllib3.connectionpool] DEBUG: https://www.mckinsey.com:443 \"GET /business-functions/organization/our-insights/the-organization-blog/right-skilling-for-your-future-workforce HTTP/1.1\" 200 13996\n",
      "2020-02-18 12:22:18 [scrapy.core.scraper] ERROR: Spider error processing <GET https://www.mckinsey.com/business-functions/organization/our-insights/the-organization-blog/right-skilling-for-your-future-workforce> (referer: None)\n",
      "Traceback (most recent call last):\n",
      "  File \"D:\\ProgramData\\Anaconda3\\lib\\site-packages\\twisted\\internet\\defer.py\", line 654, in _runCallbacks\n",
      "    current.result = callback(current.result, *args, **kw)\n",
      "  File \"<ipython-input-122-8fc83100377c>\", line 37, in parse\n",
      "    content_type = re.findall(conttype_regex, page_script)[0]\n",
      "IndexError: list index out of range\n",
      "2020-02-18 12:22:18 [urllib3.connectionpool] DEBUG: Starting new HTTPS connection (1): www.mckinsey.com:443\n"
     ]
    },
    {
     "name": "stdout",
     "output_type": "stream",
     "text": [
      "https://www.mckinsey.com/business-functions/organization/our-insights/the-organization-blog/scaling-up-organizational-agility\n"
     ]
    },
    {
     "name": "stderr",
     "output_type": "stream",
     "text": [
      "2020-02-18 12:22:19 [urllib3.connectionpool] DEBUG: https://www.mckinsey.com:443 \"GET /business-functions/organization/our-insights/the-organization-blog/scaling-up-organizational-agility HTTP/1.1\" 200 13937\n",
      "2020-02-18 12:22:19 [scrapy.core.scraper] ERROR: Spider error processing <GET https://www.mckinsey.com/business-functions/organization/our-insights/the-organization-blog/scaling-up-organizational-agility> (referer: None)\n",
      "Traceback (most recent call last):\n",
      "  File \"D:\\ProgramData\\Anaconda3\\lib\\site-packages\\twisted\\internet\\defer.py\", line 654, in _runCallbacks\n",
      "    current.result = callback(current.result, *args, **kw)\n",
      "  File \"<ipython-input-122-8fc83100377c>\", line 37, in parse\n",
      "    content_type = re.findall(conttype_regex, page_script)[0]\n",
      "IndexError: list index out of range\n",
      "2020-02-18 12:22:19 [urllib3.connectionpool] DEBUG: Starting new HTTPS connection (1): www.mckinsey.com:443\n"
     ]
    },
    {
     "name": "stdout",
     "output_type": "stream",
     "text": [
      "https://www.mckinsey.com/featured-insights/middle-east-and-africa/the-future-of-work-in-south-africa-digitisation-productivity-and-job-creation\n"
     ]
    },
    {
     "name": "stderr",
     "output_type": "stream",
     "text": [
      "2020-02-18 12:22:20 [urllib3.connectionpool] DEBUG: https://www.mckinsey.com:443 \"GET /featured-insights/middle-east-and-africa/the-future-of-work-in-south-africa-digitisation-productivity-and-job-creation HTTP/1.1\" 200 18065\n",
      "2020-02-18 12:22:20 [scrapy.core.engine] DEBUG: Crawled (200) <GET https://www.mckinsey.com/business-functions/operations/our-insights/ops-4-0-turning-digital-analytics-into-20-percent-higher-productivity> (referer: None)\n",
      "2020-02-18 12:22:20 [urllib3.connectionpool] DEBUG: Starting new HTTPS connection (1): www.mckinsey.com:443\n"
     ]
    },
    {
     "name": "stdout",
     "output_type": "stream",
     "text": [
      "https://www.mckinsey.com/industries/healthcare-systems-and-services/our-insights/hospital-care-in-2030\n"
     ]
    },
    {
     "name": "stderr",
     "output_type": "stream",
     "text": [
      "2020-02-18 12:22:20 [urllib3.connectionpool] DEBUG: https://www.mckinsey.com:443 \"GET /industries/healthcare-systems-and-services/our-insights/hospital-care-in-2030 HTTP/1.1\" 200 16322\n",
      "2020-02-18 12:22:20 [urllib3.connectionpool] DEBUG: Starting new HTTPS connection (1): www.mckinsey.com:443\n"
     ]
    },
    {
     "name": "stdout",
     "output_type": "stream",
     "text": [
      "https://www.mckinsey.com/cn/new-at-mckinsey-china/mckinsey-launches-digital-capability-center-in-beijing\n"
     ]
    },
    {
     "name": "stderr",
     "output_type": "stream",
     "text": [
      "2020-02-18 12:22:21 [urllib3.connectionpool] DEBUG: https://www.mckinsey.com:443 \"GET /cn/new-at-mckinsey-china/mckinsey-launches-digital-capability-center-in-beijing HTTP/1.1\" 200 13895\n",
      "2020-02-18 12:22:21 [scrapy.core.scraper] ERROR: Spider error processing <GET https://www.mckinsey.com/cn/new-at-mckinsey-china/mckinsey-launches-digital-capability-center-in-beijing> (referer: None)\n",
      "Traceback (most recent call last):\n",
      "  File \"D:\\ProgramData\\Anaconda3\\lib\\site-packages\\twisted\\internet\\defer.py\", line 654, in _runCallbacks\n",
      "    current.result = callback(current.result, *args, **kw)\n",
      "  File \"<ipython-input-122-8fc83100377c>\", line 37, in parse\n",
      "    content_type = re.findall(conttype_regex, page_script)[0]\n",
      "IndexError: list index out of range\n",
      "2020-02-18 12:22:21 [urllib3.connectionpool] DEBUG: Starting new HTTPS connection (1): www.mckinsey.com:443\n"
     ]
    },
    {
     "name": "stdout",
     "output_type": "stream",
     "text": [
      "https://www.mckinsey.com/mgi/overview/in-the-news/automation-will-make-lifelong-learning\n"
     ]
    },
    {
     "name": "stderr",
     "output_type": "stream",
     "text": [
      "2020-02-18 12:22:22 [urllib3.connectionpool] DEBUG: https://www.mckinsey.com:443 \"GET /mgi/overview/in-the-news/automation-will-make-lifelong-learning HTTP/1.1\" 200 15641\n",
      "2020-02-18 12:22:22 [urllib3.connectionpool] DEBUG: Starting new HTTPS connection (1): www.mckinsey.com:443\n"
     ]
    },
    {
     "name": "stdout",
     "output_type": "stream",
     "text": [
      "https://www.mckinsey.com/industries/healthcare-systems-and-services/our-insights/test-and-listen-microsofts-jim-weinstein-on-healthcare-tech\n"
     ]
    },
    {
     "name": "stderr",
     "output_type": "stream",
     "text": [
      "2020-02-18 12:22:22 [urllib3.connectionpool] DEBUG: https://www.mckinsey.com:443 \"GET /industries/healthcare-systems-and-services/our-insights/test-and-listen-microsofts-jim-weinstein-on-healthcare-tech HTTP/1.1\" 200 16846\n",
      "2020-02-18 12:22:22 [urllib3.connectionpool] DEBUG: Starting new HTTPS connection (1): www.mckinsey.com:443\n"
     ]
    },
    {
     "name": "stdout",
     "output_type": "stream",
     "text": [
      "https://www.mckinsey.com/business-functions/mckinsey-digital/our-insights/how-to-build-a-data-first-culture\n"
     ]
    },
    {
     "name": "stderr",
     "output_type": "stream",
     "text": [
      "2020-02-18 12:22:23 [urllib3.connectionpool] DEBUG: https://www.mckinsey.com:443 \"GET /business-functions/mckinsey-digital/our-insights/how-to-build-a-data-first-culture HTTP/1.1\" 200 17038\n",
      "2020-02-18 12:22:23 [scrapy.core.scraper] ERROR: Spider error processing <GET https://www.mckinsey.com/business-functions/mckinsey-digital/our-insights/how-to-build-a-data-first-culture> (referer: None)\n",
      "Traceback (most recent call last):\n",
      "  File \"D:\\ProgramData\\Anaconda3\\lib\\site-packages\\twisted\\internet\\defer.py\", line 654, in _runCallbacks\n",
      "    current.result = callback(current.result, *args, **kw)\n",
      "  File \"<ipython-input-122-8fc83100377c>\", line 41, in parse\n",
      "    page_date = re.findall(date_regex, page_script)[0]\n",
      "IndexError: list index out of range\n",
      "2020-02-18 12:22:23 [urllib3.connectionpool] DEBUG: Starting new HTTPS connection (1): www.mckinsey.com:443\n"
     ]
    },
    {
     "name": "stdout",
     "output_type": "stream",
     "text": [
      "https://www.mckinsey.com/ch/careers/analytics\n"
     ]
    },
    {
     "name": "stderr",
     "output_type": "stream",
     "text": [
      "2020-02-18 12:22:24 [urllib3.connectionpool] DEBUG: https://www.mckinsey.com:443 \"GET /ch/careers/analytics HTTP/1.1\" 200 16983\n",
      "2020-02-18 12:22:24 [scrapy.core.scraper] ERROR: Spider error processing <GET https://www.mckinsey.com/ch/careers/analytics> (referer: None)\n",
      "Traceback (most recent call last):\n",
      "  File \"D:\\ProgramData\\Anaconda3\\lib\\site-packages\\twisted\\internet\\defer.py\", line 654, in _runCallbacks\n",
      "    current.result = callback(current.result, *args, **kw)\n",
      "  File \"<ipython-input-122-8fc83100377c>\", line 37, in parse\n",
      "    content_type = re.findall(conttype_regex, page_script)[0]\n",
      "IndexError: list index out of range\n",
      "2020-02-18 12:22:24 [urllib3.connectionpool] DEBUG: Starting new HTTPS connection (1): www.mckinsey.com:443\n"
     ]
    },
    {
     "name": "stdout",
     "output_type": "stream",
     "text": [
      "https://www.mckinsey.com/business-functions/organization/our-insights/mckinsey-quarterly-2016-number-1-overview-and-full-issue\n"
     ]
    },
    {
     "name": "stderr",
     "output_type": "stream",
     "text": [
      "2020-02-18 12:22:25 [urllib3.connectionpool] DEBUG: https://www.mckinsey.com:443 \"GET /business-functions/organization/our-insights/mckinsey-quarterly-2016-number-1-overview-and-full-issue HTTP/1.1\" 200 16230\n",
      "2020-02-18 12:22:25 [scrapy.core.scraper] ERROR: Spider error processing <GET https://www.mckinsey.com/business-functions/organization/our-insights/mckinsey-quarterly-2016-number-1-overview-and-full-issue> (referer: None)\n",
      "Traceback (most recent call last):\n",
      "  File \"D:\\ProgramData\\Anaconda3\\lib\\site-packages\\twisted\\internet\\defer.py\", line 654, in _runCallbacks\n",
      "    current.result = callback(current.result, *args, **kw)\n",
      "  File \"<ipython-input-122-8fc83100377c>\", line 41, in parse\n",
      "    page_date = re.findall(date_regex, page_script)[0]\n",
      "IndexError: list index out of range\n",
      "2020-02-18 12:22:25 [scrapy.core.engine] DEBUG: Crawled (200) <GET https://www.mckinsey.com/mgi/overview/in-the-news/anger-over-tariffs-obscures-a-shift-in-patterns-of-global-trade> (referer: None)\n",
      "2020-02-18 12:22:25 [scrapy.core.engine] DEBUG: Crawled (200) <GET https://www.mckinsey.com/industries/healthcare-systems-and-services/our-insights/finding-the-future-of-care-provision-the-role-of-smart-hospitals> (referer: None)\n",
      "2020-02-18 12:22:25 [scrapy.core.engine] DEBUG: Crawled (200) <GET https://www.mckinsey.com/featured-insights/future-of-work/tech-for-good-using-technology-to-smooth-disruption-and-improve-well-being> (referer: None)\n",
      "2020-02-18 12:22:25 [scrapy.core.engine] DEBUG: Crawled (200) <GET https://www.mckinsey.com/business-functions/operations/our-insights/the-coming-evolution-of-field-operations> (referer: None)\n",
      "2020-02-18 12:22:25 [urllib3.connectionpool] DEBUG: Starting new HTTPS connection (1): www.mckinsey.com:443\n"
     ]
    },
    {
     "name": "stdout",
     "output_type": "stream",
     "text": [
      "https://www.mckinsey.com/business-functions/operations/our-insights/ops-4-0-turning-digital-analytics-into-20-percent-higher-productivity\n"
     ]
    },
    {
     "name": "stderr",
     "output_type": "stream",
     "text": [
      "2020-02-18 12:22:25 [urllib3.connectionpool] DEBUG: https://www.mckinsey.com:443 \"GET /business-functions/operations/our-insights/ops-4-0-turning-digital-analytics-into-20-percent-higher-productivity HTTP/1.1\" 200 16110\n",
      "2020-02-18 12:22:26 [scrapy.core.engine] DEBUG: Crawled (200) <GET https://www.mckinsey.com/industries/automotive-and-assembly/our-insights/analyzing-start-up-and-investment-trends-in-the-mobility-ecosystem> (referer: None)\n",
      "2020-02-18 12:22:26 [urllib3.connectionpool] DEBUG: Starting new HTTPS connection (1): www.mckinsey.com:443\n"
     ]
    },
    {
     "name": "stdout",
     "output_type": "stream",
     "text": [
      "https://www.mckinsey.com/mgi/overview/in-the-news/anger-over-tariffs-obscures-a-shift-in-patterns-of-global-trade\n"
     ]
    },
    {
     "name": "stderr",
     "output_type": "stream",
     "text": [
      "2020-02-18 12:22:26 [urllib3.connectionpool] DEBUG: https://www.mckinsey.com:443 \"GET /mgi/overview/in-the-news/anger-over-tariffs-obscures-a-shift-in-patterns-of-global-trade HTTP/1.1\" 200 14996\n",
      "2020-02-18 12:22:26 [urllib3.connectionpool] DEBUG: Starting new HTTPS connection (1): www.mckinsey.com:443\n"
     ]
    },
    {
     "name": "stdout",
     "output_type": "stream",
     "text": [
      "https://www.mckinsey.com/industries/healthcare-systems-and-services/our-insights/finding-the-future-of-care-provision-the-role-of-smart-hospitals\n"
     ]
    },
    {
     "name": "stderr",
     "output_type": "stream",
     "text": [
      "2020-02-18 12:22:26 [urllib3.connectionpool] DEBUG: https://www.mckinsey.com:443 \"GET /industries/healthcare-systems-and-services/our-insights/finding-the-future-of-care-provision-the-role-of-smart-hospitals HTTP/1.1\" 200 26543\n",
      "2020-02-18 12:22:26 [urllib3.connectionpool] DEBUG: Starting new HTTPS connection (1): www.mckinsey.com:443\n"
     ]
    },
    {
     "name": "stdout",
     "output_type": "stream",
     "text": [
      "https://www.mckinsey.com/featured-insights/future-of-work/tech-for-good-using-technology-to-smooth-disruption-and-improve-well-being\n"
     ]
    },
    {
     "name": "stderr",
     "output_type": "stream",
     "text": [
      "2020-02-18 12:22:27 [urllib3.connectionpool] DEBUG: https://www.mckinsey.com:443 \"GET /featured-insights/future-of-work/tech-for-good-using-technology-to-smooth-disruption-and-improve-well-being HTTP/1.1\" 200 29518\n",
      "2020-02-18 12:22:27 [scrapy.core.scraper] ERROR: Spider error processing <GET https://www.mckinsey.com/featured-insights/future-of-work/tech-for-good-using-technology-to-smooth-disruption-and-improve-well-being> (referer: None)\n",
      "Traceback (most recent call last):\n",
      "  File \"D:\\ProgramData\\Anaconda3\\lib\\site-packages\\twisted\\internet\\defer.py\", line 654, in _runCallbacks\n",
      "    current.result = callback(current.result, *args, **kw)\n",
      "  File \"<ipython-input-122-8fc83100377c>\", line 42, in parse\n",
      "    page_texttype = re.findall(texttype_regex, page_script)[0]\n",
      "IndexError: list index out of range\n",
      "2020-02-18 12:22:27 [urllib3.connectionpool] DEBUG: Starting new HTTPS connection (1): www.mckinsey.com:443\n"
     ]
    },
    {
     "name": "stdout",
     "output_type": "stream",
     "text": [
      "https://www.mckinsey.com/business-functions/operations/our-insights/the-coming-evolution-of-field-operations\n"
     ]
    },
    {
     "name": "stderr",
     "output_type": "stream",
     "text": [
      "2020-02-18 12:22:28 [urllib3.connectionpool] DEBUG: https://www.mckinsey.com:443 \"GET /business-functions/operations/our-insights/the-coming-evolution-of-field-operations HTTP/1.1\" 200 20233\n",
      "2020-02-18 12:22:28 [scrapy.core.engine] DEBUG: Crawled (200) <GET https://www.mckinsey.com/industries/metals-and-mining/our-insights/the-risks-and-rewards-of-outsourcing> (referer: None)\n",
      "2020-02-18 12:22:28 [urllib3.connectionpool] DEBUG: Starting new HTTPS connection (1): www.mckinsey.com:443\n"
     ]
    },
    {
     "name": "stdout",
     "output_type": "stream",
     "text": [
      "https://www.mckinsey.com/industries/automotive-and-assembly/our-insights/analyzing-start-up-and-investment-trends-in-the-mobility-ecosystem\n"
     ]
    },
    {
     "name": "stderr",
     "output_type": "stream",
     "text": [
      "2020-02-18 12:22:28 [urllib3.connectionpool] DEBUG: https://www.mckinsey.com:443 \"GET /industries/automotive-and-assembly/our-insights/analyzing-start-up-and-investment-trends-in-the-mobility-ecosystem HTTP/1.1\" 200 20102\n",
      "2020-02-18 12:22:28 [urllib3.connectionpool] DEBUG: Starting new HTTPS connection (1): www.mckinsey.com:443\n"
     ]
    },
    {
     "name": "stdout",
     "output_type": "stream",
     "text": [
      "https://www.mckinsey.com/industries/metals-and-mining/our-insights/the-risks-and-rewards-of-outsourcing\n"
     ]
    },
    {
     "name": "stderr",
     "output_type": "stream",
     "text": [
      "2020-02-18 12:22:29 [urllib3.connectionpool] DEBUG: https://www.mckinsey.com:443 \"GET /industries/metals-and-mining/our-insights/the-risks-and-rewards-of-outsourcing HTTP/1.1\" 200 20699\n",
      "2020-02-18 12:22:29 [scrapy.core.engine] DEBUG: Crawled (200) <GET https://www.mckinsey.com/industries/public-sector/our-insights/coordinating-workforce-development-across-stakeholders-an-interview-with-manpowergroup-ceo-jonas-prising> (referer: None)\n",
      "2020-02-18 12:22:29 [scrapy.core.engine] DEBUG: Crawled (200) <GET https://www.mckinsey.com/featured-insights/employment-and-growth/how-work-will-change-in-the-next-economy> (referer: None)\n",
      "2020-02-18 12:22:29 [urllib3.connectionpool] DEBUG: Starting new HTTPS connection (1): www.mckinsey.com:443\n"
     ]
    },
    {
     "name": "stdout",
     "output_type": "stream",
     "text": [
      "https://www.mckinsey.com/industries/public-sector/our-insights/coordinating-workforce-development-across-stakeholders-an-interview-with-manpowergroup-ceo-jonas-prising\n"
     ]
    },
    {
     "name": "stderr",
     "output_type": "stream",
     "text": [
      "2020-02-18 12:22:30 [urllib3.connectionpool] DEBUG: https://www.mckinsey.com:443 \"GET /industries/public-sector/our-insights/coordinating-workforce-development-across-stakeholders-an-interview-with-manpowergroup-ceo-jonas-prising HTTP/1.1\" 200 20933\n",
      "2020-02-18 12:22:30 [scrapy.core.engine] DEBUG: Crawled (200) <GET https://www.mckinsey.com/industries/technology-media-and-telecommunications/our-insights/getting-serious-about-blockchain> (referer: None)\n",
      "2020-02-18 12:22:30 [scrapy.core.engine] DEBUG: Crawled (200) <GET https://www.mckinsey.com/mgi/overview/in-the-news/the-future-of-work-five-issues-for-the-next-economy> (referer: None)\n",
      "2020-02-18 12:22:30 [scrapy.core.engine] DEBUG: Crawled (200) <GET https://www.mckinsey.com/business-functions/organization/our-insights/mckinsey-quarterly-2018-number-2-overview-and-full-issue> (referer: None)\n",
      "2020-02-18 12:22:30 [scrapy.core.engine] DEBUG: Crawled (200) <GET https://www.mckinsey.com/business-functions/operations/our-insights/operations-blog/how-industry-40-can-help-india-escape-the-western-labor-productivity-paradox> (referer: None)\n",
      "2020-02-18 12:22:30 [scrapy.core.engine] DEBUG: Crawled (200) <GET https://www.mckinsey.com/business-functions/operations/our-insights/the-great-remake-manufacturing-for-modern-times> (referer: None)\n",
      "2020-02-18 12:22:30 [scrapy.core.engine] DEBUG: Crawled (200) <GET https://www.mckinsey.com/ch/our-people> (referer: None)\n",
      "2020-02-18 12:22:30 [scrapy.core.engine] DEBUG: Crawled (200) <GET https://www.mckinsey.com/featured-insights/asia-pacific/korean-manufacturings-digital-transformation-must-escape-pilot-purgatory> (referer: None)\n",
      "2020-02-18 12:22:30 [urllib3.connectionpool] DEBUG: Starting new HTTPS connection (1): www.mckinsey.com:443\n"
     ]
    },
    {
     "name": "stdout",
     "output_type": "stream",
     "text": [
      "https://www.mckinsey.com/featured-insights/employment-and-growth/how-work-will-change-in-the-next-economy\n"
     ]
    },
    {
     "name": "stderr",
     "output_type": "stream",
     "text": [
      "2020-02-18 12:22:31 [urllib3.connectionpool] DEBUG: https://www.mckinsey.com:443 \"GET /featured-insights/employment-and-growth/how-work-will-change-in-the-next-economy HTTP/1.1\" 200 18563\n",
      "2020-02-18 12:22:31 [scrapy.core.engine] DEBUG: Crawled (200) <GET https://www.mckinsey.com/industries/financial-services/our-insights/insurance-blog/a-new-industry-model-for-insurtech> (referer: None)\n",
      "2020-02-18 12:22:31 [urllib3.connectionpool] DEBUG: Starting new HTTPS connection (1): www.mckinsey.com:443\n"
     ]
    },
    {
     "name": "stdout",
     "output_type": "stream",
     "text": [
      "https://www.mckinsey.com/industries/technology-media-and-telecommunications/our-insights/getting-serious-about-blockchain\n"
     ]
    },
    {
     "name": "stderr",
     "output_type": "stream",
     "text": [
      "2020-02-18 12:22:32 [urllib3.connectionpool] DEBUG: https://www.mckinsey.com:443 \"GET /industries/technology-media-and-telecommunications/our-insights/getting-serious-about-blockchain HTTP/1.1\" 200 17256\n",
      "2020-02-18 12:22:32 [scrapy.core.scraper] ERROR: Spider error processing <GET https://www.mckinsey.com/industries/technology-media-and-telecommunications/our-insights/getting-serious-about-blockchain> (referer: None)\n",
      "Traceback (most recent call last):\n",
      "  File \"D:\\ProgramData\\Anaconda3\\lib\\site-packages\\twisted\\internet\\defer.py\", line 654, in _runCallbacks\n",
      "    current.result = callback(current.result, *args, **kw)\n",
      "  File \"<ipython-input-122-8fc83100377c>\", line 41, in parse\n",
      "    page_date = re.findall(date_regex, page_script)[0]\n",
      "IndexError: list index out of range\n",
      "2020-02-18 12:22:32 [urllib3.connectionpool] DEBUG: Starting new HTTPS connection (1): www.mckinsey.com:443\n"
     ]
    },
    {
     "name": "stdout",
     "output_type": "stream",
     "text": [
      "https://www.mckinsey.com/mgi/overview/in-the-news/the-future-of-work-five-issues-for-the-next-economy\n"
     ]
    },
    {
     "name": "stderr",
     "output_type": "stream",
     "text": [
      "2020-02-18 12:22:32 [urllib3.connectionpool] DEBUG: https://www.mckinsey.com:443 \"GET /mgi/overview/in-the-news/the-future-of-work-five-issues-for-the-next-economy HTTP/1.1\" 200 15412\n",
      "2020-02-18 12:22:32 [urllib3.connectionpool] DEBUG: Starting new HTTPS connection (1): www.mckinsey.com:443\n"
     ]
    },
    {
     "name": "stdout",
     "output_type": "stream",
     "text": [
      "https://www.mckinsey.com/business-functions/organization/our-insights/mckinsey-quarterly-2018-number-2-overview-and-full-issue\n"
     ]
    },
    {
     "name": "stderr",
     "output_type": "stream",
     "text": [
      "2020-02-18 12:22:33 [urllib3.connectionpool] DEBUG: https://www.mckinsey.com:443 \"GET /business-functions/organization/our-insights/mckinsey-quarterly-2018-number-2-overview-and-full-issue HTTP/1.1\" 200 15708\n",
      "2020-02-18 12:22:33 [urllib3.connectionpool] DEBUG: Starting new HTTPS connection (1): www.mckinsey.com:443\n"
     ]
    },
    {
     "name": "stdout",
     "output_type": "stream",
     "text": [
      "https://www.mckinsey.com/business-functions/operations/our-insights/operations-blog/how-industry-40-can-help-india-escape-the-western-labor-productivity-paradox\n"
     ]
    },
    {
     "name": "stderr",
     "output_type": "stream",
     "text": [
      "2020-02-18 12:22:34 [urllib3.connectionpool] DEBUG: https://www.mckinsey.com:443 \"GET /business-functions/operations/our-insights/operations-blog/how-industry-40-can-help-india-escape-the-western-labor-productivity-paradox HTTP/1.1\" 200 14466\n",
      "2020-02-18 12:22:34 [scrapy.core.scraper] ERROR: Spider error processing <GET https://www.mckinsey.com/business-functions/operations/our-insights/operations-blog/how-industry-40-can-help-india-escape-the-western-labor-productivity-paradox> (referer: None)\n",
      "Traceback (most recent call last):\n",
      "  File \"D:\\ProgramData\\Anaconda3\\lib\\site-packages\\twisted\\internet\\defer.py\", line 654, in _runCallbacks\n",
      "    current.result = callback(current.result, *args, **kw)\n",
      "  File \"<ipython-input-122-8fc83100377c>\", line 37, in parse\n",
      "    content_type = re.findall(conttype_regex, page_script)[0]\n",
      "IndexError: list index out of range\n",
      "2020-02-18 12:22:34 [urllib3.connectionpool] DEBUG: Starting new HTTPS connection (1): www.mckinsey.com:443\n"
     ]
    },
    {
     "name": "stdout",
     "output_type": "stream",
     "text": [
      "https://www.mckinsey.com/business-functions/operations/our-insights/the-great-remake-manufacturing-for-modern-times\n"
     ]
    },
    {
     "name": "stderr",
     "output_type": "stream",
     "text": [
      "2020-02-18 12:22:35 [urllib3.connectionpool] DEBUG: https://www.mckinsey.com:443 \"GET /business-functions/operations/our-insights/the-great-remake-manufacturing-for-modern-times HTTP/1.1\" 200 16282\n",
      "2020-02-18 12:22:35 [urllib3.connectionpool] DEBUG: Starting new HTTPS connection (1): www.mckinsey.com:443\n"
     ]
    },
    {
     "name": "stdout",
     "output_type": "stream",
     "text": [
      "https://www.mckinsey.com/ch/our-people\n"
     ]
    },
    {
     "name": "stderr",
     "output_type": "stream",
     "text": [
      "2020-02-18 12:22:35 [urllib3.connectionpool] DEBUG: https://www.mckinsey.com:443 \"GET /ch/our-people HTTP/1.1\" 200 15787\n",
      "2020-02-18 12:22:35 [scrapy.core.scraper] ERROR: Spider error processing <GET https://www.mckinsey.com/ch/our-people> (referer: None)\n",
      "Traceback (most recent call last):\n",
      "  File \"D:\\ProgramData\\Anaconda3\\lib\\site-packages\\twisted\\internet\\defer.py\", line 654, in _runCallbacks\n",
      "    current.result = callback(current.result, *args, **kw)\n",
      "  File \"<ipython-input-122-8fc83100377c>\", line 37, in parse\n",
      "    content_type = re.findall(conttype_regex, page_script)[0]\n",
      "IndexError: list index out of range\n",
      "2020-02-18 12:22:35 [urllib3.connectionpool] DEBUG: Starting new HTTPS connection (1): www.mckinsey.com:443\n"
     ]
    },
    {
     "name": "stdout",
     "output_type": "stream",
     "text": [
      "https://www.mckinsey.com/featured-insights/asia-pacific/korean-manufacturings-digital-transformation-must-escape-pilot-purgatory\n"
     ]
    },
    {
     "name": "stderr",
     "output_type": "stream",
     "text": [
      "2020-02-18 12:22:36 [urllib3.connectionpool] DEBUG: https://www.mckinsey.com:443 \"GET /featured-insights/asia-pacific/korean-manufacturings-digital-transformation-must-escape-pilot-purgatory HTTP/1.1\" 200 17310\n",
      "2020-02-18 12:22:36 [scrapy.core.engine] DEBUG: Crawled (200) <GET https://www.mckinsey.com/featured-insights/future-of-work/thomas-l-friedman-technology-moves-in-steps> (referer: None)\n",
      "2020-02-18 12:22:36 [scrapy.core.engine] DEBUG: Crawled (200) <GET https://www.mckinsey.com/business-functions/mckinsey-digital/our-insights/mastering-the-duality-of-digital-how-companies-withstand-disruption> (referer: None)\n",
      "2020-02-18 12:22:36 [scrapy.core.engine] DEBUG: Crawled (200) <GET https://www.mckinsey.com/featured-insights/future-of-asia/technology-and-digital-in-asia> (referer: None)\n",
      "2020-02-18 12:22:36 [scrapy.core.engine] DEBUG: Crawled (200) <GET https://www.mckinsey.com/industries/technology-media-and-telecommunications/how-we-help-clients/consumer-technology-media> (referer: None)\n",
      "2020-02-18 12:22:36 [scrapy.core.engine] DEBUG: Crawled (200) <GET https://www.mckinsey.com/business-functions/operations/our-insights/how-digital-manufacturing-can-escape-pilot-purgatory> (referer: None)\n",
      "2020-02-18 12:22:36 [scrapy.core.engine] DEBUG: Crawled (200) <GET https://www.mckinsey.com/business-functions/strategy-and-corporate-finance/our-insights/management-intuition-for-the-next-50-years> (referer: None)\n",
      "2020-02-18 12:22:36 [scrapy.core.engine] DEBUG: Crawled (200) <GET https://www.mckinsey.com/industries/automotive-and-assembly/our-insights/rethinking-car-software-and-electronics-architecture> (referer: None)\n",
      "2020-02-18 12:22:36 [urllib3.connectionpool] DEBUG: Starting new HTTPS connection (1): www.mckinsey.com:443\n"
     ]
    },
    {
     "name": "stdout",
     "output_type": "stream",
     "text": [
      "https://www.mckinsey.com/industries/financial-services/our-insights/insurance-blog/a-new-industry-model-for-insurtech\n"
     ]
    },
    {
     "name": "stderr",
     "output_type": "stream",
     "text": [
      "2020-02-18 12:22:37 [urllib3.connectionpool] DEBUG: https://www.mckinsey.com:443 \"GET /industries/financial-services/our-insights/insurance-blog/a-new-industry-model-for-insurtech HTTP/1.1\" 200 15865\n",
      "2020-02-18 12:22:37 [scrapy.core.scraper] ERROR: Spider error processing <GET https://www.mckinsey.com/industries/financial-services/our-insights/insurance-blog/a-new-industry-model-for-insurtech> (referer: None)\n",
      "Traceback (most recent call last):\n",
      "  File \"D:\\ProgramData\\Anaconda3\\lib\\site-packages\\twisted\\internet\\defer.py\", line 654, in _runCallbacks\n",
      "    current.result = callback(current.result, *args, **kw)\n",
      "  File \"<ipython-input-122-8fc83100377c>\", line 37, in parse\n",
      "    content_type = re.findall(conttype_regex, page_script)[0]\n",
      "IndexError: list index out of range\n",
      "2020-02-18 12:22:37 [scrapy.core.engine] DEBUG: Crawled (200) <GET https://www.mckinsey.com/industries/financial-services/our-insights/democratizing-digital-finance-an-interview-with-paypal-ceo-dan-schulman> (referer: None)\n",
      "2020-02-18 12:22:37 [urllib3.connectionpool] DEBUG: Starting new HTTPS connection (1): www.mckinsey.com:443\n"
     ]
    },
    {
     "name": "stdout",
     "output_type": "stream",
     "text": [
      "https://www.mckinsey.com/featured-insights/future-of-work/thomas-l-friedman-technology-moves-in-steps\n"
     ]
    },
    {
     "name": "stderr",
     "output_type": "stream",
     "text": [
      "2020-02-18 12:22:38 [urllib3.connectionpool] DEBUG: https://www.mckinsey.com:443 \"GET /featured-insights/future-of-work/thomas-l-friedman-technology-moves-in-steps HTTP/1.1\" 200 18443\n",
      "2020-02-18 12:22:38 [urllib3.connectionpool] DEBUG: Starting new HTTPS connection (1): www.mckinsey.com:443\n"
     ]
    },
    {
     "name": "stdout",
     "output_type": "stream",
     "text": [
      "https://www.mckinsey.com/business-functions/mckinsey-digital/our-insights/mastering-the-duality-of-digital-how-companies-withstand-disruption\n"
     ]
    },
    {
     "name": "stderr",
     "output_type": "stream",
     "text": [
      "2020-02-18 12:22:39 [urllib3.connectionpool] DEBUG: https://www.mckinsey.com:443 \"GET /business-functions/mckinsey-digital/our-insights/mastering-the-duality-of-digital-how-companies-withstand-disruption HTTP/1.1\" 200 16748\n",
      "2020-02-18 12:22:39 [urllib3.connectionpool] DEBUG: Starting new HTTPS connection (1): www.mckinsey.com:443\n"
     ]
    },
    {
     "name": "stdout",
     "output_type": "stream",
     "text": [
      "https://www.mckinsey.com/featured-insights/future-of-asia/technology-and-digital-in-asia\n"
     ]
    },
    {
     "name": "stderr",
     "output_type": "stream",
     "text": [
      "2020-02-18 12:22:40 [urllib3.connectionpool] DEBUG: https://www.mckinsey.com:443 \"GET /featured-insights/future-of-asia/technology-and-digital-in-asia HTTP/1.1\" 200 17438\n",
      "2020-02-18 12:22:40 [scrapy.core.scraper] ERROR: Spider error processing <GET https://www.mckinsey.com/featured-insights/future-of-asia/technology-and-digital-in-asia> (referer: None)\n",
      "Traceback (most recent call last):\n",
      "  File \"D:\\ProgramData\\Anaconda3\\lib\\site-packages\\twisted\\internet\\defer.py\", line 654, in _runCallbacks\n",
      "    current.result = callback(current.result, *args, **kw)\n",
      "  File \"<ipython-input-122-8fc83100377c>\", line 37, in parse\n",
      "    content_type = re.findall(conttype_regex, page_script)[0]\n",
      "IndexError: list index out of range\n",
      "2020-02-18 12:22:40 [urllib3.connectionpool] DEBUG: Starting new HTTPS connection (1): www.mckinsey.com:443\n"
     ]
    },
    {
     "name": "stdout",
     "output_type": "stream",
     "text": [
      "https://www.mckinsey.com/industries/technology-media-and-telecommunications/how-we-help-clients/consumer-technology-media\n"
     ]
    },
    {
     "name": "stderr",
     "output_type": "stream",
     "text": [
      "2020-02-18 12:22:41 [urllib3.connectionpool] DEBUG: https://www.mckinsey.com:443 \"GET /industries/technology-media-and-telecommunications/how-we-help-clients/consumer-technology-media HTTP/1.1\" 200 17351\n",
      "2020-02-18 12:22:41 [scrapy.core.scraper] ERROR: Spider error processing <GET https://www.mckinsey.com/industries/technology-media-and-telecommunications/how-we-help-clients/consumer-technology-media> (referer: None)\n",
      "Traceback (most recent call last):\n",
      "  File \"D:\\ProgramData\\Anaconda3\\lib\\site-packages\\twisted\\internet\\defer.py\", line 654, in _runCallbacks\n",
      "    current.result = callback(current.result, *args, **kw)\n",
      "  File \"<ipython-input-122-8fc83100377c>\", line 41, in parse\n",
      "    page_date = re.findall(date_regex, page_script)[0]\n",
      "IndexError: list index out of range\n",
      "2020-02-18 12:22:41 [urllib3.connectionpool] DEBUG: Starting new HTTPS connection (1): www.mckinsey.com:443\n"
     ]
    },
    {
     "name": "stdout",
     "output_type": "stream",
     "text": [
      "https://www.mckinsey.com/business-functions/operations/our-insights/how-digital-manufacturing-can-escape-pilot-purgatory\n"
     ]
    },
    {
     "name": "stderr",
     "output_type": "stream",
     "text": [
      "2020-02-18 12:22:42 [urllib3.connectionpool] DEBUG: https://www.mckinsey.com:443 \"GET /business-functions/operations/our-insights/how-digital-manufacturing-can-escape-pilot-purgatory HTTP/1.1\" 200 17796\n",
      "2020-02-18 12:22:42 [urllib3.connectionpool] DEBUG: Starting new HTTPS connection (1): www.mckinsey.com:443\n"
     ]
    },
    {
     "name": "stdout",
     "output_type": "stream",
     "text": [
      "https://www.mckinsey.com/business-functions/strategy-and-corporate-finance/our-insights/management-intuition-for-the-next-50-years\n"
     ]
    },
    {
     "name": "stderr",
     "output_type": "stream",
     "text": [
      "2020-02-18 12:22:43 [urllib3.connectionpool] DEBUG: https://www.mckinsey.com:443 \"GET /business-functions/strategy-and-corporate-finance/our-insights/management-intuition-for-the-next-50-years HTTP/1.1\" 200 25726\n",
      "2020-02-18 12:22:43 [urllib3.connectionpool] DEBUG: Starting new HTTPS connection (1): www.mckinsey.com:443\n"
     ]
    },
    {
     "name": "stdout",
     "output_type": "stream",
     "text": [
      "https://www.mckinsey.com/industries/automotive-and-assembly/our-insights/rethinking-car-software-and-electronics-architecture\n"
     ]
    },
    {
     "name": "stderr",
     "output_type": "stream",
     "text": [
      "2020-02-18 12:22:43 [urllib3.connectionpool] DEBUG: https://www.mckinsey.com:443 \"GET /industries/automotive-and-assembly/our-insights/rethinking-car-software-and-electronics-architecture HTTP/1.1\" 200 24717\n",
      "2020-02-18 12:22:44 [scrapy.core.engine] DEBUG: Crawled (200) <GET https://www.mckinsey.com/mgi/overview/in-the-news/china-can-be-a-more-influential-force-in-a-digital-world> (referer: None)\n",
      "2020-02-18 12:22:44 [scrapy.core.engine] DEBUG: Crawled (200) <GET https://www.mckinsey.com/mgi/overview/in-the-news/how-china-became-a-digital-leader> (referer: None)\n",
      "2020-02-18 12:22:44 [urllib3.connectionpool] DEBUG: Starting new HTTPS connection (1): www.mckinsey.com:443\n"
     ]
    },
    {
     "name": "stdout",
     "output_type": "stream",
     "text": [
      "https://www.mckinsey.com/industries/financial-services/our-insights/democratizing-digital-finance-an-interview-with-paypal-ceo-dan-schulman\n"
     ]
    },
    {
     "name": "stderr",
     "output_type": "stream",
     "text": [
      "2020-02-18 12:22:44 [urllib3.connectionpool] DEBUG: https://www.mckinsey.com:443 \"GET /industries/financial-services/our-insights/democratizing-digital-finance-an-interview-with-paypal-ceo-dan-schulman HTTP/1.1\" 200 16860\n",
      "2020-02-18 12:22:44 [scrapy.core.engine] DEBUG: Crawled (200) <GET https://www.mckinsey.com/mgi/overview/in-the-news/how-many-of-your-daily-tasks-could-be-automated> (referer: None)\n",
      "2020-02-18 12:22:44 [urllib3.connectionpool] DEBUG: Starting new HTTPS connection (1): www.mckinsey.com:443\n"
     ]
    },
    {
     "name": "stdout",
     "output_type": "stream",
     "text": [
      "https://www.mckinsey.com/mgi/overview/in-the-news/china-can-be-a-more-influential-force-in-a-digital-world\n"
     ]
    },
    {
     "name": "stderr",
     "output_type": "stream",
     "text": [
      "2020-02-18 12:22:45 [urllib3.connectionpool] DEBUG: https://www.mckinsey.com:443 \"GET /mgi/overview/in-the-news/china-can-be-a-more-influential-force-in-a-digital-world HTTP/1.1\" 200 14933\n",
      "2020-02-18 12:22:45 [urllib3.connectionpool] DEBUG: Starting new HTTPS connection (1): www.mckinsey.com:443\n"
     ]
    },
    {
     "name": "stdout",
     "output_type": "stream",
     "text": [
      "https://www.mckinsey.com/mgi/overview/in-the-news/how-china-became-a-digital-leader\n"
     ]
    },
    {
     "name": "stderr",
     "output_type": "stream",
     "text": [
      "2020-02-18 12:22:46 [urllib3.connectionpool] DEBUG: https://www.mckinsey.com:443 \"GET /mgi/overview/in-the-news/how-china-became-a-digital-leader HTTP/1.1\" 200 14933\n",
      "2020-02-18 12:22:46 [scrapy.core.engine] DEBUG: Crawled (200) <GET https://www.mckinsey.com/mgi/overview/in-the-news/innovation-is-not-enough> (referer: None)\n",
      "2020-02-18 12:22:46 [urllib3.connectionpool] DEBUG: Starting new HTTPS connection (1): www.mckinsey.com:443\n"
     ]
    },
    {
     "name": "stdout",
     "output_type": "stream",
     "text": [
      "https://www.mckinsey.com/mgi/overview/in-the-news/how-many-of-your-daily-tasks-could-be-automated\n"
     ]
    },
    {
     "name": "stderr",
     "output_type": "stream",
     "text": [
      "2020-02-18 12:22:46 [urllib3.connectionpool] DEBUG: https://www.mckinsey.com:443 \"GET /mgi/overview/in-the-news/how-many-of-your-daily-tasks-could-be-automated HTTP/1.1\" 200 15587\n",
      "2020-02-18 12:22:46 [urllib3.connectionpool] DEBUG: Starting new HTTPS connection (1): www.mckinsey.com:443\n"
     ]
    },
    {
     "name": "stdout",
     "output_type": "stream",
     "text": [
      "https://www.mckinsey.com/mgi/overview/in-the-news/innovation-is-not-enough\n"
     ]
    },
    {
     "name": "stderr",
     "output_type": "stream",
     "text": [
      "2020-02-18 12:22:47 [urllib3.connectionpool] DEBUG: https://www.mckinsey.com:443 \"GET /mgi/overview/in-the-news/innovation-is-not-enough HTTP/1.1\" 200 15311\n",
      "2020-02-18 12:22:47 [scrapy.core.engine] DEBUG: Crawled (200) <GET https://www.mckinsey.com/industries/financial-services/our-insights/banking-matters/what-banks-need-to-know-about-hiring-in-a-highly-competitive-environment> (referer: None)\n",
      "2020-02-18 12:22:47 [urllib3.connectionpool] DEBUG: Starting new HTTPS connection (1): www.mckinsey.com:443\n"
     ]
    },
    {
     "name": "stdout",
     "output_type": "stream",
     "text": [
      "https://www.mckinsey.com/industries/financial-services/our-insights/banking-matters/what-banks-need-to-know-about-hiring-in-a-highly-competitive-environment\n"
     ]
    },
    {
     "name": "stderr",
     "output_type": "stream",
     "text": [
      "2020-02-18 12:22:48 [urllib3.connectionpool] DEBUG: https://www.mckinsey.com:443 \"GET /industries/financial-services/our-insights/banking-matters/what-banks-need-to-know-about-hiring-in-a-highly-competitive-environment HTTP/1.1\" 200 15444\n",
      "2020-02-18 12:22:48 [scrapy.core.scraper] ERROR: Spider error processing <GET https://www.mckinsey.com/industries/financial-services/our-insights/banking-matters/what-banks-need-to-know-about-hiring-in-a-highly-competitive-environment> (referer: None)\n",
      "Traceback (most recent call last):\n",
      "  File \"D:\\ProgramData\\Anaconda3\\lib\\site-packages\\twisted\\internet\\defer.py\", line 654, in _runCallbacks\n",
      "    current.result = callback(current.result, *args, **kw)\n",
      "  File \"<ipython-input-122-8fc83100377c>\", line 37, in parse\n",
      "    content_type = re.findall(conttype_regex, page_script)[0]\n",
      "IndexError: list index out of range\n",
      "2020-02-18 12:22:48 [scrapy.core.engine] DEBUG: Crawled (200) <GET https://www.mckinsey.com/mgi/overview/in-the-news/staying-competitive-in-next-round-of-globalization> (referer: None)\n",
      "2020-02-18 12:22:48 [scrapy.core.engine] DEBUG: Crawled (200) <GET https://www.mckinsey.com/industries/technology-media-and-telecommunications/how-we-help-clients/enterprise-software> (referer: None)\n",
      "2020-02-18 12:22:48 [scrapy.core.engine] DEBUG: Crawled (200) <GET https://www.mckinsey.com/business-functions/mckinsey-digital/our-insights/why-digital-strategies-fail> (referer: None)\n",
      "2020-02-18 12:22:48 [scrapy.core.engine] DEBUG: Crawled (200) <GET https://www.mckinsey.com/featured-insights/future-of-work/what-can-history-teach-us-about-technology-and-jobs> (referer: None)\n",
      "2020-02-18 12:22:48 [scrapy.core.engine] DEBUG: Crawled (200) <GET https://www.mckinsey.com/business-functions/operations/our-insights/a-road-map-for-digitizing-source-to-pay> (referer: None)\n",
      "2020-02-18 12:22:48 [scrapy.core.engine] DEBUG: Crawled (200) <GET https://www.mckinsey.com/industries/travel-transport-and-logistics/our-insights/the-rail-sectors-changing-maintenance-game> (referer: None)\n",
      "2020-02-18 12:22:48 [scrapy.core.engine] DEBUG: Crawled (200) <GET https://www.mckinsey.com/mgi/overview/in-the-news/inside-dynamics-of-a-changing-relationship> (referer: None)\n",
      "2020-02-18 12:22:48 [scrapy.core.engine] DEBUG: Crawled (200) <GET https://www.mckinsey.com/featured-insights/future-of-work/how-will-automation-affect-economies-around-the-world> (referer: None)\n",
      "2020-02-18 12:22:48 [urllib3.connectionpool] DEBUG: Starting new HTTPS connection (1): www.mckinsey.com:443\n"
     ]
    },
    {
     "name": "stdout",
     "output_type": "stream",
     "text": [
      "https://www.mckinsey.com/mgi/overview/in-the-news/staying-competitive-in-next-round-of-globalization\n"
     ]
    },
    {
     "name": "stderr",
     "output_type": "stream",
     "text": [
      "2020-02-18 12:22:49 [urllib3.connectionpool] DEBUG: https://www.mckinsey.com:443 \"GET /mgi/overview/in-the-news/staying-competitive-in-next-round-of-globalization HTTP/1.1\" 200 15555\n",
      "2020-02-18 12:22:49 [scrapy.core.engine] DEBUG: Crawled (200) <GET https://www.mckinsey.com/business-functions/marketing-and-sales/our-insights/the-most-perfect-union> (referer: None)\n",
      "2020-02-18 12:22:49 [scrapy.core.engine] DEBUG: Crawled (200) <GET https://www.mckinsey.com/business-functions/operations/our-insights/charting-the-future-of-customer-care-through-a-core-optimization-philosophy> (referer: None)\n",
      "2020-02-18 12:22:49 [scrapy.core.engine] DEBUG: Crawled (200) <GET https://www.mckinsey.com/industries/financial-services/our-insights/how-machine-learning-can-improve-pricing-performance> (referer: None)\n",
      "2020-02-18 12:22:49 [scrapy.core.engine] DEBUG: Crawled (200) <GET https://www.mckinsey.com/industries/technology-media-and-telecommunications/our-insights/resilience-in-tmt-winning-in-downturns> (referer: None)\n",
      "2020-02-18 12:22:49 [scrapy.core.engine] DEBUG: Crawled (200) <GET https://www.mckinsey.com/business-functions/mckinsey-digital/our-insights/responding-to-digital-threats> (referer: None)\n",
      "2020-02-18 12:22:49 [scrapy.core.engine] DEBUG: Crawled (200) <GET https://www.mckinsey.com/business-functions/operations/our-insights/why-corporate-center-efficiency-matters> (referer: None)\n",
      "2020-02-18 12:22:49 [urllib3.connectionpool] DEBUG: Starting new HTTPS connection (1): www.mckinsey.com:443\n"
     ]
    },
    {
     "name": "stdout",
     "output_type": "stream",
     "text": [
      "https://www.mckinsey.com/industries/technology-media-and-telecommunications/how-we-help-clients/enterprise-software\n"
     ]
    },
    {
     "name": "stderr",
     "output_type": "stream",
     "text": [
      "2020-02-18 12:22:50 [urllib3.connectionpool] DEBUG: https://www.mckinsey.com:443 \"GET /industries/technology-media-and-telecommunications/how-we-help-clients/enterprise-software HTTP/1.1\" 200 17345\n",
      "2020-02-18 12:22:50 [scrapy.core.scraper] ERROR: Spider error processing <GET https://www.mckinsey.com/industries/technology-media-and-telecommunications/how-we-help-clients/enterprise-software> (referer: None)\n",
      "Traceback (most recent call last):\n",
      "  File \"D:\\ProgramData\\Anaconda3\\lib\\site-packages\\twisted\\internet\\defer.py\", line 654, in _runCallbacks\n",
      "    current.result = callback(current.result, *args, **kw)\n",
      "  File \"<ipython-input-122-8fc83100377c>\", line 41, in parse\n",
      "    page_date = re.findall(date_regex, page_script)[0]\n",
      "IndexError: list index out of range\n",
      "2020-02-18 12:22:50 [urllib3.connectionpool] DEBUG: Starting new HTTPS connection (1): www.mckinsey.com:443\n"
     ]
    },
    {
     "name": "stdout",
     "output_type": "stream",
     "text": [
      "https://www.mckinsey.com/business-functions/mckinsey-digital/our-insights/why-digital-strategies-fail\n"
     ]
    },
    {
     "name": "stderr",
     "output_type": "stream",
     "text": [
      "2020-02-18 12:22:51 [urllib3.connectionpool] DEBUG: https://www.mckinsey.com:443 \"GET /business-functions/mckinsey-digital/our-insights/why-digital-strategies-fail HTTP/1.1\" 200 26583\n",
      "2020-02-18 12:22:51 [urllib3.connectionpool] DEBUG: Starting new HTTPS connection (1): www.mckinsey.com:443\n"
     ]
    },
    {
     "name": "stdout",
     "output_type": "stream",
     "text": [
      "https://www.mckinsey.com/featured-insights/future-of-work/what-can-history-teach-us-about-technology-and-jobs\n"
     ]
    },
    {
     "name": "stderr",
     "output_type": "stream",
     "text": [
      "2020-02-18 12:22:52 [urllib3.connectionpool] DEBUG: https://www.mckinsey.com:443 \"GET /featured-insights/future-of-work/what-can-history-teach-us-about-technology-and-jobs HTTP/1.1\" 200 28307\n",
      "2020-02-18 12:22:52 [urllib3.connectionpool] DEBUG: Starting new HTTPS connection (1): www.mckinsey.com:443\n"
     ]
    },
    {
     "name": "stdout",
     "output_type": "stream",
     "text": [
      "https://www.mckinsey.com/business-functions/operations/our-insights/a-road-map-for-digitizing-source-to-pay\n"
     ]
    },
    {
     "name": "stderr",
     "output_type": "stream",
     "text": [
      "2020-02-18 12:22:52 [urllib3.connectionpool] DEBUG: https://www.mckinsey.com:443 \"GET /business-functions/operations/our-insights/a-road-map-for-digitizing-source-to-pay HTTP/1.1\" 200 20874\n",
      "2020-02-18 12:22:52 [urllib3.connectionpool] DEBUG: Starting new HTTPS connection (1): www.mckinsey.com:443\n"
     ]
    },
    {
     "name": "stdout",
     "output_type": "stream",
     "text": [
      "https://www.mckinsey.com/industries/travel-transport-and-logistics/our-insights/the-rail-sectors-changing-maintenance-game\n"
     ]
    },
    {
     "name": "stderr",
     "output_type": "stream",
     "text": [
      "2020-02-18 12:22:53 [urllib3.connectionpool] DEBUG: https://www.mckinsey.com:443 \"GET /industries/travel-transport-and-logistics/our-insights/the-rail-sectors-changing-maintenance-game HTTP/1.1\" 200 16572\n",
      "2020-02-18 12:22:53 [urllib3.connectionpool] DEBUG: Starting new HTTPS connection (1): www.mckinsey.com:443\n"
     ]
    },
    {
     "name": "stdout",
     "output_type": "stream",
     "text": [
      "https://www.mckinsey.com/mgi/overview/in-the-news/inside-dynamics-of-a-changing-relationship\n"
     ]
    },
    {
     "name": "stderr",
     "output_type": "stream",
     "text": [
      "2020-02-18 12:22:53 [urllib3.connectionpool] DEBUG: https://www.mckinsey.com:443 \"GET /mgi/overview/in-the-news/inside-dynamics-of-a-changing-relationship HTTP/1.1\" 200 14894\n",
      "2020-02-18 12:22:53 [urllib3.connectionpool] DEBUG: Starting new HTTPS connection (1): www.mckinsey.com:443\n"
     ]
    },
    {
     "name": "stdout",
     "output_type": "stream",
     "text": [
      "https://www.mckinsey.com/featured-insights/future-of-work/how-will-automation-affect-economies-around-the-world\n"
     ]
    },
    {
     "name": "stderr",
     "output_type": "stream",
     "text": [
      "2020-02-18 12:22:54 [urllib3.connectionpool] DEBUG: https://www.mckinsey.com:443 \"GET /featured-insights/future-of-work/how-will-automation-affect-economies-around-the-world HTTP/1.1\" 200 28669\n",
      "2020-02-18 12:22:54 [scrapy.core.engine] DEBUG: Crawled (200) <GET https://www.mckinsey.com/business-functions/organization/our-insights/rethinking-work-in-the-digital-age> (referer: None)\n",
      "2020-02-18 12:22:55 [scrapy.core.engine] DEBUG: Crawled (200) <GET https://www.mckinsey.com/featured-insights/china/chinas-fast-climb-up-the-value-chain> (referer: None)\n",
      "2020-02-18 12:22:55 [urllib3.connectionpool] DEBUG: Starting new HTTPS connection (1): www.mckinsey.com:443\n"
     ]
    },
    {
     "name": "stdout",
     "output_type": "stream",
     "text": [
      "https://www.mckinsey.com/business-functions/marketing-and-sales/our-insights/the-most-perfect-union\n"
     ]
    },
    {
     "name": "stderr",
     "output_type": "stream",
     "text": [
      "2020-02-18 12:22:56 [urllib3.connectionpool] DEBUG: https://www.mckinsey.com:443 \"GET /business-functions/marketing-and-sales/our-insights/the-most-perfect-union HTTP/1.1\" 200 20662\n",
      "2020-02-18 12:22:56 [urllib3.connectionpool] DEBUG: Starting new HTTPS connection (1): www.mckinsey.com:443\n"
     ]
    },
    {
     "name": "stdout",
     "output_type": "stream",
     "text": [
      "https://www.mckinsey.com/business-functions/operations/our-insights/charting-the-future-of-customer-care-through-a-core-optimization-philosophy\n"
     ]
    },
    {
     "name": "stderr",
     "output_type": "stream",
     "text": [
      "2020-02-18 12:22:56 [urllib3.connectionpool] DEBUG: https://www.mckinsey.com:443 \"GET /business-functions/operations/our-insights/charting-the-future-of-customer-care-through-a-core-optimization-philosophy HTTP/1.1\" 200 20183\n",
      "2020-02-18 12:22:56 [urllib3.connectionpool] DEBUG: Starting new HTTPS connection (1): www.mckinsey.com:443\n"
     ]
    },
    {
     "name": "stdout",
     "output_type": "stream",
     "text": [
      "https://www.mckinsey.com/industries/financial-services/our-insights/how-machine-learning-can-improve-pricing-performance\n"
     ]
    },
    {
     "name": "stderr",
     "output_type": "stream",
     "text": [
      "2020-02-18 12:22:57 [urllib3.connectionpool] DEBUG: https://www.mckinsey.com:443 \"GET /industries/financial-services/our-insights/how-machine-learning-can-improve-pricing-performance HTTP/1.1\" 200 20055\n",
      "2020-02-18 12:22:57 [urllib3.connectionpool] DEBUG: Starting new HTTPS connection (1): www.mckinsey.com:443\n"
     ]
    },
    {
     "name": "stdout",
     "output_type": "stream",
     "text": [
      "https://www.mckinsey.com/industries/technology-media-and-telecommunications/our-insights/resilience-in-tmt-winning-in-downturns\n"
     ]
    },
    {
     "name": "stderr",
     "output_type": "stream",
     "text": [
      "2020-02-18 12:22:58 [urllib3.connectionpool] DEBUG: https://www.mckinsey.com:443 \"GET /industries/technology-media-and-telecommunications/our-insights/resilience-in-tmt-winning-in-downturns HTTP/1.1\" 200 21432\n",
      "2020-02-18 12:22:58 [urllib3.connectionpool] DEBUG: Starting new HTTPS connection (1): www.mckinsey.com:443\n"
     ]
    },
    {
     "name": "stdout",
     "output_type": "stream",
     "text": [
      "https://www.mckinsey.com/business-functions/mckinsey-digital/our-insights/responding-to-digital-threats\n"
     ]
    },
    {
     "name": "stderr",
     "output_type": "stream",
     "text": [
      "2020-02-18 12:22:59 [urllib3.connectionpool] DEBUG: https://www.mckinsey.com:443 \"GET /business-functions/mckinsey-digital/our-insights/responding-to-digital-threats HTTP/1.1\" 200 16102\n",
      "2020-02-18 12:22:59 [urllib3.connectionpool] DEBUG: Starting new HTTPS connection (1): www.mckinsey.com:443\n"
     ]
    },
    {
     "name": "stdout",
     "output_type": "stream",
     "text": [
      "https://www.mckinsey.com/business-functions/operations/our-insights/why-corporate-center-efficiency-matters\n"
     ]
    },
    {
     "name": "stderr",
     "output_type": "stream",
     "text": [
      "2020-02-18 12:23:00 [urllib3.connectionpool] DEBUG: https://www.mckinsey.com:443 \"GET /business-functions/operations/our-insights/why-corporate-center-efficiency-matters HTTP/1.1\" 200 16521\n",
      "2020-02-18 12:23:00 [scrapy.core.engine] DEBUG: Crawled (200) <GET https://www.mckinsey.com/featured-insights/future-of-work/how-google-dot-org-is-helping-workers-prepare-for-a-digital-skill-shift> (referer: None)\n",
      "2020-02-18 12:23:00 [scrapy.core.engine] DEBUG: Crawled (200) <GET https://www.mckinsey.com/industries/technology-media-and-telecommunications/our-insights/the-impact-of-disruptive-technology-a-conversation-with-eric-schmidt> (referer: None)\n",
      "2020-02-18 12:23:00 [scrapy.core.engine] DEBUG: Crawled (200) <GET https://www.mckinsey.com/mgi/overview/in-the-news/a-womans-place-is-in-the-digital-revolution> (referer: None)\n",
      "2020-02-18 12:23:00 [scrapy.core.engine] DEBUG: Crawled (200) <GET https://www.mckinsey.com/mgi/overview/in-the-news/the-false-choice-between-automation-and-jobs> (referer: None)\n",
      "2020-02-18 12:23:00 [scrapy.core.engine] DEBUG: Crawled (200) <GET https://www.mckinsey.com/business-functions/mckinsey-digital/our-insights/from-understanding-to-action-our-top-reads-from-2018> (referer: None)\n",
      "2020-02-18 12:23:00 [scrapy.core.engine] DEBUG: Crawled (200) <GET https://www.mckinsey.com/featured-insights/aspen-ideas-festival-2017> (referer: None)\n",
      "2020-02-18 12:23:00 [urllib3.connectionpool] DEBUG: Starting new HTTPS connection (1): www.mckinsey.com:443\n"
     ]
    },
    {
     "name": "stdout",
     "output_type": "stream",
     "text": [
      "https://www.mckinsey.com/business-functions/organization/our-insights/rethinking-work-in-the-digital-age\n"
     ]
    },
    {
     "name": "stderr",
     "output_type": "stream",
     "text": [
      "2020-02-18 12:23:01 [urllib3.connectionpool] DEBUG: https://www.mckinsey.com:443 \"GET /business-functions/organization/our-insights/rethinking-work-in-the-digital-age HTTP/1.1\" 200 21604\n",
      "2020-02-18 12:23:01 [urllib3.connectionpool] DEBUG: Starting new HTTPS connection (1): www.mckinsey.com:443\n"
     ]
    },
    {
     "name": "stdout",
     "output_type": "stream",
     "text": [
      "https://www.mckinsey.com/featured-insights/china/chinas-fast-climb-up-the-value-chain\n"
     ]
    },
    {
     "name": "stderr",
     "output_type": "stream",
     "text": [
      "2020-02-18 12:23:01 [urllib3.connectionpool] DEBUG: https://www.mckinsey.com:443 \"GET /featured-insights/china/chinas-fast-climb-up-the-value-chain HTTP/1.1\" 200 18818\n",
      "2020-02-18 12:23:01 [scrapy.core.engine] DEBUG: Crawled (200) <GET https://www.mckinsey.com/mgi/overview/in-the-news/the-disruptive-dozen> (referer: None)\n",
      "2020-02-18 12:23:01 [scrapy.core.engine] DEBUG: Crawled (200) <GET https://www.mckinsey.com/about-us/new-at-mckinsey-blog/five-things-you-may-not-know-about-digital-mckinsey> (referer: None)\n",
      "2020-02-18 12:23:02 [urllib3.connectionpool] DEBUG: Starting new HTTPS connection (1): www.mckinsey.com:443\n"
     ]
    },
    {
     "name": "stdout",
     "output_type": "stream",
     "text": [
      "https://www.mckinsey.com/featured-insights/future-of-work/how-google-dot-org-is-helping-workers-prepare-for-a-digital-skill-shift\n"
     ]
    },
    {
     "name": "stderr",
     "output_type": "stream",
     "text": [
      "2020-02-18 12:23:02 [urllib3.connectionpool] DEBUG: https://www.mckinsey.com:443 \"GET /featured-insights/future-of-work/how-google-dot-org-is-helping-workers-prepare-for-a-digital-skill-shift HTTP/1.1\" 200 18646\n",
      "2020-02-18 12:23:02 [urllib3.connectionpool] DEBUG: Starting new HTTPS connection (1): www.mckinsey.com:443\n"
     ]
    },
    {
     "name": "stdout",
     "output_type": "stream",
     "text": [
      "https://www.mckinsey.com/industries/technology-media-and-telecommunications/our-insights/the-impact-of-disruptive-technology-a-conversation-with-eric-schmidt\n"
     ]
    },
    {
     "name": "stderr",
     "output_type": "stream",
     "text": [
      "2020-02-18 12:23:02 [urllib3.connectionpool] DEBUG: https://www.mckinsey.com:443 \"GET /industries/technology-media-and-telecommunications/our-insights/the-impact-of-disruptive-technology-a-conversation-with-eric-schmidt HTTP/1.1\" 200 17109\n",
      "2020-02-18 12:23:02 [urllib3.connectionpool] DEBUG: Starting new HTTPS connection (1): www.mckinsey.com:443\n"
     ]
    },
    {
     "name": "stdout",
     "output_type": "stream",
     "text": [
      "https://www.mckinsey.com/mgi/overview/in-the-news/a-womans-place-is-in-the-digital-revolution\n"
     ]
    },
    {
     "name": "stderr",
     "output_type": "stream",
     "text": [
      "2020-02-18 12:23:03 [urllib3.connectionpool] DEBUG: https://www.mckinsey.com:443 \"GET /mgi/overview/in-the-news/a-womans-place-is-in-the-digital-revolution HTTP/1.1\" 200 15370\n",
      "2020-02-18 12:23:03 [urllib3.connectionpool] DEBUG: Starting new HTTPS connection (1): www.mckinsey.com:443\n"
     ]
    },
    {
     "name": "stdout",
     "output_type": "stream",
     "text": [
      "https://www.mckinsey.com/mgi/overview/in-the-news/the-false-choice-between-automation-and-jobs\n"
     ]
    },
    {
     "name": "stderr",
     "output_type": "stream",
     "text": [
      "2020-02-18 12:23:03 [urllib3.connectionpool] DEBUG: https://www.mckinsey.com:443 \"GET /mgi/overview/in-the-news/the-false-choice-between-automation-and-jobs HTTP/1.1\" 200 15623\n",
      "2020-02-18 12:23:04 [urllib3.connectionpool] DEBUG: Starting new HTTPS connection (1): www.mckinsey.com:443\n"
     ]
    },
    {
     "name": "stdout",
     "output_type": "stream",
     "text": [
      "https://www.mckinsey.com/business-functions/mckinsey-digital/our-insights/from-understanding-to-action-our-top-reads-from-2018\n"
     ]
    },
    {
     "name": "stderr",
     "output_type": "stream",
     "text": [
      "2020-02-18 12:23:04 [urllib3.connectionpool] DEBUG: https://www.mckinsey.com:443 \"GET /business-functions/mckinsey-digital/our-insights/from-understanding-to-action-our-top-reads-from-2018 HTTP/1.1\" 200 15254\n",
      "2020-02-18 12:23:04 [scrapy.core.scraper] ERROR: Spider error processing <GET https://www.mckinsey.com/business-functions/mckinsey-digital/our-insights/from-understanding-to-action-our-top-reads-from-2018> (referer: None)\n",
      "Traceback (most recent call last):\n",
      "  File \"D:\\ProgramData\\Anaconda3\\lib\\site-packages\\twisted\\internet\\defer.py\", line 654, in _runCallbacks\n",
      "    current.result = callback(current.result, *args, **kw)\n",
      "  File \"<ipython-input-122-8fc83100377c>\", line 42, in parse\n",
      "    page_texttype = re.findall(texttype_regex, page_script)[0]\n",
      "IndexError: list index out of range\n",
      "2020-02-18 12:23:04 [urllib3.connectionpool] DEBUG: Starting new HTTPS connection (1): www.mckinsey.com:443\n"
     ]
    },
    {
     "name": "stdout",
     "output_type": "stream",
     "text": [
      "https://www.mckinsey.com/featured-insights/aspen-ideas-festival-2017\n"
     ]
    },
    {
     "name": "stderr",
     "output_type": "stream",
     "text": [
      "2020-02-18 12:23:06 [urllib3.connectionpool] DEBUG: https://www.mckinsey.com:443 \"GET /featured-insights/aspen-ideas-festival-2017 HTTP/1.1\" 200 18581\n",
      "2020-02-18 12:23:06 [scrapy.core.scraper] ERROR: Spider error processing <GET https://www.mckinsey.com/featured-insights/aspen-ideas-festival-2017> (referer: None)\n",
      "Traceback (most recent call last):\n",
      "  File \"D:\\ProgramData\\Anaconda3\\lib\\site-packages\\twisted\\internet\\defer.py\", line 654, in _runCallbacks\n",
      "    current.result = callback(current.result, *args, **kw)\n",
      "  File \"<ipython-input-122-8fc83100377c>\", line 37, in parse\n",
      "    content_type = re.findall(conttype_regex, page_script)[0]\n",
      "IndexError: list index out of range\n",
      "2020-02-18 12:23:06 [scrapy.core.engine] DEBUG: Crawled (200) <GET https://www.mckinsey.com/featured-insights/middle-east-and-africa/new-technology-for-an-old-industry-how-digital-can-renew-south-african-mining> (referer: None)\n",
      "2020-02-18 12:23:06 [scrapy.core.engine] DEBUG: Crawled (200) <GET https://www.mckinsey.com/featured-insights/davos-2020> (referer: None)\n",
      "2020-02-18 12:23:06 [urllib3.connectionpool] DEBUG: Starting new HTTPS connection (1): www.mckinsey.com:443\n"
     ]
    },
    {
     "name": "stdout",
     "output_type": "stream",
     "text": [
      "https://www.mckinsey.com/mgi/overview/in-the-news/the-disruptive-dozen\n"
     ]
    },
    {
     "name": "stderr",
     "output_type": "stream",
     "text": [
      "2020-02-18 12:23:06 [urllib3.connectionpool] DEBUG: https://www.mckinsey.com:443 \"GET /mgi/overview/in-the-news/the-disruptive-dozen HTTP/1.1\" 200 16465\n",
      "2020-02-18 12:23:06 [urllib3.connectionpool] DEBUG: Starting new HTTPS connection (1): www.mckinsey.com:443\n"
     ]
    },
    {
     "name": "stdout",
     "output_type": "stream",
     "text": [
      "https://www.mckinsey.com/about-us/new-at-mckinsey-blog/five-things-you-may-not-know-about-digital-mckinsey\n"
     ]
    },
    {
     "name": "stderr",
     "output_type": "stream",
     "text": [
      "2020-02-18 12:23:08 [urllib3.connectionpool] DEBUG: https://www.mckinsey.com:443 \"GET /about-us/new-at-mckinsey-blog/five-things-you-may-not-know-about-digital-mckinsey HTTP/1.1\" 200 15379\n",
      "2020-02-18 12:23:08 [scrapy.core.scraper] ERROR: Spider error processing <GET https://www.mckinsey.com/about-us/new-at-mckinsey-blog/five-things-you-may-not-know-about-digital-mckinsey> (referer: None)\n",
      "Traceback (most recent call last):\n",
      "  File \"D:\\ProgramData\\Anaconda3\\lib\\site-packages\\twisted\\internet\\defer.py\", line 654, in _runCallbacks\n",
      "    current.result = callback(current.result, *args, **kw)\n",
      "  File \"<ipython-input-122-8fc83100377c>\", line 37, in parse\n",
      "    content_type = re.findall(conttype_regex, page_script)[0]\n",
      "IndexError: list index out of range\n",
      "2020-02-18 12:23:08 [scrapy.core.engine] DEBUG: Crawled (200) <GET https://www.mckinsey.com/featured-insights/regions-in-focus> (referer: None)\n",
      "2020-02-18 12:23:08 [urllib3.connectionpool] DEBUG: Starting new HTTPS connection (1): www.mckinsey.com:443\n"
     ]
    },
    {
     "name": "stdout",
     "output_type": "stream",
     "text": [
      "https://www.mckinsey.com/featured-insights/middle-east-and-africa/new-technology-for-an-old-industry-how-digital-can-renew-south-african-mining\n"
     ]
    },
    {
     "name": "stderr",
     "output_type": "stream",
     "text": [
      "2020-02-18 12:23:09 [urllib3.connectionpool] DEBUG: https://www.mckinsey.com:443 \"GET /featured-insights/middle-east-and-africa/new-technology-for-an-old-industry-how-digital-can-renew-south-african-mining HTTP/1.1\" 200 16805\n",
      "2020-02-18 12:23:09 [urllib3.connectionpool] DEBUG: Starting new HTTPS connection (1): www.mckinsey.com:443\n"
     ]
    },
    {
     "name": "stdout",
     "output_type": "stream",
     "text": [
      "https://www.mckinsey.com/featured-insights/davos-2020\n"
     ]
    },
    {
     "name": "stderr",
     "output_type": "stream",
     "text": [
      "2020-02-18 12:23:10 [urllib3.connectionpool] DEBUG: https://www.mckinsey.com:443 \"GET /featured-insights/davos-2020 HTTP/1.1\" 200 20876\n",
      "2020-02-18 12:23:10 [scrapy.core.scraper] ERROR: Spider error processing <GET https://www.mckinsey.com/featured-insights/davos-2020> (referer: None)\n",
      "Traceback (most recent call last):\n",
      "  File \"D:\\ProgramData\\Anaconda3\\lib\\site-packages\\twisted\\internet\\defer.py\", line 654, in _runCallbacks\n",
      "    current.result = callback(current.result, *args, **kw)\n",
      "  File \"<ipython-input-122-8fc83100377c>\", line 41, in parse\n",
      "    page_date = re.findall(date_regex, page_script)[0]\n",
      "IndexError: list index out of range\n",
      "2020-02-18 12:23:10 [scrapy.core.engine] DEBUG: Crawled (200) <GET https://www.mckinsey.com/featured-insights/middle-east-and-africa/are-middle-east-workers-ready-for-the-impact-of-automation> (referer: None)\n",
      "2020-02-18 12:23:10 [urllib3.connectionpool] DEBUG: Starting new HTTPS connection (1): www.mckinsey.com:443\n"
     ]
    },
    {
     "name": "stdout",
     "output_type": "stream",
     "text": [
      "https://www.mckinsey.com/featured-insights/regions-in-focus\n"
     ]
    },
    {
     "name": "stderr",
     "output_type": "stream",
     "text": [
      "2020-02-18 12:23:11 [urllib3.connectionpool] DEBUG: https://www.mckinsey.com:443 \"GET /featured-insights/regions-in-focus HTTP/1.1\" 200 18525\n",
      "2020-02-18 12:23:11 [scrapy.core.scraper] ERROR: Spider error processing <GET https://www.mckinsey.com/featured-insights/regions-in-focus> (referer: None)\n",
      "Traceback (most recent call last):\n",
      "  File \"D:\\ProgramData\\Anaconda3\\lib\\site-packages\\twisted\\internet\\defer.py\", line 654, in _runCallbacks\n",
      "    current.result = callback(current.result, *args, **kw)\n",
      "  File \"<ipython-input-122-8fc83100377c>\", line 37, in parse\n",
      "    content_type = re.findall(conttype_regex, page_script)[0]\n",
      "IndexError: list index out of range\n",
      "2020-02-18 12:23:11 [scrapy.extensions.logstats] INFO: Crawled 497 pages (at 65 pages/min), scraped 0 items (at 0 items/min)\n",
      "2020-02-18 12:23:11 [scrapy.core.engine] DEBUG: Crawled (200) <GET https://www.mckinsey.com/mgi/overview/in-the-news/its-not-just-about-china-asian-economies-are-integrating-rapidly> (referer: None)\n",
      "2020-02-18 12:23:11 [urllib3.connectionpool] DEBUG: Starting new HTTPS connection (1): www.mckinsey.com:443\n"
     ]
    },
    {
     "name": "stdout",
     "output_type": "stream",
     "text": [
      "https://www.mckinsey.com/featured-insights/middle-east-and-africa/are-middle-east-workers-ready-for-the-impact-of-automation\n"
     ]
    },
    {
     "name": "stderr",
     "output_type": "stream",
     "text": [
      "2020-02-18 12:23:12 [urllib3.connectionpool] DEBUG: https://www.mckinsey.com:443 \"GET /featured-insights/middle-east-and-africa/are-middle-east-workers-ready-for-the-impact-of-automation HTTP/1.1\" 200 18501\n",
      "2020-02-18 12:23:12 [urllib3.connectionpool] DEBUG: Starting new HTTPS connection (1): www.mckinsey.com:443\n"
     ]
    },
    {
     "name": "stdout",
     "output_type": "stream",
     "text": [
      "https://www.mckinsey.com/mgi/overview/in-the-news/its-not-just-about-china-asian-economies-are-integrating-rapidly\n"
     ]
    },
    {
     "name": "stderr",
     "output_type": "stream",
     "text": [
      "2020-02-18 12:23:13 [urllib3.connectionpool] DEBUG: https://www.mckinsey.com:443 \"GET /mgi/overview/in-the-news/its-not-just-about-china-asian-economies-are-integrating-rapidly HTTP/1.1\" 200 16959\n",
      "2020-02-18 12:23:13 [scrapy.core.engine] DEBUG: Crawled (200) <GET https://www.mckinsey.com/about-us/new-at-mckinsey-blog/davos-2019-four-big-themes> (referer: None)\n",
      "2020-02-18 12:23:13 [urllib3.connectionpool] DEBUG: Starting new HTTPS connection (1): www.mckinsey.com:443\n"
     ]
    },
    {
     "name": "stdout",
     "output_type": "stream",
     "text": [
      "https://www.mckinsey.com/about-us/new-at-mckinsey-blog/davos-2019-four-big-themes\n"
     ]
    },
    {
     "name": "stderr",
     "output_type": "stream",
     "text": [
      "2020-02-18 12:23:14 [urllib3.connectionpool] DEBUG: https://www.mckinsey.com:443 \"GET /about-us/new-at-mckinsey-blog/davos-2019-four-big-themes HTTP/1.1\" 200 15931\n",
      "2020-02-18 12:23:14 [scrapy.core.scraper] ERROR: Spider error processing <GET https://www.mckinsey.com/about-us/new-at-mckinsey-blog/davos-2019-four-big-themes> (referer: None)\n",
      "Traceback (most recent call last):\n",
      "  File \"D:\\ProgramData\\Anaconda3\\lib\\site-packages\\twisted\\internet\\defer.py\", line 654, in _runCallbacks\n",
      "    current.result = callback(current.result, *args, **kw)\n",
      "  File \"<ipython-input-122-8fc83100377c>\", line 37, in parse\n",
      "    content_type = re.findall(conttype_regex, page_script)[0]\n",
      "IndexError: list index out of range\n",
      "2020-02-18 12:23:14 [scrapy.core.engine] DEBUG: Crawled (200) <GET https://www.mckinsey.com/business-functions/strategy-and-corporate-finance/our-insights/inside-the-strategy-room-podcast> (referer: None)\n",
      "2020-02-18 12:23:14 [scrapy.core.engine] DEBUG: Crawled (200) <GET https://www.mckinsey.com/industries/aerospace-and-defense/our-insights/how-airbus-is-navigating-a-digital-transformation> (referer: None)\n",
      "2020-02-18 12:23:14 [scrapy.core.engine] DEBUG: Crawled (200) <GET https://www.mckinsey.com/industries/automotive-and-assembly/our-insights/israel-hot-spot-for-future-mobility-technologies> (referer: None)\n",
      "2020-02-18 12:23:14 [scrapy.core.engine] DEBUG: Crawled (200) <GET https://www.mckinsey.com/business-functions/sustainability/our-insights/how-technology-is-reshaping-supply-and-demand-for-natural-resources> (referer: None)\n",
      "2020-02-18 12:23:14 [scrapy.core.engine] DEBUG: Crawled (200) <GET https://www.mckinsey.com/industries/financial-services/our-insights/claims-2030-dream-or-reality> (referer: None)\n",
      "2020-02-18 12:23:14 [scrapy.core.engine] DEBUG: Crawled (200) <GET https://www.mckinsey.com/industries/retail/our-insights/automation-in-retail-an-executive-overview-for-getting-ready> (referer: None)\n",
      "2020-02-18 12:23:14 [scrapy.core.engine] DEBUG: Crawled (200) <GET https://www.mckinsey.com/business-functions/mckinsey-digital/our-insights/digital-machinery-how-companies-can-win-the-changing-manufacturing-game> (referer: None)\n",
      "2020-02-18 12:23:14 [scrapy.core.engine] DEBUG: Crawled (200) <GET https://www.mckinsey.com/business-functions/mckinsey-analytics/our-insights/ten-red-flags-signaling-your-analytics-program-will-fail> (referer: None)\n",
      "2020-02-18 12:23:14 [urllib3.connectionpool] DEBUG: Starting new HTTPS connection (1): www.mckinsey.com:443\n"
     ]
    },
    {
     "name": "stdout",
     "output_type": "stream",
     "text": [
      "https://www.mckinsey.com/business-functions/strategy-and-corporate-finance/our-insights/inside-the-strategy-room-podcast\n"
     ]
    },
    {
     "name": "stderr",
     "output_type": "stream",
     "text": [
      "2020-02-18 12:23:17 [urllib3.connectionpool] DEBUG: https://www.mckinsey.com:443 \"GET /business-functions/strategy-and-corporate-finance/our-insights/inside-the-strategy-room-podcast HTTP/1.1\" 200 17151\n",
      "2020-02-18 12:23:17 [scrapy.core.scraper] ERROR: Spider error processing <GET https://www.mckinsey.com/business-functions/strategy-and-corporate-finance/our-insights/inside-the-strategy-room-podcast> (referer: None)\n",
      "Traceback (most recent call last):\n",
      "  File \"D:\\ProgramData\\Anaconda3\\lib\\site-packages\\twisted\\internet\\defer.py\", line 654, in _runCallbacks\n",
      "    current.result = callback(current.result, *args, **kw)\n",
      "  File \"<ipython-input-122-8fc83100377c>\", line 37, in parse\n",
      "    content_type = re.findall(conttype_regex, page_script)[0]\n",
      "IndexError: list index out of range\n",
      "2020-02-18 12:23:17 [scrapy.core.engine] DEBUG: Crawled (200) <GET https://www.mckinsey.com/business-functions/mckinsey-digital/our-insights/a-blueprint-for-successful-digital-transformations-for-automotive-suppliers> (referer: None)\n",
      "2020-02-18 12:23:18 [scrapy.core.engine] DEBUG: Crawled (200) <GET https://www.mckinsey.com/business-functions/mckinsey-digital/our-insights/the-digital-reinvention-of-an-asian-bank> (referer: None)\n",
      "2020-02-18 12:23:18 [scrapy.core.engine] DEBUG: Crawled (200) <GET https://www.mckinsey.com/business-functions/operations/our-insights/human-plus-machine-a-new-era-of-automation-in-manufacturing> (referer: None)\n",
      "2020-02-18 12:23:18 [scrapy.core.engine] DEBUG: Crawled (200) <GET https://www.mckinsey.com/industries/financial-services/our-insights/capturing-value-from-the-core> (referer: None)\n",
      "2020-02-18 12:23:18 [scrapy.core.engine] DEBUG: Crawled (200) <GET https://www.mckinsey.com/business-functions/mckinsey-digital/our-insights/winning-in-automation-requires-a-focus-on-humans> (referer: None)\n",
      "2020-02-18 12:23:18 [scrapy.core.engine] DEBUG: Crawled (200) <GET https://www.mckinsey.com/business-functions/risk/our-insights/the-customer-mandate-to-digitize-collections-strategies> (referer: None)\n",
      "2020-02-18 12:23:18 [scrapy.core.engine] DEBUG: Crawled (200) <GET https://www.mckinsey.com/featured-insights/future-of-work/the-future-of-work-rethinking-skills-to-tackle-the-uks-looming-talent-shortage> (referer: None)\n",
      "2020-02-18 12:23:18 [scrapy.core.engine] DEBUG: Crawled (200) <GET https://www.mckinsey.com/mgi/overview/in-the-news/china-gears-up-for-leap-into-digitisation-of-industry> (referer: None)\n",
      "2020-02-18 12:23:18 [urllib3.connectionpool] DEBUG: Starting new HTTPS connection (1): www.mckinsey.com:443\n"
     ]
    },
    {
     "name": "stdout",
     "output_type": "stream",
     "text": [
      "https://www.mckinsey.com/industries/aerospace-and-defense/our-insights/how-airbus-is-navigating-a-digital-transformation\n"
     ]
    },
    {
     "name": "stderr",
     "output_type": "stream",
     "text": [
      "2020-02-18 12:23:18 [urllib3.connectionpool] DEBUG: https://www.mckinsey.com:443 \"GET /industries/aerospace-and-defense/our-insights/how-airbus-is-navigating-a-digital-transformation HTTP/1.1\" 200 17215\n",
      "2020-02-18 12:23:18 [urllib3.connectionpool] DEBUG: Starting new HTTPS connection (1): www.mckinsey.com:443\n"
     ]
    },
    {
     "name": "stdout",
     "output_type": "stream",
     "text": [
      "https://www.mckinsey.com/industries/automotive-and-assembly/our-insights/israel-hot-spot-for-future-mobility-technologies\n"
     ]
    },
    {
     "name": "stderr",
     "output_type": "stream",
     "text": [
      "2020-02-18 12:23:18 [urllib3.connectionpool] DEBUG: https://www.mckinsey.com:443 \"GET /industries/automotive-and-assembly/our-insights/israel-hot-spot-for-future-mobility-technologies HTTP/1.1\" 200 18188\n",
      "2020-02-18 12:23:19 [urllib3.connectionpool] DEBUG: Starting new HTTPS connection (1): www.mckinsey.com:443\n"
     ]
    },
    {
     "name": "stdout",
     "output_type": "stream",
     "text": [
      "https://www.mckinsey.com/business-functions/sustainability/our-insights/how-technology-is-reshaping-supply-and-demand-for-natural-resources\n"
     ]
    },
    {
     "name": "stderr",
     "output_type": "stream",
     "text": [
      "2020-02-18 12:23:19 [urllib3.connectionpool] DEBUG: https://www.mckinsey.com:443 \"GET /business-functions/sustainability/our-insights/how-technology-is-reshaping-supply-and-demand-for-natural-resources HTTP/1.1\" 200 16925\n",
      "2020-02-18 12:23:19 [urllib3.connectionpool] DEBUG: Starting new HTTPS connection (1): www.mckinsey.com:443\n"
     ]
    },
    {
     "name": "stdout",
     "output_type": "stream",
     "text": [
      "https://www.mckinsey.com/industries/financial-services/our-insights/claims-2030-dream-or-reality\n"
     ]
    },
    {
     "name": "stderr",
     "output_type": "stream",
     "text": [
      "2020-02-18 12:23:20 [urllib3.connectionpool] DEBUG: https://www.mckinsey.com:443 \"GET /industries/financial-services/our-insights/claims-2030-dream-or-reality HTTP/1.1\" 200 19508\n",
      "2020-02-18 12:23:20 [urllib3.connectionpool] DEBUG: Starting new HTTPS connection (1): www.mckinsey.com:443\n"
     ]
    },
    {
     "name": "stdout",
     "output_type": "stream",
     "text": [
      "https://www.mckinsey.com/industries/retail/our-insights/automation-in-retail-an-executive-overview-for-getting-ready\n"
     ]
    },
    {
     "name": "stderr",
     "output_type": "stream",
     "text": [
      "2020-02-18 12:23:20 [urllib3.connectionpool] DEBUG: https://www.mckinsey.com:443 \"GET /industries/retail/our-insights/automation-in-retail-an-executive-overview-for-getting-ready HTTP/1.1\" 200 24370\n",
      "2020-02-18 12:23:20 [urllib3.connectionpool] DEBUG: Starting new HTTPS connection (1): www.mckinsey.com:443\n"
     ]
    },
    {
     "name": "stdout",
     "output_type": "stream",
     "text": [
      "https://www.mckinsey.com/business-functions/mckinsey-digital/our-insights/digital-machinery-how-companies-can-win-the-changing-manufacturing-game\n"
     ]
    },
    {
     "name": "stderr",
     "output_type": "stream",
     "text": [
      "2020-02-18 12:23:20 [urllib3.connectionpool] DEBUG: https://www.mckinsey.com:443 \"GET /business-functions/mckinsey-digital/our-insights/digital-machinery-how-companies-can-win-the-changing-manufacturing-game HTTP/1.1\" 200 21574\n",
      "2020-02-18 12:23:21 [urllib3.connectionpool] DEBUG: Starting new HTTPS connection (1): www.mckinsey.com:443\n"
     ]
    },
    {
     "name": "stdout",
     "output_type": "stream",
     "text": [
      "https://www.mckinsey.com/business-functions/mckinsey-analytics/our-insights/ten-red-flags-signaling-your-analytics-program-will-fail\n"
     ]
    },
    {
     "name": "stderr",
     "output_type": "stream",
     "text": [
      "2020-02-18 12:23:21 [urllib3.connectionpool] DEBUG: https://www.mckinsey.com:443 \"GET /business-functions/mckinsey-analytics/our-insights/ten-red-flags-signaling-your-analytics-program-will-fail HTTP/1.1\" 200 22748\n",
      "2020-02-18 12:23:21 [urllib3.connectionpool] DEBUG: Starting new HTTPS connection (1): www.mckinsey.com:443\n"
     ]
    },
    {
     "name": "stdout",
     "output_type": "stream",
     "text": [
      "https://www.mckinsey.com/business-functions/mckinsey-digital/our-insights/a-blueprint-for-successful-digital-transformations-for-automotive-suppliers\n"
     ]
    },
    {
     "name": "stderr",
     "output_type": "stream",
     "text": [
      "2020-02-18 12:23:22 [urllib3.connectionpool] DEBUG: https://www.mckinsey.com:443 \"GET /business-functions/mckinsey-digital/our-insights/a-blueprint-for-successful-digital-transformations-for-automotive-suppliers HTTP/1.1\" 200 21840\n",
      "2020-02-18 12:23:22 [urllib3.connectionpool] DEBUG: Starting new HTTPS connection (1): www.mckinsey.com:443\n"
     ]
    },
    {
     "name": "stdout",
     "output_type": "stream",
     "text": [
      "https://www.mckinsey.com/business-functions/mckinsey-digital/our-insights/the-digital-reinvention-of-an-asian-bank\n"
     ]
    },
    {
     "name": "stderr",
     "output_type": "stream",
     "text": [
      "2020-02-18 12:23:23 [urllib3.connectionpool] DEBUG: https://www.mckinsey.com:443 \"GET /business-functions/mckinsey-digital/our-insights/the-digital-reinvention-of-an-asian-bank HTTP/1.1\" 200 23388\n",
      "2020-02-18 12:23:23 [urllib3.connectionpool] DEBUG: Starting new HTTPS connection (1): www.mckinsey.com:443\n"
     ]
    },
    {
     "name": "stdout",
     "output_type": "stream",
     "text": [
      "https://www.mckinsey.com/business-functions/operations/our-insights/human-plus-machine-a-new-era-of-automation-in-manufacturing\n"
     ]
    },
    {
     "name": "stderr",
     "output_type": "stream",
     "text": [
      "2020-02-18 12:23:23 [urllib3.connectionpool] DEBUG: https://www.mckinsey.com:443 \"GET /business-functions/operations/our-insights/human-plus-machine-a-new-era-of-automation-in-manufacturing HTTP/1.1\" 200 21857\n",
      "2020-02-18 12:23:23 [urllib3.connectionpool] DEBUG: Starting new HTTPS connection (1): www.mckinsey.com:443\n"
     ]
    },
    {
     "name": "stdout",
     "output_type": "stream",
     "text": [
      "https://www.mckinsey.com/industries/financial-services/our-insights/capturing-value-from-the-core\n"
     ]
    },
    {
     "name": "stderr",
     "output_type": "stream",
     "text": [
      "2020-02-18 12:23:24 [urllib3.connectionpool] DEBUG: https://www.mckinsey.com:443 \"GET /industries/financial-services/our-insights/capturing-value-from-the-core HTTP/1.1\" 200 21287\n",
      "2020-02-18 12:23:24 [urllib3.connectionpool] DEBUG: Starting new HTTPS connection (1): www.mckinsey.com:443\n"
     ]
    },
    {
     "name": "stdout",
     "output_type": "stream",
     "text": [
      "https://www.mckinsey.com/business-functions/mckinsey-digital/our-insights/winning-in-automation-requires-a-focus-on-humans\n"
     ]
    },
    {
     "name": "stderr",
     "output_type": "stream",
     "text": [
      "2020-02-18 12:23:24 [urllib3.connectionpool] DEBUG: https://www.mckinsey.com:443 \"GET /business-functions/mckinsey-digital/our-insights/winning-in-automation-requires-a-focus-on-humans HTTP/1.1\" 200 21886\n",
      "2020-02-18 12:23:24 [urllib3.connectionpool] DEBUG: Starting new HTTPS connection (1): www.mckinsey.com:443\n"
     ]
    },
    {
     "name": "stdout",
     "output_type": "stream",
     "text": [
      "https://www.mckinsey.com/business-functions/risk/our-insights/the-customer-mandate-to-digitize-collections-strategies\n"
     ]
    },
    {
     "name": "stderr",
     "output_type": "stream",
     "text": [
      "2020-02-18 12:23:25 [urllib3.connectionpool] DEBUG: https://www.mckinsey.com:443 \"GET /business-functions/risk/our-insights/the-customer-mandate-to-digitize-collections-strategies HTTP/1.1\" 200 21059\n",
      "2020-02-18 12:23:25 [urllib3.connectionpool] DEBUG: Starting new HTTPS connection (1): www.mckinsey.com:443\n"
     ]
    },
    {
     "name": "stdout",
     "output_type": "stream",
     "text": [
      "https://www.mckinsey.com/featured-insights/future-of-work/the-future-of-work-rethinking-skills-to-tackle-the-uks-looming-talent-shortage\n"
     ]
    },
    {
     "name": "stderr",
     "output_type": "stream",
     "text": [
      "2020-02-18 12:23:25 [urllib3.connectionpool] DEBUG: https://www.mckinsey.com:443 \"GET /featured-insights/future-of-work/the-future-of-work-rethinking-skills-to-tackle-the-uks-looming-talent-shortage HTTP/1.1\" 200 23753\n",
      "2020-02-18 12:23:25 [urllib3.connectionpool] DEBUG: Starting new HTTPS connection (1): www.mckinsey.com:443\n"
     ]
    },
    {
     "name": "stdout",
     "output_type": "stream",
     "text": [
      "https://www.mckinsey.com/mgi/overview/in-the-news/china-gears-up-for-leap-into-digitisation-of-industry\n"
     ]
    },
    {
     "name": "stderr",
     "output_type": "stream",
     "text": [
      "2020-02-18 12:23:26 [urllib3.connectionpool] DEBUG: https://www.mckinsey.com:443 \"GET /mgi/overview/in-the-news/china-gears-up-for-leap-into-digitisation-of-industry HTTP/1.1\" 200 15395\n",
      "2020-02-18 12:23:26 [scrapy.core.engine] DEBUG: Crawled (200) <GET https://www.mckinsey.com/mgi/overview/in-the-news/why-isnt-disruptive-technology-lifting-us-out-of-the-recession> (referer: None)\n",
      "2020-02-18 12:23:26 [scrapy.core.engine] DEBUG: Crawled (200) <GET https://www.mckinsey.com/featured-insights/asia-pacific/how-asias-rise-is-reshaping-the-world> (referer: None)\n",
      "2020-02-18 12:23:26 [scrapy.core.engine] DEBUG: Crawled (200) <GET https://www.mckinsey.com/featured-insights/asia-pacific/the-future-of-women-in-asias-workforce> (referer: None)\n",
      "2020-02-18 12:23:26 [scrapy.core.engine] DEBUG: Crawled (200) <GET https://www.mckinsey.com/business-functions/mckinsey-digital/our-insights/digital-blog/burned-by-the-bots-why-robotic-automation-is-stumbling> (referer: None)\n",
      "2020-02-18 12:23:26 [scrapy.core.engine] DEBUG: Crawled (200) <GET https://www.mckinsey.com/featured-insights/china/chinas-digital-economy-a-leading-global-force> (referer: None)\n",
      "2020-02-18 12:23:26 [scrapy.core.engine] DEBUG: Crawled (200) <GET https://www.mckinsey.com/featured-insights/digital-disruption/harnessing-automation-for-a-future-that-works> (referer: None)\n",
      "2020-02-18 12:23:26 [scrapy.core.engine] DEBUG: Crawled (200) <GET https://www.mckinsey.com/featured-insights/europe/stimulating-digital-adoption-in-germany> (referer: None)\n",
      "2020-02-18 12:23:26 [scrapy.core.engine] DEBUG: Crawled (200) <GET https://www.mckinsey.com/featured-insights/future-of-work/globalization-robots-and-universal-basic-income-jason-furman-on-the-future-of-work> (referer: None)\n",
      "2020-02-18 12:23:26 [urllib3.connectionpool] DEBUG: Starting new HTTPS connection (1): www.mckinsey.com:443\n"
     ]
    },
    {
     "name": "stdout",
     "output_type": "stream",
     "text": [
      "https://www.mckinsey.com/mgi/overview/in-the-news/why-isnt-disruptive-technology-lifting-us-out-of-the-recession\n"
     ]
    },
    {
     "name": "stderr",
     "output_type": "stream",
     "text": [
      "2020-02-18 12:23:27 [urllib3.connectionpool] DEBUG: https://www.mckinsey.com:443 \"GET /mgi/overview/in-the-news/why-isnt-disruptive-technology-lifting-us-out-of-the-recession HTTP/1.1\" 200 16070\n",
      "2020-02-18 12:23:27 [scrapy.core.engine] DEBUG: Crawled (200) <GET https://www.mckinsey.com/industries/financial-services/our-insights/reinventing-equity-research-as-a-profit-making-business> (referer: None)\n",
      "2020-02-18 12:23:27 [scrapy.core.engine] DEBUG: Crawled (200) <GET https://www.mckinsey.com/industries/retail/our-insights/what-radical-transparency-could-mean-for-the-fashion-industry> (referer: None)\n",
      "2020-02-18 12:23:27 [scrapy.core.engine] DEBUG: Crawled (200) <GET https://www.mckinsey.com/industries/technology-media-and-telecommunications/our-insights/the-growing-potential-of-quantum-computing> (referer: None)\n",
      "2020-02-18 12:23:27 [scrapy.core.engine] DEBUG: Crawled (200) <GET https://www.mckinsey.com/industries/capital-projects-and-infrastructure/our-insights/the-best-ideas-from-the-2018-global-infrastructure-initiative> (referer: None)\n",
      "2020-02-18 12:23:27 [scrapy.core.engine] DEBUG: Crawled (200) <GET https://www.mckinsey.com/mgi/overview/in-the-news/the-questions-companies-should-ask-themselves-to-prepare> (referer: None)\n",
      "2020-02-18 12:23:27 [urllib3.connectionpool] DEBUG: Starting new HTTPS connection (1): www.mckinsey.com:443\n"
     ]
    },
    {
     "name": "stdout",
     "output_type": "stream",
     "text": [
      "https://www.mckinsey.com/featured-insights/asia-pacific/how-asias-rise-is-reshaping-the-world\n"
     ]
    },
    {
     "name": "stderr",
     "output_type": "stream",
     "text": [
      "2020-02-18 12:23:28 [urllib3.connectionpool] DEBUG: https://www.mckinsey.com:443 \"GET /featured-insights/asia-pacific/how-asias-rise-is-reshaping-the-world HTTP/1.1\" 200 18695\n",
      "2020-02-18 12:23:28 [urllib3.connectionpool] DEBUG: Starting new HTTPS connection (1): www.mckinsey.com:443\n"
     ]
    },
    {
     "name": "stdout",
     "output_type": "stream",
     "text": [
      "https://www.mckinsey.com/featured-insights/asia-pacific/the-future-of-women-in-asias-workforce\n"
     ]
    },
    {
     "name": "stderr",
     "output_type": "stream",
     "text": [
      "2020-02-18 12:23:29 [urllib3.connectionpool] DEBUG: https://www.mckinsey.com:443 \"GET /featured-insights/asia-pacific/the-future-of-women-in-asias-workforce HTTP/1.1\" 200 18120\n",
      "2020-02-18 12:23:29 [urllib3.connectionpool] DEBUG: Starting new HTTPS connection (1): www.mckinsey.com:443\n"
     ]
    },
    {
     "name": "stdout",
     "output_type": "stream",
     "text": [
      "https://www.mckinsey.com/business-functions/mckinsey-digital/our-insights/digital-blog/burned-by-the-bots-why-robotic-automation-is-stumbling\n"
     ]
    },
    {
     "name": "stderr",
     "output_type": "stream",
     "text": [
      "2020-02-18 12:23:30 [urllib3.connectionpool] DEBUG: https://www.mckinsey.com:443 \"GET /business-functions/mckinsey-digital/our-insights/digital-blog/burned-by-the-bots-why-robotic-automation-is-stumbling HTTP/1.1\" 200 15560\n",
      "2020-02-18 12:23:30 [scrapy.core.scraper] ERROR: Spider error processing <GET https://www.mckinsey.com/business-functions/mckinsey-digital/our-insights/digital-blog/burned-by-the-bots-why-robotic-automation-is-stumbling> (referer: None)\n",
      "Traceback (most recent call last):\n",
      "  File \"D:\\ProgramData\\Anaconda3\\lib\\site-packages\\twisted\\internet\\defer.py\", line 654, in _runCallbacks\n",
      "    current.result = callback(current.result, *args, **kw)\n",
      "  File \"<ipython-input-122-8fc83100377c>\", line 37, in parse\n",
      "    content_type = re.findall(conttype_regex, page_script)[0]\n",
      "IndexError: list index out of range\n",
      "2020-02-18 12:23:30 [urllib3.connectionpool] DEBUG: Starting new HTTPS connection (1): www.mckinsey.com:443\n"
     ]
    },
    {
     "name": "stdout",
     "output_type": "stream",
     "text": [
      "https://www.mckinsey.com/featured-insights/china/chinas-digital-economy-a-leading-global-force\n"
     ]
    },
    {
     "name": "stderr",
     "output_type": "stream",
     "text": [
      "2020-02-18 12:23:31 [urllib3.connectionpool] DEBUG: https://www.mckinsey.com:443 \"GET /featured-insights/china/chinas-digital-economy-a-leading-global-force HTTP/1.1\" 200 18453\n",
      "2020-02-18 12:23:31 [urllib3.connectionpool] DEBUG: Starting new HTTPS connection (1): www.mckinsey.com:443\n"
     ]
    },
    {
     "name": "stdout",
     "output_type": "stream",
     "text": [
      "https://www.mckinsey.com/featured-insights/digital-disruption/harnessing-automation-for-a-future-that-works\n"
     ]
    },
    {
     "name": "stderr",
     "output_type": "stream",
     "text": [
      "2020-02-18 12:23:33 [urllib3.connectionpool] DEBUG: https://www.mckinsey.com:443 \"GET /featured-insights/digital-disruption/harnessing-automation-for-a-future-that-works HTTP/1.1\" 200 19126\n",
      "2020-02-18 12:23:33 [urllib3.connectionpool] DEBUG: Starting new HTTPS connection (1): www.mckinsey.com:443\n"
     ]
    },
    {
     "name": "stdout",
     "output_type": "stream",
     "text": [
      "https://www.mckinsey.com/featured-insights/europe/stimulating-digital-adoption-in-germany\n"
     ]
    },
    {
     "name": "stderr",
     "output_type": "stream",
     "text": [
      "2020-02-18 12:23:34 [urllib3.connectionpool] DEBUG: https://www.mckinsey.com:443 \"GET /featured-insights/europe/stimulating-digital-adoption-in-germany HTTP/1.1\" 200 19019\n",
      "2020-02-18 12:23:34 [urllib3.connectionpool] DEBUG: Starting new HTTPS connection (1): www.mckinsey.com:443\n"
     ]
    },
    {
     "name": "stdout",
     "output_type": "stream",
     "text": [
      "https://www.mckinsey.com/featured-insights/future-of-work/globalization-robots-and-universal-basic-income-jason-furman-on-the-future-of-work\n"
     ]
    },
    {
     "name": "stderr",
     "output_type": "stream",
     "text": [
      "2020-02-18 12:23:34 [urllib3.connectionpool] DEBUG: https://www.mckinsey.com:443 \"GET /featured-insights/future-of-work/globalization-robots-and-universal-basic-income-jason-furman-on-the-future-of-work HTTP/1.1\" 200 18954\n",
      "2020-02-18 12:23:34 [scrapy.core.engine] DEBUG: Crawled (200) <GET https://www.mckinsey.com/features/mckinsey-center-for-future-mobility/our-people> (referer: None)\n",
      "2020-02-18 12:23:34 [scrapy.core.engine] DEBUG: Crawled (200) <GET https://www.mckinsey.com/industries/financial-services/our-insights/banking-matters/transforming-risk-efficiency-and-effectiveness> (referer: None)\n",
      "2020-02-18 12:23:35 [scrapy.core.engine] DEBUG: Crawled (200) <GET https://www.mckinsey.com/industries/financial-services/our-insights/digital-insurance> (referer: None)\n",
      "2020-02-18 12:23:35 [urllib3.connectionpool] DEBUG: Starting new HTTPS connection (1): www.mckinsey.com:443\n"
     ]
    },
    {
     "name": "stdout",
     "output_type": "stream",
     "text": [
      "https://www.mckinsey.com/industries/financial-services/our-insights/reinventing-equity-research-as-a-profit-making-business\n"
     ]
    },
    {
     "name": "stderr",
     "output_type": "stream",
     "text": [
      "2020-02-18 12:23:35 [urllib3.connectionpool] DEBUG: https://www.mckinsey.com:443 \"GET /industries/financial-services/our-insights/reinventing-equity-research-as-a-profit-making-business HTTP/1.1\" 200 19566\n",
      "2020-02-18 12:23:35 [urllib3.connectionpool] DEBUG: Starting new HTTPS connection (1): www.mckinsey.com:443\n"
     ]
    },
    {
     "name": "stdout",
     "output_type": "stream",
     "text": [
      "https://www.mckinsey.com/industries/retail/our-insights/what-radical-transparency-could-mean-for-the-fashion-industry\n"
     ]
    },
    {
     "name": "stderr",
     "output_type": "stream",
     "text": [
      "2020-02-18 12:23:36 [urllib3.connectionpool] DEBUG: https://www.mckinsey.com:443 \"GET /industries/retail/our-insights/what-radical-transparency-could-mean-for-the-fashion-industry HTTP/1.1\" 200 16890\n",
      "2020-02-18 12:23:36 [urllib3.connectionpool] DEBUG: Starting new HTTPS connection (1): www.mckinsey.com:443\n"
     ]
    },
    {
     "name": "stdout",
     "output_type": "stream",
     "text": [
      "https://www.mckinsey.com/industries/technology-media-and-telecommunications/our-insights/the-growing-potential-of-quantum-computing\n"
     ]
    },
    {
     "name": "stderr",
     "output_type": "stream",
     "text": [
      "2020-02-18 12:23:37 [urllib3.connectionpool] DEBUG: https://www.mckinsey.com:443 \"GET /industries/technology-media-and-telecommunications/our-insights/the-growing-potential-of-quantum-computing HTTP/1.1\" 200 16913\n",
      "2020-02-18 12:23:37 [scrapy.core.scraper] ERROR: Spider error processing <GET https://www.mckinsey.com/industries/technology-media-and-telecommunications/our-insights/the-growing-potential-of-quantum-computing> (referer: None)\n",
      "Traceback (most recent call last):\n",
      "  File \"D:\\ProgramData\\Anaconda3\\lib\\site-packages\\twisted\\internet\\defer.py\", line 654, in _runCallbacks\n",
      "    current.result = callback(current.result, *args, **kw)\n",
      "  File \"<ipython-input-122-8fc83100377c>\", line 41, in parse\n",
      "    page_date = re.findall(date_regex, page_script)[0]\n",
      "IndexError: list index out of range\n",
      "2020-02-18 12:23:37 [urllib3.connectionpool] DEBUG: Starting new HTTPS connection (1): www.mckinsey.com:443\n"
     ]
    },
    {
     "name": "stdout",
     "output_type": "stream",
     "text": [
      "https://www.mckinsey.com/industries/capital-projects-and-infrastructure/our-insights/the-best-ideas-from-the-2018-global-infrastructure-initiative\n"
     ]
    },
    {
     "name": "stderr",
     "output_type": "stream",
     "text": [
      "2020-02-18 12:23:38 [urllib3.connectionpool] DEBUG: https://www.mckinsey.com:443 \"GET /industries/capital-projects-and-infrastructure/our-insights/the-best-ideas-from-the-2018-global-infrastructure-initiative HTTP/1.1\" 200 17559\n",
      "2020-02-18 12:23:38 [urllib3.connectionpool] DEBUG: Starting new HTTPS connection (1): www.mckinsey.com:443\n"
     ]
    },
    {
     "name": "stdout",
     "output_type": "stream",
     "text": [
      "https://www.mckinsey.com/mgi/overview/in-the-news/the-questions-companies-should-ask-themselves-to-prepare\n"
     ]
    },
    {
     "name": "stderr",
     "output_type": "stream",
     "text": [
      "2020-02-18 12:23:39 [urllib3.connectionpool] DEBUG: https://www.mckinsey.com:443 \"GET /mgi/overview/in-the-news/the-questions-companies-should-ask-themselves-to-prepare HTTP/1.1\" 200 16335\n",
      "2020-02-18 12:23:39 [scrapy.core.engine] DEBUG: Crawled (200) <GET https://www.mckinsey.com/business-functions/mckinsey-digital/our-people> (referer: None)\n",
      "2020-02-18 12:23:39 [scrapy.core.engine] DEBUG: Crawled (200) <GET https://www.mckinsey.com/business-functions/transformation/our-people> (referer: None)\n",
      "2020-02-18 12:23:39 [scrapy.core.engine] DEBUG: Crawled (200) <GET https://www.mckinsey.com/our-people/susan-lund> (referer: None)\n",
      "2020-02-18 12:23:39 [scrapy.core.engine] DEBUG: Crawled (200) <GET https://www.mckinsey.com/business-functions/risk/our-insights/a-new-posture-for-cybersecurity-in-a-networked-world> (referer: None)\n",
      "2020-02-18 12:23:39 [scrapy.core.engine] DEBUG: Crawled (200) <GET https://www.mckinsey.com/industries/financial-services/our-insights/hidden-figures-the-quiet-discipline-of-managing-people-using-data> (referer: None)\n",
      "2020-02-18 12:23:39 [urllib3.connectionpool] DEBUG: Starting new HTTPS connection (1): www.mckinsey.com:443\n"
     ]
    },
    {
     "name": "stdout",
     "output_type": "stream",
     "text": [
      "https://www.mckinsey.com/features/mckinsey-center-for-future-mobility/our-people\n"
     ]
    },
    {
     "name": "stderr",
     "output_type": "stream",
     "text": [
      "2020-02-18 12:23:41 [urllib3.connectionpool] DEBUG: https://www.mckinsey.com:443 \"GET /features/mckinsey-center-for-future-mobility/our-people HTTP/1.1\" 200 16488\n",
      "2020-02-18 12:23:41 [scrapy.core.scraper] ERROR: Spider error processing <GET https://www.mckinsey.com/features/mckinsey-center-for-future-mobility/our-people> (referer: None)\n",
      "Traceback (most recent call last):\n",
      "  File \"D:\\ProgramData\\Anaconda3\\lib\\site-packages\\twisted\\internet\\defer.py\", line 654, in _runCallbacks\n",
      "    current.result = callback(current.result, *args, **kw)\n",
      "  File \"<ipython-input-122-8fc83100377c>\", line 37, in parse\n",
      "    content_type = re.findall(conttype_regex, page_script)[0]\n",
      "IndexError: list index out of range\n",
      "2020-02-18 12:23:41 [urllib3.connectionpool] DEBUG: Starting new HTTPS connection (1): www.mckinsey.com:443\n"
     ]
    },
    {
     "name": "stdout",
     "output_type": "stream",
     "text": [
      "https://www.mckinsey.com/industries/financial-services/our-insights/banking-matters/transforming-risk-efficiency-and-effectiveness\n"
     ]
    },
    {
     "name": "stderr",
     "output_type": "stream",
     "text": [
      "2020-02-18 12:23:43 [urllib3.connectionpool] DEBUG: https://www.mckinsey.com:443 \"GET /industries/financial-services/our-insights/banking-matters/transforming-risk-efficiency-and-effectiveness HTTP/1.1\" 200 15095\n",
      "2020-02-18 12:23:43 [scrapy.core.scraper] ERROR: Spider error processing <GET https://www.mckinsey.com/industries/financial-services/our-insights/banking-matters/transforming-risk-efficiency-and-effectiveness> (referer: None)\n",
      "Traceback (most recent call last):\n",
      "  File \"D:\\ProgramData\\Anaconda3\\lib\\site-packages\\twisted\\internet\\defer.py\", line 654, in _runCallbacks\n",
      "    current.result = callback(current.result, *args, **kw)\n",
      "  File \"<ipython-input-122-8fc83100377c>\", line 37, in parse\n",
      "    content_type = re.findall(conttype_regex, page_script)[0]\n",
      "IndexError: list index out of range\n",
      "2020-02-18 12:23:43 [urllib3.connectionpool] DEBUG: Starting new HTTPS connection (1): www.mckinsey.com:443\n"
     ]
    },
    {
     "name": "stdout",
     "output_type": "stream",
     "text": [
      "https://www.mckinsey.com/industries/financial-services/our-insights/digital-insurance\n"
     ]
    },
    {
     "name": "stderr",
     "output_type": "stream",
     "text": [
      "2020-02-18 12:23:44 [urllib3.connectionpool] DEBUG: https://www.mckinsey.com:443 \"GET /industries/financial-services/our-insights/digital-insurance HTTP/1.1\" 200 20051\n",
      "2020-02-18 12:23:44 [scrapy.core.scraper] ERROR: Spider error processing <GET https://www.mckinsey.com/industries/financial-services/our-insights/digital-insurance> (referer: None)\n",
      "Traceback (most recent call last):\n",
      "  File \"D:\\ProgramData\\Anaconda3\\lib\\site-packages\\twisted\\internet\\defer.py\", line 654, in _runCallbacks\n",
      "    current.result = callback(current.result, *args, **kw)\n",
      "  File \"<ipython-input-122-8fc83100377c>\", line 41, in parse\n",
      "    page_date = re.findall(date_regex, page_script)[0]\n",
      "IndexError: list index out of range\n",
      "2020-02-18 12:23:44 [scrapy.core.engine] DEBUG: Crawled (200) <GET https://www.mckinsey.com/spContent/connected_homes/index.html> (referer: None)\n",
      "2020-02-18 12:23:44 [scrapy.core.engine] DEBUG: Crawled (200) <GET https://www.mckinsey.com/business-functions/operations/our-insights/driving-value-creation-through-ga-five-ways-to-rethink-your-approach> (referer: None)\n",
      "2020-02-18 12:23:44 [scrapy.core.engine] DEBUG: Crawled (200) <GET https://www.mckinsey.com/business-functions/operations/our-insights/ops-4-0-fueling-the-next-20-percent-productivity-rise-with-digital-analytics> (referer: None)\n",
      "2020-02-18 12:23:44 [urllib3.connectionpool] DEBUG: Starting new HTTPS connection (1): www.mckinsey.com:443\n"
     ]
    },
    {
     "name": "stdout",
     "output_type": "stream",
     "text": [
      "https://www.mckinsey.com/business-functions/mckinsey-digital/our-people\n"
     ]
    },
    {
     "name": "stderr",
     "output_type": "stream",
     "text": [
      "2020-02-18 12:23:45 [urllib3.connectionpool] DEBUG: https://www.mckinsey.com:443 \"GET /business-functions/mckinsey-digital/our-people HTTP/1.1\" 200 31188\n",
      "2020-02-18 12:23:45 [scrapy.core.scraper] ERROR: Spider error processing <GET https://www.mckinsey.com/business-functions/mckinsey-digital/our-people> (referer: None)\n",
      "Traceback (most recent call last):\n",
      "  File \"D:\\ProgramData\\Anaconda3\\lib\\site-packages\\twisted\\internet\\defer.py\", line 654, in _runCallbacks\n",
      "    current.result = callback(current.result, *args, **kw)\n",
      "  File \"<ipython-input-122-8fc83100377c>\", line 37, in parse\n",
      "    content_type = re.findall(conttype_regex, page_script)[0]\n",
      "IndexError: list index out of range\n",
      "2020-02-18 12:23:45 [urllib3.connectionpool] DEBUG: Starting new HTTPS connection (1): www.mckinsey.com:443\n"
     ]
    },
    {
     "name": "stdout",
     "output_type": "stream",
     "text": [
      "https://www.mckinsey.com/business-functions/transformation/our-people\n"
     ]
    },
    {
     "name": "stderr",
     "output_type": "stream",
     "text": [
      "2020-02-18 12:23:45 [urllib3.connectionpool] DEBUG: https://www.mckinsey.com:443 \"GET /business-functions/transformation/our-people HTTP/1.1\" 200 32364\n",
      "2020-02-18 12:23:46 [scrapy.core.scraper] ERROR: Spider error processing <GET https://www.mckinsey.com/business-functions/transformation/our-people> (referer: None)\n",
      "Traceback (most recent call last):\n",
      "  File \"D:\\ProgramData\\Anaconda3\\lib\\site-packages\\twisted\\internet\\defer.py\", line 654, in _runCallbacks\n",
      "    current.result = callback(current.result, *args, **kw)\n",
      "  File \"<ipython-input-122-8fc83100377c>\", line 37, in parse\n",
      "    content_type = re.findall(conttype_regex, page_script)[0]\n",
      "IndexError: list index out of range\n",
      "2020-02-18 12:23:46 [urllib3.connectionpool] DEBUG: Starting new HTTPS connection (1): www.mckinsey.com:443\n"
     ]
    },
    {
     "name": "stdout",
     "output_type": "stream",
     "text": [
      "https://www.mckinsey.com/our-people/susan-lund\n"
     ]
    },
    {
     "name": "stderr",
     "output_type": "stream",
     "text": [
      "2020-02-18 12:23:47 [urllib3.connectionpool] DEBUG: https://www.mckinsey.com:443 \"GET /our-people/susan-lund HTTP/1.1\" 200 18415\n",
      "2020-02-18 12:23:47 [urllib3.connectionpool] DEBUG: Starting new HTTPS connection (1): www.mckinsey.com:443\n"
     ]
    },
    {
     "name": "stdout",
     "output_type": "stream",
     "text": [
      "https://www.mckinsey.com/business-functions/risk/our-insights/a-new-posture-for-cybersecurity-in-a-networked-world\n"
     ]
    },
    {
     "name": "stderr",
     "output_type": "stream",
     "text": [
      "2020-02-18 12:23:48 [urllib3.connectionpool] DEBUG: https://www.mckinsey.com:443 \"GET /business-functions/risk/our-insights/a-new-posture-for-cybersecurity-in-a-networked-world HTTP/1.1\" 200 23304\n",
      "2020-02-18 12:23:48 [urllib3.connectionpool] DEBUG: Starting new HTTPS connection (1): www.mckinsey.com:443\n"
     ]
    },
    {
     "name": "stdout",
     "output_type": "stream",
     "text": [
      "https://www.mckinsey.com/industries/financial-services/our-insights/hidden-figures-the-quiet-discipline-of-managing-people-using-data\n"
     ]
    },
    {
     "name": "stderr",
     "output_type": "stream",
     "text": [
      "2020-02-18 12:23:49 [urllib3.connectionpool] DEBUG: https://www.mckinsey.com:443 \"GET /industries/financial-services/our-insights/hidden-figures-the-quiet-discipline-of-managing-people-using-data HTTP/1.1\" 200 23062\n",
      "2020-02-18 12:23:49 [scrapy.core.engine] DEBUG: Crawled (200) <GET https://www.mckinsey.com/featured-insights/employment-and-growth/a-productivity-perspective-on-the-future-of-growth> (referer: None)\n",
      "2020-02-18 12:23:49 [scrapy.core.engine] DEBUG: Crawled (200) <GET https://www.mckinsey.com/industries/automotive-and-assembly/our-insights/reserve-a-seat-the-future-of-mobility-is-arriving-early> (referer: None)\n",
      "2020-02-18 12:23:49 [urllib3.connectionpool] DEBUG: Starting new HTTPS connection (1): www.mckinsey.com:443\n"
     ]
    },
    {
     "name": "stdout",
     "output_type": "stream",
     "text": [
      "https://www.mckinsey.com/spContent/connected_homes/index.html\n"
     ]
    },
    {
     "name": "stderr",
     "output_type": "stream",
     "text": [
      "2020-02-18 12:23:49 [urllib3.connectionpool] DEBUG: https://www.mckinsey.com:443 \"GET /spContent/connected_homes/index.html HTTP/1.1\" 200 26890\n",
      "2020-02-18 12:23:49 [scrapy.core.scraper] ERROR: Spider error processing <GET https://www.mckinsey.com/spContent/connected_homes/index.html> (referer: None)\n",
      "Traceback (most recent call last):\n",
      "  File \"D:\\ProgramData\\Anaconda3\\lib\\site-packages\\twisted\\internet\\defer.py\", line 654, in _runCallbacks\n",
      "    current.result = callback(current.result, *args, **kw)\n",
      "  File \"<ipython-input-122-8fc83100377c>\", line 37, in parse\n",
      "    content_type = re.findall(conttype_regex, page_script)[0]\n",
      "IndexError: list index out of range\n",
      "2020-02-18 12:23:49 [urllib3.connectionpool] DEBUG: Starting new HTTPS connection (1): www.mckinsey.com:443\n"
     ]
    },
    {
     "name": "stdout",
     "output_type": "stream",
     "text": [
      "https://www.mckinsey.com/business-functions/operations/our-insights/driving-value-creation-through-ga-five-ways-to-rethink-your-approach\n"
     ]
    },
    {
     "name": "stderr",
     "output_type": "stream",
     "text": [
      "2020-02-18 12:23:50 [urllib3.connectionpool] DEBUG: https://www.mckinsey.com:443 \"GET /business-functions/operations/our-insights/driving-value-creation-through-ga-five-ways-to-rethink-your-approach HTTP/1.1\" 200 22520\n",
      "2020-02-18 12:23:50 [urllib3.connectionpool] DEBUG: Starting new HTTPS connection (1): www.mckinsey.com:443\n"
     ]
    },
    {
     "name": "stdout",
     "output_type": "stream",
     "text": [
      "https://www.mckinsey.com/business-functions/operations/our-insights/ops-4-0-fueling-the-next-20-percent-productivity-rise-with-digital-analytics\n"
     ]
    },
    {
     "name": "stderr",
     "output_type": "stream",
     "text": [
      "2020-02-18 12:23:51 [urllib3.connectionpool] DEBUG: https://www.mckinsey.com:443 \"GET /business-functions/operations/our-insights/ops-4-0-fueling-the-next-20-percent-productivity-rise-with-digital-analytics HTTP/1.1\" 200 23786\n",
      "2020-02-18 12:23:51 [scrapy.core.engine] DEBUG: Crawled (200) <GET https://www.mckinsey.com/business-functions/strategy-and-corporate-finance/our-insights/jumpstart-a-better-way-to-do-strategy> (referer: None)\n",
      "2020-02-18 12:23:51 [urllib3.connectionpool] DEBUG: Starting new HTTPS connection (1): www.mckinsey.com:443\n"
     ]
    },
    {
     "name": "stdout",
     "output_type": "stream",
     "text": [
      "https://www.mckinsey.com/featured-insights/employment-and-growth/a-productivity-perspective-on-the-future-of-growth\n"
     ]
    },
    {
     "name": "stderr",
     "output_type": "stream",
     "text": [
      "2020-02-18 12:23:52 [urllib3.connectionpool] DEBUG: https://www.mckinsey.com:443 \"GET /featured-insights/employment-and-growth/a-productivity-perspective-on-the-future-of-growth HTTP/1.1\" 200 23818\n",
      "2020-02-18 12:23:52 [urllib3.connectionpool] DEBUG: Starting new HTTPS connection (1): www.mckinsey.com:443\n"
     ]
    },
    {
     "name": "stdout",
     "output_type": "stream",
     "text": [
      "https://www.mckinsey.com/industries/automotive-and-assembly/our-insights/reserve-a-seat-the-future-of-mobility-is-arriving-early\n"
     ]
    },
    {
     "name": "stderr",
     "output_type": "stream",
     "text": [
      "2020-02-18 12:23:54 [urllib3.connectionpool] DEBUG: https://www.mckinsey.com:443 \"GET /industries/automotive-and-assembly/our-insights/reserve-a-seat-the-future-of-mobility-is-arriving-early HTTP/1.1\" 200 22886\n",
      "2020-02-18 12:23:54 [scrapy.core.engine] DEBUG: Crawled (200) <GET https://www.mckinsey.com/industries/advanced-electronics/our-insights/flow-control-sector-at-a-crossroads> (referer: None)\n",
      "2020-02-18 12:23:54 [urllib3.connectionpool] DEBUG: Starting new HTTPS connection (1): www.mckinsey.com:443\n"
     ]
    },
    {
     "name": "stdout",
     "output_type": "stream",
     "text": [
      "https://www.mckinsey.com/business-functions/strategy-and-corporate-finance/our-insights/jumpstart-a-better-way-to-do-strategy\n"
     ]
    },
    {
     "name": "stderr",
     "output_type": "stream",
     "text": [
      "2020-02-18 12:23:55 [urllib3.connectionpool] DEBUG: https://www.mckinsey.com:443 \"GET /business-functions/strategy-and-corporate-finance/our-insights/jumpstart-a-better-way-to-do-strategy HTTP/1.1\" 200 23526\n",
      "2020-02-18 12:23:55 [scrapy.core.engine] DEBUG: Crawled (200) <GET https://www.mckinsey.com/industries/chemicals/our-insights/the-next-big-thing-quantum-computings-potential-impact-on-chemicals> (referer: None)\n",
      "2020-02-18 12:23:55 [urllib3.connectionpool] DEBUG: Starting new HTTPS connection (1): www.mckinsey.com:443\n"
     ]
    },
    {
     "name": "stdout",
     "output_type": "stream",
     "text": [
      "https://www.mckinsey.com/industries/advanced-electronics/our-insights/flow-control-sector-at-a-crossroads\n"
     ]
    },
    {
     "name": "stderr",
     "output_type": "stream",
     "text": [
      "2020-02-18 12:23:56 [urllib3.connectionpool] DEBUG: https://www.mckinsey.com:443 \"GET /industries/advanced-electronics/our-insights/flow-control-sector-at-a-crossroads HTTP/1.1\" 200 21341\n",
      "2020-02-18 12:23:56 [scrapy.core.engine] DEBUG: Crawled (200) <GET https://www.mckinsey.com/industries/pharmaceuticals-and-medical-products/our-insights/the-rise-of-the-next-generation-launch-room> (referer: None)\n",
      "2020-02-18 12:23:56 [urllib3.connectionpool] DEBUG: Starting new HTTPS connection (1): www.mckinsey.com:443\n"
     ]
    },
    {
     "name": "stdout",
     "output_type": "stream",
     "text": [
      "https://www.mckinsey.com/industries/chemicals/our-insights/the-next-big-thing-quantum-computings-potential-impact-on-chemicals\n"
     ]
    },
    {
     "name": "stderr",
     "output_type": "stream",
     "text": [
      "2020-02-18 12:23:56 [urllib3.connectionpool] DEBUG: https://www.mckinsey.com:443 \"GET /industries/chemicals/our-insights/the-next-big-thing-quantum-computings-potential-impact-on-chemicals HTTP/1.1\" 200 22475\n",
      "2020-02-18 12:23:56 [urllib3.connectionpool] DEBUG: Starting new HTTPS connection (1): www.mckinsey.com:443\n"
     ]
    },
    {
     "name": "stdout",
     "output_type": "stream",
     "text": [
      "https://www.mckinsey.com/industries/pharmaceuticals-and-medical-products/our-insights/the-rise-of-the-next-generation-launch-room\n"
     ]
    },
    {
     "name": "stderr",
     "output_type": "stream",
     "text": [
      "2020-02-18 12:23:57 [urllib3.connectionpool] DEBUG: https://www.mckinsey.com:443 \"GET /industries/pharmaceuticals-and-medical-products/our-insights/the-rise-of-the-next-generation-launch-room HTTP/1.1\" 200 22281\n",
      "2020-02-18 12:23:57 [scrapy.core.engine] DEBUG: Crawled (200) <GET https://www.mckinsey.com/business-functions/mckinsey-digital/our-insights/taking-digital-transformation-to-the-limits-at-koc-holding> (referer: None)\n",
      "2020-02-18 12:23:57 [urllib3.connectionpool] DEBUG: Starting new HTTPS connection (1): www.mckinsey.com:443\n"
     ]
    },
    {
     "name": "stdout",
     "output_type": "stream",
     "text": [
      "https://www.mckinsey.com/business-functions/mckinsey-digital/our-insights/taking-digital-transformation-to-the-limits-at-koc-holding\n"
     ]
    },
    {
     "name": "stderr",
     "output_type": "stream",
     "text": [
      "2020-02-18 12:23:59 [urllib3.connectionpool] DEBUG: https://www.mckinsey.com:443 \"GET /business-functions/mckinsey-digital/our-insights/taking-digital-transformation-to-the-limits-at-koc-holding HTTP/1.1\" 200 18386\n",
      "2020-02-18 12:23:59 [scrapy.core.engine] DEBUG: Crawled (200) <GET https://www.mckinsey.com/industries/automotive-and-assembly/our-insights/the-future-of-mobility-in-india-challenges-and-opportunities-for-the-auto-component-industry> (referer: None)\n",
      "2020-02-18 12:23:59 [scrapy.core.engine] DEBUG: Crawled (200) <GET https://www.mckinsey.com/locations/asia/greater-china/our-insights/perspectives-on-china-blog/why-its-no-longer-business-as-usual-for-chinese-companies> (referer: None)\n",
      "2020-02-18 12:23:59 [scrapy.core.engine] DEBUG: Crawled (200) <GET https://www.mckinsey.com/featured-insights/china/reinvention-or-regrets-hong-kong-faces-a-fork-in-the-road> (referer: None)\n",
      "2020-02-18 12:23:59 [scrapy.core.engine] DEBUG: Crawled (200) <GET https://www.mckinsey.com/business-functions/operations/our-insights/lever-five-it-enablement> (referer: None)\n",
      "2020-02-18 12:23:59 [scrapy.core.engine] DEBUG: Crawled (200) <GET https://www.mckinsey.com/industries/technology-media-and-telecommunications/our-insights/closing-frances-100-billion-digital-gap> (referer: None)\n",
      "2020-02-18 12:23:59 [urllib3.connectionpool] DEBUG: Starting new HTTPS connection (1): www.mckinsey.com:443\n"
     ]
    },
    {
     "name": "stdout",
     "output_type": "stream",
     "text": [
      "https://www.mckinsey.com/industries/automotive-and-assembly/our-insights/the-future-of-mobility-in-india-challenges-and-opportunities-for-the-auto-component-industry\n"
     ]
    },
    {
     "name": "stderr",
     "output_type": "stream",
     "text": [
      "2020-02-18 12:24:01 [urllib3.connectionpool] DEBUG: https://www.mckinsey.com:443 \"GET /industries/automotive-and-assembly/our-insights/the-future-of-mobility-in-india-challenges-and-opportunities-for-the-auto-component-industry HTTP/1.1\" 200 16804\n",
      "2020-02-18 12:24:01 [scrapy.core.engine] DEBUG: Crawled (200) <GET https://www.mckinsey.com/about-us/new-at-mckinsey-blog/at-these-factories-robots-are-making-jobs-better-for-workers> (referer: None)\n",
      "2020-02-18 12:24:01 [scrapy.core.engine] DEBUG: Crawled (200) <GET https://www.mckinsey.com/industries/capital-projects-and-infrastructure/our-insights/whos-at-the-wheel-changing-culture-and-leadership-to-support-innovation-in-autonomous-vehicles> (referer: None)\n",
      "2020-02-18 12:24:01 [scrapy.core.engine] DEBUG: Crawled (200) <GET https://www.mckinsey.com/industries/financial-services/our-insights/banks-in-the-changing-world-of-financial-intermediation> (referer: None)\n",
      "2020-02-18 12:24:01 [scrapy.core.engine] DEBUG: Crawled (200) <GET https://www.mckinsey.com/industries/oil-and-gas/our-insights/positioning-for-growth-in-the-fast-changing-lubes-market> (referer: None)\n",
      "2020-02-18 12:24:01 [scrapy.core.engine] DEBUG: Crawled (200) <GET https://www.mckinsey.com/business-functions/risk/riskminds-international> (referer: None)\n",
      "2020-02-18 12:24:01 [scrapy.core.engine] DEBUG: Crawled (200) <GET https://www.mckinsey.com/industries/pharmaceuticals-and-medical-products/our-insights/a-vision-for-medical-affairs-in-2025> (referer: None)\n",
      "2020-02-18 12:24:01 [urllib3.connectionpool] DEBUG: Starting new HTTPS connection (1): www.mckinsey.com:443\n"
     ]
    },
    {
     "name": "stdout",
     "output_type": "stream",
     "text": [
      "https://www.mckinsey.com/locations/asia/greater-china/our-insights/perspectives-on-china-blog/why-its-no-longer-business-as-usual-for-chinese-companies\n"
     ]
    },
    {
     "name": "stderr",
     "output_type": "stream",
     "text": [
      "2020-02-18 12:24:01 [urllib3.connectionpool] DEBUG: https://www.mckinsey.com:443 \"GET /locations/asia/greater-china/our-insights/perspectives-on-china-blog/why-its-no-longer-business-as-usual-for-chinese-companies HTTP/1.1\" 200 15887\n",
      "2020-02-18 12:24:01 [scrapy.core.scraper] ERROR: Spider error processing <GET https://www.mckinsey.com/locations/asia/greater-china/our-insights/perspectives-on-china-blog/why-its-no-longer-business-as-usual-for-chinese-companies> (referer: None)\n",
      "Traceback (most recent call last):\n",
      "  File \"D:\\ProgramData\\Anaconda3\\lib\\site-packages\\twisted\\internet\\defer.py\", line 654, in _runCallbacks\n",
      "    current.result = callback(current.result, *args, **kw)\n",
      "  File \"<ipython-input-122-8fc83100377c>\", line 37, in parse\n",
      "    content_type = re.findall(conttype_regex, page_script)[0]\n",
      "IndexError: list index out of range\n",
      "2020-02-18 12:24:01 [urllib3.connectionpool] DEBUG: Starting new HTTPS connection (1): www.mckinsey.com:443\n"
     ]
    },
    {
     "name": "stdout",
     "output_type": "stream",
     "text": [
      "https://www.mckinsey.com/featured-insights/china/reinvention-or-regrets-hong-kong-faces-a-fork-in-the-road\n"
     ]
    },
    {
     "name": "stderr",
     "output_type": "stream",
     "text": [
      "2020-02-18 12:24:02 [urllib3.connectionpool] DEBUG: https://www.mckinsey.com:443 \"GET /featured-insights/china/reinvention-or-regrets-hong-kong-faces-a-fork-in-the-road HTTP/1.1\" 200 19452\n",
      "2020-02-18 12:24:02 [urllib3.connectionpool] DEBUG: Starting new HTTPS connection (1): www.mckinsey.com:443\n"
     ]
    },
    {
     "name": "stdout",
     "output_type": "stream",
     "text": [
      "https://www.mckinsey.com/business-functions/operations/our-insights/lever-five-it-enablement\n"
     ]
    },
    {
     "name": "stderr",
     "output_type": "stream",
     "text": [
      "2020-02-18 12:24:03 [urllib3.connectionpool] DEBUG: https://www.mckinsey.com:443 \"GET /business-functions/operations/our-insights/lever-five-it-enablement HTTP/1.1\" 200 17229\n",
      "2020-02-18 12:24:03 [scrapy.core.scraper] ERROR: Spider error processing <GET https://www.mckinsey.com/business-functions/operations/our-insights/lever-five-it-enablement> (referer: None)\n",
      "Traceback (most recent call last):\n",
      "  File \"D:\\ProgramData\\Anaconda3\\lib\\site-packages\\twisted\\internet\\defer.py\", line 654, in _runCallbacks\n",
      "    current.result = callback(current.result, *args, **kw)\n",
      "  File \"<ipython-input-122-8fc83100377c>\", line 41, in parse\n",
      "    page_date = re.findall(date_regex, page_script)[0]\n",
      "IndexError: list index out of range\n",
      "2020-02-18 12:24:03 [urllib3.connectionpool] DEBUG: Starting new HTTPS connection (1): www.mckinsey.com:443\n"
     ]
    },
    {
     "name": "stdout",
     "output_type": "stream",
     "text": [
      "https://www.mckinsey.com/industries/technology-media-and-telecommunications/our-insights/closing-frances-100-billion-digital-gap\n"
     ]
    },
    {
     "name": "stderr",
     "output_type": "stream",
     "text": [
      "2020-02-18 12:24:04 [urllib3.connectionpool] DEBUG: https://www.mckinsey.com:443 \"GET /industries/technology-media-and-telecommunications/our-insights/closing-frances-100-billion-digital-gap HTTP/1.1\" 200 17627\n",
      "2020-02-18 12:24:04 [scrapy.core.engine] DEBUG: Crawled (200) <GET https://www.mckinsey.com/industries/financial-services/our-insights/insurance-blog/five-themes-from-insuretech-connect-2019> (referer: None)\n",
      "2020-02-18 12:24:04 [urllib3.connectionpool] DEBUG: Starting new HTTPS connection (1): www.mckinsey.com:443\n"
     ]
    },
    {
     "name": "stdout",
     "output_type": "stream",
     "text": [
      "https://www.mckinsey.com/about-us/new-at-mckinsey-blog/at-these-factories-robots-are-making-jobs-better-for-workers\n"
     ]
    },
    {
     "name": "stderr",
     "output_type": "stream",
     "text": [
      "2020-02-18 12:24:05 [urllib3.connectionpool] DEBUG: https://www.mckinsey.com:443 \"GET /about-us/new-at-mckinsey-blog/at-these-factories-robots-are-making-jobs-better-for-workers HTTP/1.1\" 200 17666\n",
      "2020-02-18 12:24:05 [scrapy.core.scraper] ERROR: Spider error processing <GET https://www.mckinsey.com/about-us/new-at-mckinsey-blog/at-these-factories-robots-are-making-jobs-better-for-workers> (referer: None)\n",
      "Traceback (most recent call last):\n",
      "  File \"D:\\ProgramData\\Anaconda3\\lib\\site-packages\\twisted\\internet\\defer.py\", line 654, in _runCallbacks\n",
      "    current.result = callback(current.result, *args, **kw)\n",
      "  File \"<ipython-input-122-8fc83100377c>\", line 37, in parse\n",
      "    content_type = re.findall(conttype_regex, page_script)[0]\n",
      "IndexError: list index out of range\n",
      "2020-02-18 12:24:05 [urllib3.connectionpool] DEBUG: Starting new HTTPS connection (1): www.mckinsey.com:443\n"
     ]
    },
    {
     "name": "stdout",
     "output_type": "stream",
     "text": [
      "https://www.mckinsey.com/industries/capital-projects-and-infrastructure/our-insights/whos-at-the-wheel-changing-culture-and-leadership-to-support-innovation-in-autonomous-vehicles\n"
     ]
    },
    {
     "name": "stderr",
     "output_type": "stream",
     "text": [
      "2020-02-18 12:24:06 [urllib3.connectionpool] DEBUG: https://www.mckinsey.com:443 \"GET /industries/capital-projects-and-infrastructure/our-insights/whos-at-the-wheel-changing-culture-and-leadership-to-support-innovation-in-autonomous-vehicles HTTP/1.1\" 200 17523\n",
      "2020-02-18 12:24:06 [urllib3.connectionpool] DEBUG: Starting new HTTPS connection (1): www.mckinsey.com:443\n"
     ]
    },
    {
     "name": "stdout",
     "output_type": "stream",
     "text": [
      "https://www.mckinsey.com/industries/financial-services/our-insights/banks-in-the-changing-world-of-financial-intermediation\n"
     ]
    },
    {
     "name": "stderr",
     "output_type": "stream",
     "text": [
      "2020-02-18 12:24:07 [urllib3.connectionpool] DEBUG: https://www.mckinsey.com:443 \"GET /industries/financial-services/our-insights/banks-in-the-changing-world-of-financial-intermediation HTTP/1.1\" 200 21049\n",
      "2020-02-18 12:24:07 [urllib3.connectionpool] DEBUG: Starting new HTTPS connection (1): www.mckinsey.com:443\n"
     ]
    },
    {
     "name": "stdout",
     "output_type": "stream",
     "text": [
      "https://www.mckinsey.com/industries/oil-and-gas/our-insights/positioning-for-growth-in-the-fast-changing-lubes-market\n"
     ]
    },
    {
     "name": "stderr",
     "output_type": "stream",
     "text": [
      "2020-02-18 12:24:08 [urllib3.connectionpool] DEBUG: https://www.mckinsey.com:443 \"GET /industries/oil-and-gas/our-insights/positioning-for-growth-in-the-fast-changing-lubes-market HTTP/1.1\" 200 17626\n",
      "2020-02-18 12:24:08 [urllib3.connectionpool] DEBUG: Starting new HTTPS connection (1): www.mckinsey.com:443\n"
     ]
    },
    {
     "name": "stdout",
     "output_type": "stream",
     "text": [
      "https://www.mckinsey.com/business-functions/risk/riskminds-international\n"
     ]
    },
    {
     "name": "stderr",
     "output_type": "stream",
     "text": [
      "2020-02-18 12:24:08 [urllib3.connectionpool] DEBUG: https://www.mckinsey.com:443 \"GET /business-functions/risk/riskminds-international HTTP/1.1\" 200 15765\n",
      "2020-02-18 12:24:08 [scrapy.core.scraper] ERROR: Spider error processing <GET https://www.mckinsey.com/business-functions/risk/riskminds-international> (referer: None)\n",
      "Traceback (most recent call last):\n",
      "  File \"D:\\ProgramData\\Anaconda3\\lib\\site-packages\\twisted\\internet\\defer.py\", line 654, in _runCallbacks\n",
      "    current.result = callback(current.result, *args, **kw)\n",
      "  File \"<ipython-input-122-8fc83100377c>\", line 37, in parse\n",
      "    content_type = re.findall(conttype_regex, page_script)[0]\n",
      "IndexError: list index out of range\n",
      "2020-02-18 12:24:08 [urllib3.connectionpool] DEBUG: Starting new HTTPS connection (1): www.mckinsey.com:443\n"
     ]
    },
    {
     "name": "stdout",
     "output_type": "stream",
     "text": [
      "https://www.mckinsey.com/industries/pharmaceuticals-and-medical-products/our-insights/a-vision-for-medical-affairs-in-2025\n"
     ]
    },
    {
     "name": "stderr",
     "output_type": "stream",
     "text": [
      "2020-02-18 12:24:09 [urllib3.connectionpool] DEBUG: https://www.mckinsey.com:443 \"GET /industries/pharmaceuticals-and-medical-products/our-insights/a-vision-for-medical-affairs-in-2025 HTTP/1.1\" 200 16513\n",
      "2020-02-18 12:24:09 [scrapy.core.engine] DEBUG: Crawled (200) <GET https://www.mckinsey.com/industries/public-sector/our-insights/closing-the-future-skills-gap> (referer: None)\n",
      "2020-02-18 12:24:09 [scrapy.core.engine] DEBUG: Crawled (200) <GET https://www.mckinsey.com/industries/retail/our-insights/the-need-for-speed-capturing-todays-fashion-consumer> (referer: None)\n",
      "2020-02-18 12:24:09 [scrapy.core.engine] DEBUG: Crawled (200) <GET https://www.mckinsey.com/industries/public-sector/our-insights/supporting-job-growth-and-worker-prosperity-in-a-new-era-of-automation> (referer: None)\n",
      "2020-02-18 12:24:09 [scrapy.core.engine] DEBUG: Crawled (200) <GET https://www.mckinsey.com/pl/our-insights/polisa-od-sztucznej-inteligencji> (referer: None)\n",
      "2020-02-18 12:24:09 [scrapy.core.engine] DEBUG: Crawled (200) <GET https://www.mckinsey.com/business-functions/operations/how-we-help-clients/category-analytics-solution/leading-ai-company> (referer: None)\n",
      "2020-02-18 12:24:09 [scrapy.core.engine] DEBUG: Crawled (200) <GET https://www.mckinsey.com/business-functions/organization/how-we-help-clients/ceo-portal/maximizing-ceo-effectiveness> (referer: None)\n",
      "2020-02-18 12:24:09 [scrapy.core.engine] DEBUG: Crawled (200) <GET https://www.mckinsey.com/mgi/overview/in-the-news/your-ai-efforts-wont-succeed-unless-they-benefit-employees> (referer: None)\n",
      "2020-02-18 12:24:09 [urllib3.connectionpool] DEBUG: Starting new HTTPS connection (1): www.mckinsey.com:443\n"
     ]
    },
    {
     "name": "stdout",
     "output_type": "stream",
     "text": [
      "https://www.mckinsey.com/industries/financial-services/our-insights/insurance-blog/five-themes-from-insuretech-connect-2019\n"
     ]
    },
    {
     "name": "stderr",
     "output_type": "stream",
     "text": [
      "2020-02-18 12:24:10 [urllib3.connectionpool] DEBUG: https://www.mckinsey.com:443 \"GET /industries/financial-services/our-insights/insurance-blog/five-themes-from-insuretech-connect-2019 HTTP/1.1\" 200 15761\n",
      "2020-02-18 12:24:10 [scrapy.core.scraper] ERROR: Spider error processing <GET https://www.mckinsey.com/industries/financial-services/our-insights/insurance-blog/five-themes-from-insuretech-connect-2019> (referer: None)\n",
      "Traceback (most recent call last):\n",
      "  File \"D:\\ProgramData\\Anaconda3\\lib\\site-packages\\twisted\\internet\\defer.py\", line 654, in _runCallbacks\n",
      "    current.result = callback(current.result, *args, **kw)\n",
      "  File \"<ipython-input-122-8fc83100377c>\", line 37, in parse\n",
      "    content_type = re.findall(conttype_regex, page_script)[0]\n",
      "IndexError: list index out of range\n",
      "2020-02-18 12:24:10 [scrapy.extensions.logstats] INFO: Crawled 565 pages (at 68 pages/min), scraped 0 items (at 0 items/min)\n",
      "2020-02-18 12:24:10 [scrapy.core.engine] DEBUG: Crawled (200) <GET https://www.mckinsey.com/business-functions/mckinsey-digital/our-insights/a-smart-home-is-where-the-bot-is> (referer: None)\n",
      "2020-02-18 12:24:10 [urllib3.connectionpool] DEBUG: Starting new HTTPS connection (1): www.mckinsey.com:443\n"
     ]
    },
    {
     "name": "stdout",
     "output_type": "stream",
     "text": [
      "https://www.mckinsey.com/industries/public-sector/our-insights/closing-the-future-skills-gap\n"
     ]
    },
    {
     "name": "stderr",
     "output_type": "stream",
     "text": [
      "2020-02-18 12:24:11 [urllib3.connectionpool] DEBUG: https://www.mckinsey.com:443 \"GET /industries/public-sector/our-insights/closing-the-future-skills-gap HTTP/1.1\" 200 16020\n",
      "2020-02-18 12:24:11 [urllib3.connectionpool] DEBUG: Starting new HTTPS connection (1): www.mckinsey.com:443\n"
     ]
    },
    {
     "name": "stdout",
     "output_type": "stream",
     "text": [
      "https://www.mckinsey.com/industries/retail/our-insights/the-need-for-speed-capturing-todays-fashion-consumer\n"
     ]
    },
    {
     "name": "stderr",
     "output_type": "stream",
     "text": [
      "2020-02-18 12:24:12 [urllib3.connectionpool] DEBUG: https://www.mckinsey.com:443 \"GET /industries/retail/our-insights/the-need-for-speed-capturing-todays-fashion-consumer HTTP/1.1\" 200 17292\n",
      "2020-02-18 12:24:12 [urllib3.connectionpool] DEBUG: Starting new HTTPS connection (1): www.mckinsey.com:443\n"
     ]
    },
    {
     "name": "stdout",
     "output_type": "stream",
     "text": [
      "https://www.mckinsey.com/industries/public-sector/our-insights/supporting-job-growth-and-worker-prosperity-in-a-new-era-of-automation\n"
     ]
    },
    {
     "name": "stderr",
     "output_type": "stream",
     "text": [
      "2020-02-18 12:24:13 [urllib3.connectionpool] DEBUG: https://www.mckinsey.com:443 \"GET /industries/public-sector/our-insights/supporting-job-growth-and-worker-prosperity-in-a-new-era-of-automation HTTP/1.1\" 200 17443\n",
      "2020-02-18 12:24:13 [urllib3.connectionpool] DEBUG: Starting new HTTPS connection (1): www.mckinsey.com:443\n"
     ]
    },
    {
     "name": "stdout",
     "output_type": "stream",
     "text": [
      "https://www.mckinsey.com/pl/our-insights/polisa-od-sztucznej-inteligencji\n"
     ]
    },
    {
     "name": "stderr",
     "output_type": "stream",
     "text": [
      "2020-02-18 12:24:13 [urllib3.connectionpool] DEBUG: https://www.mckinsey.com:443 \"GET /pl/our-insights/polisa-od-sztucznej-inteligencji HTTP/1.1\" 200 12927\n",
      "2020-02-18 12:24:13 [urllib3.connectionpool] DEBUG: Starting new HTTPS connection (1): www.mckinsey.com:443\n"
     ]
    },
    {
     "name": "stdout",
     "output_type": "stream",
     "text": [
      "https://www.mckinsey.com/business-functions/operations/how-we-help-clients/category-analytics-solution/leading-ai-company\n"
     ]
    },
    {
     "name": "stderr",
     "output_type": "stream",
     "text": [
      "2020-02-18 12:24:14 [urllib3.connectionpool] DEBUG: https://www.mckinsey.com:443 \"GET /business-functions/operations/how-we-help-clients/category-analytics-solution/leading-ai-company HTTP/1.1\" 200 12927\n",
      "2020-02-18 12:24:14 [scrapy.core.scraper] ERROR: Spider error processing <GET https://www.mckinsey.com/business-functions/operations/how-we-help-clients/category-analytics-solution/leading-ai-company> (referer: None)\n",
      "Traceback (most recent call last):\n",
      "  File \"D:\\ProgramData\\Anaconda3\\lib\\site-packages\\twisted\\internet\\defer.py\", line 654, in _runCallbacks\n",
      "    current.result = callback(current.result, *args, **kw)\n",
      "  File \"<ipython-input-122-8fc83100377c>\", line 37, in parse\n",
      "    content_type = re.findall(conttype_regex, page_script)[0]\n",
      "IndexError: list index out of range\n",
      "2020-02-18 12:24:14 [urllib3.connectionpool] DEBUG: Starting new HTTPS connection (1): www.mckinsey.com:443\n"
     ]
    },
    {
     "name": "stdout",
     "output_type": "stream",
     "text": [
      "https://www.mckinsey.com/business-functions/organization/how-we-help-clients/ceo-portal/maximizing-ceo-effectiveness\n"
     ]
    },
    {
     "name": "stderr",
     "output_type": "stream",
     "text": [
      "2020-02-18 12:24:15 [urllib3.connectionpool] DEBUG: https://www.mckinsey.com:443 \"GET /business-functions/organization/how-we-help-clients/ceo-portal/maximizing-ceo-effectiveness HTTP/1.1\" 200 17296\n",
      "2020-02-18 12:24:15 [scrapy.core.scraper] ERROR: Spider error processing <GET https://www.mckinsey.com/business-functions/organization/how-we-help-clients/ceo-portal/maximizing-ceo-effectiveness> (referer: None)\n",
      "Traceback (most recent call last):\n",
      "  File \"D:\\ProgramData\\Anaconda3\\lib\\site-packages\\twisted\\internet\\defer.py\", line 654, in _runCallbacks\n",
      "    current.result = callback(current.result, *args, **kw)\n",
      "  File \"<ipython-input-122-8fc83100377c>\", line 37, in parse\n",
      "    content_type = re.findall(conttype_regex, page_script)[0]\n",
      "IndexError: list index out of range\n",
      "2020-02-18 12:24:15 [urllib3.connectionpool] DEBUG: Starting new HTTPS connection (1): www.mckinsey.com:443\n"
     ]
    },
    {
     "name": "stdout",
     "output_type": "stream",
     "text": [
      "https://www.mckinsey.com/mgi/overview/in-the-news/your-ai-efforts-wont-succeed-unless-they-benefit-employees\n"
     ]
    },
    {
     "name": "stderr",
     "output_type": "stream",
     "text": [
      "2020-02-18 12:24:16 [urllib3.connectionpool] DEBUG: https://www.mckinsey.com:443 \"GET /mgi/overview/in-the-news/your-ai-efforts-wont-succeed-unless-they-benefit-employees HTTP/1.1\" 200 17253\n",
      "2020-02-18 12:24:16 [scrapy.core.engine] DEBUG: Crawled (200) <GET https://www.mckinsey.com/business-functions/organization/our-insights/leadership-and-behavior-mastering-the-mechanics-of-reason-and-emotion> (referer: None)\n",
      "2020-02-18 12:24:16 [scrapy.core.engine] DEBUG: Crawled (200) <GET https://www.mckinsey.com/business-functions/operations/our-insights/extended-lean-toolkit-for-total-productivity> (referer: None)\n",
      "2020-02-18 12:24:16 [scrapy.core.engine] DEBUG: Crawled (200) <GET https://www.mckinsey.com/featured-insights/asia-pacific/automation-and-the-future-of-work-in-indonesia> (referer: None)\n",
      "2020-02-18 12:24:16 [urllib3.connectionpool] DEBUG: Starting new HTTPS connection (1): www.mckinsey.com:443\n"
     ]
    },
    {
     "name": "stdout",
     "output_type": "stream",
     "text": [
      "https://www.mckinsey.com/business-functions/mckinsey-digital/our-insights/a-smart-home-is-where-the-bot-is\n"
     ]
    },
    {
     "name": "stderr",
     "output_type": "stream",
     "text": [
      "2020-02-18 12:24:16 [urllib3.connectionpool] DEBUG: https://www.mckinsey.com:443 \"GET /business-functions/mckinsey-digital/our-insights/a-smart-home-is-where-the-bot-is HTTP/1.1\" 200 21006\n",
      "2020-02-18 12:24:16 [urllib3.connectionpool] DEBUG: Starting new HTTPS connection (1): www.mckinsey.com:443\n"
     ]
    },
    {
     "name": "stdout",
     "output_type": "stream",
     "text": [
      "https://www.mckinsey.com/business-functions/organization/our-insights/leadership-and-behavior-mastering-the-mechanics-of-reason-and-emotion\n"
     ]
    },
    {
     "name": "stderr",
     "output_type": "stream",
     "text": [
      "2020-02-18 12:24:17 [urllib3.connectionpool] DEBUG: https://www.mckinsey.com:443 \"GET /business-functions/organization/our-insights/leadership-and-behavior-mastering-the-mechanics-of-reason-and-emotion HTTP/1.1\" 200 20468\n",
      "2020-02-18 12:24:17 [urllib3.connectionpool] DEBUG: Starting new HTTPS connection (1): www.mckinsey.com:443\n"
     ]
    },
    {
     "name": "stdout",
     "output_type": "stream",
     "text": [
      "https://www.mckinsey.com/business-functions/operations/our-insights/extended-lean-toolkit-for-total-productivity\n"
     ]
    },
    {
     "name": "stderr",
     "output_type": "stream",
     "text": [
      "2020-02-18 12:24:18 [urllib3.connectionpool] DEBUG: https://www.mckinsey.com:443 \"GET /business-functions/operations/our-insights/extended-lean-toolkit-for-total-productivity HTTP/1.1\" 200 22607\n",
      "2020-02-18 12:24:18 [urllib3.connectionpool] DEBUG: Starting new HTTPS connection (1): www.mckinsey.com:443\n"
     ]
    },
    {
     "name": "stdout",
     "output_type": "stream",
     "text": [
      "https://www.mckinsey.com/featured-insights/asia-pacific/automation-and-the-future-of-work-in-indonesia\n"
     ]
    },
    {
     "name": "stderr",
     "output_type": "stream",
     "text": [
      "2020-02-18 12:24:25 [urllib3.connectionpool] DEBUG: https://www.mckinsey.com:443 \"GET /featured-insights/asia-pacific/automation-and-the-future-of-work-in-indonesia HTTP/1.1\" 200 19802\n",
      "2020-02-18 12:24:25 [scrapy.core.engine] DEBUG: Crawled (200) <GET https://www.mckinsey.com/industries/technology-media-and-telecommunications/our-people> (referer: None)\n",
      "2020-02-18 12:24:25 [scrapy.core.engine] DEBUG: Crawled (200) <GET https://www.mckinsey.com/business-functions/marketing-and-sales/our-insights/lets-talk-about-sales-growth> (referer: None)\n",
      "2020-02-18 12:24:25 [urllib3.connectionpool] DEBUG: Starting new HTTPS connection (1): www.mckinsey.com:443\n"
     ]
    },
    {
     "name": "stdout",
     "output_type": "stream",
     "text": [
      "https://www.mckinsey.com/industries/technology-media-and-telecommunications/our-people\n"
     ]
    },
    {
     "name": "stderr",
     "output_type": "stream",
     "text": [
      "2020-02-18 12:24:27 [urllib3.connectionpool] DEBUG: https://www.mckinsey.com:443 \"GET /industries/technology-media-and-telecommunications/our-people HTTP/1.1\" 200 33813\n",
      "2020-02-18 12:24:27 [scrapy.core.scraper] ERROR: Spider error processing <GET https://www.mckinsey.com/industries/technology-media-and-telecommunications/our-people> (referer: None)\n",
      "Traceback (most recent call last):\n",
      "  File \"D:\\ProgramData\\Anaconda3\\lib\\site-packages\\twisted\\internet\\defer.py\", line 654, in _runCallbacks\n",
      "    current.result = callback(current.result, *args, **kw)\n",
      "  File \"<ipython-input-122-8fc83100377c>\", line 37, in parse\n",
      "    content_type = re.findall(conttype_regex, page_script)[0]\n",
      "IndexError: list index out of range\n",
      "2020-02-18 12:24:27 [scrapy.core.engine] DEBUG: Crawled (200) <GET https://www.mckinsey.com/business-functions/risk/our-insights/the-new-frontier-in-anti-money-laundering> (referer: None)\n",
      "2020-02-18 12:24:27 [scrapy.core.engine] DEBUG: Crawled (200) <GET https://www.mckinsey.com/industries/semiconductors/our-insights/whats-next-for-semiconductor-profits-and-value-creation> (referer: None)\n",
      "2020-02-18 12:24:27 [scrapy.core.engine] DEBUG: Crawled (200) <GET https://www.mckinsey.com/business-functions/risk/our-insights/digital-risk-transforming-risk-management-for-the-2020s> (referer: None)\n",
      "2020-02-18 12:24:27 [scrapy.core.engine] DEBUG: Crawled (200) <GET https://www.mckinsey.com/business-functions/mckinsey-digital/our-insights/is-the-solow-paradox-back> (referer: None)\n",
      "2020-02-18 12:24:27 [scrapy.core.engine] DEBUG: Crawled (200) <GET https://www.mckinsey.com/industries/technology-media-and-telecommunications/our-insights/charting-technologys-new-directions-a-conversation-with-mits-erik-brynjolfsson> (referer: None)\n",
      "2020-02-18 12:24:27 [scrapy.core.engine] DEBUG: Crawled (200) <GET https://www.mckinsey.com/mgi/overview/in-the-news/empowering-teachers-and-trainers-through-technology> (referer: None)\n",
      "2020-02-18 12:24:27 [scrapy.core.engine] DEBUG: Crawled (200) <GET https://www.mckinsey.com/business-functions/mckinsey-analytics/our-insights/advanced-analytics-poised-to-transform-asian-companies> (referer: None)\n",
      "2020-02-18 12:24:27 [scrapy.core.engine] DEBUG: Crawled (200) <GET https://www.mckinsey.com/business-functions/mckinsey-digital/our-insights/why-tech-enabled-go-to-market-innovation-is-critical-for-industrial-companies> (referer: None)\n",
      "2020-02-18 12:24:27 [urllib3.connectionpool] DEBUG: Starting new HTTPS connection (1): www.mckinsey.com:443\n"
     ]
    },
    {
     "name": "stdout",
     "output_type": "stream",
     "text": [
      "https://www.mckinsey.com/business-functions/marketing-and-sales/our-insights/lets-talk-about-sales-growth\n"
     ]
    },
    {
     "name": "stderr",
     "output_type": "stream",
     "text": [
      "2020-02-18 12:24:27 [urllib3.connectionpool] DEBUG: https://www.mckinsey.com:443 \"GET /business-functions/marketing-and-sales/our-insights/lets-talk-about-sales-growth HTTP/1.1\" 200 23983\n",
      "2020-02-18 12:24:27 [urllib3.connectionpool] DEBUG: Starting new HTTPS connection (1): www.mckinsey.com:443\n"
     ]
    },
    {
     "name": "stdout",
     "output_type": "stream",
     "text": [
      "https://www.mckinsey.com/business-functions/risk/our-insights/the-new-frontier-in-anti-money-laundering\n"
     ]
    },
    {
     "name": "stderr",
     "output_type": "stream",
     "text": [
      "2020-02-18 12:24:28 [urllib3.connectionpool] DEBUG: https://www.mckinsey.com:443 \"GET /business-functions/risk/our-insights/the-new-frontier-in-anti-money-laundering HTTP/1.1\" 200 22761\n",
      "2020-02-18 12:24:28 [urllib3.connectionpool] DEBUG: Starting new HTTPS connection (1): www.mckinsey.com:443\n"
     ]
    },
    {
     "name": "stdout",
     "output_type": "stream",
     "text": [
      "https://www.mckinsey.com/industries/semiconductors/our-insights/whats-next-for-semiconductor-profits-and-value-creation\n"
     ]
    },
    {
     "name": "stderr",
     "output_type": "stream",
     "text": [
      "2020-02-18 12:24:29 [urllib3.connectionpool] DEBUG: https://www.mckinsey.com:443 \"GET /industries/semiconductors/our-insights/whats-next-for-semiconductor-profits-and-value-creation HTTP/1.1\" 200 23089\n",
      "2020-02-18 12:24:29 [urllib3.connectionpool] DEBUG: Starting new HTTPS connection (1): www.mckinsey.com:443\n"
     ]
    },
    {
     "name": "stdout",
     "output_type": "stream",
     "text": [
      "https://www.mckinsey.com/business-functions/risk/our-insights/digital-risk-transforming-risk-management-for-the-2020s\n"
     ]
    },
    {
     "name": "stderr",
     "output_type": "stream",
     "text": [
      "2020-02-18 12:24:30 [urllib3.connectionpool] DEBUG: https://www.mckinsey.com:443 \"GET /business-functions/risk/our-insights/digital-risk-transforming-risk-management-for-the-2020s HTTP/1.1\" 200 22290\n",
      "2020-02-18 12:24:30 [urllib3.connectionpool] DEBUG: Starting new HTTPS connection (1): www.mckinsey.com:443\n"
     ]
    },
    {
     "name": "stdout",
     "output_type": "stream",
     "text": [
      "https://www.mckinsey.com/business-functions/mckinsey-digital/our-insights/is-the-solow-paradox-back\n"
     ]
    },
    {
     "name": "stderr",
     "output_type": "stream",
     "text": [
      "2020-02-18 12:24:31 [urllib3.connectionpool] DEBUG: https://www.mckinsey.com:443 \"GET /business-functions/mckinsey-digital/our-insights/is-the-solow-paradox-back HTTP/1.1\" 200 17454\n",
      "2020-02-18 12:24:31 [scrapy.core.scraper] ERROR: Spider error processing <GET https://www.mckinsey.com/business-functions/mckinsey-digital/our-insights/is-the-solow-paradox-back> (referer: None)\n",
      "Traceback (most recent call last):\n",
      "  File \"D:\\ProgramData\\Anaconda3\\lib\\site-packages\\twisted\\internet\\defer.py\", line 654, in _runCallbacks\n",
      "    current.result = callback(current.result, *args, **kw)\n",
      "  File \"<ipython-input-122-8fc83100377c>\", line 41, in parse\n",
      "    page_date = re.findall(date_regex, page_script)[0]\n",
      "IndexError: list index out of range\n",
      "2020-02-18 12:24:31 [urllib3.connectionpool] DEBUG: Starting new HTTPS connection (1): www.mckinsey.com:443\n"
     ]
    },
    {
     "name": "stdout",
     "output_type": "stream",
     "text": [
      "https://www.mckinsey.com/industries/technology-media-and-telecommunications/our-insights/charting-technologys-new-directions-a-conversation-with-mits-erik-brynjolfsson\n"
     ]
    },
    {
     "name": "stderr",
     "output_type": "stream",
     "text": [
      "2020-02-18 12:24:32 [urllib3.connectionpool] DEBUG: https://www.mckinsey.com:443 \"GET /industries/technology-media-and-telecommunications/our-insights/charting-technologys-new-directions-a-conversation-with-mits-erik-brynjolfsson HTTP/1.1\" 200 18221\n",
      "2020-02-18 12:24:32 [urllib3.connectionpool] DEBUG: Starting new HTTPS connection (1): www.mckinsey.com:443\n"
     ]
    },
    {
     "name": "stdout",
     "output_type": "stream",
     "text": [
      "https://www.mckinsey.com/mgi/overview/in-the-news/empowering-teachers-and-trainers-through-technology\n"
     ]
    },
    {
     "name": "stderr",
     "output_type": "stream",
     "text": [
      "2020-02-18 12:24:33 [urllib3.connectionpool] DEBUG: https://www.mckinsey.com:443 \"GET /mgi/overview/in-the-news/empowering-teachers-and-trainers-through-technology HTTP/1.1\" 200 16578\n",
      "2020-02-18 12:24:33 [urllib3.connectionpool] DEBUG: Starting new HTTPS connection (1): www.mckinsey.com:443\n"
     ]
    },
    {
     "name": "stdout",
     "output_type": "stream",
     "text": [
      "https://www.mckinsey.com/business-functions/mckinsey-analytics/our-insights/advanced-analytics-poised-to-transform-asian-companies\n"
     ]
    },
    {
     "name": "stderr",
     "output_type": "stream",
     "text": [
      "2020-02-18 12:24:34 [urllib3.connectionpool] DEBUG: https://www.mckinsey.com:443 \"GET /business-functions/mckinsey-analytics/our-insights/advanced-analytics-poised-to-transform-asian-companies HTTP/1.1\" 200 22565\n",
      "2020-02-18 12:24:34 [urllib3.connectionpool] DEBUG: Starting new HTTPS connection (1): www.mckinsey.com:443\n"
     ]
    },
    {
     "name": "stdout",
     "output_type": "stream",
     "text": [
      "https://www.mckinsey.com/business-functions/mckinsey-digital/our-insights/why-tech-enabled-go-to-market-innovation-is-critical-for-industrial-companies\n"
     ]
    },
    {
     "name": "stderr",
     "output_type": "stream",
     "text": [
      "2020-02-18 12:24:34 [urllib3.connectionpool] DEBUG: https://www.mckinsey.com:443 \"GET /business-functions/mckinsey-digital/our-insights/why-tech-enabled-go-to-market-innovation-is-critical-for-industrial-companies HTTP/1.1\" 200 21910\n",
      "2020-02-18 12:24:35 [scrapy.core.engine] DEBUG: Crawled (200) <GET https://www.mckinsey.com/featured-insights/asia-pacific/the-philippines-growth-dialogues-kristine-romano-nestor-a-espenilla-jr-and-nestor-tan> (referer: None)\n",
      "2020-02-18 12:24:35 [scrapy.core.engine] DEBUG: Crawled (200) <GET https://www.mckinsey.com/business-functions/mckinsey-digital/our-insights/why-every-leader-should-care-about-digitization-and-disruptive-innovation> (referer: None)\n",
      "2020-02-18 12:24:35 [scrapy.core.engine] DEBUG: Crawled (200) <GET https://www.mckinsey.com/business-functions/mckinsey-analytics/our-insights/analytics-translator> (referer: None)\n",
      "2020-02-18 12:24:35 [scrapy.core.engine] DEBUG: Crawled (200) <GET https://www.mckinsey.com/business-functions/mckinsey-analytics/our-insights/how-nbcuniversal-is-creating-pull-for-analytics> (referer: None)\n",
      "2020-02-18 12:24:35 [scrapy.core.engine] DEBUG: Crawled (200) <GET https://www.mckinsey.com/business-functions/strategy-and-corporate-finance/our-insights/demystifying-deal-making-lessons-from-m-and-a-veterans> (referer: None)\n",
      "2020-02-18 12:24:35 [scrapy.core.engine] DEBUG: Crawled (200) <GET https://www.mckinsey.com/business-functions/strategy-and-corporate-finance/our-insights/the-pros-and-cons-of-activist-investors> (referer: None)\n",
      "2020-02-18 12:24:35 [scrapy.core.engine] DEBUG: Crawled (200) <GET https://www.mckinsey.com/featured-insights/future-of-work/do-american-workers-feel-they-can-make-it> (referer: None)\n",
      "2020-02-18 12:24:35 [scrapy.core.engine] DEBUG: Crawled (200) <GET https://www.mckinsey.com/industries/financial-services/our-insights/banking-matters/banks-and-the-changing-face-of-risk> (referer: None)\n",
      "2020-02-18 12:24:35 [urllib3.connectionpool] DEBUG: Starting new HTTPS connection (1): www.mckinsey.com:443\n"
     ]
    },
    {
     "name": "stdout",
     "output_type": "stream",
     "text": [
      "https://www.mckinsey.com/featured-insights/asia-pacific/the-philippines-growth-dialogues-kristine-romano-nestor-a-espenilla-jr-and-nestor-tan\n"
     ]
    },
    {
     "name": "stderr",
     "output_type": "stream",
     "text": [
      "2020-02-18 12:24:35 [urllib3.connectionpool] DEBUG: https://www.mckinsey.com:443 \"GET /featured-insights/asia-pacific/the-philippines-growth-dialogues-kristine-romano-nestor-a-espenilla-jr-and-nestor-tan HTTP/1.1\" 200 19636\n",
      "2020-02-18 12:24:36 [scrapy.core.engine] DEBUG: Crawled (200) <GET https://www.mckinsey.com/industries/pharmaceuticals-and-medical-products/our-insights/building-digital-ecosystems-in-japan> (referer: None)\n",
      "2020-02-18 12:24:36 [scrapy.core.engine] DEBUG: Crawled (200) <GET https://www.mckinsey.com/industries/pharmaceuticals-and-medical-products/our-insights/leading-change-in-the-japanese-pharma-market> (referer: None)\n",
      "2020-02-18 12:24:36 [scrapy.core.engine] DEBUG: Crawled (200) <GET https://www.mckinsey.com/mgi/overview/in-the-news/what-successful-digital-transformations-have-in-common> (referer: None)\n",
      "2020-02-18 12:24:36 [scrapy.core.engine] DEBUG: Crawled (200) <GET https://www.mckinsey.com/business-functions/operations/our-insights/the-future-of-manufacturing-your-people> (referer: None)\n",
      "2020-02-18 12:24:36 [scrapy.core.engine] DEBUG: Crawled (200) <GET https://www.mckinsey.com/business-functions/risk/our-insights/gdpr-compliance-after-may-2018-a-continuing-challenge> (referer: None)\n",
      "2020-02-18 12:24:36 [scrapy.core.engine] DEBUG: Crawled (200) <GET https://www.mckinsey.com/industries/financial-services/our-insights/winning-in-a-world-of-ecosystems> (referer: None)\n",
      "2020-02-18 12:24:36 [scrapy.core.engine] DEBUG: Crawled (200) <GET https://www.mckinsey.com/mgi/overview/in-the-news/preparing-millennials-for-the-age-of-automation> (referer: None)\n",
      "2020-02-18 12:24:36 [urllib3.connectionpool] DEBUG: Starting new HTTPS connection (1): www.mckinsey.com:443\n"
     ]
    },
    {
     "name": "stdout",
     "output_type": "stream",
     "text": [
      "https://www.mckinsey.com/business-functions/mckinsey-digital/our-insights/why-every-leader-should-care-about-digitization-and-disruptive-innovation\n"
     ]
    },
    {
     "name": "stderr",
     "output_type": "stream",
     "text": [
      "2020-02-18 12:24:36 [urllib3.connectionpool] DEBUG: https://www.mckinsey.com:443 \"GET /business-functions/mckinsey-digital/our-insights/why-every-leader-should-care-about-digitization-and-disruptive-innovation HTTP/1.1\" 200 17736\n",
      "2020-02-18 12:24:36 [urllib3.connectionpool] DEBUG: Starting new HTTPS connection (1): www.mckinsey.com:443\n"
     ]
    },
    {
     "name": "stdout",
     "output_type": "stream",
     "text": [
      "https://www.mckinsey.com/business-functions/mckinsey-analytics/our-insights/analytics-translator\n"
     ]
    },
    {
     "name": "stderr",
     "output_type": "stream",
     "text": [
      "2020-02-18 12:24:37 [urllib3.connectionpool] DEBUG: https://www.mckinsey.com:443 \"GET /business-functions/mckinsey-analytics/our-insights/analytics-translator HTTP/1.1\" 200 18477\n",
      "2020-02-18 12:24:37 [urllib3.connectionpool] DEBUG: Starting new HTTPS connection (1): www.mckinsey.com:443\n"
     ]
    },
    {
     "name": "stdout",
     "output_type": "stream",
     "text": [
      "https://www.mckinsey.com/business-functions/mckinsey-analytics/our-insights/how-nbcuniversal-is-creating-pull-for-analytics\n"
     ]
    },
    {
     "name": "stderr",
     "output_type": "stream",
     "text": [
      "2020-02-18 12:24:37 [urllib3.connectionpool] DEBUG: https://www.mckinsey.com:443 \"GET /business-functions/mckinsey-analytics/our-insights/how-nbcuniversal-is-creating-pull-for-analytics HTTP/1.1\" 200 18250\n",
      "2020-02-18 12:24:37 [urllib3.connectionpool] DEBUG: Starting new HTTPS connection (1): www.mckinsey.com:443\n"
     ]
    },
    {
     "name": "stdout",
     "output_type": "stream",
     "text": [
      "https://www.mckinsey.com/business-functions/strategy-and-corporate-finance/our-insights/demystifying-deal-making-lessons-from-m-and-a-veterans\n"
     ]
    },
    {
     "name": "stderr",
     "output_type": "stream",
     "text": [
      "2020-02-18 12:24:38 [urllib3.connectionpool] DEBUG: https://www.mckinsey.com:443 \"GET /business-functions/strategy-and-corporate-finance/our-insights/demystifying-deal-making-lessons-from-m-and-a-veterans HTTP/1.1\" 200 17715\n",
      "2020-02-18 12:24:38 [urllib3.connectionpool] DEBUG: Starting new HTTPS connection (1): www.mckinsey.com:443\n"
     ]
    },
    {
     "name": "stdout",
     "output_type": "stream",
     "text": [
      "https://www.mckinsey.com/business-functions/strategy-and-corporate-finance/our-insights/the-pros-and-cons-of-activist-investors\n"
     ]
    },
    {
     "name": "stderr",
     "output_type": "stream",
     "text": [
      "2020-02-18 12:24:38 [urllib3.connectionpool] DEBUG: https://www.mckinsey.com:443 \"GET /business-functions/strategy-and-corporate-finance/our-insights/the-pros-and-cons-of-activist-investors HTTP/1.1\" 200 17865\n",
      "2020-02-18 12:24:38 [urllib3.connectionpool] DEBUG: Starting new HTTPS connection (1): www.mckinsey.com:443\n"
     ]
    },
    {
     "name": "stdout",
     "output_type": "stream",
     "text": [
      "https://www.mckinsey.com/featured-insights/future-of-work/do-american-workers-feel-they-can-make-it\n"
     ]
    },
    {
     "name": "stderr",
     "output_type": "stream",
     "text": [
      "2020-02-18 12:24:39 [urllib3.connectionpool] DEBUG: https://www.mckinsey.com:443 \"GET /featured-insights/future-of-work/do-american-workers-feel-they-can-make-it HTTP/1.1\" 200 19596\n",
      "2020-02-18 12:24:39 [urllib3.connectionpool] DEBUG: Starting new HTTPS connection (1): www.mckinsey.com:443\n"
     ]
    },
    {
     "name": "stdout",
     "output_type": "stream",
     "text": [
      "https://www.mckinsey.com/industries/financial-services/our-insights/banking-matters/banks-and-the-changing-face-of-risk\n"
     ]
    },
    {
     "name": "stderr",
     "output_type": "stream",
     "text": [
      "2020-02-18 12:24:41 [urllib3.connectionpool] DEBUG: https://www.mckinsey.com:443 \"GET /industries/financial-services/our-insights/banking-matters/banks-and-the-changing-face-of-risk HTTP/1.1\" 200 15781\n",
      "2020-02-18 12:24:41 [scrapy.core.scraper] ERROR: Spider error processing <GET https://www.mckinsey.com/industries/financial-services/our-insights/banking-matters/banks-and-the-changing-face-of-risk> (referer: None)\n",
      "Traceback (most recent call last):\n",
      "  File \"D:\\ProgramData\\Anaconda3\\lib\\site-packages\\twisted\\internet\\defer.py\", line 654, in _runCallbacks\n",
      "    current.result = callback(current.result, *args, **kw)\n",
      "  File \"<ipython-input-122-8fc83100377c>\", line 37, in parse\n",
      "    content_type = re.findall(conttype_regex, page_script)[0]\n",
      "IndexError: list index out of range\n",
      "2020-02-18 12:24:41 [scrapy.core.engine] DEBUG: Crawled (200) <GET https://www.mckinsey.com/featured-insights/china/building-a-tech-enabled-ecosystem-an-interview-with-ping-ans-jessica-tan> (referer: None)\n",
      "2020-02-18 12:24:41 [urllib3.connectionpool] DEBUG: Starting new HTTPS connection (1): www.mckinsey.com:443\n"
     ]
    },
    {
     "name": "stdout",
     "output_type": "stream",
     "text": [
      "https://www.mckinsey.com/industries/pharmaceuticals-and-medical-products/our-insights/building-digital-ecosystems-in-japan\n"
     ]
    },
    {
     "name": "stderr",
     "output_type": "stream",
     "text": [
      "2020-02-18 12:24:41 [urllib3.connectionpool] DEBUG: https://www.mckinsey.com:443 \"GET /industries/pharmaceuticals-and-medical-products/our-insights/building-digital-ecosystems-in-japan HTTP/1.1\" 200 17603\n",
      "2020-02-18 12:24:41 [urllib3.connectionpool] DEBUG: Starting new HTTPS connection (1): www.mckinsey.com:443\n"
     ]
    },
    {
     "name": "stdout",
     "output_type": "stream",
     "text": [
      "https://www.mckinsey.com/industries/pharmaceuticals-and-medical-products/our-insights/leading-change-in-the-japanese-pharma-market\n"
     ]
    },
    {
     "name": "stderr",
     "output_type": "stream",
     "text": [
      "2020-02-18 12:24:42 [urllib3.connectionpool] DEBUG: https://www.mckinsey.com:443 \"GET /industries/pharmaceuticals-and-medical-products/our-insights/leading-change-in-the-japanese-pharma-market HTTP/1.1\" 200 17242\n",
      "2020-02-18 12:24:42 [urllib3.connectionpool] DEBUG: Starting new HTTPS connection (1): www.mckinsey.com:443\n"
     ]
    },
    {
     "name": "stdout",
     "output_type": "stream",
     "text": [
      "https://www.mckinsey.com/mgi/overview/in-the-news/what-successful-digital-transformations-have-in-common\n"
     ]
    },
    {
     "name": "stderr",
     "output_type": "stream",
     "text": [
      "2020-02-18 12:24:42 [urllib3.connectionpool] DEBUG: https://www.mckinsey.com:443 \"GET /mgi/overview/in-the-news/what-successful-digital-transformations-have-in-common HTTP/1.1\" 200 16659\n",
      "2020-02-18 12:24:42 [urllib3.connectionpool] DEBUG: Starting new HTTPS connection (1): www.mckinsey.com:443\n"
     ]
    },
    {
     "name": "stdout",
     "output_type": "stream",
     "text": [
      "https://www.mckinsey.com/business-functions/operations/our-insights/the-future-of-manufacturing-your-people\n"
     ]
    },
    {
     "name": "stderr",
     "output_type": "stream",
     "text": [
      "2020-02-18 12:24:43 [urllib3.connectionpool] DEBUG: https://www.mckinsey.com:443 \"GET /business-functions/operations/our-insights/the-future-of-manufacturing-your-people HTTP/1.1\" 200 17626\n",
      "2020-02-18 12:24:43 [urllib3.connectionpool] DEBUG: Starting new HTTPS connection (1): www.mckinsey.com:443\n"
     ]
    },
    {
     "name": "stdout",
     "output_type": "stream",
     "text": [
      "https://www.mckinsey.com/business-functions/risk/our-insights/gdpr-compliance-after-may-2018-a-continuing-challenge\n"
     ]
    },
    {
     "name": "stderr",
     "output_type": "stream",
     "text": [
      "2020-02-18 12:24:43 [urllib3.connectionpool] DEBUG: https://www.mckinsey.com:443 \"GET /business-functions/risk/our-insights/gdpr-compliance-after-may-2018-a-continuing-challenge HTTP/1.1\" 200 16643\n",
      "2020-02-18 12:24:43 [urllib3.connectionpool] DEBUG: Starting new HTTPS connection (1): www.mckinsey.com:443\n"
     ]
    },
    {
     "name": "stdout",
     "output_type": "stream",
     "text": [
      "https://www.mckinsey.com/industries/financial-services/our-insights/winning-in-a-world-of-ecosystems\n"
     ]
    },
    {
     "name": "stderr",
     "output_type": "stream",
     "text": [
      "2020-02-18 12:24:44 [urllib3.connectionpool] DEBUG: https://www.mckinsey.com:443 \"GET /industries/financial-services/our-insights/winning-in-a-world-of-ecosystems HTTP/1.1\" 200 17257\n",
      "2020-02-18 12:24:44 [urllib3.connectionpool] DEBUG: Starting new HTTPS connection (1): www.mckinsey.com:443\n"
     ]
    },
    {
     "name": "stdout",
     "output_type": "stream",
     "text": [
      "https://www.mckinsey.com/mgi/overview/in-the-news/preparing-millennials-for-the-age-of-automation\n"
     ]
    },
    {
     "name": "stderr",
     "output_type": "stream",
     "text": [
      "2020-02-18 12:24:45 [urllib3.connectionpool] DEBUG: https://www.mckinsey.com:443 \"GET /mgi/overview/in-the-news/preparing-millennials-for-the-age-of-automation HTTP/1.1\" 200 17722\n",
      "2020-02-18 12:24:45 [scrapy.core.engine] DEBUG: Crawled (200) <GET https://www.mckinsey.com/business-functions/operations/our-insights/value-creation-in-european-building-materials-where-do-the-opportunities-lie> (referer: None)\n",
      "2020-02-18 12:24:45 [scrapy.core.engine] DEBUG: Crawled (200) <GET https://www.mckinsey.com/business-functions/operations/our-insights/digital-transformation-raising-supply-chain-performance-to-new-levels> (referer: None)\n",
      "2020-02-18 12:24:45 [scrapy.core.engine] DEBUG: Crawled (200) <GET https://www.mckinsey.com/business-functions/organization/our-insights/ahead-of-the-curve-the-future-of-performance-management> (referer: None)\n",
      "2020-02-18 12:24:45 [scrapy.core.engine] DEBUG: Crawled (200) <GET https://www.mckinsey.com/featured-insights/china/digital-china-powering-the-economy-to-global-competitiveness> (referer: None)\n",
      "2020-02-18 12:24:45 [scrapy.core.engine] DEBUG: Crawled (200) <GET https://www.mckinsey.com/featured-insights/future-of-work/the-digital-future-of-work-policy-implications-of-automation> (referer: None)\n",
      "2020-02-18 12:24:45 [scrapy.core.engine] DEBUG: Crawled (200) <GET https://www.mckinsey.com/featured-insights/middle-east-and-africa/digital-reinvention-can-spur-south-africas-economy> (referer: None)\n",
      "2020-02-18 12:24:45 [scrapy.core.engine] DEBUG: Crawled (200) <GET https://www.mckinsey.com/industries/technology-media-and-telecommunications/our-insights/sleeping-giant-europe-as-a-global-software-competitor> (referer: None)\n",
      "2020-02-18 12:24:45 [urllib3.connectionpool] DEBUG: Starting new HTTPS connection (1): www.mckinsey.com:443\n"
     ]
    },
    {
     "name": "stdout",
     "output_type": "stream",
     "text": [
      "https://www.mckinsey.com/featured-insights/china/building-a-tech-enabled-ecosystem-an-interview-with-ping-ans-jessica-tan\n"
     ]
    },
    {
     "name": "stderr",
     "output_type": "stream",
     "text": [
      "2020-02-18 12:24:46 [urllib3.connectionpool] DEBUG: https://www.mckinsey.com:443 \"GET /featured-insights/china/building-a-tech-enabled-ecosystem-an-interview-with-ping-ans-jessica-tan HTTP/1.1\" 200 20863\n",
      "2020-02-18 12:24:46 [scrapy.core.engine] DEBUG: Crawled (200) <GET https://www.mckinsey.com/mgi/overview/in-the-news/automation-and-altruism> (referer: None)\n",
      "2020-02-18 12:24:46 [urllib3.connectionpool] DEBUG: Starting new HTTPS connection (1): www.mckinsey.com:443\n"
     ]
    },
    {
     "name": "stdout",
     "output_type": "stream",
     "text": [
      "https://www.mckinsey.com/business-functions/operations/our-insights/value-creation-in-european-building-materials-where-do-the-opportunities-lie\n"
     ]
    },
    {
     "name": "stderr",
     "output_type": "stream",
     "text": [
      "2020-02-18 12:24:47 [urllib3.connectionpool] DEBUG: https://www.mckinsey.com:443 \"GET /business-functions/operations/our-insights/value-creation-in-european-building-materials-where-do-the-opportunities-lie HTTP/1.1\" 200 22023\n",
      "2020-02-18 12:24:47 [urllib3.connectionpool] DEBUG: Starting new HTTPS connection (1): www.mckinsey.com:443\n"
     ]
    },
    {
     "name": "stdout",
     "output_type": "stream",
     "text": [
      "https://www.mckinsey.com/business-functions/operations/our-insights/digital-transformation-raising-supply-chain-performance-to-new-levels\n"
     ]
    },
    {
     "name": "stderr",
     "output_type": "stream",
     "text": [
      "2020-02-18 12:24:48 [urllib3.connectionpool] DEBUG: https://www.mckinsey.com:443 \"GET /business-functions/operations/our-insights/digital-transformation-raising-supply-chain-performance-to-new-levels HTTP/1.1\" 200 23159\n",
      "2020-02-18 12:24:48 [urllib3.connectionpool] DEBUG: Starting new HTTPS connection (1): www.mckinsey.com:443\n"
     ]
    },
    {
     "name": "stdout",
     "output_type": "stream",
     "text": [
      "https://www.mckinsey.com/business-functions/organization/our-insights/ahead-of-the-curve-the-future-of-performance-management\n"
     ]
    },
    {
     "name": "stderr",
     "output_type": "stream",
     "text": [
      "2020-02-18 12:24:49 [urllib3.connectionpool] DEBUG: https://www.mckinsey.com:443 \"GET /business-functions/organization/our-insights/ahead-of-the-curve-the-future-of-performance-management HTTP/1.1\" 200 24063\n",
      "2020-02-18 12:24:49 [scrapy.core.scraper] ERROR: Spider error processing <GET https://www.mckinsey.com/business-functions/organization/our-insights/ahead-of-the-curve-the-future-of-performance-management> (referer: None)\n",
      "Traceback (most recent call last):\n",
      "  File \"D:\\ProgramData\\Anaconda3\\lib\\site-packages\\twisted\\internet\\defer.py\", line 654, in _runCallbacks\n",
      "    current.result = callback(current.result, *args, **kw)\n",
      "  File \"<ipython-input-122-8fc83100377c>\", line 41, in parse\n",
      "    page_date = re.findall(date_regex, page_script)[0]\n",
      "IndexError: list index out of range\n",
      "2020-02-18 12:24:49 [urllib3.connectionpool] DEBUG: Starting new HTTPS connection (1): www.mckinsey.com:443\n"
     ]
    },
    {
     "name": "stdout",
     "output_type": "stream",
     "text": [
      "https://www.mckinsey.com/featured-insights/china/digital-china-powering-the-economy-to-global-competitiveness\n"
     ]
    },
    {
     "name": "stderr",
     "output_type": "stream",
     "text": [
      "2020-02-18 12:24:51 [urllib3.connectionpool] DEBUG: https://www.mckinsey.com:443 \"GET /featured-insights/china/digital-china-powering-the-economy-to-global-competitiveness HTTP/1.1\" 200 24540\n",
      "2020-02-18 12:24:51 [urllib3.connectionpool] DEBUG: Starting new HTTPS connection (1): www.mckinsey.com:443\n"
     ]
    },
    {
     "name": "stdout",
     "output_type": "stream",
     "text": [
      "https://www.mckinsey.com/featured-insights/future-of-work/the-digital-future-of-work-policy-implications-of-automation\n"
     ]
    },
    {
     "name": "stderr",
     "output_type": "stream",
     "text": [
      "2020-02-18 12:24:51 [urllib3.connectionpool] DEBUG: https://www.mckinsey.com:443 \"GET /featured-insights/future-of-work/the-digital-future-of-work-policy-implications-of-automation HTTP/1.1\" 200 19317\n",
      "2020-02-18 12:24:51 [urllib3.connectionpool] DEBUG: Starting new HTTPS connection (1): www.mckinsey.com:443\n"
     ]
    },
    {
     "name": "stdout",
     "output_type": "stream",
     "text": [
      "https://www.mckinsey.com/featured-insights/middle-east-and-africa/digital-reinvention-can-spur-south-africas-economy\n"
     ]
    },
    {
     "name": "stderr",
     "output_type": "stream",
     "text": [
      "2020-02-18 12:24:52 [urllib3.connectionpool] DEBUG: https://www.mckinsey.com:443 \"GET /featured-insights/middle-east-and-africa/digital-reinvention-can-spur-south-africas-economy HTTP/1.1\" 200 19272\n",
      "2020-02-18 12:24:53 [urllib3.connectionpool] DEBUG: Starting new HTTPS connection (1): www.mckinsey.com:443\n"
     ]
    },
    {
     "name": "stdout",
     "output_type": "stream",
     "text": [
      "https://www.mckinsey.com/industries/technology-media-and-telecommunications/our-insights/sleeping-giant-europe-as-a-global-software-competitor\n"
     ]
    },
    {
     "name": "stderr",
     "output_type": "stream",
     "text": [
      "2020-02-18 12:24:53 [urllib3.connectionpool] DEBUG: https://www.mckinsey.com:443 \"GET /industries/technology-media-and-telecommunications/our-insights/sleeping-giant-europe-as-a-global-software-competitor HTTP/1.1\" 200 18132\n",
      "2020-02-18 12:24:53 [scrapy.core.engine] DEBUG: Crawled (200) <GET https://www.mckinsey.com/industries/healthcare-systems-and-services/our-insights/the-journey-to-a-new-tomorrow-janice-e-nevin> (referer: None)\n",
      "2020-02-18 12:24:53 [scrapy.core.engine] DEBUG: Crawled (200) <GET https://www.mckinsey.com/business-functions/mckinsey-digital/our-insights/how-automation-could-affect-employment-for-women-in-the-united-kingdom-and-minorities-in-the-united-states> (referer: None)\n",
      "2020-02-18 12:24:53 [urllib3.connectionpool] DEBUG: Starting new HTTPS connection (1): www.mckinsey.com:443\n"
     ]
    },
    {
     "name": "stdout",
     "output_type": "stream",
     "text": [
      "https://www.mckinsey.com/mgi/overview/in-the-news/automation-and-altruism\n"
     ]
    },
    {
     "name": "stderr",
     "output_type": "stream",
     "text": [
      "2020-02-18 12:24:54 [urllib3.connectionpool] DEBUG: https://www.mckinsey.com:443 \"GET /mgi/overview/in-the-news/automation-and-altruism HTTP/1.1\" 200 17057\n",
      "2020-02-18 12:24:54 [scrapy.core.engine] DEBUG: Crawled (200) <GET https://www.mckinsey.com/business-functions/operations/our-insights/the-new-frontier-agile-automation-at-scale> (referer: None)\n",
      "2020-02-18 12:24:54 [urllib3.connectionpool] DEBUG: Starting new HTTPS connection (1): www.mckinsey.com:443\n"
     ]
    },
    {
     "name": "stdout",
     "output_type": "stream",
     "text": [
      "https://www.mckinsey.com/industries/healthcare-systems-and-services/our-insights/the-journey-to-a-new-tomorrow-janice-e-nevin\n"
     ]
    },
    {
     "name": "stderr",
     "output_type": "stream",
     "text": [
      "2020-02-18 12:24:55 [urllib3.connectionpool] DEBUG: https://www.mckinsey.com:443 \"GET /industries/healthcare-systems-and-services/our-insights/the-journey-to-a-new-tomorrow-janice-e-nevin HTTP/1.1\" 200 17585\n",
      "2020-02-18 12:24:55 [urllib3.connectionpool] DEBUG: Starting new HTTPS connection (1): www.mckinsey.com:443\n"
     ]
    },
    {
     "name": "stdout",
     "output_type": "stream",
     "text": [
      "https://www.mckinsey.com/business-functions/mckinsey-digital/our-insights/how-automation-could-affect-employment-for-women-in-the-united-kingdom-and-minorities-in-the-united-states\n"
     ]
    },
    {
     "name": "stderr",
     "output_type": "stream",
     "text": [
      "2020-02-18 12:24:56 [urllib3.connectionpool] DEBUG: https://www.mckinsey.com:443 \"GET /business-functions/mckinsey-digital/our-insights/how-automation-could-affect-employment-for-women-in-the-united-kingdom-and-minorities-in-the-united-states HTTP/1.1\" 200 18335\n",
      "2020-02-18 12:24:56 [scrapy.core.engine] DEBUG: Crawled (200) <GET https://www.mckinsey.com/business-functions/sustainability/our-insights/infrastructure-for-the-evolution-of-urban-mobility> (referer: None)\n",
      "2020-02-18 12:24:56 [urllib3.connectionpool] DEBUG: Starting new HTTPS connection (1): www.mckinsey.com:443\n"
     ]
    },
    {
     "name": "stdout",
     "output_type": "stream",
     "text": [
      "https://www.mckinsey.com/business-functions/operations/our-insights/the-new-frontier-agile-automation-at-scale\n"
     ]
    },
    {
     "name": "stderr",
     "output_type": "stream",
     "text": [
      "2020-02-18 12:24:57 [urllib3.connectionpool] DEBUG: https://www.mckinsey.com:443 \"GET /business-functions/operations/our-insights/the-new-frontier-agile-automation-at-scale HTTP/1.1\" 200 17698\n",
      "2020-02-18 12:24:57 [scrapy.core.engine] DEBUG: Crawled (200) <GET https://www.mckinsey.com/ca/our-people> (referer: None)\n",
      "2020-02-18 12:24:57 [urllib3.connectionpool] DEBUG: Starting new HTTPS connection (1): www.mckinsey.com:443\n"
     ]
    },
    {
     "name": "stdout",
     "output_type": "stream",
     "text": [
      "https://www.mckinsey.com/business-functions/sustainability/our-insights/infrastructure-for-the-evolution-of-urban-mobility\n"
     ]
    },
    {
     "name": "stderr",
     "output_type": "stream",
     "text": [
      "2020-02-18 12:24:58 [urllib3.connectionpool] DEBUG: https://www.mckinsey.com:443 \"GET /business-functions/sustainability/our-insights/infrastructure-for-the-evolution-of-urban-mobility HTTP/1.1\" 200 18023\n",
      "2020-02-18 12:24:58 [urllib3.connectionpool] DEBUG: Starting new HTTPS connection (1): www.mckinsey.com:443\n"
     ]
    },
    {
     "name": "stdout",
     "output_type": "stream",
     "text": [
      "https://www.mckinsey.com/ca/our-people\n"
     ]
    },
    {
     "name": "stderr",
     "output_type": "stream",
     "text": [
      "2020-02-18 12:24:59 [urllib3.connectionpool] DEBUG: https://www.mckinsey.com:443 \"GET /ca/our-people HTTP/1.1\" 200 18162\n",
      "2020-02-18 12:24:59 [scrapy.core.scraper] ERROR: Spider error processing <GET https://www.mckinsey.com/ca/our-people> (referer: None)\n",
      "Traceback (most recent call last):\n",
      "  File \"D:\\ProgramData\\Anaconda3\\lib\\site-packages\\twisted\\internet\\defer.py\", line 654, in _runCallbacks\n",
      "    current.result = callback(current.result, *args, **kw)\n",
      "  File \"<ipython-input-122-8fc83100377c>\", line 37, in parse\n",
      "    content_type = re.findall(conttype_regex, page_script)[0]\n",
      "IndexError: list index out of range\n",
      "2020-02-18 12:24:59 [scrapy.core.engine] DEBUG: Crawled (200) <GET https://www.mckinsey.com/featured-insights/digital-disruption/raise-your-digital-quotient> (referer: None)\n",
      "2020-02-18 12:24:59 [urllib3.connectionpool] DEBUG: Starting new HTTPS connection (1): www.mckinsey.com:443\n"
     ]
    },
    {
     "name": "stdout",
     "output_type": "stream",
     "text": [
      "https://www.mckinsey.com/featured-insights/digital-disruption/raise-your-digital-quotient\n"
     ]
    },
    {
     "name": "stderr",
     "output_type": "stream",
     "text": [
      "2020-02-18 12:25:01 [urllib3.connectionpool] DEBUG: https://www.mckinsey.com:443 \"GET /featured-insights/digital-disruption/raise-your-digital-quotient HTTP/1.1\" 200 21956\n",
      "2020-02-18 12:25:01 [scrapy.core.scraper] ERROR: Spider error processing <GET https://www.mckinsey.com/featured-insights/digital-disruption/raise-your-digital-quotient> (referer: None)\n",
      "Traceback (most recent call last):\n",
      "  File \"D:\\ProgramData\\Anaconda3\\lib\\site-packages\\twisted\\internet\\defer.py\", line 654, in _runCallbacks\n",
      "    current.result = callback(current.result, *args, **kw)\n",
      "  File \"<ipython-input-122-8fc83100377c>\", line 41, in parse\n",
      "    page_date = re.findall(date_regex, page_script)[0]\n",
      "IndexError: list index out of range\n",
      "2020-02-18 12:25:01 [scrapy.core.engine] DEBUG: Crawled (200) <GET https://www.mckinsey.com/mgi/overview/in-the-news/testing-the-resilience-of-europe-inclusive-growth-model> (referer: None)\n",
      "2020-02-18 12:25:01 [scrapy.core.engine] DEBUG: Crawled (200) <GET https://www.mckinsey.com/business-functions/mckinsey-digital/our-insights/digital-transformation-improving-the-odds-of-success> (referer: None)\n",
      "2020-02-18 12:25:01 [scrapy.core.engine] DEBUG: Crawled (200) <GET https://www.mckinsey.com/business-functions/operations/our-insights/building-resilient-operations> (referer: None)\n",
      "2020-02-18 12:25:01 [scrapy.core.engine] DEBUG: Crawled (200) <GET https://www.mckinsey.com/business-functions/organization/our-insights/boosting-the-accessibility-of-workplace-reskilling> (referer: None)\n",
      "2020-02-18 12:25:01 [scrapy.core.engine] DEBUG: Crawled (200) <GET https://www.mckinsey.com/industries/healthcare-systems-and-services/our-insights/seven-healthcare-industry-trends-to-watch-in-2020> (referer: None)\n",
      "2020-02-18 12:25:01 [scrapy.core.engine] DEBUG: Crawled (200) <GET https://www.mckinsey.com/featured-insights/middle-east-and-africa/how-to-harness-technology-for-growth-in-south-africa> (referer: None)\n",
      "2020-02-18 12:25:01 [scrapy.core.engine] DEBUG: Crawled (200) <GET https://www.mckinsey.com/industries/retail/our-insights/how-indias-ascent-could-change-the-fashion-industry> (referer: None)\n",
      "2020-02-18 12:25:01 [scrapy.core.engine] DEBUG: Crawled (200) <GET https://www.mckinsey.com/featured-insights/employment-and-growth/where-to-look-for-global-growth> (referer: None)\n",
      "2020-02-18 12:25:01 [urllib3.connectionpool] DEBUG: Starting new HTTPS connection (1): www.mckinsey.com:443\n"
     ]
    },
    {
     "name": "stdout",
     "output_type": "stream",
     "text": [
      "https://www.mckinsey.com/mgi/overview/in-the-news/testing-the-resilience-of-europe-inclusive-growth-model\n"
     ]
    },
    {
     "name": "stderr",
     "output_type": "stream",
     "text": [
      "2020-02-18 12:25:01 [urllib3.connectionpool] DEBUG: https://www.mckinsey.com:443 \"GET /mgi/overview/in-the-news/testing-the-resilience-of-europe-inclusive-growth-model HTTP/1.1\" 200 16585\n",
      "2020-02-18 12:25:01 [urllib3.connectionpool] DEBUG: Starting new HTTPS connection (1): www.mckinsey.com:443\n"
     ]
    },
    {
     "name": "stdout",
     "output_type": "stream",
     "text": [
      "https://www.mckinsey.com/business-functions/mckinsey-digital/our-insights/digital-transformation-improving-the-odds-of-success\n"
     ]
    },
    {
     "name": "stderr",
     "output_type": "stream",
     "text": [
      "2020-02-18 12:25:02 [urllib3.connectionpool] DEBUG: https://www.mckinsey.com:443 \"GET /business-functions/mckinsey-digital/our-insights/digital-transformation-improving-the-odds-of-success HTTP/1.1\" 200 18415\n",
      "2020-02-18 12:25:02 [urllib3.connectionpool] DEBUG: Starting new HTTPS connection (1): www.mckinsey.com:443\n"
     ]
    },
    {
     "name": "stdout",
     "output_type": "stream",
     "text": [
      "https://www.mckinsey.com/business-functions/operations/our-insights/building-resilient-operations\n"
     ]
    },
    {
     "name": "stderr",
     "output_type": "stream",
     "text": [
      "2020-02-18 12:25:03 [urllib3.connectionpool] DEBUG: https://www.mckinsey.com:443 \"GET /business-functions/operations/our-insights/building-resilient-operations HTTP/1.1\" 200 17961\n",
      "2020-02-18 12:25:03 [urllib3.connectionpool] DEBUG: Starting new HTTPS connection (1): www.mckinsey.com:443\n"
     ]
    },
    {
     "name": "stdout",
     "output_type": "stream",
     "text": [
      "https://www.mckinsey.com/business-functions/organization/our-insights/boosting-the-accessibility-of-workplace-reskilling\n"
     ]
    },
    {
     "name": "stderr",
     "output_type": "stream",
     "text": [
      "2020-02-18 12:25:04 [urllib3.connectionpool] DEBUG: https://www.mckinsey.com:443 \"GET /business-functions/organization/our-insights/boosting-the-accessibility-of-workplace-reskilling HTTP/1.1\" 200 18941\n",
      "2020-02-18 12:25:04 [urllib3.connectionpool] DEBUG: Starting new HTTPS connection (1): www.mckinsey.com:443\n"
     ]
    },
    {
     "name": "stdout",
     "output_type": "stream",
     "text": [
      "https://www.mckinsey.com/industries/healthcare-systems-and-services/our-insights/seven-healthcare-industry-trends-to-watch-in-2020\n"
     ]
    },
    {
     "name": "stderr",
     "output_type": "stream",
     "text": [
      "2020-02-18 12:25:04 [urllib3.connectionpool] DEBUG: https://www.mckinsey.com:443 \"GET /industries/healthcare-systems-and-services/our-insights/seven-healthcare-industry-trends-to-watch-in-2020 HTTP/1.1\" 200 17968\n",
      "2020-02-18 12:25:04 [urllib3.connectionpool] DEBUG: Starting new HTTPS connection (1): www.mckinsey.com:443\n"
     ]
    },
    {
     "name": "stdout",
     "output_type": "stream",
     "text": [
      "https://www.mckinsey.com/featured-insights/middle-east-and-africa/how-to-harness-technology-for-growth-in-south-africa\n"
     ]
    },
    {
     "name": "stderr",
     "output_type": "stream",
     "text": [
      "2020-02-18 12:25:04 [urllib3.connectionpool] DEBUG: https://www.mckinsey.com:443 \"GET /featured-insights/middle-east-and-africa/how-to-harness-technology-for-growth-in-south-africa HTTP/1.1\" 200 19377\n",
      "2020-02-18 12:25:04 [urllib3.connectionpool] DEBUG: Starting new HTTPS connection (1): www.mckinsey.com:443\n"
     ]
    },
    {
     "name": "stdout",
     "output_type": "stream",
     "text": [
      "https://www.mckinsey.com/industries/retail/our-insights/how-indias-ascent-could-change-the-fashion-industry\n"
     ]
    },
    {
     "name": "stderr",
     "output_type": "stream",
     "text": [
      "2020-02-18 12:25:05 [urllib3.connectionpool] DEBUG: https://www.mckinsey.com:443 \"GET /industries/retail/our-insights/how-indias-ascent-could-change-the-fashion-industry HTTP/1.1\" 200 18620\n",
      "2020-02-18 12:25:05 [urllib3.connectionpool] DEBUG: Starting new HTTPS connection (1): www.mckinsey.com:443\n"
     ]
    },
    {
     "name": "stdout",
     "output_type": "stream",
     "text": [
      "https://www.mckinsey.com/featured-insights/employment-and-growth/where-to-look-for-global-growth\n"
     ]
    },
    {
     "name": "stderr",
     "output_type": "stream",
     "text": [
      "2020-02-18 12:25:06 [urllib3.connectionpool] DEBUG: https://www.mckinsey.com:443 \"GET /featured-insights/employment-and-growth/where-to-look-for-global-growth HTTP/1.1\" 200 18928\n",
      "2020-02-18 12:25:06 [scrapy.core.engine] DEBUG: Crawled (200) <GET https://www.mckinsey.com/industries/travel-transport-and-logistics/our-insights/a-vision-for-chinas-parcel-delivery-industry> (referer: None)\n",
      "2020-02-18 12:25:06 [scrapy.core.engine] DEBUG: Crawled (200) <GET https://www.mckinsey.com/industries/travel-transport-and-logistics/our-insights/the-endgame-for-postal-networks-how-to-win-in-the-age-of-e-commerce> (referer: None)\n",
      "2020-02-18 12:25:06 [scrapy.core.engine] DEBUG: Crawled (200) <GET https://www.mckinsey.com/business-functions/mckinsey-analytics/our-insights/capturing-value-from-your-customer-data> (referer: None)\n",
      "2020-02-18 12:25:06 [scrapy.core.engine] DEBUG: Crawled (200) <GET https://www.mckinsey.com/business-functions/mckinsey-digital/our-insights/ten-trends-shaping-the-internet-of-things-business-landscape> (referer: None)\n",
      "2020-02-18 12:25:06 [scrapy.core.engine] DEBUG: Crawled (200) <GET https://www.mckinsey.com/business-functions/operations/our-insights/customers-lives-are-digital-but-is-your-customer-care-still-analog> (referer: None)\n",
      "2020-02-18 12:25:06 [scrapy.core.engine] DEBUG: Crawled (200) <GET https://www.mckinsey.com/middle-east/media-center> (referer: None)\n",
      "2020-02-18 12:25:06 [scrapy.core.engine] DEBUG: Crawled (200) <GET https://www.mckinsey.com/industries/healthcare-systems-and-services/our-insights/winning-in-private-health-insurance-through-technical-excellence> (referer: None)\n",
      "2020-02-18 12:25:06 [scrapy.core.engine] DEBUG: Crawled (200) <GET https://www.mckinsey.com/business-functions/mckinsey-analytics/our-insights/how-to-win-in-the-age-of-analytics> (referer: None)\n",
      "2020-02-18 12:25:06 [urllib3.connectionpool] DEBUG: Starting new HTTPS connection (1): www.mckinsey.com:443\n"
     ]
    },
    {
     "name": "stdout",
     "output_type": "stream",
     "text": [
      "https://www.mckinsey.com/industries/travel-transport-and-logistics/our-insights/a-vision-for-chinas-parcel-delivery-industry\n"
     ]
    },
    {
     "name": "stderr",
     "output_type": "stream",
     "text": [
      "2020-02-18 12:25:07 [urllib3.connectionpool] DEBUG: https://www.mckinsey.com:443 \"GET /industries/travel-transport-and-logistics/our-insights/a-vision-for-chinas-parcel-delivery-industry HTTP/1.1\" 200 18797\n",
      "2020-02-18 12:25:07 [scrapy.core.engine] DEBUG: Crawled (200) <GET https://www.mckinsey.com/industries/pharmaceuticals-and-medical-products/our-insights/digitization-automation-and-online-testing-the-future-of-pharma-quality-control> (referer: None)\n",
      "2020-02-18 12:25:07 [scrapy.core.engine] DEBUG: Crawled (200) <GET https://www.mckinsey.com/business-functions/operations/our-insights/rd-thats-on-time-and-on-budget-yes-with-predictive-analytics> (referer: None)\n",
      "2020-02-18 12:25:07 [scrapy.core.engine] DEBUG: Crawled (200) <GET https://www.mckinsey.com/industries/financial-services/our-insights/fintech-decoded-the-capital-markets-infrastructure-opportunity> (referer: None)\n",
      "2020-02-18 12:25:07 [urllib3.connectionpool] DEBUG: Starting new HTTPS connection (1): www.mckinsey.com:443\n"
     ]
    },
    {
     "name": "stdout",
     "output_type": "stream",
     "text": [
      "https://www.mckinsey.com/industries/travel-transport-and-logistics/our-insights/the-endgame-for-postal-networks-how-to-win-in-the-age-of-e-commerce\n"
     ]
    },
    {
     "name": "stderr",
     "output_type": "stream",
     "text": [
      "2020-02-18 12:25:08 [urllib3.connectionpool] DEBUG: https://www.mckinsey.com:443 \"GET /industries/travel-transport-and-logistics/our-insights/the-endgame-for-postal-networks-how-to-win-in-the-age-of-e-commerce HTTP/1.1\" 200 21917\n",
      "2020-02-18 12:25:08 [urllib3.connectionpool] DEBUG: Starting new HTTPS connection (1): www.mckinsey.com:443\n"
     ]
    },
    {
     "name": "stdout",
     "output_type": "stream",
     "text": [
      "https://www.mckinsey.com/business-functions/mckinsey-analytics/our-insights/capturing-value-from-your-customer-data\n"
     ]
    },
    {
     "name": "stderr",
     "output_type": "stream",
     "text": [
      "2020-02-18 12:25:08 [urllib3.connectionpool] DEBUG: https://www.mckinsey.com:443 \"GET /business-functions/mckinsey-analytics/our-insights/capturing-value-from-your-customer-data HTTP/1.1\" 200 19169\n",
      "2020-02-18 12:25:08 [urllib3.connectionpool] DEBUG: Starting new HTTPS connection (1): www.mckinsey.com:443\n"
     ]
    },
    {
     "name": "stdout",
     "output_type": "stream",
     "text": [
      "https://www.mckinsey.com/business-functions/mckinsey-digital/our-insights/ten-trends-shaping-the-internet-of-things-business-landscape\n"
     ]
    },
    {
     "name": "stderr",
     "output_type": "stream",
     "text": [
      "2020-02-18 12:25:09 [urllib3.connectionpool] DEBUG: https://www.mckinsey.com:443 \"GET /business-functions/mckinsey-digital/our-insights/ten-trends-shaping-the-internet-of-things-business-landscape HTTP/1.1\" 200 19852\n",
      "2020-02-18 12:25:09 [urllib3.connectionpool] DEBUG: Starting new HTTPS connection (1): www.mckinsey.com:443\n"
     ]
    },
    {
     "name": "stdout",
     "output_type": "stream",
     "text": [
      "https://www.mckinsey.com/business-functions/operations/our-insights/customers-lives-are-digital-but-is-your-customer-care-still-analog\n"
     ]
    },
    {
     "name": "stderr",
     "output_type": "stream",
     "text": [
      "2020-02-18 12:25:10 [urllib3.connectionpool] DEBUG: https://www.mckinsey.com:443 \"GET /business-functions/operations/our-insights/customers-lives-are-digital-but-is-your-customer-care-still-analog HTTP/1.1\" 200 19771\n",
      "2020-02-18 12:25:10 [urllib3.connectionpool] DEBUG: Starting new HTTPS connection (1): www.mckinsey.com:443\n"
     ]
    },
    {
     "name": "stdout",
     "output_type": "stream",
     "text": [
      "https://www.mckinsey.com/middle-east/media-center\n"
     ]
    },
    {
     "name": "stderr",
     "output_type": "stream",
     "text": [
      "2020-02-18 12:25:11 [urllib3.connectionpool] DEBUG: https://www.mckinsey.com:443 \"GET /middle-east/media-center HTTP/1.1\" 200 24380\n",
      "2020-02-18 12:25:11 [scrapy.core.scraper] ERROR: Spider error processing <GET https://www.mckinsey.com/middle-east/media-center> (referer: None)\n",
      "Traceback (most recent call last):\n",
      "  File \"D:\\ProgramData\\Anaconda3\\lib\\site-packages\\twisted\\internet\\defer.py\", line 654, in _runCallbacks\n",
      "    current.result = callback(current.result, *args, **kw)\n",
      "  File \"<ipython-input-122-8fc83100377c>\", line 37, in parse\n",
      "    content_type = re.findall(conttype_regex, page_script)[0]\n",
      "IndexError: list index out of range\n",
      "2020-02-18 12:25:11 [urllib3.connectionpool] DEBUG: Starting new HTTPS connection (1): www.mckinsey.com:443\n"
     ]
    },
    {
     "name": "stdout",
     "output_type": "stream",
     "text": [
      "https://www.mckinsey.com/industries/healthcare-systems-and-services/our-insights/winning-in-private-health-insurance-through-technical-excellence\n"
     ]
    },
    {
     "name": "stderr",
     "output_type": "stream",
     "text": [
      "2020-02-18 12:25:12 [urllib3.connectionpool] DEBUG: https://www.mckinsey.com:443 \"GET /industries/healthcare-systems-and-services/our-insights/winning-in-private-health-insurance-through-technical-excellence HTTP/1.1\" 200 22785\n",
      "2020-02-18 12:25:12 [urllib3.connectionpool] DEBUG: Starting new HTTPS connection (1): www.mckinsey.com:443\n"
     ]
    },
    {
     "name": "stdout",
     "output_type": "stream",
     "text": [
      "https://www.mckinsey.com/business-functions/mckinsey-analytics/our-insights/how-to-win-in-the-age-of-analytics\n"
     ]
    },
    {
     "name": "stderr",
     "output_type": "stream",
     "text": [
      "2020-02-18 12:25:13 [urllib3.connectionpool] DEBUG: https://www.mckinsey.com:443 \"GET /business-functions/mckinsey-analytics/our-insights/how-to-win-in-the-age-of-analytics HTTP/1.1\" 200 25311\n",
      "2020-02-18 12:25:13 [scrapy.core.engine] DEBUG: Crawled (200) <GET https://www.mckinsey.com/business-functions/mckinsey-digital/our-insights/straight-talk-about-big-data> (referer: None)\n",
      "2020-02-18 12:25:13 [scrapy.core.engine] DEBUG: Crawled (200) <GET https://www.mckinsey.com/business-functions/mckinsey-digital/our-insights/the-drumbeat-of-digital-how-winning-teams-play> (referer: None)\n",
      "2020-02-18 12:25:13 [scrapy.core.engine] DEBUG: Crawled (200) <GET https://www.mckinsey.com/industries/financial-services/our-insights/rewriting-the-rules-in-retail-banking> (referer: None)\n",
      "2020-02-18 12:25:13 [scrapy.core.engine] DEBUG: Crawled (200) <GET https://www.mckinsey.com/industries/financial-services/our-insights/on-the-cusp-of-change-north-american-wealth-management-in-2030> (referer: None)\n",
      "2020-02-18 12:25:13 [scrapy.core.engine] DEBUG: Crawled (200) <GET https://www.mckinsey.com/business-functions/operations/our-insights/from-back-office-to-innovations-front-lines-with-next-gen-global-business-services> (referer: None)\n",
      "2020-02-18 12:25:13 [urllib3.connectionpool] DEBUG: Starting new HTTPS connection (1): www.mckinsey.com:443\n"
     ]
    },
    {
     "name": "stdout",
     "output_type": "stream",
     "text": [
      "https://www.mckinsey.com/industries/pharmaceuticals-and-medical-products/our-insights/digitization-automation-and-online-testing-the-future-of-pharma-quality-control\n"
     ]
    },
    {
     "name": "stderr",
     "output_type": "stream",
     "text": [
      "2020-02-18 12:25:14 [urllib3.connectionpool] DEBUG: https://www.mckinsey.com:443 \"GET /industries/pharmaceuticals-and-medical-products/our-insights/digitization-automation-and-online-testing-the-future-of-pharma-quality-control HTTP/1.1\" 200 23407\n",
      "2020-02-18 12:25:14 [urllib3.connectionpool] DEBUG: Starting new HTTPS connection (1): www.mckinsey.com:443\n"
     ]
    },
    {
     "name": "stdout",
     "output_type": "stream",
     "text": [
      "https://www.mckinsey.com/business-functions/operations/our-insights/rd-thats-on-time-and-on-budget-yes-with-predictive-analytics\n"
     ]
    },
    {
     "name": "stderr",
     "output_type": "stream",
     "text": [
      "2020-02-18 12:25:15 [urllib3.connectionpool] DEBUG: https://www.mckinsey.com:443 \"GET /business-functions/operations/our-insights/rd-thats-on-time-and-on-budget-yes-with-predictive-analytics HTTP/1.1\" 200 17420\n",
      "2020-02-18 12:25:15 [scrapy.core.scraper] ERROR: Spider error processing <GET https://www.mckinsey.com/business-functions/operations/our-insights/rd-thats-on-time-and-on-budget-yes-with-predictive-analytics> (referer: None)\n",
      "Traceback (most recent call last):\n",
      "  File \"D:\\ProgramData\\Anaconda3\\lib\\site-packages\\twisted\\internet\\defer.py\", line 654, in _runCallbacks\n",
      "    current.result = callback(current.result, *args, **kw)\n",
      "  File \"<ipython-input-122-8fc83100377c>\", line 41, in parse\n",
      "    page_date = re.findall(date_regex, page_script)[0]\n",
      "IndexError: list index out of range\n",
      "2020-02-18 12:25:15 [urllib3.connectionpool] DEBUG: Starting new HTTPS connection (1): www.mckinsey.com:443\n"
     ]
    },
    {
     "name": "stdout",
     "output_type": "stream",
     "text": [
      "https://www.mckinsey.com/industries/financial-services/our-insights/fintech-decoded-the-capital-markets-infrastructure-opportunity\n"
     ]
    },
    {
     "name": "stderr",
     "output_type": "stream",
     "text": [
      "2020-02-18 12:25:15 [urllib3.connectionpool] DEBUG: https://www.mckinsey.com:443 \"GET /industries/financial-services/our-insights/fintech-decoded-the-capital-markets-infrastructure-opportunity HTTP/1.1\" 200 18308\n",
      "2020-02-18 12:25:15 [scrapy.extensions.logstats] INFO: Crawled 633 pages (at 68 pages/min), scraped 0 items (at 0 items/min)\n",
      "2020-02-18 12:25:15 [scrapy.core.engine] DEBUG: Crawled (200) <GET https://www.mckinsey.com/industries/pharmaceuticals-and-medical-products/our-insights/being-patient-centric-in-a-digitizing-world> (referer: None)\n",
      "2020-02-18 12:25:15 [scrapy.core.engine] DEBUG: Crawled (200) <GET https://www.mckinsey.com/business-functions/operations/our-insights/how-automakers-can-get-the-most-value-from-silicon-valley> (referer: None)\n",
      "2020-02-18 12:25:15 [scrapy.core.engine] DEBUG: Crawled (200) <GET https://www.mckinsey.com/business-functions/marketing-and-sales/our-insights/discussions-on-digital-the-new-world-of-marketing> (referer: None)\n",
      "2020-02-18 12:25:15 [urllib3.connectionpool] DEBUG: Starting new HTTPS connection (1): www.mckinsey.com:443\n"
     ]
    },
    {
     "name": "stdout",
     "output_type": "stream",
     "text": [
      "https://www.mckinsey.com/business-functions/mckinsey-digital/our-insights/straight-talk-about-big-data\n"
     ]
    },
    {
     "name": "stderr",
     "output_type": "stream",
     "text": [
      "2020-02-18 12:25:16 [urllib3.connectionpool] DEBUG: https://www.mckinsey.com:443 \"GET /business-functions/mckinsey-digital/our-insights/straight-talk-about-big-data HTTP/1.1\" 200 24943\n",
      "2020-02-18 12:25:16 [urllib3.connectionpool] DEBUG: Starting new HTTPS connection (1): www.mckinsey.com:443\n"
     ]
    },
    {
     "name": "stdout",
     "output_type": "stream",
     "text": [
      "https://www.mckinsey.com/business-functions/mckinsey-digital/our-insights/the-drumbeat-of-digital-how-winning-teams-play\n"
     ]
    },
    {
     "name": "stderr",
     "output_type": "stream",
     "text": [
      "2020-02-18 12:25:17 [urllib3.connectionpool] DEBUG: https://www.mckinsey.com:443 \"GET /business-functions/mckinsey-digital/our-insights/the-drumbeat-of-digital-how-winning-teams-play HTTP/1.1\" 200 25460\n",
      "2020-02-18 12:25:17 [urllib3.connectionpool] DEBUG: Starting new HTTPS connection (1): www.mckinsey.com:443\n"
     ]
    },
    {
     "name": "stdout",
     "output_type": "stream",
     "text": [
      "https://www.mckinsey.com/industries/financial-services/our-insights/rewriting-the-rules-in-retail-banking\n"
     ]
    },
    {
     "name": "stderr",
     "output_type": "stream",
     "text": [
      "2020-02-18 12:25:18 [urllib3.connectionpool] DEBUG: https://www.mckinsey.com:443 \"GET /industries/financial-services/our-insights/rewriting-the-rules-in-retail-banking HTTP/1.1\" 200 23133\n",
      "2020-02-18 12:25:18 [urllib3.connectionpool] DEBUG: Starting new HTTPS connection (1): www.mckinsey.com:443\n"
     ]
    },
    {
     "name": "stdout",
     "output_type": "stream",
     "text": [
      "https://www.mckinsey.com/industries/financial-services/our-insights/on-the-cusp-of-change-north-american-wealth-management-in-2030\n"
     ]
    },
    {
     "name": "stderr",
     "output_type": "stream",
     "text": [
      "2020-02-18 12:25:19 [urllib3.connectionpool] DEBUG: https://www.mckinsey.com:443 \"GET /industries/financial-services/our-insights/on-the-cusp-of-change-north-american-wealth-management-in-2030 HTTP/1.1\" 200 23096\n",
      "2020-02-18 12:25:19 [urllib3.connectionpool] DEBUG: Starting new HTTPS connection (1): www.mckinsey.com:443\n"
     ]
    },
    {
     "name": "stdout",
     "output_type": "stream",
     "text": [
      "https://www.mckinsey.com/business-functions/operations/our-insights/from-back-office-to-innovations-front-lines-with-next-gen-global-business-services\n"
     ]
    },
    {
     "name": "stderr",
     "output_type": "stream",
     "text": [
      "2020-02-18 12:25:20 [urllib3.connectionpool] DEBUG: https://www.mckinsey.com:443 \"GET /business-functions/operations/our-insights/from-back-office-to-innovations-front-lines-with-next-gen-global-business-services HTTP/1.1\" 200 18201\n",
      "2020-02-18 12:25:20 [scrapy.core.engine] DEBUG: Crawled (200) <GET https://www.mckinsey.com/business-functions/mckinsey-digital/our-insights/the-iot-as-a-growth-driver> (referer: None)\n",
      "2020-02-18 12:25:20 [scrapy.core.engine] DEBUG: Crawled (200) <GET https://www.mckinsey.com/business-functions/operations/our-insights/a-transformation-in-store> (referer: None)\n",
      "2020-02-18 12:25:20 [scrapy.core.engine] DEBUG: Crawled (200) <GET https://www.mckinsey.com/featured-insights/leadership/whats-missing-in-leadership-development> (referer: None)\n",
      "2020-02-18 12:25:20 [scrapy.core.engine] DEBUG: Crawled (200) <GET https://www.mckinsey.com/industries/pharmaceuticals-and-medical-products/our-insights/the-digital-imperative-for-pharma-companies-in-japan> (referer: None)\n",
      "2020-02-18 12:25:20 [scrapy.core.engine] DEBUG: Crawled (200) <GET https://www.mckinsey.com/industries/technology-media-and-telecommunications/our-insights/how-predictive-analytics-can-boost-product-development> (referer: None)\n",
      "2020-02-18 12:25:20 [urllib3.connectionpool] DEBUG: Starting new HTTPS connection (1): www.mckinsey.com:443\n"
     ]
    },
    {
     "name": "stdout",
     "output_type": "stream",
     "text": [
      "https://www.mckinsey.com/industries/pharmaceuticals-and-medical-products/our-insights/being-patient-centric-in-a-digitizing-world\n"
     ]
    },
    {
     "name": "stderr",
     "output_type": "stream",
     "text": [
      "2020-02-18 12:25:21 [urllib3.connectionpool] DEBUG: https://www.mckinsey.com:443 \"GET /industries/pharmaceuticals-and-medical-products/our-insights/being-patient-centric-in-a-digitizing-world HTTP/1.1\" 200 18825\n",
      "2020-02-18 12:25:21 [urllib3.connectionpool] DEBUG: Starting new HTTPS connection (1): www.mckinsey.com:443\n"
     ]
    },
    {
     "name": "stdout",
     "output_type": "stream",
     "text": [
      "https://www.mckinsey.com/business-functions/operations/our-insights/how-automakers-can-get-the-most-value-from-silicon-valley\n"
     ]
    },
    {
     "name": "stderr",
     "output_type": "stream",
     "text": [
      "2020-02-18 12:25:21 [urllib3.connectionpool] DEBUG: https://www.mckinsey.com:443 \"GET /business-functions/operations/our-insights/how-automakers-can-get-the-most-value-from-silicon-valley HTTP/1.1\" 200 17631\n",
      "2020-02-18 12:25:21 [scrapy.core.scraper] ERROR: Spider error processing <GET https://www.mckinsey.com/business-functions/operations/our-insights/how-automakers-can-get-the-most-value-from-silicon-valley> (referer: None)\n",
      "Traceback (most recent call last):\n",
      "  File \"D:\\ProgramData\\Anaconda3\\lib\\site-packages\\twisted\\internet\\defer.py\", line 654, in _runCallbacks\n",
      "    current.result = callback(current.result, *args, **kw)\n",
      "  File \"<ipython-input-122-8fc83100377c>\", line 41, in parse\n",
      "    page_date = re.findall(date_regex, page_script)[0]\n",
      "IndexError: list index out of range\n",
      "2020-02-18 12:25:21 [urllib3.connectionpool] DEBUG: Starting new HTTPS connection (1): www.mckinsey.com:443\n"
     ]
    },
    {
     "name": "stdout",
     "output_type": "stream",
     "text": [
      "https://www.mckinsey.com/business-functions/marketing-and-sales/our-insights/discussions-on-digital-the-new-world-of-marketing\n"
     ]
    },
    {
     "name": "stderr",
     "output_type": "stream",
     "text": [
      "2020-02-18 12:25:22 [urllib3.connectionpool] DEBUG: https://www.mckinsey.com:443 \"GET /business-functions/marketing-and-sales/our-insights/discussions-on-digital-the-new-world-of-marketing HTTP/1.1\" 200 18275\n",
      "2020-02-18 12:25:22 [scrapy.core.engine] DEBUG: Crawled (200) <GET https://www.mckinsey.com/mgi/overview/in-the-news/will-automation-improve-work-for-women-or-make-it-worse> (referer: None)\n",
      "2020-02-18 12:25:22 [scrapy.core.engine] DEBUG: Crawled (200) <GET https://www.mckinsey.com/business-functions/mckinsey-analytics/our-insights/how-to-train-your-analytics-translators> (referer: None)\n",
      "2020-02-18 12:25:22 [urllib3.connectionpool] DEBUG: Starting new HTTPS connection (1): www.mckinsey.com:443\n"
     ]
    },
    {
     "name": "stdout",
     "output_type": "stream",
     "text": [
      "https://www.mckinsey.com/business-functions/mckinsey-digital/our-insights/the-iot-as-a-growth-driver\n"
     ]
    },
    {
     "name": "stderr",
     "output_type": "stream",
     "text": [
      "2020-02-18 12:25:22 [urllib3.connectionpool] DEBUG: https://www.mckinsey.com:443 \"GET /business-functions/mckinsey-digital/our-insights/the-iot-as-a-growth-driver HTTP/1.1\" 200 18653\n",
      "2020-02-18 12:25:22 [urllib3.connectionpool] DEBUG: Starting new HTTPS connection (1): www.mckinsey.com:443\n"
     ]
    },
    {
     "name": "stdout",
     "output_type": "stream",
     "text": [
      "https://www.mckinsey.com/business-functions/operations/our-insights/a-transformation-in-store\n"
     ]
    },
    {
     "name": "stderr",
     "output_type": "stream",
     "text": [
      "2020-02-18 12:25:23 [urllib3.connectionpool] DEBUG: https://www.mckinsey.com:443 \"GET /business-functions/operations/our-insights/a-transformation-in-store HTTP/1.1\" 200 18339\n",
      "2020-02-18 12:25:23 [urllib3.connectionpool] DEBUG: Starting new HTTPS connection (1): www.mckinsey.com:443\n"
     ]
    },
    {
     "name": "stdout",
     "output_type": "stream",
     "text": [
      "https://www.mckinsey.com/featured-insights/leadership/whats-missing-in-leadership-development\n"
     ]
    },
    {
     "name": "stderr",
     "output_type": "stream",
     "text": [
      "2020-02-18 12:25:24 [urllib3.connectionpool] DEBUG: https://www.mckinsey.com:443 \"GET /featured-insights/leadership/whats-missing-in-leadership-development HTTP/1.1\" 200 20526\n",
      "2020-02-18 12:25:24 [urllib3.connectionpool] DEBUG: Starting new HTTPS connection (1): www.mckinsey.com:443\n"
     ]
    },
    {
     "name": "stdout",
     "output_type": "stream",
     "text": [
      "https://www.mckinsey.com/industries/pharmaceuticals-and-medical-products/our-insights/the-digital-imperative-for-pharma-companies-in-japan\n"
     ]
    },
    {
     "name": "stderr",
     "output_type": "stream",
     "text": [
      "2020-02-18 12:25:24 [urllib3.connectionpool] DEBUG: https://www.mckinsey.com:443 \"GET /industries/pharmaceuticals-and-medical-products/our-insights/the-digital-imperative-for-pharma-companies-in-japan HTTP/1.1\" 200 17925\n",
      "2020-02-18 12:25:24 [urllib3.connectionpool] DEBUG: Starting new HTTPS connection (1): www.mckinsey.com:443\n"
     ]
    },
    {
     "name": "stdout",
     "output_type": "stream",
     "text": [
      "https://www.mckinsey.com/industries/technology-media-and-telecommunications/our-insights/how-predictive-analytics-can-boost-product-development\n"
     ]
    },
    {
     "name": "stderr",
     "output_type": "stream",
     "text": [
      "2020-02-18 12:25:25 [urllib3.connectionpool] DEBUG: https://www.mckinsey.com:443 \"GET /industries/technology-media-and-telecommunications/our-insights/how-predictive-analytics-can-boost-product-development HTTP/1.1\" 200 19051\n",
      "2020-02-18 12:25:25 [scrapy.core.engine] DEBUG: Crawled (200) <GET https://www.mckinsey.com/industries/healthcare-systems-and-services/our-insights/how-technology-can-improve-the-patient-experience-a-view-from-tencents-alex-ng> (referer: None)\n",
      "2020-02-18 12:25:25 [urllib3.connectionpool] DEBUG: Starting new HTTPS connection (1): www.mckinsey.com:443\n"
     ]
    },
    {
     "name": "stdout",
     "output_type": "stream",
     "text": [
      "https://www.mckinsey.com/mgi/overview/in-the-news/will-automation-improve-work-for-women-or-make-it-worse\n"
     ]
    },
    {
     "name": "stderr",
     "output_type": "stream",
     "text": [
      "2020-02-18 12:25:25 [urllib3.connectionpool] DEBUG: https://www.mckinsey.com:443 \"GET /mgi/overview/in-the-news/will-automation-improve-work-for-women-or-make-it-worse HTTP/1.1\" 200 17202\n",
      "2020-02-18 12:25:25 [urllib3.connectionpool] DEBUG: Starting new HTTPS connection (1): www.mckinsey.com:443\n"
     ]
    },
    {
     "name": "stdout",
     "output_type": "stream",
     "text": [
      "https://www.mckinsey.com/business-functions/mckinsey-analytics/our-insights/how-to-train-your-analytics-translators\n"
     ]
    },
    {
     "name": "stderr",
     "output_type": "stream",
     "text": [
      "2020-02-18 12:25:26 [urllib3.connectionpool] DEBUG: https://www.mckinsey.com:443 \"GET /business-functions/mckinsey-analytics/our-insights/how-to-train-your-analytics-translators HTTP/1.1\" 200 18358\n",
      "2020-02-18 12:25:26 [scrapy.core.engine] DEBUG: Crawled (200) <GET https://www.mckinsey.com/industries/pharmaceuticals-and-medical-products/our-insights/the-pursuit-of-excellence-in-new-drug-development> (referer: None)\n",
      "2020-02-18 12:25:26 [urllib3.connectionpool] DEBUG: Starting new HTTPS connection (1): www.mckinsey.com:443\n"
     ]
    },
    {
     "name": "stdout",
     "output_type": "stream",
     "text": [
      "https://www.mckinsey.com/industries/healthcare-systems-and-services/our-insights/how-technology-can-improve-the-patient-experience-a-view-from-tencents-alex-ng\n"
     ]
    },
    {
     "name": "stderr",
     "output_type": "stream",
     "text": [
      "2020-02-18 12:25:27 [urllib3.connectionpool] DEBUG: https://www.mckinsey.com:443 \"GET /industries/healthcare-systems-and-services/our-insights/how-technology-can-improve-the-patient-experience-a-view-from-tencents-alex-ng HTTP/1.1\" 200 19149\n",
      "2020-02-18 12:25:27 [scrapy.core.engine] DEBUG: Crawled (200) <GET https://www.mckinsey.com/industries/healthcare-systems-and-services/our-insights/the-journey-to-a-new-tomorrow-ron-kuerbitz> (referer: None)\n",
      "2020-02-18 12:25:27 [urllib3.connectionpool] DEBUG: Starting new HTTPS connection (1): www.mckinsey.com:443\n"
     ]
    },
    {
     "name": "stdout",
     "output_type": "stream",
     "text": [
      "https://www.mckinsey.com/industries/pharmaceuticals-and-medical-products/our-insights/the-pursuit-of-excellence-in-new-drug-development\n"
     ]
    },
    {
     "name": "stderr",
     "output_type": "stream",
     "text": [
      "2020-02-18 12:25:28 [urllib3.connectionpool] DEBUG: https://www.mckinsey.com:443 \"GET /industries/pharmaceuticals-and-medical-products/our-insights/the-pursuit-of-excellence-in-new-drug-development HTTP/1.1\" 200 25684\n",
      "2020-02-18 12:25:28 [scrapy.core.engine] DEBUG: Crawled (200) <GET https://www.mckinsey.com/industries/private-equity-and-principal-investors/our-insights/how-private-equity-is-tackling-operational-complexity> (referer: None)\n",
      "2020-02-18 12:25:28 [urllib3.connectionpool] DEBUG: Starting new HTTPS connection (1): www.mckinsey.com:443\n"
     ]
    },
    {
     "name": "stdout",
     "output_type": "stream",
     "text": [
      "https://www.mckinsey.com/industries/healthcare-systems-and-services/our-insights/the-journey-to-a-new-tomorrow-ron-kuerbitz\n"
     ]
    },
    {
     "name": "stderr",
     "output_type": "stream",
     "text": [
      "2020-02-18 12:25:29 [urllib3.connectionpool] DEBUG: https://www.mckinsey.com:443 \"GET /industries/healthcare-systems-and-services/our-insights/the-journey-to-a-new-tomorrow-ron-kuerbitz HTTP/1.1\" 200 19129\n",
      "2020-02-18 12:25:29 [scrapy.core.engine] DEBUG: Crawled (200) <GET https://www.mckinsey.com/industries/agriculture/our-insights/precision-fisheries-navigating-a-sea-of-troubles-with-advanced-analytics> (referer: None)\n",
      "2020-02-18 12:25:29 [urllib3.connectionpool] DEBUG: Starting new HTTPS connection (1): www.mckinsey.com:443\n"
     ]
    },
    {
     "name": "stdout",
     "output_type": "stream",
     "text": [
      "https://www.mckinsey.com/industries/private-equity-and-principal-investors/our-insights/how-private-equity-is-tackling-operational-complexity\n"
     ]
    },
    {
     "name": "stderr",
     "output_type": "stream",
     "text": [
      "2020-02-18 12:25:30 [urllib3.connectionpool] DEBUG: https://www.mckinsey.com:443 \"GET /industries/private-equity-and-principal-investors/our-insights/how-private-equity-is-tackling-operational-complexity HTTP/1.1\" 200 19784\n",
      "2020-02-18 12:25:30 [scrapy.core.engine] DEBUG: Crawled (200) <GET https://www.mckinsey.com/business-functions/operations/our-insights/shifting-the-dial-in-procurement> (referer: None)\n",
      "2020-02-18 12:25:30 [urllib3.connectionpool] DEBUG: Starting new HTTPS connection (1): www.mckinsey.com:443\n"
     ]
    },
    {
     "name": "stdout",
     "output_type": "stream",
     "text": [
      "https://www.mckinsey.com/industries/agriculture/our-insights/precision-fisheries-navigating-a-sea-of-troubles-with-advanced-analytics\n"
     ]
    },
    {
     "name": "stderr",
     "output_type": "stream",
     "text": [
      "2020-02-18 12:25:31 [urllib3.connectionpool] DEBUG: https://www.mckinsey.com:443 \"GET /industries/agriculture/our-insights/precision-fisheries-navigating-a-sea-of-troubles-with-advanced-analytics HTTP/1.1\" 200 30155\n",
      "2020-02-18 12:25:32 [scrapy.core.engine] DEBUG: Crawled (200) <GET https://www.mckinsey.com/industries/healthcare-systems-and-services/our-insights/digitizing-healthcare-opportunities-for-germany> (referer: None)\n",
      "2020-02-18 12:25:32 [urllib3.connectionpool] DEBUG: Starting new HTTPS connection (1): www.mckinsey.com:443\n"
     ]
    },
    {
     "name": "stdout",
     "output_type": "stream",
     "text": [
      "https://www.mckinsey.com/business-functions/operations/our-insights/shifting-the-dial-in-procurement\n"
     ]
    },
    {
     "name": "stderr",
     "output_type": "stream",
     "text": [
      "2020-02-18 12:25:32 [urllib3.connectionpool] DEBUG: https://www.mckinsey.com:443 \"GET /business-functions/operations/our-insights/shifting-the-dial-in-procurement HTTP/1.1\" 200 20399\n",
      "2020-02-18 12:25:32 [urllib3.connectionpool] DEBUG: Starting new HTTPS connection (1): www.mckinsey.com:443\n"
     ]
    },
    {
     "name": "stdout",
     "output_type": "stream",
     "text": [
      "https://www.mckinsey.com/industries/healthcare-systems-and-services/our-insights/digitizing-healthcare-opportunities-for-germany\n"
     ]
    },
    {
     "name": "stderr",
     "output_type": "stream",
     "text": [
      "2020-02-18 12:25:33 [urllib3.connectionpool] DEBUG: https://www.mckinsey.com:443 \"GET /industries/healthcare-systems-and-services/our-insights/digitizing-healthcare-opportunities-for-germany HTTP/1.1\" 200 23449\n",
      "2020-02-18 12:25:33 [scrapy.core.engine] DEBUG: Crawled (200) <GET https://www.mckinsey.com/industries/retail/our-insights/reviving-grocery-retail-six-imperatives> (referer: None)\n",
      "2020-02-18 12:25:33 [urllib3.connectionpool] DEBUG: Starting new HTTPS connection (1): www.mckinsey.com:443\n"
     ]
    },
    {
     "name": "stdout",
     "output_type": "stream",
     "text": [
      "https://www.mckinsey.com/industries/retail/our-insights/reviving-grocery-retail-six-imperatives\n"
     ]
    },
    {
     "name": "stderr",
     "output_type": "stream",
     "text": [
      "2020-02-18 12:25:34 [urllib3.connectionpool] DEBUG: https://www.mckinsey.com:443 \"GET /industries/retail/our-insights/reviving-grocery-retail-six-imperatives HTTP/1.1\" 200 25207\n",
      "2020-02-18 12:25:34 [scrapy.core.engine] DEBUG: Crawled (200) <GET https://www.mckinsey.com/industries/automotive-and-assembly/our-insights/ten-ways-autonomous-driving-could-redefine-the-automotive-world> (referer: None)\n",
      "2020-02-18 12:25:34 [scrapy.core.engine] DEBUG: Crawled (200) <GET https://www.mckinsey.com/industries/automotive-and-assembly/our-insights/a-long-term-vision-for-the-european-automotive-industry> (referer: None)\n",
      "2020-02-18 12:25:34 [scrapy.core.engine] DEBUG: Crawled (200) <GET https://www.mckinsey.com/industries/public-sector/our-insights/defining-a-public-cloud-strategy-an-interview-with-michael-orno-of-denmarks-statens-it> (referer: None)\n",
      "2020-02-18 12:25:34 [urllib3.connectionpool] DEBUG: Starting new HTTPS connection (1): www.mckinsey.com:443\n"
     ]
    },
    {
     "name": "stdout",
     "output_type": "stream",
     "text": [
      "https://www.mckinsey.com/industries/automotive-and-assembly/our-insights/ten-ways-autonomous-driving-could-redefine-the-automotive-world\n"
     ]
    },
    {
     "name": "stderr",
     "output_type": "stream",
     "text": [
      "2020-02-18 12:25:35 [urllib3.connectionpool] DEBUG: https://www.mckinsey.com:443 \"GET /industries/automotive-and-assembly/our-insights/ten-ways-autonomous-driving-could-redefine-the-automotive-world HTTP/1.1\" 200 18642\n",
      "2020-02-18 12:25:35 [scrapy.core.engine] DEBUG: Crawled (200) <GET https://www.mckinsey.com/industries/automotive-and-assembly/our-insights/reimagining-mobility-a-ceos-guide> (referer: None)\n",
      "2020-02-18 12:25:35 [scrapy.core.engine] DEBUG: Crawled (200) <GET https://www.mckinsey.com/featured-insights/europe/reinforcing-switzerlands-attractiveness-to-multinational-companies> (referer: None)\n",
      "2020-02-18 12:25:35 [scrapy.core.engine] DEBUG: Crawled (200) <GET https://www.mckinsey.com/industries/financial-services/our-insights/the-transformative-power-of-automation-in-banking> (referer: None)\n",
      "2020-02-18 12:25:35 [scrapy.core.engine] DEBUG: Crawled (200) <GET https://www.mckinsey.com/featured-insights/employment-and-growth/technology-jobs-and-the-future-of-work> (referer: None)\n",
      "2020-02-18 12:25:35 [scrapy.core.engine] DEBUG: Crawled (200) <GET https://www.mckinsey.com/industries/public-sector/our-insights/the-great-decoupling> (referer: None)\n",
      "2020-02-18 12:25:35 [scrapy.core.engine] DEBUG: Crawled (200) <GET https://www.mckinsey.com/business-functions/operations/our-insights/pushing-manufacturing-productivity-to-the-max> (referer: None)\n",
      "2020-02-18 12:25:35 [scrapy.core.engine] DEBUG: Crawled (200) <GET https://www.mckinsey.com/featured-insights/china/speak-softly-make-tough-decisions-an-interview-with-alibaba-group-chairman> (referer: None)\n",
      "2020-02-18 12:25:35 [scrapy.core.engine] DEBUG: Crawled (200) <GET https://www.mckinsey.com/industries/pharmaceuticals-and-medical-products/our-insights/what-talent-management-can-do-to-shape-next-generation-pharma-leaders> (referer: None)\n",
      "2020-02-18 12:25:35 [urllib3.connectionpool] DEBUG: Starting new HTTPS connection (1): www.mckinsey.com:443\n"
     ]
    },
    {
     "name": "stdout",
     "output_type": "stream",
     "text": [
      "https://www.mckinsey.com/industries/automotive-and-assembly/our-insights/a-long-term-vision-for-the-european-automotive-industry\n"
     ]
    },
    {
     "name": "stderr",
     "output_type": "stream",
     "text": [
      "2020-02-18 12:25:36 [urllib3.connectionpool] DEBUG: https://www.mckinsey.com:443 \"GET /industries/automotive-and-assembly/our-insights/a-long-term-vision-for-the-european-automotive-industry HTTP/1.1\" 200 25103\n",
      "2020-02-18 12:25:36 [urllib3.connectionpool] DEBUG: Starting new HTTPS connection (1): www.mckinsey.com:443\n"
     ]
    },
    {
     "name": "stdout",
     "output_type": "stream",
     "text": [
      "https://www.mckinsey.com/industries/public-sector/our-insights/defining-a-public-cloud-strategy-an-interview-with-michael-orno-of-denmarks-statens-it\n"
     ]
    },
    {
     "name": "stderr",
     "output_type": "stream",
     "text": [
      "2020-02-18 12:25:36 [urllib3.connectionpool] DEBUG: https://www.mckinsey.com:443 \"GET /industries/public-sector/our-insights/defining-a-public-cloud-strategy-an-interview-with-michael-orno-of-denmarks-statens-it HTTP/1.1\" 200 19821\n",
      "2020-02-18 12:25:36 [urllib3.connectionpool] DEBUG: Starting new HTTPS connection (1): www.mckinsey.com:443\n"
     ]
    },
    {
     "name": "stdout",
     "output_type": "stream",
     "text": [
      "https://www.mckinsey.com/industries/automotive-and-assembly/our-insights/reimagining-mobility-a-ceos-guide\n"
     ]
    },
    {
     "name": "stderr",
     "output_type": "stream",
     "text": [
      "2020-02-18 12:25:38 [urllib3.connectionpool] DEBUG: https://www.mckinsey.com:443 \"GET /industries/automotive-and-assembly/our-insights/reimagining-mobility-a-ceos-guide HTTP/1.1\" 200 27330\n",
      "2020-02-18 12:25:38 [urllib3.connectionpool] DEBUG: Starting new HTTPS connection (1): www.mckinsey.com:443\n"
     ]
    },
    {
     "name": "stdout",
     "output_type": "stream",
     "text": [
      "https://www.mckinsey.com/featured-insights/europe/reinforcing-switzerlands-attractiveness-to-multinational-companies\n"
     ]
    },
    {
     "name": "stderr",
     "output_type": "stream",
     "text": [
      "2020-02-18 12:25:39 [urllib3.connectionpool] DEBUG: https://www.mckinsey.com:443 \"GET /featured-insights/europe/reinforcing-switzerlands-attractiveness-to-multinational-companies HTTP/1.1\" 200 19992\n",
      "2020-02-18 12:25:39 [urllib3.connectionpool] DEBUG: Starting new HTTPS connection (1): www.mckinsey.com:443\n"
     ]
    },
    {
     "name": "stdout",
     "output_type": "stream",
     "text": [
      "https://www.mckinsey.com/industries/financial-services/our-insights/the-transformative-power-of-automation-in-banking\n"
     ]
    },
    {
     "name": "stderr",
     "output_type": "stream",
     "text": [
      "2020-02-18 12:25:40 [urllib3.connectionpool] DEBUG: https://www.mckinsey.com:443 \"GET /industries/financial-services/our-insights/the-transformative-power-of-automation-in-banking HTTP/1.1\" 200 19649\n",
      "2020-02-18 12:25:40 [urllib3.connectionpool] DEBUG: Starting new HTTPS connection (1): www.mckinsey.com:443\n"
     ]
    },
    {
     "name": "stdout",
     "output_type": "stream",
     "text": [
      "https://www.mckinsey.com/featured-insights/employment-and-growth/technology-jobs-and-the-future-of-work\n"
     ]
    },
    {
     "name": "stderr",
     "output_type": "stream",
     "text": [
      "2020-02-18 12:25:40 [urllib3.connectionpool] DEBUG: https://www.mckinsey.com:443 \"GET /featured-insights/employment-and-growth/technology-jobs-and-the-future-of-work HTTP/1.1\" 200 28827\n",
      "2020-02-18 12:25:40 [scrapy.core.scraper] ERROR: Spider error processing <GET https://www.mckinsey.com/featured-insights/employment-and-growth/technology-jobs-and-the-future-of-work> (referer: None)\n",
      "Traceback (most recent call last):\n",
      "  File \"D:\\ProgramData\\Anaconda3\\lib\\site-packages\\twisted\\internet\\defer.py\", line 654, in _runCallbacks\n",
      "    current.result = callback(current.result, *args, **kw)\n",
      "  File \"<ipython-input-122-8fc83100377c>\", line 42, in parse\n",
      "    page_texttype = re.findall(texttype_regex, page_script)[0]\n",
      "IndexError: list index out of range\n",
      "2020-02-18 12:25:40 [urllib3.connectionpool] DEBUG: Starting new HTTPS connection (1): www.mckinsey.com:443\n"
     ]
    },
    {
     "name": "stdout",
     "output_type": "stream",
     "text": [
      "https://www.mckinsey.com/industries/public-sector/our-insights/the-great-decoupling\n"
     ]
    },
    {
     "name": "stderr",
     "output_type": "stream",
     "text": [
      "2020-02-18 12:25:41 [urllib3.connectionpool] DEBUG: https://www.mckinsey.com:443 \"GET /industries/public-sector/our-insights/the-great-decoupling HTTP/1.1\" 200 19679\n",
      "2020-02-18 12:25:41 [urllib3.connectionpool] DEBUG: Starting new HTTPS connection (1): www.mckinsey.com:443\n"
     ]
    },
    {
     "name": "stdout",
     "output_type": "stream",
     "text": [
      "https://www.mckinsey.com/business-functions/operations/our-insights/pushing-manufacturing-productivity-to-the-max\n"
     ]
    },
    {
     "name": "stderr",
     "output_type": "stream",
     "text": [
      "2020-02-18 12:25:42 [urllib3.connectionpool] DEBUG: https://www.mckinsey.com:443 \"GET /business-functions/operations/our-insights/pushing-manufacturing-productivity-to-the-max HTTP/1.1\" 200 18578\n",
      "2020-02-18 12:25:42 [urllib3.connectionpool] DEBUG: Starting new HTTPS connection (1): www.mckinsey.com:443\n"
     ]
    },
    {
     "name": "stdout",
     "output_type": "stream",
     "text": [
      "https://www.mckinsey.com/featured-insights/china/speak-softly-make-tough-decisions-an-interview-with-alibaba-group-chairman\n"
     ]
    },
    {
     "name": "stderr",
     "output_type": "stream",
     "text": [
      "2020-02-18 12:25:43 [urllib3.connectionpool] DEBUG: https://www.mckinsey.com:443 \"GET /featured-insights/china/speak-softly-make-tough-decisions-an-interview-with-alibaba-group-chairman HTTP/1.1\" 200 23427\n",
      "2020-02-18 12:25:43 [urllib3.connectionpool] DEBUG: Starting new HTTPS connection (1): www.mckinsey.com:443\n"
     ]
    },
    {
     "name": "stdout",
     "output_type": "stream",
     "text": [
      "https://www.mckinsey.com/industries/pharmaceuticals-and-medical-products/our-insights/what-talent-management-can-do-to-shape-next-generation-pharma-leaders\n"
     ]
    },
    {
     "name": "stderr",
     "output_type": "stream",
     "text": [
      "2020-02-18 12:25:44 [urllib3.connectionpool] DEBUG: https://www.mckinsey.com:443 \"GET /industries/pharmaceuticals-and-medical-products/our-insights/what-talent-management-can-do-to-shape-next-generation-pharma-leaders HTTP/1.1\" 200 20373\n",
      "2020-02-18 12:25:44 [scrapy.core.engine] DEBUG: Crawled (200) <GET https://www.mckinsey.com/industries/advanced-electronics/our-insights/opportunities-in-packaging-an-interview-with-sealed-airs-president-and-ceo-ted-doheny> (referer: None)\n",
      "2020-02-18 12:25:44 [scrapy.core.engine] DEBUG: Crawled (200) <GET https://www.mckinsey.com/business-functions/operations/our-insights/we-are-living-in-a-digitally-disrupted-world> (referer: None)\n",
      "2020-02-18 12:25:44 [scrapy.core.engine] DEBUG: Crawled (200) <GET https://www.mckinsey.com/featured-insights/europe/the-future-of-work-switzerlands-digital-opportunity> (referer: None)\n",
      "2020-02-18 12:25:44 [scrapy.core.engine] DEBUG: Crawled (200) <GET https://www.mckinsey.com/business-functions/mckinsey-digital/how-we-help-clients/cybersecurity> (referer: None)\n",
      "2020-02-18 12:25:44 [scrapy.core.engine] DEBUG: Crawled (200) <GET https://www.mckinsey.com/business-functions/operations/our-insights/how-generative-design-could-reshape-the-future-of-product-development> (referer: None)\n",
      "2020-02-18 12:25:44 [scrapy.core.engine] DEBUG: Crawled (200) <GET https://www.mckinsey.com/industries/aerospace-and-defense/our-insights/modernizing-the-us-nuclear-deterrent-an-interview-with-elizabeth-durham-ruiz> (referer: None)\n",
      "2020-02-18 12:25:44 [scrapy.core.engine] DEBUG: Crawled (200) <GET https://www.mckinsey.com/industries/consumer-packaged-goods/our-insights/six-governing-considerations-to-modernize-marketing> (referer: None)\n",
      "2020-02-18 12:25:44 [scrapy.core.engine] DEBUG: Crawled (200) <GET https://www.mckinsey.com/business-functions/marketing-and-sales/our-insights/competing-through-data-three-experts-offer-their-game-plans> (referer: None)\n",
      "2020-02-18 12:25:44 [urllib3.connectionpool] DEBUG: Starting new HTTPS connection (1): www.mckinsey.com:443\n"
     ]
    },
    {
     "name": "stdout",
     "output_type": "stream",
     "text": [
      "https://www.mckinsey.com/industries/advanced-electronics/our-insights/opportunities-in-packaging-an-interview-with-sealed-airs-president-and-ceo-ted-doheny\n"
     ]
    },
    {
     "name": "stderr",
     "output_type": "stream",
     "text": [
      "2020-02-18 12:25:44 [urllib3.connectionpool] DEBUG: https://www.mckinsey.com:443 \"GET /industries/advanced-electronics/our-insights/opportunities-in-packaging-an-interview-with-sealed-airs-president-and-ceo-ted-doheny HTTP/1.1\" 200 19614\n",
      "2020-02-18 12:25:45 [urllib3.connectionpool] DEBUG: Starting new HTTPS connection (1): www.mckinsey.com:443\n"
     ]
    },
    {
     "name": "stdout",
     "output_type": "stream",
     "text": [
      "https://www.mckinsey.com/business-functions/operations/our-insights/we-are-living-in-a-digitally-disrupted-world\n"
     ]
    },
    {
     "name": "stderr",
     "output_type": "stream",
     "text": [
      "2020-02-18 12:25:45 [urllib3.connectionpool] DEBUG: https://www.mckinsey.com:443 \"GET /business-functions/operations/our-insights/we-are-living-in-a-digitally-disrupted-world HTTP/1.1\" 200 18261\n",
      "2020-02-18 12:25:45 [urllib3.connectionpool] DEBUG: Starting new HTTPS connection (1): www.mckinsey.com:443\n"
     ]
    },
    {
     "name": "stdout",
     "output_type": "stream",
     "text": [
      "https://www.mckinsey.com/featured-insights/europe/the-future-of-work-switzerlands-digital-opportunity\n"
     ]
    },
    {
     "name": "stderr",
     "output_type": "stream",
     "text": [
      "2020-02-18 12:25:46 [urllib3.connectionpool] DEBUG: https://www.mckinsey.com:443 \"GET /featured-insights/europe/the-future-of-work-switzerlands-digital-opportunity HTTP/1.1\" 200 20757\n",
      "2020-02-18 12:25:46 [urllib3.connectionpool] DEBUG: Starting new HTTPS connection (1): www.mckinsey.com:443\n"
     ]
    },
    {
     "name": "stdout",
     "output_type": "stream",
     "text": [
      "https://www.mckinsey.com/business-functions/mckinsey-digital/how-we-help-clients/cybersecurity\n"
     ]
    },
    {
     "name": "stderr",
     "output_type": "stream",
     "text": [
      "2020-02-18 12:25:47 [urllib3.connectionpool] DEBUG: https://www.mckinsey.com:443 \"GET /business-functions/mckinsey-digital/how-we-help-clients/cybersecurity HTTP/1.1\" 200 19385\n",
      "2020-02-18 12:25:47 [scrapy.core.scraper] ERROR: Spider error processing <GET https://www.mckinsey.com/business-functions/mckinsey-digital/how-we-help-clients/cybersecurity> (referer: None)\n",
      "Traceback (most recent call last):\n",
      "  File \"D:\\ProgramData\\Anaconda3\\lib\\site-packages\\twisted\\internet\\defer.py\", line 654, in _runCallbacks\n",
      "    current.result = callback(current.result, *args, **kw)\n",
      "  File \"<ipython-input-122-8fc83100377c>\", line 41, in parse\n",
      "    page_date = re.findall(date_regex, page_script)[0]\n",
      "IndexError: list index out of range\n",
      "2020-02-18 12:25:47 [urllib3.connectionpool] DEBUG: Starting new HTTPS connection (1): www.mckinsey.com:443\n"
     ]
    },
    {
     "name": "stdout",
     "output_type": "stream",
     "text": [
      "https://www.mckinsey.com/business-functions/operations/our-insights/how-generative-design-could-reshape-the-future-of-product-development\n"
     ]
    },
    {
     "name": "stderr",
     "output_type": "stream",
     "text": [
      "2020-02-18 12:25:47 [urllib3.connectionpool] DEBUG: https://www.mckinsey.com:443 \"GET /business-functions/operations/our-insights/how-generative-design-could-reshape-the-future-of-product-development HTTP/1.1\" 200 19101\n",
      "2020-02-18 12:25:47 [urllib3.connectionpool] DEBUG: Starting new HTTPS connection (1): www.mckinsey.com:443\n"
     ]
    },
    {
     "name": "stdout",
     "output_type": "stream",
     "text": [
      "https://www.mckinsey.com/industries/aerospace-and-defense/our-insights/modernizing-the-us-nuclear-deterrent-an-interview-with-elizabeth-durham-ruiz\n"
     ]
    },
    {
     "name": "stderr",
     "output_type": "stream",
     "text": [
      "2020-02-18 12:25:48 [urllib3.connectionpool] DEBUG: https://www.mckinsey.com:443 \"GET /industries/aerospace-and-defense/our-insights/modernizing-the-us-nuclear-deterrent-an-interview-with-elizabeth-durham-ruiz HTTP/1.1\" 200 18263\n",
      "2020-02-18 12:25:48 [urllib3.connectionpool] DEBUG: Starting new HTTPS connection (1): www.mckinsey.com:443\n"
     ]
    },
    {
     "name": "stdout",
     "output_type": "stream",
     "text": [
      "https://www.mckinsey.com/industries/consumer-packaged-goods/our-insights/six-governing-considerations-to-modernize-marketing\n"
     ]
    },
    {
     "name": "stderr",
     "output_type": "stream",
     "text": [
      "2020-02-18 12:25:48 [urllib3.connectionpool] DEBUG: https://www.mckinsey.com:443 \"GET /industries/consumer-packaged-goods/our-insights/six-governing-considerations-to-modernize-marketing HTTP/1.1\" 200 19259\n",
      "2020-02-18 12:25:48 [urllib3.connectionpool] DEBUG: Starting new HTTPS connection (1): www.mckinsey.com:443\n"
     ]
    },
    {
     "name": "stdout",
     "output_type": "stream",
     "text": [
      "https://www.mckinsey.com/business-functions/marketing-and-sales/our-insights/competing-through-data-three-experts-offer-their-game-plans\n"
     ]
    },
    {
     "name": "stderr",
     "output_type": "stream",
     "text": [
      "2020-02-18 12:25:49 [urllib3.connectionpool] DEBUG: https://www.mckinsey.com:443 \"GET /business-functions/marketing-and-sales/our-insights/competing-through-data-three-experts-offer-their-game-plans HTTP/1.1\" 200 23613\n",
      "2020-02-18 12:25:49 [scrapy.core.engine] DEBUG: Crawled (200) <GET https://www.mckinsey.com/business-functions/mckinsey-analytics/our-insights/competing-in-a-world-of-sectors-without-borders> (referer: None)\n",
      "2020-02-18 12:25:49 [scrapy.core.engine] DEBUG: Crawled (200) <GET https://www.mckinsey.com/industries/pharmaceuticals-and-medical-products/our-insights/asia-on-the-move-five-trends-shaping-the-asia-biopharmaceutical-market> (referer: None)\n",
      "2020-02-18 12:25:50 [scrapy.core.engine] DEBUG: Crawled (200) <GET https://www.mckinsey.com/featured-insights/innovation-and-growth/reviving-innovation-in-europe> (referer: None)\n",
      "2020-02-18 12:25:50 [scrapy.core.engine] DEBUG: Crawled (200) <GET https://www.mckinsey.com/industries/automotive-and-assembly/our-insights/mobilitys-second-great-inflection-point> (referer: None)\n",
      "2020-02-18 12:25:50 [scrapy.core.engine] DEBUG: Crawled (200) <GET https://www.mckinsey.com/industries/financial-services/our-insights/banking-matters/realizing-m-and-a-value-creation-in-us-banking-and-fintech-nine-steps-for-success> (referer: None)\n",
      "2020-02-18 12:25:50 [scrapy.core.engine] DEBUG: Crawled (200) <GET https://www.mckinsey.com/industries/public-sector/our-insights/how-smart-choices-on-taxation-can-help-close-the-growing-fiscal-gap> (referer: None)\n",
      "2020-02-18 12:25:50 [scrapy.core.engine] DEBUG: Crawled (200) <GET https://www.mckinsey.com/industries/capital-projects-and-infrastructure/our-insights/going-digital-to-advance-infrastructure-delivery-the-open-information-project> (referer: None)\n",
      "2020-02-18 12:25:50 [scrapy.core.engine] DEBUG: Crawled (200) <GET https://www.mckinsey.com/industries/public-sector/our-insights/promoting-cross-sector-collaboration-an-interview-with-penny-pritzker> (referer: None)\n",
      "2020-02-18 12:25:50 [urllib3.connectionpool] DEBUG: Starting new HTTPS connection (1): www.mckinsey.com:443\n"
     ]
    },
    {
     "name": "stdout",
     "output_type": "stream",
     "text": [
      "https://www.mckinsey.com/business-functions/mckinsey-analytics/our-insights/competing-in-a-world-of-sectors-without-borders\n"
     ]
    },
    {
     "name": "stderr",
     "output_type": "stream",
     "text": [
      "2020-02-18 12:25:51 [urllib3.connectionpool] DEBUG: https://www.mckinsey.com:443 \"GET /business-functions/mckinsey-analytics/our-insights/competing-in-a-world-of-sectors-without-borders HTTP/1.1\" 200 27195\n",
      "2020-02-18 12:25:51 [scrapy.core.engine] DEBUG: Crawled (200) <GET https://www.mckinsey.com/industries/retail/our-insights/how-turkish-companies-can-become-global-successes> (referer: None)\n",
      "2020-02-18 12:25:51 [scrapy.core.engine] DEBUG: Crawled (200) <GET https://www.mckinsey.com/business-functions/mckinsey-digital/our-insights/competing-in-a-world-of-digital-ecosystems> (referer: None)\n",
      "2020-02-18 12:25:51 [scrapy.core.engine] DEBUG: Crawled (200) <GET https://www.mckinsey.com/business-functions/operations/our-insights/the-automation-imperative> (referer: None)\n",
      "2020-02-18 12:25:51 [scrapy.core.engine] DEBUG: Crawled (200) <GET https://www.mckinsey.com/business-functions/organization/our-insights/learning-innovation-in-the-digital-age> (referer: None)\n",
      "2020-02-18 12:25:51 [scrapy.core.engine] DEBUG: Crawled (200) <GET https://www.mckinsey.com/industries/capital-projects-and-infrastructure/our-insights/getting-ahead-of-the-market-how-big-data-is-transforming-real-estate> (referer: None)\n",
      "2020-02-18 12:25:51 [scrapy.core.engine] DEBUG: Crawled (200) <GET https://www.mckinsey.com/industries/financial-services/our-insights/banking-matters/banking-operations-for-a-customer-centric-world> (referer: None)\n",
      "2020-02-18 12:25:51 [urllib3.connectionpool] DEBUG: Starting new HTTPS connection (1): www.mckinsey.com:443\n"
     ]
    },
    {
     "name": "stdout",
     "output_type": "stream",
     "text": [
      "https://www.mckinsey.com/industries/pharmaceuticals-and-medical-products/our-insights/asia-on-the-move-five-trends-shaping-the-asia-biopharmaceutical-market\n"
     ]
    },
    {
     "name": "stderr",
     "output_type": "stream",
     "text": [
      "2020-02-18 12:25:51 [urllib3.connectionpool] DEBUG: https://www.mckinsey.com:443 \"GET /industries/pharmaceuticals-and-medical-products/our-insights/asia-on-the-move-five-trends-shaping-the-asia-biopharmaceutical-market HTTP/1.1\" 200 26171\n",
      "2020-02-18 12:25:51 [urllib3.connectionpool] DEBUG: Starting new HTTPS connection (1): www.mckinsey.com:443\n"
     ]
    },
    {
     "name": "stdout",
     "output_type": "stream",
     "text": [
      "https://www.mckinsey.com/featured-insights/innovation-and-growth/reviving-innovation-in-europe\n"
     ]
    },
    {
     "name": "stderr",
     "output_type": "stream",
     "text": [
      "2020-02-18 12:25:53 [urllib3.connectionpool] DEBUG: https://www.mckinsey.com:443 \"GET /featured-insights/innovation-and-growth/reviving-innovation-in-europe HTTP/1.1\" 200 27383\n",
      "2020-02-18 12:25:53 [scrapy.core.scraper] ERROR: Spider error processing <GET https://www.mckinsey.com/featured-insights/innovation-and-growth/reviving-innovation-in-europe> (referer: None)\n",
      "Traceback (most recent call last):\n",
      "  File \"D:\\ProgramData\\Anaconda3\\lib\\site-packages\\twisted\\internet\\defer.py\", line 654, in _runCallbacks\n",
      "    current.result = callback(current.result, *args, **kw)\n",
      "  File \"<ipython-input-122-8fc83100377c>\", line 42, in parse\n",
      "    page_texttype = re.findall(texttype_regex, page_script)[0]\n",
      "IndexError: list index out of range\n",
      "2020-02-18 12:25:53 [urllib3.connectionpool] DEBUG: Starting new HTTPS connection (1): www.mckinsey.com:443\n"
     ]
    },
    {
     "name": "stdout",
     "output_type": "stream",
     "text": [
      "https://www.mckinsey.com/industries/automotive-and-assembly/our-insights/mobilitys-second-great-inflection-point\n"
     ]
    },
    {
     "name": "stderr",
     "output_type": "stream",
     "text": [
      "2020-02-18 12:25:54 [urllib3.connectionpool] DEBUG: https://www.mckinsey.com:443 \"GET /industries/automotive-and-assembly/our-insights/mobilitys-second-great-inflection-point HTTP/1.1\" 200 27993\n",
      "2020-02-18 12:25:54 [urllib3.connectionpool] DEBUG: Starting new HTTPS connection (1): www.mckinsey.com:443\n"
     ]
    },
    {
     "name": "stdout",
     "output_type": "stream",
     "text": [
      "https://www.mckinsey.com/industries/financial-services/our-insights/banking-matters/realizing-m-and-a-value-creation-in-us-banking-and-fintech-nine-steps-for-success\n"
     ]
    },
    {
     "name": "stderr",
     "output_type": "stream",
     "text": [
      "2020-02-18 12:25:56 [urllib3.connectionpool] DEBUG: https://www.mckinsey.com:443 \"GET /industries/financial-services/our-insights/banking-matters/realizing-m-and-a-value-creation-in-us-banking-and-fintech-nine-steps-for-success HTTP/1.1\" 200 23614\n",
      "2020-02-18 12:25:56 [scrapy.core.scraper] ERROR: Spider error processing <GET https://www.mckinsey.com/industries/financial-services/our-insights/banking-matters/realizing-m-and-a-value-creation-in-us-banking-and-fintech-nine-steps-for-success> (referer: None)\n",
      "Traceback (most recent call last):\n",
      "  File \"D:\\ProgramData\\Anaconda3\\lib\\site-packages\\twisted\\internet\\defer.py\", line 654, in _runCallbacks\n",
      "    current.result = callback(current.result, *args, **kw)\n",
      "  File \"<ipython-input-122-8fc83100377c>\", line 37, in parse\n",
      "    content_type = re.findall(conttype_regex, page_script)[0]\n",
      "IndexError: list index out of range\n",
      "2020-02-18 12:25:56 [urllib3.connectionpool] DEBUG: Starting new HTTPS connection (1): www.mckinsey.com:443\n"
     ]
    },
    {
     "name": "stdout",
     "output_type": "stream",
     "text": [
      "https://www.mckinsey.com/industries/public-sector/our-insights/how-smart-choices-on-taxation-can-help-close-the-growing-fiscal-gap\n"
     ]
    },
    {
     "name": "stderr",
     "output_type": "stream",
     "text": [
      "2020-02-18 12:25:56 [urllib3.connectionpool] DEBUG: https://www.mckinsey.com:443 \"GET /industries/public-sector/our-insights/how-smart-choices-on-taxation-can-help-close-the-growing-fiscal-gap HTTP/1.1\" 200 26876\n",
      "2020-02-18 12:25:56 [urllib3.connectionpool] DEBUG: Starting new HTTPS connection (1): www.mckinsey.com:443\n"
     ]
    },
    {
     "name": "stdout",
     "output_type": "stream",
     "text": [
      "https://www.mckinsey.com/industries/capital-projects-and-infrastructure/our-insights/going-digital-to-advance-infrastructure-delivery-the-open-information-project\n"
     ]
    },
    {
     "name": "stderr",
     "output_type": "stream",
     "text": [
      "2020-02-18 12:25:57 [urllib3.connectionpool] DEBUG: https://www.mckinsey.com:443 \"GET /industries/capital-projects-and-infrastructure/our-insights/going-digital-to-advance-infrastructure-delivery-the-open-information-project HTTP/1.1\" 200 19030\n",
      "2020-02-18 12:25:57 [urllib3.connectionpool] DEBUG: Starting new HTTPS connection (1): www.mckinsey.com:443\n"
     ]
    },
    {
     "name": "stdout",
     "output_type": "stream",
     "text": [
      "https://www.mckinsey.com/industries/public-sector/our-insights/promoting-cross-sector-collaboration-an-interview-with-penny-pritzker\n"
     ]
    },
    {
     "name": "stderr",
     "output_type": "stream",
     "text": [
      "2020-02-18 12:25:57 [urllib3.connectionpool] DEBUG: https://www.mckinsey.com:443 \"GET /industries/public-sector/our-insights/promoting-cross-sector-collaboration-an-interview-with-penny-pritzker HTTP/1.1\" 200 20089\n",
      "2020-02-18 12:25:57 [scrapy.core.engine] DEBUG: Crawled (200) <GET https://www.mckinsey.com/business-functions/strategy-and-corporate-finance/our-insights/debiasing-the-corporation-an-interview-with-nobel-laureate-richard-thaler> (referer: None)\n",
      "2020-02-18 12:25:57 [scrapy.core.engine] DEBUG: Crawled (200) <GET https://www.mckinsey.com/industries/automotive-and-assembly/our-insights/how-automakers-can-master-new-mobility> (referer: None)\n",
      "2020-02-18 12:25:57 [urllib3.connectionpool] DEBUG: Starting new HTTPS connection (1): www.mckinsey.com:443\n"
     ]
    },
    {
     "name": "stdout",
     "output_type": "stream",
     "text": [
      "https://www.mckinsey.com/industries/retail/our-insights/how-turkish-companies-can-become-global-successes\n"
     ]
    },
    {
     "name": "stderr",
     "output_type": "stream",
     "text": [
      "2020-02-18 12:25:58 [urllib3.connectionpool] DEBUG: https://www.mckinsey.com:443 \"GET /industries/retail/our-insights/how-turkish-companies-can-become-global-successes HTTP/1.1\" 200 19621\n",
      "2020-02-18 12:25:58 [urllib3.connectionpool] DEBUG: Starting new HTTPS connection (1): www.mckinsey.com:443\n"
     ]
    },
    {
     "name": "stdout",
     "output_type": "stream",
     "text": [
      "https://www.mckinsey.com/business-functions/mckinsey-digital/our-insights/competing-in-a-world-of-digital-ecosystems\n"
     ]
    },
    {
     "name": "stderr",
     "output_type": "stream",
     "text": [
      "2020-02-18 12:25:59 [urllib3.connectionpool] DEBUG: https://www.mckinsey.com:443 \"GET /business-functions/mckinsey-digital/our-insights/competing-in-a-world-of-digital-ecosystems HTTP/1.1\" 200 19444\n",
      "2020-02-18 12:25:59 [urllib3.connectionpool] DEBUG: Starting new HTTPS connection (1): www.mckinsey.com:443\n"
     ]
    },
    {
     "name": "stdout",
     "output_type": "stream",
     "text": [
      "https://www.mckinsey.com/business-functions/operations/our-insights/the-automation-imperative\n"
     ]
    },
    {
     "name": "stderr",
     "output_type": "stream",
     "text": [
      "2020-02-18 12:25:59 [urllib3.connectionpool] DEBUG: https://www.mckinsey.com:443 \"GET /business-functions/operations/our-insights/the-automation-imperative HTTP/1.1\" 200 19094\n",
      "2020-02-18 12:25:59 [urllib3.connectionpool] DEBUG: Starting new HTTPS connection (1): www.mckinsey.com:443\n"
     ]
    },
    {
     "name": "stdout",
     "output_type": "stream",
     "text": [
      "https://www.mckinsey.com/business-functions/organization/our-insights/learning-innovation-in-the-digital-age\n"
     ]
    },
    {
     "name": "stderr",
     "output_type": "stream",
     "text": [
      "2020-02-18 12:26:00 [urllib3.connectionpool] DEBUG: https://www.mckinsey.com:443 \"GET /business-functions/organization/our-insights/learning-innovation-in-the-digital-age HTTP/1.1\" 200 20024\n",
      "2020-02-18 12:26:00 [urllib3.connectionpool] DEBUG: Starting new HTTPS connection (1): www.mckinsey.com:443\n"
     ]
    },
    {
     "name": "stdout",
     "output_type": "stream",
     "text": [
      "https://www.mckinsey.com/industries/capital-projects-and-infrastructure/our-insights/getting-ahead-of-the-market-how-big-data-is-transforming-real-estate\n"
     ]
    },
    {
     "name": "stderr",
     "output_type": "stream",
     "text": [
      "2020-02-18 12:26:00 [urllib3.connectionpool] DEBUG: https://www.mckinsey.com:443 \"GET /industries/capital-projects-and-infrastructure/our-insights/getting-ahead-of-the-market-how-big-data-is-transforming-real-estate HTTP/1.1\" 200 19464\n",
      "2020-02-18 12:26:00 [urllib3.connectionpool] DEBUG: Starting new HTTPS connection (1): www.mckinsey.com:443\n"
     ]
    },
    {
     "name": "stdout",
     "output_type": "stream",
     "text": [
      "https://www.mckinsey.com/industries/financial-services/our-insights/banking-matters/banking-operations-for-a-customer-centric-world\n"
     ]
    },
    {
     "name": "stderr",
     "output_type": "stream",
     "text": [
      "2020-02-18 12:26:01 [urllib3.connectionpool] DEBUG: https://www.mckinsey.com:443 \"GET /industries/financial-services/our-insights/banking-matters/banking-operations-for-a-customer-centric-world HTTP/1.1\" 200 18598\n",
      "2020-02-18 12:26:01 [scrapy.core.scraper] ERROR: Spider error processing <GET https://www.mckinsey.com/industries/financial-services/our-insights/banking-matters/banking-operations-for-a-customer-centric-world> (referer: None)\n",
      "Traceback (most recent call last):\n",
      "  File \"D:\\ProgramData\\Anaconda3\\lib\\site-packages\\twisted\\internet\\defer.py\", line 654, in _runCallbacks\n",
      "    current.result = callback(current.result, *args, **kw)\n",
      "  File \"<ipython-input-122-8fc83100377c>\", line 37, in parse\n",
      "    content_type = re.findall(conttype_regex, page_script)[0]\n",
      "IndexError: list index out of range\n",
      "2020-02-18 12:26:01 [scrapy.core.engine] DEBUG: Crawled (200) <GET https://www.mckinsey.com/industries/retail/our-insights/the-invisible-hand-on-the-path-to-autonomous-planning-in-food-retail> (referer: None)\n",
      "2020-02-18 12:26:01 [scrapy.core.engine] DEBUG: Crawled (200) <GET https://www.mckinsey.com/mgi/overview/in-the-news/2018> (referer: None)\n",
      "2020-02-18 12:26:01 [urllib3.connectionpool] DEBUG: Starting new HTTPS connection (1): www.mckinsey.com:443\n"
     ]
    },
    {
     "name": "stdout",
     "output_type": "stream",
     "text": [
      "https://www.mckinsey.com/business-functions/strategy-and-corporate-finance/our-insights/debiasing-the-corporation-an-interview-with-nobel-laureate-richard-thaler\n"
     ]
    },
    {
     "name": "stderr",
     "output_type": "stream",
     "text": [
      "2020-02-18 12:26:03 [urllib3.connectionpool] DEBUG: https://www.mckinsey.com:443 \"GET /business-functions/strategy-and-corporate-finance/our-insights/debiasing-the-corporation-an-interview-with-nobel-laureate-richard-thaler HTTP/1.1\" 200 22065\n",
      "2020-02-18 12:26:03 [urllib3.connectionpool] DEBUG: Starting new HTTPS connection (1): www.mckinsey.com:443\n"
     ]
    },
    {
     "name": "stdout",
     "output_type": "stream",
     "text": [
      "https://www.mckinsey.com/industries/automotive-and-assembly/our-insights/how-automakers-can-master-new-mobility\n"
     ]
    },
    {
     "name": "stderr",
     "output_type": "stream",
     "text": [
      "2020-02-18 12:26:03 [urllib3.connectionpool] DEBUG: https://www.mckinsey.com:443 \"GET /industries/automotive-and-assembly/our-insights/how-automakers-can-master-new-mobility HTTP/1.1\" 200 19765\n",
      "2020-02-18 12:26:03 [scrapy.core.engine] DEBUG: Crawled (200) <GET https://www.mckinsey.com/mgi/overview/in-the-news/next-generation-technologies-and-the-future-of-trade> (referer: None)\n",
      "2020-02-18 12:26:03 [urllib3.connectionpool] DEBUG: Starting new HTTPS connection (1): www.mckinsey.com:443\n"
     ]
    },
    {
     "name": "stdout",
     "output_type": "stream",
     "text": [
      "https://www.mckinsey.com/industries/retail/our-insights/the-invisible-hand-on-the-path-to-autonomous-planning-in-food-retail\n"
     ]
    },
    {
     "name": "stderr",
     "output_type": "stream",
     "text": [
      "2020-02-18 12:26:04 [urllib3.connectionpool] DEBUG: https://www.mckinsey.com:443 \"GET /industries/retail/our-insights/the-invisible-hand-on-the-path-to-autonomous-planning-in-food-retail HTTP/1.1\" 200 19709\n",
      "2020-02-18 12:26:04 [urllib3.connectionpool] DEBUG: Starting new HTTPS connection (1): www.mckinsey.com:443\n"
     ]
    },
    {
     "name": "stdout",
     "output_type": "stream",
     "text": [
      "https://www.mckinsey.com/mgi/overview/in-the-news/2018\n"
     ]
    },
    {
     "name": "stderr",
     "output_type": "stream",
     "text": [
      "2020-02-18 12:26:05 [urllib3.connectionpool] DEBUG: https://www.mckinsey.com:443 \"GET /mgi/overview/in-the-news/2018 HTTP/1.1\" 200 17184\n",
      "2020-02-18 12:26:05 [scrapy.core.scraper] ERROR: Spider error processing <GET https://www.mckinsey.com/mgi/overview/in-the-news/2018> (referer: None)\n",
      "Traceback (most recent call last):\n",
      "  File \"D:\\ProgramData\\Anaconda3\\lib\\site-packages\\twisted\\internet\\defer.py\", line 654, in _runCallbacks\n",
      "    current.result = callback(current.result, *args, **kw)\n",
      "  File \"<ipython-input-122-8fc83100377c>\", line 37, in parse\n",
      "    content_type = re.findall(conttype_regex, page_script)[0]\n",
      "IndexError: list index out of range\n",
      "2020-02-18 12:26:05 [scrapy.core.engine] DEBUG: Crawled (200) <GET https://www.mckinsey.com/business-functions/mckinsey-digital/our-insights/managing-data-as-an-asset-an-interview-with-the-ceo-of-informatica> (referer: None)\n",
      "2020-02-18 12:26:05 [urllib3.connectionpool] DEBUG: Starting new HTTPS connection (1): www.mckinsey.com:443\n"
     ]
    },
    {
     "name": "stdout",
     "output_type": "stream",
     "text": [
      "https://www.mckinsey.com/mgi/overview/in-the-news/next-generation-technologies-and-the-future-of-trade\n"
     ]
    },
    {
     "name": "stderr",
     "output_type": "stream",
     "text": [
      "2020-02-18 12:26:06 [urllib3.connectionpool] DEBUG: https://www.mckinsey.com:443 \"GET /mgi/overview/in-the-news/next-generation-technologies-and-the-future-of-trade HTTP/1.1\" 200 17375\n",
      "2020-02-18 12:26:06 [urllib3.connectionpool] DEBUG: Starting new HTTPS connection (1): www.mckinsey.com:443\n"
     ]
    },
    {
     "name": "stdout",
     "output_type": "stream",
     "text": [
      "https://www.mckinsey.com/business-functions/mckinsey-digital/our-insights/managing-data-as-an-asset-an-interview-with-the-ceo-of-informatica\n"
     ]
    },
    {
     "name": "stderr",
     "output_type": "stream",
     "text": [
      "2020-02-18 12:26:06 [urllib3.connectionpool] DEBUG: https://www.mckinsey.com:443 \"GET /business-functions/mckinsey-digital/our-insights/managing-data-as-an-asset-an-interview-with-the-ceo-of-informatica HTTP/1.1\" 200 19869\n",
      "2020-02-18 12:26:06 [scrapy.core.engine] DEBUG: Crawled (200) <GET https://www.mckinsey.com/business-functions/operations/our-insights/mapping-heavy-industrys-digital-manufacturing-opportunities> (referer: None)\n",
      "2020-02-18 12:26:06 [urllib3.connectionpool] DEBUG: Starting new HTTPS connection (1): www.mckinsey.com:443\n"
     ]
    },
    {
     "name": "stdout",
     "output_type": "stream",
     "text": [
      "https://www.mckinsey.com/business-functions/operations/our-insights/mapping-heavy-industrys-digital-manufacturing-opportunities\n"
     ]
    },
    {
     "name": "stderr",
     "output_type": "stream",
     "text": [
      "2020-02-18 12:26:07 [urllib3.connectionpool] DEBUG: https://www.mckinsey.com:443 \"GET /business-functions/operations/our-insights/mapping-heavy-industrys-digital-manufacturing-opportunities HTTP/1.1\" 200 19711\n",
      "2020-02-18 12:26:07 [scrapy.core.engine] DEBUG: Crawled (200) <GET https://www.mckinsey.com/featured-insights/europe/brexit-the-bigger-picture-revitalizing-uk-exports-in-the-new-world-of-trade> (referer: None)\n",
      "2020-02-18 12:26:07 [urllib3.connectionpool] DEBUG: Starting new HTTPS connection (1): www.mckinsey.com:443\n"
     ]
    },
    {
     "name": "stdout",
     "output_type": "stream",
     "text": [
      "https://www.mckinsey.com/featured-insights/europe/brexit-the-bigger-picture-revitalizing-uk-exports-in-the-new-world-of-trade\n"
     ]
    },
    {
     "name": "stderr",
     "output_type": "stream",
     "text": [
      "2020-02-18 12:26:07 [urllib3.connectionpool] DEBUG: https://www.mckinsey.com:443 \"GET /featured-insights/europe/brexit-the-bigger-picture-revitalizing-uk-exports-in-the-new-world-of-trade HTTP/1.1\" 200 20604\n",
      "2020-02-18 12:26:07 [scrapy.core.engine] DEBUG: Crawled (200) <GET https://www.mckinsey.com/industries/oil-and-gas/our-insights/a-new-mandate-for-the-oil-and-gas-chief-information-officer> (referer: None)\n",
      "2020-02-18 12:26:07 [scrapy.core.engine] DEBUG: Crawled (200) <GET https://www.mckinsey.com/industries/public-sector/our-insights/leveraging-technology-to-improve-security-and-traveler-experience> (referer: None)\n",
      "2020-02-18 12:26:07 [scrapy.core.engine] DEBUG: Crawled (200) <GET https://www.mckinsey.com/industries/technology-media-and-telecommunications/our-insights/how-tech-giants-deliver-outsized-returns-and-what-it-means-for-the-rest-of-us> (referer: None)\n",
      "2020-02-18 12:26:07 [scrapy.core.engine] DEBUG: Crawled (200) <GET https://www.mckinsey.com/business-functions/operations/our-insights/lighthouse-manufacturers-lead-the-way> (referer: None)\n",
      "2020-02-18 12:26:07 [scrapy.core.engine] DEBUG: Crawled (200) <GET https://www.mckinsey.com/industries/capital-projects-and-infrastructure/our-insights/breaking-the-mold-the-construction-players-of-the-future> (referer: None)\n",
      "2020-02-18 12:26:07 [scrapy.core.engine] DEBUG: Crawled (200) <GET https://www.mckinsey.com/industries/capital-projects-and-infrastructure/our-insights/building-change-opportunities-in-disruption> (referer: None)\n",
      "2020-02-18 12:26:07 [scrapy.core.engine] DEBUG: Crawled (200) <GET https://www.mckinsey.com/business-functions/strategy-and-corporate-finance/our-insights/the-new-cfo-mandate-prioritize-transform-repeat> (referer: None)\n",
      "2020-02-18 12:26:07 [urllib3.connectionpool] DEBUG: Starting new HTTPS connection (1): www.mckinsey.com:443\n"
     ]
    },
    {
     "name": "stdout",
     "output_type": "stream",
     "text": [
      "https://www.mckinsey.com/industries/oil-and-gas/our-insights/a-new-mandate-for-the-oil-and-gas-chief-information-officer\n"
     ]
    },
    {
     "name": "stderr",
     "output_type": "stream",
     "text": [
      "2020-02-18 12:26:08 [urllib3.connectionpool] DEBUG: https://www.mckinsey.com:443 \"GET /industries/oil-and-gas/our-insights/a-new-mandate-for-the-oil-and-gas-chief-information-officer HTTP/1.1\" 200 20109\n",
      "2020-02-18 12:26:08 [scrapy.core.engine] DEBUG: Crawled (200) <GET https://www.mckinsey.com/business-functions/mckinsey-digital/our-insights/a-cio-plan-for-becoming-a-leader-in-ipa> (referer: None)\n",
      "2020-02-18 12:26:08 [scrapy.core.engine] DEBUG: Crawled (200) <GET https://www.mckinsey.com/industries/financial-services/our-insights/from-plastic-to-pixels-digitizing-the-credit-card> (referer: None)\n",
      "2020-02-18 12:26:08 [scrapy.core.engine] DEBUG: Crawled (200) <GET https://www.mckinsey.com/industries/healthcare-systems-and-services/our-insights/the-journey-to-a-new-tomorrow-patrick-conway> (referer: None)\n",
      "2020-02-18 12:26:08 [scrapy.core.engine] DEBUG: Crawled (200) <GET https://www.mckinsey.com/industries/financial-services/our-insights/financial-globalization-hits-a-more-stable-inclusive-stride> (referer: None)\n",
      "2020-02-18 12:26:08 [scrapy.core.engine] DEBUG: Crawled (200) <GET https://www.mckinsey.com/industries/technology-media-and-telecommunications/our-insights/the-building-blocks-telcos-need-to-create-their-digital-and-analytics-dna> (referer: None)\n",
      "2020-02-18 12:26:08 [urllib3.connectionpool] DEBUG: Starting new HTTPS connection (1): www.mckinsey.com:443\n"
     ]
    },
    {
     "name": "stdout",
     "output_type": "stream",
     "text": [
      "https://www.mckinsey.com/industries/public-sector/our-insights/leveraging-technology-to-improve-security-and-traveler-experience\n"
     ]
    },
    {
     "name": "stderr",
     "output_type": "stream",
     "text": [
      "2020-02-18 12:26:09 [urllib3.connectionpool] DEBUG: https://www.mckinsey.com:443 \"GET /industries/public-sector/our-insights/leveraging-technology-to-improve-security-and-traveler-experience HTTP/1.1\" 200 21002\n",
      "2020-02-18 12:26:09 [urllib3.connectionpool] DEBUG: Starting new HTTPS connection (1): www.mckinsey.com:443\n"
     ]
    },
    {
     "name": "stdout",
     "output_type": "stream",
     "text": [
      "https://www.mckinsey.com/industries/technology-media-and-telecommunications/our-insights/how-tech-giants-deliver-outsized-returns-and-what-it-means-for-the-rest-of-us\n"
     ]
    },
    {
     "name": "stderr",
     "output_type": "stream",
     "text": [
      "2020-02-18 12:26:10 [urllib3.connectionpool] DEBUG: https://www.mckinsey.com:443 \"GET /industries/technology-media-and-telecommunications/our-insights/how-tech-giants-deliver-outsized-returns-and-what-it-means-for-the-rest-of-us HTTP/1.1\" 200 19539\n",
      "2020-02-18 12:26:10 [urllib3.connectionpool] DEBUG: Starting new HTTPS connection (1): www.mckinsey.com:443\n"
     ]
    },
    {
     "name": "stdout",
     "output_type": "stream",
     "text": [
      "https://www.mckinsey.com/business-functions/operations/our-insights/lighthouse-manufacturers-lead-the-way\n"
     ]
    },
    {
     "name": "stderr",
     "output_type": "stream",
     "text": [
      "2020-02-18 12:26:11 [urllib3.connectionpool] DEBUG: https://www.mckinsey.com:443 \"GET /business-functions/operations/our-insights/lighthouse-manufacturers-lead-the-way HTTP/1.1\" 200 21256\n",
      "2020-02-18 12:26:11 [urllib3.connectionpool] DEBUG: Starting new HTTPS connection (1): www.mckinsey.com:443\n"
     ]
    },
    {
     "name": "stdout",
     "output_type": "stream",
     "text": [
      "https://www.mckinsey.com/industries/capital-projects-and-infrastructure/our-insights/breaking-the-mold-the-construction-players-of-the-future\n"
     ]
    },
    {
     "name": "stderr",
     "output_type": "stream",
     "text": [
      "2020-02-18 12:26:12 [urllib3.connectionpool] DEBUG: https://www.mckinsey.com:443 \"GET /industries/capital-projects-and-infrastructure/our-insights/breaking-the-mold-the-construction-players-of-the-future HTTP/1.1\" 200 20164\n",
      "2020-02-18 12:26:12 [urllib3.connectionpool] DEBUG: Starting new HTTPS connection (1): www.mckinsey.com:443\n"
     ]
    },
    {
     "name": "stdout",
     "output_type": "stream",
     "text": [
      "https://www.mckinsey.com/industries/capital-projects-and-infrastructure/our-insights/building-change-opportunities-in-disruption\n"
     ]
    },
    {
     "name": "stderr",
     "output_type": "stream",
     "text": [
      "2020-02-18 12:26:13 [urllib3.connectionpool] DEBUG: https://www.mckinsey.com:443 \"GET /industries/capital-projects-and-infrastructure/our-insights/building-change-opportunities-in-disruption HTTP/1.1\" 200 20358\n",
      "2020-02-18 12:26:13 [urllib3.connectionpool] DEBUG: Starting new HTTPS connection (1): www.mckinsey.com:443\n"
     ]
    },
    {
     "name": "stdout",
     "output_type": "stream",
     "text": [
      "https://www.mckinsey.com/business-functions/strategy-and-corporate-finance/our-insights/the-new-cfo-mandate-prioritize-transform-repeat\n"
     ]
    },
    {
     "name": "stderr",
     "output_type": "stream",
     "text": [
      "2020-02-18 12:26:14 [urllib3.connectionpool] DEBUG: https://www.mckinsey.com:443 \"GET /business-functions/strategy-and-corporate-finance/our-insights/the-new-cfo-mandate-prioritize-transform-repeat HTTP/1.1\" 200 20639\n",
      "2020-02-18 12:26:14 [scrapy.core.engine] DEBUG: Crawled (200) <GET https://www.mckinsey.com/industries/financial-services/our-insights/insurance-beyond-digital-the-rise-of-ecosystems-and-platforms> (referer: None)\n",
      "2020-02-18 12:26:14 [scrapy.core.engine] DEBUG: Crawled (200) <GET https://www.mckinsey.com/business-functions/mckinsey-digital/our-insights/digital-india-technology-to-transform-a-connected-nation> (referer: None)\n",
      "2020-02-18 12:26:14 [scrapy.core.engine] DEBUG: Crawled (200) <GET https://www.mckinsey.com/business-functions/marketing-and-sales/our-insights/boosting-your-sales-roi> (referer: None)\n",
      "2020-02-18 12:26:14 [urllib3.connectionpool] DEBUG: Starting new HTTPS connection (1): www.mckinsey.com:443\n"
     ]
    },
    {
     "name": "stdout",
     "output_type": "stream",
     "text": [
      "https://www.mckinsey.com/business-functions/mckinsey-digital/our-insights/a-cio-plan-for-becoming-a-leader-in-ipa\n"
     ]
    },
    {
     "name": "stderr",
     "output_type": "stream",
     "text": [
      "2020-02-18 12:26:14 [urllib3.connectionpool] DEBUG: https://www.mckinsey.com:443 \"GET /business-functions/mckinsey-digital/our-insights/a-cio-plan-for-becoming-a-leader-in-ipa HTTP/1.1\" 200 20376\n",
      "2020-02-18 12:26:14 [urllib3.connectionpool] DEBUG: Starting new HTTPS connection (1): www.mckinsey.com:443\n"
     ]
    },
    {
     "name": "stdout",
     "output_type": "stream",
     "text": [
      "https://www.mckinsey.com/industries/financial-services/our-insights/from-plastic-to-pixels-digitizing-the-credit-card\n"
     ]
    },
    {
     "name": "stderr",
     "output_type": "stream",
     "text": [
      "2020-02-18 12:26:15 [urllib3.connectionpool] DEBUG: https://www.mckinsey.com:443 \"GET /industries/financial-services/our-insights/from-plastic-to-pixels-digitizing-the-credit-card HTTP/1.1\" 200 20601\n",
      "2020-02-18 12:26:15 [urllib3.connectionpool] DEBUG: Starting new HTTPS connection (1): www.mckinsey.com:443\n"
     ]
    },
    {
     "name": "stdout",
     "output_type": "stream",
     "text": [
      "https://www.mckinsey.com/industries/healthcare-systems-and-services/our-insights/the-journey-to-a-new-tomorrow-patrick-conway\n"
     ]
    },
    {
     "name": "stderr",
     "output_type": "stream",
     "text": [
      "2020-02-18 12:26:16 [urllib3.connectionpool] DEBUG: https://www.mckinsey.com:443 \"GET /industries/healthcare-systems-and-services/our-insights/the-journey-to-a-new-tomorrow-patrick-conway HTTP/1.1\" 200 19136\n",
      "2020-02-18 12:26:16 [urllib3.connectionpool] DEBUG: Starting new HTTPS connection (1): www.mckinsey.com:443\n"
     ]
    },
    {
     "name": "stdout",
     "output_type": "stream",
     "text": [
      "https://www.mckinsey.com/industries/financial-services/our-insights/financial-globalization-hits-a-more-stable-inclusive-stride\n"
     ]
    },
    {
     "name": "stderr",
     "output_type": "stream",
     "text": [
      "2020-02-18 12:26:17 [urllib3.connectionpool] DEBUG: https://www.mckinsey.com:443 \"GET /industries/financial-services/our-insights/financial-globalization-hits-a-more-stable-inclusive-stride HTTP/1.1\" 200 20248\n",
      "2020-02-18 12:26:17 [urllib3.connectionpool] DEBUG: Starting new HTTPS connection (1): www.mckinsey.com:443\n"
     ]
    },
    {
     "name": "stdout",
     "output_type": "stream",
     "text": [
      "https://www.mckinsey.com/industries/technology-media-and-telecommunications/our-insights/the-building-blocks-telcos-need-to-create-their-digital-and-analytics-dna\n"
     ]
    },
    {
     "name": "stderr",
     "output_type": "stream",
     "text": [
      "2020-02-18 12:26:18 [urllib3.connectionpool] DEBUG: https://www.mckinsey.com:443 \"GET /industries/technology-media-and-telecommunications/our-insights/the-building-blocks-telcos-need-to-create-their-digital-and-analytics-dna HTTP/1.1\" 200 21371\n",
      "2020-02-18 12:26:18 [scrapy.extensions.logstats] INFO: Crawled 707 pages (at 74 pages/min), scraped 0 items (at 0 items/min)\n",
      "2020-02-18 12:26:18 [scrapy.core.engine] DEBUG: Crawled (200) <GET https://www.mckinsey.com/business-functions/marketing-and-sales/our-insights/unlocking-the-power-of-data-in-sales> (referer: None)\n",
      "2020-02-18 12:26:18 [scrapy.core.engine] DEBUG: Crawled (200) <GET https://www.mckinsey.com/business-functions/operations/our-insights/how-to-achieve-and-sustain-the-impact-of-digital-manufacturing-at-scale> (referer: None)\n",
      "2020-02-18 12:26:18 [scrapy.core.engine] DEBUG: Crawled (200) <GET https://www.mckinsey.com/business-functions/operations/our-insights/operations-management-reshaped-by-robotic-automation> (referer: None)\n",
      "2020-02-18 12:26:18 [scrapy.core.engine] DEBUG: Crawled (200) <GET https://www.mckinsey.com/business-functions/operations/our-insights/revolutionizing-indirect-procurement-for-the-2020s> (referer: None)\n",
      "2020-02-18 12:26:18 [scrapy.core.engine] DEBUG: Crawled (200) <GET https://www.mckinsey.com/business-functions/operations/our-insights/technology-operations-a-flywheel-for-performance-improvement> (referer: None)\n",
      "2020-02-18 12:26:18 [urllib3.connectionpool] DEBUG: Starting new HTTPS connection (1): www.mckinsey.com:443\n"
     ]
    },
    {
     "name": "stdout",
     "output_type": "stream",
     "text": [
      "https://www.mckinsey.com/industries/financial-services/our-insights/insurance-beyond-digital-the-rise-of-ecosystems-and-platforms\n"
     ]
    },
    {
     "name": "stderr",
     "output_type": "stream",
     "text": [
      "2020-02-18 12:26:19 [urllib3.connectionpool] DEBUG: https://www.mckinsey.com:443 \"GET /industries/financial-services/our-insights/insurance-beyond-digital-the-rise-of-ecosystems-and-platforms HTTP/1.1\" 200 27517\n",
      "2020-02-18 12:26:19 [urllib3.connectionpool] DEBUG: Starting new HTTPS connection (1): www.mckinsey.com:443\n"
     ]
    },
    {
     "name": "stdout",
     "output_type": "stream",
     "text": [
      "https://www.mckinsey.com/business-functions/mckinsey-digital/our-insights/digital-india-technology-to-transform-a-connected-nation\n"
     ]
    },
    {
     "name": "stderr",
     "output_type": "stream",
     "text": [
      "2020-02-18 12:26:20 [urllib3.connectionpool] DEBUG: https://www.mckinsey.com:443 \"GET /business-functions/mckinsey-digital/our-insights/digital-india-technology-to-transform-a-connected-nation HTTP/1.1\" 200 27886\n",
      "2020-02-18 12:26:20 [urllib3.connectionpool] DEBUG: Starting new HTTPS connection (1): www.mckinsey.com:443\n"
     ]
    },
    {
     "name": "stdout",
     "output_type": "stream",
     "text": [
      "https://www.mckinsey.com/business-functions/marketing-and-sales/our-insights/boosting-your-sales-roi\n"
     ]
    },
    {
     "name": "stderr",
     "output_type": "stream",
     "text": [
      "2020-02-18 12:26:20 [urllib3.connectionpool] DEBUG: https://www.mckinsey.com:443 \"GET /business-functions/marketing-and-sales/our-insights/boosting-your-sales-roi HTTP/1.1\" 200 20172\n",
      "2020-02-18 12:26:20 [scrapy.core.scraper] ERROR: Spider error processing <GET https://www.mckinsey.com/business-functions/marketing-and-sales/our-insights/boosting-your-sales-roi> (referer: None)\n",
      "Traceback (most recent call last):\n",
      "  File \"D:\\ProgramData\\Anaconda3\\lib\\site-packages\\twisted\\internet\\defer.py\", line 654, in _runCallbacks\n",
      "    current.result = callback(current.result, *args, **kw)\n",
      "  File \"<ipython-input-122-8fc83100377c>\", line 41, in parse\n",
      "    page_date = re.findall(date_regex, page_script)[0]\n",
      "IndexError: list index out of range\n",
      "2020-02-18 12:26:20 [scrapy.core.engine] DEBUG: Crawled (200) <GET https://www.mckinsey.com/business-functions/organization/our-insights/are-we-long-or-short-on-talent> (referer: None)\n",
      "2020-02-18 12:26:20 [scrapy.core.engine] DEBUG: Crawled (200) <GET https://www.mckinsey.com/featured-insights/china/how-chinas-largest-online-travel-agency-connects-the-world-an-interview-with-ctrip-ceo-jane-sun> (referer: None)\n",
      "2020-02-18 12:26:20 [scrapy.core.engine] DEBUG: Crawled (200) <GET https://www.mckinsey.com/industries/advanced-electronics/our-insights/capturing-value-at-scale-in-discrete-manufacturing-with-industry-4-0> (referer: None)\n",
      "2020-02-18 12:26:20 [urllib3.connectionpool] DEBUG: Starting new HTTPS connection (1): www.mckinsey.com:443\n"
     ]
    },
    {
     "name": "stdout",
     "output_type": "stream",
     "text": [
      "https://www.mckinsey.com/business-functions/marketing-and-sales/our-insights/unlocking-the-power-of-data-in-sales\n"
     ]
    },
    {
     "name": "stderr",
     "output_type": "stream",
     "text": [
      "2020-02-18 12:26:21 [urllib3.connectionpool] DEBUG: https://www.mckinsey.com:443 \"GET /business-functions/marketing-and-sales/our-insights/unlocking-the-power-of-data-in-sales HTTP/1.1\" 200 20230\n",
      "2020-02-18 12:26:21 [urllib3.connectionpool] DEBUG: Starting new HTTPS connection (1): www.mckinsey.com:443\n"
     ]
    },
    {
     "name": "stdout",
     "output_type": "stream",
     "text": [
      "https://www.mckinsey.com/business-functions/operations/our-insights/how-to-achieve-and-sustain-the-impact-of-digital-manufacturing-at-scale\n"
     ]
    },
    {
     "name": "stderr",
     "output_type": "stream",
     "text": [
      "2020-02-18 12:26:22 [urllib3.connectionpool] DEBUG: https://www.mckinsey.com:443 \"GET /business-functions/operations/our-insights/how-to-achieve-and-sustain-the-impact-of-digital-manufacturing-at-scale HTTP/1.1\" 200 20715\n",
      "2020-02-18 12:26:22 [urllib3.connectionpool] DEBUG: Starting new HTTPS connection (1): www.mckinsey.com:443\n"
     ]
    },
    {
     "name": "stdout",
     "output_type": "stream",
     "text": [
      "https://www.mckinsey.com/business-functions/operations/our-insights/operations-management-reshaped-by-robotic-automation\n"
     ]
    },
    {
     "name": "stderr",
     "output_type": "stream",
     "text": [
      "2020-02-18 12:26:23 [urllib3.connectionpool] DEBUG: https://www.mckinsey.com:443 \"GET /business-functions/operations/our-insights/operations-management-reshaped-by-robotic-automation HTTP/1.1\" 200 20063\n",
      "2020-02-18 12:26:23 [urllib3.connectionpool] DEBUG: Starting new HTTPS connection (1): www.mckinsey.com:443\n"
     ]
    },
    {
     "name": "stdout",
     "output_type": "stream",
     "text": [
      "https://www.mckinsey.com/business-functions/operations/our-insights/revolutionizing-indirect-procurement-for-the-2020s\n"
     ]
    },
    {
     "name": "stderr",
     "output_type": "stream",
     "text": [
      "2020-02-18 12:26:23 [urllib3.connectionpool] DEBUG: https://www.mckinsey.com:443 \"GET /business-functions/operations/our-insights/revolutionizing-indirect-procurement-for-the-2020s HTTP/1.1\" 200 19959\n",
      "2020-02-18 12:26:23 [urllib3.connectionpool] DEBUG: Starting new HTTPS connection (1): www.mckinsey.com:443\n"
     ]
    },
    {
     "name": "stdout",
     "output_type": "stream",
     "text": [
      "https://www.mckinsey.com/business-functions/operations/our-insights/technology-operations-a-flywheel-for-performance-improvement\n"
     ]
    },
    {
     "name": "stderr",
     "output_type": "stream",
     "text": [
      "2020-02-18 12:26:24 [urllib3.connectionpool] DEBUG: https://www.mckinsey.com:443 \"GET /business-functions/operations/our-insights/technology-operations-a-flywheel-for-performance-improvement HTTP/1.1\" 200 20397\n",
      "2020-02-18 12:26:24 [scrapy.core.engine] DEBUG: Crawled (200) <GET https://www.mckinsey.com/industries/automotive-and-assembly/our-insights/facing-digital-disruption-in-mobility-as-a-traditional-auto-player> (referer: None)\n",
      "2020-02-18 12:26:24 [scrapy.core.engine] DEBUG: Crawled (200) <GET https://www.mckinsey.com/industries/automotive-and-assembly/our-insights/the-race-for-cybersecurity-protecting-the-connected-car-in-the-era-of-new-regulation> (referer: None)\n",
      "2020-02-18 12:26:24 [urllib3.connectionpool] DEBUG: Starting new HTTPS connection (1): www.mckinsey.com:443\n"
     ]
    },
    {
     "name": "stdout",
     "output_type": "stream",
     "text": [
      "https://www.mckinsey.com/business-functions/organization/our-insights/are-we-long-or-short-on-talent\n"
     ]
    },
    {
     "name": "stderr",
     "output_type": "stream",
     "text": [
      "2020-02-18 12:26:24 [urllib3.connectionpool] DEBUG: https://www.mckinsey.com:443 \"GET /business-functions/organization/our-insights/are-we-long-or-short-on-talent HTTP/1.1\" 200 21287\n",
      "2020-02-18 12:26:24 [urllib3.connectionpool] DEBUG: Starting new HTTPS connection (1): www.mckinsey.com:443\n"
     ]
    },
    {
     "name": "stdout",
     "output_type": "stream",
     "text": [
      "https://www.mckinsey.com/featured-insights/china/how-chinas-largest-online-travel-agency-connects-the-world-an-interview-with-ctrip-ceo-jane-sun\n"
     ]
    },
    {
     "name": "stderr",
     "output_type": "stream",
     "text": [
      "2020-02-18 12:26:25 [urllib3.connectionpool] DEBUG: https://www.mckinsey.com:443 \"GET /featured-insights/china/how-chinas-largest-online-travel-agency-connects-the-world-an-interview-with-ctrip-ceo-jane-sun HTTP/1.1\" 200 22877\n",
      "2020-02-18 12:26:25 [urllib3.connectionpool] DEBUG: Starting new HTTPS connection (1): www.mckinsey.com:443\n"
     ]
    },
    {
     "name": "stdout",
     "output_type": "stream",
     "text": [
      "https://www.mckinsey.com/industries/advanced-electronics/our-insights/capturing-value-at-scale-in-discrete-manufacturing-with-industry-4-0\n"
     ]
    },
    {
     "name": "stderr",
     "output_type": "stream",
     "text": [
      "2020-02-18 12:26:26 [urllib3.connectionpool] DEBUG: https://www.mckinsey.com:443 \"GET /industries/advanced-electronics/our-insights/capturing-value-at-scale-in-discrete-manufacturing-with-industry-4-0 HTTP/1.1\" 200 19582\n",
      "2020-02-18 12:26:26 [scrapy.core.engine] DEBUG: Crawled (200) <GET https://www.mckinsey.com/industries/consumer-packaged-goods/our-insights/power-partnerships-manufacturer-retailer-collaborations-that-work> (referer: None)\n",
      "2020-02-18 12:26:26 [urllib3.connectionpool] DEBUG: Starting new HTTPS connection (1): www.mckinsey.com:443\n"
     ]
    },
    {
     "name": "stdout",
     "output_type": "stream",
     "text": [
      "https://www.mckinsey.com/industries/automotive-and-assembly/our-insights/facing-digital-disruption-in-mobility-as-a-traditional-auto-player\n"
     ]
    },
    {
     "name": "stderr",
     "output_type": "stream",
     "text": [
      "2020-02-18 12:26:26 [urllib3.connectionpool] DEBUG: https://www.mckinsey.com:443 \"GET /industries/automotive-and-assembly/our-insights/facing-digital-disruption-in-mobility-as-a-traditional-auto-player HTTP/1.1\" 200 20064\n",
      "2020-02-18 12:26:26 [urllib3.connectionpool] DEBUG: Starting new HTTPS connection (1): www.mckinsey.com:443\n"
     ]
    },
    {
     "name": "stdout",
     "output_type": "stream",
     "text": [
      "https://www.mckinsey.com/industries/automotive-and-assembly/our-insights/the-race-for-cybersecurity-protecting-the-connected-car-in-the-era-of-new-regulation\n"
     ]
    },
    {
     "name": "stderr",
     "output_type": "stream",
     "text": [
      "2020-02-18 12:26:27 [urllib3.connectionpool] DEBUG: https://www.mckinsey.com:443 \"GET /industries/automotive-and-assembly/our-insights/the-race-for-cybersecurity-protecting-the-connected-car-in-the-era-of-new-regulation HTTP/1.1\" 200 20075\n",
      "2020-02-18 12:26:27 [scrapy.core.engine] DEBUG: Crawled (200) <GET https://www.mckinsey.com/industries/technology-media-and-telecommunications/our-insights/hello-mobile-operators-this-is-your-age-of-disruption-calling> (referer: None)\n",
      "2020-02-18 12:26:27 [urllib3.connectionpool] DEBUG: Starting new HTTPS connection (1): www.mckinsey.com:443\n"
     ]
    },
    {
     "name": "stdout",
     "output_type": "stream",
     "text": [
      "https://www.mckinsey.com/industries/consumer-packaged-goods/our-insights/power-partnerships-manufacturer-retailer-collaborations-that-work\n"
     ]
    },
    {
     "name": "stderr",
     "output_type": "stream",
     "text": [
      "2020-02-18 12:26:28 [urllib3.connectionpool] DEBUG: https://www.mckinsey.com:443 \"GET /industries/consumer-packaged-goods/our-insights/power-partnerships-manufacturer-retailer-collaborations-that-work HTTP/1.1\" 200 20602\n",
      "2020-02-18 12:26:28 [scrapy.core.engine] DEBUG: Crawled (200) <GET https://www.mckinsey.com/business-functions/marketing-and-sales/our-insights/the-end-of-shoppings-boundaries-omnichannel-personalization> (referer: None)\n",
      "2020-02-18 12:26:28 [urllib3.connectionpool] DEBUG: Starting new HTTPS connection (1): www.mckinsey.com:443\n"
     ]
    },
    {
     "name": "stdout",
     "output_type": "stream",
     "text": [
      "https://www.mckinsey.com/industries/technology-media-and-telecommunications/our-insights/hello-mobile-operators-this-is-your-age-of-disruption-calling\n"
     ]
    },
    {
     "name": "stderr",
     "output_type": "stream",
     "text": [
      "2020-02-18 12:26:29 [urllib3.connectionpool] DEBUG: https://www.mckinsey.com:443 \"GET /industries/technology-media-and-telecommunications/our-insights/hello-mobile-operators-this-is-your-age-of-disruption-calling HTTP/1.1\" 200 21197\n",
      "2020-02-18 12:26:29 [scrapy.core.engine] DEBUG: Crawled (200) <GET https://www.mckinsey.com/business-functions/operations/our-insights/four-success-factors-for-workforce-automation> (referer: None)\n",
      "2020-02-18 12:26:29 [urllib3.connectionpool] DEBUG: Starting new HTTPS connection (1): www.mckinsey.com:443\n"
     ]
    },
    {
     "name": "stdout",
     "output_type": "stream",
     "text": [
      "https://www.mckinsey.com/business-functions/marketing-and-sales/our-insights/the-end-of-shoppings-boundaries-omnichannel-personalization\n"
     ]
    },
    {
     "name": "stderr",
     "output_type": "stream",
     "text": [
      "2020-02-18 12:26:30 [urllib3.connectionpool] DEBUG: https://www.mckinsey.com:443 \"GET /business-functions/marketing-and-sales/our-insights/the-end-of-shoppings-boundaries-omnichannel-personalization HTTP/1.1\" 200 20082\n",
      "2020-02-18 12:26:30 [urllib3.connectionpool] DEBUG: Starting new HTTPS connection (1): www.mckinsey.com:443\n"
     ]
    },
    {
     "name": "stdout",
     "output_type": "stream",
     "text": [
      "https://www.mckinsey.com/business-functions/operations/our-insights/four-success-factors-for-workforce-automation\n"
     ]
    },
    {
     "name": "stderr",
     "output_type": "stream",
     "text": [
      "2020-02-18 12:26:31 [urllib3.connectionpool] DEBUG: https://www.mckinsey.com:443 \"GET /business-functions/operations/our-insights/four-success-factors-for-workforce-automation HTTP/1.1\" 200 20740\n",
      "2020-02-18 12:26:31 [scrapy.core.engine] DEBUG: Crawled (200) <GET https://www.mckinsey.com/industries/automotive-and-assembly/our-insights/how-industrial-companies-can-respond-to-disruptive-forces> (referer: None)\n",
      "2020-02-18 12:26:31 [scrapy.core.engine] DEBUG: Crawled (200) <GET https://www.mckinsey.com/industries/oil-and-gas/our-insights/paths-to-profitability-in-us-unconventionals> (referer: None)\n",
      "2020-02-18 12:26:31 [urllib3.connectionpool] DEBUG: Starting new HTTPS connection (1): www.mckinsey.com:443\n"
     ]
    },
    {
     "name": "stdout",
     "output_type": "stream",
     "text": [
      "https://www.mckinsey.com/industries/automotive-and-assembly/our-insights/how-industrial-companies-can-respond-to-disruptive-forces\n"
     ]
    },
    {
     "name": "stderr",
     "output_type": "stream",
     "text": [
      "2020-02-18 12:26:32 [urllib3.connectionpool] DEBUG: https://www.mckinsey.com:443 \"GET /industries/automotive-and-assembly/our-insights/how-industrial-companies-can-respond-to-disruptive-forces HTTP/1.1\" 200 20748\n",
      "2020-02-18 12:26:32 [scrapy.core.engine] DEBUG: Crawled (200) <GET https://www.mckinsey.com/featured-insights/future-of-work/the-future-of-work-in-black-america> (referer: None)\n",
      "2020-02-18 12:26:32 [scrapy.core.engine] DEBUG: Crawled (200) <GET https://www.mckinsey.com/business-functions/operations/our-insights/new-technology-new-rules-reimagining-the-modern-finance-workforce> (referer: None)\n",
      "2020-02-18 12:26:32 [urllib3.connectionpool] DEBUG: Starting new HTTPS connection (1): www.mckinsey.com:443\n"
     ]
    },
    {
     "name": "stdout",
     "output_type": "stream",
     "text": [
      "https://www.mckinsey.com/industries/oil-and-gas/our-insights/paths-to-profitability-in-us-unconventionals\n"
     ]
    },
    {
     "name": "stderr",
     "output_type": "stream",
     "text": [
      "2020-02-18 12:26:32 [urllib3.connectionpool] DEBUG: https://www.mckinsey.com:443 \"GET /industries/oil-and-gas/our-insights/paths-to-profitability-in-us-unconventionals HTTP/1.1\" 200 19568\n",
      "2020-02-18 12:26:32 [scrapy.core.engine] DEBUG: Crawled (200) <GET https://www.mckinsey.com/industries/financial-services/our-insights/monetizing-data-a-new-source-of-value-in-payments> (referer: None)\n",
      "2020-02-18 12:26:32 [scrapy.core.engine] DEBUG: Crawled (200) <GET https://www.mckinsey.com/industries/retail/our-insights/powerful-pricing-the-next-frontier-in-apparel-and-fashion-advanced-analytics> (referer: None)\n",
      "2020-02-18 12:26:32 [scrapy.core.engine] DEBUG: Crawled (200) <GET https://www.mckinsey.com/business-functions/mckinsey-digital/our-insights/how-can-we-recognize-the-real-power-of-the-internet-of-things> (referer: None)\n",
      "2020-02-18 12:26:32 [scrapy.core.engine] DEBUG: Crawled (200) <GET https://www.mckinsey.com/featured-insights/europe/how-purpose-led-missions-can-help-europe-innovate-at-scale> (referer: None)\n",
      "2020-02-18 12:26:32 [scrapy.core.engine] DEBUG: Crawled (200) <GET https://www.mckinsey.com/business-functions/marketing-and-sales/our-insights/a-technology-blueprint-for-personalization-at-scale> (referer: None)\n",
      "2020-02-18 12:26:32 [scrapy.core.engine] DEBUG: Crawled (200) <GET https://www.mckinsey.com/industries/technology-media-and-telecommunications/our-insights/transforming-infrastructure-operations-for-a-hybrid-cloud-world> (referer: None)\n",
      "2020-02-18 12:26:32 [urllib3.connectionpool] DEBUG: Starting new HTTPS connection (1): www.mckinsey.com:443\n"
     ]
    },
    {
     "name": "stdout",
     "output_type": "stream",
     "text": [
      "https://www.mckinsey.com/featured-insights/future-of-work/the-future-of-work-in-black-america\n"
     ]
    },
    {
     "name": "stderr",
     "output_type": "stream",
     "text": [
      "2020-02-18 12:26:33 [urllib3.connectionpool] DEBUG: https://www.mckinsey.com:443 \"GET /featured-insights/future-of-work/the-future-of-work-in-black-america HTTP/1.1\" 200 29064\n",
      "2020-02-18 12:26:33 [urllib3.connectionpool] DEBUG: Starting new HTTPS connection (1): www.mckinsey.com:443\n"
     ]
    },
    {
     "name": "stdout",
     "output_type": "stream",
     "text": [
      "https://www.mckinsey.com/business-functions/operations/our-insights/new-technology-new-rules-reimagining-the-modern-finance-workforce\n"
     ]
    },
    {
     "name": "stderr",
     "output_type": "stream",
     "text": [
      "2020-02-18 12:26:34 [urllib3.connectionpool] DEBUG: https://www.mckinsey.com:443 \"GET /business-functions/operations/our-insights/new-technology-new-rules-reimagining-the-modern-finance-workforce HTTP/1.1\" 200 22654\n",
      "2020-02-18 12:26:34 [scrapy.core.engine] DEBUG: Crawled (200) <GET https://www.mckinsey.com/business-functions/operations/our-insights/digitally-enabled-reliability-beyond-predictive-maintenance> (referer: None)\n",
      "2020-02-18 12:26:34 [scrapy.core.engine] DEBUG: Crawled (200) <GET https://www.mckinsey.com/business-functions/operations/our-insights/the-services-solution-for-unlocking-industrys-next-growth-opportunity> (referer: None)\n",
      "2020-02-18 12:26:34 [urllib3.connectionpool] DEBUG: Starting new HTTPS connection (1): www.mckinsey.com:443\n"
     ]
    },
    {
     "name": "stdout",
     "output_type": "stream",
     "text": [
      "https://www.mckinsey.com/industries/financial-services/our-insights/monetizing-data-a-new-source-of-value-in-payments\n"
     ]
    },
    {
     "name": "stderr",
     "output_type": "stream",
     "text": [
      "2020-02-18 12:26:35 [urllib3.connectionpool] DEBUG: https://www.mckinsey.com:443 \"GET /industries/financial-services/our-insights/monetizing-data-a-new-source-of-value-in-payments HTTP/1.1\" 200 20714\n",
      "2020-02-18 12:26:35 [urllib3.connectionpool] DEBUG: Starting new HTTPS connection (1): www.mckinsey.com:443\n"
     ]
    },
    {
     "name": "stdout",
     "output_type": "stream",
     "text": [
      "https://www.mckinsey.com/industries/retail/our-insights/powerful-pricing-the-next-frontier-in-apparel-and-fashion-advanced-analytics\n"
     ]
    },
    {
     "name": "stderr",
     "output_type": "stream",
     "text": [
      "2020-02-18 12:26:36 [urllib3.connectionpool] DEBUG: https://www.mckinsey.com:443 \"GET /industries/retail/our-insights/powerful-pricing-the-next-frontier-in-apparel-and-fashion-advanced-analytics HTTP/1.1\" 200 20411\n",
      "2020-02-18 12:26:36 [urllib3.connectionpool] DEBUG: Starting new HTTPS connection (1): www.mckinsey.com:443\n"
     ]
    },
    {
     "name": "stdout",
     "output_type": "stream",
     "text": [
      "https://www.mckinsey.com/business-functions/mckinsey-digital/our-insights/how-can-we-recognize-the-real-power-of-the-internet-of-things\n"
     ]
    },
    {
     "name": "stderr",
     "output_type": "stream",
     "text": [
      "2020-02-18 12:26:36 [urllib3.connectionpool] DEBUG: https://www.mckinsey.com:443 \"GET /business-functions/mckinsey-digital/our-insights/how-can-we-recognize-the-real-power-of-the-internet-of-things HTTP/1.1\" 200 21062\n",
      "2020-02-18 12:26:36 [urllib3.connectionpool] DEBUG: Starting new HTTPS connection (1): www.mckinsey.com:443\n"
     ]
    },
    {
     "name": "stdout",
     "output_type": "stream",
     "text": [
      "https://www.mckinsey.com/featured-insights/europe/how-purpose-led-missions-can-help-europe-innovate-at-scale\n"
     ]
    },
    {
     "name": "stderr",
     "output_type": "stream",
     "text": [
      "2020-02-18 12:26:37 [urllib3.connectionpool] DEBUG: https://www.mckinsey.com:443 \"GET /featured-insights/europe/how-purpose-led-missions-can-help-europe-innovate-at-scale HTTP/1.1\" 200 30495\n",
      "2020-02-18 12:26:37 [urllib3.connectionpool] DEBUG: Starting new HTTPS connection (1): www.mckinsey.com:443\n"
     ]
    },
    {
     "name": "stdout",
     "output_type": "stream",
     "text": [
      "https://www.mckinsey.com/business-functions/marketing-and-sales/our-insights/a-technology-blueprint-for-personalization-at-scale\n"
     ]
    },
    {
     "name": "stderr",
     "output_type": "stream",
     "text": [
      "2020-02-18 12:26:38 [urllib3.connectionpool] DEBUG: https://www.mckinsey.com:443 \"GET /business-functions/marketing-and-sales/our-insights/a-technology-blueprint-for-personalization-at-scale HTTP/1.1\" 200 19986\n",
      "2020-02-18 12:26:38 [urllib3.connectionpool] DEBUG: Starting new HTTPS connection (1): www.mckinsey.com:443\n"
     ]
    },
    {
     "name": "stdout",
     "output_type": "stream",
     "text": [
      "https://www.mckinsey.com/industries/technology-media-and-telecommunications/our-insights/transforming-infrastructure-operations-for-a-hybrid-cloud-world\n"
     ]
    },
    {
     "name": "stderr",
     "output_type": "stream",
     "text": [
      "2020-02-18 12:26:39 [urllib3.connectionpool] DEBUG: https://www.mckinsey.com:443 \"GET /industries/technology-media-and-telecommunications/our-insights/transforming-infrastructure-operations-for-a-hybrid-cloud-world HTTP/1.1\" 200 22157\n",
      "2020-02-18 12:26:39 [scrapy.core.engine] DEBUG: Crawled (200) <GET https://www.mckinsey.com/business-functions/strategy-and-corporate-finance/our-insights/as-sector-borders-dissolve-new-business-ecosystems-emerge> (referer: None)\n",
      "2020-02-18 12:26:39 [scrapy.core.engine] DEBUG: Crawled (200) <GET https://www.mckinsey.com/business-functions/sustainability/our-insights/public-private-collaborations-for-transforming-urban-mobility> (referer: None)\n",
      "2020-02-18 12:26:39 [scrapy.core.engine] DEBUG: Crawled (200) <GET https://www.mckinsey.com/featured-insights/digital-disruption/a-ceo-action-plan-for-workplace-automation> (referer: None)\n",
      "2020-02-18 12:26:39 [scrapy.core.engine] DEBUG: Crawled (200) <GET https://www.mckinsey.com/featured-insights/future-of-work/rethinking-the-workplace-flexibility-fairness-and-enlightened-automation> (referer: None)\n",
      "2020-02-18 12:26:39 [scrapy.core.engine] DEBUG: Crawled (200) <GET https://www.mckinsey.com/industries/electric-power-and-natural-gas/our-insights/winning-the-cost-battle-success-factors-in-digital-transformations-for-energy-retailers> (referer: None)\n",
      "2020-02-18 12:26:39 [scrapy.core.engine] DEBUG: Crawled (200) <GET https://www.mckinsey.com/industries/pharmaceuticals-and-medical-products/our-insights/transforming-medical-affairs-tapping-the-alchemy-of-storytellers-and-digital-start-ups> (referer: None)\n",
      "2020-02-18 12:26:39 [urllib3.connectionpool] DEBUG: Starting new HTTPS connection (1): www.mckinsey.com:443\n"
     ]
    },
    {
     "name": "stdout",
     "output_type": "stream",
     "text": [
      "https://www.mckinsey.com/business-functions/operations/our-insights/digitally-enabled-reliability-beyond-predictive-maintenance\n"
     ]
    },
    {
     "name": "stderr",
     "output_type": "stream",
     "text": [
      "2020-02-18 12:26:40 [urllib3.connectionpool] DEBUG: https://www.mckinsey.com:443 \"GET /business-functions/operations/our-insights/digitally-enabled-reliability-beyond-predictive-maintenance HTTP/1.1\" 200 20599\n",
      "2020-02-18 12:26:40 [urllib3.connectionpool] DEBUG: Starting new HTTPS connection (1): www.mckinsey.com:443\n"
     ]
    },
    {
     "name": "stdout",
     "output_type": "stream",
     "text": [
      "https://www.mckinsey.com/business-functions/operations/our-insights/the-services-solution-for-unlocking-industrys-next-growth-opportunity\n"
     ]
    },
    {
     "name": "stderr",
     "output_type": "stream",
     "text": [
      "2020-02-18 12:26:40 [urllib3.connectionpool] DEBUG: https://www.mckinsey.com:443 \"GET /business-functions/operations/our-insights/the-services-solution-for-unlocking-industrys-next-growth-opportunity HTTP/1.1\" 200 20423\n",
      "2020-02-18 12:26:41 [scrapy.core.engine] DEBUG: Crawled (200) <GET https://www.mckinsey.com/industries/public-sector/our-insights/creating-an-effective-workforce-system-for-the-new-economy> (referer: None)\n",
      "2020-02-18 12:26:41 [scrapy.core.engine] DEBUG: Crawled (200) <GET https://www.mckinsey.com/industries/technology-media-and-telecommunications/our-insights/reinventing-telco-networks-five-elements-of-a-successful-transformation> (referer: None)\n",
      "2020-02-18 12:26:41 [urllib3.connectionpool] DEBUG: Starting new HTTPS connection (1): www.mckinsey.com:443\n"
     ]
    },
    {
     "name": "stdout",
     "output_type": "stream",
     "text": [
      "https://www.mckinsey.com/business-functions/strategy-and-corporate-finance/our-insights/as-sector-borders-dissolve-new-business-ecosystems-emerge\n"
     ]
    },
    {
     "name": "stderr",
     "output_type": "stream",
     "text": [
      "2020-02-18 12:26:41 [urllib3.connectionpool] DEBUG: https://www.mckinsey.com:443 \"GET /business-functions/strategy-and-corporate-finance/our-insights/as-sector-borders-dissolve-new-business-ecosystems-emerge HTTP/1.1\" 200 22574\n",
      "2020-02-18 12:26:41 [urllib3.connectionpool] DEBUG: Starting new HTTPS connection (1): www.mckinsey.com:443\n"
     ]
    },
    {
     "name": "stdout",
     "output_type": "stream",
     "text": [
      "https://www.mckinsey.com/business-functions/sustainability/our-insights/public-private-collaborations-for-transforming-urban-mobility\n"
     ]
    },
    {
     "name": "stderr",
     "output_type": "stream",
     "text": [
      "2020-02-18 12:26:42 [urllib3.connectionpool] DEBUG: https://www.mckinsey.com:443 \"GET /business-functions/sustainability/our-insights/public-private-collaborations-for-transforming-urban-mobility HTTP/1.1\" 200 20337\n",
      "2020-02-18 12:26:42 [urllib3.connectionpool] DEBUG: Starting new HTTPS connection (1): www.mckinsey.com:443\n"
     ]
    },
    {
     "name": "stdout",
     "output_type": "stream",
     "text": [
      "https://www.mckinsey.com/featured-insights/digital-disruption/a-ceo-action-plan-for-workplace-automation\n"
     ]
    },
    {
     "name": "stderr",
     "output_type": "stream",
     "text": [
      "2020-02-18 12:26:43 [urllib3.connectionpool] DEBUG: https://www.mckinsey.com:443 \"GET /featured-insights/digital-disruption/a-ceo-action-plan-for-workplace-automation HTTP/1.1\" 200 22313\n",
      "2020-02-18 12:26:43 [urllib3.connectionpool] DEBUG: Starting new HTTPS connection (1): www.mckinsey.com:443\n"
     ]
    },
    {
     "name": "stdout",
     "output_type": "stream",
     "text": [
      "https://www.mckinsey.com/featured-insights/future-of-work/rethinking-the-workplace-flexibility-fairness-and-enlightened-automation\n"
     ]
    },
    {
     "name": "stderr",
     "output_type": "stream",
     "text": [
      "2020-02-18 12:26:43 [urllib3.connectionpool] DEBUG: https://www.mckinsey.com:443 \"GET /featured-insights/future-of-work/rethinking-the-workplace-flexibility-fairness-and-enlightened-automation HTTP/1.1\" 200 23773\n",
      "2020-02-18 12:26:43 [urllib3.connectionpool] DEBUG: Starting new HTTPS connection (1): www.mckinsey.com:443\n"
     ]
    },
    {
     "name": "stdout",
     "output_type": "stream",
     "text": [
      "https://www.mckinsey.com/industries/electric-power-and-natural-gas/our-insights/winning-the-cost-battle-success-factors-in-digital-transformations-for-energy-retailers\n"
     ]
    },
    {
     "name": "stderr",
     "output_type": "stream",
     "text": [
      "2020-02-18 12:26:44 [urllib3.connectionpool] DEBUG: https://www.mckinsey.com:443 \"GET /industries/electric-power-and-natural-gas/our-insights/winning-the-cost-battle-success-factors-in-digital-transformations-for-energy-retailers HTTP/1.1\" 200 20566\n",
      "2020-02-18 12:26:44 [urllib3.connectionpool] DEBUG: Starting new HTTPS connection (1): www.mckinsey.com:443\n"
     ]
    },
    {
     "name": "stdout",
     "output_type": "stream",
     "text": [
      "https://www.mckinsey.com/industries/pharmaceuticals-and-medical-products/our-insights/transforming-medical-affairs-tapping-the-alchemy-of-storytellers-and-digital-start-ups\n"
     ]
    },
    {
     "name": "stderr",
     "output_type": "stream",
     "text": [
      "2020-02-18 12:26:44 [urllib3.connectionpool] DEBUG: https://www.mckinsey.com:443 \"GET /industries/pharmaceuticals-and-medical-products/our-insights/transforming-medical-affairs-tapping-the-alchemy-of-storytellers-and-digital-start-ups HTTP/1.1\" 200 21002\n",
      "2020-02-18 12:26:44 [scrapy.core.engine] DEBUG: Crawled (200) <GET https://www.mckinsey.com/industries/travel-transport-and-logistics/our-insights/does-your-airline-still-cross-seat-belts-a-ten-point-lean-checklist-for-leaders> (referer: None)\n",
      "2020-02-18 12:26:44 [urllib3.connectionpool] DEBUG: Starting new HTTPS connection (1): www.mckinsey.com:443\n"
     ]
    },
    {
     "name": "stdout",
     "output_type": "stream",
     "text": [
      "https://www.mckinsey.com/industries/public-sector/our-insights/creating-an-effective-workforce-system-for-the-new-economy\n"
     ]
    },
    {
     "name": "stderr",
     "output_type": "stream",
     "text": [
      "2020-02-18 12:26:45 [urllib3.connectionpool] DEBUG: https://www.mckinsey.com:443 \"GET /industries/public-sector/our-insights/creating-an-effective-workforce-system-for-the-new-economy HTTP/1.1\" 200 20519\n",
      "2020-02-18 12:26:45 [urllib3.connectionpool] DEBUG: Starting new HTTPS connection (1): www.mckinsey.com:443\n"
     ]
    },
    {
     "name": "stdout",
     "output_type": "stream",
     "text": [
      "https://www.mckinsey.com/industries/technology-media-and-telecommunications/our-insights/reinventing-telco-networks-five-elements-of-a-successful-transformation\n"
     ]
    },
    {
     "name": "stderr",
     "output_type": "stream",
     "text": [
      "2020-02-18 12:26:46 [urllib3.connectionpool] DEBUG: https://www.mckinsey.com:443 \"GET /industries/technology-media-and-telecommunications/our-insights/reinventing-telco-networks-five-elements-of-a-successful-transformation HTTP/1.1\" 200 21041\n",
      "2020-02-18 12:26:46 [scrapy.core.engine] DEBUG: Crawled (200) <GET https://www.mckinsey.com/business-functions/mckinsey-analytics/our-insights/fusing-data-and-design-to-supercharge-innovation-in-products-and-processes> (referer: None)\n",
      "2020-02-18 12:26:46 [urllib3.connectionpool] DEBUG: Starting new HTTPS connection (1): www.mckinsey.com:443\n"
     ]
    },
    {
     "name": "stdout",
     "output_type": "stream",
     "text": [
      "https://www.mckinsey.com/industries/travel-transport-and-logistics/our-insights/does-your-airline-still-cross-seat-belts-a-ten-point-lean-checklist-for-leaders\n"
     ]
    },
    {
     "name": "stderr",
     "output_type": "stream",
     "text": [
      "2020-02-18 12:26:46 [urllib3.connectionpool] DEBUG: https://www.mckinsey.com:443 \"GET /industries/travel-transport-and-logistics/our-insights/does-your-airline-still-cross-seat-belts-a-ten-point-lean-checklist-for-leaders HTTP/1.1\" 200 21642\n",
      "2020-02-18 12:26:46 [urllib3.connectionpool] DEBUG: Starting new HTTPS connection (1): www.mckinsey.com:443\n"
     ]
    },
    {
     "name": "stdout",
     "output_type": "stream",
     "text": [
      "https://www.mckinsey.com/business-functions/mckinsey-analytics/our-insights/fusing-data-and-design-to-supercharge-innovation-in-products-and-processes\n"
     ]
    },
    {
     "name": "stderr",
     "output_type": "stream",
     "text": [
      "2020-02-18 12:26:47 [urllib3.connectionpool] DEBUG: https://www.mckinsey.com:443 \"GET /business-functions/mckinsey-analytics/our-insights/fusing-data-and-design-to-supercharge-innovation-in-products-and-processes HTTP/1.1\" 200 20821\n",
      "2020-02-18 12:26:47 [scrapy.core.engine] DEBUG: Crawled (200) <GET https://www.mckinsey.com/business-functions/operations/our-insights/resilience-in-transport-and-logistics> (referer: None)\n",
      "2020-02-18 12:26:47 [scrapy.core.engine] DEBUG: Crawled (200) <GET https://www.mckinsey.com/business-functions/organization/our-insights/building-the-tech-talent-pipeline> (referer: None)\n",
      "2020-02-18 12:26:47 [urllib3.connectionpool] DEBUG: Starting new HTTPS connection (1): www.mckinsey.com:443\n"
     ]
    },
    {
     "name": "stdout",
     "output_type": "stream",
     "text": [
      "https://www.mckinsey.com/business-functions/operations/our-insights/resilience-in-transport-and-logistics\n"
     ]
    },
    {
     "name": "stderr",
     "output_type": "stream",
     "text": [
      "2020-02-18 12:26:48 [urllib3.connectionpool] DEBUG: https://www.mckinsey.com:443 \"GET /business-functions/operations/our-insights/resilience-in-transport-and-logistics HTTP/1.1\" 200 20822\n",
      "2020-02-18 12:26:48 [scrapy.core.engine] DEBUG: Crawled (200) <GET https://www.mckinsey.com/featured-insights/future-of-work/the-digital-future-of-work-what-skills-will-be-needed> (referer: None)\n",
      "2020-02-18 12:26:48 [scrapy.core.engine] DEBUG: Crawled (200) <GET https://www.mckinsey.com/business-functions/operations/our-insights/driving-superior-value-through-digital-procurement> (referer: None)\n",
      "2020-02-18 12:26:48 [scrapy.core.engine] DEBUG: Crawled (200) <GET https://www.mckinsey.com/industries/aerospace-and-defense/our-insights/war-and-peace-evolving-challenges-and-strategies-in-the-us-military> (referer: None)\n",
      "2020-02-18 12:26:48 [scrapy.core.engine] DEBUG: Crawled (200) <GET https://www.mckinsey.com/industries/financial-services/our-insights/the-insurance-switch-technology-will-reshape-operations> (referer: None)\n",
      "2020-02-18 12:26:48 [urllib3.connectionpool] DEBUG: Starting new HTTPS connection (1): www.mckinsey.com:443\n"
     ]
    },
    {
     "name": "stdout",
     "output_type": "stream",
     "text": [
      "https://www.mckinsey.com/business-functions/organization/our-insights/building-the-tech-talent-pipeline\n"
     ]
    },
    {
     "name": "stderr",
     "output_type": "stream",
     "text": [
      "2020-02-18 12:26:48 [urllib3.connectionpool] DEBUG: https://www.mckinsey.com:443 \"GET /business-functions/organization/our-insights/building-the-tech-talent-pipeline HTTP/1.1\" 200 20425\n",
      "2020-02-18 12:26:48 [scrapy.core.engine] DEBUG: Crawled (200) <GET https://www.mckinsey.com/business-functions/marketing-and-sales/our-insights/building-an-engine-for-growth-that-funds-itself> (referer: None)\n",
      "2020-02-18 12:26:48 [urllib3.connectionpool] DEBUG: Starting new HTTPS connection (1): www.mckinsey.com:443\n"
     ]
    },
    {
     "name": "stdout",
     "output_type": "stream",
     "text": [
      "https://www.mckinsey.com/featured-insights/future-of-work/the-digital-future-of-work-what-skills-will-be-needed\n"
     ]
    },
    {
     "name": "stderr",
     "output_type": "stream",
     "text": [
      "2020-02-18 12:26:49 [urllib3.connectionpool] DEBUG: https://www.mckinsey.com:443 \"GET /featured-insights/future-of-work/the-digital-future-of-work-what-skills-will-be-needed HTTP/1.1\" 200 19302\n",
      "2020-02-18 12:26:49 [urllib3.connectionpool] DEBUG: Starting new HTTPS connection (1): www.mckinsey.com:443\n"
     ]
    },
    {
     "name": "stdout",
     "output_type": "stream",
     "text": [
      "https://www.mckinsey.com/business-functions/operations/our-insights/driving-superior-value-through-digital-procurement\n"
     ]
    },
    {
     "name": "stderr",
     "output_type": "stream",
     "text": [
      "2020-02-18 12:26:49 [urllib3.connectionpool] DEBUG: https://www.mckinsey.com:443 \"GET /business-functions/operations/our-insights/driving-superior-value-through-digital-procurement HTTP/1.1\" 200 20734\n",
      "2020-02-18 12:26:49 [scrapy.core.scraper] ERROR: Spider error processing <GET https://www.mckinsey.com/business-functions/operations/our-insights/driving-superior-value-through-digital-procurement> (referer: None)\n",
      "Traceback (most recent call last):\n",
      "  File \"D:\\ProgramData\\Anaconda3\\lib\\site-packages\\twisted\\internet\\defer.py\", line 654, in _runCallbacks\n",
      "    current.result = callback(current.result, *args, **kw)\n",
      "  File \"<ipython-input-122-8fc83100377c>\", line 41, in parse\n",
      "    page_date = re.findall(date_regex, page_script)[0]\n",
      "IndexError: list index out of range\n",
      "2020-02-18 12:26:49 [urllib3.connectionpool] DEBUG: Starting new HTTPS connection (1): www.mckinsey.com:443\n"
     ]
    },
    {
     "name": "stdout",
     "output_type": "stream",
     "text": [
      "https://www.mckinsey.com/industries/aerospace-and-defense/our-insights/war-and-peace-evolving-challenges-and-strategies-in-the-us-military\n"
     ]
    },
    {
     "name": "stderr",
     "output_type": "stream",
     "text": [
      "2020-02-18 12:26:50 [urllib3.connectionpool] DEBUG: https://www.mckinsey.com:443 \"GET /industries/aerospace-and-defense/our-insights/war-and-peace-evolving-challenges-and-strategies-in-the-us-military HTTP/1.1\" 200 21909\n",
      "2020-02-18 12:26:50 [urllib3.connectionpool] DEBUG: Starting new HTTPS connection (1): www.mckinsey.com:443\n"
     ]
    },
    {
     "name": "stdout",
     "output_type": "stream",
     "text": [
      "https://www.mckinsey.com/industries/financial-services/our-insights/the-insurance-switch-technology-will-reshape-operations\n"
     ]
    },
    {
     "name": "stderr",
     "output_type": "stream",
     "text": [
      "2020-02-18 12:26:50 [urllib3.connectionpool] DEBUG: https://www.mckinsey.com:443 \"GET /industries/financial-services/our-insights/the-insurance-switch-technology-will-reshape-operations HTTP/1.1\" 200 21223\n",
      "2020-02-18 12:26:50 [scrapy.core.engine] DEBUG: Crawled (200) <GET https://www.mckinsey.com/industries/financial-services/our-insights/combating-payments-fraud-and-enhancing-customer-experience> (referer: None)\n",
      "2020-02-18 12:26:50 [scrapy.core.engine] DEBUG: Crawled (200) <GET https://www.mckinsey.com/industries/healthcare-systems-and-services/our-insights/the-hospital-is-dead-long-live-the-hospital> (referer: None)\n",
      "2020-02-18 12:26:51 [scrapy.core.engine] DEBUG: Crawled (200) <GET https://www.mckinsey.com/business-functions/organization/our-insights/the-manager-and-the-moron> (referer: None)\n",
      "2020-02-18 12:26:51 [scrapy.core.engine] DEBUG: Crawled (200) <GET https://www.mckinsey.com/industries/consumer-packaged-goods/our-insights/driving-superior-value-through-digital-procurement> (referer: None)\n",
      "2020-02-18 12:26:51 [scrapy.core.engine] DEBUG: Crawled (200) <GET https://www.mckinsey.com/industries/public-sector/our-insights/how-the-public-sector-can-remain-agile-beyond-times-of-crisis> (referer: None)\n",
      "2020-02-18 12:26:51 [scrapy.core.engine] DEBUG: Crawled (200) <GET https://www.mckinsey.com/business-functions/strategy-and-corporate-finance/our-insights/the-global-forces-inspiring-a-new-narrative-of-progress> (referer: None)\n",
      "2020-02-18 12:26:51 [scrapy.core.engine] DEBUG: Crawled (200) <GET https://www.mckinsey.com/business-functions/mckinsey-digital/our-insights/healthcare-giant-shares-prescription-for-digital-reinvention> (referer: None)\n",
      "2020-02-18 12:26:51 [urllib3.connectionpool] DEBUG: Starting new HTTPS connection (1): www.mckinsey.com:443\n"
     ]
    },
    {
     "name": "stdout",
     "output_type": "stream",
     "text": [
      "https://www.mckinsey.com/business-functions/marketing-and-sales/our-insights/building-an-engine-for-growth-that-funds-itself\n"
     ]
    },
    {
     "name": "stderr",
     "output_type": "stream",
     "text": [
      "2020-02-18 12:26:51 [urllib3.connectionpool] DEBUG: https://www.mckinsey.com:443 \"GET /business-functions/marketing-and-sales/our-insights/building-an-engine-for-growth-that-funds-itself HTTP/1.1\" 200 23216\n",
      "2020-02-18 12:26:51 [urllib3.connectionpool] DEBUG: Starting new HTTPS connection (1): www.mckinsey.com:443\n"
     ]
    },
    {
     "name": "stdout",
     "output_type": "stream",
     "text": [
      "https://www.mckinsey.com/industries/financial-services/our-insights/combating-payments-fraud-and-enhancing-customer-experience\n"
     ]
    },
    {
     "name": "stderr",
     "output_type": "stream",
     "text": [
      "2020-02-18 12:26:52 [urllib3.connectionpool] DEBUG: https://www.mckinsey.com:443 \"GET /industries/financial-services/our-insights/combating-payments-fraud-and-enhancing-customer-experience HTTP/1.1\" 200 23102\n",
      "2020-02-18 12:26:52 [urllib3.connectionpool] DEBUG: Starting new HTTPS connection (1): www.mckinsey.com:443\n"
     ]
    },
    {
     "name": "stdout",
     "output_type": "stream",
     "text": [
      "https://www.mckinsey.com/industries/healthcare-systems-and-services/our-insights/the-hospital-is-dead-long-live-the-hospital\n"
     ]
    },
    {
     "name": "stderr",
     "output_type": "stream",
     "text": [
      "2020-02-18 12:26:52 [urllib3.connectionpool] DEBUG: https://www.mckinsey.com:443 \"GET /industries/healthcare-systems-and-services/our-insights/the-hospital-is-dead-long-live-the-hospital HTTP/1.1\" 200 37613\n",
      "2020-02-18 12:26:52 [urllib3.connectionpool] DEBUG: Starting new HTTPS connection (1): www.mckinsey.com:443\n"
     ]
    },
    {
     "name": "stdout",
     "output_type": "stream",
     "text": [
      "https://www.mckinsey.com/business-functions/organization/our-insights/the-manager-and-the-moron\n"
     ]
    },
    {
     "name": "stderr",
     "output_type": "stream",
     "text": [
      "2020-02-18 12:26:53 [urllib3.connectionpool] DEBUG: https://www.mckinsey.com:443 \"GET /business-functions/organization/our-insights/the-manager-and-the-moron HTTP/1.1\" 200 24207\n",
      "2020-02-18 12:26:53 [urllib3.connectionpool] DEBUG: Starting new HTTPS connection (1): www.mckinsey.com:443\n"
     ]
    },
    {
     "name": "stdout",
     "output_type": "stream",
     "text": [
      "https://www.mckinsey.com/industries/consumer-packaged-goods/our-insights/driving-superior-value-through-digital-procurement\n"
     ]
    },
    {
     "name": "stderr",
     "output_type": "stream",
     "text": [
      "2020-02-18 12:26:54 [urllib3.connectionpool] DEBUG: https://www.mckinsey.com:443 \"GET /industries/consumer-packaged-goods/our-insights/driving-superior-value-through-digital-procurement HTTP/1.1\" 200 22626\n",
      "2020-02-18 12:26:54 [urllib3.connectionpool] DEBUG: Starting new HTTPS connection (1): www.mckinsey.com:443\n"
     ]
    },
    {
     "name": "stdout",
     "output_type": "stream",
     "text": [
      "https://www.mckinsey.com/industries/public-sector/our-insights/how-the-public-sector-can-remain-agile-beyond-times-of-crisis\n"
     ]
    },
    {
     "name": "stderr",
     "output_type": "stream",
     "text": [
      "2020-02-18 12:26:54 [urllib3.connectionpool] DEBUG: https://www.mckinsey.com:443 \"GET /industries/public-sector/our-insights/how-the-public-sector-can-remain-agile-beyond-times-of-crisis HTTP/1.1\" 200 23961\n",
      "2020-02-18 12:26:54 [scrapy.core.scraper] ERROR: Spider error processing <GET https://www.mckinsey.com/industries/public-sector/our-insights/how-the-public-sector-can-remain-agile-beyond-times-of-crisis> (referer: None)\n",
      "Traceback (most recent call last):\n",
      "  File \"D:\\ProgramData\\Anaconda3\\lib\\site-packages\\twisted\\internet\\defer.py\", line 654, in _runCallbacks\n",
      "    current.result = callback(current.result, *args, **kw)\n",
      "  File \"<ipython-input-122-8fc83100377c>\", line 41, in parse\n",
      "    page_date = re.findall(date_regex, page_script)[0]\n",
      "IndexError: list index out of range\n",
      "2020-02-18 12:26:54 [urllib3.connectionpool] DEBUG: Starting new HTTPS connection (1): www.mckinsey.com:443\n"
     ]
    },
    {
     "name": "stdout",
     "output_type": "stream",
     "text": [
      "https://www.mckinsey.com/business-functions/strategy-and-corporate-finance/our-insights/the-global-forces-inspiring-a-new-narrative-of-progress\n"
     ]
    },
    {
     "name": "stderr",
     "output_type": "stream",
     "text": [
      "2020-02-18 12:26:55 [urllib3.connectionpool] DEBUG: https://www.mckinsey.com:443 \"GET /business-functions/strategy-and-corporate-finance/our-insights/the-global-forces-inspiring-a-new-narrative-of-progress HTTP/1.1\" 200 32317\n",
      "2020-02-18 12:26:55 [urllib3.connectionpool] DEBUG: Starting new HTTPS connection (1): www.mckinsey.com:443\n"
     ]
    },
    {
     "name": "stdout",
     "output_type": "stream",
     "text": [
      "https://www.mckinsey.com/business-functions/mckinsey-digital/our-insights/healthcare-giant-shares-prescription-for-digital-reinvention\n"
     ]
    },
    {
     "name": "stderr",
     "output_type": "stream",
     "text": [
      "2020-02-18 12:26:56 [urllib3.connectionpool] DEBUG: https://www.mckinsey.com:443 \"GET /business-functions/mckinsey-digital/our-insights/healthcare-giant-shares-prescription-for-digital-reinvention HTTP/1.1\" 200 21581\n",
      "2020-02-18 12:26:56 [scrapy.core.engine] DEBUG: Crawled (200) <GET https://www.mckinsey.com/industries/technology-media-and-telecommunications/our-insights/video-meets-the-internet-of-things> (referer: None)\n",
      "2020-02-18 12:26:56 [scrapy.core.engine] DEBUG: Crawled (200) <GET https://www.mckinsey.com/business-functions/mckinsey-digital/our-insights/the-cloud-as-catalyst-for-retail> (referer: None)\n",
      "2020-02-18 12:26:56 [scrapy.core.engine] DEBUG: Crawled (200) <GET https://www.mckinsey.com/industries/healthcare-systems-and-services/our-insights/why-digital-is-now-crucial-for-private-health-insurers-in-europe> (referer: None)\n",
      "2020-02-18 12:26:56 [scrapy.core.engine] DEBUG: Crawled (200) <GET https://www.mckinsey.com/business-functions/mckinsey-digital/our-insights/from-disrupted-to-disruptor-reinventing-your-business-by-transforming-the-core> (referer: None)\n",
      "2020-02-18 12:26:56 [scrapy.core.engine] DEBUG: Crawled (200) <GET https://www.mckinsey.com/business-functions/strategy-and-corporate-finance/our-insights/measuring-your-strategys-odds-of-success> (referer: None)\n",
      "2020-02-18 12:26:56 [scrapy.core.engine] DEBUG: Crawled (200) <GET https://www.mckinsey.com/business-functions/mckinsey-digital/our-insights/how-digital-reinventors-are-pulling-away-from-the-pack> (referer: None)\n",
      "2020-02-18 12:26:56 [urllib3.connectionpool] DEBUG: Starting new HTTPS connection (1): www.mckinsey.com:443\n"
     ]
    },
    {
     "name": "stdout",
     "output_type": "stream",
     "text": [
      "https://www.mckinsey.com/industries/technology-media-and-telecommunications/our-insights/video-meets-the-internet-of-things\n"
     ]
    },
    {
     "name": "stderr",
     "output_type": "stream",
     "text": [
      "2020-02-18 12:26:57 [urllib3.connectionpool] DEBUG: https://www.mckinsey.com:443 \"GET /industries/technology-media-and-telecommunications/our-insights/video-meets-the-internet-of-things HTTP/1.1\" 200 20490\n",
      "2020-02-18 12:26:57 [urllib3.connectionpool] DEBUG: Starting new HTTPS connection (1): www.mckinsey.com:443\n"
     ]
    },
    {
     "name": "stdout",
     "output_type": "stream",
     "text": [
      "https://www.mckinsey.com/business-functions/mckinsey-digital/our-insights/the-cloud-as-catalyst-for-retail\n"
     ]
    },
    {
     "name": "stderr",
     "output_type": "stream",
     "text": [
      "2020-02-18 12:26:58 [urllib3.connectionpool] DEBUG: https://www.mckinsey.com:443 \"GET /business-functions/mckinsey-digital/our-insights/the-cloud-as-catalyst-for-retail HTTP/1.1\" 200 21526\n",
      "2020-02-18 12:26:58 [urllib3.connectionpool] DEBUG: Starting new HTTPS connection (1): www.mckinsey.com:443\n"
     ]
    },
    {
     "name": "stdout",
     "output_type": "stream",
     "text": [
      "https://www.mckinsey.com/industries/healthcare-systems-and-services/our-insights/why-digital-is-now-crucial-for-private-health-insurers-in-europe\n"
     ]
    },
    {
     "name": "stderr",
     "output_type": "stream",
     "text": [
      "2020-02-18 12:26:58 [urllib3.connectionpool] DEBUG: https://www.mckinsey.com:443 \"GET /industries/healthcare-systems-and-services/our-insights/why-digital-is-now-crucial-for-private-health-insurers-in-europe HTTP/1.1\" 200 21095\n",
      "2020-02-18 12:26:58 [urllib3.connectionpool] DEBUG: Starting new HTTPS connection (1): www.mckinsey.com:443\n"
     ]
    },
    {
     "name": "stdout",
     "output_type": "stream",
     "text": [
      "https://www.mckinsey.com/business-functions/mckinsey-digital/our-insights/from-disrupted-to-disruptor-reinventing-your-business-by-transforming-the-core\n"
     ]
    },
    {
     "name": "stderr",
     "output_type": "stream",
     "text": [
      "2020-02-18 12:26:59 [urllib3.connectionpool] DEBUG: https://www.mckinsey.com:443 \"GET /business-functions/mckinsey-digital/our-insights/from-disrupted-to-disruptor-reinventing-your-business-by-transforming-the-core HTTP/1.1\" 200 22413\n",
      "2020-02-18 12:26:59 [urllib3.connectionpool] DEBUG: Starting new HTTPS connection (1): www.mckinsey.com:443\n"
     ]
    },
    {
     "name": "stdout",
     "output_type": "stream",
     "text": [
      "https://www.mckinsey.com/business-functions/strategy-and-corporate-finance/our-insights/measuring-your-strategys-odds-of-success\n"
     ]
    },
    {
     "name": "stderr",
     "output_type": "stream",
     "text": [
      "2020-02-18 12:27:00 [urllib3.connectionpool] DEBUG: https://www.mckinsey.com:443 \"GET /business-functions/strategy-and-corporate-finance/our-insights/measuring-your-strategys-odds-of-success HTTP/1.1\" 200 22553\n",
      "2020-02-18 12:27:00 [scrapy.core.scraper] ERROR: Spider error processing <GET https://www.mckinsey.com/business-functions/strategy-and-corporate-finance/our-insights/measuring-your-strategys-odds-of-success> (referer: None)\n",
      "Traceback (most recent call last):\n",
      "  File \"D:\\ProgramData\\Anaconda3\\lib\\site-packages\\twisted\\internet\\defer.py\", line 654, in _runCallbacks\n",
      "    current.result = callback(current.result, *args, **kw)\n",
      "  File \"<ipython-input-122-8fc83100377c>\", line 41, in parse\n",
      "    page_date = re.findall(date_regex, page_script)[0]\n",
      "IndexError: list index out of range\n",
      "2020-02-18 12:27:00 [urllib3.connectionpool] DEBUG: Starting new HTTPS connection (1): www.mckinsey.com:443\n"
     ]
    },
    {
     "name": "stdout",
     "output_type": "stream",
     "text": [
      "https://www.mckinsey.com/business-functions/mckinsey-digital/our-insights/how-digital-reinventors-are-pulling-away-from-the-pack\n"
     ]
    },
    {
     "name": "stderr",
     "output_type": "stream",
     "text": [
      "2020-02-18 12:27:00 [urllib3.connectionpool] DEBUG: https://www.mckinsey.com:443 \"GET /business-functions/mckinsey-digital/our-insights/how-digital-reinventors-are-pulling-away-from-the-pack HTTP/1.1\" 200 21121\n",
      "2020-02-18 12:27:00 [scrapy.core.scraper] ERROR: Spider error processing <GET https://www.mckinsey.com/business-functions/mckinsey-digital/our-insights/how-digital-reinventors-are-pulling-away-from-the-pack> (referer: None)\n",
      "Traceback (most recent call last):\n",
      "  File \"D:\\ProgramData\\Anaconda3\\lib\\site-packages\\twisted\\internet\\defer.py\", line 654, in _runCallbacks\n",
      "    current.result = callback(current.result, *args, **kw)\n",
      "  File \"<ipython-input-122-8fc83100377c>\", line 41, in parse\n",
      "    page_date = re.findall(date_regex, page_script)[0]\n",
      "IndexError: list index out of range\n",
      "2020-02-18 12:27:00 [scrapy.core.engine] DEBUG: Crawled (200) <GET https://www.mckinsey.com/business-functions/operations/our-insights/buried-treasure-advanced-analytics-in-process-industries> (referer: None)\n",
      "2020-02-18 12:27:00 [scrapy.core.engine] DEBUG: Crawled (200) <GET https://www.mckinsey.com/business-functions/operations/our-insights/service-innovation-in-a-digital-world> (referer: None)\n",
      "2020-02-18 12:27:00 [scrapy.core.engine] DEBUG: Crawled (200) <GET https://www.mckinsey.com/business-functions/operations/our-insights/why-your-call-center-is-only-getting-noisier> (referer: None)\n",
      "2020-02-18 12:27:00 [scrapy.core.engine] DEBUG: Crawled (200) <GET https://www.mckinsey.com/business-functions/strategy-and-corporate-finance/our-insights/how-to-avoid-digital-strategy-pitfalls> (referer: None)\n",
      "2020-02-18 12:27:00 [scrapy.core.engine] DEBUG: Crawled (200) <GET https://www.mckinsey.com/industries/automotive-and-assembly/our-insights/how-oems-can-seize-the-high-tech-future-in-agriculture-and-construction> (referer: None)\n",
      "2020-02-18 12:27:00 [scrapy.core.engine] DEBUG: Crawled (200) <GET https://www.mckinsey.com/industries/capital-projects-and-infrastructure/our-insights/how-advanced-analytics-can-benefit-infrastructure-capital-planning> (referer: None)\n",
      "2020-02-18 12:27:00 [scrapy.core.engine] DEBUG: Crawled (200) <GET https://www.mckinsey.com/business-functions/mckinsey-digital/our-insights/the-seven-make-or-break-api-challenges-cios-need-to-address> (referer: None)\n",
      "2020-02-18 12:27:00 [scrapy.core.engine] DEBUG: Crawled (200) <GET https://www.mckinsey.com/business-functions/operations/our-insights/automation-robotics-and-the-factory-of-the-future> (referer: None)\n",
      "2020-02-18 12:27:00 [urllib3.connectionpool] DEBUG: Starting new HTTPS connection (1): www.mckinsey.com:443\n"
     ]
    },
    {
     "name": "stdout",
     "output_type": "stream",
     "text": [
      "https://www.mckinsey.com/business-functions/operations/our-insights/buried-treasure-advanced-analytics-in-process-industries\n"
     ]
    },
    {
     "name": "stderr",
     "output_type": "stream",
     "text": [
      "2020-02-18 12:27:02 [urllib3.connectionpool] DEBUG: https://www.mckinsey.com:443 \"GET /business-functions/operations/our-insights/buried-treasure-advanced-analytics-in-process-industries HTTP/1.1\" 200 21139\n",
      "2020-02-18 12:27:02 [scrapy.core.engine] DEBUG: Crawled (200) <GET https://www.mckinsey.com/industries/financial-services/our-insights/advanced-analytics-in-asset-management-beyond-the-buzz> (referer: None)\n",
      "2020-02-18 12:27:02 [scrapy.core.engine] DEBUG: Crawled (200) <GET https://www.mckinsey.com/industries/oil-and-gas/our-insights/the-oil-and-gas-organization-of-the-future> (referer: None)\n",
      "2020-02-18 12:27:02 [scrapy.core.engine] DEBUG: Crawled (200) <GET https://www.mckinsey.com/industries/public-sector/our-insights/the-public-sector-gets-serious-about-customer-experience> (referer: None)\n",
      "2020-02-18 12:27:02 [scrapy.core.engine] DEBUG: Crawled (200) <GET https://www.mckinsey.com/industries/technology-media-and-telecommunications/our-insights/telecom-operators-surviving-and-thriving-through-the-next-downturn> (referer: None)\n",
      "2020-02-18 12:27:02 [scrapy.core.engine] DEBUG: Crawled (200) <GET https://www.mckinsey.com/uk/our-people> (referer: None)\n",
      "2020-02-18 12:27:02 [scrapy.core.engine] DEBUG: Crawled (200) <GET https://www.mckinsey.com/business-functions/organization/our-insights/the-new-science-of-talent-from-roles-to-returns> (referer: None)\n",
      "2020-02-18 12:27:02 [scrapy.core.engine] DEBUG: Crawled (200) <GET https://www.mckinsey.com/industries/advanced-electronics/our-insights/industrial-lighthouses-for-tech-enabled-transformations> (referer: None)\n",
      "2020-02-18 12:27:02 [scrapy.core.engine] DEBUG: Crawled (200) <GET https://www.mckinsey.com/industries/private-equity-and-principal-investors/our-insights/growing-opportunities-in-the-internet-of-things> (referer: None)\n",
      "2020-02-18 12:27:02 [urllib3.connectionpool] DEBUG: Starting new HTTPS connection (1): www.mckinsey.com:443\n"
     ]
    },
    {
     "name": "stdout",
     "output_type": "stream",
     "text": [
      "https://www.mckinsey.com/business-functions/operations/our-insights/service-innovation-in-a-digital-world\n"
     ]
    },
    {
     "name": "stderr",
     "output_type": "stream",
     "text": [
      "2020-02-18 12:27:02 [urllib3.connectionpool] DEBUG: https://www.mckinsey.com:443 \"GET /business-functions/operations/our-insights/service-innovation-in-a-digital-world HTTP/1.1\" 200 21366\n",
      "2020-02-18 12:27:02 [urllib3.connectionpool] DEBUG: Starting new HTTPS connection (1): www.mckinsey.com:443\n"
     ]
    },
    {
     "name": "stdout",
     "output_type": "stream",
     "text": [
      "https://www.mckinsey.com/business-functions/operations/our-insights/why-your-call-center-is-only-getting-noisier\n"
     ]
    },
    {
     "name": "stderr",
     "output_type": "stream",
     "text": [
      "2020-02-18 12:27:03 [urllib3.connectionpool] DEBUG: https://www.mckinsey.com:443 \"GET /business-functions/operations/our-insights/why-your-call-center-is-only-getting-noisier HTTP/1.1\" 200 21479\n",
      "2020-02-18 12:27:03 [urllib3.connectionpool] DEBUG: Starting new HTTPS connection (1): www.mckinsey.com:443\n"
     ]
    },
    {
     "name": "stdout",
     "output_type": "stream",
     "text": [
      "https://www.mckinsey.com/business-functions/strategy-and-corporate-finance/our-insights/how-to-avoid-digital-strategy-pitfalls\n"
     ]
    },
    {
     "name": "stderr",
     "output_type": "stream",
     "text": [
      "2020-02-18 12:27:04 [urllib3.connectionpool] DEBUG: https://www.mckinsey.com:443 \"GET /business-functions/strategy-and-corporate-finance/our-insights/how-to-avoid-digital-strategy-pitfalls HTTP/1.1\" 200 23400\n",
      "2020-02-18 12:27:04 [urllib3.connectionpool] DEBUG: Starting new HTTPS connection (1): www.mckinsey.com:443\n"
     ]
    },
    {
     "name": "stdout",
     "output_type": "stream",
     "text": [
      "https://www.mckinsey.com/industries/automotive-and-assembly/our-insights/how-oems-can-seize-the-high-tech-future-in-agriculture-and-construction\n"
     ]
    },
    {
     "name": "stderr",
     "output_type": "stream",
     "text": [
      "2020-02-18 12:27:05 [urllib3.connectionpool] DEBUG: https://www.mckinsey.com:443 \"GET /industries/automotive-and-assembly/our-insights/how-oems-can-seize-the-high-tech-future-in-agriculture-and-construction HTTP/1.1\" 200 21131\n",
      "2020-02-18 12:27:05 [urllib3.connectionpool] DEBUG: Starting new HTTPS connection (1): www.mckinsey.com:443\n"
     ]
    },
    {
     "name": "stdout",
     "output_type": "stream",
     "text": [
      "https://www.mckinsey.com/industries/capital-projects-and-infrastructure/our-insights/how-advanced-analytics-can-benefit-infrastructure-capital-planning\n"
     ]
    },
    {
     "name": "stderr",
     "output_type": "stream",
     "text": [
      "2020-02-18 12:27:05 [urllib3.connectionpool] DEBUG: https://www.mckinsey.com:443 \"GET /industries/capital-projects-and-infrastructure/our-insights/how-advanced-analytics-can-benefit-infrastructure-capital-planning HTTP/1.1\" 200 20707\n",
      "2020-02-18 12:27:05 [urllib3.connectionpool] DEBUG: Starting new HTTPS connection (1): www.mckinsey.com:443\n"
     ]
    },
    {
     "name": "stdout",
     "output_type": "stream",
     "text": [
      "https://www.mckinsey.com/business-functions/mckinsey-digital/our-insights/the-seven-make-or-break-api-challenges-cios-need-to-address\n"
     ]
    },
    {
     "name": "stderr",
     "output_type": "stream",
     "text": [
      "2020-02-18 12:27:06 [urllib3.connectionpool] DEBUG: https://www.mckinsey.com:443 \"GET /business-functions/mckinsey-digital/our-insights/the-seven-make-or-break-api-challenges-cios-need-to-address HTTP/1.1\" 200 20824\n",
      "2020-02-18 12:27:06 [urllib3.connectionpool] DEBUG: Starting new HTTPS connection (1): www.mckinsey.com:443\n"
     ]
    },
    {
     "name": "stdout",
     "output_type": "stream",
     "text": [
      "https://www.mckinsey.com/business-functions/operations/our-insights/automation-robotics-and-the-factory-of-the-future\n"
     ]
    },
    {
     "name": "stderr",
     "output_type": "stream",
     "text": [
      "2020-02-18 12:27:07 [urllib3.connectionpool] DEBUG: https://www.mckinsey.com:443 \"GET /business-functions/operations/our-insights/automation-robotics-and-the-factory-of-the-future HTTP/1.1\" 200 21092\n",
      "2020-02-18 12:27:07 [urllib3.connectionpool] DEBUG: Starting new HTTPS connection (1): www.mckinsey.com:443\n"
     ]
    },
    {
     "name": "stdout",
     "output_type": "stream",
     "text": [
      "https://www.mckinsey.com/industries/financial-services/our-insights/advanced-analytics-in-asset-management-beyond-the-buzz\n"
     ]
    },
    {
     "name": "stderr",
     "output_type": "stream",
     "text": [
      "2020-02-18 12:27:07 [urllib3.connectionpool] DEBUG: https://www.mckinsey.com:443 \"GET /industries/financial-services/our-insights/advanced-analytics-in-asset-management-beyond-the-buzz HTTP/1.1\" 200 20275\n",
      "2020-02-18 12:27:07 [urllib3.connectionpool] DEBUG: Starting new HTTPS connection (1): www.mckinsey.com:443\n"
     ]
    },
    {
     "name": "stdout",
     "output_type": "stream",
     "text": [
      "https://www.mckinsey.com/industries/oil-and-gas/our-insights/the-oil-and-gas-organization-of-the-future\n"
     ]
    },
    {
     "name": "stderr",
     "output_type": "stream",
     "text": [
      "2020-02-18 12:27:08 [urllib3.connectionpool] DEBUG: https://www.mckinsey.com:443 \"GET /industries/oil-and-gas/our-insights/the-oil-and-gas-organization-of-the-future HTTP/1.1\" 200 21840\n",
      "2020-02-18 12:27:08 [urllib3.connectionpool] DEBUG: Starting new HTTPS connection (1): www.mckinsey.com:443\n"
     ]
    },
    {
     "name": "stdout",
     "output_type": "stream",
     "text": [
      "https://www.mckinsey.com/industries/public-sector/our-insights/the-public-sector-gets-serious-about-customer-experience\n"
     ]
    },
    {
     "name": "stderr",
     "output_type": "stream",
     "text": [
      "2020-02-18 12:27:09 [urllib3.connectionpool] DEBUG: https://www.mckinsey.com:443 \"GET /industries/public-sector/our-insights/the-public-sector-gets-serious-about-customer-experience HTTP/1.1\" 200 22408\n",
      "2020-02-18 12:27:09 [urllib3.connectionpool] DEBUG: Starting new HTTPS connection (1): www.mckinsey.com:443\n"
     ]
    },
    {
     "name": "stdout",
     "output_type": "stream",
     "text": [
      "https://www.mckinsey.com/industries/technology-media-and-telecommunications/our-insights/telecom-operators-surviving-and-thriving-through-the-next-downturn\n"
     ]
    },
    {
     "name": "stderr",
     "output_type": "stream",
     "text": [
      "2020-02-18 12:27:10 [urllib3.connectionpool] DEBUG: https://www.mckinsey.com:443 \"GET /industries/technology-media-and-telecommunications/our-insights/telecom-operators-surviving-and-thriving-through-the-next-downturn HTTP/1.1\" 200 21818\n",
      "2020-02-18 12:27:10 [urllib3.connectionpool] DEBUG: Starting new HTTPS connection (1): www.mckinsey.com:443\n"
     ]
    },
    {
     "name": "stdout",
     "output_type": "stream",
     "text": [
      "https://www.mckinsey.com/uk/our-people\n"
     ]
    },
    {
     "name": "stderr",
     "output_type": "stream",
     "text": [
      "2020-02-18 12:27:10 [urllib3.connectionpool] DEBUG: https://www.mckinsey.com:443 \"GET /uk/our-people HTTP/1.1\" 200 23025\n",
      "2020-02-18 12:27:10 [scrapy.core.scraper] ERROR: Spider error processing <GET https://www.mckinsey.com/uk/our-people> (referer: None)\n",
      "Traceback (most recent call last):\n",
      "  File \"D:\\ProgramData\\Anaconda3\\lib\\site-packages\\twisted\\internet\\defer.py\", line 654, in _runCallbacks\n",
      "    current.result = callback(current.result, *args, **kw)\n",
      "  File \"<ipython-input-122-8fc83100377c>\", line 37, in parse\n",
      "    content_type = re.findall(conttype_regex, page_script)[0]\n",
      "IndexError: list index out of range\n",
      "2020-02-18 12:27:10 [urllib3.connectionpool] DEBUG: Starting new HTTPS connection (1): www.mckinsey.com:443\n"
     ]
    },
    {
     "name": "stdout",
     "output_type": "stream",
     "text": [
      "https://www.mckinsey.com/business-functions/organization/our-insights/the-new-science-of-talent-from-roles-to-returns\n"
     ]
    },
    {
     "name": "stderr",
     "output_type": "stream",
     "text": [
      "2020-02-18 12:27:11 [urllib3.connectionpool] DEBUG: https://www.mckinsey.com:443 \"GET /business-functions/organization/our-insights/the-new-science-of-talent-from-roles-to-returns HTTP/1.1\" 200 23050\n",
      "2020-02-18 12:27:11 [urllib3.connectionpool] DEBUG: Starting new HTTPS connection (1): www.mckinsey.com:443\n"
     ]
    },
    {
     "name": "stdout",
     "output_type": "stream",
     "text": [
      "https://www.mckinsey.com/industries/advanced-electronics/our-insights/industrial-lighthouses-for-tech-enabled-transformations\n"
     ]
    },
    {
     "name": "stderr",
     "output_type": "stream",
     "text": [
      "2020-02-18 12:27:12 [urllib3.connectionpool] DEBUG: https://www.mckinsey.com:443 \"GET /industries/advanced-electronics/our-insights/industrial-lighthouses-for-tech-enabled-transformations HTTP/1.1\" 200 21258\n",
      "2020-02-18 12:27:12 [urllib3.connectionpool] DEBUG: Starting new HTTPS connection (1): www.mckinsey.com:443\n"
     ]
    },
    {
     "name": "stdout",
     "output_type": "stream",
     "text": [
      "https://www.mckinsey.com/industries/private-equity-and-principal-investors/our-insights/growing-opportunities-in-the-internet-of-things\n"
     ]
    },
    {
     "name": "stderr",
     "output_type": "stream",
     "text": [
      "2020-02-18 12:27:13 [urllib3.connectionpool] DEBUG: https://www.mckinsey.com:443 \"GET /industries/private-equity-and-principal-investors/our-insights/growing-opportunities-in-the-internet-of-things HTTP/1.1\" 200 21190\n",
      "2020-02-18 12:27:13 [scrapy.core.engine] DEBUG: Crawled (200) <GET https://www.mckinsey.com/industries/semiconductors/our-insights/reducing-indirect-labor-costs-at-semiconductor-companies> (referer: None)\n",
      "2020-02-18 12:27:13 [scrapy.core.engine] DEBUG: Crawled (200) <GET https://www.mckinsey.com/industries/technology-media-and-telecommunications/our-insights/cutting-through-the-5g-hype-survey-shows-telcos-nuanced-views> (referer: None)\n",
      "2020-02-18 12:27:13 [scrapy.core.engine] DEBUG: Crawled (200) <GET https://www.mckinsey.com/business-functions/mckinsey-digital/our-insights/finding-a-strategic-cybersecurity-model> (referer: None)\n",
      "2020-02-18 12:27:13 [scrapy.core.engine] DEBUG: Crawled (200) <GET https://www.mckinsey.com/business-functions/organization/our-insights/organizing-for-the-age-of-urgency> (referer: None)\n",
      "2020-02-18 12:27:13 [scrapy.core.engine] DEBUG: Crawled (200) <GET https://www.mckinsey.com/industries/public-sector/our-insights/thriving-amid-turbulence-imagining-the-cities-of-the-future> (referer: None)\n",
      "2020-02-18 12:27:13 [scrapy.core.engine] DEBUG: Crawled (200) <GET https://www.mckinsey.com/industries/public-sector/our-insights/agility-in-us-national-security> (referer: None)\n",
      "2020-02-18 12:27:13 [scrapy.core.engine] DEBUG: Crawled (200) <GET https://www.mckinsey.com/featured-insights/europe/brexit-the-bigger-picture-rethinking-talent-for-the-long-term> (referer: None)\n",
      "2020-02-18 12:27:13 [scrapy.core.engine] DEBUG: Crawled (200) <GET https://www.mckinsey.com/industries/travel-transport-and-logistics/our-insights/how-airlines-can-gain-a-competitive-edge-through-pricing> (referer: None)\n",
      "2020-02-18 12:27:13 [scrapy.extensions.logstats] INFO: Crawled 787 pages (at 80 pages/min), scraped 0 items (at 0 items/min)\n",
      "2020-02-18 12:27:13 [urllib3.connectionpool] DEBUG: Starting new HTTPS connection (1): www.mckinsey.com:443\n"
     ]
    },
    {
     "name": "stdout",
     "output_type": "stream",
     "text": [
      "https://www.mckinsey.com/industries/semiconductors/our-insights/reducing-indirect-labor-costs-at-semiconductor-companies\n"
     ]
    },
    {
     "name": "stderr",
     "output_type": "stream",
     "text": [
      "2020-02-18 12:27:13 [urllib3.connectionpool] DEBUG: https://www.mckinsey.com:443 \"GET /industries/semiconductors/our-insights/reducing-indirect-labor-costs-at-semiconductor-companies HTTP/1.1\" 200 21525\n",
      "2020-02-18 12:27:13 [scrapy.core.engine] DEBUG: Crawled (200) <GET https://www.mckinsey.com/industries/consumer-packaged-goods/our-insights/what-beauty-players-can-teach-the-consumer-sector-about-digital-disruption> (referer: None)\n",
      "2020-02-18 12:27:13 [scrapy.core.engine] DEBUG: Crawled (200) <GET https://www.mckinsey.com/industries/pharmaceuticals-and-medical-products/our-insights/genetic-testing-opportunities-to-unlock-value-in-precision-medicine> (referer: None)\n",
      "2020-02-18 12:27:14 [scrapy.core.engine] DEBUG: Crawled (200) <GET https://www.mckinsey.com/industries/retail/our-insights/ready-to-where-getting-sharp-on-apparel-omnichannel-excellence> (referer: None)\n",
      "2020-02-18 12:27:14 [urllib3.connectionpool] DEBUG: Starting new HTTPS connection (1): www.mckinsey.com:443\n"
     ]
    },
    {
     "name": "stdout",
     "output_type": "stream",
     "text": [
      "https://www.mckinsey.com/industries/technology-media-and-telecommunications/our-insights/cutting-through-the-5g-hype-survey-shows-telcos-nuanced-views\n"
     ]
    },
    {
     "name": "stderr",
     "output_type": "stream",
     "text": [
      "2020-02-18 12:27:14 [urllib3.connectionpool] DEBUG: https://www.mckinsey.com:443 \"GET /industries/technology-media-and-telecommunications/our-insights/cutting-through-the-5g-hype-survey-shows-telcos-nuanced-views HTTP/1.1\" 200 21444\n",
      "2020-02-18 12:27:14 [urllib3.connectionpool] DEBUG: Starting new HTTPS connection (1): www.mckinsey.com:443\n"
     ]
    },
    {
     "name": "stdout",
     "output_type": "stream",
     "text": [
      "https://www.mckinsey.com/business-functions/mckinsey-digital/our-insights/finding-a-strategic-cybersecurity-model\n"
     ]
    },
    {
     "name": "stderr",
     "output_type": "stream",
     "text": [
      "2020-02-18 12:27:14 [urllib3.connectionpool] DEBUG: https://www.mckinsey.com:443 \"GET /business-functions/mckinsey-digital/our-insights/finding-a-strategic-cybersecurity-model HTTP/1.1\" 200 24186\n",
      "2020-02-18 12:27:14 [scrapy.core.scraper] ERROR: Spider error processing <GET https://www.mckinsey.com/business-functions/mckinsey-digital/our-insights/finding-a-strategic-cybersecurity-model> (referer: None)\n",
      "Traceback (most recent call last):\n",
      "  File \"D:\\ProgramData\\Anaconda3\\lib\\site-packages\\twisted\\internet\\defer.py\", line 654, in _runCallbacks\n",
      "    current.result = callback(current.result, *args, **kw)\n",
      "  File \"<ipython-input-122-8fc83100377c>\", line 41, in parse\n",
      "    page_date = re.findall(date_regex, page_script)[0]\n",
      "IndexError: list index out of range\n",
      "2020-02-18 12:27:15 [urllib3.connectionpool] DEBUG: Starting new HTTPS connection (1): www.mckinsey.com:443\n"
     ]
    },
    {
     "name": "stdout",
     "output_type": "stream",
     "text": [
      "https://www.mckinsey.com/business-functions/organization/our-insights/organizing-for-the-age-of-urgency\n"
     ]
    },
    {
     "name": "stderr",
     "output_type": "stream",
     "text": [
      "2020-02-18 12:27:16 [urllib3.connectionpool] DEBUG: https://www.mckinsey.com:443 \"GET /business-functions/organization/our-insights/organizing-for-the-age-of-urgency HTTP/1.1\" 200 25104\n",
      "2020-02-18 12:27:16 [urllib3.connectionpool] DEBUG: Starting new HTTPS connection (1): www.mckinsey.com:443\n"
     ]
    },
    {
     "name": "stdout",
     "output_type": "stream",
     "text": [
      "https://www.mckinsey.com/industries/public-sector/our-insights/thriving-amid-turbulence-imagining-the-cities-of-the-future\n"
     ]
    },
    {
     "name": "stderr",
     "output_type": "stream",
     "text": [
      "2020-02-18 12:27:17 [urllib3.connectionpool] DEBUG: https://www.mckinsey.com:443 \"GET /industries/public-sector/our-insights/thriving-amid-turbulence-imagining-the-cities-of-the-future HTTP/1.1\" 200 23018\n",
      "2020-02-18 12:27:17 [urllib3.connectionpool] DEBUG: Starting new HTTPS connection (1): www.mckinsey.com:443\n"
     ]
    },
    {
     "name": "stdout",
     "output_type": "stream",
     "text": [
      "https://www.mckinsey.com/industries/public-sector/our-insights/agility-in-us-national-security\n"
     ]
    },
    {
     "name": "stderr",
     "output_type": "stream",
     "text": [
      "2020-02-18 12:27:18 [urllib3.connectionpool] DEBUG: https://www.mckinsey.com:443 \"GET /industries/public-sector/our-insights/agility-in-us-national-security HTTP/1.1\" 200 24602\n",
      "2020-02-18 12:27:18 [scrapy.core.scraper] ERROR: Spider error processing <GET https://www.mckinsey.com/industries/public-sector/our-insights/agility-in-us-national-security> (referer: None)\n",
      "Traceback (most recent call last):\n",
      "  File \"D:\\ProgramData\\Anaconda3\\lib\\site-packages\\twisted\\internet\\defer.py\", line 654, in _runCallbacks\n",
      "    current.result = callback(current.result, *args, **kw)\n",
      "  File \"<ipython-input-122-8fc83100377c>\", line 42, in parse\n",
      "    page_texttype = re.findall(texttype_regex, page_script)[0]\n",
      "IndexError: list index out of range\n",
      "2020-02-18 12:27:18 [urllib3.connectionpool] DEBUG: Starting new HTTPS connection (1): www.mckinsey.com:443\n"
     ]
    },
    {
     "name": "stdout",
     "output_type": "stream",
     "text": [
      "https://www.mckinsey.com/featured-insights/europe/brexit-the-bigger-picture-rethinking-talent-for-the-long-term\n"
     ]
    },
    {
     "name": "stderr",
     "output_type": "stream",
     "text": [
      "2020-02-18 12:27:19 [urllib3.connectionpool] DEBUG: https://www.mckinsey.com:443 \"GET /featured-insights/europe/brexit-the-bigger-picture-rethinking-talent-for-the-long-term HTTP/1.1\" 200 23904\n",
      "2020-02-18 12:27:19 [urllib3.connectionpool] DEBUG: Starting new HTTPS connection (1): www.mckinsey.com:443\n"
     ]
    },
    {
     "name": "stdout",
     "output_type": "stream",
     "text": [
      "https://www.mckinsey.com/industries/travel-transport-and-logistics/our-insights/how-airlines-can-gain-a-competitive-edge-through-pricing\n"
     ]
    },
    {
     "name": "stderr",
     "output_type": "stream",
     "text": [
      "2020-02-18 12:27:19 [urllib3.connectionpool] DEBUG: https://www.mckinsey.com:443 \"GET /industries/travel-transport-and-logistics/our-insights/how-airlines-can-gain-a-competitive-edge-through-pricing HTTP/1.1\" 200 22185\n",
      "2020-02-18 12:27:19 [scrapy.core.engine] DEBUG: Crawled (200) <GET https://www.mckinsey.com/industries/capital-projects-and-infrastructure/our-insights/getting-capital-projects-back-on-track-six-elements-of-a-successful-turnaround> (referer: None)\n",
      "2020-02-18 12:27:19 [scrapy.core.engine] DEBUG: Crawled (200) <GET https://www.mckinsey.com/industries/financial-services/our-insights/using-analytics-to-increase-satisfaction-efficiency-and-revenue-in-customer-service> (referer: None)\n",
      "2020-02-18 12:27:19 [scrapy.core.engine] DEBUG: Crawled (200) <GET https://www.mckinsey.com/industries/private-equity-and-principal-investors/our-insights/private-equity-rolls-on-how-investors-and-managers-are-responding-to-scale> (referer: None)\n",
      "2020-02-18 12:27:19 [scrapy.core.engine] DEBUG: Crawled (200) <GET https://www.mckinsey.com/business-functions/mckinsey-analytics/our-insights/collaborating-for-the-common-good> (referer: None)\n",
      "2020-02-18 12:27:19 [scrapy.core.engine] DEBUG: Crawled (200) <GET https://www.mckinsey.com/business-functions/organization/our-insights/answering-societys-call-a-new-leadership-imperative> (referer: None)\n",
      "2020-02-18 12:27:19 [urllib3.connectionpool] DEBUG: Starting new HTTPS connection (1): www.mckinsey.com:443\n"
     ]
    },
    {
     "name": "stdout",
     "output_type": "stream",
     "text": [
      "https://www.mckinsey.com/industries/consumer-packaged-goods/our-insights/what-beauty-players-can-teach-the-consumer-sector-about-digital-disruption\n"
     ]
    },
    {
     "name": "stderr",
     "output_type": "stream",
     "text": [
      "2020-02-18 12:27:20 [urllib3.connectionpool] DEBUG: https://www.mckinsey.com:443 \"GET /industries/consumer-packaged-goods/our-insights/what-beauty-players-can-teach-the-consumer-sector-about-digital-disruption HTTP/1.1\" 200 22607\n",
      "2020-02-18 12:27:20 [urllib3.connectionpool] DEBUG: Starting new HTTPS connection (1): www.mckinsey.com:443\n"
     ]
    },
    {
     "name": "stdout",
     "output_type": "stream",
     "text": [
      "https://www.mckinsey.com/industries/pharmaceuticals-and-medical-products/our-insights/genetic-testing-opportunities-to-unlock-value-in-precision-medicine\n"
     ]
    },
    {
     "name": "stderr",
     "output_type": "stream",
     "text": [
      "2020-02-18 12:27:21 [urllib3.connectionpool] DEBUG: https://www.mckinsey.com:443 \"GET /industries/pharmaceuticals-and-medical-products/our-insights/genetic-testing-opportunities-to-unlock-value-in-precision-medicine HTTP/1.1\" 200 22416\n",
      "2020-02-18 12:27:21 [urllib3.connectionpool] DEBUG: Starting new HTTPS connection (1): www.mckinsey.com:443\n"
     ]
    },
    {
     "name": "stdout",
     "output_type": "stream",
     "text": [
      "https://www.mckinsey.com/industries/retail/our-insights/ready-to-where-getting-sharp-on-apparel-omnichannel-excellence\n"
     ]
    },
    {
     "name": "stderr",
     "output_type": "stream",
     "text": [
      "2020-02-18 12:27:22 [urllib3.connectionpool] DEBUG: https://www.mckinsey.com:443 \"GET /industries/retail/our-insights/ready-to-where-getting-sharp-on-apparel-omnichannel-excellence HTTP/1.1\" 200 22403\n",
      "2020-02-18 12:27:22 [scrapy.core.engine] DEBUG: Crawled (200) <GET https://www.mckinsey.com/business-functions/risk/our-insights/flushing-out-the-money-launderers-with-better-customer-risk-rating-models> (referer: None)\n",
      "2020-02-18 12:27:22 [scrapy.core.engine] DEBUG: Crawled (200) <GET https://www.mckinsey.com/industries/automotive-and-assembly/our-insights/mastering-automotive-software-launch-excellence> (referer: None)\n",
      "2020-02-18 12:27:22 [scrapy.core.engine] DEBUG: Crawled (200) <GET https://www.mckinsey.com/industries/consumer-packaged-goods/our-insights/is-the-consumer-goods-industry-ready-for-the-new-world-of-work> (referer: None)\n",
      "2020-02-18 12:27:22 [urllib3.connectionpool] DEBUG: Starting new HTTPS connection (1): www.mckinsey.com:443\n"
     ]
    },
    {
     "name": "stdout",
     "output_type": "stream",
     "text": [
      "https://www.mckinsey.com/industries/capital-projects-and-infrastructure/our-insights/getting-capital-projects-back-on-track-six-elements-of-a-successful-turnaround\n"
     ]
    },
    {
     "name": "stderr",
     "output_type": "stream",
     "text": [
      "2020-02-18 12:27:22 [urllib3.connectionpool] DEBUG: https://www.mckinsey.com:443 \"GET /industries/capital-projects-and-infrastructure/our-insights/getting-capital-projects-back-on-track-six-elements-of-a-successful-turnaround HTTP/1.1\" 200 22162\n",
      "2020-02-18 12:27:22 [urllib3.connectionpool] DEBUG: Starting new HTTPS connection (1): www.mckinsey.com:443\n"
     ]
    },
    {
     "name": "stdout",
     "output_type": "stream",
     "text": [
      "https://www.mckinsey.com/industries/financial-services/our-insights/using-analytics-to-increase-satisfaction-efficiency-and-revenue-in-customer-service\n"
     ]
    },
    {
     "name": "stderr",
     "output_type": "stream",
     "text": [
      "2020-02-18 12:27:23 [urllib3.connectionpool] DEBUG: https://www.mckinsey.com:443 \"GET /industries/financial-services/our-insights/using-analytics-to-increase-satisfaction-efficiency-and-revenue-in-customer-service HTTP/1.1\" 200 21668\n",
      "2020-02-18 12:27:23 [urllib3.connectionpool] DEBUG: Starting new HTTPS connection (1): www.mckinsey.com:443\n"
     ]
    },
    {
     "name": "stdout",
     "output_type": "stream",
     "text": [
      "https://www.mckinsey.com/industries/private-equity-and-principal-investors/our-insights/private-equity-rolls-on-how-investors-and-managers-are-responding-to-scale\n"
     ]
    },
    {
     "name": "stderr",
     "output_type": "stream",
     "text": [
      "2020-02-18 12:27:24 [urllib3.connectionpool] DEBUG: https://www.mckinsey.com:443 \"GET /industries/private-equity-and-principal-investors/our-insights/private-equity-rolls-on-how-investors-and-managers-are-responding-to-scale HTTP/1.1\" 200 23397\n",
      "2020-02-18 12:27:24 [urllib3.connectionpool] DEBUG: Starting new HTTPS connection (1): www.mckinsey.com:443\n"
     ]
    },
    {
     "name": "stdout",
     "output_type": "stream",
     "text": [
      "https://www.mckinsey.com/business-functions/mckinsey-analytics/our-insights/collaborating-for-the-common-good\n"
     ]
    },
    {
     "name": "stderr",
     "output_type": "stream",
     "text": [
      "2020-02-18 12:27:24 [urllib3.connectionpool] DEBUG: https://www.mckinsey.com:443 \"GET /business-functions/mckinsey-analytics/our-insights/collaborating-for-the-common-good HTTP/1.1\" 200 22348\n",
      "2020-02-18 12:27:24 [urllib3.connectionpool] DEBUG: Starting new HTTPS connection (1): www.mckinsey.com:443\n"
     ]
    },
    {
     "name": "stdout",
     "output_type": "stream",
     "text": [
      "https://www.mckinsey.com/business-functions/organization/our-insights/answering-societys-call-a-new-leadership-imperative\n"
     ]
    },
    {
     "name": "stderr",
     "output_type": "stream",
     "text": [
      "2020-02-18 12:27:25 [urllib3.connectionpool] DEBUG: https://www.mckinsey.com:443 \"GET /business-functions/organization/our-insights/answering-societys-call-a-new-leadership-imperative HTTP/1.1\" 200 23554\n",
      "2020-02-18 12:27:25 [scrapy.core.engine] DEBUG: Crawled (200) <GET https://www.mckinsey.com/industries/healthcare-systems-and-services/our-insights/the-productivity-imperative-for-healthcare-delivery-in-the-united-states> (referer: None)\n",
      "2020-02-18 12:27:25 [urllib3.connectionpool] DEBUG: Starting new HTTPS connection (1): www.mckinsey.com:443\n"
     ]
    },
    {
     "name": "stdout",
     "output_type": "stream",
     "text": [
      "https://www.mckinsey.com/business-functions/risk/our-insights/flushing-out-the-money-launderers-with-better-customer-risk-rating-models\n"
     ]
    },
    {
     "name": "stderr",
     "output_type": "stream",
     "text": [
      "2020-02-18 12:27:25 [urllib3.connectionpool] DEBUG: https://www.mckinsey.com:443 \"GET /business-functions/risk/our-insights/flushing-out-the-money-launderers-with-better-customer-risk-rating-models HTTP/1.1\" 200 21765\n",
      "2020-02-18 12:27:25 [urllib3.connectionpool] DEBUG: Starting new HTTPS connection (1): www.mckinsey.com:443\n"
     ]
    },
    {
     "name": "stdout",
     "output_type": "stream",
     "text": [
      "https://www.mckinsey.com/industries/automotive-and-assembly/our-insights/mastering-automotive-software-launch-excellence\n"
     ]
    },
    {
     "name": "stderr",
     "output_type": "stream",
     "text": [
      "2020-02-18 12:27:26 [urllib3.connectionpool] DEBUG: https://www.mckinsey.com:443 \"GET /industries/automotive-and-assembly/our-insights/mastering-automotive-software-launch-excellence HTTP/1.1\" 200 21086\n",
      "2020-02-18 12:27:26 [urllib3.connectionpool] DEBUG: Starting new HTTPS connection (1): www.mckinsey.com:443\n"
     ]
    },
    {
     "name": "stdout",
     "output_type": "stream",
     "text": [
      "https://www.mckinsey.com/industries/consumer-packaged-goods/our-insights/is-the-consumer-goods-industry-ready-for-the-new-world-of-work\n"
     ]
    },
    {
     "name": "stderr",
     "output_type": "stream",
     "text": [
      "2020-02-18 12:27:26 [urllib3.connectionpool] DEBUG: https://www.mckinsey.com:443 \"GET /industries/consumer-packaged-goods/our-insights/is-the-consumer-goods-industry-ready-for-the-new-world-of-work HTTP/1.1\" 200 22929\n",
      "2020-02-18 12:27:26 [scrapy.core.engine] DEBUG: Crawled (200) <GET https://www.mckinsey.com/industries/metals-and-mining/our-insights/behind-the-mining-productivity-upswing-technology-enabled-transformation> (referer: None)\n",
      "2020-02-18 12:27:26 [urllib3.connectionpool] DEBUG: Starting new HTTPS connection (1): www.mckinsey.com:443\n"
     ]
    },
    {
     "name": "stdout",
     "output_type": "stream",
     "text": [
      "https://www.mckinsey.com/industries/healthcare-systems-and-services/our-insights/the-productivity-imperative-for-healthcare-delivery-in-the-united-states\n"
     ]
    },
    {
     "name": "stderr",
     "output_type": "stream",
     "text": [
      "2020-02-18 12:27:27 [urllib3.connectionpool] DEBUG: https://www.mckinsey.com:443 \"GET /industries/healthcare-systems-and-services/our-insights/the-productivity-imperative-for-healthcare-delivery-in-the-united-states HTTP/1.1\" 200 21517\n",
      "2020-02-18 12:27:27 [scrapy.core.scraper] ERROR: Spider error processing <GET https://www.mckinsey.com/industries/healthcare-systems-and-services/our-insights/the-productivity-imperative-for-healthcare-delivery-in-the-united-states> (referer: None)\n",
      "Traceback (most recent call last):\n",
      "  File \"D:\\ProgramData\\Anaconda3\\lib\\site-packages\\twisted\\internet\\defer.py\", line 654, in _runCallbacks\n",
      "    current.result = callback(current.result, *args, **kw)\n",
      "  File \"<ipython-input-122-8fc83100377c>\", line 42, in parse\n",
      "    page_texttype = re.findall(texttype_regex, page_script)[0]\n",
      "IndexError: list index out of range\n",
      "2020-02-18 12:27:27 [scrapy.core.engine] DEBUG: Crawled (200) <GET https://www.mckinsey.com/industries/pharmaceuticals-and-medical-products/our-insights/the-technology-imperative-for-life-sciences> (referer: None)\n",
      "2020-02-18 12:27:27 [urllib3.connectionpool] DEBUG: Starting new HTTPS connection (1): www.mckinsey.com:443\n"
     ]
    },
    {
     "name": "stdout",
     "output_type": "stream",
     "text": [
      "https://www.mckinsey.com/industries/metals-and-mining/our-insights/behind-the-mining-productivity-upswing-technology-enabled-transformation\n"
     ]
    },
    {
     "name": "stderr",
     "output_type": "stream",
     "text": [
      "2020-02-18 12:27:28 [urllib3.connectionpool] DEBUG: https://www.mckinsey.com:443 \"GET /industries/metals-and-mining/our-insights/behind-the-mining-productivity-upswing-technology-enabled-transformation HTTP/1.1\" 200 22805\n",
      "2020-02-18 12:27:28 [scrapy.core.engine] DEBUG: Crawled (200) <GET https://www.mckinsey.com/featured-insights/future-of-work/ai-automation-and-the-future-of-work-ten-things-to-solve-for> (referer: None)\n",
      "2020-02-18 12:27:28 [urllib3.connectionpool] DEBUG: Starting new HTTPS connection (1): www.mckinsey.com:443\n"
     ]
    },
    {
     "name": "stdout",
     "output_type": "stream",
     "text": [
      "https://www.mckinsey.com/industries/pharmaceuticals-and-medical-products/our-insights/the-technology-imperative-for-life-sciences\n"
     ]
    },
    {
     "name": "stderr",
     "output_type": "stream",
     "text": [
      "2020-02-18 12:27:29 [urllib3.connectionpool] DEBUG: https://www.mckinsey.com:443 \"GET /industries/pharmaceuticals-and-medical-products/our-insights/the-technology-imperative-for-life-sciences HTTP/1.1\" 200 21916\n",
      "2020-02-18 12:27:29 [scrapy.core.engine] DEBUG: Crawled (200) <GET https://www.mckinsey.com/industries/healthcare-systems-and-services/our-insights/the-era-of-exponential-improvement-in-healthcare> (referer: None)\n",
      "2020-02-18 12:27:29 [urllib3.connectionpool] DEBUG: Starting new HTTPS connection (1): www.mckinsey.com:443\n"
     ]
    },
    {
     "name": "stdout",
     "output_type": "stream",
     "text": [
      "https://www.mckinsey.com/featured-insights/future-of-work/ai-automation-and-the-future-of-work-ten-things-to-solve-for\n"
     ]
    },
    {
     "name": "stderr",
     "output_type": "stream",
     "text": [
      "2020-02-18 12:27:30 [urllib3.connectionpool] DEBUG: https://www.mckinsey.com:443 \"GET /featured-insights/future-of-work/ai-automation-and-the-future-of-work-ten-things-to-solve-for HTTP/1.1\" 200 25488\n",
      "2020-02-18 12:27:30 [scrapy.core.scraper] ERROR: Spider error processing <GET https://www.mckinsey.com/featured-insights/future-of-work/ai-automation-and-the-future-of-work-ten-things-to-solve-for> (referer: None)\n",
      "Traceback (most recent call last):\n",
      "  File \"D:\\ProgramData\\Anaconda3\\lib\\site-packages\\twisted\\internet\\defer.py\", line 654, in _runCallbacks\n",
      "    current.result = callback(current.result, *args, **kw)\n",
      "  File \"<ipython-input-122-8fc83100377c>\", line 42, in parse\n",
      "    page_texttype = re.findall(texttype_regex, page_script)[0]\n",
      "IndexError: list index out of range\n",
      "2020-02-18 12:27:30 [urllib3.connectionpool] DEBUG: Starting new HTTPS connection (1): www.mckinsey.com:443\n"
     ]
    },
    {
     "name": "stdout",
     "output_type": "stream",
     "text": [
      "https://www.mckinsey.com/industries/healthcare-systems-and-services/our-insights/the-era-of-exponential-improvement-in-healthcare\n"
     ]
    },
    {
     "name": "stderr",
     "output_type": "stream",
     "text": [
      "2020-02-18 12:27:30 [urllib3.connectionpool] DEBUG: https://www.mckinsey.com:443 \"GET /industries/healthcare-systems-and-services/our-insights/the-era-of-exponential-improvement-in-healthcare HTTP/1.1\" 200 31907\n",
      "2020-02-18 12:27:30 [scrapy.core.engine] DEBUG: Crawled (200) <GET https://www.mckinsey.com/featured-insights/leadership/the-leadership-journey-of-abraham-lincoln> (referer: None)\n",
      "2020-02-18 12:27:30 [urllib3.connectionpool] DEBUG: Starting new HTTPS connection (1): www.mckinsey.com:443\n"
     ]
    },
    {
     "name": "stdout",
     "output_type": "stream",
     "text": [
      "https://www.mckinsey.com/featured-insights/leadership/the-leadership-journey-of-abraham-lincoln\n"
     ]
    },
    {
     "name": "stderr",
     "output_type": "stream",
     "text": [
      "2020-02-18 12:27:31 [urllib3.connectionpool] DEBUG: https://www.mckinsey.com:443 \"GET /featured-insights/leadership/the-leadership-journey-of-abraham-lincoln HTTP/1.1\" 200 27005\n",
      "2020-02-18 12:27:31 [scrapy.core.engine] DEBUG: Crawled (200) <GET https://www.mckinsey.com/business-functions/risk/our-insights/financial-crime-and-fraud-in-the-age-of-cybersecurity> (referer: None)\n",
      "2020-02-18 12:27:31 [scrapy.core.engine] DEBUG: Crawled (200) <GET https://www.mckinsey.com/business-functions/mckinsey-digital/our-insights/rethinking-customer-journeys-with-the-next-generation-operating-model> (referer: None)\n",
      "2020-02-18 12:27:31 [scrapy.core.engine] DEBUG: Crawled (200) <GET https://www.mckinsey.com/business-functions/mckinsey-digital/our-insights/how-disruptive-technologies-are-opening-up-innovative-opportunities-in-services> (referer: None)\n",
      "2020-02-18 12:27:31 [scrapy.core.engine] DEBUG: Crawled (200) <GET https://www.mckinsey.com/business-functions/mckinsey-digital/our-insights/does-the-global-business-services-model-still-matter> (referer: None)\n",
      "2020-02-18 12:27:31 [scrapy.core.engine] DEBUG: Crawled (200) <GET https://www.mckinsey.com/business-functions/mckinsey-digital/our-insights/where-machines-could-replace-humans-and-where-they-cant-yet> (referer: None)\n",
      "2020-02-18 12:27:31 [scrapy.core.engine] DEBUG: Crawled (200) <GET https://www.mckinsey.com/industries/automotive-and-assembly/our-insights/gauging-the-disruptive-power-of-robo-taxis-in-autonomous-driving> (referer: None)\n",
      "2020-02-18 12:27:31 [scrapy.core.engine] DEBUG: Crawled (200) <GET https://www.mckinsey.com/business-functions/mckinsey-digital/our-insights/policy-in-the-data-age-data-enablement-for-the-common-good> (referer: None)\n",
      "2020-02-18 12:27:31 [scrapy.core.engine] DEBUG: Crawled (200) <GET https://www.mckinsey.com/industries/electric-power-and-natural-gas/our-insights/unlocking-the-full-power-of-automation-in-industrials> (referer: None)\n",
      "2020-02-18 12:27:31 [urllib3.connectionpool] DEBUG: Starting new HTTPS connection (1): www.mckinsey.com:443\n"
     ]
    },
    {
     "name": "stdout",
     "output_type": "stream",
     "text": [
      "https://www.mckinsey.com/business-functions/risk/our-insights/financial-crime-and-fraud-in-the-age-of-cybersecurity\n"
     ]
    },
    {
     "name": "stderr",
     "output_type": "stream",
     "text": [
      "2020-02-18 12:27:33 [urllib3.connectionpool] DEBUG: https://www.mckinsey.com:443 \"GET /business-functions/risk/our-insights/financial-crime-and-fraud-in-the-age-of-cybersecurity HTTP/1.1\" 200 23319\n",
      "2020-02-18 12:27:33 [scrapy.core.engine] DEBUG: Crawled (200) <GET https://www.mckinsey.com/business-functions/organization/our-insights/putting-talent-at-the-top-of-the-ceo-agenda> (referer: None)\n",
      "2020-02-18 12:27:33 [scrapy.core.engine] DEBUG: Crawled (200) <GET https://www.mckinsey.com/business-functions/strategy-and-corporate-finance/our-insights/globalizations-next-chapter> (referer: None)\n",
      "2020-02-18 12:27:33 [scrapy.core.engine] DEBUG: Crawled (200) <GET https://www.mckinsey.com/industries/automotive-and-assembly/our-insights/how-the-auto-industry-is-preparing-for-the-car-of-the-future> (referer: None)\n",
      "2020-02-18 12:27:33 [scrapy.core.engine] DEBUG: Crawled (200) <GET https://www.mckinsey.com/industries/automotive-and-assembly/our-insights/the-automotive-revolution-is-speeding-up> (referer: None)\n",
      "2020-02-18 12:27:33 [scrapy.core.engine] DEBUG: Crawled (200) <GET https://www.mckinsey.com/industries/capital-projects-and-infrastructure/our-insights/high-stakes-how-investors-can-manage-risk-in-the-new-infrastructure-environment> (referer: None)\n",
      "2020-02-18 12:27:33 [scrapy.core.engine] DEBUG: Crawled (200) <GET https://www.mckinsey.com/industries/financial-services/our-insights/a-roadmap-for-a-digital-transformation> (referer: None)\n",
      "2020-02-18 12:27:33 [scrapy.core.engine] DEBUG: Crawled (200) <GET https://www.mckinsey.com/industries/financial-services/our-insights/harnessing-the-potential-of-data-in-insurance> (referer: None)\n",
      "2020-02-18 12:27:33 [urllib3.connectionpool] DEBUG: Starting new HTTPS connection (1): www.mckinsey.com:443\n"
     ]
    },
    {
     "name": "stdout",
     "output_type": "stream",
     "text": [
      "https://www.mckinsey.com/business-functions/mckinsey-digital/our-insights/rethinking-customer-journeys-with-the-next-generation-operating-model\n"
     ]
    },
    {
     "name": "stderr",
     "output_type": "stream",
     "text": [
      "2020-02-18 12:27:33 [urllib3.connectionpool] DEBUG: https://www.mckinsey.com:443 \"GET /business-functions/mckinsey-digital/our-insights/rethinking-customer-journeys-with-the-next-generation-operating-model HTTP/1.1\" 200 23966\n",
      "2020-02-18 12:27:33 [urllib3.connectionpool] DEBUG: Starting new HTTPS connection (1): www.mckinsey.com:443\n"
     ]
    },
    {
     "name": "stdout",
     "output_type": "stream",
     "text": [
      "https://www.mckinsey.com/business-functions/mckinsey-digital/our-insights/how-disruptive-technologies-are-opening-up-innovative-opportunities-in-services\n"
     ]
    },
    {
     "name": "stderr",
     "output_type": "stream",
     "text": [
      "2020-02-18 12:27:34 [urllib3.connectionpool] DEBUG: https://www.mckinsey.com:443 \"GET /business-functions/mckinsey-digital/our-insights/how-disruptive-technologies-are-opening-up-innovative-opportunities-in-services HTTP/1.1\" 200 22805\n",
      "2020-02-18 12:27:34 [urllib3.connectionpool] DEBUG: Starting new HTTPS connection (1): www.mckinsey.com:443\n"
     ]
    },
    {
     "name": "stdout",
     "output_type": "stream",
     "text": [
      "https://www.mckinsey.com/business-functions/mckinsey-digital/our-insights/does-the-global-business-services-model-still-matter\n"
     ]
    },
    {
     "name": "stderr",
     "output_type": "stream",
     "text": [
      "2020-02-18 12:27:35 [urllib3.connectionpool] DEBUG: https://www.mckinsey.com:443 \"GET /business-functions/mckinsey-digital/our-insights/does-the-global-business-services-model-still-matter HTTP/1.1\" 200 23028\n",
      "2020-02-18 12:27:35 [urllib3.connectionpool] DEBUG: Starting new HTTPS connection (1): www.mckinsey.com:443\n"
     ]
    },
    {
     "name": "stdout",
     "output_type": "stream",
     "text": [
      "https://www.mckinsey.com/business-functions/mckinsey-digital/our-insights/where-machines-could-replace-humans-and-where-they-cant-yet\n"
     ]
    },
    {
     "name": "stderr",
     "output_type": "stream",
     "text": [
      "2020-02-18 12:27:35 [urllib3.connectionpool] DEBUG: https://www.mckinsey.com:443 \"GET /business-functions/mckinsey-digital/our-insights/where-machines-could-replace-humans-and-where-they-cant-yet HTTP/1.1\" 200 24604\n",
      "2020-02-18 12:27:35 [urllib3.connectionpool] DEBUG: Starting new HTTPS connection (1): www.mckinsey.com:443\n"
     ]
    },
    {
     "name": "stdout",
     "output_type": "stream",
     "text": [
      "https://www.mckinsey.com/industries/automotive-and-assembly/our-insights/gauging-the-disruptive-power-of-robo-taxis-in-autonomous-driving\n"
     ]
    },
    {
     "name": "stderr",
     "output_type": "stream",
     "text": [
      "2020-02-18 12:27:36 [urllib3.connectionpool] DEBUG: https://www.mckinsey.com:443 \"GET /industries/automotive-and-assembly/our-insights/gauging-the-disruptive-power-of-robo-taxis-in-autonomous-driving HTTP/1.1\" 200 22832\n",
      "2020-02-18 12:27:37 [urllib3.connectionpool] DEBUG: Starting new HTTPS connection (1): www.mckinsey.com:443\n"
     ]
    },
    {
     "name": "stdout",
     "output_type": "stream",
     "text": [
      "https://www.mckinsey.com/business-functions/mckinsey-digital/our-insights/policy-in-the-data-age-data-enablement-for-the-common-good\n"
     ]
    },
    {
     "name": "stderr",
     "output_type": "stream",
     "text": [
      "2020-02-18 12:27:38 [urllib3.connectionpool] DEBUG: https://www.mckinsey.com:443 \"GET /business-functions/mckinsey-digital/our-insights/policy-in-the-data-age-data-enablement-for-the-common-good HTTP/1.1\" 200 22334\n",
      "2020-02-18 12:27:38 [urllib3.connectionpool] DEBUG: Starting new HTTPS connection (1): www.mckinsey.com:443\n"
     ]
    },
    {
     "name": "stdout",
     "output_type": "stream",
     "text": [
      "https://www.mckinsey.com/industries/electric-power-and-natural-gas/our-insights/unlocking-the-full-power-of-automation-in-industrials\n"
     ]
    },
    {
     "name": "stderr",
     "output_type": "stream",
     "text": [
      "2020-02-18 12:27:38 [urllib3.connectionpool] DEBUG: https://www.mckinsey.com:443 \"GET /industries/electric-power-and-natural-gas/our-insights/unlocking-the-full-power-of-automation-in-industrials HTTP/1.1\" 200 23539\n",
      "2020-02-18 12:27:38 [scrapy.core.engine] DEBUG: Crawled (200) <GET https://www.mckinsey.com/industries/financial-services/our-insights/modernizing-it-for-a-strategic-role> (referer: None)\n",
      "2020-02-18 12:27:38 [urllib3.connectionpool] DEBUG: Starting new HTTPS connection (1): www.mckinsey.com:443\n"
     ]
    },
    {
     "name": "stdout",
     "output_type": "stream",
     "text": [
      "https://www.mckinsey.com/business-functions/organization/our-insights/putting-talent-at-the-top-of-the-ceo-agenda\n"
     ]
    },
    {
     "name": "stderr",
     "output_type": "stream",
     "text": [
      "2020-02-18 12:27:39 [urllib3.connectionpool] DEBUG: https://www.mckinsey.com:443 \"GET /business-functions/organization/our-insights/putting-talent-at-the-top-of-the-ceo-agenda HTTP/1.1\" 200 25327\n",
      "2020-02-18 12:27:39 [urllib3.connectionpool] DEBUG: Starting new HTTPS connection (1): www.mckinsey.com:443\n"
     ]
    },
    {
     "name": "stdout",
     "output_type": "stream",
     "text": [
      "https://www.mckinsey.com/business-functions/strategy-and-corporate-finance/our-insights/globalizations-next-chapter\n"
     ]
    },
    {
     "name": "stderr",
     "output_type": "stream",
     "text": [
      "2020-02-18 12:27:40 [urllib3.connectionpool] DEBUG: https://www.mckinsey.com:443 \"GET /business-functions/strategy-and-corporate-finance/our-insights/globalizations-next-chapter HTTP/1.1\" 200 23436\n",
      "2020-02-18 12:27:40 [urllib3.connectionpool] DEBUG: Starting new HTTPS connection (1): www.mckinsey.com:443\n"
     ]
    },
    {
     "name": "stdout",
     "output_type": "stream",
     "text": [
      "https://www.mckinsey.com/industries/automotive-and-assembly/our-insights/how-the-auto-industry-is-preparing-for-the-car-of-the-future\n"
     ]
    },
    {
     "name": "stderr",
     "output_type": "stream",
     "text": [
      "2020-02-18 12:27:40 [urllib3.connectionpool] DEBUG: https://www.mckinsey.com:443 \"GET /industries/automotive-and-assembly/our-insights/how-the-auto-industry-is-preparing-for-the-car-of-the-future HTTP/1.1\" 200 24025\n",
      "2020-02-18 12:27:40 [urllib3.connectionpool] DEBUG: Starting new HTTPS connection (1): www.mckinsey.com:443\n"
     ]
    },
    {
     "name": "stdout",
     "output_type": "stream",
     "text": [
      "https://www.mckinsey.com/industries/automotive-and-assembly/our-insights/the-automotive-revolution-is-speeding-up\n"
     ]
    },
    {
     "name": "stderr",
     "output_type": "stream",
     "text": [
      "2020-02-18 12:27:41 [urllib3.connectionpool] DEBUG: https://www.mckinsey.com:443 \"GET /industries/automotive-and-assembly/our-insights/the-automotive-revolution-is-speeding-up HTTP/1.1\" 200 22938\n",
      "2020-02-18 12:27:41 [urllib3.connectionpool] DEBUG: Starting new HTTPS connection (1): www.mckinsey.com:443\n"
     ]
    },
    {
     "name": "stdout",
     "output_type": "stream",
     "text": [
      "https://www.mckinsey.com/industries/capital-projects-and-infrastructure/our-insights/high-stakes-how-investors-can-manage-risk-in-the-new-infrastructure-environment\n"
     ]
    },
    {
     "name": "stderr",
     "output_type": "stream",
     "text": [
      "2020-02-18 12:27:42 [urllib3.connectionpool] DEBUG: https://www.mckinsey.com:443 \"GET /industries/capital-projects-and-infrastructure/our-insights/high-stakes-how-investors-can-manage-risk-in-the-new-infrastructure-environment HTTP/1.1\" 200 23103\n",
      "2020-02-18 12:27:42 [urllib3.connectionpool] DEBUG: Starting new HTTPS connection (1): www.mckinsey.com:443\n"
     ]
    },
    {
     "name": "stdout",
     "output_type": "stream",
     "text": [
      "https://www.mckinsey.com/industries/financial-services/our-insights/a-roadmap-for-a-digital-transformation\n"
     ]
    },
    {
     "name": "stderr",
     "output_type": "stream",
     "text": [
      "2020-02-18 12:27:42 [urllib3.connectionpool] DEBUG: https://www.mckinsey.com:443 \"GET /industries/financial-services/our-insights/a-roadmap-for-a-digital-transformation HTTP/1.1\" 200 24052\n",
      "2020-02-18 12:27:42 [urllib3.connectionpool] DEBUG: Starting new HTTPS connection (1): www.mckinsey.com:443\n"
     ]
    },
    {
     "name": "stdout",
     "output_type": "stream",
     "text": [
      "https://www.mckinsey.com/industries/financial-services/our-insights/harnessing-the-potential-of-data-in-insurance\n"
     ]
    },
    {
     "name": "stderr",
     "output_type": "stream",
     "text": [
      "2020-02-18 12:27:43 [urllib3.connectionpool] DEBUG: https://www.mckinsey.com:443 \"GET /industries/financial-services/our-insights/harnessing-the-potential-of-data-in-insurance HTTP/1.1\" 200 21633\n",
      "2020-02-18 12:27:43 [scrapy.core.engine] DEBUG: Crawled (200) <GET https://www.mckinsey.com/industries/financial-services/our-insights/the-age-of-innovation> (referer: None)\n",
      "2020-02-18 12:27:43 [scrapy.core.engine] DEBUG: Crawled (200) <GET https://www.mckinsey.com/industries/pharmaceuticals-and-medical-products/our-insights/change-in-the-japanese-pharmaceutical-market-cradle-of-innovation-or-grave-of-corporate-profits> (referer: None)\n",
      "2020-02-18 12:27:43 [urllib3.connectionpool] DEBUG: Starting new HTTPS connection (1): www.mckinsey.com:443\n"
     ]
    },
    {
     "name": "stdout",
     "output_type": "stream",
     "text": [
      "https://www.mckinsey.com/industries/financial-services/our-insights/modernizing-it-for-a-strategic-role\n"
     ]
    },
    {
     "name": "stderr",
     "output_type": "stream",
     "text": [
      "2020-02-18 12:27:44 [urllib3.connectionpool] DEBUG: https://www.mckinsey.com:443 \"GET /industries/financial-services/our-insights/modernizing-it-for-a-strategic-role HTTP/1.1\" 200 23085\n",
      "2020-02-18 12:27:44 [scrapy.core.engine] DEBUG: Crawled (200) <GET https://www.mckinsey.com/industries/public-sector/our-insights/cracking-down-on-government-fraud-with-data-analytics> (referer: None)\n",
      "2020-02-18 12:27:44 [urllib3.connectionpool] DEBUG: Starting new HTTPS connection (1): www.mckinsey.com:443\n"
     ]
    },
    {
     "name": "stdout",
     "output_type": "stream",
     "text": [
      "https://www.mckinsey.com/industries/financial-services/our-insights/the-age-of-innovation\n"
     ]
    },
    {
     "name": "stderr",
     "output_type": "stream",
     "text": [
      "2020-02-18 12:27:45 [urllib3.connectionpool] DEBUG: https://www.mckinsey.com:443 \"GET /industries/financial-services/our-insights/the-age-of-innovation HTTP/1.1\" 200 23332\n",
      "2020-02-18 12:27:45 [urllib3.connectionpool] DEBUG: Starting new HTTPS connection (1): www.mckinsey.com:443\n"
     ]
    },
    {
     "name": "stdout",
     "output_type": "stream",
     "text": [
      "https://www.mckinsey.com/industries/pharmaceuticals-and-medical-products/our-insights/change-in-the-japanese-pharmaceutical-market-cradle-of-innovation-or-grave-of-corporate-profits\n"
     ]
    },
    {
     "name": "stderr",
     "output_type": "stream",
     "text": [
      "2020-02-18 12:27:46 [urllib3.connectionpool] DEBUG: https://www.mckinsey.com:443 \"GET /industries/pharmaceuticals-and-medical-products/our-insights/change-in-the-japanese-pharmaceutical-market-cradle-of-innovation-or-grave-of-corporate-profits HTTP/1.1\" 200 22452\n",
      "2020-02-18 12:27:46 [scrapy.core.engine] DEBUG: Crawled (200) <GET https://www.mckinsey.com/industries/retail/our-insights/beyond-procurement-transforming-indirect-spending-in-retail> (referer: None)\n",
      "2020-02-18 12:27:46 [urllib3.connectionpool] DEBUG: Starting new HTTPS connection (1): www.mckinsey.com:443\n"
     ]
    },
    {
     "name": "stdout",
     "output_type": "stream",
     "text": [
      "https://www.mckinsey.com/industries/public-sector/our-insights/cracking-down-on-government-fraud-with-data-analytics\n"
     ]
    },
    {
     "name": "stderr",
     "output_type": "stream",
     "text": [
      "2020-02-18 12:27:46 [urllib3.connectionpool] DEBUG: https://www.mckinsey.com:443 \"GET /industries/public-sector/our-insights/cracking-down-on-government-fraud-with-data-analytics HTTP/1.1\" 200 23187\n",
      "2020-02-18 12:27:46 [scrapy.core.engine] DEBUG: Crawled (200) <GET https://www.mckinsey.com/business-functions/mckinsey-digital/our-insights/the-cio-challenge-modern-business-needs-a-new-kind-of-tech-leader> (referer: None)\n",
      "2020-02-18 12:27:46 [urllib3.connectionpool] DEBUG: Starting new HTTPS connection (1): www.mckinsey.com:443\n"
     ]
    },
    {
     "name": "stdout",
     "output_type": "stream",
     "text": [
      "https://www.mckinsey.com/industries/retail/our-insights/beyond-procurement-transforming-indirect-spending-in-retail\n"
     ]
    },
    {
     "name": "stderr",
     "output_type": "stream",
     "text": [
      "2020-02-18 12:27:47 [urllib3.connectionpool] DEBUG: https://www.mckinsey.com:443 \"GET /industries/retail/our-insights/beyond-procurement-transforming-indirect-spending-in-retail HTTP/1.1\" 200 23687\n",
      "2020-02-18 12:27:47 [scrapy.core.engine] DEBUG: Crawled (200) <GET https://www.mckinsey.com/business-functions/strategy-and-corporate-finance/our-insights/m-and-a-success-powered-by-advanced-analytics> (referer: None)\n",
      "2020-02-18 12:27:47 [urllib3.connectionpool] DEBUG: Starting new HTTPS connection (1): www.mckinsey.com:443\n"
     ]
    },
    {
     "name": "stdout",
     "output_type": "stream",
     "text": [
      "https://www.mckinsey.com/business-functions/mckinsey-digital/our-insights/the-cio-challenge-modern-business-needs-a-new-kind-of-tech-leader\n"
     ]
    },
    {
     "name": "stderr",
     "output_type": "stream",
     "text": [
      "2020-02-18 12:27:48 [urllib3.connectionpool] DEBUG: https://www.mckinsey.com:443 \"GET /business-functions/mckinsey-digital/our-insights/the-cio-challenge-modern-business-needs-a-new-kind-of-tech-leader HTTP/1.1\" 200 22868\n",
      "2020-02-18 12:27:48 [urllib3.connectionpool] DEBUG: Starting new HTTPS connection (1): www.mckinsey.com:443\n"
     ]
    },
    {
     "name": "stdout",
     "output_type": "stream",
     "text": [
      "https://www.mckinsey.com/business-functions/strategy-and-corporate-finance/our-insights/m-and-a-success-powered-by-advanced-analytics\n"
     ]
    },
    {
     "name": "stderr",
     "output_type": "stream",
     "text": [
      "2020-02-18 12:27:48 [urllib3.connectionpool] DEBUG: https://www.mckinsey.com:443 \"GET /business-functions/strategy-and-corporate-finance/our-insights/m-and-a-success-powered-by-advanced-analytics HTTP/1.1\" 200 23395\n",
      "2020-02-18 12:27:49 [scrapy.core.engine] DEBUG: Crawled (200) <GET https://www.mckinsey.com/featured-insights/europe/testing-the-resilience-of-europes-inclusive-growth-model> (referer: None)\n",
      "2020-02-18 12:27:49 [urllib3.connectionpool] DEBUG: Starting new HTTPS connection (1): www.mckinsey.com:443\n"
     ]
    },
    {
     "name": "stdout",
     "output_type": "stream",
     "text": [
      "https://www.mckinsey.com/featured-insights/europe/testing-the-resilience-of-europes-inclusive-growth-model\n"
     ]
    },
    {
     "name": "stderr",
     "output_type": "stream",
     "text": [
      "2020-02-18 12:27:49 [urllib3.connectionpool] DEBUG: https://www.mckinsey.com:443 \"GET /featured-insights/europe/testing-the-resilience-of-europes-inclusive-growth-model HTTP/1.1\" 200 23470\n",
      "2020-02-18 12:27:49 [scrapy.core.scraper] ERROR: Spider error processing <GET https://www.mckinsey.com/featured-insights/europe/testing-the-resilience-of-europes-inclusive-growth-model> (referer: None)\n",
      "Traceback (most recent call last):\n",
      "  File \"D:\\ProgramData\\Anaconda3\\lib\\site-packages\\twisted\\internet\\defer.py\", line 654, in _runCallbacks\n",
      "    current.result = callback(current.result, *args, **kw)\n",
      "  File \"<ipython-input-122-8fc83100377c>\", line 42, in parse\n",
      "    page_texttype = re.findall(texttype_regex, page_script)[0]\n",
      "IndexError: list index out of range\n",
      "2020-02-18 12:27:49 [scrapy.core.engine] DEBUG: Crawled (200) <GET https://www.mckinsey.com/industries/advanced-electronics/our-insights/a-new-approach-to-accelerated-performance-transformation> (referer: None)\n",
      "2020-02-18 12:27:49 [scrapy.core.engine] DEBUG: Crawled (200) <GET https://www.mckinsey.com/business-functions/risk/our-insights/perspectives-on-conduct-risk-in-wealth-management> (referer: None)\n",
      "2020-02-18 12:27:49 [scrapy.core.engine] DEBUG: Crawled (200) <GET https://www.mckinsey.com/industries/private-equity-and-principal-investors/our-insights/strategy-in-the-face-of-disruption-a-way-forward-for-the-north-american-building-products-industry> (referer: None)\n",
      "2020-02-18 12:27:49 [urllib3.connectionpool] DEBUG: Starting new HTTPS connection (1): www.mckinsey.com:443\n"
     ]
    },
    {
     "name": "stdout",
     "output_type": "stream",
     "text": [
      "https://www.mckinsey.com/industries/advanced-electronics/our-insights/a-new-approach-to-accelerated-performance-transformation\n"
     ]
    },
    {
     "name": "stderr",
     "output_type": "stream",
     "text": [
      "2020-02-18 12:27:50 [urllib3.connectionpool] DEBUG: https://www.mckinsey.com:443 \"GET /industries/advanced-electronics/our-insights/a-new-approach-to-accelerated-performance-transformation HTTP/1.1\" 200 23140\n",
      "2020-02-18 12:27:50 [scrapy.core.engine] DEBUG: Crawled (200) <GET https://www.mckinsey.com/industries/financial-services/our-insights/how-digital-and-advanced-analytics-can-boost-growth-in-asian-insurance> (referer: None)\n",
      "2020-02-18 12:27:50 [scrapy.core.engine] DEBUG: Crawled (200) <GET https://www.mckinsey.com/industries/metals-and-mining/our-insights/how-digital-innovation-can-improve-mining-productivity> (referer: None)\n",
      "2020-02-18 12:27:50 [scrapy.core.engine] DEBUG: Crawled (200) <GET https://www.mckinsey.com/business-functions/risk/our-insights/the-advanced-analytics-solution-for-monitoring-conduct-risk> (referer: None)\n",
      "2020-02-18 12:27:50 [scrapy.core.engine] DEBUG: Crawled (200) <GET https://www.mckinsey.com/industries/healthcare-systems-and-services/our-insights/best-in-class-digital-document-processing-a-payer-perspective> (referer: None)\n",
      "2020-02-18 12:27:50 [urllib3.connectionpool] DEBUG: Starting new HTTPS connection (1): www.mckinsey.com:443\n"
     ]
    },
    {
     "name": "stdout",
     "output_type": "stream",
     "text": [
      "https://www.mckinsey.com/business-functions/risk/our-insights/perspectives-on-conduct-risk-in-wealth-management\n"
     ]
    },
    {
     "name": "stderr",
     "output_type": "stream",
     "text": [
      "2020-02-18 12:27:51 [urllib3.connectionpool] DEBUG: https://www.mckinsey.com:443 \"GET /business-functions/risk/our-insights/perspectives-on-conduct-risk-in-wealth-management HTTP/1.1\" 200 23391\n",
      "2020-02-18 12:27:51 [urllib3.connectionpool] DEBUG: Starting new HTTPS connection (1): www.mckinsey.com:443\n"
     ]
    },
    {
     "name": "stdout",
     "output_type": "stream",
     "text": [
      "https://www.mckinsey.com/industries/private-equity-and-principal-investors/our-insights/strategy-in-the-face-of-disruption-a-way-forward-for-the-north-american-building-products-industry\n"
     ]
    },
    {
     "name": "stderr",
     "output_type": "stream",
     "text": [
      "2020-02-18 12:27:51 [urllib3.connectionpool] DEBUG: https://www.mckinsey.com:443 \"GET /industries/private-equity-and-principal-investors/our-insights/strategy-in-the-face-of-disruption-a-way-forward-for-the-north-american-building-products-industry HTTP/1.1\" 200 23055\n",
      "2020-02-18 12:27:51 [scrapy.core.engine] DEBUG: Crawled (200) <GET https://www.mckinsey.com/industries/automotive-and-assembly/our-insights/the-future-of-mobility-is-at-our-doorstep> (referer: None)\n",
      "2020-02-18 12:27:51 [scrapy.core.engine] DEBUG: Crawled (200) <GET https://www.mckinsey.com/business-functions/mckinsey-digital/our-insights/digital-strategy-the-four-fights-you-have-to-win> (referer: None)\n",
      "2020-02-18 12:27:51 [scrapy.core.engine] DEBUG: Crawled (200) <GET https://www.mckinsey.com/business-functions/organization/our-insights/leading-with-inner-agility> (referer: None)\n",
      "2020-02-18 12:27:51 [scrapy.core.engine] DEBUG: Crawled (200) <GET https://www.mckinsey.com/business-functions/mckinsey-digital/our-insights/the-trillion-dollar-opportunity-for-the-industrial-sector> (referer: None)\n",
      "2020-02-18 12:27:51 [urllib3.connectionpool] DEBUG: Starting new HTTPS connection (1): www.mckinsey.com:443\n"
     ]
    },
    {
     "name": "stdout",
     "output_type": "stream",
     "text": [
      "https://www.mckinsey.com/industries/financial-services/our-insights/how-digital-and-advanced-analytics-can-boost-growth-in-asian-insurance\n"
     ]
    },
    {
     "name": "stderr",
     "output_type": "stream",
     "text": [
      "2020-02-18 12:27:52 [urllib3.connectionpool] DEBUG: https://www.mckinsey.com:443 \"GET /industries/financial-services/our-insights/how-digital-and-advanced-analytics-can-boost-growth-in-asian-insurance HTTP/1.1\" 200 22922\n",
      "2020-02-18 12:27:52 [urllib3.connectionpool] DEBUG: Starting new HTTPS connection (1): www.mckinsey.com:443\n"
     ]
    },
    {
     "name": "stdout",
     "output_type": "stream",
     "text": [
      "https://www.mckinsey.com/industries/metals-and-mining/our-insights/how-digital-innovation-can-improve-mining-productivity\n"
     ]
    },
    {
     "name": "stderr",
     "output_type": "stream",
     "text": [
      "2020-02-18 12:27:53 [urllib3.connectionpool] DEBUG: https://www.mckinsey.com:443 \"GET /industries/metals-and-mining/our-insights/how-digital-innovation-can-improve-mining-productivity HTTP/1.1\" 200 26192\n",
      "2020-02-18 12:27:53 [urllib3.connectionpool] DEBUG: Starting new HTTPS connection (1): www.mckinsey.com:443\n"
     ]
    },
    {
     "name": "stdout",
     "output_type": "stream",
     "text": [
      "https://www.mckinsey.com/business-functions/risk/our-insights/the-advanced-analytics-solution-for-monitoring-conduct-risk\n"
     ]
    },
    {
     "name": "stderr",
     "output_type": "stream",
     "text": [
      "2020-02-18 12:27:54 [urllib3.connectionpool] DEBUG: https://www.mckinsey.com:443 \"GET /business-functions/risk/our-insights/the-advanced-analytics-solution-for-monitoring-conduct-risk HTTP/1.1\" 200 23347\n",
      "2020-02-18 12:27:54 [urllib3.connectionpool] DEBUG: Starting new HTTPS connection (1): www.mckinsey.com:443\n"
     ]
    },
    {
     "name": "stdout",
     "output_type": "stream",
     "text": [
      "https://www.mckinsey.com/industries/healthcare-systems-and-services/our-insights/best-in-class-digital-document-processing-a-payer-perspective\n"
     ]
    },
    {
     "name": "stderr",
     "output_type": "stream",
     "text": [
      "2020-02-18 12:27:55 [urllib3.connectionpool] DEBUG: https://www.mckinsey.com:443 \"GET /industries/healthcare-systems-and-services/our-insights/best-in-class-digital-document-processing-a-payer-perspective HTTP/1.1\" 200 23049\n",
      "2020-02-18 12:27:55 [scrapy.core.engine] DEBUG: Crawled (200) <GET https://www.mckinsey.com/business-functions/organization/our-insights/untangling-your-organizations-decision-making> (referer: None)\n",
      "2020-02-18 12:27:55 [scrapy.core.engine] DEBUG: Crawled (200) <GET https://www.mckinsey.com/business-functions/risk/our-insights/data-privacy-what-every-manager-needs-to-know> (referer: None)\n",
      "2020-02-18 12:27:55 [scrapy.core.engine] DEBUG: Crawled (200) <GET https://www.mckinsey.com/featured-insights/future-of-work/how-do-we-create-meaningful-work-in-an-age-of-automation> (referer: None)\n",
      "2020-02-18 12:27:55 [scrapy.core.engine] DEBUG: Crawled (200) <GET https://www.mckinsey.com/industries/financial-services/our-insights/talent-in-wholesale-banking-building-a-sustainable-competitive-advantage> (referer: None)\n",
      "2020-02-18 12:27:55 [urllib3.connectionpool] DEBUG: Starting new HTTPS connection (1): www.mckinsey.com:443\n"
     ]
    },
    {
     "name": "stdout",
     "output_type": "stream",
     "text": [
      "https://www.mckinsey.com/industries/automotive-and-assembly/our-insights/the-future-of-mobility-is-at-our-doorstep\n"
     ]
    },
    {
     "name": "stderr",
     "output_type": "stream",
     "text": [
      "2020-02-18 12:27:55 [urllib3.connectionpool] DEBUG: https://www.mckinsey.com:443 \"GET /industries/automotive-and-assembly/our-insights/the-future-of-mobility-is-at-our-doorstep HTTP/1.1\" 200 22486\n",
      "2020-02-18 12:27:55 [urllib3.connectionpool] DEBUG: Starting new HTTPS connection (1): www.mckinsey.com:443\n"
     ]
    },
    {
     "name": "stdout",
     "output_type": "stream",
     "text": [
      "https://www.mckinsey.com/business-functions/mckinsey-digital/our-insights/digital-strategy-the-four-fights-you-have-to-win\n"
     ]
    },
    {
     "name": "stderr",
     "output_type": "stream",
     "text": [
      "2020-02-18 12:27:56 [urllib3.connectionpool] DEBUG: https://www.mckinsey.com:443 \"GET /business-functions/mckinsey-digital/our-insights/digital-strategy-the-four-fights-you-have-to-win HTTP/1.1\" 200 23819\n",
      "2020-02-18 12:27:56 [urllib3.connectionpool] DEBUG: Starting new HTTPS connection (1): www.mckinsey.com:443\n"
     ]
    },
    {
     "name": "stdout",
     "output_type": "stream",
     "text": [
      "https://www.mckinsey.com/business-functions/organization/our-insights/leading-with-inner-agility\n"
     ]
    },
    {
     "name": "stderr",
     "output_type": "stream",
     "text": [
      "2020-02-18 12:27:56 [urllib3.connectionpool] DEBUG: https://www.mckinsey.com:443 \"GET /business-functions/organization/our-insights/leading-with-inner-agility HTTP/1.1\" 200 25843\n",
      "2020-02-18 12:27:56 [urllib3.connectionpool] DEBUG: Starting new HTTPS connection (1): www.mckinsey.com:443\n"
     ]
    },
    {
     "name": "stdout",
     "output_type": "stream",
     "text": [
      "https://www.mckinsey.com/business-functions/mckinsey-digital/our-insights/the-trillion-dollar-opportunity-for-the-industrial-sector\n"
     ]
    },
    {
     "name": "stderr",
     "output_type": "stream",
     "text": [
      "2020-02-18 12:27:57 [urllib3.connectionpool] DEBUG: https://www.mckinsey.com:443 \"GET /business-functions/mckinsey-digital/our-insights/the-trillion-dollar-opportunity-for-the-industrial-sector HTTP/1.1\" 200 23931\n",
      "2020-02-18 12:27:57 [scrapy.core.engine] DEBUG: Crawled (200) <GET https://www.mckinsey.com/industries/financial-services/our-insights/transforming-into-an-analytics-driven-insurance-carrier> (referer: None)\n",
      "2020-02-18 12:27:57 [scrapy.core.engine] DEBUG: Crawled (200) <GET https://www.mckinsey.com/industries/retail/our-insights/winning-in-an-era-of-unprecedented-disruption-a-perspective-on-us-retail> (referer: None)\n",
      "2020-02-18 12:27:57 [scrapy.core.engine] DEBUG: Crawled (200) <GET https://www.mckinsey.com/business-functions/mckinsey-digital/our-insights/the-ceos-new-technology-agenda> (referer: None)\n",
      "2020-02-18 12:27:57 [scrapy.core.engine] DEBUG: Crawled (200) <GET https://www.mckinsey.com/industries/financial-services/our-insights/global-banking-annual-review-2019-the-last-pit-stop-time-for-bold-late-cycle-moves> (referer: None)\n",
      "2020-02-18 12:27:57 [urllib3.connectionpool] DEBUG: Starting new HTTPS connection (1): www.mckinsey.com:443\n"
     ]
    },
    {
     "name": "stdout",
     "output_type": "stream",
     "text": [
      "https://www.mckinsey.com/business-functions/organization/our-insights/untangling-your-organizations-decision-making\n"
     ]
    },
    {
     "name": "stderr",
     "output_type": "stream",
     "text": [
      "2020-02-18 12:27:58 [urllib3.connectionpool] DEBUG: https://www.mckinsey.com:443 \"GET /business-functions/organization/our-insights/untangling-your-organizations-decision-making HTTP/1.1\" 200 23697\n",
      "2020-02-18 12:27:58 [urllib3.connectionpool] DEBUG: Starting new HTTPS connection (1): www.mckinsey.com:443\n"
     ]
    },
    {
     "name": "stdout",
     "output_type": "stream",
     "text": [
      "https://www.mckinsey.com/business-functions/risk/our-insights/data-privacy-what-every-manager-needs-to-know\n"
     ]
    },
    {
     "name": "stderr",
     "output_type": "stream",
     "text": [
      "2020-02-18 12:27:59 [urllib3.connectionpool] DEBUG: https://www.mckinsey.com:443 \"GET /business-functions/risk/our-insights/data-privacy-what-every-manager-needs-to-know HTTP/1.1\" 200 25808\n",
      "2020-02-18 12:27:59 [urllib3.connectionpool] DEBUG: Starting new HTTPS connection (1): www.mckinsey.com:443\n"
     ]
    },
    {
     "name": "stdout",
     "output_type": "stream",
     "text": [
      "https://www.mckinsey.com/featured-insights/future-of-work/how-do-we-create-meaningful-work-in-an-age-of-automation\n"
     ]
    },
    {
     "name": "stderr",
     "output_type": "stream",
     "text": [
      "2020-02-18 12:28:00 [urllib3.connectionpool] DEBUG: https://www.mckinsey.com:443 \"GET /featured-insights/future-of-work/how-do-we-create-meaningful-work-in-an-age-of-automation HTTP/1.1\" 200 26770\n",
      "2020-02-18 12:28:00 [urllib3.connectionpool] DEBUG: Starting new HTTPS connection (1): www.mckinsey.com:443\n"
     ]
    },
    {
     "name": "stdout",
     "output_type": "stream",
     "text": [
      "https://www.mckinsey.com/industries/financial-services/our-insights/talent-in-wholesale-banking-building-a-sustainable-competitive-advantage\n"
     ]
    },
    {
     "name": "stderr",
     "output_type": "stream",
     "text": [
      "2020-02-18 12:28:01 [urllib3.connectionpool] DEBUG: https://www.mckinsey.com:443 \"GET /industries/financial-services/our-insights/talent-in-wholesale-banking-building-a-sustainable-competitive-advantage HTTP/1.1\" 200 22312\n",
      "2020-02-18 12:28:01 [scrapy.core.engine] DEBUG: Crawled (200) <GET https://www.mckinsey.com/industries/retail/our-insights/digital-disruption-at-the-grocery-store> (referer: None)\n",
      "2020-02-18 12:28:01 [scrapy.core.engine] DEBUG: Crawled (200) <GET https://www.mckinsey.com/industries/healthcare-systems-and-services/our-insights/why-the-evolving-healthcare-services-and-technology-market-matters> (referer: None)\n",
      "2020-02-18 12:28:01 [urllib3.connectionpool] DEBUG: Starting new HTTPS connection (1): www.mckinsey.com:443\n"
     ]
    },
    {
     "name": "stdout",
     "output_type": "stream",
     "text": [
      "https://www.mckinsey.com/industries/financial-services/our-insights/transforming-into-an-analytics-driven-insurance-carrier\n"
     ]
    },
    {
     "name": "stderr",
     "output_type": "stream",
     "text": [
      "2020-02-18 12:28:01 [urllib3.connectionpool] DEBUG: https://www.mckinsey.com:443 \"GET /industries/financial-services/our-insights/transforming-into-an-analytics-driven-insurance-carrier HTTP/1.1\" 200 23175\n",
      "2020-02-18 12:28:01 [urllib3.connectionpool] DEBUG: Starting new HTTPS connection (1): www.mckinsey.com:443\n"
     ]
    },
    {
     "name": "stdout",
     "output_type": "stream",
     "text": [
      "https://www.mckinsey.com/industries/retail/our-insights/winning-in-an-era-of-unprecedented-disruption-a-perspective-on-us-retail\n"
     ]
    },
    {
     "name": "stderr",
     "output_type": "stream",
     "text": [
      "2020-02-18 12:28:03 [urllib3.connectionpool] DEBUG: https://www.mckinsey.com:443 \"GET /industries/retail/our-insights/winning-in-an-era-of-unprecedented-disruption-a-perspective-on-us-retail HTTP/1.1\" 200 25183\n",
      "2020-02-18 12:28:03 [urllib3.connectionpool] DEBUG: Starting new HTTPS connection (1): www.mckinsey.com:443\n"
     ]
    },
    {
     "name": "stdout",
     "output_type": "stream",
     "text": [
      "https://www.mckinsey.com/business-functions/mckinsey-digital/our-insights/the-ceos-new-technology-agenda\n"
     ]
    },
    {
     "name": "stderr",
     "output_type": "stream",
     "text": [
      "2020-02-18 12:28:04 [urllib3.connectionpool] DEBUG: https://www.mckinsey.com:443 \"GET /business-functions/mckinsey-digital/our-insights/the-ceos-new-technology-agenda HTTP/1.1\" 200 23961\n",
      "2020-02-18 12:28:04 [urllib3.connectionpool] DEBUG: Starting new HTTPS connection (1): www.mckinsey.com:443\n"
     ]
    },
    {
     "name": "stdout",
     "output_type": "stream",
     "text": [
      "https://www.mckinsey.com/industries/financial-services/our-insights/global-banking-annual-review-2019-the-last-pit-stop-time-for-bold-late-cycle-moves\n"
     ]
    },
    {
     "name": "stderr",
     "output_type": "stream",
     "text": [
      "2020-02-18 12:28:04 [urllib3.connectionpool] DEBUG: https://www.mckinsey.com:443 \"GET /industries/financial-services/our-insights/global-banking-annual-review-2019-the-last-pit-stop-time-for-bold-late-cycle-moves HTTP/1.1\" 200 23393\n",
      "2020-02-18 12:28:04 [scrapy.core.scraper] ERROR: Spider error processing <GET https://www.mckinsey.com/industries/financial-services/our-insights/global-banking-annual-review-2019-the-last-pit-stop-time-for-bold-late-cycle-moves> (referer: None)\n",
      "Traceback (most recent call last):\n",
      "  File \"D:\\ProgramData\\Anaconda3\\lib\\site-packages\\twisted\\internet\\defer.py\", line 654, in _runCallbacks\n",
      "    current.result = callback(current.result, *args, **kw)\n",
      "  File \"<ipython-input-122-8fc83100377c>\", line 41, in parse\n",
      "    page_date = re.findall(date_regex, page_script)[0]\n",
      "IndexError: list index out of range\n",
      "2020-02-18 12:28:04 [scrapy.core.engine] DEBUG: Crawled (200) <GET https://www.mckinsey.com/featured-insights/china/what-can-we-expect-in-china-in-2017> (referer: None)\n",
      "2020-02-18 12:28:04 [urllib3.connectionpool] DEBUG: Starting new HTTPS connection (1): www.mckinsey.com:443\n"
     ]
    },
    {
     "name": "stdout",
     "output_type": "stream",
     "text": [
      "https://www.mckinsey.com/industries/retail/our-insights/digital-disruption-at-the-grocery-store\n"
     ]
    },
    {
     "name": "stderr",
     "output_type": "stream",
     "text": [
      "2020-02-18 12:28:05 [urllib3.connectionpool] DEBUG: https://www.mckinsey.com:443 \"GET /industries/retail/our-insights/digital-disruption-at-the-grocery-store HTTP/1.1\" 200 23824\n",
      "2020-02-18 12:28:05 [urllib3.connectionpool] DEBUG: Starting new HTTPS connection (1): www.mckinsey.com:443\n"
     ]
    },
    {
     "name": "stdout",
     "output_type": "stream",
     "text": [
      "https://www.mckinsey.com/industries/healthcare-systems-and-services/our-insights/why-the-evolving-healthcare-services-and-technology-market-matters\n"
     ]
    },
    {
     "name": "stderr",
     "output_type": "stream",
     "text": [
      "2020-02-18 12:28:05 [urllib3.connectionpool] DEBUG: https://www.mckinsey.com:443 \"GET /industries/healthcare-systems-and-services/our-insights/why-the-evolving-healthcare-services-and-technology-market-matters HTTP/1.1\" 200 24032\n",
      "2020-02-18 12:28:06 [scrapy.core.engine] DEBUG: Crawled (200) <GET https://www.mckinsey.com/featured-insights/china/what-can-we-expect-in-china-in-2018> (referer: None)\n",
      "2020-02-18 12:28:06 [urllib3.connectionpool] DEBUG: Starting new HTTPS connection (1): www.mckinsey.com:443\n"
     ]
    },
    {
     "name": "stdout",
     "output_type": "stream",
     "text": [
      "https://www.mckinsey.com/featured-insights/china/what-can-we-expect-in-china-in-2017\n"
     ]
    },
    {
     "name": "stderr",
     "output_type": "stream",
     "text": [
      "2020-02-18 12:28:06 [urllib3.connectionpool] DEBUG: https://www.mckinsey.com:443 \"GET /featured-insights/china/what-can-we-expect-in-china-in-2017 HTTP/1.1\" 200 25437\n",
      "2020-02-18 12:28:06 [urllib3.connectionpool] DEBUG: Starting new HTTPS connection (1): www.mckinsey.com:443\n"
     ]
    },
    {
     "name": "stdout",
     "output_type": "stream",
     "text": [
      "https://www.mckinsey.com/featured-insights/china/what-can-we-expect-in-china-in-2018\n"
     ]
    },
    {
     "name": "stderr",
     "output_type": "stream",
     "text": [
      "2020-02-18 12:28:06 [urllib3.connectionpool] DEBUG: https://www.mckinsey.com:443 \"GET /featured-insights/china/what-can-we-expect-in-china-in-2018 HTTP/1.1\" 200 26107\n",
      "2020-02-18 12:28:07 [scrapy.core.engine] DEBUG: Crawled (200) <GET https://www.mckinsey.com/industries/financial-services/our-insights/data-sharing-and-open-banking> (referer: None)\n",
      "2020-02-18 12:28:07 [urllib3.connectionpool] DEBUG: Starting new HTTPS connection (1): www.mckinsey.com:443\n"
     ]
    },
    {
     "name": "stdout",
     "output_type": "stream",
     "text": [
      "https://www.mckinsey.com/industries/financial-services/our-insights/data-sharing-and-open-banking\n"
     ]
    },
    {
     "name": "stderr",
     "output_type": "stream",
     "text": [
      "2020-02-18 12:28:07 [urllib3.connectionpool] DEBUG: https://www.mckinsey.com:443 \"GET /industries/financial-services/our-insights/data-sharing-and-open-banking HTTP/1.1\" 200 24220\n",
      "2020-02-18 12:28:07 [scrapy.core.engine] DEBUG: Crawled (200) <GET https://www.mckinsey.com/business-functions/mckinsey-digital/our-insights/a-game-plan-for-quantum-computing> (referer: None)\n",
      "2020-02-18 12:28:07 [scrapy.core.engine] DEBUG: Crawled (200) <GET https://www.mckinsey.com/business-functions/organization/our-insights/unlocking-success-in-digital-transformations> (referer: None)\n",
      "2020-02-18 12:28:07 [scrapy.core.engine] DEBUG: Crawled (200) <GET https://www.mckinsey.com/featured-insights/future-of-work/creating-meaningful-work-and-driving-business-success-amid-technological-disruption> (referer: None)\n",
      "2020-02-18 12:28:07 [scrapy.core.engine] DEBUG: Crawled (200) <GET https://www.mckinsey.com/featured-insights/innovation-and-growth/what-every-ceo-needs-to-know-about-superstar-companies> (referer: None)\n",
      "2020-02-18 12:28:07 [urllib3.connectionpool] DEBUG: Starting new HTTPS connection (1): www.mckinsey.com:443\n"
     ]
    },
    {
     "name": "stdout",
     "output_type": "stream",
     "text": [
      "https://www.mckinsey.com/business-functions/mckinsey-digital/our-insights/a-game-plan-for-quantum-computing\n"
     ]
    },
    {
     "name": "stderr",
     "output_type": "stream",
     "text": [
      "2020-02-18 12:28:08 [urllib3.connectionpool] DEBUG: https://www.mckinsey.com:443 \"GET /business-functions/mckinsey-digital/our-insights/a-game-plan-for-quantum-computing HTTP/1.1\" 200 24129\n",
      "2020-02-18 12:28:08 [scrapy.core.engine] DEBUG: Crawled (200) <GET https://www.mckinsey.com/industries/financial-services/our-insights/how-secure-is-the-global-financial-system-a-decade-after-the-crisis> (referer: None)\n",
      "2020-02-18 12:28:08 [scrapy.core.engine] DEBUG: Crawled (200) <GET https://www.mckinsey.com/industries/financial-services/our-insights/the-productivity-imperative-in-insurance> (referer: None)\n",
      "2020-02-18 12:28:08 [scrapy.core.engine] DEBUG: Crawled (200) <GET https://www.mckinsey.com/industries/healthcare-systems-and-services/our-insights/next-generation-member-engagement-during-the-care-journey> (referer: None)\n",
      "2020-02-18 12:28:08 [scrapy.core.engine] DEBUG: Crawled (200) <GET https://www.mckinsey.com/industries/pharmaceuticals-and-medical-products/our-insights/the-rise-and-rise-of-medtech-in-asia> (referer: None)\n",
      "2020-02-18 12:28:08 [urllib3.connectionpool] DEBUG: Starting new HTTPS connection (1): www.mckinsey.com:443\n"
     ]
    },
    {
     "name": "stdout",
     "output_type": "stream",
     "text": [
      "https://www.mckinsey.com/business-functions/organization/our-insights/unlocking-success-in-digital-transformations\n"
     ]
    },
    {
     "name": "stderr",
     "output_type": "stream",
     "text": [
      "2020-02-18 12:28:08 [urllib3.connectionpool] DEBUG: https://www.mckinsey.com:443 \"GET /business-functions/organization/our-insights/unlocking-success-in-digital-transformations HTTP/1.1\" 200 22706\n",
      "2020-02-18 12:28:08 [scrapy.core.scraper] ERROR: Spider error processing <GET https://www.mckinsey.com/business-functions/organization/our-insights/unlocking-success-in-digital-transformations> (referer: None)\n",
      "Traceback (most recent call last):\n",
      "  File \"D:\\ProgramData\\Anaconda3\\lib\\site-packages\\twisted\\internet\\defer.py\", line 654, in _runCallbacks\n",
      "    current.result = callback(current.result, *args, **kw)\n",
      "  File \"<ipython-input-122-8fc83100377c>\", line 41, in parse\n",
      "    page_date = re.findall(date_regex, page_script)[0]\n",
      "IndexError: list index out of range\n",
      "2020-02-18 12:28:08 [urllib3.connectionpool] DEBUG: Starting new HTTPS connection (1): www.mckinsey.com:443\n"
     ]
    },
    {
     "name": "stdout",
     "output_type": "stream",
     "text": [
      "https://www.mckinsey.com/featured-insights/future-of-work/creating-meaningful-work-and-driving-business-success-amid-technological-disruption\n"
     ]
    },
    {
     "name": "stderr",
     "output_type": "stream",
     "text": [
      "2020-02-18 12:28:09 [urllib3.connectionpool] DEBUG: https://www.mckinsey.com:443 \"GET /featured-insights/future-of-work/creating-meaningful-work-and-driving-business-success-amid-technological-disruption HTTP/1.1\" 200 28126\n",
      "2020-02-18 12:28:09 [urllib3.connectionpool] DEBUG: Starting new HTTPS connection (1): www.mckinsey.com:443\n"
     ]
    },
    {
     "name": "stdout",
     "output_type": "stream",
     "text": [
      "https://www.mckinsey.com/featured-insights/innovation-and-growth/what-every-ceo-needs-to-know-about-superstar-companies\n"
     ]
    },
    {
     "name": "stderr",
     "output_type": "stream",
     "text": [
      "2020-02-18 12:28:10 [urllib3.connectionpool] DEBUG: https://www.mckinsey.com:443 \"GET /featured-insights/innovation-and-growth/what-every-ceo-needs-to-know-about-superstar-companies HTTP/1.1\" 200 25730\n",
      "2020-02-18 12:28:10 [scrapy.core.engine] DEBUG: Crawled (200) <GET https://www.mckinsey.com/industries/healthcare-systems-and-services/our-insights/promoting-an-overdue-digital-transformation-in-healthcare> (referer: None)\n",
      "2020-02-18 12:28:10 [scrapy.core.engine] DEBUG: Crawled (200) <GET https://www.mckinsey.com/business-functions/organization/our-insights/the-organization-blog/amazons-alexa-your-next-chief-talent-officer> (referer: None)\n",
      "2020-02-18 12:28:10 [scrapy.core.engine] DEBUG: Crawled (200) <GET https://www.mckinsey.com/business-functions/risk/our-insights/mckinsey-on-risk/working-papers-on-risk> (referer: None)\n",
      "2020-02-18 12:28:10 [scrapy.core.engine] DEBUG: Crawled (200) <GET https://www.mckinsey.com/business-functions/mckinsey-digital/our-insights/accelerating-digital-transformations-a-playbook-for-utilities> (referer: None)\n",
      "2020-02-18 12:28:10 [urllib3.connectionpool] DEBUG: Starting new HTTPS connection (1): www.mckinsey.com:443\n"
     ]
    },
    {
     "name": "stdout",
     "output_type": "stream",
     "text": [
      "https://www.mckinsey.com/industries/financial-services/our-insights/how-secure-is-the-global-financial-system-a-decade-after-the-crisis\n"
     ]
    },
    {
     "name": "stderr",
     "output_type": "stream",
     "text": [
      "2020-02-18 12:28:11 [urllib3.connectionpool] DEBUG: https://www.mckinsey.com:443 \"GET /industries/financial-services/our-insights/how-secure-is-the-global-financial-system-a-decade-after-the-crisis HTTP/1.1\" 200 24033\n",
      "2020-02-18 12:28:11 [urllib3.connectionpool] DEBUG: Starting new HTTPS connection (1): www.mckinsey.com:443\n"
     ]
    },
    {
     "name": "stdout",
     "output_type": "stream",
     "text": [
      "https://www.mckinsey.com/industries/financial-services/our-insights/the-productivity-imperative-in-insurance\n"
     ]
    },
    {
     "name": "stderr",
     "output_type": "stream",
     "text": [
      "2020-02-18 12:28:11 [urllib3.connectionpool] DEBUG: https://www.mckinsey.com:443 \"GET /industries/financial-services/our-insights/the-productivity-imperative-in-insurance HTTP/1.1\" 200 23783\n",
      "2020-02-18 12:28:11 [urllib3.connectionpool] DEBUG: Starting new HTTPS connection (1): www.mckinsey.com:443\n"
     ]
    },
    {
     "name": "stdout",
     "output_type": "stream",
     "text": [
      "https://www.mckinsey.com/industries/healthcare-systems-and-services/our-insights/next-generation-member-engagement-during-the-care-journey\n"
     ]
    },
    {
     "name": "stderr",
     "output_type": "stream",
     "text": [
      "2020-02-18 12:28:12 [urllib3.connectionpool] DEBUG: https://www.mckinsey.com:443 \"GET /industries/healthcare-systems-and-services/our-insights/next-generation-member-engagement-during-the-care-journey HTTP/1.1\" 200 23638\n",
      "2020-02-18 12:28:12 [urllib3.connectionpool] DEBUG: Starting new HTTPS connection (1): www.mckinsey.com:443\n"
     ]
    },
    {
     "name": "stdout",
     "output_type": "stream",
     "text": [
      "https://www.mckinsey.com/industries/pharmaceuticals-and-medical-products/our-insights/the-rise-and-rise-of-medtech-in-asia\n"
     ]
    },
    {
     "name": "stderr",
     "output_type": "stream",
     "text": [
      "2020-02-18 12:28:13 [urllib3.connectionpool] DEBUG: https://www.mckinsey.com:443 \"GET /industries/pharmaceuticals-and-medical-products/our-insights/the-rise-and-rise-of-medtech-in-asia HTTP/1.1\" 200 23398\n",
      "2020-02-18 12:28:13 [scrapy.extensions.logstats] INFO: Crawled 863 pages (at 76 pages/min), scraped 0 items (at 0 items/min)\n",
      "2020-02-18 12:28:13 [scrapy.core.engine] DEBUG: Crawled (200) <GET https://www.mckinsey.com/business-functions/mckinsey-digital/our-insights/the-new-tech-talent-you-need-to-succeed-in-digital> (referer: None)\n",
      "2020-02-18 12:28:13 [scrapy.core.engine] DEBUG: Crawled (200) <GET https://www.mckinsey.com/featured-insights/regions-in-focus/solving-the-united-kingdoms-productivity-puzzle-in-a-digital-age> (referer: None)\n",
      "2020-02-18 12:28:13 [scrapy.core.engine] DEBUG: Crawled (200) <GET https://www.mckinsey.com/industries/automotive-and-assembly/our-insights/self-driving-car-technology-when-will-the-robots-hit-the-road> (referer: None)\n",
      "2020-02-18 12:28:13 [scrapy.core.engine] DEBUG: Crawled (200) <GET https://www.mckinsey.com/industries/automotive-and-assembly/our-insights/the-trends-transforming-mobilitys-future> (referer: None)\n",
      "2020-02-18 12:28:13 [urllib3.connectionpool] DEBUG: Starting new HTTPS connection (1): www.mckinsey.com:443\n"
     ]
    },
    {
     "name": "stdout",
     "output_type": "stream",
     "text": [
      "https://www.mckinsey.com/industries/healthcare-systems-and-services/our-insights/promoting-an-overdue-digital-transformation-in-healthcare\n"
     ]
    },
    {
     "name": "stderr",
     "output_type": "stream",
     "text": [
      "2020-02-18 12:28:13 [urllib3.connectionpool] DEBUG: https://www.mckinsey.com:443 \"GET /industries/healthcare-systems-and-services/our-insights/promoting-an-overdue-digital-transformation-in-healthcare HTTP/1.1\" 200 24369\n",
      "2020-02-18 12:28:13 [urllib3.connectionpool] DEBUG: Starting new HTTPS connection (1): www.mckinsey.com:443\n"
     ]
    },
    {
     "name": "stdout",
     "output_type": "stream",
     "text": [
      "https://www.mckinsey.com/business-functions/organization/our-insights/the-organization-blog/amazons-alexa-your-next-chief-talent-officer\n"
     ]
    },
    {
     "name": "stderr",
     "output_type": "stream",
     "text": [
      "2020-02-18 12:28:15 [urllib3.connectionpool] DEBUG: https://www.mckinsey.com:443 \"GET /business-functions/organization/our-insights/the-organization-blog/amazons-alexa-your-next-chief-talent-officer HTTP/1.1\" 200 14404\n",
      "2020-02-18 12:28:15 [scrapy.core.scraper] ERROR: Spider error processing <GET https://www.mckinsey.com/business-functions/organization/our-insights/the-organization-blog/amazons-alexa-your-next-chief-talent-officer> (referer: None)\n",
      "Traceback (most recent call last):\n",
      "  File \"D:\\ProgramData\\Anaconda3\\lib\\site-packages\\twisted\\internet\\defer.py\", line 654, in _runCallbacks\n",
      "    current.result = callback(current.result, *args, **kw)\n",
      "  File \"<ipython-input-122-8fc83100377c>\", line 37, in parse\n",
      "    content_type = re.findall(conttype_regex, page_script)[0]\n",
      "IndexError: list index out of range\n",
      "2020-02-18 12:28:15 [urllib3.connectionpool] DEBUG: Starting new HTTPS connection (1): www.mckinsey.com:443\n"
     ]
    },
    {
     "name": "stdout",
     "output_type": "stream",
     "text": [
      "https://www.mckinsey.com/business-functions/risk/our-insights/mckinsey-on-risk/working-papers-on-risk\n"
     ]
    },
    {
     "name": "stderr",
     "output_type": "stream",
     "text": [
      "2020-02-18 12:28:16 [urllib3.connectionpool] DEBUG: https://www.mckinsey.com:443 \"GET /business-functions/risk/our-insights/mckinsey-on-risk/working-papers-on-risk HTTP/1.1\" 200 25355\n",
      "2020-02-18 12:28:16 [scrapy.core.scraper] ERROR: Spider error processing <GET https://www.mckinsey.com/business-functions/risk/our-insights/mckinsey-on-risk/working-papers-on-risk> (referer: None)\n",
      "Traceback (most recent call last):\n",
      "  File \"D:\\ProgramData\\Anaconda3\\lib\\site-packages\\twisted\\internet\\defer.py\", line 654, in _runCallbacks\n",
      "    current.result = callback(current.result, *args, **kw)\n",
      "  File \"<ipython-input-122-8fc83100377c>\", line 41, in parse\n",
      "    page_date = re.findall(date_regex, page_script)[0]\n",
      "IndexError: list index out of range\n",
      "2020-02-18 12:28:16 [urllib3.connectionpool] DEBUG: Starting new HTTPS connection (1): www.mckinsey.com:443\n"
     ]
    },
    {
     "name": "stdout",
     "output_type": "stream",
     "text": [
      "https://www.mckinsey.com/business-functions/mckinsey-digital/our-insights/accelerating-digital-transformations-a-playbook-for-utilities\n"
     ]
    },
    {
     "name": "stderr",
     "output_type": "stream",
     "text": [
      "2020-02-18 12:28:17 [urllib3.connectionpool] DEBUG: https://www.mckinsey.com:443 \"GET /business-functions/mckinsey-digital/our-insights/accelerating-digital-transformations-a-playbook-for-utilities HTTP/1.1\" 200 24553\n",
      "2020-02-18 12:28:17 [scrapy.core.engine] DEBUG: Crawled (200) <GET https://www.mckinsey.com/industries/capital-projects-and-infrastructure/our-insights/navigating-the-digital-future-the-disruption-of-capital-projects> (referer: None)\n",
      "2020-02-18 12:28:17 [scrapy.core.engine] DEBUG: Crawled (200) <GET https://www.mckinsey.com/industries/capital-projects-and-infrastructure/our-insights/the-new-age-of-engineering-and-construction-technology> (referer: None)\n",
      "2020-02-18 12:28:17 [scrapy.core.engine] DEBUG: Crawled (200) <GET https://www.mckinsey.com/industries/financial-services/our-insights/insurtech-the-threat-that-inspires> (referer: None)\n",
      "2020-02-18 12:28:17 [scrapy.core.engine] DEBUG: Crawled (200) <GET https://www.mckinsey.com/industries/financial-services/our-insights/synergy-and-disruption-ten-trends-shaping-fintech> (referer: None)\n",
      "2020-02-18 12:28:17 [urllib3.connectionpool] DEBUG: Starting new HTTPS connection (1): www.mckinsey.com:443\n"
     ]
    },
    {
     "name": "stdout",
     "output_type": "stream",
     "text": [
      "https://www.mckinsey.com/business-functions/mckinsey-digital/our-insights/the-new-tech-talent-you-need-to-succeed-in-digital\n"
     ]
    },
    {
     "name": "stderr",
     "output_type": "stream",
     "text": [
      "2020-02-18 12:28:17 [urllib3.connectionpool] DEBUG: https://www.mckinsey.com:443 \"GET /business-functions/mckinsey-digital/our-insights/the-new-tech-talent-you-need-to-succeed-in-digital HTTP/1.1\" 200 23664\n",
      "2020-02-18 12:28:18 [urllib3.connectionpool] DEBUG: Starting new HTTPS connection (1): www.mckinsey.com:443\n"
     ]
    },
    {
     "name": "stdout",
     "output_type": "stream",
     "text": [
      "https://www.mckinsey.com/featured-insights/regions-in-focus/solving-the-united-kingdoms-productivity-puzzle-in-a-digital-age\n"
     ]
    },
    {
     "name": "stderr",
     "output_type": "stream",
     "text": [
      "2020-02-18 12:28:18 [urllib3.connectionpool] DEBUG: https://www.mckinsey.com:443 \"GET /featured-insights/regions-in-focus/solving-the-united-kingdoms-productivity-puzzle-in-a-digital-age HTTP/1.1\" 200 25320\n",
      "2020-02-18 12:28:18 [scrapy.core.scraper] ERROR: Spider error processing <GET https://www.mckinsey.com/featured-insights/regions-in-focus/solving-the-united-kingdoms-productivity-puzzle-in-a-digital-age> (referer: None)\n",
      "Traceback (most recent call last):\n",
      "  File \"D:\\ProgramData\\Anaconda3\\lib\\site-packages\\twisted\\internet\\defer.py\", line 654, in _runCallbacks\n",
      "    current.result = callback(current.result, *args, **kw)\n",
      "  File \"<ipython-input-122-8fc83100377c>\", line 42, in parse\n",
      "    page_texttype = re.findall(texttype_regex, page_script)[0]\n",
      "IndexError: list index out of range\n",
      "2020-02-18 12:28:18 [urllib3.connectionpool] DEBUG: Starting new HTTPS connection (1): www.mckinsey.com:443\n"
     ]
    },
    {
     "name": "stdout",
     "output_type": "stream",
     "text": [
      "https://www.mckinsey.com/industries/automotive-and-assembly/our-insights/self-driving-car-technology-when-will-the-robots-hit-the-road\n"
     ]
    },
    {
     "name": "stderr",
     "output_type": "stream",
     "text": [
      "2020-02-18 12:28:18 [urllib3.connectionpool] DEBUG: https://www.mckinsey.com:443 \"GET /industries/automotive-and-assembly/our-insights/self-driving-car-technology-when-will-the-robots-hit-the-road HTTP/1.1\" 200 25037\n",
      "2020-02-18 12:28:19 [urllib3.connectionpool] DEBUG: Starting new HTTPS connection (1): www.mckinsey.com:443\n"
     ]
    },
    {
     "name": "stdout",
     "output_type": "stream",
     "text": [
      "https://www.mckinsey.com/industries/automotive-and-assembly/our-insights/the-trends-transforming-mobilitys-future\n"
     ]
    },
    {
     "name": "stderr",
     "output_type": "stream",
     "text": [
      "2020-02-18 12:28:20 [urllib3.connectionpool] DEBUG: https://www.mckinsey.com:443 \"GET /industries/automotive-and-assembly/our-insights/the-trends-transforming-mobilitys-future HTTP/1.1\" 200 26176\n",
      "2020-02-18 12:28:20 [scrapy.core.engine] DEBUG: Crawled (200) <GET https://www.mckinsey.com/industries/healthcare-systems-and-services/our-insights/the-future-of-healthcare-finding-the-opportunities-that-lie-beneath-the-uncertainty> (referer: None)\n",
      "2020-02-18 12:28:20 [scrapy.core.engine] DEBUG: Crawled (200) <GET https://www.mckinsey.com/industries/pharmaceuticals-and-medical-products/our-insights/developing-tomorrows-leaders-in-life-sciences> (referer: None)\n",
      "2020-02-18 12:28:20 [urllib3.connectionpool] DEBUG: Starting new HTTPS connection (1): www.mckinsey.com:443\n"
     ]
    },
    {
     "name": "stdout",
     "output_type": "stream",
     "text": [
      "https://www.mckinsey.com/industries/capital-projects-and-infrastructure/our-insights/navigating-the-digital-future-the-disruption-of-capital-projects\n"
     ]
    },
    {
     "name": "stderr",
     "output_type": "stream",
     "text": [
      "2020-02-18 12:28:21 [urllib3.connectionpool] DEBUG: https://www.mckinsey.com:443 \"GET /industries/capital-projects-and-infrastructure/our-insights/navigating-the-digital-future-the-disruption-of-capital-projects HTTP/1.1\" 200 25218\n",
      "2020-02-18 12:28:21 [urllib3.connectionpool] DEBUG: Starting new HTTPS connection (1): www.mckinsey.com:443\n"
     ]
    },
    {
     "name": "stdout",
     "output_type": "stream",
     "text": [
      "https://www.mckinsey.com/industries/capital-projects-and-infrastructure/our-insights/the-new-age-of-engineering-and-construction-technology\n"
     ]
    },
    {
     "name": "stderr",
     "output_type": "stream",
     "text": [
      "2020-02-18 12:28:22 [urllib3.connectionpool] DEBUG: https://www.mckinsey.com:443 \"GET /industries/capital-projects-and-infrastructure/our-insights/the-new-age-of-engineering-and-construction-technology HTTP/1.1\" 200 24098\n",
      "2020-02-18 12:28:22 [urllib3.connectionpool] DEBUG: Starting new HTTPS connection (1): www.mckinsey.com:443\n"
     ]
    },
    {
     "name": "stdout",
     "output_type": "stream",
     "text": [
      "https://www.mckinsey.com/industries/financial-services/our-insights/insurtech-the-threat-that-inspires\n"
     ]
    },
    {
     "name": "stderr",
     "output_type": "stream",
     "text": [
      "2020-02-18 12:28:22 [urllib3.connectionpool] DEBUG: https://www.mckinsey.com:443 \"GET /industries/financial-services/our-insights/insurtech-the-threat-that-inspires HTTP/1.1\" 200 24999\n",
      "2020-02-18 12:28:22 [urllib3.connectionpool] DEBUG: Starting new HTTPS connection (1): www.mckinsey.com:443\n"
     ]
    },
    {
     "name": "stdout",
     "output_type": "stream",
     "text": [
      "https://www.mckinsey.com/industries/financial-services/our-insights/synergy-and-disruption-ten-trends-shaping-fintech\n"
     ]
    },
    {
     "name": "stderr",
     "output_type": "stream",
     "text": [
      "2020-02-18 12:28:23 [urllib3.connectionpool] DEBUG: https://www.mckinsey.com:443 \"GET /industries/financial-services/our-insights/synergy-and-disruption-ten-trends-shaping-fintech HTTP/1.1\" 200 24545\n",
      "2020-02-18 12:28:23 [scrapy.core.engine] DEBUG: Crawled (200) <GET https://www.mckinsey.com/industries/semiconductors/our-insights/mobility-trends-whats-ahead-for-automotive-semiconductors> (referer: None)\n",
      "2020-02-18 12:28:23 [urllib3.connectionpool] DEBUG: Starting new HTTPS connection (1): www.mckinsey.com:443\n"
     ]
    },
    {
     "name": "stdout",
     "output_type": "stream",
     "text": [
      "https://www.mckinsey.com/industries/healthcare-systems-and-services/our-insights/the-future-of-healthcare-finding-the-opportunities-that-lie-beneath-the-uncertainty\n"
     ]
    },
    {
     "name": "stderr",
     "output_type": "stream",
     "text": [
      "2020-02-18 12:28:23 [urllib3.connectionpool] DEBUG: https://www.mckinsey.com:443 \"GET /industries/healthcare-systems-and-services/our-insights/the-future-of-healthcare-finding-the-opportunities-that-lie-beneath-the-uncertainty HTTP/1.1\" 200 23045\n",
      "2020-02-18 12:28:24 [urllib3.connectionpool] DEBUG: Starting new HTTPS connection (1): www.mckinsey.com:443\n"
     ]
    },
    {
     "name": "stdout",
     "output_type": "stream",
     "text": [
      "https://www.mckinsey.com/industries/pharmaceuticals-and-medical-products/our-insights/developing-tomorrows-leaders-in-life-sciences\n"
     ]
    },
    {
     "name": "stderr",
     "output_type": "stream",
     "text": [
      "2020-02-18 12:28:24 [urllib3.connectionpool] DEBUG: https://www.mckinsey.com:443 \"GET /industries/pharmaceuticals-and-medical-products/our-insights/developing-tomorrows-leaders-in-life-sciences HTTP/1.1\" 200 25531\n",
      "2020-02-18 12:28:24 [scrapy.core.engine] DEBUG: Crawled (200) <GET https://www.mckinsey.com/mgi/overview/in-the-news/from-third-world-to-first-in-class> (referer: None)\n",
      "2020-02-18 12:28:24 [urllib3.connectionpool] DEBUG: Starting new HTTPS connection (1): www.mckinsey.com:443\n"
     ]
    },
    {
     "name": "stdout",
     "output_type": "stream",
     "text": [
      "https://www.mckinsey.com/industries/semiconductors/our-insights/mobility-trends-whats-ahead-for-automotive-semiconductors\n"
     ]
    },
    {
     "name": "stderr",
     "output_type": "stream",
     "text": [
      "2020-02-18 12:28:25 [urllib3.connectionpool] DEBUG: https://www.mckinsey.com:443 \"GET /industries/semiconductors/our-insights/mobility-trends-whats-ahead-for-automotive-semiconductors HTTP/1.1\" 200 24067\n",
      "2020-02-18 12:28:25 [scrapy.core.engine] DEBUG: Crawled (200) <GET https://www.mckinsey.com/business-functions/mckinsey-design/our-insights/the-business-value-of-design> (referer: None)\n",
      "2020-02-18 12:28:25 [urllib3.connectionpool] DEBUG: Starting new HTTPS connection (1): www.mckinsey.com:443\n"
     ]
    },
    {
     "name": "stdout",
     "output_type": "stream",
     "text": [
      "https://www.mckinsey.com/mgi/overview/in-the-news/from-third-world-to-first-in-class\n"
     ]
    },
    {
     "name": "stderr",
     "output_type": "stream",
     "text": [
      "2020-02-18 12:28:26 [urllib3.connectionpool] DEBUG: https://www.mckinsey.com:443 \"GET /mgi/overview/in-the-news/from-third-world-to-first-in-class HTTP/1.1\" 200 23926\n",
      "2020-02-18 12:28:26 [scrapy.core.engine] DEBUG: Crawled (200) <GET https://www.mckinsey.com/featured-insights/asia-pacific/how-asia-is-reinventing-banking-for-the-digital-age> (referer: None)\n",
      "2020-02-18 12:28:26 [urllib3.connectionpool] DEBUG: Starting new HTTPS connection (1): www.mckinsey.com:443\n"
     ]
    },
    {
     "name": "stdout",
     "output_type": "stream",
     "text": [
      "https://www.mckinsey.com/business-functions/mckinsey-design/our-insights/the-business-value-of-design\n"
     ]
    },
    {
     "name": "stderr",
     "output_type": "stream",
     "text": [
      "2020-02-18 12:28:26 [urllib3.connectionpool] DEBUG: https://www.mckinsey.com:443 \"GET /business-functions/mckinsey-design/our-insights/the-business-value-of-design HTTP/1.1\" 200 25831\n",
      "2020-02-18 12:28:26 [urllib3.connectionpool] DEBUG: Starting new HTTPS connection (1): www.mckinsey.com:443\n"
     ]
    },
    {
     "name": "stdout",
     "output_type": "stream",
     "text": [
      "https://www.mckinsey.com/featured-insights/asia-pacific/how-asia-is-reinventing-banking-for-the-digital-age\n"
     ]
    },
    {
     "name": "stderr",
     "output_type": "stream",
     "text": [
      "2020-02-18 12:28:27 [urllib3.connectionpool] DEBUG: https://www.mckinsey.com:443 \"GET /featured-insights/asia-pacific/how-asia-is-reinventing-banking-for-the-digital-age HTTP/1.1\" 200 26701\n",
      "2020-02-18 12:28:27 [scrapy.core.engine] DEBUG: Crawled (200) <GET https://www.mckinsey.com/featured-insights/future-of-work/skill-shift-automation-and-the-future-of-the-workforce> (referer: None)\n",
      "2020-02-18 12:28:27 [urllib3.connectionpool] DEBUG: Starting new HTTPS connection (1): www.mckinsey.com:443\n"
     ]
    },
    {
     "name": "stdout",
     "output_type": "stream",
     "text": [
      "https://www.mckinsey.com/featured-insights/future-of-work/skill-shift-automation-and-the-future-of-the-workforce\n"
     ]
    },
    {
     "name": "stderr",
     "output_type": "stream",
     "text": [
      "2020-02-18 12:28:27 [urllib3.connectionpool] DEBUG: https://www.mckinsey.com:443 \"GET /featured-insights/future-of-work/skill-shift-automation-and-the-future-of-the-workforce HTTP/1.1\" 200 25500\n",
      "2020-02-18 12:28:27 [scrapy.core.scraper] ERROR: Spider error processing <GET https://www.mckinsey.com/featured-insights/future-of-work/skill-shift-automation-and-the-future-of-the-workforce> (referer: None)\n",
      "Traceback (most recent call last):\n",
      "  File \"D:\\ProgramData\\Anaconda3\\lib\\site-packages\\twisted\\internet\\defer.py\", line 654, in _runCallbacks\n",
      "    current.result = callback(current.result, *args, **kw)\n",
      "  File \"<ipython-input-122-8fc83100377c>\", line 42, in parse\n",
      "    page_texttype = re.findall(texttype_regex, page_script)[0]\n",
      "IndexError: list index out of range\n",
      "2020-02-18 12:28:27 [scrapy.core.engine] DEBUG: Crawled (200) <GET https://www.mckinsey.com/business-functions/organization/our-insights/organizing-for-the-future> (referer: None)\n",
      "2020-02-18 12:28:27 [scrapy.core.engine] DEBUG: Crawled (200) <GET https://www.mckinsey.com/industries/financial-services/our-insights/a-decade-after-the-global-financial-crisis-what-has-and-hasnt-changed> (referer: None)\n",
      "2020-02-18 12:28:27 [scrapy.core.engine] DEBUG: Crawled (200) <GET https://www.mckinsey.com/industries/advanced-electronics/our-insights/accelerating-the-impact-from-a-tech-enabled-transformation> (referer: None)\n",
      "2020-02-18 12:28:27 [scrapy.core.engine] DEBUG: Crawled (200) <GET https://www.mckinsey.com/featured-insights/future-of-work/five-fifty-tech-for-the-greater-good> (referer: None)\n",
      "2020-02-18 12:28:27 [urllib3.connectionpool] DEBUG: Starting new HTTPS connection (1): www.mckinsey.com:443\n"
     ]
    },
    {
     "name": "stdout",
     "output_type": "stream",
     "text": [
      "https://www.mckinsey.com/business-functions/organization/our-insights/organizing-for-the-future\n"
     ]
    },
    {
     "name": "stderr",
     "output_type": "stream",
     "text": [
      "2020-02-18 12:28:28 [urllib3.connectionpool] DEBUG: https://www.mckinsey.com:443 \"GET /business-functions/organization/our-insights/organizing-for-the-future HTTP/1.1\" 200 26987\n",
      "2020-02-18 12:28:28 [scrapy.core.engine] DEBUG: Crawled (200) <GET https://www.mckinsey.com/industries/financial-services/our-insights/bracing-for-consolidation-in-asia-pacific-banking-the-quest-for-scale> (referer: None)\n",
      "2020-02-18 12:28:28 [scrapy.core.engine] DEBUG: Crawled (200) <GET https://www.mckinsey.com/business-functions/risk/our-insights/value-and-resilience-through-better-risk-management> (referer: None)\n",
      "2020-02-18 12:28:28 [scrapy.core.engine] DEBUG: Crawled (200) <GET https://www.mckinsey.com/industries/public-sector/our-insights/harnessing-the-power-of-digital-in-us-government-agencies> (referer: None)\n",
      "2020-02-18 12:28:28 [scrapy.core.engine] DEBUG: Crawled (200) <GET https://www.mckinsey.com/business-functions/strategy-and-corporate-finance/our-insights/strategic-principles-for-competing-in-the-digital-age> (referer: None)\n",
      "2020-02-18 12:28:28 [scrapy.core.engine] DEBUG: Crawled (200) <GET https://www.mckinsey.com/industries/public-sector/our-insights/inequality-a-persisting-challenge-and-its-implications> (referer: None)\n",
      "2020-02-18 12:28:28 [urllib3.connectionpool] DEBUG: Starting new HTTPS connection (1): www.mckinsey.com:443\n"
     ]
    },
    {
     "name": "stdout",
     "output_type": "stream",
     "text": [
      "https://www.mckinsey.com/industries/financial-services/our-insights/a-decade-after-the-global-financial-crisis-what-has-and-hasnt-changed\n"
     ]
    },
    {
     "name": "stderr",
     "output_type": "stream",
     "text": [
      "2020-02-18 12:28:28 [urllib3.connectionpool] DEBUG: https://www.mckinsey.com:443 \"GET /industries/financial-services/our-insights/a-decade-after-the-global-financial-crisis-what-has-and-hasnt-changed HTTP/1.1\" 200 25970\n",
      "2020-02-18 12:28:29 [scrapy.core.scraper] ERROR: Spider error processing <GET https://www.mckinsey.com/industries/financial-services/our-insights/a-decade-after-the-global-financial-crisis-what-has-and-hasnt-changed> (referer: None)\n",
      "Traceback (most recent call last):\n",
      "  File \"D:\\ProgramData\\Anaconda3\\lib\\site-packages\\twisted\\internet\\defer.py\", line 654, in _runCallbacks\n",
      "    current.result = callback(current.result, *args, **kw)\n",
      "  File \"<ipython-input-122-8fc83100377c>\", line 42, in parse\n",
      "    page_texttype = re.findall(texttype_regex, page_script)[0]\n",
      "IndexError: list index out of range\n",
      "2020-02-18 12:28:29 [urllib3.connectionpool] DEBUG: Starting new HTTPS connection (1): www.mckinsey.com:443\n"
     ]
    },
    {
     "name": "stdout",
     "output_type": "stream",
     "text": [
      "https://www.mckinsey.com/industries/advanced-electronics/our-insights/accelerating-the-impact-from-a-tech-enabled-transformation\n"
     ]
    },
    {
     "name": "stderr",
     "output_type": "stream",
     "text": [
      "2020-02-18 12:28:29 [urllib3.connectionpool] DEBUG: https://www.mckinsey.com:443 \"GET /industries/advanced-electronics/our-insights/accelerating-the-impact-from-a-tech-enabled-transformation HTTP/1.1\" 200 25634\n",
      "2020-02-18 12:28:29 [urllib3.connectionpool] DEBUG: Starting new HTTPS connection (1): www.mckinsey.com:443\n"
     ]
    },
    {
     "name": "stdout",
     "output_type": "stream",
     "text": [
      "https://www.mckinsey.com/featured-insights/future-of-work/five-fifty-tech-for-the-greater-good\n"
     ]
    },
    {
     "name": "stderr",
     "output_type": "stream",
     "text": [
      "2020-02-18 12:28:30 [urllib3.connectionpool] DEBUG: https://www.mckinsey.com:443 \"GET /featured-insights/future-of-work/five-fifty-tech-for-the-greater-good HTTP/1.1\" 200 13810\n",
      "2020-02-18 12:28:30 [scrapy.core.engine] DEBUG: Crawled (200) <GET https://www.mckinsey.com/industries/travel-transport-and-logistics/our-insights/distraction-or-disruption-autonomous-trucks-gain-ground-in-us-logistics> (referer: None)\n",
      "2020-02-18 12:28:30 [scrapy.core.engine] DEBUG: Crawled (200) <GET https://www.mckinsey.com/featured-insights/asia-pacific/asias-future-is-now> (referer: None)\n",
      "2020-02-18 12:28:30 [scrapy.core.engine] DEBUG: Crawled (200) <GET https://www.mckinsey.com/featured-insights/europe/europes-economy-three-pathways-to-rebuilding-trust-and-sustaining-momentum> (referer: None)\n",
      "2020-02-18 12:28:30 [urllib3.connectionpool] DEBUG: Starting new HTTPS connection (1): www.mckinsey.com:443\n"
     ]
    },
    {
     "name": "stdout",
     "output_type": "stream",
     "text": [
      "https://www.mckinsey.com/industries/financial-services/our-insights/bracing-for-consolidation-in-asia-pacific-banking-the-quest-for-scale\n"
     ]
    },
    {
     "name": "stderr",
     "output_type": "stream",
     "text": [
      "2020-02-18 12:28:30 [urllib3.connectionpool] DEBUG: https://www.mckinsey.com:443 \"GET /industries/financial-services/our-insights/bracing-for-consolidation-in-asia-pacific-banking-the-quest-for-scale HTTP/1.1\" 200 25001\n",
      "2020-02-18 12:28:30 [urllib3.connectionpool] DEBUG: Starting new HTTPS connection (1): www.mckinsey.com:443\n"
     ]
    },
    {
     "name": "stdout",
     "output_type": "stream",
     "text": [
      "https://www.mckinsey.com/business-functions/risk/our-insights/value-and-resilience-through-better-risk-management\n"
     ]
    },
    {
     "name": "stderr",
     "output_type": "stream",
     "text": [
      "2020-02-18 12:28:31 [urllib3.connectionpool] DEBUG: https://www.mckinsey.com:443 \"GET /business-functions/risk/our-insights/value-and-resilience-through-better-risk-management HTTP/1.1\" 200 25703\n",
      "2020-02-18 12:28:31 [urllib3.connectionpool] DEBUG: Starting new HTTPS connection (1): www.mckinsey.com:443\n"
     ]
    },
    {
     "name": "stdout",
     "output_type": "stream",
     "text": [
      "https://www.mckinsey.com/industries/public-sector/our-insights/harnessing-the-power-of-digital-in-us-government-agencies\n"
     ]
    },
    {
     "name": "stderr",
     "output_type": "stream",
     "text": [
      "2020-02-18 12:28:32 [urllib3.connectionpool] DEBUG: https://www.mckinsey.com:443 \"GET /industries/public-sector/our-insights/harnessing-the-power-of-digital-in-us-government-agencies HTTP/1.1\" 200 25667\n",
      "2020-02-18 12:28:32 [urllib3.connectionpool] DEBUG: Starting new HTTPS connection (1): www.mckinsey.com:443\n"
     ]
    },
    {
     "name": "stdout",
     "output_type": "stream",
     "text": [
      "https://www.mckinsey.com/business-functions/strategy-and-corporate-finance/our-insights/strategic-principles-for-competing-in-the-digital-age\n"
     ]
    },
    {
     "name": "stderr",
     "output_type": "stream",
     "text": [
      "2020-02-18 12:28:34 [urllib3.connectionpool] DEBUG: https://www.mckinsey.com:443 \"GET /business-functions/strategy-and-corporate-finance/our-insights/strategic-principles-for-competing-in-the-digital-age HTTP/1.1\" 200 27584\n",
      "2020-02-18 12:28:34 [urllib3.connectionpool] DEBUG: Starting new HTTPS connection (1): www.mckinsey.com:443\n"
     ]
    },
    {
     "name": "stdout",
     "output_type": "stream",
     "text": [
      "https://www.mckinsey.com/industries/public-sector/our-insights/inequality-a-persisting-challenge-and-its-implications\n"
     ]
    },
    {
     "name": "stderr",
     "output_type": "stream",
     "text": [
      "2020-02-18 12:28:35 [urllib3.connectionpool] DEBUG: https://www.mckinsey.com:443 \"GET /industries/public-sector/our-insights/inequality-a-persisting-challenge-and-its-implications HTTP/1.1\" 200 27084\n",
      "2020-02-18 12:28:35 [scrapy.core.scraper] ERROR: Spider error processing <GET https://www.mckinsey.com/industries/public-sector/our-insights/inequality-a-persisting-challenge-and-its-implications> (referer: None)\n",
      "Traceback (most recent call last):\n",
      "  File \"D:\\ProgramData\\Anaconda3\\lib\\site-packages\\twisted\\internet\\defer.py\", line 654, in _runCallbacks\n",
      "    current.result = callback(current.result, *args, **kw)\n",
      "  File \"<ipython-input-122-8fc83100377c>\", line 42, in parse\n",
      "    page_texttype = re.findall(texttype_regex, page_script)[0]\n",
      "IndexError: list index out of range\n",
      "2020-02-18 12:28:35 [scrapy.core.engine] DEBUG: Crawled (200) <GET https://www.mckinsey.com/industries/technology-media-and-telecommunications/our-insights/from-start-up-to-scale-a-conversation-with-box-ceo-aaron-levie> (referer: None)\n",
      "2020-02-18 12:28:35 [scrapy.core.engine] DEBUG: Crawled (200) <GET https://www.mckinsey.com/industries/financial-services/our-insights/global-reinsurance-fit-for-the-future> (referer: None)\n",
      "2020-02-18 12:28:35 [scrapy.core.engine] DEBUG: Crawled (200) <GET https://www.mckinsey.com/business-functions/risk/our-insights/the-future-of-risk-management-in-the-digital-era> (referer: None)\n",
      "2020-02-18 12:28:35 [scrapy.core.engine] DEBUG: Crawled (200) <GET https://www.mckinsey.com/featured-insights/innovation-and-growth/navigating-a-world-of-disruption> (referer: None)\n",
      "2020-02-18 12:28:35 [scrapy.core.engine] DEBUG: Crawled (200) <GET https://www.mckinsey.com/industries/healthcare-systems-and-services/our-insights/assessing-the-medicare-advantage-stars-ratings> (referer: None)\n",
      "2020-02-18 12:28:35 [urllib3.connectionpool] DEBUG: Starting new HTTPS connection (1): www.mckinsey.com:443\n"
     ]
    },
    {
     "name": "stdout",
     "output_type": "stream",
     "text": [
      "https://www.mckinsey.com/industries/travel-transport-and-logistics/our-insights/distraction-or-disruption-autonomous-trucks-gain-ground-in-us-logistics\n"
     ]
    },
    {
     "name": "stderr",
     "output_type": "stream",
     "text": [
      "2020-02-18 12:28:36 [urllib3.connectionpool] DEBUG: https://www.mckinsey.com:443 \"GET /industries/travel-transport-and-logistics/our-insights/distraction-or-disruption-autonomous-trucks-gain-ground-in-us-logistics HTTP/1.1\" 200 27703\n",
      "2020-02-18 12:28:36 [urllib3.connectionpool] DEBUG: Starting new HTTPS connection (1): www.mckinsey.com:443\n"
     ]
    },
    {
     "name": "stdout",
     "output_type": "stream",
     "text": [
      "https://www.mckinsey.com/featured-insights/asia-pacific/asias-future-is-now\n"
     ]
    },
    {
     "name": "stderr",
     "output_type": "stream",
     "text": [
      "2020-02-18 12:28:37 [urllib3.connectionpool] DEBUG: https://www.mckinsey.com:443 \"GET /featured-insights/asia-pacific/asias-future-is-now HTTP/1.1\" 200 28708\n",
      "2020-02-18 12:28:37 [scrapy.core.scraper] ERROR: Spider error processing <GET https://www.mckinsey.com/featured-insights/asia-pacific/asias-future-is-now> (referer: None)\n",
      "Traceback (most recent call last):\n",
      "  File \"D:\\ProgramData\\Anaconda3\\lib\\site-packages\\twisted\\internet\\defer.py\", line 654, in _runCallbacks\n",
      "    current.result = callback(current.result, *args, **kw)\n",
      "  File \"<ipython-input-122-8fc83100377c>\", line 42, in parse\n",
      "    page_texttype = re.findall(texttype_regex, page_script)[0]\n",
      "IndexError: list index out of range\n",
      "2020-02-18 12:28:37 [urllib3.connectionpool] DEBUG: Starting new HTTPS connection (1): www.mckinsey.com:443\n"
     ]
    },
    {
     "name": "stdout",
     "output_type": "stream",
     "text": [
      "https://www.mckinsey.com/featured-insights/europe/europes-economy-three-pathways-to-rebuilding-trust-and-sustaining-momentum\n"
     ]
    },
    {
     "name": "stderr",
     "output_type": "stream",
     "text": [
      "2020-02-18 12:28:37 [urllib3.connectionpool] DEBUG: https://www.mckinsey.com:443 \"GET /featured-insights/europe/europes-economy-three-pathways-to-rebuilding-trust-and-sustaining-momentum HTTP/1.1\" 200 28759\n",
      "2020-02-18 12:28:37 [scrapy.core.scraper] ERROR: Spider error processing <GET https://www.mckinsey.com/featured-insights/europe/europes-economy-three-pathways-to-rebuilding-trust-and-sustaining-momentum> (referer: None)\n",
      "Traceback (most recent call last):\n",
      "  File \"D:\\ProgramData\\Anaconda3\\lib\\site-packages\\twisted\\internet\\defer.py\", line 654, in _runCallbacks\n",
      "    current.result = callback(current.result, *args, **kw)\n",
      "  File \"<ipython-input-122-8fc83100377c>\", line 42, in parse\n",
      "    page_texttype = re.findall(texttype_regex, page_script)[0]\n",
      "IndexError: list index out of range\n",
      "2020-02-18 12:28:37 [scrapy.core.engine] DEBUG: Crawled (200) <GET https://www.mckinsey.com/industries/pharmaceuticals-and-medical-products/our-insights/capturing-the-value-of-good-quality-in-medical-devices> (referer: None)\n",
      "2020-02-18 12:28:37 [scrapy.core.engine] DEBUG: Crawled (200) <GET https://www.mckinsey.com/business-functions/mckinsey-digital/our-insights/the-cornerstones-of-large-scale-technology-transformation> (referer: None)\n",
      "2020-02-18 12:28:37 [urllib3.connectionpool] DEBUG: Starting new HTTPS connection (1): www.mckinsey.com:443\n"
     ]
    },
    {
     "name": "stdout",
     "output_type": "stream",
     "text": [
      "https://www.mckinsey.com/industries/technology-media-and-telecommunications/our-insights/from-start-up-to-scale-a-conversation-with-box-ceo-aaron-levie\n"
     ]
    },
    {
     "name": "stderr",
     "output_type": "stream",
     "text": [
      "2020-02-18 12:28:38 [urllib3.connectionpool] DEBUG: https://www.mckinsey.com:443 \"GET /industries/technology-media-and-telecommunications/our-insights/from-start-up-to-scale-a-conversation-with-box-ceo-aaron-levie HTTP/1.1\" 200 27981\n",
      "2020-02-18 12:28:38 [urllib3.connectionpool] DEBUG: Starting new HTTPS connection (1): www.mckinsey.com:443\n"
     ]
    },
    {
     "name": "stdout",
     "output_type": "stream",
     "text": [
      "https://www.mckinsey.com/industries/financial-services/our-insights/global-reinsurance-fit-for-the-future\n"
     ]
    },
    {
     "name": "stderr",
     "output_type": "stream",
     "text": [
      "2020-02-18 12:28:38 [urllib3.connectionpool] DEBUG: https://www.mckinsey.com:443 \"GET /industries/financial-services/our-insights/global-reinsurance-fit-for-the-future HTTP/1.1\" 200 26605\n",
      "2020-02-18 12:28:38 [urllib3.connectionpool] DEBUG: Starting new HTTPS connection (1): www.mckinsey.com:443\n"
     ]
    },
    {
     "name": "stdout",
     "output_type": "stream",
     "text": [
      "https://www.mckinsey.com/business-functions/risk/our-insights/the-future-of-risk-management-in-the-digital-era\n"
     ]
    },
    {
     "name": "stderr",
     "output_type": "stream",
     "text": [
      "2020-02-18 12:28:39 [urllib3.connectionpool] DEBUG: https://www.mckinsey.com:443 \"GET /business-functions/risk/our-insights/the-future-of-risk-management-in-the-digital-era HTTP/1.1\" 200 27720\n",
      "2020-02-18 12:28:39 [urllib3.connectionpool] DEBUG: Starting new HTTPS connection (1): www.mckinsey.com:443\n"
     ]
    },
    {
     "name": "stdout",
     "output_type": "stream",
     "text": [
      "https://www.mckinsey.com/featured-insights/innovation-and-growth/navigating-a-world-of-disruption\n"
     ]
    },
    {
     "name": "stderr",
     "output_type": "stream",
     "text": [
      "2020-02-18 12:28:39 [urllib3.connectionpool] DEBUG: https://www.mckinsey.com:443 \"GET /featured-insights/innovation-and-growth/navigating-a-world-of-disruption HTTP/1.1\" 200 28913\n",
      "2020-02-18 12:28:39 [scrapy.core.scraper] ERROR: Spider error processing <GET https://www.mckinsey.com/featured-insights/innovation-and-growth/navigating-a-world-of-disruption> (referer: None)\n",
      "Traceback (most recent call last):\n",
      "  File \"D:\\ProgramData\\Anaconda3\\lib\\site-packages\\twisted\\internet\\defer.py\", line 654, in _runCallbacks\n",
      "    current.result = callback(current.result, *args, **kw)\n",
      "  File \"<ipython-input-122-8fc83100377c>\", line 42, in parse\n",
      "    page_texttype = re.findall(texttype_regex, page_script)[0]\n",
      "IndexError: list index out of range\n",
      "2020-02-18 12:28:39 [urllib3.connectionpool] DEBUG: Starting new HTTPS connection (1): www.mckinsey.com:443\n"
     ]
    },
    {
     "name": "stdout",
     "output_type": "stream",
     "text": [
      "https://www.mckinsey.com/industries/healthcare-systems-and-services/our-insights/assessing-the-medicare-advantage-stars-ratings\n"
     ]
    },
    {
     "name": "stderr",
     "output_type": "stream",
     "text": [
      "2020-02-18 12:28:40 [urllib3.connectionpool] DEBUG: https://www.mckinsey.com:443 \"GET /industries/healthcare-systems-and-services/our-insights/assessing-the-medicare-advantage-stars-ratings HTTP/1.1\" 200 24956\n",
      "2020-02-18 12:28:41 [scrapy.core.engine] DEBUG: Crawled (200) <GET https://www.mckinsey.com/featured-insights/innovation-and-growth/globalization-in-transition-the-future-of-trade-and-value-chains> (referer: None)\n",
      "2020-02-18 12:28:41 [scrapy.core.engine] DEBUG: Crawled (200) <GET https://www.mckinsey.com/industries/public-sector/our-insights/insights-into-better-integrated-eligibility-systems> (referer: None)\n",
      "2020-02-18 12:28:41 [scrapy.core.engine] DEBUG: Crawled (200) <GET https://www.mckinsey.com/featured-insights/gender-equality/the-future-of-women-at-work-transitions-in-the-age-of-automation> (referer: None)\n",
      "2020-02-18 12:28:41 [urllib3.connectionpool] DEBUG: Starting new HTTPS connection (1): www.mckinsey.com:443\n"
     ]
    },
    {
     "name": "stdout",
     "output_type": "stream",
     "text": [
      "https://www.mckinsey.com/industries/pharmaceuticals-and-medical-products/our-insights/capturing-the-value-of-good-quality-in-medical-devices\n"
     ]
    },
    {
     "name": "stderr",
     "output_type": "stream",
     "text": [
      "2020-02-18 12:28:41 [urllib3.connectionpool] DEBUG: https://www.mckinsey.com:443 \"GET /industries/pharmaceuticals-and-medical-products/our-insights/capturing-the-value-of-good-quality-in-medical-devices HTTP/1.1\" 200 24858\n",
      "2020-02-18 12:28:41 [urllib3.connectionpool] DEBUG: Starting new HTTPS connection (1): www.mckinsey.com:443\n"
     ]
    },
    {
     "name": "stdout",
     "output_type": "stream",
     "text": [
      "https://www.mckinsey.com/business-functions/mckinsey-digital/our-insights/the-cornerstones-of-large-scale-technology-transformation\n"
     ]
    },
    {
     "name": "stderr",
     "output_type": "stream",
     "text": [
      "2020-02-18 12:28:42 [urllib3.connectionpool] DEBUG: https://www.mckinsey.com:443 \"GET /business-functions/mckinsey-digital/our-insights/the-cornerstones-of-large-scale-technology-transformation HTTP/1.1\" 200 28111\n",
      "2020-02-18 12:28:42 [scrapy.core.engine] DEBUG: Crawled (200) <GET https://www.mckinsey.com/industries/travel-transport-and-logistics/our-insights/automation-in-logistics-big-opportunity-bigger-uncertainty> (referer: None)\n",
      "2020-02-18 12:28:42 [urllib3.connectionpool] DEBUG: Starting new HTTPS connection (1): www.mckinsey.com:443\n"
     ]
    },
    {
     "name": "stdout",
     "output_type": "stream",
     "text": [
      "https://www.mckinsey.com/featured-insights/innovation-and-growth/globalization-in-transition-the-future-of-trade-and-value-chains\n"
     ]
    },
    {
     "name": "stderr",
     "output_type": "stream",
     "text": [
      "2020-02-18 12:28:43 [urllib3.connectionpool] DEBUG: https://www.mckinsey.com:443 \"GET /featured-insights/innovation-and-growth/globalization-in-transition-the-future-of-trade-and-value-chains HTTP/1.1\" 200 28822\n",
      "2020-02-18 12:28:43 [urllib3.connectionpool] DEBUG: Starting new HTTPS connection (1): www.mckinsey.com:443\n"
     ]
    },
    {
     "name": "stdout",
     "output_type": "stream",
     "text": [
      "https://www.mckinsey.com/industries/public-sector/our-insights/insights-into-better-integrated-eligibility-systems\n"
     ]
    },
    {
     "name": "stderr",
     "output_type": "stream",
     "text": [
      "2020-02-18 12:28:43 [urllib3.connectionpool] DEBUG: https://www.mckinsey.com:443 \"GET /industries/public-sector/our-insights/insights-into-better-integrated-eligibility-systems HTTP/1.1\" 200 26893\n",
      "2020-02-18 12:28:43 [urllib3.connectionpool] DEBUG: Starting new HTTPS connection (1): www.mckinsey.com:443\n"
     ]
    },
    {
     "name": "stdout",
     "output_type": "stream",
     "text": [
      "https://www.mckinsey.com/featured-insights/gender-equality/the-future-of-women-at-work-transitions-in-the-age-of-automation\n"
     ]
    },
    {
     "name": "stderr",
     "output_type": "stream",
     "text": [
      "2020-02-18 12:28:44 [urllib3.connectionpool] DEBUG: https://www.mckinsey.com:443 \"GET /featured-insights/gender-equality/the-future-of-women-at-work-transitions-in-the-age-of-automation HTTP/1.1\" 200 27914\n",
      "2020-02-18 12:28:44 [scrapy.core.engine] DEBUG: Crawled (200) <GET https://www.mckinsey.com/industries/technology-media-and-telecommunications/our-insights/ten-it-enabled-business-trends-for-the-decade-ahead> (referer: None)\n",
      "2020-02-18 12:28:44 [urllib3.connectionpool] DEBUG: Starting new HTTPS connection (1): www.mckinsey.com:443\n"
     ]
    },
    {
     "name": "stdout",
     "output_type": "stream",
     "text": [
      "https://www.mckinsey.com/industries/travel-transport-and-logistics/our-insights/automation-in-logistics-big-opportunity-bigger-uncertainty\n"
     ]
    },
    {
     "name": "stderr",
     "output_type": "stream",
     "text": [
      "2020-02-18 12:28:45 [urllib3.connectionpool] DEBUG: https://www.mckinsey.com:443 \"GET /industries/travel-transport-and-logistics/our-insights/automation-in-logistics-big-opportunity-bigger-uncertainty HTTP/1.1\" 200 29228\n",
      "2020-02-18 12:28:45 [scrapy.core.engine] DEBUG: Crawled (200) <GET https://www.mckinsey.com/featured-insights/china/what-can-we-expect-in-china-in-2019> (referer: None)\n",
      "2020-02-18 12:28:45 [urllib3.connectionpool] DEBUG: Starting new HTTPS connection (1): www.mckinsey.com:443\n"
     ]
    },
    {
     "name": "stdout",
     "output_type": "stream",
     "text": [
      "https://www.mckinsey.com/industries/technology-media-and-telecommunications/our-insights/ten-it-enabled-business-trends-for-the-decade-ahead\n"
     ]
    },
    {
     "name": "stderr",
     "output_type": "stream",
     "text": [
      "2020-02-18 12:28:45 [urllib3.connectionpool] DEBUG: https://www.mckinsey.com:443 \"GET /industries/technology-media-and-telecommunications/our-insights/ten-it-enabled-business-trends-for-the-decade-ahead HTTP/1.1\" 200 30395\n",
      "2020-02-18 12:28:46 [urllib3.connectionpool] DEBUG: Starting new HTTPS connection (1): www.mckinsey.com:443\n"
     ]
    },
    {
     "name": "stdout",
     "output_type": "stream",
     "text": [
      "https://www.mckinsey.com/featured-insights/china/what-can-we-expect-in-china-in-2019\n"
     ]
    },
    {
     "name": "stderr",
     "output_type": "stream",
     "text": [
      "2020-02-18 12:28:46 [urllib3.connectionpool] DEBUG: https://www.mckinsey.com:443 \"GET /featured-insights/china/what-can-we-expect-in-china-in-2019 HTTP/1.1\" 200 30059\n",
      "2020-02-18 12:28:46 [scrapy.core.engine] DEBUG: Crawled (200) <GET https://www.mckinsey.com/industries/travel-transport-and-logistics/our-insights/the-ongoing-trouble-with-travel-distribution-customer-experience> (referer: None)\n",
      "2020-02-18 12:28:46 [scrapy.core.engine] DEBUG: Crawled (200) <GET https://www.mckinsey.com/featured-insights/china/china-and-the-world-inside-the-dynamics-of-a-changing-relationship> (referer: None)\n",
      "2020-02-18 12:28:46 [urllib3.connectionpool] DEBUG: Starting new HTTPS connection (1): www.mckinsey.com:443\n"
     ]
    },
    {
     "name": "stdout",
     "output_type": "stream",
     "text": [
      "https://www.mckinsey.com/industries/travel-transport-and-logistics/our-insights/the-ongoing-trouble-with-travel-distribution-customer-experience\n"
     ]
    },
    {
     "name": "stderr",
     "output_type": "stream",
     "text": [
      "2020-02-18 12:28:47 [urllib3.connectionpool] DEBUG: https://www.mckinsey.com:443 \"GET /industries/travel-transport-and-logistics/our-insights/the-ongoing-trouble-with-travel-distribution-customer-experience HTTP/1.1\" 200 29537\n",
      "2020-02-18 12:28:47 [scrapy.core.engine] DEBUG: Crawled (200) <GET https://www.mckinsey.com/business-functions/organization/our-insights/the-irrational-side-of-change-management> (referer: None)\n",
      "2020-02-18 12:28:47 [scrapy.core.engine] DEBUG: Crawled (200) <GET https://www.mckinsey.com/industries/healthcare-systems-and-services/our-insights/omnichannel-consumer-interactions-a-payer-perspective> (referer: None)\n",
      "2020-02-18 12:28:47 [scrapy.core.engine] DEBUG: Crawled (200) <GET https://www.mckinsey.com/industries/advanced-electronics/our-insights/laying-the-foundation-for-success-in-the-connected-building-era> (referer: None)\n",
      "2020-02-18 12:28:47 [scrapy.core.engine] DEBUG: Crawled (200) <GET https://www.mckinsey.com/business-functions/strategy-and-corporate-finance/our-insights/sparking-creativity-in-teams-an-executives-guide> (referer: None)\n",
      "2020-02-18 12:28:47 [scrapy.core.engine] DEBUG: Crawled (200) <GET https://www.mckinsey.com/industries/healthcare-systems-and-services/our-insights/the-next-imperatives-for-us-healthcare> (referer: None)\n",
      "2020-02-18 12:28:47 [urllib3.connectionpool] DEBUG: Starting new HTTPS connection (1): www.mckinsey.com:443\n"
     ]
    },
    {
     "name": "stdout",
     "output_type": "stream",
     "text": [
      "https://www.mckinsey.com/featured-insights/china/china-and-the-world-inside-the-dynamics-of-a-changing-relationship\n"
     ]
    },
    {
     "name": "stderr",
     "output_type": "stream",
     "text": [
      "2020-02-18 12:28:48 [urllib3.connectionpool] DEBUG: https://www.mckinsey.com:443 \"GET /featured-insights/china/china-and-the-world-inside-the-dynamics-of-a-changing-relationship HTTP/1.1\" 200 28568\n",
      "2020-02-18 12:28:48 [scrapy.core.engine] DEBUG: Crawled (200) <GET https://www.mckinsey.com/featured-insights/asia-pacific/the-asian-century-has-arrived> (referer: None)\n",
      "2020-02-18 12:28:48 [scrapy.core.engine] DEBUG: Crawled (200) <GET https://www.mckinsey.com/business-functions/risk/our-insights/transforming-risk-efficiency-and-effectiveness> (referer: None)\n",
      "2020-02-18 12:28:48 [urllib3.connectionpool] DEBUG: Starting new HTTPS connection (1): www.mckinsey.com:443\n"
     ]
    },
    {
     "name": "stdout",
     "output_type": "stream",
     "text": [
      "https://www.mckinsey.com/business-functions/organization/our-insights/the-irrational-side-of-change-management\n"
     ]
    },
    {
     "name": "stderr",
     "output_type": "stream",
     "text": [
      "2020-02-18 12:28:48 [urllib3.connectionpool] DEBUG: https://www.mckinsey.com:443 \"GET /business-functions/organization/our-insights/the-irrational-side-of-change-management HTTP/1.1\" 200 24171\n",
      "2020-02-18 12:28:48 [urllib3.connectionpool] DEBUG: Starting new HTTPS connection (1): www.mckinsey.com:443\n"
     ]
    },
    {
     "name": "stdout",
     "output_type": "stream",
     "text": [
      "https://www.mckinsey.com/industries/healthcare-systems-and-services/our-insights/omnichannel-consumer-interactions-a-payer-perspective\n"
     ]
    },
    {
     "name": "stderr",
     "output_type": "stream",
     "text": [
      "2020-02-18 12:28:49 [urllib3.connectionpool] DEBUG: https://www.mckinsey.com:443 \"GET /industries/healthcare-systems-and-services/our-insights/omnichannel-consumer-interactions-a-payer-perspective HTTP/1.1\" 200 27842\n",
      "2020-02-18 12:28:49 [urllib3.connectionpool] DEBUG: Starting new HTTPS connection (1): www.mckinsey.com:443\n"
     ]
    },
    {
     "name": "stdout",
     "output_type": "stream",
     "text": [
      "https://www.mckinsey.com/industries/advanced-electronics/our-insights/laying-the-foundation-for-success-in-the-connected-building-era\n"
     ]
    },
    {
     "name": "stderr",
     "output_type": "stream",
     "text": [
      "2020-02-18 12:28:49 [urllib3.connectionpool] DEBUG: https://www.mckinsey.com:443 \"GET /industries/advanced-electronics/our-insights/laying-the-foundation-for-success-in-the-connected-building-era HTTP/1.1\" 200 26285\n",
      "2020-02-18 12:28:49 [urllib3.connectionpool] DEBUG: Starting new HTTPS connection (1): www.mckinsey.com:443\n"
     ]
    },
    {
     "name": "stdout",
     "output_type": "stream",
     "text": [
      "https://www.mckinsey.com/business-functions/strategy-and-corporate-finance/our-insights/sparking-creativity-in-teams-an-executives-guide\n"
     ]
    },
    {
     "name": "stderr",
     "output_type": "stream",
     "text": [
      "2020-02-18 12:28:50 [urllib3.connectionpool] DEBUG: https://www.mckinsey.com:443 \"GET /business-functions/strategy-and-corporate-finance/our-insights/sparking-creativity-in-teams-an-executives-guide HTTP/1.1\" 200 21129\n",
      "2020-02-18 12:28:50 [urllib3.connectionpool] DEBUG: Starting new HTTPS connection (1): www.mckinsey.com:443\n"
     ]
    },
    {
     "name": "stdout",
     "output_type": "stream",
     "text": [
      "https://www.mckinsey.com/industries/healthcare-systems-and-services/our-insights/the-next-imperatives-for-us-healthcare\n"
     ]
    },
    {
     "name": "stderr",
     "output_type": "stream",
     "text": [
      "2020-02-18 12:28:51 [urllib3.connectionpool] DEBUG: https://www.mckinsey.com:443 \"GET /industries/healthcare-systems-and-services/our-insights/the-next-imperatives-for-us-healthcare HTTP/1.1\" 200 27479\n",
      "2020-02-18 12:28:51 [urllib3.connectionpool] DEBUG: Starting new HTTPS connection (1): www.mckinsey.com:443\n"
     ]
    },
    {
     "name": "stdout",
     "output_type": "stream",
     "text": [
      "https://www.mckinsey.com/featured-insights/asia-pacific/the-asian-century-has-arrived\n"
     ]
    },
    {
     "name": "stderr",
     "output_type": "stream",
     "text": [
      "2020-02-18 12:28:51 [urllib3.connectionpool] DEBUG: https://www.mckinsey.com:443 \"GET /featured-insights/asia-pacific/the-asian-century-has-arrived HTTP/1.1\" 200 33508\n",
      "2020-02-18 12:28:51 [urllib3.connectionpool] DEBUG: Starting new HTTPS connection (1): www.mckinsey.com:443\n"
     ]
    },
    {
     "name": "stdout",
     "output_type": "stream",
     "text": [
      "https://www.mckinsey.com/business-functions/risk/our-insights/transforming-risk-efficiency-and-effectiveness\n"
     ]
    },
    {
     "name": "stderr",
     "output_type": "stream",
     "text": [
      "2020-02-18 12:28:52 [urllib3.connectionpool] DEBUG: https://www.mckinsey.com:443 \"GET /business-functions/risk/our-insights/transforming-risk-efficiency-and-effectiveness HTTP/1.1\" 200 32788\n",
      "2020-02-18 12:28:52 [scrapy.core.engine] INFO: Closing spider (finished)\n",
      "2020-02-18 12:28:52 [scrapy.statscollectors] INFO: Dumping Scrapy stats:\n",
      "{'downloader/request_bytes': 923079,\n",
      " 'downloader/request_count': 912,\n",
      " 'downloader/request_method_count/GET': 912,\n",
      " 'downloader/response_bytes': 18275480,\n",
      " 'downloader/response_count': 912,\n",
      " 'downloader/response_status_count/200': 912,\n",
      " 'finish_reason': 'finished',\n",
      " 'finish_time': datetime.datetime(2020, 2, 18, 11, 28, 52, 874330),\n",
      " 'log_count/DEBUG': 2737,\n",
      " 'log_count/ERROR': 253,\n",
      " 'log_count/INFO': 20,\n",
      " 'response_received_count': 912,\n",
      " 'scheduler/dequeued': 912,\n",
      " 'scheduler/dequeued/memory': 912,\n",
      " 'scheduler/enqueued': 912,\n",
      " 'scheduler/enqueued/memory': 912,\n",
      " 'spider_exceptions/IndexError': 253,\n",
      " 'start_time': datetime.datetime(2020, 2, 18, 11, 16, 9, 390781)}\n",
      "2020-02-18 12:28:52 [scrapy.core.engine] INFO: Spider closed (finished)\n"
     ]
    }
   ],
   "source": [
    "from scrapy.crawler import CrawlerProcess\n",
    "from datetime import date\n",
    "\n",
    "# Create class\n",
    "class mckinsey_spider (scrapy.Spider):\n",
    "    name = \"mckinsey_spider\"\n",
    "    \n",
    "    def start_requests(self):\n",
    "        urls = urllist\n",
    "        \n",
    "        for url in urls:\n",
    "            yield scrapy.Request(url = url, callback = self.parse)\n",
    "            \n",
    "    #Parsing\n",
    "    def parse(self, response):\n",
    "        print(response.url)\n",
    "        \n",
    "        page_dict = dict()\n",
    "        siteno = len(main_dict) + 1\n",
    "        \n",
    "        page_url = response.url\n",
    "        \n",
    "        page_html = requests.get(page_url).content\n",
    "        page_sel = Selector(text = page_html)\n",
    "        \n",
    "        text_sel = 'div#divArticleBody > article.main-copy ::text'\n",
    "        title_sel = '//meta[contains(@property, \"og:title\")]/@content'\n",
    "\n",
    "        script_sel = '//script[contains(@type, \"text/javascript\")]/text()'\n",
    "\n",
    "        date_regex = r'(?<=\\\"OriginalPublicationDate\\\"\\:\\\")\\d{1,2}/\\d{1,2}/\\d{4}'\n",
    "        texttype_regex = r'(?<=\\\"ArticleType\\\"\\:\\\")\\w*?(?=\\\",)'\n",
    "        conttype_regex = r'(?<=\\\"ContentType\\\"\\:\\\")\\w*?(?=\\\",)'\n",
    "\n",
    "        page_script = page_sel.xpath(script_sel).extract_first()\n",
    "\n",
    "        content_type = re.findall(conttype_regex, page_script)[0]\n",
    "        \n",
    "        if content_type != \"Profile\":\n",
    "\n",
    "            page_date = re.findall(date_regex, page_script)[0]\n",
    "            page_texttype = re.findall(texttype_regex, page_script)[0]\n",
    "\n",
    "            page_id = 'site' + str(siteno)\n",
    "            page_title = page_sel.xpath(title_sel).extract_first()\n",
    "            page_dldate = date.today().strftime('%Y/%m/%d')\n",
    "\n",
    "            page_text = page_sel.css(text_sel).extract()\n",
    "            page_text = ' '.join(page_text)\n",
    "\n",
    "            page_dict['url'] = page_url\n",
    "            page_dict['title'] = page_title\n",
    "            page_dict['article date'] = page_date\n",
    "            page_dict['download date'] = page_dldate\n",
    "            page_dict['text type'] = page_texttype\n",
    "            page_dict['text'] = page_text\n",
    "            page_dict['agency'] = \"McKinsey\"\n",
    "\n",
    "            main_dict[page_id] = page_dict\n",
    "        \n",
    "# Initiatlize dictionary\n",
    "main_dict = dict()\n",
    "\n",
    "#Run spider\n",
    "process = CrawlerProcess()\n",
    "siteno = 0\n",
    "process.crawl(mckinsey_spider)\n",
    "process.start()"
   ]
  },
  {
   "cell_type": "code",
   "execution_count": 123,
   "metadata": {},
   "outputs": [
    {
     "data": {
      "text/plain": [
       "<DeferredList at 0x1de6d0c6cc0 current result: []>"
      ]
     },
     "execution_count": 123,
     "metadata": {},
     "output_type": "execute_result"
    }
   ],
   "source": [
    "process.stop()"
   ]
  },
  {
   "cell_type": "code",
   "execution_count": 124,
   "metadata": {},
   "outputs": [
    {
     "data": {
      "text/plain": [
       "578"
      ]
     },
     "execution_count": 124,
     "metadata": {},
     "output_type": "execute_result"
    }
   ],
   "source": [
    "len(main_dict)"
   ]
  },
  {
   "cell_type": "code",
   "execution_count": 127,
   "metadata": {},
   "outputs": [],
   "source": [
    "import json\n",
    "\n",
    "with open('../data_raw/articles/mckin_articles.json', 'w') as file:\n",
    "    json.dump(main_dict, file)"
   ]
  }
 ],
 "metadata": {
  "kernelspec": {
   "display_name": "Python 3",
   "language": "python",
   "name": "python3"
  },
  "language_info": {
   "codemirror_mode": {
    "name": "ipython",
    "version": 3
   },
   "file_extension": ".py",
   "mimetype": "text/x-python",
   "name": "python",
   "nbconvert_exporter": "python",
   "pygments_lexer": "ipython3",
   "version": "3.6.8"
  }
 },
 "nbformat": 4,
 "nbformat_minor": 2
}
