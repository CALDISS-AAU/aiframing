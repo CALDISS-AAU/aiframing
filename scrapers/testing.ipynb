{
 "cells": [
  {
   "cell_type": "code",
   "execution_count": 1,
   "metadata": {},
   "outputs": [
    {
     "name": "stdout",
     "output_type": "stream",
     "text": [
      "Running Selenium with Headless Firefox\n"
     ]
    }
   ],
   "source": [
    "import os\n",
    "import sys\n",
    "\n",
    "from selenium import webdriver\n",
    "from selenium.webdriver.firefox.firefox_binary import FirefoxBinary\n",
    "import time\n",
    "\n",
    "os.environ['MOZ_HEADLESS'] = '1'\n",
    "\n",
    "# Select your Firefox binary.\n",
    "binary = FirefoxBinary('C:\\\\Program Files (x86)\\\\Mozilla Firefox\\\\firefox.exe', log_file=sys.stdout)\n",
    "\n",
    "# Start selenium with the configured binary.\n",
    "driver = webdriver.Firefox(firefox_binary=binary)\n",
    "\n",
    "# Visit this webpage.\n",
    "driver.get(\"https://intoli.com/blog/running-selenium-with-headless-firefox/\")\n",
    "\n",
    "# Grab the heading element from the response.\n",
    "heading_element = driver.find_element_by_xpath('//*[@id=\"heading-breadcrumbs\"]')\n",
    "\n",
    "# Print the title in the terminal.\n",
    "if heading_element:\n",
    "    print(heading_element.get_property('textContent').strip())\n",
    "else:\n",
    "    print(\"Heading element not found!\")\n",
    "\n",
    "driver.quit()"
   ]
  },
  {
   "cell_type": "code",
   "execution_count": 2,
   "metadata": {},
   "outputs": [
    {
     "name": "stdout",
     "output_type": "stream",
     "text": [
      "Here is some important text you want to retrieve!\n",
      "A button to click!\n"
     ]
    },
    {
     "data": {
      "text/plain": [
       "<bound method WebDriver.close of <selenium.webdriver.firefox.webdriver.WebDriver (session=\"f761dec2-551f-4153-9132-8637b3079739\")>>"
      ]
     },
     "execution_count": 2,
     "metadata": {},
     "output_type": "execute_result"
    }
   ],
   "source": [
    "os.environ['MOZ_HEADLESS'] = '1'\n",
    "\n",
    "# Select your Firefox binary.\n",
    "binary = FirefoxBinary('C:\\\\Program Files (x86)\\\\Mozilla Firefox\\\\firefox.exe', log_file=sys.stdout)\n",
    "\n",
    "# Start selenium with the configured binary.\n",
    "driver = webdriver.Firefox(firefox_binary=binary)\n",
    "\n",
    "driver.get('http://pythonscraping.com/pages/javascript/ajaxDemo.html')\n",
    "time.sleep(3)\n",
    "print(driver.find_element_by_id(\"content\").text)\n",
    "\n",
    "driver.quit()"
   ]
  },
  {
   "cell_type": "code",
   "execution_count": 6,
   "metadata": {},
   "outputs": [
    {
     "name": "stdout",
     "output_type": "stream",
     "text": [
      "{'cat': 'goodbye!'}\n"
     ]
    }
   ],
   "source": [
    "namedlist = {}\n",
    "namedlist['cat'] = \"hello!\"\n",
    "namedlist['cat'] = \"goodbye!\"\n",
    "print(namedlist)"
   ]
  },
  {
   "cell_type": "code",
   "execution_count": 3,
   "metadata": {},
   "outputs": [],
   "source": [
    "import pandas as pd\n",
    "\n",
    "data = pd.read_csv('..\\\\data_work\\\\ey_textdf.csv')"
   ]
  },
  {
   "cell_type": "code",
   "execution_count": 4,
   "metadata": {},
   "outputs": [
    {
     "data": {
      "text/html": [
       "<div>\n",
       "<style scoped>\n",
       "    .dataframe tbody tr th:only-of-type {\n",
       "        vertical-align: middle;\n",
       "    }\n",
       "\n",
       "    .dataframe tbody tr th {\n",
       "        vertical-align: top;\n",
       "    }\n",
       "\n",
       "    .dataframe thead th {\n",
       "        text-align: right;\n",
       "    }\n",
       "</style>\n",
       "<table border=\"1\" class=\"dataframe\">\n",
       "  <thead>\n",
       "    <tr style=\"text-align: right;\">\n",
       "      <th></th>\n",
       "      <th>title</th>\n",
       "      <th>text</th>\n",
       "    </tr>\n",
       "  </thead>\n",
       "  <tbody>\n",
       "    <tr>\n",
       "      <td>0</td>\n",
       "      <td>How digital transformation helped benefit fans...</td>\n",
       "      <td>the better the question the better the answer...</td>\n",
       "    </tr>\n",
       "    <tr>\n",
       "      <td>1</td>\n",
       "      <td>Six ways the CFO can use artificial intelligen...</td>\n",
       "      <td>9 minute read 19 sep 2019 link copied six way...</td>\n",
       "    </tr>\n",
       "    <tr>\n",
       "      <td>2</td>\n",
       "      <td>How can risk foresight lead to AI insight?</td>\n",
       "      <td>how can risk foresight lead to ai insight cat...</td>\n",
       "    </tr>\n",
       "    <tr>\n",
       "      <td>3</td>\n",
       "      <td>As data personalizes medtech, how will you ser...</td>\n",
       "      <td>as data personalizes medtech how will you ser...</td>\n",
       "    </tr>\n",
       "    <tr>\n",
       "      <td>4</td>\n",
       "      <td>How will robots make buildings more human?</td>\n",
       "      <td>how will robots make buildings more human sel...</td>\n",
       "    </tr>\n",
       "    <tr>\n",
       "      <td>...</td>\n",
       "      <td>...</td>\n",
       "      <td>...</td>\n",
       "    </tr>\n",
       "    <tr>\n",
       "      <td>88</td>\n",
       "      <td>How research and development is being augmente...</td>\n",
       "      <td>4 minute read 16 aug 2017 link copied how rd ...</td>\n",
       "    </tr>\n",
       "    <tr>\n",
       "      <td>89</td>\n",
       "      <td>How AI will enable us to work smarter faster</td>\n",
       "      <td>4 minute read 7 jun 2017 link copied how ai w...</td>\n",
       "    </tr>\n",
       "    <tr>\n",
       "      <td>90</td>\n",
       "      <td>How digital agriculture and big data will help...</td>\n",
       "      <td>8 minute read 23 feb 2017 link copied how dig...</td>\n",
       "    </tr>\n",
       "    <tr>\n",
       "      <td>91</td>\n",
       "      <td>How artificial intelligence can enhance your l...</td>\n",
       "      <td>5 minute read 12 oct 2017 link copied how art...</td>\n",
       "    </tr>\n",
       "    <tr>\n",
       "      <td>92</td>\n",
       "      <td>How Robotics and AI could transform the world ...</td>\n",
       "      <td>10 minute read 25 may 2017 link copied how ro...</td>\n",
       "    </tr>\n",
       "  </tbody>\n",
       "</table>\n",
       "<p>93 rows × 2 columns</p>\n",
       "</div>"
      ],
      "text/plain": [
       "                                                title  \\\n",
       "0   How digital transformation helped benefit fans...   \n",
       "1   Six ways the CFO can use artificial intelligen...   \n",
       "2         How can risk foresight lead to AI insight?    \n",
       "3   As data personalizes medtech, how will you ser...   \n",
       "4          How will robots make buildings more human?   \n",
       "..                                                ...   \n",
       "88  How research and development is being augmente...   \n",
       "89       How AI will enable us to work smarter faster   \n",
       "90  How digital agriculture and big data will help...   \n",
       "91  How artificial intelligence can enhance your l...   \n",
       "92  How Robotics and AI could transform the world ...   \n",
       "\n",
       "                                                 text  \n",
       "0    the better the question the better the answer...  \n",
       "1    9 minute read 19 sep 2019 link copied six way...  \n",
       "2    how can risk foresight lead to ai insight cat...  \n",
       "3    as data personalizes medtech how will you ser...  \n",
       "4    how will robots make buildings more human sel...  \n",
       "..                                                ...  \n",
       "88   4 minute read 16 aug 2017 link copied how rd ...  \n",
       "89   4 minute read 7 jun 2017 link copied how ai w...  \n",
       "90   8 minute read 23 feb 2017 link copied how dig...  \n",
       "91   5 minute read 12 oct 2017 link copied how art...  \n",
       "92   10 minute read 25 may 2017 link copied how ro...  \n",
       "\n",
       "[93 rows x 2 columns]"
      ]
     },
     "execution_count": 4,
     "metadata": {},
     "output_type": "execute_result"
    }
   ],
   "source": [
    "data"
   ]
  },
  {
   "cell_type": "code",
   "execution_count": null,
   "metadata": {},
   "outputs": [],
   "source": []
  }
 ],
 "metadata": {
  "kernelspec": {
   "display_name": "Python 3",
   "language": "python",
   "name": "python3"
  },
  "language_info": {
   "codemirror_mode": {
    "name": "ipython",
    "version": 3
   },
   "file_extension": ".py",
   "mimetype": "text/x-python",
   "name": "python",
   "nbconvert_exporter": "python",
   "pygments_lexer": "ipython3",
   "version": "3.6.9"
  }
 },
 "nbformat": 4,
 "nbformat_minor": 2
}
