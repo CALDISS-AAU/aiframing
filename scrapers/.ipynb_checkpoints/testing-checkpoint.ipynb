{
 "cells": [
  {
   "cell_type": "code",
   "execution_count": 1,
   "metadata": {},
   "outputs": [
    {
     "name": "stdout",
     "output_type": "stream",
     "text": [
      "Running Selenium with Headless Firefox\n"
     ]
    }
   ],
   "source": [
    "import os\n",
    "import sys\n",
    "\n",
    "from selenium import webdriver\n",
    "from selenium.webdriver.firefox.firefox_binary import FirefoxBinary\n",
    "import time\n",
    "\n",
    "os.environ['MOZ_HEADLESS'] = '1'\n",
    "\n",
    "# Select your Firefox binary.\n",
    "binary = FirefoxBinary('C:\\\\Program Files (x86)\\\\Mozilla Firefox\\\\firefox.exe', log_file=sys.stdout)\n",
    "\n",
    "# Start selenium with the configured binary.\n",
    "driver = webdriver.Firefox(firefox_binary=binary)\n",
    "\n",
    "# Visit this webpage.\n",
    "driver.get(\"https://intoli.com/blog/running-selenium-with-headless-firefox/\")\n",
    "\n",
    "# Grab the heading element from the response.\n",
    "heading_element = driver.find_element_by_xpath('//*[@id=\"heading-breadcrumbs\"]')\n",
    "\n",
    "# Print the title in the terminal.\n",
    "if heading_element:\n",
    "    print(heading_element.get_property('textContent').strip())\n",
    "else:\n",
    "    print(\"Heading element not found!\")\n",
    "\n",
    "driver.quit()"
   ]
  },
  {
   "cell_type": "code",
   "execution_count": 2,
   "metadata": {},
   "outputs": [
    {
     "name": "stdout",
     "output_type": "stream",
     "text": [
      "Here is some important text you want to retrieve!\n",
      "A button to click!\n"
     ]
    },
    {
     "data": {
      "text/plain": [
       "<bound method WebDriver.close of <selenium.webdriver.firefox.webdriver.WebDriver (session=\"f761dec2-551f-4153-9132-8637b3079739\")>>"
      ]
     },
     "execution_count": 2,
     "metadata": {},
     "output_type": "execute_result"
    }
   ],
   "source": [
    "os.environ['MOZ_HEADLESS'] = '1'\n",
    "\n",
    "# Select your Firefox binary.\n",
    "binary = FirefoxBinary('C:\\\\Program Files (x86)\\\\Mozilla Firefox\\\\firefox.exe', log_file=sys.stdout)\n",
    "\n",
    "# Start selenium with the configured binary.\n",
    "driver = webdriver.Firefox(firefox_binary=binary)\n",
    "\n",
    "driver.get('http://pythonscraping.com/pages/javascript/ajaxDemo.html')\n",
    "time.sleep(3)\n",
    "print(driver.find_element_by_id(\"content\").text)\n",
    "\n",
    "driver.quit()"
   ]
  },
  {
   "cell_type": "code",
   "execution_count": null,
   "metadata": {},
   "outputs": [],
   "source": []
  }
 ],
 "metadata": {
  "kernelspec": {
   "display_name": "Python 3",
   "language": "python",
   "name": "python3"
  },
  "language_info": {
   "codemirror_mode": {
    "name": "ipython",
    "version": 3
   },
   "file_extension": ".py",
   "mimetype": "text/x-python",
   "name": "python",
   "nbconvert_exporter": "python",
   "pygments_lexer": "ipython3",
   "version": "3.6.8"
  }
 },
 "nbformat": 4,
 "nbformat_minor": 2
}
