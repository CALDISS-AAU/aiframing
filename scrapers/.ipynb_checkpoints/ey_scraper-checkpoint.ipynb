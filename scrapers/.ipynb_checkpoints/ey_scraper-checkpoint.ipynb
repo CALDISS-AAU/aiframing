{
 "cells": [
  {
   "cell_type": "markdown",
   "metadata": {},
   "source": [
    "# Formål\n",
    "\n",
    "Script scraper diverse konsulenthuses sider for artikler og indlæg omkring kunstig intelligens (AI, artificial intelligence).\n",
    "\n",
    "**Liste over konsulenthuse**\n",
    "- Ernst & Young (EY) (en del af BIG4 i accounting) https://www.ey.com/en_gl\n",
    "- Deloitte. (en del af BIG4 i accounting) [https://www2.deloitte.com](https://www2.deloitte.com/)\n",
    "- KPMG. (en del af BIG4 i accounting) https://home.kpmg/xx/en/home.html\n",
    "- PricewaterhouseCoopers (PwC) (en del af BIG4 i accounting) https://www.pwc.com/\n",
    "- McKinsey (Top Management consulting) https://www.mckinsey.com/\n",
    "- Boston consulting group (Top Management consulting) https://www.bcg.com/\n",
    "- Bain & Company (Top Management consulting) https://www.bain.com/\n",
    "- Accenture (IT consulting - verdens største konsulenthus) https://www.accenture.com/us-en\n",
    "- Capgemini (IT consulting nr. 2 mener jeg) https://www.capgemini.com/\n",
    "- Tata consulting (IT consulting - nr. 3 mener jeg målt på omsætning) https://www.tcs.com/\n",
    "- IBM (Det er ikke sikkert, men de har vel Watson og måske interessant?) [https://www.ibm.com](https://www.ibm.com/)"
   ]
  },
  {
   "cell_type": "markdown",
   "metadata": {},
   "source": [
    "# Ernst & Young\n",
    "\n",
    "URL: https://www.ey.com/en_gl/ai"
   ]
  },
  {
   "cell_type": "markdown",
   "metadata": {},
   "source": [
    "### Libraries\n",
    "\n",
    "Importing libraries..."
   ]
  },
  {
   "cell_type": "code",
   "execution_count": 1,
   "metadata": {},
   "outputs": [],
   "source": [
    "import scrapy\n",
    "import requests\n",
    "from scrapy import Selector\n",
    "\n",
    "import os\n",
    "import sys\n",
    "\n",
    "from selenium import webdriver\n",
    "from selenium.webdriver.common.keys import Keys\n",
    "from selenium.webdriver.firefox.firefox_binary import FirefoxBinary\n",
    "from selenium.common.exceptions import NoSuchElementException, WebDriverException, ElementNotInteractableException\n",
    "from selenium.webdriver.common.action_chains import ActionChains\n",
    "\n",
    "import time"
   ]
  },
  {
   "cell_type": "markdown",
   "metadata": {},
   "source": [
    "### URL list\n",
    "\n",
    "List of URL is extracted from the AI-section of ey.com: https://www.ey.com/en_gl/ai"
   ]
  },
  {
   "cell_type": "code",
   "execution_count": 2,
   "metadata": {},
   "outputs": [
    {
     "data": {
      "text/plain": [
       "'\\nos.environ[\\'MOZ_HEADLESS\\'] = \\'1\\'\\n\\n# Select your Firefox binary.\\nbinary = FirefoxBinary(\\'C:\\\\Program Files (x86)\\\\Mozilla Firefox\\\\firefox.exe\\', log_file=sys.stdout)\\n\\n# Start selenium with the configured binary.\\ndriver = webdriver.Firefox(firefox_binary=binary)\\n\\ndriver.get(\\'https://www.ey.com/en_gl/ai\\')\\ncoordinates = {\\'x\\': 0, \\'y\\': 1400}\\ndriver.execute_script(\\'window.scrollTo({}, {});\\'.format(coordinates[\\'x\\'], coordinates[\\'y\\']))\\ntime.sleep(3)\\ncoordinates = {\\'x\\': 0, \\'y\\': 1600}\\ndriver.execute_script(\\'window.scrollTo({}, {});\\'.format(coordinates[\\'x\\'], coordinates[\\'y\\']))\\ntime.sleep(3)\\ndriver.find_element_by_css_selector(\"button.show-more\").click()\\ntime.sleep(3)\\n\\npageSource = driver.page_source\\n\\ndriver.quit()\\n'"
      ]
     },
     "execution_count": 2,
     "metadata": {},
     "output_type": "execute_result"
    }
   ],
   "source": [
    "## With firefox - DOES NOT WORK YET\n",
    "'''\n",
    "os.environ['MOZ_HEADLESS'] = '1'\n",
    "\n",
    "# Select your Firefox binary.\n",
    "binary = FirefoxBinary('C:\\\\Program Files (x86)\\\\Mozilla Firefox\\\\firefox.exe', log_file=sys.stdout)\n",
    "\n",
    "# Start selenium with the configured binary.\n",
    "driver = webdriver.Firefox(firefox_binary=binary)\n",
    "\n",
    "driver.get('https://www.ey.com/en_gl/ai')\n",
    "coordinates = {'x': 0, 'y': 1400}\n",
    "driver.execute_script('window.scrollTo({}, {});'.format(coordinates['x'], coordinates['y']))\n",
    "time.sleep(3)\n",
    "coordinates = {'x': 0, 'y': 1600}\n",
    "driver.execute_script('window.scrollTo({}, {});'.format(coordinates['x'], coordinates['y']))\n",
    "time.sleep(3)\n",
    "driver.find_element_by_css_selector(\"button.show-more\").click()\n",
    "time.sleep(3)\n",
    "\n",
    "pageSource = driver.page_source\n",
    "\n",
    "driver.quit()\n",
    "'''"
   ]
  },
  {
   "cell_type": "code",
   "execution_count": 3,
   "metadata": {},
   "outputs": [
    {
     "name": "stdout",
     "output_type": "stream",
     "text": [
      "No 'Next' button found\n"
     ]
    }
   ],
   "source": [
    "## With chrome\n",
    "driver = webdriver.Chrome(executable_path = 'C:\\\\bin\\\\chromedriver')\n",
    "\n",
    "driver.get('https://www.ey.com/en_gl/ai')\n",
    "#driver.find_element_by_css_selector(\"button.show-more\").click()\n",
    "\n",
    "driver.get('https://www.ey.com/en_gl/ai')\n",
    "time.sleep(3)\n",
    "driver.find_element_by_css_selector(\"button.cookiePolicy-accept\").click()\n",
    "time.sleep(3)\n",
    "\n",
    "coordinates = {'x': 0, 'y': 1200}\n",
    "driver.execute_script('window.scrollTo({}, {});'.format(coordinates['x'], coordinates['y']))\n",
    "time.sleep(3)\n",
    "coordinates = {'x': 0, 'y': 1600}\n",
    "driver.execute_script('window.scrollTo({}, {});'.format(coordinates['x'], coordinates['y']))\n",
    "\n",
    "driver.find_element_by_css_selector(\"button.show-more\").click()\n",
    "time.sleep(3)\n",
    "\n",
    "#pageSource = {}\n",
    "#pageno = 1\n",
    "#pagestr = \"page_\" + str(pageno)\n",
    "#pageSources[pagestr] = driver.page_source\n",
    "\n",
    "while True:\n",
    "    try:\n",
    "        driver.find_element_by_css_selector(\"button.next\").click()\n",
    "        time.sleep(4)\n",
    "    except (NoSuchElementException, WebDriverException, ElementNotInteractableException) as e:\n",
    "        print(\"No 'Next' button found\")\n",
    "        break\n",
    "        \n",
    "pageSource = driver.page_source\n",
    "\n",
    "driver.quit()"
   ]
  },
  {
   "cell_type": "code",
   "execution_count": 4,
   "metadata": {},
   "outputs": [],
   "source": [
    "ey_sel = Selector(text = pageSource) #create Selector object\n",
    "ey_urldict = {}\n",
    "   \n",
    "ey_urldict['titles'] = ey_sel.css('h4.article-title.is-clipped::text').extract()\n",
    "ey_urldict['urls'] = ey_sel.css('div.article-tile.tile.valid > div.tile-image-box > a::attr(href)').extract()"
   ]
  },
  {
   "cell_type": "code",
   "execution_count": 5,
   "metadata": {},
   "outputs": [],
   "source": [
    "ey_urllist = list(map(lambda url: 'https://www.ey.com' + url, ey_urldict['urls']))"
   ]
  },
  {
   "cell_type": "code",
   "execution_count": 6,
   "metadata": {},
   "outputs": [],
   "source": [
    "ey_pagehtml = requests.get(ey_urllist[0]).content\n",
    "ey_pagesel = Selector(text = ey_pagehtml)"
   ]
  },
  {
   "cell_type": "code",
   "execution_count": 7,
   "metadata": {},
   "outputs": [
    {
     "name": "stdout",
     "output_type": "stream",
     "text": [
      "\n",
      "   \n",
      "    \n",
      "    \n",
      "    \n",
      "    \n",
      "    The better the question.  \n",
      "    The better the answer.  \n",
      "    The better the world works.  \n",
      "    \n",
      "   \n",
      " \n",
      "   How digital transformation helped benefit fans and the bottom line \n",
      " \n",
      " \n",
      " \n",
      "   \n",
      "    \n",
      "    With help from EY, the professional sports franchise was able to turn big data into even bigger value.  \n",
      "    \n",
      "   \n",
      "  \n",
      " \n",
      "    \n",
      "    \n",
      "    Related topics   \n",
      "    Advisory   \n",
      "    Analytics and big data   \n",
      "    AI   \n",
      "    Digital   \n",
      "     \n",
      "  \n",
      " \n",
      "   \n",
      "    \n",
      "    \n",
      "     Link copied \n",
      "     \n",
      "     \n",
      "    \n",
      "    \n",
      "    \n",
      "      \n",
      "       \n",
      "                \n",
      "                \n",
      "                \n",
      "                \n",
      "       \n",
      "     \n",
      "     \n",
      "    \n",
      "   \n",
      " \n",
      "   \n",
      "   The team  \n",
      "    \n",
      "     \n",
      "      \n",
      "        \n",
      "   \n",
      "       \n",
      "         EY Global    \n",
      "         Multidisciplinary professional services organization    \n",
      "       \n",
      "      \n",
      "     \n",
      "    \n",
      "   \n",
      " \n",
      "   \n",
      "   \n",
      " \n",
      " \n",
      " \n",
      " \n",
      " \n",
      " \n",
      " \n",
      " \n",
      " \n",
      " \n",
      " \n",
      " \n",
      "   \n",
      "   (Chapter breaker)\n",
      "    \n",
      "   1  \n",
      "    \n",
      "    The better the question  \n",
      "    How can a sports franchise score more points with its fans?  \n",
      "    A championship-winning basketball team had the most engaged fans in the league but wanted to take their fan experience to the next level.  \n",
      "    \n",
      "   \n",
      " \n",
      "     \n",
      "   \n",
      "    \n",
      "    T he franchise decided to evolve its legacy IT systems and introduce new tools to enhance marketing conversion and drive revenue growth. It engaged EY to help in the design and development of a suite of digital solutions that would bring fans closer to the action while maximizing attendance levels and revenue opportunities.  \n",
      "    \n",
      "   \n",
      " \n",
      "   \n",
      "    \n",
      "    \n",
      "    Our business has always taken a non-traditional approach — we have a history of innovation that looks outside our industry. With this project, we were ready to push our digital technology strategy to the next level.\n",
      "     \n",
      "    \n",
      "     Our client’s Executive Vice President of Business Strategy \n",
      "     \n",
      "     \n",
      "    \n",
      "   \n",
      " \n",
      "   \n",
      "    \n",
      "    \n",
      "    The organization’s sales team wanted a state-of-the-art customer relationship management (CRM) system and digital repository for customer data that would prevent fans from being sent any unnecessary messages and would generate more efficient returns for the franchise. The existing system risked customers being sent generic messaging that didn’t fully account for their particular interests or buying patterns.  \n",
      "    In addition to updating its CRM system, the organization wanted to invest in smart digital solutions that would motivate its sales team and provide more sophisticated tools. This led to the implementation of large screens with sales leaderboards measuring daily, monthly and quarterly goals. This solution drove friendly competition and ultimately led to growth for the entire organization.  \n",
      "    \n",
      "    \n",
      "     \n",
      "     \n",
      "      \n",
      "       \n",
      "        \n",
      "        How EY can help  \n",
      "         \n",
      "         \n",
      "          \n",
      "          Artificial intelligence consulting services  \n",
      "          Our Advisory approach to the adoption of AI and intelligent automation is human-centered, pragmatic, outcomes-focused and ethical.  \n",
      "          Read more  \n",
      "          \n",
      "         \n",
      "        \n",
      "       \n",
      "      \n",
      "     \n",
      "    \n",
      "   \n",
      " \n",
      " \n",
      "   \n",
      "   \n",
      " \n",
      " \n",
      " \n",
      " \n",
      " \n",
      " \n",
      " \n",
      " \n",
      " \n",
      " \n",
      " \n",
      " \n",
      "   \n",
      "   (Chapter breaker)\n",
      "    \n",
      "   2  \n",
      "    \n",
      "    The better the answer  \n",
      "    AI-powered marketing to deliver the right deals to the right fan  \n",
      "    The sports franchise built a new data architecture, creating the most sophisticated marketing system in the league.  \n",
      "    \n",
      "   \n",
      " \n",
      "     \n",
      "   \n",
      "    \n",
      "    A single platform to track sales and turn big data into big value  \n",
      "    The organization wanted to implement a unified system capable of tracking and using customer data to dramatically increase marketing conversion. We began by leveraging EY’s strong relationships with Adobe and Microsoft to create a digital road map for solving existing pain points and delivering future growth and clear ROI.  \n",
      "    A powerful mobile app to help fans get the most out of their arena experience.  \n",
      "    The new CRM system we developed together was integrated with the team’s mobile app. This unlocked deep insights into purchasing decisions and customer behavior. With the team’s arena being ticketless, the new system could track attendance, sales of merchandising, and food and beverage purchases. This provided our client with a wealth of valuable information it could use to improve the fan experience — for example, adjusting prices to make sure no seat goes unfilled. Combined with the newly implemented AI platform, the app shows fans where they can find the shortest lines for concessions, bathrooms and even parking — helping them enjoy frictionless experiences.  \n",
      "    \n",
      "   \n",
      " \n",
      "   \n",
      "    \n",
      "    \n",
      "    In the end, we helped our client’s marketing team deliver the right message to the right fan, and at the right moment, to increase fan attendance and enhance revenue growth.\n",
      "     \n",
      "    \n",
      "     Tyler Burcher-DuPont \n",
      "     \n",
      "    \n",
      "    Senior manager, EY Digital\n",
      "     \n",
      "    \n",
      "   \n",
      " \n",
      "   \n",
      "    \n",
      "    \n",
      "    An automated marketing platform to deliver the right message at the right moment to the right person  \n",
      "    To leverage this wealth of new data, we implemented Microsoft Dynamics 365 CRM and Adobe Experience Cloud, an integrated technology stack that enables the sports franchise to better understand its customers, right down to the food and drink items fans are purchasing at games.  \n",
      "    By using Adobe Analytics and Adobe Campaign, our client can analyze the consolidated data to understand fans’ behavior across seven different digital properties, painting a complete picture for its sales and marketing teams. This rich understanding of its customers is giving our client the ability to quickly execute fully automated, multichannel marketing campaigns. These deliver the right message via the right channel at the right moment and drive revenue growth regardless of team performance on the court.  \n",
      "    \n",
      "    \n",
      "     \n",
      "     \n",
      "      \n",
      "       \n",
      "        \n",
      "        How EY can help  \n",
      "         \n",
      "         \n",
      "          \n",
      "          Analytics consulting services  \n",
      "          We can help you apply intelligence in your organization to grow, protect and optimize your business by harnessing the latest technologies.   \n",
      "          Read more  \n",
      "          \n",
      "         \n",
      "        \n",
      "       \n",
      "      \n",
      "     \n",
      "    \n",
      "   \n",
      " \n",
      " \n",
      "   \n",
      "   \n",
      " \n",
      " \n",
      " \n",
      " \n",
      " \n",
      " \n",
      " \n",
      " \n",
      " \n",
      " \n",
      " \n",
      " \n",
      "   \n",
      "   (Chapter breaker)\n",
      "    \n",
      "   3  \n",
      "    \n",
      "    The better the world works  \n",
      "    A smart experience that’s better for fans and the business  \n",
      "    Rolling out the new CRM platform resulted in increased ticket sales and sales staff efficiency.  \n",
      "    \n",
      "   \n",
      " \n",
      "     \n",
      "   \n",
      "    \n",
      "    Once the new CRM system was rolled out, our client saw a remarkable 30% year-over-year increase in ticket sales. This uptick was due to the power of the data the sales team now had at its fingertips. EY also helped streamline the sales process for both staff and season ticket buyers. We did this by introducing technologies, such as e-signatures, that make it easy to close deals faster and increase conversion.  \n",
      "    A better business powered by AI  \n",
      "    In combination, all of these new upgrades made an astounding impact on the business. In just one season, the basketball team increased mobile app merchandise and ticketing revenue by   \n",
      "    \n",
      "   \n",
      " \n",
      "   \n",
      "   Increase in mobile app merchandise and ticketing revenue  \n",
      "   50%  \n",
      "   — a huge win for the business. \n",
      "   \n",
      " \n",
      "   \n",
      "    \n",
      "    Today, thanks to the richer customer data now being captured, the team can respond much faster to any capacity issues — repricing tickets based on real-time marketing intelligence. The benefits also extend to fans, creating a much more seamless and enjoyable digital experience.  \n",
      "    The organization took its marketing capabilities to the next level and gave its sales teams and managers the tools they need to succeed. Beyond this, fans benefited from getting better, more relevant deals and gaining access to the arena experience of the future — a win-win for everyone.   \n",
      "    \n",
      "   \n",
      " \n",
      "  \n",
      " \n",
      "      \n",
      "   \n",
      "    \n",
      "    \n",
      "     \n",
      "      \n",
      "       \n",
      "       \n",
      "        \n",
      "         \n",
      "         Contact us  \n",
      "         \n",
      "        \n",
      "       \n",
      "       \n",
      "        \n",
      "         \n",
      "        \n",
      "            \n",
      "          email     \n",
      "         \n",
      "         \n",
      "        \n",
      "       \n",
      "      \n",
      "     \n",
      "    \n",
      "   \n",
      " \n",
      " \n",
      "   \n",
      "    \n",
      "    \n",
      "    \n",
      "    Read more  \n",
      "    \n",
      "   \n",
      " \n",
      "   \n",
      "    \n",
      "    \n",
      "    \n",
      "    Read more  \n",
      "    \n",
      "   \n",
      "\n"
     ]
    }
   ],
   "source": [
    "ey_text = ey_pagesel.css('div#content ::text').extract()\n",
    "ey_title = ey_pagesel.css('title ::text').extract_first()\n",
    "ey_text = ' '.join(ey_text)\n",
    "print(ey_text)"
   ]
  },
  {
   "cell_type": "code",
   "execution_count": 8,
   "metadata": {},
   "outputs": [
    {
     "name": "stderr",
     "output_type": "stream",
     "text": [
      "2019-10-22 16:28:00 [scrapy.utils.log] INFO: Scrapy 1.5.2 started (bot: scrapybot)\n",
      "2019-10-22 16:28:00 [scrapy.utils.log] INFO: Versions: lxml 4.3.2.0, libxml2 2.9.9, cssselect 1.0.3, parsel 1.5.1, w3lib 1.20.0, Twisted 18.9.0, Python 3.6.8 |Anaconda, Inc.| (default, Feb 21 2019, 18:30:04) [MSC v.1916 64 bit (AMD64)], pyOpenSSL 19.0.0 (OpenSSL 1.1.1  11 Sep 2018), cryptography 2.6.1, Platform Windows-10-10.0.18362-SP0\n",
      "2019-10-22 16:28:00 [scrapy.crawler] INFO: Overridden settings: {}\n",
      "2019-10-22 16:28:00 [scrapy.extensions.telnet] INFO: Telnet Password: 510663c52facc7ef\n",
      "2019-10-22 16:28:00 [scrapy.middleware] INFO: Enabled extensions:\n",
      "['scrapy.extensions.corestats.CoreStats',\n",
      " 'scrapy.extensions.telnet.TelnetConsole',\n",
      " 'scrapy.extensions.logstats.LogStats']\n",
      "2019-10-22 16:28:00 [scrapy.middleware] INFO: Enabled downloader middlewares:\n",
      "['scrapy.downloadermiddlewares.httpauth.HttpAuthMiddleware',\n",
      " 'scrapy.downloadermiddlewares.downloadtimeout.DownloadTimeoutMiddleware',\n",
      " 'scrapy.downloadermiddlewares.defaultheaders.DefaultHeadersMiddleware',\n",
      " 'scrapy.downloadermiddlewares.useragent.UserAgentMiddleware',\n",
      " 'scrapy.downloadermiddlewares.retry.RetryMiddleware',\n",
      " 'scrapy.downloadermiddlewares.redirect.MetaRefreshMiddleware',\n",
      " 'scrapy.downloadermiddlewares.httpcompression.HttpCompressionMiddleware',\n",
      " 'scrapy.downloadermiddlewares.redirect.RedirectMiddleware',\n",
      " 'scrapy.downloadermiddlewares.cookies.CookiesMiddleware',\n",
      " 'scrapy.downloadermiddlewares.httpproxy.HttpProxyMiddleware',\n",
      " 'scrapy.downloadermiddlewares.stats.DownloaderStats']\n",
      "2019-10-22 16:28:00 [scrapy.middleware] INFO: Enabled spider middlewares:\n",
      "['scrapy.spidermiddlewares.httperror.HttpErrorMiddleware',\n",
      " 'scrapy.spidermiddlewares.offsite.OffsiteMiddleware',\n",
      " 'scrapy.spidermiddlewares.referer.RefererMiddleware',\n",
      " 'scrapy.spidermiddlewares.urllength.UrlLengthMiddleware',\n",
      " 'scrapy.spidermiddlewares.depth.DepthMiddleware']\n",
      "2019-10-22 16:28:00 [scrapy.middleware] INFO: Enabled item pipelines:\n",
      "[]\n",
      "2019-10-22 16:28:00 [scrapy.core.engine] INFO: Spider opened\n",
      "2019-10-22 16:28:00 [scrapy.extensions.logstats] INFO: Crawled 0 pages (at 0 pages/min), scraped 0 items (at 0 items/min)\n",
      "2019-10-22 16:28:00 [scrapy.extensions.telnet] DEBUG: Telnet console listening on 127.0.0.1:6023\n",
      "2019-10-22 16:28:01 [scrapy.core.engine] DEBUG: Crawled (200) <GET https://www.ey.com/en_gl/advisory/how-digital-transformation-helped-benefit-fans-and-the-bottom-line> (referer: None)\n",
      "2019-10-22 16:28:01 [scrapy.core.engine] DEBUG: Crawled (200) <GET https://www.ey.com/en_gl/ai/six-ways-the-cfo-can-use-artificial-intelligence-today> (referer: None)\n",
      "2019-10-22 16:28:01 [scrapy.core.engine] DEBUG: Crawled (200) <GET https://www.ey.com/en_gl/advisory/how-can-risk-foresight-lead-to-ai-insight> (referer: None)\n",
      "2019-10-22 16:28:01 [urllib3.connectionpool] DEBUG: Starting new HTTPS connection (1): www.ey.com:443\n"
     ]
    },
    {
     "name": "stdout",
     "output_type": "stream",
     "text": [
      "https://www.ey.com/en_gl/advisory/how-digital-transformation-helped-benefit-fans-and-the-bottom-line\n"
     ]
    },
    {
     "name": "stderr",
     "output_type": "stream",
     "text": [
      "2019-10-22 16:28:02 [urllib3.connectionpool] DEBUG: https://www.ey.com:443 \"GET /en_gl/advisory/how-digital-transformation-helped-benefit-fans-and-the-bottom-line HTTP/1.1\" 200 13949\n",
      "2019-10-22 16:28:02 [scrapy.core.engine] DEBUG: Crawled (200) <GET https://www.ey.com/en_gl/life-sciences/as-data-personalizes-medtech-how-will-you-serve-tomorrows-consumer> (referer: None)\n",
      "2019-10-22 16:28:02 [scrapy.core.engine] DEBUG: Crawled (200) <GET https://www.ey.com/en_gl/real-estate-hospitality-construction/how-will-robots-make-buildings-more-human> (referer: None)\n",
      "2019-10-22 16:28:02 [scrapy.core.engine] DEBUG: Crawled (200) <GET https://www.ey.com/en_gl/financial-services/how-to-optimize-your-intelligent-automation-build> (referer: None)\n",
      "2019-10-22 16:28:02 [scrapy.core.engine] DEBUG: Crawled (200) <GET https://www.ey.com/en_gl/trust/how-to-trust-the-machine--using-ai-to-combat-money-laundering> (referer: None)\n",
      "2019-10-22 16:28:02 [scrapy.core.engine] DEBUG: Crawled (200) <GET https://www.ey.com/en_gl/financial-services/how-to-give-a-flying-start-to-your-intelligent-automation-program> (referer: None)\n",
      "2019-10-22 16:28:02 [scrapy.core.engine] DEBUG: Crawled (200) <GET https://www.ey.com/en_gl/government-public-sector/how-to-build-the-digital-state> (referer: None)\n",
      "2019-10-22 16:28:02 [urllib3.connectionpool] DEBUG: Starting new HTTPS connection (1): www.ey.com:443\n"
     ]
    },
    {
     "name": "stdout",
     "output_type": "stream",
     "text": [
      "https://www.ey.com/en_gl/ai/six-ways-the-cfo-can-use-artificial-intelligence-today\n"
     ]
    },
    {
     "name": "stderr",
     "output_type": "stream",
     "text": [
      "2019-10-22 16:28:04 [urllib3.connectionpool] DEBUG: https://www.ey.com:443 \"GET /en_gl/ai/six-ways-the-cfo-can-use-artificial-intelligence-today HTTP/1.1\" 200 19245\n",
      "2019-10-22 16:28:04 [urllib3.connectionpool] DEBUG: Starting new HTTPS connection (1): www.ey.com:443\n"
     ]
    },
    {
     "name": "stdout",
     "output_type": "stream",
     "text": [
      "https://www.ey.com/en_gl/advisory/how-can-risk-foresight-lead-to-ai-insight\n"
     ]
    },
    {
     "name": "stderr",
     "output_type": "stream",
     "text": [
      "2019-10-22 16:28:05 [urllib3.connectionpool] DEBUG: https://www.ey.com:443 \"GET /en_gl/advisory/how-can-risk-foresight-lead-to-ai-insight HTTP/1.1\" 200 15762\n",
      "2019-10-22 16:28:05 [scrapy.core.engine] DEBUG: Crawled (200) <GET https://www.ey.com/en_gl/insurance/three-ways-ai-will-transform-the-insurance-industry> (referer: None)\n",
      "2019-10-22 16:28:05 [scrapy.core.engine] DEBUG: Crawled (200) <GET https://www.ey.com/en_gl/innovation/how-ai-is-transforming-business-right-now> (referer: None)\n",
      "2019-10-22 16:28:05 [urllib3.connectionpool] DEBUG: Starting new HTTPS connection (1): www.ey.com:443\n"
     ]
    },
    {
     "name": "stdout",
     "output_type": "stream",
     "text": [
      "https://www.ey.com/en_gl/life-sciences/as-data-personalizes-medtech-how-will-you-serve-tomorrows-consumer\n"
     ]
    },
    {
     "name": "stderr",
     "output_type": "stream",
     "text": [
      "2019-10-22 16:28:06 [urllib3.connectionpool] DEBUG: https://www.ey.com:443 \"GET /en_gl/life-sciences/as-data-personalizes-medtech-how-will-you-serve-tomorrows-consumer HTTP/1.1\" 200 21452\n",
      "2019-10-22 16:28:06 [urllib3.connectionpool] DEBUG: Starting new HTTPS connection (1): www.ey.com:443\n"
     ]
    },
    {
     "name": "stdout",
     "output_type": "stream",
     "text": [
      "https://www.ey.com/en_gl/real-estate-hospitality-construction/how-will-robots-make-buildings-more-human\n"
     ]
    },
    {
     "name": "stderr",
     "output_type": "stream",
     "text": [
      "2019-10-22 16:28:07 [urllib3.connectionpool] DEBUG: https://www.ey.com:443 \"GET /en_gl/real-estate-hospitality-construction/how-will-robots-make-buildings-more-human HTTP/1.1\" 200 16985\n",
      "2019-10-22 16:28:07 [urllib3.connectionpool] DEBUG: Starting new HTTPS connection (1): www.ey.com:443\n"
     ]
    },
    {
     "name": "stdout",
     "output_type": "stream",
     "text": [
      "https://www.ey.com/en_gl/financial-services/how-to-optimize-your-intelligent-automation-build\n"
     ]
    },
    {
     "name": "stderr",
     "output_type": "stream",
     "text": [
      "2019-10-22 16:28:09 [urllib3.connectionpool] DEBUG: https://www.ey.com:443 \"GET /en_gl/financial-services/how-to-optimize-your-intelligent-automation-build HTTP/1.1\" 200 14386\n",
      "2019-10-22 16:28:09 [urllib3.connectionpool] DEBUG: Starting new HTTPS connection (1): www.ey.com:443\n"
     ]
    },
    {
     "name": "stdout",
     "output_type": "stream",
     "text": [
      "https://www.ey.com/en_gl/trust/how-to-trust-the-machine--using-ai-to-combat-money-laundering\n"
     ]
    },
    {
     "name": "stderr",
     "output_type": "stream",
     "text": [
      "2019-10-22 16:28:10 [urllib3.connectionpool] DEBUG: https://www.ey.com:443 \"GET /en_gl/trust/how-to-trust-the-machine--using-ai-to-combat-money-laundering HTTP/1.1\" 200 19794\n",
      "2019-10-22 16:28:10 [urllib3.connectionpool] DEBUG: Starting new HTTPS connection (1): www.ey.com:443\n"
     ]
    },
    {
     "name": "stdout",
     "output_type": "stream",
     "text": [
      "https://www.ey.com/en_gl/financial-services/how-to-give-a-flying-start-to-your-intelligent-automation-program\n"
     ]
    },
    {
     "name": "stderr",
     "output_type": "stream",
     "text": [
      "2019-10-22 16:28:11 [urllib3.connectionpool] DEBUG: https://www.ey.com:443 \"GET /en_gl/financial-services/how-to-give-a-flying-start-to-your-intelligent-automation-program HTTP/1.1\" 200 14403\n",
      "2019-10-22 16:28:11 [urllib3.connectionpool] DEBUG: Starting new HTTPS connection (1): www.ey.com:443\n"
     ]
    },
    {
     "name": "stdout",
     "output_type": "stream",
     "text": [
      "https://www.ey.com/en_gl/government-public-sector/how-to-build-the-digital-state\n"
     ]
    },
    {
     "name": "stderr",
     "output_type": "stream",
     "text": [
      "2019-10-22 16:28:12 [urllib3.connectionpool] DEBUG: https://www.ey.com:443 \"GET /en_gl/government-public-sector/how-to-build-the-digital-state HTTP/1.1\" 200 21842\n",
      "2019-10-22 16:28:12 [scrapy.core.engine] DEBUG: Crawled (200) <GET https://www.ey.com/en_gl/advisory/how-ai-is-automating-intelligently> (referer: None)\n",
      "2019-10-22 16:28:12 [scrapy.core.engine] DEBUG: Crawled (200) <GET https://www.ey.com/en_gl/tax/how-a-fit-tax-function-operates-like-a-healthy-body> (referer: None)\n",
      "2019-10-22 16:28:12 [scrapy.core.engine] DEBUG: Crawled (200) <GET https://www.ey.com/en_gl/ai/is-ai-the-start-of-the-truly-creative-human> (referer: None)\n",
      "2019-10-22 16:28:12 [scrapy.core.engine] DEBUG: Crawled (200) <GET https://www.ey.com/en_gl/advisory/how-ai-can-help-defense-organizations-become-smarter-simpler-and-stronger> (referer: None)\n",
      "2019-10-22 16:28:12 [scrapy.core.engine] DEBUG: Crawled (200) <GET https://www.ey.com/en_gl/tax/how-ai-and-robotics-may-change-tax-job-duties> (referer: None)\n",
      "2019-10-22 16:28:12 [scrapy.core.engine] DEBUG: Crawled (200) <GET https://www.ey.com/en_gl/advisory/how-organizations-can-calibrate-to-trust-iot-sensors> (referer: None)\n",
      "2019-10-22 16:28:12 [urllib3.connectionpool] DEBUG: Starting new HTTPS connection (1): www.ey.com:443\n"
     ]
    },
    {
     "name": "stdout",
     "output_type": "stream",
     "text": [
      "https://www.ey.com/en_gl/insurance/three-ways-ai-will-transform-the-insurance-industry\n"
     ]
    },
    {
     "name": "stderr",
     "output_type": "stream",
     "text": [
      "2019-10-22 16:28:13 [urllib3.connectionpool] DEBUG: https://www.ey.com:443 \"GET /en_gl/insurance/three-ways-ai-will-transform-the-insurance-industry HTTP/1.1\" 200 18437\n",
      "2019-10-22 16:28:14 [urllib3.connectionpool] DEBUG: Starting new HTTPS connection (1): www.ey.com:443\n"
     ]
    },
    {
     "name": "stdout",
     "output_type": "stream",
     "text": [
      "https://www.ey.com/en_gl/innovation/how-ai-is-transforming-business-right-now\n"
     ]
    },
    {
     "name": "stderr",
     "output_type": "stream",
     "text": [
      "2019-10-22 16:28:15 [urllib3.connectionpool] DEBUG: https://www.ey.com:443 \"GET /en_gl/innovation/how-ai-is-transforming-business-right-now HTTP/1.1\" 200 13352\n",
      "2019-10-22 16:28:15 [scrapy.core.engine] DEBUG: Crawled (200) <GET https://www.ey.com/en_gl/assurance/why-success-ai-audit-starts-with-asking-right-questions> (referer: None)\n",
      "2019-10-22 16:28:15 [scrapy.core.engine] DEBUG: Crawled (200) <GET https://www.ey.com/en_gl/oil-gas/how-digitalization-can-streamline-oil-and-gas-operations> (referer: None)\n",
      "2019-10-22 16:28:15 [urllib3.connectionpool] DEBUG: Starting new HTTPS connection (1): www.ey.com:443\n"
     ]
    },
    {
     "name": "stdout",
     "output_type": "stream",
     "text": [
      "https://www.ey.com/en_gl/advisory/how-ai-is-automating-intelligently\n"
     ]
    },
    {
     "name": "stderr",
     "output_type": "stream",
     "text": [
      "2019-10-22 16:28:16 [urllib3.connectionpool] DEBUG: https://www.ey.com:443 \"GET /en_gl/advisory/how-ai-is-automating-intelligently HTTP/1.1\" 200 15583\n",
      "2019-10-22 16:28:16 [urllib3.connectionpool] DEBUG: Starting new HTTPS connection (1): www.ey.com:443\n"
     ]
    },
    {
     "name": "stdout",
     "output_type": "stream",
     "text": [
      "https://www.ey.com/en_gl/tax/how-a-fit-tax-function-operates-like-a-healthy-body\n"
     ]
    },
    {
     "name": "stderr",
     "output_type": "stream",
     "text": [
      "2019-10-22 16:28:17 [urllib3.connectionpool] DEBUG: https://www.ey.com:443 \"GET /en_gl/tax/how-a-fit-tax-function-operates-like-a-healthy-body HTTP/1.1\" 200 16876\n",
      "2019-10-22 16:28:17 [urllib3.connectionpool] DEBUG: Starting new HTTPS connection (1): www.ey.com:443\n"
     ]
    },
    {
     "name": "stdout",
     "output_type": "stream",
     "text": [
      "https://www.ey.com/en_gl/ai/is-ai-the-start-of-the-truly-creative-human\n"
     ]
    },
    {
     "name": "stderr",
     "output_type": "stream",
     "text": [
      "2019-10-22 16:28:18 [urllib3.connectionpool] DEBUG: https://www.ey.com:443 \"GET /en_gl/ai/is-ai-the-start-of-the-truly-creative-human HTTP/1.1\" 200 20382\n",
      "2019-10-22 16:28:18 [urllib3.connectionpool] DEBUG: Starting new HTTPS connection (1): www.ey.com:443\n"
     ]
    },
    {
     "name": "stdout",
     "output_type": "stream",
     "text": [
      "https://www.ey.com/en_gl/advisory/how-ai-can-help-defense-organizations-become-smarter-simpler-and-stronger\n"
     ]
    },
    {
     "name": "stderr",
     "output_type": "stream",
     "text": [
      "2019-10-22 16:28:20 [urllib3.connectionpool] DEBUG: https://www.ey.com:443 \"GET /en_gl/advisory/how-ai-can-help-defense-organizations-become-smarter-simpler-and-stronger HTTP/1.1\" 200 16216\n",
      "2019-10-22 16:28:20 [urllib3.connectionpool] DEBUG: Starting new HTTPS connection (1): www.ey.com:443\n"
     ]
    },
    {
     "name": "stdout",
     "output_type": "stream",
     "text": [
      "https://www.ey.com/en_gl/tax/how-ai-and-robotics-may-change-tax-job-duties\n"
     ]
    },
    {
     "name": "stderr",
     "output_type": "stream",
     "text": [
      "2019-10-22 16:28:21 [urllib3.connectionpool] DEBUG: https://www.ey.com:443 \"GET /en_gl/tax/how-ai-and-robotics-may-change-tax-job-duties HTTP/1.1\" 200 16255\n",
      "2019-10-22 16:28:21 [urllib3.connectionpool] DEBUG: Starting new HTTPS connection (1): www.ey.com:443\n"
     ]
    },
    {
     "name": "stdout",
     "output_type": "stream",
     "text": [
      "https://www.ey.com/en_gl/advisory/how-organizations-can-calibrate-to-trust-iot-sensors\n"
     ]
    },
    {
     "name": "stderr",
     "output_type": "stream",
     "text": [
      "2019-10-22 16:28:23 [urllib3.connectionpool] DEBUG: https://www.ey.com:443 \"GET /en_gl/advisory/how-organizations-can-calibrate-to-trust-iot-sensors HTTP/1.1\" 200 16086\n",
      "2019-10-22 16:28:23 [scrapy.core.engine] DEBUG: Crawled (200) <GET https://www.ey.com/en_gl/oil-gas/does-ai-have-the-power-to-refine-oil-and-gas-efficiency> (referer: None)\n",
      "2019-10-22 16:28:23 [scrapy.core.engine] DEBUG: Crawled (200) <GET https://www.ey.com/en_gl/disruption/is-the-next-big-thing-in-manufacturing-the-molecule> (referer: None)\n",
      "2019-10-22 16:28:23 [urllib3.connectionpool] DEBUG: Starting new HTTPS connection (1): www.ey.com:443\n"
     ]
    },
    {
     "name": "stdout",
     "output_type": "stream",
     "text": [
      "https://www.ey.com/en_gl/assurance/why-success-ai-audit-starts-with-asking-right-questions\n"
     ]
    },
    {
     "name": "stderr",
     "output_type": "stream",
     "text": [
      "2019-10-22 16:28:24 [urllib3.connectionpool] DEBUG: https://www.ey.com:443 \"GET /en_gl/assurance/why-success-ai-audit-starts-with-asking-right-questions HTTP/1.1\" 200 14595\n",
      "2019-10-22 16:28:24 [urllib3.connectionpool] DEBUG: Starting new HTTPS connection (1): www.ey.com:443\n"
     ]
    },
    {
     "name": "stdout",
     "output_type": "stream",
     "text": [
      "https://www.ey.com/en_gl/oil-gas/how-digitalization-can-streamline-oil-and-gas-operations\n"
     ]
    },
    {
     "name": "stderr",
     "output_type": "stream",
     "text": [
      "2019-10-22 16:28:25 [urllib3.connectionpool] DEBUG: https://www.ey.com:443 \"GET /en_gl/oil-gas/how-digitalization-can-streamline-oil-and-gas-operations HTTP/1.1\" 200 12943\n",
      "2019-10-22 16:28:25 [scrapy.core.engine] DEBUG: Crawled (200) <GET https://www.ey.com/en_gl/assurance/blind-curve-or-ahead-of-the-curve> (referer: None)\n",
      "2019-10-22 16:28:25 [urllib3.connectionpool] DEBUG: Starting new HTTPS connection (1): www.ey.com:443\n"
     ]
    },
    {
     "name": "stdout",
     "output_type": "stream",
     "text": [
      "https://www.ey.com/en_gl/oil-gas/does-ai-have-the-power-to-refine-oil-and-gas-efficiency\n"
     ]
    },
    {
     "name": "stderr",
     "output_type": "stream",
     "text": [
      "2019-10-22 16:28:26 [urllib3.connectionpool] DEBUG: https://www.ey.com:443 \"GET /en_gl/oil-gas/does-ai-have-the-power-to-refine-oil-and-gas-efficiency HTTP/1.1\" 200 15307\n",
      "2019-10-22 16:28:26 [urllib3.connectionpool] DEBUG: Starting new HTTPS connection (1): www.ey.com:443\n"
     ]
    },
    {
     "name": "stdout",
     "output_type": "stream",
     "text": [
      "https://www.ey.com/en_gl/disruption/is-the-next-big-thing-in-manufacturing-the-molecule\n"
     ]
    },
    {
     "name": "stderr",
     "output_type": "stream",
     "text": [
      "2019-10-22 16:28:27 [urllib3.connectionpool] DEBUG: https://www.ey.com:443 \"GET /en_gl/disruption/is-the-next-big-thing-in-manufacturing-the-molecule HTTP/1.1\" 200 18922\n",
      "2019-10-22 16:28:28 [scrapy.core.engine] DEBUG: Crawled (200) <GET https://www.ey.com/en_gl/board-matters/when-your-board-champions-ai-will-you-win-the-future-consumer> (referer: None)\n",
      "2019-10-22 16:28:28 [urllib3.connectionpool] DEBUG: Starting new HTTPS connection (1): www.ey.com:443\n"
     ]
    },
    {
     "name": "stdout",
     "output_type": "stream",
     "text": [
      "https://www.ey.com/en_gl/assurance/blind-curve-or-ahead-of-the-curve\n"
     ]
    },
    {
     "name": "stderr",
     "output_type": "stream",
     "text": [
      "2019-10-22 16:28:29 [urllib3.connectionpool] DEBUG: https://www.ey.com:443 \"GET /en_gl/assurance/blind-curve-or-ahead-of-the-curve HTTP/1.1\" 200 18768\n",
      "2019-10-22 16:28:29 [scrapy.core.engine] DEBUG: Crawled (200) <GET https://www.ey.com/en_gl/alumni/how-to-bank-the-unbanked> (referer: None)\n",
      "2019-10-22 16:28:29 [urllib3.connectionpool] DEBUG: Starting new HTTPS connection (1): www.ey.com:443\n"
     ]
    },
    {
     "name": "stdout",
     "output_type": "stream",
     "text": [
      "https://www.ey.com/en_gl/board-matters/when-your-board-champions-ai-will-you-win-the-future-consumer\n"
     ]
    },
    {
     "name": "stderr",
     "output_type": "stream",
     "text": [
      "2019-10-22 16:28:30 [urllib3.connectionpool] DEBUG: https://www.ey.com:443 \"GET /en_gl/board-matters/when-your-board-champions-ai-will-you-win-the-future-consumer HTTP/1.1\" 200 15816\n",
      "2019-10-22 16:28:30 [scrapy.core.engine] DEBUG: Crawled (200) <GET https://www.ey.com/en_gl/advisory/inspiring-confidence-in-the-transformative-age> (referer: None)\n",
      "2019-10-22 16:28:30 [urllib3.connectionpool] DEBUG: Starting new HTTPS connection (1): www.ey.com:443\n"
     ]
    },
    {
     "name": "stdout",
     "output_type": "stream",
     "text": [
      "https://www.ey.com/en_gl/alumni/how-to-bank-the-unbanked\n"
     ]
    },
    {
     "name": "stderr",
     "output_type": "stream",
     "text": [
      "2019-10-22 16:28:31 [urllib3.connectionpool] DEBUG: https://www.ey.com:443 \"GET /en_gl/alumni/how-to-bank-the-unbanked HTTP/1.1\" 200 12794\n",
      "2019-10-22 16:28:31 [scrapy.core.engine] DEBUG: Crawled (200) <GET https://www.ey.com/en_gl/advisory/whats-stopping-iot-from-powering-the-future> (referer: None)\n",
      "2019-10-22 16:28:31 [urllib3.connectionpool] DEBUG: Starting new HTTPS connection (1): www.ey.com:443\n"
     ]
    },
    {
     "name": "stdout",
     "output_type": "stream",
     "text": [
      "https://www.ey.com/en_gl/advisory/inspiring-confidence-in-the-transformative-age\n"
     ]
    },
    {
     "name": "stderr",
     "output_type": "stream",
     "text": [
      "2019-10-22 16:28:32 [urllib3.connectionpool] DEBUG: https://www.ey.com:443 \"GET /en_gl/advisory/inspiring-confidence-in-the-transformative-age HTTP/1.1\" 200 15281\n",
      "2019-10-22 16:28:32 [scrapy.core.engine] DEBUG: Crawled (200) <GET https://www.ey.com/en_gl/tax/how-ai-looks-to-upend-the-tax-function-s-80-20-rule> (referer: None)\n",
      "2019-10-22 16:28:32 [urllib3.connectionpool] DEBUG: Starting new HTTPS connection (1): www.ey.com:443\n"
     ]
    },
    {
     "name": "stdout",
     "output_type": "stream",
     "text": [
      "https://www.ey.com/en_gl/advisory/whats-stopping-iot-from-powering-the-future\n"
     ]
    },
    {
     "name": "stderr",
     "output_type": "stream",
     "text": [
      "2019-10-22 16:28:33 [urllib3.connectionpool] DEBUG: https://www.ey.com:443 \"GET /en_gl/advisory/whats-stopping-iot-from-powering-the-future HTTP/1.1\" 200 15421\n",
      "2019-10-22 16:28:34 [scrapy.core.engine] DEBUG: Crawled (200) <GET https://www.ey.com/en_gl/innovation/what-is-intelligence-without-trust-> (referer: None)\n",
      "2019-10-22 16:28:34 [urllib3.connectionpool] DEBUG: Starting new HTTPS connection (1): www.ey.com:443\n"
     ]
    },
    {
     "name": "stdout",
     "output_type": "stream",
     "text": [
      "https://www.ey.com/en_gl/tax/how-ai-looks-to-upend-the-tax-function-s-80-20-rule\n"
     ]
    },
    {
     "name": "stderr",
     "output_type": "stream",
     "text": [
      "2019-10-22 16:28:35 [urllib3.connectionpool] DEBUG: https://www.ey.com:443 \"GET /en_gl/tax/how-ai-looks-to-upend-the-tax-function-s-80-20-rule HTTP/1.1\" 200 16637\n",
      "2019-10-22 16:28:35 [scrapy.core.engine] DEBUG: Crawled (200) <GET https://www.ey.com/en_gl/government-public-sector/how-does-digital-government-become-better-government> (referer: None)\n",
      "2019-10-22 16:28:35 [urllib3.connectionpool] DEBUG: Starting new HTTPS connection (1): www.ey.com:443\n"
     ]
    },
    {
     "name": "stdout",
     "output_type": "stream",
     "text": [
      "https://www.ey.com/en_gl/innovation/what-is-intelligence-without-trust-\n"
     ]
    },
    {
     "name": "stderr",
     "output_type": "stream",
     "text": [
      "2019-10-22 16:28:36 [urllib3.connectionpool] DEBUG: https://www.ey.com:443 \"GET /en_gl/innovation/what-is-intelligence-without-trust- HTTP/1.1\" 200 16504\n",
      "2019-10-22 16:28:36 [scrapy.core.engine] DEBUG: Crawled (200) <GET https://www.ey.com/en_gl/innovation-realized/how-to-keep-it-human-in-the-machine-age> (referer: None)\n",
      "2019-10-22 16:28:36 [urllib3.connectionpool] DEBUG: Starting new HTTPS connection (1): www.ey.com:443\n"
     ]
    },
    {
     "name": "stdout",
     "output_type": "stream",
     "text": [
      "https://www.ey.com/en_gl/government-public-sector/how-does-digital-government-become-better-government\n"
     ]
    },
    {
     "name": "stderr",
     "output_type": "stream",
     "text": [
      "2019-10-22 16:28:38 [urllib3.connectionpool] DEBUG: https://www.ey.com:443 \"GET /en_gl/government-public-sector/how-does-digital-government-become-better-government HTTP/1.1\" 200 24095\n",
      "2019-10-22 16:28:38 [scrapy.core.engine] DEBUG: Crawled (200) <GET https://www.ey.com/en_gl/innovation-realized/five-predictions-for-what-human-capital-will-mean-for-ceos-in-the-future-workforce> (referer: None)\n",
      "2019-10-22 16:28:38 [urllib3.connectionpool] DEBUG: Starting new HTTPS connection (1): www.ey.com:443\n"
     ]
    },
    {
     "name": "stdout",
     "output_type": "stream",
     "text": [
      "https://www.ey.com/en_gl/innovation-realized/how-to-keep-it-human-in-the-machine-age\n"
     ]
    },
    {
     "name": "stderr",
     "output_type": "stream",
     "text": [
      "2019-10-22 16:28:39 [urllib3.connectionpool] DEBUG: https://www.ey.com:443 \"GET /en_gl/innovation-realized/how-to-keep-it-human-in-the-machine-age HTTP/1.1\" 200 15489\n",
      "2019-10-22 16:28:39 [scrapy.core.engine] DEBUG: Crawled (200) <GET https://www.ey.com/en_gl/assurance/how-the-technology-sector-can-help-society-seize-the-upside-of-disruption> (referer: None)\n",
      "2019-10-22 16:28:39 [urllib3.connectionpool] DEBUG: Starting new HTTPS connection (1): www.ey.com:443\n"
     ]
    },
    {
     "name": "stdout",
     "output_type": "stream",
     "text": [
      "https://www.ey.com/en_gl/innovation-realized/five-predictions-for-what-human-capital-will-mean-for-ceos-in-the-future-workforce\n"
     ]
    },
    {
     "name": "stderr",
     "output_type": "stream",
     "text": [
      "2019-10-22 16:28:40 [urllib3.connectionpool] DEBUG: https://www.ey.com:443 \"GET /en_gl/innovation-realized/five-predictions-for-what-human-capital-will-mean-for-ceos-in-the-future-workforce HTTP/1.1\" 200 15511\n",
      "2019-10-22 16:28:40 [scrapy.core.engine] DEBUG: Crawled (200) <GET https://www.ey.com/en_gl/government-public-sector/welcome-to-e-stonia-a-digital-pioneer-stakes-a-claim-in-ai-s-landscape> (referer: None)\n",
      "2019-10-22 16:28:40 [urllib3.connectionpool] DEBUG: Starting new HTTPS connection (1): www.ey.com:443\n"
     ]
    },
    {
     "name": "stdout",
     "output_type": "stream",
     "text": [
      "https://www.ey.com/en_gl/assurance/how-the-technology-sector-can-help-society-seize-the-upside-of-disruption\n"
     ]
    },
    {
     "name": "stderr",
     "output_type": "stream",
     "text": [
      "2019-10-22 16:28:41 [urllib3.connectionpool] DEBUG: https://www.ey.com:443 \"GET /en_gl/assurance/how-the-technology-sector-can-help-society-seize-the-upside-of-disruption HTTP/1.1\" 200 17127\n",
      "2019-10-22 16:28:42 [scrapy.core.engine] DEBUG: Crawled (200) <GET https://www.ey.com/en_gl/advisory/how-you-can-turn-emerging-technology-into-a-competitive-advantage> (referer: None)\n",
      "2019-10-22 16:28:42 [urllib3.connectionpool] DEBUG: Starting new HTTPS connection (1): www.ey.com:443\n"
     ]
    },
    {
     "name": "stdout",
     "output_type": "stream",
     "text": [
      "https://www.ey.com/en_gl/government-public-sector/welcome-to-e-stonia-a-digital-pioneer-stakes-a-claim-in-ai-s-landscape\n"
     ]
    },
    {
     "name": "stderr",
     "output_type": "stream",
     "text": [
      "2019-10-22 16:28:43 [urllib3.connectionpool] DEBUG: https://www.ey.com:443 \"GET /en_gl/government-public-sector/welcome-to-e-stonia-a-digital-pioneer-stakes-a-claim-in-ai-s-landscape HTTP/1.1\" 200 15478\n",
      "2019-10-22 16:28:43 [scrapy.core.engine] DEBUG: Crawled (200) <GET https://www.ey.com/en_gl/wef/why-we-need-to-solve-the-issue-of-gender-bias-before-ai-makes-it> (referer: None)\n",
      "2019-10-22 16:28:43 [urllib3.connectionpool] DEBUG: Starting new HTTPS connection (1): www.ey.com:443\n"
     ]
    },
    {
     "name": "stdout",
     "output_type": "stream",
     "text": [
      "https://www.ey.com/en_gl/advisory/how-you-can-turn-emerging-technology-into-a-competitive-advantage\n"
     ]
    },
    {
     "name": "stderr",
     "output_type": "stream",
     "text": [
      "2019-10-22 16:28:44 [urllib3.connectionpool] DEBUG: https://www.ey.com:443 \"GET /en_gl/advisory/how-you-can-turn-emerging-technology-into-a-competitive-advantage HTTP/1.1\" 200 17132\n",
      "2019-10-22 16:28:44 [scrapy.core.engine] DEBUG: Crawled (200) <GET https://www.ey.com/en_gl/digital-audit/audit-digitization-transformative-age> (referer: None)\n",
      "2019-10-22 16:28:44 [urllib3.connectionpool] DEBUG: Starting new HTTPS connection (1): www.ey.com:443\n"
     ]
    },
    {
     "name": "stdout",
     "output_type": "stream",
     "text": [
      "https://www.ey.com/en_gl/wef/why-we-need-to-solve-the-issue-of-gender-bias-before-ai-makes-it\n"
     ]
    },
    {
     "name": "stderr",
     "output_type": "stream",
     "text": [
      "2019-10-22 16:28:45 [urllib3.connectionpool] DEBUG: https://www.ey.com:443 \"GET /en_gl/wef/why-we-need-to-solve-the-issue-of-gender-bias-before-ai-makes-it HTTP/1.1\" 200 15548\n",
      "2019-10-22 16:28:45 [scrapy.core.engine] DEBUG: Crawled (200) <GET https://www.ey.com/en_gl/tmt/how-we-can-unlock-the-power-of-data-to-redefine-health> (referer: None)\n",
      "2019-10-22 16:28:45 [urllib3.connectionpool] DEBUG: Starting new HTTPS connection (1): www.ey.com:443\n"
     ]
    },
    {
     "name": "stdout",
     "output_type": "stream",
     "text": [
      "https://www.ey.com/en_gl/digital-audit/audit-digitization-transformative-age\n"
     ]
    },
    {
     "name": "stderr",
     "output_type": "stream",
     "text": [
      "2019-10-22 16:28:47 [urllib3.connectionpool] DEBUG: https://www.ey.com:443 \"GET /en_gl/digital-audit/audit-digitization-transformative-age HTTP/1.1\" 200 13688\n",
      "2019-10-22 16:28:47 [scrapy.core.engine] DEBUG: Crawled (200) <GET https://www.ey.com/en_gl/women-fast-forward/why-ai-could-correct-the-gender-imbalance-right-up-to-the-boardroom> (referer: None)\n",
      "2019-10-22 16:28:47 [urllib3.connectionpool] DEBUG: Starting new HTTPS connection (1): www.ey.com:443\n"
     ]
    },
    {
     "name": "stdout",
     "output_type": "stream",
     "text": [
      "https://www.ey.com/en_gl/tmt/how-we-can-unlock-the-power-of-data-to-redefine-health\n"
     ]
    },
    {
     "name": "stderr",
     "output_type": "stream",
     "text": [
      "2019-10-22 16:28:48 [urllib3.connectionpool] DEBUG: https://www.ey.com:443 \"GET /en_gl/tmt/how-we-can-unlock-the-power-of-data-to-redefine-health HTTP/1.1\" 200 14914\n",
      "2019-10-22 16:28:48 [scrapy.core.engine] DEBUG: Crawled (200) <GET https://www.ey.com/en_gl/tmt/how-brands-can-attract-and-keep-customers-in-micro-moments> (referer: None)\n",
      "2019-10-22 16:28:48 [urllib3.connectionpool] DEBUG: Starting new HTTPS connection (1): www.ey.com:443\n"
     ]
    },
    {
     "name": "stdout",
     "output_type": "stream",
     "text": [
      "https://www.ey.com/en_gl/women-fast-forward/why-ai-could-correct-the-gender-imbalance-right-up-to-the-boardroom\n"
     ]
    },
    {
     "name": "stderr",
     "output_type": "stream",
     "text": [
      "2019-10-22 16:28:49 [urllib3.connectionpool] DEBUG: https://www.ey.com:443 \"GET /en_gl/women-fast-forward/why-ai-could-correct-the-gender-imbalance-right-up-to-the-boardroom HTTP/1.1\" 200 17161\n",
      "2019-10-22 16:28:49 [scrapy.core.engine] DEBUG: Crawled (200) <GET https://www.ey.com/en_gl/tmt/how-tmt-companies-can-catch-the-next-wave-when-future-markets-dont-yet-exist> (referer: None)\n",
      "2019-10-22 16:28:49 [urllib3.connectionpool] DEBUG: Starting new HTTPS connection (1): www.ey.com:443\n"
     ]
    },
    {
     "name": "stdout",
     "output_type": "stream",
     "text": [
      "https://www.ey.com/en_gl/tmt/how-brands-can-attract-and-keep-customers-in-micro-moments\n"
     ]
    },
    {
     "name": "stderr",
     "output_type": "stream",
     "text": [
      "2019-10-22 16:28:50 [urllib3.connectionpool] DEBUG: https://www.ey.com:443 \"GET /en_gl/tmt/how-brands-can-attract-and-keep-customers-in-micro-moments HTTP/1.1\" 200 14486\n",
      "2019-10-22 16:28:50 [scrapy.core.engine] DEBUG: Crawled (200) <GET https://www.ey.com/en_gl/advisory/how-ai-can-be-a-force-for-good-in-government> (referer: None)\n",
      "2019-10-22 16:28:50 [urllib3.connectionpool] DEBUG: Starting new HTTPS connection (1): www.ey.com:443\n"
     ]
    },
    {
     "name": "stdout",
     "output_type": "stream",
     "text": [
      "https://www.ey.com/en_gl/tmt/how-tmt-companies-can-catch-the-next-wave-when-future-markets-dont-yet-exist\n"
     ]
    },
    {
     "name": "stderr",
     "output_type": "stream",
     "text": [
      "2019-10-22 16:28:51 [urllib3.connectionpool] DEBUG: https://www.ey.com:443 \"GET /en_gl/tmt/how-tmt-companies-can-catch-the-next-wave-when-future-markets-dont-yet-exist HTTP/1.1\" 200 14867\n",
      "2019-10-22 16:28:52 [scrapy.core.engine] DEBUG: Crawled (200) <GET https://www.ey.com/en_gl/government-public-sector/how-global-macroeconomics-might-shape-policy-in-2019> (referer: None)\n",
      "2019-10-22 16:28:52 [urllib3.connectionpool] DEBUG: Starting new HTTPS connection (1): www.ey.com:443\n"
     ]
    },
    {
     "name": "stdout",
     "output_type": "stream",
     "text": [
      "https://www.ey.com/en_gl/advisory/how-ai-can-be-a-force-for-good-in-government\n"
     ]
    },
    {
     "name": "stderr",
     "output_type": "stream",
     "text": [
      "2019-10-22 16:28:53 [urllib3.connectionpool] DEBUG: https://www.ey.com:443 \"GET /en_gl/advisory/how-ai-can-be-a-force-for-good-in-government HTTP/1.1\" 200 17365\n",
      "2019-10-22 16:28:53 [scrapy.core.engine] DEBUG: Crawled (200) <GET https://www.ey.com/en_gl/advisory/how-to-manage-the-evolving-risks-of-emerging-technology> (referer: None)\n",
      "2019-10-22 16:28:53 [urllib3.connectionpool] DEBUG: Starting new HTTPS connection (1): www.ey.com:443\n"
     ]
    },
    {
     "name": "stdout",
     "output_type": "stream",
     "text": [
      "https://www.ey.com/en_gl/government-public-sector/how-global-macroeconomics-might-shape-policy-in-2019\n"
     ]
    },
    {
     "name": "stderr",
     "output_type": "stream",
     "text": [
      "2019-10-22 16:28:54 [urllib3.connectionpool] DEBUG: https://www.ey.com:443 \"GET /en_gl/government-public-sector/how-global-macroeconomics-might-shape-policy-in-2019 HTTP/1.1\" 200 18379\n",
      "2019-10-22 16:28:54 [scrapy.core.engine] DEBUG: Crawled (200) <GET https://www.ey.com/en_gl/ai/three-ways-to-protect-your-ai-investment-from-a-winter-of-discontent> (referer: None)\n",
      "2019-10-22 16:28:54 [urllib3.connectionpool] DEBUG: Starting new HTTPS connection (1): www.ey.com:443\n"
     ]
    },
    {
     "name": "stdout",
     "output_type": "stream",
     "text": [
      "https://www.ey.com/en_gl/advisory/how-to-manage-the-evolving-risks-of-emerging-technology\n"
     ]
    },
    {
     "name": "stderr",
     "output_type": "stream",
     "text": [
      "2019-10-22 16:28:55 [urllib3.connectionpool] DEBUG: https://www.ey.com:443 \"GET /en_gl/advisory/how-to-manage-the-evolving-risks-of-emerging-technology HTTP/1.1\" 200 15195\n",
      "2019-10-22 16:28:55 [scrapy.core.engine] DEBUG: Crawled (200) <GET https://www.ey.com/en_gl/disruption/behavioral-design-megatrend> (referer: None)\n",
      "2019-10-22 16:28:55 [urllib3.connectionpool] DEBUG: Starting new HTTPS connection (1): www.ey.com:443\n"
     ]
    },
    {
     "name": "stdout",
     "output_type": "stream",
     "text": [
      "https://www.ey.com/en_gl/ai/three-ways-to-protect-your-ai-investment-from-a-winter-of-discontent\n"
     ]
    },
    {
     "name": "stderr",
     "output_type": "stream",
     "text": [
      "2019-10-22 16:28:56 [urllib3.connectionpool] DEBUG: https://www.ey.com:443 \"GET /en_gl/ai/three-ways-to-protect-your-ai-investment-from-a-winter-of-discontent HTTP/1.1\" 200 22072\n",
      "2019-10-22 16:28:57 [scrapy.core.engine] DEBUG: Crawled (200) <GET https://www.ey.com/en_gl/wef/how-to-embrace-ai-responsibly-and-make-it-inclusive> (referer: None)\n",
      "2019-10-22 16:28:57 [urllib3.connectionpool] DEBUG: Starting new HTTPS connection (1): www.ey.com:443\n"
     ]
    },
    {
     "name": "stdout",
     "output_type": "stream",
     "text": [
      "https://www.ey.com/en_gl/disruption/behavioral-design-megatrend\n"
     ]
    },
    {
     "name": "stderr",
     "output_type": "stream",
     "text": [
      "2019-10-22 16:28:58 [urllib3.connectionpool] DEBUG: https://www.ey.com:443 \"GET /en_gl/disruption/behavioral-design-megatrend HTTP/1.1\" 200 17165\n",
      "2019-10-22 16:28:58 [scrapy.core.engine] DEBUG: Crawled (200) <GET https://www.ey.com/en_gl/oil-gas/is-ai-the-fuel-oil-and-gas-needs> (referer: None)\n",
      "2019-10-22 16:28:58 [urllib3.connectionpool] DEBUG: Starting new HTTPS connection (1): www.ey.com:443\n"
     ]
    },
    {
     "name": "stdout",
     "output_type": "stream",
     "text": [
      "https://www.ey.com/en_gl/wef/how-to-embrace-ai-responsibly-and-make-it-inclusive\n"
     ]
    },
    {
     "name": "stderr",
     "output_type": "stream",
     "text": [
      "2019-10-22 16:28:59 [urllib3.connectionpool] DEBUG: https://www.ey.com:443 \"GET /en_gl/wef/how-to-embrace-ai-responsibly-and-make-it-inclusive HTTP/1.1\" 200 14704\n",
      "2019-10-22 16:28:59 [scrapy.core.engine] DEBUG: Crawled (200) <GET https://www.ey.com/en_gl/wealth-asset-management/ey-why-wealth-could-be-the-next-big-service> (referer: None)\n",
      "2019-10-22 16:28:59 [urllib3.connectionpool] DEBUG: Starting new HTTPS connection (1): www.ey.com:443\n"
     ]
    },
    {
     "name": "stdout",
     "output_type": "stream",
     "text": [
      "https://www.ey.com/en_gl/oil-gas/is-ai-the-fuel-oil-and-gas-needs\n"
     ]
    },
    {
     "name": "stderr",
     "output_type": "stream",
     "text": [
      "2019-10-22 16:29:00 [urllib3.connectionpool] DEBUG: https://www.ey.com:443 \"GET /en_gl/oil-gas/is-ai-the-fuel-oil-and-gas-needs HTTP/1.1\" 200 19626\n",
      "2019-10-22 16:29:00 [scrapy.core.engine] DEBUG: Crawled (200) <GET https://www.ey.com/en_gl/automotive-transportation/with-ai-at-the-wheel--will-your-board-steer-the-course-> (referer: None)\n",
      "2019-10-22 16:29:00 [urllib3.connectionpool] DEBUG: Starting new HTTPS connection (1): www.ey.com:443\n"
     ]
    },
    {
     "name": "stdout",
     "output_type": "stream",
     "text": [
      "https://www.ey.com/en_gl/wealth-asset-management/ey-why-wealth-could-be-the-next-big-service\n"
     ]
    },
    {
     "name": "stderr",
     "output_type": "stream",
     "text": [
      "2019-10-22 16:29:01 [urllib3.connectionpool] DEBUG: https://www.ey.com:443 \"GET /en_gl/wealth-asset-management/ey-why-wealth-could-be-the-next-big-service HTTP/1.1\" 200 14838\n",
      "2019-10-22 16:29:01 [scrapy.extensions.logstats] INFO: Crawled 49 pages (at 49 pages/min), scraped 0 items (at 0 items/min)\n",
      "2019-10-22 16:29:01 [scrapy.core.engine] DEBUG: Crawled (200) <GET https://www.ey.com/en_gl/advisory/how-to-unleash-the-transformational-potential-of-emerging-tech> (referer: None)\n",
      "2019-10-22 16:29:01 [urllib3.connectionpool] DEBUG: Starting new HTTPS connection (1): www.ey.com:443\n"
     ]
    },
    {
     "name": "stdout",
     "output_type": "stream",
     "text": [
      "https://www.ey.com/en_gl/automotive-transportation/with-ai-at-the-wheel--will-your-board-steer-the-course-\n"
     ]
    },
    {
     "name": "stderr",
     "output_type": "stream",
     "text": [
      "2019-10-22 16:29:03 [urllib3.connectionpool] DEBUG: https://www.ey.com:443 \"GET /en_gl/automotive-transportation/with-ai-at-the-wheel--will-your-board-steer-the-course- HTTP/1.1\" 200 15993\n",
      "2019-10-22 16:29:03 [scrapy.core.engine] DEBUG: Crawled (200) <GET https://www.ey.com/en_gl/wealth-asset-management/harnessing-the-power-of-ai-to-augment-human-investment-decision-making> (referer: None)\n",
      "2019-10-22 16:29:03 [urllib3.connectionpool] DEBUG: Starting new HTTPS connection (1): www.ey.com:443\n"
     ]
    },
    {
     "name": "stdout",
     "output_type": "stream",
     "text": [
      "https://www.ey.com/en_gl/advisory/how-to-unleash-the-transformational-potential-of-emerging-tech\n"
     ]
    },
    {
     "name": "stderr",
     "output_type": "stream",
     "text": [
      "2019-10-22 16:29:04 [urllib3.connectionpool] DEBUG: https://www.ey.com:443 \"GET /en_gl/advisory/how-to-unleash-the-transformational-potential-of-emerging-tech HTTP/1.1\" 200 14963\n",
      "2019-10-22 16:29:04 [scrapy.core.engine] DEBUG: Crawled (200) <GET https://www.ey.com/en_gl/workforce/how-do-you-ensure-you-are-automating-intelligently> (referer: None)\n",
      "2019-10-22 16:29:04 [urllib3.connectionpool] DEBUG: Starting new HTTPS connection (1): www.ey.com:443\n"
     ]
    },
    {
     "name": "stdout",
     "output_type": "stream",
     "text": [
      "https://www.ey.com/en_gl/wealth-asset-management/harnessing-the-power-of-ai-to-augment-human-investment-decision-making\n"
     ]
    },
    {
     "name": "stderr",
     "output_type": "stream",
     "text": [
      "2019-10-22 16:29:05 [urllib3.connectionpool] DEBUG: https://www.ey.com:443 \"GET /en_gl/wealth-asset-management/harnessing-the-power-of-ai-to-augment-human-investment-decision-making HTTP/1.1\" 200 13529\n",
      "2019-10-22 16:29:05 [scrapy.core.engine] DEBUG: Crawled (200) <GET https://www.ey.com/en_gl/financial-services-emeia/eight-tips-for-successful-intelligent-automation-projects> (referer: None)\n",
      "2019-10-22 16:29:05 [urllib3.connectionpool] DEBUG: Starting new HTTPS connection (1): www.ey.com:443\n"
     ]
    },
    {
     "name": "stdout",
     "output_type": "stream",
     "text": [
      "https://www.ey.com/en_gl/workforce/how-do-you-ensure-you-are-automating-intelligently\n"
     ]
    },
    {
     "name": "stderr",
     "output_type": "stream",
     "text": [
      "2019-10-22 16:29:06 [urllib3.connectionpool] DEBUG: https://www.ey.com:443 \"GET /en_gl/workforce/how-do-you-ensure-you-are-automating-intelligently HTTP/1.1\" 200 23308\n",
      "2019-10-22 16:29:06 [scrapy.core.engine] DEBUG: Crawled (200) <GET https://www.ey.com/en_gl/digital/how-can-you-build-trust-when-emerging-technologies-bring-new-risks> (referer: None)\n",
      "2019-10-22 16:29:06 [urllib3.connectionpool] DEBUG: Starting new HTTPS connection (1): www.ey.com:443\n"
     ]
    },
    {
     "name": "stdout",
     "output_type": "stream",
     "text": [
      "https://www.ey.com/en_gl/financial-services-emeia/eight-tips-for-successful-intelligent-automation-projects\n"
     ]
    },
    {
     "name": "stderr",
     "output_type": "stream",
     "text": [
      "2019-10-22 16:29:07 [urllib3.connectionpool] DEBUG: https://www.ey.com:443 \"GET /en_gl/financial-services-emeia/eight-tips-for-successful-intelligent-automation-projects HTTP/1.1\" 200 15834\n",
      "2019-10-22 16:29:08 [scrapy.core.engine] DEBUG: Crawled (200) <GET https://www.ey.com/en_gl/life-sciences/how-medtechs-will-create-value-in-the-new-health-ecosystem> (referer: None)\n",
      "2019-10-22 16:29:08 [urllib3.connectionpool] DEBUG: Starting new HTTPS connection (1): www.ey.com:443\n"
     ]
    },
    {
     "name": "stdout",
     "output_type": "stream",
     "text": [
      "https://www.ey.com/en_gl/digital/how-can-you-build-trust-when-emerging-technologies-bring-new-risks\n"
     ]
    },
    {
     "name": "stderr",
     "output_type": "stream",
     "text": [
      "2019-10-22 16:29:09 [urllib3.connectionpool] DEBUG: https://www.ey.com:443 \"GET /en_gl/digital/how-can-you-build-trust-when-emerging-technologies-bring-new-risks HTTP/1.1\" 200 18182\n",
      "2019-10-22 16:29:09 [scrapy.core.engine] DEBUG: Crawled (200) <GET https://www.ey.com/en_gl/tmt/intelligent-automation--how-to-reshape-the-future-of-work> (referer: None)\n",
      "2019-10-22 16:29:09 [urllib3.connectionpool] DEBUG: Starting new HTTPS connection (1): www.ey.com:443\n"
     ]
    },
    {
     "name": "stdout",
     "output_type": "stream",
     "text": [
      "https://www.ey.com/en_gl/life-sciences/how-medtechs-will-create-value-in-the-new-health-ecosystem\n"
     ]
    },
    {
     "name": "stderr",
     "output_type": "stream",
     "text": [
      "2019-10-22 16:29:10 [urllib3.connectionpool] DEBUG: https://www.ey.com:443 \"GET /en_gl/life-sciences/how-medtechs-will-create-value-in-the-new-health-ecosystem HTTP/1.1\" 200 21425\n",
      "2019-10-22 16:29:10 [scrapy.core.engine] DEBUG: Crawled (200) <GET https://www.ey.com/en_gl/wealth-asset-management/how-investment-firms-can-optimize-their-big-data-strategy> (referer: None)\n",
      "2019-10-22 16:29:10 [urllib3.connectionpool] DEBUG: Starting new HTTPS connection (1): www.ey.com:443\n"
     ]
    },
    {
     "name": "stdout",
     "output_type": "stream",
     "text": [
      "https://www.ey.com/en_gl/tmt/intelligent-automation--how-to-reshape-the-future-of-work\n"
     ]
    },
    {
     "name": "stderr",
     "output_type": "stream",
     "text": [
      "2019-10-22 16:29:11 [urllib3.connectionpool] DEBUG: https://www.ey.com:443 \"GET /en_gl/tmt/intelligent-automation--how-to-reshape-the-future-of-work HTTP/1.1\" 200 15352\n",
      "2019-10-22 16:29:11 [scrapy.core.engine] DEBUG: Crawled (200) <GET https://www.ey.com/en_gl/digital/how-do-you-teach-ai-the-value-of-trust> (referer: None)\n",
      "2019-10-22 16:29:11 [urllib3.connectionpool] DEBUG: Starting new HTTPS connection (1): www.ey.com:443\n"
     ]
    },
    {
     "name": "stdout",
     "output_type": "stream",
     "text": [
      "https://www.ey.com/en_gl/wealth-asset-management/how-investment-firms-can-optimize-their-big-data-strategy\n"
     ]
    },
    {
     "name": "stderr",
     "output_type": "stream",
     "text": [
      "2019-10-22 16:29:12 [urllib3.connectionpool] DEBUG: https://www.ey.com:443 \"GET /en_gl/wealth-asset-management/how-investment-firms-can-optimize-their-big-data-strategy HTTP/1.1\" 200 14366\n",
      "2019-10-22 16:29:13 [scrapy.core.engine] DEBUG: Crawled (200) <GET https://www.ey.com/en_gl/advisory/how-can-the-digitalized-agile-organization-of-the-future-still-be-rooted-in-human-values> (referer: None)\n",
      "2019-10-22 16:29:13 [urllib3.connectionpool] DEBUG: Starting new HTTPS connection (1): www.ey.com:443\n"
     ]
    },
    {
     "name": "stdout",
     "output_type": "stream",
     "text": [
      "https://www.ey.com/en_gl/digital/how-do-you-teach-ai-the-value-of-trust\n"
     ]
    },
    {
     "name": "stderr",
     "output_type": "stream",
     "text": [
      "2019-10-22 16:29:14 [urllib3.connectionpool] DEBUG: https://www.ey.com:443 \"GET /en_gl/digital/how-do-you-teach-ai-the-value-of-trust HTTP/1.1\" 200 20962\n",
      "2019-10-22 16:29:14 [scrapy.core.engine] DEBUG: Crawled (200) <GET https://www.ey.com/en_gl/assurance/how-artificial-intelligence-will-transform-the-audit> (referer: None)\n",
      "2019-10-22 16:29:14 [urllib3.connectionpool] DEBUG: Starting new HTTPS connection (1): www.ey.com:443\n"
     ]
    },
    {
     "name": "stdout",
     "output_type": "stream",
     "text": [
      "https://www.ey.com/en_gl/advisory/how-can-the-digitalized-agile-organization-of-the-future-still-be-rooted-in-human-values\n"
     ]
    },
    {
     "name": "stderr",
     "output_type": "stream",
     "text": [
      "2019-10-22 16:29:15 [urllib3.connectionpool] DEBUG: https://www.ey.com:443 \"GET /en_gl/advisory/how-can-the-digitalized-agile-organization-of-the-future-still-be-rooted-in-human-values HTTP/1.1\" 200 16231\n",
      "2019-10-22 16:29:15 [scrapy.core.engine] DEBUG: Crawled (200) <GET https://www.ey.com/en_gl/growth/growth-barometer-europe-2018> (referer: None)\n",
      "2019-10-22 16:29:15 [urllib3.connectionpool] DEBUG: Starting new HTTPS connection (1): www.ey.com:443\n"
     ]
    },
    {
     "name": "stdout",
     "output_type": "stream",
     "text": [
      "https://www.ey.com/en_gl/assurance/how-artificial-intelligence-will-transform-the-audit\n"
     ]
    },
    {
     "name": "stderr",
     "output_type": "stream",
     "text": [
      "2019-10-22 16:29:16 [urllib3.connectionpool] DEBUG: https://www.ey.com:443 \"GET /en_gl/assurance/how-artificial-intelligence-will-transform-the-audit HTTP/1.1\" 200 13018\n",
      "2019-10-22 16:29:16 [scrapy.core.engine] DEBUG: Crawled (200) <GET https://www.ey.com/en_gl/advisory/three-ways-companies-can-be-intelligent-about-artificial-intelligence> (referer: None)\n",
      "2019-10-22 16:29:16 [urllib3.connectionpool] DEBUG: Starting new HTTPS connection (1): www.ey.com:443\n"
     ]
    },
    {
     "name": "stdout",
     "output_type": "stream",
     "text": [
      "https://www.ey.com/en_gl/growth/growth-barometer-europe-2018\n"
     ]
    },
    {
     "name": "stderr",
     "output_type": "stream",
     "text": [
      "2019-10-22 16:29:17 [urllib3.connectionpool] DEBUG: https://www.ey.com:443 \"GET /en_gl/growth/growth-barometer-europe-2018 HTTP/1.1\" 200 21108\n",
      "2019-10-22 16:29:17 [scrapy.core.engine] DEBUG: Crawled (200) <GET https://www.ey.com/en_gl/workforce/if-a-market-is-truly-frictionless--where-does-the-value-lie> (referer: None)\n",
      "2019-10-22 16:29:18 [urllib3.connectionpool] DEBUG: Starting new HTTPS connection (1): www.ey.com:443\n"
     ]
    },
    {
     "name": "stdout",
     "output_type": "stream",
     "text": [
      "https://www.ey.com/en_gl/advisory/three-ways-companies-can-be-intelligent-about-artificial-intelligence\n"
     ]
    },
    {
     "name": "stderr",
     "output_type": "stream",
     "text": [
      "2019-10-22 16:29:19 [urllib3.connectionpool] DEBUG: https://www.ey.com:443 \"GET /en_gl/advisory/three-ways-companies-can-be-intelligent-about-artificial-intelligence HTTP/1.1\" 200 14707\n",
      "2019-10-22 16:29:19 [scrapy.core.engine] DEBUG: Crawled (200) <GET https://www.ey.com/en_gl/purpose/how-a-new-approach-to-standard-practice-is-inspiring-change> (referer: None)\n",
      "2019-10-22 16:29:19 [urllib3.connectionpool] DEBUG: Starting new HTTPS connection (1): www.ey.com:443\n"
     ]
    },
    {
     "name": "stdout",
     "output_type": "stream",
     "text": [
      "https://www.ey.com/en_gl/workforce/if-a-market-is-truly-frictionless--where-does-the-value-lie\n"
     ]
    },
    {
     "name": "stderr",
     "output_type": "stream",
     "text": [
      "2019-10-22 16:29:20 [urllib3.connectionpool] DEBUG: https://www.ey.com:443 \"GET /en_gl/workforce/if-a-market-is-truly-frictionless--where-does-the-value-lie HTTP/1.1\" 200 13956\n",
      "2019-10-22 16:29:20 [scrapy.core.engine] DEBUG: Crawled (200) <GET https://www.ey.com/en_gl/digital/can-advanced-technologies-help-auditors-make-the-hard-to-see-eas> (referer: None)\n",
      "2019-10-22 16:29:20 [urllib3.connectionpool] DEBUG: Starting new HTTPS connection (1): www.ey.com:443\n"
     ]
    },
    {
     "name": "stdout",
     "output_type": "stream",
     "text": [
      "https://www.ey.com/en_gl/purpose/how-a-new-approach-to-standard-practice-is-inspiring-change\n"
     ]
    },
    {
     "name": "stderr",
     "output_type": "stream",
     "text": [
      "2019-10-22 16:29:21 [urllib3.connectionpool] DEBUG: https://www.ey.com:443 \"GET /en_gl/purpose/how-a-new-approach-to-standard-practice-is-inspiring-change HTTP/1.1\" 200 11422\n",
      "2019-10-22 16:29:21 [scrapy.core.engine] DEBUG: Crawled (200) <GET https://www.ey.com/en_gl/digital/how-rpa-can-improve-efficiency-and-employee-engagement> (referer: None)\n",
      "2019-10-22 16:29:21 [urllib3.connectionpool] DEBUG: Starting new HTTPS connection (1): www.ey.com:443\n"
     ]
    },
    {
     "name": "stdout",
     "output_type": "stream",
     "text": [
      "https://www.ey.com/en_gl/digital/can-advanced-technologies-help-auditors-make-the-hard-to-see-eas\n"
     ]
    },
    {
     "name": "stderr",
     "output_type": "stream",
     "text": [
      "2019-10-22 16:29:23 [urllib3.connectionpool] DEBUG: https://www.ey.com:443 \"GET /en_gl/digital/can-advanced-technologies-help-auditors-make-the-hard-to-see-eas HTTP/1.1\" 200 14109\n",
      "2019-10-22 16:29:23 [scrapy.core.engine] DEBUG: Crawled (200) <GET https://www.ey.com/en_gl/digital/why-digital-asset-management-is-a-fundamental-driver-of-utility> (referer: None)\n",
      "2019-10-22 16:29:23 [urllib3.connectionpool] DEBUG: Starting new HTTPS connection (1): www.ey.com:443\n"
     ]
    },
    {
     "name": "stdout",
     "output_type": "stream",
     "text": [
      "https://www.ey.com/en_gl/digital/how-rpa-can-improve-efficiency-and-employee-engagement\n"
     ]
    },
    {
     "name": "stderr",
     "output_type": "stream",
     "text": [
      "2019-10-22 16:29:24 [urllib3.connectionpool] DEBUG: https://www.ey.com:443 \"GET /en_gl/digital/how-rpa-can-improve-efficiency-and-employee-engagement HTTP/1.1\" 200 11135\n",
      "2019-10-22 16:29:24 [scrapy.core.engine] DEBUG: Crawled (200) <GET https://www.ey.com/en_gl/trust/how-building-trust-is-crucial-for-business-transformation> (referer: None)\n",
      "2019-10-22 16:29:24 [urllib3.connectionpool] DEBUG: Starting new HTTPS connection (1): www.ey.com:443\n"
     ]
    },
    {
     "name": "stdout",
     "output_type": "stream",
     "text": [
      "https://www.ey.com/en_gl/digital/why-digital-asset-management-is-a-fundamental-driver-of-utility\n"
     ]
    },
    {
     "name": "stderr",
     "output_type": "stream",
     "text": [
      "2019-10-22 16:29:25 [urllib3.connectionpool] DEBUG: https://www.ey.com:443 \"GET /en_gl/digital/why-digital-asset-management-is-a-fundamental-driver-of-utility HTTP/1.1\" 200 14041\n",
      "2019-10-22 16:29:25 [urllib3.connectionpool] DEBUG: Starting new HTTPS connection (1): www.ey.com:443\n"
     ]
    },
    {
     "name": "stdout",
     "output_type": "stream",
     "text": [
      "https://www.ey.com/en_gl/trust/how-building-trust-is-crucial-for-business-transformation\n"
     ]
    },
    {
     "name": "stderr",
     "output_type": "stream",
     "text": [
      "2019-10-22 16:29:26 [urllib3.connectionpool] DEBUG: https://www.ey.com:443 \"GET /en_gl/trust/how-building-trust-is-crucial-for-business-transformation HTTP/1.1\" 200 11426\n",
      "2019-10-22 16:29:26 [scrapy.core.engine] DEBUG: Crawled (200) <GET https://www.ey.com/en_gl/growth/is-your-portfolio-fit-for-the-future-or-fashioned-only-on-the-pa> (referer: None)\n",
      "2019-10-22 16:29:26 [scrapy.core.engine] DEBUG: Crawled (200) <GET https://www.ey.com/en_gl/growth/why-pe-firms-must-look-beyond-finance-to-drive-growth-and-create> (referer: None)\n",
      "2019-10-22 16:29:26 [urllib3.connectionpool] DEBUG: Starting new HTTPS connection (1): www.ey.com:443\n"
     ]
    },
    {
     "name": "stdout",
     "output_type": "stream",
     "text": [
      "https://www.ey.com/en_gl/growth/is-your-portfolio-fit-for-the-future-or-fashioned-only-on-the-pa\n"
     ]
    },
    {
     "name": "stderr",
     "output_type": "stream",
     "text": [
      "2019-10-22 16:29:27 [urllib3.connectionpool] DEBUG: https://www.ey.com:443 \"GET /en_gl/growth/is-your-portfolio-fit-for-the-future-or-fashioned-only-on-the-pa HTTP/1.1\" 200 18594\n",
      "2019-10-22 16:29:27 [scrapy.core.engine] DEBUG: Crawled (200) <GET https://www.ey.com/en_gl/trust/the-disrupters--how-banks-can-help-to-track-the-traffickers> (referer: None)\n",
      "2019-10-22 16:29:27 [scrapy.core.engine] DEBUG: Crawled (200) <GET https://www.ey.com/en_gl/digital/can-robots-help-your-business-be-more-human> (referer: None)\n",
      "2019-10-22 16:29:27 [scrapy.core.engine] DEBUG: Crawled (200) <GET https://www.ey.com/en_gl/digital/tax-workers-and-robots-teammates-not-enemies> (referer: None)\n",
      "2019-10-22 16:29:27 [scrapy.core.engine] DEBUG: Crawled (200) <GET https://www.ey.com/en_gl/digital/how-gamification-could-take-investor-experiences-to-a-new-level> (referer: None)\n",
      "2019-10-22 16:29:27 [scrapy.core.engine] DEBUG: Crawled (200) <GET https://www.ey.com/en_gl/digital/how-digital-disruption-is-driving-the-evolution-of-the-network-o> (referer: None)\n",
      "2019-10-22 16:29:27 [scrapy.core.engine] DEBUG: Crawled (200) <GET https://www.ey.com/en_gl/workforce/how-do-we-keep-the-human-touch-in-the-digital-age-> (referer: None)\n",
      "2019-10-22 16:29:28 [scrapy.core.engine] DEBUG: Crawled (200) <GET https://www.ey.com/en_gl/digital/what-smart-speakers-can-teach-board-members-about-adopting-ai> (referer: None)\n",
      "2019-10-22 16:29:28 [scrapy.core.engine] DEBUG: Crawled (200) <GET https://www.ey.com/en_gl/workforce/humanatwork> (referer: None)\n",
      "2019-10-22 16:29:28 [urllib3.connectionpool] DEBUG: Starting new HTTPS connection (1): www.ey.com:443\n"
     ]
    },
    {
     "name": "stdout",
     "output_type": "stream",
     "text": [
      "https://www.ey.com/en_gl/growth/why-pe-firms-must-look-beyond-finance-to-drive-growth-and-create\n"
     ]
    },
    {
     "name": "stderr",
     "output_type": "stream",
     "text": [
      "2019-10-22 16:29:29 [urllib3.connectionpool] DEBUG: https://www.ey.com:443 \"GET /en_gl/growth/why-pe-firms-must-look-beyond-finance-to-drive-growth-and-create HTTP/1.1\" 200 15136\n",
      "2019-10-22 16:29:29 [urllib3.connectionpool] DEBUG: Starting new HTTPS connection (1): www.ey.com:443\n"
     ]
    },
    {
     "name": "stdout",
     "output_type": "stream",
     "text": [
      "https://www.ey.com/en_gl/trust/the-disrupters--how-banks-can-help-to-track-the-traffickers\n"
     ]
    },
    {
     "name": "stderr",
     "output_type": "stream",
     "text": [
      "2019-10-22 16:29:30 [urllib3.connectionpool] DEBUG: https://www.ey.com:443 \"GET /en_gl/trust/the-disrupters--how-banks-can-help-to-track-the-traffickers HTTP/1.1\" 200 12779\n",
      "2019-10-22 16:29:30 [urllib3.connectionpool] DEBUG: Starting new HTTPS connection (1): www.ey.com:443\n"
     ]
    },
    {
     "name": "stdout",
     "output_type": "stream",
     "text": [
      "https://www.ey.com/en_gl/digital/can-robots-help-your-business-be-more-human\n"
     ]
    },
    {
     "name": "stderr",
     "output_type": "stream",
     "text": [
      "2019-10-22 16:29:31 [urllib3.connectionpool] DEBUG: https://www.ey.com:443 \"GET /en_gl/digital/can-robots-help-your-business-be-more-human HTTP/1.1\" 200 15170\n",
      "2019-10-22 16:29:31 [urllib3.connectionpool] DEBUG: Starting new HTTPS connection (1): www.ey.com:443\n"
     ]
    },
    {
     "name": "stdout",
     "output_type": "stream",
     "text": [
      "https://www.ey.com/en_gl/digital/tax-workers-and-robots-teammates-not-enemies\n"
     ]
    },
    {
     "name": "stderr",
     "output_type": "stream",
     "text": [
      "2019-10-22 16:29:32 [urllib3.connectionpool] DEBUG: https://www.ey.com:443 \"GET /en_gl/digital/tax-workers-and-robots-teammates-not-enemies HTTP/1.1\" 200 15086\n",
      "2019-10-22 16:29:32 [urllib3.connectionpool] DEBUG: Starting new HTTPS connection (1): www.ey.com:443\n"
     ]
    },
    {
     "name": "stdout",
     "output_type": "stream",
     "text": [
      "https://www.ey.com/en_gl/digital/how-gamification-could-take-investor-experiences-to-a-new-level\n"
     ]
    },
    {
     "name": "stderr",
     "output_type": "stream",
     "text": [
      "2019-10-22 16:29:33 [urllib3.connectionpool] DEBUG: https://www.ey.com:443 \"GET /en_gl/digital/how-gamification-could-take-investor-experiences-to-a-new-level HTTP/1.1\" 200 14789\n",
      "2019-10-22 16:29:34 [urllib3.connectionpool] DEBUG: Starting new HTTPS connection (1): www.ey.com:443\n"
     ]
    },
    {
     "name": "stdout",
     "output_type": "stream",
     "text": [
      "https://www.ey.com/en_gl/digital/how-digital-disruption-is-driving-the-evolution-of-the-network-o\n"
     ]
    },
    {
     "name": "stderr",
     "output_type": "stream",
     "text": [
      "2019-10-22 16:29:35 [urllib3.connectionpool] DEBUG: https://www.ey.com:443 \"GET /en_gl/digital/how-digital-disruption-is-driving-the-evolution-of-the-network-o HTTP/1.1\" 200 15270\n",
      "2019-10-22 16:29:35 [urllib3.connectionpool] DEBUG: Starting new HTTPS connection (1): www.ey.com:443\n"
     ]
    },
    {
     "name": "stdout",
     "output_type": "stream",
     "text": [
      "https://www.ey.com/en_gl/workforce/how-do-we-keep-the-human-touch-in-the-digital-age-\n"
     ]
    },
    {
     "name": "stderr",
     "output_type": "stream",
     "text": [
      "2019-10-22 16:29:37 [urllib3.connectionpool] DEBUG: https://www.ey.com:443 \"GET /en_gl/workforce/how-do-we-keep-the-human-touch-in-the-digital-age- HTTP/1.1\" 200 15049\n",
      "2019-10-22 16:29:37 [urllib3.connectionpool] DEBUG: Starting new HTTPS connection (1): www.ey.com:443\n"
     ]
    },
    {
     "name": "stdout",
     "output_type": "stream",
     "text": [
      "https://www.ey.com/en_gl/digital/what-smart-speakers-can-teach-board-members-about-adopting-ai\n"
     ]
    },
    {
     "name": "stderr",
     "output_type": "stream",
     "text": [
      "2019-10-22 16:29:38 [urllib3.connectionpool] DEBUG: https://www.ey.com:443 \"GET /en_gl/digital/what-smart-speakers-can-teach-board-members-about-adopting-ai HTTP/1.1\" 200 14167\n",
      "2019-10-22 16:29:38 [urllib3.connectionpool] DEBUG: Starting new HTTPS connection (1): www.ey.com:443\n"
     ]
    },
    {
     "name": "stdout",
     "output_type": "stream",
     "text": [
      "https://www.ey.com/en_gl/workforce/humanatwork\n"
     ]
    },
    {
     "name": "stderr",
     "output_type": "stream",
     "text": [
      "2019-10-22 16:29:39 [urllib3.connectionpool] DEBUG: https://www.ey.com:443 \"GET /en_gl/workforce/humanatwork HTTP/1.1\" 200 21828\n",
      "2019-10-22 16:29:39 [scrapy.core.engine] DEBUG: Crawled (200) <GET https://www.ey.com/en_gl/assurance/why-ai-is-both-a-risk-and-a-way-to-manage-risk> (referer: None)\n",
      "2019-10-22 16:29:39 [scrapy.core.engine] DEBUG: Crawled (200) <GET https://www.ey.com/en_gl/advisory/how-agile-finance-can-provide-the-fuel-to-drive-your-business-forward> (referer: None)\n",
      "2019-10-22 16:29:39 [scrapy.core.engine] DEBUG: Crawled (200) <GET https://www.ey.com/en_gl/advisory/how-the-transformative-age-is-changing-how-we-live-work-and-play> (referer: None)\n",
      "2019-10-22 16:29:39 [scrapy.core.engine] DEBUG: Crawled (200) <GET https://www.ey.com/en_gl/workforce/does-your-brand-reflect-the-composition-of-your-workforce> (referer: None)\n",
      "2019-10-22 16:29:39 [scrapy.core.engine] DEBUG: Crawled (200) <GET https://www.ey.com/en_gl/digital/customers-text-listening> (referer: None)\n",
      "2019-10-22 16:29:39 [scrapy.core.engine] DEBUG: Crawled (200) <GET https://www.ey.com/en_gl/digital/what-the-3d-printing-revolution-could-mean-for-business> (referer: None)\n",
      "2019-10-22 16:29:39 [scrapy.core.engine] DEBUG: Crawled (200) <GET https://www.ey.com/en_gl/financial-services-emeia/regulatory-sandboxes-facilitate-optimal-regulation-in-asia-pacific> (referer: None)\n",
      "2019-10-22 16:29:39 [scrapy.core.engine] DEBUG: Crawled (200) <GET https://www.ey.com/en_gl/life-sciences/how-collaborating-with-ai-can-help-meet-health-care-needs> (referer: None)\n",
      "2019-10-22 16:29:39 [urllib3.connectionpool] DEBUG: Starting new HTTPS connection (1): www.ey.com:443\n"
     ]
    },
    {
     "name": "stdout",
     "output_type": "stream",
     "text": [
      "https://www.ey.com/en_gl/assurance/why-ai-is-both-a-risk-and-a-way-to-manage-risk\n"
     ]
    },
    {
     "name": "stderr",
     "output_type": "stream",
     "text": [
      "2019-10-22 16:29:40 [urllib3.connectionpool] DEBUG: https://www.ey.com:443 \"GET /en_gl/assurance/why-ai-is-both-a-risk-and-a-way-to-manage-risk HTTP/1.1\" 200 14847\n",
      "2019-10-22 16:29:40 [scrapy.core.engine] DEBUG: Crawled (200) <GET https://www.ey.com/en_gl/assurance/how-can-you-disrupt-risk-in-an-era-of-digital-transformation> (referer: None)\n",
      "2019-10-22 16:29:40 [scrapy.core.engine] DEBUG: Crawled (200) <GET https://www.ey.com/en_gl/digital/what_s-the-right-dose-of-ai-to-revitalize-health-care> (referer: None)\n",
      "2019-10-22 16:29:40 [scrapy.core.engine] DEBUG: Crawled (200) <GET https://www.ey.com/en_gl/life-sciences/how-research-and-development-is-being-augmented-with-artificial-intelligence> (referer: None)\n",
      "2019-10-22 16:29:40 [scrapy.core.engine] DEBUG: Crawled (200) <GET https://www.ey.com/en_gl/assurance/how-ai-will-enable-us-to-work-smarter-faster> (referer: None)\n",
      "2019-10-22 16:29:40 [scrapy.core.engine] DEBUG: Crawled (200) <GET https://www.ey.com/en_gl/advisory/how-digital-agriculture-and-big-data-will-help-to-feed-a-growing-world> (referer: None)\n",
      "2019-10-22 16:29:40 [urllib3.connectionpool] DEBUG: Starting new HTTPS connection (1): www.ey.com:443\n"
     ]
    },
    {
     "name": "stdout",
     "output_type": "stream",
     "text": [
      "https://www.ey.com/en_gl/advisory/how-agile-finance-can-provide-the-fuel-to-drive-your-business-forward\n"
     ]
    },
    {
     "name": "stderr",
     "output_type": "stream",
     "text": [
      "2019-10-22 16:29:41 [urllib3.connectionpool] DEBUG: https://www.ey.com:443 \"GET /en_gl/advisory/how-agile-finance-can-provide-the-fuel-to-drive-your-business-forward HTTP/1.1\" 200 13433\n",
      "2019-10-22 16:29:42 [urllib3.connectionpool] DEBUG: Starting new HTTPS connection (1): www.ey.com:443\n"
     ]
    },
    {
     "name": "stdout",
     "output_type": "stream",
     "text": [
      "https://www.ey.com/en_gl/advisory/how-the-transformative-age-is-changing-how-we-live-work-and-play\n"
     ]
    },
    {
     "name": "stderr",
     "output_type": "stream",
     "text": [
      "2019-10-22 16:29:43 [urllib3.connectionpool] DEBUG: https://www.ey.com:443 \"GET /en_gl/advisory/how-the-transformative-age-is-changing-how-we-live-work-and-play HTTP/1.1\" 200 13938\n",
      "2019-10-22 16:29:43 [urllib3.connectionpool] DEBUG: Starting new HTTPS connection (1): www.ey.com:443\n"
     ]
    },
    {
     "name": "stdout",
     "output_type": "stream",
     "text": [
      "https://www.ey.com/en_gl/workforce/does-your-brand-reflect-the-composition-of-your-workforce\n"
     ]
    },
    {
     "name": "stderr",
     "output_type": "stream",
     "text": [
      "2019-10-22 16:29:44 [urllib3.connectionpool] DEBUG: https://www.ey.com:443 \"GET /en_gl/workforce/does-your-brand-reflect-the-composition-of-your-workforce HTTP/1.1\" 200 16260\n",
      "2019-10-22 16:29:44 [urllib3.connectionpool] DEBUG: Starting new HTTPS connection (1): www.ey.com:443\n"
     ]
    },
    {
     "name": "stdout",
     "output_type": "stream",
     "text": [
      "https://www.ey.com/en_gl/digital/customers-text-listening\n"
     ]
    },
    {
     "name": "stderr",
     "output_type": "stream",
     "text": [
      "2019-10-22 16:29:45 [urllib3.connectionpool] DEBUG: https://www.ey.com:443 \"GET /en_gl/digital/customers-text-listening HTTP/1.1\" 200 16570\n",
      "2019-10-22 16:29:45 [urllib3.connectionpool] DEBUG: Starting new HTTPS connection (1): www.ey.com:443\n"
     ]
    },
    {
     "name": "stdout",
     "output_type": "stream",
     "text": [
      "https://www.ey.com/en_gl/digital/what-the-3d-printing-revolution-could-mean-for-business\n"
     ]
    },
    {
     "name": "stderr",
     "output_type": "stream",
     "text": [
      "2019-10-22 16:29:46 [urllib3.connectionpool] DEBUG: https://www.ey.com:443 \"GET /en_gl/digital/what-the-3d-printing-revolution-could-mean-for-business HTTP/1.1\" 200 14799\n",
      "2019-10-22 16:29:46 [urllib3.connectionpool] DEBUG: Starting new HTTPS connection (1): www.ey.com:443\n"
     ]
    },
    {
     "name": "stdout",
     "output_type": "stream",
     "text": [
      "https://www.ey.com/en_gl/financial-services-emeia/regulatory-sandboxes-facilitate-optimal-regulation-in-asia-pacific\n"
     ]
    },
    {
     "name": "stderr",
     "output_type": "stream",
     "text": [
      "2019-10-22 16:29:47 [urllib3.connectionpool] DEBUG: https://www.ey.com:443 \"GET /en_gl/financial-services-emeia/regulatory-sandboxes-facilitate-optimal-regulation-in-asia-pacific HTTP/1.1\" 200 16116\n",
      "2019-10-22 16:29:48 [urllib3.connectionpool] DEBUG: Starting new HTTPS connection (1): www.ey.com:443\n"
     ]
    },
    {
     "name": "stdout",
     "output_type": "stream",
     "text": [
      "https://www.ey.com/en_gl/life-sciences/how-collaborating-with-ai-can-help-meet-health-care-needs\n"
     ]
    },
    {
     "name": "stderr",
     "output_type": "stream",
     "text": [
      "2019-10-22 16:29:49 [urllib3.connectionpool] DEBUG: https://www.ey.com:443 \"GET /en_gl/life-sciences/how-collaborating-with-ai-can-help-meet-health-care-needs HTTP/1.1\" 200 14967\n",
      "2019-10-22 16:29:49 [scrapy.core.engine] DEBUG: Crawled (200) <GET https://www.ey.com/en_gl/assurance/how-can-artificial-intelligence-enhance-your-lease-accounting-approach> (referer: None)\n",
      "2019-10-22 16:29:49 [scrapy.core.engine] DEBUG: Crawled (200) <GET https://www.ey.com/en_gl/financial-services-emeia/impact-of-robotics-rpa-and-ai-on-the-insurance-industry-challenges-and-opportunities> (referer: None)\n",
      "2019-10-22 16:29:49 [urllib3.connectionpool] DEBUG: Starting new HTTPS connection (1): www.ey.com:443\n"
     ]
    },
    {
     "name": "stdout",
     "output_type": "stream",
     "text": [
      "https://www.ey.com/en_gl/assurance/how-can-you-disrupt-risk-in-an-era-of-digital-transformation\n"
     ]
    },
    {
     "name": "stderr",
     "output_type": "stream",
     "text": [
      "2019-10-22 16:29:50 [urllib3.connectionpool] DEBUG: https://www.ey.com:443 \"GET /en_gl/assurance/how-can-you-disrupt-risk-in-an-era-of-digital-transformation HTTP/1.1\" 200 15644\n",
      "2019-10-22 16:29:50 [urllib3.connectionpool] DEBUG: Starting new HTTPS connection (1): www.ey.com:443\n"
     ]
    },
    {
     "name": "stdout",
     "output_type": "stream",
     "text": [
      "https://www.ey.com/en_gl/digital/what_s-the-right-dose-of-ai-to-revitalize-health-care\n"
     ]
    },
    {
     "name": "stderr",
     "output_type": "stream",
     "text": [
      "2019-10-22 16:29:51 [urllib3.connectionpool] DEBUG: https://www.ey.com:443 \"GET /en_gl/digital/what_s-the-right-dose-of-ai-to-revitalize-health-care HTTP/1.1\" 200 14315\n",
      "2019-10-22 16:29:51 [urllib3.connectionpool] DEBUG: Starting new HTTPS connection (1): www.ey.com:443\n"
     ]
    },
    {
     "name": "stdout",
     "output_type": "stream",
     "text": [
      "https://www.ey.com/en_gl/life-sciences/how-research-and-development-is-being-augmented-with-artificial-intelligence\n"
     ]
    },
    {
     "name": "stderr",
     "output_type": "stream",
     "text": [
      "2019-10-22 16:29:52 [urllib3.connectionpool] DEBUG: https://www.ey.com:443 \"GET /en_gl/life-sciences/how-research-and-development-is-being-augmented-with-artificial-intelligence HTTP/1.1\" 200 15246\n",
      "2019-10-22 16:29:52 [urllib3.connectionpool] DEBUG: Starting new HTTPS connection (1): www.ey.com:443\n"
     ]
    },
    {
     "name": "stdout",
     "output_type": "stream",
     "text": [
      "https://www.ey.com/en_gl/assurance/how-ai-will-enable-us-to-work-smarter-faster\n"
     ]
    },
    {
     "name": "stderr",
     "output_type": "stream",
     "text": [
      "2019-10-22 16:29:54 [urllib3.connectionpool] DEBUG: https://www.ey.com:443 \"GET /en_gl/assurance/how-ai-will-enable-us-to-work-smarter-faster HTTP/1.1\" 200 14684\n",
      "2019-10-22 16:29:54 [urllib3.connectionpool] DEBUG: Starting new HTTPS connection (1): www.ey.com:443\n"
     ]
    },
    {
     "name": "stdout",
     "output_type": "stream",
     "text": [
      "https://www.ey.com/en_gl/advisory/how-digital-agriculture-and-big-data-will-help-to-feed-a-growing-world\n"
     ]
    },
    {
     "name": "stderr",
     "output_type": "stream",
     "text": [
      "2019-10-22 16:29:55 [urllib3.connectionpool] DEBUG: https://www.ey.com:443 \"GET /en_gl/advisory/how-digital-agriculture-and-big-data-will-help-to-feed-a-growing-world HTTP/1.1\" 200 16606\n",
      "2019-10-22 16:29:55 [urllib3.connectionpool] DEBUG: Starting new HTTPS connection (1): www.ey.com:443\n"
     ]
    },
    {
     "name": "stdout",
     "output_type": "stream",
     "text": [
      "https://www.ey.com/en_gl/assurance/how-can-artificial-intelligence-enhance-your-lease-accounting-approach\n"
     ]
    },
    {
     "name": "stderr",
     "output_type": "stream",
     "text": [
      "2019-10-22 16:29:56 [urllib3.connectionpool] DEBUG: https://www.ey.com:443 \"GET /en_gl/assurance/how-can-artificial-intelligence-enhance-your-lease-accounting-approach HTTP/1.1\" 200 15054\n",
      "2019-10-22 16:29:56 [urllib3.connectionpool] DEBUG: Starting new HTTPS connection (1): www.ey.com:443\n"
     ]
    },
    {
     "name": "stdout",
     "output_type": "stream",
     "text": [
      "https://www.ey.com/en_gl/financial-services-emeia/impact-of-robotics-rpa-and-ai-on-the-insurance-industry-challenges-and-opportunities\n"
     ]
    },
    {
     "name": "stderr",
     "output_type": "stream",
     "text": [
      "2019-10-22 16:29:57 [urllib3.connectionpool] DEBUG: https://www.ey.com:443 \"GET /en_gl/financial-services-emeia/impact-of-robotics-rpa-and-ai-on-the-insurance-industry-challenges-and-opportunities HTTP/1.1\" 200 17559\n",
      "2019-10-22 16:29:57 [scrapy.core.engine] INFO: Closing spider (finished)\n",
      "2019-10-22 16:29:57 [scrapy.statscollectors] INFO: Dumping Scrapy stats:\n",
      "{'downloader/request_bytes': 26104,\n",
      " 'downloader/request_count': 93,\n",
      " 'downloader/request_method_count/GET': 93,\n",
      " 'downloader/response_bytes': 1602254,\n",
      " 'downloader/response_count': 93,\n",
      " 'downloader/response_status_count/200': 93,\n",
      " 'finish_reason': 'finished',\n",
      " 'finish_time': datetime.datetime(2019, 10, 22, 14, 29, 57, 929665),\n",
      " 'log_count/DEBUG': 280,\n",
      " 'log_count/INFO': 9,\n",
      " 'response_received_count': 93,\n",
      " 'scheduler/dequeued': 93,\n",
      " 'scheduler/dequeued/memory': 93,\n",
      " 'scheduler/enqueued': 93,\n",
      " 'scheduler/enqueued/memory': 93,\n",
      " 'start_time': datetime.datetime(2019, 10, 22, 14, 28, 0, 551659)}\n",
      "2019-10-22 16:29:57 [scrapy.core.engine] INFO: Spider closed (finished)\n"
     ]
    }
   ],
   "source": [
    "from scrapy.crawler import CrawlerProcess\n",
    "\n",
    "# Create class\n",
    "class ey_spider (scrapy.Spider):\n",
    "    name = \"ey_spider\"\n",
    "    \n",
    "    def start_requests(self):\n",
    "        urls = ey_urllist\n",
    "        for url in urls:\n",
    "            yield scrapy.Request(url = url, callback = self.parse)\n",
    "            \n",
    "    #Parsing\n",
    "    def parse(self, response):\n",
    "        print(response.url)\n",
    "        page_url = response.url\n",
    "        page_html = requests.get(page_url).content\n",
    "        page_sel = Selector(text = page_html)\n",
    "        \n",
    "        page_title = page_sel.css('title ::text').extract_first()\n",
    "        page_text = page_sel.css('div#content ::text').extract()\n",
    "        \n",
    "        page_text = ' '.join(page_text)\n",
    "        \n",
    "        ey_contdict[page_title] = page_text\n",
    "        ey_urldict[page_title] = page_url\n",
    "        \n",
    "# Initiatlize dictionary\n",
    "ey_contdict = dict()\n",
    "ey_urldict = dict()\n",
    "\n",
    "#Run spider\n",
    "process = CrawlerProcess()\n",
    "process.crawl(ey_spider)\n",
    "process.start()"
   ]
  },
  {
   "cell_type": "code",
   "execution_count": 9,
   "metadata": {},
   "outputs": [
    {
     "data": {
      "text/plain": [
       "93"
      ]
     },
     "execution_count": 9,
     "metadata": {},
     "output_type": "execute_result"
    }
   ],
   "source": [
    "process.stop()\n",
    "len(ey_contdict)"
   ]
  },
  {
   "cell_type": "code",
   "execution_count": 12,
   "metadata": {},
   "outputs": [],
   "source": [
    "import json\n",
    "\n",
    "with open('..\\\\data_raw\\\\ey_articles.json', 'w') as file:\n",
    "    json.dump(ey_contdict, file)\n",
    "    \n",
    "with open('..\\\\data_raw\\\\ey_urls.json', 'w') as file:\n",
    "    json.dump(ey_urldict, file)"
   ]
  },
  {
   "cell_type": "code",
   "execution_count": null,
   "metadata": {},
   "outputs": [],
   "source": []
  }
 ],
 "metadata": {
  "kernelspec": {
   "display_name": "Python 3",
   "language": "python",
   "name": "python3"
  },
  "language_info": {
   "codemirror_mode": {
    "name": "ipython",
    "version": 3
   },
   "file_extension": ".py",
   "mimetype": "text/x-python",
   "name": "python",
   "nbconvert_exporter": "python",
   "pygments_lexer": "ipython3",
   "version": "3.6.8"
  }
 },
 "nbformat": 4,
 "nbformat_minor": 2
}
