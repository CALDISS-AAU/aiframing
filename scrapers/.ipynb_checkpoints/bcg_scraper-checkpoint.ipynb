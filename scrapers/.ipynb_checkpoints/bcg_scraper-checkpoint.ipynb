{
 "cells": [
  {
   "cell_type": "markdown",
   "metadata": {},
   "source": [
    "Scraper for: Boston Consulting Group \n",
    "Mail URL: https://www.bcg.com/\n",
    "\n",
    "AI site: https://www.bcg.com/publications/collections/strategy-digital-artificial-intelligence-business.aspx"
   ]
  },
  {
   "cell_type": "markdown",
   "metadata": {},
   "source": [
    "## Libraries\n",
    "\n",
    "Loading libraries..."
   ]
  },
  {
   "cell_type": "code",
   "execution_count": 1,
   "metadata": {},
   "outputs": [],
   "source": [
    "import scrapy\n",
    "import requests\n",
    "from scrapy import Selector\n",
    "\n",
    "import os\n",
    "import sys"
   ]
  },
  {
   "cell_type": "code",
   "execution_count": 2,
   "metadata": {},
   "outputs": [],
   "source": [
    "bcg_url = 'https://www.bcg.com/publications/collections/strategy-digital-artificial-intelligence-business.aspx' #main URL\n",
    "bcg_html = requests.get(bcg_url).content #extract HTML\n",
    "bcg_sel = Selector(text = bcg_html) #create Selector object"
   ]
  },
  {
   "cell_type": "code",
   "execution_count": 3,
   "metadata": {},
   "outputs": [
    {
     "name": "stdout",
     "output_type": "stream",
     "text": [
      "24\n"
     ]
    }
   ],
   "source": [
    "bcg_urllist = bcg_sel.css('a.article-link::attr(href)').extract()\n",
    "print(len(bcg_urllist))"
   ]
  },
  {
   "cell_type": "markdown",
   "metadata": {},
   "source": [
    "## Parsing single site"
   ]
  },
  {
   "cell_type": "code",
   "execution_count": 4,
   "metadata": {},
   "outputs": [
    {
     "name": "stdout",
     "output_type": "stream",
     "text": [
      "https://www.bcg.com/publications/2019/how-to-win-with-artificial-intelligence-ai.aspx\n",
      "https://www.bcg.com/publications/2019/how-to-win-with-artificial-intelligence-ai.aspx\n"
     ]
    }
   ],
   "source": [
    "bcg_oneurl = 'https://www.bcg.com' + bcg_urllist[0]\n",
    "print(bcg_oneurl)\n",
    "\n",
    "bcg_urllist = list(map(lambda url: 'https://www.bcg.com' + url, bcg_urllist))\n",
    "print(bcg_urllist[0])"
   ]
  },
  {
   "cell_type": "code",
   "execution_count": 5,
   "metadata": {},
   "outputs": [],
   "source": [
    "bcg_pagehtml = requests.get(bcg_oneurl).content\n",
    "bcg_pagesel = Selector(text = bcg_pagehtml)"
   ]
  },
  {
   "cell_type": "code",
   "execution_count": 6,
   "metadata": {},
   "outputs": [
    {
     "name": "stdout",
     "output_type": "stream",
     "text": [
      "How to Win with Artificial Intelligence (AI)\n"
     ]
    }
   ],
   "source": [
    "bcg_title = bcg_pagesel.css('title ::text').extract_first()\n",
    "bcg_text = bcg_pagesel.css('div.container-text ::text').extract()\n",
    "print(bcg_title)"
   ]
  },
  {
   "cell_type": "code",
   "execution_count": 7,
   "metadata": {},
   "outputs": [
    {
     "data": {
      "text/plain": [
       "'\\r\\n         \\r\\n             \\r\\n                     \\r\\n             October 15, 2019 \\r\\n        By                 Shervin\\xa0Khodabandeh \\r\\n\\t\\t\\t\\t\\t\\t\\t\\t\\t\\t\\t\\t\\t\\t\\t\\t , \\n                 Ronny\\xa0Fehling \\r\\n\\t\\t\\t\\t\\t\\t\\t\\t\\t\\t\\t\\t\\t\\t\\t\\t , \\n                 Burt\\xa0LaFountain \\r\\n\\t\\t\\t\\t\\t\\t\\t\\t\\t\\t\\t\\t\\t\\t\\t\\t , \\n                 Sylvain\\xa0Duranton \\r\\n\\t\\t\\t\\t\\t\\t\\t\\t\\t\\t\\t\\t\\t\\t\\t\\t , \\n                 Philipp\\xa0Gerbert \\r\\n\\t\\t\\t\\t\\t\\t\\t\\t\\t\\t\\t\\t\\t\\t\\t\\t , \\n                 Annais\\xa0Paetsch \\r\\n\\t\\t\\t\\t\\t\\t\\t\\t\\t\\t\\t\\t\\t\\t\\t\\t , \\n                                 and \\r\\n                 Martin\\xa0Reeves \\r\\n     \\r\\n\\r\\n             \\r\\n         \\r\\n        \\r\\n\\r\\n\\r\\n \\r\\n   \\r\\n     \\r\\n       \\r\\n\\t\\t\\t\\t \\r\\n           \\r\\n             \\r\\n               \\r\\n               \\r\\n             \\r\\n           \\r\\n         \\r\\n         \\r\\n         \\r\\n         \\r\\n         \\r\\n       \\r\\n     \\r\\n   \\r\\n \\r\\n\\r\\n\\r\\n     \\r\\n         \\r\\n             \\r\\n                 \\r\\n                    \\r\\n\\r\\n\\r\\n\\r\\n                             \\r\\n         Among the many companies investing in artificial intelligence, there is one surprisingly exclusive group: companies that actually generate value from AI. And right now, at least, the odds against gaining admission are sobering. According to a survey of more than 2,500 executives—conducted for a  new report  by  MIT Sloan Management Review , BCG Gamma, and BCG Henderson Institute—seven out of ten companies report minimal or no gains so far from their AI initiatives. Why do some efforts succeed but many more fail? It’s a crucial question, as the importance and urgency around AI are greater than ever. Nine out of ten survey respondents agreed that AI represents a business opportunity for their company. And nearly half—45%—perceive some risk from AI. So while companies see a lot of potential in AI, they also fear that their competitors may realize it first. \\r\\n\\r\\n\\r\\n                 \\r\\n\\r\\n                     \\r\\n             \\r\\n         \\r\\n     \\r\\n         \\r\\n             \\r\\n                 \\r\\n                    \\r\\n\\r\\n\\r\\n\\r\\n                    \\r\\n\\r\\n                 \\r\\n\\r\\n                     \\r\\n             \\r\\n         \\r\\n     \\r\\n         \\r\\n             \\r\\n                 \\r\\n                         \\r\\n         \\r\\n             \\r\\n\\t\\t\\t\\t\\t\\t\\t\\t\\t\\t\\t \\r\\n \\r\\n\\r\\n                             \\r\\n         \\r\\n     \\r\\n\\r\\n                 \\r\\n                         The report looked for patterns in the survey data—supplementing the analysis with in-depth interviews with executives leading AI initiatives. The idea: to uncover the common strategies and approaches employed by those companies that do generate value. Ultimately, a set of critical strategic, organizational, and leadership behaviors emerged: steps other companies can take to boost their chances of joining that select club—and winning with AI. \\r\\n\\r\\n             \\r\\n         \\r\\n     \\r\\n         \\r\\n             \\r\\n                 \\r\\n                    \\r\\n                             Integrate AI Strategy with Business Strategy \\r\\n\\r\\n\\r\\n\\r\\n                             \\r\\n         AI is often considered solely from a technology perspective and little wonder, since its capabilities rely on—and continually improve through—technical innovations. So at many companies, AI efforts have an IT-centric focus. But as it turns out, this is the wrong approach. The companies that derive value from AI view it as a core pillar of their business strategy and tightly integrate their AI strategy into their overall business strategy. Tying AI with business strategy ensures that AI initiatives get the right focus across the organization. That’s vital because the vast potential of AI is a double-edged sword. With so many possibilities for applying AI across an organization, efforts can be scattered and ineffectual. Linking AI with business strategy helps companies zero in on initiatives that bring or facilitate the most important outcomes. That makes for a savvier, much more effective allocation of AI talent and resources. \\r\\n\\r\\n\\r\\n                 \\r\\n\\r\\n                     \\r\\n             \\r\\n         \\r\\n     \\r\\n         \\r\\n             \\r\\n                 \\r\\n                    \\r\\n\\r\\n\\r\\n\\r\\n                             \\r\\n         In effect, AI leaders look backwards from strategy, not forward from AI. They ask: What are our business objectives—and how can AI help us meet them? Companies that approach AI in this way are more likely to take it beyond automation and cost savings—and take the impact of AI further, as well. Consider the experience of Deutsche Bank. For one consumer credit product in Germany, it uses AI to make a real-time decision on whether to extend a loan—not after a customer submits an online application but while that customer is filling out the form. That’s an important distinction because in Germany, an individual’s credit rating is damaged by applying for a loan and not receiving it. Within eight months of launching the AI-enabled service, loan issuance for this specific product increased 10- to 15-fold. For Deutsche Bank, the real payoff is the ability to reach customers who, in a more traditional process, would not have applied in the first place. \\r\\n\\r\\n\\r\\n                 \\r\\n\\r\\n                     \\r\\n             \\r\\n         \\r\\n     \\r\\n         \\r\\n             \\r\\n                 \\r\\n                    \\r\\n                             Prioritize Revenue Growth over Cost Reduction \\r\\n\\r\\n\\r\\n\\r\\n                             \\r\\n         While some companies look to AI for its cost-cutting and productivity benefits, most executives believe the highest future value from AI will be on the revenue and growth side. The survey revealed that the organizations most effective at obtaining value from AI are twice as likely to focus on revenue rather than cost savings alone. To be sure, cost-cutting and productivity benefits are important, and companies that pursue them can realize some early wins with AI—success stories that can spark enthusiasm and more green lights for further AI initiatives. But revenue gains can be a particularly powerful catalyst for taking AI deeper and broader into the business. And for taking the gains further, too. Another motivation for an increased focus on revenue growth is the strategic risk from AI that many companies perceive.\\xa0 If they don’t pursue opportunities, the competition will. \\r\\n\\r\\n\\r\\n                 \\r\\n\\r\\n                     \\r\\n             \\r\\n         \\r\\n     \\r\\n         \\r\\n             \\r\\n                 \\r\\n                    \\r\\n                             Take on Large Projects with Big Impact—Even If They’re Risky \\r\\n\\r\\n\\r\\n\\r\\n                             \\r\\n         Our analysis reveals that companies do better with AI if they place carefully calculated bets. Of the companies that invest in higher-risk AI projects, 50% have seen value to date. Among those that invest primarily in low-risk projects, just 23% have seen gains. Tellingly, the willingness to take risks appears to increase with an organization’s AI maturity level. The report divided survey respondents into four subgroups. Pioneers (comprising 20% of the survey population) are organizations that both understand and have adopted AI. Investigators (30% of the survey group) display knowledge of AI but are not deploying it beyond the pilot stage. Experimenters (18% of the total) are piloting or adopting AI without deep understanding. Passives (32%) have not adopted AI. Among pioneers, 29% characterized their projects as high risk. That figure dropped to 15% for investigators and to 11% for experimenters. This isn’t to say that organizations should only go the high-risk route. Balance, some AI experts contend, is crucial. Companies should zero in on a few big projects with potentially big payback, but also pursue efforts where they can be more confident that the benefits—albeit smaller—will come, and come soon. “We don’t ignore those,” says Ranjeet Banerjee, worldwide president of medication management solutions at global medical technology company Becton, Dickinson and Company. “Especially the quick wins that can be done at very low incremental complexity or resource intensity.” Quick wins can also bring an added bonus. By validating AI’s ability to spark value, they can keep the momentum—and the funding—going for longer-term projects. \\r\\n\\r\\n\\r\\n                 \\r\\n\\r\\n                     \\r\\n             \\r\\n         \\r\\n     \\r\\n         \\r\\n             \\r\\n                 \\r\\n                    \\r\\n                             Align the Production of AI with the Consumption of AI \\r\\n\\r\\n\\r\\n\\r\\n                             \\r\\n         Getting the most out of AI requires a team effort. A good rule of thumb is to consider AI to be 10% about algorithms, 20% about technology, and 70% about business process transformation. Companies that focus solely on the production of AI—leveraging data, technology, and tools to build solutions—are less likely to derive value than companies that enable the consumption, or usage, of AI. The idea is to bring together the technical side and the business side so that both can better understand what solutions are needed, what solutions are possible, and how to build for usability as well as functionality. It’s an iterative process. “Designing for consumption often means that the people whose work is affected must not only like the idea, but be willing to provide feedback and test out multiple versions, as well,” says Michael May, head of technology field analytics and monitoring for Siemens—Europe’s largest industrial manufacturing company. \\xa0To spark this collaborative, cross-functional approach, May’s group operates an AI lab that pulls people out of their daily jobs for a week or so to work with data scientists on prototype solutions. \\xa0Siemens also holds a yearly internal conference on AI that attracts around 400 employees. “We show what we are doing and highlight some projects to help people to get a feeling of what is done,” says May. \\r\\n\\r\\n\\r\\n                 \\r\\n\\r\\n                     \\r\\n             \\r\\n         \\r\\n     \\r\\n         \\r\\n             \\r\\n                 \\r\\n                    \\r\\n                             Treat AI as a Major Business Transformation Effort \\r\\n\\r\\n\\r\\n\\r\\n                             \\r\\n         AI doesn’t thrive in a vacuum. Companies that generate value from AI treat it as a major business transformation initiative that requires different parts of the company to come together and work as one. For AI to work well, companies need to integrate it into their fabric and into the individual processes that power the core of the business. They need to tap into the right data sources, create the right processes (or reengineer the existing ones), and develop the right feedback loops (so the AI can get better and better). They also need to ensure that the users of the AI solution are very actively involved in the design of the solution from day one. In parallel with their AI initiatives, many companies are also undertaking large digital transformations, focusing on how they can enhance the customer experience through much more seamless multichannel interactions. It is critical that companies tightly link AI and other digital transformations so they can fuel and propel each other. AI leaders understand this: 88% of companies that generate value from AI tightly integrate, or at least connect, their AI and digital initiatives. \\r\\n\\r\\n\\r\\n                 \\r\\n\\r\\n                     \\r\\n             \\r\\n         \\r\\n     \\r\\n         \\r\\n             \\r\\n                 \\r\\n                    \\r\\n                             Invest in AI Talent, Data Governance, and Process Change \\r\\n\\r\\n\\r\\n\\r\\n                             \\r\\n         Almost all respondents said that they are facing a shortage of AI talent. How do AI leaders tackle the challenge? The survey analysis suggests that the best approach is a combination of hiring new talent, cultivating AI skills in the existing workforce, and looking to outside experts. Nearly two thirds—65%—of the organizations investing in all three routes have seen business impact from AI. In addition, companies that invest in multiple talent initiatives (such as recruiting, reskilling, and training) are three times more likely to see impact than those that have no AI talent initiatives in place. Leaders approach AI not just as a technical capability but as a major business transformation initiative. They embrace agile methodologies: new ways of working that foster iterative, cross-functional collaboration—bringing together the data scientist, the business manager, the process owner, the technologist, and even support functions like finance and legal to ensure aligned incentives across the organization. They also invest in robust data governance and data platforms to ensure the quality and availability of the data that fuels AI. AI is not all about technology. It’s much more about people, processes, culture, and business strategy. Companies that bring all the pieces together don’t just build AI—they build the  right  AI. \\r\\n\\r\\n\\r\\n                 \\r\\n\\r\\n                     \\r\\n             \\r\\n         \\r\\n     \\r\\n         \\r\\n             \\r\\n                 \\r\\n                    \\r\\n\\r\\n\\r\\n\\r\\n                             \\r\\n         \\r\\n\\r\\n\\r\\n                 \\r\\n\\r\\n                     \\r\\n             \\r\\n         \\r\\n     \\r\\n         \\r\\n             \\r\\n                 \\r\\n                    \\r\\n\\r\\n\\r\\n\\r\\n                             \\r\\n         \\xa0\\xa0\\n BCG GAMMA is BCG’s global team dedicated to applying artificial intelligence and advanced analytics to business at leading companies and organizations. The team includes 800-plus data scientists and engineers who apply AI and advanced analytics expertise (e.g., machine learning, deep learning, optimization, simulation, text and image analytics) to build solutions that transform business performance. BCG GAMMA’s approach builds value and competitive advantage at the intersection of data science, technology, people, business expertise, processes and ways of working. For more information, please visit our\\xa0 web page . \\r\\n\\r\\n\\r\\n                 \\r\\n\\r\\n                     \\r\\n             \\r\\n         \\r\\n     \\r\\n         \\r\\n             \\r\\n                 \\r\\n                    \\r\\n\\r\\n\\r\\n\\r\\n                             \\r\\n         The BCG Henderson Institute is Boston Consulting Group’s strategy think tank, dedicated to exploring and developing valuable new insights from business, technology, and science by embracing the powerful technology of ideas. The Institute engages leaders in provocative discussion and experimentation to expand the boundaries of business theory and practice and to translate innovative ideas from within and beyond business. For more ideas and inspiration from the Institute, please visit\\xa0 Featured Insights . \\r\\n\\r\\n\\r\\n                 \\r\\n\\r\\n                     \\r\\n             \\r\\n         \\r\\n     \\r\\n     \\r\\n       \\r\\n         Authors \\r\\n       \\r\\n     \\r\\n  '"
      ]
     },
     "execution_count": 7,
     "metadata": {},
     "output_type": "execute_result"
    }
   ],
   "source": [
    "bcg_text = ' '.join(bcg_text)\n",
    "bcg_text"
   ]
  },
  {
   "cell_type": "code",
   "execution_count": 8,
   "metadata": {},
   "outputs": [
    {
     "data": {
      "text/plain": [
       "14622"
      ]
     },
     "execution_count": 8,
     "metadata": {},
     "output_type": "execute_result"
    }
   ],
   "source": [
    "# text dump\n",
    "file = open('..\\\\data_raw\\\\bcg_textdump.txt', 'w')\n",
    "file.write(bcg_text)"
   ]
  },
  {
   "cell_type": "markdown",
   "metadata": {},
   "source": [
    "## BCG Spider"
   ]
  },
  {
   "cell_type": "code",
   "execution_count": 9,
   "metadata": {},
   "outputs": [
    {
     "name": "stderr",
     "output_type": "stream",
     "text": [
      "2019-10-28 09:45:08 [scrapy.utils.log] INFO: Scrapy 1.6.0 started (bot: scrapybot)\n",
      "2019-10-28 09:45:08 [scrapy.utils.log] INFO: Versions: lxml 4.4.1.0, libxml2 2.9.9, cssselect 1.0.3, parsel 1.5.1, w3lib 1.20.0, Twisted 19.2.0, Python 3.6.9 |Anaconda, Inc.| (default, Jul 30 2019, 14:00:49) [MSC v.1915 64 bit (AMD64)], pyOpenSSL 19.0.0 (OpenSSL 1.1.1c  28 May 2019), cryptography 2.7, Platform Windows-10-10.0.16299-SP0\n",
      "2019-10-28 09:45:08 [scrapy.crawler] INFO: Overridden settings: {}\n",
      "2019-10-28 09:45:08 [scrapy.extensions.telnet] INFO: Telnet Password: b2a625716b0759e6\n",
      "2019-10-28 09:45:08 [scrapy.middleware] INFO: Enabled extensions:\n",
      "['scrapy.extensions.corestats.CoreStats',\n",
      " 'scrapy.extensions.telnet.TelnetConsole',\n",
      " 'scrapy.extensions.logstats.LogStats']\n",
      "2019-10-28 09:45:09 [scrapy.middleware] INFO: Enabled downloader middlewares:\n",
      "['scrapy.downloadermiddlewares.httpauth.HttpAuthMiddleware',\n",
      " 'scrapy.downloadermiddlewares.downloadtimeout.DownloadTimeoutMiddleware',\n",
      " 'scrapy.downloadermiddlewares.defaultheaders.DefaultHeadersMiddleware',\n",
      " 'scrapy.downloadermiddlewares.useragent.UserAgentMiddleware',\n",
      " 'scrapy.downloadermiddlewares.retry.RetryMiddleware',\n",
      " 'scrapy.downloadermiddlewares.redirect.MetaRefreshMiddleware',\n",
      " 'scrapy.downloadermiddlewares.httpcompression.HttpCompressionMiddleware',\n",
      " 'scrapy.downloadermiddlewares.redirect.RedirectMiddleware',\n",
      " 'scrapy.downloadermiddlewares.cookies.CookiesMiddleware',\n",
      " 'scrapy.downloadermiddlewares.httpproxy.HttpProxyMiddleware',\n",
      " 'scrapy.downloadermiddlewares.stats.DownloaderStats']\n",
      "2019-10-28 09:45:09 [scrapy.middleware] INFO: Enabled spider middlewares:\n",
      "['scrapy.spidermiddlewares.httperror.HttpErrorMiddleware',\n",
      " 'scrapy.spidermiddlewares.offsite.OffsiteMiddleware',\n",
      " 'scrapy.spidermiddlewares.referer.RefererMiddleware',\n",
      " 'scrapy.spidermiddlewares.urllength.UrlLengthMiddleware',\n",
      " 'scrapy.spidermiddlewares.depth.DepthMiddleware']\n",
      "2019-10-28 09:45:09 [scrapy.middleware] INFO: Enabled item pipelines:\n",
      "[]\n",
      "2019-10-28 09:45:09 [scrapy.core.engine] INFO: Spider opened\n",
      "2019-10-28 09:45:09 [scrapy.extensions.logstats] INFO: Crawled 0 pages (at 0 pages/min), scraped 0 items (at 0 items/min)\n",
      "2019-10-28 09:45:09 [scrapy.extensions.telnet] INFO: Telnet console listening on 127.0.0.1:6023\n",
      "2019-10-28 09:45:09 [scrapy.downloadermiddlewares.retry] DEBUG: Retrying <GET https://www.bcg.comhttps//www.113.vovici.net/se/13B2588B445430B5> (failed 1 times): DNS lookup failed: no results for hostname lookup: www.bcg.comhttps.\n",
      "2019-10-28 09:45:09 [scrapy.downloadermiddlewares.retry] DEBUG: Retrying <GET https://www.bcg.comhttps//www.113.vovici.net/se/13B2588B445430B5> (failed 2 times): DNS lookup failed: no results for hostname lookup: www.bcg.comhttps.\n",
      "2019-10-28 09:45:09 [scrapy.downloadermiddlewares.retry] DEBUG: Gave up retrying <GET https://www.bcg.comhttps//www.113.vovici.net/se/13B2588B445430B5> (failed 3 times): DNS lookup failed: no results for hostname lookup: www.bcg.comhttps.\n",
      "2019-10-28 09:45:09 [scrapy.downloadermiddlewares.retry] DEBUG: Retrying <GET https://www.bcg.comhttps//www.linkedin.com/pulse/online-poker-turing-test-ai-business-philipp-a-gerbert?articleId=6282528979048108032#comments-6282528979048108032&trk=prof-post> (failed 1 times): DNS lookup failed: no results for hostname lookup: www.bcg.comhttps.\n",
      "2019-10-28 09:45:09 [scrapy.downloadermiddlewares.retry] DEBUG: Retrying <GET https://www.bcg.comhttps//www.linkedin.com/pulse/online-poker-turing-test-ai-business-philipp-a-gerbert?articleId=6282528979048108032#comments-6282528979048108032&trk=prof-post> (failed 2 times): DNS lookup failed: no results for hostname lookup: www.bcg.comhttps.\n",
      "2019-10-28 09:45:09 [scrapy.downloadermiddlewares.retry] DEBUG: Gave up retrying <GET https://www.bcg.comhttps//www.linkedin.com/pulse/online-poker-turing-test-ai-business-philipp-a-gerbert?articleId=6282528979048108032#comments-6282528979048108032&trk=prof-post> (failed 3 times): DNS lookup failed: no results for hostname lookup: www.bcg.comhttps.\n",
      "2019-10-28 09:45:09 [scrapy.core.engine] DEBUG: Crawled (200) <GET https://www.bcg.com/publications/2018/infographic-myth-vs-reality-artificial-intelligence-ai.aspx> (referer: None)\n",
      "2019-10-28 09:45:09 [scrapy.core.engine] DEBUG: Crawled (200) <GET https://www.bcg.com/publications/2019/how-to-win-with-artificial-intelligence-ai.aspx> (referer: None)\n",
      "2019-10-28 09:45:09 [scrapy.core.engine] DEBUG: Crawled (200) <GET https://www.bcg.com/publications/2019/next-frontier-digital-ai-transformations.aspx> (referer: None)\n",
      "2019-10-28 09:45:09 [scrapy.core.engine] DEBUG: Crawled (200) <GET https://www.bcg.com/publications/2019/artificial-intelligence-ai-help-hinder-women-workforce.aspx> (referer: None)\n",
      "2019-10-28 09:45:09 [scrapy.downloadermiddlewares.retry] DEBUG: Retrying <GET https://www.bcg.comhttps//www.youtube.com/watch?v=K1bfWRgVqMc&feature=youtu.be> (failed 1 times): DNS lookup failed: no results for hostname lookup: www.bcg.comhttps.\n",
      "2019-10-28 09:45:09 [scrapy.core.scraper] ERROR: Error downloading <GET https://www.bcg.comhttps//www.113.vovici.net/se/13B2588B445430B5>\n",
      "Traceback (most recent call last):\n",
      "  File \"C:\\programs\\Continuum\\anaconda3\\lib\\site-packages\\twisted\\internet\\defer.py\", line 1416, in _inlineCallbacks\n",
      "    result = result.throwExceptionIntoGenerator(g)\n",
      "  File \"C:\\programs\\Continuum\\anaconda3\\lib\\site-packages\\twisted\\python\\failure.py\", line 512, in throwExceptionIntoGenerator\n",
      "    return g.throw(self.type, self.value, self.tb)\n",
      "  File \"C:\\programs\\Continuum\\anaconda3\\lib\\site-packages\\scrapy\\core\\downloader\\middleware.py\", line 43, in process_request\n",
      "    defer.returnValue((yield download_func(request=request,spider=spider)))\n",
      "  File \"C:\\programs\\Continuum\\anaconda3\\lib\\site-packages\\twisted\\internet\\defer.py\", line 654, in _runCallbacks\n",
      "    current.result = callback(current.result, *args, **kw)\n",
      "  File \"C:\\programs\\Continuum\\anaconda3\\lib\\site-packages\\twisted\\internet\\endpoints.py\", line 975, in startConnectionAttempts\n",
      "    \"no results for hostname lookup: {}\".format(self._hostStr)\n",
      "twisted.internet.error.DNSLookupError: DNS lookup failed: no results for hostname lookup: www.bcg.comhttps.\n",
      "2019-10-28 09:45:09 [scrapy.core.engine] DEBUG: Crawled (200) <GET https://www.bcg.com/publications/2018/interview-tassilo-festetics-anheuser-busch-inbev-artificial-intelligence-is-everywhere.aspx> (referer: None)\n",
      "2019-10-28 09:45:09 [scrapy.downloadermiddlewares.retry] DEBUG: Retrying <GET https://www.bcg.comhttps//www.youtube.com/watch?v=K1bfWRgVqMc&feature=youtu.be> (failed 2 times): DNS lookup failed: no results for hostname lookup: www.bcg.comhttps.\n",
      "2019-10-28 09:45:09 [scrapy.downloadermiddlewares.retry] DEBUG: Gave up retrying <GET https://www.bcg.comhttps//www.youtube.com/watch?v=K1bfWRgVqMc&feature=youtu.be> (failed 3 times): DNS lookup failed: no results for hostname lookup: www.bcg.comhttps.\n",
      "2019-10-28 09:45:09 [scrapy.downloadermiddlewares.retry] DEBUG: Retrying <GET https://www.bcg.comhttps//www.linkedin.com/pulse/why-ai-matters-magic-wand-also-simple-tool-philipp-a-gerbert?trk=published> (failed 1 times): DNS lookup failed: no results for hostname lookup: www.bcg.comhttps.\n",
      "2019-10-28 09:45:09 [scrapy.core.scraper] ERROR: Error downloading <GET https://www.bcg.comhttps//www.linkedin.com/pulse/online-poker-turing-test-ai-business-philipp-a-gerbert?articleId=6282528979048108032#comments-6282528979048108032&trk=prof-post>\n",
      "Traceback (most recent call last):\n",
      "  File \"C:\\programs\\Continuum\\anaconda3\\lib\\site-packages\\twisted\\internet\\defer.py\", line 1416, in _inlineCallbacks\n",
      "    result = result.throwExceptionIntoGenerator(g)\n",
      "  File \"C:\\programs\\Continuum\\anaconda3\\lib\\site-packages\\twisted\\python\\failure.py\", line 512, in throwExceptionIntoGenerator\n",
      "    return g.throw(self.type, self.value, self.tb)\n",
      "  File \"C:\\programs\\Continuum\\anaconda3\\lib\\site-packages\\scrapy\\core\\downloader\\middleware.py\", line 43, in process_request\n",
      "    defer.returnValue((yield download_func(request=request,spider=spider)))\n",
      "  File \"C:\\programs\\Continuum\\anaconda3\\lib\\site-packages\\twisted\\internet\\defer.py\", line 654, in _runCallbacks\n",
      "    current.result = callback(current.result, *args, **kw)\n",
      "  File \"C:\\programs\\Continuum\\anaconda3\\lib\\site-packages\\twisted\\internet\\endpoints.py\", line 975, in startConnectionAttempts\n",
      "    \"no results for hostname lookup: {}\".format(self._hostStr)\n",
      "twisted.internet.error.DNSLookupError: DNS lookup failed: no results for hostname lookup: www.bcg.comhttps.\n"
     ]
    },
    {
     "name": "stderr",
     "output_type": "stream",
     "text": [
      "2019-10-28 09:45:09 [scrapy.downloadermiddlewares.retry] DEBUG: Retrying <GET https://www.bcg.comhttps//www.linkedin.com/pulse/why-ai-matters-magic-wand-also-simple-tool-philipp-a-gerbert?trk=published> (failed 2 times): DNS lookup failed: no results for hostname lookup: www.bcg.comhttps.\n",
      "2019-10-28 09:45:09 [scrapy.core.engine] DEBUG: Crawled (200) <GET https://www.bcg.com/publications/2017/infographic-what-is-holding-back-artificial-intelligence.aspx> (referer: None)\n",
      "2019-10-28 09:45:09 [scrapy.downloadermiddlewares.retry] DEBUG: Gave up retrying <GET https://www.bcg.comhttps//www.linkedin.com/pulse/why-ai-matters-magic-wand-also-simple-tool-philipp-a-gerbert?trk=published> (failed 3 times): DNS lookup failed: no results for hostname lookup: www.bcg.comhttps.\n",
      "2019-10-28 09:45:09 [urllib3.connectionpool] DEBUG: Starting new HTTPS connection (1): www.bcg.com:443\n",
      "2019-10-28 09:45:09 [urllib3.connectionpool] DEBUG: https://www.bcg.com:443 \"GET /publications/2018/infographic-myth-vs-reality-artificial-intelligence-ai.aspx HTTP/1.1\" 200 16061\n",
      "2019-10-28 09:45:09 [scrapy.core.engine] DEBUG: Crawled (200) <GET https://www.bcg.com/publications/2018/build-buy-dilemma-artificial-intelligence.aspx> (referer: None)\n",
      "2019-10-28 09:45:09 [scrapy.core.engine] DEBUG: Crawled (200) <GET https://www.bcg.com/publications/2018/big-leap-toward-ai-scale.aspx> (referer: None)\n",
      "2019-10-28 09:45:09 [scrapy.core.engine] DEBUG: Crawled (200) <GET https://www.bcg.com/publications/2018/artificial-intelligence-will-reshape-companies-industries-nations-interview-kai-fu-lee.aspx> (referer: None)\n",
      "2019-10-28 09:45:09 [scrapy.core.engine] DEBUG: Crawled (200) <GET https://www.bcg.com/publications/2019/augmented-age-conversation-moonshot-thinker-maurice-conti.aspx> (referer: None)\n",
      "2019-10-28 09:45:09 [scrapy.core.engine] DEBUG: Crawled (200) <GET https://www.bcg.com/publications/2018/artificial-intelligence-factory-future.aspx> (referer: None)\n"
     ]
    },
    {
     "name": "stdout",
     "output_type": "stream",
     "text": [
      "https://www.bcg.com/publications/2018/infographic-myth-vs-reality-artificial-intelligence-ai.aspx\n"
     ]
    },
    {
     "name": "stderr",
     "output_type": "stream",
     "text": [
      "2019-10-28 09:45:09 [scrapy.core.engine] DEBUG: Crawled (200) <GET https://www.bcg.com/publications/2017/strategy-technology-digital-is-your-business-ready-artificial-intelligence.aspx> (referer: None)\n",
      "2019-10-28 09:45:09 [scrapy.core.engine] DEBUG: Crawled (200) <GET https://www.bcg.com/publications/2018/how-ai-robotics-will-disrupt-defense-industry.aspx> (referer: None)\n",
      "2019-10-28 09:45:09 [urllib3.connectionpool] DEBUG: Starting new HTTPS connection (1): www.bcg.com:443\n",
      "2019-10-28 09:45:09 [urllib3.connectionpool] DEBUG: https://www.bcg.com:443 \"GET /publications/2019/how-to-win-with-artificial-intelligence-ai.aspx HTTP/1.1\" 200 51548\n",
      "2019-10-28 09:45:09 [urllib3.connectionpool] DEBUG: Starting new HTTPS connection (1): www.bcg.com:443\n",
      "2019-10-28 09:45:09 [urllib3.connectionpool] DEBUG: https://www.bcg.com:443 \"GET /publications/2019/next-frontier-digital-ai-transformations.aspx HTTP/1.1\" 200 32461\n"
     ]
    },
    {
     "name": "stdout",
     "output_type": "stream",
     "text": [
      "https://www.bcg.com/publications/2019/how-to-win-with-artificial-intelligence-ai.aspx\n",
      "https://www.bcg.com/publications/2019/next-frontier-digital-ai-transformations.aspx\n"
     ]
    },
    {
     "name": "stderr",
     "output_type": "stream",
     "text": [
      "2019-10-28 09:45:09 [urllib3.connectionpool] DEBUG: Starting new HTTPS connection (1): www.bcg.com:443\n",
      "2019-10-28 09:45:09 [urllib3.connectionpool] DEBUG: https://www.bcg.com:443 \"GET /publications/2019/artificial-intelligence-ai-help-hinder-women-workforce.aspx HTTP/1.1\" 200 24514\n",
      "2019-10-28 09:45:09 [urllib3.connectionpool] DEBUG: Starting new HTTPS connection (1): www.bcg.com:443\n",
      "2019-10-28 09:45:10 [urllib3.connectionpool] DEBUG: https://www.bcg.com:443 \"GET /publications/2018/interview-tassilo-festetics-anheuser-busch-inbev-artificial-intelligence-is-everywhere.aspx HTTP/1.1\" 200 19864\n",
      "2019-10-28 09:45:10 [scrapy.core.scraper] ERROR: Error downloading <GET https://www.bcg.comhttps//www.youtube.com/watch?v=K1bfWRgVqMc&feature=youtu.be>\n",
      "Traceback (most recent call last):\n",
      "  File \"C:\\programs\\Continuum\\anaconda3\\lib\\site-packages\\twisted\\internet\\defer.py\", line 1416, in _inlineCallbacks\n",
      "    result = result.throwExceptionIntoGenerator(g)\n",
      "  File \"C:\\programs\\Continuum\\anaconda3\\lib\\site-packages\\twisted\\python\\failure.py\", line 512, in throwExceptionIntoGenerator\n",
      "    return g.throw(self.type, self.value, self.tb)\n",
      "  File \"C:\\programs\\Continuum\\anaconda3\\lib\\site-packages\\scrapy\\core\\downloader\\middleware.py\", line 43, in process_request\n",
      "    defer.returnValue((yield download_func(request=request,spider=spider)))\n",
      "  File \"C:\\programs\\Continuum\\anaconda3\\lib\\site-packages\\twisted\\internet\\defer.py\", line 654, in _runCallbacks\n",
      "    current.result = callback(current.result, *args, **kw)\n",
      "  File \"C:\\programs\\Continuum\\anaconda3\\lib\\site-packages\\twisted\\internet\\endpoints.py\", line 975, in startConnectionAttempts\n",
      "    \"no results for hostname lookup: {}\".format(self._hostStr)\n",
      "twisted.internet.error.DNSLookupError: DNS lookup failed: no results for hostname lookup: www.bcg.comhttps.\n"
     ]
    },
    {
     "name": "stdout",
     "output_type": "stream",
     "text": [
      "https://www.bcg.com/publications/2019/artificial-intelligence-ai-help-hinder-women-workforce.aspx\n",
      "https://www.bcg.com/publications/2018/interview-tassilo-festetics-anheuser-busch-inbev-artificial-intelligence-is-everywhere.aspx\n"
     ]
    },
    {
     "name": "stderr",
     "output_type": "stream",
     "text": [
      "2019-10-28 09:45:10 [scrapy.core.scraper] ERROR: Error downloading <GET https://www.bcg.comhttps//www.linkedin.com/pulse/why-ai-matters-magic-wand-also-simple-tool-philipp-a-gerbert?trk=published>\n",
      "Traceback (most recent call last):\n",
      "  File \"C:\\programs\\Continuum\\anaconda3\\lib\\site-packages\\twisted\\internet\\defer.py\", line 1416, in _inlineCallbacks\n",
      "    result = result.throwExceptionIntoGenerator(g)\n",
      "  File \"C:\\programs\\Continuum\\anaconda3\\lib\\site-packages\\twisted\\python\\failure.py\", line 512, in throwExceptionIntoGenerator\n",
      "    return g.throw(self.type, self.value, self.tb)\n",
      "  File \"C:\\programs\\Continuum\\anaconda3\\lib\\site-packages\\scrapy\\core\\downloader\\middleware.py\", line 43, in process_request\n",
      "    defer.returnValue((yield download_func(request=request,spider=spider)))\n",
      "  File \"C:\\programs\\Continuum\\anaconda3\\lib\\site-packages\\twisted\\internet\\defer.py\", line 654, in _runCallbacks\n",
      "    current.result = callback(current.result, *args, **kw)\n",
      "  File \"C:\\programs\\Continuum\\anaconda3\\lib\\site-packages\\twisted\\internet\\endpoints.py\", line 975, in startConnectionAttempts\n",
      "    \"no results for hostname lookup: {}\".format(self._hostStr)\n",
      "twisted.internet.error.DNSLookupError: DNS lookup failed: no results for hostname lookup: www.bcg.comhttps.\n",
      "2019-10-28 09:45:10 [urllib3.connectionpool] DEBUG: Starting new HTTPS connection (1): www.bcg.com:443\n",
      "2019-10-28 09:45:10 [urllib3.connectionpool] DEBUG: https://www.bcg.com:443 \"GET /publications/2017/infographic-what-is-holding-back-artificial-intelligence.aspx HTTP/1.1\" 200 15866\n",
      "2019-10-28 09:45:10 [scrapy.core.engine] DEBUG: Crawled (200) <GET https://www.bcg.com/publications/2017/technology-digital-strategy-putting-artificial-intelligence-work.aspx> (referer: None)\n",
      "2019-10-28 09:45:10 [urllib3.connectionpool] DEBUG: Starting new HTTPS connection (1): www.bcg.com:443\n",
      "2019-10-28 09:45:10 [urllib3.connectionpool] DEBUG: https://www.bcg.com:443 \"GET /publications/2018/build-buy-dilemma-artificial-intelligence.aspx HTTP/1.1\" 200 24142\n"
     ]
    },
    {
     "name": "stdout",
     "output_type": "stream",
     "text": [
      "https://www.bcg.com/publications/2017/infographic-what-is-holding-back-artificial-intelligence.aspx\n",
      "https://www.bcg.com/publications/2018/build-buy-dilemma-artificial-intelligence.aspx\n"
     ]
    },
    {
     "name": "stderr",
     "output_type": "stream",
     "text": [
      "2019-10-28 09:45:10 [urllib3.connectionpool] DEBUG: Starting new HTTPS connection (1): www.bcg.com:443\n",
      "2019-10-28 09:45:10 [urllib3.connectionpool] DEBUG: https://www.bcg.com:443 \"GET /publications/2018/big-leap-toward-ai-scale.aspx HTTP/1.1\" 200 27251\n",
      "2019-10-28 09:45:10 [urllib3.connectionpool] DEBUG: Starting new HTTPS connection (1): www.bcg.com:443\n",
      "2019-10-28 09:45:10 [urllib3.connectionpool] DEBUG: https://www.bcg.com:443 \"GET /publications/2018/artificial-intelligence-will-reshape-companies-industries-nations-interview-kai-fu-lee.aspx HTTP/1.1\" 200 24077\n"
     ]
    },
    {
     "name": "stdout",
     "output_type": "stream",
     "text": [
      "https://www.bcg.com/publications/2018/big-leap-toward-ai-scale.aspx\n",
      "https://www.bcg.com/publications/2018/artificial-intelligence-will-reshape-companies-industries-nations-interview-kai-fu-lee.aspx\n"
     ]
    },
    {
     "name": "stderr",
     "output_type": "stream",
     "text": [
      "2019-10-28 09:45:10 [urllib3.connectionpool] DEBUG: Starting new HTTPS connection (1): www.bcg.com:443\n",
      "2019-10-28 09:45:10 [urllib3.connectionpool] DEBUG: https://www.bcg.com:443 \"GET /publications/2018/artificial-intelligence-factory-future.aspx HTTP/1.1\" 200 29816\n",
      "2019-10-28 09:45:10 [urllib3.connectionpool] DEBUG: Starting new HTTPS connection (1): www.bcg.com:443\n",
      "2019-10-28 09:45:10 [urllib3.connectionpool] DEBUG: https://www.bcg.com:443 \"GET /publications/2019/augmented-age-conversation-moonshot-thinker-maurice-conti.aspx HTTP/1.1\" 200 23053\n"
     ]
    },
    {
     "name": "stdout",
     "output_type": "stream",
     "text": [
      "https://www.bcg.com/publications/2018/artificial-intelligence-factory-future.aspx\n",
      "https://www.bcg.com/publications/2019/augmented-age-conversation-moonshot-thinker-maurice-conti.aspx\n"
     ]
    },
    {
     "name": "stderr",
     "output_type": "stream",
     "text": [
      "2019-10-28 09:45:10 [urllib3.connectionpool] DEBUG: Starting new HTTPS connection (1): www.bcg.com:443\n",
      "2019-10-28 09:45:10 [urllib3.connectionpool] DEBUG: https://www.bcg.com:443 \"GET /publications/2018/how-ai-robotics-will-disrupt-defense-industry.aspx HTTP/1.1\" 200 23874\n",
      "2019-10-28 09:45:10 [urllib3.connectionpool] DEBUG: Starting new HTTPS connection (1): www.bcg.com:443\n",
      "2019-10-28 09:45:10 [urllib3.connectionpool] DEBUG: https://www.bcg.com:443 \"GET /publications/2017/strategy-technology-digital-is-your-business-ready-artificial-intelligence.aspx HTTP/1.1\" 200 22651\n"
     ]
    },
    {
     "name": "stdout",
     "output_type": "stream",
     "text": [
      "https://www.bcg.com/publications/2018/how-ai-robotics-will-disrupt-defense-industry.aspx\n",
      "https://www.bcg.com/publications/2017/strategy-technology-digital-is-your-business-ready-artificial-intelligence.aspx\n"
     ]
    },
    {
     "name": "stderr",
     "output_type": "stream",
     "text": [
      "2019-10-28 09:45:10 [scrapy.core.engine] DEBUG: Crawled (200) <GET https://www.bcg.com/publications/2017/competing-in-age-artificial-intelligence.aspx> (referer: None)\n",
      "2019-10-28 09:45:10 [scrapy.core.engine] DEBUG: Crawled (200) <GET https://www.bcg.com/publications/2016/future-strategy-wladawsky-berger-irving-killer-apps-game-changing-potential-ai.aspx> (referer: None)\n",
      "2019-10-28 09:45:10 [scrapy.core.engine] DEBUG: Crawled (200) <GET https://www.bcg.com/publications/2015/technology-strategy-technology-business-transformation-dandrea-raffaello-future-robotics.aspx> (referer: None)\n",
      "2019-10-28 09:45:10 [scrapy.core.engine] DEBUG: Crawled (200) <GET https://www.bcg.com/publications/2016/strategy-technology-digital-integrated-strategy-machine-using-ai-create-advantage.aspx> (referer: None)\n",
      "2019-10-28 09:45:10 [scrapy.core.engine] DEBUG: Crawled (200) <GET https://www.bcg.com/publications/2017/technology-digital-big-data-advanced-analytics-schmidhuber-jurgen-looking-future-artificial-intelligence.aspx> (referer: None)\n",
      "2019-10-28 09:45:10 [scrapy.core.engine] DEBUG: Crawled (200) <GET https://www.bcg.com/publications/2017/technology-digital-operations-powering-the-service-economy-with-rpa-ai.aspx> (referer: None)\n",
      "2019-10-28 09:45:10 [urllib3.connectionpool] DEBUG: Starting new HTTPS connection (1): www.bcg.com:443\n",
      "2019-10-28 09:45:10 [urllib3.connectionpool] DEBUG: https://www.bcg.com:443 \"GET /publications/2017/technology-digital-strategy-putting-artificial-intelligence-work.aspx HTTP/1.1\" 200 34595\n",
      "2019-10-28 09:45:11 [urllib3.connectionpool] DEBUG: Starting new HTTPS connection (1): www.bcg.com:443\n",
      "2019-10-28 09:45:11 [urllib3.connectionpool] DEBUG: https://www.bcg.com:443 \"GET /publications/2016/future-strategy-wladawsky-berger-irving-killer-apps-game-changing-potential-ai.aspx HTTP/1.1\" 200 46898\n"
     ]
    },
    {
     "name": "stdout",
     "output_type": "stream",
     "text": [
      "https://www.bcg.com/publications/2017/technology-digital-strategy-putting-artificial-intelligence-work.aspx\n",
      "https://www.bcg.com/publications/2016/future-strategy-wladawsky-berger-irving-killer-apps-game-changing-potential-ai.aspx\n"
     ]
    },
    {
     "name": "stderr",
     "output_type": "stream",
     "text": [
      "2019-10-28 09:45:11 [urllib3.connectionpool] DEBUG: Starting new HTTPS connection (1): www.bcg.com:443\n",
      "2019-10-28 09:45:11 [urllib3.connectionpool] DEBUG: https://www.bcg.com:443 \"GET /publications/2017/competing-in-age-artificial-intelligence.aspx HTTP/1.1\" 200 24731\n",
      "2019-10-28 09:45:11 [urllib3.connectionpool] DEBUG: Starting new HTTPS connection (1): www.bcg.com:443\n",
      "2019-10-28 09:45:11 [urllib3.connectionpool] DEBUG: https://www.bcg.com:443 \"GET /publications/2016/strategy-technology-digital-integrated-strategy-machine-using-ai-create-advantage.aspx HTTP/1.1\" 200 25894\n"
     ]
    },
    {
     "name": "stdout",
     "output_type": "stream",
     "text": [
      "https://www.bcg.com/publications/2017/competing-in-age-artificial-intelligence.aspx\n",
      "https://www.bcg.com/publications/2016/strategy-technology-digital-integrated-strategy-machine-using-ai-create-advantage.aspx\n",
      "https://www.bcg.com/publications/2015/technology-strategy-technology-business-transformation-dandrea-raffaello-future-robotics.aspx\n"
     ]
    },
    {
     "name": "stderr",
     "output_type": "stream",
     "text": [
      "2019-10-28 09:45:11 [urllib3.connectionpool] DEBUG: Starting new HTTPS connection (1): www.bcg.com:443\n",
      "2019-10-28 09:45:11 [urllib3.connectionpool] DEBUG: https://www.bcg.com:443 \"GET /publications/2015/technology-strategy-technology-business-transformation-dandrea-raffaello-future-robotics.aspx HTTP/1.1\" 200 48760\n",
      "2019-10-28 09:45:11 [urllib3.connectionpool] DEBUG: Starting new HTTPS connection (1): www.bcg.com:443\n",
      "2019-10-28 09:45:11 [urllib3.connectionpool] DEBUG: https://www.bcg.com:443 \"GET /publications/2017/technology-digital-big-data-advanced-analytics-schmidhuber-jurgen-looking-future-artificial-intelligence.aspx HTTP/1.1\" 200 18830\n",
      "2019-10-28 09:45:11 [urllib3.connectionpool] DEBUG: Starting new HTTPS connection (1): www.bcg.com:443\n",
      "2019-10-28 09:45:11 [urllib3.connectionpool] DEBUG: https://www.bcg.com:443 \"GET /publications/2017/technology-digital-operations-powering-the-service-economy-with-rpa-ai.aspx HTTP/1.1\" 200 22607\n"
     ]
    },
    {
     "name": "stdout",
     "output_type": "stream",
     "text": [
      "https://www.bcg.com/publications/2017/technology-digital-big-data-advanced-analytics-schmidhuber-jurgen-looking-future-artificial-intelligence.aspx\n",
      "https://www.bcg.com/publications/2017/technology-digital-operations-powering-the-service-economy-with-rpa-ai.aspx\n"
     ]
    },
    {
     "name": "stderr",
     "output_type": "stream",
     "text": [
      "2019-10-28 09:45:11 [scrapy.core.engine] INFO: Closing spider (finished)\n",
      "2019-10-28 09:45:11 [scrapy.statscollectors] INFO: Dumping Scrapy stats:\n",
      "{'downloader/exception_count': 12,\n",
      " 'downloader/exception_type_count/twisted.internet.error.DNSLookupError': 12,\n",
      " 'downloader/request_bytes': 9866,\n",
      " 'downloader/request_count': 32,\n",
      " 'downloader/request_method_count/GET': 32,\n",
      " 'downloader/response_bytes': 569068,\n",
      " 'downloader/response_count': 20,\n",
      " 'downloader/response_status_count/200': 20,\n",
      " 'finish_reason': 'finished',\n",
      " 'finish_time': datetime.datetime(2019, 10, 28, 8, 45, 11, 625859),\n",
      " 'log_count/DEBUG': 72,\n",
      " 'log_count/ERROR': 4,\n",
      " 'log_count/INFO': 9,\n",
      " 'response_received_count': 20,\n",
      " 'retry/count': 8,\n",
      " 'retry/max_reached': 4,\n",
      " 'retry/reason_count/twisted.internet.error.DNSLookupError': 8,\n",
      " 'scheduler/dequeued': 32,\n",
      " 'scheduler/dequeued/memory': 32,\n",
      " 'scheduler/enqueued': 32,\n",
      " 'scheduler/enqueued/memory': 32,\n",
      " 'start_time': datetime.datetime(2019, 10, 28, 8, 45, 9, 203722)}\n",
      "2019-10-28 09:45:11 [scrapy.core.engine] INFO: Spider closed (finished)\n"
     ]
    }
   ],
   "source": [
    "from scrapy.crawler import CrawlerProcess\n",
    "\n",
    "# Create class\n",
    "class bcg_spider (scrapy.Spider):\n",
    "    name = \"bcg_spider\"\n",
    "    \n",
    "    def start_requests(self):\n",
    "        bcg_urls = bcg_urllist\n",
    "        for url in bcg_urls:\n",
    "            yield scrapy.Request(url = url, callback = self.parse)\n",
    "            \n",
    "    #Parsing\n",
    "    def parse(self, response):\n",
    "        print(response.url)\n",
    "        page_url = response.url\n",
    "        page_html = requests.get(page_url).content\n",
    "        page_sel = Selector(text = page_html)\n",
    "        \n",
    "        page_title = page_sel.css('title ::text').extract_first()\n",
    "        page_text = page_sel.css('div.container-text ::text').extract()\n",
    "        \n",
    "        page_text = ' '.join(page_text)\n",
    "        \n",
    "        bcg_contdict[page_title] = page_text\n",
    "        bcg_urldict[page_title] = page_url\n",
    "        \n",
    "# Initiatlize dictionary\n",
    "bcg_contdict = dict()\n",
    "bcg_urldict = dict()\n",
    "\n",
    "#Run spider\n",
    "process = CrawlerProcess()\n",
    "process.crawl(bcg_spider)\n",
    "process.start()"
   ]
  },
  {
   "cell_type": "code",
   "execution_count": 10,
   "metadata": {},
   "outputs": [
    {
     "data": {
      "text/plain": [
       "20"
      ]
     },
     "execution_count": 10,
     "metadata": {},
     "output_type": "execute_result"
    }
   ],
   "source": [
    "process.stop()"
   ]
  },
  {
   "cell_type": "code",
   "execution_count": 12,
   "metadata": {},
   "outputs": [
    {
     "name": "stdout",
     "output_type": "stream",
     "text": [
      "20 20\n"
     ]
    }
   ],
   "source": [
    "print(len(bcg_contdict),\n",
    "      len(bcg_urldict)\n",
    "     )"
   ]
  },
  {
   "cell_type": "code",
   "execution_count": 11,
   "metadata": {},
   "outputs": [],
   "source": [
    "import json\n",
    "\n",
    "with open('..\\\\data_raw\\\\bcg_articles.json', 'w') as file:\n",
    "    json.dump(bcg_contdict, file)\n",
    "    \n",
    "with open('..\\\\data_raw\\\\bcg_urls.json', 'w') as file:\n",
    "    json.dump(bcg_urldict, file)"
   ]
  }
 ],
 "metadata": {
  "kernelspec": {
   "display_name": "Python 3",
   "language": "python",
   "name": "python3"
  },
  "language_info": {
   "codemirror_mode": {
    "name": "ipython",
    "version": 3
   },
   "file_extension": ".py",
   "mimetype": "text/x-python",
   "name": "python",
   "nbconvert_exporter": "python",
   "pygments_lexer": "ipython3",
   "version": "3.6.9"
  }
 },
 "nbformat": 4,
 "nbformat_minor": 2
}
