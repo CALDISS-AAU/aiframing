{
 "cells": [
  {
   "cell_type": "markdown",
   "metadata": {},
   "source": [
    "# Scraper for: Boston Consulting Group \n",
    "\n",
    "Main URL: https://www.bcg.com/\n",
    "\n",
    "AI site: https://www.bcg.com/publications/collections/strategy-digital-artificial-intelligence-business.aspx"
   ]
  },
  {
   "cell_type": "markdown",
   "metadata": {},
   "source": [
    "## Libraries\n",
    "\n",
    "Loading libraries..."
   ]
  },
  {
   "cell_type": "code",
   "execution_count": 8,
   "metadata": {},
   "outputs": [],
   "source": [
    "import scrapy\n",
    "import requests\n",
    "from scrapy import Selector\n",
    "\n",
    "import os\n",
    "import sys\n",
    "from datetime import date\n",
    "\n",
    "from selenium import webdriver\n",
    "from selenium.webdriver.common.keys import Keys\n",
    "from selenium.webdriver.firefox.firefox_binary import FirefoxBinary\n",
    "from selenium.common.exceptions import NoSuchElementException, WebDriverException, ElementNotInteractableException\n",
    "from selenium.webdriver.common.action_chains import ActionChains\n",
    "\n",
    "import re\n",
    "\n",
    "import time"
   ]
  },
  {
   "cell_type": "markdown",
   "metadata": {},
   "source": [
    "## URL List\n",
    "The scraper collects urls from returned results of searching for \"artificial intelligence\" filtered for publications: https://www.bcg.com/search.aspx?q=Artificial%20Intelligence&sort=date_desc&tax-content_type[0][0]=Publications"
   ]
  },
  {
   "cell_type": "code",
   "execution_count": 7,
   "metadata": {},
   "outputs": [],
   "source": [
    "start_url = 'https://www.bcg.com/search.aspx?q=Artificial%20Intelligence&sort=date_desc&tax-content_type[0][0]=Publications'"
   ]
  },
  {
   "cell_type": "code",
   "execution_count": 13,
   "metadata": {},
   "outputs": [],
   "source": [
    "## Scrape article urls (convert to code to use)\n",
    "\n",
    "from selenium.webdriver.support import expected_conditions as EC\n",
    "from selenium.webdriver.common.by import By\n",
    "from selenium.webdriver.support.ui import WebDriverWait as wait\n",
    "from selenium.webdriver.chrome.options import Options\n",
    "\n",
    "chromeOptions = Options()\n",
    "chromeOptions.add_argument(\"--kiosk\")\n",
    "\n",
    "driver = webdriver.Chrome(executable_path = 'C:\\\\bin\\\\chromedriver', options=chromeOptions)\n",
    "\n",
    "driver.get(start_url)\n",
    "time.sleep(2)\n",
    "\n",
    "#coordinates = {'x': 0, 'y': 2000}\n",
    "#driver.execute_script('window.scrollTo({}, {});'.format(coordinates['x'], coordinates['y']))\n",
    "#time.sleep(2)\n",
    "\n",
    "lenOfPage = driver.execute_script(\"window.scrollTo(0, document.body.scrollHeight);var lenOfPage=document.body.scrollHeight;return lenOfPage;\")\n",
    "match=False\n",
    "while(match==False):\n",
    "    lastCount = lenOfPage\n",
    "    time.sleep(2)\n",
    "    lenOfPage = driver.execute_script(\"window.scrollTo(0, document.body.scrollHeight);var lenOfPage=document.body.scrollHeight;return lenOfPage;\")\n",
    "    if lastCount==lenOfPage:\n",
    "        match=True\n",
    "\n"
   ]
  },
  {
   "cell_type": "code",
   "execution_count": 14,
   "metadata": {},
   "outputs": [],
   "source": [
    "pageSource = driver.page_source\n",
    "driver.quit()"
   ]
  },
  {
   "cell_type": "code",
   "execution_count": 18,
   "metadata": {},
   "outputs": [],
   "source": [
    "pageSel = Selector(text = pageSource)\n",
    "\n",
    "title_sel = 'div.sk-hits > section.search-result > div.search-result-container > div > div.result-header > a > h2.title::text'\n",
    "url_sel = 'div.sk-hits > section.search-result > div.search-result-container > div > div.result-header > a::attr(href)'\n",
    "\n",
    "urldict = {}\n",
    "\n",
    "urldict['urls'] = pageSel.css(url_sel).extract()\n",
    "urldict['titles'] = pageSel.css(title_sel).extract()"
   ]
  },
  {
   "cell_type": "code",
   "execution_count": 22,
   "metadata": {},
   "outputs": [
    {
     "name": "stdout",
     "output_type": "stream",
     "text": [
      "421 421\n"
     ]
    }
   ],
   "source": [
    "print(len(urldict['urls']),\n",
    "      len(urldict['titles']))"
   ]
  },
  {
   "cell_type": "code",
   "execution_count": 23,
   "metadata": {},
   "outputs": [
    {
     "data": {
      "text/plain": [
       "'/publications/2020/tmt-value-creators-last-decade-was-great-what-about-next.aspx'"
      ]
     },
     "execution_count": 23,
     "metadata": {},
     "output_type": "execute_result"
    }
   ],
   "source": [
    "urldict['urls'][1]"
   ]
  },
  {
   "cell_type": "code",
   "execution_count": 25,
   "metadata": {},
   "outputs": [
    {
     "name": "stdout",
     "output_type": "stream",
     "text": [
      "https://www.bcg.com/publications/2020/governments-navigate-uncertainty-emerge-stronger.aspx\n"
     ]
    }
   ],
   "source": [
    "urllist = list(map(lambda url: 'https://www.bcg.com' + url, urldict['urls']))\n",
    "print(urllist[0])"
   ]
  },
  {
   "cell_type": "code",
   "execution_count": 26,
   "metadata": {},
   "outputs": [],
   "source": [
    "with open('../data_raw/urls/bcg_urls.txt', 'w') as f:\n",
    "    for url in urllist:\n",
    "        f.write(url + \"\\n\")"
   ]
  },
  {
   "cell_type": "markdown",
   "metadata": {},
   "source": [
    "## Load URLs"
   ]
  },
  {
   "cell_type": "code",
   "execution_count": 1,
   "metadata": {},
   "outputs": [
    {
     "name": "stdout",
     "output_type": "stream",
     "text": [
      "421 \n",
      " https://www.bcg.com/capabilities/operations/insights.aspx\n"
     ]
    }
   ],
   "source": [
    "bcg_urls = []\n",
    "with open('../data_raw/urls/bcg_urls.txt', 'r') as f:\n",
    "    for line in f:\n",
    "        bcg_urls.append(line.strip())\n",
    "\n",
    "print(len(bcg_urls),\n",
    "      '\\n',\n",
    "     bcg_urls[len(bcg_urls)-1])"
   ]
  },
  {
   "cell_type": "code",
   "execution_count": 2,
   "metadata": {},
   "outputs": [],
   "source": [
    "urllist = bcg_urls"
   ]
  },
  {
   "cell_type": "code",
   "execution_count": 3,
   "metadata": {},
   "outputs": [
    {
     "data": {
      "text/plain": [
       "['https://www.bcg.com/publications/2020/governments-navigate-uncertainty-emerge-stronger.aspx',\n",
       " 'https://www.bcg.com/publications/2020/tmt-value-creators-last-decade-was-great-what-about-next.aspx',\n",
       " 'https://www.bcg.com/publications/2020/tmt-value-creators-tech-star-keeps-burning-bright.aspx',\n",
       " 'https://www.bcg.com/publications/2020/tmt-value-creators-unlocking-building-value-telecom.aspx',\n",
       " 'https://www.bcg.com/publications/2020/reviving-agricultural-innovation-seeds-crop-protection.aspx',\n",
       " 'https://www.bcg.com/publications/2020/coming-battle-for-spectrum.aspx',\n",
       " 'https://www.bcg.com/featured-insights/how-to/roi-of-ai.aspx',\n",
       " 'https://www.bcg.com/publications/2020/isr-tech-disrupt-market-defense-drones.aspx',\n",
       " 'https://www.bcg.com/publications/2020/tap-your-company-collective-intelligence-with-mindfulness.aspx',\n",
       " 'https://www.bcg.com/publications/2020/show-tell-approach-data-governance.aspx',\n",
       " 'https://www.bcg.com/publications/2020/fixing-talent-gap-armed-forces-worldwide.aspx',\n",
       " 'https://www.bcg.com/capabilities/operations/conquering-complexity-supply-chains-digital-twins.aspx',\n",
       " 'https://www.bcg.com/publications/2020/quantum-advantage-fighting-climate-change.aspx',\n",
       " 'https://www.bcg.com/publications/2020/manufactures-unlock-value-from-data-sharing.aspx',\n",
       " 'https://www.bcg.com/publications/2020/lessons-best-in-class-cfos.aspx',\n",
       " 'https://www.bcg.com/perspectives/236847',\n",
       " 'https://www.bcg.com/publications/2019/companies-cognition-terrible-thing-to-waste.aspx',\n",
       " 'https://www.bcg.com/publications/2019/quantum-computing-transform-biopharma-research-development.aspx',\n",
       " 'https://www.bcg.com/publications/2019/value-creators-report-superincumbents-dilemma.aspx',\n",
       " 'https://www.bcg.com/industries/biopharmaceuticals/artificial-intelligence-helped-treatment-cancer-patients.aspx']"
      ]
     },
     "execution_count": 3,
     "metadata": {},
     "output_type": "execute_result"
    }
   ],
   "source": [
    "urllist[0:20]"
   ]
  },
  {
   "cell_type": "code",
   "execution_count": 4,
   "metadata": {},
   "outputs": [],
   "source": [
    "page_url = urllist[8]"
   ]
  },
  {
   "cell_type": "code",
   "execution_count": 5,
   "metadata": {},
   "outputs": [],
   "source": [
    "page_dict = dict()\n",
    "main_dict = dict()"
   ]
  },
  {
   "cell_type": "code",
   "execution_count": 9,
   "metadata": {},
   "outputs": [],
   "source": [
    "type_regex = r'(?<=\\\"siteSection\\\"\\:\\\").*?(?=\\\",)'\n",
    "title_regex = r'(?<=\\\"browserTitle\\\"\\:\\\").*?(?=\\\",)'\n",
    "date_regex = r'(?<=\\\"publicationRelease\\\"\\:\\\")\\d{1,2}/\\d{1,2}/\\d{4}'\n",
    "\n",
    "page_html = requests.get(page_url).content\n",
    "page_sel = Selector(text = page_html)\n",
    "\n",
    "script_text = page_sel.css('script ::text').extract()\n",
    "script_text = ' '.join(script_text)\n",
    "\n",
    "siteno = 1\n",
    "\n",
    "page_id = 'site' + str(siteno)\n",
    "page_type = re.findall(type_regex, script_text)[0]\n",
    "page_date = re.findall(date_regex, script_text)[0]\n",
    "page_dldate = date.today().strftime('%Y/%m/%d')\n",
    "\n",
    "if page_type == 'Featured Insights':\n",
    "    page_text = page_sel.css('div.component.page-object.text ::text').extract() #does not work due to java\n",
    "    page_title = re.findall(title_regex, script_text)[0]\n",
    "else:\n",
    "    page_title = page_sel.css('title ::text').extract_first()\n",
    "    page_text = page_sel.css('div.container-text ::text').extract()     \n",
    "\n",
    "page_text = page_text = ' '.join(page_text)\n",
    "\n",
    "page_dict['url'] = page_url\n",
    "page_dict['title'] = page_title\n",
    "page_dict['article date'] = page_date\n",
    "page_dict['download date'] = page_dldate\n",
    "page_dict['text type'] = page_type\n",
    "page_dict['text'] = page_text\n",
    "\n",
    "main_dict[page_id] = page_dict"
   ]
  },
  {
   "cell_type": "code",
   "execution_count": 10,
   "metadata": {},
   "outputs": [
    {
     "name": "stdout",
     "output_type": "stream",
     "text": [
      "1 {'url': 'https://www.bcg.com/publications/2020/tap-your-company-collective-intelligence-with-mindfulness.aspx', 'title': \"Tap Your Company's Collective Intelligence with Mindfulness\", 'article date': '02/05/2020', 'download date': '2020/03/03', 'text type': 'Publications', 'text': '\\r\\n         \\r\\n             \\r\\n                     \\r\\n             February 5, 2020 \\r\\n        By                 Christian\\xa0Greiser \\r\\n\\t\\t\\t\\t\\t\\t\\t\\t\\t\\t\\t\\t\\t\\t\\t\\t , \\n                 Jan-Philipp\\xa0Martini \\r\\n\\t\\t\\t\\t\\t\\t\\t\\t\\t\\t\\t\\t\\t\\t\\t\\t , \\n                 Liane\\xa0Stephan \\r\\n\\t\\t\\t\\t\\t\\t\\t\\t\\t\\t\\t\\t\\t\\t\\t\\t , \\n                                 and \\r\\n                 Chris\\xa0Tamdjidi \\r\\n     \\r\\n\\r\\n             \\r\\n         \\r\\n        \\r\\n\\r\\n\\r\\n \\r\\n   \\r\\n     \\r\\n       \\r\\n\\t\\t\\t\\t \\r\\n           \\r\\n             \\r\\n               \\r\\n               \\r\\n             \\r\\n           \\r\\n         \\r\\n         \\r\\n         \\r\\n         \\r\\n         \\r\\n       \\r\\n     \\r\\n   \\r\\n \\r\\n\\r\\n\\r\\n     \\r\\n         \\r\\n             \\r\\n                 \\r\\n                    \\r\\n\\r\\n\\r\\n\\r\\n                    \\r\\n\\r\\n\\r\\n\\r\\n\\r\\n\\r\\n \\r\\n\\t\\t\\t What Will It Take to Win the ’20s? \\r\\n\\t\\t \\r\\n \\r\\n \\t\\t\\t \\r\\n\\t\\t\\t\\t\\t Apply the Science of Organizational Change \\r\\n\\t\\t\\t\\t Learn more \\t\\t\\t \\r\\n\\t\\t \\r\\n\\r\\n \\r\\n\\r\\n\\r\\n\\r\\n\\r\\n\\r\\n\\r\\n\\r\\n\\r\\n\\r\\n\\r\\n\\r\\n                 \\r\\n\\r\\n                     \\r\\n                         \\r\\n             \\r\\n         \\r\\n     \\r\\n         \\r\\n             \\r\\n                 \\r\\n                         \\r\\n         \\r\\n             \\r\\n\\t\\t\\t\\t\\t\\t\\t\\t\\t\\t\\t \\r\\n \\r\\n\\r\\n                             \\r\\n         \\r\\n     \\r\\n\\r\\n                 \\r\\n                         How can a company ensure that its collective intelligence is greater than the sum of its parts? Many companies recognize that collective intelligence—the capability of a group of people to solve complex problems—is an important source of competitive advantage. Collective intelligence depends on integrating team members’ diversity, in terms of cognitive styles and world views. All team members must feel emotionally safe to share opinions and ideas and, in turn, be receptive to their colleagues’ viewpoints. But creating a culture of tolerance and acceptance is quite a challenge. One key to unlocking the potential of collective intelligence is mindfulness—a state of being present in the moment and leaving behind one’s tendency to judge. A study conducted by Awaris (a company that focuses on leadership development and scientifically proven mindfulness-based interventions) and BCG demonstrated that mindfulness fosters collective intelligence: 31 teams that participated in a ten-week mindfulness program showed an average increase of 13% in collective intelligence, as measured by tests developed by the  MIT Center for Collective Intelligence . Our study also validated the significant impact of mindfulness on emotional intelligence—people’s awareness of, and ability to manage, their own emotions and those of others—which is essential for increasing collective intelligence. Leading companies have introduced programs to  unleash the power of mindfulness  among their employees. But most of these companies have not focused explicitly on the opportunities to use mindfulness to foster collective intelligence. If implemented effectively, even relatively modest investments can generate outsize returns in team performance. \\r\\n\\r\\n             \\r\\n         \\r\\n     \\r\\n         \\r\\n             \\r\\n                 \\r\\n                    \\r\\n                             Solving Today’s Complex Problems Requires Collective Intelligence \\r\\n\\r\\n\\r\\n\\r\\n                             \\r\\n\\t\\t\\t\\t To manage rapid innovation cycles and the deep interconnectedness of knowledge work, many companies are shifting the paradigm of how people work within their organization’s system. They have invested in new, dynamic ways of working and are setting up cross-functional teams that work iteratively to solve small components of large, complex problems. But to transition to dynamic ways of working, a company must do more than change processes and structures. It must fundamentally transform how cross-functional teams interact and collaborate. This requires bringing forth an emergent property of their system: the collective intelligence of their teams. We define collective intelligence as a group’s ability to perform the wide variety of tasks required to solve complex problems. Collective intelligence arises from the cooperation and collaboration of team members working to achieve a shared goal. Their interactions enable teams to rapidly develop solutions that one person probably could never come up with independently, even with an unlimited amount of time. Collective intelligence is not dependent on team members’ IQ, knowledge, or ability to think logically or on the team’s composition. Instead, it is largely driven by team members’ unconscious processing: their emotional intelligence and emergent properties such as trust, emotional and psychological safety, and equality of participation. This description is supported by studies conducted by the MIT Center for Collective Intelligence and  Google’s Project Aristotle . BCG’s experience across a large number of transformations to new ways of working and agile methods also points to emotional and noncognitive factors as the key drivers of collective intelligence. The concept of collective intelligence in a business organization is not new. But the increasing interconnectedness of knowledge work and the growing variety of problems have raised the profile of collective intelligence as a competitive differentiator. So, companies need to understand the concept more systematically and scientifically. \\r\\n\\r\\n\\r\\n\\r\\n\\r\\n\\r\\n\\r\\n \\r\\n\\t\\t\\t What Will It Take to Win the ’20s? \\r\\n\\t\\t \\r\\n \\r\\n \\t\\t\\t \\r\\n\\t\\t\\t\\t\\t Apply the Science of Organizational Change \\r\\n\\t\\t\\t\\t Learn more \\t\\t\\t \\r\\n\\t\\t \\r\\n\\r\\n \\r\\n\\r\\n\\r\\n\\r\\n\\r\\n\\r\\n\\r\\n\\r\\n\\r\\n\\r\\n\\r\\n\\r\\n                 \\r\\n\\r\\n                     \\r\\n                         \\r\\n             \\r\\n         \\r\\n     \\r\\n         \\r\\n             \\r\\n                 \\r\\n                    \\r\\n                             Tapping into the Power of Diversity \\r\\n\\r\\n\\r\\n\\r\\n                             \\r\\n\\t\\t\\t\\t Diversity is among the foundational elements of a team’s collective intelligence. In this context, diversity should not be limited to gender or functional and educational backgrounds. What’s required is a diversity of cognitive styles—that is, different ways of thinking about, perceiving, and remembering information or simply different ways of solving problems or seeing the world. While some people, for example, prefer an adaptive approach to problem solving and tend to orchestrate existing information, others have a tendency to challenge the definition of the problem itself and come up with innovative solutions. To tap into the power of diversity—with respect to both expertise and world views—a company must create an environment in which individuals are willing to risk stating their opinions and to be receptive to listening to others. This requires  integrating  a team’s diversity. Teams whose members are not well integrated exhibit many dysfunctions. Members often lack a sense of joint purpose and struggle to engage in teamwork. The failure to properly integrate a team’s diversity can actually diminish its collective intelligence. In important respects, a team or organization that fully realizes its collective intelligence by integrating diverse perspectives is analogous to a human brain that consciously adapts to foster new behaviors. (See the sidebar “A Brain Can Learn to Follow New Pathways—and So Can Teams.”) \\r\\n\\r\\n\\r\\n\\r\\n\\r\\n\\r\\n\\r\\n \\r\\n\\t\\t\\t What Will It Take to Win the ’20s? \\r\\n\\t\\t \\r\\n \\r\\n \\t\\t\\t \\r\\n\\t\\t\\t\\t\\t Apply the Science of Organizational Change \\r\\n\\t\\t\\t\\t Learn more \\t\\t\\t \\r\\n\\t\\t \\r\\n\\r\\n \\r\\n\\r\\n\\r\\n\\r\\n\\r\\n\\r\\n\\r\\n\\r\\n\\r\\n\\r\\n\\r\\n\\r\\n                 \\r\\n\\r\\n                     \\r\\n                         \\r\\n             \\r\\n         \\r\\n     \\r\\n     \\r\\n       \\r\\n         \\r\\n                 A BRAIN CAN LEARN TO FOLLOW NEW PATHWAYS—AND SO CAN TEAMS \\r\\n\\r\\n          \\r\\n         \\r\\n         \\r\\n           \\r\\n                 \\r\\n     \\r\\n A diverse, cross-functional team’s way of working can be compared to the functioning of a human brain, as both are complex adaptive systems. The human brain is designed to function efficiently so that it minimizes energy consumption. Its functioning is largely unconscious and based on use of established pathways. Even so, the brain is capable of adapting. Through a conscious, focused effort, individuals can establish new neurological pathways, learn new things, and stop established behaviors. The same is true for teams. A team typically has repetitive means of interacting and well-established biases. In many cases, a team’s long-standing rituals and beliefs allow it to perform tasks efficiently; however, clinging to established pathways hinders the team’s ability to solve complex problems in new, creative ways. To adapt, a team must make a conscious effort to call out biases and practice new ways of interaction that are conducive to better outcomes and better social cohesion. In effect, it must exercise its collective intelligence. \\r\\n     \\r\\n\\r\\n            \\r\\n           \\r\\n         \\r\\n       \\r\\n     \\r\\n   \\r\\n         \\r\\n             \\r\\n                 \\r\\n                    \\r\\n                             Mindfulness Provides a Potential Solution \\r\\n\\r\\n\\r\\n\\r\\n                             \\r\\n\\t\\t\\t\\t Companies already apply approaches that foster collective intelligence. They are increasingly proficient at setting up diverse teams, breaking down organizational silos, and implementing open information systems. However, companies often do not explicitly recognize how these efforts relate to collective intelligence and thus they fail to capture the full benefits. Most notably, companies are not doing enough to identify and address inadequate emotional safety and trust among team members. That is because most companies are not sufficiently aware of people’s unconscious interactions and do not understand how unconscious factors influence team performance. Most companies also lack the skills and perseverance to constructively address issues related to emotional safety and trust. Mindfulness provides a potential solution for meeting these challenges. Many companies have introduced mindfulness into their organizations, primarily to help their employees maintain well-being and improve their clarity of thinking, cognitive abilities, and ability to stay calm. However, only a few organizations (progressive entities including the European Commission, Google, Hilti, and SAP) have also applied mindfulness to transform the collective capabilities of teams. Two examples highlight the opportunities: Hilti.  Hilti is a global leader in developing, manufacturing, and marketing products for the construction, building maintenance, energy, and manufacturing industries. The company has a long track record of fostering a positive workplace culture through a structured process called “Our Culture Journey.” Based on feedback in the annual employee engagement survey, the company decided to dedicate the next phase of this culture journey to addressing the challenge of how employees can manage their workload and build resilience. It developed a two-day program that focused on creating awareness of the stressors arising in the workplace and in individuals’ private lives. The theme of the program, which the company rolled out to all 30,000 team members worldwide, is the inseparability of performance and care; it emphasizes that collective intelligence and high performance arise naturally when people take care of themselves and each other and foster a culture of collaboration. Mindfulness practice was a core component of this program. Teams reflect on how they can anchor mindfulness and positive habits in their teamwork to support each other. The European Commission.  Recognizing the heightened challenges in the political environment, the European Commission sought to bolster a core strength of the European project: collaboration. To instill habits of collective problem solving in its organization, the commission embarked on a program to train leaders and employees in mindfulness. The program enhanced the ability of teams to work together in a caring and collaborative way. Most people who regularly practice mindfulness have an intuitive understanding of its connection to collective intelligence. What’s more, the effect of mindfulness practice on collective intelligence is objectively measurable. Awaris and BCG conducted extensive research to confirm the hypotheses of this article. We measured the collective intelligence of 31 teams, totaling 196 people, from a large German automotive company and a political organization. We took measurements twice—before and after a ten-week mindfulness program. (See the sidebar “About the Study.”) \\r\\n\\r\\n\\r\\n\\r\\n\\r\\n\\r\\n\\r\\n \\r\\n\\t\\t\\t What Will It Take to Win the ’20s? \\r\\n\\t\\t \\r\\n \\r\\n \\t\\t\\t \\r\\n\\t\\t\\t\\t\\t Apply the Science of Organizational Change \\r\\n\\t\\t\\t\\t Learn more \\t\\t\\t \\r\\n\\t\\t \\r\\n\\r\\n \\r\\n\\r\\n\\r\\n\\r\\n\\r\\n\\r\\n\\r\\n\\r\\n\\r\\n\\r\\n\\r\\n\\r\\n                 \\r\\n\\r\\n                     \\r\\n                         \\r\\n             \\r\\n         \\r\\n     \\r\\n     \\r\\n       \\r\\n         \\r\\n                 About the Study \\r\\n\\r\\n          \\r\\n         \\r\\n         \\r\\n           \\r\\n                 \\r\\n     \\r\\n Thirty-one teams, composed primarily of people with managerial responsibilities, participated in a ten-week mindfulness training program that was specifically adapted to the work context. The study focused on investigating whether a team’s collective intelligence can be enhanced by mindfulness training of its members. To measure collective intelligence, we used a set of four diverse tasks developed for this purpose by the MIT Center for Collective Intelligence: Moral Reasoning.  Teams received a case study of a problem that presented conflicting interests among several parties. We asked the teams to determine, from an ethical perspective, the most suitable solution for all parties. Responses were scored by the degree to which the groups considered the balance of competing perspectives in the problem. Creativity.  Teams had to build a complex Lego structure while taking into consideration tight constraints relating to size, quality, and aesthetics. The resulting Lego structure was scored on the accuracy of meeting those constraints. Output Optimization.  Teams were scored after performing a shopping exercise in which they had to maximize the quantity and quality of goods purchased while minimizing the costs of goods and time spent shopping. Judgment.  Teams had to estimate and agree upon quantities for 20 diverse questions (for example, “What was the highest recorded temperature in the US?”). Teams were scored based on the accuracy of their estimations. The selection of the tasks was based on Joseph McGrath’s model of group tasks. This ensured that we covered major aspects of collective intelligence, such as decision making, task execution, generation of innovative ideas, and negotiation. In the first session of the program, we randomly assigned one, or in some cases two, of the tasks to each team. We scored each team’s performance of its task. During this initial session, we also conducted an individual assessment of each team member’s mindfulness (using the “Five Facet Mindfulness Questionnaire”) and emotional intelligence (using the “Reading the Mind in the Eyes” test). In the final session of the mindfulness program, we repeated the process. We asked each team to perform one or two of the tasks that it had not previously performed. We then scored its performance on the new task and conducted another assessment of mindfulness and emotional intelligence. At the conclusion of the study, we used the arithmetic mean of the improvement of teams’ performance scores for the four tasks to determine the increase in collective intelligence. We also correlated the results of the individual assessments of mindfulness and emotional intelligence to determine the extent to which these two attributes are associated and predict collective intelligence.\\xa0 \\r\\n     \\r\\n\\r\\n            \\r\\n           \\r\\n         \\r\\n       \\r\\n     \\r\\n   \\r\\n         \\r\\n             \\r\\n                 \\r\\n                    \\r\\n\\r\\n\\r\\n\\r\\n                             \\r\\n\\t\\t\\t\\t After the mindfulness program, the teams’ collective intelligence—measured through four diverse problem-solving tasks—increased by an average of 13%. (See the exhibit.) Moreover, we found that mindfulness is significantly associated with emotional intelligence and that individual and group mindfulness scores predicted a team’s collective intelligence. \\r\\n\\r\\n\\r\\n\\r\\n\\r\\n\\r\\n\\r\\n \\r\\n\\t\\t\\t What Will It Take to Win the ’20s? \\r\\n\\t\\t \\r\\n \\r\\n \\t\\t\\t \\r\\n\\t\\t\\t\\t\\t Apply the Science of Organizational Change \\r\\n\\t\\t\\t\\t Learn more \\t\\t\\t \\r\\n\\t\\t \\r\\n\\r\\n \\r\\n\\r\\n\\r\\n\\r\\n\\r\\n\\r\\n\\r\\n\\r\\n\\r\\n\\r\\n\\r\\n\\r\\n                 \\r\\n\\r\\n                     \\r\\n                         \\r\\n             \\r\\n         \\r\\n     \\r\\n         \\r\\n             \\r\\n                 \\r\\n                    \\r\\n\\r\\n\\r\\n\\r\\n                             \\r\\n\\t\\t\\t\\t Mindfulness practice fosters collective intelligence by allowing us to redirect our mental attention skills (for example, capabilities of the working memory or our ability to focus on the task at hand) toward more expansive, awareness-based skills. Cognitive science tells us that attention is usually narrowly focused on the self (that is, “me-based”). In contrast, awareness is more relational, open, and focused on others (that is, “we-based”). More specifically, mindfulness practice strongly influences a person’s self-awareness of the body’s internal state (interoception) and mental processes (metacognition). Interoception and metacognition help us regulate our reactions to emotions and behaviors. By improving our ability to get in touch with our own emotions, we also enhance empathy—our ability to vicariously share the experiences of others. By increasing self-awareness and empathy, mindfulness impacts two areas that directly promote collective intelligence: Communication and Prosocial Behavior.  Team members who embrace mindfulness are better listeners and can react in an emotionally intelligent way when tension or disagreement arises. Their style of interaction encourages other team members to speak up and participate in creative processes and allows them to integrate their diverse cognitive styles. Leadership.  Mindfulness training helps leaders improve their ability to self-reflect. Mindfulness is also associated with important leadership capacities such as flexibility, authenticity, and humbleness. \\r\\n\\r\\n\\r\\n\\r\\n\\r\\n\\r\\n\\r\\n \\r\\n\\t\\t\\t What Will It Take to Win the ’20s? \\r\\n\\t\\t \\r\\n \\r\\n \\t\\t\\t \\r\\n\\t\\t\\t\\t\\t Apply the Science of Organizational Change \\r\\n\\t\\t\\t\\t Learn more \\t\\t\\t \\r\\n\\t\\t \\r\\n\\r\\n \\r\\n\\r\\n\\r\\n\\r\\n\\r\\n\\r\\n\\r\\n\\r\\n\\r\\n\\r\\n\\r\\n\\r\\n                 \\r\\n\\r\\n                     \\r\\n                         \\r\\n             \\r\\n         \\r\\n     \\r\\n         \\r\\n             \\r\\n                 \\r\\n                    \\r\\n                             Three Steps to Applying Mindfulness \\r\\n\\r\\n\\r\\n\\r\\n                             \\r\\n\\t\\t\\t\\t To use mindfulness to foster collective intelligence, a company must take three steps. First, it must train leaders and employees on how to personally establish a mindfulness practice. Second, it must anchor mindfulness habits in teams. As the final step, it must continually measure the impact of mindfulness on collective intelligence and adapt the practices in response to what the measurements reveal. Provide mindfulness training.  Mindfulness practice comprises a set of mental and emotional exercises that affect the functioning of the brain in a measurable way. Several proven methods of mindfulness training can help team members and leaders establish a personal mindfulness practice. For example, companies can apply a ten-week program—as we did for our study—that begins with a workshop that explains the neurophysiological basics of mindfulness and its impact on collective intelligence. The workshop is followed by a practice period supported by a mindfulness app, frequent webinars, coaching, and peer-to-peer learning groups so that individuals learn to make mindfulness practice a daily routine. Anchor mindfulness in teams.  Mindfulness can evolve from a practice to a state and eventually become a trait—when the various underlying skills have become embedded in a person’s mental and emotional makeup. Team interactions provide valuable opportunities to embed these skills. To promote mindfulness, organizations must clearly state that teams should practice three simple types of habits that foster psychological safety and collective intelligence: Attention and Focus.  Teams need to establish specific habits that promote attentiveness. For example, a team can observe one minute of silence before the start of each meeting. By focusing their breathing during this moment, team members will be better able to direct their attention during the meeting. In addition, how team members deal with devices, listen to each other, and speak can significantly affect the degree of presence and openness in the meeting. Care and Positivity.  When people feel trust, efficacy, and appreciation, they engage and contribute. But when they do not, they hold back and divert their energy to other things. As a result, demonstrating care and positivity in teamwork—noticing what colleagues have achieved and done well and appreciating their contributions—can be very important to improving the sense of bonding and community. Emotional Awareness.  Team members should allow emotions to surface so that expressing emotions becomes a natural part of what it means to work together. Processes for surfacing emotions include having check-ins during which team members share how they feel emotionally before a meeting, as well as regular retrospectives in which members share their feelings on the interactions within their team. Establish metrics and track behavior changes.  Just as manufacturers meticulously track physical safety on their shop floors, companies should track emotional or psychological safety in their knowledge environments. As a starting point, companies can use surveys and interviews to ask employees whether they believe the company has clearly articulated that emotional safety and psychological safety are goals and whether they understand how to create such safety. \\r\\n\\r\\n\\r\\n\\r\\n\\r\\n\\r\\n\\r\\n \\r\\n\\t\\t\\t What Will It Take to Win the ’20s? \\r\\n\\t\\t \\r\\n \\r\\n \\t\\t\\t \\r\\n\\t\\t\\t\\t\\t Apply the Science of Organizational Change \\r\\n\\t\\t\\t\\t Learn more \\t\\t\\t \\r\\n\\t\\t \\r\\n\\r\\n \\r\\n\\r\\n\\r\\n\\r\\n\\r\\n\\r\\n\\r\\n\\r\\n\\r\\n\\r\\n\\r\\n\\r\\n                 \\r\\n\\r\\n                     \\r\\n                         \\r\\n             \\r\\n         \\r\\n     \\r\\n         \\r\\n             \\r\\n                 \\r\\n                    \\r\\n\\r\\n\\r\\n\\r\\n                             \\r\\n\\t\\t\\t\\t To start using mindfulness to foster collective intelligence, executives can launch a ten-week mindfulness coaching program with a few teams and measure the impact. The results of this pilot will likely demonstrate that mindfulness has a positive impact on team performance and inspire a company-wide discussion about the value of collective intelligence and psychological safety. Following a successful pilot, a company can adapt mindfulness training and habits to suit its culture and roll out a program across the organization. To convince the skeptics, it is essential to apply deep expertise in mindfulness training. Those companies that succeed will fully realize their collective intelligence and thereby reap the rewards of new ways of working and cross-functional teaming. \\r\\n\\r\\n\\r\\n\\r\\n\\r\\n\\r\\n\\r\\n \\r\\n\\t\\t\\t What Will It Take to Win the ’20s? \\r\\n\\t\\t \\r\\n \\r\\n \\t\\t\\t \\r\\n\\t\\t\\t\\t\\t Apply the Science of Organizational Change \\r\\n\\t\\t\\t\\t Learn more \\t\\t\\t \\r\\n\\t\\t \\r\\n\\r\\n \\r\\n\\r\\n\\r\\n\\r\\n\\r\\n\\r\\n\\r\\n\\r\\n\\r\\n\\r\\n\\r\\n\\r\\n                 \\r\\n\\r\\n                     \\r\\n                         \\r\\n             \\r\\n         \\r\\n     \\r\\n     \\r\\n       \\r\\n         Authors \\r\\n       \\r\\n     \\r\\n  '}\n"
     ]
    }
   ],
   "source": [
    "print(len(main_dict),\n",
    "      main_dict['site1'])"
   ]
  },
  {
   "cell_type": "markdown",
   "metadata": {},
   "source": [
    "## BCG Spider"
   ]
  },
  {
   "cell_type": "code",
   "execution_count": 11,
   "metadata": {},
   "outputs": [
    {
     "name": "stderr",
     "output_type": "stream",
     "text": [
      "2020-03-03 16:14:01 [scrapy.utils.log] INFO: Scrapy 1.8.0 started (bot: scrapybot)\n",
      "2020-03-03 16:14:01 [scrapy.utils.log] INFO: Versions: lxml 4.4.1.0, libxml2 2.9.9, cssselect 1.1.0, parsel 1.5.2, w3lib 1.21.0, Twisted 19.10.0, Python 3.7.4 (default, Aug  9 2019, 18:34:13) [MSC v.1915 64 bit (AMD64)], pyOpenSSL 19.0.0 (OpenSSL 1.1.1d  10 Sep 2019), cryptography 2.7, Platform Windows-10-10.0.16299-SP0\n",
      "2020-03-03 16:14:01 [scrapy.crawler] INFO: Overridden settings: {}\n",
      "2020-03-03 16:14:01 [scrapy.extensions.telnet] INFO: Telnet Password: beba71cbcff2e7fb\n",
      "2020-03-03 16:14:01 [scrapy.middleware] INFO: Enabled extensions:\n",
      "['scrapy.extensions.corestats.CoreStats',\n",
      " 'scrapy.extensions.telnet.TelnetConsole',\n",
      " 'scrapy.extensions.logstats.LogStats']\n",
      "2020-03-03 16:14:01 [scrapy.middleware] INFO: Enabled downloader middlewares:\n",
      "['scrapy.downloadermiddlewares.httpauth.HttpAuthMiddleware',\n",
      " 'scrapy.downloadermiddlewares.downloadtimeout.DownloadTimeoutMiddleware',\n",
      " 'scrapy.downloadermiddlewares.defaultheaders.DefaultHeadersMiddleware',\n",
      " 'scrapy.downloadermiddlewares.useragent.UserAgentMiddleware',\n",
      " 'scrapy.downloadermiddlewares.retry.RetryMiddleware',\n",
      " 'scrapy.downloadermiddlewares.redirect.MetaRefreshMiddleware',\n",
      " 'scrapy.downloadermiddlewares.httpcompression.HttpCompressionMiddleware',\n",
      " 'scrapy.downloadermiddlewares.redirect.RedirectMiddleware',\n",
      " 'scrapy.downloadermiddlewares.cookies.CookiesMiddleware',\n",
      " 'scrapy.downloadermiddlewares.httpproxy.HttpProxyMiddleware',\n",
      " 'scrapy.downloadermiddlewares.stats.DownloaderStats']\n",
      "2020-03-03 16:14:01 [scrapy.middleware] INFO: Enabled spider middlewares:\n",
      "['scrapy.spidermiddlewares.httperror.HttpErrorMiddleware',\n",
      " 'scrapy.spidermiddlewares.offsite.OffsiteMiddleware',\n",
      " 'scrapy.spidermiddlewares.referer.RefererMiddleware',\n",
      " 'scrapy.spidermiddlewares.urllength.UrlLengthMiddleware',\n",
      " 'scrapy.spidermiddlewares.depth.DepthMiddleware']\n",
      "2020-03-03 16:14:01 [scrapy.middleware] INFO: Enabled item pipelines:\n",
      "[]\n",
      "2020-03-03 16:14:01 [scrapy.core.engine] INFO: Spider opened\n",
      "2020-03-03 16:14:01 [scrapy.extensions.logstats] INFO: Crawled 0 pages (at 0 pages/min), scraped 0 items (at 0 items/min)\n",
      "2020-03-03 16:14:01 [scrapy.extensions.telnet] INFO: Telnet console listening on 127.0.0.1:6023\n",
      "2020-03-03 16:14:02 [scrapy.core.engine] DEBUG: Crawled (200) <GET https://www.bcg.com/featured-insights/how-to/roi-of-ai.aspx> (referer: None)\n",
      "2020-03-03 16:14:02 [scrapy.core.engine] DEBUG: Crawled (200) <GET https://www.bcg.com/publications/2020/tmt-value-creators-tech-star-keeps-burning-bright.aspx> (referer: None)\n",
      "2020-03-03 16:14:02 [scrapy.core.engine] DEBUG: Crawled (200) <GET https://www.bcg.com/publications/2020/isr-tech-disrupt-market-defense-drones.aspx> (referer: None)\n",
      "2020-03-03 16:14:02 [scrapy.core.engine] DEBUG: Crawled (200) <GET https://www.bcg.com/publications/2020/governments-navigate-uncertainty-emerge-stronger.aspx> (referer: None)\n",
      "2020-03-03 16:14:02 [scrapy.core.engine] DEBUG: Crawled (200) <GET https://www.bcg.com/publications/2020/coming-battle-for-spectrum.aspx> (referer: None)\n",
      "2020-03-03 16:14:02 [urllib3.connectionpool] DEBUG: Starting new HTTPS connection (1): www.bcg.com:443\n",
      "2020-03-03 16:14:02 [urllib3.connectionpool] DEBUG: https://www.bcg.com:443 \"GET /featured-insights/how-to/roi-of-ai.aspx HTTP/1.1\" 200 12085\n",
      "2020-03-03 16:14:02 [urllib3.connectionpool] DEBUG: Starting new HTTPS connection (1): www.bcg.com:443\n",
      "2020-03-03 16:14:02 [urllib3.connectionpool] DEBUG: https://www.bcg.com:443 \"GET /featured-insights/how-to/roi-of-ai.aspx HTTP/1.1\" 200 12085\n",
      "2020-03-03 16:14:02 [scrapy.core.engine] DEBUG: Crawled (200) <GET https://www.bcg.com/publications/2020/show-tell-approach-data-governance.aspx> (referer: None)\n",
      "2020-03-03 16:14:02 [scrapy.core.engine] DEBUG: Crawled (200) <GET https://www.bcg.com/capabilities/operations/conquering-complexity-supply-chains-digital-twins.aspx> (referer: None)\n",
      "2020-03-03 16:14:02 [scrapy.core.engine] DEBUG: Crawled (200) <GET https://www.bcg.com/publications/2020/tap-your-company-collective-intelligence-with-mindfulness.aspx> (referer: None)\n"
     ]
    },
    {
     "name": "stdout",
     "output_type": "stream",
     "text": [
      "https://www.bcg.com/featured-insights/how-to/roi-of-ai.aspx\n"
     ]
    },
    {
     "name": "stderr",
     "output_type": "stream",
     "text": [
      "2020-03-03 16:14:02 [urllib3.connectionpool] DEBUG: Starting new HTTPS connection (1): www.bcg.com:443\n",
      "2020-03-03 16:14:02 [urllib3.connectionpool] DEBUG: https://www.bcg.com:443 \"GET /publications/2020/tmt-value-creators-tech-star-keeps-burning-bright.aspx HTTP/1.1\" 200 51989\n",
      "2020-03-03 16:14:02 [urllib3.connectionpool] DEBUG: Starting new HTTPS connection (1): www.bcg.com:443\n",
      "2020-03-03 16:14:02 [urllib3.connectionpool] DEBUG: https://www.bcg.com:443 \"GET /publications/2020/tmt-value-creators-tech-star-keeps-burning-bright.aspx HTTP/1.1\" 200 51989\n",
      "2020-03-03 16:14:02 [urllib3.connectionpool] DEBUG: Starting new HTTPS connection (1): www.bcg.com:443\n"
     ]
    },
    {
     "name": "stdout",
     "output_type": "stream",
     "text": [
      "https://www.bcg.com/publications/2020/tmt-value-creators-tech-star-keeps-burning-bright.aspx\n",
      "https://www.bcg.com/publications/2020/isr-tech-disrupt-market-defense-drones.aspx\n"
     ]
    },
    {
     "name": "stderr",
     "output_type": "stream",
     "text": [
      "2020-03-03 16:14:02 [urllib3.connectionpool] DEBUG: https://www.bcg.com:443 \"GET /publications/2020/isr-tech-disrupt-market-defense-drones.aspx HTTP/1.1\" 200 53460\n",
      "2020-03-03 16:14:02 [urllib3.connectionpool] DEBUG: Starting new HTTPS connection (1): www.bcg.com:443\n",
      "2020-03-03 16:14:02 [urllib3.connectionpool] DEBUG: https://www.bcg.com:443 \"GET /publications/2020/isr-tech-disrupt-market-defense-drones.aspx HTTP/1.1\" 200 None\n",
      "2020-03-03 16:14:02 [urllib3.connectionpool] DEBUG: Starting new HTTPS connection (1): www.bcg.com:443\n",
      "2020-03-03 16:14:02 [urllib3.connectionpool] DEBUG: https://www.bcg.com:443 \"GET /publications/2020/governments-navigate-uncertainty-emerge-stronger.aspx HTTP/1.1\" 200 55345\n",
      "2020-03-03 16:14:02 [urllib3.connectionpool] DEBUG: Starting new HTTPS connection (1): www.bcg.com:443\n",
      "2020-03-03 16:14:02 [urllib3.connectionpool] DEBUG: https://www.bcg.com:443 \"GET /publications/2020/governments-navigate-uncertainty-emerge-stronger.aspx HTTP/1.1\" 200 55345\n",
      "2020-03-03 16:14:02 [urllib3.connectionpool] DEBUG: Starting new HTTPS connection (1): www.bcg.com:443\n"
     ]
    },
    {
     "name": "stdout",
     "output_type": "stream",
     "text": [
      "https://www.bcg.com/publications/2020/governments-navigate-uncertainty-emerge-stronger.aspx\n",
      "https://www.bcg.com/publications/2020/coming-battle-for-spectrum.aspx\n"
     ]
    },
    {
     "name": "stderr",
     "output_type": "stream",
     "text": [
      "2020-03-03 16:14:03 [urllib3.connectionpool] DEBUG: https://www.bcg.com:443 \"GET /publications/2020/coming-battle-for-spectrum.aspx HTTP/1.1\" 200 55062\n",
      "2020-03-03 16:14:03 [urllib3.connectionpool] DEBUG: Starting new HTTPS connection (1): www.bcg.com:443\n",
      "2020-03-03 16:14:03 [urllib3.connectionpool] DEBUG: https://www.bcg.com:443 \"GET /publications/2020/coming-battle-for-spectrum.aspx HTTP/1.1\" 200 55062\n",
      "2020-03-03 16:14:03 [scrapy.core.engine] DEBUG: Crawled (200) <GET https://www.bcg.com/publications/2020/reviving-agricultural-innovation-seeds-crop-protection.aspx> (referer: None)\n",
      "2020-03-03 16:14:03 [scrapy.core.engine] DEBUG: Crawled (200) <GET https://www.bcg.com/publications/2020/fixing-talent-gap-armed-forces-worldwide.aspx> (referer: None)\n",
      "2020-03-03 16:14:03 [scrapy.core.engine] DEBUG: Crawled (200) <GET https://www.bcg.com/publications/2020/tmt-value-creators-unlocking-building-value-telecom.aspx> (referer: None)\n",
      "2020-03-03 16:14:03 [scrapy.core.engine] DEBUG: Crawled (200) <GET https://www.bcg.com/publications/2020/quantum-advantage-fighting-climate-change.aspx> (referer: None)\n",
      "2020-03-03 16:14:03 [urllib3.connectionpool] DEBUG: Starting new HTTPS connection (1): www.bcg.com:443\n",
      "2020-03-03 16:14:03 [urllib3.connectionpool] DEBUG: https://www.bcg.com:443 \"GET /publications/2020/show-tell-approach-data-governance.aspx HTTP/1.1\" 200 53514\n",
      "2020-03-03 16:14:03 [urllib3.connectionpool] DEBUG: Starting new HTTPS connection (1): www.bcg.com:443\n",
      "2020-03-03 16:14:03 [urllib3.connectionpool] DEBUG: https://www.bcg.com:443 \"GET /publications/2020/show-tell-approach-data-governance.aspx HTTP/1.1\" 200 53514\n"
     ]
    },
    {
     "name": "stdout",
     "output_type": "stream",
     "text": [
      "https://www.bcg.com/publications/2020/show-tell-approach-data-governance.aspx\n",
      "https://www.bcg.com/capabilities/operations/conquering-complexity-supply-chains-digital-twins.aspx\n"
     ]
    },
    {
     "name": "stderr",
     "output_type": "stream",
     "text": [
      "2020-03-03 16:14:03 [urllib3.connectionpool] DEBUG: Starting new HTTPS connection (1): www.bcg.com:443\n",
      "2020-03-03 16:14:03 [urllib3.connectionpool] DEBUG: https://www.bcg.com:443 \"GET /capabilities/operations/conquering-complexity-supply-chains-digital-twins.aspx HTTP/1.1\" 200 None\n",
      "2020-03-03 16:14:03 [urllib3.connectionpool] DEBUG: Starting new HTTPS connection (1): www.bcg.com:443\n",
      "2020-03-03 16:14:03 [urllib3.connectionpool] DEBUG: https://www.bcg.com:443 \"GET /capabilities/operations/conquering-complexity-supply-chains-digital-twins.aspx HTTP/1.1\" 200 48817\n",
      "2020-03-03 16:14:03 [urllib3.connectionpool] DEBUG: Starting new HTTPS connection (1): www.bcg.com:443\n",
      "2020-03-03 16:14:03 [urllib3.connectionpool] DEBUG: https://www.bcg.com:443 \"GET /publications/2020/tap-your-company-collective-intelligence-with-mindfulness.aspx HTTP/1.1\" 200 53687\n",
      "2020-03-03 16:14:03 [urllib3.connectionpool] DEBUG: Starting new HTTPS connection (1): www.bcg.com:443\n",
      "2020-03-03 16:14:03 [urllib3.connectionpool] DEBUG: https://www.bcg.com:443 \"GET /publications/2020/tap-your-company-collective-intelligence-with-mindfulness.aspx HTTP/1.1\" 200 53687\n"
     ]
    },
    {
     "name": "stdout",
     "output_type": "stream",
     "text": [
      "https://www.bcg.com/publications/2020/tap-your-company-collective-intelligence-with-mindfulness.aspx\n"
     ]
    },
    {
     "name": "stderr",
     "output_type": "stream",
     "text": [
      "2020-03-03 16:14:03 [scrapy.core.engine] DEBUG: Crawled (200) <GET https://www.bcg.com/publications/2020/manufactures-unlock-value-from-data-sharing.aspx> (referer: None)\n",
      "2020-03-03 16:14:03 [scrapy.core.engine] DEBUG: Crawled (200) <GET https://www.bcg.com/perspectives/236847> (referer: None)\n",
      "2020-03-03 16:14:03 [urllib3.connectionpool] DEBUG: Starting new HTTPS connection (1): www.bcg.com:443\n",
      "2020-03-03 16:14:03 [urllib3.connectionpool] DEBUG: https://www.bcg.com:443 \"GET /publications/2020/reviving-agricultural-innovation-seeds-crop-protection.aspx HTTP/1.1\" 200 53812\n",
      "2020-03-03 16:14:03 [urllib3.connectionpool] DEBUG: Starting new HTTPS connection (1): www.bcg.com:443\n",
      "2020-03-03 16:14:04 [urllib3.connectionpool] DEBUG: https://www.bcg.com:443 \"GET /publications/2020/reviving-agricultural-innovation-seeds-crop-protection.aspx HTTP/1.1\" 200 53812\n"
     ]
    },
    {
     "name": "stdout",
     "output_type": "stream",
     "text": [
      "https://www.bcg.com/publications/2020/reviving-agricultural-innovation-seeds-crop-protection.aspx\n"
     ]
    },
    {
     "name": "stderr",
     "output_type": "stream",
     "text": [
      "2020-03-03 16:14:04 [urllib3.connectionpool] DEBUG: Starting new HTTPS connection (1): www.bcg.com:443\n",
      "2020-03-03 16:14:04 [urllib3.connectionpool] DEBUG: https://www.bcg.com:443 \"GET /publications/2020/fixing-talent-gap-armed-forces-worldwide.aspx HTTP/1.1\" 200 None\n",
      "2020-03-03 16:14:04 [urllib3.connectionpool] DEBUG: Starting new HTTPS connection (1): www.bcg.com:443\n",
      "2020-03-03 16:14:04 [urllib3.connectionpool] DEBUG: https://www.bcg.com:443 \"GET /publications/2020/fixing-talent-gap-armed-forces-worldwide.aspx HTTP/1.1\" 200 52428\n"
     ]
    },
    {
     "name": "stdout",
     "output_type": "stream",
     "text": [
      "https://www.bcg.com/publications/2020/fixing-talent-gap-armed-forces-worldwide.aspx\n"
     ]
    },
    {
     "name": "stderr",
     "output_type": "stream",
     "text": [
      "2020-03-03 16:14:04 [urllib3.connectionpool] DEBUG: Starting new HTTPS connection (1): www.bcg.com:443\n",
      "2020-03-03 16:14:04 [urllib3.connectionpool] DEBUG: https://www.bcg.com:443 \"GET /publications/2020/tmt-value-creators-unlocking-building-value-telecom.aspx HTTP/1.1\" 200 None\n"
     ]
    },
    {
     "name": "stdout",
     "output_type": "stream",
     "text": [
      "https://www.bcg.com/publications/2020/tmt-value-creators-unlocking-building-value-telecom.aspx\n"
     ]
    },
    {
     "name": "stderr",
     "output_type": "stream",
     "text": [
      "2020-03-03 16:14:04 [urllib3.connectionpool] DEBUG: Starting new HTTPS connection (1): www.bcg.com:443\n",
      "2020-03-03 16:14:04 [urllib3.connectionpool] DEBUG: https://www.bcg.com:443 \"GET /publications/2020/tmt-value-creators-unlocking-building-value-telecom.aspx HTTP/1.1\" 200 None\n",
      "2020-03-03 16:14:04 [urllib3.connectionpool] DEBUG: Starting new HTTPS connection (1): www.bcg.com:443\n",
      "2020-03-03 16:14:04 [urllib3.connectionpool] DEBUG: https://www.bcg.com:443 \"GET /publications/2020/quantum-advantage-fighting-climate-change.aspx HTTP/1.1\" 200 51971\n",
      "2020-03-03 16:14:04 [urllib3.connectionpool] DEBUG: Starting new HTTPS connection (1): www.bcg.com:443\n",
      "2020-03-03 16:14:04 [urllib3.connectionpool] DEBUG: https://www.bcg.com:443 \"GET /publications/2020/quantum-advantage-fighting-climate-change.aspx HTTP/1.1\" 200 51971\n"
     ]
    },
    {
     "name": "stdout",
     "output_type": "stream",
     "text": [
      "https://www.bcg.com/publications/2020/quantum-advantage-fighting-climate-change.aspx\n"
     ]
    },
    {
     "name": "stderr",
     "output_type": "stream",
     "text": [
      "2020-03-03 16:14:04 [scrapy.core.engine] DEBUG: Crawled (200) <GET https://www.bcg.com/publications/2019/companies-cognition-terrible-thing-to-waste.aspx> (referer: None)\n",
      "2020-03-03 16:14:04 [scrapy.core.engine] DEBUG: Crawled (200) <GET https://www.bcg.com/publications/2019/quantum-computing-transform-biopharma-research-development.aspx> (referer: None)\n",
      "2020-03-03 16:14:04 [scrapy.core.engine] DEBUG: Crawled (200) <GET https://www.bcg.com/publications/2019/value-creators-report-superincumbents-dilemma.aspx> (referer: None)\n",
      "2020-03-03 16:14:04 [scrapy.core.engine] DEBUG: Crawled (200) <GET https://www.bcg.com/industries/biopharmaceuticals/artificial-intelligence-helped-treatment-cancer-patients.aspx> (referer: None)\n",
      "2020-03-03 16:14:04 [urllib3.connectionpool] DEBUG: Starting new HTTPS connection (1): www.bcg.com:443\n",
      "2020-03-03 16:14:05 [urllib3.connectionpool] DEBUG: https://www.bcg.com:443 \"GET /publications/2020/manufactures-unlock-value-from-data-sharing.aspx HTTP/1.1\" 200 47208\n",
      "2020-03-03 16:14:05 [urllib3.connectionpool] DEBUG: Starting new HTTPS connection (1): www.bcg.com:443\n",
      "2020-03-03 16:14:05 [urllib3.connectionpool] DEBUG: https://www.bcg.com:443 \"GET /publications/2020/manufactures-unlock-value-from-data-sharing.aspx HTTP/1.1\" 200 47208\n"
     ]
    },
    {
     "name": "stdout",
     "output_type": "stream",
     "text": [
      "https://www.bcg.com/publications/2020/manufactures-unlock-value-from-data-sharing.aspx\n",
      "https://www.bcg.com/perspectives/236847\n"
     ]
    },
    {
     "name": "stderr",
     "output_type": "stream",
     "text": [
      "2020-03-03 16:14:05 [urllib3.connectionpool] DEBUG: Starting new HTTPS connection (1): www.bcg.com:443\n",
      "2020-03-03 16:14:05 [urllib3.connectionpool] DEBUG: https://www.bcg.com:443 \"GET /perspectives/236847 HTTP/1.1\" 200 11126\n",
      "2020-03-03 16:14:05 [urllib3.connectionpool] DEBUG: Starting new HTTPS connection (1): www.bcg.com:443\n",
      "2020-03-03 16:14:05 [urllib3.connectionpool] DEBUG: https://www.bcg.com:443 \"GET /perspectives/236847 HTTP/1.1\" 200 11126\n",
      "2020-03-03 16:14:05 [scrapy.core.scraper] ERROR: Spider error processing <GET https://www.bcg.com/perspectives/236847> (referer: None)\n",
      "Traceback (most recent call last):\n",
      "  File \"C:\\programs\\Continuum\\anaconda3\\lib\\site-packages\\twisted\\internet\\defer.py\", line 654, in _runCallbacks\n",
      "    current.result = callback(current.result, *args, **kw)\n",
      "  File \"<ipython-input-11-426921d2562a>\", line 37, in parse\n",
      "    page_date = re.findall(date_regex, script_text)[0]\n",
      "IndexError: list index out of range\n",
      "2020-03-03 16:14:05 [scrapy.core.engine] DEBUG: Crawled (200) <GET https://www.bcg.com/industries/principal-investors-private-equity/knowledge-management-is-power.aspx> (referer: None)\n",
      "2020-03-03 16:14:05 [urllib3.connectionpool] DEBUG: Starting new HTTPS connection (1): www.bcg.com:443\n",
      "2020-03-03 16:14:05 [urllib3.connectionpool] DEBUG: https://www.bcg.com:443 \"GET /publications/2019/companies-cognition-terrible-thing-to-waste.aspx HTTP/1.1\" 200 53940\n",
      "2020-03-03 16:14:05 [urllib3.connectionpool] DEBUG: Starting new HTTPS connection (1): www.bcg.com:443\n",
      "2020-03-03 16:14:05 [urllib3.connectionpool] DEBUG: https://www.bcg.com:443 \"GET /publications/2019/companies-cognition-terrible-thing-to-waste.aspx HTTP/1.1\" 200 53940\n",
      "2020-03-03 16:14:05 [urllib3.connectionpool] DEBUG: Starting new HTTPS connection (1): www.bcg.com:443\n"
     ]
    },
    {
     "name": "stdout",
     "output_type": "stream",
     "text": [
      "https://www.bcg.com/publications/2019/companies-cognition-terrible-thing-to-waste.aspx\n",
      "https://www.bcg.com/publications/2019/quantum-computing-transform-biopharma-research-development.aspx\n"
     ]
    },
    {
     "name": "stderr",
     "output_type": "stream",
     "text": [
      "2020-03-03 16:14:05 [urllib3.connectionpool] DEBUG: https://www.bcg.com:443 \"GET /publications/2019/quantum-computing-transform-biopharma-research-development.aspx HTTP/1.1\" 200 53770\n",
      "2020-03-03 16:14:05 [urllib3.connectionpool] DEBUG: Starting new HTTPS connection (1): www.bcg.com:443\n",
      "2020-03-03 16:14:05 [urllib3.connectionpool] DEBUG: https://www.bcg.com:443 \"GET /publications/2019/quantum-computing-transform-biopharma-research-development.aspx HTTP/1.1\" 200 53770\n",
      "2020-03-03 16:14:05 [urllib3.connectionpool] DEBUG: Starting new HTTPS connection (1): www.bcg.com:443\n",
      "2020-03-03 16:14:05 [urllib3.connectionpool] DEBUG: https://www.bcg.com:443 \"GET /publications/2019/value-creators-report-superincumbents-dilemma.aspx HTTP/1.1\" 200 54075\n",
      "2020-03-03 16:14:05 [urllib3.connectionpool] DEBUG: Starting new HTTPS connection (1): www.bcg.com:443\n",
      "2020-03-03 16:14:05 [urllib3.connectionpool] DEBUG: https://www.bcg.com:443 \"GET /publications/2019/value-creators-report-superincumbents-dilemma.aspx HTTP/1.1\" 200 54075\n",
      "2020-03-03 16:14:05 [urllib3.connectionpool] DEBUG: Starting new HTTPS connection (1): www.bcg.com:443\n"
     ]
    },
    {
     "name": "stdout",
     "output_type": "stream",
     "text": [
      "https://www.bcg.com/publications/2019/value-creators-report-superincumbents-dilemma.aspx\n",
      "https://www.bcg.com/industries/biopharmaceuticals/artificial-intelligence-helped-treatment-cancer-patients.aspx\n"
     ]
    },
    {
     "name": "stderr",
     "output_type": "stream",
     "text": [
      "2020-03-03 16:14:05 [urllib3.connectionpool] DEBUG: https://www.bcg.com:443 \"GET /industries/biopharmaceuticals/artificial-intelligence-helped-treatment-cancer-patients.aspx HTTP/1.1\" 200 48343\n",
      "2020-03-03 16:14:05 [urllib3.connectionpool] DEBUG: Starting new HTTPS connection (1): www.bcg.com:443\n",
      "2020-03-03 16:14:05 [urllib3.connectionpool] DEBUG: https://www.bcg.com:443 \"GET /industries/biopharmaceuticals/artificial-intelligence-helped-treatment-cancer-patients.aspx HTTP/1.1\" 200 48343\n",
      "2020-03-03 16:14:06 [scrapy.core.engine] DEBUG: Crawled (200) <GET https://www.bcg.com/publications/2019/commercial-aerospace-faces-turbulence-not-full-downturn.aspx> (referer: None)\n",
      "2020-03-03 16:14:06 [urllib3.connectionpool] DEBUG: Starting new HTTPS connection (1): www.bcg.com:443\n",
      "2020-03-03 16:14:06 [urllib3.connectionpool] DEBUG: https://www.bcg.com:443 \"GET /industries/principal-investors-private-equity/knowledge-management-is-power.aspx HTTP/1.1\" 200 49490\n",
      "2020-03-03 16:14:06 [urllib3.connectionpool] DEBUG: Starting new HTTPS connection (1): www.bcg.com:443\n",
      "2020-03-03 16:14:06 [urllib3.connectionpool] DEBUG: https://www.bcg.com:443 \"GET /industries/principal-investors-private-equity/knowledge-management-is-power.aspx HTTP/1.1\" 200 49490\n",
      "2020-03-03 16:14:06 [scrapy.core.engine] DEBUG: Crawled (200) <GET https://www.bcg.com/publications/2019/getting-a-grip-on-cogs-in-generic-drugs.aspx> (referer: None)\n"
     ]
    },
    {
     "name": "stdout",
     "output_type": "stream",
     "text": [
      "https://www.bcg.com/industries/principal-investors-private-equity/knowledge-management-is-power.aspx\n"
     ]
    },
    {
     "name": "stderr",
     "output_type": "stream",
     "text": [
      "2020-03-03 16:14:06 [urllib3.connectionpool] DEBUG: Starting new HTTPS connection (1): www.bcg.com:443\n",
      "2020-03-03 16:14:06 [urllib3.connectionpool] DEBUG: https://www.bcg.com:443 \"GET /publications/2019/commercial-aerospace-faces-turbulence-not-full-downturn.aspx HTTP/1.1\" 200 51495\n",
      "2020-03-03 16:14:06 [urllib3.connectionpool] DEBUG: Starting new HTTPS connection (1): www.bcg.com:443\n",
      "2020-03-03 16:14:06 [urllib3.connectionpool] DEBUG: https://www.bcg.com:443 \"GET /publications/2019/commercial-aerospace-faces-turbulence-not-full-downturn.aspx HTTP/1.1\" 200 51495\n"
     ]
    },
    {
     "name": "stdout",
     "output_type": "stream",
     "text": [
      "https://www.bcg.com/publications/2019/commercial-aerospace-faces-turbulence-not-full-downturn.aspx\n"
     ]
    },
    {
     "name": "stderr",
     "output_type": "stream",
     "text": [
      "2020-03-03 16:14:06 [scrapy.core.engine] DEBUG: Crawled (200) <GET https://www.bcg.com/publications/2019/good-data-starts-with-great-governance.aspx> (referer: None)\n",
      "2020-03-03 16:14:06 [urllib3.connectionpool] DEBUG: Starting new HTTPS connection (1): www.bcg.com:443\n",
      "2020-03-03 16:14:06 [urllib3.connectionpool] DEBUG: https://www.bcg.com:443 \"GET /publications/2019/getting-a-grip-on-cogs-in-generic-drugs.aspx HTTP/1.1\" 200 52581\n",
      "2020-03-03 16:14:06 [urllib3.connectionpool] DEBUG: Starting new HTTPS connection (1): www.bcg.com:443\n",
      "2020-03-03 16:14:06 [urllib3.connectionpool] DEBUG: https://www.bcg.com:443 \"GET /publications/2019/getting-a-grip-on-cogs-in-generic-drugs.aspx HTTP/1.1\" 200 52581\n"
     ]
    },
    {
     "name": "stdout",
     "output_type": "stream",
     "text": [
      "https://www.bcg.com/publications/2019/getting-a-grip-on-cogs-in-generic-drugs.aspx\n"
     ]
    },
    {
     "name": "stderr",
     "output_type": "stream",
     "text": [
      "2020-03-03 16:14:06 [scrapy.core.engine] DEBUG: Crawled (200) <GET https://www.bcg.com/publications/2019/transform-customer-journeys-scale-transform-business.aspx> (referer: None)\n",
      "2020-03-03 16:14:06 [urllib3.connectionpool] DEBUG: Starting new HTTPS connection (1): www.bcg.com:443\n",
      "2020-03-03 16:14:06 [urllib3.connectionpool] DEBUG: https://www.bcg.com:443 \"GET /publications/2019/good-data-starts-with-great-governance.aspx HTTP/1.1\" 200 54640\n",
      "2020-03-03 16:14:06 [urllib3.connectionpool] DEBUG: Starting new HTTPS connection (1): www.bcg.com:443\n",
      "2020-03-03 16:14:06 [urllib3.connectionpool] DEBUG: https://www.bcg.com:443 \"GET /publications/2019/good-data-starts-with-great-governance.aspx HTTP/1.1\" 200 54640\n"
     ]
    },
    {
     "name": "stdout",
     "output_type": "stream",
     "text": [
      "https://www.bcg.com/publications/2019/good-data-starts-with-great-governance.aspx\n"
     ]
    },
    {
     "name": "stderr",
     "output_type": "stream",
     "text": [
      "2020-03-03 16:14:06 [scrapy.core.engine] DEBUG: Crawled (200) <GET https://www.bcg.com/publications/2019/bionic-company.aspx> (referer: None)\n",
      "2020-03-03 16:14:06 [urllib3.connectionpool] DEBUG: Starting new HTTPS connection (1): www.bcg.com:443\n",
      "2020-03-03 16:14:06 [urllib3.connectionpool] DEBUG: https://www.bcg.com:443 \"GET /publications/2019/transform-customer-journeys-scale-transform-business.aspx HTTP/1.1\" 200 54971\n",
      "2020-03-03 16:14:06 [urllib3.connectionpool] DEBUG: Starting new HTTPS connection (1): www.bcg.com:443\n",
      "2020-03-03 16:14:07 [urllib3.connectionpool] DEBUG: https://www.bcg.com:443 \"GET /publications/2019/transform-customer-journeys-scale-transform-business.aspx HTTP/1.1\" 200 54971\n"
     ]
    },
    {
     "name": "stdout",
     "output_type": "stream",
     "text": [
      "https://www.bcg.com/publications/2019/transform-customer-journeys-scale-transform-business.aspx\n",
      "https://www.bcg.com/publications/2019/bionic-company.aspx\n"
     ]
    },
    {
     "name": "stderr",
     "output_type": "stream",
     "text": [
      "2020-03-03 16:14:07 [urllib3.connectionpool] DEBUG: Starting new HTTPS connection (1): www.bcg.com:443\n",
      "2020-03-03 16:14:07 [urllib3.connectionpool] DEBUG: https://www.bcg.com:443 \"GET /publications/2019/bionic-company.aspx HTTP/1.1\" 200 57127\n",
      "2020-03-03 16:14:07 [urllib3.connectionpool] DEBUG: Starting new HTTPS connection (1): www.bcg.com:443\n",
      "2020-03-03 16:14:07 [urllib3.connectionpool] DEBUG: https://www.bcg.com:443 \"GET /publications/2019/bionic-company.aspx HTTP/1.1\" 200 57127\n",
      "2020-03-03 16:14:07 [scrapy.core.engine] DEBUG: Crawled (200) <GET https://www.bcg.com/publications/2020/tmt-value-creators-last-decade-was-great-what-about-next.aspx> (referer: None)\n",
      "2020-03-03 16:14:07 [scrapy.core.engine] DEBUG: Crawled (200) <GET https://www.bcg.com/publications/2019/united-states-midstream-companies-need-new-playbook.aspx> (referer: None)\n",
      "2020-03-03 16:14:07 [scrapy.core.engine] DEBUG: Crawled (200) <GET https://www.bcg.com/publications/2019/decoding-global-trends-upskilling-reskilling.aspx> (referer: None)\n",
      "2020-03-03 16:14:07 [urllib3.connectionpool] DEBUG: Starting new HTTPS connection (1): www.bcg.com:443\n",
      "2020-03-03 16:14:07 [urllib3.connectionpool] DEBUG: https://www.bcg.com:443 \"GET /publications/2020/tmt-value-creators-last-decade-was-great-what-about-next.aspx HTTP/1.1\" 200 55762\n",
      "2020-03-03 16:14:07 [urllib3.connectionpool] DEBUG: Starting new HTTPS connection (1): www.bcg.com:443\n"
     ]
    },
    {
     "name": "stdout",
     "output_type": "stream",
     "text": [
      "https://www.bcg.com/publications/2020/tmt-value-creators-last-decade-was-great-what-about-next.aspx\n"
     ]
    },
    {
     "name": "stderr",
     "output_type": "stream",
     "text": [
      "2020-03-03 16:14:07 [urllib3.connectionpool] DEBUG: https://www.bcg.com:443 \"GET /publications/2020/tmt-value-creators-last-decade-was-great-what-about-next.aspx HTTP/1.1\" 200 None\n",
      "2020-03-03 16:14:07 [scrapy.core.engine] DEBUG: Crawled (200) <GET https://www.bcg.com/publications/2019/enterprise-resource-planning-digital-support-functions-not-either-both.aspx> (referer: None)\n",
      "2020-03-03 16:14:07 [scrapy.core.engine] DEBUG: Crawled (200) <GET https://www.bcg.com/publications/2019/growing-urgency-change-life-insurance-industry.aspx> (referer: None)\n",
      "2020-03-03 16:14:07 [urllib3.connectionpool] DEBUG: Starting new HTTPS connection (1): www.bcg.com:443\n",
      "2020-03-03 16:14:07 [urllib3.connectionpool] DEBUG: https://www.bcg.com:443 \"GET /publications/2019/united-states-midstream-companies-need-new-playbook.aspx HTTP/1.1\" 200 50988\n",
      "2020-03-03 16:14:07 [urllib3.connectionpool] DEBUG: Starting new HTTPS connection (1): www.bcg.com:443\n",
      "2020-03-03 16:14:07 [urllib3.connectionpool] DEBUG: https://www.bcg.com:443 \"GET /publications/2019/united-states-midstream-companies-need-new-playbook.aspx HTTP/1.1\" 200 50988\n"
     ]
    },
    {
     "name": "stdout",
     "output_type": "stream",
     "text": [
      "https://www.bcg.com/publications/2019/united-states-midstream-companies-need-new-playbook.aspx\n",
      "https://www.bcg.com/publications/2019/decoding-global-trends-upskilling-reskilling.aspx\n"
     ]
    },
    {
     "name": "stderr",
     "output_type": "stream",
     "text": [
      "2020-03-03 16:14:07 [urllib3.connectionpool] DEBUG: Starting new HTTPS connection (1): www.bcg.com:443\n",
      "2020-03-03 16:14:07 [urllib3.connectionpool] DEBUG: https://www.bcg.com:443 \"GET /publications/2019/decoding-global-trends-upskilling-reskilling.aspx HTTP/1.1\" 200 57663\n",
      "2020-03-03 16:14:07 [urllib3.connectionpool] DEBUG: Starting new HTTPS connection (1): www.bcg.com:443\n",
      "2020-03-03 16:14:08 [urllib3.connectionpool] DEBUG: https://www.bcg.com:443 \"GET /publications/2019/decoding-global-trends-upskilling-reskilling.aspx HTTP/1.1\" 200 57663\n",
      "2020-03-03 16:14:08 [scrapy.core.engine] DEBUG: Crawled (200) <GET https://www.bcg.com/publications/2019/six-ways-help-drugs-rares-diseases-take-off.aspx> (referer: None)\n",
      "2020-03-03 16:14:08 [urllib3.connectionpool] DEBUG: Starting new HTTPS connection (1): www.bcg.com:443\n",
      "2020-03-03 16:14:08 [urllib3.connectionpool] DEBUG: https://www.bcg.com:443 \"GET /publications/2019/enterprise-resource-planning-digital-support-functions-not-either-both.aspx HTTP/1.1\" 200 48743\n",
      "2020-03-03 16:14:08 [urllib3.connectionpool] DEBUG: Starting new HTTPS connection (1): www.bcg.com:443\n",
      "2020-03-03 16:14:08 [urllib3.connectionpool] DEBUG: https://www.bcg.com:443 \"GET /publications/2019/enterprise-resource-planning-digital-support-functions-not-either-both.aspx HTTP/1.1\" 200 48743\n",
      "2020-03-03 16:14:08 [urllib3.connectionpool] DEBUG: Starting new HTTPS connection (1): www.bcg.com:443\n"
     ]
    },
    {
     "name": "stdout",
     "output_type": "stream",
     "text": [
      "https://www.bcg.com/publications/2019/enterprise-resource-planning-digital-support-functions-not-either-both.aspx\n",
      "https://www.bcg.com/publications/2019/growing-urgency-change-life-insurance-industry.aspx\n"
     ]
    },
    {
     "name": "stderr",
     "output_type": "stream",
     "text": [
      "2020-03-03 16:14:08 [urllib3.connectionpool] DEBUG: https://www.bcg.com:443 \"GET /publications/2019/growing-urgency-change-life-insurance-industry.aspx HTTP/1.1\" 200 51001\n",
      "2020-03-03 16:14:08 [urllib3.connectionpool] DEBUG: Starting new HTTPS connection (1): www.bcg.com:443\n",
      "2020-03-03 16:14:08 [urllib3.connectionpool] DEBUG: https://www.bcg.com:443 \"GET /publications/2019/growing-urgency-change-life-insurance-industry.aspx HTTP/1.1\" 200 51001\n",
      "2020-03-03 16:14:08 [scrapy.core.engine] DEBUG: Crawled (200) <GET https://www.bcg.com/publications/2020/lessons-best-in-class-cfos.aspx> (referer: None)\n",
      "2020-03-03 16:14:08 [urllib3.connectionpool] DEBUG: Starting new HTTPS connection (1): www.bcg.com:443\n"
     ]
    },
    {
     "name": "stdout",
     "output_type": "stream",
     "text": [
      "https://www.bcg.com/publications/2019/six-ways-help-drugs-rares-diseases-take-off.aspx\n"
     ]
    },
    {
     "name": "stderr",
     "output_type": "stream",
     "text": [
      "2020-03-03 16:14:08 [urllib3.connectionpool] DEBUG: https://www.bcg.com:443 \"GET /publications/2019/six-ways-help-drugs-rares-diseases-take-off.aspx HTTP/1.1\" 200 51483\n",
      "2020-03-03 16:14:08 [urllib3.connectionpool] DEBUG: Starting new HTTPS connection (1): www.bcg.com:443\n",
      "2020-03-03 16:14:08 [urllib3.connectionpool] DEBUG: https://www.bcg.com:443 \"GET /publications/2019/six-ways-help-drugs-rares-diseases-take-off.aspx HTTP/1.1\" 200 None\n",
      "2020-03-03 16:14:08 [scrapy.core.engine] DEBUG: Crawled (200) <GET https://www.bcg.com/publications/2019/how-to-win-with-artificial-intelligence-ai.aspx> (referer: None)\n",
      "2020-03-03 16:14:08 [scrapy.core.engine] DEBUG: Crawled (200) <GET https://www.bcg.com/publications/2019/economic-impact-public-cloud-apac/default.aspx> (referer: None)\n",
      "2020-03-03 16:14:08 [urllib3.connectionpool] DEBUG: Starting new HTTPS connection (1): www.bcg.com:443\n",
      "2020-03-03 16:14:08 [urllib3.connectionpool] DEBUG: https://www.bcg.com:443 \"GET /publications/2020/lessons-best-in-class-cfos.aspx HTTP/1.1\" 200 52030\n",
      "2020-03-03 16:14:08 [urllib3.connectionpool] DEBUG: Starting new HTTPS connection (1): www.bcg.com:443\n",
      "2020-03-03 16:14:09 [urllib3.connectionpool] DEBUG: https://www.bcg.com:443 \"GET /publications/2020/lessons-best-in-class-cfos.aspx HTTP/1.1\" 200 52030\n",
      "2020-03-03 16:14:09 [urllib3.connectionpool] DEBUG: Starting new HTTPS connection (1): www.bcg.com:443\n"
     ]
    },
    {
     "name": "stdout",
     "output_type": "stream",
     "text": [
      "https://www.bcg.com/publications/2020/lessons-best-in-class-cfos.aspx\n",
      "https://www.bcg.com/publications/2019/how-to-win-with-artificial-intelligence-ai.aspx\n"
     ]
    },
    {
     "name": "stderr",
     "output_type": "stream",
     "text": [
      "2020-03-03 16:14:09 [urllib3.connectionpool] DEBUG: https://www.bcg.com:443 \"GET /publications/2019/how-to-win-with-artificial-intelligence-ai.aspx HTTP/1.1\" 200 51377\n",
      "2020-03-03 16:14:09 [urllib3.connectionpool] DEBUG: Starting new HTTPS connection (1): www.bcg.com:443\n",
      "2020-03-03 16:14:09 [urllib3.connectionpool] DEBUG: https://www.bcg.com:443 \"GET /publications/2019/how-to-win-with-artificial-intelligence-ai.aspx HTTP/1.1\" 200 51377\n",
      "2020-03-03 16:14:09 [urllib3.connectionpool] DEBUG: Starting new HTTPS connection (1): www.bcg.com:443\n",
      "2020-03-03 16:14:09 [urllib3.connectionpool] DEBUG: https://www.bcg.com:443 \"GET /publications/2019/economic-impact-public-cloud-apac/default.aspx HTTP/1.1\" 200 82068\n",
      "2020-03-03 16:14:09 [urllib3.connectionpool] DEBUG: Starting new HTTPS connection (1): www.bcg.com:443\n",
      "2020-03-03 16:14:09 [urllib3.connectionpool] DEBUG: https://www.bcg.com:443 \"GET /publications/2019/economic-impact-public-cloud-apac/default.aspx HTTP/1.1\" 200 82068\n"
     ]
    },
    {
     "name": "stdout",
     "output_type": "stream",
     "text": [
      "https://www.bcg.com/publications/2019/economic-impact-public-cloud-apac/default.aspx\n"
     ]
    },
    {
     "name": "stderr",
     "output_type": "stream",
     "text": [
      "2020-03-03 16:14:09 [scrapy.core.engine] DEBUG: Crawled (200) <GET https://www.bcg.com/publications/2019/retail-banking-distribution-2025-up-close-personal.aspx> (referer: None)\n",
      "2020-03-03 16:14:09 [urllib3.connectionpool] DEBUG: Starting new HTTPS connection (1): www.bcg.com:443\n",
      "2020-03-03 16:14:09 [urllib3.connectionpool] DEBUG: https://www.bcg.com:443 \"GET /publications/2019/retail-banking-distribution-2025-up-close-personal.aspx HTTP/1.1\" 200 55945\n",
      "2020-03-03 16:14:09 [urllib3.connectionpool] DEBUG: Starting new HTTPS connection (1): www.bcg.com:443\n",
      "2020-03-03 16:14:09 [urllib3.connectionpool] DEBUG: https://www.bcg.com:443 \"GET /publications/2019/retail-banking-distribution-2025-up-close-personal.aspx HTTP/1.1\" 200 55945\n"
     ]
    },
    {
     "name": "stdout",
     "output_type": "stream",
     "text": [
      "https://www.bcg.com/publications/2019/retail-banking-distribution-2025-up-close-personal.aspx\n"
     ]
    },
    {
     "name": "stderr",
     "output_type": "stream",
     "text": [
      "2020-03-03 16:14:09 [scrapy.core.engine] DEBUG: Crawled (200) <GET https://www.bcg.com/industries/media-entertainment/pay-tv-still-has-room-to-grow.aspx> (referer: None)\n",
      "2020-03-03 16:14:09 [urllib3.connectionpool] DEBUG: Starting new HTTPS connection (1): www.bcg.com:443\n",
      "2020-03-03 16:14:09 [urllib3.connectionpool] DEBUG: https://www.bcg.com:443 \"GET /industries/media-entertainment/pay-tv-still-has-room-to-grow.aspx HTTP/1.1\" 200 52086\n",
      "2020-03-03 16:14:10 [urllib3.connectionpool] DEBUG: Starting new HTTPS connection (1): www.bcg.com:443\n",
      "2020-03-03 16:14:10 [urllib3.connectionpool] DEBUG: https://www.bcg.com:443 \"GET /industries/media-entertainment/pay-tv-still-has-room-to-grow.aspx HTTP/1.1\" 200 52086\n"
     ]
    },
    {
     "name": "stdout",
     "output_type": "stream",
     "text": [
      "https://www.bcg.com/industries/media-entertainment/pay-tv-still-has-room-to-grow.aspx\n"
     ]
    },
    {
     "name": "stderr",
     "output_type": "stream",
     "text": [
      "2020-03-03 16:14:10 [scrapy.core.engine] DEBUG: Crawled (200) <GET https://www.bcg.com/publications/2019/five-ways-win-china-changing-mobility-market.aspx> (referer: None)\n",
      "2020-03-03 16:14:10 [scrapy.core.engine] DEBUG: Crawled (200) <GET https://www.bcg.com/publications/2019/banks-outsmart-competition-intelligent-operations.aspx> (referer: None)\n",
      "2020-03-03 16:14:10 [urllib3.connectionpool] DEBUG: Starting new HTTPS connection (1): www.bcg.com:443\n"
     ]
    },
    {
     "name": "stdout",
     "output_type": "stream",
     "text": [
      "https://www.bcg.com/publications/2019/five-ways-win-china-changing-mobility-market.aspx\n"
     ]
    },
    {
     "name": "stderr",
     "output_type": "stream",
     "text": [
      "2020-03-03 16:14:10 [urllib3.connectionpool] DEBUG: https://www.bcg.com:443 \"GET /publications/2019/five-ways-win-china-changing-mobility-market.aspx HTTP/1.1\" 200 None\n",
      "2020-03-03 16:14:10 [urllib3.connectionpool] DEBUG: Starting new HTTPS connection (1): www.bcg.com:443\n",
      "2020-03-03 16:14:10 [urllib3.connectionpool] DEBUG: https://www.bcg.com:443 \"GET /publications/2019/five-ways-win-china-changing-mobility-market.aspx HTTP/1.1\" 200 55436\n",
      "2020-03-03 16:14:10 [scrapy.core.engine] DEBUG: Crawled (200) <GET https://www.bcg.com/publications/2019/solving-the-pricing-puzzle-in-wealth-management.aspx> (referer: None)\n",
      "2020-03-03 16:14:10 [urllib3.connectionpool] DEBUG: Starting new HTTPS connection (1): www.bcg.com:443\n",
      "2020-03-03 16:14:10 [urllib3.connectionpool] DEBUG: https://www.bcg.com:443 \"GET /publications/2019/banks-outsmart-competition-intelligent-operations.aspx HTTP/1.1\" 200 54084\n",
      "2020-03-03 16:14:10 [urllib3.connectionpool] DEBUG: Starting new HTTPS connection (1): www.bcg.com:443\n",
      "2020-03-03 16:14:10 [urllib3.connectionpool] DEBUG: https://www.bcg.com:443 \"GET /publications/2019/banks-outsmart-competition-intelligent-operations.aspx HTTP/1.1\" 200 54084\n"
     ]
    },
    {
     "name": "stdout",
     "output_type": "stream",
     "text": [
      "https://www.bcg.com/publications/2019/banks-outsmart-competition-intelligent-operations.aspx\n",
      "https://www.bcg.com/publications/2019/solving-the-pricing-puzzle-in-wealth-management.aspx\n"
     ]
    },
    {
     "name": "stderr",
     "output_type": "stream",
     "text": [
      "2020-03-03 16:14:10 [urllib3.connectionpool] DEBUG: Starting new HTTPS connection (1): www.bcg.com:443\n",
      "2020-03-03 16:14:10 [urllib3.connectionpool] DEBUG: https://www.bcg.com:443 \"GET /publications/2019/solving-the-pricing-puzzle-in-wealth-management.aspx HTTP/1.1\" 200 54857\n",
      "2020-03-03 16:14:11 [urllib3.connectionpool] DEBUG: Starting new HTTPS connection (1): www.bcg.com:443\n",
      "2020-03-03 16:14:11 [urllib3.connectionpool] DEBUG: https://www.bcg.com:443 \"GET /publications/2019/solving-the-pricing-puzzle-in-wealth-management.aspx HTTP/1.1\" 200 54857\n",
      "2020-03-03 16:14:11 [scrapy.core.engine] DEBUG: Crawled (200) <GET https://www.bcg.com/publications/2019/what-is-trending-jobs-skills.aspx> (referer: None)\n",
      "2020-03-03 16:14:11 [scrapy.core.engine] DEBUG: Crawled (200) <GET https://www.bcg.com/publications/2019/digital-tech-only-part-solution-for-support-functions.aspx> (referer: None)\n",
      "2020-03-03 16:14:11 [scrapy.core.engine] DEBUG: Crawled (200) <GET https://www.bcg.com/publications/2019/unlocking-value-through-digital-support-functions.aspx> (referer: None)\n",
      "2020-03-03 16:14:11 [scrapy.core.engine] DEBUG: Crawled (200) <GET https://www.bcg.com/publications/2019/tech-transforms-auto-deals-are-booming.aspx> (referer: None)\n",
      "2020-03-03 16:14:11 [urllib3.connectionpool] DEBUG: Starting new HTTPS connection (1): www.bcg.com:443\n",
      "2020-03-03 16:14:11 [urllib3.connectionpool] DEBUG: https://www.bcg.com:443 \"GET /publications/2019/what-is-trending-jobs-skills.aspx HTTP/1.1\" 200 63450\n",
      "2020-03-03 16:14:11 [urllib3.connectionpool] DEBUG: Starting new HTTPS connection (1): www.bcg.com:443\n",
      "2020-03-03 16:14:11 [urllib3.connectionpool] DEBUG: https://www.bcg.com:443 \"GET /publications/2019/what-is-trending-jobs-skills.aspx HTTP/1.1\" 200 63450\n",
      "2020-03-03 16:14:11 [scrapy.core.engine] DEBUG: Crawled (200) <GET https://www.bcg.com/publications/2019/quality-4.0-takes-more-than-technology.aspx> (referer: None)\n"
     ]
    },
    {
     "name": "stdout",
     "output_type": "stream",
     "text": [
      "https://www.bcg.com/publications/2019/what-is-trending-jobs-skills.aspx\n"
     ]
    },
    {
     "name": "stderr",
     "output_type": "stream",
     "text": [
      "2020-03-03 16:14:11 [scrapy.core.engine] DEBUG: Crawled (200) <GET https://www.bcg.com/publications/2019/artificial-intelligence-coming-information-technology-operations.aspx> (referer: None)\n",
      "2020-03-03 16:14:11 [urllib3.connectionpool] DEBUG: Starting new HTTPS connection (1): www.bcg.com:443\n",
      "2020-03-03 16:14:11 [urllib3.connectionpool] DEBUG: https://www.bcg.com:443 \"GET /publications/2019/digital-tech-only-part-solution-for-support-functions.aspx HTTP/1.1\" 200 50539\n",
      "2020-03-03 16:14:11 [urllib3.connectionpool] DEBUG: Starting new HTTPS connection (1): www.bcg.com:443\n",
      "2020-03-03 16:14:11 [urllib3.connectionpool] DEBUG: https://www.bcg.com:443 \"GET /publications/2019/digital-tech-only-part-solution-for-support-functions.aspx HTTP/1.1\" 200 50539\n"
     ]
    },
    {
     "name": "stdout",
     "output_type": "stream",
     "text": [
      "https://www.bcg.com/publications/2019/digital-tech-only-part-solution-for-support-functions.aspx\n",
      "https://www.bcg.com/publications/2019/unlocking-value-through-digital-support-functions.aspx\n"
     ]
    },
    {
     "name": "stderr",
     "output_type": "stream",
     "text": [
      "2020-03-03 16:14:11 [urllib3.connectionpool] DEBUG: Starting new HTTPS connection (1): www.bcg.com:443\n",
      "2020-03-03 16:14:11 [urllib3.connectionpool] DEBUG: https://www.bcg.com:443 \"GET /publications/2019/unlocking-value-through-digital-support-functions.aspx HTTP/1.1\" 200 49726\n",
      "2020-03-03 16:14:11 [urllib3.connectionpool] DEBUG: Starting new HTTPS connection (1): www.bcg.com:443\n",
      "2020-03-03 16:14:11 [urllib3.connectionpool] DEBUG: https://www.bcg.com:443 \"GET /publications/2019/unlocking-value-through-digital-support-functions.aspx HTTP/1.1\" 200 49726\n",
      "2020-03-03 16:14:11 [urllib3.connectionpool] DEBUG: Starting new HTTPS connection (1): www.bcg.com:443\n",
      "2020-03-03 16:14:11 [urllib3.connectionpool] DEBUG: https://www.bcg.com:443 \"GET /publications/2019/tech-transforms-auto-deals-are-booming.aspx HTTP/1.1\" 200 54033\n",
      "2020-03-03 16:14:11 [urllib3.connectionpool] DEBUG: Starting new HTTPS connection (1): www.bcg.com:443\n",
      "2020-03-03 16:14:11 [urllib3.connectionpool] DEBUG: https://www.bcg.com:443 \"GET /publications/2019/tech-transforms-auto-deals-are-booming.aspx HTTP/1.1\" 200 None\n",
      "2020-03-03 16:14:11 [scrapy.core.engine] DEBUG: Crawled (200) <GET https://www.bcg.com/publications/2019/simpler-faster-efficient-operations-financial-services.aspx> (referer: None)\n"
     ]
    },
    {
     "name": "stdout",
     "output_type": "stream",
     "text": [
      "https://www.bcg.com/publications/2019/tech-transforms-auto-deals-are-booming.aspx\n"
     ]
    },
    {
     "name": "stderr",
     "output_type": "stream",
     "text": [
      "2020-03-03 16:14:12 [scrapy.core.engine] DEBUG: Crawled (200) <GET https://www.bcg.com/publications/2019/achieving-vitality-in-turbulent-times.aspx> (referer: None)\n",
      "2020-03-03 16:14:12 [urllib3.connectionpool] DEBUG: Starting new HTTPS connection (1): www.bcg.com:443\n",
      "2020-03-03 16:14:12 [urllib3.connectionpool] DEBUG: https://www.bcg.com:443 \"GET /publications/2019/quality-4.0-takes-more-than-technology.aspx HTTP/1.1\" 200 56760\n",
      "2020-03-03 16:14:12 [urllib3.connectionpool] DEBUG: Starting new HTTPS connection (1): www.bcg.com:443\n",
      "2020-03-03 16:14:12 [urllib3.connectionpool] DEBUG: https://www.bcg.com:443 \"GET /publications/2019/quality-4.0-takes-more-than-technology.aspx HTTP/1.1\" 200 None\n"
     ]
    },
    {
     "name": "stdout",
     "output_type": "stream",
     "text": [
      "https://www.bcg.com/publications/2019/quality-4.0-takes-more-than-technology.aspx\n",
      "https://www.bcg.com/publications/2019/artificial-intelligence-coming-information-technology-operations.aspx\n"
     ]
    },
    {
     "name": "stderr",
     "output_type": "stream",
     "text": [
      "2020-03-03 16:14:12 [urllib3.connectionpool] DEBUG: Starting new HTTPS connection (1): www.bcg.com:443\n",
      "2020-03-03 16:14:12 [urllib3.connectionpool] DEBUG: https://www.bcg.com:443 \"GET /publications/2019/artificial-intelligence-coming-information-technology-operations.aspx HTTP/1.1\" 200 52884\n",
      "2020-03-03 16:14:12 [urllib3.connectionpool] DEBUG: Starting new HTTPS connection (1): www.bcg.com:443\n",
      "2020-03-03 16:14:12 [urllib3.connectionpool] DEBUG: https://www.bcg.com:443 \"GET /publications/2019/artificial-intelligence-coming-information-technology-operations.aspx HTTP/1.1\" 200 52884\n",
      "2020-03-03 16:14:12 [scrapy.core.engine] DEBUG: Crawled (200) <GET https://www.bcg.com/publications/2019/private-equity-capture-upside-downturn.aspx> (referer: None)\n",
      "2020-03-03 16:14:12 [scrapy.core.engine] DEBUG: Crawled (200) <GET https://www.bcg.com/publications/2019/banks-brace-new-wave-digital-disruption.aspx> (referer: None)\n",
      "2020-03-03 16:14:12 [urllib3.connectionpool] DEBUG: Starting new HTTPS connection (1): www.bcg.com:443\n",
      "2020-03-03 16:14:12 [urllib3.connectionpool] DEBUG: https://www.bcg.com:443 \"GET /publications/2019/simpler-faster-efficient-operations-financial-services.aspx HTTP/1.1\" 200 53189\n",
      "2020-03-03 16:14:12 [urllib3.connectionpool] DEBUG: Starting new HTTPS connection (1): www.bcg.com:443\n",
      "2020-03-03 16:14:12 [urllib3.connectionpool] DEBUG: https://www.bcg.com:443 \"GET /publications/2019/simpler-faster-efficient-operations-financial-services.aspx HTTP/1.1\" 200 None\n"
     ]
    },
    {
     "name": "stdout",
     "output_type": "stream",
     "text": [
      "https://www.bcg.com/publications/2019/simpler-faster-efficient-operations-financial-services.aspx\n"
     ]
    },
    {
     "name": "stderr",
     "output_type": "stream",
     "text": [
      "2020-03-03 16:14:12 [urllib3.connectionpool] DEBUG: Starting new HTTPS connection (1): www.bcg.com:443\n",
      "2020-03-03 16:14:12 [urllib3.connectionpool] DEBUG: https://www.bcg.com:443 \"GET /publications/2019/achieving-vitality-in-turbulent-times.aspx HTTP/1.1\" 200 57459\n",
      "2020-03-03 16:14:12 [urllib3.connectionpool] DEBUG: Starting new HTTPS connection (1): www.bcg.com:443\n",
      "2020-03-03 16:14:12 [urllib3.connectionpool] DEBUG: https://www.bcg.com:443 \"GET /publications/2019/achieving-vitality-in-turbulent-times.aspx HTTP/1.1\" 200 57459\n"
     ]
    },
    {
     "name": "stdout",
     "output_type": "stream",
     "text": [
      "https://www.bcg.com/publications/2019/achieving-vitality-in-turbulent-times.aspx\n"
     ]
    },
    {
     "name": "stderr",
     "output_type": "stream",
     "text": [
      "2020-03-03 16:14:12 [scrapy.core.engine] DEBUG: Crawled (200) <GET https://www.bcg.com/publications/2019/asset-managers-seize-lead-sustainable-investing.aspx> (referer: None)\n",
      "2020-03-03 16:14:12 [urllib3.connectionpool] DEBUG: Starting new HTTPS connection (1): www.bcg.com:443\n",
      "2020-03-03 16:14:12 [urllib3.connectionpool] DEBUG: https://www.bcg.com:443 \"GET /publications/2019/private-equity-capture-upside-downturn.aspx HTTP/1.1\" 200 54987\n",
      "2020-03-03 16:14:12 [urllib3.connectionpool] DEBUG: Starting new HTTPS connection (1): www.bcg.com:443\n",
      "2020-03-03 16:14:12 [urllib3.connectionpool] DEBUG: https://www.bcg.com:443 \"GET /publications/2019/private-equity-capture-upside-downturn.aspx HTTP/1.1\" 200 54987\n"
     ]
    },
    {
     "name": "stdout",
     "output_type": "stream",
     "text": [
      "https://www.bcg.com/publications/2019/private-equity-capture-upside-downturn.aspx\n",
      "https://www.bcg.com/publications/2019/banks-brace-new-wave-digital-disruption.aspx\n"
     ]
    },
    {
     "name": "stderr",
     "output_type": "stream",
     "text": [
      "2020-03-03 16:14:12 [urllib3.connectionpool] DEBUG: Starting new HTTPS connection (1): www.bcg.com:443\n",
      "2020-03-03 16:14:13 [urllib3.connectionpool] DEBUG: https://www.bcg.com:443 \"GET /publications/2019/banks-brace-new-wave-digital-disruption.aspx HTTP/1.1\" 200 58713\n",
      "2020-03-03 16:14:13 [urllib3.connectionpool] DEBUG: Starting new HTTPS connection (1): www.bcg.com:443\n",
      "2020-03-03 16:14:13 [urllib3.connectionpool] DEBUG: https://www.bcg.com:443 \"GET /publications/2019/banks-brace-new-wave-digital-disruption.aspx HTTP/1.1\" 200 None\n",
      "2020-03-03 16:14:13 [scrapy.core.engine] DEBUG: Crawled (200) <GET https://www.bcg.com/publications/2019/blockchain-factory-future.aspx> (referer: None)\n",
      "2020-03-03 16:14:13 [scrapy.core.engine] DEBUG: Crawled (200) <GET https://www.bcg.com/publications/2019/service-stations-future.aspx> (referer: None)\n",
      "2020-03-03 16:14:13 [urllib3.connectionpool] DEBUG: Starting new HTTPS connection (1): www.bcg.com:443\n",
      "2020-03-03 16:14:13 [urllib3.connectionpool] DEBUG: https://www.bcg.com:443 \"GET /publications/2019/asset-managers-seize-lead-sustainable-investing.aspx HTTP/1.1\" 200 53806\n",
      "2020-03-03 16:14:13 [urllib3.connectionpool] DEBUG: Starting new HTTPS connection (1): www.bcg.com:443\n",
      "2020-03-03 16:14:13 [urllib3.connectionpool] DEBUG: https://www.bcg.com:443 \"GET /publications/2019/asset-managers-seize-lead-sustainable-investing.aspx HTTP/1.1\" 200 53806\n"
     ]
    },
    {
     "name": "stdout",
     "output_type": "stream",
     "text": [
      "https://www.bcg.com/publications/2019/asset-managers-seize-lead-sustainable-investing.aspx\n"
     ]
    },
    {
     "name": "stderr",
     "output_type": "stream",
     "text": [
      "2020-03-03 16:14:13 [scrapy.core.engine] DEBUG: Crawled (200) <GET https://www.bcg.com/publications/2019/early-stage-investments-could-use-ai-touch.aspx> (referer: None)\n",
      "2020-03-03 16:14:13 [urllib3.connectionpool] DEBUG: Starting new HTTPS connection (1): www.bcg.com:443\n",
      "2020-03-03 16:14:13 [urllib3.connectionpool] DEBUG: https://www.bcg.com:443 \"GET /publications/2019/blockchain-factory-future.aspx HTTP/1.1\" 200 None\n",
      "2020-03-03 16:14:13 [urllib3.connectionpool] DEBUG: Starting new HTTPS connection (1): www.bcg.com:443\n",
      "2020-03-03 16:14:13 [urllib3.connectionpool] DEBUG: https://www.bcg.com:443 \"GET /publications/2019/blockchain-factory-future.aspx HTTP/1.1\" 200 57194\n"
     ]
    },
    {
     "name": "stdout",
     "output_type": "stream",
     "text": [
      "https://www.bcg.com/publications/2019/blockchain-factory-future.aspx\n"
     ]
    },
    {
     "name": "stderr",
     "output_type": "stream",
     "text": [
      "2020-03-03 16:14:13 [urllib3.connectionpool] DEBUG: Starting new HTTPS connection (1): www.bcg.com:443\n",
      "2020-03-03 16:14:13 [urllib3.connectionpool] DEBUG: https://www.bcg.com:443 \"GET /publications/2019/service-stations-future.aspx HTTP/1.1\" 200 59695\n",
      "2020-03-03 16:14:13 [urllib3.connectionpool] DEBUG: Starting new HTTPS connection (1): www.bcg.com:443\n",
      "2020-03-03 16:14:13 [urllib3.connectionpool] DEBUG: https://www.bcg.com:443 \"GET /publications/2019/service-stations-future.aspx HTTP/1.1\" 200 59695\n",
      "2020-03-03 16:14:13 [scrapy.core.engine] DEBUG: Crawled (200) <GET https://www.bcg.com/publications/2019/disruptions-delusions-defenses-in-digital-transformation.aspx> (referer: None)\n"
     ]
    },
    {
     "name": "stdout",
     "output_type": "stream",
     "text": [
      "https://www.bcg.com/publications/2019/service-stations-future.aspx\n"
     ]
    },
    {
     "name": "stderr",
     "output_type": "stream",
     "text": [
      "2020-03-03 16:14:13 [urllib3.connectionpool] DEBUG: Starting new HTTPS connection (1): www.bcg.com:443\n",
      "2020-03-03 16:14:13 [urllib3.connectionpool] DEBUG: https://www.bcg.com:443 \"GET /publications/2019/early-stage-investments-could-use-ai-touch.aspx HTTP/1.1\" 200 51278\n",
      "2020-03-03 16:14:13 [urllib3.connectionpool] DEBUG: Starting new HTTPS connection (1): www.bcg.com:443\n",
      "2020-03-03 16:14:13 [urllib3.connectionpool] DEBUG: https://www.bcg.com:443 \"GET /publications/2019/early-stage-investments-could-use-ai-touch.aspx HTTP/1.1\" 200 51278\n",
      "2020-03-03 16:14:13 [urllib3.connectionpool] DEBUG: Starting new HTTPS connection (1): www.bcg.com:443\n"
     ]
    },
    {
     "name": "stdout",
     "output_type": "stream",
     "text": [
      "https://www.bcg.com/publications/2019/early-stage-investments-could-use-ai-touch.aspx\n",
      "https://www.bcg.com/publications/2019/disruptions-delusions-defenses-in-digital-transformation.aspx\n"
     ]
    },
    {
     "name": "stderr",
     "output_type": "stream",
     "text": [
      "2020-03-03 16:14:14 [urllib3.connectionpool] DEBUG: https://www.bcg.com:443 \"GET /publications/2019/disruptions-delusions-defenses-in-digital-transformation.aspx HTTP/1.1\" 200 None\n",
      "2020-03-03 16:14:14 [urllib3.connectionpool] DEBUG: Starting new HTTPS connection (1): www.bcg.com:443\n",
      "2020-03-03 16:14:14 [urllib3.connectionpool] DEBUG: https://www.bcg.com:443 \"GET /publications/2019/disruptions-delusions-defenses-in-digital-transformation.aspx HTTP/1.1\" 200 49846\n",
      "2020-03-03 16:14:14 [scrapy.core.engine] DEBUG: Crawled (200) <GET https://www.bcg.com/publications/2019/how-digital-champions-invest.aspx> (referer: None)\n",
      "2020-03-03 16:14:14 [scrapy.core.engine] DEBUG: Crawled (200) <GET https://www.bcg.com/publications/2019/what-does-successful-digital-ecosystem-look-like.aspx> (referer: None)\n",
      "2020-03-03 16:14:14 [urllib3.connectionpool] DEBUG: Starting new HTTPS connection (1): www.bcg.com:443\n",
      "2020-03-03 16:14:14 [urllib3.connectionpool] DEBUG: https://www.bcg.com:443 \"GET /publications/2019/how-digital-champions-invest.aspx HTTP/1.1\" 200 52993\n",
      "2020-03-03 16:14:14 [urllib3.connectionpool] DEBUG: Starting new HTTPS connection (1): www.bcg.com:443\n",
      "2020-03-03 16:14:14 [urllib3.connectionpool] DEBUG: https://www.bcg.com:443 \"GET /publications/2019/how-digital-champions-invest.aspx HTTP/1.1\" 200 52993\n"
     ]
    },
    {
     "name": "stdout",
     "output_type": "stream",
     "text": [
      "https://www.bcg.com/publications/2019/how-digital-champions-invest.aspx\n",
      "https://www.bcg.com/publications/2019/what-does-successful-digital-ecosystem-look-like.aspx\n"
     ]
    },
    {
     "name": "stderr",
     "output_type": "stream",
     "text": [
      "2020-03-03 16:14:14 [urllib3.connectionpool] DEBUG: Starting new HTTPS connection (1): www.bcg.com:443\n",
      "2020-03-03 16:14:14 [urllib3.connectionpool] DEBUG: https://www.bcg.com:443 \"GET /publications/2019/what-does-successful-digital-ecosystem-look-like.aspx HTTP/1.1\" 200 52702\n",
      "2020-03-03 16:14:14 [urllib3.connectionpool] DEBUG: Starting new HTTPS connection (1): www.bcg.com:443\n",
      "2020-03-03 16:14:14 [urllib3.connectionpool] DEBUG: https://www.bcg.com:443 \"GET /publications/2019/what-does-successful-digital-ecosystem-look-like.aspx HTTP/1.1\" 200 52701\n",
      "2020-03-03 16:14:16 [scrapy.core.engine] DEBUG: Crawled (200) <GET https://www.bcg.com/publications/2019/supercharge-savings-getting-closer-suppliers.aspx> (referer: None)\n",
      "2020-03-03 16:14:16 [scrapy.core.engine] DEBUG: Crawled (200) <GET https://www.bcg.com/publications/2019/creating-critical-care-service-future.aspx> (referer: None)\n",
      "2020-03-03 16:14:16 [urllib3.connectionpool] DEBUG: Starting new HTTPS connection (1): www.bcg.com:443\n",
      "2020-03-03 16:14:16 [urllib3.connectionpool] DEBUG: https://www.bcg.com:443 \"GET /publications/2019/supercharge-savings-getting-closer-suppliers.aspx HTTP/1.1\" 200 54487\n",
      "2020-03-03 16:14:16 [urllib3.connectionpool] DEBUG: Starting new HTTPS connection (1): www.bcg.com:443\n",
      "2020-03-03 16:14:16 [urllib3.connectionpool] DEBUG: https://www.bcg.com:443 \"GET /publications/2019/supercharge-savings-getting-closer-suppliers.aspx HTTP/1.1\" 200 54487\n"
     ]
    },
    {
     "name": "stdout",
     "output_type": "stream",
     "text": [
      "https://www.bcg.com/publications/2019/supercharge-savings-getting-closer-suppliers.aspx\n"
     ]
    },
    {
     "name": "stderr",
     "output_type": "stream",
     "text": [
      "2020-03-03 16:14:16 [urllib3.connectionpool] DEBUG: Starting new HTTPS connection (1): www.bcg.com:443\n",
      "2020-03-03 16:14:16 [urllib3.connectionpool] DEBUG: https://www.bcg.com:443 \"GET /publications/2019/creating-critical-care-service-future.aspx HTTP/1.1\" 200 50939\n",
      "2020-03-03 16:14:16 [urllib3.connectionpool] DEBUG: Starting new HTTPS connection (1): www.bcg.com:443\n",
      "2020-03-03 16:14:16 [urllib3.connectionpool] DEBUG: https://www.bcg.com:443 \"GET /publications/2019/creating-critical-care-service-future.aspx HTTP/1.1\" 200 50939\n"
     ]
    },
    {
     "name": "stdout",
     "output_type": "stream",
     "text": [
      "https://www.bcg.com/publications/2019/creating-critical-care-service-future.aspx\n"
     ]
    },
    {
     "name": "stderr",
     "output_type": "stream",
     "text": [
      "2020-03-03 16:14:17 [scrapy.core.engine] DEBUG: Crawled (200) <GET https://www.bcg.com/publications/2019/how-digital-operations-put-worlds-oldest-airline-lead.aspx> (referer: None)\n",
      "2020-03-03 16:14:17 [urllib3.connectionpool] DEBUG: Starting new HTTPS connection (1): www.bcg.com:443\n",
      "2020-03-03 16:14:17 [urllib3.connectionpool] DEBUG: https://www.bcg.com:443 \"GET /publications/2019/how-digital-operations-put-worlds-oldest-airline-lead.aspx HTTP/1.1\" 200 56968\n",
      "2020-03-03 16:14:17 [urllib3.connectionpool] DEBUG: Starting new HTTPS connection (1): www.bcg.com:443\n",
      "2020-03-03 16:14:17 [urllib3.connectionpool] DEBUG: https://www.bcg.com:443 \"GET /publications/2019/how-digital-operations-put-worlds-oldest-airline-lead.aspx HTTP/1.1\" 200 None\n"
     ]
    },
    {
     "name": "stdout",
     "output_type": "stream",
     "text": [
      "https://www.bcg.com/publications/2019/how-digital-operations-put-worlds-oldest-airline-lead.aspx\n"
     ]
    },
    {
     "name": "stderr",
     "output_type": "stream",
     "text": [
      "2020-03-03 16:14:18 [scrapy.core.engine] DEBUG: Crawled (200) <GET https://www.bcg.com/perspectives/236831> (referer: None)\n",
      "2020-03-03 16:14:18 [scrapy.core.engine] DEBUG: Crawled (200) <GET https://www.bcg.com/publications/2019/digital-redesign-clinical-trials.aspx> (referer: None)\n",
      "2020-03-03 16:14:18 [scrapy.core.engine] DEBUG: Crawled (200) <GET https://www.bcg.com/publications/2019/solving-tech-industry-purpose-problem.aspx> (referer: None)\n",
      "2020-03-03 16:14:18 [urllib3.connectionpool] DEBUG: Starting new HTTPS connection (1): www.bcg.com:443\n",
      "2020-03-03 16:14:18 [urllib3.connectionpool] DEBUG: https://www.bcg.com:443 \"GET /perspectives/236831 HTTP/1.1\" 200 11420\n",
      "2020-03-03 16:14:18 [urllib3.connectionpool] DEBUG: Starting new HTTPS connection (1): www.bcg.com:443\n",
      "2020-03-03 16:14:18 [urllib3.connectionpool] DEBUG: https://www.bcg.com:443 \"GET /perspectives/236831 HTTP/1.1\" 200 11420\n",
      "2020-03-03 16:14:18 [scrapy.core.scraper] ERROR: Spider error processing <GET https://www.bcg.com/perspectives/236831> (referer: None)\n",
      "Traceback (most recent call last):\n",
      "  File \"C:\\programs\\Continuum\\anaconda3\\lib\\site-packages\\twisted\\internet\\defer.py\", line 654, in _runCallbacks\n",
      "    current.result = callback(current.result, *args, **kw)\n",
      "  File \"<ipython-input-11-426921d2562a>\", line 37, in parse\n",
      "    page_date = re.findall(date_regex, script_text)[0]\n",
      "IndexError: list index out of range\n",
      "2020-03-03 16:14:18 [scrapy.core.engine] DEBUG: Crawled (200) <GET https://www.bcg.com/publications/2019/us-china-tech-trade-war.aspx> (referer: None)\n",
      "2020-03-03 16:14:18 [urllib3.connectionpool] DEBUG: Starting new HTTPS connection (1): www.bcg.com:443\n"
     ]
    },
    {
     "name": "stdout",
     "output_type": "stream",
     "text": [
      "https://www.bcg.com/perspectives/236831\n",
      "https://www.bcg.com/publications/2019/digital-redesign-clinical-trials.aspx\n"
     ]
    },
    {
     "name": "stderr",
     "output_type": "stream",
     "text": [
      "2020-03-03 16:14:18 [urllib3.connectionpool] DEBUG: https://www.bcg.com:443 \"GET /publications/2019/digital-redesign-clinical-trials.aspx HTTP/1.1\" 200 51516\n",
      "2020-03-03 16:14:18 [urllib3.connectionpool] DEBUG: Starting new HTTPS connection (1): www.bcg.com:443\n",
      "2020-03-03 16:14:18 [urllib3.connectionpool] DEBUG: https://www.bcg.com:443 \"GET /publications/2019/digital-redesign-clinical-trials.aspx HTTP/1.1\" 200 51516\n",
      "2020-03-03 16:14:18 [urllib3.connectionpool] DEBUG: Starting new HTTPS connection (1): www.bcg.com:443\n",
      "2020-03-03 16:14:18 [urllib3.connectionpool] DEBUG: https://www.bcg.com:443 \"GET /publications/2019/solving-tech-industry-purpose-problem.aspx HTTP/1.1\" 200 62918\n",
      "2020-03-03 16:14:18 [urllib3.connectionpool] DEBUG: Starting new HTTPS connection (1): www.bcg.com:443\n",
      "2020-03-03 16:14:18 [urllib3.connectionpool] DEBUG: https://www.bcg.com:443 \"GET /publications/2019/solving-tech-industry-purpose-problem.aspx HTTP/1.1\" 200 62918\n",
      "2020-03-03 16:14:18 [urllib3.connectionpool] DEBUG: Starting new HTTPS connection (1): www.bcg.com:443\n"
     ]
    },
    {
     "name": "stdout",
     "output_type": "stream",
     "text": [
      "https://www.bcg.com/publications/2019/solving-tech-industry-purpose-problem.aspx\n",
      "https://www.bcg.com/publications/2019/us-china-tech-trade-war.aspx\n"
     ]
    },
    {
     "name": "stderr",
     "output_type": "stream",
     "text": [
      "2020-03-03 16:14:18 [urllib3.connectionpool] DEBUG: https://www.bcg.com:443 \"GET /publications/2019/us-china-tech-trade-war.aspx HTTP/1.1\" 200 56686\n",
      "2020-03-03 16:14:18 [urllib3.connectionpool] DEBUG: Starting new HTTPS connection (1): www.bcg.com:443\n",
      "2020-03-03 16:14:18 [urllib3.connectionpool] DEBUG: https://www.bcg.com:443 \"GET /publications/2019/us-china-tech-trade-war.aspx HTTP/1.1\" 200 56686\n",
      "2020-03-03 16:14:18 [scrapy.core.engine] DEBUG: Crawled (200) <GET https://www.bcg.com/publications/2019/next-level-personalization-retail.aspx> (referer: None)\n",
      "2020-03-03 16:14:18 [scrapy.core.engine] DEBUG: Crawled (200) <GET https://www.bcg.com/capabilities/change-management/engaging-employees-open-source-approach.aspx> (referer: None)\n",
      "2020-03-03 16:14:18 [urllib3.connectionpool] DEBUG: Starting new HTTPS connection (1): www.bcg.com:443\n",
      "2020-03-03 16:14:19 [urllib3.connectionpool] DEBUG: https://www.bcg.com:443 \"GET /publications/2019/next-level-personalization-retail.aspx HTTP/1.1\" 200 60616\n",
      "2020-03-03 16:14:19 [urllib3.connectionpool] DEBUG: Starting new HTTPS connection (1): www.bcg.com:443\n",
      "2020-03-03 16:14:19 [urllib3.connectionpool] DEBUG: https://www.bcg.com:443 \"GET /publications/2019/next-level-personalization-retail.aspx HTTP/1.1\" 200 60616\n"
     ]
    },
    {
     "name": "stdout",
     "output_type": "stream",
     "text": [
      "https://www.bcg.com/publications/2019/next-level-personalization-retail.aspx\n"
     ]
    },
    {
     "name": "stderr",
     "output_type": "stream",
     "text": [
      "2020-03-03 16:14:19 [urllib3.connectionpool] DEBUG: Starting new HTTPS connection (1): www.bcg.com:443\n",
      "2020-03-03 16:14:19 [urllib3.connectionpool] DEBUG: https://www.bcg.com:443 \"GET /capabilities/change-management/engaging-employees-open-source-approach.aspx HTTP/1.1\" 200 None\n",
      "2020-03-03 16:14:19 [urllib3.connectionpool] DEBUG: Starting new HTTPS connection (1): www.bcg.com:443\n",
      "2020-03-03 16:14:19 [urllib3.connectionpool] DEBUG: https://www.bcg.com:443 \"GET /capabilities/change-management/engaging-employees-open-source-approach.aspx HTTP/1.1\" 200 51764\n"
     ]
    },
    {
     "name": "stdout",
     "output_type": "stream",
     "text": [
      "https://www.bcg.com/capabilities/change-management/engaging-employees-open-source-approach.aspx\n"
     ]
    },
    {
     "name": "stderr",
     "output_type": "stream",
     "text": [
      "2020-03-03 16:14:19 [scrapy.core.engine] DEBUG: Crawled (200) <GET https://www.bcg.com/publications/2019/mastering-digitized-commodity-trading.aspx> (referer: None)\n",
      "2020-03-03 16:14:19 [scrapy.core.engine] DEBUG: Crawled (200) <GET https://www.bcg.com/publications/2019/china-digital-companies-ready-go-global.aspx> (referer: None)\n",
      "2020-03-03 16:14:19 [urllib3.connectionpool] DEBUG: Starting new HTTPS connection (1): www.bcg.com:443\n",
      "2020-03-03 16:14:19 [urllib3.connectionpool] DEBUG: https://www.bcg.com:443 \"GET /publications/2019/mastering-digitized-commodity-trading.aspx HTTP/1.1\" 200 54846\n",
      "2020-03-03 16:14:19 [urllib3.connectionpool] DEBUG: Starting new HTTPS connection (1): www.bcg.com:443\n",
      "2020-03-03 16:14:19 [urllib3.connectionpool] DEBUG: https://www.bcg.com:443 \"GET /publications/2019/mastering-digitized-commodity-trading.aspx HTTP/1.1\" 200 54846\n"
     ]
    },
    {
     "name": "stdout",
     "output_type": "stream",
     "text": [
      "https://www.bcg.com/publications/2019/mastering-digitized-commodity-trading.aspx\n",
      "https://www.bcg.com/publications/2019/china-digital-companies-ready-go-global.aspx\n"
     ]
    },
    {
     "name": "stderr",
     "output_type": "stream",
     "text": [
      "2020-03-03 16:14:19 [urllib3.connectionpool] DEBUG: Starting new HTTPS connection (1): www.bcg.com:443\n",
      "2020-03-03 16:14:19 [urllib3.connectionpool] DEBUG: https://www.bcg.com:443 \"GET /publications/2019/china-digital-companies-ready-go-global.aspx HTTP/1.1\" 200 54075\n",
      "2020-03-03 16:14:19 [urllib3.connectionpool] DEBUG: Starting new HTTPS connection (1): www.bcg.com:443\n",
      "2020-03-03 16:14:19 [urllib3.connectionpool] DEBUG: https://www.bcg.com:443 \"GET /publications/2019/china-digital-companies-ready-go-global.aspx HTTP/1.1\" 200 54075\n",
      "2020-03-03 16:14:19 [scrapy.core.engine] DEBUG: Crawled (200) <GET https://www.bcg.com/publications/2019/innovation-travel-must-put-traveler-first.aspx> (referer: None)\n",
      "2020-03-03 16:14:19 [scrapy.core.engine] DEBUG: Crawled (200) <GET https://www.bcg.com/publications/2019/creating-digital-treasury-banking.aspx> (referer: None)\n",
      "2020-03-03 16:14:19 [urllib3.connectionpool] DEBUG: Starting new HTTPS connection (1): www.bcg.com:443\n",
      "2020-03-03 16:14:19 [urllib3.connectionpool] DEBUG: https://www.bcg.com:443 \"GET /publications/2019/innovation-travel-must-put-traveler-first.aspx HTTP/1.1\" 200 55202\n",
      "2020-03-03 16:14:20 [urllib3.connectionpool] DEBUG: Starting new HTTPS connection (1): www.bcg.com:443\n",
      "2020-03-03 16:14:20 [urllib3.connectionpool] DEBUG: https://www.bcg.com:443 \"GET /publications/2019/innovation-travel-must-put-traveler-first.aspx HTTP/1.1\" 200 55202\n"
     ]
    },
    {
     "name": "stdout",
     "output_type": "stream",
     "text": [
      "https://www.bcg.com/publications/2019/innovation-travel-must-put-traveler-first.aspx\n"
     ]
    },
    {
     "name": "stderr",
     "output_type": "stream",
     "text": [
      "2020-03-03 16:14:20 [urllib3.connectionpool] DEBUG: Starting new HTTPS connection (1): www.bcg.com:443\n",
      "2020-03-03 16:14:20 [urllib3.connectionpool] DEBUG: https://www.bcg.com:443 \"GET /publications/2019/creating-digital-treasury-banking.aspx HTTP/1.1\" 200 54057\n",
      "2020-03-03 16:14:20 [urllib3.connectionpool] DEBUG: Starting new HTTPS connection (1): www.bcg.com:443\n",
      "2020-03-03 16:14:20 [urllib3.connectionpool] DEBUG: https://www.bcg.com:443 \"GET /publications/2019/creating-digital-treasury-banking.aspx HTTP/1.1\" 200 54057\n"
     ]
    },
    {
     "name": "stdout",
     "output_type": "stream",
     "text": [
      "https://www.bcg.com/publications/2019/creating-digital-treasury-banking.aspx\n"
     ]
    },
    {
     "name": "stderr",
     "output_type": "stream",
     "text": [
      "2020-03-03 16:14:21 [scrapy.core.engine] DEBUG: Crawled (200) <GET https://www.bcg.com/publications/2019/raising-procurement-game-pmi-postmerger-integration.aspx> (referer: None)\n",
      "2020-03-03 16:14:21 [scrapy.core.engine] DEBUG: Crawled (200) <GET https://www.bcg.com/publications/2019/decoding-digital-talent.aspx> (referer: None)\n",
      "2020-03-03 16:14:21 [urllib3.connectionpool] DEBUG: Starting new HTTPS connection (1): www.bcg.com:443\n",
      "2020-03-03 16:14:21 [urllib3.connectionpool] DEBUG: https://www.bcg.com:443 \"GET /publications/2019/raising-procurement-game-pmi-postmerger-integration.aspx HTTP/1.1\" 200 53558\n",
      "2020-03-03 16:14:21 [urllib3.connectionpool] DEBUG: Starting new HTTPS connection (1): www.bcg.com:443\n",
      "2020-03-03 16:14:21 [urllib3.connectionpool] DEBUG: https://www.bcg.com:443 \"GET /publications/2019/raising-procurement-game-pmi-postmerger-integration.aspx HTTP/1.1\" 200 53558\n",
      "2020-03-03 16:14:21 [urllib3.connectionpool] DEBUG: Starting new HTTPS connection (1): www.bcg.com:443\n"
     ]
    },
    {
     "name": "stdout",
     "output_type": "stream",
     "text": [
      "https://www.bcg.com/publications/2019/raising-procurement-game-pmi-postmerger-integration.aspx\n",
      "https://www.bcg.com/publications/2019/decoding-digital-talent.aspx\n"
     ]
    },
    {
     "name": "stderr",
     "output_type": "stream",
     "text": [
      "2020-03-03 16:14:21 [urllib3.connectionpool] DEBUG: https://www.bcg.com:443 \"GET /publications/2019/decoding-digital-talent.aspx HTTP/1.1\" 200 57250\n",
      "2020-03-03 16:14:21 [urllib3.connectionpool] DEBUG: Starting new HTTPS connection (1): www.bcg.com:443\n",
      "2020-03-03 16:14:21 [urllib3.connectionpool] DEBUG: https://www.bcg.com:443 \"GET /publications/2019/decoding-digital-talent.aspx HTTP/1.1\" 200 57250\n",
      "2020-03-03 16:14:27 [scrapy.core.engine] DEBUG: Crawled (200) <GET https://www.bcg.com/capabilities/people-organization/digital-default-support-functions-professional-services.aspx> (referer: None)\n",
      "2020-03-03 16:14:27 [urllib3.connectionpool] DEBUG: Starting new HTTPS connection (1): www.bcg.com:443\n",
      "2020-03-03 16:14:28 [urllib3.connectionpool] DEBUG: https://www.bcg.com:443 \"GET /capabilities/people-organization/digital-default-support-functions-professional-services.aspx HTTP/1.1\" 200 52419\n"
     ]
    },
    {
     "name": "stdout",
     "output_type": "stream",
     "text": [
      "https://www.bcg.com/capabilities/people-organization/digital-default-support-functions-professional-services.aspx\n"
     ]
    },
    {
     "name": "stderr",
     "output_type": "stream",
     "text": [
      "2020-03-03 16:14:28 [urllib3.connectionpool] DEBUG: Starting new HTTPS connection (1): www.bcg.com:443\n",
      "2020-03-03 16:14:28 [urllib3.connectionpool] DEBUG: https://www.bcg.com:443 \"GET /capabilities/people-organization/digital-default-support-functions-professional-services.aspx HTTP/1.1\" 200 52419\n",
      "2020-03-03 16:14:28 [scrapy.core.engine] DEBUG: Crawled (200) <GET https://www.bcg.com/publications/2019/artificial-intelligence-ai-help-hinder-women-workforce.aspx> (referer: None)\n",
      "2020-03-03 16:14:28 [urllib3.connectionpool] DEBUG: Starting new HTTPS connection (1): www.bcg.com:443\n",
      "2020-03-03 16:14:28 [urllib3.connectionpool] DEBUG: https://www.bcg.com:443 \"GET /publications/2019/artificial-intelligence-ai-help-hinder-women-workforce.aspx HTTP/1.1\" 200 53379\n",
      "2020-03-03 16:14:28 [urllib3.connectionpool] DEBUG: Starting new HTTPS connection (1): www.bcg.com:443\n",
      "2020-03-03 16:14:28 [urllib3.connectionpool] DEBUG: https://www.bcg.com:443 \"GET /publications/2019/artificial-intelligence-ai-help-hinder-women-workforce.aspx HTTP/1.1\" 200 53379\n",
      "2020-03-03 16:14:28 [scrapy.core.engine] DEBUG: Crawled (200) <GET https://www.bcg.com/publications/2019/getting-quality-right-digital-procurement.aspx> (referer: None)\n"
     ]
    },
    {
     "name": "stdout",
     "output_type": "stream",
     "text": [
      "https://www.bcg.com/publications/2019/artificial-intelligence-ai-help-hinder-women-workforce.aspx\n"
     ]
    },
    {
     "name": "stderr",
     "output_type": "stream",
     "text": [
      "2020-03-03 16:14:28 [urllib3.connectionpool] DEBUG: Starting new HTTPS connection (1): www.bcg.com:443\n",
      "2020-03-03 16:14:28 [urllib3.connectionpool] DEBUG: https://www.bcg.com:443 \"GET /publications/2019/getting-quality-right-digital-procurement.aspx HTTP/1.1\" 200 52446\n",
      "2020-03-03 16:14:28 [urllib3.connectionpool] DEBUG: Starting new HTTPS connection (1): www.bcg.com:443\n",
      "2020-03-03 16:14:28 [urllib3.connectionpool] DEBUG: https://www.bcg.com:443 \"GET /publications/2019/getting-quality-right-digital-procurement.aspx HTTP/1.1\" 200 52446\n"
     ]
    },
    {
     "name": "stdout",
     "output_type": "stream",
     "text": [
      "https://www.bcg.com/publications/2019/getting-quality-right-digital-procurement.aspx\n"
     ]
    },
    {
     "name": "stderr",
     "output_type": "stream",
     "text": [
      "2020-03-03 16:14:28 [scrapy.core.engine] DEBUG: Crawled (200) <GET https://www.bcg.com/publications/2019/asset-managers-winner-takes-all.aspx> (referer: None)\n",
      "2020-03-03 16:14:28 [urllib3.connectionpool] DEBUG: Starting new HTTPS connection (1): www.bcg.com:443\n",
      "2020-03-03 16:14:29 [urllib3.connectionpool] DEBUG: https://www.bcg.com:443 \"GET /publications/2019/asset-managers-winner-takes-all.aspx HTTP/1.1\" 200 54769\n",
      "2020-03-03 16:14:29 [urllib3.connectionpool] DEBUG: Starting new HTTPS connection (1): www.bcg.com:443\n",
      "2020-03-03 16:14:29 [urllib3.connectionpool] DEBUG: https://www.bcg.com:443 \"GET /publications/2019/asset-managers-winner-takes-all.aspx HTTP/1.1\" 200 54769\n"
     ]
    },
    {
     "name": "stdout",
     "output_type": "stream",
     "text": [
      "https://www.bcg.com/publications/2019/asset-managers-winner-takes-all.aspx\n"
     ]
    },
    {
     "name": "stderr",
     "output_type": "stream",
     "text": [
      "2020-03-03 16:14:29 [scrapy.core.engine] DEBUG: Crawled (200) <GET https://www.bcg.com/publications/2019/science-organizational-change.aspx> (referer: None)\n",
      "2020-03-03 16:14:29 [urllib3.connectionpool] DEBUG: Starting new HTTPS connection (1): www.bcg.com:443\n",
      "2020-03-03 16:14:29 [urllib3.connectionpool] DEBUG: https://www.bcg.com:443 \"GET /publications/2019/science-organizational-change.aspx HTTP/1.1\" 200 59109\n",
      "2020-03-03 16:14:29 [urllib3.connectionpool] DEBUG: Starting new HTTPS connection (1): www.bcg.com:443\n",
      "2020-03-03 16:14:29 [urllib3.connectionpool] DEBUG: https://www.bcg.com:443 \"GET /publications/2019/science-organizational-change.aspx HTTP/1.1\" 200 59109\n"
     ]
    },
    {
     "name": "stdout",
     "output_type": "stream",
     "text": [
      "https://www.bcg.com/publications/2019/science-organizational-change.aspx\n"
     ]
    },
    {
     "name": "stderr",
     "output_type": "stream",
     "text": [
      "2020-03-03 16:14:29 [scrapy.core.engine] DEBUG: Crawled (200) <GET https://www.bcg.com/publications/2019/north-american-banks-can-revive-shareholder-value.aspx> (referer: None)\n",
      "2020-03-03 16:14:29 [urllib3.connectionpool] DEBUG: Starting new HTTPS connection (1): www.bcg.com:443\n",
      "2020-03-03 16:14:29 [urllib3.connectionpool] DEBUG: https://www.bcg.com:443 \"GET /publications/2019/north-american-banks-can-revive-shareholder-value.aspx HTTP/1.1\" 200 None\n",
      "2020-03-03 16:14:29 [urllib3.connectionpool] DEBUG: Starting new HTTPS connection (1): www.bcg.com:443\n",
      "2020-03-03 16:14:29 [urllib3.connectionpool] DEBUG: https://www.bcg.com:443 \"GET /publications/2019/north-american-banks-can-revive-shareholder-value.aspx HTTP/1.1\" 200 56273\n"
     ]
    },
    {
     "name": "stdout",
     "output_type": "stream",
     "text": [
      "https://www.bcg.com/publications/2019/north-american-banks-can-revive-shareholder-value.aspx\n"
     ]
    },
    {
     "name": "stderr",
     "output_type": "stream",
     "text": [
      "2020-03-03 16:14:30 [scrapy.core.engine] DEBUG: Crawled (200) <GET https://www.bcg.com/perspectives/236846> (referer: None)\n",
      "2020-03-03 16:14:30 [urllib3.connectionpool] DEBUG: Starting new HTTPS connection (1): www.bcg.com:443\n",
      "2020-03-03 16:14:30 [urllib3.connectionpool] DEBUG: https://www.bcg.com:443 \"GET /perspectives/236846 HTTP/1.1\" 200 11128\n",
      "2020-03-03 16:14:30 [urllib3.connectionpool] DEBUG: Starting new HTTPS connection (1): www.bcg.com:443\n",
      "2020-03-03 16:14:30 [urllib3.connectionpool] DEBUG: https://www.bcg.com:443 \"GET /perspectives/236846 HTTP/1.1\" 200 11128\n",
      "2020-03-03 16:14:30 [scrapy.core.scraper] ERROR: Spider error processing <GET https://www.bcg.com/perspectives/236846> (referer: None)\n",
      "Traceback (most recent call last):\n",
      "  File \"C:\\programs\\Continuum\\anaconda3\\lib\\site-packages\\twisted\\internet\\defer.py\", line 654, in _runCallbacks\n",
      "    current.result = callback(current.result, *args, **kw)\n",
      "  File \"<ipython-input-11-426921d2562a>\", line 37, in parse\n",
      "    page_date = re.findall(date_regex, script_text)[0]\n",
      "IndexError: list index out of range\n",
      "2020-03-03 16:14:30 [scrapy.core.engine] DEBUG: Crawled (200) <GET https://www.bcg.com/publications/2019/next-frontier-digital-ai-transformations.aspx> (referer: None)\n"
     ]
    },
    {
     "name": "stdout",
     "output_type": "stream",
     "text": [
      "https://www.bcg.com/perspectives/236846\n"
     ]
    },
    {
     "name": "stderr",
     "output_type": "stream",
     "text": [
      "2020-03-03 16:14:30 [urllib3.connectionpool] DEBUG: Starting new HTTPS connection (1): www.bcg.com:443\n",
      "2020-03-03 16:14:30 [urllib3.connectionpool] DEBUG: https://www.bcg.com:443 \"GET /publications/2019/next-frontier-digital-ai-transformations.aspx HTTP/1.1\" 200 61398\n",
      "2020-03-03 16:14:30 [urllib3.connectionpool] DEBUG: Starting new HTTPS connection (1): www.bcg.com:443\n",
      "2020-03-03 16:14:30 [urllib3.connectionpool] DEBUG: https://www.bcg.com:443 \"GET /publications/2019/next-frontier-digital-ai-transformations.aspx HTTP/1.1\" 200 61398\n"
     ]
    },
    {
     "name": "stdout",
     "output_type": "stream",
     "text": [
      "https://www.bcg.com/publications/2019/next-frontier-digital-ai-transformations.aspx\n"
     ]
    },
    {
     "name": "stderr",
     "output_type": "stream",
     "text": [
      "2020-03-03 16:14:30 [scrapy.core.engine] DEBUG: Crawled (200) <GET https://www.bcg.com/publications/2019/company-of-the-future.aspx> (referer: None)\n",
      "2020-03-03 16:14:30 [urllib3.connectionpool] DEBUG: Starting new HTTPS connection (1): www.bcg.com:443\n",
      "2020-03-03 16:14:30 [urllib3.connectionpool] DEBUG: https://www.bcg.com:443 \"GET /publications/2019/company-of-the-future.aspx HTTP/1.1\" 200 59193\n",
      "2020-03-03 16:14:30 [urllib3.connectionpool] DEBUG: Starting new HTTPS connection (1): www.bcg.com:443\n",
      "2020-03-03 16:14:30 [urllib3.connectionpool] DEBUG: https://www.bcg.com:443 \"GET /publications/2019/company-of-the-future.aspx HTTP/1.1\" 200 59193\n"
     ]
    },
    {
     "name": "stdout",
     "output_type": "stream",
     "text": [
      "https://www.bcg.com/publications/2019/company-of-the-future.aspx\n"
     ]
    },
    {
     "name": "stderr",
     "output_type": "stream",
     "text": [
      "2020-03-03 16:14:32 [scrapy.core.engine] DEBUG: Crawled (200) <GET https://www.bcg.com/publications/2019/decoding-slowdown-blockchain-startups.aspx> (referer: None)\n",
      "2020-03-03 16:14:32 [urllib3.connectionpool] DEBUG: Starting new HTTPS connection (1): www.bcg.com:443\n",
      "2020-03-03 16:14:32 [urllib3.connectionpool] DEBUG: https://www.bcg.com:443 \"GET /publications/2019/decoding-slowdown-blockchain-startups.aspx HTTP/1.1\" 200 50045\n",
      "2020-03-03 16:14:32 [urllib3.connectionpool] DEBUG: Starting new HTTPS connection (1): www.bcg.com:443\n",
      "2020-03-03 16:14:32 [urllib3.connectionpool] DEBUG: https://www.bcg.com:443 \"GET /publications/2019/decoding-slowdown-blockchain-startups.aspx HTTP/1.1\" 200 50045\n"
     ]
    },
    {
     "name": "stdout",
     "output_type": "stream",
     "text": [
      "https://www.bcg.com/publications/2019/decoding-slowdown-blockchain-startups.aspx\n"
     ]
    },
    {
     "name": "stderr",
     "output_type": "stream",
     "text": [
      "2020-03-03 16:14:32 [scrapy.core.engine] DEBUG: Crawled (200) <GET https://www.bcg.com/publications/2019/chasing-value-as-ai-transforms-health-care.aspx> (referer: None)\n",
      "2020-03-03 16:14:33 [urllib3.connectionpool] DEBUG: Starting new HTTPS connection (1): www.bcg.com:443\n",
      "2020-03-03 16:14:33 [urllib3.connectionpool] DEBUG: https://www.bcg.com:443 \"GET /publications/2019/chasing-value-as-ai-transforms-health-care.aspx HTTP/1.1\" 200 54375\n",
      "2020-03-03 16:14:33 [urllib3.connectionpool] DEBUG: Starting new HTTPS connection (1): www.bcg.com:443\n",
      "2020-03-03 16:14:33 [urllib3.connectionpool] DEBUG: https://www.bcg.com:443 \"GET /publications/2019/chasing-value-as-ai-transforms-health-care.aspx HTTP/1.1\" 200 54375\n"
     ]
    },
    {
     "name": "stdout",
     "output_type": "stream",
     "text": [
      "https://www.bcg.com/publications/2019/chasing-value-as-ai-transforms-health-care.aspx\n"
     ]
    },
    {
     "name": "stderr",
     "output_type": "stream",
     "text": [
      "2020-03-03 16:14:33 [scrapy.core.engine] DEBUG: Crawled (200) <GET https://www.bcg.com/publications/2019/capturing-offline-impact-online-marketing-b2b.aspx> (referer: None)\n",
      "2020-03-03 16:14:33 [urllib3.connectionpool] DEBUG: Starting new HTTPS connection (1): www.bcg.com:443\n",
      "2020-03-03 16:14:33 [urllib3.connectionpool] DEBUG: https://www.bcg.com:443 \"GET /publications/2019/capturing-offline-impact-online-marketing-b2b.aspx HTTP/1.1\" 200 56187\n",
      "2020-03-03 16:14:33 [urllib3.connectionpool] DEBUG: Starting new HTTPS connection (1): www.bcg.com:443\n",
      "2020-03-03 16:14:33 [urllib3.connectionpool] DEBUG: https://www.bcg.com:443 \"GET /publications/2019/capturing-offline-impact-online-marketing-b2b.aspx HTTP/1.1\" 200 56187\n",
      "2020-03-03 16:14:33 [scrapy.core.engine] DEBUG: Crawled (200) <GET https://www.bcg.com/publications/2019/global-risk-creating-digital-resilient-bank.aspx> (referer: None)\n"
     ]
    },
    {
     "name": "stdout",
     "output_type": "stream",
     "text": [
      "https://www.bcg.com/publications/2019/capturing-offline-impact-online-marketing-b2b.aspx\n"
     ]
    },
    {
     "name": "stderr",
     "output_type": "stream",
     "text": [
      "2020-03-03 16:14:33 [urllib3.connectionpool] DEBUG: Starting new HTTPS connection (1): www.bcg.com:443\n",
      "2020-03-03 16:14:33 [urllib3.connectionpool] DEBUG: https://www.bcg.com:443 \"GET /publications/2019/global-risk-creating-digital-resilient-bank.aspx HTTP/1.1\" 200 65678\n",
      "2020-03-03 16:14:33 [urllib3.connectionpool] DEBUG: Starting new HTTPS connection (1): www.bcg.com:443\n",
      "2020-03-03 16:14:33 [urllib3.connectionpool] DEBUG: https://www.bcg.com:443 \"GET /publications/2019/global-risk-creating-digital-resilient-bank.aspx HTTP/1.1\" 200 65678\n"
     ]
    },
    {
     "name": "stdout",
     "output_type": "stream",
     "text": [
      "https://www.bcg.com/publications/2019/global-risk-creating-digital-resilient-bank.aspx\n"
     ]
    },
    {
     "name": "stderr",
     "output_type": "stream",
     "text": [
      "2020-03-03 16:14:33 [scrapy.core.engine] DEBUG: Crawled (200) <GET https://www.bcg.com/publications/2019/new-logic-of-competition.aspx> (referer: None)\n",
      "2020-03-03 16:14:33 [scrapy.core.engine] DEBUG: Crawled (200) <GET https://www.bcg.com/publications/2019/travel-time-push-ai-beyond-pilot-phase.aspx> (referer: None)\n",
      "2020-03-03 16:14:33 [urllib3.connectionpool] DEBUG: Starting new HTTPS connection (1): www.bcg.com:443\n",
      "2020-03-03 16:14:34 [urllib3.connectionpool] DEBUG: https://www.bcg.com:443 \"GET /publications/2019/new-logic-of-competition.aspx HTTP/1.1\" 200 56107\n",
      "2020-03-03 16:14:34 [urllib3.connectionpool] DEBUG: Starting new HTTPS connection (1): www.bcg.com:443\n",
      "2020-03-03 16:14:34 [urllib3.connectionpool] DEBUG: https://www.bcg.com:443 \"GET /publications/2019/new-logic-of-competition.aspx HTTP/1.1\" 200 56107\n",
      "2020-03-03 16:14:34 [scrapy.core.engine] DEBUG: Crawled (200) <GET https://www.bcg.com/publications/2019/cyberresilience-electricity-ecosystem-interview-iberdrola-rosa-kariger.aspx> (referer: None)\n"
     ]
    },
    {
     "name": "stdout",
     "output_type": "stream",
     "text": [
      "https://www.bcg.com/publications/2019/new-logic-of-competition.aspx\n"
     ]
    },
    {
     "name": "stderr",
     "output_type": "stream",
     "text": [
      "2020-03-03 16:14:34 [urllib3.connectionpool] DEBUG: Starting new HTTPS connection (1): www.bcg.com:443\n",
      "2020-03-03 16:14:34 [urllib3.connectionpool] DEBUG: https://www.bcg.com:443 \"GET /publications/2019/travel-time-push-ai-beyond-pilot-phase.aspx HTTP/1.1\" 200 52573\n",
      "2020-03-03 16:14:34 [urllib3.connectionpool] DEBUG: Starting new HTTPS connection (1): www.bcg.com:443\n",
      "2020-03-03 16:14:34 [urllib3.connectionpool] DEBUG: https://www.bcg.com:443 \"GET /publications/2019/travel-time-push-ai-beyond-pilot-phase.aspx HTTP/1.1\" 200 52573\n"
     ]
    },
    {
     "name": "stdout",
     "output_type": "stream",
     "text": [
      "https://www.bcg.com/publications/2019/travel-time-push-ai-beyond-pilot-phase.aspx\n",
      "https://www.bcg.com/publications/2019/cyberresilience-electricity-ecosystem-interview-iberdrola-rosa-kariger.aspx\n"
     ]
    },
    {
     "name": "stderr",
     "output_type": "stream",
     "text": [
      "2020-03-03 16:14:34 [urllib3.connectionpool] DEBUG: Starting new HTTPS connection (1): www.bcg.com:443\n",
      "2020-03-03 16:14:34 [urllib3.connectionpool] DEBUG: https://www.bcg.com:443 \"GET /publications/2019/cyberresilience-electricity-ecosystem-interview-iberdrola-rosa-kariger.aspx HTTP/1.1\" 200 50844\n",
      "2020-03-03 16:14:34 [urllib3.connectionpool] DEBUG: Starting new HTTPS connection (1): www.bcg.com:443\n",
      "2020-03-03 16:14:34 [urllib3.connectionpool] DEBUG: https://www.bcg.com:443 \"GET /publications/2019/cyberresilience-electricity-ecosystem-interview-iberdrola-rosa-kariger.aspx HTTP/1.1\" 200 50844\n",
      "2020-03-03 16:14:34 [scrapy.core.engine] DEBUG: Crawled (200) <GET https://www.bcg.com/publications/2019/most-innovative-companies-artificial-intelligence-innovation-machine.aspx> (referer: None)\n",
      "2020-03-03 16:14:34 [scrapy.core.engine] DEBUG: Crawled (200) <GET https://www.bcg.com/publications/2019/seven-forces-reshaping-enterprise-software.aspx> (referer: None)\n",
      "2020-03-03 16:14:34 [urllib3.connectionpool] DEBUG: Starting new HTTPS connection (1): www.bcg.com:443\n",
      "2020-03-03 16:14:34 [urllib3.connectionpool] DEBUG: https://www.bcg.com:443 \"GET /publications/2019/most-innovative-companies-artificial-intelligence-innovation-machine.aspx HTTP/1.1\" 200 53443\n",
      "2020-03-03 16:14:34 [urllib3.connectionpool] DEBUG: Starting new HTTPS connection (1): www.bcg.com:443\n"
     ]
    },
    {
     "name": "stdout",
     "output_type": "stream",
     "text": [
      "https://www.bcg.com/publications/2019/most-innovative-companies-artificial-intelligence-innovation-machine.aspx\n"
     ]
    },
    {
     "name": "stderr",
     "output_type": "stream",
     "text": [
      "2020-03-03 16:14:34 [urllib3.connectionpool] DEBUG: https://www.bcg.com:443 \"GET /publications/2019/most-innovative-companies-artificial-intelligence-innovation-machine.aspx HTTP/1.1\" 200 None\n",
      "2020-03-03 16:14:35 [scrapy.core.engine] DEBUG: Crawled (200) <GET https://www.bcg.com/publications/interactives/2019-most-innovative-companies.aspx> (referer: None)\n",
      "2020-03-03 16:14:35 [scrapy.core.engine] DEBUG: Crawled (200) <GET https://www.bcg.com/publications/2019/most-innovative-companies-innovation.aspx> (referer: None)\n",
      "2020-03-03 16:14:35 [urllib3.connectionpool] DEBUG: Starting new HTTPS connection (1): www.bcg.com:443\n",
      "2020-03-03 16:14:35 [urllib3.connectionpool] DEBUG: https://www.bcg.com:443 \"GET /publications/2019/seven-forces-reshaping-enterprise-software.aspx HTTP/1.1\" 200 65940\n"
     ]
    },
    {
     "name": "stdout",
     "output_type": "stream",
     "text": [
      "https://www.bcg.com/publications/2019/seven-forces-reshaping-enterprise-software.aspx\n"
     ]
    },
    {
     "name": "stderr",
     "output_type": "stream",
     "text": [
      "2020-03-03 16:14:35 [urllib3.connectionpool] DEBUG: Starting new HTTPS connection (1): www.bcg.com:443\n",
      "2020-03-03 16:14:35 [urllib3.connectionpool] DEBUG: https://www.bcg.com:443 \"GET /publications/2019/seven-forces-reshaping-enterprise-software.aspx HTTP/1.1\" 200 65940\n",
      "2020-03-03 16:14:35 [urllib3.connectionpool] DEBUG: Starting new HTTPS connection (1): www.bcg.com:443\n",
      "2020-03-03 16:14:35 [urllib3.connectionpool] DEBUG: https://www.bcg.com:443 \"GET /publications/interactives/2019-most-innovative-companies.aspx HTTP/1.1\" 200 44277\n",
      "2020-03-03 16:14:35 [urllib3.connectionpool] DEBUG: Starting new HTTPS connection (1): www.bcg.com:443\n",
      "2020-03-03 16:14:35 [urllib3.connectionpool] DEBUG: https://www.bcg.com:443 \"GET /publications/interactives/2019-most-innovative-companies.aspx HTTP/1.1\" 200 44277\n"
     ]
    },
    {
     "name": "stdout",
     "output_type": "stream",
     "text": [
      "https://www.bcg.com/publications/interactives/2019-most-innovative-companies.aspx\n"
     ]
    },
    {
     "name": "stderr",
     "output_type": "stream",
     "text": [
      "2020-03-03 16:14:35 [urllib3.connectionpool] DEBUG: Starting new HTTPS connection (1): www.bcg.com:443\n"
     ]
    },
    {
     "name": "stdout",
     "output_type": "stream",
     "text": [
      "https://www.bcg.com/publications/2019/most-innovative-companies-innovation.aspx\n"
     ]
    },
    {
     "name": "stderr",
     "output_type": "stream",
     "text": [
      "2020-03-03 16:14:35 [urllib3.connectionpool] DEBUG: https://www.bcg.com:443 \"GET /publications/2019/most-innovative-companies-innovation.aspx HTTP/1.1\" 200 None\n",
      "2020-03-03 16:14:35 [urllib3.connectionpool] DEBUG: Starting new HTTPS connection (1): www.bcg.com:443\n",
      "2020-03-03 16:14:36 [urllib3.connectionpool] DEBUG: https://www.bcg.com:443 \"GET /publications/2019/most-innovative-companies-innovation.aspx HTTP/1.1\" 200 49725\n",
      "2020-03-03 16:14:36 [scrapy.core.engine] DEBUG: Crawled (200) <GET https://www.bcg.com/publications/2019/most-innovative-companies-collaborative-platforms-ecosystems-changing-nnovation.aspx> (referer: None)\n",
      "2020-03-03 16:14:36 [scrapy.core.engine] DEBUG: Crawled (200) <GET https://www.bcg.com/publications/2019/digital-identity-solution-one-you-cannot-see.aspx> (referer: None)\n",
      "2020-03-03 16:14:36 [urllib3.connectionpool] DEBUG: Starting new HTTPS connection (1): www.bcg.com:443\n"
     ]
    },
    {
     "name": "stdout",
     "output_type": "stream",
     "text": [
      "https://www.bcg.com/publications/2019/most-innovative-companies-collaborative-platforms-ecosystems-changing-nnovation.aspx\n"
     ]
    },
    {
     "name": "stderr",
     "output_type": "stream",
     "text": [
      "2020-03-03 16:14:36 [urllib3.connectionpool] DEBUG: https://www.bcg.com:443 \"GET /publications/2019/most-innovative-companies-collaborative-platforms-ecosystems-changing-nnovation.aspx HTTP/1.1\" 200 None\n",
      "2020-03-03 16:14:36 [urllib3.connectionpool] DEBUG: Starting new HTTPS connection (1): www.bcg.com:443\n",
      "2020-03-03 16:14:37 [urllib3.connectionpool] DEBUG: https://www.bcg.com:443 \"GET /publications/2019/most-innovative-companies-collaborative-platforms-ecosystems-changing-nnovation.aspx HTTP/1.1\" 200 None\n",
      "2020-03-03 16:14:37 [scrapy.core.engine] DEBUG: Crawled (200) <GET https://www.bcg.com/publications/2019/building-the-housing-of-the-future.aspx> (referer: None)\n",
      "2020-03-03 16:14:37 [urllib3.connectionpool] DEBUG: Starting new HTTPS connection (1): www.bcg.com:443\n",
      "2020-03-03 16:14:37 [urllib3.connectionpool] DEBUG: https://www.bcg.com:443 \"GET /publications/2019/digital-identity-solution-one-you-cannot-see.aspx HTTP/1.1\" 200 52556\n",
      "2020-03-03 16:14:37 [urllib3.connectionpool] DEBUG: Starting new HTTPS connection (1): www.bcg.com:443\n",
      "2020-03-03 16:14:37 [urllib3.connectionpool] DEBUG: https://www.bcg.com:443 \"GET /publications/2019/digital-identity-solution-one-you-cannot-see.aspx HTTP/1.1\" 200 52556\n"
     ]
    },
    {
     "name": "stdout",
     "output_type": "stream",
     "text": [
      "https://www.bcg.com/publications/2019/digital-identity-solution-one-you-cannot-see.aspx\n",
      "https://www.bcg.com/publications/2019/building-the-housing-of-the-future.aspx\n"
     ]
    },
    {
     "name": "stderr",
     "output_type": "stream",
     "text": [
      "2020-03-03 16:14:37 [urllib3.connectionpool] DEBUG: Starting new HTTPS connection (1): www.bcg.com:443\n",
      "2020-03-03 16:14:37 [urllib3.connectionpool] DEBUG: https://www.bcg.com:443 \"GET /publications/2019/building-the-housing-of-the-future.aspx HTTP/1.1\" 200 54472\n",
      "2020-03-03 16:14:37 [urllib3.connectionpool] DEBUG: Starting new HTTPS connection (1): www.bcg.com:443\n",
      "2020-03-03 16:14:37 [urllib3.connectionpool] DEBUG: https://www.bcg.com:443 \"GET /publications/2019/building-the-housing-of-the-future.aspx HTTP/1.1\" 200 54472\n",
      "2020-03-03 16:14:37 [scrapy.core.engine] DEBUG: Crawled (200) <GET https://www.bcg.com/publications/2019/how-to-guide-digital-operations.aspx> (referer: None)\n",
      "2020-03-03 16:14:37 [urllib3.connectionpool] DEBUG: Starting new HTTPS connection (1): www.bcg.com:443\n"
     ]
    },
    {
     "name": "stdout",
     "output_type": "stream",
     "text": [
      "https://www.bcg.com/publications/2019/how-to-guide-digital-operations.aspx\n"
     ]
    },
    {
     "name": "stderr",
     "output_type": "stream",
     "text": [
      "2020-03-03 16:14:38 [urllib3.connectionpool] DEBUG: https://www.bcg.com:443 \"GET /publications/2019/how-to-guide-digital-operations.aspx HTTP/1.1\" 200 None\n",
      "2020-03-03 16:14:38 [urllib3.connectionpool] DEBUG: Starting new HTTPS connection (1): www.bcg.com:443\n",
      "2020-03-03 16:14:38 [urllib3.connectionpool] DEBUG: https://www.bcg.com:443 \"GET /publications/2019/how-to-guide-digital-operations.aspx HTTP/1.1\" 200 None\n",
      "2020-03-03 16:14:38 [scrapy.core.engine] DEBUG: Crawled (200) <GET https://www.bcg.com/publications/2019/digital-operations-at-scale.aspx> (referer: None)\n",
      "2020-03-03 16:14:38 [scrapy.core.engine] DEBUG: Crawled (200) <GET https://www.bcg.com/publications/2019/dawn-deep-tech-ecosystem.aspx> (referer: None)\n",
      "2020-03-03 16:14:38 [scrapy.core.engine] DEBUG: Crawled (200) <GET https://www.bcg.com/publications/2019/digital-value-oil-gas.aspx> (referer: None)\n",
      "2020-03-03 16:14:38 [scrapy.core.engine] DEBUG: Crawled (200) <GET https://www.bcg.com/publications/2019/your-capabilities-need-a-strategy.aspx> (referer: None)\n",
      "2020-03-03 16:14:38 [urllib3.connectionpool] DEBUG: Starting new HTTPS connection (1): www.bcg.com:443\n",
      "2020-03-03 16:14:39 [urllib3.connectionpool] DEBUG: https://www.bcg.com:443 \"GET /publications/2019/digital-operations-at-scale.aspx HTTP/1.1\" 200 52541\n",
      "2020-03-03 16:14:39 [urllib3.connectionpool] DEBUG: Starting new HTTPS connection (1): www.bcg.com:443\n",
      "2020-03-03 16:14:39 [urllib3.connectionpool] DEBUG: https://www.bcg.com:443 \"GET /publications/2019/digital-operations-at-scale.aspx HTTP/1.1\" 200 52541\n",
      "2020-03-03 16:14:39 [urllib3.connectionpool] DEBUG: Starting new HTTPS connection (1): www.bcg.com:443\n"
     ]
    },
    {
     "name": "stdout",
     "output_type": "stream",
     "text": [
      "https://www.bcg.com/publications/2019/digital-operations-at-scale.aspx\n",
      "https://www.bcg.com/publications/2019/dawn-deep-tech-ecosystem.aspx\n"
     ]
    },
    {
     "name": "stderr",
     "output_type": "stream",
     "text": [
      "2020-03-03 16:14:39 [urllib3.connectionpool] DEBUG: https://www.bcg.com:443 \"GET /publications/2019/dawn-deep-tech-ecosystem.aspx HTTP/1.1\" 200 55700\n",
      "2020-03-03 16:14:39 [urllib3.connectionpool] DEBUG: Starting new HTTPS connection (1): www.bcg.com:443\n",
      "2020-03-03 16:14:39 [urllib3.connectionpool] DEBUG: https://www.bcg.com:443 \"GET /publications/2019/dawn-deep-tech-ecosystem.aspx HTTP/1.1\" 200 55700\n",
      "2020-03-03 16:14:39 [scrapy.core.engine] DEBUG: Crawled (200) <GET https://www.bcg.com/publications/2019/free-up-your-mind-strategy.aspx> (referer: None)\n",
      "2020-03-03 16:14:39 [urllib3.connectionpool] DEBUG: Starting new HTTPS connection (1): www.bcg.com:443\n",
      "2020-03-03 16:14:39 [urllib3.connectionpool] DEBUG: https://www.bcg.com:443 \"GET /publications/2019/digital-value-oil-gas.aspx HTTP/1.1\" 200 54251\n",
      "2020-03-03 16:14:39 [urllib3.connectionpool] DEBUG: Starting new HTTPS connection (1): www.bcg.com:443\n",
      "2020-03-03 16:14:39 [urllib3.connectionpool] DEBUG: https://www.bcg.com:443 \"GET /publications/2019/digital-value-oil-gas.aspx HTTP/1.1\" 200 54251\n"
     ]
    },
    {
     "name": "stdout",
     "output_type": "stream",
     "text": [
      "https://www.bcg.com/publications/2019/digital-value-oil-gas.aspx\n"
     ]
    },
    {
     "name": "stderr",
     "output_type": "stream",
     "text": [
      "2020-03-03 16:14:39 [urllib3.connectionpool] DEBUG: Starting new HTTPS connection (1): www.bcg.com:443\n",
      "2020-03-03 16:14:39 [urllib3.connectionpool] DEBUG: https://www.bcg.com:443 \"GET /publications/2019/your-capabilities-need-a-strategy.aspx HTTP/1.1\" 200 56505\n",
      "2020-03-03 16:14:39 [urllib3.connectionpool] DEBUG: Starting new HTTPS connection (1): www.bcg.com:443\n",
      "2020-03-03 16:14:39 [urllib3.connectionpool] DEBUG: https://www.bcg.com:443 \"GET /publications/2019/your-capabilities-need-a-strategy.aspx HTTP/1.1\" 200 56505\n",
      "2020-03-03 16:14:39 [scrapy.core.engine] DEBUG: Crawled (200) <GET https://www.bcg.com/publications/2019/citizen-perspective-use-artificial-intelligence-government-digital-benchmarking.aspx> (referer: None)\n"
     ]
    },
    {
     "name": "stdout",
     "output_type": "stream",
     "text": [
      "https://www.bcg.com/publications/2019/your-capabilities-need-a-strategy.aspx\n"
     ]
    },
    {
     "name": "stderr",
     "output_type": "stream",
     "text": [
      "2020-03-03 16:14:39 [urllib3.connectionpool] DEBUG: Starting new HTTPS connection (1): www.bcg.com:443\n",
      "2020-03-03 16:14:39 [urllib3.connectionpool] DEBUG: https://www.bcg.com:443 \"GET /publications/2019/free-up-your-mind-strategy.aspx HTTP/1.1\" 200 54232\n",
      "2020-03-03 16:14:39 [urllib3.connectionpool] DEBUG: Starting new HTTPS connection (1): www.bcg.com:443\n"
     ]
    },
    {
     "name": "stdout",
     "output_type": "stream",
     "text": [
      "https://www.bcg.com/publications/2019/free-up-your-mind-strategy.aspx\n"
     ]
    },
    {
     "name": "stderr",
     "output_type": "stream",
     "text": [
      "2020-03-03 16:14:39 [urllib3.connectionpool] DEBUG: https://www.bcg.com:443 \"GET /publications/2019/free-up-your-mind-strategy.aspx HTTP/1.1\" 200 54232\n",
      "2020-03-03 16:14:40 [scrapy.core.engine] DEBUG: Crawled (200) <GET https://www.bcg.com/publications/2019/what-could-blockchain-do-airlines.aspx> (referer: None)\n",
      "2020-03-03 16:14:40 [urllib3.connectionpool] DEBUG: Starting new HTTPS connection (1): www.bcg.com:443\n",
      "2020-03-03 16:14:40 [urllib3.connectionpool] DEBUG: https://www.bcg.com:443 \"GET /publications/2019/citizen-perspective-use-artificial-intelligence-government-digital-benchmarking.aspx HTTP/1.1\" 200 56446\n"
     ]
    },
    {
     "name": "stdout",
     "output_type": "stream",
     "text": [
      "https://www.bcg.com/publications/2019/citizen-perspective-use-artificial-intelligence-government-digital-benchmarking.aspx\n"
     ]
    },
    {
     "name": "stderr",
     "output_type": "stream",
     "text": [
      "2020-03-03 16:14:40 [urllib3.connectionpool] DEBUG: Starting new HTTPS connection (1): www.bcg.com:443\n",
      "2020-03-03 16:14:40 [urllib3.connectionpool] DEBUG: https://www.bcg.com:443 \"GET /publications/2019/citizen-perspective-use-artificial-intelligence-government-digital-benchmarking.aspx HTTP/1.1\" 200 56446\n",
      "2020-03-03 16:14:40 [scrapy.core.engine] DEBUG: Crawled (200) <GET https://www.bcg.com/publications/2019/radical-redesign-digital-age.aspx> (referer: None)\n",
      "2020-03-03 16:14:40 [urllib3.connectionpool] DEBUG: Starting new HTTPS connection (1): www.bcg.com:443\n",
      "2020-03-03 16:14:40 [urllib3.connectionpool] DEBUG: https://www.bcg.com:443 \"GET /publications/2019/what-could-blockchain-do-airlines.aspx HTTP/1.1\" 200 51799\n",
      "2020-03-03 16:14:40 [urllib3.connectionpool] DEBUG: Starting new HTTPS connection (1): www.bcg.com:443\n",
      "2020-03-03 16:14:40 [urllib3.connectionpool] DEBUG: https://www.bcg.com:443 \"GET /publications/2019/what-could-blockchain-do-airlines.aspx HTTP/1.1\" 200 51799\n"
     ]
    },
    {
     "name": "stdout",
     "output_type": "stream",
     "text": [
      "https://www.bcg.com/publications/2019/what-could-blockchain-do-airlines.aspx\n"
     ]
    },
    {
     "name": "stderr",
     "output_type": "stream",
     "text": [
      "2020-03-03 16:14:40 [scrapy.core.engine] DEBUG: Crawled (200) <GET https://www.bcg.com/publications/2019/value-creation-amid-uncertainty-in-tmt-sector.aspx> (referer: None)\n",
      "2020-03-03 16:14:40 [urllib3.connectionpool] DEBUG: Starting new HTTPS connection (1): www.bcg.com:443\n",
      "2020-03-03 16:14:40 [urllib3.connectionpool] DEBUG: https://www.bcg.com:443 \"GET /publications/2019/radical-redesign-digital-age.aspx HTTP/1.1\" 200 52199\n",
      "2020-03-03 16:14:40 [urllib3.connectionpool] DEBUG: Starting new HTTPS connection (1): www.bcg.com:443\n",
      "2020-03-03 16:14:40 [urllib3.connectionpool] DEBUG: https://www.bcg.com:443 \"GET /publications/2019/radical-redesign-digital-age.aspx HTTP/1.1\" 200 52199\n"
     ]
    },
    {
     "name": "stdout",
     "output_type": "stream",
     "text": [
      "https://www.bcg.com/publications/2019/radical-redesign-digital-age.aspx\n",
      "https://www.bcg.com/publications/2019/value-creation-amid-uncertainty-in-tmt-sector.aspx\n"
     ]
    },
    {
     "name": "stderr",
     "output_type": "stream",
     "text": [
      "2020-03-03 16:14:40 [urllib3.connectionpool] DEBUG: Starting new HTTPS connection (1): www.bcg.com:443\n",
      "2020-03-03 16:14:40 [urllib3.connectionpool] DEBUG: https://www.bcg.com:443 \"GET /publications/2019/value-creation-amid-uncertainty-in-tmt-sector.aspx HTTP/1.1\" 200 57783\n",
      "2020-03-03 16:14:40 [urllib3.connectionpool] DEBUG: Starting new HTTPS connection (1): www.bcg.com:443\n",
      "2020-03-03 16:14:40 [urllib3.connectionpool] DEBUG: https://www.bcg.com:443 \"GET /publications/2019/value-creation-amid-uncertainty-in-tmt-sector.aspx HTTP/1.1\" 200 57783\n",
      "2020-03-03 16:14:41 [scrapy.core.engine] DEBUG: Crawled (200) <GET https://www.bcg.com/publications/2019/us-mobility-industry-great-talent-hunt.aspx> (referer: None)\n",
      "2020-03-03 16:14:41 [urllib3.connectionpool] DEBUG: Starting new HTTPS connection (1): www.bcg.com:443\n",
      "2020-03-03 16:14:41 [urllib3.connectionpool] DEBUG: https://www.bcg.com:443 \"GET /publications/2019/us-mobility-industry-great-talent-hunt.aspx HTTP/1.1\" 200 53542\n",
      "2020-03-03 16:14:41 [urllib3.connectionpool] DEBUG: Starting new HTTPS connection (1): www.bcg.com:443\n",
      "2020-03-03 16:14:42 [urllib3.connectionpool] DEBUG: https://www.bcg.com:443 \"GET /publications/2019/us-mobility-industry-great-talent-hunt.aspx HTTP/1.1\" 200 53542\n",
      "2020-03-03 16:14:42 [scrapy.core.engine] DEBUG: Crawled (200) <GET https://www.bcg.com/publications/2019/value-creation-in-telecommunications-sector.aspx> (referer: None)\n"
     ]
    },
    {
     "name": "stdout",
     "output_type": "stream",
     "text": [
      "https://www.bcg.com/publications/2019/us-mobility-industry-great-talent-hunt.aspx\n"
     ]
    },
    {
     "name": "stderr",
     "output_type": "stream",
     "text": [
      "2020-03-03 16:14:42 [scrapy.core.engine] DEBUG: Crawled (200) <GET https://www.bcg.com/publications/2019/dividends-digital-marketing-maturity.aspx> (referer: None)\n",
      "2020-03-03 16:14:42 [urllib3.connectionpool] DEBUG: Starting new HTTPS connection (1): www.bcg.com:443\n",
      "2020-03-03 16:14:42 [urllib3.connectionpool] DEBUG: https://www.bcg.com:443 \"GET /publications/2019/value-creation-in-telecommunications-sector.aspx HTTP/1.1\" 200 50729\n",
      "2020-03-03 16:14:42 [urllib3.connectionpool] DEBUG: Starting new HTTPS connection (1): www.bcg.com:443\n",
      "2020-03-03 16:14:42 [urllib3.connectionpool] DEBUG: https://www.bcg.com:443 \"GET /publications/2019/value-creation-in-telecommunications-sector.aspx HTTP/1.1\" 200 50729\n",
      "2020-03-03 16:14:42 [urllib3.connectionpool] DEBUG: Starting new HTTPS connection (1): www.bcg.com:443\n"
     ]
    },
    {
     "name": "stdout",
     "output_type": "stream",
     "text": [
      "https://www.bcg.com/publications/2019/value-creation-in-telecommunications-sector.aspx\n",
      "https://www.bcg.com/publications/2019/dividends-digital-marketing-maturity.aspx\n"
     ]
    },
    {
     "name": "stderr",
     "output_type": "stream",
     "text": [
      "2020-03-03 16:14:42 [urllib3.connectionpool] DEBUG: https://www.bcg.com:443 \"GET /publications/2019/dividends-digital-marketing-maturity.aspx HTTP/1.1\" 200 59194\n",
      "2020-03-03 16:14:42 [urllib3.connectionpool] DEBUG: Starting new HTTPS connection (1): www.bcg.com:443\n",
      "2020-03-03 16:14:42 [urllib3.connectionpool] DEBUG: https://www.bcg.com:443 \"GET /publications/2019/dividends-digital-marketing-maturity.aspx HTTP/1.1\" 200 59194\n",
      "2020-03-03 16:14:42 [scrapy.core.engine] DEBUG: Crawled (200) <GET https://www.bcg.com/publications/2019/cracking-code-digital-m-and-a.aspx> (referer: None)\n",
      "2020-03-03 16:14:42 [urllib3.connectionpool] DEBUG: Starting new HTTPS connection (1): www.bcg.com:443\n",
      "2020-03-03 16:14:42 [urllib3.connectionpool] DEBUG: https://www.bcg.com:443 \"GET /publications/2019/cracking-code-digital-m-and-a.aspx HTTP/1.1\" 200 55900\n",
      "2020-03-03 16:14:42 [urllib3.connectionpool] DEBUG: Starting new HTTPS connection (1): www.bcg.com:443\n",
      "2020-03-03 16:14:42 [urllib3.connectionpool] DEBUG: https://www.bcg.com:443 \"GET /publications/2019/cracking-code-digital-m-and-a.aspx HTTP/1.1\" 200 55900\n"
     ]
    },
    {
     "name": "stdout",
     "output_type": "stream",
     "text": [
      "https://www.bcg.com/publications/2019/cracking-code-digital-m-and-a.aspx\n"
     ]
    },
    {
     "name": "stderr",
     "output_type": "stream",
     "text": [
      "2020-03-03 16:14:43 [scrapy.core.engine] DEBUG: Crawled (200) <GET https://www.bcg.com/publications/2019/resolving-blockchain-paradox-transportation-logistics.aspx> (referer: None)\n",
      "2020-03-03 16:14:43 [urllib3.connectionpool] DEBUG: Starting new HTTPS connection (1): www.bcg.com:443\n",
      "2020-03-03 16:14:43 [urllib3.connectionpool] DEBUG: https://www.bcg.com:443 \"GET /publications/2019/resolving-blockchain-paradox-transportation-logistics.aspx HTTP/1.1\" 200 57818\n",
      "2020-03-03 16:14:43 [urllib3.connectionpool] DEBUG: Starting new HTTPS connection (1): www.bcg.com:443\n",
      "2020-03-03 16:14:43 [urllib3.connectionpool] DEBUG: https://www.bcg.com:443 \"GET /publications/2019/resolving-blockchain-paradox-transportation-logistics.aspx HTTP/1.1\" 200 57818\n"
     ]
    },
    {
     "name": "stdout",
     "output_type": "stream",
     "text": [
      "https://www.bcg.com/publications/2019/resolving-blockchain-paradox-transportation-logistics.aspx\n"
     ]
    },
    {
     "name": "stderr",
     "output_type": "stream",
     "text": [
      "2020-03-03 16:14:43 [scrapy.core.engine] DEBUG: Crawled (200) <GET https://www.bcg.com/publications/2019/why-progressive-pricing-becoming-competitive-necessity.aspx> (referer: None)\n",
      "2020-03-03 16:14:43 [urllib3.connectionpool] DEBUG: Starting new HTTPS connection (1): www.bcg.com:443\n",
      "2020-03-03 16:14:43 [urllib3.connectionpool] DEBUG: https://www.bcg.com:443 \"GET /publications/2019/why-progressive-pricing-becoming-competitive-necessity.aspx HTTP/1.1\" 200 54017\n",
      "2020-03-03 16:14:43 [urllib3.connectionpool] DEBUG: Starting new HTTPS connection (1): www.bcg.com:443\n",
      "2020-03-03 16:14:43 [urllib3.connectionpool] DEBUG: https://www.bcg.com:443 \"GET /publications/2019/why-progressive-pricing-becoming-competitive-necessity.aspx HTTP/1.1\" 200 54017\n"
     ]
    },
    {
     "name": "stdout",
     "output_type": "stream",
     "text": [
      "https://www.bcg.com/publications/2019/why-progressive-pricing-becoming-competitive-necessity.aspx\n"
     ]
    },
    {
     "name": "stderr",
     "output_type": "stream",
     "text": [
      "2020-03-03 16:14:43 [scrapy.core.engine] DEBUG: Crawled (200) <GET https://www.bcg.com/publications/2019/enterprise-applications-cloud-ready-prime-time.aspx> (referer: None)\n",
      "2020-03-03 16:14:43 [urllib3.connectionpool] DEBUG: Starting new HTTPS connection (1): www.bcg.com:443\n",
      "2020-03-03 16:14:44 [urllib3.connectionpool] DEBUG: https://www.bcg.com:443 \"GET /publications/2019/enterprise-applications-cloud-ready-prime-time.aspx HTTP/1.1\" 200 50792\n",
      "2020-03-03 16:14:44 [urllib3.connectionpool] DEBUG: Starting new HTTPS connection (1): www.bcg.com:443\n",
      "2020-03-03 16:14:44 [urllib3.connectionpool] DEBUG: https://www.bcg.com:443 \"GET /publications/2019/enterprise-applications-cloud-ready-prime-time.aspx HTTP/1.1\" 200 50792\n",
      "2020-03-03 16:14:44 [scrapy.core.engine] DEBUG: Crawled (200) <GET https://www.bcg.com/publications/2019/reinventing-life-insurance-agency-distribution-globally.aspx> (referer: None)\n"
     ]
    },
    {
     "name": "stdout",
     "output_type": "stream",
     "text": [
      "https://www.bcg.com/publications/2019/enterprise-applications-cloud-ready-prime-time.aspx\n"
     ]
    },
    {
     "name": "stderr",
     "output_type": "stream",
     "text": [
      "2020-03-03 16:14:44 [scrapy.core.engine] DEBUG: Crawled (200) <GET https://www.bcg.com/publications/2019/get-ready-for-chinese-internet-next-chapter.aspx> (referer: None)\n",
      "2020-03-03 16:14:44 [urllib3.connectionpool] DEBUG: Starting new HTTPS connection (1): www.bcg.com:443\n",
      "2020-03-03 16:14:44 [urllib3.connectionpool] DEBUG: https://www.bcg.com:443 \"GET /publications/2019/reinventing-life-insurance-agency-distribution-globally.aspx HTTP/1.1\" 200 50171\n",
      "2020-03-03 16:14:44 [urllib3.connectionpool] DEBUG: Starting new HTTPS connection (1): www.bcg.com:443\n",
      "2020-03-03 16:14:44 [urllib3.connectionpool] DEBUG: https://www.bcg.com:443 \"GET /publications/2019/reinventing-life-insurance-agency-distribution-globally.aspx HTTP/1.1\" 200 50171\n"
     ]
    },
    {
     "name": "stdout",
     "output_type": "stream",
     "text": [
      "https://www.bcg.com/publications/2019/reinventing-life-insurance-agency-distribution-globally.aspx\n"
     ]
    },
    {
     "name": "stderr",
     "output_type": "stream",
     "text": [
      "2020-03-03 16:14:44 [urllib3.connectionpool] DEBUG: Starting new HTTPS connection (1): www.bcg.com:443\n",
      "2020-03-03 16:14:44 [urllib3.connectionpool] DEBUG: https://www.bcg.com:443 \"GET /publications/2019/get-ready-for-chinese-internet-next-chapter.aspx HTTP/1.1\" 200 54925\n",
      "2020-03-03 16:14:44 [urllib3.connectionpool] DEBUG: Starting new HTTPS connection (1): www.bcg.com:443\n",
      "2020-03-03 16:14:44 [urllib3.connectionpool] DEBUG: https://www.bcg.com:443 \"GET /publications/2019/get-ready-for-chinese-internet-next-chapter.aspx HTTP/1.1\" 200 54925\n"
     ]
    },
    {
     "name": "stdout",
     "output_type": "stream",
     "text": [
      "https://www.bcg.com/publications/2019/get-ready-for-chinese-internet-next-chapter.aspx\n"
     ]
    },
    {
     "name": "stderr",
     "output_type": "stream",
     "text": [
      "2020-03-03 16:14:44 [scrapy.core.engine] DEBUG: Crawled (200) <GET https://www.bcg.com/publications/2019/surviving-disruption-additive-manufacturing.aspx> (referer: None)\n",
      "2020-03-03 16:14:44 [scrapy.core.engine] DEBUG: Crawled (200) <GET https://www.bcg.com/publications/2019/taming-tail-spend.aspx> (referer: None)\n",
      "2020-03-03 16:14:44 [urllib3.connectionpool] DEBUG: Starting new HTTPS connection (1): www.bcg.com:443\n",
      "2020-03-03 16:14:44 [urllib3.connectionpool] DEBUG: https://www.bcg.com:443 \"GET /publications/2019/surviving-disruption-additive-manufacturing.aspx HTTP/1.1\" 200 59712\n",
      "2020-03-03 16:14:44 [urllib3.connectionpool] DEBUG: Starting new HTTPS connection (1): www.bcg.com:443\n",
      "2020-03-03 16:14:45 [urllib3.connectionpool] DEBUG: https://www.bcg.com:443 \"GET /publications/2019/surviving-disruption-additive-manufacturing.aspx HTTP/1.1\" 200 59712\n"
     ]
    },
    {
     "name": "stdout",
     "output_type": "stream",
     "text": [
      "https://www.bcg.com/publications/2019/surviving-disruption-additive-manufacturing.aspx\n"
     ]
    },
    {
     "name": "stderr",
     "output_type": "stream",
     "text": [
      "2020-03-03 16:14:45 [scrapy.core.engine] DEBUG: Crawled (200) <GET https://www.bcg.com/publications/2018/meeting-need-procurement-speed.aspx> (referer: None)\n",
      "2020-03-03 16:14:45 [urllib3.connectionpool] DEBUG: Starting new HTTPS connection (1): www.bcg.com:443\n",
      "2020-03-03 16:14:45 [urllib3.connectionpool] DEBUG: https://www.bcg.com:443 \"GET /publications/2019/taming-tail-spend.aspx HTTP/1.1\" 200 53513\n",
      "2020-03-03 16:14:45 [urllib3.connectionpool] DEBUG: Starting new HTTPS connection (1): www.bcg.com:443\n",
      "2020-03-03 16:14:45 [urllib3.connectionpool] DEBUG: https://www.bcg.com:443 \"GET /publications/2019/taming-tail-spend.aspx HTTP/1.1\" 200 53513\n",
      "2020-03-03 16:14:45 [scrapy.core.engine] DEBUG: Crawled (200) <GET https://www.bcg.com/publications/2018/testing-inspection-certification-go-digital.aspx> (referer: None)\n"
     ]
    },
    {
     "name": "stdout",
     "output_type": "stream",
     "text": [
      "https://www.bcg.com/publications/2019/taming-tail-spend.aspx\n"
     ]
    },
    {
     "name": "stderr",
     "output_type": "stream",
     "text": [
      "2020-03-03 16:14:45 [urllib3.connectionpool] DEBUG: Starting new HTTPS connection (1): www.bcg.com:443\n",
      "2020-03-03 16:14:45 [urllib3.connectionpool] DEBUG: https://www.bcg.com:443 \"GET /publications/2018/meeting-need-procurement-speed.aspx HTTP/1.1\" 200 53472\n",
      "2020-03-03 16:14:45 [urllib3.connectionpool] DEBUG: Starting new HTTPS connection (1): www.bcg.com:443\n",
      "2020-03-03 16:14:45 [urllib3.connectionpool] DEBUG: https://www.bcg.com:443 \"GET /publications/2018/meeting-need-procurement-speed.aspx HTTP/1.1\" 200 None\n"
     ]
    },
    {
     "name": "stdout",
     "output_type": "stream",
     "text": [
      "https://www.bcg.com/publications/2018/meeting-need-procurement-speed.aspx\n"
     ]
    },
    {
     "name": "stderr",
     "output_type": "stream",
     "text": [
      "2020-03-03 16:14:45 [urllib3.connectionpool] DEBUG: Starting new HTTPS connection (1): www.bcg.com:443\n",
      "2020-03-03 16:14:45 [urllib3.connectionpool] DEBUG: https://www.bcg.com:443 \"GET /publications/2018/testing-inspection-certification-go-digital.aspx HTTP/1.1\" 200 51884\n",
      "2020-03-03 16:14:45 [urllib3.connectionpool] DEBUG: Starting new HTTPS connection (1): www.bcg.com:443\n",
      "2020-03-03 16:14:45 [urllib3.connectionpool] DEBUG: https://www.bcg.com:443 \"GET /publications/2018/testing-inspection-certification-go-digital.aspx HTTP/1.1\" 200 51884\n"
     ]
    },
    {
     "name": "stdout",
     "output_type": "stream",
     "text": [
      "https://www.bcg.com/publications/2018/testing-inspection-certification-go-digital.aspx\n"
     ]
    },
    {
     "name": "stderr",
     "output_type": "stream",
     "text": [
      "2020-03-03 16:14:45 [scrapy.core.engine] DEBUG: Crawled (200) <GET https://www.bcg.com/publications/2018/winning-the-20s-leadership-agenda-for-next-decade.aspx> (referer: None)\n",
      "2020-03-03 16:14:45 [scrapy.core.engine] DEBUG: Crawled (200) <GET https://www.bcg.com/publications/2018/trimming-sails-insights-bcg-treasury-benchmarking-survey.aspx> (referer: None)\n",
      "2020-03-03 16:14:45 [urllib3.connectionpool] DEBUG: Starting new HTTPS connection (1): www.bcg.com:443\n",
      "2020-03-03 16:14:45 [urllib3.connectionpool] DEBUG: https://www.bcg.com:443 \"GET /publications/2018/winning-the-20s-leadership-agenda-for-next-decade.aspx HTTP/1.1\" 200 53561\n",
      "2020-03-03 16:14:45 [urllib3.connectionpool] DEBUG: Starting new HTTPS connection (1): www.bcg.com:443\n",
      "2020-03-03 16:14:45 [urllib3.connectionpool] DEBUG: https://www.bcg.com:443 \"GET /publications/2018/winning-the-20s-leadership-agenda-for-next-decade.aspx HTTP/1.1\" 200 53561\n"
     ]
    },
    {
     "name": "stdout",
     "output_type": "stream",
     "text": [
      "https://www.bcg.com/publications/2018/winning-the-20s-leadership-agenda-for-next-decade.aspx\n",
      "https://www.bcg.com/publications/2018/trimming-sails-insights-bcg-treasury-benchmarking-survey.aspx"
     ]
    },
    {
     "name": "stderr",
     "output_type": "stream",
     "text": [
      "2020-03-03 16:14:45 [urllib3.connectionpool] DEBUG: Starting new HTTPS connection (1): www.bcg.com:443\n",
      "2020-03-03 16:14:46 [urllib3.connectionpool] DEBUG: https://www.bcg.com:443 \"GET /publications/2018/trimming-sails-insights-bcg-treasury-benchmarking-survey.aspx HTTP/1.1\" 200 54210\n",
      "2020-03-03 16:14:46 [urllib3.connectionpool] DEBUG: Starting new HTTPS connection (1): www.bcg.com:443\n",
      "2020-03-03 16:14:46 [urllib3.connectionpool] DEBUG: https://www.bcg.com:443 \"GET /publications/2018/trimming-sails-insights-bcg-treasury-benchmarking-survey.aspx HTTP/1.1\" 200 54210\n"
     ]
    },
    {
     "name": "stdout",
     "output_type": "stream",
     "text": [
      "\n"
     ]
    },
    {
     "name": "stderr",
     "output_type": "stream",
     "text": [
      "2020-03-03 16:14:46 [scrapy.core.engine] DEBUG: Crawled (200) <GET https://www.bcg.com/publications/2018/facing-disruption-need-to-reinvent-better-move-fast.aspx> (referer: None)\n",
      "2020-03-03 16:14:46 [urllib3.connectionpool] DEBUG: Starting new HTTPS connection (1): www.bcg.com:443\n",
      "2020-03-03 16:14:46 [urllib3.connectionpool] DEBUG: https://www.bcg.com:443 \"GET /publications/2018/facing-disruption-need-to-reinvent-better-move-fast.aspx HTTP/1.1\" 200 53580\n",
      "2020-03-03 16:14:46 [urllib3.connectionpool] DEBUG: Starting new HTTPS connection (1): www.bcg.com:443\n",
      "2020-03-03 16:14:46 [urllib3.connectionpool] DEBUG: https://www.bcg.com:443 \"GET /publications/2018/facing-disruption-need-to-reinvent-better-move-fast.aspx HTTP/1.1\" 200 53580\n"
     ]
    },
    {
     "name": "stdout",
     "output_type": "stream",
     "text": [
      "https://www.bcg.com/publications/2018/facing-disruption-need-to-reinvent-better-move-fast.aspx\n"
     ]
    },
    {
     "name": "stderr",
     "output_type": "stream",
     "text": [
      "2020-03-03 16:14:46 [scrapy.core.engine] DEBUG: Crawled (200) <GET https://www.bcg.com/publications/2018/future-marketing-here-do-not-blink.aspx> (referer: None)\n",
      "2020-03-03 16:14:46 [urllib3.connectionpool] DEBUG: Starting new HTTPS connection (1): www.bcg.com:443\n",
      "2020-03-03 16:14:46 [urllib3.connectionpool] DEBUG: https://www.bcg.com:443 \"GET /publications/2018/future-marketing-here-do-not-blink.aspx HTTP/1.1\" 200 55974\n",
      "2020-03-03 16:14:46 [urllib3.connectionpool] DEBUG: Starting new HTTPS connection (1): www.bcg.com:443\n"
     ]
    },
    {
     "name": "stdout",
     "output_type": "stream",
     "text": [
      "https://www.bcg.com/publications/2018/future-marketing-here-do-not-blink.aspx\n"
     ]
    },
    {
     "name": "stderr",
     "output_type": "stream",
     "text": [
      "2020-03-03 16:14:46 [urllib3.connectionpool] DEBUG: https://www.bcg.com:443 \"GET /publications/2018/future-marketing-here-do-not-blink.aspx HTTP/1.1\" 200 55974\n",
      "2020-03-03 16:14:46 [scrapy.core.engine] DEBUG: Crawled (200) <GET https://www.bcg.com/publications/2018/what-do-corporate-banking-customers-really-want.aspx> (referer: None)\n",
      "2020-03-03 16:14:46 [scrapy.core.engine] DEBUG: Crawled (200) <GET https://www.bcg.com/publications/2018/next-decade-quantum-computing-how-play.aspx> (referer: None)\n",
      "2020-03-03 16:14:46 [urllib3.connectionpool] DEBUG: Starting new HTTPS connection (1): www.bcg.com:443\n",
      "2020-03-03 16:14:47 [urllib3.connectionpool] DEBUG: https://www.bcg.com:443 \"GET /publications/2018/what-do-corporate-banking-customers-really-want.aspx HTTP/1.1\" 200 53412\n",
      "2020-03-03 16:14:47 [urllib3.connectionpool] DEBUG: Starting new HTTPS connection (1): www.bcg.com:443\n",
      "2020-03-03 16:14:47 [urllib3.connectionpool] DEBUG: https://www.bcg.com:443 \"GET /publications/2018/what-do-corporate-banking-customers-really-want.aspx HTTP/1.1\" 200 53412\n"
     ]
    },
    {
     "name": "stdout",
     "output_type": "stream",
     "text": [
      "https://www.bcg.com/publications/2018/what-do-corporate-banking-customers-really-want.aspx\n",
      "https://www.bcg.com/publications/2018/next-decade-quantum-computing-how-play.aspx\n"
     ]
    },
    {
     "name": "stderr",
     "output_type": "stream",
     "text": [
      "2020-03-03 16:14:47 [urllib3.connectionpool] DEBUG: Starting new HTTPS connection (1): www.bcg.com:443\n",
      "2020-03-03 16:14:47 [urllib3.connectionpool] DEBUG: https://www.bcg.com:443 \"GET /publications/2018/next-decade-quantum-computing-how-play.aspx HTTP/1.1\" 200 67946\n",
      "2020-03-03 16:14:47 [urllib3.connectionpool] DEBUG: Starting new HTTPS connection (1): www.bcg.com:443\n",
      "2020-03-03 16:14:47 [urllib3.connectionpool] DEBUG: https://www.bcg.com:443 \"GET /publications/2018/next-decade-quantum-computing-how-play.aspx HTTP/1.1\" 200 67946\n",
      "2020-03-03 16:14:47 [scrapy.core.engine] DEBUG: Crawled (200) <GET https://www.bcg.com/publications/2018/infographic-myth-vs-reality-artificial-intelligence-ai.aspx> (referer: None)\n",
      "2020-03-03 16:14:47 [scrapy.core.engine] DEBUG: Crawled (200) <GET https://www.bcg.com/perspectives/237016> (referer: None)\n",
      "2020-03-03 16:14:47 [urllib3.connectionpool] DEBUG: Starting new HTTPS connection (1): www.bcg.com:443\n",
      "2020-03-03 16:14:47 [urllib3.connectionpool] DEBUG: https://www.bcg.com:443 \"GET /publications/2018/infographic-myth-vs-reality-artificial-intelligence-ai.aspx HTTP/1.1\" 200 44874\n",
      "2020-03-03 16:14:47 [urllib3.connectionpool] DEBUG: Starting new HTTPS connection (1): www.bcg.com:443\n",
      "2020-03-03 16:14:47 [urllib3.connectionpool] DEBUG: https://www.bcg.com:443 \"GET /publications/2018/infographic-myth-vs-reality-artificial-intelligence-ai.aspx HTTP/1.1\" 200 44874\n",
      "2020-03-03 16:14:47 [scrapy.core.engine] DEBUG: Crawled (200) <GET https://www.bcg.com/publications/2018/artificial-intelligence-threat-cybersecurity-solution.aspx> (referer: None)\n"
     ]
    },
    {
     "name": "stdout",
     "output_type": "stream",
     "text": [
      "https://www.bcg.com/publications/2018/infographic-myth-vs-reality-artificial-intelligence-ai.aspx\n"
     ]
    },
    {
     "name": "stderr",
     "output_type": "stream",
     "text": [
      "2020-03-03 16:14:47 [scrapy.core.engine] DEBUG: Crawled (200) <GET https://www.bcg.com/publications/2018/feeding-algorithm-restaurants-use-data-capture-competitive-advantage.aspx> (referer: None)\n",
      "2020-03-03 16:14:47 [urllib3.connectionpool] DEBUG: Starting new HTTPS connection (1): www.bcg.com:443\n",
      "2020-03-03 16:14:47 [urllib3.connectionpool] DEBUG: https://www.bcg.com:443 \"GET /perspectives/237016 HTTP/1.1\" 200 11223\n",
      "2020-03-03 16:14:47 [urllib3.connectionpool] DEBUG: Starting new HTTPS connection (1): www.bcg.com:443\n",
      "2020-03-03 16:14:47 [urllib3.connectionpool] DEBUG: https://www.bcg.com:443 \"GET /perspectives/237016 HTTP/1.1\" 200 11223\n",
      "2020-03-03 16:14:47 [scrapy.core.scraper] ERROR: Spider error processing <GET https://www.bcg.com/perspectives/237016> (referer: None)\n",
      "Traceback (most recent call last):\n",
      "  File \"C:\\programs\\Continuum\\anaconda3\\lib\\site-packages\\twisted\\internet\\defer.py\", line 654, in _runCallbacks\n",
      "    current.result = callback(current.result, *args, **kw)\n",
      "  File \"<ipython-input-11-426921d2562a>\", line 37, in parse\n",
      "    page_date = re.findall(date_regex, script_text)[0]\n",
      "IndexError: list index out of range\n",
      "2020-03-03 16:14:47 [urllib3.connectionpool] DEBUG: Starting new HTTPS connection (1): www.bcg.com:443\n"
     ]
    },
    {
     "name": "stdout",
     "output_type": "stream",
     "text": [
      "https://www.bcg.com/perspectives/237016\n",
      "https://www.bcg.com/publications/2018/artificial-intelligence-threat-cybersecurity-solution.aspx\n"
     ]
    },
    {
     "name": "stderr",
     "output_type": "stream",
     "text": [
      "2020-03-03 16:14:47 [urllib3.connectionpool] DEBUG: https://www.bcg.com:443 \"GET /publications/2018/artificial-intelligence-threat-cybersecurity-solution.aspx HTTP/1.1\" 200 54446\n",
      "2020-03-03 16:14:48 [urllib3.connectionpool] DEBUG: Starting new HTTPS connection (1): www.bcg.com:443\n",
      "2020-03-03 16:14:48 [urllib3.connectionpool] DEBUG: https://www.bcg.com:443 \"GET /publications/2018/artificial-intelligence-threat-cybersecurity-solution.aspx HTTP/1.1\" 200 54446\n",
      "2020-03-03 16:14:48 [urllib3.connectionpool] DEBUG: Starting new HTTPS connection (1): www.bcg.com:443\n",
      "2020-03-03 16:14:48 [urllib3.connectionpool] DEBUG: https://www.bcg.com:443 \"GET /publications/2018/feeding-algorithm-restaurants-use-data-capture-competitive-advantage.aspx HTTP/1.1\" 200 60288\n",
      "2020-03-03 16:14:48 [urllib3.connectionpool] DEBUG: Starting new HTTPS connection (1): www.bcg.com:443\n",
      "2020-03-03 16:14:48 [urllib3.connectionpool] DEBUG: https://www.bcg.com:443 \"GET /publications/2018/feeding-algorithm-restaurants-use-data-capture-competitive-advantage.aspx HTTP/1.1\" 200 60288\n"
     ]
    },
    {
     "name": "stdout",
     "output_type": "stream",
     "text": [
      "https://www.bcg.com/publications/2018/feeding-algorithm-restaurants-use-data-capture-competitive-advantage.aspx\n"
     ]
    },
    {
     "name": "stderr",
     "output_type": "stream",
     "text": [
      "2020-03-03 16:14:48 [scrapy.core.engine] DEBUG: Crawled (200) <GET https://www.bcg.com/publications/2018/think-big-start-small-scale-fast-ai-artificial-intelligence-success-recipe-nordic.aspx> (referer: None)\n",
      "2020-03-03 16:14:48 [scrapy.core.engine] DEBUG: Crawled (200) <GET https://www.bcg.com/publications/2018/powering-up-smart-machines-in-media.aspx> (referer: None)\n",
      "2020-03-03 16:14:48 [urllib3.connectionpool] DEBUG: Starting new HTTPS connection (1): www.bcg.com:443\n",
      "2020-03-03 16:14:48 [urllib3.connectionpool] DEBUG: https://www.bcg.com:443 \"GET /publications/2018/think-big-start-small-scale-fast-ai-artificial-intelligence-success-recipe-nordic.aspx HTTP/1.1\" 200 62028\n",
      "2020-03-03 16:14:48 [urllib3.connectionpool] DEBUG: Starting new HTTPS connection (1): www.bcg.com:443\n",
      "2020-03-03 16:14:48 [urllib3.connectionpool] DEBUG: https://www.bcg.com:443 \"GET /publications/2018/think-big-start-small-scale-fast-ai-artificial-intelligence-success-recipe-nordic.aspx HTTP/1.1\" 200 62028\n"
     ]
    },
    {
     "name": "stdout",
     "output_type": "stream",
     "text": [
      "https://www.bcg.com/publications/2018/think-big-start-small-scale-fast-ai-artificial-intelligence-success-recipe-nordic.aspx\n"
     ]
    },
    {
     "name": "stderr",
     "output_type": "stream",
     "text": [
      "2020-03-03 16:14:48 [scrapy.core.engine] DEBUG: Crawled (200) <GET https://www.bcg.com/publications/2018/how-learning-contracts-can-drive-industrious-revolution.aspx> (referer: None)\n",
      "2020-03-03 16:14:48 [scrapy.core.engine] DEBUG: Crawled (200) <GET https://www.bcg.com/publications/2018/building-new-data-engines-insurers.aspx> (referer: None)\n",
      "2020-03-03 16:14:48 [urllib3.connectionpool] DEBUG: Starting new HTTPS connection (1): www.bcg.com:443\n",
      "2020-03-03 16:14:48 [urllib3.connectionpool] DEBUG: https://www.bcg.com:443 \"GET /publications/2018/powering-up-smart-machines-in-media.aspx HTTP/1.1\" 200 54315\n",
      "2020-03-03 16:14:48 [urllib3.connectionpool] DEBUG: Starting new HTTPS connection (1): www.bcg.com:443\n",
      "2020-03-03 16:14:48 [urllib3.connectionpool] DEBUG: https://www.bcg.com:443 \"GET /publications/2018/powering-up-smart-machines-in-media.aspx HTTP/1.1\" 200 54315\n"
     ]
    },
    {
     "name": "stdout",
     "output_type": "stream",
     "text": [
      "https://www.bcg.com/publications/2018/powering-up-smart-machines-in-media.aspx\n",
      "https://www.bcg.com/publications/2018/how-learning-contracts-can-drive-industrious-revolution.aspx\n"
     ]
    },
    {
     "name": "stderr",
     "output_type": "stream",
     "text": [
      "2020-03-03 16:14:48 [urllib3.connectionpool] DEBUG: Starting new HTTPS connection (1): www.bcg.com:443\n",
      "2020-03-03 16:14:48 [urllib3.connectionpool] DEBUG: https://www.bcg.com:443 \"GET /publications/2018/how-learning-contracts-can-drive-industrious-revolution.aspx HTTP/1.1\" 200 57805\n",
      "2020-03-03 16:14:48 [urllib3.connectionpool] DEBUG: Starting new HTTPS connection (1): www.bcg.com:443\n",
      "2020-03-03 16:14:49 [urllib3.connectionpool] DEBUG: https://www.bcg.com:443 \"GET /publications/2018/how-learning-contracts-can-drive-industrious-revolution.aspx HTTP/1.1\" 200 57805\n"
     ]
    },
    {
     "name": "stdout",
     "output_type": "stream",
     "text": [
      "https://www.bcg.com/publications/2018/building-new-data-engines-insurers.aspx\n"
     ]
    },
    {
     "name": "stderr",
     "output_type": "stream",
     "text": [
      "2020-03-03 16:14:49 [urllib3.connectionpool] DEBUG: Starting new HTTPS connection (1): www.bcg.com:443\n",
      "2020-03-03 16:14:49 [urllib3.connectionpool] DEBUG: https://www.bcg.com:443 \"GET /publications/2018/building-new-data-engines-insurers.aspx HTTP/1.1\" 200 52934\n",
      "2020-03-03 16:14:49 [urllib3.connectionpool] DEBUG: Starting new HTTPS connection (1): www.bcg.com:443\n",
      "2020-03-03 16:14:49 [urllib3.connectionpool] DEBUG: https://www.bcg.com:443 \"GET /publications/2018/building-new-data-engines-insurers.aspx HTTP/1.1\" 200 52934\n",
      "2020-03-03 16:14:50 [scrapy.core.engine] DEBUG: Crawled (200) <GET https://www.bcg.com/publications/2018/why-cement-producers-need-embrace-industry-4.aspx> (referer: None)\n",
      "2020-03-03 16:14:50 [urllib3.connectionpool] DEBUG: Starting new HTTPS connection (1): www.bcg.com:443\n",
      "2020-03-03 16:14:50 [urllib3.connectionpool] DEBUG: https://www.bcg.com:443 \"GET /publications/2018/why-cement-producers-need-embrace-industry-4.aspx HTTP/1.1\" 200 52356\n",
      "2020-03-03 16:14:50 [urllib3.connectionpool] DEBUG: Starting new HTTPS connection (1): www.bcg.com:443\n",
      "2020-03-03 16:14:50 [urllib3.connectionpool] DEBUG: https://www.bcg.com:443 \"GET /publications/2018/why-cement-producers-need-embrace-industry-4.aspx HTTP/1.1\" 200 52356\n"
     ]
    },
    {
     "name": "stdout",
     "output_type": "stream",
     "text": [
      "https://www.bcg.com/publications/2018/why-cement-producers-need-embrace-industry-4.aspx\n"
     ]
    },
    {
     "name": "stderr",
     "output_type": "stream",
     "text": [
      "2020-03-03 16:14:50 [scrapy.core.engine] DEBUG: Crawled (200) <GET https://www.bcg.com/publications/2018/using-agile-help-fix-big-data-big-problem.aspx> (referer: None)\n",
      "2020-03-03 16:14:50 [urllib3.connectionpool] DEBUG: Starting new HTTPS connection (1): www.bcg.com:443\n",
      "2020-03-03 16:14:50 [urllib3.connectionpool] DEBUG: https://www.bcg.com:443 \"GET /publications/2018/using-agile-help-fix-big-data-big-problem.aspx HTTP/1.1\" 200 52097\n",
      "2020-03-03 16:14:50 [urllib3.connectionpool] DEBUG: Starting new HTTPS connection (1): www.bcg.com:443\n",
      "2020-03-03 16:14:51 [urllib3.connectionpool] DEBUG: https://www.bcg.com:443 \"GET /publications/2018/using-agile-help-fix-big-data-big-problem.aspx HTTP/1.1\" 200 52097\n"
     ]
    },
    {
     "name": "stdout",
     "output_type": "stream",
     "text": [
      "https://www.bcg.com/publications/2018/using-agile-help-fix-big-data-big-problem.aspx\n"
     ]
    },
    {
     "name": "stderr",
     "output_type": "stream",
     "text": [
      "2020-03-03 16:14:51 [scrapy.core.engine] DEBUG: Crawled (200) <GET https://www.bcg.com/publications/2018/interview-tassilo-festetics-anheuser-busch-inbev-artificial-intelligence-is-everywhere.aspx> (referer: None)\n",
      "2020-03-03 16:14:51 [urllib3.connectionpool] DEBUG: Starting new HTTPS connection (1): www.bcg.com:443\n",
      "2020-03-03 16:14:51 [urllib3.connectionpool] DEBUG: https://www.bcg.com:443 \"GET /publications/2018/interview-tassilo-festetics-anheuser-busch-inbev-artificial-intelligence-is-everywhere.aspx HTTP/1.1\" 200 48323\n",
      "2020-03-03 16:14:51 [urllib3.connectionpool] DEBUG: Starting new HTTPS connection (1): www.bcg.com:443\n",
      "2020-03-03 16:14:51 [urllib3.connectionpool] DEBUG: https://www.bcg.com:443 \"GET /publications/2018/interview-tassilo-festetics-anheuser-busch-inbev-artificial-intelligence-is-everywhere.aspx HTTP/1.1\" 200 48323\n"
     ]
    },
    {
     "name": "stdout",
     "output_type": "stream",
     "text": [
      "https://www.bcg.com/publications/2018/interview-tassilo-festetics-anheuser-busch-inbev-artificial-intelligence-is-everywhere.aspx\n"
     ]
    },
    {
     "name": "stderr",
     "output_type": "stream",
     "text": [
      "2020-03-03 16:14:53 [scrapy.core.engine] DEBUG: Crawled (200) <GET https://www.bcg.com/publications/2018/disruption-opportunity-eight-takeaways-north-american-strategy-leadership-summit.aspx> (referer: None)\n",
      "2020-03-03 16:14:53 [urllib3.connectionpool] DEBUG: Starting new HTTPS connection (1): www.bcg.com:443\n",
      "2020-03-03 16:14:53 [urllib3.connectionpool] DEBUG: https://www.bcg.com:443 \"GET /publications/2018/disruption-opportunity-eight-takeaways-north-american-strategy-leadership-summit.aspx HTTP/1.1\" 200 48195\n",
      "2020-03-03 16:14:53 [urllib3.connectionpool] DEBUG: Starting new HTTPS connection (1): www.bcg.com:443\n",
      "2020-03-03 16:14:53 [urllib3.connectionpool] DEBUG: https://www.bcg.com:443 \"GET /publications/2018/disruption-opportunity-eight-takeaways-north-american-strategy-leadership-summit.aspx HTTP/1.1\" 200 48195\n"
     ]
    },
    {
     "name": "stdout",
     "output_type": "stream",
     "text": [
      "https://www.bcg.com/publications/2018/disruption-opportunity-eight-takeaways-north-american-strategy-leadership-summit.aspx\n"
     ]
    },
    {
     "name": "stderr",
     "output_type": "stream",
     "text": [
      "2020-03-03 16:14:56 [scrapy.core.engine] DEBUG: Crawled (200) <GET https://www.bcg.com/publications/2019/six-simple-steps-pave-way-to-cloud.aspx> (referer: None)\n",
      "2020-03-03 16:14:56 [urllib3.connectionpool] DEBUG: Starting new HTTPS connection (1): www.bcg.com:443\n",
      "2020-03-03 16:14:56 [urllib3.connectionpool] DEBUG: https://www.bcg.com:443 \"GET /publications/2019/six-simple-steps-pave-way-to-cloud.aspx HTTP/1.1\" 200 54123\n",
      "2020-03-03 16:14:56 [urllib3.connectionpool] DEBUG: Starting new HTTPS connection (1): www.bcg.com:443\n",
      "2020-03-03 16:14:56 [urllib3.connectionpool] DEBUG: https://www.bcg.com:443 \"GET /publications/2019/six-simple-steps-pave-way-to-cloud.aspx HTTP/1.1\" 200 54123\n",
      "2020-03-03 16:14:57 [scrapy.core.engine] DEBUG: Crawled (200) <GET https://www.bcg.com/publications/2018/rewiring-decision-making-insurance-data-science.aspx> (referer: None)\n"
     ]
    },
    {
     "name": "stdout",
     "output_type": "stream",
     "text": [
      "https://www.bcg.com/publications/2019/six-simple-steps-pave-way-to-cloud.aspx\n"
     ]
    },
    {
     "name": "stderr",
     "output_type": "stream",
     "text": [
      "2020-03-03 16:14:57 [urllib3.connectionpool] DEBUG: Starting new HTTPS connection (1): www.bcg.com:443\n",
      "2020-03-03 16:14:57 [urllib3.connectionpool] DEBUG: https://www.bcg.com:443 \"GET /publications/2018/rewiring-decision-making-insurance-data-science.aspx HTTP/1.1\" 200 53050\n",
      "2020-03-03 16:14:57 [urllib3.connectionpool] DEBUG: Starting new HTTPS connection (1): www.bcg.com:443\n",
      "2020-03-03 16:14:57 [urllib3.connectionpool] DEBUG: https://www.bcg.com:443 \"GET /publications/2018/rewiring-decision-making-insurance-data-science.aspx HTTP/1.1\" 200 53050\n"
     ]
    },
    {
     "name": "stdout",
     "output_type": "stream",
     "text": [
      "https://www.bcg.com/publications/2018/rewiring-decision-making-insurance-data-science.aspx\n"
     ]
    },
    {
     "name": "stderr",
     "output_type": "stream",
     "text": [
      "2020-03-03 16:14:57 [scrapy.core.engine] DEBUG: Crawled (200) <GET https://www.bcg.com/publications/2018/building-new-global-enterprise.aspx> (referer: None)\n",
      "2020-03-03 16:14:57 [urllib3.connectionpool] DEBUG: Starting new HTTPS connection (1): www.bcg.com:443\n",
      "2020-03-03 16:14:57 [urllib3.connectionpool] DEBUG: https://www.bcg.com:443 \"GET /publications/2018/building-new-global-enterprise.aspx HTTP/1.1\" 200 59186\n",
      "2020-03-03 16:14:57 [urllib3.connectionpool] DEBUG: Starting new HTTPS connection (1): www.bcg.com:443\n",
      "2020-03-03 16:14:57 [urllib3.connectionpool] DEBUG: https://www.bcg.com:443 \"GET /publications/2018/building-new-global-enterprise.aspx HTTP/1.1\" 200 59186\n"
     ]
    },
    {
     "name": "stdout",
     "output_type": "stream",
     "text": [
      "https://www.bcg.com/publications/2018/building-new-global-enterprise.aspx\n"
     ]
    },
    {
     "name": "stderr",
     "output_type": "stream",
     "text": [
      "2020-03-03 16:14:59 [scrapy.core.engine] DEBUG: Crawled (200) <GET https://www.bcg.com/publications/2018/takes-more-than-technology-to-be-like-tech-company.aspx> (referer: None)\n",
      "2020-03-03 16:15:00 [urllib3.connectionpool] DEBUG: Starting new HTTPS connection (1): www.bcg.com:443\n",
      "2020-03-03 16:15:00 [urllib3.connectionpool] DEBUG: https://www.bcg.com:443 \"GET /publications/2018/takes-more-than-technology-to-be-like-tech-company.aspx HTTP/1.1\" 200 52937\n",
      "2020-03-03 16:15:00 [urllib3.connectionpool] DEBUG: Starting new HTTPS connection (1): www.bcg.com:443\n",
      "2020-03-03 16:15:00 [urllib3.connectionpool] DEBUG: https://www.bcg.com:443 \"GET /publications/2018/takes-more-than-technology-to-be-like-tech-company.aspx HTTP/1.1\" 200 52937\n"
     ]
    },
    {
     "name": "stdout",
     "output_type": "stream",
     "text": [
      "https://www.bcg.com/publications/2018/takes-more-than-technology-to-be-like-tech-company.aspx\n"
     ]
    },
    {
     "name": "stderr",
     "output_type": "stream",
     "text": [
      "2020-03-03 16:15:00 [scrapy.core.engine] DEBUG: Crawled (200) <GET https://www.bcg.com/publications/2018/tebit-executive-report-telco-digital-transformation-made-to-measure.aspx> (referer: None)\n",
      "2020-03-03 16:15:00 [urllib3.connectionpool] DEBUG: Starting new HTTPS connection (1): www.bcg.com:443\n"
     ]
    },
    {
     "name": "stdout",
     "output_type": "stream",
     "text": [
      "https://www.bcg.com/publications/2018/tebit-executive-report-telco-digital-transformation-made-to-measure.aspx\n"
     ]
    },
    {
     "name": "stderr",
     "output_type": "stream",
     "text": [
      "2020-03-03 16:15:00 [urllib3.connectionpool] DEBUG: https://www.bcg.com:443 \"GET /publications/2018/tebit-executive-report-telco-digital-transformation-made-to-measure.aspx HTTP/1.1\" 200 None\n",
      "2020-03-03 16:15:00 [urllib3.connectionpool] DEBUG: Starting new HTTPS connection (1): www.bcg.com:443\n",
      "2020-03-03 16:15:01 [urllib3.connectionpool] DEBUG: https://www.bcg.com:443 \"GET /publications/2018/tebit-executive-report-telco-digital-transformation-made-to-measure.aspx HTTP/1.1\" 200 None\n",
      "2020-03-03 16:15:01 [scrapy.core.engine] DEBUG: Crawled (200) <GET https://www.bcg.com/publications/2018/global-landscape-of-corporate-vitality.aspx> (referer: None)\n",
      "2020-03-03 16:15:01 [scrapy.core.engine] DEBUG: Crawled (200) <GET https://www.bcg.com/publications/2018/growing-on-data-new-go-to-market-reality-agriculture.aspx> (referer: None)\n",
      "2020-03-03 16:15:01 [urllib3.connectionpool] DEBUG: Starting new HTTPS connection (1): www.bcg.com:443\n",
      "2020-03-03 16:15:01 [urllib3.connectionpool] DEBUG: https://www.bcg.com:443 \"GET /publications/2018/global-landscape-of-corporate-vitality.aspx HTTP/1.1\" 200 57833\n",
      "2020-03-03 16:15:01 [urllib3.connectionpool] DEBUG: Starting new HTTPS connection (1): www.bcg.com:443\n",
      "2020-03-03 16:15:01 [urllib3.connectionpool] DEBUG: https://www.bcg.com:443 \"GET /publications/2018/global-landscape-of-corporate-vitality.aspx HTTP/1.1\" 200 None\n"
     ]
    },
    {
     "name": "stdout",
     "output_type": "stream",
     "text": [
      "https://www.bcg.com/publications/2018/global-landscape-of-corporate-vitality.aspx\n"
     ]
    },
    {
     "name": "stderr",
     "output_type": "stream",
     "text": [
      "2020-03-03 16:15:01 [urllib3.connectionpool] DEBUG: Starting new HTTPS connection (1): www.bcg.com:443\n",
      "2020-03-03 16:15:01 [urllib3.connectionpool] DEBUG: https://www.bcg.com:443 \"GET /publications/2018/growing-on-data-new-go-to-market-reality-agriculture.aspx HTTP/1.1\" 200 52511\n",
      "2020-03-03 16:15:01 [urllib3.connectionpool] DEBUG: Starting new HTTPS connection (1): www.bcg.com:443\n",
      "2020-03-03 16:15:02 [urllib3.connectionpool] DEBUG: https://www.bcg.com:443 \"GET /publications/2018/growing-on-data-new-go-to-market-reality-agriculture.aspx HTTP/1.1\" 200 52511\n"
     ]
    },
    {
     "name": "stdout",
     "output_type": "stream",
     "text": [
      "https://www.bcg.com/publications/2018/growing-on-data-new-go-to-market-reality-agriculture.aspx\n"
     ]
    },
    {
     "name": "stderr",
     "output_type": "stream",
     "text": [
      "2020-03-03 16:15:02 [scrapy.core.engine] DEBUG: Crawled (200) <GET https://www.bcg.com/publications/2018/unlocking-growth-cpg-ai-advanced-analytics.aspx> (referer: None)\n",
      "2020-03-03 16:15:02 [scrapy.extensions.logstats] INFO: Crawled 142 pages (at 142 pages/min), scraped 0 items (at 0 items/min)\n",
      "2020-03-03 16:15:02 [urllib3.connectionpool] DEBUG: Starting new HTTPS connection (1): www.bcg.com:443\n",
      "2020-03-03 16:15:02 [urllib3.connectionpool] DEBUG: https://www.bcg.com:443 \"GET /publications/2018/unlocking-growth-cpg-ai-advanced-analytics.aspx HTTP/1.1\" 200 53113\n",
      "2020-03-03 16:15:02 [urllib3.connectionpool] DEBUG: Starting new HTTPS connection (1): www.bcg.com:443\n",
      "2020-03-03 16:15:02 [urllib3.connectionpool] DEBUG: https://www.bcg.com:443 \"GET /publications/2018/unlocking-growth-cpg-ai-advanced-analytics.aspx HTTP/1.1\" 200 53113\n",
      "2020-03-03 16:15:02 [scrapy.core.engine] DEBUG: Crawled (200) <GET https://www.bcg.com/publications/2018/guide-revolution-smart-buildings.aspx> (referer: None)\n"
     ]
    },
    {
     "name": "stdout",
     "output_type": "stream",
     "text": [
      "https://www.bcg.com/publications/2018/unlocking-growth-cpg-ai-advanced-analytics.aspx\n"
     ]
    },
    {
     "name": "stderr",
     "output_type": "stream",
     "text": [
      "2020-03-03 16:15:02 [urllib3.connectionpool] DEBUG: Starting new HTTPS connection (1): www.bcg.com:443\n",
      "2020-03-03 16:15:02 [urllib3.connectionpool] DEBUG: https://www.bcg.com:443 \"GET /publications/2018/guide-revolution-smart-buildings.aspx HTTP/1.1\" 200 52428\n",
      "2020-03-03 16:15:02 [urllib3.connectionpool] DEBUG: Starting new HTTPS connection (1): www.bcg.com:443\n"
     ]
    },
    {
     "name": "stdout",
     "output_type": "stream",
     "text": [
      "https://www.bcg.com/publications/2018/guide-revolution-smart-buildings.aspx\n"
     ]
    },
    {
     "name": "stderr",
     "output_type": "stream",
     "text": [
      "2020-03-03 16:15:02 [urllib3.connectionpool] DEBUG: https://www.bcg.com:443 \"GET /publications/2018/guide-revolution-smart-buildings.aspx HTTP/1.1\" 200 52428\n",
      "2020-03-03 16:15:02 [scrapy.core.engine] DEBUG: Crawled (200) <GET https://www.bcg.com/publications/2018/local-dynamos-emerging-market-companies-up-their-game.aspx> (referer: None)\n",
      "2020-03-03 16:15:02 [urllib3.connectionpool] DEBUG: Starting new HTTPS connection (1): www.bcg.com:443\n",
      "2020-03-03 16:15:02 [urllib3.connectionpool] DEBUG: https://www.bcg.com:443 \"GET /publications/2018/local-dynamos-emerging-market-companies-up-their-game.aspx HTTP/1.1\" 200 55125\n",
      "2020-03-03 16:15:02 [urllib3.connectionpool] DEBUG: Starting new HTTPS connection (1): www.bcg.com:443\n"
     ]
    },
    {
     "name": "stdout",
     "output_type": "stream",
     "text": [
      "https://www.bcg.com/publications/2018/local-dynamos-emerging-market-companies-up-their-game.aspx\n"
     ]
    },
    {
     "name": "stderr",
     "output_type": "stream",
     "text": [
      "2020-03-03 16:15:03 [urllib3.connectionpool] DEBUG: https://www.bcg.com:443 \"GET /publications/2018/local-dynamos-emerging-market-companies-up-their-game.aspx HTTP/1.1\" 200 None\n",
      "2020-03-03 16:15:04 [scrapy.core.engine] DEBUG: Crawled (200) <GET https://www.bcg.com/publications/2018/jump-starting-digital-procurement-journey.aspx> (referer: None)\n",
      "2020-03-03 16:15:04 [urllib3.connectionpool] DEBUG: Starting new HTTPS connection (1): www.bcg.com:443\n",
      "2020-03-03 16:15:04 [urllib3.connectionpool] DEBUG: https://www.bcg.com:443 \"GET /publications/2018/jump-starting-digital-procurement-journey.aspx HTTP/1.1\" 200 None\n",
      "2020-03-03 16:15:04 [urllib3.connectionpool] DEBUG: Starting new HTTPS connection (1): www.bcg.com:443\n"
     ]
    },
    {
     "name": "stdout",
     "output_type": "stream",
     "text": [
      "https://www.bcg.com/publications/2018/jump-starting-digital-procurement-journey.aspx\n"
     ]
    },
    {
     "name": "stderr",
     "output_type": "stream",
     "text": [
      "2020-03-03 16:15:05 [urllib3.connectionpool] DEBUG: https://www.bcg.com:443 \"GET /publications/2018/jump-starting-digital-procurement-journey.aspx HTTP/1.1\" 200 58931\n",
      "2020-03-03 16:15:05 [scrapy.core.engine] DEBUG: Crawled (200) <GET https://www.bcg.com/industries/insurance/digital-transformation-insurance.aspx> (referer: None)\n",
      "2020-03-03 16:15:05 [urllib3.connectionpool] DEBUG: Starting new HTTPS connection (1): www.bcg.com:443\n",
      "2020-03-03 16:15:05 [urllib3.connectionpool] DEBUG: https://www.bcg.com:443 \"GET /industries/insurance/digital-transformation-insurance.aspx HTTP/1.1\" 200 None\n"
     ]
    },
    {
     "name": "stdout",
     "output_type": "stream",
     "text": [
      "https://www.bcg.com/industries/insurance/digital-transformation-insurance.aspx\n"
     ]
    },
    {
     "name": "stderr",
     "output_type": "stream",
     "text": [
      "2020-03-03 16:15:05 [urllib3.connectionpool] DEBUG: Starting new HTTPS connection (1): www.bcg.com:443\n",
      "2020-03-03 16:15:05 [urllib3.connectionpool] DEBUG: https://www.bcg.com:443 \"GET /industries/insurance/digital-transformation-insurance.aspx HTTP/1.1\" 200 None\n",
      "2020-03-03 16:15:05 [scrapy.core.engine] DEBUG: Crawled (200) <GET https://www.bcg.com/publications/2018/boosting-health-care-payer-performance-advanced-analytics.aspx> (referer: None)\n",
      "2020-03-03 16:15:05 [urllib3.connectionpool] DEBUG: Starting new HTTPS connection (1): www.bcg.com:443\n"
     ]
    },
    {
     "name": "stdout",
     "output_type": "stream",
     "text": [
      "https://www.bcg.com/publications/2018/boosting-health-care-payer-performance-advanced-analytics.aspx\n"
     ]
    },
    {
     "name": "stderr",
     "output_type": "stream",
     "text": [
      "2020-03-03 16:15:05 [urllib3.connectionpool] DEBUG: https://www.bcg.com:443 \"GET /publications/2018/boosting-health-care-payer-performance-advanced-analytics.aspx HTTP/1.1\" 200 None\n",
      "2020-03-03 16:15:05 [urllib3.connectionpool] DEBUG: Starting new HTTPS connection (1): www.bcg.com:443\n",
      "2020-03-03 16:15:05 [urllib3.connectionpool] DEBUG: https://www.bcg.com:443 \"GET /publications/2018/boosting-health-care-payer-performance-advanced-analytics.aspx HTTP/1.1\" 200 52322\n",
      "2020-03-03 16:15:05 [scrapy.core.engine] DEBUG: Crawled (200) <GET https://www.bcg.com/publications/2018/mapping-smart-home-market.aspx> (referer: None)\n",
      "2020-03-03 16:15:06 [urllib3.connectionpool] DEBUG: Starting new HTTPS connection (1): www.bcg.com:443\n",
      "2020-03-03 16:15:06 [urllib3.connectionpool] DEBUG: https://www.bcg.com:443 \"GET /publications/2018/mapping-smart-home-market.aspx HTTP/1.1\" 200 52802\n",
      "2020-03-03 16:15:06 [urllib3.connectionpool] DEBUG: Starting new HTTPS connection (1): www.bcg.com:443\n"
     ]
    },
    {
     "name": "stdout",
     "output_type": "stream",
     "text": [
      "https://www.bcg.com/publications/2018/mapping-smart-home-market.aspx\n"
     ]
    },
    {
     "name": "stderr",
     "output_type": "stream",
     "text": [
      "2020-03-03 16:15:06 [urllib3.connectionpool] DEBUG: https://www.bcg.com:443 \"GET /publications/2018/mapping-smart-home-market.aspx HTTP/1.1\" 200 52802\n",
      "2020-03-03 16:15:07 [scrapy.core.engine] DEBUG: Crawled (200) <GET https://www.bcg.com/publications/2018/transforming-value-chains-in-process-industries-with-digital-and-ai.aspx> (referer: None)\n",
      "2020-03-03 16:15:08 [urllib3.connectionpool] DEBUG: Starting new HTTPS connection (1): www.bcg.com:443\n",
      "2020-03-03 16:15:08 [urllib3.connectionpool] DEBUG: https://www.bcg.com:443 \"GET /publications/2018/transforming-value-chains-in-process-industries-with-digital-and-ai.aspx HTTP/1.1\" 200 None\n",
      "2020-03-03 16:15:08 [urllib3.connectionpool] DEBUG: Starting new HTTPS connection (1): www.bcg.com:443\n"
     ]
    },
    {
     "name": "stdout",
     "output_type": "stream",
     "text": [
      "https://www.bcg.com/publications/2018/transforming-value-chains-in-process-industries-with-digital-and-ai.aspx\n"
     ]
    },
    {
     "name": "stderr",
     "output_type": "stream",
     "text": [
      "2020-03-03 16:15:08 [urllib3.connectionpool] DEBUG: https://www.bcg.com:443 \"GET /publications/2018/transforming-value-chains-in-process-industries-with-digital-and-ai.aspx HTTP/1.1\" 200 52778\n",
      "2020-03-03 16:15:11 [scrapy.core.engine] DEBUG: Crawled (200) <GET https://www.bcg.com/publications/2018/why-future-rail-operations-is-digital.aspx> (referer: None)\n",
      "2020-03-03 16:15:11 [urllib3.connectionpool] DEBUG: Starting new HTTPS connection (1): www.bcg.com:443\n",
      "2020-03-03 16:15:11 [urllib3.connectionpool] DEBUG: https://www.bcg.com:443 \"GET /publications/2018/why-future-rail-operations-is-digital.aspx HTTP/1.1\" 200 49795\n",
      "2020-03-03 16:15:11 [urllib3.connectionpool] DEBUG: Starting new HTTPS connection (1): www.bcg.com:443\n",
      "2020-03-03 16:15:11 [urllib3.connectionpool] DEBUG: https://www.bcg.com:443 \"GET /publications/2018/why-future-rail-operations-is-digital.aspx HTTP/1.1\" 200 49795\n"
     ]
    },
    {
     "name": "stdout",
     "output_type": "stream",
     "text": [
      "https://www.bcg.com/publications/2018/why-future-rail-operations-is-digital.aspx\n"
     ]
    },
    {
     "name": "stderr",
     "output_type": "stream",
     "text": [
      "2020-03-03 16:15:11 [scrapy.core.engine] DEBUG: Crawled (200) <GET https://www.bcg.com/publications/2018/digital-revolution-integrating-southeast-asia-consumers.aspx> (referer: None)\n",
      "2020-03-03 16:15:11 [urllib3.connectionpool] DEBUG: Starting new HTTPS connection (1): www.bcg.com:443\n",
      "2020-03-03 16:15:11 [urllib3.connectionpool] DEBUG: https://www.bcg.com:443 \"GET /publications/2018/digital-revolution-integrating-southeast-asia-consumers.aspx HTTP/1.1\" 200 None\n",
      "2020-03-03 16:15:11 [urllib3.connectionpool] DEBUG: Starting new HTTPS connection (1): www.bcg.com:443\n"
     ]
    },
    {
     "name": "stdout",
     "output_type": "stream",
     "text": [
      "https://www.bcg.com/publications/2018/digital-revolution-integrating-southeast-asia-consumers.aspx\n"
     ]
    },
    {
     "name": "stderr",
     "output_type": "stream",
     "text": [
      "2020-03-03 16:15:11 [urllib3.connectionpool] DEBUG: https://www.bcg.com:443 \"GET /publications/2018/digital-revolution-integrating-southeast-asia-consumers.aspx HTTP/1.1\" 200 58039\n",
      "2020-03-03 16:15:11 [scrapy.core.engine] DEBUG: Crawled (200) <GET https://www.bcg.com/publications/2018/bringing-digital-transformation-airbus-interview-marc-fontaine-digital-officer.aspx> (referer: None)\n",
      "2020-03-03 16:15:11 [scrapy.core.engine] DEBUG: Crawled (200) <GET https://www.bcg.com/publications/2018/ceo-guide-leading-learning-digital-age.aspx> (referer: None)\n",
      "2020-03-03 16:15:12 [urllib3.connectionpool] DEBUG: Starting new HTTPS connection (1): www.bcg.com:443\n"
     ]
    },
    {
     "name": "stdout",
     "output_type": "stream",
     "text": [
      "https://www.bcg.com/publications/2018/bringing-digital-transformation-airbus-interview-marc-fontaine-digital-officer.aspx\n"
     ]
    },
    {
     "name": "stderr",
     "output_type": "stream",
     "text": [
      "2020-03-03 16:15:12 [urllib3.connectionpool] DEBUG: https://www.bcg.com:443 \"GET /publications/2018/bringing-digital-transformation-airbus-interview-marc-fontaine-digital-officer.aspx HTTP/1.1\" 200 48814\n",
      "2020-03-03 16:15:12 [urllib3.connectionpool] DEBUG: Starting new HTTPS connection (1): www.bcg.com:443\n",
      "2020-03-03 16:15:12 [urllib3.connectionpool] DEBUG: https://www.bcg.com:443 \"GET /publications/2018/bringing-digital-transformation-airbus-interview-marc-fontaine-digital-officer.aspx HTTP/1.1\" 200 None\n",
      "2020-03-03 16:15:12 [scrapy.core.engine] DEBUG: Crawled (200) <GET https://www.bcg.com/publications/2018/new-boldness-pays-off-2018-insurance-value-creators-report.aspx> (referer: None)\n",
      "2020-03-03 16:15:12 [urllib3.connectionpool] DEBUG: Starting new HTTPS connection (1): www.bcg.com:443\n",
      "2020-03-03 16:15:12 [urllib3.connectionpool] DEBUG: https://www.bcg.com:443 \"GET /publications/2018/ceo-guide-leading-learning-digital-age.aspx HTTP/1.1\" 200 53301\n",
      "2020-03-03 16:15:12 [urllib3.connectionpool] DEBUG: Starting new HTTPS connection (1): www.bcg.com:443\n",
      "2020-03-03 16:15:12 [urllib3.connectionpool] DEBUG: https://www.bcg.com:443 \"GET /publications/2018/ceo-guide-leading-learning-digital-age.aspx HTTP/1.1\" 200 53301\n",
      "2020-03-03 16:15:12 [urllib3.connectionpool] DEBUG: Starting new HTTPS connection (1): www.bcg.com:443\n"
     ]
    },
    {
     "name": "stdout",
     "output_type": "stream",
     "text": [
      "https://www.bcg.com/publications/2018/ceo-guide-leading-learning-digital-age.aspx\n",
      "https://www.bcg.com/publications/2018/new-boldness-pays-off-2018-insurance-value-creators-report.aspx\n"
     ]
    },
    {
     "name": "stderr",
     "output_type": "stream",
     "text": [
      "2020-03-03 16:15:12 [urllib3.connectionpool] DEBUG: https://www.bcg.com:443 \"GET /publications/2018/new-boldness-pays-off-2018-insurance-value-creators-report.aspx HTTP/1.1\" 200 55752\n",
      "2020-03-03 16:15:12 [urllib3.connectionpool] DEBUG: Starting new HTTPS connection (1): www.bcg.com:443\n",
      "2020-03-03 16:15:12 [urllib3.connectionpool] DEBUG: https://www.bcg.com:443 \"GET /publications/2018/new-boldness-pays-off-2018-insurance-value-creators-report.aspx HTTP/1.1\" 200 55752\n",
      "2020-03-03 16:15:12 [scrapy.core.engine] DEBUG: Crawled (200) <GET https://www.bcg.com/publications/2018/competing-rate-learning.aspx> (referer: None)\n",
      "2020-03-03 16:15:12 [scrapy.core.engine] DEBUG: Crawled (200) <GET https://www.bcg.com/publications/2018/profit-tech-transforms-mobility.aspx> (referer: None)\n",
      "2020-03-03 16:15:12 [urllib3.connectionpool] DEBUG: Starting new HTTPS connection (1): www.bcg.com:443\n",
      "2020-03-03 16:15:13 [urllib3.connectionpool] DEBUG: https://www.bcg.com:443 \"GET /publications/2018/competing-rate-learning.aspx HTTP/1.1\" 200 55297\n",
      "2020-03-03 16:15:13 [urllib3.connectionpool] DEBUG: Starting new HTTPS connection (1): www.bcg.com:443\n",
      "2020-03-03 16:15:13 [urllib3.connectionpool] DEBUG: https://www.bcg.com:443 \"GET /publications/2018/competing-rate-learning.aspx HTTP/1.1\" 200 None\n"
     ]
    },
    {
     "name": "stdout",
     "output_type": "stream",
     "text": [
      "https://www.bcg.com/publications/2018/competing-rate-learning.aspx\n"
     ]
    },
    {
     "name": "stderr",
     "output_type": "stream",
     "text": [
      "2020-03-03 16:15:13 [urllib3.connectionpool] DEBUG: Starting new HTTPS connection (1): www.bcg.com:443\n",
      "2020-03-03 16:15:13 [urllib3.connectionpool] DEBUG: https://www.bcg.com:443 \"GET /publications/2018/profit-tech-transforms-mobility.aspx HTTP/1.1\" 200 55858\n",
      "2020-03-03 16:15:13 [urllib3.connectionpool] DEBUG: Starting new HTTPS connection (1): www.bcg.com:443\n",
      "2020-03-03 16:15:13 [urllib3.connectionpool] DEBUG: https://www.bcg.com:443 \"GET /publications/2018/profit-tech-transforms-mobility.aspx HTTP/1.1\" 200 55858\n"
     ]
    },
    {
     "name": "stdout",
     "output_type": "stream",
     "text": [
      "https://www.bcg.com/publications/2018/profit-tech-transforms-mobility.aspx\n"
     ]
    },
    {
     "name": "stderr",
     "output_type": "stream",
     "text": [
      "2020-03-03 16:15:15 [scrapy.core.engine] DEBUG: Crawled (200) <GET https://www.bcg.com/perspectives/236848> (referer: None)\n",
      "2020-03-03 16:15:15 [scrapy.core.engine] DEBUG: Crawled (200) <GET https://www.bcg.com/publications/2018/agile-next-government-revolution.aspx> (referer: None)\n",
      "2020-03-03 16:15:15 [urllib3.connectionpool] DEBUG: Starting new HTTPS connection (1): www.bcg.com:443\n",
      "2020-03-03 16:15:15 [urllib3.connectionpool] DEBUG: https://www.bcg.com:443 \"GET /perspectives/236848 HTTP/1.1\" 200 11160\n",
      "2020-03-03 16:15:15 [urllib3.connectionpool] DEBUG: Starting new HTTPS connection (1): www.bcg.com:443\n",
      "2020-03-03 16:15:15 [urllib3.connectionpool] DEBUG: https://www.bcg.com:443 \"GET /perspectives/236848 HTTP/1.1\" 200 11160\n",
      "2020-03-03 16:15:15 [scrapy.core.scraper] ERROR: Spider error processing <GET https://www.bcg.com/perspectives/236848> (referer: None)\n",
      "Traceback (most recent call last):\n",
      "  File \"C:\\programs\\Continuum\\anaconda3\\lib\\site-packages\\twisted\\internet\\defer.py\", line 654, in _runCallbacks\n",
      "    current.result = callback(current.result, *args, **kw)\n",
      "  File \"<ipython-input-11-426921d2562a>\", line 37, in parse\n",
      "    page_date = re.findall(date_regex, script_text)[0]\n",
      "IndexError: list index out of range\n",
      "2020-03-03 16:15:15 [urllib3.connectionpool] DEBUG: Starting new HTTPS connection (1): www.bcg.com:443\n"
     ]
    },
    {
     "name": "stdout",
     "output_type": "stream",
     "text": [
      "https://www.bcg.com/perspectives/236848\n",
      "https://www.bcg.com/publications/2018/agile-next-government-revolution.aspx\n"
     ]
    },
    {
     "name": "stderr",
     "output_type": "stream",
     "text": [
      "2020-03-03 16:15:15 [urllib3.connectionpool] DEBUG: https://www.bcg.com:443 \"GET /publications/2018/agile-next-government-revolution.aspx HTTP/1.1\" 200 53434\n",
      "2020-03-03 16:15:15 [urllib3.connectionpool] DEBUG: Starting new HTTPS connection (1): www.bcg.com:443\n",
      "2020-03-03 16:15:16 [urllib3.connectionpool] DEBUG: https://www.bcg.com:443 \"GET /publications/2018/agile-next-government-revolution.aspx HTTP/1.1\" 200 53434\n",
      "2020-03-03 16:15:16 [scrapy.core.engine] DEBUG: Crawled (200) <GET https://www.bcg.com/publications/2018/banking-cybersecurity-blind-spot-how-to-fix-it.aspx> (referer: None)\n",
      "2020-03-03 16:15:16 [urllib3.connectionpool] DEBUG: Starting new HTTPS connection (1): www.bcg.com:443\n",
      "2020-03-03 16:15:16 [urllib3.connectionpool] DEBUG: https://www.bcg.com:443 \"GET /publications/2018/banking-cybersecurity-blind-spot-how-to-fix-it.aspx HTTP/1.1\" 200 54580\n",
      "2020-03-03 16:15:16 [urllib3.connectionpool] DEBUG: Starting new HTTPS connection (1): www.bcg.com:443\n",
      "2020-03-03 16:15:16 [urllib3.connectionpool] DEBUG: https://www.bcg.com:443 \"GET /publications/2018/banking-cybersecurity-blind-spot-how-to-fix-it.aspx HTTP/1.1\" 200 54580\n"
     ]
    },
    {
     "name": "stdout",
     "output_type": "stream",
     "text": [
      "https://www.bcg.com/publications/2018/banking-cybersecurity-blind-spot-how-to-fix-it.aspx\n"
     ]
    },
    {
     "name": "stderr",
     "output_type": "stream",
     "text": [
      "2020-03-03 16:15:16 [scrapy.core.engine] DEBUG: Crawled (200) <GET https://www.bcg.com/publications/2018/how-internet-of-things-iot-data-ecosystems-transform-b2b-competition.aspx> (referer: None)\n",
      "2020-03-03 16:15:16 [urllib3.connectionpool] DEBUG: Starting new HTTPS connection (1): www.bcg.com:443\n",
      "2020-03-03 16:15:16 [urllib3.connectionpool] DEBUG: https://www.bcg.com:443 \"GET /publications/2018/how-internet-of-things-iot-data-ecosystems-transform-b2b-competition.aspx HTTP/1.1\" 200 55082\n",
      "2020-03-03 16:15:16 [urllib3.connectionpool] DEBUG: Starting new HTTPS connection (1): www.bcg.com:443\n"
     ]
    },
    {
     "name": "stdout",
     "output_type": "stream",
     "text": [
      "https://www.bcg.com/publications/2018/how-internet-of-things-iot-data-ecosystems-transform-b2b-competition.aspx\n"
     ]
    },
    {
     "name": "stderr",
     "output_type": "stream",
     "text": [
      "2020-03-03 16:15:16 [urllib3.connectionpool] DEBUG: https://www.bcg.com:443 \"GET /publications/2018/how-internet-of-things-iot-data-ecosystems-transform-b2b-competition.aspx HTTP/1.1\" 200 55082\n",
      "2020-03-03 16:15:19 [scrapy.core.engine] DEBUG: Crawled (200) <GET https://www.bcg.com/perspectives/236849> (referer: None)\n",
      "2020-03-03 16:15:19 [scrapy.core.engine] DEBUG: Crawled (200) <GET https://www.bcg.com/publications/2018/1-trillion-dollars-opportunity-digital-support-functions.aspx> (referer: None)\n",
      "2020-03-03 16:15:19 [scrapy.core.engine] DEBUG: Crawled (200) <GET https://www.bcg.com/capabilities/change-management/is-your-change-management-approach-keeping-pace-with-digital.aspx> (referer: None)\n",
      "2020-03-03 16:15:19 [urllib3.connectionpool] DEBUG: Starting new HTTPS connection (1): www.bcg.com:443\n",
      "2020-03-03 16:15:19 [urllib3.connectionpool] DEBUG: https://www.bcg.com:443 \"GET /perspectives/236849 HTTP/1.1\" 200 11177\n",
      "2020-03-03 16:15:19 [urllib3.connectionpool] DEBUG: Starting new HTTPS connection (1): www.bcg.com:443\n",
      "2020-03-03 16:15:19 [urllib3.connectionpool] DEBUG: https://www.bcg.com:443 \"GET /perspectives/236849 HTTP/1.1\" 200 11177\n",
      "2020-03-03 16:15:19 [scrapy.core.scraper] ERROR: Spider error processing <GET https://www.bcg.com/perspectives/236849> (referer: None)\n",
      "Traceback (most recent call last):\n",
      "  File \"C:\\programs\\Continuum\\anaconda3\\lib\\site-packages\\twisted\\internet\\defer.py\", line 654, in _runCallbacks\n",
      "    current.result = callback(current.result, *args, **kw)\n",
      "  File \"<ipython-input-11-426921d2562a>\", line 37, in parse\n",
      "    page_date = re.findall(date_regex, script_text)[0]\n",
      "IndexError: list index out of range\n",
      "2020-03-03 16:15:19 [scrapy.core.engine] DEBUG: Crawled (200) <GET https://www.bcg.com/publications/2018/power-grid-future.aspx> (referer: None)\n",
      "2020-03-03 16:15:19 [urllib3.connectionpool] DEBUG: Starting new HTTPS connection (1): www.bcg.com:443\n"
     ]
    },
    {
     "name": "stdout",
     "output_type": "stream",
     "text": [
      "https://www.bcg.com/perspectives/236849\n",
      "https://www.bcg.com/publications/2018/1-trillion-dollars-opportunity-digital-support-functions.aspx\n"
     ]
    },
    {
     "name": "stderr",
     "output_type": "stream",
     "text": [
      "2020-03-03 16:15:19 [urllib3.connectionpool] DEBUG: https://www.bcg.com:443 \"GET /publications/2018/1-trillion-dollars-opportunity-digital-support-functions.aspx HTTP/1.1\" 200 51688\n",
      "2020-03-03 16:15:19 [urllib3.connectionpool] DEBUG: Starting new HTTPS connection (1): www.bcg.com:443\n",
      "2020-03-03 16:15:19 [urllib3.connectionpool] DEBUG: https://www.bcg.com:443 \"GET /publications/2018/1-trillion-dollars-opportunity-digital-support-functions.aspx HTTP/1.1\" 200 51688\n",
      "2020-03-03 16:15:19 [urllib3.connectionpool] DEBUG: Starting new HTTPS connection (1): www.bcg.com:443\n",
      "2020-03-03 16:15:19 [urllib3.connectionpool] DEBUG: https://www.bcg.com:443 \"GET /capabilities/change-management/is-your-change-management-approach-keeping-pace-with-digital.aspx HTTP/1.1\" 200 50586\n",
      "2020-03-03 16:15:19 [urllib3.connectionpool] DEBUG: Starting new HTTPS connection (1): www.bcg.com:443\n",
      "2020-03-03 16:15:19 [urllib3.connectionpool] DEBUG: https://www.bcg.com:443 \"GET /capabilities/change-management/is-your-change-management-approach-keeping-pace-with-digital.aspx HTTP/1.1\" 200 None\n"
     ]
    },
    {
     "name": "stdout",
     "output_type": "stream",
     "text": [
      "https://www.bcg.com/capabilities/change-management/is-your-change-management-approach-keeping-pace-with-digital.aspx\n"
     ]
    },
    {
     "name": "stderr",
     "output_type": "stream",
     "text": [
      "2020-03-03 16:15:19 [urllib3.connectionpool] DEBUG: Starting new HTTPS connection (1): www.bcg.com:443\n",
      "2020-03-03 16:15:20 [urllib3.connectionpool] DEBUG: https://www.bcg.com:443 \"GET /publications/2018/power-grid-future.aspx HTTP/1.1\" 200 53866\n",
      "2020-03-03 16:15:20 [urllib3.connectionpool] DEBUG: Starting new HTTPS connection (1): www.bcg.com:443\n",
      "2020-03-03 16:15:20 [urllib3.connectionpool] DEBUG: https://www.bcg.com:443 \"GET /publications/2018/power-grid-future.aspx HTTP/1.1\" 200 53866\n"
     ]
    },
    {
     "name": "stdout",
     "output_type": "stream",
     "text": [
      "https://www.bcg.com/publications/2018/power-grid-future.aspx\n"
     ]
    },
    {
     "name": "stderr",
     "output_type": "stream",
     "text": [
      "2020-03-03 16:15:20 [scrapy.core.engine] DEBUG: Crawled (200) <GET https://www.bcg.com/publications/2018/blueprint-for-the-government-of-the-future.aspx> (referer: None)\n",
      "2020-03-03 16:15:20 [urllib3.connectionpool] DEBUG: Starting new HTTPS connection (1): www.bcg.com:443\n",
      "2020-03-03 16:15:20 [urllib3.connectionpool] DEBUG: https://www.bcg.com:443 \"GET /publications/2018/blueprint-for-the-government-of-the-future.aspx HTTP/1.1\" 200 59445\n",
      "2020-03-03 16:15:20 [urllib3.connectionpool] DEBUG: Starting new HTTPS connection (1): www.bcg.com:443\n",
      "2020-03-03 16:15:20 [urllib3.connectionpool] DEBUG: https://www.bcg.com:443 \"GET /publications/2018/blueprint-for-the-government-of-the-future.aspx HTTP/1.1\" 200 59445\n"
     ]
    },
    {
     "name": "stdout",
     "output_type": "stream",
     "text": [
      "https://www.bcg.com/publications/2018/blueprint-for-the-government-of-the-future.aspx\n"
     ]
    },
    {
     "name": "stderr",
     "output_type": "stream",
     "text": [
      "2020-03-03 16:15:26 [scrapy.core.engine] DEBUG: Crawled (200) <GET https://www.bcg.com/publications/2018/what-when-support-functions-are-not-ready-for-digital.aspx> (referer: None)\n",
      "2020-03-03 16:15:26 [urllib3.connectionpool] DEBUG: Starting new HTTPS connection (1): www.bcg.com:443\n",
      "2020-03-03 16:15:26 [urllib3.connectionpool] DEBUG: https://www.bcg.com:443 \"GET /publications/2018/what-when-support-functions-are-not-ready-for-digital.aspx HTTP/1.1\" 200 None\n"
     ]
    },
    {
     "name": "stdout",
     "output_type": "stream",
     "text": [
      "https://www.bcg.com/publications/2018/what-when-support-functions-are-not-ready-for-digital.aspx\n"
     ]
    },
    {
     "name": "stderr",
     "output_type": "stream",
     "text": [
      "2020-03-03 16:15:26 [urllib3.connectionpool] DEBUG: Starting new HTTPS connection (1): www.bcg.com:443\n",
      "2020-03-03 16:15:26 [urllib3.connectionpool] DEBUG: https://www.bcg.com:443 \"GET /publications/2018/what-when-support-functions-are-not-ready-for-digital.aspx HTTP/1.1\" 200 53940\n",
      "2020-03-03 16:15:26 [scrapy.core.engine] DEBUG: Crawled (200) <GET https://www.bcg.com/publications/2018/building-an-integrated-marketing-sales-engine-b2b.aspx> (referer: None)\n",
      "2020-03-03 16:15:26 [scrapy.core.engine] DEBUG: Crawled (200) <GET https://www.bcg.com/publications/2018/beauty-disruption-eight-takeaways-european-strategy-leadership-summit.aspx> (referer: None)\n",
      "2020-03-03 16:15:26 [urllib3.connectionpool] DEBUG: Starting new HTTPS connection (1): www.bcg.com:443\n",
      "2020-03-03 16:15:26 [urllib3.connectionpool] DEBUG: https://www.bcg.com:443 \"GET /publications/2018/building-an-integrated-marketing-sales-engine-b2b.aspx HTTP/1.1\" 200 55147\n",
      "2020-03-03 16:15:26 [urllib3.connectionpool] DEBUG: Starting new HTTPS connection (1): www.bcg.com:443\n",
      "2020-03-03 16:15:26 [urllib3.connectionpool] DEBUG: https://www.bcg.com:443 \"GET /publications/2018/building-an-integrated-marketing-sales-engine-b2b.aspx HTTP/1.1\" 200 55147\n",
      "2020-03-03 16:15:26 [urllib3.connectionpool] DEBUG: Starting new HTTPS connection (1): www.bcg.com:443\n"
     ]
    },
    {
     "name": "stdout",
     "output_type": "stream",
     "text": [
      "https://www.bcg.com/publications/2018/building-an-integrated-marketing-sales-engine-b2b.aspx\n",
      "https://www.bcg.com/publications/2018/beauty-disruption-eight-takeaways-european-strategy-leadership-summit.aspx\n"
     ]
    },
    {
     "name": "stderr",
     "output_type": "stream",
     "text": [
      "2020-03-03 16:15:26 [urllib3.connectionpool] DEBUG: https://www.bcg.com:443 \"GET /publications/2018/beauty-disruption-eight-takeaways-european-strategy-leadership-summit.aspx HTTP/1.1\" 200 48342\n",
      "2020-03-03 16:15:26 [urllib3.connectionpool] DEBUG: Starting new HTTPS connection (1): www.bcg.com:443\n",
      "2020-03-03 16:15:26 [urllib3.connectionpool] DEBUG: https://www.bcg.com:443 \"GET /publications/2018/beauty-disruption-eight-takeaways-european-strategy-leadership-summit.aspx HTTP/1.1\" 200 48342\n",
      "2020-03-03 16:15:26 [scrapy.core.engine] DEBUG: Crawled (200) <GET https://www.bcg.com/publications/2018/why-specialty-chemical-distributors-need-to-raise-their-game.aspx> (referer: None)\n",
      "2020-03-03 16:15:27 [urllib3.connectionpool] DEBUG: Starting new HTTPS connection (1): www.bcg.com:443\n",
      "2020-03-03 16:15:27 [urllib3.connectionpool] DEBUG: https://www.bcg.com:443 \"GET /publications/2018/why-specialty-chemical-distributors-need-to-raise-their-game.aspx HTTP/1.1\" 200 55716\n",
      "2020-03-03 16:15:27 [urllib3.connectionpool] DEBUG: Starting new HTTPS connection (1): www.bcg.com:443\n",
      "2020-03-03 16:15:27 [urllib3.connectionpool] DEBUG: https://www.bcg.com:443 \"GET /publications/2018/why-specialty-chemical-distributors-need-to-raise-their-game.aspx HTTP/1.1\" 200 55716\n"
     ]
    },
    {
     "name": "stdout",
     "output_type": "stream",
     "text": [
      "https://www.bcg.com/publications/2018/why-specialty-chemical-distributors-need-to-raise-their-game.aspx\n"
     ]
    },
    {
     "name": "stderr",
     "output_type": "stream",
     "text": [
      "2020-03-03 16:15:30 [scrapy.core.engine] DEBUG: Crawled (200) <GET https://www.bcg.com/publications/2018/how-local-dynamos-win-at-home.aspx> (referer: None)\n",
      "2020-03-03 16:15:30 [scrapy.core.engine] DEBUG: Crawled (200) <GET https://www.bcg.com/publications/2018/decoding-global-talent.aspx> (referer: None)\n",
      "2020-03-03 16:15:30 [urllib3.connectionpool] DEBUG: Starting new HTTPS connection (1): www.bcg.com:443\n",
      "2020-03-03 16:15:30 [urllib3.connectionpool] DEBUG: https://www.bcg.com:443 \"GET /publications/2018/how-local-dynamos-win-at-home.aspx HTTP/1.1\" 200 59296\n",
      "2020-03-03 16:15:30 [urllib3.connectionpool] DEBUG: Starting new HTTPS connection (1): www.bcg.com:443\n",
      "2020-03-03 16:15:30 [urllib3.connectionpool] DEBUG: https://www.bcg.com:443 \"GET /publications/2018/how-local-dynamos-win-at-home.aspx HTTP/1.1\" 200 59296\n"
     ]
    },
    {
     "name": "stdout",
     "output_type": "stream",
     "text": [
      "https://www.bcg.com/publications/2018/how-local-dynamos-win-at-home.aspx\n",
      "https://www.bcg.com/publications/2018/decoding-global-talent.aspx\n"
     ]
    },
    {
     "name": "stderr",
     "output_type": "stream",
     "text": [
      "2020-03-03 16:15:30 [urllib3.connectionpool] DEBUG: Starting new HTTPS connection (1): www.bcg.com:443\n",
      "2020-03-03 16:15:30 [urllib3.connectionpool] DEBUG: https://www.bcg.com:443 \"GET /publications/2018/decoding-global-talent.aspx HTTP/1.1\" 200 62574\n",
      "2020-03-03 16:15:30 [urllib3.connectionpool] DEBUG: Starting new HTTPS connection (1): www.bcg.com:443\n",
      "2020-03-03 16:15:30 [urllib3.connectionpool] DEBUG: https://www.bcg.com:443 \"GET /publications/2018/decoding-global-talent.aspx HTTP/1.1\" 200 62574\n",
      "2020-03-03 16:15:35 [scrapy.core.engine] DEBUG: Crawled (200) <GET https://www.bcg.com/publications/2018/france-remains-top-draw-but-still-needs-more-people-global-talent.aspx> (referer: None)\n",
      "2020-03-03 16:15:35 [urllib3.connectionpool] DEBUG: Starting new HTTPS connection (1): www.bcg.com:443\n",
      "2020-03-03 16:15:35 [urllib3.connectionpool] DEBUG: https://www.bcg.com:443 \"GET /publications/2018/france-remains-top-draw-but-still-needs-more-people-global-talent.aspx HTTP/1.1\" 200 51307\n",
      "2020-03-03 16:15:35 [urllib3.connectionpool] DEBUG: Starting new HTTPS connection (1): www.bcg.com:443\n",
      "2020-03-03 16:15:35 [urllib3.connectionpool] DEBUG: https://www.bcg.com:443 \"GET /publications/2018/france-remains-top-draw-but-still-needs-more-people-global-talent.aspx HTTP/1.1\" 200 51307\n",
      "2020-03-03 16:15:35 [scrapy.core.engine] DEBUG: Crawled (200) <GET https://www.bcg.com/publications/2018/big-leap-toward-ai-scale.aspx> (referer: None)\n"
     ]
    },
    {
     "name": "stdout",
     "output_type": "stream",
     "text": [
      "https://www.bcg.com/publications/2018/france-remains-top-draw-but-still-needs-more-people-global-talent.aspx\n"
     ]
    },
    {
     "name": "stderr",
     "output_type": "stream",
     "text": [
      "2020-03-03 16:15:35 [urllib3.connectionpool] DEBUG: Starting new HTTPS connection (1): www.bcg.com:443\n",
      "2020-03-03 16:15:35 [urllib3.connectionpool] DEBUG: https://www.bcg.com:443 \"GET /publications/2018/big-leap-toward-ai-scale.aspx HTTP/1.1\" 200 56516\n",
      "2020-03-03 16:15:35 [urllib3.connectionpool] DEBUG: Starting new HTTPS connection (1): www.bcg.com:443\n",
      "2020-03-03 16:15:36 [urllib3.connectionpool] DEBUG: https://www.bcg.com:443 \"GET /publications/2018/big-leap-toward-ai-scale.aspx HTTP/1.1\" 200 56516\n",
      "2020-03-03 16:15:36 [scrapy.core.engine] DEBUG: Crawled (200) <GET https://www.bcg.com/publications/2018/arming-defense-companies-for-global-growth.aspx> (referer: None)\n"
     ]
    },
    {
     "name": "stdout",
     "output_type": "stream",
     "text": [
      "https://www.bcg.com/publications/2018/big-leap-toward-ai-scale.aspx\n"
     ]
    },
    {
     "name": "stderr",
     "output_type": "stream",
     "text": [
      "2020-03-03 16:15:36 [urllib3.connectionpool] DEBUG: Starting new HTTPS connection (1): www.bcg.com:443\n",
      "2020-03-03 16:15:36 [urllib3.connectionpool] DEBUG: https://www.bcg.com:443 \"GET /publications/2018/arming-defense-companies-for-global-growth.aspx HTTP/1.1\" 200 53826\n",
      "2020-03-03 16:15:36 [urllib3.connectionpool] DEBUG: Starting new HTTPS connection (1): www.bcg.com:443\n",
      "2020-03-03 16:15:36 [urllib3.connectionpool] DEBUG: https://www.bcg.com:443 \"GET /publications/2018/arming-defense-companies-for-global-growth.aspx HTTP/1.1\" 200 53826\n"
     ]
    },
    {
     "name": "stdout",
     "output_type": "stream",
     "text": [
      "https://www.bcg.com/publications/2018/arming-defense-companies-for-global-growth.aspx\n"
     ]
    },
    {
     "name": "stderr",
     "output_type": "stream",
     "text": [
      "2020-03-03 16:15:36 [scrapy.core.engine] DEBUG: Crawled (200) <GET https://www.bcg.com/publications/2018/first-all-blockchain-insurer.aspx> (referer: None)\n",
      "2020-03-03 16:15:36 [urllib3.connectionpool] DEBUG: Starting new HTTPS connection (1): www.bcg.com:443\n",
      "2020-03-03 16:15:36 [urllib3.connectionpool] DEBUG: https://www.bcg.com:443 \"GET /publications/2018/first-all-blockchain-insurer.aspx HTTP/1.1\" 200 None\n",
      "2020-03-03 16:15:36 [urllib3.connectionpool] DEBUG: Starting new HTTPS connection (1): www.bcg.com:443\n",
      "2020-03-03 16:15:36 [urllib3.connectionpool] DEBUG: https://www.bcg.com:443 \"GET /publications/2018/first-all-blockchain-insurer.aspx HTTP/1.1\" 200 54280\n"
     ]
    },
    {
     "name": "stdout",
     "output_type": "stream",
     "text": [
      "https://www.bcg.com/publications/2018/first-all-blockchain-insurer.aspx\n"
     ]
    },
    {
     "name": "stderr",
     "output_type": "stream",
     "text": [
      "2020-03-03 16:15:36 [scrapy.core.engine] DEBUG: Crawled (200) <GET https://www.bcg.com/publications/2018/digital-maturity-is-paying-off.aspx> (referer: None)\n",
      "2020-03-03 16:15:36 [urllib3.connectionpool] DEBUG: Starting new HTTPS connection (1): www.bcg.com:443\n",
      "2020-03-03 16:15:36 [urllib3.connectionpool] DEBUG: https://www.bcg.com:443 \"GET /publications/2018/digital-maturity-is-paying-off.aspx HTTP/1.1\" 200 53406\n",
      "2020-03-03 16:15:36 [urllib3.connectionpool] DEBUG: Starting new HTTPS connection (1): www.bcg.com:443\n",
      "2020-03-03 16:15:36 [urllib3.connectionpool] DEBUG: https://www.bcg.com:443 \"GET /publications/2018/digital-maturity-is-paying-off.aspx HTTP/1.1\" 200 53406\n"
     ]
    },
    {
     "name": "stdout",
     "output_type": "stream",
     "text": [
      "https://www.bcg.com/publications/2018/digital-maturity-is-paying-off.aspx\n"
     ]
    },
    {
     "name": "stderr",
     "output_type": "stream",
     "text": [
      "2020-03-03 16:15:37 [scrapy.core.engine] DEBUG: Crawled (200) <GET https://www.bcg.com/publications/2018/four-ways-banks-can-radically-reduce-costs.aspx> (referer: None)\n",
      "2020-03-03 16:15:37 [scrapy.core.engine] DEBUG: Crawled (200) <GET https://www.bcg.com/publications/2018/why-women-owned-startups-are-better-bet.aspx> (referer: None)\n",
      "2020-03-03 16:15:37 [urllib3.connectionpool] DEBUG: Starting new HTTPS connection (1): www.bcg.com:443\n",
      "2020-03-03 16:15:37 [urllib3.connectionpool] DEBUG: https://www.bcg.com:443 \"GET /publications/2018/four-ways-banks-can-radically-reduce-costs.aspx HTTP/1.1\" 200 49878\n",
      "2020-03-03 16:15:37 [urllib3.connectionpool] DEBUG: Starting new HTTPS connection (1): www.bcg.com:443\n",
      "2020-03-03 16:15:37 [urllib3.connectionpool] DEBUG: https://www.bcg.com:443 \"GET /publications/2018/four-ways-banks-can-radically-reduce-costs.aspx HTTP/1.1\" 200 49878\n"
     ]
    },
    {
     "name": "stdout",
     "output_type": "stream",
     "text": [
      "https://www.bcg.com/publications/2018/four-ways-banks-can-radically-reduce-costs.aspx\n",
      "https://www.bcg.com/publications/2018/why-women-owned-startups-are-better-bet.aspx\n"
     ]
    },
    {
     "name": "stderr",
     "output_type": "stream",
     "text": [
      "2020-03-03 16:15:37 [urllib3.connectionpool] DEBUG: Starting new HTTPS connection (1): www.bcg.com:443\n",
      "2020-03-03 16:15:37 [urllib3.connectionpool] DEBUG: https://www.bcg.com:443 \"GET /publications/2018/why-women-owned-startups-are-better-bet.aspx HTTP/1.1\" 200 52614\n",
      "2020-03-03 16:15:37 [urllib3.connectionpool] DEBUG: Starting new HTTPS connection (1): www.bcg.com:443\n",
      "2020-03-03 16:15:37 [urllib3.connectionpool] DEBUG: https://www.bcg.com:443 \"GET /publications/2018/why-women-owned-startups-are-better-bet.aspx HTTP/1.1\" 200 52614\n",
      "2020-03-03 16:15:37 [scrapy.core.engine] DEBUG: Crawled (200) <GET https://www.bcg.com/publications/2018/new-ip-strategy-make-love-not-war.aspx> (referer: None)\n",
      "2020-03-03 16:15:37 [urllib3.connectionpool] DEBUG: Starting new HTTPS connection (1): www.bcg.com:443\n",
      "2020-03-03 16:15:37 [urllib3.connectionpool] DEBUG: https://www.bcg.com:443 \"GET /publications/2018/new-ip-strategy-make-love-not-war.aspx HTTP/1.1\" 200 None\n",
      "2020-03-03 16:15:37 [urllib3.connectionpool] DEBUG: Starting new HTTPS connection (1): www.bcg.com:443\n",
      "2020-03-03 16:15:37 [urllib3.connectionpool] DEBUG: https://www.bcg.com:443 \"GET /publications/2018/new-ip-strategy-make-love-not-war.aspx HTTP/1.1\" 200 52025\n"
     ]
    },
    {
     "name": "stdout",
     "output_type": "stream",
     "text": [
      "https://www.bcg.com/publications/2018/new-ip-strategy-make-love-not-war.aspx\n"
     ]
    },
    {
     "name": "stderr",
     "output_type": "stream",
     "text": [
      "2020-03-03 16:15:38 [scrapy.core.engine] DEBUG: Crawled (200) <GET https://www.bcg.com/publications/2018/powering-returns-from-energy-network-deals.aspx> (referer: None)\n",
      "2020-03-03 16:15:38 [scrapy.core.engine] DEBUG: Crawled (200) <GET https://www.bcg.com/perspectives/235425> (referer: None)\n",
      "2020-03-03 16:15:38 [urllib3.connectionpool] DEBUG: Starting new HTTPS connection (1): www.bcg.com:443\n",
      "2020-03-03 16:15:38 [urllib3.connectionpool] DEBUG: https://www.bcg.com:443 \"GET /publications/2018/powering-returns-from-energy-network-deals.aspx HTTP/1.1\" 200 51011\n",
      "2020-03-03 16:15:39 [urllib3.connectionpool] DEBUG: Starting new HTTPS connection (1): www.bcg.com:443\n",
      "2020-03-03 16:15:39 [urllib3.connectionpool] DEBUG: https://www.bcg.com:443 \"GET /publications/2018/powering-returns-from-energy-network-deals.aspx HTTP/1.1\" 200 51011\n"
     ]
    },
    {
     "name": "stdout",
     "output_type": "stream",
     "text": [
      "https://www.bcg.com/publications/2018/powering-returns-from-energy-network-deals.aspx\n"
     ]
    },
    {
     "name": "stderr",
     "output_type": "stream",
     "text": [
      "2020-03-03 16:15:39 [urllib3.connectionpool] DEBUG: Starting new HTTPS connection (1): www.bcg.com:443\n",
      "2020-03-03 16:15:39 [urllib3.connectionpool] DEBUG: https://www.bcg.com:443 \"GET /perspectives/235425 HTTP/1.1\" 200 11197\n",
      "2020-03-03 16:15:39 [urllib3.connectionpool] DEBUG: Starting new HTTPS connection (1): www.bcg.com:443\n",
      "2020-03-03 16:15:39 [urllib3.connectionpool] DEBUG: https://www.bcg.com:443 \"GET /perspectives/235425 HTTP/1.1\" 200 11197\n",
      "2020-03-03 16:15:39 [scrapy.core.scraper] ERROR: Spider error processing <GET https://www.bcg.com/perspectives/235425> (referer: None)\n",
      "Traceback (most recent call last):\n",
      "  File \"C:\\programs\\Continuum\\anaconda3\\lib\\site-packages\\twisted\\internet\\defer.py\", line 654, in _runCallbacks\n",
      "    current.result = callback(current.result, *args, **kw)\n",
      "  File \"<ipython-input-11-426921d2562a>\", line 37, in parse\n",
      "    page_date = re.findall(date_regex, script_text)[0]\n",
      "IndexError: list index out of range\n"
     ]
    },
    {
     "name": "stdout",
     "output_type": "stream",
     "text": [
      "https://www.bcg.com/perspectives/235425\n"
     ]
    },
    {
     "name": "stderr",
     "output_type": "stream",
     "text": [
      "2020-03-03 16:15:47 [scrapy.core.engine] DEBUG: Crawled (200) <GET https://www.bcg.com/publications/2018/global-challengers-2018-digital-leadership-emerging-markets.aspx> (referer: None)\n",
      "2020-03-03 16:15:47 [urllib3.connectionpool] DEBUG: Starting new HTTPS connection (1): www.bcg.com:443\n",
      "2020-03-03 16:15:47 [urllib3.connectionpool] DEBUG: https://www.bcg.com:443 \"GET /publications/2018/global-challengers-2018-digital-leadership-emerging-markets.aspx HTTP/1.1\" 200 51915\n",
      "2020-03-03 16:15:47 [urllib3.connectionpool] DEBUG: Starting new HTTPS connection (1): www.bcg.com:443\n"
     ]
    },
    {
     "name": "stdout",
     "output_type": "stream",
     "text": [
      "https://www.bcg.com/publications/2018/global-challengers-2018-digital-leadership-emerging-markets.aspx\n"
     ]
    },
    {
     "name": "stderr",
     "output_type": "stream",
     "text": [
      "2020-03-03 16:15:47 [urllib3.connectionpool] DEBUG: https://www.bcg.com:443 \"GET /publications/2018/global-challengers-2018-digital-leadership-emerging-markets.aspx HTTP/1.1\" 200 51915\n",
      "2020-03-03 16:15:47 [scrapy.core.engine] DEBUG: Crawled (200) <GET https://www.bcg.com/publications/2018/global-challengers-2018.aspx> (referer: None)\n",
      "2020-03-03 16:15:47 [urllib3.connectionpool] DEBUG: Starting new HTTPS connection (1): www.bcg.com:443\n",
      "2020-03-03 16:15:47 [urllib3.connectionpool] DEBUG: https://www.bcg.com:443 \"GET /publications/2018/global-challengers-2018.aspx HTTP/1.1\" 200 52140\n",
      "2020-03-03 16:15:47 [urllib3.connectionpool] DEBUG: Starting new HTTPS connection (1): www.bcg.com:443\n",
      "2020-03-03 16:15:47 [urllib3.connectionpool] DEBUG: https://www.bcg.com:443 \"GET /publications/2018/global-challengers-2018.aspx HTTP/1.1\" 200 52140\n"
     ]
    },
    {
     "name": "stdout",
     "output_type": "stream",
     "text": [
      "https://www.bcg.com/publications/2018/global-challengers-2018.aspx\n"
     ]
    },
    {
     "name": "stderr",
     "output_type": "stream",
     "text": [
      "2020-03-03 16:15:52 [scrapy.core.engine] DEBUG: Crawled (200) <GET https://www.bcg.com/publications/2018/is-digital-revolution-aerospace-defense-crisis.aspx> (referer: None)\n",
      "2020-03-03 16:15:52 [scrapy.core.engine] DEBUG: Crawled (200) <GET https://www.bcg.com/publications/2018/redefining-corporate-banking-relationships-digital-world.aspx> (referer: None)\n",
      "2020-03-03 16:15:52 [urllib3.connectionpool] DEBUG: Starting new HTTPS connection (1): www.bcg.com:443\n"
     ]
    },
    {
     "name": "stdout",
     "output_type": "stream",
     "text": [
      "https://www.bcg.com/publications/2018/is-digital-revolution-aerospace-defense-crisis.aspx\n"
     ]
    },
    {
     "name": "stderr",
     "output_type": "stream",
     "text": [
      "2020-03-03 16:15:52 [urllib3.connectionpool] DEBUG: https://www.bcg.com:443 \"GET /publications/2018/is-digital-revolution-aerospace-defense-crisis.aspx HTTP/1.1\" 200 None\n",
      "2020-03-03 16:15:52 [urllib3.connectionpool] DEBUG: Starting new HTTPS connection (1): www.bcg.com:443\n",
      "2020-03-03 16:15:52 [urllib3.connectionpool] DEBUG: https://www.bcg.com:443 \"GET /publications/2018/is-digital-revolution-aerospace-defense-crisis.aspx HTTP/1.1\" 200 None\n",
      "2020-03-03 16:15:52 [urllib3.connectionpool] DEBUG: Starting new HTTPS connection (1): www.bcg.com:443\n",
      "2020-03-03 16:15:52 [urllib3.connectionpool] DEBUG: https://www.bcg.com:443 \"GET /publications/2018/redefining-corporate-banking-relationships-digital-world.aspx HTTP/1.1\" 200 53193\n",
      "2020-03-03 16:15:52 [urllib3.connectionpool] DEBUG: Starting new HTTPS connection (1): www.bcg.com:443\n",
      "2020-03-03 16:15:52 [urllib3.connectionpool] DEBUG: https://www.bcg.com:443 \"GET /publications/2018/redefining-corporate-banking-relationships-digital-world.aspx HTTP/1.1\" 200 53193\n"
     ]
    },
    {
     "name": "stdout",
     "output_type": "stream",
     "text": [
      "https://www.bcg.com/publications/2018/redefining-corporate-banking-relationships-digital-world.aspx\n"
     ]
    },
    {
     "name": "stderr",
     "output_type": "stream",
     "text": [
      "2020-03-03 16:15:55 [scrapy.core.engine] DEBUG: Crawled (200) <GET https://www.bcg.com/publications/2018/rolling-out-augmented-reality-field.aspx> (referer: None)\n",
      "2020-03-03 16:15:55 [urllib3.connectionpool] DEBUG: Starting new HTTPS connection (1): www.bcg.com:443\n",
      "2020-03-03 16:15:55 [urllib3.connectionpool] DEBUG: https://www.bcg.com:443 \"GET /publications/2018/rolling-out-augmented-reality-field.aspx HTTP/1.1\" 200 54396\n",
      "2020-03-03 16:15:55 [urllib3.connectionpool] DEBUG: Starting new HTTPS connection (1): www.bcg.com:443\n",
      "2020-03-03 16:15:55 [urllib3.connectionpool] DEBUG: https://www.bcg.com:443 \"GET /publications/2018/rolling-out-augmented-reality-field.aspx HTTP/1.1\" 200 54396\n"
     ]
    },
    {
     "name": "stdout",
     "output_type": "stream",
     "text": [
      "https://www.bcg.com/publications/2018/rolling-out-augmented-reality-field.aspx\n"
     ]
    },
    {
     "name": "stderr",
     "output_type": "stream",
     "text": [
      "2020-03-03 16:15:56 [scrapy.core.engine] DEBUG: Crawled (200) <GET https://www.bcg.com/publications/2018/next-generation-pricing-is-transforming-medtech.aspx> (referer: None)\n",
      "2020-03-03 16:15:56 [urllib3.connectionpool] DEBUG: Starting new HTTPS connection (1): www.bcg.com:443\n",
      "2020-03-03 16:15:56 [urllib3.connectionpool] DEBUG: https://www.bcg.com:443 \"GET /publications/2018/next-generation-pricing-is-transforming-medtech.aspx HTTP/1.1\" 200 54741\n",
      "2020-03-03 16:15:56 [urllib3.connectionpool] DEBUG: Starting new HTTPS connection (1): www.bcg.com:443\n",
      "2020-03-03 16:15:56 [urllib3.connectionpool] DEBUG: https://www.bcg.com:443 \"GET /publications/2018/next-generation-pricing-is-transforming-medtech.aspx HTTP/1.1\" 200 54741\n",
      "2020-03-03 16:15:56 [scrapy.core.engine] DEBUG: Crawled (200) <GET https://www.bcg.com/publications/2018/new-globalization-why-countries-need-new-job-creation-strategies.aspx> (referer: None)\n"
     ]
    },
    {
     "name": "stdout",
     "output_type": "stream",
     "text": [
      "https://www.bcg.com/publications/2018/next-generation-pricing-is-transforming-medtech.aspx\n"
     ]
    },
    {
     "name": "stderr",
     "output_type": "stream",
     "text": [
      "2020-03-03 16:15:56 [urllib3.connectionpool] DEBUG: Starting new HTTPS connection (1): www.bcg.com:443\n",
      "2020-03-03 16:15:56 [urllib3.connectionpool] DEBUG: https://www.bcg.com:443 \"GET /publications/2018/new-globalization-why-countries-need-new-job-creation-strategies.aspx HTTP/1.1\" 200 54548\n",
      "2020-03-03 16:15:56 [urllib3.connectionpool] DEBUG: Starting new HTTPS connection (1): www.bcg.com:443\n",
      "2020-03-03 16:15:56 [urllib3.connectionpool] DEBUG: https://www.bcg.com:443 \"GET /publications/2018/new-globalization-why-countries-need-new-job-creation-strategies.aspx HTTP/1.1\" 200 54548\n"
     ]
    },
    {
     "name": "stdout",
     "output_type": "stream",
     "text": [
      "https://www.bcg.com/publications/2018/new-globalization-why-countries-need-new-job-creation-strategies.aspx\n"
     ]
    },
    {
     "name": "stderr",
     "output_type": "stream",
     "text": [
      "2020-03-03 16:15:59 [scrapy.core.engine] DEBUG: Crawled (200) <GET https://www.bcg.com/publications/2018/global-challengers-2018-emerging-markets-driving-digital-force.aspx> (referer: None)\n",
      "2020-03-03 16:15:59 [urllib3.connectionpool] DEBUG: Starting new HTTPS connection (1): www.bcg.com:443\n",
      "2020-03-03 16:15:59 [urllib3.connectionpool] DEBUG: https://www.bcg.com:443 \"GET /publications/2018/global-challengers-2018-emerging-markets-driving-digital-force.aspx HTTP/1.1\" 200 52368\n",
      "2020-03-03 16:15:59 [urllib3.connectionpool] DEBUG: Starting new HTTPS connection (1): www.bcg.com:443\n",
      "2020-03-03 16:15:59 [urllib3.connectionpool] DEBUG: https://www.bcg.com:443 \"GET /publications/2018/global-challengers-2018-emerging-markets-driving-digital-force.aspx HTTP/1.1\" 200 52368\n"
     ]
    },
    {
     "name": "stdout",
     "output_type": "stream",
     "text": [
      "https://www.bcg.com/publications/2018/global-challengers-2018-emerging-markets-driving-digital-force.aspx\n"
     ]
    },
    {
     "name": "stderr",
     "output_type": "stream",
     "text": [
      "2020-03-03 16:16:01 [scrapy.extensions.logstats] INFO: Crawled 189 pages (at 47 pages/min), scraped 0 items (at 0 items/min)\n",
      "2020-03-03 16:16:03 [scrapy.core.engine] DEBUG: Crawled (200) <GET https://www.bcg.com/publications/2018/opportunities-knock-for-legal-information-providers.aspx> (referer: None)\n",
      "2020-03-03 16:16:03 [urllib3.connectionpool] DEBUG: Starting new HTTPS connection (1): www.bcg.com:443\n",
      "2020-03-03 16:16:03 [urllib3.connectionpool] DEBUG: https://www.bcg.com:443 \"GET /publications/2018/opportunities-knock-for-legal-information-providers.aspx HTTP/1.1\" 200 50846\n",
      "2020-03-03 16:16:03 [urllib3.connectionpool] DEBUG: Starting new HTTPS connection (1): www.bcg.com:443\n",
      "2020-03-03 16:16:03 [urllib3.connectionpool] DEBUG: https://www.bcg.com:443 \"GET /publications/2018/opportunities-knock-for-legal-information-providers.aspx HTTP/1.1\" 200 50846\n"
     ]
    },
    {
     "name": "stdout",
     "output_type": "stream",
     "text": [
      "https://www.bcg.com/publications/2018/opportunities-knock-for-legal-information-providers.aspx\n"
     ]
    },
    {
     "name": "stderr",
     "output_type": "stream",
     "text": [
      "2020-03-03 16:16:06 [scrapy.core.engine] DEBUG: Crawled (200) <GET https://www.bcg.com/capabilities/globalization/when-building-international-joint-ventures-setup-matters.aspx> (referer: None)\n",
      "2020-03-03 16:16:06 [urllib3.connectionpool] DEBUG: Starting new HTTPS connection (1): www.bcg.com:443\n",
      "2020-03-03 16:16:06 [urllib3.connectionpool] DEBUG: https://www.bcg.com:443 \"GET /capabilities/globalization/when-building-international-joint-ventures-setup-matters.aspx HTTP/1.1\" 200 49222\n",
      "2020-03-03 16:16:06 [urllib3.connectionpool] DEBUG: Starting new HTTPS connection (1): www.bcg.com:443\n"
     ]
    },
    {
     "name": "stdout",
     "output_type": "stream",
     "text": [
      "https://www.bcg.com/capabilities/globalization/when-building-international-joint-ventures-setup-matters.aspx\n"
     ]
    },
    {
     "name": "stderr",
     "output_type": "stream",
     "text": [
      "2020-03-03 16:16:06 [urllib3.connectionpool] DEBUG: https://www.bcg.com:443 \"GET /capabilities/globalization/when-building-international-joint-ventures-setup-matters.aspx HTTP/1.1\" 200 49222\n",
      "2020-03-03 16:16:09 [scrapy.core.engine] DEBUG: Crawled (200) <GET https://www.bcg.com/publications/2018/delivering-digital-procurement-promise.aspx> (referer: None)\n",
      "2020-03-03 16:16:09 [urllib3.connectionpool] DEBUG: Starting new HTTPS connection (1): www.bcg.com:443\n",
      "2020-03-03 16:16:09 [urllib3.connectionpool] DEBUG: https://www.bcg.com:443 \"GET /publications/2018/delivering-digital-procurement-promise.aspx HTTP/1.1\" 200 51928\n",
      "2020-03-03 16:16:09 [urllib3.connectionpool] DEBUG: Starting new HTTPS connection (1): www.bcg.com:443\n",
      "2020-03-03 16:16:09 [urllib3.connectionpool] DEBUG: https://www.bcg.com:443 \"GET /publications/2018/delivering-digital-procurement-promise.aspx HTTP/1.1\" 200 51928\n"
     ]
    },
    {
     "name": "stdout",
     "output_type": "stream",
     "text": [
      "https://www.bcg.com/publications/2018/delivering-digital-procurement-promise.aspx\n"
     ]
    },
    {
     "name": "stderr",
     "output_type": "stream",
     "text": [
      "2020-03-03 16:16:10 [scrapy.core.engine] DEBUG: Crawled (200) <GET https://www.bcg.com/publications/2018/race-toward-engineering-4.0.aspx> (referer: None)\n",
      "2020-03-03 16:16:10 [urllib3.connectionpool] DEBUG: Starting new HTTPS connection (1): www.bcg.com:443\n",
      "2020-03-03 16:16:10 [urllib3.connectionpool] DEBUG: https://www.bcg.com:443 \"GET /publications/2018/race-toward-engineering-4.0.aspx HTTP/1.1\" 200 51782\n",
      "2020-03-03 16:16:10 [urllib3.connectionpool] DEBUG: Starting new HTTPS connection (1): www.bcg.com:443\n",
      "2020-03-03 16:16:10 [urllib3.connectionpool] DEBUG: https://www.bcg.com:443 \"GET /publications/2018/race-toward-engineering-4.0.aspx HTTP/1.1\" 200 51782\n"
     ]
    },
    {
     "name": "stdout",
     "output_type": "stream",
     "text": [
      "https://www.bcg.com/publications/2018/race-toward-engineering-4.0.aspx\n"
     ]
    },
    {
     "name": "stderr",
     "output_type": "stream",
     "text": [
      "2020-03-03 16:16:14 [scrapy.core.engine] DEBUG: Crawled (200) <GET https://www.bcg.com/publications/2018/what-is-holding-back-digital-shared-services.aspx> (referer: None)\n",
      "2020-03-03 16:16:15 [urllib3.connectionpool] DEBUG: Starting new HTTPS connection (1): www.bcg.com:443\n",
      "2020-03-03 16:16:15 [urllib3.connectionpool] DEBUG: https://www.bcg.com:443 \"GET /publications/2018/what-is-holding-back-digital-shared-services.aspx HTTP/1.1\" 200 None\n",
      "2020-03-03 16:16:15 [urllib3.connectionpool] DEBUG: Starting new HTTPS connection (1): www.bcg.com:443\n",
      "2020-03-03 16:16:15 [urllib3.connectionpool] DEBUG: https://www.bcg.com:443 \"GET /publications/2018/what-is-holding-back-digital-shared-services.aspx HTTP/1.1\" 200 53336\n"
     ]
    },
    {
     "name": "stdout",
     "output_type": "stream",
     "text": [
      "https://www.bcg.com/publications/2018/what-is-holding-back-digital-shared-services.aspx\n"
     ]
    },
    {
     "name": "stderr",
     "output_type": "stream",
     "text": [
      "2020-03-03 16:16:18 [scrapy.core.engine] DEBUG: Crawled (200) <GET https://www.bcg.com/publications/2018/artificial-intelligence-will-reshape-companies-industries-nations-interview-kai-fu-lee.aspx> (referer: None)\n",
      "2020-03-03 16:16:18 [urllib3.connectionpool] DEBUG: Starting new HTTPS connection (1): www.bcg.com:443\n",
      "2020-03-03 16:16:18 [urllib3.connectionpool] DEBUG: https://www.bcg.com:443 \"GET /publications/2018/artificial-intelligence-will-reshape-companies-industries-nations-interview-kai-fu-lee.aspx HTTP/1.1\" 200 53654\n",
      "2020-03-03 16:16:18 [urllib3.connectionpool] DEBUG: Starting new HTTPS connection (1): www.bcg.com:443\n",
      "2020-03-03 16:16:18 [urllib3.connectionpool] DEBUG: https://www.bcg.com:443 \"GET /publications/2018/artificial-intelligence-will-reshape-companies-industries-nations-interview-kai-fu-lee.aspx HTTP/1.1\" 200 53654\n"
     ]
    },
    {
     "name": "stdout",
     "output_type": "stream",
     "text": [
      "https://www.bcg.com/publications/2018/artificial-intelligence-will-reshape-companies-industries-nations-interview-kai-fu-lee.aspx\n"
     ]
    },
    {
     "name": "stderr",
     "output_type": "stream",
     "text": [
      "2020-03-03 16:16:18 [scrapy.core.engine] DEBUG: Crawled (200) <GET https://www.bcg.com/publications/2018/prescription-for-blockchain-healthcare.aspx> (referer: None)\n",
      "2020-03-03 16:16:18 [urllib3.connectionpool] DEBUG: Starting new HTTPS connection (1): www.bcg.com:443\n",
      "2020-03-03 16:16:18 [urllib3.connectionpool] DEBUG: https://www.bcg.com:443 \"GET /publications/2018/prescription-for-blockchain-healthcare.aspx HTTP/1.1\" 200 55250\n",
      "2020-03-03 16:16:18 [urllib3.connectionpool] DEBUG: Starting new HTTPS connection (1): www.bcg.com:443\n",
      "2020-03-03 16:16:18 [urllib3.connectionpool] DEBUG: https://www.bcg.com:443 \"GET /publications/2018/prescription-for-blockchain-healthcare.aspx HTTP/1.1\" 200 55250\n"
     ]
    },
    {
     "name": "stdout",
     "output_type": "stream",
     "text": [
      "https://www.bcg.com/publications/2018/prescription-for-blockchain-healthcare.aspx\n"
     ]
    },
    {
     "name": "stderr",
     "output_type": "stream",
     "text": [
      "2020-03-03 16:16:18 [scrapy.core.engine] DEBUG: Crawled (200) <GET https://www.bcg.com/publications/2018/artificial-intelligence-factory-future.aspx> (referer: None)\n",
      "2020-03-03 16:16:18 [urllib3.connectionpool] DEBUG: Starting new HTTPS connection (1): www.bcg.com:443\n",
      "2020-03-03 16:16:18 [urllib3.connectionpool] DEBUG: https://www.bcg.com:443 \"GET /publications/2018/artificial-intelligence-factory-future.aspx HTTP/1.1\" 200 58736\n",
      "2020-03-03 16:16:19 [urllib3.connectionpool] DEBUG: Starting new HTTPS connection (1): www.bcg.com:443\n",
      "2020-03-03 16:16:19 [urllib3.connectionpool] DEBUG: https://www.bcg.com:443 \"GET /publications/2018/artificial-intelligence-factory-future.aspx HTTP/1.1\" 200 58736\n"
     ]
    },
    {
     "name": "stdout",
     "output_type": "stream",
     "text": [
      "https://www.bcg.com/publications/2018/artificial-intelligence-factory-future.aspx\n"
     ]
    },
    {
     "name": "stderr",
     "output_type": "stream",
     "text": [
      "2020-03-03 16:16:21 [scrapy.core.engine] DEBUG: Crawled (200) <GET https://www.bcg.com/publications/2018/coming-quantum-leap-computing.aspx> (referer: None)\n",
      "2020-03-03 16:16:21 [urllib3.connectionpool] DEBUG: Starting new HTTPS connection (1): www.bcg.com:443\n",
      "2020-03-03 16:16:21 [urllib3.connectionpool] DEBUG: https://www.bcg.com:443 \"GET /publications/2018/coming-quantum-leap-computing.aspx HTTP/1.1\" 200 60092\n",
      "2020-03-03 16:16:21 [urllib3.connectionpool] DEBUG: Starting new HTTPS connection (1): www.bcg.com:443\n",
      "2020-03-03 16:16:21 [urllib3.connectionpool] DEBUG: https://www.bcg.com:443 \"GET /publications/2018/coming-quantum-leap-computing.aspx HTTP/1.1\" 200 60092\n"
     ]
    },
    {
     "name": "stdout",
     "output_type": "stream",
     "text": [
      "https://www.bcg.com/publications/2018/coming-quantum-leap-computing.aspx\n"
     ]
    },
    {
     "name": "stderr",
     "output_type": "stream",
     "text": [
      "2020-03-03 16:16:22 [scrapy.core.engine] DEBUG: Crawled (200) <GET https://www.bcg.com/publications/2018/onslaught-new-rivals-parcel-and-express.aspx> (referer: None)\n",
      "2020-03-03 16:16:22 [scrapy.core.engine] DEBUG: Crawled (200) <GET https://www.bcg.com/publications/2018/how-ai-robotics-will-disrupt-defense-industry.aspx> (referer: None)\n",
      "2020-03-03 16:16:22 [urllib3.connectionpool] DEBUG: Starting new HTTPS connection (1): www.bcg.com:443\n"
     ]
    },
    {
     "name": "stdout",
     "output_type": "stream",
     "text": [
      "https://www.bcg.com/publications/2018/onslaught-new-rivals-parcel-and-express.aspx\n"
     ]
    },
    {
     "name": "stderr",
     "output_type": "stream",
     "text": [
      "2020-03-03 16:16:22 [urllib3.connectionpool] DEBUG: https://www.bcg.com:443 \"GET /publications/2018/onslaught-new-rivals-parcel-and-express.aspx HTTP/1.1\" 200 None\n",
      "2020-03-03 16:16:22 [urllib3.connectionpool] DEBUG: Starting new HTTPS connection (1): www.bcg.com:443\n",
      "2020-03-03 16:16:22 [urllib3.connectionpool] DEBUG: https://www.bcg.com:443 \"GET /publications/2018/onslaught-new-rivals-parcel-and-express.aspx HTTP/1.1\" 200 56155\n",
      "2020-03-03 16:16:22 [urllib3.connectionpool] DEBUG: Starting new HTTPS connection (1): www.bcg.com:443\n",
      "2020-03-03 16:16:22 [urllib3.connectionpool] DEBUG: https://www.bcg.com:443 \"GET /publications/2018/how-ai-robotics-will-disrupt-defense-industry.aspx HTTP/1.1\" 200 52816\n",
      "2020-03-03 16:16:22 [urllib3.connectionpool] DEBUG: Starting new HTTPS connection (1): www.bcg.com:443\n",
      "2020-03-03 16:16:22 [urllib3.connectionpool] DEBUG: https://www.bcg.com:443 \"GET /publications/2018/how-ai-robotics-will-disrupt-defense-industry.aspx HTTP/1.1\" 200 52816\n",
      "2020-03-03 16:16:22 [scrapy.core.engine] DEBUG: Crawled (200) <GET https://www.bcg.com/publications/2018/ceo-guide-talent-management-today.aspx> (referer: None)\n"
     ]
    },
    {
     "name": "stdout",
     "output_type": "stream",
     "text": [
      "https://www.bcg.com/publications/2018/how-ai-robotics-will-disrupt-defense-industry.aspx\n"
     ]
    },
    {
     "name": "stderr",
     "output_type": "stream",
     "text": [
      "2020-03-03 16:16:22 [scrapy.core.engine] DEBUG: Crawled (200) <GET https://www.bcg.com/publications/2019/putting-value-first-digital-operations.aspx> (referer: None)\n",
      "2020-03-03 16:16:22 [urllib3.connectionpool] DEBUG: Starting new HTTPS connection (1): www.bcg.com:443\n",
      "2020-03-03 16:16:22 [urllib3.connectionpool] DEBUG: https://www.bcg.com:443 \"GET /publications/2018/ceo-guide-talent-management-today.aspx HTTP/1.1\" 200 53270\n",
      "2020-03-03 16:16:23 [urllib3.connectionpool] DEBUG: Starting new HTTPS connection (1): www.bcg.com:443\n",
      "2020-03-03 16:16:23 [urllib3.connectionpool] DEBUG: https://www.bcg.com:443 \"GET /publications/2018/ceo-guide-talent-management-today.aspx HTTP/1.1\" 200 53270\n"
     ]
    },
    {
     "name": "stdout",
     "output_type": "stream",
     "text": [
      "https://www.bcg.com/publications/2018/ceo-guide-talent-management-today.aspx\n"
     ]
    },
    {
     "name": "stderr",
     "output_type": "stream",
     "text": [
      "2020-03-03 16:16:23 [scrapy.core.engine] DEBUG: Crawled (200) <GET https://www.bcg.com/publications/2018/ideas-emotions-innovation-riding-amazement-cycle.aspx> (referer: None)\n",
      "2020-03-03 16:16:23 [urllib3.connectionpool] DEBUG: Starting new HTTPS connection (1): www.bcg.com:443\n",
      "2020-03-03 16:16:23 [urllib3.connectionpool] DEBUG: https://www.bcg.com:443 \"GET /publications/2019/putting-value-first-digital-operations.aspx HTTP/1.1\" 200 60698\n",
      "2020-03-03 16:16:23 [urllib3.connectionpool] DEBUG: Starting new HTTPS connection (1): www.bcg.com:443\n",
      "2020-03-03 16:16:23 [urllib3.connectionpool] DEBUG: https://www.bcg.com:443 \"GET /publications/2019/putting-value-first-digital-operations.aspx HTTP/1.1\" 200 60698\n"
     ]
    },
    {
     "name": "stdout",
     "output_type": "stream",
     "text": [
      "https://www.bcg.com/publications/2019/putting-value-first-digital-operations.aspx\n"
     ]
    },
    {
     "name": "stderr",
     "output_type": "stream",
     "text": [
      "2020-03-03 16:16:23 [scrapy.core.engine] DEBUG: Crawled (200) <GET https://www.bcg.com/publications/2018/how-utilities-can-boost-workforce-productivity-digital.aspx> (referer: None)\n",
      "2020-03-03 16:16:23 [urllib3.connectionpool] DEBUG: Starting new HTTPS connection (1): www.bcg.com:443\n",
      "2020-03-03 16:16:23 [urllib3.connectionpool] DEBUG: https://www.bcg.com:443 \"GET /publications/2018/ideas-emotions-innovation-riding-amazement-cycle.aspx HTTP/1.1\" 200 51194\n",
      "2020-03-03 16:16:23 [urllib3.connectionpool] DEBUG: Starting new HTTPS connection (1): www.bcg.com:443\n",
      "2020-03-03 16:16:23 [urllib3.connectionpool] DEBUG: https://www.bcg.com:443 \"GET /publications/2018/ideas-emotions-innovation-riding-amazement-cycle.aspx HTTP/1.1\" 200 51194\n"
     ]
    },
    {
     "name": "stdout",
     "output_type": "stream",
     "text": [
      "https://www.bcg.com/publications/2018/ideas-emotions-innovation-riding-amazement-cycle.aspx\n"
     ]
    },
    {
     "name": "stderr",
     "output_type": "stream",
     "text": [
      "2020-03-03 16:16:23 [scrapy.core.engine] DEBUG: Crawled (200) <GET https://www.bcg.com/publications/2018/how-governments-are-sparking-growth-creative-industries.aspx> (referer: None)\n",
      "2020-03-03 16:16:23 [urllib3.connectionpool] DEBUG: Starting new HTTPS connection (1): www.bcg.com:443\n",
      "2020-03-03 16:16:23 [urllib3.connectionpool] DEBUG: https://www.bcg.com:443 \"GET /publications/2018/how-utilities-can-boost-workforce-productivity-digital.aspx HTTP/1.1\" 200 53206\n",
      "2020-03-03 16:16:23 [urllib3.connectionpool] DEBUG: Starting new HTTPS connection (1): www.bcg.com:443\n",
      "2020-03-03 16:16:23 [urllib3.connectionpool] DEBUG: https://www.bcg.com:443 \"GET /publications/2018/how-utilities-can-boost-workforce-productivity-digital.aspx HTTP/1.1\" 200 53206\n",
      "2020-03-03 16:16:23 [scrapy.core.engine] DEBUG: Crawled (200) <GET https://www.bcg.com/publications/2018/strategy-games-mind.aspx> (referer: None)\n",
      "2020-03-03 16:16:23 [urllib3.connectionpool] DEBUG: Starting new HTTPS connection (1): www.bcg.com:443\n"
     ]
    },
    {
     "name": "stdout",
     "output_type": "stream",
     "text": [
      "https://www.bcg.com/publications/2018/how-utilities-can-boost-workforce-productivity-digital.aspx\n",
      "https://www.bcg.com/publications/2018/how-governments-are-sparking-growth-creative-industries.aspx\n"
     ]
    },
    {
     "name": "stderr",
     "output_type": "stream",
     "text": [
      "2020-03-03 16:16:23 [urllib3.connectionpool] DEBUG: https://www.bcg.com:443 \"GET /publications/2018/how-governments-are-sparking-growth-creative-industries.aspx HTTP/1.1\" 200 54715\n",
      "2020-03-03 16:16:23 [urllib3.connectionpool] DEBUG: Starting new HTTPS connection (1): www.bcg.com:443\n",
      "2020-03-03 16:16:23 [urllib3.connectionpool] DEBUG: https://www.bcg.com:443 \"GET /publications/2018/how-governments-are-sparking-growth-creative-industries.aspx HTTP/1.1\" 200 54715\n",
      "2020-03-03 16:16:23 [scrapy.core.engine] DEBUG: Crawled (200) <GET https://www.bcg.com/publications/2018/what-trump-tariffs-mean-for-global-business.aspx> (referer: None)\n",
      "2020-03-03 16:16:23 [urllib3.connectionpool] DEBUG: Starting new HTTPS connection (1): www.bcg.com:443\n",
      "2020-03-03 16:16:23 [urllib3.connectionpool] DEBUG: https://www.bcg.com:443 \"GET /publications/2018/strategy-games-mind.aspx HTTP/1.1\" 200 49799\n",
      "2020-03-03 16:16:24 [urllib3.connectionpool] DEBUG: Starting new HTTPS connection (1): www.bcg.com:443\n",
      "2020-03-03 16:16:24 [urllib3.connectionpool] DEBUG: https://www.bcg.com:443 \"GET /publications/2018/strategy-games-mind.aspx HTTP/1.1\" 200 None\n"
     ]
    },
    {
     "name": "stdout",
     "output_type": "stream",
     "text": [
      "https://www.bcg.com/publications/2018/strategy-games-mind.aspx\n"
     ]
    },
    {
     "name": "stderr",
     "output_type": "stream",
     "text": [
      "2020-03-03 16:16:24 [scrapy.core.engine] DEBUG: Crawled (200) <GET https://www.bcg.com/publications/2018/stars-aligning-southern-california-next-great-tech-ecoysystem.aspx> (referer: None)\n",
      "2020-03-03 16:16:24 [urllib3.connectionpool] DEBUG: Starting new HTTPS connection (1): www.bcg.com:443\n",
      "2020-03-03 16:16:24 [urllib3.connectionpool] DEBUG: https://www.bcg.com:443 \"GET /publications/2018/what-trump-tariffs-mean-for-global-business.aspx HTTP/1.1\" 200 52167\n",
      "2020-03-03 16:16:24 [urllib3.connectionpool] DEBUG: Starting new HTTPS connection (1): www.bcg.com:443\n",
      "2020-03-03 16:16:24 [urllib3.connectionpool] DEBUG: https://www.bcg.com:443 \"GET /publications/2018/what-trump-tariffs-mean-for-global-business.aspx HTTP/1.1\" 200 52167\n"
     ]
    },
    {
     "name": "stdout",
     "output_type": "stream",
     "text": [
      "https://www.bcg.com/publications/2018/what-trump-tariffs-mean-for-global-business.aspx\n"
     ]
    },
    {
     "name": "stderr",
     "output_type": "stream",
     "text": [
      "2020-03-03 16:16:24 [scrapy.core.engine] DEBUG: Crawled (200) <GET https://www.bcg.com/publications/2018/global-corporate-banking-2018-unlocking-success-through-digital.aspx> (referer: None)\n",
      "2020-03-03 16:16:24 [urllib3.connectionpool] DEBUG: Starting new HTTPS connection (1): www.bcg.com:443\n",
      "2020-03-03 16:16:24 [urllib3.connectionpool] DEBUG: https://www.bcg.com:443 \"GET /publications/2018/stars-aligning-southern-california-next-great-tech-ecoysystem.aspx HTTP/1.1\" 200 59722\n",
      "2020-03-03 16:16:24 [urllib3.connectionpool] DEBUG: Starting new HTTPS connection (1): www.bcg.com:443\n",
      "2020-03-03 16:16:24 [urllib3.connectionpool] DEBUG: https://www.bcg.com:443 \"GET /publications/2018/stars-aligning-southern-california-next-great-tech-ecoysystem.aspx HTTP/1.1\" 200 59722\n"
     ]
    },
    {
     "name": "stdout",
     "output_type": "stream",
     "text": [
      "https://www.bcg.com/publications/2018/stars-aligning-southern-california-next-great-tech-ecoysystem.aspx\n",
      "https://www.bcg.com/publications/2018/global-corporate-banking-2018-unlocking-success-through-digital.aspx\n"
     ]
    },
    {
     "name": "stderr",
     "output_type": "stream",
     "text": [
      "2020-03-03 16:16:24 [urllib3.connectionpool] DEBUG: Starting new HTTPS connection (1): www.bcg.com:443\n",
      "2020-03-03 16:16:24 [urllib3.connectionpool] DEBUG: https://www.bcg.com:443 \"GET /publications/2018/global-corporate-banking-2018-unlocking-success-through-digital.aspx HTTP/1.1\" 200 57103\n",
      "2020-03-03 16:16:24 [urllib3.connectionpool] DEBUG: Starting new HTTPS connection (1): www.bcg.com:443\n",
      "2020-03-03 16:16:24 [urllib3.connectionpool] DEBUG: https://www.bcg.com:443 \"GET /publications/2018/global-corporate-banking-2018-unlocking-success-through-digital.aspx HTTP/1.1\" 200 57103\n",
      "2020-03-03 16:16:24 [scrapy.core.engine] DEBUG: Crawled (200) <GET https://www.bcg.com/publications/2018/why-multilatinas-hold-key-latin-america-economic-future.aspx> (referer: None)\n",
      "2020-03-03 16:16:24 [scrapy.core.engine] DEBUG: Crawled (200) <GET https://www.bcg.com/publications/2018/life-cloud-interview-veolia-cio-jean-christophe-laissy.aspx> (referer: None)\n",
      "2020-03-03 16:16:24 [urllib3.connectionpool] DEBUG: Starting new HTTPS connection (1): www.bcg.com:443\n",
      "2020-03-03 16:16:24 [urllib3.connectionpool] DEBUG: https://www.bcg.com:443 \"GET /publications/2018/why-multilatinas-hold-key-latin-america-economic-future.aspx HTTP/1.1\" 200 57598\n",
      "2020-03-03 16:16:24 [urllib3.connectionpool] DEBUG: Starting new HTTPS connection (1): www.bcg.com:443\n",
      "2020-03-03 16:16:25 [urllib3.connectionpool] DEBUG: https://www.bcg.com:443 \"GET /publications/2018/why-multilatinas-hold-key-latin-america-economic-future.aspx HTTP/1.1\" 200 57598\n"
     ]
    },
    {
     "name": "stdout",
     "output_type": "stream",
     "text": [
      "https://www.bcg.com/publications/2018/why-multilatinas-hold-key-latin-america-economic-future.aspx\n",
      "https://www.bcg.com/publications/2018/life-cloud-interview-veolia-cio-jean-christophe-laissy.aspx\n"
     ]
    },
    {
     "name": "stderr",
     "output_type": "stream",
     "text": [
      "2020-03-03 16:16:25 [urllib3.connectionpool] DEBUG: Starting new HTTPS connection (1): www.bcg.com:443\n",
      "2020-03-03 16:16:25 [urllib3.connectionpool] DEBUG: https://www.bcg.com:443 \"GET /publications/2018/life-cloud-interview-veolia-cio-jean-christophe-laissy.aspx HTTP/1.1\" 200 47910\n",
      "2020-03-03 16:16:25 [urllib3.connectionpool] DEBUG: Starting new HTTPS connection (1): www.bcg.com:443\n",
      "2020-03-03 16:16:25 [urllib3.connectionpool] DEBUG: https://www.bcg.com:443 \"GET /publications/2018/life-cloud-interview-veolia-cio-jean-christophe-laissy.aspx HTTP/1.1\" 200 47910\n",
      "2020-03-03 16:16:32 [scrapy.core.engine] DEBUG: Crawled (200) <GET https://www.bcg.com/publications/2019/augmented-age-conversation-moonshot-thinker-maurice-conti.aspx> (referer: None)\n",
      "2020-03-03 16:16:32 [urllib3.connectionpool] DEBUG: Starting new HTTPS connection (1): www.bcg.com:443\n",
      "2020-03-03 16:16:32 [urllib3.connectionpool] DEBUG: https://www.bcg.com:443 \"GET /publications/2019/augmented-age-conversation-moonshot-thinker-maurice-conti.aspx HTTP/1.1\" 200 52170\n",
      "2020-03-03 16:16:32 [urllib3.connectionpool] DEBUG: Starting new HTTPS connection (1): www.bcg.com:443\n"
     ]
    },
    {
     "name": "stdout",
     "output_type": "stream",
     "text": [
      "https://www.bcg.com/publications/2019/augmented-age-conversation-moonshot-thinker-maurice-conti.aspx\n"
     ]
    },
    {
     "name": "stderr",
     "output_type": "stream",
     "text": [
      "2020-03-03 16:16:32 [urllib3.connectionpool] DEBUG: https://www.bcg.com:443 \"GET /publications/2019/augmented-age-conversation-moonshot-thinker-maurice-conti.aspx HTTP/1.1\" 200 52170\n",
      "2020-03-03 16:16:32 [scrapy.core.engine] DEBUG: Crawled (200) <GET https://www.bcg.com/publications/2018/chinese-insurers-digital-innovation.aspx> (referer: None)\n",
      "2020-03-03 16:16:33 [urllib3.connectionpool] DEBUG: Starting new HTTPS connection (1): www.bcg.com:443\n",
      "2020-03-03 16:16:33 [urllib3.connectionpool] DEBUG: https://www.bcg.com:443 \"GET /publications/2018/chinese-insurers-digital-innovation.aspx HTTP/1.1\" 200 52972\n",
      "2020-03-03 16:16:33 [urllib3.connectionpool] DEBUG: Starting new HTTPS connection (1): www.bcg.com:443\n",
      "2020-03-03 16:16:33 [urllib3.connectionpool] DEBUG: https://www.bcg.com:443 \"GET /publications/2018/chinese-insurers-digital-innovation.aspx HTTP/1.1\" 200 52972\n"
     ]
    },
    {
     "name": "stdout",
     "output_type": "stream",
     "text": [
      "https://www.bcg.com/publications/2018/chinese-insurers-digital-innovation.aspx\n"
     ]
    },
    {
     "name": "stderr",
     "output_type": "stream",
     "text": [
      "2020-03-03 16:16:33 [scrapy.core.engine] DEBUG: Crawled (200) <GET https://www.bcg.com/publications/2018/digital-common-sense-speed-new-scale.aspx> (referer: None)\n",
      "2020-03-03 16:16:33 [urllib3.connectionpool] DEBUG: Starting new HTTPS connection (1): www.bcg.com:443\n",
      "2020-03-03 16:16:33 [urllib3.connectionpool] DEBUG: https://www.bcg.com:443 \"GET /publications/2018/digital-common-sense-speed-new-scale.aspx HTTP/1.1\" 200 52583\n",
      "2020-03-03 16:16:33 [urllib3.connectionpool] DEBUG: Starting new HTTPS connection (1): www.bcg.com:443\n",
      "2020-03-03 16:16:33 [urllib3.connectionpool] DEBUG: https://www.bcg.com:443 \"GET /publications/2018/digital-common-sense-speed-new-scale.aspx HTTP/1.1\" 200 52583\n"
     ]
    },
    {
     "name": "stdout",
     "output_type": "stream",
     "text": [
      "https://www.bcg.com/publications/2018/digital-common-sense-speed-new-scale.aspx\n"
     ]
    },
    {
     "name": "stderr",
     "output_type": "stream",
     "text": [
      "2020-03-03 16:16:33 [scrapy.core.engine] DEBUG: Crawled (200) <GET https://www.bcg.com/publications/2018/power-limits-artificial-intelligence-interview-ibm-david-kenny.aspx> (referer: None)\n",
      "2020-03-03 16:16:33 [urllib3.connectionpool] DEBUG: Starting new HTTPS connection (1): www.bcg.com:443\n",
      "2020-03-03 16:16:33 [urllib3.connectionpool] DEBUG: https://www.bcg.com:443 \"GET /publications/2018/power-limits-artificial-intelligence-interview-ibm-david-kenny.aspx HTTP/1.1\" 200 48155\n",
      "2020-03-03 16:16:33 [urllib3.connectionpool] DEBUG: Starting new HTTPS connection (1): www.bcg.com:443\n",
      "2020-03-03 16:16:34 [urllib3.connectionpool] DEBUG: https://www.bcg.com:443 \"GET /publications/2018/power-limits-artificial-intelligence-interview-ibm-david-kenny.aspx HTTP/1.1\" 200 None\n"
     ]
    },
    {
     "name": "stdout",
     "output_type": "stream",
     "text": [
      "https://www.bcg.com/publications/2018/power-limits-artificial-intelligence-interview-ibm-david-kenny.aspx\n"
     ]
    },
    {
     "name": "stderr",
     "output_type": "stream",
     "text": [
      "2020-03-03 16:16:40 [scrapy.core.engine] DEBUG: Crawled (200) <GET https://www.bcg.com/publications/2018/tmt-value-creators-report-2018-unlock-value-creation-through-digital-enablers.aspx> (referer: None)\n",
      "2020-03-03 16:16:40 [urllib3.connectionpool] DEBUG: Starting new HTTPS connection (1): www.bcg.com:443\n",
      "2020-03-03 16:16:40 [urllib3.connectionpool] DEBUG: https://www.bcg.com:443 \"GET /publications/2018/tmt-value-creators-report-2018-unlock-value-creation-through-digital-enablers.aspx HTTP/1.1\" 200 53330\n",
      "2020-03-03 16:16:41 [urllib3.connectionpool] DEBUG: Starting new HTTPS connection (1): www.bcg.com:443\n",
      "2020-03-03 16:16:41 [urllib3.connectionpool] DEBUG: https://www.bcg.com:443 \"GET /publications/2018/tmt-value-creators-report-2018-unlock-value-creation-through-digital-enablers.aspx HTTP/1.1\" 200 53330\n"
     ]
    },
    {
     "name": "stdout",
     "output_type": "stream",
     "text": [
      "https://www.bcg.com/publications/2018/tmt-value-creators-report-2018-unlock-value-creation-through-digital-enablers.aspx\n"
     ]
    },
    {
     "name": "stderr",
     "output_type": "stream",
     "text": [
      "2020-03-03 16:16:43 [scrapy.core.engine] DEBUG: Crawled (200) <GET https://www.bcg.com/publications/2019/value-creation-in-tech-sector-despite-volatility.aspx> (referer: None)\n",
      "2020-03-03 16:16:43 [urllib3.connectionpool] DEBUG: Starting new HTTPS connection (1): www.bcg.com:443\n",
      "2020-03-03 16:16:43 [urllib3.connectionpool] DEBUG: https://www.bcg.com:443 \"GET /publications/2019/value-creation-in-tech-sector-despite-volatility.aspx HTTP/1.1\" 200 53104\n",
      "2020-03-03 16:16:43 [urllib3.connectionpool] DEBUG: Starting new HTTPS connection (1): www.bcg.com:443\n",
      "2020-03-03 16:16:43 [urllib3.connectionpool] DEBUG: https://www.bcg.com:443 \"GET /publications/2019/value-creation-in-tech-sector-despite-volatility.aspx HTTP/1.1\" 200 53104\n"
     ]
    },
    {
     "name": "stdout",
     "output_type": "stream",
     "text": [
      "https://www.bcg.com/publications/2019/value-creation-in-tech-sector-despite-volatility.aspx\n"
     ]
    },
    {
     "name": "stderr",
     "output_type": "stream",
     "text": [
      "2020-03-03 16:16:43 [scrapy.core.engine] DEBUG: Crawled (200) <GET https://www.bcg.com/publications/2018/global-risk-2018-future-proofing-bank-agenda.aspx> (referer: None)\n",
      "2020-03-03 16:16:43 [urllib3.connectionpool] DEBUG: Starting new HTTPS connection (1): www.bcg.com:443\n",
      "2020-03-03 16:16:43 [urllib3.connectionpool] DEBUG: https://www.bcg.com:443 \"GET /publications/2018/global-risk-2018-future-proofing-bank-agenda.aspx HTTP/1.1\" 200 62474\n",
      "2020-03-03 16:16:43 [urllib3.connectionpool] DEBUG: Starting new HTTPS connection (1): www.bcg.com:443\n",
      "2020-03-03 16:16:44 [urllib3.connectionpool] DEBUG: https://www.bcg.com:443 \"GET /publications/2018/global-risk-2018-future-proofing-bank-agenda.aspx HTTP/1.1\" 200 62474\n"
     ]
    },
    {
     "name": "stdout",
     "output_type": "stream",
     "text": [
      "https://www.bcg.com/publications/2018/global-risk-2018-future-proofing-bank-agenda.aspx\n"
     ]
    },
    {
     "name": "stderr",
     "output_type": "stream",
     "text": [
      "2020-03-03 16:16:44 [scrapy.core.engine] DEBUG: Crawled (200) <GET https://www.bcg.com/publications/2018/rbc-dave-mckay-reinventing-banking-digital-age.aspx> (referer: None)\n",
      "2020-03-03 16:16:44 [urllib3.connectionpool] DEBUG: Starting new HTTPS connection (1): www.bcg.com:443\n",
      "2020-03-03 16:16:44 [urllib3.connectionpool] DEBUG: https://www.bcg.com:443 \"GET /publications/2018/rbc-dave-mckay-reinventing-banking-digital-age.aspx HTTP/1.1\" 200 48049\n",
      "2020-03-03 16:16:44 [urllib3.connectionpool] DEBUG: Starting new HTTPS connection (1): www.bcg.com:443\n",
      "2020-03-03 16:16:44 [urllib3.connectionpool] DEBUG: https://www.bcg.com:443 \"GET /publications/2018/rbc-dave-mckay-reinventing-banking-digital-age.aspx HTTP/1.1\" 200 48049\n"
     ]
    },
    {
     "name": "stdout",
     "output_type": "stream",
     "text": [
      "https://www.bcg.com/publications/2018/rbc-dave-mckay-reinventing-banking-digital-age.aspx\n"
     ]
    },
    {
     "name": "stderr",
     "output_type": "stream",
     "text": [
      "2020-03-03 16:16:44 [scrapy.core.engine] DEBUG: Crawled (200) <GET https://www.bcg.com/publications/2018/reinventing-enterprise-digitally.aspx> (referer: None)\n",
      "2020-03-03 16:16:44 [urllib3.connectionpool] DEBUG: Starting new HTTPS connection (1): www.bcg.com:443\n",
      "2020-03-03 16:16:44 [urllib3.connectionpool] DEBUG: https://www.bcg.com:443 \"GET /publications/2018/reinventing-enterprise-digitally.aspx HTTP/1.1\" 200 51967\n",
      "2020-03-03 16:16:44 [urllib3.connectionpool] DEBUG: Starting new HTTPS connection (1): www.bcg.com:443\n",
      "2020-03-03 16:16:44 [urllib3.connectionpool] DEBUG: https://www.bcg.com:443 \"GET /publications/2018/reinventing-enterprise-digitally.aspx HTTP/1.1\" 200 51967\n"
     ]
    },
    {
     "name": "stdout",
     "output_type": "stream",
     "text": [
      "https://www.bcg.com/publications/2018/reinventing-enterprise-digitally.aspx\n"
     ]
    },
    {
     "name": "stderr",
     "output_type": "stream",
     "text": [
      "2020-03-03 16:16:44 [scrapy.core.engine] DEBUG: Crawled (200) <GET https://www.bcg.com/publications/2018/tmt-value-creators-report-2018-digital-natives-lead-battle.aspx> (referer: None)\n",
      "2020-03-03 16:16:44 [scrapy.core.engine] DEBUG: Crawled (200) <GET https://www.bcg.com/publications/2018/doubling-pharma-value-with-data-science.aspx> (referer: None)\n",
      "2020-03-03 16:16:44 [scrapy.core.engine] DEBUG: Crawled (200) <GET https://www.bcg.com/publications/2018/humanization-corporation.aspx> (referer: None)\n",
      "2020-03-03 16:16:44 [urllib3.connectionpool] DEBUG: Starting new HTTPS connection (1): www.bcg.com:443\n"
     ]
    },
    {
     "name": "stdout",
     "output_type": "stream",
     "text": [
      "https://www.bcg.com/publications/2018/tmt-value-creators-report-2018-digital-natives-lead-battle.aspx\n"
     ]
    },
    {
     "name": "stderr",
     "output_type": "stream",
     "text": [
      "2020-03-03 16:16:45 [urllib3.connectionpool] DEBUG: https://www.bcg.com:443 \"GET /publications/2018/tmt-value-creators-report-2018-digital-natives-lead-battle.aspx HTTP/1.1\" 200 None\n",
      "2020-03-03 16:16:45 [urllib3.connectionpool] DEBUG: Starting new HTTPS connection (1): www.bcg.com:443\n",
      "2020-03-03 16:16:45 [urllib3.connectionpool] DEBUG: https://www.bcg.com:443 \"GET /publications/2018/tmt-value-creators-report-2018-digital-natives-lead-battle.aspx HTTP/1.1\" 200 None\n",
      "2020-03-03 16:16:45 [scrapy.core.engine] DEBUG: Crawled (200) <GET https://www.bcg.com/publications/2018/digital-imperative-container-shipping.aspx> (referer: None)\n",
      "2020-03-03 16:16:45 [urllib3.connectionpool] DEBUG: Starting new HTTPS connection (1): www.bcg.com:443\n",
      "2020-03-03 16:16:45 [urllib3.connectionpool] DEBUG: https://www.bcg.com:443 \"GET /publications/2018/doubling-pharma-value-with-data-science.aspx HTTP/1.1\" 200 53066\n",
      "2020-03-03 16:16:45 [urllib3.connectionpool] DEBUG: Starting new HTTPS connection (1): www.bcg.com:443\n",
      "2020-03-03 16:16:45 [urllib3.connectionpool] DEBUG: https://www.bcg.com:443 \"GET /publications/2018/doubling-pharma-value-with-data-science.aspx HTTP/1.1\" 200 53066\n",
      "2020-03-03 16:16:45 [urllib3.connectionpool] DEBUG: Starting new HTTPS connection (1): www.bcg.com:443\n"
     ]
    },
    {
     "name": "stdout",
     "output_type": "stream",
     "text": [
      "https://www.bcg.com/publications/2018/doubling-pharma-value-with-data-science.aspx\n",
      "https://www.bcg.com/publications/2018/humanization-corporation.aspx\n"
     ]
    },
    {
     "name": "stderr",
     "output_type": "stream",
     "text": [
      "2020-03-03 16:16:45 [urllib3.connectionpool] DEBUG: https://www.bcg.com:443 \"GET /publications/2018/humanization-corporation.aspx HTTP/1.1\" 200 54943\n",
      "2020-03-03 16:16:45 [urllib3.connectionpool] DEBUG: Starting new HTTPS connection (1): www.bcg.com:443\n",
      "2020-03-03 16:16:45 [urllib3.connectionpool] DEBUG: https://www.bcg.com:443 \"GET /publications/2018/humanization-corporation.aspx HTTP/1.1\" 200 54943\n",
      "2020-03-03 16:16:45 [urllib3.connectionpool] DEBUG: Starting new HTTPS connection (1): www.bcg.com:443\n",
      "2020-03-03 16:16:45 [urllib3.connectionpool] DEBUG: https://www.bcg.com:443 \"GET /publications/2018/digital-imperative-container-shipping.aspx HTTP/1.1\" 200 56948\n",
      "2020-03-03 16:16:45 [urllib3.connectionpool] DEBUG: Starting new HTTPS connection (1): www.bcg.com:443\n",
      "2020-03-03 16:16:45 [urllib3.connectionpool] DEBUG: https://www.bcg.com:443 \"GET /publications/2018/digital-imperative-container-shipping.aspx HTTP/1.1\" 200 56948\n",
      "2020-03-03 16:16:46 [scrapy.core.engine] DEBUG: Crawled (200) <GET https://www.bcg.com/publications/2019/value-creation-in-digital-media.aspx> (referer: None)\n"
     ]
    },
    {
     "name": "stdout",
     "output_type": "stream",
     "text": [
      "https://www.bcg.com/publications/2018/digital-imperative-container-shipping.aspx\n"
     ]
    },
    {
     "name": "stderr",
     "output_type": "stream",
     "text": [
      "2020-03-03 16:16:46 [urllib3.connectionpool] DEBUG: Starting new HTTPS connection (1): www.bcg.com:443\n",
      "2020-03-03 16:16:46 [urllib3.connectionpool] DEBUG: https://www.bcg.com:443 \"GET /publications/2019/value-creation-in-digital-media.aspx HTTP/1.1\" 200 51821\n",
      "2020-03-03 16:16:46 [urllib3.connectionpool] DEBUG: Starting new HTTPS connection (1): www.bcg.com:443\n",
      "2020-03-03 16:16:46 [urllib3.connectionpool] DEBUG: https://www.bcg.com:443 \"GET /publications/2019/value-creation-in-digital-media.aspx HTTP/1.1\" 200 51821\n"
     ]
    },
    {
     "name": "stdout",
     "output_type": "stream",
     "text": [
      "https://www.bcg.com/publications/2019/value-creation-in-digital-media.aspx\n"
     ]
    },
    {
     "name": "stderr",
     "output_type": "stream",
     "text": [
      "2020-03-03 16:16:48 [scrapy.core.engine] DEBUG: Crawled (200) <GET https://www.bcg.com/publications/2018/tmt-value-creators-report-2018-technology-engine-digital-transformation.aspx> (referer: None)\n",
      "2020-03-03 16:16:48 [urllib3.connectionpool] DEBUG: Starting new HTTPS connection (1): www.bcg.com:443\n",
      "2020-03-03 16:16:48 [urllib3.connectionpool] DEBUG: https://www.bcg.com:443 \"GET /publications/2018/tmt-value-creators-report-2018-technology-engine-digital-transformation.aspx HTTP/1.1\" 200 53033\n",
      "2020-03-03 16:16:48 [urllib3.connectionpool] DEBUG: Starting new HTTPS connection (1): www.bcg.com:443\n",
      "2020-03-03 16:16:48 [urllib3.connectionpool] DEBUG: https://www.bcg.com:443 \"GET /publications/2018/tmt-value-creators-report-2018-technology-engine-digital-transformation.aspx HTTP/1.1\" 200 53033\n"
     ]
    },
    {
     "name": "stdout",
     "output_type": "stream",
     "text": [
      "https://www.bcg.com/publications/2018/tmt-value-creators-report-2018-technology-engine-digital-transformation.aspx\n"
     ]
    },
    {
     "name": "stderr",
     "output_type": "stream",
     "text": [
      "2020-03-03 16:16:48 [scrapy.core.engine] DEBUG: Crawled (200) <GET https://www.bcg.com/publications/2018/governing-age-disruption.aspx> (referer: None)\n",
      "2020-03-03 16:16:48 [scrapy.core.engine] DEBUG: Crawled (200) <GET https://www.bcg.com/publications/2018/most-innovative-companies-2018-organizing-digital.aspx> (referer: None)\n",
      "2020-03-03 16:16:48 [urllib3.connectionpool] DEBUG: Starting new HTTPS connection (1): www.bcg.com:443\n",
      "2020-03-03 16:16:48 [urllib3.connectionpool] DEBUG: https://www.bcg.com:443 \"GET /publications/2018/governing-age-disruption.aspx HTTP/1.1\" 200 54818\n",
      "2020-03-03 16:16:48 [urllib3.connectionpool] DEBUG: Starting new HTTPS connection (1): www.bcg.com:443\n",
      "2020-03-03 16:16:48 [urllib3.connectionpool] DEBUG: https://www.bcg.com:443 \"GET /publications/2018/governing-age-disruption.aspx HTTP/1.1\" 200 None\n"
     ]
    },
    {
     "name": "stdout",
     "output_type": "stream",
     "text": [
      "https://www.bcg.com/publications/2018/governing-age-disruption.aspx\n"
     ]
    },
    {
     "name": "stderr",
     "output_type": "stream",
     "text": [
      "2020-03-03 16:16:48 [scrapy.core.engine] DEBUG: Crawled (200) <GET https://www.bcg.com/publications/2018/most-innovative-companies-2018-how-digital-transforms-strategy.aspx> (referer: None)\n",
      "2020-03-03 16:16:48 [urllib3.connectionpool] DEBUG: Starting new HTTPS connection (1): www.bcg.com:443\n",
      "2020-03-03 16:16:49 [urllib3.connectionpool] DEBUG: https://www.bcg.com:443 \"GET /publications/2018/most-innovative-companies-2018-organizing-digital.aspx HTTP/1.1\" 200 50103\n",
      "2020-03-03 16:16:49 [urllib3.connectionpool] DEBUG: Starting new HTTPS connection (1): www.bcg.com:443\n"
     ]
    },
    {
     "name": "stdout",
     "output_type": "stream",
     "text": [
      "https://www.bcg.com/publications/2018/most-innovative-companies-2018-organizing-digital.aspx\n"
     ]
    },
    {
     "name": "stderr",
     "output_type": "stream",
     "text": [
      "2020-03-03 16:16:49 [urllib3.connectionpool] DEBUG: https://www.bcg.com:443 \"GET /publications/2018/most-innovative-companies-2018-organizing-digital.aspx HTTP/1.1\" 200 None\n",
      "2020-03-03 16:16:49 [urllib3.connectionpool] DEBUG: Starting new HTTPS connection (1): www.bcg.com:443\n",
      "2020-03-03 16:16:49 [urllib3.connectionpool] DEBUG: https://www.bcg.com:443 \"GET /publications/2018/most-innovative-companies-2018-how-digital-transforms-strategy.aspx HTTP/1.1\" 200 50243\n",
      "2020-03-03 16:16:49 [urllib3.connectionpool] DEBUG: Starting new HTTPS connection (1): www.bcg.com:443\n",
      "2020-03-03 16:16:49 [urllib3.connectionpool] DEBUG: https://www.bcg.com:443 \"GET /publications/2018/most-innovative-companies-2018-how-digital-transforms-strategy.aspx HTTP/1.1\" 200 50243\n",
      "2020-03-03 16:16:49 [scrapy.core.engine] DEBUG: Crawled (200) <GET https://www.bcg.com/publications/2018/build-buy-dilemma-artificial-intelligence.aspx> (referer: None)\n"
     ]
    },
    {
     "name": "stdout",
     "output_type": "stream",
     "text": [
      "https://www.bcg.com/publications/2018/most-innovative-companies-2018-how-digital-transforms-strategy.aspx\n"
     ]
    },
    {
     "name": "stderr",
     "output_type": "stream",
     "text": [
      "2020-03-03 16:16:49 [urllib3.connectionpool] DEBUG: Starting new HTTPS connection (1): www.bcg.com:443\n",
      "2020-03-03 16:16:49 [urllib3.connectionpool] DEBUG: https://www.bcg.com:443 \"GET /publications/2018/build-buy-dilemma-artificial-intelligence.aspx HTTP/1.1\" 200 52832\n",
      "2020-03-03 16:16:49 [urllib3.connectionpool] DEBUG: Starting new HTTPS connection (1): www.bcg.com:443\n",
      "2020-03-03 16:16:50 [urllib3.connectionpool] DEBUG: https://www.bcg.com:443 \"GET /publications/2018/build-buy-dilemma-artificial-intelligence.aspx HTTP/1.1\" 200 52832\n"
     ]
    },
    {
     "name": "stdout",
     "output_type": "stream",
     "text": [
      "https://www.bcg.com/publications/2018/build-buy-dilemma-artificial-intelligence.aspx\n"
     ]
    },
    {
     "name": "stderr",
     "output_type": "stream",
     "text": [
      "2020-03-03 16:16:51 [scrapy.core.engine] DEBUG: Crawled (200) <GET https://www.bcg.com/publications/2018/new-technology-frontier-mining.aspx> (referer: None)\n",
      "2020-03-03 16:16:51 [urllib3.connectionpool] DEBUG: Starting new HTTPS connection (1): www.bcg.com:443\n",
      "2020-03-03 16:16:51 [urllib3.connectionpool] DEBUG: https://www.bcg.com:443 \"GET /publications/2018/new-technology-frontier-mining.aspx HTTP/1.1\" 200 52089\n",
      "2020-03-03 16:16:51 [urllib3.connectionpool] DEBUG: Starting new HTTPS connection (1): www.bcg.com:443\n",
      "2020-03-03 16:16:51 [urllib3.connectionpool] DEBUG: https://www.bcg.com:443 \"GET /publications/2018/new-technology-frontier-mining.aspx HTTP/1.1\" 200 52089\n"
     ]
    },
    {
     "name": "stdout",
     "output_type": "stream",
     "text": [
      "https://www.bcg.com/publications/2018/new-technology-frontier-mining.aspx\n"
     ]
    },
    {
     "name": "stderr",
     "output_type": "stream",
     "text": [
      "2020-03-03 16:16:51 [scrapy.core.engine] DEBUG: Crawled (200) <GET https://www.bcg.com/publications/2017/power-digital-commercial-banking-interview-vish-jain.aspx> (referer: None)\n",
      "2020-03-03 16:16:51 [urllib3.connectionpool] DEBUG: Starting new HTTPS connection (1): www.bcg.com:443\n",
      "2020-03-03 16:16:51 [urllib3.connectionpool] DEBUG: https://www.bcg.com:443 \"GET /publications/2017/power-digital-commercial-banking-interview-vish-jain.aspx HTTP/1.1\" 200 49420\n",
      "2020-03-03 16:16:51 [urllib3.connectionpool] DEBUG: Starting new HTTPS connection (1): www.bcg.com:443\n"
     ]
    },
    {
     "name": "stdout",
     "output_type": "stream",
     "text": [
      "https://www.bcg.com/publications/2017/power-digital-commercial-banking-interview-vish-jain.aspx\n"
     ]
    },
    {
     "name": "stderr",
     "output_type": "stream",
     "text": [
      "2020-03-03 16:16:51 [urllib3.connectionpool] DEBUG: https://www.bcg.com:443 \"GET /publications/2017/power-digital-commercial-banking-interview-vish-jain.aspx HTTP/1.1\" 200 49420\n",
      "2020-03-03 16:16:52 [scrapy.core.engine] DEBUG: Crawled (200) <GET https://www.bcg.com/publications/2017/consumer-goods-companies-build-buy-broker-2017-consumer-value-creators.aspx> (referer: None)\n",
      "2020-03-03 16:16:52 [urllib3.connectionpool] DEBUG: Starting new HTTPS connection (1): www.bcg.com:443\n",
      "2020-03-03 16:16:52 [urllib3.connectionpool] DEBUG: https://www.bcg.com:443 \"GET /publications/2017/consumer-goods-companies-build-buy-broker-2017-consumer-value-creators.aspx HTTP/1.1\" 200 51215\n",
      "2020-03-03 16:16:52 [urllib3.connectionpool] DEBUG: Starting new HTTPS connection (1): www.bcg.com:443\n",
      "2020-03-03 16:16:52 [urllib3.connectionpool] DEBUG: https://www.bcg.com:443 \"GET /publications/2017/consumer-goods-companies-build-buy-broker-2017-consumer-value-creators.aspx HTTP/1.1\" 200 51215\n"
     ]
    },
    {
     "name": "stdout",
     "output_type": "stream",
     "text": [
      "https://www.bcg.com/publications/2017/consumer-goods-companies-build-buy-broker-2017-consumer-value-creators.aspx\n"
     ]
    },
    {
     "name": "stderr",
     "output_type": "stream",
     "text": [
      "2020-03-03 16:16:52 [scrapy.core.engine] DEBUG: Crawled (200) <GET https://www.bcg.com/publications/2017/how-internet-of-things-change-pricing-of-things.aspx> (referer: None)\n",
      "2020-03-03 16:16:52 [urllib3.connectionpool] DEBUG: Starting new HTTPS connection (1): www.bcg.com:443\n",
      "2020-03-03 16:16:52 [urllib3.connectionpool] DEBUG: https://www.bcg.com:443 \"GET /publications/2017/how-internet-of-things-change-pricing-of-things.aspx HTTP/1.1\" 200 53039\n",
      "2020-03-03 16:16:52 [urllib3.connectionpool] DEBUG: Starting new HTTPS connection (1): www.bcg.com:443\n",
      "2020-03-03 16:16:52 [urllib3.connectionpool] DEBUG: https://www.bcg.com:443 \"GET /publications/2017/how-internet-of-things-change-pricing-of-things.aspx HTTP/1.1\" 200 53039\n"
     ]
    },
    {
     "name": "stdout",
     "output_type": "stream",
     "text": [
      "https://www.bcg.com/publications/2017/how-internet-of-things-change-pricing-of-things.aspx\n"
     ]
    },
    {
     "name": "stderr",
     "output_type": "stream",
     "text": [
      "2020-03-03 16:16:52 [scrapy.core.engine] DEBUG: Crawled (200) <GET https://www.bcg.com/publications/2017/medtech-manufacturing-inflection-point.aspx> (referer: None)\n",
      "2020-03-03 16:16:52 [urllib3.connectionpool] DEBUG: Starting new HTTPS connection (1): www.bcg.com:443\n",
      "2020-03-03 16:16:53 [urllib3.connectionpool] DEBUG: https://www.bcg.com:443 \"GET /publications/2017/medtech-manufacturing-inflection-point.aspx HTTP/1.1\" 200 None\n",
      "2020-03-03 16:16:53 [urllib3.connectionpool] DEBUG: Starting new HTTPS connection (1): www.bcg.com:443\n"
     ]
    },
    {
     "name": "stdout",
     "output_type": "stream",
     "text": [
      "https://www.bcg.com/publications/2017/medtech-manufacturing-inflection-point.aspx\n"
     ]
    },
    {
     "name": "stderr",
     "output_type": "stream",
     "text": [
      "2020-03-03 16:16:53 [urllib3.connectionpool] DEBUG: https://www.bcg.com:443 \"GET /publications/2017/medtech-manufacturing-inflection-point.aspx HTTP/1.1\" 200 50581\n",
      "2020-03-03 16:16:54 [scrapy.core.engine] DEBUG: Crawled (200) <GET https://www.bcg.com/publications/2018/pushing-value-envelope-procurement.aspx> (referer: None)\n",
      "2020-03-03 16:16:54 [urllib3.connectionpool] DEBUG: Starting new HTTPS connection (1): www.bcg.com:443\n",
      "2020-03-03 16:16:54 [urllib3.connectionpool] DEBUG: https://www.bcg.com:443 \"GET /publications/2018/pushing-value-envelope-procurement.aspx HTTP/1.1\" 200 47906\n",
      "2020-03-03 16:16:54 [urllib3.connectionpool] DEBUG: Starting new HTTPS connection (1): www.bcg.com:443\n"
     ]
    },
    {
     "name": "stdout",
     "output_type": "stream",
     "text": [
      "https://www.bcg.com/publications/2018/pushing-value-envelope-procurement.aspx\n"
     ]
    },
    {
     "name": "stderr",
     "output_type": "stream",
     "text": [
      "2020-03-03 16:16:55 [urllib3.connectionpool] DEBUG: https://www.bcg.com:443 \"GET /publications/2018/pushing-value-envelope-procurement.aspx HTTP/1.1\" 200 47906\n",
      "2020-03-03 16:16:55 [scrapy.core.engine] DEBUG: Crawled (200) <GET https://www.bcg.com/publications/2017/infographic-what-is-holding-back-artificial-intelligence.aspx> (referer: None)\n",
      "2020-03-03 16:16:55 [scrapy.core.engine] DEBUG: Crawled (200) <GET https://www.bcg.com/publications/2017/cutting-costs-building-resilience-upstream-oil-gas.aspx> (referer: None)\n",
      "2020-03-03 16:16:55 [urllib3.connectionpool] DEBUG: Starting new HTTPS connection (1): www.bcg.com:443\n",
      "2020-03-03 16:16:55 [urllib3.connectionpool] DEBUG: https://www.bcg.com:443 \"GET /publications/2017/infographic-what-is-holding-back-artificial-intelligence.aspx HTTP/1.1\" 200 None\n",
      "2020-03-03 16:16:55 [urllib3.connectionpool] DEBUG: Starting new HTTPS connection (1): www.bcg.com:443\n"
     ]
    },
    {
     "name": "stdout",
     "output_type": "stream",
     "text": [
      "https://www.bcg.com/publications/2017/infographic-what-is-holding-back-artificial-intelligence.aspx\n"
     ]
    },
    {
     "name": "stderr",
     "output_type": "stream",
     "text": [
      "2020-03-03 16:16:55 [urllib3.connectionpool] DEBUG: https://www.bcg.com:443 \"GET /publications/2017/infographic-what-is-holding-back-artificial-intelligence.aspx HTTP/1.1\" 200 44703\n",
      "2020-03-03 16:16:55 [urllib3.connectionpool] DEBUG: Starting new HTTPS connection (1): www.bcg.com:443\n",
      "2020-03-03 16:16:55 [urllib3.connectionpool] DEBUG: https://www.bcg.com:443 \"GET /publications/2017/cutting-costs-building-resilience-upstream-oil-gas.aspx HTTP/1.1\" 200 50067\n",
      "2020-03-03 16:16:55 [urllib3.connectionpool] DEBUG: Starting new HTTPS connection (1): www.bcg.com:443\n",
      "2020-03-03 16:16:55 [urllib3.connectionpool] DEBUG: https://www.bcg.com:443 \"GET /publications/2017/cutting-costs-building-resilience-upstream-oil-gas.aspx HTTP/1.1\" 200 50067\n"
     ]
    },
    {
     "name": "stdout",
     "output_type": "stream",
     "text": [
      "https://www.bcg.com/publications/2017/cutting-costs-building-resilience-upstream-oil-gas.aspx\n"
     ]
    },
    {
     "name": "stderr",
     "output_type": "stream",
     "text": [
      "2020-03-03 16:17:01 [scrapy.extensions.logstats] INFO: Crawled 238 pages (at 49 pages/min), scraped 0 items (at 0 items/min)\n",
      "2020-03-03 16:17:04 [scrapy.core.engine] DEBUG: Crawled (200) <GET https://www.bcg.com/publications/2017/growth-disruption-takeaways-bcg-north-american-strategy-leadership-summit.aspx> (referer: None)\n",
      "2020-03-03 16:17:04 [urllib3.connectionpool] DEBUG: Starting new HTTPS connection (1): www.bcg.com:443\n",
      "2020-03-03 16:17:04 [urllib3.connectionpool] DEBUG: https://www.bcg.com:443 \"GET /publications/2017/growth-disruption-takeaways-bcg-north-american-strategy-leadership-summit.aspx HTTP/1.1\" 200 45710\n",
      "2020-03-03 16:17:04 [urllib3.connectionpool] DEBUG: Starting new HTTPS connection (1): www.bcg.com:443\n",
      "2020-03-03 16:17:04 [urllib3.connectionpool] DEBUG: https://www.bcg.com:443 \"GET /publications/2017/growth-disruption-takeaways-bcg-north-american-strategy-leadership-summit.aspx HTTP/1.1\" 200 45710\n",
      "2020-03-03 16:17:04 [scrapy.core.engine] DEBUG: Crawled (200) <GET https://www.bcg.com/publications/2017/technology-digital-big-data-artificial-intelligence-interview-with-mit-andrew-mcafee.aspx> (referer: None)\n"
     ]
    },
    {
     "name": "stdout",
     "output_type": "stream",
     "text": [
      "https://www.bcg.com/publications/2017/growth-disruption-takeaways-bcg-north-american-strategy-leadership-summit.aspx\n"
     ]
    },
    {
     "name": "stderr",
     "output_type": "stream",
     "text": [
      "2020-03-03 16:17:04 [urllib3.connectionpool] DEBUG: Starting new HTTPS connection (1): www.bcg.com:443\n",
      "2020-03-03 16:17:04 [urllib3.connectionpool] DEBUG: https://www.bcg.com:443 \"GET /publications/2017/technology-digital-big-data-artificial-intelligence-interview-with-mit-andrew-mcafee.aspx HTTP/1.1\" 200 46607\n",
      "2020-03-03 16:17:04 [urllib3.connectionpool] DEBUG: Starting new HTTPS connection (1): www.bcg.com:443\n",
      "2020-03-03 16:17:04 [urllib3.connectionpool] DEBUG: https://www.bcg.com:443 \"GET /publications/2017/technology-digital-big-data-artificial-intelligence-interview-with-mit-andrew-mcafee.aspx HTTP/1.1\" 200 46607\n",
      "2020-03-03 16:17:04 [scrapy.core.engine] DEBUG: Crawled (200) <GET https://www.bcg.com/publications/2017/globalization-new-business-models-global-landscape.aspx> (referer: None)\n"
     ]
    },
    {
     "name": "stdout",
     "output_type": "stream",
     "text": [
      "https://www.bcg.com/publications/2017/technology-digital-big-data-artificial-intelligence-interview-with-mit-andrew-mcafee.aspx\n"
     ]
    },
    {
     "name": "stderr",
     "output_type": "stream",
     "text": [
      "2020-03-03 16:17:05 [urllib3.connectionpool] DEBUG: Starting new HTTPS connection (1): www.bcg.com:443\n",
      "2020-03-03 16:17:05 [urllib3.connectionpool] DEBUG: https://www.bcg.com:443 \"GET /publications/2017/globalization-new-business-models-global-landscape.aspx HTTP/1.1\" 200 57474\n",
      "2020-03-03 16:17:05 [urllib3.connectionpool] DEBUG: Starting new HTTPS connection (1): www.bcg.com:443\n",
      "2020-03-03 16:17:05 [urllib3.connectionpool] DEBUG: https://www.bcg.com:443 \"GET /publications/2017/globalization-new-business-models-global-landscape.aspx HTTP/1.1\" 200 57474\n"
     ]
    },
    {
     "name": "stdout",
     "output_type": "stream",
     "text": [
      "https://www.bcg.com/publications/2017/globalization-new-business-models-global-landscape.aspx\n"
     ]
    },
    {
     "name": "stderr",
     "output_type": "stream",
     "text": [
      "2020-03-03 16:17:12 [scrapy.core.engine] DEBUG: Crawled (200) <GET https://www.bcg.com/publications/2017/cybersecurity-assist-local-governments-need-fractured-world.aspx> (referer: None)\n",
      "2020-03-03 16:17:12 [urllib3.connectionpool] DEBUG: Starting new HTTPS connection (1): www.bcg.com:443\n",
      "2020-03-03 16:17:12 [urllib3.connectionpool] DEBUG: https://www.bcg.com:443 \"GET /publications/2017/cybersecurity-assist-local-governments-need-fractured-world.aspx HTTP/1.1\" 200 49213\n",
      "2020-03-03 16:17:12 [urllib3.connectionpool] DEBUG: Starting new HTTPS connection (1): www.bcg.com:443\n"
     ]
    },
    {
     "name": "stdout",
     "output_type": "stream",
     "text": [
      "https://www.bcg.com/publications/2017/cybersecurity-assist-local-governments-need-fractured-world.aspx\n"
     ]
    },
    {
     "name": "stderr",
     "output_type": "stream",
     "text": [
      "2020-03-03 16:17:12 [urllib3.connectionpool] DEBUG: https://www.bcg.com:443 \"GET /publications/2017/cybersecurity-assist-local-governments-need-fractured-world.aspx HTTP/1.1\" 200 49213\n",
      "2020-03-03 16:17:12 [scrapy.core.engine] DEBUG: Crawled (200) <GET https://www.bcg.com/publications/2017/industry-4.0-lean-manufacturing-five-lessons-frontlines.aspx> (referer: None)\n",
      "2020-03-03 16:17:12 [urllib3.connectionpool] DEBUG: Starting new HTTPS connection (1): www.bcg.com:443\n",
      "2020-03-03 16:17:12 [urllib3.connectionpool] DEBUG: https://www.bcg.com:443 \"GET /publications/2017/industry-4.0-lean-manufacturing-five-lessons-frontlines.aspx HTTP/1.1\" 200 55384\n",
      "2020-03-03 16:17:12 [urllib3.connectionpool] DEBUG: Starting new HTTPS connection (1): www.bcg.com:443\n",
      "2020-03-03 16:17:13 [urllib3.connectionpool] DEBUG: https://www.bcg.com:443 \"GET /publications/2017/industry-4.0-lean-manufacturing-five-lessons-frontlines.aspx HTTP/1.1\" 200 55384\n"
     ]
    },
    {
     "name": "stdout",
     "output_type": "stream",
     "text": [
      "https://www.bcg.com/publications/2017/industry-4.0-lean-manufacturing-five-lessons-frontlines.aspx\n"
     ]
    },
    {
     "name": "stderr",
     "output_type": "stream",
     "text": [
      "2020-03-03 16:17:13 [scrapy.core.engine] DEBUG: Crawled (200) <GET https://www.bcg.com/publications/2017/technology-value-creation-strategy-new-digital-reality-restaurants.aspx> (referer: None)\n",
      "2020-03-03 16:17:13 [urllib3.connectionpool] DEBUG: Starting new HTTPS connection (1): www.bcg.com:443\n",
      "2020-03-03 16:17:13 [urllib3.connectionpool] DEBUG: https://www.bcg.com:443 \"GET /publications/2017/technology-value-creation-strategy-new-digital-reality-restaurants.aspx HTTP/1.1\" 200 59042\n",
      "2020-03-03 16:17:13 [urllib3.connectionpool] DEBUG: Starting new HTTPS connection (1): www.bcg.com:443\n",
      "2020-03-03 16:17:13 [urllib3.connectionpool] DEBUG: https://www.bcg.com:443 \"GET /publications/2017/technology-value-creation-strategy-new-digital-reality-restaurants.aspx HTTP/1.1\" 200 59042\n"
     ]
    },
    {
     "name": "stdout",
     "output_type": "stream",
     "text": [
      "https://www.bcg.com/publications/2017/technology-value-creation-strategy-new-digital-reality-restaurants.aspx\n"
     ]
    },
    {
     "name": "stderr",
     "output_type": "stream",
     "text": [
      "2020-03-03 16:17:13 [scrapy.core.engine] DEBUG: Crawled (200) <GET https://www.bcg.com/publications/2017/function-excellence-how-digital-cfo-transforming-finance.aspx> (referer: None)\n",
      "2020-03-03 16:17:13 [urllib3.connectionpool] DEBUG: Starting new HTTPS connection (1): www.bcg.com:443\n",
      "2020-03-03 16:17:13 [urllib3.connectionpool] DEBUG: https://www.bcg.com:443 \"GET /publications/2017/function-excellence-how-digital-cfo-transforming-finance.aspx HTTP/1.1\" 200 49752\n",
      "2020-03-03 16:17:13 [urllib3.connectionpool] DEBUG: Starting new HTTPS connection (1): www.bcg.com:443\n"
     ]
    },
    {
     "name": "stdout",
     "output_type": "stream",
     "text": [
      "https://www.bcg.com/publications/2017/function-excellence-how-digital-cfo-transforming-finance.aspx\n"
     ]
    },
    {
     "name": "stderr",
     "output_type": "stream",
     "text": [
      "2020-03-03 16:17:13 [urllib3.connectionpool] DEBUG: https://www.bcg.com:443 \"GET /publications/2017/function-excellence-how-digital-cfo-transforming-finance.aspx HTTP/1.1\" 200 None\n",
      "2020-03-03 16:17:13 [scrapy.core.engine] DEBUG: Crawled (200) <GET https://www.bcg.com/industries/transportation-travel-tourism/a-new-blueprint-for-pricing-and-revenue-management-in-travel-and-tourism.aspx> (referer: None)\n",
      "2020-03-03 16:17:14 [urllib3.connectionpool] DEBUG: Starting new HTTPS connection (1): www.bcg.com:443\n"
     ]
    },
    {
     "name": "stdout",
     "output_type": "stream",
     "text": [
      "https://www.bcg.com/industries/transportation-travel-tourism/a-new-blueprint-for-pricing-and-revenue-management-in-travel-and-tourism.aspx\n"
     ]
    },
    {
     "name": "stderr",
     "output_type": "stream",
     "text": [
      "2020-03-03 16:17:14 [urllib3.connectionpool] DEBUG: https://www.bcg.com:443 \"GET /industries/transportation-travel-tourism/a-new-blueprint-for-pricing-and-revenue-management-in-travel-and-tourism.aspx HTTP/1.1\" 200 None\n",
      "2020-03-03 16:17:14 [urllib3.connectionpool] DEBUG: Starting new HTTPS connection (1): www.bcg.com:443\n",
      "2020-03-03 16:17:14 [urllib3.connectionpool] DEBUG: https://www.bcg.com:443 \"GET /industries/transportation-travel-tourism/a-new-blueprint-for-pricing-and-revenue-management-in-travel-and-tourism.aspx HTTP/1.1\" 200 None\n",
      "2020-03-03 16:17:20 [scrapy.core.engine] DEBUG: Crawled (200) <GET https://www.bcg.com/publications/2017/strategy-globalization-new-digital-world-hegemony-harmony.aspx> (referer: None)\n",
      "2020-03-03 16:17:20 [urllib3.connectionpool] DEBUG: Starting new HTTPS connection (1): www.bcg.com:443\n",
      "2020-03-03 16:17:20 [urllib3.connectionpool] DEBUG: https://www.bcg.com:443 \"GET /publications/2017/strategy-globalization-new-digital-world-hegemony-harmony.aspx HTTP/1.1\" 200 54101\n",
      "2020-03-03 16:17:20 [urllib3.connectionpool] DEBUG: Starting new HTTPS connection (1): www.bcg.com:443\n",
      "2020-03-03 16:17:20 [urllib3.connectionpool] DEBUG: https://www.bcg.com:443 \"GET /publications/2017/strategy-globalization-new-digital-world-hegemony-harmony.aspx HTTP/1.1\" 200 54101\n"
     ]
    },
    {
     "name": "stdout",
     "output_type": "stream",
     "text": [
      "https://www.bcg.com/publications/2017/strategy-globalization-new-digital-world-hegemony-harmony.aspx\n"
     ]
    },
    {
     "name": "stderr",
     "output_type": "stream",
     "text": [
      "2020-03-03 16:17:20 [scrapy.core.engine] DEBUG: Crawled (200) <GET https://www.bcg.com/publications/2017/human-resources-digital-organization-hr-disruption-leadership-discussion.aspx> (referer: None)\n",
      "2020-03-03 16:17:21 [urllib3.connectionpool] DEBUG: Starting new HTTPS connection (1): www.bcg.com:443\n",
      "2020-03-03 16:17:21 [urllib3.connectionpool] DEBUG: https://www.bcg.com:443 \"GET /publications/2017/human-resources-digital-organization-hr-disruption-leadership-discussion.aspx HTTP/1.1\" 200 48148\n",
      "2020-03-03 16:17:21 [urllib3.connectionpool] DEBUG: Starting new HTTPS connection (1): www.bcg.com:443\n",
      "2020-03-03 16:17:21 [urllib3.connectionpool] DEBUG: https://www.bcg.com:443 \"GET /publications/2017/human-resources-digital-organization-hr-disruption-leadership-discussion.aspx HTTP/1.1\" 200 48148\n"
     ]
    },
    {
     "name": "stdout",
     "output_type": "stream",
     "text": [
      "https://www.bcg.com/publications/2017/human-resources-digital-organization-hr-disruption-leadership-discussion.aspx\n"
     ]
    },
    {
     "name": "stderr",
     "output_type": "stream",
     "text": [
      "2020-03-03 16:17:21 [scrapy.core.engine] DEBUG: Crawled (200) <GET https://www.bcg.com/publications/2017/operations-technology-contact-centers-people-digital-age.aspx> (referer: None)\n",
      "2020-03-03 16:17:21 [urllib3.connectionpool] DEBUG: Starting new HTTPS connection (1): www.bcg.com:443\n"
     ]
    },
    {
     "name": "stdout",
     "output_type": "stream",
     "text": [
      "https://www.bcg.com/publications/2017/operations-technology-contact-centers-people-digital-age.aspx\n"
     ]
    },
    {
     "name": "stderr",
     "output_type": "stream",
     "text": [
      "2020-03-03 16:17:21 [urllib3.connectionpool] DEBUG: https://www.bcg.com:443 \"GET /publications/2017/operations-technology-contact-centers-people-digital-age.aspx HTTP/1.1\" 200 50780\n",
      "2020-03-03 16:17:21 [urllib3.connectionpool] DEBUG: Starting new HTTPS connection (1): www.bcg.com:443\n",
      "2020-03-03 16:17:22 [urllib3.connectionpool] DEBUG: https://www.bcg.com:443 \"GET /publications/2017/operations-technology-contact-centers-people-digital-age.aspx HTTP/1.1\" 200 None\n",
      "2020-03-03 16:17:26 [scrapy.core.engine] DEBUG: Crawled (200) <GET https://www.bcg.com/publications/2017/leadership-talent-people-organization-how-regain-lost-art-reflection.aspx> (referer: None)\n",
      "2020-03-03 16:17:26 [scrapy.core.engine] DEBUG: Crawled (200) <GET https://www.bcg.com/publications/2017/technology-organizing-for-digital-future.aspx> (referer: None)\n",
      "2020-03-03 16:17:26 [urllib3.connectionpool] DEBUG: Starting new HTTPS connection (1): www.bcg.com:443\n",
      "2020-03-03 16:17:26 [urllib3.connectionpool] DEBUG: https://www.bcg.com:443 \"GET /publications/2017/leadership-talent-people-organization-how-regain-lost-art-reflection.aspx HTTP/1.1\" 200 49587\n",
      "2020-03-03 16:17:26 [urllib3.connectionpool] DEBUG: Starting new HTTPS connection (1): www.bcg.com:443\n",
      "2020-03-03 16:17:26 [urllib3.connectionpool] DEBUG: https://www.bcg.com:443 \"GET /publications/2017/leadership-talent-people-organization-how-regain-lost-art-reflection.aspx HTTP/1.1\" 200 49587\n",
      "2020-03-03 16:17:26 [urllib3.connectionpool] DEBUG: Starting new HTTPS connection (1): www.bcg.com:443\n"
     ]
    },
    {
     "name": "stdout",
     "output_type": "stream",
     "text": [
      "https://www.bcg.com/publications/2017/leadership-talent-people-organization-how-regain-lost-art-reflection.aspx\n",
      "https://www.bcg.com/publications/2017/technology-organizing-for-digital-future.aspx\n"
     ]
    },
    {
     "name": "stderr",
     "output_type": "stream",
     "text": [
      "2020-03-03 16:17:26 [urllib3.connectionpool] DEBUG: https://www.bcg.com:443 \"GET /publications/2017/technology-organizing-for-digital-future.aspx HTTP/1.1\" 200 50546\n",
      "2020-03-03 16:17:26 [urllib3.connectionpool] DEBUG: Starting new HTTPS connection (1): www.bcg.com:443\n",
      "2020-03-03 16:17:26 [urllib3.connectionpool] DEBUG: https://www.bcg.com:443 \"GET /publications/2017/technology-organizing-for-digital-future.aspx HTTP/1.1\" 200 50546\n",
      "2020-03-03 16:17:26 [scrapy.core.engine] DEBUG: Crawled (200) <GET https://www.bcg.com/publications/2017/automotive-making-autonomous-vehicles-a-reality.aspx> (referer: None)\n",
      "2020-03-03 16:17:27 [urllib3.connectionpool] DEBUG: Starting new HTTPS connection (1): www.bcg.com:443\n",
      "2020-03-03 16:17:27 [urllib3.connectionpool] DEBUG: https://www.bcg.com:443 \"GET /publications/2017/automotive-making-autonomous-vehicles-a-reality.aspx HTTP/1.1\" 200 61527\n",
      "2020-03-03 16:17:27 [urllib3.connectionpool] DEBUG: Starting new HTTPS connection (1): www.bcg.com:443\n",
      "2020-03-03 16:17:27 [urllib3.connectionpool] DEBUG: https://www.bcg.com:443 \"GET /publications/2017/automotive-making-autonomous-vehicles-a-reality.aspx HTTP/1.1\" 200 61527\n"
     ]
    },
    {
     "name": "stdout",
     "output_type": "stream",
     "text": [
      "https://www.bcg.com/publications/2017/automotive-making-autonomous-vehicles-a-reality.aspx\n"
     ]
    },
    {
     "name": "stderr",
     "output_type": "stream",
     "text": [
      "2020-03-03 16:17:31 [scrapy.core.engine] DEBUG: Crawled (200) <GET https://www.bcg.com/publications/2017/strategy-strategic-planning-measuring-managing-corporate-vitality.aspx> (referer: None)\n",
      "2020-03-03 16:17:31 [urllib3.connectionpool] DEBUG: Starting new HTTPS connection (1): www.bcg.com:443\n",
      "2020-03-03 16:17:31 [urllib3.connectionpool] DEBUG: https://www.bcg.com:443 \"GET /publications/2017/strategy-strategic-planning-measuring-managing-corporate-vitality.aspx HTTP/1.1\" 200 52026\n",
      "2020-03-03 16:17:31 [urllib3.connectionpool] DEBUG: Starting new HTTPS connection (1): www.bcg.com:443\n"
     ]
    },
    {
     "name": "stdout",
     "output_type": "stream",
     "text": [
      "https://www.bcg.com/publications/2017/strategy-strategic-planning-measuring-managing-corporate-vitality.aspx\n"
     ]
    },
    {
     "name": "stderr",
     "output_type": "stream",
     "text": [
      "2020-03-03 16:17:31 [urllib3.connectionpool] DEBUG: https://www.bcg.com:443 \"GET /publications/2017/strategy-strategic-planning-measuring-managing-corporate-vitality.aspx HTTP/1.1\" 200 52026\n",
      "2020-03-03 16:17:37 [scrapy.core.engine] DEBUG: Crawled (200) <GET https://www.bcg.com/publications/2017/transaction-banking-financial-institutions-global-payments-2017-deepening-customer-relationship.aspx> (referer: None)\n",
      "2020-03-03 16:17:37 [urllib3.connectionpool] DEBUG: Starting new HTTPS connection (1): www.bcg.com:443\n",
      "2020-03-03 16:17:37 [urllib3.connectionpool] DEBUG: https://www.bcg.com:443 \"GET /publications/2017/transaction-banking-financial-institutions-global-payments-2017-deepening-customer-relationship.aspx HTTP/1.1\" 200 48230\n",
      "2020-03-03 16:17:37 [urllib3.connectionpool] DEBUG: Starting new HTTPS connection (1): www.bcg.com:443\n",
      "2020-03-03 16:17:37 [urllib3.connectionpool] DEBUG: https://www.bcg.com:443 \"GET /publications/2017/transaction-banking-financial-institutions-global-payments-2017-deepening-customer-relationship.aspx HTTP/1.1\" 200 48230\n",
      "2020-03-03 16:17:37 [scrapy.core.engine] DEBUG: Crawled (200) <GET https://www.bcg.com/publications/2017/metals-mining-value-ai.aspx> (referer: None)\n"
     ]
    },
    {
     "name": "stdout",
     "output_type": "stream",
     "text": [
      "https://www.bcg.com/publications/2017/transaction-banking-financial-institutions-global-payments-2017-deepening-customer-relationship.aspx\n"
     ]
    },
    {
     "name": "stderr",
     "output_type": "stream",
     "text": [
      "2020-03-03 16:17:37 [urllib3.connectionpool] DEBUG: Starting new HTTPS connection (1): www.bcg.com:443\n",
      "2020-03-03 16:17:37 [urllib3.connectionpool] DEBUG: https://www.bcg.com:443 \"GET /publications/2017/metals-mining-value-ai.aspx HTTP/1.1\" 200 46968\n",
      "2020-03-03 16:17:37 [urllib3.connectionpool] DEBUG: Starting new HTTPS connection (1): www.bcg.com:443\n",
      "2020-03-03 16:17:37 [urllib3.connectionpool] DEBUG: https://www.bcg.com:443 \"GET /publications/2017/metals-mining-value-ai.aspx HTTP/1.1\" 200 46968\n",
      "2020-03-03 16:17:37 [scrapy.core.engine] DEBUG: Crawled (200) <GET https://www.bcg.com/publications/2017/corporate-development-finance-technology-digital-2017-m-and-a-report-technology-takeover.aspx> (referer: None)\n"
     ]
    },
    {
     "name": "stdout",
     "output_type": "stream",
     "text": [
      "https://www.bcg.com/publications/2017/metals-mining-value-ai.aspx\n"
     ]
    },
    {
     "name": "stderr",
     "output_type": "stream",
     "text": [
      "2020-03-03 16:17:37 [urllib3.connectionpool] DEBUG: Starting new HTTPS connection (1): www.bcg.com:443\n",
      "2020-03-03 16:17:37 [urllib3.connectionpool] DEBUG: https://www.bcg.com:443 \"GET /publications/2017/corporate-development-finance-technology-digital-2017-m-and-a-report-technology-takeover.aspx HTTP/1.1\" 200 50777\n",
      "2020-03-03 16:17:37 [urllib3.connectionpool] DEBUG: Starting new HTTPS connection (1): www.bcg.com:443\n",
      "2020-03-03 16:17:37 [urllib3.connectionpool] DEBUG: https://www.bcg.com:443 \"GET /publications/2017/corporate-development-finance-technology-digital-2017-m-and-a-report-technology-takeover.aspx HTTP/1.1\" 200 50777\n"
     ]
    },
    {
     "name": "stdout",
     "output_type": "stream",
     "text": [
      "https://www.bcg.com/publications/2017/corporate-development-finance-technology-digital-2017-m-and-a-report-technology-takeover.aspx\n"
     ]
    },
    {
     "name": "stderr",
     "output_type": "stream",
     "text": [
      "2020-03-03 16:17:40 [scrapy.core.engine] DEBUG: Crawled (200) <GET https://www.bcg.com/publications/2018/avoiding-hidden-hazards-industry-4.0.aspx> (referer: None)\n",
      "2020-03-03 16:17:40 [urllib3.connectionpool] DEBUG: Starting new HTTPS connection (1): www.bcg.com:443\n",
      "2020-03-03 16:17:41 [urllib3.connectionpool] DEBUG: https://www.bcg.com:443 \"GET /publications/2018/avoiding-hidden-hazards-industry-4.0.aspx HTTP/1.1\" 200 53147\n",
      "2020-03-03 16:17:41 [urllib3.connectionpool] DEBUG: Starting new HTTPS connection (1): www.bcg.com:443\n",
      "2020-03-03 16:17:41 [urllib3.connectionpool] DEBUG: https://www.bcg.com:443 \"GET /publications/2018/avoiding-hidden-hazards-industry-4.0.aspx HTTP/1.1\" 200 53147\n"
     ]
    },
    {
     "name": "stdout",
     "output_type": "stream",
     "text": [
      "https://www.bcg.com/publications/2018/avoiding-hidden-hazards-industry-4.0.aspx\n"
     ]
    },
    {
     "name": "stderr",
     "output_type": "stream",
     "text": [
      "2020-03-03 16:17:41 [scrapy.core.engine] DEBUG: Crawled (200) <GET https://www.bcg.com/publications/2017/advanced-analytics-media-companies-reimagine-data-digital-world.aspx> (referer: None)\n",
      "2020-03-03 16:17:41 [urllib3.connectionpool] DEBUG: Starting new HTTPS connection (1): www.bcg.com:443\n",
      "2020-03-03 16:17:41 [urllib3.connectionpool] DEBUG: https://www.bcg.com:443 \"GET /publications/2017/advanced-analytics-media-companies-reimagine-data-digital-world.aspx HTTP/1.1\" 200 48354\n",
      "2020-03-03 16:17:41 [urllib3.connectionpool] DEBUG: Starting new HTTPS connection (1): www.bcg.com:443\n",
      "2020-03-03 16:17:41 [urllib3.connectionpool] DEBUG: https://www.bcg.com:443 \"GET /publications/2017/advanced-analytics-media-companies-reimagine-data-digital-world.aspx HTTP/1.1\" 200 48354\n"
     ]
    },
    {
     "name": "stdout",
     "output_type": "stream",
     "text": [
      "https://www.bcg.com/publications/2017/advanced-analytics-media-companies-reimagine-data-digital-world.aspx\n"
     ]
    },
    {
     "name": "stderr",
     "output_type": "stream",
     "text": [
      "2020-03-03 16:17:41 [scrapy.core.engine] DEBUG: Crawled (200) <GET https://www.bcg.com/publications/2017/strategy-technology-digital-is-your-business-ready-artificial-intelligence.aspx> (referer: None)\n",
      "2020-03-03 16:17:41 [urllib3.connectionpool] DEBUG: Starting new HTTPS connection (1): www.bcg.com:443\n"
     ]
    },
    {
     "name": "stdout",
     "output_type": "stream",
     "text": [
      "https://www.bcg.com/publications/2017/strategy-technology-digital-is-your-business-ready-artificial-intelligence.aspx\n"
     ]
    },
    {
     "name": "stderr",
     "output_type": "stream",
     "text": [
      "2020-03-03 16:17:42 [urllib3.connectionpool] DEBUG: https://www.bcg.com:443 \"GET /publications/2017/strategy-technology-digital-is-your-business-ready-artificial-intelligence.aspx HTTP/1.1\" 200 51350\n",
      "2020-03-03 16:17:42 [urllib3.connectionpool] DEBUG: Starting new HTTPS connection (1): www.bcg.com:443\n",
      "2020-03-03 16:17:42 [urllib3.connectionpool] DEBUG: https://www.bcg.com:443 \"GET /publications/2017/strategy-technology-digital-is-your-business-ready-artificial-intelligence.aspx HTTP/1.1\" 200 51350\n",
      "2020-03-03 16:17:42 [scrapy.core.engine] DEBUG: Crawled (200) <GET https://www.bcg.com/publications/2017/financial-institutions-seven-rules-cost-excellence-banking.aspx> (referer: None)\n",
      "2020-03-03 16:17:42 [urllib3.connectionpool] DEBUG: Starting new HTTPS connection (1): www.bcg.com:443\n",
      "2020-03-03 16:17:42 [urllib3.connectionpool] DEBUG: https://www.bcg.com:443 \"GET /publications/2017/financial-institutions-seven-rules-cost-excellence-banking.aspx HTTP/1.1\" 200 48512\n",
      "2020-03-03 16:17:42 [urllib3.connectionpool] DEBUG: Starting new HTTPS connection (1): www.bcg.com:443\n",
      "2020-03-03 16:17:42 [urllib3.connectionpool] DEBUG: https://www.bcg.com:443 \"GET /publications/2017/financial-institutions-seven-rules-cost-excellence-banking.aspx HTTP/1.1\" 200 48512\n"
     ]
    },
    {
     "name": "stdout",
     "output_type": "stream",
     "text": [
      "https://www.bcg.com/publications/2017/financial-institutions-seven-rules-cost-excellence-banking.aspx\n"
     ]
    },
    {
     "name": "stderr",
     "output_type": "stream",
     "text": [
      "2020-03-03 16:17:44 [scrapy.core.engine] DEBUG: Crawled (200) <GET https://www.bcg.com/publications/2017/automotive-technology-digital-evolving-offerings-off-highway-oems.aspx> (referer: None)\n",
      "2020-03-03 16:17:44 [urllib3.connectionpool] DEBUG: Starting new HTTPS connection (1): www.bcg.com:443\n",
      "2020-03-03 16:17:44 [urllib3.connectionpool] DEBUG: https://www.bcg.com:443 \"GET /publications/2017/automotive-technology-digital-evolving-offerings-off-highway-oems.aspx HTTP/1.1\" 200 52316\n",
      "2020-03-03 16:17:44 [urllib3.connectionpool] DEBUG: Starting new HTTPS connection (1): www.bcg.com:443\n",
      "2020-03-03 16:17:45 [urllib3.connectionpool] DEBUG: https://www.bcg.com:443 \"GET /publications/2017/automotive-technology-digital-evolving-offerings-off-highway-oems.aspx HTTP/1.1\" 200 None\n"
     ]
    },
    {
     "name": "stdout",
     "output_type": "stream",
     "text": [
      "https://www.bcg.com/publications/2017/automotive-technology-digital-evolving-offerings-off-highway-oems.aspx\n"
     ]
    },
    {
     "name": "stderr",
     "output_type": "stream",
     "text": [
      "2020-03-03 16:17:48 [scrapy.core.engine] DEBUG: Crawled (200) <GET https://www.bcg.com/publications/2017/financial-institutions-technology-digital-getting-bank-automation-beyond-pilot-phase.aspx> (referer: None)\n",
      "2020-03-03 16:17:48 [urllib3.connectionpool] DEBUG: Starting new HTTPS connection (1): www.bcg.com:443\n",
      "2020-03-03 16:17:48 [urllib3.connectionpool] DEBUG: https://www.bcg.com:443 \"GET /publications/2017/financial-institutions-technology-digital-getting-bank-automation-beyond-pilot-phase.aspx HTTP/1.1\" 200 51199\n",
      "2020-03-03 16:17:48 [urllib3.connectionpool] DEBUG: Starting new HTTPS connection (1): www.bcg.com:443\n",
      "2020-03-03 16:17:48 [urllib3.connectionpool] DEBUG: https://www.bcg.com:443 \"GET /publications/2017/financial-institutions-technology-digital-getting-bank-automation-beyond-pilot-phase.aspx HTTP/1.1\" 200 None\n"
     ]
    },
    {
     "name": "stdout",
     "output_type": "stream",
     "text": [
      "https://www.bcg.com/publications/2017/financial-institutions-technology-digital-getting-bank-automation-beyond-pilot-phase.aspx\n"
     ]
    },
    {
     "name": "stderr",
     "output_type": "stream",
     "text": [
      "2020-03-03 16:17:51 [scrapy.core.engine] DEBUG: Crawled (200) <GET https://www.bcg.com/publications/2017/telecommunications-technology-digital-tebit-2017-executive-report-time-double-down-ai-robotics.aspx> (referer: None)\n",
      "2020-03-03 16:17:51 [urllib3.connectionpool] DEBUG: Starting new HTTPS connection (1): www.bcg.com:443\n",
      "2020-03-03 16:17:51 [urllib3.connectionpool] DEBUG: https://www.bcg.com:443 \"GET /publications/2017/telecommunications-technology-digital-tebit-2017-executive-report-time-double-down-ai-robotics.aspx HTTP/1.1\" 200 50784\n"
     ]
    },
    {
     "name": "stdout",
     "output_type": "stream",
     "text": [
      "https://www.bcg.com/publications/2017/telecommunications-technology-digital-tebit-2017-executive-report-time-double-down-ai-robotics.aspx\n"
     ]
    },
    {
     "name": "stderr",
     "output_type": "stream",
     "text": [
      "2020-03-03 16:17:51 [urllib3.connectionpool] DEBUG: Starting new HTTPS connection (1): www.bcg.com:443\n",
      "2020-03-03 16:17:51 [urllib3.connectionpool] DEBUG: https://www.bcg.com:443 \"GET /publications/2017/telecommunications-technology-digital-tebit-2017-executive-report-time-double-down-ai-robotics.aspx HTTP/1.1\" 200 50784\n",
      "2020-03-03 16:17:57 [scrapy.core.engine] DEBUG: Crawled (200) <GET https://www.bcg.com/publications/2017/digital-go-to-market-transformation-building-strategic-pricing-organization.aspx> (referer: None)\n",
      "2020-03-03 16:17:57 [urllib3.connectionpool] DEBUG: Starting new HTTPS connection (1): www.bcg.com:443\n",
      "2020-03-03 16:17:57 [urllib3.connectionpool] DEBUG: https://www.bcg.com:443 \"GET /publications/2017/digital-go-to-market-transformation-building-strategic-pricing-organization.aspx HTTP/1.1\" 200 50245\n",
      "2020-03-03 16:17:57 [urllib3.connectionpool] DEBUG: Starting new HTTPS connection (1): www.bcg.com:443\n",
      "2020-03-03 16:17:57 [urllib3.connectionpool] DEBUG: https://www.bcg.com:443 \"GET /publications/2017/digital-go-to-market-transformation-building-strategic-pricing-organization.aspx HTTP/1.1\" 200 50245\n"
     ]
    },
    {
     "name": "stdout",
     "output_type": "stream",
     "text": [
      "https://www.bcg.com/publications/2017/digital-go-to-market-transformation-building-strategic-pricing-organization.aspx\n"
     ]
    },
    {
     "name": "stderr",
     "output_type": "stream",
     "text": [
      "2020-03-03 16:18:01 [scrapy.extensions.logstats] INFO: Crawled 264 pages (at 26 pages/min), scraped 0 items (at 0 items/min)\n",
      "2020-03-03 16:18:03 [scrapy.core.engine] DEBUG: Crawled (200) <GET https://www.bcg.com/publications/2017/principal-investors-winning-emerging-market-private-equity-strategies-brazil-new-economic-reality.aspx> (referer: None)\n",
      "2020-03-03 16:18:03 [urllib3.connectionpool] DEBUG: Starting new HTTPS connection (1): www.bcg.com:443\n",
      "2020-03-03 16:18:03 [urllib3.connectionpool] DEBUG: https://www.bcg.com:443 \"GET /publications/2017/principal-investors-winning-emerging-market-private-equity-strategies-brazil-new-economic-reality.aspx HTTP/1.1\" 200 55503\n",
      "2020-03-03 16:18:03 [urllib3.connectionpool] DEBUG: Starting new HTTPS connection (1): www.bcg.com:443\n",
      "2020-03-03 16:18:03 [urllib3.connectionpool] DEBUG: https://www.bcg.com:443 \"GET /publications/2017/principal-investors-winning-emerging-market-private-equity-strategies-brazil-new-economic-reality.aspx HTTP/1.1\" 200 55503\n"
     ]
    },
    {
     "name": "stdout",
     "output_type": "stream",
     "text": [
      "https://www.bcg.com/publications/2017/principal-investors-winning-emerging-market-private-equity-strategies-brazil-new-economic-reality.aspx\n"
     ]
    },
    {
     "name": "stderr",
     "output_type": "stream",
     "text": [
      "2020-03-03 16:18:03 [scrapy.core.engine] DEBUG: Crawled (200) <GET https://www.bcg.com/publications/2017/people-organization-technology-how-gain-develop-digital-talent-skills.aspx> (referer: None)\n",
      "2020-03-03 16:18:03 [urllib3.connectionpool] DEBUG: Starting new HTTPS connection (1): www.bcg.com:443\n",
      "2020-03-03 16:18:03 [urllib3.connectionpool] DEBUG: https://www.bcg.com:443 \"GET /publications/2017/people-organization-technology-how-gain-develop-digital-talent-skills.aspx HTTP/1.1\" 200 55451\n",
      "2020-03-03 16:18:03 [urllib3.connectionpool] DEBUG: Starting new HTTPS connection (1): www.bcg.com:443\n",
      "2020-03-03 16:18:03 [urllib3.connectionpool] DEBUG: https://www.bcg.com:443 \"GET /publications/2017/people-organization-technology-how-gain-develop-digital-talent-skills.aspx HTTP/1.1\" 200 55451\n"
     ]
    },
    {
     "name": "stdout",
     "output_type": "stream",
     "text": [
      "https://www.bcg.com/publications/2017/people-organization-technology-how-gain-develop-digital-talent-skills.aspx\n"
     ]
    },
    {
     "name": "stderr",
     "output_type": "stream",
     "text": [
      "2020-03-03 16:18:03 [scrapy.core.engine] DEBUG: Crawled (200) <GET https://www.bcg.com/publications/2017/financial-institutions-global-retail-banking-2017-bionic-transformation.aspx> (referer: None)\n",
      "2020-03-03 16:18:03 [urllib3.connectionpool] DEBUG: Starting new HTTPS connection (1): www.bcg.com:443\n",
      "2020-03-03 16:18:03 [urllib3.connectionpool] DEBUG: https://www.bcg.com:443 \"GET /publications/2017/financial-institutions-global-retail-banking-2017-bionic-transformation.aspx HTTP/1.1\" 200 48037\n",
      "2020-03-03 16:18:03 [urllib3.connectionpool] DEBUG: Starting new HTTPS connection (1): www.bcg.com:443\n"
     ]
    },
    {
     "name": "stdout",
     "output_type": "stream",
     "text": [
      "https://www.bcg.com/publications/2017/financial-institutions-global-retail-banking-2017-bionic-transformation.aspx\n"
     ]
    },
    {
     "name": "stderr",
     "output_type": "stream",
     "text": [
      "2020-03-03 16:18:04 [urllib3.connectionpool] DEBUG: https://www.bcg.com:443 \"GET /publications/2017/financial-institutions-global-retail-banking-2017-bionic-transformation.aspx HTTP/1.1\" 200 None\n",
      "2020-03-03 16:18:06 [scrapy.core.engine] DEBUG: Crawled (200) <GET https://www.bcg.com/publications/2018/demand-management-opportunity-original-equipment-manufacturers.aspx> (referer: None)\n",
      "2020-03-03 16:18:06 [urllib3.connectionpool] DEBUG: Starting new HTTPS connection (1): www.bcg.com:443\n"
     ]
    },
    {
     "name": "stdout",
     "output_type": "stream",
     "text": [
      "https://www.bcg.com/publications/2018/demand-management-opportunity-original-equipment-manufacturers.aspx\n"
     ]
    },
    {
     "name": "stderr",
     "output_type": "stream",
     "text": [
      "2020-03-03 16:18:06 [urllib3.connectionpool] DEBUG: https://www.bcg.com:443 \"GET /publications/2018/demand-management-opportunity-original-equipment-manufacturers.aspx HTTP/1.1\" 200 None\n",
      "2020-03-03 16:18:06 [urllib3.connectionpool] DEBUG: Starting new HTTPS connection (1): www.bcg.com:443\n",
      "2020-03-03 16:18:07 [urllib3.connectionpool] DEBUG: https://www.bcg.com:443 \"GET /publications/2018/demand-management-opportunity-original-equipment-manufacturers.aspx HTTP/1.1\" 200 None\n",
      "2020-03-03 16:18:07 [scrapy.core.engine] DEBUG: Crawled (200) <GET https://www.bcg.com/publications/2017/taking-advantage-of-risk.aspx> (referer: None)\n",
      "2020-03-03 16:18:07 [urllib3.connectionpool] DEBUG: Starting new HTTPS connection (1): www.bcg.com:443\n",
      "2020-03-03 16:18:07 [urllib3.connectionpool] DEBUG: https://www.bcg.com:443 \"GET /publications/2017/taking-advantage-of-risk.aspx HTTP/1.1\" 200 59156\n",
      "2020-03-03 16:18:07 [urllib3.connectionpool] DEBUG: Starting new HTTPS connection (1): www.bcg.com:443\n",
      "2020-03-03 16:18:07 [urllib3.connectionpool] DEBUG: https://www.bcg.com:443 \"GET /publications/2017/taking-advantage-of-risk.aspx HTTP/1.1\" 200 59156\n"
     ]
    },
    {
     "name": "stdout",
     "output_type": "stream",
     "text": [
      "https://www.bcg.com/publications/2017/taking-advantage-of-risk.aspx\n"
     ]
    },
    {
     "name": "stderr",
     "output_type": "stream",
     "text": [
      "2020-03-03 16:18:07 [scrapy.core.engine] DEBUG: Crawled (200) <GET https://www.bcg.com/publications/2017/energy-environment-people-organization-untapped-reserves.aspx> (referer: None)\n",
      "2020-03-03 16:18:07 [scrapy.core.engine] DEBUG: Crawled (200) <GET https://www.bcg.com/publications/2017/digital-designing-tech-function-future.aspx> (referer: None)\n",
      "2020-03-03 16:18:07 [urllib3.connectionpool] DEBUG: Starting new HTTPS connection (1): www.bcg.com:443\n",
      "2020-03-03 16:18:07 [urllib3.connectionpool] DEBUG: https://www.bcg.com:443 \"GET /publications/2017/energy-environment-people-organization-untapped-reserves.aspx HTTP/1.1\" 200 74388\n",
      "2020-03-03 16:18:07 [urllib3.connectionpool] DEBUG: Starting new HTTPS connection (1): www.bcg.com:443\n",
      "2020-03-03 16:18:07 [urllib3.connectionpool] DEBUG: https://www.bcg.com:443 \"GET /publications/2017/energy-environment-people-organization-untapped-reserves.aspx HTTP/1.1\" 200 74388\n"
     ]
    },
    {
     "name": "stdout",
     "output_type": "stream",
     "text": [
      "https://www.bcg.com/publications/2017/energy-environment-people-organization-untapped-reserves.aspx\n"
     ]
    },
    {
     "name": "stderr",
     "output_type": "stream",
     "text": [
      "2020-03-03 16:18:07 [urllib3.connectionpool] DEBUG: Starting new HTTPS connection (1): www.bcg.com:443\n",
      "2020-03-03 16:18:07 [urllib3.connectionpool] DEBUG: https://www.bcg.com:443 \"GET /publications/2017/digital-designing-tech-function-future.aspx HTTP/1.1\" 200 51494\n",
      "2020-03-03 16:18:07 [urllib3.connectionpool] DEBUG: Starting new HTTPS connection (1): www.bcg.com:443\n",
      "2020-03-03 16:18:07 [urllib3.connectionpool] DEBUG: https://www.bcg.com:443 \"GET /publications/2017/digital-designing-tech-function-future.aspx HTTP/1.1\" 200 51494\n",
      "2020-03-03 16:18:08 [scrapy.core.engine] DEBUG: Crawled (200) <GET https://www.bcg.com/publications/2017/wealth-management-insurance-global-asset-management-2017-innovators-advantage.aspx> (referer: None)\n"
     ]
    },
    {
     "name": "stdout",
     "output_type": "stream",
     "text": [
      "https://www.bcg.com/publications/2017/digital-designing-tech-function-future.aspx\n"
     ]
    },
    {
     "name": "stderr",
     "output_type": "stream",
     "text": [
      "2020-03-03 16:18:08 [urllib3.connectionpool] DEBUG: Starting new HTTPS connection (1): www.bcg.com:443\n",
      "2020-03-03 16:18:08 [urllib3.connectionpool] DEBUG: https://www.bcg.com:443 \"GET /publications/2017/wealth-management-insurance-global-asset-management-2017-innovators-advantage.aspx HTTP/1.1\" 200 46555\n",
      "2020-03-03 16:18:08 [urllib3.connectionpool] DEBUG: Starting new HTTPS connection (1): www.bcg.com:443\n",
      "2020-03-03 16:18:08 [urllib3.connectionpool] DEBUG: https://www.bcg.com:443 \"GET /publications/2017/wealth-management-insurance-global-asset-management-2017-innovators-advantage.aspx HTTP/1.1\" 200 46555\n"
     ]
    },
    {
     "name": "stdout",
     "output_type": "stream",
     "text": [
      "https://www.bcg.com/publications/2017/wealth-management-insurance-global-asset-management-2017-innovators-advantage.aspx\n"
     ]
    },
    {
     "name": "stderr",
     "output_type": "stream",
     "text": [
      "2020-03-03 16:18:10 [scrapy.core.engine] DEBUG: Crawled (200) <GET https://www.bcg.com/publications/2017/globalization-growth-adapting-new-trade-order.aspx> (referer: None)\n",
      "2020-03-03 16:18:10 [urllib3.connectionpool] DEBUG: Starting new HTTPS connection (1): www.bcg.com:443\n",
      "2020-03-03 16:18:10 [urllib3.connectionpool] DEBUG: https://www.bcg.com:443 \"GET /publications/2017/globalization-growth-adapting-new-trade-order.aspx HTTP/1.1\" 200 52380\n",
      "2020-03-03 16:18:10 [urllib3.connectionpool] DEBUG: Starting new HTTPS connection (1): www.bcg.com:443\n"
     ]
    },
    {
     "name": "stdout",
     "output_type": "stream",
     "text": [
      "https://www.bcg.com/publications/2017/globalization-growth-adapting-new-trade-order.aspx\n"
     ]
    },
    {
     "name": "stderr",
     "output_type": "stream",
     "text": [
      "2020-03-03 16:18:10 [urllib3.connectionpool] DEBUG: https://www.bcg.com:443 \"GET /publications/2017/globalization-growth-adapting-new-trade-order.aspx HTTP/1.1\" 200 52380\n",
      "2020-03-03 16:18:10 [scrapy.core.engine] DEBUG: Crawled (200) <GET https://www.bcg.com/publications/2017/transformation-becoming-digital-frontrunner-aerospace-defense.aspx> (referer: None)\n",
      "2020-03-03 16:18:10 [urllib3.connectionpool] DEBUG: Starting new HTTPS connection (1): www.bcg.com:443\n",
      "2020-03-03 16:18:10 [urllib3.connectionpool] DEBUG: https://www.bcg.com:443 \"GET /publications/2017/transformation-becoming-digital-frontrunner-aerospace-defense.aspx HTTP/1.1\" 200 51470\n",
      "2020-03-03 16:18:10 [urllib3.connectionpool] DEBUG: Starting new HTTPS connection (1): www.bcg.com:443\n",
      "2020-03-03 16:18:10 [urllib3.connectionpool] DEBUG: https://www.bcg.com:443 \"GET /publications/2017/transformation-becoming-digital-frontrunner-aerospace-defense.aspx HTTP/1.1\" 200 51470\n",
      "2020-03-03 16:18:10 [scrapy.core.engine] DEBUG: Crawled (200) <GET https://www.bcg.com/publications/2017/technology-digital-operations-powering-the-service-economy-with-rpa-ai.aspx> (referer: None)\n"
     ]
    },
    {
     "name": "stdout",
     "output_type": "stream",
     "text": [
      "https://www.bcg.com/publications/2017/transformation-becoming-digital-frontrunner-aerospace-defense.aspx\n"
     ]
    },
    {
     "name": "stderr",
     "output_type": "stream",
     "text": [
      "2020-03-03 16:18:10 [urllib3.connectionpool] DEBUG: Starting new HTTPS connection (1): www.bcg.com:443\n",
      "2020-03-03 16:18:10 [urllib3.connectionpool] DEBUG: https://www.bcg.com:443 \"GET /publications/2017/technology-digital-operations-powering-the-service-economy-with-rpa-ai.aspx HTTP/1.1\" 200 51309\n",
      "2020-03-03 16:18:11 [urllib3.connectionpool] DEBUG: Starting new HTTPS connection (1): www.bcg.com:443\n"
     ]
    },
    {
     "name": "stdout",
     "output_type": "stream",
     "text": [
      "https://www.bcg.com/publications/2017/technology-digital-operations-powering-the-service-economy-with-rpa-ai.aspx\n"
     ]
    },
    {
     "name": "stderr",
     "output_type": "stream",
     "text": [
      "2020-03-03 16:18:11 [urllib3.connectionpool] DEBUG: https://www.bcg.com:443 \"GET /publications/2017/technology-digital-operations-powering-the-service-economy-with-rpa-ai.aspx HTTP/1.1\" 200 None\n",
      "2020-03-03 16:18:11 [scrapy.core.engine] DEBUG: Crawled (200) <GET https://www.bcg.com/publications/2017/strategy-winning-in-emerging-markets-navigating-new-realities-in-business-geopolitics-and-technology.aspx> (referer: None)\n",
      "2020-03-03 16:18:11 [scrapy.core.engine] DEBUG: Crawled (200) <GET https://www.bcg.com/publications/2017/retail-globalization-chinese-consumers-online-journey-from-discovery-to-purchase.aspx> (referer: None)\n",
      "2020-03-03 16:18:11 [urllib3.connectionpool] DEBUG: Starting new HTTPS connection (1): www.bcg.com:443\n",
      "2020-03-03 16:18:11 [urllib3.connectionpool] DEBUG: https://www.bcg.com:443 \"GET /publications/2017/strategy-winning-in-emerging-markets-navigating-new-realities-in-business-geopolitics-and-technology.aspx HTTP/1.1\" 200 46222\n",
      "2020-03-03 16:18:11 [urllib3.connectionpool] DEBUG: Starting new HTTPS connection (1): www.bcg.com:443\n",
      "2020-03-03 16:18:11 [urllib3.connectionpool] DEBUG: https://www.bcg.com:443 \"GET /publications/2017/strategy-winning-in-emerging-markets-navigating-new-realities-in-business-geopolitics-and-technology.aspx HTTP/1.1\" 200 None\n"
     ]
    },
    {
     "name": "stdout",
     "output_type": "stream",
     "text": [
      "https://www.bcg.com/publications/2017/strategy-winning-in-emerging-markets-navigating-new-realities-in-business-geopolitics-and-technology.aspx\n"
     ]
    },
    {
     "name": "stderr",
     "output_type": "stream",
     "text": [
      "2020-03-03 16:18:11 [urllib3.connectionpool] DEBUG: Starting new HTTPS connection (1): www.bcg.com:443\n",
      "2020-03-03 16:18:11 [urllib3.connectionpool] DEBUG: https://www.bcg.com:443 \"GET /publications/2017/retail-globalization-chinese-consumers-online-journey-from-discovery-to-purchase.aspx HTTP/1.1\" 200 51080\n",
      "2020-03-03 16:18:11 [urllib3.connectionpool] DEBUG: Starting new HTTPS connection (1): www.bcg.com:443\n",
      "2020-03-03 16:18:11 [urllib3.connectionpool] DEBUG: https://www.bcg.com:443 \"GET /publications/2017/retail-globalization-chinese-consumers-online-journey-from-discovery-to-purchase.aspx HTTP/1.1\" 200 51080\n"
     ]
    },
    {
     "name": "stdout",
     "output_type": "stream",
     "text": [
      "https://www.bcg.com/publications/2017/retail-globalization-chinese-consumers-online-journey-from-discovery-to-purchase.aspx\n"
     ]
    },
    {
     "name": "stderr",
     "output_type": "stream",
     "text": [
      "2020-03-03 16:18:11 [scrapy.core.engine] DEBUG: Crawled (200) <GET https://www.bcg.com/publications/2017/digital-organization-technology-digital-can-turbocharge-shared-services.aspx> (referer: None)\n",
      "2020-03-03 16:18:11 [urllib3.connectionpool] DEBUG: Starting new HTTPS connection (1): www.bcg.com:443\n",
      "2020-03-03 16:18:12 [urllib3.connectionpool] DEBUG: https://www.bcg.com:443 \"GET /publications/2017/digital-organization-technology-digital-can-turbocharge-shared-services.aspx HTTP/1.1\" 200 50368\n",
      "2020-03-03 16:18:12 [urllib3.connectionpool] DEBUG: Starting new HTTPS connection (1): www.bcg.com:443\n",
      "2020-03-03 16:18:12 [urllib3.connectionpool] DEBUG: https://www.bcg.com:443 \"GET /publications/2017/digital-organization-technology-digital-can-turbocharge-shared-services.aspx HTTP/1.1\" 200 50368\n"
     ]
    },
    {
     "name": "stdout",
     "output_type": "stream",
     "text": [
      "https://www.bcg.com/publications/2017/digital-organization-technology-digital-can-turbocharge-shared-services.aspx\n"
     ]
    },
    {
     "name": "stderr",
     "output_type": "stream",
     "text": [
      "2020-03-03 16:18:13 [scrapy.core.engine] DEBUG: Crawled (200) <GET https://www.bcg.com/publications/2017/corporate-development-finance-commercial-reinsurance-ceo-guide-building-value-2017-insurance-value-creators-report.aspx> (referer: None)\n",
      "2020-03-03 16:18:14 [urllib3.connectionpool] DEBUG: Starting new HTTPS connection (1): www.bcg.com:443\n"
     ]
    },
    {
     "name": "stdout",
     "output_type": "stream",
     "text": [
      "https://www.bcg.com/publications/2017/corporate-development-finance-commercial-reinsurance-ceo-guide-building-value-2017-insurance-value-creators-report.aspx\n"
     ]
    },
    {
     "name": "stderr",
     "output_type": "stream",
     "text": [
      "2020-03-03 16:18:14 [urllib3.connectionpool] DEBUG: https://www.bcg.com:443 \"GET /publications/2017/corporate-development-finance-commercial-reinsurance-ceo-guide-building-value-2017-insurance-value-creators-report.aspx HTTP/1.1\" 200 None\n",
      "2020-03-03 16:18:14 [urllib3.connectionpool] DEBUG: Starting new HTTPS connection (1): www.bcg.com:443\n",
      "2020-03-03 16:18:14 [urllib3.connectionpool] DEBUG: https://www.bcg.com:443 \"GET /publications/2017/corporate-development-finance-commercial-reinsurance-ceo-guide-building-value-2017-insurance-value-creators-report.aspx HTTP/1.1\" 200 None\n",
      "2020-03-03 16:18:15 [scrapy.downloadermiddlewares.retry] DEBUG: Retrying <GET https://www.bcg.com/publications/2018/why-carmakers-are-racing-to-go-digital.aspx> (failed 1 times): 504 Gateway Time-out\n",
      "2020-03-03 16:18:15 [scrapy.core.engine] DEBUG: Crawled (200) <GET https://www.bcg.com/publications/2017/digital-transformation-digital-organization-ceo-guide-to-digital-transformation.aspx> (referer: None)\n",
      "2020-03-03 16:18:15 [urllib3.connectionpool] DEBUG: Starting new HTTPS connection (1): www.bcg.com:443\n",
      "2020-03-03 16:18:15 [urllib3.connectionpool] DEBUG: https://www.bcg.com:443 \"GET /publications/2017/digital-transformation-digital-organization-ceo-guide-to-digital-transformation.aspx HTTP/1.1\" 200 48498\n",
      "2020-03-03 16:18:15 [urllib3.connectionpool] DEBUG: Starting new HTTPS connection (1): www.bcg.com:443\n",
      "2020-03-03 16:18:15 [urllib3.connectionpool] DEBUG: https://www.bcg.com:443 \"GET /publications/2017/digital-transformation-digital-organization-ceo-guide-to-digital-transformation.aspx HTTP/1.1\" 200 48498\n"
     ]
    },
    {
     "name": "stdout",
     "output_type": "stream",
     "text": [
      "https://www.bcg.com/publications/2017/digital-transformation-digital-organization-ceo-guide-to-digital-transformation.aspx\n"
     ]
    },
    {
     "name": "stderr",
     "output_type": "stream",
     "text": [
      "2020-03-03 16:18:15 [scrapy.core.engine] DEBUG: Crawled (200) <GET https://www.bcg.com/publications/2017/principal-investors-fund-strategy-operations-private-equity-software-deals.aspx> (referer: None)\n",
      "2020-03-03 16:18:15 [urllib3.connectionpool] DEBUG: Starting new HTTPS connection (1): www.bcg.com:443\n",
      "2020-03-03 16:18:15 [urllib3.connectionpool] DEBUG: https://www.bcg.com:443 \"GET /publications/2017/principal-investors-fund-strategy-operations-private-equity-software-deals.aspx HTTP/1.1\" 200 None\n",
      "2020-03-03 16:18:15 [urllib3.connectionpool] DEBUG: Starting new HTTPS connection (1): www.bcg.com:443\n"
     ]
    },
    {
     "name": "stdout",
     "output_type": "stream",
     "text": [
      "https://www.bcg.com/publications/2017/principal-investors-fund-strategy-operations-private-equity-software-deals.aspx\n"
     ]
    },
    {
     "name": "stderr",
     "output_type": "stream",
     "text": [
      "2020-03-03 16:18:15 [urllib3.connectionpool] DEBUG: https://www.bcg.com:443 \"GET /publications/2017/principal-investors-fund-strategy-operations-private-equity-software-deals.aspx HTTP/1.1\" 200 55034\n",
      "2020-03-03 16:18:16 [scrapy.core.engine] DEBUG: Crawled (200) <GET https://www.bcg.com/publications/2017/consumer-products-retail-digital-insurgents-emerging-models-disruption-of-cpg-retail.aspx> (referer: None)\n",
      "2020-03-03 16:18:16 [urllib3.connectionpool] DEBUG: Starting new HTTPS connection (1): www.bcg.com:443\n",
      "2020-03-03 16:18:16 [urllib3.connectionpool] DEBUG: https://www.bcg.com:443 \"GET /publications/2017/consumer-products-retail-digital-insurgents-emerging-models-disruption-of-cpg-retail.aspx HTTP/1.1\" 200 57649\n",
      "2020-03-03 16:18:16 [urllib3.connectionpool] DEBUG: Starting new HTTPS connection (1): www.bcg.com:443\n"
     ]
    },
    {
     "name": "stdout",
     "output_type": "stream",
     "text": [
      "https://www.bcg.com/publications/2017/consumer-products-retail-digital-insurgents-emerging-models-disruption-of-cpg-retail.aspx\n"
     ]
    },
    {
     "name": "stderr",
     "output_type": "stream",
     "text": [
      "2020-03-03 16:18:16 [urllib3.connectionpool] DEBUG: https://www.bcg.com:443 \"GET /publications/2017/consumer-products-retail-digital-insurgents-emerging-models-disruption-of-cpg-retail.aspx HTTP/1.1\" 200 57649\n",
      "2020-03-03 16:18:16 [scrapy.core.engine] DEBUG: Crawled (200) <GET https://www.bcg.com/publications/2017/retail-marketing-sales-profiting-personalization.aspx> (referer: None)\n",
      "2020-03-03 16:18:16 [urllib3.connectionpool] DEBUG: Starting new HTTPS connection (1): www.bcg.com:443\n",
      "2020-03-03 16:18:16 [urllib3.connectionpool] DEBUG: https://www.bcg.com:443 \"GET /publications/2017/retail-marketing-sales-profiting-personalization.aspx HTTP/1.1\" 200 51836\n",
      "2020-03-03 16:18:16 [urllib3.connectionpool] DEBUG: Starting new HTTPS connection (1): www.bcg.com:443\n",
      "2020-03-03 16:18:16 [urllib3.connectionpool] DEBUG: https://www.bcg.com:443 \"GET /publications/2017/retail-marketing-sales-profiting-personalization.aspx HTTP/1.1\" 200 51836\n"
     ]
    },
    {
     "name": "stdout",
     "output_type": "stream",
     "text": [
      "https://www.bcg.com/publications/2017/retail-marketing-sales-profiting-personalization.aspx\n"
     ]
    },
    {
     "name": "stderr",
     "output_type": "stream",
     "text": [
      "2020-03-03 16:18:16 [scrapy.core.engine] DEBUG: Crawled (200) <GET https://www.bcg.com/publications/2017/retail-globalization-china-reveals-future-shopping.aspx> (referer: None)\n",
      "2020-03-03 16:18:16 [urllib3.connectionpool] DEBUG: Starting new HTTPS connection (1): www.bcg.com:443\n",
      "2020-03-03 16:18:16 [urllib3.connectionpool] DEBUG: https://www.bcg.com:443 \"GET /publications/2017/retail-globalization-china-reveals-future-shopping.aspx HTTP/1.1\" 200 50154\n",
      "2020-03-03 16:18:16 [urllib3.connectionpool] DEBUG: Starting new HTTPS connection (1): www.bcg.com:443\n",
      "2020-03-03 16:18:16 [urllib3.connectionpool] DEBUG: https://www.bcg.com:443 \"GET /publications/2017/retail-globalization-china-reveals-future-shopping.aspx HTTP/1.1\" 200 50154\n"
     ]
    },
    {
     "name": "stdout",
     "output_type": "stream",
     "text": [
      "https://www.bcg.com/publications/2017/retail-globalization-china-reveals-future-shopping.aspx\n"
     ]
    },
    {
     "name": "stderr",
     "output_type": "stream",
     "text": [
      "2020-03-03 16:18:16 [scrapy.core.engine] DEBUG: Crawled (200) <GET https://www.bcg.com/publications/2017/people-organization-leadership-talent-innovation-through-diversity-mix-that-matters.aspx> (referer: None)\n",
      "2020-03-03 16:18:17 [scrapy.core.engine] DEBUG: Crawled (200) <GET https://www.bcg.com/publications/2017/marketing-sales-how-digital-leaders-transforming-b2b.aspx> (referer: None)\n",
      "2020-03-03 16:18:17 [urllib3.connectionpool] DEBUG: Starting new HTTPS connection (1): www.bcg.com:443\n",
      "2020-03-03 16:18:17 [urllib3.connectionpool] DEBUG: https://www.bcg.com:443 \"GET /publications/2017/people-organization-leadership-talent-innovation-through-diversity-mix-that-matters.aspx HTTP/1.1\" 200 56537\n",
      "2020-03-03 16:18:17 [urllib3.connectionpool] DEBUG: Starting new HTTPS connection (1): www.bcg.com:443\n",
      "2020-03-03 16:18:17 [urllib3.connectionpool] DEBUG: https://www.bcg.com:443 \"GET /publications/2017/people-organization-leadership-talent-innovation-through-diversity-mix-that-matters.aspx HTTP/1.1\" 200 56537\n"
     ]
    },
    {
     "name": "stdout",
     "output_type": "stream",
     "text": [
      "https://www.bcg.com/publications/2017/people-organization-leadership-talent-innovation-through-diversity-mix-that-matters.aspx\n"
     ]
    },
    {
     "name": "stderr",
     "output_type": "stream",
     "text": [
      "2020-03-03 16:18:17 [urllib3.connectionpool] DEBUG: Starting new HTTPS connection (1): www.bcg.com:443\n"
     ]
    },
    {
     "name": "stdout",
     "output_type": "stream",
     "text": [
      "https://www.bcg.com/publications/2017/marketing-sales-how-digital-leaders-transforming-b2b.aspx\n"
     ]
    },
    {
     "name": "stderr",
     "output_type": "stream",
     "text": [
      "2020-03-03 16:18:17 [urllib3.connectionpool] DEBUG: https://www.bcg.com:443 \"GET /publications/2017/marketing-sales-how-digital-leaders-transforming-b2b.aspx HTTP/1.1\" 200 None\n",
      "2020-03-03 16:18:17 [urllib3.connectionpool] DEBUG: Starting new HTTPS connection (1): www.bcg.com:443\n",
      "2020-03-03 16:18:17 [urllib3.connectionpool] DEBUG: https://www.bcg.com:443 \"GET /publications/2017/marketing-sales-how-digital-leaders-transforming-b2b.aspx HTTP/1.1\" 200 52461\n",
      "2020-03-03 16:18:17 [scrapy.core.engine] DEBUG: Crawled (200) <GET https://www.bcg.com/publications/2017/lean-manufacturing-industry-4.0-get-ready-for-industrialized-additive-manufacturing.aspx> (referer: None)\n",
      "2020-03-03 16:18:17 [urllib3.connectionpool] DEBUG: Starting new HTTPS connection (1): www.bcg.com:443\n",
      "2020-03-03 16:18:17 [urllib3.connectionpool] DEBUG: https://www.bcg.com:443 \"GET /publications/2017/lean-manufacturing-industry-4.0-get-ready-for-industrialized-additive-manufacturing.aspx HTTP/1.1\" 200 59282\n",
      "2020-03-03 16:18:17 [urllib3.connectionpool] DEBUG: Starting new HTTPS connection (1): www.bcg.com:443\n",
      "2020-03-03 16:18:17 [urllib3.connectionpool] DEBUG: https://www.bcg.com:443 \"GET /publications/2017/lean-manufacturing-industry-4.0-get-ready-for-industrialized-additive-manufacturing.aspx HTTP/1.1\" 200 59282\n"
     ]
    },
    {
     "name": "stdout",
     "output_type": "stream",
     "text": [
      "https://www.bcg.com/publications/2017/lean-manufacturing-industry-4.0-get-ready-for-industrialized-additive-manufacturing.aspx\n"
     ]
    },
    {
     "name": "stderr",
     "output_type": "stream",
     "text": [
      "2020-03-03 16:18:21 [scrapy.core.engine] DEBUG: Crawled (200) <GET https://www.bcg.com/industries/public-sector/how-governments-can-boost-labor-productivity.aspx> (referer: None)\n",
      "2020-03-03 16:18:21 [urllib3.connectionpool] DEBUG: Starting new HTTPS connection (1): www.bcg.com:443\n",
      "2020-03-03 16:18:21 [urllib3.connectionpool] DEBUG: https://www.bcg.com:443 \"GET /industries/public-sector/how-governments-can-boost-labor-productivity.aspx HTTP/1.1\" 200 50360\n",
      "2020-03-03 16:18:21 [urllib3.connectionpool] DEBUG: Starting new HTTPS connection (1): www.bcg.com:443\n",
      "2020-03-03 16:18:21 [urllib3.connectionpool] DEBUG: https://www.bcg.com:443 \"GET /industries/public-sector/how-governments-can-boost-labor-productivity.aspx HTTP/1.1\" 200 None\n"
     ]
    },
    {
     "name": "stdout",
     "output_type": "stream",
     "text": [
      "https://www.bcg.com/industries/public-sector/how-governments-can-boost-labor-productivity.aspx\n"
     ]
    },
    {
     "name": "stderr",
     "output_type": "stream",
     "text": [
      "2020-03-03 16:18:21 [scrapy.core.engine] DEBUG: Crawled (200) <GET https://www.bcg.com/publications/2017/technology-digital-joint-ventures-alliances-what-deep-tech-startups-corporate-partners.aspx> (referer: None)\n",
      "2020-03-03 16:18:21 [urllib3.connectionpool] DEBUG: Starting new HTTPS connection (1): www.bcg.com:443\n",
      "2020-03-03 16:18:21 [urllib3.connectionpool] DEBUG: https://www.bcg.com:443 \"GET /publications/2017/technology-digital-joint-ventures-alliances-what-deep-tech-startups-corporate-partners.aspx HTTP/1.1\" 200 52147\n",
      "2020-03-03 16:18:21 [urllib3.connectionpool] DEBUG: Starting new HTTPS connection (1): www.bcg.com:443\n",
      "2020-03-03 16:18:21 [urllib3.connectionpool] DEBUG: https://www.bcg.com:443 \"GET /publications/2017/technology-digital-joint-ventures-alliances-what-deep-tech-startups-corporate-partners.aspx HTTP/1.1\" 200 52147\n"
     ]
    },
    {
     "name": "stdout",
     "output_type": "stream",
     "text": [
      "https://www.bcg.com/publications/2017/technology-digital-joint-ventures-alliances-what-deep-tech-startups-corporate-partners.aspx\n"
     ]
    },
    {
     "name": "stderr",
     "output_type": "stream",
     "text": [
      "2020-03-03 16:18:25 [scrapy.core.engine] DEBUG: Crawled (200) <GET https://www.bcg.com/publications/2017/technology-digital-beyond-hype.aspx> (referer: None)\n",
      "2020-03-03 16:18:25 [scrapy.core.engine] DEBUG: Crawled (200) <GET https://www.bcg.com/publications/2017/people-organization-strategy-twelve-forces-radically-change-organizations-work.aspx> (referer: None)\n",
      "2020-03-03 16:18:25 [urllib3.connectionpool] DEBUG: Starting new HTTPS connection (1): www.bcg.com:443\n",
      "2020-03-03 16:18:25 [urllib3.connectionpool] DEBUG: https://www.bcg.com:443 \"GET /publications/2017/technology-digital-beyond-hype.aspx HTTP/1.1\" 200 51053\n",
      "2020-03-03 16:18:25 [urllib3.connectionpool] DEBUG: Starting new HTTPS connection (1): www.bcg.com:443\n",
      "2020-03-03 16:18:25 [urllib3.connectionpool] DEBUG: https://www.bcg.com:443 \"GET /publications/2017/technology-digital-beyond-hype.aspx HTTP/1.1\" 200 51053\n"
     ]
    },
    {
     "name": "stdout",
     "output_type": "stream",
     "text": [
      "https://www.bcg.com/publications/2017/technology-digital-beyond-hype.aspx\n"
     ]
    },
    {
     "name": "stderr",
     "output_type": "stream",
     "text": [
      "2020-03-03 16:18:25 [urllib3.connectionpool] DEBUG: Starting new HTTPS connection (1): www.bcg.com:443\n",
      "2020-03-03 16:18:25 [urllib3.connectionpool] DEBUG: https://www.bcg.com:443 \"GET /publications/2017/people-organization-strategy-twelve-forces-radically-change-organizations-work.aspx HTTP/1.1\" 200 59541\n",
      "2020-03-03 16:18:25 [urllib3.connectionpool] DEBUG: Starting new HTTPS connection (1): www.bcg.com:443\n",
      "2020-03-03 16:18:25 [urllib3.connectionpool] DEBUG: https://www.bcg.com:443 \"GET /publications/2017/people-organization-strategy-twelve-forces-radically-change-organizations-work.aspx HTTP/1.1\" 200 59541\n"
     ]
    },
    {
     "name": "stdout",
     "output_type": "stream",
     "text": [
      "https://www.bcg.com/publications/2017/people-organization-strategy-twelve-forces-radically-change-organizations-work.aspx\n"
     ]
    },
    {
     "name": "stderr",
     "output_type": "stream",
     "text": [
      "2020-03-03 16:18:27 [scrapy.core.engine] DEBUG: Crawled (200) <GET https://www.bcg.com/publications/2018/building-resilient-adaptive-companies-global-digital-age.aspx> (referer: None)\n",
      "2020-03-03 16:18:27 [urllib3.connectionpool] DEBUG: Starting new HTTPS connection (1): www.bcg.com:443\n",
      "2020-03-03 16:18:27 [urllib3.connectionpool] DEBUG: https://www.bcg.com:443 \"GET /publications/2018/building-resilient-adaptive-companies-global-digital-age.aspx HTTP/1.1\" 200 50883\n",
      "2020-03-03 16:18:27 [urllib3.connectionpool] DEBUG: Starting new HTTPS connection (1): www.bcg.com:443\n",
      "2020-03-03 16:18:27 [urllib3.connectionpool] DEBUG: https://www.bcg.com:443 \"GET /publications/2018/building-resilient-adaptive-companies-global-digital-age.aspx HTTP/1.1\" 200 50883\n",
      "2020-03-03 16:18:27 [scrapy.core.engine] DEBUG: Crawled (200) <GET https://www.bcg.com/publications/2017/medical-devices-technology-marketing-sales-moving-beyond-milkman-model-medtech.aspx> (referer: None)\n"
     ]
    },
    {
     "name": "stdout",
     "output_type": "stream",
     "text": [
      "https://www.bcg.com/publications/2018/building-resilient-adaptive-companies-global-digital-age.aspx\n"
     ]
    },
    {
     "name": "stderr",
     "output_type": "stream",
     "text": [
      "2020-03-03 16:18:27 [urllib3.connectionpool] DEBUG: Starting new HTTPS connection (1): www.bcg.com:443\n",
      "2020-03-03 16:18:27 [urllib3.connectionpool] DEBUG: https://www.bcg.com:443 \"GET /publications/2017/medical-devices-technology-marketing-sales-moving-beyond-milkman-model-medtech.aspx HTTP/1.1\" 200 55207\n",
      "2020-03-03 16:18:27 [urllib3.connectionpool] DEBUG: Starting new HTTPS connection (1): www.bcg.com:443\n",
      "2020-03-03 16:18:27 [urllib3.connectionpool] DEBUG: https://www.bcg.com:443 \"GET /publications/2017/medical-devices-technology-marketing-sales-moving-beyond-milkman-model-medtech.aspx HTTP/1.1\" 200 55207\n"
     ]
    },
    {
     "name": "stdout",
     "output_type": "stream",
     "text": [
      "https://www.bcg.com/publications/2017/medical-devices-technology-marketing-sales-moving-beyond-milkman-model-medtech.aspx\n"
     ]
    },
    {
     "name": "stderr",
     "output_type": "stream",
     "text": [
      "2020-03-03 16:18:27 [scrapy.core.engine] DEBUG: Crawled (200) <GET https://www.bcg.com/publications/2017/people-organization-operations-mastering-complexity-through-simplification.aspx> (referer: None)\n",
      "2020-03-03 16:18:27 [urllib3.connectionpool] DEBUG: Starting new HTTPS connection (1): www.bcg.com:443\n",
      "2020-03-03 16:18:27 [urllib3.connectionpool] DEBUG: https://www.bcg.com:443 \"GET /publications/2017/people-organization-operations-mastering-complexity-through-simplification.aspx HTTP/1.1\" 200 55777\n",
      "2020-03-03 16:18:27 [urllib3.connectionpool] DEBUG: Starting new HTTPS connection (1): www.bcg.com:443\n",
      "2020-03-03 16:18:28 [urllib3.connectionpool] DEBUG: https://www.bcg.com:443 \"GET /publications/2017/people-organization-operations-mastering-complexity-through-simplification.aspx HTTP/1.1\" 200 55777\n"
     ]
    },
    {
     "name": "stdout",
     "output_type": "stream",
     "text": [
      "https://www.bcg.com/publications/2017/people-organization-operations-mastering-complexity-through-simplification.aspx\n"
     ]
    },
    {
     "name": "stderr",
     "output_type": "stream",
     "text": [
      "2020-03-03 16:18:28 [scrapy.core.engine] DEBUG: Crawled (200) <GET https://www.bcg.com/publications/2017/competing-in-age-artificial-intelligence.aspx> (referer: None)\n",
      "2020-03-03 16:18:28 [urllib3.connectionpool] DEBUG: Starting new HTTPS connection (1): www.bcg.com:443\n",
      "2020-03-03 16:18:28 [urllib3.connectionpool] DEBUG: https://www.bcg.com:443 \"GET /publications/2017/competing-in-age-artificial-intelligence.aspx HTTP/1.1\" 200 53406\n",
      "2020-03-03 16:18:28 [urllib3.connectionpool] DEBUG: Starting new HTTPS connection (1): www.bcg.com:443\n",
      "2020-03-03 16:18:28 [urllib3.connectionpool] DEBUG: https://www.bcg.com:443 \"GET /publications/2017/competing-in-age-artificial-intelligence.aspx HTTP/1.1\" 200 53406\n",
      "2020-03-03 16:18:28 [scrapy.core.engine] DEBUG: Crawled (200) <GET https://www.bcg.com/publications/2017/technology-digital-building-a-cyberresilient-organization.aspx> (referer: None)\n"
     ]
    },
    {
     "name": "stdout",
     "output_type": "stream",
     "text": [
      "https://www.bcg.com/publications/2017/competing-in-age-artificial-intelligence.aspx\n"
     ]
    },
    {
     "name": "stderr",
     "output_type": "stream",
     "text": [
      "2020-03-03 16:18:28 [urllib3.connectionpool] DEBUG: Starting new HTTPS connection (1): www.bcg.com:443\n",
      "2020-03-03 16:18:28 [urllib3.connectionpool] DEBUG: https://www.bcg.com:443 \"GET /publications/2017/technology-digital-building-a-cyberresilient-organization.aspx HTTP/1.1\" 200 52608\n",
      "2020-03-03 16:18:28 [urllib3.connectionpool] DEBUG: Starting new HTTPS connection (1): www.bcg.com:443\n",
      "2020-03-03 16:18:28 [urllib3.connectionpool] DEBUG: https://www.bcg.com:443 \"GET /publications/2017/technology-digital-building-a-cyberresilient-organization.aspx HTTP/1.1\" 200 52608\n"
     ]
    },
    {
     "name": "stdout",
     "output_type": "stream",
     "text": [
      "https://www.bcg.com/publications/2017/technology-digital-building-a-cyberresilient-organization.aspx\n"
     ]
    },
    {
     "name": "stderr",
     "output_type": "stream",
     "text": [
      "2020-03-03 16:18:32 [scrapy.core.engine] DEBUG: Crawled (200) <GET https://www.bcg.com/publications/2017/strategy-trump-brexit-prediction-uncertain-times.aspx> (referer: None)\n",
      "2020-03-03 16:18:32 [urllib3.connectionpool] DEBUG: Starting new HTTPS connection (1): www.bcg.com:443\n",
      "2020-03-03 16:18:32 [urllib3.connectionpool] DEBUG: https://www.bcg.com:443 \"GET /publications/2017/strategy-trump-brexit-prediction-uncertain-times.aspx HTTP/1.1\" 200 48146\n",
      "2020-03-03 16:18:32 [urllib3.connectionpool] DEBUG: Starting new HTTPS connection (1): www.bcg.com:443\n"
     ]
    },
    {
     "name": "stdout",
     "output_type": "stream",
     "text": [
      "https://www.bcg.com/publications/2017/strategy-trump-brexit-prediction-uncertain-times.aspx\n"
     ]
    },
    {
     "name": "stderr",
     "output_type": "stream",
     "text": [
      "2020-03-03 16:18:32 [urllib3.connectionpool] DEBUG: https://www.bcg.com:443 \"GET /publications/2017/strategy-trump-brexit-prediction-uncertain-times.aspx HTTP/1.1\" 200 48146\n",
      "2020-03-03 16:18:33 [scrapy.core.engine] DEBUG: Crawled (200) <GET https://www.bcg.com/publications/2016/technology-people-organization-designing-digital-organizations.aspx> (referer: None)\n",
      "2020-03-03 16:18:33 [urllib3.connectionpool] DEBUG: Starting new HTTPS connection (1): www.bcg.com:443\n"
     ]
    },
    {
     "name": "stdout",
     "output_type": "stream",
     "text": [
      "https://www.bcg.com/publications/2016/technology-people-organization-designing-digital-organizations.aspx\n"
     ]
    },
    {
     "name": "stderr",
     "output_type": "stream",
     "text": [
      "2020-03-03 16:18:33 [urllib3.connectionpool] DEBUG: https://www.bcg.com:443 \"GET /publications/2016/technology-people-organization-designing-digital-organizations.aspx HTTP/1.1\" 200 None\n",
      "2020-03-03 16:18:33 [urllib3.connectionpool] DEBUG: Starting new HTTPS connection (1): www.bcg.com:443\n",
      "2020-03-03 16:18:33 [urllib3.connectionpool] DEBUG: https://www.bcg.com:443 \"GET /publications/2016/technology-people-organization-designing-digital-organizations.aspx HTTP/1.1\" 200 55551\n",
      "2020-03-03 16:18:33 [scrapy.core.engine] DEBUG: Crawled (200) <GET https://www.bcg.com/publications/2016/blockchain-thinking-outside-the-blocks.aspx> (referer: None)\n",
      "2020-03-03 16:18:33 [urllib3.connectionpool] DEBUG: Starting new HTTPS connection (1): www.bcg.com:443\n",
      "2020-03-03 16:18:33 [urllib3.connectionpool] DEBUG: https://www.bcg.com:443 \"GET /publications/2016/blockchain-thinking-outside-the-blocks.aspx HTTP/1.1\" 200 66500\n",
      "2020-03-03 16:18:33 [urllib3.connectionpool] DEBUG: Starting new HTTPS connection (1): www.bcg.com:443\n",
      "2020-03-03 16:18:33 [urllib3.connectionpool] DEBUG: https://www.bcg.com:443 \"GET /publications/2016/blockchain-thinking-outside-the-blocks.aspx HTTP/1.1\" 200 66500\n"
     ]
    },
    {
     "name": "stdout",
     "output_type": "stream",
     "text": [
      "https://www.bcg.com/publications/2016/blockchain-thinking-outside-the-blocks.aspx\n"
     ]
    },
    {
     "name": "stderr",
     "output_type": "stream",
     "text": [
      "2020-03-03 16:18:35 [scrapy.core.engine] DEBUG: Crawled (200) <GET https://www.bcg.com/publications/2016/technology-consumer-products-five-lessons-digital-transformation-b2c-leaders.aspx> (referer: None)\n",
      "2020-03-03 16:18:35 [urllib3.connectionpool] DEBUG: Starting new HTTPS connection (1): www.bcg.com:443\n",
      "2020-03-03 16:18:36 [urllib3.connectionpool] DEBUG: https://www.bcg.com:443 \"GET /publications/2016/technology-consumer-products-five-lessons-digital-transformation-b2c-leaders.aspx HTTP/1.1\" 200 48801\n",
      "2020-03-03 16:18:36 [urllib3.connectionpool] DEBUG: Starting new HTTPS connection (1): www.bcg.com:443\n",
      "2020-03-03 16:18:36 [urllib3.connectionpool] DEBUG: https://www.bcg.com:443 \"GET /publications/2016/technology-consumer-products-five-lessons-digital-transformation-b2c-leaders.aspx HTTP/1.1\" 200 None\n"
     ]
    },
    {
     "name": "stdout",
     "output_type": "stream",
     "text": [
      "https://www.bcg.com/publications/2016/technology-consumer-products-five-lessons-digital-transformation-b2c-leaders.aspx\n"
     ]
    },
    {
     "name": "stderr",
     "output_type": "stream",
     "text": [
      "2020-03-03 16:18:38 [scrapy.core.engine] DEBUG: Crawled (200) <GET https://www.bcg.com/publications/2016/navigating-renaissance-interview-with-university-oxford-ian-goldin.aspx> (referer: None)\n",
      "2020-03-03 16:18:38 [urllib3.connectionpool] DEBUG: Starting new HTTPS connection (1): www.bcg.com:443\n",
      "2020-03-03 16:18:38 [urllib3.connectionpool] DEBUG: https://www.bcg.com:443 \"GET /publications/2016/navigating-renaissance-interview-with-university-oxford-ian-goldin.aspx HTTP/1.1\" 200 47041\n",
      "2020-03-03 16:18:38 [urllib3.connectionpool] DEBUG: Starting new HTTPS connection (1): www.bcg.com:443\n",
      "2020-03-03 16:18:38 [urllib3.connectionpool] DEBUG: https://www.bcg.com:443 \"GET /publications/2016/navigating-renaissance-interview-with-university-oxford-ian-goldin.aspx HTTP/1.1\" 200 47041\n"
     ]
    },
    {
     "name": "stdout",
     "output_type": "stream",
     "text": [
      "https://www.bcg.com/publications/2016/navigating-renaissance-interview-with-university-oxford-ian-goldin.aspx\n"
     ]
    },
    {
     "name": "stderr",
     "output_type": "stream",
     "text": [
      "2020-03-03 16:18:38 [scrapy.core.engine] DEBUG: Crawled (200) <GET https://www.bcg.com/publications/2016/financial-institutions-technology-digital-fintech-capital-markets.aspx> (referer: None)\n",
      "2020-03-03 16:18:38 [urllib3.connectionpool] DEBUG: Starting new HTTPS connection (1): www.bcg.com:443\n",
      "2020-03-03 16:18:38 [urllib3.connectionpool] DEBUG: https://www.bcg.com:443 \"GET /publications/2016/financial-institutions-technology-digital-fintech-capital-markets.aspx HTTP/1.1\" 200 58272\n",
      "2020-03-03 16:18:38 [urllib3.connectionpool] DEBUG: Starting new HTTPS connection (1): www.bcg.com:443\n",
      "2020-03-03 16:18:38 [urllib3.connectionpool] DEBUG: https://www.bcg.com:443 \"GET /publications/2016/financial-institutions-technology-digital-fintech-capital-markets.aspx HTTP/1.1\" 200 58272\n"
     ]
    },
    {
     "name": "stdout",
     "output_type": "stream",
     "text": [
      "https://www.bcg.com/publications/2016/financial-institutions-technology-digital-fintech-capital-markets.aspx\n"
     ]
    },
    {
     "name": "stderr",
     "output_type": "stream",
     "text": [
      "2020-03-03 16:18:38 [scrapy.core.engine] DEBUG: Crawled (200) <GET https://www.bcg.com/publications/2016/why-the-technology-economy-matters.aspx> (referer: None)\n",
      "2020-03-03 16:18:38 [urllib3.connectionpool] DEBUG: Starting new HTTPS connection (1): www.bcg.com:443\n",
      "2020-03-03 16:18:39 [urllib3.connectionpool] DEBUG: https://www.bcg.com:443 \"GET /publications/2016/why-the-technology-economy-matters.aspx HTTP/1.1\" 200 49581\n",
      "2020-03-03 16:18:39 [urllib3.connectionpool] DEBUG: Starting new HTTPS connection (1): www.bcg.com:443\n",
      "2020-03-03 16:18:39 [urllib3.connectionpool] DEBUG: https://www.bcg.com:443 \"GET /publications/2016/why-the-technology-economy-matters.aspx HTTP/1.1\" 200 49581\n"
     ]
    },
    {
     "name": "stdout",
     "output_type": "stream",
     "text": [
      "https://www.bcg.com/publications/2016/why-the-technology-economy-matters.aspx\n"
     ]
    },
    {
     "name": "stderr",
     "output_type": "stream",
     "text": [
      "2020-03-03 16:18:39 [scrapy.core.engine] DEBUG: Crawled (200) <GET https://www.bcg.com/publications/2016/unleashing-technology-media-telecom-digital-transformation.aspx> (referer: None)\n",
      "2020-03-03 16:18:39 [urllib3.connectionpool] DEBUG: Starting new HTTPS connection (1): www.bcg.com:443\n",
      "2020-03-03 16:18:39 [urllib3.connectionpool] DEBUG: https://www.bcg.com:443 \"GET /publications/2016/unleashing-technology-media-telecom-digital-transformation.aspx HTTP/1.1\" 200 53307\n",
      "2020-03-03 16:18:39 [urllib3.connectionpool] DEBUG: Starting new HTTPS connection (1): www.bcg.com:443\n",
      "2020-03-03 16:18:39 [urllib3.connectionpool] DEBUG: https://www.bcg.com:443 \"GET /publications/2016/unleashing-technology-media-telecom-digital-transformation.aspx HTTP/1.1\" 200 53307\n"
     ]
    },
    {
     "name": "stdout",
     "output_type": "stream",
     "text": [
      "https://www.bcg.com/publications/2016/unleashing-technology-media-telecom-digital-transformation.aspx\n"
     ]
    },
    {
     "name": "stderr",
     "output_type": "stream",
     "text": [
      "2020-03-03 16:18:42 [scrapy.core.engine] DEBUG: Crawled (200) <GET https://www.bcg.com/publications/2016/process-industries-energy-environment-middle-easts-petrochemical-industry-reinvent-itself.aspx> (referer: None)\n",
      "2020-03-03 16:18:42 [urllib3.connectionpool] DEBUG: Starting new HTTPS connection (1): www.bcg.com:443\n",
      "2020-03-03 16:18:42 [urllib3.connectionpool] DEBUG: https://www.bcg.com:443 \"GET /publications/2016/process-industries-energy-environment-middle-easts-petrochemical-industry-reinvent-itself.aspx HTTP/1.1\" 200 None\n",
      "2020-03-03 16:18:42 [urllib3.connectionpool] DEBUG: Starting new HTTPS connection (1): www.bcg.com:443\n",
      "2020-03-03 16:18:42 [urllib3.connectionpool] DEBUG: https://www.bcg.com:443 \"GET /publications/2016/process-industries-energy-environment-middle-easts-petrochemical-industry-reinvent-itself.aspx HTTP/1.1\" 200 50782\n"
     ]
    },
    {
     "name": "stdout",
     "output_type": "stream",
     "text": [
      "https://www.bcg.com/publications/2016/process-industries-energy-environment-middle-easts-petrochemical-industry-reinvent-itself.aspx\n"
     ]
    },
    {
     "name": "stderr",
     "output_type": "stream",
     "text": [
      "2020-03-03 16:18:44 [scrapy.core.engine] DEBUG: Crawled (200) <GET https://www.bcg.com/publications/2016/hardware-software-entertainment-media-riding-waves-innovation-technology-industry.aspx> (referer: None)\n",
      "2020-03-03 16:18:45 [urllib3.connectionpool] DEBUG: Starting new HTTPS connection (1): www.bcg.com:443\n",
      "2020-03-03 16:18:45 [urllib3.connectionpool] DEBUG: https://www.bcg.com:443 \"GET /publications/2016/hardware-software-entertainment-media-riding-waves-innovation-technology-industry.aspx HTTP/1.1\" 200 None\n",
      "2020-03-03 16:18:45 [urllib3.connectionpool] DEBUG: Starting new HTTPS connection (1): www.bcg.com:443\n",
      "2020-03-03 16:18:45 [urllib3.connectionpool] DEBUG: https://www.bcg.com:443 \"GET /publications/2016/hardware-software-entertainment-media-riding-waves-innovation-technology-industry.aspx HTTP/1.1\" 200 52982\n"
     ]
    },
    {
     "name": "stdout",
     "output_type": "stream",
     "text": [
      "https://www.bcg.com/publications/2016/hardware-software-entertainment-media-riding-waves-innovation-technology-industry.aspx\n"
     ]
    },
    {
     "name": "stderr",
     "output_type": "stream",
     "text": [
      "2020-03-03 16:18:48 [scrapy.core.engine] DEBUG: Crawled (200) <GET https://www.bcg.com/publications/2018/corporate-center-future.aspx> (referer: None)\n",
      "2020-03-03 16:18:48 [urllib3.connectionpool] DEBUG: Starting new HTTPS connection (1): www.bcg.com:443\n",
      "2020-03-03 16:18:48 [urllib3.connectionpool] DEBUG: https://www.bcg.com:443 \"GET /publications/2018/corporate-center-future.aspx HTTP/1.1\" 200 47183\n",
      "2020-03-03 16:18:48 [urllib3.connectionpool] DEBUG: Starting new HTTPS connection (1): www.bcg.com:443\n",
      "2020-03-03 16:18:48 [urllib3.connectionpool] DEBUG: https://www.bcg.com:443 \"GET /publications/2018/corporate-center-future.aspx HTTP/1.1\" 200 47183\n"
     ]
    },
    {
     "name": "stdout",
     "output_type": "stream",
     "text": [
      "https://www.bcg.com/publications/2018/corporate-center-future.aspx\n"
     ]
    },
    {
     "name": "stderr",
     "output_type": "stream",
     "text": [
      "2020-03-03 16:18:48 [scrapy.core.engine] DEBUG: Crawled (200) <GET https://www.bcg.com/publications/2016/engineered-products-infrastructure-introducing-ecs-technology-index.aspx> (referer: None)\n",
      "2020-03-03 16:18:48 [urllib3.connectionpool] DEBUG: Starting new HTTPS connection (1): www.bcg.com:443\n",
      "2020-03-03 16:18:49 [urllib3.connectionpool] DEBUG: https://www.bcg.com:443 \"GET /publications/2016/engineered-products-infrastructure-introducing-ecs-technology-index.aspx HTTP/1.1\" 200 48059\n",
      "2020-03-03 16:18:49 [urllib3.connectionpool] DEBUG: Starting new HTTPS connection (1): www.bcg.com:443\n",
      "2020-03-03 16:18:49 [urllib3.connectionpool] DEBUG: https://www.bcg.com:443 \"GET /publications/2016/engineered-products-infrastructure-introducing-ecs-technology-index.aspx HTTP/1.1\" 200 48059\n"
     ]
    },
    {
     "name": "stdout",
     "output_type": "stream",
     "text": [
      "https://www.bcg.com/publications/2016/engineered-products-infrastructure-introducing-ecs-technology-index.aspx\n"
     ]
    },
    {
     "name": "stderr",
     "output_type": "stream",
     "text": [
      "2020-03-03 16:18:51 [scrapy.core.engine] DEBUG: Crawled (200) <GET https://www.bcg.com/publications/2016/telecommunications-technology-tebit-drilling-digital-gold.aspx> (referer: None)\n",
      "2020-03-03 16:18:52 [scrapy.core.engine] DEBUG: Crawled (200) <GET https://www.bcg.com/publications/2016/tapping-into-the-transformative-power-of-service-4.aspx> (referer: None)\n",
      "2020-03-03 16:18:52 [urllib3.connectionpool] DEBUG: Starting new HTTPS connection (1): www.bcg.com:443\n",
      "2020-03-03 16:18:52 [urllib3.connectionpool] DEBUG: https://www.bcg.com:443 \"GET /publications/2016/telecommunications-technology-tebit-drilling-digital-gold.aspx HTTP/1.1\" 200 None\n"
     ]
    },
    {
     "name": "stdout",
     "output_type": "stream",
     "text": [
      "https://www.bcg.com/publications/2016/telecommunications-technology-tebit-drilling-digital-gold.aspx\n"
     ]
    },
    {
     "name": "stderr",
     "output_type": "stream",
     "text": [
      "2020-03-03 16:18:52 [urllib3.connectionpool] DEBUG: Starting new HTTPS connection (1): www.bcg.com:443\n",
      "2020-03-03 16:18:52 [urllib3.connectionpool] DEBUG: https://www.bcg.com:443 \"GET /publications/2016/telecommunications-technology-tebit-drilling-digital-gold.aspx HTTP/1.1\" 200 66262\n",
      "2020-03-03 16:18:52 [urllib3.connectionpool] DEBUG: Starting new HTTPS connection (1): www.bcg.com:443\n",
      "2020-03-03 16:18:52 [urllib3.connectionpool] DEBUG: https://www.bcg.com:443 \"GET /publications/2016/tapping-into-the-transformative-power-of-service-4.aspx HTTP/1.1\" 200 56329\n",
      "2020-03-03 16:18:52 [urllib3.connectionpool] DEBUG: Starting new HTTPS connection (1): www.bcg.com:443\n",
      "2020-03-03 16:18:52 [urllib3.connectionpool] DEBUG: https://www.bcg.com:443 \"GET /publications/2016/tapping-into-the-transformative-power-of-service-4.aspx HTTP/1.1\" 200 56329\n"
     ]
    },
    {
     "name": "stdout",
     "output_type": "stream",
     "text": [
      "https://www.bcg.com/publications/2016/tapping-into-the-transformative-power-of-service-4.aspx\n"
     ]
    },
    {
     "name": "stderr",
     "output_type": "stream",
     "text": [
      "2020-03-03 16:18:55 [scrapy.core.engine] DEBUG: Crawled (200) <GET https://www.bcg.com/publications/2016/transportation-travel-tourism-automotive-will-autonomous-vehicles-derail-trains.aspx> (referer: None)\n",
      "2020-03-03 16:18:55 [urllib3.connectionpool] DEBUG: Starting new HTTPS connection (1): www.bcg.com:443\n",
      "2020-03-03 16:18:55 [urllib3.connectionpool] DEBUG: https://www.bcg.com:443 \"GET /publications/2016/transportation-travel-tourism-automotive-will-autonomous-vehicles-derail-trains.aspx HTTP/1.1\" 200 57262\n",
      "2020-03-03 16:18:55 [urllib3.connectionpool] DEBUG: Starting new HTTPS connection (1): www.bcg.com:443\n",
      "2020-03-03 16:18:55 [urllib3.connectionpool] DEBUG: https://www.bcg.com:443 \"GET /publications/2016/transportation-travel-tourism-automotive-will-autonomous-vehicles-derail-trains.aspx HTTP/1.1\" 200 57262\n",
      "2020-03-03 16:18:55 [scrapy.core.engine] DEBUG: Crawled (200) <GET https://www.bcg.com/publications/2016/digital-revolution-trade-finance.aspx> (referer: None)\n"
     ]
    },
    {
     "name": "stdout",
     "output_type": "stream",
     "text": [
      "https://www.bcg.com/publications/2016/transportation-travel-tourism-automotive-will-autonomous-vehicles-derail-trains.aspx\n"
     ]
    },
    {
     "name": "stderr",
     "output_type": "stream",
     "text": [
      "2020-03-03 16:18:55 [urllib3.connectionpool] DEBUG: Starting new HTTPS connection (1): www.bcg.com:443\n",
      "2020-03-03 16:18:55 [urllib3.connectionpool] DEBUG: https://www.bcg.com:443 \"GET /publications/2016/digital-revolution-trade-finance.aspx HTTP/1.1\" 200 50964\n",
      "2020-03-03 16:18:55 [urllib3.connectionpool] DEBUG: Starting new HTTPS connection (1): www.bcg.com:443\n",
      "2020-03-03 16:18:55 [urllib3.connectionpool] DEBUG: https://www.bcg.com:443 \"GET /publications/2016/digital-revolution-trade-finance.aspx HTTP/1.1\" 200 50964\n"
     ]
    },
    {
     "name": "stdout",
     "output_type": "stream",
     "text": [
      "https://www.bcg.com/publications/2016/digital-revolution-trade-finance.aspx\n"
     ]
    },
    {
     "name": "stderr",
     "output_type": "stream",
     "text": [
      "2020-03-03 16:18:55 [scrapy.core.engine] DEBUG: Crawled (200) <GET https://www.bcg.com/publications/2016/building-a-digital-technology-foundation-in-insurance.aspx> (referer: None)\n",
      "2020-03-03 16:18:56 [urllib3.connectionpool] DEBUG: Starting new HTTPS connection (1): www.bcg.com:443\n",
      "2020-03-03 16:18:56 [urllib3.connectionpool] DEBUG: https://www.bcg.com:443 \"GET /publications/2016/building-a-digital-technology-foundation-in-insurance.aspx HTTP/1.1\" 200 None\n",
      "2020-03-03 16:18:56 [urllib3.connectionpool] DEBUG: Starting new HTTPS connection (1): www.bcg.com:443\n"
     ]
    },
    {
     "name": "stdout",
     "output_type": "stream",
     "text": [
      "https://www.bcg.com/publications/2016/building-a-digital-technology-foundation-in-insurance.aspx\n"
     ]
    },
    {
     "name": "stderr",
     "output_type": "stream",
     "text": [
      "2020-03-03 16:18:56 [urllib3.connectionpool] DEBUG: https://www.bcg.com:443 \"GET /publications/2016/building-a-digital-technology-foundation-in-insurance.aspx HTTP/1.1\" 200 50670\n",
      "2020-03-03 16:19:00 [scrapy.core.engine] DEBUG: Crawled (200) <GET https://www.bcg.com/publications/2017/strategy-agenda-for-future-global-business.aspx> (referer: None)\n",
      "2020-03-03 16:19:00 [urllib3.connectionpool] DEBUG: Starting new HTTPS connection (1): www.bcg.com:443\n",
      "2020-03-03 16:19:01 [urllib3.connectionpool] DEBUG: https://www.bcg.com:443 \"GET /publications/2017/strategy-agenda-for-future-global-business.aspx HTTP/1.1\" 200 None\n",
      "2020-03-03 16:19:01 [urllib3.connectionpool] DEBUG: Starting new HTTPS connection (1): www.bcg.com:443\n"
     ]
    },
    {
     "name": "stdout",
     "output_type": "stream",
     "text": [
      "https://www.bcg.com/publications/2017/strategy-agenda-for-future-global-business.aspx\n"
     ]
    },
    {
     "name": "stderr",
     "output_type": "stream",
     "text": [
      "2020-03-03 16:19:01 [urllib3.connectionpool] DEBUG: https://www.bcg.com:443 \"GET /publications/2017/strategy-agenda-for-future-global-business.aspx HTTP/1.1\" 200 54097\n",
      "2020-03-03 16:19:01 [scrapy.core.engine] DEBUG: Crawled (200) <GET https://www.bcg.com/publications/2016/consumer-products-four-strategies-creating-sustaining-value-dairy.aspx> (referer: None)\n",
      "2020-03-03 16:19:01 [urllib3.connectionpool] DEBUG: Starting new HTTPS connection (1): www.bcg.com:443\n",
      "2020-03-03 16:19:01 [urllib3.connectionpool] DEBUG: https://www.bcg.com:443 \"GET /publications/2016/consumer-products-four-strategies-creating-sustaining-value-dairy.aspx HTTP/1.1\" 200 None\n"
     ]
    },
    {
     "name": "stdout",
     "output_type": "stream",
     "text": [
      "https://www.bcg.com/publications/2016/consumer-products-four-strategies-creating-sustaining-value-dairy.aspx\n"
     ]
    },
    {
     "name": "stderr",
     "output_type": "stream",
     "text": [
      "2020-03-03 16:19:01 [urllib3.connectionpool] DEBUG: Starting new HTTPS connection (1): www.bcg.com:443\n",
      "2020-03-03 16:19:01 [urllib3.connectionpool] DEBUG: https://www.bcg.com:443 \"GET /publications/2016/consumer-products-four-strategies-creating-sustaining-value-dairy.aspx HTTP/1.1\" 200 58504\n",
      "2020-03-03 16:19:01 [scrapy.extensions.logstats] INFO: Crawled 315 pages (at 51 pages/min), scraped 0 items (at 0 items/min)\n",
      "2020-03-03 16:19:03 [scrapy.core.engine] DEBUG: Crawled (200) <GET https://www.bcg.com/publications/2016/promise-and-responsibilities-in-our-digital-world-our-take-on-the-usi-2016-conference.aspx> (referer: None)\n",
      "2020-03-03 16:19:03 [urllib3.connectionpool] DEBUG: Starting new HTTPS connection (1): www.bcg.com:443\n",
      "2020-03-03 16:19:03 [urllib3.connectionpool] DEBUG: https://www.bcg.com:443 \"GET /publications/2016/promise-and-responsibilities-in-our-digital-world-our-take-on-the-usi-2016-conference.aspx HTTP/1.1\" 200 50842\n",
      "2020-03-03 16:19:03 [urllib3.connectionpool] DEBUG: Starting new HTTPS connection (1): www.bcg.com:443\n",
      "2020-03-03 16:19:03 [urllib3.connectionpool] DEBUG: https://www.bcg.com:443 \"GET /publications/2016/promise-and-responsibilities-in-our-digital-world-our-take-on-the-usi-2016-conference.aspx HTTP/1.1\" 200 50842\n"
     ]
    },
    {
     "name": "stdout",
     "output_type": "stream",
     "text": [
      "https://www.bcg.com/publications/2016/promise-and-responsibilities-in-our-digital-world-our-take-on-the-usi-2016-conference.aspx\n"
     ]
    },
    {
     "name": "stderr",
     "output_type": "stream",
     "text": [
      "2020-03-03 16:19:06 [scrapy.core.engine] DEBUG: Crawled (200) <GET https://www.bcg.com/publications/2016/strategy-technology-digital-double-game-of-digital-management-managing-in-times-of-big-data-and-analytics.aspx> (referer: None)\n",
      "2020-03-03 16:19:06 [urllib3.connectionpool] DEBUG: Starting new HTTPS connection (1): www.bcg.com:443\n",
      "2020-03-03 16:19:06 [urllib3.connectionpool] DEBUG: https://www.bcg.com:443 \"GET /publications/2016/strategy-technology-digital-double-game-of-digital-management-managing-in-times-of-big-data-and-analytics.aspx HTTP/1.1\" 200 52051\n",
      "2020-03-03 16:19:06 [urllib3.connectionpool] DEBUG: Starting new HTTPS connection (1): www.bcg.com:443\n",
      "2020-03-03 16:19:06 [urllib3.connectionpool] DEBUG: https://www.bcg.com:443 \"GET /publications/2016/strategy-technology-digital-double-game-of-digital-management-managing-in-times-of-big-data-and-analytics.aspx HTTP/1.1\" 200 52051\n"
     ]
    },
    {
     "name": "stdout",
     "output_type": "stream",
     "text": [
      "https://www.bcg.com/publications/2016/strategy-technology-digital-double-game-of-digital-management-managing-in-times-of-big-data-and-analytics.aspx\n"
     ]
    },
    {
     "name": "stderr",
     "output_type": "stream",
     "text": [
      "2020-03-03 16:19:10 [scrapy.core.engine] DEBUG: Crawled (200) <GET https://www.bcg.com/publications/2016/marketing-sales-brand-strategy-identifying-sources-of-demand-fuel-growth.aspx> (referer: None)\n",
      "2020-03-03 16:19:10 [urllib3.connectionpool] DEBUG: Starting new HTTPS connection (1): www.bcg.com:443\n",
      "2020-03-03 16:19:10 [urllib3.connectionpool] DEBUG: https://www.bcg.com:443 \"GET /publications/2016/marketing-sales-brand-strategy-identifying-sources-of-demand-fuel-growth.aspx HTTP/1.1\" 200 56391\n",
      "2020-03-03 16:19:10 [urllib3.connectionpool] DEBUG: Starting new HTTPS connection (1): www.bcg.com:443\n",
      "2020-03-03 16:19:10 [urllib3.connectionpool] DEBUG: https://www.bcg.com:443 \"GET /publications/2016/marketing-sales-brand-strategy-identifying-sources-of-demand-fuel-growth.aspx HTTP/1.1\" 200 56391\n"
     ]
    },
    {
     "name": "stdout",
     "output_type": "stream",
     "text": [
      "https://www.bcg.com/publications/2016/marketing-sales-brand-strategy-identifying-sources-of-demand-fuel-growth.aspx\n"
     ]
    },
    {
     "name": "stderr",
     "output_type": "stream",
     "text": [
      "2020-03-03 16:19:10 [scrapy.core.engine] DEBUG: Crawled (200) <GET https://www.bcg.com/publications/2016/corporate-development-finance-telecommunications-risto-siilasmaa-rebirth-nokia.aspx> (referer: None)\n",
      "2020-03-03 16:19:10 [urllib3.connectionpool] DEBUG: Starting new HTTPS connection (1): www.bcg.com:443\n",
      "2020-03-03 16:19:10 [urllib3.connectionpool] DEBUG: https://www.bcg.com:443 \"GET /publications/2016/corporate-development-finance-telecommunications-risto-siilasmaa-rebirth-nokia.aspx HTTP/1.1\" 200 44818\n",
      "2020-03-03 16:19:10 [urllib3.connectionpool] DEBUG: Starting new HTTPS connection (1): www.bcg.com:443\n",
      "2020-03-03 16:19:10 [urllib3.connectionpool] DEBUG: https://www.bcg.com:443 \"GET /publications/2016/corporate-development-finance-telecommunications-risto-siilasmaa-rebirth-nokia.aspx HTTP/1.1\" 200 44818\n"
     ]
    },
    {
     "name": "stdout",
     "output_type": "stream",
     "text": [
      "https://www.bcg.com/publications/2016/corporate-development-finance-telecommunications-risto-siilasmaa-rebirth-nokia.aspx\n"
     ]
    },
    {
     "name": "stderr",
     "output_type": "stream",
     "text": [
      "2020-03-03 16:19:13 [scrapy.core.engine] DEBUG: Crawled (200) <GET https://www.bcg.com/publications/2016/why-the-us-presidential-transition-process-should-start-now.aspx> (referer: None)\n",
      "2020-03-03 16:19:13 [urllib3.connectionpool] DEBUG: Starting new HTTPS connection (1): www.bcg.com:443\n",
      "2020-03-03 16:19:13 [urllib3.connectionpool] DEBUG: https://www.bcg.com:443 \"GET /publications/2016/why-the-us-presidential-transition-process-should-start-now.aspx HTTP/1.1\" 200 48832\n",
      "2020-03-03 16:19:13 [urllib3.connectionpool] DEBUG: Starting new HTTPS connection (1): www.bcg.com:443\n"
     ]
    },
    {
     "name": "stdout",
     "output_type": "stream",
     "text": [
      "https://www.bcg.com/publications/2016/why-the-us-presidential-transition-process-should-start-now.aspx\n"
     ]
    },
    {
     "name": "stderr",
     "output_type": "stream",
     "text": [
      "2020-03-03 16:19:13 [urllib3.connectionpool] DEBUG: https://www.bcg.com:443 \"GET /publications/2016/why-the-us-presidential-transition-process-should-start-now.aspx HTTP/1.1\" 200 48832\n",
      "2020-03-03 16:19:13 [scrapy.core.engine] DEBUG: Crawled (200) <GET https://www.bcg.com/publications/2016/financial-institutions-global-asset-management-2016-doubling-down-on-data.aspx> (referer: None)\n",
      "2020-03-03 16:19:13 [urllib3.connectionpool] DEBUG: Starting new HTTPS connection (1): www.bcg.com:443\n",
      "2020-03-03 16:19:13 [urllib3.connectionpool] DEBUG: https://www.bcg.com:443 \"GET /publications/2016/financial-institutions-global-asset-management-2016-doubling-down-on-data.aspx HTTP/1.1\" 200 None\n",
      "2020-03-03 16:19:13 [urllib3.connectionpool] DEBUG: Starting new HTTPS connection (1): www.bcg.com:443\n"
     ]
    },
    {
     "name": "stdout",
     "output_type": "stream",
     "text": [
      "https://www.bcg.com/publications/2016/financial-institutions-global-asset-management-2016-doubling-down-on-data.aspx\n"
     ]
    },
    {
     "name": "stderr",
     "output_type": "stream",
     "text": [
      "2020-03-03 16:19:13 [urllib3.connectionpool] DEBUG: https://www.bcg.com:443 \"GET /publications/2016/financial-institutions-global-asset-management-2016-doubling-down-on-data.aspx HTTP/1.1\" 200 57278\n",
      "2020-03-03 16:19:13 [scrapy.core.engine] DEBUG: Crawled (200) <GET https://www.bcg.com/publications/2016/financial-institutions-asset-wealth-management-an-asset-managers-guide-to-data-and-digital-disruption.aspx> (referer: None)\n",
      "2020-03-03 16:19:13 [urllib3.connectionpool] DEBUG: Starting new HTTPS connection (1): www.bcg.com:443\n",
      "2020-03-03 16:19:14 [urllib3.connectionpool] DEBUG: https://www.bcg.com:443 \"GET /publications/2016/financial-institutions-asset-wealth-management-an-asset-managers-guide-to-data-and-digital-disruption.aspx HTTP/1.1\" 200 49624\n",
      "2020-03-03 16:19:14 [urllib3.connectionpool] DEBUG: Starting new HTTPS connection (1): www.bcg.com:443\n",
      "2020-03-03 16:19:14 [urllib3.connectionpool] DEBUG: https://www.bcg.com:443 \"GET /publications/2016/financial-institutions-asset-wealth-management-an-asset-managers-guide-to-data-and-digital-disruption.aspx HTTP/1.1\" 200 49624\n"
     ]
    },
    {
     "name": "stdout",
     "output_type": "stream",
     "text": [
      "https://www.bcg.com/publications/2016/financial-institutions-asset-wealth-management-an-asset-managers-guide-to-data-and-digital-disruption.aspx\n"
     ]
    },
    {
     "name": "stderr",
     "output_type": "stream",
     "text": [
      "2020-03-03 16:19:16 [scrapy.core.engine] DEBUG: Crawled (200) <GET https://www.bcg.com/publications/2016/financial-institutions-asset-wealth-management-how-asset-managers-can-succeed-with-advanced-analytics.aspx> (referer: None)\n",
      "2020-03-03 16:19:16 [urllib3.connectionpool] DEBUG: Starting new HTTPS connection (1): www.bcg.com:443\n",
      "2020-03-03 16:19:16 [urllib3.connectionpool] DEBUG: https://www.bcg.com:443 \"GET /publications/2016/financial-institutions-asset-wealth-management-how-asset-managers-can-succeed-with-advanced-analytics.aspx HTTP/1.1\" 200 50580\n",
      "2020-03-03 16:19:16 [urllib3.connectionpool] DEBUG: Starting new HTTPS connection (1): www.bcg.com:443\n",
      "2020-03-03 16:19:16 [urllib3.connectionpool] DEBUG: https://www.bcg.com:443 \"GET /publications/2016/financial-institutions-asset-wealth-management-how-asset-managers-can-succeed-with-advanced-analytics.aspx HTTP/1.1\" 200 50580\n"
     ]
    },
    {
     "name": "stdout",
     "output_type": "stream",
     "text": [
      "https://www.bcg.com/publications/2016/financial-institutions-asset-wealth-management-how-asset-managers-can-succeed-with-advanced-analytics.aspx\n"
     ]
    },
    {
     "name": "stderr",
     "output_type": "stream",
     "text": [
      "2020-03-03 16:19:16 [scrapy.core.engine] DEBUG: Crawled (200) <GET https://www.bcg.com/publications/2016/energy-environment-large-capex-schedules-large-projects-shouldnt-include-dates.aspx> (referer: None)\n",
      "2020-03-03 16:19:16 [urllib3.connectionpool] DEBUG: Starting new HTTPS connection (1): www.bcg.com:443\n",
      "2020-03-03 16:19:16 [urllib3.connectionpool] DEBUG: https://www.bcg.com:443 \"GET /publications/2016/energy-environment-large-capex-schedules-large-projects-shouldnt-include-dates.aspx HTTP/1.1\" 200 50657\n",
      "2020-03-03 16:19:16 [urllib3.connectionpool] DEBUG: Starting new HTTPS connection (1): www.bcg.com:443\n",
      "2020-03-03 16:19:16 [urllib3.connectionpool] DEBUG: https://www.bcg.com:443 \"GET /publications/2016/energy-environment-large-capex-schedules-large-projects-shouldnt-include-dates.aspx HTTP/1.1\" 200 50657\n"
     ]
    },
    {
     "name": "stdout",
     "output_type": "stream",
     "text": [
      "https://www.bcg.com/publications/2016/energy-environment-large-capex-schedules-large-projects-shouldnt-include-dates.aspx\n"
     ]
    },
    {
     "name": "stderr",
     "output_type": "stream",
     "text": [
      "2020-03-03 16:19:20 [scrapy.core.engine] DEBUG: Crawled (200) <GET https://www.bcg.com/publications/2016/how-to-hedge-your-strategic-bets.aspx> (referer: None)\n",
      "2020-03-03 16:19:20 [urllib3.connectionpool] DEBUG: Starting new HTTPS connection (1): www.bcg.com:443\n",
      "2020-03-03 16:19:20 [urllib3.connectionpool] DEBUG: https://www.bcg.com:443 \"GET /publications/2016/how-to-hedge-your-strategic-bets.aspx HTTP/1.1\" 200 51336\n",
      "2020-03-03 16:19:20 [urllib3.connectionpool] DEBUG: Starting new HTTPS connection (1): www.bcg.com:443\n",
      "2020-03-03 16:19:20 [urllib3.connectionpool] DEBUG: https://www.bcg.com:443 \"GET /publications/2016/how-to-hedge-your-strategic-bets.aspx HTTP/1.1\" 200 51336\n"
     ]
    },
    {
     "name": "stdout",
     "output_type": "stream",
     "text": [
      "https://www.bcg.com/publications/2016/how-to-hedge-your-strategic-bets.aspx\n"
     ]
    },
    {
     "name": "stderr",
     "output_type": "stream",
     "text": [
      "2020-03-03 16:19:20 [scrapy.core.engine] DEBUG: Crawled (200) <GET https://www.bcg.com/publications/2018/why-carmakers-are-racing-to-go-digital.aspx> (referer: None)\n",
      "2020-03-03 16:19:20 [scrapy.core.engine] DEBUG: Crawled (200) <GET https://www.bcg.com/publications/2016/marketing-sales-pricing-how-hardware-makers-can-win-software-world.aspx> (referer: None)\n",
      "2020-03-03 16:19:20 [urllib3.connectionpool] DEBUG: Starting new HTTPS connection (1): www.bcg.com:443\n",
      "2020-03-03 16:19:20 [urllib3.connectionpool] DEBUG: https://www.bcg.com:443 \"GET /publications/2018/why-carmakers-are-racing-to-go-digital.aspx HTTP/1.1\" 200 53666\n",
      "2020-03-03 16:19:20 [urllib3.connectionpool] DEBUG: Starting new HTTPS connection (1): www.bcg.com:443\n",
      "2020-03-03 16:19:20 [urllib3.connectionpool] DEBUG: https://www.bcg.com:443 \"GET /publications/2018/why-carmakers-are-racing-to-go-digital.aspx HTTP/1.1\" 200 53666\n"
     ]
    },
    {
     "name": "stdout",
     "output_type": "stream",
     "text": [
      "https://www.bcg.com/publications/2018/why-carmakers-are-racing-to-go-digital.aspx\n"
     ]
    },
    {
     "name": "stderr",
     "output_type": "stream",
     "text": [
      "2020-03-03 16:19:20 [scrapy.core.engine] DEBUG: Crawled (200) <GET https://www.bcg.com/publications/2016/business-unit-strategy-forks-road-navigating-industry-disruption.aspx> (referer: None)\n",
      "2020-03-03 16:19:20 [scrapy.core.engine] DEBUG: Crawled (200) <GET https://www.bcg.com/publications/2016/strategy-technology-digital-integrated-strategy-machine-using-ai-create-advantage.aspx> (referer: None)\n",
      "2020-03-03 16:19:20 [urllib3.connectionpool] DEBUG: Starting new HTTPS connection (1): www.bcg.com:443\n",
      "2020-03-03 16:19:20 [urllib3.connectionpool] DEBUG: https://www.bcg.com:443 \"GET /publications/2016/marketing-sales-pricing-how-hardware-makers-can-win-software-world.aspx HTTP/1.1\" 200 51690\n",
      "2020-03-03 16:19:20 [urllib3.connectionpool] DEBUG: Starting new HTTPS connection (1): www.bcg.com:443\n",
      "2020-03-03 16:19:20 [urllib3.connectionpool] DEBUG: https://www.bcg.com:443 \"GET /publications/2016/marketing-sales-pricing-how-hardware-makers-can-win-software-world.aspx HTTP/1.1\" 200 51690\n",
      "2020-03-03 16:19:20 [urllib3.connectionpool] DEBUG: Starting new HTTPS connection (1): www.bcg.com:443\n"
     ]
    },
    {
     "name": "stdout",
     "output_type": "stream",
     "text": [
      "https://www.bcg.com/publications/2016/marketing-sales-pricing-how-hardware-makers-can-win-software-world.aspx\n",
      "https://www.bcg.com/publications/2016/business-unit-strategy-forks-road-navigating-industry-disruption.aspx\n"
     ]
    },
    {
     "name": "stderr",
     "output_type": "stream",
     "text": [
      "2020-03-03 16:19:20 [urllib3.connectionpool] DEBUG: https://www.bcg.com:443 \"GET /publications/2016/business-unit-strategy-forks-road-navigating-industry-disruption.aspx HTTP/1.1\" 200 52575\n",
      "2020-03-03 16:19:20 [urllib3.connectionpool] DEBUG: Starting new HTTPS connection (1): www.bcg.com:443\n",
      "2020-03-03 16:19:20 [urllib3.connectionpool] DEBUG: https://www.bcg.com:443 \"GET /publications/2016/business-unit-strategy-forks-road-navigating-industry-disruption.aspx HTTP/1.1\" 200 52575\n",
      "2020-03-03 16:19:21 [urllib3.connectionpool] DEBUG: Starting new HTTPS connection (1): www.bcg.com:443\n",
      "2020-03-03 16:19:21 [urllib3.connectionpool] DEBUG: https://www.bcg.com:443 \"GET /publications/2016/strategy-technology-digital-integrated-strategy-machine-using-ai-create-advantage.aspx HTTP/1.1\" 200 55216\n",
      "2020-03-03 16:19:21 [urllib3.connectionpool] DEBUG: Starting new HTTPS connection (1): www.bcg.com:443\n",
      "2020-03-03 16:19:21 [urllib3.connectionpool] DEBUG: https://www.bcg.com:443 \"GET /publications/2016/strategy-technology-digital-integrated-strategy-machine-using-ai-create-advantage.aspx HTTP/1.1\" 200 55216\n",
      "2020-03-03 16:19:21 [scrapy.core.scraper] ERROR: Spider error processing <GET https://www.bcg.com/publications/2016/strategy-technology-digital-integrated-strategy-machine-using-ai-create-advantage.aspx> (referer: None)\n",
      "Traceback (most recent call last):\n",
      "  File \"C:\\programs\\Continuum\\anaconda3\\lib\\site-packages\\twisted\\internet\\defer.py\", line 654, in _runCallbacks\n",
      "    current.result = callback(current.result, *args, **kw)\n",
      "  File \"<ipython-input-11-426921d2562a>\", line 37, in parse\n",
      "    page_date = re.findall(date_regex, script_text)[0]\n",
      "IndexError: list index out of range\n"
     ]
    },
    {
     "name": "stdout",
     "output_type": "stream",
     "text": [
      "https://www.bcg.com/publications/2016/strategy-technology-digital-integrated-strategy-machine-using-ai-create-advantage.aspx\n"
     ]
    },
    {
     "name": "stderr",
     "output_type": "stream",
     "text": [
      "2020-03-03 16:19:23 [scrapy.core.engine] DEBUG: Crawled (200) <GET https://www.bcg.com/publications/2016/globalization-consumer-products-understanding-evolving-cuban-consumer.aspx> (referer: None)\n",
      "2020-03-03 16:19:23 [urllib3.connectionpool] DEBUG: Starting new HTTPS connection (1): www.bcg.com:443\n"
     ]
    },
    {
     "name": "stdout",
     "output_type": "stream",
     "text": [
      "https://www.bcg.com/publications/2016/globalization-consumer-products-understanding-evolving-cuban-consumer.aspx\n"
     ]
    },
    {
     "name": "stderr",
     "output_type": "stream",
     "text": [
      "2020-03-03 16:19:23 [urllib3.connectionpool] DEBUG: https://www.bcg.com:443 \"GET /publications/2016/globalization-consumer-products-understanding-evolving-cuban-consumer.aspx HTTP/1.1\" 200 None\n",
      "2020-03-03 16:19:23 [urllib3.connectionpool] DEBUG: Starting new HTTPS connection (1): www.bcg.com:443\n",
      "2020-03-03 16:19:24 [urllib3.connectionpool] DEBUG: https://www.bcg.com:443 \"GET /publications/2016/globalization-consumer-products-understanding-evolving-cuban-consumer.aspx HTTP/1.1\" 200 None\n",
      "2020-03-03 16:19:24 [scrapy.core.engine] DEBUG: Crawled (200) <GET https://www.bcg.com/publications/2016/strategy-consumer-products-winner-take-all-digital-world-for-cpg.aspx> (referer: None)\n",
      "2020-03-03 16:19:24 [scrapy.core.engine] DEBUG: Crawled (200) <GET https://www.bcg.com/publications/2016/technology-people-organization-producing-digital-gains-davos.aspx> (referer: None)\n",
      "2020-03-03 16:19:24 [urllib3.connectionpool] DEBUG: Starting new HTTPS connection (1): www.bcg.com:443\n",
      "2020-03-03 16:19:24 [urllib3.connectionpool] DEBUG: https://www.bcg.com:443 \"GET /publications/2016/strategy-consumer-products-winner-take-all-digital-world-for-cpg.aspx HTTP/1.1\" 200 57109\n",
      "2020-03-03 16:19:24 [urllib3.connectionpool] DEBUG: Starting new HTTPS connection (1): www.bcg.com:443\n"
     ]
    },
    {
     "name": "stdout",
     "output_type": "stream",
     "text": [
      "https://www.bcg.com/publications/2016/strategy-consumer-products-winner-take-all-digital-world-for-cpg.aspx\n"
     ]
    },
    {
     "name": "stderr",
     "output_type": "stream",
     "text": [
      "2020-03-03 16:19:24 [urllib3.connectionpool] DEBUG: https://www.bcg.com:443 \"GET /publications/2016/strategy-consumer-products-winner-take-all-digital-world-for-cpg.aspx HTTP/1.1\" 200 57109\n",
      "2020-03-03 16:19:24 [urllib3.connectionpool] DEBUG: Starting new HTTPS connection (1): www.bcg.com:443\n",
      "2020-03-03 16:19:24 [urllib3.connectionpool] DEBUG: https://www.bcg.com:443 \"GET /publications/2016/technology-people-organization-producing-digital-gains-davos.aspx HTTP/1.1\" 200 47447\n",
      "2020-03-03 16:19:24 [urllib3.connectionpool] DEBUG: Starting new HTTPS connection (1): www.bcg.com:443\n",
      "2020-03-03 16:19:24 [urllib3.connectionpool] DEBUG: https://www.bcg.com:443 \"GET /publications/2016/technology-people-organization-producing-digital-gains-davos.aspx HTTP/1.1\" 200 47447\n"
     ]
    },
    {
     "name": "stdout",
     "output_type": "stream",
     "text": [
      "https://www.bcg.com/publications/2016/technology-people-organization-producing-digital-gains-davos.aspx\n"
     ]
    },
    {
     "name": "stderr",
     "output_type": "stream",
     "text": [
      "2020-03-03 16:19:24 [scrapy.core.engine] DEBUG: Crawled (200) <GET https://www.bcg.com/publications/2016/supply-chain-management-specialty-chemical-distribution-north-america.aspx> (referer: None)\n",
      "2020-03-03 16:19:24 [urllib3.connectionpool] DEBUG: Starting new HTTPS connection (1): www.bcg.com:443\n",
      "2020-03-03 16:19:24 [urllib3.connectionpool] DEBUG: https://www.bcg.com:443 \"GET /publications/2016/supply-chain-management-specialty-chemical-distribution-north-america.aspx HTTP/1.1\" 200 55653\n",
      "2020-03-03 16:19:24 [urllib3.connectionpool] DEBUG: Starting new HTTPS connection (1): www.bcg.com:443\n",
      "2020-03-03 16:19:25 [urllib3.connectionpool] DEBUG: https://www.bcg.com:443 \"GET /publications/2016/supply-chain-management-specialty-chemical-distribution-north-america.aspx HTTP/1.1\" 200 55653\n"
     ]
    },
    {
     "name": "stdout",
     "output_type": "stream",
     "text": [
      "https://www.bcg.com/publications/2016/supply-chain-management-specialty-chemical-distribution-north-america.aspx\n"
     ]
    },
    {
     "name": "stderr",
     "output_type": "stream",
     "text": [
      "2020-03-03 16:19:25 [scrapy.core.engine] DEBUG: Crawled (200) <GET https://www.bcg.com/publications/2016/strategy-business-unit-strategy-biology-of-corporate-survival.aspx> (referer: None)\n",
      "2020-03-03 16:19:25 [urllib3.connectionpool] DEBUG: Starting new HTTPS connection (1): www.bcg.com:443\n",
      "2020-03-03 16:19:25 [urllib3.connectionpool] DEBUG: https://www.bcg.com:443 \"GET /publications/2016/strategy-business-unit-strategy-biology-of-corporate-survival.aspx HTTP/1.1\" 200 57356\n",
      "2020-03-03 16:19:25 [urllib3.connectionpool] DEBUG: Starting new HTTPS connection (1): www.bcg.com:443\n",
      "2020-03-03 16:19:25 [urllib3.connectionpool] DEBUG: https://www.bcg.com:443 \"GET /publications/2016/strategy-business-unit-strategy-biology-of-corporate-survival.aspx HTTP/1.1\" 200 57356\n"
     ]
    },
    {
     "name": "stdout",
     "output_type": "stream",
     "text": [
      "https://www.bcg.com/publications/2016/strategy-business-unit-strategy-biology-of-corporate-survival.aspx\n"
     ]
    },
    {
     "name": "stderr",
     "output_type": "stream",
     "text": [
      "2020-03-03 16:19:25 [scrapy.core.engine] DEBUG: Crawled (200) <GET https://www.bcg.com/publications/2016/big-data-advanced-analytics-patrick-forth-ai-tech-leaders-code-conference.aspx> (referer: None)\n",
      "2020-03-03 16:19:25 [urllib3.connectionpool] DEBUG: Starting new HTTPS connection (1): www.bcg.com:443\n",
      "2020-03-03 16:19:26 [urllib3.connectionpool] DEBUG: https://www.bcg.com:443 \"GET /publications/2016/big-data-advanced-analytics-patrick-forth-ai-tech-leaders-code-conference.aspx HTTP/1.1\" 200 46486\n",
      "2020-03-03 16:19:26 [urllib3.connectionpool] DEBUG: Starting new HTTPS connection (1): www.bcg.com:443\n",
      "2020-03-03 16:19:26 [urllib3.connectionpool] DEBUG: https://www.bcg.com:443 \"GET /publications/2016/big-data-advanced-analytics-patrick-forth-ai-tech-leaders-code-conference.aspx HTTP/1.1\" 200 46486\n"
     ]
    },
    {
     "name": "stdout",
     "output_type": "stream",
     "text": [
      "https://www.bcg.com/publications/2016/big-data-advanced-analytics-patrick-forth-ai-tech-leaders-code-conference.aspx\n"
     ]
    },
    {
     "name": "stderr",
     "output_type": "stream",
     "text": [
      "2020-03-03 16:19:29 [scrapy.core.engine] DEBUG: Crawled (200) <GET https://www.bcg.com/publications/2016/financial-institutions-pricing-how-reap-pricing-windfall-retail-banking.aspx> (referer: None)\n",
      "2020-03-03 16:19:29 [urllib3.connectionpool] DEBUG: Starting new HTTPS connection (1): www.bcg.com:443\n",
      "2020-03-03 16:19:29 [urllib3.connectionpool] DEBUG: https://www.bcg.com:443 \"GET /publications/2016/financial-institutions-pricing-how-reap-pricing-windfall-retail-banking.aspx HTTP/1.1\" 200 53106\n",
      "2020-03-03 16:19:29 [urllib3.connectionpool] DEBUG: Starting new HTTPS connection (1): www.bcg.com:443\n",
      "2020-03-03 16:19:29 [urllib3.connectionpool] DEBUG: https://www.bcg.com:443 \"GET /publications/2016/financial-institutions-pricing-how-reap-pricing-windfall-retail-banking.aspx HTTP/1.1\" 200 53106\n"
     ]
    },
    {
     "name": "stdout",
     "output_type": "stream",
     "text": [
      "https://www.bcg.com/publications/2016/financial-institutions-pricing-how-reap-pricing-windfall-retail-banking.aspx\n"
     ]
    },
    {
     "name": "stderr",
     "output_type": "stream",
     "text": [
      "2020-03-03 16:19:30 [scrapy.core.engine] DEBUG: Crawled (200) <GET https://www.bcg.com/publications/2016/double-game-of-digital-action-structuring-the-program.aspx> (referer: None)\n",
      "2020-03-03 16:19:30 [urllib3.connectionpool] DEBUG: Starting new HTTPS connection (1): www.bcg.com:443\n",
      "2020-03-03 16:19:30 [urllib3.connectionpool] DEBUG: https://www.bcg.com:443 \"GET /publications/2016/double-game-of-digital-action-structuring-the-program.aspx HTTP/1.1\" 200 51965\n",
      "2020-03-03 16:19:30 [urllib3.connectionpool] DEBUG: Starting new HTTPS connection (1): www.bcg.com:443\n"
     ]
    },
    {
     "name": "stdout",
     "output_type": "stream",
     "text": [
      "https://www.bcg.com/publications/2016/double-game-of-digital-action-structuring-the-program.aspx\n"
     ]
    },
    {
     "name": "stderr",
     "output_type": "stream",
     "text": [
      "2020-03-03 16:19:30 [urllib3.connectionpool] DEBUG: https://www.bcg.com:443 \"GET /publications/2016/double-game-of-digital-action-structuring-the-program.aspx HTTP/1.1\" 200 51965\n",
      "2020-03-03 16:19:37 [scrapy.core.engine] DEBUG: Crawled (200) <GET https://www.bcg.com/publications/2015/medical-devices-technology-digital-transformation-insiders-guide-to-the-transformation-of-health-care.aspx> (referer: None)\n",
      "2020-03-03 16:19:37 [urllib3.connectionpool] DEBUG: Starting new HTTPS connection (1): www.bcg.com:443\n",
      "2020-03-03 16:19:37 [urllib3.connectionpool] DEBUG: https://www.bcg.com:443 \"GET /publications/2015/medical-devices-technology-digital-transformation-insiders-guide-to-the-transformation-of-health-care.aspx HTTP/1.1\" 200 51039\n",
      "2020-03-03 16:19:37 [urllib3.connectionpool] DEBUG: Starting new HTTPS connection (1): www.bcg.com:443\n"
     ]
    },
    {
     "name": "stdout",
     "output_type": "stream",
     "text": [
      "https://www.bcg.com/publications/2015/medical-devices-technology-digital-transformation-insiders-guide-to-the-transformation-of-health-care.aspx\n"
     ]
    },
    {
     "name": "stderr",
     "output_type": "stream",
     "text": [
      "2020-03-03 16:19:37 [urllib3.connectionpool] DEBUG: https://www.bcg.com:443 \"GET /publications/2015/medical-devices-technology-digital-transformation-insiders-guide-to-the-transformation-of-health-care.aspx HTTP/1.1\" 200 51039\n",
      "2020-03-03 16:19:40 [scrapy.core.engine] DEBUG: Crawled (200) <GET https://www.bcg.com/publications/2016/technology-digital-transformation-connected-airport-the-time-is-now.aspx> (referer: None)\n",
      "2020-03-03 16:19:40 [urllib3.connectionpool] DEBUG: Starting new HTTPS connection (1): www.bcg.com:443\n",
      "2020-03-03 16:19:41 [urllib3.connectionpool] DEBUG: https://www.bcg.com:443 \"GET /publications/2016/technology-digital-transformation-connected-airport-the-time-is-now.aspx HTTP/1.1\" 200 51216\n",
      "2020-03-03 16:19:41 [urllib3.connectionpool] DEBUG: Starting new HTTPS connection (1): www.bcg.com:443\n",
      "2020-03-03 16:19:41 [urllib3.connectionpool] DEBUG: https://www.bcg.com:443 \"GET /publications/2016/technology-digital-transformation-connected-airport-the-time-is-now.aspx HTTP/1.1\" 200 51216\n"
     ]
    },
    {
     "name": "stdout",
     "output_type": "stream",
     "text": [
      "https://www.bcg.com/publications/2016/technology-digital-transformation-connected-airport-the-time-is-now.aspx\n"
     ]
    },
    {
     "name": "stderr",
     "output_type": "stream",
     "text": [
      "2020-03-03 16:19:41 [scrapy.core.engine] DEBUG: Crawled (200) <GET https://www.bcg.com/publications/2015/engineered-products-infrastructure-bringing-digital-disruption-building-materials.aspx> (referer: None)\n",
      "2020-03-03 16:19:41 [urllib3.connectionpool] DEBUG: Starting new HTTPS connection (1): www.bcg.com:443\n",
      "2020-03-03 16:19:41 [urllib3.connectionpool] DEBUG: https://www.bcg.com:443 \"GET /publications/2015/engineered-products-infrastructure-bringing-digital-disruption-building-materials.aspx HTTP/1.1\" 200 53586\n",
      "2020-03-03 16:19:41 [urllib3.connectionpool] DEBUG: Starting new HTTPS connection (1): www.bcg.com:443\n",
      "2020-03-03 16:19:41 [urllib3.connectionpool] DEBUG: https://www.bcg.com:443 \"GET /publications/2015/engineered-products-infrastructure-bringing-digital-disruption-building-materials.aspx HTTP/1.1\" 200 53586\n"
     ]
    },
    {
     "name": "stdout",
     "output_type": "stream",
     "text": [
      "https://www.bcg.com/publications/2015/engineered-products-infrastructure-bringing-digital-disruption-building-materials.aspx\n"
     ]
    },
    {
     "name": "stderr",
     "output_type": "stream",
     "text": [
      "2020-03-03 16:19:43 [scrapy.core.engine] DEBUG: Crawled (200) <GET https://www.bcg.com/publications/2016/globalization-people-organization-creating-diverse-organization-how-thrive-complex-world.aspx> (referer: None)\n",
      "2020-03-03 16:19:43 [urllib3.connectionpool] DEBUG: Starting new HTTPS connection (1): www.bcg.com:443\n",
      "2020-03-03 16:19:43 [urllib3.connectionpool] DEBUG: https://www.bcg.com:443 \"GET /publications/2016/globalization-people-organization-creating-diverse-organization-how-thrive-complex-world.aspx HTTP/1.1\" 200 50257\n",
      "2020-03-03 16:19:43 [urllib3.connectionpool] DEBUG: Starting new HTTPS connection (1): www.bcg.com:443\n",
      "2020-03-03 16:19:43 [urllib3.connectionpool] DEBUG: https://www.bcg.com:443 \"GET /publications/2016/globalization-people-organization-creating-diverse-organization-how-thrive-complex-world.aspx HTTP/1.1\" 200 50257\n"
     ]
    },
    {
     "name": "stdout",
     "output_type": "stream",
     "text": [
      "https://www.bcg.com/publications/2016/globalization-people-organization-creating-diverse-organization-how-thrive-complex-world.aspx\n"
     ]
    },
    {
     "name": "stderr",
     "output_type": "stream",
     "text": [
      "2020-03-03 16:19:46 [scrapy.core.engine] DEBUG: Crawled (200) <GET https://www.bcg.com/publications/2016/why-technology-matters.aspx> (referer: None)\n",
      "2020-03-03 16:19:47 [urllib3.connectionpool] DEBUG: Starting new HTTPS connection (1): www.bcg.com:443\n",
      "2020-03-03 16:19:47 [urllib3.connectionpool] DEBUG: https://www.bcg.com:443 \"GET /publications/2016/why-technology-matters.aspx HTTP/1.1\" 200 50032\n",
      "2020-03-03 16:19:47 [urllib3.connectionpool] DEBUG: Starting new HTTPS connection (1): www.bcg.com:443\n",
      "2020-03-03 16:19:47 [urllib3.connectionpool] DEBUG: https://www.bcg.com:443 \"GET /publications/2016/why-technology-matters.aspx HTTP/1.1\" 200 50032\n",
      "2020-03-03 16:19:47 [scrapy.core.engine] DEBUG: Crawled (200) <GET https://www.bcg.com/publications/2017/technology-digital-people-organization-digitally-driven-gender-diversity.aspx> (referer: None)\n"
     ]
    },
    {
     "name": "stdout",
     "output_type": "stream",
     "text": [
      "https://www.bcg.com/publications/2016/why-technology-matters.aspx\n"
     ]
    },
    {
     "name": "stderr",
     "output_type": "stream",
     "text": [
      "2020-03-03 16:19:47 [urllib3.connectionpool] DEBUG: Starting new HTTPS connection (1): www.bcg.com:443\n",
      "2020-03-03 16:19:47 [urllib3.connectionpool] DEBUG: https://www.bcg.com:443 \"GET /publications/2017/technology-digital-people-organization-digitally-driven-gender-diversity.aspx HTTP/1.1\" 200 53130\n",
      "2020-03-03 16:19:47 [urllib3.connectionpool] DEBUG: Starting new HTTPS connection (1): www.bcg.com:443\n",
      "2020-03-03 16:19:47 [urllib3.connectionpool] DEBUG: https://www.bcg.com:443 \"GET /publications/2017/technology-digital-people-organization-digitally-driven-gender-diversity.aspx HTTP/1.1\" 200 53130\n"
     ]
    },
    {
     "name": "stdout",
     "output_type": "stream",
     "text": [
      "https://www.bcg.com/publications/2017/technology-digital-people-organization-digitally-driven-gender-diversity.aspx\n"
     ]
    },
    {
     "name": "stderr",
     "output_type": "stream",
     "text": [
      "2020-03-03 16:19:47 [scrapy.core.engine] DEBUG: Crawled (200) <GET https://www.bcg.com/publications/2015/technology-business-transformation-engineered-products-infrastructure-man-machine-industry-4.aspx> (referer: None)\n",
      "2020-03-03 16:19:47 [urllib3.connectionpool] DEBUG: Starting new HTTPS connection (1): www.bcg.com:443\n",
      "2020-03-03 16:19:47 [urllib3.connectionpool] DEBUG: https://www.bcg.com:443 \"GET /publications/2015/technology-business-transformation-engineered-products-infrastructure-man-machine-industry-4.aspx HTTP/1.1\" 200 58891\n",
      "2020-03-03 16:19:47 [urllib3.connectionpool] DEBUG: Starting new HTTPS connection (1): www.bcg.com:443\n",
      "2020-03-03 16:19:47 [urllib3.connectionpool] DEBUG: https://www.bcg.com:443 \"GET /publications/2015/technology-business-transformation-engineered-products-infrastructure-man-machine-industry-4.aspx HTTP/1.1\" 200 58891\n"
     ]
    },
    {
     "name": "stdout",
     "output_type": "stream",
     "text": [
      "https://www.bcg.com/publications/2015/technology-business-transformation-engineered-products-infrastructure-man-machine-industry-4.aspx\n"
     ]
    },
    {
     "name": "stderr",
     "output_type": "stream",
     "text": [
      "2020-03-03 16:19:47 [scrapy.core.engine] DEBUG: Crawled (200) <GET https://www.bcg.com/publications/2015/business-unit-strategy-growth-self-tuning-enterprise.aspx> (referer: None)\n",
      "2020-03-03 16:19:48 [urllib3.connectionpool] DEBUG: Starting new HTTPS connection (1): www.bcg.com:443\n",
      "2020-03-03 16:19:48 [urllib3.connectionpool] DEBUG: https://www.bcg.com:443 \"GET /publications/2015/business-unit-strategy-growth-self-tuning-enterprise.aspx HTTP/1.1\" 200 51892\n",
      "2020-03-03 16:19:48 [urllib3.connectionpool] DEBUG: Starting new HTTPS connection (1): www.bcg.com:443\n",
      "2020-03-03 16:19:48 [urllib3.connectionpool] DEBUG: https://www.bcg.com:443 \"GET /publications/2015/business-unit-strategy-growth-self-tuning-enterprise.aspx HTTP/1.1\" 200 51892\n"
     ]
    },
    {
     "name": "stdout",
     "output_type": "stream",
     "text": [
      "https://www.bcg.com/publications/2015/business-unit-strategy-growth-self-tuning-enterprise.aspx\n"
     ]
    },
    {
     "name": "stderr",
     "output_type": "stream",
     "text": [
      "2020-03-03 16:19:48 [scrapy.core.engine] DEBUG: Crawled (200) <GET https://www.bcg.com/publications/2015/marketing-brand-strategy-what-really-shapes-customer-experience.aspx> (referer: None)\n",
      "2020-03-03 16:19:48 [urllib3.connectionpool] DEBUG: Starting new HTTPS connection (1): www.bcg.com:443\n",
      "2020-03-03 16:19:48 [urllib3.connectionpool] DEBUG: https://www.bcg.com:443 \"GET /publications/2015/marketing-brand-strategy-what-really-shapes-customer-experience.aspx HTTP/1.1\" 200 53212\n",
      "2020-03-03 16:19:48 [urllib3.connectionpool] DEBUG: Starting new HTTPS connection (1): www.bcg.com:443\n",
      "2020-03-03 16:19:48 [urllib3.connectionpool] DEBUG: https://www.bcg.com:443 \"GET /publications/2015/marketing-brand-strategy-what-really-shapes-customer-experience.aspx HTTP/1.1\" 200 53212\n"
     ]
    },
    {
     "name": "stdout",
     "output_type": "stream",
     "text": [
      "https://www.bcg.com/publications/2015/marketing-brand-strategy-what-really-shapes-customer-experience.aspx\n"
     ]
    },
    {
     "name": "stderr",
     "output_type": "stream",
     "text": [
      "2020-03-03 16:19:50 [scrapy.core.engine] DEBUG: Crawled (200) <GET https://www.bcg.com/publications/2015/globalization-growth-dueling-with-lions-playing-new-game-business-success-africa.aspx> (referer: None)\n",
      "2020-03-03 16:19:50 [urllib3.connectionpool] DEBUG: Starting new HTTPS connection (1): www.bcg.com:443\n",
      "2020-03-03 16:19:50 [urllib3.connectionpool] DEBUG: https://www.bcg.com:443 \"GET /publications/2015/globalization-growth-dueling-with-lions-playing-new-game-business-success-africa.aspx HTTP/1.1\" 200 56734\n",
      "2020-03-03 16:19:50 [urllib3.connectionpool] DEBUG: Starting new HTTPS connection (1): www.bcg.com:443\n",
      "2020-03-03 16:19:50 [urllib3.connectionpool] DEBUG: https://www.bcg.com:443 \"GET /publications/2015/globalization-growth-dueling-with-lions-playing-new-game-business-success-africa.aspx HTTP/1.1\" 200 56734\n"
     ]
    },
    {
     "name": "stdout",
     "output_type": "stream",
     "text": [
      "https://www.bcg.com/publications/2015/globalization-growth-dueling-with-lions-playing-new-game-business-success-africa.aspx\n"
     ]
    },
    {
     "name": "stderr",
     "output_type": "stream",
     "text": [
      "2020-03-03 16:19:53 [scrapy.core.engine] DEBUG: Crawled (200) <GET https://www.bcg.com/publications/2015/globalization-growth-overcoming-asia-obstacles-growth.aspx> (referer: None)\n",
      "2020-03-03 16:19:53 [urllib3.connectionpool] DEBUG: Starting new HTTPS connection (1): www.bcg.com:443\n",
      "2020-03-03 16:19:54 [urllib3.connectionpool] DEBUG: https://www.bcg.com:443 \"GET /publications/2015/globalization-growth-overcoming-asia-obstacles-growth.aspx HTTP/1.1\" 200 64949\n",
      "2020-03-03 16:19:54 [urllib3.connectionpool] DEBUG: Starting new HTTPS connection (1): www.bcg.com:443\n",
      "2020-03-03 16:19:54 [urllib3.connectionpool] DEBUG: https://www.bcg.com:443 \"GET /publications/2015/globalization-growth-overcoming-asia-obstacles-growth.aspx HTTP/1.1\" 200 64949\n"
     ]
    },
    {
     "name": "stdout",
     "output_type": "stream",
     "text": [
      "https://www.bcg.com/publications/2015/globalization-growth-overcoming-asia-obstacles-growth.aspx\n"
     ]
    },
    {
     "name": "stderr",
     "output_type": "stream",
     "text": [
      "2020-03-03 16:19:54 [scrapy.core.engine] DEBUG: Crawled (200) <GET https://www.bcg.com/publications/2015/engineered-products-infrastructure-ecs-value-creators-opportunities-uncertainty.aspx> (referer: None)\n",
      "2020-03-03 16:19:54 [scrapy.core.engine] DEBUG: Crawled (200) <GET https://www.bcg.com/publications/2015/financial-institutions-global-asset-management-2015-sparking-growth-through-go-to-market-strategy.aspx> (referer: None)\n",
      "2020-03-03 16:19:54 [urllib3.connectionpool] DEBUG: Starting new HTTPS connection (1): www.bcg.com:443\n",
      "2020-03-03 16:19:54 [urllib3.connectionpool] DEBUG: https://www.bcg.com:443 \"GET /publications/2015/engineered-products-infrastructure-ecs-value-creators-opportunities-uncertainty.aspx HTTP/1.1\" 200 65170\n",
      "2020-03-03 16:19:54 [urllib3.connectionpool] DEBUG: Starting new HTTPS connection (1): www.bcg.com:443\n",
      "2020-03-03 16:19:54 [urllib3.connectionpool] DEBUG: https://www.bcg.com:443 \"GET /publications/2015/engineered-products-infrastructure-ecs-value-creators-opportunities-uncertainty.aspx HTTP/1.1\" 200 65170\n",
      "2020-03-03 16:19:54 [urllib3.connectionpool] DEBUG: Starting new HTTPS connection (1): www.bcg.com:443\n"
     ]
    },
    {
     "name": "stdout",
     "output_type": "stream",
     "text": [
      "https://www.bcg.com/publications/2015/engineered-products-infrastructure-ecs-value-creators-opportunities-uncertainty.aspx\n",
      "https://www.bcg.com/publications/2015/financial-institutions-global-asset-management-2015-sparking-growth-through-go-to-market-strategy.aspx\n"
     ]
    },
    {
     "name": "stderr",
     "output_type": "stream",
     "text": [
      "2020-03-03 16:19:54 [urllib3.connectionpool] DEBUG: https://www.bcg.com:443 \"GET /publications/2015/financial-institutions-global-asset-management-2015-sparking-growth-through-go-to-market-strategy.aspx HTTP/1.1\" 200 None\n",
      "2020-03-03 16:19:54 [urllib3.connectionpool] DEBUG: Starting new HTTPS connection (1): www.bcg.com:443\n",
      "2020-03-03 16:19:54 [urllib3.connectionpool] DEBUG: https://www.bcg.com:443 \"GET /publications/2015/financial-institutions-global-asset-management-2015-sparking-growth-through-go-to-market-strategy.aspx HTTP/1.1\" 200 54327\n",
      "2020-03-03 16:19:59 [scrapy.core.engine] DEBUG: Crawled (200) <GET https://www.bcg.com/publications/2015/energy-environment-when-fuels-compete-evolving-dynamic-global-energy-markets.aspx> (referer: None)\n",
      "2020-03-03 16:19:59 [urllib3.connectionpool] DEBUG: Starting new HTTPS connection (1): www.bcg.com:443\n",
      "2020-03-03 16:19:59 [urllib3.connectionpool] DEBUG: https://www.bcg.com:443 \"GET /publications/2015/energy-environment-when-fuels-compete-evolving-dynamic-global-energy-markets.aspx HTTP/1.1\" 200 50831\n",
      "2020-03-03 16:19:59 [urllib3.connectionpool] DEBUG: Starting new HTTPS connection (1): www.bcg.com:443\n"
     ]
    },
    {
     "name": "stdout",
     "output_type": "stream",
     "text": [
      "https://www.bcg.com/publications/2015/energy-environment-when-fuels-compete-evolving-dynamic-global-energy-markets.aspx\n"
     ]
    },
    {
     "name": "stderr",
     "output_type": "stream",
     "text": [
      "2020-03-03 16:19:59 [urllib3.connectionpool] DEBUG: https://www.bcg.com:443 \"GET /publications/2015/energy-environment-when-fuels-compete-evolving-dynamic-global-energy-markets.aspx HTTP/1.1\" 200 50831\n",
      "2020-03-03 16:20:01 [scrapy.extensions.logstats] INFO: Crawled 351 pages (at 36 pages/min), scraped 0 items (at 0 items/min)\n",
      "2020-03-03 16:20:02 [scrapy.core.engine] DEBUG: Crawled (200) <GET https://www.bcg.com/publications/2015/globalization-automotive-how-global-chemical-industry-become-battle-equals.aspx> (referer: None)\n",
      "2020-03-03 16:20:03 [urllib3.connectionpool] DEBUG: Starting new HTTPS connection (1): www.bcg.com:443\n",
      "2020-03-03 16:20:03 [urllib3.connectionpool] DEBUG: https://www.bcg.com:443 \"GET /publications/2015/globalization-automotive-how-global-chemical-industry-become-battle-equals.aspx HTTP/1.1\" 200 53167\n",
      "2020-03-03 16:20:03 [urllib3.connectionpool] DEBUG: Starting new HTTPS connection (1): www.bcg.com:443\n",
      "2020-03-03 16:20:03 [urllib3.connectionpool] DEBUG: https://www.bcg.com:443 \"GET /publications/2015/globalization-automotive-how-global-chemical-industry-become-battle-equals.aspx HTTP/1.1\" 200 53167\n"
     ]
    },
    {
     "name": "stdout",
     "output_type": "stream",
     "text": [
      "https://www.bcg.com/publications/2015/globalization-automotive-how-global-chemical-industry-become-battle-equals.aspx\n"
     ]
    },
    {
     "name": "stderr",
     "output_type": "stream",
     "text": [
      "2020-03-03 16:20:05 [scrapy.core.engine] DEBUG: Crawled (200) <GET https://www.bcg.com/publications/2015/consumer-products-technology-digital-erwin-logt-building-equity-it.aspx> (referer: None)\n",
      "2020-03-03 16:20:05 [urllib3.connectionpool] DEBUG: Starting new HTTPS connection (1): www.bcg.com:443\n"
     ]
    },
    {
     "name": "stdout",
     "output_type": "stream",
     "text": [
      "https://www.bcg.com/publications/2015/consumer-products-technology-digital-erwin-logt-building-equity-it.aspx\n"
     ]
    },
    {
     "name": "stderr",
     "output_type": "stream",
     "text": [
      "2020-03-03 16:20:06 [urllib3.connectionpool] DEBUG: https://www.bcg.com:443 \"GET /publications/2015/consumer-products-technology-digital-erwin-logt-building-equity-it.aspx HTTP/1.1\" 200 None\n",
      "2020-03-03 16:20:06 [urllib3.connectionpool] DEBUG: Starting new HTTPS connection (1): www.bcg.com:443\n",
      "2020-03-03 16:20:06 [urllib3.connectionpool] DEBUG: https://www.bcg.com:443 \"GET /publications/2015/consumer-products-technology-digital-erwin-logt-building-equity-it.aspx HTTP/1.1\" 200 47566\n",
      "2020-03-03 16:20:12 [scrapy.downloadermiddlewares.retry] DEBUG: Retrying <GET https://www.bcg.com/publications/2017/globalization-winning-in-emerging-markets-drawing-route-market-multinationals-africa.aspx> (failed 1 times): 504 Gateway Time-out\n",
      "2020-03-03 16:20:12 [scrapy.core.engine] DEBUG: Crawled (200) <GET https://www.bcg.com/publications/2015/borges-map-navigating-world-digital-disruption.aspx> (referer: None)\n",
      "2020-03-03 16:20:12 [scrapy.core.engine] DEBUG: Crawled (200) <GET https://www.bcg.com/publications/2015/engineered_products_project_business_industry_4_future_productivity_growth_manufacturing_industries.aspx> (referer: None)\n",
      "2020-03-03 16:20:12 [urllib3.connectionpool] DEBUG: Starting new HTTPS connection (1): www.bcg.com:443\n",
      "2020-03-03 16:20:12 [urllib3.connectionpool] DEBUG: https://www.bcg.com:443 \"GET /publications/2015/borges-map-navigating-world-digital-disruption.aspx HTTP/1.1\" 200 62468\n",
      "2020-03-03 16:20:12 [urllib3.connectionpool] DEBUG: Starting new HTTPS connection (1): www.bcg.com:443\n",
      "2020-03-03 16:20:12 [urllib3.connectionpool] DEBUG: https://www.bcg.com:443 \"GET /publications/2015/borges-map-navigating-world-digital-disruption.aspx HTTP/1.1\" 200 62468\n"
     ]
    },
    {
     "name": "stdout",
     "output_type": "stream",
     "text": [
      "https://www.bcg.com/publications/2015/borges-map-navigating-world-digital-disruption.aspx\n"
     ]
    },
    {
     "name": "stderr",
     "output_type": "stream",
     "text": [
      "2020-03-03 16:20:12 [urllib3.connectionpool] DEBUG: Starting new HTTPS connection (1): www.bcg.com:443\n",
      "2020-03-03 16:20:12 [urllib3.connectionpool] DEBUG: https://www.bcg.com:443 \"GET /publications/2015/engineered_products_project_business_industry_4_future_productivity_growth_manufacturing_industries.aspx HTTP/1.1\" 200 55137\n",
      "2020-03-03 16:20:12 [urllib3.connectionpool] DEBUG: Starting new HTTPS connection (1): www.bcg.com:443\n",
      "2020-03-03 16:20:12 [urllib3.connectionpool] DEBUG: https://www.bcg.com:443 \"GET /publications/2015/engineered_products_project_business_industry_4_future_productivity_growth_manufacturing_industries.aspx HTTP/1.1\" 200 55137\n",
      "2020-03-03 16:20:12 [scrapy.core.engine] DEBUG: Crawled (200) <GET https://www.bcg.com/publications/2015/marketing-sales-technology-digital-transformation-signals-intelligence.aspx> (referer: None)\n"
     ]
    },
    {
     "name": "stdout",
     "output_type": "stream",
     "text": [
      "https://www.bcg.com/publications/2015/engineered_products_project_business_industry_4_future_productivity_growth_manufacturing_industries.aspx\n"
     ]
    },
    {
     "name": "stderr",
     "output_type": "stream",
     "text": [
      "2020-03-03 16:20:12 [urllib3.connectionpool] DEBUG: Starting new HTTPS connection (1): www.bcg.com:443\n",
      "2020-03-03 16:20:12 [urllib3.connectionpool] DEBUG: https://www.bcg.com:443 \"GET /publications/2015/marketing-sales-technology-digital-transformation-signals-intelligence.aspx HTTP/1.1\" 200 46647\n",
      "2020-03-03 16:20:12 [urllib3.connectionpool] DEBUG: Starting new HTTPS connection (1): www.bcg.com:443\n",
      "2020-03-03 16:20:12 [urllib3.connectionpool] DEBUG: https://www.bcg.com:443 \"GET /publications/2015/marketing-sales-technology-digital-transformation-signals-intelligence.aspx HTTP/1.1\" 200 46647\n"
     ]
    },
    {
     "name": "stdout",
     "output_type": "stream",
     "text": [
      "https://www.bcg.com/publications/2015/marketing-sales-technology-digital-transformation-signals-intelligence.aspx\n"
     ]
    },
    {
     "name": "stderr",
     "output_type": "stream",
     "text": [
      "2020-03-03 16:20:13 [scrapy.core.engine] DEBUG: Crawled (200) <GET https://www.bcg.com/publications/2015/people-organizations-operations-power-of-production-systems-unlocking-lean-in-decentralized-organizations.aspx> (referer: None)\n",
      "2020-03-03 16:20:13 [urllib3.connectionpool] DEBUG: Starting new HTTPS connection (1): www.bcg.com:443\n",
      "2020-03-03 16:20:13 [urllib3.connectionpool] DEBUG: https://www.bcg.com:443 \"GET /publications/2015/people-organizations-operations-power-of-production-systems-unlocking-lean-in-decentralized-organizations.aspx HTTP/1.1\" 200 55667\n",
      "2020-03-03 16:20:13 [urllib3.connectionpool] DEBUG: Starting new HTTPS connection (1): www.bcg.com:443\n",
      "2020-03-03 16:20:13 [urllib3.connectionpool] DEBUG: https://www.bcg.com:443 \"GET /publications/2015/people-organizations-operations-power-of-production-systems-unlocking-lean-in-decentralized-organizations.aspx HTTP/1.1\" 200 55667\n"
     ]
    },
    {
     "name": "stdout",
     "output_type": "stream",
     "text": [
      "https://www.bcg.com/publications/2015/people-organizations-operations-power-of-production-systems-unlocking-lean-in-decentralized-organizations.aspx\n"
     ]
    },
    {
     "name": "stderr",
     "output_type": "stream",
     "text": [
      "2020-03-03 16:20:16 [scrapy.core.engine] DEBUG: Crawled (200) <GET https://www.bcg.com/publications/2017/defense-justice-border-digital-transformation-technology-collaboration-smart-safe-cities.aspx> (referer: None)\n",
      "2020-03-03 16:20:16 [urllib3.connectionpool] DEBUG: Starting new HTTPS connection (1): www.bcg.com:443\n",
      "2020-03-03 16:20:16 [urllib3.connectionpool] DEBUG: https://www.bcg.com:443 \"GET /publications/2017/defense-justice-border-digital-transformation-technology-collaboration-smart-safe-cities.aspx HTTP/1.1\" 200 52371\n",
      "2020-03-03 16:20:16 [urllib3.connectionpool] DEBUG: Starting new HTTPS connection (1): www.bcg.com:443\n",
      "2020-03-03 16:20:16 [urllib3.connectionpool] DEBUG: https://www.bcg.com:443 \"GET /publications/2017/defense-justice-border-digital-transformation-technology-collaboration-smart-safe-cities.aspx HTTP/1.1\" 200 52371\n"
     ]
    },
    {
     "name": "stdout",
     "output_type": "stream",
     "text": [
      "https://www.bcg.com/publications/2017/defense-justice-border-digital-transformation-technology-collaboration-smart-safe-cities.aspx\n"
     ]
    },
    {
     "name": "stderr",
     "output_type": "stream",
     "text": [
      "2020-03-03 16:20:17 [scrapy.core.engine] DEBUG: Crawled (200) <GET https://www.bcg.com/publications/2014/globalization-consumer-products-2014-bcg-local-dynamos-how-companies-emerging-markets-winning-home.aspx> (referer: None)\n",
      "2020-03-03 16:20:17 [scrapy.core.engine] DEBUG: Crawled (200) <GET https://www.bcg.com/publications/2015/financial-institutions-asset-wealth-management-how-wealth-managers-invest-in-themselves.aspx> (referer: None)\n",
      "2020-03-03 16:20:17 [urllib3.connectionpool] DEBUG: Starting new HTTPS connection (1): www.bcg.com:443\n",
      "2020-03-03 16:20:17 [urllib3.connectionpool] DEBUG: https://www.bcg.com:443 \"GET /publications/2014/globalization-consumer-products-2014-bcg-local-dynamos-how-companies-emerging-markets-winning-home.aspx HTTP/1.1\" 200 48955\n",
      "2020-03-03 16:20:17 [urllib3.connectionpool] DEBUG: Starting new HTTPS connection (1): www.bcg.com:443\n",
      "2020-03-03 16:20:17 [urllib3.connectionpool] DEBUG: https://www.bcg.com:443 \"GET /publications/2014/globalization-consumer-products-2014-bcg-local-dynamos-how-companies-emerging-markets-winning-home.aspx HTTP/1.1\" 200 48955\n"
     ]
    },
    {
     "name": "stdout",
     "output_type": "stream",
     "text": [
      "https://www.bcg.com/publications/2014/globalization-consumer-products-2014-bcg-local-dynamos-how-companies-emerging-markets-winning-home.aspx\n"
     ]
    },
    {
     "name": "stderr",
     "output_type": "stream",
     "text": [
      "2020-03-03 16:20:17 [urllib3.connectionpool] DEBUG: Starting new HTTPS connection (1): www.bcg.com:443\n",
      "2020-03-03 16:20:17 [urllib3.connectionpool] DEBUG: https://www.bcg.com:443 \"GET /publications/2015/financial-institutions-asset-wealth-management-how-wealth-managers-invest-in-themselves.aspx HTTP/1.1\" 200 54959\n",
      "2020-03-03 16:20:17 [urllib3.connectionpool] DEBUG: Starting new HTTPS connection (1): www.bcg.com:443\n",
      "2020-03-03 16:20:17 [urllib3.connectionpool] DEBUG: https://www.bcg.com:443 \"GET /publications/2015/financial-institutions-asset-wealth-management-how-wealth-managers-invest-in-themselves.aspx HTTP/1.1\" 200 54959\n"
     ]
    },
    {
     "name": "stdout",
     "output_type": "stream",
     "text": [
      "https://www.bcg.com/publications/2015/financial-institutions-asset-wealth-management-how-wealth-managers-invest-in-themselves.aspx\n"
     ]
    },
    {
     "name": "stderr",
     "output_type": "stream",
     "text": [
      "2020-03-03 16:20:20 [scrapy.core.engine] DEBUG: Crawled (200) <GET https://www.bcg.com/publications/2014/automotive-value-creation-strategy-three-standout-performers-raised-games.aspx> (referer: None)\n",
      "2020-03-03 16:20:20 [urllib3.connectionpool] DEBUG: Starting new HTTPS connection (1): www.bcg.com:443\n",
      "2020-03-03 16:20:20 [urllib3.connectionpool] DEBUG: https://www.bcg.com:443 \"GET /publications/2014/automotive-value-creation-strategy-three-standout-performers-raised-games.aspx HTTP/1.1\" 200 49383\n",
      "2020-03-03 16:20:20 [urllib3.connectionpool] DEBUG: Starting new HTTPS connection (1): www.bcg.com:443\n"
     ]
    },
    {
     "name": "stdout",
     "output_type": "stream",
     "text": [
      "https://www.bcg.com/publications/2014/automotive-value-creation-strategy-three-standout-performers-raised-games.aspx\n"
     ]
    },
    {
     "name": "stderr",
     "output_type": "stream",
     "text": [
      "2020-03-03 16:20:20 [urllib3.connectionpool] DEBUG: https://www.bcg.com:443 \"GET /publications/2014/automotive-value-creation-strategy-three-standout-performers-raised-games.aspx HTTP/1.1\" 200 49383\n",
      "2020-03-03 16:20:25 [scrapy.core.engine] DEBUG: Crawled (200) <GET https://www.bcg.com/publications/2015/heavy-building-materials-battling-global-leadership-construction-equipment.aspx> (referer: None)\n",
      "2020-03-03 16:20:25 [urllib3.connectionpool] DEBUG: Starting new HTTPS connection (1): www.bcg.com:443\n"
     ]
    },
    {
     "name": "stdout",
     "output_type": "stream",
     "text": [
      "https://www.bcg.com/publications/2015/heavy-building-materials-battling-global-leadership-construction-equipment.aspx\n"
     ]
    },
    {
     "name": "stderr",
     "output_type": "stream",
     "text": [
      "2020-03-03 16:20:25 [urllib3.connectionpool] DEBUG: https://www.bcg.com:443 \"GET /publications/2015/heavy-building-materials-battling-global-leadership-construction-equipment.aspx HTTP/1.1\" 200 55729\n",
      "2020-03-03 16:20:25 [urllib3.connectionpool] DEBUG: Starting new HTTPS connection (1): www.bcg.com:443\n",
      "2020-03-03 16:20:25 [urllib3.connectionpool] DEBUG: https://www.bcg.com:443 \"GET /publications/2015/heavy-building-materials-battling-global-leadership-construction-equipment.aspx HTTP/1.1\" 200 55729\n",
      "2020-03-03 16:20:25 [scrapy.core.engine] DEBUG: Crawled (200) <GET https://www.bcg.com/publications/2014/behavior_culture_leadership_talent_morieux_tollman_stop_trying_control_people_make_them_happy.aspx> (referer: None)\n",
      "2020-03-03 16:20:25 [urllib3.connectionpool] DEBUG: Starting new HTTPS connection (1): www.bcg.com:443\n",
      "2020-03-03 16:20:25 [urllib3.connectionpool] DEBUG: https://www.bcg.com:443 \"GET /publications/2014/behavior_culture_leadership_talent_morieux_tollman_stop_trying_control_people_make_them_happy.aspx HTTP/1.1\" 200 44957\n",
      "2020-03-03 16:20:25 [urllib3.connectionpool] DEBUG: Starting new HTTPS connection (1): www.bcg.com:443\n",
      "2020-03-03 16:20:25 [urllib3.connectionpool] DEBUG: https://www.bcg.com:443 \"GET /publications/2014/behavior_culture_leadership_talent_morieux_tollman_stop_trying_control_people_make_them_happy.aspx HTTP/1.1\" 200 44957\n"
     ]
    },
    {
     "name": "stdout",
     "output_type": "stream",
     "text": [
      "https://www.bcg.com/publications/2014/behavior_culture_leadership_talent_morieux_tollman_stop_trying_control_people_make_them_happy.aspx\n"
     ]
    },
    {
     "name": "stderr",
     "output_type": "stream",
     "text": [
      "2020-03-03 16:20:28 [scrapy.core.engine] DEBUG: Crawled (200) <GET https://www.bcg.com/publications/2017/globalization-winning-in-emerging-markets-drawing-route-market-multinationals-africa.aspx> (referer: None)\n",
      "2020-03-03 16:20:29 [urllib3.connectionpool] DEBUG: Starting new HTTPS connection (1): www.bcg.com:443\n",
      "2020-03-03 16:20:29 [urllib3.connectionpool] DEBUG: https://www.bcg.com:443 \"GET /publications/2017/globalization-winning-in-emerging-markets-drawing-route-market-multinationals-africa.aspx HTTP/1.1\" 200 56488\n",
      "2020-03-03 16:20:29 [urllib3.connectionpool] DEBUG: Starting new HTTPS connection (1): www.bcg.com:443\n",
      "2020-03-03 16:20:29 [urllib3.connectionpool] DEBUG: https://www.bcg.com:443 \"GET /publications/2017/globalization-winning-in-emerging-markets-drawing-route-market-multinationals-africa.aspx HTTP/1.1\" 200 56488\n"
     ]
    },
    {
     "name": "stdout",
     "output_type": "stream",
     "text": [
      "https://www.bcg.com/publications/2017/globalization-winning-in-emerging-markets-drawing-route-market-multinationals-africa.aspx\n"
     ]
    },
    {
     "name": "stderr",
     "output_type": "stream",
     "text": [
      "2020-03-03 16:20:29 [scrapy.core.engine] DEBUG: Crawled (200) <GET https://www.bcg.com/publications/2014/process-industries-go-to-market-strategy-specialty-chemical-distribution-market-update.aspx> (referer: None)\n",
      "2020-03-03 16:20:29 [urllib3.connectionpool] DEBUG: Starting new HTTPS connection (1): www.bcg.com:443\n",
      "2020-03-03 16:20:29 [urllib3.connectionpool] DEBUG: https://www.bcg.com:443 \"GET /publications/2014/process-industries-go-to-market-strategy-specialty-chemical-distribution-market-update.aspx HTTP/1.1\" 200 55285\n",
      "2020-03-03 16:20:29 [urllib3.connectionpool] DEBUG: Starting new HTTPS connection (1): www.bcg.com:443\n",
      "2020-03-03 16:20:29 [urllib3.connectionpool] DEBUG: https://www.bcg.com:443 \"GET /publications/2014/process-industries-go-to-market-strategy-specialty-chemical-distribution-market-update.aspx HTTP/1.1\" 200 None\n"
     ]
    },
    {
     "name": "stdout",
     "output_type": "stream",
     "text": [
      "https://www.bcg.com/publications/2014/process-industries-go-to-market-strategy-specialty-chemical-distribution-market-update.aspx\n"
     ]
    },
    {
     "name": "stderr",
     "output_type": "stream",
     "text": [
      "2020-03-03 16:20:31 [scrapy.core.engine] DEBUG: Crawled (200) <GET https://www.bcg.com/publications/2014/transportation-travel-tourism-digital-economy-lee-mccabe-global-head-travel-strategy-facebook.aspx> (referer: None)\n",
      "2020-03-03 16:20:31 [urllib3.connectionpool] DEBUG: Starting new HTTPS connection (1): www.bcg.com:443\n",
      "2020-03-03 16:20:31 [urllib3.connectionpool] DEBUG: https://www.bcg.com:443 \"GET /publications/2014/transportation-travel-tourism-digital-economy-lee-mccabe-global-head-travel-strategy-facebook.aspx HTTP/1.1\" 200 48000\n",
      "2020-03-03 16:20:31 [urllib3.connectionpool] DEBUG: Starting new HTTPS connection (1): www.bcg.com:443\n",
      "2020-03-03 16:20:31 [urllib3.connectionpool] DEBUG: https://www.bcg.com:443 \"GET /publications/2014/transportation-travel-tourism-digital-economy-lee-mccabe-global-head-travel-strategy-facebook.aspx HTTP/1.1\" 200 48000\n"
     ]
    },
    {
     "name": "stdout",
     "output_type": "stream",
     "text": [
      "https://www.bcg.com/publications/2014/transportation-travel-tourism-digital-economy-lee-mccabe-global-head-travel-strategy-facebook.aspx\n"
     ]
    },
    {
     "name": "stderr",
     "output_type": "stream",
     "text": [
      "2020-03-03 16:20:34 [scrapy.core.engine] DEBUG: Crawled (200) <GET https://www.bcg.com/publications/2014/retail-transportation-travel-tourism-leveraging-loyalty-margin-rewards-programs-work.aspx> (referer: None)\n",
      "2020-03-03 16:20:34 [urllib3.connectionpool] DEBUG: Starting new HTTPS connection (1): www.bcg.com:443\n",
      "2020-03-03 16:20:34 [urllib3.connectionpool] DEBUG: https://www.bcg.com:443 \"GET /publications/2014/retail-transportation-travel-tourism-leveraging-loyalty-margin-rewards-programs-work.aspx HTTP/1.1\" 200 56665\n",
      "2020-03-03 16:20:34 [urllib3.connectionpool] DEBUG: Starting new HTTPS connection (1): www.bcg.com:443\n",
      "2020-03-03 16:20:34 [urllib3.connectionpool] DEBUG: https://www.bcg.com:443 \"GET /publications/2014/retail-transportation-travel-tourism-leveraging-loyalty-margin-rewards-programs-work.aspx HTTP/1.1\" 200 56665\n"
     ]
    },
    {
     "name": "stdout",
     "output_type": "stream",
     "text": [
      "https://www.bcg.com/publications/2014/retail-transportation-travel-tourism-leveraging-loyalty-margin-rewards-programs-work.aspx\n"
     ]
    },
    {
     "name": "stderr",
     "output_type": "stream",
     "text": [
      "2020-03-03 16:20:36 [scrapy.core.engine] DEBUG: Crawled (200) <GET https://www.bcg.com/publications/2014/financial-institutions-private-equity-data-analytics-advice-winning-share-wallet-wholesale-banking.aspx> (referer: None)\n",
      "2020-03-03 16:20:36 [urllib3.connectionpool] DEBUG: Starting new HTTPS connection (1): www.bcg.com:443\n",
      "2020-03-03 16:20:37 [urllib3.connectionpool] DEBUG: https://www.bcg.com:443 \"GET /publications/2014/financial-institutions-private-equity-data-analytics-advice-winning-share-wallet-wholesale-banking.aspx HTTP/1.1\" 200 None\n",
      "2020-03-03 16:20:37 [urllib3.connectionpool] DEBUG: Starting new HTTPS connection (1): www.bcg.com:443\n"
     ]
    },
    {
     "name": "stdout",
     "output_type": "stream",
     "text": [
      "https://www.bcg.com/publications/2014/financial-institutions-private-equity-data-analytics-advice-winning-share-wallet-wholesale-banking.aspx\n"
     ]
    },
    {
     "name": "stderr",
     "output_type": "stream",
     "text": [
      "2020-03-03 16:20:37 [urllib3.connectionpool] DEBUG: https://www.bcg.com:443 \"GET /publications/2014/financial-institutions-private-equity-data-analytics-advice-winning-share-wallet-wholesale-banking.aspx HTTP/1.1\" 200 48438\n",
      "2020-03-03 16:20:37 [scrapy.core.engine] DEBUG: Crawled (200) <GET https://www.bcg.com/publications/2014/globalization-emerging-markets-winning-africa-trading-posts-ecosystems.aspx> (referer: None)\n",
      "2020-03-03 16:20:37 [urllib3.connectionpool] DEBUG: Starting new HTTPS connection (1): www.bcg.com:443\n",
      "2020-03-03 16:20:37 [urllib3.connectionpool] DEBUG: https://www.bcg.com:443 \"GET /publications/2014/globalization-emerging-markets-winning-africa-trading-posts-ecosystems.aspx HTTP/1.1\" 200 None\n"
     ]
    },
    {
     "name": "stdout",
     "output_type": "stream",
     "text": [
      "https://www.bcg.com/publications/2014/globalization-emerging-markets-winning-africa-trading-posts-ecosystems.aspx\n"
     ]
    },
    {
     "name": "stderr",
     "output_type": "stream",
     "text": [
      "2020-03-03 16:20:37 [urllib3.connectionpool] DEBUG: Starting new HTTPS connection (1): www.bcg.com:443\n",
      "2020-03-03 16:20:37 [urllib3.connectionpool] DEBUG: https://www.bcg.com:443 \"GET /publications/2014/globalization-emerging-markets-winning-africa-trading-posts-ecosystems.aspx HTTP/1.1\" 200 68438\n",
      "2020-03-03 16:20:39 [scrapy.core.engine] DEBUG: Crawled (200) <GET https://www.bcg.com/publications/2014/biopharmaceuticals-globalization-indonesia-beckons-but-big-pharma-must-aim-carefully.aspx> (referer: None)\n",
      "2020-03-03 16:20:39 [urllib3.connectionpool] DEBUG: Starting new HTTPS connection (1): www.bcg.com:443\n",
      "2020-03-03 16:20:39 [urllib3.connectionpool] DEBUG: https://www.bcg.com:443 \"GET /publications/2014/biopharmaceuticals-globalization-indonesia-beckons-but-big-pharma-must-aim-carefully.aspx HTTP/1.1\" 200 None\n"
     ]
    },
    {
     "name": "stdout",
     "output_type": "stream",
     "text": [
      "https://www.bcg.com/publications/2014/biopharmaceuticals-globalization-indonesia-beckons-but-big-pharma-must-aim-carefully.aspx\n"
     ]
    },
    {
     "name": "stderr",
     "output_type": "stream",
     "text": [
      "2020-03-03 16:20:39 [urllib3.connectionpool] DEBUG: Starting new HTTPS connection (1): www.bcg.com:443\n",
      "2020-03-03 16:20:39 [urllib3.connectionpool] DEBUG: https://www.bcg.com:443 \"GET /publications/2014/biopharmaceuticals-globalization-indonesia-beckons-but-big-pharma-must-aim-carefully.aspx HTTP/1.1\" 200 50928\n",
      "2020-03-03 16:20:42 [scrapy.core.engine] DEBUG: Crawled (200) <GET https://www.bcg.com/publications/2013/media-entertainment-business-unit-strategy-preparing-public-broadcasting-perfect-storm.aspx> (referer: None)\n",
      "2020-03-03 16:20:42 [urllib3.connectionpool] DEBUG: Starting new HTTPS connection (1): www.bcg.com:443\n",
      "2020-03-03 16:20:43 [urllib3.connectionpool] DEBUG: https://www.bcg.com:443 \"GET /publications/2013/media-entertainment-business-unit-strategy-preparing-public-broadcasting-perfect-storm.aspx HTTP/1.1\" 200 None\n",
      "2020-03-03 16:20:43 [urllib3.connectionpool] DEBUG: Starting new HTTPS connection (1): www.bcg.com:443\n"
     ]
    },
    {
     "name": "stdout",
     "output_type": "stream",
     "text": [
      "https://www.bcg.com/publications/2013/media-entertainment-business-unit-strategy-preparing-public-broadcasting-perfect-storm.aspx\n"
     ]
    },
    {
     "name": "stderr",
     "output_type": "stream",
     "text": [
      "2020-03-03 16:20:43 [urllib3.connectionpool] DEBUG: https://www.bcg.com:443 \"GET /publications/2013/media-entertainment-business-unit-strategy-preparing-public-broadcasting-perfect-storm.aspx HTTP/1.1\" 200 46272\n",
      "2020-03-03 16:20:43 [scrapy.core.engine] DEBUG: Crawled (200) <GET https://www.bcg.com/publications/2013/program_management_change_management_strategic_initiative_management_pmo_imperative.aspx> (referer: None)\n",
      "2020-03-03 16:20:43 [urllib3.connectionpool] DEBUG: Starting new HTTPS connection (1): www.bcg.com:443\n",
      "2020-03-03 16:20:43 [urllib3.connectionpool] DEBUG: https://www.bcg.com:443 \"GET /publications/2013/program_management_change_management_strategic_initiative_management_pmo_imperative.aspx HTTP/1.1\" 200 None\n"
     ]
    },
    {
     "name": "stdout",
     "output_type": "stream",
     "text": [
      "https://www.bcg.com/publications/2013/program_management_change_management_strategic_initiative_management_pmo_imperative.aspx\n"
     ]
    },
    {
     "name": "stderr",
     "output_type": "stream",
     "text": [
      "2020-03-03 16:20:43 [urllib3.connectionpool] DEBUG: Starting new HTTPS connection (1): www.bcg.com:443\n",
      "2020-03-03 16:20:43 [urllib3.connectionpool] DEBUG: https://www.bcg.com:443 \"GET /publications/2013/program_management_change_management_strategic_initiative_management_pmo_imperative.aspx HTTP/1.1\" 200 60322\n",
      "2020-03-03 16:20:43 [scrapy.core.engine] DEBUG: Crawled (200) <GET https://www.bcg.com/publications/2013/information-technology-strategy-digital-economy-opportunity-unlocked-big-data-five-routes-value.aspx> (referer: None)\n",
      "2020-03-03 16:20:43 [urllib3.connectionpool] DEBUG: Starting new HTTPS connection (1): www.bcg.com:443\n",
      "2020-03-03 16:20:43 [urllib3.connectionpool] DEBUG: https://www.bcg.com:443 \"GET /publications/2013/information-technology-strategy-digital-economy-opportunity-unlocked-big-data-five-routes-value.aspx HTTP/1.1\" 200 49802\n",
      "2020-03-03 16:20:43 [urllib3.connectionpool] DEBUG: Starting new HTTPS connection (1): www.bcg.com:443\n",
      "2020-03-03 16:20:44 [urllib3.connectionpool] DEBUG: https://www.bcg.com:443 \"GET /publications/2013/information-technology-strategy-digital-economy-opportunity-unlocked-big-data-five-routes-value.aspx HTTP/1.1\" 200 49802\n"
     ]
    },
    {
     "name": "stdout",
     "output_type": "stream",
     "text": [
      "https://www.bcg.com/publications/2013/information-technology-strategy-digital-economy-opportunity-unlocked-big-data-five-routes-value.aspx\n"
     ]
    },
    {
     "name": "stderr",
     "output_type": "stream",
     "text": [
      "2020-03-03 16:20:48 [scrapy.core.engine] DEBUG: Crawled (200) <GET https://www.bcg.com/publications/2014/management-two-speed-economy-public-sector-calculus-labor-imbalances.aspx> (referer: None)\n",
      "2020-03-03 16:20:48 [urllib3.connectionpool] DEBUG: Starting new HTTPS connection (1): www.bcg.com:443\n",
      "2020-03-03 16:20:48 [urllib3.connectionpool] DEBUG: https://www.bcg.com:443 \"GET /publications/2014/management-two-speed-economy-public-sector-calculus-labor-imbalances.aspx HTTP/1.1\" 200 None\n",
      "2020-03-03 16:20:48 [urllib3.connectionpool] DEBUG: Starting new HTTPS connection (1): www.bcg.com:443\n"
     ]
    },
    {
     "name": "stdout",
     "output_type": "stream",
     "text": [
      "https://www.bcg.com/publications/2014/management-two-speed-economy-public-sector-calculus-labor-imbalances.aspx\n"
     ]
    },
    {
     "name": "stderr",
     "output_type": "stream",
     "text": [
      "2020-03-03 16:20:48 [urllib3.connectionpool] DEBUG: https://www.bcg.com:443 \"GET /publications/2014/management-two-speed-economy-public-sector-calculus-labor-imbalances.aspx HTTP/1.1\" 200 46007\n",
      "2020-03-03 16:20:51 [scrapy.core.engine] DEBUG: Crawled (200) <GET https://www.bcg.com/publications/2013/innovation-strategy-sparking-intellectual-property-engine-energy-companies.aspx> (referer: None)\n",
      "2020-03-03 16:20:51 [urllib3.connectionpool] DEBUG: Starting new HTTPS connection (1): www.bcg.com:443\n",
      "2020-03-03 16:20:51 [urllib3.connectionpool] DEBUG: https://www.bcg.com:443 \"GET /publications/2013/innovation-strategy-sparking-intellectual-property-engine-energy-companies.aspx HTTP/1.1\" 200 55255\n",
      "2020-03-03 16:20:51 [urllib3.connectionpool] DEBUG: Starting new HTTPS connection (1): www.bcg.com:443\n",
      "2020-03-03 16:20:51 [urllib3.connectionpool] DEBUG: https://www.bcg.com:443 \"GET /publications/2013/innovation-strategy-sparking-intellectual-property-engine-energy-companies.aspx HTTP/1.1\" 200 55255\n"
     ]
    },
    {
     "name": "stdout",
     "output_type": "stream",
     "text": [
      "https://www.bcg.com/publications/2013/innovation-strategy-sparking-intellectual-property-engine-energy-companies.aspx\n"
     ]
    },
    {
     "name": "stderr",
     "output_type": "stream",
     "text": [
      "2020-03-03 16:20:56 [scrapy.core.engine] DEBUG: Crawled (200) <GET https://www.bcg.com/publications/2013/globalization-corporate-development-finance-charting-steady-course-turning-brazil-business-and-investment-hub.aspx> (referer: None)\n",
      "2020-03-03 16:20:56 [urllib3.connectionpool] DEBUG: Starting new HTTPS connection (1): www.bcg.com:443\n",
      "2020-03-03 16:20:56 [urllib3.connectionpool] DEBUG: https://www.bcg.com:443 \"GET /publications/2013/globalization-corporate-development-finance-charting-steady-course-turning-brazil-business-and-investment-hub.aspx HTTP/1.1\" 200 46289\n",
      "2020-03-03 16:20:56 [urllib3.connectionpool] DEBUG: Starting new HTTPS connection (1): www.bcg.com:443\n",
      "2020-03-03 16:20:56 [urllib3.connectionpool] DEBUG: https://www.bcg.com:443 \"GET /publications/2013/globalization-corporate-development-finance-charting-steady-course-turning-brazil-business-and-investment-hub.aspx HTTP/1.1\" 200 46289\n"
     ]
    },
    {
     "name": "stdout",
     "output_type": "stream",
     "text": [
      "https://www.bcg.com/publications/2013/globalization-corporate-development-finance-charting-steady-course-turning-brazil-business-and-investment-hub.aspx\n"
     ]
    },
    {
     "name": "stderr",
     "output_type": "stream",
     "text": [
      "2020-03-03 16:20:56 [scrapy.core.engine] DEBUG: Crawled (200) <GET https://www.bcg.com/publications/2012/change-management-postmerger-integration-changing-change-management.aspx> (referer: None)\n",
      "2020-03-03 16:20:56 [urllib3.connectionpool] DEBUG: Starting new HTTPS connection (1): www.bcg.com:443\n",
      "2020-03-03 16:20:56 [urllib3.connectionpool] DEBUG: https://www.bcg.com:443 \"GET /publications/2012/change-management-postmerger-integration-changing-change-management.aspx HTTP/1.1\" 200 64378\n",
      "2020-03-03 16:20:56 [urllib3.connectionpool] DEBUG: Starting new HTTPS connection (1): www.bcg.com:443\n",
      "2020-03-03 16:20:56 [urllib3.connectionpool] DEBUG: https://www.bcg.com:443 \"GET /publications/2012/change-management-postmerger-integration-changing-change-management.aspx HTTP/1.1\" 200 64378\n"
     ]
    },
    {
     "name": "stdout",
     "output_type": "stream",
     "text": [
      "https://www.bcg.com/publications/2012/change-management-postmerger-integration-changing-change-management.aspx\n"
     ]
    },
    {
     "name": "stderr",
     "output_type": "stream",
     "text": [
      "2020-03-03 16:20:59 [scrapy.core.engine] DEBUG: Crawled (200) <GET https://www.bcg.com/publications/2013/insurance-it-performance-big-data-next-big-thing-for-insurers.aspx> (referer: None)\n",
      "2020-03-03 16:20:59 [urllib3.connectionpool] DEBUG: Starting new HTTPS connection (1): www.bcg.com:443\n",
      "2020-03-03 16:20:59 [urllib3.connectionpool] DEBUG: https://www.bcg.com:443 \"GET /publications/2013/insurance-it-performance-big-data-next-big-thing-for-insurers.aspx HTTP/1.1\" 200 49878\n",
      "2020-03-03 16:20:59 [urllib3.connectionpool] DEBUG: Starting new HTTPS connection (1): www.bcg.com:443\n"
     ]
    },
    {
     "name": "stdout",
     "output_type": "stream",
     "text": [
      "https://www.bcg.com/publications/2013/insurance-it-performance-big-data-next-big-thing-for-insurers.aspx\n"
     ]
    },
    {
     "name": "stderr",
     "output_type": "stream",
     "text": [
      "2020-03-03 16:20:59 [urllib3.connectionpool] DEBUG: https://www.bcg.com:443 \"GET /publications/2013/insurance-it-performance-big-data-next-big-thing-for-insurers.aspx HTTP/1.1\" 200 49878\n",
      "2020-03-03 16:21:01 [scrapy.extensions.logstats] INFO: Crawled 378 pages (at 27 pages/min), scraped 0 items (at 0 items/min)\n",
      "2020-03-03 16:21:02 [scrapy.core.engine] DEBUG: Crawled (200) <GET https://www.bcg.com/publications/2012/technology-software-information-technology-transformation-transforming-business-model-it-services.aspx> (referer: None)\n",
      "2020-03-03 16:21:02 [urllib3.connectionpool] DEBUG: Starting new HTTPS connection (1): www.bcg.com:443\n"
     ]
    },
    {
     "name": "stdout",
     "output_type": "stream",
     "text": [
      "https://www.bcg.com/publications/2012/technology-software-information-technology-transformation-transforming-business-model-it-services.aspx\n"
     ]
    },
    {
     "name": "stderr",
     "output_type": "stream",
     "text": [
      "2020-03-03 16:21:02 [urllib3.connectionpool] DEBUG: https://www.bcg.com:443 \"GET /publications/2012/technology-software-information-technology-transformation-transforming-business-model-it-services.aspx HTTP/1.1\" 200 47613\n",
      "2020-03-03 16:21:02 [urllib3.connectionpool] DEBUG: Starting new HTTPS connection (1): www.bcg.com:443\n",
      "2020-03-03 16:21:02 [urllib3.connectionpool] DEBUG: https://www.bcg.com:443 \"GET /publications/2012/technology-software-information-technology-transformation-transforming-business-model-it-services.aspx HTTP/1.1\" 200 None\n",
      "2020-03-03 16:21:04 [scrapy.core.engine] DEBUG: Crawled (200) <GET https://www.bcg.com/publications/2013/globalization-retail-ten-things-to-know-about-african-consumers.aspx> (referer: None)\n",
      "2020-03-03 16:21:04 [urllib3.connectionpool] DEBUG: Starting new HTTPS connection (1): www.bcg.com:443\n",
      "2020-03-03 16:21:04 [urllib3.connectionpool] DEBUG: https://www.bcg.com:443 \"GET /publications/2013/globalization-retail-ten-things-to-know-about-african-consumers.aspx HTTP/1.1\" 200 50619\n",
      "2020-03-03 16:21:04 [urllib3.connectionpool] DEBUG: Starting new HTTPS connection (1): www.bcg.com:443\n",
      "2020-03-03 16:21:04 [urllib3.connectionpool] DEBUG: https://www.bcg.com:443 \"GET /publications/2013/globalization-retail-ten-things-to-know-about-african-consumers.aspx HTTP/1.1\" 200 50619\n"
     ]
    },
    {
     "name": "stdout",
     "output_type": "stream",
     "text": [
      "https://www.bcg.com/publications/2013/globalization-retail-ten-things-to-know-about-african-consumers.aspx\n"
     ]
    },
    {
     "name": "stderr",
     "output_type": "stream",
     "text": [
      "2020-03-03 16:21:04 [scrapy.core.engine] DEBUG: Crawled (200) <GET https://www.bcg.com/publications/2012/millennial-consumer.aspx> (referer: None)\n",
      "2020-03-03 16:21:05 [urllib3.connectionpool] DEBUG: Starting new HTTPS connection (1): www.bcg.com:443\n",
      "2020-03-03 16:21:05 [urllib3.connectionpool] DEBUG: https://www.bcg.com:443 \"GET /publications/2012/millennial-consumer.aspx HTTP/1.1\" 200 50760\n",
      "2020-03-03 16:21:05 [urllib3.connectionpool] DEBUG: Starting new HTTPS connection (1): www.bcg.com:443\n",
      "2020-03-03 16:21:05 [urllib3.connectionpool] DEBUG: https://www.bcg.com:443 \"GET /publications/2012/millennial-consumer.aspx HTTP/1.1\" 200 50760\n"
     ]
    },
    {
     "name": "stdout",
     "output_type": "stream",
     "text": [
      "https://www.bcg.com/publications/2012/millennial-consumer.aspx\n"
     ]
    },
    {
     "name": "stderr",
     "output_type": "stream",
     "text": [
      "2020-03-03 16:21:08 [scrapy.core.engine] DEBUG: Crawled (200) <GET https://www.bcg.com/publications/2012/sustainability-operations-resource-management-competitive-edge.aspx> (referer: None)\n",
      "2020-03-03 16:21:08 [urllib3.connectionpool] DEBUG: Starting new HTTPS connection (1): www.bcg.com:443\n",
      "2020-03-03 16:21:08 [urllib3.connectionpool] DEBUG: https://www.bcg.com:443 \"GET /publications/2012/sustainability-operations-resource-management-competitive-edge.aspx HTTP/1.1\" 200 63371\n",
      "2020-03-03 16:21:08 [urllib3.connectionpool] DEBUG: Starting new HTTPS connection (1): www.bcg.com:443\n",
      "2020-03-03 16:21:08 [urllib3.connectionpool] DEBUG: https://www.bcg.com:443 \"GET /publications/2012/sustainability-operations-resource-management-competitive-edge.aspx HTTP/1.1\" 200 63371\n"
     ]
    },
    {
     "name": "stdout",
     "output_type": "stream",
     "text": [
      "https://www.bcg.com/publications/2012/sustainability-operations-resource-management-competitive-edge.aspx\n"
     ]
    },
    {
     "name": "stderr",
     "output_type": "stream",
     "text": [
      "2020-03-03 16:21:08 [scrapy.core.engine] DEBUG: Crawled (200) <GET https://www.bcg.com/publications/2011/smart-rules.aspx> (referer: None)\n",
      "2020-03-03 16:21:09 [urllib3.connectionpool] DEBUG: Starting new HTTPS connection (1): www.bcg.com:443\n",
      "2020-03-03 16:21:09 [urllib3.connectionpool] DEBUG: https://www.bcg.com:443 \"GET /publications/2011/smart-rules.aspx HTTP/1.1\" 200 54209\n",
      "2020-03-03 16:21:09 [urllib3.connectionpool] DEBUG: Starting new HTTPS connection (1): www.bcg.com:443\n",
      "2020-03-03 16:21:09 [urllib3.connectionpool] DEBUG: https://www.bcg.com:443 \"GET /publications/2011/smart-rules.aspx HTTP/1.1\" 200 54209\n"
     ]
    },
    {
     "name": "stdout",
     "output_type": "stream",
     "text": [
      "https://www.bcg.com/publications/2011/smart-rules.aspx\n"
     ]
    },
    {
     "name": "stderr",
     "output_type": "stream",
     "text": [
      "2020-03-03 16:21:13 [scrapy.core.engine] DEBUG: Crawled (200) <GET https://www.bcg.com/publications/2012/health-care-public-sector-progress-toward-value-based-health-care.aspx> (referer: None)\n",
      "2020-03-03 16:21:13 [urllib3.connectionpool] DEBUG: Starting new HTTPS connection (1): www.bcg.com:443\n",
      "2020-03-03 16:21:13 [urllib3.connectionpool] DEBUG: https://www.bcg.com:443 \"GET /publications/2012/health-care-public-sector-progress-toward-value-based-health-care.aspx HTTP/1.1\" 200 56585\n",
      "2020-03-03 16:21:13 [urllib3.connectionpool] DEBUG: Starting new HTTPS connection (1): www.bcg.com:443\n",
      "2020-03-03 16:21:13 [urllib3.connectionpool] DEBUG: https://www.bcg.com:443 \"GET /publications/2012/health-care-public-sector-progress-toward-value-based-health-care.aspx HTTP/1.1\" 200 56585\n"
     ]
    },
    {
     "name": "stdout",
     "output_type": "stream",
     "text": [
      "https://www.bcg.com/publications/2012/health-care-public-sector-progress-toward-value-based-health-care.aspx\n"
     ]
    },
    {
     "name": "stderr",
     "output_type": "stream",
     "text": [
      "2020-03-03 16:21:15 [scrapy.core.engine] DEBUG: Crawled (200) <GET https://www.bcg.com/publications/2014/energy-environment-promise-mexicos-energy-reforms.aspx> (referer: None)\n",
      "2020-03-03 16:21:16 [urllib3.connectionpool] DEBUG: Starting new HTTPS connection (1): www.bcg.com:443\n",
      "2020-03-03 16:21:16 [urllib3.connectionpool] DEBUG: https://www.bcg.com:443 \"GET /publications/2014/energy-environment-promise-mexicos-energy-reforms.aspx HTTP/1.1\" 200 57398\n",
      "2020-03-03 16:21:16 [urllib3.connectionpool] DEBUG: Starting new HTTPS connection (1): www.bcg.com:443\n",
      "2020-03-03 16:21:16 [urllib3.connectionpool] DEBUG: https://www.bcg.com:443 \"GET /publications/2014/energy-environment-promise-mexicos-energy-reforms.aspx HTTP/1.1\" 200 57398\n"
     ]
    },
    {
     "name": "stdout",
     "output_type": "stream",
     "text": [
      "https://www.bcg.com/publications/2014/energy-environment-promise-mexicos-energy-reforms.aspx\n"
     ]
    },
    {
     "name": "stderr",
     "output_type": "stream",
     "text": [
      "2020-03-03 16:21:19 [scrapy.core.engine] DEBUG: Crawled (200) <GET https://www.bcg.com/publications/2010/energy-environment-sustainability-toward-a-distributed-power-world.aspx> (referer: None)\n",
      "2020-03-03 16:21:19 [urllib3.connectionpool] DEBUG: Starting new HTTPS connection (1): www.bcg.com:443\n",
      "2020-03-03 16:21:19 [urllib3.connectionpool] DEBUG: https://www.bcg.com:443 \"GET /publications/2010/energy-environment-sustainability-toward-a-distributed-power-world.aspx HTTP/1.1\" 200 45927\n",
      "2020-03-03 16:21:19 [urllib3.connectionpool] DEBUG: Starting new HTTPS connection (1): www.bcg.com:443\n"
     ]
    },
    {
     "name": "stdout",
     "output_type": "stream",
     "text": [
      "https://www.bcg.com/publications/2010/energy-environment-sustainability-toward-a-distributed-power-world.aspx\n"
     ]
    },
    {
     "name": "stderr",
     "output_type": "stream",
     "text": [
      "2020-03-03 16:21:19 [urllib3.connectionpool] DEBUG: https://www.bcg.com:443 \"GET /publications/2010/energy-environment-sustainability-toward-a-distributed-power-world.aspx HTTP/1.1\" 200 45927\n",
      "2020-03-03 16:21:21 [scrapy.core.engine] DEBUG: Crawled (200) <GET https://www.bcg.com/publications/2010/metals-mining-sourcing-procurement-flexibility-innovation-todays-imperatives-steel.aspx> (referer: None)\n",
      "2020-03-03 16:21:22 [urllib3.connectionpool] DEBUG: Starting new HTTPS connection (1): www.bcg.com:443\n",
      "2020-03-03 16:21:22 [urllib3.connectionpool] DEBUG: https://www.bcg.com:443 \"GET /publications/2010/metals-mining-sourcing-procurement-flexibility-innovation-todays-imperatives-steel.aspx HTTP/1.1\" 200 46983\n",
      "2020-03-03 16:21:22 [urllib3.connectionpool] DEBUG: Starting new HTTPS connection (1): www.bcg.com:443\n",
      "2020-03-03 16:21:22 [urllib3.connectionpool] DEBUG: https://www.bcg.com:443 \"GET /publications/2010/metals-mining-sourcing-procurement-flexibility-innovation-todays-imperatives-steel.aspx HTTP/1.1\" 200 46983\n"
     ]
    },
    {
     "name": "stdout",
     "output_type": "stream",
     "text": [
      "https://www.bcg.com/publications/2010/metals-mining-sourcing-procurement-flexibility-innovation-todays-imperatives-steel.aspx\n"
     ]
    },
    {
     "name": "stderr",
     "output_type": "stream",
     "text": [
      "2020-03-03 16:21:22 [scrapy.core.engine] DEBUG: Crawled (200) <GET https://www.bcg.com/publications/2017/technology-digital-strategy-building-blocks-artificial-intelligence.aspx> (referer: None)\n",
      "2020-03-03 16:21:22 [urllib3.connectionpool] DEBUG: Starting new HTTPS connection (1): www.bcg.com:443\n",
      "2020-03-03 16:21:22 [urllib3.connectionpool] DEBUG: https://www.bcg.com:443 \"GET /publications/2017/technology-digital-strategy-building-blocks-artificial-intelligence.aspx HTTP/1.1\" 200 None\n",
      "2020-03-03 16:21:22 [urllib3.connectionpool] DEBUG: Starting new HTTPS connection (1): www.bcg.com:443\n"
     ]
    },
    {
     "name": "stdout",
     "output_type": "stream",
     "text": [
      "https://www.bcg.com/publications/2017/technology-digital-strategy-building-blocks-artificial-intelligence.aspx\n"
     ]
    },
    {
     "name": "stderr",
     "output_type": "stream",
     "text": [
      "2020-03-03 16:21:22 [urllib3.connectionpool] DEBUG: https://www.bcg.com:443 \"GET /publications/2017/technology-digital-strategy-building-blocks-artificial-intelligence.aspx HTTP/1.1\" 200 49742\n",
      "2020-03-03 16:21:23 [scrapy.core.engine] DEBUG: Crawled (200) <GET https://www.bcg.com/publications/2016/upstream-oil-gas-technology-digital-countering-the-threat-of-cyberattacks-in-oil-and-gas.aspx> (referer: None)\n",
      "2020-03-03 16:21:23 [urllib3.connectionpool] DEBUG: Starting new HTTPS connection (1): www.bcg.com:443\n",
      "2020-03-03 16:21:23 [urllib3.connectionpool] DEBUG: https://www.bcg.com:443 \"GET /publications/2016/upstream-oil-gas-technology-digital-countering-the-threat-of-cyberattacks-in-oil-and-gas.aspx HTTP/1.1\" 200 53500\n",
      "2020-03-03 16:21:23 [urllib3.connectionpool] DEBUG: Starting new HTTPS connection (1): www.bcg.com:443\n",
      "2020-03-03 16:21:23 [urllib3.connectionpool] DEBUG: https://www.bcg.com:443 \"GET /publications/2016/upstream-oil-gas-technology-digital-countering-the-threat-of-cyberattacks-in-oil-and-gas.aspx HTTP/1.1\" 200 53500\n",
      "2020-03-03 16:21:23 [scrapy.core.engine] DEBUG: Crawled (200) <GET https://www.bcg.com/publications/2017/technology-digital-strategy-ten-things-every-manager-should-know-about-artificial-intelligence.aspx> (referer: None)\n"
     ]
    },
    {
     "name": "stdout",
     "output_type": "stream",
     "text": [
      "https://www.bcg.com/publications/2016/upstream-oil-gas-technology-digital-countering-the-threat-of-cyberattacks-in-oil-and-gas.aspx\n"
     ]
    },
    {
     "name": "stderr",
     "output_type": "stream",
     "text": [
      "2020-03-03 16:21:23 [urllib3.connectionpool] DEBUG: Starting new HTTPS connection (1): www.bcg.com:443\n",
      "2020-03-03 16:21:23 [urllib3.connectionpool] DEBUG: https://www.bcg.com:443 \"GET /publications/2017/technology-digital-strategy-ten-things-every-manager-should-know-about-artificial-intelligence.aspx HTTP/1.1\" 200 None\n",
      "2020-03-03 16:21:23 [urllib3.connectionpool] DEBUG: Starting new HTTPS connection (1): www.bcg.com:443\n"
     ]
    },
    {
     "name": "stdout",
     "output_type": "stream",
     "text": [
      "https://www.bcg.com/publications/2017/technology-digital-strategy-ten-things-every-manager-should-know-about-artificial-intelligence.aspx\n"
     ]
    },
    {
     "name": "stderr",
     "output_type": "stream",
     "text": [
      "2020-03-03 16:21:23 [urllib3.connectionpool] DEBUG: https://www.bcg.com:443 \"GET /publications/2017/technology-digital-strategy-ten-things-every-manager-should-know-about-artificial-intelligence.aspx HTTP/1.1\" 200 47650\n",
      "2020-03-03 16:21:24 [scrapy.core.engine] DEBUG: Crawled (200) <GET https://www.bcg.com/publications/2009/pricing-consumer-products-pricing-fluency.aspx> (referer: None)\n",
      "2020-03-03 16:21:24 [scrapy.core.engine] DEBUG: Crawled (200) <GET https://www.bcg.com/publications/collections/strategy-digital-artificial-intelligence-business.aspx> (referer: None)\n",
      "2020-03-03 16:21:24 [urllib3.connectionpool] DEBUG: Starting new HTTPS connection (1): www.bcg.com:443\n"
     ]
    },
    {
     "name": "stdout",
     "output_type": "stream",
     "text": [
      "https://www.bcg.com/publications/2009/pricing-consumer-products-pricing-fluency.aspx\n"
     ]
    },
    {
     "name": "stderr",
     "output_type": "stream",
     "text": [
      "2020-03-03 16:21:24 [urllib3.connectionpool] DEBUG: https://www.bcg.com:443 \"GET /publications/2009/pricing-consumer-products-pricing-fluency.aspx HTTP/1.1\" 200 49010\n",
      "2020-03-03 16:21:24 [urllib3.connectionpool] DEBUG: Starting new HTTPS connection (1): www.bcg.com:443\n",
      "2020-03-03 16:21:24 [urllib3.connectionpool] DEBUG: https://www.bcg.com:443 \"GET /publications/2009/pricing-consumer-products-pricing-fluency.aspx HTTP/1.1\" 200 49010\n",
      "2020-03-03 16:21:24 [urllib3.connectionpool] DEBUG: Starting new HTTPS connection (1): www.bcg.com:443\n",
      "2020-03-03 16:21:24 [urllib3.connectionpool] DEBUG: https://www.bcg.com:443 \"GET /publications/collections/strategy-digital-artificial-intelligence-business.aspx HTTP/1.1\" 200 50213\n",
      "2020-03-03 16:21:24 [urllib3.connectionpool] DEBUG: Starting new HTTPS connection (1): www.bcg.com:443\n",
      "2020-03-03 16:21:24 [urllib3.connectionpool] DEBUG: https://www.bcg.com:443 \"GET /publications/collections/strategy-digital-artificial-intelligence-business.aspx HTTP/1.1\" 200 50213\n",
      "2020-03-03 16:21:24 [scrapy.core.scraper] ERROR: Spider error processing <GET https://www.bcg.com/publications/collections/strategy-digital-artificial-intelligence-business.aspx> (referer: None)\n",
      "Traceback (most recent call last):\n",
      "  File \"C:\\programs\\Continuum\\anaconda3\\lib\\site-packages\\twisted\\internet\\defer.py\", line 654, in _runCallbacks\n",
      "    current.result = callback(current.result, *args, **kw)\n",
      "  File \"<ipython-input-11-426921d2562a>\", line 37, in parse\n",
      "    page_date = re.findall(date_regex, script_text)[0]\n",
      "IndexError: list index out of range\n"
     ]
    },
    {
     "name": "stdout",
     "output_type": "stream",
     "text": [
      "https://www.bcg.com/publications/collections/strategy-digital-artificial-intelligence-business.aspx\n"
     ]
    },
    {
     "name": "stderr",
     "output_type": "stream",
     "text": [
      "2020-03-03 16:21:29 [scrapy.core.engine] DEBUG: Crawled (200) <GET https://www.bcg.com/publications/2008/upend-downturn-strategic-pricing.aspx> (referer: None)\n",
      "2020-03-03 16:21:29 [urllib3.connectionpool] DEBUG: Starting new HTTPS connection (1): www.bcg.com:443\n",
      "2020-03-03 16:21:30 [urllib3.connectionpool] DEBUG: https://www.bcg.com:443 \"GET /publications/2008/upend-downturn-strategic-pricing.aspx HTTP/1.1\" 200 None\n",
      "2020-03-03 16:21:30 [urllib3.connectionpool] DEBUG: Starting new HTTPS connection (1): www.bcg.com:443\n",
      "2020-03-03 16:21:30 [urllib3.connectionpool] DEBUG: https://www.bcg.com:443 \"GET /publications/2008/upend-downturn-strategic-pricing.aspx HTTP/1.1\" 200 48737\n"
     ]
    },
    {
     "name": "stdout",
     "output_type": "stream",
     "text": [
      "https://www.bcg.com/publications/2008/upend-downturn-strategic-pricing.aspx\n"
     ]
    },
    {
     "name": "stderr",
     "output_type": "stream",
     "text": [
      "2020-03-03 16:21:31 [scrapy.core.engine] DEBUG: Crawled (200) <GET https://www.bcg.com/publications/2017/technology-digital-big-data-advanced-analytics-schmidhuber-jurgen-looking-future-artificial-intelligence.aspx> (referer: None)\n",
      "2020-03-03 16:21:31 [urllib3.connectionpool] DEBUG: Starting new HTTPS connection (1): www.bcg.com:443\n",
      "2020-03-03 16:21:31 [urllib3.connectionpool] DEBUG: https://www.bcg.com:443 \"GET /publications/2017/technology-digital-big-data-advanced-analytics-schmidhuber-jurgen-looking-future-artificial-intelligence.aspx HTTP/1.1\" 200 48358\n",
      "2020-03-03 16:21:31 [urllib3.connectionpool] DEBUG: Starting new HTTPS connection (1): www.bcg.com:443\n",
      "2020-03-03 16:21:31 [urllib3.connectionpool] DEBUG: https://www.bcg.com:443 \"GET /publications/2017/technology-digital-big-data-advanced-analytics-schmidhuber-jurgen-looking-future-artificial-intelligence.aspx HTTP/1.1\" 200 48358\n"
     ]
    },
    {
     "name": "stdout",
     "output_type": "stream",
     "text": [
      "https://www.bcg.com/publications/2017/technology-digital-big-data-advanced-analytics-schmidhuber-jurgen-looking-future-artificial-intelligence.aspx\n"
     ]
    },
    {
     "name": "stderr",
     "output_type": "stream",
     "text": [
      "2020-03-03 16:21:31 [scrapy.core.engine] DEBUG: Crawled (200) <GET https://www.bcg.com/capabilities/technology-digital/insights.aspx> (referer: None)\n",
      "2020-03-03 16:21:32 [urllib3.connectionpool] DEBUG: Starting new HTTPS connection (1): www.bcg.com:443\n",
      "2020-03-03 16:21:32 [urllib3.connectionpool] DEBUG: https://www.bcg.com:443 \"GET /capabilities/technology-digital/insights.aspx HTTP/1.1\" 200 54165\n",
      "2020-03-03 16:21:32 [urllib3.connectionpool] DEBUG: Starting new HTTPS connection (1): www.bcg.com:443\n",
      "2020-03-03 16:21:32 [urllib3.connectionpool] DEBUG: https://www.bcg.com:443 \"GET /capabilities/technology-digital/insights.aspx HTTP/1.1\" 200 54165\n",
      "2020-03-03 16:21:32 [scrapy.core.scraper] ERROR: Spider error processing <GET https://www.bcg.com/capabilities/technology-digital/insights.aspx> (referer: None)\n",
      "Traceback (most recent call last):\n",
      "  File \"C:\\programs\\Continuum\\anaconda3\\lib\\site-packages\\twisted\\internet\\defer.py\", line 654, in _runCallbacks\n",
      "    current.result = callback(current.result, *args, **kw)\n",
      "  File \"<ipython-input-11-426921d2562a>\", line 37, in parse\n",
      "    page_date = re.findall(date_regex, script_text)[0]\n",
      "IndexError: list index out of range\n",
      "2020-03-03 16:21:32 [scrapy.core.engine] DEBUG: Crawled (200) <GET https://www.bcg.com/capabilities/big-data-advanced-analytics/insights.aspx> (referer: None)\n"
     ]
    },
    {
     "name": "stdout",
     "output_type": "stream",
     "text": [
      "https://www.bcg.com/capabilities/technology-digital/insights.aspx\n"
     ]
    },
    {
     "name": "stderr",
     "output_type": "stream",
     "text": [
      "2020-03-03 16:21:32 [scrapy.downloadermiddlewares.redirect] DEBUG: Redirecting (301) to <GET https://www.bcg.com/industries/technology-industries/insights.aspx> from <GET https://www.bcg.com/industries/technology-industries/publications.aspx>\n",
      "2020-03-03 16:21:32 [scrapy.core.engine] DEBUG: Crawled (200) <GET https://www.bcg.com/featured-insights/thought-leadership-ideas.aspx> (referer: None)\n",
      "2020-03-03 16:21:32 [urllib3.connectionpool] DEBUG: Starting new HTTPS connection (1): www.bcg.com:443\n",
      "2020-03-03 16:21:32 [urllib3.connectionpool] DEBUG: https://www.bcg.com:443 \"GET /capabilities/big-data-advanced-analytics/insights.aspx HTTP/1.1\" 200 48807\n",
      "2020-03-03 16:21:32 [urllib3.connectionpool] DEBUG: Starting new HTTPS connection (1): www.bcg.com:443\n",
      "2020-03-03 16:21:32 [urllib3.connectionpool] DEBUG: https://www.bcg.com:443 \"GET /capabilities/big-data-advanced-analytics/insights.aspx HTTP/1.1\" 200 48807\n",
      "2020-03-03 16:21:32 [scrapy.core.scraper] ERROR: Spider error processing <GET https://www.bcg.com/capabilities/big-data-advanced-analytics/insights.aspx> (referer: None)\n",
      "Traceback (most recent call last):\n",
      "  File \"C:\\programs\\Continuum\\anaconda3\\lib\\site-packages\\twisted\\internet\\defer.py\", line 654, in _runCallbacks\n",
      "    current.result = callback(current.result, *args, **kw)\n",
      "  File \"<ipython-input-11-426921d2562a>\", line 37, in parse\n",
      "    page_date = re.findall(date_regex, script_text)[0]\n",
      "IndexError: list index out of range\n",
      "2020-03-03 16:21:32 [urllib3.connectionpool] DEBUG: Starting new HTTPS connection (1): www.bcg.com:443\n"
     ]
    },
    {
     "name": "stdout",
     "output_type": "stream",
     "text": [
      "https://www.bcg.com/capabilities/big-data-advanced-analytics/insights.aspx\n",
      "https://www.bcg.com/featured-insights/thought-leadership-ideas.aspx\n"
     ]
    },
    {
     "name": "stderr",
     "output_type": "stream",
     "text": [
      "2020-03-03 16:21:32 [urllib3.connectionpool] DEBUG: https://www.bcg.com:443 \"GET /featured-insights/thought-leadership-ideas.aspx HTTP/1.1\" 200 17545\n",
      "2020-03-03 16:21:32 [urllib3.connectionpool] DEBUG: Starting new HTTPS connection (1): www.bcg.com:443\n",
      "2020-03-03 16:21:32 [urllib3.connectionpool] DEBUG: https://www.bcg.com:443 \"GET /featured-insights/thought-leadership-ideas.aspx HTTP/1.1\" 200 17545\n",
      "2020-03-03 16:21:32 [scrapy.core.scraper] ERROR: Spider error processing <GET https://www.bcg.com/featured-insights/thought-leadership-ideas.aspx> (referer: None)\n",
      "Traceback (most recent call last):\n",
      "  File \"C:\\programs\\Continuum\\anaconda3\\lib\\site-packages\\twisted\\internet\\defer.py\", line 654, in _runCallbacks\n",
      "    current.result = callback(current.result, *args, **kw)\n",
      "  File \"<ipython-input-11-426921d2562a>\", line 37, in parse\n",
      "    page_date = re.findall(date_regex, script_text)[0]\n",
      "IndexError: list index out of range\n",
      "2020-03-03 16:21:34 [scrapy.core.engine] DEBUG: Crawled (200) <GET https://www.bcg.com/publications/2016/future-strategy-wladawsky-berger-irving-killer-apps-game-changing-potential-ai.aspx> (referer: None)\n",
      "2020-03-03 16:21:34 [urllib3.connectionpool] DEBUG: Starting new HTTPS connection (1): www.bcg.com:443\n",
      "2020-03-03 16:21:34 [urllib3.connectionpool] DEBUG: https://www.bcg.com:443 \"GET /publications/2016/future-strategy-wladawsky-berger-irving-killer-apps-game-changing-potential-ai.aspx HTTP/1.1\" 200 47351\n",
      "2020-03-03 16:21:34 [urllib3.connectionpool] DEBUG: Starting new HTTPS connection (1): www.bcg.com:443\n",
      "2020-03-03 16:21:34 [urllib3.connectionpool] DEBUG: https://www.bcg.com:443 \"GET /publications/2016/future-strategy-wladawsky-berger-irving-killer-apps-game-changing-potential-ai.aspx HTTP/1.1\" 200 47351\n"
     ]
    },
    {
     "name": "stdout",
     "output_type": "stream",
     "text": [
      "https://www.bcg.com/publications/2016/future-strategy-wladawsky-berger-irving-killer-apps-game-changing-potential-ai.aspx\n"
     ]
    },
    {
     "name": "stderr",
     "output_type": "stream",
     "text": [
      "2020-03-03 16:21:37 [scrapy.core.engine] DEBUG: Crawled (200) <GET https://www.bcg.com/publications/2019/economic-impact-public-cloud-apac/south-korea.aspx> (referer: None)\n",
      "2020-03-03 16:21:37 [urllib3.connectionpool] DEBUG: Starting new HTTPS connection (1): www.bcg.com:443\n",
      "2020-03-03 16:21:37 [urllib3.connectionpool] DEBUG: https://www.bcg.com:443 \"GET /publications/2019/economic-impact-public-cloud-apac/south-korea.aspx HTTP/1.1\" 200 49603\n",
      "2020-03-03 16:21:37 [urllib3.connectionpool] DEBUG: Starting new HTTPS connection (1): www.bcg.com:443\n",
      "2020-03-03 16:21:37 [urllib3.connectionpool] DEBUG: https://www.bcg.com:443 \"GET /publications/2019/economic-impact-public-cloud-apac/south-korea.aspx HTTP/1.1\" 200 49603\n",
      "2020-03-03 16:21:37 [scrapy.core.scraper] ERROR: Spider error processing <GET https://www.bcg.com/publications/2019/economic-impact-public-cloud-apac/south-korea.aspx> (referer: None)\n",
      "Traceback (most recent call last):\n",
      "  File \"C:\\programs\\Continuum\\anaconda3\\lib\\site-packages\\twisted\\internet\\defer.py\", line 654, in _runCallbacks\n",
      "    current.result = callback(current.result, *args, **kw)\n",
      "  File \"<ipython-input-11-426921d2562a>\", line 37, in parse\n",
      "    page_date = re.findall(date_regex, script_text)[0]\n",
      "IndexError: list index out of range\n"
     ]
    },
    {
     "name": "stdout",
     "output_type": "stream",
     "text": [
      "https://www.bcg.com/publications/2019/economic-impact-public-cloud-apac/south-korea.aspx\n"
     ]
    },
    {
     "name": "stderr",
     "output_type": "stream",
     "text": [
      "2020-03-03 16:21:40 [scrapy.core.engine] DEBUG: Crawled (200) <GET https://www.bcg.com/publications/2015/development-public-sector-ending-child-hunger-smart-simplicity.aspx> (referer: None)\n",
      "2020-03-03 16:21:40 [urllib3.connectionpool] DEBUG: Starting new HTTPS connection (1): www.bcg.com:443\n",
      "2020-03-03 16:21:40 [urllib3.connectionpool] DEBUG: https://www.bcg.com:443 \"GET /publications/2015/development-public-sector-ending-child-hunger-smart-simplicity.aspx HTTP/1.1\" 200 None\n",
      "2020-03-03 16:21:40 [urllib3.connectionpool] DEBUG: Starting new HTTPS connection (1): www.bcg.com:443\n"
     ]
    },
    {
     "name": "stdout",
     "output_type": "stream",
     "text": [
      "https://www.bcg.com/publications/2015/development-public-sector-ending-child-hunger-smart-simplicity.aspx\n"
     ]
    },
    {
     "name": "stderr",
     "output_type": "stream",
     "text": [
      "2020-03-03 16:21:40 [urllib3.connectionpool] DEBUG: https://www.bcg.com:443 \"GET /publications/2015/development-public-sector-ending-child-hunger-smart-simplicity.aspx HTTP/1.1\" 200 50232\n",
      "2020-03-03 16:21:40 [scrapy.core.engine] DEBUG: Crawled (200) <GET https://www.bcg.com/publications/2019/economic-impact-public-cloud-apac/singapore.aspx> (referer: None)\n",
      "2020-03-03 16:21:40 [urllib3.connectionpool] DEBUG: Starting new HTTPS connection (1): www.bcg.com:443\n",
      "2020-03-03 16:21:40 [urllib3.connectionpool] DEBUG: https://www.bcg.com:443 \"GET /publications/2019/economic-impact-public-cloud-apac/singapore.aspx HTTP/1.1\" 200 49828\n",
      "2020-03-03 16:21:40 [urllib3.connectionpool] DEBUG: Starting new HTTPS connection (1): www.bcg.com:443\n",
      "2020-03-03 16:21:40 [urllib3.connectionpool] DEBUG: https://www.bcg.com:443 \"GET /publications/2019/economic-impact-public-cloud-apac/singapore.aspx HTTP/1.1\" 200 49828\n",
      "2020-03-03 16:21:40 [scrapy.core.scraper] ERROR: Spider error processing <GET https://www.bcg.com/publications/2019/economic-impact-public-cloud-apac/singapore.aspx> (referer: None)\n",
      "Traceback (most recent call last):\n",
      "  File \"C:\\programs\\Continuum\\anaconda3\\lib\\site-packages\\twisted\\internet\\defer.py\", line 654, in _runCallbacks\n",
      "    current.result = callback(current.result, *args, **kw)\n",
      "  File \"<ipython-input-11-426921d2562a>\", line 37, in parse\n",
      "    page_date = re.findall(date_regex, script_text)[0]\n",
      "IndexError: list index out of range\n"
     ]
    },
    {
     "name": "stdout",
     "output_type": "stream",
     "text": [
      "https://www.bcg.com/publications/2019/economic-impact-public-cloud-apac/singapore.aspx\n"
     ]
    },
    {
     "name": "stderr",
     "output_type": "stream",
     "text": [
      "2020-03-03 16:21:41 [scrapy.core.engine] DEBUG: Crawled (200) <GET https://www.bcg.com/publications/2017/strategy-products-how-big-consumer-companies-can-fight-back.aspx> (referer: None)\n",
      "2020-03-03 16:21:41 [urllib3.connectionpool] DEBUG: Starting new HTTPS connection (1): www.bcg.com:443\n",
      "2020-03-03 16:21:41 [urllib3.connectionpool] DEBUG: https://www.bcg.com:443 \"GET /publications/2017/strategy-products-how-big-consumer-companies-can-fight-back.aspx HTTP/1.1\" 200 54097\n",
      "2020-03-03 16:21:41 [urllib3.connectionpool] DEBUG: Starting new HTTPS connection (1): www.bcg.com:443\n",
      "2020-03-03 16:21:41 [urllib3.connectionpool] DEBUG: https://www.bcg.com:443 \"GET /publications/2017/strategy-products-how-big-consumer-companies-can-fight-back.aspx HTTP/1.1\" 200 54097\n"
     ]
    },
    {
     "name": "stdout",
     "output_type": "stream",
     "text": [
      "https://www.bcg.com/publications/2017/strategy-products-how-big-consumer-companies-can-fight-back.aspx\n"
     ]
    },
    {
     "name": "stderr",
     "output_type": "stream",
     "text": [
      "2020-03-03 16:21:41 [scrapy.core.engine] DEBUG: Crawled (200) <GET https://www.bcg.com/publications/collections/most-innovative-companies-2019-artificial-intelligence-platforms-ecosystems.aspx> (referer: None)\n",
      "2020-03-03 16:21:41 [urllib3.connectionpool] DEBUG: Starting new HTTPS connection (1): www.bcg.com:443\n",
      "2020-03-03 16:21:41 [urllib3.connectionpool] DEBUG: https://www.bcg.com:443 \"GET /publications/collections/most-innovative-companies-2019-artificial-intelligence-platforms-ecosystems.aspx HTTP/1.1\" 200 46887\n",
      "2020-03-03 16:21:41 [urllib3.connectionpool] DEBUG: Starting new HTTPS connection (1): www.bcg.com:443\n",
      "2020-03-03 16:21:41 [urllib3.connectionpool] DEBUG: https://www.bcg.com:443 \"GET /publications/collections/most-innovative-companies-2019-artificial-intelligence-platforms-ecosystems.aspx HTTP/1.1\" 200 46887\n"
     ]
    },
    {
     "name": "stdout",
     "output_type": "stream",
     "text": [
      "https://www.bcg.com/publications/collections/most-innovative-companies-2019-artificial-intelligence-platforms-ecosystems.aspx\n"
     ]
    },
    {
     "name": "stderr",
     "output_type": "stream",
     "text": [
      "2020-03-03 16:21:43 [scrapy.core.engine] DEBUG: Crawled (200) <GET https://www.bcg.com/publications/2019/economic-impact-public-cloud-apac/india.aspx> (referer: None)\n",
      "2020-03-03 16:21:43 [scrapy.dupefilters] DEBUG: Filtered duplicate request: <GET https://www.bcg.com/industries/technology-industries/insights.aspx> - no more duplicates will be shown (see DUPEFILTER_DEBUG to show all duplicates)\n",
      "2020-03-03 16:21:43 [urllib3.connectionpool] DEBUG: Starting new HTTPS connection (1): www.bcg.com:443\n",
      "2020-03-03 16:21:43 [urllib3.connectionpool] DEBUG: https://www.bcg.com:443 \"GET /publications/2019/economic-impact-public-cloud-apac/india.aspx HTTP/1.1\" 200 49511\n",
      "2020-03-03 16:21:43 [urllib3.connectionpool] DEBUG: Starting new HTTPS connection (1): www.bcg.com:443\n",
      "2020-03-03 16:21:43 [urllib3.connectionpool] DEBUG: https://www.bcg.com:443 \"GET /publications/2019/economic-impact-public-cloud-apac/india.aspx HTTP/1.1\" 200 49511\n",
      "2020-03-03 16:21:43 [scrapy.core.scraper] ERROR: Spider error processing <GET https://www.bcg.com/publications/2019/economic-impact-public-cloud-apac/india.aspx> (referer: None)\n",
      "Traceback (most recent call last):\n",
      "  File \"C:\\programs\\Continuum\\anaconda3\\lib\\site-packages\\twisted\\internet\\defer.py\", line 654, in _runCallbacks\n",
      "    current.result = callback(current.result, *args, **kw)\n",
      "  File \"<ipython-input-11-426921d2562a>\", line 37, in parse\n",
      "    page_date = re.findall(date_regex, script_text)[0]\n",
      "IndexError: list index out of range\n"
     ]
    },
    {
     "name": "stdout",
     "output_type": "stream",
     "text": [
      "https://www.bcg.com/publications/2019/economic-impact-public-cloud-apac/india.aspx\n"
     ]
    },
    {
     "name": "stderr",
     "output_type": "stream",
     "text": [
      "2020-03-03 16:21:43 [scrapy.core.engine] DEBUG: Crawled (200) <GET https://www.bcg.com/industries/technology-industries/insights.aspx> (referer: None)\n",
      "2020-03-03 16:21:43 [scrapy.downloadermiddlewares.redirect] DEBUG: Redirecting (301) to <GET https://www.bcg.com/industries/metals-mining/insights.aspx> from <GET https://www.bcg.com/industries/metals-mining/publications.aspx>\n",
      "2020-03-03 16:21:43 [urllib3.connectionpool] DEBUG: Starting new HTTPS connection (1): www.bcg.com:443\n",
      "2020-03-03 16:21:43 [urllib3.connectionpool] DEBUG: https://www.bcg.com:443 \"GET /industries/technology-industries/insights.aspx HTTP/1.1\" 200 None\n",
      "2020-03-03 16:21:44 [urllib3.connectionpool] DEBUG: Starting new HTTPS connection (1): www.bcg.com:443\n",
      "2020-03-03 16:21:44 [urllib3.connectionpool] DEBUG: https://www.bcg.com:443 \"GET /industries/technology-industries/insights.aspx HTTP/1.1\" 200 54153\n"
     ]
    },
    {
     "name": "stdout",
     "output_type": "stream",
     "text": [
      "https://www.bcg.com/industries/technology-industries/insights.aspx\n"
     ]
    },
    {
     "name": "stderr",
     "output_type": "stream",
     "text": [
      "2020-03-03 16:21:44 [scrapy.core.scraper] ERROR: Spider error processing <GET https://www.bcg.com/industries/technology-industries/insights.aspx> (referer: None)\n",
      "Traceback (most recent call last):\n",
      "  File \"C:\\programs\\Continuum\\anaconda3\\lib\\site-packages\\twisted\\internet\\defer.py\", line 654, in _runCallbacks\n",
      "    current.result = callback(current.result, *args, **kw)\n",
      "  File \"<ipython-input-11-426921d2562a>\", line 37, in parse\n",
      "    page_date = re.findall(date_regex, script_text)[0]\n",
      "IndexError: list index out of range\n",
      "2020-03-03 16:21:44 [scrapy.downloadermiddlewares.redirect] DEBUG: Redirecting (301) to <GET https://www.bcg.com/industries/consumer-products/insights.aspx> from <GET https://www.bcg.com/industries/consumer-products/publications.aspx>\n",
      "2020-03-03 16:21:44 [scrapy.core.engine] DEBUG: Crawled (200) <GET https://www.bcg.com/industries/biopharmaceuticals/insights.aspx> (referer: None)\n",
      "2020-03-03 16:21:44 [urllib3.connectionpool] DEBUG: Starting new HTTPS connection (1): www.bcg.com:443\n",
      "2020-03-03 16:21:44 [urllib3.connectionpool] DEBUG: https://www.bcg.com:443 \"GET /industries/biopharmaceuticals/insights.aspx HTTP/1.1\" 200 51498\n",
      "2020-03-03 16:21:44 [urllib3.connectionpool] DEBUG: Starting new HTTPS connection (1): www.bcg.com:443\n",
      "2020-03-03 16:21:44 [urllib3.connectionpool] DEBUG: https://www.bcg.com:443 \"GET /industries/biopharmaceuticals/insights.aspx HTTP/1.1\" 200 51498\n",
      "2020-03-03 16:21:44 [scrapy.core.scraper] ERROR: Spider error processing <GET https://www.bcg.com/industries/biopharmaceuticals/insights.aspx> (referer: None)\n",
      "Traceback (most recent call last):\n",
      "  File \"C:\\programs\\Continuum\\anaconda3\\lib\\site-packages\\twisted\\internet\\defer.py\", line 654, in _runCallbacks\n",
      "    current.result = callback(current.result, *args, **kw)\n",
      "  File \"<ipython-input-11-426921d2562a>\", line 37, in parse\n",
      "    page_date = re.findall(date_regex, script_text)[0]\n",
      "IndexError: list index out of range\n"
     ]
    },
    {
     "name": "stdout",
     "output_type": "stream",
     "text": [
      "https://www.bcg.com/industries/biopharmaceuticals/insights.aspx\n"
     ]
    },
    {
     "name": "stderr",
     "output_type": "stream",
     "text": [
      "2020-03-03 16:21:44 [scrapy.core.engine] DEBUG: Crawled (200) <GET https://www.bcg.com/industries/metals-mining/insights.aspx> (referer: None)\n",
      "2020-03-03 16:21:44 [urllib3.connectionpool] DEBUG: Starting new HTTPS connection (1): www.bcg.com:443\n",
      "2020-03-03 16:21:45 [urllib3.connectionpool] DEBUG: https://www.bcg.com:443 \"GET /industries/metals-mining/insights.aspx HTTP/1.1\" 200 48328\n",
      "2020-03-03 16:21:45 [urllib3.connectionpool] DEBUG: Starting new HTTPS connection (1): www.bcg.com:443\n",
      "2020-03-03 16:21:45 [urllib3.connectionpool] DEBUG: https://www.bcg.com:443 \"GET /industries/metals-mining/insights.aspx HTTP/1.1\" 200 48328\n"
     ]
    },
    {
     "name": "stdout",
     "output_type": "stream",
     "text": [
      "https://www.bcg.com/industries/metals-mining/insights.aspx\n"
     ]
    },
    {
     "name": "stderr",
     "output_type": "stream",
     "text": [
      "2020-03-03 16:21:45 [scrapy.core.scraper] ERROR: Spider error processing <GET https://www.bcg.com/industries/metals-mining/insights.aspx> (referer: None)\n",
      "Traceback (most recent call last):\n",
      "  File \"C:\\programs\\Continuum\\anaconda3\\lib\\site-packages\\twisted\\internet\\defer.py\", line 654, in _runCallbacks\n",
      "    current.result = callback(current.result, *args, **kw)\n",
      "  File \"<ipython-input-11-426921d2562a>\", line 37, in parse\n",
      "    page_date = re.findall(date_regex, script_text)[0]\n",
      "IndexError: list index out of range\n",
      "2020-03-03 16:21:45 [scrapy.core.engine] DEBUG: Crawled (200) <GET https://www.bcg.com/publications/collections/technology-media-telecom-value-creation-2019-digital-artificial-intelligence.aspx> (referer: None)\n",
      "2020-03-03 16:21:45 [urllib3.connectionpool] DEBUG: Starting new HTTPS connection (1): www.bcg.com:443\n",
      "2020-03-03 16:21:45 [urllib3.connectionpool] DEBUG: https://www.bcg.com:443 \"GET /publications/collections/technology-media-telecom-value-creation-2019-digital-artificial-intelligence.aspx HTTP/1.1\" 200 46321\n",
      "2020-03-03 16:21:45 [urllib3.connectionpool] DEBUG: Starting new HTTPS connection (1): www.bcg.com:443\n",
      "2020-03-03 16:21:45 [urllib3.connectionpool] DEBUG: https://www.bcg.com:443 \"GET /publications/collections/technology-media-telecom-value-creation-2019-digital-artificial-intelligence.aspx HTTP/1.1\" 200 46321\n"
     ]
    },
    {
     "name": "stdout",
     "output_type": "stream",
     "text": [
      "https://www.bcg.com/publications/collections/technology-media-telecom-value-creation-2019-digital-artificial-intelligence.aspx\n"
     ]
    },
    {
     "name": "stderr",
     "output_type": "stream",
     "text": [
      "2020-03-03 16:21:45 [scrapy.core.engine] DEBUG: Crawled (200) <GET https://www.bcg.com/industries/retail/insights.aspx> (referer: None)\n",
      "2020-03-03 16:21:45 [urllib3.connectionpool] DEBUG: Starting new HTTPS connection (1): www.bcg.com:443\n",
      "2020-03-03 16:21:45 [urllib3.connectionpool] DEBUG: https://www.bcg.com:443 \"GET /industries/retail/insights.aspx HTTP/1.1\" 200 52505\n",
      "2020-03-03 16:21:45 [urllib3.connectionpool] DEBUG: Starting new HTTPS connection (1): www.bcg.com:443\n",
      "2020-03-03 16:21:45 [urllib3.connectionpool] DEBUG: https://www.bcg.com:443 \"GET /industries/retail/insights.aspx HTTP/1.1\" 200 52505\n"
     ]
    },
    {
     "name": "stdout",
     "output_type": "stream",
     "text": [
      "https://www.bcg.com/industries/retail/insights.aspx\n"
     ]
    },
    {
     "name": "stderr",
     "output_type": "stream",
     "text": [
      "2020-03-03 16:21:45 [scrapy.core.scraper] ERROR: Spider error processing <GET https://www.bcg.com/industries/retail/insights.aspx> (referer: None)\n",
      "Traceback (most recent call last):\n",
      "  File \"C:\\programs\\Continuum\\anaconda3\\lib\\site-packages\\twisted\\internet\\defer.py\", line 654, in _runCallbacks\n",
      "    current.result = callback(current.result, *args, **kw)\n",
      "  File \"<ipython-input-11-426921d2562a>\", line 37, in parse\n",
      "    page_date = re.findall(date_regex, script_text)[0]\n",
      "IndexError: list index out of range\n",
      "2020-03-03 16:21:45 [scrapy.core.engine] DEBUG: Crawled (200) <GET https://www.bcg.com/capabilities/strategy/insights.aspx> (referer: None)\n",
      "2020-03-03 16:21:46 [urllib3.connectionpool] DEBUG: Starting new HTTPS connection (1): www.bcg.com:443\n",
      "2020-03-03 16:21:46 [urllib3.connectionpool] DEBUG: https://www.bcg.com:443 \"GET /capabilities/strategy/insights.aspx HTTP/1.1\" 200 50142\n",
      "2020-03-03 16:21:46 [urllib3.connectionpool] DEBUG: Starting new HTTPS connection (1): www.bcg.com:443\n",
      "2020-03-03 16:21:46 [urllib3.connectionpool] DEBUG: https://www.bcg.com:443 \"GET /capabilities/strategy/insights.aspx HTTP/1.1\" 200 50142\n",
      "2020-03-03 16:21:46 [scrapy.core.scraper] ERROR: Spider error processing <GET https://www.bcg.com/capabilities/strategy/insights.aspx> (referer: None)\n",
      "Traceback (most recent call last):\n",
      "  File \"C:\\programs\\Continuum\\anaconda3\\lib\\site-packages\\twisted\\internet\\defer.py\", line 654, in _runCallbacks\n",
      "    current.result = callback(current.result, *args, **kw)\n",
      "  File \"<ipython-input-11-426921d2562a>\", line 37, in parse\n",
      "    page_date = re.findall(date_regex, script_text)[0]\n",
      "IndexError: list index out of range\n"
     ]
    },
    {
     "name": "stdout",
     "output_type": "stream",
     "text": [
      "https://www.bcg.com/capabilities/strategy/insights.aspx\n"
     ]
    },
    {
     "name": "stderr",
     "output_type": "stream",
     "text": [
      "2020-03-03 16:21:46 [scrapy.core.engine] DEBUG: Crawled (200) <GET https://www.bcg.com/capabilities/operations/insights.aspx> (referer: None)\n",
      "2020-03-03 16:21:46 [urllib3.connectionpool] DEBUG: Starting new HTTPS connection (1): www.bcg.com:443\n",
      "2020-03-03 16:21:46 [urllib3.connectionpool] DEBUG: https://www.bcg.com:443 \"GET /capabilities/operations/insights.aspx HTTP/1.1\" 200 55949\n",
      "2020-03-03 16:21:46 [urllib3.connectionpool] DEBUG: Starting new HTTPS connection (1): www.bcg.com:443\n",
      "2020-03-03 16:21:46 [urllib3.connectionpool] DEBUG: https://www.bcg.com:443 \"GET /capabilities/operations/insights.aspx HTTP/1.1\" 200 55949\n",
      "2020-03-03 16:21:46 [scrapy.core.scraper] ERROR: Spider error processing <GET https://www.bcg.com/capabilities/operations/insights.aspx> (referer: None)\n",
      "Traceback (most recent call last):\n",
      "  File \"C:\\programs\\Continuum\\anaconda3\\lib\\site-packages\\twisted\\internet\\defer.py\", line 654, in _runCallbacks\n",
      "    current.result = callback(current.result, *args, **kw)\n",
      "  File \"<ipython-input-11-426921d2562a>\", line 37, in parse\n",
      "    page_date = re.findall(date_regex, script_text)[0]\n",
      "IndexError: list index out of range\n"
     ]
    },
    {
     "name": "stdout",
     "output_type": "stream",
     "text": [
      "https://www.bcg.com/capabilities/operations/insights.aspx\n"
     ]
    },
    {
     "name": "stderr",
     "output_type": "stream",
     "text": [
      "2020-03-03 16:21:46 [scrapy.core.engine] DEBUG: Crawled (200) <GET https://www.bcg.com/industries/consumer-products/insights.aspx> (referer: None)\n",
      "2020-03-03 16:21:46 [urllib3.connectionpool] DEBUG: Starting new HTTPS connection (1): www.bcg.com:443\n"
     ]
    },
    {
     "name": "stdout",
     "output_type": "stream",
     "text": [
      "https://www.bcg.com/industries/consumer-products/insights.aspx\n"
     ]
    },
    {
     "name": "stderr",
     "output_type": "stream",
     "text": [
      "2020-03-03 16:21:47 [urllib3.connectionpool] DEBUG: https://www.bcg.com:443 \"GET /industries/consumer-products/insights.aspx HTTP/1.1\" 200 None\n",
      "2020-03-03 16:21:47 [urllib3.connectionpool] DEBUG: Starting new HTTPS connection (1): www.bcg.com:443\n",
      "2020-03-03 16:21:47 [urllib3.connectionpool] DEBUG: https://www.bcg.com:443 \"GET /industries/consumer-products/insights.aspx HTTP/1.1\" 200 50389\n",
      "2020-03-03 16:21:47 [scrapy.core.scraper] ERROR: Spider error processing <GET https://www.bcg.com/industries/consumer-products/insights.aspx> (referer: None)\n",
      "Traceback (most recent call last):\n",
      "  File \"C:\\programs\\Continuum\\anaconda3\\lib\\site-packages\\twisted\\internet\\defer.py\", line 654, in _runCallbacks\n",
      "    current.result = callback(current.result, *args, **kw)\n",
      "  File \"<ipython-input-11-426921d2562a>\", line 37, in parse\n",
      "    page_date = re.findall(date_regex, script_text)[0]\n",
      "IndexError: list index out of range\n",
      "2020-03-03 16:21:49 [scrapy.core.engine] DEBUG: Crawled (200) <GET https://www.bcg.com/publications/collections/technology-advantage-april-2017.aspx> (referer: None)\n",
      "2020-03-03 16:21:49 [urllib3.connectionpool] DEBUG: Starting new HTTPS connection (1): www.bcg.com:443\n",
      "2020-03-03 16:21:49 [urllib3.connectionpool] DEBUG: https://www.bcg.com:443 \"GET /publications/collections/technology-advantage-april-2017.aspx HTTP/1.1\" 200 44540\n",
      "2020-03-03 16:21:49 [urllib3.connectionpool] DEBUG: Starting new HTTPS connection (1): www.bcg.com:443\n",
      "2020-03-03 16:21:49 [urllib3.connectionpool] DEBUG: https://www.bcg.com:443 \"GET /publications/collections/technology-advantage-april-2017.aspx HTTP/1.1\" 200 44540\n",
      "2020-03-03 16:21:49 [scrapy.core.scraper] ERROR: Spider error processing <GET https://www.bcg.com/publications/collections/technology-advantage-april-2017.aspx> (referer: None)\n",
      "Traceback (most recent call last):\n",
      "  File \"C:\\programs\\Continuum\\anaconda3\\lib\\site-packages\\twisted\\internet\\defer.py\", line 654, in _runCallbacks\n",
      "    current.result = callback(current.result, *args, **kw)\n",
      "  File \"<ipython-input-11-426921d2562a>\", line 37, in parse\n",
      "    page_date = re.findall(date_regex, script_text)[0]\n",
      "IndexError: list index out of range\n"
     ]
    },
    {
     "name": "stdout",
     "output_type": "stream",
     "text": [
      "https://www.bcg.com/publications/collections/technology-advantage-april-2017.aspx\n"
     ]
    },
    {
     "name": "stderr",
     "output_type": "stream",
     "text": [
      "2020-03-03 16:21:51 [scrapy.core.engine] DEBUG: Crawled (200) <GET https://www.bcg.com/publications/2019/economic-impact-public-cloud-apac/australia.aspx> (referer: None)\n",
      "2020-03-03 16:21:51 [urllib3.connectionpool] DEBUG: Starting new HTTPS connection (1): www.bcg.com:443\n",
      "2020-03-03 16:21:51 [urllib3.connectionpool] DEBUG: https://www.bcg.com:443 \"GET /publications/2019/economic-impact-public-cloud-apac/australia.aspx HTTP/1.1\" 200 48628\n",
      "2020-03-03 16:21:51 [urllib3.connectionpool] DEBUG: Starting new HTTPS connection (1): www.bcg.com:443\n",
      "2020-03-03 16:21:51 [urllib3.connectionpool] DEBUG: https://www.bcg.com:443 \"GET /publications/2019/economic-impact-public-cloud-apac/australia.aspx HTTP/1.1\" 200 48628\n",
      "2020-03-03 16:21:51 [scrapy.core.scraper] ERROR: Spider error processing <GET https://www.bcg.com/publications/2019/economic-impact-public-cloud-apac/australia.aspx> (referer: None)\n",
      "Traceback (most recent call last):\n",
      "  File \"C:\\programs\\Continuum\\anaconda3\\lib\\site-packages\\twisted\\internet\\defer.py\", line 654, in _runCallbacks\n",
      "    current.result = callback(current.result, *args, **kw)\n",
      "  File \"<ipython-input-11-426921d2562a>\", line 37, in parse\n",
      "    page_date = re.findall(date_regex, script_text)[0]\n",
      "IndexError: list index out of range\n"
     ]
    },
    {
     "name": "stdout",
     "output_type": "stream",
     "text": [
      "https://www.bcg.com/publications/2019/economic-impact-public-cloud-apac/australia.aspx\n"
     ]
    },
    {
     "name": "stderr",
     "output_type": "stream",
     "text": [
      "2020-03-03 16:21:53 [scrapy.core.engine] DEBUG: Crawled (200) <GET https://www.bcg.com/publications/2015/media-entertainment-marketing-programmatic-path-profit-publishers.aspx> (referer: None)\n",
      "2020-03-03 16:21:53 [urllib3.connectionpool] DEBUG: Starting new HTTPS connection (1): www.bcg.com:443\n"
     ]
    },
    {
     "name": "stdout",
     "output_type": "stream",
     "text": [
      "https://www.bcg.com/publications/2015/media-entertainment-marketing-programmatic-path-profit-publishers.aspx\n"
     ]
    },
    {
     "name": "stderr",
     "output_type": "stream",
     "text": [
      "2020-03-03 16:21:54 [urllib3.connectionpool] DEBUG: https://www.bcg.com:443 \"GET /publications/2015/media-entertainment-marketing-programmatic-path-profit-publishers.aspx HTTP/1.1\" 200 None\n",
      "2020-03-03 16:21:54 [urllib3.connectionpool] DEBUG: Starting new HTTPS connection (1): www.bcg.com:443\n",
      "2020-03-03 16:21:54 [urllib3.connectionpool] DEBUG: https://www.bcg.com:443 \"GET /publications/2015/media-entertainment-marketing-programmatic-path-profit-publishers.aspx HTTP/1.1\" 200 None\n",
      "2020-03-03 16:21:57 [scrapy.core.engine] DEBUG: Crawled (200) <GET https://www.bcg.com/publications/2019/economic-impact-public-cloud-apac/indonesia.aspx> (referer: None)\n",
      "2020-03-03 16:21:57 [urllib3.connectionpool] DEBUG: Starting new HTTPS connection (1): www.bcg.com:443\n"
     ]
    },
    {
     "name": "stdout",
     "output_type": "stream",
     "text": [
      "https://www.bcg.com/publications/2019/economic-impact-public-cloud-apac/indonesia.aspx\n"
     ]
    },
    {
     "name": "stderr",
     "output_type": "stream",
     "text": [
      "2020-03-03 16:21:57 [urllib3.connectionpool] DEBUG: https://www.bcg.com:443 \"GET /publications/2019/economic-impact-public-cloud-apac/indonesia.aspx HTTP/1.1\" 200 48062\n",
      "2020-03-03 16:21:57 [urllib3.connectionpool] DEBUG: Starting new HTTPS connection (1): www.bcg.com:443\n",
      "2020-03-03 16:21:57 [urllib3.connectionpool] DEBUG: https://www.bcg.com:443 \"GET /publications/2019/economic-impact-public-cloud-apac/indonesia.aspx HTTP/1.1\" 200 48062\n",
      "2020-03-03 16:21:57 [scrapy.core.scraper] ERROR: Spider error processing <GET https://www.bcg.com/publications/2019/economic-impact-public-cloud-apac/indonesia.aspx> (referer: None)\n",
      "Traceback (most recent call last):\n",
      "  File \"C:\\programs\\Continuum\\anaconda3\\lib\\site-packages\\twisted\\internet\\defer.py\", line 654, in _runCallbacks\n",
      "    current.result = callback(current.result, *args, **kw)\n",
      "  File \"<ipython-input-11-426921d2562a>\", line 37, in parse\n",
      "    page_date = re.findall(date_regex, script_text)[0]\n",
      "IndexError: list index out of range\n",
      "2020-03-03 16:22:00 [scrapy.core.engine] DEBUG: Crawled (200) <GET https://www.bcg.com/publications/2017/technology-digital-strategy-putting-artificial-intelligence-work.aspx> (referer: None)\n",
      "2020-03-03 16:22:01 [urllib3.connectionpool] DEBUG: Starting new HTTPS connection (1): www.bcg.com:443\n",
      "2020-03-03 16:22:01 [urllib3.connectionpool] DEBUG: https://www.bcg.com:443 \"GET /publications/2017/technology-digital-strategy-putting-artificial-intelligence-work.aspx HTTP/1.1\" 200 63451\n",
      "2020-03-03 16:22:01 [urllib3.connectionpool] DEBUG: Starting new HTTPS connection (1): www.bcg.com:443\n"
     ]
    },
    {
     "name": "stdout",
     "output_type": "stream",
     "text": [
      "https://www.bcg.com/publications/2017/technology-digital-strategy-putting-artificial-intelligence-work.aspx\n"
     ]
    },
    {
     "name": "stderr",
     "output_type": "stream",
     "text": [
      "2020-03-03 16:22:01 [urllib3.connectionpool] DEBUG: https://www.bcg.com:443 \"GET /publications/2017/technology-digital-strategy-putting-artificial-intelligence-work.aspx HTTP/1.1\" 200 63451\n",
      "2020-03-03 16:22:01 [scrapy.extensions.logstats] INFO: Crawled 417 pages (at 39 pages/min), scraped 0 items (at 0 items/min)\n",
      "2020-03-03 16:22:03 [scrapy.core.engine] DEBUG: Crawled (200) <GET https://www.bcg.com/publications/2012/globalization_growth_andean_three_new_source_latin_american_dynamism.aspx> (referer: None)\n",
      "2020-03-03 16:22:03 [urllib3.connectionpool] DEBUG: Starting new HTTPS connection (1): www.bcg.com:443\n",
      "2020-03-03 16:22:03 [urllib3.connectionpool] DEBUG: https://www.bcg.com:443 \"GET /publications/2012/globalization_growth_andean_three_new_source_latin_american_dynamism.aspx HTTP/1.1\" 200 46643\n",
      "2020-03-03 16:22:03 [urllib3.connectionpool] DEBUG: Starting new HTTPS connection (1): www.bcg.com:443\n",
      "2020-03-03 16:22:03 [urllib3.connectionpool] DEBUG: https://www.bcg.com:443 \"GET /publications/2012/globalization_growth_andean_three_new_source_latin_american_dynamism.aspx HTTP/1.1\" 200 46643\n"
     ]
    },
    {
     "name": "stdout",
     "output_type": "stream",
     "text": [
      "https://www.bcg.com/publications/2012/globalization_growth_andean_three_new_source_latin_american_dynamism.aspx\n"
     ]
    },
    {
     "name": "stderr",
     "output_type": "stream",
     "text": [
      "2020-03-03 16:22:05 [scrapy.core.engine] DEBUG: Crawled (200) <GET https://www.bcg.com/publications/2014/people-organization-leadership-talent-leapfrog-succession-a-new-trend-in-appointing-ceos.aspx> (referer: None)\n",
      "2020-03-03 16:22:06 [urllib3.connectionpool] DEBUG: Starting new HTTPS connection (1): www.bcg.com:443\n",
      "2020-03-03 16:22:06 [urllib3.connectionpool] DEBUG: https://www.bcg.com:443 \"GET /publications/2014/people-organization-leadership-talent-leapfrog-succession-a-new-trend-in-appointing-ceos.aspx HTTP/1.1\" 200 50555\n",
      "2020-03-03 16:22:06 [urllib3.connectionpool] DEBUG: Starting new HTTPS connection (1): www.bcg.com:443\n",
      "2020-03-03 16:22:06 [urllib3.connectionpool] DEBUG: https://www.bcg.com:443 \"GET /publications/2014/people-organization-leadership-talent-leapfrog-succession-a-new-trend-in-appointing-ceos.aspx HTTP/1.1\" 200 50555\n",
      "2020-03-03 16:22:06 [scrapy.core.engine] INFO: Closing spider (finished)\n",
      "2020-03-03 16:22:06 [scrapy.statscollectors] INFO: Dumping Scrapy stats:\n",
      "{'downloader/request_bytes': 279295,\n",
      " 'downloader/request_count': 424,\n",
      " 'downloader/request_method_count/GET': 424,\n",
      " 'downloader/response_bytes': 22259993,\n",
      " 'downloader/response_count': 424,\n",
      " 'downloader/response_status_count/200': 419,\n",
      " 'downloader/response_status_count/301': 3,\n",
      " 'downloader/response_status_count/504': 2,\n",
      " 'dupefilter/filtered': 2,\n",
      " 'elapsed_time_seconds': 484.224524,\n",
      " 'finish_reason': 'finished',\n",
      " 'finish_time': datetime.datetime(2020, 3, 3, 15, 22, 6, 203192),\n",
      " 'log_count/DEBUG': 2101,\n",
      " 'log_count/ERROR': 25,\n",
      " 'log_count/INFO': 18,\n",
      " 'response_received_count': 419,\n",
      " 'retry/count': 2,\n",
      " 'retry/reason_count/504 Gateway Time-out': 2,\n",
      " 'scheduler/dequeued': 424,\n",
      " 'scheduler/dequeued/memory': 424,\n",
      " 'scheduler/enqueued': 424,\n",
      " 'scheduler/enqueued/memory': 424,\n",
      " 'spider_exceptions/IndexError': 25,\n",
      " 'start_time': datetime.datetime(2020, 3, 3, 15, 14, 1, 978668)}\n",
      "2020-03-03 16:22:06 [scrapy.core.engine] INFO: Spider closed (finished)\n"
     ]
    },
    {
     "name": "stdout",
     "output_type": "stream",
     "text": [
      "https://www.bcg.com/publications/2014/people-organization-leadership-talent-leapfrog-succession-a-new-trend-in-appointing-ceos.aspx\n"
     ]
    }
   ],
   "source": [
    "from scrapy.crawler import CrawlerProcess\n",
    "\n",
    "# Create class\n",
    "class bcg_spider (scrapy.Spider):\n",
    "    name = \"bcg_spider\"\n",
    "    \n",
    "    def start_requests(self):\n",
    "        urls = urllist\n",
    "        \n",
    "        for url in urls:\n",
    "            yield scrapy.Request(url = url, callback = self.parse)\n",
    "            \n",
    "    #Parsing\n",
    "    def parse(self, response):\n",
    "        print(response.url)\n",
    "                \n",
    "        page_dict = dict()\n",
    "        siteno = len(main_dict) + 1\n",
    "        \n",
    "        page_url = response.url\n",
    "        \n",
    "        page_html = requests.get(page_url).content\n",
    "        page_sel = Selector(text = page_html)\n",
    "        \n",
    "        type_regex = r'(?<=\\\"siteSection\\\"\\:\\\").*?(?=\\\",)'\n",
    "        title_regex = r'(?<=\\\"browserTitle\\\"\\:\\\").*?(?=\\\",)'\n",
    "        date_regex = r'(?<=\\\"publicationRelease\\\"\\:\\\")\\d{1,2}/\\d{1,2}/\\d{4}'\n",
    "\n",
    "        page_html = requests.get(page_url).content\n",
    "        page_sel = Selector(text = page_html)\n",
    "\n",
    "        script_text = page_sel.css('script ::text').extract()\n",
    "        script_text = ' '.join(script_text)\n",
    "\n",
    "        page_id = 'site' + str(siteno)\n",
    "        page_type = re.findall(type_regex, script_text)[0]\n",
    "        page_date = re.findall(date_regex, script_text)[0]\n",
    "        page_dldate = date.today().strftime('%Y/%m/%d')\n",
    "\n",
    "        if page_type == 'Featured Insights':\n",
    "            page_text = page_sel.css('div.component.page-object.text ::text').extract() #does not work due to java\n",
    "            page_title = re.findall(title_regex, script_text)[0]\n",
    "        else:\n",
    "            page_title = page_sel.css('title ::text').extract_first()\n",
    "            page_text = page_sel.css('div.container-text ::text').extract()     \n",
    "\n",
    "        page_text = page_text = ' '.join(page_text)\n",
    "\n",
    "        page_dict['url'] = page_url\n",
    "        page_dict['title'] = page_title\n",
    "        page_dict['article date'] = page_date\n",
    "        page_dict['download date'] = page_dldate\n",
    "        page_dict['text type'] = page_type\n",
    "        page_dict['text'] = page_text\n",
    "        page_dict['agency'] = \"BCG\"\n",
    "\n",
    "        main_dict[page_id] = page_dict\n",
    "        \n",
    "# Initiatlize dictionary\n",
    "main_dict = dict()\n",
    "\n",
    "#Run spider\n",
    "process = CrawlerProcess()\n",
    "siteno = 0\n",
    "process.crawl(bcg_spider)\n",
    "process.start()"
   ]
  },
  {
   "cell_type": "code",
   "execution_count": 12,
   "metadata": {},
   "outputs": [
    {
     "data": {
      "text/plain": [
       "<DeferredList at 0x27d4124dd88 current result: []>"
      ]
     },
     "execution_count": 12,
     "metadata": {},
     "output_type": "execute_result"
    }
   ],
   "source": [
    "process.stop()"
   ]
  },
  {
   "cell_type": "code",
   "execution_count": 13,
   "metadata": {},
   "outputs": [
    {
     "data": {
      "text/plain": [
       "394"
      ]
     },
     "execution_count": 13,
     "metadata": {},
     "output_type": "execute_result"
    }
   ],
   "source": [
    "len(main_dict)"
   ]
  },
  {
   "cell_type": "code",
   "execution_count": 14,
   "metadata": {},
   "outputs": [],
   "source": [
    "import json\n",
    "\n",
    "with open('..\\\\data_raw\\\\bcg_articles.json', 'w') as file:\n",
    "    json.dump(main_dict, file)"
   ]
  }
 ],
 "metadata": {
  "kernelspec": {
   "display_name": "Python 3",
   "language": "python",
   "name": "python3"
  },
  "language_info": {
   "codemirror_mode": {
    "name": "ipython",
    "version": 3
   },
   "file_extension": ".py",
   "mimetype": "text/x-python",
   "name": "python",
   "nbconvert_exporter": "python",
   "pygments_lexer": "ipython3",
   "version": "3.7.4"
  }
 },
 "nbformat": 4,
 "nbformat_minor": 2
}
