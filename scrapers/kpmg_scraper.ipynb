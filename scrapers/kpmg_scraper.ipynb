{
 "cells": [
  {
   "cell_type": "markdown",
   "metadata": {},
   "source": [
    "# Formål\n",
    "\n",
    "Script scraper diverse konsulenthuses sider for artikler og indlæg omkring kunstig intelligens (AI, artificial intelligence).\n",
    "\n",
    "**Liste over konsulenthuse**\n",
    "- (x) Ernst & Young (EY) (en del af BIG4 i accounting) https://www.ey.com/en_gl\n",
    "- Deloitte. (en del af BIG4 i accounting) [https://www2.deloitte.com](https://www2.deloitte.com/)\n",
    "- KPMG. (en del af BIG4 i accounting) https://home.kpmg/xx/en/home.html\n",
    "- PricewaterhouseCoopers (PwC) (en del af BIG4 i accounting) https://www.pwc.com/\n",
    "- (x) McKinsey (Top Management consulting) https://www.mckinsey.com/\n",
    "- (x) Boston consulting group (Top Management consulting) https://www.bcg.com/\n",
    "- Bain & Company (Top Management consulting) https://www.bain.com/\n",
    "- Accenture (IT consulting - verdens største konsulenthus) https://www.accenture.com/us-en\n",
    "- Capgemini (IT consulting nr. 2 mener jeg) https://www.capgemini.com/\n",
    "- Tata consulting (IT consulting - nr. 3 mener jeg målt på omsætning) https://www.tcs.com/\n",
    "- IBM (Det er ikke sikkert, men de har vel Watson og måske interessant?) [https://www.ibm.com](https://www.ibm.com/)"
   ]
  },
  {
   "cell_type": "markdown",
   "metadata": {},
   "source": [
    "# KPMG URLs\n",
    "\n",
    "Data-driven technologies: https://home.kpmg/xx/en/home/insights/2018/08/data-driven-technologies.html\n"
   ]
  },
  {
   "cell_type": "markdown",
   "metadata": {},
   "source": [
    "### Libraries\n",
    "\n",
    "Importing libraries..."
   ]
  },
  {
   "cell_type": "code",
   "execution_count": 1,
   "metadata": {},
   "outputs": [],
   "source": [
    "import scrapy\n",
    "import requests\n",
    "from scrapy import Selector\n",
    "\n",
    "import os\n",
    "import sys\n",
    "from datetime import date\n",
    "\n",
    "from selenium import webdriver\n",
    "from selenium.webdriver.common.keys import Keys\n",
    "from selenium.webdriver.firefox.firefox_binary import FirefoxBinary\n",
    "from selenium.common.exceptions import NoSuchElementException, WebDriverException, ElementNotInteractableException\n",
    "from selenium.webdriver.common.action_chains import ActionChains\n",
    "\n",
    "import time"
   ]
  },
  {
   "cell_type": "markdown",
   "metadata": {},
   "source": [
    "### URL list\n",
    "\n",
    "List of URLs is extracted from the section \"Data-driven techonologies of home.kpmg: https://home.kpmg/xx/en/home/insights/2018/08/data-driven-technologies.html"
   ]
  },
  {
   "cell_type": "code",
   "execution_count": 3,
   "metadata": {},
   "outputs": [
    {
     "name": "stdout",
     "output_type": "stream",
     "text": [
      "No 'Next' button found\n"
     ]
    }
   ],
   "source": [
    "## Scrape article urls (convert to code to use)\n",
    "driver = webdriver.Chrome(executable_path = 'C:\\\\bin\\\\chromedriver')\n",
    "\n",
    "driver.get('https://home.kpmg/xx/en/home/insights/2018/08/data-driven-technologies.html')\n",
    "time.sleep(2)\n",
    "driver.find_element_by_css_selector('body > div.privacy-container.chrome > div > a > span > span.btn-copy.chrome').click()\n",
    "time.sleep(2)\n",
    "\n",
    "while True:\n",
    "    try:\n",
    "        driver.find_element_by_css_selector('#latest-thinking > div.container.p-0.articles-placeholder.d-none.d-lg-block.chrome > div > div:nth-child(2) > div > input').click()\n",
    "        time.sleep(2)\n",
    "    except (NoSuchElementException, WebDriverException, ElementNotInteractableException) as e:\n",
    "        print(\"No 'Next' button found\")\n",
    "        break\n",
    "\n",
    "pageSource = driver.page_source\n"
   ]
  },
  {
   "cell_type": "code",
   "execution_count": null,
   "metadata": {},
   "outputs": [],
   "source": [
    "pageSel = Selector(text = pageSource)\n",
    "urldict = {}\n",
    "urldict['urls'] = pageSel.css('div.col-lg-4.article > div > a::attr(href)').extract()\n",
    "urldict['titles'] = pageSel.css('div.col-lg-4.article > div > a::attr(aria-label)').extract()\n",
    "#latest-thinking > div.container.mt-5.p-0.articles.chrome > div > div:nth-child(1) > div > a"
   ]
  },
  {
   "cell_type": "markdown",
   "metadata": {},
   "source": [
    "print(len(urldict['titles']),\n",
    "     len(urldict['urls']))"
   ]
  },
  {
   "cell_type": "markdown",
   "metadata": {},
   "source": [
    "main_url = 'https://home.kpmg'\n",
    "urllist = list(map(lambda url: main_url + url, urldict['urls']))"
   ]
  },
  {
   "cell_type": "markdown",
   "metadata": {},
   "source": [
    "len(urllist)"
   ]
  },
  {
   "cell_type": "code",
   "execution_count": 2,
   "metadata": {},
   "outputs": [],
   "source": [
    "#with open('kpmg_urls.txt', 'w') as f:\n",
    "#    for url in urllist:\n",
    "#        f.write(url + \"\\n\")"
   ]
  },
  {
   "cell_type": "markdown",
   "metadata": {},
   "source": [
    "### Load URLs"
   ]
  },
  {
   "cell_type": "code",
   "execution_count": 5,
   "metadata": {},
   "outputs": [
    {
     "name": "stdout",
     "output_type": "stream",
     "text": [
      "200 \n",
      " https://home.kpmg/xx/en/home/insights/2018/06/market-update-oil-gas.html\n"
     ]
    }
   ],
   "source": [
    "kpmg_urls = []\n",
    "with open('../data_raw/kpmg_urls.txt', 'r') as f:\n",
    "    for line in f:\n",
    "        kpmg_urls.append(line.strip())\n",
    "\n",
    "print(len(kpmg_urls),\n",
    "      '\\n',\n",
    "     kpmg_urls[len(kpmg_urls)-1])"
   ]
  },
  {
   "cell_type": "code",
   "execution_count": 6,
   "metadata": {},
   "outputs": [],
   "source": [
    "urllist = kpmg_urls"
   ]
  },
  {
   "cell_type": "markdown",
   "metadata": {},
   "source": [
    "### Testing one page"
   ]
  },
  {
   "cell_type": "code",
   "execution_count": 7,
   "metadata": {},
   "outputs": [],
   "source": [
    "page_url = urllist[0]"
   ]
  },
  {
   "cell_type": "code",
   "execution_count": 8,
   "metadata": {},
   "outputs": [],
   "source": [
    "page_dict = dict()\n",
    "main_dict = dict()"
   ]
  },
  {
   "cell_type": "code",
   "execution_count": 9,
   "metadata": {},
   "outputs": [],
   "source": [
    "text_sel = 'section.module-bodytext.component.bg-white ::text'\n",
    "title_sel = '//meta[contains(@name, \"KPMG_Title\")]/@content'\n",
    "date_sel = '//meta[contains(@http-equiv, \"date\")]/@content'\n",
    "\n",
    "siteno = 1\n",
    "\n",
    "page_html = requests.get(page_url).content\n",
    "page_sel = Selector(text = page_html)\n",
    "\n",
    "page_id = 'site' + str(siteno)\n",
    "page_title = page_sel.xpath(title_sel).extract_first()\n",
    "page_date = page_sel.xpath(date_sel).extract_first()\n",
    "page_dldate = date.today().strftime('%Y/%m/%d')\n",
    "page_text = page_sel.css(text_sel).extract()\n",
    "\n",
    "page_text = ' '.join(page_text)\n",
    "     \n",
    "page_dict['url'] = page_url\n",
    "page_dict['title'] = page_title\n",
    "page_dict['article date'] = page_date\n",
    "page_dict['download date'] = page_dldate\n",
    "page_dict['text'] = page_text\n",
    "\n",
    "main_dict[page_id] = page_dict"
   ]
  },
  {
   "cell_type": "code",
   "execution_count": 10,
   "metadata": {},
   "outputs": [
    {
     "data": {
      "text/plain": [
       "1"
      ]
     },
     "execution_count": 10,
     "metadata": {},
     "output_type": "execute_result"
    }
   ],
   "source": [
    "len(main_dict)"
   ]
  },
  {
   "cell_type": "code",
   "execution_count": 11,
   "metadata": {},
   "outputs": [
    {
     "data": {
      "text/plain": [
       "['https://home.kpmg/xx/en/home/insights/2019/10/unrelenting-focus-on-investment-funds.html',\n",
       " 'https://home.kpmg/xx/en/home/insights/2016/10/global-assignment-policies-and-practices-survey-2016.html',\n",
       " 'https://home.kpmg/xx/en/home/insights/2019/10/bank-of-england-sector-resilience-exercise.html',\n",
       " 'https://home.kpmg/xx/en/home/insights/2019/10/smart-solution-to-an-urgent-challenge-fs.html']"
      ]
     },
     "execution_count": 11,
     "metadata": {},
     "output_type": "execute_result"
    }
   ],
   "source": [
    "urllist_snip = urllist[:4]\n",
    "urllist_snip"
   ]
  },
  {
   "cell_type": "code",
   "execution_count": 12,
   "metadata": {},
   "outputs": [
    {
     "name": "stderr",
     "output_type": "stream",
     "text": [
      "2020-02-11 08:36:55 [scrapy.utils.log] INFO: Scrapy 1.8.0 started (bot: scrapybot)\n",
      "2020-02-11 08:36:55 [scrapy.utils.log] INFO: Versions: lxml 4.4.1.0, libxml2 2.9.9, cssselect 1.1.0, parsel 1.5.2, w3lib 1.21.0, Twisted 19.10.0, Python 3.7.4 (default, Aug  9 2019, 18:34:13) [MSC v.1915 64 bit (AMD64)], pyOpenSSL 19.0.0 (OpenSSL 1.1.1d  10 Sep 2019), cryptography 2.7, Platform Windows-10-10.0.16299-SP0\n",
      "2020-02-11 08:36:55 [scrapy.crawler] INFO: Overridden settings: {}\n",
      "2020-02-11 08:36:55 [scrapy.extensions.telnet] INFO: Telnet Password: 43c10f03a84d5ac1\n",
      "2020-02-11 08:36:55 [scrapy.middleware] INFO: Enabled extensions:\n",
      "['scrapy.extensions.corestats.CoreStats',\n",
      " 'scrapy.extensions.telnet.TelnetConsole',\n",
      " 'scrapy.extensions.logstats.LogStats']\n",
      "2020-02-11 08:36:55 [scrapy.middleware] INFO: Enabled downloader middlewares:\n",
      "['scrapy.downloadermiddlewares.httpauth.HttpAuthMiddleware',\n",
      " 'scrapy.downloadermiddlewares.downloadtimeout.DownloadTimeoutMiddleware',\n",
      " 'scrapy.downloadermiddlewares.defaultheaders.DefaultHeadersMiddleware',\n",
      " 'scrapy.downloadermiddlewares.useragent.UserAgentMiddleware',\n",
      " 'scrapy.downloadermiddlewares.retry.RetryMiddleware',\n",
      " 'scrapy.downloadermiddlewares.redirect.MetaRefreshMiddleware',\n",
      " 'scrapy.downloadermiddlewares.httpcompression.HttpCompressionMiddleware',\n",
      " 'scrapy.downloadermiddlewares.redirect.RedirectMiddleware',\n",
      " 'scrapy.downloadermiddlewares.cookies.CookiesMiddleware',\n",
      " 'scrapy.downloadermiddlewares.httpproxy.HttpProxyMiddleware',\n",
      " 'scrapy.downloadermiddlewares.stats.DownloaderStats']\n",
      "2020-02-11 08:36:55 [scrapy.middleware] INFO: Enabled spider middlewares:\n",
      "['scrapy.spidermiddlewares.httperror.HttpErrorMiddleware',\n",
      " 'scrapy.spidermiddlewares.offsite.OffsiteMiddleware',\n",
      " 'scrapy.spidermiddlewares.referer.RefererMiddleware',\n",
      " 'scrapy.spidermiddlewares.urllength.UrlLengthMiddleware',\n",
      " 'scrapy.spidermiddlewares.depth.DepthMiddleware']\n",
      "2020-02-11 08:36:55 [scrapy.middleware] INFO: Enabled item pipelines:\n",
      "[]\n",
      "2020-02-11 08:36:55 [scrapy.core.engine] INFO: Spider opened\n",
      "2020-02-11 08:36:55 [scrapy.extensions.logstats] INFO: Crawled 0 pages (at 0 pages/min), scraped 0 items (at 0 items/min)\n",
      "2020-02-11 08:36:55 [scrapy.extensions.telnet] INFO: Telnet console listening on 127.0.0.1:6023\n",
      "2020-02-11 08:36:55 [scrapy.core.engine] DEBUG: Crawled (200) <GET https://home.kpmg/xx/en/home/insights/2019/10/unrelenting-focus-on-investment-funds.html> (referer: None)\n",
      "2020-02-11 08:36:55 [scrapy.core.engine] DEBUG: Crawled (200) <GET https://home.kpmg/xx/en/home/insights/2019/10/smart-solution-to-an-urgent-challenge-fs.html> (referer: None)\n",
      "2020-02-11 08:36:55 [scrapy.core.engine] DEBUG: Crawled (200) <GET https://home.kpmg/xx/en/home/insights/2016/10/global-assignment-policies-and-practices-survey-2016.html> (referer: None)\n",
      "2020-02-11 08:36:55 [scrapy.core.engine] DEBUG: Crawled (200) <GET https://home.kpmg/xx/en/home/insights/2019/09/flexibility-for-growth-fs.html> (referer: None)\n",
      "2020-02-11 08:36:55 [scrapy.core.engine] DEBUG: Crawled (200) <GET https://home.kpmg/xx/en/home/insights/2019/09/direct-investing-rethinks-operations-fs.html> (referer: None)\n",
      "2020-02-11 08:36:55 [urllib3.connectionpool] DEBUG: Starting new HTTPS connection (1): home.kpmg:443\n",
      "2020-02-11 08:36:55 [urllib3.connectionpool] DEBUG: https://home.kpmg:443 \"GET /xx/en/home/insights/2019/10/unrelenting-focus-on-investment-funds.html HTTP/1.1\" 200 39430\n",
      "2020-02-11 08:36:55 [urllib3.connectionpool] DEBUG: Starting new HTTPS connection (1): home.kpmg:443\n",
      "2020-02-11 08:36:55 [urllib3.connectionpool] DEBUG: https://home.kpmg:443 \"GET /xx/en/home/insights/2019/10/smart-solution-to-an-urgent-challenge-fs.html HTTP/1.1\" 200 42052\n",
      "2020-02-11 08:36:55 [urllib3.connectionpool] DEBUG: Starting new HTTPS connection (1): home.kpmg:443\n"
     ]
    },
    {
     "name": "stdout",
     "output_type": "stream",
     "text": [
      "https://home.kpmg/xx/en/home/insights/2019/10/unrelenting-focus-on-investment-funds.html\n",
      "https://home.kpmg/xx/en/home/insights/2019/10/smart-solution-to-an-urgent-challenge-fs.html\n",
      "https://home.kpmg/xx/en/home/insights/2016/10/global-assignment-policies-and-practices-survey-2016.html\n"
     ]
    },
    {
     "name": "stderr",
     "output_type": "stream",
     "text": [
      "2020-02-11 08:36:55 [urllib3.connectionpool] DEBUG: https://home.kpmg:443 \"GET /xx/en/home/insights/2016/10/global-assignment-policies-and-practices-survey-2016.html HTTP/1.1\" 200 36775\n",
      "2020-02-11 08:36:55 [urllib3.connectionpool] DEBUG: Starting new HTTPS connection (1): home.kpmg:443\n",
      "2020-02-11 08:36:55 [urllib3.connectionpool] DEBUG: https://home.kpmg:443 \"GET /xx/en/home/insights/2019/09/flexibility-for-growth-fs.html HTTP/1.1\" 200 39607\n",
      "2020-02-11 08:36:55 [urllib3.connectionpool] DEBUG: Starting new HTTPS connection (1): home.kpmg:443\n",
      "2020-02-11 08:36:55 [urllib3.connectionpool] DEBUG: https://home.kpmg:443 \"GET /xx/en/home/insights/2019/09/direct-investing-rethinks-operations-fs.html HTTP/1.1\" 200 37219\n"
     ]
    },
    {
     "name": "stdout",
     "output_type": "stream",
     "text": [
      "https://home.kpmg/xx/en/home/insights/2019/09/flexibility-for-growth-fs.html\n",
      "https://home.kpmg/xx/en/home/insights/2019/09/direct-investing-rethinks-operations-fs.html\n"
     ]
    },
    {
     "name": "stderr",
     "output_type": "stream",
     "text": [
      "2020-02-11 08:36:56 [scrapy.core.engine] DEBUG: Crawled (200) <GET https://home.kpmg/xx/en/home/insights/2019/10/bank-of-england-sector-resilience-exercise.html> (referer: None)\n",
      "2020-02-11 08:36:56 [scrapy.core.engine] DEBUG: Crawled (200) <GET https://home.kpmg/xx/en/home/insights/2019/09/health-related-data-for-better-insurance-products-fs.html> (referer: None)\n",
      "2020-02-11 08:36:56 [scrapy.core.engine] DEBUG: Crawled (200) <GET https://home.kpmg/xx/en/home/insights/2019/07/cyber-trust-platform-for-banks-growth.html> (referer: None)\n",
      "2020-02-11 08:36:56 [scrapy.core.engine] DEBUG: Crawled (200) <GET https://home.kpmg/xx/en/home/insights/2019/09/kpmg-ifrs-17-testing-application-fs.html> (referer: None)\n",
      "2020-02-11 08:36:56 [urllib3.connectionpool] DEBUG: Starting new HTTPS connection (1): home.kpmg:443\n",
      "2020-02-11 08:36:56 [urllib3.connectionpool] DEBUG: https://home.kpmg:443 \"GET /xx/en/home/insights/2019/10/bank-of-england-sector-resilience-exercise.html HTTP/1.1\" 200 36353\n",
      "2020-02-11 08:36:56 [scrapy.core.engine] DEBUG: Crawled (200) <GET https://home.kpmg/xx/en/home/insights/2019/09/next-generation-banking-technology-and-implications-fs.html> (referer: None)\n",
      "2020-02-11 08:36:56 [scrapy.core.engine] DEBUG: Crawled (200) <GET https://home.kpmg/xx/en/home/insights/2019/07/partnering-with-insurtechs-to-face-latest-mobility-twist-fs.html> (referer: None)\n",
      "2020-02-11 08:36:56 [urllib3.connectionpool] DEBUG: Starting new HTTPS connection (1): home.kpmg:443\n",
      "2020-02-11 08:36:56 [urllib3.connectionpool] DEBUG: https://home.kpmg:443 \"GET /xx/en/home/insights/2019/09/health-related-data-for-better-insurance-products-fs.html HTTP/1.1\" 200 38281\n"
     ]
    },
    {
     "name": "stdout",
     "output_type": "stream",
     "text": [
      "https://home.kpmg/xx/en/home/insights/2019/10/bank-of-england-sector-resilience-exercise.html\n",
      "https://home.kpmg/xx/en/home/insights/2019/09/health-related-data-for-better-insurance-products-fs.html\n",
      "https://home.kpmg/xx/en/home/insights/2019/07/cyber-trust-platform-for-banks-growth.html\n"
     ]
    },
    {
     "name": "stderr",
     "output_type": "stream",
     "text": [
      "2020-02-11 08:36:56 [urllib3.connectionpool] DEBUG: Starting new HTTPS connection (1): home.kpmg:443\n",
      "2020-02-11 08:36:56 [urllib3.connectionpool] DEBUG: https://home.kpmg:443 \"GET /xx/en/home/insights/2019/07/cyber-trust-platform-for-banks-growth.html HTTP/1.1\" 200 37716\n",
      "2020-02-11 08:36:56 [urllib3.connectionpool] DEBUG: Starting new HTTPS connection (1): home.kpmg:443\n",
      "2020-02-11 08:36:56 [urllib3.connectionpool] DEBUG: https://home.kpmg:443 \"GET /xx/en/home/insights/2019/09/kpmg-ifrs-17-testing-application-fs.html HTTP/1.1\" 200 36097\n",
      "2020-02-11 08:36:56 [scrapy.core.engine] DEBUG: Crawled (200) <GET https://home.kpmg/xx/en/home/insights/2019/08/liquidity-risk-management-fs.html> (referer: None)\n",
      "2020-02-11 08:36:56 [scrapy.core.engine] DEBUG: Crawled (200) <GET https://home.kpmg/xx/en/home/insights/2019/07/finance-profit-from-making-change-the-norm.html> (referer: None)\n",
      "2020-02-11 08:36:56 [scrapy.core.engine] DEBUG: Crawled (200) <GET https://home.kpmg/xx/en/home/insights/2019/07/eu-confirms-approach-to-equivalence.html> (referer: None)\n",
      "2020-02-11 08:36:56 [urllib3.connectionpool] DEBUG: Starting new HTTPS connection (1): home.kpmg:443\n",
      "2020-02-11 08:36:56 [urllib3.connectionpool] DEBUG: https://home.kpmg:443 \"GET /xx/en/home/insights/2019/09/next-generation-banking-technology-and-implications-fs.html HTTP/1.1\" 200 40676\n"
     ]
    },
    {
     "name": "stdout",
     "output_type": "stream",
     "text": [
      "https://home.kpmg/xx/en/home/insights/2019/09/kpmg-ifrs-17-testing-application-fs.html\n",
      "https://home.kpmg/xx/en/home/insights/2019/09/next-generation-banking-technology-and-implications-fs.html\n",
      "https://home.kpmg/xx/en/home/insights/2019/07/partnering-with-insurtechs-to-face-latest-mobility-twist-fs.html\n"
     ]
    },
    {
     "name": "stderr",
     "output_type": "stream",
     "text": [
      "2020-02-11 08:36:56 [urllib3.connectionpool] DEBUG: Starting new HTTPS connection (1): home.kpmg:443\n",
      "2020-02-11 08:36:57 [urllib3.connectionpool] DEBUG: https://home.kpmg:443 \"GET /xx/en/home/insights/2019/07/partnering-with-insurtechs-to-face-latest-mobility-twist-fs.html HTTP/1.1\" 200 39549\n",
      "2020-02-11 08:36:57 [scrapy.core.engine] DEBUG: Crawled (200) <GET https://home.kpmg/xx/en/home/insights/2019/07/powered-enterprise-epm.html> (referer: None)\n",
      "2020-02-11 08:36:57 [scrapy.core.engine] DEBUG: Crawled (200) <GET https://home.kpmg/xx/en/home/insights/2019/07/powered-enterprise-finance.html> (referer: None)\n",
      "2020-02-11 08:36:57 [urllib3.connectionpool] DEBUG: Starting new HTTPS connection (1): home.kpmg:443\n",
      "2020-02-11 08:36:57 [urllib3.connectionpool] DEBUG: https://home.kpmg:443 \"GET /xx/en/home/insights/2019/08/liquidity-risk-management-fs.html HTTP/1.1\" 200 37817\n",
      "2020-02-11 08:36:57 [urllib3.connectionpool] DEBUG: Starting new HTTPS connection (1): home.kpmg:443\n",
      "2020-02-11 08:36:57 [urllib3.connectionpool] DEBUG: https://home.kpmg:443 \"GET /xx/en/home/insights/2019/07/finance-profit-from-making-change-the-norm.html HTTP/1.1\" 200 35287\n",
      "2020-02-11 08:36:57 [urllib3.connectionpool] DEBUG: Starting new HTTPS connection (1): home.kpmg:443\n"
     ]
    },
    {
     "name": "stdout",
     "output_type": "stream",
     "text": [
      "https://home.kpmg/xx/en/home/insights/2019/08/liquidity-risk-management-fs.html\n",
      "https://home.kpmg/xx/en/home/insights/2019/07/finance-profit-from-making-change-the-norm.html\n",
      "https://home.kpmg/xx/en/home/insights/2019/07/eu-confirms-approach-to-equivalence.html\n"
     ]
    },
    {
     "name": "stderr",
     "output_type": "stream",
     "text": [
      "2020-02-11 08:36:57 [urllib3.connectionpool] DEBUG: https://home.kpmg:443 \"GET /xx/en/home/insights/2019/07/eu-confirms-approach-to-equivalence.html HTTP/1.1\" 200 36790\n",
      "2020-02-11 08:36:57 [scrapy.core.engine] DEBUG: Crawled (200) <GET https://home.kpmg/xx/en/home/insights/2019/07/powered-enterprise-hr.html> (referer: None)\n",
      "2020-02-11 08:36:57 [scrapy.core.engine] DEBUG: Crawled (200) <GET https://home.kpmg/xx/en/home/insights/2019/07/powered-enterprise-it.html> (referer: None)\n",
      "2020-02-11 08:36:57 [scrapy.core.engine] DEBUG: Crawled (200) <GET https://home.kpmg/xx/en/home/insights/2019/07/hr-under-pressure-to-act.html> (referer: None)\n",
      "2020-02-11 08:36:57 [urllib3.connectionpool] DEBUG: Starting new HTTPS connection (1): home.kpmg:443\n",
      "2020-02-11 08:36:57 [urllib3.connectionpool] DEBUG: https://home.kpmg:443 \"GET /xx/en/home/insights/2019/07/powered-enterprise-epm.html HTTP/1.1\" 200 35689\n",
      "2020-02-11 08:36:57 [urllib3.connectionpool] DEBUG: Starting new HTTPS connection (1): home.kpmg:443\n",
      "2020-02-11 08:36:57 [urllib3.connectionpool] DEBUG: https://home.kpmg:443 \"GET /xx/en/home/insights/2019/07/powered-enterprise-finance.html HTTP/1.1\" 200 36119\n",
      "2020-02-11 08:36:57 [scrapy.core.engine] DEBUG: Crawled (200) <GET https://home.kpmg/xx/en/home/insights/2019/07/from-conduct-to-culture-fs.html> (referer: None)\n",
      "2020-02-11 08:36:57 [scrapy.core.engine] DEBUG: Crawled (200) <GET https://home.kpmg/xx/en/home/insights/2019/07/powered-enterprise-procurement.html> (referer: None)\n",
      "2020-02-11 08:36:57 [scrapy.core.engine] DEBUG: Crawled (200) <GET https://home.kpmg/xx/en/home/insights/2019/07/automating-the-prediction-fs.html> (referer: None)\n"
     ]
    },
    {
     "name": "stdout",
     "output_type": "stream",
     "text": [
      "https://home.kpmg/xx/en/home/insights/2019/07/powered-enterprise-epm.html\n",
      "https://home.kpmg/xx/en/home/insights/2019/07/powered-enterprise-finance.html\n"
     ]
    },
    {
     "name": "stderr",
     "output_type": "stream",
     "text": [
      "2020-02-11 08:36:57 [scrapy.core.engine] DEBUG: Crawled (200) <GET https://home.kpmg/xx/en/home/insights/2019/07/why-procurement-does-not-transform.html> (referer: None)\n",
      "2020-02-11 08:36:57 [scrapy.core.engine] DEBUG: Crawled (200) <GET https://home.kpmg/xx/en/home/insights/2019/07/powered-enterprise-sales-and-service.html> (referer: None)\n",
      "2020-02-11 08:36:57 [urllib3.connectionpool] DEBUG: Starting new HTTPS connection (1): home.kpmg:443\n",
      "2020-02-11 08:36:57 [urllib3.connectionpool] DEBUG: https://home.kpmg:443 \"GET /xx/en/home/insights/2019/07/powered-enterprise-hr.html HTTP/1.1\" 200 36716\n",
      "2020-02-11 08:36:57 [urllib3.connectionpool] DEBUG: Starting new HTTPS connection (1): home.kpmg:443\n",
      "2020-02-11 08:36:57 [urllib3.connectionpool] DEBUG: https://home.kpmg:443 \"GET /xx/en/home/insights/2019/07/powered-enterprise-it.html HTTP/1.1\" 200 35573\n",
      "2020-02-11 08:36:57 [urllib3.connectionpool] DEBUG: Starting new HTTPS connection (1): home.kpmg:443\n",
      "2020-02-11 08:36:57 [urllib3.connectionpool] DEBUG: https://home.kpmg:443 \"GET /xx/en/home/insights/2019/07/hr-under-pressure-to-act.html HTTP/1.1\" 200 36758\n"
     ]
    },
    {
     "name": "stdout",
     "output_type": "stream",
     "text": [
      "https://home.kpmg/xx/en/home/insights/2019/07/powered-enterprise-hr.html\n",
      "https://home.kpmg/xx/en/home/insights/2019/07/powered-enterprise-it.html\n",
      "https://home.kpmg/xx/en/home/insights/2019/07/hr-under-pressure-to-act.html\n"
     ]
    },
    {
     "name": "stderr",
     "output_type": "stream",
     "text": [
      "2020-02-11 08:36:57 [scrapy.core.engine] DEBUG: Crawled (200) <GET https://home.kpmg/xx/en/home/insights/2019/07/powered-enterprise-scm.html> (referer: None)\n",
      "2020-02-11 08:36:57 [scrapy.core.engine] DEBUG: Crawled (200) <GET https://home.kpmg/xx/en/home/insights/2019/07/five-steps-to-future-ready-procurement.html> (referer: None)\n",
      "2020-02-11 08:36:57 [urllib3.connectionpool] DEBUG: Starting new HTTPS connection (1): home.kpmg:443\n",
      "2020-02-11 08:36:57 [urllib3.connectionpool] DEBUG: https://home.kpmg:443 \"GET /xx/en/home/insights/2019/07/from-conduct-to-culture-fs.html HTTP/1.1\" 200 37680\n",
      "2020-02-11 08:36:57 [urllib3.connectionpool] DEBUG: Starting new HTTPS connection (1): home.kpmg:443\n",
      "2020-02-11 08:36:57 [urllib3.connectionpool] DEBUG: https://home.kpmg:443 \"GET /xx/en/home/insights/2019/07/powered-enterprise-procurement.html HTTP/1.1\" 200 36458\n"
     ]
    },
    {
     "name": "stdout",
     "output_type": "stream",
     "text": [
      "https://home.kpmg/xx/en/home/insights/2019/07/from-conduct-to-culture-fs.html\n",
      "https://home.kpmg/xx/en/home/insights/2019/07/powered-enterprise-procurement.html\n",
      "https://home.kpmg/xx/en/home/insights/2019/07/automating-the-prediction-fs.html\n"
     ]
    },
    {
     "name": "stderr",
     "output_type": "stream",
     "text": [
      "2020-02-11 08:36:57 [urllib3.connectionpool] DEBUG: Starting new HTTPS connection (1): home.kpmg:443\n",
      "2020-02-11 08:36:58 [urllib3.connectionpool] DEBUG: https://home.kpmg:443 \"GET /xx/en/home/insights/2019/07/automating-the-prediction-fs.html HTTP/1.1\" 200 38718\n",
      "2020-02-11 08:36:58 [urllib3.connectionpool] DEBUG: Starting new HTTPS connection (1): home.kpmg:443\n",
      "2020-02-11 08:36:58 [urllib3.connectionpool] DEBUG: https://home.kpmg:443 \"GET /xx/en/home/insights/2019/07/why-procurement-does-not-transform.html HTTP/1.1\" 200 36352\n",
      "2020-02-11 08:36:58 [urllib3.connectionpool] DEBUG: Starting new HTTPS connection (1): home.kpmg:443\n",
      "2020-02-11 08:36:58 [urllib3.connectionpool] DEBUG: https://home.kpmg:443 \"GET /xx/en/home/insights/2019/07/powered-enterprise-sales-and-service.html HTTP/1.1\" 200 35167\n"
     ]
    },
    {
     "name": "stdout",
     "output_type": "stream",
     "text": [
      "https://home.kpmg/xx/en/home/insights/2019/07/why-procurement-does-not-transform.html\n",
      "https://home.kpmg/xx/en/home/insights/2019/07/powered-enterprise-sales-and-service.html\n",
      "https://home.kpmg/xx/en/home/insights/2019/07/powered-enterprise-scm.html\n"
     ]
    },
    {
     "name": "stderr",
     "output_type": "stream",
     "text": [
      "2020-02-11 08:36:58 [urllib3.connectionpool] DEBUG: Starting new HTTPS connection (1): home.kpmg:443\n",
      "2020-02-11 08:36:58 [urllib3.connectionpool] DEBUG: https://home.kpmg:443 \"GET /xx/en/home/insights/2019/07/powered-enterprise-scm.html HTTP/1.1\" 200 35411\n",
      "2020-02-11 08:36:58 [urllib3.connectionpool] DEBUG: Starting new HTTPS connection (1): home.kpmg:443\n",
      "2020-02-11 08:36:58 [urllib3.connectionpool] DEBUG: https://home.kpmg:443 \"GET /xx/en/home/insights/2019/07/five-steps-to-future-ready-procurement.html HTTP/1.1\" 200 36273\n",
      "2020-02-11 08:36:58 [scrapy.core.engine] DEBUG: Crawled (200) <GET https://home.kpmg/xx/en/home/insights/2019/06/2019-change-readiness-index-methodology.html> (referer: None)\n",
      "2020-02-11 08:36:58 [scrapy.core.engine] DEBUG: Crawled (200) <GET https://home.kpmg/xx/en/home/insights/2019/06/2019-change-readiness-index-heat-map.html> (referer: None)\n",
      "2020-02-11 08:36:58 [scrapy.core.engine] DEBUG: Crawled (200) <GET https://home.kpmg/xx/en/home/insights/2019/06/2019-change-readiness-index-key-findings.html> (referer: None)\n",
      "2020-02-11 08:36:58 [scrapy.core.engine] DEBUG: Crawled (200) <GET https://home.kpmg/xx/en/home/insights/2019/06/2019-change-readiness-index-executive-summary.html> (referer: None)\n",
      "2020-02-11 08:36:58 [scrapy.core.engine] DEBUG: Crawled (200) <GET https://home.kpmg/xx/en/home/insights/2019/06/smarter-way-to-authenticate-customers-fs.html> (referer: None)\n"
     ]
    },
    {
     "name": "stdout",
     "output_type": "stream",
     "text": [
      "https://home.kpmg/xx/en/home/insights/2019/07/five-steps-to-future-ready-procurement.html\n"
     ]
    },
    {
     "name": "stderr",
     "output_type": "stream",
     "text": [
      "2020-02-11 08:36:58 [scrapy.core.engine] DEBUG: Crawled (200) <GET https://home.kpmg/xx/en/home/insights/2019/05/investors-esg-demands-drive-regulation-fs.html> (referer: None)\n",
      "2020-02-11 08:36:58 [scrapy.core.engine] DEBUG: Crawled (200) <GET https://home.kpmg/xx/en/home/insights/2019/05/kpmg-global-services-hungary.html> (referer: None)\n",
      "2020-02-11 08:36:58 [urllib3.connectionpool] DEBUG: Starting new HTTPS connection (1): home.kpmg:443\n",
      "2020-02-11 08:36:58 [urllib3.connectionpool] DEBUG: https://home.kpmg:443 \"GET /xx/en/home/insights/2019/06/2019-change-readiness-index-methodology.html HTTP/1.1\" 200 39479\n",
      "2020-02-11 08:36:58 [urllib3.connectionpool] DEBUG: Starting new HTTPS connection (1): home.kpmg:443\n",
      "2020-02-11 08:36:58 [urllib3.connectionpool] DEBUG: https://home.kpmg:443 \"GET /xx/en/home/insights/2019/06/2019-change-readiness-index-heat-map.html HTTP/1.1\" 200 38132\n",
      "2020-02-11 08:36:58 [urllib3.connectionpool] DEBUG: Starting new HTTPS connection (1): home.kpmg:443\n"
     ]
    },
    {
     "name": "stdout",
     "output_type": "stream",
     "text": [
      "https://home.kpmg/xx/en/home/insights/2019/06/2019-change-readiness-index-methodology.html\n",
      "https://home.kpmg/xx/en/home/insights/2019/06/2019-change-readiness-index-heat-map.html\n",
      "https://home.kpmg/xx/en/home/insights/2019/06/2019-change-readiness-index-key-findings.html\n"
     ]
    },
    {
     "name": "stderr",
     "output_type": "stream",
     "text": [
      "2020-02-11 08:36:58 [urllib3.connectionpool] DEBUG: https://home.kpmg:443 \"GET /xx/en/home/insights/2019/06/2019-change-readiness-index-key-findings.html HTTP/1.1\" 200 36112\n",
      "2020-02-11 08:36:58 [urllib3.connectionpool] DEBUG: Starting new HTTPS connection (1): home.kpmg:443\n",
      "2020-02-11 08:36:58 [urllib3.connectionpool] DEBUG: https://home.kpmg:443 \"GET /xx/en/home/insights/2019/06/2019-change-readiness-index-executive-summary.html HTTP/1.1\" 200 36155\n",
      "2020-02-11 08:36:58 [urllib3.connectionpool] DEBUG: Starting new HTTPS connection (1): home.kpmg:443\n",
      "2020-02-11 08:36:58 [urllib3.connectionpool] DEBUG: https://home.kpmg:443 \"GET /xx/en/home/insights/2019/06/smarter-way-to-authenticate-customers-fs.html HTTP/1.1\" 200 39033\n",
      "2020-02-11 08:36:58 [urllib3.connectionpool] DEBUG: Starting new HTTPS connection (1): home.kpmg:443\n"
     ]
    },
    {
     "name": "stdout",
     "output_type": "stream",
     "text": [
      "https://home.kpmg/xx/en/home/insights/2019/06/2019-change-readiness-index-executive-summary.html\n",
      "https://home.kpmg/xx/en/home/insights/2019/06/smarter-way-to-authenticate-customers-fs.html\n",
      "https://home.kpmg/xx/en/home/insights/2019/05/investors-esg-demands-drive-regulation-fs.html\n"
     ]
    },
    {
     "name": "stderr",
     "output_type": "stream",
     "text": [
      "2020-02-11 08:36:59 [urllib3.connectionpool] DEBUG: https://home.kpmg:443 \"GET /xx/en/home/insights/2019/05/investors-esg-demands-drive-regulation-fs.html HTTP/1.1\" 200 38664\n",
      "2020-02-11 08:36:59 [scrapy.core.engine] DEBUG: Crawled (200) <GET https://home.kpmg/xx/en/home/insights/2019/06/bringing-bancassurance-into-the-digital-era-fs.html> (referer: None)\n",
      "2020-02-11 08:36:59 [scrapy.core.engine] DEBUG: Crawled (200) <GET https://home.kpmg/xx/en/home/insights/2019/06/super-app-or-super-disruption.html> (referer: None)\n",
      "2020-02-11 08:36:59 [urllib3.connectionpool] DEBUG: Starting new HTTPS connection (1): home.kpmg:443\n",
      "2020-02-11 08:36:59 [urllib3.connectionpool] DEBUG: https://home.kpmg:443 \"GET /xx/en/home/insights/2019/05/kpmg-global-services-hungary.html HTTP/1.1\" 200 34986\n",
      "2020-02-11 08:36:59 [urllib3.connectionpool] DEBUG: Starting new HTTPS connection (1): home.kpmg:443\n",
      "2020-02-11 08:36:59 [urllib3.connectionpool] DEBUG: https://home.kpmg:443 \"GET /xx/en/home/insights/2019/06/bringing-bancassurance-into-the-digital-era-fs.html HTTP/1.1\" 200 37852\n"
     ]
    },
    {
     "name": "stdout",
     "output_type": "stream",
     "text": [
      "https://home.kpmg/xx/en/home/insights/2019/05/kpmg-global-services-hungary.html\n",
      "https://home.kpmg/xx/en/home/insights/2019/06/bringing-bancassurance-into-the-digital-era-fs.html\n"
     ]
    },
    {
     "name": "stderr",
     "output_type": "stream",
     "text": [
      "2020-02-11 08:36:59 [scrapy.core.engine] DEBUG: Crawled (200) <GET https://home.kpmg/xx/en/home/insights/2019/04/institutional-investors-using-data-to-compete-and-win-fs.html> (referer: None)\n",
      "2020-02-11 08:36:59 [scrapy.core.engine] DEBUG: Crawled (200) <GET https://home.kpmg/xx/en/home/insights/2019/05/tax-is-being-reimagined-for-todays-world.html> (referer: None)\n",
      "2020-02-11 08:36:59 [scrapy.core.engine] DEBUG: Crawled (200) <GET https://home.kpmg/xx/en/home/insights/2019/06/libor-to-rfr-transition.html> (referer: None)\n",
      "2020-02-11 08:36:59 [urllib3.connectionpool] DEBUG: Starting new HTTPS connection (1): home.kpmg:443\n",
      "2020-02-11 08:36:59 [urllib3.connectionpool] DEBUG: https://home.kpmg:443 \"GET /xx/en/home/insights/2019/06/super-app-or-super-disruption.html HTTP/1.1\" 200 39288\n",
      "2020-02-11 08:36:59 [urllib3.connectionpool] DEBUG: Starting new HTTPS connection (1): home.kpmg:443\n",
      "2020-02-11 08:36:59 [urllib3.connectionpool] DEBUG: https://home.kpmg:443 \"GET /xx/en/home/insights/2019/04/institutional-investors-using-data-to-compete-and-win-fs.html HTTP/1.1\" 200 37545\n",
      "2020-02-11 08:36:59 [scrapy.core.engine] DEBUG: Crawled (200) <GET https://home.kpmg/xx/en/home/insights/2019/05/tax-reimagined-in-practice.html> (referer: None)\n",
      "2020-02-11 08:36:59 [scrapy.core.engine] DEBUG: Crawled (200) <GET https://home.kpmg/xx/en/home/insights/2019/05/open-banking-for-greater-customer-value-fs.html> (referer: None)\n",
      "2020-02-11 08:36:59 [urllib3.connectionpool] DEBUG: Starting new HTTPS connection (1): home.kpmg:443\n"
     ]
    },
    {
     "name": "stdout",
     "output_type": "stream",
     "text": [
      "https://home.kpmg/xx/en/home/insights/2019/06/super-app-or-super-disruption.html\n",
      "https://home.kpmg/xx/en/home/insights/2019/04/institutional-investors-using-data-to-compete-and-win-fs.html\n",
      "https://home.kpmg/xx/en/home/insights/2019/05/tax-is-being-reimagined-for-todays-world.html\n"
     ]
    },
    {
     "name": "stderr",
     "output_type": "stream",
     "text": [
      "2020-02-11 08:36:59 [urllib3.connectionpool] DEBUG: https://home.kpmg:443 \"GET /xx/en/home/insights/2019/05/tax-is-being-reimagined-for-todays-world.html HTTP/1.1\" 200 35346\n",
      "2020-02-11 08:36:59 [urllib3.connectionpool] DEBUG: Starting new HTTPS connection (1): home.kpmg:443\n",
      "2020-02-11 08:36:59 [urllib3.connectionpool] DEBUG: https://home.kpmg:443 \"GET /xx/en/home/insights/2019/06/libor-to-rfr-transition.html HTTP/1.1\" 200 37322\n",
      "2020-02-11 08:36:59 [scrapy.core.engine] DEBUG: Crawled (200) <GET https://home.kpmg/xx/en/home/insights/2019/04/does-bankings-future-now-outweigh-its-past-fs.html> (referer: None)\n",
      "2020-02-11 08:36:59 [scrapy.core.engine] DEBUG: Crawled (200) <GET https://home.kpmg/xx/en/home/insights/2019/05/insurtech-insights-archive.html> (referer: None)\n",
      "2020-02-11 08:36:59 [urllib3.connectionpool] DEBUG: Starting new HTTPS connection (1): home.kpmg:443\n",
      "2020-02-11 08:36:59 [urllib3.connectionpool] DEBUG: https://home.kpmg:443 \"GET /xx/en/home/insights/2019/05/tax-reimagined-in-practice.html HTTP/1.1\" 200 36292\n",
      "2020-02-11 08:36:59 [urllib3.connectionpool] DEBUG: Starting new HTTPS connection (1): home.kpmg:443\n"
     ]
    },
    {
     "name": "stdout",
     "output_type": "stream",
     "text": [
      "https://home.kpmg/xx/en/home/insights/2019/06/libor-to-rfr-transition.html\n",
      "https://home.kpmg/xx/en/home/insights/2019/05/tax-reimagined-in-practice.html\n",
      "https://home.kpmg/xx/en/home/insights/2019/05/open-banking-for-greater-customer-value-fs.html\n"
     ]
    },
    {
     "name": "stderr",
     "output_type": "stream",
     "text": [
      "2020-02-11 08:36:59 [urllib3.connectionpool] DEBUG: https://home.kpmg:443 \"GET /xx/en/home/insights/2019/05/open-banking-for-greater-customer-value-fs.html HTTP/1.1\" 200 40976\n",
      "2020-02-11 08:36:59 [scrapy.core.engine] DEBUG: Crawled (200) <GET https://home.kpmg/xx/en/home/insights/2019/04/dont-doubt-the-data.html> (referer: None)\n",
      "2020-02-11 08:36:59 [urllib3.connectionpool] DEBUG: Starting new HTTPS connection (1): home.kpmg:443\n",
      "2020-02-11 08:36:59 [urllib3.connectionpool] DEBUG: https://home.kpmg:443 \"GET /xx/en/home/insights/2019/04/does-bankings-future-now-outweigh-its-past-fs.html HTTP/1.1\" 200 41188\n",
      "2020-02-11 08:36:59 [urllib3.connectionpool] DEBUG: Starting new HTTPS connection (1): home.kpmg:443\n",
      "2020-02-11 08:36:59 [urllib3.connectionpool] DEBUG: https://home.kpmg:443 \"GET /xx/en/home/insights/2019/05/insurtech-insights-archive.html HTTP/1.1\" 200 36315\n",
      "2020-02-11 08:36:59 [scrapy.core.engine] DEBUG: Crawled (200) <GET https://home.kpmg/xx/en/home/insights/2019/05/insuring-the-gig-economy.html> (referer: None)\n",
      "2020-02-11 08:36:59 [urllib3.connectionpool] DEBUG: Starting new HTTPS connection (1): home.kpmg:443\n"
     ]
    },
    {
     "name": "stdout",
     "output_type": "stream",
     "text": [
      "https://home.kpmg/xx/en/home/insights/2019/04/does-bankings-future-now-outweigh-its-past-fs.html\n",
      "https://home.kpmg/xx/en/home/insights/2019/05/insurtech-insights-archive.html\n",
      "https://home.kpmg/xx/en/home/insights/2019/04/dont-doubt-the-data.html\n"
     ]
    },
    {
     "name": "stderr",
     "output_type": "stream",
     "text": [
      "2020-02-11 08:36:59 [urllib3.connectionpool] DEBUG: https://home.kpmg:443 \"GET /xx/en/home/insights/2019/04/dont-doubt-the-data.html HTTP/1.1\" 200 37611\n",
      "2020-02-11 08:37:00 [urllib3.connectionpool] DEBUG: Starting new HTTPS connection (1): home.kpmg:443\n",
      "2020-02-11 08:37:00 [urllib3.connectionpool] DEBUG: https://home.kpmg:443 \"GET /xx/en/home/insights/2019/05/insuring-the-gig-economy.html HTTP/1.1\" 200 38579\n"
     ]
    },
    {
     "name": "stdout",
     "output_type": "stream",
     "text": [
      "https://home.kpmg/xx/en/home/insights/2019/05/insuring-the-gig-economy.html\n"
     ]
    },
    {
     "name": "stderr",
     "output_type": "stream",
     "text": [
      "2020-02-11 08:37:00 [scrapy.core.engine] DEBUG: Crawled (200) <GET https://home.kpmg/xx/en/home/insights/2019/04/digital-gravity.html> (referer: None)\n",
      "2020-02-11 08:37:00 [scrapy.core.engine] DEBUG: Crawled (200) <GET https://home.kpmg/xx/en/home/insights/2019/04/rfr-regulation-round-up-april-2019.html> (referer: None)\n",
      "2020-02-11 08:37:00 [scrapy.core.engine] DEBUG: Crawled (200) <GET https://home.kpmg/xx/en/home/insights/2019/04/fca-business-plan-2019-20.html> (referer: None)\n",
      "2020-02-11 08:37:00 [scrapy.core.engine] DEBUG: Crawled (200) <GET https://home.kpmg/xx/en/home/insights/2019/04/meeting-healthcare-challenges-in-brazil.html> (referer: None)\n",
      "2020-02-11 08:37:00 [urllib3.connectionpool] DEBUG: Starting new HTTPS connection (1): home.kpmg:443\n",
      "2020-02-11 08:37:00 [urllib3.connectionpool] DEBUG: https://home.kpmg:443 \"GET /xx/en/home/insights/2019/04/digital-gravity.html HTTP/1.1\" 200 34666\n",
      "2020-02-11 08:37:00 [scrapy.core.engine] DEBUG: Crawled (200) <GET https://home.kpmg/xx/en/home/insights/2019/04/a-patient-driven-revolution.html> (referer: None)\n",
      "2020-02-11 08:37:00 [urllib3.connectionpool] DEBUG: Starting new HTTPS connection (1): home.kpmg:443\n",
      "2020-02-11 08:37:00 [urllib3.connectionpool] DEBUG: https://home.kpmg:443 \"GET /xx/en/home/insights/2019/04/rfr-regulation-round-up-april-2019.html HTTP/1.1\" 200 38591\n",
      "2020-02-11 08:37:00 [scrapy.core.engine] DEBUG: Crawled (200) <GET https://home.kpmg/xx/en/home/insights/2019/04/powering-insurance-with-ai-fs.html> (referer: None)\n",
      "2020-02-11 08:37:00 [urllib3.connectionpool] DEBUG: Starting new HTTPS connection (1): home.kpmg:443\n"
     ]
    },
    {
     "name": "stdout",
     "output_type": "stream",
     "text": [
      "https://home.kpmg/xx/en/home/insights/2019/04/digital-gravity.html\n",
      "https://home.kpmg/xx/en/home/insights/2019/04/rfr-regulation-round-up-april-2019.html\n",
      "https://home.kpmg/xx/en/home/insights/2019/04/fca-business-plan-2019-20.html\n"
     ]
    },
    {
     "name": "stderr",
     "output_type": "stream",
     "text": [
      "2020-02-11 08:37:00 [urllib3.connectionpool] DEBUG: https://home.kpmg:443 \"GET /xx/en/home/insights/2019/04/fca-business-plan-2019-20.html HTTP/1.1\" 200 40366\n",
      "2020-02-11 08:37:00 [urllib3.connectionpool] DEBUG: Starting new HTTPS connection (1): home.kpmg:443\n",
      "2020-02-11 08:37:01 [urllib3.connectionpool] DEBUG: https://home.kpmg:443 \"GET /xx/en/home/insights/2019/04/meeting-healthcare-challenges-in-brazil.html HTTP/1.1\" 200 40031\n",
      "2020-02-11 08:37:01 [urllib3.connectionpool] DEBUG: Starting new HTTPS connection (1): home.kpmg:443\n",
      "2020-02-11 08:37:01 [urllib3.connectionpool] DEBUG: https://home.kpmg:443 \"GET /xx/en/home/insights/2019/04/a-patient-driven-revolution.html HTTP/1.1\" 200 40967\n",
      "2020-02-11 08:37:01 [scrapy.core.engine] DEBUG: Crawled (200) <GET https://home.kpmg/xx/en/home/insights/2019/04/prioritizing-patient-experiences-in-health.html> (referer: None)\n",
      "2020-02-11 08:37:01 [urllib3.connectionpool] DEBUG: Starting new HTTPS connection (1): home.kpmg:443\n",
      "2020-02-11 08:37:01 [urllib3.connectionpool] DEBUG: https://home.kpmg:443 \"GET /xx/en/home/insights/2019/04/powering-insurance-with-ai-fs.html HTTP/1.1\" 200 37496\n"
     ]
    },
    {
     "name": "stdout",
     "output_type": "stream",
     "text": [
      "https://home.kpmg/xx/en/home/insights/2019/04/meeting-healthcare-challenges-in-brazil.html\n",
      "https://home.kpmg/xx/en/home/insights/2019/04/a-patient-driven-revolution.html\n",
      "https://home.kpmg/xx/en/home/insights/2019/04/powering-insurance-with-ai-fs.html\n"
     ]
    },
    {
     "name": "stderr",
     "output_type": "stream",
     "text": [
      "2020-02-11 08:37:01 [scrapy.core.engine] DEBUG: Crawled (200) <GET https://home.kpmg/xx/en/home/insights/2019/03/the-retirement-savings-market.html> (referer: None)\n",
      "2020-02-11 08:37:01 [urllib3.connectionpool] DEBUG: Starting new HTTPS connection (1): home.kpmg:443\n",
      "2020-02-11 08:37:01 [urllib3.connectionpool] DEBUG: https://home.kpmg:443 \"GET /xx/en/home/insights/2019/04/prioritizing-patient-experiences-in-health.html HTTP/1.1\" 200 40611\n",
      "2020-02-11 08:37:01 [urllib3.connectionpool] DEBUG: Starting new HTTPS connection (1): home.kpmg:443\n",
      "2020-02-11 08:37:01 [urllib3.connectionpool] DEBUG: https://home.kpmg:443 \"GET /xx/en/home/insights/2019/03/the-retirement-savings-market.html HTTP/1.1\" 200 37878\n"
     ]
    },
    {
     "name": "stdout",
     "output_type": "stream",
     "text": [
      "https://home.kpmg/xx/en/home/insights/2019/04/prioritizing-patient-experiences-in-health.html\n",
      "https://home.kpmg/xx/en/home/insights/2019/03/the-retirement-savings-market.html\n"
     ]
    },
    {
     "name": "stderr",
     "output_type": "stream",
     "text": [
      "2020-02-11 08:37:01 [scrapy.core.engine] DEBUG: Crawled (200) <GET https://home.kpmg/xx/en/home/insights/2019/03/ramping-up-investment.html> (referer: None)\n",
      "2020-02-11 08:37:01 [scrapy.core.engine] DEBUG: Crawled (200) <GET https://home.kpmg/xx/en/home/insights/2019/03/adoption-on-the-rise.html> (referer: None)\n",
      "2020-02-11 08:37:01 [urllib3.connectionpool] DEBUG: Starting new HTTPS connection (1): home.kpmg:443\n",
      "2020-02-11 08:37:01 [urllib3.connectionpool] DEBUG: https://home.kpmg:443 \"GET /xx/en/home/insights/2019/03/ramping-up-investment.html HTTP/1.1\" 200 35944\n",
      "2020-02-11 08:37:01 [scrapy.core.engine] DEBUG: Crawled (200) <GET https://home.kpmg/xx/en/home/insights/2019/03/the-alignment-gap.html> (referer: None)\n",
      "2020-02-11 08:37:01 [scrapy.core.engine] DEBUG: Crawled (200) <GET https://home.kpmg/xx/en/home/insights/2019/03/having-the-capabilities-and-talent-to-win.html> (referer: None)\n",
      "2020-02-11 08:37:01 [urllib3.connectionpool] DEBUG: Starting new HTTPS connection (1): home.kpmg:443\n",
      "2020-02-11 08:37:01 [urllib3.connectionpool] DEBUG: https://home.kpmg:443 \"GET /xx/en/home/insights/2019/03/adoption-on-the-rise.html HTTP/1.1\" 200 36398\n",
      "2020-02-11 08:37:01 [scrapy.core.engine] DEBUG: Crawled (200) <GET https://home.kpmg/xx/en/home/insights/2019/03/finding-new-sources-of-talent.html> (referer: None)\n"
     ]
    },
    {
     "name": "stdout",
     "output_type": "stream",
     "text": [
      "https://home.kpmg/xx/en/home/insights/2019/03/ramping-up-investment.html\n",
      "https://home.kpmg/xx/en/home/insights/2019/03/adoption-on-the-rise.html\n",
      "https://home.kpmg/xx/en/home/insights/2019/03/the-alignment-gap.html\n"
     ]
    },
    {
     "name": "stderr",
     "output_type": "stream",
     "text": [
      "2020-02-11 08:37:01 [urllib3.connectionpool] DEBUG: Starting new HTTPS connection (1): home.kpmg:443\n",
      "2020-02-11 08:37:01 [urllib3.connectionpool] DEBUG: https://home.kpmg:443 \"GET /xx/en/home/insights/2019/03/the-alignment-gap.html HTTP/1.1\" 200 35657\n",
      "2020-02-11 08:37:01 [scrapy.core.engine] DEBUG: Crawled (200) <GET https://home.kpmg/xx/en/home/insights/2019/03/consumer-and-retail-archive.html> (referer: None)\n",
      "2020-02-11 08:37:01 [urllib3.connectionpool] DEBUG: Starting new HTTPS connection (1): home.kpmg:443\n",
      "2020-02-11 08:37:02 [urllib3.connectionpool] DEBUG: https://home.kpmg:443 \"GET /xx/en/home/insights/2019/03/having-the-capabilities-and-talent-to-win.html HTTP/1.1\" 200 36143\n",
      "2020-02-11 08:37:02 [urllib3.connectionpool] DEBUG: Starting new HTTPS connection (1): home.kpmg:443\n",
      "2020-02-11 08:37:02 [urllib3.connectionpool] DEBUG: https://home.kpmg:443 \"GET /xx/en/home/insights/2019/03/finding-new-sources-of-talent.html HTTP/1.1\" 200 36283\n",
      "2020-02-11 08:37:02 [scrapy.core.engine] DEBUG: Crawled (200) <GET https://home.kpmg/xx/en/home/insights/2019/03/taking-the-next-steps-towards-i-a.html> (referer: None)\n",
      "2020-02-11 08:37:02 [scrapy.core.engine] DEBUG: Crawled (200) <GET https://home.kpmg/xx/en/home/insights/2019/03/look-toward-the-workforce-of-tomorrow.html> (referer: None)\n",
      "2020-02-11 08:37:02 [urllib3.connectionpool] DEBUG: Starting new HTTPS connection (1): home.kpmg:443\n"
     ]
    },
    {
     "name": "stdout",
     "output_type": "stream",
     "text": [
      "https://home.kpmg/xx/en/home/insights/2019/03/having-the-capabilities-and-talent-to-win.html\n",
      "https://home.kpmg/xx/en/home/insights/2019/03/finding-new-sources-of-talent.html\n",
      "https://home.kpmg/xx/en/home/insights/2019/03/consumer-and-retail-archive.html\n"
     ]
    },
    {
     "name": "stderr",
     "output_type": "stream",
     "text": [
      "2020-02-11 08:37:02 [urllib3.connectionpool] DEBUG: https://home.kpmg:443 \"GET /xx/en/home/insights/2019/03/consumer-and-retail-archive.html HTTP/1.1\" 200 35926\n",
      "2020-02-11 08:37:02 [scrapy.core.engine] DEBUG: Crawled (200) <GET https://home.kpmg/xx/en/home/insights/2019/03/three-keys-to-success.html> (referer: None)\n",
      "2020-02-11 08:37:02 [urllib3.connectionpool] DEBUG: Starting new HTTPS connection (1): home.kpmg:443\n",
      "2020-02-11 08:37:02 [urllib3.connectionpool] DEBUG: https://home.kpmg:443 \"GET /xx/en/home/insights/2019/03/taking-the-next-steps-towards-i-a.html HTTP/1.1\" 200 36168\n",
      "2020-02-11 08:37:02 [urllib3.connectionpool] DEBUG: Starting new HTTPS connection (1): home.kpmg:443\n",
      "2020-02-11 08:37:02 [urllib3.connectionpool] DEBUG: https://home.kpmg:443 \"GET /xx/en/home/insights/2019/03/look-toward-the-workforce-of-tomorrow.html HTTP/1.1\" 200 36610\n",
      "2020-02-11 08:37:02 [urllib3.connectionpool] DEBUG: Starting new HTTPS connection (1): home.kpmg:443\n",
      "2020-02-11 08:37:02 [urllib3.connectionpool] DEBUG: https://home.kpmg:443 \"GET /xx/en/home/insights/2019/03/three-keys-to-success.html HTTP/1.1\" 200 36583\n"
     ]
    },
    {
     "name": "stdout",
     "output_type": "stream",
     "text": [
      "https://home.kpmg/xx/en/home/insights/2019/03/taking-the-next-steps-towards-i-a.html\n",
      "https://home.kpmg/xx/en/home/insights/2019/03/look-toward-the-workforce-of-tomorrow.html\n",
      "https://home.kpmg/xx/en/home/insights/2019/03/three-keys-to-success.html\n"
     ]
    },
    {
     "name": "stderr",
     "output_type": "stream",
     "text": [
      "2020-02-11 08:37:02 [scrapy.core.engine] DEBUG: Crawled (200) <GET https://home.kpmg/xx/en/home/insights/2019/03/looking-beyond-the-cost-savings.html> (referer: None)\n",
      "2020-02-11 08:37:02 [urllib3.connectionpool] DEBUG: Starting new HTTPS connection (1): home.kpmg:443\n",
      "2020-02-11 08:37:02 [urllib3.connectionpool] DEBUG: https://home.kpmg:443 \"GET /xx/en/home/insights/2019/03/looking-beyond-the-cost-savings.html HTTP/1.1\" 200 36266\n",
      "2020-02-11 08:37:02 [scrapy.core.engine] DEBUG: Crawled (200) <GET https://home.kpmg/xx/en/home/insights/2019/03/understanding-the-challenges.html> (referer: None)\n"
     ]
    },
    {
     "name": "stdout",
     "output_type": "stream",
     "text": [
      "https://home.kpmg/xx/en/home/insights/2019/03/looking-beyond-the-cost-savings.html\n"
     ]
    },
    {
     "name": "stderr",
     "output_type": "stream",
     "text": [
      "2020-02-11 08:37:02 [scrapy.core.engine] DEBUG: Crawled (200) <GET https://home.kpmg/xx/en/home/insights/2019/03/moving-quickly-towards-results.html> (referer: None)\n",
      "2020-02-11 08:37:02 [scrapy.core.engine] DEBUG: Crawled (200) <GET https://home.kpmg/xx/en/home/insights/2019/03/fintech-regulation-balancing-risk-and-innovation-fs.html> (referer: None)\n",
      "2020-02-11 08:37:02 [scrapy.core.engine] DEBUG: Crawled (200) <GET https://home.kpmg/xx/en/home/insights/2019/03/talking-to-your-peers.html> (referer: None)\n",
      "2020-02-11 08:37:02 [urllib3.connectionpool] DEBUG: Starting new HTTPS connection (1): home.kpmg:443\n",
      "2020-02-11 08:37:02 [urllib3.connectionpool] DEBUG: https://home.kpmg:443 \"GET /xx/en/home/insights/2019/03/understanding-the-challenges.html HTTP/1.1\" 200 36298\n",
      "2020-02-11 08:37:02 [urllib3.connectionpool] DEBUG: Starting new HTTPS connection (1): home.kpmg:443\n",
      "2020-02-11 08:37:02 [urllib3.connectionpool] DEBUG: https://home.kpmg:443 \"GET /xx/en/home/insights/2019/03/moving-quickly-towards-results.html HTTP/1.1\" 200 35759\n",
      "2020-02-11 08:37:03 [urllib3.connectionpool] DEBUG: Starting new HTTPS connection (1): home.kpmg:443\n"
     ]
    },
    {
     "name": "stdout",
     "output_type": "stream",
     "text": [
      "https://home.kpmg/xx/en/home/insights/2019/03/understanding-the-challenges.html\n",
      "https://home.kpmg/xx/en/home/insights/2019/03/moving-quickly-towards-results.html\n",
      "https://home.kpmg/xx/en/home/insights/2019/03/fintech-regulation-balancing-risk-and-innovation-fs.html\n"
     ]
    },
    {
     "name": "stderr",
     "output_type": "stream",
     "text": [
      "2020-02-11 08:37:03 [urllib3.connectionpool] DEBUG: https://home.kpmg:443 \"GET /xx/en/home/insights/2019/03/fintech-regulation-balancing-risk-and-innovation-fs.html HTTP/1.1\" 200 38279\n",
      "2020-02-11 08:37:03 [urllib3.connectionpool] DEBUG: Starting new HTTPS connection (1): home.kpmg:443\n",
      "2020-02-11 08:37:03 [urllib3.connectionpool] DEBUG: https://home.kpmg:443 \"GET /xx/en/home/insights/2019/03/talking-to-your-peers.html HTTP/1.1\" 200 36119\n",
      "2020-02-11 08:37:03 [scrapy.core.engine] DEBUG: Crawled (200) <GET https://home.kpmg/xx/en/home/insights/2019/03/frontiers-in-finance-60-esg.html> (referer: None)\n",
      "2020-02-11 08:37:03 [scrapy.core.engine] DEBUG: Crawled (200) <GET https://home.kpmg/xx/en/home/insights/2019/03/tax-reimagined-for-insurers.html> (referer: None)\n",
      "2020-02-11 08:37:03 [scrapy.core.engine] DEBUG: Crawled (200) <GET https://home.kpmg/xx/en/home/insights/2019/03/frontiers-in-finance-60-non-financial-and-emerging-technology-risks.html> (referer: None)\n"
     ]
    },
    {
     "name": "stdout",
     "output_type": "stream",
     "text": [
      "https://home.kpmg/xx/en/home/insights/2019/03/talking-to-your-peers.html\n"
     ]
    },
    {
     "name": "stderr",
     "output_type": "stream",
     "text": [
      "2020-02-11 08:37:03 [scrapy.core.engine] DEBUG: Crawled (200) <GET https://home.kpmg/xx/en/home/insights/2019/03/frontiers-in-finance-60-risk-proofing-the-future.html> (referer: None)\n",
      "2020-02-11 08:37:03 [urllib3.connectionpool] DEBUG: Starting new HTTPS connection (1): home.kpmg:443\n",
      "2020-02-11 08:37:03 [urllib3.connectionpool] DEBUG: https://home.kpmg:443 \"GET /xx/en/home/insights/2019/03/frontiers-in-finance-60-esg.html HTTP/1.1\" 200 35546\n",
      "2020-02-11 08:37:03 [urllib3.connectionpool] DEBUG: Starting new HTTPS connection (1): home.kpmg:443\n",
      "2020-02-11 08:37:03 [urllib3.connectionpool] DEBUG: https://home.kpmg:443 \"GET /xx/en/home/insights/2019/03/tax-reimagined-for-insurers.html HTTP/1.1\" 200 37279\n",
      "2020-02-11 08:37:03 [urllib3.connectionpool] DEBUG: Starting new HTTPS connection (1): home.kpmg:443\n"
     ]
    },
    {
     "name": "stdout",
     "output_type": "stream",
     "text": [
      "https://home.kpmg/xx/en/home/insights/2019/03/frontiers-in-finance-60-esg.html\n",
      "https://home.kpmg/xx/en/home/insights/2019/03/tax-reimagined-for-insurers.html\n",
      "https://home.kpmg/xx/en/home/insights/2019/03/frontiers-in-finance-60-non-financial-and-emerging-technology-risks.html\n"
     ]
    },
    {
     "name": "stderr",
     "output_type": "stream",
     "text": [
      "2020-02-11 08:37:03 [urllib3.connectionpool] DEBUG: https://home.kpmg:443 \"GET /xx/en/home/insights/2019/03/frontiers-in-finance-60-non-financial-and-emerging-technology-risks.html HTTP/1.1\" 200 35702\n",
      "2020-02-11 08:37:03 [scrapy.core.engine] DEBUG: Crawled (200) <GET https://home.kpmg/xx/en/home/insights/2019/03/beyond-compliance-fs.html> (referer: None)\n",
      "2020-02-11 08:37:03 [urllib3.connectionpool] DEBUG: Starting new HTTPS connection (1): home.kpmg:443\n",
      "2020-02-11 08:37:03 [urllib3.connectionpool] DEBUG: https://home.kpmg:443 \"GET /xx/en/home/insights/2019/03/frontiers-in-finance-60-risk-proofing-the-future.html HTTP/1.1\" 200 35633\n",
      "2020-02-11 08:37:03 [urllib3.connectionpool] DEBUG: Starting new HTTPS connection (1): home.kpmg:443\n",
      "2020-02-11 08:37:03 [urllib3.connectionpool] DEBUG: https://home.kpmg:443 \"GET /xx/en/home/insights/2019/03/beyond-compliance-fs.html HTTP/1.1\" 200 39169\n",
      "2020-02-11 08:37:03 [scrapy.core.engine] DEBUG: Crawled (200) <GET https://home.kpmg/xx/en/home/insights/2019/03/one-to-watch-trunomi-fs.html> (referer: None)\n"
     ]
    },
    {
     "name": "stdout",
     "output_type": "stream",
     "text": [
      "https://home.kpmg/xx/en/home/insights/2019/03/frontiers-in-finance-60-risk-proofing-the-future.html\n",
      "https://home.kpmg/xx/en/home/insights/2019/03/beyond-compliance-fs.html\n"
     ]
    },
    {
     "name": "stderr",
     "output_type": "stream",
     "text": [
      "2020-02-11 08:37:03 [urllib3.connectionpool] DEBUG: Starting new HTTPS connection (1): home.kpmg:443\n",
      "2020-02-11 08:37:03 [urllib3.connectionpool] DEBUG: https://home.kpmg:443 \"GET /xx/en/home/insights/2019/03/one-to-watch-trunomi-fs.html HTTP/1.1\" 200 36318\n",
      "2020-02-11 08:37:03 [scrapy.core.engine] DEBUG: Crawled (200) <GET https://home.kpmg/xx/en/home/insights/2019/03/keeping-the-ai-in-line-fs.html> (referer: None)\n",
      "2020-02-11 08:37:03 [scrapy.core.engine] DEBUG: Crawled (200) <GET https://home.kpmg/xx/en/home/insights/2019/03/get-serious-about-cyber-fs.html> (referer: None)\n"
     ]
    },
    {
     "name": "stdout",
     "output_type": "stream",
     "text": [
      "https://home.kpmg/xx/en/home/insights/2019/03/one-to-watch-trunomi-fs.html\n",
      "https://home.kpmg/xx/en/home/insights/2019/03/keeping-the-ai-in-line-fs.html"
     ]
    },
    {
     "name": "stderr",
     "output_type": "stream",
     "text": [
      "2020-02-11 08:37:04 [urllib3.connectionpool] DEBUG: Starting new HTTPS connection (1): home.kpmg:443\n",
      "2020-02-11 08:37:04 [urllib3.connectionpool] DEBUG: https://home.kpmg:443 \"GET /xx/en/home/insights/2019/03/keeping-the-ai-in-line-fs.html HTTP/1.1\" 200 38271\n",
      "2020-02-11 08:37:04 [scrapy.core.engine] DEBUG: Crawled (200) <GET https://home.kpmg/xx/en/home/insights/2019/02/investment-funds-fs.html> (referer: None)\n",
      "2020-02-11 08:37:04 [urllib3.connectionpool] DEBUG: Starting new HTTPS connection (1): home.kpmg:443\n",
      "2020-02-11 08:37:04 [urllib3.connectionpool] DEBUG: https://home.kpmg:443 \"GET /xx/en/home/insights/2019/03/get-serious-about-cyber-fs.html HTTP/1.1\" 200 38109\n",
      "2020-02-11 08:37:04 [scrapy.core.engine] DEBUG: Crawled (200) <GET https://home.kpmg/xx/en/home/insights/2019/03/combating-financial-crime-fs.html> (referer: None)\n"
     ]
    },
    {
     "name": "stdout",
     "output_type": "stream",
     "text": [
      "\n",
      "https://home.kpmg/xx/en/home/insights/2019/03/get-serious-about-cyber-fs.html\n"
     ]
    },
    {
     "name": "stderr",
     "output_type": "stream",
     "text": [
      "2020-02-11 08:37:04 [urllib3.connectionpool] DEBUG: Starting new HTTPS connection (1): home.kpmg:443\n",
      "2020-02-11 08:37:04 [urllib3.connectionpool] DEBUG: https://home.kpmg:443 \"GET /xx/en/home/insights/2019/02/investment-funds-fs.html HTTP/1.1\" 200 38298\n",
      "2020-02-11 08:37:04 [scrapy.core.engine] DEBUG: Crawled (200) <GET https://home.kpmg/xx/en/home/insights/2019/03/ifrs-17-making-the-most-of-the-extra-year-fs.html> (referer: None)\n",
      "2020-02-11 08:37:04 [urllib3.connectionpool] DEBUG: Starting new HTTPS connection (1): home.kpmg:443\n",
      "2020-02-11 08:37:04 [urllib3.connectionpool] DEBUG: https://home.kpmg:443 \"GET /xx/en/home/insights/2019/03/combating-financial-crime-fs.html HTTP/1.1\" 200 38368\n"
     ]
    },
    {
     "name": "stdout",
     "output_type": "stream",
     "text": [
      "https://home.kpmg/xx/en/home/insights/2019/02/investment-funds-fs.html\n",
      "https://home.kpmg/xx/en/home/insights/2019/03/combating-financial-crime-fs.html\n"
     ]
    },
    {
     "name": "stderr",
     "output_type": "stream",
     "text": [
      "2020-02-11 08:37:04 [scrapy.core.engine] DEBUG: Crawled (200) <GET https://home.kpmg/xx/en/home/insights/2019/02/insurtech-10-digital-risk-reduction.html> (referer: None)\n",
      "2020-02-11 08:37:04 [urllib3.connectionpool] DEBUG: Starting new HTTPS connection (1): home.kpmg:443\n",
      "2020-02-11 08:37:04 [urllib3.connectionpool] DEBUG: https://home.kpmg:443 \"GET /xx/en/home/insights/2019/03/ifrs-17-making-the-most-of-the-extra-year-fs.html HTTP/1.1\" 200 38945\n",
      "2020-02-11 08:37:04 [urllib3.connectionpool] DEBUG: Starting new HTTPS connection (1): home.kpmg:443\n",
      "2020-02-11 08:37:04 [urllib3.connectionpool] DEBUG: https://home.kpmg:443 \"GET /xx/en/home/insights/2019/02/insurtech-10-digital-risk-reduction.html HTTP/1.1\" 200 37203\n",
      "2020-02-11 08:37:04 [scrapy.core.engine] DEBUG: Crawled (200) <GET https://home.kpmg/xx/en/home/insights/2019/02/insurtech-10-focus-on-the-digital-customer.html> (referer: None)\n"
     ]
    },
    {
     "name": "stdout",
     "output_type": "stream",
     "text": [
      "https://home.kpmg/xx/en/home/insights/2019/03/ifrs-17-making-the-most-of-the-extra-year-fs.html\n",
      "https://home.kpmg/xx/en/home/insights/2019/02/insurtech-10-digital-risk-reduction.html\n"
     ]
    },
    {
     "name": "stderr",
     "output_type": "stream",
     "text": [
      "2020-02-11 08:37:04 [scrapy.core.engine] DEBUG: Crawled (200) <GET https://home.kpmg/xx/en/home/insights/2019/02/fintech-predictions-2019.html> (referer: None)\n",
      "2020-02-11 08:37:04 [scrapy.downloadermiddlewares.redirect] DEBUG: Redirecting (301) to <GET https://home.kpmg/xx/en/home/insights/2019/04/dont-doubt-the-data.html> from <GET https://home.kpmg/xx/en/home/insights/2019/02/dont-doubt-the-data.html>\n",
      "2020-02-11 08:37:04 [scrapy.dupefilters] DEBUG: Filtered duplicate request: <GET https://home.kpmg/xx/en/home/insights/2019/04/dont-doubt-the-data.html> - no more duplicates will be shown (see DUPEFILTER_DEBUG to show all duplicates)\n",
      "2020-02-11 08:37:04 [scrapy.core.engine] DEBUG: Crawled (200) <GET https://home.kpmg/xx/en/home/insights/2019/02/insurtech-10-it-is-a-new-game-press-the-reset-button.html> (referer: None)\n",
      "2020-02-11 08:37:04 [urllib3.connectionpool] DEBUG: Starting new HTTPS connection (1): home.kpmg:443\n",
      "2020-02-11 08:37:04 [urllib3.connectionpool] DEBUG: https://home.kpmg:443 \"GET /xx/en/home/insights/2019/02/insurtech-10-focus-on-the-digital-customer.html HTTP/1.1\" 200 37551\n",
      "2020-02-11 08:37:04 [scrapy.core.engine] DEBUG: Crawled (200) <GET https://home.kpmg/xx/en/home/insights/2019/02/insurtech-10-new-role-for-the-oldest-skills-fs.html> (referer: None)\n",
      "2020-02-11 08:37:04 [urllib3.connectionpool] DEBUG: Starting new HTTPS connection (1): home.kpmg:443\n",
      "2020-02-11 08:37:04 [urllib3.connectionpool] DEBUG: https://home.kpmg:443 \"GET /xx/en/home/insights/2019/02/fintech-predictions-2019.html HTTP/1.1\" 200 36006\n",
      "2020-02-11 08:37:04 [scrapy.core.engine] DEBUG: Crawled (200) <GET https://home.kpmg/xx/en/home/insights/2019/02/insurtech-10-master-ai-and-machine-learning-now-fs.html> (referer: None)\n",
      "2020-02-11 08:37:04 [scrapy.core.engine] DEBUG: Crawled (200) <GET https://home.kpmg/xx/en/home/insights/2019/02/insurtech-10-2019-trends-summary-fs.html> (referer: None)\n",
      "2020-02-11 08:37:04 [urllib3.connectionpool] DEBUG: Starting new HTTPS connection (1): home.kpmg:443\n"
     ]
    },
    {
     "name": "stdout",
     "output_type": "stream",
     "text": [
      "https://home.kpmg/xx/en/home/insights/2019/02/insurtech-10-focus-on-the-digital-customer.html\n",
      "https://home.kpmg/xx/en/home/insights/2019/02/fintech-predictions-2019.html\n",
      "https://home.kpmg/xx/en/home/insights/2019/02/insurtech-10-it-is-a-new-game-press-the-reset-button.html\n"
     ]
    },
    {
     "name": "stderr",
     "output_type": "stream",
     "text": [
      "2020-02-11 08:37:04 [urllib3.connectionpool] DEBUG: https://home.kpmg:443 \"GET /xx/en/home/insights/2019/02/insurtech-10-it-is-a-new-game-press-the-reset-button.html HTTP/1.1\" 200 37388\n",
      "2020-02-11 08:37:04 [scrapy.core.engine] DEBUG: Crawled (200) <GET https://home.kpmg/xx/en/home/insights/2019/01/continuous-quality-improvement-in-health.html> (referer: None)\n",
      "2020-02-11 08:37:04 [urllib3.connectionpool] DEBUG: Starting new HTTPS connection (1): home.kpmg:443\n",
      "2020-02-11 08:37:05 [urllib3.connectionpool] DEBUG: https://home.kpmg:443 \"GET /xx/en/home/insights/2019/02/insurtech-10-new-role-for-the-oldest-skills-fs.html HTTP/1.1\" 200 35888\n",
      "2020-02-11 08:37:05 [urllib3.connectionpool] DEBUG: Starting new HTTPS connection (1): home.kpmg:443\n",
      "2020-02-11 08:37:05 [urllib3.connectionpool] DEBUG: https://home.kpmg:443 \"GET /xx/en/home/insights/2019/02/insurtech-10-master-ai-and-machine-learning-now-fs.html HTTP/1.1\" 200 36199\n",
      "2020-02-11 08:37:05 [urllib3.connectionpool] DEBUG: Starting new HTTPS connection (1): home.kpmg:443\n"
     ]
    },
    {
     "name": "stdout",
     "output_type": "stream",
     "text": [
      "https://home.kpmg/xx/en/home/insights/2019/02/insurtech-10-new-role-for-the-oldest-skills-fs.html\n",
      "https://home.kpmg/xx/en/home/insights/2019/02/insurtech-10-master-ai-and-machine-learning-now-fs.html\n",
      "https://home.kpmg/xx/en/home/insights/2019/02/insurtech-10-2019-trends-summary-fs.html\n"
     ]
    },
    {
     "name": "stderr",
     "output_type": "stream",
     "text": [
      "2020-02-11 08:37:05 [urllib3.connectionpool] DEBUG: https://home.kpmg:443 \"GET /xx/en/home/insights/2019/02/insurtech-10-2019-trends-summary-fs.html HTTP/1.1\" 200 36024\n",
      "2020-02-11 08:37:05 [scrapy.core.engine] DEBUG: Crawled (200) <GET https://home.kpmg/xx/en/home/insights/2019/02/insurtech-10-skill-up-and-reorganize-urgently-fs.html> (referer: None)\n",
      "2020-02-11 08:37:05 [urllib3.connectionpool] DEBUG: Starting new HTTPS connection (1): home.kpmg:443\n",
      "2020-02-11 08:37:05 [urllib3.connectionpool] DEBUG: https://home.kpmg:443 \"GET /xx/en/home/insights/2019/01/continuous-quality-improvement-in-health.html HTTP/1.1\" 200 42444\n",
      "2020-02-11 08:37:05 [scrapy.core.engine] DEBUG: Crawled (200) <GET https://home.kpmg/xx/en/home/insights/2019/02/insurtech-10-auto-insurance-disruption-coming-but-director-not-clear-fs.html> (referer: None)\n",
      "2020-02-11 08:37:05 [urllib3.connectionpool] DEBUG: Starting new HTTPS connection (1): home.kpmg:443\n",
      "2020-02-11 08:37:05 [urllib3.connectionpool] DEBUG: https://home.kpmg:443 \"GET /xx/en/home/insights/2019/02/insurtech-10-skill-up-and-reorganize-urgently-fs.html HTTP/1.1\" 200 36803\n",
      "2020-02-11 08:37:05 [scrapy.core.engine] DEBUG: Crawled (200) <GET https://home.kpmg/xx/en/home/insights/2019/01/trend-2-data-drives-operational-efficiency.html> (referer: None)\n"
     ]
    },
    {
     "name": "stdout",
     "output_type": "stream",
     "text": [
      "https://home.kpmg/xx/en/home/insights/2019/01/continuous-quality-improvement-in-health.html\n",
      "https://home.kpmg/xx/en/home/insights/2019/02/insurtech-10-skill-up-and-reorganize-urgently-fs.html\n"
     ]
    },
    {
     "name": "stderr",
     "output_type": "stream",
     "text": [
      "2020-02-11 08:37:05 [scrapy.core.engine] DEBUG: Crawled (200) <GET https://home.kpmg/xx/en/home/insights/2019/02/insurtech-10-digitize-or-die-fs.html> (referer: None)\n",
      "2020-02-11 08:37:05 [scrapy.core.engine] DEBUG: Crawled (200) <GET https://home.kpmg/xx/en/home/insights/2019/01/trend-5-embracing-the-evidence.html> (referer: None)\n",
      "2020-02-11 08:37:05 [urllib3.connectionpool] DEBUG: Starting new HTTPS connection (1): home.kpmg:443\n",
      "2020-02-11 08:37:05 [urllib3.connectionpool] DEBUG: https://home.kpmg:443 \"GET /xx/en/home/insights/2019/02/insurtech-10-auto-insurance-disruption-coming-but-director-not-clear-fs.html HTTP/1.1\" 200 36641\n",
      "2020-02-11 08:37:05 [urllib3.connectionpool] DEBUG: Starting new HTTPS connection (1): home.kpmg:443\n",
      "2020-02-11 08:37:05 [urllib3.connectionpool] DEBUG: https://home.kpmg:443 \"GET /xx/en/home/insights/2019/01/trend-2-data-drives-operational-efficiency.html HTTP/1.1\" 200 38213\n",
      "2020-02-11 08:37:05 [scrapy.core.engine] DEBUG: Crawled (200) <GET https://home.kpmg/xx/en/home/insights/2019/01/smart-digital-finance.html> (referer: None)\n"
     ]
    },
    {
     "name": "stdout",
     "output_type": "stream",
     "text": [
      "https://home.kpmg/xx/en/home/insights/2019/02/insurtech-10-auto-insurance-disruption-coming-but-director-not-clear-fs.html\n",
      "https://home.kpmg/xx/en/home/insights/2019/01/trend-2-data-drives-operational-efficiency.html\n"
     ]
    },
    {
     "name": "stderr",
     "output_type": "stream",
     "text": [
      "2020-02-11 08:37:05 [urllib3.connectionpool] DEBUG: Starting new HTTPS connection (1): home.kpmg:443\n",
      "2020-02-11 08:37:05 [urllib3.connectionpool] DEBUG: https://home.kpmg:443 \"GET /xx/en/home/insights/2019/02/insurtech-10-digitize-or-die-fs.html HTTP/1.1\" 200 37855\n",
      "2020-02-11 08:37:05 [urllib3.connectionpool] DEBUG: Starting new HTTPS connection (1): home.kpmg:443\n",
      "2020-02-11 08:37:05 [urllib3.connectionpool] DEBUG: https://home.kpmg:443 \"GET /xx/en/home/insights/2019/01/trend-5-embracing-the-evidence.html HTTP/1.1\" 200 37723\n",
      "2020-02-11 08:37:05 [scrapy.core.engine] DEBUG: Crawled (200) <GET https://home.kpmg/xx/en/home/insights/2019/02/insurtech-10-ecosystems-rock-fs.html> (referer: None)\n",
      "2020-02-11 08:37:05 [urllib3.connectionpool] DEBUG: Starting new HTTPS connection (1): home.kpmg:443\n",
      "2020-02-11 08:37:05 [urllib3.connectionpool] DEBUG: https://home.kpmg:443 \"GET /xx/en/home/insights/2019/01/smart-digital-finance.html HTTP/1.1\" 200 35093\n"
     ]
    },
    {
     "name": "stdout",
     "output_type": "stream",
     "text": [
      "https://home.kpmg/xx/en/home/insights/2019/02/insurtech-10-digitize-or-die-fs.html\n",
      "https://home.kpmg/xx/en/home/insights/2019/01/trend-5-embracing-the-evidence.html\n",
      "https://home.kpmg/xx/en/home/insights/2019/01/smart-digital-finance.html\n"
     ]
    },
    {
     "name": "stderr",
     "output_type": "stream",
     "text": [
      "2020-02-11 08:37:05 [urllib3.connectionpool] DEBUG: Starting new HTTPS connection (1): home.kpmg:443\n",
      "2020-02-11 08:37:05 [urllib3.connectionpool] DEBUG: https://home.kpmg:443 \"GET /xx/en/home/insights/2019/02/insurtech-10-ecosystems-rock-fs.html HTTP/1.1\" 200 37474\n",
      "2020-02-11 08:37:05 [scrapy.core.engine] DEBUG: Crawled (200) <GET https://home.kpmg/xx/en/home/insights/2019/01/global-automotive-executive-survey-2019.html> (referer: None)\n",
      "2020-02-11 08:37:05 [scrapy.core.engine] DEBUG: Crawled (200) <GET https://home.kpmg/xx/en/home/insights/2019/01/rfr-regulation-round-up-issue-3.html> (referer: None)\n",
      "2020-02-11 08:37:05 [scrapy.core.engine] DEBUG: Crawled (200) <GET https://home.kpmg/xx/en/home/insights/2019/01/bank-of-england-consults-on-resolution-fs.html> (referer: None)\n"
     ]
    },
    {
     "name": "stdout",
     "output_type": "stream",
     "text": [
      "https://home.kpmg/xx/en/home/insights/2019/02/insurtech-10-ecosystems-rock-fs.html\n"
     ]
    },
    {
     "name": "stderr",
     "output_type": "stream",
     "text": [
      "2020-02-11 08:37:06 [scrapy.core.engine] DEBUG: Crawled (200) <GET https://home.kpmg/xx/en/home/insights/2019/01/reviews-amendments-and-the-aifmd.html> (referer: None)\n",
      "2020-02-11 08:37:06 [scrapy.core.engine] DEBUG: Crawled (200) <GET https://home.kpmg/xx/en/home/insights/2019/01/basel-market-risk-framework-completed.html> (referer: None)\n",
      "2020-02-11 08:37:06 [urllib3.connectionpool] DEBUG: Starting new HTTPS connection (1): home.kpmg:443\n",
      "2020-02-11 08:37:06 [urllib3.connectionpool] DEBUG: https://home.kpmg:443 \"GET /xx/en/home/insights/2019/01/global-automotive-executive-survey-2019.html HTTP/1.1\" 200 34801\n",
      "2020-02-11 08:37:06 [urllib3.connectionpool] DEBUG: Starting new HTTPS connection (1): home.kpmg:443\n",
      "2020-02-11 08:37:06 [urllib3.connectionpool] DEBUG: https://home.kpmg:443 \"GET /xx/en/home/insights/2019/01/rfr-regulation-round-up-issue-3.html HTTP/1.1\" 200 38390\n",
      "2020-02-11 08:37:06 [urllib3.connectionpool] DEBUG: Starting new HTTPS connection (1): home.kpmg:443\n"
     ]
    },
    {
     "name": "stdout",
     "output_type": "stream",
     "text": [
      "https://home.kpmg/xx/en/home/insights/2019/01/global-automotive-executive-survey-2019.html\n",
      "https://home.kpmg/xx/en/home/insights/2019/01/rfr-regulation-round-up-issue-3.html\n",
      "https://home.kpmg/xx/en/home/insights/2019/01/bank-of-england-consults-on-resolution-fs.html\n"
     ]
    },
    {
     "name": "stderr",
     "output_type": "stream",
     "text": [
      "2020-02-11 08:37:06 [urllib3.connectionpool] DEBUG: https://home.kpmg:443 \"GET /xx/en/home/insights/2019/01/bank-of-england-consults-on-resolution-fs.html HTTP/1.1\" 200 36201\n",
      "2020-02-11 08:37:06 [urllib3.connectionpool] DEBUG: Starting new HTTPS connection (1): home.kpmg:443\n",
      "2020-02-11 08:37:06 [urllib3.connectionpool] DEBUG: https://home.kpmg:443 \"GET /xx/en/home/insights/2019/01/reviews-amendments-and-the-aifmd.html HTTP/1.1\" 200 38205\n",
      "2020-02-11 08:37:06 [urllib3.connectionpool] DEBUG: Starting new HTTPS connection (1): home.kpmg:443\n",
      "2020-02-11 08:37:06 [urllib3.connectionpool] DEBUG: https://home.kpmg:443 \"GET /xx/en/home/insights/2019/01/basel-market-risk-framework-completed.html HTTP/1.1\" 200 38766\n",
      "2020-02-11 08:37:06 [scrapy.core.engine] DEBUG: Crawled (200) <GET https://home.kpmg/xx/en/home/insights/2019/01/are-you-prepared-for-a-no-deal-outcome-fs.html> (referer: None)\n",
      "2020-02-11 08:37:06 [scrapy.core.engine] DEBUG: Crawled (200) <GET https://home.kpmg/xx/en/home/insights/2019/01/market-update-oil-gas.html> (referer: None)\n"
     ]
    },
    {
     "name": "stdout",
     "output_type": "stream",
     "text": [
      "https://home.kpmg/xx/en/home/insights/2019/01/reviews-amendments-and-the-aifmd.html\n",
      "https://home.kpmg/xx/en/home/insights/2019/01/basel-market-risk-framework-completed.html\n"
     ]
    },
    {
     "name": "stderr",
     "output_type": "stream",
     "text": [
      "2020-02-11 08:37:06 [scrapy.core.engine] DEBUG: Crawled (200) <GET https://home.kpmg/xx/en/home/insights/2018/12/responsible-investment-and-esg-for-asset-managers-fs.html> (referer: None)\n",
      "2020-02-11 08:37:06 [scrapy.core.engine] DEBUG: Crawled (200) <GET https://home.kpmg/xx/en/home/insights/2018/12/actuaries-of-the-future-fs.html> (referer: None)\n",
      "2020-02-11 08:37:06 [urllib3.connectionpool] DEBUG: Starting new HTTPS connection (1): home.kpmg:443\n",
      "2020-02-11 08:37:06 [urllib3.connectionpool] DEBUG: https://home.kpmg:443 \"GET /xx/en/home/insights/2019/01/are-you-prepared-for-a-no-deal-outcome-fs.html HTTP/1.1\" 200 37456\n",
      "2020-02-11 08:37:06 [scrapy.core.engine] DEBUG: Crawled (200) <GET https://home.kpmg/xx/en/home/insights/2018/12/the-next-generation-of-model-risks-fs.html> (referer: None)\n",
      "2020-02-11 08:37:06 [urllib3.connectionpool] DEBUG: Starting new HTTPS connection (1): home.kpmg:443\n",
      "2020-02-11 08:37:06 [urllib3.connectionpool] DEBUG: https://home.kpmg:443 \"GET /xx/en/home/insights/2019/01/market-update-oil-gas.html HTTP/1.1\" 200 37688\n"
     ]
    },
    {
     "name": "stdout",
     "output_type": "stream",
     "text": [
      "https://home.kpmg/xx/en/home/insights/2019/01/are-you-prepared-for-a-no-deal-outcome-fs.html\n",
      "https://home.kpmg/xx/en/home/insights/2019/01/market-update-oil-gas.html\n"
     ]
    },
    {
     "name": "stderr",
     "output_type": "stream",
     "text": [
      "2020-02-11 08:37:06 [urllib3.connectionpool] DEBUG: Starting new HTTPS connection (1): home.kpmg:443\n",
      "2020-02-11 08:37:06 [urllib3.connectionpool] DEBUG: https://home.kpmg:443 \"GET /xx/en/home/insights/2018/12/responsible-investment-and-esg-for-asset-managers-fs.html HTTP/1.1\" 200 37692\n",
      "2020-02-11 08:37:06 [urllib3.connectionpool] DEBUG: Starting new HTTPS connection (1): home.kpmg:443\n",
      "2020-02-11 08:37:06 [urllib3.connectionpool] DEBUG: https://home.kpmg:443 \"GET /xx/en/home/insights/2018/12/actuaries-of-the-future-fs.html HTTP/1.1\" 200 37625\n",
      "2020-02-11 08:37:06 [scrapy.core.engine] DEBUG: Crawled (200) <GET https://home.kpmg/xx/en/home/insights/2019/01/failure-how-close-is-your-organization.html> (referer: None)\n"
     ]
    },
    {
     "name": "stdout",
     "output_type": "stream",
     "text": [
      "https://home.kpmg/xx/en/home/insights/2018/12/responsible-investment-and-esg-for-asset-managers-fs.html\n",
      "https://home.kpmg/xx/en/home/insights/2018/12/actuaries-of-the-future-fs.html\n"
     ]
    },
    {
     "name": "stderr",
     "output_type": "stream",
     "text": [
      "2020-02-11 08:37:06 [scrapy.core.engine] DEBUG: Crawled (200) <GET https://home.kpmg/xx/en/home/insights/2019/01/driving-value-from-genomics.html> (referer: None)\n",
      "2020-02-11 08:37:06 [urllib3.connectionpool] DEBUG: Starting new HTTPS connection (1): home.kpmg:443\n",
      "2020-02-11 08:37:06 [urllib3.connectionpool] DEBUG: https://home.kpmg:443 \"GET /xx/en/home/insights/2018/12/the-next-generation-of-model-risks-fs.html HTTP/1.1\" 200 37900\n",
      "2020-02-11 08:37:07 [scrapy.core.engine] DEBUG: Crawled (200) <GET https://home.kpmg/xx/en/home/insights/2019/01/the-transformational-cio.html> (referer: None)\n",
      "2020-02-11 08:37:07 [scrapy.core.engine] DEBUG: Crawled (200) <GET https://home.kpmg/xx/en/home/insights/2018/12/market-update-oil-gas.html> (referer: None)\n",
      "2020-02-11 08:37:07 [scrapy.core.engine] DEBUG: Crawled (200) <GET https://home.kpmg/xx/en/home/insights/2018/12/financial-services-ceo-outlook-2018-fs.html> (referer: None)\n",
      "2020-02-11 08:37:07 [scrapy.core.engine] DEBUG: Crawled (200) <GET https://home.kpmg/xx/en/home/insights/2019/01/five-ways-workathons-can-foster-innovation.html> (referer: None)\n",
      "2020-02-11 08:37:07 [scrapy.core.engine] DEBUG: Crawled (200) <GET https://home.kpmg/xx/en/home/insights/2018/12/change-management-in-internal-audit-fs.html> (referer: None)\n",
      "2020-02-11 08:37:07 [urllib3.connectionpool] DEBUG: Starting new HTTPS connection (1): home.kpmg:443\n",
      "2020-02-11 08:37:07 [urllib3.connectionpool] DEBUG: https://home.kpmg:443 \"GET /xx/en/home/insights/2019/01/failure-how-close-is-your-organization.html HTTP/1.1\" 200 41054\n"
     ]
    },
    {
     "name": "stdout",
     "output_type": "stream",
     "text": [
      "https://home.kpmg/xx/en/home/insights/2018/12/the-next-generation-of-model-risks-fs.html\n",
      "https://home.kpmg/xx/en/home/insights/2019/01/failure-how-close-is-your-organization.html\n"
     ]
    },
    {
     "name": "stderr",
     "output_type": "stream",
     "text": [
      "2020-02-11 08:37:07 [urllib3.connectionpool] DEBUG: Starting new HTTPS connection (1): home.kpmg:443\n",
      "2020-02-11 08:37:07 [urllib3.connectionpool] DEBUG: https://home.kpmg:443 \"GET /xx/en/home/insights/2019/01/driving-value-from-genomics.html HTTP/1.1\" 200 33507\n",
      "2020-02-11 08:37:07 [urllib3.connectionpool] DEBUG: Starting new HTTPS connection (1): home.kpmg:443\n",
      "2020-02-11 08:37:07 [urllib3.connectionpool] DEBUG: https://home.kpmg:443 \"GET /xx/en/home/insights/2019/01/the-transformational-cio.html HTTP/1.1\" 200 38370\n"
     ]
    },
    {
     "name": "stdout",
     "output_type": "stream",
     "text": [
      "https://home.kpmg/xx/en/home/insights/2019/01/driving-value-from-genomics.html\n",
      "https://home.kpmg/xx/en/home/insights/2019/01/the-transformational-cio.html\n",
      "https://home.kpmg/xx/en/home/insights/2018/12/market-update-oil-gas.html\n"
     ]
    },
    {
     "name": "stderr",
     "output_type": "stream",
     "text": [
      "2020-02-11 08:37:07 [urllib3.connectionpool] DEBUG: Starting new HTTPS connection (1): home.kpmg:443\n",
      "2020-02-11 08:37:07 [urllib3.connectionpool] DEBUG: https://home.kpmg:443 \"GET /xx/en/home/insights/2018/12/market-update-oil-gas.html HTTP/1.1\" 200 37464\n",
      "2020-02-11 08:37:07 [urllib3.connectionpool] DEBUG: Starting new HTTPS connection (1): home.kpmg:443\n",
      "2020-02-11 08:37:07 [urllib3.connectionpool] DEBUG: https://home.kpmg:443 \"GET /xx/en/home/insights/2018/12/financial-services-ceo-outlook-2018-fs.html HTTP/1.1\" 200 35956\n",
      "2020-02-11 08:37:07 [urllib3.connectionpool] DEBUG: Starting new HTTPS connection (1): home.kpmg:443\n",
      "2020-02-11 08:37:07 [urllib3.connectionpool] DEBUG: https://home.kpmg:443 \"GET /xx/en/home/insights/2019/01/five-ways-workathons-can-foster-innovation.html HTTP/1.1\" 200 34149\n",
      "2020-02-11 08:37:07 [urllib3.connectionpool] DEBUG: Starting new HTTPS connection (1): home.kpmg:443\n",
      "2020-02-11 08:37:07 [urllib3.connectionpool] DEBUG: https://home.kpmg:443 \"GET /xx/en/home/insights/2018/12/change-management-in-internal-audit-fs.html HTTP/1.1\" 200 36618\n"
     ]
    },
    {
     "name": "stdout",
     "output_type": "stream",
     "text": [
      "https://home.kpmg/xx/en/home/insights/2018/12/financial-services-ceo-outlook-2018-fs.html\n",
      "https://home.kpmg/xx/en/home/insights/2019/01/five-ways-workathons-can-foster-innovation.html\n",
      "https://home.kpmg/xx/en/home/insights/2018/12/change-management-in-internal-audit-fs.html\n"
     ]
    },
    {
     "name": "stderr",
     "output_type": "stream",
     "text": [
      "2020-02-11 08:37:07 [scrapy.core.engine] DEBUG: Crawled (200) <GET https://home.kpmg/xx/en/home/insights/2018/12/distributed-ledger-technology.html> (referer: None)\n",
      "2020-02-11 08:37:07 [scrapy.core.engine] DEBUG: Crawled (200) <GET https://home.kpmg/xx/en/home/insights/2018/12/video-technology-disruption-heats-up-in-banking-fs.html> (referer: None)\n",
      "2020-02-11 08:37:07 [scrapy.core.engine] DEBUG: Crawled (200) <GET https://home.kpmg/xx/en/home/insights/2018/12/kpmg-artificial-intelligence-in-control.html> (referer: None)\n",
      "2020-02-11 08:37:07 [urllib3.connectionpool] DEBUG: Starting new HTTPS connection (1): home.kpmg:443\n",
      "2020-02-11 08:37:07 [urllib3.connectionpool] DEBUG: https://home.kpmg:443 \"GET /xx/en/home/insights/2018/12/distributed-ledger-technology.html HTTP/1.1\" 200 36074\n",
      "2020-02-11 08:37:07 [urllib3.connectionpool] DEBUG: Starting new HTTPS connection (1): home.kpmg:443\n",
      "2020-02-11 08:37:07 [urllib3.connectionpool] DEBUG: https://home.kpmg:443 \"GET /xx/en/home/insights/2018/12/video-technology-disruption-heats-up-in-banking-fs.html HTTP/1.1\" 200 36083\n",
      "2020-02-11 08:37:07 [urllib3.connectionpool] DEBUG: Starting new HTTPS connection (1): home.kpmg:443\n"
     ]
    },
    {
     "name": "stdout",
     "output_type": "stream",
     "text": [
      "https://home.kpmg/xx/en/home/insights/2018/12/distributed-ledger-technology.html\n",
      "https://home.kpmg/xx/en/home/insights/2018/12/video-technology-disruption-heats-up-in-banking-fs.html\n",
      "https://home.kpmg/xx/en/home/insights/2018/12/kpmg-artificial-intelligence-in-control.html\n"
     ]
    },
    {
     "name": "stderr",
     "output_type": "stream",
     "text": [
      "2020-02-11 08:37:07 [urllib3.connectionpool] DEBUG: https://home.kpmg:443 \"GET /xx/en/home/insights/2018/12/kpmg-artificial-intelligence-in-control.html HTTP/1.1\" 200 36275\n",
      "2020-02-11 08:37:08 [scrapy.core.engine] DEBUG: Crawled (200) <GET https://home.kpmg/xx/en/home/insights/2018/12/consumer-risks-from-fintech.html> (referer: None)\n",
      "2020-02-11 08:37:08 [scrapy.core.engine] DEBUG: Crawled (200) <GET https://home.kpmg/xx/en/home/insights/2018/12/algorithmic-trading-judgement-day.html> (referer: None)\n",
      "2020-02-11 08:37:08 [urllib3.connectionpool] DEBUG: Starting new HTTPS connection (1): home.kpmg:443\n",
      "2020-02-11 08:37:08 [urllib3.connectionpool] DEBUG: https://home.kpmg:443 \"GET /xx/en/home/insights/2018/12/consumer-risks-from-fintech.html HTTP/1.1\" 200 36102\n",
      "2020-02-11 08:37:08 [scrapy.core.engine] DEBUG: Crawled (200) <GET https://home.kpmg/xx/en/home/insights/2018/12/eba-on-fintech.html> (referer: None)\n",
      "2020-02-11 08:37:08 [scrapy.core.engine] DEBUG: Crawled (200) <GET https://home.kpmg/xx/en/home/insights/2018/12/peer-to-peer-lending.html> (referer: None)\n",
      "2020-02-11 08:37:08 [scrapy.core.engine] DEBUG: Crawled (200) <GET https://home.kpmg/xx/en/home/insights/2018/12/fintech-credit.html> (referer: None)\n",
      "2020-02-11 08:37:08 [scrapy.core.engine] DEBUG: Crawled (200) <GET https://home.kpmg/xx/en/home/insights/2018/12/fintech-regulation-turning-a-corner.html> (referer: None)\n",
      "2020-02-11 08:37:08 [urllib3.connectionpool] DEBUG: Starting new HTTPS connection (1): home.kpmg:443\n"
     ]
    },
    {
     "name": "stdout",
     "output_type": "stream",
     "text": [
      "https://home.kpmg/xx/en/home/insights/2018/12/consumer-risks-from-fintech.html\n",
      "https://home.kpmg/xx/en/home/insights/2018/12/algorithmic-trading-judgement-day.html\n"
     ]
    },
    {
     "name": "stderr",
     "output_type": "stream",
     "text": [
      "2020-02-11 08:37:08 [urllib3.connectionpool] DEBUG: https://home.kpmg:443 \"GET /xx/en/home/insights/2018/12/algorithmic-trading-judgement-day.html HTTP/1.1\" 200 36293\n",
      "2020-02-11 08:37:08 [urllib3.connectionpool] DEBUG: Starting new HTTPS connection (1): home.kpmg:443\n",
      "2020-02-11 08:37:08 [urllib3.connectionpool] DEBUG: https://home.kpmg:443 \"GET /xx/en/home/insights/2018/12/eba-on-fintech.html HTTP/1.1\" 200 36009\n",
      "2020-02-11 08:37:08 [scrapy.core.engine] DEBUG: Crawled (200) <GET https://home.kpmg/xx/en/home/insights/2018/11/catalyst-live-tax-legal-technology.html> (referer: None)\n",
      "2020-02-11 08:37:08 [urllib3.connectionpool] DEBUG: Starting new HTTPS connection (1): home.kpmg:443\n",
      "2020-02-11 08:37:08 [urllib3.connectionpool] DEBUG: https://home.kpmg:443 \"GET /xx/en/home/insights/2018/12/peer-to-peer-lending.html HTTP/1.1\" 200 35761\n",
      "2020-02-11 08:37:08 [urllib3.connectionpool] DEBUG: Starting new HTTPS connection (1): home.kpmg:443\n"
     ]
    },
    {
     "name": "stdout",
     "output_type": "stream",
     "text": [
      "https://home.kpmg/xx/en/home/insights/2018/12/eba-on-fintech.html\n",
      "https://home.kpmg/xx/en/home/insights/2018/12/peer-to-peer-lending.html\n",
      "https://home.kpmg/xx/en/home/insights/2018/12/fintech-credit.html\n"
     ]
    },
    {
     "name": "stderr",
     "output_type": "stream",
     "text": [
      "2020-02-11 08:37:08 [urllib3.connectionpool] DEBUG: https://home.kpmg:443 \"GET /xx/en/home/insights/2018/12/fintech-credit.html HTTP/1.1\" 200 35906\n",
      "2020-02-11 08:37:08 [urllib3.connectionpool] DEBUG: Starting new HTTPS connection (1): home.kpmg:443\n",
      "2020-02-11 08:37:08 [urllib3.connectionpool] DEBUG: https://home.kpmg:443 \"GET /xx/en/home/insights/2018/12/fintech-regulation-turning-a-corner.html HTTP/1.1\" 200 35906\n",
      "2020-02-11 08:37:08 [urllib3.connectionpool] DEBUG: Starting new HTTPS connection (1): home.kpmg:443\n",
      "2020-02-11 08:37:08 [urllib3.connectionpool] DEBUG: https://home.kpmg:443 \"GET /xx/en/home/insights/2018/11/catalyst-live-tax-legal-technology.html HTTP/1.1\" 200 33451\n",
      "2020-02-11 08:37:08 [scrapy.core.engine] DEBUG: Crawled (200) <GET https://home.kpmg/xx/en/home/insights/2018/11/the-case-for-investing-in-social-services.html> (referer: None)\n"
     ]
    },
    {
     "name": "stdout",
     "output_type": "stream",
     "text": [
      "https://home.kpmg/xx/en/home/insights/2018/12/fintech-regulation-turning-a-corner.html\n",
      "https://home.kpmg/xx/en/home/insights/2018/11/catalyst-live-tax-legal-technology.html\n"
     ]
    },
    {
     "name": "stderr",
     "output_type": "stream",
     "text": [
      "2020-02-11 08:37:08 [scrapy.core.engine] DEBUG: Crawled (200) <GET https://home.kpmg/xx/en/home/insights/2018/12/the-digital-transformation-of-legal.html> (referer: None)\n",
      "2020-02-11 08:37:08 [urllib3.connectionpool] DEBUG: Starting new HTTPS connection (1): home.kpmg:443\n",
      "2020-02-11 08:37:08 [urllib3.connectionpool] DEBUG: https://home.kpmg:443 \"GET /xx/en/home/insights/2018/11/the-case-for-investing-in-social-services.html HTTP/1.1\" 200 37748\n",
      "2020-02-11 08:37:08 [urllib3.connectionpool] DEBUG: Starting new HTTPS connection (1): home.kpmg:443\n",
      "2020-02-11 08:37:09 [urllib3.connectionpool] DEBUG: https://home.kpmg:443 \"GET /xx/en/home/insights/2018/12/the-digital-transformation-of-legal.html HTTP/1.1\" 200 32889\n"
     ]
    },
    {
     "name": "stdout",
     "output_type": "stream",
     "text": [
      "https://home.kpmg/xx/en/home/insights/2018/11/the-case-for-investing-in-social-services.html\n",
      "https://home.kpmg/xx/en/home/insights/2018/12/the-digital-transformation-of-legal.html\n"
     ]
    },
    {
     "name": "stderr",
     "output_type": "stream",
     "text": [
      "2020-02-11 08:37:09 [scrapy.core.engine] DEBUG: Crawled (200) <GET https://home.kpmg/xx/en/home/insights/2018/11/four-lessons-the-digital-health-data-race.html> (referer: None)\n",
      "2020-02-11 08:37:09 [scrapy.core.engine] DEBUG: Crawled (200) <GET https://home.kpmg/xx/en/home/insights/2018/11/making-connections-fs.html> (referer: None)\n",
      "2020-02-11 08:37:09 [scrapy.core.engine] DEBUG: Crawled (200) <GET https://home.kpmg/xx/en/home/insights/2018/11/systemic-risk-spotlight-turns-to-leverage-fs.html> (referer: None)\n",
      "2020-02-11 08:37:09 [urllib3.connectionpool] DEBUG: Starting new HTTPS connection (1): home.kpmg:443\n",
      "2020-02-11 08:37:09 [urllib3.connectionpool] DEBUG: https://home.kpmg:443 \"GET /xx/en/home/insights/2018/11/four-lessons-the-digital-health-data-race.html HTTP/1.1\" 200 40109\n",
      "2020-02-11 08:37:09 [scrapy.core.engine] DEBUG: Crawled (200) <GET https://home.kpmg/xx/en/home/insights/2018/11/fca-proposed-no-deal-rules-part-2-fs.html> (referer: None)\n",
      "2020-02-11 08:37:09 [scrapy.core.engine] DEBUG: Crawled (200) <GET https://home.kpmg/xx/en/home/insights/2018/11/workforce-shaping-is-the-shape-of-things-to-come.html> (referer: None)\n",
      "2020-02-11 08:37:09 [scrapy.core.engine] DEBUG: Crawled (200) <GET https://home.kpmg/xx/en/home/insights/2018/10/tax-intelligence-solution.html> (referer: None)\n",
      "2020-02-11 08:37:09 [urllib3.connectionpool] DEBUG: Starting new HTTPS connection (1): home.kpmg:443\n",
      "2020-02-11 08:37:09 [urllib3.connectionpool] DEBUG: https://home.kpmg:443 \"GET /xx/en/home/insights/2018/11/making-connections-fs.html HTTP/1.1\" 200 37605\n"
     ]
    },
    {
     "name": "stdout",
     "output_type": "stream",
     "text": [
      "https://home.kpmg/xx/en/home/insights/2018/11/four-lessons-the-digital-health-data-race.html\n",
      "https://home.kpmg/xx/en/home/insights/2018/11/making-connections-fs.html\n"
     ]
    },
    {
     "name": "stderr",
     "output_type": "stream",
     "text": [
      "2020-02-11 08:37:09 [urllib3.connectionpool] DEBUG: Starting new HTTPS connection (1): home.kpmg:443\n",
      "2020-02-11 08:37:09 [urllib3.connectionpool] DEBUG: https://home.kpmg:443 \"GET /xx/en/home/insights/2018/11/systemic-risk-spotlight-turns-to-leverage-fs.html HTTP/1.1\" 200 38671\n",
      "2020-02-11 08:37:09 [urllib3.connectionpool] DEBUG: Starting new HTTPS connection (1): home.kpmg:443\n",
      "2020-02-11 08:37:09 [urllib3.connectionpool] DEBUG: https://home.kpmg:443 \"GET /xx/en/home/insights/2018/11/fca-proposed-no-deal-rules-part-2-fs.html HTTP/1.1\" 200 37547\n",
      "2020-02-11 08:37:09 [urllib3.connectionpool] DEBUG: Starting new HTTPS connection (1): home.kpmg:443\n",
      "2020-02-11 08:37:09 [urllib3.connectionpool] DEBUG: https://home.kpmg:443 \"GET /xx/en/home/insights/2018/11/workforce-shaping-is-the-shape-of-things-to-come.html HTTP/1.1\" 200 36731\n"
     ]
    },
    {
     "name": "stdout",
     "output_type": "stream",
     "text": [
      "https://home.kpmg/xx/en/home/insights/2018/11/systemic-risk-spotlight-turns-to-leverage-fs.html\n",
      "https://home.kpmg/xx/en/home/insights/2018/11/fca-proposed-no-deal-rules-part-2-fs.html\n",
      "https://home.kpmg/xx/en/home/insights/2018/11/workforce-shaping-is-the-shape-of-things-to-come.html\n"
     ]
    },
    {
     "name": "stderr",
     "output_type": "stream",
     "text": [
      "2020-02-11 08:37:09 [urllib3.connectionpool] DEBUG: Starting new HTTPS connection (1): home.kpmg:443\n",
      "2020-02-11 08:37:09 [urllib3.connectionpool] DEBUG: https://home.kpmg:443 \"GET /xx/en/home/insights/2018/10/tax-intelligence-solution.html HTTP/1.1\" 200 34311\n"
     ]
    },
    {
     "name": "stdout",
     "output_type": "stream",
     "text": [
      "https://home.kpmg/xx/en/home/insights/2018/10/tax-intelligence-solution.html\n"
     ]
    },
    {
     "name": "stderr",
     "output_type": "stream",
     "text": [
      "2020-02-11 08:37:10 [scrapy.core.engine] DEBUG: Crawled (200) <GET https://home.kpmg/xx/en/home/insights/2018/11/market-update-oil-gas.html> (referer: None)\n",
      "2020-02-11 08:37:10 [scrapy.core.engine] DEBUG: Crawled (200) <GET https://home.kpmg/xx/en/home/insights/2018/10/2018-fintech-100-the-worlds-leading-fintech-innovators-fs.html> (referer: None)\n",
      "2020-02-11 08:37:10 [urllib3.connectionpool] DEBUG: Starting new HTTPS connection (1): home.kpmg:443\n",
      "2020-02-11 08:37:10 [urllib3.connectionpool] DEBUG: https://home.kpmg:443 \"GET /xx/en/home/insights/2018/11/market-update-oil-gas.html HTTP/1.1\" 200 37311\n",
      "2020-02-11 08:37:10 [scrapy.core.engine] DEBUG: Crawled (200) <GET https://home.kpmg/xx/en/home/insights/2018/11/investment-in-ai-for-healthcare-soars.html> (referer: None)\n",
      "2020-02-11 08:37:10 [scrapy.core.engine] DEBUG: Crawled (200) <GET https://home.kpmg/xx/en/home/insights/2018/11/accelerating-healthy-lives-for-all.html> (referer: None)\n",
      "2020-02-11 08:37:10 [urllib3.connectionpool] DEBUG: Starting new HTTPS connection (1): home.kpmg:443\n",
      "2020-02-11 08:37:10 [urllib3.connectionpool] DEBUG: https://home.kpmg:443 \"GET /xx/en/home/insights/2018/10/2018-fintech-100-the-worlds-leading-fintech-innovators-fs.html HTTP/1.1\" 200 33740\n"
     ]
    },
    {
     "name": "stdout",
     "output_type": "stream",
     "text": [
      "https://home.kpmg/xx/en/home/insights/2018/11/market-update-oil-gas.html\n",
      "https://home.kpmg/xx/en/home/insights/2018/10/2018-fintech-100-the-worlds-leading-fintech-innovators-fs.html\n",
      "https://home.kpmg/xx/en/home/insights/2018/11/investment-in-ai-for-healthcare-soars.html\n"
     ]
    },
    {
     "name": "stderr",
     "output_type": "stream",
     "text": [
      "2020-02-11 08:37:10 [urllib3.connectionpool] DEBUG: Starting new HTTPS connection (1): home.kpmg:443\n",
      "2020-02-11 08:37:10 [urllib3.connectionpool] DEBUG: https://home.kpmg:443 \"GET /xx/en/home/insights/2018/11/investment-in-ai-for-healthcare-soars.html HTTP/1.1\" 200 38267\n",
      "2020-02-11 08:37:10 [scrapy.core.engine] DEBUG: Crawled (200) <GET https://home.kpmg/xx/en/home/insights/2018/11/proposed-no-deal-rules-for-pra-firms-fs.html> (referer: None)\n",
      "2020-02-11 08:37:10 [urllib3.connectionpool] DEBUG: Starting new HTTPS connection (1): home.kpmg:443\n",
      "2020-02-11 08:37:10 [urllib3.connectionpool] DEBUG: https://home.kpmg:443 \"GET /xx/en/home/insights/2018/11/accelerating-healthy-lives-for-all.html HTTP/1.1\" 200 36613\n",
      "2020-02-11 08:37:10 [scrapy.core.engine] DEBUG: Crawled (200) <GET https://home.kpmg/xx/en/home/insights/2018/10/pra-temporary-permissions-regime.html> (referer: None)\n",
      "2020-02-11 08:37:10 [scrapy.core.engine] DEBUG: Crawled (200) <GET https://home.kpmg/xx/en/home/insights/2018/05/eamr-2018-a-parting-of-the-ways.html> (referer: None)\n",
      "2020-02-11 08:37:10 [urllib3.connectionpool] DEBUG: Starting new HTTPS connection (1): home.kpmg:443\n",
      "2020-02-11 08:37:10 [urllib3.connectionpool] DEBUG: https://home.kpmg:443 \"GET /xx/en/home/insights/2018/11/proposed-no-deal-rules-for-pra-firms-fs.html HTTP/1.1\" 200 37422\n"
     ]
    },
    {
     "name": "stdout",
     "output_type": "stream",
     "text": [
      "https://home.kpmg/xx/en/home/insights/2018/11/accelerating-healthy-lives-for-all.html\n",
      "https://home.kpmg/xx/en/home/insights/2018/11/proposed-no-deal-rules-for-pra-firms-fs.html\n"
     ]
    },
    {
     "name": "stderr",
     "output_type": "stream",
     "text": [
      "2020-02-11 08:37:10 [scrapy.core.engine] DEBUG: Crawled (200) <GET https://home.kpmg/xx/en/home/insights/2018/10/patients-should-be-partners-in-care.html> (referer: None)\n",
      "2020-02-11 08:37:10 [scrapy.core.engine] DEBUG: Crawled (200) <GET https://home.kpmg/xx/en/home/insights/2018/10/rfr-regulatory-round-up-fs.html> (referer: None)\n",
      "2020-02-11 08:37:10 [urllib3.connectionpool] DEBUG: Starting new HTTPS connection (1): home.kpmg:443\n",
      "2020-02-11 08:37:10 [urllib3.connectionpool] DEBUG: https://home.kpmg:443 \"GET /xx/en/home/insights/2018/10/pra-temporary-permissions-regime.html HTTP/1.1\" 200 38069\n",
      "2020-02-11 08:37:10 [urllib3.connectionpool] DEBUG: Starting new HTTPS connection (1): home.kpmg:443\n",
      "2020-02-11 08:37:10 [urllib3.connectionpool] DEBUG: https://home.kpmg:443 \"GET /xx/en/home/insights/2018/05/eamr-2018-a-parting-of-the-ways.html HTTP/1.1\" 200 37200\n",
      "2020-02-11 08:37:10 [scrapy.core.engine] DEBUG: Crawled (200) <GET https://home.kpmg/xx/en/home/insights/2018/10/impact-of-basel-4-on-eu-banks-fs.html> (referer: None)\n",
      "2020-02-11 08:37:10 [urllib3.connectionpool] DEBUG: Starting new HTTPS connection (1): home.kpmg:443\n"
     ]
    },
    {
     "name": "stdout",
     "output_type": "stream",
     "text": [
      "https://home.kpmg/xx/en/home/insights/2018/10/pra-temporary-permissions-regime.html\n",
      "https://home.kpmg/xx/en/home/insights/2018/05/eamr-2018-a-parting-of-the-ways.html\n",
      "https://home.kpmg/xx/en/home/insights/2018/10/patients-should-be-partners-in-care.html\n"
     ]
    },
    {
     "name": "stderr",
     "output_type": "stream",
     "text": [
      "2020-02-11 08:37:10 [urllib3.connectionpool] DEBUG: https://home.kpmg:443 \"GET /xx/en/home/insights/2018/10/patients-should-be-partners-in-care.html HTTP/1.1\" 200 39353\n",
      "2020-02-11 08:37:10 [urllib3.connectionpool] DEBUG: Starting new HTTPS connection (1): home.kpmg:443\n",
      "2020-02-11 08:37:10 [urllib3.connectionpool] DEBUG: https://home.kpmg:443 \"GET /xx/en/home/insights/2018/10/rfr-regulatory-round-up-fs.html HTTP/1.1\" 200 39174\n",
      "2020-02-11 08:37:10 [urllib3.connectionpool] DEBUG: Starting new HTTPS connection (1): home.kpmg:443\n",
      "2020-02-11 08:37:11 [urllib3.connectionpool] DEBUG: https://home.kpmg:443 \"GET /xx/en/home/insights/2018/10/impact-of-basel-4-on-eu-banks-fs.html HTTP/1.1\" 200 37621\n"
     ]
    },
    {
     "name": "stdout",
     "output_type": "stream",
     "text": [
      "https://home.kpmg/xx/en/home/insights/2018/10/rfr-regulatory-round-up-fs.html\n",
      "https://home.kpmg/xx/en/home/insights/2018/10/impact-of-basel-4-on-eu-banks-fs.html\n"
     ]
    },
    {
     "name": "stderr",
     "output_type": "stream",
     "text": [
      "2020-02-11 08:37:11 [scrapy.core.engine] DEBUG: Crawled (200) <GET https://home.kpmg/xx/en/home/insights/2018/10/market-update-oil-gas.html> (referer: None)\n",
      "2020-02-11 08:37:11 [scrapy.core.engine] DEBUG: Crawled (200) <GET https://home.kpmg/xx/en/home/insights/2018/09/making-the-right-investments-to-win-customers-in-banking-fs.html> (referer: None)\n",
      "2020-02-11 08:37:11 [urllib3.connectionpool] DEBUG: Starting new HTTPS connection (1): home.kpmg:443\n",
      "2020-02-11 08:37:11 [urllib3.connectionpool] DEBUG: https://home.kpmg:443 \"GET /xx/en/home/insights/2018/10/market-update-oil-gas.html HTTP/1.1\" 200 40838\n",
      "2020-02-11 08:37:11 [scrapy.core.engine] DEBUG: Crawled (200) <GET https://home.kpmg/xx/en/home/insights/2018/10/nhs-improvement.html> (referer: None)\n",
      "2020-02-11 08:37:11 [urllib3.connectionpool] DEBUG: Starting new HTTPS connection (1): home.kpmg:443\n",
      "2020-02-11 08:37:11 [urllib3.connectionpool] DEBUG: https://home.kpmg:443 \"GET /xx/en/home/insights/2018/09/making-the-right-investments-to-win-customers-in-banking-fs.html HTTP/1.1\" 200 36322\n",
      "2020-02-11 08:37:11 [scrapy.core.engine] DEBUG: Crawled (200) <GET https://home.kpmg/xx/en/home/insights/2018/10/regulatory-focus-on-funds-is-relentless-fs.html> (referer: None)\n"
     ]
    },
    {
     "name": "stdout",
     "output_type": "stream",
     "text": [
      "https://home.kpmg/xx/en/home/insights/2018/10/market-update-oil-gas.html\n",
      "https://home.kpmg/xx/en/home/insights/2018/09/making-the-right-investments-to-win-customers-in-banking-fs.html\n"
     ]
    },
    {
     "name": "stderr",
     "output_type": "stream",
     "text": [
      "2020-02-11 08:37:11 [urllib3.connectionpool] DEBUG: Starting new HTTPS connection (1): home.kpmg:443\n",
      "2020-02-11 08:37:11 [urllib3.connectionpool] DEBUG: https://home.kpmg:443 \"GET /xx/en/home/insights/2018/10/nhs-improvement.html HTTP/1.1\" 200 33715\n",
      "2020-02-11 08:37:11 [urllib3.connectionpool] DEBUG: Starting new HTTPS connection (1): home.kpmg:443\n",
      "2020-02-11 08:37:11 [urllib3.connectionpool] DEBUG: https://home.kpmg:443 \"GET /xx/en/home/insights/2018/10/regulatory-focus-on-funds-is-relentless-fs.html HTTP/1.1\" 200 38109\n",
      "2020-02-11 08:37:11 [scrapy.core.engine] DEBUG: Crawled (200) <GET https://home.kpmg/xx/en/home/insights/2018/10/further-brexit-transitional-arrangements-fs.html> (referer: None)\n"
     ]
    },
    {
     "name": "stdout",
     "output_type": "stream",
     "text": [
      "https://home.kpmg/xx/en/home/insights/2018/10/nhs-improvement.html\n",
      "https://home.kpmg/xx/en/home/insights/2018/10/regulatory-focus-on-funds-is-relentless-fs.html\n"
     ]
    },
    {
     "name": "stderr",
     "output_type": "stream",
     "text": [
      "2020-02-11 08:37:11 [scrapy.core.engine] DEBUG: Crawled (200) <GET https://home.kpmg/xx/en/home/insights/2018/10/brexit-tpr-bau-almost-fs.html> (referer: None)\n",
      "2020-02-11 08:37:11 [scrapy.core.engine] DEBUG: Crawled (200) <GET https://home.kpmg/xx/en/home/insights/2018/06/artificial-intelligence-possible-enterprise-applications-and-development-scenarios-to-2040.html> (referer: None)\n",
      "2020-02-11 08:37:11 [urllib3.connectionpool] DEBUG: Starting new HTTPS connection (1): home.kpmg:443\n",
      "2020-02-11 08:37:11 [urllib3.connectionpool] DEBUG: https://home.kpmg:443 \"GET /xx/en/home/insights/2018/10/further-brexit-transitional-arrangements-fs.html HTTP/1.1\" 200 36883\n",
      "2020-02-11 08:37:11 [scrapy.core.engine] DEBUG: Crawled (200) <GET https://home.kpmg/xx/en/home/insights/2018/10/proposed-brexit-no-deal-rules-fs.html> (referer: None)\n",
      "2020-02-11 08:37:11 [urllib3.connectionpool] DEBUG: Starting new HTTPS connection (1): home.kpmg:443\n",
      "2020-02-11 08:37:11 [urllib3.connectionpool] DEBUG: https://home.kpmg:443 \"GET /xx/en/home/insights/2018/10/brexit-tpr-bau-almost-fs.html HTTP/1.1\" 200 38908\n",
      "2020-02-11 08:37:11 [urllib3.connectionpool] DEBUG: Starting new HTTPS connection (1): home.kpmg:443\n",
      "2020-02-11 08:37:11 [urllib3.connectionpool] DEBUG: https://home.kpmg:443 \"GET /xx/en/home/insights/2018/06/artificial-intelligence-possible-enterprise-applications-and-development-scenarios-to-2040.html HTTP/1.1\" 200 36774\n"
     ]
    },
    {
     "name": "stdout",
     "output_type": "stream",
     "text": [
      "https://home.kpmg/xx/en/home/insights/2018/10/further-brexit-transitional-arrangements-fs.html\n",
      "https://home.kpmg/xx/en/home/insights/2018/10/brexit-tpr-bau-almost-fs.html\n",
      "https://home.kpmg/xx/en/home/insights/2018/06/artificial-intelligence-possible-enterprise-applications-and-development-scenarios-to-2040.html\n"
     ]
    },
    {
     "name": "stderr",
     "output_type": "stream",
     "text": [
      "2020-02-11 08:37:11 [urllib3.connectionpool] DEBUG: Starting new HTTPS connection (1): home.kpmg:443\n",
      "2020-02-11 08:37:11 [urllib3.connectionpool] DEBUG: https://home.kpmg:443 \"GET /xx/en/home/insights/2018/10/proposed-brexit-no-deal-rules-fs.html HTTP/1.1\" 200 36958\n",
      "2020-02-11 08:37:11 [scrapy.core.engine] DEBUG: Crawled (200) <GET https://home.kpmg/xx/en/home/insights/2018/09/buying-for-operational-readiness-military-procurement.html> (referer: None)\n",
      "2020-02-11 08:37:12 [scrapy.core.engine] DEBUG: Crawled (200) <GET https://home.kpmg/xx/en/home/insights/2018/10/lead-in-cyber-insurance-fs.html> (referer: None)\n",
      "2020-02-11 08:37:12 [scrapy.core.engine] DEBUG: Crawled (200) <GET https://home.kpmg/xx/en/home/insights/2018/09/transition-from-libor-to-risk-free-rates-dear-ceo-letter-fs.html> (referer: None)\n"
     ]
    },
    {
     "name": "stdout",
     "output_type": "stream",
     "text": [
      "https://home.kpmg/xx/en/home/insights/2018/10/proposed-brexit-no-deal-rules-fs.html\n"
     ]
    },
    {
     "name": "stderr",
     "output_type": "stream",
     "text": [
      "2020-02-11 08:37:12 [urllib3.connectionpool] DEBUG: Starting new HTTPS connection (1): home.kpmg:443\n",
      "2020-02-11 08:37:12 [urllib3.connectionpool] DEBUG: https://home.kpmg:443 \"GET /xx/en/home/insights/2018/09/buying-for-operational-readiness-military-procurement.html HTTP/1.1\" 200 43288\n",
      "2020-02-11 08:37:12 [scrapy.core.engine] DEBUG: Crawled (200) <GET https://home.kpmg/xx/en/home/insights/2018/10/kpmg-retains-leader-ranking-among-enterprise-insights-service-providers-in-new-forrester-report.html> (referer: None)\n",
      "2020-02-11 08:37:12 [urllib3.connectionpool] DEBUG: Starting new HTTPS connection (1): home.kpmg:443\n",
      "2020-02-11 08:37:12 [urllib3.connectionpool] DEBUG: https://home.kpmg:443 \"GET /xx/en/home/insights/2018/10/lead-in-cyber-insurance-fs.html HTTP/1.1\" 200 34214\n"
     ]
    },
    {
     "name": "stdout",
     "output_type": "stream",
     "text": [
      "https://home.kpmg/xx/en/home/insights/2018/09/buying-for-operational-readiness-military-procurement.html\n",
      "https://home.kpmg/xx/en/home/insights/2018/10/lead-in-cyber-insurance-fs.html\n",
      "https://home.kpmg/xx/en/home/insights/2018/09/transition-from-libor-to-risk-free-rates-dear-ceo-letter-fs.html\n"
     ]
    },
    {
     "name": "stderr",
     "output_type": "stream",
     "text": [
      "2020-02-11 08:37:12 [urllib3.connectionpool] DEBUG: Starting new HTTPS connection (1): home.kpmg:443\n",
      "2020-02-11 08:37:12 [urllib3.connectionpool] DEBUG: https://home.kpmg:443 \"GET /xx/en/home/insights/2018/09/transition-from-libor-to-risk-free-rates-dear-ceo-letter-fs.html HTTP/1.1\" 200 36959\n",
      "2020-02-11 08:37:12 [urllib3.connectionpool] DEBUG: Starting new HTTPS connection (1): home.kpmg:443\n",
      "2020-02-11 08:37:12 [urllib3.connectionpool] DEBUG: https://home.kpmg:443 \"GET /xx/en/home/insights/2018/10/kpmg-retains-leader-ranking-among-enterprise-insights-service-providers-in-new-forrester-report.html HTTP/1.1\" 200 36064\n"
     ]
    },
    {
     "name": "stdout",
     "output_type": "stream",
     "text": [
      "https://home.kpmg/xx/en/home/insights/2018/10/kpmg-retains-leader-ranking-among-enterprise-insights-service-providers-in-new-forrester-report.html\n"
     ]
    },
    {
     "name": "stderr",
     "output_type": "stream",
     "text": [
      "2020-02-11 08:37:12 [scrapy.core.engine] DEBUG: Crawled (200) <GET https://home.kpmg/xx/en/home/insights/2018/09/driving-value-through-diagnostics.html> (referer: None)\n",
      "2020-02-11 08:37:12 [scrapy.core.engine] DEBUG: Crawled (200) <GET https://home.kpmg/xx/en/home/insights/2018/09/market-update-oil-gas.html> (referer: None)\n",
      "2020-02-11 08:37:12 [scrapy.core.engine] DEBUG: Crawled (200) <GET https://home.kpmg/xx/en/home/insights/2018/09/cio-survey-2018-for-construction.html> (referer: None)\n",
      "2020-02-11 08:37:12 [urllib3.connectionpool] DEBUG: Starting new HTTPS connection (1): home.kpmg:443\n",
      "2020-02-11 08:37:12 [urllib3.connectionpool] DEBUG: https://home.kpmg:443 \"GET /xx/en/home/insights/2018/09/driving-value-through-diagnostics.html HTTP/1.1\" 200 38839\n",
      "2020-02-11 08:37:12 [urllib3.connectionpool] DEBUG: Starting new HTTPS connection (1): home.kpmg:443\n",
      "2020-02-11 08:37:12 [urllib3.connectionpool] DEBUG: https://home.kpmg:443 \"GET /xx/en/home/insights/2018/09/market-update-oil-gas.html HTTP/1.1\" 200 37202\n",
      "2020-02-11 08:37:12 [urllib3.connectionpool] DEBUG: Starting new HTTPS connection (1): home.kpmg:443\n"
     ]
    },
    {
     "name": "stdout",
     "output_type": "stream",
     "text": [
      "https://home.kpmg/xx/en/home/insights/2018/09/driving-value-through-diagnostics.html\n",
      "https://home.kpmg/xx/en/home/insights/2018/09/market-update-oil-gas.html\n",
      "https://home.kpmg/xx/en/home/insights/2018/09/cio-survey-2018-for-construction.html\n"
     ]
    },
    {
     "name": "stderr",
     "output_type": "stream",
     "text": [
      "2020-02-11 08:37:12 [urllib3.connectionpool] DEBUG: https://home.kpmg:443 \"GET /xx/en/home/insights/2018/09/cio-survey-2018-for-construction.html HTTP/1.1\" 200 38004\n",
      "2020-02-11 08:37:12 [scrapy.core.engine] DEBUG: Crawled (200) <GET https://home.kpmg/xx/en/home/insights/2018/09/kpmg-data-and-analytics-workathon-with-microsoft.html> (referer: None)\n",
      "2020-02-11 08:37:13 [urllib3.connectionpool] DEBUG: Starting new HTTPS connection (1): home.kpmg:443\n",
      "2020-02-11 08:37:13 [urllib3.connectionpool] DEBUG: https://home.kpmg:443 \"GET /xx/en/home/insights/2018/09/kpmg-data-and-analytics-workathon-with-microsoft.html HTTP/1.1\" 200 36357\n",
      "2020-02-11 08:37:13 [scrapy.core.engine] DEBUG: Crawled (200) <GET https://home.kpmg/xx/en/home/insights/2018/09/in-it-to-win-it-ifrs-key-findings-fs.html> (referer: None)\n",
      "2020-02-11 08:37:13 [scrapy.core.engine] DEBUG: Crawled (200) <GET https://home.kpmg/xx/en/home/insights/2018/08/preparing-for-regulation-after-brexit-fs.html> (referer: None)\n"
     ]
    },
    {
     "name": "stdout",
     "output_type": "stream",
     "text": [
      "https://home.kpmg/xx/en/home/insights/2018/09/kpmg-data-and-analytics-workathon-with-microsoft.html\n"
     ]
    },
    {
     "name": "stderr",
     "output_type": "stream",
     "text": [
      "2020-02-11 08:37:13 [scrapy.core.engine] DEBUG: Crawled (200) <GET https://home.kpmg/xx/en/home/insights/2018/08/market-update-oil-gas.html> (referer: None)\n",
      "2020-02-11 08:37:13 [urllib3.connectionpool] DEBUG: Starting new HTTPS connection (1): home.kpmg:443\n",
      "2020-02-11 08:37:13 [urllib3.connectionpool] DEBUG: https://home.kpmg:443 \"GET /xx/en/home/insights/2018/09/in-it-to-win-it-ifrs-key-findings-fs.html HTTP/1.1\" 200 35820\n",
      "2020-02-11 08:37:13 [scrapy.core.engine] DEBUG: Crawled (200) <GET https://home.kpmg/xx/en/home/insights/2018/08/global-cio-survey-with-harvey-nash-the-transformational-cio.html> (referer: None)\n",
      "2020-02-11 08:37:13 [urllib3.connectionpool] DEBUG: Starting new HTTPS connection (1): home.kpmg:443\n",
      "2020-02-11 08:37:13 [urllib3.connectionpool] DEBUG: https://home.kpmg:443 \"GET /xx/en/home/insights/2018/08/preparing-for-regulation-after-brexit-fs.html HTTP/1.1\" 200 37547\n"
     ]
    },
    {
     "name": "stdout",
     "output_type": "stream",
     "text": [
      "https://home.kpmg/xx/en/home/insights/2018/09/in-it-to-win-it-ifrs-key-findings-fs.html\n",
      "https://home.kpmg/xx/en/home/insights/2018/08/preparing-for-regulation-after-brexit-fs.html\n",
      "https://home.kpmg/xx/en/home/insights/2018/08/market-update-oil-gas.html\n"
     ]
    },
    {
     "name": "stderr",
     "output_type": "stream",
     "text": [
      "2020-02-11 08:37:13 [urllib3.connectionpool] DEBUG: Starting new HTTPS connection (1): home.kpmg:443\n",
      "2020-02-11 08:37:13 [urllib3.connectionpool] DEBUG: https://home.kpmg:443 \"GET /xx/en/home/insights/2018/08/market-update-oil-gas.html HTTP/1.1\" 200 37071\n",
      "2020-02-11 08:37:13 [scrapy.core.engine] DEBUG: Crawled (200) <GET https://home.kpmg/xx/en/home/insights/2018/08/libor-to-risk-free-rate-fs.html> (referer: None)\n",
      "2020-02-11 08:37:13 [scrapy.core.engine] DEBUG: Crawled (200) <GET https://home.kpmg/xx/en/home/insights/2018/08/global-ceo-outlook-how-do-ceos-see-data-driven-future.html> (referer: None)\n",
      "2020-02-11 08:37:13 [urllib3.connectionpool] DEBUG: Starting new HTTPS connection (1): home.kpmg:443\n",
      "2020-02-11 08:37:13 [urllib3.connectionpool] DEBUG: https://home.kpmg:443 \"GET /xx/en/home/insights/2018/08/global-cio-survey-with-harvey-nash-the-transformational-cio.html HTTP/1.1\" 200 36585\n",
      "2020-02-11 08:37:13 [scrapy.core.engine] DEBUG: Crawled (200) <GET https://home.kpmg/xx/en/home/insights/2018/08/do-we-really-trust-the-numbers.html> (referer: None)\n"
     ]
    },
    {
     "name": "stdout",
     "output_type": "stream",
     "text": [
      "https://home.kpmg/xx/en/home/insights/2018/08/global-cio-survey-with-harvey-nash-the-transformational-cio.html\n"
     ]
    },
    {
     "name": "stderr",
     "output_type": "stream",
     "text": [
      "2020-02-11 08:37:13 [urllib3.connectionpool] DEBUG: Starting new HTTPS connection (1): home.kpmg:443\n",
      "2020-02-11 08:37:13 [urllib3.connectionpool] DEBUG: https://home.kpmg:443 \"GET /xx/en/home/insights/2018/08/libor-to-risk-free-rate-fs.html HTTP/1.1\" 200 38917\n",
      "2020-02-11 08:37:13 [urllib3.connectionpool] DEBUG: Starting new HTTPS connection (1): home.kpmg:443\n",
      "2020-02-11 08:37:13 [urllib3.connectionpool] DEBUG: https://home.kpmg:443 \"GET /xx/en/home/insights/2018/08/global-ceo-outlook-how-do-ceos-see-data-driven-future.html HTTP/1.1\" 200 36905\n",
      "2020-02-11 08:37:13 [urllib3.connectionpool] DEBUG: Starting new HTTPS connection (1): home.kpmg:443\n"
     ]
    },
    {
     "name": "stdout",
     "output_type": "stream",
     "text": [
      "https://home.kpmg/xx/en/home/insights/2018/08/libor-to-risk-free-rate-fs.html\n",
      "https://home.kpmg/xx/en/home/insights/2018/08/global-ceo-outlook-how-do-ceos-see-data-driven-future.html\n",
      "https://home.kpmg/xx/en/home/insights/2018/08/do-we-really-trust-the-numbers.html\n"
     ]
    },
    {
     "name": "stderr",
     "output_type": "stream",
     "text": [
      "2020-02-11 08:37:13 [urllib3.connectionpool] DEBUG: https://home.kpmg:443 \"GET /xx/en/home/insights/2018/08/do-we-really-trust-the-numbers.html HTTP/1.1\" 200 35368\n",
      "2020-02-11 08:37:13 [scrapy.core.engine] DEBUG: Crawled (200) <GET https://home.kpmg/xx/en/home/insights/2018/08/2018-global-consumer-executive-top-of-mind-survey.html> (referer: None)\n",
      "2020-02-11 08:37:13 [scrapy.core.engine] DEBUG: Crawled (200) <GET https://home.kpmg/xx/en/home/insights/2018/08/2018-global-healthcare-conference.html> (referer: None)\n",
      "2020-02-11 08:37:14 [urllib3.connectionpool] DEBUG: Starting new HTTPS connection (1): home.kpmg:443\n",
      "2020-02-11 08:37:14 [urllib3.connectionpool] DEBUG: https://home.kpmg:443 \"GET /xx/en/home/insights/2018/08/2018-global-consumer-executive-top-of-mind-survey.html HTTP/1.1\" 200 37191\n",
      "2020-02-11 08:37:14 [scrapy.core.engine] DEBUG: Crawled (200) <GET https://home.kpmg/xx/en/home/insights/2018/08/data-science-of-the-multidimensional-customer.html> (referer: None)\n",
      "2020-02-11 08:37:14 [urllib3.connectionpool] DEBUG: Starting new HTTPS connection (1): home.kpmg:443\n",
      "2020-02-11 08:37:14 [urllib3.connectionpool] DEBUG: https://home.kpmg:443 \"GET /xx/en/home/insights/2018/08/2018-global-healthcare-conference.html HTTP/1.1\" 200 41659\n"
     ]
    },
    {
     "name": "stdout",
     "output_type": "stream",
     "text": [
      "https://home.kpmg/xx/en/home/insights/2018/08/2018-global-consumer-executive-top-of-mind-survey.html\n",
      "https://home.kpmg/xx/en/home/insights/2018/08/2018-global-healthcare-conference.html\n",
      "https://home.kpmg/xx/en/home/insights/2018/08/data-science-of-the-multidimensional-customer.html\n"
     ]
    },
    {
     "name": "stderr",
     "output_type": "stream",
     "text": [
      "2020-02-11 08:37:14 [urllib3.connectionpool] DEBUG: Starting new HTTPS connection (1): home.kpmg:443\n",
      "2020-02-11 08:37:14 [urllib3.connectionpool] DEBUG: https://home.kpmg:443 \"GET /xx/en/home/insights/2018/08/data-science-of-the-multidimensional-customer.html HTTP/1.1\" 200 36692\n",
      "2020-02-11 08:37:14 [scrapy.core.engine] DEBUG: Crawled (200) <GET https://home.kpmg/xx/en/home/insights/2018/08/disruption-in-a-digitally-connected-future.html> (referer: None)\n",
      "2020-02-11 08:37:14 [urllib3.connectionpool] DEBUG: Starting new HTTPS connection (1): home.kpmg:443\n"
     ]
    },
    {
     "name": "stdout",
     "output_type": "stream",
     "text": [
      "https://home.kpmg/xx/en/home/insights/2018/08/disruption-in-a-digitally-connected-future.html\n"
     ]
    },
    {
     "name": "stderr",
     "output_type": "stream",
     "text": [
      "2020-02-11 08:37:15 [urllib3.connectionpool] DEBUG: https://home.kpmg:443 \"GET /xx/en/home/insights/2018/08/disruption-in-a-digitally-connected-future.html HTTP/1.1\" 200 36615\n",
      "2020-02-11 08:37:15 [scrapy.core.engine] DEBUG: Crawled (200) <GET https://home.kpmg/xx/en/home/insights/2018/08/ready-set-fail.html> (referer: None)\n",
      "2020-02-11 08:37:15 [scrapy.core.engine] DEBUG: Crawled (200) <GET https://home.kpmg/xx/en/home/insights/2018/08/the-dawn-of-artificial-intelligence.html> (referer: None)\n",
      "2020-02-11 08:37:15 [scrapy.core.engine] DEBUG: Crawled (200) <GET https://home.kpmg/xx/en/home/insights/2018/08/gov-open-for-disruption.html> (referer: None)\n",
      "2020-02-11 08:37:15 [scrapy.core.engine] DEBUG: Crawled (200) <GET https://home.kpmg/xx/en/home/insights/2018/08/rise-of-the-humans-the-integration-of-human-and-digital-labor.html> (referer: None)\n",
      "2020-02-11 08:37:15 [scrapy.core.engine] DEBUG: Crawled (200) <GET https://home.kpmg/xx/en/home/insights/2018/08/who-is-responsible-for-data-analytics.html> (referer: None)\n",
      "2020-02-11 08:37:15 [scrapy.core.engine] DEBUG: Crawled (200) <GET https://home.kpmg/xx/en/home/insights/2018/07/the-future-for-digital-in-healthcare.html> (referer: None)\n",
      "2020-02-11 08:37:15 [urllib3.connectionpool] DEBUG: Starting new HTTPS connection (1): home.kpmg:443\n",
      "2020-02-11 08:37:15 [urllib3.connectionpool] DEBUG: https://home.kpmg:443 \"GET /xx/en/home/insights/2018/08/ready-set-fail.html HTTP/1.1\" 200 36879\n",
      "2020-02-11 08:37:15 [urllib3.connectionpool] DEBUG: Starting new HTTPS connection (1): home.kpmg:443\n",
      "2020-02-11 08:37:15 [urllib3.connectionpool] DEBUG: https://home.kpmg:443 \"GET /xx/en/home/insights/2018/08/the-dawn-of-artificial-intelligence.html HTTP/1.1\" 200 36966\n",
      "2020-02-11 08:37:15 [scrapy.core.engine] DEBUG: Crawled (200) <GET https://home.kpmg/xx/en/home/insights/2018/08/governing-the-bot-revolution-intelligent-process-automation.html> (referer: None)\n"
     ]
    },
    {
     "name": "stdout",
     "output_type": "stream",
     "text": [
      "https://home.kpmg/xx/en/home/insights/2018/08/ready-set-fail.html\n",
      "https://home.kpmg/xx/en/home/insights/2018/08/the-dawn-of-artificial-intelligence.html\n"
     ]
    },
    {
     "name": "stderr",
     "output_type": "stream",
     "text": [
      "2020-02-11 08:37:15 [scrapy.core.engine] DEBUG: Crawled (200) <GET https://home.kpmg/xx/en/home/insights/2018/07/our-artificial-intelligence-capabilities.html> (referer: None)\n",
      "2020-02-11 08:37:15 [scrapy.core.engine] DEBUG: Crawled (200) <GET https://home.kpmg/xx/en/home/insights/2018/07/the-difference-in-our-approach.html> (referer: None)\n",
      "2020-02-11 08:37:15 [scrapy.core.engine] DEBUG: Crawled (200) <GET https://home.kpmg/xx/en/home/insights/2018/07/our-intelligent-automation-capabilities.html> (referer: None)\n",
      "2020-02-11 08:37:15 [urllib3.connectionpool] DEBUG: Starting new HTTPS connection (1): home.kpmg:443\n",
      "2020-02-11 08:37:15 [urllib3.connectionpool] DEBUG: https://home.kpmg:443 \"GET /xx/en/home/insights/2018/08/gov-open-for-disruption.html HTTP/1.1\" 200 36624\n",
      "2020-02-11 08:37:15 [urllib3.connectionpool] DEBUG: Starting new HTTPS connection (1): home.kpmg:443\n",
      "2020-02-11 08:37:15 [urllib3.connectionpool] DEBUG: https://home.kpmg:443 \"GET /xx/en/home/insights/2018/08/rise-of-the-humans-the-integration-of-human-and-digital-labor.html HTTP/1.1\" 200 36767\n",
      "2020-02-11 08:37:15 [urllib3.connectionpool] DEBUG: Starting new HTTPS connection (1): home.kpmg:443\n"
     ]
    },
    {
     "name": "stdout",
     "output_type": "stream",
     "text": [
      "https://home.kpmg/xx/en/home/insights/2018/08/gov-open-for-disruption.html\n",
      "https://home.kpmg/xx/en/home/insights/2018/08/rise-of-the-humans-the-integration-of-human-and-digital-labor.html\n",
      "https://home.kpmg/xx/en/home/insights/2018/08/who-is-responsible-for-data-analytics.html\n"
     ]
    },
    {
     "name": "stderr",
     "output_type": "stream",
     "text": [
      "2020-02-11 08:37:15 [urllib3.connectionpool] DEBUG: https://home.kpmg:443 \"GET /xx/en/home/insights/2018/08/who-is-responsible-for-data-analytics.html HTTP/1.1\" 200 36805\n",
      "2020-02-11 08:37:15 [urllib3.connectionpool] DEBUG: Starting new HTTPS connection (1): home.kpmg:443\n",
      "2020-02-11 08:37:15 [urllib3.connectionpool] DEBUG: https://home.kpmg:443 \"GET /xx/en/home/insights/2018/07/the-future-for-digital-in-healthcare.html HTTP/1.1\" 200 37929\n",
      "2020-02-11 08:37:15 [scrapy.core.engine] DEBUG: Crawled (200) <GET https://home.kpmg/xx/en/home/insights/2018/07/contract-certainty-fs.html> (referer: None)\n",
      "2020-02-11 08:37:15 [urllib3.connectionpool] DEBUG: Starting new HTTPS connection (1): home.kpmg:443\n",
      "2020-02-11 08:37:15 [urllib3.connectionpool] DEBUG: https://home.kpmg:443 \"GET /xx/en/home/insights/2018/08/governing-the-bot-revolution-intelligent-process-automation.html HTTP/1.1\" 200 36113\n",
      "2020-02-11 08:37:15 [urllib3.connectionpool] DEBUG: Starting new HTTPS connection (1): home.kpmg:443\n"
     ]
    },
    {
     "name": "stdout",
     "output_type": "stream",
     "text": [
      "https://home.kpmg/xx/en/home/insights/2018/07/the-future-for-digital-in-healthcare.html\n",
      "https://home.kpmg/xx/en/home/insights/2018/08/governing-the-bot-revolution-intelligent-process-automation.html\n",
      "https://home.kpmg/xx/en/home/insights/2018/07/our-artificial-intelligence-capabilities.html\n"
     ]
    },
    {
     "name": "stderr",
     "output_type": "stream",
     "text": [
      "2020-02-11 08:37:16 [urllib3.connectionpool] DEBUG: https://home.kpmg:443 \"GET /xx/en/home/insights/2018/07/our-artificial-intelligence-capabilities.html HTTP/1.1\" 200 36433\n",
      "2020-02-11 08:37:16 [urllib3.connectionpool] DEBUG: Starting new HTTPS connection (1): home.kpmg:443\n",
      "2020-02-11 08:37:16 [urllib3.connectionpool] DEBUG: https://home.kpmg:443 \"GET /xx/en/home/insights/2018/07/the-difference-in-our-approach.html HTTP/1.1\" 200 36382\n",
      "2020-02-11 08:37:16 [urllib3.connectionpool] DEBUG: Starting new HTTPS connection (1): home.kpmg:443\n",
      "2020-02-11 08:37:16 [urllib3.connectionpool] DEBUG: https://home.kpmg:443 \"GET /xx/en/home/insights/2018/07/our-intelligent-automation-capabilities.html HTTP/1.1\" 200 36122\n",
      "2020-02-11 08:37:16 [scrapy.core.engine] DEBUG: Crawled (200) <GET https://home.kpmg/xx/en/home/insights/2018/07/our-analytics-capabilities.html> (referer: None)\n"
     ]
    },
    {
     "name": "stdout",
     "output_type": "stream",
     "text": [
      "https://home.kpmg/xx/en/home/insights/2018/07/the-difference-in-our-approach.html\n",
      "https://home.kpmg/xx/en/home/insights/2018/07/our-intelligent-automation-capabilities.html\n"
     ]
    },
    {
     "name": "stderr",
     "output_type": "stream",
     "text": [
      "2020-02-11 08:37:16 [scrapy.core.engine] DEBUG: Crawled (200) <GET https://home.kpmg/xx/en/home/insights/2018/07/our-data-driven-capabilities.html> (referer: None)\n",
      "2020-02-11 08:37:16 [urllib3.connectionpool] DEBUG: Starting new HTTPS connection (1): home.kpmg:443\n",
      "2020-02-11 08:37:16 [urllib3.connectionpool] DEBUG: https://home.kpmg:443 \"GET /xx/en/home/insights/2018/07/contract-certainty-fs.html HTTP/1.1\" 200 36514\n",
      "2020-02-11 08:37:16 [urllib3.connectionpool] DEBUG: Starting new HTTPS connection (1): home.kpmg:443\n"
     ]
    },
    {
     "name": "stdout",
     "output_type": "stream",
     "text": [
      "https://home.kpmg/xx/en/home/insights/2018/07/contract-certainty-fs.html\n",
      "https://home.kpmg/xx/en/home/insights/2018/07/our-analytics-capabilities.html\n"
     ]
    },
    {
     "name": "stderr",
     "output_type": "stream",
     "text": [
      "2020-02-11 08:37:16 [urllib3.connectionpool] DEBUG: https://home.kpmg:443 \"GET /xx/en/home/insights/2018/07/our-analytics-capabilities.html HTTP/1.1\" 200 36168\n",
      "2020-02-11 08:37:16 [urllib3.connectionpool] DEBUG: Starting new HTTPS connection (1): home.kpmg:443\n",
      "2020-02-11 08:37:16 [urllib3.connectionpool] DEBUG: https://home.kpmg:443 \"GET /xx/en/home/insights/2018/07/our-data-driven-capabilities.html HTTP/1.1\" 200 36015\n",
      "2020-02-11 08:37:16 [scrapy.core.engine] DEBUG: Crawled (200) <GET https://home.kpmg/xx/en/home/insights/2018/07/boe-financial-stability-concerns-fs.html> (referer: None)\n",
      "2020-02-11 08:37:16 [scrapy.core.engine] DEBUG: Crawled (200) <GET https://home.kpmg/xx/en/home/insights/2018/07/operational-resilience-fs.html> (referer: None)\n"
     ]
    },
    {
     "name": "stdout",
     "output_type": "stream",
     "text": [
      "https://home.kpmg/xx/en/home/insights/2018/07/our-data-driven-capabilities.html\n"
     ]
    },
    {
     "name": "stderr",
     "output_type": "stream",
     "text": [
      "2020-02-11 08:37:16 [urllib3.connectionpool] DEBUG: Starting new HTTPS connection (1): home.kpmg:443\n",
      "2020-02-11 08:37:16 [urllib3.connectionpool] DEBUG: https://home.kpmg:443 \"GET /xx/en/home/insights/2018/07/boe-financial-stability-concerns-fs.html HTTP/1.1\" 200 36100\n",
      "2020-02-11 08:37:16 [urllib3.connectionpool] DEBUG: Starting new HTTPS connection (1): home.kpmg:443\n",
      "2020-02-11 08:37:16 [urllib3.connectionpool] DEBUG: https://home.kpmg:443 \"GET /xx/en/home/insights/2018/07/operational-resilience-fs.html HTTP/1.1\" 200 36802\n",
      "2020-02-11 08:37:16 [scrapy.core.engine] DEBUG: Crawled (200) <GET https://home.kpmg/xx/en/home/insights/2018/07/insurance-cybersecurity.html> (referer: None)\n"
     ]
    },
    {
     "name": "stdout",
     "output_type": "stream",
     "text": [
      "https://home.kpmg/xx/en/home/insights/2018/07/boe-financial-stability-concerns-fs.html\n",
      "https://home.kpmg/xx/en/home/insights/2018/07/operational-resilience-fs.html\n"
     ]
    },
    {
     "name": "stderr",
     "output_type": "stream",
     "text": [
      "2020-02-11 08:37:16 [scrapy.core.engine] DEBUG: Crawled (200) <GET https://home.kpmg/xx/en/home/insights/2018/07/fsb-assesses-financial-vulnerabilities-fs.html> (referer: None)\n",
      "2020-02-11 08:37:16 [urllib3.connectionpool] DEBUG: Starting new HTTPS connection (1): home.kpmg:443\n",
      "2020-02-11 08:37:17 [urllib3.connectionpool] DEBUG: https://home.kpmg:443 \"GET /xx/en/home/insights/2018/07/insurance-cybersecurity.html HTTP/1.1\" 200 35561\n",
      "2020-02-11 08:37:17 [scrapy.core.engine] DEBUG: Crawled (200) <GET https://home.kpmg/xx/en/home/insights/2018/07/eba-opinion-on-preparations-for-brexit.html> (referer: None)\n",
      "2020-02-11 08:37:17 [scrapy.core.engine] DEBUG: Crawled (200) <GET https://home.kpmg/xx/en/home/insights/2018/07/econ-on-crr-2-crd-5-and-brrd-2-fs.html> (referer: None)\n",
      "2020-02-11 08:37:17 [urllib3.connectionpool] DEBUG: Starting new HTTPS connection (1): home.kpmg:443\n",
      "2020-02-11 08:37:17 [urllib3.connectionpool] DEBUG: https://home.kpmg:443 \"GET /xx/en/home/insights/2018/07/fsb-assesses-financial-vulnerabilities-fs.html HTTP/1.1\" 200 35795\n"
     ]
    },
    {
     "name": "stdout",
     "output_type": "stream",
     "text": [
      "https://home.kpmg/xx/en/home/insights/2018/07/insurance-cybersecurity.html\n",
      "https://home.kpmg/xx/en/home/insights/2018/07/fsb-assesses-financial-vulnerabilities-fs.html\n"
     ]
    },
    {
     "name": "stderr",
     "output_type": "stream",
     "text": [
      "2020-02-11 08:37:17 [urllib3.connectionpool] DEBUG: Starting new HTTPS connection (1): home.kpmg:443\n",
      "2020-02-11 08:37:17 [urllib3.connectionpool] DEBUG: https://home.kpmg:443 \"GET /xx/en/home/insights/2018/07/eba-opinion-on-preparations-for-brexit.html HTTP/1.1\" 200 33014\n",
      "2020-02-11 08:37:17 [scrapy.core.engine] DEBUG: Crawled (200) <GET https://home.kpmg/xx/en/home/insights/2018/07/blockchain-spotlight-asian-stock-exchange.html> (referer: None)\n",
      "2020-02-11 08:37:17 [scrapy.core.engine] DEBUG: Crawled (200) <GET https://home.kpmg/xx/en/home/insights/2018/07/integrated-facility-management.html> (referer: None)\n",
      "2020-02-11 08:37:17 [scrapy.core.engine] DEBUG: Crawled (200) <GET https://home.kpmg/xx/en/home/insights/2018/07/market-update-oil-gas.html> (referer: None)\n",
      "2020-02-11 08:37:17 [urllib3.connectionpool] DEBUG: Starting new HTTPS connection (1): home.kpmg:443\n"
     ]
    },
    {
     "name": "stdout",
     "output_type": "stream",
     "text": [
      "https://home.kpmg/xx/en/home/insights/2018/07/eba-opinion-on-preparations-for-brexit.html\n",
      "https://home.kpmg/xx/en/home/insights/2018/07/econ-on-crr-2-crd-5-and-brrd-2-fs.html\n"
     ]
    },
    {
     "name": "stderr",
     "output_type": "stream",
     "text": [
      "2020-02-11 08:37:17 [urllib3.connectionpool] DEBUG: https://home.kpmg:443 \"GET /xx/en/home/insights/2018/07/econ-on-crr-2-crd-5-and-brrd-2-fs.html HTTP/1.1\" 200 36458\n",
      "2020-02-11 08:37:17 [urllib3.connectionpool] DEBUG: Starting new HTTPS connection (1): home.kpmg:443\n",
      "2020-02-11 08:37:17 [urllib3.connectionpool] DEBUG: https://home.kpmg:443 \"GET /xx/en/home/insights/2018/07/blockchain-spotlight-asian-stock-exchange.html HTTP/1.1\" 200 35444\n",
      "2020-02-11 08:37:17 [scrapy.core.engine] DEBUG: Crawled (200) <GET https://home.kpmg/xx/en/home/insights/2018/06/data-governance-driving-value-in-health.html> (referer: None)\n",
      "2020-02-11 08:37:17 [urllib3.connectionpool] DEBUG: Starting new HTTPS connection (1): home.kpmg:443\n",
      "2020-02-11 08:37:17 [urllib3.connectionpool] DEBUG: https://home.kpmg:443 \"GET /xx/en/home/insights/2018/07/integrated-facility-management.html HTTP/1.1\" 200 37121\n"
     ]
    },
    {
     "name": "stdout",
     "output_type": "stream",
     "text": [
      "https://home.kpmg/xx/en/home/insights/2018/07/blockchain-spotlight-asian-stock-exchange.html\n",
      "https://home.kpmg/xx/en/home/insights/2018/07/integrated-facility-management.html\n",
      "https://home.kpmg/xx/en/home/insights/2018/07/market-update-oil-gas.html\n"
     ]
    },
    {
     "name": "stderr",
     "output_type": "stream",
     "text": [
      "2020-02-11 08:37:17 [urllib3.connectionpool] DEBUG: Starting new HTTPS connection (1): home.kpmg:443\n",
      "2020-02-11 08:37:17 [urllib3.connectionpool] DEBUG: https://home.kpmg:443 \"GET /xx/en/home/insights/2018/07/market-update-oil-gas.html HTTP/1.1\" 200 40146\n",
      "2020-02-11 08:37:17 [scrapy.core.engine] DEBUG: Crawled (200) <GET https://home.kpmg/xx/en/home/insights/2018/06/crr-2-and-brrd-2-proposals.html> (referer: None)\n",
      "2020-02-11 08:37:17 [urllib3.connectionpool] DEBUG: Starting new HTTPS connection (1): home.kpmg:443\n",
      "2020-02-11 08:37:17 [urllib3.connectionpool] DEBUG: https://home.kpmg:443 \"GET /xx/en/home/insights/2018/06/data-governance-driving-value-in-health.html HTTP/1.1\" 200 37304\n",
      "2020-02-11 08:37:17 [urllib3.connectionpool] DEBUG: Starting new HTTPS connection (1): home.kpmg:443\n",
      "2020-02-11 08:37:17 [urllib3.connectionpool] DEBUG: https://home.kpmg:443 \"GET /xx/en/home/insights/2018/06/crr-2-and-brrd-2-proposals.html HTTP/1.1\" 200 36591\n"
     ]
    },
    {
     "name": "stdout",
     "output_type": "stream",
     "text": [
      "https://home.kpmg/xx/en/home/insights/2018/06/data-governance-driving-value-in-health.html\n",
      "https://home.kpmg/xx/en/home/insights/2018/06/crr-2-and-brrd-2-proposals.html\n"
     ]
    },
    {
     "name": "stderr",
     "output_type": "stream",
     "text": [
      "2020-02-11 08:37:18 [scrapy.core.engine] DEBUG: Crawled (200) <GET https://home.kpmg/xx/en/home/insights/2018/06/the-global-regulatory-landscape.html> (referer: None)\n",
      "2020-02-11 08:37:18 [scrapy.core.engine] DEBUG: Crawled (200) <GET https://home.kpmg/xx/en/home/insights/2018/06/commission-draft-rules-for-fund-assets.html> (referer: None)\n",
      "2020-02-11 08:37:18 [scrapy.core.engine] DEBUG: Crawled (200) <GET https://home.kpmg/xx/en/home/insights/2018/06/basel-committee-work-programme-fs.html> (referer: None)\n",
      "2020-02-11 08:37:18 [urllib3.connectionpool] DEBUG: Starting new HTTPS connection (1): home.kpmg:443\n",
      "2020-02-11 08:37:18 [urllib3.connectionpool] DEBUG: https://home.kpmg:443 \"GET /xx/en/home/insights/2018/06/the-global-regulatory-landscape.html HTTP/1.1\" 200 37943\n",
      "2020-02-11 08:37:18 [scrapy.core.engine] DEBUG: Crawled (200) <GET https://home.kpmg/xx/en/home/insights/2018/06/20-years-of-asset-management-in-china.html> (referer: None)\n",
      "2020-02-11 08:37:18 [urllib3.connectionpool] DEBUG: Starting new HTTPS connection (1): home.kpmg:443\n",
      "2020-02-11 08:37:18 [urllib3.connectionpool] DEBUG: https://home.kpmg:443 \"GET /xx/en/home/insights/2018/06/commission-draft-rules-for-fund-assets.html HTTP/1.1\" 200 36574\n",
      "2020-02-11 08:37:18 [urllib3.connectionpool] DEBUG: Starting new HTTPS connection (1): home.kpmg:443\n"
     ]
    },
    {
     "name": "stdout",
     "output_type": "stream",
     "text": [
      "https://home.kpmg/xx/en/home/insights/2018/06/the-global-regulatory-landscape.html\n",
      "https://home.kpmg/xx/en/home/insights/2018/06/commission-draft-rules-for-fund-assets.html\n",
      "https://home.kpmg/xx/en/home/insights/2018/06/basel-committee-work-programme-fs.html\n"
     ]
    },
    {
     "name": "stderr",
     "output_type": "stream",
     "text": [
      "2020-02-11 08:37:18 [urllib3.connectionpool] DEBUG: https://home.kpmg:443 \"GET /xx/en/home/insights/2018/06/basel-committee-work-programme-fs.html HTTP/1.1\" 200 35894\n",
      "2020-02-11 08:37:18 [urllib3.connectionpool] DEBUG: Starting new HTTPS connection (1): home.kpmg:443\n",
      "2020-02-11 08:37:18 [urllib3.connectionpool] DEBUG: https://home.kpmg:443 \"GET /xx/en/home/insights/2018/06/20-years-of-asset-management-in-china.html HTTP/1.1\" 200 38624\n",
      "2020-02-11 08:37:18 [scrapy.core.engine] DEBUG: Crawled (200) <GET https://home.kpmg/xx/en/home/insights/2018/06/valuation-in-resolution.html> (referer: None)\n",
      "2020-02-11 08:37:18 [scrapy.core.engine] DEBUG: Crawled (200) <GET https://home.kpmg/xx/en/home/insights/2018/06/eu-strategy-on-sustainable-finance.html> (referer: None)\n",
      "2020-02-11 08:37:18 [scrapy.core.engine] DEBUG: Crawled (200) <GET https://home.kpmg/xx/en/home/insights/2018/06/retail-holdings-of-bank-debt.html> (referer: None)\n"
     ]
    },
    {
     "name": "stdout",
     "output_type": "stream",
     "text": [
      "https://home.kpmg/xx/en/home/insights/2018/06/20-years-of-asset-management-in-china.html\n",
      "https://home.kpmg/xx/en/home/insights/2018/06/valuation-in-resolution.html\n"
     ]
    },
    {
     "name": "stderr",
     "output_type": "stream",
     "text": [
      "2020-02-11 08:37:18 [urllib3.connectionpool] DEBUG: Starting new HTTPS connection (1): home.kpmg:443\n",
      "2020-02-11 08:37:18 [urllib3.connectionpool] DEBUG: https://home.kpmg:443 \"GET /xx/en/home/insights/2018/06/valuation-in-resolution.html HTTP/1.1\" 200 36450\n",
      "2020-02-11 08:37:18 [urllib3.connectionpool] DEBUG: Starting new HTTPS connection (1): home.kpmg:443\n",
      "2020-02-11 08:37:18 [urllib3.connectionpool] DEBUG: https://home.kpmg:443 \"GET /xx/en/home/insights/2018/06/eu-strategy-on-sustainable-finance.html HTTP/1.1\" 200 36998\n",
      "2020-02-11 08:37:18 [urllib3.connectionpool] DEBUG: Starting new HTTPS connection (1): home.kpmg:443\n",
      "2020-02-11 08:37:18 [urllib3.connectionpool] DEBUG: https://home.kpmg:443 \"GET /xx/en/home/insights/2018/06/retail-holdings-of-bank-debt.html HTTP/1.1\" 200 36448\n"
     ]
    },
    {
     "name": "stdout",
     "output_type": "stream",
     "text": [
      "https://home.kpmg/xx/en/home/insights/2018/06/eu-strategy-on-sustainable-finance.html\n",
      "https://home.kpmg/xx/en/home/insights/2018/06/retail-holdings-of-bank-debt.html\n"
     ]
    },
    {
     "name": "stderr",
     "output_type": "stream",
     "text": [
      "2020-02-11 08:37:18 [scrapy.core.engine] DEBUG: Crawled (200) <GET https://home.kpmg/xx/en/home/insights/2018/06/test-learn-win.html> (referer: None)\n",
      "2020-02-11 08:37:18 [urllib3.connectionpool] DEBUG: Starting new HTTPS connection (1): home.kpmg:443\n",
      "2020-02-11 08:37:19 [urllib3.connectionpool] DEBUG: https://home.kpmg:443 \"GET /xx/en/home/insights/2018/06/test-learn-win.html HTTP/1.1\" 200 36632\n",
      "2020-02-11 08:37:19 [scrapy.core.engine] DEBUG: Crawled (200) <GET https://home.kpmg/xx/en/home/insights/2018/06/market-update-oil-gas.html> (referer: None)\n",
      "2020-02-11 08:37:19 [scrapy.core.engine] DEBUG: Crawled (200) <GET https://home.kpmg/xx/en/home/insights/2018/06/financial-services-ceo-outlook-highlights-fs.html> (referer: None)\n",
      "2020-02-11 08:37:19 [scrapy.core.engine] DEBUG: Crawled (200) <GET https://home.kpmg/xx/en/home/insights/2018/06/affordable-health-is-key-to-a-longer-life.html> (referer: None)\n"
     ]
    },
    {
     "name": "stdout",
     "output_type": "stream",
     "text": [
      "https://home.kpmg/xx/en/home/insights/2018/06/test-learn-win.html\n"
     ]
    },
    {
     "name": "stderr",
     "output_type": "stream",
     "text": [
      "2020-02-11 08:37:19 [urllib3.connectionpool] DEBUG: Starting new HTTPS connection (1): home.kpmg:443\n",
      "2020-02-11 08:37:19 [urllib3.connectionpool] DEBUG: https://home.kpmg:443 \"GET /xx/en/home/insights/2018/06/market-update-oil-gas.html HTTP/1.1\" 200 38569\n",
      "2020-02-11 08:37:19 [urllib3.connectionpool] DEBUG: Starting new HTTPS connection (1): home.kpmg:443\n",
      "2020-02-11 08:37:19 [urllib3.connectionpool] DEBUG: https://home.kpmg:443 \"GET /xx/en/home/insights/2018/06/financial-services-ceo-outlook-highlights-fs.html HTTP/1.1\" 200 36752\n",
      "2020-02-11 08:37:19 [urllib3.connectionpool] DEBUG: Starting new HTTPS connection (1): home.kpmg:443\n"
     ]
    },
    {
     "name": "stdout",
     "output_type": "stream",
     "text": [
      "https://home.kpmg/xx/en/home/insights/2018/06/market-update-oil-gas.html\n",
      "https://home.kpmg/xx/en/home/insights/2018/06/financial-services-ceo-outlook-highlights-fs.html\n",
      "https://home.kpmg/xx/en/home/insights/2018/06/affordable-health-is-key-to-a-longer-life.html\n"
     ]
    },
    {
     "name": "stderr",
     "output_type": "stream",
     "text": [
      "2020-02-11 08:37:19 [urllib3.connectionpool] DEBUG: https://home.kpmg:443 \"GET /xx/en/home/insights/2018/06/affordable-health-is-key-to-a-longer-life.html HTTP/1.1\" 200 36661\n",
      "2020-02-11 08:37:19 [scrapy.core.engine] INFO: Closing spider (finished)\n",
      "2020-02-11 08:37:19 [scrapy.statscollectors] INFO: Dumping Scrapy stats:\n",
      "{'downloader/request_bytes': 55155,\n",
      " 'downloader/request_count': 200,\n",
      " 'downloader/request_method_count/GET': 200,\n",
      " 'downloader/response_bytes': 7505062,\n",
      " 'downloader/response_count': 200,\n",
      " 'downloader/response_status_count/200': 199,\n",
      " 'downloader/response_status_count/301': 1,\n",
      " 'dupefilter/filtered': 1,\n",
      " 'elapsed_time_seconds': 24.107771,\n",
      " 'finish_reason': 'finished',\n",
      " 'finish_time': datetime.datetime(2020, 2, 11, 7, 37, 19, 445838),\n",
      " 'log_count/DEBUG': 599,\n",
      " 'log_count/INFO': 10,\n",
      " 'response_received_count': 199,\n",
      " 'scheduler/dequeued': 200,\n",
      " 'scheduler/dequeued/memory': 200,\n",
      " 'scheduler/enqueued': 200,\n",
      " 'scheduler/enqueued/memory': 200,\n",
      " 'start_time': datetime.datetime(2020, 2, 11, 7, 36, 55, 338067)}\n",
      "2020-02-11 08:37:19 [scrapy.core.engine] INFO: Spider closed (finished)\n"
     ]
    }
   ],
   "source": [
    "from scrapy.crawler import CrawlerProcess\n",
    "from datetime import date\n",
    "\n",
    "# Create class\n",
    "class kpmg_spider (scrapy.Spider):\n",
    "    name = \"kpmg_spider\"\n",
    "    \n",
    "    def start_requests(self):\n",
    "        urls = urllist\n",
    "        \n",
    "        for url in urls:\n",
    "            yield scrapy.Request(url = url, callback = self.parse)\n",
    "            \n",
    "    #Parsing\n",
    "    def parse(self, response):\n",
    "        print(response.url)\n",
    "        \n",
    "        page_dict = dict()\n",
    "        siteno = len(main_dict) + 1\n",
    "        \n",
    "        page_url = response.url\n",
    "        \n",
    "        page_html = requests.get(page_url).content\n",
    "        page_sel = Selector(text = page_html)\n",
    "        \n",
    "        text_sel = 'section.module-bodytext.component.bg-white ::text'\n",
    "        title_sel = '//meta[contains(@name, \"KPMG_Title\")]/@content'\n",
    "        date_sel = '//meta[contains(@http-equiv, \"date\")]/@content'\n",
    "        \n",
    "        page_title = page_sel.xpath(title_sel).extract()\n",
    "        page_date = page_sel.xpath(date_sel).extract()\n",
    "        page_dldate = '2020/01/14'\n",
    "        page_text = page_sel.css(text_sel).extract()\n",
    "                \n",
    "        page_text = ' '.join(page_text)\n",
    "        \n",
    "        page_id = 'site' + str(siteno)\n",
    "        \n",
    "        page_dict['url'] = page_url\n",
    "        page_dict['title'] = page_title\n",
    "        page_dict['article date'] = page_date\n",
    "        page_dict['download date'] = page_dldate\n",
    "        page_dict['text'] = page_text\n",
    "        page_dict['agency'] = \"KPMG\"\n",
    "        \n",
    "        main_dict[page_id] = page_dict\n",
    "        \n",
    "# Initiatlize dictionary\n",
    "main_dict = dict()\n",
    "\n",
    "#Run spider\n",
    "process = CrawlerProcess()\n",
    "siteno = 0\n",
    "process.crawl(kpmg_spider)\n",
    "process.start()"
   ]
  },
  {
   "cell_type": "code",
   "execution_count": 13,
   "metadata": {},
   "outputs": [
    {
     "data": {
      "text/plain": [
       "<DeferredList at 0x22d3568adc8 current result: []>"
      ]
     },
     "execution_count": 13,
     "metadata": {},
     "output_type": "execute_result"
    }
   ],
   "source": [
    "process.stop()"
   ]
  },
  {
   "cell_type": "code",
   "execution_count": 14,
   "metadata": {},
   "outputs": [
    {
     "data": {
      "text/plain": [
       "199"
      ]
     },
     "execution_count": 14,
     "metadata": {},
     "output_type": "execute_result"
    }
   ],
   "source": [
    "len(main_dict)"
   ]
  },
  {
   "cell_type": "code",
   "execution_count": 15,
   "metadata": {},
   "outputs": [],
   "source": [
    "import json\n",
    "\n",
    "with open('..\\\\data_raw\\\\kpmg_articles.json', 'w') as file:\n",
    "    json.dump(main_dict, file)"
   ]
  },
  {
   "cell_type": "code",
   "execution_count": null,
   "metadata": {},
   "outputs": [],
   "source": []
  }
 ],
 "metadata": {
  "kernelspec": {
   "display_name": "Python 3",
   "language": "python",
   "name": "python3"
  },
  "language_info": {
   "codemirror_mode": {
    "name": "ipython",
    "version": 3
   },
   "file_extension": ".py",
   "mimetype": "text/x-python",
   "name": "python",
   "nbconvert_exporter": "python",
   "pygments_lexer": "ipython3",
   "version": "3.7.4"
  }
 },
 "nbformat": 4,
 "nbformat_minor": 2
}
