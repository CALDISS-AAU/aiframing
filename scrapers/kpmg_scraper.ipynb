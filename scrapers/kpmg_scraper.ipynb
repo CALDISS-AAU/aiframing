{
 "cells": [
  {
   "cell_type": "markdown",
   "metadata": {},
   "source": [
    "# Formål\n",
    "\n",
    "Script scraper diverse konsulenthuses sider for artikler og indlæg omkring kunstig intelligens (AI, artificial intelligence).\n",
    "\n",
    "**Liste over konsulenthuse**\n",
    "- (x) Ernst & Young (EY) (en del af BIG4 i accounting) https://www.ey.com/en_gl\n",
    "- Deloitte. (en del af BIG4 i accounting) [https://www2.deloitte.com](https://www2.deloitte.com/)\n",
    "- KPMG. (en del af BIG4 i accounting) https://home.kpmg/xx/en/home.html\n",
    "- PricewaterhouseCoopers (PwC) (en del af BIG4 i accounting) https://www.pwc.com/\n",
    "- (x) McKinsey (Top Management consulting) https://www.mckinsey.com/\n",
    "- (x) Boston consulting group (Top Management consulting) https://www.bcg.com/\n",
    "- Bain & Company (Top Management consulting) https://www.bain.com/\n",
    "- Accenture (IT consulting - verdens største konsulenthus) https://www.accenture.com/us-en\n",
    "- Capgemini (IT consulting nr. 2 mener jeg) https://www.capgemini.com/\n",
    "- Tata consulting (IT consulting - nr. 3 mener jeg målt på omsætning) https://www.tcs.com/\n",
    "- IBM (Det er ikke sikkert, men de har vel Watson og måske interessant?) [https://www.ibm.com](https://www.ibm.com/)"
   ]
  },
  {
   "cell_type": "markdown",
   "metadata": {},
   "source": [
    "# KPMG URLs\n",
    "\n",
    "Data-driven technologies: https://home.kpmg/xx/en/home/insights/2018/08/data-driven-technologies.html\n"
   ]
  },
  {
   "cell_type": "markdown",
   "metadata": {},
   "source": [
    "### Libraries\n",
    "\n",
    "Importing libraries..."
   ]
  },
  {
   "cell_type": "code",
   "execution_count": 1,
   "metadata": {},
   "outputs": [],
   "source": [
    "import scrapy\n",
    "import requests\n",
    "from scrapy import Selector\n",
    "\n",
    "import os\n",
    "import sys\n",
    "from datetime import date\n",
    "\n",
    "from selenium import webdriver\n",
    "from selenium.webdriver.common.keys import Keys\n",
    "from selenium.webdriver.firefox.firefox_binary import FirefoxBinary\n",
    "from selenium.common.exceptions import NoSuchElementException, WebDriverException, ElementNotInteractableException\n",
    "from selenium.webdriver.common.action_chains import ActionChains\n",
    "\n",
    "import time"
   ]
  },
  {
   "cell_type": "markdown",
   "metadata": {},
   "source": [
    "### URL list\n",
    "\n",
    "List of URLs is extracted from the section \"Data-driven techonologies of home.kpmg: https://home.kpmg/xx/en/home/insights/2018/08/data-driven-technologies.html"
   ]
  },
  {
   "cell_type": "markdown",
   "metadata": {},
   "source": [
    "## Scrape article urls (convert to code to use)\n",
    "driver = webdriver.Chrome(executable_path = 'C:\\\\bin\\\\chromedriver')\n",
    "\n",
    "driver.get('https://home.kpmg/xx/en/home/insights/2018/08/data-driven-technologies.html')\n",
    "time.sleep(2)\n",
    "driver.find_element_by_css_selector('body > div.privacy-container.chrome > div > a > span > span.btn-copy.chrome').click()\n",
    "time.sleep(2)\n",
    "\n",
    "while True:\n",
    "    try:\n",
    "        driver.find_element_by_css_selector('#latest-thinking > div.container.p-0.articles-placeholder.d-none.d-lg-block.chrome > div > div:nth-child(2) > div > input').click()\n",
    "        time.sleep(2)\n",
    "    except (NoSuchElementException, WebDriverException, ElementNotInteractableException) as e:\n",
    "        print(\"No 'Next' button found\")\n",
    "        break\n",
    "\n",
    "pageSource = driver.page_source\n"
   ]
  },
  {
   "cell_type": "markdown",
   "metadata": {},
   "source": [
    "pageSel = Selector(text = pageSource)\n",
    "urldict = {}\n",
    "urldict['urls'] = pageSel.css('div.col-lg-4.article > div > a::attr(href)').extract()\n",
    "urldict['titles'] = pageSel.css('div.col-lg-4.article > div > a::attr(aria-label)').extract()\n",
    "#latest-thinking > div.container.mt-5.p-0.articles.chrome > div > div:nth-child(1) > div > a"
   ]
  },
  {
   "cell_type": "markdown",
   "metadata": {},
   "source": [
    "print(len(urldict['titles']),\n",
    "     len(urldict['urls']))"
   ]
  },
  {
   "cell_type": "markdown",
   "metadata": {},
   "source": [
    "main_url = 'https://home.kpmg'\n",
    "urllist = list(map(lambda url: main_url + url, urldict['urls']))"
   ]
  },
  {
   "cell_type": "markdown",
   "metadata": {},
   "source": [
    "len(urllist)"
   ]
  },
  {
   "cell_type": "code",
   "execution_count": 2,
   "metadata": {},
   "outputs": [],
   "source": [
    "#with open('kpmg_urls.txt', 'w') as f:\n",
    "#    for url in urllist:\n",
    "#        f.write(url + \"\\n\")"
   ]
  },
  {
   "cell_type": "markdown",
   "metadata": {},
   "source": [
    "### Load URLs"
   ]
  },
  {
   "cell_type": "code",
   "execution_count": 3,
   "metadata": {},
   "outputs": [
    {
     "name": "stdout",
     "output_type": "stream",
     "text": [
      "200 \n",
      " https://home.kpmg/xx/en/home/insights/2018/06/market-update-oil-gas.html\n"
     ]
    }
   ],
   "source": [
    "kpmg_urls = []\n",
    "with open('kpmg_urls.txt', 'r') as f:\n",
    "    for line in f:\n",
    "        kpmg_urls.append(line.strip())\n",
    "\n",
    "print(len(kpmg_urls),\n",
    "      '\\n',\n",
    "     kpmg_urls[199])"
   ]
  },
  {
   "cell_type": "code",
   "execution_count": 4,
   "metadata": {},
   "outputs": [],
   "source": [
    "urllist = kpmg_urls"
   ]
  },
  {
   "cell_type": "markdown",
   "metadata": {},
   "source": [
    "### Testing one page"
   ]
  },
  {
   "cell_type": "code",
   "execution_count": 5,
   "metadata": {},
   "outputs": [],
   "source": [
    "page_url = urllist[0]"
   ]
  },
  {
   "cell_type": "code",
   "execution_count": 6,
   "metadata": {},
   "outputs": [],
   "source": [
    "page_dict = dict()\n",
    "main_dict = dict()"
   ]
  },
  {
   "cell_type": "code",
   "execution_count": 7,
   "metadata": {},
   "outputs": [],
   "source": [
    "text_sel = 'section.module-bodytext.component.bg-white ::text'\n",
    "title_sel = '//meta[contains(@name, \"KPMG_Title\")]/@content'\n",
    "date_sel = '//meta[contains(@http-equiv, \"date\")]/@content'\n",
    "\n",
    "siteno = 1\n",
    "\n",
    "page_html = requests.get(page_url).content\n",
    "page_sel = Selector(text = page_html)\n",
    "\n",
    "page_id = 'site' + str(siteno)\n",
    "page_title = page_sel.xpath(title_sel).extract_first()\n",
    "page_date = page_sel.xpath(date_sel).extract_first()\n",
    "page_dldate = date.today().strftime('%Y/%m/%d')\n",
    "page_text = page_sel.css(text_sel).extract()\n",
    "\n",
    "page_text = ' '.join(page_text)\n",
    "     \n",
    "page_dict['url'] = page_url\n",
    "page_dict['title'] = page_title\n",
    "page_dict['article date'] = page_date\n",
    "page_dict['download date'] = page_dldate\n",
    "page_dict['text'] = page_text\n",
    "\n",
    "main_dict[page_id] = page_dict"
   ]
  },
  {
   "cell_type": "code",
   "execution_count": 8,
   "metadata": {},
   "outputs": [
    {
     "data": {
      "text/plain": [
       "1"
      ]
     },
     "execution_count": 8,
     "metadata": {},
     "output_type": "execute_result"
    }
   ],
   "source": [
    "len(main_dict)"
   ]
  },
  {
   "cell_type": "code",
   "execution_count": 9,
   "metadata": {},
   "outputs": [
    {
     "data": {
      "text/plain": [
       "['https://home.kpmg/xx/en/home/insights/2019/10/unrelenting-focus-on-investment-funds.html',\n",
       " 'https://home.kpmg/xx/en/home/insights/2016/10/global-assignment-policies-and-practices-survey-2016.html',\n",
       " 'https://home.kpmg/xx/en/home/insights/2019/10/bank-of-england-sector-resilience-exercise.html',\n",
       " 'https://home.kpmg/xx/en/home/insights/2019/10/smart-solution-to-an-urgent-challenge-fs.html']"
      ]
     },
     "execution_count": 9,
     "metadata": {},
     "output_type": "execute_result"
    }
   ],
   "source": [
    "urllist_snip = urllist[:4]\n",
    "urllist_snip"
   ]
  },
  {
   "cell_type": "code",
   "execution_count": 10,
   "metadata": {},
   "outputs": [],
   "source": [
    "page_dict = dict()\n",
    "main_dict = dict()"
   ]
  },
  {
   "cell_type": "code",
   "execution_count": 11,
   "metadata": {},
   "outputs": [
    {
     "data": {
      "text/plain": [
       "0"
      ]
     },
     "execution_count": 11,
     "metadata": {},
     "output_type": "execute_result"
    }
   ],
   "source": [
    "len(main_dict)"
   ]
  },
  {
   "cell_type": "code",
   "execution_count": 12,
   "metadata": {},
   "outputs": [
    {
     "name": "stderr",
     "output_type": "stream",
     "text": [
      "2020-01-14 11:42:27 [scrapy.utils.log] INFO: Scrapy 1.8.0 started (bot: scrapybot)\n",
      "2020-01-14 11:42:27 [scrapy.utils.log] INFO: Versions: lxml 4.4.1.0, libxml2 2.9.9, cssselect 1.1.0, parsel 1.5.2, w3lib 1.21.0, Twisted 19.10.0, Python 3.7.4 (default, Aug  9 2019, 18:34:13) [MSC v.1915 64 bit (AMD64)], pyOpenSSL 19.0.0 (OpenSSL 1.1.1d  10 Sep 2019), cryptography 2.7, Platform Windows-10-10.0.16299-SP0\n",
      "2020-01-14 11:42:27 [scrapy.crawler] INFO: Overridden settings: {}\n",
      "2020-01-14 11:42:27 [scrapy.extensions.telnet] INFO: Telnet Password: a09669872966fd60\n",
      "2020-01-14 11:42:27 [scrapy.middleware] INFO: Enabled extensions:\n",
      "['scrapy.extensions.corestats.CoreStats',\n",
      " 'scrapy.extensions.telnet.TelnetConsole',\n",
      " 'scrapy.extensions.logstats.LogStats']\n",
      "2020-01-14 11:42:27 [scrapy.middleware] INFO: Enabled downloader middlewares:\n",
      "['scrapy.downloadermiddlewares.httpauth.HttpAuthMiddleware',\n",
      " 'scrapy.downloadermiddlewares.downloadtimeout.DownloadTimeoutMiddleware',\n",
      " 'scrapy.downloadermiddlewares.defaultheaders.DefaultHeadersMiddleware',\n",
      " 'scrapy.downloadermiddlewares.useragent.UserAgentMiddleware',\n",
      " 'scrapy.downloadermiddlewares.retry.RetryMiddleware',\n",
      " 'scrapy.downloadermiddlewares.redirect.MetaRefreshMiddleware',\n",
      " 'scrapy.downloadermiddlewares.httpcompression.HttpCompressionMiddleware',\n",
      " 'scrapy.downloadermiddlewares.redirect.RedirectMiddleware',\n",
      " 'scrapy.downloadermiddlewares.cookies.CookiesMiddleware',\n",
      " 'scrapy.downloadermiddlewares.httpproxy.HttpProxyMiddleware',\n",
      " 'scrapy.downloadermiddlewares.stats.DownloaderStats']\n",
      "2020-01-14 11:42:27 [scrapy.middleware] INFO: Enabled spider middlewares:\n",
      "['scrapy.spidermiddlewares.httperror.HttpErrorMiddleware',\n",
      " 'scrapy.spidermiddlewares.offsite.OffsiteMiddleware',\n",
      " 'scrapy.spidermiddlewares.referer.RefererMiddleware',\n",
      " 'scrapy.spidermiddlewares.urllength.UrlLengthMiddleware',\n",
      " 'scrapy.spidermiddlewares.depth.DepthMiddleware']\n",
      "2020-01-14 11:42:27 [scrapy.middleware] INFO: Enabled item pipelines:\n",
      "[]\n",
      "2020-01-14 11:42:27 [scrapy.core.engine] INFO: Spider opened\n",
      "2020-01-14 11:42:27 [scrapy.extensions.logstats] INFO: Crawled 0 pages (at 0 pages/min), scraped 0 items (at 0 items/min)\n",
      "2020-01-14 11:42:27 [scrapy.extensions.telnet] INFO: Telnet console listening on 127.0.0.1:6023\n",
      "2020-01-14 11:42:27 [scrapy.core.engine] DEBUG: Crawled (200) <GET https://home.kpmg/xx/en/home/insights/2019/10/bank-of-england-sector-resilience-exercise.html> (referer: None)\n",
      "2020-01-14 11:42:27 [scrapy.core.engine] DEBUG: Crawled (200) <GET https://home.kpmg/xx/en/home/insights/2019/10/unrelenting-focus-on-investment-funds.html> (referer: None)\n",
      "2020-01-14 11:42:27 [scrapy.core.engine] DEBUG: Crawled (200) <GET https://home.kpmg/xx/en/home/insights/2019/10/smart-solution-to-an-urgent-challenge-fs.html> (referer: None)\n",
      "2020-01-14 11:42:27 [scrapy.core.engine] DEBUG: Crawled (200) <GET https://home.kpmg/xx/en/home/insights/2016/10/global-assignment-policies-and-practices-survey-2016.html> (referer: None)\n",
      "2020-01-14 11:42:27 [scrapy.core.engine] DEBUG: Crawled (200) <GET https://home.kpmg/xx/en/home/insights/2019/09/next-generation-banking-technology-and-implications-fs.html> (referer: None)\n",
      "2020-01-14 11:42:27 [urllib3.connectionpool] DEBUG: Starting new HTTPS connection (1): home.kpmg:443\n",
      "2020-01-14 11:42:27 [urllib3.connectionpool] DEBUG: https://home.kpmg:443 \"GET /xx/en/home/insights/2019/10/bank-of-england-sector-resilience-exercise.html HTTP/1.1\" 200 36231\n",
      "2020-01-14 11:42:27 [urllib3.connectionpool] DEBUG: Starting new HTTPS connection (1): home.kpmg:443\n",
      "2020-01-14 11:42:27 [urllib3.connectionpool] DEBUG: https://home.kpmg:443 \"GET /xx/en/home/insights/2019/10/unrelenting-focus-on-investment-funds.html HTTP/1.1\" 200 39334\n",
      "2020-01-14 11:42:27 [urllib3.connectionpool] DEBUG: Starting new HTTPS connection (1): home.kpmg:443\n",
      "2020-01-14 11:42:27 [urllib3.connectionpool] DEBUG: https://home.kpmg:443 \"GET /xx/en/home/insights/2019/10/smart-solution-to-an-urgent-challenge-fs.html HTTP/1.1\" 200 41952\n"
     ]
    },
    {
     "name": "stdout",
     "output_type": "stream",
     "text": [
      "https://home.kpmg/xx/en/home/insights/2019/10/bank-of-england-sector-resilience-exercise.html\n",
      "https://home.kpmg/xx/en/home/insights/2019/10/unrelenting-focus-on-investment-funds.html\n",
      "https://home.kpmg/xx/en/home/insights/2019/10/smart-solution-to-an-urgent-challenge-fs.html\n"
     ]
    },
    {
     "name": "stderr",
     "output_type": "stream",
     "text": [
      "2020-01-14 11:42:27 [urllib3.connectionpool] DEBUG: Starting new HTTPS connection (1): home.kpmg:443\n",
      "2020-01-14 11:42:27 [urllib3.connectionpool] DEBUG: https://home.kpmg:443 \"GET /xx/en/home/insights/2016/10/global-assignment-policies-and-practices-survey-2016.html HTTP/1.1\" 200 36754\n",
      "2020-01-14 11:42:27 [urllib3.connectionpool] DEBUG: Starting new HTTPS connection (1): home.kpmg:443\n",
      "2020-01-14 11:42:28 [urllib3.connectionpool] DEBUG: https://home.kpmg:443 \"GET /xx/en/home/insights/2019/09/next-generation-banking-technology-and-implications-fs.html HTTP/1.1\" 200 40554\n"
     ]
    },
    {
     "name": "stdout",
     "output_type": "stream",
     "text": [
      "https://home.kpmg/xx/en/home/insights/2016/10/global-assignment-policies-and-practices-survey-2016.html\n",
      "https://home.kpmg/xx/en/home/insights/2019/09/next-generation-banking-technology-and-implications-fs.html\n"
     ]
    },
    {
     "name": "stderr",
     "output_type": "stream",
     "text": [
      "2020-01-14 11:42:28 [scrapy.core.engine] DEBUG: Crawled (200) <GET https://home.kpmg/xx/en/home/insights/2019/07/finance-profit-from-making-change-the-norm.html> (referer: None)\n",
      "2020-01-14 11:42:28 [scrapy.core.engine] DEBUG: Crawled (200) <GET https://home.kpmg/xx/en/home/insights/2019/09/kpmg-ifrs-17-testing-application-fs.html> (referer: None)\n",
      "2020-01-14 11:42:28 [scrapy.core.engine] DEBUG: Crawled (200) <GET https://home.kpmg/xx/en/home/insights/2019/08/liquidity-risk-management-fs.html> (referer: None)\n",
      "2020-01-14 11:42:28 [urllib3.connectionpool] DEBUG: Starting new HTTPS connection (1): home.kpmg:443\n",
      "2020-01-14 11:42:28 [urllib3.connectionpool] DEBUG: https://home.kpmg:443 \"GET /xx/en/home/insights/2019/07/finance-profit-from-making-change-the-norm.html HTTP/1.1\" 200 35134\n",
      "2020-01-14 11:42:28 [scrapy.core.engine] DEBUG: Crawled (200) <GET https://home.kpmg/xx/en/home/insights/2019/09/health-related-data-for-better-insurance-products-fs.html> (referer: None)\n",
      "2020-01-14 11:42:28 [scrapy.core.engine] DEBUG: Crawled (200) <GET https://home.kpmg/xx/en/home/insights/2019/09/direct-investing-rethinks-operations-fs.html> (referer: None)\n",
      "2020-01-14 11:42:28 [scrapy.core.engine] DEBUG: Crawled (200) <GET https://home.kpmg/xx/en/home/insights/2019/09/flexibility-for-growth-fs.html> (referer: None)\n",
      "2020-01-14 11:42:28 [urllib3.connectionpool] DEBUG: Starting new HTTPS connection (1): home.kpmg:443\n"
     ]
    },
    {
     "name": "stdout",
     "output_type": "stream",
     "text": [
      "https://home.kpmg/xx/en/home/insights/2019/07/finance-profit-from-making-change-the-norm.html\n",
      "https://home.kpmg/xx/en/home/insights/2019/09/kpmg-ifrs-17-testing-application-fs.html\n"
     ]
    },
    {
     "name": "stderr",
     "output_type": "stream",
     "text": [
      "2020-01-14 11:42:28 [urllib3.connectionpool] DEBUG: https://home.kpmg:443 \"GET /xx/en/home/insights/2019/09/kpmg-ifrs-17-testing-application-fs.html HTTP/1.1\" 200 32699\n",
      "2020-01-14 11:42:28 [urllib3.connectionpool] DEBUG: Starting new HTTPS connection (1): home.kpmg:443\n",
      "2020-01-14 11:42:28 [urllib3.connectionpool] DEBUG: https://home.kpmg:443 \"GET /xx/en/home/insights/2019/08/liquidity-risk-management-fs.html HTTP/1.1\" 200 37708\n",
      "2020-01-14 11:42:29 [scrapy.core.engine] DEBUG: Crawled (200) <GET https://home.kpmg/xx/en/home/insights/2019/07/eu-confirms-approach-to-equivalence.html> (referer: None)\n",
      "2020-01-14 11:42:29 [urllib3.connectionpool] DEBUG: Starting new HTTPS connection (1): home.kpmg:443\n",
      "2020-01-14 11:42:29 [urllib3.connectionpool] DEBUG: https://home.kpmg:443 \"GET /xx/en/home/insights/2019/09/health-related-data-for-better-insurance-products-fs.html HTTP/1.1\" 200 38163\n",
      "2020-01-14 11:42:29 [urllib3.connectionpool] DEBUG: Starting new HTTPS connection (1): home.kpmg:443\n"
     ]
    },
    {
     "name": "stdout",
     "output_type": "stream",
     "text": [
      "https://home.kpmg/xx/en/home/insights/2019/08/liquidity-risk-management-fs.html\n",
      "https://home.kpmg/xx/en/home/insights/2019/09/health-related-data-for-better-insurance-products-fs.html\n",
      "https://home.kpmg/xx/en/home/insights/2019/09/direct-investing-rethinks-operations-fs.html\n"
     ]
    },
    {
     "name": "stderr",
     "output_type": "stream",
     "text": [
      "2020-01-14 11:42:29 [urllib3.connectionpool] DEBUG: https://home.kpmg:443 \"GET /xx/en/home/insights/2019/09/direct-investing-rethinks-operations-fs.html HTTP/1.1\" 200 37124\n",
      "2020-01-14 11:42:29 [urllib3.connectionpool] DEBUG: Starting new HTTPS connection (1): home.kpmg:443\n",
      "2020-01-14 11:42:29 [urllib3.connectionpool] DEBUG: https://home.kpmg:443 \"GET /xx/en/home/insights/2019/09/flexibility-for-growth-fs.html HTTP/1.1\" 200 39502\n",
      "2020-01-14 11:42:29 [scrapy.core.engine] DEBUG: Crawled (200) <GET https://home.kpmg/xx/en/home/insights/2019/07/partnering-with-insurtechs-to-face-latest-mobility-twist-fs.html> (referer: None)\n",
      "2020-01-14 11:42:29 [scrapy.core.engine] DEBUG: Crawled (200) <GET https://home.kpmg/xx/en/home/insights/2019/07/powered-enterprise-epm.html> (referer: None)\n",
      "2020-01-14 11:42:29 [urllib3.connectionpool] DEBUG: Starting new HTTPS connection (1): home.kpmg:443\n",
      "2020-01-14 11:42:29 [urllib3.connectionpool] DEBUG: https://home.kpmg:443 \"GET /xx/en/home/insights/2019/07/eu-confirms-approach-to-equivalence.html HTTP/1.1\" 200 36674\n"
     ]
    },
    {
     "name": "stdout",
     "output_type": "stream",
     "text": [
      "https://home.kpmg/xx/en/home/insights/2019/09/flexibility-for-growth-fs.html\n",
      "https://home.kpmg/xx/en/home/insights/2019/07/eu-confirms-approach-to-equivalence.html\n",
      "https://home.kpmg/xx/en/home/insights/2019/07/partnering-with-insurtechs-to-face-latest-mobility-twist-fs.html"
     ]
    },
    {
     "name": "stderr",
     "output_type": "stream",
     "text": [
      "2020-01-14 11:42:29 [urllib3.connectionpool] DEBUG: Starting new HTTPS connection (1): home.kpmg:443\n",
      "2020-01-14 11:42:29 [urllib3.connectionpool] DEBUG: https://home.kpmg:443 \"GET /xx/en/home/insights/2019/07/partnering-with-insurtechs-to-face-latest-mobility-twist-fs.html HTTP/1.1\" 200 39454\n",
      "2020-01-14 11:42:29 [urllib3.connectionpool] DEBUG: Starting new HTTPS connection (1): home.kpmg:443\n",
      "2020-01-14 11:42:29 [urllib3.connectionpool] DEBUG: https://home.kpmg:443 \"GET /xx/en/home/insights/2019/07/powered-enterprise-epm.html HTTP/1.1\" 200 35479\n",
      "2020-01-14 11:42:29 [scrapy.core.engine] DEBUG: Crawled (200) <GET https://home.kpmg/xx/en/home/insights/2019/07/from-conduct-to-culture-fs.html> (referer: None)\n"
     ]
    },
    {
     "name": "stdout",
     "output_type": "stream",
     "text": [
      "\n",
      "https://home.kpmg/xx/en/home/insights/2019/07/powered-enterprise-epm.html\n"
     ]
    },
    {
     "name": "stderr",
     "output_type": "stream",
     "text": [
      "2020-01-14 11:42:29 [urllib3.connectionpool] DEBUG: Starting new HTTPS connection (1): home.kpmg:443\n",
      "2020-01-14 11:42:29 [urllib3.connectionpool] DEBUG: https://home.kpmg:443 \"GET /xx/en/home/insights/2019/07/from-conduct-to-culture-fs.html HTTP/1.1\" 200 37570\n",
      "2020-01-14 11:42:29 [scrapy.core.engine] DEBUG: Crawled (200) <GET https://home.kpmg/xx/en/home/insights/2019/07/cyber-trust-platform-for-banks-growth.html> (referer: None)\n",
      "2020-01-14 11:42:29 [scrapy.core.engine] DEBUG: Crawled (200) <GET https://home.kpmg/xx/en/home/insights/2019/07/automating-the-prediction-fs.html> (referer: None)\n"
     ]
    },
    {
     "name": "stdout",
     "output_type": "stream",
     "text": [
      "https://home.kpmg/xx/en/home/insights/2019/07/from-conduct-to-culture-fs.html\n"
     ]
    },
    {
     "name": "stderr",
     "output_type": "stream",
     "text": [
      "2020-01-14 11:42:29 [urllib3.connectionpool] DEBUG: Starting new HTTPS connection (1): home.kpmg:443\n",
      "2020-01-14 11:42:29 [urllib3.connectionpool] DEBUG: https://home.kpmg:443 \"GET /xx/en/home/insights/2019/07/cyber-trust-platform-for-banks-growth.html HTTP/1.1\" 200 37598\n",
      "2020-01-14 11:42:30 [urllib3.connectionpool] DEBUG: Starting new HTTPS connection (1): home.kpmg:443\n",
      "2020-01-14 11:42:30 [urllib3.connectionpool] DEBUG: https://home.kpmg:443 \"GET /xx/en/home/insights/2019/07/automating-the-prediction-fs.html HTTP/1.1\" 200 38601\n",
      "2020-01-14 11:42:30 [scrapy.core.engine] DEBUG: Crawled (200) <GET https://home.kpmg/xx/en/home/insights/2019/07/why-procurement-does-not-transform.html> (referer: None)\n"
     ]
    },
    {
     "name": "stdout",
     "output_type": "stream",
     "text": [
      "https://home.kpmg/xx/en/home/insights/2019/07/cyber-trust-platform-for-banks-growth.html\n",
      "https://home.kpmg/xx/en/home/insights/2019/07/automating-the-prediction-fs.html\n"
     ]
    },
    {
     "name": "stderr",
     "output_type": "stream",
     "text": [
      "2020-01-14 11:42:30 [scrapy.core.engine] DEBUG: Crawled (200) <GET https://home.kpmg/xx/en/home/insights/2019/07/powered-enterprise-finance.html> (referer: None)\n",
      "2020-01-14 11:42:30 [urllib3.connectionpool] DEBUG: Starting new HTTPS connection (1): home.kpmg:443\n",
      "2020-01-14 11:42:30 [urllib3.connectionpool] DEBUG: https://home.kpmg:443 \"GET /xx/en/home/insights/2019/07/why-procurement-does-not-transform.html HTTP/1.1\" 200 34739\n",
      "2020-01-14 11:42:30 [urllib3.connectionpool] DEBUG: Starting new HTTPS connection (1): home.kpmg:443\n",
      "2020-01-14 11:42:30 [urllib3.connectionpool] DEBUG: https://home.kpmg:443 \"GET /xx/en/home/insights/2019/07/powered-enterprise-finance.html HTTP/1.1\" 200 35899\n",
      "2020-01-14 11:42:30 [scrapy.core.engine] DEBUG: Crawled (200) <GET https://home.kpmg/xx/en/home/insights/2019/07/hr-under-pressure-to-act.html> (referer: None)\n"
     ]
    },
    {
     "name": "stdout",
     "output_type": "stream",
     "text": [
      "https://home.kpmg/xx/en/home/insights/2019/07/why-procurement-does-not-transform.html\n",
      "https://home.kpmg/xx/en/home/insights/2019/07/powered-enterprise-finance.html\n"
     ]
    },
    {
     "name": "stderr",
     "output_type": "stream",
     "text": [
      "2020-01-14 11:42:30 [scrapy.core.engine] DEBUG: Crawled (200) <GET https://home.kpmg/xx/en/home/insights/2019/07/powered-enterprise-hr.html> (referer: None)\n",
      "2020-01-14 11:42:30 [scrapy.core.engine] DEBUG: Crawled (200) <GET https://home.kpmg/xx/en/home/insights/2019/07/powered-enterprise-it.html> (referer: None)\n",
      "2020-01-14 11:42:30 [urllib3.connectionpool] DEBUG: Starting new HTTPS connection (1): home.kpmg:443\n",
      "2020-01-14 11:42:30 [urllib3.connectionpool] DEBUG: https://home.kpmg:443 \"GET /xx/en/home/insights/2019/07/hr-under-pressure-to-act.html HTTP/1.1\" 200 36607\n",
      "2020-01-14 11:42:30 [scrapy.core.engine] DEBUG: Crawled (200) <GET https://home.kpmg/xx/en/home/insights/2019/07/powered-enterprise-procurement.html> (referer: None)\n",
      "2020-01-14 11:42:30 [urllib3.connectionpool] DEBUG: Starting new HTTPS connection (1): home.kpmg:443\n",
      "2020-01-14 11:42:30 [urllib3.connectionpool] DEBUG: https://home.kpmg:443 \"GET /xx/en/home/insights/2019/07/powered-enterprise-hr.html HTTP/1.1\" 200 36312\n"
     ]
    },
    {
     "name": "stdout",
     "output_type": "stream",
     "text": [
      "https://home.kpmg/xx/en/home/insights/2019/07/hr-under-pressure-to-act.html\n",
      "https://home.kpmg/xx/en/home/insights/2019/07/powered-enterprise-hr.html\n",
      "https://home.kpmg/xx/en/home/insights/2019/07/powered-enterprise-it.html"
     ]
    },
    {
     "name": "stderr",
     "output_type": "stream",
     "text": [
      "2020-01-14 11:42:30 [urllib3.connectionpool] DEBUG: Starting new HTTPS connection (1): home.kpmg:443\n",
      "2020-01-14 11:42:30 [urllib3.connectionpool] DEBUG: https://home.kpmg:443 \"GET /xx/en/home/insights/2019/07/powered-enterprise-it.html HTTP/1.1\" 200 32131\n",
      "2020-01-14 11:42:30 [urllib3.connectionpool] DEBUG: Starting new HTTPS connection (1): home.kpmg:443\n",
      "2020-01-14 11:42:30 [urllib3.connectionpool] DEBUG: https://home.kpmg:443 \"GET /xx/en/home/insights/2019/07/powered-enterprise-procurement.html HTTP/1.1\" 200 35997\n"
     ]
    },
    {
     "name": "stdout",
     "output_type": "stream",
     "text": [
      "\n",
      "https://home.kpmg/xx/en/home/insights/2019/07/powered-enterprise-procurement.html\n"
     ]
    },
    {
     "name": "stderr",
     "output_type": "stream",
     "text": [
      "2020-01-14 11:42:30 [scrapy.core.engine] DEBUG: Crawled (200) <GET https://home.kpmg/xx/en/home/insights/2019/07/powered-enterprise-sales-and-service.html> (referer: None)\n",
      "2020-01-14 11:42:30 [scrapy.core.engine] DEBUG: Crawled (200) <GET https://home.kpmg/xx/en/home/insights/2019/07/powered-enterprise-scm.html> (referer: None)\n",
      "2020-01-14 11:42:31 [urllib3.connectionpool] DEBUG: Starting new HTTPS connection (1): home.kpmg:443\n",
      "2020-01-14 11:42:31 [urllib3.connectionpool] DEBUG: https://home.kpmg:443 \"GET /xx/en/home/insights/2019/07/powered-enterprise-sales-and-service.html HTTP/1.1\" 200 34975\n",
      "2020-01-14 11:42:31 [urllib3.connectionpool] DEBUG: Starting new HTTPS connection (1): home.kpmg:443\n",
      "2020-01-14 11:42:31 [urllib3.connectionpool] DEBUG: https://home.kpmg:443 \"GET /xx/en/home/insights/2019/07/powered-enterprise-scm.html HTTP/1.1\" 200 35213\n"
     ]
    },
    {
     "name": "stdout",
     "output_type": "stream",
     "text": [
      "https://home.kpmg/xx/en/home/insights/2019/07/powered-enterprise-sales-and-service.html\n",
      "https://home.kpmg/xx/en/home/insights/2019/07/powered-enterprise-scm.html\n"
     ]
    },
    {
     "name": "stderr",
     "output_type": "stream",
     "text": [
      "2020-01-14 11:42:31 [scrapy.core.engine] DEBUG: Crawled (200) <GET https://home.kpmg/xx/en/home/insights/2019/07/five-steps-to-future-ready-procurement.html> (referer: None)\n",
      "2020-01-14 11:42:31 [scrapy.core.engine] DEBUG: Crawled (200) <GET https://home.kpmg/xx/en/home/insights/2019/06/smarter-way-to-authenticate-customers-fs.html> (referer: None)\n",
      "2020-01-14 11:42:31 [urllib3.connectionpool] DEBUG: Starting new HTTPS connection (1): home.kpmg:443\n",
      "2020-01-14 11:42:31 [urllib3.connectionpool] DEBUG: https://home.kpmg:443 \"GET /xx/en/home/insights/2019/07/five-steps-to-future-ready-procurement.html HTTP/1.1\" 200 35625\n",
      "2020-01-14 11:42:31 [scrapy.core.engine] DEBUG: Crawled (200) <GET https://home.kpmg/xx/en/home/insights/2019/06/libor-to-rfr-transition.html> (referer: None)\n",
      "2020-01-14 11:42:31 [urllib3.connectionpool] DEBUG: Starting new HTTPS connection (1): home.kpmg:443\n",
      "2020-01-14 11:42:31 [urllib3.connectionpool] DEBUG: https://home.kpmg:443 \"GET /xx/en/home/insights/2019/06/smarter-way-to-authenticate-customers-fs.html HTTP/1.1\" 200 38917\n"
     ]
    },
    {
     "name": "stdout",
     "output_type": "stream",
     "text": [
      "https://home.kpmg/xx/en/home/insights/2019/07/five-steps-to-future-ready-procurement.html\n",
      "https://home.kpmg/xx/en/home/insights/2019/06/smarter-way-to-authenticate-customers-fs.html\n"
     ]
    },
    {
     "name": "stderr",
     "output_type": "stream",
     "text": [
      "2020-01-14 11:42:31 [scrapy.core.engine] DEBUG: Crawled (200) <GET https://home.kpmg/xx/en/home/insights/2019/05/investors-esg-demands-drive-regulation-fs.html> (referer: None)\n",
      "2020-01-14 11:42:31 [urllib3.connectionpool] DEBUG: Starting new HTTPS connection (1): home.kpmg:443\n",
      "2020-01-14 11:42:31 [urllib3.connectionpool] DEBUG: https://home.kpmg:443 \"GET /xx/en/home/insights/2019/06/libor-to-rfr-transition.html HTTP/1.1\" 200 37205\n",
      "2020-01-14 11:42:31 [scrapy.core.engine] DEBUG: Crawled (200) <GET https://home.kpmg/xx/en/home/insights/2019/06/bringing-bancassurance-into-the-digital-era-fs.html> (referer: None)\n",
      "2020-01-14 11:42:31 [scrapy.core.engine] DEBUG: Crawled (200) <GET https://home.kpmg/xx/en/home/insights/2019/06/super-app-or-super-disruption.html> (referer: None)\n",
      "2020-01-14 11:42:31 [urllib3.connectionpool] DEBUG: Starting new HTTPS connection (1): home.kpmg:443\n",
      "2020-01-14 11:42:31 [urllib3.connectionpool] DEBUG: https://home.kpmg:443 \"GET /xx/en/home/insights/2019/05/investors-esg-demands-drive-regulation-fs.html HTTP/1.1\" 200 38565\n"
     ]
    },
    {
     "name": "stdout",
     "output_type": "stream",
     "text": [
      "https://home.kpmg/xx/en/home/insights/2019/06/libor-to-rfr-transition.html\n",
      "https://home.kpmg/xx/en/home/insights/2019/05/investors-esg-demands-drive-regulation-fs.html\n",
      "https://home.kpmg/xx/en/home/insights/2019/06/bringing-bancassurance-into-the-digital-era-fs.html"
     ]
    },
    {
     "name": "stderr",
     "output_type": "stream",
     "text": [
      "2020-01-14 11:42:31 [urllib3.connectionpool] DEBUG: Starting new HTTPS connection (1): home.kpmg:443\n",
      "2020-01-14 11:42:31 [urllib3.connectionpool] DEBUG: https://home.kpmg:443 \"GET /xx/en/home/insights/2019/06/bringing-bancassurance-into-the-digital-era-fs.html HTTP/1.1\" 200 37708\n",
      "2020-01-14 11:42:31 [urllib3.connectionpool] DEBUG: Starting new HTTPS connection (1): home.kpmg:443\n",
      "2020-01-14 11:42:31 [urllib3.connectionpool] DEBUG: https://home.kpmg:443 \"GET /xx/en/home/insights/2019/06/super-app-or-super-disruption.html HTTP/1.1\" 200 39172\n",
      "2020-01-14 11:42:31 [scrapy.core.engine] DEBUG: Crawled (200) <GET https://home.kpmg/xx/en/home/insights/2019/06/2019-change-readiness-index-key-findings.html> (referer: None)\n"
     ]
    },
    {
     "name": "stdout",
     "output_type": "stream",
     "text": [
      "\n",
      "https://home.kpmg/xx/en/home/insights/2019/06/super-app-or-super-disruption.html\n"
     ]
    },
    {
     "name": "stderr",
     "output_type": "stream",
     "text": [
      "2020-01-14 11:42:32 [urllib3.connectionpool] DEBUG: Starting new HTTPS connection (1): home.kpmg:443\n",
      "2020-01-14 11:42:32 [urllib3.connectionpool] DEBUG: https://home.kpmg:443 \"GET /xx/en/home/insights/2019/06/2019-change-readiness-index-key-findings.html HTTP/1.1\" 200 36039\n",
      "2020-01-14 11:42:32 [scrapy.core.engine] DEBUG: Crawled (200) <GET https://home.kpmg/xx/en/home/insights/2019/06/2019-change-readiness-index-methodology.html> (referer: None)\n",
      "2020-01-14 11:42:32 [scrapy.core.engine] DEBUG: Crawled (200) <GET https://home.kpmg/xx/en/home/insights/2019/06/2019-change-readiness-index-heat-map.html> (referer: None)\n"
     ]
    },
    {
     "name": "stdout",
     "output_type": "stream",
     "text": [
      "https://home.kpmg/xx/en/home/insights/2019/06/2019-change-readiness-index-key-findings.html\n"
     ]
    },
    {
     "name": "stderr",
     "output_type": "stream",
     "text": [
      "2020-01-14 11:42:32 [scrapy.core.engine] DEBUG: Crawled (200) <GET https://home.kpmg/xx/en/home/insights/2019/04/dont-doubt-the-data.html> (referer: None)\n",
      "2020-01-14 11:42:32 [urllib3.connectionpool] DEBUG: Starting new HTTPS connection (1): home.kpmg:443\n",
      "2020-01-14 11:42:32 [urllib3.connectionpool] DEBUG: https://home.kpmg:443 \"GET /xx/en/home/insights/2019/06/2019-change-readiness-index-methodology.html HTTP/1.1\" 200 39399\n",
      "2020-01-14 11:42:32 [scrapy.core.engine] DEBUG: Crawled (200) <GET https://home.kpmg/xx/en/home/insights/2019/06/2019-change-readiness-index-executive-summary.html> (referer: None)\n",
      "2020-01-14 11:42:32 [urllib3.connectionpool] DEBUG: Starting new HTTPS connection (1): home.kpmg:443\n",
      "2020-01-14 11:42:32 [urllib3.connectionpool] DEBUG: https://home.kpmg:443 \"GET /xx/en/home/insights/2019/06/2019-change-readiness-index-heat-map.html HTTP/1.1\" 200 38050\n"
     ]
    },
    {
     "name": "stdout",
     "output_type": "stream",
     "text": [
      "https://home.kpmg/xx/en/home/insights/2019/06/2019-change-readiness-index-methodology.html\n",
      "https://home.kpmg/xx/en/home/insights/2019/06/2019-change-readiness-index-heat-map.html\n",
      "https://home.kpmg/xx/en/home/insights/2019/04/dont-doubt-the-data.html\n"
     ]
    },
    {
     "name": "stderr",
     "output_type": "stream",
     "text": [
      "2020-01-14 11:42:32 [urllib3.connectionpool] DEBUG: Starting new HTTPS connection (1): home.kpmg:443\n",
      "2020-01-14 11:42:32 [urllib3.connectionpool] DEBUG: https://home.kpmg:443 \"GET /xx/en/home/insights/2019/04/dont-doubt-the-data.html HTTP/1.1\" 200 37534\n",
      "2020-01-14 11:42:32 [urllib3.connectionpool] DEBUG: Starting new HTTPS connection (1): home.kpmg:443\n",
      "2020-01-14 11:42:32 [urllib3.connectionpool] DEBUG: https://home.kpmg:443 \"GET /xx/en/home/insights/2019/06/2019-change-readiness-index-executive-summary.html HTTP/1.1\" 200 36087\n",
      "2020-01-14 11:42:32 [scrapy.core.engine] DEBUG: Crawled (200) <GET https://home.kpmg/xx/en/home/insights/2019/05/kpmg-global-services-hungary.html> (referer: None)\n"
     ]
    },
    {
     "name": "stdout",
     "output_type": "stream",
     "text": [
      "https://home.kpmg/xx/en/home/insights/2019/06/2019-change-readiness-index-executive-summary.html\n"
     ]
    },
    {
     "name": "stderr",
     "output_type": "stream",
     "text": [
      "2020-01-14 11:42:32 [scrapy.core.engine] DEBUG: Crawled (200) <GET https://home.kpmg/xx/en/home/insights/2019/05/insuring-the-gig-economy.html> (referer: None)\n",
      "2020-01-14 11:42:32 [urllib3.connectionpool] DEBUG: Starting new HTTPS connection (1): home.kpmg:443\n",
      "2020-01-14 11:42:32 [urllib3.connectionpool] DEBUG: https://home.kpmg:443 \"GET /xx/en/home/insights/2019/05/kpmg-global-services-hungary.html HTTP/1.1\" 200 34864\n",
      "2020-01-14 11:42:32 [scrapy.core.engine] DEBUG: Crawled (200) <GET https://home.kpmg/xx/en/home/insights/2019/05/open-banking-for-greater-customer-value-fs.html> (referer: None)\n",
      "2020-01-14 11:42:32 [scrapy.core.engine] DEBUG: Crawled (200) <GET https://home.kpmg/xx/en/home/insights/2019/05/insurtech-insights-archive.html> (referer: None)\n",
      "2020-01-14 11:42:32 [urllib3.connectionpool] DEBUG: Starting new HTTPS connection (1): home.kpmg:443\n",
      "2020-01-14 11:42:32 [urllib3.connectionpool] DEBUG: https://home.kpmg:443 \"GET /xx/en/home/insights/2019/05/insuring-the-gig-economy.html HTTP/1.1\" 200 38459\n"
     ]
    },
    {
     "name": "stdout",
     "output_type": "stream",
     "text": [
      "https://home.kpmg/xx/en/home/insights/2019/05/kpmg-global-services-hungary.html\n",
      "https://home.kpmg/xx/en/home/insights/2019/05/insuring-the-gig-economy.html\n"
     ]
    },
    {
     "name": "stderr",
     "output_type": "stream",
     "text": [
      "2020-01-14 11:42:32 [urllib3.connectionpool] DEBUG: Starting new HTTPS connection (1): home.kpmg:443\n",
      "2020-01-14 11:42:32 [urllib3.connectionpool] DEBUG: https://home.kpmg:443 \"GET /xx/en/home/insights/2019/05/open-banking-for-greater-customer-value-fs.html HTTP/1.1\" 200 40887\n",
      "2020-01-14 11:42:33 [scrapy.core.engine] DEBUG: Crawled (200) <GET https://home.kpmg/xx/en/home/insights/2019/04/does-bankings-future-now-outweigh-its-past-fs.html> (referer: None)\n",
      "2020-01-14 11:42:33 [scrapy.core.engine] DEBUG: Crawled (200) <GET https://home.kpmg/xx/en/home/insights/2019/04/powering-insurance-with-ai-fs.html> (referer: None)\n",
      "2020-01-14 11:42:33 [urllib3.connectionpool] DEBUG: Starting new HTTPS connection (1): home.kpmg:443\n"
     ]
    },
    {
     "name": "stdout",
     "output_type": "stream",
     "text": [
      "https://home.kpmg/xx/en/home/insights/2019/05/open-banking-for-greater-customer-value-fs.html\n",
      "https://home.kpmg/xx/en/home/insights/2019/05/insurtech-insights-archive.html\n"
     ]
    },
    {
     "name": "stderr",
     "output_type": "stream",
     "text": [
      "2020-01-14 11:42:33 [urllib3.connectionpool] DEBUG: https://home.kpmg:443 \"GET /xx/en/home/insights/2019/05/insurtech-insights-archive.html HTTP/1.1\" 200 36178\n",
      "2020-01-14 11:42:33 [urllib3.connectionpool] DEBUG: Starting new HTTPS connection (1): home.kpmg:443\n",
      "2020-01-14 11:42:33 [urllib3.connectionpool] DEBUG: https://home.kpmg:443 \"GET /xx/en/home/insights/2019/04/does-bankings-future-now-outweigh-its-past-fs.html HTTP/1.1\" 200 37362\n",
      "2020-01-14 11:42:33 [urllib3.connectionpool] DEBUG: Starting new HTTPS connection (1): home.kpmg:443\n",
      "2020-01-14 11:42:33 [urllib3.connectionpool] DEBUG: https://home.kpmg:443 \"GET /xx/en/home/insights/2019/04/powering-insurance-with-ai-fs.html HTTP/1.1\" 200 37553\n"
     ]
    },
    {
     "name": "stdout",
     "output_type": "stream",
     "text": [
      "https://home.kpmg/xx/en/home/insights/2019/04/does-bankings-future-now-outweigh-its-past-fs.html\n",
      "https://home.kpmg/xx/en/home/insights/2019/04/powering-insurance-with-ai-fs.html\n"
     ]
    },
    {
     "name": "stderr",
     "output_type": "stream",
     "text": [
      "2020-01-14 11:42:33 [scrapy.core.engine] DEBUG: Crawled (200) <GET https://home.kpmg/xx/en/home/insights/2019/04/meeting-healthcare-challenges-in-brazil.html> (referer: None)\n",
      "2020-01-14 11:42:33 [scrapy.core.engine] DEBUG: Crawled (200) <GET https://home.kpmg/xx/en/home/insights/2019/04/institutional-investors-using-data-to-compete-and-win-fs.html> (referer: None)\n",
      "2020-01-14 11:42:33 [scrapy.core.engine] DEBUG: Crawled (200) <GET https://home.kpmg/xx/en/home/insights/2019/05/tax-is-being-reimagined-for-todays-world.html> (referer: None)\n",
      "2020-01-14 11:42:33 [urllib3.connectionpool] DEBUG: Starting new HTTPS connection (1): home.kpmg:443\n",
      "2020-01-14 11:42:33 [urllib3.connectionpool] DEBUG: https://home.kpmg:443 \"GET /xx/en/home/insights/2019/04/meeting-healthcare-challenges-in-brazil.html HTTP/1.1\" 200 39915\n",
      "2020-01-14 11:42:33 [urllib3.connectionpool] DEBUG: Starting new HTTPS connection (1): home.kpmg:443\n",
      "2020-01-14 11:42:33 [urllib3.connectionpool] DEBUG: https://home.kpmg:443 \"GET /xx/en/home/insights/2019/04/institutional-investors-using-data-to-compete-and-win-fs.html HTTP/1.1\" 200 37434\n",
      "2020-01-14 11:42:33 [urllib3.connectionpool] DEBUG: Starting new HTTPS connection (1): home.kpmg:443\n"
     ]
    },
    {
     "name": "stdout",
     "output_type": "stream",
     "text": [
      "https://home.kpmg/xx/en/home/insights/2019/04/meeting-healthcare-challenges-in-brazil.html\n",
      "https://home.kpmg/xx/en/home/insights/2019/04/institutional-investors-using-data-to-compete-and-win-fs.html\n",
      "https://home.kpmg/xx/en/home/insights/2019/05/tax-is-being-reimagined-for-todays-world.html\n"
     ]
    },
    {
     "name": "stderr",
     "output_type": "stream",
     "text": [
      "2020-01-14 11:42:33 [urllib3.connectionpool] DEBUG: https://home.kpmg:443 \"GET /xx/en/home/insights/2019/05/tax-is-being-reimagined-for-todays-world.html HTTP/1.1\" 200 35219\n",
      "2020-01-14 11:42:33 [scrapy.core.engine] DEBUG: Crawled (200) <GET https://home.kpmg/xx/en/home/insights/2019/05/tax-reimagined-in-practice.html> (referer: None)\n",
      "2020-01-14 11:42:33 [scrapy.core.engine] DEBUG: Crawled (200) <GET https://home.kpmg/xx/en/home/insights/2019/04/fca-business-plan-2019-20.html> (referer: None)\n",
      "2020-01-14 11:42:33 [urllib3.connectionpool] DEBUG: Starting new HTTPS connection (1): home.kpmg:443\n",
      "2020-01-14 11:42:33 [urllib3.connectionpool] DEBUG: https://home.kpmg:443 \"GET /xx/en/home/insights/2019/05/tax-reimagined-in-practice.html HTTP/1.1\" 200 32835\n",
      "2020-01-14 11:42:34 [scrapy.core.engine] DEBUG: Crawled (200) <GET https://home.kpmg/xx/en/home/insights/2019/04/digital-gravity.html> (referer: None)\n",
      "2020-01-14 11:42:34 [scrapy.core.engine] DEBUG: Crawled (200) <GET https://home.kpmg/xx/en/home/insights/2019/04/rfr-regulation-round-up-april-2019.html> (referer: None)\n",
      "2020-01-14 11:42:34 [urllib3.connectionpool] DEBUG: Starting new HTTPS connection (1): home.kpmg:443\n"
     ]
    },
    {
     "name": "stdout",
     "output_type": "stream",
     "text": [
      "https://home.kpmg/xx/en/home/insights/2019/05/tax-reimagined-in-practice.html\n",
      "https://home.kpmg/xx/en/home/insights/2019/04/fca-business-plan-2019-20.html\n"
     ]
    },
    {
     "name": "stderr",
     "output_type": "stream",
     "text": [
      "2020-01-14 11:42:34 [urllib3.connectionpool] DEBUG: https://home.kpmg:443 \"GET /xx/en/home/insights/2019/04/fca-business-plan-2019-20.html HTTP/1.1\" 200 40251\n",
      "2020-01-14 11:42:34 [scrapy.core.engine] DEBUG: Crawled (200) <GET https://home.kpmg/xx/en/home/insights/2019/04/a-patient-driven-revolution.html> (referer: None)\n",
      "2020-01-14 11:42:34 [urllib3.connectionpool] DEBUG: Starting new HTTPS connection (1): home.kpmg:443\n",
      "2020-01-14 11:42:34 [urllib3.connectionpool] DEBUG: https://home.kpmg:443 \"GET /xx/en/home/insights/2019/04/digital-gravity.html HTTP/1.1\" 200 34548\n",
      "2020-01-14 11:42:34 [urllib3.connectionpool] DEBUG: Starting new HTTPS connection (1): home.kpmg:443\n",
      "2020-01-14 11:42:34 [urllib3.connectionpool] DEBUG: https://home.kpmg:443 \"GET /xx/en/home/insights/2019/04/rfr-regulation-round-up-april-2019.html HTTP/1.1\" 200 38481\n"
     ]
    },
    {
     "name": "stdout",
     "output_type": "stream",
     "text": [
      "https://home.kpmg/xx/en/home/insights/2019/04/digital-gravity.html\n",
      "https://home.kpmg/xx/en/home/insights/2019/04/rfr-regulation-round-up-april-2019.html\n",
      "https://home.kpmg/xx/en/home/insights/2019/04/a-patient-driven-revolution.html\n"
     ]
    },
    {
     "name": "stderr",
     "output_type": "stream",
     "text": [
      "2020-01-14 11:42:34 [urllib3.connectionpool] DEBUG: Starting new HTTPS connection (1): home.kpmg:443\n",
      "2020-01-14 11:42:34 [urllib3.connectionpool] DEBUG: https://home.kpmg:443 \"GET /xx/en/home/insights/2019/04/a-patient-driven-revolution.html HTTP/1.1\" 200 40850\n",
      "2020-01-14 11:42:34 [scrapy.core.engine] DEBUG: Crawled (200) <GET https://home.kpmg/xx/en/home/insights/2019/03/the-retirement-savings-market.html> (referer: None)\n",
      "2020-01-14 11:42:34 [scrapy.core.engine] DEBUG: Crawled (200) <GET https://home.kpmg/xx/en/home/insights/2019/04/prioritizing-patient-experiences-in-health.html> (referer: None)\n",
      "2020-01-14 11:42:34 [scrapy.core.engine] DEBUG: Crawled (200) <GET https://home.kpmg/xx/en/home/insights/2019/03/taking-the-next-steps-towards-i-a.html> (referer: None)\n",
      "2020-01-14 11:42:34 [urllib3.connectionpool] DEBUG: Starting new HTTPS connection (1): home.kpmg:443\n",
      "2020-01-14 11:42:34 [urllib3.connectionpool] DEBUG: https://home.kpmg:443 \"GET /xx/en/home/insights/2019/03/the-retirement-savings-market.html HTTP/1.1\" 200 37774\n",
      "2020-01-14 11:42:34 [urllib3.connectionpool] DEBUG: Starting new HTTPS connection (1): home.kpmg:443\n",
      "2020-01-14 11:42:34 [urllib3.connectionpool] DEBUG: https://home.kpmg:443 \"GET /xx/en/home/insights/2019/04/prioritizing-patient-experiences-in-health.html HTTP/1.1\" 200 40507\n"
     ]
    },
    {
     "name": "stdout",
     "output_type": "stream",
     "text": [
      "https://home.kpmg/xx/en/home/insights/2019/03/the-retirement-savings-market.html\n",
      "https://home.kpmg/xx/en/home/insights/2019/04/prioritizing-patient-experiences-in-health.html\n"
     ]
    },
    {
     "name": "stderr",
     "output_type": "stream",
     "text": [
      "2020-01-14 11:42:34 [urllib3.connectionpool] DEBUG: Starting new HTTPS connection (1): home.kpmg:443\n",
      "2020-01-14 11:42:34 [urllib3.connectionpool] DEBUG: https://home.kpmg:443 \"GET /xx/en/home/insights/2019/03/taking-the-next-steps-towards-i-a.html HTTP/1.1\" 200 36051\n",
      "2020-01-14 11:42:34 [scrapy.core.engine] DEBUG: Crawled (200) <GET https://home.kpmg/xx/en/home/insights/2019/03/ramping-up-investment.html> (referer: None)\n",
      "2020-01-14 11:42:34 [scrapy.core.engine] DEBUG: Crawled (200) <GET https://home.kpmg/xx/en/home/insights/2019/03/the-alignment-gap.html> (referer: None)\n",
      "2020-01-14 11:42:35 [scrapy.core.engine] DEBUG: Crawled (200) <GET https://home.kpmg/xx/en/home/insights/2019/03/having-the-capabilities-and-talent-to-win.html> (referer: None)\n"
     ]
    },
    {
     "name": "stdout",
     "output_type": "stream",
     "text": [
      "https://home.kpmg/xx/en/home/insights/2019/03/taking-the-next-steps-towards-i-a.html\n"
     ]
    },
    {
     "name": "stderr",
     "output_type": "stream",
     "text": [
      "2020-01-14 11:42:35 [urllib3.connectionpool] DEBUG: Starting new HTTPS connection (1): home.kpmg:443\n",
      "2020-01-14 11:42:35 [urllib3.connectionpool] DEBUG: https://home.kpmg:443 \"GET /xx/en/home/insights/2019/03/ramping-up-investment.html HTTP/1.1\" 200 35855\n",
      "2020-01-14 11:42:35 [urllib3.connectionpool] DEBUG: Starting new HTTPS connection (1): home.kpmg:443\n",
      "2020-01-14 11:42:35 [urllib3.connectionpool] DEBUG: https://home.kpmg:443 \"GET /xx/en/home/insights/2019/03/the-alignment-gap.html HTTP/1.1\" 200 35561\n"
     ]
    },
    {
     "name": "stdout",
     "output_type": "stream",
     "text": [
      "https://home.kpmg/xx/en/home/insights/2019/03/ramping-up-investment.html\n",
      "https://home.kpmg/xx/en/home/insights/2019/03/the-alignment-gap.html\n",
      "https://home.kpmg/xx/en/home/insights/2019/03/having-the-capabilities-and-talent-to-win.html\n"
     ]
    },
    {
     "name": "stderr",
     "output_type": "stream",
     "text": [
      "2020-01-14 11:42:35 [urllib3.connectionpool] DEBUG: Starting new HTTPS connection (1): home.kpmg:443\n",
      "2020-01-14 11:42:35 [urllib3.connectionpool] DEBUG: https://home.kpmg:443 \"GET /xx/en/home/insights/2019/03/having-the-capabilities-and-talent-to-win.html HTTP/1.1\" 200 36039\n",
      "2020-01-14 11:42:35 [scrapy.core.engine] DEBUG: Crawled (200) <GET https://home.kpmg/xx/en/home/insights/2019/03/adoption-on-the-rise.html> (referer: None)\n",
      "2020-01-14 11:42:35 [scrapy.core.engine] DEBUG: Crawled (200) <GET https://home.kpmg/xx/en/home/insights/2019/03/finding-new-sources-of-talent.html> (referer: None)\n",
      "2020-01-14 11:42:35 [scrapy.core.engine] DEBUG: Crawled (200) <GET https://home.kpmg/xx/en/home/insights/2019/03/consumer-and-retail-archive.html> (referer: None)\n",
      "2020-01-14 11:42:35 [urllib3.connectionpool] DEBUG: Starting new HTTPS connection (1): home.kpmg:443\n",
      "2020-01-14 11:42:35 [urllib3.connectionpool] DEBUG: https://home.kpmg:443 \"GET /xx/en/home/insights/2019/03/adoption-on-the-rise.html HTTP/1.1\" 200 36265\n",
      "2020-01-14 11:42:35 [scrapy.core.engine] DEBUG: Crawled (200) <GET https://home.kpmg/xx/en/home/insights/2019/03/three-keys-to-success.html> (referer: None)\n",
      "2020-01-14 11:42:35 [scrapy.core.engine] DEBUG: Crawled (200) <GET https://home.kpmg/xx/en/home/insights/2019/03/looking-beyond-the-cost-savings.html> (referer: None)\n",
      "2020-01-14 11:42:35 [urllib3.connectionpool] DEBUG: Starting new HTTPS connection (1): home.kpmg:443\n"
     ]
    },
    {
     "name": "stdout",
     "output_type": "stream",
     "text": [
      "https://home.kpmg/xx/en/home/insights/2019/03/adoption-on-the-rise.html\n",
      "https://home.kpmg/xx/en/home/insights/2019/03/finding-new-sources-of-talent.html\n"
     ]
    },
    {
     "name": "stderr",
     "output_type": "stream",
     "text": [
      "2020-01-14 11:42:35 [urllib3.connectionpool] DEBUG: https://home.kpmg:443 \"GET /xx/en/home/insights/2019/03/finding-new-sources-of-talent.html HTTP/1.1\" 200 36167\n",
      "2020-01-14 11:42:35 [urllib3.connectionpool] DEBUG: Starting new HTTPS connection (1): home.kpmg:443\n",
      "2020-01-14 11:42:35 [urllib3.connectionpool] DEBUG: https://home.kpmg:443 \"GET /xx/en/home/insights/2019/03/consumer-and-retail-archive.html HTTP/1.1\" 200 35808\n",
      "2020-01-14 11:42:35 [scrapy.core.engine] DEBUG: Crawled (200) <GET https://home.kpmg/xx/en/home/insights/2019/03/look-toward-the-workforce-of-tomorrow.html> (referer: None)\n",
      "2020-01-14 11:42:35 [urllib3.connectionpool] DEBUG: Starting new HTTPS connection (1): home.kpmg:443\n",
      "2020-01-14 11:42:35 [urllib3.connectionpool] DEBUG: https://home.kpmg:443 \"GET /xx/en/home/insights/2019/03/three-keys-to-success.html HTTP/1.1\" 200 36476\n",
      "2020-01-14 11:42:35 [urllib3.connectionpool] DEBUG: Starting new HTTPS connection (1): home.kpmg:443\n"
     ]
    },
    {
     "name": "stdout",
     "output_type": "stream",
     "text": [
      "https://home.kpmg/xx/en/home/insights/2019/03/consumer-and-retail-archive.html\n",
      "https://home.kpmg/xx/en/home/insights/2019/03/three-keys-to-success.html\n",
      "https://home.kpmg/xx/en/home/insights/2019/03/looking-beyond-the-cost-savings.html\n"
     ]
    },
    {
     "name": "stderr",
     "output_type": "stream",
     "text": [
      "2020-01-14 11:42:35 [urllib3.connectionpool] DEBUG: https://home.kpmg:443 \"GET /xx/en/home/insights/2019/03/looking-beyond-the-cost-savings.html HTTP/1.1\" 200 36138\n",
      "2020-01-14 11:42:35 [urllib3.connectionpool] DEBUG: Starting new HTTPS connection (1): home.kpmg:443\n",
      "2020-01-14 11:42:35 [urllib3.connectionpool] DEBUG: https://home.kpmg:443 \"GET /xx/en/home/insights/2019/03/look-toward-the-workforce-of-tomorrow.html HTTP/1.1\" 200 36492\n",
      "2020-01-14 11:42:36 [scrapy.core.engine] DEBUG: Crawled (200) <GET https://home.kpmg/xx/en/home/insights/2019/03/talking-to-your-peers.html> (referer: None)\n",
      "2020-01-14 11:42:36 [scrapy.core.engine] DEBUG: Crawled (200) <GET https://home.kpmg/xx/en/home/insights/2019/03/understanding-the-challenges.html> (referer: None)\n"
     ]
    },
    {
     "name": "stdout",
     "output_type": "stream",
     "text": [
      "https://home.kpmg/xx/en/home/insights/2019/03/look-toward-the-workforce-of-tomorrow.html\n"
     ]
    },
    {
     "name": "stderr",
     "output_type": "stream",
     "text": [
      "2020-01-14 11:42:36 [urllib3.connectionpool] DEBUG: Starting new HTTPS connection (1): home.kpmg:443\n",
      "2020-01-14 11:42:36 [urllib3.connectionpool] DEBUG: https://home.kpmg:443 \"GET /xx/en/home/insights/2019/03/talking-to-your-peers.html HTTP/1.1\" 200 36014\n",
      "2020-01-14 11:42:36 [scrapy.core.engine] DEBUG: Crawled (200) <GET https://home.kpmg/xx/en/home/insights/2019/03/moving-quickly-towards-results.html> (referer: None)\n",
      "2020-01-14 11:42:36 [urllib3.connectionpool] DEBUG: Starting new HTTPS connection (1): home.kpmg:443\n",
      "2020-01-14 11:42:36 [urllib3.connectionpool] DEBUG: https://home.kpmg:443 \"GET /xx/en/home/insights/2019/03/understanding-the-challenges.html HTTP/1.1\" 200 36176\n"
     ]
    },
    {
     "name": "stdout",
     "output_type": "stream",
     "text": [
      "https://home.kpmg/xx/en/home/insights/2019/03/talking-to-your-peers.html\n",
      "https://home.kpmg/xx/en/home/insights/2019/03/understanding-the-challenges.html\n"
     ]
    },
    {
     "name": "stderr",
     "output_type": "stream",
     "text": [
      "2020-01-14 11:42:36 [urllib3.connectionpool] DEBUG: Starting new HTTPS connection (1): home.kpmg:443\n",
      "2020-01-14 11:42:36 [urllib3.connectionpool] DEBUG: https://home.kpmg:443 \"GET /xx/en/home/insights/2019/03/moving-quickly-towards-results.html HTTP/1.1\" 200 35669\n"
     ]
    },
    {
     "name": "stdout",
     "output_type": "stream",
     "text": [
      "https://home.kpmg/xx/en/home/insights/2019/03/moving-quickly-towards-results.html\n"
     ]
    },
    {
     "name": "stderr",
     "output_type": "stream",
     "text": [
      "2020-01-14 11:42:36 [scrapy.core.engine] DEBUG: Crawled (200) <GET https://home.kpmg/xx/en/home/insights/2019/03/frontiers-in-finance-60-non-financial-and-emerging-technology-risks.html> (referer: None)\n",
      "2020-01-14 11:42:36 [urllib3.connectionpool] DEBUG: Starting new HTTPS connection (1): home.kpmg:443\n",
      "2020-01-14 11:42:36 [urllib3.connectionpool] DEBUG: https://home.kpmg:443 \"GET /xx/en/home/insights/2019/03/frontiers-in-finance-60-non-financial-and-emerging-technology-risks.html HTTP/1.1\" 200 35640\n",
      "2020-01-14 11:42:36 [scrapy.core.engine] DEBUG: Crawled (200) <GET https://home.kpmg/xx/en/home/insights/2019/03/tax-reimagined-for-insurers.html> (referer: None)\n",
      "2020-01-14 11:42:36 [scrapy.core.engine] DEBUG: Crawled (200) <GET https://home.kpmg/xx/en/home/insights/2019/03/frontiers-in-finance-60-esg.html> (referer: None)\n"
     ]
    },
    {
     "name": "stdout",
     "output_type": "stream",
     "text": [
      "https://home.kpmg/xx/en/home/insights/2019/03/frontiers-in-finance-60-non-financial-and-emerging-technology-risks.html\n"
     ]
    },
    {
     "name": "stderr",
     "output_type": "stream",
     "text": [
      "2020-01-14 11:42:36 [scrapy.core.engine] DEBUG: Crawled (200) <GET https://home.kpmg/xx/en/home/insights/2019/03/frontiers-in-finance-60-risk-proofing-the-future.html> (referer: None)\n",
      "2020-01-14 11:42:36 [urllib3.connectionpool] DEBUG: Starting new HTTPS connection (1): home.kpmg:443\n",
      "2020-01-14 11:42:36 [urllib3.connectionpool] DEBUG: https://home.kpmg:443 \"GET /xx/en/home/insights/2019/03/tax-reimagined-for-insurers.html HTTP/1.1\" 200 37178\n",
      "2020-01-14 11:42:36 [urllib3.connectionpool] DEBUG: Starting new HTTPS connection (1): home.kpmg:443\n",
      "2020-01-14 11:42:37 [urllib3.connectionpool] DEBUG: https://home.kpmg:443 \"GET /xx/en/home/insights/2019/03/frontiers-in-finance-60-esg.html HTTP/1.1\" 200 35474\n"
     ]
    },
    {
     "name": "stdout",
     "output_type": "stream",
     "text": [
      "https://home.kpmg/xx/en/home/insights/2019/03/tax-reimagined-for-insurers.html\n",
      "https://home.kpmg/xx/en/home/insights/2019/03/frontiers-in-finance-60-esg.html\n",
      "https://home.kpmg/xx/en/home/insights/2019/03/frontiers-in-finance-60-risk-proofing-the-future.html\n"
     ]
    },
    {
     "name": "stderr",
     "output_type": "stream",
     "text": [
      "2020-01-14 11:42:37 [urllib3.connectionpool] DEBUG: Starting new HTTPS connection (1): home.kpmg:443\n",
      "2020-01-14 11:42:37 [urllib3.connectionpool] DEBUG: https://home.kpmg:443 \"GET /xx/en/home/insights/2019/03/frontiers-in-finance-60-risk-proofing-the-future.html HTTP/1.1\" 200 35563\n",
      "2020-01-14 11:42:37 [scrapy.core.engine] DEBUG: Crawled (200) <GET https://home.kpmg/xx/en/home/insights/2019/03/fintech-regulation-balancing-risk-and-innovation-fs.html> (referer: None)\n",
      "2020-01-14 11:42:37 [urllib3.connectionpool] DEBUG: Starting new HTTPS connection (1): home.kpmg:443\n",
      "2020-01-14 11:42:37 [urllib3.connectionpool] DEBUG: https://home.kpmg:443 \"GET /xx/en/home/insights/2019/03/fintech-regulation-balancing-risk-and-innovation-fs.html HTTP/1.1\" 200 38146\n",
      "2020-01-14 11:42:37 [scrapy.core.engine] DEBUG: Crawled (200) <GET https://home.kpmg/xx/en/home/insights/2019/03/keeping-the-ai-in-line-fs.html> (referer: None)\n",
      "2020-01-14 11:42:37 [scrapy.core.engine] DEBUG: Crawled (200) <GET https://home.kpmg/xx/en/home/insights/2019/03/one-to-watch-trunomi-fs.html> (referer: None)\n"
     ]
    },
    {
     "name": "stdout",
     "output_type": "stream",
     "text": [
      "https://home.kpmg/xx/en/home/insights/2019/03/fintech-regulation-balancing-risk-and-innovation-fs.html\n"
     ]
    },
    {
     "name": "stderr",
     "output_type": "stream",
     "text": [
      "2020-01-14 11:42:37 [urllib3.connectionpool] DEBUG: Starting new HTTPS connection (1): home.kpmg:443\n",
      "2020-01-14 11:42:37 [urllib3.connectionpool] DEBUG: https://home.kpmg:443 \"GET /xx/en/home/insights/2019/03/keeping-the-ai-in-line-fs.html HTTP/1.1\" 200 38160\n",
      "2020-01-14 11:42:37 [urllib3.connectionpool] DEBUG: Starting new HTTPS connection (1): home.kpmg:443\n",
      "2020-01-14 11:42:37 [urllib3.connectionpool] DEBUG: https://home.kpmg:443 \"GET /xx/en/home/insights/2019/03/one-to-watch-trunomi-fs.html HTTP/1.1\" 200 36204\n"
     ]
    },
    {
     "name": "stdout",
     "output_type": "stream",
     "text": [
      "https://home.kpmg/xx/en/home/insights/2019/03/keeping-the-ai-in-line-fs.html\n",
      "https://home.kpmg/xx/en/home/insights/2019/03/one-to-watch-trunomi-fs.html\n"
     ]
    },
    {
     "name": "stderr",
     "output_type": "stream",
     "text": [
      "2020-01-14 11:42:37 [scrapy.core.engine] DEBUG: Crawled (200) <GET https://home.kpmg/xx/en/home/insights/2019/03/ifrs-17-making-the-most-of-the-extra-year-fs.html> (referer: None)\n",
      "2020-01-14 11:42:38 [urllib3.connectionpool] DEBUG: Starting new HTTPS connection (1): home.kpmg:443\n",
      "2020-01-14 11:42:38 [urllib3.connectionpool] DEBUG: https://home.kpmg:443 \"GET /xx/en/home/insights/2019/03/ifrs-17-making-the-most-of-the-extra-year-fs.html HTTP/1.1\" 200 38832\n",
      "2020-01-14 11:42:38 [scrapy.core.engine] DEBUG: Crawled (200) <GET https://home.kpmg/xx/en/home/insights/2019/03/beyond-compliance-fs.html> (referer: None)\n"
     ]
    },
    {
     "name": "stdout",
     "output_type": "stream",
     "text": [
      "https://home.kpmg/xx/en/home/insights/2019/03/ifrs-17-making-the-most-of-the-extra-year-fs.html\n"
     ]
    },
    {
     "name": "stderr",
     "output_type": "stream",
     "text": [
      "2020-01-14 11:42:38 [scrapy.core.engine] DEBUG: Crawled (200) <GET https://home.kpmg/xx/en/home/insights/2019/02/insurtech-10-digital-risk-reduction.html> (referer: None)\n",
      "2020-01-14 11:42:38 [urllib3.connectionpool] DEBUG: Starting new HTTPS connection (1): home.kpmg:443\n",
      "2020-01-14 11:42:38 [urllib3.connectionpool] DEBUG: https://home.kpmg:443 \"GET /xx/en/home/insights/2019/03/beyond-compliance-fs.html HTTP/1.1\" 200 38999\n",
      "2020-01-14 11:42:38 [urllib3.connectionpool] DEBUG: Starting new HTTPS connection (1): home.kpmg:443\n",
      "2020-01-14 11:42:38 [urllib3.connectionpool] DEBUG: https://home.kpmg:443 \"GET /xx/en/home/insights/2019/02/insurtech-10-digital-risk-reduction.html HTTP/1.1\" 200 37094\n",
      "2020-01-14 11:42:38 [scrapy.core.engine] DEBUG: Crawled (200) <GET https://home.kpmg/xx/en/home/insights/2019/03/get-serious-about-cyber-fs.html> (referer: None)\n"
     ]
    },
    {
     "name": "stdout",
     "output_type": "stream",
     "text": [
      "https://home.kpmg/xx/en/home/insights/2019/03/beyond-compliance-fs.html\n",
      "https://home.kpmg/xx/en/home/insights/2019/02/insurtech-10-digital-risk-reduction.html\n"
     ]
    },
    {
     "name": "stderr",
     "output_type": "stream",
     "text": [
      "2020-01-14 11:42:38 [scrapy.core.engine] DEBUG: Crawled (200) <GET https://home.kpmg/xx/en/home/insights/2019/02/insurtech-10-it-is-a-new-game-press-the-reset-button.html> (referer: None)\n",
      "2020-01-14 11:42:38 [urllib3.connectionpool] DEBUG: Starting new HTTPS connection (1): home.kpmg:443\n",
      "2020-01-14 11:42:38 [urllib3.connectionpool] DEBUG: https://home.kpmg:443 \"GET /xx/en/home/insights/2019/03/get-serious-about-cyber-fs.html HTTP/1.1\" 200 34662\n",
      "2020-01-14 11:42:38 [scrapy.core.engine] DEBUG: Crawled (200) <GET https://home.kpmg/xx/en/home/insights/2019/02/insurtech-10-focus-on-the-digital-customer.html> (referer: None)\n",
      "2020-01-14 11:42:38 [urllib3.connectionpool] DEBUG: Starting new HTTPS connection (1): home.kpmg:443\n"
     ]
    },
    {
     "name": "stdout",
     "output_type": "stream",
     "text": [
      "https://home.kpmg/xx/en/home/insights/2019/03/get-serious-about-cyber-fs.html\n",
      "https://home.kpmg/xx/en/home/insights/2019/02/insurtech-10-it-is-a-new-game-press-the-reset-button.html\n"
     ]
    },
    {
     "name": "stderr",
     "output_type": "stream",
     "text": [
      "2020-01-14 11:42:38 [urllib3.connectionpool] DEBUG: https://home.kpmg:443 \"GET /xx/en/home/insights/2019/02/insurtech-10-it-is-a-new-game-press-the-reset-button.html HTTP/1.1\" 200 37258\n",
      "2020-01-14 11:42:38 [urllib3.connectionpool] DEBUG: Starting new HTTPS connection (1): home.kpmg:443\n",
      "2020-01-14 11:42:38 [urllib3.connectionpool] DEBUG: https://home.kpmg:443 \"GET /xx/en/home/insights/2019/02/insurtech-10-focus-on-the-digital-customer.html HTTP/1.1\" 200 37431\n",
      "2020-01-14 11:42:38 [scrapy.core.engine] DEBUG: Crawled (200) <GET https://home.kpmg/xx/en/home/insights/2019/02/insurtech-10-master-ai-and-machine-learning-now-fs.html> (referer: None)\n"
     ]
    },
    {
     "name": "stdout",
     "output_type": "stream",
     "text": [
      "https://home.kpmg/xx/en/home/insights/2019/02/insurtech-10-focus-on-the-digital-customer.html\n"
     ]
    },
    {
     "name": "stderr",
     "output_type": "stream",
     "text": [
      "2020-01-14 11:42:39 [urllib3.connectionpool] DEBUG: Starting new HTTPS connection (1): home.kpmg:443\n",
      "2020-01-14 11:42:39 [urllib3.connectionpool] DEBUG: https://home.kpmg:443 \"GET /xx/en/home/insights/2019/02/insurtech-10-master-ai-and-machine-learning-now-fs.html HTTP/1.1\" 200 36087\n",
      "2020-01-14 11:42:39 [scrapy.core.engine] DEBUG: Crawled (200) <GET https://home.kpmg/xx/en/home/insights/2019/02/insurtech-10-new-role-for-the-oldest-skills-fs.html> (referer: None)\n",
      "2020-01-14 11:42:39 [scrapy.downloadermiddlewares.redirect] DEBUG: Redirecting (301) to <GET https://home.kpmg/xx/en/home/insights/2019/04/dont-doubt-the-data.html> from <GET https://home.kpmg/xx/en/home/insights/2019/02/dont-doubt-the-data.html>\n",
      "2020-01-14 11:42:39 [scrapy.dupefilters] DEBUG: Filtered duplicate request: <GET https://home.kpmg/xx/en/home/insights/2019/04/dont-doubt-the-data.html> - no more duplicates will be shown (see DUPEFILTER_DEBUG to show all duplicates)\n"
     ]
    },
    {
     "name": "stdout",
     "output_type": "stream",
     "text": [
      "https://home.kpmg/xx/en/home/insights/2019/02/insurtech-10-master-ai-and-machine-learning-now-fs.html\n"
     ]
    },
    {
     "name": "stderr",
     "output_type": "stream",
     "text": [
      "2020-01-14 11:42:39 [urllib3.connectionpool] DEBUG: Starting new HTTPS connection (1): home.kpmg:443\n",
      "2020-01-14 11:42:39 [urllib3.connectionpool] DEBUG: https://home.kpmg:443 \"GET /xx/en/home/insights/2019/02/insurtech-10-new-role-for-the-oldest-skills-fs.html HTTP/1.1\" 200 35751\n",
      "2020-01-14 11:42:39 [scrapy.core.engine] DEBUG: Crawled (200) <GET https://home.kpmg/xx/en/home/insights/2019/02/investment-funds-fs.html> (referer: None)\n",
      "2020-01-14 11:42:39 [scrapy.core.engine] DEBUG: Crawled (200) <GET https://home.kpmg/xx/en/home/insights/2019/03/combating-financial-crime-fs.html> (referer: None)\n",
      "2020-01-14 11:42:39 [scrapy.core.engine] DEBUG: Crawled (200) <GET https://home.kpmg/xx/en/home/insights/2019/02/insurtech-10-skill-up-and-reorganize-urgently-fs.html> (referer: None)\n"
     ]
    },
    {
     "name": "stdout",
     "output_type": "stream",
     "text": [
      "https://home.kpmg/xx/en/home/insights/2019/02/insurtech-10-new-role-for-the-oldest-skills-fs.html\n"
     ]
    },
    {
     "name": "stderr",
     "output_type": "stream",
     "text": [
      "2020-01-14 11:42:39 [urllib3.connectionpool] DEBUG: Starting new HTTPS connection (1): home.kpmg:443\n",
      "2020-01-14 11:42:39 [urllib3.connectionpool] DEBUG: https://home.kpmg:443 \"GET /xx/en/home/insights/2019/02/investment-funds-fs.html HTTP/1.1\" 200 38186\n",
      "2020-01-14 11:42:39 [urllib3.connectionpool] DEBUG: Starting new HTTPS connection (1): home.kpmg:443\n",
      "2020-01-14 11:42:39 [urllib3.connectionpool] DEBUG: https://home.kpmg:443 \"GET /xx/en/home/insights/2019/03/combating-financial-crime-fs.html HTTP/1.1\" 200 38270\n",
      "2020-01-14 11:42:39 [urllib3.connectionpool] DEBUG: Starting new HTTPS connection (1): home.kpmg:443\n"
     ]
    },
    {
     "name": "stdout",
     "output_type": "stream",
     "text": [
      "https://home.kpmg/xx/en/home/insights/2019/02/investment-funds-fs.html\n",
      "https://home.kpmg/xx/en/home/insights/2019/03/combating-financial-crime-fs.html\n",
      "https://home.kpmg/xx/en/home/insights/2019/02/insurtech-10-skill-up-and-reorganize-urgently-fs.html\n"
     ]
    },
    {
     "name": "stderr",
     "output_type": "stream",
     "text": [
      "2020-01-14 11:42:39 [urllib3.connectionpool] DEBUG: https://home.kpmg:443 \"GET /xx/en/home/insights/2019/02/insurtech-10-skill-up-and-reorganize-urgently-fs.html HTTP/1.1\" 200 36625\n",
      "2020-01-14 11:42:39 [scrapy.core.engine] DEBUG: Crawled (200) <GET https://home.kpmg/xx/en/home/insights/2019/02/insurtech-10-auto-insurance-disruption-coming-but-director-not-clear-fs.html> (referer: None)\n",
      "2020-01-14 11:42:39 [scrapy.core.engine] DEBUG: Crawled (200) <GET https://home.kpmg/xx/en/home/insights/2019/02/insurtech-10-digitize-or-die-fs.html> (referer: None)\n",
      "2020-01-14 11:42:39 [scrapy.core.engine] DEBUG: Crawled (200) <GET https://home.kpmg/xx/en/home/insights/2019/02/insurtech-10-ecosystems-rock-fs.html> (referer: None)\n",
      "2020-01-14 11:42:39 [scrapy.core.engine] DEBUG: Crawled (200) <GET https://home.kpmg/xx/en/home/insights/2019/01/basel-market-risk-framework-completed.html> (referer: None)\n",
      "2020-01-14 11:42:39 [urllib3.connectionpool] DEBUG: Starting new HTTPS connection (1): home.kpmg:443\n",
      "2020-01-14 11:42:39 [urllib3.connectionpool] DEBUG: https://home.kpmg:443 \"GET /xx/en/home/insights/2019/02/insurtech-10-auto-insurance-disruption-coming-but-director-not-clear-fs.html HTTP/1.1\" 200 36513\n",
      "2020-01-14 11:42:39 [urllib3.connectionpool] DEBUG: Starting new HTTPS connection (1): home.kpmg:443\n",
      "2020-01-14 11:42:39 [urllib3.connectionpool] DEBUG: https://home.kpmg:443 \"GET /xx/en/home/insights/2019/02/insurtech-10-digitize-or-die-fs.html HTTP/1.1\" 200 37739\n",
      "2020-01-14 11:42:40 [urllib3.connectionpool] DEBUG: Starting new HTTPS connection (1): home.kpmg:443\n"
     ]
    },
    {
     "name": "stdout",
     "output_type": "stream",
     "text": [
      "https://home.kpmg/xx/en/home/insights/2019/02/insurtech-10-auto-insurance-disruption-coming-but-director-not-clear-fs.html\n",
      "https://home.kpmg/xx/en/home/insights/2019/02/insurtech-10-digitize-or-die-fs.html\n",
      "https://home.kpmg/xx/en/home/insights/2019/02/insurtech-10-ecosystems-rock-fs.html\n"
     ]
    },
    {
     "name": "stderr",
     "output_type": "stream",
     "text": [
      "2020-01-14 11:42:40 [urllib3.connectionpool] DEBUG: https://home.kpmg:443 \"GET /xx/en/home/insights/2019/02/insurtech-10-ecosystems-rock-fs.html HTTP/1.1\" 200 37354\n",
      "2020-01-14 11:42:40 [scrapy.core.engine] DEBUG: Crawled (200) <GET https://home.kpmg/xx/en/home/insights/2019/02/fintech-predictions-2019.html> (referer: None)\n",
      "2020-01-14 11:42:40 [urllib3.connectionpool] DEBUG: Starting new HTTPS connection (1): home.kpmg:443\n",
      "2020-01-14 11:42:40 [urllib3.connectionpool] DEBUG: https://home.kpmg:443 \"GET /xx/en/home/insights/2019/01/basel-market-risk-framework-completed.html HTTP/1.1\" 200 38668\n",
      "2020-01-14 11:42:40 [urllib3.connectionpool] DEBUG: Starting new HTTPS connection (1): home.kpmg:443\n",
      "2020-01-14 11:42:40 [urllib3.connectionpool] DEBUG: https://home.kpmg:443 \"GET /xx/en/home/insights/2019/02/fintech-predictions-2019.html HTTP/1.1\" 200 32589\n"
     ]
    },
    {
     "name": "stdout",
     "output_type": "stream",
     "text": [
      "https://home.kpmg/xx/en/home/insights/2019/01/basel-market-risk-framework-completed.html\n",
      "https://home.kpmg/xx/en/home/insights/2019/02/fintech-predictions-2019.html\n"
     ]
    },
    {
     "name": "stderr",
     "output_type": "stream",
     "text": [
      "2020-01-14 11:42:40 [scrapy.core.engine] DEBUG: Crawled (200) <GET https://home.kpmg/xx/en/home/insights/2019/01/bank-of-england-consults-on-resolution-fs.html> (referer: None)\n",
      "2020-01-14 11:42:40 [urllib3.connectionpool] DEBUG: Starting new HTTPS connection (1): home.kpmg:443\n",
      "2020-01-14 11:42:40 [urllib3.connectionpool] DEBUG: https://home.kpmg:443 \"GET /xx/en/home/insights/2019/01/bank-of-england-consults-on-resolution-fs.html HTTP/1.1\" 200 36087\n",
      "2020-01-14 11:42:40 [scrapy.core.engine] DEBUG: Crawled (200) <GET https://home.kpmg/xx/en/home/insights/2019/01/reviews-amendments-and-the-aifmd.html> (referer: None)\n",
      "2020-01-14 11:42:40 [scrapy.core.engine] DEBUG: Crawled (200) <GET https://home.kpmg/xx/en/home/insights/2019/01/continuous-quality-improvement-in-health.html> (referer: None)\n"
     ]
    },
    {
     "name": "stdout",
     "output_type": "stream",
     "text": [
      "https://home.kpmg/xx/en/home/insights/2019/01/bank-of-england-consults-on-resolution-fs.html\n",
      "https://home.kpmg/xx/en/home/insights/2019/01/reviews-amendments-and-the-aifmd.html"
     ]
    },
    {
     "name": "stderr",
     "output_type": "stream",
     "text": [
      "2020-01-14 11:42:40 [urllib3.connectionpool] DEBUG: Starting new HTTPS connection (1): home.kpmg:443\n",
      "2020-01-14 11:42:40 [urllib3.connectionpool] DEBUG: https://home.kpmg:443 \"GET /xx/en/home/insights/2019/01/reviews-amendments-and-the-aifmd.html HTTP/1.1\" 200 38085\n",
      "2020-01-14 11:42:40 [urllib3.connectionpool] DEBUG: Starting new HTTPS connection (1): home.kpmg:443\n",
      "2020-01-14 11:42:40 [urllib3.connectionpool] DEBUG: https://home.kpmg:443 \"GET /xx/en/home/insights/2019/01/continuous-quality-improvement-in-health.html HTTP/1.1\" 200 42324\n"
     ]
    },
    {
     "name": "stdout",
     "output_type": "stream",
     "text": [
      "\n",
      "https://home.kpmg/xx/en/home/insights/2019/01/continuous-quality-improvement-in-health.html\n"
     ]
    },
    {
     "name": "stderr",
     "output_type": "stream",
     "text": [
      "2020-01-14 11:42:40 [scrapy.core.engine] DEBUG: Crawled (200) <GET https://home.kpmg/xx/en/home/insights/2019/01/trend-5-embracing-the-evidence.html> (referer: None)\n",
      "2020-01-14 11:42:40 [scrapy.core.engine] DEBUG: Crawled (200) <GET https://home.kpmg/xx/en/home/insights/2019/01/global-automotive-executive-survey-2019.html> (referer: None)\n",
      "2020-01-14 11:42:41 [urllib3.connectionpool] DEBUG: Starting new HTTPS connection (1): home.kpmg:443\n",
      "2020-01-14 11:42:41 [urllib3.connectionpool] DEBUG: https://home.kpmg:443 \"GET /xx/en/home/insights/2019/01/trend-5-embracing-the-evidence.html HTTP/1.1\" 200 37649\n",
      "2020-01-14 11:42:41 [urllib3.connectionpool] DEBUG: Starting new HTTPS connection (1): home.kpmg:443\n",
      "2020-01-14 11:42:41 [urllib3.connectionpool] DEBUG: https://home.kpmg:443 \"GET /xx/en/home/insights/2019/01/global-automotive-executive-survey-2019.html HTTP/1.1\" 200 34703\n"
     ]
    },
    {
     "name": "stdout",
     "output_type": "stream",
     "text": [
      "https://home.kpmg/xx/en/home/insights/2019/01/trend-5-embracing-the-evidence.html\n",
      "https://home.kpmg/xx/en/home/insights/2019/01/global-automotive-executive-survey-2019.html\n"
     ]
    },
    {
     "name": "stderr",
     "output_type": "stream",
     "text": [
      "2020-01-14 11:42:41 [scrapy.core.engine] DEBUG: Crawled (200) <GET https://home.kpmg/xx/en/home/insights/2019/01/trend-2-data-drives-operational-efficiency.html> (referer: None)\n",
      "2020-01-14 11:42:41 [scrapy.core.engine] DEBUG: Crawled (200) <GET https://home.kpmg/xx/en/home/insights/2019/01/smart-digital-finance.html> (referer: None)\n",
      "2020-01-14 11:42:41 [urllib3.connectionpool] DEBUG: Starting new HTTPS connection (1): home.kpmg:443\n",
      "2020-01-14 11:42:41 [urllib3.connectionpool] DEBUG: https://home.kpmg:443 \"GET /xx/en/home/insights/2019/01/trend-2-data-drives-operational-efficiency.html HTTP/1.1\" 200 38144\n",
      "2020-01-14 11:42:41 [scrapy.core.engine] DEBUG: Crawled (200) <GET https://home.kpmg/xx/en/home/insights/2019/02/insurtech-10-2019-trends-summary-fs.html> (referer: None)\n",
      "2020-01-14 11:42:41 [urllib3.connectionpool] DEBUG: Starting new HTTPS connection (1): home.kpmg:443\n",
      "2020-01-14 11:42:41 [urllib3.connectionpool] DEBUG: https://home.kpmg:443 \"GET /xx/en/home/insights/2019/01/smart-digital-finance.html HTTP/1.1\" 200 35026\n",
      "2020-01-14 11:42:41 [scrapy.core.engine] DEBUG: Crawled (200) <GET https://home.kpmg/xx/en/home/insights/2019/01/market-update-oil-gas.html> (referer: None)\n"
     ]
    },
    {
     "name": "stdout",
     "output_type": "stream",
     "text": [
      "https://home.kpmg/xx/en/home/insights/2019/01/trend-2-data-drives-operational-efficiency.html\n",
      "https://home.kpmg/xx/en/home/insights/2019/01/smart-digital-finance.html\n"
     ]
    },
    {
     "name": "stderr",
     "output_type": "stream",
     "text": [
      "2020-01-14 11:42:41 [urllib3.connectionpool] DEBUG: Starting new HTTPS connection (1): home.kpmg:443\n",
      "2020-01-14 11:42:41 [urllib3.connectionpool] DEBUG: https://home.kpmg:443 \"GET /xx/en/home/insights/2019/02/insurtech-10-2019-trends-summary-fs.html HTTP/1.1\" 200 35905\n",
      "2020-01-14 11:42:41 [scrapy.core.engine] DEBUG: Crawled (200) <GET https://home.kpmg/xx/en/home/insights/2019/01/driving-value-from-genomics.html> (referer: None)\n",
      "2020-01-14 11:42:41 [urllib3.connectionpool] DEBUG: Starting new HTTPS connection (1): home.kpmg:443\n",
      "2020-01-14 11:42:41 [urllib3.connectionpool] DEBUG: https://home.kpmg:443 \"GET /xx/en/home/insights/2019/01/market-update-oil-gas.html HTTP/1.1\" 200 37589\n"
     ]
    },
    {
     "name": "stdout",
     "output_type": "stream",
     "text": [
      "https://home.kpmg/xx/en/home/insights/2019/02/insurtech-10-2019-trends-summary-fs.html\n",
      "https://home.kpmg/xx/en/home/insights/2019/01/market-update-oil-gas.html\n"
     ]
    },
    {
     "name": "stderr",
     "output_type": "stream",
     "text": [
      "2020-01-14 11:42:41 [urllib3.connectionpool] DEBUG: Starting new HTTPS connection (1): home.kpmg:443\n",
      "2020-01-14 11:42:41 [urllib3.connectionpool] DEBUG: https://home.kpmg:443 \"GET /xx/en/home/insights/2019/01/driving-value-from-genomics.html HTTP/1.1\" 200 30343\n",
      "2020-01-14 11:42:41 [scrapy.core.engine] DEBUG: Crawled (200) <GET https://home.kpmg/xx/en/home/insights/2019/01/rfr-regulation-round-up-issue-3.html> (referer: None)\n",
      "2020-01-14 11:42:41 [scrapy.core.engine] DEBUG: Crawled (200) <GET https://home.kpmg/xx/en/home/insights/2018/12/responsible-investment-and-esg-for-asset-managers-fs.html> (referer: None)\n"
     ]
    },
    {
     "name": "stdout",
     "output_type": "stream",
     "text": [
      "https://home.kpmg/xx/en/home/insights/2019/01/driving-value-from-genomics.html\n"
     ]
    },
    {
     "name": "stderr",
     "output_type": "stream",
     "text": [
      "2020-01-14 11:42:41 [urllib3.connectionpool] DEBUG: Starting new HTTPS connection (1): home.kpmg:443\n",
      "2020-01-14 11:42:42 [urllib3.connectionpool] DEBUG: https://home.kpmg:443 \"GET /xx/en/home/insights/2019/01/rfr-regulation-round-up-issue-3.html HTTP/1.1\" 200 34929\n",
      "2020-01-14 11:42:42 [scrapy.core.engine] DEBUG: Crawled (200) <GET https://home.kpmg/xx/en/home/insights/2019/01/failure-how-close-is-your-organization.html> (referer: None)\n",
      "2020-01-14 11:42:42 [scrapy.core.engine] DEBUG: Crawled (200) <GET https://home.kpmg/xx/en/home/insights/2019/01/are-you-prepared-for-a-no-deal-outcome-fs.html> (referer: None)\n",
      "2020-01-14 11:42:42 [urllib3.connectionpool] DEBUG: Starting new HTTPS connection (1): home.kpmg:443\n"
     ]
    },
    {
     "name": "stdout",
     "output_type": "stream",
     "text": [
      "https://home.kpmg/xx/en/home/insights/2019/01/rfr-regulation-round-up-issue-3.html\n",
      "https://home.kpmg/xx/en/home/insights/2018/12/responsible-investment-and-esg-for-asset-managers-fs.html\n"
     ]
    },
    {
     "name": "stderr",
     "output_type": "stream",
     "text": [
      "2020-01-14 11:42:42 [urllib3.connectionpool] DEBUG: https://home.kpmg:443 \"GET /xx/en/home/insights/2018/12/responsible-investment-and-esg-for-asset-managers-fs.html HTTP/1.1\" 200 37313\n",
      "2020-01-14 11:42:42 [urllib3.connectionpool] DEBUG: Starting new HTTPS connection (1): home.kpmg:443\n",
      "2020-01-14 11:42:42 [urllib3.connectionpool] DEBUG: https://home.kpmg:443 \"GET /xx/en/home/insights/2019/01/failure-how-close-is-your-organization.html HTTP/1.1\" 200 40942\n",
      "2020-01-14 11:42:42 [scrapy.core.engine] DEBUG: Crawled (200) <GET https://home.kpmg/xx/en/home/insights/2019/01/the-transformational-cio.html> (referer: None)\n",
      "2020-01-14 11:42:42 [urllib3.connectionpool] DEBUG: Starting new HTTPS connection (1): home.kpmg:443\n",
      "2020-01-14 11:42:42 [urllib3.connectionpool] DEBUG: https://home.kpmg:443 \"GET /xx/en/home/insights/2019/01/are-you-prepared-for-a-no-deal-outcome-fs.html HTTP/1.1\" 200 37352\n"
     ]
    },
    {
     "name": "stdout",
     "output_type": "stream",
     "text": [
      "https://home.kpmg/xx/en/home/insights/2019/01/failure-how-close-is-your-organization.html\n",
      "https://home.kpmg/xx/en/home/insights/2019/01/are-you-prepared-for-a-no-deal-outcome-fs.html\n"
     ]
    },
    {
     "name": "stderr",
     "output_type": "stream",
     "text": [
      "2020-01-14 11:42:42 [urllib3.connectionpool] DEBUG: Starting new HTTPS connection (1): home.kpmg:443\n",
      "2020-01-14 11:42:42 [urllib3.connectionpool] DEBUG: https://home.kpmg:443 \"GET /xx/en/home/insights/2019/01/the-transformational-cio.html HTTP/1.1\" 200 38252\n",
      "2020-01-14 11:42:42 [scrapy.core.engine] DEBUG: Crawled (200) <GET https://home.kpmg/xx/en/home/insights/2019/01/five-ways-workathons-can-foster-innovation.html> (referer: None)\n"
     ]
    },
    {
     "name": "stdout",
     "output_type": "stream",
     "text": [
      "https://home.kpmg/xx/en/home/insights/2019/01/the-transformational-cio.html\n"
     ]
    },
    {
     "name": "stderr",
     "output_type": "stream",
     "text": [
      "2020-01-14 11:42:42 [urllib3.connectionpool] DEBUG: Starting new HTTPS connection (1): home.kpmg:443\n",
      "2020-01-14 11:42:42 [urllib3.connectionpool] DEBUG: https://home.kpmg:443 \"GET /xx/en/home/insights/2019/01/five-ways-workathons-can-foster-innovation.html HTTP/1.1\" 200 37466\n",
      "2020-01-14 11:42:42 [scrapy.core.engine] DEBUG: Crawled (200) <GET https://home.kpmg/xx/en/home/insights/2018/12/financial-services-ceo-outlook-2018-fs.html> (referer: None)\n"
     ]
    },
    {
     "name": "stdout",
     "output_type": "stream",
     "text": [
      "https://home.kpmg/xx/en/home/insights/2019/01/five-ways-workathons-can-foster-innovation.html\n"
     ]
    },
    {
     "name": "stderr",
     "output_type": "stream",
     "text": [
      "2020-01-14 11:42:42 [urllib3.connectionpool] DEBUG: Starting new HTTPS connection (1): home.kpmg:443\n",
      "2020-01-14 11:42:43 [urllib3.connectionpool] DEBUG: https://home.kpmg:443 \"GET /xx/en/home/insights/2018/12/financial-services-ceo-outlook-2018-fs.html HTTP/1.1\" 200 35843\n",
      "2020-01-14 11:42:43 [scrapy.core.engine] DEBUG: Crawled (200) <GET https://home.kpmg/xx/en/home/insights/2018/12/actuaries-of-the-future-fs.html> (referer: None)\n"
     ]
    },
    {
     "name": "stdout",
     "output_type": "stream",
     "text": [
      "https://home.kpmg/xx/en/home/insights/2018/12/financial-services-ceo-outlook-2018-fs.html\n"
     ]
    },
    {
     "name": "stderr",
     "output_type": "stream",
     "text": [
      "2020-01-14 11:42:43 [urllib3.connectionpool] DEBUG: Starting new HTTPS connection (1): home.kpmg:443\n",
      "2020-01-14 11:42:43 [urllib3.connectionpool] DEBUG: https://home.kpmg:443 \"GET /xx/en/home/insights/2018/12/actuaries-of-the-future-fs.html HTTP/1.1\" 200 37486\n",
      "2020-01-14 11:42:43 [scrapy.core.engine] DEBUG: Crawled (200) <GET https://home.kpmg/xx/en/home/insights/2018/12/the-next-generation-of-model-risks-fs.html> (referer: None)\n"
     ]
    },
    {
     "name": "stdout",
     "output_type": "stream",
     "text": [
      "https://home.kpmg/xx/en/home/insights/2018/12/actuaries-of-the-future-fs.html\n",
      "https://home.kpmg/xx/en/home/insights/2018/12/the-next-generation-of-model-risks-fs.html"
     ]
    },
    {
     "name": "stderr",
     "output_type": "stream",
     "text": [
      "2020-01-14 11:42:43 [urllib3.connectionpool] DEBUG: Starting new HTTPS connection (1): home.kpmg:443\n",
      "2020-01-14 11:42:43 [urllib3.connectionpool] DEBUG: https://home.kpmg:443 \"GET /xx/en/home/insights/2018/12/the-next-generation-of-model-risks-fs.html HTTP/1.1\" 200 37766\n",
      "2020-01-14 11:42:43 [scrapy.core.engine] DEBUG: Crawled (200) <GET https://home.kpmg/xx/en/home/insights/2018/12/change-management-in-internal-audit-fs.html> (referer: None)\n"
     ]
    },
    {
     "name": "stdout",
     "output_type": "stream",
     "text": [
      "\n"
     ]
    },
    {
     "name": "stderr",
     "output_type": "stream",
     "text": [
      "2020-01-14 11:42:43 [scrapy.core.engine] DEBUG: Crawled (200) <GET https://home.kpmg/xx/en/home/insights/2018/12/algorithmic-trading-judgement-day.html> (referer: None)\n",
      "2020-01-14 11:42:43 [urllib3.connectionpool] DEBUG: Starting new HTTPS connection (1): home.kpmg:443\n",
      "2020-01-14 11:42:43 [urllib3.connectionpool] DEBUG: https://home.kpmg:443 \"GET /xx/en/home/insights/2018/12/change-management-in-internal-audit-fs.html HTTP/1.1\" 200 36483\n",
      "2020-01-14 11:42:43 [urllib3.connectionpool] DEBUG: Starting new HTTPS connection (1): home.kpmg:443\n",
      "2020-01-14 11:42:43 [urllib3.connectionpool] DEBUG: https://home.kpmg:443 \"GET /xx/en/home/insights/2018/12/algorithmic-trading-judgement-day.html HTTP/1.1\" 200 36160\n",
      "2020-01-14 11:42:43 [scrapy.core.engine] DEBUG: Crawled (200) <GET https://home.kpmg/xx/en/home/insights/2018/12/consumer-risks-from-fintech.html> (referer: None)\n"
     ]
    },
    {
     "name": "stdout",
     "output_type": "stream",
     "text": [
      "https://home.kpmg/xx/en/home/insights/2018/12/change-management-in-internal-audit-fs.html\n",
      "https://home.kpmg/xx/en/home/insights/2018/12/algorithmic-trading-judgement-day.html\n"
     ]
    },
    {
     "name": "stderr",
     "output_type": "stream",
     "text": [
      "2020-01-14 11:42:43 [urllib3.connectionpool] DEBUG: Starting new HTTPS connection (1): home.kpmg:443\n",
      "2020-01-14 11:42:43 [urllib3.connectionpool] DEBUG: https://home.kpmg:443 \"GET /xx/en/home/insights/2018/12/consumer-risks-from-fintech.html HTTP/1.1\" 200 35971\n",
      "2020-01-14 11:42:43 [scrapy.core.engine] DEBUG: Crawled (200) <GET https://home.kpmg/xx/en/home/insights/2018/12/video-technology-disruption-heats-up-in-banking-fs.html> (referer: None)\n",
      "2020-01-14 11:42:43 [scrapy.core.engine] DEBUG: Crawled (200) <GET https://home.kpmg/xx/en/home/insights/2018/12/distributed-ledger-technology.html> (referer: None)\n"
     ]
    },
    {
     "name": "stdout",
     "output_type": "stream",
     "text": [
      "https://home.kpmg/xx/en/home/insights/2018/12/consumer-risks-from-fintech.html\n"
     ]
    },
    {
     "name": "stderr",
     "output_type": "stream",
     "text": [
      "2020-01-14 11:42:44 [urllib3.connectionpool] DEBUG: Starting new HTTPS connection (1): home.kpmg:443\n",
      "2020-01-14 11:42:44 [urllib3.connectionpool] DEBUG: https://home.kpmg:443 \"GET /xx/en/home/insights/2018/12/video-technology-disruption-heats-up-in-banking-fs.html HTTP/1.1\" 200 35964\n",
      "2020-01-14 11:42:44 [scrapy.core.engine] DEBUG: Crawled (200) <GET https://home.kpmg/xx/en/home/insights/2018/12/market-update-oil-gas.html> (referer: None)\n",
      "2020-01-14 11:42:44 [scrapy.core.engine] DEBUG: Crawled (200) <GET https://home.kpmg/xx/en/home/insights/2018/12/eba-on-fintech.html> (referer: None)\n",
      "2020-01-14 11:42:44 [urllib3.connectionpool] DEBUG: Starting new HTTPS connection (1): home.kpmg:443\n"
     ]
    },
    {
     "name": "stdout",
     "output_type": "stream",
     "text": [
      "https://home.kpmg/xx/en/home/insights/2018/12/video-technology-disruption-heats-up-in-banking-fs.html\n",
      "https://home.kpmg/xx/en/home/insights/2018/12/distributed-ledger-technology.html\n"
     ]
    },
    {
     "name": "stderr",
     "output_type": "stream",
     "text": [
      "2020-01-14 11:42:44 [urllib3.connectionpool] DEBUG: https://home.kpmg:443 \"GET /xx/en/home/insights/2018/12/distributed-ledger-technology.html HTTP/1.1\" 200 35949\n",
      "2020-01-14 11:42:44 [scrapy.core.engine] DEBUG: Crawled (200) <GET https://home.kpmg/xx/en/home/insights/2018/12/peer-to-peer-lending.html> (referer: None)\n",
      "2020-01-14 11:42:44 [urllib3.connectionpool] DEBUG: Starting new HTTPS connection (1): home.kpmg:443\n",
      "2020-01-14 11:42:44 [urllib3.connectionpool] DEBUG: https://home.kpmg:443 \"GET /xx/en/home/insights/2018/12/market-update-oil-gas.html HTTP/1.1\" 200 37393\n",
      "2020-01-14 11:42:44 [urllib3.connectionpool] DEBUG: Starting new HTTPS connection (1): home.kpmg:443\n",
      "2020-01-14 11:42:44 [urllib3.connectionpool] DEBUG: https://home.kpmg:443 \"GET /xx/en/home/insights/2018/12/eba-on-fintech.html HTTP/1.1\" 200 35880\n"
     ]
    },
    {
     "name": "stdout",
     "output_type": "stream",
     "text": [
      "https://home.kpmg/xx/en/home/insights/2018/12/market-update-oil-gas.html\n",
      "https://home.kpmg/xx/en/home/insights/2018/12/eba-on-fintech.html\n",
      "https://home.kpmg/xx/en/home/insights/2018/12/peer-to-peer-lending.html\n"
     ]
    },
    {
     "name": "stderr",
     "output_type": "stream",
     "text": [
      "2020-01-14 11:42:44 [urllib3.connectionpool] DEBUG: Starting new HTTPS connection (1): home.kpmg:443\n",
      "2020-01-14 11:42:44 [urllib3.connectionpool] DEBUG: https://home.kpmg:443 \"GET /xx/en/home/insights/2018/12/peer-to-peer-lending.html HTTP/1.1\" 200 35642\n",
      "2020-01-14 11:42:44 [scrapy.core.engine] DEBUG: Crawled (200) <GET https://home.kpmg/xx/en/home/insights/2018/12/fintech-credit.html> (referer: None)\n",
      "2020-01-14 11:42:44 [scrapy.core.engine] DEBUG: Crawled (200) <GET https://home.kpmg/xx/en/home/insights/2018/12/fintech-regulation-turning-a-corner.html> (referer: None)\n",
      "2020-01-14 11:42:44 [urllib3.connectionpool] DEBUG: Starting new HTTPS connection (1): home.kpmg:443\n",
      "2020-01-14 11:42:44 [urllib3.connectionpool] DEBUG: https://home.kpmg:443 \"GET /xx/en/home/insights/2018/12/fintech-credit.html HTTP/1.1\" 200 35777\n",
      "2020-01-14 11:42:44 [scrapy.core.engine] DEBUG: Crawled (200) <GET https://home.kpmg/xx/en/home/insights/2018/12/the-digital-transformation-of-legal.html> (referer: None)\n",
      "2020-01-14 11:42:44 [urllib3.connectionpool] DEBUG: Starting new HTTPS connection (1): home.kpmg:443\n",
      "2020-01-14 11:42:44 [urllib3.connectionpool] DEBUG: https://home.kpmg:443 \"GET /xx/en/home/insights/2018/12/fintech-regulation-turning-a-corner.html HTTP/1.1\" 200 35776\n"
     ]
    },
    {
     "name": "stdout",
     "output_type": "stream",
     "text": [
      "https://home.kpmg/xx/en/home/insights/2018/12/fintech-credit.html\n",
      "https://home.kpmg/xx/en/home/insights/2018/12/fintech-regulation-turning-a-corner.html\n"
     ]
    },
    {
     "name": "stderr",
     "output_type": "stream",
     "text": [
      "2020-01-14 11:42:44 [urllib3.connectionpool] DEBUG: Starting new HTTPS connection (1): home.kpmg:443\n",
      "2020-01-14 11:42:45 [urllib3.connectionpool] DEBUG: https://home.kpmg:443 \"GET /xx/en/home/insights/2018/12/the-digital-transformation-of-legal.html HTTP/1.1\" 200 32800\n",
      "2020-01-14 11:42:45 [scrapy.core.engine] DEBUG: Crawled (200) <GET https://home.kpmg/xx/en/home/insights/2018/11/the-case-for-investing-in-social-services.html> (referer: None)\n"
     ]
    },
    {
     "name": "stdout",
     "output_type": "stream",
     "text": [
      "https://home.kpmg/xx/en/home/insights/2018/12/the-digital-transformation-of-legal.html\n",
      "https://home.kpmg/xx/en/home/insights/2018/11/the-case-for-investing-in-social-services.html\n"
     ]
    },
    {
     "name": "stderr",
     "output_type": "stream",
     "text": [
      "2020-01-14 11:42:45 [urllib3.connectionpool] DEBUG: Starting new HTTPS connection (1): home.kpmg:443\n",
      "2020-01-14 11:42:45 [urllib3.connectionpool] DEBUG: https://home.kpmg:443 \"GET /xx/en/home/insights/2018/11/the-case-for-investing-in-social-services.html HTTP/1.1\" 200 37582\n",
      "2020-01-14 11:42:45 [scrapy.core.engine] DEBUG: Crawled (200) <GET https://home.kpmg/xx/en/home/insights/2018/12/kpmg-artificial-intelligence-in-control.html> (referer: None)\n",
      "2020-01-14 11:42:45 [scrapy.core.engine] DEBUG: Crawled (200) <GET https://home.kpmg/xx/en/home/insights/2018/11/systemic-risk-spotlight-turns-to-leverage-fs.html> (referer: None)\n",
      "2020-01-14 11:42:45 [urllib3.connectionpool] DEBUG: Starting new HTTPS connection (1): home.kpmg:443\n",
      "2020-01-14 11:42:45 [urllib3.connectionpool] DEBUG: https://home.kpmg:443 \"GET /xx/en/home/insights/2018/12/kpmg-artificial-intelligence-in-control.html HTTP/1.1\" 200 36177\n",
      "2020-01-14 11:42:45 [urllib3.connectionpool] DEBUG: Starting new HTTPS connection (1): home.kpmg:443\n",
      "2020-01-14 11:42:45 [urllib3.connectionpool] DEBUG: https://home.kpmg:443 \"GET /xx/en/home/insights/2018/11/systemic-risk-spotlight-turns-to-leverage-fs.html HTTP/1.1\" 200 38572\n",
      "2020-01-14 11:42:45 [scrapy.core.engine] DEBUG: Crawled (200) <GET https://home.kpmg/xx/en/home/insights/2018/11/four-lessons-the-digital-health-data-race.html> (referer: None)\n"
     ]
    },
    {
     "name": "stdout",
     "output_type": "stream",
     "text": [
      "https://home.kpmg/xx/en/home/insights/2018/12/kpmg-artificial-intelligence-in-control.html\n",
      "https://home.kpmg/xx/en/home/insights/2018/11/systemic-risk-spotlight-turns-to-leverage-fs.html\n"
     ]
    },
    {
     "name": "stderr",
     "output_type": "stream",
     "text": [
      "2020-01-14 11:42:45 [scrapy.core.engine] DEBUG: Crawled (200) <GET https://home.kpmg/xx/en/home/insights/2018/11/catalyst-live-tax-legal-technology.html> (referer: None)\n",
      "2020-01-14 11:42:45 [urllib3.connectionpool] DEBUG: Starting new HTTPS connection (1): home.kpmg:443\n",
      "2020-01-14 11:42:45 [urllib3.connectionpool] DEBUG: https://home.kpmg:443 \"GET /xx/en/home/insights/2018/11/four-lessons-the-digital-health-data-race.html HTTP/1.1\" 200 39974\n",
      "2020-01-14 11:42:45 [urllib3.connectionpool] DEBUG: Starting new HTTPS connection (1): home.kpmg:443\n",
      "2020-01-14 11:42:45 [urllib3.connectionpool] DEBUG: https://home.kpmg:443 \"GET /xx/en/home/insights/2018/11/catalyst-live-tax-legal-technology.html HTTP/1.1\" 200 33370\n"
     ]
    },
    {
     "name": "stdout",
     "output_type": "stream",
     "text": [
      "https://home.kpmg/xx/en/home/insights/2018/11/four-lessons-the-digital-health-data-race.html\n",
      "https://home.kpmg/xx/en/home/insights/2018/11/catalyst-live-tax-legal-technology.html\n"
     ]
    },
    {
     "name": "stderr",
     "output_type": "stream",
     "text": [
      "2020-01-14 11:42:45 [scrapy.core.engine] DEBUG: Crawled (200) <GET https://home.kpmg/xx/en/home/insights/2018/11/fca-proposed-no-deal-rules-part-2-fs.html> (referer: None)\n",
      "2020-01-14 11:42:46 [urllib3.connectionpool] DEBUG: Starting new HTTPS connection (1): home.kpmg:443\n",
      "2020-01-14 11:42:46 [urllib3.connectionpool] DEBUG: https://home.kpmg:443 \"GET /xx/en/home/insights/2018/11/fca-proposed-no-deal-rules-part-2-fs.html HTTP/1.1\" 200 37423\n",
      "2020-01-14 11:42:46 [scrapy.core.engine] DEBUG: Crawled (200) <GET https://home.kpmg/xx/en/home/insights/2018/11/market-update-oil-gas.html> (referer: None)\n",
      "2020-01-14 11:42:46 [scrapy.core.engine] DEBUG: Crawled (200) <GET https://home.kpmg/xx/en/home/insights/2018/11/workforce-shaping-is-the-shape-of-things-to-come.html> (referer: None)\n"
     ]
    },
    {
     "name": "stdout",
     "output_type": "stream",
     "text": [
      "https://home.kpmg/xx/en/home/insights/2018/11/fca-proposed-no-deal-rules-part-2-fs.html\n"
     ]
    },
    {
     "name": "stderr",
     "output_type": "stream",
     "text": [
      "2020-01-14 11:42:46 [urllib3.connectionpool] DEBUG: Starting new HTTPS connection (1): home.kpmg:443\n",
      "2020-01-14 11:42:46 [urllib3.connectionpool] DEBUG: https://home.kpmg:443 \"GET /xx/en/home/insights/2018/11/market-update-oil-gas.html HTTP/1.1\" 200 33817\n",
      "2020-01-14 11:42:46 [urllib3.connectionpool] DEBUG: Starting new HTTPS connection (1): home.kpmg:443\n",
      "2020-01-14 11:42:46 [urllib3.connectionpool] DEBUG: https://home.kpmg:443 \"GET /xx/en/home/insights/2018/11/workforce-shaping-is-the-shape-of-things-to-come.html HTTP/1.1\" 200 36623\n"
     ]
    },
    {
     "name": "stdout",
     "output_type": "stream",
     "text": [
      "https://home.kpmg/xx/en/home/insights/2018/11/market-update-oil-gas.html\n",
      "https://home.kpmg/xx/en/home/insights/2018/11/workforce-shaping-is-the-shape-of-things-to-come.html\n"
     ]
    },
    {
     "name": "stderr",
     "output_type": "stream",
     "text": [
      "2020-01-14 11:42:46 [scrapy.core.engine] DEBUG: Crawled (200) <GET https://home.kpmg/xx/en/home/insights/2018/11/investment-in-ai-for-healthcare-soars.html> (referer: None)\n",
      "2020-01-14 11:42:46 [scrapy.core.engine] DEBUG: Crawled (200) <GET https://home.kpmg/xx/en/home/insights/2018/11/making-connections-fs.html> (referer: None)\n",
      "2020-01-14 11:42:46 [scrapy.core.engine] DEBUG: Crawled (200) <GET https://home.kpmg/xx/en/home/insights/2018/11/accelerating-healthy-lives-for-all.html> (referer: None)\n",
      "2020-01-14 11:42:46 [urllib3.connectionpool] DEBUG: Starting new HTTPS connection (1): home.kpmg:443\n",
      "2020-01-14 11:42:46 [urllib3.connectionpool] DEBUG: https://home.kpmg:443 \"GET /xx/en/home/insights/2018/11/investment-in-ai-for-healthcare-soars.html HTTP/1.1\" 200 38138\n",
      "2020-01-14 11:42:46 [scrapy.core.engine] DEBUG: Crawled (200) <GET https://home.kpmg/xx/en/home/insights/2018/11/proposed-no-deal-rules-for-pra-firms-fs.html> (referer: None)\n",
      "2020-01-14 11:42:46 [scrapy.core.engine] DEBUG: Crawled (200) <GET https://home.kpmg/xx/en/home/insights/2018/10/tax-intelligence-solution.html> (referer: None)\n",
      "2020-01-14 11:42:46 [urllib3.connectionpool] DEBUG: Starting new HTTPS connection (1): home.kpmg:443\n",
      "2020-01-14 11:42:46 [urllib3.connectionpool] DEBUG: https://home.kpmg:443 \"GET /xx/en/home/insights/2018/11/making-connections-fs.html HTTP/1.1\" 200 34060\n"
     ]
    },
    {
     "name": "stdout",
     "output_type": "stream",
     "text": [
      "https://home.kpmg/xx/en/home/insights/2018/11/investment-in-ai-for-healthcare-soars.html\n",
      "https://home.kpmg/xx/en/home/insights/2018/11/making-connections-fs.html\n"
     ]
    },
    {
     "name": "stderr",
     "output_type": "stream",
     "text": [
      "2020-01-14 11:42:46 [urllib3.connectionpool] DEBUG: Starting new HTTPS connection (1): home.kpmg:443\n",
      "2020-01-14 11:42:46 [urllib3.connectionpool] DEBUG: https://home.kpmg:443 \"GET /xx/en/home/insights/2018/11/accelerating-healthy-lives-for-all.html HTTP/1.1\" 200 40119\n",
      "2020-01-14 11:42:46 [urllib3.connectionpool] DEBUG: Starting new HTTPS connection (1): home.kpmg:443\n",
      "2020-01-14 11:42:46 [urllib3.connectionpool] DEBUG: https://home.kpmg:443 \"GET /xx/en/home/insights/2018/11/proposed-no-deal-rules-for-pra-firms-fs.html HTTP/1.1\" 200 37319\n",
      "2020-01-14 11:42:46 [urllib3.connectionpool] DEBUG: Starting new HTTPS connection (1): home.kpmg:443\n"
     ]
    },
    {
     "name": "stdout",
     "output_type": "stream",
     "text": [
      "https://home.kpmg/xx/en/home/insights/2018/11/accelerating-healthy-lives-for-all.html\n",
      "https://home.kpmg/xx/en/home/insights/2018/11/proposed-no-deal-rules-for-pra-firms-fs.html\n",
      "https://home.kpmg/xx/en/home/insights/2018/10/tax-intelligence-solution.html\n"
     ]
    },
    {
     "name": "stderr",
     "output_type": "stream",
     "text": [
      "2020-01-14 11:42:46 [urllib3.connectionpool] DEBUG: https://home.kpmg:443 \"GET /xx/en/home/insights/2018/10/tax-intelligence-solution.html HTTP/1.1\" 200 34248\n",
      "2020-01-14 11:42:47 [scrapy.core.engine] DEBUG: Crawled (200) <GET https://home.kpmg/xx/en/home/insights/2018/05/eamr-2018-a-parting-of-the-ways.html> (referer: None)\n",
      "2020-01-14 11:42:47 [scrapy.core.engine] DEBUG: Crawled (200) <GET https://home.kpmg/xx/en/home/insights/2018/10/patients-should-be-partners-in-care.html> (referer: None)\n",
      "2020-01-14 11:42:47 [urllib3.connectionpool] DEBUG: Starting new HTTPS connection (1): home.kpmg:443\n",
      "2020-01-14 11:42:47 [urllib3.connectionpool] DEBUG: https://home.kpmg:443 \"GET /xx/en/home/insights/2018/05/eamr-2018-a-parting-of-the-ways.html HTTP/1.1\" 200 37084\n",
      "2020-01-14 11:42:47 [scrapy.core.engine] DEBUG: Crawled (200) <GET https://home.kpmg/xx/en/home/insights/2018/10/pra-temporary-permissions-regime.html> (referer: None)\n",
      "2020-01-14 11:42:47 [urllib3.connectionpool] DEBUG: Starting new HTTPS connection (1): home.kpmg:443\n",
      "2020-01-14 11:42:47 [urllib3.connectionpool] DEBUG: https://home.kpmg:443 \"GET /xx/en/home/insights/2018/10/patients-should-be-partners-in-care.html HTTP/1.1\" 200 39227\n"
     ]
    },
    {
     "name": "stdout",
     "output_type": "stream",
     "text": [
      "https://home.kpmg/xx/en/home/insights/2018/05/eamr-2018-a-parting-of-the-ways.html\n",
      "https://home.kpmg/xx/en/home/insights/2018/10/patients-should-be-partners-in-care.html\n"
     ]
    },
    {
     "name": "stderr",
     "output_type": "stream",
     "text": [
      "2020-01-14 11:42:47 [scrapy.core.engine] DEBUG: Crawled (200) <GET https://home.kpmg/xx/en/home/insights/2018/10/2018-fintech-100-the-worlds-leading-fintech-innovators-fs.html> (referer: None)\n",
      "2020-01-14 11:42:47 [urllib3.connectionpool] DEBUG: Starting new HTTPS connection (1): home.kpmg:443\n",
      "2020-01-14 11:42:47 [urllib3.connectionpool] DEBUG: https://home.kpmg:443 \"GET /xx/en/home/insights/2018/10/pra-temporary-permissions-regime.html HTTP/1.1\" 200 37963\n",
      "2020-01-14 11:42:47 [scrapy.core.engine] DEBUG: Crawled (200) <GET https://home.kpmg/xx/en/home/insights/2018/10/rfr-regulatory-round-up-fs.html> (referer: None)\n",
      "2020-01-14 11:42:47 [urllib3.connectionpool] DEBUG: Starting new HTTPS connection (1): home.kpmg:443\n",
      "2020-01-14 11:42:47 [urllib3.connectionpool] DEBUG: https://home.kpmg:443 \"GET /xx/en/home/insights/2018/10/2018-fintech-100-the-worlds-leading-fintech-innovators-fs.html HTTP/1.1\" 200 37035\n"
     ]
    },
    {
     "name": "stdout",
     "output_type": "stream",
     "text": [
      "https://home.kpmg/xx/en/home/insights/2018/10/pra-temporary-permissions-regime.html\n",
      "https://home.kpmg/xx/en/home/insights/2018/10/2018-fintech-100-the-worlds-leading-fintech-innovators-fs.html\n"
     ]
    },
    {
     "name": "stderr",
     "output_type": "stream",
     "text": [
      "2020-01-14 11:42:47 [urllib3.connectionpool] DEBUG: Starting new HTTPS connection (1): home.kpmg:443\n",
      "2020-01-14 11:42:47 [urllib3.connectionpool] DEBUG: https://home.kpmg:443 \"GET /xx/en/home/insights/2018/10/rfr-regulatory-round-up-fs.html HTTP/1.1\" 200 39069\n",
      "2020-01-14 11:42:47 [scrapy.core.engine] DEBUG: Crawled (200) <GET https://home.kpmg/xx/en/home/insights/2018/10/lead-in-cyber-insurance-fs.html> (referer: None)\n",
      "2020-01-14 11:42:47 [scrapy.core.engine] DEBUG: Crawled (200) <GET https://home.kpmg/xx/en/home/insights/2018/10/nhs-improvement.html> (referer: None)\n"
     ]
    },
    {
     "name": "stdout",
     "output_type": "stream",
     "text": [
      "https://home.kpmg/xx/en/home/insights/2018/10/rfr-regulatory-round-up-fs.html\n"
     ]
    },
    {
     "name": "stderr",
     "output_type": "stream",
     "text": [
      "2020-01-14 11:42:47 [scrapy.core.engine] DEBUG: Crawled (200) <GET https://home.kpmg/xx/en/home/insights/2018/10/market-update-oil-gas.html> (referer: None)\n",
      "2020-01-14 11:42:47 [urllib3.connectionpool] DEBUG: Starting new HTTPS connection (1): home.kpmg:443\n",
      "2020-01-14 11:42:48 [urllib3.connectionpool] DEBUG: https://home.kpmg:443 \"GET /xx/en/home/insights/2018/10/lead-in-cyber-insurance-fs.html HTTP/1.1\" 200 37559\n",
      "2020-01-14 11:42:48 [scrapy.core.engine] DEBUG: Crawled (200) <GET https://home.kpmg/xx/en/home/insights/2018/10/regulatory-focus-on-funds-is-relentless-fs.html> (referer: None)\n",
      "2020-01-14 11:42:48 [urllib3.connectionpool] DEBUG: Starting new HTTPS connection (1): home.kpmg:443\n",
      "2020-01-14 11:42:48 [urllib3.connectionpool] DEBUG: https://home.kpmg:443 \"GET /xx/en/home/insights/2018/10/nhs-improvement.html HTTP/1.1\" 200 33612\n"
     ]
    },
    {
     "name": "stdout",
     "output_type": "stream",
     "text": [
      "https://home.kpmg/xx/en/home/insights/2018/10/lead-in-cyber-insurance-fs.html\n",
      "https://home.kpmg/xx/en/home/insights/2018/10/nhs-improvement.html\n"
     ]
    },
    {
     "name": "stderr",
     "output_type": "stream",
     "text": [
      "2020-01-14 11:42:48 [urllib3.connectionpool] DEBUG: Starting new HTTPS connection (1): home.kpmg:443\n",
      "2020-01-14 11:42:48 [urllib3.connectionpool] DEBUG: https://home.kpmg:443 \"GET /xx/en/home/insights/2018/10/market-update-oil-gas.html HTTP/1.1\" 200 40758\n",
      "2020-01-14 11:42:48 [urllib3.connectionpool] DEBUG: Starting new HTTPS connection (1): home.kpmg:443\n",
      "2020-01-14 11:42:48 [urllib3.connectionpool] DEBUG: https://home.kpmg:443 \"GET /xx/en/home/insights/2018/10/regulatory-focus-on-funds-is-relentless-fs.html HTTP/1.1\" 200 38013\n",
      "2020-01-14 11:42:48 [scrapy.core.engine] DEBUG: Crawled (200) <GET https://home.kpmg/xx/en/home/insights/2018/10/brexit-tpr-bau-almost-fs.html> (referer: None)\n"
     ]
    },
    {
     "name": "stdout",
     "output_type": "stream",
     "text": [
      "https://home.kpmg/xx/en/home/insights/2018/10/market-update-oil-gas.html\n",
      "https://home.kpmg/xx/en/home/insights/2018/10/regulatory-focus-on-funds-is-relentless-fs.html\n"
     ]
    },
    {
     "name": "stderr",
     "output_type": "stream",
     "text": [
      "2020-01-14 11:42:48 [scrapy.core.engine] DEBUG: Crawled (200) <GET https://home.kpmg/xx/en/home/insights/2018/09/market-update-oil-gas.html> (referer: None)\n",
      "2020-01-14 11:42:48 [urllib3.connectionpool] DEBUG: Starting new HTTPS connection (1): home.kpmg:443\n",
      "2020-01-14 11:42:48 [urllib3.connectionpool] DEBUG: https://home.kpmg:443 \"GET /xx/en/home/insights/2018/10/brexit-tpr-bau-almost-fs.html HTTP/1.1\" 200 38782\n",
      "2020-01-14 11:42:48 [scrapy.core.engine] DEBUG: Crawled (200) <GET https://home.kpmg/xx/en/home/insights/2018/10/further-brexit-transitional-arrangements-fs.html> (referer: None)\n",
      "2020-01-14 11:42:48 [scrapy.core.engine] DEBUG: Crawled (200) <GET https://home.kpmg/xx/en/home/insights/2018/10/proposed-brexit-no-deal-rules-fs.html> (referer: None)\n",
      "2020-01-14 11:42:48 [urllib3.connectionpool] DEBUG: Starting new HTTPS connection (1): home.kpmg:443\n",
      "2020-01-14 11:42:48 [urllib3.connectionpool] DEBUG: https://home.kpmg:443 \"GET /xx/en/home/insights/2018/09/market-update-oil-gas.html HTTP/1.1\" 200 37131\n"
     ]
    },
    {
     "name": "stdout",
     "output_type": "stream",
     "text": [
      "https://home.kpmg/xx/en/home/insights/2018/10/brexit-tpr-bau-almost-fs.html\n",
      "https://home.kpmg/xx/en/home/insights/2018/09/market-update-oil-gas.html\n"
     ]
    },
    {
     "name": "stderr",
     "output_type": "stream",
     "text": [
      "2020-01-14 11:42:48 [urllib3.connectionpool] DEBUG: Starting new HTTPS connection (1): home.kpmg:443\n",
      "2020-01-14 11:42:48 [urllib3.connectionpool] DEBUG: https://home.kpmg:443 \"GET /xx/en/home/insights/2018/10/further-brexit-transitional-arrangements-fs.html HTTP/1.1\" 200 33448\n",
      "2020-01-14 11:42:48 [scrapy.core.engine] DEBUG: Crawled (200) <GET https://home.kpmg/xx/en/home/insights/2018/06/artificial-intelligence-possible-enterprise-applications-and-development-scenarios-to-2040.html> (referer: None)\n",
      "2020-01-14 11:42:48 [urllib3.connectionpool] DEBUG: Starting new HTTPS connection (1): home.kpmg:443\n",
      "2020-01-14 11:42:48 [urllib3.connectionpool] DEBUG: https://home.kpmg:443 \"GET /xx/en/home/insights/2018/10/proposed-brexit-no-deal-rules-fs.html HTTP/1.1\" 200 36845\n"
     ]
    },
    {
     "name": "stdout",
     "output_type": "stream",
     "text": [
      "https://home.kpmg/xx/en/home/insights/2018/10/further-brexit-transitional-arrangements-fs.html\n",
      "https://home.kpmg/xx/en/home/insights/2018/10/proposed-brexit-no-deal-rules-fs.html\n"
     ]
    },
    {
     "name": "stderr",
     "output_type": "stream",
     "text": [
      "2020-01-14 11:42:48 [scrapy.core.engine] DEBUG: Crawled (200) <GET https://home.kpmg/xx/en/home/insights/2018/09/transition-from-libor-to-risk-free-rates-dear-ceo-letter-fs.html> (referer: None)\n",
      "2020-01-14 11:42:48 [urllib3.connectionpool] DEBUG: Starting new HTTPS connection (1): home.kpmg:443\n",
      "2020-01-14 11:42:48 [urllib3.connectionpool] DEBUG: https://home.kpmg:443 \"GET /xx/en/home/insights/2018/06/artificial-intelligence-possible-enterprise-applications-and-development-scenarios-to-2040.html HTTP/1.1\" 200 36870\n",
      "2020-01-14 11:42:48 [scrapy.core.engine] DEBUG: Crawled (200) <GET https://home.kpmg/xx/en/home/insights/2018/09/buying-for-operational-readiness-military-procurement.html> (referer: None)\n",
      "2020-01-14 11:42:49 [scrapy.core.engine] DEBUG: Crawled (200) <GET https://home.kpmg/xx/en/home/insights/2018/10/impact-of-basel-4-on-eu-banks-fs.html> (referer: None)\n",
      "2020-01-14 11:42:49 [urllib3.connectionpool] DEBUG: Starting new HTTPS connection (1): home.kpmg:443\n",
      "2020-01-14 11:42:49 [urllib3.connectionpool] DEBUG: https://home.kpmg:443 \"GET /xx/en/home/insights/2018/09/transition-from-libor-to-risk-free-rates-dear-ceo-letter-fs.html HTTP/1.1\" 200 36851\n"
     ]
    },
    {
     "name": "stdout",
     "output_type": "stream",
     "text": [
      "https://home.kpmg/xx/en/home/insights/2018/06/artificial-intelligence-possible-enterprise-applications-and-development-scenarios-to-2040.html\n",
      "https://home.kpmg/xx/en/home/insights/2018/09/transition-from-libor-to-risk-free-rates-dear-ceo-letter-fs.html\n"
     ]
    },
    {
     "name": "stderr",
     "output_type": "stream",
     "text": [
      "2020-01-14 11:42:49 [scrapy.core.engine] DEBUG: Crawled (200) <GET https://home.kpmg/xx/en/home/insights/2018/10/kpmg-retains-leader-ranking-among-enterprise-insights-service-providers-in-new-forrester-report.html> (referer: None)\n",
      "2020-01-14 11:42:49 [urllib3.connectionpool] DEBUG: Starting new HTTPS connection (1): home.kpmg:443\n",
      "2020-01-14 11:42:49 [urllib3.connectionpool] DEBUG: https://home.kpmg:443 \"GET /xx/en/home/insights/2018/09/buying-for-operational-readiness-military-procurement.html HTTP/1.1\" 200 43158\n",
      "2020-01-14 11:42:49 [urllib3.connectionpool] DEBUG: Starting new HTTPS connection (1): home.kpmg:443\n",
      "2020-01-14 11:42:49 [urllib3.connectionpool] DEBUG: https://home.kpmg:443 \"GET /xx/en/home/insights/2018/10/impact-of-basel-4-on-eu-banks-fs.html HTTP/1.1\" 200 37522\n",
      "2020-01-14 11:42:49 [scrapy.core.engine] DEBUG: Crawled (200) <GET https://home.kpmg/xx/en/home/insights/2018/09/in-it-to-win-it-ifrs-key-findings-fs.html> (referer: None)\n",
      "2020-01-14 11:42:49 [scrapy.core.engine] DEBUG: Crawled (200) <GET https://home.kpmg/xx/en/home/insights/2018/09/driving-value-through-diagnostics.html> (referer: None)\n",
      "2020-01-14 11:42:49 [scrapy.core.engine] DEBUG: Crawled (200) <GET https://home.kpmg/xx/en/home/insights/2018/09/making-the-right-investments-to-win-customers-in-banking-fs.html> (referer: None)\n"
     ]
    },
    {
     "name": "stdout",
     "output_type": "stream",
     "text": [
      "https://home.kpmg/xx/en/home/insights/2018/09/buying-for-operational-readiness-military-procurement.html\n",
      "https://home.kpmg/xx/en/home/insights/2018/10/impact-of-basel-4-on-eu-banks-fs.html\n",
      "https://home.kpmg/xx/en/home/insights/2018/10/kpmg-retains-leader-ranking-among-enterprise-insights-service-providers-in-new-forrester-report.html"
     ]
    },
    {
     "name": "stderr",
     "output_type": "stream",
     "text": [
      "2020-01-14 11:42:49 [urllib3.connectionpool] DEBUG: Starting new HTTPS connection (1): home.kpmg:443\n",
      "2020-01-14 11:42:49 [urllib3.connectionpool] DEBUG: https://home.kpmg:443 \"GET /xx/en/home/insights/2018/10/kpmg-retains-leader-ranking-among-enterprise-insights-service-providers-in-new-forrester-report.html HTTP/1.1\" 200 35997\n",
      "2020-01-14 11:42:49 [urllib3.connectionpool] DEBUG: Starting new HTTPS connection (1): home.kpmg:443\n",
      "2020-01-14 11:42:49 [urllib3.connectionpool] DEBUG: https://home.kpmg:443 \"GET /xx/en/home/insights/2018/09/in-it-to-win-it-ifrs-key-findings-fs.html HTTP/1.1\" 200 35708\n",
      "2020-01-14 11:42:49 [scrapy.core.engine] DEBUG: Crawled (200) <GET https://home.kpmg/xx/en/home/insights/2018/09/cio-survey-2018-for-construction.html> (referer: None)\n",
      "2020-01-14 11:42:49 [urllib3.connectionpool] DEBUG: Starting new HTTPS connection (1): home.kpmg:443\n"
     ]
    },
    {
     "name": "stdout",
     "output_type": "stream",
     "text": [
      "\n",
      "https://home.kpmg/xx/en/home/insights/2018/09/in-it-to-win-it-ifrs-key-findings-fs.html\n",
      "https://home.kpmg/xx/en/home/insights/2018/09/driving-value-through-diagnostics.html\n"
     ]
    },
    {
     "name": "stderr",
     "output_type": "stream",
     "text": [
      "2020-01-14 11:42:49 [urllib3.connectionpool] DEBUG: https://home.kpmg:443 \"GET /xx/en/home/insights/2018/09/driving-value-through-diagnostics.html HTTP/1.1\" 200 38734\n",
      "2020-01-14 11:42:49 [urllib3.connectionpool] DEBUG: Starting new HTTPS connection (1): home.kpmg:443\n",
      "2020-01-14 11:42:49 [urllib3.connectionpool] DEBUG: https://home.kpmg:443 \"GET /xx/en/home/insights/2018/09/making-the-right-investments-to-win-customers-in-banking-fs.html HTTP/1.1\" 200 36214\n",
      "2020-01-14 11:42:49 [urllib3.connectionpool] DEBUG: Starting new HTTPS connection (1): home.kpmg:443\n",
      "2020-01-14 11:42:49 [urllib3.connectionpool] DEBUG: https://home.kpmg:443 \"GET /xx/en/home/insights/2018/09/cio-survey-2018-for-construction.html HTTP/1.1\" 200 34507\n"
     ]
    },
    {
     "name": "stdout",
     "output_type": "stream",
     "text": [
      "https://home.kpmg/xx/en/home/insights/2018/09/making-the-right-investments-to-win-customers-in-banking-fs.html\n",
      "https://home.kpmg/xx/en/home/insights/2018/09/cio-survey-2018-for-construction.html\n"
     ]
    },
    {
     "name": "stderr",
     "output_type": "stream",
     "text": [
      "2020-01-14 11:42:50 [scrapy.core.engine] DEBUG: Crawled (200) <GET https://home.kpmg/xx/en/home/insights/2018/08/market-update-oil-gas.html> (referer: None)\n",
      "2020-01-14 11:42:50 [scrapy.core.engine] DEBUG: Crawled (200) <GET https://home.kpmg/xx/en/home/insights/2018/09/kpmg-data-and-analytics-workathon-with-microsoft.html> (referer: None)\n",
      "2020-01-14 11:42:50 [scrapy.core.engine] DEBUG: Crawled (200) <GET https://home.kpmg/xx/en/home/insights/2018/08/preparing-for-regulation-after-brexit-fs.html> (referer: None)\n",
      "2020-01-14 11:42:50 [urllib3.connectionpool] DEBUG: Starting new HTTPS connection (1): home.kpmg:443\n",
      "2020-01-14 11:42:50 [urllib3.connectionpool] DEBUG: https://home.kpmg:443 \"GET /xx/en/home/insights/2018/08/market-update-oil-gas.html HTTP/1.1\" 200 37007\n",
      "2020-01-14 11:42:50 [scrapy.core.engine] DEBUG: Crawled (200) <GET https://home.kpmg/xx/en/home/insights/2018/08/libor-to-risk-free-rate-fs.html> (referer: None)\n",
      "2020-01-14 11:42:50 [urllib3.connectionpool] DEBUG: Starting new HTTPS connection (1): home.kpmg:443\n",
      "2020-01-14 11:42:50 [urllib3.connectionpool] DEBUG: https://home.kpmg:443 \"GET /xx/en/home/insights/2018/09/kpmg-data-and-analytics-workathon-with-microsoft.html HTTP/1.1\" 200 36247\n"
     ]
    },
    {
     "name": "stdout",
     "output_type": "stream",
     "text": [
      "https://home.kpmg/xx/en/home/insights/2018/08/market-update-oil-gas.html\n",
      "https://home.kpmg/xx/en/home/insights/2018/09/kpmg-data-and-analytics-workathon-with-microsoft.html\n",
      "https://home.kpmg/xx/en/home/insights/2018/08/preparing-for-regulation-after-brexit-fs.html\n"
     ]
    },
    {
     "name": "stderr",
     "output_type": "stream",
     "text": [
      "2020-01-14 11:42:50 [urllib3.connectionpool] DEBUG: Starting new HTTPS connection (1): home.kpmg:443\n",
      "2020-01-14 11:42:50 [urllib3.connectionpool] DEBUG: https://home.kpmg:443 \"GET /xx/en/home/insights/2018/08/preparing-for-regulation-after-brexit-fs.html HTTP/1.1\" 200 37445\n",
      "2020-01-14 11:42:50 [urllib3.connectionpool] DEBUG: Starting new HTTPS connection (1): home.kpmg:443\n",
      "2020-01-14 11:42:50 [urllib3.connectionpool] DEBUG: https://home.kpmg:443 \"GET /xx/en/home/insights/2018/08/libor-to-risk-free-rate-fs.html HTTP/1.1\" 200 38824\n"
     ]
    },
    {
     "name": "stdout",
     "output_type": "stream",
     "text": [
      "https://home.kpmg/xx/en/home/insights/2018/08/libor-to-risk-free-rate-fs.html\n"
     ]
    },
    {
     "name": "stderr",
     "output_type": "stream",
     "text": [
      "2020-01-14 11:42:51 [scrapy.core.engine] DEBUG: Crawled (200) <GET https://home.kpmg/xx/en/home/insights/2018/08/data-science-of-the-multidimensional-customer.html> (referer: None)\n",
      "2020-01-14 11:42:51 [urllib3.connectionpool] DEBUG: Starting new HTTPS connection (1): home.kpmg:443\n",
      "2020-01-14 11:42:51 [urllib3.connectionpool] DEBUG: https://home.kpmg:443 \"GET /xx/en/home/insights/2018/08/data-science-of-the-multidimensional-customer.html HTTP/1.1\" 200 36600\n",
      "2020-01-14 11:42:51 [scrapy.core.engine] DEBUG: Crawled (200) <GET https://home.kpmg/xx/en/home/insights/2018/08/global-cio-survey-with-harvey-nash-the-transformational-cio.html> (referer: None)\n",
      "2020-01-14 11:42:51 [scrapy.core.engine] DEBUG: Crawled (200) <GET https://home.kpmg/xx/en/home/insights/2018/08/global-ceo-outlook-how-do-ceos-see-data-driven-future.html> (referer: None)\n"
     ]
    },
    {
     "name": "stdout",
     "output_type": "stream",
     "text": [
      "https://home.kpmg/xx/en/home/insights/2018/08/data-science-of-the-multidimensional-customer.html\n"
     ]
    },
    {
     "name": "stderr",
     "output_type": "stream",
     "text": [
      "2020-01-14 11:42:51 [urllib3.connectionpool] DEBUG: Starting new HTTPS connection (1): home.kpmg:443\n",
      "2020-01-14 11:42:51 [urllib3.connectionpool] DEBUG: https://home.kpmg:443 \"GET /xx/en/home/insights/2018/08/global-cio-survey-with-harvey-nash-the-transformational-cio.html HTTP/1.1\" 200 36520\n",
      "2020-01-14 11:42:51 [scrapy.core.engine] DEBUG: Crawled (200) <GET https://home.kpmg/xx/en/home/insights/2018/08/2018-global-healthcare-conference.html> (referer: None)\n",
      "2020-01-14 11:42:51 [scrapy.core.engine] DEBUG: Crawled (200) <GET https://home.kpmg/xx/en/home/insights/2018/08/2018-global-consumer-executive-top-of-mind-survey.html> (referer: None)\n",
      "2020-01-14 11:42:51 [urllib3.connectionpool] DEBUG: Starting new HTTPS connection (1): home.kpmg:443\n",
      "2020-01-14 11:42:51 [urllib3.connectionpool] DEBUG: https://home.kpmg:443 \"GET /xx/en/home/insights/2018/08/global-ceo-outlook-how-do-ceos-see-data-driven-future.html HTTP/1.1\" 200 36838\n",
      "2020-01-14 11:42:51 [scrapy.core.engine] DEBUG: Crawled (200) <GET https://home.kpmg/xx/en/home/insights/2018/08/do-we-really-trust-the-numbers.html> (referer: None)\n"
     ]
    },
    {
     "name": "stdout",
     "output_type": "stream",
     "text": [
      "https://home.kpmg/xx/en/home/insights/2018/08/global-cio-survey-with-harvey-nash-the-transformational-cio.html\n",
      "https://home.kpmg/xx/en/home/insights/2018/08/global-ceo-outlook-how-do-ceos-see-data-driven-future.html\n"
     ]
    },
    {
     "name": "stderr",
     "output_type": "stream",
     "text": [
      "2020-01-14 11:42:51 [urllib3.connectionpool] DEBUG: Starting new HTTPS connection (1): home.kpmg:443\n",
      "2020-01-14 11:42:51 [urllib3.connectionpool] DEBUG: https://home.kpmg:443 \"GET /xx/en/home/insights/2018/08/2018-global-healthcare-conference.html HTTP/1.1\" 200 41545\n",
      "2020-01-14 11:42:51 [urllib3.connectionpool] DEBUG: Starting new HTTPS connection (1): home.kpmg:443\n",
      "2020-01-14 11:42:51 [urllib3.connectionpool] DEBUG: https://home.kpmg:443 \"GET /xx/en/home/insights/2018/08/2018-global-consumer-executive-top-of-mind-survey.html HTTP/1.1\" 200 37112\n",
      "2020-01-14 11:42:51 [scrapy.core.engine] DEBUG: Crawled (200) <GET https://home.kpmg/xx/en/home/insights/2018/08/gov-open-for-disruption.html> (referer: None)\n",
      "2020-01-14 11:42:51 [urllib3.connectionpool] DEBUG: Starting new HTTPS connection (1): home.kpmg:443\n"
     ]
    },
    {
     "name": "stdout",
     "output_type": "stream",
     "text": [
      "https://home.kpmg/xx/en/home/insights/2018/08/2018-global-healthcare-conference.html\n",
      "https://home.kpmg/xx/en/home/insights/2018/08/2018-global-consumer-executive-top-of-mind-survey.html\n",
      "https://home.kpmg/xx/en/home/insights/2018/08/do-we-really-trust-the-numbers.html\n"
     ]
    },
    {
     "name": "stderr",
     "output_type": "stream",
     "text": [
      "2020-01-14 11:42:51 [urllib3.connectionpool] DEBUG: https://home.kpmg:443 \"GET /xx/en/home/insights/2018/08/do-we-really-trust-the-numbers.html HTTP/1.1\" 200 35255\n",
      "2020-01-14 11:42:51 [urllib3.connectionpool] DEBUG: Starting new HTTPS connection (1): home.kpmg:443\n",
      "2020-01-14 11:42:51 [urllib3.connectionpool] DEBUG: https://home.kpmg:443 \"GET /xx/en/home/insights/2018/08/gov-open-for-disruption.html HTTP/1.1\" 200 36546\n",
      "2020-01-14 11:42:51 [scrapy.core.engine] DEBUG: Crawled (200) <GET https://home.kpmg/xx/en/home/insights/2018/08/disruption-in-a-digitally-connected-future.html> (referer: None)\n",
      "2020-01-14 11:42:52 [scrapy.core.engine] DEBUG: Crawled (200) <GET https://home.kpmg/xx/en/home/insights/2018/07/our-analytics-capabilities.html> (referer: None)\n"
     ]
    },
    {
     "name": "stdout",
     "output_type": "stream",
     "text": [
      "https://home.kpmg/xx/en/home/insights/2018/08/gov-open-for-disruption.html\n"
     ]
    },
    {
     "name": "stderr",
     "output_type": "stream",
     "text": [
      "2020-01-14 11:42:52 [urllib3.connectionpool] DEBUG: Starting new HTTPS connection (1): home.kpmg:443\n",
      "2020-01-14 11:42:52 [urllib3.connectionpool] DEBUG: https://home.kpmg:443 \"GET /xx/en/home/insights/2018/08/disruption-in-a-digitally-connected-future.html HTTP/1.1\" 200 36537\n",
      "2020-01-14 11:42:52 [scrapy.core.engine] DEBUG: Crawled (200) <GET https://home.kpmg/xx/en/home/insights/2018/07/our-artificial-intelligence-capabilities.html> (referer: None)\n",
      "2020-01-14 11:42:52 [urllib3.connectionpool] DEBUG: Starting new HTTPS connection (1): home.kpmg:443\n",
      "2020-01-14 11:42:52 [urllib3.connectionpool] DEBUG: https://home.kpmg:443 \"GET /xx/en/home/insights/2018/07/our-analytics-capabilities.html HTTP/1.1\" 200 36059\n"
     ]
    },
    {
     "name": "stdout",
     "output_type": "stream",
     "text": [
      "https://home.kpmg/xx/en/home/insights/2018/08/disruption-in-a-digitally-connected-future.html\n",
      "https://home.kpmg/xx/en/home/insights/2018/07/our-analytics-capabilities.html\n"
     ]
    },
    {
     "name": "stderr",
     "output_type": "stream",
     "text": [
      "2020-01-14 11:42:52 [scrapy.core.engine] DEBUG: Crawled (200) <GET https://home.kpmg/xx/en/home/insights/2018/08/governing-the-bot-revolution-intelligent-process-automation.html> (referer: None)\n",
      "2020-01-14 11:42:52 [urllib3.connectionpool] DEBUG: Starting new HTTPS connection (1): home.kpmg:443\n",
      "2020-01-14 11:42:52 [urllib3.connectionpool] DEBUG: https://home.kpmg:443 \"GET /xx/en/home/insights/2018/07/our-artificial-intelligence-capabilities.html HTTP/1.1\" 200 36308\n",
      "2020-01-14 11:42:52 [scrapy.core.engine] DEBUG: Crawled (200) <GET https://home.kpmg/xx/en/home/insights/2018/07/our-intelligent-automation-capabilities.html> (referer: None)\n",
      "2020-01-14 11:42:52 [urllib3.connectionpool] DEBUG: Starting new HTTPS connection (1): home.kpmg:443\n",
      "2020-01-14 11:42:52 [urllib3.connectionpool] DEBUG: https://home.kpmg:443 \"GET /xx/en/home/insights/2018/08/governing-the-bot-revolution-intelligent-process-automation.html HTTP/1.1\" 200 36052\n",
      "2020-01-14 11:42:52 [scrapy.core.engine] DEBUG: Crawled (200) <GET https://home.kpmg/xx/en/home/insights/2018/08/ready-set-fail.html> (referer: None)\n"
     ]
    },
    {
     "name": "stdout",
     "output_type": "stream",
     "text": [
      "https://home.kpmg/xx/en/home/insights/2018/07/our-artificial-intelligence-capabilities.html\n",
      "https://home.kpmg/xx/en/home/insights/2018/08/governing-the-bot-revolution-intelligent-process-automation.html\n"
     ]
    },
    {
     "name": "stderr",
     "output_type": "stream",
     "text": [
      "2020-01-14 11:42:52 [urllib3.connectionpool] DEBUG: Starting new HTTPS connection (1): home.kpmg:443\n",
      "2020-01-14 11:42:52 [urllib3.connectionpool] DEBUG: https://home.kpmg:443 \"GET /xx/en/home/insights/2018/07/our-intelligent-automation-capabilities.html HTTP/1.1\" 200 35983\n",
      "2020-01-14 11:42:52 [scrapy.core.engine] DEBUG: Crawled (200) <GET https://home.kpmg/xx/en/home/insights/2018/08/who-is-responsible-for-data-analytics.html> (referer: None)\n",
      "2020-01-14 11:42:52 [urllib3.connectionpool] DEBUG: Starting new HTTPS connection (1): home.kpmg:443\n",
      "2020-01-14 11:42:52 [urllib3.connectionpool] DEBUG: https://home.kpmg:443 \"GET /xx/en/home/insights/2018/08/ready-set-fail.html HTTP/1.1\" 200 36802\n"
     ]
    },
    {
     "name": "stdout",
     "output_type": "stream",
     "text": [
      "https://home.kpmg/xx/en/home/insights/2018/07/our-intelligent-automation-capabilities.html\n",
      "https://home.kpmg/xx/en/home/insights/2018/08/ready-set-fail.html\n",
      "https://home.kpmg/xx/en/home/insights/2018/08/who-is-responsible-for-data-analytics.html\n"
     ]
    },
    {
     "name": "stderr",
     "output_type": "stream",
     "text": [
      "2020-01-14 11:42:52 [urllib3.connectionpool] DEBUG: Starting new HTTPS connection (1): home.kpmg:443\n",
      "2020-01-14 11:42:52 [urllib3.connectionpool] DEBUG: https://home.kpmg:443 \"GET /xx/en/home/insights/2018/08/who-is-responsible-for-data-analytics.html HTTP/1.1\" 200 36733\n",
      "2020-01-14 11:42:52 [scrapy.core.engine] DEBUG: Crawled (200) <GET https://home.kpmg/xx/en/home/insights/2018/08/rise-of-the-humans-the-integration-of-human-and-digital-labor.html> (referer: None)\n",
      "2020-01-14 11:42:52 [scrapy.core.engine] DEBUG: Crawled (200) <GET https://home.kpmg/xx/en/home/insights/2018/08/the-dawn-of-artificial-intelligence.html> (referer: None)\n",
      "2020-01-14 11:42:52 [scrapy.core.engine] DEBUG: Crawled (200) <GET https://home.kpmg/xx/en/home/insights/2018/07/contract-certainty-fs.html> (referer: None)\n",
      "2020-01-14 11:42:52 [scrapy.core.engine] DEBUG: Crawled (200) <GET https://home.kpmg/xx/en/home/insights/2018/07/the-future-for-digital-in-healthcare.html> (referer: None)\n",
      "2020-01-14 11:42:52 [urllib3.connectionpool] DEBUG: Starting new HTTPS connection (1): home.kpmg:443\n",
      "2020-01-14 11:42:52 [urllib3.connectionpool] DEBUG: https://home.kpmg:443 \"GET /xx/en/home/insights/2018/08/rise-of-the-humans-the-integration-of-human-and-digital-labor.html HTTP/1.1\" 200 36695\n",
      "2020-01-14 11:42:52 [urllib3.connectionpool] DEBUG: Starting new HTTPS connection (1): home.kpmg:443\n",
      "2020-01-14 11:42:53 [urllib3.connectionpool] DEBUG: https://home.kpmg:443 \"GET /xx/en/home/insights/2018/08/the-dawn-of-artificial-intelligence.html HTTP/1.1\" 200 36949\n"
     ]
    },
    {
     "name": "stdout",
     "output_type": "stream",
     "text": [
      "https://home.kpmg/xx/en/home/insights/2018/08/rise-of-the-humans-the-integration-of-human-and-digital-labor.html\n",
      "https://home.kpmg/xx/en/home/insights/2018/08/the-dawn-of-artificial-intelligence.html\n",
      "https://home.kpmg/xx/en/home/insights/2018/07/contract-certainty-fs.html"
     ]
    },
    {
     "name": "stderr",
     "output_type": "stream",
     "text": [
      "2020-01-14 11:42:53 [urllib3.connectionpool] DEBUG: Starting new HTTPS connection (1): home.kpmg:443\n",
      "2020-01-14 11:42:53 [urllib3.connectionpool] DEBUG: https://home.kpmg:443 \"GET /xx/en/home/insights/2018/07/contract-certainty-fs.html HTTP/1.1\" 200 36405\n",
      "2020-01-14 11:42:53 [urllib3.connectionpool] DEBUG: Starting new HTTPS connection (1): home.kpmg:443\n",
      "2020-01-14 11:42:53 [urllib3.connectionpool] DEBUG: https://home.kpmg:443 \"GET /xx/en/home/insights/2018/07/the-future-for-digital-in-healthcare.html HTTP/1.1\" 200 37820\n"
     ]
    },
    {
     "name": "stdout",
     "output_type": "stream",
     "text": [
      "\n",
      "https://home.kpmg/xx/en/home/insights/2018/07/the-future-for-digital-in-healthcare.html\n"
     ]
    },
    {
     "name": "stderr",
     "output_type": "stream",
     "text": [
      "2020-01-14 11:42:53 [scrapy.core.engine] DEBUG: Crawled (200) <GET https://home.kpmg/xx/en/home/insights/2018/07/our-data-driven-capabilities.html> (referer: None)\n",
      "2020-01-14 11:42:53 [scrapy.core.engine] DEBUG: Crawled (200) <GET https://home.kpmg/xx/en/home/insights/2018/07/boe-financial-stability-concerns-fs.html> (referer: None)\n",
      "2020-01-14 11:42:53 [urllib3.connectionpool] DEBUG: Starting new HTTPS connection (1): home.kpmg:443\n",
      "2020-01-14 11:42:53 [urllib3.connectionpool] DEBUG: https://home.kpmg:443 \"GET /xx/en/home/insights/2018/07/our-data-driven-capabilities.html HTTP/1.1\" 200 35858\n",
      "2020-01-14 11:42:53 [scrapy.core.engine] DEBUG: Crawled (200) <GET https://home.kpmg/xx/en/home/insights/2018/07/eba-opinion-on-preparations-for-brexit.html> (referer: None)\n",
      "2020-01-14 11:42:53 [urllib3.connectionpool] DEBUG: Starting new HTTPS connection (1): home.kpmg:443\n",
      "2020-01-14 11:42:53 [urllib3.connectionpool] DEBUG: https://home.kpmg:443 \"GET /xx/en/home/insights/2018/07/boe-financial-stability-concerns-fs.html HTTP/1.1\" 200 35984\n",
      "2020-01-14 11:42:53 [scrapy.core.engine] DEBUG: Crawled (200) <GET https://home.kpmg/xx/en/home/insights/2018/07/the-difference-in-our-approach.html> (referer: None)\n"
     ]
    },
    {
     "name": "stdout",
     "output_type": "stream",
     "text": [
      "https://home.kpmg/xx/en/home/insights/2018/07/our-data-driven-capabilities.html\n",
      "https://home.kpmg/xx/en/home/insights/2018/07/boe-financial-stability-concerns-fs.html\n"
     ]
    },
    {
     "name": "stderr",
     "output_type": "stream",
     "text": [
      "2020-01-14 11:42:53 [urllib3.connectionpool] DEBUG: Starting new HTTPS connection (1): home.kpmg:443\n",
      "2020-01-14 11:42:53 [urllib3.connectionpool] DEBUG: https://home.kpmg:443 \"GET /xx/en/home/insights/2018/07/eba-opinion-on-preparations-for-brexit.html HTTP/1.1\" 200 36195\n",
      "2020-01-14 11:42:53 [scrapy.core.engine] DEBUG: Crawled (200) <GET https://home.kpmg/xx/en/home/insights/2018/07/operational-resilience-fs.html> (referer: None)\n",
      "2020-01-14 11:42:53 [scrapy.core.engine] DEBUG: Crawled (200) <GET https://home.kpmg/xx/en/home/insights/2018/07/fsb-assesses-financial-vulnerabilities-fs.html> (referer: None)\n",
      "2020-01-14 11:42:53 [scrapy.core.engine] DEBUG: Crawled (200) <GET https://home.kpmg/xx/en/home/insights/2018/07/insurance-cybersecurity.html> (referer: None)\n",
      "2020-01-14 11:42:53 [scrapy.core.engine] DEBUG: Crawled (200) <GET https://home.kpmg/xx/en/home/insights/2018/06/crr-2-and-brrd-2-proposals.html> (referer: None)\n",
      "2020-01-14 11:42:53 [urllib3.connectionpool] DEBUG: Starting new HTTPS connection (1): home.kpmg:443\n"
     ]
    },
    {
     "name": "stdout",
     "output_type": "stream",
     "text": [
      "https://home.kpmg/xx/en/home/insights/2018/07/eba-opinion-on-preparations-for-brexit.html\n",
      "https://home.kpmg/xx/en/home/insights/2018/07/the-difference-in-our-approach.html\n"
     ]
    },
    {
     "name": "stderr",
     "output_type": "stream",
     "text": [
      "2020-01-14 11:42:53 [urllib3.connectionpool] DEBUG: https://home.kpmg:443 \"GET /xx/en/home/insights/2018/07/the-difference-in-our-approach.html HTTP/1.1\" 200 36270\n",
      "2020-01-14 11:42:53 [scrapy.core.engine] DEBUG: Crawled (200) <GET https://home.kpmg/xx/en/home/insights/2018/07/econ-on-crr-2-crd-5-and-brrd-2-fs.html> (referer: None)\n",
      "2020-01-14 11:42:53 [urllib3.connectionpool] DEBUG: Starting new HTTPS connection (1): home.kpmg:443\n",
      "2020-01-14 11:42:54 [urllib3.connectionpool] DEBUG: https://home.kpmg:443 \"GET /xx/en/home/insights/2018/07/operational-resilience-fs.html HTTP/1.1\" 200 36701\n",
      "2020-01-14 11:42:54 [urllib3.connectionpool] DEBUG: Starting new HTTPS connection (1): home.kpmg:443\n",
      "2020-01-14 11:42:54 [urllib3.connectionpool] DEBUG: https://home.kpmg:443 \"GET /xx/en/home/insights/2018/07/fsb-assesses-financial-vulnerabilities-fs.html HTTP/1.1\" 200 35696\n",
      "2020-01-14 11:42:54 [scrapy.core.engine] DEBUG: Crawled (200) <GET https://home.kpmg/xx/en/home/insights/2018/07/market-update-oil-gas.html> (referer: None)\n"
     ]
    },
    {
     "name": "stdout",
     "output_type": "stream",
     "text": [
      "https://home.kpmg/xx/en/home/insights/2018/07/operational-resilience-fs.html\n",
      "https://home.kpmg/xx/en/home/insights/2018/07/fsb-assesses-financial-vulnerabilities-fs.html\n"
     ]
    },
    {
     "name": "stderr",
     "output_type": "stream",
     "text": [
      "2020-01-14 11:42:54 [urllib3.connectionpool] DEBUG: Starting new HTTPS connection (1): home.kpmg:443\n",
      "2020-01-14 11:42:54 [urllib3.connectionpool] DEBUG: https://home.kpmg:443 \"GET /xx/en/home/insights/2018/07/insurance-cybersecurity.html HTTP/1.1\" 200 35453\n",
      "2020-01-14 11:42:54 [urllib3.connectionpool] DEBUG: Starting new HTTPS connection (1): home.kpmg:443\n",
      "2020-01-14 11:42:54 [urllib3.connectionpool] DEBUG: https://home.kpmg:443 \"GET /xx/en/home/insights/2018/06/crr-2-and-brrd-2-proposals.html HTTP/1.1\" 200 36478\n",
      "2020-01-14 11:42:54 [urllib3.connectionpool] DEBUG: Starting new HTTPS connection (1): home.kpmg:443\n"
     ]
    },
    {
     "name": "stdout",
     "output_type": "stream",
     "text": [
      "https://home.kpmg/xx/en/home/insights/2018/07/insurance-cybersecurity.html\n",
      "https://home.kpmg/xx/en/home/insights/2018/06/crr-2-and-brrd-2-proposals.html\n",
      "https://home.kpmg/xx/en/home/insights/2018/07/econ-on-crr-2-crd-5-and-brrd-2-fs.html\n"
     ]
    },
    {
     "name": "stderr",
     "output_type": "stream",
     "text": [
      "2020-01-14 11:42:54 [urllib3.connectionpool] DEBUG: https://home.kpmg:443 \"GET /xx/en/home/insights/2018/07/econ-on-crr-2-crd-5-and-brrd-2-fs.html HTTP/1.1\" 200 36350\n",
      "2020-01-14 11:42:54 [urllib3.connectionpool] DEBUG: Starting new HTTPS connection (1): home.kpmg:443\n",
      "2020-01-14 11:42:54 [urllib3.connectionpool] DEBUG: https://home.kpmg:443 \"GET /xx/en/home/insights/2018/07/market-update-oil-gas.html HTTP/1.1\" 200 40072\n",
      "2020-01-14 11:42:54 [scrapy.core.engine] DEBUG: Crawled (200) <GET https://home.kpmg/xx/en/home/insights/2018/07/integrated-facility-management.html> (referer: None)\n",
      "2020-01-14 11:42:54 [scrapy.core.engine] DEBUG: Crawled (200) <GET https://home.kpmg/xx/en/home/insights/2018/07/blockchain-spotlight-asian-stock-exchange.html> (referer: None)\n"
     ]
    },
    {
     "name": "stdout",
     "output_type": "stream",
     "text": [
      "https://home.kpmg/xx/en/home/insights/2018/07/market-update-oil-gas.html\n"
     ]
    },
    {
     "name": "stderr",
     "output_type": "stream",
     "text": [
      "2020-01-14 11:42:54 [urllib3.connectionpool] DEBUG: Starting new HTTPS connection (1): home.kpmg:443\n",
      "2020-01-14 11:42:54 [urllib3.connectionpool] DEBUG: https://home.kpmg:443 \"GET /xx/en/home/insights/2018/07/integrated-facility-management.html HTTP/1.1\" 200 37010\n",
      "2020-01-14 11:42:54 [urllib3.connectionpool] DEBUG: Starting new HTTPS connection (1): home.kpmg:443\n",
      "2020-01-14 11:42:54 [urllib3.connectionpool] DEBUG: https://home.kpmg:443 \"GET /xx/en/home/insights/2018/07/blockchain-spotlight-asian-stock-exchange.html HTTP/1.1\" 200 35329\n"
     ]
    },
    {
     "name": "stdout",
     "output_type": "stream",
     "text": [
      "https://home.kpmg/xx/en/home/insights/2018/07/integrated-facility-management.html\n",
      "https://home.kpmg/xx/en/home/insights/2018/07/blockchain-spotlight-asian-stock-exchange.html\n"
     ]
    },
    {
     "name": "stderr",
     "output_type": "stream",
     "text": [
      "2020-01-14 11:42:55 [scrapy.core.engine] DEBUG: Crawled (200) <GET https://home.kpmg/xx/en/home/insights/2018/06/basel-committee-work-programme-fs.html> (referer: None)\n",
      "2020-01-14 11:42:55 [scrapy.core.engine] DEBUG: Crawled (200) <GET https://home.kpmg/xx/en/home/insights/2018/06/retail-holdings-of-bank-debt.html> (referer: None)\n",
      "2020-01-14 11:42:55 [scrapy.core.engine] DEBUG: Crawled (200) <GET https://home.kpmg/xx/en/home/insights/2018/06/commission-draft-rules-for-fund-assets.html> (referer: None)\n",
      "2020-01-14 11:42:55 [urllib3.connectionpool] DEBUG: Starting new HTTPS connection (1): home.kpmg:443\n",
      "2020-01-14 11:42:55 [urllib3.connectionpool] DEBUG: https://home.kpmg:443 \"GET /xx/en/home/insights/2018/06/basel-committee-work-programme-fs.html HTTP/1.1\" 200 35794\n",
      "2020-01-14 11:42:55 [scrapy.core.engine] DEBUG: Crawled (200) <GET https://home.kpmg/xx/en/home/insights/2018/06/valuation-in-resolution.html> (referer: None)\n",
      "2020-01-14 11:42:55 [scrapy.core.engine] DEBUG: Crawled (200) <GET https://home.kpmg/xx/en/home/insights/2018/06/the-global-regulatory-landscape.html> (referer: None)\n",
      "2020-01-14 11:42:55 [urllib3.connectionpool] DEBUG: Starting new HTTPS connection (1): home.kpmg:443\n",
      "2020-01-14 11:42:55 [urllib3.connectionpool] DEBUG: https://home.kpmg:443 \"GET /xx/en/home/insights/2018/06/retail-holdings-of-bank-debt.html HTTP/1.1\" 200 36348\n"
     ]
    },
    {
     "name": "stdout",
     "output_type": "stream",
     "text": [
      "https://home.kpmg/xx/en/home/insights/2018/06/basel-committee-work-programme-fs.html\n",
      "https://home.kpmg/xx/en/home/insights/2018/06/retail-holdings-of-bank-debt.html\n"
     ]
    },
    {
     "name": "stderr",
     "output_type": "stream",
     "text": [
      "2020-01-14 11:42:55 [urllib3.connectionpool] DEBUG: Starting new HTTPS connection (1): home.kpmg:443\n",
      "2020-01-14 11:42:55 [urllib3.connectionpool] DEBUG: https://home.kpmg:443 \"GET /xx/en/home/insights/2018/06/commission-draft-rules-for-fund-assets.html HTTP/1.1\" 200 36461\n",
      "2020-01-14 11:42:55 [urllib3.connectionpool] DEBUG: Starting new HTTPS connection (1): home.kpmg:443\n",
      "2020-01-14 11:42:55 [urllib3.connectionpool] DEBUG: https://home.kpmg:443 \"GET /xx/en/home/insights/2018/06/valuation-in-resolution.html HTTP/1.1\" 200 36328\n",
      "2020-01-14 11:42:55 [urllib3.connectionpool] DEBUG: Starting new HTTPS connection (1): home.kpmg:443\n"
     ]
    },
    {
     "name": "stdout",
     "output_type": "stream",
     "text": [
      "https://home.kpmg/xx/en/home/insights/2018/06/commission-draft-rules-for-fund-assets.html\n",
      "https://home.kpmg/xx/en/home/insights/2018/06/valuation-in-resolution.html\n",
      "https://home.kpmg/xx/en/home/insights/2018/06/the-global-regulatory-landscape.html\n"
     ]
    },
    {
     "name": "stderr",
     "output_type": "stream",
     "text": [
      "2020-01-14 11:42:55 [urllib3.connectionpool] DEBUG: https://home.kpmg:443 \"GET /xx/en/home/insights/2018/06/the-global-regulatory-landscape.html HTTP/1.1\" 200 37840\n",
      "2020-01-14 11:42:55 [scrapy.core.engine] DEBUG: Crawled (200) <GET https://home.kpmg/xx/en/home/insights/2018/06/market-update-oil-gas.html> (referer: None)\n",
      "2020-01-14 11:42:55 [scrapy.core.engine] DEBUG: Crawled (200) <GET https://home.kpmg/xx/en/home/insights/2018/06/eu-strategy-on-sustainable-finance.html> (referer: None)\n",
      "2020-01-14 11:42:55 [scrapy.core.engine] DEBUG: Crawled (200) <GET https://home.kpmg/xx/en/home/insights/2018/06/data-governance-driving-value-in-health.html> (referer: None)\n",
      "2020-01-14 11:42:55 [scrapy.core.engine] DEBUG: Crawled (200) <GET https://home.kpmg/xx/en/home/insights/2018/06/test-learn-win.html> (referer: None)\n",
      "2020-01-14 11:42:55 [urllib3.connectionpool] DEBUG: Starting new HTTPS connection (1): home.kpmg:443\n",
      "2020-01-14 11:42:55 [urllib3.connectionpool] DEBUG: https://home.kpmg:443 \"GET /xx/en/home/insights/2018/06/market-update-oil-gas.html HTTP/1.1\" 200 38503\n",
      "2020-01-14 11:42:55 [urllib3.connectionpool] DEBUG: Starting new HTTPS connection (1): home.kpmg:443\n",
      "2020-01-14 11:42:55 [urllib3.connectionpool] DEBUG: https://home.kpmg:443 \"GET /xx/en/home/insights/2018/06/eu-strategy-on-sustainable-finance.html HTTP/1.1\" 200 36898\n",
      "2020-01-14 11:42:55 [urllib3.connectionpool] DEBUG: Starting new HTTPS connection (1): home.kpmg:443\n"
     ]
    },
    {
     "name": "stdout",
     "output_type": "stream",
     "text": [
      "https://home.kpmg/xx/en/home/insights/2018/06/market-update-oil-gas.html\n",
      "https://home.kpmg/xx/en/home/insights/2018/06/eu-strategy-on-sustainable-finance.html\n",
      "https://home.kpmg/xx/en/home/insights/2018/06/data-governance-driving-value-in-health.html\n"
     ]
    },
    {
     "name": "stderr",
     "output_type": "stream",
     "text": [
      "2020-01-14 11:42:55 [urllib3.connectionpool] DEBUG: https://home.kpmg:443 \"GET /xx/en/home/insights/2018/06/data-governance-driving-value-in-health.html HTTP/1.1\" 200 37177\n",
      "2020-01-14 11:42:55 [urllib3.connectionpool] DEBUG: Starting new HTTPS connection (1): home.kpmg:443\n",
      "2020-01-14 11:42:55 [urllib3.connectionpool] DEBUG: https://home.kpmg:443 \"GET /xx/en/home/insights/2018/06/test-learn-win.html HTTP/1.1\" 200 36522\n"
     ]
    },
    {
     "name": "stdout",
     "output_type": "stream",
     "text": [
      "https://home.kpmg/xx/en/home/insights/2018/06/test-learn-win.html\n"
     ]
    },
    {
     "name": "stderr",
     "output_type": "stream",
     "text": [
      "2020-01-14 11:42:56 [scrapy.core.engine] DEBUG: Crawled (200) <GET https://home.kpmg/xx/en/home/insights/2018/06/financial-services-ceo-outlook-highlights-fs.html> (referer: None)\n",
      "2020-01-14 11:42:56 [scrapy.core.engine] DEBUG: Crawled (200) <GET https://home.kpmg/xx/en/home/insights/2018/06/affordable-health-is-key-to-a-longer-life.html> (referer: None)\n",
      "2020-01-14 11:42:56 [scrapy.core.engine] DEBUG: Crawled (200) <GET https://home.kpmg/xx/en/home/insights/2018/06/20-years-of-asset-management-in-china.html> (referer: None)\n",
      "2020-01-14 11:42:56 [urllib3.connectionpool] DEBUG: Starting new HTTPS connection (1): home.kpmg:443\n",
      "2020-01-14 11:42:56 [urllib3.connectionpool] DEBUG: https://home.kpmg:443 \"GET /xx/en/home/insights/2018/06/financial-services-ceo-outlook-highlights-fs.html HTTP/1.1\" 200 36667\n",
      "2020-01-14 11:42:56 [urllib3.connectionpool] DEBUG: Starting new HTTPS connection (1): home.kpmg:443\n",
      "2020-01-14 11:42:56 [urllib3.connectionpool] DEBUG: https://home.kpmg:443 \"GET /xx/en/home/insights/2018/06/affordable-health-is-key-to-a-longer-life.html HTTP/1.1\" 200 36531\n",
      "2020-01-14 11:42:56 [urllib3.connectionpool] DEBUG: Starting new HTTPS connection (1): home.kpmg:443\n"
     ]
    },
    {
     "name": "stdout",
     "output_type": "stream",
     "text": [
      "https://home.kpmg/xx/en/home/insights/2018/06/financial-services-ceo-outlook-highlights-fs.html\n",
      "https://home.kpmg/xx/en/home/insights/2018/06/affordable-health-is-key-to-a-longer-life.html\n",
      "https://home.kpmg/xx/en/home/insights/2018/06/20-years-of-asset-management-in-china.html\n"
     ]
    },
    {
     "name": "stderr",
     "output_type": "stream",
     "text": [
      "2020-01-14 11:42:56 [urllib3.connectionpool] DEBUG: https://home.kpmg:443 \"GET /xx/en/home/insights/2018/06/20-years-of-asset-management-in-china.html HTTP/1.1\" 200 38509\n",
      "2020-01-14 11:42:56 [scrapy.core.engine] INFO: Closing spider (finished)\n",
      "2020-01-14 11:42:56 [scrapy.statscollectors] INFO: Dumping Scrapy stats:\n",
      "{'downloader/request_bytes': 55155,\n",
      " 'downloader/request_count': 200,\n",
      " 'downloader/request_method_count/GET': 200,\n",
      " 'downloader/response_bytes': 7471363,\n",
      " 'downloader/response_count': 200,\n",
      " 'downloader/response_status_count/200': 199,\n",
      " 'downloader/response_status_count/301': 1,\n",
      " 'dupefilter/filtered': 1,\n",
      " 'elapsed_time_seconds': 29.101114,\n",
      " 'finish_reason': 'finished',\n",
      " 'finish_time': datetime.datetime(2020, 1, 14, 10, 42, 56, 536823),\n",
      " 'log_count/DEBUG': 599,\n",
      " 'log_count/INFO': 10,\n",
      " 'response_received_count': 199,\n",
      " 'scheduler/dequeued': 200,\n",
      " 'scheduler/dequeued/memory': 200,\n",
      " 'scheduler/enqueued': 200,\n",
      " 'scheduler/enqueued/memory': 200,\n",
      " 'start_time': datetime.datetime(2020, 1, 14, 10, 42, 27, 435709)}\n",
      "2020-01-14 11:42:56 [scrapy.core.engine] INFO: Spider closed (finished)\n"
     ]
    }
   ],
   "source": [
    "from scrapy.crawler import CrawlerProcess\n",
    "from datetime import date\n",
    "\n",
    "# Create class\n",
    "class kpmg_spider (scrapy.Spider):\n",
    "    name = \"kpmg_spider\"\n",
    "    \n",
    "    def start_requests(self):\n",
    "        urls = urllist\n",
    "        \n",
    "        for url in urls:\n",
    "            yield scrapy.Request(url = url, callback = self.parse)\n",
    "            \n",
    "    #Parsing\n",
    "    def parse(self, response):\n",
    "        print(response.url)\n",
    "        \n",
    "        page_dict = dict()\n",
    "        siteno = len(main_dict) + 1\n",
    "        \n",
    "        page_url = response.url\n",
    "        \n",
    "        page_html = requests.get(page_url).content\n",
    "        page_sel = Selector(text = page_html)\n",
    "        \n",
    "        text_sel = 'section.module-bodytext.component.bg-white ::text'\n",
    "        title_sel = '//meta[contains(@name, \"KPMG_Title\")]/@content'\n",
    "        date_sel = '//meta[contains(@http-equiv, \"date\")]/@content'\n",
    "        \n",
    "        page_title = page_sel.xpath(title_sel).extract()\n",
    "        page_date = page_sel.xpath(date_sel).extract()\n",
    "        page_dldate = date.today().strftime('%Y/%m/%d')\n",
    "        page_text = page_sel.css(text_sel).extract()\n",
    "                \n",
    "        page_text = ' '.join(page_text)\n",
    "        \n",
    "        page_id = 'site' + str(siteno)\n",
    "        \n",
    "        page_dict['url'] = page_url\n",
    "        page_dict['title'] = page_title\n",
    "        page_dict['article date'] = page_date\n",
    "        page_dict['download date'] = page_dldate\n",
    "        page_dict['text'] = page_text\n",
    "        \n",
    "        main_dict[page_id] = page_dict\n",
    "        \n",
    "# Initiatlize dictionary\n",
    "main_dict = dict()\n",
    "\n",
    "#Run spider\n",
    "process = CrawlerProcess()\n",
    "siteno = 0\n",
    "process.crawl(kpmg_spider)\n",
    "process.start()"
   ]
  },
  {
   "cell_type": "code",
   "execution_count": 13,
   "metadata": {},
   "outputs": [
    {
     "data": {
      "text/plain": [
       "<DeferredList at 0x1e77ab21048 current result: []>"
      ]
     },
     "execution_count": 13,
     "metadata": {},
     "output_type": "execute_result"
    }
   ],
   "source": [
    "process.stop()"
   ]
  },
  {
   "cell_type": "code",
   "execution_count": 14,
   "metadata": {},
   "outputs": [
    {
     "data": {
      "text/plain": [
       "199"
      ]
     },
     "execution_count": 14,
     "metadata": {},
     "output_type": "execute_result"
    }
   ],
   "source": [
    "len(main_dict)"
   ]
  },
  {
   "cell_type": "code",
   "execution_count": 15,
   "metadata": {},
   "outputs": [],
   "source": [
    "import json\n",
    "\n",
    "with open('..\\\\data_raw\\\\kpmg_articles.json', 'w') as file:\n",
    "    json.dump(main_dict, file)"
   ]
  },
  {
   "cell_type": "code",
   "execution_count": null,
   "metadata": {},
   "outputs": [],
   "source": []
  }
 ],
 "metadata": {
  "kernelspec": {
   "display_name": "Python 3",
   "language": "python",
   "name": "python3"
  },
  "language_info": {
   "codemirror_mode": {
    "name": "ipython",
    "version": 3
   },
   "file_extension": ".py",
   "mimetype": "text/x-python",
   "name": "python",
   "nbconvert_exporter": "python",
   "pygments_lexer": "ipython3",
   "version": "3.7.4"
  }
 },
 "nbformat": 4,
 "nbformat_minor": 2
}
