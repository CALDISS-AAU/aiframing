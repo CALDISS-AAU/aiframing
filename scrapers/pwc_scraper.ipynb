{
 "cells": [
  {
   "cell_type": "markdown",
   "metadata": {},
   "source": [
    "# PWC Scraper\n",
    "\n",
    "This scraper collects texts from the \"Artificial Intelligence\" subsection of PWC.com: https://www.pwc.com/gx/en/issues/data-and-analytics/artificial-intelligence.html"
   ]
  },
  {
   "cell_type": "markdown",
   "metadata": {},
   "source": [
    "## Libraries\n",
    "\n",
    "Loading libraries..."
   ]
  },
  {
   "cell_type": "code",
   "execution_count": 21,
   "metadata": {},
   "outputs": [],
   "source": [
    "import scrapy\n",
    "import requests\n",
    "from scrapy import Selector\n",
    "\n",
    "import os\n",
    "import sys\n",
    "from datetime import date\n",
    "\n",
    "from selenium import webdriver\n",
    "from selenium.webdriver.common.keys import Keys\n",
    "from selenium.webdriver.firefox.firefox_binary import FirefoxBinary\n",
    "from selenium.common.exceptions import NoSuchElementException, WebDriverException, ElementNotInteractableException\n",
    "from selenium.webdriver.common.action_chains import ActionChains\n",
    "\n",
    "import re\n",
    "\n",
    "import time"
   ]
  },
  {
   "cell_type": "markdown",
   "metadata": {},
   "source": [
    "## URL List\n",
    "The scraper collects urls from the insights on the \"artificial intelligence\" subsection of pwc.com: https://www.pwc.com/gx/en/issues/data-and-analytics/artificial-intelligence.html"
   ]
  },
  {
   "cell_type": "code",
   "execution_count": 22,
   "metadata": {},
   "outputs": [],
   "source": [
    "start_url = 'https://www.pwc.com/gx/en/issues/data-and-analytics/artificial-intelligence.html'"
   ]
  },
  {
   "cell_type": "code",
   "execution_count": 23,
   "metadata": {},
   "outputs": [
    {
     "name": "stdout",
     "output_type": "stream",
     "text": [
      "No more to load\n"
     ]
    }
   ],
   "source": [
    "from selenium.webdriver.support import expected_conditions as EC\n",
    "from selenium.webdriver.common.by import By\n",
    "from selenium.webdriver.support.ui import WebDriverWait as wait\n",
    "from selenium.webdriver.chrome.options import Options\n",
    "\n",
    "chromeOptions = Options()\n",
    "chromeOptions.add_argument(\"--kiosk\")\n",
    "\n",
    "driver = webdriver.Chrome(executable_path = 'C:\\\\bin\\\\chromedriver', options=chromeOptions)\n",
    "\n",
    "driver.get(start_url)\n",
    "time.sleep(2)\n",
    "driver.find_element_by_css_selector('button#acceptCookie.btn.cookie-accept').click()\n",
    "time.sleep(2)\n",
    "\n",
    "y_coord = 4000\n",
    "coordinates = {'x': 0, 'y': y_coord}\n",
    "driver.execute_script('window.scrollTo({}, {});'.format(coordinates['x'], coordinates['y']))\n",
    "time.sleep(3)\n",
    "\n",
    "while True:\n",
    "    try:\n",
    "        driver.find_element_by_css_selector(\"a.btn.btn--transparent.collection__load-more.ng-binding.ng-scope\").click()\n",
    "        time.sleep(3)\n",
    "        y_coord += 1000\n",
    "        coordinates = {'x': 0, 'y': y_coord}\n",
    "        driver.execute_script('window.scrollTo({}, {});'.format(coordinates['x'], coordinates['y']))\n",
    "        time.sleep(3)\n",
    "    except (NoSuchElementException, WebDriverException, ElementNotInteractableException) as e:\n",
    "        print(\"No more to load\")\n",
    "        break\n",
    "\n",
    "pageSource = driver.page_source\n",
    "\n",
    "driver.quit()"
   ]
  },
  {
   "cell_type": "code",
   "execution_count": 24,
   "metadata": {},
   "outputs": [],
   "source": [
    "sel = Selector(text = pageSource) #create Selector object\n",
    "urldict = {}\n",
    "   \n",
    "urldict['titles'] = sel.css('a.collection__item-link > div.collection__item-content > h4.regular.collection__item-heading > span::text').extract()\n",
    "urldict['urls'] = sel.css('a.collection__item-link::attr(href)').extract()"
   ]
  },
  {
   "cell_type": "code",
   "execution_count": 25,
   "metadata": {},
   "outputs": [
    {
     "name": "stdout",
     "output_type": "stream",
     "text": [
      "100 100\n"
     ]
    }
   ],
   "source": [
    "print(len(urldict['titles']),\n",
    "     len(urldict['urls']))"
   ]
  },
  {
   "cell_type": "code",
   "execution_count": 26,
   "metadata": {},
   "outputs": [],
   "source": [
    "urllist = urldict['urls']"
   ]
  },
  {
   "cell_type": "code",
   "execution_count": 27,
   "metadata": {},
   "outputs": [],
   "source": [
    "#URL dump\n",
    "with open('../data_raw/pwc_urls.txt', 'w') as f:\n",
    "    for url in urllist:\n",
    "        f.write(url + \"\\n\")"
   ]
  },
  {
   "cell_type": "code",
   "execution_count": 28,
   "metadata": {},
   "outputs": [
    {
     "name": "stdout",
     "output_type": "stream",
     "text": [
      "100 \n",
      " https://www.pwc.co.uk/services/sustainability-climate-change/insights/new-nature-economy-nature-risk-rising.html\n"
     ]
    }
   ],
   "source": [
    "# Load URLs\n",
    "urllist = []\n",
    "with open('../data_raw/pwc_urls.txt', 'r') as f:\n",
    "    for line in f:\n",
    "        urllist.append(line.strip())\n",
    "\n",
    "print(len(urllist),\n",
    "      '\\n',\n",
    "     urllist[0])"
   ]
  },
  {
   "cell_type": "code",
   "execution_count": null,
   "metadata": {},
   "outputs": [],
   "source": []
  }
 ],
 "metadata": {
  "kernelspec": {
   "display_name": "Python 3",
   "language": "python",
   "name": "python3"
  },
  "language_info": {
   "codemirror_mode": {
    "name": "ipython",
    "version": 3
   },
   "file_extension": ".py",
   "mimetype": "text/x-python",
   "name": "python",
   "nbconvert_exporter": "python",
   "pygments_lexer": "ipython3",
   "version": "3.7.4"
  }
 },
 "nbformat": 4,
 "nbformat_minor": 2
}
