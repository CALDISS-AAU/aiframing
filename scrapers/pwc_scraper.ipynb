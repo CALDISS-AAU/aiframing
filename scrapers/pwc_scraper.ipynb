{
 "cells": [
  {
   "cell_type": "markdown",
   "metadata": {},
   "source": [
    "# PWC Scraper\n",
    "\n",
    "This scraper collects texts from the \"Artificial Intelligence\" subsection of PWC.com: https://www.pwc.com/gx/en/issues/data-and-analytics/artificial-intelligence.html"
   ]
  },
  {
   "cell_type": "markdown",
   "metadata": {},
   "source": [
    "## Libraries\n",
    "\n",
    "Loading libraries..."
   ]
  },
  {
   "cell_type": "code",
   "execution_count": 5,
   "metadata": {},
   "outputs": [],
   "source": [
    "import scrapy\n",
    "import requests\n",
    "from scrapy import Selector\n",
    "\n",
    "import os\n",
    "import sys\n",
    "from datetime import date\n",
    "\n",
    "from selenium import webdriver\n",
    "from selenium.webdriver.common.keys import Keys\n",
    "from selenium.webdriver.firefox.firefox_binary import FirefoxBinary\n",
    "from selenium.common.exceptions import NoSuchElementException, WebDriverException, ElementNotInteractableException\n",
    "from selenium.webdriver.common.action_chains import ActionChains\n",
    "\n",
    "import re\n",
    "\n",
    "import time"
   ]
  },
  {
   "cell_type": "markdown",
   "metadata": {},
   "source": [
    "## URL List\n",
    "The scraper collects urls from the insights on the \"artificial intelligence\" subsection of pwc.com: https://www.pwc.com/gx/en/issues/data-and-analytics/artificial-intelligence.html"
   ]
  },
  {
   "cell_type": "code",
   "execution_count": 22,
   "metadata": {},
   "outputs": [],
   "source": [
    "start_url = 'https://www.pwc.com/gx/en/issues/data-and-analytics/artificial-intelligence.html'"
   ]
  },
  {
   "cell_type": "code",
   "execution_count": 23,
   "metadata": {},
   "outputs": [
    {
     "name": "stdout",
     "output_type": "stream",
     "text": [
      "No more to load\n"
     ]
    }
   ],
   "source": [
    "from selenium.webdriver.support import expected_conditions as EC\n",
    "from selenium.webdriver.common.by import By\n",
    "from selenium.webdriver.support.ui import WebDriverWait as wait\n",
    "from selenium.webdriver.chrome.options import Options\n",
    "\n",
    "chromeOptions = Options()\n",
    "chromeOptions.add_argument(\"--kiosk\")\n",
    "\n",
    "driver = webdriver.Chrome(executable_path = 'C:\\\\bin\\\\chromedriver', options=chromeOptions)\n",
    "\n",
    "driver.get(start_url)\n",
    "time.sleep(2)\n",
    "driver.find_element_by_css_selector('button#acceptCookie.btn.cookie-accept').click()\n",
    "time.sleep(2)\n",
    "\n",
    "y_coord = 4000\n",
    "coordinates = {'x': 0, 'y': y_coord}\n",
    "driver.execute_script('window.scrollTo({}, {});'.format(coordinates['x'], coordinates['y']))\n",
    "time.sleep(3)\n",
    "\n",
    "while True:\n",
    "    try:\n",
    "        driver.find_element_by_css_selector(\"a.btn.btn--transparent.collection__load-more.ng-binding.ng-scope\").click()\n",
    "        time.sleep(3)\n",
    "        y_coord += 1000\n",
    "        coordinates = {'x': 0, 'y': y_coord}\n",
    "        driver.execute_script('window.scrollTo({}, {});'.format(coordinates['x'], coordinates['y']))\n",
    "        time.sleep(3)\n",
    "    except (NoSuchElementException, WebDriverException, ElementNotInteractableException) as e:\n",
    "        print(\"No more to load\")\n",
    "        break\n",
    "\n",
    "pageSource = driver.page_source\n",
    "\n",
    "driver.quit()"
   ]
  },
  {
   "cell_type": "code",
   "execution_count": 24,
   "metadata": {},
   "outputs": [],
   "source": [
    "sel = Selector(text = pageSource) #create Selector object\n",
    "urldict = {}\n",
    "   \n",
    "urldict['titles'] = sel.css('a.collection__item-link > div.collection__item-content > h4.regular.collection__item-heading > span::text').extract()\n",
    "urldict['urls'] = sel.css('a.collection__item-link::attr(href)').extract()"
   ]
  },
  {
   "cell_type": "code",
   "execution_count": 25,
   "metadata": {},
   "outputs": [
    {
     "name": "stdout",
     "output_type": "stream",
     "text": [
      "100 100\n"
     ]
    }
   ],
   "source": [
    "print(len(urldict['titles']),\n",
    "     len(urldict['urls']))"
   ]
  },
  {
   "cell_type": "code",
   "execution_count": 26,
   "metadata": {},
   "outputs": [],
   "source": [
    "urllist = urldict['urls']"
   ]
  },
  {
   "cell_type": "markdown",
   "metadata": {},
   "source": [
    "### Save URLs"
   ]
  },
  {
   "cell_type": "code",
   "execution_count": 27,
   "metadata": {},
   "outputs": [],
   "source": [
    "#URL dump\n",
    "with open('../data_raw/urls/pwc_urls.txt', 'w') as f:\n",
    "    for url in urllist:\n",
    "        f.write(url + \"\\n\")"
   ]
  },
  {
   "cell_type": "markdown",
   "metadata": {},
   "source": [
    "### Load URLs"
   ]
  },
  {
   "cell_type": "code",
   "execution_count": 1,
   "metadata": {},
   "outputs": [
    {
     "name": "stdout",
     "output_type": "stream",
     "text": [
      "100 \n",
      " https://www.pwc.co.uk/services/sustainability-climate-change/insights/new-nature-economy-nature-risk-rising.html\n"
     ]
    }
   ],
   "source": [
    "# Load URLs\n",
    "urllist = []\n",
    "with open('../data_raw/urls/pwc_urls.txt', 'r') as f:\n",
    "    for line in f:\n",
    "        urllist.append(line.strip())\n",
    "\n",
    "print(len(urllist),\n",
    "      '\\n',\n",
    "     urllist[0])"
   ]
  },
  {
   "cell_type": "markdown",
   "metadata": {},
   "source": [
    "## Parsing single page"
   ]
  },
  {
   "cell_type": "code",
   "execution_count": 2,
   "metadata": {},
   "outputs": [
    {
     "data": {
      "text/plain": [
       "['https://www.pwc.co.uk/services/sustainability-climate-change/insights/new-nature-economy-nature-risk-rising.html',\n",
       " 'https://www.pwc.co.uk/industries/financial-services/insights/ai-in-financial-services.html',\n",
       " 'https://www.pwc.ch/en/insights/digital/governance-is-the-foundation-of-responsible-ai.html',\n",
       " 'https://www.pwc.co.uk/ghost/if-ai-isnt-responsible-it-isnt-truly-intelligent.html',\n",
       " 'https://www.pwc.ch/en/insights/digital/if-ai-isnt-responsible-it-isnt-truly-intelligent.html',\n",
       " 'https://www.pwc.co.uk/ghost/blogs/the-role-of-ai-achieving-global-sustainable-development-goals.html',\n",
       " 'https://www.pwc.co.uk/ghost/cfo-artificial-intelligence.html',\n",
       " 'https://www.pwc.com/gx/en/issues/data-and-analytics/artificial-intelligence/cfo-artificial-intelligence.html',\n",
       " 'https://www.pwc.com/us/en/services/forensics/library/machine-learning-risk-compliance.html',\n",
       " 'https://www.pwc.co.uk/who-we-are/corporate-sustainability/assets/documents/pwc-uk-responsible-technology-policy-july-2019.pdf']"
      ]
     },
     "execution_count": 2,
     "metadata": {},
     "output_type": "execute_result"
    }
   ],
   "source": [
    "urllist[0:10]"
   ]
  },
  {
   "cell_type": "code",
   "execution_count": 10,
   "metadata": {},
   "outputs": [
    {
     "data": {
      "text/plain": [
       "'https://www.pwc.com/gx/en/industries/tmt/publications/global-tmt-semiconductor-report-2019.html'"
      ]
     },
     "execution_count": 10,
     "metadata": {},
     "output_type": "execute_result"
    }
   ],
   "source": [
    "page_url = urllist[24]\n",
    "page_html = requests.get(page_url).content\n",
    "page_sel = Selector(text = page_html)\n",
    "page_url"
   ]
  },
  {
   "cell_type": "code",
   "execution_count": 11,
   "metadata": {},
   "outputs": [],
   "source": [
    "page_dict = dict()\n",
    "main_dict = dict()"
   ]
  },
  {
   "cell_type": "code",
   "execution_count": 12,
   "metadata": {},
   "outputs": [],
   "source": [
    "func_regex = r'\\$\\(.+\\(\\).*((\\s*|\\r*|\\n*).*)+'\n",
    "viewmore_regex = r'Explore our other predictions ((\\s+|\\r+|\\n+|\\t+)+)+((\\s*|\\r*|\\n*).*)+'\n",
    "cont_regex = r'\\.pinned.*((\\s*|\\r*|\\n*).*)+'\n",
    "\n",
    "siteno = 1\n",
    "\n",
    "page_id = 'site' + str(siteno)\n",
    "\n",
    "page_text = page_sel.css('section#article > div > div >div > div > div.text-component ::text').extract() #Insights\n",
    "page_text.append(' '.join(page_sel.css('div#main-body ::text').extract())) #blogs? - 5\n",
    "page_text.append(' '.join(page_sel.css('div#wrapper > div.centerPar ::text').extract()))\n",
    "page_text = ' '.join(page_text)\n",
    "\n",
    "page_text = re.sub(func_regex, '', page_text)\n",
    "page_text = re.sub(viewmore_regex, '', page_text)\n",
    "page_text = re.sub(cont_regex, '', page_text)\n",
    "\n",
    "page_title = page_sel.css('title ::text').extract_first()\n",
    "page_date = page_sel.xpath('//meta[contains(@name,\"pwcReleaseDate\")]/@content').extract()\n",
    "page_type = ''\n",
    "page_dldate = date.today().strftime('%Y/%m/%d')\n",
    "\n",
    "page_dict['url'] = page_url\n",
    "page_dict['title'] = page_title\n",
    "page_dict['article date'] = page_date\n",
    "page_dict['download date'] = page_dldate\n",
    "page_dict['text type'] = page_type\n",
    "page_dict['text'] = page_text\n",
    "\n",
    "main_dict[page_id] = page_dict"
   ]
  },
  {
   "cell_type": "code",
   "execution_count": 13,
   "metadata": {},
   "outputs": [
    {
     "name": "stdout",
     "output_type": "stream",
     "text": [
      "1 {'url': 'https://www.pwc.com/gx/en/industries/tmt/publications/global-tmt-semiconductor-report-2019.html', 'title': 'Opportunities for the global semiconductor market: PwC\\r\\n', 'article date': ['2019-03-27T19:46:00.000+01:00'], 'download date': '2020/03/04', 'text type': '', 'text': ' \\r\\n    \\r\\n    \\r\\n    \\r\\n        \\r\\n    \\r\\n\\r\\n    \\r\\n    \\r\\n        \\r\\n     \\r\\n\\r\\n                \\r\\n          \\r\\n             \\r\\n    \\r\\n\\t\\t\\r\\n     \\r\\n    \\r\\n             \\r\\n\\r\\n                 \\r\\n                     \\r\\n                           \\r\\n                               \\r\\n                           Opportunities for the global semiconductor market \\r\\n                           Growing market share by embracing Artificial Intelligence (AI) \\r\\n                          \\r\\n                                   \\r\\n                                       \\r\\n\\r\\n\\r\\n\\r\\n\\r\\n\\r\\n\\r\\n\\r\\n\\r\\n \\r\\n \\r\\n\\r\\n \\r\\n\\r\\n\\r\\n       \\r\\n           \\r\\n               \\r\\n               \\r\\n                 Close \\r\\n               \\r\\n               Start adding items to your reading lists: \\r\\n               Sign in \\r\\n               or \\r\\n               Create your account \\r\\n             \\r\\n           \\r\\n                 \\r\\n                 \\r\\n                 Close \\r\\n               \\r\\n                 Save this item to: \\r\\n                 \\r\\n                 \\r\\n            \\r\\n\\r\\n            \\r\\n                 \\r\\n                 \\r\\n                 Close \\r\\n                \\r\\n                 This item has been saved to your reading list. \\r\\n            \\r\\n\\r\\n       \\r\\n   \\r\\n \\r\\n \\r\\n \\r\\n    '}\n"
     ]
    }
   ],
   "source": [
    "print(len(main_dict),\n",
    "      main_dict['site1'])"
   ]
  },
  {
   "cell_type": "markdown",
   "metadata": {},
   "source": [
    "## PWC Spider"
   ]
  },
  {
   "cell_type": "code",
   "execution_count": 14,
   "metadata": {},
   "outputs": [
    {
     "name": "stderr",
     "output_type": "stream",
     "text": [
      "2020-03-04 13:20:45 [scrapy.utils.log] INFO: Scrapy 1.8.0 started (bot: scrapybot)\n",
      "2020-03-04 13:20:45 [scrapy.utils.log] INFO: Versions: lxml 4.4.1.0, libxml2 2.9.9, cssselect 1.1.0, parsel 1.5.2, w3lib 1.21.0, Twisted 19.10.0, Python 3.7.4 (default, Aug  9 2019, 18:34:13) [MSC v.1915 64 bit (AMD64)], pyOpenSSL 19.0.0 (OpenSSL 1.1.1d  10 Sep 2019), cryptography 2.7, Platform Windows-10-10.0.16299-SP0\n",
      "2020-03-04 13:20:45 [scrapy.crawler] INFO: Overridden settings: {}\n",
      "2020-03-04 13:20:45 [scrapy.extensions.telnet] INFO: Telnet Password: 763858fabe9254cf\n",
      "2020-03-04 13:20:45 [scrapy.middleware] INFO: Enabled extensions:\n",
      "['scrapy.extensions.corestats.CoreStats',\n",
      " 'scrapy.extensions.telnet.TelnetConsole',\n",
      " 'scrapy.extensions.logstats.LogStats']\n",
      "2020-03-04 13:20:45 [scrapy.middleware] INFO: Enabled downloader middlewares:\n",
      "['scrapy.downloadermiddlewares.httpauth.HttpAuthMiddleware',\n",
      " 'scrapy.downloadermiddlewares.downloadtimeout.DownloadTimeoutMiddleware',\n",
      " 'scrapy.downloadermiddlewares.defaultheaders.DefaultHeadersMiddleware',\n",
      " 'scrapy.downloadermiddlewares.useragent.UserAgentMiddleware',\n",
      " 'scrapy.downloadermiddlewares.retry.RetryMiddleware',\n",
      " 'scrapy.downloadermiddlewares.redirect.MetaRefreshMiddleware',\n",
      " 'scrapy.downloadermiddlewares.httpcompression.HttpCompressionMiddleware',\n",
      " 'scrapy.downloadermiddlewares.redirect.RedirectMiddleware',\n",
      " 'scrapy.downloadermiddlewares.cookies.CookiesMiddleware',\n",
      " 'scrapy.downloadermiddlewares.httpproxy.HttpProxyMiddleware',\n",
      " 'scrapy.downloadermiddlewares.stats.DownloaderStats']\n",
      "2020-03-04 13:20:45 [scrapy.middleware] INFO: Enabled spider middlewares:\n",
      "['scrapy.spidermiddlewares.httperror.HttpErrorMiddleware',\n",
      " 'scrapy.spidermiddlewares.offsite.OffsiteMiddleware',\n",
      " 'scrapy.spidermiddlewares.referer.RefererMiddleware',\n",
      " 'scrapy.spidermiddlewares.urllength.UrlLengthMiddleware',\n",
      " 'scrapy.spidermiddlewares.depth.DepthMiddleware']\n",
      "2020-03-04 13:20:45 [scrapy.middleware] INFO: Enabled item pipelines:\n",
      "[]\n",
      "2020-03-04 13:20:45 [scrapy.core.engine] INFO: Spider opened\n",
      "2020-03-04 13:20:45 [scrapy.extensions.logstats] INFO: Crawled 0 pages (at 0 pages/min), scraped 0 items (at 0 items/min)\n",
      "2020-03-04 13:20:45 [scrapy.extensions.telnet] INFO: Telnet console listening on 127.0.0.1:6023\n",
      "2020-03-04 13:20:45 [scrapy.core.engine] DEBUG: Crawled (200) <GET https://www.pwc.co.uk/who-we-are/corporate-sustainability/assets/documents/pwc-uk-responsible-technology-policy-july-2019.pdf> (referer: None)\n",
      "2020-03-04 13:20:45 [urllib3.connectionpool] DEBUG: Starting new HTTPS connection (1): www.pwc.co.uk:443\n",
      "2020-03-04 13:20:45 [urllib3.connectionpool] DEBUG: https://www.pwc.co.uk:443 \"GET /who-we-are/corporate-sustainability/assets/documents/pwc-uk-responsible-technology-policy-july-2019.pdf HTTP/1.1\" 200 175021\n"
     ]
    },
    {
     "name": "stdout",
     "output_type": "stream",
     "text": [
      "https://www.pwc.co.uk/who-we-are/corporate-sustainability/assets/documents/pwc-uk-responsible-technology-policy-july-2019.pdf\n"
     ]
    },
    {
     "name": "stderr",
     "output_type": "stream",
     "text": [
      "2020-03-04 13:20:46 [scrapy.core.engine] DEBUG: Crawled (200) <GET https://www.pwc.co.uk/services/sustainability-climate-change/insights/new-nature-economy-nature-risk-rising.html> (referer: None)\n",
      "2020-03-04 13:20:46 [scrapy.core.engine] DEBUG: Crawled (200) <GET https://www.pwc.co.uk/industries/financial-services/insights/ai-in-financial-services.html> (referer: None)\n",
      "2020-03-04 13:20:46 [scrapy.downloadermiddlewares.redirect] DEBUG: Redirecting (307) to <GET https://www.pwc.com/gx/en/issues/data-and-analytics/artificial-intelligence/cfo-artificial-intelligence.html> from <GET https://www.pwc.co.uk/ghost/cfo-artificial-intelligence.html>\n",
      "2020-03-04 13:20:46 [scrapy.dupefilters] DEBUG: Filtered duplicate request: <GET https://www.pwc.com/gx/en/issues/data-and-analytics/artificial-intelligence/cfo-artificial-intelligence.html> - no more duplicates will be shown (see DUPEFILTER_DEBUG to show all duplicates)\n",
      "2020-03-04 13:20:46 [scrapy.downloadermiddlewares.redirect] DEBUG: Redirecting (307) to <GET https://www.pwc.com/ca/en/consulting/artificial-intelligence/ai-powered-supply-chains.pdf> from <GET https://www.pwc.co.uk/ghost/ai-powered-supply-chains.html>\n",
      "2020-03-04 13:20:46 [scrapy.downloadermiddlewares.redirect] DEBUG: Redirecting (307) to <GET https://www.pwc.ch/en/insights/digital/if-ai-isnt-responsible-it-isnt-truly-intelligent.html> from <GET https://www.pwc.co.uk/ghost/if-ai-isnt-responsible-it-isnt-truly-intelligent.html>\n",
      "2020-03-04 13:20:46 [scrapy.core.engine] DEBUG: Crawled (200) <GET https://www.pwc.ch/en/insights/digital/if-ai-isnt-responsible-it-isnt-truly-intelligent.html> (referer: None)\n",
      "2020-03-04 13:20:46 [scrapy.core.engine] DEBUG: Crawled (200) <GET https://www.pwc.ch/en/insights/digital/governance-is-the-foundation-of-responsible-ai.html> (referer: None)\n",
      "2020-03-04 13:20:46 [scrapy.downloadermiddlewares.redirect] DEBUG: Redirecting (307) to <GET https://pwc.blogs.com/data/2019/10/the-role-of-ai-achieving-global-sustainable-development-goals.html> from <GET https://www.pwc.co.uk/ghost/blogs/the-role-of-ai-achieving-global-sustainable-development-goals.html>\n",
      "2020-03-04 13:20:46 [scrapy.core.engine] DEBUG: Crawled (200) <GET https://www.pwc.com/gx/en/issues/data-and-analytics/artificial-intelligence/cfo-artificial-intelligence.html> (referer: None)\n",
      "2020-03-04 13:20:46 [scrapy.core.engine] DEBUG: Crawled (200) <GET https://www.pwc.com/us/en/services/forensics/library/machine-learning-risk-compliance.html> (referer: None)\n",
      "2020-03-04 13:20:46 [scrapy.downloadermiddlewares.redirect] DEBUG: Redirecting (307) to <GET https://www.digitalpulse.pwc.com.au/ai-governance-considerations/> from <GET https://www.pwc.co.uk/ghost/ai-governance-considerations.html>\n",
      "2020-03-04 13:20:46 [urllib3.connectionpool] DEBUG: Starting new HTTPS connection (1): www.pwc.co.uk:443\n"
     ]
    },
    {
     "name": "stdout",
     "output_type": "stream",
     "text": [
      "https://www.pwc.co.uk/services/sustainability-climate-change/insights/new-nature-economy-nature-risk-rising.html\n"
     ]
    },
    {
     "name": "stderr",
     "output_type": "stream",
     "text": [
      "2020-03-04 13:20:46 [urllib3.connectionpool] DEBUG: https://www.pwc.co.uk:443 \"GET /services/sustainability-climate-change/insights/new-nature-economy-nature-risk-rising.html HTTP/1.1\" 200 24466\n",
      "2020-03-04 13:20:46 [urllib3.connectionpool] DEBUG: Starting new HTTPS connection (1): www.pwc.co.uk:443\n"
     ]
    },
    {
     "name": "stdout",
     "output_type": "stream",
     "text": [
      "https://www.pwc.co.uk/industries/financial-services/insights/ai-in-financial-services.html\n"
     ]
    },
    {
     "name": "stderr",
     "output_type": "stream",
     "text": [
      "2020-03-04 13:20:47 [urllib3.connectionpool] DEBUG: https://www.pwc.co.uk:443 \"GET /industries/financial-services/insights/ai-in-financial-services.html HTTP/1.1\" 200 21806\n",
      "2020-03-04 13:20:47 [scrapy.core.engine] DEBUG: Crawled (200) <GET https://www.pwc.ch/en/insights/digital/five-practical-step-to-make-ai-interpretable.html> (referer: None)\n",
      "2020-03-04 13:20:47 [scrapy.core.engine] DEBUG: Crawled (200) <GET https://www.pwc.com/gx/en/issues/data-and-analytics/artificial-intelligence/how-ceos-can-tap-ai-full-potential.html> (referer: None)\n",
      "2020-03-04 13:20:47 [scrapy.downloadermiddlewares.redirect] DEBUG: Redirecting (307) to <GET https://www.digitalpulse.pwc.com.au/ai-governance-considerations/> from <GET https://www.pwc.com/gx/en/ghost/ai-governance-considerations.html>\n",
      "2020-03-04 13:20:47 [scrapy.downloadermiddlewares.redirect] DEBUG: Redirecting (307) to <GET https://pwc.blogs.com/data/2019/07/making-the-case-for-responsible-artificial-intelligence.html> from <GET https://www.pwc.co.uk/ghost/making-the-case-for-responsible-artificial-intelligence.html>\n",
      "2020-03-04 13:20:47 [scrapy.downloadermiddlewares.redirect] DEBUG: Redirecting (307) to <GET https://www.pwc.com/ca/en/consulting/artificial-intelligence/ai-powered-supply-chains.pdf> from <GET https://www.pwc.com/gx/en/ghost/ai-powered-supply-chains.html>\n",
      "2020-03-04 13:20:47 [urllib3.connectionpool] DEBUG: Starting new HTTPS connection (1): www.pwc.ch:443\n"
     ]
    },
    {
     "name": "stdout",
     "output_type": "stream",
     "text": [
      "https://www.pwc.ch/en/insights/digital/if-ai-isnt-responsible-it-isnt-truly-intelligent.html\n"
     ]
    },
    {
     "name": "stderr",
     "output_type": "stream",
     "text": [
      "2020-03-04 13:20:47 [urllib3.connectionpool] DEBUG: https://www.pwc.ch:443 \"GET /en/insights/digital/if-ai-isnt-responsible-it-isnt-truly-intelligent.html HTTP/1.1\" 200 26381\n",
      "2020-03-04 13:20:47 [urllib3.connectionpool] DEBUG: Starting new HTTPS connection (1): www.pwc.ch:443\n"
     ]
    },
    {
     "name": "stdout",
     "output_type": "stream",
     "text": [
      "https://www.pwc.ch/en/insights/digital/governance-is-the-foundation-of-responsible-ai.html\n"
     ]
    },
    {
     "name": "stderr",
     "output_type": "stream",
     "text": [
      "2020-03-04 13:20:48 [urllib3.connectionpool] DEBUG: https://www.pwc.ch:443 \"GET /en/insights/digital/governance-is-the-foundation-of-responsible-ai.html HTTP/1.1\" 200 29556\n",
      "2020-03-04 13:20:48 [urllib3.connectionpool] DEBUG: Starting new HTTPS connection (1): www.pwc.com:443\n"
     ]
    },
    {
     "name": "stdout",
     "output_type": "stream",
     "text": [
      "https://www.pwc.com/gx/en/issues/data-and-analytics/artificial-intelligence/cfo-artificial-intelligence.html\n"
     ]
    },
    {
     "name": "stderr",
     "output_type": "stream",
     "text": [
      "2020-03-04 13:20:48 [urllib3.connectionpool] DEBUG: https://www.pwc.com:443 \"GET /gx/en/issues/data-and-analytics/artificial-intelligence/cfo-artificial-intelligence.html HTTP/1.1\" 200 30234\n",
      "2020-03-04 13:20:48 [urllib3.connectionpool] DEBUG: Starting new HTTPS connection (1): www.pwc.com:443\n"
     ]
    },
    {
     "name": "stdout",
     "output_type": "stream",
     "text": [
      "https://www.pwc.com/us/en/services/forensics/library/machine-learning-risk-compliance.html\n"
     ]
    },
    {
     "name": "stderr",
     "output_type": "stream",
     "text": [
      "2020-03-04 13:20:48 [urllib3.connectionpool] DEBUG: https://www.pwc.com:443 \"GET /us/en/services/forensics/library/machine-learning-risk-compliance.html HTTP/1.1\" 200 30024\n",
      "2020-03-04 13:20:48 [scrapy.core.engine] DEBUG: Crawled (200) <GET https://www.pwc.be/en/news-publications/client-case-studies/pwc-and-sap-are-facilitating-tax-compliance-in-a-digital-world.html> (referer: None)\n",
      "2020-03-04 13:20:48 [scrapy.downloadermiddlewares.redirect] DEBUG: Redirecting (307) to <GET https://www.digitalpulse.pwc.com.au/ethical-artificial-intelligence-tensions-trade-offs/> from <GET https://www.pwc.com/gx/en/ghost/ethical-ai--tensions-and-trade-offs.html>\n",
      "2020-03-04 13:20:48 [urllib3.connectionpool] DEBUG: Starting new HTTPS connection (1): www.pwc.ch:443\n"
     ]
    },
    {
     "name": "stdout",
     "output_type": "stream",
     "text": [
      "https://www.pwc.ch/en/insights/digital/five-practical-step-to-make-ai-interpretable.html\n"
     ]
    },
    {
     "name": "stderr",
     "output_type": "stream",
     "text": [
      "2020-03-04 13:20:49 [urllib3.connectionpool] DEBUG: https://www.pwc.ch:443 \"GET /en/insights/digital/five-practical-step-to-make-ai-interpretable.html HTTP/1.1\" 200 29505\n",
      "2020-03-04 13:20:49 [urllib3.connectionpool] DEBUG: Starting new HTTPS connection (1): www.pwc.com:443\n"
     ]
    },
    {
     "name": "stdout",
     "output_type": "stream",
     "text": [
      "https://www.pwc.com/gx/en/issues/data-and-analytics/artificial-intelligence/how-ceos-can-tap-ai-full-potential.html\n"
     ]
    },
    {
     "name": "stderr",
     "output_type": "stream",
     "text": [
      "2020-03-04 13:20:49 [urllib3.connectionpool] DEBUG: https://www.pwc.com:443 \"GET /gx/en/issues/data-and-analytics/artificial-intelligence/how-ceos-can-tap-ai-full-potential.html HTTP/1.1\" 200 31049\n",
      "2020-03-04 13:20:49 [scrapy.downloadermiddlewares.redirect] DEBUG: Redirecting (307) to <GET https://www.digitalpulse.pwc.com.au/robust-secure-artificial-intelligence-c-suite/> from <GET https://www.pwc.com/gx/en/ghost/robust-secure-artificial-intelligence-c-suite.html>\n",
      "2020-03-04 13:20:49 [scrapy.downloadermiddlewares.redirect] DEBUG: Redirecting (307) to <GET https://www.pwc.lu/gaining-national-competitive-advantage-through-ai> from <GET https://www.pwc.com/gx/en/ghost/gaining-national-competitive-advantage-ai.html>\n",
      "2020-03-04 13:20:49 [urllib3.connectionpool] DEBUG: Starting new HTTPS connection (1): www.pwc.be:443\n"
     ]
    },
    {
     "name": "stdout",
     "output_type": "stream",
     "text": [
      "https://www.pwc.be/en/news-publications/client-case-studies/pwc-and-sap-are-facilitating-tax-compliance-in-a-digital-world.html\n"
     ]
    },
    {
     "name": "stderr",
     "output_type": "stream",
     "text": [
      "2020-03-04 13:20:50 [urllib3.connectionpool] DEBUG: https://www.pwc.be:443 \"GET /en/news-publications/client-case-studies/pwc-and-sap-are-facilitating-tax-compliance-in-a-digital-world.html HTTP/1.1\" 200 24030\n",
      "2020-03-04 13:20:50 [scrapy.downloadermiddlewares.redirect] DEBUG: Redirecting (307) to <GET https://news.itu.int/socially-responsible-ai/> from <GET https://www.pwc.com/gx/en/ghost/how-responsible-ai-can-boost-sustainable-development.html>\n",
      "2020-03-04 13:20:50 [scrapy.core.engine] DEBUG: Crawled (200) <GET https://www.pwc.com/gx/en/issues/data-and-analytics/artificial-intelligence/what-is-responsible-ai/responsible-ai-practical-guide.pdf> (referer: None)\n",
      "2020-03-04 13:20:50 [scrapy.core.engine] DEBUG: Crawled (200) <GET https://www.pwc.com/ca/en/consulting/artificial-intelligence/ai-powered-supply-chains.pdf> (referer: None)\n",
      "2020-03-04 13:20:50 [scrapy.core.engine] DEBUG: Crawled (200) <GET https://news.itu.int/socially-responsible-ai/> (referer: None)\n",
      "2020-03-04 13:20:50 [urllib3.connectionpool] DEBUG: Starting new HTTPS connection (1): www.pwc.com:443\n",
      "2020-03-04 13:20:50 [urllib3.connectionpool] DEBUG: https://www.pwc.com:443 \"GET /gx/en/issues/data-and-analytics/artificial-intelligence/what-is-responsible-ai/responsible-ai-practical-guide.pdf HTTP/1.1\" 200 2078529\n"
     ]
    },
    {
     "name": "stdout",
     "output_type": "stream",
     "text": [
      "https://www.pwc.com/gx/en/issues/data-and-analytics/artificial-intelligence/what-is-responsible-ai/responsible-ai-practical-guide.pdf\n"
     ]
    },
    {
     "name": "stderr",
     "output_type": "stream",
     "text": [
      "2020-03-04 13:20:51 [scrapy.core.engine] DEBUG: Crawled (404) <GET https://www.pwc.lu/gaining-national-competitive-advantage-through-ai> (referer: None)\n",
      "2020-03-04 13:20:51 [scrapy.downloadermiddlewares.redirect] DEBUG: Redirecting (307) to <GET https://press.pwc.com/Analyst-citations/ALL/pwc-named-a-leader-for-business-analytics-services/s/d1a31d4e-6307-42b0-9027-b8dd954736bf> from <GET https://www.pwc.com/gx/en/about/analyst-relations/ghosts/pwc-named-a-leader-for-business-analytics-services.html>\n",
      "2020-03-04 13:20:51 [scrapy.downloadermiddlewares.redirect] DEBUG: Redirecting (307) to <GET https://www.strategy-business.com/article/Digital-Native-Retailers-Are-Giving-Physical-Stores-a-Radical-Makeover?gko=da23d> from <GET https://www.pwc.com/gx/en/ghost/digital-native-retailers-are-giving-physical-stores-a-radical-ma.html>\n",
      "2020-03-04 13:20:51 [scrapy.downloadermiddlewares.redirect] DEBUG: Redirecting (307) to <GET https://www.strategy-business.com/blog/Is-AI-the-Next-Frontier-for-National-Competitive-Advantage?gko=9bfef> from <GET https://www.pwc.com/gx/en/ghost/is-ai-the-next-frontier-for-national-competitive-advantage.html>\n",
      "2020-03-04 13:20:51 [scrapy.core.engine] DEBUG: Crawled (200) <GET https://www.pwc.com/gx/en/industries/tmt/publications/global-tmt-semiconductor-report-2019.html> (referer: None)\n",
      "2020-03-04 13:20:51 [scrapy.downloadermiddlewares.redirect] DEBUG: Redirecting (307) to <GET https://www.strategy-business.com/article/What-is-fair-when-it-comes-to-AI-bias?gko=827c0> from <GET https://www.pwc.com/gx/en/ghost/what-is-fair-when-it-comes-to-ai-bias.html>\n",
      "2020-03-04 13:20:51 [urllib3.connectionpool] DEBUG: Starting new HTTPS connection (1): www.pwc.com:443\n",
      "2020-03-04 13:20:51 [urllib3.connectionpool] DEBUG: https://www.pwc.com:443 \"GET /ca/en/consulting/artificial-intelligence/ai-powered-supply-chains.pdf HTTP/1.1\" 200 5659946\n"
     ]
    },
    {
     "name": "stdout",
     "output_type": "stream",
     "text": [
      "https://www.pwc.com/ca/en/consulting/artificial-intelligence/ai-powered-supply-chains.pdf\n"
     ]
    },
    {
     "name": "stderr",
     "output_type": "stream",
     "text": [
      "2020-03-04 13:20:52 [urllib3.connectionpool] DEBUG: Starting new HTTPS connection (1): news.itu.int:443\n"
     ]
    },
    {
     "name": "stdout",
     "output_type": "stream",
     "text": [
      "https://news.itu.int/socially-responsible-ai/\n"
     ]
    },
    {
     "name": "stderr",
     "output_type": "stream",
     "text": [
      "2020-03-04 13:20:52 [urllib3.connectionpool] DEBUG: https://news.itu.int:443 \"GET /socially-responsible-ai/ HTTP/1.1\" 403 146\n",
      "2020-03-04 13:20:52 [scrapy.core.engine] DEBUG: Crawled (200) <GET https://pwc.blogs.com/data/2019/07/making-the-case-for-responsible-artificial-intelligence.html> (referer: None)\n",
      "2020-03-04 13:20:52 [scrapy.core.engine] DEBUG: Crawled (200) <GET https://pwc.blogs.com/data/2019/10/the-role-of-ai-achieving-global-sustainable-development-goals.html> (referer: None)\n",
      "2020-03-04 13:20:52 [scrapy.spidermiddlewares.httperror] INFO: Ignoring response <404 https://www.pwc.lu/gaining-national-competitive-advantage-through-ai>: HTTP status code is not handled or not allowed\n",
      "2020-03-04 13:20:52 [urllib3.connectionpool] DEBUG: Starting new HTTPS connection (1): www.pwc.com:443\n"
     ]
    },
    {
     "name": "stdout",
     "output_type": "stream",
     "text": [
      "https://www.pwc.com/gx/en/industries/tmt/publications/global-tmt-semiconductor-report-2019.html\n"
     ]
    },
    {
     "name": "stderr",
     "output_type": "stream",
     "text": [
      "2020-03-04 13:20:53 [urllib3.connectionpool] DEBUG: https://www.pwc.com:443 \"GET /gx/en/industries/tmt/publications/global-tmt-semiconductor-report-2019.html HTTP/1.1\" 200 27976\n",
      "2020-03-04 13:20:53 [scrapy.downloadermiddlewares.redirect] DEBUG: Redirecting (307) to <GET https://www.strategy-business.com/blog/Five-Standards-for-Responsible-AI-Use> from <GET https://www.pwc.com/gx/en/ghost/five-standards-for-responsible-ai-use.html>\n",
      "2020-03-04 13:20:53 [scrapy.core.engine] DEBUG: Crawled (200) <GET https://www.pwc.com/us/en/services/consulting/library/artificial-intelligence-predictions-2019.html> (referer: None)\n",
      "2020-03-04 13:20:53 [scrapy.downloadermiddlewares.redirect] DEBUG: Redirecting (307) to <GET https://www.strategy-business.com/article/How-Robots-Will-Transform-the-C-Suite?gko=24be0&utm_campaign=RobotsCsuitePwCWebsite&utm_medium=website&utm_source=website> from <GET https://www.pwc.com/gx/en/ghost/s-b-how-robots-will-transform-the-c-suite.html>\n",
      "2020-03-04 13:20:53 [urllib3.connectionpool] DEBUG: Starting new HTTPS connection (1): pwc.blogs.com:443\n"
     ]
    },
    {
     "name": "stdout",
     "output_type": "stream",
     "text": [
      "https://pwc.blogs.com/data/2019/07/making-the-case-for-responsible-artificial-intelligence.html\n"
     ]
    },
    {
     "name": "stderr",
     "output_type": "stream",
     "text": [
      "2020-03-04 13:20:54 [urllib3.connectionpool] DEBUG: https://pwc.blogs.com:443 \"GET /data/2019/07/making-the-case-for-responsible-artificial-intelligence.html HTTP/1.1\" 200 None\n",
      "2020-03-04 13:20:54 [urllib3.connectionpool] DEBUG: Starting new HTTPS connection (1): pwc.blogs.com:443\n"
     ]
    },
    {
     "name": "stdout",
     "output_type": "stream",
     "text": [
      "https://pwc.blogs.com/data/2019/10/the-role-of-ai-achieving-global-sustainable-development-goals.html\n"
     ]
    },
    {
     "name": "stderr",
     "output_type": "stream",
     "text": [
      "2020-03-04 13:20:54 [urllib3.connectionpool] DEBUG: https://pwc.blogs.com:443 \"GET /data/2019/10/the-role-of-ai-achieving-global-sustainable-development-goals.html HTTP/1.1\" 200 None\n",
      "2020-03-04 13:20:55 [urllib3.connectionpool] DEBUG: Starting new HTTPS connection (1): www.pwc.com:443\n"
     ]
    },
    {
     "name": "stdout",
     "output_type": "stream",
     "text": [
      "https://www.pwc.com/us/en/services/consulting/library/artificial-intelligence-predictions-2019.html\n"
     ]
    },
    {
     "name": "stderr",
     "output_type": "stream",
     "text": [
      "2020-03-04 13:20:55 [urllib3.connectionpool] DEBUG: https://www.pwc.com:443 \"GET /us/en/services/consulting/library/artificial-intelligence-predictions-2019.html HTTP/1.1\" 200 None\n",
      "2020-03-04 13:20:55 [scrapy.downloadermiddlewares.redirect] DEBUG: Redirecting (302) to <GET https://www.pwc.com/gx/en/news-room/newsmarket/Analyst-citations/ALL/pwc-named-a-leader-for-business-analytics-services/s/d1a31d4e-6307-42b0-9027-b8dd954736bf> from <GET https://press.pwc.com/Analyst-citations/ALL/pwc-named-a-leader-for-business-analytics-services/s/d1a31d4e-6307-42b0-9027-b8dd954736bf>\n",
      "2020-03-04 13:20:55 [scrapy.core.engine] DEBUG: Crawled (200) <GET https://www.pwc.ch/en/insights/it-and-cyber-risk-management-english.html> (referer: None)\n",
      "2020-03-04 13:20:55 [scrapy.core.engine] DEBUG: Crawled (200) <GET https://www.digitalpulse.pwc.com.au/ai-governance-considerations/> (referer: None)\n",
      "2020-03-04 13:20:55 [scrapy.core.engine] DEBUG: Crawled (200) <GET https://www.pwc.co.uk/issues/cyber-security-data-privacy/insights/psd2-and-banks.html> (referer: None)\n",
      "2020-03-04 13:20:55 [scrapy.core.engine] DEBUG: Crawled (200) <GET https://www.pwc.co.uk/issues/cyber-security-data-privacy/insights/Transparency-in-the-digital-age.html> (referer: None)\n",
      "2020-03-04 13:20:55 [scrapy.core.engine] DEBUG: Crawled (200) <GET https://www.pwc.in/research-insights/2018/how-ai-is-reshaping-jobs-in-india.html> (referer: None)\n",
      "2020-03-04 13:20:55 [urllib3.connectionpool] DEBUG: Starting new HTTPS connection (1): www.pwc.ch:443\n"
     ]
    },
    {
     "name": "stdout",
     "output_type": "stream",
     "text": [
      "https://www.pwc.ch/en/insights/it-and-cyber-risk-management-english.html\n"
     ]
    },
    {
     "name": "stderr",
     "output_type": "stream",
     "text": [
      "2020-03-04 13:20:56 [urllib3.connectionpool] DEBUG: https://www.pwc.ch:443 \"GET /en/insights/it-and-cyber-risk-management-english.html HTTP/1.1\" 200 24458\n",
      "2020-03-04 13:20:56 [scrapy.core.engine] DEBUG: Crawled (200) <GET https://www.digitalpulse.pwc.com.au/ethical-artificial-intelligence-tensions-trade-offs/> (referer: None)\n",
      "2020-03-04 13:20:56 [scrapy.core.engine] DEBUG: Crawled (200) <GET https://www.digitalpulse.pwc.com.au/robust-secure-artificial-intelligence-c-suite/> (referer: None)\n",
      "2020-03-04 13:20:56 [scrapy.downloadermiddlewares.redirect] DEBUG: Redirecting (307) to <GET https://www.strategy-business.com/article/Understanding-the-Potential-of-Artificial-Intelligence?gko=c3fb6> from <GET https://www.pwc.com/gx/en/issues/data-and-analytics/artificial-intelligence/publications/potential-of-ai.html>\n",
      "2020-03-04 13:20:56 [scrapy.core.engine] DEBUG: Crawled (200) <GET https://www.strategy-business.com/blog/Five-Standards-for-Responsible-AI-Use> (referer: None)\n",
      "2020-03-04 13:20:56 [scrapy.core.engine] DEBUG: Crawled (200) <GET https://www.strategy-business.com/article/How-Robots-Will-Transform-the-C-Suite?gko=24be0&utm_campaign=RobotsCsuitePwCWebsite&utm_medium=website&utm_source=website> (referer: None)\n",
      "2020-03-04 13:20:56 [scrapy.core.engine] DEBUG: Crawled (200) <GET https://www.pwc.co.uk/services/risk-assurance/insights/explainable-ai.html> (referer: None)\n",
      "2020-03-04 13:20:56 [scrapy.core.engine] DEBUG: Crawled (200) <GET https://www.strategy-business.com/article/Digital-Native-Retailers-Are-Giving-Physical-Stores-a-Radical-Makeover?gko=da23d> (referer: None)\n",
      "2020-03-04 13:20:56 [urllib3.connectionpool] DEBUG: Starting new HTTPS connection (1): www.digitalpulse.pwc.com.au:443\n"
     ]
    },
    {
     "name": "stdout",
     "output_type": "stream",
     "text": [
      "https://www.digitalpulse.pwc.com.au/ai-governance-considerations/\n"
     ]
    },
    {
     "name": "stderr",
     "output_type": "stream",
     "text": [
      "2020-03-04 13:20:58 [urllib3.connectionpool] DEBUG: https://www.digitalpulse.pwc.com.au:443 \"GET /ai-governance-considerations/ HTTP/1.1\" 200 15867\n",
      "2020-03-04 13:20:58 [urllib3.connectionpool] DEBUG: Starting new HTTPS connection (1): www.pwc.co.uk:443\n"
     ]
    },
    {
     "name": "stdout",
     "output_type": "stream",
     "text": [
      "https://www.pwc.co.uk/issues/cyber-security-data-privacy/insights/psd2-and-banks.html\n"
     ]
    },
    {
     "name": "stderr",
     "output_type": "stream",
     "text": [
      "2020-03-04 13:20:58 [urllib3.connectionpool] DEBUG: https://www.pwc.co.uk:443 \"GET /issues/cyber-security-data-privacy/insights/psd2-and-banks.html HTTP/1.1\" 200 18884\n",
      "2020-03-04 13:20:58 [urllib3.connectionpool] DEBUG: Starting new HTTPS connection (1): www.pwc.co.uk:443\n"
     ]
    },
    {
     "name": "stdout",
     "output_type": "stream",
     "text": [
      "https://www.pwc.co.uk/issues/cyber-security-data-privacy/insights/Transparency-in-the-digital-age.html\n"
     ]
    },
    {
     "name": "stderr",
     "output_type": "stream",
     "text": [
      "2020-03-04 13:20:58 [urllib3.connectionpool] DEBUG: https://www.pwc.co.uk:443 \"GET /issues/cyber-security-data-privacy/insights/Transparency-in-the-digital-age.html HTTP/1.1\" 200 19764\n",
      "2020-03-04 13:20:58 [urllib3.connectionpool] DEBUG: Starting new HTTPS connection (1): www.pwc.in:443\n"
     ]
    },
    {
     "name": "stdout",
     "output_type": "stream",
     "text": [
      "https://www.pwc.in/research-insights/2018/how-ai-is-reshaping-jobs-in-india.html\n"
     ]
    },
    {
     "name": "stderr",
     "output_type": "stream",
     "text": [
      "2020-03-04 13:20:59 [urllib3.connectionpool] DEBUG: https://www.pwc.in:443 \"GET /research-insights/2018/how-ai-is-reshaping-jobs-in-india.html HTTP/1.1\" 200 25565\n",
      "2020-03-04 13:20:59 [scrapy.core.engine] DEBUG: Crawled (200) <GET https://www.strategy-business.com/blog/Is-AI-the-Next-Frontier-for-National-Competitive-Advantage?gko=9bfef> (referer: None)\n",
      "2020-03-04 13:20:59 [scrapy.core.engine] DEBUG: Crawled (200) <GET https://www.strategy-business.com/article/What-is-fair-when-it-comes-to-AI-bias?gko=827c0> (referer: None)\n",
      "2020-03-04 13:20:59 [urllib3.connectionpool] DEBUG: Starting new HTTPS connection (1): www.digitalpulse.pwc.com.au:443\n"
     ]
    },
    {
     "name": "stdout",
     "output_type": "stream",
     "text": [
      "https://www.digitalpulse.pwc.com.au/ethical-artificial-intelligence-tensions-trade-offs/\n"
     ]
    },
    {
     "name": "stderr",
     "output_type": "stream",
     "text": [
      "2020-03-04 13:21:00 [urllib3.connectionpool] DEBUG: https://www.digitalpulse.pwc.com.au:443 \"GET /ethical-artificial-intelligence-tensions-trade-offs/ HTTP/1.1\" 200 15906\n",
      "2020-03-04 13:21:01 [urllib3.connectionpool] DEBUG: Starting new HTTPS connection (1): www.digitalpulse.pwc.com.au:443\n"
     ]
    },
    {
     "name": "stdout",
     "output_type": "stream",
     "text": [
      "https://www.digitalpulse.pwc.com.au/robust-secure-artificial-intelligence-c-suite/\n"
     ]
    },
    {
     "name": "stderr",
     "output_type": "stream",
     "text": [
      "2020-03-04 13:21:02 [urllib3.connectionpool] DEBUG: https://www.digitalpulse.pwc.com.au:443 \"GET /robust-secure-artificial-intelligence-c-suite/ HTTP/1.1\" 200 15320\n",
      "2020-03-04 13:21:02 [urllib3.connectionpool] DEBUG: Starting new HTTPS connection (1): www.strategy-business.com:443\n"
     ]
    },
    {
     "name": "stdout",
     "output_type": "stream",
     "text": [
      "https://www.strategy-business.com/blog/Five-Standards-for-Responsible-AI-Use\n"
     ]
    },
    {
     "name": "stderr",
     "output_type": "stream",
     "text": [
      "2020-03-04 13:21:03 [urllib3.connectionpool] DEBUG: https://www.strategy-business.com:443 \"GET /blog/Five-Standards-for-Responsible-AI-Use HTTP/1.1\" 200 None\n",
      "2020-03-04 13:21:03 [urllib3.connectionpool] DEBUG: Starting new HTTPS connection (1): www.strategy-business.com:443\n"
     ]
    },
    {
     "name": "stdout",
     "output_type": "stream",
     "text": [
      "https://www.strategy-business.com/article/How-Robots-Will-Transform-the-C-Suite?gko=24be0&utm_campaign=RobotsCsuitePwCWebsite&utm_medium=website&utm_source=website\n"
     ]
    },
    {
     "name": "stderr",
     "output_type": "stream",
     "text": [
      "2020-03-04 13:21:04 [urllib3.connectionpool] DEBUG: https://www.strategy-business.com:443 \"GET /article/How-Robots-Will-Transform-the-C-Suite?gko=24be0&utm_campaign=RobotsCsuitePwCWebsite&utm_medium=website&utm_source=website HTTP/1.1\" 200 None\n",
      "2020-03-04 13:21:04 [urllib3.connectionpool] DEBUG: Starting new HTTPS connection (1): www.pwc.co.uk:443\n"
     ]
    },
    {
     "name": "stdout",
     "output_type": "stream",
     "text": [
      "https://www.pwc.co.uk/services/risk-assurance/insights/explainable-ai.html\n"
     ]
    },
    {
     "name": "stderr",
     "output_type": "stream",
     "text": [
      "2020-03-04 13:21:04 [urllib3.connectionpool] DEBUG: https://www.pwc.co.uk:443 \"GET /services/risk-assurance/insights/explainable-ai.html HTTP/1.1\" 200 25777\n",
      "2020-03-04 13:21:04 [urllib3.connectionpool] DEBUG: Starting new HTTPS connection (1): www.strategy-business.com:443\n"
     ]
    },
    {
     "name": "stdout",
     "output_type": "stream",
     "text": [
      "https://www.strategy-business.com/article/Digital-Native-Retailers-Are-Giving-Physical-Stores-a-Radical-Makeover?gko=da23d\n"
     ]
    },
    {
     "name": "stderr",
     "output_type": "stream",
     "text": [
      "2020-03-04 13:21:05 [urllib3.connectionpool] DEBUG: https://www.strategy-business.com:443 \"GET /article/Digital-Native-Retailers-Are-Giving-Physical-Stores-a-Radical-Makeover?gko=da23d HTTP/1.1\" 200 None\n",
      "2020-03-04 13:21:05 [scrapy.downloadermiddlewares.redirect] DEBUG: Redirecting (307) to <GET https://www.pwc.co.uk/corporate-sustainability/assets/pwc-uk-responsible-technology-policy-final.pdf> from <GET https://www.pwc.com/us/en/services/consulting/analytics/ghosts/pwc-uk-responsible-technology-policy-final-ghost.html>\n",
      "2020-03-04 13:21:05 [scrapy.downloadermiddlewares.redirect] DEBUG: Redirecting (301) to <GET https://www.pwc.com/us/en/services/consulting/cybersecurity/data-trust-pacesetters.html> from <GET https://www.pwc.com/us/en/services/consulting/cybersecurity/digital-trust/2018-insights.html>\n",
      "2020-03-04 13:21:05 [scrapy.core.engine] DEBUG: Crawled (200) <GET https://www.pwc.com/gx/en/issues/data-and-analytics/artificial-intelligence/technologies-on-jobs-in-china.html> (referer: None)\n",
      "2020-03-04 13:21:05 [scrapy.core.engine] DEBUG: Crawled (200) <GET https://www.pwc.com/gx/en/about/analyst-relations/alm-cybersecurity-consulting.html> (referer: None)\n",
      "2020-03-04 13:21:05 [scrapy.core.engine] DEBUG: Crawled (404) <GET https://www.pwc.com/gx/en/news-room/newsmarket/Analyst-citations/ALL/pwc-named-a-leader-for-business-analytics-services/s/d1a31d4e-6307-42b0-9027-b8dd954736bf> (referer: None)\n",
      "2020-03-04 13:21:05 [scrapy.downloadermiddlewares.redirect] DEBUG: Redirecting (307) to <GET https://www.strategy-business.com/article/Why-AI-Will-Create-Jobs> from <GET https://www.pwc.com/us/en/ghosts/why-ai-will-create-jobs.html>\n",
      "2020-03-04 13:21:05 [urllib3.connectionpool] DEBUG: Starting new HTTPS connection (1): www.strategy-business.com:443\n"
     ]
    },
    {
     "name": "stdout",
     "output_type": "stream",
     "text": [
      "https://www.strategy-business.com/blog/Is-AI-the-Next-Frontier-for-National-Competitive-Advantage?gko=9bfef\n"
     ]
    },
    {
     "name": "stderr",
     "output_type": "stream",
     "text": [
      "2020-03-04 13:21:06 [urllib3.connectionpool] DEBUG: https://www.strategy-business.com:443 \"GET /blog/Is-AI-the-Next-Frontier-for-National-Competitive-Advantage?gko=9bfef HTTP/1.1\" 200 None\n",
      "2020-03-04 13:21:06 [urllib3.connectionpool] DEBUG: Starting new HTTPS connection (1): www.strategy-business.com:443\n"
     ]
    },
    {
     "name": "stdout",
     "output_type": "stream",
     "text": [
      "https://www.strategy-business.com/article/What-is-fair-when-it-comes-to-AI-bias?gko=827c0\n"
     ]
    },
    {
     "name": "stderr",
     "output_type": "stream",
     "text": [
      "2020-03-04 13:21:07 [urllib3.connectionpool] DEBUG: https://www.strategy-business.com:443 \"GET /article/What-is-fair-when-it-comes-to-AI-bias?gko=827c0 HTTP/1.1\" 200 None\n",
      "2020-03-04 13:21:07 [scrapy.downloadermiddlewares.redirect] DEBUG: Redirecting (307) to <GET https://www.pwc.co.uk/who-we-are/corporate-sustainability/responsible-business/responsible-technology.html> from <GET https://www.pwc.com/us/en/ghosts/adopting-a-responsible-technology-approach.html>\n",
      "2020-03-04 13:21:07 [scrapy.core.engine] DEBUG: Crawled (200) <GET https://www.strategy-business.com/article/Understanding-the-Potential-of-Artificial-Intelligence?gko=c3fb6> (referer: None)\n",
      "2020-03-04 13:21:07 [urllib3.connectionpool] DEBUG: Starting new HTTPS connection (1): www.pwc.com:443\n"
     ]
    },
    {
     "name": "stdout",
     "output_type": "stream",
     "text": [
      "https://www.pwc.com/gx/en/issues/data-and-analytics/artificial-intelligence/technologies-on-jobs-in-china.html\n"
     ]
    },
    {
     "name": "stderr",
     "output_type": "stream",
     "text": [
      "2020-03-04 13:21:08 [urllib3.connectionpool] DEBUG: https://www.pwc.com:443 \"GET /gx/en/issues/data-and-analytics/artificial-intelligence/technologies-on-jobs-in-china.html HTTP/1.1\" 200 28712\n",
      "2020-03-04 13:21:08 [urllib3.connectionpool] DEBUG: Starting new HTTPS connection (1): www.pwc.com:443\n"
     ]
    },
    {
     "name": "stdout",
     "output_type": "stream",
     "text": [
      "https://www.pwc.com/gx/en/about/analyst-relations/alm-cybersecurity-consulting.html\n"
     ]
    },
    {
     "name": "stderr",
     "output_type": "stream",
     "text": [
      "2020-03-04 13:21:08 [urllib3.connectionpool] DEBUG: https://www.pwc.com:443 \"GET /gx/en/about/analyst-relations/alm-cybersecurity-consulting.html HTTP/1.1\" 200 27092\n",
      "2020-03-04 13:21:08 [scrapy.spidermiddlewares.httperror] INFO: Ignoring response <404 https://www.pwc.com/gx/en/news-room/newsmarket/Analyst-citations/ALL/pwc-named-a-leader-for-business-analytics-services/s/d1a31d4e-6307-42b0-9027-b8dd954736bf>: HTTP status code is not handled or not allowed\n",
      "2020-03-04 13:21:08 [scrapy.downloadermiddlewares.redirect] DEBUG: Redirecting (307) to <GET http://pwc.blogs.com/analytics_means_business/2018/03/stop-think-automate-repeat.html> from <GET https://www.pwc.com/us/en/ghosts/stop-think-automate-repeat.html>\n",
      "2020-03-04 13:21:08 [scrapy.core.engine] DEBUG: Crawled (200) <GET https://www.strategy-business.com/article/Why-AI-Will-Create-Jobs> (referer: None)\n",
      "2020-03-04 13:21:08 [scrapy.core.engine] DEBUG: Crawled (200) <GET https://www.pwc.com/us/en/services/consulting/cybersecurity/data-trust-pacesetters.html> (referer: None)\n",
      "2020-03-04 13:21:08 [scrapy.downloadermiddlewares.redirect] DEBUG: Redirecting (307) to <GET https://www.digitalpulse.pwc.com.au/strategic-partnerships-shaping-todays-business-models/> from <GET https://www.pwc.com/us/en/ghosts/meeting-of-minds-how-strategic-partnerships-are-shaping-today.html>\n",
      "2020-03-04 13:21:08 [scrapy.downloadermiddlewares.redirect] DEBUG: Redirecting (301) to <GET https://www.pwc.co.uk/who-we-are/corporate-sustainability/assets/documents/pwc-uk-responsible-technology-policy-july-2019.pdf> from <GET https://www.pwc.co.uk/corporate-sustainability/assets/pwc-uk-responsible-technology-policy-final.pdf>\n",
      "2020-03-04 13:21:08 [urllib3.connectionpool] DEBUG: Starting new HTTPS connection (1): www.strategy-business.com:443\n"
     ]
    },
    {
     "name": "stdout",
     "output_type": "stream",
     "text": [
      "https://www.strategy-business.com/article/Understanding-the-Potential-of-Artificial-Intelligence?gko=c3fb6\n"
     ]
    },
    {
     "name": "stderr",
     "output_type": "stream",
     "text": [
      "2020-03-04 13:21:09 [urllib3.connectionpool] DEBUG: https://www.strategy-business.com:443 \"GET /article/Understanding-the-Potential-of-Artificial-Intelligence?gko=c3fb6 HTTP/1.1\" 200 None\n",
      "2020-03-04 13:21:09 [scrapy.downloadermiddlewares.redirect] DEBUG: Redirecting (307) to <GET http://usblogs.pwc.com/emerging-technology/machine-learning-evolution-infographic/> from <GET https://www.pwc.com/us/en/ghosts/machine-learning-evolution.html>\n",
      "2020-03-04 13:21:09 [scrapy.downloadermiddlewares.redirect] DEBUG: Redirecting (301) to <GET https://www.pwc.co.uk/who-we-are/our-purpose/working-with-purpose/responsible-technology.html> from <GET https://www.pwc.co.uk/who-we-are/corporate-sustainability/responsible-business/responsible-technology.html>\n",
      "2020-03-04 13:21:09 [urllib3.connectionpool] DEBUG: Starting new HTTPS connection (1): www.strategy-business.com:443\n"
     ]
    },
    {
     "name": "stdout",
     "output_type": "stream",
     "text": [
      "https://www.strategy-business.com/article/Why-AI-Will-Create-Jobs\n"
     ]
    },
    {
     "name": "stderr",
     "output_type": "stream",
     "text": [
      "2020-03-04 13:21:10 [urllib3.connectionpool] DEBUG: https://www.strategy-business.com:443 \"GET /article/Why-AI-Will-Create-Jobs HTTP/1.1\" 200 None\n",
      "2020-03-04 13:21:10 [urllib3.connectionpool] DEBUG: Starting new HTTPS connection (1): www.pwc.com:443\n"
     ]
    },
    {
     "name": "stdout",
     "output_type": "stream",
     "text": [
      "https://www.pwc.com/us/en/services/consulting/cybersecurity/data-trust-pacesetters.html\n"
     ]
    },
    {
     "name": "stderr",
     "output_type": "stream",
     "text": [
      "2020-03-04 13:21:10 [urllib3.connectionpool] DEBUG: https://www.pwc.com:443 \"GET /us/en/services/consulting/cybersecurity/data-trust-pacesetters.html HTTP/1.1\" 200 None\n",
      "2020-03-04 13:21:10 [scrapy.downloadermiddlewares.redirect] DEBUG: Redirecting (307) to <GET http://usblogs.pwc.com/emerging-technology/artificial-intelligence-is-your-business-ready/> from <GET https://www.pwc.com/us/en/ghosts/artificial-intelligence-is-your-business-ready.html>\n",
      "2020-03-04 13:21:10 [scrapy.core.engine] DEBUG: Crawled (200) <GET https://www.digitalpulse.pwc.com.au/strategic-partnerships-shaping-todays-business-models/> (referer: None)\n",
      "2020-03-04 13:21:10 [scrapy.downloadermiddlewares.redirect] DEBUG: Redirecting (301) to <GET https://pwc.blogs.com/analytics_means_business/2018/03/stop-think-automate-repeat.html> from <GET http://pwc.blogs.com/analytics_means_business/2018/03/stop-think-automate-repeat.html>\n",
      "2020-03-04 13:21:10 [urllib3.connectionpool] DEBUG: Starting new HTTPS connection (1): www.digitalpulse.pwc.com.au:443\n"
     ]
    },
    {
     "name": "stdout",
     "output_type": "stream",
     "text": [
      "https://www.digitalpulse.pwc.com.au/strategic-partnerships-shaping-todays-business-models/\n"
     ]
    },
    {
     "name": "stderr",
     "output_type": "stream",
     "text": [
      "2020-03-04 13:21:12 [urllib3.connectionpool] DEBUG: https://www.digitalpulse.pwc.com.au:443 \"GET /strategic-partnerships-shaping-todays-business-models/ HTTP/1.1\" 200 14567\n",
      "2020-03-04 13:21:12 [scrapy.core.engine] DEBUG: Crawled (200) <GET https://www.pwc.co.uk/industries/financial-services/business-led-technology-transformation/accelerate-digital-transformation/customer-digital-experience.html> (referer: None)\n",
      "2020-03-04 13:21:12 [scrapy.downloadermiddlewares.redirect] DEBUG: Redirecting (307) to <GET http://usblogs.pwc.com/emerging-technology/to-open-ai-black-box/> from <GET https://www.pwc.com/us/en/services/consulting/ghosts/what-it-means-to-open-ais-black-box.html>\n",
      "2020-03-04 13:21:12 [scrapy.core.engine] DEBUG: Crawled (200) <GET https://www.pwc.co.uk/who-we-are/our-purpose/working-with-purpose/responsible-technology.html> (referer: None)\n",
      "2020-03-04 13:21:12 [scrapy.core.engine] DEBUG: Crawled (200) <GET https://www.pwc.com/us/en/services/consulting/cybersecurity/disclosures-to-investors.html> (referer: None)\n",
      "2020-03-04 13:21:12 [scrapy.core.engine] DEBUG: Crawled (200) <GET https://www.pwc.in/research-insights/2018/advance-artificial-intelligence-for-growth-leveraging-ai-and-robotics-for-india-s-economic-transformation.html> (referer: None)\n",
      "2020-03-04 13:21:12 [scrapy.core.engine] DEBUG: Crawled (200) <GET https://www.pwc.com/us/en/services/consulting/analytics/artificial-intelligence/key-trends-in-ai.html> (referer: None)\n",
      "2020-03-04 13:21:12 [scrapy.core.engine] DEBUG: Crawled (200) <GET https://www.pwc.co.uk/who-we-are/regional-sites/north-west/insights/AI-in-the-north-west-applying-it-responsibly.html> (referer: None)\n",
      "2020-03-04 13:21:12 [scrapy.downloadermiddlewares.redirect] DEBUG: Redirecting (meta refresh) to <GET http://pwc.blogs.com/data> from <GET https://pwc.blogs.com/analytics_means_business/2018/03/stop-think-automate-repeat.html>\n",
      "2020-03-04 13:21:12 [scrapy.downloadermiddlewares.redirect] DEBUG: Redirecting (307) to <GET https://www.iot-inc.com/ai-and-iot-a-marriage-made-in-data-podcast/> from <GET https://www.pwc.com/gx/en/ghost/ai-iot.html>\n",
      "2020-03-04 13:21:12 [urllib3.connectionpool] DEBUG: Starting new HTTPS connection (1): www.pwc.co.uk:443\n"
     ]
    },
    {
     "name": "stdout",
     "output_type": "stream",
     "text": [
      "https://www.pwc.co.uk/industries/financial-services/business-led-technology-transformation/accelerate-digital-transformation/customer-digital-experience.html\n"
     ]
    },
    {
     "name": "stderr",
     "output_type": "stream",
     "text": [
      "2020-03-04 13:21:13 [urllib3.connectionpool] DEBUG: https://www.pwc.co.uk:443 \"GET /industries/financial-services/business-led-technology-transformation/accelerate-digital-transformation/customer-digital-experience.html HTTP/1.1\" 200 27384\n",
      "2020-03-04 13:21:13 [scrapy.core.engine] DEBUG: Crawled (200) <GET https://www.pwc.co.uk/issues/cyber-security-data-privacy/insights/the-changing-face-of-cyber-security.html> (referer: None)\n",
      "2020-03-04 13:21:13 [scrapy.downloadermiddlewares.redirect] DEBUG: Redirecting (301) to <GET https://pwc.blogs.com/data> from <GET http://pwc.blogs.com/data>\n",
      "2020-03-04 13:21:13 [urllib3.connectionpool] DEBUG: Starting new HTTPS connection (1): www.pwc.co.uk:443\n"
     ]
    },
    {
     "name": "stdout",
     "output_type": "stream",
     "text": [
      "https://www.pwc.co.uk/who-we-are/our-purpose/working-with-purpose/responsible-technology.html\n"
     ]
    },
    {
     "name": "stderr",
     "output_type": "stream",
     "text": [
      "2020-03-04 13:21:13 [urllib3.connectionpool] DEBUG: https://www.pwc.co.uk:443 \"GET /who-we-are/our-purpose/working-with-purpose/responsible-technology.html HTTP/1.1\" 200 28126\n",
      "2020-03-04 13:21:13 [urllib3.connectionpool] DEBUG: Starting new HTTPS connection (1): www.pwc.com:443\n"
     ]
    },
    {
     "name": "stdout",
     "output_type": "stream",
     "text": [
      "https://www.pwc.com/us/en/services/consulting/cybersecurity/disclosures-to-investors.html\n"
     ]
    },
    {
     "name": "stderr",
     "output_type": "stream",
     "text": [
      "2020-03-04 13:21:13 [urllib3.connectionpool] DEBUG: https://www.pwc.com:443 \"GET /us/en/services/consulting/cybersecurity/disclosures-to-investors.html HTTP/1.1\" 200 32277\n",
      "2020-03-04 13:21:13 [urllib3.connectionpool] DEBUG: Starting new HTTPS connection (1): www.pwc.in:443\n"
     ]
    },
    {
     "name": "stdout",
     "output_type": "stream",
     "text": [
      "https://www.pwc.in/research-insights/2018/advance-artificial-intelligence-for-growth-leveraging-ai-and-robotics-for-india-s-economic-transformation.html\n"
     ]
    },
    {
     "name": "stderr",
     "output_type": "stream",
     "text": [
      "2020-03-04 13:21:14 [urllib3.connectionpool] DEBUG: https://www.pwc.in:443 \"GET /research-insights/2018/advance-artificial-intelligence-for-growth-leveraging-ai-and-robotics-for-india-s-economic-transformation.html HTTP/1.1\" 200 20469\n",
      "2020-03-04 13:21:14 [urllib3.connectionpool] DEBUG: Starting new HTTPS connection (1): www.pwc.com:443\n"
     ]
    },
    {
     "name": "stdout",
     "output_type": "stream",
     "text": [
      "https://www.pwc.com/us/en/services/consulting/analytics/artificial-intelligence/key-trends-in-ai.html\n"
     ]
    },
    {
     "name": "stderr",
     "output_type": "stream",
     "text": [
      "2020-03-04 13:21:14 [urllib3.connectionpool] DEBUG: https://www.pwc.com:443 \"GET /us/en/services/consulting/analytics/artificial-intelligence/key-trends-in-ai.html HTTP/1.1\" 200 39686\n",
      "2020-03-04 13:21:14 [urllib3.connectionpool] DEBUG: Starting new HTTPS connection (1): www.pwc.co.uk:443\n"
     ]
    },
    {
     "name": "stdout",
     "output_type": "stream",
     "text": [
      "https://www.pwc.co.uk/who-we-are/regional-sites/north-west/insights/AI-in-the-north-west-applying-it-responsibly.html\n"
     ]
    },
    {
     "name": "stderr",
     "output_type": "stream",
     "text": [
      "2020-03-04 13:21:14 [urllib3.connectionpool] DEBUG: https://www.pwc.co.uk:443 \"GET /who-we-are/regional-sites/north-west/insights/AI-in-the-north-west-applying-it-responsibly.html HTTP/1.1\" 200 21038\n",
      "2020-03-04 13:21:14 [scrapy.core.engine] DEBUG: Crawled (200) <GET https://www.pwc.com/us/en/industries/consumer-markets/2018-retail-evolution/human-machine.html> (referer: None)\n",
      "2020-03-04 13:21:15 [scrapy.core.engine] DEBUG: Crawled (200) <GET https://www.pwc.com/us/en/services/consulting/analytics/artificial-intelligence.html> (referer: None)\n",
      "2020-03-04 13:21:15 [scrapy.downloadermiddlewares.redirect] DEBUG: Redirecting (301) to <GET https://www.digitalpulse.pwc.com.au/> from <GET http://usblogs.pwc.com/emerging-technology/machine-learning-evolution-infographic/>\n",
      "2020-03-04 13:21:15 [scrapy.downloadermiddlewares.redirect] DEBUG: Redirecting (301) to <GET https://www.digitalpulse.pwc.com.au/> from <GET http://usblogs.pwc.com/emerging-technology/artificial-intelligence-is-your-business-ready/>\n",
      "2020-03-04 13:21:15 [scrapy.core.engine] DEBUG: Crawled (200) <GET https://www.pwc.com/us/en/services/consulting/library/unlocking-automation-value.html> (referer: None)\n",
      "2020-03-04 13:21:15 [scrapy.downloadermiddlewares.redirect] DEBUG: Redirecting (307) to <GET http://usblogs.pwc.com/emerging-technology/finances-digital-future/> from <GET https://www.pwc.com/us/en/services/consulting/ghosts/confidence-in-the-future0.html>\n",
      "2020-03-04 13:21:15 [scrapy.downloadermiddlewares.redirect] DEBUG: Redirecting (307) to <GET http://pwc.blogs.com/analytics_means_business/2018/03/stop-think-automate-repeat.html> from <GET https://www.pwc.co.uk/ghost/artificial-intelligence/stop-think-automate-repeat.html>\n",
      "2020-03-04 13:21:15 [scrapy.downloadermiddlewares.redirect] DEBUG: Redirecting (307) to <GET http://pwc.blogs.com/analytics_means_business/2018/03/outperforming-the-human-how-can-machine-learning-help-your-business.html> from <GET https://www.pwc.co.uk/ghost/artificial-intelligence/outperforming-the-human-how-can-machine-learning-help-your-business.html>\n",
      "2020-03-04 13:21:15 [urllib3.connectionpool] DEBUG: Starting new HTTPS connection (1): www.pwc.co.uk:443\n"
     ]
    },
    {
     "name": "stdout",
     "output_type": "stream",
     "text": [
      "https://www.pwc.co.uk/issues/cyber-security-data-privacy/insights/the-changing-face-of-cyber-security.html\n"
     ]
    },
    {
     "name": "stderr",
     "output_type": "stream",
     "text": [
      "2020-03-04 13:21:15 [urllib3.connectionpool] DEBUG: https://www.pwc.co.uk:443 \"GET /issues/cyber-security-data-privacy/insights/the-changing-face-of-cyber-security.html HTTP/1.1\" 200 20995\n",
      "2020-03-04 13:21:15 [scrapy.core.engine] DEBUG: Crawled (200) <GET https://www.pwc.co.uk/services/sustainability-climate-change/insights/innovation-for-earth.html> (referer: None)\n",
      "2020-03-04 13:21:15 [urllib3.connectionpool] DEBUG: Starting new HTTPS connection (1): www.pwc.com:443\n"
     ]
    },
    {
     "name": "stdout",
     "output_type": "stream",
     "text": [
      "https://www.pwc.com/us/en/industries/consumer-markets/2018-retail-evolution/human-machine.html\n"
     ]
    },
    {
     "name": "stderr",
     "output_type": "stream",
     "text": [
      "2020-03-04 13:21:15 [urllib3.connectionpool] DEBUG: https://www.pwc.com:443 \"GET /us/en/industries/consumer-markets/2018-retail-evolution/human-machine.html HTTP/1.1\" 200 32769\n",
      "2020-03-04 13:21:15 [urllib3.connectionpool] DEBUG: Starting new HTTPS connection (1): www.pwc.com:443\n"
     ]
    },
    {
     "name": "stdout",
     "output_type": "stream",
     "text": [
      "https://www.pwc.com/us/en/services/consulting/analytics/artificial-intelligence.html\n"
     ]
    },
    {
     "name": "stderr",
     "output_type": "stream",
     "text": [
      "2020-03-04 13:21:16 [urllib3.connectionpool] DEBUG: https://www.pwc.com:443 \"GET /us/en/services/consulting/analytics/artificial-intelligence.html HTTP/1.1\" 200 None\n",
      "2020-03-04 13:21:16 [urllib3.connectionpool] DEBUG: Starting new HTTPS connection (1): www.pwc.com:443\n"
     ]
    },
    {
     "name": "stdout",
     "output_type": "stream",
     "text": [
      "https://www.pwc.com/us/en/services/consulting/library/unlocking-automation-value.html\n"
     ]
    },
    {
     "name": "stderr",
     "output_type": "stream",
     "text": [
      "2020-03-04 13:21:16 [urllib3.connectionpool] DEBUG: https://www.pwc.com:443 \"GET /us/en/services/consulting/library/unlocking-automation-value.html HTTP/1.1\" 200 32802\n",
      "2020-03-04 13:21:16 [scrapy.downloadermiddlewares.redirect] DEBUG: Redirecting (301) to <GET https://pwc.blogs.com/analytics_means_business/2018/03/outperforming-the-human-how-can-machine-learning-help-your-business.html> from <GET http://pwc.blogs.com/analytics_means_business/2018/03/outperforming-the-human-how-can-machine-learning-help-your-business.html>\n",
      "2020-03-04 13:21:16 [scrapy.core.engine] DEBUG: Crawled (200) <GET https://www.digitalpulse.pwc.com.au/> (referer: None)\n",
      "2020-03-04 13:21:16 [scrapy.core.engine] DEBUG: Crawled (200) <GET https://www.pwc.co.uk/who-we-are/women-in-technology/tech-she-can-charter.html> (referer: None)\n",
      "2020-03-04 13:21:16 [scrapy.core.engine] DEBUG: Crawled (200) <GET https://www.pwc.com/gx/en/industries/consumer-markets/consumer-insights-survey/2018/survey/artificial-intelligence.html> (referer: None)\n",
      "2020-03-04 13:21:16 [scrapy.downloadermiddlewares.redirect] DEBUG: Redirecting (301) to <GET https://www.digitalpulse.pwc.com.au/> from <GET http://usblogs.pwc.com/emerging-technology/finances-digital-future/>\n",
      "2020-03-04 13:21:16 [scrapy.downloadermiddlewares.redirect] DEBUG: Redirecting (302) to <GET https://pwc.blogs.com:443/data/> from <GET https://pwc.blogs.com/data>\n",
      "2020-03-04 13:21:16 [urllib3.connectionpool] DEBUG: Starting new HTTPS connection (1): www.pwc.co.uk:443\n"
     ]
    },
    {
     "name": "stdout",
     "output_type": "stream",
     "text": [
      "https://www.pwc.co.uk/services/sustainability-climate-change/insights/innovation-for-earth.html\n"
     ]
    },
    {
     "name": "stderr",
     "output_type": "stream",
     "text": [
      "2020-03-04 13:21:16 [urllib3.connectionpool] DEBUG: https://www.pwc.co.uk:443 \"GET /services/sustainability-climate-change/insights/innovation-for-earth.html HTTP/1.1\" 200 29775\n",
      "2020-03-04 13:21:16 [scrapy.core.engine] DEBUG: Crawled (200) <GET https://www.pwc.co.uk/who-we-are/regional-sites/north-west/insights/stop-think-automate-repeat-.html> (referer: None)\n",
      "2020-03-04 13:21:17 [urllib3.connectionpool] DEBUG: Starting new HTTPS connection (1): www.digitalpulse.pwc.com.au:443\n"
     ]
    },
    {
     "name": "stdout",
     "output_type": "stream",
     "text": [
      "https://www.digitalpulse.pwc.com.au/\n"
     ]
    },
    {
     "name": "stderr",
     "output_type": "stream",
     "text": [
      "2020-03-04 13:21:18 [urllib3.connectionpool] DEBUG: https://www.digitalpulse.pwc.com.au:443 \"GET / HTTP/1.1\" 200 12080\n",
      "2020-03-04 13:21:18 [urllib3.connectionpool] DEBUG: Starting new HTTPS connection (1): www.pwc.co.uk:443\n"
     ]
    },
    {
     "name": "stdout",
     "output_type": "stream",
     "text": [
      "https://www.pwc.co.uk/who-we-are/women-in-technology/tech-she-can-charter.html\n"
     ]
    },
    {
     "name": "stderr",
     "output_type": "stream",
     "text": [
      "2020-03-04 13:21:18 [urllib3.connectionpool] DEBUG: https://www.pwc.co.uk:443 \"GET /who-we-are/women-in-technology/tech-she-can-charter.html HTTP/1.1\" 200 None\n",
      "2020-03-04 13:21:18 [urllib3.connectionpool] DEBUG: Starting new HTTPS connection (1): www.pwc.com:443\n"
     ]
    },
    {
     "name": "stdout",
     "output_type": "stream",
     "text": [
      "https://www.pwc.com/gx/en/industries/consumer-markets/consumer-insights-survey/2018/survey/artificial-intelligence.html\n"
     ]
    },
    {
     "name": "stderr",
     "output_type": "stream",
     "text": [
      "2020-03-04 13:21:19 [urllib3.connectionpool] DEBUG: https://www.pwc.com:443 \"GET /gx/en/industries/consumer-markets/consumer-insights-survey/2018/survey/artificial-intelligence.html HTTP/1.1\" 200 30892\n",
      "2020-03-04 13:21:19 [scrapy.downloadermiddlewares.redirect] DEBUG: Redirecting (301) to <GET https://www.digitalpulse.pwc.com.au/> from <GET http://usblogs.pwc.com/emerging-technology/to-open-ai-black-box/>\n",
      "2020-03-04 13:21:19 [scrapy.core.engine] DEBUG: Crawled (200) <GET https://www.pwc.com/gx/en/industries/tmt/publications/ai-enabled-smartphone.html> (referer: None)\n",
      "2020-03-04 13:21:19 [scrapy.core.engine] DEBUG: Crawled (200) <GET https://pwc.blogs.com:443/data/> (referer: None)\n",
      "2020-03-04 13:21:19 [scrapy.downloadermiddlewares.redirect] DEBUG: Redirecting (meta refresh) to <GET http://pwc.blogs.com/data> from <GET https://pwc.blogs.com/analytics_means_business/2018/03/outperforming-the-human-how-can-machine-learning-help-your-business.html>\n",
      "2020-03-04 13:21:19 [urllib3.connectionpool] DEBUG: Starting new HTTPS connection (1): www.pwc.co.uk:443\n"
     ]
    },
    {
     "name": "stdout",
     "output_type": "stream",
     "text": [
      "https://www.pwc.co.uk/who-we-are/regional-sites/north-west/insights/stop-think-automate-repeat-.html\n"
     ]
    },
    {
     "name": "stderr",
     "output_type": "stream",
     "text": [
      "2020-03-04 13:21:19 [urllib3.connectionpool] DEBUG: https://www.pwc.co.uk:443 \"GET /who-we-are/regional-sites/north-west/insights/stop-think-automate-repeat-.html HTTP/1.1\" 200 20811\n",
      "2020-03-04 13:21:19 [scrapy.core.engine] DEBUG: Crawled (200) <GET https://www.pwc.com/us/en/services/hr-management/workforce-of-the-future/people-development-ceo-strategies.html> (referer: None)\n",
      "2020-03-04 13:21:19 [urllib3.connectionpool] DEBUG: Starting new HTTPS connection (1): www.pwc.com:443\n"
     ]
    },
    {
     "name": "stdout",
     "output_type": "stream",
     "text": [
      "https://www.pwc.com/gx/en/industries/tmt/publications/ai-enabled-smartphone.html\n"
     ]
    },
    {
     "name": "stderr",
     "output_type": "stream",
     "text": [
      "2020-03-04 13:21:20 [urllib3.connectionpool] DEBUG: https://www.pwc.com:443 \"GET /gx/en/industries/tmt/publications/ai-enabled-smartphone.html HTTP/1.1\" 200 31232\n",
      "2020-03-04 13:21:20 [urllib3.connectionpool] DEBUG: Starting new HTTPS connection (1): pwc.blogs.com:443\n"
     ]
    },
    {
     "name": "stdout",
     "output_type": "stream",
     "text": [
      "https://pwc.blogs.com:443/data/\n"
     ]
    },
    {
     "name": "stderr",
     "output_type": "stream",
     "text": [
      "2020-03-04 13:21:20 [urllib3.connectionpool] DEBUG: https://pwc.blogs.com:443 \"GET /data/ HTTP/1.1\" 200 None\n",
      "2020-03-04 13:21:20 [scrapy.core.engine] DEBUG: Crawled (200) <GET https://www.pwc.com/gx/en/services/advisory/forensics/economic-crime-survey/harness-technology-as-a-protector.html> (referer: None)\n",
      "2020-03-04 13:21:20 [urllib3.connectionpool] DEBUG: Starting new HTTPS connection (1): www.pwc.com:443\n"
     ]
    },
    {
     "name": "stdout",
     "output_type": "stream",
     "text": [
      "https://www.pwc.com/us/en/services/hr-management/workforce-of-the-future/people-development-ceo-strategies.html\n"
     ]
    },
    {
     "name": "stderr",
     "output_type": "stream",
     "text": [
      "2020-03-04 13:21:21 [urllib3.connectionpool] DEBUG: https://www.pwc.com:443 \"GET /us/en/services/hr-management/workforce-of-the-future/people-development-ceo-strategies.html HTTP/1.1\" 200 37170\n",
      "2020-03-04 13:21:21 [scrapy.core.engine] DEBUG: Crawled (200) <GET https://www.pwc.com/us/en/services/consulting/library/artificial-intelligence-predictions/ai-arms-race.html> (referer: None)\n",
      "2020-03-04 13:21:21 [urllib3.connectionpool] DEBUG: Starting new HTTPS connection (1): www.pwc.com:443\n"
     ]
    },
    {
     "name": "stdout",
     "output_type": "stream",
     "text": [
      "https://www.pwc.com/gx/en/services/advisory/forensics/economic-crime-survey/harness-technology-as-a-protector.html\n"
     ]
    },
    {
     "name": "stderr",
     "output_type": "stream",
     "text": [
      "2020-03-04 13:21:21 [urllib3.connectionpool] DEBUG: https://www.pwc.com:443 \"GET /gx/en/services/advisory/forensics/economic-crime-survey/harness-technology-as-a-protector.html HTTP/1.1\" 200 24385\n",
      "2020-03-04 13:21:21 [scrapy.core.engine] DEBUG: Crawled (200) <GET https://www.pwc.co.uk/economic-services/assets/international-impact-of-automation-feb-2018.pdf> (referer: None)\n",
      "2020-03-04 13:21:21 [scrapy.core.engine] DEBUG: Crawled (200) <GET https://www.iot-inc.com/ai-and-iot-a-marriage-made-in-data-podcast/> (referer: None)\n",
      "2020-03-04 13:21:21 [scrapy.core.engine] DEBUG: Crawled (200) <GET https://www.pwc.com/us/en/services/consulting/library/artificial-intelligence-predictions/employer-impact.html> (referer: None)\n",
      "2020-03-04 13:21:21 [urllib3.connectionpool] DEBUG: Starting new HTTPS connection (1): www.pwc.com:443\n"
     ]
    },
    {
     "name": "stdout",
     "output_type": "stream",
     "text": [
      "https://www.pwc.com/us/en/services/consulting/library/artificial-intelligence-predictions/ai-arms-race.html\n"
     ]
    },
    {
     "name": "stderr",
     "output_type": "stream",
     "text": [
      "2020-03-04 13:21:21 [urllib3.connectionpool] DEBUG: https://www.pwc.com:443 \"GET /us/en/services/consulting/library/artificial-intelligence-predictions/ai-arms-race.html HTTP/1.1\" 200 32843\n",
      "2020-03-04 13:21:22 [scrapy.core.engine] DEBUG: Crawled (200) <GET https://www.pwc.com/us/en/services/consulting/library/artificial-intelligence-predictions/explainable-ai.html> (referer: None)\n",
      "2020-03-04 13:21:22 [urllib3.connectionpool] DEBUG: Starting new HTTPS connection (1): www.pwc.co.uk:443\n",
      "2020-03-04 13:21:22 [urllib3.connectionpool] DEBUG: https://www.pwc.co.uk:443 \"GET /economic-services/assets/international-impact-of-automation-feb-2018.pdf HTTP/1.1\" 200 1145986\n"
     ]
    },
    {
     "name": "stdout",
     "output_type": "stream",
     "text": [
      "https://www.pwc.co.uk/economic-services/assets/international-impact-of-automation-feb-2018.pdf\n"
     ]
    },
    {
     "name": "stderr",
     "output_type": "stream",
     "text": [
      "2020-03-04 13:21:22 [urllib3.connectionpool] DEBUG: Starting new HTTPS connection (1): www.iot-inc.com:443\n"
     ]
    },
    {
     "name": "stdout",
     "output_type": "stream",
     "text": [
      "https://www.iot-inc.com/ai-and-iot-a-marriage-made-in-data-podcast/\n"
     ]
    },
    {
     "name": "stderr",
     "output_type": "stream",
     "text": [
      "2020-03-04 13:21:23 [urllib3.connectionpool] DEBUG: https://www.iot-inc.com:443 \"GET /ai-and-iot-a-marriage-made-in-data-podcast/ HTTP/1.1\" 200 26307\n",
      "2020-03-04 13:21:23 [urllib3.connectionpool] DEBUG: Starting new HTTPS connection (1): www.pwc.com:443\n"
     ]
    },
    {
     "name": "stdout",
     "output_type": "stream",
     "text": [
      "https://www.pwc.com/us/en/services/consulting/library/artificial-intelligence-predictions/employer-impact.html\n"
     ]
    },
    {
     "name": "stderr",
     "output_type": "stream",
     "text": [
      "2020-03-04 13:21:23 [urllib3.connectionpool] DEBUG: https://www.pwc.com:443 \"GET /us/en/services/consulting/library/artificial-intelligence-predictions/employer-impact.html HTTP/1.1\" 200 32527\n",
      "2020-03-04 13:21:23 [scrapy.core.engine] DEBUG: Crawled (200) <GET https://www.pwc.com/us/en/services/consulting/library/artificial-intelligence-predictions/responsible-ai.html> (referer: None)\n",
      "2020-03-04 13:21:23 [urllib3.connectionpool] DEBUG: Starting new HTTPS connection (1): www.pwc.com:443\n"
     ]
    },
    {
     "name": "stdout",
     "output_type": "stream",
     "text": [
      "https://www.pwc.com/us/en/services/consulting/library/artificial-intelligence-predictions/explainable-ai.html\n"
     ]
    },
    {
     "name": "stderr",
     "output_type": "stream",
     "text": [
      "2020-03-04 13:21:24 [urllib3.connectionpool] DEBUG: https://www.pwc.com:443 \"GET /us/en/services/consulting/library/artificial-intelligence-predictions/explainable-ai.html HTTP/1.1\" 200 31916\n",
      "2020-03-04 13:21:24 [scrapy.core.engine] DEBUG: Crawled (200) <GET https://www.pwc.com/us/en/services/consulting/library/artificial-intelligence-predictions/ai-cyberwar.html> (referer: None)\n",
      "2020-03-04 13:21:24 [urllib3.connectionpool] DEBUG: Starting new HTTPS connection (1): www.pwc.com:443\n"
     ]
    },
    {
     "name": "stdout",
     "output_type": "stream",
     "text": [
      "https://www.pwc.com/us/en/services/consulting/library/artificial-intelligence-predictions/responsible-ai.html\n"
     ]
    },
    {
     "name": "stderr",
     "output_type": "stream",
     "text": [
      "2020-03-04 13:21:24 [urllib3.connectionpool] DEBUG: https://www.pwc.com:443 \"GET /us/en/services/consulting/library/artificial-intelligence-predictions/responsible-ai.html HTTP/1.1\" 200 32224\n",
      "2020-03-04 13:21:24 [urllib3.connectionpool] DEBUG: Starting new HTTPS connection (1): www.pwc.com:443\n"
     ]
    },
    {
     "name": "stdout",
     "output_type": "stream",
     "text": [
      "https://www.pwc.com/us/en/services/consulting/library/artificial-intelligence-predictions/ai-cyberwar.html\n"
     ]
    },
    {
     "name": "stderr",
     "output_type": "stream",
     "text": [
      "2020-03-04 13:21:24 [urllib3.connectionpool] DEBUG: https://www.pwc.com:443 \"GET /us/en/services/consulting/library/artificial-intelligence-predictions/ai-cyberwar.html HTTP/1.1\" 200 32265\n",
      "2020-03-04 13:21:25 [scrapy.downloadermiddlewares.redirect] DEBUG: Redirecting (307) to <GET http://pwc.blogs.com/the_people_agenda/2018/02/the-workforce-for-a-digital-future.html> from <GET https://www.pwc.co.uk/ghost/artificial-intelligence/the-workforce-for-a-digital-future.html>\n",
      "2020-03-04 13:21:25 [scrapy.core.engine] DEBUG: Crawled (200) <GET https://www.pwc.co.uk/services/economics-policy/insights/the-impact-of-automation-on-jobs.html> (referer: None)\n",
      "2020-03-04 13:21:25 [scrapy.downloadermiddlewares.redirect] DEBUG: Redirecting (301) to <GET https://pwc.blogs.com/the_people_agenda/2018/02/the-workforce-for-a-digital-future.html> from <GET http://pwc.blogs.com/the_people_agenda/2018/02/the-workforce-for-a-digital-future.html>\n",
      "2020-03-04 13:21:25 [urllib3.connectionpool] DEBUG: Starting new HTTPS connection (1): www.pwc.co.uk:443\n"
     ]
    },
    {
     "name": "stdout",
     "output_type": "stream",
     "text": [
      "https://www.pwc.co.uk/services/economics-policy/insights/the-impact-of-automation-on-jobs.html\n"
     ]
    },
    {
     "name": "stderr",
     "output_type": "stream",
     "text": [
      "2020-03-04 13:21:25 [urllib3.connectionpool] DEBUG: https://www.pwc.co.uk:443 \"GET /services/economics-policy/insights/the-impact-of-automation-on-jobs.html HTTP/1.1\" 200 None\n",
      "2020-03-04 13:21:25 [scrapy.downloadermiddlewares.redirect] DEBUG: Redirecting (307) to <GET http://pwc.blogs.com/ceoinsights/2018/01/8-ways-ai-can-help-save-the-planet.html> from <GET https://www.pwc.co.uk/ghost/artificial-intelligence/ways-ai-can-help-save-the-planet.html>\n",
      "2020-03-04 13:21:25 [scrapy.downloadermiddlewares.redirect] DEBUG: Redirecting (307) to <GET http://pwc.blogs.com/ceoinsights/2018/01/a-strong-business-outlook-means-its-time-to-invest-in-people-and-in-digital-findings-from-pwcs-2018-.html> from <GET https://www.pwc.co.uk/ghost/artificial-intelligence/a-strong-business-outlook-means-its-time-to-invest-in-people-and-in-digital-findings-from-pwcsceo-survey.html>\n",
      "2020-03-04 13:21:25 [scrapy.downloadermiddlewares.redirect] DEBUG: Redirecting (307) to <GET http://pwc.blogs.com/sustainability/2018/01/the-uks-new-world-leading-ai-centre-needs-to-work-for-people-and-the-planet.html> from <GET https://www.pwc.co.uk/ghost/artificial-intelligence/the-uks-new-world-leading-ai-centre-needs-to-work-for-people-and-the-planet.html>\n",
      "2020-03-04 13:21:25 [scrapy.core.engine] DEBUG: Crawled (200) <GET https://www.pwc.com/us/en/services/consulting/library/artificial-intelligence-predictions.html> (referer: None)\n",
      "2020-03-04 13:21:25 [scrapy.downloadermiddlewares.redirect] DEBUG: Redirecting (307) to <GET http://pwc.blogs.com/industry_perspectives/2018/01/ai-captain-finding-value-in-the-emerging-uk-tech-scene.html> from <GET https://www.pwc.co.uk/ghost/artificial-intelligence/ai-captain-finding-value-in-the-emerging-uk-tech-scene.html>\n",
      "2020-03-04 13:21:25 [scrapy.downloadermiddlewares.redirect] DEBUG: Redirecting (307) to <GET http://usblogs.pwc.com/emerging-technology/top-10-ai-trends-for-2018/> from <GET https://www.pwc.com/us/en/services/consulting/ghosts/top-10-ai-trends-for-business-leaders-in-2018.html>\n",
      "2020-03-04 13:21:25 [scrapy.downloadermiddlewares.redirect] DEBUG: Redirecting (307) to <GET http://usblogs.pwc.com/emerging-technology/top-10-ai-tech-trends-for-2018/> from <GET https://www.pwc.com/us/en/services/consulting/ghosts/top-10-ai-tech-trends-for-2018.html>\n",
      "2020-03-04 13:21:25 [scrapy.core.engine] DEBUG: Crawled (200) <GET https://www.pwc.co.uk/issues/innovation-and-technology/raising-children-in-the-era-of-artificial-intelligence-part-1.html> (referer: None)\n",
      "2020-03-04 13:21:25 [scrapy.downloadermiddlewares.redirect] DEBUG: Redirecting (307) to <GET http://pwc.blogs.com/analytics_means_business/2018/02/algorithmic-trading-flash-crash-or-flashback.html> from <GET https://www.pwc.co.uk/ghost/artificial-intelligence/algorithmic-trading-flash-crash-or-flashback.html>\n",
      "2020-03-04 13:21:25 [scrapy.core.engine] DEBUG: Crawled (200) <GET https://www.pwc.com/gx/en/services/sustainability/publications/ai-for-the-earth.html> (referer: None)\n",
      "2020-03-04 13:21:25 [scrapy.core.engine] DEBUG: Crawled (200) <GET https://www.pwc.co.uk/issues/innovation-and-technology/raising-children-in-the-era-of-artificial-intelligence-part-2.html> (referer: None)\n",
      "2020-03-04 13:21:25 [scrapy.downloadermiddlewares.redirect] DEBUG: Redirecting (301) to <GET https://pwc.blogs.com/analytics_means_business/2018/02/algorithmic-trading-flash-crash-or-flashback.html> from <GET http://pwc.blogs.com/analytics_means_business/2018/02/algorithmic-trading-flash-crash-or-flashback.html>\n",
      "2020-03-04 13:21:25 [scrapy.downloadermiddlewares.redirect] DEBUG: Redirecting (301) to <GET https://pwc.blogs.com/ceoinsights/2018/01/8-ways-ai-can-help-save-the-planet.html> from <GET http://pwc.blogs.com/ceoinsights/2018/01/8-ways-ai-can-help-save-the-planet.html>\n",
      "2020-03-04 13:21:25 [scrapy.downloadermiddlewares.redirect] DEBUG: Redirecting (301) to <GET https://pwc.blogs.com/ceoinsights/2018/01/a-strong-business-outlook-means-its-time-to-invest-in-people-and-in-digital-findings-from-pwcs-2018-.html> from <GET http://pwc.blogs.com/ceoinsights/2018/01/a-strong-business-outlook-means-its-time-to-invest-in-people-and-in-digital-findings-from-pwcs-2018-.html>\n",
      "2020-03-04 13:21:25 [scrapy.downloadermiddlewares.redirect] DEBUG: Redirecting (301) to <GET https://pwc.blogs.com/sustainability/2018/01/the-uks-new-world-leading-ai-centre-needs-to-work-for-people-and-the-planet.html> from <GET http://pwc.blogs.com/sustainability/2018/01/the-uks-new-world-leading-ai-centre-needs-to-work-for-people-and-the-planet.html>\n",
      "2020-03-04 13:21:25 [scrapy.downloadermiddlewares.redirect] DEBUG: Redirecting (301) to <GET https://pwc.blogs.com/industry_perspectives/2018/01/ai-captain-finding-value-in-the-emerging-uk-tech-scene.html> from <GET http://pwc.blogs.com/industry_perspectives/2018/01/ai-captain-finding-value-in-the-emerging-uk-tech-scene.html>\n",
      "2020-03-04 13:21:25 [urllib3.connectionpool] DEBUG: Starting new HTTPS connection (1): www.pwc.com:443\n"
     ]
    },
    {
     "name": "stdout",
     "output_type": "stream",
     "text": [
      "https://www.pwc.com/us/en/services/consulting/library/artificial-intelligence-predictions.html\n"
     ]
    },
    {
     "name": "stderr",
     "output_type": "stream",
     "text": [
      "2020-03-04 13:21:26 [urllib3.connectionpool] DEBUG: https://www.pwc.com:443 \"GET /us/en/services/consulting/library/artificial-intelligence-predictions.html HTTP/1.1\" 200 33836\n",
      "2020-03-04 13:21:26 [urllib3.connectionpool] DEBUG: Starting new HTTPS connection (1): www.pwc.co.uk:443\n"
     ]
    },
    {
     "name": "stdout",
     "output_type": "stream",
     "text": [
      "https://www.pwc.co.uk/issues/innovation-and-technology/raising-children-in-the-era-of-artificial-intelligence-part-1.html\n"
     ]
    },
    {
     "name": "stderr",
     "output_type": "stream",
     "text": [
      "2020-03-04 13:21:26 [urllib3.connectionpool] DEBUG: https://www.pwc.co.uk:443 \"GET /issues/innovation-and-technology/raising-children-in-the-era-of-artificial-intelligence-part-1.html HTTP/1.1\" 200 23099\n",
      "2020-03-04 13:21:26 [urllib3.connectionpool] DEBUG: Starting new HTTPS connection (1): www.pwc.com:443\n"
     ]
    },
    {
     "name": "stdout",
     "output_type": "stream",
     "text": [
      "https://www.pwc.com/gx/en/services/sustainability/publications/ai-for-the-earth.html\n"
     ]
    },
    {
     "name": "stderr",
     "output_type": "stream",
     "text": [
      "2020-03-04 13:21:26 [urllib3.connectionpool] DEBUG: https://www.pwc.com:443 \"GET /gx/en/services/sustainability/publications/ai-for-the-earth.html HTTP/1.1\" 200 30732\n",
      "2020-03-04 13:21:27 [scrapy.core.engine] DEBUG: Crawled (200) <GET https://www.pwc.co.uk/who-we-are/regional-sites/yorkshire-north-east/insights/5-days-of-women/replaced-by-robots-are-you-embracing-artificial-intelligence-in-.html> (referer: None)\n",
      "2020-03-04 13:21:27 [scrapy.downloadermiddlewares.redirect] DEBUG: Redirecting (307) to <GET http://pwc.blogs.com/deals/2017/12/the-uk-fibre-opportunity-six-commercial-considerations-for-investors-.html> from <GET https://www.pwc.co.uk/ghost/artificial-intelligence/the-uk-fibre-opportunity-six-commercial-considerations-for-investors.html>\n",
      "2020-03-04 13:21:27 [scrapy.core.engine] DEBUG: Crawled (200) <GET https://www.pwc.be/en/news-publications/publications/2017/rethinking-retail-ai-rpa.html> (referer: None)\n",
      "2020-03-04 13:21:27 [scrapy.core.engine] DEBUG: Crawled (200) <GET https://www.pwc.co.uk/who-we-are/regional-sites/north-west/insights/artificial-intelligence-in-health--the-possibilities-.html> (referer: None)\n",
      "2020-03-04 13:21:27 [scrapy.core.engine] DEBUG: Crawled (200) <GET https://www.pwc.in/consulting/technology/data-and-analytics/artificial-intelligence-in-india-hype-or-reality.html> (referer: None)\n",
      "2020-03-04 13:21:27 [scrapy.downloadermiddlewares.redirect] DEBUG: Redirecting (307) to <GET http://pwc.blogs.com/ceoinsights/2018/01/can-emerging-tech-help-ease-ceo-anxiety.html> from <GET https://www.pwc.co.uk/ghost/artificial-intelligence/can-emerging-tech-help-ease-ceo-anxiety.html>\n",
      "2020-03-04 13:21:27 [scrapy.core.engine] DEBUG: Crawled (200) <GET https://www.pwc.com/gx/en/services/sustainability/publications/sustainable-emerging-cities.html> (referer: None)\n",
      "2020-03-04 13:21:27 [scrapy.core.engine] DEBUG: Crawled (200) <GET https://pwc.blogs.com/the_people_agenda/2018/02/the-workforce-for-a-digital-future.html> (referer: None)\n",
      "2020-03-04 13:21:27 [urllib3.connectionpool] DEBUG: Starting new HTTPS connection (1): www.pwc.co.uk:443\n"
     ]
    },
    {
     "name": "stdout",
     "output_type": "stream",
     "text": [
      "https://www.pwc.co.uk/issues/innovation-and-technology/raising-children-in-the-era-of-artificial-intelligence-part-2.html\n"
     ]
    },
    {
     "name": "stderr",
     "output_type": "stream",
     "text": [
      "2020-03-04 13:21:27 [urllib3.connectionpool] DEBUG: https://www.pwc.co.uk:443 \"GET /issues/innovation-and-technology/raising-children-in-the-era-of-artificial-intelligence-part-2.html HTTP/1.1\" 200 23366\n",
      "2020-03-04 13:21:27 [scrapy.core.engine] DEBUG: Crawled (200) <GET https://www.pwc.co.uk/who-we-are/regional-sites/north-west/insights/artificial-intelligence-in-health.html> (referer: None)\n",
      "2020-03-04 13:21:27 [urllib3.connectionpool] DEBUG: Starting new HTTPS connection (1): www.pwc.co.uk:443\n"
     ]
    },
    {
     "name": "stdout",
     "output_type": "stream",
     "text": [
      "https://www.pwc.co.uk/who-we-are/regional-sites/yorkshire-north-east/insights/5-days-of-women/replaced-by-robots-are-you-embracing-artificial-intelligence-in-.html\n"
     ]
    },
    {
     "name": "stderr",
     "output_type": "stream",
     "text": [
      "2020-03-04 13:21:27 [urllib3.connectionpool] DEBUG: https://www.pwc.co.uk:443 \"GET /who-we-are/regional-sites/yorkshire-north-east/insights/5-days-of-women/replaced-by-robots-are-you-embracing-artificial-intelligence-in-.html HTTP/1.1\" 200 20411\n",
      "2020-03-04 13:21:27 [urllib3.connectionpool] DEBUG: Starting new HTTPS connection (1): www.pwc.be:443\n"
     ]
    },
    {
     "name": "stdout",
     "output_type": "stream",
     "text": [
      "https://www.pwc.be/en/news-publications/publications/2017/rethinking-retail-ai-rpa.html\n"
     ]
    },
    {
     "name": "stderr",
     "output_type": "stream",
     "text": [
      "2020-03-04 13:21:28 [urllib3.connectionpool] DEBUG: https://www.pwc.be:443 \"GET /en/news-publications/publications/2017/rethinking-retail-ai-rpa.html HTTP/1.1\" 200 23757\n",
      "2020-03-04 13:21:28 [urllib3.connectionpool] DEBUG: Starting new HTTPS connection (1): www.pwc.co.uk:443\n"
     ]
    },
    {
     "name": "stdout",
     "output_type": "stream",
     "text": [
      "https://www.pwc.co.uk/who-we-are/regional-sites/north-west/insights/artificial-intelligence-in-health--the-possibilities-.html\n"
     ]
    },
    {
     "name": "stderr",
     "output_type": "stream",
     "text": [
      "2020-03-04 13:21:28 [urllib3.connectionpool] DEBUG: https://www.pwc.co.uk:443 \"GET /who-we-are/regional-sites/north-west/insights/artificial-intelligence-in-health--the-possibilities-.html HTTP/1.1\" 200 20855\n",
      "2020-03-04 13:21:28 [urllib3.connectionpool] DEBUG: Starting new HTTPS connection (1): www.pwc.in:443\n"
     ]
    },
    {
     "name": "stdout",
     "output_type": "stream",
     "text": [
      "https://www.pwc.in/consulting/technology/data-and-analytics/artificial-intelligence-in-india-hype-or-reality.html\n"
     ]
    },
    {
     "name": "stderr",
     "output_type": "stream",
     "text": [
      "2020-03-04 13:21:28 [urllib3.connectionpool] DEBUG: https://www.pwc.in:443 \"GET /consulting/technology/data-and-analytics/artificial-intelligence-in-india-hype-or-reality.html HTTP/1.1\" 200 24466\n",
      "2020-03-04 13:21:28 [urllib3.connectionpool] DEBUG: Starting new HTTPS connection (1): www.pwc.com:443\n"
     ]
    },
    {
     "name": "stdout",
     "output_type": "stream",
     "text": [
      "https://www.pwc.com/gx/en/services/sustainability/publications/sustainable-emerging-cities.html\n"
     ]
    },
    {
     "name": "stderr",
     "output_type": "stream",
     "text": [
      "2020-03-04 13:21:29 [urllib3.connectionpool] DEBUG: https://www.pwc.com:443 \"GET /gx/en/services/sustainability/publications/sustainable-emerging-cities.html HTTP/1.1\" 200 27726\n",
      "2020-03-04 13:21:29 [urllib3.connectionpool] DEBUG: Starting new HTTPS connection (1): pwc.blogs.com:443\n"
     ]
    },
    {
     "name": "stdout",
     "output_type": "stream",
     "text": [
      "https://pwc.blogs.com/the_people_agenda/2018/02/the-workforce-for-a-digital-future.html\n"
     ]
    },
    {
     "name": "stderr",
     "output_type": "stream",
     "text": [
      "2020-03-04 13:21:29 [urllib3.connectionpool] DEBUG: https://pwc.blogs.com:443 \"GET /the_people_agenda/2018/02/the-workforce-for-a-digital-future.html HTTP/1.1\" 200 None\n",
      "2020-03-04 13:21:29 [scrapy.downloadermiddlewares.redirect] DEBUG: Redirecting (301) to <GET https://pwc.blogs.com/ceoinsights/2018/01/can-emerging-tech-help-ease-ceo-anxiety.html> from <GET http://pwc.blogs.com/ceoinsights/2018/01/can-emerging-tech-help-ease-ceo-anxiety.html>\n",
      "2020-03-04 13:21:29 [scrapy.downloadermiddlewares.redirect] DEBUG: Redirecting (301) to <GET https://www.digitalpulse.pwc.com.au/> from <GET http://usblogs.pwc.com/emerging-technology/top-10-ai-tech-trends-for-2018/>\n",
      "2020-03-04 13:21:29 [scrapy.downloadermiddlewares.redirect] DEBUG: Redirecting (301) to <GET https://pwc.blogs.com/deals/2017/12/the-uk-fibre-opportunity-six-commercial-considerations-for-investors-.html> from <GET http://pwc.blogs.com/deals/2017/12/the-uk-fibre-opportunity-six-commercial-considerations-for-investors-.html>\n",
      "2020-03-04 13:21:29 [scrapy.downloadermiddlewares.redirect] DEBUG: Redirecting (301) to <GET https://www.digitalpulse.pwc.com.au/> from <GET http://usblogs.pwc.com/emerging-technology/top-10-ai-trends-for-2018/>\n",
      "2020-03-04 13:21:29 [scrapy.downloadermiddlewares.redirect] DEBUG: Redirecting (meta refresh) to <GET http://pwc.blogs.com/data> from <GET https://pwc.blogs.com/analytics_means_business/2018/02/algorithmic-trading-flash-crash-or-flashback.html>\n",
      "2020-03-04 13:21:29 [urllib3.connectionpool] DEBUG: Starting new HTTPS connection (1): www.pwc.co.uk:443\n"
     ]
    },
    {
     "name": "stdout",
     "output_type": "stream",
     "text": [
      "https://www.pwc.co.uk/who-we-are/regional-sites/north-west/insights/artificial-intelligence-in-health.html\n"
     ]
    },
    {
     "name": "stderr",
     "output_type": "stream",
     "text": [
      "2020-03-04 13:21:30 [urllib3.connectionpool] DEBUG: https://www.pwc.co.uk:443 \"GET /who-we-are/regional-sites/north-west/insights/artificial-intelligence-in-health.html HTTP/1.1\" 200 20563\n",
      "2020-03-04 13:21:30 [scrapy.core.engine] DEBUG: Crawled (200) <GET https://www.pwc.co.uk/issues/intelligent-digital/the-future-of-work.html> (referer: None)\n",
      "2020-03-04 13:21:30 [urllib3.connectionpool] DEBUG: Starting new HTTPS connection (1): www.pwc.co.uk:443\n"
     ]
    },
    {
     "name": "stdout",
     "output_type": "stream",
     "text": [
      "https://www.pwc.co.uk/issues/intelligent-digital/the-future-of-work.html\n"
     ]
    },
    {
     "name": "stderr",
     "output_type": "stream",
     "text": [
      "2020-03-04 13:21:30 [urllib3.connectionpool] DEBUG: https://www.pwc.co.uk:443 \"GET /issues/intelligent-digital/the-future-of-work.html HTTP/1.1\" 200 None\n",
      "2020-03-04 13:21:30 [scrapy.core.engine] DEBUG: Crawled (200) <GET https://www.pwc.com/us/en/services/consulting/cybersecurity/library/information-security-survey.html> (referer: None)\n",
      "2020-03-04 13:21:30 [scrapy.core.engine] DEBUG: Crawled (200) <GET https://www.pwc.com/gx/en/about/stories-from-across-the-world/harnessing-the-power-of-ai-to-transform-the-detection-of-fraud-and-error.html> (referer: None)\n",
      "2020-03-04 13:21:30 [scrapy.core.engine] DEBUG: Crawled (200) <GET https://www.pwc.co.uk/issues/intelligent-digital/tech-for-good.html> (referer: None)\n",
      "2020-03-04 13:21:30 [scrapy.core.engine] DEBUG: Crawled (200) <GET https://www.pwc.co.uk/who-we-are/regional-sites/northern-ireland/insights/changing-times/AI-future.html> (referer: None)\n",
      "2020-03-04 13:21:30 [urllib3.connectionpool] DEBUG: Starting new HTTPS connection (1): www.pwc.com:443\n"
     ]
    },
    {
     "name": "stdout",
     "output_type": "stream",
     "text": [
      "https://www.pwc.com/us/en/services/consulting/cybersecurity/library/information-security-survey.html\n"
     ]
    },
    {
     "name": "stderr",
     "output_type": "stream",
     "text": [
      "2020-03-04 13:21:31 [urllib3.connectionpool] DEBUG: https://www.pwc.com:443 \"GET /us/en/services/consulting/cybersecurity/library/information-security-survey.html HTTP/1.1\" 200 30933\n",
      "2020-03-04 13:21:31 [urllib3.connectionpool] DEBUG: Starting new HTTPS connection (1): www.pwc.com:443\n"
     ]
    },
    {
     "name": "stdout",
     "output_type": "stream",
     "text": [
      "https://www.pwc.com/gx/en/about/stories-from-across-the-world/harnessing-the-power-of-ai-to-transform-the-detection-of-fraud-and-error.html\n"
     ]
    },
    {
     "name": "stderr",
     "output_type": "stream",
     "text": [
      "2020-03-04 13:21:31 [urllib3.connectionpool] DEBUG: https://www.pwc.com:443 \"GET /gx/en/about/stories-from-across-the-world/harnessing-the-power-of-ai-to-transform-the-detection-of-fraud-and-error.html HTTP/1.1\" 200 31623\n",
      "2020-03-04 13:21:31 [urllib3.connectionpool] DEBUG: Starting new HTTPS connection (1): www.pwc.co.uk:443\n"
     ]
    },
    {
     "name": "stdout",
     "output_type": "stream",
     "text": [
      "https://www.pwc.co.uk/issues/intelligent-digital/tech-for-good.html\n"
     ]
    },
    {
     "name": "stderr",
     "output_type": "stream",
     "text": [
      "2020-03-04 13:21:31 [urllib3.connectionpool] DEBUG: https://www.pwc.co.uk:443 \"GET /issues/intelligent-digital/tech-for-good.html HTTP/1.1\" 200 None\n",
      "2020-03-04 13:21:32 [urllib3.connectionpool] DEBUG: Starting new HTTPS connection (1): www.pwc.co.uk:443\n"
     ]
    },
    {
     "name": "stdout",
     "output_type": "stream",
     "text": [
      "https://www.pwc.co.uk/who-we-are/regional-sites/northern-ireland/insights/changing-times/AI-future.html\n"
     ]
    },
    {
     "name": "stderr",
     "output_type": "stream",
     "text": [
      "2020-03-04 13:21:32 [urllib3.connectionpool] DEBUG: https://www.pwc.co.uk:443 \"GET /who-we-are/regional-sites/northern-ireland/insights/changing-times/AI-future.html HTTP/1.1\" 200 19505\n",
      "2020-03-04 13:21:32 [scrapy.core.engine] DEBUG: Crawled (200) <GET https://pwc.blogs.com/industry_perspectives/2018/01/ai-captain-finding-value-in-the-emerging-uk-tech-scene.html> (referer: None)\n",
      "2020-03-04 13:21:32 [scrapy.core.engine] DEBUG: Crawled (200) <GET https://pwc.blogs.com/sustainability/2018/01/the-uks-new-world-leading-ai-centre-needs-to-work-for-people-and-the-planet.html> (referer: None)\n",
      "2020-03-04 13:21:32 [scrapy.core.engine] DEBUG: Crawled (200) <GET https://pwc.blogs.com/ceoinsights/2018/01/8-ways-ai-can-help-save-the-planet.html> (referer: None)\n",
      "2020-03-04 13:21:32 [scrapy.core.engine] DEBUG: Crawled (200) <GET https://pwc.blogs.com/deals/2017/12/the-uk-fibre-opportunity-six-commercial-considerations-for-investors-.html> (referer: None)\n",
      "2020-03-04 13:21:32 [scrapy.core.engine] DEBUG: Crawled (200) <GET https://pwc.blogs.com/ceoinsights/2018/01/can-emerging-tech-help-ease-ceo-anxiety.html> (referer: None)\n",
      "2020-03-04 13:21:32 [scrapy.core.engine] DEBUG: Crawled (200) <GET https://pwc.blogs.com/ceoinsights/2018/01/a-strong-business-outlook-means-its-time-to-invest-in-people-and-in-digital-findings-from-pwcs-2018-.html> (referer: None)\n",
      "2020-03-04 13:21:32 [urllib3.connectionpool] DEBUG: Starting new HTTPS connection (1): pwc.blogs.com:443\n"
     ]
    },
    {
     "name": "stdout",
     "output_type": "stream",
     "text": [
      "https://pwc.blogs.com/industry_perspectives/2018/01/ai-captain-finding-value-in-the-emerging-uk-tech-scene.html\n"
     ]
    },
    {
     "name": "stderr",
     "output_type": "stream",
     "text": [
      "2020-03-04 13:21:33 [urllib3.connectionpool] DEBUG: https://pwc.blogs.com:443 \"GET /industry_perspectives/2018/01/ai-captain-finding-value-in-the-emerging-uk-tech-scene.html HTTP/1.1\" 200 None\n",
      "2020-03-04 13:21:33 [urllib3.connectionpool] DEBUG: Starting new HTTPS connection (1): pwc.blogs.com:443\n"
     ]
    },
    {
     "name": "stdout",
     "output_type": "stream",
     "text": [
      "https://pwc.blogs.com/sustainability/2018/01/the-uks-new-world-leading-ai-centre-needs-to-work-for-people-and-the-planet.html\n"
     ]
    },
    {
     "name": "stderr",
     "output_type": "stream",
     "text": [
      "2020-03-04 13:21:33 [urllib3.connectionpool] DEBUG: https://pwc.blogs.com:443 \"GET /sustainability/2018/01/the-uks-new-world-leading-ai-centre-needs-to-work-for-people-and-the-planet.html HTTP/1.1\" 200 None\n",
      "2020-03-04 13:21:33 [urllib3.connectionpool] DEBUG: Starting new HTTPS connection (1): pwc.blogs.com:443\n"
     ]
    },
    {
     "name": "stdout",
     "output_type": "stream",
     "text": [
      "https://pwc.blogs.com/ceoinsights/2018/01/8-ways-ai-can-help-save-the-planet.html\n"
     ]
    },
    {
     "name": "stderr",
     "output_type": "stream",
     "text": [
      "2020-03-04 13:21:33 [urllib3.connectionpool] DEBUG: https://pwc.blogs.com:443 \"GET /ceoinsights/2018/01/8-ways-ai-can-help-save-the-planet.html HTTP/1.1\" 200 None\n",
      "2020-03-04 13:21:33 [urllib3.connectionpool] DEBUG: Starting new HTTPS connection (1): pwc.blogs.com:443\n"
     ]
    },
    {
     "name": "stdout",
     "output_type": "stream",
     "text": [
      "https://pwc.blogs.com/deals/2017/12/the-uk-fibre-opportunity-six-commercial-considerations-for-investors-.html\n"
     ]
    },
    {
     "name": "stderr",
     "output_type": "stream",
     "text": [
      "2020-03-04 13:21:34 [urllib3.connectionpool] DEBUG: https://pwc.blogs.com:443 \"GET /deals/2017/12/the-uk-fibre-opportunity-six-commercial-considerations-for-investors-.html HTTP/1.1\" 200 None\n",
      "2020-03-04 13:21:34 [urllib3.connectionpool] DEBUG: Starting new HTTPS connection (1): pwc.blogs.com:443\n"
     ]
    },
    {
     "name": "stdout",
     "output_type": "stream",
     "text": [
      "https://pwc.blogs.com/ceoinsights/2018/01/can-emerging-tech-help-ease-ceo-anxiety.html\n"
     ]
    },
    {
     "name": "stderr",
     "output_type": "stream",
     "text": [
      "2020-03-04 13:21:35 [urllib3.connectionpool] DEBUG: https://pwc.blogs.com:443 \"GET /ceoinsights/2018/01/can-emerging-tech-help-ease-ceo-anxiety.html HTTP/1.1\" 200 None\n",
      "2020-03-04 13:21:35 [urllib3.connectionpool] DEBUG: Starting new HTTPS connection (1): pwc.blogs.com:443\n"
     ]
    },
    {
     "name": "stdout",
     "output_type": "stream",
     "text": [
      "https://pwc.blogs.com/ceoinsights/2018/01/a-strong-business-outlook-means-its-time-to-invest-in-people-and-in-digital-findings-from-pwcs-2018-.html\n"
     ]
    },
    {
     "name": "stderr",
     "output_type": "stream",
     "text": [
      "2020-03-04 13:21:35 [urllib3.connectionpool] DEBUG: https://pwc.blogs.com:443 \"GET /ceoinsights/2018/01/a-strong-business-outlook-means-its-time-to-invest-in-people-and-in-digital-findings-from-pwcs-2018-.html HTTP/1.1\" 200 None\n",
      "2020-03-04 13:21:36 [scrapy.core.engine] INFO: Closing spider (finished)\n",
      "2020-03-04 13:21:36 [scrapy.statscollectors] INFO: Dumping Scrapy stats:\n",
      "{'downloader/request_bytes': 75146,\n",
      " 'downloader/request_count': 153,\n",
      " 'downloader/request_method_count/GET': 153,\n",
      " 'downloader/response_bytes': 11438274,\n",
      " 'downloader/response_count': 153,\n",
      " 'downloader/response_status_count/200': 88,\n",
      " 'downloader/response_status_count/301': 20,\n",
      " 'downloader/response_status_count/302': 2,\n",
      " 'downloader/response_status_count/307': 41,\n",
      " 'downloader/response_status_count/404': 2,\n",
      " 'dupefilter/filtered': 13,\n",
      " 'elapsed_time_seconds': 50.504398,\n",
      " 'finish_reason': 'finished',\n",
      " 'finish_time': datetime.datetime(2020, 3, 4, 12, 21, 36, 10112),\n",
      " 'httperror/response_ignored_count': 2,\n",
      " 'httperror/response_ignored_status_count/404': 2,\n",
      " 'log_count/DEBUG': 324,\n",
      " 'log_count/INFO': 12,\n",
      " 'response_received_count': 87,\n",
      " 'scheduler/dequeued': 153,\n",
      " 'scheduler/dequeued/memory': 153,\n",
      " 'scheduler/enqueued': 153,\n",
      " 'scheduler/enqueued/memory': 153,\n",
      " 'start_time': datetime.datetime(2020, 3, 4, 12, 20, 45, 505714)}\n",
      "2020-03-04 13:21:36 [scrapy.core.engine] INFO: Spider closed (finished)\n"
     ]
    }
   ],
   "source": [
    "from scrapy.crawler import CrawlerProcess\n",
    "\n",
    "# Create class\n",
    "class pwc_spider (scrapy.Spider):\n",
    "    name = \"pwc_spider\"\n",
    "    \n",
    "    def start_requests(self):\n",
    "        urls = urllist\n",
    "        \n",
    "        for url in urls:\n",
    "            yield scrapy.Request(url = url, callback = self.parse)\n",
    "            \n",
    "    #Parsing\n",
    "    def parse(self, response):\n",
    "        print(response.url)\n",
    "                \n",
    "        page_dict = dict()\n",
    "        siteno = len(main_dict) + 1\n",
    "        \n",
    "        page_url = response.url\n",
    "        \n",
    "        page_html = requests.get(page_url).content\n",
    "        page_sel = Selector(text = page_html)\n",
    "        \n",
    "        func_regex = r'\\$\\(.+\\(\\).*((\\s*|\\r*|\\n*).*)+'\n",
    "        viewmore_regex = r'Explore our other predictions ((\\s+|\\r+|\\n+|\\t+)+)+((\\s*|\\r*|\\n*).*)+'\n",
    "        cont_regex = r'\\.pinned.*((\\s*|\\r*|\\n*).*)+'\n",
    "\n",
    "        page_id = 'site' + str(siteno)\n",
    "\n",
    "        page_text = page_sel.css('section#article > div > div >div > div > div.text-component ::text').extract() #Insights\n",
    "        page_text.append(' '.join(page_sel.css('div#main-body ::text').extract())) #blogs? - 5\n",
    "        page_text.append(' '.join(page_sel.css('div#wrapper > div.centerPar ::text').extract()))\n",
    "        page_text = ' '.join(page_text)\n",
    "\n",
    "        page_text = re.sub(func_regex, '', page_text)\n",
    "        page_text = re.sub(viewmore_regex, '', page_text)\n",
    "        page_text = re.sub(cont_regex, '', page_text)\n",
    "\n",
    "        page_title = page_sel.css('title ::text').extract_first()\n",
    "        page_date = page_sel.xpath('//meta[contains(@name,\"pwcReleaseDate\")]/@content').extract_first()\n",
    "        page_type = ''\n",
    "        page_dldate = date.today().strftime('%Y/%m/%d')\n",
    "\n",
    "        page_dict['url'] = page_url\n",
    "        page_dict['title'] = page_title\n",
    "        page_dict['article date'] = page_date\n",
    "        page_dict['download date'] = page_dldate\n",
    "        page_dict['text type'] = page_type\n",
    "        page_dict['text'] = page_text\n",
    "        page_dict['agency'] = \"PwC\"\n",
    "\n",
    "        main_dict[page_id] = page_dict\n",
    "        \n",
    "# Initiatlize dictionary\n",
    "main_dict = dict()\n",
    "\n",
    "#Run spider\n",
    "process = CrawlerProcess()\n",
    "siteno = 0\n",
    "process.crawl(pwc_spider)\n",
    "process.start()"
   ]
  },
  {
   "cell_type": "code",
   "execution_count": 15,
   "metadata": {},
   "outputs": [
    {
     "data": {
      "text/plain": [
       "<DeferredList at 0x2c08b0a1788 current result: []>"
      ]
     },
     "execution_count": 15,
     "metadata": {},
     "output_type": "execute_result"
    }
   ],
   "source": [
    "process.stop()"
   ]
  },
  {
   "cell_type": "code",
   "execution_count": 16,
   "metadata": {},
   "outputs": [
    {
     "data": {
      "text/plain": [
       "85"
      ]
     },
     "execution_count": 16,
     "metadata": {},
     "output_type": "execute_result"
    }
   ],
   "source": [
    "len(main_dict)"
   ]
  },
  {
   "cell_type": "code",
   "execution_count": 17,
   "metadata": {},
   "outputs": [],
   "source": [
    "import json\n",
    "\n",
    "with open('..\\\\data_raw\\\\articles\\\\pwc_articles.json', 'w') as file:\n",
    "    json.dump(main_dict, file)"
   ]
  }
 ],
 "metadata": {
  "kernelspec": {
   "display_name": "Python 3",
   "language": "python",
   "name": "python3"
  },
  "language_info": {
   "codemirror_mode": {
    "name": "ipython",
    "version": 3
   },
   "file_extension": ".py",
   "mimetype": "text/x-python",
   "name": "python",
   "nbconvert_exporter": "python",
   "pygments_lexer": "ipython3",
   "version": "3.7.4"
  }
 },
 "nbformat": 4,
 "nbformat_minor": 2
}
