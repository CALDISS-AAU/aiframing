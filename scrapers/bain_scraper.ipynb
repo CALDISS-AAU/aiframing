{
 "cells": [
  {
   "cell_type": "markdown",
   "metadata": {},
   "source": [
    "# Formål\n",
    "\n",
    "Script scraper diverse konsulenthuses sider for artikler og indlæg omkring kunstig intelligens (AI, artificial intelligence).\n",
    "\n",
    "**Liste over konsulenthuse**\n",
    "- (x) Ernst & Young (EY) (en del af BIG4 i accounting) https://www.ey.com/en_gl\n",
    "- Deloitte. (en del af BIG4 i accounting) [https://www2.deloitte.com](https://www2.deloitte.com/)\n",
    "- (x) KPMG. (en del af BIG4 i accounting) https://home.kpmg/xx/en/home.html\n",
    "- PricewaterhouseCoopers (PwC) (en del af BIG4 i accounting) https://www.pwc.com/\n",
    "- (x) McKinsey (Top Management consulting) https://www.mckinsey.com/\n",
    "- (x) Boston consulting group (Top Management consulting) https://www.bcg.com/\n",
    "- Bain & Company (Top Management consulting) https://www.bain.com/\n",
    "- Accenture (IT consulting - verdens største konsulenthus) https://www.accenture.com/us-en\n",
    "- Capgemini (IT consulting nr. 2 mener jeg) https://www.capgemini.com/\n",
    "- Tata consulting (IT consulting - nr. 3 mener jeg målt på omsætning) https://www.tcs.com/\n",
    "- IBM (Det er ikke sikkert, men de har vel Watson og måske interessant?) [https://www.ibm.com](https://www.ibm.com/)"
   ]
  },
  {
   "cell_type": "markdown",
   "metadata": {},
   "source": [
    "# Bain URLs\n",
    "\n",
    "Search for \"artificial intelligence\" filtered to include articles and brief, sorted by date: https://www.bain.com/search/?searchValue=artificial+intelligence&filters=%7Ctypes%28426%2C427%29&pageNumber=0&sortValue=date\n"
   ]
  },
  {
   "cell_type": "markdown",
   "metadata": {},
   "source": [
    "### Libraries\n",
    "\n",
    "Importing libraries..."
   ]
  },
  {
   "cell_type": "code",
   "execution_count": 1,
   "metadata": {},
   "outputs": [],
   "source": [
    "import scrapy\n",
    "import requests\n",
    "from scrapy import Selector\n",
    "\n",
    "import os\n",
    "import sys\n",
    "from datetime import date\n",
    "\n",
    "from selenium import webdriver\n",
    "from selenium.webdriver.common.keys import Keys\n",
    "from selenium.webdriver.firefox.firefox_binary import FirefoxBinary\n",
    "from selenium.common.exceptions import NoSuchElementException, WebDriverException, ElementNotInteractableException\n",
    "from selenium.webdriver.common.action_chains import ActionChains\n",
    "\n",
    "import time"
   ]
  },
  {
   "cell_type": "markdown",
   "metadata": {},
   "source": [
    "### URL list\n",
    "\n",
    "List of URLs is extracted from search for \"artificial intelligence\" filtered to include articles and brief, sorted by date: https://www.bain.com/search/?searchValue=artificial+intelligence&filters=%7Ctypes%28426%2C427%29&pageNumber=0&sortValue=date"
   ]
  },
  {
   "cell_type": "code",
   "execution_count": 2,
   "metadata": {},
   "outputs": [],
   "source": [
    "start_url = \"https://www.bain.com/search/?searchValue=artificial+intelligence&filters=%7Ctypes%28426%2C427%29&pageNumber=0&sortValue=date\""
   ]
  },
  {
   "cell_type": "code",
   "execution_count": 11,
   "metadata": {},
   "outputs": [
    {
     "name": "stderr",
     "output_type": "stream",
     "text": [
      "D:\\ProgramData\\Anaconda3\\lib\\site-packages\\ipykernel_launcher.py:11: DeprecationWarning: use options instead of chrome_options\n",
      "  # This is added back by InteractiveShellApp.init_path()\n"
     ]
    },
    {
     "name": "stdout",
     "output_type": "stream",
     "text": [
      "No 'Next' button found\n"
     ]
    }
   ],
   "source": [
    "## Scrape article urls (convert to code to use)\n",
    "\n",
    "from selenium.webdriver.support import expected_conditions as EC\n",
    "from selenium.webdriver.common.by import By\n",
    "from selenium.webdriver.support.ui import WebDriverWait as wait\n",
    "from selenium.webdriver.chrome.options import Options\n",
    "\n",
    "chromeOptions = Options()\n",
    "chromeOptions.add_argument(\"--kiosk\")\n",
    "\n",
    "driver = webdriver.Chrome(executable_path = 'C:\\\\bin\\\\chromedriver', options=chromeOptions)\n",
    "\n",
    "driver.get(start_url)\n",
    "time.sleep(2)\n",
    "driver.find_element_by_css_selector('#cooky_policy > div:nth-child(1) > div:nth-child(1) > div:nth-child(2) > a:nth-child(1)').click()\n",
    "time.sleep(2)\n",
    "\n",
    "pageSel = Selector(text = driver.page_source)\n",
    "\n",
    "urls = pageSel.css('div.card__content > a::attr(href)').extract()\n",
    "titles = title_test = pageSel.css('div.card__content > a > h5::text').extract()\n",
    "\n",
    "urldict = {}\n",
    "urldict['urls'] = urls\n",
    "urldict['titles'] = titles\n",
    "\n",
    "coordinates = {'x': 0, 'y': 1600}\n",
    "driver.execute_script('window.scrollTo({}, {});'.format(coordinates['x'], coordinates['y']))\n",
    "\n",
    "while True:\n",
    "    try:\n",
    "        wait(driver, 10).until(EC.element_to_be_clickable((By.XPATH, \"//span[@class='icon-chevron-right']\"))).click()\n",
    "        time.sleep(4)\n",
    "        driver.execute_script('window.scrollTo({}, {});'.format(coordinates['x'], coordinates['y']))\n",
    "        time.sleep(4)\n",
    "        \n",
    "        pageSel = Selector(text = driver.page_source)\n",
    "\n",
    "        urls = pageSel.css('div.card__content > a::attr(href)').extract()\n",
    "        titles = title_test = pageSel.css('div.card__content > a > h5::text').extract()\n",
    "\n",
    "        urldict['urls'] = urldict['urls'] + urls\n",
    "        urldict['titles'] = urldict['titles']+ titles\n",
    "    except (NoSuchElementException, WebDriverException, ElementNotInteractableException) as e:\n",
    "        print(\"No 'Next' button found\")\n",
    "        break\n",
    "\n",
    "driver.quit()"
   ]
  },
  {
   "cell_type": "code",
   "execution_count": 12,
   "metadata": {},
   "outputs": [
    {
     "name": "stdout",
     "output_type": "stream",
     "text": [
      "231 231\n"
     ]
    }
   ],
   "source": [
    "print(len(urldict['urls']),\n",
    "     len(urldict['titles']))"
   ]
  },
  {
   "cell_type": "code",
   "execution_count": 13,
   "metadata": {},
   "outputs": [
    {
     "data": {
      "text/plain": [
       "'/insights/retail-holiday-newsletter-strong-sales-and-winning-tips-for-2020s/'"
      ]
     },
     "execution_count": 13,
     "metadata": {},
     "output_type": "execute_result"
    }
   ],
   "source": [
    "oneurl = urldict['urls'][1]\n",
    "oneurl"
   ]
  },
  {
   "cell_type": "code",
   "execution_count": 14,
   "metadata": {},
   "outputs": [],
   "source": [
    "main_url = 'https://www.bain.com'\n",
    "urllist = list(map(lambda url: main_url + url, urldict['urls']))"
   ]
  },
  {
   "cell_type": "code",
   "execution_count": 15,
   "metadata": {},
   "outputs": [
    {
     "data": {
      "text/plain": [
       "231"
      ]
     },
     "execution_count": 15,
     "metadata": {},
     "output_type": "execute_result"
    }
   ],
   "source": [
    "len(urllist)"
   ]
  },
  {
   "cell_type": "code",
   "execution_count": 17,
   "metadata": {},
   "outputs": [],
   "source": [
    "with open('../data_raw/urls/bain_urls.txt', 'w') as f:\n",
    "    for url in urllist:\n",
    "        f.write(url + \"\\n\")"
   ]
  },
  {
   "cell_type": "markdown",
   "metadata": {},
   "source": [
    "### Load URLs"
   ]
  },
  {
   "cell_type": "code",
   "execution_count": 18,
   "metadata": {},
   "outputs": [
    {
     "name": "stdout",
     "output_type": "stream",
     "text": [
      "231 \n",
      " https://www.bain.com/insights/brand-rethink-ceo-forum/\n"
     ]
    }
   ],
   "source": [
    "bain_urls = []\n",
    "with open('../data_raw/urls/bain_urls.txt', 'r') as f:\n",
    "    for line in f:\n",
    "        bain_urls.append(line.strip())\n",
    "\n",
    "print(len(bain_urls),\n",
    "      '\\n',\n",
    "     bain_urls[199])"
   ]
  },
  {
   "cell_type": "code",
   "execution_count": 19,
   "metadata": {},
   "outputs": [],
   "source": [
    "urllist = bain_urls"
   ]
  },
  {
   "cell_type": "markdown",
   "metadata": {},
   "source": [
    "### Testing one page"
   ]
  },
  {
   "cell_type": "code",
   "execution_count": 20,
   "metadata": {},
   "outputs": [],
   "source": [
    "page_url = urllist[0]"
   ]
  },
  {
   "cell_type": "code",
   "execution_count": 21,
   "metadata": {},
   "outputs": [],
   "source": [
    "page_dict = dict()\n",
    "main_dict = dict()"
   ]
  },
  {
   "cell_type": "code",
   "execution_count": 22,
   "metadata": {},
   "outputs": [],
   "source": [
    "text_sel = '#body > article > div.article-container ::text'\n",
    "title_sel = '//meta[contains(@property, \"og:title\")]/@content'\n",
    "date_sel = '//meta[contains(@property, \"article:published_time\")]/@content'\n",
    "datemod_sel = '//meta[contains(@property, \"article:modified_time\")]/@content'\n",
    "texttype_sel = '//meta[contains(@property, \"og:type\")]/@content'\n",
    "\n",
    "siteno = 1\n",
    "\n",
    "page_html = requests.get(page_url).content\n",
    "page_sel = Selector(text = page_html)\n",
    "\n",
    "page_id = 'site' + str(siteno)\n",
    "page_title = page_sel.xpath(title_sel).extract_first()\n",
    "page_date = page_sel.xpath(date_sel).extract_first()\n",
    "page_datemod = page_sel.xpath(datemod_sel).extract_first()\n",
    "page_texttype = page_sel.xpath(texttype_sel).extract_first()\n",
    "page_dldate = date.today().strftime('%Y/%m/%d')\n",
    "page_text = page_sel.css(text_sel).extract()\n",
    "\n",
    "page_text = ' '.join(page_text)\n",
    "     \n",
    "page_dict['url'] = page_url\n",
    "page_dict['title'] = page_title\n",
    "page_dict['article date'] = page_date\n",
    "page_dict['modified date'] = page_datemod\n",
    "page_dict['download date'] = page_dldate\n",
    "page_dict['text type'] = page_texttype\n",
    "page_dict['text'] = page_text\n",
    "\n",
    "main_dict[page_id] = page_dict"
   ]
  },
  {
   "cell_type": "code",
   "execution_count": 26,
   "metadata": {},
   "outputs": [
    {
     "data": {
      "text/plain": [
       "1"
      ]
     },
     "execution_count": 26,
     "metadata": {},
     "output_type": "execute_result"
    }
   ],
   "source": [
    "len(main_dict)"
   ]
  },
  {
   "cell_type": "code",
   "execution_count": 27,
   "metadata": {},
   "outputs": [
    {
     "data": {
      "text/plain": [
       "['https://www.bain.com/insights/life-insurers-spread-their-wings-but-can-they-maintain-altitude/',\n",
       " 'https://www.bain.com/insights/retail-holiday-newsletter-strong-sales-and-winning-tips-for-2020s/',\n",
       " 'https://www.bain.com/insights/for-banks-modernizing-technology-has-become-a-perpetual-challenge/',\n",
       " 'https://www.bain.com/insights/a-smarter-way-for-healthcare-companies-to-go-digital/']"
      ]
     },
     "execution_count": 27,
     "metadata": {},
     "output_type": "execute_result"
    }
   ],
   "source": [
    "urllist_snip = urllist[:4]\n",
    "urllist_snip"
   ]
  },
  {
   "cell_type": "code",
   "execution_count": 28,
   "metadata": {},
   "outputs": [],
   "source": [
    "page_dict = dict()\n",
    "main_dict = dict()"
   ]
  },
  {
   "cell_type": "code",
   "execution_count": 29,
   "metadata": {},
   "outputs": [
    {
     "data": {
      "text/plain": [
       "0"
      ]
     },
     "execution_count": 29,
     "metadata": {},
     "output_type": "execute_result"
    }
   ],
   "source": [
    "len(main_dict)"
   ]
  },
  {
   "cell_type": "code",
   "execution_count": 30,
   "metadata": {},
   "outputs": [
    {
     "name": "stderr",
     "output_type": "stream",
     "text": [
      "2020-02-18 09:54:31 [scrapy.utils.log] INFO: Scrapy 1.5.2 started (bot: scrapybot)\n",
      "2020-02-18 09:54:31 [scrapy.utils.log] INFO: Versions: lxml 4.3.2.0, libxml2 2.9.9, cssselect 1.0.3, parsel 1.5.1, w3lib 1.20.0, Twisted 18.9.0, Python 3.6.8 |Anaconda, Inc.| (default, Feb 21 2019, 18:30:04) [MSC v.1916 64 bit (AMD64)], pyOpenSSL 19.0.0 (OpenSSL 1.1.1d  10 Sep 2019), cryptography 2.6.1, Platform Windows-10-10.0.18362-SP0\n",
      "2020-02-18 09:54:31 [scrapy.crawler] INFO: Overridden settings: {}\n",
      "2020-02-18 09:54:32 [scrapy.extensions.telnet] INFO: Telnet Password: 932173ed134ac9d7\n",
      "2020-02-18 09:54:32 [scrapy.middleware] INFO: Enabled extensions:\n",
      "['scrapy.extensions.corestats.CoreStats',\n",
      " 'scrapy.extensions.telnet.TelnetConsole',\n",
      " 'scrapy.extensions.logstats.LogStats']\n",
      "2020-02-18 09:54:32 [scrapy.middleware] INFO: Enabled downloader middlewares:\n",
      "['scrapy.downloadermiddlewares.httpauth.HttpAuthMiddleware',\n",
      " 'scrapy.downloadermiddlewares.downloadtimeout.DownloadTimeoutMiddleware',\n",
      " 'scrapy.downloadermiddlewares.defaultheaders.DefaultHeadersMiddleware',\n",
      " 'scrapy.downloadermiddlewares.useragent.UserAgentMiddleware',\n",
      " 'scrapy.downloadermiddlewares.retry.RetryMiddleware',\n",
      " 'scrapy.downloadermiddlewares.redirect.MetaRefreshMiddleware',\n",
      " 'scrapy.downloadermiddlewares.httpcompression.HttpCompressionMiddleware',\n",
      " 'scrapy.downloadermiddlewares.redirect.RedirectMiddleware',\n",
      " 'scrapy.downloadermiddlewares.cookies.CookiesMiddleware',\n",
      " 'scrapy.downloadermiddlewares.httpproxy.HttpProxyMiddleware',\n",
      " 'scrapy.downloadermiddlewares.stats.DownloaderStats']\n",
      "2020-02-18 09:54:32 [scrapy.middleware] INFO: Enabled spider middlewares:\n",
      "['scrapy.spidermiddlewares.httperror.HttpErrorMiddleware',\n",
      " 'scrapy.spidermiddlewares.offsite.OffsiteMiddleware',\n",
      " 'scrapy.spidermiddlewares.referer.RefererMiddleware',\n",
      " 'scrapy.spidermiddlewares.urllength.UrlLengthMiddleware',\n",
      " 'scrapy.spidermiddlewares.depth.DepthMiddleware']\n",
      "2020-02-18 09:54:32 [scrapy.middleware] INFO: Enabled item pipelines:\n",
      "[]\n",
      "2020-02-18 09:54:32 [scrapy.core.engine] INFO: Spider opened\n",
      "2020-02-18 09:54:33 [scrapy.extensions.logstats] INFO: Crawled 0 pages (at 0 pages/min), scraped 0 items (at 0 items/min)\n",
      "2020-02-18 09:54:33 [scrapy.extensions.telnet] DEBUG: Telnet console listening on 127.0.0.1:6023\n",
      "2020-02-18 09:54:34 [scrapy.core.engine] DEBUG: Crawled (200) <GET https://www.bain.com/insights/in-2020-asia-will-have-the-worlds-largest-gdp-wef/> (referer: None)\n",
      "2020-02-18 09:54:35 [scrapy.core.engine] DEBUG: Crawled (200) <GET https://www.bain.com/insights/life-insurers-spread-their-wings-but-can-they-maintain-altitude/> (referer: None)\n",
      "2020-02-18 09:54:35 [urllib3.connectionpool] DEBUG: Starting new HTTPS connection (1): www.bain.com:443\n"
     ]
    },
    {
     "name": "stdout",
     "output_type": "stream",
     "text": [
      "https://www.bain.com/insights/in-2020-asia-will-have-the-worlds-largest-gdp-wef/\n"
     ]
    },
    {
     "name": "stderr",
     "output_type": "stream",
     "text": [
      "2020-02-18 09:54:36 [urllib3.connectionpool] DEBUG: https://www.bain.com:443 \"GET /insights/in-2020-asia-will-have-the-worlds-largest-gdp-wef/ HTTP/1.1\" 200 39718\n",
      "2020-02-18 09:54:36 [scrapy.core.engine] DEBUG: Crawled (200) <GET https://www.bain.com/insights/for-banks-modernizing-technology-has-become-a-perpetual-challenge/> (referer: None)\n",
      "2020-02-18 09:54:36 [scrapy.core.engine] DEBUG: Crawled (200) <GET https://www.bain.com/insights/retail-holiday-newsletter-2019-issue-3-supply-chain/> (referer: None)\n",
      "2020-02-18 09:54:36 [scrapy.core.engine] DEBUG: Crawled (200) <GET https://www.bain.com/insights/investors-have-soured-on-europes-banks/> (referer: None)\n",
      "2020-02-18 09:54:37 [scrapy.core.engine] DEBUG: Crawled (200) <GET https://www.bain.com/insights/retail-holiday-newsletter-2019-issue-4-taking-stock-retailers-holiday-marketing-strategies/> (referer: None)\n",
      "2020-02-18 09:54:37 [scrapy.core.engine] DEBUG: Crawled (200) <GET https://www.bain.com/insights/how-the-best-sales-operations-teams-navigate-the-digital-cosmos/> (referer: None)\n",
      "2020-02-18 09:54:37 [scrapy.core.engine] DEBUG: Crawled (200) <GET https://www.bain.com/insights/a-smarter-way-for-healthcare-companies-to-go-digital/> (referer: None)\n",
      "2020-02-18 09:54:37 [scrapy.core.engine] DEBUG: Crawled (200) <GET https://www.bain.com/insights/todays-traveler-infinite-paths-to-purchase/> (referer: None)\n",
      "2020-02-18 09:54:37 [scrapy.core.engine] DEBUG: Crawled (200) <GET https://www.bain.com/insights/retail-holiday-newsletter-strong-sales-and-winning-tips-for-2020s/> (referer: None)\n",
      "2020-02-18 09:54:37 [urllib3.connectionpool] DEBUG: Starting new HTTPS connection (1): www.bain.com:443\n"
     ]
    },
    {
     "name": "stdout",
     "output_type": "stream",
     "text": [
      "https://www.bain.com/insights/life-insurers-spread-their-wings-but-can-they-maintain-altitude/\n"
     ]
    },
    {
     "name": "stderr",
     "output_type": "stream",
     "text": [
      "2020-02-18 09:54:38 [urllib3.connectionpool] DEBUG: https://www.bain.com:443 \"GET /insights/life-insurers-spread-their-wings-but-can-they-maintain-altitude/ HTTP/1.1\" 200 45881\n",
      "2020-02-18 09:54:38 [urllib3.connectionpool] DEBUG: Starting new HTTPS connection (1): www.bain.com:443\n"
     ]
    },
    {
     "name": "stdout",
     "output_type": "stream",
     "text": [
      "https://www.bain.com/insights/for-banks-modernizing-technology-has-become-a-perpetual-challenge/\n"
     ]
    },
    {
     "name": "stderr",
     "output_type": "stream",
     "text": [
      "2020-02-18 09:54:40 [urllib3.connectionpool] DEBUG: https://www.bain.com:443 \"GET /insights/for-banks-modernizing-technology-has-become-a-perpetual-challenge/ HTTP/1.1\" 200 48843\n",
      "2020-02-18 09:54:40 [urllib3.connectionpool] DEBUG: Starting new HTTPS connection (1): www.bain.com:443\n"
     ]
    },
    {
     "name": "stdout",
     "output_type": "stream",
     "text": [
      "https://www.bain.com/insights/retail-holiday-newsletter-2019-issue-3-supply-chain/\n"
     ]
    },
    {
     "name": "stderr",
     "output_type": "stream",
     "text": [
      "2020-02-18 09:54:41 [urllib3.connectionpool] DEBUG: https://www.bain.com:443 \"GET /insights/retail-holiday-newsletter-2019-issue-3-supply-chain/ HTTP/1.1\" 200 56059\n",
      "2020-02-18 09:54:41 [urllib3.connectionpool] DEBUG: Starting new HTTPS connection (1): www.bain.com:443\n"
     ]
    },
    {
     "name": "stdout",
     "output_type": "stream",
     "text": [
      "https://www.bain.com/insights/investors-have-soured-on-europes-banks/\n"
     ]
    },
    {
     "name": "stderr",
     "output_type": "stream",
     "text": [
      "2020-02-18 09:54:43 [urllib3.connectionpool] DEBUG: https://www.bain.com:443 \"GET /insights/investors-have-soured-on-europes-banks/ HTTP/1.1\" 200 43616\n",
      "2020-02-18 09:54:43 [urllib3.connectionpool] DEBUG: Starting new HTTPS connection (1): www.bain.com:443\n"
     ]
    },
    {
     "name": "stdout",
     "output_type": "stream",
     "text": [
      "https://www.bain.com/insights/retail-holiday-newsletter-2019-issue-4-taking-stock-retailers-holiday-marketing-strategies/\n"
     ]
    },
    {
     "name": "stderr",
     "output_type": "stream",
     "text": [
      "2020-02-18 09:54:44 [urllib3.connectionpool] DEBUG: https://www.bain.com:443 \"GET /insights/retail-holiday-newsletter-2019-issue-4-taking-stock-retailers-holiday-marketing-strategies/ HTTP/1.1\" 200 56068\n",
      "2020-02-18 09:54:44 [urllib3.connectionpool] DEBUG: Starting new HTTPS connection (1): www.bain.com:443\n"
     ]
    },
    {
     "name": "stdout",
     "output_type": "stream",
     "text": [
      "https://www.bain.com/insights/how-the-best-sales-operations-teams-navigate-the-digital-cosmos/\n"
     ]
    },
    {
     "name": "stderr",
     "output_type": "stream",
     "text": [
      "2020-02-18 09:54:46 [urllib3.connectionpool] DEBUG: https://www.bain.com:443 \"GET /insights/how-the-best-sales-operations-teams-navigate-the-digital-cosmos/ HTTP/1.1\" 200 43618\n",
      "2020-02-18 09:54:46 [urllib3.connectionpool] DEBUG: Starting new HTTPS connection (1): www.bain.com:443\n"
     ]
    },
    {
     "name": "stdout",
     "output_type": "stream",
     "text": [
      "https://www.bain.com/insights/a-smarter-way-for-healthcare-companies-to-go-digital/\n"
     ]
    },
    {
     "name": "stderr",
     "output_type": "stream",
     "text": [
      "2020-02-18 09:54:48 [urllib3.connectionpool] DEBUG: https://www.bain.com:443 \"GET /insights/a-smarter-way-for-healthcare-companies-to-go-digital/ HTTP/1.1\" 200 45449\n",
      "2020-02-18 09:54:48 [urllib3.connectionpool] DEBUG: Starting new HTTPS connection (1): www.bain.com:443\n"
     ]
    },
    {
     "name": "stdout",
     "output_type": "stream",
     "text": [
      "https://www.bain.com/insights/todays-traveler-infinite-paths-to-purchase/\n"
     ]
    },
    {
     "name": "stderr",
     "output_type": "stream",
     "text": [
      "2020-02-18 09:54:50 [urllib3.connectionpool] DEBUG: https://www.bain.com:443 \"GET /insights/todays-traveler-infinite-paths-to-purchase/ HTTP/1.1\" 200 48993\n",
      "2020-02-18 09:54:50 [urllib3.connectionpool] DEBUG: Starting new HTTPS connection (1): www.bain.com:443\n"
     ]
    },
    {
     "name": "stdout",
     "output_type": "stream",
     "text": [
      "https://www.bain.com/insights/retail-holiday-newsletter-strong-sales-and-winning-tips-for-2020s/\n"
     ]
    },
    {
     "name": "stderr",
     "output_type": "stream",
     "text": [
      "2020-02-18 09:54:51 [urllib3.connectionpool] DEBUG: https://www.bain.com:443 \"GET /insights/retail-holiday-newsletter-strong-sales-and-winning-tips-for-2020s/ HTTP/1.1\" 200 50270\n",
      "2020-02-18 09:54:51 [scrapy.core.engine] DEBUG: Crawled (200) <GET https://www.bain.com/insights/choosing-the-right-pricing-model-for-equipment-as-a-service/> (referer: None)\n",
      "2020-02-18 09:54:51 [scrapy.core.engine] DEBUG: Crawled (200) <GET https://www.bain.com/insights/how-will-financial-services-private-equity-investments-fare-in-the-next-recession/> (referer: None)\n",
      "2020-02-18 09:54:51 [scrapy.core.engine] DEBUG: Crawled (200) <GET https://www.bain.com/insights/the-rosetta-stone-of-commercial-operations-deciphering-where-to-focus/> (referer: None)\n",
      "2020-02-18 09:54:51 [scrapy.core.engine] DEBUG: Crawled (200) <GET https://www.bain.com/insights/supply-chain-control-towers-getting-to-the-promised-land/> (referer: None)\n",
      "2020-02-18 09:54:51 [scrapy.core.engine] DEBUG: Crawled (200) <GET https://www.bain.com/insights/retail-holiday-newsletter-2019-issue-2-what-will-amazon-deliver-this-christmas/> (referer: None)\n",
      "2020-02-18 09:54:51 [scrapy.core.engine] DEBUG: Crawled (200) <GET https://www.bain.com/insights/is-strategy-dead-in-tech-the-winners-dont-think-so/> (referer: None)\n",
      "2020-02-18 09:54:51 [scrapy.core.engine] DEBUG: Crawled (200) <GET https://www.bain.com/insights/why-procurement-savings-get-lost-in-translation-cfo/> (referer: None)\n",
      "2020-02-18 09:54:51 [scrapy.core.engine] DEBUG: Crawled (200) <GET https://www.bain.com/insights/the-bain-micro-battles-system/> (referer: None)\n",
      "2020-02-18 09:54:51 [urllib3.connectionpool] DEBUG: Starting new HTTPS connection (1): www.bain.com:443\n"
     ]
    },
    {
     "name": "stdout",
     "output_type": "stream",
     "text": [
      "https://www.bain.com/insights/choosing-the-right-pricing-model-for-equipment-as-a-service/\n"
     ]
    },
    {
     "name": "stderr",
     "output_type": "stream",
     "text": [
      "2020-02-18 09:54:53 [urllib3.connectionpool] DEBUG: https://www.bain.com:443 \"GET /insights/choosing-the-right-pricing-model-for-equipment-as-a-service/ HTTP/1.1\" 200 45829\n",
      "2020-02-18 09:54:53 [urllib3.connectionpool] DEBUG: Starting new HTTPS connection (1): www.bain.com:443\n"
     ]
    },
    {
     "name": "stdout",
     "output_type": "stream",
     "text": [
      "https://www.bain.com/insights/how-will-financial-services-private-equity-investments-fare-in-the-next-recession/\n"
     ]
    },
    {
     "name": "stderr",
     "output_type": "stream",
     "text": [
      "2020-02-18 09:54:55 [urllib3.connectionpool] DEBUG: https://www.bain.com:443 \"GET /insights/how-will-financial-services-private-equity-investments-fare-in-the-next-recession/ HTTP/1.1\" 200 44080\n",
      "2020-02-18 09:54:55 [scrapy.core.engine] DEBUG: Crawled (200) <GET https://www.bain.com/insights/integrating-due-diligence-to-build-lasting-value/> (referer: None)\n",
      "2020-02-18 09:54:55 [scrapy.core.engine] DEBUG: Crawled (200) <GET https://www.bain.com/insights/how-ai-can-make-your-call-center-experience-less-painful-wsj/> (referer: None)\n",
      "2020-02-18 09:54:55 [scrapy.core.engine] DEBUG: Crawled (200) <GET https://www.bain.com/insights/from-hype-to-hero-a-look-at-artificial-intelligence-in-the-consumer-packaged-goods-industry/> (referer: None)\n",
      "2020-02-18 09:54:55 [scrapy.core.engine] DEBUG: Crawled (200) <GET https://www.bain.com/insights/four-food-myths-that-we-need-to-tackle-for-a-healthier-planet-wef/> (referer: None)\n",
      "2020-02-18 09:54:55 [urllib3.connectionpool] DEBUG: Starting new HTTPS connection (1): www.bain.com:443\n"
     ]
    },
    {
     "name": "stdout",
     "output_type": "stream",
     "text": [
      "https://www.bain.com/insights/the-rosetta-stone-of-commercial-operations-deciphering-where-to-focus/\n"
     ]
    },
    {
     "name": "stderr",
     "output_type": "stream",
     "text": [
      "2020-02-18 09:54:57 [urllib3.connectionpool] DEBUG: https://www.bain.com:443 \"GET /insights/the-rosetta-stone-of-commercial-operations-deciphering-where-to-focus/ HTTP/1.1\" 200 45819\n",
      "2020-02-18 09:54:57 [urllib3.connectionpool] DEBUG: Starting new HTTPS connection (1): www.bain.com:443\n"
     ]
    },
    {
     "name": "stdout",
     "output_type": "stream",
     "text": [
      "https://www.bain.com/insights/supply-chain-control-towers-getting-to-the-promised-land/\n"
     ]
    },
    {
     "name": "stderr",
     "output_type": "stream",
     "text": [
      "2020-02-18 09:54:58 [urllib3.connectionpool] DEBUG: https://www.bain.com:443 \"GET /insights/supply-chain-control-towers-getting-to-the-promised-land/ HTTP/1.1\" 200 40468\n",
      "2020-02-18 09:54:58 [urllib3.connectionpool] DEBUG: Starting new HTTPS connection (1): www.bain.com:443\n"
     ]
    },
    {
     "name": "stdout",
     "output_type": "stream",
     "text": [
      "https://www.bain.com/insights/retail-holiday-newsletter-2019-issue-2-what-will-amazon-deliver-this-christmas/\n"
     ]
    },
    {
     "name": "stderr",
     "output_type": "stream",
     "text": [
      "2020-02-18 09:55:00 [urllib3.connectionpool] DEBUG: https://www.bain.com:443 \"GET /insights/retail-holiday-newsletter-2019-issue-2-what-will-amazon-deliver-this-christmas/ HTTP/1.1\" 200 62761\n",
      "2020-02-18 09:55:00 [urllib3.connectionpool] DEBUG: Starting new HTTPS connection (1): www.bain.com:443\n"
     ]
    },
    {
     "name": "stdout",
     "output_type": "stream",
     "text": [
      "https://www.bain.com/insights/is-strategy-dead-in-tech-the-winners-dont-think-so/\n"
     ]
    },
    {
     "name": "stderr",
     "output_type": "stream",
     "text": [
      "2020-02-18 09:55:02 [urllib3.connectionpool] DEBUG: https://www.bain.com:443 \"GET /insights/is-strategy-dead-in-tech-the-winners-dont-think-so/ HTTP/1.1\" 200 49220\n",
      "2020-02-18 09:55:02 [urllib3.connectionpool] DEBUG: Starting new HTTPS connection (1): www.bain.com:443\n"
     ]
    },
    {
     "name": "stdout",
     "output_type": "stream",
     "text": [
      "https://www.bain.com/insights/why-procurement-savings-get-lost-in-translation-cfo/\n"
     ]
    },
    {
     "name": "stderr",
     "output_type": "stream",
     "text": [
      "2020-02-18 09:55:03 [urllib3.connectionpool] DEBUG: https://www.bain.com:443 \"GET /insights/why-procurement-savings-get-lost-in-translation-cfo/ HTTP/1.1\" 200 37605\n",
      "2020-02-18 09:55:03 [urllib3.connectionpool] DEBUG: Starting new HTTPS connection (1): www.bain.com:443\n"
     ]
    },
    {
     "name": "stdout",
     "output_type": "stream",
     "text": [
      "https://www.bain.com/insights/the-bain-micro-battles-system/\n"
     ]
    },
    {
     "name": "stderr",
     "output_type": "stream",
     "text": [
      "2020-02-18 09:55:05 [urllib3.connectionpool] DEBUG: https://www.bain.com:443 \"GET /insights/the-bain-micro-battles-system/ HTTP/1.1\" 200 None\n",
      "2020-02-18 09:55:05 [scrapy.core.engine] DEBUG: Crawled (200) <GET https://www.bain.com/insights/navigating-the-route-to-innovation/> (referer: None)\n",
      "2020-02-18 09:55:05 [scrapy.core.engine] DEBUG: Crawled (200) <GET https://www.bain.com/insights/solving-the-advanced-analytics-talent-problem-mit-sloan/> (referer: None)\n",
      "2020-02-18 09:55:05 [scrapy.core.engine] DEBUG: Crawled (200) <GET https://www.bain.com/insights/a-downturn-favors-the-prepared-even-for-southeast-asian-companies/> (referer: None)\n",
      "2020-02-18 09:55:05 [urllib3.connectionpool] DEBUG: Starting new HTTPS connection (1): www.bain.com:443\n"
     ]
    },
    {
     "name": "stdout",
     "output_type": "stream",
     "text": [
      "https://www.bain.com/insights/integrating-due-diligence-to-build-lasting-value/\n"
     ]
    },
    {
     "name": "stderr",
     "output_type": "stream",
     "text": [
      "2020-02-18 09:55:06 [urllib3.connectionpool] DEBUG: https://www.bain.com:443 \"GET /insights/integrating-due-diligence-to-build-lasting-value/ HTTP/1.1\" 200 46323\n",
      "2020-02-18 09:55:06 [urllib3.connectionpool] DEBUG: Starting new HTTPS connection (1): www.bain.com:443\n"
     ]
    },
    {
     "name": "stdout",
     "output_type": "stream",
     "text": [
      "https://www.bain.com/insights/how-ai-can-make-your-call-center-experience-less-painful-wsj/\n"
     ]
    },
    {
     "name": "stderr",
     "output_type": "stream",
     "text": [
      "2020-02-18 09:55:07 [urllib3.connectionpool] DEBUG: https://www.bain.com:443 \"GET /insights/how-ai-can-make-your-call-center-experience-less-painful-wsj/ HTTP/1.1\" 200 37294\n",
      "2020-02-18 09:55:07 [urllib3.connectionpool] DEBUG: Starting new HTTPS connection (1): www.bain.com:443\n"
     ]
    },
    {
     "name": "stdout",
     "output_type": "stream",
     "text": [
      "https://www.bain.com/insights/from-hype-to-hero-a-look-at-artificial-intelligence-in-the-consumer-packaged-goods-industry/\n"
     ]
    },
    {
     "name": "stderr",
     "output_type": "stream",
     "text": [
      "2020-02-18 09:55:09 [urllib3.connectionpool] DEBUG: https://www.bain.com:443 \"GET /insights/from-hype-to-hero-a-look-at-artificial-intelligence-in-the-consumer-packaged-goods-industry/ HTTP/1.1\" 200 51617\n",
      "2020-02-18 09:55:09 [urllib3.connectionpool] DEBUG: Starting new HTTPS connection (1): www.bain.com:443\n"
     ]
    },
    {
     "name": "stdout",
     "output_type": "stream",
     "text": [
      "https://www.bain.com/insights/four-food-myths-that-we-need-to-tackle-for-a-healthier-planet-wef/\n"
     ]
    },
    {
     "name": "stderr",
     "output_type": "stream",
     "text": [
      "2020-02-18 09:55:10 [urllib3.connectionpool] DEBUG: https://www.bain.com:443 \"GET /insights/four-food-myths-that-we-need-to-tackle-for-a-healthier-planet-wef/ HTTP/1.1\" 200 40125\n",
      "2020-02-18 09:55:10 [scrapy.core.engine] DEBUG: Crawled (200) <GET https://www.bain.com/insights/sharpening-company-insights-through-advanced-analytics/> (referer: None)\n",
      "2020-02-18 09:55:10 [urllib3.connectionpool] DEBUG: Starting new HTTPS connection (1): www.bain.com:443\n"
     ]
    },
    {
     "name": "stdout",
     "output_type": "stream",
     "text": [
      "https://www.bain.com/insights/navigating-the-route-to-innovation/\n"
     ]
    },
    {
     "name": "stderr",
     "output_type": "stream",
     "text": [
      "2020-02-18 09:55:12 [urllib3.connectionpool] DEBUG: https://www.bain.com:443 \"GET /insights/navigating-the-route-to-innovation/ HTTP/1.1\" 200 49350\n",
      "2020-02-18 09:55:12 [urllib3.connectionpool] DEBUG: Starting new HTTPS connection (1): www.bain.com:443\n"
     ]
    },
    {
     "name": "stdout",
     "output_type": "stream",
     "text": [
      "https://www.bain.com/insights/solving-the-advanced-analytics-talent-problem-mit-sloan/\n"
     ]
    },
    {
     "name": "stderr",
     "output_type": "stream",
     "text": [
      "2020-02-18 09:55:14 [urllib3.connectionpool] DEBUG: https://www.bain.com:443 \"GET /insights/solving-the-advanced-analytics-talent-problem-mit-sloan/ HTTP/1.1\" 200 38722\n",
      "2020-02-18 09:55:14 [urllib3.connectionpool] DEBUG: Starting new HTTPS connection (1): www.bain.com:443\n"
     ]
    },
    {
     "name": "stdout",
     "output_type": "stream",
     "text": [
      "https://www.bain.com/insights/a-downturn-favors-the-prepared-even-for-southeast-asian-companies/\n"
     ]
    },
    {
     "name": "stderr",
     "output_type": "stream",
     "text": [
      "2020-02-18 09:55:16 [urllib3.connectionpool] DEBUG: https://www.bain.com:443 \"GET /insights/a-downturn-favors-the-prepared-even-for-southeast-asian-companies/ HTTP/1.1\" 200 53052\n",
      "2020-02-18 09:55:16 [scrapy.core.engine] DEBUG: Crawled (200) <GET https://www.bain.com/insights/how-europes-banks-can-recapture-the-capital-markets-business-at-home/> (referer: None)\n",
      "2020-02-18 09:55:16 [urllib3.connectionpool] DEBUG: Starting new HTTPS connection (1): www.bain.com:443\n"
     ]
    },
    {
     "name": "stdout",
     "output_type": "stream",
     "text": [
      "https://www.bain.com/insights/sharpening-company-insights-through-advanced-analytics/\n"
     ]
    },
    {
     "name": "stderr",
     "output_type": "stream",
     "text": [
      "2020-02-18 09:55:17 [urllib3.connectionpool] DEBUG: https://www.bain.com:443 \"GET /insights/sharpening-company-insights-through-advanced-analytics/ HTTP/1.1\" 200 48954\n",
      "2020-02-18 09:55:17 [scrapy.core.engine] DEBUG: Crawled (200) <GET https://www.bain.com/insights/do-this-not-that-prescriptive-analytics-in-sales-and-marketing/> (referer: None)\n",
      "2020-02-18 09:55:17 [urllib3.connectionpool] DEBUG: Starting new HTTPS connection (1): www.bain.com:443\n"
     ]
    },
    {
     "name": "stdout",
     "output_type": "stream",
     "text": [
      "https://www.bain.com/insights/how-europes-banks-can-recapture-the-capital-markets-business-at-home/\n"
     ]
    },
    {
     "name": "stderr",
     "output_type": "stream",
     "text": [
      "2020-02-18 09:55:19 [urllib3.connectionpool] DEBUG: https://www.bain.com:443 \"GET /insights/how-europes-banks-can-recapture-the-capital-markets-business-at-home/ HTTP/1.1\" 200 51007\n",
      "2020-02-18 09:55:19 [scrapy.core.engine] DEBUG: Crawled (200) <GET https://www.bain.com/insights/three-trends-reshuffling-north-americas-midstream-industry/> (referer: None)\n",
      "2020-02-18 09:55:19 [urllib3.connectionpool] DEBUG: Starting new HTTPS connection (1): www.bain.com:443\n"
     ]
    },
    {
     "name": "stdout",
     "output_type": "stream",
     "text": [
      "https://www.bain.com/insights/do-this-not-that-prescriptive-analytics-in-sales-and-marketing/\n"
     ]
    },
    {
     "name": "stderr",
     "output_type": "stream",
     "text": [
      "2020-02-18 09:55:21 [urllib3.connectionpool] DEBUG: https://www.bain.com:443 \"GET /insights/do-this-not-that-prescriptive-analytics-in-sales-and-marketing/ HTTP/1.1\" 200 46882\n",
      "2020-02-18 09:55:21 [scrapy.core.engine] DEBUG: Crawled (200) <GET https://www.bain.com/insights/beyond-trade-wars-the-real-reason-you-need-to-reinvent-your-supply-chain/> (referer: None)\n",
      "2020-02-18 09:55:21 [urllib3.connectionpool] DEBUG: Starting new HTTPS connection (1): www.bain.com:443\n"
     ]
    },
    {
     "name": "stdout",
     "output_type": "stream",
     "text": [
      "https://www.bain.com/insights/three-trends-reshuffling-north-americas-midstream-industry/\n"
     ]
    },
    {
     "name": "stderr",
     "output_type": "stream",
     "text": [
      "2020-02-18 09:55:22 [urllib3.connectionpool] DEBUG: https://www.bain.com:443 \"GET /insights/three-trends-reshuffling-north-americas-midstream-industry/ HTTP/1.1\" 200 46824\n",
      "2020-02-18 09:55:22 [scrapy.core.engine] DEBUG: Crawled (200) <GET https://www.bain.com/insights/why-better-performance-management-spurs-banks-to-deliver-more-value/> (referer: None)\n",
      "2020-02-18 09:55:22 [urllib3.connectionpool] DEBUG: Starting new HTTPS connection (1): www.bain.com:443\n"
     ]
    },
    {
     "name": "stdout",
     "output_type": "stream",
     "text": [
      "https://www.bain.com/insights/beyond-trade-wars-the-real-reason-you-need-to-reinvent-your-supply-chain/\n"
     ]
    },
    {
     "name": "stderr",
     "output_type": "stream",
     "text": [
      "2020-02-18 09:55:24 [urllib3.connectionpool] DEBUG: https://www.bain.com:443 \"GET /insights/beyond-trade-wars-the-real-reason-you-need-to-reinvent-your-supply-chain/ HTTP/1.1\" 200 42884\n",
      "2020-02-18 09:55:24 [scrapy.core.engine] DEBUG: Crawled (200) <GET https://www.bain.com/insights/the-indian-equation-for-advanced-analytics-talent/> (referer: None)\n",
      "2020-02-18 09:55:24 [urllib3.connectionpool] DEBUG: Starting new HTTPS connection (1): www.bain.com:443\n"
     ]
    },
    {
     "name": "stdout",
     "output_type": "stream",
     "text": [
      "https://www.bain.com/insights/why-better-performance-management-spurs-banks-to-deliver-more-value/\n"
     ]
    },
    {
     "name": "stderr",
     "output_type": "stream",
     "text": [
      "2020-02-18 09:55:25 [urllib3.connectionpool] DEBUG: https://www.bain.com:443 \"GET /insights/why-better-performance-management-spurs-banks-to-deliver-more-value/ HTTP/1.1\" 200 46281\n",
      "2020-02-18 09:55:25 [scrapy.core.engine] DEBUG: Crawled (200) <GET https://www.bain.com/insights/a-path-for-australias-banks-to-delight-customers/> (referer: None)\n",
      "2020-02-18 09:55:25 [urllib3.connectionpool] DEBUG: Starting new HTTPS connection (1): www.bain.com:443\n"
     ]
    },
    {
     "name": "stdout",
     "output_type": "stream",
     "text": [
      "https://www.bain.com/insights/the-indian-equation-for-advanced-analytics-talent/\n"
     ]
    },
    {
     "name": "stderr",
     "output_type": "stream",
     "text": [
      "2020-02-18 09:55:27 [urllib3.connectionpool] DEBUG: https://www.bain.com:443 \"GET /insights/the-indian-equation-for-advanced-analytics-talent/ HTTP/1.1\" 200 44331\n",
      "2020-02-18 09:55:27 [scrapy.core.engine] DEBUG: Crawled (200) <GET https://www.bain.com/insights/tipping-points-when-to-bet-on-new-technologies/> (referer: None)\n",
      "2020-02-18 09:55:27 [urllib3.connectionpool] DEBUG: Starting new HTTPS connection (1): www.bain.com:443\n"
     ]
    },
    {
     "name": "stdout",
     "output_type": "stream",
     "text": [
      "https://www.bain.com/insights/a-path-for-australias-banks-to-delight-customers/\n"
     ]
    },
    {
     "name": "stderr",
     "output_type": "stream",
     "text": [
      "2020-02-18 09:55:28 [urllib3.connectionpool] DEBUG: https://www.bain.com:443 \"GET /insights/a-path-for-australias-banks-to-delight-customers/ HTTP/1.1\" 200 46602\n",
      "2020-02-18 09:55:28 [urllib3.connectionpool] DEBUG: Starting new HTTPS connection (1): www.bain.com:443\n"
     ]
    },
    {
     "name": "stdout",
     "output_type": "stream",
     "text": [
      "https://www.bain.com/insights/tipping-points-when-to-bet-on-new-technologies/\n"
     ]
    },
    {
     "name": "stderr",
     "output_type": "stream",
     "text": [
      "2020-02-18 09:55:29 [urllib3.connectionpool] DEBUG: https://www.bain.com:443 \"GET /insights/tipping-points-when-to-bet-on-new-technologies/ HTTP/1.1\" 200 60156\n",
      "2020-02-18 09:55:29 [scrapy.core.engine] DEBUG: Crawled (200) <GET https://www.bain.com/insights/the-revenge-of-eq-forbes/> (referer: None)\n",
      "2020-02-18 09:55:29 [scrapy.core.engine] DEBUG: Crawled (200) <GET https://www.bain.com/insights/insurgents-are-putting-the-consumer-back-in-consumer-goods/> (referer: None)\n",
      "2020-02-18 09:55:30 [urllib3.connectionpool] DEBUG: Starting new HTTPS connection (1): www.bain.com:443\n"
     ]
    },
    {
     "name": "stdout",
     "output_type": "stream",
     "text": [
      "https://www.bain.com/insights/the-revenge-of-eq-forbes/\n"
     ]
    },
    {
     "name": "stderr",
     "output_type": "stream",
     "text": [
      "2020-02-18 09:55:31 [urllib3.connectionpool] DEBUG: https://www.bain.com:443 \"GET /insights/the-revenge-of-eq-forbes/ HTTP/1.1\" 200 38548\n",
      "2020-02-18 09:55:31 [scrapy.core.engine] DEBUG: Crawled (200) <GET https://www.bain.com/insights/insurtechs-on-the-rise/> (referer: None)\n",
      "2020-02-18 09:55:31 [urllib3.connectionpool] DEBUG: Starting new HTTPS connection (1): www.bain.com:443\n"
     ]
    },
    {
     "name": "stdout",
     "output_type": "stream",
     "text": [
      "https://www.bain.com/insights/insurgents-are-putting-the-consumer-back-in-consumer-goods/\n"
     ]
    },
    {
     "name": "stderr",
     "output_type": "stream",
     "text": [
      "2020-02-18 09:55:32 [urllib3.connectionpool] DEBUG: https://www.bain.com:443 \"GET /insights/insurgents-are-putting-the-consumer-back-in-consumer-goods/ HTTP/1.1\" 200 44194\n",
      "2020-02-18 09:55:33 [scrapy.core.engine] DEBUG: Crawled (200) <GET https://www.bain.com/insights/change-is-changing-forbes/> (referer: None)\n",
      "2020-02-18 09:55:33 [urllib3.connectionpool] DEBUG: Starting new HTTPS connection (1): www.bain.com:443\n"
     ]
    },
    {
     "name": "stdout",
     "output_type": "stream",
     "text": [
      "https://www.bain.com/insights/insurtechs-on-the-rise/\n"
     ]
    },
    {
     "name": "stderr",
     "output_type": "stream",
     "text": [
      "2020-02-18 09:55:34 [urllib3.connectionpool] DEBUG: https://www.bain.com:443 \"GET /insights/insurtechs-on-the-rise/ HTTP/1.1\" 200 48022\n",
      "2020-02-18 09:55:34 [scrapy.extensions.logstats] INFO: Crawled 38 pages (at 38 pages/min), scraped 0 items (at 0 items/min)\n",
      "2020-02-18 09:55:34 [scrapy.core.engine] DEBUG: Crawled (200) <GET https://www.bain.com/insights/sales-operations-is-dead-long-live-commercial-operations/> (referer: None)\n",
      "2020-02-18 09:55:34 [urllib3.connectionpool] DEBUG: Starting new HTTPS connection (1): www.bain.com:443\n"
     ]
    },
    {
     "name": "stdout",
     "output_type": "stream",
     "text": [
      "https://www.bain.com/insights/change-is-changing-forbes/\n"
     ]
    },
    {
     "name": "stderr",
     "output_type": "stream",
     "text": [
      "2020-02-18 09:55:35 [urllib3.connectionpool] DEBUG: https://www.bain.com:443 \"GET /insights/change-is-changing-forbes/ HTTP/1.1\" 200 39692\n",
      "2020-02-18 09:55:35 [scrapy.core.engine] DEBUG: Crawled (200) <GET https://www.bain.com/insights/how-commodity-producers-can-raise-their-trading-game/> (referer: None)\n",
      "2020-02-18 09:55:35 [urllib3.connectionpool] DEBUG: Starting new HTTPS connection (1): www.bain.com:443\n"
     ]
    },
    {
     "name": "stdout",
     "output_type": "stream",
     "text": [
      "https://www.bain.com/insights/sales-operations-is-dead-long-live-commercial-operations/\n"
     ]
    },
    {
     "name": "stderr",
     "output_type": "stream",
     "text": [
      "2020-02-18 09:55:37 [urllib3.connectionpool] DEBUG: https://www.bain.com:443 \"GET /insights/sales-operations-is-dead-long-live-commercial-operations/ HTTP/1.1\" 200 42322\n",
      "2020-02-18 09:55:37 [scrapy.core.engine] DEBUG: Crawled (200) <GET https://www.bain.com/insights/how-refiners-can-capture-the-benefits-of-the-energy-transition-and-digitalization/> (referer: None)\n",
      "2020-02-18 09:55:37 [urllib3.connectionpool] DEBUG: Starting new HTTPS connection (1): www.bain.com:443\n"
     ]
    },
    {
     "name": "stdout",
     "output_type": "stream",
     "text": [
      "https://www.bain.com/insights/how-commodity-producers-can-raise-their-trading-game/\n"
     ]
    },
    {
     "name": "stderr",
     "output_type": "stream",
     "text": [
      "2020-02-18 09:55:39 [urllib3.connectionpool] DEBUG: https://www.bain.com:443 \"GET /insights/how-commodity-producers-can-raise-their-trading-game/ HTTP/1.1\" 200 45389\n",
      "2020-02-18 09:55:39 [scrapy.core.engine] DEBUG: Crawled (200) <GET https://www.bain.com/insights/rethinking-your-erp-strategy-to-gain-digital-competitive-advantage/> (referer: None)\n",
      "2020-02-18 09:55:39 [scrapy.core.engine] DEBUG: Crawled (200) <GET https://www.bain.com/insights/now-hiring-investing-in-retailers-most-important-asset/> (referer: None)\n",
      "2020-02-18 09:55:39 [urllib3.connectionpool] DEBUG: Starting new HTTPS connection (1): www.bain.com:443\n"
     ]
    },
    {
     "name": "stdout",
     "output_type": "stream",
     "text": [
      "https://www.bain.com/insights/how-refiners-can-capture-the-benefits-of-the-energy-transition-and-digitalization/\n"
     ]
    },
    {
     "name": "stderr",
     "output_type": "stream",
     "text": [
      "2020-02-18 09:55:40 [urllib3.connectionpool] DEBUG: https://www.bain.com:443 \"GET /insights/how-refiners-can-capture-the-benefits-of-the-energy-transition-and-digitalization/ HTTP/1.1\" 200 49913\n",
      "2020-02-18 09:55:40 [urllib3.connectionpool] DEBUG: Starting new HTTPS connection (1): www.bain.com:443\n"
     ]
    },
    {
     "name": "stdout",
     "output_type": "stream",
     "text": [
      "https://www.bain.com/insights/rethinking-your-erp-strategy-to-gain-digital-competitive-advantage/\n"
     ]
    },
    {
     "name": "stderr",
     "output_type": "stream",
     "text": [
      "2020-02-18 09:55:42 [urllib3.connectionpool] DEBUG: https://www.bain.com:443 \"GET /insights/rethinking-your-erp-strategy-to-gain-digital-competitive-advantage/ HTTP/1.1\" 200 44523\n",
      "2020-02-18 09:55:42 [urllib3.connectionpool] DEBUG: Starting new HTTPS connection (1): www.bain.com:443\n"
     ]
    },
    {
     "name": "stdout",
     "output_type": "stream",
     "text": [
      "https://www.bain.com/insights/now-hiring-investing-in-retailers-most-important-asset/\n"
     ]
    },
    {
     "name": "stderr",
     "output_type": "stream",
     "text": [
      "2020-02-18 09:55:43 [urllib3.connectionpool] DEBUG: https://www.bain.com:443 \"GET /insights/now-hiring-investing-in-retailers-most-important-asset/ HTTP/1.1\" 200 49803\n",
      "2020-02-18 09:55:43 [scrapy.core.engine] DEBUG: Crawled (200) <GET https://www.bain.com/insights/three-ways-to-survive-in-asia-pacific-transportation-and-logistics/> (referer: None)\n",
      "2020-02-18 09:55:44 [scrapy.core.engine] DEBUG: Crawled (200) <GET https://www.bain.com/insights/who-watched-the-oscars/> (referer: None)\n",
      "2020-02-18 09:55:44 [scrapy.core.engine] DEBUG: Crawled (200) <GET https://www.bain.com/insights/dynamic-pricing-building-an-advantage-in-b2b-sales/> (referer: None)\n",
      "2020-02-18 09:55:44 [urllib3.connectionpool] DEBUG: Starting new HTTPS connection (1): www.bain.com:443\n"
     ]
    },
    {
     "name": "stdout",
     "output_type": "stream",
     "text": [
      "https://www.bain.com/insights/three-ways-to-survive-in-asia-pacific-transportation-and-logistics/\n"
     ]
    },
    {
     "name": "stderr",
     "output_type": "stream",
     "text": [
      "2020-02-18 09:55:45 [urllib3.connectionpool] DEBUG: https://www.bain.com:443 \"GET /insights/three-ways-to-survive-in-asia-pacific-transportation-and-logistics/ HTTP/1.1\" 200 46887\n",
      "2020-02-18 09:55:45 [scrapy.core.engine] DEBUG: Crawled (200) <GET https://www.bain.com/insights/solving-the-mystery-of-disappearing-procurement-savings/> (referer: None)\n",
      "2020-02-18 09:55:45 [urllib3.connectionpool] DEBUG: Starting new HTTPS connection (1): www.bain.com:443\n"
     ]
    },
    {
     "name": "stdout",
     "output_type": "stream",
     "text": [
      "https://www.bain.com/insights/who-watched-the-oscars/\n"
     ]
    },
    {
     "name": "stderr",
     "output_type": "stream",
     "text": [
      "2020-02-18 09:55:46 [urllib3.connectionpool] DEBUG: https://www.bain.com:443 \"GET /insights/who-watched-the-oscars/ HTTP/1.1\" 200 44724\n",
      "2020-02-18 09:55:46 [urllib3.connectionpool] DEBUG: Starting new HTTPS connection (1): www.bain.com:443\n"
     ]
    },
    {
     "name": "stdout",
     "output_type": "stream",
     "text": [
      "https://www.bain.com/insights/dynamic-pricing-building-an-advantage-in-b2b-sales/\n"
     ]
    },
    {
     "name": "stderr",
     "output_type": "stream",
     "text": [
      "2020-02-18 09:55:48 [urllib3.connectionpool] DEBUG: https://www.bain.com:443 \"GET /insights/dynamic-pricing-building-an-advantage-in-b2b-sales/ HTTP/1.1\" 200 46678\n",
      "2020-02-18 09:55:48 [scrapy.core.engine] DEBUG: Crawled (200) <GET https://www.bain.com/insights/is-your-sales-organization-ready-for-the-next-recession/> (referer: None)\n",
      "2020-02-18 09:55:48 [scrapy.core.engine] DEBUG: Crawled (200) <GET https://www.bain.com/insights/ai-super-bowl-brand-exposure/> (referer: None)\n",
      "2020-02-18 09:55:48 [urllib3.connectionpool] DEBUG: Starting new HTTPS connection (1): www.bain.com:443\n"
     ]
    },
    {
     "name": "stdout",
     "output_type": "stream",
     "text": [
      "https://www.bain.com/insights/solving-the-mystery-of-disappearing-procurement-savings/\n"
     ]
    },
    {
     "name": "stderr",
     "output_type": "stream",
     "text": [
      "2020-02-18 09:55:50 [urllib3.connectionpool] DEBUG: https://www.bain.com:443 \"GET /insights/solving-the-mystery-of-disappearing-procurement-savings/ HTTP/1.1\" 200 38214\n",
      "2020-02-18 09:55:50 [scrapy.core.engine] DEBUG: Crawled (200) <GET https://www.bain.com/insights/digital-transformation-for-utilities-more-tortoise-less-hare/> (referer: None)\n",
      "2020-02-18 09:55:50 [urllib3.connectionpool] DEBUG: Starting new HTTPS connection (1): www.bain.com:443\n"
     ]
    },
    {
     "name": "stdout",
     "output_type": "stream",
     "text": [
      "https://www.bain.com/insights/is-your-sales-organization-ready-for-the-next-recession/\n"
     ]
    },
    {
     "name": "stderr",
     "output_type": "stream",
     "text": [
      "2020-02-18 09:55:51 [urllib3.connectionpool] DEBUG: https://www.bain.com:443 \"GET /insights/is-your-sales-organization-ready-for-the-next-recession/ HTTP/1.1\" 200 48451\n",
      "2020-02-18 09:55:51 [urllib3.connectionpool] DEBUG: Starting new HTTPS connection (1): www.bain.com:443\n"
     ]
    },
    {
     "name": "stdout",
     "output_type": "stream",
     "text": [
      "https://www.bain.com/insights/ai-super-bowl-brand-exposure/\n"
     ]
    },
    {
     "name": "stderr",
     "output_type": "stream",
     "text": [
      "2020-02-18 09:55:53 [urllib3.connectionpool] DEBUG: https://www.bain.com:443 \"GET /insights/ai-super-bowl-brand-exposure/ HTTP/1.1\" 200 42690\n",
      "2020-02-18 09:55:53 [scrapy.core.engine] DEBUG: Crawled (200) <GET https://www.bain.com/insights/ai-is-lifting-service-center-performance/> (referer: None)\n",
      "2020-02-18 09:55:53 [scrapy.core.engine] DEBUG: Crawled (200) <GET https://www.bain.com/insights/corporate-legal-eagles-start-to-embrace-artificial-intelligence/> (referer: None)\n",
      "2020-02-18 09:55:53 [scrapy.core.engine] DEBUG: Crawled (200) <GET https://www.bain.com/insights/simple-and-digital-is-calling-will-telcos-answer/> (referer: None)\n",
      "2020-02-18 09:55:53 [urllib3.connectionpool] DEBUG: Starting new HTTPS connection (1): www.bain.com:443\n"
     ]
    },
    {
     "name": "stdout",
     "output_type": "stream",
     "text": [
      "https://www.bain.com/insights/digital-transformation-for-utilities-more-tortoise-less-hare/\n"
     ]
    },
    {
     "name": "stderr",
     "output_type": "stream",
     "text": [
      "2020-02-18 09:55:54 [urllib3.connectionpool] DEBUG: https://www.bain.com:443 \"GET /insights/digital-transformation-for-utilities-more-tortoise-less-hare/ HTTP/1.1\" 200 45272\n",
      "2020-02-18 09:55:54 [scrapy.core.engine] DEBUG: Crawled (200) <GET https://www.bain.com/insights/scaling-your-digital-transformation/> (referer: None)\n",
      "2020-02-18 09:55:54 [urllib3.connectionpool] DEBUG: Starting new HTTPS connection (1): www.bain.com:443\n"
     ]
    },
    {
     "name": "stdout",
     "output_type": "stream",
     "text": [
      "https://www.bain.com/insights/ai-is-lifting-service-center-performance/\n"
     ]
    },
    {
     "name": "stderr",
     "output_type": "stream",
     "text": [
      "2020-02-18 09:55:56 [urllib3.connectionpool] DEBUG: https://www.bain.com:443 \"GET /insights/ai-is-lifting-service-center-performance/ HTTP/1.1\" 200 46082\n",
      "2020-02-18 09:55:56 [urllib3.connectionpool] DEBUG: Starting new HTTPS connection (1): www.bain.com:443\n"
     ]
    },
    {
     "name": "stdout",
     "output_type": "stream",
     "text": [
      "https://www.bain.com/insights/corporate-legal-eagles-start-to-embrace-artificial-intelligence/\n"
     ]
    },
    {
     "name": "stderr",
     "output_type": "stream",
     "text": [
      "2020-02-18 09:55:57 [urllib3.connectionpool] DEBUG: https://www.bain.com:443 \"GET /insights/corporate-legal-eagles-start-to-embrace-artificial-intelligence/ HTTP/1.1\" 200 44324\n",
      "2020-02-18 09:55:57 [urllib3.connectionpool] DEBUG: Starting new HTTPS connection (1): www.bain.com:443\n"
     ]
    },
    {
     "name": "stdout",
     "output_type": "stream",
     "text": [
      "https://www.bain.com/insights/simple-and-digital-is-calling-will-telcos-answer/\n"
     ]
    },
    {
     "name": "stderr",
     "output_type": "stream",
     "text": [
      "2020-02-18 09:55:59 [urllib3.connectionpool] DEBUG: https://www.bain.com:443 \"GET /insights/simple-and-digital-is-calling-will-telcos-answer/ HTTP/1.1\" 200 47644\n",
      "2020-02-18 09:55:59 [scrapy.core.engine] DEBUG: Crawled (200) <GET https://www.bain.com/insights/strategies-for-china-s-increasingly-competitive-chemicals-market/> (referer: None)\n",
      "2020-02-18 09:55:59 [scrapy.core.engine] DEBUG: Crawled (200) <GET https://www.bain.com/insights/retail-holiday-newsletter-2018-issue-5-holiday-recap-and-technology-trends-2019/> (referer: None)\n",
      "2020-02-18 09:55:59 [scrapy.core.engine] DEBUG: Crawled (200) <GET https://www.bain.com/insights/solving-the-new-equation-for-advanced-analytics-talent/> (referer: None)\n",
      "2020-02-18 09:55:59 [urllib3.connectionpool] DEBUG: Starting new HTTPS connection (1): www.bain.com:443\n"
     ]
    },
    {
     "name": "stdout",
     "output_type": "stream",
     "text": [
      "https://www.bain.com/insights/scaling-your-digital-transformation/\n"
     ]
    },
    {
     "name": "stderr",
     "output_type": "stream",
     "text": [
      "2020-02-18 09:56:00 [urllib3.connectionpool] DEBUG: https://www.bain.com:443 \"GET /insights/scaling-your-digital-transformation/ HTTP/1.1\" 200 56377\n",
      "2020-02-18 09:56:00 [scrapy.core.engine] DEBUG: Crawled (200) <GET https://www.bain.com/insights/how-brands-can-navigate-turbulence-with-a-disruption-radar/> (referer: None)\n",
      "2020-02-18 09:56:00 [scrapy.core.engine] DEBUG: Crawled (200) <GET https://www.bain.com/insights/the-brave-new-world-of-wireless-shopping-livemint/> (referer: None)\n",
      "2020-02-18 09:56:00 [urllib3.connectionpool] DEBUG: Starting new HTTPS connection (1): www.bain.com:443\n"
     ]
    },
    {
     "name": "stdout",
     "output_type": "stream",
     "text": [
      "https://www.bain.com/insights/strategies-for-china-s-increasingly-competitive-chemicals-market/\n"
     ]
    },
    {
     "name": "stderr",
     "output_type": "stream",
     "text": [
      "2020-02-18 09:56:02 [urllib3.connectionpool] DEBUG: https://www.bain.com:443 \"GET /insights/strategies-for-china-s-increasingly-competitive-chemicals-market/ HTTP/1.1\" 200 46199\n",
      "2020-02-18 09:56:02 [urllib3.connectionpool] DEBUG: Starting new HTTPS connection (1): www.bain.com:443\n"
     ]
    },
    {
     "name": "stdout",
     "output_type": "stream",
     "text": [
      "https://www.bain.com/insights/retail-holiday-newsletter-2018-issue-5-holiday-recap-and-technology-trends-2019/\n"
     ]
    },
    {
     "name": "stderr",
     "output_type": "stream",
     "text": [
      "2020-02-18 09:56:03 [urllib3.connectionpool] DEBUG: https://www.bain.com:443 \"GET /insights/retail-holiday-newsletter-2018-issue-5-holiday-recap-and-technology-trends-2019/ HTTP/1.1\" 200 58679\n",
      "2020-02-18 09:56:03 [urllib3.connectionpool] DEBUG: Starting new HTTPS connection (1): www.bain.com:443\n"
     ]
    },
    {
     "name": "stdout",
     "output_type": "stream",
     "text": [
      "https://www.bain.com/insights/solving-the-new-equation-for-advanced-analytics-talent/\n"
     ]
    },
    {
     "name": "stderr",
     "output_type": "stream",
     "text": [
      "2020-02-18 09:56:04 [urllib3.connectionpool] DEBUG: https://www.bain.com:443 \"GET /insights/solving-the-new-equation-for-advanced-analytics-talent/ HTTP/1.1\" 200 43398\n",
      "2020-02-18 09:56:05 [scrapy.core.engine] DEBUG: Crawled (200) <GET https://www.bain.com/insights/europeans-extend-their-lead-in-the-industrial-internet-of-things/> (referer: None)\n",
      "2020-02-18 09:56:05 [scrapy.core.engine] DEBUG: Crawled (200) <GET https://www.bain.com/insights/what-sales-teams-should-do-to-prepare-for-the-next-recession-hbr/> (referer: None)\n",
      "2020-02-18 09:56:05 [urllib3.connectionpool] DEBUG: Starting new HTTPS connection (1): www.bain.com:443\n"
     ]
    },
    {
     "name": "stdout",
     "output_type": "stream",
     "text": [
      "https://www.bain.com/insights/how-brands-can-navigate-turbulence-with-a-disruption-radar/\n"
     ]
    },
    {
     "name": "stderr",
     "output_type": "stream",
     "text": [
      "2020-02-18 09:56:06 [urllib3.connectionpool] DEBUG: https://www.bain.com:443 \"GET /insights/how-brands-can-navigate-turbulence-with-a-disruption-radar/ HTTP/1.1\" 200 51524\n",
      "2020-02-18 09:56:06 [urllib3.connectionpool] DEBUG: Starting new HTTPS connection (1): www.bain.com:443\n"
     ]
    },
    {
     "name": "stdout",
     "output_type": "stream",
     "text": [
      "https://www.bain.com/insights/the-brave-new-world-of-wireless-shopping-livemint/\n"
     ]
    },
    {
     "name": "stderr",
     "output_type": "stream",
     "text": [
      "2020-02-18 09:56:07 [urllib3.connectionpool] DEBUG: https://www.bain.com:443 \"GET /insights/the-brave-new-world-of-wireless-shopping-livemint/ HTTP/1.1\" 200 37321\n",
      "2020-02-18 09:56:07 [scrapy.core.engine] DEBUG: Crawled (200) <GET https://www.bain.com/insights/personal-4.0/> (referer: None)\n",
      "2020-02-18 09:56:07 [scrapy.core.engine] DEBUG: Crawled (200) <GET https://www.bain.com/insights/is-your-supply-chain-ready-for-alexa-artificial-intelligence-autonomous-vehicles/> (referer: None)\n",
      "2020-02-18 09:56:07 [urllib3.connectionpool] DEBUG: Starting new HTTPS connection (1): www.bain.com:443\n"
     ]
    },
    {
     "name": "stdout",
     "output_type": "stream",
     "text": [
      "https://www.bain.com/insights/europeans-extend-their-lead-in-the-industrial-internet-of-things/\n"
     ]
    },
    {
     "name": "stderr",
     "output_type": "stream",
     "text": [
      "2020-02-18 09:56:09 [urllib3.connectionpool] DEBUG: https://www.bain.com:443 \"GET /insights/europeans-extend-their-lead-in-the-industrial-internet-of-things/ HTTP/1.1\" 200 41898\n",
      "2020-02-18 09:56:09 [urllib3.connectionpool] DEBUG: Starting new HTTPS connection (1): www.bain.com:443\n"
     ]
    },
    {
     "name": "stdout",
     "output_type": "stream",
     "text": [
      "https://www.bain.com/insights/what-sales-teams-should-do-to-prepare-for-the-next-recession-hbr/\n"
     ]
    },
    {
     "name": "stderr",
     "output_type": "stream",
     "text": [
      "2020-02-18 09:56:10 [urllib3.connectionpool] DEBUG: https://www.bain.com:443 \"GET /insights/what-sales-teams-should-do-to-prepare-for-the-next-recession-hbr/ HTTP/1.1\" 200 41525\n",
      "2020-02-18 09:56:10 [scrapy.core.engine] DEBUG: Crawled (200) <GET https://www.bain.com/insights/digital-procurement-the-benefits-go-far-beyond-efficiency/> (referer: None)\n",
      "2020-02-18 09:56:10 [scrapy.core.engine] DEBUG: Crawled (200) <GET https://www.bain.com/insights/reimagining-the-digital-branch-of-the-future-lets-get-practical/> (referer: None)\n",
      "2020-02-18 09:56:10 [urllib3.connectionpool] DEBUG: Starting new HTTPS connection (1): www.bain.com:443\n"
     ]
    },
    {
     "name": "stdout",
     "output_type": "stream",
     "text": [
      "https://www.bain.com/insights/personal-4.0/\n"
     ]
    },
    {
     "name": "stderr",
     "output_type": "stream",
     "text": [
      "2020-02-18 09:56:12 [urllib3.connectionpool] DEBUG: https://www.bain.com:443 \"GET /insights/personal-4.0/ HTTP/1.1\" 200 36418\n",
      "2020-02-18 09:56:12 [urllib3.connectionpool] DEBUG: Starting new HTTPS connection (1): www.bain.com:443\n"
     ]
    },
    {
     "name": "stdout",
     "output_type": "stream",
     "text": [
      "https://www.bain.com/insights/is-your-supply-chain-ready-for-alexa-artificial-intelligence-autonomous-vehicles/\n"
     ]
    },
    {
     "name": "stderr",
     "output_type": "stream",
     "text": [
      "2020-02-18 09:56:13 [urllib3.connectionpool] DEBUG: https://www.bain.com:443 \"GET /insights/is-your-supply-chain-ready-for-alexa-artificial-intelligence-autonomous-vehicles/ HTTP/1.1\" 200 46120\n",
      "2020-02-18 09:56:13 [scrapy.core.engine] DEBUG: Crawled (200) <GET https://www.bain.com/insights/great-ecommerce-illusion/> (referer: None)\n",
      "2020-02-18 09:56:13 [scrapy.core.engine] DEBUG: Crawled (200) <GET https://www.bain.com/insights/hrs-new-digital-mandate/> (referer: None)\n",
      "2020-02-18 09:56:13 [urllib3.connectionpool] DEBUG: Starting new HTTPS connection (1): www.bain.com:443\n"
     ]
    },
    {
     "name": "stdout",
     "output_type": "stream",
     "text": [
      "https://www.bain.com/insights/digital-procurement-the-benefits-go-far-beyond-efficiency/\n"
     ]
    },
    {
     "name": "stderr",
     "output_type": "stream",
     "text": [
      "2020-02-18 09:56:14 [urllib3.connectionpool] DEBUG: https://www.bain.com:443 \"GET /insights/digital-procurement-the-benefits-go-far-beyond-efficiency/ HTTP/1.1\" 200 51675\n",
      "2020-02-18 09:56:14 [urllib3.connectionpool] DEBUG: Starting new HTTPS connection (1): www.bain.com:443\n"
     ]
    },
    {
     "name": "stdout",
     "output_type": "stream",
     "text": [
      "https://www.bain.com/insights/reimagining-the-digital-branch-of-the-future-lets-get-practical/\n"
     ]
    },
    {
     "name": "stderr",
     "output_type": "stream",
     "text": [
      "2020-02-18 09:56:17 [urllib3.connectionpool] DEBUG: https://www.bain.com:443 \"GET /insights/reimagining-the-digital-branch-of-the-future-lets-get-practical/ HTTP/1.1\" 200 46355\n",
      "2020-02-18 09:56:17 [scrapy.core.engine] DEBUG: Crawled (200) <GET https://www.bain.com/insights/trade-tech-world-economic-forum/> (referer: None)\n",
      "2020-02-18 09:56:17 [scrapy.core.engine] DEBUG: Crawled (200) <GET https://www.bain.com/insights/transforming-business-for-a-sustainable-economy/> (referer: None)\n",
      "2020-02-18 09:56:17 [scrapy.core.engine] DEBUG: Crawled (200) <GET https://www.bain.com/insights/the-art-of-battling-telecom-goliaths/> (referer: None)\n",
      "2020-02-18 09:56:17 [urllib3.connectionpool] DEBUG: Starting new HTTPS connection (1): www.bain.com:443\n"
     ]
    },
    {
     "name": "stdout",
     "output_type": "stream",
     "text": [
      "https://www.bain.com/insights/great-ecommerce-illusion/\n"
     ]
    },
    {
     "name": "stderr",
     "output_type": "stream",
     "text": [
      "2020-02-18 09:56:18 [urllib3.connectionpool] DEBUG: https://www.bain.com:443 \"GET /insights/great-ecommerce-illusion/ HTTP/1.1\" 200 48861\n",
      "2020-02-18 09:56:18 [urllib3.connectionpool] DEBUG: Starting new HTTPS connection (1): www.bain.com:443\n"
     ]
    },
    {
     "name": "stdout",
     "output_type": "stream",
     "text": [
      "https://www.bain.com/insights/hrs-new-digital-mandate/\n"
     ]
    },
    {
     "name": "stderr",
     "output_type": "stream",
     "text": [
      "2020-02-18 09:56:19 [urllib3.connectionpool] DEBUG: https://www.bain.com:443 \"GET /insights/hrs-new-digital-mandate/ HTTP/1.1\" 200 47977\n",
      "2020-02-18 09:56:20 [scrapy.core.engine] DEBUG: Crawled (200) <GET https://www.bain.com/insights/using-the-next-recession-to-change-the-game/> (referer: None)\n",
      "2020-02-18 09:56:20 [scrapy.core.engine] DEBUG: Crawled (200) <GET https://www.bain.com/insights/rethinking-how-finance-uses-digital-tools/> (referer: None)\n",
      "2020-02-18 09:56:20 [urllib3.connectionpool] DEBUG: Starting new HTTPS connection (1): www.bain.com:443\n"
     ]
    },
    {
     "name": "stdout",
     "output_type": "stream",
     "text": [
      "https://www.bain.com/insights/trade-tech-world-economic-forum/\n"
     ]
    },
    {
     "name": "stderr",
     "output_type": "stream",
     "text": [
      "2020-02-18 09:56:21 [urllib3.connectionpool] DEBUG: https://www.bain.com:443 \"GET /insights/trade-tech-world-economic-forum/ HTTP/1.1\" 200 37655\n",
      "2020-02-18 09:56:21 [urllib3.connectionpool] DEBUG: Starting new HTTPS connection (1): www.bain.com:443\n"
     ]
    },
    {
     "name": "stdout",
     "output_type": "stream",
     "text": [
      "https://www.bain.com/insights/transforming-business-for-a-sustainable-economy/\n"
     ]
    },
    {
     "name": "stderr",
     "output_type": "stream",
     "text": [
      "2020-02-18 09:56:22 [urllib3.connectionpool] DEBUG: https://www.bain.com:443 \"GET /insights/transforming-business-for-a-sustainable-economy/ HTTP/1.1\" 200 52425\n",
      "2020-02-18 09:56:22 [urllib3.connectionpool] DEBUG: Starting new HTTPS connection (1): www.bain.com:443\n"
     ]
    },
    {
     "name": "stdout",
     "output_type": "stream",
     "text": [
      "https://www.bain.com/insights/the-art-of-battling-telecom-goliaths/\n"
     ]
    },
    {
     "name": "stderr",
     "output_type": "stream",
     "text": [
      "2020-02-18 09:56:24 [urllib3.connectionpool] DEBUG: https://www.bain.com:443 \"GET /insights/the-art-of-battling-telecom-goliaths/ HTTP/1.1\" 200 44093\n",
      "2020-02-18 09:56:24 [scrapy.core.engine] DEBUG: Crawled (200) <GET https://www.bain.com/insights/the-secret-to-b2b-pricing-in-a-digital-world/> (referer: None)\n",
      "2020-02-18 09:56:24 [urllib3.connectionpool] DEBUG: Starting new HTTPS connection (1): www.bain.com:443\n"
     ]
    },
    {
     "name": "stdout",
     "output_type": "stream",
     "text": [
      "https://www.bain.com/insights/using-the-next-recession-to-change-the-game/\n"
     ]
    },
    {
     "name": "stderr",
     "output_type": "stream",
     "text": [
      "2020-02-18 09:56:26 [urllib3.connectionpool] DEBUG: https://www.bain.com:443 \"GET /insights/using-the-next-recession-to-change-the-game/ HTTP/1.1\" 200 42032\n",
      "2020-02-18 09:56:26 [urllib3.connectionpool] DEBUG: Starting new HTTPS connection (1): www.bain.com:443\n"
     ]
    },
    {
     "name": "stdout",
     "output_type": "stream",
     "text": [
      "https://www.bain.com/insights/rethinking-how-finance-uses-digital-tools/\n"
     ]
    },
    {
     "name": "stderr",
     "output_type": "stream",
     "text": [
      "2020-02-18 09:56:28 [urllib3.connectionpool] DEBUG: https://www.bain.com:443 \"GET /insights/rethinking-how-finance-uses-digital-tools/ HTTP/1.1\" 200 47805\n",
      "2020-02-18 09:56:28 [scrapy.core.engine] DEBUG: Crawled (200) <GET https://www.bain.com/insights/customer-experience-tools-and-trends-2018/> (referer: None)\n",
      "2020-02-18 09:56:28 [urllib3.connectionpool] DEBUG: Starting new HTTPS connection (1): www.bain.com:443\n"
     ]
    },
    {
     "name": "stdout",
     "output_type": "stream",
     "text": [
      "https://www.bain.com/insights/the-secret-to-b2b-pricing-in-a-digital-world/\n"
     ]
    },
    {
     "name": "stderr",
     "output_type": "stream",
     "text": [
      "2020-02-18 09:56:29 [urllib3.connectionpool] DEBUG: https://www.bain.com:443 \"GET /insights/the-secret-to-b2b-pricing-in-a-digital-world/ HTTP/1.1\" 200 43072\n",
      "2020-02-18 09:56:29 [scrapy.core.engine] DEBUG: Crawled (200) <GET https://www.bain.com/insights/a-profile-of-the-scaling-community-phase-one-fm-blog/> (referer: None)\n",
      "2020-02-18 09:56:29 [urllib3.connectionpool] DEBUG: Starting new HTTPS connection (1): www.bain.com:443\n"
     ]
    },
    {
     "name": "stdout",
     "output_type": "stream",
     "text": [
      "https://www.bain.com/insights/customer-experience-tools-and-trends-2018/\n"
     ]
    },
    {
     "name": "stderr",
     "output_type": "stream",
     "text": [
      "2020-02-18 09:56:30 [urllib3.connectionpool] DEBUG: https://www.bain.com:443 \"GET /insights/customer-experience-tools-and-trends-2018/ HTTP/1.1\" 200 61870\n",
      "2020-02-18 09:56:30 [scrapy.core.engine] DEBUG: Crawled (200) <GET https://www.bain.com/insights/dont-forget-about-existing-technologies-cfo/> (referer: None)\n",
      "2020-02-18 09:56:30 [urllib3.connectionpool] DEBUG: Starting new HTTPS connection (1): www.bain.com:443\n"
     ]
    },
    {
     "name": "stdout",
     "output_type": "stream",
     "text": [
      "https://www.bain.com/insights/a-profile-of-the-scaling-community-phase-one-fm-blog/\n"
     ]
    },
    {
     "name": "stderr",
     "output_type": "stream",
     "text": [
      "2020-02-18 09:56:32 [urllib3.connectionpool] DEBUG: https://www.bain.com:443 \"GET /insights/a-profile-of-the-scaling-community-phase-one-fm-blog/ HTTP/1.1\" 200 34664\n",
      "2020-02-18 09:56:32 [scrapy.core.engine] DEBUG: Crawled (200) <GET https://www.bain.com/insights/consumption-in-china-ten-trends-for-the-next-ten-years/> (referer: None)\n",
      "2020-02-18 09:56:32 [urllib3.connectionpool] DEBUG: Starting new HTTPS connection (1): www.bain.com:443\n"
     ]
    },
    {
     "name": "stdout",
     "output_type": "stream",
     "text": [
      "https://www.bain.com/insights/dont-forget-about-existing-technologies-cfo/\n"
     ]
    },
    {
     "name": "stderr",
     "output_type": "stream",
     "text": [
      "2020-02-18 09:56:33 [urllib3.connectionpool] DEBUG: https://www.bain.com:443 \"GET /insights/dont-forget-about-existing-technologies-cfo/ HTTP/1.1\" 200 38739\n",
      "2020-02-18 09:56:33 [scrapy.core.engine] DEBUG: Crawled (200) <GET https://www.bain.com/insights/is-pricing-killing-your-profits/> (referer: None)\n",
      "2020-02-18 09:56:33 [urllib3.connectionpool] DEBUG: Starting new HTTPS connection (1): www.bain.com:443\n"
     ]
    },
    {
     "name": "stdout",
     "output_type": "stream",
     "text": [
      "https://www.bain.com/insights/consumption-in-china-ten-trends-for-the-next-ten-years/\n"
     ]
    },
    {
     "name": "stderr",
     "output_type": "stream",
     "text": [
      "2020-02-18 09:56:34 [urllib3.connectionpool] DEBUG: https://www.bain.com:443 \"GET /insights/consumption-in-china-ten-trends-for-the-next-ten-years/ HTTP/1.1\" 200 52564\n",
      "2020-02-18 09:56:34 [scrapy.extensions.logstats] INFO: Crawled 78 pages (at 40 pages/min), scraped 0 items (at 0 items/min)\n",
      "2020-02-18 09:56:34 [scrapy.core.engine] DEBUG: Crawled (200) <GET https://www.bain.com/insights/breakthrough-design-for-a-better-customer-experience-and-better-economics/> (referer: None)\n",
      "2020-02-18 09:56:34 [urllib3.connectionpool] DEBUG: Starting new HTTPS connection (1): www.bain.com:443\n"
     ]
    },
    {
     "name": "stdout",
     "output_type": "stream",
     "text": [
      "https://www.bain.com/insights/is-pricing-killing-your-profits/\n"
     ]
    },
    {
     "name": "stderr",
     "output_type": "stream",
     "text": [
      "2020-02-18 09:56:36 [urllib3.connectionpool] DEBUG: https://www.bain.com:443 \"GET /insights/is-pricing-killing-your-profits/ HTTP/1.1\" 200 41825\n",
      "2020-02-18 09:56:36 [scrapy.core.engine] DEBUG: Crawled (200) <GET https://www.bain.com/insights/the-cure-for-ai-fever/> (referer: None)\n",
      "2020-02-18 09:56:36 [urllib3.connectionpool] DEBUG: Starting new HTTPS connection (1): www.bain.com:443\n"
     ]
    },
    {
     "name": "stdout",
     "output_type": "stream",
     "text": [
      "https://www.bain.com/insights/breakthrough-design-for-a-better-customer-experience-and-better-economics/\n"
     ]
    },
    {
     "name": "stderr",
     "output_type": "stream",
     "text": [
      "2020-02-18 09:56:37 [urllib3.connectionpool] DEBUG: https://www.bain.com:443 \"GET /insights/breakthrough-design-for-a-better-customer-experience-and-better-economics/ HTTP/1.1\" 200 42877\n",
      "2020-02-18 09:56:37 [scrapy.core.engine] DEBUG: Crawled (200) <GET https://www.bain.com/insights/a-survey-of-1700-companies-reveals-common-b2b-pricing-mistakes-hbr/> (referer: None)\n",
      "2020-02-18 09:56:37 [urllib3.connectionpool] DEBUG: Starting new HTTPS connection (1): www.bain.com:443\n"
     ]
    },
    {
     "name": "stdout",
     "output_type": "stream",
     "text": [
      "https://www.bain.com/insights/the-cure-for-ai-fever/\n"
     ]
    },
    {
     "name": "stderr",
     "output_type": "stream",
     "text": [
      "2020-02-18 09:56:39 [urllib3.connectionpool] DEBUG: https://www.bain.com:443 \"GET /insights/the-cure-for-ai-fever/ HTTP/1.1\" 200 42234\n",
      "2020-02-18 09:56:39 [scrapy.core.engine] DEBUG: Crawled (200) <GET https://www.bain.com/insights/how-insurgent-brands-are-rewriting-the-growth-playbook/> (referer: None)\n",
      "2020-02-18 09:56:39 [urllib3.connectionpool] DEBUG: Starting new HTTPS connection (1): www.bain.com:443\n"
     ]
    },
    {
     "name": "stdout",
     "output_type": "stream",
     "text": [
      "https://www.bain.com/insights/a-survey-of-1700-companies-reveals-common-b2b-pricing-mistakes-hbr/\n"
     ]
    },
    {
     "name": "stderr",
     "output_type": "stream",
     "text": [
      "2020-02-18 09:56:40 [urllib3.connectionpool] DEBUG: https://www.bain.com:443 \"GET /insights/a-survey-of-1700-companies-reveals-common-b2b-pricing-mistakes-hbr/ HTTP/1.1\" 200 40261\n",
      "2020-02-18 09:56:40 [scrapy.core.engine] DEBUG: Crawled (200) <GET https://www.bain.com/insights/disruption-ahead-for-transaction-banking/> (referer: None)\n",
      "2020-02-18 09:56:40 [urllib3.connectionpool] DEBUG: Starting new HTTPS connection (1): www.bain.com:443\n"
     ]
    },
    {
     "name": "stdout",
     "output_type": "stream",
     "text": [
      "https://www.bain.com/insights/how-insurgent-brands-are-rewriting-the-growth-playbook/\n"
     ]
    },
    {
     "name": "stderr",
     "output_type": "stream",
     "text": [
      "2020-02-18 09:56:42 [urllib3.connectionpool] DEBUG: https://www.bain.com:443 \"GET /insights/how-insurgent-brands-are-rewriting-the-growth-playbook/ HTTP/1.1\" 200 45452\n",
      "2020-02-18 09:56:42 [scrapy.core.engine] DEBUG: Crawled (200) <GET https://www.bain.com/insights/designing-the-journey-how-to-tailor-to-context-fm-blog/> (referer: None)\n",
      "2020-02-18 09:56:42 [urllib3.connectionpool] DEBUG: Starting new HTTPS connection (1): www.bain.com:443\n"
     ]
    },
    {
     "name": "stdout",
     "output_type": "stream",
     "text": [
      "https://www.bain.com/insights/disruption-ahead-for-transaction-banking/\n"
     ]
    },
    {
     "name": "stderr",
     "output_type": "stream",
     "text": [
      "2020-02-18 09:56:43 [urllib3.connectionpool] DEBUG: https://www.bain.com:443 \"GET /insights/disruption-ahead-for-transaction-banking/ HTTP/1.1\" 200 43608\n",
      "2020-02-18 09:56:44 [scrapy.core.engine] DEBUG: Crawled (200) <GET https://www.bain.com/insights/electric-cars-could-recharge-growth-for-utilities/> (referer: None)\n",
      "2020-02-18 09:56:44 [urllib3.connectionpool] DEBUG: Starting new HTTPS connection (1): www.bain.com:443\n"
     ]
    },
    {
     "name": "stdout",
     "output_type": "stream",
     "text": [
      "https://www.bain.com/insights/designing-the-journey-how-to-tailor-to-context-fm-blog/\n"
     ]
    },
    {
     "name": "stderr",
     "output_type": "stream",
     "text": [
      "2020-02-18 09:56:45 [urllib3.connectionpool] DEBUG: https://www.bain.com:443 \"GET /insights/designing-the-journey-how-to-tailor-to-context-fm-blog/ HTTP/1.1\" 200 34090\n",
      "2020-02-18 09:56:45 [urllib3.connectionpool] DEBUG: Starting new HTTPS connection (1): www.bain.com:443\n"
     ]
    },
    {
     "name": "stdout",
     "output_type": "stream",
     "text": [
      "https://www.bain.com/insights/electric-cars-could-recharge-growth-for-utilities/\n"
     ]
    },
    {
     "name": "stderr",
     "output_type": "stream",
     "text": [
      "2020-02-18 09:56:46 [urllib3.connectionpool] DEBUG: https://www.bain.com:443 \"GET /insights/electric-cars-could-recharge-growth-for-utilities/ HTTP/1.1\" 200 42489\n",
      "2020-02-18 09:56:46 [scrapy.core.engine] DEBUG: Crawled (200) <GET https://www.bain.com/insights/tackling-ais-unintended-consequences/> (referer: None)\n",
      "2020-02-18 09:56:46 [scrapy.core.engine] DEBUG: Crawled (200) <GET https://www.bain.com/insights/management-tools-and-trends-2017/> (referer: None)\n",
      "2020-02-18 09:56:47 [urllib3.connectionpool] DEBUG: Starting new HTTPS connection (1): www.bain.com:443\n"
     ]
    },
    {
     "name": "stdout",
     "output_type": "stream",
     "text": [
      "https://www.bain.com/insights/tackling-ais-unintended-consequences/\n"
     ]
    },
    {
     "name": "stderr",
     "output_type": "stream",
     "text": [
      "2020-02-18 09:56:48 [urllib3.connectionpool] DEBUG: https://www.bain.com:443 \"GET /insights/tackling-ais-unintended-consequences/ HTTP/1.1\" 200 41225\n",
      "2020-02-18 09:56:48 [scrapy.core.engine] DEBUG: Crawled (200) <GET https://www.bain.com/insights/management-tools-advanced-analytics/> (referer: None)\n",
      "2020-02-18 09:56:48 [urllib3.connectionpool] DEBUG: Starting new HTTPS connection (1): www.bain.com:443\n"
     ]
    },
    {
     "name": "stdout",
     "output_type": "stream",
     "text": [
      "https://www.bain.com/insights/management-tools-and-trends-2017/\n"
     ]
    },
    {
     "name": "stderr",
     "output_type": "stream",
     "text": [
      "2020-02-18 09:56:50 [urllib3.connectionpool] DEBUG: https://www.bain.com:443 \"GET /insights/management-tools-and-trends-2017/ HTTP/1.1\" 200 48459\n",
      "2020-02-18 09:56:50 [scrapy.core.engine] DEBUG: Crawled (200) <GET https://www.bain.com/insights/how-banks-can-excel-in-financial-crimes-compliance/> (referer: None)\n",
      "2020-02-18 09:56:50 [urllib3.connectionpool] DEBUG: Starting new HTTPS connection (1): www.bain.com:443\n"
     ]
    },
    {
     "name": "stdout",
     "output_type": "stream",
     "text": [
      "https://www.bain.com/insights/management-tools-advanced-analytics/\n"
     ]
    },
    {
     "name": "stderr",
     "output_type": "stream",
     "text": [
      "2020-02-18 09:56:51 [urllib3.connectionpool] DEBUG: https://www.bain.com:443 \"GET /insights/management-tools-advanced-analytics/ HTTP/1.1\" 200 37962\n",
      "2020-02-18 09:56:51 [scrapy.core.engine] DEBUG: Crawled (200) <GET https://www.bain.com/insights/how-local-companies-win-over-chinas-consumers-world-economic-forum/> (referer: None)\n",
      "2020-02-18 09:56:51 [scrapy.core.engine] DEBUG: Crawled (200) <GET https://www.bain.com/insights/a-healthcare-prescription-for-the-gcc/> (referer: None)\n",
      "2020-02-18 09:56:51 [urllib3.connectionpool] DEBUG: Starting new HTTPS connection (1): www.bain.com:443\n"
     ]
    },
    {
     "name": "stdout",
     "output_type": "stream",
     "text": [
      "https://www.bain.com/insights/how-banks-can-excel-in-financial-crimes-compliance/\n"
     ]
    },
    {
     "name": "stderr",
     "output_type": "stream",
     "text": [
      "2020-02-18 09:56:53 [urllib3.connectionpool] DEBUG: https://www.bain.com:443 \"GET /insights/how-banks-can-excel-in-financial-crimes-compliance/ HTTP/1.1\" 200 41525\n",
      "2020-02-18 09:56:53 [scrapy.core.engine] DEBUG: Crawled (200) <GET https://www.bain.com/insights/retail-holiday-newsletter-2017-issue-5/> (referer: None)\n",
      "2020-02-18 09:56:53 [urllib3.connectionpool] DEBUG: Starting new HTTPS connection (1): www.bain.com:443\n"
     ]
    },
    {
     "name": "stdout",
     "output_type": "stream",
     "text": [
      "https://www.bain.com/insights/how-local-companies-win-over-chinas-consumers-world-economic-forum/\n"
     ]
    },
    {
     "name": "stderr",
     "output_type": "stream",
     "text": [
      "2020-02-18 09:56:55 [urllib3.connectionpool] DEBUG: https://www.bain.com:443 \"GET /insights/how-local-companies-win-over-chinas-consumers-world-economic-forum/ HTTP/1.1\" 200 39312\n",
      "2020-02-18 09:56:55 [urllib3.connectionpool] DEBUG: Starting new HTTPS connection (1): www.bain.com:443\n"
     ]
    },
    {
     "name": "stdout",
     "output_type": "stream",
     "text": [
      "https://www.bain.com/insights/a-healthcare-prescription-for-the-gcc/\n"
     ]
    },
    {
     "name": "stderr",
     "output_type": "stream",
     "text": [
      "2020-02-18 09:56:56 [urllib3.connectionpool] DEBUG: https://www.bain.com:443 \"GET /insights/a-healthcare-prescription-for-the-gcc/ HTTP/1.1\" 200 45264\n",
      "2020-02-18 09:56:56 [scrapy.core.engine] DEBUG: Crawled (200) <GET https://www.bain.com/insights/germanys-banks-2017/> (referer: None)\n",
      "2020-02-18 09:56:56 [scrapy.core.engine] DEBUG: Crawled (200) <GET https://www.bain.com/insights/organizing-for-a-digital-world/> (referer: None)\n",
      "2020-02-18 09:56:56 [scrapy.core.engine] DEBUG: Crawled (200) <GET https://www.bain.com/insights/retail-holiday-newsletter-2017-issue-4/> (referer: None)\n",
      "2020-02-18 09:56:56 [urllib3.connectionpool] DEBUG: Starting new HTTPS connection (1): www.bain.com:443\n"
     ]
    },
    {
     "name": "stdout",
     "output_type": "stream",
     "text": [
      "https://www.bain.com/insights/retail-holiday-newsletter-2017-issue-5/\n"
     ]
    },
    {
     "name": "stderr",
     "output_type": "stream",
     "text": [
      "2020-02-18 09:56:58 [urllib3.connectionpool] DEBUG: https://www.bain.com:443 \"GET /insights/retail-holiday-newsletter-2017-issue-5/ HTTP/1.1\" 200 50002\n",
      "2020-02-18 09:56:58 [scrapy.core.engine] DEBUG: Crawled (200) <GET https://www.bain.com/insights/delivering-chinas-new-retail-future/> (referer: None)\n",
      "2020-02-18 09:56:58 [urllib3.connectionpool] DEBUG: Starting new HTTPS connection (1): www.bain.com:443\n"
     ]
    },
    {
     "name": "stdout",
     "output_type": "stream",
     "text": [
      "https://www.bain.com/insights/germanys-banks-2017/\n"
     ]
    },
    {
     "name": "stderr",
     "output_type": "stream",
     "text": [
      "2020-02-18 09:56:59 [urllib3.connectionpool] DEBUG: https://www.bain.com:443 \"GET /insights/germanys-banks-2017/ HTTP/1.1\" 200 37564\n",
      "2020-02-18 09:56:59 [urllib3.connectionpool] DEBUG: Starting new HTTPS connection (1): www.bain.com:443\n"
     ]
    },
    {
     "name": "stdout",
     "output_type": "stream",
     "text": [
      "https://www.bain.com/insights/organizing-for-a-digital-world/\n"
     ]
    },
    {
     "name": "stderr",
     "output_type": "stream",
     "text": [
      "2020-02-18 09:57:01 [urllib3.connectionpool] DEBUG: https://www.bain.com:443 \"GET /insights/organizing-for-a-digital-world/ HTTP/1.1\" 200 46894\n",
      "2020-02-18 09:57:01 [urllib3.connectionpool] DEBUG: Starting new HTTPS connection (1): www.bain.com:443\n"
     ]
    },
    {
     "name": "stdout",
     "output_type": "stream",
     "text": [
      "https://www.bain.com/insights/retail-holiday-newsletter-2017-issue-4/\n"
     ]
    },
    {
     "name": "stderr",
     "output_type": "stream",
     "text": [
      "2020-02-18 09:57:02 [urllib3.connectionpool] DEBUG: https://www.bain.com:443 \"GET /insights/retail-holiday-newsletter-2017-issue-4/ HTTP/1.1\" 200 47931\n",
      "2020-02-18 09:57:02 [scrapy.core.engine] DEBUG: Crawled (200) <GET https://www.bain.com/insights/how-cmos-can-get-and-keep-their-marketing-mix-right/> (referer: None)\n",
      "2020-02-18 09:57:02 [scrapy.core.engine] DEBUG: Crawled (200) <GET https://www.bain.com/insights/how-commercial-excellence-jump-starts-growth-in-private-equity/> (referer: None)\n",
      "2020-02-18 09:57:02 [scrapy.core.engine] DEBUG: Crawled (200) <GET https://www.bain.com/insights/you-know-where-the-future-is-headed/> (referer: None)\n",
      "2020-02-18 09:57:02 [urllib3.connectionpool] DEBUG: Starting new HTTPS connection (1): www.bain.com:443\n"
     ]
    },
    {
     "name": "stdout",
     "output_type": "stream",
     "text": [
      "https://www.bain.com/insights/delivering-chinas-new-retail-future/\n"
     ]
    },
    {
     "name": "stderr",
     "output_type": "stream",
     "text": [
      "2020-02-18 09:57:04 [urllib3.connectionpool] DEBUG: https://www.bain.com:443 \"GET /insights/delivering-chinas-new-retail-future/ HTTP/1.1\" 200 42609\n",
      "2020-02-18 09:57:04 [scrapy.core.engine] DEBUG: Crawled (200) <GET https://www.bain.com/insights/insurers-hold-the-key-to-healthcares-digital-future/> (referer: None)\n",
      "2020-02-18 09:57:04 [scrapy.core.engine] DEBUG: Crawled (200) <GET https://www.bain.com/insights/how-utilities-can-save-their-customers-fifteen-billion-dollars-forbes/> (referer: None)\n",
      "2020-02-18 09:57:04 [urllib3.connectionpool] DEBUG: Starting new HTTPS connection (1): www.bain.com:443\n"
     ]
    },
    {
     "name": "stdout",
     "output_type": "stream",
     "text": [
      "https://www.bain.com/insights/how-cmos-can-get-and-keep-their-marketing-mix-right/\n"
     ]
    },
    {
     "name": "stderr",
     "output_type": "stream",
     "text": [
      "2020-02-18 09:57:05 [urllib3.connectionpool] DEBUG: https://www.bain.com:443 \"GET /insights/how-cmos-can-get-and-keep-their-marketing-mix-right/ HTTP/1.1\" 200 42462\n",
      "2020-02-18 09:57:05 [urllib3.connectionpool] DEBUG: Starting new HTTPS connection (1): www.bain.com:443\n"
     ]
    },
    {
     "name": "stdout",
     "output_type": "stream",
     "text": [
      "https://www.bain.com/insights/how-commercial-excellence-jump-starts-growth-in-private-equity/\n"
     ]
    },
    {
     "name": "stderr",
     "output_type": "stream",
     "text": [
      "2020-02-18 09:57:07 [urllib3.connectionpool] DEBUG: https://www.bain.com:443 \"GET /insights/how-commercial-excellence-jump-starts-growth-in-private-equity/ HTTP/1.1\" 200 46719\n",
      "2020-02-18 09:57:07 [urllib3.connectionpool] DEBUG: Starting new HTTPS connection (1): www.bain.com:443\n"
     ]
    },
    {
     "name": "stdout",
     "output_type": "stream",
     "text": [
      "https://www.bain.com/insights/you-know-where-the-future-is-headed/\n"
     ]
    },
    {
     "name": "stderr",
     "output_type": "stream",
     "text": [
      "2020-02-18 09:57:08 [urllib3.connectionpool] DEBUG: https://www.bain.com:443 \"GET /insights/you-know-where-the-future-is-headed/ HTTP/1.1\" 200 40862\n",
      "2020-02-18 09:57:08 [scrapy.core.engine] DEBUG: Crawled (200) <GET https://www.bain.com/insights/retail-holiday-newsletter-2017-issue-2/> (referer: None)\n",
      "2020-02-18 09:57:08 [scrapy.core.engine] DEBUG: Crawled (200) <GET https://www.bain.com/insights/management-tools-disruptive-innovation-labs/> (referer: None)\n",
      "2020-02-18 09:57:08 [scrapy.core.engine] DEBUG: Crawled (200) <GET https://www.bain.com/insights/orchestrating-a-successful-digital-transformation/> (referer: None)\n",
      "2020-02-18 09:57:08 [urllib3.connectionpool] DEBUG: Starting new HTTPS connection (1): www.bain.com:443\n"
     ]
    },
    {
     "name": "stdout",
     "output_type": "stream",
     "text": [
      "https://www.bain.com/insights/insurers-hold-the-key-to-healthcares-digital-future/\n"
     ]
    },
    {
     "name": "stderr",
     "output_type": "stream",
     "text": [
      "2020-02-18 09:57:10 [urllib3.connectionpool] DEBUG: https://www.bain.com:443 \"GET /insights/insurers-hold-the-key-to-healthcares-digital-future/ HTTP/1.1\" 200 44694\n",
      "2020-02-18 09:57:10 [urllib3.connectionpool] DEBUG: Starting new HTTPS connection (1): www.bain.com:443\n"
     ]
    },
    {
     "name": "stdout",
     "output_type": "stream",
     "text": [
      "https://www.bain.com/insights/how-utilities-can-save-their-customers-fifteen-billion-dollars-forbes/\n"
     ]
    },
    {
     "name": "stderr",
     "output_type": "stream",
     "text": [
      "2020-02-18 09:57:11 [urllib3.connectionpool] DEBUG: https://www.bain.com:443 \"GET /insights/how-utilities-can-save-their-customers-fifteen-billion-dollars-forbes/ HTTP/1.1\" 200 39132\n",
      "2020-02-18 09:57:11 [scrapy.core.engine] DEBUG: Crawled (200) <GET https://www.bain.com/insights/conflict-is-good/> (referer: None)\n",
      "2020-02-18 09:57:11 [scrapy.core.engine] DEBUG: Crawled (200) <GET https://www.bain.com/insights/management-tools-big-data-analytics/> (referer: None)\n",
      "2020-02-18 09:57:11 [urllib3.connectionpool] DEBUG: Starting new HTTPS connection (1): www.bain.com:443\n"
     ]
    },
    {
     "name": "stdout",
     "output_type": "stream",
     "text": [
      "https://www.bain.com/insights/retail-holiday-newsletter-2017-issue-2/\n"
     ]
    },
    {
     "name": "stderr",
     "output_type": "stream",
     "text": [
      "2020-02-18 09:57:13 [urllib3.connectionpool] DEBUG: https://www.bain.com:443 \"GET /insights/retail-holiday-newsletter-2017-issue-2/ HTTP/1.1\" 200 53364\n",
      "2020-02-18 09:57:13 [urllib3.connectionpool] DEBUG: Starting new HTTPS connection (1): www.bain.com:443\n"
     ]
    },
    {
     "name": "stdout",
     "output_type": "stream",
     "text": [
      "https://www.bain.com/insights/management-tools-disruptive-innovation-labs/\n"
     ]
    },
    {
     "name": "stderr",
     "output_type": "stream",
     "text": [
      "2020-02-18 09:57:14 [urllib3.connectionpool] DEBUG: https://www.bain.com:443 \"GET /insights/management-tools-disruptive-innovation-labs/ HTTP/1.1\" 200 37373\n",
      "2020-02-18 09:57:14 [urllib3.connectionpool] DEBUG: Starting new HTTPS connection (1): www.bain.com:443\n"
     ]
    },
    {
     "name": "stdout",
     "output_type": "stream",
     "text": [
      "https://www.bain.com/insights/orchestrating-a-successful-digital-transformation/\n"
     ]
    },
    {
     "name": "stderr",
     "output_type": "stream",
     "text": [
      "2020-02-18 09:57:16 [urllib3.connectionpool] DEBUG: https://www.bain.com:443 \"GET /insights/orchestrating-a-successful-digital-transformation/ HTTP/1.1\" 200 48853\n",
      "2020-02-18 09:57:16 [scrapy.core.engine] DEBUG: Crawled (200) <GET https://www.bain.com/insights/choosing-between-primary-research-in-market-tests/> (referer: None)\n",
      "2020-02-18 09:57:16 [scrapy.core.engine] DEBUG: Crawled (200) <GET https://www.bain.com/insights/losing-market-share-time-to-reinvent-product-management-forbes/> (referer: None)\n",
      "2020-02-18 09:57:16 [scrapy.core.engine] DEBUG: Crawled (200) <GET https://www.bain.com/insights/summary-of-time-talent-and-energy/> (referer: None)\n",
      "2020-02-18 09:57:16 [urllib3.connectionpool] DEBUG: Starting new HTTPS connection (1): www.bain.com:443\n"
     ]
    },
    {
     "name": "stdout",
     "output_type": "stream",
     "text": [
      "https://www.bain.com/insights/conflict-is-good/\n"
     ]
    },
    {
     "name": "stderr",
     "output_type": "stream",
     "text": [
      "2020-02-18 09:57:17 [urllib3.connectionpool] DEBUG: https://www.bain.com:443 \"GET /insights/conflict-is-good/ HTTP/1.1\" 200 38790\n",
      "2020-02-18 09:57:18 [urllib3.connectionpool] DEBUG: Starting new HTTPS connection (1): www.bain.com:443\n"
     ]
    },
    {
     "name": "stdout",
     "output_type": "stream",
     "text": [
      "https://www.bain.com/insights/management-tools-big-data-analytics/\n"
     ]
    },
    {
     "name": "stderr",
     "output_type": "stream",
     "text": [
      "2020-02-18 09:57:19 [urllib3.connectionpool] DEBUG: https://www.bain.com:443 \"GET /insights/management-tools-big-data-analytics/ HTTP/1.1\" 200 36905\n",
      "2020-02-18 09:57:19 [scrapy.core.engine] DEBUG: Crawled (200) <GET https://www.bain.com/insights/retail-holiday-newsletter-2017-issue-3/> (referer: None)\n",
      "2020-02-18 09:57:19 [scrapy.core.engine] DEBUG: Crawled (200) <GET https://www.bain.com/insights/conquering-the-food-challenge-through-agriculture-3/> (referer: None)\n",
      "2020-02-18 09:57:19 [scrapy.core.engine] DEBUG: Crawled (200) <GET https://www.bain.com/insights/upgrading-zero-based-redesign-with-digital-forbes/> (referer: None)\n",
      "2020-02-18 09:57:19 [urllib3.connectionpool] DEBUG: Starting new HTTPS connection (1): www.bain.com:443\n"
     ]
    },
    {
     "name": "stdout",
     "output_type": "stream",
     "text": [
      "https://www.bain.com/insights/choosing-between-primary-research-in-market-tests/\n"
     ]
    },
    {
     "name": "stderr",
     "output_type": "stream",
     "text": [
      "2020-02-18 09:57:20 [urllib3.connectionpool] DEBUG: https://www.bain.com:443 \"GET /insights/choosing-between-primary-research-in-market-tests/ HTTP/1.1\" 200 38780\n",
      "2020-02-18 09:57:20 [urllib3.connectionpool] DEBUG: Starting new HTTPS connection (1): www.bain.com:443\n"
     ]
    },
    {
     "name": "stdout",
     "output_type": "stream",
     "text": [
      "https://www.bain.com/insights/losing-market-share-time-to-reinvent-product-management-forbes/\n"
     ]
    },
    {
     "name": "stderr",
     "output_type": "stream",
     "text": [
      "2020-02-18 09:57:22 [urllib3.connectionpool] DEBUG: https://www.bain.com:443 \"GET /insights/losing-market-share-time-to-reinvent-product-management-forbes/ HTTP/1.1\" 200 38708\n",
      "2020-02-18 09:57:22 [urllib3.connectionpool] DEBUG: Starting new HTTPS connection (1): www.bain.com:443\n"
     ]
    },
    {
     "name": "stdout",
     "output_type": "stream",
     "text": [
      "https://www.bain.com/insights/summary-of-time-talent-and-energy/\n"
     ]
    },
    {
     "name": "stderr",
     "output_type": "stream",
     "text": [
      "2020-02-18 09:57:23 [urllib3.connectionpool] DEBUG: https://www.bain.com:443 \"GET /insights/summary-of-time-talent-and-energy/ HTTP/1.1\" 200 45215\n",
      "2020-02-18 09:57:23 [scrapy.core.engine] DEBUG: Crawled (200) <GET https://www.bain.com/insights/product-management-in-the-age-of-disruption/> (referer: None)\n",
      "2020-02-18 09:57:23 [urllib3.connectionpool] DEBUG: Starting new HTTPS connection (1): www.bain.com:443\n"
     ]
    },
    {
     "name": "stdout",
     "output_type": "stream",
     "text": [
      "https://www.bain.com/insights/retail-holiday-newsletter-2017-issue-3/\n"
     ]
    },
    {
     "name": "stderr",
     "output_type": "stream",
     "text": [
      "2020-02-18 09:57:24 [urllib3.connectionpool] DEBUG: https://www.bain.com:443 \"GET /insights/retail-holiday-newsletter-2017-issue-3/ HTTP/1.1\" 200 50300\n",
      "2020-02-18 09:57:24 [urllib3.connectionpool] DEBUG: Starting new HTTPS connection (1): www.bain.com:443\n"
     ]
    },
    {
     "name": "stdout",
     "output_type": "stream",
     "text": [
      "https://www.bain.com/insights/conquering-the-food-challenge-through-agriculture-3/\n"
     ]
    },
    {
     "name": "stderr",
     "output_type": "stream",
     "text": [
      "2020-02-18 09:57:26 [urllib3.connectionpool] DEBUG: https://www.bain.com:443 \"GET /insights/conquering-the-food-challenge-through-agriculture-3/ HTTP/1.1\" 200 46746\n",
      "2020-02-18 09:57:26 [urllib3.connectionpool] DEBUG: Starting new HTTPS connection (1): www.bain.com:443\n"
     ]
    },
    {
     "name": "stdout",
     "output_type": "stream",
     "text": [
      "https://www.bain.com/insights/upgrading-zero-based-redesign-with-digital-forbes/\n"
     ]
    },
    {
     "name": "stderr",
     "output_type": "stream",
     "text": [
      "2020-02-18 09:57:27 [urllib3.connectionpool] DEBUG: https://www.bain.com:443 \"GET /insights/upgrading-zero-based-redesign-with-digital-forbes/ HTTP/1.1\" 200 38332\n",
      "2020-02-18 09:57:27 [scrapy.core.engine] DEBUG: Crawled (200) <GET https://www.bain.com/insights/how-insurers-can-get-their-customers-to-love-them-forbes/> (referer: None)\n",
      "2020-02-18 09:57:27 [urllib3.connectionpool] DEBUG: Starting new HTTPS connection (1): www.bain.com:443\n"
     ]
    },
    {
     "name": "stdout",
     "output_type": "stream",
     "text": [
      "https://www.bain.com/insights/product-management-in-the-age-of-disruption/\n"
     ]
    },
    {
     "name": "stderr",
     "output_type": "stream",
     "text": [
      "2020-02-18 09:57:29 [urllib3.connectionpool] DEBUG: https://www.bain.com:443 \"GET /insights/product-management-in-the-age-of-disruption/ HTTP/1.1\" 200 43077\n",
      "2020-02-18 09:57:29 [scrapy.core.engine] DEBUG: Crawled (200) <GET https://www.bain.com/insights/ecosystems-how-insurers-can-reinvent-customer-relationships/> (referer: None)\n",
      "2020-02-18 09:57:29 [urllib3.connectionpool] DEBUG: Starting new HTTPS connection (1): www.bain.com:443\n"
     ]
    },
    {
     "name": "stdout",
     "output_type": "stream",
     "text": [
      "https://www.bain.com/insights/how-insurers-can-get-their-customers-to-love-them-forbes/\n"
     ]
    },
    {
     "name": "stderr",
     "output_type": "stream",
     "text": [
      "2020-02-18 09:57:30 [urllib3.connectionpool] DEBUG: https://www.bain.com:443 \"GET /insights/how-insurers-can-get-their-customers-to-love-them-forbes/ HTTP/1.1\" 200 38585\n",
      "2020-02-18 09:57:30 [scrapy.core.engine] DEBUG: Crawled (200) <GET https://www.bain.com/insights/how-leading-companies-build-the-workforces-they-need-to-stay-ahead-hbr/> (referer: None)\n",
      "2020-02-18 09:57:30 [urllib3.connectionpool] DEBUG: Starting new HTTPS connection (1): www.bain.com:443\n"
     ]
    },
    {
     "name": "stdout",
     "output_type": "stream",
     "text": [
      "https://www.bain.com/insights/ecosystems-how-insurers-can-reinvent-customer-relationships/\n"
     ]
    },
    {
     "name": "stderr",
     "output_type": "stream",
     "text": [
      "2020-02-18 09:57:32 [urllib3.connectionpool] DEBUG: https://www.bain.com:443 \"GET /insights/ecosystems-how-insurers-can-reinvent-customer-relationships/ HTTP/1.1\" 200 43145\n",
      "2020-02-18 09:57:32 [scrapy.core.engine] DEBUG: Crawled (200) <GET https://www.bain.com/insights/customer-lifetime-value/> (referer: None)\n",
      "2020-02-18 09:57:32 [urllib3.connectionpool] DEBUG: Starting new HTTPS connection (1): www.bain.com:443\n"
     ]
    },
    {
     "name": "stdout",
     "output_type": "stream",
     "text": [
      "https://www.bain.com/insights/how-leading-companies-build-the-workforces-they-need-to-stay-ahead-hbr/\n"
     ]
    },
    {
     "name": "stderr",
     "output_type": "stream",
     "text": [
      "2020-02-18 09:57:33 [urllib3.connectionpool] DEBUG: https://www.bain.com:443 \"GET /insights/how-leading-companies-build-the-workforces-they-need-to-stay-ahead-hbr/ HTTP/1.1\" 200 39697\n",
      "2020-02-18 09:57:33 [scrapy.core.engine] DEBUG: Crawled (200) <GET https://www.bain.com/insights/closing-the-results-gap-in-advanced-analytics-lessons-from-the-front-lines/> (referer: None)\n",
      "2020-02-18 09:57:33 [urllib3.connectionpool] DEBUG: Starting new HTTPS connection (1): www.bain.com:443\n"
     ]
    },
    {
     "name": "stdout",
     "output_type": "stream",
     "text": [
      "https://www.bain.com/insights/customer-lifetime-value/\n"
     ]
    },
    {
     "name": "stderr",
     "output_type": "stream",
     "text": [
      "2020-02-18 09:57:35 [urllib3.connectionpool] DEBUG: https://www.bain.com:443 \"GET /insights/customer-lifetime-value/ HTTP/1.1\" 200 42943\n",
      "2020-02-18 09:57:35 [scrapy.extensions.logstats] INFO: Crawled 118 pages (at 40 pages/min), scraped 0 items (at 0 items/min)\n",
      "2020-02-18 09:57:35 [scrapy.core.engine] DEBUG: Crawled (200) <GET https://www.bain.com/insights/plotting-a-path-to-financial-excellence-cfo/> (referer: None)\n",
      "2020-02-18 09:57:35 [urllib3.connectionpool] DEBUG: Starting new HTTPS connection (1): www.bain.com:443\n"
     ]
    },
    {
     "name": "stdout",
     "output_type": "stream",
     "text": [
      "https://www.bain.com/insights/closing-the-results-gap-in-advanced-analytics-lessons-from-the-front-lines/\n"
     ]
    },
    {
     "name": "stderr",
     "output_type": "stream",
     "text": [
      "2020-02-18 09:57:36 [urllib3.connectionpool] DEBUG: https://www.bain.com:443 \"GET /insights/closing-the-results-gap-in-advanced-analytics-lessons-from-the-front-lines/ HTTP/1.1\" 200 41014\n",
      "2020-02-18 09:57:36 [urllib3.connectionpool] DEBUG: Starting new HTTPS connection (1): www.bain.com:443\n"
     ]
    },
    {
     "name": "stdout",
     "output_type": "stream",
     "text": [
      "https://www.bain.com/insights/plotting-a-path-to-financial-excellence-cfo/\n"
     ]
    },
    {
     "name": "stderr",
     "output_type": "stream",
     "text": [
      "2020-02-18 09:57:38 [urllib3.connectionpool] DEBUG: https://www.bain.com:443 \"GET /insights/plotting-a-path-to-financial-excellence-cfo/ HTTP/1.1\" 200 36560\n",
      "2020-02-18 09:57:38 [scrapy.core.engine] DEBUG: Crawled (200) <GET https://www.bain.com/insights/when-the-finance-department-becomes-a-companys-secret-weapon-brief/> (referer: None)\n",
      "2020-02-18 09:57:38 [scrapy.core.engine] DEBUG: Crawled (200) <GET https://www.bain.com/insights/amazon-whole-foods-deal-means-retailers-three-year-plan-obsolete-hbr/> (referer: None)\n",
      "2020-02-18 09:57:38 [urllib3.connectionpool] DEBUG: Starting new HTTPS connection (1): www.bain.com:443\n"
     ]
    },
    {
     "name": "stdout",
     "output_type": "stream",
     "text": [
      "https://www.bain.com/insights/when-the-finance-department-becomes-a-companys-secret-weapon-brief/\n"
     ]
    },
    {
     "name": "stderr",
     "output_type": "stream",
     "text": [
      "2020-02-18 09:57:39 [urllib3.connectionpool] DEBUG: https://www.bain.com:443 \"GET /insights/when-the-finance-department-becomes-a-companys-secret-weapon-brief/ HTTP/1.1\" 200 42890\n",
      "2020-02-18 09:57:39 [scrapy.core.engine] DEBUG: Crawled (200) <GET https://www.bain.com/insights/bain-google-studie-digitalisierung-versicherungswirtschaft/> (referer: None)\n",
      "2020-02-18 09:57:39 [urllib3.connectionpool] DEBUG: Starting new HTTPS connection (1): www.bain.com:443\n"
     ]
    },
    {
     "name": "stdout",
     "output_type": "stream",
     "text": [
      "https://www.bain.com/insights/amazon-whole-foods-deal-means-retailers-three-year-plan-obsolete-hbr/\n"
     ]
    },
    {
     "name": "stderr",
     "output_type": "stream",
     "text": [
      "2020-02-18 09:57:41 [urllib3.connectionpool] DEBUG: https://www.bain.com:443 \"GET /insights/amazon-whole-foods-deal-means-retailers-three-year-plan-obsolete-hbr/ HTTP/1.1\" 200 40703\n",
      "2020-02-18 09:57:41 [scrapy.core.engine] DEBUG: Crawled (200) <GET https://www.bain.com/insights/what-the-new-silk-road-needs-is-a-digital-revolution-forbes/> (referer: None)\n",
      "2020-02-18 09:57:41 [urllib3.connectionpool] DEBUG: Starting new HTTPS connection (1): www.bain.com:443\n"
     ]
    },
    {
     "name": "stdout",
     "output_type": "stream",
     "text": [
      "https://www.bain.com/insights/bain-google-studie-digitalisierung-versicherungswirtschaft/\n"
     ]
    },
    {
     "name": "stderr",
     "output_type": "stream",
     "text": [
      "2020-02-18 09:57:42 [urllib3.connectionpool] DEBUG: https://www.bain.com:443 \"GET /insights/bain-google-studie-digitalisierung-versicherungswirtschaft/ HTTP/1.1\" 200 35923\n",
      "2020-02-18 09:57:42 [scrapy.core.engine] DEBUG: Crawled (200) <GET https://www.bain.com/insights/firm-of-the-future/> (referer: None)\n",
      "2020-02-18 09:57:42 [urllib3.connectionpool] DEBUG: Starting new HTTPS connection (1): www.bain.com:443\n"
     ]
    },
    {
     "name": "stdout",
     "output_type": "stream",
     "text": [
      "https://www.bain.com/insights/what-the-new-silk-road-needs-is-a-digital-revolution-forbes/\n"
     ]
    },
    {
     "name": "stderr",
     "output_type": "stream",
     "text": [
      "2020-02-18 09:57:44 [urllib3.connectionpool] DEBUG: https://www.bain.com:443 \"GET /insights/what-the-new-silk-road-needs-is-a-digital-revolution-forbes/ HTTP/1.1\" 200 38680\n",
      "2020-02-18 09:57:44 [scrapy.core.engine] DEBUG: Crawled (200) <GET https://www.bain.com/insights/collaboration-overload-is-symptom-of-deeper-organizational-problem-hbr/> (referer: None)\n",
      "2020-02-18 09:57:44 [urllib3.connectionpool] DEBUG: Starting new HTTPS connection (1): www.bain.com:443\n"
     ]
    },
    {
     "name": "stdout",
     "output_type": "stream",
     "text": [
      "https://www.bain.com/insights/firm-of-the-future/\n"
     ]
    },
    {
     "name": "stderr",
     "output_type": "stream",
     "text": [
      "2020-02-18 09:57:46 [urllib3.connectionpool] DEBUG: https://www.bain.com:443 \"GET /insights/firm-of-the-future/ HTTP/1.1\" 200 58475\n",
      "2020-02-18 09:57:46 [scrapy.core.engine] DEBUG: Crawled (200) <GET https://www.bain.com/insights/a-smarter-approach-to-procurement-industry-week/> (referer: None)\n",
      "2020-02-18 09:57:46 [scrapy.core.engine] DEBUG: Crawled (200) <GET https://www.bain.com/insights/how-digital-technology-supercharges-zero-based-redesign/> (referer: None)\n",
      "2020-02-18 09:57:46 [urllib3.connectionpool] DEBUG: Starting new HTTPS connection (1): www.bain.com:443\n"
     ]
    },
    {
     "name": "stdout",
     "output_type": "stream",
     "text": [
      "https://www.bain.com/insights/collaboration-overload-is-symptom-of-deeper-organizational-problem-hbr/\n"
     ]
    },
    {
     "name": "stderr",
     "output_type": "stream",
     "text": [
      "2020-02-18 09:57:47 [urllib3.connectionpool] DEBUG: https://www.bain.com:443 \"GET /insights/collaboration-overload-is-symptom-of-deeper-organizational-problem-hbr/ HTTP/1.1\" 200 40999\n",
      "2020-02-18 09:57:47 [scrapy.core.engine] DEBUG: Crawled (200) <GET https://www.bain.com/insights/great-companies-obsess-over-productivity-hbr/> (referer: None)\n",
      "2020-02-18 09:57:47 [urllib3.connectionpool] DEBUG: Starting new HTTPS connection (1): www.bain.com:443\n"
     ]
    },
    {
     "name": "stdout",
     "output_type": "stream",
     "text": [
      "https://www.bain.com/insights/a-smarter-approach-to-procurement-industry-week/\n"
     ]
    },
    {
     "name": "stderr",
     "output_type": "stream",
     "text": [
      "2020-02-18 09:57:48 [urllib3.connectionpool] DEBUG: https://www.bain.com:443 \"GET /insights/a-smarter-approach-to-procurement-industry-week/ HTTP/1.1\" 200 36884\n",
      "2020-02-18 09:57:48 [urllib3.connectionpool] DEBUG: Starting new HTTPS connection (1): www.bain.com:443\n"
     ]
    },
    {
     "name": "stdout",
     "output_type": "stream",
     "text": [
      "https://www.bain.com/insights/how-digital-technology-supercharges-zero-based-redesign/\n"
     ]
    },
    {
     "name": "stderr",
     "output_type": "stream",
     "text": [
      "2020-02-18 09:57:50 [urllib3.connectionpool] DEBUG: https://www.bain.com:443 \"GET /insights/how-digital-technology-supercharges-zero-based-redesign/ HTTP/1.1\" 200 44300\n",
      "2020-02-18 09:57:50 [scrapy.core.engine] DEBUG: Crawled (200) <GET https://www.bain.com/insights/how-grocers-can-improve-shoppers-price-perception/> (referer: None)\n",
      "2020-02-18 09:57:50 [scrapy.core.engine] DEBUG: Crawled (200) <GET https://www.bain.com/insights/finding-europes-edge-in-the-internet-of-things/> (referer: None)\n",
      "2020-02-18 09:57:50 [urllib3.connectionpool] DEBUG: Starting new HTTPS connection (1): www.bain.com:443\n"
     ]
    },
    {
     "name": "stdout",
     "output_type": "stream",
     "text": [
      "https://www.bain.com/insights/great-companies-obsess-over-productivity-hbr/\n"
     ]
    },
    {
     "name": "stderr",
     "output_type": "stream",
     "text": [
      "2020-02-18 09:57:51 [urllib3.connectionpool] DEBUG: https://www.bain.com:443 \"GET /insights/great-companies-obsess-over-productivity-hbr/ HTTP/1.1\" 200 40050\n",
      "2020-02-18 09:57:51 [scrapy.core.engine] DEBUG: Crawled (200) <GET https://www.bain.com/insights/most-firms-have-fifteen-percent-star-players-irish-times/> (referer: None)\n",
      "2020-02-18 09:57:51 [urllib3.connectionpool] DEBUG: Starting new HTTPS connection (1): www.bain.com:443\n"
     ]
    },
    {
     "name": "stdout",
     "output_type": "stream",
     "text": [
      "https://www.bain.com/insights/how-grocers-can-improve-shoppers-price-perception/\n"
     ]
    },
    {
     "name": "stderr",
     "output_type": "stream",
     "text": [
      "2020-02-18 09:57:52 [urllib3.connectionpool] DEBUG: https://www.bain.com:443 \"GET /insights/how-grocers-can-improve-shoppers-price-perception/ HTTP/1.1\" 200 44934\n",
      "2020-02-18 09:57:52 [urllib3.connectionpool] DEBUG: Starting new HTTPS connection (1): www.bain.com:443\n"
     ]
    },
    {
     "name": "stdout",
     "output_type": "stream",
     "text": [
      "https://www.bain.com/insights/finding-europes-edge-in-the-internet-of-things/\n"
     ]
    },
    {
     "name": "stderr",
     "output_type": "stream",
     "text": [
      "2020-02-18 09:57:54 [urllib3.connectionpool] DEBUG: https://www.bain.com:443 \"GET /insights/finding-europes-edge-in-the-internet-of-things/ HTTP/1.1\" 200 45548\n",
      "2020-02-18 09:57:54 [scrapy.core.engine] DEBUG: Crawled (200) <GET https://www.bain.com/insights/the-changing-rules-for-digital-m-and-a/> (referer: None)\n",
      "2020-02-18 09:57:54 [scrapy.core.engine] DEBUG: Crawled (200) <GET https://www.bain.com/insights/how-to-be-an-inspiring-leader-hbr/> (referer: None)\n",
      "2020-02-18 09:57:54 [urllib3.connectionpool] DEBUG: Starting new HTTPS connection (1): www.bain.com:443\n"
     ]
    },
    {
     "name": "stdout",
     "output_type": "stream",
     "text": [
      "https://www.bain.com/insights/most-firms-have-fifteen-percent-star-players-irish-times/\n"
     ]
    },
    {
     "name": "stderr",
     "output_type": "stream",
     "text": [
      "2020-02-18 09:57:55 [urllib3.connectionpool] DEBUG: https://www.bain.com:443 \"GET /insights/most-firms-have-fifteen-percent-star-players-irish-times/ HTTP/1.1\" 200 35881\n",
      "2020-02-18 09:57:55 [scrapy.core.engine] DEBUG: Crawled (200) <GET https://www.bain.com/insights/winning-in-the-new-normal-of-government-services/> (referer: None)\n",
      "2020-02-18 09:57:55 [urllib3.connectionpool] DEBUG: Starting new HTTPS connection (1): www.bain.com:443\n"
     ]
    },
    {
     "name": "stdout",
     "output_type": "stream",
     "text": [
      "https://www.bain.com/insights/the-changing-rules-for-digital-m-and-a/\n"
     ]
    },
    {
     "name": "stderr",
     "output_type": "stream",
     "text": [
      "2020-02-18 09:57:57 [urllib3.connectionpool] DEBUG: https://www.bain.com:443 \"GET /insights/the-changing-rules-for-digital-m-and-a/ HTTP/1.1\" 200 44716\n",
      "2020-02-18 09:57:57 [urllib3.connectionpool] DEBUG: Starting new HTTPS connection (1): www.bain.com:443\n"
     ]
    },
    {
     "name": "stdout",
     "output_type": "stream",
     "text": [
      "https://www.bain.com/insights/how-to-be-an-inspiring-leader-hbr/\n"
     ]
    },
    {
     "name": "stderr",
     "output_type": "stream",
     "text": [
      "2020-02-18 09:57:58 [urllib3.connectionpool] DEBUG: https://www.bain.com:443 \"GET /insights/how-to-be-an-inspiring-leader-hbr/ HTTP/1.1\" 200 39528\n",
      "2020-02-18 09:57:58 [scrapy.core.engine] DEBUG: Crawled (200) <GET https://www.bain.com/insights/the-best-companies-dont-have-more-stars-hbr/> (referer: None)\n",
      "2020-02-18 09:57:58 [scrapy.core.engine] DEBUG: Crawled (200) <GET https://www.bain.com/insights/private-equity-value-creation-in-africa/> (referer: None)\n",
      "2020-02-18 09:57:59 [urllib3.connectionpool] DEBUG: Starting new HTTPS connection (1): www.bain.com:443\n"
     ]
    },
    {
     "name": "stdout",
     "output_type": "stream",
     "text": [
      "https://www.bain.com/insights/winning-in-the-new-normal-of-government-services/\n"
     ]
    },
    {
     "name": "stderr",
     "output_type": "stream",
     "text": [
      "2020-02-18 09:58:00 [urllib3.connectionpool] DEBUG: https://www.bain.com:443 \"GET /insights/winning-in-the-new-normal-of-government-services/ HTTP/1.1\" 200 40491\n",
      "2020-02-18 09:58:00 [scrapy.core.engine] DEBUG: Crawled (200) <GET https://www.bain.com/insights/retail-holiday-newsletter-2016-2017-3/> (referer: None)\n",
      "2020-02-18 09:58:00 [urllib3.connectionpool] DEBUG: Starting new HTTPS connection (1): www.bain.com:443\n"
     ]
    },
    {
     "name": "stdout",
     "output_type": "stream",
     "text": [
      "https://www.bain.com/insights/the-best-companies-dont-have-more-stars-hbr/\n"
     ]
    },
    {
     "name": "stderr",
     "output_type": "stream",
     "text": [
      "2020-02-18 09:58:01 [urllib3.connectionpool] DEBUG: https://www.bain.com:443 \"GET /insights/the-best-companies-dont-have-more-stars-hbr/ HTTP/1.1\" 200 39892\n",
      "2020-02-18 09:58:01 [urllib3.connectionpool] DEBUG: Starting new HTTPS connection (1): www.bain.com:443\n"
     ]
    },
    {
     "name": "stdout",
     "output_type": "stream",
     "text": [
      "https://www.bain.com/insights/private-equity-value-creation-in-africa/\n"
     ]
    },
    {
     "name": "stderr",
     "output_type": "stream",
     "text": [
      "2020-02-18 09:58:03 [urllib3.connectionpool] DEBUG: https://www.bain.com:443 \"GET /insights/private-equity-value-creation-in-africa/ HTTP/1.1\" 200 40887\n",
      "2020-02-18 09:58:03 [scrapy.core.engine] DEBUG: Crawled (200) <GET https://www.bain.com/insights/hrs-vital-role-in-time-talent-and-energy-hbr/> (referer: None)\n",
      "2020-02-18 09:58:03 [scrapy.core.engine] DEBUG: Crawled (200) <GET https://www.bain.com/insights/process-innovation-in-digital-world/> (referer: None)\n",
      "2020-02-18 09:58:03 [scrapy.core.engine] DEBUG: Crawled (200) <GET https://www.bain.com/insights/retail-holiday-newsletter-2016-2017-2/> (referer: None)\n",
      "2020-02-18 09:58:03 [urllib3.connectionpool] DEBUG: Starting new HTTPS connection (1): www.bain.com:443\n"
     ]
    },
    {
     "name": "stdout",
     "output_type": "stream",
     "text": [
      "https://www.bain.com/insights/retail-holiday-newsletter-2016-2017-3/\n"
     ]
    },
    {
     "name": "stderr",
     "output_type": "stream",
     "text": [
      "2020-02-18 09:58:05 [urllib3.connectionpool] DEBUG: https://www.bain.com:443 \"GET /insights/retail-holiday-newsletter-2016-2017-3/ HTTP/1.1\" 200 47969\n",
      "2020-02-18 09:58:05 [scrapy.core.engine] DEBUG: Crawled (200) <GET https://www.bain.com/insights/how-leaders-inspire-cracking-the-code/> (referer: None)\n",
      "2020-02-18 09:58:05 [scrapy.core.engine] DEBUG: Crawled (200) <GET https://www.bain.com/insights/new-bank-strategies-require-new-operating-models/> (referer: None)\n",
      "2020-02-18 09:58:05 [urllib3.connectionpool] DEBUG: Starting new HTTPS connection (1): www.bain.com:443\n"
     ]
    },
    {
     "name": "stdout",
     "output_type": "stream",
     "text": [
      "https://www.bain.com/insights/hrs-vital-role-in-time-talent-and-energy-hbr/\n"
     ]
    },
    {
     "name": "stderr",
     "output_type": "stream",
     "text": [
      "2020-02-18 09:58:06 [urllib3.connectionpool] DEBUG: https://www.bain.com:443 \"GET /insights/hrs-vital-role-in-time-talent-and-energy-hbr/ HTTP/1.1\" 200 38747\n",
      "2020-02-18 09:58:06 [urllib3.connectionpool] DEBUG: Starting new HTTPS connection (1): www.bain.com:443\n"
     ]
    },
    {
     "name": "stdout",
     "output_type": "stream",
     "text": [
      "https://www.bain.com/insights/process-innovation-in-digital-world/\n"
     ]
    },
    {
     "name": "stderr",
     "output_type": "stream",
     "text": [
      "2020-02-18 09:58:08 [urllib3.connectionpool] DEBUG: https://www.bain.com:443 \"GET /insights/process-innovation-in-digital-world/ HTTP/1.1\" 200 39775\n",
      "2020-02-18 09:58:08 [urllib3.connectionpool] DEBUG: Starting new HTTPS connection (1): www.bain.com:443\n"
     ]
    },
    {
     "name": "stdout",
     "output_type": "stream",
     "text": [
      "https://www.bain.com/insights/retail-holiday-newsletter-2016-2017-2/\n"
     ]
    },
    {
     "name": "stderr",
     "output_type": "stream",
     "text": [
      "2020-02-18 09:58:09 [urllib3.connectionpool] DEBUG: https://www.bain.com:443 \"GET /insights/retail-holiday-newsletter-2016-2017-2/ HTTP/1.1\" 200 48751\n",
      "2020-02-18 09:58:09 [scrapy.core.engine] DEBUG: Crawled (200) <GET https://www.bain.com/insights/do-your-industrial-customers-love-their-experience/> (referer: None)\n",
      "2020-02-18 09:58:09 [scrapy.core.engine] DEBUG: Crawled (200) <GET https://www.bain.com/insights/agile-innovation/> (referer: None)\n",
      "2020-02-18 09:58:09 [scrapy.core.engine] DEBUG: Crawled (200) <GET https://www.bain.com/insights/private-equitys-winners-pounce-on-big-themes-early-and-then-wait-forbes/> (referer: None)\n",
      "2020-02-18 09:58:09 [urllib3.connectionpool] DEBUG: Starting new HTTPS connection (1): www.bain.com:443\n"
     ]
    },
    {
     "name": "stdout",
     "output_type": "stream",
     "text": [
      "https://www.bain.com/insights/how-leaders-inspire-cracking-the-code/\n"
     ]
    },
    {
     "name": "stderr",
     "output_type": "stream",
     "text": [
      "2020-02-18 09:58:11 [urllib3.connectionpool] DEBUG: https://www.bain.com:443 \"GET /insights/how-leaders-inspire-cracking-the-code/ HTTP/1.1\" 200 43335\n",
      "2020-02-18 09:58:11 [urllib3.connectionpool] DEBUG: Starting new HTTPS connection (1): www.bain.com:443\n"
     ]
    },
    {
     "name": "stdout",
     "output_type": "stream",
     "text": [
      "https://www.bain.com/insights/new-bank-strategies-require-new-operating-models/\n"
     ]
    },
    {
     "name": "stderr",
     "output_type": "stream",
     "text": [
      "2020-02-18 09:58:12 [urllib3.connectionpool] DEBUG: https://www.bain.com:443 \"GET /insights/new-bank-strategies-require-new-operating-models/ HTTP/1.1\" 200 47051\n",
      "2020-02-18 09:58:12 [scrapy.core.engine] DEBUG: Crawled (200) <GET https://www.bain.com/insights/hackathons-arent-just-for-coders-hbr/> (referer: None)\n",
      "2020-02-18 09:58:12 [scrapy.core.engine] DEBUG: Crawled (200) <GET https://www.bain.com/insights/loyalty-insights-how-companies-build-customer-focused-front-line/> (referer: None)\n",
      "2020-02-18 09:58:12 [urllib3.connectionpool] DEBUG: Starting new HTTPS connection (1): www.bain.com:443\n"
     ]
    },
    {
     "name": "stdout",
     "output_type": "stream",
     "text": [
      "https://www.bain.com/insights/do-your-industrial-customers-love-their-experience/\n"
     ]
    },
    {
     "name": "stderr",
     "output_type": "stream",
     "text": [
      "2020-02-18 09:58:14 [urllib3.connectionpool] DEBUG: https://www.bain.com:443 \"GET /insights/do-your-industrial-customers-love-their-experience/ HTTP/1.1\" 200 41546\n",
      "2020-02-18 09:58:14 [urllib3.connectionpool] DEBUG: Starting new HTTPS connection (1): www.bain.com:443\n"
     ]
    },
    {
     "name": "stdout",
     "output_type": "stream",
     "text": [
      "https://www.bain.com/insights/agile-innovation/\n"
     ]
    },
    {
     "name": "stderr",
     "output_type": "stream",
     "text": [
      "2020-02-18 09:58:15 [urllib3.connectionpool] DEBUG: https://www.bain.com:443 \"GET /insights/agile-innovation/ HTTP/1.1\" 200 60576\n",
      "2020-02-18 09:58:15 [urllib3.connectionpool] DEBUG: Starting new HTTPS connection (1): www.bain.com:443\n"
     ]
    },
    {
     "name": "stdout",
     "output_type": "stream",
     "text": [
      "https://www.bain.com/insights/private-equitys-winners-pounce-on-big-themes-early-and-then-wait-forbes/\n"
     ]
    },
    {
     "name": "stderr",
     "output_type": "stream",
     "text": [
      "2020-02-18 09:58:17 [urllib3.connectionpool] DEBUG: https://www.bain.com:443 \"GET /insights/private-equitys-winners-pounce-on-big-themes-early-and-then-wait-forbes/ HTTP/1.1\" 200 39006\n",
      "2020-02-18 09:58:17 [scrapy.core.engine] DEBUG: Crawled (200) <GET https://www.bain.com/insights/can-agribusiness-reinvent-itself-to-capture-the-future/> (referer: None)\n",
      "2020-02-18 09:58:17 [scrapy.core.engine] DEBUG: Crawled (200) <GET https://www.bain.com/insights/spatial-economics-the-declining-cost-of-distance/> (referer: None)\n",
      "2020-02-18 09:58:17 [scrapy.core.engine] DEBUG: Crawled (200) <GET https://www.bain.com/insights/unearthing-hidden-treasure-of-procurement/> (referer: None)\n",
      "2020-02-18 09:58:17 [scrapy.core.engine] DEBUG: Crawled (200) <GET https://www.bain.com/insights/retail-holiday-newsletter-2016-2017-5/> (referer: None)\n",
      "2020-02-18 09:58:17 [urllib3.connectionpool] DEBUG: Starting new HTTPS connection (1): www.bain.com:443\n"
     ]
    },
    {
     "name": "stdout",
     "output_type": "stream",
     "text": [
      "https://www.bain.com/insights/hackathons-arent-just-for-coders-hbr/\n"
     ]
    },
    {
     "name": "stderr",
     "output_type": "stream",
     "text": [
      "2020-02-18 09:58:18 [urllib3.connectionpool] DEBUG: https://www.bain.com:443 \"GET /insights/hackathons-arent-just-for-coders-hbr/ HTTP/1.1\" 200 38859\n",
      "2020-02-18 09:58:18 [urllib3.connectionpool] DEBUG: Starting new HTTPS connection (1): www.bain.com:443\n"
     ]
    },
    {
     "name": "stdout",
     "output_type": "stream",
     "text": [
      "https://www.bain.com/insights/loyalty-insights-how-companies-build-customer-focused-front-line/\n"
     ]
    },
    {
     "name": "stderr",
     "output_type": "stream",
     "text": [
      "2020-02-18 09:58:20 [urllib3.connectionpool] DEBUG: https://www.bain.com:443 \"GET /insights/loyalty-insights-how-companies-build-customer-focused-front-line/ HTTP/1.1\" 200 42631\n",
      "2020-02-18 09:58:20 [scrapy.core.engine] DEBUG: Crawled (200) <GET https://www.bain.com/insights/plugging-into-emerging-electricity-markets/> (referer: None)\n",
      "2020-02-18 09:58:20 [urllib3.connectionpool] DEBUG: Starting new HTTPS connection (1): www.bain.com:443\n"
     ]
    },
    {
     "name": "stdout",
     "output_type": "stream",
     "text": [
      "https://www.bain.com/insights/can-agribusiness-reinvent-itself-to-capture-the-future/\n"
     ]
    },
    {
     "name": "stderr",
     "output_type": "stream",
     "text": [
      "2020-02-18 09:58:21 [urllib3.connectionpool] DEBUG: https://www.bain.com:443 \"GET /insights/can-agribusiness-reinvent-itself-to-capture-the-future/ HTTP/1.1\" 200 49544\n",
      "2020-02-18 09:58:21 [urllib3.connectionpool] DEBUG: Starting new HTTPS connection (1): www.bain.com:443\n"
     ]
    },
    {
     "name": "stdout",
     "output_type": "stream",
     "text": [
      "https://www.bain.com/insights/spatial-economics-the-declining-cost-of-distance/\n"
     ]
    },
    {
     "name": "stderr",
     "output_type": "stream",
     "text": [
      "2020-02-18 09:58:22 [urllib3.connectionpool] DEBUG: https://www.bain.com:443 \"GET /insights/spatial-economics-the-declining-cost-of-distance/ HTTP/1.1\" 200 57694\n",
      "2020-02-18 09:58:22 [urllib3.connectionpool] DEBUG: Starting new HTTPS connection (1): www.bain.com:443\n"
     ]
    },
    {
     "name": "stdout",
     "output_type": "stream",
     "text": [
      "https://www.bain.com/insights/unearthing-hidden-treasure-of-procurement/\n"
     ]
    },
    {
     "name": "stderr",
     "output_type": "stream",
     "text": [
      "2020-02-18 09:58:24 [urllib3.connectionpool] DEBUG: https://www.bain.com:443 \"GET /insights/unearthing-hidden-treasure-of-procurement/ HTTP/1.1\" 200 43368\n",
      "2020-02-18 09:58:24 [urllib3.connectionpool] DEBUG: Starting new HTTPS connection (1): www.bain.com:443\n"
     ]
    },
    {
     "name": "stdout",
     "output_type": "stream",
     "text": [
      "https://www.bain.com/insights/retail-holiday-newsletter-2016-2017-5/\n"
     ]
    },
    {
     "name": "stderr",
     "output_type": "stream",
     "text": [
      "2020-02-18 09:58:25 [urllib3.connectionpool] DEBUG: https://www.bain.com:443 \"GET /insights/retail-holiday-newsletter-2016-2017-5/ HTTP/1.1\" 200 49488\n",
      "2020-02-18 09:58:25 [scrapy.core.engine] DEBUG: Crawled (200) <GET https://www.bain.com/insights/retail-holiday-newsletter-2015-2016-5/> (referer: None)\n",
      "2020-02-18 09:58:25 [urllib3.connectionpool] DEBUG: Starting new HTTPS connection (1): www.bain.com:443\n"
     ]
    },
    {
     "name": "stdout",
     "output_type": "stream",
     "text": [
      "https://www.bain.com/insights/plugging-into-emerging-electricity-markets/\n"
     ]
    },
    {
     "name": "stderr",
     "output_type": "stream",
     "text": [
      "2020-02-18 09:58:27 [urllib3.connectionpool] DEBUG: https://www.bain.com:443 \"GET /insights/plugging-into-emerging-electricity-markets/ HTTP/1.1\" 200 41729\n",
      "2020-02-18 09:58:27 [scrapy.core.engine] DEBUG: Crawled (200) <GET https://www.bain.com/insights/retail-holiday-newsletter-2015-2016-4/> (referer: None)\n",
      "2020-02-18 09:58:27 [urllib3.connectionpool] DEBUG: Starting new HTTPS connection (1): www.bain.com:443\n"
     ]
    },
    {
     "name": "stdout",
     "output_type": "stream",
     "text": [
      "https://www.bain.com/insights/retail-holiday-newsletter-2015-2016-5/\n"
     ]
    },
    {
     "name": "stderr",
     "output_type": "stream",
     "text": [
      "2020-02-18 09:58:28 [urllib3.connectionpool] DEBUG: https://www.bain.com:443 \"GET /insights/retail-holiday-newsletter-2015-2016-5/ HTTP/1.1\" 200 50809\n",
      "2020-02-18 09:58:28 [scrapy.core.engine] DEBUG: Crawled (200) <GET https://www.bain.com/insights/engaging-your-employees-is-good-but-dont-stop-there-hbr/> (referer: None)\n",
      "2020-02-18 09:58:28 [urllib3.connectionpool] DEBUG: Starting new HTTPS connection (1): www.bain.com:443\n"
     ]
    },
    {
     "name": "stdout",
     "output_type": "stream",
     "text": [
      "https://www.bain.com/insights/retail-holiday-newsletter-2015-2016-4/\n"
     ]
    },
    {
     "name": "stderr",
     "output_type": "stream",
     "text": [
      "2020-02-18 09:58:29 [urllib3.connectionpool] DEBUG: https://www.bain.com:443 \"GET /insights/retail-holiday-newsletter-2015-2016-4/ HTTP/1.1\" 200 52405\n",
      "2020-02-18 09:58:29 [urllib3.connectionpool] DEBUG: Starting new HTTPS connection (1): www.bain.com:443\n"
     ]
    },
    {
     "name": "stdout",
     "output_type": "stream",
     "text": [
      "https://www.bain.com/insights/engaging-your-employees-is-good-but-dont-stop-there-hbr/\n"
     ]
    },
    {
     "name": "stderr",
     "output_type": "stream",
     "text": [
      "2020-02-18 09:58:31 [urllib3.connectionpool] DEBUG: https://www.bain.com:443 \"GET /insights/engaging-your-employees-is-good-but-dont-stop-there-hbr/ HTTP/1.1\" 200 39644\n",
      "2020-02-18 09:58:31 [scrapy.core.engine] DEBUG: Crawled (200) <GET https://www.bain.com/insights/retail-holiday-newsletter-2015-2016-3/> (referer: None)\n",
      "2020-02-18 09:58:31 [scrapy.core.engine] DEBUG: Crawled (200) <GET https://www.bain.com/insights/retail-holiday-newsletter-2015-2016-2/> (referer: None)\n",
      "2020-02-18 09:58:31 [urllib3.connectionpool] DEBUG: Starting new HTTPS connection (1): www.bain.com:443\n"
     ]
    },
    {
     "name": "stdout",
     "output_type": "stream",
     "text": [
      "https://www.bain.com/insights/retail-holiday-newsletter-2015-2016-3/\n"
     ]
    },
    {
     "name": "stderr",
     "output_type": "stream",
     "text": [
      "2020-02-18 09:58:32 [urllib3.connectionpool] DEBUG: https://www.bain.com:443 \"GET /insights/retail-holiday-newsletter-2015-2016-3/ HTTP/1.1\" 200 52790\n",
      "2020-02-18 09:58:32 [urllib3.connectionpool] DEBUG: Starting new HTTPS connection (1): www.bain.com:443\n"
     ]
    },
    {
     "name": "stdout",
     "output_type": "stream",
     "text": [
      "https://www.bain.com/insights/retail-holiday-newsletter-2015-2016-2/\n"
     ]
    },
    {
     "name": "stderr",
     "output_type": "stream",
     "text": [
      "2020-02-18 09:58:34 [urllib3.connectionpool] DEBUG: https://www.bain.com:443 \"GET /insights/retail-holiday-newsletter-2015-2016-2/ HTTP/1.1\" 200 48854\n",
      "2020-02-18 09:58:34 [scrapy.core.engine] DEBUG: Crawled (200) <GET https://www.bain.com/insights/developing-a-national-chemicals-strategy-for-brazil/> (referer: None)\n",
      "2020-02-18 09:58:34 [scrapy.extensions.logstats] INFO: Crawled 158 pages (at 40 pages/min), scraped 0 items (at 0 items/min)\n",
      "2020-02-18 09:58:34 [scrapy.core.engine] DEBUG: Crawled (200) <GET https://www.bain.com/insights/bought-not-sold-marketing-and-selling-to-digitally-empowered-business-customers/> (referer: None)\n",
      "2020-02-18 09:58:34 [urllib3.connectionpool] DEBUG: Starting new HTTPS connection (1): www.bain.com:443\n"
     ]
    },
    {
     "name": "stdout",
     "output_type": "stream",
     "text": [
      "https://www.bain.com/insights/developing-a-national-chemicals-strategy-for-brazil/\n"
     ]
    },
    {
     "name": "stderr",
     "output_type": "stream",
     "text": [
      "2020-02-18 09:58:35 [urllib3.connectionpool] DEBUG: https://www.bain.com:443 \"GET /insights/developing-a-national-chemicals-strategy-for-brazil/ HTTP/1.1\" 200 46891\n",
      "2020-02-18 09:58:35 [scrapy.core.engine] DEBUG: Crawled (200) <GET https://www.bain.com/insights/transforming-a-company-by-learning-to-love-customers/> (referer: None)\n",
      "2020-02-18 09:58:35 [urllib3.connectionpool] DEBUG: Starting new HTTPS connection (1): www.bain.com:443\n"
     ]
    },
    {
     "name": "stdout",
     "output_type": "stream",
     "text": [
      "https://www.bain.com/insights/bought-not-sold-marketing-and-selling-to-digitally-empowered-business-customers/\n"
     ]
    },
    {
     "name": "stderr",
     "output_type": "stream",
     "text": [
      "2020-02-18 09:58:36 [urllib3.connectionpool] DEBUG: https://www.bain.com:443 \"GET /insights/bought-not-sold-marketing-and-selling-to-digitally-empowered-business-customers/ HTTP/1.1\" 200 43659\n",
      "2020-02-18 09:58:37 [scrapy.core.engine] DEBUG: Crawled (200) <GET https://www.bain.com/insights/a-strategy-for-thriving-in-uncertainty/> (referer: None)\n",
      "2020-02-18 09:58:37 [urllib3.connectionpool] DEBUG: Starting new HTTPS connection (1): www.bain.com:443\n"
     ]
    },
    {
     "name": "stdout",
     "output_type": "stream",
     "text": [
      "https://www.bain.com/insights/transforming-a-company-by-learning-to-love-customers/\n"
     ]
    },
    {
     "name": "stderr",
     "output_type": "stream",
     "text": [
      "2020-02-18 09:58:38 [urllib3.connectionpool] DEBUG: https://www.bain.com:443 \"GET /insights/transforming-a-company-by-learning-to-love-customers/ HTTP/1.1\" 200 50307\n",
      "2020-02-18 09:58:38 [scrapy.core.engine] DEBUG: Crawled (200) <GET https://www.bain.com/insights/getting-a-competitive-edge-through-cost-transformation/> (referer: None)\n",
      "2020-02-18 09:58:38 [urllib3.connectionpool] DEBUG: Starting new HTTPS connection (1): www.bain.com:443\n"
     ]
    },
    {
     "name": "stdout",
     "output_type": "stream",
     "text": [
      "https://www.bain.com/insights/a-strategy-for-thriving-in-uncertainty/\n"
     ]
    },
    {
     "name": "stderr",
     "output_type": "stream",
     "text": [
      "2020-02-18 09:58:39 [urllib3.connectionpool] DEBUG: https://www.bain.com:443 \"GET /insights/a-strategy-for-thriving-in-uncertainty/ HTTP/1.1\" 200 43881\n",
      "2020-02-18 09:58:39 [scrapy.core.engine] DEBUG: Crawled (200) <GET https://www.bain.com/insights/resist-the-three-false-promises-forbes/> (referer: None)\n",
      "2020-02-18 09:58:39 [urllib3.connectionpool] DEBUG: Starting new HTTPS connection (1): www.bain.com:443\n"
     ]
    },
    {
     "name": "stdout",
     "output_type": "stream",
     "text": [
      "https://www.bain.com/insights/getting-a-competitive-edge-through-cost-transformation/\n"
     ]
    },
    {
     "name": "stderr",
     "output_type": "stream",
     "text": [
      "2020-02-18 09:58:41 [urllib3.connectionpool] DEBUG: https://www.bain.com:443 \"GET /insights/getting-a-competitive-edge-through-cost-transformation/ HTTP/1.1\" 200 42962\n",
      "2020-02-18 09:58:41 [scrapy.core.engine] DEBUG: Crawled (200) <GET https://www.bain.com/insights/repremiumization-the-way-up-for-europes-telcos/> (referer: None)\n",
      "2020-02-18 09:58:41 [scrapy.core.engine] DEBUG: Crawled (200) <GET https://www.bain.com/insights/three-promises-and-perils-of-big-data/> (referer: None)\n",
      "2020-02-18 09:58:41 [urllib3.connectionpool] DEBUG: Starting new HTTPS connection (1): www.bain.com:443\n"
     ]
    },
    {
     "name": "stdout",
     "output_type": "stream",
     "text": [
      "https://www.bain.com/insights/resist-the-three-false-promises-forbes/\n"
     ]
    },
    {
     "name": "stderr",
     "output_type": "stream",
     "text": [
      "2020-02-18 09:58:42 [urllib3.connectionpool] DEBUG: https://www.bain.com:443 \"GET /insights/resist-the-three-false-promises-forbes/ HTTP/1.1\" 200 38775\n",
      "2020-02-18 09:58:42 [scrapy.core.engine] DEBUG: Crawled (200) <GET https://www.bain.com/insights/rich-opportunities-and-fierce-competition-forbes/> (referer: None)\n",
      "2020-02-18 09:58:42 [urllib3.connectionpool] DEBUG: Starting new HTTPS connection (1): www.bain.com:443\n"
     ]
    },
    {
     "name": "stdout",
     "output_type": "stream",
     "text": [
      "https://www.bain.com/insights/repremiumization-the-way-up-for-europes-telcos/\n"
     ]
    },
    {
     "name": "stderr",
     "output_type": "stream",
     "text": [
      "2020-02-18 09:58:44 [urllib3.connectionpool] DEBUG: https://www.bain.com:443 \"GET /insights/repremiumization-the-way-up-for-europes-telcos/ HTTP/1.1\" 200 42312\n",
      "2020-02-18 09:58:44 [urllib3.connectionpool] DEBUG: Starting new HTTPS connection (1): www.bain.com:443\n"
     ]
    },
    {
     "name": "stdout",
     "output_type": "stream",
     "text": [
      "https://www.bain.com/insights/three-promises-and-perils-of-big-data/\n"
     ]
    },
    {
     "name": "stderr",
     "output_type": "stream",
     "text": [
      "2020-02-18 09:58:45 [urllib3.connectionpool] DEBUG: https://www.bain.com:443 \"GET /insights/three-promises-and-perils-of-big-data/ HTTP/1.1\" 200 42234\n",
      "2020-02-18 09:58:45 [scrapy.core.engine] DEBUG: Crawled (200) <GET https://www.bain.com/insights/escaping-the-doom-loop-in-contact-center-operations/> (referer: None)\n",
      "2020-02-18 09:58:45 [scrapy.core.engine] DEBUG: Crawled (200) <GET https://www.bain.com/insights/retail-holiday-newsletter-2015-2016-1/> (referer: None)\n",
      "2020-02-18 09:58:45 [scrapy.core.engine] DEBUG: Crawled (200) <GET https://www.bain.com/insights/clearing-the-roadblocks-to-better-b2b-pricing/> (referer: None)\n",
      "2020-02-18 09:58:45 [urllib3.connectionpool] DEBUG: Starting new HTTPS connection (1): www.bain.com:443\n"
     ]
    },
    {
     "name": "stdout",
     "output_type": "stream",
     "text": [
      "https://www.bain.com/insights/rich-opportunities-and-fierce-competition-forbes/\n"
     ]
    },
    {
     "name": "stderr",
     "output_type": "stream",
     "text": [
      "2020-02-18 09:58:47 [urllib3.connectionpool] DEBUG: https://www.bain.com:443 \"GET /insights/rich-opportunities-and-fierce-competition-forbes/ HTTP/1.1\" 200 38849\n",
      "2020-02-18 09:58:47 [scrapy.core.engine] DEBUG: Crawled (200) <GET https://www.bain.com/insights/retail-holiday-newsletter-2014-2015-issue-4/> (referer: None)\n",
      "2020-02-18 09:58:47 [urllib3.connectionpool] DEBUG: Starting new HTTPS connection (1): www.bain.com:443\n"
     ]
    },
    {
     "name": "stdout",
     "output_type": "stream",
     "text": [
      "https://www.bain.com/insights/escaping-the-doom-loop-in-contact-center-operations/\n"
     ]
    },
    {
     "name": "stderr",
     "output_type": "stream",
     "text": [
      "2020-02-18 09:58:48 [urllib3.connectionpool] DEBUG: https://www.bain.com:443 \"GET /insights/escaping-the-doom-loop-in-contact-center-operations/ HTTP/1.1\" 200 38973\n",
      "2020-02-18 09:58:48 [urllib3.connectionpool] DEBUG: Starting new HTTPS connection (1): www.bain.com:443\n"
     ]
    },
    {
     "name": "stdout",
     "output_type": "stream",
     "text": [
      "https://www.bain.com/insights/retail-holiday-newsletter-2015-2016-1/\n"
     ]
    },
    {
     "name": "stderr",
     "output_type": "stream",
     "text": [
      "2020-02-18 09:58:50 [urllib3.connectionpool] DEBUG: https://www.bain.com:443 \"GET /insights/retail-holiday-newsletter-2015-2016-1/ HTTP/1.1\" 200 44434\n",
      "2020-02-18 09:58:50 [urllib3.connectionpool] DEBUG: Starting new HTTPS connection (1): www.bain.com:443\n"
     ]
    },
    {
     "name": "stdout",
     "output_type": "stream",
     "text": [
      "https://www.bain.com/insights/clearing-the-roadblocks-to-better-b2b-pricing/\n"
     ]
    },
    {
     "name": "stderr",
     "output_type": "stream",
     "text": [
      "2020-02-18 09:58:51 [urllib3.connectionpool] DEBUG: https://www.bain.com:443 \"GET /insights/clearing-the-roadblocks-to-better-b2b-pricing/ HTTP/1.1\" 200 48490\n",
      "2020-02-18 09:58:51 [scrapy.core.engine] DEBUG: Crawled (200) <GET https://www.bain.com/insights/five-imperatives-for-navigating-turbulence-in-the-payments-ecosystem/> (referer: None)\n",
      "2020-02-18 09:58:51 [scrapy.core.engine] DEBUG: Crawled (200) <GET https://www.bain.com/insights/adapt-and-adopt-digital-transformation-for-utilities/> (referer: None)\n",
      "2020-02-18 09:58:51 [scrapy.core.engine] DEBUG: Crawled (200) <GET https://www.bain.com/insights/retail-holiday-newsletter-2014-2015-issue-3/> (referer: None)\n",
      "2020-02-18 09:58:51 [urllib3.connectionpool] DEBUG: Starting new HTTPS connection (1): www.bain.com:443\n"
     ]
    },
    {
     "name": "stdout",
     "output_type": "stream",
     "text": [
      "https://www.bain.com/insights/retail-holiday-newsletter-2014-2015-issue-4/\n"
     ]
    },
    {
     "name": "stderr",
     "output_type": "stream",
     "text": [
      "2020-02-18 09:58:53 [urllib3.connectionpool] DEBUG: https://www.bain.com:443 \"GET /insights/retail-holiday-newsletter-2014-2015-issue-4/ HTTP/1.1\" 200 47063\n",
      "2020-02-18 09:58:53 [urllib3.connectionpool] DEBUG: Starting new HTTPS connection (1): www.bain.com:443\n"
     ]
    },
    {
     "name": "stdout",
     "output_type": "stream",
     "text": [
      "https://www.bain.com/insights/five-imperatives-for-navigating-turbulence-in-the-payments-ecosystem/\n"
     ]
    },
    {
     "name": "stderr",
     "output_type": "stream",
     "text": [
      "2020-02-18 09:58:54 [urllib3.connectionpool] DEBUG: https://www.bain.com:443 \"GET /insights/five-imperatives-for-navigating-turbulence-in-the-payments-ecosystem/ HTTP/1.1\" 200 49858\n",
      "2020-02-18 09:58:54 [urllib3.connectionpool] DEBUG: Starting new HTTPS connection (1): www.bain.com:443\n"
     ]
    },
    {
     "name": "stdout",
     "output_type": "stream",
     "text": [
      "https://www.bain.com/insights/adapt-and-adopt-digital-transformation-for-utilities/\n"
     ]
    },
    {
     "name": "stderr",
     "output_type": "stream",
     "text": [
      "2020-02-18 09:58:55 [urllib3.connectionpool] DEBUG: https://www.bain.com:443 \"GET /insights/adapt-and-adopt-digital-transformation-for-utilities/ HTTP/1.1\" 200 42203\n",
      "2020-02-18 09:58:55 [urllib3.connectionpool] DEBUG: Starting new HTTPS connection (1): www.bain.com:443\n"
     ]
    },
    {
     "name": "stdout",
     "output_type": "stream",
     "text": [
      "https://www.bain.com/insights/retail-holiday-newsletter-2014-2015-issue-3/\n"
     ]
    },
    {
     "name": "stderr",
     "output_type": "stream",
     "text": [
      "2020-02-18 09:58:57 [urllib3.connectionpool] DEBUG: https://www.bain.com:443 \"GET /insights/retail-holiday-newsletter-2014-2015-issue-3/ HTTP/1.1\" 200 46270\n",
      "2020-02-18 09:58:57 [scrapy.core.engine] DEBUG: Crawled (200) <GET https://www.bain.com/insights/mastering-the-good-breakup/> (referer: None)\n",
      "2020-02-18 09:58:57 [scrapy.core.engine] DEBUG: Crawled (200) <GET https://www.bain.com/insights/simplify-to-grow-in-telecommunications/> (referer: None)\n",
      "2020-02-18 09:58:57 [scrapy.core.engine] DEBUG: Crawled (200) <GET https://www.bain.com/insights/growing-prosperity-chapter-4/> (referer: None)\n",
      "2020-02-18 09:58:57 [scrapy.core.engine] DEBUG: Crawled (200) <GET https://www.bain.com/insights/retail-holiday-newsletter-2014-2015-issue-2/> (referer: None)\n",
      "2020-02-18 09:58:57 [urllib3.connectionpool] DEBUG: Starting new HTTPS connection (1): www.bain.com:443\n"
     ]
    },
    {
     "name": "stdout",
     "output_type": "stream",
     "text": [
      "https://www.bain.com/insights/mastering-the-good-breakup/\n"
     ]
    },
    {
     "name": "stderr",
     "output_type": "stream",
     "text": [
      "2020-02-18 09:58:58 [urllib3.connectionpool] DEBUG: https://www.bain.com:443 \"GET /insights/mastering-the-good-breakup/ HTTP/1.1\" 200 43327\n",
      "2020-02-18 09:58:58 [scrapy.core.engine] DEBUG: Crawled (200) <GET https://www.bain.com/insights/growing-prosperity-chapter-3/> (referer: None)\n",
      "2020-02-18 09:58:58 [urllib3.connectionpool] DEBUG: Starting new HTTPS connection (1): www.bain.com:443\n"
     ]
    },
    {
     "name": "stdout",
     "output_type": "stream",
     "text": [
      "https://www.bain.com/insights/simplify-to-grow-in-telecommunications/\n"
     ]
    },
    {
     "name": "stderr",
     "output_type": "stream",
     "text": [
      "2020-02-18 09:59:00 [urllib3.connectionpool] DEBUG: https://www.bain.com:443 \"GET /insights/simplify-to-grow-in-telecommunications/ HTTP/1.1\" 200 42901\n",
      "2020-02-18 09:59:00 [urllib3.connectionpool] DEBUG: Starting new HTTPS connection (1): www.bain.com:443\n"
     ]
    },
    {
     "name": "stdout",
     "output_type": "stream",
     "text": [
      "https://www.bain.com/insights/growing-prosperity-chapter-4/\n"
     ]
    },
    {
     "name": "stderr",
     "output_type": "stream",
     "text": [
      "2020-02-18 09:59:01 [urllib3.connectionpool] DEBUG: https://www.bain.com:443 \"GET /insights/growing-prosperity-chapter-4/ HTTP/1.1\" 200 None\n",
      "2020-02-18 09:59:01 [urllib3.connectionpool] DEBUG: Starting new HTTPS connection (1): www.bain.com:443\n"
     ]
    },
    {
     "name": "stdout",
     "output_type": "stream",
     "text": [
      "https://www.bain.com/insights/retail-holiday-newsletter-2014-2015-issue-2/\n"
     ]
    },
    {
     "name": "stderr",
     "output_type": "stream",
     "text": [
      "2020-02-18 09:59:03 [urllib3.connectionpool] DEBUG: https://www.bain.com:443 \"GET /insights/retail-holiday-newsletter-2014-2015-issue-2/ HTTP/1.1\" 200 48086\n",
      "2020-02-18 09:59:03 [scrapy.core.engine] DEBUG: Crawled (200) <GET https://www.bain.com/insights/winning-with-procurement-in-asia/> (referer: None)\n",
      "2020-02-18 09:59:03 [scrapy.core.engine] DEBUG: Crawled (200) <GET https://www.bain.com/insights/the-power-of-focus-in-medical-technology/> (referer: None)\n",
      "2020-02-18 09:59:03 [scrapy.core.engine] DEBUG: Crawled (200) <GET https://www.bain.com/insights/hidden-treasure-why-energy-efficiency-deserves-a-second-look/> (referer: None)\n",
      "2020-02-18 09:59:03 [scrapy.core.engine] DEBUG: Crawled (200) <GET https://www.bain.com/insights/big-data-analytics-in-oil-and-gas/> (referer: None)\n",
      "2020-02-18 09:59:03 [urllib3.connectionpool] DEBUG: Starting new HTTPS connection (1): www.bain.com:443\n"
     ]
    },
    {
     "name": "stdout",
     "output_type": "stream",
     "text": [
      "https://www.bain.com/insights/growing-prosperity-chapter-3/\n"
     ]
    },
    {
     "name": "stderr",
     "output_type": "stream",
     "text": [
      "2020-02-18 09:59:04 [urllib3.connectionpool] DEBUG: https://www.bain.com:443 \"GET /insights/growing-prosperity-chapter-3/ HTTP/1.1\" 200 61983\n",
      "2020-02-18 09:59:04 [scrapy.core.engine] DEBUG: Crawled (200) <GET https://www.bain.com/insights/why-procurement-in-asia-pac-needs-overhaul-singapore-business-times/> (referer: None)\n",
      "2020-02-18 09:59:04 [urllib3.connectionpool] DEBUG: Starting new HTTPS connection (1): www.bain.com:443\n"
     ]
    },
    {
     "name": "stdout",
     "output_type": "stream",
     "text": [
      "https://www.bain.com/insights/winning-with-procurement-in-asia/\n"
     ]
    },
    {
     "name": "stderr",
     "output_type": "stream",
     "text": [
      "2020-02-18 09:59:06 [urllib3.connectionpool] DEBUG: https://www.bain.com:443 \"GET /insights/winning-with-procurement-in-asia/ HTTP/1.1\" 200 47298\n",
      "2020-02-18 09:59:06 [urllib3.connectionpool] DEBUG: Starting new HTTPS connection (1): www.bain.com:443\n"
     ]
    },
    {
     "name": "stdout",
     "output_type": "stream",
     "text": [
      "https://www.bain.com/insights/the-power-of-focus-in-medical-technology/\n"
     ]
    },
    {
     "name": "stderr",
     "output_type": "stream",
     "text": [
      "2020-02-18 09:59:07 [urllib3.connectionpool] DEBUG: https://www.bain.com:443 \"GET /insights/the-power-of-focus-in-medical-technology/ HTTP/1.1\" 200 43118\n",
      "2020-02-18 09:59:07 [urllib3.connectionpool] DEBUG: Starting new HTTPS connection (1): www.bain.com:443\n"
     ]
    },
    {
     "name": "stdout",
     "output_type": "stream",
     "text": [
      "https://www.bain.com/insights/hidden-treasure-why-energy-efficiency-deserves-a-second-look/\n"
     ]
    },
    {
     "name": "stderr",
     "output_type": "stream",
     "text": [
      "2020-02-18 09:59:09 [urllib3.connectionpool] DEBUG: https://www.bain.com:443 \"GET /insights/hidden-treasure-why-energy-efficiency-deserves-a-second-look/ HTTP/1.1\" 200 48571\n",
      "2020-02-18 09:59:09 [urllib3.connectionpool] DEBUG: Starting new HTTPS connection (1): www.bain.com:443\n"
     ]
    },
    {
     "name": "stdout",
     "output_type": "stream",
     "text": [
      "https://www.bain.com/insights/big-data-analytics-in-oil-and-gas/\n"
     ]
    },
    {
     "name": "stderr",
     "output_type": "stream",
     "text": [
      "2020-02-18 09:59:10 [urllib3.connectionpool] DEBUG: https://www.bain.com:443 \"GET /insights/big-data-analytics-in-oil-and-gas/ HTTP/1.1\" 200 43327\n",
      "2020-02-18 09:59:10 [scrapy.core.engine] DEBUG: Crawled (200) <GET https://www.bain.com/insights/break-out-from-the-g-and-a-cost-treadmill/> (referer: None)\n",
      "2020-02-18 09:59:10 [scrapy.core.engine] DEBUG: Crawled (200) <GET https://www.bain.com/insights/the-renaissance-in-mergers-and-acquisitions-what-to-do-with-all-that-cash/> (referer: None)\n",
      "2020-02-18 09:59:10 [scrapy.core.engine] DEBUG: Crawled (200) <GET https://www.bain.com/insights/is-complexity-killing-your-sales-model/> (referer: None)\n",
      "2020-02-18 09:59:10 [scrapy.core.engine] DEBUG: Crawled (200) <GET https://www.bain.com/insights/adding-value-through-better-procurement-singapore-business-times/> (referer: None)\n",
      "2020-02-18 09:59:10 [scrapy.core.engine] DEBUG: Crawled (200) <GET https://www.bain.com/insights/the-value-of-big-data/> (referer: None)\n",
      "2020-02-18 09:59:10 [urllib3.connectionpool] DEBUG: Starting new HTTPS connection (1): www.bain.com:443\n"
     ]
    },
    {
     "name": "stdout",
     "output_type": "stream",
     "text": [
      "https://www.bain.com/insights/why-procurement-in-asia-pac-needs-overhaul-singapore-business-times/\n"
     ]
    },
    {
     "name": "stderr",
     "output_type": "stream",
     "text": [
      "2020-02-18 09:59:12 [urllib3.connectionpool] DEBUG: https://www.bain.com:443 \"GET /insights/why-procurement-in-asia-pac-needs-overhaul-singapore-business-times/ HTTP/1.1\" 200 40349\n",
      "2020-02-18 09:59:12 [scrapy.core.engine] DEBUG: Crawled (200) <GET https://www.bain.com/insights/hook-the-front-line-on-the-performance-improvement-habit/> (referer: None)\n",
      "2020-02-18 09:59:12 [urllib3.connectionpool] DEBUG: Starting new HTTPS connection (1): www.bain.com:443\n"
     ]
    },
    {
     "name": "stdout",
     "output_type": "stream",
     "text": [
      "https://www.bain.com/insights/break-out-from-the-g-and-a-cost-treadmill/\n"
     ]
    },
    {
     "name": "stderr",
     "output_type": "stream",
     "text": [
      "2020-02-18 09:59:13 [urllib3.connectionpool] DEBUG: https://www.bain.com:443 \"GET /insights/break-out-from-the-g-and-a-cost-treadmill/ HTTP/1.1\" 200 47878\n",
      "2020-02-18 09:59:14 [urllib3.connectionpool] DEBUG: Starting new HTTPS connection (1): www.bain.com:443\n"
     ]
    },
    {
     "name": "stdout",
     "output_type": "stream",
     "text": [
      "https://www.bain.com/insights/the-renaissance-in-mergers-and-acquisitions-what-to-do-with-all-that-cash/\n"
     ]
    },
    {
     "name": "stderr",
     "output_type": "stream",
     "text": [
      "2020-02-18 09:59:15 [urllib3.connectionpool] DEBUG: https://www.bain.com:443 \"GET /insights/the-renaissance-in-mergers-and-acquisitions-what-to-do-with-all-that-cash/ HTTP/1.1\" 200 48024\n",
      "2020-02-18 09:59:15 [urllib3.connectionpool] DEBUG: Starting new HTTPS connection (1): www.bain.com:443\n"
     ]
    },
    {
     "name": "stdout",
     "output_type": "stream",
     "text": [
      "https://www.bain.com/insights/is-complexity-killing-your-sales-model/\n"
     ]
    },
    {
     "name": "stderr",
     "output_type": "stream",
     "text": [
      "2020-02-18 09:59:16 [urllib3.connectionpool] DEBUG: https://www.bain.com:443 \"GET /insights/is-complexity-killing-your-sales-model/ HTTP/1.1\" 200 52029\n",
      "2020-02-18 09:59:16 [urllib3.connectionpool] DEBUG: Starting new HTTPS connection (1): www.bain.com:443\n"
     ]
    },
    {
     "name": "stdout",
     "output_type": "stream",
     "text": [
      "https://www.bain.com/insights/adding-value-through-better-procurement-singapore-business-times/\n"
     ]
    },
    {
     "name": "stderr",
     "output_type": "stream",
     "text": [
      "2020-02-18 09:59:18 [urllib3.connectionpool] DEBUG: https://www.bain.com:443 \"GET /insights/adding-value-through-better-procurement-singapore-business-times/ HTTP/1.1\" 200 40768\n",
      "2020-02-18 09:59:18 [urllib3.connectionpool] DEBUG: Starting new HTTPS connection (1): www.bain.com:443\n"
     ]
    },
    {
     "name": "stdout",
     "output_type": "stream",
     "text": [
      "https://www.bain.com/insights/the-value-of-big-data/\n"
     ]
    },
    {
     "name": "stderr",
     "output_type": "stream",
     "text": [
      "2020-02-18 09:59:19 [urllib3.connectionpool] DEBUG: https://www.bain.com:443 \"GET /insights/the-value-of-big-data/ HTTP/1.1\" 200 40976\n",
      "2020-02-18 09:59:19 [scrapy.core.engine] DEBUG: Crawled (200) <GET https://www.bain.com/insights/the-renaissance-in-mergers-and-acquisitions/> (referer: None)\n",
      "2020-02-18 09:59:19 [scrapy.core.engine] DEBUG: Crawled (200) <GET https://www.bain.com/insights/what-lies-beyond-the-financial-crisis-for-uk-retail-banks/> (referer: None)\n",
      "2020-02-18 09:59:19 [scrapy.core.engine] DEBUG: Crawled (200) <GET https://www.bain.com/insights/do-you-really-have-a-big-data-problem-cio-journal/> (referer: None)\n",
      "2020-02-18 09:59:19 [scrapy.core.engine] DEBUG: Crawled (200) <GET https://www.bain.com/insights/navigating-the-big-data-challenge/> (referer: None)\n",
      "2020-02-18 09:59:19 [scrapy.core.engine] DEBUG: Crawled (200) <GET https://www.bain.com/insights/how-hbr-changed-the-way-i-work-hbr/> (referer: None)\n",
      "2020-02-18 09:59:19 [scrapy.core.engine] DEBUG: Crawled (200) <GET https://www.bain.com/insights/how-to-get-the-most-out-of-your-banks-digital-platform-american-banker/> (referer: None)\n",
      "2020-02-18 09:59:19 [scrapy.core.engine] DEBUG: Crawled (200) <GET https://www.bain.com/insights/digital-challenge-to-retail-banks/> (referer: None)\n",
      "2020-02-18 09:59:19 [urllib3.connectionpool] DEBUG: Starting new HTTPS connection (1): www.bain.com:443\n"
     ]
    },
    {
     "name": "stdout",
     "output_type": "stream",
     "text": [
      "https://www.bain.com/insights/hook-the-front-line-on-the-performance-improvement-habit/\n"
     ]
    },
    {
     "name": "stderr",
     "output_type": "stream",
     "text": [
      "2020-02-18 09:59:21 [urllib3.connectionpool] DEBUG: https://www.bain.com:443 \"GET /insights/hook-the-front-line-on-the-performance-improvement-habit/ HTTP/1.1\" 200 46763\n",
      "2020-02-18 09:59:21 [scrapy.core.engine] DEBUG: Crawled (200) <GET https://www.bain.com/insights/national-oil-companies-reshape-the-playing-field/> (referer: None)\n",
      "2020-02-18 09:59:21 [urllib3.connectionpool] DEBUG: Starting new HTTPS connection (1): www.bain.com:443\n"
     ]
    },
    {
     "name": "stdout",
     "output_type": "stream",
     "text": [
      "https://www.bain.com/insights/the-renaissance-in-mergers-and-acquisitions/\n"
     ]
    },
    {
     "name": "stderr",
     "output_type": "stream",
     "text": [
      "2020-02-18 09:59:22 [urllib3.connectionpool] DEBUG: https://www.bain.com:443 \"GET /insights/the-renaissance-in-mergers-and-acquisitions/ HTTP/1.1\" 200 48598\n",
      "2020-02-18 09:59:22 [urllib3.connectionpool] DEBUG: Starting new HTTPS connection (1): www.bain.com:443\n"
     ]
    },
    {
     "name": "stdout",
     "output_type": "stream",
     "text": [
      "https://www.bain.com/insights/what-lies-beyond-the-financial-crisis-for-uk-retail-banks/\n"
     ]
    },
    {
     "name": "stderr",
     "output_type": "stream",
     "text": [
      "2020-02-18 09:59:24 [urllib3.connectionpool] DEBUG: https://www.bain.com:443 \"GET /insights/what-lies-beyond-the-financial-crisis-for-uk-retail-banks/ HTTP/1.1\" 200 41784\n",
      "2020-02-18 09:59:24 [urllib3.connectionpool] DEBUG: Starting new HTTPS connection (1): www.bain.com:443\n"
     ]
    },
    {
     "name": "stdout",
     "output_type": "stream",
     "text": [
      "https://www.bain.com/insights/do-you-really-have-a-big-data-problem-cio-journal/\n"
     ]
    },
    {
     "name": "stderr",
     "output_type": "stream",
     "text": [
      "2020-02-18 09:59:25 [urllib3.connectionpool] DEBUG: https://www.bain.com:443 \"GET /insights/do-you-really-have-a-big-data-problem-cio-journal/ HTTP/1.1\" 200 35872\n",
      "2020-02-18 09:59:25 [urllib3.connectionpool] DEBUG: Starting new HTTPS connection (1): www.bain.com:443\n"
     ]
    },
    {
     "name": "stdout",
     "output_type": "stream",
     "text": [
      "https://www.bain.com/insights/navigating-the-big-data-challenge/\n"
     ]
    },
    {
     "name": "stderr",
     "output_type": "stream",
     "text": [
      "2020-02-18 09:59:26 [urllib3.connectionpool] DEBUG: https://www.bain.com:443 \"GET /insights/navigating-the-big-data-challenge/ HTTP/1.1\" 200 40932\n",
      "2020-02-18 09:59:27 [urllib3.connectionpool] DEBUG: Starting new HTTPS connection (1): www.bain.com:443\n"
     ]
    },
    {
     "name": "stdout",
     "output_type": "stream",
     "text": [
      "https://www.bain.com/insights/how-hbr-changed-the-way-i-work-hbr/\n"
     ]
    },
    {
     "name": "stderr",
     "output_type": "stream",
     "text": [
      "2020-02-18 09:59:28 [urllib3.connectionpool] DEBUG: https://www.bain.com:443 \"GET /insights/how-hbr-changed-the-way-i-work-hbr/ HTTP/1.1\" 200 37126\n",
      "2020-02-18 09:59:28 [urllib3.connectionpool] DEBUG: Starting new HTTPS connection (1): www.bain.com:443\n"
     ]
    },
    {
     "name": "stdout",
     "output_type": "stream",
     "text": [
      "https://www.bain.com/insights/how-to-get-the-most-out-of-your-banks-digital-platform-american-banker/\n"
     ]
    },
    {
     "name": "stderr",
     "output_type": "stream",
     "text": [
      "2020-02-18 09:59:29 [urllib3.connectionpool] DEBUG: https://www.bain.com:443 \"GET /insights/how-to-get-the-most-out-of-your-banks-digital-platform-american-banker/ HTTP/1.1\" 200 37598\n",
      "2020-02-18 09:59:29 [urllib3.connectionpool] DEBUG: Starting new HTTPS connection (1): www.bain.com:443\n"
     ]
    },
    {
     "name": "stdout",
     "output_type": "stream",
     "text": [
      "https://www.bain.com/insights/digital-challenge-to-retail-banks/\n"
     ]
    },
    {
     "name": "stderr",
     "output_type": "stream",
     "text": [
      "2020-02-18 09:59:31 [urllib3.connectionpool] DEBUG: https://www.bain.com:443 \"GET /insights/digital-challenge-to-retail-banks/ HTTP/1.1\" 200 52772\n",
      "2020-02-18 09:59:31 [scrapy.core.engine] DEBUG: Crawled (200) <GET https://www.bain.com/insights/rethink-familiar-business-models-aviation-week/> (referer: None)\n",
      "2020-02-18 09:59:31 [urllib3.connectionpool] DEBUG: Starting new HTTPS connection (1): www.bain.com:443\n"
     ]
    },
    {
     "name": "stdout",
     "output_type": "stream",
     "text": [
      "https://www.bain.com/insights/national-oil-companies-reshape-the-playing-field/\n"
     ]
    },
    {
     "name": "stderr",
     "output_type": "stream",
     "text": [
      "2020-02-18 09:59:32 [urllib3.connectionpool] DEBUG: https://www.bain.com:443 \"GET /insights/national-oil-companies-reshape-the-playing-field/ HTTP/1.1\" 200 55115\n",
      "2020-02-18 09:59:32 [scrapy.core.engine] DEBUG: Crawled (200) <GET https://www.bain.com/insights/how-companies-create-enduring-businesses-in-a-world-of-constant-change-world-financial-review/> (referer: None)\n",
      "2020-02-18 09:59:32 [urllib3.connectionpool] DEBUG: Starting new HTTPS connection (1): www.bain.com:443\n"
     ]
    },
    {
     "name": "stdout",
     "output_type": "stream",
     "text": [
      "https://www.bain.com/insights/rethink-familiar-business-models-aviation-week/\n"
     ]
    },
    {
     "name": "stderr",
     "output_type": "stream",
     "text": [
      "2020-02-18 09:59:33 [urllib3.connectionpool] DEBUG: https://www.bain.com:443 \"GET /insights/rethink-familiar-business-models-aviation-week/ HTTP/1.1\" 200 37118\n",
      "2020-02-18 09:59:33 [scrapy.core.engine] DEBUG: Crawled (200) <GET https://www.bain.com/insights/brand-rethink-ceo-forum/> (referer: None)\n",
      "2020-02-18 09:59:33 [urllib3.connectionpool] DEBUG: Starting new HTTPS connection (1): www.bain.com:443\n"
     ]
    },
    {
     "name": "stdout",
     "output_type": "stream",
     "text": [
      "https://www.bain.com/insights/how-companies-create-enduring-businesses-in-a-world-of-constant-change-world-financial-review/\n"
     ]
    },
    {
     "name": "stderr",
     "output_type": "stream",
     "text": [
      "2020-02-18 09:59:35 [urllib3.connectionpool] DEBUG: https://www.bain.com:443 \"GET /insights/how-companies-create-enduring-businesses-in-a-world-of-constant-change-world-financial-review/ HTTP/1.1\" 200 48005\n",
      "2020-02-18 09:59:35 [scrapy.extensions.logstats] INFO: Crawled 200 pages (at 42 pages/min), scraped 0 items (at 0 items/min)\n",
      "2020-02-18 09:59:35 [scrapy.core.engine] DEBUG: Crawled (200) <GET https://www.bain.com/insights/for-brands-the-need-to-rethink-everything-forbes/> (referer: None)\n",
      "2020-02-18 09:59:35 [urllib3.connectionpool] DEBUG: Starting new HTTPS connection (1): www.bain.com:443\n"
     ]
    },
    {
     "name": "stdout",
     "output_type": "stream",
     "text": [
      "https://www.bain.com/insights/brand-rethink-ceo-forum/\n"
     ]
    },
    {
     "name": "stderr",
     "output_type": "stream",
     "text": [
      "2020-02-18 09:59:36 [urllib3.connectionpool] DEBUG: https://www.bain.com:443 \"GET /insights/brand-rethink-ceo-forum/ HTTP/1.1\" 200 37372\n",
      "2020-02-18 09:59:36 [urllib3.connectionpool] DEBUG: Starting new HTTPS connection (1): www.bain.com:443\n"
     ]
    },
    {
     "name": "stdout",
     "output_type": "stream",
     "text": [
      "https://www.bain.com/insights/for-brands-the-need-to-rethink-everything-forbes/\n"
     ]
    },
    {
     "name": "stderr",
     "output_type": "stream",
     "text": [
      "2020-02-18 09:59:37 [urllib3.connectionpool] DEBUG: https://www.bain.com:443 \"GET /insights/for-brands-the-need-to-rethink-everything-forbes/ HTTP/1.1\" 200 38312\n",
      "2020-02-18 09:59:37 [scrapy.core.engine] DEBUG: Crawled (200) <GET https://www.bain.com/insights/the-strategic-principles-of-repeatability/> (referer: None)\n",
      "2020-02-18 09:59:38 [urllib3.connectionpool] DEBUG: Starting new HTTPS connection (1): www.bain.com:443\n"
     ]
    },
    {
     "name": "stdout",
     "output_type": "stream",
     "text": [
      "https://www.bain.com/insights/the-strategic-principles-of-repeatability/\n"
     ]
    },
    {
     "name": "stderr",
     "output_type": "stream",
     "text": [
      "2020-02-18 09:59:39 [urllib3.connectionpool] DEBUG: https://www.bain.com:443 \"GET /insights/the-strategic-principles-of-repeatability/ HTTP/1.1\" 200 50146\n",
      "2020-02-18 09:59:39 [scrapy.core.engine] DEBUG: Crawled (200) <GET https://www.bain.com/insights/creating-an-adaptive-go-to-market-system/> (referer: None)\n",
      "2020-02-18 09:59:39 [scrapy.core.engine] DEBUG: Crawled (200) <GET https://www.bain.com/insights/growth-trends-to-2020-ceo-forum/> (referer: None)\n",
      "2020-02-18 09:59:39 [urllib3.connectionpool] DEBUG: Starting new HTTPS connection (1): www.bain.com:443\n"
     ]
    },
    {
     "name": "stdout",
     "output_type": "stream",
     "text": [
      "https://www.bain.com/insights/creating-an-adaptive-go-to-market-system/\n"
     ]
    },
    {
     "name": "stderr",
     "output_type": "stream",
     "text": [
      "2020-02-18 09:59:40 [urllib3.connectionpool] DEBUG: https://www.bain.com:443 \"GET /insights/creating-an-adaptive-go-to-market-system/ HTTP/1.1\" 200 48758\n",
      "2020-02-18 09:59:40 [scrapy.core.engine] DEBUG: Crawled (200) <GET https://www.bain.com/insights/eight-great-trillion-dollar-growth-trends-to-2020/> (referer: None)\n",
      "2020-02-18 09:59:40 [urllib3.connectionpool] DEBUG: Starting new HTTPS connection (1): www.bain.com:443\n"
     ]
    },
    {
     "name": "stdout",
     "output_type": "stream",
     "text": [
      "https://www.bain.com/insights/growth-trends-to-2020-ceo-forum/\n"
     ]
    },
    {
     "name": "stderr",
     "output_type": "stream",
     "text": [
      "2020-02-18 09:59:42 [urllib3.connectionpool] DEBUG: https://www.bain.com:443 \"GET /insights/growth-trends-to-2020-ceo-forum/ HTTP/1.1\" 200 37726\n",
      "2020-02-18 09:59:42 [scrapy.core.engine] DEBUG: Crawled (200) <GET https://www.bain.com/insights/putting-social-media-to-work/> (referer: None)\n",
      "2020-02-18 09:59:42 [urllib3.connectionpool] DEBUG: Starting new HTTPS connection (1): www.bain.com:443\n"
     ]
    },
    {
     "name": "stdout",
     "output_type": "stream",
     "text": [
      "https://www.bain.com/insights/eight-great-trillion-dollar-growth-trends-to-2020/\n"
     ]
    },
    {
     "name": "stderr",
     "output_type": "stream",
     "text": [
      "2020-02-18 09:59:43 [urllib3.connectionpool] DEBUG: https://www.bain.com:443 \"GET /insights/eight-great-trillion-dollar-growth-trends-to-2020/ HTTP/1.1\" 200 53000\n",
      "2020-02-18 09:59:43 [scrapy.core.engine] DEBUG: Crawled (200) <GET https://www.bain.com/insights/trillion-dollar-growth-trends-to-2020-forbes/> (referer: None)\n",
      "2020-02-18 09:59:43 [urllib3.connectionpool] DEBUG: Starting new HTTPS connection (1): www.bain.com:443\n"
     ]
    },
    {
     "name": "stdout",
     "output_type": "stream",
     "text": [
      "https://www.bain.com/insights/putting-social-media-to-work/\n"
     ]
    },
    {
     "name": "stderr",
     "output_type": "stream",
     "text": [
      "2020-02-18 09:59:44 [urllib3.connectionpool] DEBUG: https://www.bain.com:443 \"GET /insights/putting-social-media-to-work/ HTTP/1.1\" 200 47043\n",
      "2020-02-18 09:59:44 [scrapy.core.engine] DEBUG: Crawled (200) <GET https://www.bain.com/insights/macro-trends-to-add-trillions-of-dollars-to-global-gdp-in-2020-the-economic-times/> (referer: None)\n",
      "2020-02-18 09:59:44 [scrapy.core.engine] DEBUG: Crawled (200) <GET https://www.bain.com/insights/gaining-an-edge-over-peers-oman-tribune/> (referer: None)\n",
      "2020-02-18 09:59:44 [urllib3.connectionpool] DEBUG: Starting new HTTPS connection (1): www.bain.com:443\n"
     ]
    },
    {
     "name": "stdout",
     "output_type": "stream",
     "text": [
      "https://www.bain.com/insights/trillion-dollar-growth-trends-to-2020-forbes/\n"
     ]
    },
    {
     "name": "stderr",
     "output_type": "stream",
     "text": [
      "2020-02-18 09:59:46 [urllib3.connectionpool] DEBUG: https://www.bain.com:443 \"GET /insights/trillion-dollar-growth-trends-to-2020-forbes/ HTTP/1.1\" 200 37873\n",
      "2020-02-18 09:59:46 [scrapy.core.engine] DEBUG: Crawled (200) <GET https://www.bain.com/insights/five-faces-of-the-cloud/> (referer: None)\n",
      "2020-02-18 09:59:46 [urllib3.connectionpool] DEBUG: Starting new HTTPS connection (1): www.bain.com:443\n"
     ]
    },
    {
     "name": "stdout",
     "output_type": "stream",
     "text": [
      "https://www.bain.com/insights/macro-trends-to-add-trillions-of-dollars-to-global-gdp-in-2020-the-economic-times/\n"
     ]
    },
    {
     "name": "stderr",
     "output_type": "stream",
     "text": [
      "2020-02-18 09:59:47 [urllib3.connectionpool] DEBUG: https://www.bain.com:443 \"GET /insights/macro-trends-to-add-trillions-of-dollars-to-global-gdp-in-2020-the-economic-times/ HTTP/1.1\" 200 38131\n",
      "2020-02-18 09:59:47 [urllib3.connectionpool] DEBUG: Starting new HTTPS connection (1): www.bain.com:443\n"
     ]
    },
    {
     "name": "stdout",
     "output_type": "stream",
     "text": [
      "https://www.bain.com/insights/gaining-an-edge-over-peers-oman-tribune/\n"
     ]
    },
    {
     "name": "stderr",
     "output_type": "stream",
     "text": [
      "2020-02-18 09:59:49 [urllib3.connectionpool] DEBUG: https://www.bain.com:443 \"GET /insights/gaining-an-edge-over-peers-oman-tribune/ HTTP/1.1\" 200 38526\n",
      "2020-02-18 09:59:49 [scrapy.core.engine] DEBUG: Crawled (200) <GET https://www.bain.com/insights/what-it-takes-to-win-with-customer-experience/> (referer: None)\n",
      "2020-02-18 09:59:49 [scrapy.core.engine] DEBUG: Crawled (200) <GET https://www.bain.com/insights/decision-insights-intels-process-intelligence-business-spectator/> (referer: None)\n",
      "2020-02-18 09:59:49 [urllib3.connectionpool] DEBUG: Starting new HTTPS connection (1): www.bain.com:443\n"
     ]
    },
    {
     "name": "stdout",
     "output_type": "stream",
     "text": [
      "https://www.bain.com/insights/five-faces-of-the-cloud/\n"
     ]
    },
    {
     "name": "stderr",
     "output_type": "stream",
     "text": [
      "2020-02-18 09:59:50 [urllib3.connectionpool] DEBUG: https://www.bain.com:443 \"GET /insights/five-faces-of-the-cloud/ HTTP/1.1\" 200 45891\n",
      "2020-02-18 09:59:50 [scrapy.core.engine] DEBUG: Crawled (200) <GET https://www.bain.com/insights/desperately-seeking-simplicity-hbr/> (referer: None)\n",
      "2020-02-18 09:59:50 [urllib3.connectionpool] DEBUG: Starting new HTTPS connection (1): www.bain.com:443\n"
     ]
    },
    {
     "name": "stdout",
     "output_type": "stream",
     "text": [
      "https://www.bain.com/insights/what-it-takes-to-win-with-customer-experience/\n"
     ]
    },
    {
     "name": "stderr",
     "output_type": "stream",
     "text": [
      "2020-02-18 09:59:52 [urllib3.connectionpool] DEBUG: https://www.bain.com:443 \"GET /insights/what-it-takes-to-win-with-customer-experience/ HTTP/1.1\" 200 46252\n",
      "2020-02-18 09:59:52 [urllib3.connectionpool] DEBUG: Starting new HTTPS connection (1): www.bain.com:443\n"
     ]
    },
    {
     "name": "stdout",
     "output_type": "stream",
     "text": [
      "https://www.bain.com/insights/decision-insights-intels-process-intelligence-business-spectator/\n"
     ]
    },
    {
     "name": "stderr",
     "output_type": "stream",
     "text": [
      "2020-02-18 09:59:53 [urllib3.connectionpool] DEBUG: https://www.bain.com:443 \"GET /insights/decision-insights-intels-process-intelligence-business-spectator/ HTTP/1.1\" 200 41520\n",
      "2020-02-18 09:59:53 [scrapy.core.engine] DEBUG: Crawled (200) <GET https://www.bain.com/insights/reenergizing-japan-incs-growth-company-by-company/> (referer: None)\n",
      "2020-02-18 09:59:53 [scrapy.core.engine] DEBUG: Crawled (200) <GET https://www.bain.com/insights/creating-new-commercial-model-for-changing-medtech-market/> (referer: None)\n",
      "2020-02-18 09:59:53 [urllib3.connectionpool] DEBUG: Starting new HTTPS connection (1): www.bain.com:443\n"
     ]
    },
    {
     "name": "stdout",
     "output_type": "stream",
     "text": [
      "https://www.bain.com/insights/desperately-seeking-simplicity-hbr/\n"
     ]
    },
    {
     "name": "stderr",
     "output_type": "stream",
     "text": [
      "2020-02-18 09:59:55 [urllib3.connectionpool] DEBUG: https://www.bain.com:443 \"GET /insights/desperately-seeking-simplicity-hbr/ HTTP/1.1\" 200 39042\n",
      "2020-02-18 09:59:55 [scrapy.core.engine] DEBUG: Crawled (200) <GET https://www.bain.com/insights/chic-is-out-cheap-is-in/> (referer: None)\n",
      "2020-02-18 09:59:55 [urllib3.connectionpool] DEBUG: Starting new HTTPS connection (1): www.bain.com:443\n"
     ]
    },
    {
     "name": "stdout",
     "output_type": "stream",
     "text": [
      "https://www.bain.com/insights/reenergizing-japan-incs-growth-company-by-company/\n"
     ]
    },
    {
     "name": "stderr",
     "output_type": "stream",
     "text": [
      "2020-02-18 09:59:56 [urllib3.connectionpool] DEBUG: https://www.bain.com:443 \"GET /insights/reenergizing-japan-incs-growth-company-by-company/ HTTP/1.1\" 200 54087\n",
      "2020-02-18 09:59:56 [urllib3.connectionpool] DEBUG: Starting new HTTPS connection (1): www.bain.com:443\n"
     ]
    },
    {
     "name": "stdout",
     "output_type": "stream",
     "text": [
      "https://www.bain.com/insights/creating-new-commercial-model-for-changing-medtech-market/\n"
     ]
    },
    {
     "name": "stderr",
     "output_type": "stream",
     "text": [
      "2020-02-18 09:59:58 [urllib3.connectionpool] DEBUG: https://www.bain.com:443 \"GET /insights/creating-new-commercial-model-for-changing-medtech-market/ HTTP/1.1\" 200 41646\n",
      "2020-02-18 09:59:58 [scrapy.core.engine] DEBUG: Crawled (200) <GET https://www.bain.com/insights/getting-ahead-of-game-changing-trends/> (referer: None)\n",
      "2020-02-18 09:59:58 [scrapy.core.engine] DEBUG: Crawled (200) <GET https://www.bain.com/insights/finding-opportunity-in-dollar-decline/> (referer: None)\n",
      "2020-02-18 09:59:58 [urllib3.connectionpool] DEBUG: Starting new HTTPS connection (1): www.bain.com:443\n"
     ]
    },
    {
     "name": "stdout",
     "output_type": "stream",
     "text": [
      "https://www.bain.com/insights/chic-is-out-cheap-is-in/\n"
     ]
    },
    {
     "name": "stderr",
     "output_type": "stream",
     "text": [
      "2020-02-18 09:59:59 [urllib3.connectionpool] DEBUG: https://www.bain.com:443 \"GET /insights/chic-is-out-cheap-is-in/ HTTP/1.1\" 200 40510\n",
      "2020-02-18 09:59:59 [scrapy.core.engine] DEBUG: Crawled (200) <GET https://www.bain.com/insights/mobile-internet-for-growth-project-report-phase-1/> (referer: None)\n",
      "2020-02-18 09:59:59 [scrapy.core.engine] DEBUG: Crawled (200) <GET https://www.bain.com/insights/new-state-play-white-paper-summarising-contributions-60-senior-executives-european-companies/> (referer: None)\n",
      "2020-02-18 09:59:59 [urllib3.connectionpool] DEBUG: Starting new HTTPS connection (1): www.bain.com:443\n"
     ]
    },
    {
     "name": "stdout",
     "output_type": "stream",
     "text": [
      "https://www.bain.com/insights/getting-ahead-of-game-changing-trends/\n"
     ]
    },
    {
     "name": "stderr",
     "output_type": "stream",
     "text": [
      "2020-02-18 10:00:01 [urllib3.connectionpool] DEBUG: https://www.bain.com:443 \"GET /insights/getting-ahead-of-game-changing-trends/ HTTP/1.1\" 200 39644\n",
      "2020-02-18 10:00:01 [urllib3.connectionpool] DEBUG: Starting new HTTPS connection (1): www.bain.com:443\n"
     ]
    },
    {
     "name": "stdout",
     "output_type": "stream",
     "text": [
      "https://www.bain.com/insights/finding-opportunity-in-dollar-decline/\n"
     ]
    },
    {
     "name": "stderr",
     "output_type": "stream",
     "text": [
      "2020-02-18 10:00:02 [urllib3.connectionpool] DEBUG: https://www.bain.com:443 \"GET /insights/finding-opportunity-in-dollar-decline/ HTTP/1.1\" 200 39969\n",
      "2020-02-18 10:00:02 [scrapy.core.engine] DEBUG: Crawled (200) <GET https://www.bain.com/insights/the-great-repeatable-leader/> (referer: None)\n",
      "2020-02-18 10:00:02 [scrapy.core.engine] DEBUG: Crawled (200) <GET https://www.bain.com/insights/leadership-without-control/> (referer: None)\n",
      "2020-02-18 10:00:02 [scrapy.core.engine] DEBUG: Crawled (200) <GET https://www.bain.com/insights/private-equity-must-skill-up-for-upturn/> (referer: None)\n",
      "2020-02-18 10:00:02 [urllib3.connectionpool] DEBUG: Starting new HTTPS connection (1): www.bain.com:443\n"
     ]
    },
    {
     "name": "stdout",
     "output_type": "stream",
     "text": [
      "https://www.bain.com/insights/mobile-internet-for-growth-project-report-phase-1/\n"
     ]
    },
    {
     "name": "stderr",
     "output_type": "stream",
     "text": [
      "2020-02-18 10:00:03 [urllib3.connectionpool] DEBUG: https://www.bain.com:443 \"GET /insights/mobile-internet-for-growth-project-report-phase-1/ HTTP/1.1\" 200 None\n",
      "2020-02-18 10:00:03 [urllib3.connectionpool] DEBUG: Starting new HTTPS connection (1): www.bain.com:443\n"
     ]
    },
    {
     "name": "stdout",
     "output_type": "stream",
     "text": [
      "https://www.bain.com/insights/new-state-play-white-paper-summarising-contributions-60-senior-executives-european-companies/\n"
     ]
    },
    {
     "name": "stderr",
     "output_type": "stream",
     "text": [
      "2020-02-18 10:00:04 [urllib3.connectionpool] DEBUG: https://www.bain.com:443 \"GET /insights/new-state-play-white-paper-summarising-contributions-60-senior-executives-european-companies/ HTTP/1.1\" 200 63748\n",
      "2020-02-18 10:00:05 [scrapy.core.engine] DEBUG: Crawled (200) <GET https://www.bain.com/insights/the-right-ways-to-grow/> (referer: None)\n",
      "2020-02-18 10:00:05 [urllib3.connectionpool] DEBUG: Starting new HTTPS connection (1): www.bain.com:443\n"
     ]
    },
    {
     "name": "stdout",
     "output_type": "stream",
     "text": [
      "https://www.bain.com/insights/the-great-repeatable-leader/\n"
     ]
    },
    {
     "name": "stderr",
     "output_type": "stream",
     "text": [
      "2020-02-18 10:00:06 [urllib3.connectionpool] DEBUG: https://www.bain.com:443 \"GET /insights/the-great-repeatable-leader/ HTTP/1.1\" 200 38966\n",
      "2020-02-18 10:00:06 [urllib3.connectionpool] DEBUG: Starting new HTTPS connection (1): www.bain.com:443\n"
     ]
    },
    {
     "name": "stdout",
     "output_type": "stream",
     "text": [
      "https://www.bain.com/insights/leadership-without-control/\n"
     ]
    },
    {
     "name": "stderr",
     "output_type": "stream",
     "text": [
      "2020-02-18 10:00:07 [urllib3.connectionpool] DEBUG: https://www.bain.com:443 \"GET /insights/leadership-without-control/ HTTP/1.1\" 200 36105\n",
      "2020-02-18 10:00:08 [urllib3.connectionpool] DEBUG: Starting new HTTPS connection (1): www.bain.com:443\n"
     ]
    },
    {
     "name": "stdout",
     "output_type": "stream",
     "text": [
      "https://www.bain.com/insights/private-equity-must-skill-up-for-upturn/\n"
     ]
    },
    {
     "name": "stderr",
     "output_type": "stream",
     "text": [
      "2020-02-18 10:00:09 [urllib3.connectionpool] DEBUG: https://www.bain.com:443 \"GET /insights/private-equity-must-skill-up-for-upturn/ HTTP/1.1\" 200 37401\n",
      "2020-02-18 10:00:09 [scrapy.core.engine] DEBUG: Crawled (200) <GET https://www.bain.com/insights/business-leadership-branching-out/> (referer: None)\n",
      "2020-02-18 10:00:09 [scrapy.core.engine] DEBUG: Crawled (200) <GET https://www.bain.com/insights/outsmarting-wal-mart/> (referer: None)\n",
      "2020-02-18 10:00:09 [scrapy.core.engine] DEBUG: Crawled (200) <GET https://www.bain.com/insights/companies-need-to-prepare-for-tough-times-ahead/> (referer: None)\n",
      "2020-02-18 10:00:09 [scrapy.core.engine] DEBUG: Crawled (200) <GET https://www.bain.com/insights/the-users-guide-to-reengineering/> (referer: None)\n",
      "2020-02-18 10:00:09 [scrapy.core.engine] DEBUG: Crawled (200) <GET https://www.bain.com/insights/asia-discovers-its-m-and-a-potential/> (referer: None)\n",
      "2020-02-18 10:00:09 [urllib3.connectionpool] DEBUG: Starting new HTTPS connection (1): www.bain.com:443\n"
     ]
    },
    {
     "name": "stdout",
     "output_type": "stream",
     "text": [
      "https://www.bain.com/insights/the-right-ways-to-grow/\n"
     ]
    },
    {
     "name": "stderr",
     "output_type": "stream",
     "text": [
      "2020-02-18 10:00:11 [urllib3.connectionpool] DEBUG: https://www.bain.com:443 \"GET /insights/the-right-ways-to-grow/ HTTP/1.1\" 200 37623\n",
      "2020-02-18 10:00:11 [scrapy.core.engine] DEBUG: Crawled (200) <GET https://www.bain.com/insights/localization-revolution-in-consumer-markets/> (referer: None)\n",
      "2020-02-18 10:00:11 [urllib3.connectionpool] DEBUG: Starting new HTTPS connection (1): www.bain.com:443\n"
     ]
    },
    {
     "name": "stdout",
     "output_type": "stream",
     "text": [
      "https://www.bain.com/insights/business-leadership-branching-out/\n"
     ]
    },
    {
     "name": "stderr",
     "output_type": "stream",
     "text": [
      "2020-02-18 10:00:12 [urllib3.connectionpool] DEBUG: https://www.bain.com:443 \"GET /insights/business-leadership-branching-out/ HTTP/1.1\" 200 42806\n",
      "2020-02-18 10:00:12 [urllib3.connectionpool] DEBUG: Starting new HTTPS connection (1): www.bain.com:443\n"
     ]
    },
    {
     "name": "stdout",
     "output_type": "stream",
     "text": [
      "https://www.bain.com/insights/outsmarting-wal-mart/\n"
     ]
    },
    {
     "name": "stderr",
     "output_type": "stream",
     "text": [
      "2020-02-18 10:00:14 [urllib3.connectionpool] DEBUG: https://www.bain.com:443 \"GET /insights/outsmarting-wal-mart/ HTTP/1.1\" 200 37080\n",
      "2020-02-18 10:00:14 [urllib3.connectionpool] DEBUG: Starting new HTTPS connection (1): www.bain.com:443\n"
     ]
    },
    {
     "name": "stdout",
     "output_type": "stream",
     "text": [
      "https://www.bain.com/insights/companies-need-to-prepare-for-tough-times-ahead/\n"
     ]
    },
    {
     "name": "stderr",
     "output_type": "stream",
     "text": [
      "2020-02-18 10:00:21 [urllib3.connectionpool] DEBUG: https://www.bain.com:443 \"GET /insights/companies-need-to-prepare-for-tough-times-ahead/ HTTP/1.1\" 200 38507\n",
      "2020-02-18 10:00:21 [urllib3.connectionpool] DEBUG: Starting new HTTPS connection (1): www.bain.com:443\n"
     ]
    },
    {
     "name": "stdout",
     "output_type": "stream",
     "text": [
      "https://www.bain.com/insights/the-users-guide-to-reengineering/\n"
     ]
    },
    {
     "name": "stderr",
     "output_type": "stream",
     "text": [
      "2020-02-18 10:00:22 [urllib3.connectionpool] DEBUG: https://www.bain.com:443 \"GET /insights/the-users-guide-to-reengineering/ HTTP/1.1\" 200 43782\n",
      "2020-02-18 10:00:22 [urllib3.connectionpool] DEBUG: Starting new HTTPS connection (1): www.bain.com:443\n"
     ]
    },
    {
     "name": "stdout",
     "output_type": "stream",
     "text": [
      "https://www.bain.com/insights/asia-discovers-its-m-and-a-potential/\n"
     ]
    },
    {
     "name": "stderr",
     "output_type": "stream",
     "text": [
      "2020-02-18 10:00:24 [urllib3.connectionpool] DEBUG: https://www.bain.com:443 \"GET /insights/asia-discovers-its-m-and-a-potential/ HTTP/1.1\" 200 41951\n",
      "2020-02-18 10:00:24 [scrapy.core.engine] DEBUG: Crawled (200) <GET https://www.bain.com/insights/helping-knowledge-management-be-all-it-can-be/> (referer: None)\n",
      "2020-02-18 10:00:24 [urllib3.connectionpool] DEBUG: Starting new HTTPS connection (1): www.bain.com:443\n"
     ]
    },
    {
     "name": "stdout",
     "output_type": "stream",
     "text": [
      "https://www.bain.com/insights/localization-revolution-in-consumer-markets/\n"
     ]
    },
    {
     "name": "stderr",
     "output_type": "stream",
     "text": [
      "2020-02-18 10:00:25 [urllib3.connectionpool] DEBUG: https://www.bain.com:443 \"GET /insights/localization-revolution-in-consumer-markets/ HTTP/1.1\" 200 37672\n",
      "2020-02-18 10:00:25 [urllib3.connectionpool] DEBUG: Starting new HTTPS connection (1): www.bain.com:443\n"
     ]
    },
    {
     "name": "stdout",
     "output_type": "stream",
     "text": [
      "https://www.bain.com/insights/helping-knowledge-management-be-all-it-can-be/\n"
     ]
    },
    {
     "name": "stderr",
     "output_type": "stream",
     "text": [
      "2020-02-18 10:00:27 [urllib3.connectionpool] DEBUG: https://www.bain.com:443 \"GET /insights/helping-knowledge-management-be-all-it-can-be/ HTTP/1.1\" 200 46492\n",
      "2020-02-18 10:00:27 [scrapy.core.engine] INFO: Closing spider (finished)\n",
      "2020-02-18 10:00:27 [scrapy.statscollectors] INFO: Dumping Scrapy stats:\n",
      "{'downloader/request_bytes': 101607,\n",
      " 'downloader/request_count': 231,\n",
      " 'downloader/request_method_count/GET': 231,\n",
      " 'downloader/response_bytes': 10559056,\n",
      " 'downloader/response_count': 231,\n",
      " 'downloader/response_status_count/200': 231,\n",
      " 'finish_reason': 'finished',\n",
      " 'finish_time': datetime.datetime(2020, 2, 18, 9, 0, 27, 243688),\n",
      " 'log_count/DEBUG': 694,\n",
      " 'log_count/INFO': 13,\n",
      " 'response_received_count': 231,\n",
      " 'scheduler/dequeued': 231,\n",
      " 'scheduler/dequeued/memory': 231,\n",
      " 'scheduler/enqueued': 231,\n",
      " 'scheduler/enqueued/memory': 231,\n",
      " 'start_time': datetime.datetime(2020, 2, 18, 8, 54, 33, 2378)}\n",
      "2020-02-18 10:00:27 [scrapy.core.engine] INFO: Spider closed (finished)\n"
     ]
    }
   ],
   "source": [
    "from scrapy.crawler import CrawlerProcess\n",
    "from datetime import date\n",
    "\n",
    "# Create class\n",
    "class bain_spider (scrapy.Spider):\n",
    "    name = \"bain_spider\"\n",
    "    \n",
    "    def start_requests(self):\n",
    "        urls = urllist\n",
    "        \n",
    "        for url in urls:\n",
    "            yield scrapy.Request(url = url, callback = self.parse)\n",
    "            \n",
    "    #Parsing\n",
    "    def parse(self, response):\n",
    "        print(response.url)\n",
    "        \n",
    "        page_dict = dict()\n",
    "        siteno = len(main_dict) + 1\n",
    "        \n",
    "        page_url = response.url\n",
    "        \n",
    "        page_html = requests.get(page_url).content\n",
    "        page_sel = Selector(text = page_html)\n",
    "        \n",
    "        text_sel = '#body > article > div.article-container ::text'\n",
    "        title_sel = '//meta[contains(@property, \"og:title\")]/@content'\n",
    "        date_sel = '//meta[contains(@property, \"article:published_time\")]/@content'\n",
    "        datemod_sel = '//meta[contains(@property, \"article:modified_time\")]/@content'\n",
    "        texttype_sel = '//meta[contains(@property, \"og:type\")]/@content'\n",
    "        \n",
    "        page_title = page_sel.xpath(title_sel).extract_first()\n",
    "        page_date = page_sel.xpath(date_sel).extract_first()\n",
    "        page_datemod = page_sel.xpath(datemod_sel).extract_first()\n",
    "        page_texttype = page_sel.xpath(texttype_sel).extract_first()\n",
    "        page_dldate = date.today().strftime('%Y/%m/%d')\n",
    "        page_text = page_sel.css(text_sel).extract()\n",
    "\n",
    "        page_text = ' '.join(page_text)\n",
    "        \n",
    "        page_id = 'site' + str(siteno)\n",
    "        \n",
    "        page_dict['url'] = page_url\n",
    "        page_dict['title'] = page_title\n",
    "        page_dict['article date'] = page_date\n",
    "        page_dict['modified date'] = page_datemod\n",
    "        page_dict['download date'] = page_dldate\n",
    "        page_dict['text type'] = page_texttype\n",
    "        page_dict['text'] = page_text\n",
    "        \n",
    "        main_dict[page_id] = page_dict\n",
    "        \n",
    "# Initiatlize dictionary\n",
    "main_dict = dict()\n",
    "\n",
    "#Run spider\n",
    "process = CrawlerProcess()\n",
    "siteno = 0\n",
    "process.crawl(bain_spider)\n",
    "process.start()"
   ]
  },
  {
   "cell_type": "code",
   "execution_count": 31,
   "metadata": {},
   "outputs": [
    {
     "data": {
      "text/plain": [
       "<DeferredList at 0x2207c8a5cc0 current result: []>"
      ]
     },
     "execution_count": 31,
     "metadata": {},
     "output_type": "execute_result"
    }
   ],
   "source": [
    "process.stop()"
   ]
  },
  {
   "cell_type": "code",
   "execution_count": 32,
   "metadata": {},
   "outputs": [
    {
     "data": {
      "text/plain": [
       "231"
      ]
     },
     "execution_count": 32,
     "metadata": {},
     "output_type": "execute_result"
    }
   ],
   "source": [
    "len(main_dict)"
   ]
  },
  {
   "cell_type": "code",
   "execution_count": 33,
   "metadata": {},
   "outputs": [],
   "source": [
    "import json\n",
    "\n",
    "with open('../data_raw/articles/bain_articles.json', 'w') as file:\n",
    "    json.dump(main_dict, file)"
   ]
  }
 ],
 "metadata": {
  "kernelspec": {
   "display_name": "Python 3",
   "language": "python",
   "name": "python3"
  },
  "language_info": {
   "codemirror_mode": {
    "name": "ipython",
    "version": 3
   },
   "file_extension": ".py",
   "mimetype": "text/x-python",
   "name": "python",
   "nbconvert_exporter": "python",
   "pygments_lexer": "ipython3",
   "version": "3.6.8"
  }
 },
 "nbformat": 4,
 "nbformat_minor": 2
}
