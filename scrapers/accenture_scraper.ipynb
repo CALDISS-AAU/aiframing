{
 "cells": [
  {
   "cell_type": "markdown",
   "metadata": {},
   "source": [
    "# Accenture Scraper\n",
    "\n",
    "Accenture (IT consulting - verdens største konsulenthus) https://www.accenture.com/us-en\n",
    "\n",
    "This scraper collects texts on \"Artificial Intelligence\" from Accenture: https://www.accenture.com/us-en"
   ]
  },
  {
   "cell_type": "markdown",
   "metadata": {},
   "source": [
    "## Libraries\n",
    "\n",
    "Loading libraries..."
   ]
  },
  {
   "cell_type": "code",
   "execution_count": 1,
   "metadata": {},
   "outputs": [],
   "source": [
    "import scrapy\n",
    "import requests\n",
    "from scrapy import Selector\n",
    "\n",
    "import os\n",
    "import sys\n",
    "from datetime import date\n",
    "\n",
    "from selenium import webdriver\n",
    "from selenium.webdriver.common.keys import Keys\n",
    "from selenium.webdriver.firefox.firefox_binary import FirefoxBinary\n",
    "from selenium.common.exceptions import NoSuchElementException, WebDriverException, ElementNotInteractableException\n",
    "from selenium.webdriver.common.action_chains import ActionChains\n",
    "\n",
    "import re\n",
    "\n",
    "import time"
   ]
  },
  {
   "cell_type": "markdown",
   "metadata": {},
   "source": [
    "## URL List\n",
    "The scraper collects urls from the returned search results on \"artificial intelligence\" filtered by content type \"Insights\": https://www.accenture.com/us-en/search/results?srk=Artificial%20Intelligence&pg=1&sb=1&filter=Insights"
   ]
  },
  {
   "cell_type": "code",
   "execution_count": 9,
   "metadata": {},
   "outputs": [],
   "source": [
    "start_url = 'https://www.accenture.com/us-en/search/results?srk=artificial%20intelligence&pg=1&sb=1&filter=Insights'"
   ]
  },
  {
   "cell_type": "code",
   "execution_count": 82,
   "metadata": {},
   "outputs": [
    {
     "name": "stdout",
     "output_type": "stream",
     "text": [
      "No next button found\n"
     ]
    }
   ],
   "source": [
    "from selenium.webdriver.support import expected_conditions as EC\n",
    "from selenium.webdriver.common.by import By\n",
    "from selenium.webdriver.support.ui import WebDriverWait as wait\n",
    "from selenium.webdriver.chrome.options import Options\n",
    "\n",
    "chromeOptions = Options()\n",
    "chromeOptions.add_argument(\"--kiosk\")\n",
    "\n",
    "driver = webdriver.Chrome(executable_path = 'C:\\\\bin\\\\chromedriver', options=chromeOptions)\n",
    "\n",
    "driver.get(start_url)\n",
    "time.sleep(2)\n",
    "driver.find_element_by_css_selector('button#onetrust-accept-btn-handler').click()\n",
    "time.sleep(2)\n",
    "\n",
    "pageSel = Selector(text = driver.page_source)\n",
    "\n",
    "urldict = {}\n",
    "urldict['titles'] = pageSel.css('h3.header.title.quarternary-title > a.search-result-link.cta::text').extract()\n",
    "urldict['urls'] = pageSel.css('h3.header.title.quarternary-title > a.search-result-link.cta::attr(href)').extract()\n",
    "\n",
    "y_coord = 4000\n",
    "coordinates = {'x': 0, 'y': y_coord}\n",
    "driver.execute_script('window.scrollTo({}, {});'.format(coordinates['x'], coordinates['y']))\n",
    "time.sleep(3)\n",
    "\n",
    "while True:\n",
    "    try:\n",
    "        driver.find_element_by_css_selector(\"div.reinvent-pagination-next-container > a.next-page-btn\").click()\n",
    "        time.sleep(3)\n",
    "        driver.execute_script('window.scrollTo({}, {});'.format(coordinates['x'], coordinates['y']))\n",
    "        time.sleep(3)\n",
    "        \n",
    "        pageSel = Selector(text = driver.page_source)\n",
    "        \n",
    "        titles = pageSel.css('h3.header.title.quarternary-title > a.search-result-link.cta::text').extract()\n",
    "        urls = pageSel.css('h3.header.title.quarternary-title > a.search-result-link.cta::attr(href)').extract()\n",
    "        \n",
    "        urldict['titles'] = urldict['titles']+ titles\n",
    "        urldict['urls'] = urldict['urls'] + urls\n",
    "    except (NoSuchElementException, WebDriverException, ElementNotInteractableException) as e:\n",
    "        print(\"No next button found\")\n",
    "        break\n",
    "\n",
    "driver.quit()"
   ]
  },
  {
   "cell_type": "code",
   "execution_count": 97,
   "metadata": {},
   "outputs": [
    {
     "name": "stdout",
     "output_type": "stream",
     "text": [
      "520 519\n"
     ]
    }
   ],
   "source": [
    "print(len(urldict['titles']),\n",
    "     len(urldict['urls']))"
   ]
  },
  {
   "cell_type": "code",
   "execution_count": 84,
   "metadata": {},
   "outputs": [
    {
     "name": "stdout",
     "output_type": "stream",
     "text": [
      "Putting the Consumer Back into Consumer-packaged Goods | Accenture \n",
      " /us-en/insights/strategy/mergers-acquisitions-technology\n"
     ]
    }
   ],
   "source": [
    "index = 361\n",
    "print(urldict['titles'][index], '\\n',\n",
    "      urldict['urls'][index])"
   ]
  },
  {
   "cell_type": "code",
   "execution_count": 86,
   "metadata": {},
   "outputs": [
    {
     "name": "stdout",
     "output_type": "stream",
     "text": [
      "Technology in Mergers & Acquisitions | Accenture  \n",
      " /us-en/insights/strategy/mergers-acquisitions-technology\n"
     ]
    }
   ],
   "source": [
    "newdict = {}\n",
    "newdict['urls'] = list(urldict['urls'])\n",
    "newdict['titles'] = list(urldict['titles'])\n",
    "\n",
    "for i in range(361,519):\n",
    "    newdict['titles'][i] = list(urldict['titles'])[i+1]"
   ]
  },
  {
   "cell_type": "code",
   "execution_count": 107,
   "metadata": {},
   "outputs": [
    {
     "name": "stdout",
     "output_type": "stream",
     "text": [
      "519 519\n"
     ]
    }
   ],
   "source": [
    "newdict['titles'] = list(newdict['titles'])[0:519]\n",
    "print(len(newdict['titles']),\n",
    "     len(newdict['urls']))"
   ]
  },
  {
   "cell_type": "code",
   "execution_count": 108,
   "metadata": {},
   "outputs": [
    {
     "name": "stdout",
     "output_type": "stream",
     "text": [
      "Technology in Mergers & Acquisitions | Accenture  \n",
      " /us-en/insights/strategy/mergers-acquisitions-technology\n"
     ]
    }
   ],
   "source": [
    "index = 361\n",
    "print(newdict['titles'][index], '\\n',\n",
    "      newdict['urls'][index])"
   ]
  },
  {
   "cell_type": "code",
   "execution_count": 112,
   "metadata": {},
   "outputs": [],
   "source": [
    "urllist = list(map(lambda url: 'https://www.accenture.com/' + url, urldict['urls']))"
   ]
  },
  {
   "cell_type": "markdown",
   "metadata": {},
   "source": [
    "### Save URLs"
   ]
  },
  {
   "cell_type": "code",
   "execution_count": 114,
   "metadata": {},
   "outputs": [],
   "source": [
    "#URL dump\n",
    "with open('../data_raw/urls/accenture_urls.txt', 'w') as f:\n",
    "    for url in urllist:\n",
    "        f.write(url + \"\\n\")"
   ]
  },
  {
   "cell_type": "markdown",
   "metadata": {},
   "source": [
    "### Load URLs"
   ]
  },
  {
   "cell_type": "code",
   "execution_count": 115,
   "metadata": {},
   "outputs": [
    {
     "name": "stdout",
     "output_type": "stream",
     "text": [
      "519 \n",
      " https://www.accenture.com//us-en/insights/health/why-consumer-digital-health-adoption-stalling\n"
     ]
    }
   ],
   "source": [
    "# Load URLs\n",
    "urllist = []\n",
    "with open('../data_raw/urls/accenture_urls.txt', 'r') as f:\n",
    "    for line in f:\n",
    "        urllist.append(line.strip())\n",
    "\n",
    "print(len(urllist),\n",
    "      '\\n',\n",
    "     urllist[0])"
   ]
  },
  {
   "cell_type": "markdown",
   "metadata": {},
   "source": [
    "## Parsing single page"
   ]
  },
  {
   "cell_type": "code",
   "execution_count": 116,
   "metadata": {},
   "outputs": [
    {
     "data": {
      "text/plain": [
       "['https://www.accenture.com//us-en/insights/health/why-consumer-digital-health-adoption-stalling',\n",
       " 'https://www.accenture.com//us-en/insights/health/unlocking-value-nurse-future',\n",
       " 'https://www.accenture.com//us-en/insights/strategy/ai-potential',\n",
       " 'https://www.accenture.com//us-en/insights/us-federal-government/leaders-in-action',\n",
       " 'https://www.accenture.com//us-en/insights/us-federal-government/future-systems-create-more-value',\n",
       " 'https://www.accenture.com//us-en/insights/digital/flexible-data-better-decisions',\n",
       " 'https://www.accenture.com//us-en/insights/digital/virtual-workforce',\n",
       " 'https://www.accenture.com//us-en/insights/high-tech/semiconductor-ecosystem',\n",
       " 'https://www.accenture.com//us-en/insights/financial-services/technology-advisory-dark-data',\n",
       " 'https://www.accenture.com//us-en/insights/us-federal-government/mission-value-with-ai']"
      ]
     },
     "execution_count": 116,
     "metadata": {},
     "output_type": "execute_result"
    }
   ],
   "source": [
    "urllist[0:10]"
   ]
  },
  {
   "cell_type": "code",
   "execution_count": 217,
   "metadata": {},
   "outputs": [
    {
     "data": {
      "text/plain": [
       "'https://www.accenture.com//us-en/insights/strategy/ai-potential'"
      ]
     },
     "execution_count": 217,
     "metadata": {},
     "output_type": "execute_result"
    }
   ],
   "source": [
    "page_url = urllist[2]\n",
    "page_html = requests.get(page_url).content\n",
    "page_sel = Selector(text = page_html)\n",
    "page_url"
   ]
  },
  {
   "cell_type": "code",
   "execution_count": 218,
   "metadata": {},
   "outputs": [],
   "source": [
    "page_dict = dict()\n",
    "main_dict = dict()"
   ]
  },
  {
   "cell_type": "code",
   "execution_count": 219,
   "metadata": {},
   "outputs": [],
   "source": [
    "date_regex = r'(?<=\\\"issueDate\\\":\\\")\\d{4}\\-\\d{1,2}\\-\\d{1,2}'\n",
    "type_regex = r'(?<=\\\"contentType\\\":\\\")\\w{2,15}(?=\\\",)'\n",
    "\n",
    "page_scripts = page_sel.css('script ::text').extract()\n",
    "page_scripts = ' '.join(page_scripts)\n",
    "\n",
    "siteno = 1\n",
    "\n",
    "page_id = 'site' + str(siteno)\n",
    "\n",
    "page_title = page_sel.css('title ::text').extract_first()\n",
    "page_date = re.findall(date_regex, page_scripts)[0]\n",
    "page_dldate = date.today().strftime('%Y/%m/%d')\n",
    "page_type = re.findall(type_regex, page_scripts)[0]\n",
    "page_text = page_sel.css('div.block-content > div > div > div > article ::text').extract()\n",
    "page_text.append(' '.join(page_sel.css('div#content-wrapper > section > div > div > section > div > div > div.component.richtext ::text').extract()))\n",
    "page_text = ' '.join(page_text)\n",
    "\n",
    "page_dict['url'] = page_url\n",
    "page_dict['title'] = page_title\n",
    "page_dict['article date'] = page_date\n",
    "page_dict['download date'] = page_dldate\n",
    "page_dict['text type'] = page_type\n",
    "page_dict['text'] = page_text\n",
    "\n",
    "main_dict[page_id] = page_dict"
   ]
  },
  {
   "cell_type": "code",
   "execution_count": 221,
   "metadata": {},
   "outputs": [
    {
     "name": "stdout",
     "output_type": "stream",
     "text": [
      "1 {'url': 'https://www.accenture.com//us-en/insights/strategy/ai-potential', 'title': 'Artificial Intelligence (AI) Potential | Accenture', 'article date': '2020-03-04', 'download date': '2020/03/10', 'text type': 'insights', 'text': \"\\r\\n             \\r\\n                     RESEARCH REPORT \\r\\n                                     In brief \\r\\n                     In brief \\r\\n                                     \\r\\n                                 What do industries as diverse as Energy, Industrial Equipment and Automotive have in common? They are all capital intensive and struggle to scale AI. \\r\\n                                 Many companies achieve value in pockets. To realize AI's exponential value, leaders need to outline a clear strategy based on an integrated picture. \\r\\n                                 Leaders will prioritize AI investments based on relative value, complexity, time to market and potential synergies across company areas. \\r\\n                                 An AI control tower will further help maximize value through optimization of AI as it’s operationalized. \\r\\n                     \\r\\n                 \\r\\n             \\r\\n             \\r\\n         \\n A billion dollars is on the table \\n Despite the financial potential, few companies in capital-intensive industries—such as Automotive, Industrial Equipment, and Oil & Gas—have conquered the full value of AI. Many companies in these industries are experimenting with AI and realizing pockets of value. But nearly three out of four C-suite executives (71%) acknowledge they struggle to scale it across their business. \\n Yet, scaling AI is key to success. A full 85% of executives in capital-intensive industries say they won’t achieve their growth objectives unless they scale AI. Getting it right requires an integrated approach for AI that closely involves the workforce. Getting it wrong leaves US$1 billion on the table. \\n \\n Demystifying AI value \\n Companies often begin with testing AI for solving the most complex business problem. However, AI is known to bring quick and large value to support functions. \\n An integrated approach is needed for AI that strikes the right balance between long-term business impact and\\nshort-term success. An approach also that takes into consideration that only a portion of AI value lies in automation—and much AI value resides in enhanced judgment, interaction and trust. \\n Companies that win with AI work from a deliberate, holistic AI strategy rather than disparate projects. And they laser focus on the workforce aspects of AI, knowing their people are essential to realizing AI’s full potential. \\n \\r\\n\\t\\t\\t \\r\\n\\r\\n\\t\\t\\t\\t Rather than pursuing value in pockets, leaders will engineer value that builds upon a complete and integrated picture. \\r\\n\\t\\t\\t \\r\\n\\r\\n\\t\\t\\t\\t \\r\\n\\t\\t\\t\\t\\t \\r\\n\\r\\n\\r\\n\\t\\t\\t\\t\\t \\r\\n\\t\\t\\t\\t\\t\\t \\r\\n\\t\\t\\t\\t\\t\\t\\t\\t Share \\r\\n\\t\\t\\t\\t\\t\\t\\t\\t\\t\\t\\t\\t\\t\\t\\t\\t \\r\\n\\t\\t\\t\\t\\t\\t\\t\\t\\t\\t \\r\\n\\t\\t\\t\\t\\t\\t\\t\\t\\t \\r\\n\\t\\t\\t\\t\\t\\t\\t\\t\\t \\r\\n\\t\\t\\t\\t\\t\\t\\t\\t\\t\\t \\r\\n\\t\\t\\t\\t\\t\\t\\t\\t\\t \\r\\n\\t\\t\\t\\t\\t\\t\\t\\t\\t \\r\\n\\t\\t\\t\\t\\t\\t\\t\\t\\t\\t \\r\\n\\t\\t\\t\\t\\t\\t\\t\\t\\t \\r\\n\\t\\t\\t\\t\\t\\t \\r\\n\\t\\t\\t\\t\\t \\r\\n\\t\\t\\t\\t \\r\\n\\t\\t \\n Zooming in on value \\n While the “size of the prize” is a compelling factor in prioritizing AI investments within a company, time to value and ease of capturing value are equally as important. Value potential is just one aspect of prioritizing AI use cases within a holistic strategy. \\n Conducting the overall value verification for AI requires a structured approach. Through an integrated view, leaders can work with their teams to identify which use cases are the most attractive and where implicit synergies arise. Using these synergies as a guide allows leaders to then map how they prioritize and operationalize use cases to amplify their return on investment. \\n Integrated value mapping allows companies to prioritize AI use cases. \\n Here is what this value mapping may look like for a typical Automotive company. \\n \\n View larger image \\n \\n Maintaining a bird’s-eye view \\n Setting up a clear strategy for AI across all functions is equivalent to creating an AI “control tower.” Such a control tower approach can help establish value measurement and management, involving a blend of business stakeholders, data science and IT professionals. This step is necessary, and our data shows it’s lacking at many companies. Only 45% of companies have deployed a sustainable AI program and only one in ten have started to systematically exploit the value of AI across different departments. \\n An AI control tower can help maximize value in many ways, from ensuring the right stakeholders are involved to delivery governance. \\n \\n All eyes on the prize \\n To achieve desired growth, most companies will leverage increasingly sophisticated models that maximize the value they glean from their AI efforts. As they do so, analytics becomes a core part of their operating model as AI is democratized throughout all levels of the organization, driving business decisions. \\n Forward-thinking leaders keep a few actions top of mind: \\n \"}\n"
     ]
    }
   ],
   "source": [
    "print(len(main_dict),\n",
    "      main_dict['site1'])"
   ]
  },
  {
   "cell_type": "markdown",
   "metadata": {},
   "source": [
    "## Accenture Spider"
   ]
  },
  {
   "cell_type": "code",
   "execution_count": 223,
   "metadata": {},
   "outputs": [
    {
     "name": "stderr",
     "output_type": "stream",
     "text": [
      "2020-03-10 14:27:35 [scrapy.utils.log] INFO: Scrapy 1.5.2 started (bot: scrapybot)\n",
      "2020-03-10 14:27:35 [scrapy.utils.log] INFO: Versions: lxml 4.3.2.0, libxml2 2.9.9, cssselect 1.0.3, parsel 1.5.1, w3lib 1.20.0, Twisted 18.9.0, Python 3.6.8 |Anaconda, Inc.| (default, Feb 21 2019, 18:30:04) [MSC v.1916 64 bit (AMD64)], pyOpenSSL 19.0.0 (OpenSSL 1.1.1d  10 Sep 2019), cryptography 2.6.1, Platform Windows-10-10.0.18362-SP0\n",
      "2020-03-10 14:27:35 [scrapy.crawler] INFO: Overridden settings: {}\n",
      "2020-03-10 14:27:35 [scrapy.extensions.telnet] INFO: Telnet Password: 5c0219c061fdb6d4\n",
      "2020-03-10 14:27:35 [scrapy.middleware] INFO: Enabled extensions:\n",
      "['scrapy.extensions.corestats.CoreStats',\n",
      " 'scrapy.extensions.telnet.TelnetConsole',\n",
      " 'scrapy.extensions.logstats.LogStats']\n",
      "2020-03-10 14:27:36 [scrapy.middleware] INFO: Enabled downloader middlewares:\n",
      "['scrapy.downloadermiddlewares.httpauth.HttpAuthMiddleware',\n",
      " 'scrapy.downloadermiddlewares.downloadtimeout.DownloadTimeoutMiddleware',\n",
      " 'scrapy.downloadermiddlewares.defaultheaders.DefaultHeadersMiddleware',\n",
      " 'scrapy.downloadermiddlewares.useragent.UserAgentMiddleware',\n",
      " 'scrapy.downloadermiddlewares.retry.RetryMiddleware',\n",
      " 'scrapy.downloadermiddlewares.redirect.MetaRefreshMiddleware',\n",
      " 'scrapy.downloadermiddlewares.httpcompression.HttpCompressionMiddleware',\n",
      " 'scrapy.downloadermiddlewares.redirect.RedirectMiddleware',\n",
      " 'scrapy.downloadermiddlewares.cookies.CookiesMiddleware',\n",
      " 'scrapy.downloadermiddlewares.httpproxy.HttpProxyMiddleware',\n",
      " 'scrapy.downloadermiddlewares.stats.DownloaderStats']\n",
      "2020-03-10 14:27:36 [scrapy.middleware] INFO: Enabled spider middlewares:\n",
      "['scrapy.spidermiddlewares.httperror.HttpErrorMiddleware',\n",
      " 'scrapy.spidermiddlewares.offsite.OffsiteMiddleware',\n",
      " 'scrapy.spidermiddlewares.referer.RefererMiddleware',\n",
      " 'scrapy.spidermiddlewares.urllength.UrlLengthMiddleware',\n",
      " 'scrapy.spidermiddlewares.depth.DepthMiddleware']\n",
      "2020-03-10 14:27:36 [scrapy.middleware] INFO: Enabled item pipelines:\n",
      "[]\n",
      "2020-03-10 14:27:36 [scrapy.core.engine] INFO: Spider opened\n",
      "2020-03-10 14:27:36 [scrapy.extensions.logstats] INFO: Crawled 0 pages (at 0 pages/min), scraped 0 items (at 0 items/min)\n",
      "2020-03-10 14:27:36 [scrapy.extensions.telnet] DEBUG: Telnet console listening on 127.0.0.1:6023\n",
      "2020-03-10 14:27:37 [scrapy.core.engine] DEBUG: Crawled (200) <GET https://www.accenture.com//us-en/insights/digital/flexible-data-better-decisions> (referer: None)\n",
      "2020-03-10 14:27:37 [scrapy.core.engine] DEBUG: Crawled (200) <GET https://www.accenture.com//us-en/insights/strategy/ai-potential> (referer: None)\n",
      "2020-03-10 14:27:37 [scrapy.core.engine] DEBUG: Crawled (200) <GET https://www.accenture.com//us-en/insights/digital/virtual-workforce> (referer: None)\n",
      "2020-03-10 14:27:37 [urllib3.connectionpool] DEBUG: Starting new HTTPS connection (1): www.accenture.com:443\n"
     ]
    },
    {
     "name": "stdout",
     "output_type": "stream",
     "text": [
      "https://www.accenture.com//us-en/insights/digital/flexible-data-better-decisions\n"
     ]
    },
    {
     "name": "stderr",
     "output_type": "stream",
     "text": [
      "2020-03-10 14:27:38 [urllib3.connectionpool] DEBUG: https://www.accenture.com:443 \"GET //us-en/insights/digital/flexible-data-better-decisions HTTP/1.1\" 200 162526\n",
      "2020-03-10 14:27:38 [urllib3.connectionpool] DEBUG: Starting new HTTPS connection (1): www.accenture.com:443\n"
     ]
    },
    {
     "name": "stdout",
     "output_type": "stream",
     "text": [
      "https://www.accenture.com//us-en/insights/strategy/ai-potential\n"
     ]
    },
    {
     "name": "stderr",
     "output_type": "stream",
     "text": [
      "2020-03-10 14:27:39 [urllib3.connectionpool] DEBUG: https://www.accenture.com:443 \"GET //us-en/insights/strategy/ai-potential HTTP/1.1\" 200 159717\n",
      "2020-03-10 14:27:39 [urllib3.connectionpool] DEBUG: Starting new HTTPS connection (1): www.accenture.com:443\n"
     ]
    },
    {
     "name": "stdout",
     "output_type": "stream",
     "text": [
      "https://www.accenture.com//us-en/insights/digital/virtual-workforce\n"
     ]
    },
    {
     "name": "stderr",
     "output_type": "stream",
     "text": [
      "2020-03-10 14:27:40 [urllib3.connectionpool] DEBUG: https://www.accenture.com:443 \"GET //us-en/insights/digital/virtual-workforce HTTP/1.1\" 200 148050\n",
      "2020-03-10 14:27:40 [scrapy.core.engine] DEBUG: Crawled (200) <GET https://www.accenture.com//us-en/insights/us-federal-government/future-systems-create-more-value> (referer: None)\n",
      "2020-03-10 14:27:40 [scrapy.core.engine] DEBUG: Crawled (200) <GET https://www.accenture.com//us-en/insights/health/unlocking-value-nurse-future> (referer: None)\n",
      "2020-03-10 14:27:40 [scrapy.core.engine] DEBUG: Crawled (200) <GET https://www.accenture.com//us-en/insights/us-federal-government/leaders-in-action> (referer: None)\n",
      "2020-03-10 14:27:40 [scrapy.core.engine] DEBUG: Crawled (200) <GET https://www.accenture.com//us-en/insights/us-federal-government/mission-value-with-ai> (referer: None)\n",
      "2020-03-10 14:27:40 [scrapy.core.engine] DEBUG: Crawled (200) <GET https://www.accenture.com//us-en/insights/high-tech/semiconductor-ecosystem> (referer: None)\n",
      "2020-03-10 14:27:40 [scrapy.core.engine] DEBUG: Crawled (200) <GET https://www.accenture.com//us-en/insights/health/why-consumer-digital-health-adoption-stalling> (referer: None)\n",
      "2020-03-10 14:27:40 [scrapy.core.engine] DEBUG: Crawled (200) <GET https://www.accenture.com//us-en/insights/financial-services/technology-advisory-dark-data> (referer: None)\n",
      "2020-03-10 14:27:40 [scrapy.core.engine] DEBUG: Crawled (200) <GET https://www.accenture.com//us-en/insights/us-federal-government/ai-impact-on-federal-workforce> (referer: None)\n",
      "2020-03-10 14:27:40 [urllib3.connectionpool] DEBUG: Starting new HTTPS connection (1): www.accenture.com:443\n"
     ]
    },
    {
     "name": "stdout",
     "output_type": "stream",
     "text": [
      "https://www.accenture.com//us-en/insights/us-federal-government/future-systems-create-more-value\n"
     ]
    },
    {
     "name": "stderr",
     "output_type": "stream",
     "text": [
      "2020-03-10 14:27:41 [urllib3.connectionpool] DEBUG: https://www.accenture.com:443 \"GET //us-en/insights/us-federal-government/future-systems-create-more-value HTTP/1.1\" 200 151164\n",
      "2020-03-10 14:27:41 [urllib3.connectionpool] DEBUG: Starting new HTTPS connection (1): www.accenture.com:443\n"
     ]
    },
    {
     "name": "stdout",
     "output_type": "stream",
     "text": [
      "https://www.accenture.com//us-en/insights/health/unlocking-value-nurse-future\n"
     ]
    },
    {
     "name": "stderr",
     "output_type": "stream",
     "text": [
      "2020-03-10 14:27:42 [urllib3.connectionpool] DEBUG: https://www.accenture.com:443 \"GET //us-en/insights/health/unlocking-value-nurse-future HTTP/1.1\" 200 142835\n",
      "2020-03-10 14:27:42 [urllib3.connectionpool] DEBUG: Starting new HTTPS connection (1): www.accenture.com:443\n"
     ]
    },
    {
     "name": "stdout",
     "output_type": "stream",
     "text": [
      "https://www.accenture.com//us-en/insights/us-federal-government/leaders-in-action\n"
     ]
    },
    {
     "name": "stderr",
     "output_type": "stream",
     "text": [
      "2020-03-10 14:27:42 [urllib3.connectionpool] DEBUG: https://www.accenture.com:443 \"GET //us-en/insights/us-federal-government/leaders-in-action HTTP/1.1\" 200 150960\n",
      "2020-03-10 14:27:43 [urllib3.connectionpool] DEBUG: Starting new HTTPS connection (1): www.accenture.com:443\n"
     ]
    },
    {
     "name": "stdout",
     "output_type": "stream",
     "text": [
      "https://www.accenture.com//us-en/insights/us-federal-government/mission-value-with-ai\n"
     ]
    },
    {
     "name": "stderr",
     "output_type": "stream",
     "text": [
      "2020-03-10 14:27:43 [urllib3.connectionpool] DEBUG: https://www.accenture.com:443 \"GET //us-en/insights/us-federal-government/mission-value-with-ai HTTP/1.1\" 200 152289\n",
      "2020-03-10 14:27:43 [urllib3.connectionpool] DEBUG: Starting new HTTPS connection (1): www.accenture.com:443\n"
     ]
    },
    {
     "name": "stdout",
     "output_type": "stream",
     "text": [
      "https://www.accenture.com//us-en/insights/high-tech/semiconductor-ecosystem\n"
     ]
    },
    {
     "name": "stderr",
     "output_type": "stream",
     "text": [
      "2020-03-10 14:27:44 [urllib3.connectionpool] DEBUG: https://www.accenture.com:443 \"GET //us-en/insights/high-tech/semiconductor-ecosystem HTTP/1.1\" 200 146079\n",
      "2020-03-10 14:27:44 [urllib3.connectionpool] DEBUG: Starting new HTTPS connection (1): www.accenture.com:443\n"
     ]
    },
    {
     "name": "stdout",
     "output_type": "stream",
     "text": [
      "https://www.accenture.com//us-en/insights/health/why-consumer-digital-health-adoption-stalling\n"
     ]
    },
    {
     "name": "stderr",
     "output_type": "stream",
     "text": [
      "2020-03-10 14:27:45 [urllib3.connectionpool] DEBUG: https://www.accenture.com:443 \"GET //us-en/insights/health/why-consumer-digital-health-adoption-stalling HTTP/1.1\" 200 144203\n",
      "2020-03-10 14:27:45 [urllib3.connectionpool] DEBUG: Starting new HTTPS connection (1): www.accenture.com:443\n"
     ]
    },
    {
     "name": "stdout",
     "output_type": "stream",
     "text": [
      "https://www.accenture.com//us-en/insights/financial-services/technology-advisory-dark-data\n"
     ]
    },
    {
     "name": "stderr",
     "output_type": "stream",
     "text": [
      "2020-03-10 14:27:46 [urllib3.connectionpool] DEBUG: https://www.accenture.com:443 \"GET //us-en/insights/financial-services/technology-advisory-dark-data HTTP/1.1\" 200 135191\n",
      "2020-03-10 14:27:46 [urllib3.connectionpool] DEBUG: Starting new HTTPS connection (1): www.accenture.com:443\n"
     ]
    },
    {
     "name": "stdout",
     "output_type": "stream",
     "text": [
      "https://www.accenture.com//us-en/insights/us-federal-government/ai-impact-on-federal-workforce\n"
     ]
    },
    {
     "name": "stderr",
     "output_type": "stream",
     "text": [
      "2020-03-10 14:27:47 [urllib3.connectionpool] DEBUG: https://www.accenture.com:443 \"GET //us-en/insights/us-federal-government/ai-impact-on-federal-workforce HTTP/1.1\" 200 154284\n",
      "2020-03-10 14:27:47 [scrapy.core.engine] DEBUG: Crawled (200) <GET https://www.accenture.com//us-en/insights/us-federal-government/service-gsa-it-70> (referer: None)\n",
      "2020-03-10 14:27:47 [scrapy.core.engine] DEBUG: Crawled (200) <GET https://www.accenture.com//us-en/insights/us-federal-government/ai-all-about-data> (referer: None)\n",
      "2020-03-10 14:27:47 [scrapy.core.engine] DEBUG: Crawled (200) <GET https://www.accenture.com//us-en/insights/us-federal-government/ai-start-small-think-big> (referer: None)\n",
      "2020-03-10 14:27:47 [scrapy.core.engine] DEBUG: Crawled (200) <GET https://www.accenture.com//us-en/insights/us-federal-government/lessons-exploring-ai-government> (referer: None)\n",
      "2020-03-10 14:27:47 [scrapy.core.engine] DEBUG: Crawled (200) <GET https://www.accenture.com//us-en/insights/cloud/living-cloud> (referer: None)\n",
      "2020-03-10 14:27:47 [scrapy.core.engine] DEBUG: Crawled (200) <GET https://www.accenture.com//us-en/insights/energy/trends-digital-investment> (referer: None)\n",
      "2020-03-10 14:27:47 [scrapy.core.engine] DEBUG: Crawled (200) <GET https://www.accenture.com//us-en/insights/banking/payments-navigator-newsletter> (referer: None)\n",
      "2020-03-10 14:27:47 [scrapy.core.engine] DEBUG: Crawled (200) <GET https://www.accenture.com//us-en/insights/technology/technology-trends-2020> (referer: None)\n",
      "2020-03-10 14:27:47 [urllib3.connectionpool] DEBUG: Starting new HTTPS connection (1): www.accenture.com:443\n"
     ]
    },
    {
     "name": "stdout",
     "output_type": "stream",
     "text": [
      "https://www.accenture.com//us-en/insights/us-federal-government/service-gsa-it-70\n"
     ]
    },
    {
     "name": "stderr",
     "output_type": "stream",
     "text": [
      "2020-03-10 14:27:48 [urllib3.connectionpool] DEBUG: https://www.accenture.com:443 \"GET //us-en/insights/us-federal-government/service-gsa-it-70 HTTP/1.1\" 200 123842\n",
      "2020-03-10 14:27:48 [urllib3.connectionpool] DEBUG: Starting new HTTPS connection (1): www.accenture.com:443\n"
     ]
    },
    {
     "name": "stdout",
     "output_type": "stream",
     "text": [
      "https://www.accenture.com//us-en/insights/us-federal-government/ai-all-about-data\n"
     ]
    },
    {
     "name": "stderr",
     "output_type": "stream",
     "text": [
      "2020-03-10 14:27:49 [urllib3.connectionpool] DEBUG: https://www.accenture.com:443 \"GET //us-en/insights/us-federal-government/ai-all-about-data HTTP/1.1\" 200 151584\n",
      "2020-03-10 14:27:49 [urllib3.connectionpool] DEBUG: Starting new HTTPS connection (1): www.accenture.com:443\n"
     ]
    },
    {
     "name": "stdout",
     "output_type": "stream",
     "text": [
      "https://www.accenture.com//us-en/insights/us-federal-government/ai-start-small-think-big\n"
     ]
    },
    {
     "name": "stderr",
     "output_type": "stream",
     "text": [
      "2020-03-10 14:27:50 [urllib3.connectionpool] DEBUG: https://www.accenture.com:443 \"GET //us-en/insights/us-federal-government/ai-start-small-think-big HTTP/1.1\" 200 152049\n",
      "2020-03-10 14:27:50 [urllib3.connectionpool] DEBUG: Starting new HTTPS connection (1): www.accenture.com:443\n"
     ]
    },
    {
     "name": "stdout",
     "output_type": "stream",
     "text": [
      "https://www.accenture.com//us-en/insights/us-federal-government/lessons-exploring-ai-government\n"
     ]
    },
    {
     "name": "stderr",
     "output_type": "stream",
     "text": [
      "2020-03-10 14:27:51 [urllib3.connectionpool] DEBUG: https://www.accenture.com:443 \"GET //us-en/insights/us-federal-government/lessons-exploring-ai-government HTTP/1.1\" 200 144948\n",
      "2020-03-10 14:27:51 [urllib3.connectionpool] DEBUG: Starting new HTTPS connection (1): www.accenture.com:443\n"
     ]
    },
    {
     "name": "stdout",
     "output_type": "stream",
     "text": [
      "https://www.accenture.com//us-en/insights/cloud/living-cloud\n"
     ]
    },
    {
     "name": "stderr",
     "output_type": "stream",
     "text": [
      "2020-03-10 14:27:52 [urllib3.connectionpool] DEBUG: https://www.accenture.com:443 \"GET //us-en/insights/cloud/living-cloud HTTP/1.1\" 200 142539\n",
      "2020-03-10 14:27:52 [urllib3.connectionpool] DEBUG: Starting new HTTPS connection (1): www.accenture.com:443\n"
     ]
    },
    {
     "name": "stdout",
     "output_type": "stream",
     "text": [
      "https://www.accenture.com//us-en/insights/energy/trends-digital-investment\n"
     ]
    },
    {
     "name": "stderr",
     "output_type": "stream",
     "text": [
      "2020-03-10 14:27:53 [urllib3.connectionpool] DEBUG: https://www.accenture.com:443 \"GET //us-en/insights/energy/trends-digital-investment HTTP/1.1\" 200 146291\n",
      "2020-03-10 14:27:53 [urllib3.connectionpool] DEBUG: Starting new HTTPS connection (1): www.accenture.com:443\n"
     ]
    },
    {
     "name": "stdout",
     "output_type": "stream",
     "text": [
      "https://www.accenture.com//us-en/insights/banking/payments-navigator-newsletter\n"
     ]
    },
    {
     "name": "stderr",
     "output_type": "stream",
     "text": [
      "2020-03-10 14:27:54 [urllib3.connectionpool] DEBUG: https://www.accenture.com:443 \"GET //us-en/insights/banking/payments-navigator-newsletter HTTP/1.1\" 200 138367\n",
      "2020-03-10 14:27:54 [urllib3.connectionpool] DEBUG: Starting new HTTPS connection (1): www.accenture.com:443\n"
     ]
    },
    {
     "name": "stdout",
     "output_type": "stream",
     "text": [
      "https://www.accenture.com//us-en/insights/technology/technology-trends-2020\n"
     ]
    },
    {
     "name": "stderr",
     "output_type": "stream",
     "text": [
      "2020-03-10 14:27:55 [urllib3.connectionpool] DEBUG: https://www.accenture.com:443 \"GET //us-en/insights/technology/technology-trends-2020 HTTP/1.1\" 200 255889\n",
      "2020-03-10 14:27:55 [scrapy.core.engine] DEBUG: Crawled (200) <GET https://www.accenture.com//us-en/insights/operations/smarter-finance-accounting-intelligent-operations> (referer: None)\n",
      "2020-03-10 14:27:55 [scrapy.core.engine] DEBUG: Crawled (200) <GET https://www.accenture.com//us-en/insights/operations/blockchain-business-value> (referer: None)\n",
      "2020-03-10 14:27:55 [scrapy.core.engine] DEBUG: Crawled (200) <GET https://www.accenture.com//us-en/insights/consulting/sharpen-supply-chain-sap> (referer: None)\n",
      "2020-03-10 14:27:55 [scrapy.core.engine] DEBUG: Crawled (200) <GET https://www.accenture.com//us-en/insights/strategy/zero-base-telecom> (referer: None)\n",
      "2020-03-10 14:27:55 [scrapy.core.engine] DEBUG: Crawled (200) <GET https://www.accenture.com//us-en/insights/security/invest-cyber-resilience> (referer: None)\n",
      "2020-03-10 14:27:55 [scrapy.core.engine] DEBUG: Crawled (200) <GET https://www.accenture.com//us-en/insights/energy/reinventing-oil-gas-new-energy-era> (referer: None)\n",
      "2020-03-10 14:27:55 [scrapy.core.engine] DEBUG: Crawled (200) <GET https://www.accenture.com//us-en/insights/us-federal-government/accelerating-advantage-george-franz> (referer: None)\n",
      "2020-03-10 14:27:55 [scrapy.core.engine] DEBUG: Crawled (200) <GET https://www.accenture.com//us-en/insights/retail/how-can-restaurants-win-hunger-games> (referer: None)\n",
      "2020-03-10 14:27:55 [urllib3.connectionpool] DEBUG: Starting new HTTPS connection (1): www.accenture.com:443\n"
     ]
    },
    {
     "name": "stdout",
     "output_type": "stream",
     "text": [
      "https://www.accenture.com//us-en/insights/operations/smarter-finance-accounting-intelligent-operations\n"
     ]
    },
    {
     "name": "stderr",
     "output_type": "stream",
     "text": [
      "2020-03-10 14:27:56 [urllib3.connectionpool] DEBUG: https://www.accenture.com:443 \"GET //us-en/insights/operations/smarter-finance-accounting-intelligent-operations HTTP/1.1\" 200 154109\n",
      "2020-03-10 14:27:56 [urllib3.connectionpool] DEBUG: Starting new HTTPS connection (1): www.accenture.com:443\n"
     ]
    },
    {
     "name": "stdout",
     "output_type": "stream",
     "text": [
      "https://www.accenture.com//us-en/insights/operations/blockchain-business-value\n"
     ]
    },
    {
     "name": "stderr",
     "output_type": "stream",
     "text": [
      "2020-03-10 14:27:56 [urllib3.connectionpool] DEBUG: https://www.accenture.com:443 \"GET //us-en/insights/operations/blockchain-business-value HTTP/1.1\" 200 148953\n",
      "2020-03-10 14:27:57 [urllib3.connectionpool] DEBUG: Starting new HTTPS connection (1): www.accenture.com:443\n"
     ]
    },
    {
     "name": "stdout",
     "output_type": "stream",
     "text": [
      "https://www.accenture.com//us-en/insights/consulting/sharpen-supply-chain-sap\n"
     ]
    },
    {
     "name": "stderr",
     "output_type": "stream",
     "text": [
      "2020-03-10 14:27:57 [urllib3.connectionpool] DEBUG: https://www.accenture.com:443 \"GET //us-en/insights/consulting/sharpen-supply-chain-sap HTTP/1.1\" 200 147981\n",
      "2020-03-10 14:27:57 [urllib3.connectionpool] DEBUG: Starting new HTTPS connection (1): www.accenture.com:443\n"
     ]
    },
    {
     "name": "stdout",
     "output_type": "stream",
     "text": [
      "https://www.accenture.com//us-en/insights/strategy/zero-base-telecom\n"
     ]
    },
    {
     "name": "stderr",
     "output_type": "stream",
     "text": [
      "2020-03-10 14:27:58 [urllib3.connectionpool] DEBUG: https://www.accenture.com:443 \"GET //us-en/insights/strategy/zero-base-telecom HTTP/1.1\" 200 137880\n",
      "2020-03-10 14:27:59 [urllib3.connectionpool] DEBUG: Starting new HTTPS connection (1): www.accenture.com:443\n"
     ]
    },
    {
     "name": "stdout",
     "output_type": "stream",
     "text": [
      "https://www.accenture.com//us-en/insights/security/invest-cyber-resilience\n"
     ]
    },
    {
     "name": "stderr",
     "output_type": "stream",
     "text": [
      "2020-03-10 14:28:00 [urllib3.connectionpool] DEBUG: https://www.accenture.com:443 \"GET //us-en/insights/security/invest-cyber-resilience HTTP/1.1\" 200 155913\n",
      "2020-03-10 14:28:00 [urllib3.connectionpool] DEBUG: Starting new HTTPS connection (1): www.accenture.com:443\n"
     ]
    },
    {
     "name": "stdout",
     "output_type": "stream",
     "text": [
      "https://www.accenture.com//us-en/insights/energy/reinventing-oil-gas-new-energy-era\n"
     ]
    },
    {
     "name": "stderr",
     "output_type": "stream",
     "text": [
      "2020-03-10 14:28:01 [urllib3.connectionpool] DEBUG: https://www.accenture.com:443 \"GET //us-en/insights/energy/reinventing-oil-gas-new-energy-era HTTP/1.1\" 200 163436\n",
      "2020-03-10 14:28:01 [urllib3.connectionpool] DEBUG: Starting new HTTPS connection (1): www.accenture.com:443\n"
     ]
    },
    {
     "name": "stdout",
     "output_type": "stream",
     "text": [
      "https://www.accenture.com//us-en/insights/us-federal-government/accelerating-advantage-george-franz\n"
     ]
    },
    {
     "name": "stderr",
     "output_type": "stream",
     "text": [
      "2020-03-10 14:28:01 [urllib3.connectionpool] DEBUG: https://www.accenture.com:443 \"GET //us-en/insights/us-federal-government/accelerating-advantage-george-franz HTTP/1.1\" 200 134618\n",
      "2020-03-10 14:28:01 [urllib3.connectionpool] DEBUG: Starting new HTTPS connection (1): www.accenture.com:443\n"
     ]
    },
    {
     "name": "stdout",
     "output_type": "stream",
     "text": [
      "https://www.accenture.com//us-en/insights/retail/how-can-restaurants-win-hunger-games\n"
     ]
    },
    {
     "name": "stderr",
     "output_type": "stream",
     "text": [
      "2020-03-10 14:28:02 [urllib3.connectionpool] DEBUG: https://www.accenture.com:443 \"GET //us-en/insights/retail/how-can-restaurants-win-hunger-games HTTP/1.1\" 200 140637\n",
      "2020-03-10 14:28:02 [scrapy.core.engine] DEBUG: Crawled (200) <GET https://www.accenture.com//us-en/insights/cloud/hybrid-cloud-strategy> (referer: None)\n",
      "2020-03-10 14:28:02 [scrapy.core.engine] DEBUG: Crawled (200) <GET https://www.accenture.com//us-en/insights/consulting/digital-platform-springboard-growth> (referer: None)\n",
      "2020-03-10 14:28:02 [scrapy.core.engine] DEBUG: Crawled (200) <GET https://www.accenture.com//us-en/insights/high-tech/digital-narrative-aerospace-defense> (referer: None)\n",
      "2020-03-10 14:28:02 [scrapy.core.engine] DEBUG: Crawled (200) <GET https://www.accenture.com//us-en/insights/high-tech/blockchain-aerospace-defense> (referer: None)\n",
      "2020-03-10 14:28:02 [scrapy.core.engine] DEBUG: Crawled (200) <GET https://www.accenture.com//us-en/insights/technology/human-impact-data-literacy> (referer: None)\n",
      "2020-03-10 14:28:02 [scrapy.core.engine] DEBUG: Crawled (200) <GET https://www.accenture.com//us-en/insights/retail/artificial-intelligence-retail-value> (referer: None)\n",
      "2020-03-10 14:28:02 [scrapy.core.engine] DEBUG: Crawled (200) <GET https://www.accenture.com//us-en/insights/software-platforms/emotional-ai> (referer: None)\n",
      "2020-03-10 14:28:02 [scrapy.core.engine] DEBUG: Crawled (200) <GET https://www.accenture.com//us-en/insights/strategy/semiconductor-mergers-acquisitions> (referer: None)\n",
      "2020-03-10 14:28:02 [urllib3.connectionpool] DEBUG: Starting new HTTPS connection (1): www.accenture.com:443\n"
     ]
    },
    {
     "name": "stdout",
     "output_type": "stream",
     "text": [
      "https://www.accenture.com//us-en/insights/cloud/hybrid-cloud-strategy\n"
     ]
    },
    {
     "name": "stderr",
     "output_type": "stream",
     "text": [
      "2020-03-10 14:28:03 [urllib3.connectionpool] DEBUG: https://www.accenture.com:443 \"GET //us-en/insights/cloud/hybrid-cloud-strategy HTTP/1.1\" 200 149511\n",
      "2020-03-10 14:28:03 [urllib3.connectionpool] DEBUG: Starting new HTTPS connection (1): www.accenture.com:443\n"
     ]
    },
    {
     "name": "stdout",
     "output_type": "stream",
     "text": [
      "https://www.accenture.com//us-en/insights/consulting/digital-platform-springboard-growth\n"
     ]
    },
    {
     "name": "stderr",
     "output_type": "stream",
     "text": [
      "2020-03-10 14:28:04 [urllib3.connectionpool] DEBUG: https://www.accenture.com:443 \"GET //us-en/insights/consulting/digital-platform-springboard-growth HTTP/1.1\" 200 144114\n",
      "2020-03-10 14:28:04 [urllib3.connectionpool] DEBUG: Starting new HTTPS connection (1): www.accenture.com:443\n"
     ]
    },
    {
     "name": "stdout",
     "output_type": "stream",
     "text": [
      "https://www.accenture.com//us-en/insights/high-tech/digital-narrative-aerospace-defense\n"
     ]
    },
    {
     "name": "stderr",
     "output_type": "stream",
     "text": [
      "2020-03-10 14:28:05 [urllib3.connectionpool] DEBUG: https://www.accenture.com:443 \"GET //us-en/insights/high-tech/digital-narrative-aerospace-defense HTTP/1.1\" 200 158142\n",
      "2020-03-10 14:28:05 [urllib3.connectionpool] DEBUG: Starting new HTTPS connection (1): www.accenture.com:443\n"
     ]
    },
    {
     "name": "stdout",
     "output_type": "stream",
     "text": [
      "https://www.accenture.com//us-en/insights/high-tech/blockchain-aerospace-defense\n"
     ]
    },
    {
     "name": "stderr",
     "output_type": "stream",
     "text": [
      "2020-03-10 14:28:06 [urllib3.connectionpool] DEBUG: https://www.accenture.com:443 \"GET //us-en/insights/high-tech/blockchain-aerospace-defense HTTP/1.1\" 200 147410\n",
      "2020-03-10 14:28:06 [urllib3.connectionpool] DEBUG: Starting new HTTPS connection (1): www.accenture.com:443\n"
     ]
    },
    {
     "name": "stdout",
     "output_type": "stream",
     "text": [
      "https://www.accenture.com//us-en/insights/technology/human-impact-data-literacy\n"
     ]
    },
    {
     "name": "stderr",
     "output_type": "stream",
     "text": [
      "2020-03-10 14:28:07 [urllib3.connectionpool] DEBUG: https://www.accenture.com:443 \"GET //us-en/insights/technology/human-impact-data-literacy HTTP/1.1\" 200 142820\n",
      "2020-03-10 14:28:07 [urllib3.connectionpool] DEBUG: Starting new HTTPS connection (1): www.accenture.com:443\n"
     ]
    },
    {
     "name": "stdout",
     "output_type": "stream",
     "text": [
      "https://www.accenture.com//us-en/insights/retail/artificial-intelligence-retail-value\n"
     ]
    },
    {
     "name": "stderr",
     "output_type": "stream",
     "text": [
      "2020-03-10 14:28:07 [urllib3.connectionpool] DEBUG: https://www.accenture.com:443 \"GET //us-en/insights/retail/artificial-intelligence-retail-value HTTP/1.1\" 200 151811\n",
      "2020-03-10 14:28:08 [urllib3.connectionpool] DEBUG: Starting new HTTPS connection (1): www.accenture.com:443\n"
     ]
    },
    {
     "name": "stdout",
     "output_type": "stream",
     "text": [
      "https://www.accenture.com//us-en/insights/software-platforms/emotional-ai\n"
     ]
    },
    {
     "name": "stderr",
     "output_type": "stream",
     "text": [
      "2020-03-10 14:28:08 [urllib3.connectionpool] DEBUG: https://www.accenture.com:443 \"GET //us-en/insights/software-platforms/emotional-ai HTTP/1.1\" 200 162200\n",
      "2020-03-10 14:28:08 [urllib3.connectionpool] DEBUG: Starting new HTTPS connection (1): www.accenture.com:443\n"
     ]
    },
    {
     "name": "stdout",
     "output_type": "stream",
     "text": [
      "https://www.accenture.com//us-en/insights/strategy/semiconductor-mergers-acquisitions\n"
     ]
    },
    {
     "name": "stderr",
     "output_type": "stream",
     "text": [
      "2020-03-10 14:28:09 [urllib3.connectionpool] DEBUG: https://www.accenture.com:443 \"GET //us-en/insights/strategy/semiconductor-mergers-acquisitions HTTP/1.1\" 200 151139\n",
      "2020-03-10 14:28:09 [scrapy.core.engine] DEBUG: Crawled (200) <GET https://www.accenture.com//us-en/insights/health/five-digital-health-trends> (referer: None)\n",
      "2020-03-10 14:28:09 [scrapy.core.engine] DEBUG: Crawled (200) <GET https://www.accenture.com//us-en/insights/technology/chief-data-officer> (referer: None)\n",
      "2020-03-10 14:28:09 [scrapy.core.engine] DEBUG: Crawled (200) <GET https://www.accenture.com//us-en/insights/capital-markets/asset-management-future-operating-models> (referer: None)\n",
      "2020-03-10 14:28:09 [scrapy.core.engine] DEBUG: Crawled (200) <GET https://www.accenture.com//us-en/insights/cloud/google-post-digital-consumer-market> (referer: None)\n",
      "2020-03-10 14:28:09 [scrapy.core.engine] DEBUG: Crawled (200) <GET https://www.accenture.com//us-en/insights/cloud/google-technology-vision-darq> (referer: None)\n",
      "2020-03-10 14:28:09 [scrapy.core.engine] DEBUG: Crawled (200) <GET https://www.accenture.com//us-en/insights/digital/zeroing-new-data> (referer: None)\n",
      "2020-03-10 14:28:09 [scrapy.core.engine] DEBUG: Crawled (200) <GET https://www.accenture.com//us-en/insights/strategy/front-office-where-profits-go-die> (referer: None)\n",
      "2020-03-10 14:28:09 [scrapy.core.engine] DEBUG: Crawled (200) <GET https://www.accenture.com//us-en/insights/digital/fjord-trends-2020> (referer: None)\n",
      "2020-03-10 14:28:09 [urllib3.connectionpool] DEBUG: Starting new HTTPS connection (1): www.accenture.com:443\n"
     ]
    },
    {
     "name": "stdout",
     "output_type": "stream",
     "text": [
      "https://www.accenture.com//us-en/insights/health/five-digital-health-trends\n"
     ]
    },
    {
     "name": "stderr",
     "output_type": "stream",
     "text": [
      "2020-03-10 14:28:15 [urllib3.connectionpool] DEBUG: https://www.accenture.com:443 \"GET //us-en/insights/health/five-digital-health-trends HTTP/1.1\" 200 120805\n",
      "2020-03-10 14:28:15 [urllib3.connectionpool] DEBUG: Starting new HTTPS connection (1): www.accenture.com:443\n"
     ]
    },
    {
     "name": "stdout",
     "output_type": "stream",
     "text": [
      "https://www.accenture.com//us-en/insights/technology/chief-data-officer\n"
     ]
    },
    {
     "name": "stderr",
     "output_type": "stream",
     "text": [
      "2020-03-10 14:28:16 [urllib3.connectionpool] DEBUG: https://www.accenture.com:443 \"GET //us-en/insights/technology/chief-data-officer HTTP/1.1\" 200 137348\n",
      "2020-03-10 14:28:16 [urllib3.connectionpool] DEBUG: Starting new HTTPS connection (1): www.accenture.com:443\n"
     ]
    },
    {
     "name": "stdout",
     "output_type": "stream",
     "text": [
      "https://www.accenture.com//us-en/insights/capital-markets/asset-management-future-operating-models\n"
     ]
    },
    {
     "name": "stderr",
     "output_type": "stream",
     "text": [
      "2020-03-10 14:28:17 [urllib3.connectionpool] DEBUG: https://www.accenture.com:443 \"GET //us-en/insights/capital-markets/asset-management-future-operating-models HTTP/1.1\" 200 143591\n",
      "2020-03-10 14:28:17 [urllib3.connectionpool] DEBUG: Starting new HTTPS connection (1): www.accenture.com:443\n"
     ]
    },
    {
     "name": "stdout",
     "output_type": "stream",
     "text": [
      "https://www.accenture.com//us-en/insights/cloud/google-post-digital-consumer-market\n"
     ]
    },
    {
     "name": "stderr",
     "output_type": "stream",
     "text": [
      "2020-03-10 14:28:18 [urllib3.connectionpool] DEBUG: https://www.accenture.com:443 \"GET //us-en/insights/cloud/google-post-digital-consumer-market HTTP/1.1\" 200 130947\n",
      "2020-03-10 14:28:18 [urllib3.connectionpool] DEBUG: Starting new HTTPS connection (1): www.accenture.com:443\n"
     ]
    },
    {
     "name": "stdout",
     "output_type": "stream",
     "text": [
      "https://www.accenture.com//us-en/insights/cloud/google-technology-vision-darq\n"
     ]
    },
    {
     "name": "stderr",
     "output_type": "stream",
     "text": [
      "2020-03-10 14:28:18 [urllib3.connectionpool] DEBUG: https://www.accenture.com:443 \"GET //us-en/insights/cloud/google-technology-vision-darq HTTP/1.1\" 200 130051\n",
      "2020-03-10 14:28:18 [urllib3.connectionpool] DEBUG: Starting new HTTPS connection (1): www.accenture.com:443\n"
     ]
    },
    {
     "name": "stdout",
     "output_type": "stream",
     "text": [
      "https://www.accenture.com//us-en/insights/digital/zeroing-new-data\n"
     ]
    },
    {
     "name": "stderr",
     "output_type": "stream",
     "text": [
      "2020-03-10 14:28:19 [urllib3.connectionpool] DEBUG: https://www.accenture.com:443 \"GET //us-en/insights/digital/zeroing-new-data HTTP/1.1\" 200 143346\n",
      "2020-03-10 14:28:19 [urllib3.connectionpool] DEBUG: Starting new HTTPS connection (1): www.accenture.com:443\n"
     ]
    },
    {
     "name": "stdout",
     "output_type": "stream",
     "text": [
      "https://www.accenture.com//us-en/insights/strategy/front-office-where-profits-go-die\n"
     ]
    },
    {
     "name": "stderr",
     "output_type": "stream",
     "text": [
      "2020-03-10 14:28:20 [urllib3.connectionpool] DEBUG: https://www.accenture.com:443 \"GET //us-en/insights/strategy/front-office-where-profits-go-die HTTP/1.1\" 200 144141\n",
      "2020-03-10 14:28:20 [urllib3.connectionpool] DEBUG: Starting new HTTPS connection (1): www.accenture.com:443\n"
     ]
    },
    {
     "name": "stdout",
     "output_type": "stream",
     "text": [
      "https://www.accenture.com//us-en/insights/digital/fjord-trends-2020\n"
     ]
    },
    {
     "name": "stderr",
     "output_type": "stream",
     "text": [
      "2020-03-10 14:28:21 [urllib3.connectionpool] DEBUG: https://www.accenture.com:443 \"GET //us-en/insights/digital/fjord-trends-2020 HTTP/1.1\" 200 247906\n",
      "2020-03-10 14:28:21 [scrapy.core.engine] DEBUG: Crawled (200) <GET https://www.accenture.com//us-en/insights/artificial-intelligence/ai-in-the-workplace> (referer: None)\n",
      "2020-03-10 14:28:21 [scrapy.core.engine] DEBUG: Crawled (200) <GET https://www.accenture.com//us-en/insights/artificial-intelligence/ai-roadmap> (referer: None)\n",
      "2020-03-10 14:28:21 [scrapy.core.engine] DEBUG: Crawled (200) <GET https://www.accenture.com//us-en/insights/artificial-intelligence/scaling-responsible-ai> (referer: None)\n",
      "2020-03-10 14:28:21 [scrapy.core.engine] DEBUG: Crawled (200) <GET https://www.accenture.com//us-en/insights/artificial-intelligence/scaling-enterprise-ai> (referer: None)\n",
      "2020-03-10 14:28:21 [scrapy.core.engine] DEBUG: Crawled (200) <GET https://www.accenture.com//us-en/insights/financial-services/banking-global-risk-study> (referer: None)\n",
      "2020-03-10 14:28:21 [scrapy.core.engine] DEBUG: Crawled (200) <GET https://www.accenture.com//us-en/insights/financial-services/insurance-global-risk-study> (referer: None)\n",
      "2020-03-10 14:28:21 [scrapy.core.engine] DEBUG: Crawled (200) <GET https://www.accenture.com//us-en/insights/high-tech/business-models-aerospace-defense> (referer: None)\n",
      "2020-03-10 14:28:21 [scrapy.core.engine] DEBUG: Crawled (200) <GET https://www.accenture.com//us-en/insights/security/leading-security-firm-forrester> (referer: None)\n",
      "2020-03-10 14:28:21 [urllib3.connectionpool] DEBUG: Starting new HTTPS connection (1): www.accenture.com:443\n"
     ]
    },
    {
     "name": "stdout",
     "output_type": "stream",
     "text": [
      "https://www.accenture.com//us-en/insights/artificial-intelligence/ai-in-the-workplace\n"
     ]
    },
    {
     "name": "stderr",
     "output_type": "stream",
     "text": [
      "2020-03-10 14:28:22 [urllib3.connectionpool] DEBUG: https://www.accenture.com:443 \"GET //us-en/insights/artificial-intelligence/ai-in-the-workplace HTTP/1.1\" 200 149669\n",
      "2020-03-10 14:28:22 [urllib3.connectionpool] DEBUG: Starting new HTTPS connection (1): www.accenture.com:443\n"
     ]
    },
    {
     "name": "stdout",
     "output_type": "stream",
     "text": [
      "https://www.accenture.com//us-en/insights/artificial-intelligence/ai-roadmap\n"
     ]
    },
    {
     "name": "stderr",
     "output_type": "stream",
     "text": [
      "2020-03-10 14:28:22 [urllib3.connectionpool] DEBUG: https://www.accenture.com:443 \"GET //us-en/insights/artificial-intelligence/ai-roadmap HTTP/1.1\" 200 143732\n",
      "2020-03-10 14:28:22 [urllib3.connectionpool] DEBUG: Starting new HTTPS connection (1): www.accenture.com:443\n"
     ]
    },
    {
     "name": "stdout",
     "output_type": "stream",
     "text": [
      "https://www.accenture.com//us-en/insights/artificial-intelligence/scaling-responsible-ai\n"
     ]
    },
    {
     "name": "stderr",
     "output_type": "stream",
     "text": [
      "2020-03-10 14:28:23 [urllib3.connectionpool] DEBUG: https://www.accenture.com:443 \"GET //us-en/insights/artificial-intelligence/scaling-responsible-ai HTTP/1.1\" 200 146611\n",
      "2020-03-10 14:28:23 [urllib3.connectionpool] DEBUG: Starting new HTTPS connection (1): www.accenture.com:443\n"
     ]
    },
    {
     "name": "stdout",
     "output_type": "stream",
     "text": [
      "https://www.accenture.com//us-en/insights/artificial-intelligence/scaling-enterprise-ai\n"
     ]
    },
    {
     "name": "stderr",
     "output_type": "stream",
     "text": [
      "2020-03-10 14:28:24 [urllib3.connectionpool] DEBUG: https://www.accenture.com:443 \"GET //us-en/insights/artificial-intelligence/scaling-enterprise-ai HTTP/1.1\" 200 139070\n",
      "2020-03-10 14:28:24 [urllib3.connectionpool] DEBUG: Starting new HTTPS connection (1): www.accenture.com:443\n"
     ]
    },
    {
     "name": "stdout",
     "output_type": "stream",
     "text": [
      "https://www.accenture.com//us-en/insights/financial-services/banking-global-risk-study\n"
     ]
    },
    {
     "name": "stderr",
     "output_type": "stream",
     "text": [
      "2020-03-10 14:28:25 [urllib3.connectionpool] DEBUG: https://www.accenture.com:443 \"GET //us-en/insights/financial-services/banking-global-risk-study HTTP/1.1\" 200 162355\n",
      "2020-03-10 14:28:25 [urllib3.connectionpool] DEBUG: Starting new HTTPS connection (1): www.accenture.com:443\n"
     ]
    },
    {
     "name": "stdout",
     "output_type": "stream",
     "text": [
      "https://www.accenture.com//us-en/insights/financial-services/insurance-global-risk-study\n"
     ]
    },
    {
     "name": "stderr",
     "output_type": "stream",
     "text": [
      "2020-03-10 14:28:26 [urllib3.connectionpool] DEBUG: https://www.accenture.com:443 \"GET //us-en/insights/financial-services/insurance-global-risk-study HTTP/1.1\" 200 167554\n",
      "2020-03-10 14:28:26 [urllib3.connectionpool] DEBUG: Starting new HTTPS connection (1): www.accenture.com:443\n"
     ]
    },
    {
     "name": "stdout",
     "output_type": "stream",
     "text": [
      "https://www.accenture.com//us-en/insights/high-tech/business-models-aerospace-defense\n"
     ]
    },
    {
     "name": "stderr",
     "output_type": "stream",
     "text": [
      "2020-03-10 14:28:27 [urllib3.connectionpool] DEBUG: https://www.accenture.com:443 \"GET //us-en/insights/high-tech/business-models-aerospace-defense HTTP/1.1\" 200 142755\n",
      "2020-03-10 14:28:27 [urllib3.connectionpool] DEBUG: Starting new HTTPS connection (1): www.accenture.com:443\n"
     ]
    },
    {
     "name": "stdout",
     "output_type": "stream",
     "text": [
      "https://www.accenture.com//us-en/insights/security/leading-security-firm-forrester\n"
     ]
    },
    {
     "name": "stderr",
     "output_type": "stream",
     "text": [
      "2020-03-10 14:28:28 [urllib3.connectionpool] DEBUG: https://www.accenture.com:443 \"GET //us-en/insights/security/leading-security-firm-forrester HTTP/1.1\" 200 133062\n",
      "2020-03-10 14:28:28 [scrapy.core.engine] DEBUG: Crawled (200) <GET https://www.accenture.com//us-en/insights/digital/board-ai-ready> (referer: None)\n",
      "2020-03-10 14:28:28 [scrapy.core.engine] DEBUG: Crawled (200) <GET https://www.accenture.com//us-en/insights/technology/oracle-microsoft-partnership> (referer: None)\n",
      "2020-03-10 14:28:28 [scrapy.core.engine] DEBUG: Crawled (200) <GET https://www.accenture.com//us-en/insights/strategy/organizational-transformation> (referer: None)\n",
      "2020-03-10 14:28:28 [scrapy.core.engine] DEBUG: Crawled (200) <GET https://www.accenture.com//us-en/insights/artificial-intelligence/ai-enhanced-journey> (referer: None)\n",
      "2020-03-10 14:28:28 [scrapy.core.engine] DEBUG: Crawled (200) <GET https://www.accenture.com//us-en/insights/artificial-intelligence/ai-investments> (referer: None)\n",
      "2020-03-10 14:28:28 [scrapy.core.engine] DEBUG: Crawled (200) <GET https://www.accenture.com//us-en/insights/consulting/digital-finance-talent> (referer: None)\n",
      "2020-03-10 14:28:28 [scrapy.core.engine] DEBUG: Crawled (200) <GET https://www.accenture.com//us-en/insights/cloud/aws-data-driven-enterprise> (referer: None)\n",
      "2020-03-10 14:28:28 [scrapy.core.engine] DEBUG: Crawled (200) <GET https://www.accenture.com//us-en/insights/strategy/mergers-acquisitions-analytics> (referer: None)\n",
      "2020-03-10 14:28:28 [urllib3.connectionpool] DEBUG: Starting new HTTPS connection (1): www.accenture.com:443\n"
     ]
    },
    {
     "name": "stdout",
     "output_type": "stream",
     "text": [
      "https://www.accenture.com//us-en/insights/digital/board-ai-ready\n"
     ]
    },
    {
     "name": "stderr",
     "output_type": "stream",
     "text": [
      "2020-03-10 14:28:29 [urllib3.connectionpool] DEBUG: https://www.accenture.com:443 \"GET //us-en/insights/digital/board-ai-ready HTTP/1.1\" 200 138746\n",
      "2020-03-10 14:28:29 [urllib3.connectionpool] DEBUG: Starting new HTTPS connection (1): www.accenture.com:443\n"
     ]
    },
    {
     "name": "stdout",
     "output_type": "stream",
     "text": [
      "https://www.accenture.com//us-en/insights/technology/oracle-microsoft-partnership\n"
     ]
    },
    {
     "name": "stderr",
     "output_type": "stream",
     "text": [
      "2020-03-10 14:28:30 [urllib3.connectionpool] DEBUG: https://www.accenture.com:443 \"GET //us-en/insights/technology/oracle-microsoft-partnership HTTP/1.1\" 200 131160\n",
      "2020-03-10 14:28:30 [urllib3.connectionpool] DEBUG: Starting new HTTPS connection (1): www.accenture.com:443\n"
     ]
    },
    {
     "name": "stdout",
     "output_type": "stream",
     "text": [
      "https://www.accenture.com//us-en/insights/strategy/organizational-transformation\n"
     ]
    },
    {
     "name": "stderr",
     "output_type": "stream",
     "text": [
      "2020-03-10 14:28:31 [urllib3.connectionpool] DEBUG: https://www.accenture.com:443 \"GET //us-en/insights/strategy/organizational-transformation HTTP/1.1\" 200 147094\n",
      "2020-03-10 14:28:31 [urllib3.connectionpool] DEBUG: Starting new HTTPS connection (1): www.accenture.com:443\n"
     ]
    },
    {
     "name": "stdout",
     "output_type": "stream",
     "text": [
      "https://www.accenture.com//us-en/insights/artificial-intelligence/ai-enhanced-journey\n"
     ]
    },
    {
     "name": "stderr",
     "output_type": "stream",
     "text": [
      "2020-03-10 14:28:32 [urllib3.connectionpool] DEBUG: https://www.accenture.com:443 \"GET //us-en/insights/artificial-intelligence/ai-enhanced-journey HTTP/1.1\" 200 150745\n",
      "2020-03-10 14:28:32 [urllib3.connectionpool] DEBUG: Starting new HTTPS connection (1): www.accenture.com:443\n"
     ]
    },
    {
     "name": "stdout",
     "output_type": "stream",
     "text": [
      "https://www.accenture.com//us-en/insights/artificial-intelligence/ai-investments\n"
     ]
    },
    {
     "name": "stderr",
     "output_type": "stream",
     "text": [
      "2020-03-10 14:28:32 [urllib3.connectionpool] DEBUG: https://www.accenture.com:443 \"GET //us-en/insights/artificial-intelligence/ai-investments HTTP/1.1\" 200 204025\n",
      "2020-03-10 14:28:33 [urllib3.connectionpool] DEBUG: Starting new HTTPS connection (1): www.accenture.com:443\n"
     ]
    },
    {
     "name": "stdout",
     "output_type": "stream",
     "text": [
      "https://www.accenture.com//us-en/insights/consulting/digital-finance-talent\n"
     ]
    },
    {
     "name": "stderr",
     "output_type": "stream",
     "text": [
      "2020-03-10 14:28:33 [urllib3.connectionpool] DEBUG: https://www.accenture.com:443 \"GET //us-en/insights/consulting/digital-finance-talent HTTP/1.1\" 200 145761\n",
      "2020-03-10 14:28:33 [urllib3.connectionpool] DEBUG: Starting new HTTPS connection (1): www.accenture.com:443\n"
     ]
    },
    {
     "name": "stdout",
     "output_type": "stream",
     "text": [
      "https://www.accenture.com//us-en/insights/cloud/aws-data-driven-enterprise\n"
     ]
    },
    {
     "name": "stderr",
     "output_type": "stream",
     "text": [
      "2020-03-10 14:28:34 [urllib3.connectionpool] DEBUG: https://www.accenture.com:443 \"GET //us-en/insights/cloud/aws-data-driven-enterprise HTTP/1.1\" 200 130225\n",
      "2020-03-10 14:28:34 [urllib3.connectionpool] DEBUG: Starting new HTTPS connection (1): www.accenture.com:443\n"
     ]
    },
    {
     "name": "stdout",
     "output_type": "stream",
     "text": [
      "https://www.accenture.com//us-en/insights/strategy/mergers-acquisitions-analytics\n"
     ]
    },
    {
     "name": "stderr",
     "output_type": "stream",
     "text": [
      "2020-03-10 14:28:35 [urllib3.connectionpool] DEBUG: https://www.accenture.com:443 \"GET //us-en/insights/strategy/mergers-acquisitions-analytics HTTP/1.1\" 200 165274\n",
      "2020-03-10 14:28:35 [scrapy.core.engine] DEBUG: Crawled (200) <GET https://www.accenture.com//us-en/about/company/2019-letter-shareholders-full-text> (referer: None)\n",
      "2020-03-10 14:28:35 [scrapy.core.engine] DEBUG: Crawled (200) <GET https://www.accenture.com//us-en/insights/financial-services/accenture-backbase-digital-transformation-banking> (referer: None)\n",
      "2020-03-10 14:28:35 [scrapy.core.engine] DEBUG: Crawled (200) <GET https://www.accenture.com//us-en/insights/security/board-primer-artificial-intelligence> (referer: None)\n",
      "2020-03-10 14:28:35 [scrapy.core.engine] DEBUG: Crawled (200) <GET https://www.accenture.com//us-en/insights/cloud/aiops-operations-optimization> (referer: None)\n",
      "2020-03-10 14:28:35 [scrapy.core.engine] DEBUG: Crawled (200) <GET https://www.accenture.com//us-en/insights/digital/see-people-not-patterns> (referer: None)\n",
      "2020-03-10 14:28:35 [scrapy.core.engine] DEBUG: Crawled (200) <GET https://www.accenture.com//us-en/insights/digital/automation-powers-workforce> (referer: None)\n",
      "2020-03-10 14:28:35 [scrapy.core.engine] DEBUG: Crawled (200) <GET https://www.accenture.com//us-en/insights/insurance/innovation-insurance-awards-2019-trends> (referer: None)\n",
      "2020-03-10 14:28:35 [scrapy.core.engine] DEBUG: Crawled (200) <GET https://www.accenture.com//us-en/insights/cloud/designing-workplace-experience-drive-growth> (referer: None)\n",
      "2020-03-10 14:28:35 [urllib3.connectionpool] DEBUG: Starting new HTTPS connection (1): www.accenture.com:443\n"
     ]
    },
    {
     "name": "stdout",
     "output_type": "stream",
     "text": [
      "https://www.accenture.com//us-en/about/company/2019-letter-shareholders-full-text\n"
     ]
    },
    {
     "name": "stderr",
     "output_type": "stream",
     "text": [
      "2020-03-10 14:28:36 [urllib3.connectionpool] DEBUG: https://www.accenture.com:443 \"GET //us-en/about/company/2019-letter-shareholders-full-text HTTP/1.1\" 200 136594\n",
      "2020-03-10 14:28:36 [urllib3.connectionpool] DEBUG: Starting new HTTPS connection (1): www.accenture.com:443\n"
     ]
    },
    {
     "name": "stdout",
     "output_type": "stream",
     "text": [
      "https://www.accenture.com//us-en/insights/financial-services/accenture-backbase-digital-transformation-banking\n"
     ]
    },
    {
     "name": "stderr",
     "output_type": "stream",
     "text": [
      "2020-03-10 14:28:37 [urllib3.connectionpool] DEBUG: https://www.accenture.com:443 \"GET //us-en/insights/financial-services/accenture-backbase-digital-transformation-banking HTTP/1.1\" 200 142023\n",
      "2020-03-10 14:28:37 [urllib3.connectionpool] DEBUG: Starting new HTTPS connection (1): www.accenture.com:443\n"
     ]
    },
    {
     "name": "stdout",
     "output_type": "stream",
     "text": [
      "https://www.accenture.com//us-en/insights/security/board-primer-artificial-intelligence\n"
     ]
    },
    {
     "name": "stderr",
     "output_type": "stream",
     "text": [
      "2020-03-10 14:28:38 [urllib3.connectionpool] DEBUG: https://www.accenture.com:443 \"GET //us-en/insights/security/board-primer-artificial-intelligence HTTP/1.1\" 200 140178\n",
      "2020-03-10 14:28:38 [urllib3.connectionpool] DEBUG: Starting new HTTPS connection (1): www.accenture.com:443\n"
     ]
    },
    {
     "name": "stdout",
     "output_type": "stream",
     "text": [
      "https://www.accenture.com//us-en/insights/cloud/aiops-operations-optimization\n"
     ]
    },
    {
     "name": "stderr",
     "output_type": "stream",
     "text": [
      "2020-03-10 14:28:39 [urllib3.connectionpool] DEBUG: https://www.accenture.com:443 \"GET //us-en/insights/cloud/aiops-operations-optimization HTTP/1.1\" 200 127551\n",
      "2020-03-10 14:28:39 [urllib3.connectionpool] DEBUG: Starting new HTTPS connection (1): www.accenture.com:443\n"
     ]
    },
    {
     "name": "stdout",
     "output_type": "stream",
     "text": [
      "https://www.accenture.com//us-en/insights/digital/see-people-not-patterns\n"
     ]
    },
    {
     "name": "stderr",
     "output_type": "stream",
     "text": [
      "2020-03-10 14:28:40 [urllib3.connectionpool] DEBUG: https://www.accenture.com:443 \"GET //us-en/insights/digital/see-people-not-patterns HTTP/1.1\" 200 153609\n",
      "2020-03-10 14:28:40 [urllib3.connectionpool] DEBUG: Starting new HTTPS connection (1): www.accenture.com:443\n"
     ]
    },
    {
     "name": "stdout",
     "output_type": "stream",
     "text": [
      "https://www.accenture.com//us-en/insights/digital/automation-powers-workforce\n"
     ]
    },
    {
     "name": "stderr",
     "output_type": "stream",
     "text": [
      "2020-03-10 14:28:41 [urllib3.connectionpool] DEBUG: https://www.accenture.com:443 \"GET //us-en/insights/digital/automation-powers-workforce HTTP/1.1\" 200 155091\n",
      "2020-03-10 14:28:41 [urllib3.connectionpool] DEBUG: Starting new HTTPS connection (1): www.accenture.com:443\n"
     ]
    },
    {
     "name": "stdout",
     "output_type": "stream",
     "text": [
      "https://www.accenture.com//us-en/insights/insurance/innovation-insurance-awards-2019-trends\n"
     ]
    },
    {
     "name": "stderr",
     "output_type": "stream",
     "text": [
      "2020-03-10 14:28:42 [urllib3.connectionpool] DEBUG: https://www.accenture.com:443 \"GET //us-en/insights/insurance/innovation-insurance-awards-2019-trends HTTP/1.1\" 200 159206\n",
      "2020-03-10 14:28:42 [urllib3.connectionpool] DEBUG: Starting new HTTPS connection (1): www.accenture.com:443\n"
     ]
    },
    {
     "name": "stdout",
     "output_type": "stream",
     "text": [
      "https://www.accenture.com//us-en/insights/cloud/designing-workplace-experience-drive-growth\n"
     ]
    },
    {
     "name": "stderr",
     "output_type": "stream",
     "text": [
      "2020-03-10 14:28:43 [urllib3.connectionpool] DEBUG: https://www.accenture.com:443 \"GET //us-en/insights/cloud/designing-workplace-experience-drive-growth HTTP/1.1\" 200 149177\n",
      "2020-03-10 14:28:43 [scrapy.extensions.logstats] INFO: Crawled 67 pages (at 67 pages/min), scraped 0 items (at 0 items/min)\n",
      "2020-03-10 14:28:43 [scrapy.core.engine] DEBUG: Crawled (200) <GET https://www.accenture.com//us-en/insights/consulting/ideas-outcomes> (referer: None)\n",
      "2020-03-10 14:28:43 [scrapy.core.engine] DEBUG: Crawled (200) <GET https://www.accenture.com//us-en/insights/us-federal-government/applied-customer-engagement-digital-shift> (referer: None)\n",
      "2020-03-10 14:28:43 [scrapy.core.engine] DEBUG: Crawled (200) <GET https://www.accenture.com//us-en/insights/us-federal-government/applied-customer-engagement> (referer: None)\n",
      "2020-03-10 14:28:43 [scrapy.core.engine] DEBUG: Crawled (200) <GET https://www.accenture.com//us-en/insights/us-federal-government/applied-customer-engagement-experience-design> (referer: None)\n",
      "2020-03-10 14:28:43 [scrapy.core.engine] DEBUG: Crawled (200) <GET https://www.accenture.com//us-en/insights/digital/maximize-collaboration-secure-data-sharing> (referer: None)\n",
      "2020-03-10 14:28:43 [scrapy.core.engine] DEBUG: Crawled (200) <GET https://www.accenture.com//us-en/insights/technology/future-experiences-industry-x-0> (referer: None)\n",
      "2020-03-10 14:28:43 [scrapy.core.engine] DEBUG: Crawled (200) <GET https://www.accenture.com//us-en/insights/communications-media/darqpower-new-emerging-technologies> (referer: None)\n",
      "2020-03-10 14:28:43 [scrapy.core.engine] DEBUG: Crawled (200) <GET https://www.accenture.com//us-en/insights/future-systems/future-ready-enterprise-systems> (referer: None)\n",
      "2020-03-10 14:28:43 [urllib3.connectionpool] DEBUG: Starting new HTTPS connection (1): www.accenture.com:443\n"
     ]
    },
    {
     "name": "stdout",
     "output_type": "stream",
     "text": [
      "https://www.accenture.com//us-en/insights/consulting/ideas-outcomes\n"
     ]
    },
    {
     "name": "stderr",
     "output_type": "stream",
     "text": [
      "2020-03-10 14:28:44 [urllib3.connectionpool] DEBUG: https://www.accenture.com:443 \"GET //us-en/insights/consulting/ideas-outcomes HTTP/1.1\" 200 141675\n",
      "2020-03-10 14:28:44 [urllib3.connectionpool] DEBUG: Starting new HTTPS connection (1): www.accenture.com:443\n"
     ]
    },
    {
     "name": "stdout",
     "output_type": "stream",
     "text": [
      "https://www.accenture.com//us-en/insights/us-federal-government/applied-customer-engagement-digital-shift\n"
     ]
    },
    {
     "name": "stderr",
     "output_type": "stream",
     "text": [
      "2020-03-10 14:28:45 [urllib3.connectionpool] DEBUG: https://www.accenture.com:443 \"GET //us-en/insights/us-federal-government/applied-customer-engagement-digital-shift HTTP/1.1\" 200 159241\n",
      "2020-03-10 14:28:45 [urllib3.connectionpool] DEBUG: Starting new HTTPS connection (1): www.accenture.com:443\n"
     ]
    },
    {
     "name": "stdout",
     "output_type": "stream",
     "text": [
      "https://www.accenture.com//us-en/insights/us-federal-government/applied-customer-engagement\n"
     ]
    },
    {
     "name": "stderr",
     "output_type": "stream",
     "text": [
      "2020-03-10 14:28:45 [urllib3.connectionpool] DEBUG: https://www.accenture.com:443 \"GET //us-en/insights/us-federal-government/applied-customer-engagement HTTP/1.1\" 200 149140\n",
      "2020-03-10 14:28:45 [urllib3.connectionpool] DEBUG: Starting new HTTPS connection (1): www.accenture.com:443\n"
     ]
    },
    {
     "name": "stdout",
     "output_type": "stream",
     "text": [
      "https://www.accenture.com//us-en/insights/us-federal-government/applied-customer-engagement-experience-design\n"
     ]
    },
    {
     "name": "stderr",
     "output_type": "stream",
     "text": [
      "2020-03-10 14:28:46 [urllib3.connectionpool] DEBUG: https://www.accenture.com:443 \"GET //us-en/insights/us-federal-government/applied-customer-engagement-experience-design HTTP/1.1\" 200 159868\n",
      "2020-03-10 14:28:46 [urllib3.connectionpool] DEBUG: Starting new HTTPS connection (1): www.accenture.com:443\n"
     ]
    },
    {
     "name": "stdout",
     "output_type": "stream",
     "text": [
      "https://www.accenture.com//us-en/insights/digital/maximize-collaboration-secure-data-sharing\n"
     ]
    },
    {
     "name": "stderr",
     "output_type": "stream",
     "text": [
      "2020-03-10 14:28:47 [urllib3.connectionpool] DEBUG: https://www.accenture.com:443 \"GET //us-en/insights/digital/maximize-collaboration-secure-data-sharing HTTP/1.1\" 200 192511\n",
      "2020-03-10 14:28:47 [urllib3.connectionpool] DEBUG: Starting new HTTPS connection (1): www.accenture.com:443\n"
     ]
    },
    {
     "name": "stdout",
     "output_type": "stream",
     "text": [
      "https://www.accenture.com//us-en/insights/technology/future-experiences-industry-x-0\n"
     ]
    },
    {
     "name": "stderr",
     "output_type": "stream",
     "text": [
      "2020-03-10 14:28:48 [urllib3.connectionpool] DEBUG: https://www.accenture.com:443 \"GET //us-en/insights/technology/future-experiences-industry-x-0 HTTP/1.1\" 200 143200\n",
      "2020-03-10 14:28:48 [urllib3.connectionpool] DEBUG: Starting new HTTPS connection (1): www.accenture.com:443\n"
     ]
    },
    {
     "name": "stdout",
     "output_type": "stream",
     "text": [
      "https://www.accenture.com//us-en/insights/communications-media/darqpower-new-emerging-technologies\n"
     ]
    },
    {
     "name": "stderr",
     "output_type": "stream",
     "text": [
      "2020-03-10 14:28:49 [urllib3.connectionpool] DEBUG: https://www.accenture.com:443 \"GET //us-en/insights/communications-media/darqpower-new-emerging-technologies HTTP/1.1\" 200 154874\n",
      "2020-03-10 14:28:49 [urllib3.connectionpool] DEBUG: Starting new HTTPS connection (1): www.accenture.com:443\n"
     ]
    },
    {
     "name": "stdout",
     "output_type": "stream",
     "text": [
      "https://www.accenture.com//us-en/insights/future-systems/future-ready-enterprise-systems\n"
     ]
    },
    {
     "name": "stderr",
     "output_type": "stream",
     "text": [
      "2020-03-10 14:28:49 [urllib3.connectionpool] DEBUG: https://www.accenture.com:443 \"GET //us-en/insights/future-systems/future-ready-enterprise-systems HTTP/1.1\" 200 249621\n",
      "2020-03-10 14:28:49 [scrapy.core.engine] DEBUG: Crawled (200) <GET https://www.accenture.com//us-en/insights/life-sciences/future-clinical-trials> (referer: None)\n",
      "2020-03-10 14:28:49 [scrapy.core.engine] DEBUG: Crawled (200) <GET https://www.accenture.com//us-en/insights/financial-services/powering-financial-crime-compliance> (referer: None)\n",
      "2020-03-10 14:28:49 [scrapy.core.engine] DEBUG: Crawled (200) <GET https://www.accenture.com//us-en/insights/financial-services/technology-advisory-neural-networks> (referer: None)\n",
      "2020-03-10 14:28:49 [scrapy.core.engine] DEBUG: Crawled (200) <GET https://www.accenture.com//us-en/insights/communications-media/media-darq-new-emerging-technologies> (referer: None)\n",
      "2020-03-10 14:28:49 [scrapy.core.engine] DEBUG: Crawled (200) <GET https://www.accenture.com//us-en/insights/capital-markets/asset-management-reinventing-operations> (referer: None)\n",
      "2020-03-10 14:28:49 [scrapy.core.engine] DEBUG: Crawled (200) <GET https://www.accenture.com//us-en/insights/digital/leap-tall-buildings-single-bound> (referer: None)\n",
      "2020-03-10 14:28:49 [scrapy.core.engine] DEBUG: Crawled (200) <GET https://www.accenture.com//us-en/insights/technology/oracle-learning-cloud> (referer: None)\n",
      "2020-03-10 14:28:49 [scrapy.core.engine] DEBUG: Crawled (200) <GET https://www.accenture.com//us-en/insights/technology/oracle-recruiting-cloud> (referer: None)\n",
      "2020-03-10 14:28:50 [urllib3.connectionpool] DEBUG: Starting new HTTPS connection (1): www.accenture.com:443\n"
     ]
    },
    {
     "name": "stdout",
     "output_type": "stream",
     "text": [
      "https://www.accenture.com//us-en/insights/life-sciences/future-clinical-trials\n"
     ]
    },
    {
     "name": "stderr",
     "output_type": "stream",
     "text": [
      "2020-03-10 14:28:54 [urllib3.connectionpool] DEBUG: https://www.accenture.com:443 \"GET //us-en/insights/life-sciences/future-clinical-trials HTTP/1.1\" 200 190907\n",
      "2020-03-10 14:28:54 [urllib3.connectionpool] DEBUG: Starting new HTTPS connection (1): www.accenture.com:443\n"
     ]
    },
    {
     "name": "stdout",
     "output_type": "stream",
     "text": [
      "https://www.accenture.com//us-en/insights/financial-services/powering-financial-crime-compliance\n"
     ]
    },
    {
     "name": "stderr",
     "output_type": "stream",
     "text": [
      "2020-03-10 14:28:55 [urllib3.connectionpool] DEBUG: https://www.accenture.com:443 \"GET //us-en/insights/financial-services/powering-financial-crime-compliance HTTP/1.1\" 200 149549\n",
      "2020-03-10 14:28:55 [urllib3.connectionpool] DEBUG: Starting new HTTPS connection (1): www.accenture.com:443\n"
     ]
    },
    {
     "name": "stdout",
     "output_type": "stream",
     "text": [
      "https://www.accenture.com//us-en/insights/financial-services/technology-advisory-neural-networks\n"
     ]
    },
    {
     "name": "stderr",
     "output_type": "stream",
     "text": [
      "2020-03-10 14:28:56 [urllib3.connectionpool] DEBUG: https://www.accenture.com:443 \"GET //us-en/insights/financial-services/technology-advisory-neural-networks HTTP/1.1\" 200 139009\n",
      "2020-03-10 14:28:56 [urllib3.connectionpool] DEBUG: Starting new HTTPS connection (1): www.accenture.com:443\n"
     ]
    },
    {
     "name": "stdout",
     "output_type": "stream",
     "text": [
      "https://www.accenture.com//us-en/insights/communications-media/media-darq-new-emerging-technologies\n"
     ]
    },
    {
     "name": "stderr",
     "output_type": "stream",
     "text": [
      "2020-03-10 14:28:57 [urllib3.connectionpool] DEBUG: https://www.accenture.com:443 \"GET //us-en/insights/communications-media/media-darq-new-emerging-technologies HTTP/1.1\" 200 153517\n",
      "2020-03-10 14:28:57 [urllib3.connectionpool] DEBUG: Starting new HTTPS connection (1): www.accenture.com:443\n"
     ]
    },
    {
     "name": "stdout",
     "output_type": "stream",
     "text": [
      "https://www.accenture.com//us-en/insights/capital-markets/asset-management-reinventing-operations\n"
     ]
    },
    {
     "name": "stderr",
     "output_type": "stream",
     "text": [
      "2020-03-10 14:28:58 [urllib3.connectionpool] DEBUG: https://www.accenture.com:443 \"GET //us-en/insights/capital-markets/asset-management-reinventing-operations HTTP/1.1\" 200 147063\n",
      "2020-03-10 14:28:58 [urllib3.connectionpool] DEBUG: Starting new HTTPS connection (1): www.accenture.com:443\n"
     ]
    },
    {
     "name": "stdout",
     "output_type": "stream",
     "text": [
      "https://www.accenture.com//us-en/insights/digital/leap-tall-buildings-single-bound\n"
     ]
    },
    {
     "name": "stderr",
     "output_type": "stream",
     "text": [
      "2020-03-10 14:28:59 [urllib3.connectionpool] DEBUG: https://www.accenture.com:443 \"GET //us-en/insights/digital/leap-tall-buildings-single-bound HTTP/1.1\" 200 140372\n",
      "2020-03-10 14:28:59 [urllib3.connectionpool] DEBUG: Starting new HTTPS connection (1): www.accenture.com:443\n"
     ]
    },
    {
     "name": "stdout",
     "output_type": "stream",
     "text": [
      "https://www.accenture.com//us-en/insights/technology/oracle-learning-cloud\n"
     ]
    },
    {
     "name": "stderr",
     "output_type": "stream",
     "text": [
      "2020-03-10 14:29:00 [urllib3.connectionpool] DEBUG: https://www.accenture.com:443 \"GET //us-en/insights/technology/oracle-learning-cloud HTTP/1.1\" 200 139041\n",
      "2020-03-10 14:29:00 [urllib3.connectionpool] DEBUG: Starting new HTTPS connection (1): www.accenture.com:443\n"
     ]
    },
    {
     "name": "stdout",
     "output_type": "stream",
     "text": [
      "https://www.accenture.com//us-en/insights/technology/oracle-recruiting-cloud\n"
     ]
    },
    {
     "name": "stderr",
     "output_type": "stream",
     "text": [
      "2020-03-10 14:29:01 [urllib3.connectionpool] DEBUG: https://www.accenture.com:443 \"GET //us-en/insights/technology/oracle-recruiting-cloud HTTP/1.1\" 200 141120\n",
      "2020-03-10 14:29:01 [scrapy.core.engine] DEBUG: Crawled (200) <GET https://www.accenture.com//us-en/insights/public-service/keep-moving> (referer: None)\n",
      "2020-03-10 14:29:01 [scrapy.core.engine] DEBUG: Crawled (200) <GET https://www.accenture.com//us-en/insights/strategy/pricing-growth> (referer: None)\n",
      "2020-03-10 14:29:01 [scrapy.core.engine] DEBUG: Crawled (200) <GET https://www.accenture.com//us-en/insights/technology/sap-technology-vision-2019> (referer: None)\n",
      "2020-03-10 14:29:01 [scrapy.core.engine] DEBUG: Crawled (200) <GET https://www.accenture.com//us-en/insights/strategy/retail-operating-model> (referer: None)\n",
      "2020-03-10 14:29:01 [scrapy.core.engine] DEBUG: Crawled (200) <GET https://www.accenture.com//us-en/insights/travel/post-digital-trip-lifetime> (referer: None)\n",
      "2020-03-10 14:29:01 [scrapy.core.engine] DEBUG: Crawled (200) <GET https://www.accenture.com//us-en/insights/strategy/mergers-acquisitions-software> (referer: None)\n",
      "2020-03-10 14:29:01 [scrapy.core.engine] DEBUG: Crawled (200) <GET https://www.accenture.com//us-en/insights/consumer-goods-services/pillars-succeed-trade-consumer-marketing> (referer: None)\n",
      "2020-03-10 14:29:01 [scrapy.core.engine] DEBUG: Crawled (200) <GET https://www.accenture.com//us-en/insights/artificial-intelligence/new-unexpected-skills-ai-success> (referer: None)\n",
      "2020-03-10 14:29:01 [urllib3.connectionpool] DEBUG: Starting new HTTPS connection (1): www.accenture.com:443\n"
     ]
    },
    {
     "name": "stdout",
     "output_type": "stream",
     "text": [
      "https://www.accenture.com//us-en/insights/public-service/keep-moving\n"
     ]
    },
    {
     "name": "stderr",
     "output_type": "stream",
     "text": [
      "2020-03-10 14:29:02 [urllib3.connectionpool] DEBUG: https://www.accenture.com:443 \"GET //us-en/insights/public-service/keep-moving HTTP/1.1\" 200 127935\n",
      "2020-03-10 14:29:02 [urllib3.connectionpool] DEBUG: Starting new HTTPS connection (1): www.accenture.com:443\n"
     ]
    },
    {
     "name": "stdout",
     "output_type": "stream",
     "text": [
      "https://www.accenture.com//us-en/insights/strategy/pricing-growth\n"
     ]
    },
    {
     "name": "stderr",
     "output_type": "stream",
     "text": [
      "2020-03-10 14:29:02 [urllib3.connectionpool] DEBUG: https://www.accenture.com:443 \"GET //us-en/insights/strategy/pricing-growth HTTP/1.1\" 200 139634\n",
      "2020-03-10 14:29:02 [urllib3.connectionpool] DEBUG: Starting new HTTPS connection (1): www.accenture.com:443\n"
     ]
    },
    {
     "name": "stdout",
     "output_type": "stream",
     "text": [
      "https://www.accenture.com//us-en/insights/technology/sap-technology-vision-2019\n"
     ]
    },
    {
     "name": "stderr",
     "output_type": "stream",
     "text": [
      "2020-03-10 14:29:03 [urllib3.connectionpool] DEBUG: https://www.accenture.com:443 \"GET //us-en/insights/technology/sap-technology-vision-2019 HTTP/1.1\" 200 153274\n",
      "2020-03-10 14:29:03 [urllib3.connectionpool] DEBUG: Starting new HTTPS connection (1): www.accenture.com:443\n"
     ]
    },
    {
     "name": "stdout",
     "output_type": "stream",
     "text": [
      "https://www.accenture.com//us-en/insights/strategy/retail-operating-model\n"
     ]
    },
    {
     "name": "stderr",
     "output_type": "stream",
     "text": [
      "2020-03-10 14:29:04 [urllib3.connectionpool] DEBUG: https://www.accenture.com:443 \"GET //us-en/insights/strategy/retail-operating-model HTTP/1.1\" 200 153388\n",
      "2020-03-10 14:29:04 [urllib3.connectionpool] DEBUG: Starting new HTTPS connection (1): www.accenture.com:443\n"
     ]
    },
    {
     "name": "stdout",
     "output_type": "stream",
     "text": [
      "https://www.accenture.com//us-en/insights/travel/post-digital-trip-lifetime\n"
     ]
    },
    {
     "name": "stderr",
     "output_type": "stream",
     "text": [
      "2020-03-10 14:29:05 [urllib3.connectionpool] DEBUG: https://www.accenture.com:443 \"GET //us-en/insights/travel/post-digital-trip-lifetime HTTP/1.1\" 200 146769\n",
      "2020-03-10 14:29:05 [urllib3.connectionpool] DEBUG: Starting new HTTPS connection (1): www.accenture.com:443\n"
     ]
    },
    {
     "name": "stdout",
     "output_type": "stream",
     "text": [
      "https://www.accenture.com//us-en/insights/strategy/mergers-acquisitions-software\n"
     ]
    },
    {
     "name": "stderr",
     "output_type": "stream",
     "text": [
      "2020-03-10 14:29:06 [urllib3.connectionpool] DEBUG: https://www.accenture.com:443 \"GET //us-en/insights/strategy/mergers-acquisitions-software HTTP/1.1\" 200 156778\n",
      "2020-03-10 14:29:06 [urllib3.connectionpool] DEBUG: Starting new HTTPS connection (1): www.accenture.com:443\n"
     ]
    },
    {
     "name": "stdout",
     "output_type": "stream",
     "text": [
      "https://www.accenture.com//us-en/insights/consumer-goods-services/pillars-succeed-trade-consumer-marketing\n"
     ]
    },
    {
     "name": "stderr",
     "output_type": "stream",
     "text": [
      "2020-03-10 14:29:07 [urllib3.connectionpool] DEBUG: https://www.accenture.com:443 \"GET //us-en/insights/consumer-goods-services/pillars-succeed-trade-consumer-marketing HTTP/1.1\" 200 143485\n",
      "2020-03-10 14:29:07 [urllib3.connectionpool] DEBUG: Starting new HTTPS connection (1): www.accenture.com:443\n"
     ]
    },
    {
     "name": "stdout",
     "output_type": "stream",
     "text": [
      "https://www.accenture.com//us-en/insights/artificial-intelligence/new-unexpected-skills-ai-success\n"
     ]
    },
    {
     "name": "stderr",
     "output_type": "stream",
     "text": [
      "2020-03-10 14:29:08 [urllib3.connectionpool] DEBUG: https://www.accenture.com:443 \"GET //us-en/insights/artificial-intelligence/new-unexpected-skills-ai-success HTTP/1.1\" 200 137087\n",
      "2020-03-10 14:29:08 [scrapy.core.engine] DEBUG: Crawled (200) <GET https://www.accenture.com//us-en/insights/cloud/aiops-it-operations> (referer: None)\n",
      "2020-03-10 14:29:08 [scrapy.core.engine] DEBUG: Crawled (200) <GET https://www.accenture.com//us-en/insights/digital/find-engines> (referer: None)\n",
      "2020-03-10 14:29:08 [scrapy.core.engine] DEBUG: Crawled (200) <GET https://www.accenture.com//us-en/insights/software-platforms/building-data-ai-ethics-committees> (referer: None)\n",
      "2020-03-10 14:29:08 [scrapy.core.engine] DEBUG: Crawled (200) <GET https://www.accenture.com//us-en/insights/public-service/moving-beyond-compliance-in-child-welfare> (referer: None)\n",
      "2020-03-10 14:29:08 [scrapy.core.engine] DEBUG: Crawled (200) <GET https://www.accenture.com//us-en/insights/retail/retail-store-manager> (referer: None)\n",
      "2020-03-10 14:29:08 [scrapy.core.engine] DEBUG: Crawled (200) <GET https://www.accenture.com//us-en/insights/technology/new-data-value-chain> (referer: None)\n",
      "2020-03-10 14:29:08 [scrapy.core.engine] DEBUG: Crawled (200) <GET https://www.accenture.com//us-en/insights/us-federal-government/machine-learning> (referer: None)\n",
      "2020-03-10 14:29:08 [scrapy.core.engine] DEBUG: Crawled (200) <GET https://www.accenture.com//us-en/insights/financial-services/applied-customer-engagement-reinventing-customer-contact> (referer: None)\n",
      "2020-03-10 14:29:08 [urllib3.connectionpool] DEBUG: Starting new HTTPS connection (1): www.accenture.com:443\n"
     ]
    },
    {
     "name": "stdout",
     "output_type": "stream",
     "text": [
      "https://www.accenture.com//us-en/insights/cloud/aiops-it-operations\n"
     ]
    },
    {
     "name": "stderr",
     "output_type": "stream",
     "text": [
      "2020-03-10 14:29:09 [urllib3.connectionpool] DEBUG: https://www.accenture.com:443 \"GET //us-en/insights/cloud/aiops-it-operations HTTP/1.1\" 200 128731\n",
      "2020-03-10 14:29:09 [urllib3.connectionpool] DEBUG: Starting new HTTPS connection (1): www.accenture.com:443\n"
     ]
    },
    {
     "name": "stdout",
     "output_type": "stream",
     "text": [
      "https://www.accenture.com//us-en/insights/digital/find-engines\n"
     ]
    },
    {
     "name": "stderr",
     "output_type": "stream",
     "text": [
      "2020-03-10 14:29:09 [urllib3.connectionpool] DEBUG: https://www.accenture.com:443 \"GET //us-en/insights/digital/find-engines HTTP/1.1\" 200 147426\n",
      "2020-03-10 14:29:09 [urllib3.connectionpool] DEBUG: Starting new HTTPS connection (1): www.accenture.com:443\n"
     ]
    },
    {
     "name": "stdout",
     "output_type": "stream",
     "text": [
      "https://www.accenture.com//us-en/insights/software-platforms/building-data-ai-ethics-committees\n"
     ]
    },
    {
     "name": "stderr",
     "output_type": "stream",
     "text": [
      "2020-03-10 14:29:11 [urllib3.connectionpool] DEBUG: https://www.accenture.com:443 \"GET //us-en/insights/software-platforms/building-data-ai-ethics-committees HTTP/1.1\" 200 163254\n",
      "2020-03-10 14:29:11 [urllib3.connectionpool] DEBUG: Starting new HTTPS connection (1): www.accenture.com:443\n"
     ]
    },
    {
     "name": "stdout",
     "output_type": "stream",
     "text": [
      "https://www.accenture.com//us-en/insights/public-service/moving-beyond-compliance-in-child-welfare\n"
     ]
    },
    {
     "name": "stderr",
     "output_type": "stream",
     "text": [
      "2020-03-10 14:29:12 [urllib3.connectionpool] DEBUG: https://www.accenture.com:443 \"GET //us-en/insights/public-service/moving-beyond-compliance-in-child-welfare HTTP/1.1\" 200 138628\n",
      "2020-03-10 14:29:12 [urllib3.connectionpool] DEBUG: Starting new HTTPS connection (1): www.accenture.com:443\n"
     ]
    },
    {
     "name": "stdout",
     "output_type": "stream",
     "text": [
      "https://www.accenture.com//us-en/insights/retail/retail-store-manager\n"
     ]
    },
    {
     "name": "stderr",
     "output_type": "stream",
     "text": [
      "2020-03-10 14:29:12 [urllib3.connectionpool] DEBUG: https://www.accenture.com:443 \"GET //us-en/insights/retail/retail-store-manager HTTP/1.1\" 200 142808\n",
      "2020-03-10 14:29:13 [urllib3.connectionpool] DEBUG: Starting new HTTPS connection (1): www.accenture.com:443\n"
     ]
    },
    {
     "name": "stdout",
     "output_type": "stream",
     "text": [
      "https://www.accenture.com//us-en/insights/technology/new-data-value-chain\n"
     ]
    },
    {
     "name": "stderr",
     "output_type": "stream",
     "text": [
      "2020-03-10 14:29:13 [urllib3.connectionpool] DEBUG: https://www.accenture.com:443 \"GET //us-en/insights/technology/new-data-value-chain HTTP/1.1\" 200 139139\n",
      "2020-03-10 14:29:13 [urllib3.connectionpool] DEBUG: Starting new HTTPS connection (1): www.accenture.com:443\n"
     ]
    },
    {
     "name": "stdout",
     "output_type": "stream",
     "text": [
      "https://www.accenture.com//us-en/insights/us-federal-government/machine-learning\n"
     ]
    },
    {
     "name": "stderr",
     "output_type": "stream",
     "text": [
      "2020-03-10 14:29:14 [urllib3.connectionpool] DEBUG: https://www.accenture.com:443 \"GET //us-en/insights/us-federal-government/machine-learning HTTP/1.1\" 200 142527\n",
      "2020-03-10 14:29:14 [urllib3.connectionpool] DEBUG: Starting new HTTPS connection (1): www.accenture.com:443\n"
     ]
    },
    {
     "name": "stdout",
     "output_type": "stream",
     "text": [
      "https://www.accenture.com//us-en/insights/financial-services/applied-customer-engagement-reinventing-customer-contact\n"
     ]
    },
    {
     "name": "stderr",
     "output_type": "stream",
     "text": [
      "2020-03-10 14:29:15 [urllib3.connectionpool] DEBUG: https://www.accenture.com:443 \"GET //us-en/insights/financial-services/applied-customer-engagement-reinventing-customer-contact HTTP/1.1\" 200 137434\n",
      "2020-03-10 14:29:15 [scrapy.core.engine] DEBUG: Crawled (200) <GET https://www.accenture.com//us-en/insights/strategy/transformation-starting-zero> (referer: None)\n",
      "2020-03-10 14:29:15 [scrapy.core.engine] DEBUG: Crawled (200) <GET https://www.accenture.com//us-en/insights/digital/unlocking-value-unstructured-data> (referer: None)\n",
      "2020-03-10 14:29:15 [scrapy.core.engine] DEBUG: Crawled (200) <GET https://www.accenture.com//us-en/insights/artificial-intelligence/stop-ai-reinforcing-biases> (referer: None)\n",
      "2020-03-10 14:29:15 [scrapy.core.engine] DEBUG: Crawled (200) <GET https://www.accenture.com//us-en/insights/digital/intelligent-transforms-business> (referer: None)\n",
      "2020-03-10 14:29:15 [scrapy.core.engine] DEBUG: Crawled (200) <GET https://www.accenture.com//us-en/insights/communications-media/5g-game-changer-key-to-innovation> (referer: None)\n",
      "2020-03-10 14:29:15 [scrapy.core.engine] DEBUG: Crawled (200) <GET https://www.accenture.com//us-en/insights/consumer-goods-services/technology-vision-2019-innovation-unbound> (referer: None)\n",
      "2020-03-10 14:29:15 [scrapy.core.engine] DEBUG: Crawled (200) <GET https://www.accenture.com//us-en/insights/strategy/crash-diets-fiscal-fitness> (referer: None)\n",
      "2020-03-10 14:29:15 [scrapy.core.engine] DEBUG: Crawled (200) <GET https://www.accenture.com//us-en/insights/automotive/automotive-tech-vision> (referer: None)\n",
      "2020-03-10 14:29:15 [scrapy.dupefilters] DEBUG: Filtered duplicate request: <GET https://www.accenture.com//us-en/insights/artificial-intelligence/ai-augmented-cfo> - no more duplicates will be shown (see DUPEFILTER_DEBUG to show all duplicates)\n",
      "2020-03-10 14:29:15 [urllib3.connectionpool] DEBUG: Starting new HTTPS connection (1): www.accenture.com:443\n"
     ]
    },
    {
     "name": "stdout",
     "output_type": "stream",
     "text": [
      "https://www.accenture.com//us-en/insights/strategy/transformation-starting-zero\n"
     ]
    },
    {
     "name": "stderr",
     "output_type": "stream",
     "text": [
      "2020-03-10 14:29:16 [urllib3.connectionpool] DEBUG: https://www.accenture.com:443 \"GET //us-en/insights/strategy/transformation-starting-zero HTTP/1.1\" 200 144173\n",
      "2020-03-10 14:29:16 [urllib3.connectionpool] DEBUG: Starting new HTTPS connection (1): www.accenture.com:443\n"
     ]
    },
    {
     "name": "stdout",
     "output_type": "stream",
     "text": [
      "https://www.accenture.com//us-en/insights/digital/unlocking-value-unstructured-data\n"
     ]
    },
    {
     "name": "stderr",
     "output_type": "stream",
     "text": [
      "2020-03-10 14:29:17 [urllib3.connectionpool] DEBUG: https://www.accenture.com:443 \"GET //us-en/insights/digital/unlocking-value-unstructured-data HTTP/1.1\" 200 141019\n",
      "2020-03-10 14:29:17 [urllib3.connectionpool] DEBUG: Starting new HTTPS connection (1): www.accenture.com:443\n"
     ]
    },
    {
     "name": "stdout",
     "output_type": "stream",
     "text": [
      "https://www.accenture.com//us-en/insights/artificial-intelligence/stop-ai-reinforcing-biases\n"
     ]
    },
    {
     "name": "stderr",
     "output_type": "stream",
     "text": [
      "2020-03-10 14:29:18 [urllib3.connectionpool] DEBUG: https://www.accenture.com:443 \"GET //us-en/insights/artificial-intelligence/stop-ai-reinforcing-biases HTTP/1.1\" 200 147752\n",
      "2020-03-10 14:29:19 [urllib3.connectionpool] DEBUG: Starting new HTTPS connection (1): www.accenture.com:443\n"
     ]
    },
    {
     "name": "stdout",
     "output_type": "stream",
     "text": [
      "https://www.accenture.com//us-en/insights/digital/intelligent-transforms-business\n"
     ]
    },
    {
     "name": "stderr",
     "output_type": "stream",
     "text": [
      "2020-03-10 14:29:19 [urllib3.connectionpool] DEBUG: https://www.accenture.com:443 \"GET //us-en/insights/digital/intelligent-transforms-business HTTP/1.1\" 200 144639\n",
      "2020-03-10 14:29:19 [urllib3.connectionpool] DEBUG: Starting new HTTPS connection (1): www.accenture.com:443\n"
     ]
    },
    {
     "name": "stdout",
     "output_type": "stream",
     "text": [
      "https://www.accenture.com//us-en/insights/communications-media/5g-game-changer-key-to-innovation\n"
     ]
    },
    {
     "name": "stderr",
     "output_type": "stream",
     "text": [
      "2020-03-10 14:29:20 [urllib3.connectionpool] DEBUG: https://www.accenture.com:443 \"GET //us-en/insights/communications-media/5g-game-changer-key-to-innovation HTTP/1.1\" 200 151404\n",
      "2020-03-10 14:29:21 [urllib3.connectionpool] DEBUG: Starting new HTTPS connection (1): www.accenture.com:443\n"
     ]
    },
    {
     "name": "stdout",
     "output_type": "stream",
     "text": [
      "https://www.accenture.com//us-en/insights/consumer-goods-services/technology-vision-2019-innovation-unbound\n"
     ]
    },
    {
     "name": "stderr",
     "output_type": "stream",
     "text": [
      "2020-03-10 14:29:21 [urllib3.connectionpool] DEBUG: https://www.accenture.com:443 \"GET //us-en/insights/consumer-goods-services/technology-vision-2019-innovation-unbound HTTP/1.1\" 200 146308\n",
      "2020-03-10 14:29:21 [urllib3.connectionpool] DEBUG: Starting new HTTPS connection (1): www.accenture.com:443\n"
     ]
    },
    {
     "name": "stdout",
     "output_type": "stream",
     "text": [
      "https://www.accenture.com//us-en/insights/strategy/crash-diets-fiscal-fitness\n"
     ]
    },
    {
     "name": "stderr",
     "output_type": "stream",
     "text": [
      "2020-03-10 14:29:22 [urllib3.connectionpool] DEBUG: https://www.accenture.com:443 \"GET //us-en/insights/strategy/crash-diets-fiscal-fitness HTTP/1.1\" 200 155376\n",
      "2020-03-10 14:29:22 [urllib3.connectionpool] DEBUG: Starting new HTTPS connection (1): www.accenture.com:443\n"
     ]
    },
    {
     "name": "stdout",
     "output_type": "stream",
     "text": [
      "https://www.accenture.com//us-en/insights/automotive/automotive-tech-vision\n"
     ]
    },
    {
     "name": "stderr",
     "output_type": "stream",
     "text": [
      "2020-03-10 14:29:23 [urllib3.connectionpool] DEBUG: https://www.accenture.com:443 \"GET //us-en/insights/automotive/automotive-tech-vision HTTP/1.1\" 200 148005\n",
      "2020-03-10 14:29:23 [scrapy.core.engine] DEBUG: Crawled (200) <GET https://www.accenture.com//us-en/insights/industrial/rail-transit-technology-vision> (referer: None)\n",
      "2020-03-10 14:29:23 [scrapy.core.engine] DEBUG: Crawled (200) <GET https://www.accenture.com//us-en/insights/security/urgent-call-cyber-security> (referer: None)\n",
      "2020-03-10 14:29:23 [scrapy.core.engine] DEBUG: Crawled (200) <GET https://www.accenture.com//us-en/insights/financial-services/cost-cybercrime-study-financial-services> (referer: None)\n",
      "2020-03-10 14:29:23 [scrapy.core.engine] DEBUG: Crawled (200) <GET https://www.accenture.com//us-en/insights/communications-media/blockchain-plays-telco-strengths> (referer: None)\n",
      "2020-03-10 14:29:23 [scrapy.core.engine] DEBUG: Crawled (200) <GET https://www.accenture.com//us-en/insights/consulting/supply-chain-mover-becomes-shaker> (referer: None)\n",
      "2020-03-10 14:29:23 [scrapy.core.engine] DEBUG: Crawled (200) <GET https://www.accenture.com//us-en/insights/us-federal-government/psc-federal-ai-adoption> (referer: None)\n",
      "2020-03-10 14:29:23 [scrapy.core.engine] DEBUG: Crawled (200) <GET https://www.accenture.com//us-en/insights/technology/technology-vision-2019-workday> (referer: None)\n",
      "2020-03-10 14:29:23 [scrapy.core.engine] DEBUG: Crawled (200) <GET https://www.accenture.com//us-en/insights/public-service/back-office-transformation> (referer: None)\n",
      "2020-03-10 14:29:23 [urllib3.connectionpool] DEBUG: Starting new HTTPS connection (1): www.accenture.com:443\n"
     ]
    },
    {
     "name": "stdout",
     "output_type": "stream",
     "text": [
      "https://www.accenture.com//us-en/insights/industrial/rail-transit-technology-vision\n"
     ]
    },
    {
     "name": "stderr",
     "output_type": "stream",
     "text": [
      "2020-03-10 14:29:24 [urllib3.connectionpool] DEBUG: https://www.accenture.com:443 \"GET //us-en/insights/industrial/rail-transit-technology-vision HTTP/1.1\" 200 148854\n",
      "2020-03-10 14:29:24 [urllib3.connectionpool] DEBUG: Starting new HTTPS connection (1): www.accenture.com:443\n"
     ]
    },
    {
     "name": "stdout",
     "output_type": "stream",
     "text": [
      "https://www.accenture.com//us-en/insights/security/urgent-call-cyber-security\n"
     ]
    },
    {
     "name": "stderr",
     "output_type": "stream",
     "text": [
      "2020-03-10 14:29:25 [urllib3.connectionpool] DEBUG: https://www.accenture.com:443 \"GET //us-en/insights/security/urgent-call-cyber-security HTTP/1.1\" 200 125786\n",
      "2020-03-10 14:29:25 [urllib3.connectionpool] DEBUG: Starting new HTTPS connection (1): www.accenture.com:443\n"
     ]
    },
    {
     "name": "stdout",
     "output_type": "stream",
     "text": [
      "https://www.accenture.com//us-en/insights/financial-services/cost-cybercrime-study-financial-services\n"
     ]
    },
    {
     "name": "stderr",
     "output_type": "stream",
     "text": [
      "2020-03-10 14:29:26 [urllib3.connectionpool] DEBUG: https://www.accenture.com:443 \"GET //us-en/insights/financial-services/cost-cybercrime-study-financial-services HTTP/1.1\" 200 135614\n",
      "2020-03-10 14:29:26 [urllib3.connectionpool] DEBUG: Starting new HTTPS connection (1): www.accenture.com:443\n"
     ]
    },
    {
     "name": "stdout",
     "output_type": "stream",
     "text": [
      "https://www.accenture.com//us-en/insights/communications-media/blockchain-plays-telco-strengths\n"
     ]
    },
    {
     "name": "stderr",
     "output_type": "stream",
     "text": [
      "2020-03-10 14:29:27 [urllib3.connectionpool] DEBUG: https://www.accenture.com:443 \"GET //us-en/insights/communications-media/blockchain-plays-telco-strengths HTTP/1.1\" 200 137787\n",
      "2020-03-10 14:29:27 [urllib3.connectionpool] DEBUG: Starting new HTTPS connection (1): www.accenture.com:443\n"
     ]
    },
    {
     "name": "stdout",
     "output_type": "stream",
     "text": [
      "https://www.accenture.com//us-en/insights/consulting/supply-chain-mover-becomes-shaker\n"
     ]
    },
    {
     "name": "stderr",
     "output_type": "stream",
     "text": [
      "2020-03-10 14:29:28 [urllib3.connectionpool] DEBUG: https://www.accenture.com:443 \"GET //us-en/insights/consulting/supply-chain-mover-becomes-shaker HTTP/1.1\" 200 146426\n",
      "2020-03-10 14:29:28 [urllib3.connectionpool] DEBUG: Starting new HTTPS connection (1): www.accenture.com:443\n"
     ]
    },
    {
     "name": "stdout",
     "output_type": "stream",
     "text": [
      "https://www.accenture.com//us-en/insights/us-federal-government/psc-federal-ai-adoption\n"
     ]
    },
    {
     "name": "stderr",
     "output_type": "stream",
     "text": [
      "2020-03-10 14:29:29 [urllib3.connectionpool] DEBUG: https://www.accenture.com:443 \"GET //us-en/insights/us-federal-government/psc-federal-ai-adoption HTTP/1.1\" 200 130466\n",
      "2020-03-10 14:29:29 [urllib3.connectionpool] DEBUG: Starting new HTTPS connection (1): www.accenture.com:443\n"
     ]
    },
    {
     "name": "stdout",
     "output_type": "stream",
     "text": [
      "https://www.accenture.com//us-en/insights/technology/technology-vision-2019-workday\n"
     ]
    },
    {
     "name": "stderr",
     "output_type": "stream",
     "text": [
      "2020-03-10 14:29:30 [urllib3.connectionpool] DEBUG: https://www.accenture.com:443 \"GET //us-en/insights/technology/technology-vision-2019-workday HTTP/1.1\" 200 146793\n",
      "2020-03-10 14:29:30 [urllib3.connectionpool] DEBUG: Starting new HTTPS connection (1): www.accenture.com:443\n"
     ]
    },
    {
     "name": "stdout",
     "output_type": "stream",
     "text": [
      "https://www.accenture.com//us-en/insights/public-service/back-office-transformation\n"
     ]
    },
    {
     "name": "stderr",
     "output_type": "stream",
     "text": [
      "2020-03-10 14:29:31 [urllib3.connectionpool] DEBUG: https://www.accenture.com:443 \"GET //us-en/insights/public-service/back-office-transformation HTTP/1.1\" 200 146521\n",
      "2020-03-10 14:29:31 [scrapy.core.engine] DEBUG: Crawled (200) <GET https://www.accenture.com//us-en/insights/consulting/retail-hospitality-threat-trend-report> (referer: None)\n",
      "2020-03-10 14:29:31 [scrapy.core.engine] DEBUG: Crawled (200) <GET https://www.accenture.com//us-en/insights/blockchain/wef-building-value> (referer: None)\n",
      "2020-03-10 14:29:31 [scrapy.core.engine] DEBUG: Crawled (200) <GET https://www.accenture.com//us-en/insights/financial-services/financial-planning-analysis-powering-cfo-agenda> (referer: None)\n",
      "2020-03-10 14:29:31 [scrapy.core.engine] DEBUG: Crawled (200) <GET https://www.accenture.com//us-en/insights/travel/people-meet-elise-eberwein> (referer: None)\n",
      "2020-03-10 14:29:31 [scrapy.core.engine] DEBUG: Crawled (200) <GET https://www.accenture.com//us-en/insights/artificial-intelligence/ai-augmented-cfo> (referer: None)\n",
      "2020-03-10 14:29:31 [scrapy.core.engine] DEBUG: Crawled (200) <GET https://www.accenture.com//us-en/insights/digital/data-to-knowledge> (referer: None)\n",
      "2020-03-10 14:29:31 [scrapy.core.engine] DEBUG: Crawled (200) <GET https://www.accenture.com//us-en/insights/strategy/small-brands-loom-large-consumer-goods> (referer: None)\n",
      "2020-03-10 14:29:31 [scrapy.core.engine] DEBUG: Crawled (200) <GET https://www.accenture.com//us-en/insights/health/traditional-healthcare-finance-skills-verge-extinction> (referer: None)\n",
      "2020-03-10 14:29:31 [urllib3.connectionpool] DEBUG: Starting new HTTPS connection (1): www.accenture.com:443\n"
     ]
    },
    {
     "name": "stdout",
     "output_type": "stream",
     "text": [
      "https://www.accenture.com//us-en/insights/consulting/retail-hospitality-threat-trend-report\n"
     ]
    },
    {
     "name": "stderr",
     "output_type": "stream",
     "text": [
      "2020-03-10 14:29:32 [urllib3.connectionpool] DEBUG: https://www.accenture.com:443 \"GET //us-en/insights/consulting/retail-hospitality-threat-trend-report HTTP/1.1\" 200 137960\n",
      "2020-03-10 14:29:32 [urllib3.connectionpool] DEBUG: Starting new HTTPS connection (1): www.accenture.com:443\n"
     ]
    },
    {
     "name": "stdout",
     "output_type": "stream",
     "text": [
      "https://www.accenture.com//us-en/insights/blockchain/wef-building-value\n"
     ]
    },
    {
     "name": "stderr",
     "output_type": "stream",
     "text": [
      "2020-03-10 14:29:33 [urllib3.connectionpool] DEBUG: https://www.accenture.com:443 \"GET //us-en/insights/blockchain/wef-building-value HTTP/1.1\" 200 163142\n",
      "2020-03-10 14:29:33 [urllib3.connectionpool] DEBUG: Starting new HTTPS connection (1): www.accenture.com:443\n"
     ]
    },
    {
     "name": "stdout",
     "output_type": "stream",
     "text": [
      "https://www.accenture.com//us-en/insights/financial-services/financial-planning-analysis-powering-cfo-agenda\n"
     ]
    },
    {
     "name": "stderr",
     "output_type": "stream",
     "text": [
      "2020-03-10 14:29:34 [urllib3.connectionpool] DEBUG: https://www.accenture.com:443 \"GET //us-en/insights/financial-services/financial-planning-analysis-powering-cfo-agenda HTTP/1.1\" 200 151916\n",
      "2020-03-10 14:29:34 [urllib3.connectionpool] DEBUG: Starting new HTTPS connection (1): www.accenture.com:443\n"
     ]
    },
    {
     "name": "stdout",
     "output_type": "stream",
     "text": [
      "https://www.accenture.com//us-en/insights/travel/people-meet-elise-eberwein\n"
     ]
    },
    {
     "name": "stderr",
     "output_type": "stream",
     "text": [
      "2020-03-10 14:29:34 [urllib3.connectionpool] DEBUG: https://www.accenture.com:443 \"GET //us-en/insights/travel/people-meet-elise-eberwein HTTP/1.1\" 200 131154\n",
      "2020-03-10 14:29:34 [urllib3.connectionpool] DEBUG: Starting new HTTPS connection (1): www.accenture.com:443\n"
     ]
    },
    {
     "name": "stdout",
     "output_type": "stream",
     "text": [
      "https://www.accenture.com//us-en/insights/artificial-intelligence/ai-augmented-cfo\n"
     ]
    },
    {
     "name": "stderr",
     "output_type": "stream",
     "text": [
      "2020-03-10 14:29:35 [urllib3.connectionpool] DEBUG: https://www.accenture.com:443 \"GET //us-en/insights/artificial-intelligence/ai-augmented-cfo HTTP/1.1\" 200 143871\n",
      "2020-03-10 14:29:35 [urllib3.connectionpool] DEBUG: Starting new HTTPS connection (1): www.accenture.com:443\n"
     ]
    },
    {
     "name": "stdout",
     "output_type": "stream",
     "text": [
      "https://www.accenture.com//us-en/insights/digital/data-to-knowledge\n"
     ]
    },
    {
     "name": "stderr",
     "output_type": "stream",
     "text": [
      "2020-03-10 14:29:36 [urllib3.connectionpool] DEBUG: https://www.accenture.com:443 \"GET //us-en/insights/digital/data-to-knowledge HTTP/1.1\" 200 146899\n",
      "2020-03-10 14:29:36 [urllib3.connectionpool] DEBUG: Starting new HTTPS connection (1): www.accenture.com:443\n"
     ]
    },
    {
     "name": "stdout",
     "output_type": "stream",
     "text": [
      "https://www.accenture.com//us-en/insights/strategy/small-brands-loom-large-consumer-goods\n"
     ]
    },
    {
     "name": "stderr",
     "output_type": "stream",
     "text": [
      "2020-03-10 14:29:37 [urllib3.connectionpool] DEBUG: https://www.accenture.com:443 \"GET //us-en/insights/strategy/small-brands-loom-large-consumer-goods HTTP/1.1\" 200 150313\n",
      "2020-03-10 14:29:37 [urllib3.connectionpool] DEBUG: Starting new HTTPS connection (1): www.accenture.com:443\n"
     ]
    },
    {
     "name": "stdout",
     "output_type": "stream",
     "text": [
      "https://www.accenture.com//us-en/insights/health/traditional-healthcare-finance-skills-verge-extinction\n"
     ]
    },
    {
     "name": "stderr",
     "output_type": "stream",
     "text": [
      "2020-03-10 14:29:38 [urllib3.connectionpool] DEBUG: https://www.accenture.com:443 \"GET //us-en/insights/health/traditional-healthcare-finance-skills-verge-extinction HTTP/1.1\" 200 150530\n",
      "2020-03-10 14:29:38 [scrapy.extensions.logstats] INFO: Crawled 123 pages (at 56 pages/min), scraped 0 items (at 0 items/min)\n",
      "2020-03-10 14:29:38 [scrapy.core.engine] DEBUG: Crawled (200) <GET https://www.accenture.com//us-en/insights/health/digital-health-tech-vision-2019-secure-us-secure-me> (referer: None)\n",
      "2020-03-10 14:29:38 [scrapy.core.engine] DEBUG: Crawled (200) <GET https://www.accenture.com//us-en/insights/strategy/new-workforce-skilling-innovation-growth> (referer: None)\n",
      "2020-03-10 14:29:38 [scrapy.core.engine] DEBUG: Crawled (200) <GET https://www.accenture.com//us-en/insights/consulting/intelligent-automation-scale> (referer: None)\n",
      "2020-03-10 14:29:38 [scrapy.core.engine] DEBUG: Crawled (200) <GET https://www.accenture.com//us-en/insights/chemicals/ai-blockchain-chemical-industry> (referer: None)\n",
      "2020-03-10 14:29:38 [scrapy.core.engine] DEBUG: Crawled (200) <GET https://www.accenture.com//us-en/insights/public-service/human-services-cloud> (referer: None)\n",
      "2020-03-10 14:29:38 [scrapy.core.engine] DEBUG: Crawled (200) <GET https://www.accenture.com//us-en/insights/health/digital-health-tech-vision-2019-get-to-know-me> (referer: None)\n",
      "2020-03-10 14:29:38 [scrapy.core.engine] DEBUG: Crawled (200) <GET https://www.accenture.com//us-en/insights/health/digital-health-tech-vision-2019-darq-power> (referer: None)\n",
      "2020-03-10 14:29:38 [scrapy.core.engine] DEBUG: Crawled (200) <GET https://www.accenture.com//us-en/insights/health/digital-health-tech-vision-2019-human-worker> (referer: None)\n",
      "2020-03-10 14:29:39 [urllib3.connectionpool] DEBUG: Starting new HTTPS connection (1): www.accenture.com:443\n"
     ]
    },
    {
     "name": "stdout",
     "output_type": "stream",
     "text": [
      "https://www.accenture.com//us-en/insights/health/digital-health-tech-vision-2019-secure-us-secure-me\n"
     ]
    },
    {
     "name": "stderr",
     "output_type": "stream",
     "text": [
      "2020-03-10 14:29:39 [urllib3.connectionpool] DEBUG: https://www.accenture.com:443 \"GET //us-en/insights/health/digital-health-tech-vision-2019-secure-us-secure-me HTTP/1.1\" 200 182377\n",
      "2020-03-10 14:29:39 [urllib3.connectionpool] DEBUG: Starting new HTTPS connection (1): www.accenture.com:443\n"
     ]
    },
    {
     "name": "stdout",
     "output_type": "stream",
     "text": [
      "https://www.accenture.com//us-en/insights/strategy/new-workforce-skilling-innovation-growth\n"
     ]
    },
    {
     "name": "stderr",
     "output_type": "stream",
     "text": [
      "2020-03-10 14:29:40 [urllib3.connectionpool] DEBUG: https://www.accenture.com:443 \"GET //us-en/insights/strategy/new-workforce-skilling-innovation-growth HTTP/1.1\" 200 144567\n",
      "2020-03-10 14:29:40 [urllib3.connectionpool] DEBUG: Starting new HTTPS connection (1): www.accenture.com:443\n"
     ]
    },
    {
     "name": "stdout",
     "output_type": "stream",
     "text": [
      "https://www.accenture.com//us-en/insights/consulting/intelligent-automation-scale\n"
     ]
    },
    {
     "name": "stderr",
     "output_type": "stream",
     "text": [
      "2020-03-10 14:29:41 [urllib3.connectionpool] DEBUG: https://www.accenture.com:443 \"GET //us-en/insights/consulting/intelligent-automation-scale HTTP/1.1\" 200 143964\n",
      "2020-03-10 14:29:41 [urllib3.connectionpool] DEBUG: Starting new HTTPS connection (1): www.accenture.com:443\n"
     ]
    },
    {
     "name": "stdout",
     "output_type": "stream",
     "text": [
      "https://www.accenture.com//us-en/insights/chemicals/ai-blockchain-chemical-industry\n"
     ]
    },
    {
     "name": "stderr",
     "output_type": "stream",
     "text": [
      "2020-03-10 14:29:42 [urllib3.connectionpool] DEBUG: https://www.accenture.com:443 \"GET //us-en/insights/chemicals/ai-blockchain-chemical-industry HTTP/1.1\" 200 174021\n",
      "2020-03-10 14:29:42 [urllib3.connectionpool] DEBUG: Starting new HTTPS connection (1): www.accenture.com:443\n"
     ]
    },
    {
     "name": "stdout",
     "output_type": "stream",
     "text": [
      "https://www.accenture.com//us-en/insights/public-service/human-services-cloud\n"
     ]
    },
    {
     "name": "stderr",
     "output_type": "stream",
     "text": [
      "2020-03-10 14:29:43 [urllib3.connectionpool] DEBUG: https://www.accenture.com:443 \"GET //us-en/insights/public-service/human-services-cloud HTTP/1.1\" 200 143133\n",
      "2020-03-10 14:29:43 [urllib3.connectionpool] DEBUG: Starting new HTTPS connection (1): www.accenture.com:443\n"
     ]
    },
    {
     "name": "stdout",
     "output_type": "stream",
     "text": [
      "https://www.accenture.com//us-en/insights/health/digital-health-tech-vision-2019-get-to-know-me\n"
     ]
    },
    {
     "name": "stderr",
     "output_type": "stream",
     "text": [
      "2020-03-10 14:29:44 [urllib3.connectionpool] DEBUG: https://www.accenture.com:443 \"GET //us-en/insights/health/digital-health-tech-vision-2019-get-to-know-me HTTP/1.1\" 200 183820\n",
      "2020-03-10 14:29:44 [urllib3.connectionpool] DEBUG: Starting new HTTPS connection (1): www.accenture.com:443\n"
     ]
    },
    {
     "name": "stdout",
     "output_type": "stream",
     "text": [
      "https://www.accenture.com//us-en/insights/health/digital-health-tech-vision-2019-darq-power\n"
     ]
    },
    {
     "name": "stderr",
     "output_type": "stream",
     "text": [
      "2020-03-10 14:29:45 [urllib3.connectionpool] DEBUG: https://www.accenture.com:443 \"GET //us-en/insights/health/digital-health-tech-vision-2019-darq-power HTTP/1.1\" 200 184749\n",
      "2020-03-10 14:29:45 [urllib3.connectionpool] DEBUG: Starting new HTTPS connection (1): www.accenture.com:443\n"
     ]
    },
    {
     "name": "stdout",
     "output_type": "stream",
     "text": [
      "https://www.accenture.com//us-en/insights/health/digital-health-tech-vision-2019-human-worker\n"
     ]
    },
    {
     "name": "stderr",
     "output_type": "stream",
     "text": [
      "2020-03-10 14:29:46 [urllib3.connectionpool] DEBUG: https://www.accenture.com:443 \"GET //us-en/insights/health/digital-health-tech-vision-2019-human-worker HTTP/1.1\" 200 182092\n",
      "2020-03-10 14:29:46 [scrapy.core.engine] DEBUG: Crawled (200) <GET https://www.accenture.com//us-en/insights/strategy/life-sciences-companies-resilient> (referer: None)\n",
      "2020-03-10 14:29:46 [scrapy.core.engine] DEBUG: Crawled (200) <GET https://www.accenture.com//us-en/insights/public-service/human-worker> (referer: None)\n",
      "2020-03-10 14:29:46 [scrapy.core.engine] DEBUG: Crawled (200) <GET https://www.accenture.com//us-en/insights/life-sciences/people-new-opportunities-alice-kirby> (referer: None)\n",
      "2020-03-10 14:29:46 [scrapy.core.engine] DEBUG: Crawled (200) <GET https://www.accenture.com//us-en/insights/financial-services/tech-advisory-apis-digital-banking> (referer: None)\n",
      "2020-03-10 14:29:46 [scrapy.core.engine] DEBUG: Crawled (200) <GET https://www.accenture.com//us-en/insights/consumer-goods-services/beyond-brilliant-basics-consumer-goods-marketing> (referer: None)\n",
      "2020-03-10 14:29:46 [scrapy.core.engine] DEBUG: Crawled (200) <GET https://www.accenture.com//us-en/insights/financial-services/future-learning-opportunity> (referer: None)\n",
      "2020-03-10 14:29:46 [scrapy.core.engine] DEBUG: Crawled (200) <GET https://www.accenture.com//us-en/insights/us-federal-government/federal-authenticity> (referer: None)\n",
      "2020-03-10 14:29:46 [scrapy.core.engine] DEBUG: Crawled (200) <GET https://www.accenture.com//us-en/insights/industry-x-0/alliance-accenture-schneider-electric> (referer: None)\n",
      "2020-03-10 14:29:46 [urllib3.connectionpool] DEBUG: Starting new HTTPS connection (1): www.accenture.com:443\n"
     ]
    },
    {
     "name": "stdout",
     "output_type": "stream",
     "text": [
      "https://www.accenture.com//us-en/insights/strategy/life-sciences-companies-resilient\n"
     ]
    },
    {
     "name": "stderr",
     "output_type": "stream",
     "text": [
      "2020-03-10 14:29:47 [urllib3.connectionpool] DEBUG: https://www.accenture.com:443 \"GET //us-en/insights/strategy/life-sciences-companies-resilient HTTP/1.1\" 200 139389\n",
      "2020-03-10 14:29:47 [urllib3.connectionpool] DEBUG: Starting new HTTPS connection (1): www.accenture.com:443\n"
     ]
    },
    {
     "name": "stdout",
     "output_type": "stream",
     "text": [
      "https://www.accenture.com//us-en/insights/public-service/human-worker\n"
     ]
    },
    {
     "name": "stderr",
     "output_type": "stream",
     "text": [
      "2020-03-10 14:29:48 [urllib3.connectionpool] DEBUG: https://www.accenture.com:443 \"GET //us-en/insights/public-service/human-worker HTTP/1.1\" 200 149121\n",
      "2020-03-10 14:29:48 [urllib3.connectionpool] DEBUG: Starting new HTTPS connection (1): www.accenture.com:443\n"
     ]
    },
    {
     "name": "stdout",
     "output_type": "stream",
     "text": [
      "https://www.accenture.com//us-en/insights/life-sciences/people-new-opportunities-alice-kirby\n"
     ]
    },
    {
     "name": "stderr",
     "output_type": "stream",
     "text": [
      "2020-03-10 14:29:49 [urllib3.connectionpool] DEBUG: https://www.accenture.com:443 \"GET //us-en/insights/life-sciences/people-new-opportunities-alice-kirby HTTP/1.1\" 200 130316\n",
      "2020-03-10 14:29:49 [urllib3.connectionpool] DEBUG: Starting new HTTPS connection (1): www.accenture.com:443\n"
     ]
    },
    {
     "name": "stdout",
     "output_type": "stream",
     "text": [
      "https://www.accenture.com//us-en/insights/financial-services/tech-advisory-apis-digital-banking\n"
     ]
    },
    {
     "name": "stderr",
     "output_type": "stream",
     "text": [
      "2020-03-10 14:29:50 [urllib3.connectionpool] DEBUG: https://www.accenture.com:443 \"GET //us-en/insights/financial-services/tech-advisory-apis-digital-banking HTTP/1.1\" 200 132303\n",
      "2020-03-10 14:29:50 [urllib3.connectionpool] DEBUG: Starting new HTTPS connection (1): www.accenture.com:443\n"
     ]
    },
    {
     "name": "stdout",
     "output_type": "stream",
     "text": [
      "https://www.accenture.com//us-en/insights/consumer-goods-services/beyond-brilliant-basics-consumer-goods-marketing\n"
     ]
    },
    {
     "name": "stderr",
     "output_type": "stream",
     "text": [
      "2020-03-10 14:29:51 [urllib3.connectionpool] DEBUG: https://www.accenture.com:443 \"GET //us-en/insights/consumer-goods-services/beyond-brilliant-basics-consumer-goods-marketing HTTP/1.1\" 200 146201\n",
      "2020-03-10 14:29:51 [urllib3.connectionpool] DEBUG: Starting new HTTPS connection (1): www.accenture.com:443\n"
     ]
    },
    {
     "name": "stdout",
     "output_type": "stream",
     "text": [
      "https://www.accenture.com//us-en/insights/financial-services/future-learning-opportunity\n"
     ]
    },
    {
     "name": "stderr",
     "output_type": "stream",
     "text": [
      "2020-03-10 14:29:52 [urllib3.connectionpool] DEBUG: https://www.accenture.com:443 \"GET //us-en/insights/financial-services/future-learning-opportunity HTTP/1.1\" 200 132870\n",
      "2020-03-10 14:29:52 [urllib3.connectionpool] DEBUG: Starting new HTTPS connection (1): www.accenture.com:443\n"
     ]
    },
    {
     "name": "stdout",
     "output_type": "stream",
     "text": [
      "https://www.accenture.com//us-en/insights/us-federal-government/federal-authenticity\n"
     ]
    },
    {
     "name": "stderr",
     "output_type": "stream",
     "text": [
      "2020-03-10 14:29:53 [urllib3.connectionpool] DEBUG: https://www.accenture.com:443 \"GET //us-en/insights/us-federal-government/federal-authenticity HTTP/1.1\" 200 147920\n",
      "2020-03-10 14:29:53 [urllib3.connectionpool] DEBUG: Starting new HTTPS connection (1): www.accenture.com:443\n"
     ]
    },
    {
     "name": "stdout",
     "output_type": "stream",
     "text": [
      "https://www.accenture.com//us-en/insights/industry-x-0/alliance-accenture-schneider-electric\n"
     ]
    },
    {
     "name": "stderr",
     "output_type": "stream",
     "text": [
      "2020-03-10 14:29:54 [urllib3.connectionpool] DEBUG: https://www.accenture.com:443 \"GET //us-en/insights/industry-x-0/alliance-accenture-schneider-electric HTTP/1.1\" 200 150054\n",
      "2020-03-10 14:29:54 [scrapy.core.engine] DEBUG: Crawled (200) <GET https://www.accenture.com//us-en/insights/us-federal-government/nlp-first-steps> (referer: None)\n",
      "2020-03-10 14:29:54 [scrapy.core.engine] DEBUG: Crawled (200) <GET https://www.accenture.com//us-en/insights/us-federal-government/computer-vision> (referer: None)\n",
      "2020-03-10 14:29:54 [scrapy.core.engine] DEBUG: Crawled (200) <GET https://www.accenture.com//us-en/insights/health/intelligent-payer-restoring-provider-trust> (referer: None)\n",
      "2020-03-10 14:29:54 [scrapy.core.engine] DEBUG: Crawled (200) <GET https://www.accenture.com//us-en/insights/us-federal-government/natural-language-processing> (referer: None)\n",
      "2020-03-10 14:29:54 [scrapy.core.engine] DEBUG: Crawled (200) <GET https://www.accenture.com//us-en/insights/digital/best-ai-strategy-build-buy-partner> (referer: None)\n",
      "2020-03-10 14:29:54 [scrapy.core.engine] DEBUG: Crawled (200) <GET https://www.accenture.com//us-en/insights/public-service/conversational-ai> (referer: None)\n",
      "2020-03-10 14:29:54 [scrapy.core.engine] DEBUG: Crawled (200) <GET https://www.accenture.com//us-en/insights/capital-markets/workplace-financial-wellness> (referer: None)\n",
      "2020-03-10 14:29:54 [scrapy.core.engine] DEBUG: Crawled (200) <GET https://www.accenture.com//us-en/insights/industrial/rail-transit-enterprise-security-strategies> (referer: None)\n",
      "2020-03-10 14:29:54 [urllib3.connectionpool] DEBUG: Starting new HTTPS connection (1): www.accenture.com:443\n"
     ]
    },
    {
     "name": "stdout",
     "output_type": "stream",
     "text": [
      "https://www.accenture.com//us-en/insights/us-federal-government/nlp-first-steps\n"
     ]
    },
    {
     "name": "stderr",
     "output_type": "stream",
     "text": [
      "2020-03-10 14:29:55 [urllib3.connectionpool] DEBUG: https://www.accenture.com:443 \"GET //us-en/insights/us-federal-government/nlp-first-steps HTTP/1.1\" 200 146001\n",
      "2020-03-10 14:29:55 [urllib3.connectionpool] DEBUG: Starting new HTTPS connection (1): www.accenture.com:443\n"
     ]
    },
    {
     "name": "stdout",
     "output_type": "stream",
     "text": [
      "https://www.accenture.com//us-en/insights/us-federal-government/computer-vision\n"
     ]
    },
    {
     "name": "stderr",
     "output_type": "stream",
     "text": [
      "2020-03-10 14:30:00 [urllib3.connectionpool] DEBUG: https://www.accenture.com:443 \"GET //us-en/insights/us-federal-government/computer-vision HTTP/1.1\" 200 137639\n",
      "2020-03-10 14:30:00 [urllib3.connectionpool] DEBUG: Starting new HTTPS connection (1): www.accenture.com:443\n"
     ]
    },
    {
     "name": "stdout",
     "output_type": "stream",
     "text": [
      "https://www.accenture.com//us-en/insights/health/intelligent-payer-restoring-provider-trust\n"
     ]
    },
    {
     "name": "stderr",
     "output_type": "stream",
     "text": [
      "2020-03-10 14:30:03 [urllib3.connectionpool] DEBUG: https://www.accenture.com:443 \"GET //us-en/insights/health/intelligent-payer-restoring-provider-trust HTTP/1.1\" 200 152861\n",
      "2020-03-10 14:30:03 [urllib3.connectionpool] DEBUG: Starting new HTTPS connection (1): www.accenture.com:443\n"
     ]
    },
    {
     "name": "stdout",
     "output_type": "stream",
     "text": [
      "https://www.accenture.com//us-en/insights/us-federal-government/natural-language-processing\n"
     ]
    },
    {
     "name": "stderr",
     "output_type": "stream",
     "text": [
      "2020-03-10 14:30:04 [urllib3.connectionpool] DEBUG: https://www.accenture.com:443 \"GET //us-en/insights/us-federal-government/natural-language-processing HTTP/1.1\" 200 138988\n",
      "2020-03-10 14:30:04 [urllib3.connectionpool] DEBUG: Starting new HTTPS connection (1): www.accenture.com:443\n"
     ]
    },
    {
     "name": "stdout",
     "output_type": "stream",
     "text": [
      "https://www.accenture.com//us-en/insights/digital/best-ai-strategy-build-buy-partner\n"
     ]
    },
    {
     "name": "stderr",
     "output_type": "stream",
     "text": [
      "2020-03-10 14:30:05 [urllib3.connectionpool] DEBUG: https://www.accenture.com:443 \"GET //us-en/insights/digital/best-ai-strategy-build-buy-partner HTTP/1.1\" 200 159928\n",
      "2020-03-10 14:30:05 [urllib3.connectionpool] DEBUG: Starting new HTTPS connection (1): www.accenture.com:443\n"
     ]
    },
    {
     "name": "stdout",
     "output_type": "stream",
     "text": [
      "https://www.accenture.com//us-en/insights/public-service/conversational-ai\n"
     ]
    },
    {
     "name": "stderr",
     "output_type": "stream",
     "text": [
      "2020-03-10 14:30:06 [urllib3.connectionpool] DEBUG: https://www.accenture.com:443 \"GET //us-en/insights/public-service/conversational-ai HTTP/1.1\" 200 143224\n",
      "2020-03-10 14:30:06 [urllib3.connectionpool] DEBUG: Starting new HTTPS connection (1): www.accenture.com:443\n"
     ]
    },
    {
     "name": "stdout",
     "output_type": "stream",
     "text": [
      "https://www.accenture.com//us-en/insights/capital-markets/workplace-financial-wellness\n"
     ]
    },
    {
     "name": "stderr",
     "output_type": "stream",
     "text": [
      "2020-03-10 14:30:07 [urllib3.connectionpool] DEBUG: https://www.accenture.com:443 \"GET //us-en/insights/capital-markets/workplace-financial-wellness HTTP/1.1\" 200 147089\n",
      "2020-03-10 14:30:07 [urllib3.connectionpool] DEBUG: Starting new HTTPS connection (1): www.accenture.com:443\n"
     ]
    },
    {
     "name": "stdout",
     "output_type": "stream",
     "text": [
      "https://www.accenture.com//us-en/insights/industrial/rail-transit-enterprise-security-strategies\n"
     ]
    },
    {
     "name": "stderr",
     "output_type": "stream",
     "text": [
      "2020-03-10 14:30:08 [urllib3.connectionpool] DEBUG: https://www.accenture.com:443 \"GET //us-en/insights/industrial/rail-transit-enterprise-security-strategies HTTP/1.1\" 200 143000\n",
      "2020-03-10 14:30:08 [scrapy.core.engine] DEBUG: Crawled (200) <GET https://www.accenture.com//us-en/insights/strategy/sustainability-zbx> (referer: None)\n",
      "2020-03-10 14:30:08 [scrapy.core.engine] DEBUG: Crawled (200) <GET https://www.accenture.com//us-en/insights/high-tech/tech-vision-aerospace-defense> (referer: None)\n",
      "2020-03-10 14:30:08 [scrapy.core.engine] DEBUG: Crawled (200) <GET https://www.accenture.com//us-en/insights/digital/expand-power-ai-with-new-data-sources> (referer: None)\n",
      "2020-03-10 14:30:08 [scrapy.core.engine] DEBUG: Crawled (200) <GET https://www.accenture.com//us-en/insights/automotive/intelligent-automotive-enterprise> (referer: None)\n",
      "2020-03-10 14:30:08 [scrapy.core.engine] DEBUG: Crawled (200) <GET https://www.accenture.com//us-en/insights/us-federal-government/nlp-emerging-uses> (referer: None)\n",
      "2020-03-10 14:30:08 [scrapy.core.engine] DEBUG: Crawled (200) <GET https://www.accenture.com//us-en/insights/us-federal-government/ai-for-public-safety> (referer: None)\n",
      "2020-03-10 14:30:08 [scrapy.core.engine] DEBUG: Crawled (200) <GET https://www.accenture.com//us-en/insights/us-federal-government/ai-for-citizen-service> (referer: None)\n",
      "2020-03-10 14:30:08 [scrapy.core.engine] DEBUG: Crawled (200) <GET https://www.accenture.com//us-en/about/events/pivot-future-book> (referer: None)\n",
      "2020-03-10 14:30:08 [urllib3.connectionpool] DEBUG: Starting new HTTPS connection (1): www.accenture.com:443\n"
     ]
    },
    {
     "name": "stdout",
     "output_type": "stream",
     "text": [
      "https://www.accenture.com//us-en/insights/strategy/sustainability-zbx\n"
     ]
    },
    {
     "name": "stderr",
     "output_type": "stream",
     "text": [
      "2020-03-10 14:30:09 [urllib3.connectionpool] DEBUG: https://www.accenture.com:443 \"GET //us-en/insights/strategy/sustainability-zbx HTTP/1.1\" 200 140575\n",
      "2020-03-10 14:30:09 [urllib3.connectionpool] DEBUG: Starting new HTTPS connection (1): www.accenture.com:443\n"
     ]
    },
    {
     "name": "stdout",
     "output_type": "stream",
     "text": [
      "https://www.accenture.com//us-en/insights/high-tech/tech-vision-aerospace-defense\n"
     ]
    },
    {
     "name": "stderr",
     "output_type": "stream",
     "text": [
      "2020-03-10 14:30:09 [urllib3.connectionpool] DEBUG: https://www.accenture.com:443 \"GET //us-en/insights/high-tech/tech-vision-aerospace-defense HTTP/1.1\" 200 150498\n",
      "2020-03-10 14:30:09 [urllib3.connectionpool] DEBUG: Starting new HTTPS connection (1): www.accenture.com:443\n"
     ]
    },
    {
     "name": "stdout",
     "output_type": "stream",
     "text": [
      "https://www.accenture.com//us-en/insights/digital/expand-power-ai-with-new-data-sources\n"
     ]
    },
    {
     "name": "stderr",
     "output_type": "stream",
     "text": [
      "2020-03-10 14:30:11 [urllib3.connectionpool] DEBUG: https://www.accenture.com:443 \"GET //us-en/insights/digital/expand-power-ai-with-new-data-sources HTTP/1.1\" 200 135850\n",
      "2020-03-10 14:30:11 [urllib3.connectionpool] DEBUG: Starting new HTTPS connection (1): www.accenture.com:443\n"
     ]
    },
    {
     "name": "stdout",
     "output_type": "stream",
     "text": [
      "https://www.accenture.com//us-en/insights/automotive/intelligent-automotive-enterprise\n"
     ]
    },
    {
     "name": "stderr",
     "output_type": "stream",
     "text": [
      "2020-03-10 14:30:12 [urllib3.connectionpool] DEBUG: https://www.accenture.com:443 \"GET //us-en/insights/automotive/intelligent-automotive-enterprise HTTP/1.1\" 200 155806\n",
      "2020-03-10 14:30:12 [urllib3.connectionpool] DEBUG: Starting new HTTPS connection (1): www.accenture.com:443\n"
     ]
    },
    {
     "name": "stdout",
     "output_type": "stream",
     "text": [
      "https://www.accenture.com//us-en/insights/us-federal-government/nlp-emerging-uses\n"
     ]
    },
    {
     "name": "stderr",
     "output_type": "stream",
     "text": [
      "2020-03-10 14:30:13 [urllib3.connectionpool] DEBUG: https://www.accenture.com:443 \"GET //us-en/insights/us-federal-government/nlp-emerging-uses HTTP/1.1\" 200 150215\n",
      "2020-03-10 14:30:13 [urllib3.connectionpool] DEBUG: Starting new HTTPS connection (1): www.accenture.com:443\n"
     ]
    },
    {
     "name": "stdout",
     "output_type": "stream",
     "text": [
      "https://www.accenture.com//us-en/insights/us-federal-government/ai-for-public-safety\n"
     ]
    },
    {
     "name": "stderr",
     "output_type": "stream",
     "text": [
      "2020-03-10 14:30:13 [urllib3.connectionpool] DEBUG: https://www.accenture.com:443 \"GET //us-en/insights/us-federal-government/ai-for-public-safety HTTP/1.1\" 200 132602\n",
      "2020-03-10 14:30:13 [urllib3.connectionpool] DEBUG: Starting new HTTPS connection (1): www.accenture.com:443\n"
     ]
    },
    {
     "name": "stdout",
     "output_type": "stream",
     "text": [
      "https://www.accenture.com//us-en/insights/us-federal-government/ai-for-citizen-service\n"
     ]
    },
    {
     "name": "stderr",
     "output_type": "stream",
     "text": [
      "2020-03-10 14:30:14 [urllib3.connectionpool] DEBUG: https://www.accenture.com:443 \"GET //us-en/insights/us-federal-government/ai-for-citizen-service HTTP/1.1\" 200 130897\n",
      "2020-03-10 14:30:14 [urllib3.connectionpool] DEBUG: Starting new HTTPS connection (1): www.accenture.com:443\n"
     ]
    },
    {
     "name": "stdout",
     "output_type": "stream",
     "text": [
      "https://www.accenture.com//us-en/about/events/pivot-future-book\n"
     ]
    },
    {
     "name": "stderr",
     "output_type": "stream",
     "text": [
      "2020-03-10 14:30:15 [urllib3.connectionpool] DEBUG: https://www.accenture.com:443 \"GET //us-en/about/events/pivot-future-book HTTP/1.1\" 200 533962\n",
      "2020-03-10 14:30:16 [scrapy.core.engine] DEBUG: Crawled (200) <GET https://www.accenture.com//us-en/insights/life-sciences/intelligent-enterprise-transformation> (referer: None)\n",
      "2020-03-10 14:30:16 [scrapy.core.engine] DEBUG: Crawled (200) <GET https://www.accenture.com//us-en/insights/industry-x-0/engineering-data-digitization> (referer: None)\n",
      "2020-03-10 14:30:16 [scrapy.core.engine] DEBUG: Crawled (200) <GET https://www.accenture.com//us-en/insights/high-tech/workforce-aerospace-defense> (referer: None)\n",
      "2020-03-10 14:30:16 [scrapy.core.engine] DEBUG: Crawled (200) <GET https://www.accenture.com//us-en/insights/high-tech/public-safety-ai> (referer: None)\n",
      "2020-03-10 14:30:16 [scrapy.core.engine] DEBUG: Crawled (200) <GET https://www.accenture.com//us-en/insights/high-tech/teaching-the-future-with-ai> (referer: None)\n",
      "2020-03-10 14:30:16 [scrapy.core.engine] DEBUG: Crawled (200) <GET https://www.accenture.com//us-en/insights/financial-services/intraday-liquidity-management> (referer: None)\n",
      "2020-03-10 14:30:16 [scrapy.core.engine] DEBUG: Crawled (200) <GET https://www.accenture.com//us-en/insights/energy/intelligent-automation-in-energy-trading> (referer: None)\n",
      "2020-03-10 14:30:16 [scrapy.core.engine] DEBUG: Crawled (200) <GET https://www.accenture.com//us-en/services/us-federal-government/artificial-intelligence> (referer: None)\n",
      "2020-03-10 14:30:16 [urllib3.connectionpool] DEBUG: Starting new HTTPS connection (1): www.accenture.com:443\n"
     ]
    },
    {
     "name": "stdout",
     "output_type": "stream",
     "text": [
      "https://www.accenture.com//us-en/insights/life-sciences/intelligent-enterprise-transformation\n"
     ]
    },
    {
     "name": "stderr",
     "output_type": "stream",
     "text": [
      "2020-03-10 14:30:16 [urllib3.connectionpool] DEBUG: https://www.accenture.com:443 \"GET //us-en/insights/life-sciences/intelligent-enterprise-transformation HTTP/1.1\" 200 153395\n",
      "2020-03-10 14:30:17 [urllib3.connectionpool] DEBUG: Starting new HTTPS connection (1): www.accenture.com:443\n"
     ]
    },
    {
     "name": "stdout",
     "output_type": "stream",
     "text": [
      "https://www.accenture.com//us-en/insights/industry-x-0/engineering-data-digitization\n"
     ]
    },
    {
     "name": "stderr",
     "output_type": "stream",
     "text": [
      "2020-03-10 14:30:17 [urllib3.connectionpool] DEBUG: https://www.accenture.com:443 \"GET //us-en/insights/industry-x-0/engineering-data-digitization HTTP/1.1\" 200 123743\n",
      "2020-03-10 14:30:18 [urllib3.connectionpool] DEBUG: Starting new HTTPS connection (1): www.accenture.com:443\n"
     ]
    },
    {
     "name": "stdout",
     "output_type": "stream",
     "text": [
      "https://www.accenture.com//us-en/insights/high-tech/workforce-aerospace-defense\n"
     ]
    },
    {
     "name": "stderr",
     "output_type": "stream",
     "text": [
      "2020-03-10 14:30:18 [urllib3.connectionpool] DEBUG: https://www.accenture.com:443 \"GET //us-en/insights/high-tech/workforce-aerospace-defense HTTP/1.1\" 200 136096\n",
      "2020-03-10 14:30:18 [urllib3.connectionpool] DEBUG: Starting new HTTPS connection (1): www.accenture.com:443\n"
     ]
    },
    {
     "name": "stdout",
     "output_type": "stream",
     "text": [
      "https://www.accenture.com//us-en/insights/high-tech/public-safety-ai\n"
     ]
    },
    {
     "name": "stderr",
     "output_type": "stream",
     "text": [
      "2020-03-10 14:30:19 [urllib3.connectionpool] DEBUG: https://www.accenture.com:443 \"GET //us-en/insights/high-tech/public-safety-ai HTTP/1.1\" 200 145515\n",
      "2020-03-10 14:30:19 [urllib3.connectionpool] DEBUG: Starting new HTTPS connection (1): www.accenture.com:443\n"
     ]
    },
    {
     "name": "stdout",
     "output_type": "stream",
     "text": [
      "https://www.accenture.com//us-en/insights/high-tech/teaching-the-future-with-ai\n"
     ]
    },
    {
     "name": "stderr",
     "output_type": "stream",
     "text": [
      "2020-03-10 14:30:20 [urllib3.connectionpool] DEBUG: https://www.accenture.com:443 \"GET //us-en/insights/high-tech/teaching-the-future-with-ai HTTP/1.1\" 200 146000\n",
      "2020-03-10 14:30:20 [urllib3.connectionpool] DEBUG: Starting new HTTPS connection (1): www.accenture.com:443\n"
     ]
    },
    {
     "name": "stdout",
     "output_type": "stream",
     "text": [
      "https://www.accenture.com//us-en/insights/financial-services/intraday-liquidity-management\n"
     ]
    },
    {
     "name": "stderr",
     "output_type": "stream",
     "text": [
      "2020-03-10 14:30:21 [urllib3.connectionpool] DEBUG: https://www.accenture.com:443 \"GET //us-en/insights/financial-services/intraday-liquidity-management HTTP/1.1\" 200 135823\n",
      "2020-03-10 14:30:21 [urllib3.connectionpool] DEBUG: Starting new HTTPS connection (1): www.accenture.com:443\n"
     ]
    },
    {
     "name": "stdout",
     "output_type": "stream",
     "text": [
      "https://www.accenture.com//us-en/insights/energy/intelligent-automation-in-energy-trading\n"
     ]
    },
    {
     "name": "stderr",
     "output_type": "stream",
     "text": [
      "2020-03-10 14:30:22 [urllib3.connectionpool] DEBUG: https://www.accenture.com:443 \"GET //us-en/insights/energy/intelligent-automation-in-energy-trading HTTP/1.1\" 200 145403\n",
      "2020-03-10 14:30:22 [urllib3.connectionpool] DEBUG: Starting new HTTPS connection (1): www.accenture.com:443\n"
     ]
    },
    {
     "name": "stdout",
     "output_type": "stream",
     "text": [
      "https://www.accenture.com//us-en/services/us-federal-government/artificial-intelligence\n"
     ]
    },
    {
     "name": "stderr",
     "output_type": "stream",
     "text": [
      "2020-03-10 14:30:23 [urllib3.connectionpool] DEBUG: https://www.accenture.com:443 \"GET //us-en/services/us-federal-government/artificial-intelligence HTTP/1.1\" 200 177335\n",
      "2020-03-10 14:30:23 [scrapy.core.engine] DEBUG: Crawled (200) <GET https://www.accenture.com//us-en/insights/artificial-intelligence/adversarial-ai> (referer: None)\n",
      "2020-03-10 14:30:23 [scrapy.core.engine] DEBUG: Crawled (200) <GET https://www.accenture.com//us-en/insights/us-federal-government/moving-forward> (referer: None)\n",
      "2020-03-10 14:30:23 [scrapy.core.engine] DEBUG: Crawled (200) <GET https://www.accenture.com//us-en/insights/artificial-intelligence/roi-artificial-intelligence> (referer: None)\n",
      "2020-03-10 14:30:23 [scrapy.core.engine] DEBUG: Crawled (200) <GET https://www.accenture.com//us-en/insights/health/intelligent-payer-health-management-reimagined> (referer: None)\n",
      "2020-03-10 14:30:23 [scrapy.core.engine] DEBUG: Crawled (200) <GET https://www.accenture.com//us-en/insights/energy/elevating-workforce-decoding> (referer: None)\n",
      "2020-03-10 14:30:23 [scrapy.core.engine] DEBUG: Crawled (200) <GET https://www.accenture.com//us-en/insights/consulting/intelligent-enterprise-finance> (referer: None)\n",
      "2020-03-10 14:30:23 [scrapy.core.engine] DEBUG: Crawled (200) <GET https://www.accenture.com//us-en/insights/consulting/intelligent-enterprise-workforce> (referer: None)\n",
      "2020-03-10 14:30:23 [scrapy.core.engine] DEBUG: Crawled (200) <GET https://www.accenture.com//us-en/insights/financial-services/2019-compliance-risk-study-financial-services> (referer: None)\n",
      "2020-03-10 14:30:24 [urllib3.connectionpool] DEBUG: Starting new HTTPS connection (1): www.accenture.com:443\n"
     ]
    },
    {
     "name": "stdout",
     "output_type": "stream",
     "text": [
      "https://www.accenture.com//us-en/insights/artificial-intelligence/adversarial-ai\n"
     ]
    },
    {
     "name": "stderr",
     "output_type": "stream",
     "text": [
      "2020-03-10 14:30:24 [urllib3.connectionpool] DEBUG: https://www.accenture.com:443 \"GET //us-en/insights/artificial-intelligence/adversarial-ai HTTP/1.1\" 200 142067\n",
      "2020-03-10 14:30:24 [urllib3.connectionpool] DEBUG: Starting new HTTPS connection (1): www.accenture.com:443\n"
     ]
    },
    {
     "name": "stdout",
     "output_type": "stream",
     "text": [
      "https://www.accenture.com//us-en/insights/us-federal-government/moving-forward\n"
     ]
    },
    {
     "name": "stderr",
     "output_type": "stream",
     "text": [
      "2020-03-10 14:30:25 [urllib3.connectionpool] DEBUG: https://www.accenture.com:443 \"GET //us-en/insights/us-federal-government/moving-forward HTTP/1.1\" 200 144378\n",
      "2020-03-10 14:30:25 [urllib3.connectionpool] DEBUG: Starting new HTTPS connection (1): www.accenture.com:443\n"
     ]
    },
    {
     "name": "stdout",
     "output_type": "stream",
     "text": [
      "https://www.accenture.com//us-en/insights/artificial-intelligence/roi-artificial-intelligence\n"
     ]
    },
    {
     "name": "stderr",
     "output_type": "stream",
     "text": [
      "2020-03-10 14:30:26 [urllib3.connectionpool] DEBUG: https://www.accenture.com:443 \"GET //us-en/insights/artificial-intelligence/roi-artificial-intelligence HTTP/1.1\" 200 138268\n",
      "2020-03-10 14:30:26 [urllib3.connectionpool] DEBUG: Starting new HTTPS connection (1): www.accenture.com:443\n"
     ]
    },
    {
     "name": "stdout",
     "output_type": "stream",
     "text": [
      "https://www.accenture.com//us-en/insights/health/intelligent-payer-health-management-reimagined\n"
     ]
    },
    {
     "name": "stderr",
     "output_type": "stream",
     "text": [
      "2020-03-10 14:30:27 [urllib3.connectionpool] DEBUG: https://www.accenture.com:443 \"GET //us-en/insights/health/intelligent-payer-health-management-reimagined HTTP/1.1\" 200 146532\n",
      "2020-03-10 14:30:27 [urllib3.connectionpool] DEBUG: Starting new HTTPS connection (1): www.accenture.com:443\n"
     ]
    },
    {
     "name": "stdout",
     "output_type": "stream",
     "text": [
      "https://www.accenture.com//us-en/insights/energy/elevating-workforce-decoding\n"
     ]
    },
    {
     "name": "stderr",
     "output_type": "stream",
     "text": [
      "2020-03-10 14:30:28 [urllib3.connectionpool] DEBUG: https://www.accenture.com:443 \"GET //us-en/insights/energy/elevating-workforce-decoding HTTP/1.1\" 200 141719\n",
      "2020-03-10 14:30:28 [urllib3.connectionpool] DEBUG: Starting new HTTPS connection (1): www.accenture.com:443\n"
     ]
    },
    {
     "name": "stdout",
     "output_type": "stream",
     "text": [
      "https://www.accenture.com//us-en/insights/consulting/intelligent-enterprise-finance\n"
     ]
    },
    {
     "name": "stderr",
     "output_type": "stream",
     "text": [
      "2020-03-10 14:30:29 [urllib3.connectionpool] DEBUG: https://www.accenture.com:443 \"GET //us-en/insights/consulting/intelligent-enterprise-finance HTTP/1.1\" 200 147257\n",
      "2020-03-10 14:30:29 [urllib3.connectionpool] DEBUG: Starting new HTTPS connection (1): www.accenture.com:443\n"
     ]
    },
    {
     "name": "stdout",
     "output_type": "stream",
     "text": [
      "https://www.accenture.com//us-en/insights/consulting/intelligent-enterprise-workforce\n"
     ]
    },
    {
     "name": "stderr",
     "output_type": "stream",
     "text": [
      "2020-03-10 14:30:30 [urllib3.connectionpool] DEBUG: https://www.accenture.com:443 \"GET //us-en/insights/consulting/intelligent-enterprise-workforce HTTP/1.1\" 200 149784\n",
      "2020-03-10 14:30:30 [urllib3.connectionpool] DEBUG: Starting new HTTPS connection (1): www.accenture.com:443\n"
     ]
    },
    {
     "name": "stdout",
     "output_type": "stream",
     "text": [
      "https://www.accenture.com//us-en/insights/financial-services/2019-compliance-risk-study-financial-services\n"
     ]
    },
    {
     "name": "stderr",
     "output_type": "stream",
     "text": [
      "2020-03-10 14:30:31 [urllib3.connectionpool] DEBUG: https://www.accenture.com:443 \"GET //us-en/insights/financial-services/2019-compliance-risk-study-financial-services HTTP/1.1\" 200 140343\n",
      "2020-03-10 14:30:31 [scrapy.core.engine] DEBUG: Crawled (200) <GET https://www.accenture.com//us-en/insights/industry-x-0/product-reinvention> (referer: None)\n",
      "2020-03-10 14:30:31 [scrapy.core.engine] DEBUG: Crawled (200) <GET https://www.accenture.com//us-en/insights/public-service/time-chat-about-bots> (referer: None)\n",
      "2020-03-10 14:30:31 [scrapy.core.engine] DEBUG: Crawled (200) <GET https://www.accenture.com//us-en/insights/industrial/manufacturing-success-intelligent-platform> (referer: None)\n",
      "2020-03-10 14:30:31 [scrapy.core.engine] DEBUG: Crawled (200) <GET https://www.accenture.com//us-en/insights/health/leading-change-forefront-healthcare> (referer: None)\n",
      "2020-03-10 14:30:31 [scrapy.core.engine] DEBUG: Crawled (200) <GET https://www.accenture.com//us-en/insights/consulting/finance-reimagined> (referer: None)\n",
      "2020-03-10 14:30:31 [scrapy.core.engine] DEBUG: Crawled (200) <GET https://www.accenture.com//us-en/insights/public-service/modernizing-child-welfare-practices-technology> (referer: None)\n",
      "2020-03-10 14:30:31 [scrapy.core.engine] DEBUG: Crawled (200) <GET https://www.accenture.com//us-en/insights/industry-x-0/navigate-new-product-reinvention-grid> (referer: None)\n",
      "2020-03-10 14:30:31 [scrapy.core.engine] DEBUG: Crawled (200) <GET https://www.accenture.com//us-en/company-perspectives-meet-david-jones> (referer: None)\n",
      "2020-03-10 14:30:31 [urllib3.connectionpool] DEBUG: Starting new HTTPS connection (1): www.accenture.com:443\n"
     ]
    },
    {
     "name": "stdout",
     "output_type": "stream",
     "text": [
      "https://www.accenture.com//us-en/insights/industry-x-0/product-reinvention\n"
     ]
    },
    {
     "name": "stderr",
     "output_type": "stream",
     "text": [
      "2020-03-10 14:30:32 [urllib3.connectionpool] DEBUG: https://www.accenture.com:443 \"GET //us-en/insights/industry-x-0/product-reinvention HTTP/1.1\" 200 155985\n",
      "2020-03-10 14:30:32 [urllib3.connectionpool] DEBUG: Starting new HTTPS connection (1): www.accenture.com:443\n"
     ]
    },
    {
     "name": "stdout",
     "output_type": "stream",
     "text": [
      "https://www.accenture.com//us-en/insights/public-service/time-chat-about-bots\n"
     ]
    },
    {
     "name": "stderr",
     "output_type": "stream",
     "text": [
      "2020-03-10 14:30:33 [urllib3.connectionpool] DEBUG: https://www.accenture.com:443 \"GET //us-en/insights/public-service/time-chat-about-bots HTTP/1.1\" 200 133748\n",
      "2020-03-10 14:30:33 [urllib3.connectionpool] DEBUG: Starting new HTTPS connection (1): www.accenture.com:443\n"
     ]
    },
    {
     "name": "stdout",
     "output_type": "stream",
     "text": [
      "https://www.accenture.com//us-en/insights/industrial/manufacturing-success-intelligent-platform\n"
     ]
    },
    {
     "name": "stderr",
     "output_type": "stream",
     "text": [
      "2020-03-10 14:30:34 [urllib3.connectionpool] DEBUG: https://www.accenture.com:443 \"GET //us-en/insights/industrial/manufacturing-success-intelligent-platform HTTP/1.1\" 200 150306\n",
      "2020-03-10 14:30:34 [urllib3.connectionpool] DEBUG: Starting new HTTPS connection (1): www.accenture.com:443\n"
     ]
    },
    {
     "name": "stdout",
     "output_type": "stream",
     "text": [
      "https://www.accenture.com//us-en/insights/health/leading-change-forefront-healthcare\n"
     ]
    },
    {
     "name": "stderr",
     "output_type": "stream",
     "text": [
      "2020-03-10 14:30:34 [urllib3.connectionpool] DEBUG: https://www.accenture.com:443 \"GET //us-en/insights/health/leading-change-forefront-healthcare HTTP/1.1\" 200 133395\n",
      "2020-03-10 14:30:34 [urllib3.connectionpool] DEBUG: Starting new HTTPS connection (1): www.accenture.com:443\n"
     ]
    },
    {
     "name": "stdout",
     "output_type": "stream",
     "text": [
      "https://www.accenture.com//us-en/insights/consulting/finance-reimagined\n"
     ]
    },
    {
     "name": "stderr",
     "output_type": "stream",
     "text": [
      "2020-03-10 14:30:35 [urllib3.connectionpool] DEBUG: https://www.accenture.com:443 \"GET //us-en/insights/consulting/finance-reimagined HTTP/1.1\" 200 147657\n",
      "2020-03-10 14:30:35 [urllib3.connectionpool] DEBUG: Starting new HTTPS connection (1): www.accenture.com:443\n"
     ]
    },
    {
     "name": "stdout",
     "output_type": "stream",
     "text": [
      "https://www.accenture.com//us-en/insights/public-service/modernizing-child-welfare-practices-technology\n"
     ]
    },
    {
     "name": "stderr",
     "output_type": "stream",
     "text": [
      "2020-03-10 14:30:36 [urllib3.connectionpool] DEBUG: https://www.accenture.com:443 \"GET //us-en/insights/public-service/modernizing-child-welfare-practices-technology HTTP/1.1\" 200 154067\n",
      "2020-03-10 14:30:36 [urllib3.connectionpool] DEBUG: Starting new HTTPS connection (1): www.accenture.com:443\n"
     ]
    },
    {
     "name": "stdout",
     "output_type": "stream",
     "text": [
      "https://www.accenture.com//us-en/insights/industry-x-0/navigate-new-product-reinvention-grid\n"
     ]
    },
    {
     "name": "stderr",
     "output_type": "stream",
     "text": [
      "2020-03-10 14:30:37 [urllib3.connectionpool] DEBUG: https://www.accenture.com:443 \"GET //us-en/insights/industry-x-0/navigate-new-product-reinvention-grid HTTP/1.1\" 200 148290\n",
      "2020-03-10 14:30:37 [urllib3.connectionpool] DEBUG: Starting new HTTPS connection (1): www.accenture.com:443\n"
     ]
    },
    {
     "name": "stdout",
     "output_type": "stream",
     "text": [
      "https://www.accenture.com//us-en/company-perspectives-meet-david-jones\n"
     ]
    },
    {
     "name": "stderr",
     "output_type": "stream",
     "text": [
      "2020-03-10 14:30:38 [urllib3.connectionpool] DEBUG: https://www.accenture.com:443 \"GET //us-en/company-perspectives-meet-david-jones HTTP/1.1\" 200 130347\n",
      "2020-03-10 14:30:38 [scrapy.extensions.logstats] INFO: Crawled 179 pages (at 56 pages/min), scraped 0 items (at 0 items/min)\n",
      "2020-03-10 14:30:38 [scrapy.core.engine] DEBUG: Crawled (200) <GET https://www.accenture.com//us-en/insights/security/cost-cybercrime-study> (referer: None)\n",
      "2020-03-10 14:30:38 [scrapy.core.engine] DEBUG: Crawled (200) <GET https://www.accenture.com//us-en/insights/us-federal-government/ready-thrive-ai> (referer: None)\n",
      "2020-03-10 14:30:38 [scrapy.core.engine] DEBUG: Crawled (200) <GET https://www.accenture.com//us-en/insights/artificial-intelligence/key-cloud-considerations> (referer: None)\n",
      "2020-03-10 14:30:38 [scrapy.core.engine] DEBUG: Crawled (200) <GET https://www.accenture.com//us-en/insights/artificial-intelligence/real-matters-ai-companions> (referer: None)\n",
      "2020-03-10 14:30:38 [scrapy.core.engine] DEBUG: Crawled (200) <GET https://www.accenture.com//us-en/insights/industry-x-0/delivering-digital-dividends-oil-gas> (referer: None)\n",
      "2020-03-10 14:30:38 [scrapy.core.engine] DEBUG: Crawled (200) <GET https://www.accenture.com//us-en/insights/banking/digital-mergers-acquisitions-banks-smarter-faster> (referer: None)\n",
      "2020-03-10 14:30:38 [scrapy.core.engine] DEBUG: Crawled (200) <GET https://www.accenture.com//us-en/insights/public-service/postal-research-last-mile> (referer: None)\n",
      "2020-03-10 14:30:38 [scrapy.core.engine] DEBUG: Crawled (200) <GET https://www.accenture.com//us-en/insights/digital/human-ai-here> (referer: None)\n",
      "2020-03-10 14:30:38 [urllib3.connectionpool] DEBUG: Starting new HTTPS connection (1): www.accenture.com:443\n"
     ]
    },
    {
     "name": "stdout",
     "output_type": "stream",
     "text": [
      "https://www.accenture.com//us-en/insights/security/cost-cybercrime-study\n"
     ]
    },
    {
     "name": "stderr",
     "output_type": "stream",
     "text": [
      "2020-03-10 14:30:39 [urllib3.connectionpool] DEBUG: https://www.accenture.com:443 \"GET //us-en/insights/security/cost-cybercrime-study HTTP/1.1\" 200 142115\n",
      "2020-03-10 14:30:39 [urllib3.connectionpool] DEBUG: Starting new HTTPS connection (1): www.accenture.com:443\n"
     ]
    },
    {
     "name": "stdout",
     "output_type": "stream",
     "text": [
      "https://www.accenture.com//us-en/insights/us-federal-government/ready-thrive-ai\n"
     ]
    },
    {
     "name": "stderr",
     "output_type": "stream",
     "text": [
      "2020-03-10 14:30:40 [urllib3.connectionpool] DEBUG: https://www.accenture.com:443 \"GET //us-en/insights/us-federal-government/ready-thrive-ai HTTP/1.1\" 200 154056\n",
      "2020-03-10 14:30:40 [urllib3.connectionpool] DEBUG: Starting new HTTPS connection (1): www.accenture.com:443\n"
     ]
    },
    {
     "name": "stdout",
     "output_type": "stream",
     "text": [
      "https://www.accenture.com//us-en/insights/artificial-intelligence/key-cloud-considerations\n"
     ]
    },
    {
     "name": "stderr",
     "output_type": "stream",
     "text": [
      "2020-03-10 14:30:41 [urllib3.connectionpool] DEBUG: https://www.accenture.com:443 \"GET //us-en/insights/artificial-intelligence/key-cloud-considerations HTTP/1.1\" 200 135016\n",
      "2020-03-10 14:30:41 [urllib3.connectionpool] DEBUG: Starting new HTTPS connection (1): www.accenture.com:443\n"
     ]
    },
    {
     "name": "stdout",
     "output_type": "stream",
     "text": [
      "https://www.accenture.com//us-en/insights/artificial-intelligence/real-matters-ai-companions\n"
     ]
    },
    {
     "name": "stderr",
     "output_type": "stream",
     "text": [
      "2020-03-10 14:30:42 [urllib3.connectionpool] DEBUG: https://www.accenture.com:443 \"GET //us-en/insights/artificial-intelligence/real-matters-ai-companions HTTP/1.1\" 200 133438\n",
      "2020-03-10 14:30:42 [urllib3.connectionpool] DEBUG: Starting new HTTPS connection (1): www.accenture.com:443\n"
     ]
    },
    {
     "name": "stdout",
     "output_type": "stream",
     "text": [
      "https://www.accenture.com//us-en/insights/industry-x-0/delivering-digital-dividends-oil-gas\n"
     ]
    },
    {
     "name": "stderr",
     "output_type": "stream",
     "text": [
      "2020-03-10 14:30:43 [urllib3.connectionpool] DEBUG: https://www.accenture.com:443 \"GET //us-en/insights/industry-x-0/delivering-digital-dividends-oil-gas HTTP/1.1\" 200 146701\n",
      "2020-03-10 14:30:43 [urllib3.connectionpool] DEBUG: Starting new HTTPS connection (1): www.accenture.com:443\n"
     ]
    },
    {
     "name": "stdout",
     "output_type": "stream",
     "text": [
      "https://www.accenture.com//us-en/insights/banking/digital-mergers-acquisitions-banks-smarter-faster\n"
     ]
    },
    {
     "name": "stderr",
     "output_type": "stream",
     "text": [
      "2020-03-10 14:30:44 [urllib3.connectionpool] DEBUG: https://www.accenture.com:443 \"GET //us-en/insights/banking/digital-mergers-acquisitions-banks-smarter-faster HTTP/1.1\" 200 151086\n",
      "2020-03-10 14:30:44 [urllib3.connectionpool] DEBUG: Starting new HTTPS connection (1): www.accenture.com:443\n"
     ]
    },
    {
     "name": "stdout",
     "output_type": "stream",
     "text": [
      "https://www.accenture.com//us-en/insights/public-service/postal-research-last-mile\n"
     ]
    },
    {
     "name": "stderr",
     "output_type": "stream",
     "text": [
      "2020-03-10 14:30:49 [urllib3.connectionpool] DEBUG: https://www.accenture.com:443 \"GET //us-en/insights/public-service/postal-research-last-mile HTTP/1.1\" 200 141662\n",
      "2020-03-10 14:30:49 [urllib3.connectionpool] DEBUG: Starting new HTTPS connection (1): www.accenture.com:443\n"
     ]
    },
    {
     "name": "stdout",
     "output_type": "stream",
     "text": [
      "https://www.accenture.com//us-en/insights/digital/human-ai-here\n"
     ]
    },
    {
     "name": "stderr",
     "output_type": "stream",
     "text": [
      "2020-03-10 14:30:50 [urllib3.connectionpool] DEBUG: https://www.accenture.com:443 \"GET //us-en/insights/digital/human-ai-here HTTP/1.1\" 200 131727\n",
      "2020-03-10 14:30:50 [scrapy.core.engine] DEBUG: Crawled (200) <GET https://www.accenture.com//us-en/insights/retail/intelligence-everywhere> (referer: None)\n",
      "2020-03-10 14:30:50 [scrapy.core.engine] DEBUG: Crawled (200) <GET https://www.accenture.com//us-en/insights/high-tech/supply-chain-sleep-mode-aerospace-defense> (referer: None)\n",
      "2020-03-10 14:30:50 [scrapy.core.engine] DEBUG: Crawled (200) <GET https://www.accenture.com//us-en/insights/artificial-intelligence/ai-governance-support-innovation> (referer: None)\n",
      "2020-03-10 14:30:50 [scrapy.core.engine] DEBUG: Crawled (200) <GET https://www.accenture.com//us-en/insights/technology/technology-trends-2019> (referer: None)\n",
      "2020-03-10 14:30:50 [scrapy.core.engine] DEBUG: Crawled (200) <GET https://www.accenture.com//us-en/insights/digital/preparing-data-ai> (referer: None)\n",
      "2020-03-10 14:30:50 [scrapy.core.engine] DEBUG: Crawled (200) <GET https://www.accenture.com//us-en/insights/public-service/postal-research-return> (referer: None)\n",
      "2020-03-10 14:30:50 [scrapy.core.engine] DEBUG: Crawled (200) <GET https://www.accenture.com//us-en/insights/technology/new-emerging-technologies-darq> (referer: None)\n",
      "2020-03-10 14:30:50 [scrapy.core.engine] DEBUG: Crawled (200) <GET https://www.accenture.com//us-en/insights/chemicals/catalyzing-the-new-chemicals> (referer: None)\n",
      "2020-03-10 14:30:50 [urllib3.connectionpool] DEBUG: Starting new HTTPS connection (1): www.accenture.com:443\n"
     ]
    },
    {
     "name": "stdout",
     "output_type": "stream",
     "text": [
      "https://www.accenture.com//us-en/insights/retail/intelligence-everywhere\n"
     ]
    },
    {
     "name": "stderr",
     "output_type": "stream",
     "text": [
      "2020-03-10 14:30:51 [urllib3.connectionpool] DEBUG: https://www.accenture.com:443 \"GET //us-en/insights/retail/intelligence-everywhere HTTP/1.1\" 200 143178\n",
      "2020-03-10 14:30:51 [urllib3.connectionpool] DEBUG: Starting new HTTPS connection (1): www.accenture.com:443\n"
     ]
    },
    {
     "name": "stdout",
     "output_type": "stream",
     "text": [
      "https://www.accenture.com//us-en/insights/high-tech/supply-chain-sleep-mode-aerospace-defense\n"
     ]
    },
    {
     "name": "stderr",
     "output_type": "stream",
     "text": [
      "2020-03-10 14:30:52 [urllib3.connectionpool] DEBUG: https://www.accenture.com:443 \"GET //us-en/insights/high-tech/supply-chain-sleep-mode-aerospace-defense HTTP/1.1\" 200 132880\n",
      "2020-03-10 14:30:52 [urllib3.connectionpool] DEBUG: Starting new HTTPS connection (1): www.accenture.com:443\n"
     ]
    },
    {
     "name": "stdout",
     "output_type": "stream",
     "text": [
      "https://www.accenture.com//us-en/insights/artificial-intelligence/ai-governance-support-innovation\n"
     ]
    },
    {
     "name": "stderr",
     "output_type": "stream",
     "text": [
      "2020-03-10 14:30:52 [urllib3.connectionpool] DEBUG: https://www.accenture.com:443 \"GET //us-en/insights/artificial-intelligence/ai-governance-support-innovation HTTP/1.1\" 200 137488\n",
      "2020-03-10 14:30:52 [urllib3.connectionpool] DEBUG: Starting new HTTPS connection (1): www.accenture.com:443\n"
     ]
    },
    {
     "name": "stdout",
     "output_type": "stream",
     "text": [
      "https://www.accenture.com//us-en/insights/technology/technology-trends-2019\n"
     ]
    },
    {
     "name": "stderr",
     "output_type": "stream",
     "text": [
      "2020-03-10 14:30:53 [urllib3.connectionpool] DEBUG: https://www.accenture.com:443 \"GET //us-en/insights/technology/technology-trends-2019 HTTP/1.1\" 200 165119\n",
      "2020-03-10 14:30:53 [urllib3.connectionpool] DEBUG: Starting new HTTPS connection (1): www.accenture.com:443\n"
     ]
    },
    {
     "name": "stdout",
     "output_type": "stream",
     "text": [
      "https://www.accenture.com//us-en/insights/digital/preparing-data-ai\n"
     ]
    },
    {
     "name": "stderr",
     "output_type": "stream",
     "text": [
      "2020-03-10 14:30:54 [urllib3.connectionpool] DEBUG: https://www.accenture.com:443 \"GET //us-en/insights/digital/preparing-data-ai HTTP/1.1\" 200 134579\n",
      "2020-03-10 14:30:55 [urllib3.connectionpool] DEBUG: Starting new HTTPS connection (1): www.accenture.com:443\n"
     ]
    },
    {
     "name": "stdout",
     "output_type": "stream",
     "text": [
      "https://www.accenture.com//us-en/insights/public-service/postal-research-return\n"
     ]
    },
    {
     "name": "stderr",
     "output_type": "stream",
     "text": [
      "2020-03-10 14:30:55 [urllib3.connectionpool] DEBUG: https://www.accenture.com:443 \"GET //us-en/insights/public-service/postal-research-return HTTP/1.1\" 200 147482\n",
      "2020-03-10 14:30:55 [urllib3.connectionpool] DEBUG: Starting new HTTPS connection (1): www.accenture.com:443\n"
     ]
    },
    {
     "name": "stdout",
     "output_type": "stream",
     "text": [
      "https://www.accenture.com//us-en/insights/technology/new-emerging-technologies-darq\n"
     ]
    },
    {
     "name": "stderr",
     "output_type": "stream",
     "text": [
      "2020-03-10 14:30:56 [urllib3.connectionpool] DEBUG: https://www.accenture.com:443 \"GET //us-en/insights/technology/new-emerging-technologies-darq HTTP/1.1\" 200 175185\n",
      "2020-03-10 14:30:56 [urllib3.connectionpool] DEBUG: Starting new HTTPS connection (1): www.accenture.com:443\n"
     ]
    },
    {
     "name": "stdout",
     "output_type": "stream",
     "text": [
      "https://www.accenture.com//us-en/insights/chemicals/catalyzing-the-new-chemicals\n"
     ]
    },
    {
     "name": "stderr",
     "output_type": "stream",
     "text": [
      "2020-03-10 14:30:57 [urllib3.connectionpool] DEBUG: https://www.accenture.com:443 \"GET //us-en/insights/chemicals/catalyzing-the-new-chemicals HTTP/1.1\" 200 161217\n",
      "2020-03-10 14:30:57 [scrapy.core.engine] DEBUG: Crawled (200) <GET https://www.accenture.com//us-en/insights/us-federal-government/ai-is-ready-are-we> (referer: None)\n",
      "2020-03-10 14:30:57 [scrapy.core.engine] DEBUG: Crawled (200) <GET https://www.accenture.com//us-en/insights/financial-services/digital-transformation-remaking-insurance> (referer: None)\n",
      "2020-03-10 14:30:57 [scrapy.core.engine] DEBUG: Crawled (200) <GET https://www.accenture.com//us-en/insights/financial-services/seizing-value-with-technology-overview> (referer: None)\n",
      "2020-03-10 14:30:57 [scrapy.core.engine] DEBUG: Crawled (200) <GET https://www.accenture.com//us-en/insights/software-platforms/future-of-physical-security> (referer: None)\n",
      "2020-03-10 14:30:57 [scrapy.core.engine] DEBUG: Crawled (200) <GET https://www.accenture.com//us-en/insights/health/healthcare-consumerism-price-tag> (referer: None)\n",
      "2020-03-10 14:30:57 [scrapy.core.engine] DEBUG: Crawled (200) <GET https://www.accenture.com//us-en/insights/retail/retail-purpose-instore> (referer: None)\n",
      "2020-03-10 14:30:58 [scrapy.core.engine] DEBUG: Crawled (200) <GET https://www.accenture.com//us-en/insights/us-federal-government/responsible-ai-federal-agencies> (referer: None)\n",
      "2020-03-10 14:30:58 [scrapy.core.engine] DEBUG: Crawled (200) <GET https://www.accenture.com//us-en/insights/communications-media/telco-future-workforce> (referer: None)\n",
      "2020-03-10 14:30:58 [urllib3.connectionpool] DEBUG: Starting new HTTPS connection (1): www.accenture.com:443\n"
     ]
    },
    {
     "name": "stdout",
     "output_type": "stream",
     "text": [
      "https://www.accenture.com//us-en/insights/us-federal-government/ai-is-ready-are-we\n"
     ]
    },
    {
     "name": "stderr",
     "output_type": "stream",
     "text": [
      "2020-03-10 14:30:58 [urllib3.connectionpool] DEBUG: https://www.accenture.com:443 \"GET //us-en/insights/us-federal-government/ai-is-ready-are-we HTTP/1.1\" 200 153132\n",
      "2020-03-10 14:30:58 [urllib3.connectionpool] DEBUG: Starting new HTTPS connection (1): www.accenture.com:443\n"
     ]
    },
    {
     "name": "stdout",
     "output_type": "stream",
     "text": [
      "https://www.accenture.com//us-en/insights/financial-services/digital-transformation-remaking-insurance\n"
     ]
    },
    {
     "name": "stderr",
     "output_type": "stream",
     "text": [
      "2020-03-10 14:30:59 [urllib3.connectionpool] DEBUG: https://www.accenture.com:443 \"GET //us-en/insights/financial-services/digital-transformation-remaking-insurance HTTP/1.1\" 200 155536\n",
      "2020-03-10 14:30:59 [urllib3.connectionpool] DEBUG: Starting new HTTPS connection (1): www.accenture.com:443\n"
     ]
    },
    {
     "name": "stdout",
     "output_type": "stream",
     "text": [
      "https://www.accenture.com//us-en/insights/financial-services/seizing-value-with-technology-overview\n"
     ]
    },
    {
     "name": "stderr",
     "output_type": "stream",
     "text": [
      "2020-03-10 14:31:00 [urllib3.connectionpool] DEBUG: https://www.accenture.com:443 \"GET //us-en/insights/financial-services/seizing-value-with-technology-overview HTTP/1.1\" 200 142270\n",
      "2020-03-10 14:31:00 [urllib3.connectionpool] DEBUG: Starting new HTTPS connection (1): www.accenture.com:443\n"
     ]
    },
    {
     "name": "stdout",
     "output_type": "stream",
     "text": [
      "https://www.accenture.com//us-en/insights/software-platforms/future-of-physical-security\n"
     ]
    },
    {
     "name": "stderr",
     "output_type": "stream",
     "text": [
      "2020-03-10 14:31:01 [urllib3.connectionpool] DEBUG: https://www.accenture.com:443 \"GET //us-en/insights/software-platforms/future-of-physical-security HTTP/1.1\" 200 154639\n",
      "2020-03-10 14:31:01 [urllib3.connectionpool] DEBUG: Starting new HTTPS connection (1): www.accenture.com:443\n"
     ]
    },
    {
     "name": "stdout",
     "output_type": "stream",
     "text": [
      "https://www.accenture.com//us-en/insights/health/healthcare-consumerism-price-tag\n"
     ]
    },
    {
     "name": "stderr",
     "output_type": "stream",
     "text": [
      "2020-03-10 14:31:02 [urllib3.connectionpool] DEBUG: https://www.accenture.com:443 \"GET //us-en/insights/health/healthcare-consumerism-price-tag HTTP/1.1\" 200 145989\n",
      "2020-03-10 14:31:02 [urllib3.connectionpool] DEBUG: Starting new HTTPS connection (1): www.accenture.com:443\n"
     ]
    },
    {
     "name": "stdout",
     "output_type": "stream",
     "text": [
      "https://www.accenture.com//us-en/insights/retail/retail-purpose-instore\n"
     ]
    },
    {
     "name": "stderr",
     "output_type": "stream",
     "text": [
      "2020-03-10 14:31:03 [urllib3.connectionpool] DEBUG: https://www.accenture.com:443 \"GET //us-en/insights/retail/retail-purpose-instore HTTP/1.1\" 200 142981\n",
      "2020-03-10 14:31:03 [urllib3.connectionpool] DEBUG: Starting new HTTPS connection (1): www.accenture.com:443\n"
     ]
    },
    {
     "name": "stdout",
     "output_type": "stream",
     "text": [
      "https://www.accenture.com//us-en/insights/us-federal-government/responsible-ai-federal-agencies\n"
     ]
    },
    {
     "name": "stderr",
     "output_type": "stream",
     "text": [
      "2020-03-10 14:31:03 [urllib3.connectionpool] DEBUG: https://www.accenture.com:443 \"GET //us-en/insights/us-federal-government/responsible-ai-federal-agencies HTTP/1.1\" 200 155068\n",
      "2020-03-10 14:31:03 [urllib3.connectionpool] DEBUG: Starting new HTTPS connection (1): www.accenture.com:443\n"
     ]
    },
    {
     "name": "stdout",
     "output_type": "stream",
     "text": [
      "https://www.accenture.com//us-en/insights/communications-media/telco-future-workforce\n"
     ]
    },
    {
     "name": "stderr",
     "output_type": "stream",
     "text": [
      "2020-03-10 14:31:04 [urllib3.connectionpool] DEBUG: https://www.accenture.com:443 \"GET //us-en/insights/communications-media/telco-future-workforce HTTP/1.1\" 200 136385\n",
      "2020-03-10 14:31:05 [scrapy.core.engine] DEBUG: Crawled (200) <GET https://www.accenture.com//us-en/insights/digital/portals-big-data> (referer: None)\n",
      "2020-03-10 14:31:05 [scrapy.core.engine] DEBUG: Crawled (200) <GET https://www.accenture.com//us-en/insights/strategy/chemicals-analytics-ai> (referer: None)\n",
      "2020-03-10 14:31:05 [scrapy.core.engine] DEBUG: Crawled (200) <GET https://www.accenture.com//us-en/insights/software-platforms/state-of-cyber-resilience> (referer: None)\n",
      "2020-03-10 14:31:05 [scrapy.core.engine] DEBUG: Crawled (200) <GET https://www.accenture.com//us-en/insights/digital/accelerate-big-data-adoption> (referer: None)\n",
      "2020-03-10 14:31:05 [scrapy.core.engine] DEBUG: Crawled (200) <GET https://www.accenture.com//us-en/insights/financial-services/digital-opportunity-capital-markets-firms> (referer: None)\n",
      "2020-03-10 14:31:05 [scrapy.core.engine] DEBUG: Crawled (200) <GET https://www.accenture.com//us-en/insights/software-platforms/market-mix-optimization> (referer: None)\n",
      "2020-03-10 14:31:05 [scrapy.core.engine] DEBUG: Crawled (200) <GET https://www.accenture.com//us-en/insights/technology/nyc-emerging-tech> (referer: None)\n",
      "2020-03-10 14:31:05 [scrapy.core.engine] DEBUG: Crawled (200) <GET https://www.accenture.com//us-en/insights/financial-services/banks-well-prepared-digital-innovation> (referer: None)\n",
      "2020-03-10 14:31:05 [urllib3.connectionpool] DEBUG: Starting new HTTPS connection (1): www.accenture.com:443\n"
     ]
    },
    {
     "name": "stdout",
     "output_type": "stream",
     "text": [
      "https://www.accenture.com//us-en/insights/digital/portals-big-data\n"
     ]
    },
    {
     "name": "stderr",
     "output_type": "stream",
     "text": [
      "2020-03-10 14:31:05 [urllib3.connectionpool] DEBUG: https://www.accenture.com:443 \"GET //us-en/insights/digital/portals-big-data HTTP/1.1\" 200 128515\n",
      "2020-03-10 14:31:05 [urllib3.connectionpool] DEBUG: Starting new HTTPS connection (1): www.accenture.com:443\n"
     ]
    },
    {
     "name": "stdout",
     "output_type": "stream",
     "text": [
      "https://www.accenture.com//us-en/insights/strategy/chemicals-analytics-ai\n"
     ]
    },
    {
     "name": "stderr",
     "output_type": "stream",
     "text": [
      "2020-03-10 14:31:06 [urllib3.connectionpool] DEBUG: https://www.accenture.com:443 \"GET //us-en/insights/strategy/chemicals-analytics-ai HTTP/1.1\" 200 136395\n",
      "2020-03-10 14:31:06 [urllib3.connectionpool] DEBUG: Starting new HTTPS connection (1): www.accenture.com:443\n"
     ]
    },
    {
     "name": "stdout",
     "output_type": "stream",
     "text": [
      "https://www.accenture.com//us-en/insights/software-platforms/state-of-cyber-resilience\n"
     ]
    },
    {
     "name": "stderr",
     "output_type": "stream",
     "text": [
      "2020-03-10 14:31:07 [urllib3.connectionpool] DEBUG: https://www.accenture.com:443 \"GET //us-en/insights/software-platforms/state-of-cyber-resilience HTTP/1.1\" 200 143524\n",
      "2020-03-10 14:31:07 [urllib3.connectionpool] DEBUG: Starting new HTTPS connection (1): www.accenture.com:443\n"
     ]
    },
    {
     "name": "stdout",
     "output_type": "stream",
     "text": [
      "https://www.accenture.com//us-en/insights/digital/accelerate-big-data-adoption\n"
     ]
    },
    {
     "name": "stderr",
     "output_type": "stream",
     "text": [
      "2020-03-10 14:31:08 [urllib3.connectionpool] DEBUG: https://www.accenture.com:443 \"GET //us-en/insights/digital/accelerate-big-data-adoption HTTP/1.1\" 200 130259\n",
      "2020-03-10 14:31:08 [urllib3.connectionpool] DEBUG: Starting new HTTPS connection (1): www.accenture.com:443\n"
     ]
    },
    {
     "name": "stdout",
     "output_type": "stream",
     "text": [
      "https://www.accenture.com//us-en/insights/financial-services/digital-opportunity-capital-markets-firms\n"
     ]
    },
    {
     "name": "stderr",
     "output_type": "stream",
     "text": [
      "2020-03-10 14:31:09 [urllib3.connectionpool] DEBUG: https://www.accenture.com:443 \"GET //us-en/insights/financial-services/digital-opportunity-capital-markets-firms HTTP/1.1\" 200 152930\n",
      "2020-03-10 14:31:09 [urllib3.connectionpool] DEBUG: Starting new HTTPS connection (1): www.accenture.com:443\n"
     ]
    },
    {
     "name": "stdout",
     "output_type": "stream",
     "text": [
      "https://www.accenture.com//us-en/insights/software-platforms/market-mix-optimization\n"
     ]
    },
    {
     "name": "stderr",
     "output_type": "stream",
     "text": [
      "2020-03-10 14:31:10 [urllib3.connectionpool] DEBUG: https://www.accenture.com:443 \"GET //us-en/insights/software-platforms/market-mix-optimization HTTP/1.1\" 200 136781\n",
      "2020-03-10 14:31:10 [urllib3.connectionpool] DEBUG: Starting new HTTPS connection (1): www.accenture.com:443\n"
     ]
    },
    {
     "name": "stdout",
     "output_type": "stream",
     "text": [
      "https://www.accenture.com//us-en/insights/technology/nyc-emerging-tech\n"
     ]
    },
    {
     "name": "stderr",
     "output_type": "stream",
     "text": [
      "2020-03-10 14:31:11 [urllib3.connectionpool] DEBUG: https://www.accenture.com:443 \"GET //us-en/insights/technology/nyc-emerging-tech HTTP/1.1\" 200 137473\n",
      "2020-03-10 14:31:11 [urllib3.connectionpool] DEBUG: Starting new HTTPS connection (1): www.accenture.com:443\n"
     ]
    },
    {
     "name": "stdout",
     "output_type": "stream",
     "text": [
      "https://www.accenture.com//us-en/insights/financial-services/banks-well-prepared-digital-innovation\n"
     ]
    },
    {
     "name": "stderr",
     "output_type": "stream",
     "text": [
      "2020-03-10 14:31:12 [urllib3.connectionpool] DEBUG: https://www.accenture.com:443 \"GET //us-en/insights/financial-services/banks-well-prepared-digital-innovation HTTP/1.1\" 200 163685\n",
      "2020-03-10 14:31:12 [scrapy.core.engine] DEBUG: Crawled (200) <GET https://www.accenture.com//us-en/insights/us-federal-government/putting-intelligent-automation-work-federal> (referer: None)\n",
      "2020-03-10 14:31:12 [scrapy.core.engine] DEBUG: Crawled (200) <GET https://www.accenture.com//us-en/insights/public-service/new-tech-leader> (referer: None)\n",
      "2020-03-10 14:31:12 [scrapy.core.engine] DEBUG: Crawled (200) <GET https://www.accenture.com//us-en/insights/travel/airline-digital-workforce> (referer: None)\n",
      "2020-03-10 14:31:12 [scrapy.core.engine] DEBUG: Crawled (200) <GET https://www.accenture.com//us-en/insights/us-federal-government/change-experience> (referer: None)\n",
      "2020-03-10 14:31:12 [scrapy.core.engine] DEBUG: Crawled (200) <GET https://www.accenture.com//us-en/insights/retail/retail-analytics-to-unlock-growth> (referer: None)\n",
      "2020-03-10 14:31:12 [scrapy.core.engine] DEBUG: Crawled (200) <GET https://www.accenture.com//us-en/insights/chemicals/technology-vision-for-chemicals-2018> (referer: None)\n",
      "2020-03-10 14:31:12 [scrapy.core.engine] DEBUG: Crawled (200) <GET https://www.accenture.com//us-en/insights/strategy/corporate-venture-capital> (referer: None)\n",
      "2020-03-10 14:31:12 [scrapy.core.engine] DEBUG: Crawled (200) <GET https://www.accenture.com//us-en/insights/retail/omnichannel> (referer: None)\n",
      "2020-03-10 14:31:12 [urllib3.connectionpool] DEBUG: Starting new HTTPS connection (1): www.accenture.com:443\n"
     ]
    },
    {
     "name": "stdout",
     "output_type": "stream",
     "text": [
      "https://www.accenture.com//us-en/insights/us-federal-government/putting-intelligent-automation-work-federal\n"
     ]
    },
    {
     "name": "stderr",
     "output_type": "stream",
     "text": [
      "2020-03-10 14:31:13 [urllib3.connectionpool] DEBUG: https://www.accenture.com:443 \"GET //us-en/insights/us-federal-government/putting-intelligent-automation-work-federal HTTP/1.1\" 200 141718\n",
      "2020-03-10 14:31:13 [urllib3.connectionpool] DEBUG: Starting new HTTPS connection (1): www.accenture.com:443\n"
     ]
    },
    {
     "name": "stdout",
     "output_type": "stream",
     "text": [
      "https://www.accenture.com//us-en/insights/public-service/new-tech-leader\n"
     ]
    },
    {
     "name": "stderr",
     "output_type": "stream",
     "text": [
      "2020-03-10 14:31:13 [urllib3.connectionpool] DEBUG: https://www.accenture.com:443 \"GET //us-en/insights/public-service/new-tech-leader HTTP/1.1\" 200 146605\n",
      "2020-03-10 14:31:13 [urllib3.connectionpool] DEBUG: Starting new HTTPS connection (1): www.accenture.com:443\n"
     ]
    },
    {
     "name": "stdout",
     "output_type": "stream",
     "text": [
      "https://www.accenture.com//us-en/insights/travel/airline-digital-workforce\n"
     ]
    },
    {
     "name": "stderr",
     "output_type": "stream",
     "text": [
      "2020-03-10 14:31:14 [urllib3.connectionpool] DEBUG: https://www.accenture.com:443 \"GET //us-en/insights/travel/airline-digital-workforce HTTP/1.1\" 200 139869\n",
      "2020-03-10 14:31:14 [urllib3.connectionpool] DEBUG: Starting new HTTPS connection (1): www.accenture.com:443\n"
     ]
    },
    {
     "name": "stdout",
     "output_type": "stream",
     "text": [
      "https://www.accenture.com//us-en/insights/us-federal-government/change-experience\n"
     ]
    },
    {
     "name": "stderr",
     "output_type": "stream",
     "text": [
      "2020-03-10 14:31:15 [urllib3.connectionpool] DEBUG: https://www.accenture.com:443 \"GET //us-en/insights/us-federal-government/change-experience HTTP/1.1\" 200 134766\n",
      "2020-03-10 14:31:15 [urllib3.connectionpool] DEBUG: Starting new HTTPS connection (1): www.accenture.com:443\n"
     ]
    },
    {
     "name": "stdout",
     "output_type": "stream",
     "text": [
      "https://www.accenture.com//us-en/insights/retail/retail-analytics-to-unlock-growth\n"
     ]
    },
    {
     "name": "stderr",
     "output_type": "stream",
     "text": [
      "2020-03-10 14:31:16 [urllib3.connectionpool] DEBUG: https://www.accenture.com:443 \"GET //us-en/insights/retail/retail-analytics-to-unlock-growth HTTP/1.1\" 200 134819\n",
      "2020-03-10 14:31:16 [urllib3.connectionpool] DEBUG: Starting new HTTPS connection (1): www.accenture.com:443\n"
     ]
    },
    {
     "name": "stdout",
     "output_type": "stream",
     "text": [
      "https://www.accenture.com//us-en/insights/chemicals/technology-vision-for-chemicals-2018\n"
     ]
    },
    {
     "name": "stderr",
     "output_type": "stream",
     "text": [
      "2020-03-10 14:31:17 [urllib3.connectionpool] DEBUG: https://www.accenture.com:443 \"GET //us-en/insights/chemicals/technology-vision-for-chemicals-2018 HTTP/1.1\" 200 148271\n",
      "2020-03-10 14:31:17 [urllib3.connectionpool] DEBUG: Starting new HTTPS connection (1): www.accenture.com:443\n"
     ]
    },
    {
     "name": "stdout",
     "output_type": "stream",
     "text": [
      "https://www.accenture.com//us-en/insights/strategy/corporate-venture-capital\n"
     ]
    },
    {
     "name": "stderr",
     "output_type": "stream",
     "text": [
      "2020-03-10 14:31:18 [urllib3.connectionpool] DEBUG: https://www.accenture.com:443 \"GET //us-en/insights/strategy/corporate-venture-capital HTTP/1.1\" 200 132594\n",
      "2020-03-10 14:31:18 [urllib3.connectionpool] DEBUG: Starting new HTTPS connection (1): www.accenture.com:443\n"
     ]
    },
    {
     "name": "stdout",
     "output_type": "stream",
     "text": [
      "https://www.accenture.com//us-en/insights/retail/omnichannel\n"
     ]
    },
    {
     "name": "stderr",
     "output_type": "stream",
     "text": [
      "2020-03-10 14:31:19 [urllib3.connectionpool] DEBUG: https://www.accenture.com:443 \"GET //us-en/insights/retail/omnichannel HTTP/1.1\" 200 150817\n",
      "2020-03-10 14:31:19 [scrapy.core.engine] DEBUG: Crawled (200) <GET https://www.accenture.com//us-en/insights/life-sciences/creating-healthcare-future-today> (referer: None)\n",
      "2020-03-10 14:31:19 [scrapy.core.engine] DEBUG: Crawled (200) <GET https://www.accenture.com//us-en/podcast-innovation-decoded> (referer: None)\n",
      "2020-03-10 14:31:19 [scrapy.core.engine] DEBUG: Crawled (200) <GET https://www.accenture.com//us-en/insights/strategy/org-hacking-increase-effectiveness> (referer: None)\n",
      "2020-03-10 14:31:19 [scrapy.core.engine] DEBUG: Crawled (200) <GET https://www.accenture.com//us-en/insights/communications-media/how-telcos-harness-digital-for-growth> (referer: None)\n",
      "2020-03-10 14:31:19 [scrapy.core.engine] DEBUG: Crawled (200) <GET https://www.accenture.com//us-en/insights/operations/digital-finance-beyond-the-hype> (referer: None)\n",
      "2020-03-10 14:31:19 [scrapy.core.engine] DEBUG: Crawled (200) <GET https://www.accenture.com//us-en/insights/strategy/quartile-zero-based-thinking> (referer: None)\n",
      "2020-03-10 14:31:19 [scrapy.core.engine] DEBUG: Crawled (200) <GET https://www.accenture.com//us-en/insights/capital-markets/capital-markets-vision-2022> (referer: None)\n",
      "2020-03-10 14:31:19 [scrapy.core.engine] DEBUG: Crawled (200) <GET https://www.accenture.com//us-en/insights/insurance/cfo-research-insurance> (referer: None)\n",
      "2020-03-10 14:31:19 [urllib3.connectionpool] DEBUG: Starting new HTTPS connection (1): www.accenture.com:443\n"
     ]
    },
    {
     "name": "stdout",
     "output_type": "stream",
     "text": [
      "https://www.accenture.com//us-en/insights/life-sciences/creating-healthcare-future-today\n"
     ]
    },
    {
     "name": "stderr",
     "output_type": "stream",
     "text": [
      "2020-03-10 14:31:20 [urllib3.connectionpool] DEBUG: https://www.accenture.com:443 \"GET //us-en/insights/life-sciences/creating-healthcare-future-today HTTP/1.1\" 200 128788\n",
      "2020-03-10 14:31:20 [urllib3.connectionpool] DEBUG: Starting new HTTPS connection (1): www.accenture.com:443\n"
     ]
    },
    {
     "name": "stdout",
     "output_type": "stream",
     "text": [
      "https://www.accenture.com//us-en/podcast-innovation-decoded\n"
     ]
    },
    {
     "name": "stderr",
     "output_type": "stream",
     "text": [
      "2020-03-10 14:31:20 [urllib3.connectionpool] DEBUG: https://www.accenture.com:443 \"GET //us-en/podcast-innovation-decoded HTTP/1.1\" 200 166138\n",
      "2020-03-10 14:31:20 [urllib3.connectionpool] DEBUG: Starting new HTTPS connection (1): www.accenture.com:443\n"
     ]
    },
    {
     "name": "stdout",
     "output_type": "stream",
     "text": [
      "https://www.accenture.com//us-en/insights/strategy/org-hacking-increase-effectiveness\n"
     ]
    },
    {
     "name": "stderr",
     "output_type": "stream",
     "text": [
      "2020-03-10 14:31:21 [urllib3.connectionpool] DEBUG: https://www.accenture.com:443 \"GET //us-en/insights/strategy/org-hacking-increase-effectiveness HTTP/1.1\" 200 143453\n",
      "2020-03-10 14:31:21 [urllib3.connectionpool] DEBUG: Starting new HTTPS connection (1): www.accenture.com:443\n"
     ]
    },
    {
     "name": "stdout",
     "output_type": "stream",
     "text": [
      "https://www.accenture.com//us-en/insights/communications-media/how-telcos-harness-digital-for-growth\n"
     ]
    },
    {
     "name": "stderr",
     "output_type": "stream",
     "text": [
      "2020-03-10 14:31:22 [urllib3.connectionpool] DEBUG: https://www.accenture.com:443 \"GET //us-en/insights/communications-media/how-telcos-harness-digital-for-growth HTTP/1.1\" 200 142497\n",
      "2020-03-10 14:31:22 [urllib3.connectionpool] DEBUG: Starting new HTTPS connection (1): www.accenture.com:443\n"
     ]
    },
    {
     "name": "stdout",
     "output_type": "stream",
     "text": [
      "https://www.accenture.com//us-en/insights/operations/digital-finance-beyond-the-hype\n"
     ]
    },
    {
     "name": "stderr",
     "output_type": "stream",
     "text": [
      "2020-03-10 14:31:23 [urllib3.connectionpool] DEBUG: https://www.accenture.com:443 \"GET //us-en/insights/operations/digital-finance-beyond-the-hype HTTP/1.1\" 200 146734\n",
      "2020-03-10 14:31:23 [urllib3.connectionpool] DEBUG: Starting new HTTPS connection (1): www.accenture.com:443\n"
     ]
    },
    {
     "name": "stdout",
     "output_type": "stream",
     "text": [
      "https://www.accenture.com//us-en/insights/strategy/quartile-zero-based-thinking\n"
     ]
    },
    {
     "name": "stderr",
     "output_type": "stream",
     "text": [
      "2020-03-10 14:31:24 [urllib3.connectionpool] DEBUG: https://www.accenture.com:443 \"GET //us-en/insights/strategy/quartile-zero-based-thinking HTTP/1.1\" 200 132865\n",
      "2020-03-10 14:31:24 [urllib3.connectionpool] DEBUG: Starting new HTTPS connection (1): www.accenture.com:443\n"
     ]
    },
    {
     "name": "stdout",
     "output_type": "stream",
     "text": [
      "https://www.accenture.com//us-en/insights/capital-markets/capital-markets-vision-2022\n"
     ]
    },
    {
     "name": "stderr",
     "output_type": "stream",
     "text": [
      "2020-03-10 14:31:25 [urllib3.connectionpool] DEBUG: https://www.accenture.com:443 \"GET //us-en/insights/capital-markets/capital-markets-vision-2022 HTTP/1.1\" 200 159810\n",
      "2020-03-10 14:31:26 [urllib3.connectionpool] DEBUG: Starting new HTTPS connection (1): www.accenture.com:443\n"
     ]
    },
    {
     "name": "stdout",
     "output_type": "stream",
     "text": [
      "https://www.accenture.com//us-en/insights/insurance/cfo-research-insurance\n"
     ]
    },
    {
     "name": "stderr",
     "output_type": "stream",
     "text": [
      "2020-03-10 14:31:26 [urllib3.connectionpool] DEBUG: https://www.accenture.com:443 \"GET //us-en/insights/insurance/cfo-research-insurance HTTP/1.1\" 200 148186\n",
      "2020-03-10 14:31:26 [scrapy.core.engine] DEBUG: Crawled (200) <GET https://www.accenture.com//us-en/insights/strategy/supply-chain-humans-machines> (referer: None)\n",
      "2020-03-10 14:31:26 [scrapy.core.engine] DEBUG: Crawled (200) <GET https://www.accenture.com//us-en/insights/operations/hr-intelligence> (referer: None)\n",
      "2020-03-10 14:31:26 [scrapy.core.engine] DEBUG: Crawled (200) <GET https://www.accenture.com//us-en/insights/future-workforce/missing-middle-skills-human-ai-collaboration> (referer: None)\n",
      "2020-03-10 14:31:26 [scrapy.core.engine] DEBUG: Crawled (200) <GET https://www.accenture.com//us-en/insights/retail/retail-people-power> (referer: None)\n",
      "2020-03-10 14:31:26 [scrapy.core.engine] DEBUG: Crawled (200) <GET https://www.accenture.com//us-en/insights/strategy/intelligent-broker-insurance> (referer: None)\n",
      "2020-03-10 14:31:26 [scrapy.core.engine] DEBUG: Crawled (200) <GET https://www.accenture.com//us-en/insights/into-the-new> (referer: None)\n",
      "2020-03-10 14:31:26 [scrapy.core.engine] DEBUG: Crawled (200) <GET https://www.accenture.com//us-en/insights/banking/cfo-research-banking> (referer: None)\n",
      "2020-03-10 14:31:26 [scrapy.core.engine] DEBUG: Crawled (200) <GET https://www.accenture.com//us-en/insights/artificial-intelligence/intelligent-financial-crime-detection> (referer: None)\n",
      "2020-03-10 14:31:27 [urllib3.connectionpool] DEBUG: Starting new HTTPS connection (1): www.accenture.com:443\n"
     ]
    },
    {
     "name": "stdout",
     "output_type": "stream",
     "text": [
      "https://www.accenture.com//us-en/insights/strategy/supply-chain-humans-machines\n"
     ]
    },
    {
     "name": "stderr",
     "output_type": "stream",
     "text": [
      "2020-03-10 14:31:29 [urllib3.connectionpool] DEBUG: https://www.accenture.com:443 \"GET //us-en/insights/strategy/supply-chain-humans-machines HTTP/1.1\" 200 132501\n",
      "2020-03-10 14:31:29 [urllib3.connectionpool] DEBUG: Starting new HTTPS connection (1): www.accenture.com:443\n"
     ]
    },
    {
     "name": "stdout",
     "output_type": "stream",
     "text": [
      "https://www.accenture.com//us-en/insights/operations/hr-intelligence\n"
     ]
    },
    {
     "name": "stderr",
     "output_type": "stream",
     "text": [
      "2020-03-10 14:31:35 [urllib3.connectionpool] DEBUG: https://www.accenture.com:443 \"GET //us-en/insights/operations/hr-intelligence HTTP/1.1\" 200 135430\n",
      "2020-03-10 14:31:35 [urllib3.connectionpool] DEBUG: Starting new HTTPS connection (1): www.accenture.com:443\n"
     ]
    },
    {
     "name": "stdout",
     "output_type": "stream",
     "text": [
      "https://www.accenture.com//us-en/insights/future-workforce/missing-middle-skills-human-ai-collaboration\n"
     ]
    },
    {
     "name": "stderr",
     "output_type": "stream",
     "text": [
      "2020-03-10 14:31:36 [urllib3.connectionpool] DEBUG: https://www.accenture.com:443 \"GET //us-en/insights/future-workforce/missing-middle-skills-human-ai-collaboration HTTP/1.1\" 200 145607\n",
      "2020-03-10 14:31:36 [urllib3.connectionpool] DEBUG: Starting new HTTPS connection (1): www.accenture.com:443\n"
     ]
    },
    {
     "name": "stdout",
     "output_type": "stream",
     "text": [
      "https://www.accenture.com//us-en/insights/retail/retail-people-power\n"
     ]
    },
    {
     "name": "stderr",
     "output_type": "stream",
     "text": [
      "2020-03-10 14:31:37 [urllib3.connectionpool] DEBUG: https://www.accenture.com:443 \"GET //us-en/insights/retail/retail-people-power HTTP/1.1\" 200 145189\n",
      "2020-03-10 14:31:37 [urllib3.connectionpool] DEBUG: Starting new HTTPS connection (1): www.accenture.com:443\n"
     ]
    },
    {
     "name": "stdout",
     "output_type": "stream",
     "text": [
      "https://www.accenture.com//us-en/insights/strategy/intelligent-broker-insurance\n"
     ]
    },
    {
     "name": "stderr",
     "output_type": "stream",
     "text": [
      "2020-03-10 14:31:37 [urllib3.connectionpool] DEBUG: https://www.accenture.com:443 \"GET //us-en/insights/strategy/intelligent-broker-insurance HTTP/1.1\" 200 134225\n",
      "2020-03-10 14:31:37 [urllib3.connectionpool] DEBUG: Starting new HTTPS connection (1): www.accenture.com:443\n"
     ]
    },
    {
     "name": "stdout",
     "output_type": "stream",
     "text": [
      "https://www.accenture.com//us-en/insights/into-the-new\n"
     ]
    },
    {
     "name": "stderr",
     "output_type": "stream",
     "text": [
      "2020-03-10 14:31:38 [urllib3.connectionpool] DEBUG: https://www.accenture.com:443 \"GET //us-en/insights/into-the-new HTTP/1.1\" 200 172651\n",
      "2020-03-10 14:31:38 [urllib3.connectionpool] DEBUG: Starting new HTTPS connection (1): www.accenture.com:443\n"
     ]
    },
    {
     "name": "stdout",
     "output_type": "stream",
     "text": [
      "https://www.accenture.com//us-en/insights/banking/cfo-research-banking\n"
     ]
    },
    {
     "name": "stderr",
     "output_type": "stream",
     "text": [
      "2020-03-10 14:31:39 [urllib3.connectionpool] DEBUG: https://www.accenture.com:443 \"GET //us-en/insights/banking/cfo-research-banking HTTP/1.1\" 200 148797\n",
      "2020-03-10 14:31:39 [urllib3.connectionpool] DEBUG: Starting new HTTPS connection (1): www.accenture.com:443\n"
     ]
    },
    {
     "name": "stdout",
     "output_type": "stream",
     "text": [
      "https://www.accenture.com//us-en/insights/artificial-intelligence/intelligent-financial-crime-detection\n"
     ]
    },
    {
     "name": "stderr",
     "output_type": "stream",
     "text": [
      "2020-03-10 14:31:40 [urllib3.connectionpool] DEBUG: https://www.accenture.com:443 \"GET //us-en/insights/artificial-intelligence/intelligent-financial-crime-detection HTTP/1.1\" 200 146831\n",
      "2020-03-10 14:31:40 [scrapy.extensions.logstats] INFO: Crawled 235 pages (at 56 pages/min), scraped 0 items (at 0 items/min)\n",
      "2020-03-10 14:31:40 [scrapy.core.engine] DEBUG: Crawled (200) <GET https://www.accenture.com//us-en/insights/industry-x-0/digital-dividends> (referer: None)\n",
      "2020-03-10 14:31:40 [scrapy.core.engine] DEBUG: Crawled (200) <GET https://www.accenture.com//us-en/insights/natural-resources/adopting-digital-break-ehs-performance-plateau> (referer: None)\n",
      "2020-03-10 14:31:40 [scrapy.core.engine] DEBUG: Crawled (200) <GET https://www.accenture.com//us-en/insights/blockchain/ai-plus-blockchain> (referer: None)\n",
      "2020-03-10 14:31:40 [scrapy.core.engine] DEBUG: Crawled (200) <GET https://www.accenture.com//us-en/insights/industrial/rail-transit-dynamic-pricing> (referer: None)\n",
      "2020-03-10 14:31:40 [scrapy.core.engine] DEBUG: Crawled (200) <GET https://www.accenture.com//us-en/insights/security/nyc-continue-lead-way-cybersecurity> (referer: None)\n",
      "2020-03-10 14:31:40 [scrapy.core.engine] DEBUG: Crawled (200) <GET https://www.accenture.com//us-en/insights/financial-services/maximizing-revenue-growth-retail-banking> (referer: None)\n",
      "2020-03-10 14:31:40 [scrapy.core.engine] DEBUG: Crawled (200) <GET https://www.accenture.com//us-en/insights/consulting/cfo-research-industry> (referer: None)\n",
      "2020-03-10 14:31:40 [scrapy.core.engine] DEBUG: Crawled (200) <GET https://www.accenture.com//us-en/insights/industrial/combine-conquer-apac> (referer: None)\n",
      "2020-03-10 14:31:40 [urllib3.connectionpool] DEBUG: Starting new HTTPS connection (1): www.accenture.com:443\n"
     ]
    },
    {
     "name": "stdout",
     "output_type": "stream",
     "text": [
      "https://www.accenture.com//us-en/insights/industry-x-0/digital-dividends\n"
     ]
    },
    {
     "name": "stderr",
     "output_type": "stream",
     "text": [
      "2020-03-10 14:31:42 [urllib3.connectionpool] DEBUG: https://www.accenture.com:443 \"GET //us-en/insights/industry-x-0/digital-dividends HTTP/1.1\" 200 146496\n",
      "2020-03-10 14:31:42 [urllib3.connectionpool] DEBUG: Starting new HTTPS connection (1): www.accenture.com:443\n"
     ]
    },
    {
     "name": "stdout",
     "output_type": "stream",
     "text": [
      "https://www.accenture.com//us-en/insights/natural-resources/adopting-digital-break-ehs-performance-plateau\n"
     ]
    },
    {
     "name": "stderr",
     "output_type": "stream",
     "text": [
      "2020-03-10 14:31:43 [urllib3.connectionpool] DEBUG: https://www.accenture.com:443 \"GET //us-en/insights/natural-resources/adopting-digital-break-ehs-performance-plateau HTTP/1.1\" 200 138997\n",
      "2020-03-10 14:31:43 [urllib3.connectionpool] DEBUG: Starting new HTTPS connection (1): www.accenture.com:443\n"
     ]
    },
    {
     "name": "stdout",
     "output_type": "stream",
     "text": [
      "https://www.accenture.com//us-en/insights/blockchain/ai-plus-blockchain\n"
     ]
    },
    {
     "name": "stderr",
     "output_type": "stream",
     "text": [
      "2020-03-10 14:31:44 [urllib3.connectionpool] DEBUG: https://www.accenture.com:443 \"GET //us-en/insights/blockchain/ai-plus-blockchain HTTP/1.1\" 200 146838\n",
      "2020-03-10 14:31:44 [urllib3.connectionpool] DEBUG: Starting new HTTPS connection (1): www.accenture.com:443\n"
     ]
    },
    {
     "name": "stdout",
     "output_type": "stream",
     "text": [
      "https://www.accenture.com//us-en/insights/industrial/rail-transit-dynamic-pricing\n"
     ]
    },
    {
     "name": "stderr",
     "output_type": "stream",
     "text": [
      "2020-03-10 14:31:45 [urllib3.connectionpool] DEBUG: https://www.accenture.com:443 \"GET //us-en/insights/industrial/rail-transit-dynamic-pricing HTTP/1.1\" 200 134335\n",
      "2020-03-10 14:31:45 [urllib3.connectionpool] DEBUG: Starting new HTTPS connection (1): www.accenture.com:443\n"
     ]
    },
    {
     "name": "stdout",
     "output_type": "stream",
     "text": [
      "https://www.accenture.com//us-en/insights/security/nyc-continue-lead-way-cybersecurity\n"
     ]
    },
    {
     "name": "stderr",
     "output_type": "stream",
     "text": [
      "2020-03-10 14:31:46 [urllib3.connectionpool] DEBUG: https://www.accenture.com:443 \"GET //us-en/insights/security/nyc-continue-lead-way-cybersecurity HTTP/1.1\" 200 130764\n",
      "2020-03-10 14:31:46 [urllib3.connectionpool] DEBUG: Starting new HTTPS connection (1): www.accenture.com:443\n"
     ]
    },
    {
     "name": "stdout",
     "output_type": "stream",
     "text": [
      "https://www.accenture.com//us-en/insights/financial-services/maximizing-revenue-growth-retail-banking\n"
     ]
    },
    {
     "name": "stderr",
     "output_type": "stream",
     "text": [
      "2020-03-10 14:31:47 [urllib3.connectionpool] DEBUG: https://www.accenture.com:443 \"GET //us-en/insights/financial-services/maximizing-revenue-growth-retail-banking HTTP/1.1\" 200 141391\n",
      "2020-03-10 14:31:47 [urllib3.connectionpool] DEBUG: Starting new HTTPS connection (1): www.accenture.com:443\n"
     ]
    },
    {
     "name": "stdout",
     "output_type": "stream",
     "text": [
      "https://www.accenture.com//us-en/insights/consulting/cfo-research-industry\n"
     ]
    },
    {
     "name": "stderr",
     "output_type": "stream",
     "text": [
      "2020-03-10 14:31:47 [urllib3.connectionpool] DEBUG: https://www.accenture.com:443 \"GET //us-en/insights/consulting/cfo-research-industry HTTP/1.1\" 200 138718\n",
      "2020-03-10 14:31:48 [urllib3.connectionpool] DEBUG: Starting new HTTPS connection (1): www.accenture.com:443\n"
     ]
    },
    {
     "name": "stdout",
     "output_type": "stream",
     "text": [
      "https://www.accenture.com//us-en/insights/industrial/combine-conquer-apac\n"
     ]
    },
    {
     "name": "stderr",
     "output_type": "stream",
     "text": [
      "2020-03-10 14:31:54 [urllib3.connectionpool] DEBUG: https://www.accenture.com:443 \"GET //us-en/insights/industrial/combine-conquer-apac HTTP/1.1\" 200 132366\n",
      "2020-03-10 14:31:54 [scrapy.core.engine] DEBUG: Crawled (200) <GET https://www.accenture.com//us-en/insights/financial-services/tech-advisory-insurance-cloud-business-asset-north-america> (referer: None)\n",
      "2020-03-10 14:31:54 [scrapy.core.engine] DEBUG: Crawled (200) <GET https://www.accenture.com//us-en/insights/artificial-intelligence/reinventing-the-supply-chain> (referer: None)\n",
      "2020-03-10 14:31:54 [scrapy.core.engine] DEBUG: Crawled (200) <GET https://www.accenture.com//us-en/insights/digital/race-to-reinvent-healthcare> (referer: None)\n",
      "2020-03-10 14:31:54 [scrapy.core.engine] DEBUG: Crawled (200) <GET https://www.accenture.com//us-en/insights/digital/embedding-ai-reinvent-relevance-b2b> (referer: None)\n",
      "2020-03-10 14:31:54 [scrapy.core.engine] DEBUG: Crawled (200) <GET https://www.accenture.com//us-en/insights/strategy/agile-service-oriented-supply-chain> (referer: None)\n",
      "2020-03-10 14:31:54 [scrapy.core.engine] DEBUG: Crawled (200) <GET https://www.accenture.com//us-en/insights/artificial-intelligence/reinventing-service-ai> (referer: None)\n",
      "2020-03-10 14:31:54 [scrapy.core.engine] DEBUG: Crawled (200) <GET https://www.accenture.com//us-en/insights/artificial-intelligence/embedding-ai-reinvent-relevance> (referer: None)\n",
      "2020-03-10 14:31:54 [scrapy.core.engine] DEBUG: Crawled (200) <GET https://www.accenture.com//us-en/insights/living-business/living-business-research> (referer: None)\n",
      "2020-03-10 14:31:54 [urllib3.connectionpool] DEBUG: Starting new HTTPS connection (1): www.accenture.com:443\n"
     ]
    },
    {
     "name": "stdout",
     "output_type": "stream",
     "text": [
      "https://www.accenture.com//us-en/insights/financial-services/tech-advisory-insurance-cloud-business-asset-north-america\n"
     ]
    },
    {
     "name": "stderr",
     "output_type": "stream",
     "text": [
      "2020-03-10 14:31:55 [urllib3.connectionpool] DEBUG: https://www.accenture.com:443 \"GET //us-en/insights/financial-services/tech-advisory-insurance-cloud-business-asset-north-america HTTP/1.1\" 200 134136\n",
      "2020-03-10 14:31:55 [urllib3.connectionpool] DEBUG: Starting new HTTPS connection (1): www.accenture.com:443\n"
     ]
    },
    {
     "name": "stdout",
     "output_type": "stream",
     "text": [
      "https://www.accenture.com//us-en/insights/artificial-intelligence/reinventing-the-supply-chain\n"
     ]
    },
    {
     "name": "stderr",
     "output_type": "stream",
     "text": [
      "2020-03-10 14:31:55 [urllib3.connectionpool] DEBUG: https://www.accenture.com:443 \"GET //us-en/insights/artificial-intelligence/reinventing-the-supply-chain HTTP/1.1\" 200 139668\n",
      "2020-03-10 14:31:56 [urllib3.connectionpool] DEBUG: Starting new HTTPS connection (1): www.accenture.com:443\n"
     ]
    },
    {
     "name": "stdout",
     "output_type": "stream",
     "text": [
      "https://www.accenture.com//us-en/insights/digital/race-to-reinvent-healthcare\n"
     ]
    },
    {
     "name": "stderr",
     "output_type": "stream",
     "text": [
      "2020-03-10 14:31:56 [urllib3.connectionpool] DEBUG: https://www.accenture.com:443 \"GET //us-en/insights/digital/race-to-reinvent-healthcare HTTP/1.1\" 200 140102\n",
      "2020-03-10 14:31:56 [urllib3.connectionpool] DEBUG: Starting new HTTPS connection (1): www.accenture.com:443\n"
     ]
    },
    {
     "name": "stdout",
     "output_type": "stream",
     "text": [
      "https://www.accenture.com//us-en/insights/digital/embedding-ai-reinvent-relevance-b2b\n"
     ]
    },
    {
     "name": "stderr",
     "output_type": "stream",
     "text": [
      "2020-03-10 14:31:57 [urllib3.connectionpool] DEBUG: https://www.accenture.com:443 \"GET //us-en/insights/digital/embedding-ai-reinvent-relevance-b2b HTTP/1.1\" 200 138489\n",
      "2020-03-10 14:31:57 [urllib3.connectionpool] DEBUG: Starting new HTTPS connection (1): www.accenture.com:443\n"
     ]
    },
    {
     "name": "stdout",
     "output_type": "stream",
     "text": [
      "https://www.accenture.com//us-en/insights/strategy/agile-service-oriented-supply-chain\n"
     ]
    },
    {
     "name": "stderr",
     "output_type": "stream",
     "text": [
      "2020-03-10 14:31:58 [urllib3.connectionpool] DEBUG: https://www.accenture.com:443 \"GET //us-en/insights/strategy/agile-service-oriented-supply-chain HTTP/1.1\" 200 132168\n",
      "2020-03-10 14:31:58 [urllib3.connectionpool] DEBUG: Starting new HTTPS connection (1): www.accenture.com:443\n"
     ]
    },
    {
     "name": "stdout",
     "output_type": "stream",
     "text": [
      "https://www.accenture.com//us-en/insights/artificial-intelligence/reinventing-service-ai\n"
     ]
    },
    {
     "name": "stderr",
     "output_type": "stream",
     "text": [
      "2020-03-10 14:31:59 [urllib3.connectionpool] DEBUG: https://www.accenture.com:443 \"GET //us-en/insights/artificial-intelligence/reinventing-service-ai HTTP/1.1\" 200 138545\n",
      "2020-03-10 14:31:59 [urllib3.connectionpool] DEBUG: Starting new HTTPS connection (1): www.accenture.com:443\n"
     ]
    },
    {
     "name": "stdout",
     "output_type": "stream",
     "text": [
      "https://www.accenture.com//us-en/insights/artificial-intelligence/embedding-ai-reinvent-relevance\n"
     ]
    },
    {
     "name": "stderr",
     "output_type": "stream",
     "text": [
      "2020-03-10 14:32:00 [urllib3.connectionpool] DEBUG: https://www.accenture.com:443 \"GET //us-en/insights/artificial-intelligence/embedding-ai-reinvent-relevance HTTP/1.1\" 200 141593\n",
      "2020-03-10 14:32:00 [urllib3.connectionpool] DEBUG: Starting new HTTPS connection (1): www.accenture.com:443\n"
     ]
    },
    {
     "name": "stdout",
     "output_type": "stream",
     "text": [
      "https://www.accenture.com//us-en/insights/living-business/living-business-research\n"
     ]
    },
    {
     "name": "stderr",
     "output_type": "stream",
     "text": [
      "2020-03-10 14:32:01 [urllib3.connectionpool] DEBUG: https://www.accenture.com:443 \"GET //us-en/insights/living-business/living-business-research HTTP/1.1\" 200 402005\n",
      "2020-03-10 14:32:01 [scrapy.core.engine] DEBUG: Crawled (200) <GET https://www.accenture.com//us-en/insight-garter-magic-quadrant> (referer: None)\n",
      "2020-03-10 14:32:01 [scrapy.core.engine] DEBUG: Crawled (200) <GET https://www.accenture.com//us-en/insights/us-federal-government/essential-insights-ai-unleashed> (referer: None)\n",
      "2020-03-10 14:32:01 [scrapy.core.engine] DEBUG: Crawled (200) <GET https://www.accenture.com//us-en/insights/us-federal-government/ai-for-government-executives> (referer: None)\n",
      "2020-03-10 14:32:01 [scrapy.core.engine] DEBUG: Crawled (200) <GET https://www.accenture.com//us-en/insights/artificial-intelligence/putting-it-into-practice> (referer: None)\n",
      "2020-03-10 14:32:01 [scrapy.core.engine] DEBUG: Crawled (200) <GET https://www.accenture.com//us-en/insights/us-federal-government/five-government-ready-ai-use-cases> (referer: None)\n",
      "2020-03-10 14:32:01 [scrapy.core.engine] DEBUG: Crawled (200) <GET https://www.accenture.com//us-en/insights/us-federal-government/getting-started-right> (referer: None)\n",
      "2020-03-10 14:32:01 [scrapy.core.engine] DEBUG: Crawled (200) <GET https://www.accenture.com//us-en/insights/health/seniors-want-digital-medicare> (referer: None)\n",
      "2020-03-10 14:32:01 [scrapy.core.engine] DEBUG: Crawled (200) <GET https://www.accenture.com//us-en/company-inclusive-future-work> (referer: None)\n",
      "2020-03-10 14:32:01 [urllib3.connectionpool] DEBUG: Starting new HTTPS connection (1): www.accenture.com:443\n"
     ]
    },
    {
     "name": "stdout",
     "output_type": "stream",
     "text": [
      "https://www.accenture.com//us-en/insight-garter-magic-quadrant\n"
     ]
    },
    {
     "name": "stderr",
     "output_type": "stream",
     "text": [
      "2020-03-10 14:32:02 [urllib3.connectionpool] DEBUG: https://www.accenture.com:443 \"GET //us-en/insight-garter-magic-quadrant HTTP/1.1\" 200 127341\n",
      "2020-03-10 14:32:02 [urllib3.connectionpool] DEBUG: Starting new HTTPS connection (1): www.accenture.com:443\n"
     ]
    },
    {
     "name": "stdout",
     "output_type": "stream",
     "text": [
      "https://www.accenture.com//us-en/insights/us-federal-government/essential-insights-ai-unleashed\n"
     ]
    },
    {
     "name": "stderr",
     "output_type": "stream",
     "text": [
      "2020-03-10 14:32:03 [urllib3.connectionpool] DEBUG: https://www.accenture.com:443 \"GET //us-en/insights/us-federal-government/essential-insights-ai-unleashed HTTP/1.1\" 200 150199\n",
      "2020-03-10 14:32:03 [urllib3.connectionpool] DEBUG: Starting new HTTPS connection (1): www.accenture.com:443\n"
     ]
    },
    {
     "name": "stdout",
     "output_type": "stream",
     "text": [
      "https://www.accenture.com//us-en/insights/us-federal-government/ai-for-government-executives\n"
     ]
    },
    {
     "name": "stderr",
     "output_type": "stream",
     "text": [
      "2020-03-10 14:32:03 [urllib3.connectionpool] DEBUG: https://www.accenture.com:443 \"GET //us-en/insights/us-federal-government/ai-for-government-executives HTTP/1.1\" 200 145587\n",
      "2020-03-10 14:32:04 [urllib3.connectionpool] DEBUG: Starting new HTTPS connection (1): www.accenture.com:443\n"
     ]
    },
    {
     "name": "stdout",
     "output_type": "stream",
     "text": [
      "https://www.accenture.com//us-en/insights/artificial-intelligence/putting-it-into-practice\n"
     ]
    },
    {
     "name": "stderr",
     "output_type": "stream",
     "text": [
      "2020-03-10 14:32:09 [urllib3.connectionpool] DEBUG: https://www.accenture.com:443 \"GET //us-en/insights/artificial-intelligence/putting-it-into-practice HTTP/1.1\" 200 148663\n",
      "2020-03-10 14:32:09 [urllib3.connectionpool] DEBUG: Starting new HTTPS connection (1): www.accenture.com:443\n"
     ]
    },
    {
     "name": "stdout",
     "output_type": "stream",
     "text": [
      "https://www.accenture.com//us-en/insights/us-federal-government/five-government-ready-ai-use-cases\n"
     ]
    },
    {
     "name": "stderr",
     "output_type": "stream",
     "text": [
      "2020-03-10 14:32:10 [urllib3.connectionpool] DEBUG: https://www.accenture.com:443 \"GET //us-en/insights/us-federal-government/five-government-ready-ai-use-cases HTTP/1.1\" 200 147749\n",
      "2020-03-10 14:32:10 [urllib3.connectionpool] DEBUG: Starting new HTTPS connection (1): www.accenture.com:443\n"
     ]
    },
    {
     "name": "stdout",
     "output_type": "stream",
     "text": [
      "https://www.accenture.com//us-en/insights/us-federal-government/getting-started-right\n"
     ]
    },
    {
     "name": "stderr",
     "output_type": "stream",
     "text": [
      "2020-03-10 14:32:11 [urllib3.connectionpool] DEBUG: https://www.accenture.com:443 \"GET //us-en/insights/us-federal-government/getting-started-right HTTP/1.1\" 200 146286\n",
      "2020-03-10 14:32:11 [urllib3.connectionpool] DEBUG: Starting new HTTPS connection (1): www.accenture.com:443\n"
     ]
    },
    {
     "name": "stdout",
     "output_type": "stream",
     "text": [
      "https://www.accenture.com//us-en/insights/health/seniors-want-digital-medicare\n"
     ]
    },
    {
     "name": "stderr",
     "output_type": "stream",
     "text": [
      "2020-03-10 14:32:12 [urllib3.connectionpool] DEBUG: https://www.accenture.com:443 \"GET //us-en/insights/health/seniors-want-digital-medicare HTTP/1.1\" 200 148276\n",
      "2020-03-10 14:32:12 [urllib3.connectionpool] DEBUG: Starting new HTTPS connection (1): www.accenture.com:443\n"
     ]
    },
    {
     "name": "stdout",
     "output_type": "stream",
     "text": [
      "https://www.accenture.com//us-en/company-inclusive-future-work\n"
     ]
    },
    {
     "name": "stderr",
     "output_type": "stream",
     "text": [
      "2020-03-10 14:32:16 [urllib3.connectionpool] DEBUG: https://www.accenture.com:443 \"GET //us-en/company-inclusive-future-work HTTP/1.1\" 200 203397\n",
      "2020-03-10 14:32:16 [scrapy.core.engine] DEBUG: Crawled (200) <GET https://www.accenture.com//us-en/insights/insurance/efma-innovation-awards-2018> (referer: None)\n",
      "2020-03-10 14:32:16 [scrapy.core.engine] DEBUG: Crawled (200) <GET https://www.accenture.com//us-en/insights/artificial-intelligence/this-time-its-different> (referer: None)\n",
      "2020-03-10 14:32:16 [scrapy.core.engine] DEBUG: Crawled (200) <GET https://www.accenture.com//us-en/insights/artificial-intelligence/lets-make-it-happen> (referer: None)\n",
      "2020-03-10 14:32:16 [scrapy.core.engine] DEBUG: Crawled (200) <GET https://www.accenture.com//us-en/insights/artificial-intelligence/explainable-ai> (referer: None)\n",
      "2020-03-10 14:32:16 [scrapy.core.engine] DEBUG: Crawled (200) <GET https://www.accenture.com//us-en/insights/artificial-intelligence/get-the-bigger-picture> (referer: None)\n",
      "2020-03-10 14:32:16 [scrapy.core.engine] DEBUG: Crawled (200) <GET https://www.accenture.com//us-en/insights/artificial-intelligence/technology-revolution-like-no-other> (referer: None)\n",
      "2020-03-10 14:32:16 [scrapy.core.engine] DEBUG: Crawled (200) <GET https://www.accenture.com//us-en/insights/artificial-intelligence/what-ai-exactly> (referer: None)\n",
      "2020-03-10 14:32:16 [scrapy.core.engine] DEBUG: Crawled (200) <GET https://www.accenture.com//us-en/insights/artificial-intelligence/artificial-intelligence-explained-executives> (referer: None)\n",
      "2020-03-10 14:32:16 [urllib3.connectionpool] DEBUG: Starting new HTTPS connection (1): www.accenture.com:443\n"
     ]
    },
    {
     "name": "stdout",
     "output_type": "stream",
     "text": [
      "https://www.accenture.com//us-en/insights/insurance/efma-innovation-awards-2018\n"
     ]
    },
    {
     "name": "stderr",
     "output_type": "stream",
     "text": [
      "2020-03-10 14:32:17 [urllib3.connectionpool] DEBUG: https://www.accenture.com:443 \"GET //us-en/insights/insurance/efma-innovation-awards-2018 HTTP/1.1\" 200 129533\n",
      "2020-03-10 14:32:17 [urllib3.connectionpool] DEBUG: Starting new HTTPS connection (1): www.accenture.com:443\n"
     ]
    },
    {
     "name": "stdout",
     "output_type": "stream",
     "text": [
      "https://www.accenture.com//us-en/insights/artificial-intelligence/this-time-its-different\n"
     ]
    },
    {
     "name": "stderr",
     "output_type": "stream",
     "text": [
      "2020-03-10 14:32:18 [urllib3.connectionpool] DEBUG: https://www.accenture.com:443 \"GET //us-en/insights/artificial-intelligence/this-time-its-different HTTP/1.1\" 200 143144\n",
      "2020-03-10 14:32:18 [urllib3.connectionpool] DEBUG: Starting new HTTPS connection (1): www.accenture.com:443\n"
     ]
    },
    {
     "name": "stdout",
     "output_type": "stream",
     "text": [
      "https://www.accenture.com//us-en/insights/artificial-intelligence/lets-make-it-happen\n"
     ]
    },
    {
     "name": "stderr",
     "output_type": "stream",
     "text": [
      "2020-03-10 14:32:19 [urllib3.connectionpool] DEBUG: https://www.accenture.com:443 \"GET //us-en/insights/artificial-intelligence/lets-make-it-happen HTTP/1.1\" 200 141733\n",
      "2020-03-10 14:32:19 [urllib3.connectionpool] DEBUG: Starting new HTTPS connection (1): www.accenture.com:443\n"
     ]
    },
    {
     "name": "stdout",
     "output_type": "stream",
     "text": [
      "https://www.accenture.com//us-en/insights/artificial-intelligence/explainable-ai\n"
     ]
    },
    {
     "name": "stderr",
     "output_type": "stream",
     "text": [
      "2020-03-10 14:32:20 [urllib3.connectionpool] DEBUG: https://www.accenture.com:443 \"GET //us-en/insights/artificial-intelligence/explainable-ai HTTP/1.1\" 200 146778\n",
      "2020-03-10 14:32:20 [urllib3.connectionpool] DEBUG: Starting new HTTPS connection (1): www.accenture.com:443\n"
     ]
    },
    {
     "name": "stdout",
     "output_type": "stream",
     "text": [
      "https://www.accenture.com//us-en/insights/artificial-intelligence/get-the-bigger-picture\n"
     ]
    },
    {
     "name": "stderr",
     "output_type": "stream",
     "text": [
      "2020-03-10 14:32:21 [urllib3.connectionpool] DEBUG: https://www.accenture.com:443 \"GET //us-en/insights/artificial-intelligence/get-the-bigger-picture HTTP/1.1\" 200 142695\n",
      "2020-03-10 14:32:21 [urllib3.connectionpool] DEBUG: Starting new HTTPS connection (1): www.accenture.com:443\n"
     ]
    },
    {
     "name": "stdout",
     "output_type": "stream",
     "text": [
      "https://www.accenture.com//us-en/insights/artificial-intelligence/technology-revolution-like-no-other\n"
     ]
    },
    {
     "name": "stderr",
     "output_type": "stream",
     "text": [
      "2020-03-10 14:32:21 [urllib3.connectionpool] DEBUG: https://www.accenture.com:443 \"GET //us-en/insights/artificial-intelligence/technology-revolution-like-no-other HTTP/1.1\" 200 143003\n",
      "2020-03-10 14:32:22 [urllib3.connectionpool] DEBUG: Starting new HTTPS connection (1): www.accenture.com:443\n"
     ]
    },
    {
     "name": "stdout",
     "output_type": "stream",
     "text": [
      "https://www.accenture.com//us-en/insights/artificial-intelligence/what-ai-exactly\n"
     ]
    },
    {
     "name": "stderr",
     "output_type": "stream",
     "text": [
      "2020-03-10 14:32:23 [urllib3.connectionpool] DEBUG: https://www.accenture.com:443 \"GET //us-en/insights/artificial-intelligence/what-ai-exactly HTTP/1.1\" 200 147792\n",
      "2020-03-10 14:32:23 [urllib3.connectionpool] DEBUG: Starting new HTTPS connection (1): www.accenture.com:443\n"
     ]
    },
    {
     "name": "stdout",
     "output_type": "stream",
     "text": [
      "https://www.accenture.com//us-en/insights/artificial-intelligence/artificial-intelligence-explained-executives\n"
     ]
    },
    {
     "name": "stderr",
     "output_type": "stream",
     "text": [
      "2020-03-10 14:32:24 [urllib3.connectionpool] DEBUG: https://www.accenture.com:443 \"GET //us-en/insights/artificial-intelligence/artificial-intelligence-explained-executives HTTP/1.1\" 200 142001\n",
      "2020-03-10 14:32:24 [scrapy.core.engine] DEBUG: Crawled (200) <GET https://www.accenture.com//us-en/insights/financial-services/2018-state-of-cyber-resilience> (referer: None)\n",
      "2020-03-10 14:32:24 [scrapy.core.engine] DEBUG: Crawled (200) <GET https://www.accenture.com//us-en/insights/future-workforce/transforming-learning> (referer: None)\n",
      "2020-03-10 14:32:24 [scrapy.core.engine] DEBUG: Crawled (200) <GET https://www.accenture.com//us-en/insights/technology/sap-technology-vision-2018> (referer: None)\n",
      "2020-03-10 14:32:24 [scrapy.core.engine] DEBUG: Crawled (200) <GET https://www.accenture.com//us-en/insights/digital/critical-mass-managing-ai-unstoppable-progress> (referer: None)\n",
      "2020-03-10 14:32:24 [scrapy.core.engine] DEBUG: Crawled (200) <GET https://www.accenture.com//us-en/insights/strategy/unleashing-future-digital-finance> (referer: None)\n",
      "2020-03-10 14:32:24 [scrapy.core.engine] DEBUG: Crawled (200) <GET https://www.accenture.com//us-en/insights/strategy/zbx-back-office-future> (referer: None)\n",
      "2020-03-10 14:32:24 [scrapy.core.engine] DEBUG: Crawled (200) <GET https://www.accenture.com//us-en/insights/consumer-goods-services/technology-vision-consumer-goods> (referer: None)\n",
      "2020-03-10 14:32:24 [scrapy.core.engine] DEBUG: Crawled (200) <GET https://www.accenture.com//us-en/insights/strategy/insurance-workforce> (referer: None)\n",
      "2020-03-10 14:32:24 [urllib3.connectionpool] DEBUG: Starting new HTTPS connection (1): www.accenture.com:443\n"
     ]
    },
    {
     "name": "stdout",
     "output_type": "stream",
     "text": [
      "https://www.accenture.com//us-en/insights/financial-services/2018-state-of-cyber-resilience\n"
     ]
    },
    {
     "name": "stderr",
     "output_type": "stream",
     "text": [
      "2020-03-10 14:32:25 [urllib3.connectionpool] DEBUG: https://www.accenture.com:443 \"GET //us-en/insights/financial-services/2018-state-of-cyber-resilience HTTP/1.1\" 200 139764\n",
      "2020-03-10 14:32:25 [urllib3.connectionpool] DEBUG: Starting new HTTPS connection (1): www.accenture.com:443\n"
     ]
    },
    {
     "name": "stdout",
     "output_type": "stream",
     "text": [
      "https://www.accenture.com//us-en/insights/future-workforce/transforming-learning\n"
     ]
    },
    {
     "name": "stderr",
     "output_type": "stream",
     "text": [
      "2020-03-10 14:32:26 [urllib3.connectionpool] DEBUG: https://www.accenture.com:443 \"GET //us-en/insights/future-workforce/transforming-learning HTTP/1.1\" 200 167680\n",
      "2020-03-10 14:32:26 [urllib3.connectionpool] DEBUG: Starting new HTTPS connection (1): www.accenture.com:443\n"
     ]
    },
    {
     "name": "stdout",
     "output_type": "stream",
     "text": [
      "https://www.accenture.com//us-en/insights/technology/sap-technology-vision-2018\n"
     ]
    },
    {
     "name": "stderr",
     "output_type": "stream",
     "text": [
      "2020-03-10 14:32:27 [urllib3.connectionpool] DEBUG: https://www.accenture.com:443 \"GET //us-en/insights/technology/sap-technology-vision-2018 HTTP/1.1\" 200 141833\n",
      "2020-03-10 14:32:27 [urllib3.connectionpool] DEBUG: Starting new HTTPS connection (1): www.accenture.com:443\n"
     ]
    },
    {
     "name": "stdout",
     "output_type": "stream",
     "text": [
      "https://www.accenture.com//us-en/insights/digital/critical-mass-managing-ai-unstoppable-progress\n"
     ]
    },
    {
     "name": "stderr",
     "output_type": "stream",
     "text": [
      "2020-03-10 14:32:27 [urllib3.connectionpool] DEBUG: https://www.accenture.com:443 \"GET //us-en/insights/digital/critical-mass-managing-ai-unstoppable-progress HTTP/1.1\" 200 131599\n",
      "2020-03-10 14:32:27 [urllib3.connectionpool] DEBUG: Starting new HTTPS connection (1): www.accenture.com:443\n"
     ]
    },
    {
     "name": "stdout",
     "output_type": "stream",
     "text": [
      "https://www.accenture.com//us-en/insights/strategy/unleashing-future-digital-finance\n"
     ]
    },
    {
     "name": "stderr",
     "output_type": "stream",
     "text": [
      "2020-03-10 14:32:28 [urllib3.connectionpool] DEBUG: https://www.accenture.com:443 \"GET //us-en/insights/strategy/unleashing-future-digital-finance HTTP/1.1\" 200 138720\n",
      "2020-03-10 14:32:28 [urllib3.connectionpool] DEBUG: Starting new HTTPS connection (1): www.accenture.com:443\n"
     ]
    },
    {
     "name": "stdout",
     "output_type": "stream",
     "text": [
      "https://www.accenture.com//us-en/insights/strategy/zbx-back-office-future\n"
     ]
    },
    {
     "name": "stderr",
     "output_type": "stream",
     "text": [
      "2020-03-10 14:32:29 [urllib3.connectionpool] DEBUG: https://www.accenture.com:443 \"GET //us-en/insights/strategy/zbx-back-office-future HTTP/1.1\" 200 131988\n",
      "2020-03-10 14:32:29 [urllib3.connectionpool] DEBUG: Starting new HTTPS connection (1): www.accenture.com:443\n"
     ]
    },
    {
     "name": "stdout",
     "output_type": "stream",
     "text": [
      "https://www.accenture.com//us-en/insights/consumer-goods-services/technology-vision-consumer-goods\n"
     ]
    },
    {
     "name": "stderr",
     "output_type": "stream",
     "text": [
      "2020-03-10 14:32:30 [urllib3.connectionpool] DEBUG: https://www.accenture.com:443 \"GET //us-en/insights/consumer-goods-services/technology-vision-consumer-goods HTTP/1.1\" 200 143360\n",
      "2020-03-10 14:32:30 [urllib3.connectionpool] DEBUG: Starting new HTTPS connection (1): www.accenture.com:443\n"
     ]
    },
    {
     "name": "stdout",
     "output_type": "stream",
     "text": [
      "https://www.accenture.com//us-en/insights/strategy/insurance-workforce\n"
     ]
    },
    {
     "name": "stderr",
     "output_type": "stream",
     "text": [
      "2020-03-10 14:32:31 [urllib3.connectionpool] DEBUG: https://www.accenture.com:443 \"GET //us-en/insights/strategy/insurance-workforce HTTP/1.1\" 200 133018\n",
      "2020-03-10 14:32:31 [scrapy.core.engine] DEBUG: Crawled (200) <GET https://www.accenture.com//us-en/insights/high-tech/ai-aerospace-defense> (referer: None)\n",
      "2020-03-10 14:32:31 [scrapy.core.engine] DEBUG: Crawled (200) <GET https://www.accenture.com//us-en/insights/digital/accelerate-migration-enterprise-intelligence> (referer: None)\n",
      "2020-03-10 14:32:31 [scrapy.core.engine] DEBUG: Crawled (200) <GET https://www.accenture.com//us-en/insights/digital/digital-platforms> (referer: None)\n",
      "2020-03-10 14:32:31 [scrapy.core.engine] DEBUG: Crawled (200) <GET https://www.accenture.com//us-en/insights/public-service/us-gaap-readiness> (referer: None)\n",
      "2020-03-10 14:32:31 [scrapy.core.engine] DEBUG: Crawled (200) <GET https://www.accenture.com//us-en/insights/strategy/auto-suppliers-pivoting-new-growth> (referer: None)\n",
      "2020-03-10 14:32:31 [scrapy.core.engine] DEBUG: Crawled (200) <GET https://www.accenture.com//us-en/insights/technology/explainable-ai-human-machine> (referer: None)\n",
      "2020-03-10 14:32:31 [scrapy.core.engine] DEBUG: Crawled (200) <GET https://www.accenture.com//us-en/insights/public-service/government-as-a-platform> (referer: None)\n",
      "2020-03-10 14:32:31 [scrapy.core.engine] DEBUG: Crawled (200) <GET https://www.accenture.com//us-en/insights/technology/software-defined-hardware> (referer: None)\n",
      "2020-03-10 14:32:31 [urllib3.connectionpool] DEBUG: Starting new HTTPS connection (1): www.accenture.com:443\n"
     ]
    },
    {
     "name": "stdout",
     "output_type": "stream",
     "text": [
      "https://www.accenture.com//us-en/insights/high-tech/ai-aerospace-defense\n"
     ]
    },
    {
     "name": "stderr",
     "output_type": "stream",
     "text": [
      "2020-03-10 14:32:32 [urllib3.connectionpool] DEBUG: https://www.accenture.com:443 \"GET //us-en/insights/high-tech/ai-aerospace-defense HTTP/1.1\" 200 122831\n",
      "2020-03-10 14:32:32 [urllib3.connectionpool] DEBUG: Starting new HTTPS connection (1): www.accenture.com:443\n"
     ]
    },
    {
     "name": "stdout",
     "output_type": "stream",
     "text": [
      "https://www.accenture.com//us-en/insights/digital/accelerate-migration-enterprise-intelligence\n"
     ]
    },
    {
     "name": "stderr",
     "output_type": "stream",
     "text": [
      "2020-03-10 14:32:33 [urllib3.connectionpool] DEBUG: https://www.accenture.com:443 \"GET //us-en/insights/digital/accelerate-migration-enterprise-intelligence HTTP/1.1\" 200 134043\n",
      "2020-03-10 14:32:33 [urllib3.connectionpool] DEBUG: Starting new HTTPS connection (1): www.accenture.com:443\n"
     ]
    },
    {
     "name": "stdout",
     "output_type": "stream",
     "text": [
      "https://www.accenture.com//us-en/insights/digital/digital-platforms\n"
     ]
    },
    {
     "name": "stderr",
     "output_type": "stream",
     "text": [
      "2020-03-10 14:32:38 [urllib3.connectionpool] DEBUG: https://www.accenture.com:443 \"GET //us-en/insights/digital/digital-platforms HTTP/1.1\" 200 133958\n",
      "2020-03-10 14:32:38 [urllib3.connectionpool] DEBUG: Starting new HTTPS connection (1): www.accenture.com:443\n"
     ]
    },
    {
     "name": "stdout",
     "output_type": "stream",
     "text": [
      "https://www.accenture.com//us-en/insights/public-service/us-gaap-readiness\n"
     ]
    },
    {
     "name": "stderr",
     "output_type": "stream",
     "text": [
      "2020-03-10 14:32:39 [urllib3.connectionpool] DEBUG: https://www.accenture.com:443 \"GET //us-en/insights/public-service/us-gaap-readiness HTTP/1.1\" 200 145835\n",
      "2020-03-10 14:32:39 [urllib3.connectionpool] DEBUG: Starting new HTTPS connection (1): www.accenture.com:443\n"
     ]
    },
    {
     "name": "stdout",
     "output_type": "stream",
     "text": [
      "https://www.accenture.com//us-en/insights/strategy/auto-suppliers-pivoting-new-growth\n"
     ]
    },
    {
     "name": "stderr",
     "output_type": "stream",
     "text": [
      "2020-03-10 14:32:40 [urllib3.connectionpool] DEBUG: https://www.accenture.com:443 \"GET //us-en/insights/strategy/auto-suppliers-pivoting-new-growth HTTP/1.1\" 200 134273\n",
      "2020-03-10 14:32:40 [urllib3.connectionpool] DEBUG: Starting new HTTPS connection (1): www.accenture.com:443\n"
     ]
    },
    {
     "name": "stdout",
     "output_type": "stream",
     "text": [
      "https://www.accenture.com//us-en/insights/technology/explainable-ai-human-machine\n"
     ]
    },
    {
     "name": "stderr",
     "output_type": "stream",
     "text": [
      "2020-03-10 14:32:41 [urllib3.connectionpool] DEBUG: https://www.accenture.com:443 \"GET //us-en/insights/technology/explainable-ai-human-machine HTTP/1.1\" 200 153921\n",
      "2020-03-10 14:32:41 [urllib3.connectionpool] DEBUG: Starting new HTTPS connection (1): www.accenture.com:443\n"
     ]
    },
    {
     "name": "stdout",
     "output_type": "stream",
     "text": [
      "https://www.accenture.com//us-en/insights/public-service/government-as-a-platform\n"
     ]
    },
    {
     "name": "stderr",
     "output_type": "stream",
     "text": [
      "2020-03-10 14:32:42 [urllib3.connectionpool] DEBUG: https://www.accenture.com:443 \"GET //us-en/insights/public-service/government-as-a-platform HTTP/1.1\" 200 156470\n",
      "2020-03-10 14:32:42 [urllib3.connectionpool] DEBUG: Starting new HTTPS connection (1): www.accenture.com:443\n"
     ]
    },
    {
     "name": "stdout",
     "output_type": "stream",
     "text": [
      "https://www.accenture.com//us-en/insights/technology/software-defined-hardware\n"
     ]
    },
    {
     "name": "stderr",
     "output_type": "stream",
     "text": [
      "2020-03-10 14:32:43 [urllib3.connectionpool] DEBUG: https://www.accenture.com:443 \"GET //us-en/insights/technology/software-defined-hardware HTTP/1.1\" 200 147838\n",
      "2020-03-10 14:32:43 [scrapy.extensions.logstats] INFO: Crawled 283 pages (at 48 pages/min), scraped 0 items (at 0 items/min)\n",
      "2020-03-10 14:32:43 [scrapy.core.engine] DEBUG: Crawled (200) <GET https://www.accenture.com//us-en/insights/strategy/golden-age-gas> (referer: None)\n",
      "2020-03-10 14:32:43 [scrapy.core.engine] DEBUG: Crawled (200) <GET https://www.accenture.com//us-en/insights/life-sciences/ai-in-commercial-life-sciences> (referer: None)\n",
      "2020-03-10 14:32:43 [scrapy.core.engine] DEBUG: Crawled (200) <GET https://www.accenture.com//us-en/insights/strategy/things-impacting-healthcares-future-workforce> (referer: None)\n",
      "2020-03-10 14:32:43 [scrapy.core.engine] DEBUG: Crawled (200) <GET https://www.accenture.com//us-en/insights/strategy/sharing-economy-smart-phones-win> (referer: None)\n",
      "2020-03-10 14:32:43 [scrapy.core.engine] DEBUG: Crawled (200) <GET https://www.accenture.com//us-en/insights/strategy/hospitality-internet-of-things> (referer: None)\n",
      "2020-03-10 14:32:43 [scrapy.core.engine] DEBUG: Crawled (200) <GET https://www.accenture.com//us-en/insights/strategy/future-finance-practice-applied-intelligence> (referer: None)\n",
      "2020-03-10 14:32:43 [scrapy.core.engine] DEBUG: Crawled (200) <GET https://www.accenture.com//us-en/insights/strategy/zbb-digital-technologies> (referer: None)\n",
      "2020-03-10 14:32:43 [scrapy.core.engine] DEBUG: Crawled (200) <GET https://www.accenture.com//us-en/insights/strategy/upstream-oil-gas-digital> (referer: None)\n",
      "2020-03-10 14:32:43 [urllib3.connectionpool] DEBUG: Starting new HTTPS connection (1): www.accenture.com:443\n"
     ]
    },
    {
     "name": "stdout",
     "output_type": "stream",
     "text": [
      "https://www.accenture.com//us-en/insights/strategy/golden-age-gas\n"
     ]
    },
    {
     "name": "stderr",
     "output_type": "stream",
     "text": [
      "2020-03-10 14:32:44 [urllib3.connectionpool] DEBUG: https://www.accenture.com:443 \"GET //us-en/insights/strategy/golden-age-gas HTTP/1.1\" 200 131778\n",
      "2020-03-10 14:32:44 [urllib3.connectionpool] DEBUG: Starting new HTTPS connection (1): www.accenture.com:443\n"
     ]
    },
    {
     "name": "stdout",
     "output_type": "stream",
     "text": [
      "https://www.accenture.com//us-en/insights/life-sciences/ai-in-commercial-life-sciences\n"
     ]
    },
    {
     "name": "stderr",
     "output_type": "stream",
     "text": [
      "2020-03-10 14:32:44 [urllib3.connectionpool] DEBUG: https://www.accenture.com:443 \"GET //us-en/insights/life-sciences/ai-in-commercial-life-sciences HTTP/1.1\" 200 141592\n",
      "2020-03-10 14:32:44 [urllib3.connectionpool] DEBUG: Starting new HTTPS connection (1): www.accenture.com:443\n"
     ]
    },
    {
     "name": "stdout",
     "output_type": "stream",
     "text": [
      "https://www.accenture.com//us-en/insights/strategy/things-impacting-healthcares-future-workforce\n"
     ]
    },
    {
     "name": "stderr",
     "output_type": "stream",
     "text": [
      "2020-03-10 14:32:45 [urllib3.connectionpool] DEBUG: https://www.accenture.com:443 \"GET //us-en/insights/strategy/things-impacting-healthcares-future-workforce HTTP/1.1\" 200 132659\n",
      "2020-03-10 14:32:45 [urllib3.connectionpool] DEBUG: Starting new HTTPS connection (1): www.accenture.com:443\n"
     ]
    },
    {
     "name": "stdout",
     "output_type": "stream",
     "text": [
      "https://www.accenture.com//us-en/insights/strategy/sharing-economy-smart-phones-win\n"
     ]
    },
    {
     "name": "stderr",
     "output_type": "stream",
     "text": [
      "2020-03-10 14:32:46 [urllib3.connectionpool] DEBUG: https://www.accenture.com:443 \"GET //us-en/insights/strategy/sharing-economy-smart-phones-win HTTP/1.1\" 200 130880\n",
      "2020-03-10 14:32:46 [urllib3.connectionpool] DEBUG: Starting new HTTPS connection (1): www.accenture.com:443\n"
     ]
    },
    {
     "name": "stdout",
     "output_type": "stream",
     "text": [
      "https://www.accenture.com//us-en/insights/strategy/hospitality-internet-of-things\n"
     ]
    },
    {
     "name": "stderr",
     "output_type": "stream",
     "text": [
      "2020-03-10 14:32:47 [urllib3.connectionpool] DEBUG: https://www.accenture.com:443 \"GET //us-en/insights/strategy/hospitality-internet-of-things HTTP/1.1\" 200 139915\n",
      "2020-03-10 14:32:47 [urllib3.connectionpool] DEBUG: Starting new HTTPS connection (1): www.accenture.com:443\n"
     ]
    },
    {
     "name": "stdout",
     "output_type": "stream",
     "text": [
      "https://www.accenture.com//us-en/insights/strategy/future-finance-practice-applied-intelligence\n"
     ]
    },
    {
     "name": "stderr",
     "output_type": "stream",
     "text": [
      "2020-03-10 14:32:48 [urllib3.connectionpool] DEBUG: https://www.accenture.com:443 \"GET //us-en/insights/strategy/future-finance-practice-applied-intelligence HTTP/1.1\" 200 135476\n",
      "2020-03-10 14:32:48 [urllib3.connectionpool] DEBUG: Starting new HTTPS connection (1): www.accenture.com:443\n"
     ]
    },
    {
     "name": "stdout",
     "output_type": "stream",
     "text": [
      "https://www.accenture.com//us-en/insights/strategy/zbb-digital-technologies\n"
     ]
    },
    {
     "name": "stderr",
     "output_type": "stream",
     "text": [
      "2020-03-10 14:32:49 [urllib3.connectionpool] DEBUG: https://www.accenture.com:443 \"GET //us-en/insights/strategy/zbb-digital-technologies HTTP/1.1\" 200 135989\n",
      "2020-03-10 14:32:49 [urllib3.connectionpool] DEBUG: Starting new HTTPS connection (1): www.accenture.com:443\n"
     ]
    },
    {
     "name": "stdout",
     "output_type": "stream",
     "text": [
      "https://www.accenture.com//us-en/insights/strategy/upstream-oil-gas-digital\n"
     ]
    },
    {
     "name": "stderr",
     "output_type": "stream",
     "text": [
      "2020-03-10 14:32:49 [urllib3.connectionpool] DEBUG: https://www.accenture.com:443 \"GET //us-en/insights/strategy/upstream-oil-gas-digital HTTP/1.1\" 200 131755\n",
      "2020-03-10 14:32:49 [scrapy.core.engine] DEBUG: Crawled (200) <GET https://www.accenture.com//us-en/insights/strategy/health-payer-back-office> (referer: None)\n",
      "2020-03-10 14:32:49 [scrapy.core.engine] DEBUG: Crawled (200) <GET https://www.accenture.com//us-en/insights/software-platforms/charting-a-path-in-geospatial> (referer: None)\n",
      "2020-03-10 14:32:49 [scrapy.core.engine] DEBUG: Crawled (200) <GET https://www.accenture.com//us-en/insights/insurance/intelligent-solutions> (referer: None)\n",
      "2020-03-10 14:32:49 [scrapy.core.engine] DEBUG: Crawled (200) <GET https://www.accenture.com//us-en/insights/public-service/connected-officer-age-disruption> (referer: None)\n",
      "2020-03-10 14:32:50 [scrapy.core.engine] DEBUG: Crawled (200) <GET https://www.accenture.com//us-en/insights/operations/intelligent-health-operations> (referer: None)\n",
      "2020-03-10 14:32:50 [scrapy.core.engine] DEBUG: Crawled (200) <GET https://www.accenture.com//us-en/insights/technology/pega-technology-vision> (referer: None)\n",
      "2020-03-10 14:32:50 [scrapy.core.engine] DEBUG: Crawled (200) <GET https://www.accenture.com//us-en/insights/health/intelligent-payer-survival-guide> (referer: None)\n",
      "2020-03-10 14:32:50 [scrapy.core.engine] DEBUG: Crawled (200) <GET https://www.accenture.com//us-en/insights/consumer-goods-services/intelligent-supply-chain-consumer-goods> (referer: None)\n",
      "2020-03-10 14:32:50 [urllib3.connectionpool] DEBUG: Starting new HTTPS connection (1): www.accenture.com:443\n"
     ]
    },
    {
     "name": "stdout",
     "output_type": "stream",
     "text": [
      "https://www.accenture.com//us-en/insights/strategy/health-payer-back-office\n"
     ]
    },
    {
     "name": "stderr",
     "output_type": "stream",
     "text": [
      "2020-03-10 14:32:50 [urllib3.connectionpool] DEBUG: https://www.accenture.com:443 \"GET //us-en/insights/strategy/health-payer-back-office HTTP/1.1\" 200 143960\n",
      "2020-03-10 14:32:51 [urllib3.connectionpool] DEBUG: Starting new HTTPS connection (1): www.accenture.com:443\n"
     ]
    },
    {
     "name": "stdout",
     "output_type": "stream",
     "text": [
      "https://www.accenture.com//us-en/insights/software-platforms/charting-a-path-in-geospatial\n"
     ]
    },
    {
     "name": "stderr",
     "output_type": "stream",
     "text": [
      "2020-03-10 14:32:57 [urllib3.connectionpool] DEBUG: https://www.accenture.com:443 \"GET //us-en/insights/software-platforms/charting-a-path-in-geospatial HTTP/1.1\" 200 134227\n",
      "2020-03-10 14:32:57 [urllib3.connectionpool] DEBUG: Starting new HTTPS connection (1): www.accenture.com:443\n"
     ]
    },
    {
     "name": "stdout",
     "output_type": "stream",
     "text": [
      "https://www.accenture.com//us-en/insights/insurance/intelligent-solutions\n"
     ]
    },
    {
     "name": "stderr",
     "output_type": "stream",
     "text": [
      "2020-03-10 14:32:57 [urllib3.connectionpool] DEBUG: https://www.accenture.com:443 \"GET //us-en/insights/insurance/intelligent-solutions HTTP/1.1\" 200 131229\n",
      "2020-03-10 14:32:57 [urllib3.connectionpool] DEBUG: Starting new HTTPS connection (1): www.accenture.com:443\n"
     ]
    },
    {
     "name": "stdout",
     "output_type": "stream",
     "text": [
      "https://www.accenture.com//us-en/insights/public-service/connected-officer-age-disruption\n"
     ]
    },
    {
     "name": "stderr",
     "output_type": "stream",
     "text": [
      "2020-03-10 14:32:58 [urllib3.connectionpool] DEBUG: https://www.accenture.com:443 \"GET //us-en/insights/public-service/connected-officer-age-disruption HTTP/1.1\" 200 145046\n",
      "2020-03-10 14:32:58 [urllib3.connectionpool] DEBUG: Starting new HTTPS connection (1): www.accenture.com:443\n"
     ]
    },
    {
     "name": "stdout",
     "output_type": "stream",
     "text": [
      "https://www.accenture.com//us-en/insights/operations/intelligent-health-operations\n"
     ]
    },
    {
     "name": "stderr",
     "output_type": "stream",
     "text": [
      "2020-03-10 14:32:59 [urllib3.connectionpool] DEBUG: https://www.accenture.com:443 \"GET //us-en/insights/operations/intelligent-health-operations HTTP/1.1\" 200 139971\n",
      "2020-03-10 14:33:00 [urllib3.connectionpool] DEBUG: Starting new HTTPS connection (1): www.accenture.com:443\n"
     ]
    },
    {
     "name": "stdout",
     "output_type": "stream",
     "text": [
      "https://www.accenture.com//us-en/insights/technology/pega-technology-vision\n"
     ]
    },
    {
     "name": "stderr",
     "output_type": "stream",
     "text": [
      "2020-03-10 14:33:01 [urllib3.connectionpool] DEBUG: https://www.accenture.com:443 \"GET //us-en/insights/technology/pega-technology-vision HTTP/1.1\" 200 140447\n",
      "2020-03-10 14:33:01 [urllib3.connectionpool] DEBUG: Starting new HTTPS connection (1): www.accenture.com:443\n"
     ]
    },
    {
     "name": "stdout",
     "output_type": "stream",
     "text": [
      "https://www.accenture.com//us-en/insights/health/intelligent-payer-survival-guide\n"
     ]
    },
    {
     "name": "stderr",
     "output_type": "stream",
     "text": [
      "2020-03-10 14:33:02 [urllib3.connectionpool] DEBUG: https://www.accenture.com:443 \"GET //us-en/insights/health/intelligent-payer-survival-guide HTTP/1.1\" 200 161178\n",
      "2020-03-10 14:33:02 [urllib3.connectionpool] DEBUG: Starting new HTTPS connection (1): www.accenture.com:443\n"
     ]
    },
    {
     "name": "stdout",
     "output_type": "stream",
     "text": [
      "https://www.accenture.com//us-en/insights/consumer-goods-services/intelligent-supply-chain-consumer-goods\n"
     ]
    },
    {
     "name": "stderr",
     "output_type": "stream",
     "text": [
      "2020-03-10 14:33:03 [urllib3.connectionpool] DEBUG: https://www.accenture.com:443 \"GET //us-en/insights/consumer-goods-services/intelligent-supply-chain-consumer-goods HTTP/1.1\" 200 148369\n",
      "2020-03-10 14:33:03 [scrapy.core.engine] DEBUG: Crawled (200) <GET https://www.accenture.com//us-en/insights/strategy/chemicals-growth> (referer: None)\n",
      "2020-03-10 14:33:03 [scrapy.core.engine] DEBUG: Crawled (200) <GET https://www.accenture.com//us-en/insights/strategy/shared-services-analytics> (referer: None)\n",
      "2020-03-10 14:33:03 [scrapy.core.engine] DEBUG: Crawled (200) <GET https://www.accenture.com//us-en/insights/communications-media/power-of-three> (referer: None)\n",
      "2020-03-10 14:33:03 [scrapy.core.engine] DEBUG: Crawled (200) <GET https://www.accenture.com//us-en/insights/future-workforce/big-disconnect-ai-leaders-workforce> (referer: None)\n",
      "2020-03-10 14:33:03 [scrapy.core.engine] DEBUG: Crawled (200) <GET https://www.accenture.com//us-en/insights/cloud/achieve-cloud-value-with-emerging-tech> (referer: None)\n",
      "2020-03-10 14:33:03 [scrapy.core.engine] DEBUG: Crawled (200) <GET https://www.accenture.com//us-en/insights/consulting/podcast-robert-wollan> (referer: None)\n",
      "2020-03-10 14:33:03 [scrapy.core.engine] DEBUG: Crawled (200) <GET https://www.accenture.com//us-en/insights/operations/reimagining-processes-intelligent-operations> (referer: None)\n",
      "2020-03-10 14:33:03 [scrapy.core.engine] DEBUG: Crawled (200) <GET https://www.accenture.com//us-en/insights/health/digital-health-tech-vision-2018-webcast> (referer: None)\n",
      "2020-03-10 14:33:03 [urllib3.connectionpool] DEBUG: Starting new HTTPS connection (1): www.accenture.com:443\n"
     ]
    },
    {
     "name": "stdout",
     "output_type": "stream",
     "text": [
      "https://www.accenture.com//us-en/insights/strategy/chemicals-growth\n"
     ]
    },
    {
     "name": "stderr",
     "output_type": "stream",
     "text": [
      "2020-03-10 14:33:04 [urllib3.connectionpool] DEBUG: https://www.accenture.com:443 \"GET //us-en/insights/strategy/chemicals-growth HTTP/1.1\" 200 132003\n",
      "2020-03-10 14:33:04 [urllib3.connectionpool] DEBUG: Starting new HTTPS connection (1): www.accenture.com:443\n"
     ]
    },
    {
     "name": "stdout",
     "output_type": "stream",
     "text": [
      "https://www.accenture.com//us-en/insights/strategy/shared-services-analytics\n"
     ]
    },
    {
     "name": "stderr",
     "output_type": "stream",
     "text": [
      "2020-03-10 14:33:05 [urllib3.connectionpool] DEBUG: https://www.accenture.com:443 \"GET //us-en/insights/strategy/shared-services-analytics HTTP/1.1\" 200 142399\n",
      "2020-03-10 14:33:05 [urllib3.connectionpool] DEBUG: Starting new HTTPS connection (1): www.accenture.com:443\n"
     ]
    },
    {
     "name": "stdout",
     "output_type": "stream",
     "text": [
      "https://www.accenture.com//us-en/insights/communications-media/power-of-three\n"
     ]
    },
    {
     "name": "stderr",
     "output_type": "stream",
     "text": [
      "2020-03-10 14:33:06 [urllib3.connectionpool] DEBUG: https://www.accenture.com:443 \"GET //us-en/insights/communications-media/power-of-three HTTP/1.1\" 200 142678\n",
      "2020-03-10 14:33:06 [urllib3.connectionpool] DEBUG: Starting new HTTPS connection (1): www.accenture.com:443\n"
     ]
    },
    {
     "name": "stdout",
     "output_type": "stream",
     "text": [
      "https://www.accenture.com//us-en/insights/future-workforce/big-disconnect-ai-leaders-workforce\n"
     ]
    },
    {
     "name": "stderr",
     "output_type": "stream",
     "text": [
      "2020-03-10 14:33:07 [urllib3.connectionpool] DEBUG: https://www.accenture.com:443 \"GET //us-en/insights/future-workforce/big-disconnect-ai-leaders-workforce HTTP/1.1\" 200 150697\n",
      "2020-03-10 14:33:07 [urllib3.connectionpool] DEBUG: Starting new HTTPS connection (1): www.accenture.com:443\n"
     ]
    },
    {
     "name": "stdout",
     "output_type": "stream",
     "text": [
      "https://www.accenture.com//us-en/insights/cloud/achieve-cloud-value-with-emerging-tech\n"
     ]
    },
    {
     "name": "stderr",
     "output_type": "stream",
     "text": [
      "2020-03-10 14:33:08 [urllib3.connectionpool] DEBUG: https://www.accenture.com:443 \"GET //us-en/insights/cloud/achieve-cloud-value-with-emerging-tech HTTP/1.1\" 200 140246\n",
      "2020-03-10 14:33:08 [urllib3.connectionpool] DEBUG: Starting new HTTPS connection (1): www.accenture.com:443\n"
     ]
    },
    {
     "name": "stdout",
     "output_type": "stream",
     "text": [
      "https://www.accenture.com//us-en/insights/consulting/podcast-robert-wollan\n"
     ]
    },
    {
     "name": "stderr",
     "output_type": "stream",
     "text": [
      "2020-03-10 14:33:09 [urllib3.connectionpool] DEBUG: https://www.accenture.com:443 \"GET //us-en/insights/consulting/podcast-robert-wollan HTTP/1.1\" 200 132280\n",
      "2020-03-10 14:33:09 [urllib3.connectionpool] DEBUG: Starting new HTTPS connection (1): www.accenture.com:443\n"
     ]
    },
    {
     "name": "stdout",
     "output_type": "stream",
     "text": [
      "https://www.accenture.com//us-en/insights/operations/reimagining-processes-intelligent-operations\n"
     ]
    },
    {
     "name": "stderr",
     "output_type": "stream",
     "text": [
      "2020-03-10 14:33:10 [urllib3.connectionpool] DEBUG: https://www.accenture.com:443 \"GET //us-en/insights/operations/reimagining-processes-intelligent-operations HTTP/1.1\" 200 136205\n",
      "2020-03-10 14:33:10 [urllib3.connectionpool] DEBUG: Starting new HTTPS connection (1): www.accenture.com:443\n"
     ]
    },
    {
     "name": "stdout",
     "output_type": "stream",
     "text": [
      "https://www.accenture.com//us-en/insights/health/digital-health-tech-vision-2018-webcast\n"
     ]
    },
    {
     "name": "stderr",
     "output_type": "stream",
     "text": [
      "2020-03-10 14:33:11 [urllib3.connectionpool] DEBUG: https://www.accenture.com:443 \"GET //us-en/insights/health/digital-health-tech-vision-2018-webcast HTTP/1.1\" 200 155560\n",
      "2020-03-10 14:33:11 [scrapy.core.engine] DEBUG: Crawled (200) <GET https://www.accenture.com//us-en/insights/energy/digital-exploration-production-efforts-must-drive-value> (referer: None)\n",
      "2020-03-10 14:33:11 [scrapy.core.engine] DEBUG: Crawled (200) <GET https://www.accenture.com//us-en/insights/strategy/consumer-goods-supply-chain> (referer: None)\n",
      "2020-03-10 14:33:11 [scrapy.core.engine] DEBUG: Crawled (200) <GET https://www.accenture.com//us-en/insights/consulting/reskilling-workforce> (referer: None)\n",
      "2020-03-10 14:33:11 [scrapy.core.engine] DEBUG: Crawled (200) <GET https://www.accenture.com//us-en/insights/consulting/podcast-steve-culp> (referer: None)\n",
      "2020-03-10 14:33:11 [scrapy.core.engine] DEBUG: Crawled (200) <GET https://www.accenture.com//us-en/insights/life-sciences/unleashing-intelligent-enterprise-patients> (referer: None)\n",
      "2020-03-10 14:33:11 [scrapy.core.engine] DEBUG: Crawled (200) <GET https://www.accenture.com//us-en/insights/automotive/new-automotive-industrial-equipment> (referer: None)\n",
      "2020-03-10 14:33:11 [scrapy.core.engine] DEBUG: Crawled (200) <GET https://www.accenture.com//us-en/insights/strategy/oil-gas-compete-free> (referer: None)\n",
      "2020-03-10 14:33:11 [scrapy.core.engine] DEBUG: Crawled (200) <GET https://www.accenture.com//us-en/insights/strategy/intelligent-broker-automation> (referer: None)\n",
      "2020-03-10 14:33:11 [urllib3.connectionpool] DEBUG: Starting new HTTPS connection (1): www.accenture.com:443\n"
     ]
    },
    {
     "name": "stdout",
     "output_type": "stream",
     "text": [
      "https://www.accenture.com//us-en/insights/energy/digital-exploration-production-efforts-must-drive-value\n"
     ]
    },
    {
     "name": "stderr",
     "output_type": "stream",
     "text": [
      "2020-03-10 14:33:12 [urllib3.connectionpool] DEBUG: https://www.accenture.com:443 \"GET //us-en/insights/energy/digital-exploration-production-efforts-must-drive-value HTTP/1.1\" 200 127866\n",
      "2020-03-10 14:33:12 [urllib3.connectionpool] DEBUG: Starting new HTTPS connection (1): www.accenture.com:443\n"
     ]
    },
    {
     "name": "stdout",
     "output_type": "stream",
     "text": [
      "https://www.accenture.com//us-en/insights/strategy/consumer-goods-supply-chain\n"
     ]
    },
    {
     "name": "stderr",
     "output_type": "stream",
     "text": [
      "2020-03-10 14:33:13 [urllib3.connectionpool] DEBUG: https://www.accenture.com:443 \"GET //us-en/insights/strategy/consumer-goods-supply-chain HTTP/1.1\" 200 128118\n",
      "2020-03-10 14:33:13 [urllib3.connectionpool] DEBUG: Starting new HTTPS connection (1): www.accenture.com:443\n"
     ]
    },
    {
     "name": "stdout",
     "output_type": "stream",
     "text": [
      "https://www.accenture.com//us-en/insights/consulting/reskilling-workforce\n"
     ]
    },
    {
     "name": "stderr",
     "output_type": "stream",
     "text": [
      "2020-03-10 14:33:14 [urllib3.connectionpool] DEBUG: https://www.accenture.com:443 \"GET //us-en/insights/consulting/reskilling-workforce HTTP/1.1\" 200 149301\n",
      "2020-03-10 14:33:14 [urllib3.connectionpool] DEBUG: Starting new HTTPS connection (1): www.accenture.com:443\n"
     ]
    },
    {
     "name": "stdout",
     "output_type": "stream",
     "text": [
      "https://www.accenture.com//us-en/insights/consulting/podcast-steve-culp\n"
     ]
    },
    {
     "name": "stderr",
     "output_type": "stream",
     "text": [
      "2020-03-10 14:33:15 [urllib3.connectionpool] DEBUG: https://www.accenture.com:443 \"GET //us-en/insights/consulting/podcast-steve-culp HTTP/1.1\" 200 134471\n",
      "2020-03-10 14:33:15 [urllib3.connectionpool] DEBUG: Starting new HTTPS connection (1): www.accenture.com:443\n"
     ]
    },
    {
     "name": "stdout",
     "output_type": "stream",
     "text": [
      "https://www.accenture.com//us-en/insights/life-sciences/unleashing-intelligent-enterprise-patients\n"
     ]
    },
    {
     "name": "stderr",
     "output_type": "stream",
     "text": [
      "2020-03-10 14:33:16 [urllib3.connectionpool] DEBUG: https://www.accenture.com:443 \"GET //us-en/insights/life-sciences/unleashing-intelligent-enterprise-patients HTTP/1.1\" 200 139439\n",
      "2020-03-10 14:33:16 [urllib3.connectionpool] DEBUG: Starting new HTTPS connection (1): www.accenture.com:443\n"
     ]
    },
    {
     "name": "stdout",
     "output_type": "stream",
     "text": [
      "https://www.accenture.com//us-en/insights/automotive/new-automotive-industrial-equipment\n"
     ]
    },
    {
     "name": "stderr",
     "output_type": "stream",
     "text": [
      "2020-03-10 14:33:16 [urllib3.connectionpool] DEBUG: https://www.accenture.com:443 \"GET //us-en/insights/automotive/new-automotive-industrial-equipment HTTP/1.1\" 200 139785\n",
      "2020-03-10 14:33:17 [urllib3.connectionpool] DEBUG: Starting new HTTPS connection (1): www.accenture.com:443\n"
     ]
    },
    {
     "name": "stdout",
     "output_type": "stream",
     "text": [
      "https://www.accenture.com//us-en/insights/strategy/oil-gas-compete-free\n"
     ]
    },
    {
     "name": "stderr",
     "output_type": "stream",
     "text": [
      "2020-03-10 14:33:17 [urllib3.connectionpool] DEBUG: https://www.accenture.com:443 \"GET //us-en/insights/strategy/oil-gas-compete-free HTTP/1.1\" 200 137696\n",
      "2020-03-10 14:33:17 [urllib3.connectionpool] DEBUG: Starting new HTTPS connection (1): www.accenture.com:443\n"
     ]
    },
    {
     "name": "stdout",
     "output_type": "stream",
     "text": [
      "https://www.accenture.com//us-en/insights/strategy/intelligent-broker-automation\n"
     ]
    },
    {
     "name": "stderr",
     "output_type": "stream",
     "text": [
      "2020-03-10 14:33:18 [urllib3.connectionpool] DEBUG: https://www.accenture.com:443 \"GET //us-en/insights/strategy/intelligent-broker-automation HTTP/1.1\" 200 131883\n",
      "2020-03-10 14:33:18 [scrapy.core.engine] DEBUG: Crawled (200) <GET https://www.accenture.com//us-en/insights/public-service/blockchain-trust-mapping-new-trade-routes> (referer: None)\n",
      "2020-03-10 14:33:18 [scrapy.core.engine] DEBUG: Crawled (200) <GET https://www.accenture.com//us-en/insights/us-federal-government/process-reimagined> (referer: None)\n",
      "2020-03-10 14:33:18 [scrapy.core.engine] DEBUG: Crawled (200) <GET https://www.accenture.com//us-en/insights/strategy/supply-chain-segments> (referer: None)\n",
      "2020-03-10 14:33:18 [scrapy.core.engine] DEBUG: Crawled (200) <GET https://www.accenture.com//us-en/insights/capital-markets/wealth-management-future-ready-front-office> (referer: None)\n",
      "2020-03-10 14:33:18 [scrapy.core.engine] DEBUG: Crawled (200) <GET https://www.accenture.com//us-en/insights/health/healthcare-disruption-surges> (referer: None)\n",
      "2020-03-10 14:33:18 [scrapy.core.engine] DEBUG: Crawled (200) <GET https://www.accenture.com//us-en/insights/consulting/wise-pivot> (referer: None)\n",
      "2020-03-10 14:33:18 [scrapy.core.engine] DEBUG: Crawled (200) <GET https://www.accenture.com//us-en/insights/industry-x-0/2018-digital-refining-survey> (referer: None)\n",
      "2020-03-10 14:33:18 [scrapy.core.engine] DEBUG: Crawled (200) <GET https://www.accenture.com//us-en/insights/artificial-intelligence/ai-policy-chance-governments-play-catch-up-purpose> (referer: None)\n",
      "2020-03-10 14:33:18 [urllib3.connectionpool] DEBUG: Starting new HTTPS connection (1): www.accenture.com:443\n"
     ]
    },
    {
     "name": "stdout",
     "output_type": "stream",
     "text": [
      "https://www.accenture.com//us-en/insights/public-service/blockchain-trust-mapping-new-trade-routes\n"
     ]
    },
    {
     "name": "stderr",
     "output_type": "stream",
     "text": [
      "2020-03-10 14:33:19 [urllib3.connectionpool] DEBUG: https://www.accenture.com:443 \"GET //us-en/insights/public-service/blockchain-trust-mapping-new-trade-routes HTTP/1.1\" 200 138903\n",
      "2020-03-10 14:33:19 [urllib3.connectionpool] DEBUG: Starting new HTTPS connection (1): www.accenture.com:443\n"
     ]
    },
    {
     "name": "stdout",
     "output_type": "stream",
     "text": [
      "https://www.accenture.com//us-en/insights/us-federal-government/process-reimagined\n"
     ]
    },
    {
     "name": "stderr",
     "output_type": "stream",
     "text": [
      "2020-03-10 14:33:20 [urllib3.connectionpool] DEBUG: https://www.accenture.com:443 \"GET //us-en/insights/us-federal-government/process-reimagined HTTP/1.1\" 200 134357\n",
      "2020-03-10 14:33:21 [urllib3.connectionpool] DEBUG: Starting new HTTPS connection (1): www.accenture.com:443\n"
     ]
    },
    {
     "name": "stdout",
     "output_type": "stream",
     "text": [
      "https://www.accenture.com//us-en/insights/strategy/supply-chain-segments\n"
     ]
    },
    {
     "name": "stderr",
     "output_type": "stream",
     "text": [
      "2020-03-10 14:33:21 [urllib3.connectionpool] DEBUG: https://www.accenture.com:443 \"GET //us-en/insights/strategy/supply-chain-segments HTTP/1.1\" 200 130253\n",
      "2020-03-10 14:33:21 [urllib3.connectionpool] DEBUG: Starting new HTTPS connection (1): www.accenture.com:443\n"
     ]
    },
    {
     "name": "stdout",
     "output_type": "stream",
     "text": [
      "https://www.accenture.com//us-en/insights/capital-markets/wealth-management-future-ready-front-office\n"
     ]
    },
    {
     "name": "stderr",
     "output_type": "stream",
     "text": [
      "2020-03-10 14:33:22 [urllib3.connectionpool] DEBUG: https://www.accenture.com:443 \"GET //us-en/insights/capital-markets/wealth-management-future-ready-front-office HTTP/1.1\" 200 131566\n",
      "2020-03-10 14:33:22 [urllib3.connectionpool] DEBUG: Starting new HTTPS connection (1): www.accenture.com:443\n"
     ]
    },
    {
     "name": "stdout",
     "output_type": "stream",
     "text": [
      "https://www.accenture.com//us-en/insights/health/healthcare-disruption-surges\n"
     ]
    },
    {
     "name": "stderr",
     "output_type": "stream",
     "text": [
      "2020-03-10 14:33:23 [urllib3.connectionpool] DEBUG: https://www.accenture.com:443 \"GET //us-en/insights/health/healthcare-disruption-surges HTTP/1.1\" 200 141242\n",
      "2020-03-10 14:33:23 [urllib3.connectionpool] DEBUG: Starting new HTTPS connection (1): www.accenture.com:443\n"
     ]
    },
    {
     "name": "stdout",
     "output_type": "stream",
     "text": [
      "https://www.accenture.com//us-en/insights/consulting/wise-pivot\n"
     ]
    },
    {
     "name": "stderr",
     "output_type": "stream",
     "text": [
      "2020-03-10 14:33:24 [urllib3.connectionpool] DEBUG: https://www.accenture.com:443 \"GET //us-en/insights/consulting/wise-pivot HTTP/1.1\" 200 160333\n",
      "2020-03-10 14:33:24 [urllib3.connectionpool] DEBUG: Starting new HTTPS connection (1): www.accenture.com:443\n"
     ]
    },
    {
     "name": "stdout",
     "output_type": "stream",
     "text": [
      "https://www.accenture.com//us-en/insights/industry-x-0/2018-digital-refining-survey\n"
     ]
    },
    {
     "name": "stderr",
     "output_type": "stream",
     "text": [
      "2020-03-10 14:33:25 [urllib3.connectionpool] DEBUG: https://www.accenture.com:443 \"GET //us-en/insights/industry-x-0/2018-digital-refining-survey HTTP/1.1\" 200 144303\n",
      "2020-03-10 14:33:25 [urllib3.connectionpool] DEBUG: Starting new HTTPS connection (1): www.accenture.com:443\n"
     ]
    },
    {
     "name": "stdout",
     "output_type": "stream",
     "text": [
      "https://www.accenture.com//us-en/insights/artificial-intelligence/ai-policy-chance-governments-play-catch-up-purpose\n"
     ]
    },
    {
     "name": "stderr",
     "output_type": "stream",
     "text": [
      "2020-03-10 14:33:26 [urllib3.connectionpool] DEBUG: https://www.accenture.com:443 \"GET //us-en/insights/artificial-intelligence/ai-policy-chance-governments-play-catch-up-purpose HTTP/1.1\" 200 133036\n",
      "2020-03-10 14:33:26 [scrapy.core.engine] DEBUG: Crawled (200) <GET https://www.accenture.com//us-en/insights/high-tech/launchpad-relevance> (referer: None)\n",
      "2020-03-10 14:33:26 [scrapy.core.engine] DEBUG: Crawled (200) <GET https://www.accenture.com//us-en/insights/strategy/retail-artificial-intelligence> (referer: None)\n",
      "2020-03-10 14:33:26 [scrapy.core.engine] DEBUG: Crawled (200) <GET https://www.accenture.com//us-en/success-connecting-kenyan-consumers> (referer: None)\n",
      "2020-03-10 14:33:26 [scrapy.core.engine] DEBUG: Crawled (200) <GET https://www.accenture.com//us-en/insights/health/good-healthcare-customer-service-not-good-enough> (referer: None)\n",
      "2020-03-10 14:33:26 [scrapy.core.engine] DEBUG: Crawled (200) <GET https://www.accenture.com//us-en/insight-automotive-tech-vision> (referer: None)\n",
      "2020-03-10 14:33:26 [scrapy.core.engine] DEBUG: Crawled (200) <GET https://www.accenture.com//us-en/insights/chemicals/process-reimagined-chemicals> (referer: None)\n",
      "2020-03-10 14:33:26 [scrapy.core.engine] DEBUG: Crawled (200) <GET https://www.accenture.com//us-en/insights/natural-resources/process-reimagined-mining> (referer: None)\n",
      "2020-03-10 14:33:26 [scrapy.core.engine] DEBUG: Crawled (200) <GET https://www.accenture.com//us-en/insights/energy/cfo-survey> (referer: None)\n",
      "2020-03-10 14:33:26 [urllib3.connectionpool] DEBUG: Starting new HTTPS connection (1): www.accenture.com:443\n"
     ]
    },
    {
     "name": "stdout",
     "output_type": "stream",
     "text": [
      "https://www.accenture.com//us-en/insights/high-tech/launchpad-relevance\n"
     ]
    },
    {
     "name": "stderr",
     "output_type": "stream",
     "text": [
      "2020-03-10 14:33:27 [urllib3.connectionpool] DEBUG: https://www.accenture.com:443 \"GET //us-en/insights/high-tech/launchpad-relevance HTTP/1.1\" 200 123194\n",
      "2020-03-10 14:33:27 [urllib3.connectionpool] DEBUG: Starting new HTTPS connection (1): www.accenture.com:443\n"
     ]
    },
    {
     "name": "stdout",
     "output_type": "stream",
     "text": [
      "https://www.accenture.com//us-en/insights/strategy/retail-artificial-intelligence\n"
     ]
    },
    {
     "name": "stderr",
     "output_type": "stream",
     "text": [
      "2020-03-10 14:33:28 [urllib3.connectionpool] DEBUG: https://www.accenture.com:443 \"GET //us-en/insights/strategy/retail-artificial-intelligence HTTP/1.1\" 200 140731\n",
      "2020-03-10 14:33:28 [urllib3.connectionpool] DEBUG: Starting new HTTPS connection (1): www.accenture.com:443\n"
     ]
    },
    {
     "name": "stdout",
     "output_type": "stream",
     "text": [
      "https://www.accenture.com//us-en/success-connecting-kenyan-consumers\n"
     ]
    },
    {
     "name": "stderr",
     "output_type": "stream",
     "text": [
      "2020-03-10 14:33:30 [urllib3.connectionpool] DEBUG: https://www.accenture.com:443 \"GET //us-en/success-connecting-kenyan-consumers HTTP/1.1\" 200 131709\n",
      "2020-03-10 14:33:30 [urllib3.connectionpool] DEBUG: Starting new HTTPS connection (1): www.accenture.com:443\n"
     ]
    },
    {
     "name": "stdout",
     "output_type": "stream",
     "text": [
      "https://www.accenture.com//us-en/insights/health/good-healthcare-customer-service-not-good-enough\n"
     ]
    },
    {
     "name": "stderr",
     "output_type": "stream",
     "text": [
      "2020-03-10 14:33:31 [urllib3.connectionpool] DEBUG: https://www.accenture.com:443 \"GET //us-en/insights/health/good-healthcare-customer-service-not-good-enough HTTP/1.1\" 200 143727\n",
      "2020-03-10 14:33:31 [urllib3.connectionpool] DEBUG: Starting new HTTPS connection (1): www.accenture.com:443\n"
     ]
    },
    {
     "name": "stdout",
     "output_type": "stream",
     "text": [
      "https://www.accenture.com//us-en/insight-automotive-tech-vision\n"
     ]
    },
    {
     "name": "stderr",
     "output_type": "stream",
     "text": [
      "2020-03-10 14:33:32 [urllib3.connectionpool] DEBUG: https://www.accenture.com:443 \"GET //us-en/insight-automotive-tech-vision HTTP/1.1\" 200 140568\n",
      "2020-03-10 14:33:32 [urllib3.connectionpool] DEBUG: Starting new HTTPS connection (1): www.accenture.com:443\n"
     ]
    },
    {
     "name": "stdout",
     "output_type": "stream",
     "text": [
      "https://www.accenture.com//us-en/insights/chemicals/process-reimagined-chemicals\n"
     ]
    },
    {
     "name": "stderr",
     "output_type": "stream",
     "text": [
      "2020-03-10 14:33:33 [urllib3.connectionpool] DEBUG: https://www.accenture.com:443 \"GET //us-en/insights/chemicals/process-reimagined-chemicals HTTP/1.1\" 200 132097\n",
      "2020-03-10 14:33:33 [urllib3.connectionpool] DEBUG: Starting new HTTPS connection (1): www.accenture.com:443\n"
     ]
    },
    {
     "name": "stdout",
     "output_type": "stream",
     "text": [
      "https://www.accenture.com//us-en/insights/natural-resources/process-reimagined-mining\n"
     ]
    },
    {
     "name": "stderr",
     "output_type": "stream",
     "text": [
      "2020-03-10 14:33:34 [urllib3.connectionpool] DEBUG: https://www.accenture.com:443 \"GET //us-en/insights/natural-resources/process-reimagined-mining HTTP/1.1\" 200 132481\n",
      "2020-03-10 14:33:34 [urllib3.connectionpool] DEBUG: Starting new HTTPS connection (1): www.accenture.com:443\n"
     ]
    },
    {
     "name": "stdout",
     "output_type": "stream",
     "text": [
      "https://www.accenture.com//us-en/insights/energy/cfo-survey\n"
     ]
    },
    {
     "name": "stderr",
     "output_type": "stream",
     "text": [
      "2020-03-10 14:33:35 [urllib3.connectionpool] DEBUG: https://www.accenture.com:443 \"GET //us-en/insights/energy/cfo-survey HTTP/1.1\" 200 140779\n",
      "2020-03-10 14:33:35 [scrapy.core.engine] DEBUG: Crawled (200) <GET https://www.accenture.com//us-en/insights/natural-resources/process-reimagined-metals> (referer: None)\n",
      "2020-03-10 14:33:35 [scrapy.core.engine] DEBUG: Crawled (200) <GET https://www.accenture.com//us-en/insights/strategy/future-upstream-production-operations> (referer: None)\n",
      "2020-03-10 14:33:35 [scrapy.core.engine] DEBUG: Crawled (200) <GET https://www.accenture.com//us-en/insights/us-federal-government/federal-tech-vision-five-trends-shaping-government> (referer: None)\n",
      "2020-03-10 14:33:35 [scrapy.core.engine] DEBUG: Crawled (200) <GET https://www.accenture.com//us-en/insights/us-federal-government/federal-tech-vision-citizen-ai> (referer: None)\n",
      "2020-03-10 14:33:35 [scrapy.core.engine] DEBUG: Crawled (200) <GET https://www.accenture.com//us-en/insights/us-federal-government/federal-tech-vision-frictionless-business> (referer: None)\n",
      "2020-03-10 14:33:35 [scrapy.core.engine] DEBUG: Crawled (200) <GET https://www.accenture.com//us-en/insights/us-federal-government/federal-tech-vision-extended-reality> (referer: None)\n",
      "2020-03-10 14:33:35 [scrapy.core.engine] DEBUG: Crawled (200) <GET https://www.accenture.com//us-en/insights/us-federal-government/federal-tech-vision-data-integrity-veracity> (referer: None)\n",
      "2020-03-10 14:33:35 [scrapy.core.engine] DEBUG: Crawled (200) <GET https://www.accenture.com//us-en/insights/us-federal-government/federal-tech-vision-internet-of-thinking> (referer: None)\n",
      "2020-03-10 14:33:35 [urllib3.connectionpool] DEBUG: Starting new HTTPS connection (1): www.accenture.com:443\n"
     ]
    },
    {
     "name": "stdout",
     "output_type": "stream",
     "text": [
      "https://www.accenture.com//us-en/insights/natural-resources/process-reimagined-metals\n"
     ]
    },
    {
     "name": "stderr",
     "output_type": "stream",
     "text": [
      "2020-03-10 14:33:37 [urllib3.connectionpool] DEBUG: https://www.accenture.com:443 \"GET //us-en/insights/natural-resources/process-reimagined-metals HTTP/1.1\" 200 132452\n",
      "2020-03-10 14:33:38 [urllib3.connectionpool] DEBUG: Starting new HTTPS connection (1): www.accenture.com:443\n"
     ]
    },
    {
     "name": "stdout",
     "output_type": "stream",
     "text": [
      "https://www.accenture.com//us-en/insights/strategy/future-upstream-production-operations\n"
     ]
    },
    {
     "name": "stderr",
     "output_type": "stream",
     "text": [
      "2020-03-10 14:33:39 [urllib3.connectionpool] DEBUG: https://www.accenture.com:443 \"GET //us-en/insights/strategy/future-upstream-production-operations HTTP/1.1\" 200 131113\n",
      "2020-03-10 14:33:39 [urllib3.connectionpool] DEBUG: Starting new HTTPS connection (1): www.accenture.com:443\n"
     ]
    },
    {
     "name": "stdout",
     "output_type": "stream",
     "text": [
      "https://www.accenture.com//us-en/insights/us-federal-government/federal-tech-vision-five-trends-shaping-government\n"
     ]
    },
    {
     "name": "stderr",
     "output_type": "stream",
     "text": [
      "2020-03-10 14:33:40 [urllib3.connectionpool] DEBUG: https://www.accenture.com:443 \"GET //us-en/insights/us-federal-government/federal-tech-vision-five-trends-shaping-government HTTP/1.1\" 200 138542\n",
      "2020-03-10 14:33:40 [urllib3.connectionpool] DEBUG: Starting new HTTPS connection (1): www.accenture.com:443\n"
     ]
    },
    {
     "name": "stdout",
     "output_type": "stream",
     "text": [
      "https://www.accenture.com//us-en/insights/us-federal-government/federal-tech-vision-citizen-ai\n"
     ]
    },
    {
     "name": "stderr",
     "output_type": "stream",
     "text": [
      "2020-03-10 14:33:41 [urllib3.connectionpool] DEBUG: https://www.accenture.com:443 \"GET //us-en/insights/us-federal-government/federal-tech-vision-citizen-ai HTTP/1.1\" 200 146828\n",
      "2020-03-10 14:33:41 [urllib3.connectionpool] DEBUG: Starting new HTTPS connection (1): www.accenture.com:443\n"
     ]
    },
    {
     "name": "stdout",
     "output_type": "stream",
     "text": [
      "https://www.accenture.com//us-en/insights/us-federal-government/federal-tech-vision-frictionless-business\n"
     ]
    },
    {
     "name": "stderr",
     "output_type": "stream",
     "text": [
      "2020-03-10 14:33:42 [urllib3.connectionpool] DEBUG: https://www.accenture.com:443 \"GET //us-en/insights/us-federal-government/federal-tech-vision-frictionless-business HTTP/1.1\" 200 141304\n",
      "2020-03-10 14:33:42 [urllib3.connectionpool] DEBUG: Starting new HTTPS connection (1): www.accenture.com:443\n"
     ]
    },
    {
     "name": "stdout",
     "output_type": "stream",
     "text": [
      "https://www.accenture.com//us-en/insights/us-federal-government/federal-tech-vision-extended-reality\n"
     ]
    },
    {
     "name": "stderr",
     "output_type": "stream",
     "text": [
      "2020-03-10 14:33:43 [urllib3.connectionpool] DEBUG: https://www.accenture.com:443 \"GET //us-en/insights/us-federal-government/federal-tech-vision-extended-reality HTTP/1.1\" 200 140771\n",
      "2020-03-10 14:33:43 [urllib3.connectionpool] DEBUG: Starting new HTTPS connection (1): www.accenture.com:443\n"
     ]
    },
    {
     "name": "stdout",
     "output_type": "stream",
     "text": [
      "https://www.accenture.com//us-en/insights/us-federal-government/federal-tech-vision-data-integrity-veracity\n"
     ]
    },
    {
     "name": "stderr",
     "output_type": "stream",
     "text": [
      "2020-03-10 14:33:44 [urllib3.connectionpool] DEBUG: https://www.accenture.com:443 \"GET //us-en/insights/us-federal-government/federal-tech-vision-data-integrity-veracity HTTP/1.1\" 200 143367\n",
      "2020-03-10 14:33:45 [urllib3.connectionpool] DEBUG: Starting new HTTPS connection (1): www.accenture.com:443\n"
     ]
    },
    {
     "name": "stdout",
     "output_type": "stream",
     "text": [
      "https://www.accenture.com//us-en/insights/us-federal-government/federal-tech-vision-internet-of-thinking\n"
     ]
    },
    {
     "name": "stderr",
     "output_type": "stream",
     "text": [
      "2020-03-10 14:33:46 [urllib3.connectionpool] DEBUG: https://www.accenture.com:443 \"GET //us-en/insights/us-federal-government/federal-tech-vision-internet-of-thinking HTTP/1.1\" 200 140820\n",
      "2020-03-10 14:33:46 [scrapy.extensions.logstats] INFO: Crawled 339 pages (at 56 pages/min), scraped 0 items (at 0 items/min)\n",
      "2020-03-10 14:33:46 [scrapy.core.engine] DEBUG: Crawled (200) <GET https://www.accenture.com//us-en/insights/health/digital-health-tech-vision-2018-data-veracity> (referer: None)\n",
      "2020-03-10 14:33:46 [scrapy.core.engine] DEBUG: Crawled (200) <GET https://www.accenture.com//us-en/insights/health/digital-health-tech-vision-2018-internet-of-thinking> (referer: None)\n",
      "2020-03-10 14:33:46 [scrapy.core.engine] DEBUG: Crawled (200) <GET https://www.accenture.com//us-en/insights/health/digital-health-tech-vision-2018-extended-reality> (referer: None)\n",
      "2020-03-10 14:33:46 [scrapy.core.engine] DEBUG: Crawled (200) <GET https://www.accenture.com//us-en/insights/health/digital-health-tech-vision-2018> (referer: None)\n",
      "2020-03-10 14:33:46 [scrapy.core.engine] DEBUG: Crawled (200) <GET https://www.accenture.com//us-en/insights/future-workforce/sf-tech-jobs> (referer: None)\n",
      "2020-03-10 14:33:46 [scrapy.core.engine] DEBUG: Crawled (200) <GET https://www.accenture.com//us-en/insight-outlook-technology-vision-2018> (referer: None)\n",
      "2020-03-10 14:33:46 [scrapy.core.engine] DEBUG: Crawled (200) <GET https://www.accenture.com//us-en/insights/public-service/cctv-public-safety-zooming-new-era> (referer: None)\n",
      "2020-03-10 14:33:46 [scrapy.core.engine] DEBUG: Crawled (200) <GET https://www.accenture.com//us-en/insights/health/digital-health-tech-vision-2018-citizen-ai> (referer: None)\n",
      "2020-03-10 14:33:46 [urllib3.connectionpool] DEBUG: Starting new HTTPS connection (1): www.accenture.com:443\n"
     ]
    },
    {
     "name": "stdout",
     "output_type": "stream",
     "text": [
      "https://www.accenture.com//us-en/insights/health/digital-health-tech-vision-2018-data-veracity\n"
     ]
    },
    {
     "name": "stderr",
     "output_type": "stream",
     "text": [
      "2020-03-10 14:33:47 [urllib3.connectionpool] DEBUG: https://www.accenture.com:443 \"GET //us-en/insights/health/digital-health-tech-vision-2018-data-veracity HTTP/1.1\" 200 167621\n",
      "2020-03-10 14:33:47 [urllib3.connectionpool] DEBUG: Starting new HTTPS connection (1): www.accenture.com:443\n"
     ]
    },
    {
     "name": "stdout",
     "output_type": "stream",
     "text": [
      "https://www.accenture.com//us-en/insights/health/digital-health-tech-vision-2018-internet-of-thinking\n"
     ]
    },
    {
     "name": "stderr",
     "output_type": "stream",
     "text": [
      "2020-03-10 14:33:48 [urllib3.connectionpool] DEBUG: https://www.accenture.com:443 \"GET //us-en/insights/health/digital-health-tech-vision-2018-internet-of-thinking HTTP/1.1\" 200 169001\n",
      "2020-03-10 14:33:48 [urllib3.connectionpool] DEBUG: Starting new HTTPS connection (1): www.accenture.com:443\n"
     ]
    },
    {
     "name": "stdout",
     "output_type": "stream",
     "text": [
      "https://www.accenture.com//us-en/insights/health/digital-health-tech-vision-2018-extended-reality\n"
     ]
    },
    {
     "name": "stderr",
     "output_type": "stream",
     "text": [
      "2020-03-10 14:33:49 [urllib3.connectionpool] DEBUG: https://www.accenture.com:443 \"GET //us-en/insights/health/digital-health-tech-vision-2018-extended-reality HTTP/1.1\" 200 179897\n",
      "2020-03-10 14:33:49 [urllib3.connectionpool] DEBUG: Starting new HTTPS connection (1): www.accenture.com:443\n"
     ]
    },
    {
     "name": "stdout",
     "output_type": "stream",
     "text": [
      "https://www.accenture.com//us-en/insights/health/digital-health-tech-vision-2018\n"
     ]
    },
    {
     "name": "stderr",
     "output_type": "stream",
     "text": [
      "2020-03-10 14:33:50 [urllib3.connectionpool] DEBUG: https://www.accenture.com:443 \"GET //us-en/insights/health/digital-health-tech-vision-2018 HTTP/1.1\" 200 174677\n",
      "2020-03-10 14:33:50 [urllib3.connectionpool] DEBUG: Starting new HTTPS connection (1): www.accenture.com:443\n"
     ]
    },
    {
     "name": "stdout",
     "output_type": "stream",
     "text": [
      "https://www.accenture.com//us-en/insights/future-workforce/sf-tech-jobs\n"
     ]
    },
    {
     "name": "stderr",
     "output_type": "stream",
     "text": [
      "2020-03-10 14:33:51 [urllib3.connectionpool] DEBUG: https://www.accenture.com:443 \"GET //us-en/insights/future-workforce/sf-tech-jobs HTTP/1.1\" 200 140350\n",
      "2020-03-10 14:33:51 [urllib3.connectionpool] DEBUG: Starting new HTTPS connection (1): www.accenture.com:443\n"
     ]
    },
    {
     "name": "stdout",
     "output_type": "stream",
     "text": [
      "https://www.accenture.com//us-en/insight-outlook-technology-vision-2018\n"
     ]
    },
    {
     "name": "stderr",
     "output_type": "stream",
     "text": [
      "2020-03-10 14:33:52 [urllib3.connectionpool] DEBUG: https://www.accenture.com:443 \"GET //us-en/insight-outlook-technology-vision-2018 HTTP/1.1\" 200 136611\n",
      "2020-03-10 14:33:52 [urllib3.connectionpool] DEBUG: Starting new HTTPS connection (1): www.accenture.com:443\n"
     ]
    },
    {
     "name": "stdout",
     "output_type": "stream",
     "text": [
      "https://www.accenture.com//us-en/insights/public-service/cctv-public-safety-zooming-new-era\n"
     ]
    },
    {
     "name": "stderr",
     "output_type": "stream",
     "text": [
      "2020-03-10 14:33:53 [urllib3.connectionpool] DEBUG: https://www.accenture.com:443 \"GET //us-en/insights/public-service/cctv-public-safety-zooming-new-era HTTP/1.1\" 200 140580\n",
      "2020-03-10 14:33:53 [urllib3.connectionpool] DEBUG: Starting new HTTPS connection (1): www.accenture.com:443\n"
     ]
    },
    {
     "name": "stdout",
     "output_type": "stream",
     "text": [
      "https://www.accenture.com//us-en/insights/health/digital-health-tech-vision-2018-citizen-ai\n"
     ]
    },
    {
     "name": "stderr",
     "output_type": "stream",
     "text": [
      "2020-03-10 14:33:54 [urllib3.connectionpool] DEBUG: https://www.accenture.com:443 \"GET //us-en/insights/health/digital-health-tech-vision-2018-citizen-ai HTTP/1.1\" 200 172384\n",
      "2020-03-10 14:33:54 [scrapy.core.engine] DEBUG: Crawled (200) <GET https://www.accenture.com//us-en/insights/strategy/analytics-starting-blocks-quickly> (referer: None)\n",
      "2020-03-10 14:33:54 [scrapy.core.engine] DEBUG: Crawled (200) <GET https://www.accenture.com//us-en/insights/strategy/finance-leader-accelerate-digital-agenda-part2> (referer: None)\n",
      "2020-03-10 14:33:54 [scrapy.core.engine] DEBUG: Crawled (200) <GET https://www.accenture.com//us-en/insights/industry-x-0/supply-chain-research> (referer: None)\n",
      "2020-03-10 14:33:54 [scrapy.core.engine] DEBUG: Crawled (200) <GET https://www.accenture.com//us-en/insights/financial-services/impact-ai-gdp-middle-east> (referer: None)\n",
      "2020-03-10 14:33:54 [scrapy.core.engine] DEBUG: Crawled (200) <GET https://www.accenture.com//us-en/insights/industry-x-0/conversational-bots> (referer: None)\n",
      "2020-03-10 14:33:54 [scrapy.core.engine] DEBUG: Crawled (200) <GET https://www.accenture.com//us-en/insights/technology/oracle-technology-vision-2018> (referer: None)\n",
      "2020-03-10 14:33:54 [scrapy.core.engine] DEBUG: Crawled (200) <GET https://www.accenture.com//us-en/insights/strategy/zero-base-digital-value> (referer: None)\n",
      "2020-03-10 14:33:54 [scrapy.core.engine] DEBUG: Crawled (200) <GET https://www.accenture.com//us-en/insights/strategy/research-development-prescriptions> (referer: None)\n",
      "2020-03-10 14:33:54 [urllib3.connectionpool] DEBUG: Starting new HTTPS connection (1): www.accenture.com:443\n"
     ]
    },
    {
     "name": "stdout",
     "output_type": "stream",
     "text": [
      "https://www.accenture.com//us-en/insights/strategy/analytics-starting-blocks-quickly\n"
     ]
    },
    {
     "name": "stderr",
     "output_type": "stream",
     "text": [
      "2020-03-10 14:33:55 [urllib3.connectionpool] DEBUG: https://www.accenture.com:443 \"GET //us-en/insights/strategy/analytics-starting-blocks-quickly HTTP/1.1\" 200 137570\n",
      "2020-03-10 14:33:55 [urllib3.connectionpool] DEBUG: Starting new HTTPS connection (1): www.accenture.com:443\n"
     ]
    },
    {
     "name": "stdout",
     "output_type": "stream",
     "text": [
      "https://www.accenture.com//us-en/insights/strategy/finance-leader-accelerate-digital-agenda-part2\n"
     ]
    },
    {
     "name": "stderr",
     "output_type": "stream",
     "text": [
      "2020-03-10 14:33:56 [urllib3.connectionpool] DEBUG: https://www.accenture.com:443 \"GET //us-en/insights/strategy/finance-leader-accelerate-digital-agenda-part2 HTTP/1.1\" 200 135398\n",
      "2020-03-10 14:33:56 [urllib3.connectionpool] DEBUG: Starting new HTTPS connection (1): www.accenture.com:443\n"
     ]
    },
    {
     "name": "stdout",
     "output_type": "stream",
     "text": [
      "https://www.accenture.com//us-en/insights/industry-x-0/supply-chain-research\n"
     ]
    },
    {
     "name": "stderr",
     "output_type": "stream",
     "text": [
      "2020-03-10 14:33:57 [urllib3.connectionpool] DEBUG: https://www.accenture.com:443 \"GET //us-en/insights/industry-x-0/supply-chain-research HTTP/1.1\" 200 137299\n",
      "2020-03-10 14:33:57 [urllib3.connectionpool] DEBUG: Starting new HTTPS connection (1): www.accenture.com:443\n"
     ]
    },
    {
     "name": "stdout",
     "output_type": "stream",
     "text": [
      "https://www.accenture.com//us-en/insights/financial-services/impact-ai-gdp-middle-east\n"
     ]
    },
    {
     "name": "stderr",
     "output_type": "stream",
     "text": [
      "2020-03-10 14:33:58 [urllib3.connectionpool] DEBUG: https://www.accenture.com:443 \"GET //us-en/insights/financial-services/impact-ai-gdp-middle-east HTTP/1.1\" 200 132873\n",
      "2020-03-10 14:33:58 [urllib3.connectionpool] DEBUG: Starting new HTTPS connection (1): www.accenture.com:443\n"
     ]
    },
    {
     "name": "stdout",
     "output_type": "stream",
     "text": [
      "https://www.accenture.com//us-en/insights/industry-x-0/conversational-bots\n"
     ]
    },
    {
     "name": "stderr",
     "output_type": "stream",
     "text": [
      "2020-03-10 14:33:59 [urllib3.connectionpool] DEBUG: https://www.accenture.com:443 \"GET //us-en/insights/industry-x-0/conversational-bots HTTP/1.1\" 200 137040\n",
      "2020-03-10 14:33:59 [urllib3.connectionpool] DEBUG: Starting new HTTPS connection (1): www.accenture.com:443\n"
     ]
    },
    {
     "name": "stdout",
     "output_type": "stream",
     "text": [
      "https://www.accenture.com//us-en/insights/technology/oracle-technology-vision-2018\n"
     ]
    },
    {
     "name": "stderr",
     "output_type": "stream",
     "text": [
      "2020-03-10 14:34:01 [urllib3.connectionpool] DEBUG: https://www.accenture.com:443 \"GET //us-en/insights/technology/oracle-technology-vision-2018 HTTP/1.1\" 200 152121\n",
      "2020-03-10 14:34:01 [urllib3.connectionpool] DEBUG: Starting new HTTPS connection (1): www.accenture.com:443\n"
     ]
    },
    {
     "name": "stdout",
     "output_type": "stream",
     "text": [
      "https://www.accenture.com//us-en/insights/strategy/zero-base-digital-value\n"
     ]
    },
    {
     "name": "stderr",
     "output_type": "stream",
     "text": [
      "2020-03-10 14:34:02 [urllib3.connectionpool] DEBUG: https://www.accenture.com:443 \"GET //us-en/insights/strategy/zero-base-digital-value HTTP/1.1\" 200 140882\n",
      "2020-03-10 14:34:02 [urllib3.connectionpool] DEBUG: Starting new HTTPS connection (1): www.accenture.com:443\n"
     ]
    },
    {
     "name": "stdout",
     "output_type": "stream",
     "text": [
      "https://www.accenture.com//us-en/insights/strategy/research-development-prescriptions\n"
     ]
    },
    {
     "name": "stderr",
     "output_type": "stream",
     "text": [
      "2020-03-10 14:34:02 [urllib3.connectionpool] DEBUG: https://www.accenture.com:443 \"GET //us-en/insights/strategy/research-development-prescriptions HTTP/1.1\" 200 135042\n",
      "2020-03-10 14:34:03 [scrapy.core.engine] DEBUG: Crawled (200) <GET https://www.accenture.com//us-en/insights/financial-services/adaptive-workforce> (referer: None)\n",
      "2020-03-10 14:34:03 [scrapy.core.engine] DEBUG: Crawled (200) <GET https://www.accenture.com//us-en/insights/capital-markets/wealthtech-rise-wealth-platform> (referer: None)\n",
      "2020-03-10 14:34:03 [scrapy.core.engine] DEBUG: Crawled (200) <GET https://www.accenture.com//us-en/insights/strategy/us-employers-ai> (referer: None)\n",
      "2020-03-10 14:34:03 [scrapy.core.engine] DEBUG: Crawled (200) <GET https://www.accenture.com//us-en/insights/communications-media/rotate-new-bring-real-retail> (referer: None)\n",
      "2020-03-10 14:34:03 [scrapy.core.engine] DEBUG: Crawled (200) <GET https://www.accenture.com//us-en/insights/industry-x-0/ai-transforms-products> (referer: None)\n",
      "2020-03-10 14:34:03 [scrapy.core.engine] DEBUG: Crawled (200) <GET https://www.accenture.com//us-en/insights/health/healthcare-walking-ai-talk> (referer: None)\n",
      "2020-03-10 14:34:03 [scrapy.core.engine] DEBUG: Crawled (200) <GET https://www.accenture.com//us-en/insights/strategy/mergers-acquisitions-technology> (referer: None)\n",
      "2020-03-10 14:34:03 [scrapy.core.engine] DEBUG: Crawled (200) <GET https://www.accenture.com//us-en/insights/financial-services/emerging-trends-machine-learning> (referer: None)\n",
      "2020-03-10 14:34:03 [urllib3.connectionpool] DEBUG: Starting new HTTPS connection (1): www.accenture.com:443\n"
     ]
    },
    {
     "name": "stdout",
     "output_type": "stream",
     "text": [
      "https://www.accenture.com//us-en/insights/financial-services/adaptive-workforce\n"
     ]
    },
    {
     "name": "stderr",
     "output_type": "stream",
     "text": [
      "2020-03-10 14:34:03 [urllib3.connectionpool] DEBUG: https://www.accenture.com:443 \"GET //us-en/insights/financial-services/adaptive-workforce HTTP/1.1\" 200 129753\n",
      "2020-03-10 14:34:03 [urllib3.connectionpool] DEBUG: Starting new HTTPS connection (1): www.accenture.com:443\n"
     ]
    },
    {
     "name": "stdout",
     "output_type": "stream",
     "text": [
      "https://www.accenture.com//us-en/insights/capital-markets/wealthtech-rise-wealth-platform\n"
     ]
    },
    {
     "name": "stderr",
     "output_type": "stream",
     "text": [
      "2020-03-10 14:34:04 [urllib3.connectionpool] DEBUG: https://www.accenture.com:443 \"GET //us-en/insights/capital-markets/wealthtech-rise-wealth-platform HTTP/1.1\" 200 130545\n",
      "2020-03-10 14:34:04 [urllib3.connectionpool] DEBUG: Starting new HTTPS connection (1): www.accenture.com:443\n"
     ]
    },
    {
     "name": "stdout",
     "output_type": "stream",
     "text": [
      "https://www.accenture.com//us-en/insights/strategy/us-employers-ai\n"
     ]
    },
    {
     "name": "stderr",
     "output_type": "stream",
     "text": [
      "2020-03-10 14:34:05 [urllib3.connectionpool] DEBUG: https://www.accenture.com:443 \"GET //us-en/insights/strategy/us-employers-ai HTTP/1.1\" 200 133144\n",
      "2020-03-10 14:34:05 [urllib3.connectionpool] DEBUG: Starting new HTTPS connection (1): www.accenture.com:443\n"
     ]
    },
    {
     "name": "stdout",
     "output_type": "stream",
     "text": [
      "https://www.accenture.com//us-en/insights/communications-media/rotate-new-bring-real-retail\n"
     ]
    },
    {
     "name": "stderr",
     "output_type": "stream",
     "text": [
      "2020-03-10 14:34:06 [urllib3.connectionpool] DEBUG: https://www.accenture.com:443 \"GET //us-en/insights/communications-media/rotate-new-bring-real-retail HTTP/1.1\" 200 132250\n",
      "2020-03-10 14:34:06 [urllib3.connectionpool] DEBUG: Starting new HTTPS connection (1): www.accenture.com:443\n"
     ]
    },
    {
     "name": "stdout",
     "output_type": "stream",
     "text": [
      "https://www.accenture.com//us-en/insights/industry-x-0/ai-transforms-products\n"
     ]
    },
    {
     "name": "stderr",
     "output_type": "stream",
     "text": [
      "2020-03-10 14:34:07 [urllib3.connectionpool] DEBUG: https://www.accenture.com:443 \"GET //us-en/insights/industry-x-0/ai-transforms-products HTTP/1.1\" 200 150089\n",
      "2020-03-10 14:34:07 [urllib3.connectionpool] DEBUG: Starting new HTTPS connection (1): www.accenture.com:443\n"
     ]
    },
    {
     "name": "stdout",
     "output_type": "stream",
     "text": [
      "https://www.accenture.com//us-en/insights/health/healthcare-walking-ai-talk\n"
     ]
    },
    {
     "name": "stderr",
     "output_type": "stream",
     "text": [
      "2020-03-10 14:34:08 [urllib3.connectionpool] DEBUG: https://www.accenture.com:443 \"GET //us-en/insights/health/healthcare-walking-ai-talk HTTP/1.1\" 200 149235\n",
      "2020-03-10 14:34:08 [urllib3.connectionpool] DEBUG: Starting new HTTPS connection (1): www.accenture.com:443\n"
     ]
    },
    {
     "name": "stdout",
     "output_type": "stream",
     "text": [
      "https://www.accenture.com//us-en/insights/strategy/mergers-acquisitions-technology\n"
     ]
    },
    {
     "name": "stderr",
     "output_type": "stream",
     "text": [
      "2020-03-10 14:34:14 [urllib3.connectionpool] DEBUG: https://www.accenture.com:443 \"GET //us-en/insights/strategy/mergers-acquisitions-technology HTTP/1.1\" 200 131184\n",
      "2020-03-10 14:34:14 [urllib3.connectionpool] DEBUG: Starting new HTTPS connection (1): www.accenture.com:443\n"
     ]
    },
    {
     "name": "stdout",
     "output_type": "stream",
     "text": [
      "https://www.accenture.com//us-en/insights/financial-services/emerging-trends-machine-learning\n"
     ]
    },
    {
     "name": "stderr",
     "output_type": "stream",
     "text": [
      "2020-03-10 14:34:15 [urllib3.connectionpool] DEBUG: https://www.accenture.com:443 \"GET //us-en/insights/financial-services/emerging-trends-machine-learning HTTP/1.1\" 200 141243\n",
      "2020-03-10 14:34:15 [scrapy.core.engine] DEBUG: Crawled (200) <GET https://www.accenture.com//us-en/insights/strategy/owning-zbx-change> (referer: None)\n",
      "2020-03-10 14:34:15 [scrapy.core.engine] DEBUG: Crawled (200) <GET https://www.accenture.com//us-en/insights/financial-services/fintech-adoption-challenges> (referer: None)\n",
      "2020-03-10 14:34:15 [scrapy.core.engine] DEBUG: Crawled (200) <GET https://www.accenture.com//us-en/insights/strategy/finance-leader-accelerate-digital-agenda> (referer: None)\n",
      "2020-03-10 14:34:15 [scrapy.core.engine] DEBUG: Crawled (200) <GET https://www.accenture.com//us-en/insights/banking/technology-vision-banking-2018> (referer: None)\n",
      "2020-03-10 14:34:15 [scrapy.core.engine] DEBUG: Crawled (200) <GET https://www.accenture.com//us-en/insights/us-federal-government/tech-convergence-reshaping-navy> (referer: None)\n",
      "2020-03-10 14:34:15 [scrapy.core.engine] DEBUG: Crawled (200) <GET https://www.accenture.com//us-en/insights/strategy/blockchain-supply-chain> (referer: None)\n",
      "2020-03-10 14:34:15 [scrapy.core.engine] DEBUG: Crawled (200) <GET https://www.accenture.com//us-en/insights/technology/oracle-future> (referer: None)\n",
      "2020-03-10 14:34:15 [scrapy.core.engine] DEBUG: Crawled (200) <GET https://www.accenture.com//us-en/insight-us-navy-cx> (referer: None)\n",
      "2020-03-10 14:34:15 [urllib3.connectionpool] DEBUG: Starting new HTTPS connection (1): www.accenture.com:443\n"
     ]
    },
    {
     "name": "stdout",
     "output_type": "stream",
     "text": [
      "https://www.accenture.com//us-en/insights/strategy/owning-zbx-change\n"
     ]
    },
    {
     "name": "stderr",
     "output_type": "stream",
     "text": [
      "2020-03-10 14:34:16 [urllib3.connectionpool] DEBUG: https://www.accenture.com:443 \"GET //us-en/insights/strategy/owning-zbx-change HTTP/1.1\" 200 127432\n",
      "2020-03-10 14:34:16 [urllib3.connectionpool] DEBUG: Starting new HTTPS connection (1): www.accenture.com:443\n"
     ]
    },
    {
     "name": "stdout",
     "output_type": "stream",
     "text": [
      "https://www.accenture.com//us-en/insights/financial-services/fintech-adoption-challenges\n"
     ]
    },
    {
     "name": "stderr",
     "output_type": "stream",
     "text": [
      "2020-03-10 14:34:21 [urllib3.connectionpool] DEBUG: https://www.accenture.com:443 \"GET //us-en/insights/financial-services/fintech-adoption-challenges HTTP/1.1\" 200 122881\n",
      "2020-03-10 14:34:21 [urllib3.connectionpool] DEBUG: Starting new HTTPS connection (1): www.accenture.com:443\n"
     ]
    },
    {
     "name": "stdout",
     "output_type": "stream",
     "text": [
      "https://www.accenture.com//us-en/insights/strategy/finance-leader-accelerate-digital-agenda\n"
     ]
    },
    {
     "name": "stderr",
     "output_type": "stream",
     "text": [
      "2020-03-10 14:34:22 [urllib3.connectionpool] DEBUG: https://www.accenture.com:443 \"GET //us-en/insights/strategy/finance-leader-accelerate-digital-agenda HTTP/1.1\" 200 134206\n",
      "2020-03-10 14:34:22 [urllib3.connectionpool] DEBUG: Starting new HTTPS connection (1): www.accenture.com:443\n"
     ]
    },
    {
     "name": "stdout",
     "output_type": "stream",
     "text": [
      "https://www.accenture.com//us-en/insights/banking/technology-vision-banking-2018\n"
     ]
    },
    {
     "name": "stderr",
     "output_type": "stream",
     "text": [
      "2020-03-10 14:34:22 [urllib3.connectionpool] DEBUG: https://www.accenture.com:443 \"GET //us-en/insights/banking/technology-vision-banking-2018 HTTP/1.1\" 200 153197\n",
      "2020-03-10 14:34:22 [urllib3.connectionpool] DEBUG: Starting new HTTPS connection (1): www.accenture.com:443\n"
     ]
    },
    {
     "name": "stdout",
     "output_type": "stream",
     "text": [
      "https://www.accenture.com//us-en/insights/us-federal-government/tech-convergence-reshaping-navy\n"
     ]
    },
    {
     "name": "stderr",
     "output_type": "stream",
     "text": [
      "2020-03-10 14:34:23 [urllib3.connectionpool] DEBUG: https://www.accenture.com:443 \"GET //us-en/insights/us-federal-government/tech-convergence-reshaping-navy HTTP/1.1\" 200 135771\n",
      "2020-03-10 14:34:23 [urllib3.connectionpool] DEBUG: Starting new HTTPS connection (1): www.accenture.com:443\n"
     ]
    },
    {
     "name": "stdout",
     "output_type": "stream",
     "text": [
      "https://www.accenture.com//us-en/insights/strategy/blockchain-supply-chain\n"
     ]
    },
    {
     "name": "stderr",
     "output_type": "stream",
     "text": [
      "2020-03-10 14:34:24 [urllib3.connectionpool] DEBUG: https://www.accenture.com:443 \"GET //us-en/insights/strategy/blockchain-supply-chain HTTP/1.1\" 200 138830\n",
      "2020-03-10 14:34:24 [urllib3.connectionpool] DEBUG: Starting new HTTPS connection (1): www.accenture.com:443\n"
     ]
    },
    {
     "name": "stdout",
     "output_type": "stream",
     "text": [
      "https://www.accenture.com//us-en/insights/technology/oracle-future\n"
     ]
    },
    {
     "name": "stderr",
     "output_type": "stream",
     "text": [
      "2020-03-10 14:34:25 [urllib3.connectionpool] DEBUG: https://www.accenture.com:443 \"GET //us-en/insights/technology/oracle-future HTTP/1.1\" 200 134428\n",
      "2020-03-10 14:34:25 [urllib3.connectionpool] DEBUG: Starting new HTTPS connection (1): www.accenture.com:443\n"
     ]
    },
    {
     "name": "stdout",
     "output_type": "stream",
     "text": [
      "https://www.accenture.com//us-en/insight-us-navy-cx\n"
     ]
    },
    {
     "name": "stderr",
     "output_type": "stream",
     "text": [
      "2020-03-10 14:34:26 [urllib3.connectionpool] DEBUG: https://www.accenture.com:443 \"GET //us-en/insight-us-navy-cx HTTP/1.1\" 200 190170\n",
      "2020-03-10 14:34:26 [scrapy.core.engine] DEBUG: Crawled (200) <GET https://www.accenture.com//us-en/insights/security/2018-state-of-cyber-resilience-index> (referer: None)\n",
      "2020-03-10 14:34:27 [scrapy.core.engine] DEBUG: Crawled (200) <GET https://www.accenture.com//us-en/insights/banking/future-workforce-banking-survey> (referer: None)\n",
      "2020-03-10 14:34:27 [scrapy.core.engine] DEBUG: Crawled (200) <GET https://www.accenture.com//us-en/insights/public-service/artificial-intelligence-genuine-impact> (referer: None)\n",
      "2020-03-10 14:34:27 [scrapy.core.engine] DEBUG: Crawled (200) <GET https://www.accenture.com//us-en/insights/natural-resources/digital-forest-products-survey> (referer: None)\n",
      "2020-03-10 14:34:27 [scrapy.core.engine] DEBUG: Crawled (200) <GET https://www.accenture.com//us-en/insights/strategy/digitizing-mergers-acquisitions> (referer: None)\n",
      "2020-03-10 14:34:27 [scrapy.core.engine] DEBUG: Crawled (200) <GET https://www.accenture.com//us-en/insights/insurance/future-workforce-insurance-survey> (referer: None)\n",
      "2020-03-10 14:34:27 [scrapy.core.engine] DEBUG: Crawled (200) <GET https://www.accenture.com//us-en/insights/capital-markets/asset-management-silicon-valley-tech-trends> (referer: None)\n",
      "2020-03-10 14:34:27 [scrapy.core.engine] DEBUG: Crawled (200) <GET https://www.accenture.com//us-en/insight-effect-what-digital-drivers-want-aftersales> (referer: None)\n",
      "2020-03-10 14:34:27 [urllib3.connectionpool] DEBUG: Starting new HTTPS connection (1): www.accenture.com:443\n"
     ]
    },
    {
     "name": "stdout",
     "output_type": "stream",
     "text": [
      "https://www.accenture.com//us-en/insights/security/2018-state-of-cyber-resilience-index\n"
     ]
    },
    {
     "name": "stderr",
     "output_type": "stream",
     "text": [
      "2020-03-10 14:34:27 [urllib3.connectionpool] DEBUG: https://www.accenture.com:443 \"GET //us-en/insights/security/2018-state-of-cyber-resilience-index HTTP/1.1\" 200 144478\n",
      "2020-03-10 14:34:28 [urllib3.connectionpool] DEBUG: Starting new HTTPS connection (1): www.accenture.com:443\n"
     ]
    },
    {
     "name": "stdout",
     "output_type": "stream",
     "text": [
      "https://www.accenture.com//us-en/insights/banking/future-workforce-banking-survey\n"
     ]
    },
    {
     "name": "stderr",
     "output_type": "stream",
     "text": [
      "2020-03-10 14:34:28 [urllib3.connectionpool] DEBUG: https://www.accenture.com:443 \"GET //us-en/insights/banking/future-workforce-banking-survey HTTP/1.1\" 200 139399\n",
      "2020-03-10 14:34:29 [urllib3.connectionpool] DEBUG: Starting new HTTPS connection (1): www.accenture.com:443\n"
     ]
    },
    {
     "name": "stdout",
     "output_type": "stream",
     "text": [
      "https://www.accenture.com//us-en/insights/public-service/artificial-intelligence-genuine-impact\n"
     ]
    },
    {
     "name": "stderr",
     "output_type": "stream",
     "text": [
      "2020-03-10 14:34:29 [urllib3.connectionpool] DEBUG: https://www.accenture.com:443 \"GET //us-en/insights/public-service/artificial-intelligence-genuine-impact HTTP/1.1\" 200 132506\n",
      "2020-03-10 14:34:29 [urllib3.connectionpool] DEBUG: Starting new HTTPS connection (1): www.accenture.com:443\n"
     ]
    },
    {
     "name": "stdout",
     "output_type": "stream",
     "text": [
      "https://www.accenture.com//us-en/insights/natural-resources/digital-forest-products-survey\n"
     ]
    },
    {
     "name": "stderr",
     "output_type": "stream",
     "text": [
      "2020-03-10 14:34:30 [urllib3.connectionpool] DEBUG: https://www.accenture.com:443 \"GET //us-en/insights/natural-resources/digital-forest-products-survey HTTP/1.1\" 200 139183\n",
      "2020-03-10 14:34:30 [urllib3.connectionpool] DEBUG: Starting new HTTPS connection (1): www.accenture.com:443\n"
     ]
    },
    {
     "name": "stdout",
     "output_type": "stream",
     "text": [
      "https://www.accenture.com//us-en/insights/strategy/digitizing-mergers-acquisitions\n"
     ]
    },
    {
     "name": "stderr",
     "output_type": "stream",
     "text": [
      "2020-03-10 14:34:31 [urllib3.connectionpool] DEBUG: https://www.accenture.com:443 \"GET //us-en/insights/strategy/digitizing-mergers-acquisitions HTTP/1.1\" 200 141521\n",
      "2020-03-10 14:34:31 [urllib3.connectionpool] DEBUG: Starting new HTTPS connection (1): www.accenture.com:443\n"
     ]
    },
    {
     "name": "stdout",
     "output_type": "stream",
     "text": [
      "https://www.accenture.com//us-en/insights/insurance/future-workforce-insurance-survey\n"
     ]
    },
    {
     "name": "stderr",
     "output_type": "stream",
     "text": [
      "2020-03-10 14:34:32 [urllib3.connectionpool] DEBUG: https://www.accenture.com:443 \"GET //us-en/insights/insurance/future-workforce-insurance-survey HTTP/1.1\" 200 140610\n",
      "2020-03-10 14:34:32 [urllib3.connectionpool] DEBUG: Starting new HTTPS connection (1): www.accenture.com:443\n"
     ]
    },
    {
     "name": "stdout",
     "output_type": "stream",
     "text": [
      "https://www.accenture.com//us-en/insights/capital-markets/asset-management-silicon-valley-tech-trends\n"
     ]
    },
    {
     "name": "stderr",
     "output_type": "stream",
     "text": [
      "2020-03-10 14:34:33 [urllib3.connectionpool] DEBUG: https://www.accenture.com:443 \"GET //us-en/insights/capital-markets/asset-management-silicon-valley-tech-trends HTTP/1.1\" 200 132049\n",
      "2020-03-10 14:34:33 [urllib3.connectionpool] DEBUG: Starting new HTTPS connection (1): www.accenture.com:443\n"
     ]
    },
    {
     "name": "stdout",
     "output_type": "stream",
     "text": [
      "https://www.accenture.com//us-en/insight-effect-what-digital-drivers-want-aftersales\n"
     ]
    },
    {
     "name": "stderr",
     "output_type": "stream",
     "text": [
      "2020-03-10 14:34:34 [urllib3.connectionpool] DEBUG: https://www.accenture.com:443 \"GET //us-en/insight-effect-what-digital-drivers-want-aftersales HTTP/1.1\" 200 176877\n",
      "2020-03-10 14:34:34 [scrapy.core.engine] DEBUG: Crawled (200) <GET https://www.accenture.com//us-en/insights/travel/game-changing-trends-travel> (referer: None)\n",
      "2020-03-10 14:34:34 [scrapy.core.engine] DEBUG: Crawled (200) <GET https://www.accenture.com//us-en/insights/future-workforce/artificial-intelligence-blockchain-techforgood> (referer: None)\n",
      "2020-03-10 14:34:34 [scrapy.core.engine] DEBUG: Crawled (200) <GET https://www.accenture.com//us-en/insights/banking/north-america-banking-operations-survey> (referer: None)\n",
      "2020-03-10 14:34:34 [scrapy.core.engine] DEBUG: Crawled (200) <GET https://www.accenture.com//us-en/insights/strategy/develop-future-it-workforce> (referer: None)\n",
      "2020-03-10 14:34:34 [scrapy.core.engine] DEBUG: Crawled (200) <GET https://www.accenture.com//us-en/insights/insurance/ai-redefines-insurance> (referer: None)\n",
      "2020-03-10 14:34:34 [scrapy.core.engine] DEBUG: Crawled (200) <GET https://www.accenture.com//us-en/insight-manufacturing-the-future> (referer: None)\n",
      "2020-03-10 14:34:34 [scrapy.core.engine] DEBUG: Crawled (200) <GET https://www.accenture.com//us-en/insights/artificial-intelligence/insight-responsible-ai> (referer: None)\n",
      "2020-03-10 14:34:34 [scrapy.core.engine] DEBUG: Crawled (200) <GET https://www.accenture.com//us-en/service-federal-it-playbook> (referer: None)\n",
      "2020-03-10 14:34:34 [urllib3.connectionpool] DEBUG: Starting new HTTPS connection (1): www.accenture.com:443\n"
     ]
    },
    {
     "name": "stdout",
     "output_type": "stream",
     "text": [
      "https://www.accenture.com//us-en/insights/travel/game-changing-trends-travel\n"
     ]
    },
    {
     "name": "stderr",
     "output_type": "stream",
     "text": [
      "2020-03-10 14:34:35 [urllib3.connectionpool] DEBUG: https://www.accenture.com:443 \"GET //us-en/insights/travel/game-changing-trends-travel HTTP/1.1\" 200 121624\n",
      "2020-03-10 14:34:35 [urllib3.connectionpool] DEBUG: Starting new HTTPS connection (1): www.accenture.com:443\n"
     ]
    },
    {
     "name": "stdout",
     "output_type": "stream",
     "text": [
      "https://www.accenture.com//us-en/insights/future-workforce/artificial-intelligence-blockchain-techforgood\n"
     ]
    },
    {
     "name": "stderr",
     "output_type": "stream",
     "text": [
      "2020-03-10 14:34:36 [urllib3.connectionpool] DEBUG: https://www.accenture.com:443 \"GET //us-en/insights/future-workforce/artificial-intelligence-blockchain-techforgood HTTP/1.1\" 200 130750\n",
      "2020-03-10 14:34:36 [urllib3.connectionpool] DEBUG: Starting new HTTPS connection (1): www.accenture.com:443\n"
     ]
    },
    {
     "name": "stdout",
     "output_type": "stream",
     "text": [
      "https://www.accenture.com//us-en/insights/banking/north-america-banking-operations-survey\n"
     ]
    },
    {
     "name": "stderr",
     "output_type": "stream",
     "text": [
      "2020-03-10 14:34:37 [urllib3.connectionpool] DEBUG: https://www.accenture.com:443 \"GET //us-en/insights/banking/north-america-banking-operations-survey HTTP/1.1\" 200 132200\n",
      "2020-03-10 14:34:37 [urllib3.connectionpool] DEBUG: Starting new HTTPS connection (1): www.accenture.com:443\n"
     ]
    },
    {
     "name": "stdout",
     "output_type": "stream",
     "text": [
      "https://www.accenture.com//us-en/insights/strategy/develop-future-it-workforce\n"
     ]
    },
    {
     "name": "stderr",
     "output_type": "stream",
     "text": [
      "2020-03-10 14:34:38 [urllib3.connectionpool] DEBUG: https://www.accenture.com:443 \"GET //us-en/insights/strategy/develop-future-it-workforce HTTP/1.1\" 200 146657\n",
      "2020-03-10 14:34:38 [urllib3.connectionpool] DEBUG: Starting new HTTPS connection (1): www.accenture.com:443\n"
     ]
    },
    {
     "name": "stdout",
     "output_type": "stream",
     "text": [
      "https://www.accenture.com//us-en/insights/insurance/ai-redefines-insurance\n"
     ]
    },
    {
     "name": "stderr",
     "output_type": "stream",
     "text": [
      "2020-03-10 14:34:39 [urllib3.connectionpool] DEBUG: https://www.accenture.com:443 \"GET //us-en/insights/insurance/ai-redefines-insurance HTTP/1.1\" 200 131544\n",
      "2020-03-10 14:34:39 [urllib3.connectionpool] DEBUG: Starting new HTTPS connection (1): www.accenture.com:443\n"
     ]
    },
    {
     "name": "stdout",
     "output_type": "stream",
     "text": [
      "https://www.accenture.com//us-en/insight-manufacturing-the-future\n"
     ]
    },
    {
     "name": "stderr",
     "output_type": "stream",
     "text": [
      "2020-03-10 14:34:39 [urllib3.connectionpool] DEBUG: https://www.accenture.com:443 \"GET //us-en/insight-manufacturing-the-future HTTP/1.1\" 200 187064\n",
      "2020-03-10 14:34:39 [urllib3.connectionpool] DEBUG: Starting new HTTPS connection (1): www.accenture.com:443\n"
     ]
    },
    {
     "name": "stdout",
     "output_type": "stream",
     "text": [
      "https://www.accenture.com//us-en/insights/artificial-intelligence/insight-responsible-ai\n"
     ]
    },
    {
     "name": "stderr",
     "output_type": "stream",
     "text": [
      "2020-03-10 14:34:40 [urllib3.connectionpool] DEBUG: https://www.accenture.com:443 \"GET //us-en/insights/artificial-intelligence/insight-responsible-ai HTTP/1.1\" 200 131513\n",
      "2020-03-10 14:34:40 [urllib3.connectionpool] DEBUG: Starting new HTTPS connection (1): www.accenture.com:443\n"
     ]
    },
    {
     "name": "stdout",
     "output_type": "stream",
     "text": [
      "https://www.accenture.com//us-en/service-federal-it-playbook\n"
     ]
    },
    {
     "name": "stderr",
     "output_type": "stream",
     "text": [
      "2020-03-10 14:34:41 [urllib3.connectionpool] DEBUG: https://www.accenture.com:443 \"GET //us-en/service-federal-it-playbook HTTP/1.1\" 200 202656\n",
      "2020-03-10 14:34:41 [scrapy.core.engine] DEBUG: Crawled (200) <GET https://www.accenture.com//us-en/insight-hfs-recognizes-finance-accounting-bpo> (referer: None)\n",
      "2020-03-10 14:34:41 [scrapy.extensions.logstats] INFO: Crawled 388 pages (at 49 pages/min), scraped 0 items (at 0 items/min)\n",
      "2020-03-10 14:34:41 [scrapy.core.engine] DEBUG: Crawled (200) <GET https://www.accenture.com//us-en/insight-ai-in-content-services> (referer: None)\n",
      "2020-03-10 14:34:41 [scrapy.core.engine] DEBUG: Crawled (200) <GET https://www.accenture.com//us-en/insight-blockchain-id2020> (referer: None)\n",
      "2020-03-10 14:34:41 [scrapy.core.engine] DEBUG: Crawled (200) <GET https://www.accenture.com//us-en/insight-inclusion-diversity-survey> (referer: None)\n",
      "2020-03-10 14:34:41 [scrapy.core.engine] DEBUG: Crawled (200) <GET https://www.accenture.com//us-en/insights/strategy/artificial-intelligence-communications-media> (referer: None)\n",
      "2020-03-10 14:34:41 [scrapy.core.engine] DEBUG: Crawled (200) <GET https://www.accenture.com//us-en/insights-blockchain-for-good> (referer: None)\n",
      "2020-03-10 14:34:41 [scrapy.core.engine] DEBUG: Crawled (200) <GET https://www.accenture.com//us-en/insights/communications-media/insight-communications-intelligent-enterprise-unleashed> (referer: None)\n",
      "2020-03-10 14:34:41 [scrapy.core.engine] DEBUG: Crawled (200) <GET https://www.accenture.com//us-en/insight-new-laws-consumer-attraction-health-insurers> (referer: None)\n",
      "2020-03-10 14:34:41 [urllib3.connectionpool] DEBUG: Starting new HTTPS connection (1): www.accenture.com:443\n"
     ]
    },
    {
     "name": "stdout",
     "output_type": "stream",
     "text": [
      "https://www.accenture.com//us-en/insight-hfs-recognizes-finance-accounting-bpo\n"
     ]
    },
    {
     "name": "stderr",
     "output_type": "stream",
     "text": [
      "2020-03-10 14:34:42 [urllib3.connectionpool] DEBUG: https://www.accenture.com:443 \"GET //us-en/insight-hfs-recognizes-finance-accounting-bpo HTTP/1.1\" 200 125901\n",
      "2020-03-10 14:34:42 [urllib3.connectionpool] DEBUG: Starting new HTTPS connection (1): www.accenture.com:443\n"
     ]
    },
    {
     "name": "stdout",
     "output_type": "stream",
     "text": [
      "https://www.accenture.com//us-en/insight-ai-in-content-services\n"
     ]
    },
    {
     "name": "stderr",
     "output_type": "stream",
     "text": [
      "2020-03-10 14:34:43 [urllib3.connectionpool] DEBUG: https://www.accenture.com:443 \"GET //us-en/insight-ai-in-content-services HTTP/1.1\" 200 127774\n",
      "2020-03-10 14:34:43 [urllib3.connectionpool] DEBUG: Starting new HTTPS connection (1): www.accenture.com:443\n"
     ]
    },
    {
     "name": "stdout",
     "output_type": "stream",
     "text": [
      "https://www.accenture.com//us-en/insight-blockchain-id2020\n"
     ]
    },
    {
     "name": "stderr",
     "output_type": "stream",
     "text": [
      "2020-03-10 14:34:44 [urllib3.connectionpool] DEBUG: https://www.accenture.com:443 \"GET //us-en/insight-blockchain-id2020 HTTP/1.1\" 200 138265\n",
      "2020-03-10 14:34:44 [urllib3.connectionpool] DEBUG: Starting new HTTPS connection (1): www.accenture.com:443\n"
     ]
    },
    {
     "name": "stdout",
     "output_type": "stream",
     "text": [
      "https://www.accenture.com//us-en/insight-inclusion-diversity-survey\n"
     ]
    },
    {
     "name": "stderr",
     "output_type": "stream",
     "text": [
      "2020-03-10 14:34:45 [urllib3.connectionpool] DEBUG: https://www.accenture.com:443 \"GET //us-en/insight-inclusion-diversity-survey HTTP/1.1\" 200 188577\n",
      "2020-03-10 14:34:45 [urllib3.connectionpool] DEBUG: Starting new HTTPS connection (1): www.accenture.com:443\n"
     ]
    },
    {
     "name": "stdout",
     "output_type": "stream",
     "text": [
      "https://www.accenture.com//us-en/insights/strategy/artificial-intelligence-communications-media\n"
     ]
    },
    {
     "name": "stderr",
     "output_type": "stream",
     "text": [
      "2020-03-10 14:34:46 [urllib3.connectionpool] DEBUG: https://www.accenture.com:443 \"GET //us-en/insights/strategy/artificial-intelligence-communications-media HTTP/1.1\" 200 132932\n",
      "2020-03-10 14:34:46 [urllib3.connectionpool] DEBUG: Starting new HTTPS connection (1): www.accenture.com:443\n"
     ]
    },
    {
     "name": "stdout",
     "output_type": "stream",
     "text": [
      "https://www.accenture.com//us-en/insights-blockchain-for-good\n"
     ]
    },
    {
     "name": "stderr",
     "output_type": "stream",
     "text": [
      "2020-03-10 14:34:47 [urllib3.connectionpool] DEBUG: https://www.accenture.com:443 \"GET //us-en/insights-blockchain-for-good HTTP/1.1\" 200 109669\n",
      "2020-03-10 14:34:47 [urllib3.connectionpool] DEBUG: Starting new HTTPS connection (1): www.accenture.com:443\n"
     ]
    },
    {
     "name": "stdout",
     "output_type": "stream",
     "text": [
      "https://www.accenture.com//us-en/insights/communications-media/insight-communications-intelligent-enterprise-unleashed\n"
     ]
    },
    {
     "name": "stderr",
     "output_type": "stream",
     "text": [
      "2020-03-10 14:34:53 [urllib3.connectionpool] DEBUG: https://www.accenture.com:443 \"GET //us-en/insights/communications-media/insight-communications-intelligent-enterprise-unleashed HTTP/1.1\" 200 141745\n",
      "2020-03-10 14:34:53 [urllib3.connectionpool] DEBUG: Starting new HTTPS connection (1): www.accenture.com:443\n"
     ]
    },
    {
     "name": "stdout",
     "output_type": "stream",
     "text": [
      "https://www.accenture.com//us-en/insight-new-laws-consumer-attraction-health-insurers\n"
     ]
    },
    {
     "name": "stderr",
     "output_type": "stream",
     "text": [
      "2020-03-10 14:34:53 [urllib3.connectionpool] DEBUG: https://www.accenture.com:443 \"GET //us-en/insight-new-laws-consumer-attraction-health-insurers HTTP/1.1\" 200 197093\n",
      "2020-03-10 14:34:54 [scrapy.core.engine] DEBUG: Crawled (200) <GET https://www.accenture.com//us-en/insight-data-integrity-veracity> (referer: None)\n",
      "2020-03-10 14:34:54 [scrapy.core.engine] DEBUG: Crawled (200) <GET https://www.accenture.com//us-en/insight-technology-partners-ecosystem> (referer: None)\n",
      "2020-03-10 14:34:54 [scrapy.core.engine] DEBUG: Crawled (200) <GET https://www.accenture.com//us-en/insight-new-patient-experience> (referer: None)\n",
      "2020-03-10 14:34:54 [scrapy.core.engine] DEBUG: Crawled (200) <GET https://www.accenture.com//us-en/insight-explainable-citizen-ai> (referer: None)\n",
      "2020-03-10 14:34:54 [scrapy.core.engine] DEBUG: Crawled (200) <GET https://www.accenture.com//us-en/insight-technology-trends-2018> (referer: None)\n",
      "2020-03-10 14:34:54 [scrapy.core.engine] DEBUG: Crawled (200) <GET https://www.accenture.com//us-en/insight-infrastructure-internet-of-thinking> (referer: None)\n",
      "2020-03-10 14:34:54 [scrapy.core.engine] DEBUG: Crawled (200) <GET https://www.accenture.com//us-en/insight-sustainable-gdpr> (referer: None)\n",
      "2020-03-10 14:34:54 [scrapy.core.engine] DEBUG: Crawled (200) <GET https://www.accenture.com//us-en/insight-xr-extended-reality> (referer: None)\n",
      "2020-03-10 14:34:54 [urllib3.connectionpool] DEBUG: Starting new HTTPS connection (1): www.accenture.com:443\n"
     ]
    },
    {
     "name": "stdout",
     "output_type": "stream",
     "text": [
      "https://www.accenture.com//us-en/insight-data-integrity-veracity\n"
     ]
    },
    {
     "name": "stderr",
     "output_type": "stream",
     "text": [
      "2020-03-10 14:34:54 [urllib3.connectionpool] DEBUG: https://www.accenture.com:443 \"GET //us-en/insight-data-integrity-veracity HTTP/1.1\" 200 164968\n",
      "2020-03-10 14:34:55 [urllib3.connectionpool] DEBUG: Starting new HTTPS connection (1): www.accenture.com:443\n"
     ]
    },
    {
     "name": "stdout",
     "output_type": "stream",
     "text": [
      "https://www.accenture.com//us-en/insight-technology-partners-ecosystem\n"
     ]
    },
    {
     "name": "stderr",
     "output_type": "stream",
     "text": [
      "2020-03-10 14:34:55 [urllib3.connectionpool] DEBUG: https://www.accenture.com:443 \"GET //us-en/insight-technology-partners-ecosystem HTTP/1.1\" 200 165025\n",
      "2020-03-10 14:34:56 [urllib3.connectionpool] DEBUG: Starting new HTTPS connection (1): www.accenture.com:443\n"
     ]
    },
    {
     "name": "stdout",
     "output_type": "stream",
     "text": [
      "https://www.accenture.com//us-en/insight-new-patient-experience\n"
     ]
    },
    {
     "name": "stderr",
     "output_type": "stream",
     "text": [
      "2020-03-10 14:34:56 [urllib3.connectionpool] DEBUG: https://www.accenture.com:443 \"GET //us-en/insight-new-patient-experience HTTP/1.1\" 200 137198\n",
      "2020-03-10 14:34:56 [urllib3.connectionpool] DEBUG: Starting new HTTPS connection (1): www.accenture.com:443\n"
     ]
    },
    {
     "name": "stdout",
     "output_type": "stream",
     "text": [
      "https://www.accenture.com//us-en/insight-explainable-citizen-ai\n"
     ]
    },
    {
     "name": "stderr",
     "output_type": "stream",
     "text": [
      "2020-03-10 14:34:57 [urllib3.connectionpool] DEBUG: https://www.accenture.com:443 \"GET //us-en/insight-explainable-citizen-ai HTTP/1.1\" 200 164965\n",
      "2020-03-10 14:34:57 [urllib3.connectionpool] DEBUG: Starting new HTTPS connection (1): www.accenture.com:443\n"
     ]
    },
    {
     "name": "stdout",
     "output_type": "stream",
     "text": [
      "https://www.accenture.com//us-en/insight-technology-trends-2018\n"
     ]
    },
    {
     "name": "stderr",
     "output_type": "stream",
     "text": [
      "2020-03-10 14:34:58 [urllib3.connectionpool] DEBUG: https://www.accenture.com:443 \"GET //us-en/insight-technology-trends-2018 HTTP/1.1\" 200 176092\n",
      "2020-03-10 14:34:58 [urllib3.connectionpool] DEBUG: Starting new HTTPS connection (1): www.accenture.com:443\n"
     ]
    },
    {
     "name": "stdout",
     "output_type": "stream",
     "text": [
      "https://www.accenture.com//us-en/insight-infrastructure-internet-of-thinking\n"
     ]
    },
    {
     "name": "stderr",
     "output_type": "stream",
     "text": [
      "2020-03-10 14:34:59 [urllib3.connectionpool] DEBUG: https://www.accenture.com:443 \"GET //us-en/insight-infrastructure-internet-of-thinking HTTP/1.1\" 200 166327\n",
      "2020-03-10 14:34:59 [urllib3.connectionpool] DEBUG: Starting new HTTPS connection (1): www.accenture.com:443\n"
     ]
    },
    {
     "name": "stdout",
     "output_type": "stream",
     "text": [
      "https://www.accenture.com//us-en/insight-sustainable-gdpr\n"
     ]
    },
    {
     "name": "stderr",
     "output_type": "stream",
     "text": [
      "2020-03-10 14:35:00 [urllib3.connectionpool] DEBUG: https://www.accenture.com:443 \"GET //us-en/insight-sustainable-gdpr HTTP/1.1\" 200 167294\n",
      "2020-03-10 14:35:00 [urllib3.connectionpool] DEBUG: Starting new HTTPS connection (1): www.accenture.com:443\n"
     ]
    },
    {
     "name": "stdout",
     "output_type": "stream",
     "text": [
      "https://www.accenture.com//us-en/insight-xr-extended-reality\n"
     ]
    },
    {
     "name": "stderr",
     "output_type": "stream",
     "text": [
      "2020-03-10 14:35:00 [urllib3.connectionpool] DEBUG: https://www.accenture.com:443 \"GET //us-en/insight-xr-extended-reality HTTP/1.1\" 200 165981\n",
      "2020-03-10 14:35:00 [scrapy.core.engine] DEBUG: Crawled (200) <GET https://www.accenture.com//us-en/insights/financial-services/hr-analytics-cracking-workforce-genome> (referer: None)\n",
      "2020-03-10 14:35:01 [scrapy.core.engine] DEBUG: Crawled (200) <GET https://www.accenture.com//us-en/insight-highlights-insurance-transforming-living-business> (referer: None)\n",
      "2020-03-10 14:35:01 [scrapy.core.engine] DEBUG: Crawled (200) <GET https://www.accenture.com//us-en/insight-retail-purpose> (referer: None)\n",
      "2020-03-10 14:35:01 [scrapy.core.engine] DEBUG: Crawled (200) <GET https://www.accenture.com//us-en/insight-new-way-looking-ahead> (referer: None)\n",
      "2020-03-10 14:35:01 [scrapy.core.engine] DEBUG: Crawled (200) <GET https://www.accenture.com//us-en/insight-connecting-for-growth-in-travel> (referer: None)\n",
      "2020-03-10 14:35:01 [scrapy.core.engine] DEBUG: Crawled (200) <GET https://www.accenture.com//us-en/insight-accelerating-cyber-advantage-george-franz> (referer: None)\n",
      "2020-03-10 14:35:01 [scrapy.core.engine] DEBUG: Crawled (200) <GET https://www.accenture.com//us-en/insight-new-universal-payer-model> (referer: None)\n",
      "2020-03-10 14:35:01 [scrapy.core.engine] DEBUG: Crawled (200) <GET https://www.accenture.com//us-en/insight-big-bang-disruption-unstoppable-force> (referer: None)\n",
      "2020-03-10 14:35:01 [urllib3.connectionpool] DEBUG: Starting new HTTPS connection (1): www.accenture.com:443\n"
     ]
    },
    {
     "name": "stdout",
     "output_type": "stream",
     "text": [
      "https://www.accenture.com//us-en/insights/financial-services/hr-analytics-cracking-workforce-genome\n"
     ]
    },
    {
     "name": "stderr",
     "output_type": "stream",
     "text": [
      "2020-03-10 14:35:02 [urllib3.connectionpool] DEBUG: https://www.accenture.com:443 \"GET //us-en/insights/financial-services/hr-analytics-cracking-workforce-genome HTTP/1.1\" 200 130376\n",
      "2020-03-10 14:35:02 [urllib3.connectionpool] DEBUG: Starting new HTTPS connection (1): www.accenture.com:443\n"
     ]
    },
    {
     "name": "stdout",
     "output_type": "stream",
     "text": [
      "https://www.accenture.com//us-en/insight-highlights-insurance-transforming-living-business\n"
     ]
    },
    {
     "name": "stderr",
     "output_type": "stream",
     "text": [
      "2020-03-10 14:35:03 [urllib3.connectionpool] DEBUG: https://www.accenture.com:443 \"GET //us-en/insight-highlights-insurance-transforming-living-business HTTP/1.1\" 200 134572\n",
      "2020-03-10 14:35:03 [urllib3.connectionpool] DEBUG: Starting new HTTPS connection (1): www.accenture.com:443\n"
     ]
    },
    {
     "name": "stdout",
     "output_type": "stream",
     "text": [
      "https://www.accenture.com//us-en/insight-retail-purpose\n"
     ]
    },
    {
     "name": "stderr",
     "output_type": "stream",
     "text": [
      "2020-03-10 14:35:03 [urllib3.connectionpool] DEBUG: https://www.accenture.com:443 \"GET //us-en/insight-retail-purpose HTTP/1.1\" 200 148197\n",
      "2020-03-10 14:35:03 [urllib3.connectionpool] DEBUG: Starting new HTTPS connection (1): www.accenture.com:443\n"
     ]
    },
    {
     "name": "stdout",
     "output_type": "stream",
     "text": [
      "https://www.accenture.com//us-en/insight-new-way-looking-ahead\n"
     ]
    },
    {
     "name": "stderr",
     "output_type": "stream",
     "text": [
      "2020-03-10 14:35:04 [urllib3.connectionpool] DEBUG: https://www.accenture.com:443 \"GET //us-en/insight-new-way-looking-ahead HTTP/1.1\" 200 167462\n",
      "2020-03-10 14:35:04 [urllib3.connectionpool] DEBUG: Starting new HTTPS connection (1): www.accenture.com:443\n"
     ]
    },
    {
     "name": "stdout",
     "output_type": "stream",
     "text": [
      "https://www.accenture.com//us-en/insight-connecting-for-growth-in-travel\n"
     ]
    },
    {
     "name": "stderr",
     "output_type": "stream",
     "text": [
      "2020-03-10 14:35:05 [urllib3.connectionpool] DEBUG: https://www.accenture.com:443 \"GET //us-en/insight-connecting-for-growth-in-travel HTTP/1.1\" 200 184396\n",
      "2020-03-10 14:35:05 [urllib3.connectionpool] DEBUG: Starting new HTTPS connection (1): www.accenture.com:443\n"
     ]
    },
    {
     "name": "stdout",
     "output_type": "stream",
     "text": [
      "https://www.accenture.com//us-en/insight-accelerating-cyber-advantage-george-franz\n"
     ]
    },
    {
     "name": "stderr",
     "output_type": "stream",
     "text": [
      "2020-03-10 14:35:06 [urllib3.connectionpool] DEBUG: https://www.accenture.com:443 \"GET //us-en/insight-accelerating-cyber-advantage-george-franz HTTP/1.1\" 200 177001\n",
      "2020-03-10 14:35:06 [urllib3.connectionpool] DEBUG: Starting new HTTPS connection (1): www.accenture.com:443\n"
     ]
    },
    {
     "name": "stdout",
     "output_type": "stream",
     "text": [
      "https://www.accenture.com//us-en/insight-new-universal-payer-model\n"
     ]
    },
    {
     "name": "stderr",
     "output_type": "stream",
     "text": [
      "2020-03-10 14:35:08 [urllib3.connectionpool] DEBUG: https://www.accenture.com:443 \"GET //us-en/insight-new-universal-payer-model HTTP/1.1\" 200 192444\n",
      "2020-03-10 14:35:08 [urllib3.connectionpool] DEBUG: Starting new HTTPS connection (1): www.accenture.com:443\n"
     ]
    },
    {
     "name": "stdout",
     "output_type": "stream",
     "text": [
      "https://www.accenture.com//us-en/insight-big-bang-disruption-unstoppable-force\n"
     ]
    },
    {
     "name": "stderr",
     "output_type": "stream",
     "text": [
      "2020-03-10 14:35:09 [urllib3.connectionpool] DEBUG: https://www.accenture.com:443 \"GET //us-en/insight-big-bang-disruption-unstoppable-force HTTP/1.1\" 200 331468\n",
      "2020-03-10 14:35:09 [scrapy.core.engine] DEBUG: Crawled (200) <GET https://www.accenture.com//us-en/insight-disrupting-disruptors> (referer: None)\n",
      "2020-03-10 14:35:09 [scrapy.core.engine] DEBUG: Crawled (200) <GET https://www.accenture.com//us-en/company-reworking-the-revolution-future-workforce> (referer: None)\n",
      "2020-03-10 14:35:09 [scrapy.core.engine] DEBUG: Crawled (200) <GET https://www.accenture.com//us-en/insight-smart-home-smart-strategy> (referer: None)\n",
      "2020-03-10 14:35:09 [scrapy.core.engine] DEBUG: Crawled (200) <GET https://www.accenture.com//us-en/insight-customer-experience-innovation> (referer: None)\n",
      "2020-03-10 14:35:09 [scrapy.core.engine] DEBUG: Crawled (200) <GET https://www.accenture.com//us-en/insight-open-platforms-future-cpe-home> (referer: None)\n",
      "2020-03-10 14:35:09 [scrapy.core.engine] DEBUG: Crawled (200) <GET https://www.accenture.com//us-en/insights/us-federal-government/government-data-business-innovation> (referer: None)\n",
      "2020-03-10 14:35:09 [scrapy.core.engine] DEBUG: Crawled (200) <GET https://www.accenture.com//us-en/insight-change-the-experience-with-ai> (referer: None)\n",
      "2020-03-10 14:35:09 [scrapy.core.engine] DEBUG: Crawled (200) <GET https://www.accenture.com//us-en/insight-blockchain-at-the-borders> (referer: None)\n",
      "2020-03-10 14:35:09 [urllib3.connectionpool] DEBUG: Starting new HTTPS connection (1): www.accenture.com:443\n"
     ]
    },
    {
     "name": "stdout",
     "output_type": "stream",
     "text": [
      "https://www.accenture.com//us-en/insight-disrupting-disruptors\n"
     ]
    },
    {
     "name": "stderr",
     "output_type": "stream",
     "text": [
      "2020-03-10 14:35:10 [urllib3.connectionpool] DEBUG: https://www.accenture.com:443 \"GET //us-en/insight-disrupting-disruptors HTTP/1.1\" 200 152082\n",
      "2020-03-10 14:35:10 [urllib3.connectionpool] DEBUG: Starting new HTTPS connection (1): www.accenture.com:443\n"
     ]
    },
    {
     "name": "stdout",
     "output_type": "stream",
     "text": [
      "https://www.accenture.com//us-en/company-reworking-the-revolution-future-workforce\n"
     ]
    },
    {
     "name": "stderr",
     "output_type": "stream",
     "text": [
      "2020-03-10 14:35:11 [urllib3.connectionpool] DEBUG: https://www.accenture.com:443 \"GET //us-en/company-reworking-the-revolution-future-workforce HTTP/1.1\" 200 192600\n",
      "2020-03-10 14:35:11 [urllib3.connectionpool] DEBUG: Starting new HTTPS connection (1): www.accenture.com:443\n"
     ]
    },
    {
     "name": "stdout",
     "output_type": "stream",
     "text": [
      "https://www.accenture.com//us-en/insight-smart-home-smart-strategy\n"
     ]
    },
    {
     "name": "stderr",
     "output_type": "stream",
     "text": [
      "2020-03-10 14:35:12 [urllib3.connectionpool] DEBUG: https://www.accenture.com:443 \"GET //us-en/insight-smart-home-smart-strategy HTTP/1.1\" 200 147948\n",
      "2020-03-10 14:35:12 [urllib3.connectionpool] DEBUG: Starting new HTTPS connection (1): www.accenture.com:443\n"
     ]
    },
    {
     "name": "stdout",
     "output_type": "stream",
     "text": [
      "https://www.accenture.com//us-en/insight-customer-experience-innovation\n"
     ]
    },
    {
     "name": "stderr",
     "output_type": "stream",
     "text": [
      "2020-03-10 14:35:13 [urllib3.connectionpool] DEBUG: https://www.accenture.com:443 \"GET //us-en/insight-customer-experience-innovation HTTP/1.1\" 200 187676\n",
      "2020-03-10 14:35:13 [urllib3.connectionpool] DEBUG: Starting new HTTPS connection (1): www.accenture.com:443\n"
     ]
    },
    {
     "name": "stdout",
     "output_type": "stream",
     "text": [
      "https://www.accenture.com//us-en/insight-open-platforms-future-cpe-home\n"
     ]
    },
    {
     "name": "stderr",
     "output_type": "stream",
     "text": [
      "2020-03-10 14:35:14 [urllib3.connectionpool] DEBUG: https://www.accenture.com:443 \"GET //us-en/insight-open-platforms-future-cpe-home HTTP/1.1\" 200 134539\n",
      "2020-03-10 14:35:14 [urllib3.connectionpool] DEBUG: Starting new HTTPS connection (1): www.accenture.com:443\n"
     ]
    },
    {
     "name": "stdout",
     "output_type": "stream",
     "text": [
      "https://www.accenture.com//us-en/insights/us-federal-government/government-data-business-innovation\n"
     ]
    },
    {
     "name": "stderr",
     "output_type": "stream",
     "text": [
      "2020-03-10 14:35:15 [urllib3.connectionpool] DEBUG: https://www.accenture.com:443 \"GET //us-en/insights/us-federal-government/government-data-business-innovation HTTP/1.1\" 200 132666\n",
      "2020-03-10 14:35:15 [urllib3.connectionpool] DEBUG: Starting new HTTPS connection (1): www.accenture.com:443\n"
     ]
    },
    {
     "name": "stdout",
     "output_type": "stream",
     "text": [
      "https://www.accenture.com//us-en/insight-change-the-experience-with-ai\n"
     ]
    },
    {
     "name": "stderr",
     "output_type": "stream",
     "text": [
      "2020-03-10 14:35:16 [urllib3.connectionpool] DEBUG: https://www.accenture.com:443 \"GET //us-en/insight-change-the-experience-with-ai HTTP/1.1\" 200 198168\n",
      "2020-03-10 14:35:16 [urllib3.connectionpool] DEBUG: Starting new HTTPS connection (1): www.accenture.com:443\n"
     ]
    },
    {
     "name": "stdout",
     "output_type": "stream",
     "text": [
      "https://www.accenture.com//us-en/insight-blockchain-at-the-borders\n"
     ]
    },
    {
     "name": "stderr",
     "output_type": "stream",
     "text": [
      "2020-03-10 14:35:17 [urllib3.connectionpool] DEBUG: https://www.accenture.com:443 \"GET //us-en/insight-blockchain-at-the-borders HTTP/1.1\" 200 194238\n",
      "2020-03-10 14:35:17 [scrapy.core.engine] DEBUG: Crawled (200) <GET https://www.accenture.com//us-en/insights/us-federal-government/go-beyond-basics-rising-expectations> (referer: None)\n",
      "2020-03-10 14:35:17 [scrapy.core.engine] DEBUG: Crawled (200) <GET https://www.accenture.com//us-en/insight-power-plant-operations> (referer: None)\n",
      "2020-03-10 14:35:17 [scrapy.core.engine] DEBUG: Crawled (200) <GET https://www.accenture.com//us-en/insight-human-machine-ai> (referer: None)\n",
      "2020-03-10 14:35:17 [scrapy.core.engine] DEBUG: Crawled (200) <GET https://www.accenture.com//us-en/insight-conversational-banking> (referer: None)\n",
      "2020-03-10 14:35:17 [scrapy.core.engine] DEBUG: Crawled (200) <GET https://www.accenture.com//us-en/insight-go-beyond-basics> (referer: None)\n",
      "2020-03-10 14:35:17 [scrapy.core.engine] DEBUG: Crawled (200) <GET https://www.accenture.com//us-en/insight-intelligent-operations> (referer: None)\n",
      "2020-03-10 14:35:17 [scrapy.core.engine] DEBUG: Crawled (200) <GET https://www.accenture.com//us-en/insight-tech-led-mergers-acquisitions> (referer: None)\n",
      "2020-03-10 14:35:17 [scrapy.core.engine] DEBUG: Crawled (200) <GET https://www.accenture.com//us-en/insight-build-citizen-trust> (referer: None)\n",
      "2020-03-10 14:35:17 [urllib3.connectionpool] DEBUG: Starting new HTTPS connection (1): www.accenture.com:443\n"
     ]
    },
    {
     "name": "stdout",
     "output_type": "stream",
     "text": [
      "https://www.accenture.com//us-en/insights/us-federal-government/go-beyond-basics-rising-expectations\n"
     ]
    },
    {
     "name": "stderr",
     "output_type": "stream",
     "text": [
      "2020-03-10 14:35:18 [urllib3.connectionpool] DEBUG: https://www.accenture.com:443 \"GET //us-en/insights/us-federal-government/go-beyond-basics-rising-expectations HTTP/1.1\" 200 157915\n",
      "2020-03-10 14:35:18 [urllib3.connectionpool] DEBUG: Starting new HTTPS connection (1): www.accenture.com:443\n"
     ]
    },
    {
     "name": "stdout",
     "output_type": "stream",
     "text": [
      "https://www.accenture.com//us-en/insight-power-plant-operations\n"
     ]
    },
    {
     "name": "stderr",
     "output_type": "stream",
     "text": [
      "2020-03-10 14:35:19 [urllib3.connectionpool] DEBUG: https://www.accenture.com:443 \"GET //us-en/insight-power-plant-operations HTTP/1.1\" 200 209305\n",
      "2020-03-10 14:35:19 [urllib3.connectionpool] DEBUG: Starting new HTTPS connection (1): www.accenture.com:443\n"
     ]
    },
    {
     "name": "stdout",
     "output_type": "stream",
     "text": [
      "https://www.accenture.com//us-en/insight-human-machine-ai\n"
     ]
    },
    {
     "name": "stderr",
     "output_type": "stream",
     "text": [
      "2020-03-10 14:35:19 [urllib3.connectionpool] DEBUG: https://www.accenture.com:443 \"GET //us-en/insight-human-machine-ai HTTP/1.1\" 200 240017\n",
      "2020-03-10 14:35:20 [urllib3.connectionpool] DEBUG: Starting new HTTPS connection (1): www.accenture.com:443\n"
     ]
    },
    {
     "name": "stdout",
     "output_type": "stream",
     "text": [
      "https://www.accenture.com//us-en/insight-conversational-banking\n"
     ]
    },
    {
     "name": "stderr",
     "output_type": "stream",
     "text": [
      "2020-03-10 14:35:20 [urllib3.connectionpool] DEBUG: https://www.accenture.com:443 \"GET //us-en/insight-conversational-banking HTTP/1.1\" 200 179492\n",
      "2020-03-10 14:35:21 [urllib3.connectionpool] DEBUG: Starting new HTTPS connection (1): www.accenture.com:443\n"
     ]
    },
    {
     "name": "stdout",
     "output_type": "stream",
     "text": [
      "https://www.accenture.com//us-en/insight-go-beyond-basics\n"
     ]
    },
    {
     "name": "stderr",
     "output_type": "stream",
     "text": [
      "2020-03-10 14:35:21 [urllib3.connectionpool] DEBUG: https://www.accenture.com:443 \"GET //us-en/insight-go-beyond-basics HTTP/1.1\" 200 198338\n",
      "2020-03-10 14:35:22 [urllib3.connectionpool] DEBUG: Starting new HTTPS connection (1): www.accenture.com:443\n"
     ]
    },
    {
     "name": "stdout",
     "output_type": "stream",
     "text": [
      "https://www.accenture.com//us-en/insight-intelligent-operations\n"
     ]
    },
    {
     "name": "stderr",
     "output_type": "stream",
     "text": [
      "2020-03-10 14:35:23 [urllib3.connectionpool] DEBUG: https://www.accenture.com:443 \"GET //us-en/insight-intelligent-operations HTTP/1.1\" 200 209865\n",
      "2020-03-10 14:35:23 [urllib3.connectionpool] DEBUG: Starting new HTTPS connection (1): www.accenture.com:443\n"
     ]
    },
    {
     "name": "stdout",
     "output_type": "stream",
     "text": [
      "https://www.accenture.com//us-en/insight-tech-led-mergers-acquisitions\n"
     ]
    },
    {
     "name": "stderr",
     "output_type": "stream",
     "text": [
      "2020-03-10 14:35:24 [urllib3.connectionpool] DEBUG: https://www.accenture.com:443 \"GET //us-en/insight-tech-led-mergers-acquisitions HTTP/1.1\" 200 195258\n",
      "2020-03-10 14:35:24 [urllib3.connectionpool] DEBUG: Starting new HTTPS connection (1): www.accenture.com:443\n"
     ]
    },
    {
     "name": "stdout",
     "output_type": "stream",
     "text": [
      "https://www.accenture.com//us-en/insight-build-citizen-trust\n"
     ]
    },
    {
     "name": "stderr",
     "output_type": "stream",
     "text": [
      "2020-03-10 14:35:25 [urllib3.connectionpool] DEBUG: https://www.accenture.com:443 \"GET //us-en/insight-build-citizen-trust HTTP/1.1\" 200 207660\n",
      "2020-03-10 14:35:25 [scrapy.core.engine] DEBUG: Crawled (200) <GET https://www.accenture.com//us-en/insight-tactile-internet-enabled-pervasive-networks> (referer: None)\n",
      "2020-03-10 14:35:25 [scrapy.core.engine] DEBUG: Crawled (200) <GET https://www.accenture.com//us-en/insights/financial-services/third-party-risk-management-legal-department> (referer: None)\n",
      "2020-03-10 14:35:25 [scrapy.core.engine] DEBUG: Crawled (200) <GET https://www.accenture.com//us-en/insights/strategy/architecting-future-supply-chain> (referer: None)\n",
      "2020-03-10 14:35:25 [scrapy.core.engine] DEBUG: Crawled (200) <GET https://www.accenture.com//us-en/insights/banking/perspectives-us-bank-dominic-venturo> (referer: None)\n",
      "2020-03-10 14:35:25 [scrapy.core.engine] DEBUG: Crawled (200) <GET https://www.accenture.com//us-en/insights/strategy/global-new-normal-exponential-growth-powered-ai> (referer: None)\n",
      "2020-03-10 14:35:25 [scrapy.core.engine] DEBUG: Crawled (200) <GET https://www.accenture.com//us-en/insight-digital-transforming-refugee-healthcare> (referer: None)\n",
      "2020-03-10 14:35:25 [scrapy.core.engine] DEBUG: Crawled (200) <GET https://www.accenture.com//us-en/insight-b2b-cx-anthem> (referer: None)\n",
      "2020-03-10 14:35:25 [scrapy.core.engine] DEBUG: Crawled (200) <GET https://www.accenture.com//us-en/insight-exceed-expectations-extraordinary-experiences> (referer: None)\n",
      "2020-03-10 14:35:25 [urllib3.connectionpool] DEBUG: Starting new HTTPS connection (1): www.accenture.com:443\n"
     ]
    },
    {
     "name": "stdout",
     "output_type": "stream",
     "text": [
      "https://www.accenture.com//us-en/insight-tactile-internet-enabled-pervasive-networks\n"
     ]
    },
    {
     "name": "stderr",
     "output_type": "stream",
     "text": [
      "2020-03-10 14:35:26 [urllib3.connectionpool] DEBUG: https://www.accenture.com:443 \"GET //us-en/insight-tactile-internet-enabled-pervasive-networks HTTP/1.1\" 200 128785\n",
      "2020-03-10 14:35:26 [urllib3.connectionpool] DEBUG: Starting new HTTPS connection (1): www.accenture.com:443\n"
     ]
    },
    {
     "name": "stdout",
     "output_type": "stream",
     "text": [
      "https://www.accenture.com//us-en/insights/financial-services/third-party-risk-management-legal-department\n"
     ]
    },
    {
     "name": "stderr",
     "output_type": "stream",
     "text": [
      "2020-03-10 14:35:26 [urllib3.connectionpool] DEBUG: https://www.accenture.com:443 \"GET //us-en/insights/financial-services/third-party-risk-management-legal-department HTTP/1.1\" 200 134094\n",
      "2020-03-10 14:35:26 [urllib3.connectionpool] DEBUG: Starting new HTTPS connection (1): www.accenture.com:443\n"
     ]
    },
    {
     "name": "stdout",
     "output_type": "stream",
     "text": [
      "https://www.accenture.com//us-en/insights/strategy/architecting-future-supply-chain\n"
     ]
    },
    {
     "name": "stderr",
     "output_type": "stream",
     "text": [
      "2020-03-10 14:35:27 [urllib3.connectionpool] DEBUG: https://www.accenture.com:443 \"GET //us-en/insights/strategy/architecting-future-supply-chain HTTP/1.1\" 200 134717\n",
      "2020-03-10 14:35:27 [urllib3.connectionpool] DEBUG: Starting new HTTPS connection (1): www.accenture.com:443\n"
     ]
    },
    {
     "name": "stdout",
     "output_type": "stream",
     "text": [
      "https://www.accenture.com//us-en/insights/banking/perspectives-us-bank-dominic-venturo\n"
     ]
    },
    {
     "name": "stderr",
     "output_type": "stream",
     "text": [
      "2020-03-10 14:35:28 [urllib3.connectionpool] DEBUG: https://www.accenture.com:443 \"GET //us-en/insights/banking/perspectives-us-bank-dominic-venturo HTTP/1.1\" 200 135733\n",
      "2020-03-10 14:35:28 [urllib3.connectionpool] DEBUG: Starting new HTTPS connection (1): www.accenture.com:443\n"
     ]
    },
    {
     "name": "stdout",
     "output_type": "stream",
     "text": [
      "https://www.accenture.com//us-en/insights/strategy/global-new-normal-exponential-growth-powered-ai\n"
     ]
    },
    {
     "name": "stderr",
     "output_type": "stream",
     "text": [
      "2020-03-10 14:35:29 [urllib3.connectionpool] DEBUG: https://www.accenture.com:443 \"GET //us-en/insights/strategy/global-new-normal-exponential-growth-powered-ai HTTP/1.1\" 200 142110\n",
      "2020-03-10 14:35:29 [urllib3.connectionpool] DEBUG: Starting new HTTPS connection (1): www.accenture.com:443\n"
     ]
    },
    {
     "name": "stdout",
     "output_type": "stream",
     "text": [
      "https://www.accenture.com//us-en/insight-digital-transforming-refugee-healthcare\n"
     ]
    },
    {
     "name": "stderr",
     "output_type": "stream",
     "text": [
      "2020-03-10 14:35:30 [urllib3.connectionpool] DEBUG: https://www.accenture.com:443 \"GET //us-en/insight-digital-transforming-refugee-healthcare HTTP/1.1\" 200 195071\n",
      "2020-03-10 14:35:30 [urllib3.connectionpool] DEBUG: Starting new HTTPS connection (1): www.accenture.com:443\n"
     ]
    },
    {
     "name": "stdout",
     "output_type": "stream",
     "text": [
      "https://www.accenture.com//us-en/insight-b2b-cx-anthem\n"
     ]
    },
    {
     "name": "stderr",
     "output_type": "stream",
     "text": [
      "2020-03-10 14:35:31 [urllib3.connectionpool] DEBUG: https://www.accenture.com:443 \"GET //us-en/insight-b2b-cx-anthem HTTP/1.1\" 200 211125\n",
      "2020-03-10 14:35:31 [urllib3.connectionpool] DEBUG: Starting new HTTPS connection (1): www.accenture.com:443\n"
     ]
    },
    {
     "name": "stdout",
     "output_type": "stream",
     "text": [
      "https://www.accenture.com//us-en/insight-exceed-expectations-extraordinary-experiences\n"
     ]
    },
    {
     "name": "stderr",
     "output_type": "stream",
     "text": [
      "2020-03-10 14:35:32 [urllib3.connectionpool] DEBUG: https://www.accenture.com:443 \"GET //us-en/insight-exceed-expectations-extraordinary-experiences HTTP/1.1\" 200 204904\n",
      "2020-03-10 14:35:32 [scrapy.core.engine] DEBUG: Crawled (200) <GET https://www.accenture.com//us-en/insights/us-federal-government/protecting-federal-data> (referer: None)\n",
      "2020-03-10 14:35:32 [scrapy.core.engine] DEBUG: Crawled (200) <GET https://www.accenture.com//us-en/insights/banking/join-forces-against-financial-crime-aml> (referer: None)\n",
      "2020-03-10 14:35:32 [scrapy.core.engine] DEBUG: Crawled (200) <GET https://www.accenture.com//us-en/insight-artificial-intelligence-business-process> (referer: None)\n",
      "2020-03-10 14:35:32 [scrapy.core.engine] DEBUG: Crawled (200) <GET https://www.accenture.com//us-en/insight-industry-xo> (referer: None)\n",
      "2020-03-10 14:35:32 [scrapy.core.engine] DEBUG: Crawled (200) <GET https://www.accenture.com//us-en/insights/health/employee-health-wellness-plans> (referer: None)\n",
      "2020-03-10 14:35:32 [scrapy.core.engine] DEBUG: Crawled (200) <GET https://www.accenture.com//us-en/insight-protecting-federal-data> (referer: None)\n",
      "2020-03-10 14:35:32 [scrapy.core.engine] DEBUG: Crawled (200) <GET https://www.accenture.com//us-en/insight-process-reimagined> (referer: None)\n",
      "2020-03-10 14:35:32 [scrapy.core.engine] DEBUG: Crawled (200) <GET https://www.accenture.com//us-en/insight-do-employee-health-wellness-plans-need-shot-arm> (referer: None)\n",
      "2020-03-10 14:35:32 [urllib3.connectionpool] DEBUG: Starting new HTTPS connection (1): www.accenture.com:443\n"
     ]
    },
    {
     "name": "stdout",
     "output_type": "stream",
     "text": [
      "https://www.accenture.com//us-en/insights/us-federal-government/protecting-federal-data\n"
     ]
    },
    {
     "name": "stderr",
     "output_type": "stream",
     "text": [
      "2020-03-10 14:35:33 [urllib3.connectionpool] DEBUG: https://www.accenture.com:443 \"GET //us-en/insights/us-federal-government/protecting-federal-data HTTP/1.1\" 200 131882\n",
      "2020-03-10 14:35:33 [urllib3.connectionpool] DEBUG: Starting new HTTPS connection (1): www.accenture.com:443\n"
     ]
    },
    {
     "name": "stdout",
     "output_type": "stream",
     "text": [
      "https://www.accenture.com//us-en/insights/banking/join-forces-against-financial-crime-aml\n"
     ]
    },
    {
     "name": "stderr",
     "output_type": "stream",
     "text": [
      "2020-03-10 14:35:34 [urllib3.connectionpool] DEBUG: https://www.accenture.com:443 \"GET //us-en/insights/banking/join-forces-against-financial-crime-aml HTTP/1.1\" 200 135397\n",
      "2020-03-10 14:35:34 [urllib3.connectionpool] DEBUG: Starting new HTTPS connection (1): www.accenture.com:443\n"
     ]
    },
    {
     "name": "stdout",
     "output_type": "stream",
     "text": [
      "https://www.accenture.com//us-en/insight-artificial-intelligence-business-process\n"
     ]
    },
    {
     "name": "stderr",
     "output_type": "stream",
     "text": [
      "2020-03-10 14:35:35 [urllib3.connectionpool] DEBUG: https://www.accenture.com:443 \"GET //us-en/insight-artificial-intelligence-business-process HTTP/1.1\" 200 172571\n",
      "2020-03-10 14:35:35 [urllib3.connectionpool] DEBUG: Starting new HTTPS connection (1): www.accenture.com:443\n"
     ]
    },
    {
     "name": "stdout",
     "output_type": "stream",
     "text": [
      "https://www.accenture.com//us-en/insight-industry-xo\n"
     ]
    },
    {
     "name": "stderr",
     "output_type": "stream",
     "text": [
      "2020-03-10 14:35:35 [urllib3.connectionpool] DEBUG: https://www.accenture.com:443 \"GET //us-en/insight-industry-xo HTTP/1.1\" 200 142122\n",
      "2020-03-10 14:35:36 [urllib3.connectionpool] DEBUG: Starting new HTTPS connection (1): www.accenture.com:443\n"
     ]
    },
    {
     "name": "stdout",
     "output_type": "stream",
     "text": [
      "https://www.accenture.com//us-en/insights/health/employee-health-wellness-plans\n"
     ]
    },
    {
     "name": "stderr",
     "output_type": "stream",
     "text": [
      "2020-03-10 14:35:36 [urllib3.connectionpool] DEBUG: https://www.accenture.com:443 \"GET //us-en/insights/health/employee-health-wellness-plans HTTP/1.1\" 200 151578\n",
      "2020-03-10 14:35:36 [urllib3.connectionpool] DEBUG: Starting new HTTPS connection (1): www.accenture.com:443\n"
     ]
    },
    {
     "name": "stdout",
     "output_type": "stream",
     "text": [
      "https://www.accenture.com//us-en/insight-protecting-federal-data\n"
     ]
    },
    {
     "name": "stderr",
     "output_type": "stream",
     "text": [
      "2020-03-10 14:35:37 [urllib3.connectionpool] DEBUG: https://www.accenture.com:443 \"GET //us-en/insight-protecting-federal-data HTTP/1.1\" 200 205252\n",
      "2020-03-10 14:35:37 [urllib3.connectionpool] DEBUG: Starting new HTTPS connection (1): www.accenture.com:443\n"
     ]
    },
    {
     "name": "stdout",
     "output_type": "stream",
     "text": [
      "https://www.accenture.com//us-en/insight-process-reimagined\n"
     ]
    },
    {
     "name": "stderr",
     "output_type": "stream",
     "text": [
      "2020-03-10 14:35:38 [urllib3.connectionpool] DEBUG: https://www.accenture.com:443 \"GET //us-en/insight-process-reimagined HTTP/1.1\" 200 137950\n",
      "2020-03-10 14:35:39 [urllib3.connectionpool] DEBUG: Starting new HTTPS connection (1): www.accenture.com:443\n"
     ]
    },
    {
     "name": "stdout",
     "output_type": "stream",
     "text": [
      "https://www.accenture.com//us-en/insight-do-employee-health-wellness-plans-need-shot-arm\n"
     ]
    },
    {
     "name": "stderr",
     "output_type": "stream",
     "text": [
      "2020-03-10 14:35:39 [urllib3.connectionpool] DEBUG: https://www.accenture.com:443 \"GET //us-en/insight-do-employee-health-wellness-plans-need-shot-arm HTTP/1.1\" 200 220463\n",
      "2020-03-10 14:35:40 [scrapy.core.engine] DEBUG: Crawled (200) <GET https://www.accenture.com//us-en/insight-sap-application-management-analyst-report> (referer: None)\n",
      "2020-03-10 14:35:40 [scrapy.extensions.logstats] INFO: Crawled 444 pages (at 56 pages/min), scraped 0 items (at 0 items/min)\n",
      "2020-03-10 14:35:40 [scrapy.core.engine] DEBUG: Crawled (200) <GET https://www.accenture.com//us-en/insight-data-achieving-centric-security-2017> (referer: None)\n",
      "2020-03-10 14:35:40 [scrapy.core.engine] DEBUG: Crawled (200) <GET https://www.accenture.com//us-en/insights/financial-services/evolving-aml-journey> (referer: None)\n",
      "2020-03-10 14:35:40 [scrapy.core.engine] DEBUG: Crawled (200) <GET https://www.accenture.com//us-en/insights/us-federal-government/future-proof> (referer: None)\n",
      "2020-03-10 14:35:40 [scrapy.core.engine] DEBUG: Crawled (200) <GET https://www.accenture.com//us-en/insight-tvs-advanced-audience-platform> (referer: None)\n",
      "2020-03-10 14:35:40 [scrapy.core.engine] DEBUG: Crawled (200) <GET https://www.accenture.com//us-en/insight-cost-of-cybercrime-2017> (referer: None)\n",
      "2020-03-10 14:35:40 [scrapy.core.engine] DEBUG: Crawled (200) <GET https://www.accenture.com//us-en/insight-shaping-agile-workforce> (referer: None)\n",
      "2020-03-10 14:35:40 [scrapy.core.engine] DEBUG: Crawled (200) <GET https://www.accenture.com//us-en/insight-future-proof> (referer: None)\n",
      "2020-03-10 14:35:40 [urllib3.connectionpool] DEBUG: Starting new HTTPS connection (1): www.accenture.com:443\n"
     ]
    },
    {
     "name": "stdout",
     "output_type": "stream",
     "text": [
      "https://www.accenture.com//us-en/insight-sap-application-management-analyst-report\n"
     ]
    },
    {
     "name": "stderr",
     "output_type": "stream",
     "text": [
      "2020-03-10 14:35:40 [urllib3.connectionpool] DEBUG: https://www.accenture.com:443 \"GET //us-en/insight-sap-application-management-analyst-report HTTP/1.1\" 200 127414\n",
      "2020-03-10 14:35:40 [urllib3.connectionpool] DEBUG: Starting new HTTPS connection (1): www.accenture.com:443\n"
     ]
    },
    {
     "name": "stdout",
     "output_type": "stream",
     "text": [
      "https://www.accenture.com//us-en/insight-data-achieving-centric-security-2017\n"
     ]
    },
    {
     "name": "stderr",
     "output_type": "stream",
     "text": [
      "2020-03-10 14:35:41 [urllib3.connectionpool] DEBUG: https://www.accenture.com:443 \"GET //us-en/insight-data-achieving-centric-security-2017 HTTP/1.1\" 200 155042\n",
      "2020-03-10 14:35:41 [urllib3.connectionpool] DEBUG: Starting new HTTPS connection (1): www.accenture.com:443\n"
     ]
    },
    {
     "name": "stdout",
     "output_type": "stream",
     "text": [
      "https://www.accenture.com//us-en/insights/financial-services/evolving-aml-journey\n"
     ]
    },
    {
     "name": "stderr",
     "output_type": "stream",
     "text": [
      "2020-03-10 14:35:42 [urllib3.connectionpool] DEBUG: https://www.accenture.com:443 \"GET //us-en/insights/financial-services/evolving-aml-journey HTTP/1.1\" 200 141670\n",
      "2020-03-10 14:35:42 [urllib3.connectionpool] DEBUG: Starting new HTTPS connection (1): www.accenture.com:443\n"
     ]
    },
    {
     "name": "stdout",
     "output_type": "stream",
     "text": [
      "https://www.accenture.com//us-en/insights/us-federal-government/future-proof\n"
     ]
    },
    {
     "name": "stderr",
     "output_type": "stream",
     "text": [
      "2020-03-10 14:35:43 [urllib3.connectionpool] DEBUG: https://www.accenture.com:443 \"GET //us-en/insights/us-federal-government/future-proof HTTP/1.1\" 200 144890\n",
      "2020-03-10 14:35:43 [urllib3.connectionpool] DEBUG: Starting new HTTPS connection (1): www.accenture.com:443\n"
     ]
    },
    {
     "name": "stdout",
     "output_type": "stream",
     "text": [
      "https://www.accenture.com//us-en/insight-tvs-advanced-audience-platform\n"
     ]
    },
    {
     "name": "stderr",
     "output_type": "stream",
     "text": [
      "2020-03-10 14:35:44 [urllib3.connectionpool] DEBUG: https://www.accenture.com:443 \"GET //us-en/insight-tvs-advanced-audience-platform HTTP/1.1\" 200 169395\n",
      "2020-03-10 14:35:44 [urllib3.connectionpool] DEBUG: Starting new HTTPS connection (1): www.accenture.com:443\n"
     ]
    },
    {
     "name": "stdout",
     "output_type": "stream",
     "text": [
      "https://www.accenture.com//us-en/insight-cost-of-cybercrime-2017\n"
     ]
    },
    {
     "name": "stderr",
     "output_type": "stream",
     "text": [
      "2020-03-10 14:35:45 [urllib3.connectionpool] DEBUG: https://www.accenture.com:443 \"GET //us-en/insight-cost-of-cybercrime-2017 HTTP/1.1\" 200 148706\n",
      "2020-03-10 14:35:45 [urllib3.connectionpool] DEBUG: Starting new HTTPS connection (1): www.accenture.com:443\n"
     ]
    },
    {
     "name": "stdout",
     "output_type": "stream",
     "text": [
      "https://www.accenture.com//us-en/insight-shaping-agile-workforce\n"
     ]
    },
    {
     "name": "stderr",
     "output_type": "stream",
     "text": [
      "2020-03-10 14:35:46 [urllib3.connectionpool] DEBUG: https://www.accenture.com:443 \"GET //us-en/insight-shaping-agile-workforce HTTP/1.1\" 200 203432\n",
      "2020-03-10 14:35:46 [urllib3.connectionpool] DEBUG: Starting new HTTPS connection (1): www.accenture.com:443\n"
     ]
    },
    {
     "name": "stdout",
     "output_type": "stream",
     "text": [
      "https://www.accenture.com//us-en/insight-future-proof\n"
     ]
    },
    {
     "name": "stderr",
     "output_type": "stream",
     "text": [
      "2020-03-10 14:35:47 [urllib3.connectionpool] DEBUG: https://www.accenture.com:443 \"GET //us-en/insight-future-proof HTTP/1.1\" 200 205422\n",
      "2020-03-10 14:35:47 [scrapy.core.engine] DEBUG: Crawled (200) <GET https://www.accenture.com//us-en/insight-building-pervasive-network> (referer: None)\n",
      "2020-03-10 14:35:47 [scrapy.core.engine] DEBUG: Crawled (200) <GET https://www.accenture.com//us-en/insight-path-to-cloud-asia-pacific-financial-services> (referer: None)\n",
      "2020-03-10 14:35:47 [scrapy.core.engine] DEBUG: Crawled (200) <GET https://www.accenture.com//us-en/insights/us-federal-government/defining-cyber-moonshot> (referer: None)\n",
      "2020-03-10 14:35:47 [scrapy.core.engine] DEBUG: Crawled (200) <GET https://www.accenture.com//us-en/insight-swiss-style-training> (referer: None)\n",
      "2020-03-10 14:35:47 [scrapy.core.engine] DEBUG: Crawled (200) <GET https://www.accenture.com//us-en/insight-new-travel-experience> (referer: None)\n",
      "2020-03-10 14:35:47 [scrapy.core.engine] DEBUG: Crawled (200) <GET https://www.accenture.com//us-en/insight-gold-medal-procurement> (referer: None)\n",
      "2020-03-10 14:35:47 [scrapy.core.engine] DEBUG: Crawled (200) <GET https://www.accenture.com//us-en/insight-defining-cyber-moonshot> (referer: None)\n",
      "2020-03-10 14:35:47 [scrapy.core.engine] DEBUG: Crawled (200) <GET https://www.accenture.com//us-en/insight-harness-power-of-disruption> (referer: None)\n",
      "2020-03-10 14:35:47 [urllib3.connectionpool] DEBUG: Starting new HTTPS connection (1): www.accenture.com:443\n"
     ]
    },
    {
     "name": "stdout",
     "output_type": "stream",
     "text": [
      "https://www.accenture.com//us-en/insight-building-pervasive-network\n"
     ]
    },
    {
     "name": "stderr",
     "output_type": "stream",
     "text": [
      "2020-03-10 14:35:48 [urllib3.connectionpool] DEBUG: https://www.accenture.com:443 \"GET //us-en/insight-building-pervasive-network HTTP/1.1\" 200 131428\n",
      "2020-03-10 14:35:48 [urllib3.connectionpool] DEBUG: Starting new HTTPS connection (1): www.accenture.com:443\n"
     ]
    },
    {
     "name": "stdout",
     "output_type": "stream",
     "text": [
      "https://www.accenture.com//us-en/insight-path-to-cloud-asia-pacific-financial-services\n"
     ]
    },
    {
     "name": "stderr",
     "output_type": "stream",
     "text": [
      "2020-03-10 14:35:49 [urllib3.connectionpool] DEBUG: https://www.accenture.com:443 \"GET //us-en/insight-path-to-cloud-asia-pacific-financial-services HTTP/1.1\" 200 163675\n",
      "2020-03-10 14:35:49 [urllib3.connectionpool] DEBUG: Starting new HTTPS connection (1): www.accenture.com:443\n"
     ]
    },
    {
     "name": "stdout",
     "output_type": "stream",
     "text": [
      "https://www.accenture.com//us-en/insights/us-federal-government/defining-cyber-moonshot\n"
     ]
    },
    {
     "name": "stderr",
     "output_type": "stream",
     "text": [
      "2020-03-10 14:35:49 [urllib3.connectionpool] DEBUG: https://www.accenture.com:443 \"GET //us-en/insights/us-federal-government/defining-cyber-moonshot HTTP/1.1\" 200 132665\n",
      "2020-03-10 14:35:50 [urllib3.connectionpool] DEBUG: Starting new HTTPS connection (1): www.accenture.com:443\n"
     ]
    },
    {
     "name": "stdout",
     "output_type": "stream",
     "text": [
      "https://www.accenture.com//us-en/insight-swiss-style-training\n"
     ]
    },
    {
     "name": "stderr",
     "output_type": "stream",
     "text": [
      "2020-03-10 14:35:50 [urllib3.connectionpool] DEBUG: https://www.accenture.com:443 \"GET //us-en/insight-swiss-style-training HTTP/1.1\" 200 153390\n",
      "2020-03-10 14:35:50 [urllib3.connectionpool] DEBUG: Starting new HTTPS connection (1): www.accenture.com:443\n"
     ]
    },
    {
     "name": "stdout",
     "output_type": "stream",
     "text": [
      "https://www.accenture.com//us-en/insight-new-travel-experience\n"
     ]
    },
    {
     "name": "stderr",
     "output_type": "stream",
     "text": [
      "2020-03-10 14:35:51 [urllib3.connectionpool] DEBUG: https://www.accenture.com:443 \"GET //us-en/insight-new-travel-experience HTTP/1.1\" 200 187261\n",
      "2020-03-10 14:35:51 [urllib3.connectionpool] DEBUG: Starting new HTTPS connection (1): www.accenture.com:443\n"
     ]
    },
    {
     "name": "stdout",
     "output_type": "stream",
     "text": [
      "https://www.accenture.com//us-en/insight-gold-medal-procurement\n"
     ]
    },
    {
     "name": "stderr",
     "output_type": "stream",
     "text": [
      "2020-03-10 14:35:52 [urllib3.connectionpool] DEBUG: https://www.accenture.com:443 \"GET //us-en/insight-gold-medal-procurement HTTP/1.1\" 200 183225\n",
      "2020-03-10 14:35:52 [urllib3.connectionpool] DEBUG: Starting new HTTPS connection (1): www.accenture.com:443\n"
     ]
    },
    {
     "name": "stdout",
     "output_type": "stream",
     "text": [
      "https://www.accenture.com//us-en/insight-defining-cyber-moonshot\n"
     ]
    },
    {
     "name": "stderr",
     "output_type": "stream",
     "text": [
      "2020-03-10 14:35:53 [urllib3.connectionpool] DEBUG: https://www.accenture.com:443 \"GET //us-en/insight-defining-cyber-moonshot HTTP/1.1\" 200 224071\n",
      "2020-03-10 14:35:53 [urllib3.connectionpool] DEBUG: Starting new HTTPS connection (1): www.accenture.com:443\n"
     ]
    },
    {
     "name": "stdout",
     "output_type": "stream",
     "text": [
      "https://www.accenture.com//us-en/insight-harness-power-of-disruption\n"
     ]
    },
    {
     "name": "stderr",
     "output_type": "stream",
     "text": [
      "2020-03-10 14:35:54 [urllib3.connectionpool] DEBUG: https://www.accenture.com:443 \"GET //us-en/insight-harness-power-of-disruption HTTP/1.1\" 200 424604\n",
      "2020-03-10 14:35:54 [scrapy.core.engine] DEBUG: Crawled (200) <GET https://www.accenture.com//us-en/insight-2017-upstream-oil-gas-digital-trends-survey> (referer: None)\n",
      "2020-03-10 14:35:54 [scrapy.core.engine] DEBUG: Crawled (200) <GET https://www.accenture.com//us-en/insight-global-risk-study-banking-2017> (referer: None)\n",
      "2020-03-10 14:35:54 [scrapy.core.engine] DEBUG: Crawled (200) <GET https://www.accenture.com//us-en/insight-veterans-affairs-it> (referer: None)\n",
      "2020-03-10 14:35:54 [scrapy.core.engine] DEBUG: Crawled (200) <GET https://www.accenture.com//us-en/insight-what-if-there-was-security-breach-nobody-cared> (referer: None)\n",
      "2020-03-10 14:35:54 [scrapy.core.engine] DEBUG: Crawled (200) <GET https://www.accenture.com//us-en/insight-airswift-total-workforce-intelligence> (referer: None)\n",
      "2020-03-10 14:35:54 [scrapy.core.engine] DEBUG: Crawled (200) <GET https://www.accenture.com//us-en/insight-global-risk-study-insurance-2017> (referer: None)\n",
      "2020-03-10 14:35:54 [scrapy.core.engine] DEBUG: Crawled (200) <GET https://www.accenture.com//us-en/insight-harnessing-the-power-of-ai> (referer: None)\n",
      "2020-03-10 14:35:55 [scrapy.core.engine] DEBUG: Crawled (200) <GET https://www.accenture.com//us-en/insight-global-risk-study-capital-markets-2017> (referer: None)\n",
      "2020-03-10 14:35:55 [urllib3.connectionpool] DEBUG: Starting new HTTPS connection (1): www.accenture.com:443\n"
     ]
    },
    {
     "name": "stdout",
     "output_type": "stream",
     "text": [
      "https://www.accenture.com//us-en/insight-2017-upstream-oil-gas-digital-trends-survey\n"
     ]
    },
    {
     "name": "stderr",
     "output_type": "stream",
     "text": [
      "2020-03-10 14:35:55 [urllib3.connectionpool] DEBUG: https://www.accenture.com:443 \"GET //us-en/insight-2017-upstream-oil-gas-digital-trends-survey HTTP/1.1\" 200 187296\n",
      "2020-03-10 14:35:55 [urllib3.connectionpool] DEBUG: Starting new HTTPS connection (1): www.accenture.com:443\n"
     ]
    },
    {
     "name": "stdout",
     "output_type": "stream",
     "text": [
      "https://www.accenture.com//us-en/insight-global-risk-study-banking-2017\n"
     ]
    },
    {
     "name": "stderr",
     "output_type": "stream",
     "text": [
      "2020-03-10 14:35:57 [urllib3.connectionpool] DEBUG: https://www.accenture.com:443 \"GET //us-en/insight-global-risk-study-banking-2017 HTTP/1.1\" 200 190543\n",
      "2020-03-10 14:35:57 [urllib3.connectionpool] DEBUG: Starting new HTTPS connection (1): www.accenture.com:443\n"
     ]
    },
    {
     "name": "stdout",
     "output_type": "stream",
     "text": [
      "https://www.accenture.com//us-en/insight-veterans-affairs-it\n"
     ]
    },
    {
     "name": "stderr",
     "output_type": "stream",
     "text": [
      "2020-03-10 14:35:58 [urllib3.connectionpool] DEBUG: https://www.accenture.com:443 \"GET //us-en/insight-veterans-affairs-it HTTP/1.1\" 200 187397\n",
      "2020-03-10 14:35:58 [urllib3.connectionpool] DEBUG: Starting new HTTPS connection (1): www.accenture.com:443\n"
     ]
    },
    {
     "name": "stdout",
     "output_type": "stream",
     "text": [
      "https://www.accenture.com//us-en/insight-what-if-there-was-security-breach-nobody-cared\n"
     ]
    },
    {
     "name": "stderr",
     "output_type": "stream",
     "text": [
      "2020-03-10 14:35:59 [urllib3.connectionpool] DEBUG: https://www.accenture.com:443 \"GET //us-en/insight-what-if-there-was-security-breach-nobody-cared HTTP/1.1\" 200 197550\n",
      "2020-03-10 14:35:59 [urllib3.connectionpool] DEBUG: Starting new HTTPS connection (1): www.accenture.com:443\n"
     ]
    },
    {
     "name": "stdout",
     "output_type": "stream",
     "text": [
      "https://www.accenture.com//us-en/insight-airswift-total-workforce-intelligence\n"
     ]
    },
    {
     "name": "stderr",
     "output_type": "stream",
     "text": [
      "2020-03-10 14:36:00 [urllib3.connectionpool] DEBUG: https://www.accenture.com:443 \"GET //us-en/insight-airswift-total-workforce-intelligence HTTP/1.1\" 200 178602\n",
      "2020-03-10 14:36:00 [scrapy.core.scraper] ERROR: Spider error processing <GET https://www.accenture.com//us-en/insight-airswift-total-workforce-intelligence> (referer: None)\n",
      "Traceback (most recent call last):\n",
      "  File \"D:\\ProgramData\\Anaconda3\\lib\\site-packages\\twisted\\internet\\defer.py\", line 654, in _runCallbacks\n",
      "    current.result = callback(current.result, *args, **kw)\n",
      "  File \"<ipython-input-223-16b4bf30b817>\", line 36, in parse\n",
      "    page_type = re.findall(type_regex, page_scripts)[0]\n",
      "IndexError: list index out of range\n",
      "2020-03-10 14:36:00 [urllib3.connectionpool] DEBUG: Starting new HTTPS connection (1): www.accenture.com:443\n"
     ]
    },
    {
     "name": "stdout",
     "output_type": "stream",
     "text": [
      "https://www.accenture.com//us-en/insight-global-risk-study-insurance-2017\n"
     ]
    },
    {
     "name": "stderr",
     "output_type": "stream",
     "text": [
      "2020-03-10 14:36:01 [urllib3.connectionpool] DEBUG: https://www.accenture.com:443 \"GET //us-en/insight-global-risk-study-insurance-2017 HTTP/1.1\" 200 178061\n",
      "2020-03-10 14:36:01 [urllib3.connectionpool] DEBUG: Starting new HTTPS connection (1): www.accenture.com:443\n"
     ]
    },
    {
     "name": "stdout",
     "output_type": "stream",
     "text": [
      "https://www.accenture.com//us-en/insight-harnessing-the-power-of-ai\n"
     ]
    },
    {
     "name": "stderr",
     "output_type": "stream",
     "text": [
      "2020-03-10 14:36:02 [urllib3.connectionpool] DEBUG: https://www.accenture.com:443 \"GET //us-en/insight-harnessing-the-power-of-ai HTTP/1.1\" 200 183651\n",
      "2020-03-10 14:36:02 [urllib3.connectionpool] DEBUG: Starting new HTTPS connection (1): www.accenture.com:443\n"
     ]
    },
    {
     "name": "stdout",
     "output_type": "stream",
     "text": [
      "https://www.accenture.com//us-en/insight-global-risk-study-capital-markets-2017\n"
     ]
    },
    {
     "name": "stderr",
     "output_type": "stream",
     "text": [
      "2020-03-10 14:36:03 [urllib3.connectionpool] DEBUG: https://www.accenture.com:443 \"GET //us-en/insight-global-risk-study-capital-markets-2017 HTTP/1.1\" 200 194322\n",
      "2020-03-10 14:36:03 [scrapy.core.engine] DEBUG: Crawled (200) <GET https://www.accenture.com//us-en/insight-cbp-innovating-border> (referer: None)\n",
      "2020-03-10 14:36:03 [scrapy.core.engine] DEBUG: Crawled (200) <GET https://www.accenture.com//us-en/insight-actionable-intelligence-with-mary-legere> (referer: None)\n",
      "2020-03-10 14:36:03 [scrapy.core.engine] DEBUG: Crawled (200) <GET https://www.accenture.com//us-en/insight-integration-not-aggregation> (referer: None)\n",
      "2020-03-10 14:36:03 [scrapy.core.engine] DEBUG: Crawled (200) <GET https://www.accenture.com//us-en/insight-analytics-driven-product-design> (referer: None)\n",
      "2020-03-10 14:36:03 [scrapy.core.engine] DEBUG: Crawled (200) <GET https://www.accenture.com//us-en/insight-ai-industry-growth> (referer: None)\n",
      "2020-03-10 14:36:03 [scrapy.core.engine] DEBUG: Crawled (200) <GET https://www.accenture.com//us-en/insight-oil-gas-digital-transformation> (referer: None)\n",
      "2020-03-10 14:36:03 [scrapy.core.engine] DEBUG: Crawled (200) <GET https://www.accenture.com//us-en/insights/insurance/future-insurance-claims> (referer: None)\n",
      "2020-03-10 14:36:03 [scrapy.core.engine] DEBUG: Crawled (200) <GET https://www.accenture.com//us-en/insight-new-digital-border-agency> (referer: None)\n",
      "2020-03-10 14:36:03 [urllib3.connectionpool] DEBUG: Starting new HTTPS connection (1): www.accenture.com:443\n"
     ]
    },
    {
     "name": "stdout",
     "output_type": "stream",
     "text": [
      "https://www.accenture.com//us-en/insight-cbp-innovating-border\n"
     ]
    },
    {
     "name": "stderr",
     "output_type": "stream",
     "text": [
      "2020-03-10 14:36:04 [urllib3.connectionpool] DEBUG: https://www.accenture.com:443 \"GET //us-en/insight-cbp-innovating-border HTTP/1.1\" 200 165744\n",
      "2020-03-10 14:36:04 [scrapy.downloadermiddlewares.redirect] DEBUG: Redirecting (301) to <GET https://www.accenture.com/us-en/blogs/blogs-sanjee-vohra-future-ready-workforce> from <GET https://www.accenture.com//us-en/blogs/blogs-main/blogs-technology-default/blogs-sanjee-vohra-future-ready-workforce>\n",
      "2020-03-10 14:36:04 [urllib3.connectionpool] DEBUG: Starting new HTTPS connection (1): www.accenture.com:443\n"
     ]
    },
    {
     "name": "stdout",
     "output_type": "stream",
     "text": [
      "https://www.accenture.com//us-en/insight-actionable-intelligence-with-mary-legere\n"
     ]
    },
    {
     "name": "stderr",
     "output_type": "stream",
     "text": [
      "2020-03-10 14:36:05 [urllib3.connectionpool] DEBUG: https://www.accenture.com:443 \"GET //us-en/insight-actionable-intelligence-with-mary-legere HTTP/1.1\" 200 165905\n",
      "2020-03-10 14:36:05 [urllib3.connectionpool] DEBUG: Starting new HTTPS connection (1): www.accenture.com:443\n"
     ]
    },
    {
     "name": "stdout",
     "output_type": "stream",
     "text": [
      "https://www.accenture.com//us-en/insight-integration-not-aggregation\n"
     ]
    },
    {
     "name": "stderr",
     "output_type": "stream",
     "text": [
      "2020-03-10 14:36:06 [urllib3.connectionpool] DEBUG: https://www.accenture.com:443 \"GET //us-en/insight-integration-not-aggregation HTTP/1.1\" 200 162307\n",
      "2020-03-10 14:36:06 [urllib3.connectionpool] DEBUG: Starting new HTTPS connection (1): www.accenture.com:443\n"
     ]
    },
    {
     "name": "stdout",
     "output_type": "stream",
     "text": [
      "https://www.accenture.com//us-en/insight-analytics-driven-product-design\n"
     ]
    },
    {
     "name": "stderr",
     "output_type": "stream",
     "text": [
      "2020-03-10 14:36:07 [urllib3.connectionpool] DEBUG: https://www.accenture.com:443 \"GET //us-en/insight-analytics-driven-product-design HTTP/1.1\" 200 131591\n",
      "2020-03-10 14:36:07 [urllib3.connectionpool] DEBUG: Starting new HTTPS connection (1): www.accenture.com:443\n"
     ]
    },
    {
     "name": "stdout",
     "output_type": "stream",
     "text": [
      "https://www.accenture.com//us-en/insight-ai-industry-growth\n"
     ]
    },
    {
     "name": "stderr",
     "output_type": "stream",
     "text": [
      "2020-03-10 14:36:08 [urllib3.connectionpool] DEBUG: https://www.accenture.com:443 \"GET //us-en/insight-ai-industry-growth HTTP/1.1\" 200 164587\n",
      "2020-03-10 14:36:08 [urllib3.connectionpool] DEBUG: Starting new HTTPS connection (1): www.accenture.com:443\n"
     ]
    },
    {
     "name": "stdout",
     "output_type": "stream",
     "text": [
      "https://www.accenture.com//us-en/insight-oil-gas-digital-transformation\n"
     ]
    },
    {
     "name": "stderr",
     "output_type": "stream",
     "text": [
      "2020-03-10 14:36:09 [urllib3.connectionpool] DEBUG: https://www.accenture.com:443 \"GET //us-en/insight-oil-gas-digital-transformation HTTP/1.1\" 200 157148\n",
      "2020-03-10 14:36:09 [urllib3.connectionpool] DEBUG: Starting new HTTPS connection (1): www.accenture.com:443\n"
     ]
    },
    {
     "name": "stdout",
     "output_type": "stream",
     "text": [
      "https://www.accenture.com//us-en/insights/insurance/future-insurance-claims\n"
     ]
    },
    {
     "name": "stderr",
     "output_type": "stream",
     "text": [
      "2020-03-10 14:36:10 [urllib3.connectionpool] DEBUG: https://www.accenture.com:443 \"GET //us-en/insights/insurance/future-insurance-claims HTTP/1.1\" 200 132280\n",
      "2020-03-10 14:36:10 [urllib3.connectionpool] DEBUG: Starting new HTTPS connection (1): www.accenture.com:443\n"
     ]
    },
    {
     "name": "stdout",
     "output_type": "stream",
     "text": [
      "https://www.accenture.com//us-en/insight-new-digital-border-agency\n"
     ]
    },
    {
     "name": "stderr",
     "output_type": "stream",
     "text": [
      "2020-03-10 14:36:11 [urllib3.connectionpool] DEBUG: https://www.accenture.com:443 \"GET //us-en/insight-new-digital-border-agency HTTP/1.1\" 200 175271\n",
      "2020-03-10 14:36:11 [scrapy.core.engine] DEBUG: Crawled (200) <GET https://www.accenture.com//us-en/insight-it-workforce-tomorrow> (referer: None)\n",
      "2020-03-10 14:36:11 [scrapy.core.engine] DEBUG: Crawled (200) <GET https://www.accenture.com//us-en/insights/insurance/technology-vision-insurance-2017> (referer: None)\n",
      "2020-03-10 14:36:11 [scrapy.core.engine] DEBUG: Crawled (200) <GET https://www.accenture.com//us-en/insight-intelligent-supply-chain-growth> (referer: None)\n",
      "2020-03-10 14:36:11 [scrapy.core.engine] DEBUG: Crawled (200) <GET https://www.accenture.com//us-en/insight-utilities-new-energy-consumer-2017> (referer: None)\n",
      "2020-03-10 14:36:11 [scrapy.core.engine] DEBUG: Crawled (200) <GET https://www.accenture.com//us-en/insight-precision-testing> (referer: None)\n",
      "2020-03-10 14:36:11 [scrapy.core.engine] DEBUG: Crawled (200) <GET https://www.accenture.com//us-en/insight-digital-health-digital-economy-innovation> (referer: None)\n",
      "2020-03-10 14:36:11 [scrapy.core.engine] DEBUG: Crawled (200) <GET https://www.accenture.com//us-en/insight-digital-health-artificial-intelligence-ui> (referer: None)\n",
      "2020-03-10 14:36:11 [urllib3.connectionpool] DEBUG: Starting new HTTPS connection (1): www.accenture.com:443\n"
     ]
    },
    {
     "name": "stdout",
     "output_type": "stream",
     "text": [
      "https://www.accenture.com//us-en/insight-it-workforce-tomorrow\n"
     ]
    },
    {
     "name": "stderr",
     "output_type": "stream",
     "text": [
      "2020-03-10 14:36:12 [urllib3.connectionpool] DEBUG: https://www.accenture.com:443 \"GET //us-en/insight-it-workforce-tomorrow HTTP/1.1\" 200 146224\n",
      "2020-03-10 14:36:12 [urllib3.connectionpool] DEBUG: Starting new HTTPS connection (1): www.accenture.com:443\n"
     ]
    },
    {
     "name": "stdout",
     "output_type": "stream",
     "text": [
      "https://www.accenture.com//us-en/insights/insurance/technology-vision-insurance-2017\n"
     ]
    },
    {
     "name": "stderr",
     "output_type": "stream",
     "text": [
      "2020-03-10 14:36:13 [urllib3.connectionpool] DEBUG: https://www.accenture.com:443 \"GET //us-en/insights/insurance/technology-vision-insurance-2017 HTTP/1.1\" 200 147386\n",
      "2020-03-10 14:36:13 [urllib3.connectionpool] DEBUG: Starting new HTTPS connection (1): www.accenture.com:443\n"
     ]
    },
    {
     "name": "stdout",
     "output_type": "stream",
     "text": [
      "https://www.accenture.com//us-en/insight-intelligent-supply-chain-growth\n"
     ]
    },
    {
     "name": "stderr",
     "output_type": "stream",
     "text": [
      "2020-03-10 14:36:14 [urllib3.connectionpool] DEBUG: https://www.accenture.com:443 \"GET //us-en/insight-intelligent-supply-chain-growth HTTP/1.1\" 200 197587\n",
      "2020-03-10 14:36:14 [urllib3.connectionpool] DEBUG: Starting new HTTPS connection (1): www.accenture.com:443\n"
     ]
    },
    {
     "name": "stdout",
     "output_type": "stream",
     "text": [
      "https://www.accenture.com//us-en/insight-utilities-new-energy-consumer-2017\n"
     ]
    },
    {
     "name": "stderr",
     "output_type": "stream",
     "text": [
      "2020-03-10 14:36:15 [urllib3.connectionpool] DEBUG: https://www.accenture.com:443 \"GET //us-en/insight-utilities-new-energy-consumer-2017 HTTP/1.1\" 200 218913\n",
      "2020-03-10 14:36:15 [urllib3.connectionpool] DEBUG: Starting new HTTPS connection (1): www.accenture.com:443\n"
     ]
    },
    {
     "name": "stdout",
     "output_type": "stream",
     "text": [
      "https://www.accenture.com//us-en/insight-precision-testing\n"
     ]
    },
    {
     "name": "stderr",
     "output_type": "stream",
     "text": [
      "2020-03-10 14:36:16 [urllib3.connectionpool] DEBUG: https://www.accenture.com:443 \"GET //us-en/insight-precision-testing HTTP/1.1\" 200 165031\n",
      "2020-03-10 14:36:16 [urllib3.connectionpool] DEBUG: Starting new HTTPS connection (1): www.accenture.com:443\n"
     ]
    },
    {
     "name": "stdout",
     "output_type": "stream",
     "text": [
      "https://www.accenture.com//us-en/insight-digital-health-digital-economy-innovation\n"
     ]
    },
    {
     "name": "stderr",
     "output_type": "stream",
     "text": [
      "2020-03-10 14:36:17 [urllib3.connectionpool] DEBUG: https://www.accenture.com:443 \"GET //us-en/insight-digital-health-digital-economy-innovation HTTP/1.1\" 200 224201\n",
      "2020-03-10 14:36:17 [urllib3.connectionpool] DEBUG: Starting new HTTPS connection (1): www.accenture.com:443\n"
     ]
    },
    {
     "name": "stdout",
     "output_type": "stream",
     "text": [
      "https://www.accenture.com//us-en/insight-digital-health-artificial-intelligence-ui\n"
     ]
    },
    {
     "name": "stderr",
     "output_type": "stream",
     "text": [
      "2020-03-10 14:36:18 [urllib3.connectionpool] DEBUG: https://www.accenture.com:443 \"GET //us-en/insight-digital-health-artificial-intelligence-ui HTTP/1.1\" 200 331890\n",
      "2020-03-10 14:36:18 [scrapy.core.engine] DEBUG: Crawled (200) <GET https://www.accenture.com//us-en/insight-service-design-empathy-meets-health-human-services-delivery> (referer: None)\n",
      "2020-03-10 14:36:18 [scrapy.core.engine] DEBUG: Crawled (200) <GET https://www.accenture.com//us-en/insight-artificial-intelligence-ui-testing> (referer: None)\n",
      "2020-03-10 14:36:18 [scrapy.core.engine] DEBUG: Crawled (200) <GET https://www.accenture.com//us-en/insight-potential-blockchain-technology-for-airlines> (referer: None)\n",
      "2020-03-10 14:36:18 [scrapy.core.engine] DEBUG: Crawled (200) <GET https://www.accenture.com//us-en/insights/financial-services/compliance-risk-study-2017-financial-services> (referer: None)\n",
      "2020-03-10 14:36:18 [scrapy.core.engine] DEBUG: Crawled (200) <GET https://www.accenture.com//us-en/insight-artificial-intelligence-ui> (referer: None)\n",
      "2020-03-10 14:36:18 [scrapy.core.engine] DEBUG: Crawled (200) <GET https://www.accenture.com//us-en/insight-digitally-powered-hr> (referer: None)\n",
      "2020-03-10 14:36:18 [scrapy.core.engine] DEBUG: Crawled (200) <GET https://www.accenture.com//us-en/insight-federal-cxo-guide-leading-the-new> (referer: None)\n",
      "2020-03-10 14:36:18 [scrapy.core.engine] DEBUG: Crawled (200) <GET https://www.accenture.com//us-en/insight-public-safety-digital-disruption> (referer: None)\n",
      "2020-03-10 14:36:18 [urllib3.connectionpool] DEBUG: Starting new HTTPS connection (1): www.accenture.com:443\n"
     ]
    },
    {
     "name": "stdout",
     "output_type": "stream",
     "text": [
      "https://www.accenture.com//us-en/insight-service-design-empathy-meets-health-human-services-delivery\n"
     ]
    },
    {
     "name": "stderr",
     "output_type": "stream",
     "text": [
      "2020-03-10 14:36:20 [urllib3.connectionpool] DEBUG: https://www.accenture.com:443 \"GET //us-en/insight-service-design-empathy-meets-health-human-services-delivery HTTP/1.1\" 200 148518\n",
      "2020-03-10 14:36:20 [scrapy.downloadermiddlewares.redirect] DEBUG: Redirecting (301) to <GET https://www.accenture.com/us-en/service-industry-x0> from <GET https://www.accenture.com//us-en/insight-digital-industry-solutions>\n",
      "2020-03-10 14:36:20 [urllib3.connectionpool] DEBUG: Starting new HTTPS connection (1): www.accenture.com:443\n"
     ]
    },
    {
     "name": "stdout",
     "output_type": "stream",
     "text": [
      "https://www.accenture.com//us-en/insight-artificial-intelligence-ui-testing\n"
     ]
    },
    {
     "name": "stderr",
     "output_type": "stream",
     "text": [
      "2020-03-10 14:36:21 [urllib3.connectionpool] DEBUG: https://www.accenture.com:443 \"GET //us-en/insight-artificial-intelligence-ui-testing HTTP/1.1\" 200 151390\n",
      "2020-03-10 14:36:21 [urllib3.connectionpool] DEBUG: Starting new HTTPS connection (1): www.accenture.com:443\n"
     ]
    },
    {
     "name": "stdout",
     "output_type": "stream",
     "text": [
      "https://www.accenture.com//us-en/insight-potential-blockchain-technology-for-airlines\n"
     ]
    },
    {
     "name": "stderr",
     "output_type": "stream",
     "text": [
      "2020-03-10 14:36:22 [urllib3.connectionpool] DEBUG: https://www.accenture.com:443 \"GET //us-en/insight-potential-blockchain-technology-for-airlines HTTP/1.1\" 200 142117\n",
      "2020-03-10 14:36:22 [urllib3.connectionpool] DEBUG: Starting new HTTPS connection (1): www.accenture.com:443\n"
     ]
    },
    {
     "name": "stdout",
     "output_type": "stream",
     "text": [
      "https://www.accenture.com//us-en/insights/financial-services/compliance-risk-study-2017-financial-services\n"
     ]
    },
    {
     "name": "stderr",
     "output_type": "stream",
     "text": [
      "2020-03-10 14:36:23 [urllib3.connectionpool] DEBUG: https://www.accenture.com:443 \"GET //us-en/insights/financial-services/compliance-risk-study-2017-financial-services HTTP/1.1\" 200 137022\n",
      "2020-03-10 14:36:23 [urllib3.connectionpool] DEBUG: Starting new HTTPS connection (1): www.accenture.com:443\n"
     ]
    },
    {
     "name": "stdout",
     "output_type": "stream",
     "text": [
      "https://www.accenture.com//us-en/insight-artificial-intelligence-ui\n"
     ]
    },
    {
     "name": "stderr",
     "output_type": "stream",
     "text": [
      "2020-03-10 14:36:23 [urllib3.connectionpool] DEBUG: https://www.accenture.com:443 \"GET //us-en/insight-artificial-intelligence-ui HTTP/1.1\" 200 152722\n",
      "2020-03-10 14:36:23 [urllib3.connectionpool] DEBUG: Starting new HTTPS connection (1): www.accenture.com:443\n"
     ]
    },
    {
     "name": "stdout",
     "output_type": "stream",
     "text": [
      "https://www.accenture.com//us-en/insight-digitally-powered-hr\n"
     ]
    },
    {
     "name": "stderr",
     "output_type": "stream",
     "text": [
      "2020-03-10 14:36:24 [urllib3.connectionpool] DEBUG: https://www.accenture.com:443 \"GET //us-en/insight-digitally-powered-hr HTTP/1.1\" 200 170110\n",
      "2020-03-10 14:36:24 [urllib3.connectionpool] DEBUG: Starting new HTTPS connection (1): www.accenture.com:443\n"
     ]
    },
    {
     "name": "stdout",
     "output_type": "stream",
     "text": [
      "https://www.accenture.com//us-en/insight-federal-cxo-guide-leading-the-new\n"
     ]
    },
    {
     "name": "stderr",
     "output_type": "stream",
     "text": [
      "2020-03-10 14:36:26 [urllib3.connectionpool] DEBUG: https://www.accenture.com:443 \"GET //us-en/insight-federal-cxo-guide-leading-the-new HTTP/1.1\" 200 226535\n",
      "2020-03-10 14:36:26 [urllib3.connectionpool] DEBUG: Starting new HTTPS connection (1): www.accenture.com:443\n"
     ]
    },
    {
     "name": "stdout",
     "output_type": "stream",
     "text": [
      "https://www.accenture.com//us-en/insight-public-safety-digital-disruption\n"
     ]
    },
    {
     "name": "stderr",
     "output_type": "stream",
     "text": [
      "2020-03-10 14:36:27 [urllib3.connectionpool] DEBUG: https://www.accenture.com:443 \"GET //us-en/insight-public-safety-digital-disruption HTTP/1.1\" 200 272223\n",
      "2020-03-10 14:36:27 [scrapy.core.engine] DEBUG: Crawled (200) <GET https://www.accenture.com//us-en/accenture-cracking-the-code> (referer: None)\n",
      "2020-03-10 14:36:27 [scrapy.core.engine] DEBUG: Crawled (200) <GET https://www.accenture.com/us-en/blogs/blogs-sanjee-vohra-future-ready-workforce> (referer: None)\n",
      "2020-03-10 14:36:27 [scrapy.core.engine] DEBUG: Crawled (200) <GET https://www.accenture.com//us-en/insight-industrial-consumerism> (referer: None)\n",
      "2020-03-10 14:36:27 [scrapy.core.engine] DEBUG: Crawled (200) <GET https://www.accenture.com//us-en/insight-north-american-chemical-industry> (referer: None)\n",
      "2020-03-10 14:36:27 [scrapy.core.engine] DEBUG: Crawled (200) <GET https://www.accenture.com//us-en/insight-managing-malware> (referer: None)\n",
      "2020-03-10 14:36:27 [scrapy.core.engine] DEBUG: Crawled (200) <GET https://www.accenture.com//us-en/insight-leading-cybersecurity-afs-qa-gus-hunt> (referer: None)\n",
      "2020-03-10 14:36:27 [scrapy.core.engine] DEBUG: Crawled (200) <GET https://www.accenture.com//us-en/insight-artificial-intelligence-future-growth> (referer: None)\n",
      "2020-03-10 14:36:27 [urllib3.connectionpool] DEBUG: Starting new HTTPS connection (1): www.accenture.com:443\n"
     ]
    },
    {
     "name": "stdout",
     "output_type": "stream",
     "text": [
      "https://www.accenture.com//us-en/accenture-cracking-the-code\n"
     ]
    },
    {
     "name": "stderr",
     "output_type": "stream",
     "text": [
      "2020-03-10 14:36:28 [urllib3.connectionpool] DEBUG: https://www.accenture.com:443 \"GET //us-en/accenture-cracking-the-code HTTP/1.1\" 200 167242\n",
      "2020-03-10 14:36:29 [urllib3.connectionpool] DEBUG: Starting new HTTPS connection (1): www.accenture.com:443\n"
     ]
    },
    {
     "name": "stdout",
     "output_type": "stream",
     "text": [
      "https://www.accenture.com/us-en/blogs/blogs-sanjee-vohra-future-ready-workforce\n"
     ]
    },
    {
     "name": "stderr",
     "output_type": "stream",
     "text": [
      "2020-03-10 14:36:30 [urllib3.connectionpool] DEBUG: https://www.accenture.com:443 \"GET /us-en/blogs/blogs-sanjee-vohra-future-ready-workforce HTTP/1.1\" 200 143005\n",
      "2020-03-10 14:36:30 [urllib3.connectionpool] DEBUG: Starting new HTTPS connection (1): www.accenture.com:443\n"
     ]
    },
    {
     "name": "stdout",
     "output_type": "stream",
     "text": [
      "https://www.accenture.com//us-en/insight-industrial-consumerism\n"
     ]
    },
    {
     "name": "stderr",
     "output_type": "stream",
     "text": [
      "2020-03-10 14:36:31 [urllib3.connectionpool] DEBUG: https://www.accenture.com:443 \"GET //us-en/insight-industrial-consumerism HTTP/1.1\" 200 163586\n",
      "2020-03-10 14:36:31 [urllib3.connectionpool] DEBUG: Starting new HTTPS connection (1): www.accenture.com:443\n"
     ]
    },
    {
     "name": "stdout",
     "output_type": "stream",
     "text": [
      "https://www.accenture.com//us-en/insight-north-american-chemical-industry\n"
     ]
    },
    {
     "name": "stderr",
     "output_type": "stream",
     "text": [
      "2020-03-10 14:36:36 [urllib3.connectionpool] DEBUG: https://www.accenture.com:443 \"GET //us-en/insight-north-american-chemical-industry HTTP/1.1\" 200 194150\n",
      "2020-03-10 14:36:36 [urllib3.connectionpool] DEBUG: Starting new HTTPS connection (1): www.accenture.com:443\n"
     ]
    },
    {
     "name": "stdout",
     "output_type": "stream",
     "text": [
      "https://www.accenture.com//us-en/insight-managing-malware\n"
     ]
    },
    {
     "name": "stderr",
     "output_type": "stream",
     "text": [
      "2020-03-10 14:36:37 [urllib3.connectionpool] DEBUG: https://www.accenture.com:443 \"GET //us-en/insight-managing-malware HTTP/1.1\" 200 187140\n",
      "2020-03-10 14:36:37 [urllib3.connectionpool] DEBUG: Starting new HTTPS connection (1): www.accenture.com:443\n"
     ]
    },
    {
     "name": "stdout",
     "output_type": "stream",
     "text": [
      "https://www.accenture.com//us-en/insight-leading-cybersecurity-afs-qa-gus-hunt\n"
     ]
    },
    {
     "name": "stderr",
     "output_type": "stream",
     "text": [
      "2020-03-10 14:36:38 [urllib3.connectionpool] DEBUG: https://www.accenture.com:443 \"GET //us-en/insight-leading-cybersecurity-afs-qa-gus-hunt HTTP/1.1\" 200 209063\n",
      "2020-03-10 14:36:38 [urllib3.connectionpool] DEBUG: Starting new HTTPS connection (1): www.accenture.com:443\n"
     ]
    },
    {
     "name": "stdout",
     "output_type": "stream",
     "text": [
      "https://www.accenture.com//us-en/insight-artificial-intelligence-future-growth\n"
     ]
    },
    {
     "name": "stderr",
     "output_type": "stream",
     "text": [
      "2020-03-10 14:36:39 [urllib3.connectionpool] DEBUG: https://www.accenture.com:443 \"GET //us-en/insight-artificial-intelligence-future-growth HTTP/1.1\" 200 225149\n",
      "2020-03-10 14:36:39 [scrapy.extensions.logstats] INFO: Crawled 497 pages (at 53 pages/min), scraped 0 items (at 0 items/min)\n",
      "2020-03-10 14:36:39 [scrapy.core.engine] DEBUG: Crawled (200) <GET https://www.accenture.com//us-en/insight-intelligent-functions> (referer: None)\n",
      "2020-03-10 14:36:39 [scrapy.core.engine] DEBUG: Crawled (200) <GET https://www.accenture.com//us-en/insight-enterprise-tech-trends-research> (referer: None)\n",
      "2020-03-10 14:36:39 [scrapy.core.engine] DEBUG: Crawled (200) <GET https://www.accenture.com//us-en/insight-public-safety-technology-vision> (referer: None)\n",
      "2020-03-10 14:36:39 [scrapy.core.engine] DEBUG: Crawled (200) <GET https://www.accenture.com//us-en/journey-federal-cloud> (referer: None)\n",
      "2020-03-10 14:36:39 [scrapy.core.engine] DEBUG: Crawled (200) <GET https://www.accenture.com//us-en/insight-art-and-science-content-production> (referer: None)\n",
      "2020-03-10 14:36:39 [scrapy.core.engine] DEBUG: Crawled (200) <GET https://www.accenture.com//us-en/insight-government-data-business-innovation> (referer: None)\n",
      "2020-03-10 14:36:39 [scrapy.core.engine] DEBUG: Crawled (200) <GET https://www.accenture.com//us-en/insight-product-launch-survey> (referer: None)\n",
      "2020-03-10 14:36:39 [scrapy.core.engine] DEBUG: Crawled (200) <GET https://www.accenture.com//us-en/service-digital-core> (referer: None)\n",
      "2020-03-10 14:36:39 [urllib3.connectionpool] DEBUG: Starting new HTTPS connection (1): www.accenture.com:443\n"
     ]
    },
    {
     "name": "stdout",
     "output_type": "stream",
     "text": [
      "https://www.accenture.com//us-en/insight-intelligent-functions\n"
     ]
    },
    {
     "name": "stderr",
     "output_type": "stream",
     "text": [
      "2020-03-10 14:36:40 [urllib3.connectionpool] DEBUG: https://www.accenture.com:443 \"GET //us-en/insight-intelligent-functions HTTP/1.1\" 200 157766\n",
      "2020-03-10 14:36:40 [scrapy.downloadermiddlewares.redirect] DEBUG: Redirecting (301) to <GET https://www.accenture.com/us-en/services/industryx0-index> from <GET https://www.accenture.com/us-en/service-industry-x0>\n",
      "2020-03-10 14:36:40 [urllib3.connectionpool] DEBUG: Starting new HTTPS connection (1): www.accenture.com:443\n"
     ]
    },
    {
     "name": "stdout",
     "output_type": "stream",
     "text": [
      "https://www.accenture.com//us-en/insight-enterprise-tech-trends-research\n"
     ]
    },
    {
     "name": "stderr",
     "output_type": "stream",
     "text": [
      "2020-03-10 14:36:41 [urllib3.connectionpool] DEBUG: https://www.accenture.com:443 \"GET //us-en/insight-enterprise-tech-trends-research HTTP/1.1\" 200 157754\n",
      "2020-03-10 14:36:41 [urllib3.connectionpool] DEBUG: Starting new HTTPS connection (1): www.accenture.com:443\n"
     ]
    },
    {
     "name": "stdout",
     "output_type": "stream",
     "text": [
      "https://www.accenture.com//us-en/insight-public-safety-technology-vision\n"
     ]
    },
    {
     "name": "stderr",
     "output_type": "stream",
     "text": [
      "2020-03-10 14:36:42 [urllib3.connectionpool] DEBUG: https://www.accenture.com:443 \"GET //us-en/insight-public-safety-technology-vision HTTP/1.1\" 200 179314\n",
      "2020-03-10 14:36:42 [urllib3.connectionpool] DEBUG: Starting new HTTPS connection (1): www.accenture.com:443\n"
     ]
    },
    {
     "name": "stdout",
     "output_type": "stream",
     "text": [
      "https://www.accenture.com//us-en/journey-federal-cloud\n"
     ]
    },
    {
     "name": "stderr",
     "output_type": "stream",
     "text": [
      "2020-03-10 14:36:43 [urllib3.connectionpool] DEBUG: https://www.accenture.com:443 \"GET //us-en/journey-federal-cloud HTTP/1.1\" 200 194434\n",
      "2020-03-10 14:36:43 [urllib3.connectionpool] DEBUG: Starting new HTTPS connection (1): www.accenture.com:443\n"
     ]
    },
    {
     "name": "stdout",
     "output_type": "stream",
     "text": [
      "https://www.accenture.com//us-en/insight-art-and-science-content-production\n"
     ]
    },
    {
     "name": "stderr",
     "output_type": "stream",
     "text": [
      "2020-03-10 14:36:44 [urllib3.connectionpool] DEBUG: https://www.accenture.com:443 \"GET //us-en/insight-art-and-science-content-production HTTP/1.1\" 200 149590\n",
      "2020-03-10 14:36:44 [urllib3.connectionpool] DEBUG: Starting new HTTPS connection (1): www.accenture.com:443\n"
     ]
    },
    {
     "name": "stdout",
     "output_type": "stream",
     "text": [
      "https://www.accenture.com//us-en/insight-government-data-business-innovation\n"
     ]
    },
    {
     "name": "stderr",
     "output_type": "stream",
     "text": [
      "2020-03-10 14:36:44 [urllib3.connectionpool] DEBUG: https://www.accenture.com:443 \"GET //us-en/insight-government-data-business-innovation HTTP/1.1\" 200 175241\n",
      "2020-03-10 14:36:45 [urllib3.connectionpool] DEBUG: Starting new HTTPS connection (1): www.accenture.com:443\n"
     ]
    },
    {
     "name": "stdout",
     "output_type": "stream",
     "text": [
      "https://www.accenture.com//us-en/insight-product-launch-survey\n"
     ]
    },
    {
     "name": "stderr",
     "output_type": "stream",
     "text": [
      "2020-03-10 14:36:45 [urllib3.connectionpool] DEBUG: https://www.accenture.com:443 \"GET //us-en/insight-product-launch-survey HTTP/1.1\" 200 200165\n",
      "2020-03-10 14:36:45 [urllib3.connectionpool] DEBUG: Starting new HTTPS connection (1): www.accenture.com:443\n"
     ]
    },
    {
     "name": "stdout",
     "output_type": "stream",
     "text": [
      "https://www.accenture.com//us-en/service-digital-core\n"
     ]
    },
    {
     "name": "stderr",
     "output_type": "stream",
     "text": [
      "2020-03-10 14:36:46 [urllib3.connectionpool] DEBUG: https://www.accenture.com:443 \"GET //us-en/service-digital-core HTTP/1.1\" 200 209850\n",
      "2020-03-10 14:36:46 [scrapy.core.engine] DEBUG: Crawled (200) <GET https://www.accenture.com//us-en/insight-digital-disruption-public-safety-organizations> (referer: None)\n",
      "2020-03-10 14:36:46 [scrapy.core.engine] DEBUG: Crawled (200) <GET https://www.accenture.com//us-en/insight-global-risk-study-2017> (referer: None)\n",
      "2020-03-10 14:36:46 [scrapy.core.engine] DEBUG: Crawled (200) <GET https://www.accenture.com//us-en/insight-2016-upstream-oil-gas-digital-trends-survey> (referer: None)\n",
      "2020-03-10 14:36:47 [urllib3.connectionpool] DEBUG: Starting new HTTPS connection (1): www.accenture.com:443\n"
     ]
    },
    {
     "name": "stdout",
     "output_type": "stream",
     "text": [
      "https://www.accenture.com//us-en/insight-digital-disruption-public-safety-organizations\n"
     ]
    },
    {
     "name": "stderr",
     "output_type": "stream",
     "text": [
      "2020-03-10 14:36:48 [urllib3.connectionpool] DEBUG: https://www.accenture.com:443 \"GET //us-en/insight-digital-disruption-public-safety-organizations HTTP/1.1\" 200 164794\n",
      "2020-03-10 14:36:48 [urllib3.connectionpool] DEBUG: Starting new HTTPS connection (1): www.accenture.com:443\n"
     ]
    },
    {
     "name": "stdout",
     "output_type": "stream",
     "text": [
      "https://www.accenture.com//us-en/insight-global-risk-study-2017\n"
     ]
    },
    {
     "name": "stderr",
     "output_type": "stream",
     "text": [
      "2020-03-10 14:36:49 [urllib3.connectionpool] DEBUG: https://www.accenture.com:443 \"GET //us-en/insight-global-risk-study-2017 HTTP/1.1\" 200 226829\n",
      "2020-03-10 14:36:49 [urllib3.connectionpool] DEBUG: Starting new HTTPS connection (1): www.accenture.com:443\n"
     ]
    },
    {
     "name": "stdout",
     "output_type": "stream",
     "text": [
      "https://www.accenture.com//us-en/insight-2016-upstream-oil-gas-digital-trends-survey\n"
     ]
    },
    {
     "name": "stderr",
     "output_type": "stream",
     "text": [
      "2020-03-10 14:36:50 [urllib3.connectionpool] DEBUG: https://www.accenture.com:443 \"GET //us-en/insight-2016-upstream-oil-gas-digital-trends-survey HTTP/1.1\" 200 194757\n",
      "2020-03-10 14:36:50 [scrapy.core.engine] DEBUG: Crawled (200) <GET https://www.accenture.com/us-en/services/industryx0-index> (referer: None)\n",
      "2020-03-10 14:36:50 [urllib3.connectionpool] DEBUG: Starting new HTTPS connection (1): www.accenture.com:443\n"
     ]
    },
    {
     "name": "stdout",
     "output_type": "stream",
     "text": [
      "https://www.accenture.com/us-en/services/industryx0-index\n"
     ]
    },
    {
     "name": "stderr",
     "output_type": "stream",
     "text": [
      "2020-03-10 14:36:51 [urllib3.connectionpool] DEBUG: https://www.accenture.com:443 \"GET /us-en/services/industryx0-index HTTP/1.1\" 200 174908\n",
      "2020-03-10 14:36:51 [scrapy.core.scraper] ERROR: Spider error processing <GET https://www.accenture.com/us-en/services/industryx0-index> (referer: None)\n",
      "Traceback (most recent call last):\n",
      "  File \"D:\\ProgramData\\Anaconda3\\lib\\site-packages\\twisted\\internet\\defer.py\", line 654, in _runCallbacks\n",
      "    current.result = callback(current.result, *args, **kw)\n",
      "  File \"<ipython-input-223-16b4bf30b817>\", line 36, in parse\n",
      "    page_type = re.findall(type_regex, page_scripts)[0]\n",
      "IndexError: list index out of range\n",
      "2020-03-10 14:36:51 [scrapy.core.engine] INFO: Closing spider (finished)\n",
      "2020-03-10 14:36:51 [scrapy.statscollectors] INFO: Dumping Scrapy stats:\n",
      "{'downloader/request_bytes': 150700,\n",
      " 'downloader/request_count': 512,\n",
      " 'downloader/request_method_count/GET': 512,\n",
      " 'downloader/response_bytes': 78746469,\n",
      " 'downloader/response_count': 512,\n",
      " 'downloader/response_status_count/200': 509,\n",
      " 'downloader/response_status_count/301': 3,\n",
      " 'dupefilter/filtered': 10,\n",
      " 'finish_reason': 'finished',\n",
      " 'finish_time': datetime.datetime(2020, 3, 10, 13, 36, 51, 702057),\n",
      " 'log_count/DEBUG': 1532,\n",
      " 'log_count/ERROR': 2,\n",
      " 'log_count/INFO': 17,\n",
      " 'response_received_count': 509,\n",
      " 'scheduler/dequeued': 512,\n",
      " 'scheduler/dequeued/memory': 512,\n",
      " 'scheduler/enqueued': 512,\n",
      " 'scheduler/enqueued/memory': 512,\n",
      " 'spider_exceptions/IndexError': 2,\n",
      " 'start_time': datetime.datetime(2020, 3, 10, 13, 27, 36, 775106)}\n",
      "2020-03-10 14:36:51 [scrapy.core.engine] INFO: Spider closed (finished)\n"
     ]
    }
   ],
   "source": [
    "from scrapy.crawler import CrawlerProcess\n",
    "\n",
    "# Create class\n",
    "class accenture_spider (scrapy.Spider):\n",
    "    name = \"accenture_spider\"\n",
    "    \n",
    "    def start_requests(self):\n",
    "        urls = urllist\n",
    "        \n",
    "        for url in urls:\n",
    "            yield scrapy.Request(url = url, callback = self.parse)\n",
    "            \n",
    "    #Parsing\n",
    "    def parse(self, response):\n",
    "        print(response.url)\n",
    "                \n",
    "        page_dict = dict()\n",
    "        siteno = len(main_dict) + 1\n",
    "        \n",
    "        page_url = response.url\n",
    "        \n",
    "        page_html = requests.get(page_url).content\n",
    "        page_sel = Selector(text = page_html)\n",
    "        \n",
    "        date_regex = r'(?<=\\\"issueDate\\\":\\\")\\d{4}\\-\\d{1,2}\\-\\d{1,2}'\n",
    "        type_regex = r'(?<=\\\"contentType\\\":\\\")\\w{2,15}(?=\\\",)'\n",
    "\n",
    "        page_scripts = page_sel.css('script ::text').extract()\n",
    "        page_scripts = ' '.join(page_scripts)\n",
    "\n",
    "        page_id = 'site' + str(siteno)\n",
    "\n",
    "        page_title = page_sel.css('title ::text').extract_first()\n",
    "        page_date = re.findall(date_regex, page_scripts)[0]\n",
    "        page_dldate = date.today().strftime('%Y/%m/%d')\n",
    "        page_type = re.findall(type_regex, page_scripts)[0]\n",
    "        page_text = page_sel.css('div.block-content > div > div > div > article ::text').extract()\n",
    "        page_text.append(' '.join(page_sel.css('div#content-wrapper > section > div > div > section > div > div > div.component.richtext ::text').extract()))\n",
    "        page_text = ' '.join(page_text)\n",
    "\n",
    "        page_dict['url'] = page_url\n",
    "        page_dict['title'] = page_title\n",
    "        page_dict['article date'] = page_date\n",
    "        page_dict['download date'] = page_dldate\n",
    "        page_dict['text type'] = page_type\n",
    "        page_dict['text'] = page_text\n",
    "        page_dict['agency'] = \"Accenture\"\n",
    "\n",
    "        main_dict[page_id] = page_dict\n",
    "        \n",
    "# Initiatlize dictionary\n",
    "main_dict = dict()\n",
    "\n",
    "#Run spider\n",
    "process = CrawlerProcess()\n",
    "siteno = 0\n",
    "process.crawl(accenture_spider)\n",
    "process.start()"
   ]
  },
  {
   "cell_type": "code",
   "execution_count": 224,
   "metadata": {},
   "outputs": [
    {
     "data": {
      "text/plain": [
       "<DeferredList at 0x1ea49e5d2b0 current result: []>"
      ]
     },
     "execution_count": 224,
     "metadata": {},
     "output_type": "execute_result"
    }
   ],
   "source": [
    "process.stop()"
   ]
  },
  {
   "cell_type": "code",
   "execution_count": 225,
   "metadata": {},
   "outputs": [
    {
     "data": {
      "text/plain": [
       "507"
      ]
     },
     "execution_count": 225,
     "metadata": {},
     "output_type": "execute_result"
    }
   ],
   "source": [
    "len(main_dict)"
   ]
  },
  {
   "cell_type": "code",
   "execution_count": 226,
   "metadata": {},
   "outputs": [],
   "source": [
    "import json\n",
    "\n",
    "with open('..\\\\data_raw\\\\articles\\\\accenture_articles.json', 'w') as file:\n",
    "    json.dump(main_dict, file)"
   ]
  }
 ],
 "metadata": {
  "kernelspec": {
   "display_name": "Python 3",
   "language": "python",
   "name": "python3"
  },
  "language_info": {
   "codemirror_mode": {
    "name": "ipython",
    "version": 3
   },
   "file_extension": ".py",
   "mimetype": "text/x-python",
   "name": "python",
   "nbconvert_exporter": "python",
   "pygments_lexer": "ipython3",
   "version": "3.7.9"
  }
 },
 "nbformat": 4,
 "nbformat_minor": 4
}
