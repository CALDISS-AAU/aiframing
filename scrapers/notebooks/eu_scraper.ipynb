{
 "cells": [
  {
   "cell_type": "code",
   "execution_count": 78,
   "metadata": {},
   "outputs": [],
   "source": [
    "import requests\n",
    "import scrapy\n",
    "from scrapy import Selector\n",
    "import pandas as pd\n",
    "import re\n",
    "from bs4 import BeautifulSoup as bs\n",
    "from itertools import compress\n",
    "import time\n",
    "import os"
   ]
  },
  {
   "cell_type": "markdown",
   "metadata": {},
   "source": [
    "# European Commission communications - REGDOC\n",
    "\n",
    "https://ec.europa.eu/search/?queryText=artificial+intelligence&query_source=REGDOC&page=1"
   ]
  },
  {
   "cell_type": "code",
   "execution_count": 69,
   "metadata": {},
   "outputs": [],
   "source": [
    "def get_pdfs(url, query, source, page, f_format, locator):\n",
    "    request_url = url.format(query = query, source = source, page = page, f_format = f_format)\n",
    "    \n",
    "    i = 5\n",
    "    \n",
    "    while i > 0:\n",
    "        try:\n",
    "            response = requests.get(request_url, timeout = 5.0)\n",
    "            search_sel = Selector(text = response.content)\n",
    "    \n",
    "            url_list = search_sel.css(locator).extract()\n",
    "            pdf_list = list(set(compress(url_list, [url.lower().endswith(\".pdf\") for url in url_list])))\n",
    "        \n",
    "            if len(pdf_list) > 0:\n",
    "                return(pdf_list)\n",
    "            else:\n",
    "                i = i - 1\n",
    "                time.sleep(0.2)\n",
    "        except:\n",
    "            i = i - 1\n",
    "            time.sleep(0.2)\n",
    "            \n",
    "    return(pdf_list)"
   ]
  },
  {
   "cell_type": "code",
   "execution_count": 70,
   "metadata": {},
   "outputs": [],
   "source": [
    "MAIN_URL = \"https://ec.europa.eu/search/?queryText={query}&query_source={source}&swlang=en&page={page}&more_options_f_formats={f_format}\"\n",
    "\n",
    "f_format = \"pdf\"\n",
    "query_source = \"REGDOC\"\n",
    "query_text = \"artificial+intelligence\"\n",
    "\n",
    "item_locator = \"a.ecl-link::attr(href)\"\n",
    "\n",
    "pdf_list_all = []\n",
    "pagenum = 1\n",
    "\n",
    "pdf_list = get_pdfs(MAIN_URL, query_text, query_source, str(pagenum), f_format, item_locator)\n",
    "pdf_list_all = pdf_list_all + pdf_list\n",
    "\n",
    "while len(pdf_list) > 0:\n",
    "    pagenum = pagenum + 1\n",
    "    pdf_list = get_pdfs(MAIN_URL, query_text, query_source, str(pagenum), f_format, item_locator)\n",
    "    pdf_list_all = pdf_list_all + pdf_list\n",
    "    time.sleep(0.5)"
   ]
  },
  {
   "cell_type": "code",
   "execution_count": 85,
   "metadata": {},
   "outputs": [
    {
     "name": "stdout",
     "output_type": "stream",
     "text": [
      "Completed: 100.00%\r"
     ]
    }
   ],
   "source": [
    "eudir = \"../data_raw/EU/\"\n",
    "datadir = \"../data_raw/EU/regdoc/\"\n",
    "if not os.path.isdir(eudir):\n",
    "    os.mkdir(eudir)\n",
    "    \n",
    "if not os.path.isdir(datadir):\n",
    "    os.mkdir(datadir)\n",
    "\n",
    "for c, pdf_url in enumerate(pdf_list_all):\n",
    "    r = requests.get(pdf_url, stream = True)\n",
    "    filename = re.search(\".*\\/(.*\\.pdf)\", pdf_url, re.IGNORECASE).group(1)\n",
    "    with open(datadir + filename, 'wb') as f:\n",
    "        f.write(r.content)\n",
    "    print('Completed: {:.2f}%'.format(100.0*c/(len(pdf_list_all)-1)), end='\\r')\n",
    "    time.sleep(0.2)"
   ]
  },
  {
   "cell_type": "markdown",
   "metadata": {},
   "source": [
    "# Blog posts\n",
    "https://ec.europa.eu/digital-single-market/en/blogs/76174/76175?page=\n",
    "\n",
    "(starts at page 0)"
   ]
  },
  {
   "cell_type": "markdown",
   "metadata": {},
   "source": [
    "# Policy spider\n",
    "https://ec.europa.eu/digital-single-market/en/artificial-intelligence"
   ]
  }
 ],
 "metadata": {
  "kernelspec": {
   "display_name": "Python 3",
   "language": "python",
   "name": "python3"
  },
  "language_info": {
   "codemirror_mode": {
    "name": "ipython",
    "version": 3
   },
   "file_extension": ".py",
   "mimetype": "text/x-python",
   "name": "python",
   "nbconvert_exporter": "python",
   "pygments_lexer": "ipython3",
   "version": "3.6.10"
  }
 },
 "nbformat": 4,
 "nbformat_minor": 4
}
