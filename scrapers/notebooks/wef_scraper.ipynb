{
 "cells": [
  {
   "cell_type": "code",
   "execution_count": 129,
   "metadata": {},
   "outputs": [],
   "source": [
    "from bs4 import BeautifulSoup as bs\n",
    "import requests\n",
    "import re\n",
    "import random\n",
    "import time\n",
    "from datetime import datetime as dt\n",
    "import json"
   ]
  },
  {
   "cell_type": "code",
   "execution_count": 36,
   "metadata": {},
   "outputs": [],
   "source": [
    "start_url = \"https://www.weforum.org/agenda/archive/fourth-industrial-revolution\""
   ]
  },
  {
   "cell_type": "code",
   "execution_count": 37,
   "metadata": {},
   "outputs": [],
   "source": [
    "def get_urls(url):\n",
    "    content = requests.get(url).content\n",
    "    soup = bs(content, 'html.parser')\n",
    "    \n",
    "    articles_soup = soup.find_all('article', class_ = 'tout--article')\n",
    "        \n",
    "    links_soup = [soup.find('a', class_ = 'tout__link') for soup in articles_soup]\n",
    "    \n",
    "    links =  [soup['href'] for soup in links_soup]\n",
    "    \n",
    "    return(links)"
   ]
  },
  {
   "cell_type": "code",
   "execution_count": 38,
   "metadata": {},
   "outputs": [],
   "source": [
    "def get_pageno(url = \"https://www.weforum.org/agenda/archive/fourth-industrial-revolution\"):\n",
    "    content = requests.get(url).content\n",
    "    soup = bs(content, 'html.parser')\n",
    "    \n",
    "    pagitext = soup.find('div', class_ = \"pagination__page-info\").get_text()\n",
    "    \n",
    "    page_re = re.compile(r'(?<=\\d/)\\d{1,4}')\n",
    "    \n",
    "    pageno = page_re.findall(pagitext)[0]\n",
    "    \n",
    "    return(pageno)"
   ]
  },
  {
   "cell_type": "code",
   "execution_count": 41,
   "metadata": {},
   "outputs": [],
   "source": [
    "def get_all_urls(url = \"https://www.weforum.org/agenda/archive/fourth-industrial-revolution\"):\n",
    "    last_pageno = int(get_pageno(url))\n",
    "    \n",
    "    links = []\n",
    "    \n",
    "    for c, i in enumerate(range(1,last_pageno+1), start = 1):\n",
    "        page_url = url + \"?page=\" + str(i)\n",
    "        page_links = get_urls(page_url)\n",
    "\n",
    "        links = links + page_links\n",
    "\n",
    "        sleep_time = random.uniform(0.3, 0.6)\n",
    "        time.sleep(sleep_time)\n",
    "        \n",
    "        print(\"{:.2f}% completed with {} links extracted\".format(100.0 * c/last_pageno, len(links)), end = \"\\r\")\n",
    "    \n",
    "    return(links)"
   ]
  },
  {
   "cell_type": "code",
   "execution_count": 42,
   "metadata": {},
   "outputs": [
    {
     "name": "stdout",
     "output_type": "stream",
     "text": [
      "100.00% completed\r"
     ]
    }
   ],
   "source": [
    "wef_links = get_all_urls()"
   ]
  },
  {
   "cell_type": "code",
   "execution_count": 82,
   "metadata": {},
   "outputs": [],
   "source": [
    "len(wef_links)\n",
    "\n",
    "with open('../../data/urls/wef_urls.txt', 'w') as f:\n",
    "    for line in wef_links:\n",
    "        f.write(line + \"\\n\")"
   ]
  },
  {
   "cell_type": "code",
   "execution_count": 89,
   "metadata": {},
   "outputs": [],
   "source": [
    "def get_article_links(soup):\n",
    "    \n",
    "    links = []\n",
    "    \n",
    "    for s in soup.find_all('a'):\n",
    "        try:\n",
    "            links.append(s['href'])\n",
    "        except:\n",
    "            continue\n",
    "    \n",
    "    return(links)"
   ]
  },
  {
   "cell_type": "code",
   "execution_count": 137,
   "metadata": {},
   "outputs": [],
   "source": [
    "def get_article_info(url):\n",
    "    content = requests.get(url).content\n",
    "    soup = bs(content, 'html.parser')\n",
    "    \n",
    "    try:\n",
    "        article_soup = soup.find('div', class_ = 'article-show-container').find('div', class_ = \"article-body\")\n",
    "    except:\n",
    "        article_soup = soup.find('section', class_ = 'article-story__body')\n",
    "    \n",
    "    article_dict = {}\n",
    "    \n",
    "    article_dict['title'] = soup.title.get_text()\n",
    "    article_dict['url'] = url\n",
    "    article_dict['publish_date'] = soup.find(class_ = 'article-published').get_text()\n",
    "    article_dict['access_date'] = str(dt.now().date())\n",
    "    article_dict['links'] = get_article_links(article_soup)\n",
    "    article_dict['html'] = str(article_soup)\n",
    "    article_dict['text'] = article_soup.get_text()\n",
    "    \n",
    "    return(article_dict)"
   ]
  },
  {
   "cell_type": "code",
   "execution_count": 128,
   "metadata": {},
   "outputs": [
    {
     "name": "stdout",
     "output_type": "stream",
     "text": [
      "100.00% of articles downloaded\r"
     ]
    },
    {
     "ename": "NameError",
     "evalue": "name 'json' is not defined",
     "output_type": "error",
     "traceback": [
      "\u001b[1;31m---------------------------------------------------------------------------\u001b[0m",
      "\u001b[1;31mNameError\u001b[0m                                 Traceback (most recent call last)",
      "\u001b[1;32m<ipython-input-128-d01ed1b882a9>\u001b[0m in \u001b[0;36m<module>\u001b[1;34m()\u001b[0m\n\u001b[0;32m     13\u001b[0m \u001b[1;33m\u001b[0m\u001b[0m\n\u001b[0;32m     14\u001b[0m \u001b[1;32mwith\u001b[0m \u001b[0mopen\u001b[0m\u001b[1;33m(\u001b[0m\u001b[1;34m'../../data/raw/articles/wef_articles.json'\u001b[0m\u001b[1;33m,\u001b[0m \u001b[1;34m'w'\u001b[0m\u001b[1;33m)\u001b[0m \u001b[1;32mas\u001b[0m \u001b[0mf\u001b[0m\u001b[1;33m:\u001b[0m\u001b[1;33m\u001b[0m\u001b[1;33m\u001b[0m\u001b[0m\n\u001b[1;32m---> 15\u001b[1;33m     \u001b[0mjson\u001b[0m\u001b[1;33m.\u001b[0m\u001b[0mdumps\u001b[0m\u001b[1;33m(\u001b[0m\u001b[0marticles\u001b[0m\u001b[1;33m,\u001b[0m \u001b[0mf\u001b[0m\u001b[1;33m)\u001b[0m\u001b[1;33m\u001b[0m\u001b[1;33m\u001b[0m\u001b[0m\n\u001b[0m",
      "\u001b[1;31mNameError\u001b[0m: name 'json' is not defined"
     ]
    }
   ],
   "source": [
    "articles = list()\n",
    "\n",
    "for c, link in enumerate(wef_links, start = 1):\n",
    "    if requests.get(link).status_code != 200:\n",
    "        continue\n",
    "    art_dict = get_article_info(link)\n",
    "    articles.append(art_dict)\n",
    "      \n",
    "    print(\"{:.2f}% of articles downloaded\".format(100.0 * c/len(wef_links)), end = '\\r')\n",
    "    \n",
    "    sleep_time = random.uniform(0.3, 0.9)\n",
    "    time.sleep(sleep_time)"
   ]
  },
  {
   "cell_type": "code",
   "execution_count": 136,
   "metadata": {},
   "outputs": [],
   "source": [
    "with open('../../data/raw/articles/wef_articles.json', 'w') as f:\n",
    "    json.dump(articles, f)"
   ]
  }
 ],
 "metadata": {
  "kernelspec": {
   "display_name": "Python 3",
   "language": "python",
   "name": "python3"
  },
  "language_info": {
   "codemirror_mode": {
    "name": "ipython",
    "version": 3
   },
   "file_extension": ".py",
   "mimetype": "text/x-python",
   "name": "python",
   "nbconvert_exporter": "python",
   "pygments_lexer": "ipython3",
   "version": "3.7.9"
  }
 },
 "nbformat": 4,
 "nbformat_minor": 4
}
